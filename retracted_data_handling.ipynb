{
 "cells": [
  {
   "cell_type": "code",
   "execution_count": 1,
   "id": "00b3ab1b",
   "metadata": {},
   "outputs": [],
   "source": [
    "import pandas as pd\n",
    "import numpy as np"
   ]
  },
  {
   "cell_type": "code",
   "execution_count": 2,
   "id": "f407ecbc",
   "metadata": {},
   "outputs": [
    {
     "name": "stdout",
     "output_type": "stream",
     "text": [
      "26982\n"
     ]
    }
   ],
   "source": [
    "data = pd.read_excel(\"raw_data.xlsx\")\n",
    "print(len(data))"
   ]
  },
  {
   "cell_type": "code",
   "execution_count": 3,
   "id": "2903414b",
   "metadata": {},
   "outputs": [
    {
     "name": "stdout",
     "output_type": "stream",
     "text": [
      "auto_id                    int64\n",
      "Record ID                  int64\n",
      "Title                     object\n",
      "Subject                   object\n",
      "Institution               object\n",
      "Journal                   object\n",
      "Publisher                 object\n",
      "Country                   object\n",
      "Author                    object\n",
      "URLS                      object\n",
      "ArticleType               object\n",
      "RetractionDate            object\n",
      "RetractionDOI             object\n",
      "RetractionPubMedID       float64\n",
      "OriginalPaperDate         object\n",
      "OriginalPaperDOI          object\n",
      "OriginalPaperPubMedID    float64\n",
      "RetractionNature          object\n",
      "Reason                    object\n",
      "Paywalled                 object\n",
      "Notes                     object\n",
      "dtype: object\n"
     ]
    }
   ],
   "source": [
    "print(data.dtypes)\n"
   ]
  },
  {
   "cell_type": "code",
   "execution_count": 4,
   "id": "2d39d994",
   "metadata": {},
   "outputs": [
    {
     "name": "stdout",
     "output_type": "stream",
     "text": [
      "26982\n"
     ]
    }
   ],
   "source": [
    "new = pd.DataFrame()\n",
    "new['doi'] = data['RetractionDOI']\n",
    "new['Journal'] = data['Journal']\n",
    "print(len(new))"
   ]
  },
  {
   "cell_type": "code",
   "execution_count": 5,
   "id": "3bb774af",
   "metadata": {},
   "outputs": [],
   "source": [
    "new.to_csv(\"retrected_doi_wos.csv\", index = False)"
   ]
  },
  {
   "cell_type": "code",
   "execution_count": null,
   "id": "1f5bd73b",
   "metadata": {},
   "outputs": [],
   "source": []
  }
 ],
 "metadata": {
  "kernelspec": {
   "display_name": "Python 3 (ipykernel)",
   "language": "python",
   "name": "python3"
  },
  "language_info": {
   "codemirror_mode": {
    "name": "ipython",
    "version": 3
   },
   "file_extension": ".py",
   "mimetype": "text/x-python",
   "name": "python",
   "nbconvert_exporter": "python",
   "pygments_lexer": "ipython3",
   "version": "3.9.6"
  }
 },
 "nbformat": 4,
 "nbformat_minor": 5
}
