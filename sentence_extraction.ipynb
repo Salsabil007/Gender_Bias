{
 "cells": [
  {
   "cell_type": "code",
   "execution_count": 1,
   "id": "81707850",
   "metadata": {},
   "outputs": [
    {
     "name": "stderr",
     "output_type": "stream",
     "text": [
      "2023-08-16 10:46:39.353014: I tensorflow/compiler/jit/xla_cpu_device.cc:41] Not creating XLA devices, tf_xla_enable_xla_devices not set\n"
     ]
    }
   ],
   "source": [
    "import requests \n",
    "import pandas as pd \n",
    "from bs4 import BeautifulSoup \n",
    "import trafilatura\n",
    "import spacy"
   ]
  },
  {
   "cell_type": "code",
   "execution_count": 10,
   "id": "f32b9040",
   "metadata": {},
   "outputs": [
    {
     "name": "stdout",
     "output_type": "stream",
     "text": [
      "Collecting en-core-web-sm==3.5.0\n",
      "  Downloading https://github.com/explosion/spacy-models/releases/download/en_core_web_sm-3.5.0/en_core_web_sm-3.5.0-py3-none-any.whl (12.8 MB)\n",
      "     ━━━━━━━━━━━━━━━━━━━━━━━━━━━━━━━━━━━━━━━━ 12.8/12.8 MB 21.6 MB/s eta 0:00:00\n",
      "Requirement already satisfied: spacy<3.6.0,>=3.5.0 in /home/arabi/anaconda3/envs/env/lib/python3.9/site-packages (from en-core-web-sm==3.5.0) (3.5.1)\n",
      "Requirement already satisfied: spacy-legacy<3.1.0,>=3.0.11 in /home/arabi/anaconda3/envs/env/lib/python3.9/site-packages (from spacy<3.6.0,>=3.5.0->en-core-web-sm==3.5.0) (3.0.12)\n",
      "Requirement already satisfied: spacy-loggers<2.0.0,>=1.0.0 in /home/arabi/anaconda3/envs/env/lib/python3.9/site-packages (from spacy<3.6.0,>=3.5.0->en-core-web-sm==3.5.0) (1.0.4)\n",
      "Requirement already satisfied: murmurhash<1.1.0,>=0.28.0 in /home/arabi/anaconda3/envs/env/lib/python3.9/site-packages (from spacy<3.6.0,>=3.5.0->en-core-web-sm==3.5.0) (1.0.9)\n",
      "Requirement already satisfied: cymem<2.1.0,>=2.0.2 in /home/arabi/anaconda3/envs/env/lib/python3.9/site-packages (from spacy<3.6.0,>=3.5.0->en-core-web-sm==3.5.0) (2.0.7)\n",
      "Requirement already satisfied: preshed<3.1.0,>=3.0.2 in /home/arabi/anaconda3/envs/env/lib/python3.9/site-packages (from spacy<3.6.0,>=3.5.0->en-core-web-sm==3.5.0) (3.0.8)\n",
      "Requirement already satisfied: thinc<8.2.0,>=8.1.8 in /home/arabi/anaconda3/envs/env/lib/python3.9/site-packages (from spacy<3.6.0,>=3.5.0->en-core-web-sm==3.5.0) (8.1.9)\n",
      "Requirement already satisfied: wasabi<1.2.0,>=0.9.1 in /home/arabi/anaconda3/envs/env/lib/python3.9/site-packages (from spacy<3.6.0,>=3.5.0->en-core-web-sm==3.5.0) (1.1.1)\n",
      "Requirement already satisfied: srsly<3.0.0,>=2.4.3 in /home/arabi/anaconda3/envs/env/lib/python3.9/site-packages (from spacy<3.6.0,>=3.5.0->en-core-web-sm==3.5.0) (2.4.6)\n",
      "Requirement already satisfied: catalogue<2.1.0,>=2.0.6 in /home/arabi/anaconda3/envs/env/lib/python3.9/site-packages (from spacy<3.6.0,>=3.5.0->en-core-web-sm==3.5.0) (2.0.8)\n",
      "Requirement already satisfied: typer<0.8.0,>=0.3.0 in /home/arabi/anaconda3/envs/env/lib/python3.9/site-packages (from spacy<3.6.0,>=3.5.0->en-core-web-sm==3.5.0) (0.7.0)\n",
      "Requirement already satisfied: pathy>=0.10.0 in /home/arabi/anaconda3/envs/env/lib/python3.9/site-packages (from spacy<3.6.0,>=3.5.0->en-core-web-sm==3.5.0) (0.10.1)\n",
      "Requirement already satisfied: smart-open<7.0.0,>=5.2.1 in /home/arabi/anaconda3/envs/env/lib/python3.9/site-packages (from spacy<3.6.0,>=3.5.0->en-core-web-sm==3.5.0) (5.2.1)\n",
      "Requirement already satisfied: tqdm<5.0.0,>=4.38.0 in /home/arabi/anaconda3/envs/env/lib/python3.9/site-packages (from spacy<3.6.0,>=3.5.0->en-core-web-sm==3.5.0) (4.64.0)\n",
      "Requirement already satisfied: numpy>=1.15.0 in /home/arabi/anaconda3/envs/env/lib/python3.9/site-packages (from spacy<3.6.0,>=3.5.0->en-core-web-sm==3.5.0) (1.20.3)\n",
      "Requirement already satisfied: requests<3.0.0,>=2.13.0 in /home/arabi/anaconda3/envs/env/lib/python3.9/site-packages (from spacy<3.6.0,>=3.5.0->en-core-web-sm==3.5.0) (2.28.1)\n",
      "Requirement already satisfied: pydantic!=1.8,!=1.8.1,<1.11.0,>=1.7.4 in /home/arabi/anaconda3/envs/env/lib/python3.9/site-packages (from spacy<3.6.0,>=3.5.0->en-core-web-sm==3.5.0) (1.10.7)\n",
      "Requirement already satisfied: jinja2 in /home/arabi/anaconda3/envs/env/lib/python3.9/site-packages (from spacy<3.6.0,>=3.5.0->en-core-web-sm==3.5.0) (3.1.2)\n",
      "Requirement already satisfied: setuptools in /home/arabi/anaconda3/envs/env/lib/python3.9/site-packages (from spacy<3.6.0,>=3.5.0->en-core-web-sm==3.5.0) (52.0.0.post20210125)\n",
      "Requirement already satisfied: packaging>=20.0 in /home/arabi/anaconda3/envs/env/lib/python3.9/site-packages (from spacy<3.6.0,>=3.5.0->en-core-web-sm==3.5.0) (21.3)\n",
      "Requirement already satisfied: langcodes<4.0.0,>=3.2.0 in /home/arabi/anaconda3/envs/env/lib/python3.9/site-packages (from spacy<3.6.0,>=3.5.0->en-core-web-sm==3.5.0) (3.3.0)\n",
      "Requirement already satisfied: pyparsing!=3.0.5,>=2.0.2 in /home/arabi/anaconda3/envs/env/lib/python3.9/site-packages (from packaging>=20.0->spacy<3.6.0,>=3.5.0->en-core-web-sm==3.5.0) (2.4.7)\n",
      "Requirement already satisfied: typing-extensions>=4.2.0 in /home/arabi/anaconda3/envs/env/lib/python3.9/site-packages (from pydantic!=1.8,!=1.8.1,<1.11.0,>=1.7.4->spacy<3.6.0,>=3.5.0->en-core-web-sm==3.5.0) (4.5.0)\n",
      "Requirement already satisfied: charset-normalizer<3,>=2 in /home/arabi/anaconda3/envs/env/lib/python3.9/site-packages (from requests<3.0.0,>=2.13.0->spacy<3.6.0,>=3.5.0->en-core-web-sm==3.5.0) (2.1.1)\n",
      "Requirement already satisfied: idna<4,>=2.5 in /home/arabi/anaconda3/envs/env/lib/python3.9/site-packages (from requests<3.0.0,>=2.13.0->spacy<3.6.0,>=3.5.0->en-core-web-sm==3.5.0) (2.10)\n",
      "Requirement already satisfied: urllib3<1.27,>=1.21.1 in /home/arabi/anaconda3/envs/env/lib/python3.9/site-packages (from requests<3.0.0,>=2.13.0->spacy<3.6.0,>=3.5.0->en-core-web-sm==3.5.0) (1.26.6)\n",
      "Requirement already satisfied: certifi>=2017.4.17 in /home/arabi/anaconda3/envs/env/lib/python3.9/site-packages (from requests<3.0.0,>=2.13.0->spacy<3.6.0,>=3.5.0->en-core-web-sm==3.5.0) (2023.5.7)\n",
      "Requirement already satisfied: blis<0.8.0,>=0.7.8 in /home/arabi/anaconda3/envs/env/lib/python3.9/site-packages (from thinc<8.2.0,>=8.1.8->spacy<3.6.0,>=3.5.0->en-core-web-sm==3.5.0) (0.7.9)\n",
      "Requirement already satisfied: confection<1.0.0,>=0.0.1 in /home/arabi/anaconda3/envs/env/lib/python3.9/site-packages (from thinc<8.2.0,>=8.1.8->spacy<3.6.0,>=3.5.0->en-core-web-sm==3.5.0) (0.0.4)\n",
      "Requirement already satisfied: click<9.0.0,>=7.1.1 in /home/arabi/anaconda3/envs/env/lib/python3.9/site-packages (from typer<0.8.0,>=0.3.0->spacy<3.6.0,>=3.5.0->en-core-web-sm==3.5.0) (8.0.1)\n",
      "Requirement already satisfied: MarkupSafe>=2.0 in /home/arabi/anaconda3/envs/env/lib/python3.9/site-packages (from jinja2->spacy<3.6.0,>=3.5.0->en-core-web-sm==3.5.0) (2.1.1)\n",
      "\u001b[38;5;2m✔ Download and installation successful\u001b[0m\n",
      "You can now load the package via spacy.load('en_core_web_sm')\n"
     ]
    }
   ],
   "source": [
    "spacy.cli.download(\"en_core_web_sm\")"
   ]
  },
  {
   "cell_type": "code",
   "execution_count": 8,
   "id": "f184b558",
   "metadata": {},
   "outputs": [
    {
     "name": "stdout",
     "output_type": "stream",
     "text": [
      "Requirement already satisfied: pip in /home/arabi/anaconda3/envs/env/lib/python3.9/site-packages (22.3)\n",
      "Collecting pip\n",
      "  Downloading pip-23.1.2-py3-none-any.whl (2.1 MB)\n",
      "\u001b[2K     \u001b[38;2;114;156;31m━━━━━━━━━━━━━━━━━━━━━━━━━━━━━━━━━━━━━━━━\u001b[0m \u001b[32m2.1/2.1 MB\u001b[0m \u001b[31m10.4 MB/s\u001b[0m eta \u001b[36m0:00:00\u001b[0mm eta \u001b[36m0:00:01\u001b[0m0:01\u001b[0m\n",
      "\u001b[?25hInstalling collected packages: pip\n",
      "  Attempting uninstall: pip\n",
      "    Found existing installation: pip 22.3\n",
      "    Uninstalling pip-22.3:\n",
      "      Successfully uninstalled pip-22.3\n",
      "Successfully installed pip-23.1.2\n",
      "Note: you may need to restart the kernel to use updated packages.\n"
     ]
    }
   ],
   "source": [
    "pip install --upgrade pip"
   ]
  },
  {
   "cell_type": "code",
   "execution_count": 5,
   "id": "5844af0d",
   "metadata": {},
   "outputs": [
    {
     "name": "stdout",
     "output_type": "stream",
     "text": [
      "sign up for the wires and see archived wires \n",
      "Browse experts available to comment on breaking news\n",
      "Request an expert contact, get responses directly to your inbox\n",
      "Find an expert by topic in a comprehensive database\n",
      "Georgia Tech’s Cassidy Sugimoto, Tom and Marie Patton Chair in the School of Public Policy, found differences in how men and woman in academia approach authorship decisions.\n",
      "Newswise — A new paper co-authored by Georgia Tech’s Cassidy Sugimoto found that women  — as compared to their male counterparts — receive less credit for the work they put into academic publications, more frequently experience disagreements over authorship, and often end up losing out on opportunities for future collaboration as a result.The paper, published September 1 in Science Advances, describes the first large-scale examination of gender in authorship disagreements. The findings are drawn from an analysis of 5,575 survey responses from researchers in the natural sciences, medicine, engineering, social sciences, and professional fields.According to the study, women were significantly more likely than men to report disagreements about who was named on a paper and in the order of authorship. The researchers found this to be particularly true in natural sciences and engineering, where women researchers reported significantly higher rates of disagreement than their colleagues in other disciplines.“Authorship is central for the attribution of credit in science,” said Sugimoto, Tom and Marie Patton Chair in the School of Public Policy. “This study demonstrates that women do not receive the credit they deserve and that their scientific labor is often devalued. Furthermore, it suggests gendered differences in how research teams allocate credit, suggesting that there are cultural dimensions to the distribution of authorship that should be addressed.”In academic publishing, the inclusion and ordering of names on a journal article is an important marker of productivity and prestige. The first author is typically a junior scholar who is leading the research, whereas the last author is typically a senior author providing funding and supervision for the project.According to Sugimoto and her co-authors, men and women approach authorship decisions differently, with women more often initiating collaborative authorship discussions early in a project. In contrast, men tend to discuss it at the end, if at all.The disputes that arise from authorship disagreements often result in retribution, the study states. Men were more likely to say they had “engaged in undermining the work of colleagues” following such a dispute. At the same time, women researchers reported that authorship disputes often resulted in fewer opportunities for future collaboration on research projects. Due to limitations of the survey, however, it was unclear whether the respondents were shut out of future collaborations or chose to avoid future work with colleagues with whom they had experienced such a dispute.Either way, fewer opportunities for future collaboration are a troubling outcome, Sugimoto said.“The isolation of women from scientific teams has strong consequences,” Sugimoto said. “Evidence suggests that sociodemographic diversity leads to innovation and that there are homophilic effects in research, that is, that people tend to study items that relate to their lived experiences. Given this, the chilling effect on collaboration will lead to a constraint on the knowledge produced.”The authors call for standardization in authorship decisions and for universities to provide pathways for researchers to communicate authorship concerns. For instance, Sugimoto said, some senior researchers have begun posting authorship statements for team members as a starting point for discussions.“Senior colleagues should discuss authorship openly in their teams at the initiation and throughout the scientific process,” Sugimoto said. “They should signal that they are willing to listen to concerns about equitable attribution of credit and make changes accordingly.”Of course, such changes are unlikely to happen overnight.“This is a massive shift in scientific culture, where we give greater voice to all members of a lab,” said Sugimoto.In the meantime, Sugimoto suggests junior researchers should speak up.“They should advocate for themselves and their peers and seek and build collaborations with greater transparency and equity,” said Sugimoto.Sugimoto co-authored the paper, “The Gendered Nature of Authorship,” with Chaoqun Ni of the University of Wisconsin-Madison, Elise Smith of the University of Texas Medical Branch, Haimiao Yuan of the University of Iowa, and Vincent Larivière of the University of Montreal.It appears in the September edition of Science Advances.Larivière received funding from the Canada Research Chairs program. The paper was made available for open access thanks to the University of Wisconsin Information School’s Sarah M. Pritchard Faculty Support Fund.The School of Public Policy is a unit of the Ivan Allen College of Liberal Arts. About Georgia TechThe Georgia Institute of Technology, or Georgia Tech, is a top 10 public research university developing leaders who advance technology and improve the human condition. The Institute offers business, computing, design, engineering, liberal arts, and sciences degrees. Its nearly 40,000 students, representing 50 states and 149 countries, study at the main campus in Atlanta, at campuses in France and China, and through distance and online learning. As a leading technological university, Georgia Tech is an engine of economic development for Georgia, the Southeast, and the nation, conducting more than $1 billion in research annually for government, industry, and society.\n",
      "Newswise — A new paper co-authored by Georgia Tech’s Cassidy Sugimoto found that women  — as compared to their male counterparts — receive less credit for the work they put into academic publications, more frequently experience disagreements over authorship, and often end up losing out on opportunities for future collaboration as a result.\n",
      "The paper, published September 1 in Science Advances, describes the first large-scale examination of gender in authorship disagreements. The findings are drawn from an analysis of 5,575 survey responses from researchers in the natural sciences, medicine, engineering, social sciences, and professional fields.\n",
      "According to the study, women were significantly more likely than men to report disagreements about who was named on a paper and in the order of authorship. The researchers found this to be particularly true in natural sciences and engineering, where women researchers reported significantly higher rates of disagreement than their colleagues in other disciplines.\n",
      "“Authorship is central for the attribution of credit in science,” said Sugimoto, Tom and Marie Patton Chair in the School of Public Policy. “This study demonstrates that women do not receive the credit they deserve and that their scientific labor is often devalued. Furthermore, it suggests gendered differences in how research teams allocate credit, suggesting that there are cultural dimensions to the distribution of authorship that should be addressed.”\n",
      "In academic publishing, the inclusion and ordering of names on a journal article is an important marker of productivity and prestige. The first author is typically a junior scholar who is leading the research, whereas the last author is typically a senior author providing funding and supervision for the project.\n",
      "According to Sugimoto and her co-authors, men and women approach authorship decisions differently, with women more often initiating collaborative authorship discussions early in a project. In contrast, men tend to discuss it at the end, if at all.\n",
      "The disputes that arise from authorship disagreements often result in retribution, the study states. Men were more likely to say they had “engaged in undermining the work of colleagues” following such a dispute. At the same time, women researchers reported that authorship disputes often resulted in fewer opportunities for future collaboration on research projects. Due to limitations of the survey, however, it was unclear whether the respondents were shut out of future collaborations or chose to avoid future work with colleagues with whom they had experienced such a dispute.\n",
      "Either way, fewer opportunities for future collaboration are a troubling outcome, Sugimoto said.\n",
      "“The isolation of women from scientific teams has strong consequences,” Sugimoto said. “Evidence suggests that sociodemographic diversity leads to innovation and that there are homophilic effects in research, that is, that people tend to study items that relate to their lived experiences. Given this, the chilling effect on collaboration will lead to a constraint on the knowledge produced.”\n",
      "The authors call for standardization in authorship decisions and for universities to provide pathways for researchers to communicate authorship concerns. For instance, Sugimoto said, some senior researchers have begun posting authorship statements for team members as a starting point for discussions.\n",
      "“Senior colleagues should discuss authorship openly in their teams at the initiation and throughout the scientific process,” Sugimoto said. “They should signal that they are willing to listen to concerns about equitable attribution of credit and make changes accordingly.”\n",
      "Of course, such changes are unlikely to happen overnight.\n",
      "“This is a massive shift in scientific culture, where we give greater voice to all members of a lab,” said Sugimoto.\n",
      "In the meantime, Sugimoto suggests junior researchers should speak up.\n",
      "“They should advocate for themselves and their peers and seek and build collaborations with greater transparency and equity,” said Sugimoto.\n",
      "Sugimoto co-authored the paper, “The Gendered Nature of Authorship,” with Chaoqun Ni of the University of Wisconsin-Madison, Elise Smith of the University of Texas Medical Branch, Haimiao Yuan of the University of Iowa, and Vincent Larivière of the University of Montreal.\n",
      "It appears in the September edition of Science Advances.\n",
      "Larivière received funding from the Canada Research Chairs program. The paper was made available for open access thanks to the University of Wisconsin Information School’s Sarah M. Pritchard Faculty Support Fund.\n",
      "The School of Public Policy is a unit of the Ivan Allen College of Liberal Arts. \n",
      "About Georgia Tech\n",
      "The Georgia Institute of Technology, or Georgia Tech, is a top 10 public research university developing leaders who advance technology and improve the human condition. The Institute offers business, computing, design, engineering, liberal arts, and sciences degrees. Its nearly 40,000 students, representing 50 states and 149 countries, study at the main campus in Atlanta, at campuses in France and China, and through distance and online learning. As a leading technological university, Georgia Tech is an engine of economic development for Georgia, the Southeast, and the nation, conducting more than $1 billion in research annually for government, industry, and society.\n",
      "\n",
      "Journal Link: Science Advances\n",
      "Canada Research Chairs program /950-231768; Science Advances\n",
      "Newswise gives journalists access to the latest news and provides a platform for\n",
      "universities, institutions, and journalists to spread breaking news to their\n",
      "audience.\n",
      "\n",
      " [email protected]\n",
      "Newswise, Inc\n",
      "\n"
     ]
    }
   ],
   "source": [
    "def getdata(url): \n",
    "    r = requests.get(url) \n",
    "    return r.text \n",
    "  \n",
    "#htmldata = getdata(\"https://qz.com/india/1229007/abhas-mitra-the-indian-physicist-who-contested-stephen-hawkings-theory-about-black-holes\") \n",
    "#htmldata = getdata(\"http://www.globaladvisors.biz/blog/2018/03/15/the-indian-physicist-who-contested-stephen-hawkings-theory-about-black-holes/\")\n",
    "#htmldata = getdata(\"https://www.nature.com/articles/nature.2014.14583\")\n",
    "#htmldata = getdata(\"https://www.huffpost.com/entry/black-holes-white-holes-explode_n_5597006\")\n",
    "#htmldata = getdata(\"https://www.eco-business.com/news/analysis-the-lack-of-diversity-in-climate-science-research/\")\n",
    "#htmldata = getdata(\"https://www.nature.com/articles/d41586-023-01631-8\")\n",
    "#htmldata = getdata(\"https://www.optica-opn.org/home/newsroom/2021/september/women_experience_authorship_disputes_more_often_th/?feed=News\")\n",
    "htmldata = getdata(\"http://ct.moreover.com/?a=45770628975&p=1pl&v=1&x=Y3ws_vFEZq83GEoZ0IHmaQ\")\n",
    "soup = BeautifulSoup(htmldata, 'html.parser') \n",
    "data = '' \n",
    "ss = \"\"\n",
    "for data in soup.find_all(\"p\"): \n",
    "    s = data.get_text() \n",
    "    #print(s)\n",
    "    ss = ss + s +\"\\n\"\n",
    "print(ss)"
   ]
  },
  {
   "cell_type": "code",
   "execution_count": 25,
   "id": "5ba40622",
   "metadata": {},
   "outputs": [],
   "source": [
    "nlp = spacy.load(\"en_core_web_sm\")\n",
    "\n",
    "# Process the text\n",
    "#doc = nlp(ss)"
   ]
  },
  {
   "cell_type": "code",
   "execution_count": 26,
   "id": "fa743a8e",
   "metadata": {},
   "outputs": [],
   "source": [
    "##extracting the paragraphs with a certain name/s\n",
    "target_entity = \"Chaoqun\"  # Replace with the desired entity name\n",
    "t2 = \"Ni\"\n",
    "relevant_paragraphs = []\n",
    "\n",
    "# Split the text into paragraphs based on double line breaks (\"\\n\\n\")\n",
    "paragraphs = ss.split(\"\\n\")\n",
    "\n",
    "# Iterate over the paragraphs and check if the target entity is mentioned\n",
    "for paragraph in paragraphs:\n",
    "    # Process the paragraph\n",
    "    doc = nlp(paragraph)\n",
    "    \n",
    "    # Check if the target entity is mentioned in the paragraph\n",
    "    if any(token.text == target_entity for token in doc) or any(token.text == t2 for token in doc):\n",
    "        relevant_paragraphs.append(paragraph)"
   ]
  },
  {
   "cell_type": "code",
   "execution_count": 27,
   "id": "a4927f60",
   "metadata": {},
   "outputs": [
    {
     "name": "stdout",
     "output_type": "stream",
     "text": [
      "['The recent effort stemmed from previous work published in Nature in 2013, says Chaoqun Ni, the new study’s first author and an information scientist at the University of Wisconsin–Madison, USA. The previous study’s authors, including Ni, confirmed a persistent global gender imbalance in number of publications. Other studies have shown that women in academia face bias when seeking a job, getting paid, pursuing funding and getting recognition after winning an award.', 'And this is despite women’s effort to democratize the process, Ni says. The survey analysis showed that when discussion of authorship happens earlier in the research process, researchers encounter disputes less often. However, even though more women said they start to discuss authorship earlier than men do, they still reported that they experience authorship disputes more often.', 'Though the team did not deeply investigate the cause of gender disparity in authorship disputes, Ni says the survey shows that men tend to devalue the types of work that women are often associated with, such as technical work.', 'Another suspected reason is that there may typically be fewer women in a given field. The inequality in gender representation can create power dynamics, possibly leading to more authorship disputes for women, Ni says, though there is not yet empirical evidence for this hypothesis.', 'Ni says funding agencies and scientific societies can set clear guidelines on how to determine the authorship, which can mitigate future disputes. However, she thinks cultural change is imperative when it comes to discussing solutions.', '“Science is kind of a self-regulating system, right?” Ni says. “To build a fair and equitable system of science … [we need] the collective efforts from every aspect of scientific workforce.”']\n"
     ]
    }
   ],
   "source": [
    "print(relevant_paragraphs)"
   ]
  },
  {
   "cell_type": "code",
   "execution_count": 6,
   "id": "6d7bb690",
   "metadata": {},
   "outputs": [
    {
     "name": "stdout",
     "output_type": "stream",
     "text": [
      " Find an expert by topic in a comprehensive database Georgia Tech’s Cassidy Sugimoto, Tom and Marie Patton Chair in the School of Public Policy, found differences in how men and woman in academia approach authorship decisions. Newswise — A new paper co-authored by Georgia Tech’s Cassidy Sugimoto found that women — as compared to their male counterparts — receive less credit for the work they put into academic publications, more frequently experience disagreements over authorship, and often end up losing out on opportunities for future collaboration as a result.The paper, published September 1 in Science Advances, describes the first large-scale examination of gender in authorship disagreements. The findings are drawn from an analysis of 5,575 survey responses from researchers in the natural sciences, medicine, engineering, social sciences, and professional fields.According to the study, women were significantly more likely than men to report disagreements about who was named on a paper and in the order of authorship. The researchers found this to be particularly true in natural sciences and engineering, where women researchers reported significantly higher rates of disagreement than their colleagues in other disciplines.“Authorship is central for the attribution of credit in science,” said Sugimoto, Tom and Marie Patton Chair in the School of Public Policy. “This study demonstrates that women do not receive the credit they deserve and that their scientific labor is often devalued. Furthermore, it suggests gendered differences in how research teams allocate credit, suggesting that there are cultural dimensions to the distribution of authorship that should be addressed.”In academic publishing, the inclusion and ordering of names on a journal article is an important marker of productivity and prestige. The first author is typically a junior scholar who is leading the research, whereas the last author is typically a senior author providing funding and supervision for the project.According to Sugimoto and her co-authors, men and women approach authorship decisions differently, with women more often initiating collaborative authorship discussions early in a project. In contrast, men tend to discuss it at the end, if at all.The disputes that arise from authorship disagreements often result in retribution, the study states. Men were more likely to say they had “engaged in undermining the work of colleagues” following such a dispute. At the same time, women researchers reported that authorship disputes often resulted in fewer opportunities for future collaboration on research projects. Due to limitations of the survey, however, it was unclear whether the respondents were shut out of future collaborations or chose to avoid future work with colleagues with whom they had experienced such a dispute.Either way, fewer opportunities for future collaboration are a troubling outcome, Sugimoto said.“The isolation of women from scientific teams has strong consequences,” Sugimoto said. “Evidence suggests that sociodemographic diversity leads to innovation and that there are homophilic effects in research, that is, that people tend to study items that relate to their lived experiences. Given this, the chilling effect on collaboration will lead to a constraint on the knowledge produced.”The authors call for standardization in authorship decisions and for universities to provide pathways for researchers to communicate authorship concerns. For instance, Sugimoto said, some senior researchers have begun posting authorship statements for team members as a starting point for discussions.“Senior colleagues should discuss authorship openly in their teams at the initiation and throughout the scientific process,” Sugimoto said. “They should signal that they are willing to listen to concerns about equitable attribution of credit and make changes accordingly.”Of course, such changes are unlikely to happen overnight.“This is a massive shift in scientific culture, where we give greater voice to all members of a lab,” said Sugimoto.In the meantime, Sugimoto suggests junior researchers should speak up.“They should advocate for themselves and their peers and seek and build collaborations with greater transparency and equity,” said Sugimoto.Sugimoto co-authored the paper, “The Gendered Nature of Authorship,” with Chaoqun Ni of the University of Wisconsin-Madison, Elise Smith of the University of Texas Medical Branch, Haimiao Yuan of the University of Iowa, and Vincent Larivière of the University of Montreal.It appears in the September edition of Science Advances.Larivière received funding from the Canada Research Chairs program. The paper was made available for open access thanks to the University of Wisconsin Information School’s Sarah M. Pritchard Faculty Support Fund.The School of Public Policy is a unit of the Ivan Allen College of Liberal Arts. About Georgia TechThe Georgia Institute of Technology, or Georgia Tech, is a top 10 public research university developing leaders who advance technology and improve the human condition. The Institute offers business, computing, design, engineering, liberal arts, and sciences degrees. Its nearly 40,000 students, representing 50 states and 149 countries, study at the main campus in Atlanta, at campuses in France and China, and through distance and online learning. As a leading technological university, Georgia Tech is an engine of economic development for Georgia, the Southeast, and the nation, conducting more than $1 billion in research annually for government, industry, and society. Newswise — A new paper co-authored by Georgia Tech’s Cassidy Sugimoto found that women — as compared to their male counterparts — receive less credit for the work they put into academic publications, more frequently experience disagreements over authorship, and often end up losing out on opportunities for future collaboration as a result. The paper, published September 1 in Science Advances, describes the first large-scale examination of gender in authorship disagreements. The findings are drawn from an analysis of 5,575 survey responses from researchers in the natural sciences, medicine, engineering, social sciences, and professional fields. According to the study, women were significantly more likely than men to report disagreements about who was named on a paper and in the order of authorship. The researchers found this to be particularly true in natural sciences and engineering, where women researchers reported significantly higher rates of disagreement than their colleagues in other disciplines. “Authorship is central for the attribution of credit in science,” said Sugimoto, Tom and Marie Patton Chair in the School of Public Policy. “This study demonstrates that women do not receive the credit they deserve and that their scientific labor is often devalued. Furthermore, it suggests gendered differences in how research teams allocate credit, suggesting that there are cultural dimensions to the distribution of authorship that should be addressed.” In academic publishing, the inclusion and ordering of names on a journal article is an important marker of productivity and prestige. The first author is typically a junior scholar who is leading the research, whereas the last author is typically a senior author providing funding and supervision for the project. According to Sugimoto and her co-authors, men and women approach authorship decisions differently, with women more often initiating collaborative authorship discussions early in a project. In contrast, men tend to discuss it at the end, if at all. The disputes that arise from authorship disagreements often result in retribution, the study states. Men were more likely to say they had “engaged in undermining the work of colleagues” following such a dispute. At the same time, women researchers reported that authorship disputes often resulted in fewer opportunities for future collaboration on research projects. Due to limitations of the survey, however, it was unclear whether the respondents were shut out of future collaborations or chose to avoid future work with colleagues with whom they had experienced such a dispute. Either way, fewer opportunities for future collaboration are a troubling outcome, Sugimoto said. “The isolation of women from scientific teams has strong consequences,” Sugimoto said. “Evidence suggests that sociodemographic diversity leads to innovation and that there are homophilic effects in research, that is, that people tend to study items that relate to their lived experiences. Given this, the chilling effect on collaboration will lead to a constraint on the knowledge produced.” The authors call for standardization in authorship decisions and for universities to provide pathways for researchers to communicate authorship concerns. For instance, Sugimoto said, some senior researchers have begun posting authorship statements for team members as a starting point for discussions. “Senior colleagues should discuss authorship openly in their teams at the initiation and throughout the scientific process,” Sugimoto said. “They should signal that they are willing to listen to concerns about equitable attribution of credit and make changes accordingly.” Of course, such changes are unlikely to happen overnight. “This is a massive shift in scientific culture, where we give greater voice to all members of a lab,” said Sugimoto. In the meantime, Sugimoto suggests junior researchers should speak up. “They should advocate for themselves and their peers and seek and build collaborations with greater transparency and equity,” said Sugimoto. Sugimoto co-authored the paper, “The Gendered Nature of Authorship,” with Chaoqun Ni of the University of Wisconsin-Madison, Elise Smith of the University of Texas Medical Branch, Haimiao Yuan of the University of Iowa, and Vincent Larivière of the University of Montreal. It appears in the September edition of Science Advances. Larivière received funding from the Canada Research Chairs program. The paper was made available for open access thanks to the University of Wisconsin Information School’s Sarah M. Pritchard Faculty Support Fund. The School of Public Policy is a unit of the Ivan Allen College of Liberal Arts. About Georgia Tech The Georgia Institute of Technology, or Georgia Tech, is a top 10 public research university developing leaders who advance technology and improve the human condition. The Institute offers business, computing, design, engineering, liberal arts, and sciences degrees. Its nearly 40,000 students, representing 50 states and 149 countries, study at the main campus in Atlanta, at campuses in France and China, and through distance and online learning. As a leading technological university, Georgia Tech is an engine of economic development for Georgia, the Southeast, and the nation, conducting more than $1 billion in research annually for government, industry, and society. Journal Link: Science Advances Canada Research Chairs program /950-231768; Science Advances Newswise gives journalists access to the latest news and provides a platform for universities, institutions, and journalists to spread breaking news to their audience. [email protected] Newswise, Inc \n"
     ]
    }
   ],
   "source": [
    "import re\n",
    "\n",
    "def clean_article(article_text):\n",
    "    # Remove header and footer signup text\n",
    "    cleaned_text = re.sub(r\"(?i)^(sign up|request an expert contact|browse experts).*\", \"\", article_text, flags=re.MULTILINE)\n",
    "    \n",
    "    # Remove unnecessary whitespace and extra line breaks\n",
    "    cleaned_text = re.sub(r\"\\s+\", \" \", cleaned_text)\n",
    "    \n",
    "    # Additional cleaning based on patterns you observe\n",
    "    \n",
    "    return cleaned_text\n",
    "\n",
    "# Your article text goes here\n",
    "article =ss\n",
    "cleaned_article = clean_article(article)\n",
    "print(cleaned_article)"
   ]
  },
  {
   "cell_type": "code",
   "execution_count": null,
   "id": "095ebd9e",
   "metadata": {},
   "outputs": [],
   "source": []
  }
 ],
 "metadata": {
  "kernelspec": {
   "display_name": "Python 3 (ipykernel)",
   "language": "python",
   "name": "python3"
  },
  "language_info": {
   "codemirror_mode": {
    "name": "ipython",
    "version": 3
   },
   "file_extension": ".py",
   "mimetype": "text/x-python",
   "name": "python",
   "nbconvert_exporter": "python",
   "pygments_lexer": "ipython3",
   "version": "3.9.6"
  }
 },
 "nbformat": 4,
 "nbformat_minor": 5
}
