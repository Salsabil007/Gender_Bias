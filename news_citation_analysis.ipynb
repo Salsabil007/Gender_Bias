{
 "cells": [
  {
   "cell_type": "code",
   "execution_count": 1,
   "id": "2bf2ee8f",
   "metadata": {},
   "outputs": [],
   "source": [
    "import pandas as pd\n",
    "import numpy as np\n",
    "import requests\n",
    "import json"
   ]
  },
  {
   "cell_type": "code",
   "execution_count": 95,
   "id": "84b30d97",
   "metadata": {},
   "outputs": [],
   "source": [
    "def match_author(al_id, doi,main):\n",
    "    api = \"https://api.altmetric.com/v1/id/\"\n",
    "    flag = 1\n",
    "    for i in al_id:\n",
    "        res = requests.get(api+str(i))\n",
    "        if res.status_code == 200:\n",
    "            res = res.json()\n",
    "            if 'authors' in res:\n",
    "                auth = res['authors']\n",
    "                ss = \" \".join([str(item) for item in auth])\n",
    "                ss = ss.split()\n",
    "                #print(ss)\n",
    "                c = set(ss) & set(main)\n",
    "                if len(c) == 0:\n",
    "                    flag = 0\n",
    "                    #print(ss)\n",
    "                    #print(main)\n",
    "                    break\n",
    "    \n",
    "    #print(\"flag \",flag)    \n",
    "    return flag\n",
    "            \n",
    "\n",
    "    \n",
    "\n",
    "def cit_id(doi):\n",
    "    api = \"https://api.altmetric.com/v1/fetch/doi/\"\n",
    "    key = \"key=598b3606182f4fa15b4c76b007d64ced\"\n",
    "    res = requests.get(api + doi + key)\n",
    "    cnt = 0\n",
    "    leng = 0\n",
    "    if res.status_code == 200:\n",
    "        result = res.json()\n",
    "        ss = \" \".join([str(item) for item in result['citation']['authors']])\n",
    "        ss = ss.split()\n",
    "        if 'news' in result['posts']:\n",
    "            #print(result['posts']['news'])\n",
    "            leng = len(result['posts']['news'])\n",
    "            \n",
    "            for i in range(leng):\n",
    "                if len(result['posts']['news']) > 0 and 'citation_ids' in result['posts']['news'][i]:\n",
    "                    #print(set(result['posts']['news'][i]['citation_ids']))\n",
    "                    if len(set(result['posts']['news'][i]['citation_ids'])) > 1:\n",
    "                        #print(\"problem*******\")\n",
    "                        \n",
    "                        if match_author(set(result['posts']['news'][i]['citation_ids']),doi,ss) == 0:\n",
    "                            cnt += 1\n",
    "    #print(cnt,\" \",leng)\n",
    "    return cnt,leng"
   ]
  },
  {
   "cell_type": "code",
   "execution_count": 83,
   "id": "bc540ddf",
   "metadata": {},
   "outputs": [
    {
     "name": "stdout",
     "output_type": "stream",
     "text": [
      "18   31\n"
     ]
    }
   ],
   "source": [
    "'''api = \"https://api.altmetric.com/v1/fetch/doi/\"\n",
    "doi = \"10.1126/sciadv.abe4639?\"\n",
    "key = \"key=598b3606182f4fa15b4c76b007d64ced\"\n",
    "res = requests.get(api + doi + key)\n",
    "result = res.json()\n",
    "print(result['posts']['news'][0]['citation_ids'])'''\n",
    "\n",
    "#doi = \"10.1126/sciadv.abe4639?\"\n",
    "doi = \"10.1038/s41562-019-0541-6?\"\n",
    "cnt,leng = cit_id(doi)\n",
    "print(cnt,\" \",leng)"
   ]
  },
  {
   "cell_type": "code",
   "execution_count": 57,
   "id": "02b1a604",
   "metadata": {},
   "outputs": [
    {
     "name": "stdout",
     "output_type": "stream",
     "text": [
      "['Chaoqun Ni', 'Elise Smith', 'Haimiao Yuan', 'Vincent Larivière', 'Cassidy R. Sugimoto']\n",
      "['Chaoqun', 'Ni', 'Elise', 'Smith', 'Haimiao', 'Yuan', 'Vincent', 'Larivière', 'Cassidy', 'R.', 'Sugimoto']\n"
     ]
    }
   ],
   "source": [
    "api = \"https://api.altmetric.com/v1/fetch/doi/\"\n",
    "doi = \"10.1126/sciadv.abe4639?\"\n",
    "key = \"key=598b3606182f4fa15b4c76b007d64ced\"\n",
    "res = requests.get(api + doi + key)\n",
    "result = res.json()\n",
    "print(result['citation']['authors'])\n",
    "#s = result['citation']['authors'][0]\n",
    "#s1 = result['citation']['authors'][len(result['citation']['authors'])-1]\n",
    "#ss = []\n",
    "#ss = ss + [\" \"+i for i in result['citation']['authors']]\n",
    "\n",
    "\n",
    "ss = \" \".join([str(item) for item in result['citation']['authors']])\n",
    "ss = ss.split()\n",
    "\n",
    "#ss = s + \" \" + s1\n",
    "#ss = ss.split()\n",
    "print(ss)"
   ]
  },
  {
   "cell_type": "code",
   "execution_count": 97,
   "id": "0f8dbc7f",
   "metadata": {},
   "outputs": [],
   "source": [
    "data = pd.read_csv(\"dummy_doi2.csv\")\n",
    "data = data.dropna(subset=['DOI'])\n",
    "data = data.sample(n=20)"
   ]
  },
  {
   "cell_type": "code",
   "execution_count": 98,
   "id": "541d1a4e",
   "metadata": {},
   "outputs": [
    {
     "name": "stdout",
     "output_type": "stream",
     "text": [
      "0.0\n",
      "0.0\n",
      "4.0\n",
      "-1\n",
      "4.761904761904762\n",
      "-1\n",
      "100.0\n",
      "-1\n",
      "0.0\n",
      "0.0\n",
      "-1\n",
      "0.0\n",
      "10.204081632653061\n",
      "0.0\n",
      "4.545454545454546\n",
      "-1\n",
      "3.8461538461538463\n",
      "27.27272727272727\n",
      "-1\n",
      "-1\n"
     ]
    }
   ],
   "source": [
    "doi = data['DOI'].unique()\n",
    "for i in doi:\n",
    "    i = i + \"?\"\n",
    "    cnt,leng = cit_id(i)\n",
    "    if leng == 0:\n",
    "        print(-1)\n",
    "    else:\n",
    "        print((cnt/leng)*100)"
   ]
  },
  {
   "cell_type": "code",
   "execution_count": 84,
   "id": "bab75d0e",
   "metadata": {},
   "outputs": [
    {
     "name": "stdout",
     "output_type": "stream",
     "text": [
      "345   932\n",
      "10   400\n",
      "12   399\n",
      "17   348\n",
      "40   115\n",
      "2   535\n",
      "50   302\n",
      "51   265\n",
      "40   126\n",
      "77   241\n",
      "6   234\n",
      "16   100\n",
      "4   137\n",
      "41   172\n",
      "71   127\n",
      "4   36\n",
      "17   104\n",
      "24   117\n",
      "10   98\n",
      "6   126\n"
     ]
    }
   ],
   "source": [
    "doi = data['DOI'].unique()\n",
    "for i in doi:\n",
    "    i = i + \"?\"\n",
    "    cnt,leng = cit_id(i)\n",
    "    print(cnt,\" \",leng)\n",
    "    "
   ]
  },
  {
   "cell_type": "code",
   "execution_count": 68,
   "id": "4a6426bc",
   "metadata": {},
   "outputs": [
    {
     "name": "stdout",
     "output_type": "stream",
     "text": [
      "0\n"
     ]
    }
   ],
   "source": [
    "a = ['Chaoqun', 'Ni', 'Elise', 'Smith', 'Haimiao', 'Yuan', 'Vincent', 'Larivière', 'Cassidy', 'R.', 'Sugimoto']\n",
    "b = ['Linda', 'L.', 'Carli', 'Laila', 'Alawa', 'YoonAh', 'Lee', 'Bei', 'Zhao', 'Elaine', 'Kim']\n",
    "c = set(a) & set(b)\n",
    "print(len(c))"
   ]
  },
  {
   "cell_type": "code",
   "execution_count": 5,
   "id": "0557458c",
   "metadata": {},
   "outputs": [],
   "source": [
    "a = 932+400+399+348+115+535+302+265+126+241+234+237+172+127+140+117+98+126"
   ]
  },
  {
   "cell_type": "code",
   "execution_count": 8,
   "id": "4b944553",
   "metadata": {},
   "outputs": [],
   "source": [
    "b = 345+22+17++143+40+77+6+20+41+71+33+28"
   ]
  },
  {
   "cell_type": "code",
   "execution_count": 9,
   "id": "bb2e017a",
   "metadata": {},
   "outputs": [
    {
     "name": "stdout",
     "output_type": "stream",
     "text": [
      "4914   843\n"
     ]
    }
   ],
   "source": [
    "print(a,\" \",b)"
   ]
  },
  {
   "cell_type": "code",
   "execution_count": 10,
   "id": "9be2bebd",
   "metadata": {},
   "outputs": [
    {
     "data": {
      "text/plain": [
       "0.17155067155067155"
      ]
     },
     "execution_count": 10,
     "metadata": {},
     "output_type": "execute_result"
    }
   ],
   "source": [
    "843/4914"
   ]
  },
  {
   "cell_type": "code",
   "execution_count": null,
   "id": "0d475a6f",
   "metadata": {},
   "outputs": [],
   "source": []
  }
 ],
 "metadata": {
  "kernelspec": {
   "display_name": "Python 3 (ipykernel)",
   "language": "python",
   "name": "python3"
  },
  "language_info": {
   "codemirror_mode": {
    "name": "ipython",
    "version": 3
   },
   "file_extension": ".py",
   "mimetype": "text/x-python",
   "name": "python",
   "nbconvert_exporter": "python",
   "pygments_lexer": "ipython3",
   "version": "3.9.6"
  }
 },
 "nbformat": 4,
 "nbformat_minor": 5
}
