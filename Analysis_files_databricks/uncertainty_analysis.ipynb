{
 "cells": [
  {
   "cell_type": "code",
   "execution_count": 0,
   "metadata": {
    "application/vnd.databricks.v1+cell": {
     "cellMetadata": {
      "byteLimit": 2048000,
      "rowLimit": 10000
     },
     "inputWidgets": {},
     "nuid": "459e45e0-104b-42b3-a23a-9fab88ee88fa",
     "showTitle": false,
     "title": ""
    }
   },
   "outputs": [],
   "source": [
    "project_name = 'test_project_1'\n",
    "#permissions='default'\n",
    "permissions='fulldata'"
   ]
  },
  {
   "cell_type": "code",
   "execution_count": 0,
   "metadata": {
    "application/vnd.databricks.v1+cell": {
     "cellMetadata": {
      "byteLimit": 2048000,
      "rowLimit": 10000
     },
     "inputWidgets": {},
     "nuid": "364123c8-0947-47f7-ba9e-4b89b56bd202",
     "showTitle": false,
     "title": ""
    }
   },
   "outputs": [
    {
     "output_type": "stream",
     "name": "stdout",
     "output_type": "stream",
     "text": [
      "PROJECT DETAILS:\nProject identifier: test_project_1\nCluster data access level: fulldata\n"
     ]
    },
    {
     "output_type": "stream",
     "name": "stdout",
     "output_type": "stream",
     "text": [
      "EXECUTION DETAILS:\nSpark version: 11.3.x-scala2.12, \nCluster Node Type: i3.xlarge, \nDriver Node Type: c4.2xlarge, \nWorker Node Type: i3.xlarge\n"
     ]
    },
    {
     "output_type": "stream",
     "name": "stdout",
     "output_type": "stream",
     "text": [
      "DATA SNAPSHOT DETAILS:\nThis notebook uses the latest snapshot date for this version: \"v008.20240329092717/\", (29 March 2024)\n\n The following are the Scopus snapshot dates available for datasets at v008:\n['v008.20220314092239/', 'v008.20220906063204/', 'v008.20221021151538/', 'v008.20230509104116/', 'v008.20230821105000/', 'v008.20231003094404/', 'v008.20240329092717/']\n(If you want to use a different snapshot, in the first cell of your notebook, set the variable `custom_snapshot_date` to one of the options listed above (string data type))\n\n"
     ]
    },
    {
     "output_type": "stream",
     "name": "stdout",
     "output_type": "stream",
     "text": [
      "DATA SAMPLE DETAILS:\nSetting paths to run on full datasets (100% Scopus publication volume)\n"
     ]
    }
   ],
   "source": [
    "%run /Snippets/header_008"
   ]
  },
  {
   "cell_type": "code",
   "execution_count": 0,
   "metadata": {
    "application/vnd.databricks.v1+cell": {
     "cellMetadata": {
      "byteLimit": 2048000,
      "rowLimit": 10000
     },
     "inputWidgets": {},
     "nuid": "50e2bbf4-85fb-45cf-a727-586f0829004a",
     "showTitle": false,
     "title": ""
    }
   },
   "outputs": [
    {
     "output_type": "stream",
     "name": "stdout",
     "output_type": "stream",
     "text": [
      "Python interpreter will be restarted.\nRequirement already satisfied: markupsafe==2.0.1 in /databricks/python3/lib/python3.9/site-packages (2.0.1)\nPython interpreter will be restarted.\nPython interpreter will be restarted.\nCollecting rpy2\n  Downloading rpy2-3.5.16.tar.gz (220 kB)\n  Installing build dependencies: started\n  Installing build dependencies: finished with status 'done'\n  Getting requirements to build wheel: started\n  Getting requirements to build wheel: finished with status 'error'\n  ERROR: Command errored out with exit status 1:\n   command: /local_disk0/.ephemeral_nfs/envs/pythonEnv-2b524422-0374-46fa-b149-050105d07846/bin/python /local_disk0/.ephemeral_nfs/envs/pythonEnv-2b524422-0374-46fa-b149-050105d07846/lib/python3.9/site-packages/pip/_vendor/pep517/in_process/_in_process.py get_requires_for_build_wheel /tmp/tmpoil3z0gj\n       cwd: /tmp/pip-install-3fp4xv4s/rpy2_5e8332f6d85d4cd5a1601c2945e9bf1d\n  Complete output (16 lines):\n  Traceback (most recent call last):\n    File \"/local_disk0/.ephemeral_nfs/envs/pythonEnv-2b524422-0374-46fa-b149-050105d07846/lib/python3.9/site-packages/pip/_vendor/pep517/in_process/_in_process.py\", line 349, in <module>\n      main()\n    File \"/local_disk0/.ephemeral_nfs/envs/pythonEnv-2b524422-0374-46fa-b149-050105d07846/lib/python3.9/site-packages/pip/_vendor/pep517/in_process/_in_process.py\", line 331, in main\n      json_out['return_val'] = hook(**hook_input['kwargs'])\n    File \"/local_disk0/.ephemeral_nfs/envs/pythonEnv-2b524422-0374-46fa-b149-050105d07846/lib/python3.9/site-packages/pip/_vendor/pep517/in_process/_in_process.py\", line 117, in get_requires_for_build_wheel\n      return hook(config_settings)\n    File \"/usr/local/lib/python3.9/dist-packages/setuptools/build_meta.py\", line 154, in get_requires_for_build_wheel\n      return self._get_build_requires(\n    File \"/usr/local/lib/python3.9/dist-packages/setuptools/build_meta.py\", line 135, in _get_build_requires\n      self.run_setup()\n    File \"/usr/local/lib/python3.9/dist-packages/setuptools/build_meta.py\", line 150, in run_setup\n      exec(compile(code, __file__, 'exec'), locals())\n    File \"setup.py\", line 23, in <module>\n      import setuptools.command.build\n  ModuleNotFoundError: No module named 'setuptools.command.build'\n  ----------------------------------------\nWARNING: Discarding https://files.pythonhosted.org/packages/20/4a/2c7a3e08c4db3eb6c5fd050815b11947073997d0a521cd83c7dec1946d2e/rpy2-3.5.16.tar.gz#sha256=837e2f74583658a5c4c339761a73f9434f33ef9ced3e30c64da7562165c2801b (from https://pypi.org/simple/rpy2/) (requires-python:>=3.7). Command errored out with exit status 1: /local_disk0/.ephemeral_nfs/envs/pythonEnv-2b524422-0374-46fa-b149-050105d07846/bin/python /local_disk0/.ephemeral_nfs/envs/pythonEnv-2b524422-0374-46fa-b149-050105d07846/lib/python3.9/site-packages/pip/_vendor/pep517/in_process/_in_process.py get_requires_for_build_wheel /tmp/tmpoil3z0gj Check the logs for full command output.\n  Downloading rpy2-3.5.15.tar.gz (219 kB)\n  Installing build dependencies: started\n  Installing build dependencies: finished with status 'done'\n  Getting requirements to build wheel: started\n  Getting requirements to build wheel: finished with status 'error'\n  ERROR: Command errored out with exit status 1:\n   command: /local_disk0/.ephemeral_nfs/envs/pythonEnv-2b524422-0374-46fa-b149-050105d07846/bin/python /local_disk0/.ephemeral_nfs/envs/pythonEnv-2b524422-0374-46fa-b149-050105d07846/lib/python3.9/site-packages/pip/_vendor/pep517/in_process/_in_process.py get_requires_for_build_wheel /tmp/tmpgs2mxdml\n       cwd: /tmp/pip-install-3fp4xv4s/rpy2_a934cdf5d05642b38e7d762de3e7e86c\n  Complete output (16 lines):\n  Traceback (most recent call last):\n    File \"/local_disk0/.ephemeral_nfs/envs/pythonEnv-2b524422-0374-46fa-b149-050105d07846/lib/python3.9/site-packages/pip/_vendor/pep517/in_process/_in_process.py\", line 349, in <module>\n      main()\n    File \"/local_disk0/.ephemeral_nfs/envs/pythonEnv-2b524422-0374-46fa-b149-050105d07846/lib/python3.9/site-packages/pip/_vendor/pep517/in_process/_in_process.py\", line 331, in main\n      json_out['return_val'] = hook(**hook_input['kwargs'])\n    File \"/local_disk0/.ephemeral_nfs/envs/pythonEnv-2b524422-0374-46fa-b149-050105d07846/lib/python3.9/site-packages/pip/_vendor/pep517/in_process/_in_process.py\", line 117, in get_requires_for_build_wheel\n      return hook(config_settings)\n    File \"/usr/local/lib/python3.9/dist-packages/setuptools/build_meta.py\", line 154, in get_requires_for_build_wheel\n      return self._get_build_requires(\n    File \"/usr/local/lib/python3.9/dist-packages/setuptools/build_meta.py\", line 135, in _get_build_requires\n      self.run_setup()\n    File \"/usr/local/lib/python3.9/dist-packages/setuptools/build_meta.py\", line 150, in run_setup\n      exec(compile(code, __file__, 'exec'), locals())\n    File \"setup.py\", line 23, in <module>\n      import setuptools.command.build\n  ModuleNotFoundError: No module named 'setuptools.command.build'\n  ----------------------------------------\nWARNING: Discarding https://files.pythonhosted.org/packages/2e/28/8d26eee985eabc9e14ab549f97da7dae99c48e46bf274a39696a867f2e34/rpy2-3.5.15.tar.gz#sha256=444fae4a84dc7f233b70eaab0aa81398ee0147c4e1ae38dd4524d779d6f25b2b (from https://pypi.org/simple/rpy2/) (requires-python:>=3.7). Command errored out with exit status 1: /local_disk0/.ephemeral_nfs/envs/pythonEnv-2b524422-0374-46fa-b149-050105d07846/bin/python /local_disk0/.ephemeral_nfs/envs/pythonEnv-2b524422-0374-46fa-b149-050105d07846/lib/python3.9/site-packages/pip/_vendor/pep517/in_process/_in_process.py get_requires_for_build_wheel /tmp/tmpgs2mxdml Check the logs for full command output.\n  Downloading rpy2-3.5.14.tar.gz (219 kB)\n  Installing build dependencies: started\n  Installing build dependencies: finished with status 'done'\n  Getting requirements to build wheel: started\n  Getting requirements to build wheel: finished with status 'error'\n  ERROR: Command errored out with exit status 1:\n   command: /local_disk0/.ephemeral_nfs/envs/pythonEnv-2b524422-0374-46fa-b149-050105d07846/bin/python /local_disk0/.ephemeral_nfs/envs/pythonEnv-2b524422-0374-46fa-b149-050105d07846/lib/python3.9/site-packages/pip/_vendor/pep517/in_process/_in_process.py get_requires_for_build_wheel /tmp/tmprbd8wdmc\n       cwd: /tmp/pip-install-3fp4xv4s/rpy2_d97eebcde49a4e2b92ed22d2bd335831\n  Complete output (16 lines):\n  Traceback (most recent call last):\n    File \"/local_disk0/.ephemeral_nfs/envs/pythonEnv-2b524422-0374-46fa-b149-050105d07846/lib/python3.9/site-packages/pip/_vendor/pep517/in_process/_in_process.py\", line 349, in <module>\n      main()\n    File \"/local_disk0/.ephemeral_nfs/envs/pythonEnv-2b524422-0374-46fa-b149-050105d07846/lib/python3.9/site-packages/pip/_vendor/pep517/in_process/_in_process.py\", line 331, in main\n      json_out['return_val'] = hook(**hook_input['kwargs'])\n    File \"/local_disk0/.ephemeral_nfs/envs/pythonEnv-2b524422-0374-46fa-b149-050105d07846/lib/python3.9/site-packages/pip/_vendor/pep517/in_process/_in_process.py\", line 117, in get_requires_for_build_wheel\n      return hook(config_settings)\n    File \"/usr/local/lib/python3.9/dist-packages/setuptools/build_meta.py\", line 154, in get_requires_for_build_wheel\n      return self._get_build_requires(\n    File \"/usr/local/lib/python3.9/dist-packages/setuptools/build_meta.py\", line 135, in _get_build_requires\n      self.run_setup()\n    File \"/usr/local/lib/python3.9/dist-packages/setuptools/build_meta.py\", line 150, in run_setup\n      exec(compile(code, __file__, 'exec'), locals())\n    File \"setup.py\", line 23, in <module>\n      import setuptools.command.build\n  ModuleNotFoundError: No module named 'setuptools.command.build'\n  ----------------------------------------\nWARNING: Discarding https://files.pythonhosted.org/packages/30/dc/d9748ec2b61b6a1fcbaff3891961297c83cfa34c9f9984761fb6f6ae65d0/rpy2-3.5.14.tar.gz#sha256=5f46ae31d36e117be366ad4ae02493c015ac6ba59ebe3b4cd7200075332fc481 (from https://pypi.org/simple/rpy2/) (requires-python:>=3.7). Command errored out with exit status 1: /local_disk0/.ephemeral_nfs/envs/pythonEnv-2b524422-0374-46fa-b149-050105d07846/bin/python /local_disk0/.ephemeral_nfs/envs/pythonEnv-2b524422-0374-46fa-b149-050105d07846/lib/python3.9/site-packages/pip/_vendor/pep517/in_process/_in_process.py get_requires_for_build_wheel /tmp/tmprbd8wdmc Check the logs for full command output.\n  Downloading rpy2-3.5.13.tar.gz (218 kB)\n  Installing build dependencies: started\n  Installing build dependencies: finished with status 'done'\n  Getting requirements to build wheel: started\n  Getting requirements to build wheel: finished with status 'done'\n    Preparing wheel metadata: started\n    Preparing wheel metadata: finished with status 'done'\n  WARNING: Generating metadata for package rpy2 produced metadata for project name unknown. Fix your #egg=rpy2 fragments.\nWARNING: Discarding https://files.pythonhosted.org/packages/55/43/d11bbc1e87383e8a01d74022182bc292011760a2f23c449d2c04dc1b794e/rpy2-3.5.13.tar.gz#sha256=41d037599f54336f54e754d82853fae06be9438d9fb3b514d90da74eaf328ddd (from https://pypi.org/simple/rpy2/) (requires-python:>=3.7). Requested unknown from https://files.pythonhosted.org/packages/55/43/d11bbc1e87383e8a01d74022182bc292011760a2f23c449d2c04dc1b794e/rpy2-3.5.13.tar.gz#sha256=41d037599f54336f54e754d82853fae06be9438d9fb3b514d90da74eaf328ddd has inconsistent name: filename has 'rpy2', but metadata has 'UNKNOWN'\n  Downloading rpy2-3.5.12.tar.gz (217 kB)\n  Installing build dependencies: started\n  Installing build dependencies: finished with status 'done'\n  Getting requirements to build wheel: started\n  Getting requirements to build wheel: finished with status 'done'\n    Preparing wheel metadata: started\n    Preparing wheel metadata: finished with status 'done'\n  WARNING: Generating metadata for package rpy2 produced metadata for project name unknown. Fix your #egg=rpy2 fragments.\nWARNING: Discarding https://files.pythonhosted.org/packages/5c/f2/ebeb1679b93badaffdd709b0ed4ea9a0335974fb6a2b950875ec2bf1b6bb/rpy2-3.5.12.tar.gz#sha256=eeadf794fd2aa548f88568c6a1d26e7c3810cd4a764a87b2c3b31d31942d6d45 (from https://pypi.org/simple/rpy2/) (requires-python:>=3.7). Requested unknown from https://files.pythonhosted.org/packages/5c/f2/ebeb1679b93badaffdd709b0ed4ea9a0335974fb6a2b950875ec2bf1b6bb/rpy2-3.5.12.tar.gz#sha256=eeadf794fd2aa548f88568c6a1d26e7c3810cd4a764a87b2c3b31d31942d6d45 has inconsistent name: filename has 'rpy2', but metadata has 'UNKNOWN'\n  Downloading rpy2-3.5.11.tar.gz (216 kB)\n  Installing build dependencies: started\n  Installing build dependencies: finished with status 'done'\n  Getting requirements to build wheel: started\n  Getting requirements to build wheel: finished with status 'done'\n    Preparing wheel metadata: started\n    Preparing wheel metadata: finished with status 'done'\n  WARNING: Generating metadata for package rpy2 produced metadata for project name unknown. Fix your #egg=rpy2 fragments.\nWARNING: Discarding https://files.pythonhosted.org/packages/21/83/58efe42e96397d441609e411d37392dc68198f1a2ff7663c21a1cb07e6a8/rpy2-3.5.11.tar.gz#sha256=0d3e554dac8f4e55a28932f2946341aae3e02894304e1198547222aa86b89e21 (from https://pypi.org/simple/rpy2/) (requires-python:>=3.7). Requested unknown from https://files.pythonhosted.org/packages/21/83/58efe42e96397d441609e411d37392dc68198f1a2ff7663c21a1cb07e6a8/rpy2-3.5.11.tar.gz#sha256=0d3e554dac8f4e55a28932f2946341aae3e02894304e1198547222aa86b89e21 has inconsistent name: filename has 'rpy2', but metadata has 'UNKNOWN'\n  Downloading rpy2-3.5.10.tar.gz (215 kB)\n  Installing build dependencies: started\n  Installing build dependencies: finished with status 'done'\n  Getting requirements to build wheel: started\n  Getting requirements to build wheel: finished with status 'done'\n    Preparing wheel metadata: started\n    Preparing wheel metadata: finished with status 'done'\n  WARNING: Generating metadata for package rpy2 produced metadata for project name unknown. Fix your #egg=rpy2 fragments.\nWARNING: Discarding https://files.pythonhosted.org/packages/fe/1c/18c718a1365bedc10438810637b5d735737c697998d5c163cc58edb6f1ee/rpy2-3.5.10.tar.gz#sha256=f81f0afb01e3c6f515c09573bc585c0e1c7e385ec81415ce0a62268c605ec7fc (from https://pypi.org/simple/rpy2/) (requires-python:>=3.7). Requested unknown from https://files.pythonhosted.org/packages/fe/1c/18c718a1365bedc10438810637b5d735737c697998d5c163cc58edb6f1ee/rpy2-3.5.10.tar.gz#sha256=f81f0afb01e3c6f515c09573bc585c0e1c7e385ec81415ce0a62268c605ec7fc has inconsistent name: filename has 'rpy2', but metadata has 'UNKNOWN'\n  Downloading rpy2-3.5.9.tar.gz (215 kB)\n  Installing build dependencies: started\n  Installing build dependencies: finished with status 'done'\n  Getting requirements to build wheel: started\n  Getting requirements to build wheel: finished with status 'done'\n    Preparing wheel metadata: started\n    Preparing wheel metadata: finished with status 'done'\n  WARNING: Generating metadata for package rpy2 produced metadata for project name unknown. Fix your #egg=rpy2 fragments.\nWARNING: Discarding https://files.pythonhosted.org/packages/f9/d4/f817a523c4168c826a816f89a5a080fa2fd7ad939dbfece5eb5d01235070/rpy2-3.5.9.tar.gz#sha256=89a0d7e340657795558e0db6bf9d8f1395428ba118af9023515dda928e6944f0 (from https://pypi.org/simple/rpy2/) (requires-python:>=3.7). Requested unknown from https://files.pythonhosted.org/packages/f9/d4/f817a523c4168c826a816f89a5a080fa2fd7ad939dbfece5eb5d01235070/rpy2-3.5.9.tar.gz#sha256=89a0d7e340657795558e0db6bf9d8f1395428ba118af9023515dda928e6944f0 has inconsistent name: filename has 'rpy2', but metadata has 'UNKNOWN'\n  Downloading rpy2-3.5.8.tar.gz (214 kB)\n  Installing build dependencies: started\n  Installing build dependencies: finished with status 'done'\n  Getting requirements to build wheel: started\n  Getting requirements to build wheel: finished with status 'done'\n    Preparing wheel metadata: started\n    Preparing wheel metadata: finished with status 'done'\n  WARNING: Generating metadata for package rpy2 produced metadata for project name unknown. Fix your #egg=rpy2 fragments.\nWARNING: Discarding https://files.pythonhosted.org/packages/a2/63/442160f69e1f163c24a73a3796b9ebd63c217b73941e4888734687e225d4/rpy2-3.5.8.tar.gz#sha256=22611f21bc52798087fb98309705f1a25cfbe8bfd27fbfeeea01f3d352fddb29 (from https://pypi.org/simple/rpy2/) (requires-python:>=3.7). Requested unknown from https://files.pythonhosted.org/packages/a2/63/442160f69e1f163c24a73a3796b9ebd63c217b73941e4888734687e225d4/rpy2-3.5.8.tar.gz#sha256=22611f21bc52798087fb98309705f1a25cfbe8bfd27fbfeeea01f3d352fddb29 has inconsistent name: filename has 'rpy2', but metadata has 'UNKNOWN'\n  Downloading rpy2-3.5.7.tar.gz (213 kB)\n  Installing build dependencies: started\n  Installing build dependencies: finished with status 'done'\n  Getting requirements to build wheel: started\n  Getting requirements to build wheel: finished with status 'done'\n    Preparing wheel metadata: started\n    Preparing wheel metadata: finished with status 'done'\n  WARNING: Generating metadata for package rpy2 produced metadata for project name unknown. Fix your #egg=rpy2 fragments.\nWARNING: Discarding https://files.pythonhosted.org/packages/8b/39/4a9d9e59ba062f156a642af7271bed418584406a6e65c3a23d1ded8c4a77/rpy2-3.5.7.tar.gz#sha256=87a4090379b4fc34e7f3a43471730906776c37398887086a80357d64fdd0654b (from https://pypi.org/simple/rpy2/) (requires-python:>=3.7). Requested unknown from https://files.pythonhosted.org/packages/8b/39/4a9d9e59ba062f156a642af7271bed418584406a6e65c3a23d1ded8c4a77/rpy2-3.5.7.tar.gz#sha256=87a4090379b4fc34e7f3a43471730906776c37398887086a80357d64fdd0654b has inconsistent name: filename has 'rpy2', but metadata has 'UNKNOWN'\n  Downloading rpy2-3.5.6.tar.gz (211 kB)\n  Installing build dependencies: started\n  Installing build dependencies: finished with status 'done'\n  Getting requirements to build wheel: started\n  Getting requirements to build wheel: finished with status 'done'\n    Preparing wheel metadata: started\n    Preparing wheel metadata: finished with status 'done'\n  WARNING: Generating metadata for package rpy2 produced metadata for project name unknown. Fix your #egg=rpy2 fragments.\nWARNING: Discarding https://files.pythonhosted.org/packages/ae/bd/2606e674ef0760fbe832e32274d23a9e2ca5192ab1d43a04ee5e24cf7045/rpy2-3.5.6.tar.gz#sha256=3404f1031d2d8ff8a1002656ab8e394b8ac16dd34ca43af68deed102f396e771 (from https://pypi.org/simple/rpy2/) (requires-python:>=3.7). Requested unknown from https://files.pythonhosted.org/packages/ae/bd/2606e674ef0760fbe832e32274d23a9e2ca5192ab1d43a04ee5e24cf7045/rpy2-3.5.6.tar.gz#sha256=3404f1031d2d8ff8a1002656ab8e394b8ac16dd34ca43af68deed102f396e771 has inconsistent name: filename has 'rpy2', but metadata has 'UNKNOWN'\n  Downloading rpy2-3.5.5.tar.gz (210 kB)\nRequirement already satisfied: cffi>=1.10.0 in /databricks/python3/lib/python3.9/site-packages (from rpy2) (1.14.6)\nRequirement already satisfied: jinja2 in /databricks/python3/lib/python3.9/site-packages (from rpy2) (2.11.3)\nRequirement already satisfied: pytz in /databricks/python3/lib/python3.9/site-packages (from rpy2) (2021.3)\nCollecting tzlocal\n  Downloading tzlocal-5.2-py3-none-any.whl (17 kB)\nRequirement already satisfied: pycparser in /databricks/python3/lib/python3.9/site-packages (from cffi>=1.10.0->rpy2) (2.20)\nRequirement already satisfied: MarkupSafe>=0.23 in /databricks/python3/lib/python3.9/site-packages (from jinja2->rpy2) (2.0.1)\nBuilding wheels for collected packages: rpy2\n  Building wheel for rpy2 (setup.py): started\n  Building wheel for rpy2 (setup.py): finished with status 'done'\n  Created wheel for rpy2: filename=rpy2-3.5.5-cp39-cp39-linux_x86_64.whl size=325452 sha256=fd1370fd019be5333b185dca9be8d985281468b6101530b4008553df570c0c17\n  Stored in directory: /root/.cache/pip/wheels/e5/de/90/d93fad7c2f1d7164674056eae9334213cf23e02d48b14fa0f1\nSuccessfully built rpy2\nInstalling collected packages: tzlocal, rpy2\nSuccessfully installed rpy2-3.5.5 tzlocal-5.2\nPython interpreter will be restarted.\n"
     ]
    }
   ],
   "source": [
    "%pip install markupsafe==2.0.1\n",
    "%pip install rpy2"
   ]
  },
  {
   "cell_type": "code",
   "execution_count": 0,
   "metadata": {
    "application/vnd.databricks.v1+cell": {
     "cellMetadata": {
      "byteLimit": 2048000,
      "rowLimit": 10000
     },
     "inputWidgets": {},
     "nuid": "45bc91d8-c61e-4442-8c66-ca16497b418a",
     "showTitle": false,
     "title": ""
    }
   },
   "outputs": [
    {
     "output_type": "display_data",
     "data": {
      "application/vnd.databricks.v1+bamboolib_hint": "{\"pd.DataFrames\": [], \"version\": \"0.0.1\"}",
      "text/plain": []
     },
     "metadata": {},
     "output_type": "display_data"
    },
    {
     "output_type": "stream",
     "name": "stdout",
     "output_type": "stream",
     "text": [
      "Domain_English        object\nField_English         object\nSubField_English      object\nsrcid                  int64\nopenaccess_status     object\ndoi                   object\nnews_cnt               int64\nyear                   int64\nissn                  object\nnum_au                 int64\ncor_gender            object\nTopicId                int64\nAu1_gender            object\ncountry_name          object\nSJR                  float64\nsubfield_article      object\npreferred_name        object\norg_type              object\ncor_au1                int64\ndtype: object\nlen of total  1014175\n1014077\nlen of total after dropping duplicate dois  1014077\n1014077\n1014035\n1014035\n129428\n884607\nDomain_English        object\nField_English         object\nSubField_English      object\nsrcid                  int64\nopenaccess_status     object\ndoi                   object\nnews_cnt               int64\nyear                   int64\nissn                  object\nnum_au                 int64\ncor_gender            object\nTopicId                int64\nAu1_gender            object\ncountry_name          object\nSJR                  float64\nsubfield_article      object\npreferred_name        object\norg_type              object\ncor_au1                int64\ndtype: object\n"
     ]
    }
   ],
   "source": [
    "import pandas as pd\n",
    "total = pd.read_csv(\"/dbfs/FileStore/shared_uploads/arabi2@wisc.edu/us_media_analysis.csv\")\n",
    "print(total.dtypes)\n",
    "\n",
    "print(\"len of total \", len(total))\n",
    "print(total['doi'].nunique())\n",
    "total = total.drop_duplicates(subset = ['doi'])\n",
    "\n",
    "print(\"len of total after dropping duplicate dois \", len(total))\n",
    "\n",
    "#total['cor_gender'].unique() //array(['female', 'male', 'M', 'F', 'f', 'm'], dtype=object)\n",
    "ret = spark.read.format(\"csv\").option(\"header\", \"true\").load(\"dbfs:/FileStore/shared_uploads/arabi2@wisc.edu/retrected_doi_wos.csv\")\n",
    "retracted = ret.select('doi').toPandas()\n",
    "ids_to_remove = retracted['doi']\n",
    "print(len(total))\n",
    "total2 = total[~total['doi'].isin(ids_to_remove)]\n",
    "print(len(total2))\n",
    "us = total2[total2['country_name'] == 'United States']\n",
    "print(len(us))\n",
    "print(len(us[us['news_cnt'] > 0]))\n",
    "print(len(us[us['news_cnt'] <= 0]))\n",
    "print(us.dtypes)"
   ]
  },
  {
   "cell_type": "code",
   "execution_count": 0,
   "metadata": {
    "application/vnd.databricks.v1+cell": {
     "cellMetadata": {
      "byteLimit": 2048000,
      "rowLimit": 10000
     },
     "inputWidgets": {},
     "nuid": "baff84ae-2054-4758-b7ca-c5aa0c2b5dba",
     "showTitle": false,
     "title": ""
    }
   },
   "outputs": [
    {
     "output_type": "stream",
     "name": "stdout",
     "output_type": "stream",
     "text": [
      "518488\n5853\nURL           object\ndoi           object\nmedia         object\ngender        object\nword_count     int64\nsentence      object\nsent_len       int64\npost_id        int64\nsent_pred     object\ndtype: object\n['female' 'male' 'F' 'M' 'm']\nURL           object\ndoi           object\nmedia         object\nword_count     int64\nsentence      object\nsent_len       int64\npost_id        int64\nsent_pred     object\ndtype: object\n                                                 URL  \\\n0  https://www.yahoo.com/lifestyle/golf-cart-gail...   \n1  https://www.yahoo.com/lifestyle/golf-cart-gail...   \n2  https://www.yahoo.com/lifestyle/golf-cart-gail...   \n\n                             doi   media  word_count  \\\n0  10.1080/19320248.2018.1512931  yahoo!        1332   \n1  10.1080/19320248.2018.1512931  yahoo!        1332   \n2  10.1080/19320248.2018.1512931  yahoo!        1332   \n\n                                            sentence  sent_len  post_id  \\\n0  A woman riding past a teen soccer game on a go...        43        0   \n1  Ginger Galore Williams, whose child is also on...        43        0   \n2  Williams implied that the act was racially mot...        43        0   \n\n     sent_pred  certainty  \n0  [4.7548103]   4.754810  \n1   [5.022406]   5.022406  \n2   [4.910263]   4.910263  \n"
     ]
    }
   ],
   "source": [
    "import pandas as pd\n",
    "import ast\n",
    "df1 = pd.read_csv(\"/dbfs/FileStore/shared_uploads/arabi2@wisc.edu/jiaxin_pred_sh_1.csv\",converters={'sent_pred': ast.literal_eval})\n",
    "print(len(df1))\n",
    "print(df1['doi'].nunique())\n",
    "print(df1.dtypes)\n",
    "print(df1['gender'].unique())\n",
    "df1 = df1.drop(columns=['gender'], axis = 1)\n",
    "print(df1.dtypes)\n",
    "df1['certainty'] = df1['sent_pred'].apply(lambda x: x[0])\n",
    "print(df1.head(3))"
   ]
  },
  {
   "cell_type": "code",
   "execution_count": 0,
   "metadata": {
    "application/vnd.databricks.v1+cell": {
     "cellMetadata": {
      "byteLimit": 2048000,
      "rowLimit": 10000
     },
     "inputWidgets": {},
     "nuid": "f12b4391-fdde-40da-86e2-51fdcb8f6bc7",
     "showTitle": false,
     "title": ""
    }
   },
   "outputs": [
    {
     "output_type": "stream",
     "name": "stdout",
     "output_type": "stream",
     "text": [
      "1014035\n1014035\n518451\n5851\n['female' 'male' 'F' 'M' 'm']\n"
     ]
    }
   ],
   "source": [
    "print(len(us))\n",
    "us = us.drop_duplicates(subset = ['doi'])\n",
    "print(len(us))\n",
    "merged = df1.merge(us, on = 'doi', how = 'inner')\n",
    "print(len(merged))\n",
    "print(merged['doi'].nunique())\n",
    "print(merged['cor_gender'].unique())\n"
   ]
  },
  {
   "cell_type": "code",
   "execution_count": 0,
   "metadata": {
    "application/vnd.databricks.v1+cell": {
     "cellMetadata": {
      "byteLimit": 2048000,
      "rowLimit": 10000
     },
     "inputWidgets": {},
     "nuid": "e691868c-c7ce-4df7-9a7c-00f45ea309de",
     "showTitle": false,
     "title": ""
    }
   },
   "outputs": [
    {
     "output_type": "stream",
     "name": "stdout",
     "output_type": "stream",
     "text": [
      "518451\n"
     ]
    }
   ],
   "source": [
    "dummy = merged.copy()\n",
    "dummy = dummy.dropna(subset = ['cor_gender','certainty'])\n",
    "print(len(dummy))\n",
    "gender = []\n",
    "for ind in dummy.index:\n",
    "    if dummy['cor_gender'][ind] == \"female\" or dummy['cor_gender'][ind] == \"f\" or dummy['cor_gender'][ind] == \"F\":\n",
    "        gender.append(1) #\n",
    "    elif dummy['cor_gender'][ind] == \"male\" or dummy['cor_gender'][ind] == \"m\" or dummy['cor_gender'][ind] == \"M\": ##there is no null value in gender, so it is safe to say that if someone is not female, he must be male\n",
    "        gender.append(0) #\n",
    "dummy['gender'] = gender"
   ]
  },
  {
   "cell_type": "code",
   "execution_count": 0,
   "metadata": {
    "application/vnd.databricks.v1+cell": {
     "cellMetadata": {
      "byteLimit": 2048000,
      "rowLimit": 10000
     },
     "inputWidgets": {},
     "nuid": "48e62349-5b7f-4a92-8e76-3de64b545f49",
     "showTitle": false,
     "title": ""
    }
   },
   "outputs": [
    {
     "output_type": "stream",
     "name": "stdout",
     "output_type": "stream",
     "text": [
      "Out[11]: <AxesSubplot:>"
     ]
    },
    {
     "output_type": "display_data",
     "data": {
      "image/png": "[encoded data removed]"
     },
     "metadata": {
      "application/vnd.databricks.v1+output": {
       "addedWidgets": {},
       "arguments": {},
       "data": "data:image/png;base64,iVBORw0KGgoAAAANSUhEUgAAAYkAAAD4CAYAAAAZ1BptAAAAOXRFWHRTb2Z0d2FyZQBNYXRwbG90bGliIHZlcnNpb24zLjQuMywgaHR0cHM6Ly9tYXRwbG90bGliLm9yZy/MnkTPAAAACXBIWXMAAAsTAAALEwEAmpwYAAAVmElEQVR4nO3df7BddXnv8ffTBDQllWCxp5kk94YZM51B0lJyBtKx7ZxILwR0DJ1Si0MhUDRthVanmSnRmRav6Az+gd7LvZo2ldRgbSODWlIJphnMGesfURKkhh86nGKsyaSkkhg8SnUOPv1jfw9uN/t79j4/svcmeb9m9py9n/Vd3/WcRVifs9ZeZ5/ITCRJaudn+t2AJGlwGRKSpCpDQpJUZUhIkqoMCUlS1fx+NzDXzj333Fy+fHnX47///e9z1llnnbyGTgJ77g177g177o1OPe/fv/87mfmalyzIzFPqsWrVqpyOPXv2TGv8ILDn3rDn3rDn3ujUM7Av2xxTvdwkSaoyJCRJVYaEJKnKkJAkVRkSkqQqQ0KSVGVISJKqDAlJUpUhIUmqOuU+lkPS4Fi+6YGOYzaunOCGLsZN18E73jjnc56OPJOQJFUZEpKkKkNCklRlSEiSqgwJSVKVISFJqjIkJElVhoQkqcqQkCRVGRKSpCpDQpJUZUhIkqo6hkRELIuIPRHxREQ8HhHvLPX3RsThiHi0PK5sWufdETEWEd+IiMub6mtLbSwiNjXVz4uIL5f6pyLizFJ/RXk9VpYvn9PvXpI0pW7OJCaAjZl5PrAauDkizi/LPpyZF5bHToCy7BrgdcBa4KMRMS8i5gEfAa4Azgfe2jTPB8tcrwWOAzeV+k3A8VL/cBknSeqRjiGRmUcy85Hy/HvAk8CSKVZZB2zPzB9m5jeBMeDi8hjLzKcz80fAdmBdRATwBuC+sv424KqmubaV5/cBl5bxkqQeiMzsfnDjcs8XgQuAPwNuAJ4D9tE42zgeEf8f2JuZf1fWuRt4sEyxNjPfVurXAZcA7y3jX1vqy4AHM/OCiHisrHOoLPs34JLM/E5LXxuADQBDQ0Ortm/f3vX3ND4+zsKFC7sePwjsuTfsefYOHD7RcczQAnjm+bnf9solZ8/9pMWg7edudOp5zZo1+zNzuLXe9R8dioiFwKeBd2XmcxGxGbgdyPL1TuAPptv4XMjMLcAWgOHh4RwZGel63dHRUaYzfhDYc2/Y8+x188eENq6c4M4Dc//3zw5eOzLnc04atP3cjZn23NXdTRFxBo2A+GRmfgYgM5/JzBcy88fA39C4nARwGFjWtPrSUqvVnwUWRcT8lvpPzVWWn13GS5J6oJu7mwK4G3gyMz/UVF/cNOy3gcfK8x3ANeXOpPOAFcBXgIeBFeVOpjNpvLm9IxvXu/YAV5f11wP3N821vjy/GvhCTuf6mCRpVro5x3s9cB1wICIeLbX30Lg76UIal5sOAn8IkJmPR8S9wBM07oy6OTNfAIiIW4BdwDxga2Y+Xua7FdgeEe8HvkojlChfPxERY8AxGsEiSeqRjiGRmV8C2t1RtHOKdT4AfKBNfWe79TLzaX5yuaq5/l/A73bqUZJ0cvgb15KkKkNCklRlSEiSqgwJSVKVISFJqjIkJElVhoQkqcqQkCRVGRKSpCpDQpJUZUhIkqoMCUlSlSEhSaoyJCRJVYaEJKnKkJAkVRkSkqQqQ0KSVGVISJKqDAlJUpUhIUmqMiQkSVWGhCSpypCQJFUZEpKkKkNCklRlSEiSqgwJSVKVISFJquoYEhGxLCL2RMQTEfF4RLyz1F8dEbsj4qny9ZxSj4i4KyLGIuJrEXFR01zry/inImJ9U31VRBwo69wVETHVNiRJvdHNmcQEsDEzzwdWAzdHxPnAJuChzFwBPFReA1wBrCiPDcBmaBzwgduAS4CLgduaDvqbgbc3rbe21GvbkCT1QMeQyMwjmflIef494ElgCbAO2FaGbQOuKs/XAfdkw15gUUQsBi4Hdmfmscw8DuwG1pZlr8rMvZmZwD0tc7XbhiSpB6JxXO5ycMRy4IvABcC/Z+aiUg/geGYuiojPAXdk5pfKsoeAW4ER4JWZ+f5S/wvgeWC0jP+tUv8N4NbMfFNEfLfdNtr0tYHGWQtDQ0Ortm/f3vX3ND4+zsKFC7sePwjsuTfsefYOHD7RcczQAnjm+bnf9solZ8/9pMWg7edudOp5zZo1+zNzuLU+v9sNRMRC4NPAuzLzufK2AQCZmRHRfdrMwFTbyMwtwBaA4eHhHBkZ6Xre0dFRpjN+ENhzb9jz7N2w6YGOYzaunODOA10firp28NqROZ9z0qDt527MtOeu7m6KiDNoBMQnM/MzpfxMuVRE+Xq01A8Dy5pWX1pqU9WXtqlPtQ1JUg90c3dTAHcDT2bmh5oW7QAm71BaD9zfVL++3OW0GjiRmUeAXcBlEXFOecP6MmBXWfZcRKwu27q+Za5225Ak9UA353ivB64DDkTEo6X2HuAO4N6IuAn4FvCWsmwncCUwBvwAuBEgM49FxO3Aw2Xc+zLzWHn+DuDjwALgwfJgim1IknqgY0iUN6CjsvjSNuMTuLky11Zga5v6PhpvhrfWn223DUlSb/gb15KkKkNCklRlSEiSqgwJSVKVISFJqjIkJElVhoQkqcqQkCRVGRKSpCpDQpJUZUhIkqoMCUlSlSEhSaoyJCRJVYaEJKnKkJAkVRkSkqQqQ0KSVGVISJKqDAlJUpUhIUmqMiQkSVWGhCSpypCQJFUZEpKkKkNCklRlSEiSqgwJSVKVISFJquoYEhGxNSKORsRjTbX3RsThiHi0PK5sWvbuiBiLiG9ExOVN9bWlNhYRm5rq50XEl0v9UxFxZqm/orweK8uXz9l3LUnqSjdnEh8H1rapfzgzLyyPnQARcT5wDfC6ss5HI2JeRMwDPgJcAZwPvLWMBfhgmeu1wHHgplK/CThe6h8u4yRJPdQxJDLzi8CxLudbB2zPzB9m5jeBMeDi8hjLzKcz80fAdmBdRATwBuC+sv424KqmubaV5/cBl5bxkqQemT+LdW+JiOuBfcDGzDwOLAH2No05VGoA326pXwL8PPDdzJxoM37J5DqZORERJ8r477Q2EhEbgA0AQ0NDjI6Odv1NjI+PT2v8ILDn3rDn2du4cqLjmKEF3Y2brpO5HwZtP3djpj3PNCQ2A7cDWb7eCfzBDOeatczcAmwBGB4ezpGRka7XHR0dZTrjB4E994Y9z94Nmx7oOGbjygnuPDCbn1fbO3jtyJzPOWnQ9nM3ZtrzjO5uysxnMvOFzPwx8Dc0LicBHAaWNQ1dWmq1+rPAooiY31L/qbnK8rPLeElSj8woJCJicdPL3wYm73zaAVxT7kw6D1gBfAV4GFhR7mQ6k8ab2zsyM4E9wNVl/fXA/U1zrS/Prwa+UMZLknqk4zleRPwDMAKcGxGHgNuAkYi4kMblpoPAHwJk5uMRcS/wBDAB3JyZL5R5bgF2AfOArZn5eNnErcD2iHg/8FXg7lK/G/hERIzReOP8mtl+s5Kk6ekYEpn51jblu9vUJsd/APhAm/pOYGeb+tP85HJVc/2/gN/t1J8k6eSZ+3eLJA2c5V28gSy148dySJKqDAlJUpUhIUmqMiQkSVWGhCSpypCQJFUZEpKkKkNCklRlSEiSqgwJSVKVISFJqjIkJElVhoQkqcqQkCRVGRKSpCpDQpJUZUhIkqoMCUlSlSEhSaoyJCRJVYaEJKnKkJAkVRkSkqQqQ0KSVGVISJKqDAlJUpUhIUmqMiQkSVUdQyIitkbE0Yh4rKn26ojYHRFPla/nlHpExF0RMRYRX4uIi5rWWV/GPxUR65vqqyLiQFnnroiIqbYhSeqdbs4kPg6sbaltAh7KzBXAQ+U1wBXAivLYAGyGxgEfuA24BLgYuK3poL8ZeHvTems7bEOS1CMdQyIzvwgcaymvA7aV59uAq5rq92TDXmBRRCwGLgd2Z+axzDwO7AbWlmWvysy9mZnAPS1ztduGJKlHZvqexFBmHinP/wMYKs+XAN9uGneo1KaqH2pTn2obkqQemT/bCTIzIyLnopmZbiMiNtC4vMXQ0BCjo6Ndzz0+Pj6t8YPAnnvjVOp548qJ3jfTpaEFJ6e/k/nf7lT6t9HJTEPimYhYnJlHyiWjo6V+GFjWNG5pqR0GRlrqo6W+tM34qbbxEpm5BdgCMDw8nCMjI7WhLzE6Osp0xg8Ce+6NU6nnGzY90PtmurRx5QR3Hpj1z6svcfDakTmfc9Kp9G+jk5lebtoBTN6htB64v6l+fbnLaTVwolwy2gVcFhHnlDesLwN2lWXPRcTqclfT9S1ztduGJKlHOsZ3RPwDjbOAcyPiEI27lO4A7o2Im4BvAW8pw3cCVwJjwA+AGwEy81hE3A48XMa9LzMn3wx/B407qBYAD5YHU2xDktQjHUMiM99aWXRpm7EJ3FyZZyuwtU19H3BBm/qz7bYhSeodf+NaklRlSEiSqgwJSVKVISFJqjIkJElVhoQkqcqQkCRVGRKSpCpDQpJUZUhIkqoMCUlSlSEhSaoyJCRJVYaEJKnKkJAkVRkSkqQqQ0KSVGVISJKqDAlJUpUhIUmqMiQkSVWGhCSpypCQJFUZEpKkKkNCklRlSEiSqgwJSVKVISFJqjIkJElVhoQkqWpWIRERByPiQEQ8GhH7Su3VEbE7Ip4qX88p9YiIuyJiLCK+FhEXNc2zvox/KiLWN9VXlfnHyroxm34lSdMzF2cSazLzwswcLq83AQ9l5grgofIa4ApgRXlsADZDI1SA24BLgIuB2yaDpYx5e9N6a+egX0lSl07G5aZ1wLbyfBtwVVP9nmzYCyyKiMXA5cDuzDyWmceB3cDasuxVmbk3MxO4p2kuSVIPROP4O8OVI74JHAcS+OvM3BIR383MRWV5AMczc1FEfA64IzO/VJY9BNwKjACvzMz3l/pfAM8Do2X8b5X6bwC3Zuab2vSxgcbZCUNDQ6u2b9/e9fcwPj7OwoULZ/Dd948998ap1POBwyf60E13hhbAM8/P/bwrl5w995MWp9K/jUlr1qzZ33RF6EXzZ7ndX8/MwxHxC8DuiPh688LMzIiYeQp1KTO3AFsAhoeHc2RkpOt1R0dHmc74QWDPvXEq9XzDpgd630yXNq6c4M4Dsz0UvdTBa0fmfM5Jp9K/jU5m9V8mMw+Xr0cj4rM03lN4JiIWZ+aRcsnoaBl+GFjWtPrSUjtM42yiuT5a6kvbjJdelpb34EC9ceXEQAeCXn5m/J5ERJwVET83+Ry4DHgM2AFM3qG0Hri/PN8BXF/ucloNnMjMI8Au4LKIOKe8YX0ZsKssey4iVpfLVtc3zSVJ6oHZnEkMAZ8td6XOB/4+Mz8fEQ8D90bETcC3gLeU8TuBK4Ex4AfAjQCZeSwibgceLuPel5nHyvN3AB8HFgAPlockqUdmHBKZ+TTwK23qzwKXtqkncHNlrq3A1jb1fcAFM+1RkjQ7/sa1JKnKkJAkVRkSkqQqQ0KSVGVISJKqDAlJUpUhIUmqMiQkSVWGhCSpypCQJFUZEpKkKkNCklRlSEiSqgwJSVKVISFJqjIkJElVc//Xx6UB1+3fmvbvRUueSUiSpmBISJKqDAlJUpUhIUmqMiQkSVXe3TQgur3jBub2rpuDd7xxTuaZrul8v5L6xzMJSVKVISFJqjIkJElVhoQkqcqQkCRVeXfTaa5Xdxn5OUjSy9PAh0RErAX+LzAP+Fhm3tHnliS9DJzMH4Cm+qGnX7eVnywDHRIRMQ/4CPC/gEPAwxGxIzOfOBnb8959Sfppg/6exMXAWGY+nZk/ArYD6/rckySdNiIz+91DVURcDazNzLeV19cBl2TmLS3jNgAbystfAr4xjc2cC3xnDtrtJXvuDXvuDXvujU49/8/MfE1rcaAvN3UrM7cAW2aybkTsy8zhOW7ppLLn3rDn3rDn3phpz4N+uekwsKzp9dJSkyT1wKCHxMPAiog4LyLOBK4BdvS5J0k6bQz05abMnIiIW4BdNG6B3ZqZj8/xZmZ0marP7Lk37Lk37Lk3ZnZJfpDfuJYk9degX26SJPWRISFJqjotQiIilkXEnoh4IiIej4h3thkzEhEnIuLR8vjLfvTa1M8rI+IrEfGvpef/3WbMKyLiUxExFhFfjojlfWi1uZ9uer4hIv6zaT+/rR+9tvQ0LyK+GhGfa7NsoPbxpA49D9w+BoiIgxFxoPS0r83yiIi7yr7+WkRc1I8+m/rp1O9AHTNKT4si4r6I+HpEPBkRv9ayfNr7eKDfuJ5DE8DGzHwkIn4O2B8Ru9t8vMe/ZOab+tBfOz8E3pCZ4xFxBvCliHgwM/c2jbkJOJ6Zr42Ia4APAr/Xj2aLbnoG+FTrL0T22TuBJ4FXtVk2aPt40lQ9w+Dt40lrMrP2C11XACvK4xJgc/naT1P1C4N1zIDG59x9PjOvLneE/mzL8mnv49PiTCIzj2TmI+X592j8z7Wkv11NLRvGy8szyqP1LoN1wLby/D7g0oiIHrX4El32PFAiYinwRuBjlSEDtY+hq55frtYB95R/R3uBRRGxuN9NvVxExNnAbwJ3A2TmjzLzuy3Dpr2PT4uQaFYuF/wq8OU2i3+tXCp5MCJe19vOXqpcUngUOArszszWnpcA34bG7cLACeDne9pkiy56Bvidcqp7X0Qsa7O8l/4P8OfAjyvLB24f07lnGKx9PCmBf46I/dH4KJ1WL+7r4hD9/WGuU78wWMeM84D/BP62XIr8WESc1TJm2vv4tAqJiFgIfBp4V2Y+17L4ERqfXfIrwP8D/rHH7b1EZr6QmRfS+E3ziyPigj631FEXPf8TsDwzfxnYzU9+Su+5iHgTcDQz9/erh+nqsueB2cctfj0zL6JxyePmiPjNfjfUQad+B+2YMR+4CNicmb8KfB/YNNtJT5uQKNfIPw18MjM/07o8M5+bvFSSmTuBMyLi3B632VY5ZdwDrG1Z9OLHlkTEfOBs4NmeNldR6zkzn83MH5aXHwNW9bi1Zq8H3hwRB2l8wvAbIuLvWsYM2j7u2POA7eMXZebh8vUo8Fkan/LcbKA+hqdTvwN4zDgEHGo6e7+PRmg0m/Y+Pi1ColxDvht4MjM/VBnzi5PXmiPiYhr7pm8Hg4h4TUQsKs8X0PibGl9vGbYDWF+eXw18Ifv425Hd9Nxy/fPNNN4f6ovMfHdmLs3M5TQ+8uULmfn7LcMGah930/Mg7eNJEXFWuWmEcgnkMuCxlmE7gOvLHTirgROZeaTHrQLd9Ttox4zM/A/g2xHxS6V0KdB6c8609/HpcnfT64HrgAPlejnAe4D/AZCZf0XjAPDHETEBPA9c08+DAbAY2BaNP7z0M8C9mfm5iHgfsC8zd9AIvk9ExBhwjMZBo5+66flPI+LNNO44Owbc0LduKwZ8H7f1MtjHQ8BnyzF1PvD3mfn5iPgjePH/wZ3AlcAY8APgxj71Ct31O2jHDIA/AT5Z7mx6GrhxtvvYj+WQJFWdFpebJEkzY0hIkqoMCUlSlSEhSaoyJCRJVYaEJKnKkJAkVf03ykYO3KBSkOgAAAAASUVORK5CYII=\n",
       "datasetInfos": [],
       "metadata": {},
       "removedWidgets": [],
       "type": "image"
      }
     },
     "output_type": "display_data"
    }
   ],
   "source": [
    "import numpy as np\n",
    "#x = dummy.copy(deep = True)\n",
    "#x['pow'] = x['certainty'].apply(lambda x: x**2)\n",
    "#x['pow'].hist()\n",
    "dummy['certainty'].hist()\n",
    "#np.log10(dummy['certainty']).hist()"
   ]
  },
  {
   "cell_type": "code",
   "execution_count": 0,
   "metadata": {
    "application/vnd.databricks.v1+cell": {
     "cellMetadata": {
      "byteLimit": 2048000,
      "rowLimit": 10000
     },
     "inputWidgets": {},
     "nuid": "0b0a4508-cf59-4844-a3cd-ea49c4ba8a3b",
     "showTitle": false,
     "title": ""
    }
   },
   "outputs": [
    {
     "output_type": "stream",
     "name": "stdout",
     "output_type": "stream",
     "text": [
      "Out[12]: <AxesSubplot:>"
     ]
    },
    {
     "output_type": "display_data",
     "data": {
      "image/png": "[encoded data removed]"
     },
     "metadata": {
      "application/vnd.databricks.v1+output": {
       "addedWidgets": {},
       "arguments": {},
       "data": "data:image/png;base64,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\n",
       "datasetInfos": [],
       "metadata": {},
       "removedWidgets": [],
       "type": "image"
      }
     },
     "output_type": "display_data"
    }
   ],
   "source": [
    "import numpy as np\n",
    "np.log10(dummy['certainty']).hist()"
   ]
  },
  {
   "cell_type": "code",
   "execution_count": 0,
   "metadata": {
    "application/vnd.databricks.v1+cell": {
     "cellMetadata": {
      "byteLimit": 2048000,
      "rowLimit": 10000
     },
     "inputWidgets": {},
     "nuid": "2d1995cd-e53c-4bc6-b1c9-7bddd3058320",
     "showTitle": false,
     "title": ""
    }
   },
   "outputs": [],
   "source": [
    "q = []\n",
    "q1,q2,q3 = 0.124,0.25,0.597\n",
    "for ind in dummy.index:\n",
    "  if dummy['SJR'][ind] <= q1:\n",
    "    q.append(0)\n",
    "  elif dummy['SJR'][ind] > q1 and dummy['SJR'][ind] <= q2:\n",
    "    q.append(1)\n",
    "  elif dummy['SJR'][ind] > q2 and dummy['SJR'][ind] <= q3:\n",
    "    q.append(2)\n",
    "  else:\n",
    "    q.append(3)\n",
    "dummy['q'] = q"
   ]
  },
  {
   "cell_type": "code",
   "execution_count": 0,
   "metadata": {
    "application/vnd.databricks.v1+cell": {
     "cellMetadata": {
      "byteLimit": 2048000,
      "rowLimit": 10000
     },
     "inputWidgets": {},
     "nuid": "445d1a96-ed1d-4f6d-82bb-737d7a5cc052",
     "showTitle": false,
     "title": ""
    }
   },
   "outputs": [],
   "source": [
    "import numpy as np\n",
    "import rpy2.robjects.packages as rpackages\n",
    "import rpy2.robjects.vectors as robjects_vectors\n",
    "\n",
    "\n",
    "from rpy2.robjects import r, pandas2ri\n",
    "import rpy2.robjects as ro\n",
    "from rpy2.robjects.packages import importr\n",
    "\n",
    "# import R's utility package\n",
    "#utils = rpackages.importr('utils')\n",
    "#utils.chooseCRANmirror(ind=1)\n",
    "from rpy2.robjects.conversion import localconverter\n",
    "base = importr('base')\n",
    "from rpy2.robjects import Formula\n",
    "stats = importr('stats')\n",
    "nnet = importr('nnet')"
   ]
  },
  {
   "cell_type": "markdown",
   "metadata": {
    "application/vnd.databricks.v1+cell": {
     "cellMetadata": {},
     "inputWidgets": {},
     "nuid": "2a2c723d-3589-4731-8deb-37f8944e59f2",
     "showTitle": false,
     "title": ""
    }
   },
   "source": [
    "### Main analysis reported in the paper"
   ]
  },
  {
   "cell_type": "code",
   "execution_count": 0,
   "metadata": {
    "application/vnd.databricks.v1+cell": {
     "cellMetadata": {
      "byteLimit": 2048000,
      "rowLimit": 10000
     },
     "inputWidgets": {},
     "nuid": "9c04e1ca-6281-4fcf-8a9e-518e81c7c16a",
     "showTitle": false,
     "title": ""
    }
   },
   "outputs": [
    {
     "output_type": "stream",
     "name": "stdout",
     "output_type": "stream",
     "text": [
      "\nCall:\n(function (formula, family = gaussian, data, weights, subset, \n    na.action, start = NULL, etastart, mustart, offset, control = list(...), \n    model = TRUE, method = \"glm.fit\", x = FALSE, y = TRUE, singular.ok = TRUE, \n    contrasts = NULL, ...) \n{\n    cal <- match.call()\n    if (is.character(family)) \n        family <- get(family, mode = \"function\", envir = parent.frame())\n    if (is.function(family)) \n        family <- family()\n    if (is.null(family$family)) {\n        print(family)\n        stop(\"'family' not recognized\")\n    }\n    if (missing(data)) \n        data <- environment(formula)\n    mf <- match.call(expand.dots = FALSE)\n    m <- match(c(\"formula\", \"data\", \"subset\", \"weights\", \"na.action\", \n        \"etastart\", \"mustart\", \"offset\"), names(mf), 0L)\n    mf <- mf[c(1L, m)]\n    mf$drop.unused.levels <- TRUE\n    mf[[1L]] <- quote(stats::model.frame)\n    mf <- eval(mf, parent.frame())\n    if (identical(method, \"model.frame\")) \n        return(mf)\n    if (!is.character(method) && !is.function(method)) \n        stop(\"invalid 'method' argument\")\n    if (identical(method, \"glm.fit\")) \n        control <- do.call(\"glm.control\", control)\n    mt <- attr(mf, \"terms\")\n    Y <- model.response(mf, \"any\")\n    if (length(dim(Y)) == 1L) {\n        nm <- rownames(Y)\n        dim(Y) <- NULL\n        if (!is.null(nm)) \n            names(Y) <- nm\n    }\n    X <- if (!is.empty.model(mt)) \n        model.matrix(mt, mf, contrasts)\n    else matrix(, NROW(Y), 0L)\n    weights <- as.vector(model.weights(mf))\n    if (!is.null(weights) && !is.numeric(weights)) \n        stop(\"'weights' must be a numeric vector\")\n    if (!is.null(weights) && any(weights < 0)) \n        stop(\"negative weights not allowed\")\n    offset <- as.vector(model.offset(mf))\n    if (!is.null(offset)) {\n        if (length(offset) != NROW(Y)) \n            stop(gettextf(\"number of offsets is %d should equal %d (number of observations)\", \n                length(offset), NROW(Y)), domain = NA)\n    }\n    mustart <- model.extract(mf, \"mustart\")\n    etastart <- model.extract(mf, \"etastart\")\n    fit <- eval(call(if (is.function(method)) \"method\" else method, \n        x = X, y = Y, weights = weights, start = start, etastart = etastart, \n        mustart = mustart, offset = offset, family = family, \n        control = control, intercept = attr(mt, \"intercept\") > \n            0L, singular.ok = singular.ok))\n    if (length(offset) && attr(mt, \"intercept\") > 0L) {\n        fit2 <- eval(call(if (is.function(method)) \"method\" else method, \n            x = X[, \"(Intercept)\", drop = FALSE], y = Y, mustart = fit$fitted.values, \n            weights = weights, offset = offset, family = family, \n            control = control, intercept = TRUE))\n        if (!fit2$converged) \n            warning(\"fitting to calculate the null deviance did not converge -- increase 'maxit'?\")\n        fit$null.deviance <- fit2$deviance\n    }\n    if (model) \n        fit$model <- mf\n    fit$na.action <- attr(mf, \"na.action\")\n    if (x) \n        fit$x <- X\n    if (!y) \n        fit$y <- NULL\n    structure(c(fit, list(call = cal, formula = formula, terms = mt, \n        data = data, offset = offset, control = control, method = method, \n        contrasts = attr(X, \"contrasts\"), xlevels = .getXlevels(mt, \n            mf))), class = c(fit$class, c(\"glm\", \"lm\")))\n})(formula = \"certainty ~ gender+year+q+Field_English\", family = structure(list(\n    family = \"Gamma\", link = \"log\", linkfun = function (mu) \n    log(mu), linkinv = function (eta) \n    pmax(exp(eta), .Machine$double.eps), variance = function (mu) \n    mu^2, dev.resids = function (y, mu, wt) \n    -2 * wt * (log(ifelse(y == 0, 1, y/mu)) - (y - mu)/mu), aic = function (y, \n        n, mu, wt, dev) \n    {\n        n <- sum(wt)\n        disp <- dev/n\n        -2 * sum(dgamma(y, 1/disp, scale = mu * disp, log = TRUE) * \n            wt) + 2\n    }, mu.eta = function (eta) \n    pmax(exp(eta), .Machine$double.eps), initialize = expression(\n        {\n            if (any(y <= 0)) \n                stop(\"non-positive values not allowed for the 'Gamma' family\")\n            n <- rep.int(1, nobs)\n            mustart <- y\n        }), validmu = function (mu) \n    all(is.finite(mu)) && all(mu > 0), valideta = function (eta) \n    TRUE, simulate = function (object, nsim) \n    {\n        wts <- object$prior.weights\n        if (any(wts != 1)) \n            message(\"using weights as shape parameters\")\n        ftd <- fitted(object)\n        shape <- MASS::gamma.shape(object)$alpha * wts\n        rgamma(nsim * length(ftd), shape = shape, rate = shape/ftd)\n    }), class = \"family\"), data = structure(list(certainty = c(2.9951167, \n4.8925796, 5.010381, 4.860387, 4.8291693, 4.778159, 4.385622, \n4.4875083, 4.247546, 4.7112694, 4.984131, 4.994969, 4.862889, \n5.0623093, 4.923134, 4.4506793, 5.0232353, 5.0151215, 4.988541, \n4.9724755, 5.003523, 5.108502, 4.9879436, 4.5153275, 4.3666306, \n4.997339, 4.946185, 5.0049114, 4.9453654, 4.7926707, 4.9608474, \n4.862889, 5.0623093, 4.923134, 4.4506793, 5.022636, 5.0153284, \n4.988541, 4.9724755, 5.003523, 5.108502, 4.9758782, 4.4950385, \n4.3666306, 5.026787, 4.953217, 5.0250263, 4.7112694, 4.984131, \n4.994969, 4.862889, 5.0623093, 4.923134, 4.4506793, 5.0232353, \n5.0151215, 4.988541, 4.9724755, 5.003523, 5.108502, 4.9879436, \n4.5153275, 4.3666306, 4.946185, 5.0049114, 4.9453654, 4.7112694, \n4.984131, 4.994969, 4.862889, 5.0623093, 4.923134, 4.4506793, \n5.0232353, 5.0151215, 4.988541, 4.9724755, 5.003523, 5.1111608, \n4.9879436, 4.5153275, 4.3666306, 5.030484, 4.946185, 5.0049114, \n4.9453654, 4.9799366, 4.3633523, 3.0577552, 4.9709377, 4.9675384, \n4.3838067, 4.879117, 4.986221, 4.52568, 4.679224, 4.913078, 4.934705, \n4.837077, 4.1400347, 4.8048015, 4.553887, 4.993646, 5.0153904, \n4.9118657, 5.4973006, 4.6619134, 4.6127424, 5.0570593, 4.6795816, \n4.5863676, 4.3513603, 5.0179925, 4.8992257, 5.03187, 4.9846425, \n4.949787, 3.0177615, 4.9968987, 4.9885087, 4.9818964, 4.9705, \n4.9997597, 4.88792, 4.9945183, 4.8490906, 5.013941, 5.267514, \n4.998856, 4.9888773, 4.404801, 4.993895, 4.558783, 5.002089, \n4.8502893, 5.0062084, 4.854178, 4.8789525, 4.5627856, 4.69287, \n4.9831133, 4.764504, 5.109635, 4.9153833, 4.9973555, 4.958301, \n5.0028706, 4.8619614, 5.177917, 5.1533523, 4.536633, 4.9412227, \n5.01458, 4.867865, 4.960615, 5.031428, 4.8812327, 5.0440197, \n5.020165, 4.8492165, 4.9174404, 4.8096905, 4.79405, 4.919147, \n4.9926286, 4.973849, 3.992974, 4.863992, 4.9111276, 4.4326067, \n4.786563, 4.943277, 4.9931464, 5.0002565, 4.8612823, 4.373905, \n4.9468203, 3.0262454, 4.7237124, 4.9237056, 4.8723087, 4.9007983, \n4.945783, 5.016248, 4.7474136, 4.174466, 4.9662895, 4.960769, \n3.1982975, 5.0050764, 4.9810014, 4.999567, 4.8310103, 4.7148986, \n4.887626, 4.59025, 4.208624, 4.9610367, 4.993952, 4.9762583, \n4.626681, 4.4401464, 4.667428, 4.8155947, 4.723691, 4.9111733, \n4.9528193, 5.001666, 4.9620423, 4.9674926, 4.9642158, 5.025827, \n4.9785113, 4.9907866, 5.012792, 4.971833, 4.8446684, 5.0073476, \n4.528995, 4.9941626, 4.1119776, 4.991866, 5.042223, 4.918541, \n4.995574, 5.0192924, 4.8249383, 5.0205345, 3.9102955, 4.894068, \n4.9815836, 4.7561436, 4.705477, 4.6290793, 4.5916796, 4.752372, \n4.936739, 5.0314326, 4.9880033, 4.5379596, 4.343439, 5.006036, \n4.9696755, 4.9156265, 5.4472046, 5.004909, 3.057776, 4.9709377, \n4.9675384, 4.3838067, 4.8000083, 4.986221, 4.52568, 4.679224, \n4.913078, 4.934705, 4.837077, 4.1400347, 4.8048015, 4.553887, \n4.993646, 5.0153904, 4.9118657, 5.4973006, 4.6619134, 4.6127424, \n5.0570593, 4.6795816, 4.5863676, 4.3513603, 5.0179925, 4.8992257, \n5.03187, 4.9846425, 4.949787, 4.9715776, 4.9007983, 4.945783, \n5.016248, 4.7474136, 4.174466, 4.9662895, 4.960769, 3.1982975, \n5.0050764, 4.9810014, 4.999567, 4.8310103, 4.7148986, 4.887626, \n4.59025, 4.208624, 4.9610367, 4.993952, 4.9762583, 4.626681, \n4.4401464, 4.667428, 4.9929605, 4.8013263, 4.723691, 4.9111733, \n4.9528193, 5.001666, 4.9620423, 4.961446, 4.9642158, 5.025827, \n4.9785113, 4.989346, 5.0383863, 5.012792, 4.971833, 4.8446684, \n5.0073476, 4.528995, 4.9941626, 5.004, 4.1119776, 4.988596, 5.038027, \n4.918541, 4.9943476, 5.017047, 4.8249383, 5.0205345, 4.723691, \n4.9111733, 4.9528193, 5.001666, 4.9620423, 4.961446, 4.9642158, \n5.025827, 4.9785113, 4.989346, 5.012792, 4.971833, 4.8446684, \n5.0073476, 4.528995, 4.9941626, 4.1119776, 4.988596, 5.038027, \n4.918541, 4.9943476, 5.017047, 4.8249383, 5.0205345, 4.8714004, \n4.963477, 4.8013263, 4.723691, 4.9111733, 4.9528193, 5.001666, \n4.9620423, 4.961446, 4.9642158, 5.025827, 4.9785113, 4.989346, \n5.012792, 4.971833, 4.8265624, 5.0073476, 4.528995, 4.9941626, \n4.1119776, 4.991866, 5.038027, 4.918541, 4.9943476, 5.017047, \n4.8249383, 5.0205345, 3.0177615, 4.9968987, 4.9885087, 4.9818964, \n4.9705, 4.9997597, 4.8969364, 4.9857492, 4.9663525, 4.9945183, \n4.8490906, 5.013941, 5.267514, 4.998856, 4.9888773, 4.4215465, \n4.993895, 4.558783, 5.002089, 4.8502893, 5.0062084, 4.854178, \n4.8789525, 4.5627856, 4.69287, 4.9831133, 4.764504, 5.109635, \n4.9153833, 4.9973555, 4.958301, 5.0028706, 4.8619614, 5.2206283, \n5.1533523, 4.536633, 4.9412227, 5.01458, 4.867865, 4.9269433, \n4.9862065, 5.0188932, 4.8959284, 4.999602, 5.002502, 5.018229, \n4.421614, 4.9651423, 4.992225, 5.0290823, 4.8613644, 4.377891, \n5.0157413, 5.0103345, 3.8121893, 3.5083077, 4.8232083, 4.339302, \n4.4002147, 5.0050874, 4.8063893, 5.2141404, 5.030534, 5.032692, \n4.7165174, 4.676094, 4.713044, 3.8075707, 4.566518, 4.4519944, \n4.564617, 4.9782486, 5.0404677, 4.1752424, 3.1182604, 4.788747, \n4.987514, 4.5306573, 4.713614, 3.9340985, 5.0091085, 4.993012, \n4.255503, 4.8500085, 4.6967883, 5.3527193, 4.618621, 4.9473877, \n4.9766726, 4.5990753, 4.599738, 4.515487, 4.9119463, 4.5563846, \n4.4537354, 4.914098, 4.9027414, 4.725443, 4.9858747, 4.972737, \n3.0572677, 4.528696, 2.7960198, 4.9068418, 4.5912147, 4.9933877, \n3.561434, 4.8013263, 4.723691, 4.9111733, 4.9528193, 5.001666, \n4.9620423, 4.961446, 4.9642158, 5.025827, 4.9785113, 4.989346, \n5.012792, 4.971833, 4.8446684, 5.0073476, 4.528995, 4.9941626, \n4.1119776, 4.988596, 5.038027, 4.918541, 4.9943476, 5.017047, \n4.8249383, 5.0205345, 4.975119, 5.0410037, 3.9102955, 4.8013263, \n4.723691, 4.9111733, 4.9528193, 5.001666, 4.9620423, 4.961446, \n4.9642158, 5.025827, 4.9785113, 4.989346, 5.012792, 4.971833, \n4.8446684, 5.0073476, 4.528995, 4.9941626, 4.1119776, 4.988596, \n5.038027, 4.918541, 4.9943476, 5.017047, 4.8249383, 5.0205345, \n5.0126014, 3.057776, 4.9709377, 4.3838067, 4.8917084, 4.9852176, \n4.52568, 4.679224, 4.913078, 4.9270673, 4.842668, 4.086976, 4.8178015, \n4.5242867, 4.993646, 5.0153904, 4.9118657, 5.4973006, 4.6619134, \n4.5603766, 5.0570593, 4.519817, 4.5863676, 4.3513603, 4.987489, \n4.898809, 4.8729515, 4.826847, 4.713455, 4.7507396, 5.0008206, \n4.5887213, 4.8596244, 5.014155, 4.962207, 4.9320936, 4.957208, \n3.7921576, 4.360015, 3.31217, 4.765765, 5.050246, 4.5418577, \n4.9780717, 4.945821, 5.002419, 4.9928374, 4.918174, 4.919177, \n4.9561405, 4.8714695, 4.8119698, 4.95869, 4.8401117, 5.126627, \n4.980198, 4.983168, 4.5023513, 4.6863217, 4.9919615, 5.015945, \n4.5956397, 5.0115876, 5.023087, 5.03312, 4.897923, 4.91752, 4.8287063, \n4.899488, 4.6991553, 5.0412292, 4.9988847, 4.785852, 4.8310194, \n4.953223, 4.948598, 4.6805797, 4.897134, 4.9855895, 4.9070044, \n4.850285, 4.5709105, 5.019324, 5.0055833, 4.9691486, 4.8669024, \n5.0027466, 4.5679173, 4.9638014, 4.973243, 4.957845, 5.00656, \n4.6088657, 5.223277, 4.9189196, 4.816058, 4.722825, 4.723691, \n4.920526, 4.97006, 5.001666, 4.9951773, 4.9674926, 4.9642158, \n5.025827, 4.9785113, 4.9907866, 5.013855, 4.971833, 4.8446684, \n5.0073476, 4.582055, 4.9941626, 4.1119776, 4.475363, 4.981154, \n4.7759323, 4.987531, 4.4097695, 4.6504126, 4.694597, 3.8004794, \n4.980345, 4.999442, 4.642333, 4.507624, 4.788759, 5.010054, 4.9340386, \n4.936086, 4.957406, 5.0036993, 4.799891, 4.67921, 4.96506, 4.9758825, \n4.990466, 4.994946, 4.8087115, 4.7404885, 4.938025, 4.944851, \n5.001666, 5.0107613, 4.9674926, 4.9790764, 5.025827, 4.9785113, \n4.9907866, 5.012792, 4.997576, 4.8340607, 5.0073476, 4.566374, \n4.9941626, 4.1119776, 4.991866, 5.042223, 4.936042, 4.995574, \n5.0192924, 4.8249383, 5.0205345, 4.9204845, 5.0141854, 2.9976773, \n5.0168977, 4.811811, 5.031584, 4.8389997, 5.0040126, 4.6107163, \n4.834191, 4.8430595, 4.6124353, 4.710971, 4.3209286, 4.94509, \n4.918928, 4.9420357, 5.0304227, 4.97324, 4.924345, 4.9172044, \n4.8672776, 4.296006, 4.9666357, 4.910705, 4.6833673, 4.7726207, \n4.47715, 4.728087, 4.3978167, 3.1578777, 4.9221816, 4.9577575, \n4.5786905, 4.992646, 4.983031, 4.959598, 4.123628, 4.4679346, \n4.894072, 4.955191, 4.4893694, 3.0133202, 4.9304514, 3.8179367, \n4.9595914, 4.909182, 4.9299984, 4.511347, 4.928015, 4.953893, \n4.9973674, 3.14712, 3.1441333, 3.2373717, 4.272797, 3.8416297, \n4.128832, 4.8569827, 4.8969846, 5.0442996, 4.8513384, 5.0137854, \n2.8724003, 4.9814744, 3.1273873, 5.0538607, 4.9834123, 4.98627, \n4.911747, 4.98909, 4.965028, 4.467567, 4.1457715, 4.703125, 4.542642, \n4.959178, 4.6724176, 3.18986, 4.837471, 5.0128956, 4.605988, \n4.8322783, 4.8471136, 4.462129, 5.0170236, 4.949356, 4.888285, \n4.842188, 4.31665, 4.789054, 4.661795, 4.9669356, 4.3197737, \n4.914439, 4.2537346, 4.9671416, 4.9918046, 4.8431587, 4.952928, \n4.916021, 5.0040417, 4.8245454, 5.0449977, 4.8764067, 5.00075, \n3.2359254, 4.9865904, 5.0107727, 4.759332, 4.9980626, 4.9846177, \n5.0080495, 5.0339317, 5.021365, 4.9689035, 4.941918, 5.204458, \n4.9715776, 4.9098682, 4.945783, 5.016248, 4.7474136, 4.104173, \n4.9662895, 4.960769, 3.1982975, 5.0050764, 4.9810014, 4.999567, \n4.8310103, 4.7148986, 4.887626, 4.59025, 4.208624, 4.9610367, \n4.993952, 4.9744253, 4.626681, 4.4401464, 4.667428, 4.833593, \n4.9990582, 4.8557324, 5.062141, 4.857456, 4.991635, 4.865015, \n4.9326453, 5.0307903, 4.777583, 5.010415, 4.762136, 4.4956875, \n5.202712, 4.9867353, 5.02317, 4.6387434, 4.8987703, 4.9537315, \n4.5796814, 4.4808455, 4.945596, 4.99974, 4.9991055, 4.9324923, \n4.9709883, 4.8602004, 4.948416, 4.948874, 4.5665812, 4.8463154, \n4.9834504, 4.7826757, 4.983548, 5.0555134, 4.7795906, 4.5017304, \n4.6912236, 5.0135174, 4.2500963, 4.317181, 4.995, 5.0031843, \n5.0166717, 5.0140696, 5.0145774, 4.6212955, 4.493125, 4.8958387, \n4.9717364, 4.453213, 4.9042215, 5.012385, 4.579188, 4.4760613, \n4.96836, 4.8898573, 4.6778946, 4.9756155, 4.8548913, 4.6859117, \n4.8570466, 4.9510436, 4.9558797, 4.3502755, 4.941163, 4.753178, \n4.528232, 4.6506643, 4.293872, 4.9981594, 4.9854836, 4.941356, \n4.8767896, 4.8708243, 4.20315, 4.781453, 4.977262, 4.949892, \n4.993378, 4.774107, 5.031346, 4.5359645, 4.9885197, 5.0696054, \n5.0306916, 5.0055385, 4.955066, 4.488634, 2.947535, 4.3339896, \n4.625552, 4.9858017, 4.9326296, 4.9660854, 5.0530086, 5.0122433, \n4.413288, 4.978671, 4.1776404, 5.000249, 4.9969974, 4.9401245, \n4.846621, 4.9982543, 4.9337716, 4.90546, 4.99487, 4.1228833, \n4.9753814, 4.893899, 4.8969903, 5.244319, 5.030144, 5.0241723, \n4.944046, 4.7953444, 4.7163243, 4.9696703, 5.044919, 4.97006, \n4.9832783, 4.9993114, 4.95721, 4.9674926, 4.986959, 5.025827, \n4.977433, 5.0009675, 5.0111012, 4.971833, 4.8725023, 4.6015005, \n4.982897, 5.0684, 5.042223, 4.918541, 4.9916725, 4.901273, 5.0205345, \n4.4226985, 4.8428717, 4.884321, 4.8470664, 4.6659346, 4.9617276, \n4.942769, 4.834505, 5.0942574, 4.8487225, 5.004654, 4.9189916, \n4.695214, 5.068338, 4.894832, 2.9799573, 5.013043, 4.9387903, \n4.6060166, 4.761733, 4.7920747, 5.193833, 4.8960924, 4.924114, \n4.970445, 5.395995, 4.368988, 5.2051363, 4.9858565, 5.010822, \n4.819317, 4.684964, 4.5969195, 4.9329395, 4.816143, 5.019804, \n4.6842756, 3.9547684, 4.5452657, 4.8836064, 4.994863, 4.919244, \n4.6941648, 4.621257, 5.012044, 3.1455264, 2.9314454, 3.567509, \n5.0194902, 5.0024476, 4.848189, 4.9776964, 5.019168, 4.912199, \n4.9220557, 4.3747783, 4.997448, 4.9290175, 5.0003543, 5.057704, \n5.157594, 4.9976335, 5.006805, 4.907867, 5.0461445, 4.8759127, \n4.938147, 5.014076, 4.710262, 5.031328, 5.0745306, 4.7390013, \n4.8333, 4.992969, 4.737569, 4.9628067, 4.993032, 4.8026733, 4.85592, \n5.035671, 3.7797587, 4.89869, 5.026073, 3.9683993, 5.0142136, \n4.570052, 4.896147, 4.977261, 3.9109495, 4.9313464, 4.937959, \n4.8023787, 4.7977076, 5.1816864, 4.804269, 4.1746507, 4.5758343, \n5.0041294, 4.956451, 5.1276293, 4.30795, 4.7495866, 4.8778605, \n4.891639, 4.9208126, 4.852834, 4.941918, 5.204458, 4.7333674, \n4.972768, 5.0112147, 5.05096, 4.970451, 4.934356, 4.8692718, \n4.9829855, 5.0389366, 4.9578485, 5.0127935, 4.923854, 4.800089, \n4.729103, 4.4443765, 3.4141364, 4.662315, 4.885258, 4.955432, \n5.018662, 5.0313044, 4.800801, 4.696289, 4.9833875, 5.012888, \n4.987758, 4.965347, 4.8155947, 4.723691, 4.9111733, 4.9528193, \n5.001666, 4.9620423, 4.9674926, 4.9642158, 5.025827, 4.9785113, \n4.9907866, 5.012792, 4.971833, 4.8446684, 5.0073476, 4.528995, \n4.9941626, 4.1119776, 4.991866, 5.042223, 4.918541, 4.995574, \n5.0192924, 4.8249383, 5.0205345, 4.749649, 5.0423098, 3.7873726, \n5.002068, 4.862798, 4.9785857, 4.951052, 4.960047, 4.95018, 5.003415, \n5.0045156, 4.984742, 4.8112893, 4.743041, 4.727123, 4.6370916, \n5.0156717, 4.2366414, 4.903268, 4.8108234, 4.8714004, 4.963477, \n4.8013263, 4.723691, 4.9111733, 4.9528193, 5.001666, 4.9620423, \n4.961446, 4.9642158, 5.025827, 4.9785113, 4.989346, 5.012792, \n4.971833, 4.8265624, 5.0073476, 4.528995, 4.9941626, 4.1119776, \n4.991866, 5.038027, 4.918541, 4.9943476, 5.017047, 4.8249383, \n5.0205345, 4.9918737, 2.9511197, 4.3599176, 4.3261714, 4.629872, \n4.921605, 5.0766973, 4.7745905, 4.2651772, 5.376099, 3.9429688, \n5.1338267, 4.947939, 4.8326955, 4.668751, 4.978402, 4.5916266, \n4.540112, 3.029351, 4.861954, 4.9910645, 4.77129, 3.1987534, \n4.82316, 5.2200785, 4.93266, 4.9013567, 4.939436, 4.9937134, \n4.779002, 4.9912257, 4.834673, 4.0594044, 4.997688, 4.8155947, \n4.723691, 4.967701, 4.982473, 5.001666, 5.0141497, 4.9674926, \n4.9642158, 5.025827, 4.9785113, 4.9907866, 5.012792, 4.971833, \n4.8446684, 4.986745, 5.0174947, 5.0073476, 4.5864987, 5.001573, \n4.1119776, 4.991866, 5.042223, 4.918541, 4.995574, 5.0192924, \n4.8249383, 5.0205345, 4.783552, 4.660307, 4.9335117, 4.9542108, \n5.0207615, 4.9640727, 4.917169, 4.9133325, 4.5825257, 4.9642158, \n5.025827, 4.723384, 5.0365906, 4.7191267, 4.9879227, 4.971833, \n5.025402, 4.4096384, 4.83461, 4.975809, 4.760138, 4.8252473, \n4.8541794, 5.0073476, 4.7577076, 4.991866, 5.0236163, 4.9595056, \n4.909678, 4.9414454, 5.037826, 4.943082, 4.980148, 4.926056, \n4.961824, 4.829417, 4.784033, 4.4040136, 4.936368, 4.9788985, \n5.042794, 5.481278, 4.9854455, 5.0422626, 4.8585157, 4.8954964, \n4.836103, 4.756869, 5.122621, 5.0218196, 4.5906534, 4.7431083, \n4.730221, 4.7593436, 4.9650097, 4.918644, 4.7348895, 2.9790862, \n4.738353, 3.2843575, 4.5779066, 4.979944, 4.3633523, 3.057776, \n4.9709377, 4.9675384, 4.3838067, 4.884774, 4.986221, 4.52568, \n4.679224, 4.913078, 4.934705, 4.8181806, 4.1400347, 4.806405, \n4.568212, 4.993646, 5.0153904, 4.9118657, 5.4973006, 4.6619134, \n4.6127424, 5.0570593, 4.6795816, 4.5863676, 4.353865, 5.0179925, \n4.8992257, 5.03187, 4.9846425, 4.949787, 4.8013263, 4.723691, \n4.9111733, 4.9528193, 5.001666, 4.9620423, 4.961446, 4.9642158, \n5.025827, 4.9785113, 4.989346, 5.012792, 4.971833, 4.8446684, \n5.0073476, 4.528995, 4.9941626, 4.1119776, 4.988596, 5.038027, \n4.918541, 4.9943476, 5.017047, 4.8249383, 5.0205345, 4.8770814, \n4.238342, 3.267758, 3.5538497, 4.8441906, 4.1214185, 4.7617116, \n4.9866457, 4.6271205, 4.7374735, 4.5913477, 4.4291325, 4.790235, \n4.7212896, 3.8075707, 4.566518, 4.4519944, 4.564617, 4.9782486, \n5.0178146, 4.1752424, 3.1182604, 4.987514, 4.5306573, 4.713614, \n3.9340985, 5.0091085, 4.255503, 4.8500085, 4.6967883, 5.3527193, \n4.618621, 4.9473877, 4.5990753, 4.599738, 4.515487, 4.9119463, \n4.4537354, 4.914098, 4.9027414, 4.725443, 4.9858747, 4.972737, \n3.0572677, 4.528696, 2.7960198, 4.9068418, 4.5912147, 4.9933877, \n3.561434, 3.0177615, 4.9968987, 4.9885087, 4.9818964, 4.9705, \n5.0139437, 4.88792, 4.9945183, 4.855164, 5.013941, 5.2412343, \n4.9976687, 4.9888773, 4.567395, 4.998113, 4.558783, 4.9873433, \n4.8502893, 5.0062084, 4.839337, 4.8789525, 4.5627856, 4.69287, \n4.9831133, 4.713808, 5.109635, 4.9153833, 4.9819555, 4.958301, \n4.999555, 4.879878, 5.1262527, 4.80825, 4.536633, 4.8540506, \n4.7151594, 5.0005245, 5.050771, 4.98281, 4.8577466, 5.001001, \n4.9440513, 5.044654, 5.0448117, 4.8101187, 4.6985173, 4.9950175, \n5.0142827, 4.9915557, 3.1968148, 5.018068, 4.7530594, 5.0924563, \n4.569221, 4.9637775, 4.9301085, 5.0016594, 5.0075054, 5.09312, \n4.252851, 5.006692, 4.2830606, 4.760004, 4.723691, 4.938025, \n4.9528193, 5.001666, 5.0107613, 4.961446, 4.9642158, 5.025827, \n4.9785113, 4.989346, 5.012792, 4.971833, 4.8446684, 5.0073476, \n4.5653844, 4.9941626, 4.1119776, 4.988596, 5.038027, 4.918541, \n4.9943476, 5.017047, 4.8249383, 5.0205345, 4.974137, 4.793654, \n4.8604193, 4.6100054, 4.7956815, 4.985201, 4.938094, 4.922308, \n5.0018005, 5.0172577, 4.9017034, 5.0331354, 5.0047708, 4.927318, \n4.5863576, 4.141672, 4.998397, 4.904971, 4.9737396, 5.060713, \n4.63633, 5.0360103, 4.1094584, 5.174815, 4.9754376, 5.0334144, \n5.0511017, 4.9015527, 5.0062933, 4.968822, 4.6981006, 5.013758, \n5.019527, 5.0031037, 5.03081, 5.01511, 2.9285665, 4.8982153, \n4.579997, 4.993022, 5.016918, 5.00251, 4.976144, 4.9093413, 4.690693, \n4.954048, 4.7955766, 4.8842463, 4.9120903, 4.8554645, 4.8756, \n4.8900633, 4.991546, 4.503817, 4.93818, 4.222192, 4.8052664, \n4.9676566, 4.8999896, 4.949666, 4.8421702, 4.7579803, 4.819589, \n4.756037, 5.0002522, 4.9925056, 4.977845, 4.9974813, 4.9086256, \n4.9593883, 4.8537507, 4.4519515, 4.9193153, 4.659986, 5.0019794, \n3.0195029, 4.994862, 4.735754, 3.0023186, 4.5768504, 4.9270577, \n5.0120173, 4.9988847, 4.944289, 4.997576, 5.0093665, 4.6086445, \n4.904799, 3.658843, 4.6374636, 4.9578133, 4.8819904, 4.1365414, \n5.0106697, 4.9937215, 5.0174947, 4.427478, 4.9589, 4.9925017, \n4.8912754, 4.957136, 5.612222, 4.8143992, 4.7078757, 4.7877593, \n4.6412215, 4.9216576, 4.7438893, 4.8153276, 4.8038654, 4.4457555, \n4.8217587, 4.9906693, 4.991823, 4.700689, 4.289301, 5.0839295, \n4.975544, 4.5108385, 4.5817614, 4.9012427, 4.896949, 5.01762, \n4.402253, 4.985476, 4.500814, 5.009885, 4.47486, 3.0135548, 4.429515, \n4.889585, 4.7677565, 4.0879464, 4.638443, 4.590428, 4.113261, \n5.0219316, 4.9101553, 5.001289, 2.9511197, 4.3599176, 4.3261714, \n4.629872, 4.921605, 5.0766973, 4.7745905, 4.2651772, 5.290218, \n3.9594903, 5.1319947, 4.947939, 4.8326955, 4.668751, 4.9306674, \n4.5916266, 4.540112, 3.029351, 4.861954, 4.9910645, 4.5012236, \n4.9185557, 4.6325927, 4.930948, 4.959029, 4.781624, 4.90397, \n3.057776, 4.9709377, 4.9675384, 4.3838067, 4.8000083, 4.986221, \n4.52568, 4.679224, 4.913078, 4.934705, 4.837077, 4.1400347, 4.8048015, \n4.568212, 4.993646, 5.0153904, 4.9118657, 5.4973006, 4.6619134, \n4.6127424, 5.0570593, 4.6795816, 4.5863676, 4.353865, 5.0179925, \n4.8992257, 4.943277, 4.9931464, 5.0002565, 4.8612823, 4.373905, \n4.9468203, 3.0262454, 4.7237124, 4.9237056, 4.8723087, 4.8013263, \n4.723691, 4.9111733, 4.9528193, 5.001666, 4.9620423, 4.961446, \n4.9642158, 5.025827, 4.9785113, 4.989346, 5.012792, 4.971833, \n4.8446684, 5.0073476, 4.528995, 4.9941626, 4.1119776, 4.988596, \n5.038027, 4.918541, 4.9943476, 5.017047, 4.8249383, 5.0205345, \n3.294989, 4.3370123, 3.1090991, 4.9997115, 4.9754376, 4.842668, \n4.9527783, 4.653123, 4.815465, 5.0153904, 4.966001, 4.3843827, \n4.6391573, 4.953664, 4.993646, 4.233225, 4.609275, 5.037089, \n4.6847177, 4.9954844, 4.9089007, 4.9882774, 4.8195934, 4.8965006, \n4.932773, 5.1742606, 4.814749, 4.540737, 4.7682743, 4.99984, \n4.9314713, 4.992177, 4.2390747, 5.0028524, 4.9702234, 4.7622886, \n4.070152, 4.854197, 4.971728, 4.9805756, 3.057776, 4.9709377, \n4.9675384, 4.3838067, 4.8000083, 4.986221, 4.52568, 4.679224, \n4.913078, 4.934705, 4.837077, 4.1400347, 4.8048015, 4.553887, \n4.993646, 5.0153904, 4.9118657, 5.4973006, 4.6619134, 4.6127424, \n5.0570593, 4.6795816, 4.5863676, 4.3513603, 5.0179925, 4.8992257, \n5.03187, 4.9846425, 4.949787, 5.0563235, 2.9976773, 5.0168977, \n4.811811, 5.031584, 4.8389997, 5.0040126, 4.6107163, 4.834191, \n4.8430595, 4.6124353, 4.710971, 4.3209286, 3.057776, 4.9709377, \n4.9675384, 4.3838067, 4.879117, 4.986221, 4.52568, 4.679224, \n4.913078, 4.934705, 4.837077, 4.1400347, 4.8048015, 4.553887, \n4.993646, 5.0153904, 4.9118657, 5.4973006, 4.6619134, 4.6127424, \n5.0570593, 4.6795816, 4.5863676, 4.3513603, 5.0179925, 5.0107956, \n3.4982152, 4.9573975, 5.001289, 2.9511197, 4.3599176, 4.3261714, \n4.629872, 4.921605, 5.0766973, 4.7745905, 4.2651772, 5.290218, \n3.9594903, 5.1319947, 4.947939, 4.8326955, 4.668751, 4.9306674, \n4.5916266, 4.540112, 3.029351, 4.861954, 4.9910645, 4.801692, \n4.267158, 4.897779, 4.850717, 4.8138833, 4.7778444, 4.947369, \n4.884235, 4.931811, 5.056715, 4.9486256, 4.964046, 4.4942336, \n4.208442, 4.8089156, 4.801692, 4.267158, 4.897779, 4.850717, \n4.8138833, 4.7778444, 4.947369, 4.884235, 4.931811, 5.056715, \n4.9486256, 4.967157, 4.4942336, 4.208442, 4.8089156, 4.847884, \n4.897779, 4.850717, 4.745254, 4.884235, 4.931811, 5.056715, 4.9941225, \n4.9486256, 4.972383, 4.4942336, 3.9773037, 4.044433, 5.0103374, \n4.9675174, 4.5091395, 4.986283, 4.849322, 5.0045185, \n\n*** WARNING: max output size exceeded, skipping output. ***\n\n1\", \"501852\", \"501853\", \"501854\", \"501855\", \n\"501856\", \"501857\", \"501858\", \"501859\", \"501860\", \"501861\", \"501862\", \n\"501863\", \"501864\", \"501865\", \"501866\", \"501867\", \"501868\", \"501869\", \n\"501870\", \"501871\", \"501872\", \"501873\", \"501874\", \"501875\", \"501876\", \n\"501877\", \"501878\", \"501879\", \"501880\", \"501881\", \"501882\", \"501883\", \n\"501884\", \"501885\", \"501886\", \"501887\", \"501888\", \"501889\", \"501890\", \n\"501891\", \"501892\", \"501893\", \"501894\", \"501895\", \"501896\", \"501897\", \n\"501898\", \"501899\", \"501900\", \"501901\", \"501902\", \"501981\", \"501982\", \n\"501983\", \"501984\", \"501985\", \"501986\", \"502233\", \"502234\", \"502235\", \n\"502236\", \"502237\", \"502238\", \"502239\", \"502240\", \"502241\", \"502242\", \n\"502243\", \"502244\", \"502245\", \"502246\", \"502247\", \"502248\", \"502249\", \n\"502250\", \"502251\", \"502252\", \"502253\", \"502254\", \"502255\", \"502256\", \n\"502257\", \"502258\", \"502259\", \"502260\", \"502261\", \"502262\", \"502263\", \n\"502264\", \"502265\", \"502266\", \"502267\", \"502460\", \"502461\", \"502462\", \n\"502463\", \"502464\", \"502465\", \"502466\", \"502467\", \"502468\", \"502469\", \n\"502470\", \"502471\", \"502472\", \"502473\", \"502474\", \"502475\", \"502476\", \n\"502477\", \"502478\", \"502479\", \"502480\", \"502481\", \"502482\", \"502483\", \n\"502484\", \"502485\", \"502486\", \"502487\", \"502488\", \"502489\", \"502490\", \n\"502491\", \"502492\", \"502493\", \"502494\", \"502495\", \"502496\", \"502497\", \n\"502498\", \"502499\", \"502500\", \"502501\", \"502502\", \"502503\", \"502504\", \n\"502505\", \"502506\", \"502507\", \"502508\", \"502509\", \"502510\", \"502511\", \n\"502512\", \"502513\", \"502514\", \"502515\", \"502516\", \"502517\", \"502518\", \n\"502519\", \"502520\", \"502521\", \"502522\", \"502523\", \"502524\", \"502525\", \n\"502526\", \"502527\", \"502528\", \"502529\", \"502530\", \"502531\", \"502532\", \n\"502533\", \"502855\", \"502856\", \"502857\", \"502858\", \"502859\", \"502860\", \n\"502861\", \"502862\", \"502863\", \"502864\", \"502865\", \"502866\", \"502867\", \n\"502868\", \"502869\", \"502870\", \"502871\", \"502872\", \"502873\", \"502874\", \n\"502875\", \"503010\", \"503011\", \"503012\", \"503013\", \"503014\", \"503015\", \n\"503016\", \"503017\", \"503018\", \"503019\", \"503020\", \"503021\", \"503022\", \n\"503023\", \"503024\", \"503025\", \"503026\", \"503027\", \"503028\", \"503029\", \n\"503030\", \"503031\", \"503032\", \"503033\", \"503034\", \"503035\", \"503036\", \n\"503037\", \"503038\", \"503039\", \"503040\", \"503041\", \"503042\", \"503043\", \n\"503044\", \"503045\", \"503046\", \"503047\", \"503048\", \"503049\", \"503050\", \n\"503051\", \"503052\", \"503053\", \"503054\", \"503112\", \"503113\", \"503114\", \n\"503115\", \"503116\", \"503117\", \"503118\", \"503119\", \"503120\", \"503121\", \n\"503122\", \"503123\", \"503124\", \"503125\", \"503126\", \"503127\", \"503128\", \n\"503129\", \"503130\", \"503131\", \"503132\", \"503133\", \"503134\", \"503135\", \n\"503136\", \"503137\", \"503138\", \"503365\", \"503366\", \"503367\", \"503368\", \n\"503369\", \"503370\", \"503371\", \"503372\", \"503373\", \"503374\", \"503375\", \n\"503376\", \"503377\", \"503378\", \"503379\", \"503380\", \"503381\", \"503382\", \n\"503383\", \"503384\", \"503385\", \"503386\", \"503387\", \"503388\", \"503389\", \n\"503390\", \"503391\", \"503392\", \"503393\", \"503394\", \"503395\", \"503396\", \n\"503397\", \"503398\", \"503399\", \"503400\", \"503401\", \"503402\", \"503403\", \n\"503404\", \"503405\", \"503406\", \"503407\", \"503408\", \"503409\", \"503410\", \n\"503411\", \"503412\", \"503413\", \"503414\", \"503415\", \"503416\", \"503417\", \n\"503418\", \"503419\", \"503420\", \"503421\", \"503422\", \"503423\", \"503424\", \n\"503425\", \"503426\", \"503427\", \"503428\", \"503429\", \"503876\", \"503877\", \n\"503878\", \"503879\", \"503880\", \"503881\", \"503882\", \"503883\", \"503884\", \n\"503885\", \"503886\", \"503887\", \"503888\", \"503889\", \"503890\", \"503891\", \n\"503892\", \"503893\", \"503894\", \"503895\", \"503896\", \"503897\", \"503898\", \n\"503899\", \"503900\", \"503901\", \"503902\", \"503903\", \"503904\", \"503905\", \n\"503906\", \"503907\", \"503908\", \"503909\", \"503910\", \"503911\", \"503912\", \n\"504138\", \"504139\", \"504140\", \"504141\", \"504142\", \"504143\", \"504144\", \n\"504145\", \"504146\", \"504147\", \"504148\", \"504149\", \"504150\", \"504151\", \n\"504152\", \"504153\", \"504154\", \"504155\", \"504156\", \"504157\", \"504158\", \n\"504159\", \"504160\", \"504161\", \"504162\", \"504163\", \"504164\", \"504165\", \n\"504166\", \"504167\", \"504168\", \"504169\", \"504170\", \"504171\", \"504172\", \n\"504173\", \"504445\", \"504446\", \"504447\", \"504448\", \"504449\", \"504450\", \n\"504451\", \"504452\", \"504453\", \"504454\", \"504531\", \"504532\", \"504533\", \n\"504534\", \"504535\", \"504536\", \"504537\", \"504538\", \"504539\", \"504540\", \n\"504541\", \"504542\", \"504543\", \"504544\", \"504545\", \"504546\", \"504547\", \n\"504548\", \"504549\", \"504588\", \"504589\", \"504590\", \"504591\", \"504592\", \n\"504593\", \"504594\", \"504833\", \"504834\", \"504835\", \"504836\", \"504837\", \n\"504838\", \"504839\", \"504840\", \"504841\", \"504842\", \"504843\", \"504844\", \n\"504845\", \"504846\", \"504847\", \"504848\", \"504849\", \"504850\", \"504851\", \n\"504852\", \"504853\", \"504854\", \"504855\", \"504856\", \"504857\", \"504858\", \n\"504859\", \"504860\", \"504861\", \"504862\", \"504863\", \"504864\", \"504865\", \n\"504866\", \"504867\", \"504868\", \"504869\", \"504870\", \"504871\", \"504872\", \n\"504873\", \"504874\", \"504875\", \"504876\", \"504877\", \"504878\", \"504879\", \n\"504880\", \"504881\", \"504882\", \"504883\", \"504884\", \"504885\", \"504886\", \n\"504887\", \"504888\", \"504889\", \"504890\", \"505007\", \"505008\", \"505009\", \n\"505010\", \"505011\", \"505012\", \"505013\", \"505014\", \"505015\", \"505016\", \n\"505017\", \"505018\", \"505019\", \"505020\", \"505021\", \"505022\", \"505023\", \n\"505024\", \"505025\", \"505026\", \"505027\", \"505028\", \"505029\", \"505030\", \n\"505031\", \"505032\", \"505033\", \"505034\", \"505035\", \"505036\", \"505037\", \n\"505038\", \"505039\", \"505040\", \"505041\", \"505042\", \"505043\", \"505044\", \n\"505045\", \"505046\", \"505047\", \"505048\", \"505049\", \"505050\", \"505051\", \n\"505052\", \"505053\", \"505054\", \"505055\", \"505056\", \"505057\", \"505058\", \n\"505059\", \"505060\", \"505061\", \"505062\", \"505063\", \"505064\", \"505065\", \n\"505066\", \"505067\", \"505068\", \"505069\", \"505070\", \"505071\", \"505072\", \n\"505073\", \"505074\", \"505075\", \"505076\", \"505077\", \"505078\", \"505079\", \n\"505080\", \"505081\", \"505082\", \"505083\", \"505084\", \"505085\", \"505086\", \n\"505087\", \"505088\", \"505307\", \"505308\", \"505309\", \"505310\", \"505311\", \n\"505312\", \"505313\", \"505314\", \"505315\", \"505316\", \"505317\", \"505318\", \n\"505319\", \"505320\", \"505321\", \"505322\", \"505323\", \"505324\", \"505325\", \n\"505326\", \"505327\", \"505328\", \"505329\", \"505330\", \"505331\", \"505332\", \n\"505333\", \"505334\", \"505335\", \"505336\", \"505337\", \"505338\", \"505339\", \n\"505340\", \"505341\", \"505342\", \"505343\", \"505344\", \"505345\", \"505346\", \n\"505347\", \"505348\", \"505540\", \"505541\", \"505542\", \"505543\", \"505544\", \n\"505545\", \"505582\", \"505583\", \"505584\", \"505585\", \"505586\", \"505587\", \n\"505588\", \"505589\", \"505590\", \"505591\", \"505592\", \"505593\", \"505594\", \n\"505595\", \"505596\", \"505597\", \"505598\", \"505599\", \"505600\", \"505601\", \n\"505602\", \"505603\", \"505604\", \"505605\", \"505606\", \"505607\", \"505608\", \n\"505609\", \"505610\", \"505611\", \"505612\", \"505613\", \"505614\", \"505615\", \n\"505616\", \"505617\", \"505618\", \"505619\", \"505620\", \"505621\", \"505622\", \n\"505623\", \"505624\", \"505625\", \"505626\", \"505627\", \"505628\", \"505862\", \n\"505863\", \"505864\", \"505865\", \"505866\", \"505867\", \"505868\", \"505869\", \n\"505870\", \"505871\", \"505872\", \"505873\", \"505874\", \"505875\", \"505876\", \n\"505877\", \"505878\", \"505879\", \"505880\", \"505881\", \"505882\", \"505883\", \n\"505884\", \"505885\", \"505886\", \"505887\", \"505888\", \"505889\", \"505890\", \n\"505891\", \"505892\", \"505893\", \"506140\", \"506141\", \"506142\", \"506143\", \n\"506144\", \"506145\", \"506146\", \"506147\", \"506148\", \"506149\", \"506150\", \n\"506151\", \"506152\", \"506153\", \"506154\", \"506155\", \"506156\", \"506157\", \n\"506158\", \"506159\", \"506160\", \"506161\", \"506162\", \"506163\", \"506164\", \n\"506165\", \"506166\", \"506167\", \"506295\", \"506296\", \"506297\", \"506298\", \n\"506299\", \"506300\", \"506301\", \"506302\", \"506303\", \"506304\", \"506305\", \n\"506306\", \"506307\", \"506308\", \"506309\", \"506310\", \"506311\", \"506312\", \n\"506313\", \"506314\", \"506315\", \"506316\", \"506317\", \"506318\", \"506319\", \n\"506320\", \"506321\", \"506322\", \"506323\", \"506324\", \"506325\", \"506326\", \n\"506327\", \"506328\", \"506329\", \"506330\", \"506331\", \"506332\", \"506333\", \n\"506334\", \"506335\", \"506336\", \"506337\", \"506338\", \"506339\", \"506340\", \n\"506580\", \"506581\", \"506582\", \"506583\", \"506584\", \"507035\", \"507036\", \n\"507037\", \"507038\", \"507039\", \"507040\", \"507041\", \"507042\", \"507043\", \n\"507044\", \"507045\", \"507046\", \"507047\", \"507048\", \"507049\", \"507050\", \n\"507051\", \"507052\", \"507053\", \"507054\", \"507055\", \"507056\", \"507057\", \n\"507058\", \"507059\", \"507060\", \"507061\", \"507062\", \"507063\", \"507064\", \n\"507065\", \"507066\", \"507067\", \"507068\", \"507133\", \"507134\", \"507135\", \n\"507136\", \"507137\", \"507138\", \"507139\", \"507140\", \"507141\", \"507142\", \n\"507143\", \"507144\", \"507145\", \"507146\", \"507147\", \"507276\", \"507277\", \n\"507278\", \"507279\", \"507280\", \"507281\", \"507282\", \"507283\", \"507284\", \n\"507285\", \"507286\", \"507287\", \"507288\", \"507289\", \"507290\", \"507291\", \n\"507292\", \"507293\", \"507348\", \"507349\", \"507350\", \"507351\", \"507352\", \n\"507353\", \"507354\", \"507355\", \"507356\", \"507357\", \"507358\", \"507359\", \n\"507458\", \"507459\", \"507460\", \"507461\", \"507462\", \"507463\", \"507464\", \n\"507465\", \"507466\", \"507467\", \"507468\", \"507469\", \"507470\", \"507471\", \n\"507472\", \"507473\", \"507474\", \"507475\", \"507476\", \"507477\", \"507478\", \n\"507479\", \"507480\", \"507481\", \"507482\", \"507483\", \"507523\", \"507524\", \n\"507525\", \"507526\", \"507527\", \"507528\", \"507529\", \"507530\", \"507531\", \n\"507532\", \"507533\", \"507534\", \"507535\", \"507536\", \"507537\", \"507538\", \n\"507539\", \"507540\", \"507541\", \"507577\", \"507578\", \"507579\", \"507580\", \n\"507581\", \"507582\", \"507583\", \"507584\", \"507585\", \"507586\", \"507587\", \n\"507588\", \"507589\", \"507590\", \"507640\", \"507641\", \"507642\", \"507643\", \n\"507644\", \"507645\", \"507646\", \"507647\", \"507648\", \"507649\", \"507650\", \n\"507651\", \"507652\", \"507653\", \"507654\", \"507655\", \"507778\", \"507779\", \n\"507780\", \"507781\", \"507782\", \"507783\", \"507784\", \"507785\", \"507786\", \n\"507787\", \"507788\", \"507789\", \"507790\", \"507791\", \"507792\", \"507793\", \n\"507794\", \"507795\", \"507796\", \"507797\", \"507798\", \"507799\", \"507800\", \n\"507801\", \"507802\", \"507803\", \"507804\", \"507805\", \"507806\", \"507807\", \n\"507808\", \"507809\", \"507810\", \"507811\", \"507812\", \"507813\", \"507814\", \n\"507815\", \"507816\", \"507817\", \"507818\", \"507819\", \"507820\", \"507821\", \n\"507822\", \"507823\", \"507824\", \"507825\", \"507826\", \"507827\", \"507828\", \n\"507829\", \"507830\", \"507831\", \"507832\", \"507833\", \"507834\", \"507835\", \n\"507836\", \"507837\", \"507838\", \"507839\", \"507840\", \"507963\", \"507964\", \n\"507965\", \"507966\", \"507967\", \"507968\", \"507969\", \"507970\", \"507971\", \n\"507972\", \"507973\", \"507974\", \"507975\", \"507976\", \"507977\", \"507978\", \n\"507979\", \"507980\", \"507981\", \"508105\", \"508106\", \"508107\", \"508108\", \n\"508109\", \"508110\", \"508111\", \"508112\", \"508113\", \"508114\", \"508165\", \n\"508166\", \"508167\", \"508168\", \"508169\", \"508170\", \"508171\", \"508172\", \n\"508173\", \"508174\", \"508175\", \"508176\", \"508177\", \"508178\", \"508179\", \n\"508180\", \"508181\", \"508182\", \"508183\", \"508184\", \"508185\", \"508186\", \n\"508187\", \"508188\", \"508189\", \"508190\", \"508191\", \"508192\", \"508193\", \n\"508194\", \"508195\", \"508196\", \"508197\", \"508198\", \"508199\", \"508200\", \n\"508201\", \"508202\", \"508203\", \"508204\", \"508205\", \"508206\", \"508207\", \n\"508208\", \"508209\", \"508210\", \"508211\", \"508212\", \"508213\", \"508669\", \n\"508670\", \"508671\", \"508672\", \"508673\", \"508674\", \"508675\", \"508676\", \n\"508677\", \"508678\", \"508679\", \"508680\", \"508681\", \"508682\", \"508683\", \n\"508684\", \"508685\", \"508686\", \"508687\", \"508688\", \"508689\", \"508690\", \n\"508691\", \"508692\", \"508693\", \"508694\", \"508695\", \"508696\", \"508697\", \n\"508698\", \"508699\", \"508700\", \"508701\", \"508702\", \"508703\", \"508704\", \n\"508705\", \"508706\", \"508707\", \"508708\", \"508709\", \"508710\", \"508711\", \n\"508712\", \"508713\", \"508714\", \"508715\", \"508716\", \"508717\", \"508718\", \n\"508719\", \"508720\", \"508721\", \"508722\", \"508723\", \"508724\", \"508725\", \n\"508726\", \"508727\", \"508728\", \"508729\", \"508730\", \"508731\", \"508732\", \n\"508733\", \"508734\", \"508735\", \"509090\", \"509091\", \"509092\", \"509093\", \n\"509094\", \"509095\", \"509096\", \"509097\", \"509098\", \"509099\", \"509100\", \n\"509101\", \"509102\", \"509103\", \"509104\", \"509105\", \"509106\", \"509107\", \n\"509108\", \"509109\", \"509110\", \"509111\", \"509112\", \"509113\", \"509114\", \n\"509359\", \"509360\", \"509361\", \"509362\", \"509363\", \"509364\", \"509365\", \n\"509366\", \"509367\", \"509368\", \"509369\", \"509370\", \"509371\", \"509372\", \n\"509373\", \"509374\", \"509375\", \"509376\", \"509377\", \"509378\", \"509379\", \n\"509380\", \"509381\", \"509382\", \"509398\", \"509399\", \"509400\", \"509401\", \n\"509402\", \"509403\", \"509404\", \"509405\", \"509406\", \"509407\", \"509408\", \n\"509409\", \"509410\", \"509411\", \"509412\", \"509413\", \"509414\", \"509415\", \n\"509416\", \"509417\", \"509570\", \"509571\", \"509572\", \"509573\", \"509574\", \n\"509575\", \"509576\", \"509577\", \"509578\", \"509579\", \"509580\", \"509581\", \n\"509582\", \"509583\", \"509584\", \"509585\", \"509586\", \"509587\", \"509588\", \n\"509589\", \"509590\", \"509591\", \"509592\", \"509593\", \"509594\", \"509595\", \n\"509596\", \"509597\", \"509598\", \"509599\", \"509600\", \"509861\", \"509862\", \n\"509863\", \"509864\", \"509865\", \"509866\", \"509867\", \"509868\", \"509869\", \n\"509870\", \"509871\", \"509872\", \"509873\", \"509874\", \"509875\", \"509876\", \n\"509877\", \"509878\", \"509879\", \"509880\", \"509881\", \"509882\", \"509883\", \n\"509884\", \"509885\", \"509886\", \"509887\", \"509888\", \"509889\", \"509890\", \n\"509891\", \"509960\", \"509961\", \"509962\", \"509963\", \"509964\", \"509965\", \n\"509966\", \"509967\", \"509968\", \"509969\", \"509970\", \"509971\", \"510137\", \n\"510138\", \"510139\", \"510140\", \"510141\", \"510142\", \"510143\", \"510144\", \n\"510145\", \"510146\", \"510147\", \"510148\", \"510149\", \"510150\", \"510151\", \n\"510152\", \"510153\", \"510154\", \"510155\", \"510337\", \"510338\", \"510339\", \n\"510340\", \"510341\", \"510342\", \"510343\", \"510344\", \"510345\", \"510346\", \n\"510347\", \"510348\", \"510349\", \"510350\", \"510351\", \"510352\", \"510353\", \n\"510354\", \"510355\", \"510356\", \"510357\", \"510414\", \"510415\", \"510416\", \n\"510417\", \"510418\", \"510419\", \"510420\", \"510421\", \"510422\", \"510423\", \n\"510424\", \"510425\", \"510426\", \"510427\", \"510428\", \"510429\", \"510430\", \n\"510431\", \"510432\", \"510433\", \"510434\", \"510435\", \"510662\", \"510663\", \n\"510664\", \"510665\", \"510666\", \"510667\", \"510668\", \"510669\", \"510670\", \n\"510671\", \"510672\", \"510673\", \"510674\", \"510675\", \"510676\", \"510677\", \n\"510678\", \"510679\", \"510917\", \"510918\", \"510919\", \"510920\", \"510921\", \n\"510922\", \"510923\", \"510924\", \"510925\", \"510926\", \"510927\", \"510928\", \n\"510929\", \"510930\", \"510931\", \"510932\", \"510933\", \"511003\", \"511004\", \n\"511005\", \"511006\", \"511007\", \"511008\", \"511009\", \"511010\", \"511011\", \n\"511012\", \"511013\", \"511014\", \"511015\", \"511016\", \"511017\", \"511018\", \n\"511019\", \"511020\", \"511021\", \"511022\", \"511023\", \"511024\", \"511025\", \n\"511026\", \"511027\", \"511028\", \"511029\", \"511049\", \"511050\", \"511051\", \n\"511052\", \"511053\", \"511054\", \"511055\", \"511056\", \"511057\", \"511058\", \n\"511059\", \"511060\", \"511061\", \"511062\", \"511063\", \"511064\", \"511200\", \n\"511201\", \"511202\", \"511203\", \"511204\", \"511205\", \"511206\", \"511207\", \n\"511208\", \"511209\", \"511210\", \"511211\", \"511212\", \"511213\", \"511214\", \n\"511215\", \"511216\", \"511217\", \"511218\", \"511219\", \"511220\", \"511221\", \n\"511222\", \"511223\", \"511224\", \"511225\", \"511226\", \"511227\", \"511228\", \n\"511229\", \"511230\", \"511231\", \"511232\", \"511233\", \"511234\", \"511840\", \n\"511841\", \"511842\", \"511843\", \"511844\", \"511845\", \"511846\", \"511847\", \n\"511848\", \"511849\", \"511850\", \"511851\", \"512021\", \"512022\", \"512023\", \n\"512024\", \"512025\", \"512026\", \"512027\", \"512028\", \"512029\", \"512030\", \n\"512031\", \"512032\", \"512033\", \"512034\", \"512035\", \"512036\", \"512037\", \n\"512038\", \"512039\", \"512040\", \"512041\", \"512042\", \"512043\", \"512044\", \n\"512045\", \"512046\", \"512047\", \"512048\", \"512049\", \"512050\", \"512051\", \n\"512052\", \"512053\", \"512054\", \"512055\", \"512056\", \"512057\", \"512058\", \n\"512059\", \"512060\", \"512061\", \"512062\", \"512063\", \"512064\", \"512065\", \n\"512066\", \"512067\", \"512669\", \"512670\", \"512671\", \"512672\", \"512673\", \n\"512674\", \"512675\", \"512676\", \"512677\", \"512678\", \"512679\", \"512680\", \n\"512681\", \"512682\", \"512683\", \"512684\", \"512685\", \"512686\", \"512687\", \n\"512688\", \"513124\", \"513125\", \"513126\", \"513127\", \"513128\", \"513129\", \n\"513130\", \"513131\", \"513132\", \"513133\", \"513134\", \"513135\", \"513136\", \n\"513137\", \"513138\", \"513139\", \"513140\", \"513141\", \"513142\", \"513143\", \n\"513144\", \"513145\", \"513146\", \"513147\", \"513148\", \"513149\", \"513150\", \n\"513151\", \"513152\", \"513153\", \"513154\", \"513155\", \"513156\", \"513157\", \n\"513158\", \"513159\", \"513160\", \"513161\", \"513162\", \"513163\", \"513164\", \n\"513165\", \"513166\", \"513167\", \"513168\", \"513169\", \"513170\", \"513171\", \n\"513172\", \"513173\", \"513174\", \"513175\", \"513176\", \"513177\", \"513178\", \n\"513179\", \"513180\", \"513181\", \"513182\", \"513183\", \"513184\", \"513185\", \n\"513186\", \"513187\", \"513188\", \"513189\", \"513190\", \"513191\", \"513192\", \n\"513193\", \"513194\", \"513195\", \"513196\", \"513197\", \"513198\", \"513199\", \n\"513200\", \"513201\", \"513202\", \"513203\", \"513204\", \"513205\", \"513206\", \n\"513207\", \"513208\", \"513209\", \"513210\", \"513412\", \"513413\", \"513414\", \n\"513415\", \"513416\", \"513417\", \"513418\", \"513419\", \"513420\", \"513421\", \n\"513422\", \"513423\", \"513424\", \"513425\", \"513426\", \"513427\", \"513428\", \n\"513429\", \"513430\", \"513431\", \"513432\", \"513433\", \"513434\", \"513435\", \n\"513436\", \"513437\", \"513438\", \"513439\", \"513440\", \"513441\", \"513442\", \n\"513443\", \"513444\", \"513445\", \"513446\", \"513447\", \"513448\", \"513449\", \n\"513450\", \"513451\", \"513452\", \"513453\", \"513454\", \"513455\", \"513456\", \n\"513457\", \"513458\", \"513459\", \"513460\", \"513461\", \"513462\", \"513463\", \n\"513464\", \"513465\", \"513466\", \"513467\", \"513468\", \"513469\", \"513470\", \n\"513471\", \"513472\", \"513473\", \"513474\", \"513475\", \"513476\", \"513477\", \n\"513718\", \"513719\", \"513720\", \"513721\", \"513722\", \"513723\", \"513724\", \n\"513725\", \"513726\", \"513727\", \"513728\", \"513729\", \"513730\", \"513731\", \n\"513732\", \"513733\", \"513734\", \"513735\", \"513888\", \"513889\", \"513890\", \n\"513891\", \"513892\", \"513893\", \"513894\", \"513895\", \"513896\", \"513897\", \n\"514183\", \"514184\", \"514185\", \"514186\", \"514187\", \"514188\", \"514189\", \n\"514190\", \"514191\", \"514192\", \"514193\", \"514194\", \"514195\", \"514196\", \n\"514197\", \"514645\", \"514646\", \"514647\", \"514648\", \"514649\", \"514650\", \n\"514651\", \"514652\", \"514653\", \"514654\", \"514655\", \"514656\", \"514657\", \n\"514658\", \"514659\", \"514660\", \"514661\", \"514662\", \"514663\", \"514664\", \n\"514665\", \"514666\", \"514667\", \"514668\", \"514669\", \"514670\", \"514671\", \n\"514672\", \"514802\", \"514803\", \"514804\", \"514805\", \"514806\", \"514807\", \n\"514808\", \"514809\", \"514810\", \"514811\", \"514812\", \"514813\", \"514814\", \n\"514815\", \"515039\", \"515040\", \"515041\", \"515042\", \"515043\", \"515044\", \n\"515045\", \"515046\", \"515047\", \"515048\", \"515049\", \"515050\", \"515051\", \n\"515052\", \"515053\", \"515054\", \"515055\", \"515056\", \"515057\", \"515058\", \n\"515059\", \"515060\", \"515117\", \"515118\", \"515119\", \"515120\", \"515121\", \n\"515122\", \"515123\", \"515124\", \"515125\", \"515126\", \"515127\", \"515128\", \n\"515129\", \"515130\", \"515131\", \"515132\", \"515133\", \"515134\", \"515135\", \n\"515136\", \"515137\", \"515138\", \"515202\", \"515203\", \"515204\", \"515205\", \n\"515206\", \"515207\", \"515208\", \"515209\", \"515210\", \"515211\", \"515212\", \n\"515213\", \"515214\", \"515215\", \"515216\", \"515217\", \"515218\", \"515219\", \n\"515220\", \"515237\", \"515238\", \"515239\", \"515240\", \"515241\", \"515242\", \n\"515243\", \"515244\", \"515245\", \"515246\", \"515247\", \"515477\", \"515478\", \n\"515479\", \"515480\", \"515481\", \"515482\", \"515483\", \"515484\", \"515485\", \n\"515486\", \"515487\", \"515488\", \"515489\", \"515490\", \"515491\", \"515492\", \n\"515493\", \"515494\", \"515495\", \"515496\", \"515497\", \"515498\", \"515499\", \n\"515500\", \"515501\", \"515502\", \"515709\", \"515710\", \"515711\", \"515712\", \n\"515713\", \"515714\", \"515715\", \"515716\", \"515717\", \"515718\", \"515719\", \n\"515720\", \"515721\", \"515722\", \"515723\", \"515724\", \"515725\", \"515726\", \n\"515727\", \"515728\", \"515729\", \"515730\", \"515731\", \"515732\", \"515733\", \n\"515734\", \"515735\", \"515736\", \"515737\", \"515738\", \"515739\", \"515740\", \n\"515741\", \"515742\", \"515743\", \"515744\", \"515745\", \"515746\", \"515747\", \n\"515748\", \"515749\", \"515750\", \"515751\", \"515752\", \"515753\", \"515754\", \n\"515755\", \"515756\", \"515757\", \"515758\", \"515759\", \"515760\", \"515761\", \n\"515762\", \"515763\", \"515764\", \"516097\", \"516098\", \"516099\", \"516100\", \n\"516101\", \"516102\", \"516103\", \"516104\", \"516105\", \"516106\", \"516107\", \n\"516108\", \"516109\", \"516170\", \"516171\", \"516172\", \"516173\", \"516174\", \n\"516175\", \"516176\", \"516177\", \"516178\", \"516179\", \"516180\", \"516181\", \n\"516182\", \"516183\", \"516184\", \"516185\", \"516186\", \"516187\", \"516188\", \n\"516189\", \"516190\", \"516191\", \"516615\", \"516616\", \"516617\", \"516618\", \n\"516619\", \"516620\", \"516621\", \"516622\", \"516623\", \"516624\", \"516625\", \n\"516626\", \"516627\", \"516628\", \"516629\", \"516630\", \"516631\", \"516632\", \n\"516633\", \"516634\", \"516635\", \"516636\", \"516637\", \"516638\", \"516639\", \n\"516640\", \"516641\", \"516642\", \"516643\", \"516644\", \"516645\", \"516646\", \n\"516647\", \"516648\", \"516721\", \"516722\", \"516723\", \"516724\", \"516725\", \n\"516726\", \"516727\", \"516728\", \"516729\", \"516730\", \"516731\", \"516732\", \n\"516733\", \"516734\", \"516735\", \"516736\", \"516737\", \"516738\", \"516739\", \n\"516740\", \"516741\", \"516742\", \"516743\", \"516744\", \"516745\", \"516746\", \n\"516747\", \"516748\", \"516749\", \"516750\", \"516751\", \"516752\", \"516753\", \n\"516754\", \"516755\", \"516756\", \"516757\", \"516758\", \"516759\", \"516760\", \n\"516761\", \"516762\", \"516763\", \"516764\", \"516765\", \"516766\", \"516767\", \n\"516768\", \"516769\", \"516770\", \"516771\", \"516772\", \"516773\", \"516774\", \n\"517133\", \"517134\", \"517135\", \"517136\", \"517137\", \"517138\", \"517139\", \n\"517140\", \"517141\", \"517142\", \"517143\", \"517144\", \"517145\", \"517146\", \n\"517147\", \"517148\", \"517149\", \"517150\", \"517151\", \"517152\", \"517153\", \n\"517154\", \"517155\", \"517156\", \"517157\", \"517158\", \"517159\", \"517160\", \n\"517161\", \"517162\", \"517163\", \"517164\", \"517165\", \"517166\", \"517167\", \n\"517168\", \"517169\", \"517170\", \"517171\", \"517172\", \"517173\", \"517174\", \n\"517175\", \"517176\", \"517177\", \"517178\", \"517355\", \"517356\", \"517357\", \n\"517358\", \"517359\", \"517360\", \"517361\", \"517362\", \"517363\", \"517364\", \n\"517607\", \"517608\", \"517609\", \"517610\", \"517611\", \"517612\", \"517613\", \n\"517614\", \"517615\", \"517616\", \"517617\", \"517618\", \"517619\", \"517620\", \n\"517777\", \"517778\", \"517779\", \"517780\", \"517781\", \"517782\", \"517783\", \n\"517784\", \"517785\", \"517786\", \"517787\", \"517788\", \"517789\", \"517790\", \n\"517791\", \"517792\", \"517793\", \"517794\", \"517795\", \"517796\", \"517797\", \n\"517798\", \"517799\", \"517800\", \"517801\", \"517802\", \"517803\", \"517952\", \n\"517953\", \"517954\", \"517955\", \"517956\", \"517957\", \"517958\", \"517959\", \n\"517960\", \"517961\", \"517962\", \"517963\", \"517964\", \"517965\", \"517966\", \n\"517967\", \"517968\", \"517969\", \"517970\", \"517971\", \"517972\", \"518058\", \n\"518059\", \"518060\", \"518061\", \"518062\", \"518063\", \"518064\", \"518065\", \n\"518066\", \"518067\", \"518068\", \"518069\", \"518070\", \"518071\", \"518072\", \n\"518073\", \"518074\", \"518075\", \"518076\", \"518077\", \"518078\", \"518079\", \n\"518080\", \"518081\", \"518082\", \"518083\", \"518084\", \"518085\", \"518086\", \n\"518202\", \"518203\", \"518204\", \"518205\", \"518206\", \"518207\", \"518208\", \n\"518209\", \"518210\", \"518211\", \"518212\", \"518213\", \"518214\", \"518215\", \n\"518216\", \"518217\", \"518218\", \"518219\", \"518220\", \"518221\", \"518222\", \n\"518223\", \"518224\", \"518225\", \"518226\", \"518227\", \"518228\", \"518229\", \n\"518230\", \"518231\", \"518270\", \"518271\", \"518272\", \"518273\", \"518274\", \n\"518275\", \"518276\", \"518277\", \"518278\", \"518279\", \"518280\", \"518281\", \n\"518282\", \"518283\", \"518284\", \"518285\", \"518286\", \"518287\", \"518435\", \n\"518436\", \"518437\", \"518438\", \"518439\", \"518440\", \"518441\", \"518442\", \n\"518443\", \"518444\", \"518445\", \"518446\", \"518447\", \"518448\", \"518449\", \n\"518450\")))\n\nDeviance Residuals: \n     Min        1Q    Median        3Q       Max  \n-0.54654  -0.01385   0.03612   0.05151   0.22644  \n\nCoefficients:\n                                              Estimate Std. Error t value\n(Intercept)                                  1.5550830  0.0084603 183.809\ngender1                                      0.0010490  0.0008075   1.299\nyear2019                                    -0.0012002  0.0009880  -1.215\nyear2020                                    -0.0019533  0.0010703  -1.825\nyear2021                                     0.0020579  0.0012365   1.664\nyear2022                                     0.0008959  0.0009593   0.934\nq2                                          -0.0070854  0.0087511  -0.810\nq3                                           0.0034363  0.0083981   0.409\nField_EnglishChemistry                       0.0013820  0.0009866   1.401\nField_EnglishEarth & Environmental Sciences -0.0037429  0.0008464  -4.422\nField_EnglishPhysics & Astronomy            -0.0050915  0.0009033  -5.637\n                                            Pr(>|t|)    \n(Intercept)                                  < 2e-16 ***\ngender1                                       0.1940    \nyear2019                                      0.2245    \nyear2020                                      0.0680 .  \nyear2021                                      0.0961 .  \nyear2022                                      0.3503    \nq2                                            0.4181    \nq3                                            0.6824    \nField_EnglishChemistry                        0.1613    \nField_EnglishEarth & Environmental Sciences 9.78e-06 ***\nField_EnglishPhysics & Astronomy            1.74e-08 ***\n---\nSignif. codes:  0 ‘***’ 0.001 ‘**’ 0.01 ‘*’ 0.05 ‘.’ 0.1 ‘ ’ 1\n\n(Dispersion parameter for Gamma family taken to be 0.008596922)\n\n    Null deviance: 911.04  on 88220  degrees of freedom\nResidual deviance: 910.22  on 88210  degrees of freedom\nAIC: 120683\n\nNumber of Fisher Scoring iterations: 4\n\n\n"
     ]
    }
   ],
   "source": [
    "tmp = pd.DataFrame()\n",
    "tmp['certainty'] = dummy['certainty']\n",
    "tmp['gender'] = dummy['gender']\n",
    "tmp['year'] = dummy['year']\n",
    "tmp['Domain_English'] = dummy['Domain_English']\n",
    "tmp['Field_English'] = dummy['Field_English']\n",
    "tmp['SubField_English'] = dummy['SubField_English']\n",
    "tmp['q'] = dummy['q']\n",
    "tmp['post_id'] = dummy['post_id']\n",
    "\n",
    "tmp = tmp.dropna(subset = ['certainty'])\n",
    "\n",
    "#We get same significance decision for both gaussian and gamma (identity) distribution\n",
    "#gamma identity and log gives same significance\n",
    "#entire data: insignificant #coeff: -1.944e-05\n",
    "\n",
    "#tmp = tmp[tmp['Domain_English'] == 'Applied Sciences'] #insig, coeff = 0.00022\n",
    "#tmp = tmp[tmp['Domain_English'] == 'Arts & Humanities'] #insig, coeff = 0.020 //for gamma(identity), p val = 0.06684 .\n",
    "#tmp = tmp[tmp['Domain_English'] == 'Economic & Social Sciences'] # gender1 = 0.019030, err = 0.003022, p val = 3.23e-10 *** (men get less certainty score), CI 0.013105870 0.024953715 (2.5% 97.5%)\n",
    "#tmp = tmp[tmp['Domain_English'] == 'Health Sciences'] #gender1 = -2.730e-03, err = 7.327e-04, p val = 0.000195 *** (men get more certainty score), CI -0.0041663894 -0.0012940957\n",
    "tmp = tmp[tmp['Domain_English'] == 'Natural Sciences'] #insig, coeff = 0.0010490\n",
    "\n",
    "\n",
    "with localconverter(ro.default_converter + pandas2ri.converter):\n",
    "  tst_df = ro.conversion.py2rpy(tmp)\n",
    "\n",
    "col_2_index = list(tst_df.colnames).index('year')\n",
    "col_2 = ro.vectors.FactorVector(tst_df.rx2('year'))\n",
    "tst_df[col_2_index] = col_2\n",
    "\n",
    "col_2_index = list(tst_df.colnames).index('q')\n",
    "col_2 = ro.vectors.FactorVector(tst_df.rx2('q'))\n",
    "tst_df[col_2_index] = col_2\n",
    "\n",
    "\n",
    "col_2_index = list(tst_df.colnames).index('gender')\n",
    "col_2 = ro.vectors.FactorVector(tst_df.rx2('gender'))\n",
    "tst_df[col_2_index] = col_2\n",
    "\n",
    "col_2_index = list(tst_df.colnames).index('Field_English')\n",
    "col_2 = ro.vectors.FactorVector(tst_df.rx2('Field_English'))\n",
    "tst_df[col_2_index] = col_2\n",
    "\n",
    "'''col_2_index = list(tst_df.colnames).index('post_id')\n",
    "col_2 = ro.vectors.FactorVector(tst_df.rx2('post_id'))\n",
    "tst_df[col_2_index] = col_2'''\n",
    "\n",
    "\n",
    "\n",
    "#print(tst_df)\n",
    "#pandas2ri.activate()\n",
    "model = stats.glm(\"certainty ~ gender+year+q+Field_English\",\n",
    "                  data=tst_df,family=ro.r('Gamma(link=\"log\")')) #family=ro.r('gaussian(link=\"identity\")') #family=ro.r('poisson(link=\"log\")') family=ro.r('gaussian')\n",
    "print(base.summary(model))"
   ]
  },
  {
   "cell_type": "code",
   "execution_count": 0,
   "metadata": {
    "application/vnd.databricks.v1+cell": {
     "cellMetadata": {
      "byteLimit": 2048000,
      "rowLimit": 10000
     },
     "inputWidgets": {},
     "nuid": "5b5a5bee-7d37-4817-a859-e8cb285fc641",
     "showTitle": false,
     "title": ""
    }
   },
   "outputs": [
    {
     "output_type": "stream",
     "name": "stdout",
     "output_type": "stream",
     "text": [
      "                                                     2.5 %        97.5 %\n(Intercept)                                   1.5301428036  1.6440998642\ngender1                                      -0.0041663894 -0.0012940957\nyear2019                                      0.0019186723  0.0056807962\nyear2020                                     -0.0017586962  0.0019082687\nyear2021                                      0.0018624457  0.0067342921\nyear2022                                     -0.0002375983  0.0035004112\nq2                                           -0.0921282842  0.0221557153\nq3                                           -0.0921919358  0.0217132777\nField_EnglishClinical Medicine                0.0005258172  0.0030882082\nField_EnglishPsychology & Cognitive Sciences -0.0073997121 -0.0002583344\nField_EnglishPublic Health & Health Services  0.0099849890  0.0153720452\n\n"
     ]
    }
   ],
   "source": [
    "a = stats.confint_default(model)\n",
    "print(a)"
   ]
  },
  {
   "cell_type": "code",
   "execution_count": 0,
   "metadata": {
    "application/vnd.databricks.v1+cell": {
     "cellMetadata": {
      "byteLimit": 2048000,
      "rowLimit": 10000
     },
     "inputWidgets": {},
     "nuid": "1833fac9-74b7-42c7-a9c4-aab9d255fb8e",
     "showTitle": false,
     "title": ""
    }
   },
   "outputs": [
    {
     "output_type": "stream",
     "name": "stdout",
     "output_type": "stream",
     "text": [
      "len of data  105908\nn0  79589  n1  26319  m0  4.734903371237231  m1  4.72440760590448  s0  0.47258245208041166  s1  0.48735967994805063\ncohen d  -0.021864905405786967\ncohen d  -0.02203615668214325\n"
     ]
    }
   ],
   "source": [
    "import numpy as np\n",
    "def cohend(d,outcome, val, domain):\n",
    "    data = d[d['Domain_English'] == domain]\n",
    "    print(\"len of data \",len(data))\n",
    "    grp1 = data[data[outcome] == 1]\n",
    "    grp0 = data[data[outcome] == 0]\n",
    "\n",
    "    n0,n1 = len(grp0),len(grp1)\n",
    "    m0, m1 = grp0[val].mean(), grp1[val].mean()\n",
    "\n",
    "    s0,s1 = grp0[val].std(), grp1[val].std()\n",
    "\n",
    "    print(\"n0 \",n0,\" n1 \",n1, \" m0 \",m0,\" m1 \",m1, \" s0 \",s0,\" s1 \",s1)\n",
    "\n",
    "    spooled1 = np.sqrt(((s0*s0)+(s1*s1))/2)\n",
    "    print(\"cohen d \", (m1 - m0)/spooled1)\n",
    "\n",
    "    spooled2 = (((n0 - 1) * s0 * s0) + ((n1 - 1) * s1 * s1))/(n0 + n1 - 2)\n",
    "    spooled2 = np.sqrt(spooled2)\n",
    "    print(\"cohen d \", (m1 - m0)/spooled2)\n",
    "\n",
    "#cohend(dummy.copy(deep = True), 'gender','certainty','Applied Sciences') \n",
    "\n",
    "#cohend(dummy.copy(deep = True), 'gender','certainty','Arts & Humanities') \n",
    "\n",
    "#cohend(dummy.copy(deep = True), 'gender','certainty','Economic & Social Sciences') #0.2877\n",
    "\n",
    "#cohend(dummy.copy(deep = True), 'gender','certainty','Natural Sciences') \n",
    "\n",
    "#cohend(dummy.copy(deep = True), 'gender','certainty','Health Sciences') #-0.022"
   ]
  },
  {
   "cell_type": "code",
   "execution_count": 0,
   "metadata": {
    "application/vnd.databricks.v1+cell": {
     "cellMetadata": {
      "byteLimit": 2048000,
      "rowLimit": 10000
     },
     "inputWidgets": {},
     "nuid": "a36f8fde-6ba3-4205-9a72-6d0f2329d24d",
     "showTitle": false,
     "title": ""
    }
   },
   "outputs": [
    {
     "output_type": "stream",
     "name": "stdout",
     "output_type": "stream",
     "text": [
      "518451\n5851\n"
     ]
    }
   ],
   "source": [
    "print(len(dummy))\n",
    "print(dummy['doi'].nunique())"
   ]
  },
  {
   "cell_type": "markdown",
   "metadata": {
    "application/vnd.databricks.v1+cell": {
     "cellMetadata": {},
     "inputWidgets": {},
     "nuid": "b611263e-01fc-4630-93a0-7ea5efdced65",
     "showTitle": false,
     "title": ""
    }
   },
   "source": [
    "### Weighted Regression"
   ]
  },
  {
   "cell_type": "code",
   "execution_count": 0,
   "metadata": {
    "application/vnd.databricks.v1+cell": {
     "cellMetadata": {
      "byteLimit": 2048000,
      "rowLimit": 10000
     },
     "inputWidgets": {},
     "nuid": "53718ab7-1e76-4d57-aa76-de75334cf04e",
     "showTitle": false,
     "title": ""
    }
   },
   "outputs": [],
   "source": [
    "weight = []\n",
    "for ind in dummy.index:\n",
    "    weight.append(1/dummy['sent_len'][ind])\n",
    "\n",
    "dummy['weight'] = weight"
   ]
  },
  {
   "cell_type": "code",
   "execution_count": 0,
   "metadata": {
    "application/vnd.databricks.v1+cell": {
     "cellMetadata": {
      "byteLimit": 2048000,
      "rowLimit": 10000
     },
     "inputWidgets": {},
     "nuid": "97b2a0bb-9f35-41c9-943c-855f4563c6ee",
     "showTitle": false,
     "title": ""
    }
   },
   "outputs": [
    {
     "output_type": "stream",
     "name": "stdout",
     "output_type": "stream",
     "text": [
      "\nCall:\n(function (formula, family = gaussian, data, weights, subset, \n    na.action, start = NULL, etastart, mustart, offset, control = list(...), \n    model = TRUE, method = \"glm.fit\", x = FALSE, y = TRUE, singular.ok = TRUE, \n    contrasts = NULL, ...) \n{\n    cal <- match.call()\n    if (is.character(family)) \n        family <- get(family, mode = \"function\", envir = parent.frame())\n    if (is.function(family)) \n        family <- family()\n    if (is.null(family$family)) {\n        print(family)\n        stop(\"'family' not recognized\")\n    }\n    if (missing(data)) \n        data <- environment(formula)\n    mf <- match.call(expand.dots = FALSE)\n    m <- match(c(\"formula\", \"data\", \"subset\", \"weights\", \"na.action\", \n        \"etastart\", \"mustart\", \"offset\"), names(mf), 0L)\n    mf <- mf[c(1L, m)]\n    mf$drop.unused.levels <- TRUE\n    mf[[1L]] <- quote(stats::model.frame)\n    mf <- eval(mf, parent.frame())\n    if (identical(method, \"model.frame\")) \n        return(mf)\n    if (!is.character(method) && !is.function(method)) \n        stop(\"invalid 'method' argument\")\n    if (identical(method, \"glm.fit\")) \n        control <- do.call(\"glm.control\", control)\n    mt <- attr(mf, \"terms\")\n    Y <- model.response(mf, \"any\")\n    if (length(dim(Y)) == 1L) {\n        nm <- rownames(Y)\n        dim(Y) <- NULL\n        if (!is.null(nm)) \n            names(Y) <- nm\n    }\n    X <- if (!is.empty.model(mt)) \n        model.matrix(mt, mf, contrasts)\n    else matrix(, NROW(Y), 0L)\n    weights <- as.vector(model.weights(mf))\n    if (!is.null(weights) && !is.numeric(weights)) \n        stop(\"'weights' must be a numeric vector\")\n    if (!is.null(weights) && any(weights < 0)) \n        stop(\"negative weights not allowed\")\n    offset <- as.vector(model.offset(mf))\n    if (!is.null(offset)) {\n        if (length(offset) != NROW(Y)) \n            stop(gettextf(\"number of offsets is %d should equal %d (number of observations)\", \n                length(offset), NROW(Y)), domain = NA)\n    }\n    mustart <- model.extract(mf, \"mustart\")\n    etastart <- model.extract(mf, \"etastart\")\n    fit <- eval(call(if (is.function(method)) \"method\" else method, \n        x = X, y = Y, weights = weights, start = start, etastart = etastart, \n        mustart = mustart, offset = offset, family = family, \n        control = control, intercept = attr(mt, \"intercept\") > \n            0L, singular.ok = singular.ok))\n    if (length(offset) && attr(mt, \"intercept\") > 0L) {\n        fit2 <- eval(call(if (is.function(method)) \"method\" else method, \n            x = X[, \"(Intercept)\", drop = FALSE], y = Y, mustart = fit$fitted.values, \n            weights = weights, offset = offset, family = family, \n            control = control, intercept = TRUE))\n        if (!fit2$converged) \n            warning(\"fitting to calculate the null deviance did not converge -- increase 'maxit'?\")\n        fit$null.deviance <- fit2$deviance\n    }\n    if (model) \n        fit$model <- mf\n    fit$na.action <- attr(mf, \"na.action\")\n    if (x) \n        fit$x <- X\n    if (!y) \n        fit$y <- NULL\n    structure(c(fit, list(call = cal, formula = formula, terms = mt, \n        data = data, offset = offset, control = control, method = method, \n        contrasts = attr(X, \"contrasts\"), xlevels = .getXlevels(mt, \n            mf))), class = c(fit$class, c(\"glm\", \"lm\")))\n})(formula = \"certainty ~ gender+year+q+Field_English\", family = structure(list(\n    family = \"Gamma\", link = \"identity\", linkfun = function (mu) \n    mu, linkinv = function (eta) \n    eta, variance = function (mu) \n    mu^2, dev.resids = function (y, mu, wt) \n    -2 * wt * (log(ifelse(y == 0, 1, y/mu)) - (y - mu)/mu), aic = function (y, \n        n, mu, wt, dev) \n    {\n        n <- sum(wt)\n        disp <- dev/n\n        -2 * sum(dgamma(y, 1/disp, scale = mu * disp, log = TRUE) * \n            wt) + 2\n    }, mu.eta = function (eta) \n    rep.int(1, length(eta)), initialize = expression({\n        if (any(y <= 0)) \n            stop(\"non-positive values not allowed for the 'Gamma' family\")\n        n <- rep.int(1, nobs)\n        mustart <- y\n    }), validmu = function (mu) \n    all(is.finite(mu)) && all(mu > 0), valideta = function (eta) \n    TRUE, simulate = function (object, nsim) \n    {\n        wts <- object$prior.weights\n        if (any(wts != 1)) \n            message(\"using weights as shape parameters\")\n        ftd <- fitted(object)\n        shape <- MASS::gamma.shape(object)$alpha * wts\n        rgamma(nsim * length(ftd), shape = shape, rate = shape/ftd)\n    }), class = \"family\"), data = structure(list(certainty = c(2.9951167, \n4.8925796, 5.010381, 4.860387, 4.8291693, 4.778159, 4.385622, \n4.4875083, 4.247546, 4.7112694, 4.984131, 4.994969, 4.862889, \n5.0623093, 4.923134, 4.4506793, 5.0232353, 5.0151215, 4.988541, \n4.9724755, 5.003523, 5.108502, 4.9879436, 4.5153275, 4.3666306, \n4.997339, 4.946185, 5.0049114, 4.9453654, 4.7926707, 4.9608474, \n4.862889, 5.0623093, 4.923134, 4.4506793, 5.022636, 5.0153284, \n4.988541, 4.9724755, 5.003523, 5.108502, 4.9758782, 4.4950385, \n4.3666306, 5.026787, 4.953217, 5.0250263, 4.7112694, 4.984131, \n4.994969, 4.862889, 5.0623093, 4.923134, 4.4506793, 5.0232353, \n5.0151215, 4.988541, 4.9724755, 5.003523, 5.108502, 4.9879436, \n4.5153275, 4.3666306, 4.946185, 5.0049114, 4.9453654, 4.7112694, \n4.984131, 4.994969, 4.862889, 5.0623093, 4.923134, 4.4506793, \n5.0232353, 5.0151215, 4.988541, 4.9724755, 5.003523, 5.1111608, \n4.9879436, 4.5153275, 4.3666306, 5.030484, 4.946185, 5.0049114, \n4.9453654, 4.9799366, 4.3633523, 3.0577552, 4.9709377, 4.9675384, \n4.3838067, 4.879117, 4.986221, 4.52568, 4.679224, 4.913078, 4.934705, \n4.837077, 4.1400347, 4.8048015, 4.553887, 4.993646, 5.0153904, \n4.9118657, 5.4973006, 4.6619134, 4.6127424, 5.0570593, 4.6795816, \n4.5863676, 4.3513603, 5.0179925, 4.8992257, 5.03187, 4.9846425, \n4.949787, 3.0177615, 4.9968987, 4.9885087, 4.9818964, 4.9705, \n4.9997597, 4.88792, 4.9945183, 4.8490906, 5.013941, 5.267514, \n4.998856, 4.9888773, 4.404801, 4.993895, 4.558783, 5.002089, \n4.8502893, 5.0062084, 4.854178, 4.8789525, 4.5627856, 4.69287, \n4.9831133, 4.764504, 5.109635, 4.9153833, 4.9973555, 4.958301, \n5.0028706, 4.8619614, 5.177917, 5.1533523, 4.536633, 4.9412227, \n5.01458, 4.867865, 4.960615, 5.031428, 4.8812327, 5.0440197, \n5.020165, 4.8492165, 4.9174404, 4.8096905, 4.79405, 4.919147, \n4.9926286, 4.973849, 3.992974, 4.863992, 4.9111276, 4.4326067, \n4.786563, 4.943277, 4.9931464, 5.0002565, 4.8612823, 4.373905, \n4.9468203, 3.0262454, 4.7237124, 4.9237056, 4.8723087, 4.9007983, \n4.945783, 5.016248, 4.7474136, 4.174466, 4.9662895, 4.960769, \n3.1982975, 5.0050764, 4.9810014, 4.999567, 4.8310103, 4.7148986, \n4.887626, 4.59025, 4.208624, 4.9610367, 4.993952, 4.9762583, \n4.626681, 4.4401464, 4.667428, 4.8155947, 4.723691, 4.9111733, \n4.9528193, 5.001666, 4.9620423, 4.9674926, 4.9642158, 5.025827, \n4.9785113, 4.9907866, 5.012792, 4.971833, 4.8446684, 5.0073476, \n4.528995, 4.9941626, 4.1119776, 4.991866, 5.042223, 4.918541, \n4.995574, 5.0192924, 4.8249383, 5.0205345, 3.9102955, 4.894068, \n4.9815836, 4.7561436, 4.705477, 4.6290793, 4.5916796, 4.752372, \n4.936739, 5.0314326, 4.9880033, 4.5379596, 4.343439, 5.006036, \n4.9696755, 4.9156265, 5.4472046, 5.004909, 3.057776, 4.9709377, \n4.9675384, 4.3838067, 4.8000083, 4.986221, 4.52568, 4.679224, \n4.913078, 4.934705, 4.837077, 4.1400347, 4.8048015, 4.553887, \n4.993646, 5.0153904, 4.9118657, 5.4973006, 4.6619134, 4.6127424, \n5.0570593, 4.6795816, 4.5863676, 4.3513603, 5.0179925, 4.8992257, \n5.03187, 4.9846425, 4.949787, 4.9715776, 4.9007983, 4.945783, \n5.016248, 4.7474136, 4.174466, 4.9662895, 4.960769, 3.1982975, \n5.0050764, 4.9810014, 4.999567, 4.8310103, 4.7148986, 4.887626, \n4.59025, 4.208624, 4.9610367, 4.993952, 4.9762583, 4.626681, \n4.4401464, 4.667428, 4.9929605, 4.8013263, 4.723691, 4.9111733, \n4.9528193, 5.001666, 4.9620423, 4.961446, 4.9642158, 5.025827, \n4.9785113, 4.989346, 5.0383863, 5.012792, 4.971833, 4.8446684, \n5.0073476, 4.528995, 4.9941626, 5.004, 4.1119776, 4.988596, 5.038027, \n4.918541, 4.9943476, 5.017047, 4.8249383, 5.0205345, 4.723691, \n4.9111733, 4.9528193, 5.001666, 4.9620423, 4.961446, 4.9642158, \n5.025827, 4.9785113, 4.989346, 5.012792, 4.971833, 4.8446684, \n5.0073476, 4.528995, 4.9941626, 4.1119776, 4.988596, 5.038027, \n4.918541, 4.9943476, 5.017047, 4.8249383, 5.0205345, 4.8714004, \n4.963477, 4.8013263, 4.723691, 4.9111733, 4.9528193, 5.001666, \n4.9620423, 4.961446, 4.9642158, 5.025827, 4.9785113, 4.989346, \n5.012792, 4.971833, 4.8265624, 5.0073476, 4.528995, 4.9941626, \n4.1119776, 4.991866, 5.038027, 4.918541, 4.9943476, 5.017047, \n4.8249383, 5.0205345, 3.0177615, 4.9968987, 4.9885087, 4.9818964, \n4.9705, 4.9997597, 4.8969364, 4.9857492, 4.9663525, 4.9945183, \n4.8490906, 5.013941, 5.267514, 4.998856, 4.9888773, 4.4215465, \n4.993895, 4.558783, 5.002089, 4.8502893, 5.0062084, 4.854178, \n4.8789525, 4.5627856, 4.69287, 4.9831133, 4.764504, 5.109635, \n4.9153833, 4.9973555, 4.958301, 5.0028706, 4.8619614, 5.2206283, \n5.1533523, 4.536633, 4.9412227, 5.01458, 4.867865, 4.9269433, \n4.9862065, 5.0188932, 4.8959284, 4.999602, 5.002502, 5.018229, \n4.421614, 4.9651423, 4.992225, 5.0290823, 4.8613644, 4.377891, \n5.0157413, 5.0103345, 3.8121893, 3.5083077, 4.8232083, 4.339302, \n4.4002147, 5.0050874, 4.8063893, 5.2141404, 5.030534, 5.032692, \n4.7165174, 4.676094, 4.713044, 3.8075707, 4.566518, 4.4519944, \n4.564617, 4.9782486, 5.0404677, 4.1752424, 3.1182604, 4.788747, \n4.987514, 4.5306573, 4.713614, 3.9340985, 5.0091085, 4.993012, \n4.255503, 4.8500085, 4.6967883, 5.3527193, 4.618621, 4.9473877, \n4.9766726, 4.5990753, 4.599738, 4.515487, 4.9119463, 4.5563846, \n4.4537354, 4.914098, 4.9027414, 4.725443, 4.9858747, 4.972737, \n3.0572677, 4.528696, 2.7960198, 4.9068418, 4.5912147, 4.9933877, \n3.561434, 4.8013263, 4.723691, 4.9111733, 4.9528193, 5.001666, \n4.9620423, 4.961446, 4.9642158, 5.025827, 4.9785113, 4.989346, \n5.012792, 4.971833, 4.8446684, 5.0073476, 4.528995, 4.9941626, \n4.1119776, 4.988596, 5.038027, 4.918541, 4.9943476, 5.017047, \n4.8249383, 5.0205345, 4.975119, 5.0410037, 3.9102955, 4.8013263, \n4.723691, 4.9111733, 4.9528193, 5.001666, 4.9620423, 4.961446, \n4.9642158, 5.025827, 4.9785113, 4.989346, 5.012792, 4.971833, \n4.8446684, 5.0073476, 4.528995, 4.9941626, 4.1119776, 4.988596, \n5.038027, 4.918541, 4.9943476, 5.017047, 4.8249383, 5.0205345, \n5.0126014, 3.057776, 4.9709377, 4.3838067, 4.8917084, 4.9852176, \n4.52568, 4.679224, 4.913078, 4.9270673, 4.842668, 4.086976, 4.8178015, \n4.5242867, 4.993646, 5.0153904, 4.9118657, 5.4973006, 4.6619134, \n4.5603766, 5.0570593, 4.519817, 4.5863676, 4.3513603, 4.987489, \n4.898809, 4.8729515, 4.826847, 4.713455, 4.7507396, 5.0008206, \n4.5887213, 4.8596244, 5.014155, 4.962207, 4.9320936, 4.957208, \n3.7921576, 4.360015, 3.31217, 4.765765, 5.050246, 4.5418577, \n4.9780717, 4.945821, 5.002419, 4.9928374, 4.918174, 4.919177, \n4.9561405, 4.8714695, 4.8119698, 4.95869, 4.8401117, 5.126627, \n4.980198, 4.983168, 4.5023513, 4.6863217, 4.9919615, 5.015945, \n4.5956397, 5.0115876, 5.023087, 5.03312, 4.897923, 4.91752, 4.8287063, \n4.899488, 4.6991553, 5.0412292, 4.9988847, 4.785852, 4.8310194, \n4.953223, 4.948598, 4.6805797, 4.897134, 4.9855895, 4.9070044, \n4.850285, 4.5709105, 5.019324, 5.0055833, 4.9691486, 4.8669024, \n5.0027466, 4.5679173, 4.9638014, 4.973243, 4.957845, 5.00656, \n4.6088657, 5.223277, 4.9189196, 4.816058, 4.722825, 4.723691, \n4.920526, 4.97006, 5.001666, 4.9951773, 4.9674926, 4.9642158, \n5.025827, 4.9785113, 4.9907866, 5.013855, 4.971833, 4.8446684, \n5.0073476, 4.582055, 4.9941626, 4.1119776, 4.475363, 4.981154, \n4.7759323, 4.987531, 4.4097695, 4.6504126, 4.694597, 3.8004794, \n4.980345, 4.999442, 4.642333, 4.507624, 4.788759, 5.010054, 4.9340386, \n4.936086, 4.957406, 5.0036993, 4.799891, 4.67921, 4.96506, 4.9758825, \n4.990466, 4.994946, 4.8087115, 4.7404885, 4.938025, 4.944851, \n5.001666, 5.0107613, 4.9674926, 4.9790764, 5.025827, 4.9785113, \n4.9907866, 5.012792, 4.997576, 4.8340607, 5.0073476, 4.566374, \n4.9941626, 4.1119776, 4.991866, 5.042223, 4.936042, 4.995574, \n5.0192924, 4.8249383, 5.0205345, 4.9204845, 5.0141854, 2.9976773, \n5.0168977, 4.811811, 5.031584, 4.8389997, 5.0040126, 4.6107163, \n4.834191, 4.8430595, 4.6124353, 4.710971, 4.3209286, 4.94509, \n4.918928, 4.9420357, 5.0304227, 4.97324, 4.924345, 4.9172044, \n4.8672776, 4.296006, 4.9666357, 4.910705, 4.6833673, 4.7726207, \n4.47715, 4.728087, 4.3978167, 3.1578777, 4.9221816, 4.9577575, \n4.5786905, 4.992646, 4.983031, 4.959598, 4.123628, 4.4679346, \n4.894072, 4.955191, 4.4893694, 3.0133202, 4.9304514, 3.8179367, \n4.9595914, 4.909182, 4.9299984, 4.511347, 4.928015, 4.953893, \n4.9973674, 3.14712, 3.1441333, 3.2373717, 4.272797, 3.8416297, \n4.128832, 4.8569827, 4.8969846, 5.0442996, 4.8513384, 5.0137854, \n2.8724003, 4.9814744, 3.1273873, 5.0538607, 4.9834123, 4.98627, \n4.911747, 4.98909, 4.965028, 4.467567, 4.1457715, 4.703125, 4.542642, \n4.959178, 4.6724176, 3.18986, 4.837471, 5.0128956, 4.605988, \n4.8322783, 4.8471136, 4.462129, 5.0170236, 4.949356, 4.888285, \n4.842188, 4.31665, 4.789054, 4.661795, 4.9669356, 4.3197737, \n4.914439, 4.2537346, 4.9671416, 4.9918046, 4.8431587, 4.952928, \n4.916021, 5.0040417, 4.8245454, 5.0449977, 4.8764067, 5.00075, \n3.2359254, 4.9865904, 5.0107727, 4.759332, 4.9980626, 4.9846177, \n5.0080495, 5.0339317, 5.021365, 4.9689035, 4.941918, 5.204458, \n4.9715776, 4.9098682, 4.945783, 5.016248, 4.7474136, 4.104173, \n4.9662895, 4.960769, 3.1982975, 5.0050764, 4.9810014, 4.999567, \n4.8310103, 4.7148986, 4.887626, 4.59025, 4.208624, 4.9610367, \n4.993952, 4.9744253, 4.626681, 4.4401464, 4.667428, 4.833593, \n4.9990582, 4.8557324, 5.062141, 4.857456, 4.991635, 4.865015, \n4.9326453, 5.0307903, 4.777583, 5.010415, 4.762136, 4.4956875, \n5.202712, 4.9867353, 5.02317, 4.6387434, 4.8987703, 4.9537315, \n4.5796814, 4.4808455, 4.945596, 4.99974, 4.9991055, 4.9324923, \n4.9709883, 4.8602004, 4.948416, 4.948874, 4.5665812, 4.8463154, \n4.9834504, 4.7826757, 4.983548, 5.0555134, 4.7795906, 4.5017304, \n4.6912236, 5.0135174, 4.2500963, 4.317181, 4.995, 5.0031843, \n5.0166717, 5.0140696, 5.0145774, 4.6212955, 4.493125, 4.8958387, \n4.9717364, 4.453213, 4.9042215, 5.012385, 4.579188, 4.4760613, \n4.96836, 4.8898573, 4.6778946, 4.9756155, 4.8548913, 4.6859117, \n4.8570466, 4.9510436, 4.9558797, 4.3502755, 4.941163, 4.753178, \n4.528232, 4.6506643, 4.293872, 4.9981594, 4.9854836, 4.941356, \n4.8767896, 4.8708243, 4.20315, 4.781453, 4.977262, 4.949892, \n4.993378, 4.774107, 5.031346, 4.5359645, 4.9885197, 5.0696054, \n5.0306916, 5.0055385, 4.955066, 4.488634, 2.947535, 4.3339896, \n4.625552, 4.9858017, 4.9326296, 4.9660854, 5.0530086, 5.0122433, \n4.413288, 4.978671, 4.1776404, 5.000249, 4.9969974, 4.9401245, \n4.846621, 4.9982543, 4.9337716, 4.90546, 4.99487, 4.1228833, \n4.9753814, 4.893899, 4.8969903, 5.244319, 5.030144, 5.0241723, \n4.944046, 4.7953444, 4.7163243, 4.9696703, 5.044919, 4.97006, \n4.9832783, 4.9993114, 4.95721, 4.9674926, 4.986959, 5.025827, \n4.977433, 5.0009675, 5.0111012, 4.971833, 4.8725023, 4.6015005, \n4.982897, 5.0684, 5.042223, 4.918541, 4.9916725, 4.901273, 5.0205345, \n4.4226985, 4.8428717, 4.884321, 4.8470664, 4.6659346, 4.9617276, \n4.942769, 4.834505, 5.0942574, 4.8487225, 5.004654, 4.9189916, \n4.695214, 5.068338, 4.894832, 2.9799573, 5.013043, 4.9387903, \n4.6060166, 4.761733, 4.7920747, 5.193833, 4.8960924, 4.924114, \n4.970445, 5.395995, 4.368988, 5.2051363, 4.9858565, 5.010822, \n4.819317, 4.684964, 4.5969195, 4.9329395, 4.816143, 5.019804, \n4.6842756, 3.9547684, 4.5452657, 4.8836064, 4.994863, 4.919244, \n4.6941648, 4.621257, 5.012044, 3.1455264, 2.9314454, 3.567509, \n5.0194902, 5.0024476, 4.848189, 4.9776964, 5.019168, 4.912199, \n4.9220557, 4.3747783, 4.997448, 4.9290175, 5.0003543, 5.057704, \n5.157594, 4.9976335, 5.006805, 4.907867, 5.0461445, 4.8759127, \n4.938147, 5.014076, 4.710262, 5.031328, 5.0745306, 4.7390013, \n4.8333, 4.992969, 4.737569, 4.9628067, 4.993032, 4.8026733, 4.85592, \n5.035671, 3.7797587, 4.89869, 5.026073, 3.9683993, 5.0142136, \n4.570052, 4.896147, 4.977261, 3.9109495, 4.9313464, 4.937959, \n4.8023787, 4.7977076, 5.1816864, 4.804269, 4.1746507, 4.5758343, \n5.0041294, 4.956451, 5.1276293, 4.30795, 4.7495866, 4.8778605, \n4.891639, 4.9208126, 4.852834, 4.941918, 5.204458, 4.7333674, \n4.972768, 5.0112147, 5.05096, 4.970451, 4.934356, 4.8692718, \n4.9829855, 5.0389366, 4.9578485, 5.0127935, 4.923854, 4.800089, \n4.729103, 4.4443765, 3.4141364, 4.662315, 4.885258, 4.955432, \n5.018662, 5.0313044, 4.800801, 4.696289, 4.9833875, 5.012888, \n4.987758, 4.965347, 4.8155947, 4.723691, 4.9111733, 4.9528193, \n5.001666, 4.9620423, 4.9674926, 4.9642158, 5.025827, 4.9785113, \n4.9907866, 5.012792, 4.971833, 4.8446684, 5.0073476, 4.528995, \n4.9941626, 4.1119776, 4.991866, 5.042223, 4.918541, 4.995574, \n5.0192924, 4.8249383, 5.0205345, 4.749649, 5.0423098, 3.7873726, \n5.002068, 4.862798, 4.9785857, 4.951052, 4.960047, 4.95018, 5.003415, \n5.0045156, 4.984742, 4.8112893, 4.743041, 4.727123, 4.6370916, \n5.0156717, 4.2366414, 4.903268, 4.8108234, 4.8714004, 4.963477, \n4.8013263, 4.723691, 4.9111733, 4.9528193, 5.001666, 4.9620423, \n4.961446, 4.9642158, 5.025827, 4.9785113, 4.989346, 5.012792, \n4.971833, 4.8265624, 5.0073476, 4.528995, 4.9941626, 4.1119776, \n4.991866, 5.038027, 4.918541, 4.9943476, 5.017047, 4.8249383, \n5.0205345, 4.9918737, 2.9511197, 4.3599176, 4.3261714, 4.629872, \n4.921605, 5.0766973, 4.7745905, 4.2651772, 5.376099, 3.9429688, \n5.1338267, 4.947939, 4.8326955, 4.668751, 4.978402, 4.5916266, \n4.540112, 3.029351, 4.861954, 4.9910645, 4.77129, 3.1987534, \n4.82316, 5.2200785, 4.93266, 4.9013567, 4.939436, 4.9937134, \n4.779002, 4.9912257, 4.834673, 4.0594044, 4.997688, 4.8155947, \n4.723691, 4.967701, 4.982473, 5.001666, 5.0141497, 4.9674926, \n4.9642158, 5.025827, 4.9785113, 4.9907866, 5.012792, 4.971833, \n4.8446684, 4.986745, 5.0174947, 5.0073476, 4.5864987, 5.001573, \n4.1119776, 4.991866, 5.042223, 4.918541, 4.995574, 5.0192924, \n4.8249383, 5.0205345, 4.783552, 4.660307, 4.9335117, 4.9542108, \n5.0207615, 4.9640727, 4.917169, 4.9133325, 4.5825257, 4.9642158, \n5.025827, 4.723384, 5.0365906, 4.7191267, 4.9879227, 4.971833, \n5.025402, 4.4096384, 4.83461, 4.975809, 4.760138, 4.8252473, \n4.8541794, 5.0073476, 4.7577076, 4.991866, 5.0236163, 4.9595056, \n4.909678, 4.9414454, 5.037826, 4.943082, 4.980148, 4.926056, \n4.961824, 4.829417, 4.784033, 4.4040136, 4.936368, 4.9788985, \n5.042794, 5.481278, 4.9854455, 5.0422626, 4.8585157, 4.8954964, \n4.836103, 4.756869, 5.122621, 5.0218196, 4.5906534, 4.7431083, \n4.730221, 4.7593436, 4.9650097, 4.918644, 4.7348895, 2.9790862, \n4.738353, 3.2843575, 4.5779066, 4.979944, 4.3633523, 3.057776, \n4.9709377, 4.9675384, 4.3838067, 4.884774, 4.986221, 4.52568, \n4.679224, 4.913078, 4.934705, 4.8181806, 4.1400347, 4.806405, \n4.568212, 4.993646, 5.0153904, 4.9118657, 5.4973006, 4.6619134, \n4.6127424, 5.0570593, 4.6795816, 4.5863676, 4.353865, 5.0179925, \n4.8992257, 5.03187, 4.9846425, 4.949787, 4.8013263, 4.723691, \n4.9111733, 4.9528193, 5.001666, 4.9620423, 4.961446, 4.9642158, \n5.025827, 4.9785113, 4.989346, 5.012792, 4.971833, 4.8446684, \n5.0073476, 4.528995, 4.9941626, 4.1119776, 4.988596, 5.038027, \n4.918541, 4.9943476, 5.017047, 4.8249383, 5.0205345, 4.8770814, \n4.238342, 3.267758, 3.5538497, 4.8441906, 4.1214185, 4.7617116, \n4.9866457, 4.6271205, 4.7374735, 4.5913477, 4.4291325, 4.790235, \n4.7212896, 3.8075707, 4.566518, 4.4519944, 4.564617, 4.9782486, \n5.0178146, 4.1752424, 3.1182604, 4.987514, 4.5306573, 4.713614, \n3.9340985, 5.0091085, 4.255503, 4.8500085, 4.6967883, 5.3527193, \n4.618621, 4.9473877, 4.5990753, 4.599738, 4.515487, 4.9119463, \n4.4537354, 4.914098, 4.9027414, 4.725443, 4.9858747, 4.972737, \n3.0572677, 4.528696, 2.7960198, 4.9068418, 4.5912147, 4.9933877, \n3.561434, 3.0177615, 4.9968987, 4.9885087, 4.9818964, 4.9705, \n5.0139437, 4.88792, 4.9945183, 4.855164, 5.013941, 5.2412343, \n4.9976687, 4.9888773, 4.567395, 4.998113, 4.558783, 4.9873433, \n4.8502893, 5.0062084, 4.839337, 4.8789525, 4.5627856, 4.69287, \n4.9831133, 4.713808, 5.109635, 4.9153833, 4.9819555, 4.958301, \n4.999555, 4.879878, 5.1262527, 4.80825, 4.536633, 4.8540506, \n4.7151594, 5.0005245, 5.050771, 4.98281, 4.8577466, 5.001001, \n4.9440513, 5.044654, 5.0448117, 4.8101187, 4.6985173, 4.9950175, \n5.0142827, 4.9915557, 3.1968148, 5.018068, 4.7530594, 5.0924563, \n4.569221, 4.9637775, 4.9301085, 5.0016594, 5.0075054, 5.09312, \n4.252851, 5.006692, 4.2830606, 4.760004, 4.723691, 4.938025, \n4.9528193, 5.001666, 5.0107613, 4.961446, 4.9642158, 5.025827, \n4.9785113, 4.989346, 5.012792, 4.971833, 4.8446684, 5.0073476, \n4.5653844, 4.9941626, 4.1119776, 4.988596, 5.038027, 4.918541, \n4.9943476, 5.017047, 4.8249383, 5.0205345, 4.974137, 4.793654, \n4.8604193, 4.6100054, 4.7956815, 4.985201, 4.938094, 4.922308, \n5.0018005, 5.0172577, 4.9017034, 5.0331354, 5.0047708, 4.927318, \n4.5863576, 4.141672, 4.998397, 4.904971, 4.9737396, 5.060713, \n4.63633, 5.0360103, 4.1094584, 5.174815, 4.9754376, 5.0334144, \n5.0511017, 4.9015527, 5.0062933, 4.968822, 4.6981006, 5.013758, \n5.019527, 5.0031037, 5.03081, 5.01511, 2.9285665, 4.8982153, \n4.579997, 4.993022, 5.016918, 5.00251, 4.976144, 4.9093413, 4.690693, \n4.954048, 4.7955766, 4.8842463, 4.9120903, 4.8554645, 4.8756, \n4.8900633, 4.991546, 4.503817, 4.93818, 4.222192, 4.8052664, \n4.9676566, 4.8999896, 4.949666, 4.8421702, 4.7579803, 4.819589, \n4.756037, 5.0002522, 4.9925056, 4.977845, 4.9974813, 4.9086256, \n4.9593883, 4.8537507, 4.4519515, 4.9193153, 4.659986, 5.0019794, \n3.0195029, 4.994862, 4.735754, 3.0023186, 4.5768504, 4.9270577, \n5.0120173, 4.9988847, 4.944289, 4.997576, 5.0093665, 4.6086445, \n4.904799, 3.658843, 4.6374636, 4.9578133, 4.8819904, 4.1365414, \n5.0106697, 4.9937215, 5.0174947, 4.427478, 4.9589, 4.9925017, \n4.8912754, 4.957136, 5.612222, 4.8143992, 4.7078757, 4.7877593, \n4.6412215, 4.9216576, 4.7438893, 4.8153276, 4.8038654, 4.4457555, \n4.8217587, 4.9906693, 4.991823, 4.700689, 4.289301, 5.0839295, \n4.975544, 4.5108385, 4.5817614, 4.9012427, 4.896949, 5.01762, \n4.402253, 4.985476, 4.500814, 5.009885, 4.47486, 3.0135548, 4.429515, \n4.889585, 4.7677565, 4.0879464, 4.638443, 4.590428, 4.113261, \n5.0219316, 4.9101553, 5.001289, 2.9511197, 4.3599176, 4.3261714, \n4.629872, 4.921605, 5.0766973, 4.7745905, 4.2651772, 5.290218, \n3.9594903, 5.1319947, 4.947939, 4.8326955, 4.668751, 4.9306674, \n4.5916266, 4.540112, 3.029351, 4.861954, 4.9910645, 4.5012236, \n4.9185557, 4.6325927, 4.930948, 4.959029, 4.781624, 4.90397, \n3.057776, 4.9709377, 4.9675384, 4.3838067, 4.8000083, 4.986221, \n4.52568, 4.679224, 4.913078, 4.934705, 4.837077, 4.1400347, 4.8048015, \n4.568212, 4.993646, 5.0153904, 4.9118657, 5.4973006, 4.6619134, \n4.6127424, 5.0570593, 4.6795816, 4.5863676, 4.353865, 5.0179925, \n4.8992257, 4.943277, 4.9931464, 5.0002565, 4.8612823, 4.373905, \n4.9468203, 3.0262454, 4.7237124, 4.9237056, 4.8723087, 4.8013263, \n4.723691, 4.9111733, 4.9528193, 5.001666, 4.9620423, 4.961446, \n4.9642158, 5.025827, 4.9785113, 4.989346, 5.012792, 4.971833, \n4.8446684, 5.0073476, 4.528995, 4.9941626, 4.1119776, 4.988596, \n5.038027, 4.918541, 4.9943476, 5.017047, 4.8249383, 5.0205345, \n3.294989, 4.3370123, 3.1090991, 4.9997115, 4.9754376, 4.842668, \n4.9527783, 4.653123, 4.815465, 5.0153904, 4.966001, 4.3843827, \n4.6391573, 4.953664, 4.993646, 4.233225, 4.609275, 5.037089, \n4.6847177, 4.9954844, 4.9089007, 4.9882774, 4.8195934, 4.8965006, \n4.932773, 5.1742606, 4.814749, 4.540737, 4.7682743, 4.99984, \n4.9314713, 4.992177, 4.2390747, 5.0028524, 4.9702234, 4.7622886, \n4.070152, 4.854197, 4.971728, 4.9805756, 3.057776, 4.9709377, \n4.9675384, 4.3838067, 4.8000083, 4.986221, 4.52568, 4.679224, \n4.913078, 4.934705, 4.837077, 4.1400347, 4.8048015, 4.553887, \n4.993646, 5.0153904, 4.9118657, 5.4973006, 4.6619134, 4.6127424, \n5.0570593, 4.6795816, 4.5863676, 4.3513603, 5.0179925, 4.8992257, \n5.03187, 4.9846425, 4.949787, 5.0563235, 2.9976773, 5.0168977, \n4.811811, 5.031584, 4.8389997, 5.0040126, 4.6107163, 4.834191, \n4.8430595, 4.6124353, 4.710971, 4.3209286, 3.057776, 4.9709377, \n4.9675384, 4.3838067, 4.879117, 4.986221, 4.52568, 4.679224, \n4.913078, 4.934705, 4.837077, 4.1400347, 4.8048015, 4.553887, \n4.993646, 5.0153904, 4.9118657, 5.4973006, 4.6619134, 4.6127424, \n5.0570593, 4.6795816, 4.5863676, 4.3513603, 5.0179925, 5.0107956, \n3.4982152, 4.9573975, 5.001289, 2.9511197, 4.3599176, 4.3261714, \n4.629872, 4.921605, 5.0766973, 4.7745905, 4.2651772, 5.290218, \n3.9594903, 5.1319947, 4.947939, 4.8326955, 4.668751, 4.9306674, \n4.5916266, 4.540112, 3.029351, 4.861954, 4.9910645, 4.801692, \n4.267158, 4.897779, 4.850717, 4.8138833, 4.7778444, 4.947369, \n4.884235, 4.931811, 5.056715, 4.9486256, 4.964046, 4.4942336, \n4.208442, 4.8089156, 4.801692, 4.267158, 4.897779, 4.850717, \n4.8138833, 4.7778444, 4.947369, 4.884235, 4.931811, 5.056715, \n4.9486256, 4.967157, 4.4942336, 4.208442, 4.8089156, 4.847884, \n4.897779, 4.850717, 4.745254, 4.884235, 4.931811, 5.056715, 4.9941225, \n4.9486256, 4.972383, 4.4942336, 3.9773037, 4.044433, 5.0103374, \n4.9675174, 4.5091395, 4.986283, 4.849322, 5.0045185, 5.0199404, \n5.121292, 4.8651996, 4.615552, 4.2251306, 4.9416394, 4.897779\n\n*** WARNING: max output size exceeded, skipping output. ***\n\n34782608695652, 0.0434782608695652, 0.0434782608695652, 0.0434782608695652, \n0.0434782608695652, 0.0434782608695652, 0.0434782608695652, 0.0434782608695652, \n0.0434782608695652, 0.0434782608695652, 0.0434782608695652, 0.0434782608695652, \n0.0434782608695652, 0.0434782608695652, 0.0434782608695652, 0.0434782608695652, \n0.0434782608695652, 0.0434782608695652, 0.0434782608695652, 0.0434782608695652, \n0.0434782608695652, 0.0434782608695652, 0.0434782608695652, 0.125, \n0.125, 0.125, 0.125, 0.125, 0.125, 0.125, 0.125, 0.0333333333333333, \n0.0333333333333333, 0.0333333333333333, 0.0333333333333333, 0.0333333333333333, \n0.0333333333333333, 0.0333333333333333, 0.0333333333333333, 0.0333333333333333, \n0.0333333333333333, 0.0333333333333333, 0.0333333333333333, 0.0333333333333333, \n0.0333333333333333, 0.0333333333333333, 0.0333333333333333, 0.0333333333333333, \n0.0333333333333333, 0.0333333333333333, 0.0333333333333333, 0.0333333333333333, \n0.0333333333333333, 0.0333333333333333, 0.0333333333333333, 0.0333333333333333, \n0.0333333333333333, 0.0333333333333333, 0.0333333333333333, 0.0333333333333333, \n0.0333333333333333, 0.0344827586206897, 0.0344827586206897, 0.0344827586206897, \n0.0344827586206897, 0.0344827586206897, 0.0344827586206897, 0.0344827586206897, \n0.0344827586206897, 0.0344827586206897, 0.0344827586206897, 0.0344827586206897, \n0.0344827586206897, 0.0344827586206897, 0.0344827586206897, 0.0344827586206897, \n0.0344827586206897, 0.0344827586206897, 0.0344827586206897, 0.0344827586206897, \n0.0344827586206897, 0.0344827586206897, 0.0344827586206897, 0.0344827586206897, \n0.0344827586206897, 0.0344827586206897, 0.0344827586206897, 0.0344827586206897, \n0.0344827586206897, 0.0344827586206897, 0.0833333333333333, 0.0833333333333333, \n0.0833333333333333, 0.0833333333333333, 0.0833333333333333, 0.0833333333333333, \n0.0833333333333333, 0.0833333333333333, 0.0833333333333333, 0.0833333333333333, \n0.0833333333333333, 0.0833333333333333, 0.0769230769230769, 0.0769230769230769, \n0.0769230769230769, 0.0769230769230769, 0.0769230769230769, 0.0769230769230769, \n0.0769230769230769, 0.0769230769230769, 0.0769230769230769, 0.0769230769230769, \n0.0769230769230769, 0.0769230769230769, 0.0769230769230769, 0.0416666666666667, \n0.0416666666666667, 0.0416666666666667, 0.0416666666666667, 0.0416666666666667, \n0.0416666666666667, 0.0416666666666667, 0.0416666666666667, 0.0416666666666667, \n0.0416666666666667, 0.0416666666666667, 0.0416666666666667, 0.0416666666666667, \n0.0416666666666667, 0.0416666666666667, 0.0416666666666667, 0.0416666666666667, \n0.0416666666666667, 0.0416666666666667, 0.0416666666666667, 0.0416666666666667, \n0.0416666666666667, 0.0416666666666667, 0.0416666666666667, 0.05, \n0.05, 0.05, 0.05, 0.05, 0.05, 0.05, 0.05, 0.05, 0.05, 0.05, 0.05, \n0.05, 0.05, 0.05, 0.05, 0.05, 0.05, 0.05, 0.05, 0.032258064516129, \n0.032258064516129, 0.032258064516129, 0.032258064516129, 0.032258064516129, \n0.032258064516129, 0.032258064516129, 0.032258064516129, 0.032258064516129, \n0.032258064516129, 0.032258064516129, 0.032258064516129, 0.032258064516129, \n0.032258064516129, 0.032258064516129, 0.032258064516129, 0.032258064516129, \n0.032258064516129, 0.032258064516129, 0.032258064516129, 0.032258064516129, \n0.032258064516129, 0.032258064516129, 0.032258064516129, 0.032258064516129, \n0.032258064516129, 0.032258064516129, 0.032258064516129, 0.032258064516129, \n0.032258064516129, 0.032258064516129, 0.0714285714285714, 0.0714285714285714, \n0.0714285714285714, 0.0714285714285714, 0.0714285714285714, 0.0714285714285714, \n0.0714285714285714, 0.0714285714285714, 0.0714285714285714, 0.0714285714285714, \n0.0714285714285714, 0.0714285714285714, 0.0714285714285714, 0.0714285714285714, \n0.0588235294117647, 0.0588235294117647, 0.0588235294117647, 0.0588235294117647, \n0.0588235294117647, 0.0588235294117647, 0.0588235294117647, 0.0588235294117647, \n0.0588235294117647, 0.0588235294117647, 0.0588235294117647, 0.0588235294117647, \n0.0588235294117647, 0.0588235294117647, 0.0588235294117647, 0.0588235294117647, \n0.0588235294117647, 0.0833333333333333, 0.0833333333333333, 0.0833333333333333, \n0.0833333333333333, 0.0833333333333333, 0.0833333333333333, 0.0833333333333333, \n0.0833333333333333, 0.0833333333333333, 0.0833333333333333, 0.0833333333333333, \n0.0833333333333333, 0.125, 0.125, 0.125, 0.125, 0.125, 0.125, \n0.125, 0.125, 0.0909090909090909, 0.0909090909090909, 0.0909090909090909, \n0.0909090909090909, 0.0909090909090909, 0.0909090909090909, 0.0909090909090909, \n0.0909090909090909, 0.0909090909090909, 0.0909090909090909, 0.0909090909090909, \n0.0476190476190476, 0.0476190476190476, 0.0476190476190476, 0.0476190476190476, \n0.0476190476190476, 0.0476190476190476, 0.0476190476190476, 0.0476190476190476, \n0.0476190476190476, 0.0476190476190476, 0.0476190476190476, 0.0476190476190476, \n0.0476190476190476, 0.0476190476190476, 0.0476190476190476, 0.0476190476190476, \n0.0476190476190476, 0.0476190476190476, 0.0476190476190476, 0.0476190476190476, \n0.0476190476190476, 0.0454545454545455, 0.0454545454545455, 0.0454545454545455, \n0.0454545454545455, 0.0454545454545455, 0.0454545454545455, 0.0454545454545455, \n0.0454545454545455, 0.0454545454545455, 0.0454545454545455, 0.0454545454545455, \n0.0454545454545455, 0.0454545454545455, 0.0454545454545455, 0.0454545454545455, \n0.0454545454545455, 0.0454545454545455, 0.0454545454545455, 0.0454545454545455, \n0.0454545454545455, 0.0454545454545455, 0.0454545454545455, 0.0555555555555556, \n0.0555555555555556, 0.0555555555555556, 0.0555555555555556, 0.0555555555555556, \n0.0555555555555556, 0.0555555555555556, 0.0555555555555556, 0.0555555555555556, \n0.0555555555555556, 0.0555555555555556, 0.0555555555555556, 0.0555555555555556, \n0.0555555555555556, 0.0555555555555556, 0.0555555555555556, 0.0555555555555556, \n0.0555555555555556, 0.0588235294117647, 0.0588235294117647, 0.0588235294117647, \n0.0588235294117647, 0.0588235294117647, 0.0588235294117647, 0.0588235294117647, \n0.0588235294117647, 0.0588235294117647, 0.0588235294117647, 0.0588235294117647, \n0.0588235294117647, 0.0588235294117647, 0.0588235294117647, 0.0588235294117647, \n0.0588235294117647, 0.0588235294117647, 0.166666666666667, 0.166666666666667, \n0.166666666666667, 0.166666666666667, 0.166666666666667, 0.166666666666667, \n0.0476190476190476, 0.0476190476190476, 0.0476190476190476, 0.0476190476190476, \n0.0476190476190476, 0.0476190476190476, 0.0476190476190476, 0.0476190476190476, \n0.0476190476190476, 0.0476190476190476, 0.0476190476190476, 0.0476190476190476, \n0.0476190476190476, 0.0476190476190476, 0.0476190476190476, 0.0476190476190476, \n0.0476190476190476, 0.0476190476190476, 0.0476190476190476, 0.0476190476190476, \n0.0476190476190476, 0.0625, 0.0625, 0.0625, 0.0625, 0.0625, 0.0625, \n0.0625, 0.0625, 0.0625, 0.0625, 0.0625, 0.0625, 0.0625, 0.0625, \n0.0625, 0.0625, 0.0588235294117647, 0.0588235294117647, 0.0588235294117647, \n0.0588235294117647, 0.0588235294117647, 0.0588235294117647, 0.0588235294117647, \n0.0588235294117647, 0.0588235294117647, 0.0588235294117647, 0.0588235294117647, \n0.0588235294117647, 0.0588235294117647, 0.0588235294117647, 0.0588235294117647, \n0.0588235294117647, 0.0588235294117647, 0.0555555555555556, 0.0555555555555556, \n0.0555555555555556, 0.0555555555555556, 0.0555555555555556, 0.0555555555555556, \n0.0555555555555556, 0.0555555555555556, 0.0555555555555556, 0.0555555555555556, \n0.0555555555555556, 0.0555555555555556, 0.0555555555555556, 0.0555555555555556, \n0.0555555555555556, 0.0555555555555556, 0.0555555555555556, 0.0555555555555556, \n0.0833333333333333, 0.0833333333333333, 0.0833333333333333, 0.0833333333333333, \n0.0833333333333333, 0.0833333333333333, 0.0833333333333333, 0.0833333333333333, \n0.0833333333333333, 0.0833333333333333, 0.0833333333333333, 0.0833333333333333, \n0.0909090909090909, 0.0909090909090909, 0.0909090909090909, 0.0909090909090909, \n0.0909090909090909, 0.0909090909090909, 0.0909090909090909, 0.0909090909090909, \n0.0909090909090909, 0.0909090909090909, 0.0909090909090909, 0.0277777777777778, \n0.0277777777777778, 0.0277777777777778, 0.0277777777777778, 0.0277777777777778, \n0.0277777777777778, 0.0277777777777778, 0.0277777777777778, 0.0277777777777778, \n0.0277777777777778, 0.0277777777777778, 0.0277777777777778, 0.0277777777777778, \n0.0277777777777778, 0.0277777777777778, 0.0277777777777778, 0.0277777777777778, \n0.0277777777777778, 0.0277777777777778, 0.0277777777777778, 0.0277777777777778, \n0.0277777777777778, 0.0277777777777778, 0.0277777777777778, 0.0277777777777778, \n0.0277777777777778, 0.0277777777777778, 0.0277777777777778, 0.0277777777777778, \n0.0277777777777778, 0.0277777777777778, 0.0277777777777778, 0.0277777777777778, \n0.0277777777777778, 0.0277777777777778, 0.0277777777777778, 0.05, \n0.05, 0.05, 0.05, 0.05, 0.05, 0.05, 0.05, 0.05, 0.05, 0.05, 0.05, \n0.05, 0.05, 0.05, 0.05, 0.05, 0.05, 0.05, 0.05, 0.0333333333333333, \n0.0333333333333333, 0.0333333333333333, 0.0333333333333333, 0.0333333333333333, \n0.0333333333333333, 0.0333333333333333, 0.0333333333333333, 0.0333333333333333, \n0.0333333333333333, 0.0333333333333333, 0.0333333333333333, 0.0333333333333333, \n0.0333333333333333, 0.0333333333333333, 0.0333333333333333, 0.0333333333333333, \n0.0333333333333333, 0.0333333333333333, 0.0333333333333333, 0.0333333333333333, \n0.0333333333333333, 0.0333333333333333, 0.0333333333333333, 0.0333333333333333, \n0.0333333333333333, 0.0333333333333333, 0.0333333333333333, 0.0333333333333333, \n0.0333333333333333, 0.0333333333333333, 0.0333333333333333, 0.0333333333333333, \n0.0333333333333333, 0.0333333333333333, 0.0333333333333333, 0.0333333333333333, \n0.0333333333333333, 0.0333333333333333, 0.0333333333333333, 0.0333333333333333, \n0.0333333333333333, 0.0333333333333333, 0.0333333333333333, 0.0333333333333333, \n0.0333333333333333, 0.0333333333333333, 0.0333333333333333, 0.0333333333333333, \n0.0333333333333333, 0.0333333333333333, 0.0333333333333333, 0.0333333333333333, \n0.0333333333333333, 0.0333333333333333, 0.0333333333333333, 0.0333333333333333, \n0.0333333333333333, 0.0333333333333333, 0.0333333333333333, 0.037037037037037, \n0.037037037037037, 0.037037037037037, 0.037037037037037, 0.037037037037037, \n0.037037037037037, 0.037037037037037, 0.037037037037037, 0.037037037037037, \n0.037037037037037, 0.037037037037037, 0.037037037037037, 0.037037037037037, \n0.037037037037037, 0.037037037037037, 0.037037037037037, 0.037037037037037, \n0.037037037037037, 0.037037037037037, 0.037037037037037, 0.037037037037037, \n0.037037037037037, 0.037037037037037, 0.037037037037037, 0.037037037037037, \n0.037037037037037, 0.037037037037037, 0.0666666666666667, 0.0666666666666667, \n0.0666666666666667, 0.0666666666666667, 0.0666666666666667, 0.0666666666666667, \n0.0666666666666667, 0.0666666666666667, 0.0666666666666667, 0.0666666666666667, \n0.0666666666666667, 0.0666666666666667, 0.0666666666666667, 0.0666666666666667, \n0.0666666666666667, 0.0833333333333333, 0.0833333333333333, 0.0833333333333333, \n0.0833333333333333, 0.0833333333333333, 0.0833333333333333, 0.0833333333333333, \n0.0833333333333333, 0.0833333333333333, 0.0833333333333333, 0.0833333333333333, \n0.0833333333333333, 0.037037037037037, 0.037037037037037, 0.037037037037037, \n0.037037037037037, 0.037037037037037, 0.037037037037037, 0.037037037037037, \n0.037037037037037, 0.037037037037037, 0.037037037037037, 0.037037037037037, \n0.037037037037037, 0.037037037037037, 0.037037037037037, 0.037037037037037, \n0.037037037037037, 0.037037037037037, 0.037037037037037, 0.037037037037037, \n0.037037037037037, 0.037037037037037, 0.037037037037037, 0.037037037037037, \n0.037037037037037, 0.037037037037037, 0.037037037037037, 0.037037037037037, \n0.0833333333333333, 0.0833333333333333, 0.0833333333333333, 0.0833333333333333, \n0.0833333333333333, 0.0833333333333333, 0.0833333333333333, 0.0833333333333333, \n0.0833333333333333, 0.0833333333333333, 0.0833333333333333, 0.0833333333333333, \n0.0555555555555556, 0.0555555555555556, 0.0555555555555556, 0.0555555555555556, \n0.0555555555555556, 0.0555555555555556, 0.0555555555555556, 0.0555555555555556, \n0.0555555555555556, 0.0555555555555556, 0.0555555555555556, 0.0555555555555556, \n0.0555555555555556, 0.0555555555555556, 0.0555555555555556, 0.0555555555555556, \n0.0555555555555556, 0.0555555555555556, 0.1, 0.1, 0.1, 0.1, 0.1, \n0.1, 0.1, 0.1, 0.1, 0.1, 0.0666666666666667, 0.0666666666666667, \n0.0666666666666667, 0.0666666666666667, 0.0666666666666667, 0.0666666666666667, \n0.0666666666666667, 0.0666666666666667, 0.0666666666666667, 0.0666666666666667, \n0.0666666666666667, 0.0666666666666667, 0.0666666666666667, 0.0666666666666667, \n0.0666666666666667, 0.0357142857142857, 0.0357142857142857, 0.0357142857142857, \n0.0357142857142857, 0.0357142857142857, 0.0357142857142857, 0.0357142857142857, \n0.0357142857142857, 0.0357142857142857, 0.0357142857142857, 0.0357142857142857, \n0.0357142857142857, 0.0357142857142857, 0.0357142857142857, 0.0357142857142857, \n0.0357142857142857, 0.0357142857142857, 0.0357142857142857, 0.0357142857142857, \n0.0357142857142857, 0.0357142857142857, 0.0357142857142857, 0.0357142857142857, \n0.0357142857142857, 0.0357142857142857, 0.0357142857142857, 0.0357142857142857, \n0.0357142857142857, 0.0714285714285714, 0.0714285714285714, 0.0714285714285714, \n0.0714285714285714, 0.0714285714285714, 0.0714285714285714, 0.0714285714285714, \n0.0714285714285714, 0.0714285714285714, 0.0714285714285714, 0.0714285714285714, \n0.0714285714285714, 0.0714285714285714, 0.0714285714285714, 0.0454545454545455, \n0.0454545454545455, 0.0454545454545455, 0.0454545454545455, 0.0454545454545455, \n0.0454545454545455, 0.0454545454545455, 0.0454545454545455, 0.0454545454545455, \n0.0454545454545455, 0.0454545454545455, 0.0454545454545455, 0.0454545454545455, \n0.0454545454545455, 0.0454545454545455, 0.0454545454545455, 0.0454545454545455, \n0.0454545454545455, 0.0454545454545455, 0.0454545454545455, 0.0454545454545455, \n0.0454545454545455, 0.0454545454545455, 0.0454545454545455, 0.0454545454545455, \n0.0454545454545455, 0.0454545454545455, 0.0454545454545455, 0.0454545454545455, \n0.0454545454545455, 0.0454545454545455, 0.0454545454545455, 0.0454545454545455, \n0.0454545454545455, 0.0454545454545455, 0.0454545454545455, 0.0454545454545455, \n0.0454545454545455, 0.0454545454545455, 0.0454545454545455, 0.0454545454545455, \n0.0454545454545455, 0.0454545454545455, 0.0454545454545455, 0.0526315789473684, \n0.0526315789473684, 0.0526315789473684, 0.0526315789473684, 0.0526315789473684, \n0.0526315789473684, 0.0526315789473684, 0.0526315789473684, 0.0526315789473684, \n0.0526315789473684, 0.0526315789473684, 0.0526315789473684, 0.0526315789473684, \n0.0526315789473684, 0.0526315789473684, 0.0526315789473684, 0.0526315789473684, \n0.0526315789473684, 0.0526315789473684, 0.0909090909090909, 0.0909090909090909, \n0.0909090909090909, 0.0909090909090909, 0.0909090909090909, 0.0909090909090909, \n0.0909090909090909, 0.0909090909090909, 0.0909090909090909, 0.0909090909090909, \n0.0909090909090909, 0.0384615384615385, 0.0384615384615385, 0.0384615384615385, \n0.0384615384615385, 0.0384615384615385, 0.0384615384615385, 0.0384615384615385, \n0.0384615384615385, 0.0384615384615385, 0.0384615384615385, 0.0384615384615385, \n0.0384615384615385, 0.0384615384615385, 0.0384615384615385, 0.0384615384615385, \n0.0384615384615385, 0.0384615384615385, 0.0384615384615385, 0.0384615384615385, \n0.0384615384615385, 0.0384615384615385, 0.0384615384615385, 0.0384615384615385, \n0.0384615384615385, 0.0384615384615385, 0.0384615384615385, 0.0454545454545455, \n0.0454545454545455, 0.0454545454545455, 0.0454545454545455, 0.0454545454545455, \n0.0454545454545455, 0.0454545454545455, 0.0454545454545455, 0.0454545454545455, \n0.0454545454545455, 0.0454545454545455, 0.0454545454545455, 0.0454545454545455, \n0.0454545454545455, 0.0454545454545455, 0.0454545454545455, 0.0454545454545455, \n0.0454545454545455, 0.0454545454545455, 0.0454545454545455, 0.0454545454545455, \n0.0454545454545455, 0.0588235294117647, 0.0588235294117647, 0.0588235294117647, \n0.0588235294117647, 0.0588235294117647, 0.0588235294117647, 0.0588235294117647, \n0.0588235294117647, 0.0588235294117647, 0.0588235294117647, 0.0588235294117647, \n0.0588235294117647, 0.0588235294117647, 0.0588235294117647, 0.0588235294117647, \n0.0588235294117647, 0.0588235294117647, 0.0588235294117647, 0.0588235294117647, \n0.0588235294117647, 0.0588235294117647, 0.0588235294117647, 0.0588235294117647, \n0.0588235294117647, 0.0588235294117647, 0.0588235294117647, 0.0588235294117647, \n0.0588235294117647, 0.0588235294117647, 0.0588235294117647, 0.0588235294117647, \n0.0588235294117647, 0.0588235294117647, 0.0588235294117647, 0.0769230769230769, \n0.0769230769230769, 0.0769230769230769, 0.0769230769230769, 0.0769230769230769, \n0.0769230769230769, 0.0769230769230769, 0.0769230769230769, 0.0769230769230769, \n0.0769230769230769, 0.0769230769230769, 0.0769230769230769, 0.0769230769230769, \n0.0454545454545455, 0.0454545454545455, 0.0454545454545455, 0.0454545454545455, \n0.0454545454545455, 0.0454545454545455, 0.0454545454545455, 0.0454545454545455, \n0.0454545454545455, 0.0454545454545455, 0.0454545454545455, 0.0454545454545455, \n0.0454545454545455, 0.0454545454545455, 0.0454545454545455, 0.0454545454545455, \n0.0454545454545455, 0.0454545454545455, 0.0454545454545455, 0.0454545454545455, \n0.0454545454545455, 0.0454545454545455, 0.0294117647058824, 0.0294117647058824, \n0.0294117647058824, 0.0294117647058824, 0.0294117647058824, 0.0294117647058824, \n0.0294117647058824, 0.0294117647058824, 0.0294117647058824, 0.0294117647058824, \n0.0294117647058824, 0.0294117647058824, 0.0294117647058824, 0.0294117647058824, \n0.0294117647058824, 0.0294117647058824, 0.0294117647058824, 0.0294117647058824, \n0.0294117647058824, 0.0294117647058824, 0.0294117647058824, 0.0294117647058824, \n0.0294117647058824, 0.0294117647058824, 0.0294117647058824, 0.0294117647058824, \n0.0294117647058824, 0.0294117647058824, 0.0294117647058824, 0.0294117647058824, \n0.0294117647058824, 0.0294117647058824, 0.0294117647058824, 0.0294117647058824, \n0.037037037037037, 0.037037037037037, 0.037037037037037, 0.037037037037037, \n0.037037037037037, 0.037037037037037, 0.037037037037037, 0.037037037037037, \n0.037037037037037, 0.037037037037037, 0.037037037037037, 0.037037037037037, \n0.037037037037037, 0.037037037037037, 0.037037037037037, 0.037037037037037, \n0.037037037037037, 0.037037037037037, 0.037037037037037, 0.037037037037037, \n0.037037037037037, 0.037037037037037, 0.037037037037037, 0.037037037037037, \n0.037037037037037, 0.037037037037037, 0.037037037037037, 0.111111111111111, \n0.111111111111111, 0.111111111111111, 0.111111111111111, 0.111111111111111, \n0.111111111111111, 0.111111111111111, 0.111111111111111, 0.111111111111111, \n0.0555555555555556, 0.0555555555555556, 0.0555555555555556, 0.0555555555555556, \n0.0555555555555556, 0.0555555555555556, 0.0555555555555556, 0.0555555555555556, \n0.0555555555555556, 0.0555555555555556, 0.0555555555555556, 0.0555555555555556, \n0.0555555555555556, 0.0555555555555556, 0.0555555555555556, 0.0555555555555556, \n0.0555555555555556, 0.0555555555555556, 0.0666666666666667, 0.0666666666666667, \n0.0666666666666667, 0.0666666666666667, 0.0666666666666667, 0.0666666666666667, \n0.0666666666666667, 0.0666666666666667, 0.0666666666666667, 0.0666666666666667, \n0.0666666666666667, 0.0666666666666667, 0.0666666666666667, 0.0666666666666667, \n0.0666666666666667, 0.0588235294117647, 0.0588235294117647, 0.0588235294117647, \n0.0588235294117647, 0.0588235294117647, 0.0588235294117647, 0.0588235294117647, \n0.0588235294117647, 0.0588235294117647, 0.0588235294117647, 0.0588235294117647, \n0.0588235294117647, 0.0588235294117647, 0.0588235294117647, 0.0588235294117647, \n0.0588235294117647, 0.0588235294117647, 0.0714285714285714, 0.0714285714285714, \n0.0714285714285714, 0.0714285714285714, 0.0714285714285714, 0.0714285714285714, \n0.0714285714285714, 0.0714285714285714, 0.0714285714285714, 0.0714285714285714, \n0.0714285714285714, 0.0714285714285714, 0.0714285714285714, 0.0714285714285714, \n0.1, 0.1, 0.1, 0.1, 0.1, 0.1, 0.1, 0.1, 0.1, 0.1, 0.0714285714285714, \n0.0714285714285714, 0.0714285714285714, 0.0714285714285714, 0.0714285714285714, \n0.0714285714285714, 0.0714285714285714, 0.0714285714285714, 0.0714285714285714, \n0.0714285714285714, 0.0714285714285714, 0.0714285714285714, 0.0714285714285714, \n0.0714285714285714, 0.037037037037037, 0.037037037037037, 0.037037037037037, \n0.037037037037037, 0.037037037037037, 0.037037037037037, 0.037037037037037, \n0.037037037037037, 0.037037037037037, 0.037037037037037, 0.037037037037037, \n0.037037037037037, 0.037037037037037, 0.037037037037037, 0.037037037037037, \n0.037037037037037, 0.037037037037037, 0.037037037037037, 0.037037037037037, \n0.037037037037037, 0.037037037037037, 0.037037037037037, 0.037037037037037, \n0.037037037037037, 0.037037037037037, 0.037037037037037, 0.037037037037037, \n0.0476190476190476, 0.0476190476190476, 0.0476190476190476, 0.0476190476190476, \n0.0476190476190476, 0.0476190476190476, 0.0476190476190476, 0.0476190476190476, \n0.0476190476190476, 0.0476190476190476, 0.0476190476190476, 0.0476190476190476, \n0.0476190476190476, 0.0476190476190476, 0.0476190476190476, 0.0476190476190476, \n0.0476190476190476, 0.0476190476190476, 0.0476190476190476, 0.0476190476190476, \n0.0476190476190476, 0.0344827586206897, 0.0344827586206897, 0.0344827586206897, \n0.0344827586206897, 0.0344827586206897, 0.0344827586206897, 0.0344827586206897, \n0.0344827586206897, 0.0344827586206897, 0.0344827586206897, 0.0344827586206897, \n0.0344827586206897, 0.0344827586206897, 0.0344827586206897, 0.0344827586206897, \n0.0344827586206897, 0.0344827586206897, 0.0344827586206897, 0.0344827586206897, \n0.0344827586206897, 0.0344827586206897, 0.0344827586206897, 0.0344827586206897, \n0.0344827586206897, 0.0344827586206897, 0.0344827586206897, 0.0344827586206897, \n0.0344827586206897, 0.0344827586206897, 0.0333333333333333, 0.0333333333333333, \n0.0333333333333333, 0.0333333333333333, 0.0333333333333333, 0.0333333333333333, \n0.0333333333333333, 0.0333333333333333, 0.0333333333333333, 0.0333333333333333, \n0.0333333333333333, 0.0333333333333333, 0.0333333333333333, 0.0333333333333333, \n0.0333333333333333, 0.0333333333333333, 0.0333333333333333, 0.0333333333333333, \n0.0333333333333333, 0.0333333333333333, 0.0333333333333333, 0.0333333333333333, \n0.0333333333333333, 0.0333333333333333, 0.0333333333333333, 0.0333333333333333, \n0.0333333333333333, 0.0333333333333333, 0.0333333333333333, 0.0333333333333333, \n0.0555555555555556, 0.0555555555555556, 0.0555555555555556, 0.0555555555555556, \n0.0555555555555556, 0.0555555555555556, 0.0555555555555556, 0.0555555555555556, \n0.0555555555555556, 0.0555555555555556, 0.0555555555555556, 0.0555555555555556, \n0.0555555555555556, 0.0555555555555556, 0.0555555555555556, 0.0555555555555556, \n0.0555555555555556, 0.0555555555555556, 0.0625, 0.0625, 0.0625, \n0.0625, 0.0625, 0.0625, 0.0625, 0.0625, 0.0625, 0.0625, 0.0625, \n0.0625, 0.0625, 0.0625, 0.0625, 0.0625))\n\nDeviance Residuals: \n      Min         1Q     Median         3Q        Max  \n-0.228998  -0.002589   0.007118   0.010863   0.057506  \n\nCoefficients:\n                                              Estimate Std. Error t value\n(Intercept)                                  4.7673335  0.0402148 118.547\ngendermale                                  -0.0051287  0.0038952  -1.317\nyear2019                                    -0.0210830  0.0046393  -4.544\nyear2020                                    -0.0245958  0.0050858  -4.836\nyear2021                                     0.0008175  0.0061797   0.132\nyear2022                                    -0.0048055  0.0046098  -1.042\nq2                                          -0.0644726  0.0415933  -1.550\nq3                                          -0.0012316  0.0397487  -0.031\nField_EnglishChemistry                       0.0019856  0.0046808   0.424\nField_EnglishEarth & Environmental Sciences -0.0272584  0.0040848  -6.673\nField_EnglishPhysics & Astronomy            -0.0238117  0.0042882  -5.553\n                                            Pr(>|t|)    \n(Intercept)                                  < 2e-16 ***\ngendermale                                     0.188    \nyear2019                                    5.52e-06 ***\nyear2020                                    1.33e-06 ***\nyear2021                                       0.895    \nyear2022                                       0.297    \nq2                                             0.121    \nq3                                             0.975    \nField_EnglishChemistry                         0.671    \nField_EnglishEarth & Environmental Sciences 2.52e-11 ***\nField_EnglishPhysics & Astronomy            2.82e-08 ***\n---\nSignif. codes:  0 ‘***’ 0.001 ‘**’ 0.01 ‘*’ 0.05 ‘.’ 0.1 ‘ ’ 1\n\n(Dispersion parameter for Gamma family taken to be 0.0004226992)\n\n    Null deviance: 44.809  on 88220  degrees of freedom\nResidual deviance: 44.752  on 88210  degrees of freedom\nAIC: 5904.7\n\nNumber of Fisher Scoring iterations: 3\n\n\n"
     ]
    }
   ],
   "source": [
    "tmp = pd.DataFrame()\n",
    "tmp['certainty'] = dummy['certainty']\n",
    "tmp['gender'] = dummy['gender']\n",
    "tmp['year'] = dummy['year']\n",
    "tmp['Domain_English'] = dummy['Domain_English']\n",
    "tmp['Field_English'] = dummy['Field_English']\n",
    "tmp['SubField_English'] = dummy['SubField_English']\n",
    "tmp['q'] = dummy['q']\n",
    "tmp['post_id'] = dummy['post_id']\n",
    "tmp['weight'] = dummy['weight']\n",
    "\n",
    "tmp = tmp.dropna(subset = ['certainty'])\n",
    "\n",
    "\n",
    "##got same result for weighted and unweighted unless gamma (identity) for arts & Humanities (though it was pretty marginal (p val = 0.04),not strong)\n",
    "#entire data: insignificant\n",
    "\n",
    "#tmp = tmp[tmp['Domain_English'] == 'Applied Sciences'] #insig\n",
    "#tmp = tmp[tmp['Domain_English'] == 'Arts & Humanities'] #gmale = 0.109528, p val = 0.0477 *\n",
    "#tmp = tmp[tmp['Domain_English'] == 'Economic & Social Sciences'] # Gmale = -0.0953, p val = 8.24e-11 *** (men get less certainty score)\n",
    "#tmp = tmp[tmp['Domain_English'] == 'Health Sciences'] #gmale = 0.015265 , p val = 1.79e-05 *** (men get more certainty score)\n",
    "tmp = tmp[tmp['Domain_English'] == 'Natural Sciences'] #insig\n",
    "\n",
    "\n",
    "with localconverter(ro.default_converter + pandas2ri.converter):\n",
    "  tst_df = ro.conversion.py2rpy(tmp)\n",
    "\n",
    "col_2_index = list(tst_df.colnames).index('year')\n",
    "col_2 = ro.vectors.FactorVector(tst_df.rx2('year'))\n",
    "tst_df[col_2_index] = col_2\n",
    "\n",
    "col_2_index = list(tst_df.colnames).index('q')\n",
    "col_2 = ro.vectors.FactorVector(tst_df.rx2('q'))\n",
    "tst_df[col_2_index] = col_2\n",
    "\n",
    "\n",
    "'''col_2_index = list(tst_df.colnames).index('Domain_English')\n",
    "col_2 = ro.vectors.FactorVector(tst_df.rx2('Domain_English'))\n",
    "tst_df[col_2_index] = col_2'''\n",
    "\n",
    "col_2_index = list(tst_df.colnames).index('Field_English')\n",
    "col_2 = ro.vectors.FactorVector(tst_df.rx2('Field_English'))\n",
    "tst_df[col_2_index] = col_2\n",
    "\n",
    "weight = list(tst_df.colnames).index('weight')\n",
    "\n",
    "'''col_2_index = list(tst_df.colnames).index('post_id')\n",
    "col_2 = ro.vectors.FactorVector(tst_df.rx2('post_id'))\n",
    "tst_df[col_2_index] = col_2'''\n",
    "\n",
    "\n",
    "\n",
    "#print(tst_df)\n",
    "#pandas2ri.activate()\n",
    "model = stats.glm(\"certainty ~ gender+year+q+Field_English\",\n",
    "                  data=tst_df,weights = tst_df[weight],family=ro.r('Gamma(link=\"identity\")')) #family=ro.r('gaussian(link=\"identity\")') #family=ro.r('poisson(link=\"log\")') family=ro.r('gaussian')\n",
    "print(base.summary(model))"
   ]
  },
  {
   "cell_type": "markdown",
   "metadata": {
    "application/vnd.databricks.v1+cell": {
     "cellMetadata": {},
     "inputWidgets": {},
     "nuid": "5fa7ad93-f1f3-4f3a-af95-179b7e964d01",
     "showTitle": false,
     "title": ""
    }
   },
   "source": [
    "#### Draft"
   ]
  },
  {
   "cell_type": "code",
   "execution_count": 0,
   "metadata": {
    "application/vnd.databricks.v1+cell": {
     "cellMetadata": {
      "byteLimit": 2048000,
      "rowLimit": 10000
     },
     "inputWidgets": {},
     "nuid": "027dc641-0383-4458-ac9f-467a5b2e40fc",
     "showTitle": false,
     "title": ""
    }
   },
   "outputs": [],
   "source": [
    "#utils = rpackages.importr('utils')\n",
    "#utils.chooseCRANmirror(ind=1)\n",
    "#utils.install_packages(\"fixest\")\n",
    "fixest = rpackages.importr(\"fixest\")\n",
    "import numpy as np\n",
    "import rpy2.robjects.packages as rpackages\n",
    "import rpy2.robjects.vectors as robjects_vectors\n",
    "\n",
    "\n",
    "from rpy2.robjects import r, pandas2ri\n",
    "import rpy2.robjects as ro\n",
    "from rpy2.robjects.packages import importr\n",
    "\n",
    "# import R's utility package\n",
    "#utils = rpackages.importr('utils')\n",
    "#utils.chooseCRANmirror(ind=1)\n",
    "from rpy2.robjects.conversion import localconverter\n",
    "base = importr('base')\n",
    "from rpy2.robjects import Formula\n",
    "stats = importr('stats')\n",
    "nnet = importr('nnet')"
   ]
  },
  {
   "cell_type": "code",
   "execution_count": 0,
   "metadata": {
    "application/vnd.databricks.v1+cell": {
     "cellMetadata": {
      "byteLimit": 2048000,
      "rowLimit": 10000
     },
     "inputWidgets": {},
     "nuid": "169b5df9-5d4f-46dc-866b-f0a559f6aa27",
     "showTitle": false,
     "title": ""
    }
   },
   "outputs": [
    {
     "output_type": "stream",
     "name": "stdout",
     "output_type": "stream",
     "text": [
      "R[write to console]: Error: in (function (fml, data, vcov, weights, offset, subs...: \nThe only variable 'gendermale' is collinear with the fixed effects. In such\ncircumstances, the estimation is void.\n\n"
     ]
    },
    {
     "output_type": "display_data",
     "data": {
      "text/plain": [
       "\u001B[0;31m---------------------------------------------------------------------------\u001B[0m\n",
       "\u001B[0;31mRRuntimeError\u001B[0m                             Traceback (most recent call last)\n",
       "\u001B[0;32m<command-3623502227391731>\u001B[0m in \u001B[0;36m<cell line: 58>\u001B[0;34m()\u001B[0m\n",
       "\u001B[1;32m     56\u001B[0m \u001B[0;34m\u001B[0m\u001B[0m\n",
       "\u001B[1;32m     57\u001B[0m \u001B[0;31m#model = ro.r.lm(formula=Formula(\"certainty ~ gender\"), data=tst_df)\u001B[0m\u001B[0;34m\u001B[0m\u001B[0;34m\u001B[0m\u001B[0;34m\u001B[0m\u001B[0m\n",
       "\u001B[0;32m---> 58\u001B[0;31m \u001B[0mmodel\u001B[0m \u001B[0;34m=\u001B[0m \u001B[0mro\u001B[0m\u001B[0;34m.\u001B[0m\u001B[0mr\u001B[0m\u001B[0;34m.\u001B[0m\u001B[0mfeols\u001B[0m\u001B[0;34m(\u001B[0m\u001B[0mfml\u001B[0m\u001B[0;34m=\u001B[0m\u001B[0mFormula\u001B[0m\u001B[0;34m(\u001B[0m\u001B[0;34m\"certainty ~ gender| year+q+post_id+Field_English\"\u001B[0m\u001B[0;34m)\u001B[0m\u001B[0;34m,\u001B[0m \u001B[0mdata\u001B[0m\u001B[0;34m=\u001B[0m\u001B[0mtst_df\u001B[0m\u001B[0;34m)\u001B[0m\u001B[0;34m\u001B[0m\u001B[0;34m\u001B[0m\u001B[0m\n",
       "\u001B[0m\u001B[1;32m     59\u001B[0m \u001B[0mprint\u001B[0m\u001B[0;34m(\u001B[0m\u001B[0mbase\u001B[0m\u001B[0;34m.\u001B[0m\u001B[0msummary\u001B[0m\u001B[0;34m(\u001B[0m\u001B[0mmodel\u001B[0m\u001B[0;34m)\u001B[0m\u001B[0;34m)\u001B[0m\u001B[0;34m\u001B[0m\u001B[0;34m\u001B[0m\u001B[0m\n",
       "\n",
       "\u001B[0;32m/local_disk0/.ephemeral_nfs/envs/pythonEnv-a768cf16-949f-4da0-b50e-17796fba80bc/lib/python3.9/site-packages/rpy2/robjects/functions.py\u001B[0m in \u001B[0;36m__call__\u001B[0;34m(self, *args, **kwargs)\u001B[0m\n",
       "\u001B[1;32m    201\u001B[0m                 \u001B[0mv\u001B[0m \u001B[0;34m=\u001B[0m \u001B[0mkwargs\u001B[0m\u001B[0;34m.\u001B[0m\u001B[0mpop\u001B[0m\u001B[0;34m(\u001B[0m\u001B[0mk\u001B[0m\u001B[0;34m)\u001B[0m\u001B[0;34m\u001B[0m\u001B[0;34m\u001B[0m\u001B[0m\n",
       "\u001B[1;32m    202\u001B[0m                 \u001B[0mkwargs\u001B[0m\u001B[0;34m[\u001B[0m\u001B[0mr_k\u001B[0m\u001B[0;34m]\u001B[0m \u001B[0;34m=\u001B[0m \u001B[0mv\u001B[0m\u001B[0;34m\u001B[0m\u001B[0;34m\u001B[0m\u001B[0m\n",
       "\u001B[0;32m--> 203\u001B[0;31m         return (super(SignatureTranslatedFunction, self)\n",
       "\u001B[0m\u001B[1;32m    204\u001B[0m                 .__call__(*args, **kwargs))\n",
       "\u001B[1;32m    205\u001B[0m \u001B[0;34m\u001B[0m\u001B[0m\n",
       "\n",
       "\u001B[0;32m/local_disk0/.ephemeral_nfs/envs/pythonEnv-a768cf16-949f-4da0-b50e-17796fba80bc/lib/python3.9/site-packages/rpy2/robjects/functions.py\u001B[0m in \u001B[0;36m__call__\u001B[0;34m(self, *args, **kwargs)\u001B[0m\n",
       "\u001B[1;32m    124\u001B[0m             \u001B[0;32melse\u001B[0m\u001B[0;34m:\u001B[0m\u001B[0;34m\u001B[0m\u001B[0;34m\u001B[0m\u001B[0m\n",
       "\u001B[1;32m    125\u001B[0m                 \u001B[0mnew_kwargs\u001B[0m\u001B[0;34m[\u001B[0m\u001B[0mk\u001B[0m\u001B[0;34m]\u001B[0m \u001B[0;34m=\u001B[0m \u001B[0mcv\u001B[0m\u001B[0;34m.\u001B[0m\u001B[0mpy2rpy\u001B[0m\u001B[0;34m(\u001B[0m\u001B[0mv\u001B[0m\u001B[0;34m)\u001B[0m\u001B[0;34m\u001B[0m\u001B[0;34m\u001B[0m\u001B[0m\n",
       "\u001B[0;32m--> 126\u001B[0;31m         \u001B[0mres\u001B[0m \u001B[0;34m=\u001B[0m \u001B[0msuper\u001B[0m\u001B[0;34m(\u001B[0m\u001B[0mFunction\u001B[0m\u001B[0;34m,\u001B[0m \u001B[0mself\u001B[0m\u001B[0;34m)\u001B[0m\u001B[0;34m.\u001B[0m\u001B[0m__call__\u001B[0m\u001B[0;34m(\u001B[0m\u001B[0;34m*\u001B[0m\u001B[0mnew_args\u001B[0m\u001B[0;34m,\u001B[0m \u001B[0;34m**\u001B[0m\u001B[0mnew_kwargs\u001B[0m\u001B[0;34m)\u001B[0m\u001B[0;34m\u001B[0m\u001B[0;34m\u001B[0m\u001B[0m\n",
       "\u001B[0m\u001B[1;32m    127\u001B[0m         \u001B[0mres\u001B[0m \u001B[0;34m=\u001B[0m \u001B[0mcv\u001B[0m\u001B[0;34m.\u001B[0m\u001B[0mrpy2py\u001B[0m\u001B[0;34m(\u001B[0m\u001B[0mres\u001B[0m\u001B[0;34m)\u001B[0m\u001B[0;34m\u001B[0m\u001B[0;34m\u001B[0m\u001B[0m\n",
       "\u001B[1;32m    128\u001B[0m         \u001B[0;32mreturn\u001B[0m \u001B[0mres\u001B[0m\u001B[0;34m\u001B[0m\u001B[0;34m\u001B[0m\u001B[0m\n",
       "\n",
       "\u001B[0;32m/local_disk0/.ephemeral_nfs/envs/pythonEnv-a768cf16-949f-4da0-b50e-17796fba80bc/lib/python3.9/site-packages/rpy2/rinterface_lib/conversion.py\u001B[0m in \u001B[0;36m_\u001B[0;34m(*args, **kwargs)\u001B[0m\n",
       "\u001B[1;32m     43\u001B[0m \u001B[0;32mdef\u001B[0m \u001B[0m_cdata_res_to_rinterface\u001B[0m\u001B[0;34m(\u001B[0m\u001B[0mfunction\u001B[0m\u001B[0;34m)\u001B[0m\u001B[0;34m:\u001B[0m\u001B[0;34m\u001B[0m\u001B[0;34m\u001B[0m\u001B[0m\n",
       "\u001B[1;32m     44\u001B[0m     \u001B[0;32mdef\u001B[0m \u001B[0m_\u001B[0m\u001B[0;34m(\u001B[0m\u001B[0;34m*\u001B[0m\u001B[0margs\u001B[0m\u001B[0;34m,\u001B[0m \u001B[0;34m**\u001B[0m\u001B[0mkwargs\u001B[0m\u001B[0;34m)\u001B[0m\u001B[0;34m:\u001B[0m\u001B[0;34m\u001B[0m\u001B[0;34m\u001B[0m\u001B[0m\n",
       "\u001B[0;32m---> 45\u001B[0;31m         \u001B[0mcdata\u001B[0m \u001B[0;34m=\u001B[0m \u001B[0mfunction\u001B[0m\u001B[0;34m(\u001B[0m\u001B[0;34m*\u001B[0m\u001B[0margs\u001B[0m\u001B[0;34m,\u001B[0m \u001B[0;34m**\u001B[0m\u001B[0mkwargs\u001B[0m\u001B[0;34m)\u001B[0m\u001B[0;34m\u001B[0m\u001B[0;34m\u001B[0m\u001B[0m\n",
       "\u001B[0m\u001B[1;32m     46\u001B[0m         \u001B[0;31m# TODO: test cdata is of the expected CType\u001B[0m\u001B[0;34m\u001B[0m\u001B[0;34m\u001B[0m\u001B[0;34m\u001B[0m\u001B[0m\n",
       "\u001B[1;32m     47\u001B[0m         \u001B[0;32mreturn\u001B[0m \u001B[0m_cdata_to_rinterface\u001B[0m\u001B[0;34m(\u001B[0m\u001B[0mcdata\u001B[0m\u001B[0;34m)\u001B[0m\u001B[0;34m\u001B[0m\u001B[0;34m\u001B[0m\u001B[0m\n",
       "\n",
       "\u001B[0;32m/local_disk0/.ephemeral_nfs/envs/pythonEnv-a768cf16-949f-4da0-b50e-17796fba80bc/lib/python3.9/site-packages/rpy2/rinterface.py\u001B[0m in \u001B[0;36m__call__\u001B[0;34m(self, *args, **kwargs)\u001B[0m\n",
       "\u001B[1;32m    813\u001B[0m             )\n",
       "\u001B[1;32m    814\u001B[0m             \u001B[0;32mif\u001B[0m \u001B[0merror_occured\u001B[0m\u001B[0;34m[\u001B[0m\u001B[0;36m0\u001B[0m\u001B[0;34m]\u001B[0m\u001B[0;34m:\u001B[0m\u001B[0;34m\u001B[0m\u001B[0;34m\u001B[0m\u001B[0m\n",
       "\u001B[0;32m--> 815\u001B[0;31m                 \u001B[0;32mraise\u001B[0m \u001B[0membedded\u001B[0m\u001B[0;34m.\u001B[0m\u001B[0mRRuntimeError\u001B[0m\u001B[0;34m(\u001B[0m\u001B[0m_rinterface\u001B[0m\u001B[0;34m.\u001B[0m\u001B[0m_geterrmessage\u001B[0m\u001B[0;34m(\u001B[0m\u001B[0;34m)\u001B[0m\u001B[0;34m)\u001B[0m\u001B[0;34m\u001B[0m\u001B[0;34m\u001B[0m\u001B[0m\n",
       "\u001B[0m\u001B[1;32m    816\u001B[0m         \u001B[0;32mreturn\u001B[0m \u001B[0mres\u001B[0m\u001B[0;34m\u001B[0m\u001B[0;34m\u001B[0m\u001B[0m\n",
       "\u001B[1;32m    817\u001B[0m \u001B[0;34m\u001B[0m\u001B[0m\n",
       "\n",
       "\u001B[0;31mRRuntimeError\u001B[0m: Error: in (function (fml, data, vcov, weights, offset, subs...: \n",
       "The only variable 'gendermale' is collinear with the fixed effects. In such\n",
       "circumstances, the estimation is void.\n"
      ]
     },
     "metadata": {
      "application/vnd.databricks.v1+output": {
       "arguments": {},
       "data": "\u001B[0;31m---------------------------------------------------------------------------\u001B[0m\n\u001B[0;31mRRuntimeError\u001B[0m                             Traceback (most recent call last)\n\u001B[0;32m<command-3623502227391731>\u001B[0m in \u001B[0;36m<cell line: 58>\u001B[0;34m()\u001B[0m\n\u001B[1;32m     56\u001B[0m \u001B[0;34m\u001B[0m\u001B[0m\n\u001B[1;32m     57\u001B[0m \u001B[0;31m#model = ro.r.lm(formula=Formula(\"certainty ~ gender\"), data=tst_df)\u001B[0m\u001B[0;34m\u001B[0m\u001B[0;34m\u001B[0m\u001B[0;34m\u001B[0m\u001B[0m\n\u001B[0;32m---> 58\u001B[0;31m \u001B[0mmodel\u001B[0m \u001B[0;34m=\u001B[0m \u001B[0mro\u001B[0m\u001B[0;34m.\u001B[0m\u001B[0mr\u001B[0m\u001B[0;34m.\u001B[0m\u001B[0mfeols\u001B[0m\u001B[0;34m(\u001B[0m\u001B[0mfml\u001B[0m\u001B[0;34m=\u001B[0m\u001B[0mFormula\u001B[0m\u001B[0;34m(\u001B[0m\u001B[0;34m\"certainty ~ gender| year+q+post_id+Field_English\"\u001B[0m\u001B[0;34m)\u001B[0m\u001B[0;34m,\u001B[0m \u001B[0mdata\u001B[0m\u001B[0;34m=\u001B[0m\u001B[0mtst_df\u001B[0m\u001B[0;34m)\u001B[0m\u001B[0;34m\u001B[0m\u001B[0;34m\u001B[0m\u001B[0m\n\u001B[0m\u001B[1;32m     59\u001B[0m \u001B[0mprint\u001B[0m\u001B[0;34m(\u001B[0m\u001B[0mbase\u001B[0m\u001B[0;34m.\u001B[0m\u001B[0msummary\u001B[0m\u001B[0;34m(\u001B[0m\u001B[0mmodel\u001B[0m\u001B[0;34m)\u001B[0m\u001B[0;34m)\u001B[0m\u001B[0;34m\u001B[0m\u001B[0;34m\u001B[0m\u001B[0m\n\n\u001B[0;32m/local_disk0/.ephemeral_nfs/envs/pythonEnv-a768cf16-949f-4da0-b50e-17796fba80bc/lib/python3.9/site-packages/rpy2/robjects/functions.py\u001B[0m in \u001B[0;36m__call__\u001B[0;34m(self, *args, **kwargs)\u001B[0m\n\u001B[1;32m    201\u001B[0m                 \u001B[0mv\u001B[0m \u001B[0;34m=\u001B[0m \u001B[0mkwargs\u001B[0m\u001B[0;34m.\u001B[0m\u001B[0mpop\u001B[0m\u001B[0;34m(\u001B[0m\u001B[0mk\u001B[0m\u001B[0;34m)\u001B[0m\u001B[0;34m\u001B[0m\u001B[0;34m\u001B[0m\u001B[0m\n\u001B[1;32m    202\u001B[0m                 \u001B[0mkwargs\u001B[0m\u001B[0;34m[\u001B[0m\u001B[0mr_k\u001B[0m\u001B[0;34m]\u001B[0m \u001B[0;34m=\u001B[0m \u001B[0mv\u001B[0m\u001B[0;34m\u001B[0m\u001B[0;34m\u001B[0m\u001B[0m\n\u001B[0;32m--> 203\u001B[0;31m         return (super(SignatureTranslatedFunction, self)\n\u001B[0m\u001B[1;32m    204\u001B[0m                 .__call__(*args, **kwargs))\n\u001B[1;32m    205\u001B[0m \u001B[0;34m\u001B[0m\u001B[0m\n\n\u001B[0;32m/local_disk0/.ephemeral_nfs/envs/pythonEnv-a768cf16-949f-4da0-b50e-17796fba80bc/lib/python3.9/site-packages/rpy2/robjects/functions.py\u001B[0m in \u001B[0;36m__call__\u001B[0;34m(self, *args, **kwargs)\u001B[0m\n\u001B[1;32m    124\u001B[0m             \u001B[0;32melse\u001B[0m\u001B[0;34m:\u001B[0m\u001B[0;34m\u001B[0m\u001B[0;34m\u001B[0m\u001B[0m\n\u001B[1;32m    125\u001B[0m                 \u001B[0mnew_kwargs\u001B[0m\u001B[0;34m[\u001B[0m\u001B[0mk\u001B[0m\u001B[0;34m]\u001B[0m \u001B[0;34m=\u001B[0m \u001B[0mcv\u001B[0m\u001B[0;34m.\u001B[0m\u001B[0mpy2rpy\u001B[0m\u001B[0;34m(\u001B[0m\u001B[0mv\u001B[0m\u001B[0;34m)\u001B[0m\u001B[0;34m\u001B[0m\u001B[0;34m\u001B[0m\u001B[0m\n\u001B[0;32m--> 126\u001B[0;31m         \u001B[0mres\u001B[0m \u001B[0;34m=\u001B[0m \u001B[0msuper\u001B[0m\u001B[0;34m(\u001B[0m\u001B[0mFunction\u001B[0m\u001B[0;34m,\u001B[0m \u001B[0mself\u001B[0m\u001B[0;34m)\u001B[0m\u001B[0;34m.\u001B[0m\u001B[0m__call__\u001B[0m\u001B[0;34m(\u001B[0m\u001B[0;34m*\u001B[0m\u001B[0mnew_args\u001B[0m\u001B[0;34m,\u001B[0m \u001B[0;34m**\u001B[0m\u001B[0mnew_kwargs\u001B[0m\u001B[0;34m)\u001B[0m\u001B[0;34m\u001B[0m\u001B[0;34m\u001B[0m\u001B[0m\n\u001B[0m\u001B[1;32m    127\u001B[0m         \u001B[0mres\u001B[0m \u001B[0;34m=\u001B[0m \u001B[0mcv\u001B[0m\u001B[0;34m.\u001B[0m\u001B[0mrpy2py\u001B[0m\u001B[0;34m(\u001B[0m\u001B[0mres\u001B[0m\u001B[0;34m)\u001B[0m\u001B[0;34m\u001B[0m\u001B[0;34m\u001B[0m\u001B[0m\n\u001B[1;32m    128\u001B[0m         \u001B[0;32mreturn\u001B[0m \u001B[0mres\u001B[0m\u001B[0;34m\u001B[0m\u001B[0;34m\u001B[0m\u001B[0m\n\n\u001B[0;32m/local_disk0/.ephemeral_nfs/envs/pythonEnv-a768cf16-949f-4da0-b50e-17796fba80bc/lib/python3.9/site-packages/rpy2/rinterface_lib/conversion.py\u001B[0m in \u001B[0;36m_\u001B[0;34m(*args, **kwargs)\u001B[0m\n\u001B[1;32m     43\u001B[0m \u001B[0;32mdef\u001B[0m \u001B[0m_cdata_res_to_rinterface\u001B[0m\u001B[0;34m(\u001B[0m\u001B[0mfunction\u001B[0m\u001B[0;34m)\u001B[0m\u001B[0;34m:\u001B[0m\u001B[0;34m\u001B[0m\u001B[0;34m\u001B[0m\u001B[0m\n\u001B[1;32m     44\u001B[0m     \u001B[0;32mdef\u001B[0m \u001B[0m_\u001B[0m\u001B[0;34m(\u001B[0m\u001B[0;34m*\u001B[0m\u001B[0margs\u001B[0m\u001B[0;34m,\u001B[0m \u001B[0;34m**\u001B[0m\u001B[0mkwargs\u001B[0m\u001B[0;34m)\u001B[0m\u001B[0;34m:\u001B[0m\u001B[0;34m\u001B[0m\u001B[0;34m\u001B[0m\u001B[0m\n\u001B[0;32m---> 45\u001B[0;31m         \u001B[0mcdata\u001B[0m \u001B[0;34m=\u001B[0m \u001B[0mfunction\u001B[0m\u001B[0;34m(\u001B[0m\u001B[0;34m*\u001B[0m\u001B[0margs\u001B[0m\u001B[0;34m,\u001B[0m \u001B[0;34m**\u001B[0m\u001B[0mkwargs\u001B[0m\u001B[0;34m)\u001B[0m\u001B[0;34m\u001B[0m\u001B[0;34m\u001B[0m\u001B[0m\n\u001B[0m\u001B[1;32m     46\u001B[0m         \u001B[0;31m# TODO: test cdata is of the expected CType\u001B[0m\u001B[0;34m\u001B[0m\u001B[0;34m\u001B[0m\u001B[0;34m\u001B[0m\u001B[0m\n\u001B[1;32m     47\u001B[0m         \u001B[0;32mreturn\u001B[0m \u001B[0m_cdata_to_rinterface\u001B[0m\u001B[0;34m(\u001B[0m\u001B[0mcdata\u001B[0m\u001B[0;34m)\u001B[0m\u001B[0;34m\u001B[0m\u001B[0;34m\u001B[0m\u001B[0m\n\n\u001B[0;32m/local_disk0/.ephemeral_nfs/envs/pythonEnv-a768cf16-949f-4da0-b50e-17796fba80bc/lib/python3.9/site-packages/rpy2/rinterface.py\u001B[0m in \u001B[0;36m__call__\u001B[0;34m(self, *args, **kwargs)\u001B[0m\n\u001B[1;32m    813\u001B[0m             )\n\u001B[1;32m    814\u001B[0m             \u001B[0;32mif\u001B[0m \u001B[0merror_occured\u001B[0m\u001B[0;34m[\u001B[0m\u001B[0;36m0\u001B[0m\u001B[0;34m]\u001B[0m\u001B[0;34m:\u001B[0m\u001B[0;34m\u001B[0m\u001B[0;34m\u001B[0m\u001B[0m\n\u001B[0;32m--> 815\u001B[0;31m                 \u001B[0;32mraise\u001B[0m \u001B[0membedded\u001B[0m\u001B[0;34m.\u001B[0m\u001B[0mRRuntimeError\u001B[0m\u001B[0;34m(\u001B[0m\u001B[0m_rinterface\u001B[0m\u001B[0;34m.\u001B[0m\u001B[0m_geterrmessage\u001B[0m\u001B[0;34m(\u001B[0m\u001B[0;34m)\u001B[0m\u001B[0;34m)\u001B[0m\u001B[0;34m\u001B[0m\u001B[0;34m\u001B[0m\u001B[0m\n\u001B[0m\u001B[1;32m    816\u001B[0m         \u001B[0;32mreturn\u001B[0m \u001B[0mres\u001B[0m\u001B[0;34m\u001B[0m\u001B[0;34m\u001B[0m\u001B[0m\n\u001B[1;32m    817\u001B[0m \u001B[0;34m\u001B[0m\u001B[0m\n\n\u001B[0;31mRRuntimeError\u001B[0m: Error: in (function (fml, data, vcov, weights, offset, subs...: \nThe only variable 'gendermale' is collinear with the fixed effects. In such\ncircumstances, the estimation is void.\n",
       "errorSummary": "<span class='ansi-red-fg'>RRuntimeError</span>: Error: in (function (fml, data, vcov, weights, offset, subs...: \nThe only variable 'gendermale' is collinear with the fixed effects. In such\ncircumstances, the estimation is void.\n",
       "errorTraceType": "ansi",
       "metadata": {},
       "type": "ipynbError"
      }
     },
     "output_type": "display_data"
    }
   ],
   "source": [
    "tmp = pd.DataFrame()\n",
    "tmp['certainty'] = dummy['certainty']\n",
    "tmp['gender'] = dummy['gender']\n",
    "tmp['year'] = dummy['year']\n",
    "tmp['Domain_English'] = dummy['Domain_English']\n",
    "tmp['Field_English'] = dummy['Field_English']\n",
    "tmp['SubField_English'] = dummy['SubField_English']\n",
    "tmp['q'] = dummy['q']\n",
    "tmp['post_id'] = dummy['post_id']\n",
    "\n",
    "tmp = tmp.dropna(subset = ['certainty'])\n",
    "\n",
    "#tmp = tmp[tmp['Field_English'] == 'Mathematics & Statistics']\n",
    "#print(tmp['gender'].unique())\n",
    "tmp = tmp[tmp['Domain_English'] == 'Applied Sciences'] #est Gmale = -0.007596, p val = 0.050 .\n",
    "#tmp = tmp[tmp['Domain_English'] == 'Arts & Humanities'] #insig\n",
    "#tmp = tmp[tmp['Domain_English'] == 'Economic & Social Sciences'] # Gmale = 0.0610953, p val = 0.0535 .\n",
    "#tmp = tmp[tmp['Domain_English'] == 'Health Sciences'] #insig\n",
    "#tmp = tmp[tmp['Domain_English'] == 'Natural Sciences'] #insig\n",
    "\n",
    "#tmp = tmp[tmp['Field_English'] == 'Biology'] #insig\n",
    "\n",
    "##hitgher value: more positive means more conservative\n",
    "\n",
    "with localconverter(ro.default_converter + pandas2ri.converter):\n",
    "  tst_df = ro.conversion.py2rpy(tmp)\n",
    "\n",
    "col_2_index = list(tst_df.colnames).index('year')\n",
    "col_2 = ro.vectors.FactorVector(tst_df.rx2('year'))\n",
    "tst_df[col_2_index] = col_2\n",
    "\n",
    "col_2_index = list(tst_df.colnames).index('q')\n",
    "col_2 = ro.vectors.FactorVector(tst_df.rx2('q'))\n",
    "tst_df[col_2_index] = col_2\n",
    "\n",
    "\n",
    "'''col_2_index = list(tst_df.colnames).index('Domain_English')\n",
    "col_2 = ro.vectors.FactorVector(tst_df.rx2('Domain_English'))\n",
    "tst_df[col_2_index] = col_2'''\n",
    "\n",
    "col_2_index = list(tst_df.colnames).index('Field_English')\n",
    "col_2 = ro.vectors.FactorVector(tst_df.rx2('Field_English'))\n",
    "tst_df[col_2_index] = col_2\n",
    "\n",
    "col_2_index = list(tst_df.colnames).index('post_id')\n",
    "col_2 = ro.vectors.FactorVector(tst_df.rx2('post_id'))\n",
    "tst_df[col_2_index] = col_2\n",
    "\n",
    "\n",
    "\n",
    "#print(tst_df)\n",
    "#pandas2ri.activate()\n",
    "'''model = stats.glm(\"certainty ~ gender+year+q+post_id\",\n",
    "                  data=tst_df,family=ro.r('gaussian')) #family=ro.r('gaussian(link=\"identity\")') #family=ro.r('poisson(link=\"log\")')\n",
    "'''\n",
    "\n",
    "#model = ro.r.lm(formula=Formula(\"certainty ~ gender\"), data=tst_df)\n",
    "model = ro.r.feols(fml=Formula(\"certainty ~ gender| year+q+post_id+Field_English\"), data=tst_df)\n",
    "print(base.summary(model))"
   ]
  },
  {
   "cell_type": "code",
   "execution_count": 0,
   "metadata": {
    "application/vnd.databricks.v1+cell": {
     "cellMetadata": {
      "byteLimit": 2048000,
      "rowLimit": 10000
     },
     "inputWidgets": {},
     "nuid": "bff0171f-0ab5-4a38-9093-66f846059029",
     "showTitle": false,
     "title": ""
    }
   },
   "outputs": [
    {
     "output_type": "stream",
     "name": "stdout",
     "output_type": "stream",
     "text": [
      "                                                    URL  \\\n0     https://www.yahoo.com/lifestyle/golf-cart-gail...   \n43    https://www.newscientist.com/article/2184541-h...   \n200   http://www.nbcnews.com/mach/science/robotic-sk...   \n508   https://gulfnews.com/opinion/thinkers/there-s-...   \n1516  https://www.labroots.com/trending/technology/2...   \n1602  http://ct.moreover.com/?a=48141661777&p=1pl&v=...   \n2027  http://ct.moreover.com/?a=46906221804&p=1pl&v=...   \n3802  http://www.sciencealert.com/american-food-wast...   \n4786  http://ct.moreover.com/?a=47662652186&p=1pl&v=...   \n4816  https://phys.org/news/2019-05-midwestern-fish-...   \n5001  https://www.dddmag.com/news/2019/01/unmuting-l...   \n5076  http://ct.moreover.com/?a=48438111136&p=1pl&v=...   \n6462  http://ct.moreover.com/?a=48268573583&p=1pl&v=...   \n6522  https://www.newkerala.com/news/read/269487/new...   \n6718  http://7thspace.com/headlines/1213159/23_years...   \n6744  https://newatlas.com/materials/silicon-strengt...   \n6854  http://ct.moreover.com/?a=48346622674&p=1pl&v=...   \n8023  http://ct.moreover.com/?a=47510538121&p=1pl&v=...   \n8177  http://ct.moreover.com/?a=48679554283&p=1pl&v=...   \n8707  http://ct.moreover.com/?a=46887347639&p=1pl&v=...   \n\n                                doi                        media  word_count  \\\n0     10.1080/19320248.2018.1512931                       yahoo!        1332   \n43     10.1016/j.celrep.2018.10.010                 newscientist         309   \n200     10.1126/scirobotics.aat1853                      nbcnews         435   \n508     10.1016/j.joule.2018.05.006                     gulfnews         839   \n1516     10.1016/j.matt.2021.06.009                     labroots         298   \n1602            10.3390/fire2020030              publicradioeast        1630   \n2027        10.1021/acs.est.1c04707               sierrasuntimes         937   \n3802   10.1371/journal.pone.0195405                 sciencealert         834   \n4786   10.1016/j.procir.2019.01.102                  arstechnica         844   \n4816      10.1038/s42003-019-0452-0                     phys.org         724   \n5001      10.1038/s41589-018-0187-0  drugdiscoveryanddevelopment         600   \n5076     10.1038/s41558-022-01426-1               socialnews.xyz         556   \n6462   10.1016/j.nantod.2022.101547                   miragenews         476   \n6522      10.1038/s41587-019-0357-y                    newkerala         327   \n6718             10.1002/jeq2.20075         7thspacefamilyportal         267   \n6744         10.1126/sciadv.aay0352                     newatlas         409   \n6854         10.1002/advs.202201174                  livescience        1076   \n8023     10.1038/s41467-022-29636-3              bioengineer.org         956   \n8177     10.1016/j.matt.2022.07.015                thestaronline         351   \n8707     10.1038/s41598-019-48909-4             discovermagazine         939   \n\n                                               sentence  sent_len  post_id  \\\n0     A woman riding past a teen soccer game on a go...        43        0   \n43    We have taken a small step down this road with...        13        1   \n200   What if you could turn a stuffed animal into a...        14        2   \n508   Erich Sixt, chairman and chief executive offic...        31        3   \n1516  If your pandemic garden has struggled this sea...         9        4   \n1602  The federal Government Accountability Office (...        27        5   \n2027  Natural gas stoves release methane – a potent ...        31        6   \n3802  The mass quantities of food Americans waste ev...        24        7   \n4786  Earth Day was April 22, and its usual message—...        30        8   \n4816  Research recently completed at North Dakota St...        22        9   \n5001  By enticing away the repressors dampening unex...        15       10   \n5076  New Delhi, Aug 9 (pattern) As the world grappl...        12       11   \n6462  The bacterial leaf blight disease (BLB) is amo...        16       12   \n6522  Paving the way for solving a major safety issu...        11       13   \n6718  Long-term research is important to understand ...         9       14   \n6744  Body armor can come in many forms, with differ...        12       15   \n6854  Taking a dead spiders lifeless body and reanim...        38       16   \n8023  A new data-driven mechanistic approach that pr...        20       17   \n8177  Perhaps its time to stop throwing out the left...        15       18   \n8707  It was 1970 when marine biologist Roger Payne ...        27       19   \n\n        sent_pred  certainty    Domain_English  ... TopicId Au1_gender  \\\n0     [4.7548103]   4.754810   Health Sciences  ...    3164     female   \n43     [4.965234]   4.965234   Health Sciences  ...    9190     female   \n200    [4.819307]   4.819307  Applied Sciences  ...    4630       male   \n508    [4.983837]   4.983837  Applied Sciences  ...   15081       male   \n1516  [2.9951167]   2.995117  Natural Sciences  ...    4469       male   \n1602   [4.918765]   4.918765  Applied Sciences  ...    1825     female   \n2027  [4.9799366]   4.979937  Natural Sciences  ...    5533       male   \n3802  [5.0058703]   5.005870  Applied Sciences  ...   16008       male   \n4786  [5.0282655]   5.028265  Applied Sciences  ...    7196       male   \n4816   [4.780138]   4.780138  Applied Sciences  ...   29223       male   \n5001   [4.801692]   4.801692  Natural Sciences  ...    3072       male   \n5076  [4.4077725]   4.407773  Natural Sciences  ...   20471       male   \n6462    [5.02256]   5.022560  Natural Sciences  ...    8585       male   \n6522  [3.9864473]   3.986447  Applied Sciences  ...   10891       male   \n6718   [4.850346]   4.850346  Applied Sciences  ...     927     female   \n6744  [4.5217032]   4.521703  Applied Sciences  ...    7517     female   \n6854   [4.651349]   4.651349  Applied Sciences  ...    4630     female   \n8023  [4.6522655]   4.652266  Applied Sciences  ...    2567       male   \n8177   [4.401289]   4.401289  Applied Sciences  ...   23080     female   \n8707   [5.024532]   5.024532  Natural Sciences  ...   10775       male   \n\n       country_name     SJR                     subfield_article  \\\n0     United States   0.562                nutrition & dietetics   \n43    United States   6.635                developmental biology   \n200   United States     NaN  industrial engineering & automation   \n508   United States   6.138                               energy   \n1516  United States   3.972                 analytical chemistry   \n1602  United States     NaN                             forestry   \n2027  United States   3.123               environmental sciences   \n3802  United States   1.100                         food science   \n4786  United States   0.728                               energy   \n4816  United States   2.150                            fisheries   \n5001  United States   7.004                    organic chemistry   \n5076  United States   6.849   meteorology & atmospheric sciences   \n6462  United States   3.868               plant biology & botany   \n6522  United States  15.358                        biotechnology   \n6718  United States   0.888               agronomy & agriculture   \n6744  United States   6.062                            materials   \n6854  United States   4.086         nanoscience & nanotechnology   \n8023  United States   5.116                       bioinformatics   \n8177  United States   4.896         nanoscience & nanotechnology   \n8707  United States   1.341                 evolutionary biology   \n\n                                         preferred_name org_type      cor_au1  \\\n0                            The University of Oklahoma     univ  56536815300   \n43                                     Tufts University     univ   8880226800   \n200                                     Yale University     univ  57199104372   \n508   Harvard John A. Paulson School of Engineering ...     univ  26643036500   \n1516                                NC State University     univ  51565284800   \n1602                                University of Idaho     univ  14018040300   \n2027                                Stanford University     univ  57216676005   \n3802  USDA ARS Grand Forks Human Nutrition Research ...     resi  56062512500   \n4786                  University of Michigan, Ann Arbor     univ  58282870800   \n4816                      North Dakota State University     univ  57204969878   \n5001            University of Illinois Urbana-Champaign     univ   7404778848   \n5076                     University of Hawaiʻi at Mānoa     univ   7102104617   \n6462        Connecticut Agricultural Experiment Station     resi   7405246727   \n6522  Herbert Wertheim UF Scripps Institute for Biom...     resi  14069299700   \n6718     USDA Agricultural Research Service, Stoneville     resi  57195926345   \n6744                               Texas A&M University     univ  36247848600   \n6854                                    Rice University     univ  55909871900   \n8023                           West Virginia University     univ  13102554800   \n8177                              University of Houston     univ  56415419700   \n8707             Radcliffe Institute for Advanced Study     resi  14015606900   \n\n      gender  q  \n0     female  2  \n43      male  3  \n200   female  3  \n508     male  3  \n1516    male  3  \n1602  female  3  \n2027    male  3  \n3802    male  3  \n4786    male  3  \n4816    male  3  \n5001  female  3  \n5076    male  3  \n6462    male  3  \n6522    male  3  \n6718  female  3  \n6744    male  3  \n6854    male  3  \n8023    male  3  \n8177  female  3  \n8707    male  3  \n\n[20 rows x 29 columns]\n"
     ]
    }
   ],
   "source": [
    "xx = dummy.drop_duplicates(subset = ['post_id'])\n",
    "xx = xx.sort_values(by = ['post_id'])\n",
    "print(xx.head(20))"
   ]
  },
  {
   "cell_type": "markdown",
   "metadata": {
    "application/vnd.databricks.v1+cell": {
     "cellMetadata": {},
     "inputWidgets": {},
     "nuid": "5887ac27-9dc8-4561-9f77-b0a2b987349f",
     "showTitle": false,
     "title": ""
    }
   },
   "source": [
    "### Draft"
   ]
  },
  {
   "cell_type": "code",
   "execution_count": 0,
   "metadata": {
    "application/vnd.databricks.v1+cell": {
     "cellMetadata": {
      "byteLimit": 2048000,
      "rowLimit": 10000
     },
     "inputWidgets": {},
     "nuid": "7776a72c-8ab5-47a2-a89d-7b5538a141a4",
     "showTitle": false,
     "title": ""
    }
   },
   "outputs": [
    {
     "output_type": "stream",
     "name": "stdout",
     "output_type": "stream",
     "text": [
      "['female' 'male' 'F' 'M' 'm']\n['female' 'male' 'F' 'M' 'm']\n"
     ]
    }
   ],
   "source": [
    "print(merged['gender'].unique())\n",
    "print(merged['cor_gender'].unique())\n",
    "\n",
    "G1, G2 = [], []\n",
    "for ind in merged.index:\n",
    "    if merged['gender'][ind] == \"female\" or merged['gender'][ind] == \"F\":\n",
    "        G1.append(\"female\")\n",
    "    else:\n",
    "        G1.append(\"male\")\n",
    "\n",
    "    if merged['cor_gender'][ind] == \"female\" or merged['cor_gender'][ind] == \"F\":\n",
    "        G2.append(\"female\")\n",
    "    else:\n",
    "        G2.append(\"male\")\n",
    "merged['G1'] = G1\n",
    "merged['G2'] = G2"
   ]
  },
  {
   "cell_type": "code",
   "execution_count": 0,
   "metadata": {
    "application/vnd.databricks.v1+cell": {
     "cellMetadata": {
      "byteLimit": 2048000,
      "rowLimit": 10000
     },
     "inputWidgets": {},
     "nuid": "658ba297-8f76-4852-b22d-31451a7bb58a",
     "showTitle": false,
     "title": ""
    }
   },
   "outputs": [
    {
     "output_type": "stream",
     "name": "stdout",
     "output_type": "stream",
     "text": [
      "ohh no  male   female   10.1016/j.neuron.2018.01.016\nohh no  male   female   10.1016/j.neuron.2018.01.016\nohh no  male   female   10.1016/j.neuron.2018.01.016\nohh no  male   female   10.1016/j.neuron.2018.01.016\nohh no  male   female   10.1016/j.neuron.2018.01.016\nohh no  male   female   10.1016/j.neuron.2018.01.016\nohh no  male   female   10.1016/j.neuron.2018.01.016\nohh no  male   female   10.1016/j.neuron.2018.01.016\nohh no  male   female   10.1016/j.neuron.2018.01.016\nohh no  male   female   10.1016/j.neuron.2018.01.016\nohh no  male   female   10.1016/j.neuron.2018.01.016\nohh no  male   female   10.1016/j.neuron.2018.01.016\nohh no  male   female   10.1016/j.neuron.2018.01.016\nohh no  male   female   10.1016/j.neuron.2018.01.016\nohh no  male   female   10.1016/j.neuron.2018.01.016\nohh no  male   female   10.1016/j.neuron.2018.01.016\nohh no  male   female   10.1016/j.neuron.2018.01.016\nohh no  male   female   10.1016/j.neuron.2018.01.016\nohh no  male   female   10.1016/j.neuron.2018.01.016\nohh no  male   female   10.1016/j.neuron.2018.01.016\nohh no  male   female   10.1016/j.neuron.2018.01.016\nohh no  male   female   10.1016/j.neuron.2018.01.016\nohh no  male   female   10.1016/j.neuron.2018.01.016\nohh no  male   female   10.1016/j.neuron.2018.01.016\nohh no  male   female   10.1016/j.neuron.2018.01.016\nohh no  male   female   10.1016/j.neuron.2018.01.016\nohh no  male   female   10.1016/j.neuron.2018.01.016\nohh no  male   female   10.1016/j.neuron.2018.01.016\nohh no  male   female   10.1016/j.neuron.2018.01.016\nohh no  male   female   10.1016/j.neuron.2018.01.016\nohh no  male   female   10.1016/j.neuron.2018.01.016\nohh no  male   female   10.1016/j.neuron.2018.01.016\nohh no  male   female   10.1016/j.neuron.2018.01.016\nohh no  male   female   10.1016/j.neuron.2018.01.016\nohh no  male   female   10.1016/j.neuron.2018.01.016\nohh no  male   female   10.1016/j.neuron.2018.01.016\nohh no  male   female   10.1016/j.neuron.2018.01.016\nohh no  male   female   10.1016/j.neuron.2018.01.016\nohh no  male   female   10.1016/j.neuron.2018.01.016\nohh no  male   female   10.1016/j.neuron.2018.01.016\nohh no  male   female   10.1016/j.neuron.2018.01.016\nohh no  male   female   10.1016/j.neuron.2018.01.016\nohh no  male   female   10.1016/j.neuron.2018.01.016\nohh no  male   female   10.1016/j.neuron.2018.01.016\nohh no  male   female   10.1016/j.neuron.2018.01.016\nohh no  male   female   10.1016/j.neuron.2018.01.016\nohh no  male   female   10.1016/j.neuron.2018.01.016\nohh no  male   female   10.1016/j.neuron.2018.01.016\nohh no  male   female   10.1016/j.neuron.2018.01.016\nohh no  male   female   10.1016/j.neuron.2018.01.016\nohh no  male   female   10.1016/j.neuron.2018.01.016\nohh no  male   female   10.1016/j.neuron.2018.01.016\nohh no  male   female   10.1016/j.neuron.2018.01.016\nohh no  male   female   10.1016/j.neuron.2018.01.016\nohh no  male   female   10.1016/j.neuron.2018.01.016\nohh no  male   female   10.1016/j.neuron.2018.01.016\nohh no  male   female   10.1016/j.neuron.2018.01.016\nohh no  male   female   10.1016/j.neuron.2018.01.016\nohh no  male   female   10.1016/j.neuron.2018.01.016\nohh no  male   female   10.1016/j.neuron.2018.01.016\nohh no  male   female   10.1016/j.neuron.2018.01.016\nohh no  male   female   10.1016/j.neuron.2018.01.016\nohh no  male   female   10.1016/j.neuron.2018.01.016\nohh no  male   female   10.1016/j.neuron.2018.01.016\nohh no  male   female   10.1016/j.neuron.2018.01.016\nohh no  male   female   10.1016/j.neuron.2018.01.016\nohh no  male   female   10.1016/j.neuron.2018.01.016\nohh no  male   female   10.1016/j.neuron.2018.01.016\nohh no  male   female   10.1016/j.neuron.2018.01.016\nohh no  male   female   10.1016/j.neuron.2018.01.016\nohh no  male   female   10.1016/j.neuron.2018.01.016\nohh no  male   female   10.1016/j.neuron.2018.01.016\nohh no  male   female   10.1016/j.neuron.2018.01.016\nohh no  male   female   10.1016/j.neuron.2018.01.016\nohh no  male   female   10.1016/j.neuron.2018.01.016\nohh no  male   female   10.1016/j.neuron.2018.01.016\nohh no  male   female   10.1016/j.neuron.2018.01.016\nohh no  male   female   10.1016/j.neuron.2018.01.016\nohh no  male   female   10.1016/j.neuron.2018.01.016\nohh no  male   female   10.1016/j.neuron.2018.01.016\nohh no  male   female   10.1016/j.neuron.2018.01.016\nohh no  male   female   10.1016/j.neuron.2018.01.016\nohh no  male   female   10.1016/j.neuron.2018.01.016\nohh no  male   female   10.1016/j.neuron.2018.01.016\nohh no  male   female   10.1016/j.neuron.2018.01.016\nohh no  male   female   10.1016/j.neuron.2018.01.016\nohh no  male   female   10.1016/j.neuron.2018.01.016\nohh no  male   female   10.1016/j.neuron.2018.01.016\nohh no  male   female   10.1016/j.neuron.2018.01.016\nohh no  male   female   10.1016/j.neuron.2018.01.016\nohh no  male   female   10.1016/j.neuron.2018.01.016\nohh no  male   female   10.1016/j.neuron.2018.01.016\nohh no  male   female   10.1016/j.neuron.2018.01.016\nohh no  male   female   10.1016/j.neuron.2018.01.016\nohh no  male   female   10.1016/j.neuron.2018.01.016\nohh no  male   female   10.1016/j.neuron.2018.01.016\nohh no  male   female   10.1016/j.neuron.2018.01.016\nohh no  male   female   10.1016/j.neuron.2018.01.016\nohh no  male   female   10.1016/j.neuron.2018.01.016\nohh no  male   female   10.1016/j.neuron.2018.01.016\nohh no  male   female   10.1016/j.neuron.2018.01.016\nohh no  male   female   10.1016/j.neuron.2018.01.016\nohh no  male   female   10.1016/j.neuron.2018.01.016\nohh no  male   female   10.1016/j.neuron.2018.01.016\nohh no  male   female   10.1016/j.neuron.2018.01.016\nohh no  male   female   10.1016/j.neuron.2018.01.016\nohh no  male   female   10.1016/j.neuron.2018.01.016\nohh no  male   female   10.1016/j.neuron.2018.01.016\nohh no  male   female   10.1016/j.neuron.2018.01.016\nohh no  male   female   10.1016/j.neuron.2018.01.016\nohh no  male   female   10.1016/j.neuron.2018.01.016\nohh no  male   female   10.1016/j.neuron.2018.01.016\nohh no  male   female   10.1016/j.neuron.2018.01.016\nohh no  male   female   10.1016/j.neuron.2018.01.016\nohh no  male   female   10.1016/j.neuron.2018.01.016\nohh no  male   female   10.1016/j.neuron.2018.01.016\nohh no  male   female   10.1016/j.neuron.2018.01.016\nohh no  male   female   10.1016/j.neuron.2018.01.016\nohh no  male   female   10.1016/j.neuron.2018.01.016\nohh no  male   female   10.1016/j.neuron.2018.01.016\nohh no  male   female   10.1016/j.neuron.2018.01.016\nohh no  male   female   10.1016/j.neuron.2018.01.016\nohh no  male   female   10.1016/j.neuron.2018.01.016\nohh no  male   female   10.1016/j.neuron.2018.01.016\nohh no  male   female   10.1016/j.neuron.2018.01.016\nohh no  male   female   10.1016/j.neuron.2018.01.016\nohh no  male   female   10.1016/j.neuron.2018.01.016\nohh no  male   female   10.1016/j.neuron.2018.01.016\nohh no  male   female   10.1016/j.neuron.2018.01.016\nohh no  male   female   10.1016/j.neuron.2018.01.016\nohh no  male   female   10.1016/j.neuron.2018.01.016\nohh no  male   female   10.1016/j.neuron.2018.01.016\nohh no  male   female   10.1016/j.neuron.2018.01.016\nohh no  male   female   10.1016/j.neuron.2018.01.016\nohh no  male   female   10.1016/j.neuron.2018.01.016\nohh no  male   female   10.1016/j.neuron.2018.01.016\nohh no  male   female   10.1016/j.neuron.2018.01.016\nohh no  male   female   10.1016/j.neuron.2018.01.016\nohh no  male   female   10.1016/j.neuron.2018.01.016\nohh no  male   female   10.1016/j.neuron.2018.01.016\nohh no  male   female   10.1016/j.neuron.2018.01.016\nohh no  male   female   10.1016/j.neuron.2018.01.016\nohh no  male   female   10.1016/j.neuron.2018.01.016\nohh no  male   female   10.1016/j.neuron.2018.01.016\nohh no  male   female   10.1016/j.neuron.2018.01.016\nohh no  male   female   10.1016/j.neuron.2018.01.016\nohh no  male   female   10.1016/j.neuron.2018.01.016\nohh no  male   female   10.1016/j.neuron.2018.01.016\nohh no  male   female   10.1016/j.neuron.2018.01.016\nohh no  male   female   10.1016/j.neuron.2018.01.016\nohh no  male   female   10.1016/j.neuron.2018.01.016\nohh no  male   female   10.1016/j.neuron.2018.01.016\nohh no  male   female   10.1016/j.neuron.2018.01.016\nohh no  male   female   10.1016/j.neuron.2018.01.016\nohh no  male   female   10.1016/j.neuron.2018.01.016\nohh no  male   female   10.1016/j.neuron.2018.01.016\nohh no  male   female   10.1016/j.neuron.2018.01.016\nohh no  male   female   10.1016/j.neuron.2018.01.016\nohh no  male   female   10.1016/j.neuron.2018.01.016\nohh no  male   female   10.1016/j.neuron.2018.01.016\nohh no  male   female   10.1016/j.neuron.2018.01.016\nohh no  male   female   10.1016/j.neuron.2018.01.016\nohh no  male   female   10.1016/j.neuron.2018.01.016\nohh no  male   female   10.1016/j.neuron.2018.01.016\nohh no  male   female   10.1016/j.neuron.2018.01.016\nohh no  male   female   10.1016/j.neuron.2018.01.016\nohh no  male   female   10.1016/j.neuron.2018.01.016\nohh no  male   female   10.1016/j.neuron.2018.01.016\nohh no  male   female   10.1016/j.neuron.2018.01.016\nohh no  male   female   10.1016/j.neuron.2018.01.016\nohh no  male   female   10.1016/j.neuron.2018.01.016\nohh no  male   female   10.1016/j.neuron.2018.01.016\nohh no  male   female   10.1016/j.neuron.2018.01.016\nohh no  male   female   10.1016/j.neuron.2018.01.016\nohh no  male   female   10.1016/j.neuron.2018.01.016\nohh no  male   female   10.1016/j.neuron.2018.01.016\nohh no  male   female   10.1016/j.neuron.2018.01.016\nohh no  male   female   10.1016/j.neuron.2018.01.016\nohh no  male   female   10.1016/j.neuron.2018.01.016\nohh no  male   female   10.1016/j.neuron.2018.01.016\nohh no  male   female   10.1016/j.neuron.2018.01.016\nohh no  male   female   10.1016/j.neuron.2018.01.016\nohh no  male   female   10.1016/j.neuron.2018.01.016\nohh no  male   female   10.1016/j.neuron.2018.01.016\nohh no  male   female   10.1016/j.neuron.2018.01.016\nohh no  male   female   10.1016/j.neuron.2018.01.016\nohh no  male   female   10.1016/j.neuron.2018.01.016\nohh no  male   female   10.1016/j.neuron.2018.01.016\nohh no  male   female   10.1016/j.neuron.2018.01.016\nohh no  male   female   10.1016/j.neuron.2018.01.016\nohh no  male   female   10.1016/j.neuron.2018.01.016\nohh no  male   female   10.1016/j.neuron.2018.01.016\nohh no  male   female   10.1016/j.neuron.2018.01.016\nohh no  male   female   10.1016/j.neuron.2018.01.016\nohh no  male   female   10.1016/j.neuron.2018.01.016\nohh no  male   female   10.1016/j.neuron.2018.01.016\nohh no  male   female   10.1016/j.neuron.2018.01.016\nohh no  male   female   10.1016/j.neuron.2018.01.016\nohh no  male   female   10.1016/j.neuron.2018.01.016\nohh no  male   female   10.1016/j.neuron.2018.01.016\nohh no  male   female   10.1016/j.neuron.2018.01.016\nohh no  male   female   10.1016/j.neuron.2018.01.016\nohh no  male   female   10.1016/j.neuron.2018.01.016\nohh no  male   female   10.1016/j.neuron.2018.01.016\nohh no  male   female   10.1016/j.neuron.2018.01.016\nohh no  male   female   10.1016/j.neuron.2018.01.016\nohh no  male   female   10.1016/j.neuron.2018.01.016\nohh no  male   female   10.1016/j.neuron.2018.01.016\nohh no  male   female   10.1016/j.neuron.2018.01.016\nohh no  male   female   10.1016/j.neuron.2018.01.016\nohh no  male   female   10.1016/j.neuron.2018.01.016\nohh no  male   female   10.1016/j.neuron.2018.01.016\nohh no  male   female   10.1016/j.neuron.2018.01.016\nohh no  male   female   10.1016/j.neuron.2018.01.016\nohh no  male   female   10.1016/j.neuron.2018.01.016\nohh no  male   female   10.1016/j.neuron.2018.01.016\nohh no  male   female   10.1016/j.neuron.2018.01.016\nohh no  male   female   10.1016/j.neuron.2018.01.016\nohh no  male   female   10.1016/j.neuron.2018.01.016\nohh no  male   female   10.1016/j.neuron.2018.01.016\nohh no  male   female   10.1016/j.neuron.2018.01.016\nohh no  male   female   10.1016/j.neuron.2018.01.016\nohh no  male   female   10.1016/j.neuron.2018.01.016\nohh no  male   female   10.1016/j.neuron.2018.01.016\nohh no  male   female   10.1016/j.neuron.2018.01.016\nohh no  male   female   10.1016/j.neuron.2018.01.016\nohh no  male   female   10.1016/j.neuron.2018.01.016\nohh no  male   female   10.1016/j.neuron.2018.01.016\nohh no  male   female   10.1016/j.neuron.2018.01.016\nohh no  male   female   10.1016/j.neuron.2018.01.016\nohh no  male   female   10.1016/j.neuron.2018.01.016\nohh no  male   female   10.1016/j.neuron.2018.01.016\nohh no  male   female   10.1016/j.neuron.2018.01.016\nohh no  male   female   10.1016/j.neuron.2018.01.016\nohh no  male   female   10.1016/j.neuron.2018.01.016\nohh no  male   female   10.1016/j.neuron.2018.01.016\nohh no  male   female   10.1016/j.neuron.2018.01.016\nohh no  male   female   10.1016/j.neuron.2018.01.016\nohh no  male   female   10.1016/j.neuron.2018.01.016\nohh no  male   female   10.1016/j.neuron.2018.01.016\nohh no  male   female   10.1016/j.neuron.2018.01.016\nohh no  male   female   10.1016/j.neuron.2018.01.016\nohh no  male   female   10.1016/j.neuron.2018.01.016\nohh no  male   female   10.1016/j.neuron.2018.01.016\nohh no  male   female   10.1016/j.neuron.2018.01.016\nohh no  male   female   10.1016/j.neuron.2018.01.016\nohh no  male   female   10.1016/j.neuron.2018.01.016\nohh no  male   female   10.1016/j.neuron.2018.01.016\nohh no  male   female   10.1016/j.neuron.2018.01.016\nohh no  male   female   10.1016/j.neuron.2018.01.016\nohh no  male   female   10.1016/j.neuron.2018.01.016\nohh no  male   female   10.1016/j.neuron.2018.01.016\nohh no  male   female   10.1016/j.neuron.2018.01.016\nohh no  male   female   10.1016/j.neuron.2018.01.016\nohh no  male   female   10.1016/j.neuron.2018.01.016\nohh no  male   female   10.1016/j.neuron.2018.01.016\nohh no  male   female   10.1016/j.neuron.2018.01.016\nohh no  male   female   10.1016/j.neuron.2018.01.016\nohh no  male   female   10.1016/j.neuron.2018.01.016\nohh no  male   female   10.1016/j.neuron.2018.01.016\nohh no  male   female   10.1016/j.neuron.2018.01.016\nohh no  male   female   10.1016/j.neuron.2018.01.016\nohh no  male   female   10.1016/j.neuron.2018.01.016\nohh no  male   female   10.1016/j.neuron.2018.01.016\nohh no  male   female   10.1016/j.neuron.2018.01.016\nohh no  male   female   10.1016/j.neuron.2018.01.016\nohh no  male   female   10.1016/j.neuron.2018.01.016\nohh no  male   female   10.1016/j.neuron.2018.01.016\nohh no  male   female   10.1016/j.neuron.2018.01.016\nohh no  male   female   10.1016/j.neuron.2018.01.016\nohh no  male   female   10.1016/j.neuron.2018.01.016\nohh no  male   female   10.1016/j.neuron.2018.01.016\nohh no  male   female   10.1016/j.neuron.2018.01.016\nohh no  male   female   10.1016/j.neuron.2018.01.016\nohh no  male   female   10.1016/j.neuron.2018.01.016\nohh no  male   female   10.1016/j.neuron.2018.01.016\nohh no  male   female   10.1016/j.neuron.2018.01.016\nohh no  male   female   10.1016/j.neuron.2018.01.016\nohh no  male   female   10.1016/j.neuron.2018.01.016\nohh no  male   female   10.1016/j.neuron.2018.01.016\nohh no  male   female   10.1016/j.neuron.2018.01.016\nohh no  male   female   10.1016/j.neuron.2018.01.016\nohh no  male   female   10.1016/j.neuron.2018.01.016\nohh no  male   female   10.1016/j.neuron.2018.01.016\nohh no  male   female   10.1016/j.neuron.2018.01.016\nohh no  male   female   10.1016/j.neuron.2018.01.016\nohh no  male   female   10.1016/j.neuron.2018.01.016\nohh no  male   female   10.1016/j.neuron.2018.01.016\nohh no  male   female   10.1016/j.neuron.2018.01.016\nohh no  male   female   10.1016/j.neuron.2018.01.016\nohh no  male   female   10.1016/j.neuron.2018.01.016\nohh no  male   female   10.1016/j.neuron.2018.01.016\nohh no  male   female   10.1016/j.neuron.2018.01.016\nohh no  male   female   10.1016/j.neuron.2018.01.016\nohh no  male   female   10.1016/j.neuron.2018.01.016\nohh no  male   female   10.1016/j.neuron.2018.01.016\nohh no  male   female   10.1016/j.neuron.2018.01.016\nohh no  male   female   10.1016/j.neuron.2018.01.016\nohh no  male   female   10.1016/j.neuron.2018.01.016\nohh no  male   female   10.1016/j.neuron.2018.01.016\nohh no  male   female   10.1016/j.neuron.2018.01.016\nohh no  male   female   10.1016/j.neuron.2018.01.016\nohh no  male   female   10.1016/j.neuron.2018.01.016\nohh no  male   female   10.1016/j.neuron.2018.01.016\nohh no  male   female   10.1016/j.neuron.2018.01.016\nohh no  male   female   10.1016/j.neuron.2018.01.016\nohh no  male   female   10.1016/j.neuron.2018.01.016\nohh no  male   female   10.1016/j.neuron.2018.01.016\nohh no  male   female   10.1016/j.neuron.2018.01.016\nohh no  male   female   10.1016/j.neuron.2018.01.016\nohh no  male   female   10.1016/j.neuron.2018.01.016\nohh no  male   female   10.1016/j.neuron.2018.01.016\nohh no  male   female   10.1016/j.neuron.2018.01.016\nohh no  male   female   10.1016/j.neuron.2018.01.016\nohh no  male   female   10.1016/j.neuron.2018.01.016\nohh no  male   female   10.1016/j.neuron.2018.01.016\nohh no  male   female   10.1016/j.neuron.2018.01.016\nohh no  male   female   10.1016/j.neuron.2018.01.016\nohh no  male   female   10.1016/j.neuron.2018.01.016\nohh no  male   female   10.1016/j.neuron.2018.01.016\nohh no  male   female   10.1016/j.neuron.2018.01.016\nohh no  male   female   10.1016/j.neuron.2018.01.016\nohh no  male   female   10.1016/j.neuron.2018.01.016\nohh no  male   female   10.1016/j.neuron.2018.01.016\nohh no  male   female   10.1016/j.neuron.2018.01.016\nohh no  male   female   10.1016/j.neuron.2018.01.016\nohh no  male   female   10.1016/j.neuron.2018.01.016\nohh no  male   female   10.1016/j.neuron.2018.01.016\nohh no  male   female   10.1016/j.neuron.2018.01.016\nohh no  male   female   10.1016/j.neuron.2018.01.016\nohh no  male   female   10.1016/j.neuron.2018.01.016\nohh no  male   female   10.1016/j.neuron.2018.01.016\nohh no  male   female   10.1016/j.neuron.2018.01.016\nohh no  male   female   10.1016/j.neuron.2018.01.016\nohh no  male   female   10.1016/j.neuron.2018.01.016\nohh no  male   female   10.1016/j.neuron.2018.01.016\nohh no  male   female   10.1016/j.neuron.2018.01.016\nohh no  male   female   10.1016/j.neuron.2018.01.016\nohh no  male   female   10.1016/j.neuron.2018.01.016\nohh no  male   female   10.1016/j.neuron.2018.01.016\nohh no  male   female   10.1016/j.neuron.2018.01.016\nohh no  male   female   10.1016/j.neuron.2018.01.016\nohh no  male   female   10.1016/j.neuron.2018.01.016\nohh no  male   female   10.1016/j.neuron.2018.01.016\nohh no  male   female   10.1016/j.neuron.2018.01.016\nohh no  male   female   10.1016/j.neuron.2018.01.016\nohh no  male   female   10.1016/j.neuron.2018.01.016\nohh no  male   female   10.1016/j.neuron.2018.01.016\nohh no  male   female   10.1016/j.neuron.2018.01.016\nohh no  male   female   10.1016/j.neuron.2018.01.016\nohh no  male   female   10.1016/j.neuron.2018.01.016\nohh no  male   female   10.1016/j.neuron.2018.01.016\nohh no  male   female   10.1016/j.neuron.2018.01.016\nohh no  male   female   10.1016/j.neuron.2018.01.016\nohh no  male   female   10.1016/j.neuron.2018.01.016\nohh no  male   female   10.1016/j.neuron.2018.01.016\nohh no  male   female   10.1016/j.neuron.2018.01.016\nohh no  male   female   10.1016/j.neuron.2018.01.016\nohh no  male   female   10.1016/j.neuron.2018.01.016\nohh no  male   female   10.1016/j.neuron.2018.01.016\nohh no  male   female   10.1016/j.neuron.2018.01.016\nohh no  male   female   10.1016/j.neuron.2018.01.016\nohh no  male   female   10.1016/j.neuron.2018.01.016\nohh no  male   female   10.1016/j.neuron.2018.01.016\nohh no  male   female   10.1016/j.neuron.2018.01.016\nohh no  male   female   10.1016/j.neuron.2018.01.016\nohh no  male   female   10.1016/j.neuron.2018.01.016\nohh no  male   female   10.1016/j.neuron.2018.01.016\nohh no  male   female   10.1016/j.neuron.2018.01.016\nohh no  male   female   10.1016/j.neuron.2018.01.016\nohh no  male   female   10.1016/j.neuron.2018.01.016\nohh no  male   female   10.1016/j.neuron.2018.01.016\nohh no  male   female   10.1016/j.neuron.2018.01.016\nohh no  male   female   10.1016/j.neuron.2018.01.016\nohh no  male   female   10.1016/j.neuron.2018.01.016\nohh no  male   female   10.1016/j.neuron.2018.01.016\nohh no  male   female   10.1016/j.neuron.2018.01.016\nohh no  male   female   10.1016/j.neuron.2018.01.016\nohh no  male   female   10.1016/j.neuron.2018.01.016\nohh no  male   female   10.1016/j.neuron.2018.01.016\nohh no  male   female   10.1016/j.neuron.2018.01.016\nohh no  male   female   10.1016/j.neuron.2018.01.016\nohh no  male   female   10.1016/j.neuron.2018.01.016\nohh no  male   female   10.1016/j.neuron.2018.01.016\nohh no  male   female   10.1016/j.neuron.2018.01.016\nohh no  male   female   10.1016/j.neuron.2018.01.016\nohh no  male   female   10.1016/j.neuron.2018.01.016\nohh no  male   female   10.1016/j.neuron.2018.01.016\nohh no  male   female   10.1016/j.neuron.2018.01.016\nohh no  male   female   10.1016/j.neuron.2018.01.016\nohh no  male   female   10.1016/j.neuron.2018.01.016\nohh no  male   female   10.1016/j.neuron.2018.01.016\nohh no  male   female   10.1016/j.neuron.2018.01.016\nohh no  male   female   10.1016/j.neuron.2018.01.016\nohh no  male   female   10.1016/j.neuron.2018.01.016\nohh no  male   female   10.1016/j.neuron.2018.01.016\nohh no  male   female   10.1016/j.neuron.2018.01.016\nohh no  male   female   10.1016/j.neuron.2018.01.016\nohh no  male   female   10.1016/j.neuron.2018.01.016\nohh no  male   female   10.1016/j.neuron.2018.01.016\nohh no  male   female   10.1016/j.neuron.2018.01.016\nohh no  male   female   10.1016/j.neuron.2018.01.016\nohh no  male   female   10.1016/j.neuron.2018.01.016\nohh no  male   female   10.1016/j.neuron.2018.01.016\nohh no  male   female   10.1016/j.neuron.2018.01.016\nohh no  male   female   10.1016/j.neuron.2018.01.016\nohh no  male   female   10.1016/j.neuron.2018.01.016\nohh no  male   female   10.1016/j.neuron.2018.01.016\nohh no  male   female   10.1016/j.neuron.2018.01.016\nohh no  male   female   10.1016/j.neuron.2018.01.016\nohh no  male   female   10.1016/j.neuron.2018.01.016\nohh no  male   female   10.1016/j.neuron.2018.01.016\nohh no  male   female   10.1016/j.neuron.2018.01.016\nohh no  male   female   10.1016/j.neuron.2018.01.016\nohh no  male   female   10.1016/j.neuron.2018.01.016\nohh no  male   female   10.1016/j.neuron.2018.01.016\nohh no  male   female   10.1016/j.neuron.2018.01.016\nohh no  male   female   10.1016/j.neuron.2018.01.016\nohh no  male   female   10.1016/j.neuron.2018.01.016\nohh no  male   female   10.1016/j.neuron.2018.01.016\nohh no  male   female   10.1016/j.neuron.2018.01.016\nohh no  male   female   10.1016/j.neuron.2018.01.016\nohh no  male   female   10.1016/j.neuron.2018.01.016\nohh no  male   female   10.1016/j.neuron.2018.01.016\nohh no  male   female   10.1016/j.neuron.2018.01.016\nohh no  male   female   10.1016/j.neuron.2018.01.016\nohh no  male   female   10.1016/j.neuron.2018.01.016\nohh no  male   female   10.1016/j.neuron.2018.01.016\nohh no  male   female   10.1016/j.neuron.2018.01.016\nohh no  male   female   10.1016/j.neuron.2018.01.016\nohh no  male   female   10.1016/j.neuron.2018.01.016\nohh no  male   female   10.1016/j.neuron.2018.01.016\nohh no  male   female   10.1016/j.neuron.2018.01.016\nohh no  male   female   10.1016/j.neuron.2018.01.016\nohh no  male   female   10.1016/j.neuron.2018.01.016\nohh no  male   female   10.1016/j.neuron.2018.01.016\nohh no  male   female   10.1016/j.neuron.2018.01.016\nohh no  male   female   10.1016/j.neuron.2018.01.016\nohh no  male   female   10.1016/j.neuron.2018.01.016\nohh no  male   female   10.1016/j.neuron.2018.01.016\nohh no  male   female   10.1016/j.neuron.2018.01.016\nohh no  male   female   10.1016/j.neuron.2018.01.016\nohh no  male   female   10.1016/j.neuron.2018.01.016\nohh no  female   male   10.3390/cancers11040479\nohh no  female   male   10.3390/cancers11040479\nohh no  female   male   10.3390/cancers11040479\nohh no  female   male   10.3390/cancers11040479\nohh no  female   male   10.3390/cancers11040479\nohh no  female   male   10.3390/cancers11040479\nohh no  female   male   10.3390/cancers11040479\nohh no  female   male   10.3390/cancers11040479\nohh no  female   male   10.3390/cancers11040479\nohh no  female   male   10.3390/cancers11040479\nohh no  female   male   10.3390/cancers11040479\nohh no  female   male   10.3390/cancers11040479\nohh no  female   male   10.3390/cancers11040479\nohh no  female   male   10.3390/cancers11040479\nohh no  female   male   10.3390/cancers11040479\nohh no  female   male   10.3390/cancers11040479\n"
     ]
    }
   ],
   "source": [
    "for ind in merged.index:\n",
    "    if merged['G1'][ind] != merged['G2'][ind]:\n",
    "        print(\"ohh no \",merged['G1'][ind],\" \",merged['G2'][ind],\" \",merged['doi'][ind])"
   ]
  },
  {
   "cell_type": "code",
   "execution_count": 0,
   "metadata": {
    "application/vnd.databricks.v1+cell": {
     "cellMetadata": {
      "byteLimit": 2048000,
      "rowLimit": 10000
     },
     "inputWidgets": {},
     "nuid": "97424d90-0647-4645-bfe7-9a9ab9820ffb",
     "showTitle": false,
     "title": ""
    }
   },
   "outputs": [
    {
     "output_type": "stream",
     "name": "stdout",
     "output_type": "stream",
     "text": [
      "Out[9]: True"
     ]
    }
   ],
   "source": [
    "dbutils.fs.rm(\"dbfs:/FileStore/shared_uploads/arabi2@wisc.edu/jiaxin_pred_old_sh_1.csv\", recurse = True)"
   ]
  },
  {
   "cell_type": "code",
   "execution_count": 0,
   "metadata": {
    "application/vnd.databricks.v1+cell": {
     "cellMetadata": {
      "byteLimit": 2048000,
      "rowLimit": 10000
     },
     "inputWidgets": {},
     "nuid": "6a3269d1-3ad3-4680-8819-f7ca0c0108e1",
     "showTitle": false,
     "title": ""
    }
   },
   "outputs": [
    {
     "output_type": "display_data",
     "data": {
      "text/html": [
       "<div>\n",
       "<style scoped>\n",
       "    .dataframe tbody tr th:only-of-type {\n",
       "        vertical-align: middle;\n",
       "    }\n",
       "\n",
       "    .dataframe tbody tr th {\n",
       "        vertical-align: top;\n",
       "    }\n",
       "\n",
       "    .dataframe thead th {\n",
       "        text-align: right;\n",
       "    }\n",
       "</style>\n",
       "<table border=\"1\" class=\"dataframe\">\n",
       "  <thead>\n",
       "    <tr style=\"text-align: right;\">\n",
       "      <th></th>\n",
       "      <th>Domain_English</th>\n",
       "      <th>Field_English</th>\n",
       "      <th>SubField_English</th>\n",
       "      <th>srcid</th>\n",
       "      <th>openaccess_status</th>\n",
       "      <th>doi</th>\n",
       "      <th>news_cnt</th>\n",
       "      <th>year</th>\n",
       "      <th>issn</th>\n",
       "      <th>num_au</th>\n",
       "      <th>cor_gender</th>\n",
       "      <th>TopicId</th>\n",
       "      <th>Au1_gender</th>\n",
       "      <th>country_name</th>\n",
       "      <th>SJR</th>\n",
       "      <th>subfield_article</th>\n",
       "      <th>preferred_name</th>\n",
       "      <th>org_type</th>\n",
       "      <th>cor_au1</th>\n",
       "    </tr>\n",
       "  </thead>\n",
       "  <tbody>\n",
       "    <tr>\n",
       "      <th>505382</th>\n",
       "      <td>Health Sciences</td>\n",
       "      <td>Clinical Medicine</td>\n",
       "      <td>neurology &amp; neurosurgery</td>\n",
       "      <td>17978</td>\n",
       "      <td>NO</td>\n",
       "      <td>10.1016/j.neuron.2018.01.016</td>\n",
       "      <td>100</td>\n",
       "      <td>2018</td>\n",
       "      <td>08966273</td>\n",
       "      <td>13</td>\n",
       "      <td>female</td>\n",
       "      <td>3061</td>\n",
       "      <td>female</td>\n",
       "      <td>United States</td>\n",
       "      <td>11.377</td>\n",
       "      <td>neurology &amp; neurosurgery</td>\n",
       "      <td>Columbia University</td>\n",
       "      <td>univ</td>\n",
       "      <td>7005852886</td>\n",
       "    </tr>\n",
       "  </tbody>\n",
       "</table>\n",
       "</div>"
      ]
     },
     "metadata": {
      "application/vnd.databricks.v1+output": {
       "addedWidgets": {},
       "arguments": {},
       "data": "<div>\n<style scoped>\n    .dataframe tbody tr th:only-of-type {\n        vertical-align: middle;\n    }\n\n    .dataframe tbody tr th {\n        vertical-align: top;\n    }\n\n    .dataframe thead th {\n        text-align: right;\n    }\n</style>\n<table border=\"1\" class=\"dataframe\">\n  <thead>\n    <tr style=\"text-align: right;\">\n      <th></th>\n      <th>Domain_English</th>\n      <th>Field_English</th>\n      <th>SubField_English</th>\n      <th>srcid</th>\n      <th>openaccess_status</th>\n      <th>doi</th>\n      <th>news_cnt</th>\n      <th>year</th>\n      <th>issn</th>\n      <th>num_au</th>\n      <th>cor_gender</th>\n      <th>TopicId</th>\n      <th>Au1_gender</th>\n      <th>country_name</th>\n      <th>SJR</th>\n      <th>subfield_article</th>\n      <th>preferred_name</th>\n      <th>org_type</th>\n      <th>cor_au1</th>\n    </tr>\n  </thead>\n  <tbody>\n    <tr>\n      <th>505382</th>\n      <td>Health Sciences</td>\n      <td>Clinical Medicine</td>\n      <td>neurology &amp; neurosurgery</td>\n      <td>17978</td>\n      <td>NO</td>\n      <td>10.1016/j.neuron.2018.01.016</td>\n      <td>100</td>\n      <td>2018</td>\n      <td>08966273</td>\n      <td>13</td>\n      <td>female</td>\n      <td>3061</td>\n      <td>female</td>\n      <td>United States</td>\n      <td>11.377</td>\n      <td>neurology &amp; neurosurgery</td>\n      <td>Columbia University</td>\n      <td>univ</td>\n      <td>7005852886</td>\n    </tr>\n  </tbody>\n</table>\n</div>",
       "datasetInfos": [],
       "metadata": {},
       "removedWidgets": [],
       "textData": null,
       "type": "htmlSandbox"
      }
     },
     "output_type": "display_data"
    }
   ],
   "source": [
    "us[us['doi'] == \"10.1016/j.neuron.2018.01.016\"]"
   ]
  },
  {
   "cell_type": "code",
   "execution_count": 0,
   "metadata": {
    "application/vnd.databricks.v1+cell": {
     "cellMetadata": {
      "byteLimit": 2048000,
      "rowLimit": 10000
     },
     "inputWidgets": {},
     "nuid": "4c04d9fb-eff6-4028-92f6-e624652e0e85",
     "showTitle": false,
     "title": ""
    }
   },
   "outputs": [
    {
     "output_type": "display_data",
     "data": {
      "text/html": [
       "<div>\n",
       "<style scoped>\n",
       "    .dataframe tbody tr th:only-of-type {\n",
       "        vertical-align: middle;\n",
       "    }\n",
       "\n",
       "    .dataframe tbody tr th {\n",
       "        vertical-align: top;\n",
       "    }\n",
       "\n",
       "    .dataframe thead th {\n",
       "        text-align: right;\n",
       "    }\n",
       "</style>\n",
       "<table border=\"1\" class=\"dataframe\">\n",
       "  <thead>\n",
       "    <tr style=\"text-align: right;\">\n",
       "      <th></th>\n",
       "      <th>URL</th>\n",
       "      <th>doi</th>\n",
       "      <th>media</th>\n",
       "      <th>gender</th>\n",
       "      <th>word_count</th>\n",
       "      <th>sentence</th>\n",
       "      <th>sent_len</th>\n",
       "      <th>post_id</th>\n",
       "      <th>sent_pred</th>\n",
       "      <th>Domain_English</th>\n",
       "      <th>...</th>\n",
       "      <th>TopicId</th>\n",
       "      <th>Au1_gender</th>\n",
       "      <th>country_name</th>\n",
       "      <th>SJR</th>\n",
       "      <th>subfield_article</th>\n",
       "      <th>preferred_name</th>\n",
       "      <th>org_type</th>\n",
       "      <th>cor_au1</th>\n",
       "      <th>G1</th>\n",
       "      <th>G2</th>\n",
       "    </tr>\n",
       "  </thead>\n",
       "  <tbody>\n",
       "    <tr>\n",
       "      <th>447155</th>\n",
       "      <td>http://wunc.org/post/researchers-discover-anxi...</td>\n",
       "      <td>10.1016/j.neuron.2018.01.016</td>\n",
       "      <td>wunc</td>\n",
       "      <td>male</td>\n",
       "      <td>538</td>\n",
       "      <td>Scientists have found specialized brain cells ...</td>\n",
       "      <td>19</td>\n",
       "      <td>13394</td>\n",
       "      <td>[4.6267715]</td>\n",
       "      <td>Health Sciences</td>\n",
       "      <td>...</td>\n",
       "      <td>3061</td>\n",
       "      <td>female</td>\n",
       "      <td>United States</td>\n",
       "      <td>11.377</td>\n",
       "      <td>neurology &amp; neurosurgery</td>\n",
       "      <td>Columbia University</td>\n",
       "      <td>univ</td>\n",
       "      <td>7005852886</td>\n",
       "      <td>male</td>\n",
       "      <td>female</td>\n",
       "    </tr>\n",
       "    <tr>\n",
       "      <th>447156</th>\n",
       "      <td>http://wunc.org/post/researchers-discover-anxi...</td>\n",
       "      <td>10.1016/j.neuron.2018.01.016</td>\n",
       "      <td>wunc</td>\n",
       "      <td>male</td>\n",
       "      <td>538</td>\n",
       "      <td>The finding, reported Wednesday in the journal...</td>\n",
       "      <td>19</td>\n",
       "      <td>13394</td>\n",
       "      <td>[3.4165716]</td>\n",
       "      <td>Health Sciences</td>\n",
       "      <td>...</td>\n",
       "      <td>3061</td>\n",
       "      <td>female</td>\n",
       "      <td>United States</td>\n",
       "      <td>11.377</td>\n",
       "      <td>neurology &amp; neurosurgery</td>\n",
       "      <td>Columbia University</td>\n",
       "      <td>univ</td>\n",
       "      <td>7005852886</td>\n",
       "      <td>male</td>\n",
       "      <td>female</td>\n",
       "    </tr>\n",
       "    <tr>\n",
       "      <th>447157</th>\n",
       "      <td>http://wunc.org/post/researchers-discover-anxi...</td>\n",
       "      <td>10.1016/j.neuron.2018.01.016</td>\n",
       "      <td>wunc</td>\n",
       "      <td>male</td>\n",
       "      <td>538</td>\n",
       "      <td>But the research is at an early stage and lab ...</td>\n",
       "      <td>19</td>\n",
       "      <td>13394</td>\n",
       "      <td>[4.9972186]</td>\n",
       "      <td>Health Sciences</td>\n",
       "      <td>...</td>\n",
       "      <td>3061</td>\n",
       "      <td>female</td>\n",
       "      <td>United States</td>\n",
       "      <td>11.377</td>\n",
       "      <td>neurology &amp; neurosurgery</td>\n",
       "      <td>Columbia University</td>\n",
       "      <td>univ</td>\n",
       "      <td>7005852886</td>\n",
       "      <td>male</td>\n",
       "      <td>female</td>\n",
       "    </tr>\n",
       "    <tr>\n",
       "      <th>447158</th>\n",
       "      <td>http://wunc.org/post/researchers-discover-anxi...</td>\n",
       "      <td>10.1016/j.neuron.2018.01.016</td>\n",
       "      <td>wunc</td>\n",
       "      <td>male</td>\n",
       "      <td>538</td>\n",
       "      <td>The discovery of anxiety cells is just the lat...</td>\n",
       "      <td>19</td>\n",
       "      <td>13394</td>\n",
       "      <td>[4.825806]</td>\n",
       "      <td>Health Sciences</td>\n",
       "      <td>...</td>\n",
       "      <td>3061</td>\n",
       "      <td>female</td>\n",
       "      <td>United States</td>\n",
       "      <td>11.377</td>\n",
       "      <td>neurology &amp; neurosurgery</td>\n",
       "      <td>Columbia University</td>\n",
       "      <td>univ</td>\n",
       "      <td>7005852886</td>\n",
       "      <td>male</td>\n",
       "      <td>female</td>\n",
       "    </tr>\n",
       "    <tr>\n",
       "      <th>447159</th>\n",
       "      <td>http://wunc.org/post/researchers-discover-anxi...</td>\n",
       "      <td>10.1016/j.neuron.2018.01.016</td>\n",
       "      <td>wunc</td>\n",
       "      <td>male</td>\n",
       "      <td>538</td>\n",
       "      <td>Anxiety disorders involve excessive worry that...</td>\n",
       "      <td>19</td>\n",
       "      <td>13394</td>\n",
       "      <td>[4.953763]</td>\n",
       "      <td>Health Sciences</td>\n",
       "      <td>...</td>\n",
       "      <td>3061</td>\n",
       "      <td>female</td>\n",
       "      <td>United States</td>\n",
       "      <td>11.377</td>\n",
       "      <td>neurology &amp; neurosurgery</td>\n",
       "      <td>Columbia University</td>\n",
       "      <td>univ</td>\n",
       "      <td>7005852886</td>\n",
       "      <td>male</td>\n",
       "      <td>female</td>\n",
       "    </tr>\n",
       "    <tr>\n",
       "      <th>...</th>\n",
       "      <td>...</td>\n",
       "      <td>...</td>\n",
       "      <td>...</td>\n",
       "      <td>...</td>\n",
       "      <td>...</td>\n",
       "      <td>...</td>\n",
       "      <td>...</td>\n",
       "      <td>...</td>\n",
       "      <td>...</td>\n",
       "      <td>...</td>\n",
       "      <td>...</td>\n",
       "      <td>...</td>\n",
       "      <td>...</td>\n",
       "      <td>...</td>\n",
       "      <td>...</td>\n",
       "      <td>...</td>\n",
       "      <td>...</td>\n",
       "      <td>...</td>\n",
       "      <td>...</td>\n",
       "      <td>...</td>\n",
       "      <td>...</td>\n",
       "    </tr>\n",
       "    <tr>\n",
       "      <th>447593</th>\n",
       "      <td>http://krvs.org/post/researchers-discover-anxi...</td>\n",
       "      <td>10.1016/j.neuron.2018.01.016</td>\n",
       "      <td>radioacadie</td>\n",
       "      <td>male</td>\n",
       "      <td>538</td>\n",
       "      <td>But theres a lot more to anxiety than just the...</td>\n",
       "      <td>19</td>\n",
       "      <td>13419</td>\n",
       "      <td>[4.827466]</td>\n",
       "      <td>Health Sciences</td>\n",
       "      <td>...</td>\n",
       "      <td>3061</td>\n",
       "      <td>female</td>\n",
       "      <td>United States</td>\n",
       "      <td>11.377</td>\n",
       "      <td>neurology &amp; neurosurgery</td>\n",
       "      <td>Columbia University</td>\n",
       "      <td>univ</td>\n",
       "      <td>7005852886</td>\n",
       "      <td>male</td>\n",
       "      <td>female</td>\n",
       "    </tr>\n",
       "    <tr>\n",
       "      <th>447594</th>\n",
       "      <td>http://krvs.org/post/researchers-discover-anxi...</td>\n",
       "      <td>10.1016/j.neuron.2018.01.016</td>\n",
       "      <td>radioacadie</td>\n",
       "      <td>male</td>\n",
       "      <td>538</td>\n",
       "      <td>For example, the cells in the hippocampus comm...</td>\n",
       "      <td>19</td>\n",
       "      <td>13419</td>\n",
       "      <td>[4.9097705]</td>\n",
       "      <td>Health Sciences</td>\n",
       "      <td>...</td>\n",
       "      <td>3061</td>\n",
       "      <td>female</td>\n",
       "      <td>United States</td>\n",
       "      <td>11.377</td>\n",
       "      <td>neurology &amp; neurosurgery</td>\n",
       "      <td>Columbia University</td>\n",
       "      <td>univ</td>\n",
       "      <td>7005852886</td>\n",
       "      <td>male</td>\n",
       "      <td>female</td>\n",
       "    </tr>\n",
       "    <tr>\n",
       "      <th>447595</th>\n",
       "      <td>http://krvs.org/post/researchers-discover-anxi...</td>\n",
       "      <td>10.1016/j.neuron.2018.01.016</td>\n",
       "      <td>radioacadie</td>\n",
       "      <td>male</td>\n",
       "      <td>538</td>\n",
       "      <td>Kheirbek says other parts of the anxiety circu...</td>\n",
       "      <td>19</td>\n",
       "      <td>13419</td>\n",
       "      <td>[3.1219504]</td>\n",
       "      <td>Health Sciences</td>\n",
       "      <td>...</td>\n",
       "      <td>3061</td>\n",
       "      <td>female</td>\n",
       "      <td>United States</td>\n",
       "      <td>11.377</td>\n",
       "      <td>neurology &amp; neurosurgery</td>\n",
       "      <td>Columbia University</td>\n",
       "      <td>univ</td>\n",
       "      <td>7005852886</td>\n",
       "      <td>male</td>\n",
       "      <td>female</td>\n",
       "    </tr>\n",
       "    <tr>\n",
       "      <th>447596</th>\n",
       "      <td>http://krvs.org/post/researchers-discover-anxi...</td>\n",
       "      <td>10.1016/j.neuron.2018.01.016</td>\n",
       "      <td>radioacadie</td>\n",
       "      <td>male</td>\n",
       "      <td>538</td>\n",
       "      <td>In recent years, he says, scientists have been...</td>\n",
       "      <td>19</td>\n",
       "      <td>13419</td>\n",
       "      <td>[4.831283]</td>\n",
       "      <td>Health Sciences</td>\n",
       "      <td>...</td>\n",
       "      <td>3061</td>\n",
       "      <td>female</td>\n",
       "      <td>United States</td>\n",
       "      <td>11.377</td>\n",
       "      <td>neurology &amp; neurosurgery</td>\n",
       "      <td>Columbia University</td>\n",
       "      <td>univ</td>\n",
       "      <td>7005852886</td>\n",
       "      <td>male</td>\n",
       "      <td>female</td>\n",
       "    </tr>\n",
       "    <tr>\n",
       "      <th>447597</th>\n",
       "      <td>http://krvs.org/post/researchers-discover-anxi...</td>\n",
       "      <td>10.1016/j.neuron.2018.01.016</td>\n",
       "      <td>radioacadie</td>\n",
       "      <td>male</td>\n",
       "      <td>538</td>\n",
       "      <td>And they need to because anxiety disorders are...</td>\n",
       "      <td>19</td>\n",
       "      <td>13419</td>\n",
       "      <td>[4.9469395]</td>\n",
       "      <td>Health Sciences</td>\n",
       "      <td>...</td>\n",
       "      <td>3061</td>\n",
       "      <td>female</td>\n",
       "      <td>United States</td>\n",
       "      <td>11.377</td>\n",
       "      <td>neurology &amp; neurosurgery</td>\n",
       "      <td>Columbia University</td>\n",
       "      <td>univ</td>\n",
       "      <td>7005852886</td>\n",
       "      <td>male</td>\n",
       "      <td>female</td>\n",
       "    </tr>\n",
       "  </tbody>\n",
       "</table>\n",
       "<p>443 rows × 29 columns</p>\n",
       "</div>"
      ]
     },
     "metadata": {
      "application/vnd.databricks.v1+output": {
       "addedWidgets": {},
       "arguments": {},
       "data": "<div>\n<style scoped>\n    .dataframe tbody tr th:only-of-type {\n        vertical-align: middle;\n    }\n\n    .dataframe tbody tr th {\n        vertical-align: top;\n    }\n\n    .dataframe thead th {\n        text-align: right;\n    }\n</style>\n<table border=\"1\" class=\"dataframe\">\n  <thead>\n    <tr style=\"text-align: right;\">\n      <th></th>\n      <th>URL</th>\n      <th>doi</th>\n      <th>media</th>\n      <th>gender</th>\n      <th>word_count</th>\n      <th>sentence</th>\n      <th>sent_len</th>\n      <th>post_id</th>\n      <th>sent_pred</th>\n      <th>Domain_English</th>\n      <th>...</th>\n      <th>TopicId</th>\n      <th>Au1_gender</th>\n      <th>country_name</th>\n      <th>SJR</th>\n      <th>subfield_article</th>\n      <th>preferred_name</th>\n      <th>org_type</th>\n      <th>cor_au1</th>\n      <th>G1</th>\n      <th>G2</th>\n    </tr>\n  </thead>\n  <tbody>\n    <tr>\n      <th>447155</th>\n      <td>http://wunc.org/post/researchers-discover-anxi...</td>\n      <td>10.1016/j.neuron.2018.01.016</td>\n      <td>wunc</td>\n      <td>male</td>\n      <td>538</td>\n      <td>Scientists have found specialized brain cells ...</td>\n      <td>19</td>\n      <td>13394</td>\n      <td>[4.6267715]</td>\n      <td>Health Sciences</td>\n      <td>...</td>\n      <td>3061</td>\n      <td>female</td>\n      <td>United States</td>\n      <td>11.377</td>\n      <td>neurology &amp; neurosurgery</td>\n      <td>Columbia University</td>\n      <td>univ</td>\n      <td>7005852886</td>\n      <td>male</td>\n      <td>female</td>\n    </tr>\n    <tr>\n      <th>447156</th>\n      <td>http://wunc.org/post/researchers-discover-anxi...</td>\n      <td>10.1016/j.neuron.2018.01.016</td>\n      <td>wunc</td>\n      <td>male</td>\n      <td>538</td>\n      <td>The finding, reported Wednesday in the journal...</td>\n      <td>19</td>\n      <td>13394</td>\n      <td>[3.4165716]</td>\n      <td>Health Sciences</td>\n      <td>...</td>\n      <td>3061</td>\n      <td>female</td>\n      <td>United States</td>\n      <td>11.377</td>\n      <td>neurology &amp; neurosurgery</td>\n      <td>Columbia University</td>\n      <td>univ</td>\n      <td>7005852886</td>\n      <td>male</td>\n      <td>female</td>\n    </tr>\n    <tr>\n      <th>447157</th>\n      <td>http://wunc.org/post/researchers-discover-anxi...</td>\n      <td>10.1016/j.neuron.2018.01.016</td>\n      <td>wunc</td>\n      <td>male</td>\n      <td>538</td>\n      <td>But the research is at an early stage and lab ...</td>\n      <td>19</td>\n      <td>13394</td>\n      <td>[4.9972186]</td>\n      <td>Health Sciences</td>\n      <td>...</td>\n      <td>3061</td>\n      <td>female</td>\n      <td>United States</td>\n      <td>11.377</td>\n      <td>neurology &amp; neurosurgery</td>\n      <td>Columbia University</td>\n      <td>univ</td>\n      <td>7005852886</td>\n      <td>male</td>\n      <td>female</td>\n    </tr>\n    <tr>\n      <th>447158</th>\n      <td>http://wunc.org/post/researchers-discover-anxi...</td>\n      <td>10.1016/j.neuron.2018.01.016</td>\n      <td>wunc</td>\n      <td>male</td>\n      <td>538</td>\n      <td>The discovery of anxiety cells is just the lat...</td>\n      <td>19</td>\n      <td>13394</td>\n      <td>[4.825806]</td>\n      <td>Health Sciences</td>\n      <td>...</td>\n      <td>3061</td>\n      <td>female</td>\n      <td>United States</td>\n      <td>11.377</td>\n      <td>neurology &amp; neurosurgery</td>\n      <td>Columbia University</td>\n      <td>univ</td>\n      <td>7005852886</td>\n      <td>male</td>\n      <td>female</td>\n    </tr>\n    <tr>\n      <th>447159</th>\n      <td>http://wunc.org/post/researchers-discover-anxi...</td>\n      <td>10.1016/j.neuron.2018.01.016</td>\n      <td>wunc</td>\n      <td>male</td>\n      <td>538</td>\n      <td>Anxiety disorders involve excessive worry that...</td>\n      <td>19</td>\n      <td>13394</td>\n      <td>[4.953763]</td>\n      <td>Health Sciences</td>\n      <td>...</td>\n      <td>3061</td>\n      <td>female</td>\n      <td>United States</td>\n      <td>11.377</td>\n      <td>neurology &amp; neurosurgery</td>\n      <td>Columbia University</td>\n      <td>univ</td>\n      <td>7005852886</td>\n      <td>male</td>\n      <td>female</td>\n    </tr>\n    <tr>\n      <th>...</th>\n      <td>...</td>\n      <td>...</td>\n      <td>...</td>\n      <td>...</td>\n      <td>...</td>\n      <td>...</td>\n      <td>...</td>\n      <td>...</td>\n      <td>...</td>\n      <td>...</td>\n      <td>...</td>\n      <td>...</td>\n      <td>...</td>\n      <td>...</td>\n      <td>...</td>\n      <td>...</td>\n      <td>...</td>\n      <td>...</td>\n      <td>...</td>\n      <td>...</td>\n      <td>...</td>\n    </tr>\n    <tr>\n      <th>447593</th>\n      <td>http://krvs.org/post/researchers-discover-anxi...</td>\n      <td>10.1016/j.neuron.2018.01.016</td>\n      <td>radioacadie</td>\n      <td>male</td>\n      <td>538</td>\n      <td>But theres a lot more to anxiety than just the...</td>\n      <td>19</td>\n      <td>13419</td>\n      <td>[4.827466]</td>\n      <td>Health Sciences</td>\n      <td>...</td>\n      <td>3061</td>\n      <td>female</td>\n      <td>United States</td>\n      <td>11.377</td>\n      <td>neurology &amp; neurosurgery</td>\n      <td>Columbia University</td>\n      <td>univ</td>\n      <td>7005852886</td>\n      <td>male</td>\n      <td>female</td>\n    </tr>\n    <tr>\n      <th>447594</th>\n      <td>http://krvs.org/post/researchers-discover-anxi...</td>\n      <td>10.1016/j.neuron.2018.01.016</td>\n      <td>radioacadie</td>\n      <td>male</td>\n      <td>538</td>\n      <td>For example, the cells in the hippocampus comm...</td>\n      <td>19</td>\n      <td>13419</td>\n      <td>[4.9097705]</td>\n      <td>Health Sciences</td>\n      <td>...</td>\n      <td>3061</td>\n      <td>female</td>\n      <td>United States</td>\n      <td>11.377</td>\n      <td>neurology &amp; neurosurgery</td>\n      <td>Columbia University</td>\n      <td>univ</td>\n      <td>7005852886</td>\n      <td>male</td>\n      <td>female</td>\n    </tr>\n    <tr>\n      <th>447595</th>\n      <td>http://krvs.org/post/researchers-discover-anxi...</td>\n      <td>10.1016/j.neuron.2018.01.016</td>\n      <td>radioacadie</td>\n      <td>male</td>\n      <td>538</td>\n      <td>Kheirbek says other parts of the anxiety circu...</td>\n      <td>19</td>\n      <td>13419</td>\n      <td>[3.1219504]</td>\n      <td>Health Sciences</td>\n      <td>...</td>\n      <td>3061</td>\n      <td>female</td>\n      <td>United States</td>\n      <td>11.377</td>\n      <td>neurology &amp; neurosurgery</td>\n      <td>Columbia University</td>\n      <td>univ</td>\n      <td>7005852886</td>\n      <td>male</td>\n      <td>female</td>\n    </tr>\n    <tr>\n      <th>447596</th>\n      <td>http://krvs.org/post/researchers-discover-anxi...</td>\n      <td>10.1016/j.neuron.2018.01.016</td>\n      <td>radioacadie</td>\n      <td>male</td>\n      <td>538</td>\n      <td>In recent years, he says, scientists have been...</td>\n      <td>19</td>\n      <td>13419</td>\n      <td>[4.831283]</td>\n      <td>Health Sciences</td>\n      <td>...</td>\n      <td>3061</td>\n      <td>female</td>\n      <td>United States</td>\n      <td>11.377</td>\n      <td>neurology &amp; neurosurgery</td>\n      <td>Columbia University</td>\n      <td>univ</td>\n      <td>7005852886</td>\n      <td>male</td>\n      <td>female</td>\n    </tr>\n    <tr>\n      <th>447597</th>\n      <td>http://krvs.org/post/researchers-discover-anxi...</td>\n      <td>10.1016/j.neuron.2018.01.016</td>\n      <td>radioacadie</td>\n      <td>male</td>\n      <td>538</td>\n      <td>And they need to because anxiety disorders are...</td>\n      <td>19</td>\n      <td>13419</td>\n      <td>[4.9469395]</td>\n      <td>Health Sciences</td>\n      <td>...</td>\n      <td>3061</td>\n      <td>female</td>\n      <td>United States</td>\n      <td>11.377</td>\n      <td>neurology &amp; neurosurgery</td>\n      <td>Columbia University</td>\n      <td>univ</td>\n      <td>7005852886</td>\n      <td>male</td>\n      <td>female</td>\n    </tr>\n  </tbody>\n</table>\n<p>443 rows × 29 columns</p>\n</div>",
       "datasetInfos": [],
       "metadata": {},
       "removedWidgets": [],
       "textData": null,
       "type": "htmlSandbox"
      }
     },
     "output_type": "display_data"
    }
   ],
   "source": [
    "merged[merged['doi'] == \"10.1016/j.neuron.2018.01.016\"]"
   ]
  },
  {
   "cell_type": "code",
   "execution_count": 0,
   "metadata": {
    "application/vnd.databricks.v1+cell": {
     "cellMetadata": {
      "byteLimit": 2048000,
      "rowLimit": 10000
     },
     "inputWidgets": {},
     "nuid": "ec9c76ae-ff52-417e-9da3-9ef99fad9b71",
     "showTitle": false,
     "title": ""
    }
   },
   "outputs": [
    {
     "output_type": "stream",
     "name": "stdout",
     "output_type": "stream",
     "text": [
      "Out[27]: 1"
     ]
    }
   ],
   "source": [
    "merged['news_cnt'].min()"
   ]
  }
 ],
 "metadata": {
  "application/vnd.databricks.v1+notebook": {
   "dashboards": [],
   "language": "python",
   "notebookMetadata": {
    "pythonIndentUnit": 4
   },
   "notebookName": "uncertainty_analysis",
   "widgets": {}
  }
 },
 "nbformat": 4,
 "nbformat_minor": 0
}
