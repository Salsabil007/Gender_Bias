{
 "cells": [
  {
   "cell_type": "code",
   "execution_count": 0,
   "metadata": {
    "application/vnd.databricks.v1+cell": {
     "cellMetadata": {
      "byteLimit": 2048000,
      "rowLimit": 10000
     },
     "inputWidgets": {},
     "nuid": "ce8aabdd-1ef4-49de-867a-f66f8eecae50",
     "showTitle": false,
     "title": ""
    }
   },
   "outputs": [],
   "source": [
    "project_name = 'test_project_1'\n",
    "#permissions='default'\n",
    "permissions='fulldata'"
   ]
  },
  {
   "cell_type": "code",
   "execution_count": 0,
   "metadata": {
    "application/vnd.databricks.v1+cell": {
     "cellMetadata": {
      "byteLimit": 2048000,
      "rowLimit": 10000
     },
     "inputWidgets": {},
     "nuid": "d9170db1-a510-4d66-bf1c-5ed5b9fedd49",
     "showTitle": false,
     "title": ""
    }
   },
   "outputs": [
    {
     "output_type": "stream",
     "name": "stdout",
     "output_type": "stream",
     "text": [
      "PROJECT DETAILS:\nProject identifier: test_project_1\nCluster data access level: fulldata\n"
     ]
    },
    {
     "output_type": "stream",
     "name": "stdout",
     "output_type": "stream",
     "text": [
      "EXECUTION DETAILS:\nSpark version: 11.3.x-scala2.12, \nCluster Node Type: i3.xlarge, \nDriver Node Type: c4.2xlarge, \nWorker Node Type: i3.xlarge\n"
     ]
    }
   ],
   "source": [
    "%run /Snippets/header_008"
   ]
  },
  {
   "cell_type": "code",
   "execution_count": 0,
   "metadata": {
    "application/vnd.databricks.v1+cell": {
     "cellMetadata": {
      "byteLimit": 2048000,
      "rowLimit": 10000
     },
     "inputWidgets": {},
     "nuid": "a5121f84-3b90-4055-85be-383aaf90624b",
     "showTitle": false,
     "title": ""
    }
   },
   "outputs": [
    {
     "output_type": "stream",
     "name": "stdout",
     "output_type": "stream",
     "text": [
      "Python interpreter will be restarted.\nRequirement already satisfied: markupsafe==2.0.1 in /databricks/python3/lib/python3.9/site-packages (2.0.1)\nPython interpreter will be restarted.\nPython interpreter will be restarted.\nRequirement already satisfied: rpy2 in /local_disk0/.ephemeral_nfs/envs/pythonEnv-64cc8c1d-b1af-4989-a52a-af9ab5fd7417/lib/python3.9/site-packages (3.5.5)\nRequirement already satisfied: pytz in /databricks/python3/lib/python3.9/site-packages (from rpy2) (2021.3)\nRequirement already satisfied: jinja2 in /databricks/python3/lib/python3.9/site-packages (from rpy2) (2.11.3)\nRequirement already satisfied: cffi>=1.10.0 in /databricks/python3/lib/python3.9/site-packages (from rpy2) (1.14.6)\nRequirement already satisfied: tzlocal in /local_disk0/.ephemeral_nfs/envs/pythonEnv-64cc8c1d-b1af-4989-a52a-af9ab5fd7417/lib/python3.9/site-packages (from rpy2) (5.2)\nRequirement already satisfied: pycparser in /databricks/python3/lib/python3.9/site-packages (from cffi>=1.10.0->rpy2) (2.20)\nRequirement already satisfied: MarkupSafe>=0.23 in /databricks/python3/lib/python3.9/site-packages (from jinja2->rpy2) (2.0.1)\nPython interpreter will be restarted.\n"
     ]
    },
    {
     "output_type": "stream",
     "name": "stdout",
     "output_type": "stream",
     "text": [
      "DATA SNAPSHOT DETAILS:\nThis notebook uses the latest snapshot date for this version: \"v008.20231003094404/\", (03 October 2023)\n\n The following are the Scopus snapshot dates available for datasets at v008:\n['v008.20220314092239/', 'v008.20220906063204/', 'v008.20221021151538/', 'v008.20230509104116/', 'v008.20230821105000/', 'v008.20231003094404/']\n(If you want to use a different snapshot, in the first cell of your notebook, set the variable `custom_snapshot_date` to one of the options listed above (string data type))\n\n"
     ]
    },
    {
     "output_type": "stream",
     "name": "stdout",
     "output_type": "stream",
     "text": [
      "DATA SAMPLE DETAILS:\nSetting paths to run on full datasets (100% Scopus publication volume)\n"
     ]
    }
   ],
   "source": [
    "%pip install markupsafe==2.0.1\n",
    "%pip install rpy2"
   ]
  },
  {
   "cell_type": "code",
   "execution_count": 0,
   "metadata": {
    "application/vnd.databricks.v1+cell": {
     "cellMetadata": {
      "byteLimit": 2048000,
      "rowLimit": 10000
     },
     "inputWidgets": {},
     "nuid": "987c413f-80f8-442a-984e-10855dcc7446",
     "showTitle": false,
     "title": ""
    }
   },
   "outputs": [
    {
     "output_type": "display_data",
     "data": {
      "text/html": [
       "<style scoped>\n",
       "  .ansiout {\n",
       "    display: block;\n",
       "    unicode-bidi: embed;\n",
       "    white-space: pre-wrap;\n",
       "    word-wrap: break-word;\n",
       "    word-break: break-all;\n",
       "    font-family: \"Menlo\", \"Monaco\", \"Consolas\", \"Ubuntu Mono\", \"Source Code Pro\", monospace;\n",
       "    font-size: 13px;\n",
       "    color: #555;\n",
       "    margin-left: 4px;\n",
       "    line-height: 19px;\n",
       "  }\n",
       "</style>"
      ]
     },
     "metadata": {
      "application/vnd.databricks.v1+output": {
       "arguments": {},
       "data": "",
       "errorSummary": "Cancelled",
       "errorTraceType": "html",
       "metadata": {},
       "type": "ipynbError"
      }
     },
     "output_type": "display_data"
    }
   ],
   "source": [
    "import pandas as pd\n",
    "import pyspark.sql.functions as F\n",
    "\n",
    "def map_udf(list_of_numbers):\n",
    "    return [x for x in list_of_numbers if x is not None]\n",
    "    #a = [x for x in list_of_numbers if x is not None]\n",
    "    #return sum(a)/len(a)\n",
    "\n",
    "udf_map = F.udf(map_udf, ArrayType(FloatType()))\n",
    "\n",
    "def mean_udf(list_of_numbers):\n",
    "    if len(list_of_numbers) == 0:\n",
    "        return 0.0\n",
    "    return sum(list_of_numbers) / len(list_of_numbers)\n",
    "\n",
    "udf_mean = F.udf(mean_udf, FloatType())\n",
    "\n",
    "df_sources = spark.read.format(\"parquet\").load(basePath+tablename_sources)\n",
    "display(df_sources.count(),\"\\n\")\n",
    "\n",
    "data = df_sources.withColumn('SJR_lst', F.col('metrics_calculations').getItem('SJR'))\n",
    "data = data.withColumn('year_SJR', F.col('metrics_calculations').getItem('year'))\n",
    "data = data.withColumn(\"list_of_numbers\", udf_map(F.col(\"SJR_lst\")))\n",
    "#data = data.withColumn(\"mean_of_numbers\", udf_mean(F.col(\"list_of_numbers\")))\n",
    "data = data.withColumn('mean_of_numbers', F.element_at(data['list_of_numbers'], -1))\n",
    "\n",
    "\n",
    "display(data.limit(5))\n"
   ]
  },
  {
   "cell_type": "code",
   "execution_count": 0,
   "metadata": {
    "application/vnd.databricks.v1+cell": {
     "cellMetadata": {
      "byteLimit": 2048000,
      "rowLimit": 10000
     },
     "inputWidgets": {},
     "nuid": "71c8d78d-c4e5-4563-b9a6-cfb2642f9dc2",
     "showTitle": false,
     "title": ""
    }
   },
   "outputs": [
    {
     "output_type": "display_data",
     "data": {
      "text/html": [
       "<style scoped>\n",
       "  .ansiout {\n",
       "    display: block;\n",
       "    unicode-bidi: embed;\n",
       "    white-space: pre-wrap;\n",
       "    word-wrap: break-word;\n",
       "    word-break: break-all;\n",
       "    font-family: \"Menlo\", \"Monaco\", \"Consolas\", \"Ubuntu Mono\", \"Source Code Pro\", monospace;\n",
       "    font-size: 13px;\n",
       "    color: #555;\n",
       "    margin-left: 4px;\n",
       "    line-height: 19px;\n",
       "  }\n",
       "</style>"
      ]
     },
     "metadata": {
      "application/vnd.databricks.v1+output": {
       "arguments": {},
       "data": "",
       "errorSummary": "Cancelled",
       "errorTraceType": "html",
       "metadata": {},
       "type": "ipynbError"
      }
     },
     "output_type": "display_data"
    }
   ],
   "source": [
    "dd = data.select('mean_of_numbers','SJR_lst','srcid').toPandas()\n",
    "q1 = dd['mean_of_numbers'].quantile(0.25)\n",
    "q2 = dd['mean_of_numbers'].quantile(0.50)\n",
    "q3 = dd['mean_of_numbers'].quantile(0.75)\n",
    "print(q1,\" \",q2,\" \",q3)\n",
    "#print(dd['srcid'].nunique())"
   ]
  },
  {
   "cell_type": "code",
   "execution_count": 0,
   "metadata": {
    "application/vnd.databricks.v1+cell": {
     "cellMetadata": {
      "byteLimit": 2048000,
      "rowLimit": 10000
     },
     "inputWidgets": {},
     "nuid": "342ef3ba-cb36-4de2-b92e-59992e09d5f8",
     "showTitle": false,
     "title": ""
    }
   },
   "outputs": [
    {
     "output_type": "display_data",
     "data": {
      "text/html": [
       "<style scoped>\n",
       "  .ansiout {\n",
       "    display: block;\n",
       "    unicode-bidi: embed;\n",
       "    white-space: pre-wrap;\n",
       "    word-wrap: break-word;\n",
       "    word-break: break-all;\n",
       "    font-family: \"Menlo\", \"Monaco\", \"Consolas\", \"Ubuntu Mono\", \"Source Code Pro\", monospace;\n",
       "    font-size: 13px;\n",
       "    color: #555;\n",
       "    margin-left: 4px;\n",
       "    line-height: 19px;\n",
       "  }\n",
       "</style>"
      ]
     },
     "metadata": {
      "application/vnd.databricks.v1+output": {
       "arguments": {},
       "data": "",
       "errorSummary": "Cancelled",
       "errorTraceType": "html",
       "metadata": {},
       "type": "ipynbError"
      }
     },
     "output_type": "display_data"
    }
   ],
   "source": [
    "print(len(dd))\n",
    "print(dd['srcid'].nunique())"
   ]
  },
  {
   "cell_type": "code",
   "execution_count": 0,
   "metadata": {
    "application/vnd.databricks.v1+cell": {
     "cellMetadata": {
      "byteLimit": 2048000,
      "rowLimit": 10000
     },
     "inputWidgets": {},
     "nuid": "5fc9b801-ed1e-4f32-a059-d1b9aaecc50e",
     "showTitle": false,
     "title": ""
    }
   },
   "outputs": [
    {
     "output_type": "display_data",
     "data": {
      "text/html": [
       "<style scoped>\n",
       "  .ansiout {\n",
       "    display: block;\n",
       "    unicode-bidi: embed;\n",
       "    white-space: pre-wrap;\n",
       "    word-wrap: break-word;\n",
       "    word-break: break-all;\n",
       "    font-family: \"Menlo\", \"Monaco\", \"Consolas\", \"Ubuntu Mono\", \"Source Code Pro\", monospace;\n",
       "    font-size: 13px;\n",
       "    color: #555;\n",
       "    margin-left: 4px;\n",
       "    line-height: 19px;\n",
       "  }\n",
       "</style>"
      ]
     },
     "metadata": {
      "application/vnd.databricks.v1+output": {
       "arguments": {},
       "data": "",
       "errorSummary": "Cancelled",
       "errorTraceType": "html",
       "metadata": {},
       "type": "ipynbError"
      }
     },
     "output_type": "display_data"
    }
   ],
   "source": [
    "total = pd.read_csv(\"/dbfs/FileStore/shared_uploads/arabi2@wisc.edu/us.csv\")\n",
    "q1 = total['SJR'].quantile(0.25)\n",
    "q2 = total['SJR'].quantile(0.50)\n",
    "q3 = total['SJR'].quantile(0.75)\n",
    "print(q1,\" \",q2,\" \",q3)"
   ]
  },
  {
   "cell_type": "markdown",
   "metadata": {
    "application/vnd.databricks.v1+cell": {
     "cellMetadata": {},
     "inputWidgets": {},
     "nuid": "2bd80297-fb23-4ed8-953c-08ba7c28933a",
     "showTitle": false,
     "title": ""
    }
   },
   "source": [
    "### This is the journal quantile find criteria"
   ]
  },
  {
   "cell_type": "code",
   "execution_count": 0,
   "metadata": {
    "application/vnd.databricks.v1+cell": {
     "cellMetadata": {
      "byteLimit": 2048000,
      "rowLimit": 10000
     },
     "inputWidgets": {},
     "nuid": "ce5196fb-8d93-40fa-ab03-ddbe40591b75",
     "showTitle": false,
     "title": ""
    }
   },
   "outputs": [
    {
     "output_type": "display_data",
     "data": {
      "application/vnd.databricks.v1+bamboolib_hint": "{\"pd.DataFrames\": [], \"version\": \"0.0.1\"}",
      "text/plain": []
     },
     "metadata": {},
     "output_type": "display_data"
    },
    {
     "output_type": "stream",
     "name": "stdout",
     "output_type": "stream",
     "text": [
      "16102439'\\n'"
     ]
    },
    {
     "output_type": "display_data",
     "data": {
      "text/html": [
       "<style scoped>\n",
       "  .table-result-container {\n",
       "    max-height: 300px;\n",
       "    overflow: auto;\n",
       "  }\n",
       "  table, th, td {\n",
       "    border: 1px solid black;\n",
       "    border-collapse: collapse;\n",
       "  }\n",
       "  th, td {\n",
       "    padding: 5px;\n",
       "  }\n",
       "  th {\n",
       "    text-align: left;\n",
       "  }\n",
       "</style><div class='table-result-container'><table class='table-result'><thead style='background-color: white'><tr><th>srcid</th><th>metrics_calculations</th></tr></thead><tbody><tr><td>12029</td><td>List(List(null, null, 142.0, 130.0, null, 16, 0.0, Complete, 1996, 0, 1), List(null, null, 165.0, 159.0, null, 17, 0.0, Complete, 1997, 1, 1), List(null, null, 173.0, 166.0, null, 28, 10.71, Complete, 1998, 1, 2), List(0.767, 1.512, 174.0, 163.0, null, 29, 3.45, Complete, 1999, 1, 1), List(0.599, 1.656, 282.0, 268.0, null, 35, 5.71, Complete, 2000, 1, 1), List(0.626, 0.956, 332.0, 312.0, null, 31, 0.0, Complete, 2001, 0, 1), List(0.789, 0.899, 348.0, 340.0, null, 29, 24.14, Complete, 2002, 1, 1), List(0.813, 0.968, 465.0, 458.0, null, 36, 52.78, Complete, 2003, 2, 2), List(0.829, 1.141, 619.0, 597.0, null, 33, 48.48, Complete, 2004, 0, 0), List(0.724, 1.142, 749.0, 727.0, null, 36, 27.78, Complete, 2005, 2, 2), List(0.957, 1.638, 884.0, 845.0, null, 30, 16.67, Complete, 2006, 0, 0), List(1.113, 1.801, 1043.0, 1020.0, null, 44, 40.91, Complete, 2007, 2, 2), List(0.952, 1.255, 1472.0, 1422.0, null, 50, 24.0, Complete, 2008, 0, 0), List(0.871, 1.312, 1635.0, 1619.0, null, 35, 22.86, Complete, 2009, 0, 0), List(0.889, 1.85, 2056.0, 2012.0, null, 31, 0.0, Complete, 2010, 0, 0), List(1.325, 2.177, 2351.0, 2324.0, List(List(840, 6.1, 75, 137, List(List(1201, List(264, 13), 95), List(3202, List(174, 9), 95), List(3204, List(246, 18), 92)))), 30, 0.0, Complete, 2011, 1, 1), List(1.481, 1.703, 2905.0, 2893.0, List(List(468, 3.7, 73, 126, List(List(3202, List(185, 31), 83), List(1201, List(266, 56), 79), List(3204, List(261, 61), 76)))), 34, 0.0, Complete, 2012, 1, 1), List(1.571, 1.625, 3072.0, 3009.0, List(List(461, 3.8, 78, 120, List(List(1201, List(267, 49), 81), List(3202, List(186, 36), 80), List(3204, List(267, 64), 76)))), 29, 0.0, Complete, 2013, 0, 0), List(1.51, 1.926, 3423.0, 3350.0, List(List(544, 4.9, 79, 112, List(List(3202, List(191, 20), 89), List(1201, List(267, 32), 88), List(3204, List(271, 38), 86)))), 29, 0.0, Complete, 2014, 0, 0), List(1.02, 1.451, 3736.0, 3686.0, List(List(521, 5.0, 78, 105, List(List(1201, List(267, 32), 88), List(3202, List(195, 25), 87), List(3204, List(276, 40), 85)))), 28, 0.0, Complete, 2015, 1, 1), List(1.228, 1.342, 3948.0, 3894.0, List(List(441, 4.2, 86, 105, List(List(1201, List(250, 37), 85), List(3204, List(276, 56), 79), List(3202, List(200, 43), 78)))), 26, 0.0, Complete, 2016, 1, 1), List(1.406, 1.394, 4220.0, 4201.0, List(List(509, 5.0, 84, 101, List(List(1201, List(259, 22), 91), List(3204, List(290, 38), 87), List(3202, List(215, 34), 84)))), 25, 4.0, Complete, 2017, 0, 0), List(1.958, 1.803, 4467.0, 4446.0, List(List(599, 5.7, 76, 106, List(List(1201, List(283, 16), 94), List(3204, List(314, 27), 91), List(3202, List(221, 25), 88)))), 28, 0.0, Complete, 2018, 0, 0), List(1.457, 1.711, 4772.0, 4740.0, List(List(690, 6.4, 81, 108, List(List(1201, List(295, 12), 96), List(3204, List(327, 19), 94), List(3202, List(227, 21), 90)))), 26, 7.69, Complete, 2019, 0, 0), List(1.497, 1.899, 5257.0, 5156.0, List(List(669, 5.3, 87, 127, List(List(1201, List(306, 22), 92), List(3204, List(332, 41), 87), List(3202, List(227, 36), 84)))), 61, 9.84, Complete, 2020, 4, 5), List(1.59, 1.806, 5932.0, 5816.0, List(List(1029, 6.1, 87, 168, List(List(1201, List(376, 21), 94), List(3204, List(341, 33), 90), List(3202, List(230, 37), 84)))), 72, 4.17, Complete, 2021, 1, 1), List(2.279, 2.787, 7354.0, 7212.0, List(List(2002, 9.9, 90, 202, List(List(1201, List(440, 11), 97), List(3204, List(343, 17), 95), List(3202, List(241, 23), 90)))), 83, 10.84, Complete, 2022, 19, 21), List(null, null, 5771.0, 5649.0, List(List(2596, 11.6, 89, 224, List(List(1201, List(440, 5), 98), List(3204, List(343, 10), 97), List(3202, List(241, 14), 94)))), 90, 4.44, In-Progress, 2023, 42, 46))</td></tr><tr><td>12037</td><td>List(List(null, null, 70.0, 70.0, null, 61, 0.0, Complete, 1996, 23, 23), List(null, null, 76.0, 76.0, null, 34, 0.0, Complete, 1997, 9, 10), List(null, null, 78.0, 75.0, null, 48, 0.0, Complete, 1998, 9, 11), List(0.194, 0.0, 93.0, 81.0, null, 37, 0.0, Complete, 1999, 8, 9), List(0.217, 0.287, 92.0, 82.0, null, 38, 0.0, Complete, 2000, 10, 13), List(0.349, 0.784, 150.0, 125.0, null, 33, 0.0, Complete, 2001, 15, 17), List(0.197, 0.444, 134.0, 130.0, null, 57, 0.0, Complete, 2002, 18, 19), List(0.241, 0.76, 160.0, 150.0, null, 42, 11.9, Complete, 2003, 12, 14), List(0.18, 0.423, 186.0, 171.0, null, 54, 3.7, Complete, 2004, 15, 16), List(0.279, 0.806, 255.0, 241.0, null, 138, 1.45, Complete, 2005, 48, 50), List(0.223, 0.492, 241.0, 221.0, null, 140, 5.71, Complete, 2006, 75, 77), List(0.326, 0.684, 276.0, 248.0, null, 150, 2.67, Complete, 2007, 55, 55), List(0.206, 0.557, 295.0, 269.0, null, 186, 0.0, Complete, 2008, 84, 90), List(0.191, 0.325, 414.0, 377.0, null, 170, 0.0, Complete, 2009, 81, 82), List(0.278, 0.303, 462.0, 436.0, null, 45, 35.56, Complete, 2010, 2, 3), List(0.275, 0.423, 461.0, 401.0, List(List(194, 0.4, 25, 446, List(List(2506, List(126, 76), 40), List(2210, List(487, 342), 29), List(2211, List(296, 214), 27)))), 64, 21.88, Complete, 2011, 2, 5), List(0.476, 0.721, 448.0, 358.0, List(List(201, 0.6, 28, 334, List(List(2506, List(127, 68), 46), List(2210, List(502, 324), 35), List(2211, List(305, 206), 32)))), 87, 36.78, Complete, 2012, 3, 4), List(0.39, 0.801, 558.0, 482.0, List(List(255, 0.9, 36, 278, List(List(2506, List(136, 60), 56), List(2210, List(510, 274), 46), List(2211, List(309, 179), 42)))), 84, 3.57, Complete, 2013, 2, 2), List(0.707, 1.353, 759.0, 657.0, List(List(383, 1.1, 41, 344, List(List(2506, List(137, 55), 60), List(2210, List(521, 268), 48), List(2211, List(318, 176), 44)))), 84, 3.57, Complete, 2014, 3, 5), List(0.557, 1.068, 841.0, 742.0, List(List(545, 1.6, 53, 343, List(List(2506, List(141, 42), 70), List(2210, List(533, 228), 57), List(2211, List(324, 151), 53)))), 90, 0.0, Complete, 2015, 2, 3), List(0.821, 1.373, 1067.0, 901.0, List(List(706, 1.9, 56, 370, List(List(2506, List(145, 45), 69), List(2210, List(546, 227), 58), List(2211, List(329, 146), 55)))), 115, 0.0, Complete, 2016, 4, 6), List(0.533, 1.35, 1458.0, 1316.0, List(List(824, 2.0, 59, 408, List(List(2506, List(152, 41), 73), List(2210, List(577, 238), 58), List(2211, List(353, 154), 56)))), 122, 0.0, Complete, 2017, 2, 3), List(0.707, 1.338, 1684.0, 1563.0, List(List(916, 2.2, 62, 418, List(List(2506, List(150, 47), 69), List(2210, List(587, 247), 58), List(2211, List(360, 166), 54)))), 124, 0.0, Complete, 2018, 5, 5), List(0.51, 1.113, 1929.0, 1743.0, List(List(1340, 2.6, 66, 512, List(List(2506, List(152, 44), 71), List(2210, List(585, 231), 60), List(2211, List(367, 162), 55)))), 163, 0.0, Complete, 2019, 13, 14), List(0.632, 1.215, 2619.0, 2328.0, List(List(1658, 2.9, 67, 563, List(List(2506, List(153, 45), 70), List(2210, List(596, 231), 61), List(2211, List(377, 161), 57)))), 184, 0.0, Complete, 2020, 19, 23), List(0.528, 1.026, 3124.0, 2783.0, List(List(2213, 3.5, 71, 630, List(List(2506, List(155, 42), 73), List(2210, List(601, 217), 63), List(2211, List(384, 155), 59)))), 197, 1.52, Complete, 2021, 37, 44), List(0.485, 0.99, 3593.0, 3246.0, List(List(2661, 3.8, 73, 709, List(List(2506, List(164, 47), 71), List(2210, List(631, 236), 62), List(2211, List(391, 164), 58)))), 193, 4.66, Complete, 2022, 38, 46), List(null, null, 2989.0, 2692.0, List(List(2577, 3.6, 70, 710, List(List(2506, List(164, 47), 71), List(2210, List(631, 231), 63), List(2211, List(390, 162), 58)))), 192, 1.56, In-Progress, 2023, 154, 157))</td></tr><tr><td>12047</td><td>List(List(null, null, 96.0, 78.0, null, 25, 12.0, Complete, 1996, 6, 6), List(null, null, 88.0, 70.0, null, 29, 6.9, Complete, 1997, 22, 23), List(null, null, 121.0, 109.0, null, 25, 0.0, Complete, 1998, 16, 17), List(0.154, 0.537, 80.0, 68.0, null, 17, 0.0, Complete, 1999, 5, 7), List(0.154, 0.646, 123.0, 109.0, null, 18, 0.0, Complete, 2000, 7, 8), List(0.112, 0.958, 72.0, 66.0, null, 23, 4.35, Complete, 2001, 15, 15), List(0.249, 0.743, 107.0, 95.0, null, 19, 10.53, Complete, 2002, 8, 8), List(0.324, 1.429, 73.0, 69.0, null, 23, 0.0, Complete, 2003, 12, 13), List(0.573, 1.087, 152.0, 117.0, null, 10, 50.0, Complete, 2004, 2, 2), List(0.539, 1.311, 154.0, 131.0, null, 11, 18.18, Complete, 2005, 4, 5), List(0.239, 0.567, 129.0, 124.0, null, 4, 50.0, Complete, 2006, 1, 1), List(0.101, 0.0, 60.0, 60.0, null, 0, 0.0, Complete, 2007, 0, 0), List(0.177, 0.366, 129.0, 129.0, null, 0, 0.0, Complete, 2008, 0, 0), List(0.105, 0.0, 83.0, 83.0, null, 0, 0.0, Complete, 2009, 0, 0), List(null, null, 162.0, 162.0, null, 0, 0.0, Complete, 2010, 0, 0), List(null, null, 87.0, 87.0, null, 0, 0.0, Complete, 2011, 0, 0), List(null, null, 84.0, 84.0, null, 0, 0.0, Complete, 2012, 0, 0), List(null, null, 116.0, 116.0, null, 0, 0.0, Complete, 2013, 0, 0), List(null, null, 90.0, 90.0, null, 0, 0.0, Complete, 2014, 0, 0), List(null, null, 89.0, 89.0, null, 0, 0.0, Complete, 2015, 0, 0), List(null, null, 65.0, 65.0, null, 0, 0.0, Complete, 2016, 0, 0), List(null, null, 91.0, 91.0, null, 0, 0.0, Complete, 2017, 0, 0), List(null, null, 73.0, 73.0, null, 0, 0.0, Complete, 2018, 0, 0), List(null, null, 65.0, 65.0, null, 0, 0.0, Complete, 2019, 0, 0), List(null, null, 59.0, 59.0, null, 0, 0.0, Complete, 2020, 0, 0), List(null, null, 51.0, 51.0, null, 0, 0.0, Complete, 2021, 0, 0), List(null, null, 39.0, 39.0, null, 0, 0.0, Complete, 2022, 0, 0), List(null, null, 22.0, 22.0, null, 0, 0.0, In-Progress, 2023, 0, 0))</td></tr><tr><td>12064</td><td>List(List(null, null, 98.0, 78.0, null, 45, 2.22, Complete, 1996, 14, 17), List(null, null, 94.0, 63.0, null, 49, 4.08, Complete, 1997, 10, 10), List(null, null, 111.0, 92.0, null, 46, 2.17, Complete, 1998, 11, 15), List(0.486, 0.722, 115.0, 77.0, null, 50, 0.0, Complete, 1999, 6, 11), List(0.3, 0.333, 114.0, 86.0, null, 47, 0.0, Complete, 2000, 3, 5), List(0.209, 0.67, 215.0, 162.0, null, 95, 1.05, Complete, 2001, 1, 5), List(0.276, 0.438, 204.0, 153.0, null, 82, 0.0, Complete, 2002, 4, 10), List(0.251, 0.614, 280.0, 194.0, null, 101, 0.0, Complete, 2003, 1, 2), List(0.603, 0.702, 431.0, 242.0, null, 95, 0.0, Complete, 2004, 6, 7), List(0.388, 0.691, 511.0, 404.0, null, 90, 0.0, Complete, 2005, 7, 9), List(0.578, 0.779, 623.0, 482.0, null, 99, 1.01, Complete, 2006, 8, 10), List(0.672, 0.866, 845.0, 603.0, null, 95, 0.0, Complete, 2007, 6, 8), List(0.511, 0.582, 945.0, 804.0, null, 98, 1.02, Complete, 2008, 3, 3), List(0.533, 0.545, 1163.0, 1008.0, null, 119, 0.0, Complete, 2009, 4, 6), List(0.634, 0.562, 1206.0, 1097.0, null, 78, 0.0, Complete, 2010, 1, 2), List(0.708, 0.885, 1571.0, 1326.0, List(List(694, 1.7, 57, 411, List(List(1902, List(87, 55), 37)))), 122, 0.0, Complete, 2011, 2, 3), List(0.836, 0.946, 1904.0, 1661.0, List(List(829, 2.0, 59, 423, List(List(1902, List(93, 49), 47)))), 110, 0.0, Complete, 2012, 5, 7), List(0.967, 1.103, 2301.0, 1999.0, List(List(999, 2.3, 58, 442, List(List(1902, List(96, 45), 53)))), 137, 0.0, Complete, 2013, 1, 6), List(1.035, 0.86, 2349.0, 2116.0, List(List(1255, 2.6, 63, 492, List(List(1902, List(97, 43), 56)))), 128, 0.0, Complete, 2014, 3, 3), List(0.971, 0.76, 2584.0, 2333.0, List(List(1273, 2.5, 63, 501, List(List(1902, List(99, 47), 53)))), 134, 0.0, Complete, 2015, 3, 4), List(0.974, 0.77, 2837.0, 2676.0, List(List(1516, 3.0, 70, 510, List(List(1902, List(103, 50), 51)))), 120, 0.83, Complete, 2016, 5, 6), List(0.956, 0.73, 3141.0, 2992.0, List(List(1397, 2.9, 69, 488, List(List(1902, List(108, 52), 52)))), 120, 5.0, Complete, 2017, 2, 4), List(1.14, 0.993, 3436.0, 3287.0, List(List(1608, 3.3, 70, 485, List(List(1902, List(112, 52), 54)))), 134, 0.0, Complete, 2018, 6, 8), List(1.293, 1.119, 4529.0, 4286.0, List(List(1750, 3.8, 74, 456, List(List(1902, List(115, 48), 58)))), 103, 10.68, Complete, 2019, 4, 4), List(1.187, 1.178, 4703.0, 4535.0, List(List(2106, 4.7, 75, 448, List(List(1902, List(124, 44), 64)))), 114, 0.0, Complete, 2020, 7, 7), List(1.121, 1.169, 5392.0, 5094.0, List(List(2565, 5.4, 81, 478, List(List(1902, List(135, 41), 70)))), 153, 2.61, Complete, 2021, 7, 8), List(1.54, 1.599, 6751.0, 6484.0, List(List(3603, 7.3, 86, 492, List(List(1902, List(137, 25), 82)))), 157, 3.82, Complete, 2022, 21, 25), List(null, null, 5411.0, 5011.0, List(List(3989, 8.0, 85, 501, List(List(1902, List(137, 18), 87)))), 161, 5.59, In-Progress, 2023, 87, 96))</td></tr><tr><td>12073</td><td>List(List(null, null, 257.0, 231.0, null, 40, 25.0, Complete, 1996, 5, 5), List(null, null, 221.0, 219.0, null, 28, 0.0, Complete, 1997, 4, 4), List(null, null, 230.0, 225.0, null, 61, 0.0, Complete, 1998, 1, 1), List(0.255, 0.314, 199.0, 182.0, null, 36, 2.78, Complete, 1999, 7, 7), List(0.179, 0.587, 244.0, 237.0, null, 44, 0.0, Complete, 2000, 2, 2), List(0.272, 0.542, 259.0, 257.0, null, 48, 0.0, Complete, 2001, 3, 3), List(0.259, 0.735, 264.0, 247.0, null, 42, 0.0, Complete, 2002, 0, 0), List(0.194, 0.407, 341.0, 331.0, null, 57, 0.0, Complete, 2003, 1, 2), List(0.2, 0.288, 377.0, 349.0, null, 41, 0.0, Complete, 2004, 6, 6), List(0.436, 0.47, 528.0, 497.0, null, 32, 0.0, Complete, 2005, 1, 1), List(0.296, 0.471, 568.0, 567.0, null, 29, 0.0, Complete, 2006, 0, 0), List(0.272, 0.382, 734.0, 706.0, null, 35, 0.0, Complete, 2007, 1, 3), List(0.266, 0.516, 886.0, 864.0, null, 38, 0.0, Complete, 2008, 1, 1), List(0.392, 0.608, 1083.0, 1062.0, null, 36, 0.0, Complete, 2009, 1, 1), List(0.245, 0.324, 1175.0, 1166.0, null, 19, 0.0, Complete, 2010, 0, 0), List(0.542, 1.093, 1319.0, 1305.0, List(List(156, 1.3, 49, 120, List(List(3304, List(787, 266), 66)))), 41, 0.0, Complete, 2011, 1, 1), List(0.503, 0.627, 1624.0, 1566.0, List(List(164, 1.0, 47, 159, List(List(3304, List(836, 379), 54)))), 71, 0.0, Complete, 2012, 2, 2), List(0.516, 0.72, 1810.0, 1716.0, List(List(199, 1.0, 46, 196, List(List(3304, List(888, 423), 52)))), 76, 0.0, Complete, 2013, 0, 0), List(0.508, 1.039, 1976.0, 1902.0, List(List(378, 1.6, 60, 235, List(List(3304, List(909, 280), 69)))), 59, 0.0, Complete, 2014, 0, 0), List(0.891, 1.471, 2024.0, 1968.0, List(List(594, 2.2, 64, 273, List(List(3304, List(940, 213), 77)))), 83, 0.0, Complete, 2015, 1, 1), List(0.572, 1.203, 2259.0, 2215.0, List(List(707, 2.4, 55, 290, List(List(3304, List(978, 196), 80)))), 82, 0.0, Complete, 2016, 0, 0), List(0.617, 1.17, 2470.0, 2410.0, List(List(597, 2.0, 57, 295, List(List(3304, List(1024, 310), 69)))), 76, 0.0, Complete, 2017, 1, 1), List(0.673, 1.117, 2523.0, 2478.0, List(List(673, 2.1, 62, 316, List(List(3304, List(1179, 315), 73)))), 87, 0.0, Complete, 2018, 5, 6), List(0.737, 1.365, 3066.0, 2976.0, List(List(903, 2.5, 61, 362, List(List(3304, List(1254, 279), 77)))), 128, 0.0, Complete, 2019, 5, 7), List(0.921, 1.524, 3642.0, 3492.0, List(List(1365, 3.1, 67, 440, List(List(3304, List(1319, 243), 81)))), 165, 0.0, Complete, 2020, 12, 12), List(0.923, 1.517, 4334.0, 4222.0, List(List(1834, 3.6, 67, 512, List(List(3304, List(1406, 269), 80)))), 140, 0.0, Complete, 2021, 15, 16), List(1.017, 1.68, 5521.0, 5435.0, List(List(2818, 4.9, 74, 578, List(List(3304, List(1469, 213), 85)))), 151, 0.0, Complete, 2022, 42, 47), List(null, null, 4196.0, 4118.0, List(List(2759, 5.0, 70, 547, List(List(3304, List(1471, 194), 86)))), 94, 0.0, In-Progress, 2023, 79, 80))</td></tr><tr><td>12085</td><td>List(List(null, null, 122.0, 63.0, null, 36, 5.56, Complete, 1996, 2, 3), List(null, null, 113.0, 93.0, null, 30, 13.33, Complete, 1997, 5, 5), List(null, null, 108.0, 69.0, null, 23, 30.43, Complete, 1998, 4, 5), List(0.182, 0.765, 83.0, 48.0, null, 13, 0.0, Complete, 1999, 1, 1), List(0.611, 1.033, 151.0, 96.0, null, 22, 4.55, Complete, 2000, 2, 3), List(0.635, 0.735, 332.0, 275.0, null, 16, 6.25, Complete, 2001, 0, 0), List(0.295, 0.68, 233.0, 189.0, null, 11, 18.18, Complete, 2002, 0, 0), List(0.25, 0.86, 213.0, 156.0, null, 12, 16.67, Complete, 2003, 2, 2), List(0.846, 1.831, 179.0, 151.0, null, 19, 10.53, Complete, 2004, 5, 6), List(0.905, 1.751, 261.0, 220.0, null, 20, 5.0, Complete, 2005, 6, 8), List(0.162, 1.549, 252.0, 226.0, null, 23, 13.04, Complete, 2006, 5, 8), List(0.94, 1.603, 265.0, 221.0, null, 17, 52.94, Complete, 2007, 2, 2), List(0.598, 1.915, 338.0, 266.0, null, 23, 8.7, Complete, 2008, 4, 6), List(0.313, 0.822, 209.0, 144.0, null, 21, 9.52, Complete, 2009, 3, 3), List(1.048, 1.787, 350.0, 265.0, null, 28, 35.71, Complete, 2010, 8, 8), List(0.605, 1.887, 412.0, 270.0, List(List(99, 1.2, 38, 85, List(List(3309, List(174, 66), 62), List(1201, List(264, 141), 46)))), 37, 27.03, Complete, 2011, 12, 12), List(0.982, 1.631, 464.0, 391.0, List(List(108, 1.2, 45, 92, List(List(3309, List(182, 63), 65), List(1201, List(266, 149), 44)))), 24, 20.83, Complete, 2012, 4, 5), List(0.556, 0.896, 436.0, 354.0, List(List(121, 1.3, 45, 96, List(List(3309, List(190, 64), 66), List(1201, List(267, 148), 44)))), 28, 3.57, Complete, 2013, 5, 6), List(0.742, 1.686, 440.0, 338.0, List(List(107, 1.1, 46, 98, List(List(3309, List(195, 82), 58), List(1201, List(267, 168), 37)))), 25, 12.0, Complete, 2014, 7, 9), List(0.531, 0.849, 564.0, 454.0, List(List(74, 1.1, 53, 66, List(List(3309, List(197, 91), 54), List(1201, List(267, 177), 33)))), 26, 88.46, Complete, 2015, 4, 4), List(0.26, 0.794, 485.0, 431.0, List(List(90, 1.7, 66, 53, List(List(3309, List(203, 56), 72), List(1201, List(250, 129), 48)))), 22, 68.18, Complete, 2016, 4, 4), List(0.488, 1.589, 530.0, 448.0, List(List(79, 1.0, 39, 83, List(List(3309, List(210, 94), 55), List(1201, List(259, 177), 31)))), 19, 15.79, Complete, 2017, 7, 8), List(0.453, 1.224, 429.0, 325.0, List(List(82, 1.0, 40, 81, List(List(3309, List(219, 97), 55), List(1201, List(283, 178), 37)))), 22, 95.45, Complete, 2018, 6, 7), List(0.232, 1.33, 545.0, 380.0, List(List(67, 1.0, 36, 67, List(List(3309, List(227, 110), 51), List(1201, List(295, 176), 40)))), 25, 16.0, Complete, 2019, 8, 8), List(0.153, 0.993, 449.0, 449.0, List(List(58, 0.9, 37, 62, List(List(3309, List(235, 125), 47), List(1201, List(306, 183), 40)))), 0, 0.0, Complete, 2020, 0, 0), List(0.244, 0.937, 425.0, 404.0, List(List(65, 1.0, 39, 62, List(List(1201, List(376, 193), 48), List(3309, List(247, 133), 46)))), 20, 0.0, Complete, 2021, 12, 13), List(0.247, 1.616, 612.0, 563.0, List(List(47, 0.8, 37, 57, List(List(1201, List(440, 222), 49), List(3309, List(266, 160), 39)))), 17, 29.41, Complete, 2022, 16, 16), List(null, null, 282.0, 282.0, List(List(9, 0.3, 24, 33, List(List(1201, List(440, 317), 28), List(3309, List(265, 219), 17)))), 0, 0.0, In-Progress, 2023, 0, 0))</td></tr><tr><td>12111</td><td>List(List(null, null, 497.0, 493.0, null, 19, 0.0, Complete, 1996, 1, 1), List(null, null, 543.0, 535.0, null, 19, 0.0, Complete, 1997, 0, 0), List(null, null, 484.0, 473.0, null, 22, 0.0, Complete, 1998, 2, 2), List(0.403, 0.687, 578.0, 570.0, null, 19, 15.79, Complete, 1999, 0, 0), List(0.625, 1.007, 623.0, 616.0, null, 19, 10.53, Complete, 2000, 1, 1), List(0.593, 0.886, 661.0, 653.0, null, 17, 0.0, Complete, 2001, 0, 0), List(0.653, 0.943, 705.0, 695.0, null, 19, 10.53, Complete, 2002, 1, 1), List(0.546, 1.098, 712.0, 705.0, null, 21, 0.0, Complete, 2003, 1, 1), List(0.343, 0.55, 711.0, 708.0, null, 18, 11.11, Complete, 2004, 2, 2), List(0.579, 0.771, 835.0, 828.0, null, 13, 0.0, Complete, 2005, 1, 1), List(0.466, 0.587, 889.0, 883.0, null, 13, 23.08, Complete, 2006, 0, 0), List(0.623, 0.747, 859.0, 851.0, null, 13, 15.38, Complete, 2007, 0, 0), List(0.547, 1.307, 879.0, 876.0, null, 14, 7.14, Complete, 2008, 0, 0), List(0.451, 0.651, 896.0, 893.0, null, 17, 0.0, Complete, 2009, 0, 0), List(0.38, 0.711, 818.0, 815.0, null, 18, 0.0, Complete, 2010, 0, 0), List(0.475, 0.623, 858.0, 858.0, List(List(136, 2.0, 52, 67, List(List(3202, List(174, 76), 56), List(2738, List(442, 194), 56)))), 19, 0.0, Complete, 2011, 0, 0), List(0.478, 0.671, 952.0, 949.0, List(List(159, 2.3, 64, 70, List(List(3202, List(185, 73), 60), List(2738, List(454, 185), 59)))), 16, 6.25, Complete, 2012, 0, 0), List(0.509, 0.647, 1043.0, 1040.0, List(List(144, 1.9, 58, 74, List(List(2738, List(463, 226), 51), List(3202, List(186, 97), 48)))), 22, 0.0, Complete, 2013, 1, 1), List(0.486, 0.523, 989.0, 986.0, List(List(151, 2.0, 64, 75, List(List(2738, List(468, 220), 53), List(3202, List(191, 95), 50)))), 19, 5.26, Complete, 2014, 0, 0), List(0.537, 0.712, 891.0, 876.0, List(List(174, 2.1, 75, 81, List(List(2738, List(479, 223), 53), List(3202, List(195, 100), 48)))), 26, 0.0, Complete, 2015, 0, 0), List(0.682, 0.523, 971.0, 967.0, List(List(263, 2.8, 83, 94, List(List(2738, List(481, 198), 58), List(3202, List(200, 83), 58)))), 30, 0.0, Complete, 2016, 0, 0), List(0.783, 0.881, 1014.0, 1003.0, List(List(328, 3.1, 72, 107, List(List(3202, List(215, 79), 63), List(2738, List(491, 183), 62)))), 35, 2.86, Complete, 2017, 1, 1), List(0.89, 1.039, 1210.0, 1204.0, List(List(443, 3.6, 69, 124, List(List(3202, List(221, 63), 71), List(2738, List(504, 157), 68)))), 39, 5.13, Complete, 2018, 1, 1), List(0.665, 0.819, 1076.0, 1069.0, List(List(432, 3.3, 73, 131, List(List(2738, List(506, 179), 64), List(3202, List(227, 83), 63)))), 33, 12.12, Complete, 2019, 2, 2), List(0.896, 1.032, 1392.0, 1388.0, List(List(547, 4.1, 78, 134, List(List(3202, List(227, 66), 71), List(2738, List(502, 154), 69)))), 35, 0.0, Complete, 2020, 1, 1), List(1.073, 1.378, 1643.0, 1642.0, List(List(670, 5.0, 83, 133, List(List(3202, List(230, 59), 74), List(2738, List(529, 137), 74)))), 33, 3.03, Complete, 2021, 1, 1), List(1.331, 1.736, 1921.0, 1904.0, List(List(910, 7.0, 86, 130, List(List(2738, List(531, 84), 84), List(3202, List(241, 46), 81)))), 62, 3.23, Complete, 2022, 21, 21), List(null, null, 1363.0, 1354.0, List(List(577, 4.5, 86, 128, List(List(2738, List(531, 182), 65), List(3202, List(241, 87), 64)))), 42, 4.76, In-Progress, 2023, 20, 20))</td></tr><tr><td>12127</td><td>List(List(null, null, 3404.0, 2929.0, null, 104, 0.0, Complete, 1996, 2, 2), List(null, null, 3401.0, 2793.0, null, 120, 0.0, Complete, 1997, 0, 0), List(null, null, 3792.0, 3348.0, null, 88, 0.0, Complete, 1998, 2, 2), List(1.597, 1.529, 3925.0, 3399.0, null, 102, 2.94, Complete, 1999, 2, 2), List(1.934, 1.523, 4293.0, 3851.0, null, 89, 1.12, Complete, 2000, 1, 1), List(2.013, 2.197, 5382.0, 4876.0, null, 104, 0.0, Complete, 2001, 0, 0), List(2.24, 1.734, 5501.0, 4966.0, null, 109, 0.0, Complete, 2002, 0, 0), List(1.849, 1.645, 5630.0, 5041.0, null, 107, 5.61, Complete, 2003, 0, 0), List(1.89, 1.922, 6849.0, 6371.0, null, 99, 1.01, Complete, 2004, 1, 1), List(2.21, 2.296, 8042.0, 7529.0, null, 117, 0.0, Complete, 2005, 1, 1), List(2.408, 2.089, 8875.0, 8291.0, null, 136, 0.0, Complete, 2006, 1, 1), List(2.449, 2.226, 11018.0, 9675.0, null, 268, 0.0, Complete, 2007, 0, 0), List(2.391, 1.774, 12581.0, 11807.0, null, 131, 0.0, Complete, 2008, 0, 0), List(2.17, 1.593, 12314.0, 11551.0, null, 154, 0.0, Complete, 2009, 2, 2), List(2.008, 1.586, 13169.0, 12454.0, null, 162, 0.0, Complete, 2010, 1, 1), List(2.353, 1.611, 14766.0, 14136.0, List(List(3301, 5.9, 79, 562, List(List(3203, List(233, 10), 95), List(1201, List(264, 16), 94), List(3204, List(246, 22), 91), List(2738, List(442, 46), 89), List(3205, List(111, 13), 88)))), 121, 0.0, Complete, 2011, 0, 0), List(2.472, 1.842, 17164.0, 16713.0, List(List(3780, 7.1, 81, 534, List(List(3203, List(236, 7), 97), List(1201, List(266, 10), 96), List(3205, List(115, 5), 96), List(3204, List(261, 12), 95), List(2738, List(454, 35), 92)))), 103, 0.0, Complete, 2012, 1, 1), List(2.294, 1.809, 17895.0, 17458.0, List(List(3711, 7.5, 81, 496, List(List(3205, List(118, 4), 97), List(3203, List(241, 9), 96), List(1201, List(267, 11), 96), List(3204, List(267, 13), 95), List(2738, List(463, 32), 93)))), 117, 0.0, Complete, 2013, 2, 2), List(2.652, 1.853, 19103.0, 18590.0, List(List(3200, 6.9, 77, 465, List(List(1201, List(267, 10), 96), List(3205, List(118, 5), 96), List(3203, List(242, 10), 96), List(3204, List(271, 13), 95), List(2738, List(468, 41), 91)))), 132, 0.0, Complete, 2014, 2, 2), List(2.487, 1.867, 19298.0, 18709.0, List(List(3222, 6.7, 78, 479, List(List(1201, List(267, 12), 95), List(3203, List(246, 12), 95), List(3205, List(119, 7), 94), List(3204, List(276, 17), 94), List(2738, List(479, 44), 90)))), 138, 0.0, Complete, 2015, 0, 0), List(2.448, 1.66, 19238.0, 18768.0, List(List(3519, 7.2, 81, 490, List(List(3203, List(251, 10), 96), List(3205, List(125, 9), 93), List(2738, List(481, 44), 90)))), 110, 7.27, Complete, 2016, 0, 0), List(2.619, 1.993, 19978.0, 19263.0, List(List(3977, 7.5, 81, 530, List(List(3203, List(259, 9), 96), List(3205, List(132, 5), 96), List(2738, List(491, 35), 92)))), 163, 4.29, Complete, 2017, 6, 7), List(2.288, 1.865, 20061.0, 19647.0, List(List(3760, 7.3, 79, 516, List(List(3205, List(137, 4), 97), List(3203, List(270, 11), 96), List(2738, List(504, 40), 92)))), 118, 0.0, Complete, 2018, 0, 0), List(2.326, 1.874, 21055.0, 20607.0, List(List(3866, 7.4, 80, 519, List(List(3203, List(275, 10), 96), List(3205, List(145, 7), 95), List(2738, List(506, 36), 92)))), 145, 0.69, Complete, 2019, 2, 2), List(2.506, 1.96, 22150.0, 21472.0, List(List(4393, 8.0, 82, 546, List(List(3203, List(283, 11), 96), List(3205, List(148, 8), 94), List(2738, List(502, 36), 92)))), 143, 2.1, Complete, 2020, 4, 4), List(2.022, 1.722, 23685.0, 23097.0, List(List(3625, 6.9, 79, 528, List(List(3205, List(150, 13), 91), List(3203, List(292, 29), 90), List(2738, List(529, 78), 85)))), 142, 0.7, Complete, 2021, 10, 11), List(1.787, 1.66, 25481.0, 24807.0, List(List(4326, 7.9, 84, 550, List(List(3205, List(152, 11), 93), List(3203, List(292, 24), 91), List(2738, List(531, 67), 87)))), 140, 0.71, Complete, 2022, 23, 27), List(null, null, 17855.0, 17447.0, List(List(3219, 6.4, 78, 500, List(List(3205, List(153, 13), 91), List(3203, List(292, 33), 88), List(2738, List(531, 91), 82)))), 94, 3.19, In-Progress, 2023, 68, 73))</td></tr><tr><td>12128</td><td>List(List(null, null, 263.0, 245.0, null, 32, 3.13, Complete, 1996, 1, 2), List(null, null, 289.0, 265.0, null, 28, 14.29, Complete, 1997, 1, 1), List(null, null, 310.0, 281.0, null, 34, 2.94, Complete, 1998, 2, 2), List(0.549, 0.681, 376.0, 354.0, null, 36, 13.89, Complete, 1999, 6, 6), List(0.74, 0.689, 434.0, 405.0, null, 36, 22.22, Complete, 2000, 3, 3), List(0.491, 0.687, 498.0, 468.0, null, 46, 6.52, Complete, 2001, 2, 2), List(0.614, 0.796, 509.0, 477.0, null, 45, 2.22, Complete, 2002, 0, 0), List(0.718, 0.933, 611.0, 570.0, null, 43, 4.65, Complete, 2003, 3, 3), List(0.903, 0.849, 761.0, 724.0, null, 48, 20.83, Complete, 2004, 1, 1), List(0.567, 0.775, 858.0, 816.0, null, 44, 20.45, Complete, 2005, 4, 4), List(0.604, 0.588, 892.0, 844.0, null, 47, 14.89, Complete, 2006, 3, 3), List(0.824, 1.27, 1095.0, 1016.0, null, 58, 5.17, Complete, 2007, 2, 2), List(0.622, 0.718, 1298.0, 1213.0, null, 69, 13.04, Complete, 2008, 3, 4), List(0.508, 0.617, 1202.0, 1169.0, null, 47, 4.26, Complete, 2009, 3, 3), List(0.688, 0.851, 1395.0, 1332.0, null, 47, 0.0, Complete, 2010, 1, 1), List(0.867, 1.087, 1590.0, 1546.0, List(List(598, 2.9, 64, 203, List(List(3203, List(233, 56), 76)))), 47, 6.38, Complete, 2011, 0, 0), List(0.924, 0.89, 1841.0, 1793.0, List(List(602, 3.2, 67, 186, List(List(3203, List(236, 52), 78)))), 48, 0.0, Complete, 2012, 2, 2), List(0.769, 1.028, 2142.0, 2083.0, List(List(573, 3.0, 68, 188, List(List(3203, List(241, 69), 71)))), 48, 2.08, Complete, 2013, 0, 0), List(0.998, 1.056, 2172.0, 2104.0, List(List(582, 2.8, 73, 205, List(List(3203, List(242, 77), 68)))), 64, 1.56, Complete, 2014, 0, 0), List(0.953, 0.955, 2187.0, 2116.0, List(List(674, 3.1, 78, 215, List(List(3203, List(246, 75), 69)))), 56, 1.79, Complete, 2015, 1, 1), List(0.871, 1.086, 2106.0, 2046.0, List(List(768, 3.3, 74, 231, List(List(3203, List(251, 68), 73)))), 64, 3.13, Complete, 2016, 5, 5), List(0.976, 0.894, 2282.0, 2203.0, List(List(801, 3.4, 71, 235, List(List(3203, List(259, 69), 73)))), 56, 5.36, Complete, 2017, 2, 2), List(0.707, 0.894, 2271.0, 2233.0, List(List(686, 3.0, 69, 227, List(List(3203, List(270, 79), 70)))), 58, 0.0, Complete, 2018, 4, 4), List(0.805, 0.871, 2486.0, 2441.0, List(List(652, 2.9, 71, 226, List(List(3203, List(275, 88), 68)))), 55, 0.0, Complete, 2019, 1, 1), List(0.851, 0.778, 2548.0, 2463.0, List(List(623, 2.8, 66, 221, List(List(3203, List(283, 98), 65)))), 68, 1.47, Complete, 2020, 4, 4), List(0.781, 0.893, 2852.0, 2760.0, List(List(782, 3.6, 73, 218, List(List(3203, List(292, 96), 67)))), 59, 3.39, Complete, 2021, 5, 5), List(0.858, 1.113, 3042.0, 2987.0, List(List(918, 4.1, 75, 224, List(List(3203, List(292, 99), 66)))), 53, 1.89, Complete, 2022, 20, 20), List(null, null, 2047.0, 2014.0, List(List(628, 2.9, 66, 213, List(List(3203, List(292, 126), 57)))), 47, 0.0, In-Progress, 2023, 40, 40))</td></tr><tr><td>12138</td><td>List(List(null, null, 208.0, 208.0, null, 203, 0.0, Complete, 1996, 64, 64), List(null, null, 256.0, 256.0, null, 175, 0.0, Complete, 1997, 45, 47), List(null, null, 261.0, 261.0, null, 214, 0.0, Complete, 1998, 82, 84), List(0.346, null, 365.0, 365.0, null, 151, 0.0, Complete, 1999, 45, 49), List(0.317, null, 284.0, 227.0, null, 146, 0.0, Complete, 2000, 52, 57), List(0.264, 0.444, 407.0, 333.0, null, 160, 0.0, Complete, 2001, 48, 50), List(0.406, 0.743, 451.0, 401.0, null, 194, 0.0, Complete, 2002, 84, 90), List(0.397, 0.482, 493.0, 436.0, null, 151, 0.0, Complete, 2003, 57, 57), List(0.371, 0.531, 525.0, 440.0, null, 200, 0.0, Complete, 2004, 84, 91), List(0.361, 0.42, 538.0, 471.0, null, 177, 0.0, Complete, 2005, 81, 84), List(0.23, 0.306, 434.0, 387.0, null, 118, 0.0, Complete, 2006, 45, 47), List(0.223, 0.227, 368.0, 336.0, null, 156, 0.0, Complete, 2007, 50, 54), List(0.261, 0.413, 487.0, 392.0, null, 180, 0.0, Complete, 2008, 96, 101), List(0.238, 0.26, 355.0, 310.0, null, 114, 0.0, Complete, 2009, 40, 45), List(0.246, 0.429, 448.0, 383.0, null, 125, 0.0, Complete, 2010, 55, 57), List(0.232, 0.332, 452.0, 402.0, List(List(377, 0.8, 29, 494, List(List(2208, List(589, 379), 35), List(2504, List(183, 141), 23)))), 122, 0.0, Complete, 2011, 44, 44), List(0.23, 0.25, 372.0, 345.0, List(List(402, 0.9, 33, 436, List(List(2208, List(615, 371), 39), List(2504, List(193, 140), 27)))), 79, 0.0, Complete, 2012, 21, 21), List(0.206, 0.349, 406.0, 385.0, List(List(301, 0.7, 35, 413, List(List(2208, List(631, 444), 29), List(2504, List(199, 164), 17)))), 91, 0.0, Complete, 2013, 40, 43), List(0.264, 0.327, 367.0, 346.0, List(List(289, 0.8, 36, 363, List(List(2208, List(651, 438), 32), List(2504, List(207, 168), 19)))), 75, 0.0, Complete, 2014, 34, 34), List(0.188, 0.38, 346.0, 346.0, List(List(235, 1.0, 39, 242, List(List(2208, List(660, 406), 38), List(2504, List(213, 154), 27)))), 0, 0.0, Complete, 2015, 0, 0), List(0.139, 0.092, 290.0, 290.0, null, 0, 0.0, Complete, 2016, 0, 0), List(0.153, 0.288, 327.0, 327.0, null, 0, 0.0, Complete, 2017, 0, 0), List(null, null, 250.0, 250.0, null, 0, 0.0, Complete, 2018, 0, 0), List(null, null, 211.0, 211.0, null, 0, 0.0, Complete, 2019, 0, 0), List(null, null, 168.0, 168.0, null, 0, 0.0, Complete, 2020, 0, 0), List(null, null, 198.0, 198.0, null, 0, 0.0, Complete, 2021, 0, 0), List(null, null, 163.0, 163.0, null, 0, 0.0, Complete, 2022, 0, 0), List(null, null, 97.0, 97.0, null, 0, 0.0, In-Progress, 2023, 0, 0))</td></tr></tbody></table></div>"
      ]
     },
     "metadata": {
      "application/vnd.databricks.v1+output": {
       "addedWidgets": {},
       "aggData": [],
       "aggError": "",
       "aggOverflow": false,
       "aggSchema": [],
       "aggSeriesLimitReached": false,
       "aggType": "",
       "arguments": {},
       "columnCustomDisplayInfos": {},
       "data": [
        [
         12029,
         [
          [
           null,
           null,
           142.0,
           130.0,
           null,
           16,
           0.0,
           "Complete",
           1996,
           0,
           1
          ],
          [
           null,
           null,
           165.0,
           159.0,
           null,
           17,
           0.0,
           "Complete",
           1997,
           1,
           1
          ],
          [
           null,
           null,
           173.0,
           166.0,
           null,
           28,
           10.71,
           "Complete",
           1998,
           1,
           2
          ],
          [
           0.767,
           1.512,
           174.0,
           163.0,
           null,
           29,
           3.45,
           "Complete",
           1999,
           1,
           1
          ],
          [
           0.599,
           1.656,
           282.0,
           268.0,
           null,
           35,
           5.71,
           "Complete",
           2000,
           1,
           1
          ],
          [
           0.626,
           0.956,
           332.0,
           312.0,
           null,
           31,
           0.0,
           "Complete",
           2001,
           0,
           1
          ],
          [
           0.789,
           0.899,
           348.0,
           340.0,
           null,
           29,
           24.14,
           "Complete",
           2002,
           1,
           1
          ],
          [
           0.813,
           0.968,
           465.0,
           458.0,
           null,
           36,
           52.78,
           "Complete",
           2003,
           2,
           2
          ],
          [
           0.829,
           1.141,
           619.0,
           597.0,
           null,
           33,
           48.48,
           "Complete",
           2004,
           0,
           0
          ],
          [
           0.724,
           1.142,
           749.0,
           727.0,
           null,
           36,
           27.78,
           "Complete",
           2005,
           2,
           2
          ],
          [
           0.957,
           1.638,
           884.0,
           845.0,
           null,
           30,
           16.67,
           "Complete",
           2006,
           0,
           0
          ],
          [
           1.113,
           1.801,
           1043.0,
           1020.0,
           null,
           44,
           40.91,
           "Complete",
           2007,
           2,
           2
          ],
          [
           0.952,
           1.255,
           1472.0,
           1422.0,
           null,
           50,
           24.0,
           "Complete",
           2008,
           0,
           0
          ],
          [
           0.871,
           1.312,
           1635.0,
           1619.0,
           null,
           35,
           22.86,
           "Complete",
           2009,
           0,
           0
          ],
          [
           0.889,
           1.85,
           2056.0,
           2012.0,
           null,
           31,
           0.0,
           "Complete",
           2010,
           0,
           0
          ],
          [
           1.325,
           2.177,
           2351.0,
           2324.0,
           [
            [
             840,
             6.1,
             75,
             137,
             [
              [
               1201,
               [
                264,
                13
               ],
               95
              ],
              [
               3202,
               [
                174,
                9
               ],
               95
              ],
              [
               3204,
               [
                246,
                18
               ],
               92
              ]
             ]
            ]
           ],
           30,
           0.0,
           "Complete",
           2011,
           1,
           1
          ],
          [
           1.481,
           1.703,
           2905.0,
           2893.0,
           [
            [
             468,
             3.7,
             73,
             126,
             [
              [
               3202,
               [
                185,
                31
               ],
               83
              ],
              [
               1201,
               [
                266,
                56
               ],
               79
              ],
              [
               3204,
               [
                261,
                61
               ],
               76
              ]
             ]
            ]
           ],
           34,
           0.0,
           "Complete",
           2012,
           1,
           1
          ],
          [
           1.571,
           1.625,
           3072.0,
           3009.0,
           [
            [
             461,
             3.8,
             78,
             120,
             [
              [
               1201,
               [
                267,
                49
               ],
               81
              ],
              [
               3202,
               [
                186,
                36
               ],
               80
              ],
              [
               3204,
               [
                267,
                64
               ],
               76
              ]
             ]
            ]
           ],
           29,
           0.0,
           "Complete",
           2013,
           0,
           0
          ],
          [
           1.51,
           1.926,
           3423.0,
           3350.0,
           [
            [
             544,
             4.9,
             79,
             112,
             [
              [
               3202,
               [
                191,
                20
               ],
               89
              ],
              [
               1201,
               [
                267,
                32
               ],
               88
              ],
              [
               3204,
               [
                271,
                38
               ],
               86
              ]
             ]
            ]
           ],
           29,
           0.0,
           "Complete",
           2014,
           0,
           0
          ],
          [
           1.02,
           1.451,
           3736.0,
           3686.0,
           [
            [
             521,
             5.0,
             78,
             105,
             [
              [
               1201,
               [
                267,
                32
               ],
               88
              ],
              [
               3202,
               [
                195,
                25
               ],
               87
              ],
              [
               3204,
               [
                276,
                40
               ],
               85
              ]
             ]
            ]
           ],
           28,
           0.0,
           "Complete",
           2015,
           1,
           1
          ],
          [
           1.228,
           1.342,
           3948.0,
           3894.0,
           [
            [
             441,
             4.2,
             86,
             105,
             [
              [
               1201,
               [
                250,
                37
               ],
               85
              ],
              [
               3204,
               [
                276,
                56
               ],
               79
              ],
              [
               3202,
               [
                200,
                43
               ],
               78
              ]
             ]
            ]
           ],
           26,
           0.0,
           "Complete",
           2016,
           1,
           1
          ],
          [
           1.406,
           1.394,
           4220.0,
           4201.0,
           [
            [
             509,
             5.0,
             84,
             101,
             [
              [
               1201,
               [
                259,
                22
               ],
               91
              ],
              [
               3204,
               [
                290,
                38
               ],
               87
              ],
              [
               3202,
               [
                215,
                34
               ],
               84
              ]
             ]
            ]
           ],
           25,
           4.0,
           "Complete",
           2017,
           0,
           0
          ],
          [
           1.958,
           1.803,
           4467.0,
           4446.0,
           [
            [
             599,
             5.7,
             76,
             106,
             [
              [
               1201,
               [
                283,
                16
               ],
               94
              ],
              [
               3204,
               [
                314,
                27
               ],
               91
              ],
              [
               3202,
               [
                221,
                25
               ],
               88
              ]
             ]
            ]
           ],
           28,
           0.0,
           "Complete",
           2018,
           0,
           0
          ],
          [
           1.457,
           1.711,
           4772.0,
           4740.0,
           [
            [
             690,
             6.4,
             81,
             108,
             [
              [
               1201,
               [
                295,
                12
               ],
               96
              ],
              [
               3204,
               [
                327,
                19
               ],
               94
              ],
              [
               3202,
               [
                227,
                21
               ],
               90
              ]
             ]
            ]
           ],
           26,
           7.69,
           "Complete",
           2019,
           0,
           0
          ],
          [
           1.497,
           1.899,
           5257.0,
           5156.0,
           [
            [
             669,
             5.3,
             87,
             127,
             [
              [
               1201,
               [
                306,
                22
               ],
               92
              ],
              [
               3204,
               [
                332,
                41
               ],
               87
              ],
              [
               3202,
               [
                227,
                36
               ],
               84
              ]
             ]
            ]
           ],
           61,
           9.84,
           "Complete",
           2020,
           4,
           5
          ],
          [
           1.59,
           1.806,
           5932.0,
           5816.0,
           [
            [
             1029,
             6.1,
             87,
             168,
             [
              [
               1201,
               [
                376,
                21
               ],
               94
              ],
              [
               3204,
               [
                341,
                33
               ],
               90
              ],
              [
               3202,
               [
                230,
                37
               ],
               84
              ]
             ]
            ]
           ],
           72,
           4.17,
           "Complete",
           2021,
           1,
           1
          ],
          [
           2.279,
           2.787,
           7354.0,
           7212.0,
           [
            [
             2002,
             9.9,
             90,
             202,
             [
              [
               1201,
               [
                440,
                11
               ],
               97
              ],
              [
               3204,
               [
                343,
                17
               ],
               95
              ],
              [
               3202,
               [
                241,
                23
               ],
               90
              ]
             ]
            ]
           ],
           83,
           10.84,
           "Complete",
           2022,
           19,
           21
          ],
          [
           null,
           null,
           5771.0,
           5649.0,
           [
            [
             2596,
             11.6,
             89,
             224,
             [
              [
               1201,
               [
                440,
                5
               ],
               98
              ],
              [
               3204,
               [
                343,
                10
               ],
               97
              ],
              [
               3202,
               [
                241,
                14
               ],
               94
              ]
             ]
            ]
           ],
           90,
           4.44,
           "In-Progress",
           2023,
           42,
           46
          ]
         ]
        ],
        [
         12037,
         [
          [
           null,
           null,
           70.0,
           70.0,
           null,
           61,
           0.0,
           "Complete",
           1996,
           23,
           23
          ],
          [
           null,
           null,
           76.0,
           76.0,
           null,
           34,
           0.0,
           "Complete",
           1997,
           9,
           10
          ],
          [
           null,
           null,
           78.0,
           75.0,
           null,
           48,
           0.0,
           "Complete",
           1998,
           9,
           11
          ],
          [
           0.194,
           0.0,
           93.0,
           81.0,
           null,
           37,
           0.0,
           "Complete",
           1999,
           8,
           9
          ],
          [
           0.217,
           0.287,
           92.0,
           82.0,
           null,
           38,
           0.0,
           "Complete",
           2000,
           10,
           13
          ],
          [
           0.349,
           0.784,
           150.0,
           125.0,
           null,
           33,
           0.0,
           "Complete",
           2001,
           15,
           17
          ],
          [
           0.197,
           0.444,
           134.0,
           130.0,
           null,
           57,
           0.0,
           "Complete",
           2002,
           18,
           19
          ],
          [
           0.241,
           0.76,
           160.0,
           150.0,
           null,
           42,
           11.9,
           "Complete",
           2003,
           12,
           14
          ],
          [
           0.18,
           0.423,
           186.0,
           171.0,
           null,
           54,
           3.7,
           "Complete",
           2004,
           15,
           16
          ],
          [
           0.279,
           0.806,
           255.0,
           241.0,
           null,
           138,
           1.45,
           "Complete",
           2005,
           48,
           50
          ],
          [
           0.223,
           0.492,
           241.0,
           221.0,
           null,
           140,
           5.71,
           "Complete",
           2006,
           75,
           77
          ],
          [
           0.326,
           0.684,
           276.0,
           248.0,
           null,
           150,
           2.67,
           "Complete",
           2007,
           55,
           55
          ],
          [
           0.206,
           0.557,
           295.0,
           269.0,
           null,
           186,
           0.0,
           "Complete",
           2008,
           84,
           90
          ],
          [
           0.191,
           0.325,
           414.0,
           377.0,
           null,
           170,
           0.0,
           "Complete",
           2009,
           81,
           82
          ],
          [
           0.278,
           0.303,
           462.0,
           436.0,
           null,
           45,
           35.56,
           "Complete",
           2010,
           2,
           3
          ],
          [
           0.275,
           0.423,
           461.0,
           401.0,
           [
            [
             194,
             0.4,
             25,
             446,
             [
              [
               2506,
               [
                126,
                76
               ],
               40
              ],
              [
               2210,
               [
                487,
                342
               ],
               29
              ],
              [
               2211,
               [
                296,
                214
               ],
               27
              ]
             ]
            ]
           ],
           64,
           21.88,
           "Complete",
           2011,
           2,
           5
          ],
          [
           0.476,
           0.721,
           448.0,
           358.0,
           [
            [
             201,
             0.6,
             28,
             334,
             [
              [
               2506,
               [
                127,
                68
               ],
               46
              ],
              [
               2210,
               [
                502,
                324
               ],
               35
              ],
              [
               2211,
               [
                305,
                206
               ],
               32
              ]
             ]
            ]
           ],
           87,
           36.78,
           "Complete",
           2012,
           3,
           4
          ],
          [
           0.39,
           0.801,
           558.0,
           482.0,
           [
            [
             255,
             0.9,
             36,
             278,
             [
              [
               2506,
               [
                136,
                60
               ],
               56
              ],
              [
               2210,
               [
                510,
                274
               ],
               46
              ],
              [
               2211,
               [
                309,
                179
               ],
               42
              ]
             ]
            ]
           ],
           84,
           3.57,
           "Complete",
           2013,
           2,
           2
          ],
          [
           0.707,
           1.353,
           759.0,
           657.0,
           [
            [
             383,
             1.1,
             41,
             344,
             [
              [
               2506,
               [
                137,
                55
               ],
               60
              ],
              [
               2210,
               [
                521,
                268
               ],
               48
              ],
              [
               2211,
               [
                318,
                176
               ],
               44
              ]
             ]
            ]
           ],
           84,
           3.57,
           "Complete",
           2014,
           3,
           5
          ],
          [
           0.557,
           1.068,
           841.0,
           742.0,
           [
            [
             545,
             1.6,
             53,
             343,
             [
              [
               2506,
               [
                141,
                42
               ],
               70
              ],
              [
               2210,
               [
                533,
                228
               ],
               57
              ],
              [
               2211,
               [
                324,
                151
               ],
               53
              ]
             ]
            ]
           ],
           90,
           0.0,
           "Complete",
           2015,
           2,
           3
          ],
          [
           0.821,
           1.373,
           1067.0,
           901.0,
           [
            [
             706,
             1.9,
             56,
             370,
             [
              [
               2506,
               [
                145,
                45
               ],
               69
              ],
              [
               2210,
               [
                546,
                227
               ],
               58
              ],
              [
               2211,
               [
                329,
                146
               ],
               55
              ]
             ]
            ]
           ],
           115,
           0.0,
           "Complete",
           2016,
           4,
           6
          ],
          [
           0.533,
           1.35,
           1458.0,
           1316.0,
           [
            [
             824,
             2.0,
             59,
             408,
             [
              [
               2506,
               [
                152,
                41
               ],
               73
              ],
              [
               2210,
               [
                577,
                238
               ],
               58
              ],
              [
               2211,
               [
                353,
                154
               ],
               56
              ]
             ]
            ]
           ],
           122,
           0.0,
           "Complete",
           2017,
           2,
           3
          ],
          [
           0.707,
           1.338,
           1684.0,
           1563.0,
           [
            [
             916,
             2.2,
             62,
             418,
             [
              [
               2506,
               [
                150,
                47
               ],
               69
              ],
              [
               2210,
               [
                587,
                247
               ],
               58
              ],
              [
               2211,
               [
                360,
                166
               ],
               54
              ]
             ]
            ]
           ],
           124,
           0.0,
           "Complete",
           2018,
           5,
           5
          ],
          [
           0.51,
           1.113,
           1929.0,
           1743.0,
           [
            [
             1340,
             2.6,
             66,
             512,
             [
              [
               2506,
               [
                152,
                44
               ],
               71
              ],
              [
               2210,
               [
                585,
                231
               ],
               60
              ],
              [
               2211,
               [
                367,
                162
               ],
               55
              ]
             ]
            ]
           ],
           163,
           0.0,
           "Complete",
           2019,
           13,
           14
          ],
          [
           0.632,
           1.215,
           2619.0,
           2328.0,
           [
            [
             1658,
             2.9,
             67,
             563,
             [
              [
               2506,
               [
                153,
                45
               ],
               70
              ],
              [
               2210,
               [
                596,
                231
               ],
               61
              ],
              [
               2211,
               [
                377,
                161
               ],
               57
              ]
             ]
            ]
           ],
           184,
           0.0,
           "Complete",
           2020,
           19,
           23
          ],
          [
           0.528,
           1.026,
           3124.0,
           2783.0,
           [
            [
             2213,
             3.5,
             71,
             630,
             [
              [
               2506,
               [
                155,
                42
               ],
               73
              ],
              [
               2210,
               [
                601,
                217
               ],
               63
              ],
              [
               2211,
               [
                384,
                155
               ],
               59
              ]
             ]
            ]
           ],
           197,
           1.52,
           "Complete",
           2021,
           37,
           44
          ],
          [
           0.485,
           0.99,
           3593.0,
           3246.0,
           [
            [
             2661,
             3.8,
             73,
             709,
             [
              [
               2506,
               [
                164,
                47
               ],
               71
              ],
              [
               2210,
               [
                631,
                236
               ],
               62
              ],
              [
               2211,
               [
                391,
                164
               ],
               58
              ]
             ]
            ]
           ],
           193,
           4.66,
           "Complete",
           2022,
           38,
           46
          ],
          [
           null,
           null,
           2989.0,
           2692.0,
           [
            [
             2577,
             3.6,
             70,
             710,
             [
              [
               2506,
               [
                164,
                47
               ],
               71
              ],
              [
               2210,
               [
                631,
                231
               ],
               63
              ],
              [
               2211,
               [
                390,
                162
               ],
               58
              ]
             ]
            ]
           ],
           192,
           1.56,
           "In-Progress",
           2023,
           154,
           157
          ]
         ]
        ],
        [
         12047,
         [
          [
           null,
           null,
           96.0,
           78.0,
           null,
           25,
           12.0,
           "Complete",
           1996,
           6,
           6
          ],
          [
           null,
           null,
           88.0,
           70.0,
           null,
           29,
           6.9,
           "Complete",
           1997,
           22,
           23
          ],
          [
           null,
           null,
           121.0,
           109.0,
           null,
           25,
           0.0,
           "Complete",
           1998,
           16,
           17
          ],
          [
           0.154,
           0.537,
           80.0,
           68.0,
           null,
           17,
           0.0,
           "Complete",
           1999,
           5,
           7
          ],
          [
           0.154,
           0.646,
           123.0,
           109.0,
           null,
           18,
           0.0,
           "Complete",
           2000,
           7,
           8
          ],
          [
           0.112,
           0.958,
           72.0,
           66.0,
           null,
           23,
           4.35,
           "Complete",
           2001,
           15,
           15
          ],
          [
           0.249,
           0.743,
           107.0,
           95.0,
           null,
           19,
           10.53,
           "Complete",
           2002,
           8,
           8
          ],
          [
           0.324,
           1.429,
           73.0,
           69.0,
           null,
           23,
           0.0,
           "Complete",
           2003,
           12,
           13
          ],
          [
           0.573,
           1.087,
           152.0,
           117.0,
           null,
           10,
           50.0,
           "Complete",
           2004,
           2,
           2
          ],
          [
           0.539,
           1.311,
           154.0,
           131.0,
           null,
           11,
           18.18,
           "Complete",
           2005,
           4,
           5
          ],
          [
           0.239,
           0.567,
           129.0,
           124.0,
           null,
           4,
           50.0,
           "Complete",
           2006,
           1,
           1
          ],
          [
           0.101,
           0.0,
           60.0,
           60.0,
           null,
           0,
           0.0,
           "Complete",
           2007,
           0,
           0
          ],
          [
           0.177,
           0.366,
           129.0,
           129.0,
           null,
           0,
           0.0,
           "Complete",
           2008,
           0,
           0
          ],
          [
           0.105,
           0.0,
           83.0,
           83.0,
           null,
           0,
           0.0,
           "Complete",
           2009,
           0,
           0
          ],
          [
           null,
           null,
           162.0,
           162.0,
           null,
           0,
           0.0,
           "Complete",
           2010,
           0,
           0
          ],
          [
           null,
           null,
           87.0,
           87.0,
           null,
           0,
           0.0,
           "Complete",
           2011,
           0,
           0
          ],
          [
           null,
           null,
           84.0,
           84.0,
           null,
           0,
           0.0,
           "Complete",
           2012,
           0,
           0
          ],
          [
           null,
           null,
           116.0,
           116.0,
           null,
           0,
           0.0,
           "Complete",
           2013,
           0,
           0
          ],
          [
           null,
           null,
           90.0,
           90.0,
           null,
           0,
           0.0,
           "Complete",
           2014,
           0,
           0
          ],
          [
           null,
           null,
           89.0,
           89.0,
           null,
           0,
           0.0,
           "Complete",
           2015,
           0,
           0
          ],
          [
           null,
           null,
           65.0,
           65.0,
           null,
           0,
           0.0,
           "Complete",
           2016,
           0,
           0
          ],
          [
           null,
           null,
           91.0,
           91.0,
           null,
           0,
           0.0,
           "Complete",
           2017,
           0,
           0
          ],
          [
           null,
           null,
           73.0,
           73.0,
           null,
           0,
           0.0,
           "Complete",
           2018,
           0,
           0
          ],
          [
           null,
           null,
           65.0,
           65.0,
           null,
           0,
           0.0,
           "Complete",
           2019,
           0,
           0
          ],
          [
           null,
           null,
           59.0,
           59.0,
           null,
           0,
           0.0,
           "Complete",
           2020,
           0,
           0
          ],
          [
           null,
           null,
           51.0,
           51.0,
           null,
           0,
           0.0,
           "Complete",
           2021,
           0,
           0
          ],
          [
           null,
           null,
           39.0,
           39.0,
           null,
           0,
           0.0,
           "Complete",
           2022,
           0,
           0
          ],
          [
           null,
           null,
           22.0,
           22.0,
           null,
           0,
           0.0,
           "In-Progress",
           2023,
           0,
           0
          ]
         ]
        ],
        [
         12064,
         [
          [
           null,
           null,
           98.0,
           78.0,
           null,
           45,
           2.22,
           "Complete",
           1996,
           14,
           17
          ],
          [
           null,
           null,
           94.0,
           63.0,
           null,
           49,
           4.08,
           "Complete",
           1997,
           10,
           10
          ],
          [
           null,
           null,
           111.0,
           92.0,
           null,
           46,
           2.17,
           "Complete",
           1998,
           11,
           15
          ],
          [
           0.486,
           0.722,
           115.0,
           77.0,
           null,
           50,
           0.0,
           "Complete",
           1999,
           6,
           11
          ],
          [
           0.3,
           0.333,
           114.0,
           86.0,
           null,
           47,
           0.0,
           "Complete",
           2000,
           3,
           5
          ],
          [
           0.209,
           0.67,
           215.0,
           162.0,
           null,
           95,
           1.05,
           "Complete",
           2001,
           1,
           5
          ],
          [
           0.276,
           0.438,
           204.0,
           153.0,
           null,
           82,
           0.0,
           "Complete",
           2002,
           4,
           10
          ],
          [
           0.251,
           0.614,
           280.0,
           194.0,
           null,
           101,
           0.0,
           "Complete",
           2003,
           1,
           2
          ],
          [
           0.603,
           0.702,
           431.0,
           242.0,
           null,
           95,
           0.0,
           "Complete",
           2004,
           6,
           7
          ],
          [
           0.388,
           0.691,
           511.0,
           404.0,
           null,
           90,
           0.0,
           "Complete",
           2005,
           7,
           9
          ],
          [
           0.578,
           0.779,
           623.0,
           482.0,
           null,
           99,
           1.01,
           "Complete",
           2006,
           8,
           10
          ],
          [
           0.672,
           0.866,
           845.0,
           603.0,
           null,
           95,
           0.0,
           "Complete",
           2007,
           6,
           8
          ],
          [
           0.511,
           0.582,
           945.0,
           804.0,
           null,
           98,
           1.02,
           "Complete",
           2008,
           3,
           3
          ],
          [
           0.533,
           0.545,
           1163.0,
           1008.0,
           null,
           119,
           0.0,
           "Complete",
           2009,
           4,
           6
          ],
          [
           0.634,
           0.562,
           1206.0,
           1097.0,
           null,
           78,
           0.0,
           "Complete",
           2010,
           1,
           2
          ],
          [
           0.708,
           0.885,
           1571.0,
           1326.0,
           [
            [
             694,
             1.7,
             57,
             411,
             [
              [
               1902,
               [
                87,
                55
               ],
               37
              ]
             ]
            ]
           ],
           122,
           0.0,
           "Complete",
           2011,
           2,
           3
          ],
          [
           0.836,
           0.946,
           1904.0,
           1661.0,
           [
            [
             829,
             2.0,
             59,
             423,
             [
              [
               1902,
               [
                93,
                49
               ],
               47
              ]
             ]
            ]
           ],
           110,
           0.0,
           "Complete",
           2012,
           5,
           7
          ],
          [
           0.967,
           1.103,
           2301.0,
           1999.0,
           [
            [
             999,
             2.3,
             58,
             442,
             [
              [
               1902,
               [
                96,
                45
               ],
               53
              ]
             ]
            ]
           ],
           137,
           0.0,
           "Complete",
           2013,
           1,
           6
          ],
          [
           1.035,
           0.86,
           2349.0,
           2116.0,
           [
            [
             1255,
             2.6,
             63,
             492,
             [
              [
               1902,
               [
                97,
                43
               ],
               56
              ]
             ]
            ]
           ],
           128,
           0.0,
           "Complete",
           2014,
           3,
           3
          ],
          [
           0.971,
           0.76,
           2584.0,
           2333.0,
           [
            [
             1273,
             2.5,
             63,
             501,
             [
              [
               1902,
               [
                99,
                47
               ],
               53
              ]
             ]
            ]
           ],
           134,
           0.0,
           "Complete",
           2015,
           3,
           4
          ],
          [
           0.974,
           0.77,
           2837.0,
           2676.0,
           [
            [
             1516,
             3.0,
             70,
             510,
             [
              [
               1902,
               [
                103,
                50
               ],
               51
              ]
             ]
            ]
           ],
           120,
           0.83,
           "Complete",
           2016,
           5,
           6
          ],
          [
           0.956,
           0.73,
           3141.0,
           2992.0,
           [
            [
             1397,
             2.9,
             69,
             488,
             [
              [
               1902,
               [
                108,
                52
               ],
               52
              ]
             ]
            ]
           ],
           120,
           5.0,
           "Complete",
           2017,
           2,
           4
          ],
          [
           1.14,
           0.993,
           3436.0,
           3287.0,
           [
            [
             1608,
             3.3,
             70,
             485,
             [
              [
               1902,
               [
                112,
                52
               ],
               54
              ]
             ]
            ]
           ],
           134,
           0.0,
           "Complete",
           2018,
           6,
           8
          ],
          [
           1.293,
           1.119,
           4529.0,
           4286.0,
           [
            [
             1750,
             3.8,
             74,
             456,
             [
              [
               1902,
               [
                115,
                48
               ],
               58
              ]
             ]
            ]
           ],
           103,
           10.68,
           "Complete",
           2019,
           4,
           4
          ],
          [
           1.187,
           1.178,
           4703.0,
           4535.0,
           [
            [
             2106,
             4.7,
             75,
             448,
             [
              [
               1902,
               [
                124,
                44
               ],
               64
              ]
             ]
            ]
           ],
           114,
           0.0,
           "Complete",
           2020,
           7,
           7
          ],
          [
           1.121,
           1.169,
           5392.0,
           5094.0,
           [
            [
             2565,
             5.4,
             81,
             478,
             [
              [
               1902,
               [
                135,
                41
               ],
               70
              ]
             ]
            ]
           ],
           153,
           2.61,
           "Complete",
           2021,
           7,
           8
          ],
          [
           1.54,
           1.599,
           6751.0,
           6484.0,
           [
            [
             3603,
             7.3,
             86,
             492,
             [
              [
               1902,
               [
                137,
                25
               ],
               82
              ]
             ]
            ]
           ],
           157,
           3.82,
           "Complete",
           2022,
           21,
           25
          ],
          [
           null,
           null,
           5411.0,
           5011.0,
           [
            [
             3989,
             8.0,
             85,
             501,
             [
              [
               1902,
               [
                137,
                18
               ],
               87
              ]
             ]
            ]
           ],
           161,
           5.59,
           "In-Progress",
           2023,
           87,
           96
          ]
         ]
        ],
        [
         12073,
         [
          [
           null,
           null,
           257.0,
           231.0,
           null,
           40,
           25.0,
           "Complete",
           1996,
           5,
           5
          ],
          [
           null,
           null,
           221.0,
           219.0,
           null,
           28,
           0.0,
           "Complete",
           1997,
           4,
           4
          ],
          [
           null,
           null,
           230.0,
           225.0,
           null,
           61,
           0.0,
           "Complete",
           1998,
           1,
           1
          ],
          [
           0.255,
           0.314,
           199.0,
           182.0,
           null,
           36,
           2.78,
           "Complete",
           1999,
           7,
           7
          ],
          [
           0.179,
           0.587,
           244.0,
           237.0,
           null,
           44,
           0.0,
           "Complete",
           2000,
           2,
           2
          ],
          [
           0.272,
           0.542,
           259.0,
           257.0,
           null,
           48,
           0.0,
           "Complete",
           2001,
           3,
           3
          ],
          [
           0.259,
           0.735,
           264.0,
           247.0,
           null,
           42,
           0.0,
           "Complete",
           2002,
           0,
           0
          ],
          [
           0.194,
           0.407,
           341.0,
           331.0,
           null,
           57,
           0.0,
           "Complete",
           2003,
           1,
           2
          ],
          [
           0.2,
           0.288,
           377.0,
           349.0,
           null,
           41,
           0.0,
           "Complete",
           2004,
           6,
           6
          ],
          [
           0.436,
           0.47,
           528.0,
           497.0,
           null,
           32,
           0.0,
           "Complete",
           2005,
           1,
           1
          ],
          [
           0.296,
           0.471,
           568.0,
           567.0,
           null,
           29,
           0.0,
           "Complete",
           2006,
           0,
           0
          ],
          [
           0.272,
           0.382,
           734.0,
           706.0,
           null,
           35,
           0.0,
           "Complete",
           2007,
           1,
           3
          ],
          [
           0.266,
           0.516,
           886.0,
           864.0,
           null,
           38,
           0.0,
           "Complete",
           2008,
           1,
           1
          ],
          [
           0.392,
           0.608,
           1083.0,
           1062.0,
           null,
           36,
           0.0,
           "Complete",
           2009,
           1,
           1
          ],
          [
           0.245,
           0.324,
           1175.0,
           1166.0,
           null,
           19,
           0.0,
           "Complete",
           2010,
           0,
           0
          ],
          [
           0.542,
           1.093,
           1319.0,
           1305.0,
           [
            [
             156,
             1.3,
             49,
             120,
             [
              [
               3304,
               [
                787,
                266
               ],
               66
              ]
             ]
            ]
           ],
           41,
           0.0,
           "Complete",
           2011,
           1,
           1
          ],
          [
           0.503,
           0.627,
           1624.0,
           1566.0,
           [
            [
             164,
             1.0,
             47,
             159,
             [
              [
               3304,
               [
                836,
                379
               ],
               54
              ]
             ]
            ]
           ],
           71,
           0.0,
           "Complete",
           2012,
           2,
           2
          ],
          [
           0.516,
           0.72,
           1810.0,
           1716.0,
           [
            [
             199,
             1.0,
             46,
             196,
             [
              [
               3304,
               [
                888,
                423
               ],
               52
              ]
             ]
            ]
           ],
           76,
           0.0,
           "Complete",
           2013,
           0,
           0
          ],
          [
           0.508,
           1.039,
           1976.0,
           1902.0,
           [
            [
             378,
             1.6,
             60,
             235,
             [
              [
               3304,
               [
                909,
                280
               ],
               69
              ]
             ]
            ]
           ],
           59,
           0.0,
           "Complete",
           2014,
           0,
           0
          ],
          [
           0.891,
           1.471,
           2024.0,
           1968.0,
           [
            [
             594,
             2.2,
             64,
             273,
             [
              [
               3304,
               [
                940,
                213
               ],
               77
              ]
             ]
            ]
           ],
           83,
           0.0,
           "Complete",
           2015,
           1,
           1
          ],
          [
           0.572,
           1.203,
           2259.0,
           2215.0,
           [
            [
             707,
             2.4,
             55,
             290,
             [
              [
               3304,
               [
                978,
                196
               ],
               80
              ]
             ]
            ]
           ],
           82,
           0.0,
           "Complete",
           2016,
           0,
           0
          ],
          [
           0.617,
           1.17,
           2470.0,
           2410.0,
           [
            [
             597,
             2.0,
             57,
             295,
             [
              [
               3304,
               [
                1024,
                310
               ],
               69
              ]
             ]
            ]
           ],
           76,
           0.0,
           "Complete",
           2017,
           1,
           1
          ],
          [
           0.673,
           1.117,
           2523.0,
           2478.0,
           [
            [
             673,
             2.1,
             62,
             316,
             [
              [
               3304,
               [
                1179,
                315
               ],
               73
              ]
             ]
            ]
           ],
           87,
           0.0,
           "Complete",
           2018,
           5,
           6
          ],
          [
           0.737,
           1.365,
           3066.0,
           2976.0,
           [
            [
             903,
             2.5,
             61,
             362,
             [
              [
               3304,
               [
                1254,
                279
               ],
               77
              ]
             ]
            ]
           ],
           128,
           0.0,
           "Complete",
           2019,
           5,
           7
          ],
          [
           0.921,
           1.524,
           3642.0,
           3492.0,
           [
            [
             1365,
             3.1,
             67,
             440,
             [
              [
               3304,
               [
                1319,
                243
               ],
               81
              ]
             ]
            ]
           ],
           165,
           0.0,
           "Complete",
           2020,
           12,
           12
          ],
          [
           0.923,
           1.517,
           4334.0,
           4222.0,
           [
            [
             1834,
             3.6,
             67,
             512,
             [
              [
               3304,
               [
                1406,
                269
               ],
               80
              ]
             ]
            ]
           ],
           140,
           0.0,
           "Complete",
           2021,
           15,
           16
          ],
          [
           1.017,
           1.68,
           5521.0,
           5435.0,
           [
            [
             2818,
             4.9,
             74,
             578,
             [
              [
               3304,
               [
                1469,
                213
               ],
               85
              ]
             ]
            ]
           ],
           151,
           0.0,
           "Complete",
           2022,
           42,
           47
          ],
          [
           null,
           null,
           4196.0,
           4118.0,
           [
            [
             2759,
             5.0,
             70,
             547,
             [
              [
               3304,
               [
                1471,
                194
               ],
               86
              ]
             ]
            ]
           ],
           94,
           0.0,
           "In-Progress",
           2023,
           79,
           80
          ]
         ]
        ],
        [
         12085,
         [
          [
           null,
           null,
           122.0,
           63.0,
           null,
           36,
           5.56,
           "Complete",
           1996,
           2,
           3
          ],
          [
           null,
           null,
           113.0,
           93.0,
           null,
           30,
           13.33,
           "Complete",
           1997,
           5,
           5
          ],
          [
           null,
           null,
           108.0,
           69.0,
           null,
           23,
           30.43,
           "Complete",
           1998,
           4,
           5
          ],
          [
           0.182,
           0.765,
           83.0,
           48.0,
           null,
           13,
           0.0,
           "Complete",
           1999,
           1,
           1
          ],
          [
           0.611,
           1.033,
           151.0,
           96.0,
           null,
           22,
           4.55,
           "Complete",
           2000,
           2,
           3
          ],
          [
           0.635,
           0.735,
           332.0,
           275.0,
           null,
           16,
           6.25,
           "Complete",
           2001,
           0,
           0
          ],
          [
           0.295,
           0.68,
           233.0,
           189.0,
           null,
           11,
           18.18,
           "Complete",
           2002,
           0,
           0
          ],
          [
           0.25,
           0.86,
           213.0,
           156.0,
           null,
           12,
           16.67,
           "Complete",
           2003,
           2,
           2
          ],
          [
           0.846,
           1.831,
           179.0,
           151.0,
           null,
           19,
           10.53,
           "Complete",
           2004,
           5,
           6
          ],
          [
           0.905,
           1.751,
           261.0,
           220.0,
           null,
           20,
           5.0,
           "Complete",
           2005,
           6,
           8
          ],
          [
           0.162,
           1.549,
           252.0,
           226.0,
           null,
           23,
           13.04,
           "Complete",
           2006,
           5,
           8
          ],
          [
           0.94,
           1.603,
           265.0,
           221.0,
           null,
           17,
           52.94,
           "Complete",
           2007,
           2,
           2
          ],
          [
           0.598,
           1.915,
           338.0,
           266.0,
           null,
           23,
           8.7,
           "Complete",
           2008,
           4,
           6
          ],
          [
           0.313,
           0.822,
           209.0,
           144.0,
           null,
           21,
           9.52,
           "Complete",
           2009,
           3,
           3
          ],
          [
           1.048,
           1.787,
           350.0,
           265.0,
           null,
           28,
           35.71,
           "Complete",
           2010,
           8,
           8
          ],
          [
           0.605,
           1.887,
           412.0,
           270.0,
           [
            [
             99,
             1.2,
             38,
             85,
             [
              [
               3309,
               [
                174,
                66
               ],
               62
              ],
              [
               1201,
               [
                264,
                141
               ],
               46
              ]
             ]
            ]
           ],
           37,
           27.03,
           "Complete",
           2011,
           12,
           12
          ],
          [
           0.982,
           1.631,
           464.0,
           391.0,
           [
            [
             108,
             1.2,
             45,
             92,
             [
              [
               3309,
               [
                182,
                63
               ],
               65
              ],
              [
               1201,
               [
                266,
                149
               ],
               44
              ]
             ]
            ]
           ],
           24,
           20.83,
           "Complete",
           2012,
           4,
           5
          ],
          [
           0.556,
           0.896,
           436.0,
           354.0,
           [
            [
             121,
             1.3,
             45,
             96,
             [
              [
               3309,
               [
                190,
                64
               ],
               66
              ],
              [
               1201,
               [
                267,
                148
               ],
               44
              ]
             ]
            ]
           ],
           28,
           3.57,
           "Complete",
           2013,
           5,
           6
          ],
          [
           0.742,
           1.686,
           440.0,
           338.0,
           [
            [
             107,
             1.1,
             46,
             98,
             [
              [
               3309,
               [
                195,
                82
               ],
               58
              ],
              [
               1201,
               [
                267,
                168
               ],
               37
              ]
             ]
            ]
           ],
           25,
           12.0,
           "Complete",
           2014,
           7,
           9
          ],
          [
           0.531,
           0.849,
           564.0,
           454.0,
           [
            [
             74,
             1.1,
             53,
             66,
             [
              [
               3309,
               [
                197,
                91
               ],
               54
              ],
              [
               1201,
               [
                267,
                177
               ],
               33
              ]
             ]
            ]
           ],
           26,
           88.46,
           "Complete",
           2015,
           4,
           4
          ],
          [
           0.26,
           0.794,
           485.0,
           431.0,
           [
            [
             90,
             1.7,
             66,
             53,
             [
              [
               3309,
               [
                203,
                56
               ],
               72
              ],
              [
               1201,
               [
                250,
                129
               ],
               48
              ]
             ]
            ]
           ],
           22,
           68.18,
           "Complete",
           2016,
           4,
           4
          ],
          [
           0.488,
           1.589,
           530.0,
           448.0,
           [
            [
             79,
             1.0,
             39,
             83,
             [
              [
               3309,
               [
                210,
                94
               ],
               55
              ],
              [
               1201,
               [
                259,
                177
               ],
               31
              ]
             ]
            ]
           ],
           19,
           15.79,
           "Complete",
           2017,
           7,
           8
          ],
          [
           0.453,
           1.224,
           429.0,
           325.0,
           [
            [
             82,
             1.0,
             40,
             81,
             [
              [
               3309,
               [
                219,
                97
               ],
               55
              ],
              [
               1201,
               [
                283,
                178
               ],
               37
              ]
             ]
            ]
           ],
           22,
           95.45,
           "Complete",
           2018,
           6,
           7
          ],
          [
           0.232,
           1.33,
           545.0,
           380.0,
           [
            [
             67,
             1.0,
             36,
             67,
             [
              [
               3309,
               [
                227,
                110
               ],
               51
              ],
              [
               1201,
               [
                295,
                176
               ],
               40
              ]
             ]
            ]
           ],
           25,
           16.0,
           "Complete",
           2019,
           8,
           8
          ],
          [
           0.153,
           0.993,
           449.0,
           449.0,
           [
            [
             58,
             0.9,
             37,
             62,
             [
              [
               3309,
               [
                235,
                125
               ],
               47
              ],
              [
               1201,
               [
                306,
                183
               ],
               40
              ]
             ]
            ]
           ],
           0,
           0.0,
           "Complete",
           2020,
           0,
           0
          ],
          [
           0.244,
           0.937,
           425.0,
           404.0,
           [
            [
             65,
             1.0,
             39,
             62,
             [
              [
               1201,
               [
                376,
                193
               ],
               48
              ],
              [
               3309,
               [
                247,
                133
               ],
               46
              ]
             ]
            ]
           ],
           20,
           0.0,
           "Complete",
           2021,
           12,
           13
          ],
          [
           0.247,
           1.616,
           612.0,
           563.0,
           [
            [
             47,
             0.8,
             37,
             57,
             [
              [
               1201,
               [
                440,
                222
               ],
               49
              ],
              [
               3309,
               [
                266,
                160
               ],
               39
              ]
             ]
            ]
           ],
           17,
           29.41,
           "Complete",
           2022,
           16,
           16
          ],
          [
           null,
           null,
           282.0,
           282.0,
           [
            [
             9,
             0.3,
             24,
             33,
             [
              [
               1201,
               [
                440,
                317
               ],
               28
              ],
              [
               3309,
               [
                265,
                219
               ],
               17
              ]
             ]
            ]
           ],
           0,
           0.0,
           "In-Progress",
           2023,
           0,
           0
          ]
         ]
        ],
        [
         12111,
         [
          [
           null,
           null,
           497.0,
           493.0,
           null,
           19,
           0.0,
           "Complete",
           1996,
           1,
           1
          ],
          [
           null,
           null,
           543.0,
           535.0,
           null,
           19,
           0.0,
           "Complete",
           1997,
           0,
           0
          ],
          [
           null,
           null,
           484.0,
           473.0,
           null,
           22,
           0.0,
           "Complete",
           1998,
           2,
           2
          ],
          [
           0.403,
           0.687,
           578.0,
           570.0,
           null,
           19,
           15.79,
           "Complete",
           1999,
           0,
           0
          ],
          [
           0.625,
           1.007,
           623.0,
           616.0,
           null,
           19,
           10.53,
           "Complete",
           2000,
           1,
           1
          ],
          [
           0.593,
           0.886,
           661.0,
           653.0,
           null,
           17,
           0.0,
           "Complete",
           2001,
           0,
           0
          ],
          [
           0.653,
           0.943,
           705.0,
           695.0,
           null,
           19,
           10.53,
           "Complete",
           2002,
           1,
           1
          ],
          [
           0.546,
           1.098,
           712.0,
           705.0,
           null,
           21,
           0.0,
           "Complete",
           2003,
           1,
           1
          ],
          [
           0.343,
           0.55,
           711.0,
           708.0,
           null,
           18,
           11.11,
           "Complete",
           2004,
           2,
           2
          ],
          [
           0.579,
           0.771,
           835.0,
           828.0,
           null,
           13,
           0.0,
           "Complete",
           2005,
           1,
           1
          ],
          [
           0.466,
           0.587,
           889.0,
           883.0,
           null,
           13,
           23.08,
           "Complete",
           2006,
           0,
           0
          ],
          [
           0.623,
           0.747,
           859.0,
           851.0,
           null,
           13,
           15.38,
           "Complete",
           2007,
           0,
           0
          ],
          [
           0.547,
           1.307,
           879.0,
           876.0,
           null,
           14,
           7.14,
           "Complete",
           2008,
           0,
           0
          ],
          [
           0.451,
           0.651,
           896.0,
           893.0,
           null,
           17,
           0.0,
           "Complete",
           2009,
           0,
           0
          ],
          [
           0.38,
           0.711,
           818.0,
           815.0,
           null,
           18,
           0.0,
           "Complete",
           2010,
           0,
           0
          ],
          [
           0.475,
           0.623,
           858.0,
           858.0,
           [
            [
             136,
             2.0,
             52,
             67,
             [
              [
               3202,
               [
                174,
                76
               ],
               56
              ],
              [
               2738,
               [
                442,
                194
               ],
               56
              ]
             ]
            ]
           ],
           19,
           0.0,
           "Complete",
           2011,
           0,
           0
          ],
          [
           0.478,
           0.671,
           952.0,
           949.0,
           [
            [
             159,
             2.3,
             64,
             70,
             [
              [
               3202,
               [
                185,
                73
               ],
               60
              ],
              [
               2738,
               [
                454,
                185
               ],
               59
              ]
             ]
            ]
           ],
           16,
           6.25,
           "Complete",
           2012,
           0,
           0
          ],
          [
           0.509,
           0.647,
           1043.0,
           1040.0,
           [
            [
             144,
             1.9,
             58,
             74,
             [
              [
               2738,
               [
                463,
                226
               ],
               51
              ],
              [
               3202,
               [
                186,
                97
               ],
               48
              ]
             ]
            ]
           ],
           22,
           0.0,
           "Complete",
           2013,
           1,
           1
          ],
          [
           0.486,
           0.523,
           989.0,
           986.0,
           [
            [
             151,
             2.0,
             64,
             75,
             [
              [
               2738,
               [
                468,
                220
               ],
               53
              ],
              [
               3202,
               [
                191,
                95
               ],
               50
              ]
             ]
            ]
           ],
           19,
           5.26,
           "Complete",
           2014,
           0,
           0
          ],
          [
           0.537,
           0.712,
           891.0,
           876.0,
           [
            [
             174,
             2.1,
             75,
             81,
             [
              [
               2738,
               [
                479,
                223
               ],
               53
              ],
              [
               3202,
               [
                195,
                100
               ],
               48
              ]
             ]
            ]
           ],
           26,
           0.0,
           "Complete",
           2015,
           0,
           0
          ],
          [
           0.682,
           0.523,
           971.0,
           967.0,
           [
            [
             263,
             2.8,
             83,
             94,
             [
              [
               2738,
               [
                481,
                198
               ],
               58
              ],
              [
               3202,
               [
                200,
                83
               ],
               58
              ]
             ]
            ]
           ],
           30,
           0.0,
           "Complete",
           2016,
           0,
           0
          ],
          [
           0.783,
           0.881,
           1014.0,
           1003.0,
           [
            [
             328,
             3.1,
             72,
             107,
             [
              [
               3202,
               [
                215,
                79
               ],
               63
              ],
              [
               2738,
               [
                491,
                183
               ],
               62
              ]
             ]
            ]
           ],
           35,
           2.86,
           "Complete",
           2017,
           1,
           1
          ],
          [
           0.89,
           1.039,
           1210.0,
           1204.0,
           [
            [
             443,
             3.6,
             69,
             124,
             [
              [
               3202,
               [
                221,
                63
               ],
               71
              ],
              [
               2738,
               [
                504,
                157
               ],
               68
              ]
             ]
            ]
           ],
           39,
           5.13,
           "Complete",
           2018,
           1,
           1
          ],
          [
           0.665,
           0.819,
           1076.0,
           1069.0,
           [
            [
             432,
             3.3,
             73,
             131,
             [
              [
               2738,
               [
                506,
                179
               ],
               64
              ],
              [
               3202,
               [
                227,
                83
               ],
               63
              ]
             ]
            ]
           ],
           33,
           12.12,
           "Complete",
           2019,
           2,
           2
          ],
          [
           0.896,
           1.032,
           1392.0,
           1388.0,
           [
            [
             547,
             4.1,
             78,
             134,
             [
              [
               3202,
               [
                227,
                66
               ],
               71
              ],
              [
               2738,
               [
                502,
                154
               ],
               69
              ]
             ]
            ]
           ],
           35,
           0.0,
           "Complete",
           2020,
           1,
           1
          ],
          [
           1.073,
           1.378,
           1643.0,
           1642.0,
           [
            [
             670,
             5.0,
             83,
             133,
             [
              [
               3202,
               [
                230,
                59
               ],
               74
              ],
              [
               2738,
               [
                529,
                137
               ],
               74
              ]
             ]
            ]
           ],
           33,
           3.03,
           "Complete",
           2021,
           1,
           1
          ],
          [
           1.331,
           1.736,
           1921.0,
           1904.0,
           [
            [
             910,
             7.0,
             86,
             130,
             [
              [
               2738,
               [
                531,
                84
               ],
               84
              ],
              [
               3202,
               [
                241,
                46
               ],
               81
              ]
             ]
            ]
           ],
           62,
           3.23,
           "Complete",
           2022,
           21,
           21
          ],
          [
           null,
           null,
           1363.0,
           1354.0,
           [
            [
             577,
             4.5,
             86,
             128,
             [
              [
               2738,
               [
                531,
                182
               ],
               65
              ],
              [
               3202,
               [
                241,
                87
               ],
               64
              ]
             ]
            ]
           ],
           42,
           4.76,
           "In-Progress",
           2023,
           20,
           20
          ]
         ]
        ],
        [
         12127,
         [
          [
           null,
           null,
           3404.0,
           2929.0,
           null,
           104,
           0.0,
           "Complete",
           1996,
           2,
           2
          ],
          [
           null,
           null,
           3401.0,
           2793.0,
           null,
           120,
           0.0,
           "Complete",
           1997,
           0,
           0
          ],
          [
           null,
           null,
           3792.0,
           3348.0,
           null,
           88,
           0.0,
           "Complete",
           1998,
           2,
           2
          ],
          [
           1.597,
           1.529,
           3925.0,
           3399.0,
           null,
           102,
           2.94,
           "Complete",
           1999,
           2,
           2
          ],
          [
           1.934,
           1.523,
           4293.0,
           3851.0,
           null,
           89,
           1.12,
           "Complete",
           2000,
           1,
           1
          ],
          [
           2.013,
           2.197,
           5382.0,
           4876.0,
           null,
           104,
           0.0,
           "Complete",
           2001,
           0,
           0
          ],
          [
           2.24,
           1.734,
           5501.0,
           4966.0,
           null,
           109,
           0.0,
           "Complete",
           2002,
           0,
           0
          ],
          [
           1.849,
           1.645,
           5630.0,
           5041.0,
           null,
           107,
           5.61,
           "Complete",
           2003,
           0,
           0
          ],
          [
           1.89,
           1.922,
           6849.0,
           6371.0,
           null,
           99,
           1.01,
           "Complete",
           2004,
           1,
           1
          ],
          [
           2.21,
           2.296,
           8042.0,
           7529.0,
           null,
           117,
           0.0,
           "Complete",
           2005,
           1,
           1
          ],
          [
           2.408,
           2.089,
           8875.0,
           8291.0,
           null,
           136,
           0.0,
           "Complete",
           2006,
           1,
           1
          ],
          [
           2.449,
           2.226,
           11018.0,
           9675.0,
           null,
           268,
           0.0,
           "Complete",
           2007,
           0,
           0
          ],
          [
           2.391,
           1.774,
           12581.0,
           11807.0,
           null,
           131,
           0.0,
           "Complete",
           2008,
           0,
           0
          ],
          [
           2.17,
           1.593,
           12314.0,
           11551.0,
           null,
           154,
           0.0,
           "Complete",
           2009,
           2,
           2
          ],
          [
           2.008,
           1.586,
           13169.0,
           12454.0,
           null,
           162,
           0.0,
           "Complete",
           2010,
           1,
           1
          ],
          [
           2.353,
           1.611,
           14766.0,
           14136.0,
           [
            [
             3301,
             5.9,
             79,
             562,
             [
              [
               3203,
               [
                233,
                10
               ],
               95
              ],
              [
               1201,
               [
                264,
                16
               ],
               94
              ],
              [
               3204,
               [
                246,
                22
               ],
               91
              ],
              [
               2738,
               [
                442,
                46
               ],
               89
              ],
              [
               3205,
               [
                111,
                13
               ],
               88
              ]
             ]
            ]
           ],
           121,
           0.0,
           "Complete",
           2011,
           0,
           0
          ],
          [
           2.472,
           1.842,
           17164.0,
           16713.0,
           [
            [
             3780,
             7.1,
             81,
             534,
             [
              [
               3203,
               [
                236,
                7
               ],
               97
              ],
              [
               1201,
               [
                266,
                10
               ],
               96
              ],
              [
               3205,
               [
                115,
                5
               ],
               96
              ],
              [
               3204,
               [
                261,
                12
               ],
               95
              ],
              [
               2738,
               [
                454,
                35
               ],
               92
              ]
             ]
            ]
           ],
           103,
           0.0,
           "Complete",
           2012,
           1,
           1
          ],
          [
           2.294,
           1.809,
           17895.0,
           17458.0,
           [
            [
             3711,
             7.5,
             81,
             496,
             [
              [
               3205,
               [
                118,
                4
               ],
               97
              ],
              [
               3203,
               [
                241,
                9
               ],
               96
              ],
              [
               1201,
               [
                267,
                11
               ],
               96
              ],
              [
               3204,
               [
                267,
                13
               ],
               95
              ],
              [
               2738,
               [
                463,
                32
               ],
               93
              ]
             ]
            ]
           ],
           117,
           0.0,
           "Complete",
           2013,
           2,
           2
          ],
          [
           2.652,
           1.853,
           19103.0,
           18590.0,
           [
            [
             3200,
             6.9,
             77,
             465,
             [
              [
               1201,
               [
                267,
                10
               ],
               96
              ],
              [
               3205,
               [
                118,
                5
               ],
               96
              ],
              [
               3203,
               [
                242,
                10
               ],
               96
              ],
              [
               3204,
               [
                271,
                13
               ],
               95
              ],
              [
               2738,
               [
                468,
                41
               ],
               91
              ]
             ]
            ]
           ],
           132,
           0.0,
           "Complete",
           2014,
           2,
           2
          ],
          [
           2.487,
           1.867,
           19298.0,
           18709.0,
           [
            [
             3222,
             6.7,
             78,
             479,
             [
              [
               1201,
               [
                267,
                12
               ],
               95
              ],
              [
               3203,
               [
                246,
                12
               ],
               95
              ],
              [
               3205,
               [
                119,
                7
               ],
               94
              ],
              [
               3204,
               [
                276,
                17
               ],
               94
              ],
              [
               2738,
               [
                479,
                44
               ],
               90
              ]
             ]
            ]
           ],
           138,
           0.0,
           "Complete",
           2015,
           0,
           0
          ],
          [
           2.448,
           1.66,
           19238.0,
           18768.0,
           [
            [
             3519,
             7.2,
             81,
             490,
             [
              [
               3203,
               [
                251,
                10
               ],
               96
              ],
              [
               3205,
               [
                125,
                9
               ],
               93
              ],
              [
               2738,
               [
                481,
                44
               ],
               90
              ]
             ]
            ]
           ],
           110,
           7.27,
           "Complete",
           2016,
           0,
           0
          ],
          [
           2.619,
           1.993,
           19978.0,
           19263.0,
           [
            [
             3977,
             7.5,
             81,
             530,
             [
              [
               3203,
               [
                259,
                9
               ],
               96
              ],
              [
               3205,
               [
                132,
                5
               ],
               96
              ],
              [
               2738,
               [
                491,
                35
               ],
               92
              ]
             ]
            ]
           ],
           163,
           4.29,
           "Complete",
           2017,
           6,
           7
          ],
          [
           2.288,
           1.865,
           20061.0,
           19647.0,
           [
            [
             3760,
             7.3,
             79,
             516,
             [
              [
               3205,
               [
                137,
                4
               ],
               97
              ],
              [
               3203,
               [
                270,
                11
               ],
               96
              ],
              [
               2738,
               [
                504,
                40
               ],
               92
              ]
             ]
            ]
           ],
           118,
           0.0,
           "Complete",
           2018,
           0,
           0
          ],
          [
           2.326,
           1.874,
           21055.0,
           20607.0,
           [
            [
             3866,
             7.4,
             80,
             519,
             [
              [
               3203,
               [
                275,
                10
               ],
               96
              ],
              [
               3205,
               [
                145,
                7
               ],
               95
              ],
              [
               2738,
               [
                506,
                36
               ],
               92
              ]
             ]
            ]
           ],
           145,
           0.69,
           "Complete",
           2019,
           2,
           2
          ],
          [
           2.506,
           1.96,
           22150.0,
           21472.0,
           [
            [
             4393,
             8.0,
             82,
             546,
             [
              [
               3203,
               [
                283,
                11
               ],
               96
              ],
              [
               3205,
               [
                148,
                8
               ],
               94
              ],
              [
               2738,
               [
                502,
                36
               ],
               92
              ]
             ]
            ]
           ],
           143,
           2.1,
           "Complete",
           2020,
           4,
           4
          ],
          [
           2.022,
           1.722,
           23685.0,
           23097.0,
           [
            [
             3625,
             6.9,
             79,
             528,
             [
              [
               3205,
               [
                150,
                13
               ],
               91
              ],
              [
               3203,
               [
                292,
                29
               ],
               90
              ],
              [
               2738,
               [
                529,
                78
               ],
               85
              ]
             ]
            ]
           ],
           142,
           0.7,
           "Complete",
           2021,
           10,
           11
          ],
          [
           1.787,
           1.66,
           25481.0,
           24807.0,
           [
            [
             4326,
             7.9,
             84,
             550,
             [
              [
               3205,
               [
                152,
                11
               ],
               93
              ],
              [
               3203,
               [
                292,
                24
               ],
               91
              ],
              [
               2738,
               [
                531,
                67
               ],
               87
              ]
             ]
            ]
           ],
           140,
           0.71,
           "Complete",
           2022,
           23,
           27
          ],
          [
           null,
           null,
           17855.0,
           17447.0,
           [
            [
             3219,
             6.4,
             78,
             500,
             [
              [
               3205,
               [
                153,
                13
               ],
               91
              ],
              [
               3203,
               [
                292,
                33
               ],
               88
              ],
              [
               2738,
               [
                531,
                91
               ],
               82
              ]
             ]
            ]
           ],
           94,
           3.19,
           "In-Progress",
           2023,
           68,
           73
          ]
         ]
        ],
        [
         12128,
         [
          [
           null,
           null,
           263.0,
           245.0,
           null,
           32,
           3.13,
           "Complete",
           1996,
           1,
           2
          ],
          [
           null,
           null,
           289.0,
           265.0,
           null,
           28,
           14.29,
           "Complete",
           1997,
           1,
           1
          ],
          [
           null,
           null,
           310.0,
           281.0,
           null,
           34,
           2.94,
           "Complete",
           1998,
           2,
           2
          ],
          [
           0.549,
           0.681,
           376.0,
           354.0,
           null,
           36,
           13.89,
           "Complete",
           1999,
           6,
           6
          ],
          [
           0.74,
           0.689,
           434.0,
           405.0,
           null,
           36,
           22.22,
           "Complete",
           2000,
           3,
           3
          ],
          [
           0.491,
           0.687,
           498.0,
           468.0,
           null,
           46,
           6.52,
           "Complete",
           2001,
           2,
           2
          ],
          [
           0.614,
           0.796,
           509.0,
           477.0,
           null,
           45,
           2.22,
           "Complete",
           2002,
           0,
           0
          ],
          [
           0.718,
           0.933,
           611.0,
           570.0,
           null,
           43,
           4.65,
           "Complete",
           2003,
           3,
           3
          ],
          [
           0.903,
           0.849,
           761.0,
           724.0,
           null,
           48,
           20.83,
           "Complete",
           2004,
           1,
           1
          ],
          [
           0.567,
           0.775,
           858.0,
           816.0,
           null,
           44,
           20.45,
           "Complete",
           2005,
           4,
           4
          ],
          [
           0.604,
           0.588,
           892.0,
           844.0,
           null,
           47,
           14.89,
           "Complete",
           2006,
           3,
           3
          ],
          [
           0.824,
           1.27,
           1095.0,
           1016.0,
           null,
           58,
           5.17,
           "Complete",
           2007,
           2,
           2
          ],
          [
           0.622,
           0.718,
           1298.0,
           1213.0,
           null,
           69,
           13.04,
           "Complete",
           2008,
           3,
           4
          ],
          [
           0.508,
           0.617,
           1202.0,
           1169.0,
           null,
           47,
           4.26,
           "Complete",
           2009,
           3,
           3
          ],
          [
           0.688,
           0.851,
           1395.0,
           1332.0,
           null,
           47,
           0.0,
           "Complete",
           2010,
           1,
           1
          ],
          [
           0.867,
           1.087,
           1590.0,
           1546.0,
           [
            [
             598,
             2.9,
             64,
             203,
             [
              [
               3203,
               [
                233,
                56
               ],
               76
              ]
             ]
            ]
           ],
           47,
           6.38,
           "Complete",
           2011,
           0,
           0
          ],
          [
           0.924,
           0.89,
           1841.0,
           1793.0,
           [
            [
             602,
             3.2,
             67,
             186,
             [
              [
               3203,
               [
                236,
                52
               ],
               78
              ]
             ]
            ]
           ],
           48,
           0.0,
           "Complete",
           2012,
           2,
           2
          ],
          [
           0.769,
           1.028,
           2142.0,
           2083.0,
           [
            [
             573,
             3.0,
             68,
             188,
             [
              [
               3203,
               [
                241,
                69
               ],
               71
              ]
             ]
            ]
           ],
           48,
           2.08,
           "Complete",
           2013,
           0,
           0
          ],
          [
           0.998,
           1.056,
           2172.0,
           2104.0,
           [
            [
             582,
             2.8,
             73,
             205,
             [
              [
               3203,
               [
                242,
                77
               ],
               68
              ]
             ]
            ]
           ],
           64,
           1.56,
           "Complete",
           2014,
           0,
           0
          ],
          [
           0.953,
           0.955,
           2187.0,
           2116.0,
           [
            [
             674,
             3.1,
             78,
             215,
             [
              [
               3203,
               [
                246,
                75
               ],
               69
              ]
             ]
            ]
           ],
           56,
           1.79,
           "Complete",
           2015,
           1,
           1
          ],
          [
           0.871,
           1.086,
           2106.0,
           2046.0,
           [
            [
             768,
             3.3,
             74,
             231,
             [
              [
               3203,
               [
                251,
                68
               ],
               73
              ]
             ]
            ]
           ],
           64,
           3.13,
           "Complete",
           2016,
           5,
           5
          ],
          [
           0.976,
           0.894,
           2282.0,
           2203.0,
           [
            [
             801,
             3.4,
             71,
             235,
             [
              [
               3203,
               [
                259,
                69
               ],
               73
              ]
             ]
            ]
           ],
           56,
           5.36,
           "Complete",
           2017,
           2,
           2
          ],
          [
           0.707,
           0.894,
           2271.0,
           2233.0,
           [
            [
             686,
             3.0,
             69,
             227,
             [
              [
               3203,
               [
                270,
                79
               ],
               70
              ]
             ]
            ]
           ],
           58,
           0.0,
           "Complete",
           2018,
           4,
           4
          ],
          [
           0.805,
           0.871,
           2486.0,
           2441.0,
           [
            [
             652,
             2.9,
             71,
             226,
             [
              [
               3203,
               [
                275,
                88
               ],
               68
              ]
             ]
            ]
           ],
           55,
           0.0,
           "Complete",
           2019,
           1,
           1
          ],
          [
           0.851,
           0.778,
           2548.0,
           2463.0,
           [
            [
             623,
             2.8,
             66,
             221,
             [
              [
               3203,
               [
                283,
                98
               ],
               65
              ]
             ]
            ]
           ],
           68,
           1.47,
           "Complete",
           2020,
           4,
           4
          ],
          [
           0.781,
           0.893,
           2852.0,
           2760.0,
           [
            [
             782,
             3.6,
             73,
             218,
             [
              [
               3203,
               [
                292,
                96
               ],
               67
              ]
             ]
            ]
           ],
           59,
           3.39,
           "Complete",
           2021,
           5,
           5
          ],
          [
           0.858,
           1.113,
           3042.0,
           2987.0,
           [
            [
             918,
             4.1,
             75,
             224,
             [
              [
               3203,
               [
                292,
                99
               ],
               66
              ]
             ]
            ]
           ],
           53,
           1.89,
           "Complete",
           2022,
           20,
           20
          ],
          [
           null,
           null,
           2047.0,
           2014.0,
           [
            [
             628,
             2.9,
             66,
             213,
             [
              [
               3203,
               [
                292,
                126
               ],
               57
              ]
             ]
            ]
           ],
           47,
           0.0,
           "In-Progress",
           2023,
           40,
           40
          ]
         ]
        ],
        [
         12138,
         [
          [
           null,
           null,
           208.0,
           208.0,
           null,
           203,
           0.0,
           "Complete",
           1996,
           64,
           64
          ],
          [
           null,
           null,
           256.0,
           256.0,
           null,
           175,
           0.0,
           "Complete",
           1997,
           45,
           47
          ],
          [
           null,
           null,
           261.0,
           261.0,
           null,
           214,
           0.0,
           "Complete",
           1998,
           82,
           84
          ],
          [
           0.346,
           null,
           365.0,
           365.0,
           null,
           151,
           0.0,
           "Complete",
           1999,
           45,
           49
          ],
          [
           0.317,
           null,
           284.0,
           227.0,
           null,
           146,
           0.0,
           "Complete",
           2000,
           52,
           57
          ],
          [
           0.264,
           0.444,
           407.0,
           333.0,
           null,
           160,
           0.0,
           "Complete",
           2001,
           48,
           50
          ],
          [
           0.406,
           0.743,
           451.0,
           401.0,
           null,
           194,
           0.0,
           "Complete",
           2002,
           84,
           90
          ],
          [
           0.397,
           0.482,
           493.0,
           436.0,
           null,
           151,
           0.0,
           "Complete",
           2003,
           57,
           57
          ],
          [
           0.371,
           0.531,
           525.0,
           440.0,
           null,
           200,
           0.0,
           "Complete",
           2004,
           84,
           91
          ],
          [
           0.361,
           0.42,
           538.0,
           471.0,
           null,
           177,
           0.0,
           "Complete",
           2005,
           81,
           84
          ],
          [
           0.23,
           0.306,
           434.0,
           387.0,
           null,
           118,
           0.0,
           "Complete",
           2006,
           45,
           47
          ],
          [
           0.223,
           0.227,
           368.0,
           336.0,
           null,
           156,
           0.0,
           "Complete",
           2007,
           50,
           54
          ],
          [
           0.261,
           0.413,
           487.0,
           392.0,
           null,
           180,
           0.0,
           "Complete",
           2008,
           96,
           101
          ],
          [
           0.238,
           0.26,
           355.0,
           310.0,
           null,
           114,
           0.0,
           "Complete",
           2009,
           40,
           45
          ],
          [
           0.246,
           0.429,
           448.0,
           383.0,
           null,
           125,
           0.0,
           "Complete",
           2010,
           55,
           57
          ],
          [
           0.232,
           0.332,
           452.0,
           402.0,
           [
            [
             377,
             0.8,
             29,
             494,
             [
              [
               2208,
               [
                589,
                379
               ],
               35
              ],
              [
               2504,
               [
                183,
                141
               ],
               23
              ]
             ]
            ]
           ],
           122,
           0.0,
           "Complete",
           2011,
           44,
           44
          ],
          [
           0.23,
           0.25,
           372.0,
           345.0,
           [
            [
             402,
             0.9,
             33,
             436,
             [
              [
               2208,
               [
                615,
                371
               ],
               39
              ],
              [
               2504,
               [
                193,
                140
               ],
               27
              ]
             ]
            ]
           ],
           79,
           0.0,
           "Complete",
           2012,
           21,
           21
          ],
          [
           0.206,
           0.349,
           406.0,
           385.0,
           [
            [
             301,
             0.7,
             35,
             413,
             [
              [
               2208,
               [
                631,
                444
               ],
               29
              ],
              [
               2504,
               [
                199,
                164
               ],
               17
              ]
             ]
            ]
           ],
           91,
           0.0,
           "Complete",
           2013,
           40,
           43
          ],
          [
           0.264,
           0.327,
           367.0,
           346.0,
           [
            [
             289,
             0.8,
             36,
             363,
             [
              [
               2208,
               [
                651,
                438
               ],
               32
              ],
              [
               2504,
               [
                207,
                168
               ],
               19
              ]
             ]
            ]
           ],
           75,
           0.0,
           "Complete",
           2014,
           34,
           34
          ],
          [
           0.188,
           0.38,
           346.0,
           346.0,
           [
            [
             235,
             1.0,
             39,
             242,
             [
              [
               2208,
               [
                660,
                406
               ],
               38
              ],
              [
               2504,
               [
                213,
                154
               ],
               27
              ]
             ]
            ]
           ],
           0,
           0.0,
           "Complete",
           2015,
           0,
           0
          ],
          [
           0.139,
           0.092,
           290.0,
           290.0,
           null,
           0,
           0.0,
           "Complete",
           2016,
           0,
           0
          ],
          [
           0.153,
           0.288,
           327.0,
           327.0,
           null,
           0,
           0.0,
           "Complete",
           2017,
           0,
           0
          ],
          [
           null,
           null,
           250.0,
           250.0,
           null,
           0,
           0.0,
           "Complete",
           2018,
           0,
           0
          ],
          [
           null,
           null,
           211.0,
           211.0,
           null,
           0,
           0.0,
           "Complete",
           2019,
           0,
           0
          ],
          [
           null,
           null,
           168.0,
           168.0,
           null,
           0,
           0.0,
           "Complete",
           2020,
           0,
           0
          ],
          [
           null,
           null,
           198.0,
           198.0,
           null,
           0,
           0.0,
           "Complete",
           2021,
           0,
           0
          ],
          [
           null,
           null,
           163.0,
           163.0,
           null,
           0,
           0.0,
           "Complete",
           2022,
           0,
           0
          ],
          [
           null,
           null,
           97.0,
           97.0,
           null,
           0,
           0.0,
           "In-Progress",
           2023,
           0,
           0
          ]
         ]
        ]
       ],
       "datasetInfos": [],
       "dbfsResultPath": null,
       "isJsonSchema": true,
       "metadata": {},
       "overflow": false,
       "plotOptions": {
        "customPlotOptions": {},
        "displayType": "table",
        "pivotAggregation": null,
        "pivotColumns": null,
        "xColumns": null,
        "yColumns": null
       },
       "removedWidgets": [],
       "schema": [
        {
         "metadata": "{}",
         "name": "srcid",
         "type": "\"long\""
        },
        {
         "metadata": "{}",
         "name": "metrics_calculations",
         "type": "{\"type\":\"array\",\"elementType\":{\"type\":\"struct\",\"fields\":[{\"name\":\"SJR\",\"type\":\"double\",\"nullable\":true,\"metadata\":{}},{\"name\":\"SNIP\",\"type\":\"double\",\"nullable\":true,\"metadata\":{}},{\"name\":\"citations\",\"type\":\"double\",\"nullable\":true,\"metadata\":{}},{\"name\":\"citations-sce\",\"type\":\"double\",\"nullable\":true,\"metadata\":{}},{\"name\":\"cite-score-metrics\",\"type\":{\"type\":\"struct\",\"fields\":[{\"name\":\"all\",\"type\":{\"type\":\"struct\",\"fields\":[{\"name\":\"cs-citation-count\",\"type\":\"long\",\"nullable\":true,\"metadata\":{}},{\"name\":\"cs-citescore\",\"type\":\"double\",\"nullable\":true,\"metadata\":{}},{\"name\":\"cs-percent-cited\",\"type\":\"long\",\"nullable\":true,\"metadata\":{}},{\"name\":\"cs-scholarly-output\",\"type\":\"long\",\"nullable\":true,\"metadata\":{}},{\"name\":\"cs-subject-category\",\"type\":{\"type\":\"array\",\"elementType\":{\"type\":\"struct\",\"fields\":[{\"name\":\"asjc\",\"type\":\"long\",\"nullable\":true,\"metadata\":{}},{\"name\":\"cs-rank\",\"type\":{\"type\":\"struct\",\"fields\":[{\"name\":\"out-of\",\"type\":\"long\",\"nullable\":true,\"metadata\":{}},{\"name\":\"value\",\"type\":\"long\",\"nullable\":true,\"metadata\":{}}]},\"nullable\":true,\"metadata\":{}},{\"name\":\"percentile\",\"type\":\"long\",\"nullable\":true,\"metadata\":{}}]},\"containsNull\":true},\"nullable\":true,\"metadata\":{}}]},\"nullable\":true,\"metadata\":{}}]},\"nullable\":true,\"metadata\":{}},{\"name\":\"publications\",\"type\":\"long\",\"nullable\":true,\"metadata\":{}},{\"name\":\"revpercent\",\"type\":\"double\",\"nullable\":true,\"metadata\":{}},{\"name\":\"status\",\"type\":\"string\",\"nullable\":true,\"metadata\":{}},{\"name\":\"year\",\"type\":\"long\",\"nullable\":true,\"metadata\":{}},{\"name\":\"zero-cites\",\"type\":\"long\",\"nullable\":true,\"metadata\":{}},{\"name\":\"zero-cites-sce\",\"type\":\"long\",\"nullable\":true,\"metadata\":{}}]},\"containsNull\":true}"
        }
       ],
       "type": "table"
      }
     },
     "output_type": "display_data"
    }
   ],
   "source": [
    "import pandas as pd\n",
    "import pyspark.sql.functions as F\n",
    "def first(lst):\n",
    "  return lst[0]\n",
    "def extract_publication_info(newdf):\n",
    "  #newdf = df_ani.limit(50)\n",
    "  newdf = newdf.select('doi','Eid','year','Au','Au_Af','Au_cors','openaccess','issn','source','correspondence','Af')\n",
    "  newdf = newdf.withColumn('cor_af', first(newdf['correspondence']))\n",
    "  newdf = newdf.withColumn('cor_coun', F.col('cor_af').getItem('country'))\n",
    "  #display(newdf.limit(10))\n",
    "  return newdf\n",
    "def get_smc_classification(newdf):\n",
    "  df_smc_ani = spark.read.format(\"parquet\").load(basePath+tablename_smc_complete)\n",
    "  newdf2 = newdf.join(df_smc_ani,'Eid', 'inner')\n",
    "  return newdf2\n",
    "\n",
    "\n",
    "from pyspark.sql.functions import lower\n",
    "\n",
    "df_ani = spark.read.format(\"parquet\").load(basePath+tablename_ani)\n",
    "\n",
    "#display(\"len of df_ani \",df_ani.count(),\"\\n\")\n",
    "dd = df_ani.withColumn('language', first(df_ani['meta_language']))\n",
    "d1 = dd.withColumn('language_s', lower(dd['language']))\n",
    "\n",
    "d2 = d1.filter(func.col('language_s') == 'english')\n",
    "#display(\"len of df_ani in english \",d2.count(),\"\\n\")\n",
    "\n",
    "\n",
    "newdf = extract_publication_info(d2)\n",
    "\n",
    "df_class = get_smc_classification(newdf)\n",
    "#display(df_class.limit(10),\"\\n\")\n",
    "#display(df_class.count(),\"\\n\")\n",
    "us_data = df_class.filter(func.col('cor_coun') == 'usa')\n",
    "display(us_data.count(),\"\\n\")\n",
    "\n",
    "df_sources = spark.read.format(\"parquet\").load(basePath+tablename_sources)\n",
    "data = us_data.join(df_sources,'srcid','inner')\n",
    "\n",
    "newdata = data.select('srcid','metrics_calculations')\n",
    "newdata = newdata.dropDuplicates([\"srcid\"])\n",
    "display(newdata.limit(10),\"\\n\")"
   ]
  },
  {
   "cell_type": "code",
   "execution_count": 0,
   "metadata": {
    "application/vnd.databricks.v1+cell": {
     "cellMetadata": {
      "byteLimit": 2048000,
      "rowLimit": 10000
     },
     "inputWidgets": {},
     "nuid": "7a0654fb-1421-4928-8c55-8b6c82158f86",
     "showTitle": false,
     "title": ""
    }
   },
   "outputs": [
    {
     "output_type": "display_data",
     "data": {
      "text/html": [
       "<style scoped>\n",
       "  .table-result-container {\n",
       "    max-height: 300px;\n",
       "    overflow: auto;\n",
       "  }\n",
       "  table, th, td {\n",
       "    border: 1px solid black;\n",
       "    border-collapse: collapse;\n",
       "  }\n",
       "  th, td {\n",
       "    padding: 5px;\n",
       "  }\n",
       "  th {\n",
       "    text-align: left;\n",
       "  }\n",
       "</style><div class='table-result-container'><table class='table-result'><thead style='background-color: white'><tr><th>srcid</th><th>metrics_calculations</th></tr></thead><tbody><tr><td>12024</td><td>List(List(null, null, 417.0, 392.0, null, 44, 15.91, Complete, 1996, 0, 0), List(null, null, 469.0, 421.0, null, 43, 6.98, Complete, 1997, 0, 0), List(null, null, 554.0, 494.0, null, 47, 2.13, Complete, 1998, 0, 0), List(0.61, 0.903, 573.0, 510.0, null, 40, 5.0, Complete, 1999, 0, 0), List(0.726, 0.925, 621.0, 568.0, null, 42, 16.67, Complete, 2000, 0, 0), List(0.568, 1.026, 650.0, 583.0, null, 52, 0.0, Complete, 2001, 0, 0), List(0.72, 1.192, 739.0, 632.0, null, 68, 4.41, Complete, 2002, 1, 1), List(0.867, 1.146, 999.0, 832.0, null, 73, 2.74, Complete, 2003, 2, 2), List(0.994, 1.025, 1254.0, 1074.0, null, 77, 1.3, Complete, 2004, 2, 2), List(0.681, 0.975, 1246.0, 1109.0, null, 76, 6.58, Complete, 2005, 1, 2), List(0.842, 1.0, 1550.0, 1413.0, null, 87, 1.15, Complete, 2006, 3, 3), List(1.015, 1.042, 2004.0, 1800.0, null, 76, 1.32, Complete, 2007, 2, 2), List(0.911, 1.22, 2747.0, 2555.0, null, 85, 2.35, Complete, 2008, 0, 0), List(0.991, 1.209, 2683.0, 2417.0, null, 91, 4.4, Complete, 2009, 2, 2), List(0.993, 1.084, 2827.0, 2656.0, null, 91, 0.0, Complete, 2010, 3, 3), List(0.99, 1.486, 3329.0, 3040.0, List(List(1097, 3.0, 67, 371, List(List(1201, List(264, 71), 73), List(3204, List(246, 78), 68), List(3205, List(111, 51), 54)))), 127, 0.79, Complete, 2011, 9, 10), List(0.983, 1.143, 4117.0, 3875.0, List(List(1230, 3.1, 68, 392, List(List(1201, List(266, 73), 72), List(3204, List(261, 84), 68), List(3205, List(115, 47), 59)))), 106, 0.0, Complete, 2012, 7, 9), List(0.935, 1.159, 4181.0, 4007.0, List(List(1343, 3.4, 70, 393, List(List(1201, List(267, 65), 75), List(3204, List(267, 81), 69), List(3205, List(118, 46), 61)))), 86, 0.0, Complete, 2013, 6, 6), List(0.815, 1.122, 4625.0, 4375.0, List(List(1325, 3.2, 65, 408, List(List(1201, List(267, 70), 73), List(3204, List(271, 81), 70), List(3205, List(118, 50), 58)))), 110, 0.0, Complete, 2014, 8, 8), List(0.788, 1.05, 4620.0, 4368.0, List(List(1097, 2.9, 67, 378, List(List(1201, List(267, 91), 66), List(3204, List(276, 107), 61), List(3205, List(119, 63), 47)))), 95, 0.0, Complete, 2015, 7, 7), List(0.857, 1.002, 4649.0, 4361.0, List(List(1066, 2.7, 60, 395, List(List(1201, List(250, 83), 67), List(3204, List(276, 113), 59), List(3205, List(125, 65), 48)))), 119, 0.0, Complete, 2016, 2, 3), List(0.884, 0.968, 5411.0, 5254.0, List(List(1221, 3.2, 67, 382, List(List(1201, List(259, 68), 73), List(3204, List(290, 93), 68), List(3205, List(132, 58), 56)))), 76, 0.0, Complete, 2017, 3, 3), List(0.759, 0.822, 5283.0, 5102.0, List(List(999, 2.8, 64, 356, List(List(1201, List(283, 79), 72), List(3204, List(314, 117), 62), List(3205, List(137, 70), 49)))), 82, 0.0, Complete, 2018, 5, 5), List(0.824, 0.833, 5511.0, 5179.0, List(List(1153, 3.1, 69, 377, List(List(1201, List(295, 74), 75), List(3204, List(327, 107), 67), List(3205, List(145, 69), 52)))), 120, 0.0, Complete, 2019, 8, 8), List(0.719, 0.842, 5577.0, 5197.0, List(List(1065, 2.7, 66, 389, List(List(1201, List(306, 94), 69), List(3204, List(332, 130), 60), List(3205, List(148, 75), 49)))), 134, 0.0, Complete, 2020, 11, 16), List(0.651, 0.995, 6342.0, 5951.0, List(List(1441, 3.1, 65, 465, List(List(1201, List(376, 99), 73), List(3204, List(341, 136), 60), List(3205, List(150, 75), 50)))), 149, 0.0, Complete, 2021, 25, 32), List(0.764, 1.159, 6709.0, 6430.0, List(List(2073, 4.2, 71, 491, List(List(1201, List(440, 75), 83), List(3204, List(343, 105), 69), List(3205, List(152, 51), 66)))), 112, 0.0, Complete, 2022, 40, 45), List(null, null, 5097.0, 4853.0, List(List(1621, 3.8, 73, 428, List(List(1201, List(440, 79), 82), List(3204, List(343, 112), 67), List(3205, List(153, 55), 64)))), 107, 0.0, In-Progress, 2023, 81, 91))</td></tr></tbody></table></div>"
      ]
     },
     "metadata": {
      "application/vnd.databricks.v1+output": {
       "addedWidgets": {},
       "aggData": [],
       "aggError": "",
       "aggOverflow": false,
       "aggSchema": [],
       "aggSeriesLimitReached": false,
       "aggType": "",
       "arguments": {},
       "columnCustomDisplayInfos": {},
       "data": [
        [
         12024,
         [
          [
           null,
           null,
           417.0,
           392.0,
           null,
           44,
           15.91,
           "Complete",
           1996,
           0,
           0
          ],
          [
           null,
           null,
           469.0,
           421.0,
           null,
           43,
           6.98,
           "Complete",
           1997,
           0,
           0
          ],
          [
           null,
           null,
           554.0,
           494.0,
           null,
           47,
           2.13,
           "Complete",
           1998,
           0,
           0
          ],
          [
           0.61,
           0.903,
           573.0,
           510.0,
           null,
           40,
           5.0,
           "Complete",
           1999,
           0,
           0
          ],
          [
           0.726,
           0.925,
           621.0,
           568.0,
           null,
           42,
           16.67,
           "Complete",
           2000,
           0,
           0
          ],
          [
           0.568,
           1.026,
           650.0,
           583.0,
           null,
           52,
           0.0,
           "Complete",
           2001,
           0,
           0
          ],
          [
           0.72,
           1.192,
           739.0,
           632.0,
           null,
           68,
           4.41,
           "Complete",
           2002,
           1,
           1
          ],
          [
           0.867,
           1.146,
           999.0,
           832.0,
           null,
           73,
           2.74,
           "Complete",
           2003,
           2,
           2
          ],
          [
           0.994,
           1.025,
           1254.0,
           1074.0,
           null,
           77,
           1.3,
           "Complete",
           2004,
           2,
           2
          ],
          [
           0.681,
           0.975,
           1246.0,
           1109.0,
           null,
           76,
           6.58,
           "Complete",
           2005,
           1,
           2
          ],
          [
           0.842,
           1.0,
           1550.0,
           1413.0,
           null,
           87,
           1.15,
           "Complete",
           2006,
           3,
           3
          ],
          [
           1.015,
           1.042,
           2004.0,
           1800.0,
           null,
           76,
           1.32,
           "Complete",
           2007,
           2,
           2
          ],
          [
           0.911,
           1.22,
           2747.0,
           2555.0,
           null,
           85,
           2.35,
           "Complete",
           2008,
           0,
           0
          ],
          [
           0.991,
           1.209,
           2683.0,
           2417.0,
           null,
           91,
           4.4,
           "Complete",
           2009,
           2,
           2
          ],
          [
           0.993,
           1.084,
           2827.0,
           2656.0,
           null,
           91,
           0.0,
           "Complete",
           2010,
           3,
           3
          ],
          [
           0.99,
           1.486,
           3329.0,
           3040.0,
           [
            [
             1097,
             3.0,
             67,
             371,
             [
              [
               1201,
               [
                264,
                71
               ],
               73
              ],
              [
               3204,
               [
                246,
                78
               ],
               68
              ],
              [
               3205,
               [
                111,
                51
               ],
               54
              ]
             ]
            ]
           ],
           127,
           0.79,
           "Complete",
           2011,
           9,
           10
          ],
          [
           0.983,
           1.143,
           4117.0,
           3875.0,
           [
            [
             1230,
             3.1,
             68,
             392,
             [
              [
               1201,
               [
                266,
                73
               ],
               72
              ],
              [
               3204,
               [
                261,
                84
               ],
               68
              ],
              [
               3205,
               [
                115,
                47
               ],
               59
              ]
             ]
            ]
           ],
           106,
           0.0,
           "Complete",
           2012,
           7,
           9
          ],
          [
           0.935,
           1.159,
           4181.0,
           4007.0,
           [
            [
             1343,
             3.4,
             70,
             393,
             [
              [
               1201,
               [
                267,
                65
               ],
               75
              ],
              [
               3204,
               [
                267,
                81
               ],
               69
              ],
              [
               3205,
               [
                118,
                46
               ],
               61
              ]
             ]
            ]
           ],
           86,
           0.0,
           "Complete",
           2013,
           6,
           6
          ],
          [
           0.815,
           1.122,
           4625.0,
           4375.0,
           [
            [
             1325,
             3.2,
             65,
             408,
             [
              [
               1201,
               [
                267,
                70
               ],
               73
              ],
              [
               3204,
               [
                271,
                81
               ],
               70
              ],
              [
               3205,
               [
                118,
                50
               ],
               58
              ]
             ]
            ]
           ],
           110,
           0.0,
           "Complete",
           2014,
           8,
           8
          ],
          [
           0.788,
           1.05,
           4620.0,
           4368.0,
           [
            [
             1097,
             2.9,
             67,
             378,
             [
              [
               1201,
               [
                267,
                91
               ],
               66
              ],
              [
               3204,
               [
                276,
                107
               ],
               61
              ],
              [
               3205,
               [
                119,
                63
               ],
               47
              ]
             ]
            ]
           ],
           95,
           0.0,
           "Complete",
           2015,
           7,
           7
          ],
          [
           0.857,
           1.002,
           4649.0,
           4361.0,
           [
            [
             1066,
             2.7,
             60,
             395,
             [
              [
               1201,
               [
                250,
                83
               ],
               67
              ],
              [
               3204,
               [
                276,
                113
               ],
               59
              ],
              [
               3205,
               [
                125,
                65
               ],
               48
              ]
             ]
            ]
           ],
           119,
           0.0,
           "Complete",
           2016,
           2,
           3
          ],
          [
           0.884,
           0.968,
           5411.0,
           5254.0,
           [
            [
             1221,
             3.2,
             67,
             382,
             [
              [
               1201,
               [
                259,
                68
               ],
               73
              ],
              [
               3204,
               [
                290,
                93
               ],
               68
              ],
              [
               3205,
               [
                132,
                58
               ],
               56
              ]
             ]
            ]
           ],
           76,
           0.0,
           "Complete",
           2017,
           3,
           3
          ],
          [
           0.759,
           0.822,
           5283.0,
           5102.0,
           [
            [
             999,
             2.8,
             64,
             356,
             [
              [
               1201,
               [
                283,
                79
               ],
               72
              ],
              [
               3204,
               [
                314,
                117
               ],
               62
              ],
              [
               3205,
               [
                137,
                70
               ],
               49
              ]
             ]
            ]
           ],
           82,
           0.0,
           "Complete",
           2018,
           5,
           5
          ],
          [
           0.824,
           0.833,
           5511.0,
           5179.0,
           [
            [
             1153,
             3.1,
             69,
             377,
             [
              [
               1201,
               [
                295,
                74
               ],
               75
              ],
              [
               3204,
               [
                327,
                107
               ],
               67
              ],
              [
               3205,
               [
                145,
                69
               ],
               52
              ]
             ]
            ]
           ],
           120,
           0.0,
           "Complete",
           2019,
           8,
           8
          ],
          [
           0.719,
           0.842,
           5577.0,
           5197.0,
           [
            [
             1065,
             2.7,
             66,
             389,
             [
              [
               1201,
               [
                306,
                94
               ],
               69
              ],
              [
               3204,
               [
                332,
                130
               ],
               60
              ],
              [
               3205,
               [
                148,
                75
               ],
               49
              ]
             ]
            ]
           ],
           134,
           0.0,
           "Complete",
           2020,
           11,
           16
          ],
          [
           0.651,
           0.995,
           6342.0,
           5951.0,
           [
            [
             1441,
             3.1,
             65,
             465,
             [
              [
               1201,
               [
                376,
                99
               ],
               73
              ],
              [
               3204,
               [
                341,
                136
               ],
               60
              ],
              [
               3205,
               [
                150,
                75
               ],
               50
              ]
             ]
            ]
           ],
           149,
           0.0,
           "Complete",
           2021,
           25,
           32
          ],
          [
           0.764,
           1.159,
           6709.0,
           6430.0,
           [
            [
             2073,
             4.2,
             71,
             491,
             [
              [
               1201,
               [
                440,
                75
               ],
               83
              ],
              [
               3204,
               [
                343,
                105
               ],
               69
              ],
              [
               3205,
               [
                152,
                51
               ],
               66
              ]
             ]
            ]
           ],
           112,
           0.0,
           "Complete",
           2022,
           40,
           45
          ],
          [
           null,
           null,
           5097.0,
           4853.0,
           [
            [
             1621,
             3.8,
             73,
             428,
             [
              [
               1201,
               [
                440,
                79
               ],
               82
              ],
              [
               3204,
               [
                343,
                112
               ],
               67
              ],
              [
               3205,
               [
                153,
                55
               ],
               64
              ]
             ]
            ]
           ],
           107,
           0.0,
           "In-Progress",
           2023,
           81,
           91
          ]
         ]
        ]
       ],
       "datasetInfos": [],
       "dbfsResultPath": null,
       "isJsonSchema": true,
       "metadata": {},
       "overflow": false,
       "plotOptions": {
        "customPlotOptions": {},
        "displayType": "table",
        "pivotAggregation": null,
        "pivotColumns": null,
        "xColumns": null,
        "yColumns": null
       },
       "removedWidgets": [],
       "schema": [
        {
         "metadata": "{}",
         "name": "srcid",
         "type": "\"long\""
        },
        {
         "metadata": "{}",
         "name": "metrics_calculations",
         "type": "{\"type\":\"array\",\"elementType\":{\"type\":\"struct\",\"fields\":[{\"name\":\"SJR\",\"type\":\"double\",\"nullable\":true,\"metadata\":{}},{\"name\":\"SNIP\",\"type\":\"double\",\"nullable\":true,\"metadata\":{}},{\"name\":\"citations\",\"type\":\"double\",\"nullable\":true,\"metadata\":{}},{\"name\":\"citations-sce\",\"type\":\"double\",\"nullable\":true,\"metadata\":{}},{\"name\":\"cite-score-metrics\",\"type\":{\"type\":\"struct\",\"fields\":[{\"name\":\"all\",\"type\":{\"type\":\"struct\",\"fields\":[{\"name\":\"cs-citation-count\",\"type\":\"long\",\"nullable\":true,\"metadata\":{}},{\"name\":\"cs-citescore\",\"type\":\"double\",\"nullable\":true,\"metadata\":{}},{\"name\":\"cs-percent-cited\",\"type\":\"long\",\"nullable\":true,\"metadata\":{}},{\"name\":\"cs-scholarly-output\",\"type\":\"long\",\"nullable\":true,\"metadata\":{}},{\"name\":\"cs-subject-category\",\"type\":{\"type\":\"array\",\"elementType\":{\"type\":\"struct\",\"fields\":[{\"name\":\"asjc\",\"type\":\"long\",\"nullable\":true,\"metadata\":{}},{\"name\":\"cs-rank\",\"type\":{\"type\":\"struct\",\"fields\":[{\"name\":\"out-of\",\"type\":\"long\",\"nullable\":true,\"metadata\":{}},{\"name\":\"value\",\"type\":\"long\",\"nullable\":true,\"metadata\":{}}]},\"nullable\":true,\"metadata\":{}},{\"name\":\"percentile\",\"type\":\"long\",\"nullable\":true,\"metadata\":{}}]},\"containsNull\":true},\"nullable\":true,\"metadata\":{}}]},\"nullable\":true,\"metadata\":{}}]},\"nullable\":true,\"metadata\":{}},{\"name\":\"publications\",\"type\":\"long\",\"nullable\":true,\"metadata\":{}},{\"name\":\"revpercent\",\"type\":\"double\",\"nullable\":true,\"metadata\":{}},{\"name\":\"status\",\"type\":\"string\",\"nullable\":true,\"metadata\":{}},{\"name\":\"year\",\"type\":\"long\",\"nullable\":true,\"metadata\":{}},{\"name\":\"zero-cites\",\"type\":\"long\",\"nullable\":true,\"metadata\":{}},{\"name\":\"zero-cites-sce\",\"type\":\"long\",\"nullable\":true,\"metadata\":{}}]},\"containsNull\":true}"
        }
       ],
       "type": "table"
      }
     },
     "output_type": "display_data"
    }
   ],
   "source": [
    "display(newdata.filter(func.col('srcid') == 12024))"
   ]
  },
  {
   "cell_type": "code",
   "execution_count": 0,
   "metadata": {
    "application/vnd.databricks.v1+cell": {
     "cellMetadata": {
      "byteLimit": 2048000,
      "rowLimit": 10000
     },
     "inputWidgets": {},
     "nuid": "9108f7d9-e806-4a16-9cd4-b276247dee5e",
     "showTitle": false,
     "title": ""
    }
   },
   "outputs": [
    {
     "output_type": "stream",
     "name": "stdout",
     "output_type": "stream",
     "text": [
      "34582'\\n'34582"
     ]
    }
   ],
   "source": [
    "display(newdata.count(),\"\\n\")\n",
    "display(newdata.select('srcid').distinct().count())"
   ]
  },
  {
   "cell_type": "code",
   "execution_count": 0,
   "metadata": {
    "application/vnd.databricks.v1+cell": {
     "cellMetadata": {
      "byteLimit": 2048000,
      "rowLimit": 10000
     },
     "inputWidgets": {},
     "nuid": "1d89dc7d-0154-4105-8064-251925ee22a4",
     "showTitle": false,
     "title": ""
    }
   },
   "outputs": [
    {
     "output_type": "display_data",
     "data": {
      "text/html": [
       "<style scoped>\n",
       "  .table-result-container {\n",
       "    max-height: 300px;\n",
       "    overflow: auto;\n",
       "  }\n",
       "  table, th, td {\n",
       "    border: 1px solid black;\n",
       "    border-collapse: collapse;\n",
       "  }\n",
       "  th, td {\n",
       "    padding: 5px;\n",
       "  }\n",
       "  th {\n",
       "    text-align: left;\n",
       "  }\n",
       "</style><div class='table-result-container'><table class='table-result'><thead style='background-color: white'><tr><th>srcid</th><th>metrics_calculations</th><th>SJR_lst</th><th>year_SJR</th><th>list_of_numbers</th><th>mean_of_numbers</th></tr></thead><tbody><tr><td>12029</td><td>List(List(null, null, 142.0, 130.0, null, 16, 0.0, Complete, 1996, 0, 1), List(null, null, 165.0, 159.0, null, 17, 0.0, Complete, 1997, 1, 1), List(null, null, 173.0, 166.0, null, 28, 10.71, Complete, 1998, 1, 2), List(0.767, 1.512, 174.0, 163.0, null, 29, 3.45, Complete, 1999, 1, 1), List(0.599, 1.656, 282.0, 268.0, null, 35, 5.71, Complete, 2000, 1, 1), List(0.626, 0.956, 332.0, 312.0, null, 31, 0.0, Complete, 2001, 0, 1), List(0.789, 0.899, 348.0, 340.0, null, 29, 24.14, Complete, 2002, 1, 1), List(0.813, 0.968, 465.0, 458.0, null, 36, 52.78, Complete, 2003, 2, 2), List(0.829, 1.141, 619.0, 597.0, null, 33, 48.48, Complete, 2004, 0, 0), List(0.724, 1.142, 749.0, 727.0, null, 36, 27.78, Complete, 2005, 2, 2), List(0.957, 1.638, 884.0, 845.0, null, 30, 16.67, Complete, 2006, 0, 0), List(1.113, 1.801, 1043.0, 1020.0, null, 44, 40.91, Complete, 2007, 2, 2), List(0.952, 1.255, 1472.0, 1422.0, null, 50, 24.0, Complete, 2008, 0, 0), List(0.871, 1.312, 1635.0, 1619.0, null, 35, 22.86, Complete, 2009, 0, 0), List(0.889, 1.85, 2056.0, 2012.0, null, 31, 0.0, Complete, 2010, 0, 0), List(1.325, 2.177, 2351.0, 2324.0, List(List(840, 6.1, 75, 137, List(List(1201, List(264, 13), 95), List(3202, List(174, 9), 95), List(3204, List(246, 18), 92)))), 30, 0.0, Complete, 2011, 1, 1), List(1.481, 1.703, 2905.0, 2893.0, List(List(468, 3.7, 73, 126, List(List(3202, List(185, 31), 83), List(1201, List(266, 56), 79), List(3204, List(261, 61), 76)))), 34, 0.0, Complete, 2012, 1, 1), List(1.571, 1.625, 3072.0, 3009.0, List(List(461, 3.8, 78, 120, List(List(1201, List(267, 49), 81), List(3202, List(186, 36), 80), List(3204, List(267, 64), 76)))), 29, 0.0, Complete, 2013, 0, 0), List(1.51, 1.926, 3423.0, 3350.0, List(List(544, 4.9, 79, 112, List(List(3202, List(191, 20), 89), List(1201, List(267, 32), 88), List(3204, List(271, 38), 86)))), 29, 0.0, Complete, 2014, 0, 0), List(1.02, 1.451, 3736.0, 3686.0, List(List(521, 5.0, 78, 105, List(List(1201, List(267, 32), 88), List(3202, List(195, 25), 87), List(3204, List(276, 40), 85)))), 28, 0.0, Complete, 2015, 1, 1), List(1.228, 1.342, 3948.0, 3894.0, List(List(441, 4.2, 86, 105, List(List(1201, List(250, 37), 85), List(3204, List(276, 56), 79), List(3202, List(200, 43), 78)))), 26, 0.0, Complete, 2016, 1, 1), List(1.406, 1.394, 4220.0, 4201.0, List(List(509, 5.0, 84, 101, List(List(1201, List(259, 22), 91), List(3204, List(290, 38), 87), List(3202, List(215, 34), 84)))), 25, 4.0, Complete, 2017, 0, 0), List(1.958, 1.803, 4467.0, 4446.0, List(List(599, 5.7, 76, 106, List(List(1201, List(283, 16), 94), List(3204, List(314, 27), 91), List(3202, List(221, 25), 88)))), 28, 0.0, Complete, 2018, 0, 0), List(1.457, 1.711, 4772.0, 4740.0, List(List(690, 6.4, 81, 108, List(List(1201, List(295, 12), 96), List(3204, List(327, 19), 94), List(3202, List(227, 21), 90)))), 26, 7.69, Complete, 2019, 0, 0), List(1.497, 1.899, 5257.0, 5156.0, List(List(669, 5.3, 87, 127, List(List(1201, List(306, 22), 92), List(3204, List(332, 41), 87), List(3202, List(227, 36), 84)))), 61, 9.84, Complete, 2020, 4, 5), List(1.59, 1.806, 5932.0, 5816.0, List(List(1029, 6.1, 87, 168, List(List(1201, List(376, 21), 94), List(3204, List(341, 33), 90), List(3202, List(230, 37), 84)))), 72, 4.17, Complete, 2021, 1, 1), List(2.279, 2.787, 7354.0, 7212.0, List(List(2002, 9.9, 90, 202, List(List(1201, List(440, 11), 97), List(3204, List(343, 17), 95), List(3202, List(241, 23), 90)))), 83, 10.84, Complete, 2022, 19, 21), List(null, null, 5771.0, 5649.0, List(List(2596, 11.6, 89, 224, List(List(1201, List(440, 5), 98), List(3204, List(343, 10), 97), List(3202, List(241, 14), 94)))), 90, 4.44, In-Progress, 2023, 42, 46))</td><td>List(null, null, null, 0.767, 0.599, 0.626, 0.789, 0.813, 0.829, 0.724, 0.957, 1.113, 0.952, 0.871, 0.889, 1.325, 1.481, 1.571, 1.51, 1.02, 1.228, 1.406, 1.958, 1.457, 1.497, 1.59, 2.279, null)</td><td>List(1996, 1997, 1998, 1999, 2000, 2001, 2002, 2003, 2004, 2005, 2006, 2007, 2008, 2009, 2010, 2011, 2012, 2013, 2014, 2015, 2016, 2017, 2018, 2019, 2020, 2021, 2022, 2023)</td><td>List(0.767, 0.599, 0.626, 0.789, 0.813, 0.829, 0.724, 0.957, 1.113, 0.952, 0.871, 0.889, 1.325, 1.481, 1.571, 1.51, 1.02, 1.228, 1.406, 1.958, 1.457, 1.497, 1.59, 2.279)</td><td>1.177125</td></tr><tr><td>12037</td><td>List(List(null, null, 70.0, 70.0, null, 61, 0.0, Complete, 1996, 23, 23), List(null, null, 76.0, 76.0, null, 34, 0.0, Complete, 1997, 9, 10), List(null, null, 78.0, 75.0, null, 48, 0.0, Complete, 1998, 9, 11), List(0.194, 0.0, 93.0, 81.0, null, 37, 0.0, Complete, 1999, 8, 9), List(0.217, 0.287, 92.0, 82.0, null, 38, 0.0, Complete, 2000, 10, 13), List(0.349, 0.784, 150.0, 125.0, null, 33, 0.0, Complete, 2001, 15, 17), List(0.197, 0.444, 134.0, 130.0, null, 57, 0.0, Complete, 2002, 18, 19), List(0.241, 0.76, 160.0, 150.0, null, 42, 11.9, Complete, 2003, 12, 14), List(0.18, 0.423, 186.0, 171.0, null, 54, 3.7, Complete, 2004, 15, 16), List(0.279, 0.806, 255.0, 241.0, null, 138, 1.45, Complete, 2005, 48, 50), List(0.223, 0.492, 241.0, 221.0, null, 140, 5.71, Complete, 2006, 75, 77), List(0.326, 0.684, 276.0, 248.0, null, 150, 2.67, Complete, 2007, 55, 55), List(0.206, 0.557, 295.0, 269.0, null, 186, 0.0, Complete, 2008, 84, 90), List(0.191, 0.325, 414.0, 377.0, null, 170, 0.0, Complete, 2009, 81, 82), List(0.278, 0.303, 462.0, 436.0, null, 45, 35.56, Complete, 2010, 2, 3), List(0.275, 0.423, 461.0, 401.0, List(List(194, 0.4, 25, 446, List(List(2506, List(126, 76), 40), List(2210, List(487, 342), 29), List(2211, List(296, 214), 27)))), 64, 21.88, Complete, 2011, 2, 5), List(0.476, 0.721, 448.0, 358.0, List(List(201, 0.6, 28, 334, List(List(2506, List(127, 68), 46), List(2210, List(502, 324), 35), List(2211, List(305, 206), 32)))), 87, 36.78, Complete, 2012, 3, 4), List(0.39, 0.801, 558.0, 482.0, List(List(255, 0.9, 36, 278, List(List(2506, List(136, 60), 56), List(2210, List(510, 274), 46), List(2211, List(309, 179), 42)))), 84, 3.57, Complete, 2013, 2, 2), List(0.707, 1.353, 759.0, 657.0, List(List(383, 1.1, 41, 344, List(List(2506, List(137, 55), 60), List(2210, List(521, 268), 48), List(2211, List(318, 176), 44)))), 84, 3.57, Complete, 2014, 3, 5), List(0.557, 1.068, 841.0, 742.0, List(List(545, 1.6, 53, 343, List(List(2506, List(141, 42), 70), List(2210, List(533, 228), 57), List(2211, List(324, 151), 53)))), 90, 0.0, Complete, 2015, 2, 3), List(0.821, 1.373, 1067.0, 901.0, List(List(706, 1.9, 56, 370, List(List(2506, List(145, 45), 69), List(2210, List(546, 227), 58), List(2211, List(329, 146), 55)))), 115, 0.0, Complete, 2016, 4, 6), List(0.533, 1.35, 1458.0, 1316.0, List(List(824, 2.0, 59, 408, List(List(2506, List(152, 41), 73), List(2210, List(577, 238), 58), List(2211, List(353, 154), 56)))), 122, 0.0, Complete, 2017, 2, 3), List(0.707, 1.338, 1684.0, 1563.0, List(List(916, 2.2, 62, 418, List(List(2506, List(150, 47), 69), List(2210, List(587, 247), 58), List(2211, List(360, 166), 54)))), 124, 0.0, Complete, 2018, 5, 5), List(0.51, 1.113, 1929.0, 1743.0, List(List(1340, 2.6, 66, 512, List(List(2506, List(152, 44), 71), List(2210, List(585, 231), 60), List(2211, List(367, 162), 55)))), 163, 0.0, Complete, 2019, 13, 14), List(0.632, 1.215, 2619.0, 2328.0, List(List(1658, 2.9, 67, 563, List(List(2506, List(153, 45), 70), List(2210, List(596, 231), 61), List(2211, List(377, 161), 57)))), 184, 0.0, Complete, 2020, 19, 23), List(0.528, 1.026, 3124.0, 2783.0, List(List(2213, 3.5, 71, 630, List(List(2506, List(155, 42), 73), List(2210, List(601, 217), 63), List(2211, List(384, 155), 59)))), 197, 1.52, Complete, 2021, 37, 44), List(0.485, 0.99, 3593.0, 3246.0, List(List(2661, 3.8, 73, 709, List(List(2506, List(164, 47), 71), List(2210, List(631, 236), 62), List(2211, List(391, 164), 58)))), 193, 4.66, Complete, 2022, 38, 46), List(null, null, 2989.0, 2692.0, List(List(2577, 3.6, 70, 710, List(List(2506, List(164, 47), 71), List(2210, List(631, 231), 63), List(2211, List(390, 162), 58)))), 192, 1.56, In-Progress, 2023, 154, 157))</td><td>List(null, null, null, 0.194, 0.217, 0.349, 0.197, 0.241, 0.18, 0.279, 0.223, 0.326, 0.206, 0.191, 0.278, 0.275, 0.476, 0.39, 0.707, 0.557, 0.821, 0.533, 0.707, 0.51, 0.632, 0.528, 0.485, null)</td><td>List(1996, 1997, 1998, 1999, 2000, 2001, 2002, 2003, 2004, 2005, 2006, 2007, 2008, 2009, 2010, 2011, 2012, 2013, 2014, 2015, 2016, 2017, 2018, 2019, 2020, 2021, 2022, 2023)</td><td>List(0.194, 0.217, 0.349, 0.197, 0.241, 0.18, 0.279, 0.223, 0.326, 0.206, 0.191, 0.278, 0.275, 0.476, 0.39, 0.707, 0.557, 0.821, 0.533, 0.707, 0.51, 0.632, 0.528, 0.485)</td><td>0.39591667</td></tr><tr><td>12047</td><td>List(List(null, null, 96.0, 78.0, null, 25, 12.0, Complete, 1996, 6, 6), List(null, null, 88.0, 70.0, null, 29, 6.9, Complete, 1997, 22, 23), List(null, null, 121.0, 109.0, null, 25, 0.0, Complete, 1998, 16, 17), List(0.154, 0.537, 80.0, 68.0, null, 17, 0.0, Complete, 1999, 5, 7), List(0.154, 0.646, 123.0, 109.0, null, 18, 0.0, Complete, 2000, 7, 8), List(0.112, 0.958, 72.0, 66.0, null, 23, 4.35, Complete, 2001, 15, 15), List(0.249, 0.743, 107.0, 95.0, null, 19, 10.53, Complete, 2002, 8, 8), List(0.324, 1.429, 73.0, 69.0, null, 23, 0.0, Complete, 2003, 12, 13), List(0.573, 1.087, 152.0, 117.0, null, 10, 50.0, Complete, 2004, 2, 2), List(0.539, 1.311, 154.0, 131.0, null, 11, 18.18, Complete, 2005, 4, 5), List(0.239, 0.567, 129.0, 124.0, null, 4, 50.0, Complete, 2006, 1, 1), List(0.101, 0.0, 60.0, 60.0, null, 0, 0.0, Complete, 2007, 0, 0), List(0.177, 0.366, 129.0, 129.0, null, 0, 0.0, Complete, 2008, 0, 0), List(0.105, 0.0, 83.0, 83.0, null, 0, 0.0, Complete, 2009, 0, 0), List(null, null, 162.0, 162.0, null, 0, 0.0, Complete, 2010, 0, 0), List(null, null, 87.0, 87.0, null, 0, 0.0, Complete, 2011, 0, 0), List(null, null, 84.0, 84.0, null, 0, 0.0, Complete, 2012, 0, 0), List(null, null, 116.0, 116.0, null, 0, 0.0, Complete, 2013, 0, 0), List(null, null, 90.0, 90.0, null, 0, 0.0, Complete, 2014, 0, 0), List(null, null, 89.0, 89.0, null, 0, 0.0, Complete, 2015, 0, 0), List(null, null, 65.0, 65.0, null, 0, 0.0, Complete, 2016, 0, 0), List(null, null, 91.0, 91.0, null, 0, 0.0, Complete, 2017, 0, 0), List(null, null, 73.0, 73.0, null, 0, 0.0, Complete, 2018, 0, 0), List(null, null, 65.0, 65.0, null, 0, 0.0, Complete, 2019, 0, 0), List(null, null, 59.0, 59.0, null, 0, 0.0, Complete, 2020, 0, 0), List(null, null, 51.0, 51.0, null, 0, 0.0, Complete, 2021, 0, 0), List(null, null, 39.0, 39.0, null, 0, 0.0, Complete, 2022, 0, 0), List(null, null, 22.0, 22.0, null, 0, 0.0, In-Progress, 2023, 0, 0))</td><td>List(null, null, null, 0.154, 0.154, 0.112, 0.249, 0.324, 0.573, 0.539, 0.239, 0.101, 0.177, 0.105, null, null, null, null, null, null, null, null, null, null, null, null, null, null)</td><td>List(1996, 1997, 1998, 1999, 2000, 2001, 2002, 2003, 2004, 2005, 2006, 2007, 2008, 2009, 2010, 2011, 2012, 2013, 2014, 2015, 2016, 2017, 2018, 2019, 2020, 2021, 2022, 2023)</td><td>List(0.154, 0.154, 0.112, 0.249, 0.324, 0.573, 0.539, 0.239, 0.101, 0.177, 0.105)</td><td>0.24790908</td></tr><tr><td>12064</td><td>List(List(null, null, 98.0, 78.0, null, 45, 2.22, Complete, 1996, 14, 17), List(null, null, 94.0, 63.0, null, 49, 4.08, Complete, 1997, 10, 10), List(null, null, 111.0, 92.0, null, 46, 2.17, Complete, 1998, 11, 15), List(0.486, 0.722, 115.0, 77.0, null, 50, 0.0, Complete, 1999, 6, 11), List(0.3, 0.333, 114.0, 86.0, null, 47, 0.0, Complete, 2000, 3, 5), List(0.209, 0.67, 215.0, 162.0, null, 95, 1.05, Complete, 2001, 1, 5), List(0.276, 0.438, 204.0, 153.0, null, 82, 0.0, Complete, 2002, 4, 10), List(0.251, 0.614, 280.0, 194.0, null, 101, 0.0, Complete, 2003, 1, 2), List(0.603, 0.702, 431.0, 242.0, null, 95, 0.0, Complete, 2004, 6, 7), List(0.388, 0.691, 511.0, 404.0, null, 90, 0.0, Complete, 2005, 7, 9), List(0.578, 0.779, 623.0, 482.0, null, 99, 1.01, Complete, 2006, 8, 10), List(0.672, 0.866, 845.0, 603.0, null, 95, 0.0, Complete, 2007, 6, 8), List(0.511, 0.582, 945.0, 804.0, null, 98, 1.02, Complete, 2008, 3, 3), List(0.533, 0.545, 1163.0, 1008.0, null, 119, 0.0, Complete, 2009, 4, 6), List(0.634, 0.562, 1206.0, 1097.0, null, 78, 0.0, Complete, 2010, 1, 2), List(0.708, 0.885, 1571.0, 1326.0, List(List(694, 1.7, 57, 411, List(List(1902, List(87, 55), 37)))), 122, 0.0, Complete, 2011, 2, 3), List(0.836, 0.946, 1904.0, 1661.0, List(List(829, 2.0, 59, 423, List(List(1902, List(93, 49), 47)))), 110, 0.0, Complete, 2012, 5, 7), List(0.967, 1.103, 2301.0, 1999.0, List(List(999, 2.3, 58, 442, List(List(1902, List(96, 45), 53)))), 137, 0.0, Complete, 2013, 1, 6), List(1.035, 0.86, 2349.0, 2116.0, List(List(1255, 2.6, 63, 492, List(List(1902, List(97, 43), 56)))), 128, 0.0, Complete, 2014, 3, 3), List(0.971, 0.76, 2584.0, 2333.0, List(List(1273, 2.5, 63, 501, List(List(1902, List(99, 47), 53)))), 134, 0.0, Complete, 2015, 3, 4), List(0.974, 0.77, 2837.0, 2676.0, List(List(1516, 3.0, 70, 510, List(List(1902, List(103, 50), 51)))), 120, 0.83, Complete, 2016, 5, 6), List(0.956, 0.73, 3141.0, 2992.0, List(List(1397, 2.9, 69, 488, List(List(1902, List(108, 52), 52)))), 120, 5.0, Complete, 2017, 2, 4), List(1.14, 0.993, 3436.0, 3287.0, List(List(1608, 3.3, 70, 485, List(List(1902, List(112, 52), 54)))), 134, 0.0, Complete, 2018, 6, 8), List(1.293, 1.119, 4529.0, 4286.0, List(List(1750, 3.8, 74, 456, List(List(1902, List(115, 48), 58)))), 103, 10.68, Complete, 2019, 4, 4), List(1.187, 1.178, 4703.0, 4535.0, List(List(2106, 4.7, 75, 448, List(List(1902, List(124, 44), 64)))), 114, 0.0, Complete, 2020, 7, 7), List(1.121, 1.169, 5392.0, 5094.0, List(List(2565, 5.4, 81, 478, List(List(1902, List(135, 41), 70)))), 153, 2.61, Complete, 2021, 7, 8), List(1.54, 1.599, 6751.0, 6484.0, List(List(3603, 7.3, 86, 492, List(List(1902, List(137, 25), 82)))), 157, 3.82, Complete, 2022, 21, 25), List(null, null, 5411.0, 5011.0, List(List(3989, 8.0, 85, 501, List(List(1902, List(137, 18), 87)))), 161, 5.59, In-Progress, 2023, 87, 96))</td><td>List(null, null, null, 0.486, 0.3, 0.209, 0.276, 0.251, 0.603, 0.388, 0.578, 0.672, 0.511, 0.533, 0.634, 0.708, 0.836, 0.967, 1.035, 0.971, 0.974, 0.956, 1.14, 1.293, 1.187, 1.121, 1.54, null)</td><td>List(1996, 1997, 1998, 1999, 2000, 2001, 2002, 2003, 2004, 2005, 2006, 2007, 2008, 2009, 2010, 2011, 2012, 2013, 2014, 2015, 2016, 2017, 2018, 2019, 2020, 2021, 2022, 2023)</td><td>List(0.486, 0.3, 0.209, 0.276, 0.251, 0.603, 0.388, 0.578, 0.672, 0.511, 0.533, 0.634, 0.708, 0.836, 0.967, 1.035, 0.971, 0.974, 0.956, 1.14, 1.293, 1.187, 1.121, 1.54)</td><td>0.7570417</td></tr><tr><td>12073</td><td>List(List(null, null, 257.0, 231.0, null, 40, 25.0, Complete, 1996, 5, 5), List(null, null, 221.0, 219.0, null, 28, 0.0, Complete, 1997, 4, 4), List(null, null, 230.0, 225.0, null, 61, 0.0, Complete, 1998, 1, 1), List(0.255, 0.314, 199.0, 182.0, null, 36, 2.78, Complete, 1999, 7, 7), List(0.179, 0.587, 244.0, 237.0, null, 44, 0.0, Complete, 2000, 2, 2), List(0.272, 0.542, 259.0, 257.0, null, 48, 0.0, Complete, 2001, 3, 3), List(0.259, 0.735, 264.0, 247.0, null, 42, 0.0, Complete, 2002, 0, 0), List(0.194, 0.407, 341.0, 331.0, null, 57, 0.0, Complete, 2003, 1, 2), List(0.2, 0.288, 377.0, 349.0, null, 41, 0.0, Complete, 2004, 6, 6), List(0.436, 0.47, 528.0, 497.0, null, 32, 0.0, Complete, 2005, 1, 1), List(0.296, 0.471, 568.0, 567.0, null, 29, 0.0, Complete, 2006, 0, 0), List(0.272, 0.382, 734.0, 706.0, null, 35, 0.0, Complete, 2007, 1, 3), List(0.266, 0.516, 886.0, 864.0, null, 38, 0.0, Complete, 2008, 1, 1), List(0.392, 0.608, 1083.0, 1062.0, null, 36, 0.0, Complete, 2009, 1, 1), List(0.245, 0.324, 1175.0, 1166.0, null, 19, 0.0, Complete, 2010, 0, 0), List(0.542, 1.093, 1319.0, 1305.0, List(List(156, 1.3, 49, 120, List(List(3304, List(787, 266), 66)))), 41, 0.0, Complete, 2011, 1, 1), List(0.503, 0.627, 1624.0, 1566.0, List(List(164, 1.0, 47, 159, List(List(3304, List(836, 379), 54)))), 71, 0.0, Complete, 2012, 2, 2), List(0.516, 0.72, 1810.0, 1716.0, List(List(199, 1.0, 46, 196, List(List(3304, List(888, 423), 52)))), 76, 0.0, Complete, 2013, 0, 0), List(0.508, 1.039, 1976.0, 1902.0, List(List(378, 1.6, 60, 235, List(List(3304, List(909, 280), 69)))), 59, 0.0, Complete, 2014, 0, 0), List(0.891, 1.471, 2024.0, 1968.0, List(List(594, 2.2, 64, 273, List(List(3304, List(940, 213), 77)))), 83, 0.0, Complete, 2015, 1, 1), List(0.572, 1.203, 2259.0, 2215.0, List(List(707, 2.4, 55, 290, List(List(3304, List(978, 196), 80)))), 82, 0.0, Complete, 2016, 0, 0), List(0.617, 1.17, 2470.0, 2410.0, List(List(597, 2.0, 57, 295, List(List(3304, List(1024, 310), 69)))), 76, 0.0, Complete, 2017, 1, 1), List(0.673, 1.117, 2523.0, 2478.0, List(List(673, 2.1, 62, 316, List(List(3304, List(1179, 315), 73)))), 87, 0.0, Complete, 2018, 5, 6), List(0.737, 1.365, 3066.0, 2976.0, List(List(903, 2.5, 61, 362, List(List(3304, List(1254, 279), 77)))), 128, 0.0, Complete, 2019, 5, 7), List(0.921, 1.524, 3642.0, 3492.0, List(List(1365, 3.1, 67, 440, List(List(3304, List(1319, 243), 81)))), 165, 0.0, Complete, 2020, 12, 12), List(0.923, 1.517, 4334.0, 4222.0, List(List(1834, 3.6, 67, 512, List(List(3304, List(1406, 269), 80)))), 140, 0.0, Complete, 2021, 15, 16), List(1.017, 1.68, 5521.0, 5435.0, List(List(2818, 4.9, 74, 578, List(List(3304, List(1469, 213), 85)))), 151, 0.0, Complete, 2022, 42, 47), List(null, null, 4196.0, 4118.0, List(List(2759, 5.0, 70, 547, List(List(3304, List(1471, 194), 86)))), 94, 0.0, In-Progress, 2023, 79, 80))</td><td>List(null, null, null, 0.255, 0.179, 0.272, 0.259, 0.194, 0.2, 0.436, 0.296, 0.272, 0.266, 0.392, 0.245, 0.542, 0.503, 0.516, 0.508, 0.891, 0.572, 0.617, 0.673, 0.737, 0.921, 0.923, 1.017, null)</td><td>List(1996, 1997, 1998, 1999, 2000, 2001, 2002, 2003, 2004, 2005, 2006, 2007, 2008, 2009, 2010, 2011, 2012, 2013, 2014, 2015, 2016, 2017, 2018, 2019, 2020, 2021, 2022, 2023)</td><td>List(0.255, 0.179, 0.272, 0.259, 0.194, 0.2, 0.436, 0.296, 0.272, 0.266, 0.392, 0.245, 0.542, 0.503, 0.516, 0.508, 0.891, 0.572, 0.617, 0.673, 0.737, 0.921, 0.923, 1.017)</td><td>0.48691666</td></tr><tr><td>12085</td><td>List(List(null, null, 122.0, 63.0, null, 36, 5.56, Complete, 1996, 2, 3), List(null, null, 113.0, 93.0, null, 30, 13.33, Complete, 1997, 5, 5), List(null, null, 108.0, 69.0, null, 23, 30.43, Complete, 1998, 4, 5), List(0.182, 0.765, 83.0, 48.0, null, 13, 0.0, Complete, 1999, 1, 1), List(0.611, 1.033, 151.0, 96.0, null, 22, 4.55, Complete, 2000, 2, 3), List(0.635, 0.735, 332.0, 275.0, null, 16, 6.25, Complete, 2001, 0, 0), List(0.295, 0.68, 233.0, 189.0, null, 11, 18.18, Complete, 2002, 0, 0), List(0.25, 0.86, 213.0, 156.0, null, 12, 16.67, Complete, 2003, 2, 2), List(0.846, 1.831, 179.0, 151.0, null, 19, 10.53, Complete, 2004, 5, 6), List(0.905, 1.751, 261.0, 220.0, null, 20, 5.0, Complete, 2005, 6, 8), List(0.162, 1.549, 252.0, 226.0, null, 23, 13.04, Complete, 2006, 5, 8), List(0.94, 1.603, 265.0, 221.0, null, 17, 52.94, Complete, 2007, 2, 2), List(0.598, 1.915, 338.0, 266.0, null, 23, 8.7, Complete, 2008, 4, 6), List(0.313, 0.822, 209.0, 144.0, null, 21, 9.52, Complete, 2009, 3, 3), List(1.048, 1.787, 350.0, 265.0, null, 28, 35.71, Complete, 2010, 8, 8), List(0.605, 1.887, 412.0, 270.0, List(List(99, 1.2, 38, 85, List(List(3309, List(174, 66), 62), List(1201, List(264, 141), 46)))), 37, 27.03, Complete, 2011, 12, 12), List(0.982, 1.631, 464.0, 391.0, List(List(108, 1.2, 45, 92, List(List(3309, List(182, 63), 65), List(1201, List(266, 149), 44)))), 24, 20.83, Complete, 2012, 4, 5), List(0.556, 0.896, 436.0, 354.0, List(List(121, 1.3, 45, 96, List(List(3309, List(190, 64), 66), List(1201, List(267, 148), 44)))), 28, 3.57, Complete, 2013, 5, 6), List(0.742, 1.686, 440.0, 338.0, List(List(107, 1.1, 46, 98, List(List(3309, List(195, 82), 58), List(1201, List(267, 168), 37)))), 25, 12.0, Complete, 2014, 7, 9), List(0.531, 0.849, 564.0, 454.0, List(List(74, 1.1, 53, 66, List(List(3309, List(197, 91), 54), List(1201, List(267, 177), 33)))), 26, 88.46, Complete, 2015, 4, 4), List(0.26, 0.794, 485.0, 431.0, List(List(90, 1.7, 66, 53, List(List(3309, List(203, 56), 72), List(1201, List(250, 129), 48)))), 22, 68.18, Complete, 2016, 4, 4), List(0.488, 1.589, 530.0, 448.0, List(List(79, 1.0, 39, 83, List(List(3309, List(210, 94), 55), List(1201, List(259, 177), 31)))), 19, 15.79, Complete, 2017, 7, 8), List(0.453, 1.224, 429.0, 325.0, List(List(82, 1.0, 40, 81, List(List(3309, List(219, 97), 55), List(1201, List(283, 178), 37)))), 22, 95.45, Complete, 2018, 6, 7), List(0.232, 1.33, 545.0, 380.0, List(List(67, 1.0, 36, 67, List(List(3309, List(227, 110), 51), List(1201, List(295, 176), 40)))), 25, 16.0, Complete, 2019, 8, 8), List(0.153, 0.993, 449.0, 449.0, List(List(58, 0.9, 37, 62, List(List(3309, List(235, 125), 47), List(1201, List(306, 183), 40)))), 0, 0.0, Complete, 2020, 0, 0), List(0.244, 0.937, 425.0, 404.0, List(List(65, 1.0, 39, 62, List(List(1201, List(376, 193), 48), List(3309, List(247, 133), 46)))), 20, 0.0, Complete, 2021, 12, 13), List(0.247, 1.616, 612.0, 563.0, List(List(47, 0.8, 37, 57, List(List(1201, List(440, 222), 49), List(3309, List(266, 160), 39)))), 17, 29.41, Complete, 2022, 16, 16), List(null, null, 282.0, 282.0, List(List(9, 0.3, 24, 33, List(List(1201, List(440, 317), 28), List(3309, List(265, 219), 17)))), 0, 0.0, In-Progress, 2023, 0, 0))</td><td>List(null, null, null, 0.182, 0.611, 0.635, 0.295, 0.25, 0.846, 0.905, 0.162, 0.94, 0.598, 0.313, 1.048, 0.605, 0.982, 0.556, 0.742, 0.531, 0.26, 0.488, 0.453, 0.232, 0.153, 0.244, 0.247, null)</td><td>List(1996, 1997, 1998, 1999, 2000, 2001, 2002, 2003, 2004, 2005, 2006, 2007, 2008, 2009, 2010, 2011, 2012, 2013, 2014, 2015, 2016, 2017, 2018, 2019, 2020, 2021, 2022, 2023)</td><td>List(0.182, 0.611, 0.635, 0.295, 0.25, 0.846, 0.905, 0.162, 0.94, 0.598, 0.313, 1.048, 0.605, 0.982, 0.556, 0.742, 0.531, 0.26, 0.488, 0.453, 0.232, 0.153, 0.244, 0.247)</td><td>0.5115833</td></tr><tr><td>12111</td><td>List(List(null, null, 497.0, 493.0, null, 19, 0.0, Complete, 1996, 1, 1), List(null, null, 543.0, 535.0, null, 19, 0.0, Complete, 1997, 0, 0), List(null, null, 484.0, 473.0, null, 22, 0.0, Complete, 1998, 2, 2), List(0.403, 0.687, 578.0, 570.0, null, 19, 15.79, Complete, 1999, 0, 0), List(0.625, 1.007, 623.0, 616.0, null, 19, 10.53, Complete, 2000, 1, 1), List(0.593, 0.886, 661.0, 653.0, null, 17, 0.0, Complete, 2001, 0, 0), List(0.653, 0.943, 705.0, 695.0, null, 19, 10.53, Complete, 2002, 1, 1), List(0.546, 1.098, 712.0, 705.0, null, 21, 0.0, Complete, 2003, 1, 1), List(0.343, 0.55, 711.0, 708.0, null, 18, 11.11, Complete, 2004, 2, 2), List(0.579, 0.771, 835.0, 828.0, null, 13, 0.0, Complete, 2005, 1, 1), List(0.466, 0.587, 889.0, 883.0, null, 13, 23.08, Complete, 2006, 0, 0), List(0.623, 0.747, 859.0, 851.0, null, 13, 15.38, Complete, 2007, 0, 0), List(0.547, 1.307, 879.0, 876.0, null, 14, 7.14, Complete, 2008, 0, 0), List(0.451, 0.651, 896.0, 893.0, null, 17, 0.0, Complete, 2009, 0, 0), List(0.38, 0.711, 818.0, 815.0, null, 18, 0.0, Complete, 2010, 0, 0), List(0.475, 0.623, 858.0, 858.0, List(List(136, 2.0, 52, 67, List(List(3202, List(174, 76), 56), List(2738, List(442, 194), 56)))), 19, 0.0, Complete, 2011, 0, 0), List(0.478, 0.671, 952.0, 949.0, List(List(159, 2.3, 64, 70, List(List(3202, List(185, 73), 60), List(2738, List(454, 185), 59)))), 16, 6.25, Complete, 2012, 0, 0), List(0.509, 0.647, 1043.0, 1040.0, List(List(144, 1.9, 58, 74, List(List(2738, List(463, 226), 51), List(3202, List(186, 97), 48)))), 22, 0.0, Complete, 2013, 1, 1), List(0.486, 0.523, 989.0, 986.0, List(List(151, 2.0, 64, 75, List(List(2738, List(468, 220), 53), List(3202, List(191, 95), 50)))), 19, 5.26, Complete, 2014, 0, 0), List(0.537, 0.712, 891.0, 876.0, List(List(174, 2.1, 75, 81, List(List(2738, List(479, 223), 53), List(3202, List(195, 100), 48)))), 26, 0.0, Complete, 2015, 0, 0), List(0.682, 0.523, 971.0, 967.0, List(List(263, 2.8, 83, 94, List(List(2738, List(481, 198), 58), List(3202, List(200, 83), 58)))), 30, 0.0, Complete, 2016, 0, 0), List(0.783, 0.881, 1014.0, 1003.0, List(List(328, 3.1, 72, 107, List(List(3202, List(215, 79), 63), List(2738, List(491, 183), 62)))), 35, 2.86, Complete, 2017, 1, 1), List(0.89, 1.039, 1210.0, 1204.0, List(List(443, 3.6, 69, 124, List(List(3202, List(221, 63), 71), List(2738, List(504, 157), 68)))), 39, 5.13, Complete, 2018, 1, 1), List(0.665, 0.819, 1076.0, 1069.0, List(List(432, 3.3, 73, 131, List(List(2738, List(506, 179), 64), List(3202, List(227, 83), 63)))), 33, 12.12, Complete, 2019, 2, 2), List(0.896, 1.032, 1392.0, 1388.0, List(List(547, 4.1, 78, 134, List(List(3202, List(227, 66), 71), List(2738, List(502, 154), 69)))), 35, 0.0, Complete, 2020, 1, 1), List(1.073, 1.378, 1643.0, 1642.0, List(List(670, 5.0, 83, 133, List(List(3202, List(230, 59), 74), List(2738, List(529, 137), 74)))), 33, 3.03, Complete, 2021, 1, 1), List(1.331, 1.736, 1921.0, 1904.0, List(List(910, 7.0, 86, 130, List(List(2738, List(531, 84), 84), List(3202, List(241, 46), 81)))), 62, 3.23, Complete, 2022, 21, 21), List(null, null, 1363.0, 1354.0, List(List(577, 4.5, 86, 128, List(List(2738, List(531, 182), 65), List(3202, List(241, 87), 64)))), 42, 4.76, In-Progress, 2023, 20, 20))</td><td>List(null, null, null, 0.403, 0.625, 0.593, 0.653, 0.546, 0.343, 0.579, 0.466, 0.623, 0.547, 0.451, 0.38, 0.475, 0.478, 0.509, 0.486, 0.537, 0.682, 0.783, 0.89, 0.665, 0.896, 1.073, 1.331, null)</td><td>List(1996, 1997, 1998, 1999, 2000, 2001, 2002, 2003, 2004, 2005, 2006, 2007, 2008, 2009, 2010, 2011, 2012, 2013, 2014, 2015, 2016, 2017, 2018, 2019, 2020, 2021, 2022, 2023)</td><td>List(0.403, 0.625, 0.593, 0.653, 0.546, 0.343, 0.579, 0.466, 0.623, 0.547, 0.451, 0.38, 0.475, 0.478, 0.509, 0.486, 0.537, 0.682, 0.783, 0.89, 0.665, 0.896, 1.073, 1.331)</td><td>0.62558335</td></tr><tr><td>12127</td><td>List(List(null, null, 3404.0, 2929.0, null, 104, 0.0, Complete, 1996, 2, 2), List(null, null, 3401.0, 2793.0, null, 120, 0.0, Complete, 1997, 0, 0), List(null, null, 3792.0, 3348.0, null, 88, 0.0, Complete, 1998, 2, 2), List(1.597, 1.529, 3925.0, 3399.0, null, 102, 2.94, Complete, 1999, 2, 2), List(1.934, 1.523, 4293.0, 3851.0, null, 89, 1.12, Complete, 2000, 1, 1), List(2.013, 2.197, 5382.0, 4876.0, null, 104, 0.0, Complete, 2001, 0, 0), List(2.24, 1.734, 5501.0, 4966.0, null, 109, 0.0, Complete, 2002, 0, 0), List(1.849, 1.645, 5630.0, 5041.0, null, 107, 5.61, Complete, 2003, 0, 0), List(1.89, 1.922, 6849.0, 6371.0, null, 99, 1.01, Complete, 2004, 1, 1), List(2.21, 2.296, 8042.0, 7529.0, null, 117, 0.0, Complete, 2005, 1, 1), List(2.408, 2.089, 8875.0, 8291.0, null, 136, 0.0, Complete, 2006, 1, 1), List(2.449, 2.226, 11018.0, 9675.0, null, 268, 0.0, Complete, 2007, 0, 0), List(2.391, 1.774, 12581.0, 11807.0, null, 131, 0.0, Complete, 2008, 0, 0), List(2.17, 1.593, 12314.0, 11551.0, null, 154, 0.0, Complete, 2009, 2, 2), List(2.008, 1.586, 13169.0, 12454.0, null, 162, 0.0, Complete, 2010, 1, 1), List(2.353, 1.611, 14766.0, 14136.0, List(List(3301, 5.9, 79, 562, List(List(3203, List(233, 10), 95), List(1201, List(264, 16), 94), List(3204, List(246, 22), 91), List(2738, List(442, 46), 89), List(3205, List(111, 13), 88)))), 121, 0.0, Complete, 2011, 0, 0), List(2.472, 1.842, 17164.0, 16713.0, List(List(3780, 7.1, 81, 534, List(List(3203, List(236, 7), 97), List(1201, List(266, 10), 96), List(3205, List(115, 5), 96), List(3204, List(261, 12), 95), List(2738, List(454, 35), 92)))), 103, 0.0, Complete, 2012, 1, 1), List(2.294, 1.809, 17895.0, 17458.0, List(List(3711, 7.5, 81, 496, List(List(3205, List(118, 4), 97), List(3203, List(241, 9), 96), List(1201, List(267, 11), 96), List(3204, List(267, 13), 95), List(2738, List(463, 32), 93)))), 117, 0.0, Complete, 2013, 2, 2), List(2.652, 1.853, 19103.0, 18590.0, List(List(3200, 6.9, 77, 465, List(List(1201, List(267, 10), 96), List(3205, List(118, 5), 96), List(3203, List(242, 10), 96), List(3204, List(271, 13), 95), List(2738, List(468, 41), 91)))), 132, 0.0, Complete, 2014, 2, 2), List(2.487, 1.867, 19298.0, 18709.0, List(List(3222, 6.7, 78, 479, List(List(1201, List(267, 12), 95), List(3203, List(246, 12), 95), List(3205, List(119, 7), 94), List(3204, List(276, 17), 94), List(2738, List(479, 44), 90)))), 138, 0.0, Complete, 2015, 0, 0), List(2.448, 1.66, 19238.0, 18768.0, List(List(3519, 7.2, 81, 490, List(List(3203, List(251, 10), 96), List(3205, List(125, 9), 93), List(2738, List(481, 44), 90)))), 110, 7.27, Complete, 2016, 0, 0), List(2.619, 1.993, 19978.0, 19263.0, List(List(3977, 7.5, 81, 530, List(List(3203, List(259, 9), 96), List(3205, List(132, 5), 96), List(2738, List(491, 35), 92)))), 163, 4.29, Complete, 2017, 6, 7), List(2.288, 1.865, 20061.0, 19647.0, List(List(3760, 7.3, 79, 516, List(List(3205, List(137, 4), 97), List(3203, List(270, 11), 96), List(2738, List(504, 40), 92)))), 118, 0.0, Complete, 2018, 0, 0), List(2.326, 1.874, 21055.0, 20607.0, List(List(3866, 7.4, 80, 519, List(List(3203, List(275, 10), 96), List(3205, List(145, 7), 95), List(2738, List(506, 36), 92)))), 145, 0.69, Complete, 2019, 2, 2), List(2.506, 1.96, 22150.0, 21472.0, List(List(4393, 8.0, 82, 546, List(List(3203, List(283, 11), 96), List(3205, List(148, 8), 94), List(2738, List(502, 36), 92)))), 143, 2.1, Complete, 2020, 4, 4), List(2.022, 1.722, 23685.0, 23097.0, List(List(3625, 6.9, 79, 528, List(List(3205, List(150, 13), 91), List(3203, List(292, 29), 90), List(2738, List(529, 78), 85)))), 142, 0.7, Complete, 2021, 10, 11), List(1.787, 1.66, 25481.0, 24807.0, List(List(4326, 7.9, 84, 550, List(List(3205, List(152, 11), 93), List(3203, List(292, 24), 91), List(2738, List(531, 67), 87)))), 140, 0.71, Complete, 2022, 23, 27), List(null, null, 17855.0, 17447.0, List(List(3219, 6.4, 78, 500, List(List(3205, List(153, 13), 91), List(3203, List(292, 33), 88), List(2738, List(531, 91), 82)))), 94, 3.19, In-Progress, 2023, 68, 73))</td><td>List(null, null, null, 1.597, 1.934, 2.013, 2.24, 1.849, 1.89, 2.21, 2.408, 2.449, 2.391, 2.17, 2.008, 2.353, 2.472, 2.294, 2.652, 2.487, 2.448, 2.619, 2.288, 2.326, 2.506, 2.022, 1.787, null)</td><td>List(1996, 1997, 1998, 1999, 2000, 2001, 2002, 2003, 2004, 2005, 2006, 2007, 2008, 2009, 2010, 2011, 2012, 2013, 2014, 2015, 2016, 2017, 2018, 2019, 2020, 2021, 2022, 2023)</td><td>List(1.597, 1.934, 2.013, 2.24, 1.849, 1.89, 2.21, 2.408, 2.449, 2.391, 2.17, 2.008, 2.353, 2.472, 2.294, 2.652, 2.487, 2.448, 2.619, 2.288, 2.326, 2.506, 2.022, 1.787)</td><td>2.2255416</td></tr><tr><td>12128</td><td>List(List(null, null, 263.0, 245.0, null, 32, 3.13, Complete, 1996, 1, 2), List(null, null, 289.0, 265.0, null, 28, 14.29, Complete, 1997, 1, 1), List(null, null, 310.0, 281.0, null, 34, 2.94, Complete, 1998, 2, 2), List(0.549, 0.681, 376.0, 354.0, null, 36, 13.89, Complete, 1999, 6, 6), List(0.74, 0.689, 434.0, 405.0, null, 36, 22.22, Complete, 2000, 3, 3), List(0.491, 0.687, 498.0, 468.0, null, 46, 6.52, Complete, 2001, 2, 2), List(0.614, 0.796, 509.0, 477.0, null, 45, 2.22, Complete, 2002, 0, 0), List(0.718, 0.933, 611.0, 570.0, null, 43, 4.65, Complete, 2003, 3, 3), List(0.903, 0.849, 761.0, 724.0, null, 48, 20.83, Complete, 2004, 1, 1), List(0.567, 0.775, 858.0, 816.0, null, 44, 20.45, Complete, 2005, 4, 4), List(0.604, 0.588, 892.0, 844.0, null, 47, 14.89, Complete, 2006, 3, 3), List(0.824, 1.27, 1095.0, 1016.0, null, 58, 5.17, Complete, 2007, 2, 2), List(0.622, 0.718, 1298.0, 1213.0, null, 69, 13.04, Complete, 2008, 3, 4), List(0.508, 0.617, 1202.0, 1169.0, null, 47, 4.26, Complete, 2009, 3, 3), List(0.688, 0.851, 1395.0, 1332.0, null, 47, 0.0, Complete, 2010, 1, 1), List(0.867, 1.087, 1590.0, 1546.0, List(List(598, 2.9, 64, 203, List(List(3203, List(233, 56), 76)))), 47, 6.38, Complete, 2011, 0, 0), List(0.924, 0.89, 1841.0, 1793.0, List(List(602, 3.2, 67, 186, List(List(3203, List(236, 52), 78)))), 48, 0.0, Complete, 2012, 2, 2), List(0.769, 1.028, 2142.0, 2083.0, List(List(573, 3.0, 68, 188, List(List(3203, List(241, 69), 71)))), 48, 2.08, Complete, 2013, 0, 0), List(0.998, 1.056, 2172.0, 2104.0, List(List(582, 2.8, 73, 205, List(List(3203, List(242, 77), 68)))), 64, 1.56, Complete, 2014, 0, 0), List(0.953, 0.955, 2187.0, 2116.0, List(List(674, 3.1, 78, 215, List(List(3203, List(246, 75), 69)))), 56, 1.79, Complete, 2015, 1, 1), List(0.871, 1.086, 2106.0, 2046.0, List(List(768, 3.3, 74, 231, List(List(3203, List(251, 68), 73)))), 64, 3.13, Complete, 2016, 5, 5), List(0.976, 0.894, 2282.0, 2203.0, List(List(801, 3.4, 71, 235, List(List(3203, List(259, 69), 73)))), 56, 5.36, Complete, 2017, 2, 2), List(0.707, 0.894, 2271.0, 2233.0, List(List(686, 3.0, 69, 227, List(List(3203, List(270, 79), 70)))), 58, 0.0, Complete, 2018, 4, 4), List(0.805, 0.871, 2486.0, 2441.0, List(List(652, 2.9, 71, 226, List(List(3203, List(275, 88), 68)))), 55, 0.0, Complete, 2019, 1, 1), List(0.851, 0.778, 2548.0, 2463.0, List(List(623, 2.8, 66, 221, List(List(3203, List(283, 98), 65)))), 68, 1.47, Complete, 2020, 4, 4), List(0.781, 0.893, 2852.0, 2760.0, List(List(782, 3.6, 73, 218, List(List(3203, List(292, 96), 67)))), 59, 3.39, Complete, 2021, 5, 5), List(0.858, 1.113, 3042.0, 2987.0, List(List(918, 4.1, 75, 224, List(List(3203, List(292, 99), 66)))), 53, 1.89, Complete, 2022, 20, 20), List(null, null, 2047.0, 2014.0, List(List(628, 2.9, 66, 213, List(List(3203, List(292, 126), 57)))), 47, 0.0, In-Progress, 2023, 40, 40))</td><td>List(null, null, null, 0.549, 0.74, 0.491, 0.614, 0.718, 0.903, 0.567, 0.604, 0.824, 0.622, 0.508, 0.688, 0.867, 0.924, 0.769, 0.998, 0.953, 0.871, 0.976, 0.707, 0.805, 0.851, 0.781, 0.858, null)</td><td>List(1996, 1997, 1998, 1999, 2000, 2001, 2002, 2003, 2004, 2005, 2006, 2007, 2008, 2009, 2010, 2011, 2012, 2013, 2014, 2015, 2016, 2017, 2018, 2019, 2020, 2021, 2022, 2023)</td><td>List(0.549, 0.74, 0.491, 0.614, 0.718, 0.903, 0.567, 0.604, 0.824, 0.622, 0.508, 0.688, 0.867, 0.924, 0.769, 0.998, 0.953, 0.871, 0.976, 0.707, 0.805, 0.851, 0.781, 0.858)</td><td>0.75783336</td></tr><tr><td>12138</td><td>List(List(null, null, 208.0, 208.0, null, 203, 0.0, Complete, 1996, 64, 64), List(null, null, 256.0, 256.0, null, 175, 0.0, Complete, 1997, 45, 47), List(null, null, 261.0, 261.0, null, 214, 0.0, Complete, 1998, 82, 84), List(0.346, null, 365.0, 365.0, null, 151, 0.0, Complete, 1999, 45, 49), List(0.317, null, 284.0, 227.0, null, 146, 0.0, Complete, 2000, 52, 57), List(0.264, 0.444, 407.0, 333.0, null, 160, 0.0, Complete, 2001, 48, 50), List(0.406, 0.743, 451.0, 401.0, null, 194, 0.0, Complete, 2002, 84, 90), List(0.397, 0.482, 493.0, 436.0, null, 151, 0.0, Complete, 2003, 57, 57), List(0.371, 0.531, 525.0, 440.0, null, 200, 0.0, Complete, 2004, 84, 91), List(0.361, 0.42, 538.0, 471.0, null, 177, 0.0, Complete, 2005, 81, 84), List(0.23, 0.306, 434.0, 387.0, null, 118, 0.0, Complete, 2006, 45, 47), List(0.223, 0.227, 368.0, 336.0, null, 156, 0.0, Complete, 2007, 50, 54), List(0.261, 0.413, 487.0, 392.0, null, 180, 0.0, Complete, 2008, 96, 101), List(0.238, 0.26, 355.0, 310.0, null, 114, 0.0, Complete, 2009, 40, 45), List(0.246, 0.429, 448.0, 383.0, null, 125, 0.0, Complete, 2010, 55, 57), List(0.232, 0.332, 452.0, 402.0, List(List(377, 0.8, 29, 494, List(List(2208, List(589, 379), 35), List(2504, List(183, 141), 23)))), 122, 0.0, Complete, 2011, 44, 44), List(0.23, 0.25, 372.0, 345.0, List(List(402, 0.9, 33, 436, List(List(2208, List(615, 371), 39), List(2504, List(193, 140), 27)))), 79, 0.0, Complete, 2012, 21, 21), List(0.206, 0.349, 406.0, 385.0, List(List(301, 0.7, 35, 413, List(List(2208, List(631, 444), 29), List(2504, List(199, 164), 17)))), 91, 0.0, Complete, 2013, 40, 43), List(0.264, 0.327, 367.0, 346.0, List(List(289, 0.8, 36, 363, List(List(2208, List(651, 438), 32), List(2504, List(207, 168), 19)))), 75, 0.0, Complete, 2014, 34, 34), List(0.188, 0.38, 346.0, 346.0, List(List(235, 1.0, 39, 242, List(List(2208, List(660, 406), 38), List(2504, List(213, 154), 27)))), 0, 0.0, Complete, 2015, 0, 0), List(0.139, 0.092, 290.0, 290.0, null, 0, 0.0, Complete, 2016, 0, 0), List(0.153, 0.288, 327.0, 327.0, null, 0, 0.0, Complete, 2017, 0, 0), List(null, null, 250.0, 250.0, null, 0, 0.0, Complete, 2018, 0, 0), List(null, null, 211.0, 211.0, null, 0, 0.0, Complete, 2019, 0, 0), List(null, null, 168.0, 168.0, null, 0, 0.0, Complete, 2020, 0, 0), List(null, null, 198.0, 198.0, null, 0, 0.0, Complete, 2021, 0, 0), List(null, null, 163.0, 163.0, null, 0, 0.0, Complete, 2022, 0, 0), List(null, null, 97.0, 97.0, null, 0, 0.0, In-Progress, 2023, 0, 0))</td><td>List(null, null, null, 0.346, 0.317, 0.264, 0.406, 0.397, 0.371, 0.361, 0.23, 0.223, 0.261, 0.238, 0.246, 0.232, 0.23, 0.206, 0.264, 0.188, 0.139, 0.153, null, null, null, null, null, null)</td><td>List(1996, 1997, 1998, 1999, 2000, 2001, 2002, 2003, 2004, 2005, 2006, 2007, 2008, 2009, 2010, 2011, 2012, 2013, 2014, 2015, 2016, 2017, 2018, 2019, 2020, 2021, 2022, 2023)</td><td>List(0.346, 0.317, 0.264, 0.406, 0.397, 0.371, 0.361, 0.23, 0.223, 0.261, 0.238, 0.246, 0.232, 0.23, 0.206, 0.264, 0.188, 0.139, 0.153)</td><td>0.26694736</td></tr></tbody></table></div>"
      ]
     },
     "metadata": {
      "application/vnd.databricks.v1+output": {
       "addedWidgets": {},
       "aggData": [],
       "aggError": "",
       "aggOverflow": false,
       "aggSchema": [],
       "aggSeriesLimitReached": false,
       "aggType": "",
       "arguments": {},
       "columnCustomDisplayInfos": {},
       "data": [
        [
         12029,
         [
          [
           null,
           null,
           142.0,
           130.0,
           null,
           16,
           0.0,
           "Complete",
           1996,
           0,
           1
          ],
          [
           null,
           null,
           165.0,
           159.0,
           null,
           17,
           0.0,
           "Complete",
           1997,
           1,
           1
          ],
          [
           null,
           null,
           173.0,
           166.0,
           null,
           28,
           10.71,
           "Complete",
           1998,
           1,
           2
          ],
          [
           0.767,
           1.512,
           174.0,
           163.0,
           null,
           29,
           3.45,
           "Complete",
           1999,
           1,
           1
          ],
          [
           0.599,
           1.656,
           282.0,
           268.0,
           null,
           35,
           5.71,
           "Complete",
           2000,
           1,
           1
          ],
          [
           0.626,
           0.956,
           332.0,
           312.0,
           null,
           31,
           0.0,
           "Complete",
           2001,
           0,
           1
          ],
          [
           0.789,
           0.899,
           348.0,
           340.0,
           null,
           29,
           24.14,
           "Complete",
           2002,
           1,
           1
          ],
          [
           0.813,
           0.968,
           465.0,
           458.0,
           null,
           36,
           52.78,
           "Complete",
           2003,
           2,
           2
          ],
          [
           0.829,
           1.141,
           619.0,
           597.0,
           null,
           33,
           48.48,
           "Complete",
           2004,
           0,
           0
          ],
          [
           0.724,
           1.142,
           749.0,
           727.0,
           null,
           36,
           27.78,
           "Complete",
           2005,
           2,
           2
          ],
          [
           0.957,
           1.638,
           884.0,
           845.0,
           null,
           30,
           16.67,
           "Complete",
           2006,
           0,
           0
          ],
          [
           1.113,
           1.801,
           1043.0,
           1020.0,
           null,
           44,
           40.91,
           "Complete",
           2007,
           2,
           2
          ],
          [
           0.952,
           1.255,
           1472.0,
           1422.0,
           null,
           50,
           24.0,
           "Complete",
           2008,
           0,
           0
          ],
          [
           0.871,
           1.312,
           1635.0,
           1619.0,
           null,
           35,
           22.86,
           "Complete",
           2009,
           0,
           0
          ],
          [
           0.889,
           1.85,
           2056.0,
           2012.0,
           null,
           31,
           0.0,
           "Complete",
           2010,
           0,
           0
          ],
          [
           1.325,
           2.177,
           2351.0,
           2324.0,
           [
            [
             840,
             6.1,
             75,
             137,
             [
              [
               1201,
               [
                264,
                13
               ],
               95
              ],
              [
               3202,
               [
                174,
                9
               ],
               95
              ],
              [
               3204,
               [
                246,
                18
               ],
               92
              ]
             ]
            ]
           ],
           30,
           0.0,
           "Complete",
           2011,
           1,
           1
          ],
          [
           1.481,
           1.703,
           2905.0,
           2893.0,
           [
            [
             468,
             3.7,
             73,
             126,
             [
              [
               3202,
               [
                185,
                31
               ],
               83
              ],
              [
               1201,
               [
                266,
                56
               ],
               79
              ],
              [
               3204,
               [
                261,
                61
               ],
               76
              ]
             ]
            ]
           ],
           34,
           0.0,
           "Complete",
           2012,
           1,
           1
          ],
          [
           1.571,
           1.625,
           3072.0,
           3009.0,
           [
            [
             461,
             3.8,
             78,
             120,
             [
              [
               1201,
               [
                267,
                49
               ],
               81
              ],
              [
               3202,
               [
                186,
                36
               ],
               80
              ],
              [
               3204,
               [
                267,
                64
               ],
               76
              ]
             ]
            ]
           ],
           29,
           0.0,
           "Complete",
           2013,
           0,
           0
          ],
          [
           1.51,
           1.926,
           3423.0,
           3350.0,
           [
            [
             544,
             4.9,
             79,
             112,
             [
              [
               3202,
               [
                191,
                20
               ],
               89
              ],
              [
               1201,
               [
                267,
                32
               ],
               88
              ],
              [
               3204,
               [
                271,
                38
               ],
               86
              ]
             ]
            ]
           ],
           29,
           0.0,
           "Complete",
           2014,
           0,
           0
          ],
          [
           1.02,
           1.451,
           3736.0,
           3686.0,
           [
            [
             521,
             5.0,
             78,
             105,
             [
              [
               1201,
               [
                267,
                32
               ],
               88
              ],
              [
               3202,
               [
                195,
                25
               ],
               87
              ],
              [
               3204,
               [
                276,
                40
               ],
               85
              ]
             ]
            ]
           ],
           28,
           0.0,
           "Complete",
           2015,
           1,
           1
          ],
          [
           1.228,
           1.342,
           3948.0,
           3894.0,
           [
            [
             441,
             4.2,
             86,
             105,
             [
              [
               1201,
               [
                250,
                37
               ],
               85
              ],
              [
               3204,
               [
                276,
                56
               ],
               79
              ],
              [
               3202,
               [
                200,
                43
               ],
               78
              ]
             ]
            ]
           ],
           26,
           0.0,
           "Complete",
           2016,
           1,
           1
          ],
          [
           1.406,
           1.394,
           4220.0,
           4201.0,
           [
            [
             509,
             5.0,
             84,
             101,
             [
              [
               1201,
               [
                259,
                22
               ],
               91
              ],
              [
               3204,
               [
                290,
                38
               ],
               87
              ],
              [
               3202,
               [
                215,
                34
               ],
               84
              ]
             ]
            ]
           ],
           25,
           4.0,
           "Complete",
           2017,
           0,
           0
          ],
          [
           1.958,
           1.803,
           4467.0,
           4446.0,
           [
            [
             599,
             5.7,
             76,
             106,
             [
              [
               1201,
               [
                283,
                16
               ],
               94
              ],
              [
               3204,
               [
                314,
                27
               ],
               91
              ],
              [
               3202,
               [
                221,
                25
               ],
               88
              ]
             ]
            ]
           ],
           28,
           0.0,
           "Complete",
           2018,
           0,
           0
          ],
          [
           1.457,
           1.711,
           4772.0,
           4740.0,
           [
            [
             690,
             6.4,
             81,
             108,
             [
              [
               1201,
               [
                295,
                12
               ],
               96
              ],
              [
               3204,
               [
                327,
                19
               ],
               94
              ],
              [
               3202,
               [
                227,
                21
               ],
               90
              ]
             ]
            ]
           ],
           26,
           7.69,
           "Complete",
           2019,
           0,
           0
          ],
          [
           1.497,
           1.899,
           5257.0,
           5156.0,
           [
            [
             669,
             5.3,
             87,
             127,
             [
              [
               1201,
               [
                306,
                22
               ],
               92
              ],
              [
               3204,
               [
                332,
                41
               ],
               87
              ],
              [
               3202,
               [
                227,
                36
               ],
               84
              ]
             ]
            ]
           ],
           61,
           9.84,
           "Complete",
           2020,
           4,
           5
          ],
          [
           1.59,
           1.806,
           5932.0,
           5816.0,
           [
            [
             1029,
             6.1,
             87,
             168,
             [
              [
               1201,
               [
                376,
                21
               ],
               94
              ],
              [
               3204,
               [
                341,
                33
               ],
               90
              ],
              [
               3202,
               [
                230,
                37
               ],
               84
              ]
             ]
            ]
           ],
           72,
           4.17,
           "Complete",
           2021,
           1,
           1
          ],
          [
           2.279,
           2.787,
           7354.0,
           7212.0,
           [
            [
             2002,
             9.9,
             90,
             202,
             [
              [
               1201,
               [
                440,
                11
               ],
               97
              ],
              [
               3204,
               [
                343,
                17
               ],
               95
              ],
              [
               3202,
               [
                241,
                23
               ],
               90
              ]
             ]
            ]
           ],
           83,
           10.84,
           "Complete",
           2022,
           19,
           21
          ],
          [
           null,
           null,
           5771.0,
           5649.0,
           [
            [
             2596,
             11.6,
             89,
             224,
             [
              [
               1201,
               [
                440,
                5
               ],
               98
              ],
              [
               3204,
               [
                343,
                10
               ],
               97
              ],
              [
               3202,
               [
                241,
                14
               ],
               94
              ]
             ]
            ]
           ],
           90,
           4.44,
           "In-Progress",
           2023,
           42,
           46
          ]
         ],
         [
          null,
          null,
          null,
          0.767,
          0.599,
          0.626,
          0.789,
          0.813,
          0.829,
          0.724,
          0.957,
          1.113,
          0.952,
          0.871,
          0.889,
          1.325,
          1.481,
          1.571,
          1.51,
          1.02,
          1.228,
          1.406,
          1.958,
          1.457,
          1.497,
          1.59,
          2.279,
          null
         ],
         [
          1996,
          1997,
          1998,
          1999,
          2000,
          2001,
          2002,
          2003,
          2004,
          2005,
          2006,
          2007,
          2008,
          2009,
          2010,
          2011,
          2012,
          2013,
          2014,
          2015,
          2016,
          2017,
          2018,
          2019,
          2020,
          2021,
          2022,
          2023
         ],
         [
          0.767,
          0.599,
          0.626,
          0.789,
          0.813,
          0.829,
          0.724,
          0.957,
          1.113,
          0.952,
          0.871,
          0.889,
          1.325,
          1.481,
          1.571,
          1.51,
          1.02,
          1.228,
          1.406,
          1.958,
          1.457,
          1.497,
          1.59,
          2.279
         ],
         1.177125
        ],
        [
         12037,
         [
          [
           null,
           null,
           70.0,
           70.0,
           null,
           61,
           0.0,
           "Complete",
           1996,
           23,
           23
          ],
          [
           null,
           null,
           76.0,
           76.0,
           null,
           34,
           0.0,
           "Complete",
           1997,
           9,
           10
          ],
          [
           null,
           null,
           78.0,
           75.0,
           null,
           48,
           0.0,
           "Complete",
           1998,
           9,
           11
          ],
          [
           0.194,
           0.0,
           93.0,
           81.0,
           null,
           37,
           0.0,
           "Complete",
           1999,
           8,
           9
          ],
          [
           0.217,
           0.287,
           92.0,
           82.0,
           null,
           38,
           0.0,
           "Complete",
           2000,
           10,
           13
          ],
          [
           0.349,
           0.784,
           150.0,
           125.0,
           null,
           33,
           0.0,
           "Complete",
           2001,
           15,
           17
          ],
          [
           0.197,
           0.444,
           134.0,
           130.0,
           null,
           57,
           0.0,
           "Complete",
           2002,
           18,
           19
          ],
          [
           0.241,
           0.76,
           160.0,
           150.0,
           null,
           42,
           11.9,
           "Complete",
           2003,
           12,
           14
          ],
          [
           0.18,
           0.423,
           186.0,
           171.0,
           null,
           54,
           3.7,
           "Complete",
           2004,
           15,
           16
          ],
          [
           0.279,
           0.806,
           255.0,
           241.0,
           null,
           138,
           1.45,
           "Complete",
           2005,
           48,
           50
          ],
          [
           0.223,
           0.492,
           241.0,
           221.0,
           null,
           140,
           5.71,
           "Complete",
           2006,
           75,
           77
          ],
          [
           0.326,
           0.684,
           276.0,
           248.0,
           null,
           150,
           2.67,
           "Complete",
           2007,
           55,
           55
          ],
          [
           0.206,
           0.557,
           295.0,
           269.0,
           null,
           186,
           0.0,
           "Complete",
           2008,
           84,
           90
          ],
          [
           0.191,
           0.325,
           414.0,
           377.0,
           null,
           170,
           0.0,
           "Complete",
           2009,
           81,
           82
          ],
          [
           0.278,
           0.303,
           462.0,
           436.0,
           null,
           45,
           35.56,
           "Complete",
           2010,
           2,
           3
          ],
          [
           0.275,
           0.423,
           461.0,
           401.0,
           [
            [
             194,
             0.4,
             25,
             446,
             [
              [
               2506,
               [
                126,
                76
               ],
               40
              ],
              [
               2210,
               [
                487,
                342
               ],
               29
              ],
              [
               2211,
               [
                296,
                214
               ],
               27
              ]
             ]
            ]
           ],
           64,
           21.88,
           "Complete",
           2011,
           2,
           5
          ],
          [
           0.476,
           0.721,
           448.0,
           358.0,
           [
            [
             201,
             0.6,
             28,
             334,
             [
              [
               2506,
               [
                127,
                68
               ],
               46
              ],
              [
               2210,
               [
                502,
                324
               ],
               35
              ],
              [
               2211,
               [
                305,
                206
               ],
               32
              ]
             ]
            ]
           ],
           87,
           36.78,
           "Complete",
           2012,
           3,
           4
          ],
          [
           0.39,
           0.801,
           558.0,
           482.0,
           [
            [
             255,
             0.9,
             36,
             278,
             [
              [
               2506,
               [
                136,
                60
               ],
               56
              ],
              [
               2210,
               [
                510,
                274
               ],
               46
              ],
              [
               2211,
               [
                309,
                179
               ],
               42
              ]
             ]
            ]
           ],
           84,
           3.57,
           "Complete",
           2013,
           2,
           2
          ],
          [
           0.707,
           1.353,
           759.0,
           657.0,
           [
            [
             383,
             1.1,
             41,
             344,
             [
              [
               2506,
               [
                137,
                55
               ],
               60
              ],
              [
               2210,
               [
                521,
                268
               ],
               48
              ],
              [
               2211,
               [
                318,
                176
               ],
               44
              ]
             ]
            ]
           ],
           84,
           3.57,
           "Complete",
           2014,
           3,
           5
          ],
          [
           0.557,
           1.068,
           841.0,
           742.0,
           [
            [
             545,
             1.6,
             53,
             343,
             [
              [
               2506,
               [
                141,
                42
               ],
               70
              ],
              [
               2210,
               [
                533,
                228
               ],
               57
              ],
              [
               2211,
               [
                324,
                151
               ],
               53
              ]
             ]
            ]
           ],
           90,
           0.0,
           "Complete",
           2015,
           2,
           3
          ],
          [
           0.821,
           1.373,
           1067.0,
           901.0,
           [
            [
             706,
             1.9,
             56,
             370,
             [
              [
               2506,
               [
                145,
                45
               ],
               69
              ],
              [
               2210,
               [
                546,
                227
               ],
               58
              ],
              [
               2211,
               [
                329,
                146
               ],
               55
              ]
             ]
            ]
           ],
           115,
           0.0,
           "Complete",
           2016,
           4,
           6
          ],
          [
           0.533,
           1.35,
           1458.0,
           1316.0,
           [
            [
             824,
             2.0,
             59,
             408,
             [
              [
               2506,
               [
                152,
                41
               ],
               73
              ],
              [
               2210,
               [
                577,
                238
               ],
               58
              ],
              [
               2211,
               [
                353,
                154
               ],
               56
              ]
             ]
            ]
           ],
           122,
           0.0,
           "Complete",
           2017,
           2,
           3
          ],
          [
           0.707,
           1.338,
           1684.0,
           1563.0,
           [
            [
             916,
             2.2,
             62,
             418,
             [
              [
               2506,
               [
                150,
                47
               ],
               69
              ],
              [
               2210,
               [
                587,
                247
               ],
               58
              ],
              [
               2211,
               [
                360,
                166
               ],
               54
              ]
             ]
            ]
           ],
           124,
           0.0,
           "Complete",
           2018,
           5,
           5
          ],
          [
           0.51,
           1.113,
           1929.0,
           1743.0,
           [
            [
             1340,
             2.6,
             66,
             512,
             [
              [
               2506,
               [
                152,
                44
               ],
               71
              ],
              [
               2210,
               [
                585,
                231
               ],
               60
              ],
              [
               2211,
               [
                367,
                162
               ],
               55
              ]
             ]
            ]
           ],
           163,
           0.0,
           "Complete",
           2019,
           13,
           14
          ],
          [
           0.632,
           1.215,
           2619.0,
           2328.0,
           [
            [
             1658,
             2.9,
             67,
             563,
             [
              [
               2506,
               [
                153,
                45
               ],
               70
              ],
              [
               2210,
               [
                596,
                231
               ],
               61
              ],
              [
               2211,
               [
                377,
                161
               ],
               57
              ]
             ]
            ]
           ],
           184,
           0.0,
           "Complete",
           2020,
           19,
           23
          ],
          [
           0.528,
           1.026,
           3124.0,
           2783.0,
           [
            [
             2213,
             3.5,
             71,
             630,
             [
              [
               2506,
               [
                155,
                42
               ],
               73
              ],
              [
               2210,
               [
                601,
                217
               ],
               63
              ],
              [
               2211,
               [
                384,
                155
               ],
               59
              ]
             ]
            ]
           ],
           197,
           1.52,
           "Complete",
           2021,
           37,
           44
          ],
          [
           0.485,
           0.99,
           3593.0,
           3246.0,
           [
            [
             2661,
             3.8,
             73,
             709,
             [
              [
               2506,
               [
                164,
                47
               ],
               71
              ],
              [
               2210,
               [
                631,
                236
               ],
               62
              ],
              [
               2211,
               [
                391,
                164
               ],
               58
              ]
             ]
            ]
           ],
           193,
           4.66,
           "Complete",
           2022,
           38,
           46
          ],
          [
           null,
           null,
           2989.0,
           2692.0,
           [
            [
             2577,
             3.6,
             70,
             710,
             [
              [
               2506,
               [
                164,
                47
               ],
               71
              ],
              [
               2210,
               [
                631,
                231
               ],
               63
              ],
              [
               2211,
               [
                390,
                162
               ],
               58
              ]
             ]
            ]
           ],
           192,
           1.56,
           "In-Progress",
           2023,
           154,
           157
          ]
         ],
         [
          null,
          null,
          null,
          0.194,
          0.217,
          0.349,
          0.197,
          0.241,
          0.18,
          0.279,
          0.223,
          0.326,
          0.206,
          0.191,
          0.278,
          0.275,
          0.476,
          0.39,
          0.707,
          0.557,
          0.821,
          0.533,
          0.707,
          0.51,
          0.632,
          0.528,
          0.485,
          null
         ],
         [
          1996,
          1997,
          1998,
          1999,
          2000,
          2001,
          2002,
          2003,
          2004,
          2005,
          2006,
          2007,
          2008,
          2009,
          2010,
          2011,
          2012,
          2013,
          2014,
          2015,
          2016,
          2017,
          2018,
          2019,
          2020,
          2021,
          2022,
          2023
         ],
         [
          0.194,
          0.217,
          0.349,
          0.197,
          0.241,
          0.18,
          0.279,
          0.223,
          0.326,
          0.206,
          0.191,
          0.278,
          0.275,
          0.476,
          0.39,
          0.707,
          0.557,
          0.821,
          0.533,
          0.707,
          0.51,
          0.632,
          0.528,
          0.485
         ],
         0.39591667
        ],
        [
         12047,
         [
          [
           null,
           null,
           96.0,
           78.0,
           null,
           25,
           12.0,
           "Complete",
           1996,
           6,
           6
          ],
          [
           null,
           null,
           88.0,
           70.0,
           null,
           29,
           6.9,
           "Complete",
           1997,
           22,
           23
          ],
          [
           null,
           null,
           121.0,
           109.0,
           null,
           25,
           0.0,
           "Complete",
           1998,
           16,
           17
          ],
          [
           0.154,
           0.537,
           80.0,
           68.0,
           null,
           17,
           0.0,
           "Complete",
           1999,
           5,
           7
          ],
          [
           0.154,
           0.646,
           123.0,
           109.0,
           null,
           18,
           0.0,
           "Complete",
           2000,
           7,
           8
          ],
          [
           0.112,
           0.958,
           72.0,
           66.0,
           null,
           23,
           4.35,
           "Complete",
           2001,
           15,
           15
          ],
          [
           0.249,
           0.743,
           107.0,
           95.0,
           null,
           19,
           10.53,
           "Complete",
           2002,
           8,
           8
          ],
          [
           0.324,
           1.429,
           73.0,
           69.0,
           null,
           23,
           0.0,
           "Complete",
           2003,
           12,
           13
          ],
          [
           0.573,
           1.087,
           152.0,
           117.0,
           null,
           10,
           50.0,
           "Complete",
           2004,
           2,
           2
          ],
          [
           0.539,
           1.311,
           154.0,
           131.0,
           null,
           11,
           18.18,
           "Complete",
           2005,
           4,
           5
          ],
          [
           0.239,
           0.567,
           129.0,
           124.0,
           null,
           4,
           50.0,
           "Complete",
           2006,
           1,
           1
          ],
          [
           0.101,
           0.0,
           60.0,
           60.0,
           null,
           0,
           0.0,
           "Complete",
           2007,
           0,
           0
          ],
          [
           0.177,
           0.366,
           129.0,
           129.0,
           null,
           0,
           0.0,
           "Complete",
           2008,
           0,
           0
          ],
          [
           0.105,
           0.0,
           83.0,
           83.0,
           null,
           0,
           0.0,
           "Complete",
           2009,
           0,
           0
          ],
          [
           null,
           null,
           162.0,
           162.0,
           null,
           0,
           0.0,
           "Complete",
           2010,
           0,
           0
          ],
          [
           null,
           null,
           87.0,
           87.0,
           null,
           0,
           0.0,
           "Complete",
           2011,
           0,
           0
          ],
          [
           null,
           null,
           84.0,
           84.0,
           null,
           0,
           0.0,
           "Complete",
           2012,
           0,
           0
          ],
          [
           null,
           null,
           116.0,
           116.0,
           null,
           0,
           0.0,
           "Complete",
           2013,
           0,
           0
          ],
          [
           null,
           null,
           90.0,
           90.0,
           null,
           0,
           0.0,
           "Complete",
           2014,
           0,
           0
          ],
          [
           null,
           null,
           89.0,
           89.0,
           null,
           0,
           0.0,
           "Complete",
           2015,
           0,
           0
          ],
          [
           null,
           null,
           65.0,
           65.0,
           null,
           0,
           0.0,
           "Complete",
           2016,
           0,
           0
          ],
          [
           null,
           null,
           91.0,
           91.0,
           null,
           0,
           0.0,
           "Complete",
           2017,
           0,
           0
          ],
          [
           null,
           null,
           73.0,
           73.0,
           null,
           0,
           0.0,
           "Complete",
           2018,
           0,
           0
          ],
          [
           null,
           null,
           65.0,
           65.0,
           null,
           0,
           0.0,
           "Complete",
           2019,
           0,
           0
          ],
          [
           null,
           null,
           59.0,
           59.0,
           null,
           0,
           0.0,
           "Complete",
           2020,
           0,
           0
          ],
          [
           null,
           null,
           51.0,
           51.0,
           null,
           0,
           0.0,
           "Complete",
           2021,
           0,
           0
          ],
          [
           null,
           null,
           39.0,
           39.0,
           null,
           0,
           0.0,
           "Complete",
           2022,
           0,
           0
          ],
          [
           null,
           null,
           22.0,
           22.0,
           null,
           0,
           0.0,
           "In-Progress",
           2023,
           0,
           0
          ]
         ],
         [
          null,
          null,
          null,
          0.154,
          0.154,
          0.112,
          0.249,
          0.324,
          0.573,
          0.539,
          0.239,
          0.101,
          0.177,
          0.105,
          null,
          null,
          null,
          null,
          null,
          null,
          null,
          null,
          null,
          null,
          null,
          null,
          null,
          null
         ],
         [
          1996,
          1997,
          1998,
          1999,
          2000,
          2001,
          2002,
          2003,
          2004,
          2005,
          2006,
          2007,
          2008,
          2009,
          2010,
          2011,
          2012,
          2013,
          2014,
          2015,
          2016,
          2017,
          2018,
          2019,
          2020,
          2021,
          2022,
          2023
         ],
         [
          0.154,
          0.154,
          0.112,
          0.249,
          0.324,
          0.573,
          0.539,
          0.239,
          0.101,
          0.177,
          0.105
         ],
         0.24790908
        ],
        [
         12064,
         [
          [
           null,
           null,
           98.0,
           78.0,
           null,
           45,
           2.22,
           "Complete",
           1996,
           14,
           17
          ],
          [
           null,
           null,
           94.0,
           63.0,
           null,
           49,
           4.08,
           "Complete",
           1997,
           10,
           10
          ],
          [
           null,
           null,
           111.0,
           92.0,
           null,
           46,
           2.17,
           "Complete",
           1998,
           11,
           15
          ],
          [
           0.486,
           0.722,
           115.0,
           77.0,
           null,
           50,
           0.0,
           "Complete",
           1999,
           6,
           11
          ],
          [
           0.3,
           0.333,
           114.0,
           86.0,
           null,
           47,
           0.0,
           "Complete",
           2000,
           3,
           5
          ],
          [
           0.209,
           0.67,
           215.0,
           162.0,
           null,
           95,
           1.05,
           "Complete",
           2001,
           1,
           5
          ],
          [
           0.276,
           0.438,
           204.0,
           153.0,
           null,
           82,
           0.0,
           "Complete",
           2002,
           4,
           10
          ],
          [
           0.251,
           0.614,
           280.0,
           194.0,
           null,
           101,
           0.0,
           "Complete",
           2003,
           1,
           2
          ],
          [
           0.603,
           0.702,
           431.0,
           242.0,
           null,
           95,
           0.0,
           "Complete",
           2004,
           6,
           7
          ],
          [
           0.388,
           0.691,
           511.0,
           404.0,
           null,
           90,
           0.0,
           "Complete",
           2005,
           7,
           9
          ],
          [
           0.578,
           0.779,
           623.0,
           482.0,
           null,
           99,
           1.01,
           "Complete",
           2006,
           8,
           10
          ],
          [
           0.672,
           0.866,
           845.0,
           603.0,
           null,
           95,
           0.0,
           "Complete",
           2007,
           6,
           8
          ],
          [
           0.511,
           0.582,
           945.0,
           804.0,
           null,
           98,
           1.02,
           "Complete",
           2008,
           3,
           3
          ],
          [
           0.533,
           0.545,
           1163.0,
           1008.0,
           null,
           119,
           0.0,
           "Complete",
           2009,
           4,
           6
          ],
          [
           0.634,
           0.562,
           1206.0,
           1097.0,
           null,
           78,
           0.0,
           "Complete",
           2010,
           1,
           2
          ],
          [
           0.708,
           0.885,
           1571.0,
           1326.0,
           [
            [
             694,
             1.7,
             57,
             411,
             [
              [
               1902,
               [
                87,
                55
               ],
               37
              ]
             ]
            ]
           ],
           122,
           0.0,
           "Complete",
           2011,
           2,
           3
          ],
          [
           0.836,
           0.946,
           1904.0,
           1661.0,
           [
            [
             829,
             2.0,
             59,
             423,
             [
              [
               1902,
               [
                93,
                49
               ],
               47
              ]
             ]
            ]
           ],
           110,
           0.0,
           "Complete",
           2012,
           5,
           7
          ],
          [
           0.967,
           1.103,
           2301.0,
           1999.0,
           [
            [
             999,
             2.3,
             58,
             442,
             [
              [
               1902,
               [
                96,
                45
               ],
               53
              ]
             ]
            ]
           ],
           137,
           0.0,
           "Complete",
           2013,
           1,
           6
          ],
          [
           1.035,
           0.86,
           2349.0,
           2116.0,
           [
            [
             1255,
             2.6,
             63,
             492,
             [
              [
               1902,
               [
                97,
                43
               ],
               56
              ]
             ]
            ]
           ],
           128,
           0.0,
           "Complete",
           2014,
           3,
           3
          ],
          [
           0.971,
           0.76,
           2584.0,
           2333.0,
           [
            [
             1273,
             2.5,
             63,
             501,
             [
              [
               1902,
               [
                99,
                47
               ],
               53
              ]
             ]
            ]
           ],
           134,
           0.0,
           "Complete",
           2015,
           3,
           4
          ],
          [
           0.974,
           0.77,
           2837.0,
           2676.0,
           [
            [
             1516,
             3.0,
             70,
             510,
             [
              [
               1902,
               [
                103,
                50
               ],
               51
              ]
             ]
            ]
           ],
           120,
           0.83,
           "Complete",
           2016,
           5,
           6
          ],
          [
           0.956,
           0.73,
           3141.0,
           2992.0,
           [
            [
             1397,
             2.9,
             69,
             488,
             [
              [
               1902,
               [
                108,
                52
               ],
               52
              ]
             ]
            ]
           ],
           120,
           5.0,
           "Complete",
           2017,
           2,
           4
          ],
          [
           1.14,
           0.993,
           3436.0,
           3287.0,
           [
            [
             1608,
             3.3,
             70,
             485,
             [
              [
               1902,
               [
                112,
                52
               ],
               54
              ]
             ]
            ]
           ],
           134,
           0.0,
           "Complete",
           2018,
           6,
           8
          ],
          [
           1.293,
           1.119,
           4529.0,
           4286.0,
           [
            [
             1750,
             3.8,
             74,
             456,
             [
              [
               1902,
               [
                115,
                48
               ],
               58
              ]
             ]
            ]
           ],
           103,
           10.68,
           "Complete",
           2019,
           4,
           4
          ],
          [
           1.187,
           1.178,
           4703.0,
           4535.0,
           [
            [
             2106,
             4.7,
             75,
             448,
             [
              [
               1902,
               [
                124,
                44
               ],
               64
              ]
             ]
            ]
           ],
           114,
           0.0,
           "Complete",
           2020,
           7,
           7
          ],
          [
           1.121,
           1.169,
           5392.0,
           5094.0,
           [
            [
             2565,
             5.4,
             81,
             478,
             [
              [
               1902,
               [
                135,
                41
               ],
               70
              ]
             ]
            ]
           ],
           153,
           2.61,
           "Complete",
           2021,
           7,
           8
          ],
          [
           1.54,
           1.599,
           6751.0,
           6484.0,
           [
            [
             3603,
             7.3,
             86,
             492,
             [
              [
               1902,
               [
                137,
                25
               ],
               82
              ]
             ]
            ]
           ],
           157,
           3.82,
           "Complete",
           2022,
           21,
           25
          ],
          [
           null,
           null,
           5411.0,
           5011.0,
           [
            [
             3989,
             8.0,
             85,
             501,
             [
              [
               1902,
               [
                137,
                18
               ],
               87
              ]
             ]
            ]
           ],
           161,
           5.59,
           "In-Progress",
           2023,
           87,
           96
          ]
         ],
         [
          null,
          null,
          null,
          0.486,
          0.3,
          0.209,
          0.276,
          0.251,
          0.603,
          0.388,
          0.578,
          0.672,
          0.511,
          0.533,
          0.634,
          0.708,
          0.836,
          0.967,
          1.035,
          0.971,
          0.974,
          0.956,
          1.14,
          1.293,
          1.187,
          1.121,
          1.54,
          null
         ],
         [
          1996,
          1997,
          1998,
          1999,
          2000,
          2001,
          2002,
          2003,
          2004,
          2005,
          2006,
          2007,
          2008,
          2009,
          2010,
          2011,
          2012,
          2013,
          2014,
          2015,
          2016,
          2017,
          2018,
          2019,
          2020,
          2021,
          2022,
          2023
         ],
         [
          0.486,
          0.3,
          0.209,
          0.276,
          0.251,
          0.603,
          0.388,
          0.578,
          0.672,
          0.511,
          0.533,
          0.634,
          0.708,
          0.836,
          0.967,
          1.035,
          0.971,
          0.974,
          0.956,
          1.14,
          1.293,
          1.187,
          1.121,
          1.54
         ],
         0.7570417
        ],
        [
         12073,
         [
          [
           null,
           null,
           257.0,
           231.0,
           null,
           40,
           25.0,
           "Complete",
           1996,
           5,
           5
          ],
          [
           null,
           null,
           221.0,
           219.0,
           null,
           28,
           0.0,
           "Complete",
           1997,
           4,
           4
          ],
          [
           null,
           null,
           230.0,
           225.0,
           null,
           61,
           0.0,
           "Complete",
           1998,
           1,
           1
          ],
          [
           0.255,
           0.314,
           199.0,
           182.0,
           null,
           36,
           2.78,
           "Complete",
           1999,
           7,
           7
          ],
          [
           0.179,
           0.587,
           244.0,
           237.0,
           null,
           44,
           0.0,
           "Complete",
           2000,
           2,
           2
          ],
          [
           0.272,
           0.542,
           259.0,
           257.0,
           null,
           48,
           0.0,
           "Complete",
           2001,
           3,
           3
          ],
          [
           0.259,
           0.735,
           264.0,
           247.0,
           null,
           42,
           0.0,
           "Complete",
           2002,
           0,
           0
          ],
          [
           0.194,
           0.407,
           341.0,
           331.0,
           null,
           57,
           0.0,
           "Complete",
           2003,
           1,
           2
          ],
          [
           0.2,
           0.288,
           377.0,
           349.0,
           null,
           41,
           0.0,
           "Complete",
           2004,
           6,
           6
          ],
          [
           0.436,
           0.47,
           528.0,
           497.0,
           null,
           32,
           0.0,
           "Complete",
           2005,
           1,
           1
          ],
          [
           0.296,
           0.471,
           568.0,
           567.0,
           null,
           29,
           0.0,
           "Complete",
           2006,
           0,
           0
          ],
          [
           0.272,
           0.382,
           734.0,
           706.0,
           null,
           35,
           0.0,
           "Complete",
           2007,
           1,
           3
          ],
          [
           0.266,
           0.516,
           886.0,
           864.0,
           null,
           38,
           0.0,
           "Complete",
           2008,
           1,
           1
          ],
          [
           0.392,
           0.608,
           1083.0,
           1062.0,
           null,
           36,
           0.0,
           "Complete",
           2009,
           1,
           1
          ],
          [
           0.245,
           0.324,
           1175.0,
           1166.0,
           null,
           19,
           0.0,
           "Complete",
           2010,
           0,
           0
          ],
          [
           0.542,
           1.093,
           1319.0,
           1305.0,
           [
            [
             156,
             1.3,
             49,
             120,
             [
              [
               3304,
               [
                787,
                266
               ],
               66
              ]
             ]
            ]
           ],
           41,
           0.0,
           "Complete",
           2011,
           1,
           1
          ],
          [
           0.503,
           0.627,
           1624.0,
           1566.0,
           [
            [
             164,
             1.0,
             47,
             159,
             [
              [
               3304,
               [
                836,
                379
               ],
               54
              ]
             ]
            ]
           ],
           71,
           0.0,
           "Complete",
           2012,
           2,
           2
          ],
          [
           0.516,
           0.72,
           1810.0,
           1716.0,
           [
            [
             199,
             1.0,
             46,
             196,
             [
              [
               3304,
               [
                888,
                423
               ],
               52
              ]
             ]
            ]
           ],
           76,
           0.0,
           "Complete",
           2013,
           0,
           0
          ],
          [
           0.508,
           1.039,
           1976.0,
           1902.0,
           [
            [
             378,
             1.6,
             60,
             235,
             [
              [
               3304,
               [
                909,
                280
               ],
               69
              ]
             ]
            ]
           ],
           59,
           0.0,
           "Complete",
           2014,
           0,
           0
          ],
          [
           0.891,
           1.471,
           2024.0,
           1968.0,
           [
            [
             594,
             2.2,
             64,
             273,
             [
              [
               3304,
               [
                940,
                213
               ],
               77
              ]
             ]
            ]
           ],
           83,
           0.0,
           "Complete",
           2015,
           1,
           1
          ],
          [
           0.572,
           1.203,
           2259.0,
           2215.0,
           [
            [
             707,
             2.4,
             55,
             290,
             [
              [
               3304,
               [
                978,
                196
               ],
               80
              ]
             ]
            ]
           ],
           82,
           0.0,
           "Complete",
           2016,
           0,
           0
          ],
          [
           0.617,
           1.17,
           2470.0,
           2410.0,
           [
            [
             597,
             2.0,
             57,
             295,
             [
              [
               3304,
               [
                1024,
                310
               ],
               69
              ]
             ]
            ]
           ],
           76,
           0.0,
           "Complete",
           2017,
           1,
           1
          ],
          [
           0.673,
           1.117,
           2523.0,
           2478.0,
           [
            [
             673,
             2.1,
             62,
             316,
             [
              [
               3304,
               [
                1179,
                315
               ],
               73
              ]
             ]
            ]
           ],
           87,
           0.0,
           "Complete",
           2018,
           5,
           6
          ],
          [
           0.737,
           1.365,
           3066.0,
           2976.0,
           [
            [
             903,
             2.5,
             61,
             362,
             [
              [
               3304,
               [
                1254,
                279
               ],
               77
              ]
             ]
            ]
           ],
           128,
           0.0,
           "Complete",
           2019,
           5,
           7
          ],
          [
           0.921,
           1.524,
           3642.0,
           3492.0,
           [
            [
             1365,
             3.1,
             67,
             440,
             [
              [
               3304,
               [
                1319,
                243
               ],
               81
              ]
             ]
            ]
           ],
           165,
           0.0,
           "Complete",
           2020,
           12,
           12
          ],
          [
           0.923,
           1.517,
           4334.0,
           4222.0,
           [
            [
             1834,
             3.6,
             67,
             512,
             [
              [
               3304,
               [
                1406,
                269
               ],
               80
              ]
             ]
            ]
           ],
           140,
           0.0,
           "Complete",
           2021,
           15,
           16
          ],
          [
           1.017,
           1.68,
           5521.0,
           5435.0,
           [
            [
             2818,
             4.9,
             74,
             578,
             [
              [
               3304,
               [
                1469,
                213
               ],
               85
              ]
             ]
            ]
           ],
           151,
           0.0,
           "Complete",
           2022,
           42,
           47
          ],
          [
           null,
           null,
           4196.0,
           4118.0,
           [
            [
             2759,
             5.0,
             70,
             547,
             [
              [
               3304,
               [
                1471,
                194
               ],
               86
              ]
             ]
            ]
           ],
           94,
           0.0,
           "In-Progress",
           2023,
           79,
           80
          ]
         ],
         [
          null,
          null,
          null,
          0.255,
          0.179,
          0.272,
          0.259,
          0.194,
          0.2,
          0.436,
          0.296,
          0.272,
          0.266,
          0.392,
          0.245,
          0.542,
          0.503,
          0.516,
          0.508,
          0.891,
          0.572,
          0.617,
          0.673,
          0.737,
          0.921,
          0.923,
          1.017,
          null
         ],
         [
          1996,
          1997,
          1998,
          1999,
          2000,
          2001,
          2002,
          2003,
          2004,
          2005,
          2006,
          2007,
          2008,
          2009,
          2010,
          2011,
          2012,
          2013,
          2014,
          2015,
          2016,
          2017,
          2018,
          2019,
          2020,
          2021,
          2022,
          2023
         ],
         [
          0.255,
          0.179,
          0.272,
          0.259,
          0.194,
          0.2,
          0.436,
          0.296,
          0.272,
          0.266,
          0.392,
          0.245,
          0.542,
          0.503,
          0.516,
          0.508,
          0.891,
          0.572,
          0.617,
          0.673,
          0.737,
          0.921,
          0.923,
          1.017
         ],
         0.48691666
        ],
        [
         12085,
         [
          [
           null,
           null,
           122.0,
           63.0,
           null,
           36,
           5.56,
           "Complete",
           1996,
           2,
           3
          ],
          [
           null,
           null,
           113.0,
           93.0,
           null,
           30,
           13.33,
           "Complete",
           1997,
           5,
           5
          ],
          [
           null,
           null,
           108.0,
           69.0,
           null,
           23,
           30.43,
           "Complete",
           1998,
           4,
           5
          ],
          [
           0.182,
           0.765,
           83.0,
           48.0,
           null,
           13,
           0.0,
           "Complete",
           1999,
           1,
           1
          ],
          [
           0.611,
           1.033,
           151.0,
           96.0,
           null,
           22,
           4.55,
           "Complete",
           2000,
           2,
           3
          ],
          [
           0.635,
           0.735,
           332.0,
           275.0,
           null,
           16,
           6.25,
           "Complete",
           2001,
           0,
           0
          ],
          [
           0.295,
           0.68,
           233.0,
           189.0,
           null,
           11,
           18.18,
           "Complete",
           2002,
           0,
           0
          ],
          [
           0.25,
           0.86,
           213.0,
           156.0,
           null,
           12,
           16.67,
           "Complete",
           2003,
           2,
           2
          ],
          [
           0.846,
           1.831,
           179.0,
           151.0,
           null,
           19,
           10.53,
           "Complete",
           2004,
           5,
           6
          ],
          [
           0.905,
           1.751,
           261.0,
           220.0,
           null,
           20,
           5.0,
           "Complete",
           2005,
           6,
           8
          ],
          [
           0.162,
           1.549,
           252.0,
           226.0,
           null,
           23,
           13.04,
           "Complete",
           2006,
           5,
           8
          ],
          [
           0.94,
           1.603,
           265.0,
           221.0,
           null,
           17,
           52.94,
           "Complete",
           2007,
           2,
           2
          ],
          [
           0.598,
           1.915,
           338.0,
           266.0,
           null,
           23,
           8.7,
           "Complete",
           2008,
           4,
           6
          ],
          [
           0.313,
           0.822,
           209.0,
           144.0,
           null,
           21,
           9.52,
           "Complete",
           2009,
           3,
           3
          ],
          [
           1.048,
           1.787,
           350.0,
           265.0,
           null,
           28,
           35.71,
           "Complete",
           2010,
           8,
           8
          ],
          [
           0.605,
           1.887,
           412.0,
           270.0,
           [
            [
             99,
             1.2,
             38,
             85,
             [
              [
               3309,
               [
                174,
                66
               ],
               62
              ],
              [
               1201,
               [
                264,
                141
               ],
               46
              ]
             ]
            ]
           ],
           37,
           27.03,
           "Complete",
           2011,
           12,
           12
          ],
          [
           0.982,
           1.631,
           464.0,
           391.0,
           [
            [
             108,
             1.2,
             45,
             92,
             [
              [
               3309,
               [
                182,
                63
               ],
               65
              ],
              [
               1201,
               [
                266,
                149
               ],
               44
              ]
             ]
            ]
           ],
           24,
           20.83,
           "Complete",
           2012,
           4,
           5
          ],
          [
           0.556,
           0.896,
           436.0,
           354.0,
           [
            [
             121,
             1.3,
             45,
             96,
             [
              [
               3309,
               [
                190,
                64
               ],
               66
              ],
              [
               1201,
               [
                267,
                148
               ],
               44
              ]
             ]
            ]
           ],
           28,
           3.57,
           "Complete",
           2013,
           5,
           6
          ],
          [
           0.742,
           1.686,
           440.0,
           338.0,
           [
            [
             107,
             1.1,
             46,
             98,
             [
              [
               3309,
               [
                195,
                82
               ],
               58
              ],
              [
               1201,
               [
                267,
                168
               ],
               37
              ]
             ]
            ]
           ],
           25,
           12.0,
           "Complete",
           2014,
           7,
           9
          ],
          [
           0.531,
           0.849,
           564.0,
           454.0,
           [
            [
             74,
             1.1,
             53,
             66,
             [
              [
               3309,
               [
                197,
                91
               ],
               54
              ],
              [
               1201,
               [
                267,
                177
               ],
               33
              ]
             ]
            ]
           ],
           26,
           88.46,
           "Complete",
           2015,
           4,
           4
          ],
          [
           0.26,
           0.794,
           485.0,
           431.0,
           [
            [
             90,
             1.7,
             66,
             53,
             [
              [
               3309,
               [
                203,
                56
               ],
               72
              ],
              [
               1201,
               [
                250,
                129
               ],
               48
              ]
             ]
            ]
           ],
           22,
           68.18,
           "Complete",
           2016,
           4,
           4
          ],
          [
           0.488,
           1.589,
           530.0,
           448.0,
           [
            [
             79,
             1.0,
             39,
             83,
             [
              [
               3309,
               [
                210,
                94
               ],
               55
              ],
              [
               1201,
               [
                259,
                177
               ],
               31
              ]
             ]
            ]
           ],
           19,
           15.79,
           "Complete",
           2017,
           7,
           8
          ],
          [
           0.453,
           1.224,
           429.0,
           325.0,
           [
            [
             82,
             1.0,
             40,
             81,
             [
              [
               3309,
               [
                219,
                97
               ],
               55
              ],
              [
               1201,
               [
                283,
                178
               ],
               37
              ]
             ]
            ]
           ],
           22,
           95.45,
           "Complete",
           2018,
           6,
           7
          ],
          [
           0.232,
           1.33,
           545.0,
           380.0,
           [
            [
             67,
             1.0,
             36,
             67,
             [
              [
               3309,
               [
                227,
                110
               ],
               51
              ],
              [
               1201,
               [
                295,
                176
               ],
               40
              ]
             ]
            ]
           ],
           25,
           16.0,
           "Complete",
           2019,
           8,
           8
          ],
          [
           0.153,
           0.993,
           449.0,
           449.0,
           [
            [
             58,
             0.9,
             37,
             62,
             [
              [
               3309,
               [
                235,
                125
               ],
               47
              ],
              [
               1201,
               [
                306,
                183
               ],
               40
              ]
             ]
            ]
           ],
           0,
           0.0,
           "Complete",
           2020,
           0,
           0
          ],
          [
           0.244,
           0.937,
           425.0,
           404.0,
           [
            [
             65,
             1.0,
             39,
             62,
             [
              [
               1201,
               [
                376,
                193
               ],
               48
              ],
              [
               3309,
               [
                247,
                133
               ],
               46
              ]
             ]
            ]
           ],
           20,
           0.0,
           "Complete",
           2021,
           12,
           13
          ],
          [
           0.247,
           1.616,
           612.0,
           563.0,
           [
            [
             47,
             0.8,
             37,
             57,
             [
              [
               1201,
               [
                440,
                222
               ],
               49
              ],
              [
               3309,
               [
                266,
                160
               ],
               39
              ]
             ]
            ]
           ],
           17,
           29.41,
           "Complete",
           2022,
           16,
           16
          ],
          [
           null,
           null,
           282.0,
           282.0,
           [
            [
             9,
             0.3,
             24,
             33,
             [
              [
               1201,
               [
                440,
                317
               ],
               28
              ],
              [
               3309,
               [
                265,
                219
               ],
               17
              ]
             ]
            ]
           ],
           0,
           0.0,
           "In-Progress",
           2023,
           0,
           0
          ]
         ],
         [
          null,
          null,
          null,
          0.182,
          0.611,
          0.635,
          0.295,
          0.25,
          0.846,
          0.905,
          0.162,
          0.94,
          0.598,
          0.313,
          1.048,
          0.605,
          0.982,
          0.556,
          0.742,
          0.531,
          0.26,
          0.488,
          0.453,
          0.232,
          0.153,
          0.244,
          0.247,
          null
         ],
         [
          1996,
          1997,
          1998,
          1999,
          2000,
          2001,
          2002,
          2003,
          2004,
          2005,
          2006,
          2007,
          2008,
          2009,
          2010,
          2011,
          2012,
          2013,
          2014,
          2015,
          2016,
          2017,
          2018,
          2019,
          2020,
          2021,
          2022,
          2023
         ],
         [
          0.182,
          0.611,
          0.635,
          0.295,
          0.25,
          0.846,
          0.905,
          0.162,
          0.94,
          0.598,
          0.313,
          1.048,
          0.605,
          0.982,
          0.556,
          0.742,
          0.531,
          0.26,
          0.488,
          0.453,
          0.232,
          0.153,
          0.244,
          0.247
         ],
         0.5115833
        ],
        [
         12111,
         [
          [
           null,
           null,
           497.0,
           493.0,
           null,
           19,
           0.0,
           "Complete",
           1996,
           1,
           1
          ],
          [
           null,
           null,
           543.0,
           535.0,
           null,
           19,
           0.0,
           "Complete",
           1997,
           0,
           0
          ],
          [
           null,
           null,
           484.0,
           473.0,
           null,
           22,
           0.0,
           "Complete",
           1998,
           2,
           2
          ],
          [
           0.403,
           0.687,
           578.0,
           570.0,
           null,
           19,
           15.79,
           "Complete",
           1999,
           0,
           0
          ],
          [
           0.625,
           1.007,
           623.0,
           616.0,
           null,
           19,
           10.53,
           "Complete",
           2000,
           1,
           1
          ],
          [
           0.593,
           0.886,
           661.0,
           653.0,
           null,
           17,
           0.0,
           "Complete",
           2001,
           0,
           0
          ],
          [
           0.653,
           0.943,
           705.0,
           695.0,
           null,
           19,
           10.53,
           "Complete",
           2002,
           1,
           1
          ],
          [
           0.546,
           1.098,
           712.0,
           705.0,
           null,
           21,
           0.0,
           "Complete",
           2003,
           1,
           1
          ],
          [
           0.343,
           0.55,
           711.0,
           708.0,
           null,
           18,
           11.11,
           "Complete",
           2004,
           2,
           2
          ],
          [
           0.579,
           0.771,
           835.0,
           828.0,
           null,
           13,
           0.0,
           "Complete",
           2005,
           1,
           1
          ],
          [
           0.466,
           0.587,
           889.0,
           883.0,
           null,
           13,
           23.08,
           "Complete",
           2006,
           0,
           0
          ],
          [
           0.623,
           0.747,
           859.0,
           851.0,
           null,
           13,
           15.38,
           "Complete",
           2007,
           0,
           0
          ],
          [
           0.547,
           1.307,
           879.0,
           876.0,
           null,
           14,
           7.14,
           "Complete",
           2008,
           0,
           0
          ],
          [
           0.451,
           0.651,
           896.0,
           893.0,
           null,
           17,
           0.0,
           "Complete",
           2009,
           0,
           0
          ],
          [
           0.38,
           0.711,
           818.0,
           815.0,
           null,
           18,
           0.0,
           "Complete",
           2010,
           0,
           0
          ],
          [
           0.475,
           0.623,
           858.0,
           858.0,
           [
            [
             136,
             2.0,
             52,
             67,
             [
              [
               3202,
               [
                174,
                76
               ],
               56
              ],
              [
               2738,
               [
                442,
                194
               ],
               56
              ]
             ]
            ]
           ],
           19,
           0.0,
           "Complete",
           2011,
           0,
           0
          ],
          [
           0.478,
           0.671,
           952.0,
           949.0,
           [
            [
             159,
             2.3,
             64,
             70,
             [
              [
               3202,
               [
                185,
                73
               ],
               60
              ],
              [
               2738,
               [
                454,
                185
               ],
               59
              ]
             ]
            ]
           ],
           16,
           6.25,
           "Complete",
           2012,
           0,
           0
          ],
          [
           0.509,
           0.647,
           1043.0,
           1040.0,
           [
            [
             144,
             1.9,
             58,
             74,
             [
              [
               2738,
               [
                463,
                226
               ],
               51
              ],
              [
               3202,
               [
                186,
                97
               ],
               48
              ]
             ]
            ]
           ],
           22,
           0.0,
           "Complete",
           2013,
           1,
           1
          ],
          [
           0.486,
           0.523,
           989.0,
           986.0,
           [
            [
             151,
             2.0,
             64,
             75,
             [
              [
               2738,
               [
                468,
                220
               ],
               53
              ],
              [
               3202,
               [
                191,
                95
               ],
               50
              ]
             ]
            ]
           ],
           19,
           5.26,
           "Complete",
           2014,
           0,
           0
          ],
          [
           0.537,
           0.712,
           891.0,
           876.0,
           [
            [
             174,
             2.1,
             75,
             81,
             [
              [
               2738,
               [
                479,
                223
               ],
               53
              ],
              [
               3202,
               [
                195,
                100
               ],
               48
              ]
             ]
            ]
           ],
           26,
           0.0,
           "Complete",
           2015,
           0,
           0
          ],
          [
           0.682,
           0.523,
           971.0,
           967.0,
           [
            [
             263,
             2.8,
             83,
             94,
             [
              [
               2738,
               [
                481,
                198
               ],
               58
              ],
              [
               3202,
               [
                200,
                83
               ],
               58
              ]
             ]
            ]
           ],
           30,
           0.0,
           "Complete",
           2016,
           0,
           0
          ],
          [
           0.783,
           0.881,
           1014.0,
           1003.0,
           [
            [
             328,
             3.1,
             72,
             107,
             [
              [
               3202,
               [
                215,
                79
               ],
               63
              ],
              [
               2738,
               [
                491,
                183
               ],
               62
              ]
             ]
            ]
           ],
           35,
           2.86,
           "Complete",
           2017,
           1,
           1
          ],
          [
           0.89,
           1.039,
           1210.0,
           1204.0,
           [
            [
             443,
             3.6,
             69,
             124,
             [
              [
               3202,
               [
                221,
                63
               ],
               71
              ],
              [
               2738,
               [
                504,
                157
               ],
               68
              ]
             ]
            ]
           ],
           39,
           5.13,
           "Complete",
           2018,
           1,
           1
          ],
          [
           0.665,
           0.819,
           1076.0,
           1069.0,
           [
            [
             432,
             3.3,
             73,
             131,
             [
              [
               2738,
               [
                506,
                179
               ],
               64
              ],
              [
               3202,
               [
                227,
                83
               ],
               63
              ]
             ]
            ]
           ],
           33,
           12.12,
           "Complete",
           2019,
           2,
           2
          ],
          [
           0.896,
           1.032,
           1392.0,
           1388.0,
           [
            [
             547,
             4.1,
             78,
             134,
             [
              [
               3202,
               [
                227,
                66
               ],
               71
              ],
              [
               2738,
               [
                502,
                154
               ],
               69
              ]
             ]
            ]
           ],
           35,
           0.0,
           "Complete",
           2020,
           1,
           1
          ],
          [
           1.073,
           1.378,
           1643.0,
           1642.0,
           [
            [
             670,
             5.0,
             83,
             133,
             [
              [
               3202,
               [
                230,
                59
               ],
               74
              ],
              [
               2738,
               [
                529,
                137
               ],
               74
              ]
             ]
            ]
           ],
           33,
           3.03,
           "Complete",
           2021,
           1,
           1
          ],
          [
           1.331,
           1.736,
           1921.0,
           1904.0,
           [
            [
             910,
             7.0,
             86,
             130,
             [
              [
               2738,
               [
                531,
                84
               ],
               84
              ],
              [
               3202,
               [
                241,
                46
               ],
               81
              ]
             ]
            ]
           ],
           62,
           3.23,
           "Complete",
           2022,
           21,
           21
          ],
          [
           null,
           null,
           1363.0,
           1354.0,
           [
            [
             577,
             4.5,
             86,
             128,
             [
              [
               2738,
               [
                531,
                182
               ],
               65
              ],
              [
               3202,
               [
                241,
                87
               ],
               64
              ]
             ]
            ]
           ],
           42,
           4.76,
           "In-Progress",
           2023,
           20,
           20
          ]
         ],
         [
          null,
          null,
          null,
          0.403,
          0.625,
          0.593,
          0.653,
          0.546,
          0.343,
          0.579,
          0.466,
          0.623,
          0.547,
          0.451,
          0.38,
          0.475,
          0.478,
          0.509,
          0.486,
          0.537,
          0.682,
          0.783,
          0.89,
          0.665,
          0.896,
          1.073,
          1.331,
          null
         ],
         [
          1996,
          1997,
          1998,
          1999,
          2000,
          2001,
          2002,
          2003,
          2004,
          2005,
          2006,
          2007,
          2008,
          2009,
          2010,
          2011,
          2012,
          2013,
          2014,
          2015,
          2016,
          2017,
          2018,
          2019,
          2020,
          2021,
          2022,
          2023
         ],
         [
          0.403,
          0.625,
          0.593,
          0.653,
          0.546,
          0.343,
          0.579,
          0.466,
          0.623,
          0.547,
          0.451,
          0.38,
          0.475,
          0.478,
          0.509,
          0.486,
          0.537,
          0.682,
          0.783,
          0.89,
          0.665,
          0.896,
          1.073,
          1.331
         ],
         0.62558335
        ],
        [
         12127,
         [
          [
           null,
           null,
           3404.0,
           2929.0,
           null,
           104,
           0.0,
           "Complete",
           1996,
           2,
           2
          ],
          [
           null,
           null,
           3401.0,
           2793.0,
           null,
           120,
           0.0,
           "Complete",
           1997,
           0,
           0
          ],
          [
           null,
           null,
           3792.0,
           3348.0,
           null,
           88,
           0.0,
           "Complete",
           1998,
           2,
           2
          ],
          [
           1.597,
           1.529,
           3925.0,
           3399.0,
           null,
           102,
           2.94,
           "Complete",
           1999,
           2,
           2
          ],
          [
           1.934,
           1.523,
           4293.0,
           3851.0,
           null,
           89,
           1.12,
           "Complete",
           2000,
           1,
           1
          ],
          [
           2.013,
           2.197,
           5382.0,
           4876.0,
           null,
           104,
           0.0,
           "Complete",
           2001,
           0,
           0
          ],
          [
           2.24,
           1.734,
           5501.0,
           4966.0,
           null,
           109,
           0.0,
           "Complete",
           2002,
           0,
           0
          ],
          [
           1.849,
           1.645,
           5630.0,
           5041.0,
           null,
           107,
           5.61,
           "Complete",
           2003,
           0,
           0
          ],
          [
           1.89,
           1.922,
           6849.0,
           6371.0,
           null,
           99,
           1.01,
           "Complete",
           2004,
           1,
           1
          ],
          [
           2.21,
           2.296,
           8042.0,
           7529.0,
           null,
           117,
           0.0,
           "Complete",
           2005,
           1,
           1
          ],
          [
           2.408,
           2.089,
           8875.0,
           8291.0,
           null,
           136,
           0.0,
           "Complete",
           2006,
           1,
           1
          ],
          [
           2.449,
           2.226,
           11018.0,
           9675.0,
           null,
           268,
           0.0,
           "Complete",
           2007,
           0,
           0
          ],
          [
           2.391,
           1.774,
           12581.0,
           11807.0,
           null,
           131,
           0.0,
           "Complete",
           2008,
           0,
           0
          ],
          [
           2.17,
           1.593,
           12314.0,
           11551.0,
           null,
           154,
           0.0,
           "Complete",
           2009,
           2,
           2
          ],
          [
           2.008,
           1.586,
           13169.0,
           12454.0,
           null,
           162,
           0.0,
           "Complete",
           2010,
           1,
           1
          ],
          [
           2.353,
           1.611,
           14766.0,
           14136.0,
           [
            [
             3301,
             5.9,
             79,
             562,
             [
              [
               3203,
               [
                233,
                10
               ],
               95
              ],
              [
               1201,
               [
                264,
                16
               ],
               94
              ],
              [
               3204,
               [
                246,
                22
               ],
               91
              ],
              [
               2738,
               [
                442,
                46
               ],
               89
              ],
              [
               3205,
               [
                111,
                13
               ],
               88
              ]
             ]
            ]
           ],
           121,
           0.0,
           "Complete",
           2011,
           0,
           0
          ],
          [
           2.472,
           1.842,
           17164.0,
           16713.0,
           [
            [
             3780,
             7.1,
             81,
             534,
             [
              [
               3203,
               [
                236,
                7
               ],
               97
              ],
              [
               1201,
               [
                266,
                10
               ],
               96
              ],
              [
               3205,
               [
                115,
                5
               ],
               96
              ],
              [
               3204,
               [
                261,
                12
               ],
               95
              ],
              [
               2738,
               [
                454,
                35
               ],
               92
              ]
             ]
            ]
           ],
           103,
           0.0,
           "Complete",
           2012,
           1,
           1
          ],
          [
           2.294,
           1.809,
           17895.0,
           17458.0,
           [
            [
             3711,
             7.5,
             81,
             496,
             [
              [
               3205,
               [
                118,
                4
               ],
               97
              ],
              [
               3203,
               [
                241,
                9
               ],
               96
              ],
              [
               1201,
               [
                267,
                11
               ],
               96
              ],
              [
               3204,
               [
                267,
                13
               ],
               95
              ],
              [
               2738,
               [
                463,
                32
               ],
               93
              ]
             ]
            ]
           ],
           117,
           0.0,
           "Complete",
           2013,
           2,
           2
          ],
          [
           2.652,
           1.853,
           19103.0,
           18590.0,
           [
            [
             3200,
             6.9,
             77,
             465,
             [
              [
               1201,
               [
                267,
                10
               ],
               96
              ],
              [
               3205,
               [
                118,
                5
               ],
               96
              ],
              [
               3203,
               [
                242,
                10
               ],
               96
              ],
              [
               3204,
               [
                271,
                13
               ],
               95
              ],
              [
               2738,
               [
                468,
                41
               ],
               91
              ]
             ]
            ]
           ],
           132,
           0.0,
           "Complete",
           2014,
           2,
           2
          ],
          [
           2.487,
           1.867,
           19298.0,
           18709.0,
           [
            [
             3222,
             6.7,
             78,
             479,
             [
              [
               1201,
               [
                267,
                12
               ],
               95
              ],
              [
               3203,
               [
                246,
                12
               ],
               95
              ],
              [
               3205,
               [
                119,
                7
               ],
               94
              ],
              [
               3204,
               [
                276,
                17
               ],
               94
              ],
              [
               2738,
               [
                479,
                44
               ],
               90
              ]
             ]
            ]
           ],
           138,
           0.0,
           "Complete",
           2015,
           0,
           0
          ],
          [
           2.448,
           1.66,
           19238.0,
           18768.0,
           [
            [
             3519,
             7.2,
             81,
             490,
             [
              [
               3203,
               [
                251,
                10
               ],
               96
              ],
              [
               3205,
               [
                125,
                9
               ],
               93
              ],
              [
               2738,
               [
                481,
                44
               ],
               90
              ]
             ]
            ]
           ],
           110,
           7.27,
           "Complete",
           2016,
           0,
           0
          ],
          [
           2.619,
           1.993,
           19978.0,
           19263.0,
           [
            [
             3977,
             7.5,
             81,
             530,
             [
              [
               3203,
               [
                259,
                9
               ],
               96
              ],
              [
               3205,
               [
                132,
                5
               ],
               96
              ],
              [
               2738,
               [
                491,
                35
               ],
               92
              ]
             ]
            ]
           ],
           163,
           4.29,
           "Complete",
           2017,
           6,
           7
          ],
          [
           2.288,
           1.865,
           20061.0,
           19647.0,
           [
            [
             3760,
             7.3,
             79,
             516,
             [
              [
               3205,
               [
                137,
                4
               ],
               97
              ],
              [
               3203,
               [
                270,
                11
               ],
               96
              ],
              [
               2738,
               [
                504,
                40
               ],
               92
              ]
             ]
            ]
           ],
           118,
           0.0,
           "Complete",
           2018,
           0,
           0
          ],
          [
           2.326,
           1.874,
           21055.0,
           20607.0,
           [
            [
             3866,
             7.4,
             80,
             519,
             [
              [
               3203,
               [
                275,
                10
               ],
               96
              ],
              [
               3205,
               [
                145,
                7
               ],
               95
              ],
              [
               2738,
               [
                506,
                36
               ],
               92
              ]
             ]
            ]
           ],
           145,
           0.69,
           "Complete",
           2019,
           2,
           2
          ],
          [
           2.506,
           1.96,
           22150.0,
           21472.0,
           [
            [
             4393,
             8.0,
             82,
             546,
             [
              [
               3203,
               [
                283,
                11
               ],
               96
              ],
              [
               3205,
               [
                148,
                8
               ],
               94
              ],
              [
               2738,
               [
                502,
                36
               ],
               92
              ]
             ]
            ]
           ],
           143,
           2.1,
           "Complete",
           2020,
           4,
           4
          ],
          [
           2.022,
           1.722,
           23685.0,
           23097.0,
           [
            [
             3625,
             6.9,
             79,
             528,
             [
              [
               3205,
               [
                150,
                13
               ],
               91
              ],
              [
               3203,
               [
                292,
                29
               ],
               90
              ],
              [
               2738,
               [
                529,
                78
               ],
               85
              ]
             ]
            ]
           ],
           142,
           0.7,
           "Complete",
           2021,
           10,
           11
          ],
          [
           1.787,
           1.66,
           25481.0,
           24807.0,
           [
            [
             4326,
             7.9,
             84,
             550,
             [
              [
               3205,
               [
                152,
                11
               ],
               93
              ],
              [
               3203,
               [
                292,
                24
               ],
               91
              ],
              [
               2738,
               [
                531,
                67
               ],
               87
              ]
             ]
            ]
           ],
           140,
           0.71,
           "Complete",
           2022,
           23,
           27
          ],
          [
           null,
           null,
           17855.0,
           17447.0,
           [
            [
             3219,
             6.4,
             78,
             500,
             [
              [
               3205,
               [
                153,
                13
               ],
               91
              ],
              [
               3203,
               [
                292,
                33
               ],
               88
              ],
              [
               2738,
               [
                531,
                91
               ],
               82
              ]
             ]
            ]
           ],
           94,
           3.19,
           "In-Progress",
           2023,
           68,
           73
          ]
         ],
         [
          null,
          null,
          null,
          1.597,
          1.934,
          2.013,
          2.24,
          1.849,
          1.89,
          2.21,
          2.408,
          2.449,
          2.391,
          2.17,
          2.008,
          2.353,
          2.472,
          2.294,
          2.652,
          2.487,
          2.448,
          2.619,
          2.288,
          2.326,
          2.506,
          2.022,
          1.787,
          null
         ],
         [
          1996,
          1997,
          1998,
          1999,
          2000,
          2001,
          2002,
          2003,
          2004,
          2005,
          2006,
          2007,
          2008,
          2009,
          2010,
          2011,
          2012,
          2013,
          2014,
          2015,
          2016,
          2017,
          2018,
          2019,
          2020,
          2021,
          2022,
          2023
         ],
         [
          1.597,
          1.934,
          2.013,
          2.24,
          1.849,
          1.89,
          2.21,
          2.408,
          2.449,
          2.391,
          2.17,
          2.008,
          2.353,
          2.472,
          2.294,
          2.652,
          2.487,
          2.448,
          2.619,
          2.288,
          2.326,
          2.506,
          2.022,
          1.787
         ],
         2.2255416
        ],
        [
         12128,
         [
          [
           null,
           null,
           263.0,
           245.0,
           null,
           32,
           3.13,
           "Complete",
           1996,
           1,
           2
          ],
          [
           null,
           null,
           289.0,
           265.0,
           null,
           28,
           14.29,
           "Complete",
           1997,
           1,
           1
          ],
          [
           null,
           null,
           310.0,
           281.0,
           null,
           34,
           2.94,
           "Complete",
           1998,
           2,
           2
          ],
          [
           0.549,
           0.681,
           376.0,
           354.0,
           null,
           36,
           13.89,
           "Complete",
           1999,
           6,
           6
          ],
          [
           0.74,
           0.689,
           434.0,
           405.0,
           null,
           36,
           22.22,
           "Complete",
           2000,
           3,
           3
          ],
          [
           0.491,
           0.687,
           498.0,
           468.0,
           null,
           46,
           6.52,
           "Complete",
           2001,
           2,
           2
          ],
          [
           0.614,
           0.796,
           509.0,
           477.0,
           null,
           45,
           2.22,
           "Complete",
           2002,
           0,
           0
          ],
          [
           0.718,
           0.933,
           611.0,
           570.0,
           null,
           43,
           4.65,
           "Complete",
           2003,
           3,
           3
          ],
          [
           0.903,
           0.849,
           761.0,
           724.0,
           null,
           48,
           20.83,
           "Complete",
           2004,
           1,
           1
          ],
          [
           0.567,
           0.775,
           858.0,
           816.0,
           null,
           44,
           20.45,
           "Complete",
           2005,
           4,
           4
          ],
          [
           0.604,
           0.588,
           892.0,
           844.0,
           null,
           47,
           14.89,
           "Complete",
           2006,
           3,
           3
          ],
          [
           0.824,
           1.27,
           1095.0,
           1016.0,
           null,
           58,
           5.17,
           "Complete",
           2007,
           2,
           2
          ],
          [
           0.622,
           0.718,
           1298.0,
           1213.0,
           null,
           69,
           13.04,
           "Complete",
           2008,
           3,
           4
          ],
          [
           0.508,
           0.617,
           1202.0,
           1169.0,
           null,
           47,
           4.26,
           "Complete",
           2009,
           3,
           3
          ],
          [
           0.688,
           0.851,
           1395.0,
           1332.0,
           null,
           47,
           0.0,
           "Complete",
           2010,
           1,
           1
          ],
          [
           0.867,
           1.087,
           1590.0,
           1546.0,
           [
            [
             598,
             2.9,
             64,
             203,
             [
              [
               3203,
               [
                233,
                56
               ],
               76
              ]
             ]
            ]
           ],
           47,
           6.38,
           "Complete",
           2011,
           0,
           0
          ],
          [
           0.924,
           0.89,
           1841.0,
           1793.0,
           [
            [
             602,
             3.2,
             67,
             186,
             [
              [
               3203,
               [
                236,
                52
               ],
               78
              ]
             ]
            ]
           ],
           48,
           0.0,
           "Complete",
           2012,
           2,
           2
          ],
          [
           0.769,
           1.028,
           2142.0,
           2083.0,
           [
            [
             573,
             3.0,
             68,
             188,
             [
              [
               3203,
               [
                241,
                69
               ],
               71
              ]
             ]
            ]
           ],
           48,
           2.08,
           "Complete",
           2013,
           0,
           0
          ],
          [
           0.998,
           1.056,
           2172.0,
           2104.0,
           [
            [
             582,
             2.8,
             73,
             205,
             [
              [
               3203,
               [
                242,
                77
               ],
               68
              ]
             ]
            ]
           ],
           64,
           1.56,
           "Complete",
           2014,
           0,
           0
          ],
          [
           0.953,
           0.955,
           2187.0,
           2116.0,
           [
            [
             674,
             3.1,
             78,
             215,
             [
              [
               3203,
               [
                246,
                75
               ],
               69
              ]
             ]
            ]
           ],
           56,
           1.79,
           "Complete",
           2015,
           1,
           1
          ],
          [
           0.871,
           1.086,
           2106.0,
           2046.0,
           [
            [
             768,
             3.3,
             74,
             231,
             [
              [
               3203,
               [
                251,
                68
               ],
               73
              ]
             ]
            ]
           ],
           64,
           3.13,
           "Complete",
           2016,
           5,
           5
          ],
          [
           0.976,
           0.894,
           2282.0,
           2203.0,
           [
            [
             801,
             3.4,
             71,
             235,
             [
              [
               3203,
               [
                259,
                69
               ],
               73
              ]
             ]
            ]
           ],
           56,
           5.36,
           "Complete",
           2017,
           2,
           2
          ],
          [
           0.707,
           0.894,
           2271.0,
           2233.0,
           [
            [
             686,
             3.0,
             69,
             227,
             [
              [
               3203,
               [
                270,
                79
               ],
               70
              ]
             ]
            ]
           ],
           58,
           0.0,
           "Complete",
           2018,
           4,
           4
          ],
          [
           0.805,
           0.871,
           2486.0,
           2441.0,
           [
            [
             652,
             2.9,
             71,
             226,
             [
              [
               3203,
               [
                275,
                88
               ],
               68
              ]
             ]
            ]
           ],
           55,
           0.0,
           "Complete",
           2019,
           1,
           1
          ],
          [
           0.851,
           0.778,
           2548.0,
           2463.0,
           [
            [
             623,
             2.8,
             66,
             221,
             [
              [
               3203,
               [
                283,
                98
               ],
               65
              ]
             ]
            ]
           ],
           68,
           1.47,
           "Complete",
           2020,
           4,
           4
          ],
          [
           0.781,
           0.893,
           2852.0,
           2760.0,
           [
            [
             782,
             3.6,
             73,
             218,
             [
              [
               3203,
               [
                292,
                96
               ],
               67
              ]
             ]
            ]
           ],
           59,
           3.39,
           "Complete",
           2021,
           5,
           5
          ],
          [
           0.858,
           1.113,
           3042.0,
           2987.0,
           [
            [
             918,
             4.1,
             75,
             224,
             [
              [
               3203,
               [
                292,
                99
               ],
               66
              ]
             ]
            ]
           ],
           53,
           1.89,
           "Complete",
           2022,
           20,
           20
          ],
          [
           null,
           null,
           2047.0,
           2014.0,
           [
            [
             628,
             2.9,
             66,
             213,
             [
              [
               3203,
               [
                292,
                126
               ],
               57
              ]
             ]
            ]
           ],
           47,
           0.0,
           "In-Progress",
           2023,
           40,
           40
          ]
         ],
         [
          null,
          null,
          null,
          0.549,
          0.74,
          0.491,
          0.614,
          0.718,
          0.903,
          0.567,
          0.604,
          0.824,
          0.622,
          0.508,
          0.688,
          0.867,
          0.924,
          0.769,
          0.998,
          0.953,
          0.871,
          0.976,
          0.707,
          0.805,
          0.851,
          0.781,
          0.858,
          null
         ],
         [
          1996,
          1997,
          1998,
          1999,
          2000,
          2001,
          2002,
          2003,
          2004,
          2005,
          2006,
          2007,
          2008,
          2009,
          2010,
          2011,
          2012,
          2013,
          2014,
          2015,
          2016,
          2017,
          2018,
          2019,
          2020,
          2021,
          2022,
          2023
         ],
         [
          0.549,
          0.74,
          0.491,
          0.614,
          0.718,
          0.903,
          0.567,
          0.604,
          0.824,
          0.622,
          0.508,
          0.688,
          0.867,
          0.924,
          0.769,
          0.998,
          0.953,
          0.871,
          0.976,
          0.707,
          0.805,
          0.851,
          0.781,
          0.858
         ],
         0.75783336
        ],
        [
         12138,
         [
          [
           null,
           null,
           208.0,
           208.0,
           null,
           203,
           0.0,
           "Complete",
           1996,
           64,
           64
          ],
          [
           null,
           null,
           256.0,
           256.0,
           null,
           175,
           0.0,
           "Complete",
           1997,
           45,
           47
          ],
          [
           null,
           null,
           261.0,
           261.0,
           null,
           214,
           0.0,
           "Complete",
           1998,
           82,
           84
          ],
          [
           0.346,
           null,
           365.0,
           365.0,
           null,
           151,
           0.0,
           "Complete",
           1999,
           45,
           49
          ],
          [
           0.317,
           null,
           284.0,
           227.0,
           null,
           146,
           0.0,
           "Complete",
           2000,
           52,
           57
          ],
          [
           0.264,
           0.444,
           407.0,
           333.0,
           null,
           160,
           0.0,
           "Complete",
           2001,
           48,
           50
          ],
          [
           0.406,
           0.743,
           451.0,
           401.0,
           null,
           194,
           0.0,
           "Complete",
           2002,
           84,
           90
          ],
          [
           0.397,
           0.482,
           493.0,
           436.0,
           null,
           151,
           0.0,
           "Complete",
           2003,
           57,
           57
          ],
          [
           0.371,
           0.531,
           525.0,
           440.0,
           null,
           200,
           0.0,
           "Complete",
           2004,
           84,
           91
          ],
          [
           0.361,
           0.42,
           538.0,
           471.0,
           null,
           177,
           0.0,
           "Complete",
           2005,
           81,
           84
          ],
          [
           0.23,
           0.306,
           434.0,
           387.0,
           null,
           118,
           0.0,
           "Complete",
           2006,
           45,
           47
          ],
          [
           0.223,
           0.227,
           368.0,
           336.0,
           null,
           156,
           0.0,
           "Complete",
           2007,
           50,
           54
          ],
          [
           0.261,
           0.413,
           487.0,
           392.0,
           null,
           180,
           0.0,
           "Complete",
           2008,
           96,
           101
          ],
          [
           0.238,
           0.26,
           355.0,
           310.0,
           null,
           114,
           0.0,
           "Complete",
           2009,
           40,
           45
          ],
          [
           0.246,
           0.429,
           448.0,
           383.0,
           null,
           125,
           0.0,
           "Complete",
           2010,
           55,
           57
          ],
          [
           0.232,
           0.332,
           452.0,
           402.0,
           [
            [
             377,
             0.8,
             29,
             494,
             [
              [
               2208,
               [
                589,
                379
               ],
               35
              ],
              [
               2504,
               [
                183,
                141
               ],
               23
              ]
             ]
            ]
           ],
           122,
           0.0,
           "Complete",
           2011,
           44,
           44
          ],
          [
           0.23,
           0.25,
           372.0,
           345.0,
           [
            [
             402,
             0.9,
             33,
             436,
             [
              [
               2208,
               [
                615,
                371
               ],
               39
              ],
              [
               2504,
               [
                193,
                140
               ],
               27
              ]
             ]
            ]
           ],
           79,
           0.0,
           "Complete",
           2012,
           21,
           21
          ],
          [
           0.206,
           0.349,
           406.0,
           385.0,
           [
            [
             301,
             0.7,
             35,
             413,
             [
              [
               2208,
               [
                631,
                444
               ],
               29
              ],
              [
               2504,
               [
                199,
                164
               ],
               17
              ]
             ]
            ]
           ],
           91,
           0.0,
           "Complete",
           2013,
           40,
           43
          ],
          [
           0.264,
           0.327,
           367.0,
           346.0,
           [
            [
             289,
             0.8,
             36,
             363,
             [
              [
               2208,
               [
                651,
                438
               ],
               32
              ],
              [
               2504,
               [
                207,
                168
               ],
               19
              ]
             ]
            ]
           ],
           75,
           0.0,
           "Complete",
           2014,
           34,
           34
          ],
          [
           0.188,
           0.38,
           346.0,
           346.0,
           [
            [
             235,
             1.0,
             39,
             242,
             [
              [
               2208,
               [
                660,
                406
               ],
               38
              ],
              [
               2504,
               [
                213,
                154
               ],
               27
              ]
             ]
            ]
           ],
           0,
           0.0,
           "Complete",
           2015,
           0,
           0
          ],
          [
           0.139,
           0.092,
           290.0,
           290.0,
           null,
           0,
           0.0,
           "Complete",
           2016,
           0,
           0
          ],
          [
           0.153,
           0.288,
           327.0,
           327.0,
           null,
           0,
           0.0,
           "Complete",
           2017,
           0,
           0
          ],
          [
           null,
           null,
           250.0,
           250.0,
           null,
           0,
           0.0,
           "Complete",
           2018,
           0,
           0
          ],
          [
           null,
           null,
           211.0,
           211.0,
           null,
           0,
           0.0,
           "Complete",
           2019,
           0,
           0
          ],
          [
           null,
           null,
           168.0,
           168.0,
           null,
           0,
           0.0,
           "Complete",
           2020,
           0,
           0
          ],
          [
           null,
           null,
           198.0,
           198.0,
           null,
           0,
           0.0,
           "Complete",
           2021,
           0,
           0
          ],
          [
           null,
           null,
           163.0,
           163.0,
           null,
           0,
           0.0,
           "Complete",
           2022,
           0,
           0
          ],
          [
           null,
           null,
           97.0,
           97.0,
           null,
           0,
           0.0,
           "In-Progress",
           2023,
           0,
           0
          ]
         ],
         [
          null,
          null,
          null,
          0.346,
          0.317,
          0.264,
          0.406,
          0.397,
          0.371,
          0.361,
          0.23,
          0.223,
          0.261,
          0.238,
          0.246,
          0.232,
          0.23,
          0.206,
          0.264,
          0.188,
          0.139,
          0.153,
          null,
          null,
          null,
          null,
          null,
          null
         ],
         [
          1996,
          1997,
          1998,
          1999,
          2000,
          2001,
          2002,
          2003,
          2004,
          2005,
          2006,
          2007,
          2008,
          2009,
          2010,
          2011,
          2012,
          2013,
          2014,
          2015,
          2016,
          2017,
          2018,
          2019,
          2020,
          2021,
          2022,
          2023
         ],
         [
          0.346,
          0.317,
          0.264,
          0.406,
          0.397,
          0.371,
          0.361,
          0.23,
          0.223,
          0.261,
          0.238,
          0.246,
          0.232,
          0.23,
          0.206,
          0.264,
          0.188,
          0.139,
          0.153
         ],
         0.26694736
        ]
       ],
       "datasetInfos": [],
       "dbfsResultPath": null,
       "isJsonSchema": true,
       "metadata": {},
       "overflow": false,
       "plotOptions": {
        "customPlotOptions": {},
        "displayType": "table",
        "pivotAggregation": null,
        "pivotColumns": null,
        "xColumns": null,
        "yColumns": null
       },
       "removedWidgets": [],
       "schema": [
        {
         "metadata": "{}",
         "name": "srcid",
         "type": "\"long\""
        },
        {
         "metadata": "{}",
         "name": "metrics_calculations",
         "type": "{\"type\":\"array\",\"elementType\":{\"type\":\"struct\",\"fields\":[{\"name\":\"SJR\",\"type\":\"double\",\"nullable\":true,\"metadata\":{}},{\"name\":\"SNIP\",\"type\":\"double\",\"nullable\":true,\"metadata\":{}},{\"name\":\"citations\",\"type\":\"double\",\"nullable\":true,\"metadata\":{}},{\"name\":\"citations-sce\",\"type\":\"double\",\"nullable\":true,\"metadata\":{}},{\"name\":\"cite-score-metrics\",\"type\":{\"type\":\"struct\",\"fields\":[{\"name\":\"all\",\"type\":{\"type\":\"struct\",\"fields\":[{\"name\":\"cs-citation-count\",\"type\":\"long\",\"nullable\":true,\"metadata\":{}},{\"name\":\"cs-citescore\",\"type\":\"double\",\"nullable\":true,\"metadata\":{}},{\"name\":\"cs-percent-cited\",\"type\":\"long\",\"nullable\":true,\"metadata\":{}},{\"name\":\"cs-scholarly-output\",\"type\":\"long\",\"nullable\":true,\"metadata\":{}},{\"name\":\"cs-subject-category\",\"type\":{\"type\":\"array\",\"elementType\":{\"type\":\"struct\",\"fields\":[{\"name\":\"asjc\",\"type\":\"long\",\"nullable\":true,\"metadata\":{}},{\"name\":\"cs-rank\",\"type\":{\"type\":\"struct\",\"fields\":[{\"name\":\"out-of\",\"type\":\"long\",\"nullable\":true,\"metadata\":{}},{\"name\":\"value\",\"type\":\"long\",\"nullable\":true,\"metadata\":{}}]},\"nullable\":true,\"metadata\":{}},{\"name\":\"percentile\",\"type\":\"long\",\"nullable\":true,\"metadata\":{}}]},\"containsNull\":true},\"nullable\":true,\"metadata\":{}}]},\"nullable\":true,\"metadata\":{}}]},\"nullable\":true,\"metadata\":{}},{\"name\":\"publications\",\"type\":\"long\",\"nullable\":true,\"metadata\":{}},{\"name\":\"revpercent\",\"type\":\"double\",\"nullable\":true,\"metadata\":{}},{\"name\":\"status\",\"type\":\"string\",\"nullable\":true,\"metadata\":{}},{\"name\":\"year\",\"type\":\"long\",\"nullable\":true,\"metadata\":{}},{\"name\":\"zero-cites\",\"type\":\"long\",\"nullable\":true,\"metadata\":{}},{\"name\":\"zero-cites-sce\",\"type\":\"long\",\"nullable\":true,\"metadata\":{}}]},\"containsNull\":true}"
        },
        {
         "metadata": "{}",
         "name": "SJR_lst",
         "type": "{\"type\":\"array\",\"elementType\":\"double\",\"containsNull\":true}"
        },
        {
         "metadata": "{}",
         "name": "year_SJR",
         "type": "{\"type\":\"array\",\"elementType\":\"long\",\"containsNull\":true}"
        },
        {
         "metadata": "{}",
         "name": "list_of_numbers",
         "type": "{\"type\":\"array\",\"elementType\":\"float\",\"containsNull\":true}"
        },
        {
         "metadata": "{}",
         "name": "mean_of_numbers",
         "type": "\"float\""
        }
       ],
       "type": "table"
      }
     },
     "output_type": "display_data"
    }
   ],
   "source": [
    "import pandas as pd\n",
    "import pyspark.sql.functions as F\n",
    "\n",
    "def map_udf(list_of_numbers):\n",
    "    return [x for x in list_of_numbers if x is not None]\n",
    "    #a = [x for x in list_of_numbers if x is not None]\n",
    "    #return sum(a)/len(a)\n",
    "\n",
    "udf_map = F.udf(map_udf, ArrayType(FloatType()))\n",
    "\n",
    "def mean_udf(list_of_numbers):\n",
    "    if len(list_of_numbers) == 0:\n",
    "        return 0.0\n",
    "    return sum(list_of_numbers) / len(list_of_numbers)\n",
    "\n",
    "udf_mean = F.udf(mean_udf, FloatType())\n",
    "\n",
    "df_sources = spark.read.format(\"parquet\").load(basePath+tablename_sources)\n",
    "\n",
    "\n",
    "newdata = newdata.withColumn('SJR_lst', F.col('metrics_calculations').getItem('SJR'))\n",
    "newdata = newdata.withColumn('year_SJR', F.col('metrics_calculations').getItem('year'))\n",
    "newdata = newdata.withColumn(\"list_of_numbers\", udf_map(F.col(\"SJR_lst\")))\n",
    "newdata = newdata.withColumn(\"mean_of_numbers\", udf_mean(F.col(\"list_of_numbers\")))\n",
    "display(newdata.limit(10))\n",
    "#newdata = newdata.withColumn('mean_of_numbers', F.element_at(newdata['list_of_numbers'], -1))"
   ]
  },
  {
   "cell_type": "code",
   "execution_count": 0,
   "metadata": {
    "application/vnd.databricks.v1+cell": {
     "cellMetadata": {
      "byteLimit": 2048000,
      "rowLimit": 10000
     },
     "inputWidgets": {},
     "nuid": "abd7c087-6159-48c8-9170-987e8ab2d0fa",
     "showTitle": false,
     "title": ""
    }
   },
   "outputs": [
    {
     "output_type": "stream",
     "name": "stdout",
     "output_type": "stream",
     "text": [
      "0.1251145899295807   0.2536666691303253   0.5980750024318695\n"
     ]
    }
   ],
   "source": [
    "dd = newdata.select('mean_of_numbers','SJR_lst','srcid').toPandas()\n",
    "q1 = dd['mean_of_numbers'].quantile(0.25)\n",
    "q2 = dd['mean_of_numbers'].quantile(0.50)\n",
    "q3 = dd['mean_of_numbers'].quantile(0.75)\n",
    "print(q1,\" \",q2,\" \",q3)"
   ]
  },
  {
   "cell_type": "markdown",
   "metadata": {
    "application/vnd.databricks.v1+cell": {
     "cellMetadata": {},
     "inputWidgets": {},
     "nuid": "8705eb5b-c8ba-4a99-803c-a4b8546f42bf",
     "showTitle": false,
     "title": ""
    }
   },
   "source": [
    "### Journal criteria ends here, Feb 26, 2024"
   ]
  },
  {
   "cell_type": "code",
   "execution_count": 0,
   "metadata": {
    "application/vnd.databricks.v1+cell": {
     "cellMetadata": {
      "byteLimit": 2048000,
      "rowLimit": 10000
     },
     "inputWidgets": {},
     "nuid": "69eda0c4-d21a-47b3-8040-05bbe28c52f7",
     "showTitle": false,
     "title": ""
    }
   },
   "outputs": [
    {
     "output_type": "display_data",
     "data": {
      "text/html": [
       "<style scoped>\n",
       "  .ansiout {\n",
       "    display: block;\n",
       "    unicode-bidi: embed;\n",
       "    white-space: pre-wrap;\n",
       "    word-wrap: break-word;\n",
       "    word-break: break-all;\n",
       "    font-family: \"Menlo\", \"Monaco\", \"Consolas\", \"Ubuntu Mono\", \"Source Code Pro\", monospace;\n",
       "    font-size: 13px;\n",
       "    color: #555;\n",
       "    margin-left: 4px;\n",
       "    line-height: 19px;\n",
       "  }\n",
       "</style>"
      ]
     },
     "metadata": {
      "application/vnd.databricks.v1+output": {
       "arguments": {},
       "data": "",
       "errorSummary": "Cancelled",
       "errorTraceType": "html",
       "metadata": {},
       "type": "ipynbError"
      }
     },
     "output_type": "display_data"
    }
   ],
   "source": [
    "import pandas as pd\n",
    "import pyspark.sql.functions as F\n",
    "\n",
    "def test(data):\n",
    "  data = data.withColumn('SJR_lst', F.col('metrics_calculations').getItem('SJR'))\n",
    "  return data\n",
    "\n",
    "df_sources = spark.read.format(\"parquet\").load(basePath+tablename_sources)\n",
    "df = df_sources.select('metrics_calculations','srcid')\n",
    "display(df.limit(10),\"\\n\")\n",
    "\n",
    "a = test(df)\n",
    "display(df.limit(10),\"\\n\")\n",
    "\n"
   ]
  },
  {
   "cell_type": "code",
   "execution_count": 0,
   "metadata": {
    "application/vnd.databricks.v1+cell": {
     "cellMetadata": {
      "byteLimit": 2048000,
      "rowLimit": 10000
     },
     "inputWidgets": {},
     "nuid": "ad7079f9-90ac-46b8-a0af-4ac7c9fe398f",
     "showTitle": false,
     "title": ""
    }
   },
   "outputs": [
    {
     "output_type": "display_data",
     "data": {
      "text/html": [
       "<style scoped>\n",
       "  .ansiout {\n",
       "    display: block;\n",
       "    unicode-bidi: embed;\n",
       "    white-space: pre-wrap;\n",
       "    word-wrap: break-word;\n",
       "    word-break: break-all;\n",
       "    font-family: \"Menlo\", \"Monaco\", \"Consolas\", \"Ubuntu Mono\", \"Source Code Pro\", monospace;\n",
       "    font-size: 13px;\n",
       "    color: #555;\n",
       "    margin-left: 4px;\n",
       "    line-height: 19px;\n",
       "  }\n",
       "</style>"
      ]
     },
     "metadata": {
      "application/vnd.databricks.v1+output": {
       "arguments": {},
       "data": "",
       "errorSummary": "Cancelled",
       "errorTraceType": "html",
       "metadata": {},
       "type": "ipynbError"
      }
     },
     "output_type": "display_data"
    }
   ],
   "source": [
    "display(a.limit(10),\"\\n\")"
   ]
  },
  {
   "cell_type": "code",
   "execution_count": 0,
   "metadata": {
    "application/vnd.databricks.v1+cell": {
     "cellMetadata": {
      "byteLimit": 2048000,
      "rowLimit": 10000
     },
     "inputWidgets": {},
     "nuid": "a145e258-8e83-4884-82e0-a865fc69d043",
     "showTitle": false,
     "title": ""
    }
   },
   "outputs": [
    {
     "output_type": "display_data",
     "data": {
      "text/html": [
       "<style scoped>\n",
       "  .ansiout {\n",
       "    display: block;\n",
       "    unicode-bidi: embed;\n",
       "    white-space: pre-wrap;\n",
       "    word-wrap: break-word;\n",
       "    word-break: break-all;\n",
       "    font-family: \"Menlo\", \"Monaco\", \"Consolas\", \"Ubuntu Mono\", \"Source Code Pro\", monospace;\n",
       "    font-size: 13px;\n",
       "    color: #555;\n",
       "    margin-left: 4px;\n",
       "    line-height: 19px;\n",
       "  }\n",
       "</style>"
      ]
     },
     "metadata": {
      "application/vnd.databricks.v1+output": {
       "arguments": {},
       "data": "",
       "errorSummary": "Cancelled",
       "errorTraceType": "html",
       "metadata": {},
       "type": "ipynbError"
      }
     },
     "output_type": "display_data"
    }
   ],
   "source": [
    "df_smc_ani = spark.read.format(\"parquet\").load(basePath+tablename_smc_complete)\n",
    "display(df_smc_ani.select('subfield_article').distinct().count(),\"\\n\")\n",
    "display(df_smc_ani.select('subfield_hybrid').distinct().count(),\"\\n\")\n",
    "display(df_smc_ani.select('subfield_journal').distinct().count(),\"\\n\")"
   ]
  },
  {
   "cell_type": "code",
   "execution_count": 0,
   "metadata": {
    "application/vnd.databricks.v1+cell": {
     "cellMetadata": {
      "byteLimit": 2048000,
      "rowLimit": 10000
     },
     "inputWidgets": {},
     "nuid": "0483b64a-ec1a-46e6-b31f-9e083f2b6c61",
     "showTitle": false,
     "title": ""
    }
   },
   "outputs": [
    {
     "output_type": "display_data",
     "data": {
      "text/html": [
       "<style scoped>\n",
       "  .ansiout {\n",
       "    display: block;\n",
       "    unicode-bidi: embed;\n",
       "    white-space: pre-wrap;\n",
       "    word-wrap: break-word;\n",
       "    word-break: break-all;\n",
       "    font-family: \"Menlo\", \"Monaco\", \"Consolas\", \"Ubuntu Mono\", \"Source Code Pro\", monospace;\n",
       "    font-size: 13px;\n",
       "    color: #555;\n",
       "    margin-left: 4px;\n",
       "    line-height: 19px;\n",
       "  }\n",
       "</style>"
      ]
     },
     "metadata": {
      "application/vnd.databricks.v1+output": {
       "arguments": {},
       "data": "",
       "errorSummary": "Cancelled",
       "errorTraceType": "html",
       "metadata": {},
       "type": "ipynbError"
      }
     },
     "output_type": "display_data"
    }
   ],
   "source": [
    "import pandas as pd\n",
    "total = pd.read_csv(\"/dbfs/FileStore/shared_uploads/arabi2@wisc.edu/us_media_analysis.csv\")\n",
    "print(total.dtypes)\n",
    "\n",
    "\n",
    "ret = spark.read.format(\"csv\").option(\"header\", \"true\").load(\"dbfs:/FileStore/shared_uploads/arabi2@wisc.edu/retrected_doi_wos.csv\")\n",
    "retracted = ret.select('doi').toPandas()\n",
    "ids_to_remove = retracted['doi']\n",
    "total2 = total[~total['doi'].isin(ids_to_remove)]\n",
    "\n",
    "print(\"len of total \", len(total))\n",
    "total2 = total2.drop_duplicates()\n",
    "total2 = total2.drop_duplicates(subset = ['doi'])"
   ]
  },
  {
   "cell_type": "code",
   "execution_count": 0,
   "metadata": {
    "application/vnd.databricks.v1+cell": {
     "cellMetadata": {
      "byteLimit": 2048000,
      "rowLimit": 10000
     },
     "inputWidgets": {},
     "nuid": "34693ea8-91d7-4253-8ca4-7cf6c84b2ec4",
     "showTitle": false,
     "title": ""
    }
   },
   "outputs": [
    {
     "output_type": "stream",
     "name": "stdout",
     "output_type": "stream",
     "text": [
      "root\n |-- doi: string (nullable = true)\n |-- auid: long (nullable = true)\n\n"
     ]
    }
   ],
   "source": [
    "import pandas as pd\n",
    "from pyspark.sql import SparkSession\n",
    "\n",
    "import pandas as pd\n",
    "total = pd.read_csv(\"/dbfs/FileStore/shared_uploads/arabi2@wisc.edu/us_media_analysis.csv\")\n",
    "\n",
    "total2 = pd.DataFrame()\n",
    "total2['doi'] = total['doi']\n",
    "total2['cor_au1'] = total['cor_au1']\n",
    "\n",
    "spark = SparkSession.builder.appName('PandasToSparkDF').getOrCreate()\n",
    "\n",
    "# Convert pandas DataFrame to PySpark DataFrame\n",
    "df_auid = spark.createDataFrame(total2)\n",
    "\n",
    "df_auid = df_auid.withColumnRenamed(\"cor_au1\",\"auid\")\n",
    "df_auid.printSchema()"
   ]
  },
  {
   "cell_type": "code",
   "execution_count": 0,
   "metadata": {
    "application/vnd.databricks.v1+cell": {
     "cellMetadata": {
      "byteLimit": 2048000,
      "rowLimit": 10000
     },
     "inputWidgets": {},
     "nuid": "d5a060d3-f878-47fb-8384-95db23d3be3d",
     "showTitle": false,
     "title": ""
    }
   },
   "outputs": [
    {
     "output_type": "display_data",
     "data": {
      "text/html": [
       "<style scoped>\n",
       "  .table-result-container {\n",
       "    max-height: 300px;\n",
       "    overflow: auto;\n",
       "  }\n",
       "  table, th, td {\n",
       "    border: 1px solid black;\n",
       "    border-collapse: collapse;\n",
       "  }\n",
       "  th, td {\n",
       "    padding: 5px;\n",
       "  }\n",
       "  th {\n",
       "    text-align: left;\n",
       "  }\n",
       "</style><div class='table-result-container'><table class='table-result'><thead style='background-color: white'><tr><th>doi</th><th>auid</th></tr></thead><tbody><tr><td>10.1007/s11104-019-04306-4</td><td>56690417900</td></tr><tr><td>10.1080/00335630.2020.1828605</td><td>6507166820</td></tr><tr><td>10.1038/s41396-018-0089-x</td><td>7006567885</td></tr><tr><td>10.1126/sciadv.aat1296</td><td>35179276400</td></tr><tr><td>10.1016/j.compag.2019.02.004</td><td>35435352400</td></tr><tr><td>10.1007/s10021-018-0333-2</td><td>35179276400</td></tr><tr><td>10.1002/saj2.20119</td><td>16043312700</td></tr><tr><td>10.3389/fsufs.2020.577723</td><td>56002786300</td></tr><tr><td>10.1111/nph.15120</td><td>35179276400</td></tr><tr><td>10.1073/pnas.1818400116</td><td>35179276400</td></tr></tbody></table></div>"
      ]
     },
     "metadata": {
      "application/vnd.databricks.v1+output": {
       "addedWidgets": {},
       "aggData": [],
       "aggError": "",
       "aggOverflow": false,
       "aggSchema": [],
       "aggSeriesLimitReached": false,
       "aggType": "",
       "arguments": {},
       "columnCustomDisplayInfos": {},
       "data": [
        [
         "10.1007/s11104-019-04306-4",
         56690417900
        ],
        [
         "10.1080/00335630.2020.1828605",
         6507166820
        ],
        [
         "10.1038/s41396-018-0089-x",
         7006567885
        ],
        [
         "10.1126/sciadv.aat1296",
         35179276400
        ],
        [
         "10.1016/j.compag.2019.02.004",
         35435352400
        ],
        [
         "10.1007/s10021-018-0333-2",
         35179276400
        ],
        [
         "10.1002/saj2.20119",
         16043312700
        ],
        [
         "10.3389/fsufs.2020.577723",
         56002786300
        ],
        [
         "10.1111/nph.15120",
         35179276400
        ],
        [
         "10.1073/pnas.1818400116",
         35179276400
        ]
       ],
       "datasetInfos": [],
       "dbfsResultPath": null,
       "isJsonSchema": true,
       "metadata": {},
       "overflow": false,
       "plotOptions": {
        "customPlotOptions": {},
        "displayType": "table",
        "pivotAggregation": null,
        "pivotColumns": null,
        "xColumns": null,
        "yColumns": null
       },
       "removedWidgets": [],
       "schema": [
        {
         "metadata": "{}",
         "name": "doi",
         "type": "\"string\""
        },
        {
         "metadata": "{}",
         "name": "auid",
         "type": "\"long\""
        }
       ],
       "type": "table"
      }
     },
     "output_type": "display_data"
    }
   ],
   "source": [
    "display(df_auid.limit(10))"
   ]
  },
  {
   "cell_type": "code",
   "execution_count": 0,
   "metadata": {
    "application/vnd.databricks.v1+cell": {
     "cellMetadata": {
      "byteLimit": 2048000,
      "rowLimit": 10000
     },
     "inputWidgets": {},
     "nuid": "1627a857-f202-4628-8542-6c083ea6859c",
     "showTitle": false,
     "title": ""
    }
   },
   "outputs": [],
   "source": [
    "df_ani = spark.read.format(\"parquet\").load(basePath+tablename_ani)\n",
    "import pyspark.sql.functions as f\n",
    "df_senior = (\n",
    "    df_auid\n",
    "    .join(df_ani.select(\"Au.auid\", f.col('year').alias('pubyear')).withColumn(\"auid\", f.explode(\"auid\")), [\"auid\"], \"inner\")\n",
    "    # get max publication length\n",
    "    .groupBy( 'auid').agg(f.min('pubyear').alias('min_year'), f.max('pubyear').alias('max_year'))\n",
    "    .withColumn('seniority', f.col('max_year') - f.col('min_year') + 1)\n",
    ")\n"
   ]
  },
  {
   "cell_type": "code",
   "execution_count": 0,
   "metadata": {
    "application/vnd.databricks.v1+cell": {
     "cellMetadata": {
      "byteLimit": 2048000,
      "rowLimit": 10000
     },
     "inputWidgets": {},
     "nuid": "52fd9976-7c56-4523-9286-13a35c9ab455",
     "showTitle": false,
     "title": ""
    }
   },
   "outputs": [
    {
     "output_type": "display_data",
     "data": {
      "text/html": [
       "<style scoped>\n",
       "  .table-result-container {\n",
       "    max-height: 300px;\n",
       "    overflow: auto;\n",
       "  }\n",
       "  table, th, td {\n",
       "    border: 1px solid black;\n",
       "    border-collapse: collapse;\n",
       "  }\n",
       "  th, td {\n",
       "    padding: 5px;\n",
       "  }\n",
       "  th {\n",
       "    text-align: left;\n",
       "  }\n",
       "</style><div class='table-result-container'><table class='table-result'><thead style='background-color: white'><tr><th>auid</th><th>min_year</th><th>max_year</th><th>seniority</th></tr></thead><tbody><tr><td>7005354483</td><td>1975</td><td>2023</td><td>49</td></tr><tr><td>7402766231</td><td>1993</td><td>2023</td><td>31</td></tr><tr><td>7404989623</td><td>1989</td><td>2023</td><td>35</td></tr><tr><td>57201642540</td><td>2009</td><td>2023</td><td>15</td></tr><tr><td>14008155300</td><td>1995</td><td>2023</td><td>29</td></tr><tr><td>57352608200</td><td>2010</td><td>2023</td><td>14</td></tr><tr><td>16400827000</td><td>2007</td><td>2023</td><td>17</td></tr><tr><td>57198503306</td><td>2003</td><td>2022</td><td>20</td></tr><tr><td>7102896772</td><td>1959</td><td>2022</td><td>64</td></tr><tr><td>57215065166</td><td>2020</td><td>2023</td><td>4</td></tr></tbody></table></div>"
      ]
     },
     "metadata": {
      "application/vnd.databricks.v1+output": {
       "addedWidgets": {},
       "aggData": [],
       "aggError": "",
       "aggOverflow": false,
       "aggSchema": [],
       "aggSeriesLimitReached": false,
       "aggType": "",
       "arguments": {},
       "columnCustomDisplayInfos": {},
       "data": [
        [
         7005354483,
         1975,
         2023,
         49
        ],
        [
         7402766231,
         1993,
         2023,
         31
        ],
        [
         7404989623,
         1989,
         2023,
         35
        ],
        [
         57201642540,
         2009,
         2023,
         15
        ],
        [
         14008155300,
         1995,
         2023,
         29
        ],
        [
         57352608200,
         2010,
         2023,
         14
        ],
        [
         16400827000,
         2007,
         2023,
         17
        ],
        [
         57198503306,
         2003,
         2022,
         20
        ],
        [
         7102896772,
         1959,
         2022,
         64
        ],
        [
         57215065166,
         2020,
         2023,
         4
        ]
       ],
       "datasetInfos": [],
       "dbfsResultPath": null,
       "isJsonSchema": true,
       "metadata": {},
       "overflow": false,
       "plotOptions": {
        "customPlotOptions": {},
        "displayType": "table",
        "pivotAggregation": null,
        "pivotColumns": null,
        "xColumns": null,
        "yColumns": null
       },
       "removedWidgets": [],
       "schema": [
        {
         "metadata": "{}",
         "name": "auid",
         "type": "\"long\""
        },
        {
         "metadata": "{}",
         "name": "min_year",
         "type": "\"integer\""
        },
        {
         "metadata": "{}",
         "name": "max_year",
         "type": "\"integer\""
        },
        {
         "metadata": "{}",
         "name": "seniority",
         "type": "\"integer\""
        }
       ],
       "type": "table"
      }
     },
     "output_type": "display_data"
    }
   ],
   "source": [
    "display(df_senior.limit(10))"
   ]
  },
  {
   "cell_type": "code",
   "execution_count": 0,
   "metadata": {
    "application/vnd.databricks.v1+cell": {
     "cellMetadata": {
      "byteLimit": 2048000,
      "rowLimit": 10000
     },
     "inputWidgets": {},
     "nuid": "17287ed7-a417-458f-85d1-cfe507e93fe3",
     "showTitle": false,
     "title": ""
    }
   },
   "outputs": [
    {
     "output_type": "stream",
     "name": "stdout",
     "output_type": "stream",
     "text": [
      "Out[20]: 387017"
     ]
    }
   ],
   "source": [
    "df_auid.select(\"auid\").distinct().count()"
   ]
  },
  {
   "cell_type": "code",
   "execution_count": 0,
   "metadata": {
    "application/vnd.databricks.v1+cell": {
     "cellMetadata": {
      "byteLimit": 2048000,
      "rowLimit": 10000
     },
     "inputWidgets": {},
     "nuid": "ed288dd9-e128-4b7a-84af-80aa7dba385c",
     "showTitle": false,
     "title": ""
    }
   },
   "outputs": [
    {
     "output_type": "stream",
     "name": "stdout",
     "output_type": "stream",
     "text": [
      "Out[21]: 387017"
     ]
    }
   ],
   "source": [
    "df_senior.select(\"auid\").distinct().count()"
   ]
  },
  {
   "cell_type": "code",
   "execution_count": 0,
   "metadata": {
    "application/vnd.databricks.v1+cell": {
     "cellMetadata": {
      "byteLimit": 2048000,
      "rowLimit": 10000
     },
     "inputWidgets": {},
     "nuid": "95949061-d322-4707-89d5-c33afb0bbdae",
     "showTitle": false,
     "title": ""
    }
   },
   "outputs": [
    {
     "output_type": "stream",
     "name": "stdout",
     "output_type": "stream",
     "text": [
      "Out[22]: 387017"
     ]
    }
   ],
   "source": [
    "total2['cor_au1'].nunique()"
   ]
  },
  {
   "cell_type": "code",
   "execution_count": 0,
   "metadata": {
    "application/vnd.databricks.v1+cell": {
     "cellMetadata": {
      "byteLimit": 2048000,
      "rowLimit": 10000
     },
     "inputWidgets": {},
     "nuid": "8533de7c-234c-4393-b97f-3c486f62347e",
     "showTitle": false,
     "title": ""
    }
   },
   "outputs": [],
   "source": [
    "df_senior = df_senior.toPandas()\n",
    "#df_senior.to_csv(\"/dbfs/FileStore/shared_uploads/arabi2@wisc.edu/seniority.csv\", index = False)"
   ]
  },
  {
   "cell_type": "code",
   "execution_count": 0,
   "metadata": {
    "application/vnd.databricks.v1+cell": {
     "cellMetadata": {
      "byteLimit": 2048000,
      "rowLimit": 10000
     },
     "inputWidgets": {},
     "nuid": "c05fd905-45e2-4ea9-a9c7-812e63e39eee",
     "showTitle": false,
     "title": ""
    }
   },
   "outputs": [],
   "source": [
    "df_senior.to_csv(\"/dbfs/FileStore/shared_uploads/arabi2@wisc.edu/seniority.csv\", index = False)"
   ]
  },
  {
   "cell_type": "code",
   "execution_count": 0,
   "metadata": {
    "application/vnd.databricks.v1+cell": {
     "cellMetadata": {
      "byteLimit": 2048000,
      "rowLimit": 10000
     },
     "inputWidgets": {},
     "nuid": "06e8b21d-3594-4088-999d-8642404ade37",
     "showTitle": false,
     "title": ""
    }
   },
   "outputs": [
    {
     "output_type": "stream",
     "name": "stdout",
     "output_type": "stream",
     "text": [
      "Out[27]: array([2023, 2022, 2021, 2024, 2019, 2018, 2020], dtype=int32)"
     ]
    }
   ],
   "source": [
    "df_senior['max_year'].unique()"
   ]
  },
  {
   "cell_type": "code",
   "execution_count": 0,
   "metadata": {
    "application/vnd.databricks.v1+cell": {
     "cellMetadata": {},
     "inputWidgets": {},
     "nuid": "1c895ed5-ecc5-4835-8cfa-289faebd1c86",
     "showTitle": false,
     "title": ""
    }
   },
   "outputs": [],
   "source": [
    "df1 = spark.read.format(\"csv\").option(\"header\", \"true\").load(\"dbfs:/FileStore/shared_uploads/arabi2@wisc.edu/full_luci_reg.csv\")\n",
    "df1 = spark.read.format(\"csv\").option(\"header\", \"true\").load(\"dbfs:/FileStore/shared_uploads/arabi2@wisc.edu/full_vader_reg.csv\")"
   ]
  },
  {
   "cell_type": "markdown",
   "metadata": {
    "application/vnd.databricks.v1+cell": {
     "cellMetadata": {},
     "inputWidgets": {},
     "nuid": "4f17307e-3f1e-4ef3-880c-cb02049393c0",
     "showTitle": false,
     "title": ""
    }
   },
   "source": [
    "#### Text analysis regression on LUCI"
   ]
  },
  {
   "cell_type": "code",
   "execution_count": 0,
   "metadata": {
    "application/vnd.databricks.v1+cell": {
     "cellMetadata": {
      "byteLimit": 2048000,
      "rowLimit": 10000
     },
     "inputWidgets": {},
     "nuid": "8cbe4f24-f1ef-47b0-890a-ea3c55728b22",
     "showTitle": false,
     "title": ""
    }
   },
   "outputs": [
    {
     "output_type": "display_data",
     "data": {
      "application/vnd.databricks.v1+bamboolib_hint": "{\"pd.DataFrames\": [], \"version\": \"0.0.1\"}",
      "text/plain": []
     },
     "metadata": {},
     "output_type": "display_data"
    },
    {
     "output_type": "stream",
     "name": "stdout",
     "output_type": "stream",
     "text": [
      "Domain_English        object\nField_English         object\nSubField_English      object\nsrcid                  int64\nopenaccess_status     object\ndoi                   object\nnews_cnt               int64\nyear                   int64\nissn                  object\nnum_au                 int64\ncor_gender            object\nTopicId                int64\nAu1_gender            object\ncountry_name          object\nSJR                  float64\nsubfield_article      object\npreferred_name        object\norg_type              object\ncor_au1                int64\ndtype: object\nlen of total  1014175\n1014077\nlen of total after dropping duplicate dois  1014077\n1014077\n1014035\n1014035\n129428\n884607\nDomain_English        object\nField_English         object\nSubField_English      object\nsrcid                  int64\nopenaccess_status     object\ndoi                   object\nnews_cnt               int64\nyear                   int64\nissn                  object\nnum_au                 int64\ncor_gender            object\nTopicId                int64\nAu1_gender            object\ncountry_name          object\nSJR                  float64\nsubfield_article      object\npreferred_name        object\norg_type              object\ncor_au1                int64\ndtype: object\n"
     ]
    }
   ],
   "source": [
    "import pandas as pd\n",
    "total = pd.read_csv(\"/dbfs/FileStore/shared_uploads/arabi2@wisc.edu/us_media_analysis.csv\")\n",
    "print(total.dtypes)\n",
    "\n",
    "print(\"len of total \", len(total))\n",
    "print(total['doi'].nunique())\n",
    "total = total.drop_duplicates(subset = ['doi'])\n",
    "\n",
    "print(\"len of total after dropping duplicate dois \", len(total))\n",
    "\n",
    "#total['cor_gender'].unique() //array(['female', 'male', 'M', 'F', 'f', 'm'], dtype=object)\n",
    "ret = spark.read.format(\"csv\").option(\"header\", \"true\").load(\"dbfs:/FileStore/shared_uploads/arabi2@wisc.edu/retrected_doi_wos.csv\")\n",
    "retracted = ret.select('doi').toPandas()\n",
    "ids_to_remove = retracted['doi']\n",
    "print(len(total))\n",
    "total2 = total[~total['doi'].isin(ids_to_remove)]\n",
    "print(len(total2))\n",
    "us = total2[total2['country_name'] == 'United States']\n",
    "print(len(us))\n",
    "print(len(us[us['news_cnt'] > 0]))\n",
    "print(len(us[us['news_cnt'] <= 0]))\n",
    "print(us.dtypes)"
   ]
  },
  {
   "cell_type": "code",
   "execution_count": 0,
   "metadata": {
    "application/vnd.databricks.v1+cell": {
     "cellMetadata": {
      "byteLimit": 2048000,
      "rowLimit": 10000
     },
     "inputWidgets": {},
     "nuid": "62b15de4-a7d3-46ed-8e8a-2f265215e3fa",
     "showTitle": false,
     "title": ""
    }
   },
   "outputs": [
    {
     "output_type": "stream",
     "name": "stdout",
     "output_type": "stream",
     "text": [
      "doi           object\nmedia         object\ntotal_cnt      int64\nuncertain      int64\nG             object\nC              int64\nU              int64\nD              int64\nE              int64\nI              int64\nN              int64\nprop         float64\ndtype: object\n4424\n4424\n                       doi      prop\n0  10.1001/jama.2018.13604  0.062500\n1   10.1001/jama.2018.9222  0.026398\n2  10.1001/jama.2019.10255  0.116791\n3  10.1001/jama.2019.19648  0.178832\n4   10.1001/jama.2019.9021  0.128765\n"
     ]
    }
   ],
   "source": [
    "df1 = pd.read_csv(\"/dbfs/FileStore/shared_uploads/arabi2@wisc.edu/full_luci_reg-1.csv\")\n",
    "df1 = df1.sort_values(by = ['doi'])\n",
    "cnt = df1.groupby('doi')['prop'].mean().reset_index()\n",
    "print(df1.dtypes)\n",
    "print(df1['doi'].nunique())\n",
    "print(len(cnt))\n",
    "print(cnt.head(5))"
   ]
  },
  {
   "cell_type": "code",
   "execution_count": 0,
   "metadata": {
    "application/vnd.databricks.v1+cell": {
     "cellMetadata": {
      "byteLimit": 2048000,
      "rowLimit": 10000
     },
     "inputWidgets": {},
     "nuid": "f3a99baf-0bae-4929-8e95-1b03d90f4f3b",
     "showTitle": false,
     "title": ""
    }
   },
   "outputs": [],
   "source": [
    "merged = cnt.merge(us, on = 'doi', how = 'inner')"
   ]
  },
  {
   "cell_type": "code",
   "execution_count": 0,
   "metadata": {
    "application/vnd.databricks.v1+cell": {
     "cellMetadata": {
      "byteLimit": 2048000,
      "rowLimit": 10000
     },
     "inputWidgets": {},
     "nuid": "82394abb-7b9b-4dc1-be62-3d1c2f7f40c4",
     "showTitle": false,
     "title": ""
    }
   },
   "outputs": [
    {
     "output_type": "stream",
     "name": "stdout",
     "output_type": "stream",
     "text": [
      "4422\n['male' 'female' 'M' 'F' 'm']\n"
     ]
    }
   ],
   "source": [
    "print(len(merged))\n",
    "print(merged['cor_gender'].unique())"
   ]
  },
  {
   "cell_type": "code",
   "execution_count": 0,
   "metadata": {
    "application/vnd.databricks.v1+cell": {
     "cellMetadata": {
      "byteLimit": 2048000,
      "rowLimit": 10000
     },
     "inputWidgets": {},
     "nuid": "e543e06f-7790-41ac-8099-4b9364e61bef",
     "showTitle": false,
     "title": ""
    }
   },
   "outputs": [
    {
     "output_type": "stream",
     "name": "stdout",
     "output_type": "stream",
     "text": [
      "4422\n"
     ]
    }
   ],
   "source": [
    "from scipy.stats import percentileofscore\n",
    "dummy = merged.copy()\n",
    "dummy = dummy.dropna(subset = ['cor_gender'])\n",
    "print(len(dummy))\n",
    "gender = []\n",
    "for ind in dummy.index:\n",
    "    if dummy['cor_gender'][ind] == \"female\" or dummy['cor_gender'][ind] == \"f\" or dummy['cor_gender'][ind] == \"F\":\n",
    "        gender.append(\"female\") #\n",
    "    else: ##there is no null value in gender, so it is safe to say that if someone is not female, he must be male\n",
    "        gender.append(\"male\") #\n",
    "dummy['gender'] = gender\n",
    "dummy['rank'] = dummy['prop'].apply(lambda x: percentileofscore(dummy['prop'], x, kind='rank'))\n",
    "dummy['rank'] = dummy['rank']/100"
   ]
  },
  {
   "cell_type": "code",
   "execution_count": 0,
   "metadata": {
    "application/vnd.databricks.v1+cell": {
     "cellMetadata": {
      "byteLimit": 2048000,
      "rowLimit": 10000
     },
     "inputWidgets": {},
     "nuid": "0cb740fd-5bb1-466a-a133-7098b240d3e2",
     "showTitle": false,
     "title": ""
    }
   },
   "outputs": [],
   "source": [
    "q = []\n",
    "q1,q2,q3 = 0.123,0.25,0.593\n",
    "for ind in dummy.index:\n",
    "  if dummy['SJR'][ind] <= q1:\n",
    "    q.append(0)\n",
    "  elif dummy['SJR'][ind] > q1 and dummy['SJR'][ind] <= q2:\n",
    "    q.append(1)\n",
    "  elif dummy['SJR'][ind] > q2 and dummy['SJR'][ind] <= q3:\n",
    "    q.append(2)\n",
    "  else:\n",
    "    q.append(3)\n",
    "dummy['q'] = q"
   ]
  },
  {
   "cell_type": "code",
   "execution_count": 0,
   "metadata": {
    "application/vnd.databricks.v1+cell": {
     "cellMetadata": {
      "byteLimit": 2048000,
      "rowLimit": 10000
     },
     "inputWidgets": {},
     "nuid": "e9ceb710-f2c7-4950-acc2-5a0b2b116a61",
     "showTitle": false,
     "title": ""
    }
   },
   "outputs": [
    {
     "output_type": "stream",
     "name": "stdout",
     "output_type": "stream",
     "text": [
      "Out[18]: <AxesSubplot:>"
     ]
    },
    {
     "output_type": "display_data",
     "data": {
      "image/png": "[encoded data removed]"
     },
     "metadata": {
      "application/vnd.databricks.v1+output": {
       "addedWidgets": {},
       "arguments": {},
       "data": "data:image/png;base64,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\n",
       "datasetInfos": [],
       "metadata": {},
       "removedWidgets": [],
       "type": "image"
      }
     },
     "output_type": "display_data"
    }
   ],
   "source": [
    "dummy['rank'].hist()"
   ]
  },
  {
   "cell_type": "code",
   "execution_count": 0,
   "metadata": {
    "application/vnd.databricks.v1+cell": {
     "cellMetadata": {
      "byteLimit": 2048000,
      "rowLimit": 10000
     },
     "inputWidgets": {},
     "nuid": "4af041ae-4669-4626-b129-5adf6c8f320e",
     "showTitle": false,
     "title": ""
    }
   },
   "outputs": [],
   "source": [
    "dummy['prop'] = dummy['prop'].astype(float)\n",
    "dummy = dummy.dropna(subset = ['prop'])"
   ]
  },
  {
   "cell_type": "code",
   "execution_count": 0,
   "metadata": {
    "application/vnd.databricks.v1+cell": {
     "cellMetadata": {
      "byteLimit": 2048000,
      "rowLimit": 10000
     },
     "inputWidgets": {},
     "nuid": "f915984c-fbd6-4149-a952-288eca6ecb4f",
     "showTitle": false,
     "title": ""
    }
   },
   "outputs": [
    {
     "output_type": "stream",
     "name": "stdout",
     "output_type": "stream",
     "text": [
      "0.08344640434192672\n"
     ]
    }
   ],
   "source": [
    "a = dummy[dummy['prop'] < 0.00001]\n",
    "print(len(a)/len(dummy))"
   ]
  },
  {
   "cell_type": "code",
   "execution_count": 0,
   "metadata": {
    "application/vnd.databricks.v1+cell": {
     "cellMetadata": {
      "byteLimit": 2048000,
      "rowLimit": 10000
     },
     "inputWidgets": {},
     "nuid": "e0aa7ee1-8b19-4d28-b104-41cbffa07d66",
     "showTitle": false,
     "title": ""
    }
   },
   "outputs": [
    {
     "output_type": "stream",
     "name": "stdout",
     "output_type": "stream",
     "text": [
      "\nCall: (function (formula, tau = 0.5, data, subset, weights, na.action, \n    method = \"br\", model = TRUE, contrasts = NULL, ...) \n{\n    call <- match.call()\n    mf <- match.call(expand.dots = FALSE)\n    m <- match(c(\"formula\", \"data\", \"subset\", \"weights\", \"na.action\"), \n        names(mf), 0)\n    mf <- mf[c(1, m)]\n    mf$drop.unused.levels <- TRUE\n    mf[[1]] <- as.name(\"model.frame\")\n    mf <- eval.parent(mf)\n    if (method == \"model.frame\") \n        return(mf)\n    mt <- attr(mf, \"terms\")\n    weights <- as.vector(model.weights(mf))\n    tau <- sort(unique(tau))\n    eps <- .Machine$double.eps^(2/3)\n    if (any(tau == 0)) \n        tau[tau == 0] <- eps\n    if (any(tau == 1)) \n        tau[tau == 1] <- 1 - eps\n    Y <- model.response(mf)\n    if (method == \"sfn\") {\n        if (requireNamespace(\"MatrixModels\", quietly = TRUE) && \n            requireNamespace(\"Matrix\", quietly = TRUE)) {\n            X <- MatrixModels::model.Matrix(mt, data, sparse = TRUE)\n            vnames <- dimnames(X)[[2]]\n            X <- as(X, \"matrix.csr\")\n            mf$x <- X\n        }\n    }\n    else {\n        X <- model.matrix(mt, mf, contrasts)\n        vnames <- dimnames(X)[[2]]\n    }\n    Rho <- function(u, tau) u * (tau - (u < 0))\n    if (length(tau) > 1) {\n        if (any(tau < 0) || any(tau > 1)) \n            stop(\"invalid tau:  taus should be >= 0 and <= 1\")\n        coef <- matrix(0, ncol(X), length(tau))\n        rho <- rep(0, length(tau))\n        if (!(method %in% c(\"ppro\", \"qfnb\", \"pfnb\"))) {\n            fitted <- resid <- matrix(0, nrow(X), length(tau))\n            for (i in 1:length(tau)) {\n                z <- {\n                  if (length(weights)) \n                    rq.wfit(X, Y, tau = tau[i], weights, method, \n                      ...)\n                  else rq.fit(X, Y, tau = tau[i], method, ...)\n                }\n                coef[, i] <- z$coefficients\n                resid[, i] <- z$residuals\n                rho[i] <- sum(Rho(z$residuals, tau[i]))\n                fitted[, i] <- Y - z$residuals\n            }\n            taulabs <- paste(\"tau=\", format(round(tau, 3)))\n            dimnames(coef) <- list(vnames, taulabs)\n            dimnames(resid)[[2]] <- taulabs\n            fit <- z\n            fit$coefficients <- coef\n            fit$residuals <- resid\n            fit$fitted.values <- fitted\n            if (method == \"lasso\") \n                class(fit) <- c(\"lassorqs\", \"rqs\")\n            else if (method == \"scad\") \n                class(fit) <- c(\"scadrqs\", \"rqs\")\n            else class(fit) <- \"rqs\"\n        }\n        else if (method == \"pfnb\") {\n            fit <- rq.fit.pfnb(X, Y, tau)\n            class(fit) = \"rqs\"\n        }\n        else if (method == \"qfnb\") {\n            fit <- rq.fit.qfnb(X, Y, tau)\n            class(fit) = ifelse(length(tau) == 1, \"rq\", \"rqs\")\n        }\n        else if (method == \"ppro\") {\n            fit <- rq.fit.ppro(X, Y, tau, ...)\n            class(fit) = ifelse(length(tau) == 1, \"rq\", \"rqs\")\n        }\n    }\n    else {\n        process <- (tau < 0 || tau > 1)\n        if (process && method != \"br\") \n            stop(\"when tau not in [0,1] method br must be used\")\n        fit <- {\n            if (length(weights)) \n                rq.wfit(X, Y, tau = tau, weights, method, ...)\n            else rq.fit(X, Y, tau = tau, method, ...)\n        }\n        if (process) \n            rho <- list(tau = fit$sol[1, ], rho = fit$sol[3, \n                ])\n        else {\n            if (length(dim(fit$residuals))) \n                dimnames(fit$residuals) <- list(dimnames(X)[[1]], \n                  NULL)\n            rho <- sum(Rho(fit$residuals, tau))\n        }\n        if (method == \"lasso\") \n            class(fit) <- c(\"lassorq\", \"rq\")\n        else if (method == \"scad\") \n            class(fit) <- c(\"scadrq\", \"rq\")\n        else class(fit) <- ifelse(process, \"rq.process\", \"rq\")\n    }\n    fit$na.action <- attr(mf, \"na.action\")\n    fit$formula <- formula\n    fit$terms <- mt\n    fit$xlevels <- .getXlevels(mt, mf)\n    fit$call <- call\n    fit$tau <- tau\n    fit$weights <- weights\n    fit$residuals <- drop(fit$residuals)\n    fit$rho <- rho\n    fit$method <- method\n    fit$fitted.values <- drop(fit$fitted.values)\n    attr(fit, \"na.message\") <- attr(m, \"na.message\")\n    if (model) \n        fit$model <- mf\n    fit\n})(formula = \"prop ~ gender+year+Field_English+q\", tau = 0.5, \n    data = structure(list(prop = c(0.284346011131725, 0.0769230769230769, \n    0.0625, 0.217216117216117, 0.226190476190476, 0.13962962962963, \n    0.426373626373626, 0.191687643854826, 0.272727272727273, \n    0.0588235294117647, 0.209615384615385, 0.117647058823529, \n    0.0378787878787879, 0.16, 0.136363636363636, 0.444444444444444, \n    0.176470588235294, 0.233333333333333, 0.204195804195804, \n    0.225, 0.167540289128217, 0.152991452991453, 0.173913043478261, \n    0.375, 0.24902302634983, 0.142857142857143, 0.25, 0.27807486631016, \n    0.355600649350649, 0.16351323890664, 0.217342739564962, 0.315789473684211, \n    0.34375, 0.146481588586852, 0.523809523809524, 0.157894736842105, \n    0.126724137931034, 0.109523809523809, 0.0526315789473684, \n    0.0660225442834138, 0.285714285714286, 0.276923076923077, \n    0.198863636363636, 0.111111111111111, 0, 0.155555555555556, \n    0.0909090909090909, 0.110847701149425, 0.386363636363636, \n    0.131578947368421, 0.315789473684211, 0.25, 0.151282051282051, \n    0.323900772430184, 0.387301587301587, 0.210591133004926, \n    0.0909090909090909, 0.444444444444444, 0.25, 0.1, 0.125, \n    0.2, 0.24, 0.0526315789473684, 0.172413793103448), gender = c(\"male\", \n    \"female\", \"male\", \"female\", \"male\", \"female\", \"male\", \"female\", \n    \"female\", \"male\", \"male\", \"female\", \"male\", \"male\", \"male\", \n    \"male\", \"female\", \"female\", \"male\", \"male\", \"male\", \"male\", \n    \"female\", \"male\", \"male\", \"male\", \"female\", \"male\", \"male\", \n    \"male\", \"male\", \"male\", \"male\", \"male\", \"male\", \"female\", \n    \"male\", \"female\", \"male\", \"male\", \"male\", \"male\", \"male\", \n    \"female\", \"female\", \"male\", \"female\", \"female\", \"female\", \n    \"female\", \"male\", \"male\", \"male\", \"male\", \"male\", \"male\", \n    \"female\", \"male\", \"male\", \"male\", \"male\", \"male\", \"male\", \n    \"male\", \"male\"), year = structure(c(2L, 5L, 5L, 3L, 2L, 5L, \n    5L, 2L, 3L, 2L, 5L, 3L, 1L, 4L, 2L, 3L, 3L, 4L, 3L, 2L, 2L, \n    3L, 1L, 4L, 1L, 1L, 4L, 3L, 5L, 2L, 2L, 2L, 5L, 5L, 2L, 2L, \n    5L, 4L, 3L, 5L, 3L, 5L, 3L, 1L, 2L, 2L, 3L, 2L, 1L, 5L, 1L, \n    2L, 3L, 3L, 3L, 3L, 5L, 2L, 4L, 3L, 3L, 2L, 4L, 2L, 2L), .Label = c(\"2018\", \n    \"2019\", \"2020\", \"2021\", \"2022\"), class = \"factor\"), Domain_English = c(\"Economic & Social Sciences\", \n    \"Economic & Social Sciences\", \"Economic & Social Sciences\", \n    \"Economic & Social Sciences\", \"Economic & Social Sciences\", \n    \"Economic & Social Sciences\", \"Economic & Social Sciences\", \n    \"Economic & Social Sciences\", \"Economic & Social Sciences\", \n    \"Economic & Social Sciences\", \"Economic & Social Sciences\", \n    \"Economic & Social Sciences\", \"Economic & Social Sciences\", \n    \"Economic & Social Sciences\", \"Economic & Social Sciences\", \n    \"Economic & Social Sciences\", \"Economic & Social Sciences\", \n    \"Economic & Social Sciences\", \"Economic & Social Sciences\", \n    \"Economic & Social Sciences\", \"Economic & Social Sciences\", \n    \"Economic & Social Sciences\", \"Economic & Social Sciences\", \n    \"Economic & Social Sciences\", \"Economic & Social Sciences\", \n    \"Economic & Social Sciences\", \"Economic & Social Sciences\", \n    \"Economic & Social Sciences\", \"Economic & Social Sciences\", \n    \"Economic & Social Sciences\", \"Economic & Social Sciences\", \n    \"Economic & Social Sciences\", \"Economic & Social Sciences\", \n    \"Economic & Social Sciences\", \"Economic & Social Sciences\", \n    \"Economic & Social Sciences\", \"Economic & Social Sciences\", \n    \"Economic & Social Sciences\", \"Economic & Social Sciences\", \n    \"Economic & Social Sciences\", \"Economic & Social Sciences\", \n    \"Economic & Social Sciences\", \"Economic & Social Sciences\", \n    \"Economic & Social Sciences\", \"Economic & Social Sciences\", \n    \"Economic & Social Sciences\", \"Economic & Social Sciences\", \n    \"Economic & Social Sciences\", \"Economic & Social Sciences\", \n    \"Economic & Social Sciences\", \"Economic & Social Sciences\", \n    \"Economic & Social Sciences\", \"Economic & Social Sciences\", \n    \"Economic & Social Sciences\", \"Economic & Social Sciences\", \n    \"Economic & Social Sciences\", \"Economic & Social Sciences\", \n    \"Economic & Social Sciences\", \"Economic & Social Sciences\", \n    \"Economic & Social Sciences\", \"Economic & Social Sciences\", \n    \"Economic & Social Sciences\", \"Economic & Social Sciences\", \n    \"Economic & Social Sciences\", \"Economic & Social Sciences\"\n    ), Field_English = structure(c(1L, 1L, 1L, 2L, 1L, 2L, 2L, \n    2L, 1L, 2L, 1L, 1L, 1L, 1L, 1L, 2L, 1L, 1L, 1L, 1L, 1L, 1L, \n    2L, 1L, 1L, 1L, 1L, 1L, 1L, 1L, 1L, 1L, 1L, 2L, 2L, 2L, 2L, \n    2L, 1L, 2L, 1L, 2L, 2L, 1L, 1L, 1L, 1L, 2L, 2L, 1L, 2L, 2L, \n    1L, 2L, 2L, 1L, 2L, 1L, 1L, 2L, 2L, 2L, 1L, 2L, 2L), .Label = c(\"Economics & Business \", \n    \"Social Sciences\"), class = \"factor\"), SubField_English = structure(c(11L, \n    4L, 1L, 5L, 2L, 8L, 6L, 12L, 10L, 9L, 2L, 11L, 2L, 10L, 4L, \n    5L, 10L, 10L, 10L, 11L, 10L, 10L, 3L, 4L, 4L, 2L, 10L, 10L, \n    4L, 4L, 4L, 4L, 2L, 3L, 13L, 3L, 12L, 5L, 10L, 7L, 4L, 12L, \n    3L, 1L, 1L, 4L, 11L, 13L, 3L, 2L, 12L, 7L, 4L, 3L, 3L, 10L, \n    3L, 2L, 2L, 5L, 6L, 3L, 4L, 7L, 8L), .Label = c(\"agricultural economics & policy\", \n    \"business & management\", \"criminology\", \"economics\", \"education\", \n    \"family studies\", \"geography\", \"information & library sciences\", \n    \"international relations\", \"logistics & transportation\", \n    \"marketing\", \"political science & public administration\", \n    \"sociology\"), class = \"factor\"), q = structure(c(2L, 2L, \n    2L, 2L, 2L, 2L, 2L, 2L, 2L, 2L, 2L, 2L, 2L, 2L, 2L, 2L, 2L, \n    2L, 2L, 2L, 2L, 2L, 2L, 2L, 2L, 2L, 2L, 2L, 2L, 2L, 2L, 2L, \n    2L, 2L, 2L, 1L, 2L, 1L, 2L, 2L, 2L, 2L, 2L, 2L, 2L, 2L, 2L, \n    2L, 2L, 2L, 2L, 2L, 2L, 2L, 2L, 2L, 2L, 2L, 2L, 2L, 2L, 2L, \n    2L, 1L, 2L), .Label = c(\"2\", \"3\"), class = \"factor\")), class = \"data.frame\", row.names = c(\"20\", \n    \"238\", \"239\", \"374\", \"385\", \"446\", \"447\", \"467\", \"800\", \"805\", \n    \"831\", \"905\", \"1133\", \"1146\", \"1202\", \"1211\", \"1219\", \"1220\", \n    \"1221\", \"1652\", \"1801\", \"2140\", \"2185\", \"2189\", \"2324\", \"2644\", \n    \"2670\", \"2674\", \"2819\", \"2924\", \"2927\", \"2944\", \"3099\", \"3100\", \n    \"3135\", \"3146\", \"3151\", \"3152\", \"3166\", \"3172\", \"3178\", \"3181\", \n    \"3210\", \"3264\", \"3268\", \"3269\", \"3322\", \"3348\", \"3411\", \"3499\", \n    \"3520\", \"3525\", \"3833\", \"3967\", \"3972\", \"3975\", \"3977\", \"3987\", \n    \"3988\", \"3991\", \"3996\", \"4083\", \"4102\", \"4380\", \"4397\")))\n\ntau: [1] 0.5\n\nCoefficients:\n                             Value    Std. Error t value  Pr(>|t|)\n(Intercept)                   0.04506  0.11222    0.40154  0.68952\ngendermale                    0.02773  0.01877    1.47725  0.14511\nyear2019                      0.01777  0.03387    0.52483  0.60174\nyear2020                      0.01061  0.04209    0.25205  0.80191\nyear2021                      0.05641  0.04554    1.23873  0.22052\nyear2022                     -0.03428  0.04549   -0.75371  0.45412\nField_EnglishSocial Sciences  0.00805  0.02737    0.29418  0.76969\nq3                            0.12080  0.10528    1.14743  0.25600\n\n"
     ]
    }
   ],
   "source": [
    "#utils = rpackages.importr('utils')\n",
    "#utils.chooseCRANmirror(ind=1)\n",
    "#utils.install_packages(\"quantreg\")\n",
    "qtreg = rpackages.importr(\"quantreg\")\n",
    "\n",
    "tmp = pd.DataFrame()\n",
    "tmp['prop'] = dummy['prop']\n",
    "tmp['gender'] = dummy['gender']\n",
    "tmp['year'] = dummy['year']\n",
    "tmp['Domain_English'] = dummy['Domain_English']\n",
    "tmp['Field_English'] = dummy['Field_English']\n",
    "tmp['SubField_English'] = dummy['SubField_English']\n",
    "tmp['q'] = dummy['q']\n",
    "\n",
    "tmp = tmp.dropna(subset = ['prop'])\n",
    "\n",
    "'''for ind in tmp.index:\n",
    "  if tmp['prop'][ind] == 0.0:\n",
    "    tmp['prop'][ind] = 0.00001'''\n",
    "\n",
    "#tmp = tmp[tmp['Domain_English'] == 'Applied Sciences'] #gmale = -0.05918, p -> 0.0454 *\n",
    "#tmp = tmp[tmp['Domain_English'] == 'Arts & Humanities'] #insig\n",
    "tmp = tmp[tmp['Domain_English'] == 'Economic & Social Sciences'] #est Gmale = 0.332419, p val = 0.0312 *\n",
    "#tmp = tmp[tmp['Domain_English'] == 'Health Sciences'] #insig\n",
    "#tmp = tmp[tmp['Domain_English'] == 'Natural Sciences'] #insig\n",
    "\n",
    "\n",
    "\n",
    "\n",
    "with localconverter(ro.default_converter + pandas2ri.converter):\n",
    "  tst_df = ro.conversion.py2rpy(tmp)\n",
    "\n",
    "col_2_index = list(tst_df.colnames).index('year')\n",
    "col_2 = ro.vectors.FactorVector(tst_df.rx2('year'))\n",
    "tst_df[col_2_index] = col_2\n",
    "\n",
    "col_2_index = list(tst_df.colnames).index('q')\n",
    "col_2 = ro.vectors.FactorVector(tst_df.rx2('q'))\n",
    "tst_df[col_2_index] = col_2\n",
    "\n",
    "\n",
    "'''col_2_index = list(tst_df.colnames).index('Domain_English')\n",
    "col_2 = ro.vectors.FactorVector(tst_df.rx2('Domain_English'))\n",
    "tst_df[col_2_index] = col_2'''\n",
    "\n",
    "col_2_index = list(tst_df.colnames).index('Field_English')\n",
    "col_2 = ro.vectors.FactorVector(tst_df.rx2('Field_English'))\n",
    "tst_df[col_2_index] = col_2\n",
    "\n",
    "col_2_index = list(tst_df.colnames).index('SubField_English')\n",
    "col_2 = ro.vectors.FactorVector(tst_df.rx2('SubField_English'))\n",
    "tst_df[col_2_index] = col_2\n",
    "\n",
    "\n",
    "\n",
    "#print(tst_df)\n",
    "#pandas2ri.activate()\n",
    "model = qtreg.rq(\"prop ~ gender+year+Field_English+q\",\n",
    "                  data=tst_df, tau = 0.50) #family=ro.r('gaussian(link=\"identity\")') #family=ro.r('poisson(link=\"log\")')\n",
    "#print(base.summary(model))\n",
    "print(base.summary(model,se = \"nid\"))"
   ]
  },
  {
   "cell_type": "code",
   "execution_count": 0,
   "metadata": {
    "application/vnd.databricks.v1+cell": {
     "cellMetadata": {
      "byteLimit": 2048000,
      "rowLimit": 10000
     },
     "inputWidgets": {},
     "nuid": "8d84b249-655b-408f-a758-8c94ef9266cb",
     "showTitle": false,
     "title": ""
    }
   },
   "outputs": [],
   "source": [
    "import numpy as np\n",
    "import rpy2.robjects.packages as rpackages\n",
    "import rpy2.robjects.vectors as robjects_vectors\n",
    "\n",
    "\n",
    "from rpy2.robjects import r, pandas2ri\n",
    "import rpy2.robjects as ro\n",
    "from rpy2.robjects.packages import importr\n",
    "\n",
    "# import R's utility package\n",
    "#utils = rpackages.importr('utils')\n",
    "#utils.chooseCRANmirror(ind=1)\n",
    "from rpy2.robjects.conversion import localconverter\n",
    "base = importr('base')\n",
    "from rpy2.robjects import Formula\n",
    "stats = importr('stats')\n",
    "nnet = importr('nnet')"
   ]
  },
  {
   "cell_type": "code",
   "execution_count": 0,
   "metadata": {
    "application/vnd.databricks.v1+cell": {
     "cellMetadata": {
      "byteLimit": 2048000,
      "rowLimit": 10000
     },
     "inputWidgets": {},
     "nuid": "a09f24f0-a0f3-453e-9496-71fba5140576",
     "showTitle": false,
     "title": ""
    }
   },
   "outputs": [
    {
     "output_type": "stream",
     "name": "stdout",
     "output_type": "stream",
     "text": [
      "\nCall:\n(function (formula, family = gaussian, data, weights, subset, \n    na.action, start = NULL, etastart, mustart, offset, control = list(...), \n    model = TRUE, method = \"glm.fit\", x = FALSE, y = TRUE, singular.ok = TRUE, \n    contrasts = NULL, ...) \n{\n    cal <- match.call()\n    if (is.character(family)) \n        family <- get(family, mode = \"function\", envir = parent.frame())\n    if (is.function(family)) \n        family <- family()\n    if (is.null(family$family)) {\n        print(family)\n        stop(\"'family' not recognized\")\n    }\n    if (missing(data)) \n        data <- environment(formula)\n    mf <- match.call(expand.dots = FALSE)\n    m <- match(c(\"formula\", \"data\", \"subset\", \"weights\", \"na.action\", \n        \"etastart\", \"mustart\", \"offset\"), names(mf), 0L)\n    mf <- mf[c(1L, m)]\n    mf$drop.unused.levels <- TRUE\n    mf[[1L]] <- quote(stats::model.frame)\n    mf <- eval(mf, parent.frame())\n    if (identical(method, \"model.frame\")) \n        return(mf)\n    if (!is.character(method) && !is.function(method)) \n        stop(\"invalid 'method' argument\")\n    if (identical(method, \"glm.fit\")) \n        control <- do.call(\"glm.control\", control)\n    mt <- attr(mf, \"terms\")\n    Y <- model.response(mf, \"any\")\n    if (length(dim(Y)) == 1L) {\n        nm <- rownames(Y)\n        dim(Y) <- NULL\n        if (!is.null(nm)) \n            names(Y) <- nm\n    }\n    X <- if (!is.empty.model(mt)) \n        model.matrix(mt, mf, contrasts)\n    else matrix(, NROW(Y), 0L)\n    weights <- as.vector(model.weights(mf))\n    if (!is.null(weights) && !is.numeric(weights)) \n        stop(\"'weights' must be a numeric vector\")\n    if (!is.null(weights) && any(weights < 0)) \n        stop(\"negative weights not allowed\")\n    offset <- as.vector(model.offset(mf))\n    if (!is.null(offset)) {\n        if (length(offset) != NROW(Y)) \n            stop(gettextf(\"number of offsets is %d should equal %d (number of observations)\", \n                length(offset), NROW(Y)), domain = NA)\n    }\n    mustart <- model.extract(mf, \"mustart\")\n    etastart <- model.extract(mf, \"etastart\")\n    fit <- eval(call(if (is.function(method)) \"method\" else method, \n        x = X, y = Y, weights = weights, start = start, etastart = etastart, \n        mustart = mustart, offset = offset, family = family, \n        control = control, intercept = attr(mt, \"intercept\") > \n            0L, singular.ok = singular.ok))\n    if (length(offset) && attr(mt, \"intercept\") > 0L) {\n        fit2 <- eval(call(if (is.function(method)) \"method\" else method, \n            x = X[, \"(Intercept)\", drop = FALSE], y = Y, mustart = fit$fitted.values, \n            weights = weights, offset = offset, family = family, \n            control = control, intercept = TRUE))\n        if (!fit2$converged) \n            warning(\"fitting to calculate the null deviance did not converge -- increase 'maxit'?\")\n        fit$null.deviance <- fit2$deviance\n    }\n    if (model) \n        fit$model <- mf\n    fit$na.action <- attr(mf, \"na.action\")\n    if (x) \n        fit$x <- X\n    if (!y) \n        fit$y <- NULL\n    structure(c(fit, list(call = cal, formula = formula, terms = mt, \n        data = data, offset = offset, control = control, method = method, \n        contrasts = attr(X, \"contrasts\"), xlevels = .getXlevels(mt, \n            mf))), class = c(fit$class, c(\"glm\", \"lm\")))\n})(formula = \"prop ~ gender+year+Field_English+q\", family = structure(list(\n    family = \"Gamma\", link = \"log\", linkfun = function (mu) \n    log(mu), linkinv = function (eta) \n    pmax(exp(eta), .Machine$double.eps), variance = function (mu) \n    mu^2, dev.resids = function (y, mu, wt) \n    -2 * wt * (log(ifelse(y == 0, 1, y/mu)) - (y - mu)/mu), aic = function (y, \n        n, mu, wt, dev) \n    {\n        n <- sum(wt)\n        disp <- dev/n\n        -2 * sum(dgamma(y, 1/disp, scale = mu * disp, log = TRUE) * \n            wt) + 2\n    }, mu.eta = function (eta) \n    pmax(exp(eta), .Machine$double.eps), initialize = expression(\n        {\n            if (any(y <= 0)) \n                stop(\"non-positive values not allowed for the 'Gamma' family\")\n            n <- rep.int(1, nobs)\n            mustart <- y\n        }), validmu = function (mu) \n    all(is.finite(mu)) && all(mu > 0), valideta = function (eta) \n    TRUE, simulate = function (object, nsim) \n    {\n        wts <- object$prior.weights\n        if (any(wts != 1)) \n            message(\"using weights as shape parameters\")\n        ftd <- fitted(object)\n        shape <- MASS::gamma.shape(object)$alpha * wts\n        rgamma(nsim * length(ftd), shape = shape, rate = shape/ftd)\n    }), class = \"family\"), data = structure(list(prop = c(0.0583333333333333, \n0.134011096116359, 0.0714285714285714, 0.124731525784157, 0.0784548269068393, \n0.164368904752536, 0.121184371184371, 0.142857142857143, 0.03125, \n1e-05, 0.133928571428571, 0.0333333333333333, 0.0495430495430495, \n0.227083333333333, 0.203342953342953, 0.125, 0.0317460317460317, \n0.208062770562771, 1e-05, 1e-05, 0.25, 0.181818181818182, 0.153846153846154, \n0.185185185185185, 0.208333333333333, 0.081081081081081, 1e-05, \n0.0755555555555556, 1e-05, 0.142857142857143, 0.0769230769230769, \n0.24703557312253, 0.0716727716727716, 0.135823228495642, 0.0883256528417818, \n0.113828662083554, 0.12, 0.0967741935483871, 0.20093201754386, \n0.19047619047619, 0.170833333333333, 0.421052631578947, 0.175384615384615, \n0.0909090909090909, 0.169164995998473, 0.0833333333333333, 0.0294117647058823, \n0.125, 0.0277777777777777, 0.111111111111111, 0.158981115502855, \n0.151147887365735, 1e-05, 0.111111111111111, 0.167576384967689, \n0.230769230769231, 0.196078431372549, 0.0712134372979961, 0.469327731092437, \n1e-05, 0.0635625563519795, 0.129032258064516, 0.136363636363636, \n0.157894736842105, 0.0928091397849462, 0.0714285714285714, 0.333333333333333, \n0.0826330532212885, 0.0735986307231493, 0.191564709658538, 0.272727272727273, \n0.172814997793989, 0.050125313283208, 0.173913043478261, 0.171460892049127, \n0.093073593073593, 0.0783562200350359, 0.225, 1e-05, 0.0910973084886128, \n0.111111111111111, 0.0769230769230769, 0.0416666666666667, 0.333333333333333, \n0.175808271266346, 0.0526315789473684, 0.16726403823178, 0.0952380952380952, \n0.166666666666667, 0.153846153846154, 0.166666666666667, 0.12, \n0.551388888888889, 0.0963657876943881, 0.0714285714285714, 0.187042842215256, \n0.332829206951598, 0.0965700965700965, 0.37856829161177, 0.232683982683983, \n0.104482323232323, 0.0863196594427244, 0.13030303030303, 0.243589743589744, \n1e-05, 0.170731707317073, 0.266582583388501, 0.194711538461538, \n0.2, 0.133333333333333, 0.1125, 0.166666666666667, 0.033047735618115, \n0.094240193127846, 0.142857142857143, 0.0411111111111111, 0.146341463414634, \n0.199248120300752, 0.142917361001162, 0.0582972582972583, 0.105263157894737, \n0.037037037037037, 0.0526315789473684, 0.130712396441297, 1e-05, \n0.111111111111111, 1e-05, 0.10515873015873, 0.19047619047619, \n0.142857142857143, 1e-05, 0.0526315789473684, 0.08, 0.137155388471178, \n0.105263157894737, 1e-05, 0.220525210084034, 0.142592592592593, \n0.054054054054054, 0.032258064516129, 0.105555555555556, 0.103448275862069, \n0.0952380952380952, 0.115586007130125, 0.169540229885057, 0.344827586206897, \n0.222222222222222, 0.15625, 0.0833333333333333, 0.0869565217391304, \n0.0666666666666666, 0.2, 0.0862914395512914, 0.116964285714286, \n0.0526315789473684, 0.190899589740304, 0.125252722056565, 0.191353383458647, \n1e-05, 0.111111111111111, 0.0690762896670604, 0.392069597069597, \n0.0344827586206896, 0.28284722523853, 0.212525879917184, 0.0609375609375609, \n0.0588235294117647, 0.0416666666666666, 1e-05, 0.346256684491979, \n0.153846153846154, 1e-05, 0.236607142857143, 0.0939393939393939, \n1e-05, 0.1, 0.142857142857143, 0.0151515151515151, 0.087215174531351, \n0.0851393188854489, 0.0462962962962963, 0.0105263157894737, 1e-05, \n0.181818181818182, 1e-05, 0.0964405964405964, 0.088235294117647, \n1e-05, 0.0334821428571428, 0.117989417989418, 0.176470588235294, \n0.117919389978213, 0.166666666666667, 1e-05, 1e-05, 0.0833333333333333, \n0.176470588235294, 0.108910891089109, 1e-05, 0.0392307692307692, \n0.196774193548387, 1e-05, 0.0909090909090909, 0.105263157894737, \n0.0620300751879699, 0.155555555555556, 1e-05, 0.149382716049383, \n0.0416666666666667, 1e-05, 0.159641909814324, 0.167832167832168, \n0.3, 0.117647058823529, 0.1, 1e-05, 1e-05, 0.220371687136393, \n0.1, 0.0833333333333333, 0.243581382068224, 0.143969102792632, \n1e-05, 0.15625, 0.16, 0.210526315789474, 0.153846153846154, 1e-05, \n0.151533189033189, 1e-05, 0.0277777777777777, 0.08, 0.0684523809523809, \n0.142857142857143, 0.182194616977226, 0.193548387096774, 1e-05, \n1e-05, 0.206592360285145, 0.153846153846154, 0.110846560846561, \n0.0416666666666666, 0.0909090909090909, 0.0504761904761905, 0.0865808823529412, \n0.0294117647058823, 0.111111111111111, 0.0519568151147098, 0.101724137931034, \n0.0909090909090909, 0.125, 0.064516129032258, 0.05, 1e-05, 0.25, \n0.230769230769231, 1e-05, 0.0974978685107995, 0.149537037037037, \n0.0909090909090909, 0.064516129032258, 1e-05, 1e-05, 0.109774106002554, \n0.130434782608696, 1e-05, 0.0459864297625208, 1e-05, 0.120192307692308, \n0.175, 0.178571428571428, 0.333333333333333, 0.0416666666666666, \n0.0909090909090909, 0.0952380952380952, 0.269230769230769, 0.117419617419617, \n0.154800671116461, 0.0833333333333333, 1e-05, 0.0342391304347826, \n0.16, 0.21780303030303, 0.190238095238095, 0.442864187094956, \n1e-05, 0.09375, 0.0950500870703068, 1e-05, 0.110414762091333, \n0.0598151848151848, 0.105401844532279, 0.0588235294117647, 0.257955002513826, \n0.083176268792251, 0.143052631578947, 0.272727272727273, 0.294117647058823, \n0.25, 0.0714285714285714, 0.150479686424069, 0.147323811134072, \n0.120220604697516, 0.126204171082467, 0.1818720821662, 0.111111111111111, \n0.12734962406015, 0.105263157894737, 0.135135135135135, 0.0714285714285714, \n0.0952380952380952, 0.05, 0.14938080495356, 0.0537828947368421, \n1e-05, 0.333333333333333, 0.171288122796743, 0.287065521624345, \n0.284483785138479, 0.054054054054054, 0.195159310676552, 0.176276276276276, \n0.211111111111111, 0.45, 0.222842955053321, 0.203911228301472, \n0.21978021978022, 0.0666666666666666, 0.136363636363636, 0.101724137931034, \n0.109126984126984, 0.0461538461538461, 0.169047619047619, 0.074074074074074, \n0.121323529411765, 0.107407407407407, 0.174442190669371, 0.0714285714285714, \n0.08, 0.138528138528138, 0.222222222222222, 0.222222222222222, \n0.0625, 0.116017316017316, 0.226422764227642, 0.19047619047619, \n0.130434782608696, 0.212121212121212, 0.0606617647058823, 0.0834782608695652, \n0.278460675853443, 0.231756126530237, 0.114285714285714, 0.202205882352941, \n0.142857142857143, 0.125568054022001, 0.14754972239792, 0.256493352326686, \n0.166666666666667, 0.181528113638451, 0.195121951219512, 0.0923504273504273, \n0.115022479883512, 0.0870101986044015, 0.175626856660627, 0.185185185185185, \n0.170058717945667, 0.203296703296703, 0.234444444444444, 0.180311890838207, \n0.291666666666667, 1e-05, 0.240193629899512, 1e-05, 1e-05, 0.227743271221532, \n0.0754985754985754, 0.16, 0.09375, 0.179487179487179, 0.0833333333333333, \n0.12051282051282, 1e-05, 0.15695652173913, 0.165137614678899, \n0.128586797665745, 0.0684782608695652, 0.0655108014959735, 0.214285714285714, \n1e-05, 1e-05, 0.117681534152122, 0.0833333333333333, 0.0555555555555555, \n0.131111111111111, 0.0441595441595441, 0.12962962962963, 0.225524475524476, \n0.0416666666666666, 0.0588972431077694, 0.241379310344828, 0.0795454545454545, \n0.143709150326797, 0.0294117647058823, 0.111897800055695, 0.177865612648221, \n0.25, 0.0588235294117647, 0.168942577030812, 0.137931034482759, \n0.21421685340803, 0.125, 0.111263736263736, 0.152631578947368, \n0.111111111111111, 0.10230179028133, 0.125, 0.157894736842105, \n0.213290043290043, 0.0526315789473684, 0.103448275862069, 0.261363636363636, \n0.0384615384615384, 0.0526315789473684, 0.223193473193473, 0.0833333333333333, \n0.0971804511278195, 0.2, 0.023532668881506, 0.267534902373612, \n1e-05, 0.137931034482759, 0.0357142857142857, 0.0714285714285714, \n0.0981900452488688, 0.0588235294117647, 0.116666666666667, 0.2, \n0.125, 0.162337662337662, 0.0064102564102564, 0.305555555555556, \n1e-05, 0.1265664160401, 0.0861888111888112, 0.211111111111111, \n0.0952380952380952, 0.153641679957469, 0.117647058823529, 0.1625, \n0.09375, 0.0906432748538011, 0.25, 0.198082750582751, 0.0833333333333333, \n0.136363636363636, 0.0951597422185657, 0.129649927603892, 0.187830687830688, \n0.128947368421053, 0.103942652329749, 0.409090909090909, 0.183448275862069, \n0.161212121212121, 0.193548387096774, 0.1, 0.158333333333333, \n0.15224726254138, 0.10895589467018, 0.0573913043478261, 0.0980861244019138, \n0.205263157894737, 0.130434782608696, 0.0388888888888889, 1e-05, \n0.094298245614035, 0.142857142857143, 0.19047619047619, 1e-05, \n0.0217391304347826, 0.0416666666666667, 0.156581097351221, 0.0952380952380952, \n0.1, 1e-05, 0.113207797023147, 0.111111111111111, 0.279775372200749, \n1e-05, 0.072422087767783, 0.122488529014845, 0.170909090909091, \n1e-05, 0.208333333333333, 0.303846153846154, 0.14520161994634, \n0.129685157421289, 0.2, 1e-05, 1e-05, 0.181818181818182, 0.318840579710145, \n0.142857142857143, 0.189189189189189, 0.0833333333333333, 1e-05, \n0.348068063413332, 0.153934940657429, 0.340501792114695, 1e-05, \n0.307692307692308, 0.118809541578157, 0.116594516594517, 0.0555984555984556, \n0.0625, 0.142857142857143, 0.165295733678087, 0.207019704433497, \n0.215078630897317, 0.225, 0.163447079236553, 0.285786290322581, \n0.227695374800638, 0.384164644878931, 0.135135135135135, 0.307692307692308, \n0.411764705882353, 0.263157894736842, 0.194444444444444, 0.224223946784922, \n0.178973933838466, 0.105538847117794, 0.0848083137485311, 0.2625, \n0.285714285714286, 0.1, 0.111979044392114, 0.165454545454545, \n0.115831095117473, 0.318181818181818, 0.275, 0.106666666666667, \n0.127659574468085, 0.458333333333333, 1e-05, 0.222222222222222, \n0.0192307692307692, 0.315789473684211, 0.243589743589744, 0.0886917815371762, \n0.142857142857143, 0.25, 0.125, 1e-05, 0.222222222222222, 0.107260475249531, \n0.0952380952380952, 0.15, 0.146450934686229, 0.111111111111111, \n0.173076923076923, 0.13859649122807, 0.352941176470588, 0.0714285714285714, \n1e-05, 0.174242424242424, 0.182720493295924, 0.08, 1e-05, 0.081081081081081, \n0.103448275862069, 0.4, 0.142857142857143, 0.100446428571429, \n0.206349206349206, 0.0714285714285714, 0.2, 0.133928571428571, \n0.0701754385964912, 0.0820433436532507, 0.276388888888889, 0.135910631937696, \n0.291666666666667, 1e-05, 0.0625, 0.16663425805894, 0.25, 0.25062656641604, \n0.18452380952381, 0.111111111111111, 0.148148148148148, 0.25, \n0.35, 0.223660714285714, 0.0434782608695652, 0.209050403787246, \n0.263509570494865, 0.174962292609351, 0.0416666666666666, 0.227272727272727, \n0.281771751597311, 0.111111111111111, 0.172413793103448, 0.348484848484848, \n0.1875, 0.0952380952380952, 1e-05, 0.262891520244461, 0.262950058072009, \n1e-05, 0.411764705882353, 0.166795366795367, 0.205882352941176, \n0.138235294117647, 0.126117613060831, 0.0909090909090909, 0.2, \n0.0983870967741935, 1e-05, 0.193548387096774, 0.15, 0.103571428571429, \n0.353801169590643, 0.166666666666667, 0.302308802308802, 0.416666666666667, \n0.11984126984127, 0.102941176470588, 0.267590995342418, 0.0909090909090909, \n0.0294117647058823, 0.8, 0.246621621621622, 0.25, 0.0434782608695652, \n0.0458333333333333, 0.0294117647058823, 0.113096316425121, 0.0950116459627329, \n0.0752732257995416, 0.189597902097902, 0.157894736842105, 0.0467409606522509, \n0.15, 0.154270087178633, 0.0378571428571429, 0.151811594202898, \n0.172222222222222, 0.100432550275043, 0.0625, 0.289941902687001, \n0.161111111111111, 0.206380236305048, 0.1, 0.0846560846560846, \n0.125, 0.0972222222222222, 0.187965727226563, 0.25, 0.189127834408155, \n0.0909090909090909, 0.0902356902356902, 0.2, 0.161290322580645, \n0.114285714285714, 0.0384615384615384, 0.122909698996655, 0.0882079004214915, \n0.285714285714286, 0.115604575163399, 0.142857142857143, 0.285714285714286, \n0.111111111111111, 0.0476190476190476, 0.2, 0.203027498608164, \n0.260869565217391, 0.263219562305957, 0.0761172161172161, 0.137559486872988, \n0.454545454545454, 0.153703990901572, 0.25, 1e-05, 0.2, 0.0714285714285714, \n0.05, 0.141414141414141, 0.142857142857143, 0.17989417989418, \n0.133946608946609, 0.0444444444444444, 0.0760684576861047, 0.302360602360602, \n0.0714285714285714, 0.288461538461538, 0.111415204678363, 0.0666666666666666, \n0.146464646464646, 0.181878306878307, 0.0880288957688338, 0.212885154061625, \n0.0888888888888889, 1e-05, 0.169811320754717, 0.0952380952380952, \n0.181818181818182, 0.0509607351712615, 0.064516129032258, 1e-05, \n0.24907110262222, 0.208333333333333, 0.0769230769230769, 0.072289156626506, \n0.146428571428571, 0.187516160310278, 0.3, 0.626373626373626, \n0.0339861751152074, 0.0384615384615384, 1e-05, 0.0909090909090909, \n0.220720720720721, 0.048780487804878, 0.11766334440753, 0.117647058823529, \n0.0754716981132075, 1e-05, 0.080208151636723, 0.147129186602871, \n0.222222222222222), gender = c(\"female\", \"male\", \"male\", \"male\", \n\"male\", \"female\", \"male\", \"male\", \"male\", \"male\", \"male\", \"male\", \n\"male\", \"male\", \"male\", \"male\", \"female\", \"male\", \"male\", \"male\", \n\"female\", \"male\", \"male\", \"male\", \"male\", \"female\", \"male\", \"male\", \n\"male\", \"male\", \"male\", \"female\", \"female\", \"female\", \"male\", \n\"female\", \"female\", \"female\", \"female\", \"female\", \"female\", \"male\", \n\"male\", \"female\", \"male\", \"female\", \"female\", \"male\", \"male\", \n\"male\", \"female\", \"male\", \"male\", \"female\", \"female\", \"male\", \n\"male\", \"male\", \"male\", \"male\", \"male\", \"male\", \"male\", \"male\", \n\"male\", \"female\", \"male\", \"male\", \"male\", \"male\", \"male\", \"female\", \n\"female\", \"male\", \"male\", \"male\", \"male\", \"female\", \"female\", \n\"male\", \"female\", \"male\", \"male\", \"female\", \"male\", \"male\", \"male\", \n\"male\", \"male\", \"male\", \"female\", \"male\", \"male\", \"male\", \"female\", \n\"male\", \"male\", \"male\", \"male\", \"male\", \"male\", \"male\", \"female\", \n\"female\", \"male\", \"female\", \"male\", \"male\", \"male\", \"male\", \"male\", \n\"male\", \"male\", \"male\", \"male\", \"female\", \"male\", \"male\", \"male\", \n\"male\", \"male\", \"male\", \"male\", \"male\", \"male\", \"male\", \"male\", \n\"male\", \"male\", \"male\", \"male\", \"male\", \"male\", \"male\", \"male\", \n\"male\", \"female\", \"male\", \"male\", \"male\", \"male\", \"male\", \"male\", \n\"male\", \"male\", \"male\", \"male\", \"male\", \"female\", \"female\", \"female\", \n\"male\", \"male\", \"male\", \"male\", \"male\", \"male\", \"female\", \"male\", \n\"female\", \"male\", \"male\", \"male\", \"female\", \"male\", \"male\", \"male\", \n\"male\", \"male\", \"male\", \"male\", \"male\", \"male\", \"male\", \"male\", \n\"male\", \"female\", \"male\", \"male\", \"male\", \"male\", \"male\", \"male\", \n\"male\", \"male\", \"male\", \"male\", \"male\", \"female\", \"male\", \"male\", \n\"male\", \"male\", \"male\", \"female\", \"male\", \"male\", \"female\", \"male\", \n\"male\", \"female\", \"male\", \"male\", \"male\", \"male\", \"male\", \"male\", \n\"male\", \"male\", \"male\", \"female\", \"male\", \"male\", \"male\", \"female\", \n\"male\", \"male\", \"male\", \"male\", \"male\", \"male\", \"male\", \"female\", \n\"male\", \"male\", \"male\", \"male\", \"female\", \"female\", \"female\", \n\"female\", \"male\", \"male\", \"male\", \"male\", \"male\", \"female\", \"male\", \n\"male\", \"female\", \"male\", \"male\", \"male\", \"female\", \"male\", \"male\", \n\"male\", \"male\", \"male\", \"female\", \"male\", \"male\", \"male\", \"male\", \n\"female\", \"male\", \"female\", \"male\", \"male\", \"male\", \"male\", \"male\", \n\"male\", \"female\", \"male\", \"male\", \"male\", \"male\", \"male\", \"male\", \n\"male\", \"female\", \"male\", \"male\", \"female\", \"male\", \"male\", \"male\", \n\"female\", \"female\", \"male\", \"male\", \"female\", \"male\", \"male\", \n\"male\", \"male\", \"male\", \"male\", \"male\", \"male\", \"male\", \"female\", \n\"male\", \"male\", \"male\", \"male\", \"female\", \"male\", \"male\", \"male\", \n\"male\", \"male\", \"male\", \"female\", \"male\", \"male\", \"female\", \"male\", \n\"female\", \"male\", \"female\", \"female\", \"male\", \"male\", \"male\", \n\"male\", \"male\", \"male\", \"male\", \"male\", \"male\", \"male\", \"male\", \n\"male\", \"male\", \"male\", \"male\", \"male\", \"male\", \"male\", \"male\", \n\"male\", \"male\", \"male\", \"male\", \"female\", \"female\", \"male\", \"male\", \n\"male\", \"male\", \"male\", \"male\", \"male\", \"male\", \"male\", \"male\", \n\"male\", \"male\", \"male\", \"male\", \"male\", \"male\", \"male\", \"male\", \n\"female\", \"female\", \"male\", \"male\", \"male\", \"male\", \"male\", \"male\", \n\"male\", \"male\", \"male\", \"male\", \"female\", \"male\", \"male\", \"male\", \n\"male\", \"male\", \"female\", \"male\", \"female\", \"male\", \"male\", \"female\", \n\"male\", \"male\", \"male\", \"female\", \"male\", \"male\", \"male\", \"male\", \n\"male\", \"male\", \"male\", \"female\", \"male\", \"male\", \"female\", \"female\", \n\"male\", \"male\", \"male\", \"male\", \"male\", \"female\", \"male\", \"female\", \n\"female\", \"male\", \"male\", \"female\", \"male\", \"male\", \"male\", \"male\", \n\"female\", \"female\", \"male\", \"male\", \"male\", \"male\", \"male\", \"female\", \n\"male\", \"male\", \"female\", \"female\", \"male\", \"male\", \"male\", \"male\", \n\"male\", \"male\", \"female\", \"female\", \"female\", \"male\", \"male\", \n\"female\", \"male\", \"female\", \"male\", \"male\", \"male\", \"male\", \"male\", \n\"male\", \"male\", \"male\", \"male\", \"male\", \"male\", \"male\", \"female\", \n\"male\", \"male\", \"female\", \"male\", \"male\", \"male\", \"male\", \"male\", \n\"male\", \"male\", \"male\", \"male\", \"male\", \"female\", \"male\", \"female\", \n\"female\", \"female\", \"male\", \"female\", \"male\", \"female\", \"female\", \n\"male\", \"female\", \"male\", \"male\", \"male\", \"female\", \"female\", \n\"male\", \"male\", \"male\", \"male\", \"male\", \"male\", \"male\", \"male\", \n\"male\", \"male\", \"male\", \"male\", \"female\", \"male\", \"male\", \"male\", \n\"male\", \"female\", \"male\", \"female\", \"female\", \"female\", \"female\", \n\"female\", \"female\", \"male\", \"female\", \"female\", \"male\", \"male\", \n\"male\", \"male\", \"female\", \"female\", \"male\", \"male\", \"female\", \n\"male\", \"female\", \"female\", \"male\", \"male\", \"female\", \"male\", \n\"female\", \"male\", \"male\", \"male\", \"female\", \"male\", \"male\", \"male\", \n\"male\", \"male\", \"male\", \"male\", \"male\", \"male\", \"female\", \"male\", \n\"female\", \"male\", \"female\", \"male\", \"male\", \"male\", \"female\", \n\"female\", \"male\", \"male\", \"male\", \"male\", \"male\", \"male\", \"male\", \n\"male\", \"male\", \"male\", \"female\", \"female\", \"female\", \"male\", \n\"female\", \"male\", \"male\", \"female\", \"female\", \"male\", \"male\", \n\"male\", \"male\", \"female\", \"female\", \"male\", \"female\", \"male\", \n\"male\", \"female\", \"male\", \"female\", \"female\", \"male\", \"male\", \n\"female\", \"male\", \"female\", \"male\", \"female\", \"female\", \"male\", \n\"female\", \"male\", \"female\", \"female\", \"male\", \"male\", \"male\", \n\"male\", \"male\", \"male\", \"male\", \"male\", \"male\", \"male\", \"male\", \n\"female\", \"male\", \"female\", \"male\", \"male\", \"male\", \"male\", \"male\", \n\"female\", \"male\", \"male\", \"female\", \"male\", \"male\", \"male\", \"male\", \n\"male\", \"female\", \"male\", \"male\", \"female\", \"male\", \"male\", \"male\", \n\"male\", \"male\", \"female\", \"male\", \"male\", \"male\", \"male\", \"male\", \n\"male\", \"male\", \"male\", \"male\", \"male\", \"female\", \"male\", \"male\", \n\"male\", \"female\", \"male\", \"male\", \"male\", \"female\", \"male\", \"female\", \n\"male\", \"male\", \"male\", \"male\", \"male\", \"male\", \"female\", \"male\", \n\"male\", \"male\", \"male\", \"male\", \"male\", \"male\", \"male\", \"male\", \n\"male\", \"female\", \"male\", \"male\", \"male\", \"male\", \"male\", \"female\", \n\"male\", \"male\", \"female\", \"male\", \"male\", \"female\", \"male\", \"male\", \n\"male\", \"male\", \"female\", \"male\", \"male\", \"male\", \"male\", \"male\", \n\"female\", \"male\", \"female\", \"male\", \"male\", \"male\", \"male\", \"male\", \n\"male\", \"male\", \"male\", \"male\", \"male\", \"female\", \"male\", \"male\", \n\"male\", \"female\", \"male\", \"male\", \"male\", \"male\", \"male\", \"male\", \n\"male\", \"male\", \"male\", \"female\", \"male\", \"male\", \"male\", \"male\", \n\"male\", \"male\", \"male\", \"female\", \"male\"), year = structure(c(1L, \n5L, 2L, 1L, 1L, 2L, 2L, 2L, 3L, 3L, 3L, 4L, 5L, 3L, 3L, 1L, 5L, \n3L, 2L, 2L, 2L, 4L, 4L, 3L, 2L, 3L, 2L, 1L, 3L, 1L, 4L, 1L, 2L, \n3L, 3L, 4L, 2L, 2L, 4L, 5L, 1L, 4L, 2L, 2L, 5L, 4L, 3L, 3L, 4L, \n4L, 3L, 5L, 1L, 5L, 3L, 4L, 1L, 1L, 2L, 3L, 5L, 3L, 4L, 5L, 1L, \n2L, 3L, 2L, 5L, 1L, 5L, 1L, 2L, 4L, 1L, 3L, 5L, 1L, 2L, 2L, 4L, \n4L, 5L, 2L, 2L, 3L, 5L, 2L, 1L, 3L, 3L, 2L, 5L, 4L, 2L, 3L, 1L, \n2L, 3L, 2L, 2L, 5L, 5L, 3L, 4L, 2L, 1L, 2L, 2L, 2L, 3L, 3L, 4L, \n5L, 5L, 5L, 2L, 5L, 2L, 3L, 3L, 4L, 1L, 5L, 5L, 2L, 2L, 4L, 5L, \n5L, 1L, 4L, 1L, 5L, 2L, 3L, 2L, 2L, 5L, 4L, 5L, 2L, 2L, 2L, 2L, \n5L, 3L, 4L, 4L, 4L, 4L, 4L, 5L, 5L, 4L, 5L, 5L, 5L, 5L, 1L, 1L, \n2L, 2L, 3L, 3L, 3L, 4L, 5L, 4L, 2L, 1L, 3L, 2L, 5L, 1L, 3L, 3L, \n4L, 5L, 2L, 2L, 3L, 3L, 3L, 2L, 2L, 2L, 2L, 3L, 3L, 2L, 2L, 3L, \n4L, 5L, 1L, 2L, 4L, 1L, 1L, 1L, 2L, 2L, 2L, 3L, 1L, 5L, 3L, 4L, \n5L, 5L, 5L, 5L, 5L, 1L, 1L, 2L, 2L, 3L, 3L, 2L, 1L, 3L, 1L, 1L, \n1L, 1L, 1L, 1L, 1L, 1L, 1L, 1L, 1L, 1L, 1L, 1L, 2L, 2L, 2L, 2L, \n2L, 2L, 2L, 2L, 2L, 2L, 2L, 2L, 2L, 2L, 2L, 3L, 3L, 3L, 3L, 3L, \n3L, 3L, 3L, 4L, 4L, 4L, 4L, 5L, 5L, 5L, 5L, 5L, 5L, 5L, 5L, 2L, \n2L, 3L, 3L, 3L, 3L, 3L, 3L, 3L, 3L, 2L, 3L, 3L, 5L, 2L, 5L, 1L, \n2L, 2L, 3L, 1L, 1L, 1L, 2L, 2L, 3L, 3L, 3L, 3L, 5L, 5L, 1L, 2L, \n3L, 1L, 1L, 2L, 4L, 3L, 4L, 4L, 5L, 5L, 5L, 2L, 2L, 2L, 3L, 3L, \n4L, 3L, 4L, 5L, 1L, 2L, 2L, 3L, 3L, 4L, 5L, 2L, 2L, 3L, 1L, 2L, \n2L, 4L, 3L, 3L, 5L, 1L, 2L, 3L, 3L, 3L, 4L, 5L, 3L, 1L, 1L, 1L, \n1L, 1L, 1L, 2L, 2L, 2L, 2L, 2L, 2L, 2L, 2L, 2L, 2L, 2L, 2L, 2L, \n2L, 2L, 2L, 2L, 3L, 3L, 4L, 3L, 3L, 3L, 4L, 4L, 4L, 4L, 4L, 4L, \n4L, 4L, 5L, 5L, 5L, 2L, 2L, 3L, 2L, 1L, 1L, 1L, 2L, 2L, 2L, 2L, \n2L, 2L, 3L, 3L, 3L, 3L, 4L, 5L, 1L, 4L, 3L, 3L, 4L, 4L, 4L, 5L, \n2L, \n\n*** WARNING: max output size exceeded, skipping output. ***\n\n \"Natural Sciences\", \"Natural Sciences\", \n\"Natural Sciences\", \"Natural Sciences\", \"Natural Sciences\", \"Natural Sciences\", \n\"Natural Sciences\", \"Natural Sciences\", \"Natural Sciences\", \"Natural Sciences\", \n\"Natural Sciences\", \"Natural Sciences\", \"Natural Sciences\", \"Natural Sciences\", \n\"Natural Sciences\", \"Natural Sciences\", \"Natural Sciences\", \"Natural Sciences\", \n\"Natural Sciences\", \"Natural Sciences\", \"Natural Sciences\", \"Natural Sciences\", \n\"Natural Sciences\", \"Natural Sciences\", \"Natural Sciences\", \"Natural Sciences\", \n\"Natural Sciences\", \"Natural Sciences\", \"Natural Sciences\", \"Natural Sciences\", \n\"Natural Sciences\", \"Natural Sciences\", \"Natural Sciences\", \"Natural Sciences\", \n\"Natural Sciences\", \"Natural Sciences\", \"Natural Sciences\", \"Natural Sciences\", \n\"Natural Sciences\", \"Natural Sciences\", \"Natural Sciences\", \"Natural Sciences\", \n\"Natural Sciences\", \"Natural Sciences\", \"Natural Sciences\", \"Natural Sciences\", \n\"Natural Sciences\", \"Natural Sciences\", \"Natural Sciences\", \"Natural Sciences\", \n\"Natural Sciences\", \"Natural Sciences\", \"Natural Sciences\", \"Natural Sciences\", \n\"Natural Sciences\", \"Natural Sciences\", \"Natural Sciences\", \"Natural Sciences\", \n\"Natural Sciences\", \"Natural Sciences\", \"Natural Sciences\", \"Natural Sciences\", \n\"Natural Sciences\", \"Natural Sciences\", \"Natural Sciences\", \"Natural Sciences\", \n\"Natural Sciences\", \"Natural Sciences\", \"Natural Sciences\", \"Natural Sciences\", \n\"Natural Sciences\", \"Natural Sciences\", \"Natural Sciences\", \"Natural Sciences\", \n\"Natural Sciences\", \"Natural Sciences\", \"Natural Sciences\", \"Natural Sciences\", \n\"Natural Sciences\", \"Natural Sciences\", \"Natural Sciences\", \"Natural Sciences\", \n\"Natural Sciences\", \"Natural Sciences\", \"Natural Sciences\", \"Natural Sciences\", \n\"Natural Sciences\", \"Natural Sciences\", \"Natural Sciences\", \"Natural Sciences\", \n\"Natural Sciences\", \"Natural Sciences\", \"Natural Sciences\", \"Natural Sciences\", \n\"Natural Sciences\", \"Natural Sciences\", \"Natural Sciences\", \"Natural Sciences\", \n\"Natural Sciences\", \"Natural Sciences\", \"Natural Sciences\", \"Natural Sciences\", \n\"Natural Sciences\", \"Natural Sciences\", \"Natural Sciences\", \"Natural Sciences\", \n\"Natural Sciences\", \"Natural Sciences\", \"Natural Sciences\", \"Natural Sciences\", \n\"Natural Sciences\", \"Natural Sciences\", \"Natural Sciences\", \"Natural Sciences\", \n\"Natural Sciences\", \"Natural Sciences\", \"Natural Sciences\", \"Natural Sciences\", \n\"Natural Sciences\", \"Natural Sciences\", \"Natural Sciences\", \"Natural Sciences\", \n\"Natural Sciences\", \"Natural Sciences\", \"Natural Sciences\", \"Natural Sciences\", \n\"Natural Sciences\", \"Natural Sciences\", \"Natural Sciences\", \"Natural Sciences\", \n\"Natural Sciences\", \"Natural Sciences\", \"Natural Sciences\", \"Natural Sciences\", \n\"Natural Sciences\", \"Natural Sciences\", \"Natural Sciences\", \"Natural Sciences\", \n\"Natural Sciences\", \"Natural Sciences\", \"Natural Sciences\", \"Natural Sciences\", \n\"Natural Sciences\", \"Natural Sciences\", \"Natural Sciences\", \"Natural Sciences\", \n\"Natural Sciences\", \"Natural Sciences\", \"Natural Sciences\", \"Natural Sciences\", \n\"Natural Sciences\", \"Natural Sciences\", \"Natural Sciences\", \"Natural Sciences\", \n\"Natural Sciences\", \"Natural Sciences\", \"Natural Sciences\", \"Natural Sciences\", \n\"Natural Sciences\", \"Natural Sciences\", \"Natural Sciences\", \"Natural Sciences\", \n\"Natural Sciences\", \"Natural Sciences\", \"Natural Sciences\", \"Natural Sciences\", \n\"Natural Sciences\", \"Natural Sciences\", \"Natural Sciences\", \"Natural Sciences\", \n\"Natural Sciences\", \"Natural Sciences\", \"Natural Sciences\", \"Natural Sciences\", \n\"Natural Sciences\", \"Natural Sciences\", \"Natural Sciences\", \"Natural Sciences\", \n\"Natural Sciences\", \"Natural Sciences\", \"Natural Sciences\", \"Natural Sciences\", \n\"Natural Sciences\", \"Natural Sciences\", \"Natural Sciences\", \"Natural Sciences\", \n\"Natural Sciences\", \"Natural Sciences\", \"Natural Sciences\", \"Natural Sciences\", \n\"Natural Sciences\", \"Natural Sciences\", \"Natural Sciences\", \"Natural Sciences\", \n\"Natural Sciences\", \"Natural Sciences\", \"Natural Sciences\", \"Natural Sciences\", \n\"Natural Sciences\", \"Natural Sciences\", \"Natural Sciences\", \"Natural Sciences\", \n\"Natural Sciences\", \"Natural Sciences\", \"Natural Sciences\", \"Natural Sciences\", \n\"Natural Sciences\", \"Natural Sciences\", \"Natural Sciences\", \"Natural Sciences\", \n\"Natural Sciences\", \"Natural Sciences\", \"Natural Sciences\", \"Natural Sciences\", \n\"Natural Sciences\", \"Natural Sciences\", \"Natural Sciences\", \"Natural Sciences\", \n\"Natural Sciences\", \"Natural Sciences\", \"Natural Sciences\", \"Natural Sciences\", \n\"Natural Sciences\", \"Natural Sciences\", \"Natural Sciences\", \"Natural Sciences\", \n\"Natural Sciences\", \"Natural Sciences\", \"Natural Sciences\", \"Natural Sciences\", \n\"Natural Sciences\", \"Natural Sciences\", \"Natural Sciences\", \"Natural Sciences\", \n\"Natural Sciences\", \"Natural Sciences\", \"Natural Sciences\", \"Natural Sciences\", \n\"Natural Sciences\", \"Natural Sciences\", \"Natural Sciences\", \"Natural Sciences\", \n\"Natural Sciences\", \"Natural Sciences\", \"Natural Sciences\", \"Natural Sciences\", \n\"Natural Sciences\", \"Natural Sciences\", \"Natural Sciences\", \"Natural Sciences\", \n\"Natural Sciences\", \"Natural Sciences\", \"Natural Sciences\", \"Natural Sciences\", \n\"Natural Sciences\", \"Natural Sciences\", \"Natural Sciences\", \"Natural Sciences\", \n\"Natural Sciences\", \"Natural Sciences\", \"Natural Sciences\", \"Natural Sciences\", \n\"Natural Sciences\", \"Natural Sciences\", \"Natural Sciences\", \"Natural Sciences\", \n\"Natural Sciences\", \"Natural Sciences\", \"Natural Sciences\", \"Natural Sciences\", \n\"Natural Sciences\", \"Natural Sciences\", \"Natural Sciences\", \"Natural Sciences\", \n\"Natural Sciences\", \"Natural Sciences\", \"Natural Sciences\", \"Natural Sciences\", \n\"Natural Sciences\", \"Natural Sciences\", \"Natural Sciences\", \"Natural Sciences\", \n\"Natural Sciences\", \"Natural Sciences\", \"Natural Sciences\", \"Natural Sciences\", \n\"Natural Sciences\", \"Natural Sciences\", \"Natural Sciences\", \"Natural Sciences\", \n\"Natural Sciences\", \"Natural Sciences\", \"Natural Sciences\", \"Natural Sciences\", \n\"Natural Sciences\", \"Natural Sciences\", \"Natural Sciences\", \"Natural Sciences\", \n\"Natural Sciences\", \"Natural Sciences\", \"Natural Sciences\", \"Natural Sciences\", \n\"Natural Sciences\", \"Natural Sciences\", \"Natural Sciences\", \"Natural Sciences\", \n\"Natural Sciences\", \"Natural Sciences\", \"Natural Sciences\", \"Natural Sciences\", \n\"Natural Sciences\", \"Natural Sciences\", \"Natural Sciences\", \"Natural Sciences\", \n\"Natural Sciences\", \"Natural Sciences\", \"Natural Sciences\", \"Natural Sciences\", \n\"Natural Sciences\", \"Natural Sciences\", \"Natural Sciences\", \"Natural Sciences\", \n\"Natural Sciences\", \"Natural Sciences\"), Field_English = structure(c(2L, \n2L, 2L, 2L, 4L, 2L, 2L, 4L, 3L, 2L, 2L, 3L, 4L, 4L, 1L, 2L, 1L, \n1L, 2L, 2L, 2L, 2L, 1L, 3L, 2L, 2L, 2L, 2L, 2L, 2L, 2L, 3L, 3L, \n1L, 1L, 1L, 1L, 1L, 1L, 1L, 1L, 1L, 1L, 3L, 3L, 3L, 1L, 1L, 4L, \n1L, 4L, 2L, 3L, 1L, 1L, 1L, 1L, 3L, 3L, 3L, 3L, 1L, 1L, 3L, 3L, \n2L, 4L, 3L, 4L, 3L, 3L, 1L, 1L, 3L, 2L, 1L, 2L, 4L, 4L, 2L, 2L, \n4L, 4L, 1L, 1L, 1L, 1L, 1L, 1L, 1L, 1L, 3L, 3L, 3L, 2L, 3L, 4L, \n4L, 4L, 2L, 3L, 3L, 3L, 4L, 3L, 3L, 3L, 2L, 4L, 4L, 4L, 4L, 2L, \n4L, 2L, 2L, 1L, 1L, 1L, 2L, 4L, 2L, 2L, 1L, 1L, 3L, 1L, 3L, 3L, \n3L, 3L, 4L, 2L, 3L, 3L, 3L, 3L, 1L, 4L, 2L, 2L, 4L, 4L, 2L, 2L, \n3L, 3L, 3L, 3L, 3L, 4L, 3L, 3L, 3L, 3L, 3L, 3L, 3L, 3L, 3L, 3L, \n3L, 3L, 3L, 3L, 3L, 3L, 3L, 2L, 1L, 2L, 2L, 4L, 4L, 2L, 4L, 2L, \n4L, 4L, 2L, 4L, 4L, 2L, 2L, 1L, 4L, 2L, 4L, 2L, 2L, 2L, 2L, 2L, \n2L, 2L, 2L, 2L, 3L, 4L, 2L, 4L, 2L, 4L, 4L, 2L, 2L, 4L, 2L, 2L, \n2L, 4L, 4L, 2L, 2L, 2L, 2L, 2L, 2L, 2L, 2L, 3L, 4L, 4L, 4L, 1L, \n3L, 4L, 3L, 1L, 1L, 1L, 4L, 2L, 4L, 1L, 3L, 4L, 4L, 3L, 4L, 4L, \n4L, 4L, 3L, 4L, 4L, 4L, 4L, 4L, 3L, 2L, 3L, 3L, 1L, 1L, 4L, 4L, \n4L, 3L, 4L, 2L, 2L, 3L, 3L, 4L, 3L, 2L, 2L, 2L, 4L, 2L, 3L, 1L, \n1L, 1L, 1L, 1L, 1L, 1L, 1L, 2L, 4L, 4L, 3L, 4L, 4L, 2L, 2L, 2L, \n2L, 2L, 2L, 3L, 1L, 3L, 3L, 1L, 3L, 3L, 3L, 3L, 3L, 3L, 1L, 1L, \n1L, 4L, 2L, 3L, 3L, 2L, 2L, 2L, 2L, 4L, 4L, 4L, 4L, 4L, 3L, 1L, \n4L, 1L, 3L, 3L, 4L, 4L, 2L, 4L, 4L, 4L, 2L, 1L, 4L, 4L, 4L, 4L, \n4L, 4L, 4L, 4L, 4L, 4L, 4L, 4L, 4L, 4L, 4L, 4L, 4L, 3L, 3L, 4L, \n3L, 3L, 3L, 3L, 1L, 4L, 3L, 4L, 4L, 3L, 4L, 3L, 4L, 4L, 4L, 3L, \n4L, 3L, 2L, 4L, 3L, 4L, 3L, 2L, 1L, 4L, 4L, 4L, 1L, 4L, 2L, 3L, \n1L, 4L, 2L, 1L, 4L, 1L, 2L, 4L, 3L, 3L, 3L, 3L, 3L, 2L, 1L, 1L, \n1L, 1L, 3L, 3L, 1L, 1L, 1L, 1L, 3L, 3L, 3L, 1L, 2L, 3L, 2L, 1L, \n4L, 4L, 4L, 4L, 4L, 2L, 4L, 1L, 4L, 1L, 4L, 2L, 3L, 4L, 4L, 4L, \n2L, 2L, 2L, 2L, 4L, 3L, 4L, 4L, 3L, 4L, 4L, 4L, 4L, 4L, 2L, 4L, \n4L, 4L, 4L, 4L, 3L, 3L, 4L, 2L, 2L, 4L, 2L, 4L, 3L, 3L, 1L, 1L, \n3L, 1L, 4L, 1L, 1L, 4L, 2L, 3L, 4L, 3L, 3L, 1L, 3L, 1L, 2L, 2L, \n3L, 2L, 1L, 4L, 3L, 4L, 4L, 4L, 4L, 3L, 1L, 2L, 1L, 4L, 3L, 4L, \n1L, 4L, 4L, 3L, 1L, 3L, 4L, 2L, 1L, 3L, 3L, 4L, 1L, 4L, 1L, 1L, \n4L, 4L, 4L, 2L, 1L, 3L, 3L, 3L, 1L, 1L, 4L, 3L, 1L, 3L, 3L, 3L, \n3L, 3L, 3L, 3L, 3L, 3L, 3L, 3L, 3L, 3L, 3L, 1L, 3L, 1L, 4L, 1L, \n1L, 1L, 3L, 1L, 1L, 1L, 1L, 1L, 1L, 1L, 1L, 1L, 1L, 1L, 1L, 1L, \n1L, 1L, 1L, 1L, 1L, 3L, 1L, 4L, 3L, 1L, 1L, 1L, 1L, 1L, 1L, 1L, \n1L, 1L, 1L, 1L, 1L, 1L, 1L, 3L, 1L, 1L, 1L, 3L, 3L, 1L, 1L, 1L, \n1L, 3L, 1L, 1L, 1L, 1L, 1L, 1L, 1L, 1L, 1L, 1L, 1L, 1L, 3L, 4L, \n4L, 1L, 4L, 2L, 4L, 3L, 4L, 3L, 3L, 2L, 4L, 4L, 1L, 3L, 1L, 3L, \n1L, 4L, 3L, 1L, 2L, 2L, 4L, 4L, 2L, 4L, 4L, 2L, 4L, 3L, 4L, 3L, \n1L, 2L, 3L, 3L, 2L, 4L, 2L, 1L, 2L, 4L, 4L, 4L, 2L, 2L, 1L, 4L, \n3L, 4L, 4L, 2L, 2L, 2L, 4L, 4L, 4L, 1L, 1L, 4L, 3L, 2L, 3L, 4L, \n2L, 4L, 1L, 2L, 1L, 4L, 3L, 1L, 3L, 3L, 2L, 3L, 1L, 1L, 1L, 1L, \n1L, 3L, 1L, 1L, 3L, 1L, 1L, 3L, 2L, 1L, 1L, 1L, 1L, 1L, 1L, 1L, \n1L, 1L, 3L, 1L, 1L, 4L, 3L, 1L, 1L, 3L, 3L, 4L, 4L, 2L, 1L, 2L, \n1L, 3L, 3L, 4L, 4L, 4L, 1L, 1L, 1L, 1L), .Label = c(\"Biology\", \n\"Chemistry\", \"Earth & Environmental Sciences\", \"Physics & Astronomy\"\n), class = \"factor\"), SubField_English = structure(c(25L, 25L, \n25L, 2L, 3L, 25L, 25L, 5L, 8L, 25L, 2L, 8L, 3L, 3L, 24L, 21L, \n9L, 9L, 21L, 21L, 11L, 2L, 6L, 22L, 2L, 2L, 21L, 21L, 17L, 21L, \n23L, 8L, 18L, 6L, 6L, 6L, 6L, 6L, 6L, 6L, 6L, 6L, 16L, 8L, 8L, \n8L, 6L, 16L, 20L, 7L, 5L, 25L, 18L, 24L, 16L, 6L, 16L, 8L, 18L, \n18L, 18L, 6L, 16L, 8L, 8L, 21L, 4L, 8L, 3L, 8L, 18L, 6L, 6L, \n8L, 25L, 24L, 25L, 5L, 5L, 21L, 25L, 5L, 5L, 16L, 9L, 16L, 16L, \n16L, 6L, 6L, 6L, 8L, 8L, 8L, 2L, 8L, 4L, 4L, 4L, 21L, 8L, 8L, \n8L, 5L, 8L, 22L, 18L, 21L, 3L, 3L, 3L, 3L, 2L, 3L, 21L, 17L, \n6L, 16L, 16L, 25L, 3L, 2L, 25L, 24L, 24L, 14L, 24L, 8L, 8L, 8L, \n8L, 5L, 2L, 8L, 18L, 8L, 18L, 24L, 20L, 2L, 2L, 5L, 5L, 2L, 2L, \n18L, 8L, 8L, 8L, 8L, 3L, 8L, 8L, 8L, 8L, 8L, 8L, 8L, 8L, 8L, \n8L, 8L, 8L, 8L, 8L, 8L, 8L, 18L, 21L, 7L, 17L, 21L, 5L, 3L, 21L, \n3L, 23L, 3L, 3L, 21L, 20L, 3L, 21L, 21L, 24L, 5L, 25L, 3L, 2L, \n23L, 21L, 21L, 2L, 25L, 25L, 21L, 21L, 8L, 3L, 21L, 5L, 21L, \n5L, 3L, 21L, 21L, 20L, 2L, 2L, 23L, 5L, 5L, 21L, 2L, 21L, 15L, \n11L, 21L, 25L, 23L, 8L, 20L, 20L, 20L, 16L, 18L, 5L, 18L, 24L, \n24L, 7L, 5L, 23L, 20L, 6L, 18L, 3L, 3L, 18L, 3L, 20L, 3L, 10L, \n18L, 10L, 20L, 10L, 10L, 10L, 8L, 25L, 18L, 18L, 16L, 9L, 5L, \n20L, 3L, 18L, 3L, 15L, 21L, 8L, 8L, 3L, 8L, 21L, 21L, 21L, 3L, \n25L, 18L, 24L, 9L, 24L, 6L, 24L, 24L, 24L, 24L, 2L, 3L, 4L, 18L, \n4L, 4L, 21L, 2L, 21L, 25L, 15L, 21L, 18L, 16L, 18L, 18L, 16L, \n18L, 18L, 18L, 8L, 18L, 18L, 9L, 9L, 6L, 3L, 23L, 8L, 18L, 21L, \n21L, 23L, 23L, 3L, 3L, 4L, 4L, 4L, 18L, 16L, 4L, 6L, 13L, 18L, \n3L, 20L, 21L, 3L, 12L, 3L, 21L, 24L, 3L, 5L, 3L, 20L, 20L, 12L, \n20L, 3L, 5L, 10L, 12L, 10L, 10L, 10L, 12L, 12L, 5L, 19L, 18L, \n12L, 18L, 18L, 18L, 18L, 6L, 10L, 18L, 12L, 5L, 18L, 5L, 8L, \n10L, 4L, 12L, 18L, 12L, 18L, 21L, 12L, 8L, 5L, 13L, 21L, 6L, \n4L, 3L, 10L, 16L, 10L, 25L, 18L, 16L, 3L, 25L, 16L, 3L, 24L, \n21L, 10L, 18L, 8L, 13L, 18L, 18L, 2L, 16L, 9L, 16L, 24L, 18L, \n8L, 24L, 16L, 24L, 16L, 8L, 8L, 8L, 6L, 25L, 8L, 21L, 6L, 3L, \n3L, 5L, 5L, 5L, 21L, 5L, 6L, 5L, 24L, 5L, 2L, 8L, 5L, 10L, 10L, \n25L, 2L, 15L, 2L, 5L, 8L, 5L, 3L, 8L, 3L, 3L, 3L, 3L, 20L, 25L, \n10L, 20L, 5L, 20L, 3L, 18L, 18L, 20L, 21L, 23L, 5L, 23L, 3L, \n18L, 18L, 9L, 6L, 18L, 6L, 3L, 6L, 6L, 5L, 21L, 22L, 20L, 18L, \n18L, 24L, 18L, 24L, 2L, 15L, 8L, 21L, 6L, 10L, 8L, 5L, 4L, 5L, \n4L, 13L, 9L, 23L, 16L, 10L, 18L, 3L, 9L, 3L, 10L, 13L, 9L, 8L, \n20L, 17L, 6L, 18L, 18L, 5L, 24L, 3L, 16L, 6L, 5L, 5L, 3L, 25L, \n9L, 8L, 8L, 8L, 16L, 6L, 4L, 18L, 6L, 18L, 18L, 18L, 8L, 8L, \n18L, 8L, 18L, 8L, 8L, 18L, 18L, 18L, 8L, 6L, 8L, 6L, 4L, 7L, \n6L, 6L, 8L, 6L, 6L, 24L, 24L, 9L, 16L, 9L, 9L, 24L, 6L, 7L, 9L, \n16L, 6L, 6L, 6L, 16L, 6L, 22L, 6L, 3L, 8L, 24L, 16L, 6L, 6L, \n9L, 6L, 6L, 6L, 6L, 6L, 6L, 6L, 6L, 16L, 18L, 6L, 16L, 6L, 18L, \n18L, 6L, 16L, 6L, 16L, 18L, 6L, 6L, 6L, 24L, 24L, 6L, 24L, 24L, \n24L, 24L, 24L, 16L, 8L, 3L, 20L, 16L, 20L, 25L, 3L, 18L, 5L, \n18L, 18L, 2L, 20L, 3L, 6L, 18L, 16L, 18L, 9L, 20L, 8L, 6L, 25L, \n2L, 5L, 5L, 2L, 3L, 5L, 25L, 3L, 8L, 3L, 18L, 6L, 25L, 18L, 8L, \n21L, 12L, 25L, 6L, 25L, 12L, 3L, 3L, 21L, 21L, 24L, 3L, 18L, \n3L, 12L, 21L, 25L, 21L, 3L, 5L, 3L, 6L, 6L, 20L, 8L, 23L, 8L, \n3L, 25L, 12L, 6L, 15L, 9L, 5L, 18L, 16L, 18L, 8L, 25L, 8L, 16L, \n7L, 16L, 6L, 6L, 18L, 6L, 24L, 8L, 16L, 24L, 8L, 25L, 24L, 24L, \n24L, 24L, 7L, 9L, 16L, 6L, 6L, 8L, 16L, 24L, 4L, 8L, 6L, 24L, \n8L, 8L, 4L, 4L, 25L, 24L, 2L, 24L, 8L, 8L, 1L, 4L, 4L, 6L, 9L, \n16L, 7L), .Label = c(\"acoustics\", \"analytical chemistry\", \"applied physics\", \n\"astronomy & astrophysics\", \"chemical physics\", \"ecology\", \"entomology\", \n\"environmental sciences\", \"evolutionary biology\", \"fluids & plasmas\", \n\"general chemistry\", \"general physics\", \"geochemistry & geophysics\", \n\"geology\", \"inorganic & nuclear chemistry\", \"marine biology & hydrobiology\", \n\"medicinal & biomolecular chemistry\", \"meteorology & atmospheric sciences\", \n\"oceanography\", \"optics\", \"organic chemistry\", \"paleontology\", \n\"physical chemistry\", \"plant biology & botany\", \"polymers\"), class = \"factor\"), \n    q = structure(c(3L, 3L, 3L, 3L, 3L, 3L, 3L, 3L, 3L, 3L, 3L, \n    3L, 3L, 3L, 3L, 3L, 3L, 3L, 3L, 3L, 3L, 3L, 3L, 3L, 3L, 3L, \n    3L, 3L, 3L, 3L, 3L, 3L, 3L, 3L, 3L, 3L, 3L, 3L, 3L, 3L, 3L, \n    3L, 3L, 3L, 3L, 3L, 3L, 3L, 3L, 3L, 3L, 3L, 3L, 3L, 3L, 3L, \n    3L, 3L, 3L, 3L, 3L, 3L, 3L, 3L, 3L, 3L, 3L, 3L, 3L, 3L, 3L, \n    3L, 3L, 3L, 3L, 3L, 3L, 3L, 3L, 3L, 3L, 3L, 3L, 3L, 3L, 3L, \n    3L, 3L, 3L, 3L, 3L, 3L, 3L, 3L, 3L, 3L, 3L, 3L, 3L, 3L, 3L, \n    3L, 3L, 3L, 3L, 3L, 3L, 3L, 3L, 3L, 3L, 3L, 3L, 3L, 3L, 3L, \n    3L, 3L, 3L, 3L, 3L, 3L, 3L, 3L, 3L, 3L, 3L, 3L, 3L, 3L, 3L, \n    3L, 3L, 3L, 3L, 3L, 3L, 3L, 3L, 3L, 3L, 3L, 3L, 3L, 3L, 3L, \n    3L, 3L, 3L, 3L, 3L, 3L, 3L, 3L, 3L, 3L, 3L, 3L, 3L, 3L, 3L, \n    3L, 3L, 3L, 3L, 3L, 3L, 3L, 3L, 3L, 3L, 3L, 3L, 3L, 3L, 3L, \n    3L, 3L, 3L, 3L, 3L, 3L, 3L, 3L, 3L, 3L, 3L, 3L, 3L, 3L, 3L, \n    3L, 3L, 3L, 3L, 3L, 3L, 3L, 3L, 3L, 3L, 3L, 3L, 3L, 3L, 3L, \n    3L, 3L, 3L, 3L, 3L, 3L, 3L, 3L, 3L, 3L, 3L, 3L, 3L, 3L, 3L, \n    3L, 3L, 3L, 3L, 3L, 3L, 3L, 3L, 3L, 3L, 3L, 3L, 3L, 3L, 3L, \n    3L, 3L, 3L, 3L, 3L, 3L, 3L, 3L, 3L, 3L, 3L, 3L, 3L, 3L, 3L, \n    3L, 3L, 3L, 3L, 3L, 3L, 3L, 3L, 3L, 3L, 3L, 3L, 3L, 3L, 3L, \n    3L, 3L, 3L, 3L, 3L, 3L, 3L, 3L, 3L, 3L, 3L, 3L, 3L, 3L, 3L, \n    3L, 3L, 3L, 3L, 3L, 3L, 3L, 3L, 3L, 3L, 3L, 3L, 3L, 3L, 3L, \n    3L, 3L, 3L, 3L, 3L, 3L, 3L, 3L, 3L, 3L, 3L, 3L, 3L, 3L, 3L, \n    3L, 3L, 3L, 3L, 3L, 3L, 3L, 3L, 3L, 3L, 3L, 3L, 3L, 3L, 3L, \n    3L, 3L, 3L, 3L, 3L, 3L, 3L, 3L, 3L, 3L, 3L, 3L, 3L, 3L, 3L, \n    3L, 3L, 3L, 3L, 3L, 3L, 3L, 3L, 3L, 3L, 3L, 3L, 3L, 3L, 3L, \n    3L, 3L, 3L, 3L, 3L, 3L, 3L, 3L, 3L, 3L, 3L, 3L, 3L, 3L, 3L, \n    3L, 3L, 3L, 3L, 3L, 3L, 3L, 3L, 3L, 3L, 3L, 3L, 3L, 3L, 3L, \n    3L, 3L, 3L, 3L, 3L, 3L, 3L, 3L, 3L, 3L, 3L, 3L, 3L, 3L, 3L, \n    3L, 3L, 3L, 3L, 3L, 3L, 3L, 3L, 3L, 3L, 3L, 3L, 3L, 3L, 3L, \n    3L, 3L, 3L, 3L, 3L, 3L, 3L, 3L, 3L, 3L, 3L, 3L, 3L, 3L, 3L, \n    3L, 3L, 3L, 3L, 3L, 3L, 3L, 3L, 3L, 3L, 2L, 3L, 3L, 3L, 3L, \n    3L, 3L, 3L, 3L, 3L, 3L, 3L, 3L, 3L, 3L, 3L, 3L, 3L, 3L, 3L, \n    3L, 3L, 3L, 3L, 3L, 3L, 3L, 3L, 3L, 3L, 3L, 3L, 3L, 3L, 3L, \n    3L, 3L, 3L, 3L, 3L, 3L, 3L, 3L, 3L, 3L, 3L, 3L, 3L, 3L, 3L, \n    3L, 3L, 3L, 3L, 3L, 3L, 3L, 3L, 3L, 3L, 3L, 3L, 3L, 3L, 3L, \n    3L, 3L, 3L, 3L, 3L, 3L, 3L, 3L, 3L, 3L, 3L, 3L, 3L, 3L, 3L, \n    3L, 3L, 3L, 2L, 3L, 3L, 3L, 3L, 3L, 3L, 3L, 3L, 3L, 3L, 3L, \n    3L, 3L, 3L, 3L, 3L, 3L, 3L, 3L, 2L, 3L, 3L, 3L, 3L, 3L, 3L, \n    3L, 3L, 3L, 3L, 3L, 3L, 3L, 3L, 3L, 3L, 3L, 3L, 3L, 3L, 3L, \n    3L, 3L, 3L, 3L, 3L, 3L, 3L, 3L, 3L, 3L, 3L, 3L, 3L, 3L, 3L, \n    3L, 3L, 3L, 3L, 3L, 3L, 3L, 3L, 3L, 3L, 3L, 3L, 3L, 3L, 3L, \n    3L, 3L, 3L, 3L, 2L, 3L, 3L, 3L, 3L, 3L, 3L, 3L, 3L, 3L, 3L, \n    3L, 3L, 3L, 3L, 3L, 3L, 3L, 3L, 3L, 3L, 3L, 3L, 3L, 3L, 3L, \n    3L, 3L, 3L, 3L, 3L, 3L, 3L, 3L, 3L, 3L, 3L, 3L, 3L, 3L, 3L, \n    3L, 3L, 3L, 3L, 3L, 3L, 3L, 3L, 3L, 3L, 3L, 3L, 3L, 3L, 3L, \n    3L, 3L, 3L, 3L, 3L, 3L, 3L, 3L, 3L, 3L, 3L, 3L, 3L, 3L, 3L, \n    3L, 3L, 3L, 3L, 3L, 3L, 3L, 3L, 3L, 3L, 3L, 3L, 3L, 3L, 3L, \n    3L, 3L, 3L, 3L, 3L, 3L, 3L, 3L, 3L, 3L, 3L, 3L, 3L, 3L, 3L, \n    3L, 3L, 3L, 3L, 3L, 3L, 3L, 3L, 3L, 3L, 3L, 3L, 2L, 3L, 3L, \n    3L, 3L, 3L, 3L, 3L, 3L, 1L, 3L, 3L, 3L, 3L, 2L, 3L, 3L, 3L\n    ), .Label = c(\"1\", \"2\", \"3\"), class = \"factor\")), class = \"data.frame\", row.names = c(\"70\", \n\"105\", \"109\", \"114\", \"125\", \"136\", \"139\", \"142\", \"153\", \"156\", \n\"157\", \"165\", \"181\", \"203\", \"204\", \"222\", \"251\", \"252\", \"258\", \n\"259\", \"262\", \"266\", \"269\", \"271\", \"278\", \"280\", \"281\", \"283\", \n\"284\", \"286\", \"298\", \"302\", \"307\", \"311\", \"315\", \"317\", \"322\", \n\"323\", \"328\", \"331\", \"332\", \"336\", \"337\", \"342\", \"344\", \"352\", \n\"357\", \"362\", \"363\", \"379\", \"396\", \"402\", \"413\", \"418\", \"423\", \n\"427\", \"428\", \"430\", \"431\", \"433\", \"434\", \"439\", \"451\", \"459\", \n\"473\", \"477\", \"478\", \"489\", \"500\", \"507\", \"534\", \"560\", \"561\", \n\"562\", \"564\", \"616\", \"668\", \"678\", \"680\", \"681\", \"686\", \"687\", \n\"688\", \"722\", \"723\", \"726\", \"732\", \"743\", \"746\", \"747\", \"748\", \n\"749\", \"796\", \"802\", \"818\", \"849\", \"853\", \"854\", \"855\", \"873\", \n\"912\", \"914\", \"916\", \"921\", \"927\", \"940\", \"974\", \"983\", \"987\", \n\"996\", \"1006\", \"1011\", \"1022\", \"1032\", \"1034\", \"1036\", \"1059\", \n\"1069\", \"1071\", \"1084\", \"1086\", \"1090\", \"1103\", \"1109\", \"1121\", \n\"1143\", \"1174\", \"1184\", \"1185\", \"1188\", \"1192\", \"1193\", \"1209\", \n\"1222\", \"1228\", \"1231\", \"1263\", \"1269\", \"1276\", \"1277\", \"1278\", \n\"1279\", \"1280\", \"1283\", \"1284\", \"1286\", \"1295\", \"1297\", \"1299\", \n\"1301\", \"1302\", \"1303\", \"1305\", \"1308\", \"1310\", \"1311\", \"1313\", \n\"1314\", \"1315\", \"1319\", \"1324\", \"1332\", \"1335\", \"1336\", \"1339\", \n\"1340\", \"1342\", \"1343\", \"1346\", \"1357\", \"1360\", \"1363\", \"1366\", \n\"1367\", \"1368\", \"1378\", \"1383\", \"1388\", \"1390\", \"1404\", \"1405\", \n\"1409\", \"1410\", \"1411\", \"1449\", \"1452\", \"1455\", \"1457\", \"1461\", \n\"1475\", \"1479\", \"1480\", \"1481\", \"1485\", \"1486\", \"1487\", \"1489\", \n\"1497\", \"1545\", \"1554\", \"1558\", \"1564\", \"1568\", \"1586\", \"1590\", \n\"1593\", \"1600\", \"1605\", \"1606\", \"1613\", \"1629\", \"1630\", \"1632\", \n\"1633\", \"1637\", \"1639\", \"1645\", \"1646\", \"1647\", \"1648\", \"1682\", \n\"1689\", \"1691\", \"1710\", \"1711\", \"1715\", \"1716\", \"1719\", \"1722\", \n\"1723\", \"1728\", \"1732\", \"1734\", \"1740\", \"1748\", \"1758\", \"1763\", \n\"1783\", \"1785\", \"1792\", \"1794\", \"1804\", \"1806\", \"1809\", \"1810\", \n\"1811\", \"1823\", \"1838\", \"1841\", \"1846\", \"1850\", \"1857\", \"1858\", \n\"1863\", \"1865\", \"1868\", \"1873\", \"1877\", \"1881\", \"1895\", \"1910\", \n\"1916\", \"1926\", \"1931\", \"1938\", \"1941\", \"1959\", \"1962\", \"1963\", \n\"1967\", \"1972\", \"1973\", \"1980\", \"1982\", \"1983\", \"1985\", \"1988\", \n\"1989\", \"1990\", \"1991\", \"2009\", \"2011\", \"2019\", \"2020\", \"2021\", \n\"2022\", \"2033\", \"2052\", \"2056\", \"2057\", \"2060\", \"2061\", \"2063\", \n\"2064\", \"2067\", \"2070\", \"2072\", \"2074\", \"2075\", \"2076\", \"2077\", \n\"2078\", \"2080\", \"2081\", \"2089\", \"2094\", \"2104\", \"2112\", \"2124\", \n\"2136\", \"2137\", \"2153\", \"2157\", \"2162\", \"2167\", \"2173\", \"2176\", \n\"2177\", \"2178\", \"2179\", \"2180\", \"2181\", \"2182\", \"2183\", \"2184\", \n\"2194\", \"2206\", \"2208\", \"2217\", \"2225\", \"2235\", \"2246\", \"2268\", \n\"2271\", \"2275\", \"2290\", \"2293\", \"2294\", \"2295\", \"2297\", \"2298\", \n\"2301\", \"2305\", \"2306\", \"2307\", \"2308\", \"2310\", \"2311\", \"2313\", \n\"2320\", \"2323\", \"2327\", \"2329\", \"2331\", \"2335\", \"2336\", \"2339\", \n\"2342\", \"2345\", \"2347\", \"2348\", \"2351\", \"2353\", \"2354\", \"2355\", \n\"2356\", \"2358\", \"2360\", \"2361\", \"2362\", \"2365\", \"2368\", \"2369\", \n\"2370\", \"2371\", \"2374\", \"2384\", \"2391\", \"2396\", \"2399\", \"2400\", \n\"2402\", \"2403\", \"2405\", \"2415\", \"2422\", \"2423\", \"2438\", \"2451\", \n\"2453\", \"2488\", \"2498\", \"2527\", \"2537\", \"2542\", \"2543\", \"2554\", \n\"2567\", \"2573\", \"2578\", \"2583\", \"2588\", \"2591\", \"2592\", \"2596\", \n\"2601\", \"2610\", \"2621\", \"2634\", \"2648\", \"2666\", \"2677\", \"2678\", \n\"2680\", \"2682\", \"2684\", \"2690\", \"2698\", \"2704\", \"2706\", \"2713\", \n\"2714\", \"2717\", \"2718\", \"2719\", \"2724\", \"2734\", \"2747\", \"2752\", \n\"2756\", \"2767\", \"2768\", \"2769\", \"2777\", \"2778\", \"2779\", \"2784\", \n\"2786\", \"2792\", \"2793\", \"2803\", \"2817\", \"2820\", \"2821\", \"2824\", \n\"2826\", \"2828\", \"2845\", \"2847\", \"2848\", \"2849\", \"2852\", \"2857\", \n\"2861\", \"2863\", \"2867\", \"2870\", \"2873\", \"2877\", \"2881\", \"2891\", \n\"2893\", \"2897\", \"2910\", \"2913\", \"2916\", \"2922\", \"2931\", \"2936\", \n\"2938\", \"2946\", \"2947\", \"2948\", \"2951\", \"2956\", \"2957\", \"2958\", \n\"2959\", \"2965\", \"2973\", \"2976\", \"2978\", \"2979\", \"2986\", \"2988\", \n\"2999\", \"3001\", \"3002\", \"3003\", \"3011\", \"3013\", \"3014\", \"3032\", \n\"3034\", \"3035\", \"3037\", \"3039\", \"3042\", \"3047\", \"3051\", \"3052\", \n\"3059\", \"3061\", \"3062\", \"3064\", \"3065\", \"3066\", \"3068\", \"3074\", \n\"3078\", \"3079\", \"3088\", \"3093\", \"3095\", \"3098\", \"3108\", \"3118\", \n\"3121\", \"3150\", \"3162\", \"3163\", \"3180\", \"3182\", \"3184\", \"3185\", \n\"3192\", \"3194\", \"3195\", \"3200\", \"3201\", \"3203\", \"3205\", \"3206\", \n\"3214\", \"3215\", \"3218\", \"3221\", \"3224\", \"3225\", \"3231\", \"3233\", \n\"3237\", \"3242\", \"3245\", \"3263\", \"3278\", \"3279\", \"3290\", \"3292\", \n\"3323\", \"3328\", \"3329\", \"3331\", \"3333\", \"3334\", \"3335\", \"3345\", \n\"3352\", \"3359\", \"3364\", \"3367\", \"3368\", \"3372\", \"3373\", \"3374\", \n\"3377\", \"3379\", \"3380\", \"3386\", \"3387\", \"3393\", \"3395\", \"3396\", \n\"3397\", \"3398\", \"3404\", \"3431\", \"3432\", \"3433\", \"3436\", \"3443\", \n\"3444\", \"3450\", \"3453\", \"3455\", \"3459\", \"3461\", \"3462\", \"3463\", \n\"3465\", \"3471\", \"3474\", \"3475\", \"3477\", \"3480\", \"3481\", \"3488\", \n\"3511\", \"3514\", \"3518\", \"3519\", \"3528\", \"3529\", \"3530\", \"3532\", \n\"3533\", \"3538\", \"3543\", \"3546\", \"3551\", \"3553\", \"3556\", \"3557\", \n\"3574\", \"3582\", \"3588\", \"3598\", \"3602\", \"3608\", \"3610\", \"3618\", \n\"3620\", \"3621\", \"3623\", \"3628\", \"3633\", \"3634\", \"3638\", \"3650\", \n\"3658\", \"3660\", \"3668\", \"3672\", \"3682\", \"3684\", \"3685\", \"3694\", \n\"3697\", \"3699\", \"3701\", \"3706\", \"3707\", \"3711\", \"3713\", \"3714\", \n\"3717\", \"3720\", \"3722\", \"3727\", \"3729\", \"3730\", \"3731\", \"3740\", \n\"3741\", \"3744\", \"3746\", \"3751\", \"3752\", \"3755\", \"3780\", \"3786\", \n\"3788\", \"3789\", \"3798\", \"3809\", \"3811\", \"3812\", \"3814\", \"3816\", \n\"3818\", \"3828\", \"3840\", \"3845\", \"3848\", \"3861\", \"3862\", \"3865\", \n\"3869\", \"3874\", \"3878\", \"3886\", \"3887\", \"3942\", \"4053\", \"4054\", \n\"4056\", \"4062\", \"4068\", \"4069\", \"4074\", \"4076\", \"4082\", \"4084\", \n\"4101\", \"4106\", \"4124\", \"4146\", \"4161\", \"4175\", \"4177\", \"4216\", \n\"4217\", \"4218\", \"4226\", \"4232\", \"4233\", \"4235\", \"4240\", \"4241\", \n\"4268\", \"4273\", \"4277\", \"4299\", \"4307\", \"4337\", \"4342\", \"4347\", \n\"4348\", \"4353\", \"4360\", \"4362\", \"4370\", \"4378\", \"4383\", \"4396\", \n\"4400\", \"4401\", \"4402\", \"4404\", \"4408\", \"4419\")))\n\nDeviance Residuals: \n    Min       1Q   Median       3Q      Max  \n-4.1684  -0.5267  -0.0839   0.3203   2.4212  \n\nCoefficients:\n                                             Estimate Std. Error t value\n(Intercept)                                 -1.588039   0.708186  -2.242\ngendermale                                   0.036886   0.061151   0.603\nyear2019                                     0.001885   0.077176   0.024\nyear2020                                     0.012773   0.081861   0.156\nyear2021                                    -0.040848   0.092275  -0.443\nyear2022                                    -0.035079   0.084710  -0.414\nField_EnglishChemistry                      -0.510344   0.077068  -6.622\nField_EnglishEarth & Environmental Sciences  0.038410   0.071132   0.540\nField_EnglishPhysics & Astronomy            -0.094043   0.070237  -1.339\nq2                                          -0.473539   0.756987  -0.626\nq3                                          -0.325130   0.701187  -0.464\n                                            Pr(>|t|)    \n(Intercept)                                   0.0252 *  \ngendermale                                    0.5466    \nyear2019                                      0.9805    \nyear2020                                      0.8760    \nyear2021                                      0.6581    \nyear2022                                      0.6789    \nField_EnglishChemistry                      6.93e-11 ***\nField_EnglishEarth & Environmental Sciences   0.5894    \nField_EnglishPhysics & Astronomy              0.1810    \nq2                                            0.5318    \nq3                                            0.6430    \n---\nSignif. codes:  0 ‘***’ 0.001 ‘**’ 0.01 ‘*’ 0.05 ‘.’ 0.1 ‘ ’ 1\n\n(Dispersion parameter for Gamma family taken to be 0.486955)\n\n    Null deviance: 1481.7  on 730  degrees of freedom\nResidual deviance: 1454.5  on 720  degrees of freedom\nAIC: -1567.6\n\nNumber of Fisher Scoring iterations: 21\n\n\n<command-3013414464073148>:14: SettingWithCopyWarning: \nA value is trying to be set on a copy of a slice from a DataFrame\n\nSee the caveats in the documentation: https://pandas.pydata.org/pandas-docs/stable/user_guide/indexing.html#returning-a-view-versus-a-copy\n  tmp['prop'][ind] = 0.00001\n"
     ]
    }
   ],
   "source": [
    "tmp = pd.DataFrame()\n",
    "tmp['prop'] = dummy['prop']\n",
    "tmp['gender'] = dummy['gender']\n",
    "tmp['year'] = dummy['year']\n",
    "tmp['Domain_English'] = dummy['Domain_English']\n",
    "tmp['Field_English'] = dummy['Field_English']\n",
    "tmp['SubField_English'] = dummy['SubField_English']\n",
    "tmp['q'] = dummy['q']\n",
    "\n",
    "tmp = tmp.dropna(subset = ['prop'])\n",
    "\n",
    "for ind in tmp.index:\n",
    "  if tmp['prop'][ind] == 0.0:\n",
    "    tmp['prop'][ind] = 0.00001\n",
    "\n",
    "#tmp = tmp[tmp['Domain_English'] == 'Applied Sciences'] #gmale = -0.05918, p -> 0.0454 *\n",
    "#tmp = tmp[tmp['Domain_English'] == 'Arts & Humanities'] #insig\n",
    "#tmp = tmp[tmp['Domain_English'] == 'Economic & Social Sciences'] #est Gmale = 0.332419, p val = 0.0312 *\n",
    "#tmp = tmp[tmp['Domain_English'] == 'Health Sciences'] #insig\n",
    "tmp = tmp[tmp['Domain_English'] == 'Natural Sciences'] #insig\n",
    "\n",
    "\n",
    "\n",
    "\n",
    "with localconverter(ro.default_converter + pandas2ri.converter):\n",
    "  tst_df = ro.conversion.py2rpy(tmp)\n",
    "\n",
    "col_2_index = list(tst_df.colnames).index('year')\n",
    "col_2 = ro.vectors.FactorVector(tst_df.rx2('year'))\n",
    "tst_df[col_2_index] = col_2\n",
    "\n",
    "col_2_index = list(tst_df.colnames).index('q')\n",
    "col_2 = ro.vectors.FactorVector(tst_df.rx2('q'))\n",
    "tst_df[col_2_index] = col_2\n",
    "\n",
    "\n",
    "'''col_2_index = list(tst_df.colnames).index('Domain_English')\n",
    "col_2 = ro.vectors.FactorVector(tst_df.rx2('Domain_English'))\n",
    "tst_df[col_2_index] = col_2'''\n",
    "\n",
    "col_2_index = list(tst_df.colnames).index('Field_English')\n",
    "col_2 = ro.vectors.FactorVector(tst_df.rx2('Field_English'))\n",
    "tst_df[col_2_index] = col_2\n",
    "\n",
    "col_2_index = list(tst_df.colnames).index('SubField_English')\n",
    "col_2 = ro.vectors.FactorVector(tst_df.rx2('SubField_English'))\n",
    "tst_df[col_2_index] = col_2\n",
    "\n",
    "\n",
    "\n",
    "#print(tst_df)\n",
    "#pandas2ri.activate()\n",
    "model = stats.glm(\"prop ~ gender+year+Field_English+q\",\n",
    "                  data=tst_df,family=ro.r('Gamma(link = \"log\")')) #family=ro.r('gaussian(link=\"identity\")') #family=ro.r('poisson(link=\"log\")')\n",
    "print(base.summary(model))"
   ]
  },
  {
   "cell_type": "code",
   "execution_count": 0,
   "metadata": {
    "application/vnd.databricks.v1+cell": {
     "cellMetadata": {
      "byteLimit": 2048000,
      "rowLimit": 10000
     },
     "inputWidgets": {},
     "nuid": "9b4ec2c3-3083-46fc-b0a3-12782c577dc0",
     "showTitle": false,
     "title": ""
    }
   },
   "outputs": [
    {
     "output_type": "stream",
     "name": "stdout",
     "output_type": "stream",
     "text": [
      "\nCall:\n(function (formula, family = gaussian, data, weights, subset, \n    na.action, start = NULL, etastart, mustart, offset, control = list(...), \n    model = TRUE, method = \"glm.fit\", x = FALSE, y = TRUE, singular.ok = TRUE, \n    contrasts = NULL, ...) \n{\n    cal <- match.call()\n    if (is.character(family)) \n        family <- get(family, mode = \"function\", envir = parent.frame())\n    if (is.function(family)) \n        family <- family()\n    if (is.null(family$family)) {\n        print(family)\n        stop(\"'family' not recognized\")\n    }\n    if (missing(data)) \n        data <- environment(formula)\n    mf <- match.call(expand.dots = FALSE)\n    m <- match(c(\"formula\", \"data\", \"subset\", \"weights\", \"na.action\", \n        \"etastart\", \"mustart\", \"offset\"), names(mf), 0L)\n    mf <- mf[c(1L, m)]\n    mf$drop.unused.levels <- TRUE\n    mf[[1L]] <- quote(stats::model.frame)\n    mf <- eval(mf, parent.frame())\n    if (identical(method, \"model.frame\")) \n        return(mf)\n    if (!is.character(method) && !is.function(method)) \n        stop(\"invalid 'method' argument\")\n    if (identical(method, \"glm.fit\")) \n        control <- do.call(\"glm.control\", control)\n    mt <- attr(mf, \"terms\")\n    Y <- model.response(mf, \"any\")\n    if (length(dim(Y)) == 1L) {\n        nm <- rownames(Y)\n        dim(Y) <- NULL\n        if (!is.null(nm)) \n            names(Y) <- nm\n    }\n    X <- if (!is.empty.model(mt)) \n        model.matrix(mt, mf, contrasts)\n    else matrix(, NROW(Y), 0L)\n    weights <- as.vector(model.weights(mf))\n    if (!is.null(weights) && !is.numeric(weights)) \n        stop(\"'weights' must be a numeric vector\")\n    if (!is.null(weights) && any(weights < 0)) \n        stop(\"negative weights not allowed\")\n    offset <- as.vector(model.offset(mf))\n    if (!is.null(offset)) {\n        if (length(offset) != NROW(Y)) \n            stop(gettextf(\"number of offsets is %d should equal %d (number of observations)\", \n                length(offset), NROW(Y)), domain = NA)\n    }\n    mustart <- model.extract(mf, \"mustart\")\n    etastart <- model.extract(mf, \"etastart\")\n    fit <- eval(call(if (is.function(method)) \"method\" else method, \n        x = X, y = Y, weights = weights, start = start, etastart = etastart, \n        mustart = mustart, offset = offset, family = family, \n        control = control, intercept = attr(mt, \"intercept\") > \n            0L, singular.ok = singular.ok))\n    if (length(offset) && attr(mt, \"intercept\") > 0L) {\n        fit2 <- eval(call(if (is.function(method)) \"method\" else method, \n            x = X[, \"(Intercept)\", drop = FALSE], y = Y, mustart = fit$fitted.values, \n            weights = weights, offset = offset, family = family, \n            control = control, intercept = TRUE))\n        if (!fit2$converged) \n            warning(\"fitting to calculate the null deviance did not converge -- increase 'maxit'?\")\n        fit$null.deviance <- fit2$deviance\n    }\n    if (model) \n        fit$model <- mf\n    fit$na.action <- attr(mf, \"na.action\")\n    if (x) \n        fit$x <- X\n    if (!y) \n        fit$y <- NULL\n    structure(c(fit, list(call = cal, formula = formula, terms = mt, \n        data = data, offset = offset, control = control, method = method, \n        contrasts = attr(X, \"contrasts\"), xlevels = .getXlevels(mt, \n            mf))), class = c(fit$class, c(\"glm\", \"lm\")))\n})(formula = \"prop ~ gender+year+Field_English+q\", family = function (link = \"identity\") \n{\n    linktemp <- substitute(link)\n    if (!is.character(linktemp)) \n        linktemp <- deparse(linktemp)\n    okLinks <- c(\"inverse\", \"log\", \"identity\")\n    family <- \"gaussian\"\n    if (linktemp %in% okLinks) \n        stats <- make.link(linktemp)\n    else if (is.character(link)) {\n        stats <- make.link(link)\n        linktemp <- link\n    }\n    else {\n        if (inherits(link, \"link-glm\")) {\n            stats <- link\n            if (!is.null(stats$name)) \n                linktemp <- stats$name\n        }\n        else {\n            stop(gettextf(\"link \\\"%s\\\" not available for %s family; available links are %s\", \n                linktemp, family, paste(sQuote(okLinks), collapse = \", \")), \n                domain = NA)\n        }\n    }\n    structure(list(family = family, link = linktemp, linkfun = stats$linkfun, \n        linkinv = stats$linkinv, variance = function(mu) rep.int(1, \n            length(mu)), dev.resids = function(y, mu, wt) wt * \n            ((y - mu)^2), aic = function(y, n, mu, wt, dev) {\n            nobs <- length(y)\n            nobs * (log(dev/nobs * 2 * pi) + 1) + 2 - sum(log(wt))\n        }, mu.eta = stats$mu.eta, initialize = expression({\n            n <- rep.int(1, nobs)\n            if (is.null(etastart) && is.null(start) && is.null(mustart) && \n                ((family$link == \"inverse\" && any(y == 0)) || \n                  (family$link == \"log\" && any(y <= 0)))) stop(\"cannot find valid starting values: please specify some\")\n            mustart <- y\n        }), validmu = function(mu) TRUE, valideta = stats$valideta), \n        class = \"family\")\n}, data = structure(list(prop = c(0.0583333333333333, 0.134011096116359, \n0.0714285714285714, 0.124731525784157, 0.0784548269068393, 0.164368904752536, \n0.121184371184371, 0.142857142857143, 0.03125, 0, 0.133928571428571, \n0.0333333333333333, 0.0495430495430495, 0.227083333333333, 0.203342953342953, \n0.125, 0.0317460317460317, 0.208062770562771, 0, 0, 0.25, 0.181818181818182, \n0.153846153846154, 0.185185185185185, 0.208333333333333, 0.081081081081081, \n0, 0.0755555555555556, 0, 0.142857142857143, 0.0769230769230769, \n0.24703557312253, 0.0716727716727716, 0.135823228495642, 0.0883256528417818, \n0.113828662083554, 0.12, 0.0967741935483871, 0.20093201754386, \n0.19047619047619, 0.170833333333333, 0.421052631578947, 0.175384615384615, \n0.0909090909090909, 0.169164995998473, 0.0833333333333333, 0.0294117647058823, \n0.125, 0.0277777777777777, 0.111111111111111, 0.158981115502855, \n0.151147887365735, 0, 0.111111111111111, 0.167576384967689, 0.230769230769231, \n0.196078431372549, 0.0712134372979961, 0.469327731092437, 0, \n0.0635625563519795, 0.129032258064516, 0.136363636363636, 0.157894736842105, \n0.0928091397849462, 0.0714285714285714, 0.333333333333333, 0.0826330532212885, \n0.0735986307231493, 0.191564709658538, 0.272727272727273, 0.172814997793989, \n0.050125313283208, 0.173913043478261, 0.171460892049127, 0.093073593073593, \n0.0783562200350359, 0.225, 0, 0.0910973084886128, 0.111111111111111, \n0.0769230769230769, 0.0416666666666667, 0.333333333333333, 0.175808271266346, \n0.0526315789473684, 0.16726403823178, 0.0952380952380952, 0.166666666666667, \n0.153846153846154, 0.166666666666667, 0.12, 0.551388888888889, \n0.0963657876943881, 0.0714285714285714, 0.187042842215256, 0.332829206951598, \n0.0965700965700965, 0.37856829161177, 0.232683982683983, 0.104482323232323, \n0.0863196594427244, 0.13030303030303, 0.243589743589744, 0, 0.170731707317073, \n0.266582583388501, 0.194711538461538, 0.2, 0.133333333333333, \n0.1125, 0.166666666666667, 0.033047735618115, 0.094240193127846, \n0.142857142857143, 0.0411111111111111, 0.146341463414634, 0.199248120300752, \n0.142917361001162, 0.0582972582972583, 0.105263157894737, 0.037037037037037, \n0.0526315789473684, 0.130712396441297, 0, 0.111111111111111, \n0, 0.10515873015873, 0.19047619047619, 0.142857142857143, 0, \n0.0526315789473684, 0.08, 0.137155388471178, 0.105263157894737, \n0, 0.220525210084034, 0.142592592592593, 0.054054054054054, 0.032258064516129, \n0.105555555555556, 0.103448275862069, 0.0952380952380952, 0.115586007130125, \n0.169540229885057, 0.344827586206897, 0.222222222222222, 0.15625, \n0.0833333333333333, 0.0869565217391304, 0.0666666666666666, 0.2, \n0.0862914395512914, 0.116964285714286, 0.0526315789473684, 0.190899589740304, \n0.125252722056565, 0.191353383458647, 0, 0.111111111111111, 0.0690762896670604, \n0.392069597069597, 0.0344827586206896, 0.28284722523853, 0.212525879917184, \n0.0609375609375609, 0.0588235294117647, 0.0416666666666666, 0, \n0.346256684491979, 0.153846153846154, 0, 0.236607142857143, 0.0939393939393939, \n0, 0.1, 0.142857142857143, 0.0151515151515151, 0.087215174531351, \n0.0851393188854489, 0.0462962962962963, 0.0105263157894737, 0, \n0.181818181818182, 0, 0.0964405964405964, 0.088235294117647, \n0, 0.0334821428571428, 0.117989417989418, 0.176470588235294, \n0.117919389978213, 0.166666666666667, 0, 0, 0.0833333333333333, \n0.176470588235294, 0.108910891089109, 0, 0.0392307692307692, \n0.196774193548387, 0, 0.0909090909090909, 0.105263157894737, \n0.0620300751879699, 0.155555555555556, 0, 0.149382716049383, \n0.0416666666666667, 0, 0.159641909814324, 0.167832167832168, \n0.3, 0.117647058823529, 0.1, 0, 0, 0.220371687136393, 0.1, 0.0833333333333333, \n0.243581382068224, 0.143969102792632, 0, 0.15625, 0.16, 0.210526315789474, \n0.153846153846154, 0, 0.151533189033189, 0, 0.0277777777777777, \n0.08, 0.0684523809523809, 0.142857142857143, 0.182194616977226, \n0.193548387096774, 0, 0, 0.206592360285145, 0.153846153846154, \n0.110846560846561, 0.0416666666666666, 0.0909090909090909, 0.0504761904761905, \n0.0865808823529412, 0.0294117647058823, 0.111111111111111, 0.0519568151147098, \n0.101724137931034, 0.0909090909090909, 0.125, 0.064516129032258, \n0.05, 0, 0.25, 0.230769230769231, 0, 0.0974978685107995, 0.149537037037037, \n0.0909090909090909, 0.064516129032258, 0, 0, 0.109774106002554, \n0.130434782608696, 0, 0.0459864297625208, 0, 0.120192307692308, \n0.175, 0.178571428571428, 0.333333333333333, 0.0416666666666666, \n0.0909090909090909, 0.0952380952380952, 0.269230769230769, 0.117419617419617, \n0.154800671116461, 0.0833333333333333, 0, 0.0342391304347826, \n0.16, 0.21780303030303, 0.190238095238095, 0.442864187094956, \n0, 0.09375, 0.0950500870703068, 0, 0.110414762091333, 0.0598151848151848, \n0.105401844532279, 0.0588235294117647, 0.257955002513826, 0.083176268792251, \n0.143052631578947, 0.272727272727273, 0.294117647058823, 0.25, \n0.0714285714285714, 0.150479686424069, 0.147323811134072, 0.120220604697516, \n0.126204171082467, 0.1818720821662, 0.111111111111111, 0.12734962406015, \n0.105263157894737, 0.135135135135135, 0.0714285714285714, 0.0952380952380952, \n0.05, 0.14938080495356, 0.0537828947368421, 0, 0.333333333333333, \n0.171288122796743, 0.287065521624345, 0.284483785138479, 0.054054054054054, \n0.195159310676552, 0.176276276276276, 0.211111111111111, 0.45, \n0.222842955053321, 0.203911228301472, 0.21978021978022, 0.0666666666666666, \n0.136363636363636, 0.101724137931034, 0.109126984126984, 0.0461538461538461, \n0.169047619047619, 0.074074074074074, 0.121323529411765, 0.107407407407407, \n0.174442190669371, 0.0714285714285714, 0.08, 0.138528138528138, \n0.222222222222222, 0.222222222222222, 0.0625, 0.116017316017316, \n0.226422764227642, 0.19047619047619, 0.130434782608696, 0.212121212121212, \n0.0606617647058823, 0.0834782608695652, 0.278460675853443, 0.231756126530237, \n0.114285714285714, 0.202205882352941, 0.142857142857143, 0.125568054022001, \n0.14754972239792, 0.256493352326686, 0.166666666666667, 0.181528113638451, \n0.195121951219512, 0.0923504273504273, 0.115022479883512, 0.0870101986044015, \n0.175626856660627, 0.185185185185185, 0.170058717945667, 0.203296703296703, \n0.234444444444444, 0.180311890838207, 0.291666666666667, 0, 0.240193629899512, \n0, 0, 0.227743271221532, 0.0754985754985754, 0.16, 0.09375, 0.179487179487179, \n0.0833333333333333, 0.12051282051282, 0, 0.15695652173913, 0.165137614678899, \n0.128586797665745, 0.0684782608695652, 0.0655108014959735, 0.214285714285714, \n0, 0, 0.117681534152122, 0.0833333333333333, 0.0555555555555555, \n0.131111111111111, 0.0441595441595441, 0.12962962962963, 0.225524475524476, \n0.0416666666666666, 0.0588972431077694, 0.241379310344828, 0.0795454545454545, \n0.143709150326797, 0.0294117647058823, 0.111897800055695, 0.177865612648221, \n0.25, 0.0588235294117647, 0.168942577030812, 0.137931034482759, \n0.21421685340803, 0.125, 0.111263736263736, 0.152631578947368, \n0.111111111111111, 0.10230179028133, 0.125, 0.157894736842105, \n0.213290043290043, 0.0526315789473684, 0.103448275862069, 0.261363636363636, \n0.0384615384615384, 0.0526315789473684, 0.223193473193473, 0.0833333333333333, \n0.0971804511278195, 0.2, 0.023532668881506, 0.267534902373612, \n0, 0.137931034482759, 0.0357142857142857, 0.0714285714285714, \n0.0981900452488688, 0.0588235294117647, 0.116666666666667, 0.2, \n0.125, 0.162337662337662, 0.0064102564102564, 0.305555555555556, \n0, 0.1265664160401, 0.0861888111888112, 0.211111111111111, 0.0952380952380952, \n0.153641679957469, 0.117647058823529, 0.1625, 0.09375, 0.0906432748538011, \n0.25, 0.198082750582751, 0.0833333333333333, 0.136363636363636, \n0.0951597422185657, 0.129649927603892, 0.187830687830688, 0.128947368421053, \n0.103942652329749, 0.409090909090909, 0.183448275862069, 0.161212121212121, \n0.193548387096774, 0.1, 0.158333333333333, 0.15224726254138, \n0.10895589467018, 0.0573913043478261, 0.0980861244019138, 0.205263157894737, \n0.130434782608696, 0.0388888888888889, 0, 0.094298245614035, \n0.142857142857143, 0.19047619047619, 0, 0.0217391304347826, 0.0416666666666667, \n0.156581097351221, 0.0952380952380952, 0.1, 0, 0.113207797023147, \n0.111111111111111, 0.279775372200749, 0, 0.072422087767783, 0.122488529014845, \n0.170909090909091, 0, 0.208333333333333, 0.303846153846154, 0.14520161994634, \n0.129685157421289, 0.2, 0, 0, 0.181818181818182, 0.318840579710145, \n0.142857142857143, 0.189189189189189, 0.0833333333333333, 0, \n0.348068063413332, 0.153934940657429, 0.340501792114695, 0, 0.307692307692308, \n0.118809541578157, 0.116594516594517, 0.0555984555984556, 0.0625, \n0.142857142857143, 0.165295733678087, 0.207019704433497, 0.215078630897317, \n0.225, 0.163447079236553, 0.285786290322581, 0.227695374800638, \n0.384164644878931, 0.135135135135135, 0.307692307692308, 0.411764705882353, \n0.263157894736842, 0.194444444444444, 0.224223946784922, 0.178973933838466, \n0.105538847117794, 0.0848083137485311, 0.2625, 0.285714285714286, \n0.1, 0.111979044392114, 0.165454545454545, 0.115831095117473, \n0.318181818181818, 0.275, 0.106666666666667, 0.127659574468085, \n0.458333333333333, 0, 0.222222222222222, 0.0192307692307692, \n0.315789473684211, 0.243589743589744, 0.0886917815371762, 0.142857142857143, \n0.25, 0.125, 0, 0.222222222222222, 0.107260475249531, 0.0952380952380952, \n0.15, 0.146450934686229, 0.111111111111111, 0.173076923076923, \n0.13859649122807, 0.352941176470588, 0.0714285714285714, 0, 0.174242424242424, \n0.182720493295924, 0.08, 0, 0.081081081081081, 0.103448275862069, \n0.4, 0.142857142857143, 0.100446428571429, 0.206349206349206, \n0.0714285714285714, 0.2, 0.133928571428571, 0.0701754385964912, \n0.0820433436532507, 0.276388888888889, 0.135910631937696, 0.291666666666667, \n0, 0.0625, 0.16663425805894, 0.25, 0.25062656641604, 0.18452380952381, \n0.111111111111111, 0.148148148148148, 0.25, 0.35, 0.223660714285714, \n0.0434782608695652, 0.209050403787246, 0.263509570494865, 0.174962292609351, \n0.0416666666666666, 0.227272727272727, 0.281771751597311, 0.111111111111111, \n0.172413793103448, 0.348484848484848, 0.1875, 0.0952380952380952, \n0, 0.262891520244461, 0.262950058072009, 0, 0.411764705882353, \n0.166795366795367, 0.205882352941176, 0.138235294117647, 0.126117613060831, \n0.0909090909090909, 0.2, 0.0983870967741935, 0, 0.193548387096774, \n0.15, 0.103571428571429, 0.353801169590643, 0.166666666666667, \n0.302308802308802, 0.416666666666667, 0.11984126984127, 0.102941176470588, \n0.267590995342418, 0.0909090909090909, 0.0294117647058823, 0.8, \n0.246621621621622, 0.25, 0.0434782608695652, 0.0458333333333333, \n0.0294117647058823, 0.113096316425121, 0.0950116459627329, 0.0752732257995416, \n0.189597902097902, 0.157894736842105, 0.0467409606522509, 0.15, \n0.154270087178633, 0.0378571428571429, 0.151811594202898, 0.172222222222222, \n0.100432550275043, 0.0625, 0.289941902687001, 0.161111111111111, \n0.206380236305048, 0.1, 0.0846560846560846, 0.125, 0.0972222222222222, \n0.187965727226563, 0.25, 0.189127834408155, 0.0909090909090909, \n0.0902356902356902, 0.2, 0.161290322580645, 0.114285714285714, \n0.0384615384615384, 0.122909698996655, 0.0882079004214915, 0.285714285714286, \n0.115604575163399, 0.142857142857143, 0.285714285714286, 0.111111111111111, \n0.0476190476190476, 0.2, 0.203027498608164, 0.260869565217391, \n0.263219562305957, 0.0761172161172161, 0.137559486872988, 0.454545454545454, \n0.153703990901572, 0.25, 0, 0.2, 0.0714285714285714, 0.05, 0.141414141414141, \n0.142857142857143, 0.17989417989418, 0.133946608946609, 0.0444444444444444, \n0.0760684576861047, 0.302360602360602, 0.0714285714285714, 0.288461538461538, \n0.111415204678363, 0.0666666666666666, 0.146464646464646, 0.181878306878307, \n0.0880288957688338, 0.212885154061625, 0.0888888888888889, 0, \n0.169811320754717, 0.0952380952380952, 0.181818181818182, 0.0509607351712615, \n0.064516129032258, 0, 0.24907110262222, 0.208333333333333, 0.0769230769230769, \n0.072289156626506, 0.146428571428571, 0.187516160310278, 0.3, \n0.626373626373626, 0.0339861751152074, 0.0384615384615384, 0, \n0.0909090909090909, 0.220720720720721, 0.048780487804878, 0.11766334440753, \n0.117647058823529, 0.0754716981132075, 0, 0.080208151636723, \n0.147129186602871, 0.222222222222222), gender = c(\"female\", \"male\", \n\"male\", \"male\", \"male\", \"female\", \"male\", \"male\", \"male\", \"male\", \n\"male\", \"male\", \"male\", \"male\", \"male\", \"male\", \"female\", \"male\", \n\"male\", \"male\", \"female\", \"male\", \"male\", \"male\", \"male\", \"female\", \n\"male\", \"male\", \"male\", \"male\", \"male\", \"female\", \"female\", \"female\", \n\"male\", \"female\", \"female\", \"female\", \"female\", \"female\", \"female\", \n\"male\", \"male\", \"female\", \"male\", \"female\", \"female\", \"male\", \n\"male\", \"male\", \"female\", \"male\", \"male\", \"female\", \"female\", \n\"male\", \"male\", \"male\", \"male\", \"male\", \"male\", \"male\", \"male\", \n\"male\", \"male\", \"female\", \"male\", \"male\", \"male\", \"male\", \"male\", \n\"female\", \"female\", \"male\", \"male\", \"male\", \"male\", \"female\", \n\"female\", \"male\", \"female\", \"male\", \"male\", \"female\", \"male\", \n\"male\", \"male\", \"male\", \"male\", \"male\", \"female\", \"male\", \"male\", \n\"male\", \"female\", \"male\", \"male\", \"male\", \"male\", \"male\", \"male\", \n\"male\", \"female\", \"female\", \"male\", \"female\", \"male\", \"male\", \n\"male\", \"male\", \"male\", \"male\", \"male\", \"male\", \"male\", \"female\", \n\"male\", \"male\", \"male\", \"male\", \"male\", \"male\", \"male\", \"male\", \n\"male\", \"male\", \"male\", \"male\", \"male\", \"male\", \"male\", \"male\", \n\"male\", \"male\", \"male\", \"male\", \"female\", \"male\", \"male\", \"male\", \n\"male\", \"male\", \"male\", \"male\", \"male\", \"male\", \"male\", \"male\", \n\"female\", \"female\", \"female\", \"male\", \"male\", \"male\", \"male\", \n\"male\", \"male\", \"female\", \"male\", \"female\", \"male\", \"male\", \"male\", \n\"female\", \"male\", \"male\", \"male\", \"male\", \"male\", \"male\", \"male\", \n\"male\", \"male\", \"male\", \"male\", \"male\", \"female\", \"male\", \"male\", \n\"male\", \"male\", \"male\", \"male\", \"male\", \"male\", \"male\", \"male\", \n\"male\", \"female\", \"male\", \"male\", \"male\", \"male\", \"male\", \"female\", \n\"male\", \"male\", \"female\", \"male\", \"male\", \"female\", \"male\", \"male\", \n\"male\", \"male\", \"male\", \"male\", \"male\", \"male\", \"male\", \"female\", \n\"male\", \"male\", \"male\", \"female\", \"male\", \"male\", \"male\", \"male\", \n\"male\", \"male\", \"male\", \"female\", \"male\", \"male\", \"male\", \"male\", \n\"female\", \"female\", \"female\", \"female\", \"male\", \"male\", \"male\", \n\"male\", \"male\", \"female\", \"male\", \"male\", \"female\", \"male\", \"male\", \n\"male\", \"female\", \"male\", \"male\", \"male\", \"male\", \"male\", \"female\", \n\"male\", \"male\", \"male\", \"male\", \"female\", \"male\", \"female\", \"male\", \n\"male\", \"male\", \"male\", \"male\", \"male\", \"female\", \"male\", \"male\", \n\"male\", \"male\", \"male\", \"male\", \"male\", \"female\", \"male\", \"male\", \n\"female\", \"male\", \"male\", \"male\", \"female\", \"female\", \"male\", \n\"male\", \"female\", \"male\", \"male\", \"male\", \"male\", \"male\", \"male\", \n\"male\", \"male\", \"male\", \"female\", \"male\", \"male\", \"male\", \"male\", \n\"female\", \"male\", \"male\", \"male\", \"male\", \"male\", \"male\", \"female\", \n\"male\", \"male\", \"female\", \"male\", \"female\", \"male\", \"female\", \n\"female\", \"male\", \"male\", \"male\", \"male\", \"male\", \"male\", \"male\", \n\"male\", \"male\", \"male\", \"male\", \"male\", \"male\", \"male\", \"male\", \n\"male\", \"male\", \"male\", \"male\", \"male\", \"male\", \"male\", \"male\", \n\"female\", \"female\", \"male\", \"male\", \"male\", \"male\", \"male\", \"male\", \n\"male\", \"male\", \"male\", \"male\", \"male\", \"male\", \"male\", \"male\", \n\"male\", \"male\", \"male\", \"male\", \"female\", \"female\", \"male\", \"male\", \n\"male\", \"male\", \"male\", \"male\", \"male\", \"male\", \"male\", \"male\", \n\"female\", \"male\", \"male\", \"male\", \"male\", \"male\", \"female\", \"male\", \n\"female\", \"male\", \"male\", \"female\", \"male\", \"male\", \"male\", \"female\", \n\"male\", \"male\", \"male\", \"male\", \"male\", \"male\", \"male\", \"female\", \n\"male\", \"male\", \"female\", \"female\", \"male\", \"male\", \"male\", \"male\", \n\"male\", \"female\", \"male\", \"female\", \"female\", \"male\", \"male\", \n\"female\", \"male\", \"male\", \"male\", \"male\", \"female\", \"female\", \n\"male\", \"male\", \"male\", \"male\", \"male\", \"female\", \"male\", \"male\", \n\"female\", \"female\", \"male\", \"male\", \"male\", \"male\", \"male\", \"male\", \n\"female\", \"female\", \"female\", \"male\", \"male\", \"female\", \"male\", \n\"female\", \"male\", \"male\", \"male\", \"male\", \"male\", \"male\", \"male\", \n\"male\", \"male\", \"male\", \"male\", \"male\", \"female\", \"male\", \"male\", \n\"female\", \"male\", \"male\", \"male\", \"male\", \"male\", \"male\", \"male\", \n\"male\", \"male\", \"male\", \"female\", \"male\", \"female\", \"female\", \n\"female\", \"male\", \"female\", \"male\", \"female\", \"female\", \"male\", \n\"female\", \"male\", \"male\", \"male\", \"female\", \"female\", \"male\", \n\"male\", \"male\", \"male\", \"male\", \"male\", \"male\", \"male\", \"male\", \n\"male\", \"male\", \"male\", \"female\", \"male\", \"male\", \"male\", \"male\", \n\"female\", \"male\", \"female\", \"female\", \"female\", \"female\", \"female\", \n\"female\", \"male\", \"female\", \"female\", \"male\", \"male\", \"male\", \n\"male\", \"female\", \"female\", \"male\", \"male\", \"female\", \"male\", \n\"female\", \"female\", \"male\", \"male\", \"female\", \"male\", \"female\", \n\"male\", \"male\", \"male\", \"female\", \"male\", \"male\", \"male\", \"male\", \n\"male\", \"male\", \"male\", \"male\", \"male\", \"female\", \"male\", \"female\", \n\"male\", \"female\", \"male\", \"male\", \"male\", \"female\", \"female\", \n\"male\", \"male\", \"male\", \"male\", \"male\", \"male\", \"male\", \"male\", \n\"male\", \"male\", \"female\", \"female\", \"female\", \"male\", \"female\", \n\"male\", \"male\", \"female\", \"female\", \"male\", \"male\", \"male\", \"male\", \n\"female\", \"female\", \"male\", \"female\", \"male\", \"male\", \"female\", \n\"male\", \"female\", \"female\", \"male\", \"male\", \"female\", \"male\", \n\"female\", \"male\", \"female\", \"female\", \"male\", \"female\", \"male\", \n\"female\", \"female\", \"male\", \"male\", \"male\", \"male\", \"male\", \"male\", \n\"male\", \"male\", \"male\", \"male\", \"male\", \"female\", \"male\", \"female\", \n\"male\", \"male\", \"male\", \"male\", \"male\", \"female\", \"male\", \"male\", \n\"female\", \"male\", \"male\", \"male\", \"male\", \"male\", \"female\", \"male\", \n\"male\", \"female\", \"male\", \"male\", \"male\", \"male\", \"male\", \"female\", \n\"male\", \"male\", \"male\", \"male\", \"male\", \"male\", \"male\", \"male\", \n\"male\", \"male\", \"female\", \"male\", \"male\", \"male\", \"female\", \"male\", \n\"male\", \"male\", \"female\", \"male\", \"female\", \"male\", \"male\", \"male\", \n\"male\", \"male\", \"male\", \"female\", \"male\", \"male\", \"male\", \"male\", \n\"male\", \"male\", \"male\", \"male\", \"male\", \"male\", \"female\", \"male\", \n\"male\", \"male\", \"male\", \"male\", \"female\", \"male\", \"male\", \"female\", \n\"male\", \"male\", \"female\", \"male\", \"male\", \"male\", \"male\", \"female\", \n\"male\", \"male\", \"male\", \"male\", \"male\", \"female\", \"male\", \"female\", \n\"male\", \"male\", \"male\", \"male\", \"male\", \"male\", \"male\", \"male\", \n\"male\", \"male\", \"female\", \"male\", \"male\", \"male\", \"female\", \"male\", \n\"male\", \"male\", \"male\", \"male\", \"male\", \"male\", \"male\", \"male\", \n\"female\", \"male\", \"male\", \"male\", \"male\", \"male\", \"male\", \"male\", \n\"female\", \"male\"), year = structure(c(1L, 5L, 2L, 1L, 1L, 2L, \n2L, 2L, 3L, 3L, 3L, 4L, 5L, 3L, 3L, 1L, 5L, 3L, 2L, 2L, 2L, 4L, \n4L, 3L, 2L, 3L, 2L, 1L, 3L, 1L, 4L, 1L, 2L, 3L, 3L, 4L, 2L, 2L, \n4L, 5L, 1L, 4L, 2L, 2L, 5L, 4L, 3L, 3L, 4L, 4L, 3L, 5L, 1L, 5L, \n3L, 4L, 1L, 1L, 2L, 3L, 5L, 3L, 4L, 5L, 1L, 2L, 3L, 2L, 5L, 1L, \n5L, 1L, 2L, 4L, 1L, 3L, 5L, 1L, 2L, 2L, 4L, 4L, 5L, 2L, 2L, 3L, \n5L, 2L, 1L, 3L, 3L, 2L, 5L, 4L, 2L, 3L, 1L, 2L, 3L, 2L, 2L, 5L, \n5L, 3L, 4L, 2L, 1L, 2L, 2L, 2L, 3L, 3L, 4L, 5L, 5L, 5L, 2L, 5L, \n2L, 3L, 3L, 4L, 1L, 5L, 5L, 2L, 2L, 4L, 5L, 5L, 1L, 4L, 1L, 5L, \n2L, 3L, 2L, 2L, 5L, 4L, 5L, 2L, 2L, 2L, 2L, 5L, 3L, 4L, 4L, 4L, \n4L, 4L, 5L, 5L, 4L, 5L, 5L, 5L, 5L, 1L, 1L, 2L, 2L, 3L, 3L, 3L, \n4L, 5L, 4L, 2L, 1L, 3L, 2L, 5L, 1L, 3L, 3L, 4L, 5L, 2L, 2L, 3L, \n3L, 3L, 2L, 2L, 2L, 2L, 3L, 3L, 2L, 2L, 3L, 4L, 5L, 1L, 2L, 4L, \n1L, 1L, 1L, 2L, 2L, 2L, 3L, 1L, 5L, 3L, 4L, 5L, 5L, 5L, 5L, 5L, \n1L, 1L, 2L, 2L, 3L, 3L, 2L, 1L, 3L, 1L, 1L, 1L, 1L, 1L, 1L, 1L, \n1L, 1L, 1L, 1L, 1L, 1L, 1L, 2L, 2L, 2L, 2L, 2L, 2L, 2L, 2L, 2L, \n2L, 2L, 2L, 2L, 2L, 2L, 3L, 3L, 3L, 3L, 3L, 3L, 3L, 3L, 4L, 4L, \n4L, 4L, 5L, 5L, 5L, 5L, 5L, 5L, 5L, 5L, 2L, 2L, 3L, 3L, 3L, 3L, \n3L, 3L, 3L, 3L, 2L, 3L, 3L, 5L, 2L, 5L, 1L, 2L, 2L, 3L, 1L, 1L, \n1L, 2L, 2L, 3L, 3L, 3L, 3L, 5L, 5L, 1L, 2L, 3L, 1L, 1L, 2L, 4L, \n3L, 4L, 4L, 5L, 5L, 5L, 2L, 2L, 2L, 3L, 3L, 4L, 3L, 4L, 5L, 1L, \n2L, 2L, 3L, 3L, 4L, 5L, 2L, 2L, 3L, 1L, 2L, 2L, 4L, 3L, 3L, 5L, \n1L, 2L, 3L, 3L, 3L, 4L, 5L, 3L, 1L, 1L, 1L, 1L, 1L, 1L, 2L, 2L, \n2L, 2L, 2L, 2L, 2L, 2L, 2L, 2L, 2L, 2L, 2L, 2L, 2L, 2L, 2L, 3L, \n3L, 4L, 3L, 3L, 3L, 4L, 4L, 4L, 4L, 4L, 4L, 4L, 4L, 5L,\n\n*** WARNING: max output size exceeded, skipping output. ***\n\nntal sciences\", \n\"environmental sciences\", \"environmental sciences\", \"chemical physics\", \n\"analytical chemistry\", \"environmental sciences\", \"meteorology & atmospheric sciences\", \n\"environmental sciences\", \"meteorology & atmospheric sciences\", \n\"plant biology & botany\", \"optics\", \"analytical chemistry\", \"analytical chemistry\", \n\"chemical physics\", \"chemical physics\", \"analytical chemistry\", \n\"analytical chemistry\", \"meteorology & atmospheric sciences\", \n\"environmental sciences\", \"environmental sciences\", \"environmental sciences\", \n\"environmental sciences\", \"applied physics\", \"environmental sciences\", \n\"environmental sciences\", \"environmental sciences\", \"environmental sciences\", \n\"environmental sciences\", \"environmental sciences\", \"environmental sciences\", \n\"environmental sciences\", \"environmental sciences\", \"environmental sciences\", \n\"environmental sciences\", \"environmental sciences\", \"environmental sciences\", \n\"environmental sciences\", \"environmental sciences\", \"environmental sciences\", \n\"meteorology & atmospheric sciences\", \"organic chemistry\", \"entomology\", \n\"medicinal & biomolecular chemistry\", \"organic chemistry\", \"chemical physics\", \n\"applied physics\", \"organic chemistry\", \"applied physics\", \"physical chemistry\", \n\"applied physics\", \"applied physics\", \"organic chemistry\", \"optics\", \n\"applied physics\", \"organic chemistry\", \"organic chemistry\", \n\"plant biology & botany\", \"chemical physics\", \"polymers\", \"applied physics\", \n\"analytical chemistry\", \"physical chemistry\", \"organic chemistry\", \n\"organic chemistry\", \"analytical chemistry\", \"polymers\", \"polymers\", \n\"organic chemistry\", \"organic chemistry\", \"environmental sciences\", \n\"applied physics\", \"organic chemistry\", \"chemical physics\", \"organic chemistry\", \n\"chemical physics\", \"applied physics\", \"organic chemistry\", \"organic chemistry\", \n\"optics\", \"analytical chemistry\", \"analytical chemistry\", \"physical chemistry\", \n\"chemical physics\", \"chemical physics\", \"organic chemistry\", \n\"analytical chemistry\", \"organic chemistry\", \"inorganic & nuclear chemistry\", \n\"general chemistry\", \"organic chemistry\", \"polymers\", \"physical chemistry\", \n\"environmental sciences\", \"optics\", \"optics\", \"optics\", \"marine biology & hydrobiology\", \n\"meteorology & atmospheric sciences\", \"chemical physics\", \"meteorology & atmospheric sciences\", \n\"plant biology & botany\", \"plant biology & botany\", \"entomology\", \n\"chemical physics\", \"physical chemistry\", \"optics\", \"ecology\", \n\"meteorology & atmospheric sciences\", \"applied physics\", \"applied physics\", \n\"meteorology & atmospheric sciences\", \"applied physics\", \"optics\", \n\"applied physics\", \"fluids & plasmas\", \"meteorology & atmospheric sciences\", \n\"fluids & plasmas\", \"optics\", \"fluids & plasmas\", \"fluids & plasmas\", \n\"fluids & plasmas\", \"environmental sciences\", \"polymers\", \"meteorology & atmospheric sciences\", \n\"meteorology & atmospheric sciences\", \"marine biology & hydrobiology\", \n\"evolutionary biology\", \"chemical physics\", \"optics\", \"applied physics\", \n\"meteorology & atmospheric sciences\", \"applied physics\", \"inorganic & nuclear chemistry\", \n\"organic chemistry\", \"environmental sciences\", \"environmental sciences\", \n\"applied physics\", \"environmental sciences\", \"organic chemistry\", \n\"organic chemistry\", \"organic chemistry\", \"applied physics\", \n\"polymers\", \"meteorology & atmospheric sciences\", \"plant biology & botany\", \n\"evolutionary biology\", \"plant biology & botany\", \"ecology\", \n\"plant biology & botany\", \"plant biology & botany\", \"plant biology & botany\", \n\"plant biology & botany\", \"analytical chemistry\", \"applied physics\", \n\"astronomy & astrophysics\", \"meteorology & atmospheric sciences\", \n\"astronomy & astrophysics\", \"astronomy & astrophysics\", \"organic chemistry\", \n\"analytical chemistry\", \"organic chemistry\", \"polymers\", \"inorganic & nuclear chemistry\", \n\"organic chemistry\", \"meteorology & atmospheric sciences\", \"marine biology & hydrobiology\", \n\"meteorology & atmospheric sciences\", \"meteorology & atmospheric sciences\", \n\"marine biology & hydrobiology\", \"meteorology & atmospheric sciences\", \n\"meteorology & atmospheric sciences\", \"meteorology & atmospheric sciences\", \n\"environmental sciences\", \"meteorology & atmospheric sciences\", \n\"meteorology & atmospheric sciences\", \"evolutionary biology\", \n\"evolutionary biology\", \"ecology\", \"applied physics\", \"physical chemistry\", \n\"environmental sciences\", \"meteorology & atmospheric sciences\", \n\"organic chemistry\", \"organic chemistry\", \"physical chemistry\", \n\"physical chemistry\", \"applied physics\", \"applied physics\", \"astronomy & astrophysics\", \n\"astronomy & astrophysics\", \"astronomy & astrophysics\", \"meteorology & atmospheric sciences\", \n\"marine biology & hydrobiology\", \"astronomy & astrophysics\", \n\"ecology\", \"geochemistry & geophysics\", \"meteorology & atmospheric sciences\", \n\"applied physics\", \"optics\", \"organic chemistry\", \"applied physics\", \n\"general physics\", \"applied physics\", \"organic chemistry\", \"plant biology & botany\", \n\"applied physics\", \"chemical physics\", \"applied physics\", \"optics\", \n\"optics\", \"general physics\", \"optics\", \"applied physics\", \"chemical physics\", \n\"fluids & plasmas\", \"general physics\", \"fluids & plasmas\", \"fluids & plasmas\", \n\"fluids & plasmas\", \"general physics\", \"general physics\", \"chemical physics\", \n\"oceanography\", \"meteorology & atmospheric sciences\", \"general physics\", \n\"meteorology & atmospheric sciences\", \"meteorology & atmospheric sciences\", \n\"meteorology & atmospheric sciences\", \"meteorology & atmospheric sciences\", \n\"ecology\", \"fluids & plasmas\", \"meteorology & atmospheric sciences\", \n\"general physics\", \"chemical physics\", \"meteorology & atmospheric sciences\", \n\"chemical physics\", \"environmental sciences\", \"fluids & plasmas\", \n\"astronomy & astrophysics\", \"general physics\", \"meteorology & atmospheric sciences\", \n\"general physics\", \"meteorology & atmospheric sciences\", \"organic chemistry\", \n\"general physics\", \"environmental sciences\", \"chemical physics\", \n\"geochemistry & geophysics\", \"organic chemistry\", \"ecology\", \n\"astronomy & astrophysics\", \"applied physics\", \"fluids & plasmas\", \n\"marine biology & hydrobiology\", \"fluids & plasmas\", \"polymers\", \n\"meteorology & atmospheric sciences\", \"marine biology & hydrobiology\", \n\"applied physics\", \"polymers\", \"marine biology & hydrobiology\", \n\"applied physics\", \"plant biology & botany\", \"organic chemistry\", \n\"fluids & plasmas\", \"meteorology & atmospheric sciences\", \"environmental sciences\", \n\"geochemistry & geophysics\", \"meteorology & atmospheric sciences\", \n\"meteorology & atmospheric sciences\", \"analytical chemistry\", \n\"marine biology & hydrobiology\", \"evolutionary biology\", \"marine biology & hydrobiology\", \n\"plant biology & botany\", \"meteorology & atmospheric sciences\", \n\"environmental sciences\", \"plant biology & botany\", \"marine biology & hydrobiology\", \n\"plant biology & botany\", \"marine biology & hydrobiology\", \"environmental sciences\", \n\"environmental sciences\", \"environmental sciences\", \"ecology\", \n\"polymers\", \"environmental sciences\", \"organic chemistry\", \"ecology\", \n\"applied physics\", \"applied physics\", \"chemical physics\", \"chemical physics\", \n\"chemical physics\", \"organic chemistry\", \"chemical physics\", \n\"ecology\", \"chemical physics\", \"plant biology & botany\", \"chemical physics\", \n\"analytical chemistry\", \"environmental sciences\", \"chemical physics\", \n\"fluids & plasmas\", \"fluids & plasmas\", \"polymers\", \"analytical chemistry\", \n\"inorganic & nuclear chemistry\", \"analytical chemistry\", \"chemical physics\", \n\"environmental sciences\", \"chemical physics\", \"applied physics\", \n\"environmental sciences\", \"applied physics\", \"applied physics\", \n\"applied physics\", \"applied physics\", \"optics\", \"polymers\", \"fluids & plasmas\", \n\"optics\", \"chemical physics\", \"optics\", \"applied physics\", \"meteorology & atmospheric sciences\", \n\"meteorology & atmospheric sciences\", \"optics\", \"organic chemistry\", \n\"physical chemistry\", \"chemical physics\", \"physical chemistry\", \n\"applied physics\", \"meteorology & atmospheric sciences\", \"meteorology & atmospheric sciences\", \n\"evolutionary biology\", \"ecology\", \"meteorology & atmospheric sciences\", \n\"ecology\", \"applied physics\", \"ecology\", \"ecology\", \"chemical physics\", \n\"organic chemistry\", \"paleontology\", \"optics\", \"meteorology & atmospheric sciences\", \n\"meteorology & atmospheric sciences\", \"plant biology & botany\", \n\"meteorology & atmospheric sciences\", \"plant biology & botany\", \n\"analytical chemistry\", \"inorganic & nuclear chemistry\", \"environmental sciences\", \n\"organic chemistry\", \"ecology\", \"fluids & plasmas\", \"environmental sciences\", \n\"chemical physics\", \"astronomy & astrophysics\", \"chemical physics\", \n\"astronomy & astrophysics\", \"geochemistry & geophysics\", \"evolutionary biology\", \n\"physical chemistry\", \"marine biology & hydrobiology\", \"fluids & plasmas\", \n\"meteorology & atmospheric sciences\", \"applied physics\", \"evolutionary biology\", \n\"applied physics\", \"fluids & plasmas\", \"geochemistry & geophysics\", \n\"evolutionary biology\", \"environmental sciences\", \"optics\", \"medicinal & biomolecular chemistry\", \n\"ecology\", \"meteorology & atmospheric sciences\", \"meteorology & atmospheric sciences\", \n\"chemical physics\", \"plant biology & botany\", \"applied physics\", \n\"marine biology & hydrobiology\", \"ecology\", \"chemical physics\", \n\"chemical physics\", \"applied physics\", \"polymers\", \"evolutionary biology\", \n\"environmental sciences\", \"environmental sciences\", \"environmental sciences\", \n\"marine biology & hydrobiology\", \"ecology\", \"astronomy & astrophysics\", \n\"meteorology & atmospheric sciences\", \"ecology\", \"meteorology & atmospheric sciences\", \n\"meteorology & atmospheric sciences\", \"meteorology & atmospheric sciences\", \n\"environmental sciences\", \"environmental sciences\", \"meteorology & atmospheric sciences\", \n\"environmental sciences\", \"meteorology & atmospheric sciences\", \n\"environmental sciences\", \"environmental sciences\", \"meteorology & atmospheric sciences\", \n\"meteorology & atmospheric sciences\", \"meteorology & atmospheric sciences\", \n\"environmental sciences\", \"ecology\", \"environmental sciences\", \n\"ecology\", \"astronomy & astrophysics\", \"entomology\", \"ecology\", \n\"ecology\", \"environmental sciences\", \"ecology\", \"ecology\", \"plant biology & botany\", \n\"plant biology & botany\", \"evolutionary biology\", \"marine biology & hydrobiology\", \n\"evolutionary biology\", \"evolutionary biology\", \"plant biology & botany\", \n\"ecology\", \"entomology\", \"evolutionary biology\", \"marine biology & hydrobiology\", \n\"ecology\", \"ecology\", \"ecology\", \"marine biology & hydrobiology\", \n\"ecology\", \"paleontology\", \"ecology\", \"applied physics\", \"environmental sciences\", \n\"plant biology & botany\", \"marine biology & hydrobiology\", \"ecology\", \n\"ecology\", \"evolutionary biology\", \"ecology\", \"ecology\", \"ecology\", \n\"ecology\", \"ecology\", \"ecology\", \"ecology\", \"ecology\", \"marine biology & hydrobiology\", \n\"meteorology & atmospheric sciences\", \"ecology\", \"marine biology & hydrobiology\", \n\"ecology\", \"meteorology & atmospheric sciences\", \"meteorology & atmospheric sciences\", \n\"ecology\", \"marine biology & hydrobiology\", \"ecology\", \"marine biology & hydrobiology\", \n\"meteorology & atmospheric sciences\", \"ecology\", \"ecology\", \"ecology\", \n\"plant biology & botany\", \"plant biology & botany\", \"ecology\", \n\"plant biology & botany\", \"plant biology & botany\", \"plant biology & botany\", \n\"plant biology & botany\", \"plant biology & botany\", \"marine biology & hydrobiology\", \n\"environmental sciences\", \"applied physics\", \"optics\", \"marine biology & hydrobiology\", \n\"optics\", \"polymers\", \"applied physics\", \"meteorology & atmospheric sciences\", \n\"chemical physics\", \"meteorology & atmospheric sciences\", \"meteorology & atmospheric sciences\", \n\"analytical chemistry\", \"optics\", \"applied physics\", \"ecology\", \n\"meteorology & atmospheric sciences\", \"marine biology & hydrobiology\", \n\"meteorology & atmospheric sciences\", \"evolutionary biology\", \n\"optics\", \"environmental sciences\", \"ecology\", \"polymers\", \"analytical chemistry\", \n\"chemical physics\", \"chemical physics\", \"analytical chemistry\", \n\"applied physics\", \"chemical physics\", \"polymers\", \"applied physics\", \n\"environmental sciences\", \"applied physics\", \"meteorology & atmospheric sciences\", \n\"ecology\", \"polymers\", \"meteorology & atmospheric sciences\", \n\"environmental sciences\", \"organic chemistry\", \"general physics\", \n\"polymers\", \"ecology\", \"polymers\", \"general physics\", \"applied physics\", \n\"applied physics\", \"organic chemistry\", \"organic chemistry\", \n\"plant biology & botany\", \"applied physics\", \"meteorology & atmospheric sciences\", \n\"applied physics\", \"general physics\", \"organic chemistry\", \"polymers\", \n\"organic chemistry\", \"applied physics\", \"chemical physics\", \"applied physics\", \n\"ecology\", \"ecology\", \"optics\", \"environmental sciences\", \"physical chemistry\", \n\"environmental sciences\", \"applied physics\", \"polymers\", \"general physics\", \n\"ecology\", \"inorganic & nuclear chemistry\", \"evolutionary biology\", \n\"chemical physics\", \"meteorology & atmospheric sciences\", \"marine biology & hydrobiology\", \n\"meteorology & atmospheric sciences\", \"environmental sciences\", \n\"polymers\", \"environmental sciences\", \"marine biology & hydrobiology\", \n\"entomology\", \"marine biology & hydrobiology\", \"ecology\", \"ecology\", \n\"meteorology & atmospheric sciences\", \"ecology\", \"plant biology & botany\", \n\"environmental sciences\", \"marine biology & hydrobiology\", \"plant biology & botany\", \n\"environmental sciences\", \"polymers\", \"plant biology & botany\", \n\"plant biology & botany\", \"plant biology & botany\", \"plant biology & botany\", \n\"entomology\", \"evolutionary biology\", \"marine biology & hydrobiology\", \n\"ecology\", \"ecology\", \"environmental sciences\", \"marine biology & hydrobiology\", \n\"plant biology & botany\", \"astronomy & astrophysics\", \"environmental sciences\", \n\"ecology\", \"plant biology & botany\", \"environmental sciences\", \n\"environmental sciences\", \"astronomy & astrophysics\", \"astronomy & astrophysics\", \n\"polymers\", \"plant biology & botany\", \"analytical chemistry\", \n\"plant biology & botany\", \"environmental sciences\", \"environmental sciences\", \n\"acoustics\", \"astronomy & astrophysics\", \"astronomy & astrophysics\", \n\"ecology\", \"evolutionary biology\", \"marine biology & hydrobiology\", \n\"entomology\"), q = structure(c(3L, 3L, 3L, 3L, 3L, 3L, 3L, 3L, \n3L, 3L, 3L, 3L, 3L, 3L, 3L, 3L, 3L, 3L, 3L, 3L, 3L, 3L, 3L, 3L, \n3L, 3L, 3L, 3L, 3L, 3L, 3L, 3L, 3L, 3L, 3L, 3L, 3L, 3L, 3L, 3L, \n3L, 3L, 3L, 3L, 3L, 3L, 3L, 3L, 3L, 3L, 3L, 3L, 3L, 3L, 3L, 3L, \n3L, 3L, 3L, 3L, 3L, 3L, 3L, 3L, 3L, 3L, 3L, 3L, 3L, 3L, 3L, 3L, \n3L, 3L, 3L, 3L, 3L, 3L, 3L, 3L, 3L, 3L, 3L, 3L, 3L, 3L, 3L, 3L, \n3L, 3L, 3L, 3L, 3L, 3L, 3L, 3L, 3L, 3L, 3L, 3L, 3L, 3L, 3L, 3L, \n3L, 3L, 3L, 3L, 3L, 3L, 3L, 3L, 3L, 3L, 3L, 3L, 3L, 3L, 3L, 3L, \n3L, 3L, 3L, 3L, 3L, 3L, 3L, 3L, 3L, 3L, 3L, 3L, 3L, 3L, 3L, 3L, \n3L, 3L, 3L, 3L, 3L, 3L, 3L, 3L, 3L, 3L, 3L, 3L, 3L, 3L, 3L, 3L, \n3L, 3L, 3L, 3L, 3L, 3L, 3L, 3L, 3L, 3L, 3L, 3L, 3L, 3L, 3L, 3L, \n3L, 3L, 3L, 3L, 3L, 3L, 3L, 3L, 3L, 3L, 3L, 3L, 3L, 3L, 3L, 3L, \n3L, 3L, 3L, 3L, 3L, 3L, 3L, 3L, 3L, 3L, 3L, 3L, 3L, 3L, 3L, 3L, \n3L, 3L, 3L, 3L, 3L, 3L, 3L, 3L, 3L, 3L, 3L, 3L, 3L, 3L, 3L, 3L, \n3L, 3L, 3L, 3L, 3L, 3L, 3L, 3L, 3L, 3L, 3L, 3L, 3L, 3L, 3L, 3L, \n3L, 3L, 3L, 3L, 3L, 3L, 3L, 3L, 3L, 3L, 3L, 3L, 3L, 3L, 3L, 3L, \n3L, 3L, 3L, 3L, 3L, 3L, 3L, 3L, 3L, 3L, 3L, 3L, 3L, 3L, 3L, 3L, \n3L, 3L, 3L, 3L, 3L, 3L, 3L, 3L, 3L, 3L, 3L, 3L, 3L, 3L, 3L, 3L, \n3L, 3L, 3L, 3L, 3L, 3L, 3L, 3L, 3L, 3L, 3L, 3L, 3L, 3L, 3L, 3L, \n3L, 3L, 3L, 3L, 3L, 3L, 3L, 3L, 3L, 3L, 3L, 3L, 3L, 3L, 3L, 3L, \n3L, 3L, 3L, 3L, 3L, 3L, 3L, 3L, 3L, 3L, 3L, 3L, 3L, 3L, 3L, 3L, \n3L, 3L, 3L, 3L, 3L, 3L, 3L, 3L, 3L, 3L, 3L, 3L, 3L, 3L, 3L, 3L, \n3L, 3L, 3L, 3L, 3L, 3L, 3L, 3L, 3L, 3L, 3L, 3L, 3L, 3L, 3L, 3L, \n3L, 3L, 3L, 3L, 3L, 3L, 3L, 3L, 3L, 3L, 3L, 3L, 3L, 3L, 3L, 3L, \n3L, 3L, 3L, 3L, 3L, 3L, 3L, 3L, 3L, 3L, 3L, 3L, 3L, 3L, 3L, 3L, \n3L, 3L, 3L, 3L, 3L, 3L, 3L, 3L, 3L, 3L, 3L, 3L, 3L, 3L, 3L, 3L, \n3L, 3L, 3L, 3L, 3L, 3L, 3L, 3L, 3L, 3L, 3L, 3L, 3L, 3L, 3L, 3L, \n3L, 3L, 3L, 3L, 3L, 3L, 3L, 3L, 3L, 3L, 3L, 3L, 3L, 3L, 3L, 3L, \n3L, 2L, 3L, 3L, 3L, 3L, 3L, 3L, 3L, 3L, 3L, 3L, 3L, 3L, 3L, 3L, \n3L, 3L, 3L, 3L, 3L, 3L, 3L, 3L, 3L, 3L, 3L, 3L, 3L, 3L, 3L, 3L, \n3L, 3L, 3L, 3L, 3L, 3L, 3L, 3L, 3L, 3L, 3L, 3L, 3L, 3L, 3L, 3L, \n3L, 3L, 3L, 3L, 3L, 3L, 3L, 3L, 3L, 3L, 3L, 3L, 3L, 3L, 3L, 3L, \n3L, 3L, 3L, 3L, 3L, 3L, 3L, 3L, 3L, 3L, 3L, 3L, 3L, 3L, 3L, 3L, \n3L, 3L, 3L, 3L, 2L, 3L, 3L, 3L, 3L, 3L, 3L, 3L, 3L, 3L, 3L, 3L, \n3L, 3L, 3L, 3L, 3L, 3L, 3L, 3L, 2L, 3L, 3L, 3L, 3L, 3L, 3L, 3L, \n3L, 3L, 3L, 3L, 3L, 3L, 3L, 3L, 3L, 3L, 3L, 3L, 3L, 3L, 3L, 3L, \n3L, 3L, 3L, 3L, 3L, 3L, 3L, 3L, 3L, 3L, 3L, 3L, 3L, 3L, 3L, 3L, \n3L, 3L, 3L, 3L, 3L, 3L, 3L, 3L, 3L, 3L, 3L, 3L, 3L, 3L, 3L, 3L, \n2L, 3L, 3L, 3L, 3L, 3L, 3L, 3L, 3L, 3L, 3L, 3L, 3L, 3L, 3L, 3L, \n3L, 3L, 3L, 3L, 3L, 3L, 3L, 3L, 3L, 3L, 3L, 3L, 3L, 3L, 3L, 3L, \n3L, 3L, 3L, 3L, 3L, 3L, 3L, 3L, 3L, 3L, 3L, 3L, 3L, 3L, 3L, 3L, \n3L, 3L, 3L, 3L, 3L, 3L, 3L, 3L, 3L, 3L, 3L, 3L, 3L, 3L, 3L, 3L, \n3L, 3L, 3L, 3L, 3L, 3L, 3L, 3L, 3L, 3L, 3L, 3L, 3L, 3L, 3L, 3L, \n3L, 3L, 3L, 3L, 3L, 3L, 3L, 3L, 3L, 3L, 3L, 3L, 3L, 3L, 3L, 3L, \n3L, 3L, 3L, 3L, 3L, 3L, 3L, 3L, 3L, 3L, 3L, 3L, 3L, 3L, 3L, 3L, \n3L, 2L, 3L, 3L, 3L, 3L, 3L, 3L, 3L, 3L, 1L, 3L, 3L, 3L, 3L, 2L, \n3L, 3L, 3L), .Label = c(\"1\", \"2\", \"3\"), class = \"factor\")), class = \"data.frame\", row.names = c(\"70\", \n\"105\", \"109\", \"114\", \"125\", \"136\", \"139\", \"142\", \"153\", \"156\", \n\"157\", \"165\", \"181\", \"203\", \"204\", \"222\", \"251\", \"252\", \"258\", \n\"259\", \"262\", \"266\", \"269\", \"271\", \"278\", \"280\", \"281\", \"283\", \n\"284\", \"286\", \"298\", \"302\", \"307\", \"311\", \"315\", \"317\", \"322\", \n\"323\", \"328\", \"331\", \"332\", \"336\", \"337\", \"342\", \"344\", \"352\", \n\"357\", \"362\", \"363\", \"379\", \"396\", \"402\", \"413\", \"418\", \"423\", \n\"427\", \"428\", \"430\", \"431\", \"433\", \"434\", \"439\", \"451\", \"459\", \n\"473\", \"477\", \"478\", \"489\", \"500\", \"507\", \"534\", \"560\", \"561\", \n\"562\", \"564\", \"616\", \"668\", \"678\", \"680\", \"681\", \"686\", \"687\", \n\"688\", \"722\", \"723\", \"726\", \"732\", \"743\", \"746\", \"747\", \"748\", \n\"749\", \"796\", \"802\", \"818\", \"849\", \"853\", \"854\", \"855\", \"873\", \n\"912\", \"914\", \"916\", \"921\", \"927\", \"940\", \"974\", \"983\", \"987\", \n\"996\", \"1006\", \"1011\", \"1022\", \"1032\", \"1034\", \"1036\", \"1059\", \n\"1069\", \"1071\", \"1084\", \"1086\", \"1090\", \"1103\", \"1109\", \"1121\", \n\"1143\", \"1174\", \"1184\", \"1185\", \"1188\", \"1192\", \"1193\", \"1209\", \n\"1222\", \"1228\", \"1231\", \"1263\", \"1269\", \"1276\", \"1277\", \"1278\", \n\"1279\", \"1280\", \"1283\", \"1284\", \"1286\", \"1295\", \"1297\", \"1299\", \n\"1301\", \"1302\", \"1303\", \"1305\", \"1308\", \"1310\", \"1311\", \"1313\", \n\"1314\", \"1315\", \"1319\", \"1324\", \"1332\", \"1335\", \"1336\", \"1339\", \n\"1340\", \"1342\", \"1343\", \"1346\", \"1357\", \"1360\", \"1363\", \"1366\", \n\"1367\", \"1368\", \"1378\", \"1383\", \"1388\", \"1390\", \"1404\", \"1405\", \n\"1409\", \"1410\", \"1411\", \"1449\", \"1452\", \"1455\", \"1457\", \"1461\", \n\"1475\", \"1479\", \"1480\", \"1481\", \"1485\", \"1486\", \"1487\", \"1489\", \n\"1497\", \"1545\", \"1554\", \"1558\", \"1564\", \"1568\", \"1586\", \"1590\", \n\"1593\", \"1600\", \"1605\", \"1606\", \"1613\", \"1629\", \"1630\", \"1632\", \n\"1633\", \"1637\", \"1639\", \"1645\", \"1646\", \"1647\", \"1648\", \"1682\", \n\"1689\", \"1691\", \"1710\", \"1711\", \"1715\", \"1716\", \"1719\", \"1722\", \n\"1723\", \"1728\", \"1732\", \"1734\", \"1740\", \"1748\", \"1758\", \"1763\", \n\"1783\", \"1785\", \"1792\", \"1794\", \"1804\", \"1806\", \"1809\", \"1810\", \n\"1811\", \"1823\", \"1838\", \"1841\", \"1846\", \"1850\", \"1857\", \"1858\", \n\"1863\", \"1865\", \"1868\", \"1873\", \"1877\", \"1881\", \"1895\", \"1910\", \n\"1916\", \"1926\", \"1931\", \"1938\", \"1941\", \"1959\", \"1962\", \"1963\", \n\"1967\", \"1972\", \"1973\", \"1980\", \"1982\", \"1983\", \"1985\", \"1988\", \n\"1989\", \"1990\", \"1991\", \"2009\", \"2011\", \"2019\", \"2020\", \"2021\", \n\"2022\", \"2033\", \"2052\", \"2056\", \"2057\", \"2060\", \"2061\", \"2063\", \n\"2064\", \"2067\", \"2070\", \"2072\", \"2074\", \"2075\", \"2076\", \"2077\", \n\"2078\", \"2080\", \"2081\", \"2089\", \"2094\", \"2104\", \"2112\", \"2124\", \n\"2136\", \"2137\", \"2153\", \"2157\", \"2162\", \"2167\", \"2173\", \"2176\", \n\"2177\", \"2178\", \"2179\", \"2180\", \"2181\", \"2182\", \"2183\", \"2184\", \n\"2194\", \"2206\", \"2208\", \"2217\", \"2225\", \"2235\", \"2246\", \"2268\", \n\"2271\", \"2275\", \"2290\", \"2293\", \"2294\", \"2295\", \"2297\", \"2298\", \n\"2301\", \"2305\", \"2306\", \"2307\", \"2308\", \"2310\", \"2311\", \"2313\", \n\"2320\", \"2323\", \"2327\", \"2329\", \"2331\", \"2335\", \"2336\", \"2339\", \n\"2342\", \"2345\", \"2347\", \"2348\", \"2351\", \"2353\", \"2354\", \"2355\", \n\"2356\", \"2358\", \"2360\", \"2361\", \"2362\", \"2365\", \"2368\", \"2369\", \n\"2370\", \"2371\", \"2374\", \"2384\", \"2391\", \"2396\", \"2399\", \"2400\", \n\"2402\", \"2403\", \"2405\", \"2415\", \"2422\", \"2423\", \"2438\", \"2451\", \n\"2453\", \"2488\", \"2498\", \"2527\", \"2537\", \"2542\", \"2543\", \"2554\", \n\"2567\", \"2573\", \"2578\", \"2583\", \"2588\", \"2591\", \"2592\", \"2596\", \n\"2601\", \"2610\", \"2621\", \"2634\", \"2648\", \"2666\", \"2677\", \"2678\", \n\"2680\", \"2682\", \"2684\", \"2690\", \"2698\", \"2704\", \"2706\", \"2713\", \n\"2714\", \"2717\", \"2718\", \"2719\", \"2724\", \"2734\", \"2747\", \"2752\", \n\"2756\", \"2767\", \"2768\", \"2769\", \"2777\", \"2778\", \"2779\", \"2784\", \n\"2786\", \"2792\", \"2793\", \"2803\", \"2817\", \"2820\", \"2821\", \"2824\", \n\"2826\", \"2828\", \"2845\", \"2847\", \"2848\", \"2849\", \"2852\", \"2857\", \n\"2861\", \"2863\", \"2867\", \"2870\", \"2873\", \"2877\", \"2881\", \"2891\", \n\"2893\", \"2897\", \"2910\", \"2913\", \"2916\", \"2922\", \"2931\", \"2936\", \n\"2938\", \"2946\", \"2947\", \"2948\", \"2951\", \"2956\", \"2957\", \"2958\", \n\"2959\", \"2965\", \"2973\", \"2976\", \"2978\", \"2979\", \"2986\", \"2988\", \n\"2999\", \"3001\", \"3002\", \"3003\", \"3011\", \"3013\", \"3014\", \"3032\", \n\"3034\", \"3035\", \"3037\", \"3039\", \"3042\", \"3047\", \"3051\", \"3052\", \n\"3059\", \"3061\", \"3062\", \"3064\", \"3065\", \"3066\", \"3068\", \"3074\", \n\"3078\", \"3079\", \"3088\", \"3093\", \"3095\", \"3098\", \"3108\", \"3118\", \n\"3121\", \"3150\", \"3162\", \"3163\", \"3180\", \"3182\", \"3184\", \"3185\", \n\"3192\", \"3194\", \"3195\", \"3200\", \"3201\", \"3203\", \"3205\", \"3206\", \n\"3214\", \"3215\", \"3218\", \"3221\", \"3224\", \"3225\", \"3231\", \"3233\", \n\"3237\", \"3242\", \"3245\", \"3263\", \"3278\", \"3279\", \"3290\", \"3292\", \n\"3323\", \"3328\", \"3329\", \"3331\", \"3333\", \"3334\", \"3335\", \"3345\", \n\"3352\", \"3359\", \"3364\", \"3367\", \"3368\", \"3372\", \"3373\", \"3374\", \n\"3377\", \"3379\", \"3380\", \"3386\", \"3387\", \"3393\", \"3395\", \"3396\", \n\"3397\", \"3398\", \"3404\", \"3431\", \"3432\", \"3433\", \"3436\", \"3443\", \n\"3444\", \"3450\", \"3453\", \"3455\", \"3459\", \"3461\", \"3462\", \"3463\", \n\"3465\", \"3471\", \"3474\", \"3475\", \"3477\", \"3480\", \"3481\", \"3488\", \n\"3511\", \"3514\", \"3518\", \"3519\", \"3528\", \"3529\", \"3530\", \"3532\", \n\"3533\", \"3538\", \"3543\", \"3546\", \"3551\", \"3553\", \"3556\", \"3557\", \n\"3574\", \"3582\", \"3588\", \"3598\", \"3602\", \"3608\", \"3610\", \"3618\", \n\"3620\", \"3621\", \"3623\", \"3628\", \"3633\", \"3634\", \"3638\", \"3650\", \n\"3658\", \"3660\", \"3668\", \"3672\", \"3682\", \"3684\", \"3685\", \"3694\", \n\"3697\", \"3699\", \"3701\", \"3706\", \"3707\", \"3711\", \"3713\", \"3714\", \n\"3717\", \"3720\", \"3722\", \"3727\", \"3729\", \"3730\", \"3731\", \"3740\", \n\"3741\", \"3744\", \"3746\", \"3751\", \"3752\", \"3755\", \"3780\", \"3786\", \n\"3788\", \"3789\", \"3798\", \"3809\", \"3811\", \"3812\", \"3814\", \"3816\", \n\"3818\", \"3828\", \"3840\", \"3845\", \"3848\", \"3861\", \"3862\", \"3865\", \n\"3869\", \"3874\", \"3878\", \"3886\", \"3887\", \"3942\", \"4053\", \"4054\", \n\"4056\", \"4062\", \"4068\", \"4069\", \"4074\", \"4076\", \"4082\", \"4084\", \n\"4101\", \"4106\", \"4124\", \"4146\", \"4161\", \"4175\", \"4177\", \"4216\", \n\"4217\", \"4218\", \"4226\", \"4232\", \"4233\", \"4235\", \"4240\", \"4241\", \n\"4268\", \"4273\", \"4277\", \"4299\", \"4307\", \"4337\", \"4342\", \"4347\", \n\"4348\", \"4353\", \"4360\", \"4362\", \"4370\", \"4378\", \"4383\", \"4396\", \n\"4400\", \"4401\", \"4402\", \"4404\", \"4408\", \"4419\")))\n\nDeviance Residuals: \n     Min        1Q    Median        3Q       Max  \n-0.16129  -0.05906  -0.01148   0.04919   0.65778  \n\nCoefficients:\n                                              Estimate Std. Error t value\n(Intercept)                                  0.2102612  0.0960422   2.189\ngendermale                                   0.0057195  0.0082931   0.690\nyear2019                                    -0.0008592  0.0104664  -0.082\nyear2020                                     0.0022263  0.0111017   0.201\nyear2021                                    -0.0046895  0.0125141  -0.375\nyear2022                                    -0.0058804  0.0114881  -0.512\nField_EnglishChemistry                      -0.0603713  0.0104517  -5.776\nField_EnglishEarth & Environmental Sciences  0.0055992  0.0096467   0.580\nField_EnglishPhysics & Astronomy            -0.0134653  0.0095253  -1.414\nq2                                          -0.0830731  0.1026605  -0.809\nq3                                          -0.0625171  0.0950931  -0.657\n                                            Pr(>|t|)    \n(Intercept)                                   0.0289 *  \ngendermale                                    0.4906    \nyear2019                                      0.9346    \nyear2020                                      0.8411    \nyear2021                                      0.7080    \nyear2022                                      0.6089    \nField_EnglishChemistry                      1.14e-08 ***\nField_EnglishEarth & Environmental Sciences   0.5618    \nField_EnglishPhysics & Astronomy              0.1579    \nq2                                            0.4187    \nq3                                            0.5111    \n---\nSignif. codes:  0 ‘***’ 0.001 ‘**’ 0.01 ‘*’ 0.05 ‘.’ 0.1 ‘ ’ 1\n\n(Dispersion parameter for gaussian family taken to be 0.008956087)\n\n    Null deviance: 6.8753  on 730  degrees of freedom\nResidual deviance: 6.4484  on 720  degrees of freedom\nAIC: -1359.6\n\nNumber of Fisher Scoring iterations: 2\n\n\n"
     ]
    }
   ],
   "source": [
    "tmp = pd.DataFrame()\n",
    "tmp['prop'] = dummy['prop']\n",
    "tmp['gender'] = dummy['gender']\n",
    "tmp['year'] = dummy['year']\n",
    "tmp['Domain_English'] = dummy['Domain_English']\n",
    "tmp['Field_English'] = dummy['Field_English']\n",
    "tmp['SubField_English'] = dummy['SubField_English']\n",
    "tmp['q'] = dummy['q']\n",
    "\n",
    "tmp = tmp.dropna(subset = ['prop'])\n",
    "\n",
    "\n",
    "#tmp = tmp[tmp['Domain_English'] == 'Applied Sciences'] #est Gmale = -0.007596, p val = 0.050 .\n",
    "#tmp = tmp[tmp['Domain_English'] == 'Arts & Humanities'] #insig\n",
    "#tmp = tmp[tmp['Domain_English'] == 'Economic & Social Sciences'] # Gmale = 0.0610953, p val = 0.0535 .\n",
    "#tmp = tmp[tmp['Domain_English'] == 'Health Sciences'] #insig\n",
    "#tmp = tmp[tmp['Domain_English'] == 'Natural Sciences'] #insig\n",
    "\n",
    "\n",
    "##hitgher value: more positive means more conservative\n",
    "\n",
    "with localconverter(ro.default_converter + pandas2ri.converter):\n",
    "  tst_df = ro.conversion.py2rpy(tmp)\n",
    "\n",
    "col_2_index = list(tst_df.colnames).index('year')\n",
    "col_2 = ro.vectors.FactorVector(tst_df.rx2('year'))\n",
    "tst_df[col_2_index] = col_2\n",
    "\n",
    "col_2_index = list(tst_df.colnames).index('q')\n",
    "col_2 = ro.vectors.FactorVector(tst_df.rx2('q'))\n",
    "tst_df[col_2_index] = col_2\n",
    "\n",
    "\n",
    "'''col_2_index = list(tst_df.colnames).index('Domain_English')\n",
    "col_2 = ro.vectors.FactorVector(tst_df.rx2('Domain_English'))\n",
    "tst_df[col_2_index] = col_2'''\n",
    "\n",
    "col_2_index = list(tst_df.colnames).index('Field_English')\n",
    "col_2 = ro.vectors.FactorVector(tst_df.rx2('Field_English'))\n",
    "tst_df[col_2_index] = col_2\n",
    "\n",
    "\n",
    "\n",
    "#print(tst_df)\n",
    "#pandas2ri.activate()\n",
    "model = stats.glm(\"prop ~ gender+year+Field_English+q\",\n",
    "                  data=tst_df,family=ro.r('gaussian')) #family=ro.r('gaussian(link=\"identity\")') #family=ro.r('poisson(link=\"log\")')\n",
    "print(base.summary(model))"
   ]
  },
  {
   "cell_type": "code",
   "execution_count": 0,
   "metadata": {
    "application/vnd.databricks.v1+cell": {
     "cellMetadata": {
      "byteLimit": 2048000,
      "rowLimit": 10000
     },
     "inputWidgets": {},
     "nuid": "d19502d6-6a08-49ab-bb87-f9e5d3cf9a93",
     "showTitle": false,
     "title": ""
    }
   },
   "outputs": [
    {
     "output_type": "stream",
     "name": "stdout",
     "output_type": "stream",
     "text": [
      "mean proportion of uncertain sentence for female  0.15010968406118735  and male  0.14327758237785396\n"
     ]
    }
   ],
   "source": [
    "f = df1[df1['G'] == \"Female\"]\n",
    "m = df1[df1['G'] == \"Male\"]\n",
    "print(\"mean proportion of uncertain sentence for female \",f['prop'].mean(),\" and male \",m['prop'].mean())"
   ]
  },
  {
   "cell_type": "code",
   "execution_count": 0,
   "metadata": {
    "application/vnd.databricks.v1+cell": {
     "cellMetadata": {
      "byteLimit": 2048000,
      "rowLimit": 10000
     },
     "inputWidgets": {},
     "nuid": "1a07c84d-77d5-4166-be45-1a549b4e6c0d",
     "showTitle": false,
     "title": ""
    }
   },
   "outputs": [
    {
     "output_type": "stream",
     "name": "stdout",
     "output_type": "stream",
     "text": [
      "10662   1468\nproportion of female in uncertain group  0.25980116300881634  and certain group  0.22547683923705722\n"
     ]
    }
   ],
   "source": [
    "un = df1[df1['prop'] > 0]\n",
    "certain = df1[df1['prop'] == 0.0]\n",
    "print(len(un),\" \",len(certain))\n",
    "\n",
    "unf = un[un['G'] == \"Female\"]\n",
    "certainf = certain[certain['G'] == \"Female\"]\n",
    "\n",
    "print(\"proportion of female in uncertain group \",len(unf)/len(un),\" and certain group \",len(certainf)/len(certain))"
   ]
  },
  {
   "cell_type": "markdown",
   "metadata": {
    "application/vnd.databricks.v1+cell": {
     "cellMetadata": {},
     "inputWidgets": {},
     "nuid": "f2fd6ba6-b6ba-457e-86f1-d2f4c4fcbad8",
     "showTitle": false,
     "title": ""
    }
   },
   "source": [
    "#### regression on vader sentiment"
   ]
  },
  {
   "cell_type": "code",
   "execution_count": 0,
   "metadata": {
    "application/vnd.databricks.v1+cell": {
     "cellMetadata": {
      "byteLimit": 2048000,
      "rowLimit": 10000
     },
     "inputWidgets": {},
     "nuid": "420ce883-3077-497c-92f9-12732544bb86",
     "showTitle": false,
     "title": ""
    }
   },
   "outputs": [
    {
     "output_type": "stream",
     "name": "stdout",
     "output_type": "stream",
     "text": [
      "doi           object\nmedia         object\ntotal_cnt      int64\npositive     float64\nnegative     float64\nneutral      float64\ncompound     float64\nG             object\ndtype: object\n                             doi         media  total_cnt  positive  negative  \\\n0  10.1080/19320248.2018.1512931        yahoo!         35  0.033229  0.071514   \n1   10.1016/j.celrep.2018.10.010  newscientist         14  0.031643  0.045714   \n2    10.1126/scirobotics.aat1853       nbcnews         18  0.048500  0.017778   \n3    10.1016/j.joule.2018.05.006      gulfnews         31  0.058677  0.033065   \n4     10.1016/j.matt.2021.06.009      labroots          9  0.045778  0.041444   \n\n    neutral  compound       G  \n0  0.895257 -0.088334  Female  \n1  0.922643  0.002100    Male  \n2  0.933722  0.029033  Female  \n3  0.908258  0.117494    Male  \n4  0.912889 -0.035144    Male  \n"
     ]
    }
   ],
   "source": [
    "df2 = pd.read_csv(\"/dbfs/FileStore/shared_uploads/arabi2@wisc.edu/full_vader_reg.csv\")\n",
    "print(df2.dtypes)\n",
    "print(df2.head(5))\n",
    "\n",
    "dfpos = df2.groupby('doi')['positive'].mean().reset_index()\n",
    "dfneg = df2.groupby('doi')['negative'].mean().reset_index()\n",
    "dfneu = df2.groupby('doi')['neutral'].mean().reset_index()\n"
   ]
  },
  {
   "cell_type": "code",
   "execution_count": 0,
   "metadata": {
    "application/vnd.databricks.v1+cell": {
     "cellMetadata": {
      "byteLimit": 2048000,
      "rowLimit": 10000
     },
     "inputWidgets": {},
     "nuid": "3591dc7a-1945-443c-be99-cfc422ac83c0",
     "showTitle": false,
     "title": ""
    }
   },
   "outputs": [
    {
     "output_type": "stream",
     "name": "stdout",
     "output_type": "stream",
     "text": [
      "Domain_English        object\nField_English         object\nSubField_English      object\nsrcid                  int64\nopenaccess_status     object\ndoi                   object\nnews_cnt               int64\nyear                   int64\nissn                  object\nnum_au                 int64\ncor_gender            object\nTopicId                int64\nAu1_gender            object\ncountry_name          object\nSJR                  float64\nsubfield_article      object\npreferred_name        object\norg_type              object\ncor_au1                int64\ndtype: object\nlen of total  1014175\n1014077\nlen of total after dropping duplicate dois  1014077\n1014077\n1014035\n1014035\n129428\n884607\nDomain_English        object\nField_English         object\nSubField_English      object\nsrcid                  int64\nopenaccess_status     object\ndoi                   object\nnews_cnt               int64\nyear                   int64\nissn                  object\nnum_au                 int64\ncor_gender            object\nTopicId                int64\nAu1_gender            object\ncountry_name          object\nSJR                  float64\nsubfield_article      object\npreferred_name        object\norg_type              object\ncor_au1                int64\ndtype: object\n"
     ]
    }
   ],
   "source": [
    "import pandas as pd\n",
    "total = pd.read_csv(\"/dbfs/FileStore/shared_uploads/arabi2@wisc.edu/us_media_analysis.csv\")\n",
    "print(total.dtypes)\n",
    "\n",
    "print(\"len of total \", len(total))\n",
    "print(total['doi'].nunique())\n",
    "total = total.drop_duplicates(subset = ['doi'])\n",
    "\n",
    "print(\"len of total after dropping duplicate dois \", len(total))\n",
    "\n",
    "#total['cor_gender'].unique() //array(['female', 'male', 'M', 'F', 'f', 'm'], dtype=object)\n",
    "ret = spark.read.format(\"csv\").option(\"header\", \"true\").load(\"dbfs:/FileStore/shared_uploads/arabi2@wisc.edu/retrected_doi_wos.csv\")\n",
    "retracted = ret.select('doi').toPandas()\n",
    "ids_to_remove = retracted['doi']\n",
    "print(len(total))\n",
    "total2 = total[~total['doi'].isin(ids_to_remove)]\n",
    "print(len(total2))\n",
    "us = total2[total2['country_name'] == 'United States']\n",
    "print(len(us))\n",
    "print(len(us[us['news_cnt'] > 0]))\n",
    "print(len(us[us['news_cnt'] <= 0]))\n",
    "print(us.dtypes)"
   ]
  },
  {
   "cell_type": "code",
   "execution_count": 0,
   "metadata": {
    "application/vnd.databricks.v1+cell": {
     "cellMetadata": {
      "byteLimit": 2048000,
      "rowLimit": 10000
     },
     "inputWidgets": {},
     "nuid": "2fba1164-a6a7-47f1-97ba-db75fffff237",
     "showTitle": false,
     "title": ""
    }
   },
   "outputs": [
    {
     "output_type": "stream",
     "name": "stdout",
     "output_type": "stream",
     "text": [
      "4422   4422\n"
     ]
    }
   ],
   "source": [
    "merged_pos = dfpos.merge(us, on = 'doi', how = 'inner')\n",
    "merged_neu = dfneu.merge(us, on = 'doi', how = 'inner')\n",
    "print(len(merged_pos),\" \",len(merged_neu))"
   ]
  },
  {
   "cell_type": "code",
   "execution_count": 0,
   "metadata": {
    "application/vnd.databricks.v1+cell": {
     "cellMetadata": {
      "byteLimit": 2048000,
      "rowLimit": 10000
     },
     "inputWidgets": {},
     "nuid": "d01a7405-3533-49af-ae9e-a0a22dc3072e",
     "showTitle": false,
     "title": ""
    }
   },
   "outputs": [
    {
     "output_type": "stream",
     "name": "stdout",
     "output_type": "stream",
     "text": [
      "4422\n"
     ]
    }
   ],
   "source": [
    "dummy = merged_pos.copy()\n",
    "dummy = dummy.dropna(subset = ['cor_gender'])\n",
    "print(len(dummy))\n",
    "gender = []\n",
    "for ind in dummy.index:\n",
    "    if dummy['cor_gender'][ind] == \"female\" or dummy['cor_gender'][ind] == \"f\" or dummy['cor_gender'][ind] == \"F\":\n",
    "        gender.append(\"female\")\n",
    "    else: ##there is no null value in gender, so it is safe to say that if someone is not female, he must be male\n",
    "        gender.append(\"male\")\n",
    "dummy['gender'] = gender"
   ]
  },
  {
   "cell_type": "code",
   "execution_count": 0,
   "metadata": {
    "application/vnd.databricks.v1+cell": {
     "cellMetadata": {
      "byteLimit": 2048000,
      "rowLimit": 10000
     },
     "inputWidgets": {},
     "nuid": "140426d7-4c38-4a0a-a1d4-b4a894ceacb4",
     "showTitle": false,
     "title": ""
    }
   },
   "outputs": [
    {
     "output_type": "stream",
     "name": "stdout",
     "output_type": "stream",
     "text": [
      "Out[44]: <AxesSubplot:>"
     ]
    },
    {
     "output_type": "display_data",
     "data": {
      "image/png": "[encoded data removed]"
     },
     "metadata": {
      "application/vnd.databricks.v1+output": {
       "addedWidgets": {},
       "arguments": {},
       "data": "data:image/png;base64,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\n",
       "datasetInfos": [],
       "metadata": {},
       "removedWidgets": [],
       "type": "image"
      }
     },
     "output_type": "display_data"
    }
   ],
   "source": [
    "dummy['positive'].hist()"
   ]
  },
  {
   "cell_type": "code",
   "execution_count": 0,
   "metadata": {
    "application/vnd.databricks.v1+cell": {
     "cellMetadata": {
      "byteLimit": 2048000,
      "rowLimit": 10000
     },
     "inputWidgets": {},
     "nuid": "54d07338-c11b-46b3-b6a9-40f8b640fc39",
     "showTitle": false,
     "title": ""
    }
   },
   "outputs": [],
   "source": [
    "q = []\n",
    "q1,q2,q3 = 0.123,0.25,0.593\n",
    "for ind in dummy.index:\n",
    "  if dummy['SJR'][ind] <= q1:\n",
    "    q.append(0)\n",
    "  elif dummy['SJR'][ind] > q1 and dummy['SJR'][ind] <= q2:\n",
    "    q.append(1)\n",
    "  elif dummy['SJR'][ind] > q2 and dummy['SJR'][ind] <= q3:\n",
    "    q.append(2)\n",
    "  else:\n",
    "    q.append(3)\n",
    "dummy['q'] = q"
   ]
  },
  {
   "cell_type": "code",
   "execution_count": 0,
   "metadata": {
    "application/vnd.databricks.v1+cell": {
     "cellMetadata": {
      "byteLimit": 2048000,
      "rowLimit": 10000
     },
     "inputWidgets": {},
     "nuid": "7c7257f1-7c58-4f58-8291-77f1c5d64c1c",
     "showTitle": false,
     "title": ""
    }
   },
   "outputs": [
    {
     "output_type": "stream",
     "name": "stdout",
     "output_type": "stream",
     "text": [
      "\nCall:\n(function (formula, family = gaussian, data, weights, subset, \n    na.action, start = NULL, etastart, mustart, offset, control = list(...), \n    model = TRUE, method = \"glm.fit\", x = FALSE, y = TRUE, singular.ok = TRUE, \n    contrasts = NULL, ...) \n{\n    cal <- match.call()\n    if (is.character(family)) \n        family <- get(family, mode = \"function\", envir = parent.frame())\n    if (is.function(family)) \n        family <- family()\n    if (is.null(family$family)) {\n        print(family)\n        stop(\"'family' not recognized\")\n    }\n    if (missing(data)) \n        data <- environment(formula)\n    mf <- match.call(expand.dots = FALSE)\n    m <- match(c(\"formula\", \"data\", \"subset\", \"weights\", \"na.action\", \n        \"etastart\", \"mustart\", \"offset\"), names(mf), 0L)\n    mf <- mf[c(1L, m)]\n    mf$drop.unused.levels <- TRUE\n    mf[[1L]] <- quote(stats::model.frame)\n    mf <- eval(mf, parent.frame())\n    if (identical(method, \"model.frame\")) \n        return(mf)\n    if (!is.character(method) && !is.function(method)) \n        stop(\"invalid 'method' argument\")\n    if (identical(method, \"glm.fit\")) \n        control <- do.call(\"glm.control\", control)\n    mt <- attr(mf, \"terms\")\n    Y <- model.response(mf, \"any\")\n    if (length(dim(Y)) == 1L) {\n        nm <- rownames(Y)\n        dim(Y) <- NULL\n        if (!is.null(nm)) \n            names(Y) <- nm\n    }\n    X <- if (!is.empty.model(mt)) \n        model.matrix(mt, mf, contrasts)\n    else matrix(, NROW(Y), 0L)\n    weights <- as.vector(model.weights(mf))\n    if (!is.null(weights) && !is.numeric(weights)) \n        stop(\"'weights' must be a numeric vector\")\n    if (!is.null(weights) && any(weights < 0)) \n        stop(\"negative weights not allowed\")\n    offset <- as.vector(model.offset(mf))\n    if (!is.null(offset)) {\n        if (length(offset) != NROW(Y)) \n            stop(gettextf(\"number of offsets is %d should equal %d (number of observations)\", \n                length(offset), NROW(Y)), domain = NA)\n    }\n    mustart <- model.extract(mf, \"mustart\")\n    etastart <- model.extract(mf, \"etastart\")\n    fit <- eval(call(if (is.function(method)) \"method\" else method, \n        x = X, y = Y, weights = weights, start = start, etastart = etastart, \n        mustart = mustart, offset = offset, family = family, \n        control = control, intercept = attr(mt, \"intercept\") > \n            0L, singular.ok = singular.ok))\n    if (length(offset) && attr(mt, \"intercept\") > 0L) {\n        fit2 <- eval(call(if (is.function(method)) \"method\" else method, \n            x = X[, \"(Intercept)\", drop = FALSE], y = Y, mustart = fit$fitted.values, \n            weights = weights, offset = offset, family = family, \n            control = control, intercept = TRUE))\n        if (!fit2$converged) \n            warning(\"fitting to calculate the null deviance did not converge -- increase 'maxit'?\")\n        fit$null.deviance <- fit2$deviance\n    }\n    if (model) \n        fit$model <- mf\n    fit$na.action <- attr(mf, \"na.action\")\n    if (x) \n        fit$x <- X\n    if (!y) \n        fit$y <- NULL\n    structure(c(fit, list(call = cal, formula = formula, terms = mt, \n        data = data, offset = offset, control = control, method = method, \n        contrasts = attr(X, \"contrasts\"), xlevels = .getXlevels(mt, \n            mf))), class = c(fit$class, c(\"glm\", \"lm\")))\n})(formula = \"positive ~ gender+year+Field_English+q\", family = function (link = \"identity\") \n{\n    linktemp <- substitute(link)\n    if (!is.character(linktemp)) \n        linktemp <- deparse(linktemp)\n    okLinks <- c(\"inverse\", \"log\", \"identity\")\n    family <- \"gaussian\"\n    if (linktemp %in% okLinks) \n        stats <- make.link(linktemp)\n    else if (is.character(link)) {\n        stats <- make.link(link)\n        linktemp <- link\n    }\n    else {\n        if (inherits(link, \"link-glm\")) {\n            stats <- link\n            if (!is.null(stats$name)) \n                linktemp <- stats$name\n        }\n        else {\n            stop(gettextf(\"link \\\"%s\\\" not available for %s family; available links are %s\", \n                linktemp, family, paste(sQuote(okLinks), collapse = \", \")), \n                domain = NA)\n        }\n    }\n    structure(list(family = family, link = linktemp, linkfun = stats$linkfun, \n        linkinv = stats$linkinv, variance = function(mu) rep.int(1, \n            length(mu)), dev.resids = function(y, mu, wt) wt * \n            ((y - mu)^2), aic = function(y, n, mu, wt, dev) {\n            nobs <- length(y)\n            nobs * (log(dev/nobs * 2 * pi) + 1) + 2 - sum(log(wt))\n        }, mu.eta = stats$mu.eta, initialize = expression({\n            n <- rep.int(1, nobs)\n            if (is.null(etastart) && is.null(start) && is.null(mustart) && \n                ((family$link == \"inverse\" && any(y == 0)) || \n                  (family$link == \"log\" && any(y <= 0)))) stop(\"cannot find valid starting values: please specify some\")\n            mustart <- y\n        }), validmu = function(mu) TRUE, valideta = stats$valideta), \n        class = \"family\")\n}, data = structure(list(positive = c(0.0457833333333333, 0.0672764312490628, \n0.046, 0.032629346092504, 0.0275491642430497, 0.0850059711643854, \n0.0582677045177045, 0.0568571428571428, 0.0613839285714285, 0.0405, \n0.076422619047619, 0.119033333333333, 0.0600478595478595, 0.0674979166666667, \n0.0298339345839345, 0.12325, 0.0498366013071895, 0.0380541125541125, \n0.0583333333333333, 0.0485714285714285, 0.092875, 0.0492727272727272, \n0.0406923076923076, 0.0513703703703703, 0.0544999999999999, 0.0713513513513513, \n0.0478888888888888, 0.100428888888889, 0.0984166666666666, 0.123428571428571, \n0.124769230769231, 0.0576086956521739, 0.0645755799755799, 0.0565253173550587, \n0.0368410138248847, 0.0906423849814912, 0.0592, 0.0393870967741935, \n0.0700331688596491, 0.0593333333333333, 0.101254166666667, 0.0446842105263157, \n0.04346, 0.028, 0.0672972789968475, 0.0467361111111111, 0.0638529411764705, \n0.087, 0.0768333333333333, 0.0505, 0.0640281071585419, 0.0497622929268683, \n0.0157619047619047, 0.025, 0.0586013237969759, 0.0331538461538461, \n0.054156862745098, 0.0554121515433096, 0.0832035947712418, 0.0202142857142857, \n0.0734857878708376, 0.0404193548387096, 0.034, 0.0672105263157894, \n0.0713046370967741, 0.0578571428571428, 0.0685185185185185, 0.0755364145658262, \n0.0718444765368705, 0.078058406182245, 0.0751818181818181, 0.0665351475590236, \n0.0309849624060149, 0.108739130434783, 0.0622255979314802, 0.0707767857142857, \n0.0730348988199157, 0.0714499999999999, 0.0992424242424242, 0.0697184265010351, \n0.0677777777777777, 0.0433846153846153, 0.0809791666666667, 0.0151666666666666, \n0.04735791706999, 0.0836315789473684, 0.031955495818399, 0.0535238095238095, \n0.0676111111111111, 0.0275384615384615, 0.0613055555555555, 0.09028, \n0.0449569444444444, 0.0959120309330628, 0.0797142857142857, 0.103072448624173, \n0.0587941571790006, 0.0444375124875124, 0.0692515920070268, 0.073560606060606, \n0.0794494949494949, 0.11036201625387, 0.0683666666666666, 0.0557799145299145, \n0.108333333333333, 0.0492926829268292, 0.0835124957812308, 0.0904399038461539, \n0.125333333333333, 0.0772333333333333, 0.0644625, 0.0793333333333333, \n0.0970037276065427, 0.0841042843820374, 0.0479523809523809, 0.0904155555555555, \n0.0393170731707317, 0.0526842105263158, 0.0423382611252702, 0.0800637806637806, \n0.145736842105263, 0.0349838969404186, 0.113578947368421, 0.0790876112094782, \n0.0548823529411764, 0.03, 0.103908333333333, 0.038031746031746, \n0.087095238095238, 0.0345714285714285, 0.0577692307692307, 0.0831052631578947, \n0.06984, 0.0694719298245613, 0.0353684210526315, 0.0492941176470588, \n0.033130581232493, 0.0478981481481481, 0.0504324324324324, 0.0458709677419354, \n0.0764666666666667, 0.0613103448275862, 0.0568571428571428, 0.0599868259803921, \n0.0408591954022988, 0.0992758620689655, 0.0218518518518518, 0.0675625, \n0.02025, 0.0264782608695652, 0.081, 0.03716, 0.0622527866726203, \n0.029619929029304, 0.0419473684210526, 0.0701899373255793, 0.0976625101653564, \n0.0376781954887217, 0.0497584325396825, 0.019, 0.0618118093046237, \n0.0422275824175824, 0.0566896551724138, 0.0861984891919674, 0.0819495341614906, \n0.0925370695370695, 0.0138823529411764, 0.074125, 0.0708823529411764, \n0.00363235294117645, 0.054576923076923, 0.0456969696969696, 0.0833995535714285, \n0.0654757575757575, 0.0491944444444444, 0.0761333333333333, 0.0892857142857142, \n0.125601275917065, 0.0780080599547511, 0.0467631578947368, 0.0822320105820106, \n0.0541790236460716, 0.0376, 0.028090909090909, 0.124125, 0.0455117845117845, \n0.0942647058823529, 0.0389189189189189, 0.0205446428571429, 0.0337142857142857, \n0.0768235294117647, 0.102236111111111, 0.0312777777777777, 0.118, \n0.0401904761904761, 0.138583333333333, 0.0345882352941176, 0.0951584158415841, \n0.0394, 0.0828946153846153, 0.0495296774193548, 0.0707653846153846, \n0.0497272727272727, 0.0620526315789473, 0.0820620300751879, 0.0198074074074073, \n0.0770857142857142, 0.122996913580247, 0.020025, 0.0413846153846153, \n0.0447994827586206, 0.0483356643356643, 0.0588999999999999, 0.0500588235294117, \n0.031, 0.046, 0.0293333333333333, 0.0505762924657042, 0.08445, \n0.107916666666667, 0.0274061998399991, 0.0492992869875222, 0.0498235294117647, \n0.04890625, 0.02628, 0.0471578947368421, 0.0364615384615384, \n0.0846, 0.0603185786435786, 0.0818391812865497, 0.053547619047619, \n0.06172, 0.0389737103174603, 0.0442857142857142, 0.0822463768115941, \n0.084516129032258, 0.04376, 0.0564090909090909, 0.0435324133310279, \n0.069, 0.0353843915343915, 0.044625, 0.0832727272727272, 0.0342266666666666, \n0.0488933210784313, 0.0897058823529411, 0.0487777777777777, 0.0458657219973009, \n0.053066091954023, 0.0814545454545454, 0.0839375, 0.0514838709677419, \n0.023, 0.0776666666666666, 0.0527222222222222, 0.0548461538461538, \n0.0645384615384615, 0.0889297082228117, 0.039136574074074, 0.166545454545454, \n0.0829032258064516, 0.0602727272727272, 0.05925, 0.0624356840676884, \n0.0507391304347826, 0.0351328671328671, 0.0835779803490311, 0.0595, \n0.102695512820513, 0.0720958333333333, 0.116964285714286, 0.0616666666666666, \n0.0963125, 0.0642272727272727, 0.0475714285714285, 0.119538461538461, \n0.0834706959706959, 0.0693322088485246, 0.017625, 0.120571428571428, \n0.0734922101449275, 0.0593999999999999, 0.0631950757575757, 0.0405847619047619, \n0.0427673064115372, 0.0765, 0.0741458333333333, 0.0499615666533093, \n0.0532, 0.0514521739626153, 0.053432942057942, 0.0817133446263881, \n0.108941176470588, 0.064858314479638, 0.0439735606901422, 0.075822, \n0.0543636363636363, 0.0667647058823529, 0.0727142857142857, 0.0375714285714285, \n0.0674225376344086, 0.0685058825370413, 0.0545518227186177, 0.043272556063124, \n0.0490677450980392, 0.0345, 0.0850518031189083, 0.0470263157894736, \n0.122702702702703, 0.078, 0.0937619047619047, 0.07885, 0.0750936532507739, \n0.0568998355263157, 0.118837719298246, 0.1074, 0.0248037397667785, \n0.0200061163713737, 0.0245202218138029, 0.0484864864864864, 0.0415722553946692, \n0.0465465465465465, 0.0459444444444444, 0.053, 0.0339792080611463, \n0.0726644693473962, 0.0197948717948717, 0.0866, 0.0466590909090909, \n0.0807676724137931, 0.0968419312169312, 0.053225641025641, 0.0663349206349206, \n0.0951481481481481, 0.0999375, 0.110648148148148, 0.0390720081135902, \n0.0578214285714285, 0.07008, 0.0508773448773448, 0.0383703703703703, \n0.044074074074074, 0.045, 0.0370670995670995, 0.083071138211382, \n0.0457142857142857, 0.0183478260869565, 0.0422727272727272, 0.0555661764705882, \n0.109270869565217, 0.0613363290480195, 0.0581380034214022, 0.0398, \n0.0533841911764706, 0.0205714285714285, 0.0477840085718375, 0.0657304582191299, \n0.0516316714150047, 0.0620833333333333, 0.0576271618931401, 0.053, \n0.037249375, 0.050654980442133, 0.0682322597960279, 0.067467861141612, \n0.0201851851851851, 0.0378379634159761, 0.0667280219780219, 0.0384522222222222, \n0.050453216374269, 0.0505416666666666, 0.0472666666666666, 0.0487235823000529, \n0.0681687306501547, 0.0690625, 0.0391853002070393, 0.0830007122507122, \n0.04888, 0.0379062499999999, 0.0711538461538461, 0.0684999999999999, \n0.0899935286935287, 0.060090909090909, 0.0611878260869565, 0.11354128440367, \n0.0407595005677242, 0.0593858695652174, 0.0595073851711895, 0.0548492063492063, \n0.114158454834925, 0.0369375, 0.0640280155138978, 0.039125, 0.0487777777777777, \n0.0373588888888889, 0.0456481481481481, 0.0543518518518518, 0.0386311188811189, \n0.0625833333333333, 0.0707786131996658, 0.0645172413793103, 0.0711575757575757, \n0.0803995915032679, 0.069985294117647, 0.0463593776106933, 0.0832411067193675, \n0.036, 0.0981176470588235, 0.0200113357843137, 0.0540344827586206, \n0.0716273436041083, 0.07605, 0.0446277472527472, 0.0537434210526316, \n0.103777777777778, 0.0721994884910486, 0.066625, 0.0514210526315789, \n0.0686767965367965, 0.0778421052631578, 0.0652413793103448, 0.0870075757575757, \n0.0756923076923077, 0.0876315789473684, 0.0759900932400932, 0.113666666666667, \n0.0615236946532999, 0.0582499999999999, 0.0464091915836101, 0.051543248949378, \n0.08375, 0.0537586206896551, 0.0431517857142857, 0.0635, 0.0450631221719457, \n0.0868235294117647, 0.0810071428571428, 0.0780571428571428, 0.0824166666666666, \n0.052353896103896, 0.0903716595236292, 0.140805555555555, 0.0422222222222222, \n0.077438596491228, 0.0937073426573426, 0.0453861111111111, 0.0768571428571428, \n0.0976581605528973, 0.158235294117647, 0.0417875, 0.0706875, \n0.0936973684210526, 0.0960227272727272, 0.0512585897435897, 0.0263333333333333, \n0.0797727272727272, 0.0675154257507198, 0.121586716329044, 0.0765291005291005, \n0.0907710526315789, 0.097468936678614, 0.0394090909090909, 0.0684103448275862, \n0.0618775757575757, 0.0685645161290322, 0.0995, 0.0429222222222222, \n0.060987246413717, 0.0447953524269313, 0.0298689950629081, 0.0321196172248804, \n0.0627684210526316, 0.0598695652173913, 0.0827066852737905, 0.0478883547008547, \n0.0411688596491228, 0.0747857142857142, 0.0878095238095238, 0.0258, \n0.0752525879917184, 0.101520833333333, 0.0808140135878913, 0.101714285714286, \n0.063875, 0.0855333333333333, 0.0989851024948355, 0.0312222222222222, \n0.0815576747762415, 0.0701052631578947, 0.0436382444130814, 0.0353555870445344, \n0.0656136363636363, 0.0736923076923077, 0.0739166666666666, 0.0548230769230769, \n0.0622197592766921, 0.0967158920539729, 0.0633, 0.0124615384615384, \n0.0745454545454545, 0.0302727272727272, 0.0575567632850241, 0.0742142857142857, \n0.0782972972972973, 0.0684166666666666, 0.104125, 0.1400470463372, \n0.0491588224176143, 0.0384284783317041, 0.013, 0.0405384615384615, \n0.0575546523056133, 0.0651962481962482, 0.0779571428571428, 0.0600208333333333, \n0.0826771428571428, 0.0785732369101487, 0.0665522783251231, 0.119712765957447, \n0.106575, 0.069631908296382, 0.0484833669354839, 0.0780103668261563, \n0.0476653194084826, 0.102297297297297, 0.0785384615384615, 0.0347058823529411, \n0.0277368421052631, 0.0848333333333333, 0.10780266075388, 0.0409639056995276, \n0.050555432330827, 0.137972761341147, 0.06035, 0.0245714285714285, \n0.17165, 0.053471667188756, 0.0823245454545455, 0.0260823082036642, \n0.115227272727273, 0.115966666666667, 0.08207125, 0.0805744680851063, \n0.04275, 0.0824285714285714, 0.0240555555555555, 0.0475474358974358, \n0.0581052631578947, 0.0852619047619047, 0.0708495653195488, 0.0662857142857142, \n0.0534166666666666, 0.0450416666666666, 0.0861239468864469, 0.183444444444444, \n0.0360740031413082, 0.0582380952380952, 0.07245, 0.0758792403674756, \n0.0602592592592592, 0.0582115384615385, 0.0380350877192982, 0.0508235294117647, \n0.0700714285714285, 0.0774, 0.0561255411255411, 0.0396691340206857, \n0.05068, 0.1065, 0.0378108108108108, 0.0842068965517241, 0.0258, \n0.0548571428571428, 0.0386294642857143, 0.0480119047619047, 0.0933571428571428, \n0.0182, 0.0899394132653061, 0.0599298245614035, 0.0216501547987616, \n0.0537888888888889, 0.0538088539399089, 0.0690416666666666, 0.0737857142857142, \n0.0433125, 0.0431936198254256, 0.073125, 0.06181328320802, 0.064953869047619, \n0.031, 0.0501851851851851, 0.108, 0.0667, 0.0676446428571429, \n0.0696521739130434, 0.047766800840485, 0.0518209617180205, 0.0624539969834087, \n0.0846249999999999, 0.0888636363636363, 0.0532191111878553, 0.0707222222222222, \n0.0949655172413793, 0.0596969696969697, 0.0596875, 0.109, 0.0637647058823529, \n0.0823540947288006, 0.0549639953542392, 0.0285542206879377, 0.0149411764705882, \n0.0599220077220077, 0.0663235294117647, 0.0658191176470588, 0.0435188102687943, \n0.0699696969696969, 0.0975333333333333, 0.0578747311827957, 0.102758620689655, \n0.0470967741935483, 0.1348, 0.0939714285714285, 0.0408771929824561, \n0.0365833333333333, 0.0791796536796536, 0.02675, 0.0383388888888889, \n0.0977029411764705, 0.0471938100166753, 0.0539090909090909, 0.0711235294117647, \n0.0562999999999999, 0.0526845439189189, 0.163833333333333, 0.0979130434782608, \n0.0829125, 0.0808492647058823, 0.0754753774154589, 0.0735684308143547, \n0.0586158211768738, 0.0668472027972027, 0.0427894736842105, 0.0988715312241522, \n0.0428749999999999, 0.0331519518018768, 0.0801185714285714, 0.0964224939613526, \n0.0805996296296296, 0.0410202008523198, 0.03325, 0.0565323166303558, \n0.115172222222222, 0.114516562835661, 0.0974666666666666, 0.0443671957671957, \n0.0832499999999999, 0.0575469576719576, 0.0671426768514423, 0.04835, \n0.0682578505304764, 0.0751545454545454, 0.0304636363636363, 0.04168, \n0.0875483870967741, 0.0827428571428571, 0.0492307692307692, 0.0469247491638796, \n0.0512019829356066, 0.0936428571428571, 0.062859885620915, 0.0562857142857143, \n0.0536428571428571, 0.0657222222222222, 0.0428571428571428, 0.0607, \n0.0509983351888287, 0.0595217391304347, 0.0564772667214899, 0.0594223443223443, \n0.102030879699798, 0.0529090909090909, 0.0597353572167079, 0.0498, \n0.117055555555555, 0.0564857142857142, 0.0919642857142857, 0.05675, \n0.0374066859066859, 0.0462380952380952, 0.026037037037037, 0.0530170995670995, \n0.0340680911680911, 0.11407516817333, 0.0675428571428571, 0.0572142857142857, \n0.0507884615384615, 0.0643503625730994, 0.071, 0.0917575757575757, \n0.128335978835979, 0.0785399380804953, 0.0425406162464985, 0.0604292270531401, \n0.0193124999999999, 0.0388867924528301, 0.0906190476190476, 0.043, \n0.0377288895315211, 0.0889677419354838, 0.0492629063156593, 0.075521521078556, \n0.0462916666666666, 0.0222307692307692, 0.077578313253012, 0.0700714285714285, \n0.0393759776987718, 0.0606, 0.0779862637362637, 0.0591497695852534, \n0.0523923076923076, 0.0355555555555555, 0.0621363636363636, 0.0709759759759759, \n0.123487804878049, 0.0826531007751937, 0.0699411764705882, 0.0390943396226415, \n0.0192, 0.0419534183443957, 0.0676877990430622, 0.0541111111111111\n), gender = c(\"female\", \"male\", \"male\", \"male\", \"male\", \"female\", \n\"male\", \"male\", \"male\", \"male\", \"male\", \"male\", \"male\", \"male\", \n\"male\", \"male\", \"female\", \"male\", \"male\", \"male\", \"female\", \"male\", \n\"male\", \"male\", \"male\", \"female\", \"male\", \"male\", \"male\", \"male\", \n\"male\", \"female\", \"female\", \"female\", \"male\", \"female\", \"female\", \n\"female\", \"female\", \"female\", \"female\", \"male\", \"male\", \"female\", \n\"male\", \"female\", \"female\", \"male\", \"male\", \"male\", \"female\", \n\"male\", \"male\", \"female\", \"female\", \"male\", \"male\", \"male\", \"male\", \n\"male\", \"male\", \"male\", \"male\", \"male\", \"male\", \"female\", \"male\", \n\"male\", \"male\", \"male\", \"male\", \"female\", \"female\", \"male\", \"male\", \n\"male\", \"male\", \"female\", \"female\", \"male\", \"female\", \"male\", \n\"male\", \"female\", \"male\", \"male\", \"male\", \"male\", \"male\", \"male\", \n\"female\", \"male\", \"male\", \"male\", \"female\", \"male\", \"male\", \"male\", \n\"male\", \"male\", \"male\", \"male\", \"female\", \"female\", \"male\", \"female\", \n\"male\", \"male\", \"male\", \"male\", \"male\", \"male\", \"male\", \"male\", \n\"male\", \"female\", \"male\", \"male\", \"male\", \"male\", \"male\", \"male\", \n\"male\", \"male\", \"male\", \"male\", \"male\", \"male\", \"male\", \"male\", \n\"male\", \"male\", \"male\", \"male\", \"male\", \"male\", \"female\", \"male\", \n\"male\", \"male\", \"male\", \"male\", \"male\", \"male\", \"male\", \"male\", \n\"male\", \"male\", \"female\", \"female\", \"female\", \"male\", \"male\", \n\"male\", \"male\", \"male\", \"male\", \"female\", \"male\", \"female\", \"male\", \n\"male\", \"male\", \"female\", \"male\", \"male\", \"male\", \"male\", \"male\", \n\"male\", \"male\", \"male\", \"male\", \"male\", \"male\", \"male\", \"female\", \n\"male\", \"male\", \"male\", \"male\", \"male\", \"male\", \"male\", \"male\", \n\"male\", \"male\", \"male\", \"female\", \"male\", \"male\", \"male\", \"male\", \n\"male\", \"female\", \"male\", \"male\", \"female\", \"male\", \"male\", \"female\", \n\"male\", \"male\", \"male\", \"male\", \"male\", \"male\", \"male\", \"male\", \n\"male\", \"female\", \"male\", \"male\", \"male\", \"female\", \"male\", \"male\", \n\"male\", \"male\", \"male\", \"male\", \"male\", \"female\", \"male\", \"male\", \n\"male\", \"male\", \"female\", \"female\", \"female\", \"female\", \"male\", \n\"male\", \"male\", \"male\", \"male\", \"female\", \"male\", \"male\", \"female\", \n\"male\", \"male\", \"male\", \"female\", \"male\", \"male\", \"male\", \"male\", \n\"male\", \"female\", \"male\", \"male\", \"male\", \"male\", \"female\", \"male\", \n\"female\", \"male\", \"male\", \"male\", \"male\", \"male\", \"male\", \"female\", \n\"male\", \"male\", \"male\", \"male\", \"male\", \"male\", \"male\", \"female\", \n\"male\", \"male\", \"female\", \"male\", \"male\", \"male\", \"female\", \"female\", \n\"male\", \"male\", \"female\", \"male\", \"male\", \"male\", \"male\", \"male\", \n\"male\", \"male\", \"male\", \"male\", \"female\", \"male\", \"male\", \"male\", \n\"male\", \"female\", \"male\", \"male\", \"male\", \"male\", \"male\", \"male\", \n\"female\", \"male\", \"male\", \"female\", \"male\", \"female\", \"male\", \n\"female\", \"female\", \"male\", \"male\", \"male\", \"male\", \"male\", \"male\", \n\"male\", \"male\", \"male\", \"male\", \"male\", \"male\", \"male\", \"male\", \n\"male\", \"male\", \"male\", \"male\", \"male\", \"male\", \"male\", \"male\", \n\"male\", \"female\", \"female\", \"male\", \"male\", \"male\", \"male\", \"male\", \n\"male\", \"male\", \"male\", \"male\", \"male\", \"male\", \"male\", \"male\", \n\"male\", \"male\", \"male\", \"male\", \"male\", \"female\", \"female\", \"male\", \n\"male\", \"male\", \"male\", \"male\", \"male\", \"male\", \"male\", \"male\", \n\"male\", \"female\", \"male\", \"male\", \"male\", \"male\", \"male\", \"female\", \n\"male\", \"female\", \"male\", \"male\", \"female\", \"male\", \"male\", \"male\", \n\"female\", \"male\", \"male\", \"male\", \"male\", \"male\", \"male\", \"male\", \n\"female\", \"male\", \"male\", \"female\", \"female\", \"male\", \"male\", \n\"male\", \"male\", \"male\", \"female\", \"male\", \"female\", \"female\", \n\"male\", \"male\", \"female\", \"male\", \"male\", \"male\", \"male\", \"female\", \n\"female\", \"male\", \"male\", \"male\", \"male\", \"male\", \"female\", \"male\", \n\"male\", \"female\", \"female\", \"male\", \"male\", \"male\", \"male\", \"male\", \n\"male\", \"female\", \"female\", \"female\", \"male\", \"male\", \"female\", \n\"male\", \"female\", \"male\", \"male\", \"male\", \"male\", \"male\", \"male\", \n\"male\", \"male\", \"male\", \"male\", \"male\", \"male\", \"female\", \"male\", \n\"male\", \"female\", \"male\", \"male\", \"male\", \"male\", \"male\", \"male\", \n\"male\", \"male\", \"male\", \"male\", \"female\", \"male\", \"female\", \"female\", \n\"female\", \"male\", \"female\", \"male\", \"female\", \"female\", \"male\", \n\"female\", \"male\", \"male\", \"male\", \"female\", \"female\", \"male\", \n\"male\", \"male\", \"male\", \"male\", \"male\", \"male\", \"male\", \"male\", \n\"male\", \"male\", \"male\", \"female\", \"male\", \"male\", \"male\", \"male\", \n\"female\", \"male\", \"female\", \"female\", \"female\", \"female\", \"female\", \n\"female\", \"male\", \"female\", \"female\", \"male\", \"male\", \"male\", \n\"male\", \"female\", \"female\", \"male\", \"male\", \"female\", \"male\", \n\"female\", \"female\", \"male\", \"male\", \"female\", \"male\", \"female\", \n\"male\", \"male\", \"male\", \"female\", \"male\", \"male\", \"male\", \"male\", \n\"male\", \"male\", \"male\", \"male\", \"male\", \"female\", \"male\", \"female\", \n\"male\", \"female\", \"male\", \"male\", \"male\", \"female\", \"female\", \n\"male\", \"male\", \"male\", \"male\", \"male\", \"male\", \"male\", \"male\", \n\"male\", \"male\", \"female\", \"female\", \"female\", \"male\", \"female\", \n\"male\", \"male\", \"female\", \"female\", \"male\", \"male\", \"male\", \"male\", \n\"female\", \"female\", \"male\", \"female\", \"male\", \"male\", \"female\", \n\"male\", \"female\", \"female\", \"male\", \"male\", \"female\", \"male\", \n\"female\", \"male\", \"female\", \"female\", \"male\", \"female\", \"male\", \n\"female\", \"female\", \"male\", \"male\", \"male\", \"male\", \"male\", \"male\", \n\"male\", \"male\", \"male\", \"male\", \"male\", \"female\", \"male\", \"female\", \n\"male\", \"male\", \"male\", \"male\", \"male\", \"female\", \"male\", \"male\", \n\"female\", \"male\", \"male\", \"male\", \"male\", \"male\", \"female\", \"male\", \n\"male\", \"female\", \"male\", \"male\", \"male\", \"male\", \"male\", \"female\", \n\"male\", \"male\", \"male\", \"male\", \"male\", \"male\", \"male\", \"male\", \n\"male\", \"male\", \"female\", \"male\", \"male\", \"male\", \"female\", \"male\", \n\"male\", \"male\", \"female\", \"male\", \"female\", \"male\", \"male\", \"male\", \n\"male\", \"male\", \"male\", \"female\", \"male\", \"male\", \"male\", \"male\", \n\"male\", \"male\", \"male\", \"male\", \"male\", \"male\", \"female\", \"male\", \n\"male\", \"male\", \"male\", \"male\", \"female\", \"male\", \"male\", \"female\", \n\"male\", \"male\", \"female\", \"male\", \"male\", \"male\", \"male\", \"female\", \n\"male\", \"male\", \"male\", \"male\", \"male\", \"female\", \"male\", \"female\", \n\"male\", \"male\", \"male\", \"male\", \"male\", \"male\", \"male\", \"male\", \n\"male\", \"male\", \"female\", \"male\", \"male\", \"male\", \"female\", \"male\", \n\"male\", \"male\", \"male\", \"male\", \"male\", \"male\", \"male\", \"male\", \n\"female\", \"male\", \"male\", \"male\", \"male\", \"male\", \"male\", \"male\", \n\"female\", \"male\"), year = structure(c(1L, 5L, 2L, 1L, 1L, 2L, \n2L, 2L, 3L, 3L, 3L, 4L, 5L, 3L, 3L, 1L, 5L, 3L, 2L, 2L, 2L, 4L, \n4L, 3L, 2L, 3L, 2L, 1L, 3L, 1L, 4L, 1L\n\n*** WARNING: max output size exceeded, skipping output. ***\n\ntal sciences\", \n\"environmental sciences\", \"environmental sciences\", \"chemical physics\", \n\"analytical chemistry\", \"environmental sciences\", \"meteorology & atmospheric sciences\", \n\"environmental sciences\", \"meteorology & atmospheric sciences\", \n\"plant biology & botany\", \"optics\", \"analytical chemistry\", \"analytical chemistry\", \n\"chemical physics\", \"chemical physics\", \"analytical chemistry\", \n\"analytical chemistry\", \"meteorology & atmospheric sciences\", \n\"environmental sciences\", \"environmental sciences\", \"environmental sciences\", \n\"environmental sciences\", \"applied physics\", \"environmental sciences\", \n\"environmental sciences\", \"environmental sciences\", \"environmental sciences\", \n\"environmental sciences\", \"environmental sciences\", \"environmental sciences\", \n\"environmental sciences\", \"environmental sciences\", \"environmental sciences\", \n\"environmental sciences\", \"environmental sciences\", \"environmental sciences\", \n\"environmental sciences\", \"environmental sciences\", \"environmental sciences\", \n\"meteorology & atmospheric sciences\", \"organic chemistry\", \"entomology\", \n\"medicinal & biomolecular chemistry\", \"organic chemistry\", \"chemical physics\", \n\"applied physics\", \"organic chemistry\", \"applied physics\", \"physical chemistry\", \n\"applied physics\", \"applied physics\", \"organic chemistry\", \"optics\", \n\"applied physics\", \"organic chemistry\", \"organic chemistry\", \n\"plant biology & botany\", \"chemical physics\", \"polymers\", \"applied physics\", \n\"analytical chemistry\", \"physical chemistry\", \"organic chemistry\", \n\"organic chemistry\", \"analytical chemistry\", \"polymers\", \"polymers\", \n\"organic chemistry\", \"organic chemistry\", \"environmental sciences\", \n\"applied physics\", \"organic chemistry\", \"chemical physics\", \"organic chemistry\", \n\"chemical physics\", \"applied physics\", \"organic chemistry\", \"organic chemistry\", \n\"optics\", \"analytical chemistry\", \"analytical chemistry\", \"physical chemistry\", \n\"chemical physics\", \"chemical physics\", \"organic chemistry\", \n\"analytical chemistry\", \"organic chemistry\", \"inorganic & nuclear chemistry\", \n\"general chemistry\", \"organic chemistry\", \"polymers\", \"physical chemistry\", \n\"environmental sciences\", \"optics\", \"optics\", \"optics\", \"marine biology & hydrobiology\", \n\"meteorology & atmospheric sciences\", \"chemical physics\", \"meteorology & atmospheric sciences\", \n\"plant biology & botany\", \"plant biology & botany\", \"entomology\", \n\"chemical physics\", \"physical chemistry\", \"optics\", \"ecology\", \n\"meteorology & atmospheric sciences\", \"applied physics\", \"applied physics\", \n\"meteorology & atmospheric sciences\", \"applied physics\", \"optics\", \n\"applied physics\", \"fluids & plasmas\", \"meteorology & atmospheric sciences\", \n\"fluids & plasmas\", \"optics\", \"fluids & plasmas\", \"fluids & plasmas\", \n\"fluids & plasmas\", \"environmental sciences\", \"polymers\", \"meteorology & atmospheric sciences\", \n\"meteorology & atmospheric sciences\", \"marine biology & hydrobiology\", \n\"evolutionary biology\", \"chemical physics\", \"optics\", \"applied physics\", \n\"meteorology & atmospheric sciences\", \"applied physics\", \"inorganic & nuclear chemistry\", \n\"organic chemistry\", \"environmental sciences\", \"environmental sciences\", \n\"applied physics\", \"environmental sciences\", \"organic chemistry\", \n\"organic chemistry\", \"organic chemistry\", \"applied physics\", \n\"polymers\", \"meteorology & atmospheric sciences\", \"plant biology & botany\", \n\"evolutionary biology\", \"plant biology & botany\", \"ecology\", \n\"plant biology & botany\", \"plant biology & botany\", \"plant biology & botany\", \n\"plant biology & botany\", \"analytical chemistry\", \"applied physics\", \n\"astronomy & astrophysics\", \"meteorology & atmospheric sciences\", \n\"astronomy & astrophysics\", \"astronomy & astrophysics\", \"organic chemistry\", \n\"analytical chemistry\", \"organic chemistry\", \"polymers\", \"inorganic & nuclear chemistry\", \n\"organic chemistry\", \"meteorology & atmospheric sciences\", \"marine biology & hydrobiology\", \n\"meteorology & atmospheric sciences\", \"meteorology & atmospheric sciences\", \n\"marine biology & hydrobiology\", \"meteorology & atmospheric sciences\", \n\"meteorology & atmospheric sciences\", \"meteorology & atmospheric sciences\", \n\"environmental sciences\", \"meteorology & atmospheric sciences\", \n\"meteorology & atmospheric sciences\", \"evolutionary biology\", \n\"evolutionary biology\", \"ecology\", \"applied physics\", \"physical chemistry\", \n\"environmental sciences\", \"meteorology & atmospheric sciences\", \n\"organic chemistry\", \"organic chemistry\", \"physical chemistry\", \n\"physical chemistry\", \"applied physics\", \"applied physics\", \"astronomy & astrophysics\", \n\"astronomy & astrophysics\", \"astronomy & astrophysics\", \"meteorology & atmospheric sciences\", \n\"marine biology & hydrobiology\", \"astronomy & astrophysics\", \n\"ecology\", \"geochemistry & geophysics\", \"meteorology & atmospheric sciences\", \n\"applied physics\", \"optics\", \"organic chemistry\", \"applied physics\", \n\"general physics\", \"applied physics\", \"organic chemistry\", \"plant biology & botany\", \n\"applied physics\", \"chemical physics\", \"applied physics\", \"optics\", \n\"optics\", \"general physics\", \"optics\", \"applied physics\", \"chemical physics\", \n\"fluids & plasmas\", \"general physics\", \"fluids & plasmas\", \"fluids & plasmas\", \n\"fluids & plasmas\", \"general physics\", \"general physics\", \"chemical physics\", \n\"oceanography\", \"meteorology & atmospheric sciences\", \"general physics\", \n\"meteorology & atmospheric sciences\", \"meteorology & atmospheric sciences\", \n\"meteorology & atmospheric sciences\", \"meteorology & atmospheric sciences\", \n\"ecology\", \"fluids & plasmas\", \"meteorology & atmospheric sciences\", \n\"general physics\", \"chemical physics\", \"meteorology & atmospheric sciences\", \n\"chemical physics\", \"environmental sciences\", \"fluids & plasmas\", \n\"astronomy & astrophysics\", \"general physics\", \"meteorology & atmospheric sciences\", \n\"general physics\", \"meteorology & atmospheric sciences\", \"organic chemistry\", \n\"general physics\", \"environmental sciences\", \"chemical physics\", \n\"geochemistry & geophysics\", \"organic chemistry\", \"ecology\", \n\"astronomy & astrophysics\", \"applied physics\", \"fluids & plasmas\", \n\"marine biology & hydrobiology\", \"fluids & plasmas\", \"polymers\", \n\"meteorology & atmospheric sciences\", \"marine biology & hydrobiology\", \n\"applied physics\", \"polymers\", \"marine biology & hydrobiology\", \n\"applied physics\", \"plant biology & botany\", \"organic chemistry\", \n\"fluids & plasmas\", \"meteorology & atmospheric sciences\", \"environmental sciences\", \n\"geochemistry & geophysics\", \"meteorology & atmospheric sciences\", \n\"meteorology & atmospheric sciences\", \"analytical chemistry\", \n\"marine biology & hydrobiology\", \"evolutionary biology\", \"marine biology & hydrobiology\", \n\"plant biology & botany\", \"meteorology & atmospheric sciences\", \n\"environmental sciences\", \"plant biology & botany\", \"marine biology & hydrobiology\", \n\"plant biology & botany\", \"marine biology & hydrobiology\", \"environmental sciences\", \n\"environmental sciences\", \"environmental sciences\", \"ecology\", \n\"polymers\", \"environmental sciences\", \"organic chemistry\", \"ecology\", \n\"applied physics\", \"applied physics\", \"chemical physics\", \"chemical physics\", \n\"chemical physics\", \"organic chemistry\", \"chemical physics\", \n\"ecology\", \"chemical physics\", \"plant biology & botany\", \"chemical physics\", \n\"analytical chemistry\", \"environmental sciences\", \"chemical physics\", \n\"fluids & plasmas\", \"fluids & plasmas\", \"polymers\", \"analytical chemistry\", \n\"inorganic & nuclear chemistry\", \"analytical chemistry\", \"chemical physics\", \n\"environmental sciences\", \"chemical physics\", \"applied physics\", \n\"environmental sciences\", \"applied physics\", \"applied physics\", \n\"applied physics\", \"applied physics\", \"optics\", \"polymers\", \"fluids & plasmas\", \n\"optics\", \"chemical physics\", \"optics\", \"applied physics\", \"meteorology & atmospheric sciences\", \n\"meteorology & atmospheric sciences\", \"optics\", \"organic chemistry\", \n\"physical chemistry\", \"chemical physics\", \"physical chemistry\", \n\"applied physics\", \"meteorology & atmospheric sciences\", \"meteorology & atmospheric sciences\", \n\"evolutionary biology\", \"ecology\", \"meteorology & atmospheric sciences\", \n\"ecology\", \"applied physics\", \"ecology\", \"ecology\", \"chemical physics\", \n\"organic chemistry\", \"paleontology\", \"optics\", \"meteorology & atmospheric sciences\", \n\"meteorology & atmospheric sciences\", \"plant biology & botany\", \n\"meteorology & atmospheric sciences\", \"plant biology & botany\", \n\"analytical chemistry\", \"inorganic & nuclear chemistry\", \"environmental sciences\", \n\"organic chemistry\", \"ecology\", \"fluids & plasmas\", \"environmental sciences\", \n\"chemical physics\", \"astronomy & astrophysics\", \"chemical physics\", \n\"astronomy & astrophysics\", \"geochemistry & geophysics\", \"evolutionary biology\", \n\"physical chemistry\", \"marine biology & hydrobiology\", \"fluids & plasmas\", \n\"meteorology & atmospheric sciences\", \"applied physics\", \"evolutionary biology\", \n\"applied physics\", \"fluids & plasmas\", \"geochemistry & geophysics\", \n\"evolutionary biology\", \"environmental sciences\", \"optics\", \"medicinal & biomolecular chemistry\", \n\"ecology\", \"meteorology & atmospheric sciences\", \"meteorology & atmospheric sciences\", \n\"chemical physics\", \"plant biology & botany\", \"applied physics\", \n\"marine biology & hydrobiology\", \"ecology\", \"chemical physics\", \n\"chemical physics\", \"applied physics\", \"polymers\", \"evolutionary biology\", \n\"environmental sciences\", \"environmental sciences\", \"environmental sciences\", \n\"marine biology & hydrobiology\", \"ecology\", \"astronomy & astrophysics\", \n\"meteorology & atmospheric sciences\", \"ecology\", \"meteorology & atmospheric sciences\", \n\"meteorology & atmospheric sciences\", \"meteorology & atmospheric sciences\", \n\"environmental sciences\", \"environmental sciences\", \"meteorology & atmospheric sciences\", \n\"environmental sciences\", \"meteorology & atmospheric sciences\", \n\"environmental sciences\", \"environmental sciences\", \"meteorology & atmospheric sciences\", \n\"meteorology & atmospheric sciences\", \"meteorology & atmospheric sciences\", \n\"environmental sciences\", \"ecology\", \"environmental sciences\", \n\"ecology\", \"astronomy & astrophysics\", \"entomology\", \"ecology\", \n\"ecology\", \"environmental sciences\", \"ecology\", \"ecology\", \"plant biology & botany\", \n\"plant biology & botany\", \"evolutionary biology\", \"marine biology & hydrobiology\", \n\"evolutionary biology\", \"evolutionary biology\", \"plant biology & botany\", \n\"ecology\", \"entomology\", \"evolutionary biology\", \"marine biology & hydrobiology\", \n\"ecology\", \"ecology\", \"ecology\", \"marine biology & hydrobiology\", \n\"ecology\", \"paleontology\", \"ecology\", \"applied physics\", \"environmental sciences\", \n\"plant biology & botany\", \"marine biology & hydrobiology\", \"ecology\", \n\"ecology\", \"evolutionary biology\", \"ecology\", \"ecology\", \"ecology\", \n\"ecology\", \"ecology\", \"ecology\", \"ecology\", \"ecology\", \"marine biology & hydrobiology\", \n\"meteorology & atmospheric sciences\", \"ecology\", \"marine biology & hydrobiology\", \n\"ecology\", \"meteorology & atmospheric sciences\", \"meteorology & atmospheric sciences\", \n\"ecology\", \"marine biology & hydrobiology\", \"ecology\", \"marine biology & hydrobiology\", \n\"meteorology & atmospheric sciences\", \"ecology\", \"ecology\", \"ecology\", \n\"plant biology & botany\", \"plant biology & botany\", \"ecology\", \n\"plant biology & botany\", \"plant biology & botany\", \"plant biology & botany\", \n\"plant biology & botany\", \"plant biology & botany\", \"marine biology & hydrobiology\", \n\"environmental sciences\", \"applied physics\", \"optics\", \"marine biology & hydrobiology\", \n\"optics\", \"polymers\", \"applied physics\", \"meteorology & atmospheric sciences\", \n\"chemical physics\", \"meteorology & atmospheric sciences\", \"meteorology & atmospheric sciences\", \n\"analytical chemistry\", \"optics\", \"applied physics\", \"ecology\", \n\"meteorology & atmospheric sciences\", \"marine biology & hydrobiology\", \n\"meteorology & atmospheric sciences\", \"evolutionary biology\", \n\"optics\", \"environmental sciences\", \"ecology\", \"polymers\", \"analytical chemistry\", \n\"chemical physics\", \"chemical physics\", \"analytical chemistry\", \n\"applied physics\", \"chemical physics\", \"polymers\", \"applied physics\", \n\"environmental sciences\", \"applied physics\", \"meteorology & atmospheric sciences\", \n\"ecology\", \"polymers\", \"meteorology & atmospheric sciences\", \n\"environmental sciences\", \"organic chemistry\", \"general physics\", \n\"polymers\", \"ecology\", \"polymers\", \"general physics\", \"applied physics\", \n\"applied physics\", \"organic chemistry\", \"organic chemistry\", \n\"plant biology & botany\", \"applied physics\", \"meteorology & atmospheric sciences\", \n\"applied physics\", \"general physics\", \"organic chemistry\", \"polymers\", \n\"organic chemistry\", \"applied physics\", \"chemical physics\", \"applied physics\", \n\"ecology\", \"ecology\", \"optics\", \"environmental sciences\", \"physical chemistry\", \n\"environmental sciences\", \"applied physics\", \"polymers\", \"general physics\", \n\"ecology\", \"inorganic & nuclear chemistry\", \"evolutionary biology\", \n\"chemical physics\", \"meteorology & atmospheric sciences\", \"marine biology & hydrobiology\", \n\"meteorology & atmospheric sciences\", \"environmental sciences\", \n\"polymers\", \"environmental sciences\", \"marine biology & hydrobiology\", \n\"entomology\", \"marine biology & hydrobiology\", \"ecology\", \"ecology\", \n\"meteorology & atmospheric sciences\", \"ecology\", \"plant biology & botany\", \n\"environmental sciences\", \"marine biology & hydrobiology\", \"plant biology & botany\", \n\"environmental sciences\", \"polymers\", \"plant biology & botany\", \n\"plant biology & botany\", \"plant biology & botany\", \"plant biology & botany\", \n\"entomology\", \"evolutionary biology\", \"marine biology & hydrobiology\", \n\"ecology\", \"ecology\", \"environmental sciences\", \"marine biology & hydrobiology\", \n\"plant biology & botany\", \"astronomy & astrophysics\", \"environmental sciences\", \n\"ecology\", \"plant biology & botany\", \"environmental sciences\", \n\"environmental sciences\", \"astronomy & astrophysics\", \"astronomy & astrophysics\", \n\"polymers\", \"plant biology & botany\", \"analytical chemistry\", \n\"plant biology & botany\", \"environmental sciences\", \"environmental sciences\", \n\"acoustics\", \"astronomy & astrophysics\", \"astronomy & astrophysics\", \n\"ecology\", \"evolutionary biology\", \"marine biology & hydrobiology\", \n\"entomology\"), q = structure(c(3L, 3L, 3L, 3L, 3L, 3L, 3L, 3L, \n3L, 3L, 3L, 3L, 3L, 3L, 3L, 3L, 3L, 3L, 3L, 3L, 3L, 3L, 3L, 3L, \n3L, 3L, 3L, 3L, 3L, 3L, 3L, 3L, 3L, 3L, 3L, 3L, 3L, 3L, 3L, 3L, \n3L, 3L, 3L, 3L, 3L, 3L, 3L, 3L, 3L, 3L, 3L, 3L, 3L, 3L, 3L, 3L, \n3L, 3L, 3L, 3L, 3L, 3L, 3L, 3L, 3L, 3L, 3L, 3L, 3L, 3L, 3L, 3L, \n3L, 3L, 3L, 3L, 3L, 3L, 3L, 3L, 3L, 3L, 3L, 3L, 3L, 3L, 3L, 3L, \n3L, 3L, 3L, 3L, 3L, 3L, 3L, 3L, 3L, 3L, 3L, 3L, 3L, 3L, 3L, 3L, \n3L, 3L, 3L, 3L, 3L, 3L, 3L, 3L, 3L, 3L, 3L, 3L, 3L, 3L, 3L, 3L, \n3L, 3L, 3L, 3L, 3L, 3L, 3L, 3L, 3L, 3L, 3L, 3L, 3L, 3L, 3L, 3L, \n3L, 3L, 3L, 3L, 3L, 3L, 3L, 3L, 3L, 3L, 3L, 3L, 3L, 3L, 3L, 3L, \n3L, 3L, 3L, 3L, 3L, 3L, 3L, 3L, 3L, 3L, 3L, 3L, 3L, 3L, 3L, 3L, \n3L, 3L, 3L, 3L, 3L, 3L, 3L, 3L, 3L, 3L, 3L, 3L, 3L, 3L, 3L, 3L, \n3L, 3L, 3L, 3L, 3L, 3L, 3L, 3L, 3L, 3L, 3L, 3L, 3L, 3L, 3L, 3L, \n3L, 3L, 3L, 3L, 3L, 3L, 3L, 3L, 3L, 3L, 3L, 3L, 3L, 3L, 3L, 3L, \n3L, 3L, 3L, 3L, 3L, 3L, 3L, 3L, 3L, 3L, 3L, 3L, 3L, 3L, 3L, 3L, \n3L, 3L, 3L, 3L, 3L, 3L, 3L, 3L, 3L, 3L, 3L, 3L, 3L, 3L, 3L, 3L, \n3L, 3L, 3L, 3L, 3L, 3L, 3L, 3L, 3L, 3L, 3L, 3L, 3L, 3L, 3L, 3L, \n3L, 3L, 3L, 3L, 3L, 3L, 3L, 3L, 3L, 3L, 3L, 3L, 3L, 3L, 3L, 3L, \n3L, 3L, 3L, 3L, 3L, 3L, 3L, 3L, 3L, 3L, 3L, 3L, 3L, 3L, 3L, 3L, \n3L, 3L, 3L, 3L, 3L, 3L, 3L, 3L, 3L, 3L, 3L, 3L, 3L, 3L, 3L, 3L, \n3L, 3L, 3L, 3L, 3L, 3L, 3L, 3L, 3L, 3L, 3L, 3L, 3L, 3L, 3L, 3L, \n3L, 3L, 3L, 3L, 3L, 3L, 3L, 3L, 3L, 3L, 3L, 3L, 3L, 3L, 3L, 3L, \n3L, 3L, 3L, 3L, 3L, 3L, 3L, 3L, 3L, 3L, 3L, 3L, 3L, 3L, 3L, 3L, \n3L, 3L, 3L, 3L, 3L, 3L, 3L, 3L, 3L, 3L, 3L, 3L, 3L, 3L, 3L, 3L, \n3L, 3L, 3L, 3L, 3L, 3L, 3L, 3L, 3L, 3L, 3L, 3L, 3L, 3L, 3L, 3L, \n3L, 3L, 3L, 3L, 3L, 3L, 3L, 3L, 3L, 3L, 3L, 3L, 3L, 3L, 3L, 3L, \n3L, 3L, 3L, 3L, 3L, 3L, 3L, 3L, 3L, 3L, 3L, 3L, 3L, 3L, 3L, 3L, \n3L, 3L, 3L, 3L, 3L, 3L, 3L, 3L, 3L, 3L, 3L, 3L, 3L, 3L, 3L, 3L, \n3L, 2L, 3L, 3L, 3L, 3L, 3L, 3L, 3L, 3L, 3L, 3L, 3L, 3L, 3L, 3L, \n3L, 3L, 3L, 3L, 3L, 3L, 3L, 3L, 3L, 3L, 3L, 3L, 3L, 3L, 3L, 3L, \n3L, 3L, 3L, 3L, 3L, 3L, 3L, 3L, 3L, 3L, 3L, 3L, 3L, 3L, 3L, 3L, \n3L, 3L, 3L, 3L, 3L, 3L, 3L, 3L, 3L, 3L, 3L, 3L, 3L, 3L, 3L, 3L, \n3L, 3L, 3L, 3L, 3L, 3L, 3L, 3L, 3L, 3L, 3L, 3L, 3L, 3L, 3L, 3L, \n3L, 3L, 3L, 3L, 2L, 3L, 3L, 3L, 3L, 3L, 3L, 3L, 3L, 3L, 3L, 3L, \n3L, 3L, 3L, 3L, 3L, 3L, 3L, 3L, 2L, 3L, 3L, 3L, 3L, 3L, 3L, 3L, \n3L, 3L, 3L, 3L, 3L, 3L, 3L, 3L, 3L, 3L, 3L, 3L, 3L, 3L, 3L, 3L, \n3L, 3L, 3L, 3L, 3L, 3L, 3L, 3L, 3L, 3L, 3L, 3L, 3L, 3L, 3L, 3L, \n3L, 3L, 3L, 3L, 3L, 3L, 3L, 3L, 3L, 3L, 3L, 3L, 3L, 3L, 3L, 3L, \n2L, 3L, 3L, 3L, 3L, 3L, 3L, 3L, 3L, 3L, 3L, 3L, 3L, 3L, 3L, 3L, \n3L, 3L, 3L, 3L, 3L, 3L, 3L, 3L, 3L, 3L, 3L, 3L, 3L, 3L, 3L, 3L, \n3L, 3L, 3L, 3L, 3L, 3L, 3L, 3L, 3L, 3L, 3L, 3L, 3L, 3L, 3L, 3L, \n3L, 3L, 3L, 3L, 3L, 3L, 3L, 3L, 3L, 3L, 3L, 3L, 3L, 3L, 3L, 3L, \n3L, 3L, 3L, 3L, 3L, 3L, 3L, 3L, 3L, 3L, 3L, 3L, 3L, 3L, 3L, 3L, \n3L, 3L, 3L, 3L, 3L, 3L, 3L, 3L, 3L, 3L, 3L, 3L, 3L, 3L, 3L, 3L, \n3L, 3L, 3L, 3L, 3L, 3L, 3L, 3L, 3L, 3L, 3L, 3L, 3L, 3L, 3L, 3L, \n3L, 2L, 3L, 3L, 3L, 3L, 3L, 3L, 3L, 3L, 1L, 3L, 3L, 3L, 3L, 2L, \n3L, 3L, 3L), .Label = c(\"1\", \"2\", \"3\"), class = \"factor\")), class = \"data.frame\", row.names = c(\"70\", \n\"105\", \"109\", \"114\", \"125\", \"136\", \"139\", \"142\", \"153\", \"156\", \n\"157\", \"165\", \"181\", \"203\", \"204\", \"222\", \"251\", \"252\", \"258\", \n\"259\", \"262\", \"266\", \"269\", \"271\", \"278\", \"280\", \"281\", \"283\", \n\"284\", \"286\", \"298\", \"302\", \"307\", \"311\", \"315\", \"317\", \"322\", \n\"323\", \"328\", \"331\", \"332\", \"336\", \"337\", \"342\", \"344\", \"352\", \n\"357\", \"362\", \"363\", \"379\", \"396\", \"402\", \"413\", \"418\", \"423\", \n\"427\", \"428\", \"430\", \"431\", \"433\", \"434\", \"439\", \"451\", \"459\", \n\"473\", \"477\", \"478\", \"489\", \"500\", \"507\", \"534\", \"560\", \"561\", \n\"562\", \"564\", \"616\", \"668\", \"678\", \"680\", \"681\", \"686\", \"687\", \n\"688\", \"722\", \"723\", \"726\", \"732\", \"743\", \"746\", \"747\", \"748\", \n\"749\", \"796\", \"802\", \"818\", \"849\", \"853\", \"854\", \"855\", \"873\", \n\"912\", \"914\", \"916\", \"921\", \"927\", \"940\", \"974\", \"983\", \"987\", \n\"996\", \"1006\", \"1011\", \"1022\", \"1032\", \"1034\", \"1036\", \"1059\", \n\"1069\", \"1071\", \"1084\", \"1086\", \"1090\", \"1103\", \"1109\", \"1121\", \n\"1143\", \"1174\", \"1184\", \"1185\", \"1188\", \"1192\", \"1193\", \"1209\", \n\"1222\", \"1228\", \"1231\", \"1263\", \"1269\", \"1276\", \"1277\", \"1278\", \n\"1279\", \"1280\", \"1283\", \"1284\", \"1286\", \"1295\", \"1297\", \"1299\", \n\"1301\", \"1302\", \"1303\", \"1305\", \"1308\", \"1310\", \"1311\", \"1313\", \n\"1314\", \"1315\", \"1319\", \"1324\", \"1332\", \"1335\", \"1336\", \"1339\", \n\"1340\", \"1342\", \"1343\", \"1346\", \"1357\", \"1360\", \"1363\", \"1366\", \n\"1367\", \"1368\", \"1378\", \"1383\", \"1388\", \"1390\", \"1404\", \"1405\", \n\"1409\", \"1410\", \"1411\", \"1449\", \"1452\", \"1455\", \"1457\", \"1461\", \n\"1475\", \"1479\", \"1480\", \"1481\", \"1485\", \"1486\", \"1487\", \"1489\", \n\"1497\", \"1545\", \"1554\", \"1558\", \"1564\", \"1568\", \"1586\", \"1590\", \n\"1593\", \"1600\", \"1605\", \"1606\", \"1613\", \"1629\", \"1630\", \"1632\", \n\"1633\", \"1637\", \"1639\", \"1645\", \"1646\", \"1647\", \"1648\", \"1682\", \n\"1689\", \"1691\", \"1710\", \"1711\", \"1715\", \"1716\", \"1719\", \"1722\", \n\"1723\", \"1728\", \"1732\", \"1734\", \"1740\", \"1748\", \"1758\", \"1763\", \n\"1783\", \"1785\", \"1792\", \"1794\", \"1804\", \"1806\", \"1809\", \"1810\", \n\"1811\", \"1823\", \"1838\", \"1841\", \"1846\", \"1850\", \"1857\", \"1858\", \n\"1863\", \"1865\", \"1868\", \"1873\", \"1877\", \"1881\", \"1895\", \"1910\", \n\"1916\", \"1926\", \"1931\", \"1938\", \"1941\", \"1959\", \"1962\", \"1963\", \n\"1967\", \"1972\", \"1973\", \"1980\", \"1982\", \"1983\", \"1985\", \"1988\", \n\"1989\", \"1990\", \"1991\", \"2009\", \"2011\", \"2019\", \"2020\", \"2021\", \n\"2022\", \"2033\", \"2052\", \"2056\", \"2057\", \"2060\", \"2061\", \"2063\", \n\"2064\", \"2067\", \"2070\", \"2072\", \"2074\", \"2075\", \"2076\", \"2077\", \n\"2078\", \"2080\", \"2081\", \"2089\", \"2094\", \"2104\", \"2112\", \"2124\", \n\"2136\", \"2137\", \"2153\", \"2157\", \"2162\", \"2167\", \"2173\", \"2176\", \n\"2177\", \"2178\", \"2179\", \"2180\", \"2181\", \"2182\", \"2183\", \"2184\", \n\"2194\", \"2206\", \"2208\", \"2217\", \"2225\", \"2235\", \"2246\", \"2268\", \n\"2271\", \"2275\", \"2290\", \"2293\", \"2294\", \"2295\", \"2297\", \"2298\", \n\"2301\", \"2305\", \"2306\", \"2307\", \"2308\", \"2310\", \"2311\", \"2313\", \n\"2320\", \"2323\", \"2327\", \"2329\", \"2331\", \"2335\", \"2336\", \"2339\", \n\"2342\", \"2345\", \"2347\", \"2348\", \"2351\", \"2353\", \"2354\", \"2355\", \n\"2356\", \"2358\", \"2360\", \"2361\", \"2362\", \"2365\", \"2368\", \"2369\", \n\"2370\", \"2371\", \"2374\", \"2384\", \"2391\", \"2396\", \"2399\", \"2400\", \n\"2402\", \"2403\", \"2405\", \"2415\", \"2422\", \"2423\", \"2438\", \"2451\", \n\"2453\", \"2488\", \"2498\", \"2527\", \"2537\", \"2542\", \"2543\", \"2554\", \n\"2567\", \"2573\", \"2578\", \"2583\", \"2588\", \"2591\", \"2592\", \"2596\", \n\"2601\", \"2610\", \"2621\", \"2634\", \"2648\", \"2666\", \"2677\", \"2678\", \n\"2680\", \"2682\", \"2684\", \"2690\", \"2698\", \"2704\", \"2706\", \"2713\", \n\"2714\", \"2717\", \"2718\", \"2719\", \"2724\", \"2734\", \"2747\", \"2752\", \n\"2756\", \"2767\", \"2768\", \"2769\", \"2777\", \"2778\", \"2779\", \"2784\", \n\"2786\", \"2792\", \"2793\", \"2803\", \"2817\", \"2820\", \"2821\", \"2824\", \n\"2826\", \"2828\", \"2845\", \"2847\", \"2848\", \"2849\", \"2852\", \"2857\", \n\"2861\", \"2863\", \"2867\", \"2870\", \"2873\", \"2877\", \"2881\", \"2891\", \n\"2893\", \"2897\", \"2910\", \"2913\", \"2916\", \"2922\", \"2931\", \"2936\", \n\"2938\", \"2946\", \"2947\", \"2948\", \"2951\", \"2956\", \"2957\", \"2958\", \n\"2959\", \"2965\", \"2973\", \"2976\", \"2978\", \"2979\", \"2986\", \"2988\", \n\"2999\", \"3001\", \"3002\", \"3003\", \"3011\", \"3013\", \"3014\", \"3032\", \n\"3034\", \"3035\", \"3037\", \"3039\", \"3042\", \"3047\", \"3051\", \"3052\", \n\"3059\", \"3061\", \"3062\", \"3064\", \"3065\", \"3066\", \"3068\", \"3074\", \n\"3078\", \"3079\", \"3088\", \"3093\", \"3095\", \"3098\", \"3108\", \"3118\", \n\"3121\", \"3150\", \"3162\", \"3163\", \"3180\", \"3182\", \"3184\", \"3185\", \n\"3192\", \"3194\", \"3195\", \"3200\", \"3201\", \"3203\", \"3205\", \"3206\", \n\"3214\", \"3215\", \"3218\", \"3221\", \"3224\", \"3225\", \"3231\", \"3233\", \n\"3237\", \"3242\", \"3245\", \"3263\", \"3278\", \"3279\", \"3290\", \"3292\", \n\"3323\", \"3328\", \"3329\", \"3331\", \"3333\", \"3334\", \"3335\", \"3345\", \n\"3352\", \"3359\", \"3364\", \"3367\", \"3368\", \"3372\", \"3373\", \"3374\", \n\"3377\", \"3379\", \"3380\", \"3386\", \"3387\", \"3393\", \"3395\", \"3396\", \n\"3397\", \"3398\", \"3404\", \"3431\", \"3432\", \"3433\", \"3436\", \"3443\", \n\"3444\", \"3450\", \"3453\", \"3455\", \"3459\", \"3461\", \"3462\", \"3463\", \n\"3465\", \"3471\", \"3474\", \"3475\", \"3477\", \"3480\", \"3481\", \"3488\", \n\"3511\", \"3514\", \"3518\", \"3519\", \"3528\", \"3529\", \"3530\", \"3532\", \n\"3533\", \"3538\", \"3543\", \"3546\", \"3551\", \"3553\", \"3556\", \"3557\", \n\"3574\", \"3582\", \"3588\", \"3598\", \"3602\", \"3608\", \"3610\", \"3618\", \n\"3620\", \"3621\", \"3623\", \"3628\", \"3633\", \"3634\", \"3638\", \"3650\", \n\"3658\", \"3660\", \"3668\", \"3672\", \"3682\", \"3684\", \"3685\", \"3694\", \n\"3697\", \"3699\", \"3701\", \"3706\", \"3707\", \"3711\", \"3713\", \"3714\", \n\"3717\", \"3720\", \"3722\", \"3727\", \"3729\", \"3730\", \"3731\", \"3740\", \n\"3741\", \"3744\", \"3746\", \"3751\", \"3752\", \"3755\", \"3780\", \"3786\", \n\"3788\", \"3789\", \"3798\", \"3809\", \"3811\", \"3812\", \"3814\", \"3816\", \n\"3818\", \"3828\", \"3840\", \"3845\", \"3848\", \"3861\", \"3862\", \"3865\", \n\"3869\", \"3874\", \"3878\", \"3886\", \"3887\", \"3942\", \"4053\", \"4054\", \n\"4056\", \"4062\", \"4068\", \"4069\", \"4074\", \"4076\", \"4082\", \"4084\", \n\"4101\", \"4106\", \"4124\", \"4146\", \"4161\", \"4175\", \"4177\", \"4216\", \n\"4217\", \"4218\", \"4226\", \"4232\", \"4233\", \"4235\", \"4240\", \"4241\", \n\"4268\", \"4273\", \"4277\", \"4299\", \"4307\", \"4337\", \"4342\", \"4347\", \n\"4348\", \"4353\", \"4360\", \"4362\", \"4370\", \"4378\", \"4383\", \"4396\", \n\"4400\", \"4401\", \"4402\", \"4404\", \"4408\", \"4419\")))\n\nDeviance Residuals: \n      Min         1Q     Median         3Q        Max  \n-0.055898  -0.018196  -0.002956   0.014921   0.126063  \n\nCoefficients:\n                                              Estimate Std. Error t value\n(Intercept)                                  0.0670901  0.0264088   2.540\ngendermale                                   0.0018725  0.0022804   0.821\nyear2019                                    -0.0009949  0.0028780  -0.346\nyear2020                                     0.0016744  0.0030527   0.549\nyear2021                                     0.0072160  0.0034410   2.097\nyear2022                                     0.0038135  0.0031589   1.207\nField_EnglishChemistry                       0.0092294  0.0028739   3.211\nField_EnglishEarth & Environmental Sciences  0.0030082  0.0026526   1.134\nField_EnglishPhysics & Astronomy             0.0063298  0.0026192   2.417\nq2                                           0.0061352  0.0282287   0.217\nq3                                          -0.0105864  0.0261478  -0.405\n                                            Pr(>|t|)   \n(Intercept)                                  0.01128 * \ngendermale                                   0.41183   \nyear2019                                     0.72968   \nyear2020                                     0.58351   \nyear2021                                     0.03634 * \nyear2022                                     0.22774   \nField_EnglishChemistry                       0.00138 **\nField_EnglishEarth & Environmental Sciences  0.25714   \nField_EnglishPhysics & Astronomy             0.01591 * \nq2                                           0.82800   \nq3                                           0.68569   \n---\nSignif. codes:  0 ‘***’ 0.001 ‘**’ 0.01 ‘*’ 0.05 ‘.’ 0.1 ‘ ’ 1\n\n(Dispersion parameter for gaussian family taken to be 0.0006771616)\n\n    Null deviance: 0.50357  on 730  degrees of freedom\nResidual deviance: 0.48756  on 720  degrees of freedom\nAIC: -3247.1\n\nNumber of Fisher Scoring iterations: 2\n\n\n"
     ]
    }
   ],
   "source": [
    "tmp = pd.DataFrame()\n",
    "tmp['positive'] = dummy['positive']\n",
    "tmp['gender'] = dummy['gender']\n",
    "tmp['year'] = dummy['year']\n",
    "tmp['Domain_English'] = dummy['Domain_English']\n",
    "tmp['Field_English'] = dummy['Field_English']\n",
    "tmp['SubField_English'] = dummy['SubField_English']\n",
    "tmp['q'] = dummy['q']\n",
    "\n",
    "\n",
    "#tmp = tmp[tmp['Domain_English'] == 'Applied Sciences'] #insig\n",
    "#tmp = tmp[tmp['Domain_English'] == 'Arts & Humanities'] #insig\n",
    "#tmp = tmp[tmp['Domain_English'] == 'Economic & Social Sciences'] #insig\n",
    "#tmp = tmp[tmp['Domain_English'] == 'Health Sciences'] #insig\n",
    "#tmp = tmp[tmp['Domain_English'] == 'Natural Sciences'] #insig\n",
    "\n",
    "\n",
    "\n",
    "\n",
    "with localconverter(ro.default_converter + pandas2ri.converter):\n",
    "  tst_df = ro.conversion.py2rpy(tmp)\n",
    "\n",
    "col_2_index = list(tst_df.colnames).index('year')\n",
    "col_2 = ro.vectors.FactorVector(tst_df.rx2('year'))\n",
    "tst_df[col_2_index] = col_2\n",
    "\n",
    "col_2_index = list(tst_df.colnames).index('q')\n",
    "col_2 = ro.vectors.FactorVector(tst_df.rx2('q'))\n",
    "tst_df[col_2_index] = col_2\n",
    "\n",
    "\n",
    "'''col_2_index = list(tst_df.colnames).index('Domain_English')\n",
    "col_2 = ro.vectors.FactorVector(tst_df.rx2('Domain_English'))\n",
    "tst_df[col_2_index] = col_2'''\n",
    "\n",
    "col_2_index = list(tst_df.colnames).index('Field_English')\n",
    "col_2 = ro.vectors.FactorVector(tst_df.rx2('Field_English'))\n",
    "tst_df[col_2_index] = col_2\n",
    "\n",
    "\n",
    "\n",
    "#print(tst_df)\n",
    "#pandas2ri.activate()\n",
    "model = stats.glm(\"positive ~ gender+year+Field_English+q\",\n",
    "                  data=tst_df,family=ro.r('gaussian')) #family=ro.r('gaussian(link=\"identity\")') #family=ro.r('poisson(link=\"log\")')\n",
    "print(base.summary(model))"
   ]
  },
  {
   "cell_type": "code",
   "execution_count": 0,
   "metadata": {
    "application/vnd.databricks.v1+cell": {
     "cellMetadata": {
      "byteLimit": 2048000,
      "rowLimit": 10000
     },
     "inputWidgets": {},
     "nuid": "c8e78af7-29bc-4581-ae98-99bbd4450724",
     "showTitle": false,
     "title": ""
    }
   },
   "outputs": [
    {
     "output_type": "stream",
     "name": "stdout",
     "output_type": "stream",
     "text": [
      "4422\n"
     ]
    }
   ],
   "source": [
    "dummy = merged_neu.copy()\n",
    "dummy = dummy.dropna(subset = ['cor_gender'])\n",
    "print(len(dummy))\n",
    "gender = []\n",
    "for ind in dummy.index:\n",
    "    if dummy['cor_gender'][ind] == \"female\" or dummy['cor_gender'][ind] == \"f\" or dummy['cor_gender'][ind] == \"F\":\n",
    "        gender.append(\"female\")\n",
    "    else: ##there is no null value in gender, so it is safe to say that if someone is not female, he must be male\n",
    "        gender.append(\"male\")\n",
    "dummy['gender'] = gender"
   ]
  },
  {
   "cell_type": "code",
   "execution_count": 0,
   "metadata": {
    "application/vnd.databricks.v1+cell": {
     "cellMetadata": {
      "byteLimit": 2048000,
      "rowLimit": 10000
     },
     "inputWidgets": {},
     "nuid": "82348cd8-7aad-4773-82d4-13430eeaab40",
     "showTitle": false,
     "title": ""
    }
   },
   "outputs": [],
   "source": [
    "q = []\n",
    "q1,q2,q3 = 0.123,0.25,0.593\n",
    "for ind in dummy.index:\n",
    "  if dummy['SJR'][ind] <= q1:\n",
    "    q.append(0)\n",
    "  elif dummy['SJR'][ind] > q1 and dummy['SJR'][ind] <= q2:\n",
    "    q.append(1)\n",
    "  elif dummy['SJR'][ind] > q2 and dummy['SJR'][ind] <= q3:\n",
    "    q.append(2)\n",
    "  else:\n",
    "    q.append(3)\n",
    "dummy['q'] = q"
   ]
  },
  {
   "cell_type": "code",
   "execution_count": 0,
   "metadata": {
    "application/vnd.databricks.v1+cell": {
     "cellMetadata": {
      "byteLimit": 2048000,
      "rowLimit": 10000
     },
     "inputWidgets": {},
     "nuid": "58047ea4-f5e8-4913-beef-435f545e70ba",
     "showTitle": false,
     "title": ""
    }
   },
   "outputs": [
    {
     "output_type": "stream",
     "name": "stdout",
     "output_type": "stream",
     "text": [
      "Out[53]: <AxesSubplot:>"
     ]
    },
    {
     "output_type": "display_data",
     "data": {
      "image/png": "[encoded data removed]"
     },
     "metadata": {
      "application/vnd.databricks.v1+output": {
       "addedWidgets": {},
       "arguments": {},
       "data": "data:image/png;base64,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\n",
       "datasetInfos": [],
       "metadata": {},
       "removedWidgets": [],
       "type": "image"
      }
     },
     "output_type": "display_data"
    }
   ],
   "source": [
    "dummy['neutral'].hist()"
   ]
  },
  {
   "cell_type": "code",
   "execution_count": 0,
   "metadata": {
    "application/vnd.databricks.v1+cell": {
     "cellMetadata": {
      "byteLimit": 2048000,
      "rowLimit": 10000
     },
     "inputWidgets": {},
     "nuid": "a66b8875-624b-4b69-91d7-c0d596c3ee80",
     "showTitle": false,
     "title": ""
    }
   },
   "outputs": [
    {
     "output_type": "stream",
     "name": "stdout",
     "output_type": "stream",
     "text": [
      "\nCall:\n(function (formula, family = gaussian, data, weights, subset, \n    na.action, start = NULL, etastart, mustart, offset, control = list(...), \n    model = TRUE, method = \"glm.fit\", x = FALSE, y = TRUE, singular.ok = TRUE, \n    contrasts = NULL, ...) \n{\n    cal <- match.call()\n    if (is.character(family)) \n        family <- get(family, mode = \"function\", envir = parent.frame())\n    if (is.function(family)) \n        family <- family()\n    if (is.null(family$family)) {\n        print(family)\n        stop(\"'family' not recognized\")\n    }\n    if (missing(data)) \n        data <- environment(formula)\n    mf <- match.call(expand.dots = FALSE)\n    m <- match(c(\"formula\", \"data\", \"subset\", \"weights\", \"na.action\", \n        \"etastart\", \"mustart\", \"offset\"), names(mf), 0L)\n    mf <- mf[c(1L, m)]\n    mf$drop.unused.levels <- TRUE\n    mf[[1L]] <- quote(stats::model.frame)\n    mf <- eval(mf, parent.frame())\n    if (identical(method, \"model.frame\")) \n        return(mf)\n    if (!is.character(method) && !is.function(method)) \n        stop(\"invalid 'method' argument\")\n    if (identical(method, \"glm.fit\")) \n        control <- do.call(\"glm.control\", control)\n    mt <- attr(mf, \"terms\")\n    Y <- model.response(mf, \"any\")\n    if (length(dim(Y)) == 1L) {\n        nm <- rownames(Y)\n        dim(Y) <- NULL\n        if (!is.null(nm)) \n            names(Y) <- nm\n    }\n    X <- if (!is.empty.model(mt)) \n        model.matrix(mt, mf, contrasts)\n    else matrix(, NROW(Y), 0L)\n    weights <- as.vector(model.weights(mf))\n    if (!is.null(weights) && !is.numeric(weights)) \n        stop(\"'weights' must be a numeric vector\")\n    if (!is.null(weights) && any(weights < 0)) \n        stop(\"negative weights not allowed\")\n    offset <- as.vector(model.offset(mf))\n    if (!is.null(offset)) {\n        if (length(offset) != NROW(Y)) \n            stop(gettextf(\"number of offsets is %d should equal %d (number of observations)\", \n                length(offset), NROW(Y)), domain = NA)\n    }\n    mustart <- model.extract(mf, \"mustart\")\n    etastart <- model.extract(mf, \"etastart\")\n    fit <- eval(call(if (is.function(method)) \"method\" else method, \n        x = X, y = Y, weights = weights, start = start, etastart = etastart, \n        mustart = mustart, offset = offset, family = family, \n        control = control, intercept = attr(mt, \"intercept\") > \n            0L, singular.ok = singular.ok))\n    if (length(offset) && attr(mt, \"intercept\") > 0L) {\n        fit2 <- eval(call(if (is.function(method)) \"method\" else method, \n            x = X[, \"(Intercept)\", drop = FALSE], y = Y, mustart = fit$fitted.values, \n            weights = weights, offset = offset, family = family, \n            control = control, intercept = TRUE))\n        if (!fit2$converged) \n            warning(\"fitting to calculate the null deviance did not converge -- increase 'maxit'?\")\n        fit$null.deviance <- fit2$deviance\n    }\n    if (model) \n        fit$model <- mf\n    fit$na.action <- attr(mf, \"na.action\")\n    if (x) \n        fit$x <- X\n    if (!y) \n        fit$y <- NULL\n    structure(c(fit, list(call = cal, formula = formula, terms = mt, \n        data = data, offset = offset, control = control, method = method, \n        contrasts = attr(X, \"contrasts\"), xlevels = .getXlevels(mt, \n            mf))), class = c(fit$class, c(\"glm\", \"lm\")))\n})(formula = \"neutral ~ gender+year+Field_English+q\", family = function (link = \"identity\") \n{\n    linktemp <- substitute(link)\n    if (!is.character(linktemp)) \n        linktemp <- deparse(linktemp)\n    okLinks <- c(\"inverse\", \"log\", \"identity\")\n    family <- \"gaussian\"\n    if (linktemp %in% okLinks) \n        stats <- make.link(linktemp)\n    else if (is.character(link)) {\n        stats <- make.link(link)\n        linktemp <- link\n    }\n    else {\n        if (inherits(link, \"link-glm\")) {\n            stats <- link\n            if (!is.null(stats$name)) \n                linktemp <- stats$name\n        }\n        else {\n            stop(gettextf(\"link \\\"%s\\\" not available for %s family; available links are %s\", \n                linktemp, family, paste(sQuote(okLinks), collapse = \", \")), \n                domain = NA)\n        }\n    }\n    structure(list(family = family, link = linktemp, linkfun = stats$linkfun, \n        linkinv = stats$linkinv, variance = function(mu) rep.int(1, \n            length(mu)), dev.resids = function(y, mu, wt) wt * \n            ((y - mu)^2), aic = function(y, n, mu, wt, dev) {\n            nobs <- length(y)\n            nobs * (log(dev/nobs * 2 * pi) + 1) + 2 - sum(log(wt))\n        }, mu.eta = stats$mu.eta, initialize = expression({\n            n <- rep.int(1, nobs)\n            if (is.null(etastart) && is.null(start) && is.null(mustart) && \n                ((family$link == \"inverse\" && any(y == 0)) || \n                  (family$link == \"log\" && any(y <= 0)))) stop(\"cannot find valid starting values: please specify some\")\n            mustart <- y\n        }), validmu = function(mu) TRUE, valideta = stats$valideta), \n        class = \"family\")\n}, data = structure(list(neutral = c(0.8834375, 0.918132556935818, \n0.899952920758538, 0.914750373298199, 0.91840787037037, 0.899033424333424, \n0.9564, 0.95035, 0.924027544466403, 0.907436943476578, 0.905751399928431, \n0.889555448717949, 0.922611736733768, 0.872590909090909, 0.862052339181286, \n0.947806666666667, 0.962142857142857, 0.9142, 0.914833333333333, \n0.936371794871795, 0.893296296296296, 0.827255219421102, 0.886384615384615, \n0.967571428571429, 0.941416666666667, 0.870527406417112, 0.895794739229025, \n0.928619047619048, 0.861763736263736, 0.911333333333333, 0.931318689213086, \n0.836117647058823, 0.9331875, 0.903029411764706, 0.946533333333333, \n0.762666666666667, 0.835117647058824, 0.90125, 0.913355591832865, \n0.921998285251334, 0.898706530214425, 0.942908791208791, 0.903991666666667, \n0.909492592592593, 0.898057692307692, 0.924, 0.896371428571429, \n0.876843137254902, 0.846719865319865, 0.881318159854851, 0.843388888888889, \n0.797666666666667, 0.836894736842105, 0.937624415204678, 0.858928571428571, \n0.91340625, 0.913882352941176, 0.795, 0.902363636363636, 0.864636607142857, \n0.887826086956522, 0.826308743725411, 0.860189393939394, 0.861966666666667, \n0.789272727272727, 0.921624717765894, 0.826841666666667, 0.904892851592852, \n0.87375, 0.913527083333333, 0.911666666666667, 0.9356, 0.911493253373313, \n0.770692307692308, 0.844315789473684, 0.796727272727273, 0.9114, \n0.821428571428572, 0.904714285714286, 0.87394582897945, 0.866148148148148, \n0.929335858203302, 0.7873, 0.93225, 0.862954545454545, 0.875289473684211, \n0.7566, 0.882, 0.804333333333333, 0.951692307692308, 0.786576923076923, \n0.903891891891892, 0.775827380952381, 0.919791666666667, 0.918717577553104, \n0.840611111111111, 0.906307692307692, 0.930333333333334, 0.864533333333333, \n0.916211805555555, 0.891758687258687, 0.844321428571429, 0.890444976076555, \n0.919092899812255, 0.906274468085106, 0.908084215370456, 0.878, \n0.943916666666667, 0.893562825983878, 0.91521052631579, 0.775583333333333, \n0.90176, 0.817472222222222, 0.932125, 0.866695652173913, 0.935300909090909, \n0.861266666666667, 0.931431587301587, 0.882685881370092, 0.880197997835498, \n0.828473684210526, 0.836578947368421, 0.862166666666667, 0.933909090909091, \n0.84825, 0.910722222222222, 0.901916666666667, 0.895026529026529, \n0.851857142857143, 0.906111111111111, 0.899438735177866, 0.839841503267974, \n0.953928571428571, 0.906618055555556, 0.806222222222222, 0.8445, \n0.812230769230769, 0.962391304347826, 0.851217391304348, 0.877, \n0.879741295057599, 0.896876223776224, 0.85068419047619, 0.928681516882838, \n0.939071723851583, 0.933569021256521, 0.967833333333333, 0.874964285714286, \n0.910347011486103, 0.925517398247178, 0.892, 0.905703703703704, \n0.929221931841097, 0.8605, 0.922498327759197, 0.916247619047619, \n0.93694649122807, 0.910464082503556, 0.883675769059401, 0.950347118454661, \n0.919416666666666, 0.867677507322818, 0.883995479511651, 0.849714914914915, \n0.854966666666667, 0.892666393662728, 0.886384615384615, 0.947909090909091, \n0.884333333333333, 0.8387375, 0.918571428571428, 0.924252777777778, \n0.899285714285714, 0.940888095238095, 0.907426315789474, 0.843346774193548, \n0.876769230769231, 0.875142857142857, 0.832851851851852, 0.907046511627907, \n0.906666666666667, 0.926364389233954, 0.85134375, 0.891266666666667, \n0.806633626177744, 0.872683333333333, 0.904854213836478, 0.917928571428571, \n0.919681818181818, 0.953096774193548, 0.9069375, 0.830333333333333, \n0.922359356290088, 0.960988636363636, 0.891776285442952, 0.95325, \n0.868972222222222, 0.910985545518781, 0.911271776766331, 0.931801120448179, \n0.905826923076923, 0.859085748792271, 0.907580901856764, 0.861180327868852, \n0.916178571428571, 0.943833333333333, 0.892882352941176, 0.955633333333333, \n0.943888888888889, 0.842214842502076, 0.861045701490574, 0.909842063492064, \n0.930142857142857, 0.916444444444444, 0.906956521739131, 0.91768, \n0.905619047619047, 0.900263157894737, 0.904867454340607, 0.868045454545455, \n0.926707979324597, 0.793682692307692, 0.895151111111111, 0.828587286527514, \n0.889625595238095, 0.879311827956989, 0.917766374269006, 0.864346120689655, \n0.957526315789474, 0.8767, 0.868897849462365, 0.792157894736842, \n0.92018, 0.892735294117647, 0.837458333333333, 0.844910256410256, \n0.860534259259259, 0.915259523809524, 0.746147619047619, 0.902, \n0.927666666666666, 0.915454545454546, 0.8705, 0.915307692307692, \n0.8903, 0.844352941176471, 0.976614705882353, 0.887137857142857, \n0.870616666666667, 0.912653846153846, 0.970125, 0.926579560790087, \n0.895, 0.86635, 0.829076923076923, 0.890777777777778, 0.874476190476191, \n0.956574337121212, 0.739748023715415, 0.916992260061919, 0.945693137664422, \n0.904077777777778, 0.830583333333333, 0.930088454356101, 0.8202, \n0.901106535947712, 0.9136, 0.902785714285714, 0.925833333333333, \n0.911056905370844, 0.925068681318681, 0.937641414141414, 0.919389730639731, \n0.896156393081556, 0.894270833333333, 0.898, 0.873289998338643, \n0.908476821789322, 0.933608620689655, 0.88527302631579, 0.961214285714286, \n0.949741935483871, 0.934571428571428, 0.795580423280423, 0.851894736842105, \n0.82805, 0.849736842105263, 0.780773313492064, 0.903571428571429, \n0.859741407914764, 0.928581746031746, 0.93532, 0.918845454545455, \n0.88075, 0.903789473684211, 0.8616, 0.895944444444444, 0.871880952380952, \n0.874348837209302, 0.899196428571429, 0.925586363636364, 0.876045454545455, \n0.915311842105263, 0.92347619047619, 0.877714285714286, 0.924521139705882, \n0.915294119136224, 0.691947368421053, 0.86395652173913, 0.927733333333333, \n0.921222222222222, 0.918692307692308, 0.924992647058824, 0.954284967320261, \n0.893916666666667, 0.884379310344828, 0.865442958008175, 0.920913043478261, \n0.892178571428571, 0.970173798798799, 0.913684210526316, 0.91, \n0.881015879299321, 0.874361607142857, 0.882111111111111, 0.910195993548935, \n0.86280936026936, 0.869848039215686, 0.881148746480398, 0.898041025641026, \n0.919387194008038, 0.923611111111111, 0.883384615384615, 0.874666666666667, \n0.8983, 0.837870967741935, 0.92918778280543, 0.895698099415205, \n0.791202083333333, 0.920045080645161, 0.900230769230769, 0.93775744047619, \n0.915380400290131, 0.936357142857143, 0.937050751879699, 0.904175, \n0.90535, 0.920964052287582, 0.925072916666667, 0.918655172413793, \n0.876401505372272, 0.850857744107744, 0.914164285714286, 0.863844827586207, \n0.898180325133486, 0.926416666666667, 0.8826, 0.842375, 0.881137896825397, \n0.913688888888889, 0.935209956709957, 0.881380952380952, 0.951148148148148, \n0.920016993464052, 0.92437968975469, 0.832958333333333, 0.9446, \n0.871739130434782, 0.887608695652174, 0.884996632996633, 0.913423076923077, \n0.948217391304348, 0.937320261437909, 0.900586206896552, 0.948006191950464, \n0.93021052631579, 0.911448851674641, 0.937111111111111, 0.887169515669516, \n0.889918209876543, 0.894182352941177, 0.898629956140351, 0.906161290322581, \n0.851111111111111, 0.868349728506787, 0.759928571428571, 0.821333333333333, \n0.850077207977208, 0.930827586206896, 0.864171257763975, 0.915, \n0.909281481481481, 0.918310344827586, 0.900565217391304, 0.934117647058824, \n0.8778, 0.931736842105263, 0.950910610766046, 0.925928947368421, \n0.848288101319711, 0.872583333333333, 0.894, 0.937310344827586, \n0.875101666666667, 0.878875, 0.939642857142857, 0.928380952380952, \n0.889047619047619, 0.911314964157706, 0.824879051796157, 0.878656791941718, \n0.920585964912281, 0.846253703703704, 0.914095238095238, 0.786935982905983, \n0.883374484536082, 0.905204365079365, 0.928514652014652, 0.903380952380952, \n0.899750417382862, 0.930603174603175, 0.940537583774251, 0.825666666666667, \n0.879461538461538, 0.885557961309524, 0.855993011491918, 0.841729395604396, \n0.875571428571429, 0.942853190463751, 0.94084375, 0.917574404761905, \n0.862636363636364, 0.896475801808528, 0.921660401002506, 0.845212962962963, \n0.758612345679012, 0.913589912280702, 0.855739130434783, 0.897230769230769, \n0.920739130434783, 0.863363636363636, 0.943960227272727, 0.886533299994639, \n0.944962583287487, 0.944857142857143, 0.906684682539682, 0.91950958296362, \n0.952262871551107, 0.906, 0.907396031746032, 0.797793103448276, \n0.969416666666667, 0.927333333333333, 0.943384615384616, 0.875260316326624, \n0.905575, 0.903574193548387, 0.938785714285714, 0.933193548387097, \n0.900315605928509, 0.831801984126984, 0.932875, 0.921058823529412, \n0.938, 0.889179861111111, 0.915916666666667, 0.912541421881652, \n0.949655172413793, 0.918697303921569, 0.910103693181818, 0.823111111111111, \n0.944733974358974, 0.894892857142857, 0.952625, 0.89301909397082, \n0.962326710128496, 0.88015, 0.941625, 0.931277633477633, 0.865857142857143, \n0.934684210526316, 0.889074074074074, 0.945972972972973, 0.907227716435611, \n0.8973125, 0.888804347826087, 0.925538461538462, 0.922119789772603, \n0.932763157894737, 0.941461818181818, 0.910458333333333, 0.899472794117647, \n0.903993825729525, 0.925400063251107, 0.927139942921273, 0.931333333333333, \n0.910230769230769, 0.868705882352941, 0.934174568965517, 0.860935483870968, \n0.920230769230769, 0.89721286231884, 0.922233333333333, 0.933928571428571, \n0.951484523809524, 0.918, 0.9187, 0.911416666666667, 0.861976336898396, \n0.869, 0.88155, 0.854171530775537, 0.923710526315789, 0.836155897435897, \n0.836, 0.930158491508492, 0.88621875, 0.845638249158249, 0.903993788819876, \n0.929406593406593, 0.9615, 0.903305555555556, 0.92843722943723, \n0.882545454545455, 0.9235, 0.8531693590723, 0.919469594594595, \n0.841788907932757, 0.895490566037736, 0.819207116412999, 0.907486781609195, \n0.95882760327564, 0.886946875, 0.857842043907101, 0.940964285714286, \n0.852277777777778, 0.832896117624829, 0.954277777777778, 0.918588317198224, \n0.924564516129032, 0.902230769230769, 0.868041666666667, 0.880969696969697, \n0.962539772727273, 0.928242112148503, 0.942454545454545, 0.939666666666667, \n0.8806875, 0.887862068965517, 0.918692307692308, 0.950998412698413, \n0.9615, 0.892345704022989, 0.940643912337662, 0.936879386253843, \n0.925755201349357, 0.887611111111111, 0.872571428571429, 0.857544290492116, \n0.893974358974359, 0.8612, 0.897416666666667, 0.92125, 0.964819162134551, \n0.9795, 0.880285714285714, 0.8799, 0.928097674418605, 0.92896734006734, \n0.924728863463005, 0.895652817300347, 0.919715012254902, 0.911549145299145, \n0.935614867512057, 0.863169565217391, 0.910461538461539, 0.858529411764706, \n0.892622962962963, 0.843692307692308, 0.825714285714286, 0.80048, \n0.937798705096074, 0.846076923076923, 0.826830659075224, 0.831057142857143, \n0.903761904761905, 0.872695652173913, 0.832347159376571, 0.809979166666667, \n0.906222222222222, 0.913521192467429, 0.918317508417508, 0.892089285714286, \n0.894025, 0.933531135531135, 0.949407407407407, 0.911555555555556, \n0.897416666666667, 0.824444444444444, 0.890538461538462, 0.903384615384615, \n0.916025925925926, 0.925078947368421, 0.893444444444444, 0.850555555555556, \n0.907578260869565, 0.9068863997114, 0.869820869565217, 0.838388888888889, \n0.793633684210526, 0.770838722540839, 0.874876470588235, 0.93952380952381, \n0.915586134453782, 0.756195238095238, 0.822513513513514, 0.951474206349206, \n0.941142705048615, 0.883337301587302, 0.925727272727273, 0.865702106083828, \n0.938795061728395, 0.908065141908213, 0.877353245267258, 0.906221712831635, \n0.800340811965812, 0.804119047619048, 0.902227272727273, 0.914129456251552, \n0.914305555555555, 0.962470588235294, 0.877597527472528, 0.902633333333333, \n0.841452517162471, 0.960902597402597, 0.873461538461539, 0.837035526315789, \n0.834888888888889, 0.950428571428571, 0.915010989010989, 0.880466666666667, \n0.937596560846561, 0.946883653846154, 0.886775470041675, 0.884444220430107, \n0.896826338961014, 0.887765420482295, 0.922583333333333, 0.964959621275411, \n0.865265625, 0.91535101010101, 0.846276001814778, 0.931866666666667, \n0.879466666666667, 0.843537648809524, 0.905174843165002, 0.927132352941176, \n0.895257142857143, 0.888716666666667, 0.791733333333333, 0.907375, \n0.8425, 0.871182494381329, 0.9666, 0.90065625, 0.878320716320716, \n0.859677609126984, 0.927, 0.918782608695652, 0.935842105263158, \n0.844944819401445, 0.883392857142857, 0.870833333333333, 0.941944444444444, \n0.925833333333333, 0.938565217391304, 0.898783783783784, 0.859764705882353, \n0.896471244019139, 0.94325, 0.912081699346405, 0.880012907608696, \n0.953832323232323, 0.902803418803419, 0.957133333333333, 0.91202766798419, \n0.8956, 0.91208992248062, 0.954, 0.804691919191919, 0.898363636363636, \n0.879971428571429, 0.92225, 0.911736842105263, 0.943666666666667, \n0.8435, 0.908272727272727, 0.921233333333333, 0.874068064692982, \n0.884605430242272, 0.89725, 0.886572916666667, 0.885595238095238, \n0.961565217391304, 0.91055, 0.874363636363636, 0.899634722222222, \n0.910327651515151, 0.872, 0.946391304347826, 0.886205882352941, \n0.94308, 0.915214285714286, 0.884789473684211, 0.933296296296296, \n0.924421052631579, 0.979, 0.83847619047619, 0.9429375, 0.8644, \n0.896067630655506, 0.846925, 0.852235294117647, 0.808206896551724, \n0.94496, 0.850064516129032, 0.90747619047619, 0.945888888888889, \n0.891333333333333, 0.9356, 0.909142857142857, 0.8846, 0.8831, \n0.854848673402375, 0.8849375, 0.844583333333333, 0.8268125, 0.959736842105263, \n0.908363636363636, 0.924964285714286, 0.870436923076923, 0.906688888888889, \n0.831615384615385, 0.862363636363636, 0.900664388243336, 0.872944444444445, \n0.9355625, 0.862086956521739, 0.937662031332512, 0.882047619047619, \n0.919057291666667, 0.926065750317824, 0.9318, 0.89755514745671, \n0.943532051282051, 0.894429166666667, 0.909157894736842, 0.917263990152148, \n0.903291666666667, 0.761366080156403, 0.875757164031621, 0.907528431382277, \n0.890461538461538, 0.903444444444444, 0.900277777777778, 0.881478075451493, \n0.906878787878788, 0.830611111111111, 0.8642, 0.938712380952381, \n0.90500522875817, 0.960582027168234, 0.922992361111111, 0.968, \n0.95583574879227, 0.9198, 0.905809523809524, 0.950290849673203, \n0.906330049178733, 0.837333333333333, 0.927733199580309, 0.901782608695652, \n0.936227995999272, 0.910914655172414, 0.918875, 0.906947198275862, \n0.903773809523809, 0.935926638176638, 0.929334445680386, 0.89175, \n0.89425, 0.892735539215686, 0.958714285714286, 0.89644358974359, \n0.874545454545455, 0.890092513956422, 0.903932367002666, 0.780555555555556, \n0.924860299855043, 0.8644, 0.926709914280193, 0.913743243243243, \n0.928333333333333, 0.875519211628701, 0.9338125, 0.882860323197328, \n0.935814478475048, 0.868642857142857, 0.809891891891892, 0.881423076923077, \n0.821454545454545, 0.871315789473684, 0.862911616161616, 0.921666666666667, \n0.907634453781513, 0.902351347914405, 0.889724997264471, 0.857872295168067, \n0.877296446821153, 0.944555555555556, 0.808153846153846, 0.871630890804598, \n0.849115384615385, 0.919940983320192, 0.804052777777778, 0.91975, \n0.872981212797619, 0.9550625, 0.889490909090909, 0.814416666666667, \n0.853197563998999, 0.860085770750988, 0.906224498132586, 0.915761904761905, \n0.86849259868421, 0.870342857142857, 0.908823529411765, 0.89129854160754, \n0.90627876984127, 0.90584, 0.974846153846154, 0.900739130434783, \n0.942030882352941, 0.9158, 0.939137931034483, 0.841507246376812, \n0.707473529411765, 0.842407407407407, 0.8725, 0.827398150738151, \n0.858001337293881, 0.955248863636364, 0.911205140937494, 0.865125, \n0.767703703703704, 0.882775862068966, 0.838815789473684, 0.863142857142857, \n0.907213502724456, 0.867857142857143, 0.888333333333333, 0.8981875, \n0.889060714285714, 0.915218390804598, 0.910032786885246, 0.913318181818182, \n0.825117647058824, 0.966222222222222, 0.969555555555556, 0.942545454545455, \n0.88255, 0.776363636363636, 0.905571428571429, 0.860032051282051, \n0.984588235294118, 0.8819, 0.916954545454545, 0.838483870967742, \n0.910988429183476, 0.890389583063925, 0.892228571428571, 0.885037878787879, \n0.868063492063492, 0.865846405228758, 0.85084, 0.910584084084084, \n0.926384615384615, 0.9201875, 0.912957912457912, 0.907409090909091, \n0.851150641025641, 0.908443803418803, 0.894393602187286, 0.9836, \n0.909244959540658, 0.864407407407407, 0.9192, 0.895560994560995, \n0.958285714285714, 0.959861709770115, 0.8285, 0.882013182776934, \n0.929214285714286, 0.875552841602842, 0.899916094939543, 0.881690553749238, \n0.934454545454545, 0.880142857142857, 0.86495, 0.903083333333333, \n0.8721574027684, 0.86496, 0.8864, 0.932080808080808, 0.808764407814408, \n0.875857142857143, 0.827317378917379, 0.896886466165414, 0.901120833333333, \n0.927586749002631, 0.909558333333333, 0.857530172413793, 0.862872431077694, \n0.8780625, 0.892571428571429, 0.902398944193062, 0.922439130434783, \n0.920581395348837, 0.856529411764706, 0.954375, 0.944767518939394, \n0.920379310344828, 0.921231904761905, 0.78408544973545, 0.85, \n0.866065789473684, 0.909569031273837, 0.884909090909091, 0.902911005910862, \n0.964190476190476, 0.912331168831169, 0.911839285714286, 0.803939598442439, \n0.95122, 0.929637299077734, 0.86988768115942, 0.947466666666667, \n0.950428571428571, 0.88375, 0.889909090909091, 0.856951388888889, \n0.906117647058824, 0.899058823529412, 0.933866666666667, 0.884, \n0.920214285714286, 0.898039442136811, 0.8466, 0.844085972850679, \n0.912585317460318, 0.857, 0.849666666666667, 0.885166666666667, \n0.852031045751634, 0.85168, 0.879139682539683, 0.917307692307692, \n0.860981398809524, 0.816982843137255, 0.889979020979021, 0.891635714285714, \n0.920866666666667, 0.905111111111111, 0.964733333333333, 0.846364538239538, \n0.919251893939394, 0.860214285714286, 0.856938888888889, 0.873666666666667, \n0.850566460025088, 0.90306689259037, 0.784935897435897, 0.96825, \n0.884857142857143), gender = c(\"male\", \"male\", \"male\", \"male\", \n\"male\", \"male\", \"female\", \"male\", \"female\", \"male\", \"male\", \"male\", \n\"male\", \"male\", \"male\", \"female\", \"male\", \"male\", \"male\", \"female\", \n\"male\", \"male\", \"male\", \"male\", \"female\", \"female\", \"male\", \"male\", \n\"male\", \"male\", \"male\", \"male\", \"male\", \"male\", \"female\", \"male\", \n\"male\", \"male\", \"male\", \"female\", \"male\", \"male\", \"male\", \"female\", \n\"male\", \"male\", \"male\", \"male\", \"male\", \"male\", \"male\", \"female\", \n\"male\", \"female\", \"male\", \"male\", \"female\", \"female\", \"male\", \n\"male\", \"male\", \"male\", \"male\", \"male\", \"male\", \"male\", \"male\", \n\"male\", \"male\", \"female\", \"male\", \"male\", \"female\", \"female\", \n\"female\", \"male\", \"male\", \"female\", \"male\", \"male\", \"male\", \"male\", \n\"male\", \"female\", \"female\", \"male\", \"female\", \"female\", \"male\", \n\"male\", \"male\", \"male\", \"male\", \"female\", \"female\", \"female\", \n\"female\", \"male\", \"female\", \"male\", \"female\", \"male\", \"male\", \n\"male\", \"male\", \"female\", \"male\", \"female\", \"female\", \"male\", \n\"female\", \"male\", \"female\", \"male\", \"male\", \"male\", \"male\", \"female\", \n\"female\", \"female\", \"female\", \"female\", \"female\", \"male\", \"male\", \n\"female\", \"female\", \"male\", \"female\", \"male\", \"male\", \"male\", \n\"male\", \"male\", \"female\", \"female\", \"male\", \"male\", \"male\", \"male\", \n\"male\", \"male\", \"male\", \"male\", \"male\", \"male\", \"female\", \"female\", \n\"female\", \"male\", \"male\", \"male\", \"male\", \"male\", \"female\", \"male\", \n\"male\", \"female\", \"male\", \"male\", \"male\", \"male\", \"male\", \"female\", \n\"male\", \"female\", \"male\", \"male\", \"male\", \"female\", \"male\", \"male\", \n\"female\", \"male\", \"male\", \"female\", \"male\", \"male\", \"male\", \"male\", \n\"male\", \"male\", \"female\", \"male\", \"male\", \"male\", \"female\", \"male\", \n\"male\", \"female\", \"male\", \"female\", \"female\", \"male\", \"female\", \n\"male\", \"female\", \"male\", \"male\", \"male\", \"male\", \"male\", \"male\", \n\"female\", \"male\", \"male\", \"male\", \"male\", \"male\", \"female\", \"male\", \n\"male\", \"male\", \"male\", \"male\", \"female\", \"female\", \"male\", \"female\", \n\"female\", \"male\", \"female\", \"female\", \"male\", \"female\", \"male\", \n\"female\", \"female\", \"male\", \"male\", \"male\", \"male\", \"male\", \"male\", \n\"male\", \"male\", \"female\", \"male\", \"female\", \"male\", \"female\", \n\"male\", \"male\", \"male\", \"male\", \"male\", \"female\", \"female\", \"male\", \n\"male\", \"male\", \"female\", \"female\", \"male\", \"female\", \"female\", \n\"male\", \"male\", \"female\", \"male\", \"female\", \"male\", \"female\", \n\"male\", \"female\", \"male\", \"male\", \"male\", \"male\", \"female\", \"female\", \n\"female\", \"male\", \"male\", \"male\", \"male\", \"female\", \"male\", \"female\", \n\"male\", \"male\", \"male\", \"male\", \"female\", \"female\", \"male\", \"male\"\n\n*** WARNING: max output size exceeded, skipping output. ***\n\ninogenesis\", \n    \"obstetrics & reproductive medicine\", \"urology & nephrology\", \n    \"oncology & carcinogenesis\", \"gastroenterology & hepatology\", \n    \"gastroenterology & hepatology\", \"general & internal medicine\", \n    \"oncology & carcinogenesis\", \"oncology & carcinogenesis\", \n    \"public health\", \"pharmacology & pharmacy\", \"microbiology\", \n    \"neurology & neurosurgery\", \"obstetrics & reproductive medicine\", \n    \"biochemistry & molecular biology\", \"neurology & neurosurgery\", \n    \"developmental biology\", \"microbiology\", \"oncology & carcinogenesis\", \n    \"biochemistry & molecular biology\", \"microbiology\", \"immunology\", \n    \"neurology & neurosurgery\", \"oncology & carcinogenesis\", \n    \"psychiatry\", \"urology & nephrology\", \"neurology & neurosurgery\", \n    \"immunology\", \"biochemistry & molecular biology\", \"oncology & carcinogenesis\", \n    \"neurology & neurosurgery\", \"immunology\", \"genetics & heredity\", \n    \"tropical medicine\", \"biochemistry & molecular biology\", \n    \"oncology & carcinogenesis\", \"biochemistry & molecular biology\", \n    \"developmental & child psychology\", \"cardiovascular system & hematology\", \n    \"biochemistry & molecular biology\", \"physiology\", \"developmental biology\", \n    \"neurology & neurosurgery\", \"general & internal medicine\", \n    \"experimental psychology\", \"oncology & carcinogenesis\", \"oncology & carcinogenesis\", \n    \"experimental psychology\", \"virology\", \"tropical medicine\", \n    \"developmental biology\", \"developmental biology\", \"mycology & parasitology\", \n    \"microbiology\", \"microbiology\", \"neurology & neurosurgery\", \n    \"neurology & neurosurgery\", \"oncology & carcinogenesis\", \n    \"obstetrics & reproductive medicine\", \"public health\", \"public health\", \n    \"developmental biology\", \"microbiology\", \"genetics & heredity\", \n    \"gastroenterology & hepatology\", \"virology\", \"respiratory system\", \n    \"neurology & neurosurgery\", \"developmental biology\", \"immunology\", \n    \"microbiology\", \"health policy & services\", \"biochemistry & molecular biology\", \n    \"dermatology & venereal diseases\", \"neurology & neurosurgery\", \n    \"endocrinology & metabolism\", \"toxicology\", \"nutrition & dietetics\", \n    \"microbiology\", \"biochemistry & molecular biology\", \"immunology\", \n    \"oncology & carcinogenesis\", \"environmental & occupational health\", \n    \"nutrition & dietetics\", \"nuclear medicine & medical imaging\", \n    \"psychiatry\", \"psychiatry\", \"endocrinology & metabolism\", \n    \"endocrinology & metabolism\", \"nutrition & dietetics\", \"public health\", \n    \"obstetrics & reproductive medicine\", \"developmental biology\", \n    \"neurology & neurosurgery\", \"biochemistry & molecular biology\", \n    \"oncology & carcinogenesis\", \"nutrition & dietetics\", \"cardiovascular system & hematology\", \n    \"otorhinolaryngology\", \"nutrition & dietetics\", \"pharmacology & pharmacy\", \n    \"neurology & neurosurgery\", \"neurology & neurosurgery\", \"nutrition & dietetics\", \n    \"virology\", \"microbiology\", \"general & internal medicine\", \n    \"pediatrics\", \"developmental biology\", \"neurology & neurosurgery\", \n    \"developmental biology\", \"neurology & neurosurgery\", \"developmental biology\", \n    \"public health\", \"virology\", \"microbiology\", \"microbiology\", \n    \"microbiology\", \"behavioral science & comparative psychology\", \n    \"oncology & carcinogenesis\", \"neurology & neurosurgery\", \n    \"virology\", \"virology\", \"developmental biology\", \"developmental biology\", \n    \"general & internal medicine\", \"dentistry\", \"neurology & neurosurgery\", \n    \"public health\", \"developmental biology\", \"experimental psychology\", \n    \"microbiology\", \"behavioral science & comparative psychology\", \n    \"developmental biology\", \"developmental biology\", \"developmental biology\", \n    \"developmental biology\", \"biochemistry & molecular biology\", \n    \"gerontology\", \"gerontology\", \"surgery\", \"developmental & child psychology\", \n    \"developmental & child psychology\", \"developmental & child psychology\", \n    \"dermatology & venereal diseases\", \"pharmacology & pharmacy\", \n    \"endocrinology & metabolism\", \"dermatology & venereal diseases\", \n    \"genetics & heredity\", \"microbiology\", \"dermatology & venereal diseases\", \n    \"geriatrics\", \"microbiology\", \"endocrinology & metabolism\", \n    \"neurology & neurosurgery\", \"public health\", \"speech-language pathology & audiology\", \n    \"developmental biology\", \"neurology & neurosurgery\", \"developmental biology\", \n    \"developmental biology\", \"developmental biology\", \"obstetrics & reproductive medicine\", \n    \"immunology\", \"microbiology\", \"developmental biology\", \"developmental biology\", \n    \"neurology & neurosurgery\", \"neurology & neurosurgery\", \"immunology\", \n    \"neurology & neurosurgery\", \"neurology & neurosurgery\", \"neurology & neurosurgery\", \n    \"neurology & neurosurgery\", \"neurology & neurosurgery\", \"pharmacology & pharmacy\", \n    \"pharmacology & pharmacy\", \"cardiovascular system & hematology\", \n    \"developmental biology\", \"oncology & carcinogenesis\", \"oncology & carcinogenesis\", \n    \"developmental biology\", \"virology\", \"virology\", \"pharmacology & pharmacy\", \n    \"oncology & carcinogenesis\", \"biochemistry & molecular biology\", \n    \"microbiology\", \"biochemistry & molecular biology\", \"developmental biology\", \n    \"developmental biology\", \"microbiology\", \"biochemistry & molecular biology\", \n    \"developmental biology\", \"developmental biology\", \"developmental biology\", \n    \"developmental biology\", \"developmental biology\", \"developmental biology\", \n    \"nutrition & dietetics\", \"pharmacology & pharmacy\", \"nutrition & dietetics\", \n    \"neurology & neurosurgery\", \"pharmacology & pharmacy\", \"developmental biology\", \n    \"biochemistry & molecular biology\", \"virology\", \"developmental biology\", \n    \"developmental biology\", \"developmental biology\", \"developmental biology\", \n    \"developmental biology\", \"developmental biology\", \"virology\", \n    \"biochemistry & molecular biology\", \"microbiology\", \"microbiology\", \n    \"developmental biology\", \"microbiology\", \"oncology & carcinogenesis\", \n    \"biochemistry & molecular biology\", \"developmental biology\", \n    \"biochemistry & molecular biology\", \"cardiovascular system & hematology\", \n    \"developmental biology\", \"virology\", \"biochemistry & molecular biology\", \n    \"immunology\", \"surgery\", \"arthritis & rheumatology\", \"biochemistry & molecular biology\", \n    \"oncology & carcinogenesis\", \"microbiology\", \"microbiology\", \n    \"respiratory system\", \"pharmacology & pharmacy\", \"microbiology\", \n    \"oncology & carcinogenesis\", \"nutrition & dietetics\", \"general & internal medicine\", \n    \"oncology & carcinogenesis\", \"biochemistry & molecular biology\", \n    \"cardiovascular system & hematology\", \"pharmacology & pharmacy\", \n    \"immunology\", \"emergency & critical care medicine\", \"immunology\", \n    \"obstetrics & reproductive medicine\", \"gastroenterology & hepatology\", \n    \"developmental biology\", \"oncology & carcinogenesis\", \"biochemistry & molecular biology\", \n    \"microbiology\", \"microbiology\", \"tropical medicine\", \"nutrition & dietetics\", \n    \"public health\", \"general & internal medicine\", \"oncology & carcinogenesis\", \n    \"general & internal medicine\", \"neurology & neurosurgery\", \n    \"gastroenterology & hepatology\", \"nuclear medicine & medical imaging\", \n    \"nuclear medicine & medical imaging\", \"physiology\", \"immunology\", \n    \"cardiovascular system & hematology\", \"general & internal medicine\", \n    \"neurology & neurosurgery\", \"psychiatry\", \"psychiatry\", \"public health\", \n    \"general & internal medicine\", \"sport sciences\", \"experimental psychology\", \n    \"public health\", \"social psychology\", \"substance abuse\", \n    \"social psychology\", \"neurology & neurosurgery\", \"psychiatry\", \n    \"microbiology\", \"microbiology\", \"public health\", \"microbiology\", \n    \"nutrition & dietetics\", \"public health\", \"developmental biology\", \n    \"microbiology\", \"toxicology\", \"general & internal medicine\", \n    \"psychiatry\", \"tropical medicine\", \"immunology\", \"neurology & neurosurgery\", \n    \"developmental biology\", \"microbiology\", \"developmental biology\", \n    \"microbiology\", \"neurology & neurosurgery\", \"gastroenterology & hepatology\", \n    \"clinical psychology\", \"public health\", \"oncology & carcinogenesis\", \n    \"endocrinology & metabolism\", \"endocrinology & metabolism\", \n    \"cardiovascular system & hematology\", \"developmental biology\", \n    \"developmental biology\", \"cardiovascular system & hematology\", \n    \"public health\", \"public health\", \"cardiovascular system & hematology\", \n    \"general & internal medicine\", \"social psychology\", \"developmental & child psychology\", \n    \"neurology & neurosurgery\", \"psychiatry\", \"neurology & neurosurgery\", \n    \"neurology & neurosurgery\", \"public health\", \"health policy & services\", \n    \"genetics & heredity\", \"general & internal medicine\", \"health policy & services\", \n    \"health policy & services\", \"health policy & services\", \"health policy & services\", \n    \"health policy & services\", \"pharmacology & pharmacy\", \"health policy & services\", \n    \"health policy & services\", \"gastroenterology & hepatology\", \n    \"gastroenterology & hepatology\", \"general & internal medicine\", \n    \"general & internal medicine\", \"sport sciences\", \"environmental & occupational health\", \n    \"developmental & child psychology\", \"nutrition & dietetics\", \n    \"public health\", \"pediatrics\", \"pharmacology & pharmacy\", \n    \"pediatrics\", \"obstetrics & reproductive medicine\", \"obstetrics & reproductive medicine\", \n    \"health policy & services\", \"virology\", \"gerontology\", \"urology & nephrology\", \n    \"endocrinology & metabolism\", \"endocrinology & metabolism\", \n    \"behavioral science & comparative psychology\", \"genetics & heredity\", \n    \"immunology\", \"virology\", \"microbiology\", \"virology\", \"virology\", \n    \"microbiology\", \"neurology & neurosurgery\", \"neurology & neurosurgery\", \n    \"experimental psychology\", \"neurology & neurosurgery\", \"neurology & neurosurgery\", \n    \"developmental biology\", \"neurology & neurosurgery\", \"nutrition & dietetics\", \n    \"nutrition & dietetics\", \"oncology & carcinogenesis\", \"neurology & neurosurgery\", \n    \"gastroenterology & hepatology\", \"psychiatry\", \"public health\", \n    \"developmental & child psychology\", \"neurology & neurosurgery\", \n    \"social psychology\", \"microbiology\", \"pharmacology & pharmacy\", \n    \"biochemistry & molecular biology\", \"oncology & carcinogenesis\", \n    \"complementary & alternative medicine\", \"biochemistry & molecular biology\", \n    \"oncology & carcinogenesis\", \"neurology & neurosurgery\", \n    \"biochemistry & molecular biology\", \"cardiovascular system & hematology\", \n    \"nuclear medicine & medical imaging\", \"nutrition & dietetics\", \n    \"nutrition & dietetics\", \"microbiology\", \"microbiology\", \n    \"virology\", \"microbiology\", \"virology\", \"developmental biology\", \n    \"immunology\", \"general & internal medicine\", \"public health\", \n    \"substance abuse\", \"endocrinology & metabolism\", \"public health\", \n    \"nutrition & dietetics\", \"developmental biology\"), q = structure(c(3L, \n    3L, 3L, 3L, 3L, 3L, 3L, 3L, 3L, 3L, 3L, 3L, 3L, 3L, 3L, 3L, \n    3L, 3L, 3L, 3L, 3L, 3L, 3L, 3L, 3L, 3L, 3L, 3L, 3L, 3L, 3L, \n    3L, 3L, 3L, 3L, 3L, 3L, 3L, 3L, 3L, 3L, 3L, 3L, 3L, 3L, 3L, \n    3L, 3L, 3L, 3L, 3L, 3L, 3L, 3L, 3L, 3L, 3L, 3L, 3L, 3L, 3L, \n    3L, 3L, 3L, 3L, 3L, 3L, 3L, 3L, 3L, 3L, 3L, 3L, 3L, 3L, 3L, \n    3L, 3L, 3L, 3L, 3L, 3L, 3L, 3L, 3L, 3L, 3L, 3L, 3L, 3L, 3L, \n    3L, 3L, 3L, 3L, 3L, 3L, 3L, 3L, 3L, 3L, 3L, 3L, 3L, 3L, 3L, \n    3L, 3L, 3L, 3L, 3L, 3L, 3L, 3L, 3L, 3L, 3L, 3L, 3L, 3L, 3L, \n    3L, 3L, 3L, 3L, 3L, 3L, 3L, 3L, 3L, 3L, 3L, 3L, 3L, 3L, 3L, \n    3L, 3L, 3L, 3L, 3L, 3L, 3L, 3L, 3L, 3L, 3L, 3L, 3L, 3L, 3L, \n    3L, 3L, 3L, 3L, 3L, 3L, 3L, 3L, 3L, 3L, 3L, 3L, 3L, 3L, 3L, \n    3L, 3L, 3L, 3L, 3L, 3L, 3L, 3L, 3L, 3L, 3L, 3L, 3L, 3L, 3L, \n    3L, 3L, 3L, 3L, 3L, 3L, 3L, 3L, 3L, 3L, 3L, 3L, 3L, 3L, 3L, \n    2L, 3L, 3L, 3L, 3L, 3L, 3L, 3L, 3L, 3L, 3L, 3L, 3L, 3L, 3L, \n    3L, 3L, 3L, 3L, 3L, 3L, 3L, 3L, 3L, 3L, 3L, 3L, 3L, 3L, 3L, \n    3L, 3L, 3L, 3L, 3L, 3L, 3L, 3L, 3L, 3L, 3L, 3L, 3L, 3L, 3L, \n    3L, 3L, 3L, 3L, 3L, 3L, 3L, 3L, 3L, 3L, 3L, 3L, 3L, 3L, 3L, \n    3L, 3L, 3L, 3L, 3L, 3L, 3L, 3L, 3L, 3L, 3L, 3L, 3L, 3L, 2L, \n    3L, 3L, 3L, 3L, 3L, 3L, 3L, 3L, 3L, 3L, 3L, 3L, 3L, 3L, 3L, \n    3L, 3L, 3L, 3L, 3L, 3L, 3L, 3L, 3L, 3L, 2L, 3L, 3L, 3L, 3L, \n    3L, 3L, 3L, 3L, 3L, 3L, 3L, 3L, 3L, 3L, 3L, 3L, 3L, 3L, 3L, \n    3L, 3L, 3L, 3L, 3L, 3L, 3L, 3L, 3L, 3L, 3L, 3L, 3L, 3L, 3L, \n    3L, 1L, 3L, 3L, 3L, 3L, 3L, 3L, 3L, 3L, 3L, 3L, 3L, 3L, 3L, \n    3L, 3L, 3L, 3L, 3L, 3L, 3L, 3L, 3L, 3L, 3L, 3L, 3L, 3L, 3L, \n    3L, 3L, 3L, 3L, 3L, 3L, 3L, 3L, 3L, 3L, 3L, 3L, 3L, 3L, 3L, \n    3L, 3L, 3L, 3L, 3L, 3L, 3L, 3L, 3L, 3L, 3L, 3L, 3L, 3L, 3L, \n    3L, 3L, 3L, 3L, 3L, 3L, 3L, 3L, 3L, 3L, 3L, 3L, 3L, 3L, 3L, \n    3L, 3L, 3L, 3L, 3L, 3L, 3L, 3L, 3L, 3L, 3L, 3L, 3L, 3L, 3L, \n    3L, 3L, 3L, 3L, 3L, 3L, 3L, 3L, 3L, 3L, 3L, 3L, 3L, 3L, 3L, \n    3L, 3L, 3L, 3L, 3L, 3L, 3L, 3L, 3L, 3L, 3L, 3L, 3L, 3L, 3L, \n    3L, 3L, 3L, 3L, 3L, 3L, 3L, 3L, 3L, 3L, 3L, 3L, 3L, 3L, 3L, \n    3L, 3L, 3L, 3L, 3L, 3L, 3L, 3L, 3L, 3L, 3L, 3L, 3L, 3L, 3L, \n    3L, 3L, 3L, 3L, 3L, 3L, 3L, 3L, 3L, 3L, 3L, 3L, 3L, 3L, 3L, \n    3L, 3L, 3L, 3L, 3L, 3L, 3L, 3L, 3L, 3L, 3L, 3L, 3L, 3L, 3L, \n    3L, 3L, 3L, 3L, 3L, 3L, 3L, 3L, 3L, 3L, 3L, 3L, 3L, 3L, 3L, \n    3L, 3L, 3L, 3L, 3L, 3L, 3L, 3L, 3L, 3L, 3L, 3L, 3L, 3L, 3L, \n    3L, 3L, 3L, 3L, 3L, 3L, 3L, 3L, 3L, 3L, 3L, 3L, 3L, 3L, 3L, \n    3L, 3L, 3L, 3L, 3L, 3L, 3L, 3L, 3L, 3L, 3L, 3L, 3L, 3L, 3L, \n    3L, 3L, 3L, 3L, 3L, 3L, 3L, 3L, 3L, 3L, 3L, 3L, 3L, 3L, 3L, \n    3L, 3L, 3L, 3L, 3L, 3L, 3L, 3L, 3L, 3L, 3L, 3L, 3L, 3L, 3L, \n    3L, 3L, 3L, 3L, 3L, 3L, 3L, 3L, 3L, 3L, 3L, 3L, 3L, 3L, 3L, \n    3L, 3L, 3L, 3L, 3L, 3L, 3L, 3L, 3L, 3L, 3L, 3L, 3L, 3L, 3L, \n    3L, 3L, 3L, 3L, 3L, 3L, 3L, 3L, 3L, 3L, 3L, 3L, 3L, 3L, 3L, \n    3L, 3L, 3L, 3L, 3L, 3L, 3L, 3L, 2L, 3L, 3L, 2L, 3L, 3L, 3L, \n    3L, 3L, 3L, 3L, 3L, 3L, 3L, 3L, 2L, 3L, 3L, 3L, 3L, 3L, 3L, \n    3L, 3L, 3L, 3L, 3L, 3L, 3L, 3L, 3L, 3L, 3L, 3L, 3L, 3L, 3L, \n    3L, 3L, 3L, 3L, 3L, 3L, 3L, 3L, 3L, 3L, 3L, 3L, 3L, 3L, 3L, \n    3L, 3L, 3L, 3L, 3L, 3L, 3L, 3L, 3L, 3L, 3L, 3L, 3L, 3L, 3L, \n    3L, 3L, 3L, 2L, 3L, 3L, 3L, 3L, 3L, 3L, 3L, 3L, 3L, 3L, 3L, \n    3L, 3L, 3L, 3L, 3L, 3L, 3L, 3L, 3L, 3L, 3L, 3L, 3L, 3L, 3L, \n    3L, 3L, 3L, 3L, 3L, 3L, 3L, 3L, 3L, 3L, 3L, 3L, 3L, 3L, 3L, \n    3L, 3L, 3L, 3L, 3L, 3L, 3L, 3L, 3L, 3L, 3L, 3L, 3L, 3L, 3L, \n    3L, 3L, 3L, 3L, 3L, 3L, 3L, 3L, 3L, 3L, 3L, 3L, 3L, 3L, 3L, \n    3L, 3L, 3L, 3L, 3L, 3L, 3L, 3L, 3L, 3L, 3L, 3L, 3L, 3L, 3L, \n    3L, 3L, 3L, 3L, 3L, 3L, 3L, 3L, 3L, 3L, 3L, 3L, 3L, 3L, 3L, \n    3L, 3L, 3L, 3L, 3L, 3L, 3L, 3L, 3L, 3L, 3L, 3L, 3L, 3L, 3L, \n    3L, 3L, 3L, 3L, 3L, 3L, 3L, 3L, 3L, 3L, 3L, 3L, 3L, 3L, 3L, \n    3L, 2L, 3L, 3L, 3L, 3L, 3L, 3L, 3L, 3L, 3L, 3L, 3L, 3L, 3L, \n    3L, 3L, 3L, 3L, 3L, 3L, 3L, 3L, 3L, 3L, 3L, 3L, 3L, 3L, 3L, \n    3L, 3L, 3L, 3L, 3L, 3L, 3L, 3L, 3L, 3L, 3L, 3L, 3L, 3L, 3L, \n    3L, 3L, 3L, 3L, 3L, 3L, 3L, 3L, 3L, 3L, 3L, 3L, 3L, 3L, 2L, \n    3L, 3L, 3L, 3L, 3L, 3L, 3L, 3L, 3L, 3L, 3L, 3L, 3L, 2L, 3L, \n    3L, 3L, 3L, 3L, 3L, 3L, 3L, 3L, 3L, 3L, 3L, 3L, 3L, 3L, 3L, \n    3L, 3L, 3L, 3L, 3L, 3L, 3L, 3L, 3L, 3L, 2L, 3L, 3L, 3L, 3L, \n    2L, 3L, 3L, 3L, 3L, 3L, 3L, 3L, 3L, 3L, 3L, 3L, 3L, 3L, 2L, \n    3L, 3L, 3L, 2L, 2L, 2L, 3L, 3L), .Label = c(\"1\", \"2\", \"3\"\n    ), class = \"factor\")), class = \"data.frame\", row.names = c(\"0\", \n\"1\", \"2\", \"3\", \"4\", \"5\", \"6\", \"7\", \"8\", \"9\", \"10\", \"12\", \"13\", \n\"14\", \"15\", \"16\", \"17\", \"18\", \"19\", \"21\", \"22\", \"23\", \"24\", \"25\", \n\"26\", \"27\", \"28\", \"30\", \"31\", \"32\", \"33\", \"34\", \"35\", \"36\", \"37\", \n\"38\", \"39\", \"40\", \"41\", \"42\", \"43\", \"44\", \"45\", \"46\", \"47\", \"48\", \n\"49\", \"50\", \"51\", \"52\", \"53\", \"54\", \"55\", \"56\", \"57\", \"58\", \"59\", \n\"60\", \"85\", \"112\", \"124\", \"130\", \"138\", \"141\", \"151\", \"166\", \n\"198\", \"202\", \"208\", \"254\", \"272\", \"273\", \"277\", \"285\", \"301\", \n\"338\", \"355\", \"356\", \"358\", \"359\", \"360\", \"361\", \"365\", \"366\", \n\"371\", \"372\", \"377\", \"383\", \"389\", \"397\", \"398\", \"404\", \"416\", \n\"417\", \"422\", \"435\", \"440\", \"450\", \"452\", \"453\", \"454\", \"455\", \n\"456\", \"457\", \"458\", \"461\", \"462\", \"464\", \"472\", \"475\", \"476\", \n\"513\", \"514\", \"515\", \"517\", \"518\", \"520\", \"521\", \"522\", \"523\", \n\"525\", \"526\", \"527\", \"528\", \"529\", \"530\", \"531\", \"549\", \"550\", \n\"556\", \"565\", \"566\", \"570\", \"572\", \"574\", \"575\", \"576\", \"577\", \n\"591\", \"592\", \"593\", \"594\", \"596\", \"598\", \"599\", \"601\", \"602\", \n\"605\", \"606\", \"607\", \"608\", \"610\", \"612\", \"613\", \"614\", \"617\", \n\"618\", \"619\", \"620\", \"622\", \"625\", \"627\", \"628\", \"629\", \"631\", \n\"632\", \"633\", \"634\", \"635\", \"636\", \"637\", \"638\", \"639\", \"640\", \n\"641\", \"642\", \"643\", \"644\", \"645\", \"646\", \"647\", \"648\", \"649\", \n\"650\", \"651\", \"652\", \"653\", \"654\", \"655\", \"658\", \"671\", \"689\", \n\"690\", \"691\", \"692\", \"699\", \"700\", \"701\", \"702\", \"703\", \"704\", \n\"705\", \"706\", \"719\", \"720\", \"721\", \"725\", \"727\", \"728\", \"733\", \n\"736\", \"737\", \"738\", \"739\", \"740\", \"741\", \"742\", \"744\", \"745\", \n\"789\", \"790\", \"792\", \"794\", \"795\", \"810\", \"811\", \"832\", \"847\", \n\"848\", \"852\", \"856\", \"866\", \"867\", \"868\", \"869\", \"870\", \"871\", \n\"874\", \"886\", \"887\", \"888\", \"889\", \"890\", \"891\", \"892\", \"893\", \n\"894\", \"895\", \"896\", \"899\", \"900\", \"901\", \"902\", \"906\", \"907\", \n\"909\", \"917\", \"918\", \"929\", \"932\", \"933\", \"946\", \"952\", \"957\", \n\"1035\", \"1039\", \"1044\", \"1045\", \"1046\", \"1047\", \"1048\", \"1053\", \n\"1088\", \"1094\", \"1112\", \"1122\", \"1123\", \"1124\", \"1126\", \"1127\", \n\"1128\", \"1129\", \"1130\", \"1131\", \"1132\", \"1134\", \"1135\", \"1136\", \n\"1142\", \"1149\", \"1150\", \"1195\", \"1203\", \"1204\", \"1205\", \"1207\", \n\"1210\", \"1216\", \"1217\", \"1218\", \"1223\", \"1226\", \"1227\", \"1237\", \n\"1249\", \"1252\", \"1253\", \"1254\", \"1255\", \"1257\", \"1259\", \"1261\", \n\"1285\", \"1344\", \"1359\", \"1361\", \"1382\", \"1386\", \"1408\", \"1446\", \n\"1483\", \"1493\", \"1513\", \"1514\", \"1524\", \"1562\", \"1570\", \"1572\", \n\"1580\", \"1604\", \"1622\", \"1624\", \"1649\", \"1650\", \"1651\", \"1653\", \n\"1654\", \"1655\", \"1657\", \"1658\", \"1662\", \"1663\", \"1664\", \"1666\", \n\"1667\", \"1669\", \"1670\", \"1672\", \"1673\", \"1678\", \"1679\", \"1680\", \n\"1684\", \"1696\", \"1697\", \"1698\", \"1699\", \"1700\", \"1701\", \"1705\", \n\"1706\", \"1707\", \"1708\", \"1709\", \"1713\", \"1714\", \"1725\", \"1727\", \n\"1730\", \"1733\", \"1736\", \"1741\", \"1743\", \"1745\", \"1746\", \"1747\", \n\"1761\", \"1771\", \"1776\", \"1793\", \"1795\", \"1799\", \"1805\", \"1813\", \n\"1815\", \"1818\", \"1827\", \"1828\", \"1831\", \"1833\", \"1845\", \"1851\", \n\"1855\", \"1856\", \"1860\", \"1871\", \"1876\", \"1878\", \"1889\", \"1890\", \n\"1894\", \"1896\", \"1899\", \"1901\", \"1906\", \"1912\", \"1914\", \"1922\", \n\"1924\", \"1928\", \"1932\", \"1936\", \"1939\", \"1947\", \"1950\", \"1952\", \n\"1955\", \"1957\", \"1964\", \"1976\", \"1977\", \"1984\", \"1986\", \"1992\", \n\"1993\", \"2008\", \"2012\", \"2018\", \"2023\", \"2024\", \"2026\", \"2028\", \n\"2029\", \"2032\", \"2034\", \"2035\", \"2039\", \"2040\", \"2042\", \"2044\", \n\"2047\", \"2050\", \"2051\", \"2053\", \"2054\", \"2066\", \"2083\", \"2085\", \n\"2086\", \"2090\", \"2091\", \"2092\", \"2093\", \"2095\", \"2135\", \"2187\", \n\"2188\", \"2192\", \"2205\", \"2222\", \"2241\", \"2252\", \"2256\", \"2257\", \n\"2258\", \"2259\", \"2281\", \"2282\", \"2316\", \"2317\", \"2322\", \"2338\", \n\"2346\", \"2366\", \"2367\", \"2372\", \"2375\", \"2377\", \"2385\", \"2388\", \n\"2394\", \"2411\", \"2413\", \"2414\", \"2417\", \"2418\", \"2421\", \"2424\", \n\"2428\", \"2433\", \"2439\", \"2440\", \"2442\", \"2445\", \"2449\", \"2452\", \n\"2454\", \"2456\", \"2457\", \"2458\", \"2461\", \"2464\", \"2465\", \"2467\", \n\"2469\", \"2470\", \"2471\", \"2474\", \"2479\", \"2480\", \"2481\", \"2482\", \n\"2484\", \"2486\", \"2489\", \"2490\", \"2492\", \"2493\", \"2496\", \"2497\", \n\"2499\", \"2501\", \"2503\", \"2504\", \"2506\", \"2507\", \"2508\", \"2509\", \n\"2510\", \"2512\", \"2513\", \"2514\", \"2515\", \"2516\", \"2517\", \"2518\", \n\"2519\", \"2520\", \"2522\", \"2523\", \"2530\", \"2532\", \"2533\", \"2534\", \n\"2535\", \"2536\", \"2540\", \"2541\", \"2544\", \"2547\", \"2550\", \"2551\", \n\"2552\", \"2555\", \"2565\", \"2568\", \"2570\", \"2577\", \"2589\", \"2598\", \n\"2599\", \"2604\", \"2605\", \"2606\", \"2607\", \"2613\", \"2622\", \"2624\", \n\"2627\", \"2629\", \"2631\", \"2633\", \"2635\", \"2637\", \"2638\", \"2639\", \n\"2640\", \"2642\", \"2721\", \"2728\", \"2760\", \"2807\", \"2810\", \"2811\", \n\"2813\", \"2814\", \"2815\", \"2831\", \"2843\", \"2858\", \"2868\", \"2875\", \n\"2876\", \"2880\", \"2882\", \"2883\", \"2888\", \"2892\", \"2894\", \"2898\", \n\"2902\", \"2903\", \"2909\", \"2917\", \"2919\", \"2926\", \"2932\", \"2933\", \n\"2934\", \"2935\", \"2937\", \"2943\", \"2950\", \"2953\", \"2963\", \"2967\", \n\"2970\", \"2971\", \"2975\", \"2985\", \"2989\", \"2996\", \"2998\", \"3004\", \n\"3010\", \"3012\", \"3018\", \"3028\", \"3029\", \"3030\", \"3043\", \"3044\", \n\"3046\", \"3048\", \"3049\", \"3055\", \"3060\", \"3067\", \"3072\", \"3075\", \n\"3080\", \"3082\", \"3087\", \"3089\", \"3092\", \"3101\", \"3102\", \"3104\", \n\"3105\", \"3106\", \"3107\", \"3114\", \"3116\", \"3143\", \"3145\", \"3161\", \n\"3167\", \"3169\", \"3170\", \"3173\", \"3174\", \"3175\", \"3211\", \"3217\", \n\"3243\", \"3246\", \"3247\", \"3248\", \"3249\", \"3251\", \"3252\", \"3253\", \n\"3257\", \"3258\", \"3260\", \"3261\", \"3266\", \"3271\", \"3272\", \"3273\", \n\"3275\", \"3280\", \"3281\", \"3282\", \"3284\", \"3285\", \"3286\", \"3287\", \n\"3291\", \"3293\", \"3296\", \"3298\", \"3299\", \"3304\", \"3305\", \"3306\", \n\"3307\", \"3308\", \"3321\", \"3325\", \"3326\", \"3330\", \"3332\", \"3336\", \n\"3338\", \"3342\", \"3343\", \"3346\", \"3349\", \"3360\", \"3365\", \"3375\", \n\"3381\", \"3388\", \"3390\", \"3391\", \"3392\", \"3418\", \"3419\", \"3420\", \n\"3424\", \"3426\", \"3427\", \"3428\", \"3434\", \"3439\", \"3441\", \"3442\", \n\"3446\", \"3494\", \"3495\", \"3497\", \"3510\", \"3515\", \"3516\", \"3521\", \n\"3539\", \"3560\", \"3562\", \"3572\", \"3573\", \"3590\", \"3592\", \"3595\", \n\"3612\", \"3613\", \"3616\", \"3627\", \"3629\", \"3636\", \"3639\", \"3640\", \n\"3642\", \"3645\", \"3648\", \"3652\", \"3655\", \"3661\", \"3681\", \"3683\", \n\"3687\", \"3688\", \"3696\", \"3705\", \"3710\", \"3712\", \"3719\", \"3723\", \n\"3724\", \"3725\", \"3733\", \"3734\", \"3736\", \"3737\", \"3738\", \"3739\", \n\"3743\", \"3745\", \"3754\", \"3761\", \"3762\", \"3765\", \"3769\", \"3774\", \n\"3775\", \"3776\", \"3778\", \"3790\", \"3792\", \"3795\", \"3799\", \"3801\", \n\"3802\", \"3804\", \"3806\", \"3820\", \"3822\", \"3829\", \"3830\", \"3832\", \n\"3836\", \"3839\", \"3858\", \"3866\", \"3868\", \"3882\", \"3884\", \"3888\", \n\"3889\", \"3906\", \"3907\", \"3908\", \"3909\", \"3911\", \"3912\", \"3914\", \n\"3915\", \"3916\", \"3917\", \"3918\", \"3919\", \"3920\", \"3921\", \"3922\", \n\"3925\", \"3926\", \"3927\", \"3928\", \"3929\", \"3930\", \"3931\", \"3932\", \n\"3935\", \"3936\", \"3938\", \"3939\", \"3940\", \"3941\", \"3943\", \"3944\", \n\"3945\", \"3946\", \"3954\", \"3955\", \"3959\", \"3961\", \"3962\", \"3963\", \n\"3964\", \"3965\", \"3966\", \"3968\", \"3973\", \"3976\", \"3978\", \"3979\", \n\"3980\", \"3990\", \"3992\", \"3997\", \"3998\", \"4003\", \"4004\", \"4005\", \n\"4006\", \"4007\", \"4008\", \"4009\", \"4010\", \"4014\", \"4016\", \"4017\", \n\"4019\", \"4022\", \"4023\", \"4024\", \"4026\", \"4028\", \"4029\", \"4031\", \n\"4033\", \"4034\", \"4036\", \"4038\", \"4039\", \"4040\", \"4041\", \"4042\", \n\"4043\", \"4050\", \"4058\", \"4059\", \"4061\", \"4063\", \"4072\", \"4079\", \n\"4091\", \"4110\", \"4114\", \"4115\", \"4122\", \"4125\", \"4126\", \"4127\", \n\"4128\", \"4129\", \"4130\", \"4131\", \"4132\", \"4133\", \"4134\", \"4135\", \n\"4136\", \"4137\", \"4138\", \"4139\", \"4141\", \"4143\", \"4151\", \"4152\", \n\"4153\", \"4154\", \"4155\", \"4156\", \"4157\", \"4158\", \"4159\", \"4163\", \n\"4164\", \"4187\", \"4189\", \"4190\", \"4227\", \"4228\", \"4229\", \"4231\", \n\"4238\", \"4248\", \"4249\", \"4251\", \"4252\", \"4253\", \"4254\", \"4255\", \n\"4256\", \"4257\", \"4259\", \"4260\", \"4261\", \"4262\", \"4263\", \"4264\", \n\"4271\", \"4272\", \"4284\", \"4291\", \"4315\", \"4317\", \"4321\", \"4325\", \n\"4326\", \"4329\", \"4345\", \"4349\", \"4352\", \"4355\", \"4356\", \"4358\", \n\"4364\", \"4365\", \"4366\", \"4368\", \"4391\", \"4393\", \"4394\", \"4399\", \n\"4405\", \"4407\", \"4410\", \"4411\", \"4412\", \"4413\", \"4415\", \"4421\"\n)))\n\nDeviance Residuals: \n      Min         1Q     Median         3Q        Max  \n-0.195838  -0.023975   0.005343   0.027142   0.100115  \n\nCoefficients:\n                                               Estimate Std. Error t value\n(Intercept)                                   0.8958733  0.0416917  21.488\ngendermale                                    0.0091326  0.0029621   3.083\nyear2019                                     -0.0048329  0.0038747  -1.247\nyear2020                                      0.0014180  0.0038541   0.368\nyear2021                                     -0.0070737  0.0045744  -1.546\nyear2022                                     -0.0009668  0.0042665  -0.227\nField_EnglishClinical Medicine               -0.0167883  0.0028272  -5.938\nField_EnglishPsychology & Cognitive Sciences -0.0344835  0.0067574  -5.103\nField_EnglishPublic Health & Health Services -0.0160458  0.0054053  -2.969\nq2                                            0.0030022  0.0426690   0.070\nq3                                            0.0044005  0.0414160   0.106\n                                             Pr(>|t|)    \n(Intercept)                                   < 2e-16 ***\ngendermale                                    0.00211 ** \nyear2019                                      0.21259    \nyear2020                                      0.71301    \nyear2021                                      0.12234    \nyear2022                                      0.82077    \nField_EnglishClinical Medicine               4.01e-09 ***\nField_EnglishPsychology & Cognitive Sciences 4.02e-07 ***\nField_EnglishPublic Health & Health Services  0.00307 ** \nq2                                            0.94392    \nq3                                            0.91540    \n---\nSignif. codes:  0 ‘***’ 0.001 ‘**’ 0.01 ‘*’ 0.05 ‘.’ 0.1 ‘ ’ 1\n\n(Dispersion parameter for gaussian family taken to be 0.001705286)\n\n    Null deviance: 1.7849  on 983  degrees of freedom\nResidual deviance: 1.6592  on 973  degrees of freedom\nAIC: -3466.6\n\nNumber of Fisher Scoring iterations: 2\n\n\n"
     ]
    }
   ],
   "source": [
    "tmp = pd.DataFrame()\n",
    "tmp['neutral'] = dummy['neutral']\n",
    "tmp['gender'] = dummy['gender']\n",
    "tmp['year'] = dummy['year']\n",
    "tmp['Domain_English'] = dummy['Domain_English']\n",
    "tmp['Field_English'] = dummy['Field_English']\n",
    "tmp['SubField_English'] = dummy['SubField_English']\n",
    "tmp['q'] = dummy['q']\n",
    "\n",
    "#overall - gmale = +ve, p - *\n",
    "#tmp = tmp[tmp['Domain_English'] == 'Applied Sciences'] #insig\n",
    "#tmp = tmp[tmp['Domain_English'] == 'Arts & Humanities'] #insig\n",
    "#tmp = tmp[tmp['Domain_English'] == 'Economic & Social Sciences'] #insig\n",
    "tmp = tmp[tmp['Domain_English'] == 'Health Sciences'] #gmale = +ve, **\n",
    "#tmp = tmp[tmp['Domain_English'] == 'Natural Sciences'] #insig\n",
    "\n",
    "\n",
    "\n",
    "\n",
    "with localconverter(ro.default_converter + pandas2ri.converter):\n",
    "  tst_df = ro.conversion.py2rpy(tmp)\n",
    "\n",
    "col_2_index = list(tst_df.colnames).index('year')\n",
    "col_2 = ro.vectors.FactorVector(tst_df.rx2('year'))\n",
    "tst_df[col_2_index] = col_2\n",
    "\n",
    "col_2_index = list(tst_df.colnames).index('q')\n",
    "col_2 = ro.vectors.FactorVector(tst_df.rx2('q'))\n",
    "tst_df[col_2_index] = col_2\n",
    "\n",
    "\n",
    "'''col_2_index = list(tst_df.colnames).index('Domain_English')\n",
    "col_2 = ro.vectors.FactorVector(tst_df.rx2('Domain_English'))\n",
    "tst_df[col_2_index] = col_2'''\n",
    "\n",
    "col_2_index = list(tst_df.colnames).index('Field_English')\n",
    "col_2 = ro.vectors.FactorVector(tst_df.rx2('Field_English'))\n",
    "tst_df[col_2_index] = col_2\n",
    "\n",
    "\n",
    "\n",
    "#print(tst_df)\n",
    "#pandas2ri.activate()\n",
    "model = stats.glm(\"neutral ~ gender+year+Field_English+q\",\n",
    "                  data=tst_df,family=ro.r('gaussian')) #family=ro.r('gaussian(link=\"identity\")') #family=ro.r('poisson(link=\"log\")')\n",
    "print(base.summary(model))"
   ]
  },
  {
   "cell_type": "code",
   "execution_count": 0,
   "metadata": {
    "application/vnd.databricks.v1+cell": {
     "cellMetadata": {
      "byteLimit": 2048000,
      "rowLimit": 10000
     },
     "inputWidgets": {},
     "nuid": "0572b9a9-53f1-4751-bf05-86185cbf9f2e",
     "showTitle": false,
     "title": ""
    }
   },
   "outputs": [
    {
     "output_type": "stream",
     "name": "stdout",
     "output_type": "stream",
     "text": [
      "0.0\n4422\n"
     ]
    }
   ],
   "source": [
    "merged_neg = dfneg.merge(us, on = 'doi', how = 'inner')\n",
    "print(dfneg['negative'].min())\n",
    "\n",
    "dummy = merged_neg.copy()\n",
    "dummy = dummy.dropna(subset = ['cor_gender'])\n",
    "print(len(dummy))\n",
    "gender = []\n",
    "for ind in dummy.index:\n",
    "    if dummy['cor_gender'][ind] == \"female\" or dummy['cor_gender'][ind] == \"f\" or dummy['cor_gender'][ind] == \"F\":\n",
    "        gender.append(\"female\")\n",
    "    else: ##there is no null value in gender, so it is safe to say that if someone is not female, he must be male\n",
    "        gender.append(\"male\")\n",
    "dummy['gender'] = gender\n",
    "\n",
    "q = []\n",
    "q1,q2,q3 = 0.123,0.25,0.593\n",
    "for ind in dummy.index:\n",
    "  if dummy['SJR'][ind] <= q1:\n",
    "    q.append(0)\n",
    "  elif dummy['SJR'][ind] > q1 and dummy['SJR'][ind] <= q2:\n",
    "    q.append(1)\n",
    "  elif dummy['SJR'][ind] > q2 and dummy['SJR'][ind] <= q3:\n",
    "    q.append(2)\n",
    "  else:\n",
    "    q.append(3)\n",
    "dummy['q'] = q\n",
    "\n"
   ]
  },
  {
   "cell_type": "code",
   "execution_count": 0,
   "metadata": {
    "application/vnd.databricks.v1+cell": {
     "cellMetadata": {
      "byteLimit": 2048000,
      "rowLimit": 10000
     },
     "inputWidgets": {},
     "nuid": "1837454e-17b1-498c-9c29-2631caf22137",
     "showTitle": false,
     "title": ""
    }
   },
   "outputs": [
    {
     "output_type": "stream",
     "name": "stdout",
     "output_type": "stream",
     "text": [
      "\nCall:\n(function (formula, family = gaussian, data, weights, subset, \n    na.action, start = NULL, etastart, mustart, offset, control = list(...), \n    model = TRUE, method = \"glm.fit\", x = FALSE, y = TRUE, singular.ok = TRUE, \n    contrasts = NULL, ...) \n{\n    cal <- match.call()\n    if (is.character(family)) \n        family <- get(family, mode = \"function\", envir = parent.frame())\n    if (is.function(family)) \n        family <- family()\n    if (is.null(family$family)) {\n        print(family)\n        stop(\"'family' not recognized\")\n    }\n    if (missing(data)) \n        data <- environment(formula)\n    mf <- match.call(expand.dots = FALSE)\n    m <- match(c(\"formula\", \"data\", \"subset\", \"weights\", \"na.action\", \n        \"etastart\", \"mustart\", \"offset\"), names(mf), 0L)\n    mf <- mf[c(1L, m)]\n    mf$drop.unused.levels <- TRUE\n    mf[[1L]] <- quote(stats::model.frame)\n    mf <- eval(mf, parent.frame())\n    if (identical(method, \"model.frame\")) \n        return(mf)\n    if (!is.character(method) && !is.function(method)) \n        stop(\"invalid 'method' argument\")\n    if (identical(method, \"glm.fit\")) \n        control <- do.call(\"glm.control\", control)\n    mt <- attr(mf, \"terms\")\n    Y <- model.response(mf, \"any\")\n    if (length(dim(Y)) == 1L) {\n        nm <- rownames(Y)\n        dim(Y) <- NULL\n        if (!is.null(nm)) \n            names(Y) <- nm\n    }\n    X <- if (!is.empty.model(mt)) \n        model.matrix(mt, mf, contrasts)\n    else matrix(, NROW(Y), 0L)\n    weights <- as.vector(model.weights(mf))\n    if (!is.null(weights) && !is.numeric(weights)) \n        stop(\"'weights' must be a numeric vector\")\n    if (!is.null(weights) && any(weights < 0)) \n        stop(\"negative weights not allowed\")\n    offset <- as.vector(model.offset(mf))\n    if (!is.null(offset)) {\n        if (length(offset) != NROW(Y)) \n            stop(gettextf(\"number of offsets is %d should equal %d (number of observations)\", \n                length(offset), NROW(Y)), domain = NA)\n    }\n    mustart <- model.extract(mf, \"mustart\")\n    etastart <- model.extract(mf, \"etastart\")\n    fit <- eval(call(if (is.function(method)) \"method\" else method, \n        x = X, y = Y, weights = weights, start = start, etastart = etastart, \n        mustart = mustart, offset = offset, family = family, \n        control = control, intercept = attr(mt, \"intercept\") > \n            0L, singular.ok = singular.ok))\n    if (length(offset) && attr(mt, \"intercept\") > 0L) {\n        fit2 <- eval(call(if (is.function(method)) \"method\" else method, \n            x = X[, \"(Intercept)\", drop = FALSE], y = Y, mustart = fit$fitted.values, \n            weights = weights, offset = offset, family = family, \n            control = control, intercept = TRUE))\n        if (!fit2$converged) \n            warning(\"fitting to calculate the null deviance did not converge -- increase 'maxit'?\")\n        fit$null.deviance <- fit2$deviance\n    }\n    if (model) \n        fit$model <- mf\n    fit$na.action <- attr(mf, \"na.action\")\n    if (x) \n        fit$x <- X\n    if (!y) \n        fit$y <- NULL\n    structure(c(fit, list(call = cal, formula = formula, terms = mt, \n        data = data, offset = offset, control = control, method = method, \n        contrasts = attr(X, \"contrasts\"), xlevels = .getXlevels(mt, \n            mf))), class = c(fit$class, c(\"glm\", \"lm\")))\n})(formula = \"negative ~ gender+year+Field_English+q\", family = function (link = \"identity\") \n{\n    linktemp <- substitute(link)\n    if (!is.character(linktemp)) \n        linktemp <- deparse(linktemp)\n    okLinks <- c(\"inverse\", \"log\", \"identity\")\n    family <- \"gaussian\"\n    if (linktemp %in% okLinks) \n        stats <- make.link(linktemp)\n    else if (is.character(link)) {\n        stats <- make.link(link)\n        linktemp <- link\n    }\n    else {\n        if (inherits(link, \"link-glm\")) {\n            stats <- link\n            if (!is.null(stats$name)) \n                linktemp <- stats$name\n        }\n        else {\n            stop(gettextf(\"link \\\"%s\\\" not available for %s family; available links are %s\", \n                linktemp, family, paste(sQuote(okLinks), collapse = \", \")), \n                domain = NA)\n        }\n    }\n    structure(list(family = family, link = linktemp, linkfun = stats$linkfun, \n        linkinv = stats$linkinv, variance = function(mu) rep.int(1, \n            length(mu)), dev.resids = function(y, mu, wt) wt * \n            ((y - mu)^2), aic = function(y, n, mu, wt, dev) {\n            nobs <- length(y)\n            nobs * (log(dev/nobs * 2 * pi) + 1) + 2 - sum(log(wt))\n        }, mu.eta = stats$mu.eta, initialize = expression({\n            n <- rep.int(1, nobs)\n            if (is.null(etastart) && is.null(start) && is.null(mustart) && \n                ((family$link == \"inverse\" && any(y == 0)) || \n                  (family$link == \"log\" && any(y <= 0)))) stop(\"cannot find valid starting values: please specify some\")\n            mustart <- y\n        }), validmu = function(mu) TRUE, valideta = stats$valideta), \n        class = \"family\")\n}, data = structure(list(negative = c(0.037125, 0.00807142857142857, \n0.0472265851260831, 0.0314093983311374, 0.0279402674897119, 0.059430573436946, \n0.0144, 0.02755, 0.0410057229907773, 0.0437837059620596, 0.0299135497923519, \n0.0813911858974359, 0.0289768258835272, 0.0619545454545454, 0.0630321637426901, \n0.02255, 0.0232857142857142, 0.0719, 0.0413333333333333, 0.028576923076923, \n0.0307037037037037, 0.0388710737628384, 0.0386153846153846, 0.0280714285714285, \n0.0105833333333333, 0.101903743315508, 0.0310802721088435, 0.0156666666666666, \n0.087043956043956, 0.0339259259259259, 0.013295424403183, 0.0877647058823529, \n0.009125, 0.0532941176470588, 0.0072666666666666, 0.170666666666667, \n0.115705882352941, 0.0149285714285714, 0.0413573407620873, 0.017206117053678, \n0.0160963937621832, 0.0159285714285714, 0.0354285714285714, 0.0287740740740741, \n0.0769927884615385, 0.0152222222222222, 0.033, 0.043078431372549, \n0.104723232323232, 0.0878749837662337, 0.116833333333333, 0.179416666666667, \n0.108, 0.0454309941520467, 0.0777142857142857, 0.0179375, 0.0033235294117647, \n0.1492, 0.037, 0.0713785714285714, 0.029695652173913, 0.100277438610772, \n0.0796363636363636, 0.05345, 0.100363636363636, 0.0197944147355911, \n0.0708277777777777, 0.0209343434343434, 0.0713, 0.0605375, 0.0308888888888888, \n0.0253166666666666, 0.0301319340329835, 0.172538461538462, 0.0752105263157894, \n0.0965454545454545, 0.046, 0.157214285714286, 0.0551428571428571, \n0.104507114245907, 0.0942592592592592, 0.0407777609453113, 0.0150999999999999, \n0.0012222222222222, 0.0944999999999999, 0.0580328947368421, 0.2069, \n0.0256774193548387, 0.1228, 0.016576923076923, 0.0985, 0.0201621621621621, \n0.17628869047619, 0.0121458333333333, 0.0167978007030931, 0.0428888888888889, \n0.07, 0.0248666666666666, 0.0498666666666666, 0.0248402777777778, \n0.0158474903474903, 0.0601428571428571, 0.0346782296650718, 0.0196675982310486, \n0.0449365957446809, 0.0206127473538886, 0.0692195121951219, 0.0218333333333333, \n0.0390945945945945, 0.0256315789473684, 0.195333333333333, 0.03732, \n0.0231666666666666, 0, 0.0451739130434782, 0.0255772727272727, \n0.05245, 0.0370784126984127, 0.0589335839598997, 0.0706967532467532, \n0.151052631578947, 0.123157894736842, 0.0206111111111111, 0, \n0.11475, 0.0298888888888888, 0, 0.0434070929070929, 0.0107142857142857, \n0.0416111111111111, 0.0429693675889328, 0.0449297385620915, 0.0216587301587301, \n0.0643819444444444, 0.0648888888888888, 0.05875, 0.0792307692307692, \n0.0116086956521739, 0.0301739130434782, 0.0882857142857142, 0.0551454663693794, \n0.0664237762237762, 0.0882595238095238, 0.0131485806628731, 0.0146925940248998, \n0.0159652111777111, 0.0103333333333333, 0.0763571428571428, 0.0472996963036491, \n0.0100364490493167, 0.0422631578947368, 0.0553333333333333, 0.0131866521668155, \n0.092195294117647, 0.0290886287625418, 0.0203345238095238, 0.0325017543859649, \n0.0225106685633001, 0.030099682389735, 0.00788353288633457, 0.02725, \n0.0708571036638967, 0.0296824428929147, 0.0337608517608517, 0.100577777777778, \n0.0424153598281417, 0.048951923076923, 0.0054090909090909, 0.02225, \n0.068825, 0, 0.0163166666666666, 0.050894387755102, 0.0312904761904761, \n0.062278947368421, 0.0871145161290322, 0.0891538461538461, 0.0240238095238095, \n0.0719629629629629, 0.0100697674418604, 0.0518, 0.0364161490683229, \n0.10809375, 0.0294333333333333, 0.0927325884899414, 0.0659931077694235, \n0.0496005031446541, 0.0279285714285714, 0.0201363636363636, 0.0085806451612903, \n0.019375, 0.15052380952381, 0.0356146901256657, 0.0026931818181818, \n0.0424254510921177, 0.0309166666666666, 0.0408166666666666, 0.0309661790400025, \n0.0490556925759214, 0.0237478991596638, 0.0263873626373626, 0.0700797101449275, \n0.0159383289124668, 0.0607377049180327, 0.0291071428571428, 0.0336666666666666, \n0.0453823529411764, 0.0180333333333333, 0.0142222222222222, 0.0770243647903222, \n0.103515552006742, 0.0194301587301587, 0.0374285714285714, 0.0334444444444444, \n0.0299565217391304, 0.01952, 0.0499047619047619, 0.0352105263157894, \n0.040090266247628, 0.0676136363636363, 0.0522063763197586, 0.125942307692308, \n0.0635066666666667, 0.13726660341556, 0.0393300595238095, 0.0427741935483871, \n0.0399643274853801, 0.0672745689655171, 0.0174736842105263, 0.0745, \n0.0760887096774193, 0.0881052631578947, 0.03078, 0.0202647058823529, \n0.0430416666666666, 0.0989411764705882, 0.0736796296296296, 0.0131801587301587, \n0.133129523809524, 0.00925, 0.043, 0.0510454545454545, 0.0244772727272727, \n0.0223076923076923, 0.0688999999999999, 0.118411764705882, 0, \n0.0312583333333333, 0.02375, 0.0438205128205128, 0.019375, 0.0328498343761501, \n0.0514, 0.0508499999999999, 0.0969230769230769, 0.0121666666666666, \n0.0817142857142857, 0.0136955492424242, 0.107191699604743, 0.0122167182662539, \n0.0118800325978344, 0.0385333333333333, 0.0396666666666666, 0.0511923337283631, \n0.1174, 0.0243601307189542, 0.0343199999999999, 0.0448571428571428, \n0.03275, 0.0340863171355499, 0.0303516483516483, 0.00469191919191915, \n0.0392516835016835, 0.0313510984938974, 0.0217083333333333, 0.0361162790697674, \n0.0860706422852691, 0.0272224025974026, 0.0202770114942529, 0.0477736528822055, \n0.0242857142857142, 0.0148665994623656, 0.0095714285714285, 0.0487808531746031, \n0.0082105263157894, 0.02915, 0.0327368421052631, 0.104556547619048, \n0.023047619047619, 0.0619979166666666, 0.0239420634920635, 0.02836, \n0.0223454545454545, 0.01175, 0.0338947368421052, 0.07214, 0.0753333333333333, \n0.0364285714285714, 0.0525813953488372, 0.0363571428571428, 0.0150022727272727, \n0.0638636363636363, 0.0514565789473684, 0.0347619047619047, 0, \n0.0110137867647058, 0.0326295536821852, 0.216789473684211, 0.0613478260869565, \n0.0147333333333333, 0.0318333333333333, 0.0029230769230769, 0.0192132352941176, \n0.0182836601307189, 0.0553333333333333, 0.0415172413793103, 0.0304321813452248, \n0.0169565217391304, 0.0594642857142857, 0.0096049284578696, 0.0209473684210526, \n0.0336666666666666, 0.0249118688138921, 0.0304419642857142, 0.0482569444444444, \n0.0430463521772345, 0.0636213371813372, 0.0731911764705882, 0.0382892925354913, \n0.0178615384615384, 0.0411282958835708, 0.0062777777777777, 0.026076923076923, \n0, 0.0254666666666666, 0.116354838709677, 0.0198733031674208, \n0.0316298732943469, 0.04398125, 0.0386225537634408, 0.041, 0.0213407738095238, \n0.0328951448388412, 0.0098571428571428, 0.028798245614035, 0.037825, \n0.04325, 0.022704248366013, 0.0238333333333332, 0.022103448275862, \n0.0427405069407286, 0.0350799663299663, 0.0277999999999999, 0.0459310344827586, \n0.0311492788294848, 0.03325, 0.0793333333333333, 0.10375, 0.0826760912698412, \n0.0393037037037037, 0.0207272727272727, 0.0588571428571428, 0.0027407407407407, \n0.0213111111111111, 0.0148866341991342, 0.115491666666667, 0.0214212121212121, \n0.0436521739130434, 0.0279130434782608, 0.0467295713545713, 0.0420384615384615, \n0.0118695652173913, 0.0282516339869281, 0.0458275862068965, 0.0174117647058823, \n0.0381052631578947, 0.0226754545454545, 0.0051111111111111, 0.0510558404558404, \n0.0381353276353276, 0.0471715032679738, 0.0112326754385965, 0.0643548387096774, \n0.0211111111111111, 0.0504840874811463, 0.174928571428571, 0.149388888888889, \n0.0989985754985755, 0.0219310344827586, 0.0442577950310558, 0.0177, \n0.0434657407407407, 0.0270344827586206, 0.0251739130434782, 0.0118235294117647, \n0.02444, 0.0138421052631578, 0.00996057453416148, 0.00628421052631575, \n0.0392957641549595, 0.07975, 0.0565792207792207, 0.0045862068965517, \n0.0644183333333333, 0.0645, 0.0125714285714285, 0.0185238095238095, \n0.0449523809523809, 0.0399749103942652, 0.101875313283208, 0.0706896033840886, \n0.0078149122807017, 0.0844106481481481, 0.0131428571428571, 0.114700918803419, \n0.041146649484536, 0.0411111111111111, 0.024, 0.0217619047619047, \n0.047405598262032, 0.0358888888888889, 0.0159484126984126, 0.0783333333333333, \n0.0222307692307692, 0.0122229166666666, 0.087932735458546, 0.0515865384615385, \n0.0482321428571428, 0.017201009168035, 0.01415625, 0.0403660714285714, \n0.102863636363636, 0.0421319321387091, 0.0217857142857142, 0.0874526353276353, \n0.0596987654320987, 0.030937134502924, 0.0936521739130434, 0.0578461538461538, \n0.0163043478260869, 0.0469545454545454, 0.0337556818181818, 0.0415418109668109, \n0.0125169631395562, 0.0105714285714285, 0.0521616269841269, 0.0254623010943507, \n0.0135998232704115, 0.044125, 0.0438936507936507, 0.135551724137931, \n0.00295757575757567, 0.0335925925925925, 0.0067307692307692, \n0.0455219708352261, 0.027, 0.032758357771261, 0.0237857142857142, \n0.0192258064516129, 0.0363653007846556, 0.0994114087301587, 0.024, \n0.0187058823529411, 0, 0.0308070436507936, 0.0669166666666666, \n0.0280991485738612, 0.0297515473032714, 0.0138149509803921, 0.0129569128787878, \n0.0556444444444444, 0.0046875, 0.0220661375661375, 0.01221875, \n0.0327969192146302, 0.00534172833779973, 0.0712630434782608, \n0.00975, 0.0136961038961039, 0.0735238095238095, 0.0172368421052631, \n0.0454814814814814, 0.012, 0.0202135934241197, 0.044375, 0.0222173913043478, \n0.017576923076923, 0.021031385565273, 0.0095223684210526, 0.023470909090909, \n0.0174166666666666, 0.0347628676470588, 0.0425045327709628, 0.0111758380771663, \n0.0182685290885899, 0.0155555555555555, 0.0126098901098901, 0.0332941176470588, \n0.0213218390804598, 0.0413225806451612, 0.0041923076923076, 0.0729465579710144, \n0.0219916666666666, 0.0250714285714285, 0.0125003968253968, 0.0242380952380952, \n0.0050999999999999, 0.0608333333333333, 0.0776747994652406, 0.0226583333333333, \n0.021, 0.103137917622663, 0.0439473684210526, 0.119489230769231, \n0.12204347826087, 0.0256237928737928, 0.04121875, 0.0938758249158249, \n0.0468053830227743, 0.0125604395604395, 0.0073636363636363, 0.0126041666666666, \n0.00526190476190473, 0.0068181818181818, 0.0362777777777777, \n0.077133629115982, 0.0172094594594594, 0.0878697791991715, 0.0419811320754717, \n0.115139471639472, 0.0487965517241379, 0.0157950621455157, 0.0324879166666666, \n0.0690545259266022, 0.0204603174603174, 0.0913611111111111, 0.0806494586112335, \n0.0221666666666666, 0.0167362431369699, 0.0302096774193548, 0.0037692307692307, \n0.0491666666666666, 0.0461818181818181, 0.0153494318181818, 0.0221956574127626, \n0.0162727272727272, 0, 0.0482916666666666, 0.0683448275862069, \n0.0310384615384615, 0.030947619047619, 0, 0.0551738793103448, \n0.0214967658730158, 0.0305008069828722, 0.0445884292641788, 0.0421666666666666, \n0.0669523809523809, 0.0760318203535594, 0.0161794871794871, 0.0984, \n0.0688333333333333, 0.0263499999999999, 0.0122641422857021, 0.0123333333333333, \n0.0632653061224489, 0.0348, 0.0218790697674418, 0.011650505050505, \n0.00151169336384438, 0.0295755207145795, 0.0393050857843137, \n0.00416096866096863, 0.0266531562482543, 0.0748026086956521, \n0.0053846153846153, 0.0564705882352941, 0.0473148148148148, 0.0791282051282051, \n0.0205714285714285, 0.122542222222222, 0.0144833333333333, 0.0324615384615384, \n0.111762077294686, 0.112085714285714, 0.0343809523809523, 0.0789130434782608, \n0.109718325791855, 0.10084375, 0.0295833333333333, 0.0298576691130454, \n0.012560606060606, 0.0586737012987013, 0, 0.00570451770451763, \n0.0253874643874643, 0.0119629629629629, 0.0087499999999999, 0.11125, \n0.0455384615384615, 0.023076923076923, 0.0581, 0.0331052631578947, \n0.0603055555555555, 0.118555555555555, 0.0553044685990337, 0.0264884199134199, \n0.0358052173913043, 0.0649444444444444, 0.0961221052631578, 0.115711347511776, \n0.0340748461567863, 0.0271904761904761, 0.0253578431372549, 0.137435714285714, \n0.127540540540541, 0.0117693650793651, 0.0180396317578414, 0.0392936507936507, \n0.0386363636363636, 0.0120180518375718, 0.0195185185185185, 0.0407453200483091, \n0.0556371177406473, 0.0493479087943093, 0.0883290598290598, 0.119833333333333, \n0.0368636363636363, 0.0482871478642349, 0.0159805555555555, 0.0214117647058823, \n0.0538145604395604, 0.0664999999999999, 0.0523724256292906, 0.00327272727272725, \n0.0277692307692307, 0.0397842105263157, 0.0637777777777777, 0.0025714285714285, \n0.0494697802197802, 0.0247666666666666, 0.0139867724867725, 0.0148942307692307, \n0.0647363252943453, 0.0320459163504111, 0.0336463424903827, 0.0711774820919821, \n0.0205416666666666, 0.0034784182678919, 0.0426875, 0.0313497474747474, \n0.0661480591458895, 0.0137333333333333, 0.0045, 0.0347067956349206, \n0.0115693019806859, 0.0487303921568627, 0.0715142857142857, 0.0891333333333333, \n0.1512, 0.072625, 0.118, 0.0676977360922581, 0, 0.0225729166666667, \n0.0619496336996337, 0.0728300712759463, 0.0146470588235294, 0.0188695652173913, \n0.0453684210526315, 0.0578832989336085, 0.0546785714285714, 0, \n0.0223333333333333, 0.0251666666666666, 0.023695652173913, 0.0227027027027027, \n0.0496176470588235, 0.0787603987240829, 0.02495, 0.0156993464052287, \n0.0500360054347826, 0.00407373737373733, 0.0267756158873805, \n0, 0.0147292490118577, 0.0318, 0.0440089147286821, 0, 0.0856575757575757, \n0.0434545454545454, 0.0456, 0.028625, 0.039578947368421, 0.02, \n0.0864285714285714, 0.0727272727272727, 0.0516666666666666, 0.0715138157894736, \n0.110860401002506, 0.069375, 0.0296625, 0.0454523809523809, 0.0135652173913043, \n0.014425, 0.0314545454545454, 0.0419180555555556, 0.0436549242424242, \n0.0236666666666666, 0.0436521739130434, 0.0438529411764705, 0.02032, \n0.0513571428571428, 0.0282105263157894, 0.0276666666666666, 0.0451578947368421, \n0.0082666666666666, 0.083, 0.0215, 0.0335333333333333, 0.037966383532012, \n0.04585, 0.0357647058823529, 0.0040344827586206, 0.0303999999999999, \n0.069516129032258, 0.0324285714285714, 0.0354444444444444, 0.0803333333333333, \n0.02715, 0.0634285714285714, 0.076, 0.0897, 0.076589144078684, \n0.0511875, 0.0714583333333333, 0.0133749999999999, 0.0173684210526315, \n0.0421818181818181, 0.0117857142857142, 0.0359230769230769, 0.036, \n0.0556923076923076, 0.0357727272727272, 0.0463191691349585, 0.0469444444444444, \n0.023, 0.0360869565217391, 0.00444536613272307, 0.0841666666666666, \n0.0429947916666666, 0.0237004902110348, 0.0012, 0.0517633725649351, \n0.00653663003662997, 0.0379691176470588, 0.0137894736842105, \n0.00758080016961593, 0.0408333333333333, 0.122237536656891, 0.0513868577075099, \n0.0243231747237985, 0.0217179487179487, 0.0485138888888888, 0.0395773809523809, \n0.0542672175391824, 0.0188262432012432, 0.0869117647058824, 0.081675, \n0.0234285714285714, 0.0279594771241829, 0.0151687565308255, 0.0282972222222221, \n0.0145833333333333, 0.0166459627329192, 0.0229333333333333, 0.0228333333333333, \n0.016718954248366, 0.0467243407374986, 0.04775, 0.0227032934492989, \n0.0280434782608695, 0.00700122749590833, 0.034451724137931, 0.0366666666666666, \n0.0207386853448275, 0.012922619047619, 0.00995512820512813, 0.00802669632925467, \n0.0613571428571428, 0.048125, 0.0486768790849673, 0.0055714285714285, \n0.0289923076923077, 0.0374545454545454, 0.0610241162601097, 0.0523639418964689, \n0.155, 0.024079107991779, 0.081, 0.0148349751641547, 0.0469189189189188, \n0.0247619047619047, 0.0231145806487602, 0.0169419642857143, 0.0583704775232793, \n0.0255716962947098, 0.0631428571428571, 0.0615945945945945, 0.0688076923076923, \n0.149606060606061, 0.0921578947368421, 0.0408209013209013, 0.0368833333333333, \n0.0547296918767507, 0.042392674427496, 0.0261655359813254, 0.0754952468487395, \n0.0453136274509804, 0.0232222222222222, 0.114692307692308, 0.0593102490421456, \n0.0671153846153846, 0.0261219226913082, 0.065475, 0.03955, 0.0332758680555555, \n0.0046875, 0.0812772727272727, 0.0748333333333333, 0.0650129981661082, \n0.05494604743083, 0.0306962535014005, 0.0487619047619047, 0.0528552631578947, \n0.0796571428571428, 0.0275882352941176, 0.021113567703206, 0.0437440476190476, \n0.06984, 0.0169230769230769, 0.0689565217391304, 0.012010294117647, \n0.025, 0.0199999999999999, 0.070713768115942, 0.105339705882353, \n0.0325185185185185, 0.0350416666666666, 0.0972676091686092, 0.0861931542695655, \n0.0047, 0.0560725284519402, 0.035375, 0.0566666666666666, 0.0865893416927899, \n0.0365263157894736, 0.0550952380952381, 0.0208422307037114, 0.0900714285714285, \n0.0265555555555555, 0.0288124999999999, 0.074762012987013, 0.0121149425287356, \n0.0465573770491803, 0.0409090909090909, 0.070235294117647, 0, \n0.0056666666666666, 0.0321818181818181, 0.03085, 0.0752727272727272, \n0.0488571428571428, 0.0954058302808302, 0.0052647058823529, 0.0523499999999999, \n0.0234090909090909, 0.0516129032258064, 0.0441874811062117, 0.0302976304653935, \n0.0374571428571428, 0.0453141414141414, 0.10049025974026, 0.0715408496732026, \n0.10028, 0.0380071321321321, 0.0151538461538461, 0.038, 0.0403821548821548, \n0.0269545454545454, 0.116, 0.036606282051282, 0.0166681339712918, \n0.0163999999999999, 0.0505715325097045, 0.0818888888888888, 0.0492, \n0.0093426573426573, 0.0152142857142857, 0.0012206896551724, 0.0645, \n0.0478358474800613, 0.0302857142857142, 0.0686339632589632, 0.0523118092252575, \n0.0613019534195849, 0.0433636363636363, 0.0239999999999999, 0.03745, \n0.013625, 0.00487505582137159, 0.022365, 0.06415, 0.027570707070707, \n0.0999456043956043, 0.0951428571428571, 0.033362849002849, 0.0431561403508772, \n0.0787416666666667, 0.0249657857991681, 0.0463770833333333, 0.0401408045977011, \n0.0566437030075188, 0.0471875, 0.0651904761904761, 0.0478133484162896, \n0.0166105072463768, 0.0233255813953488, 0.061, 0, 0.0163423295454544, \n0.0319655172413793, 0.0187261904761904, 0.153499470899471, 0.0879555555555555, \n0.0682165071770334, 0.0192350781845919, 0.0719090909090909, 0.0406284857842858, \n0.0053809523809523, 0.0383181818181818, 0.0312529761904762, 0.0503297923922923, \n0.01348, 0.0283048068788572, 0.0681382850241546, 0.0225666666666667, \n0.0087428571428571, 0.011125, 0.054, 0.0856273148148148, 0.070235294117647, \n0.0160588235294117, 0.0244, 0.0368, 0.0440714285714285, 0.0390319442210696, \n0.1072, 0.0567006033182503, 0.0224444444444444, 0.0952666666666666, \n0.0782499999999999, 0.0118888888888888, 0.0903594771241829, 0.11376, \n0.0270831662489557, 0.0376153846153846, 0.0717953869047619, 0.104129901960784, \n0.0159636363636364, 0.06095, 0.0688, 0.0066111111111111, 0, 0.0858031849103277, \n0.011185606060606, 0.0553571428571428, 0.062475, 0.0038888888888888, \n0.00925531392354918, 0.0469332683073229, 0.0267628205128205, \n0.015125, 0.0554285714285714), gender = c(\"male\", \"male\", \"male\", \n\"male\", \"male\", \"male\", \"female\", \"male\", \"female\", \"male\", \"male\", \n\"male\", \"male\", \"male\", \"male\", \"female\", \"male\", \"male\", \"male\", \n\"female\", \"male\", \"male\", \"male\", \"male\", \"female\", \"female\", \n\"male\", \"male\", \"male\", \"male\", \"male\", \"male\", \"male\", \"male\", \n\"female\", \"male\", \"male\", \"male\", \"male\", \"female\", \"male\", \"male\", \n\"male\", \"female\", \"male\", \"male\", \"male\", \"male\", \"male\", \"male\", \n\"male\", \"female\", \"male\", \"female\", \"male\", \"male\", \"female\", \n\"female\", \"male\", \"male\", \"male\", \"male\", \"male\", \"male\", \"male\", \n\"male\", \"male\", \"male\", \"male\", \"female\", \"male\", \"male\", \"female\", \n\"female\", \"female\", \"male\", \"male\", \"female\", \"male\", \"male\", \n\"male\", \"male\", \"male\", \"female\", \"female\", \"male\", \"female\", \n\"female\", \"male\", \"male\", \"male\", \"male\", \"male\", \"female\", \"female\", \n\"female\", \"female\", \"male\", \"female\", \"male\", \"female\", \"male\", \n\"male\", \"male\", \"male\", \"female\", \"male\", \"female\", \"female\", \n\"male\", \"female\", \"male\", \"female\", \"male\", \"male\", \"male\", \"male\", \n\"female\", \"female\", \"female\", \"female\", \"female\", \"female\", \"male\", \n\"male\", \"female\", \"female\", \"male\", \"female\", \"male\", \"male\", \n\"male\", \"male\", \"male\", \"female\", \"female\", \"male\", \"male\", \"male\", \n\"male\", \"male\", \"male\", \"male\", \"male\", \"male\", \"male\", \"female\", \n\"female\", \"female\", \"male\", \"male\", \"male\", \"male\", \"male\", \"female\", \n\"male\", \"male\", \"female\", \"male\", \"male\", \"male\", \"male\", \"male\", \n\"female\", \"male\", \"female\", \"male\", \"male\", \"male\", \"female\", \n\"male\", \"male\", \"female\", \"male\", \"male\", \"female\", \"male\", \"male\", \n\"male\", \"male\", \"male\", \"male\", \"female\", \"male\", \"male\", \"male\", \n\"female\", \"male\", \"male\", \"female\", \"male\", \"female\", \"female\", \n\"male\", \"female\", \"male\", \"female\", \"male\", \"male\", \"male\", \"male\", \n\"male\", \"male\", \"female\", \"male\", \"male\", \"male\", \"male\", \"male\", \n\"female\", \"male\", \"male\", \"male\", \"male\", \"male\", \"\n\n*** WARNING: max output size exceeded, skipping output. ***\n\ninogenesis\", \n    \"obstetrics & reproductive medicine\", \"urology & nephrology\", \n    \"oncology & carcinogenesis\", \"gastroenterology & hepatology\", \n    \"gastroenterology & hepatology\", \"general & internal medicine\", \n    \"oncology & carcinogenesis\", \"oncology & carcinogenesis\", \n    \"public health\", \"pharmacology & pharmacy\", \"microbiology\", \n    \"neurology & neurosurgery\", \"obstetrics & reproductive medicine\", \n    \"biochemistry & molecular biology\", \"neurology & neurosurgery\", \n    \"developmental biology\", \"microbiology\", \"oncology & carcinogenesis\", \n    \"biochemistry & molecular biology\", \"microbiology\", \"immunology\", \n    \"neurology & neurosurgery\", \"oncology & carcinogenesis\", \n    \"psychiatry\", \"urology & nephrology\", \"neurology & neurosurgery\", \n    \"immunology\", \"biochemistry & molecular biology\", \"oncology & carcinogenesis\", \n    \"neurology & neurosurgery\", \"immunology\", \"genetics & heredity\", \n    \"tropical medicine\", \"biochemistry & molecular biology\", \n    \"oncology & carcinogenesis\", \"biochemistry & molecular biology\", \n    \"developmental & child psychology\", \"cardiovascular system & hematology\", \n    \"biochemistry & molecular biology\", \"physiology\", \"developmental biology\", \n    \"neurology & neurosurgery\", \"general & internal medicine\", \n    \"experimental psychology\", \"oncology & carcinogenesis\", \"oncology & carcinogenesis\", \n    \"experimental psychology\", \"virology\", \"tropical medicine\", \n    \"developmental biology\", \"developmental biology\", \"mycology & parasitology\", \n    \"microbiology\", \"microbiology\", \"neurology & neurosurgery\", \n    \"neurology & neurosurgery\", \"oncology & carcinogenesis\", \n    \"obstetrics & reproductive medicine\", \"public health\", \"public health\", \n    \"developmental biology\", \"microbiology\", \"genetics & heredity\", \n    \"gastroenterology & hepatology\", \"virology\", \"respiratory system\", \n    \"neurology & neurosurgery\", \"developmental biology\", \"immunology\", \n    \"microbiology\", \"health policy & services\", \"biochemistry & molecular biology\", \n    \"dermatology & venereal diseases\", \"neurology & neurosurgery\", \n    \"endocrinology & metabolism\", \"toxicology\", \"nutrition & dietetics\", \n    \"microbiology\", \"biochemistry & molecular biology\", \"immunology\", \n    \"oncology & carcinogenesis\", \"environmental & occupational health\", \n    \"nutrition & dietetics\", \"nuclear medicine & medical imaging\", \n    \"psychiatry\", \"psychiatry\", \"endocrinology & metabolism\", \n    \"endocrinology & metabolism\", \"nutrition & dietetics\", \"public health\", \n    \"obstetrics & reproductive medicine\", \"developmental biology\", \n    \"neurology & neurosurgery\", \"biochemistry & molecular biology\", \n    \"oncology & carcinogenesis\", \"nutrition & dietetics\", \"cardiovascular system & hematology\", \n    \"otorhinolaryngology\", \"nutrition & dietetics\", \"pharmacology & pharmacy\", \n    \"neurology & neurosurgery\", \"neurology & neurosurgery\", \"nutrition & dietetics\", \n    \"virology\", \"microbiology\", \"general & internal medicine\", \n    \"pediatrics\", \"developmental biology\", \"neurology & neurosurgery\", \n    \"developmental biology\", \"neurology & neurosurgery\", \"developmental biology\", \n    \"public health\", \"virology\", \"microbiology\", \"microbiology\", \n    \"microbiology\", \"behavioral science & comparative psychology\", \n    \"oncology & carcinogenesis\", \"neurology & neurosurgery\", \n    \"virology\", \"virology\", \"developmental biology\", \"developmental biology\", \n    \"general & internal medicine\", \"dentistry\", \"neurology & neurosurgery\", \n    \"public health\", \"developmental biology\", \"experimental psychology\", \n    \"microbiology\", \"behavioral science & comparative psychology\", \n    \"developmental biology\", \"developmental biology\", \"developmental biology\", \n    \"developmental biology\", \"biochemistry & molecular biology\", \n    \"gerontology\", \"gerontology\", \"surgery\", \"developmental & child psychology\", \n    \"developmental & child psychology\", \"developmental & child psychology\", \n    \"dermatology & venereal diseases\", \"pharmacology & pharmacy\", \n    \"endocrinology & metabolism\", \"dermatology & venereal diseases\", \n    \"genetics & heredity\", \"microbiology\", \"dermatology & venereal diseases\", \n    \"geriatrics\", \"microbiology\", \"endocrinology & metabolism\", \n    \"neurology & neurosurgery\", \"public health\", \"speech-language pathology & audiology\", \n    \"developmental biology\", \"neurology & neurosurgery\", \"developmental biology\", \n    \"developmental biology\", \"developmental biology\", \"obstetrics & reproductive medicine\", \n    \"immunology\", \"microbiology\", \"developmental biology\", \"developmental biology\", \n    \"neurology & neurosurgery\", \"neurology & neurosurgery\", \"immunology\", \n    \"neurology & neurosurgery\", \"neurology & neurosurgery\", \"neurology & neurosurgery\", \n    \"neurology & neurosurgery\", \"neurology & neurosurgery\", \"pharmacology & pharmacy\", \n    \"pharmacology & pharmacy\", \"cardiovascular system & hematology\", \n    \"developmental biology\", \"oncology & carcinogenesis\", \"oncology & carcinogenesis\", \n    \"developmental biology\", \"virology\", \"virology\", \"pharmacology & pharmacy\", \n    \"oncology & carcinogenesis\", \"biochemistry & molecular biology\", \n    \"microbiology\", \"biochemistry & molecular biology\", \"developmental biology\", \n    \"developmental biology\", \"microbiology\", \"biochemistry & molecular biology\", \n    \"developmental biology\", \"developmental biology\", \"developmental biology\", \n    \"developmental biology\", \"developmental biology\", \"developmental biology\", \n    \"nutrition & dietetics\", \"pharmacology & pharmacy\", \"nutrition & dietetics\", \n    \"neurology & neurosurgery\", \"pharmacology & pharmacy\", \"developmental biology\", \n    \"biochemistry & molecular biology\", \"virology\", \"developmental biology\", \n    \"developmental biology\", \"developmental biology\", \"developmental biology\", \n    \"developmental biology\", \"developmental biology\", \"virology\", \n    \"biochemistry & molecular biology\", \"microbiology\", \"microbiology\", \n    \"developmental biology\", \"microbiology\", \"oncology & carcinogenesis\", \n    \"biochemistry & molecular biology\", \"developmental biology\", \n    \"biochemistry & molecular biology\", \"cardiovascular system & hematology\", \n    \"developmental biology\", \"virology\", \"biochemistry & molecular biology\", \n    \"immunology\", \"surgery\", \"arthritis & rheumatology\", \"biochemistry & molecular biology\", \n    \"oncology & carcinogenesis\", \"microbiology\", \"microbiology\", \n    \"respiratory system\", \"pharmacology & pharmacy\", \"microbiology\", \n    \"oncology & carcinogenesis\", \"nutrition & dietetics\", \"general & internal medicine\", \n    \"oncology & carcinogenesis\", \"biochemistry & molecular biology\", \n    \"cardiovascular system & hematology\", \"pharmacology & pharmacy\", \n    \"immunology\", \"emergency & critical care medicine\", \"immunology\", \n    \"obstetrics & reproductive medicine\", \"gastroenterology & hepatology\", \n    \"developmental biology\", \"oncology & carcinogenesis\", \"biochemistry & molecular biology\", \n    \"microbiology\", \"microbiology\", \"tropical medicine\", \"nutrition & dietetics\", \n    \"public health\", \"general & internal medicine\", \"oncology & carcinogenesis\", \n    \"general & internal medicine\", \"neurology & neurosurgery\", \n    \"gastroenterology & hepatology\", \"nuclear medicine & medical imaging\", \n    \"nuclear medicine & medical imaging\", \"physiology\", \"immunology\", \n    \"cardiovascular system & hematology\", \"general & internal medicine\", \n    \"neurology & neurosurgery\", \"psychiatry\", \"psychiatry\", \"public health\", \n    \"general & internal medicine\", \"sport sciences\", \"experimental psychology\", \n    \"public health\", \"social psychology\", \"substance abuse\", \n    \"social psychology\", \"neurology & neurosurgery\", \"psychiatry\", \n    \"microbiology\", \"microbiology\", \"public health\", \"microbiology\", \n    \"nutrition & dietetics\", \"public health\", \"developmental biology\", \n    \"microbiology\", \"toxicology\", \"general & internal medicine\", \n    \"psychiatry\", \"tropical medicine\", \"immunology\", \"neurology & neurosurgery\", \n    \"developmental biology\", \"microbiology\", \"developmental biology\", \n    \"microbiology\", \"neurology & neurosurgery\", \"gastroenterology & hepatology\", \n    \"clinical psychology\", \"public health\", \"oncology & carcinogenesis\", \n    \"endocrinology & metabolism\", \"endocrinology & metabolism\", \n    \"cardiovascular system & hematology\", \"developmental biology\", \n    \"developmental biology\", \"cardiovascular system & hematology\", \n    \"public health\", \"public health\", \"cardiovascular system & hematology\", \n    \"general & internal medicine\", \"social psychology\", \"developmental & child psychology\", \n    \"neurology & neurosurgery\", \"psychiatry\", \"neurology & neurosurgery\", \n    \"neurology & neurosurgery\", \"public health\", \"health policy & services\", \n    \"genetics & heredity\", \"general & internal medicine\", \"health policy & services\", \n    \"health policy & services\", \"health policy & services\", \"health policy & services\", \n    \"health policy & services\", \"pharmacology & pharmacy\", \"health policy & services\", \n    \"health policy & services\", \"gastroenterology & hepatology\", \n    \"gastroenterology & hepatology\", \"general & internal medicine\", \n    \"general & internal medicine\", \"sport sciences\", \"environmental & occupational health\", \n    \"developmental & child psychology\", \"nutrition & dietetics\", \n    \"public health\", \"pediatrics\", \"pharmacology & pharmacy\", \n    \"pediatrics\", \"obstetrics & reproductive medicine\", \"obstetrics & reproductive medicine\", \n    \"health policy & services\", \"virology\", \"gerontology\", \"urology & nephrology\", \n    \"endocrinology & metabolism\", \"endocrinology & metabolism\", \n    \"behavioral science & comparative psychology\", \"genetics & heredity\", \n    \"immunology\", \"virology\", \"microbiology\", \"virology\", \"virology\", \n    \"microbiology\", \"neurology & neurosurgery\", \"neurology & neurosurgery\", \n    \"experimental psychology\", \"neurology & neurosurgery\", \"neurology & neurosurgery\", \n    \"developmental biology\", \"neurology & neurosurgery\", \"nutrition & dietetics\", \n    \"nutrition & dietetics\", \"oncology & carcinogenesis\", \"neurology & neurosurgery\", \n    \"gastroenterology & hepatology\", \"psychiatry\", \"public health\", \n    \"developmental & child psychology\", \"neurology & neurosurgery\", \n    \"social psychology\", \"microbiology\", \"pharmacology & pharmacy\", \n    \"biochemistry & molecular biology\", \"oncology & carcinogenesis\", \n    \"complementary & alternative medicine\", \"biochemistry & molecular biology\", \n    \"oncology & carcinogenesis\", \"neurology & neurosurgery\", \n    \"biochemistry & molecular biology\", \"cardiovascular system & hematology\", \n    \"nuclear medicine & medical imaging\", \"nutrition & dietetics\", \n    \"nutrition & dietetics\", \"microbiology\", \"microbiology\", \n    \"virology\", \"microbiology\", \"virology\", \"developmental biology\", \n    \"immunology\", \"general & internal medicine\", \"public health\", \n    \"substance abuse\", \"endocrinology & metabolism\", \"public health\", \n    \"nutrition & dietetics\", \"developmental biology\"), q = structure(c(3L, \n    3L, 3L, 3L, 3L, 3L, 3L, 3L, 3L, 3L, 3L, 3L, 3L, 3L, 3L, 3L, \n    3L, 3L, 3L, 3L, 3L, 3L, 3L, 3L, 3L, 3L, 3L, 3L, 3L, 3L, 3L, \n    3L, 3L, 3L, 3L, 3L, 3L, 3L, 3L, 3L, 3L, 3L, 3L, 3L, 3L, 3L, \n    3L, 3L, 3L, 3L, 3L, 3L, 3L, 3L, 3L, 3L, 3L, 3L, 3L, 3L, 3L, \n    3L, 3L, 3L, 3L, 3L, 3L, 3L, 3L, 3L, 3L, 3L, 3L, 3L, 3L, 3L, \n    3L, 3L, 3L, 3L, 3L, 3L, 3L, 3L, 3L, 3L, 3L, 3L, 3L, 3L, 3L, \n    3L, 3L, 3L, 3L, 3L, 3L, 3L, 3L, 3L, 3L, 3L, 3L, 3L, 3L, 3L, \n    3L, 3L, 3L, 3L, 3L, 3L, 3L, 3L, 3L, 3L, 3L, 3L, 3L, 3L, 3L, \n    3L, 3L, 3L, 3L, 3L, 3L, 3L, 3L, 3L, 3L, 3L, 3L, 3L, 3L, 3L, \n    3L, 3L, 3L, 3L, 3L, 3L, 3L, 3L, 3L, 3L, 3L, 3L, 3L, 3L, 3L, \n    3L, 3L, 3L, 3L, 3L, 3L, 3L, 3L, 3L, 3L, 3L, 3L, 3L, 3L, 3L, \n    3L, 3L, 3L, 3L, 3L, 3L, 3L, 3L, 3L, 3L, 3L, 3L, 3L, 3L, 3L, \n    3L, 3L, 3L, 3L, 3L, 3L, 3L, 3L, 3L, 3L, 3L, 3L, 3L, 3L, 3L, \n    2L, 3L, 3L, 3L, 3L, 3L, 3L, 3L, 3L, 3L, 3L, 3L, 3L, 3L, 3L, \n    3L, 3L, 3L, 3L, 3L, 3L, 3L, 3L, 3L, 3L, 3L, 3L, 3L, 3L, 3L, \n    3L, 3L, 3L, 3L, 3L, 3L, 3L, 3L, 3L, 3L, 3L, 3L, 3L, 3L, 3L, \n    3L, 3L, 3L, 3L, 3L, 3L, 3L, 3L, 3L, 3L, 3L, 3L, 3L, 3L, 3L, \n    3L, 3L, 3L, 3L, 3L, 3L, 3L, 3L, 3L, 3L, 3L, 3L, 3L, 3L, 2L, \n    3L, 3L, 3L, 3L, 3L, 3L, 3L, 3L, 3L, 3L, 3L, 3L, 3L, 3L, 3L, \n    3L, 3L, 3L, 3L, 3L, 3L, 3L, 3L, 3L, 3L, 2L, 3L, 3L, 3L, 3L, \n    3L, 3L, 3L, 3L, 3L, 3L, 3L, 3L, 3L, 3L, 3L, 3L, 3L, 3L, 3L, \n    3L, 3L, 3L, 3L, 3L, 3L, 3L, 3L, 3L, 3L, 3L, 3L, 3L, 3L, 3L, \n    3L, 1L, 3L, 3L, 3L, 3L, 3L, 3L, 3L, 3L, 3L, 3L, 3L, 3L, 3L, \n    3L, 3L, 3L, 3L, 3L, 3L, 3L, 3L, 3L, 3L, 3L, 3L, 3L, 3L, 3L, \n    3L, 3L, 3L, 3L, 3L, 3L, 3L, 3L, 3L, 3L, 3L, 3L, 3L, 3L, 3L, \n    3L, 3L, 3L, 3L, 3L, 3L, 3L, 3L, 3L, 3L, 3L, 3L, 3L, 3L, 3L, \n    3L, 3L, 3L, 3L, 3L, 3L, 3L, 3L, 3L, 3L, 3L, 3L, 3L, 3L, 3L, \n    3L, 3L, 3L, 3L, 3L, 3L, 3L, 3L, 3L, 3L, 3L, 3L, 3L, 3L, 3L, \n    3L, 3L, 3L, 3L, 3L, 3L, 3L, 3L, 3L, 3L, 3L, 3L, 3L, 3L, 3L, \n    3L, 3L, 3L, 3L, 3L, 3L, 3L, 3L, 3L, 3L, 3L, 3L, 3L, 3L, 3L, \n    3L, 3L, 3L, 3L, 3L, 3L, 3L, 3L, 3L, 3L, 3L, 3L, 3L, 3L, 3L, \n    3L, 3L, 3L, 3L, 3L, 3L, 3L, 3L, 3L, 3L, 3L, 3L, 3L, 3L, 3L, \n    3L, 3L, 3L, 3L, 3L, 3L, 3L, 3L, 3L, 3L, 3L, 3L, 3L, 3L, 3L, \n    3L, 3L, 3L, 3L, 3L, 3L, 3L, 3L, 3L, 3L, 3L, 3L, 3L, 3L, 3L, \n    3L, 3L, 3L, 3L, 3L, 3L, 3L, 3L, 3L, 3L, 3L, 3L, 3L, 3L, 3L, \n    3L, 3L, 3L, 3L, 3L, 3L, 3L, 3L, 3L, 3L, 3L, 3L, 3L, 3L, 3L, \n    3L, 3L, 3L, 3L, 3L, 3L, 3L, 3L, 3L, 3L, 3L, 3L, 3L, 3L, 3L, \n    3L, 3L, 3L, 3L, 3L, 3L, 3L, 3L, 3L, 3L, 3L, 3L, 3L, 3L, 3L, \n    3L, 3L, 3L, 3L, 3L, 3L, 3L, 3L, 3L, 3L, 3L, 3L, 3L, 3L, 3L, \n    3L, 3L, 3L, 3L, 3L, 3L, 3L, 3L, 3L, 3L, 3L, 3L, 3L, 3L, 3L, \n    3L, 3L, 3L, 3L, 3L, 3L, 3L, 3L, 3L, 3L, 3L, 3L, 3L, 3L, 3L, \n    3L, 3L, 3L, 3L, 3L, 3L, 3L, 3L, 3L, 3L, 3L, 3L, 3L, 3L, 3L, \n    3L, 3L, 3L, 3L, 3L, 3L, 3L, 3L, 3L, 3L, 3L, 3L, 3L, 3L, 3L, \n    3L, 3L, 3L, 3L, 3L, 3L, 3L, 3L, 2L, 3L, 3L, 2L, 3L, 3L, 3L, \n    3L, 3L, 3L, 3L, 3L, 3L, 3L, 3L, 2L, 3L, 3L, 3L, 3L, 3L, 3L, \n    3L, 3L, 3L, 3L, 3L, 3L, 3L, 3L, 3L, 3L, 3L, 3L, 3L, 3L, 3L, \n    3L, 3L, 3L, 3L, 3L, 3L, 3L, 3L, 3L, 3L, 3L, 3L, 3L, 3L, 3L, \n    3L, 3L, 3L, 3L, 3L, 3L, 3L, 3L, 3L, 3L, 3L, 3L, 3L, 3L, 3L, \n    3L, 3L, 3L, 2L, 3L, 3L, 3L, 3L, 3L, 3L, 3L, 3L, 3L, 3L, 3L, \n    3L, 3L, 3L, 3L, 3L, 3L, 3L, 3L, 3L, 3L, 3L, 3L, 3L, 3L, 3L, \n    3L, 3L, 3L, 3L, 3L, 3L, 3L, 3L, 3L, 3L, 3L, 3L, 3L, 3L, 3L, \n    3L, 3L, 3L, 3L, 3L, 3L, 3L, 3L, 3L, 3L, 3L, 3L, 3L, 3L, 3L, \n    3L, 3L, 3L, 3L, 3L, 3L, 3L, 3L, 3L, 3L, 3L, 3L, 3L, 3L, 3L, \n    3L, 3L, 3L, 3L, 3L, 3L, 3L, 3L, 3L, 3L, 3L, 3L, 3L, 3L, 3L, \n    3L, 3L, 3L, 3L, 3L, 3L, 3L, 3L, 3L, 3L, 3L, 3L, 3L, 3L, 3L, \n    3L, 3L, 3L, 3L, 3L, 3L, 3L, 3L, 3L, 3L, 3L, 3L, 3L, 3L, 3L, \n    3L, 3L, 3L, 3L, 3L, 3L, 3L, 3L, 3L, 3L, 3L, 3L, 3L, 3L, 3L, \n    3L, 2L, 3L, 3L, 3L, 3L, 3L, 3L, 3L, 3L, 3L, 3L, 3L, 3L, 3L, \n    3L, 3L, 3L, 3L, 3L, 3L, 3L, 3L, 3L, 3L, 3L, 3L, 3L, 3L, 3L, \n    3L, 3L, 3L, 3L, 3L, 3L, 3L, 3L, 3L, 3L, 3L, 3L, 3L, 3L, 3L, \n    3L, 3L, 3L, 3L, 3L, 3L, 3L, 3L, 3L, 3L, 3L, 3L, 3L, 3L, 2L, \n    3L, 3L, 3L, 3L, 3L, 3L, 3L, 3L, 3L, 3L, 3L, 3L, 3L, 2L, 3L, \n    3L, 3L, 3L, 3L, 3L, 3L, 3L, 3L, 3L, 3L, 3L, 3L, 3L, 3L, 3L, \n    3L, 3L, 3L, 3L, 3L, 3L, 3L, 3L, 3L, 3L, 2L, 3L, 3L, 3L, 3L, \n    2L, 3L, 3L, 3L, 3L, 3L, 3L, 3L, 3L, 3L, 3L, 3L, 3L, 3L, 2L, \n    3L, 3L, 3L, 2L, 2L, 2L, 3L, 3L), .Label = c(\"1\", \"2\", \"3\"\n    ), class = \"factor\")), class = \"data.frame\", row.names = c(\"0\", \n\"1\", \"2\", \"3\", \"4\", \"5\", \"6\", \"7\", \"8\", \"9\", \"10\", \"12\", \"13\", \n\"14\", \"15\", \"16\", \"17\", \"18\", \"19\", \"21\", \"22\", \"23\", \"24\", \"25\", \n\"26\", \"27\", \"28\", \"30\", \"31\", \"32\", \"33\", \"34\", \"35\", \"36\", \"37\", \n\"38\", \"39\", \"40\", \"41\", \"42\", \"43\", \"44\", \"45\", \"46\", \"47\", \"48\", \n\"49\", \"50\", \"51\", \"52\", \"53\", \"54\", \"55\", \"56\", \"57\", \"58\", \"59\", \n\"60\", \"85\", \"112\", \"124\", \"130\", \"138\", \"141\", \"151\", \"166\", \n\"198\", \"202\", \"208\", \"254\", \"272\", \"273\", \"277\", \"285\", \"301\", \n\"338\", \"355\", \"356\", \"358\", \"359\", \"360\", \"361\", \"365\", \"366\", \n\"371\", \"372\", \"377\", \"383\", \"389\", \"397\", \"398\", \"404\", \"416\", \n\"417\", \"422\", \"435\", \"440\", \"450\", \"452\", \"453\", \"454\", \"455\", \n\"456\", \"457\", \"458\", \"461\", \"462\", \"464\", \"472\", \"475\", \"476\", \n\"513\", \"514\", \"515\", \"517\", \"518\", \"520\", \"521\", \"522\", \"523\", \n\"525\", \"526\", \"527\", \"528\", \"529\", \"530\", \"531\", \"549\", \"550\", \n\"556\", \"565\", \"566\", \"570\", \"572\", \"574\", \"575\", \"576\", \"577\", \n\"591\", \"592\", \"593\", \"594\", \"596\", \"598\", \"599\", \"601\", \"602\", \n\"605\", \"606\", \"607\", \"608\", \"610\", \"612\", \"613\", \"614\", \"617\", \n\"618\", \"619\", \"620\", \"622\", \"625\", \"627\", \"628\", \"629\", \"631\", \n\"632\", \"633\", \"634\", \"635\", \"636\", \"637\", \"638\", \"639\", \"640\", \n\"641\", \"642\", \"643\", \"644\", \"645\", \"646\", \"647\", \"648\", \"649\", \n\"650\", \"651\", \"652\", \"653\", \"654\", \"655\", \"658\", \"671\", \"689\", \n\"690\", \"691\", \"692\", \"699\", \"700\", \"701\", \"702\", \"703\", \"704\", \n\"705\", \"706\", \"719\", \"720\", \"721\", \"725\", \"727\", \"728\", \"733\", \n\"736\", \"737\", \"738\", \"739\", \"740\", \"741\", \"742\", \"744\", \"745\", \n\"789\", \"790\", \"792\", \"794\", \"795\", \"810\", \"811\", \"832\", \"847\", \n\"848\", \"852\", \"856\", \"866\", \"867\", \"868\", \"869\", \"870\", \"871\", \n\"874\", \"886\", \"887\", \"888\", \"889\", \"890\", \"891\", \"892\", \"893\", \n\"894\", \"895\", \"896\", \"899\", \"900\", \"901\", \"902\", \"906\", \"907\", \n\"909\", \"917\", \"918\", \"929\", \"932\", \"933\", \"946\", \"952\", \"957\", \n\"1035\", \"1039\", \"1044\", \"1045\", \"1046\", \"1047\", \"1048\", \"1053\", \n\"1088\", \"1094\", \"1112\", \"1122\", \"1123\", \"1124\", \"1126\", \"1127\", \n\"1128\", \"1129\", \"1130\", \"1131\", \"1132\", \"1134\", \"1135\", \"1136\", \n\"1142\", \"1149\", \"1150\", \"1195\", \"1203\", \"1204\", \"1205\", \"1207\", \n\"1210\", \"1216\", \"1217\", \"1218\", \"1223\", \"1226\", \"1227\", \"1237\", \n\"1249\", \"1252\", \"1253\", \"1254\", \"1255\", \"1257\", \"1259\", \"1261\", \n\"1285\", \"1344\", \"1359\", \"1361\", \"1382\", \"1386\", \"1408\", \"1446\", \n\"1483\", \"1493\", \"1513\", \"1514\", \"1524\", \"1562\", \"1570\", \"1572\", \n\"1580\", \"1604\", \"1622\", \"1624\", \"1649\", \"1650\", \"1651\", \"1653\", \n\"1654\", \"1655\", \"1657\", \"1658\", \"1662\", \"1663\", \"1664\", \"1666\", \n\"1667\", \"1669\", \"1670\", \"1672\", \"1673\", \"1678\", \"1679\", \"1680\", \n\"1684\", \"1696\", \"1697\", \"1698\", \"1699\", \"1700\", \"1701\", \"1705\", \n\"1706\", \"1707\", \"1708\", \"1709\", \"1713\", \"1714\", \"1725\", \"1727\", \n\"1730\", \"1733\", \"1736\", \"1741\", \"1743\", \"1745\", \"1746\", \"1747\", \n\"1761\", \"1771\", \"1776\", \"1793\", \"1795\", \"1799\", \"1805\", \"1813\", \n\"1815\", \"1818\", \"1827\", \"1828\", \"1831\", \"1833\", \"1845\", \"1851\", \n\"1855\", \"1856\", \"1860\", \"1871\", \"1876\", \"1878\", \"1889\", \"1890\", \n\"1894\", \"1896\", \"1899\", \"1901\", \"1906\", \"1912\", \"1914\", \"1922\", \n\"1924\", \"1928\", \"1932\", \"1936\", \"1939\", \"1947\", \"1950\", \"1952\", \n\"1955\", \"1957\", \"1964\", \"1976\", \"1977\", \"1984\", \"1986\", \"1992\", \n\"1993\", \"2008\", \"2012\", \"2018\", \"2023\", \"2024\", \"2026\", \"2028\", \n\"2029\", \"2032\", \"2034\", \"2035\", \"2039\", \"2040\", \"2042\", \"2044\", \n\"2047\", \"2050\", \"2051\", \"2053\", \"2054\", \"2066\", \"2083\", \"2085\", \n\"2086\", \"2090\", \"2091\", \"2092\", \"2093\", \"2095\", \"2135\", \"2187\", \n\"2188\", \"2192\", \"2205\", \"2222\", \"2241\", \"2252\", \"2256\", \"2257\", \n\"2258\", \"2259\", \"2281\", \"2282\", \"2316\", \"2317\", \"2322\", \"2338\", \n\"2346\", \"2366\", \"2367\", \"2372\", \"2375\", \"2377\", \"2385\", \"2388\", \n\"2394\", \"2411\", \"2413\", \"2414\", \"2417\", \"2418\", \"2421\", \"2424\", \n\"2428\", \"2433\", \"2439\", \"2440\", \"2442\", \"2445\", \"2449\", \"2452\", \n\"2454\", \"2456\", \"2457\", \"2458\", \"2461\", \"2464\", \"2465\", \"2467\", \n\"2469\", \"2470\", \"2471\", \"2474\", \"2479\", \"2480\", \"2481\", \"2482\", \n\"2484\", \"2486\", \"2489\", \"2490\", \"2492\", \"2493\", \"2496\", \"2497\", \n\"2499\", \"2501\", \"2503\", \"2504\", \"2506\", \"2507\", \"2508\", \"2509\", \n\"2510\", \"2512\", \"2513\", \"2514\", \"2515\", \"2516\", \"2517\", \"2518\", \n\"2519\", \"2520\", \"2522\", \"2523\", \"2530\", \"2532\", \"2533\", \"2534\", \n\"2535\", \"2536\", \"2540\", \"2541\", \"2544\", \"2547\", \"2550\", \"2551\", \n\"2552\", \"2555\", \"2565\", \"2568\", \"2570\", \"2577\", \"2589\", \"2598\", \n\"2599\", \"2604\", \"2605\", \"2606\", \"2607\", \"2613\", \"2622\", \"2624\", \n\"2627\", \"2629\", \"2631\", \"2633\", \"2635\", \"2637\", \"2638\", \"2639\", \n\"2640\", \"2642\", \"2721\", \"2728\", \"2760\", \"2807\", \"2810\", \"2811\", \n\"2813\", \"2814\", \"2815\", \"2831\", \"2843\", \"2858\", \"2868\", \"2875\", \n\"2876\", \"2880\", \"2882\", \"2883\", \"2888\", \"2892\", \"2894\", \"2898\", \n\"2902\", \"2903\", \"2909\", \"2917\", \"2919\", \"2926\", \"2932\", \"2933\", \n\"2934\", \"2935\", \"2937\", \"2943\", \"2950\", \"2953\", \"2963\", \"2967\", \n\"2970\", \"2971\", \"2975\", \"2985\", \"2989\", \"2996\", \"2998\", \"3004\", \n\"3010\", \"3012\", \"3018\", \"3028\", \"3029\", \"3030\", \"3043\", \"3044\", \n\"3046\", \"3048\", \"3049\", \"3055\", \"3060\", \"3067\", \"3072\", \"3075\", \n\"3080\", \"3082\", \"3087\", \"3089\", \"3092\", \"3101\", \"3102\", \"3104\", \n\"3105\", \"3106\", \"3107\", \"3114\", \"3116\", \"3143\", \"3145\", \"3161\", \n\"3167\", \"3169\", \"3170\", \"3173\", \"3174\", \"3175\", \"3211\", \"3217\", \n\"3243\", \"3246\", \"3247\", \"3248\", \"3249\", \"3251\", \"3252\", \"3253\", \n\"3257\", \"3258\", \"3260\", \"3261\", \"3266\", \"3271\", \"3272\", \"3273\", \n\"3275\", \"3280\", \"3281\", \"3282\", \"3284\", \"3285\", \"3286\", \"3287\", \n\"3291\", \"3293\", \"3296\", \"3298\", \"3299\", \"3304\", \"3305\", \"3306\", \n\"3307\", \"3308\", \"3321\", \"3325\", \"3326\", \"3330\", \"3332\", \"3336\", \n\"3338\", \"3342\", \"3343\", \"3346\", \"3349\", \"3360\", \"3365\", \"3375\", \n\"3381\", \"3388\", \"3390\", \"3391\", \"3392\", \"3418\", \"3419\", \"3420\", \n\"3424\", \"3426\", \"3427\", \"3428\", \"3434\", \"3439\", \"3441\", \"3442\", \n\"3446\", \"3494\", \"3495\", \"3497\", \"3510\", \"3515\", \"3516\", \"3521\", \n\"3539\", \"3560\", \"3562\", \"3572\", \"3573\", \"3590\", \"3592\", \"3595\", \n\"3612\", \"3613\", \"3616\", \"3627\", \"3629\", \"3636\", \"3639\", \"3640\", \n\"3642\", \"3645\", \"3648\", \"3652\", \"3655\", \"3661\", \"3681\", \"3683\", \n\"3687\", \"3688\", \"3696\", \"3705\", \"3710\", \"3712\", \"3719\", \"3723\", \n\"3724\", \"3725\", \"3733\", \"3734\", \"3736\", \"3737\", \"3738\", \"3739\", \n\"3743\", \"3745\", \"3754\", \"3761\", \"3762\", \"3765\", \"3769\", \"3774\", \n\"3775\", \"3776\", \"3778\", \"3790\", \"3792\", \"3795\", \"3799\", \"3801\", \n\"3802\", \"3804\", \"3806\", \"3820\", \"3822\", \"3829\", \"3830\", \"3832\", \n\"3836\", \"3839\", \"3858\", \"3866\", \"3868\", \"3882\", \"3884\", \"3888\", \n\"3889\", \"3906\", \"3907\", \"3908\", \"3909\", \"3911\", \"3912\", \"3914\", \n\"3915\", \"3916\", \"3917\", \"3918\", \"3919\", \"3920\", \"3921\", \"3922\", \n\"3925\", \"3926\", \"3927\", \"3928\", \"3929\", \"3930\", \"3931\", \"3932\", \n\"3935\", \"3936\", \"3938\", \"3939\", \"3940\", \"3941\", \"3943\", \"3944\", \n\"3945\", \"3946\", \"3954\", \"3955\", \"3959\", \"3961\", \"3962\", \"3963\", \n\"3964\", \"3965\", \"3966\", \"3968\", \"3973\", \"3976\", \"3978\", \"3979\", \n\"3980\", \"3990\", \"3992\", \"3997\", \"3998\", \"4003\", \"4004\", \"4005\", \n\"4006\", \"4007\", \"4008\", \"4009\", \"4010\", \"4014\", \"4016\", \"4017\", \n\"4019\", \"4022\", \"4023\", \"4024\", \"4026\", \"4028\", \"4029\", \"4031\", \n\"4033\", \"4034\", \"4036\", \"4038\", \"4039\", \"4040\", \"4041\", \"4042\", \n\"4043\", \"4050\", \"4058\", \"4059\", \"4061\", \"4063\", \"4072\", \"4079\", \n\"4091\", \"4110\", \"4114\", \"4115\", \"4122\", \"4125\", \"4126\", \"4127\", \n\"4128\", \"4129\", \"4130\", \"4131\", \"4132\", \"4133\", \"4134\", \"4135\", \n\"4136\", \"4137\", \"4138\", \"4139\", \"4141\", \"4143\", \"4151\", \"4152\", \n\"4153\", \"4154\", \"4155\", \"4156\", \"4157\", \"4158\", \"4159\", \"4163\", \n\"4164\", \"4187\", \"4189\", \"4190\", \"4227\", \"4228\", \"4229\", \"4231\", \n\"4238\", \"4248\", \"4249\", \"4251\", \"4252\", \"4253\", \"4254\", \"4255\", \n\"4256\", \"4257\", \"4259\", \"4260\", \"4261\", \"4262\", \"4263\", \"4264\", \n\"4271\", \"4272\", \"4284\", \"4291\", \"4315\", \"4317\", \"4321\", \"4325\", \n\"4326\", \"4329\", \"4345\", \"4349\", \"4352\", \"4355\", \"4356\", \"4358\", \n\"4364\", \"4365\", \"4366\", \"4368\", \"4391\", \"4393\", \"4394\", \"4399\", \n\"4405\", \"4407\", \"4410\", \"4411\", \"4412\", \"4413\", \"4415\", \"4421\"\n)))\n\nDeviance Residuals: \n      Min         1Q     Median         3Q        Max  \n-0.059201  -0.022300  -0.007937   0.015530   0.165019  \n\nCoefficients:\n                                               Estimate Std. Error t value\n(Intercept)                                   0.0166233  0.0327296   0.508\ngendermale                                   -0.0074305  0.0023254  -3.195\nyear2019                                      0.0031116  0.0030418   1.023\nyear2020                                     -0.0025258  0.0030256  -0.835\nyear2021                                      0.0006502  0.0035911   0.181\nyear2022                                     -0.0016948  0.0033494  -0.506\nField_EnglishClinical Medicine                0.0137724  0.0022195   6.205\nField_EnglishPsychology & Cognitive Sciences  0.0048757  0.0053048   0.919\nField_EnglishPublic Health & Health Services  0.0046951  0.0042433   1.106\nq2                                            0.0221462  0.0334968   0.661\nq3                                            0.0256940  0.0325132   0.790\n                                             Pr(>|t|)    \n(Intercept)                                   0.61164    \ngendermale                                    0.00144 ** \nyear2019                                      0.30658    \nyear2020                                      0.40403    \nyear2021                                      0.85637    \nyear2022                                      0.61298    \nField_EnglishClinical Medicine               8.07e-10 ***\nField_EnglishPsychology & Cognitive Sciences  0.35827    \nField_EnglishPublic Health & Health Services  0.26880    \nq2                                            0.50868    \nq3                                            0.42957    \n---\nSignif. codes:  0 ‘***’ 0.001 ‘**’ 0.01 ‘*’ 0.05 ‘.’ 0.1 ‘ ’ 1\n\n(Dispersion parameter for gaussian family taken to be 0.001050945)\n\n    Null deviance: 1.0804  on 983  degrees of freedom\nResidual deviance: 1.0226  on 973  degrees of freedom\nAIC: -3942.9\n\nNumber of Fisher Scoring iterations: 2\n\n\n"
     ]
    }
   ],
   "source": [
    "tmp = pd.DataFrame()\n",
    "tmp['negative'] = dummy['negative']\n",
    "tmp['gender'] = dummy['gender']\n",
    "tmp['year'] = dummy['year']\n",
    "tmp['Domain_English'] = dummy['Domain_English']\n",
    "tmp['Field_English'] = dummy['Field_English']\n",
    "tmp['SubField_English'] = dummy['SubField_English']\n",
    "tmp['q'] = dummy['q']\n",
    "\n",
    "#overall - gmale = -ve, insig\n",
    "#tmp = tmp[tmp['Domain_English'] == 'Applied Sciences'] #insig\n",
    "#tmp = tmp[tmp['Domain_English'] == 'Arts & Humanities'] #insig\n",
    "#tmp = tmp[tmp['Domain_English'] == 'Economic & Social Sciences'] #insig\n",
    "tmp = tmp[tmp['Domain_English'] == 'Health Sciences'] #gmale = -0.0074305, **\n",
    "#tmp = tmp[tmp['Domain_English'] == 'Natural Sciences'] #insig\n",
    "\n",
    "\n",
    "\n",
    "\n",
    "with localconverter(ro.default_converter + pandas2ri.converter):\n",
    "  tst_df = ro.conversion.py2rpy(tmp)\n",
    "\n",
    "col_2_index = list(tst_df.colnames).index('year')\n",
    "col_2 = ro.vectors.FactorVector(tst_df.rx2('year'))\n",
    "tst_df[col_2_index] = col_2\n",
    "\n",
    "col_2_index = list(tst_df.colnames).index('q')\n",
    "col_2 = ro.vectors.FactorVector(tst_df.rx2('q'))\n",
    "tst_df[col_2_index] = col_2\n",
    "\n",
    "\n",
    "'''col_2_index = list(tst_df.colnames).index('Domain_English')\n",
    "col_2 = ro.vectors.FactorVector(tst_df.rx2('Domain_English'))\n",
    "tst_df[col_2_index] = col_2'''\n",
    "\n",
    "col_2_index = list(tst_df.colnames).index('Field_English')\n",
    "col_2 = ro.vectors.FactorVector(tst_df.rx2('Field_English'))\n",
    "tst_df[col_2_index] = col_2\n",
    "\n",
    "\n",
    "\n",
    "#print(tst_df)\n",
    "#pandas2ri.activate()\n",
    "model = stats.glm(\"negative ~ gender+year+Field_English+q\",\n",
    "                  data=tst_df,family=ro.r('gaussian')) #family=ro.r('gaussian(link=\"identity\")') #family=ro.r('poisson(link=\"log\")')\n",
    "print(base.summary(model))"
   ]
  },
  {
   "cell_type": "code",
   "execution_count": 0,
   "metadata": {
    "application/vnd.databricks.v1+cell": {
     "cellMetadata": {},
     "inputWidgets": {},
     "nuid": "8c2a65ad-0ce6-4297-bf32-4c1d63cc8070",
     "showTitle": false,
     "title": ""
    }
   },
   "outputs": [],
   "source": [
    "#https://quantifyinghealth.com/interpret-linear-regression-coefficients/"
   ]
  },
  {
   "cell_type": "code",
   "execution_count": 0,
   "metadata": {
    "application/vnd.databricks.v1+cell": {
     "cellMetadata": {
      "byteLimit": 2048000,
      "rowLimit": 10000
     },
     "inputWidgets": {},
     "nuid": "2687060a-4672-4cfc-99cd-e33d2abd4b66",
     "showTitle": false,
     "title": ""
    }
   },
   "outputs": [
    {
     "output_type": "stream",
     "name": "stdout",
     "output_type": "stream",
     "text": [
      "Out[93]: <AxesSubplot:>"
     ]
    },
    {
     "output_type": "display_data",
     "data": {
      "image/png": "[encoded data removed]"
     },
     "metadata": {
      "application/vnd.databricks.v1+output": {
       "addedWidgets": {},
       "arguments": {},
       "data": "data:image/png;base64,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\n",
       "datasetInfos": [],
       "metadata": {},
       "removedWidgets": [],
       "type": "image"
      }
     },
     "output_type": "display_data"
    }
   ],
   "source": [
    "merged_neg['negative'].hist()"
   ]
  },
  {
   "cell_type": "code",
   "execution_count": 0,
   "metadata": {
    "application/vnd.databricks.v1+cell": {
     "cellMetadata": {
      "byteLimit": 2048000,
      "rowLimit": 10000
     },
     "inputWidgets": {},
     "nuid": "2344c482-7bff-4159-8a6c-a610916dae7f",
     "showTitle": false,
     "title": ""
    }
   },
   "outputs": [
    {
     "output_type": "stream",
     "name": "stdout",
     "output_type": "stream",
     "text": [
      "Out[102]: 127"
     ]
    }
   ],
   "source": [
    "len(merged_neg[merged_neg['negative'] <= 0.00001])"
   ]
  },
  {
   "cell_type": "code",
   "execution_count": 0,
   "metadata": {
    "application/vnd.databricks.v1+cell": {
     "cellMetadata": {
      "byteLimit": 2048000,
      "rowLimit": 10000
     },
     "inputWidgets": {},
     "nuid": "450618b9-884a-4ca6-a2d7-5ccdfd373945",
     "showTitle": false,
     "title": ""
    }
   },
   "outputs": [
    {
     "output_type": "stream",
     "name": "stdout",
     "output_type": "stream",
     "text": [
      "0.0\n4422\n"
     ]
    }
   ],
   "source": [
    "merged_neg = dfneg.merge(us, on = 'doi', how = 'inner')\n",
    "print(dfneg['negative'].min())\n",
    "\n",
    "dummy = merged_neg.copy()\n",
    "dummy = dummy.dropna(subset = ['cor_gender'])\n",
    "print(len(dummy))\n",
    "gender = []\n",
    "for ind in dummy.index:\n",
    "    if dummy['cor_gender'][ind] == \"female\" or dummy['cor_gender'][ind] == \"f\" or dummy['cor_gender'][ind] == \"F\":\n",
    "        gender.append(\"female\")\n",
    "    else: ##there is no null value in gender, so it is safe to say that if someone is not female, he must be male\n",
    "        gender.append(\"male\")\n",
    "dummy['gender'] = gender\n",
    "\n",
    "q = []\n",
    "q1,q2,q3 = 0.123,0.25,0.593\n",
    "for ind in dummy.index:\n",
    "  if dummy['SJR'][ind] <= q1:\n",
    "    q.append(0)\n",
    "  elif dummy['SJR'][ind] > q1 and dummy['SJR'][ind] <= q2:\n",
    "    q.append(1)\n",
    "  elif dummy['SJR'][ind] > q2 and dummy['SJR'][ind] <= q3:\n",
    "    q.append(2)\n",
    "  else:\n",
    "    q.append(3)\n",
    "dummy['q'] = q\n"
   ]
  },
  {
   "cell_type": "code",
   "execution_count": 0,
   "metadata": {
    "application/vnd.databricks.v1+cell": {
     "cellMetadata": {
      "byteLimit": 2048000,
      "rowLimit": 10000
     },
     "inputWidgets": {},
     "nuid": "1257e94d-f227-4fcb-8251-9e6e8388a0d4",
     "showTitle": false,
     "title": ""
    }
   },
   "outputs": [
    {
     "output_type": "stream",
     "name": "stdout",
     "output_type": "stream",
     "text": [
      "\nCall:\n(function (formula, family = gaussian, data, weights, subset, \n    na.action, start = NULL, etastart, mustart, offset, control = list(...), \n    model = TRUE, method = \"glm.fit\", x = FALSE, y = TRUE, singular.ok = TRUE, \n    contrasts = NULL, ...) \n{\n    cal <- match.call()\n    if (is.character(family)) \n        family <- get(family, mode = \"function\", envir = parent.frame())\n    if (is.function(family)) \n        family <- family()\n    if (is.null(family$family)) {\n        print(family)\n        stop(\"'family' not recognized\")\n    }\n    if (missing(data)) \n        data <- environment(formula)\n    mf <- match.call(expand.dots = FALSE)\n    m <- match(c(\"formula\", \"data\", \"subset\", \"weights\", \"na.action\", \n        \"etastart\", \"mustart\", \"offset\"), names(mf), 0L)\n    mf <- mf[c(1L, m)]\n    mf$drop.unused.levels <- TRUE\n    mf[[1L]] <- quote(stats::model.frame)\n    mf <- eval(mf, parent.frame())\n    if (identical(method, \"model.frame\")) \n        return(mf)\n    if (!is.character(method) && !is.function(method)) \n        stop(\"invalid 'method' argument\")\n    if (identical(method, \"glm.fit\")) \n        control <- do.call(\"glm.control\", control)\n    mt <- attr(mf, \"terms\")\n    Y <- model.response(mf, \"any\")\n    if (length(dim(Y)) == 1L) {\n        nm <- rownames(Y)\n        dim(Y) <- NULL\n        if (!is.null(nm)) \n            names(Y) <- nm\n    }\n    X <- if (!is.empty.model(mt)) \n        model.matrix(mt, mf, contrasts)\n    else matrix(, NROW(Y), 0L)\n    weights <- as.vector(model.weights(mf))\n    if (!is.null(weights) && !is.numeric(weights)) \n        stop(\"'weights' must be a numeric vector\")\n    if (!is.null(weights) && any(weights < 0)) \n        stop(\"negative weights not allowed\")\n    offset <- as.vector(model.offset(mf))\n    if (!is.null(offset)) {\n        if (length(offset) != NROW(Y)) \n            stop(gettextf(\"number of offsets is %d should equal %d (number of observations)\", \n                length(offset), NROW(Y)), domain = NA)\n    }\n    mustart <- model.extract(mf, \"mustart\")\n    etastart <- model.extract(mf, \"etastart\")\n    fit <- eval(call(if (is.function(method)) \"method\" else method, \n        x = X, y = Y, weights = weights, start = start, etastart = etastart, \n        mustart = mustart, offset = offset, family = family, \n        control = control, intercept = attr(mt, \"intercept\") > \n            0L, singular.ok = singular.ok))\n    if (length(offset) && attr(mt, \"intercept\") > 0L) {\n        fit2 <- eval(call(if (is.function(method)) \"method\" else method, \n            x = X[, \"(Intercept)\", drop = FALSE], y = Y, mustart = fit$fitted.values, \n            weights = weights, offset = offset, family = family, \n            control = control, intercept = TRUE))\n        if (!fit2$converged) \n            warning(\"fitting to calculate the null deviance did not converge -- increase 'maxit'?\")\n        fit$null.deviance <- fit2$deviance\n    }\n    if (model) \n        fit$model <- mf\n    fit$na.action <- attr(mf, \"na.action\")\n    if (x) \n        fit$x <- X\n    if (!y) \n        fit$y <- NULL\n    structure(c(fit, list(call = cal, formula = formula, terms = mt, \n        data = data, offset = offset, control = control, method = method, \n        contrasts = attr(X, \"contrasts\"), xlevels = .getXlevels(mt, \n            mf))), class = c(fit$class, c(\"glm\", \"lm\")))\n})(formula = \"negative ~ gender+year+Field_English+q\", family = structure(list(\n    family = \"Gamma\", link = \"log\", linkfun = function (mu) \n    log(mu), linkinv = function (eta) \n    pmax(exp(eta), .Machine$double.eps), variance = function (mu) \n    mu^2, dev.resids = function (y, mu, wt) \n    -2 * wt * (log(ifelse(y == 0, 1, y/mu)) - (y - mu)/mu), aic = function (y, \n        n, mu, wt, dev) \n    {\n        n <- sum(wt)\n        disp <- dev/n\n        -2 * sum(dgamma(y, 1/disp, scale = mu * disp, log = TRUE) * \n            wt) + 2\n    }, mu.eta = function (eta) \n    pmax(exp(eta), .Machine$double.eps), initialize = expression(\n        {\n            if (any(y <= 0)) \n                stop(\"non-positive values not allowed for the 'Gamma' family\")\n            n <- rep.int(1, nobs)\n            mustart <- y\n        }), validmu = function (mu) \n    all(is.finite(mu)) && all(mu > 0), valideta = function (eta) \n    TRUE, simulate = function (object, nsim) \n    {\n        wts <- object$prior.weights\n        if (any(wts != 1)) \n            message(\"using weights as shape parameters\")\n        ftd <- fitted(object)\n        shape <- MASS::gamma.shape(object)$alpha * wts\n        rgamma(nsim * length(ftd), shape = shape, rate = shape/ftd)\n    }), class = \"family\"), data = structure(list(negative = c(0.037125, \n0.00807142857142857, 0.0472265851260831, 0.0314093983311374, \n0.0279402674897119, 0.059430573436946, 0.0144, 0.02755, 0.0410057229907773, \n0.0437837059620596, 0.0299135497923519, 0.0813911858974359, 0.0289768258835272, \n0.0619545454545454, 0.0630321637426901, 0.02255, 0.0232857142857142, \n0.0719, 0.0413333333333333, 0.028576923076923, 0.0307037037037037, \n0.0388710737628384, 0.0386153846153846, 0.0280714285714285, 0.0105833333333333, \n0.101903743315508, 0.0310802721088435, 0.0156666666666666, 0.087043956043956, \n0.0339259259259259, 0.013295424403183, 0.0877647058823529, 0.009125, \n0.0532941176470588, 0.0072666666666666, 0.170666666666667, 0.115705882352941, \n0.0149285714285714, 0.0413573407620873, 0.017206117053678, 0.0160963937621832, \n0.0159285714285714, 0.0354285714285714, 0.0287740740740741, 0.0769927884615385, \n0.0152222222222222, 0.033, 0.043078431372549, 0.104723232323232, \n0.0878749837662337, 0.116833333333333, 0.179416666666667, 0.108, \n0.0454309941520467, 0.0777142857142857, 0.0179375, 0.0033235294117647, \n0.1492, 0.037, 0.0713785714285714, 0.029695652173913, 0.100277438610772, \n0.0796363636363636, 0.05345, 0.100363636363636, 0.0197944147355911, \n0.0708277777777777, 0.0209343434343434, 0.0713, 0.0605375, 0.0308888888888888, \n0.0253166666666666, 0.0301319340329835, 0.172538461538462, 0.0752105263157894, \n0.0965454545454545, 0.046, 0.157214285714286, 0.0551428571428571, \n0.104507114245907, 0.0942592592592592, 0.0407777609453113, 0.0150999999999999, \n0.0012222222222222, 0.0944999999999999, 0.0580328947368421, 0.2069, \n0.0256774193548387, 0.1228, 0.016576923076923, 0.0985, 0.0201621621621621, \n0.17628869047619, 0.0121458333333333, 0.0167978007030931, 0.0428888888888889, \n0.07, 0.0248666666666666, 0.0498666666666666, 0.0248402777777778, \n0.0158474903474903, 0.0601428571428571, 0.0346782296650718, 0.0196675982310486, \n0.0449365957446809, 0.0206127473538886, 0.0692195121951219, 0.0218333333333333, \n0.0390945945945945, 0.0256315789473684, 0.195333333333333, 0.03732, \n0.0231666666666666, 1e-05, 0.0451739130434782, 0.0255772727272727, \n0.05245, 0.0370784126984127, 0.0589335839598997, 0.0706967532467532, \n0.151052631578947, 0.123157894736842, 0.0206111111111111, 1e-05, \n0.11475, 0.0298888888888888, 1e-05, 0.0434070929070929, 0.0107142857142857, \n0.0416111111111111, 0.0429693675889328, 0.0449297385620915, 0.0216587301587301, \n0.0643819444444444, 0.0648888888888888, 0.05875, 0.0792307692307692, \n0.0116086956521739, 0.0301739130434782, 0.0882857142857142, 0.0551454663693794, \n0.0664237762237762, 0.0882595238095238, 0.0131485806628731, 0.0146925940248998, \n0.0159652111777111, 0.0103333333333333, 0.0763571428571428, 0.0472996963036491, \n0.0100364490493167, 0.0422631578947368, 0.0553333333333333, 0.0131866521668155, \n0.092195294117647, 0.0290886287625418, 0.0203345238095238, 0.0325017543859649, \n0.0225106685633001, 0.030099682389735, 0.00788353288633457, 0.02725, \n0.0708571036638967, 0.0296824428929147, 0.0337608517608517, 0.100577777777778, \n0.0424153598281417, 0.048951923076923, 0.0054090909090909, 0.02225, \n0.068825, 1e-05, 0.0163166666666666, 0.050894387755102, 0.0312904761904761, \n0.062278947368421, 0.0871145161290322, 0.0891538461538461, 0.0240238095238095, \n0.0719629629629629, 0.0100697674418604, 0.0518, 0.0364161490683229, \n0.10809375, 0.0294333333333333, 0.0927325884899414, 0.0659931077694235, \n0.0496005031446541, 0.0279285714285714, 0.0201363636363636, 0.0085806451612903, \n0.019375, 0.15052380952381, 0.0356146901256657, 0.0026931818181818, \n0.0424254510921177, 0.0309166666666666, 0.0408166666666666, 0.0309661790400025, \n0.0490556925759214, 0.0237478991596638, 0.0263873626373626, 0.0700797101449275, \n0.0159383289124668, 0.0607377049180327, 0.0291071428571428, 0.0336666666666666, \n0.0453823529411764, 0.0180333333333333, 0.0142222222222222, 0.0770243647903222, \n0.103515552006742, 0.0194301587301587, 0.0374285714285714, 0.0334444444444444, \n0.0299565217391304, 0.01952, 0.0499047619047619, 0.0352105263157894, \n0.040090266247628, 0.0676136363636363, 0.0522063763197586, 0.125942307692308, \n0.0635066666666667, 0.13726660341556, 0.0393300595238095, 0.0427741935483871, \n0.0399643274853801, 0.0672745689655171, 0.0174736842105263, 0.0745, \n0.0760887096774193, 0.0881052631578947, 0.03078, 0.0202647058823529, \n0.0430416666666666, 0.0989411764705882, 0.0736796296296296, 0.0131801587301587, \n0.133129523809524, 0.00925, 0.043, 0.0510454545454545, 0.0244772727272727, \n0.0223076923076923, 0.0688999999999999, 0.118411764705882, 1e-05, \n0.0312583333333333, 0.02375, 0.0438205128205128, 0.019375, 0.0328498343761501, \n0.0514, 0.0508499999999999, 0.0969230769230769, 0.0121666666666666, \n0.0817142857142857, 0.0136955492424242, 0.107191699604743, 0.0122167182662539, \n0.0118800325978344, 0.0385333333333333, 0.0396666666666666, 0.0511923337283631, \n0.1174, 0.0243601307189542, 0.0343199999999999, 0.0448571428571428, \n0.03275, 0.0340863171355499, 0.0303516483516483, 0.00469191919191915, \n0.0392516835016835, 0.0313510984938974, 0.0217083333333333, 0.0361162790697674, \n0.0860706422852691, 0.0272224025974026, 0.0202770114942529, 0.0477736528822055, \n0.0242857142857142, 0.0148665994623656, 0.0095714285714285, 0.0487808531746031, \n0.0082105263157894, 0.02915, 0.0327368421052631, 0.104556547619048, \n0.023047619047619, 0.0619979166666666, 0.0239420634920635, 0.02836, \n0.0223454545454545, 0.01175, 0.0338947368421052, 0.07214, 0.0753333333333333, \n0.0364285714285714, 0.0525813953488372, 0.0363571428571428, 0.0150022727272727, \n0.0638636363636363, 0.0514565789473684, 0.0347619047619047, 1e-05, \n0.0110137867647058, 0.0326295536821852, 0.216789473684211, 0.0613478260869565, \n0.0147333333333333, 0.0318333333333333, 0.0029230769230769, 0.0192132352941176, \n0.0182836601307189, 0.0553333333333333, 0.0415172413793103, 0.0304321813452248, \n0.0169565217391304, 0.0594642857142857, 0.0096049284578696, 0.0209473684210526, \n0.0336666666666666, 0.0249118688138921, 0.0304419642857142, 0.0482569444444444, \n0.0430463521772345, 0.0636213371813372, 0.0731911764705882, 0.0382892925354913, \n0.0178615384615384, 0.0411282958835708, 0.0062777777777777, 0.026076923076923, \n1e-05, 0.0254666666666666, 0.116354838709677, 0.0198733031674208, \n0.0316298732943469, 0.04398125, 0.0386225537634408, 0.041, 0.0213407738095238, \n0.0328951448388412, 0.0098571428571428, 0.028798245614035, 0.037825, \n0.04325, 0.022704248366013, 0.0238333333333332, 0.022103448275862, \n0.0427405069407286, 0.0350799663299663, 0.0277999999999999, 0.0459310344827586, \n0.0311492788294848, 0.03325, 0.0793333333333333, 0.10375, 0.0826760912698412, \n0.0393037037037037, 0.0207272727272727, 0.0588571428571428, 0.0027407407407407, \n0.0213111111111111, 0.0148866341991342, 0.115491666666667, 0.0214212121212121, \n0.0436521739130434, 0.0279130434782608, 0.0467295713545713, 0.0420384615384615, \n0.0118695652173913, 0.0282516339869281, 0.0458275862068965, 0.0174117647058823, \n0.0381052631578947, 0.0226754545454545, 0.0051111111111111, 0.0510558404558404, \n0.0381353276353276, 0.0471715032679738, 0.0112326754385965, 0.0643548387096774, \n0.0211111111111111, 0.0504840874811463, 0.174928571428571, 0.149388888888889, \n0.0989985754985755, 0.0219310344827586, 0.0442577950310558, 0.0177, \n0.0434657407407407, 0.0270344827586206, 0.0251739130434782, 0.0118235294117647, \n0.02444, 0.0138421052631578, 0.00996057453416148, 0.00628421052631575, \n0.0392957641549595, 0.07975, 0.0565792207792207, 0.0045862068965517, \n0.0644183333333333, 0.0645, 0.0125714285714285, 0.0185238095238095, \n0.0449523809523809, 0.0399749103942652, 0.101875313283208, 0.0706896033840886, \n0.0078149122807017, 0.0844106481481481, 0.0131428571428571, 0.114700918803419, \n0.041146649484536, 0.0411111111111111, 0.024, 0.0217619047619047, \n0.047405598262032, 0.0358888888888889, 0.0159484126984126, 0.0783333333333333, \n0.0222307692307692, 0.0122229166666666, 0.087932735458546, 0.0515865384615385, \n0.0482321428571428, 0.017201009168035, 0.01415625, 0.0403660714285714, \n0.102863636363636, 0.0421319321387091, 0.0217857142857142, 0.0874526353276353, \n0.0596987654320987, 0.030937134502924, 0.0936521739130434, 0.0578461538461538, \n0.0163043478260869, 0.0469545454545454, 0.0337556818181818, 0.0415418109668109, \n0.0125169631395562, 0.0105714285714285, 0.0521616269841269, 0.0254623010943507, \n0.0135998232704115, 0.044125, 0.0438936507936507, 0.135551724137931, \n0.00295757575757567, 0.0335925925925925, 0.0067307692307692, \n0.0455219708352261, 0.027, 0.032758357771261, 0.0237857142857142, \n0.0192258064516129, 0.0363653007846556, 0.0994114087301587, 0.024, \n0.0187058823529411, 1e-05, 0.0308070436507936, 0.0669166666666666, \n0.0280991485738612, 0.0297515473032714, 0.0138149509803921, 0.0129569128787878, \n0.0556444444444444, 0.0046875, 0.0220661375661375, 0.01221875, \n0.0327969192146302, 0.00534172833779973, 0.0712630434782608, \n0.00975, 0.0136961038961039, 0.0735238095238095, 0.0172368421052631, \n0.0454814814814814, 0.012, 0.0202135934241197, 0.044375, 0.0222173913043478, \n0.017576923076923, 0.021031385565273, 0.0095223684210526, 0.023470909090909, \n0.0174166666666666, 0.0347628676470588, 0.0425045327709628, 0.0111758380771663, \n0.0182685290885899, 0.0155555555555555, 0.0126098901098901, 0.0332941176470588, \n0.0213218390804598, 0.0413225806451612, 0.0041923076923076, 0.0729465579710144, \n0.0219916666666666, 0.0250714285714285, 0.0125003968253968, 0.0242380952380952, \n0.0050999999999999, 0.0608333333333333, 0.0776747994652406, 0.0226583333333333, \n0.021, 0.103137917622663, 0.0439473684210526, 0.119489230769231, \n0.12204347826087, 0.0256237928737928, 0.04121875, 0.0938758249158249, \n0.0468053830227743, 0.0125604395604395, 0.0073636363636363, 0.0126041666666666, \n0.00526190476190473, 0.0068181818181818, 0.0362777777777777, \n0.077133629115982, 0.0172094594594594, 0.0878697791991715, 0.0419811320754717, \n0.115139471639472, 0.0487965517241379, 0.0157950621455157, 0.0324879166666666, \n0.0690545259266022, 0.0204603174603174, 0.0913611111111111, 0.0806494586112335, \n0.0221666666666666, 0.0167362431369699, 0.0302096774193548, 0.0037692307692307, \n0.0491666666666666, 0.0461818181818181, 0.0153494318181818, 0.0221956574127626, \n0.0162727272727272, 1e-05, 0.0482916666666666, 0.0683448275862069, \n0.0310384615384615, 0.030947619047619, 1e-05, 0.0551738793103448, \n0.0214967658730158, 0.0305008069828722, 0.0445884292641788, 0.0421666666666666, \n0.0669523809523809, 0.0760318203535594, 0.0161794871794871, 0.0984, \n0.0688333333333333, 0.0263499999999999, 0.0122641422857021, 0.0123333333333333, \n0.0632653061224489, 0.0348, 0.0218790697674418, 0.011650505050505, \n0.00151169336384438, 0.0295755207145795, 0.0393050857843137, \n0.00416096866096863, 0.0266531562482543, 0.0748026086956521, \n0.0053846153846153, 0.0564705882352941, 0.0473148148148148, 0.0791282051282051, \n0.0205714285714285, 0.122542222222222, 0.0144833333333333, 0.0324615384615384, \n0.111762077294686, 0.112085714285714, 0.0343809523809523, 0.0789130434782608, \n0.109718325791855, 0.10084375, 0.0295833333333333, 0.0298576691130454, \n0.012560606060606, 0.0586737012987013, 1e-05, 0.00570451770451763, \n0.0253874643874643, 0.0119629629629629, 0.0087499999999999, 0.11125, \n0.0455384615384615, 0.023076923076923, 0.0581, 0.0331052631578947, \n0.0603055555555555, 0.118555555555555, 0.0553044685990337, 0.0264884199134199, \n0.0358052173913043, 0.0649444444444444, 0.0961221052631578, 0.115711347511776, \n0.0340748461567863, 0.0271904761904761, 0.0253578431372549, 0.137435714285714, \n0.127540540540541, 0.0117693650793651, 0.0180396317578414, 0.0392936507936507, \n0.0386363636363636, 0.0120180518375718, 0.0195185185185185, 0.0407453200483091, \n0.0556371177406473, 0.0493479087943093, 0.0883290598290598, 0.119833333333333, \n0.0368636363636363, 0.0482871478642349, 0.0159805555555555, 0.0214117647058823, \n0.0538145604395604, 0.0664999999999999, 0.0523724256292906, 0.00327272727272725, \n0.0277692307692307, 0.0397842105263157, 0.0637777777777777, 0.0025714285714285, \n0.0494697802197802, 0.0247666666666666, 0.0139867724867725, 0.0148942307692307, \n0.0647363252943453, 0.0320459163504111, 0.0336463424903827, 0.0711774820919821, \n0.0205416666666666, 0.0034784182678919, 0.0426875, 0.0313497474747474, \n0.0661480591458895, 0.0137333333333333, 0.0045, 0.0347067956349206, \n0.0115693019806859, 0.0487303921568627, 0.0715142857142857, 0.0891333333333333, \n0.1512, 0.072625, 0.118, 0.0676977360922581, 1e-05, 0.0225729166666667, \n0.0619496336996337, 0.0728300712759463, 0.0146470588235294, 0.0188695652173913, \n0.0453684210526315, 0.0578832989336085, 0.0546785714285714, 1e-05, \n0.0223333333333333, 0.0251666666666666, 0.023695652173913, 0.0227027027027027, \n0.0496176470588235, 0.0787603987240829, 0.02495, 0.0156993464052287, \n0.0500360054347826, 0.00407373737373733, 0.0267756158873805, \n1e-05, 0.0147292490118577, 0.0318, 0.0440089147286821, 1e-05, \n0.0856575757575757, 0.0434545454545454, 0.0456, 0.028625, 0.039578947368421, \n0.02, 0.0864285714285714, 0.0727272727272727, 0.0516666666666666, \n0.0715138157894736, 0.110860401002506, 0.069375, 0.0296625, 0.0454523809523809, \n0.0135652173913043, 0.014425, 0.0314545454545454, 0.0419180555555556, \n0.0436549242424242, 0.0236666666666666, 0.0436521739130434, 0.0438529411764705, \n0.02032, 0.0513571428571428, 0.0282105263157894, 0.0276666666666666, \n0.0451578947368421, 0.0082666666666666, 0.083, 0.0215, 0.0335333333333333, \n0.037966383532012, 0.04585, 0.0357647058823529, 0.0040344827586206, \n0.0303999999999999, 0.069516129032258, 0.0324285714285714, 0.0354444444444444, \n0.0803333333333333, 0.02715, 0.0634285714285714, 0.076, 0.0897, \n0.076589144078684, 0.0511875, 0.0714583333333333, 0.0133749999999999, \n0.0173684210526315, 0.0421818181818181, 0.0117857142857142, 0.0359230769230769, \n0.036, 0.0556923076923076, 0.0357727272727272, 0.0463191691349585, \n0.0469444444444444, 0.023, 0.0360869565217391, 0.00444536613272307, \n0.0841666666666666, 0.0429947916666666, 0.0237004902110348, 0.0012, \n0.0517633725649351, 0.00653663003662997, 0.0379691176470588, \n0.0137894736842105, 0.00758080016961593, 0.0408333333333333, \n0.122237536656891, 0.0513868577075099, 0.0243231747237985, 0.0217179487179487, \n0.0485138888888888, 0.0395773809523809, 0.0542672175391824, 0.0188262432012432, \n0.0869117647058824, 0.081675, 0.0234285714285714, 0.0279594771241829, \n0.0151687565308255, 0.0282972222222221, 0.0145833333333333, 0.0166459627329192, \n0.0229333333333333, 0.0228333333333333, 0.016718954248366, 0.0467243407374986, \n0.04775, 0.0227032934492989, 0.0280434782608695, 0.00700122749590833, \n0.034451724137931, 0.0366666666666666, 0.0207386853448275, 0.012922619047619, \n0.00995512820512813, 0.00802669632925467, 0.0613571428571428, \n0.048125, 0.0486768790849673, 0.0055714285714285, 0.0289923076923077, \n0.0374545454545454, 0.0610241162601097, 0.0523639418964689, 0.155, \n0.024079107991779, 0.081, 0.0148349751641547, 0.0469189189189188, \n0.0247619047619047, 0.0231145806487602, 0.0169419642857143, 0.0583704775232793, \n0.0255716962947098, 0.0631428571428571, 0.0615945945945945, 0.0688076923076923, \n0.149606060606061, 0.0921578947368421, 0.0408209013209013, 0.0368833333333333, \n0.0547296918767507, 0.042392674427496, 0.0261655359813254, 0.0754952468487395, \n0.0453136274509804, 0.0232222222222222, 0.114692307692308, 0.0593102490421456, \n0.0671153846153846, 0.0261219226913082, 0.065475, 0.03955, 0.0332758680555555, \n0.0046875, 0.0812772727272727, 0.0748333333333333, 0.0650129981661082, \n0.05494604743083, 0.0306962535014005, 0.0487619047619047, 0.0528552631578947, \n0.0796571428571428, 0.0275882352941176, 0.021113567703206, 0.0437440476190476, \n0.06984, 0.0169230769230769, 0.0689565217391304, 0.012010294117647, \n0.025, 0.0199999999999999, 0.070713768115942, 0.105339705882353, \n0.0325185185185185, 0.0350416666666666, 0.0972676091686092, 0.0861931542695655, \n0.0047, 0.0560725284519402, 0.035375, 0.0566666666666666, 0.0865893416927899, \n0.0365263157894736, 0.0550952380952381, 0.0208422307037114, 0.0900714285714285, \n0.0265555555555555, 0.0288124999999999, 0.074762012987013, 0.0121149425287356, \n0.0465573770491803, 0.0409090909090909, 0.070235294117647, 1e-05, \n0.0056666666666666, 0.0321818181818181, 0.03085, 0.0752727272727272, \n0.0488571428571428, 0.0954058302808302, 0.0052647058823529, 0.0523499999999999, \n0.0234090909090909, 0.0516129032258064, 0.0441874811062117, 0.0302976304653935, \n0.0374571428571428, 0.0453141414141414, 0.10049025974026, 0.0715408496732026, \n0.10028, 0.0380071321321321, 0.0151538461538461, 0.038, 0.0403821548821548, \n0.0269545454545454, 0.116, 0.036606282051282, 0.0166681339712918, \n0.0163999999999999, 0.0505715325097045, 0.0818888888888888, 0.0492, \n0.0093426573426573, 0.0152142857142857, 0.0012206896551724, 0.0645, \n0.0478358474800613, 0.0302857142857142, 0.0686339632589632, 0.0523118092252575, \n0.0613019534195849, 0.0433636363636363, 0.0239999999999999, 0.03745, \n0.013625, 0.00487505582137159, 0.022365, 0.06415, 0.027570707070707, \n0.0999456043956043, 0.0951428571428571, 0.033362849002849, 0.0431561403508772, \n0.0787416666666667, 0.0249657857991681, 0.0463770833333333, 0.0401408045977011, \n0.0566437030075188, 0.0471875, 0.0651904761904761, 0.0478133484162896, \n0.0166105072463768, 0.0233255813953488, 0.061, 1e-05, 0.0163423295454544, \n0.0319655172413793, 0.0187261904761904, 0.153499470899471, 0.0879555555555555, \n0.0682165071770334, 0.0192350781845919, 0.0719090909090909, 0.0406284857842858, \n0.0053809523809523, 0.0383181818181818, 0.0312529761904762, 0.0503297923922923, \n0.01348, 0.0283048068788572, 0.0681382850241546, 0.0225666666666667, \n0.0087428571428571, 0.011125, 0.054, 0.0856273148148148, 0.070235294117647, \n0.0160588235294117, 0.0244, 0.0368, 0.0440714285714285, 0.0390319442210696, \n0.1072, 0.0567006033182503, 0.0224444444444444, 0.0952666666666666, \n0.0782499999999999, 0.0118888888888888, 0.0903594771241829, 0.11376, \n0.0270831662489557, 0.0376153846153846, 0.0717953869047619, 0.104129901960784, \n0.0159636363636364, 0.06095, 0.0688, 0.0066111111111111, 1e-05, \n0.0858031849103277, 0.011185606060606, 0.0553571428571428, 0.062475, \n0.0038888888888888, 0.00925531392354918, 0.0469332683073229, \n0.0267628205128205, 0.015125, 0.0554285714285714), gender = c(\"male\", \n\"male\", \"male\", \"male\", \"male\", \"male\", \"female\", \"male\", \"female\", \n\"male\", \"male\", \"male\", \"male\", \"male\", \"male\", \"female\", \"male\", \n\"male\", \"male\", \"female\", \"male\", \"male\", \"male\", \"male\", \"female\", \n\"female\", \"male\", \"male\", \"male\", \"male\", \"male\", \"male\", \"male\", \n\"male\", \"female\", \"male\", \"male\", \"male\", \"male\", \"female\", \"male\", \n\"male\", \"male\", \"female\", \"male\", \"male\", \"male\", \"male\", \"male\", \n\"male\", \"male\", \"female\", \"male\", \"female\", \"male\", \"male\", \"female\", \n\"female\", \"male\", \"male\", \"male\", \"male\", \"male\", \"male\", \"male\", \n\"male\", \"male\", \"male\", \"male\", \"female\", \"male\", \"male\", \"female\", \n\"female\", \"female\", \"male\", \"male\", \"female\", \"male\", \"male\", \n\"male\", \"male\", \"male\", \"female\", \"female\", \"male\", \"female\", \n\"female\", \"male\", \"male\", \"male\", \"male\", \"male\", \"female\", \"female\", \n\"female\", \"female\", \"male\", \"female\", \"male\", \"female\", \"male\", \n\"male\", \"male\", \"male\", \"female\", \"male\", \"female\", \"female\", \n\"male\", \"female\", \"male\", \"female\", \"male\", \"male\", \"male\", \"male\", \n\"female\", \"female\", \"female\", \"female\", \"female\", \"female\", \"male\", \n\"male\", \"female\", \"female\", \"male\", \"female\", \"male\", \"male\", \n\"male\", \"male\", \"male\", \"female\", \"female\", \"male\", \"male\", \"male\", \n\"male\", \"male\", \"male\", \"male\", \"male\", \"male\", \"male\", \"female\", \n\"female\", \"female\", \"male\", \"male\", \"male\", \"male\", \"male\", \"female\", \n\"male\", \"male\", \"female\", \"male\", \"male\", \"male\", \"male\", \"male\", \n\"female\", \"male\", \"female\", \"male\", \"male\", \"male\", \"female\", \n\"male\", \"male\", \"female\", \"male\", \"male\", \"female\", \"male\", \"male\", \n\"male\", \"male\", \"male\", \"male\", \"female\", \"male\", \"male\", \"male\", \n\"female\", \"male\", \"male\", \"female\", \"male\", \"female\", \"female\", \n\"male\", \"female\", \"male\", \"female\", \"male\", \"male\", \"male\", \"male\", \n\"male\", \"male\", \"female\", \"male\", \"male\", \"male\", \"male\", \"male\", \n\"female\", \"male\", \"male\", \"male\", \"male\", \"male\", \"female\", \"female\", \n\"male\", \"female\", \"female\", \"male\", \"female\", \"female\", \"male\", \n\"female\", \"male\", \"female\", \"female\", \"male\", \"male\", \"male\", \n\"male\", \"male\", \"male\", \"male\", \"male\", \"female\", \"male\", \"female\", \n\"male\", \"female\", \"male\", \"male\", \"male\", \"male\", \"male\", \"female\", \n\"female\", \"male\", \"male\", \"male\", \"female\", \"female\", \"male\",\n\n*** WARNING: max output size exceeded, skipping output. ***\n\ns\", \"oncology & carcinogenesis\", \n    \"public health\", \"pharmacology & pharmacy\", \"microbiology\", \n    \"neurology & neurosurgery\", \"obstetrics & reproductive medicine\", \n    \"biochemistry & molecular biology\", \"neurology & neurosurgery\", \n    \"developmental biology\", \"microbiology\", \"oncology & carcinogenesis\", \n    \"biochemistry & molecular biology\", \"microbiology\", \"immunology\", \n    \"neurology & neurosurgery\", \"oncology & carcinogenesis\", \n    \"psychiatry\", \"urology & nephrology\", \"neurology & neurosurgery\", \n    \"immunology\", \"biochemistry & molecular biology\", \"oncology & carcinogenesis\", \n    \"neurology & neurosurgery\", \"immunology\", \"genetics & heredity\", \n    \"tropical medicine\", \"biochemistry & molecular biology\", \n    \"oncology & carcinogenesis\", \"biochemistry & molecular biology\", \n    \"developmental & child psychology\", \"cardiovascular system & hematology\", \n    \"biochemistry & molecular biology\", \"physiology\", \"developmental biology\", \n    \"neurology & neurosurgery\", \"general & internal medicine\", \n    \"experimental psychology\", \"oncology & carcinogenesis\", \"oncology & carcinogenesis\", \n    \"experimental psychology\", \"virology\", \"tropical medicine\", \n    \"developmental biology\", \"developmental biology\", \"mycology & parasitology\", \n    \"microbiology\", \"microbiology\", \"neurology & neurosurgery\", \n    \"neurology & neurosurgery\", \"oncology & carcinogenesis\", \n    \"obstetrics & reproductive medicine\", \"public health\", \"public health\", \n    \"developmental biology\", \"microbiology\", \"genetics & heredity\", \n    \"gastroenterology & hepatology\", \"virology\", \"respiratory system\", \n    \"neurology & neurosurgery\", \"developmental biology\", \"immunology\", \n    \"microbiology\", \"health policy & services\", \"biochemistry & molecular biology\", \n    \"dermatology & venereal diseases\", \"neurology & neurosurgery\", \n    \"endocrinology & metabolism\", \"toxicology\", \"nutrition & dietetics\", \n    \"microbiology\", \"biochemistry & molecular biology\", \"immunology\", \n    \"oncology & carcinogenesis\", \"environmental & occupational health\", \n    \"nutrition & dietetics\", \"nuclear medicine & medical imaging\", \n    \"psychiatry\", \"psychiatry\", \"endocrinology & metabolism\", \n    \"endocrinology & metabolism\", \"nutrition & dietetics\", \"public health\", \n    \"obstetrics & reproductive medicine\", \"developmental biology\", \n    \"neurology & neurosurgery\", \"biochemistry & molecular biology\", \n    \"oncology & carcinogenesis\", \"nutrition & dietetics\", \"cardiovascular system & hematology\", \n    \"otorhinolaryngology\", \"nutrition & dietetics\", \"pharmacology & pharmacy\", \n    \"neurology & neurosurgery\", \"neurology & neurosurgery\", \"nutrition & dietetics\", \n    \"virology\", \"microbiology\", \"general & internal medicine\", \n    \"pediatrics\", \"developmental biology\", \"neurology & neurosurgery\", \n    \"developmental biology\", \"neurology & neurosurgery\", \"developmental biology\", \n    \"public health\", \"virology\", \"microbiology\", \"microbiology\", \n    \"microbiology\", \"behavioral science & comparative psychology\", \n    \"oncology & carcinogenesis\", \"neurology & neurosurgery\", \n    \"virology\", \"virology\", \"developmental biology\", \"developmental biology\", \n    \"general & internal medicine\", \"dentistry\", \"neurology & neurosurgery\", \n    \"public health\", \"developmental biology\", \"experimental psychology\", \n    \"microbiology\", \"behavioral science & comparative psychology\", \n    \"developmental biology\", \"developmental biology\", \"developmental biology\", \n    \"developmental biology\", \"biochemistry & molecular biology\", \n    \"gerontology\", \"gerontology\", \"surgery\", \"developmental & child psychology\", \n    \"developmental & child psychology\", \"developmental & child psychology\", \n    \"dermatology & venereal diseases\", \"pharmacology & pharmacy\", \n    \"endocrinology & metabolism\", \"dermatology & venereal diseases\", \n    \"genetics & heredity\", \"microbiology\", \"dermatology & venereal diseases\", \n    \"geriatrics\", \"microbiology\", \"endocrinology & metabolism\", \n    \"neurology & neurosurgery\", \"public health\", \"speech-language pathology & audiology\", \n    \"developmental biology\", \"neurology & neurosurgery\", \"developmental biology\", \n    \"developmental biology\", \"developmental biology\", \"obstetrics & reproductive medicine\", \n    \"immunology\", \"microbiology\", \"developmental biology\", \"developmental biology\", \n    \"neurology & neurosurgery\", \"neurology & neurosurgery\", \"immunology\", \n    \"neurology & neurosurgery\", \"neurology & neurosurgery\", \"neurology & neurosurgery\", \n    \"neurology & neurosurgery\", \"neurology & neurosurgery\", \"pharmacology & pharmacy\", \n    \"pharmacology & pharmacy\", \"cardiovascular system & hematology\", \n    \"developmental biology\", \"oncology & carcinogenesis\", \"oncology & carcinogenesis\", \n    \"developmental biology\", \"virology\", \"virology\", \"pharmacology & pharmacy\", \n    \"oncology & carcinogenesis\", \"biochemistry & molecular biology\", \n    \"microbiology\", \"biochemistry & molecular biology\", \"developmental biology\", \n    \"developmental biology\", \"microbiology\", \"biochemistry & molecular biology\", \n    \"developmental biology\", \"developmental biology\", \"developmental biology\", \n    \"developmental biology\", \"developmental biology\", \"developmental biology\", \n    \"nutrition & dietetics\", \"pharmacology & pharmacy\", \"nutrition & dietetics\", \n    \"neurology & neurosurgery\", \"pharmacology & pharmacy\", \"developmental biology\", \n    \"biochemistry & molecular biology\", \"virology\", \"developmental biology\", \n    \"developmental biology\", \"developmental biology\", \"developmental biology\", \n    \"developmental biology\", \"developmental biology\", \"virology\", \n    \"biochemistry & molecular biology\", \"microbiology\", \"microbiology\", \n    \"developmental biology\", \"microbiology\", \"oncology & carcinogenesis\", \n    \"biochemistry & molecular biology\", \"developmental biology\", \n    \"biochemistry & molecular biology\", \"cardiovascular system & hematology\", \n    \"developmental biology\", \"virology\", \"biochemistry & molecular biology\", \n    \"immunology\", \"surgery\", \"arthritis & rheumatology\", \"biochemistry & molecular biology\", \n    \"oncology & carcinogenesis\", \"microbiology\", \"microbiology\", \n    \"respiratory system\", \"pharmacology & pharmacy\", \"microbiology\", \n    \"oncology & carcinogenesis\", \"nutrition & dietetics\", \"general & internal medicine\", \n    \"oncology & carcinogenesis\", \"biochemistry & molecular biology\", \n    \"cardiovascular system & hematology\", \"pharmacology & pharmacy\", \n    \"immunology\", \"emergency & critical care medicine\", \"immunology\", \n    \"obstetrics & reproductive medicine\", \"gastroenterology & hepatology\", \n    \"developmental biology\", \"oncology & carcinogenesis\", \"biochemistry & molecular biology\", \n    \"microbiology\", \"microbiology\", \"tropical medicine\", \"nutrition & dietetics\", \n    \"public health\", \"general & internal medicine\", \"oncology & carcinogenesis\", \n    \"general & internal medicine\", \"neurology & neurosurgery\", \n    \"gastroenterology & hepatology\", \"nuclear medicine & medical imaging\", \n    \"nuclear medicine & medical imaging\", \"physiology\", \"immunology\", \n    \"cardiovascular system & hematology\", \"general & internal medicine\", \n    \"neurology & neurosurgery\", \"psychiatry\", \"psychiatry\", \"public health\", \n    \"general & internal medicine\", \"sport sciences\", \"experimental psychology\", \n    \"public health\", \"social psychology\", \"substance abuse\", \n    \"social psychology\", \"neurology & neurosurgery\", \"psychiatry\", \n    \"microbiology\", \"microbiology\", \"public health\", \"microbiology\", \n    \"nutrition & dietetics\", \"public health\", \"developmental biology\", \n    \"microbiology\", \"toxicology\", \"general & internal medicine\", \n    \"psychiatry\", \"tropical medicine\", \"immunology\", \"neurology & neurosurgery\", \n    \"developmental biology\", \"microbiology\", \"developmental biology\", \n    \"microbiology\", \"neurology & neurosurgery\", \"gastroenterology & hepatology\", \n    \"clinical psychology\", \"public health\", \"oncology & carcinogenesis\", \n    \"endocrinology & metabolism\", \"endocrinology & metabolism\", \n    \"cardiovascular system & hematology\", \"developmental biology\", \n    \"developmental biology\", \"cardiovascular system & hematology\", \n    \"public health\", \"public health\", \"cardiovascular system & hematology\", \n    \"general & internal medicine\", \"social psychology\", \"developmental & child psychology\", \n    \"neurology & neurosurgery\", \"psychiatry\", \"neurology & neurosurgery\", \n    \"neurology & neurosurgery\", \"public health\", \"health policy & services\", \n    \"genetics & heredity\", \"general & internal medicine\", \"health policy & services\", \n    \"health policy & services\", \"health policy & services\", \"health policy & services\", \n    \"health policy & services\", \"pharmacology & pharmacy\", \"health policy & services\", \n    \"health policy & services\", \"gastroenterology & hepatology\", \n    \"gastroenterology & hepatology\", \"general & internal medicine\", \n    \"general & internal medicine\", \"sport sciences\", \"environmental & occupational health\", \n    \"developmental & child psychology\", \"nutrition & dietetics\", \n    \"public health\", \"pediatrics\", \"pharmacology & pharmacy\", \n    \"pediatrics\", \"obstetrics & reproductive medicine\", \"obstetrics & reproductive medicine\", \n    \"health policy & services\", \"virology\", \"gerontology\", \"urology & nephrology\", \n    \"endocrinology & metabolism\", \"endocrinology & metabolism\", \n    \"behavioral science & comparative psychology\", \"genetics & heredity\", \n    \"immunology\", \"virology\", \"microbiology\", \"virology\", \"virology\", \n    \"microbiology\", \"neurology & neurosurgery\", \"neurology & neurosurgery\", \n    \"experimental psychology\", \"neurology & neurosurgery\", \"neurology & neurosurgery\", \n    \"developmental biology\", \"neurology & neurosurgery\", \"nutrition & dietetics\", \n    \"nutrition & dietetics\", \"oncology & carcinogenesis\", \"neurology & neurosurgery\", \n    \"gastroenterology & hepatology\", \"psychiatry\", \"public health\", \n    \"developmental & child psychology\", \"neurology & neurosurgery\", \n    \"social psychology\", \"microbiology\", \"pharmacology & pharmacy\", \n    \"biochemistry & molecular biology\", \"oncology & carcinogenesis\", \n    \"complementary & alternative medicine\", \"biochemistry & molecular biology\", \n    \"oncology & carcinogenesis\", \"neurology & neurosurgery\", \n    \"biochemistry & molecular biology\", \"cardiovascular system & hematology\", \n    \"nuclear medicine & medical imaging\", \"nutrition & dietetics\", \n    \"nutrition & dietetics\", \"microbiology\", \"microbiology\", \n    \"virology\", \"microbiology\", \"virology\", \"developmental biology\", \n    \"immunology\", \"general & internal medicine\", \"public health\", \n    \"substance abuse\", \"endocrinology & metabolism\", \"public health\", \n    \"nutrition & dietetics\", \"developmental biology\"), q = structure(c(3L, \n    3L, 3L, 3L, 3L, 3L, 3L, 3L, 3L, 3L, 3L, 3L, 3L, 3L, 3L, 3L, \n    3L, 3L, 3L, 3L, 3L, 3L, 3L, 3L, 3L, 3L, 3L, 3L, 3L, 3L, 3L, \n    3L, 3L, 3L, 3L, 3L, 3L, 3L, 3L, 3L, 3L, 3L, 3L, 3L, 3L, 3L, \n    3L, 3L, 3L, 3L, 3L, 3L, 3L, 3L, 3L, 3L, 3L, 3L, 3L, 3L, 3L, \n    3L, 3L, 3L, 3L, 3L, 3L, 3L, 3L, 3L, 3L, 3L, 3L, 3L, 3L, 3L, \n    3L, 3L, 3L, 3L, 3L, 3L, 3L, 3L, 3L, 3L, 3L, 3L, 3L, 3L, 3L, \n    3L, 3L, 3L, 3L, 3L, 3L, 3L, 3L, 3L, 3L, 3L, 3L, 3L, 3L, 3L, \n    3L, 3L, 3L, 3L, 3L, 3L, 3L, 3L, 3L, 3L, 3L, 3L, 3L, 3L, 3L, \n    3L, 3L, 3L, 3L, 3L, 3L, 3L, 3L, 3L, 3L, 3L, 3L, 3L, 3L, 3L, \n    3L, 3L, 3L, 3L, 3L, 3L, 3L, 3L, 3L, 3L, 3L, 3L, 3L, 3L, 3L, \n    3L, 3L, 3L, 3L, 3L, 3L, 3L, 3L, 3L, 3L, 3L, 3L, 3L, 3L, 3L, \n    3L, 3L, 3L, 3L, 3L, 3L, 3L, 3L, 3L, 3L, 3L, 3L, 3L, 3L, 3L, \n    3L, 3L, 3L, 3L, 3L, 3L, 3L, 3L, 3L, 3L, 3L, 3L, 3L, 3L, 3L, \n    2L, 3L, 3L, 3L, 3L, 3L, 3L, 3L, 3L, 3L, 3L, 3L, 3L, 3L, 3L, \n    3L, 3L, 3L, 3L, 3L, 3L, 3L, 3L, 3L, 3L, 3L, 3L, 3L, 3L, 3L, \n    3L, 3L, 3L, 3L, 3L, 3L, 3L, 3L, 3L, 3L, 3L, 3L, 3L, 3L, 3L, \n    3L, 3L, 3L, 3L, 3L, 3L, 3L, 3L, 3L, 3L, 3L, 3L, 3L, 3L, 3L, \n    3L, 3L, 3L, 3L, 3L, 3L, 3L, 3L, 3L, 3L, 3L, 3L, 3L, 3L, 2L, \n    3L, 3L, 3L, 3L, 3L, 3L, 3L, 3L, 3L, 3L, 3L, 3L, 3L, 3L, 3L, \n    3L, 3L, 3L, 3L, 3L, 3L, 3L, 3L, 3L, 3L, 2L, 3L, 3L, 3L, 3L, \n    3L, 3L, 3L, 3L, 3L, 3L, 3L, 3L, 3L, 3L, 3L, 3L, 3L, 3L, 3L, \n    3L, 3L, 3L, 3L, 3L, 3L, 3L, 3L, 3L, 3L, 3L, 3L, 3L, 3L, 3L, \n    3L, 1L, 3L, 3L, 3L, 3L, 3L, 3L, 3L, 3L, 3L, 3L, 3L, 3L, 3L, \n    3L, 3L, 3L, 3L, 3L, 3L, 3L, 3L, 3L, 3L, 3L, 3L, 3L, 3L, 3L, \n    3L, 3L, 3L, 3L, 3L, 3L, 3L, 3L, 3L, 3L, 3L, 3L, 3L, 3L, 3L, \n    3L, 3L, 3L, 3L, 3L, 3L, 3L, 3L, 3L, 3L, 3L, 3L, 3L, 3L, 3L, \n    3L, 3L, 3L, 3L, 3L, 3L, 3L, 3L, 3L, 3L, 3L, 3L, 3L, 3L, 3L, \n    3L, 3L, 3L, 3L, 3L, 3L, 3L, 3L, 3L, 3L, 3L, 3L, 3L, 3L, 3L, \n    3L, 3L, 3L, 3L, 3L, 3L, 3L, 3L, 3L, 3L, 3L, 3L, 3L, 3L, 3L, \n    3L, 3L, 3L, 3L, 3L, 3L, 3L, 3L, 3L, 3L, 3L, 3L, 3L, 3L, 3L, \n    3L, 3L, 3L, 3L, 3L, 3L, 3L, 3L, 3L, 3L, 3L, 3L, 3L, 3L, 3L, \n    3L, 3L, 3L, 3L, 3L, 3L, 3L, 3L, 3L, 3L, 3L, 3L, 3L, 3L, 3L, \n    3L, 3L, 3L, 3L, 3L, 3L, 3L, 3L, 3L, 3L, 3L, 3L, 3L, 3L, 3L, \n    3L, 3L, 3L, 3L, 3L, 3L, 3L, 3L, 3L, 3L, 3L, 3L, 3L, 3L, 3L, \n    3L, 3L, 3L, 3L, 3L, 3L, 3L, 3L, 3L, 3L, 3L, 3L, 3L, 3L, 3L, \n    3L, 3L, 3L, 3L, 3L, 3L, 3L, 3L, 3L, 3L, 3L, 3L, 3L, 3L, 3L, \n    3L, 3L, 3L, 3L, 3L, 3L, 3L, 3L, 3L, 3L, 3L, 3L, 3L, 3L, 3L, \n    3L, 3L, 3L, 3L, 3L, 3L, 3L, 3L, 3L, 3L, 3L, 3L, 3L, 3L, 3L, \n    3L, 3L, 3L, 3L, 3L, 3L, 3L, 3L, 3L, 3L, 3L, 3L, 3L, 3L, 3L, \n    3L, 3L, 3L, 3L, 3L, 3L, 3L, 3L, 3L, 3L, 3L, 3L, 3L, 3L, 3L, \n    3L, 3L, 3L, 3L, 3L, 3L, 3L, 3L, 3L, 3L, 3L, 3L, 3L, 3L, 3L, \n    3L, 3L, 3L, 3L, 3L, 3L, 3L, 3L, 3L, 3L, 3L, 3L, 3L, 3L, 3L, \n    3L, 3L, 3L, 3L, 3L, 3L, 3L, 3L, 3L, 3L, 3L, 3L, 3L, 3L, 3L, \n    3L, 3L, 3L, 3L, 3L, 3L, 3L, 3L, 2L, 3L, 3L, 2L, 3L, 3L, 3L, \n    3L, 3L, 3L, 3L, 3L, 3L, 3L, 3L, 2L, 3L, 3L, 3L, 3L, 3L, 3L, \n    3L, 3L, 3L, 3L, 3L, 3L, 3L, 3L, 3L, 3L, 3L, 3L, 3L, 3L, 3L, \n    3L, 3L, 3L, 3L, 3L, 3L, 3L, 3L, 3L, 3L, 3L, 3L, 3L, 3L, 3L, \n    3L, 3L, 3L, 3L, 3L, 3L, 3L, 3L, 3L, 3L, 3L, 3L, 3L, 3L, 3L, \n    3L, 3L, 3L, 2L, 3L, 3L, 3L, 3L, 3L, 3L, 3L, 3L, 3L, 3L, 3L, \n    3L, 3L, 3L, 3L, 3L, 3L, 3L, 3L, 3L, 3L, 3L, 3L, 3L, 3L, 3L, \n    3L, 3L, 3L, 3L, 3L, 3L, 3L, 3L, 3L, 3L, 3L, 3L, 3L, 3L, 3L, \n    3L, 3L, 3L, 3L, 3L, 3L, 3L, 3L, 3L, 3L, 3L, 3L, 3L, 3L, 3L, \n    3L, 3L, 3L, 3L, 3L, 3L, 3L, 3L, 3L, 3L, 3L, 3L, 3L, 3L, 3L, \n    3L, 3L, 3L, 3L, 3L, 3L, 3L, 3L, 3L, 3L, 3L, 3L, 3L, 3L, 3L, \n    3L, 3L, 3L, 3L, 3L, 3L, 3L, 3L, 3L, 3L, 3L, 3L, 3L, 3L, 3L, \n    3L, 3L, 3L, 3L, 3L, 3L, 3L, 3L, 3L, 3L, 3L, 3L, 3L, 3L, 3L, \n    3L, 3L, 3L, 3L, 3L, 3L, 3L, 3L, 3L, 3L, 3L, 3L, 3L, 3L, 3L, \n    3L, 2L, 3L, 3L, 3L, 3L, 3L, 3L, 3L, 3L, 3L, 3L, 3L, 3L, 3L, \n    3L, 3L, 3L, 3L, 3L, 3L, 3L, 3L, 3L, 3L, 3L, 3L, 3L, 3L, 3L, \n    3L, 3L, 3L, 3L, 3L, 3L, 3L, 3L, 3L, 3L, 3L, 3L, 3L, 3L, 3L, \n    3L, 3L, 3L, 3L, 3L, 3L, 3L, 3L, 3L, 3L, 3L, 3L, 3L, 3L, 2L, \n    3L, 3L, 3L, 3L, 3L, 3L, 3L, 3L, 3L, 3L, 3L, 3L, 3L, 2L, 3L, \n    3L, 3L, 3L, 3L, 3L, 3L, 3L, 3L, 3L, 3L, 3L, 3L, 3L, 3L, 3L, \n    3L, 3L, 3L, 3L, 3L, 3L, 3L, 3L, 3L, 3L, 2L, 3L, 3L, 3L, 3L, \n    2L, 3L, 3L, 3L, 3L, 3L, 3L, 3L, 3L, 3L, 3L, 3L, 3L, 3L, 2L, \n    3L, 3L, 3L, 2L, 2L, 2L, 3L, 3L), .Label = c(\"1\", \"2\", \"3\"\n    ), class = \"factor\")), class = \"data.frame\", row.names = c(\"0\", \n\"1\", \"2\", \"3\", \"4\", \"5\", \"6\", \"7\", \"8\", \"9\", \"10\", \"12\", \"13\", \n\"14\", \"15\", \"16\", \"17\", \"18\", \"19\", \"21\", \"22\", \"23\", \"24\", \"25\", \n\"26\", \"27\", \"28\", \"30\", \"31\", \"32\", \"33\", \"34\", \"35\", \"36\", \"37\", \n\"38\", \"39\", \"40\", \"41\", \"42\", \"43\", \"44\", \"45\", \"46\", \"47\", \"48\", \n\"49\", \"50\", \"51\", \"52\", \"53\", \"54\", \"55\", \"56\", \"57\", \"58\", \"59\", \n\"60\", \"85\", \"112\", \"124\", \"130\", \"138\", \"141\", \"151\", \"166\", \n\"198\", \"202\", \"208\", \"254\", \"272\", \"273\", \"277\", \"285\", \"301\", \n\"338\", \"355\", \"356\", \"358\", \"359\", \"360\", \"361\", \"365\", \"366\", \n\"371\", \"372\", \"377\", \"383\", \"389\", \"397\", \"398\", \"404\", \"416\", \n\"417\", \"422\", \"435\", \"440\", \"450\", \"452\", \"453\", \"454\", \"455\", \n\"456\", \"457\", \"458\", \"461\", \"462\", \"464\", \"472\", \"475\", \"476\", \n\"513\", \"514\", \"515\", \"517\", \"518\", \"520\", \"521\", \"522\", \"523\", \n\"525\", \"526\", \"527\", \"528\", \"529\", \"530\", \"531\", \"549\", \"550\", \n\"556\", \"565\", \"566\", \"570\", \"572\", \"574\", \"575\", \"576\", \"577\", \n\"591\", \"592\", \"593\", \"594\", \"596\", \"598\", \"599\", \"601\", \"602\", \n\"605\", \"606\", \"607\", \"608\", \"610\", \"612\", \"613\", \"614\", \"617\", \n\"618\", \"619\", \"620\", \"622\", \"625\", \"627\", \"628\", \"629\", \"631\", \n\"632\", \"633\", \"634\", \"635\", \"636\", \"637\", \"638\", \"639\", \"640\", \n\"641\", \"642\", \"643\", \"644\", \"645\", \"646\", \"647\", \"648\", \"649\", \n\"650\", \"651\", \"652\", \"653\", \"654\", \"655\", \"658\", \"671\", \"689\", \n\"690\", \"691\", \"692\", \"699\", \"700\", \"701\", \"702\", \"703\", \"704\", \n\"705\", \"706\", \"719\", \"720\", \"721\", \"725\", \"727\", \"728\", \"733\", \n\"736\", \"737\", \"738\", \"739\", \"740\", \"741\", \"742\", \"744\", \"745\", \n\"789\", \"790\", \"792\", \"794\", \"795\", \"810\", \"811\", \"832\", \"847\", \n\"848\", \"852\", \"856\", \"866\", \"867\", \"868\", \"869\", \"870\", \"871\", \n\"874\", \"886\", \"887\", \"888\", \"889\", \"890\", \"891\", \"892\", \"893\", \n\"894\", \"895\", \"896\", \"899\", \"900\", \"901\", \"902\", \"906\", \"907\", \n\"909\", \"917\", \"918\", \"929\", \"932\", \"933\", \"946\", \"952\", \"957\", \n\"1035\", \"1039\", \"1044\", \"1045\", \"1046\", \"1047\", \"1048\", \"1053\", \n\"1088\", \"1094\", \"1112\", \"1122\", \"1123\", \"1124\", \"1126\", \"1127\", \n\"1128\", \"1129\", \"1130\", \"1131\", \"1132\", \"1134\", \"1135\", \"1136\", \n\"1142\", \"1149\", \"1150\", \"1195\", \"1203\", \"1204\", \"1205\", \"1207\", \n\"1210\", \"1216\", \"1217\", \"1218\", \"1223\", \"1226\", \"1227\", \"1237\", \n\"1249\", \"1252\", \"1253\", \"1254\", \"1255\", \"1257\", \"1259\", \"1261\", \n\"1285\", \"1344\", \"1359\", \"1361\", \"1382\", \"1386\", \"1408\", \"1446\", \n\"1483\", \"1493\", \"1513\", \"1514\", \"1524\", \"1562\", \"1570\", \"1572\", \n\"1580\", \"1604\", \"1622\", \"1624\", \"1649\", \"1650\", \"1651\", \"1653\", \n\"1654\", \"1655\", \"1657\", \"1658\", \"1662\", \"1663\", \"1664\", \"1666\", \n\"1667\", \"1669\", \"1670\", \"1672\", \"1673\", \"1678\", \"1679\", \"1680\", \n\"1684\", \"1696\", \"1697\", \"1698\", \"1699\", \"1700\", \"1701\", \"1705\", \n\"1706\", \"1707\", \"1708\", \"1709\", \"1713\", \"1714\", \"1725\", \"1727\", \n\"1730\", \"1733\", \"1736\", \"1741\", \"1743\", \"1745\", \"1746\", \"1747\", \n\"1761\", \"1771\", \"1776\", \"1793\", \"1795\", \"1799\", \"1805\", \"1813\", \n\"1815\", \"1818\", \"1827\", \"1828\", \"1831\", \"1833\", \"1845\", \"1851\", \n\"1855\", \"1856\", \"1860\", \"1871\", \"1876\", \"1878\", \"1889\", \"1890\", \n\"1894\", \"1896\", \"1899\", \"1901\", \"1906\", \"1912\", \"1914\", \"1922\", \n\"1924\", \"1928\", \"1932\", \"1936\", \"1939\", \"1947\", \"1950\", \"1952\", \n\"1955\", \"1957\", \"1964\", \"1976\", \"1977\", \"1984\", \"1986\", \"1992\", \n\"1993\", \"2008\", \"2012\", \"2018\", \"2023\", \"2024\", \"2026\", \"2028\", \n\"2029\", \"2032\", \"2034\", \"2035\", \"2039\", \"2040\", \"2042\", \"2044\", \n\"2047\", \"2050\", \"2051\", \"2053\", \"2054\", \"2066\", \"2083\", \"2085\", \n\"2086\", \"2090\", \"2091\", \"2092\", \"2093\", \"2095\", \"2135\", \"2187\", \n\"2188\", \"2192\", \"2205\", \"2222\", \"2241\", \"2252\", \"2256\", \"2257\", \n\"2258\", \"2259\", \"2281\", \"2282\", \"2316\", \"2317\", \"2322\", \"2338\", \n\"2346\", \"2366\", \"2367\", \"2372\", \"2375\", \"2377\", \"2385\", \"2388\", \n\"2394\", \"2411\", \"2413\", \"2414\", \"2417\", \"2418\", \"2421\", \"2424\", \n\"2428\", \"2433\", \"2439\", \"2440\", \"2442\", \"2445\", \"2449\", \"2452\", \n\"2454\", \"2456\", \"2457\", \"2458\", \"2461\", \"2464\", \"2465\", \"2467\", \n\"2469\", \"2470\", \"2471\", \"2474\", \"2479\", \"2480\", \"2481\", \"2482\", \n\"2484\", \"2486\", \"2489\", \"2490\", \"2492\", \"2493\", \"2496\", \"2497\", \n\"2499\", \"2501\", \"2503\", \"2504\", \"2506\", \"2507\", \"2508\", \"2509\", \n\"2510\", \"2512\", \"2513\", \"2514\", \"2515\", \"2516\", \"2517\", \"2518\", \n\"2519\", \"2520\", \"2522\", \"2523\", \"2530\", \"2532\", \"2533\", \"2534\", \n\"2535\", \"2536\", \"2540\", \"2541\", \"2544\", \"2547\", \"2550\", \"2551\", \n\"2552\", \"2555\", \"2565\", \"2568\", \"2570\", \"2577\", \"2589\", \"2598\", \n\"2599\", \"2604\", \"2605\", \"2606\", \"2607\", \"2613\", \"2622\", \"2624\", \n\"2627\", \"2629\", \"2631\", \"2633\", \"2635\", \"2637\", \"2638\", \"2639\", \n\"2640\", \"2642\", \"2721\", \"2728\", \"2760\", \"2807\", \"2810\", \"2811\", \n\"2813\", \"2814\", \"2815\", \"2831\", \"2843\", \"2858\", \"2868\", \"2875\", \n\"2876\", \"2880\", \"2882\", \"2883\", \"2888\", \"2892\", \"2894\", \"2898\", \n\"2902\", \"2903\", \"2909\", \"2917\", \"2919\", \"2926\", \"2932\", \"2933\", \n\"2934\", \"2935\", \"2937\", \"2943\", \"2950\", \"2953\", \"2963\", \"2967\", \n\"2970\", \"2971\", \"2975\", \"2985\", \"2989\", \"2996\", \"2998\", \"3004\", \n\"3010\", \"3012\", \"3018\", \"3028\", \"3029\", \"3030\", \"3043\", \"3044\", \n\"3046\", \"3048\", \"3049\", \"3055\", \"3060\", \"3067\", \"3072\", \"3075\", \n\"3080\", \"3082\", \"3087\", \"3089\", \"3092\", \"3101\", \"3102\", \"3104\", \n\"3105\", \"3106\", \"3107\", \"3114\", \"3116\", \"3143\", \"3145\", \"3161\", \n\"3167\", \"3169\", \"3170\", \"3173\", \"3174\", \"3175\", \"3211\", \"3217\", \n\"3243\", \"3246\", \"3247\", \"3248\", \"3249\", \"3251\", \"3252\", \"3253\", \n\"3257\", \"3258\", \"3260\", \"3261\", \"3266\", \"3271\", \"3272\", \"3273\", \n\"3275\", \"3280\", \"3281\", \"3282\", \"3284\", \"3285\", \"3286\", \"3287\", \n\"3291\", \"3293\", \"3296\", \"3298\", \"3299\", \"3304\", \"3305\", \"3306\", \n\"3307\", \"3308\", \"3321\", \"3325\", \"3326\", \"3330\", \"3332\", \"3336\", \n\"3338\", \"3342\", \"3343\", \"3346\", \"3349\", \"3360\", \"3365\", \"3375\", \n\"3381\", \"3388\", \"3390\", \"3391\", \"3392\", \"3418\", \"3419\", \"3420\", \n\"3424\", \"3426\", \"3427\", \"3428\", \"3434\", \"3439\", \"3441\", \"3442\", \n\"3446\", \"3494\", \"3495\", \"3497\", \"3510\", \"3515\", \"3516\", \"3521\", \n\"3539\", \"3560\", \"3562\", \"3572\", \"3573\", \"3590\", \"3592\", \"3595\", \n\"3612\", \"3613\", \"3616\", \"3627\", \"3629\", \"3636\", \"3639\", \"3640\", \n\"3642\", \"3645\", \"3648\", \"3652\", \"3655\", \"3661\", \"3681\", \"3683\", \n\"3687\", \"3688\", \"3696\", \"3705\", \"3710\", \"3712\", \"3719\", \"3723\", \n\"3724\", \"3725\", \"3733\", \"3734\", \"3736\", \"3737\", \"3738\", \"3739\", \n\"3743\", \"3745\", \"3754\", \"3761\", \"3762\", \"3765\", \"3769\", \"3774\", \n\"3775\", \"3776\", \"3778\", \"3790\", \"3792\", \"3795\", \"3799\", \"3801\", \n\"3802\", \"3804\", \"3806\", \"3820\", \"3822\", \"3829\", \"3830\", \"3832\", \n\"3836\", \"3839\", \"3858\", \"3866\", \"3868\", \"3882\", \"3884\", \"3888\", \n\"3889\", \"3906\", \"3907\", \"3908\", \"3909\", \"3911\", \"3912\", \"3914\", \n\"3915\", \"3916\", \"3917\", \"3918\", \"3919\", \"3920\", \"3921\", \"3922\", \n\"3925\", \"3926\", \"3927\", \"3928\", \"3929\", \"3930\", \"3931\", \"3932\", \n\"3935\", \"3936\", \"3938\", \"3939\", \"3940\", \"3941\", \"3943\", \"3944\", \n\"3945\", \"3946\", \"3954\", \"3955\", \"3959\", \"3961\", \"3962\", \"3963\", \n\"3964\", \"3965\", \"3966\", \"3968\", \"3973\", \"3976\", \"3978\", \"3979\", \n\"3980\", \"3990\", \"3992\", \"3997\", \"3998\", \"4003\", \"4004\", \"4005\", \n\"4006\", \"4007\", \"4008\", \"4009\", \"4010\", \"4014\", \"4016\", \"4017\", \n\"4019\", \"4022\", \"4023\", \"4024\", \"4026\", \"4028\", \"4029\", \"4031\", \n\"4033\", \"4034\", \"4036\", \"4038\", \"4039\", \"4040\", \"4041\", \"4042\", \n\"4043\", \"4050\", \"4058\", \"4059\", \"4061\", \"4063\", \"4072\", \"4079\", \n\"4091\", \"4110\", \"4114\", \"4115\", \"4122\", \"4125\", \"4126\", \"4127\", \n\"4128\", \"4129\", \"4130\", \"4131\", \"4132\", \"4133\", \"4134\", \"4135\", \n\"4136\", \"4137\", \"4138\", \"4139\", \"4141\", \"4143\", \"4151\", \"4152\", \n\"4153\", \"4154\", \"4155\", \"4156\", \"4157\", \"4158\", \"4159\", \"4163\", \n\"4164\", \"4187\", \"4189\", \"4190\", \"4227\", \"4228\", \"4229\", \"4231\", \n\"4238\", \"4248\", \"4249\", \"4251\", \"4252\", \"4253\", \"4254\", \"4255\", \n\"4256\", \"4257\", \"4259\", \"4260\", \"4261\", \"4262\", \"4263\", \"4264\", \n\"4271\", \"4272\", \"4284\", \"4291\", \"4315\", \"4317\", \"4321\", \"4325\", \n\"4326\", \"4329\", \"4345\", \"4349\", \"4352\", \"4355\", \"4356\", \"4358\", \n\"4364\", \"4365\", \"4366\", \"4368\", \"4391\", \"4393\", \"4394\", \"4399\", \n\"4405\", \"4407\", \"4410\", \"4411\", \"4412\", \"4413\", \"4415\", \"4421\"\n)))\n\nDeviance Residuals: \n    Min       1Q   Median       3Q      Max  \n-3.9319  -0.6353  -0.2020   0.3082   2.0654  \n\nCoefficients:\n                                             Estimate Std. Error t value\n(Intercept)                                  -3.87751    0.73741  -5.258\ngendermale                                   -0.17154    0.05239  -3.274\nyear2019                                      0.07903    0.06853   1.153\nyear2020                                     -0.05478    0.06817  -0.804\nyear2021                                      0.01313    0.08091   0.162\nyear2022                                     -0.03272    0.07546  -0.434\nField_EnglishClinical Medicine                0.32332    0.05001   6.466\nField_EnglishPsychology & Cognitive Sciences  0.12483    0.11952   1.044\nField_EnglishPublic Health & Health Services  0.11885    0.09560   1.243\nq2                                            0.61482    0.75470   0.815\nq3                                            0.69212    0.73254   0.945\n                                             Pr(>|t|)    \n(Intercept)                                  1.79e-07 ***\ngendermale                                     0.0011 ** \nyear2019                                       0.2491    \nyear2020                                       0.4218    \nyear2021                                       0.8711    \nyear2022                                       0.6647    \nField_EnglishClinical Medicine               1.59e-10 ***\nField_EnglishPsychology & Cognitive Sciences   0.2966    \nField_EnglishPublic Health & Health Services   0.2141    \nq2                                             0.4155    \nq3                                             0.3450    \n---\nSignif. codes:  0 ‘***’ 0.001 ‘**’ 0.01 ‘*’ 0.05 ‘.’ 0.1 ‘ ’ 1\n\n(Dispersion parameter for Gamma family taken to be 0.5334827)\n\n    Null deviance: 808.25  on 983  degrees of freedom\nResidual deviance: 777.45  on 973  degrees of freedom\nAIC: -4233.6\n\nNumber of Fisher Scoring iterations: 6\n\n\n<command-3900530281581390>:19: SettingWithCopyWarning: \nA value is trying to be set on a copy of a slice from a DataFrame\n\nSee the caveats in the documentation: https://pandas.pydata.org/pandas-docs/stable/user_guide/indexing.html#returning-a-view-versus-a-copy\n  tmp['negative'][ind] = 0.00001\n"
     ]
    }
   ],
   "source": [
    "tmp = pd.DataFrame()\n",
    "tmp['negative'] = dummy['negative']\n",
    "tmp['gender'] = dummy['gender']\n",
    "tmp['year'] = dummy['year']\n",
    "tmp['Domain_English'] = dummy['Domain_English']\n",
    "tmp['Field_English'] = dummy['Field_English']\n",
    "tmp['SubField_English'] = dummy['SubField_English']\n",
    "tmp['q'] = dummy['q']\n",
    "\n",
    "#overall - gmale = -ve, insig\n",
    "#tmp = tmp[tmp['Domain_English'] == 'Applied Sciences'] #insig\n",
    "#tmp = tmp[tmp['Domain_English'] == 'Arts & Humanities'] #insig\n",
    "#tmp = tmp[tmp['Domain_English'] == 'Economic & Social Sciences'] #insig\n",
    "tmp = tmp[tmp['Domain_English'] == 'Health Sciences'] #gmale = -0.17154, **\n",
    "#tmp = tmp[tmp['Domain_English'] == 'Natural Sciences'] #insig\n",
    "\n",
    "for ind in tmp.index:\n",
    "  if tmp['negative'][ind] == 0.00:\n",
    "    tmp['negative'][ind] = 0.00001\n",
    "\n",
    "\n",
    "with localconverter(ro.default_converter + pandas2ri.converter):\n",
    "  tst_df = ro.conversion.py2rpy(tmp)\n",
    "\n",
    "col_2_index = list(tst_df.colnames).index('year')\n",
    "col_2 = ro.vectors.FactorVector(tst_df.rx2('year'))\n",
    "tst_df[col_2_index] = col_2\n",
    "\n",
    "col_2_index = list(tst_df.colnames).index('q')\n",
    "col_2 = ro.vectors.FactorVector(tst_df.rx2('q'))\n",
    "tst_df[col_2_index] = col_2\n",
    "\n",
    "\n",
    "'''col_2_index = list(tst_df.colnames).index('Domain_English')\n",
    "col_2 = ro.vectors.FactorVector(tst_df.rx2('Domain_English'))\n",
    "tst_df[col_2_index] = col_2'''\n",
    "\n",
    "col_2_index = list(tst_df.colnames).index('Field_English')\n",
    "col_2 = ro.vectors.FactorVector(tst_df.rx2('Field_English'))\n",
    "tst_df[col_2_index] = col_2\n",
    "\n",
    "\n",
    "\n",
    "#print(tst_df)\n",
    "#pandas2ri.activate()\n",
    "model = stats.glm(\"negative ~ gender+year+Field_English+q\",\n",
    "                  data=tst_df,family=ro.r('Gamma(link=\"log\")')) #family=ro.r('gaussian(link=\"identity\")') #family=ro.r('poisson(link=\"log\")')\n",
    "print(base.summary(model))"
   ]
  },
  {
   "cell_type": "markdown",
   "metadata": {
    "application/vnd.databricks.v1+cell": {
     "cellMetadata": {},
     "inputWidgets": {},
     "nuid": "f255226d-4c1f-4278-b2de-d8d6737840d6",
     "showTitle": false,
     "title": ""
    }
   },
   "source": [
    "#### special media analysis"
   ]
  },
  {
   "cell_type": "code",
   "execution_count": 0,
   "metadata": {
    "application/vnd.databricks.v1+cell": {
     "cellMetadata": {
      "byteLimit": 2048000,
      "rowLimit": 10000
     },
     "inputWidgets": {},
     "nuid": "a4d6de0a-5551-43a7-9480-e947b4d7d934",
     "showTitle": false,
     "title": ""
    }
   },
   "outputs": [
    {
     "output_type": "display_data",
     "data": {
      "application/vnd.databricks.v1+bamboolib_hint": "{\"pd.DataFrames\": [], \"version\": \"0.0.1\"}",
      "text/plain": []
     },
     "metadata": {},
     "output_type": "display_data"
    },
    {
     "output_type": "stream",
     "name": "stdout",
     "output_type": "stream",
     "text": [
      "number of unique doi in cited us data  129439\nlength of total data  129451\nlength of data after removing retracted ids  129440\nlength of unique doi after removing retracted ids  129428\ntotal mention  1405538\nlen of total after dropping duplicate dois  129428\nlen of total mention  1405448\nlen of unique doi in merged data  129428\n5113\n129428\n1405448\n129428\n1195149\n1\n"
     ]
    }
   ],
   "source": [
    "import pandas as pd\n",
    "\n",
    "#load the saved us data\n",
    "t = pd.read_csv(\"/dbfs/FileStore/shared_uploads/arabi2@wisc.edu/us_media_analysis.csv\")\n",
    "\n",
    "#only extract the data that has media citation\n",
    "ff = t[t['news_cnt'] > 0]\n",
    "print(\"number of unique doi in cited us data \",ff['doi'].nunique())\n",
    "print(\"length of total data \",len(ff))\n",
    "\n",
    "#remove the retracted dois\n",
    "ret = spark.read.format(\"csv\").option(\"header\", \"true\").load(\"dbfs:/FileStore/shared_uploads/arabi2@wisc.edu/retrected_doi_wos.csv\")\n",
    "retracted = ret.select('doi').toPandas()\n",
    "ids_to_remove = retracted['doi']\n",
    "total = ff[~ff['doi'].isin(ids_to_remove)]\n",
    "print(\"length of data after removing retracted ids \",len(total))\n",
    "print(\"length of unique doi after removing retracted ids \",total['doi'].nunique())\n",
    "print(\"total mention \",total['news_cnt'].sum())\n",
    "total = total.drop_duplicates(subset = ['doi'])\n",
    "print(\"len of total after dropping duplicate dois \",len(total))\n",
    "\n",
    "#merge dois with the media outlet names\n",
    "m = spark.read.format(\"csv\").option(\"header\", \"true\").load(\"dbfs:/FileStore/shared_uploads/arabi2@wisc.edu/doi_media_for_databricks.csv\")\n",
    "media = m.toPandas()\n",
    "new_total =total.merge(media, on = ['doi'], how = 'inner') \n",
    "print(\"len of total mention \",len(new_total))\n",
    "print(\"len of unique doi in merged data \",new_total['doi'].nunique())\n",
    "print(new_total['media'].nunique())\n",
    "\n",
    "print(new_total['doi'].nunique())\n",
    "print(len(new_total))\n",
    "a = new_total.drop_duplicates(subset = ['doi','media'])\n",
    "print(a['doi'].nunique())\n",
    "print(len(a))\n",
    "print(a['news_cnt'].min())\n",
    "\n",
    " \n"
   ]
  },
  {
   "cell_type": "code",
   "execution_count": 0,
   "metadata": {
    "application/vnd.databricks.v1+cell": {
     "cellMetadata": {
      "byteLimit": 2048000,
      "rowLimit": 10000
     },
     "inputWidgets": {},
     "nuid": "9ba11f01-675a-4202-b181-adbbd7f58474",
     "showTitle": false,
     "title": ""
    }
   },
   "outputs": [],
   "source": [
    "samp = a.copy()\n",
    "#samp = total.copy()\n",
    "gender = []\n",
    "for ind in samp.index:\n",
    "  if samp['cor_gender'][ind] == 'female' or samp['cor_gender'][ind] == 'f' or samp['cor_gender'][ind] == 'F':\n",
    "    gender.append('Female')\n",
    "  elif samp['cor_gender'][ind] == 'male' or samp['cor_gender'][ind] == 'm' or samp['cor_gender'][ind] == 'M':\n",
    "    gender.append(\"Male\")\n",
    "samp['gender'] = gender"
   ]
  },
  {
   "cell_type": "code",
   "execution_count": 0,
   "metadata": {
    "application/vnd.databricks.v1+cell": {
     "cellMetadata": {
      "byteLimit": 2048000,
      "rowLimit": 10000
     },
     "inputWidgets": {},
     "nuid": "5b3da887-cefd-4155-9df1-a055ee378e14",
     "showTitle": false,
     "title": ""
    }
   },
   "outputs": [
    {
     "output_type": "stream",
     "name": "stdout",
     "output_type": "stream",
     "text": [
      "0.3912423080353162\n0.4170134842683536\n0.3866035675282126\n0.2112676056338028\n0.4033297529538131\n0.39290780141843973\n0.3812807881773399\n0.4033547714236051\n0.2793129200896191\n0.4027093596059113\n0.38057324840764334\n0.4174397031539889\n0.3595744680851064\n0.3514018691588785\n0.3954659949622166\n0.3342857142857143\n0.36619718309859156\n0.3903830480847596\n0.2846715328467153\n0.32642487046632124\n0.36792452830188677\n0.3384223918575064\n0.3855302279484638\n0.38144329896907214\n0.34964622641509435\n0.3368055555555556\n0.38613861386138615\n0.3125\n0.38248175182481753\n"
     ]
    }
   ],
   "source": [
    "msn = samp[samp['media'] == 'msn']\n",
    "print(len(msn[msn['gender'] == \"Female\"])/len(msn))\n",
    "\n",
    "\n",
    "yah = samp[samp['media'] == 'yahoo!']\n",
    "print(len(yah[yah['gender'] == \"Female\"])/len(yah))\n",
    "\n",
    "nytimes = samp[samp['media'] == 'newyorktimes']\n",
    "print(len(nytimes[nytimes['gender'] == \"Female\"])/len(nytimes))\n",
    "\n",
    "newyorker = samp[samp['media'] == 'thenewyorker']\n",
    "print(len(newyorker[newyorker['gender'] == \"Female\"])/len(newyorker))\n",
    "\n",
    "cnn = samp[samp['media'] == 'cnnnews']\n",
    "print(len(cnn[cnn['gender'] == \"Female\"])/len(cnn))\n",
    "\n",
    "wpost = samp[samp['media'] == 'washingtonpost']\n",
    "print(len(wpost[wpost['gender'] == \"Female\"])/len(wpost))\n",
    "\n",
    "ustoday = samp[samp['media'] == 'usatoday']\n",
    "print(len(ustoday[ustoday['gender'] == \"Female\"])/len(ustoday))\n",
    "\n",
    "yah2 = samp[samp['media'] == 'yahoo!news']\n",
    "print(len(yah2[yah2['gender'] == \"Female\"])/len(yah2))\n",
    "\n",
    "google = samp[samp['media'] == 'googlenews']\n",
    "print(len(google[google['gender'] == \"Female\"])/len(google))\n",
    "\n",
    "npr = samp[samp['media'] == 'npr']\n",
    "print(len(npr[npr['gender'] == \"Female\"])/len(npr))\n",
    "\n",
    "abc = samp[samp['media'] == 'abcnews']\n",
    "print(len(abc[abc['gender'] == \"Female\"])/len(abc))\n",
    "\n",
    "nbc = samp[samp['media'] == 'nbcnews']\n",
    "print(len(nbc[nbc['gender'] == \"Female\"])/len(nbc))\n",
    "\n",
    "cbs = samp[samp['media'] == 'cbsnews']\n",
    "print(len(cbs[cbs['gender'] == \"Female\"])/len(cbs))\n",
    "\n",
    "pbs = samp[samp['media'] == 'pbs']\n",
    "print(len(pbs[pbs['gender'] == \"Female\"])/len(pbs))\n",
    "\n",
    "bbc = samp[samp['media'] == 'bbcnews']\n",
    "print(len(bbc[bbc['gender'] == \"Female\"])/len(bbc))\n",
    "\n",
    "fox = samp[samp['media'] == 'foxnews']\n",
    "print(len(fox[fox['gender'] == \"Female\"])/len(fox))\n",
    "\n",
    "wax = samp[samp['media'] == 'washingtonexaminer']\n",
    "print(len(wax[wax['gender'] == \"Female\"])/len(wax))\n",
    "\n",
    "nmax = samp[samp['media'] == 'newsmax']\n",
    "print(len(nmax[nmax['gender'] == \"Female\"])/len(nmax))\n",
    "\n",
    "blz = samp[samp['media'] == 'theblaze']\n",
    "print(len(blz[blz['gender'] == \"Female\"])/len(blz))\n",
    "\n",
    "wtimes = samp[samp['media'] == 'washingtontimes']\n",
    "print(len(wtimes[wtimes['gender'] == \"Female\"])/len(wtimes))\n",
    "\n",
    "nrev = samp[samp['media'] == 'nationalreview']\n",
    "print(len(nrev[nrev['gender'] == \"Female\"])/len(nrev))\n",
    "\n",
    "cnbc = samp[samp['media'] == 'cnbc']\n",
    "print(len(cnbc[cnbc['gender'] == \"Female\"])/len(cnbc))\n",
    "\n",
    "latimes = samp[samp['media'] == 'losangelestimes']\n",
    "print(len(latimes[latimes['gender'] == \"Female\"])/len(latimes))\n",
    "\n",
    "forbes = samp[samp['media'] == 'forbes']\n",
    "print(len(forbes[forbes['gender'] == \"Female\"])/len(forbes))\n",
    "\n",
    "newsweek = samp[samp['media'] == 'newsweek']\n",
    "print(len(newsweek[newsweek['gender'] == \"Female\"])/len(newsweek))\n",
    "\n",
    "nypost = samp[samp['media'] == 'newyorkpost']\n",
    "print(len(nypost[nypost['gender'] == \"Female\"])/len(nypost))\n",
    "\n",
    "buzzfeed = samp[samp['media'] == 'buzzfeed']\n",
    "print(len(buzzfeed[buzzfeed['gender'] == \"Female\"])/len(buzzfeed))\n",
    "\n",
    "bb = samp[samp['media'] == 'bloomberg']\n",
    "print(len(bb[bb['gender'] == \"Female\"])/len(bb))\n",
    "\n",
    "ct = samp[samp['media'] == 'chicagotribune']\n",
    "print(len(ct[ct['gender'] == \"Female\"])/len(ct))"
   ]
  },
  {
   "cell_type": "code",
   "execution_count": 0,
   "metadata": {
    "application/vnd.databricks.v1+cell": {
     "cellMetadata": {
      "byteLimit": 2048000,
      "rowLimit": 10000
     },
     "inputWidgets": {},
     "nuid": "ea19ae62-52a8-45a5-abfe-691544852f31",
     "showTitle": false,
     "title": ""
    }
   },
   "outputs": [
    {
     "output_type": "stream",
     "name": "stdout",
     "output_type": "stream",
     "text": [
      "Out[58]: 685"
     ]
    }
   ],
   "source": [
    "len(samp[samp['media'] == 'chicagotribune'])"
   ]
  },
  {
   "cell_type": "code",
   "execution_count": 0,
   "metadata": {
    "application/vnd.databricks.v1+cell": {
     "cellMetadata": {
      "byteLimit": 2048000,
      "rowLimit": 10000
     },
     "inputWidgets": {},
     "nuid": "2193c02f-198b-47f6-9ecc-dd6063af2ed1",
     "showTitle": false,
     "title": ""
    }
   },
   "outputs": [
    {
     "output_type": "stream",
     "name": "stdout",
     "output_type": "stream",
     "text": [
      "   score   rank\n0   0.00   12.5\n1   0.10   25.0\n2   0.20   50.0\n3   0.15   37.5\n4   0.34   62.5\n5   0.75  100.0\n6   0.55   75.0\n7   0.65   87.5\n"
     ]
    }
   ],
   "source": [
    "from scipy.stats import percentileofscore\n",
    "\n",
    "#dummy = merged.copy()\n",
    "xx = pd.DataFrame()\n",
    "xx['score'] = [0,0.1,0.2,0.15,0.34, 0.75,0.55, 0.65]\n",
    "xx['rank'] = xx['score'].apply(lambda x: percentileofscore(xx['score'], x, kind='rank'))\n",
    "print(xx)"
   ]
  },
  {
   "cell_type": "code",
   "execution_count": 0,
   "metadata": {
    "application/vnd.databricks.v1+cell": {
     "cellMetadata": {
      "byteLimit": 2048000,
      "rowLimit": 10000
     },
     "inputWidgets": {},
     "nuid": "e8636cc1-d28e-4a75-a397-c0245fbee36d",
     "showTitle": false,
     "title": ""
    }
   },
   "outputs": [
    {
     "output_type": "stream",
     "name": "stdout",
     "output_type": "stream",
     "text": [
      "0.09800000000000002\n0.09800000000000002\n"
     ]
    }
   ],
   "source": [
    "import numpy as np\n",
    "print(xx['score'].quantile(0.14))\n",
    "print(np.percentile(xx['score'], 14))"
   ]
  },
  {
   "cell_type": "code",
   "execution_count": 0,
   "metadata": {
    "application/vnd.databricks.v1+cell": {
     "cellMetadata": {
      "byteLimit": 2048000,
      "rowLimit": 10000
     },
     "inputWidgets": {},
     "nuid": "dbd41007-38b4-42be-b473-a799366bb604",
     "showTitle": false,
     "title": ""
    }
   },
   "outputs": [
    {
     "output_type": "stream",
     "name": "stdout",
     "output_type": "stream",
     "text": [
      "['#1f77b4', '#aec7e8', '#ff7f0e', '#ffbb78', '#2ca02c', '#98df8a', '#d62728', '#ff9896', '#9467bd', '#c5b0d5', '#8c564b', '#c49c94', '#e377c2', '#f7b6d2', '#7f7f7f', '#c7c7c7', '#bcbd22', '#dbdb8d', '#17becf', '#9edae5']\n"
     ]
    }
   ],
   "source": [
    "import seaborn as sns\n",
    "\n",
    "a = sns.color_palette(palette='tab20')\n",
    "print(a.as_hex())"
   ]
  }
 ],
 "metadata": {
  "application/vnd.databricks.v1+notebook": {
   "dashboards": [],
   "language": "python",
   "notebookMetadata": {
    "pythonIndentUnit": 2
   },
   "notebookName": "Quantile_find",
   "widgets": {}
  }
 },
 "nbformat": 4,
 "nbformat_minor": 0
}
