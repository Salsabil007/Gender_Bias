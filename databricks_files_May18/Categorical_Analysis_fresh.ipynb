{
 "cells": [
  {
   "cell_type": "code",
   "execution_count": 0,
   "metadata": {
    "application/vnd.databricks.v1+cell": {
     "cellMetadata": {
      "byteLimit": 2048000,
      "rowLimit": 10000
     },
     "inputWidgets": {},
     "nuid": "f4a9c9e6-4659-40f6-a1e6-894ba5602278",
     "showTitle": false,
     "title": ""
    }
   },
   "outputs": [],
   "source": [
    "project_name = 'test_project_1'\n",
    "#permissions='default'\n",
    "permissions='fulldata'"
   ]
  },
  {
   "cell_type": "code",
   "execution_count": 0,
   "metadata": {
    "application/vnd.databricks.v1+cell": {
     "cellMetadata": {
      "byteLimit": 2048000,
      "rowLimit": 10000
     },
     "inputWidgets": {},
     "nuid": "f13de747-b49d-4244-bdf2-fac0b7f81942",
     "showTitle": false,
     "title": ""
    }
   },
   "outputs": [
    {
     "output_type": "stream",
     "name": "stdout",
     "output_type": "stream",
     "text": [
      "PROJECT DETAILS:\nProject identifier: test_project_1\nCluster data access level: fulldata\n"
     ]
    },
    {
     "output_type": "stream",
     "name": "stdout",
     "output_type": "stream",
     "text": [
      "EXECUTION DETAILS:\nSpark version: 11.3.x-scala2.12, \nCluster Node Type: i3.xlarge, \nDriver Node Type: c4.2xlarge, \nWorker Node Type: i3.xlarge\n"
     ]
    }
   ],
   "source": [
    "%run /Snippets/header_008"
   ]
  },
  {
   "cell_type": "code",
   "execution_count": 0,
   "metadata": {
    "application/vnd.databricks.v1+cell": {
     "cellMetadata": {
      "byteLimit": 2048000,
      "rowLimit": 10000
     },
     "inputWidgets": {},
     "nuid": "5829c67e-2ab6-4729-8c24-98fb9a377be3",
     "showTitle": false,
     "title": ""
    }
   },
   "outputs": [
    {
     "output_type": "stream",
     "name": "stdout",
     "output_type": "stream",
     "text": [
      "Python interpreter will be restarted.\nCollecting pycountry\n  Downloading pycountry-23.12.11-py3-none-any.whl (6.2 MB)\nInstalling collected packages: pycountry\nSuccessfully installed pycountry-23.12.11\nPython interpreter will be restarted.\n"
     ]
    },
    {
     "output_type": "stream",
     "name": "stdout",
     "output_type": "stream",
     "text": [
      "DATA SNAPSHOT DETAILS:\nThis notebook uses the latest snapshot date for this version: \"v008.20240329092717/\", (29 March 2024)\n\n The following are the Scopus snapshot dates available for datasets at v008:\n['v008.20220314092239/', 'v008.20220906063204/', 'v008.20221021151538/', 'v008.20230509104116/', 'v008.20230821105000/', 'v008.20231003094404/', 'v008.20240329092717/']\n(If you want to use a different snapshot, in the first cell of your notebook, set the variable `custom_snapshot_date` to one of the options listed above (string data type))\n\n"
     ]
    },
    {
     "output_type": "stream",
     "name": "stdout",
     "output_type": "stream",
     "text": [
      "DATA SAMPLE DETAILS:\nSetting paths to run on full datasets (100% Scopus publication volume)\n"
     ]
    }
   ],
   "source": [
    "pip install pycountry"
   ]
  },
  {
   "cell_type": "code",
   "execution_count": 0,
   "metadata": {
    "application/vnd.databricks.v1+cell": {
     "cellMetadata": {
      "byteLimit": 2048000,
      "rowLimit": 10000
     },
     "inputWidgets": {},
     "nuid": "e8686baa-429b-4ea0-8994-3bf4067218c4",
     "showTitle": false,
     "title": ""
    }
   },
   "outputs": [
    {
     "output_type": "stream",
     "name": "stdout",
     "output_type": "stream",
     "text": [
      "Python interpreter will be restarted.\nRequirement already satisfied: markupsafe==2.0.1 in /databricks/python3/lib/python3.9/site-packages (2.0.1)\nPython interpreter will be restarted.\nPython interpreter will be restarted.\nCollecting rpy2\n  Downloading rpy2-3.5.15.tar.gz (219 kB)\n  Installing build dependencies: started\n  Installing build dependencies: finished with status 'done'\n  Getting requirements to build wheel: started\n  Getting requirements to build wheel: finished with status 'error'\n  ERROR: Command errored out with exit status 1:\n   command: /local_disk0/.ephemeral_nfs/envs/pythonEnv-4c8f7abf-824f-482b-97cb-0ac977181fb6/bin/python /local_disk0/.ephemeral_nfs/envs/pythonEnv-4c8f7abf-824f-482b-97cb-0ac977181fb6/lib/python3.9/site-packages/pip/_vendor/pep517/in_process/_in_process.py get_requires_for_build_wheel /tmp/tmphau4x05p\n       cwd: /tmp/pip-install-lcw6owcz/rpy2_e8f17abec1a742cdbddd35435148eb69\n  Complete output (16 lines):\n  Traceback (most recent call last):\n    File \"/local_disk0/.ephemeral_nfs/envs/pythonEnv-4c8f7abf-824f-482b-97cb-0ac977181fb6/lib/python3.9/site-packages/pip/_vendor/pep517/in_process/_in_process.py\", line 349, in <module>\n      main()\n    File \"/local_disk0/.ephemeral_nfs/envs/pythonEnv-4c8f7abf-824f-482b-97cb-0ac977181fb6/lib/python3.9/site-packages/pip/_vendor/pep517/in_process/_in_process.py\", line 331, in main\n      json_out['return_val'] = hook(**hook_input['kwargs'])\n    File \"/local_disk0/.ephemeral_nfs/envs/pythonEnv-4c8f7abf-824f-482b-97cb-0ac977181fb6/lib/python3.9/site-packages/pip/_vendor/pep517/in_process/_in_process.py\", line 117, in get_requires_for_build_wheel\n      return hook(config_settings)\n    File \"/usr/local/lib/python3.9/dist-packages/setuptools/build_meta.py\", line 154, in get_requires_for_build_wheel\n      return self._get_build_requires(\n    File \"/usr/local/lib/python3.9/dist-packages/setuptools/build_meta.py\", line 135, in _get_build_requires\n      self.run_setup()\n    File \"/usr/local/lib/python3.9/dist-packages/setuptools/build_meta.py\", line 150, in run_setup\n      exec(compile(code, __file__, 'exec'), locals())\n    File \"setup.py\", line 23, in <module>\n      import setuptools.command.build\n  ModuleNotFoundError: No module named 'setuptools.command.build'\n  ----------------------------------------\nWARNING: Discarding https://files.pythonhosted.org/packages/2e/28/8d26eee985eabc9e14ab549f97da7dae99c48e46bf274a39696a867f2e34/rpy2-3.5.15.tar.gz#sha256=444fae4a84dc7f233b70eaab0aa81398ee0147c4e1ae38dd4524d779d6f25b2b (from https://pypi.org/simple/rpy2/) (requires-python:>=3.7). Command errored out with exit status 1: /local_disk0/.ephemeral_nfs/envs/pythonEnv-4c8f7abf-824f-482b-97cb-0ac977181fb6/bin/python /local_disk0/.ephemeral_nfs/envs/pythonEnv-4c8f7abf-824f-482b-97cb-0ac977181fb6/lib/python3.9/site-packages/pip/_vendor/pep517/in_process/_in_process.py get_requires_for_build_wheel /tmp/tmphau4x05p Check the logs for full command output.\n  Downloading rpy2-3.5.14.tar.gz (219 kB)\n  Installing build dependencies: started\n  Installing build dependencies: finished with status 'done'\n  Getting requirements to build wheel: started\n  Getting requirements to build wheel: finished with status 'error'\n  ERROR: Command errored out with exit status 1:\n   command: /local_disk0/.ephemeral_nfs/envs/pythonEnv-4c8f7abf-824f-482b-97cb-0ac977181fb6/bin/python /local_disk0/.ephemeral_nfs/envs/pythonEnv-4c8f7abf-824f-482b-97cb-0ac977181fb6/lib/python3.9/site-packages/pip/_vendor/pep517/in_process/_in_process.py get_requires_for_build_wheel /tmp/tmps5k678xs\n       cwd: /tmp/pip-install-lcw6owcz/rpy2_a9c3c6bd832a4027aaacb660d3c56f70\n  Complete output (16 lines):\n  Traceback (most recent call last):\n    File \"/local_disk0/.ephemeral_nfs/envs/pythonEnv-4c8f7abf-824f-482b-97cb-0ac977181fb6/lib/python3.9/site-packages/pip/_vendor/pep517/in_process/_in_process.py\", line 349, in <module>\n      main()\n    File \"/local_disk0/.ephemeral_nfs/envs/pythonEnv-4c8f7abf-824f-482b-97cb-0ac977181fb6/lib/python3.9/site-packages/pip/_vendor/pep517/in_process/_in_process.py\", line 331, in main\n      json_out['return_val'] = hook(**hook_input['kwargs'])\n    File \"/local_disk0/.ephemeral_nfs/envs/pythonEnv-4c8f7abf-824f-482b-97cb-0ac977181fb6/lib/python3.9/site-packages/pip/_vendor/pep517/in_process/_in_process.py\", line 117, in get_requires_for_build_wheel\n      return hook(config_settings)\n    File \"/usr/local/lib/python3.9/dist-packages/setuptools/build_meta.py\", line 154, in get_requires_for_build_wheel\n      return self._get_build_requires(\n    File \"/usr/local/lib/python3.9/dist-packages/setuptools/build_meta.py\", line 135, in _get_build_requires\n      self.run_setup()\n    File \"/usr/local/lib/python3.9/dist-packages/setuptools/build_meta.py\", line 150, in run_setup\n      exec(compile(code, __file__, 'exec'), locals())\n    File \"setup.py\", line 23, in <module>\n      import setuptools.command.build\n  ModuleNotFoundError: No module named 'setuptools.command.build'\n  ----------------------------------------\nWARNING: Discarding https://files.pythonhosted.org/packages/30/dc/d9748ec2b61b6a1fcbaff3891961297c83cfa34c9f9984761fb6f6ae65d0/rpy2-3.5.14.tar.gz#sha256=5f46ae31d36e117be366ad4ae02493c015ac6ba59ebe3b4cd7200075332fc481 (from https://pypi.org/simple/rpy2/) (requires-python:>=3.7). Command errored out with exit status 1: /local_disk0/.ephemeral_nfs/envs/pythonEnv-4c8f7abf-824f-482b-97cb-0ac977181fb6/bin/python /local_disk0/.ephemeral_nfs/envs/pythonEnv-4c8f7abf-824f-482b-97cb-0ac977181fb6/lib/python3.9/site-packages/pip/_vendor/pep517/in_process/_in_process.py get_requires_for_build_wheel /tmp/tmps5k678xs Check the logs for full command output.\n  Downloading rpy2-3.5.13.tar.gz (218 kB)\n  Installing build dependencies: started\n  Installing build dependencies: finished with status 'done'\n  Getting requirements to build wheel: started\n  Getting requirements to build wheel: finished with status 'done'\n    Preparing wheel metadata: started\n    Preparing wheel metadata: finished with status 'done'\n  WARNING: Generating metadata for package rpy2 produced metadata for project name unknown. Fix your #egg=rpy2 fragments.\nWARNING: Discarding https://files.pythonhosted.org/packages/55/43/d11bbc1e87383e8a01d74022182bc292011760a2f23c449d2c04dc1b794e/rpy2-3.5.13.tar.gz#sha256=41d037599f54336f54e754d82853fae06be9438d9fb3b514d90da74eaf328ddd (from https://pypi.org/simple/rpy2/) (requires-python:>=3.7). Requested unknown from https://files.pythonhosted.org/packages/55/43/d11bbc1e87383e8a01d74022182bc292011760a2f23c449d2c04dc1b794e/rpy2-3.5.13.tar.gz#sha256=41d037599f54336f54e754d82853fae06be9438d9fb3b514d90da74eaf328ddd has inconsistent name: filename has 'rpy2', but metadata has 'UNKNOWN'\n  Downloading rpy2-3.5.12.tar.gz (217 kB)\n  Installing build dependencies: started\n  Installing build dependencies: finished with status 'done'\n  Getting requirements to build wheel: started\n  Getting requirements to build wheel: finished with status 'done'\n    Preparing wheel metadata: started\n    Preparing wheel metadata: finished with status 'done'\n  WARNING: Generating metadata for package rpy2 produced metadata for project name unknown. Fix your #egg=rpy2 fragments.\nWARNING: Discarding https://files.pythonhosted.org/packages/5c/f2/ebeb1679b93badaffdd709b0ed4ea9a0335974fb6a2b950875ec2bf1b6bb/rpy2-3.5.12.tar.gz#sha256=eeadf794fd2aa548f88568c6a1d26e7c3810cd4a764a87b2c3b31d31942d6d45 (from https://pypi.org/simple/rpy2/) (requires-python:>=3.7). Requested unknown from https://files.pythonhosted.org/packages/5c/f2/ebeb1679b93badaffdd709b0ed4ea9a0335974fb6a2b950875ec2bf1b6bb/rpy2-3.5.12.tar.gz#sha256=eeadf794fd2aa548f88568c6a1d26e7c3810cd4a764a87b2c3b31d31942d6d45 has inconsistent name: filename has 'rpy2', but metadata has 'UNKNOWN'\n  Downloading rpy2-3.5.11.tar.gz (216 kB)\n  Installing build dependencies: started\n  Installing build dependencies: finished with status 'done'\n  Getting requirements to build wheel: started\n  Getting requirements to build wheel: finished with status 'done'\n    Preparing wheel metadata: started\n    Preparing wheel metadata: finished with status 'done'\n  WARNING: Generating metadata for package rpy2 produced metadata for project name unknown. Fix your #egg=rpy2 fragments.\nWARNING: Discarding https://files.pythonhosted.org/packages/21/83/58efe42e96397d441609e411d37392dc68198f1a2ff7663c21a1cb07e6a8/rpy2-3.5.11.tar.gz#sha256=0d3e554dac8f4e55a28932f2946341aae3e02894304e1198547222aa86b89e21 (from https://pypi.org/simple/rpy2/) (requires-python:>=3.7). Requested unknown from https://files.pythonhosted.org/packages/21/83/58efe42e96397d441609e411d37392dc68198f1a2ff7663c21a1cb07e6a8/rpy2-3.5.11.tar.gz#sha256=0d3e554dac8f4e55a28932f2946341aae3e02894304e1198547222aa86b89e21 has inconsistent name: filename has 'rpy2', but metadata has 'UNKNOWN'\n  Downloading rpy2-3.5.10.tar.gz (215 kB)\n  Installing build dependencies: started\n  Installing build dependencies: finished with status 'done'\n  Getting requirements to build wheel: started\n  Getting requirements to build wheel: finished with status 'done'\n    Preparing wheel metadata: started\n    Preparing wheel metadata: finished with status 'done'\n  WARNING: Generating metadata for package rpy2 produced metadata for project name unknown. Fix your #egg=rpy2 fragments.\nWARNING: Discarding https://files.pythonhosted.org/packages/fe/1c/18c718a1365bedc10438810637b5d735737c697998d5c163cc58edb6f1ee/rpy2-3.5.10.tar.gz#sha256=f81f0afb01e3c6f515c09573bc585c0e1c7e385ec81415ce0a62268c605ec7fc (from https://pypi.org/simple/rpy2/) (requires-python:>=3.7). Requested unknown from https://files.pythonhosted.org/packages/fe/1c/18c718a1365bedc10438810637b5d735737c697998d5c163cc58edb6f1ee/rpy2-3.5.10.tar.gz#sha256=f81f0afb01e3c6f515c09573bc585c0e1c7e385ec81415ce0a62268c605ec7fc has inconsistent name: filename has 'rpy2', but metadata has 'UNKNOWN'\n  Downloading rpy2-3.5.9.tar.gz (215 kB)\n  Installing build dependencies: started\n  Installing build dependencies: finished with status 'done'\n  Getting requirements to build wheel: started\n  Getting requirements to build wheel: finished with status 'done'\n    Preparing wheel metadata: started\n    Preparing wheel metadata: finished with status 'done'\n  WARNING: Generating metadata for package rpy2 produced metadata for project name unknown. Fix your #egg=rpy2 fragments.\nWARNING: Discarding https://files.pythonhosted.org/packages/f9/d4/f817a523c4168c826a816f89a5a080fa2fd7ad939dbfece5eb5d01235070/rpy2-3.5.9.tar.gz#sha256=89a0d7e340657795558e0db6bf9d8f1395428ba118af9023515dda928e6944f0 (from https://pypi.org/simple/rpy2/) (requires-python:>=3.7). Requested unknown from https://files.pythonhosted.org/packages/f9/d4/f817a523c4168c826a816f89a5a080fa2fd7ad939dbfece5eb5d01235070/rpy2-3.5.9.tar.gz#sha256=89a0d7e340657795558e0db6bf9d8f1395428ba118af9023515dda928e6944f0 has inconsistent name: filename has 'rpy2', but metadata has 'UNKNOWN'\n  Downloading rpy2-3.5.8.tar.gz (214 kB)\n  Installing build dependencies: started\n  Installing build dependencies: finished with status 'done'\n  Getting requirements to build wheel: started\n  Getting requirements to build wheel: finished with status 'done'\n    Preparing wheel metadata: started\n    Preparing wheel metadata: finished with status 'done'\n  WARNING: Generating metadata for package rpy2 produced metadata for project name unknown. Fix your #egg=rpy2 fragments.\nWARNING: Discarding https://files.pythonhosted.org/packages/a2/63/442160f69e1f163c24a73a3796b9ebd63c217b73941e4888734687e225d4/rpy2-3.5.8.tar.gz#sha256=22611f21bc52798087fb98309705f1a25cfbe8bfd27fbfeeea01f3d352fddb29 (from https://pypi.org/simple/rpy2/) (requires-python:>=3.7). Requested unknown from https://files.pythonhosted.org/packages/a2/63/442160f69e1f163c24a73a3796b9ebd63c217b73941e4888734687e225d4/rpy2-3.5.8.tar.gz#sha256=22611f21bc52798087fb98309705f1a25cfbe8bfd27fbfeeea01f3d352fddb29 has inconsistent name: filename has 'rpy2', but metadata has 'UNKNOWN'\n  Downloading rpy2-3.5.7.tar.gz (213 kB)\n  Installing build dependencies: started\n  Installing build dependencies: finished with status 'done'\n  Getting requirements to build wheel: started\n  Getting requirements to build wheel: finished with status 'done'\n    Preparing wheel metadata: started\n    Preparing wheel metadata: finished with status 'done'\n  WARNING: Generating metadata for package rpy2 produced metadata for project name unknown. Fix your #egg=rpy2 fragments.\nWARNING: Discarding https://files.pythonhosted.org/packages/8b/39/4a9d9e59ba062f156a642af7271bed418584406a6e65c3a23d1ded8c4a77/rpy2-3.5.7.tar.gz#sha256=87a4090379b4fc34e7f3a43471730906776c37398887086a80357d64fdd0654b (from https://pypi.org/simple/rpy2/) (requires-python:>=3.7). Requested unknown from https://files.pythonhosted.org/packages/8b/39/4a9d9e59ba062f156a642af7271bed418584406a6e65c3a23d1ded8c4a77/rpy2-3.5.7.tar.gz#sha256=87a4090379b4fc34e7f3a43471730906776c37398887086a80357d64fdd0654b has inconsistent name: filename has 'rpy2', but metadata has 'UNKNOWN'\n  Downloading rpy2-3.5.6.tar.gz (211 kB)\n  Installing build dependencies: started\n  Installing build dependencies: finished with status 'done'\n  Getting requirements to build wheel: started\n  Getting requirements to build wheel: finished with status 'done'\n    Preparing wheel metadata: started\n    Preparing wheel metadata: finished with status 'done'\n  WARNING: Generating metadata for package rpy2 produced metadata for project name unknown. Fix your #egg=rpy2 fragments.\nWARNING: Discarding https://files.pythonhosted.org/packages/ae/bd/2606e674ef0760fbe832e32274d23a9e2ca5192ab1d43a04ee5e24cf7045/rpy2-3.5.6.tar.gz#sha256=3404f1031d2d8ff8a1002656ab8e394b8ac16dd34ca43af68deed102f396e771 (from https://pypi.org/simple/rpy2/) (requires-python:>=3.7). Requested unknown from https://files.pythonhosted.org/packages/ae/bd/2606e674ef0760fbe832e32274d23a9e2ca5192ab1d43a04ee5e24cf7045/rpy2-3.5.6.tar.gz#sha256=3404f1031d2d8ff8a1002656ab8e394b8ac16dd34ca43af68deed102f396e771 has inconsistent name: filename has 'rpy2', but metadata has 'UNKNOWN'\n  Downloading rpy2-3.5.5.tar.gz (210 kB)\nRequirement already satisfied: cffi>=1.10.0 in /databricks/python3/lib/python3.9/site-packages (from rpy2) (1.14.6)\nRequirement already satisfied: jinja2 in /databricks/python3/lib/python3.9/site-packages (from rpy2) (2.11.3)\nRequirement already satisfied: pytz in /databricks/python3/lib/python3.9/site-packages (from rpy2) (2021.3)\nCollecting tzlocal\n  Downloading tzlocal-5.2-py3-none-any.whl (17 kB)\nRequirement already satisfied: pycparser in /databricks/python3/lib/python3.9/site-packages (from cffi>=1.10.0->rpy2) (2.20)\nRequirement already satisfied: MarkupSafe>=0.23 in /databricks/python3/lib/python3.9/site-packages (from jinja2->rpy2) (2.0.1)\nBuilding wheels for collected packages: rpy2\n  Building wheel for rpy2 (setup.py): started\n  Building wheel for rpy2 (setup.py): finished with status 'done'\n  Created wheel for rpy2: filename=rpy2-3.5.5-cp39-cp39-linux_x86_64.whl size=325451 sha256=6dc8417b12edca11fa2ef07ba4167764957091bcf20a85e69bf15bc6da658fe2\n  Stored in directory: /root/.cache/pip/wheels/e5/de/90/d93fad7c2f1d7164674056eae9334213cf23e02d48b14fa0f1\nSuccessfully built rpy2\nInstalling collected packages: tzlocal, rpy2\nSuccessfully installed rpy2-3.5.5 tzlocal-5.2\nPython interpreter will be restarted.\n"
     ]
    }
   ],
   "source": [
    "%pip install markupsafe==2.0.1\n",
    "%pip install rpy2"
   ]
  },
  {
   "cell_type": "code",
   "execution_count": 0,
   "metadata": {
    "application/vnd.databricks.v1+cell": {
     "cellMetadata": {
      "byteLimit": 2048000,
      "rowLimit": 10000
     },
     "inputWidgets": {},
     "nuid": "163891e3-bb2e-4d5b-8c91-45ad558ec677",
     "showTitle": false,
     "title": ""
    }
   },
   "outputs": [
    {
     "output_type": "display_data",
     "data": {
      "application/vnd.databricks.v1+bamboolib_hint": "{\"pd.DataFrames\": [], \"version\": \"0.0.1\"}",
      "text/plain": []
     },
     "metadata": {},
     "output_type": "display_data"
    }
   ],
   "source": [
    "import pandas as pd\n",
    "import matplotlib.pyplot as plt"
   ]
  },
  {
   "cell_type": "code",
   "execution_count": 0,
   "metadata": {
    "application/vnd.databricks.v1+cell": {
     "cellMetadata": {
      "byteLimit": 2048000,
      "rowLimit": 10000
     },
     "inputWidgets": {},
     "nuid": "45249e7a-16d2-4202-adb7-6ba6482e5814",
     "showTitle": false,
     "title": ""
    }
   },
   "outputs": [
    {
     "output_type": "display_data",
     "data": {
      "text/html": [
       "<style scoped>\n",
       "  .ansiout {\n",
       "    display: block;\n",
       "    unicode-bidi: embed;\n",
       "    white-space: pre-wrap;\n",
       "    word-wrap: break-word;\n",
       "    word-break: break-all;\n",
       "    font-family: \"Menlo\", \"Monaco\", \"Consolas\", \"Ubuntu Mono\", \"Source Code Pro\", monospace;\n",
       "    font-size: 13px;\n",
       "    color: #555;\n",
       "    margin-left: 4px;\n",
       "    line-height: 19px;\n",
       "  }\n",
       "</style>"
      ]
     },
     "metadata": {
      "application/vnd.databricks.v1+output": {
       "arguments": {},
       "data": "",
       "errorSummary": "Cancelled",
       "errorTraceType": "html",
       "metadata": {},
       "type": "ipynbError"
      }
     },
     "output_type": "display_data"
    }
   ],
   "source": [
    "import pandas as pd\n",
    "import pyspark.sql.functions as F\n",
    "def first(lst):\n",
    "  return lst[0]\n",
    "def extract_publication_info(newdf):\n",
    "  #newdf = df_ani.limit(50)\n",
    "  newdf = newdf.select('doi','Eid','year','Au','Au_Af','Au_cors','publication_type','openaccess','issn','source','news_cnt','correspondence','Af')\n",
    "\n",
    "\n",
    "  newdf = newdf.withColumn('Au1', first(newdf['Au']))\n",
    "\n",
    "\n",
    "\n",
    "  newdf = newdf.withColumn('Au2', F.element_at(newdf['Au'], -1))\n",
    "\n",
    "  newdf = newdf.withColumn('num_au', F.size(newdf['Au']))\n",
    "\n",
    "  newdf = newdf.withColumn('Au1_id', F.col('Au1').getItem('auid'))\n",
    "\n",
    "  newdf = newdf.withColumn('Au2_id', F.col('Au2').getItem('auid'))\n",
    "\n",
    "  newdf = newdf.withColumn('Au_cor_id', F.col('Au_cors').getItem('auid'))\n",
    "  #newdf = newdf.withColumn('Au_cor_name', F.col('Au_cors').getItem('given_name'))\n",
    "  #newdf = newdf.withColumn('cor1_given_name', first(newdf['Au_cor_name']))\n",
    "\n",
    "  newdf = newdf.withColumn('cor_seq', F.col('Au_cors').getItem('Authorseq'))\n",
    "  newdf = newdf.withColumn('cor_seq_first', first(newdf['cor_seq']))\n",
    "\n",
    "  newdf = newdf.withColumn('auth_seq', F.col('Au_Af').getItem('Authorseq'))\n",
    "  newdf = newdf.withColumn('aff_seq', F.col('Au_Af').getItem('affiliation_seq'))\n",
    "  newdf = newdf.withColumn(\"auth_pos\", F.expr(\"array_position(auth_seq, cor_seq_first)\"))\n",
    "\n",
    "  newdf = newdf.withColumn(\"auth_pos\", newdf[\"auth_pos\"].cast(IntegerType()))  \n",
    "  #newdf = newdf.filter(F.col('aff_seq').isNotNull())\n",
    "  newdf = newdf.filter(F.col('auth_pos') != 0)\n",
    "  newdf = newdf.withColumn(\"aff\", F.element_at(newdf['aff_seq'], newdf['auth_pos']))\n",
    "  newdf = newdf.withColumn(\"aff_val\", F.element_at(newdf['Af'], newdf['aff']))\n",
    "  newdf = newdf.withColumn(\"cor_afid\", F.col('aff_val').getItem('afid'))\n",
    "\n",
    "  newdf = newdf.withColumn('given_seq', F.col('Au').getItem('given_name'))\n",
    "  newdf = newdf.withColumn(\"cor1_given_name\", F.element_at(newdf['given_seq'], newdf['cor_seq_first']))\n",
    "  display(newdf.limit(10))\n",
    "\n",
    "  return newdf\n",
    "def get_smc_classification(newdf):\n",
    "  df_smc_ani = spark.read.format(\"parquet\").load(basePath+tablename_smc_complete)\n",
    "  newdf2 = newdf.join(df_smc_ani,'Eid', 'inner')\n",
    "  return newdf2\n",
    "\n",
    "def get_gender(newdf):\n",
    "  df_gender = spark.read.format(\"parquet\").load(basePath+tablename_gender_inference)\n",
    "  #non_null_count = newdf.where(F.col('Au1_id').isNotNull()).count()\n",
    "  mergedf = df_gender.join(newdf, newdf.Au1_id == df_gender.auid, 'inner').select(\n",
    "      df_gender.Inferred_Probable_Gender,newdf.doi,newdf.news_cnt,newdf.Au,newdf.Eid, newdf.year, newdf.publication_type,newdf.openaccess, newdf.issn, \n",
    "      newdf.num_au, newdf.Au1_id,newdf.Au2_id,newdf.Au_cor_id, newdf.srcid, newdf.subfield_article, newdf.subfield_journal, newdf.subfield_hybrid,newdf.correspondence,\n",
    "      newdf.cor1_given_name, newdf.cor_afid)\n",
    "  mergedf = mergedf.withColumnRenamed('Inferred_Probable_Gender', 'Au1_gender')\n",
    "\n",
    "  mergedf2 = df_gender.join(mergedf, mergedf.Au2_id == df_gender.auid, 'inner').select(\n",
    "      df_gender.Inferred_Probable_Gender, mergedf.doi,mergedf.news_cnt,mergedf.Au,mergedf.Eid, mergedf.year, mergedf.publication_type,mergedf.openaccess, mergedf.issn, \n",
    "      mergedf.num_au, mergedf.Au1_id,mergedf.Au2_id,mergedf.Au_cor_id, mergedf.srcid, mergedf.subfield_article, mergedf.subfield_journal, mergedf.subfield_hybrid, mergedf.Au1_gender,mergedf.correspondence,mergedf.cor1_given_name,mergedf.cor_afid)\n",
    "  mergedf2 = mergedf2.withColumnRenamed('Inferred_Probable_Gender', 'Au2_gender')\n",
    "\n",
    "  #mergedf2 = mergedf2.withColumn('no_cor', F.size(mergedf2['Au_cor_id']))\n",
    "  #display(\"len os final4 \", mergedf2.count(),\"\\n\")\n",
    "\n",
    "  mergedf2 = mergedf2.withColumn('cor_au1', first(mergedf2['Au_cor_id']))\n",
    "\n",
    "  #display(final_data4.limit(20))\n",
    "\n",
    "  mergedf3 = mergedf2.filter(F.col('cor_au1').isNotNull())\n",
    "  display(\"no of not null cor au\",mergedf3.count(),\"\\n\")\n",
    "\n",
    "  mergedf4 = df_gender.join(mergedf3, mergedf3.cor_au1 == df_gender.auid, 'inner').select(\n",
    "      df_gender.Inferred_Probable_Gender, mergedf3.doi,mergedf3.news_cnt,mergedf3.Au,mergedf3.Eid, mergedf3.year, mergedf3.publication_type,mergedf3.openaccess, mergedf3.issn, \n",
    "      mergedf3.num_au, mergedf3.Au1_id,mergedf3.Au2_id,mergedf3.Au_cor_id, mergedf3.srcid, mergedf3.subfield_article, mergedf3.subfield_journal, mergedf3.subfield_hybrid, mergedf3.Au1_gender,mergedf3.Au2_gender,mergedf3.cor_au1,mergedf3.correspondence,mergedf3.cor1_given_name, mergedf3.cor_afid)\n",
    "  mergedf4 = mergedf4.withColumnRenamed('Inferred_Probable_Gender', 'cor_gender')\n",
    "\n",
    "  return mergedf4\n",
    "\n",
    "def merge_news_cnt(scop):\n",
    "  scop = scop.filter(func.col('year') >= 2018)\n",
    "  scop = scop.filter(func.col('year') <= 2022)\n",
    "  df1 = spark.read.format(\"csv\").option(\"header\", \"true\").load(\"dbfs:/FileStore/shared_uploads/arabi2@wisc.edu/doi_news_final.csv\")\n",
    "  display(\"# doi data from crossref and altmetric \",df1.count(),\"\\n\")\n",
    "  df = scop.join(df1, 'doi','inner')\n",
    "  df = df.withColumn(\"news_cnt\", df[\"news_cnt\"].cast(IntegerType()))\n",
    "  return df\n",
    "\n",
    "from pyspark.sql.functions import lower\n",
    "\n",
    "df_ani = spark.read.format(\"parquet\").load(basePath+tablename_ani)\n",
    "\n",
    "display(\"len of df_ani \",df_ani.count(),\"\\n\")\n",
    "dd = df_ani.withColumn('language', first(df_ani['meta_language']))\n",
    "d1 = dd.withColumn('language_s', lower(dd['language']))\n",
    "\n",
    "d2 = d1.filter(func.col('language_s') == 'english')\n",
    "display(\"len of df_ani in english \",d2.count(),\"\\n\")\n",
    "\n",
    "with_news = merge_news_cnt(d2)\n",
    "display(\"merged data len between crossref and scopus \",with_news.count(),\"\\n\")\n",
    "\n",
    "newdf = extract_publication_info(with_news)\n",
    "\n",
    "df_class = get_smc_classification(newdf)\n",
    "final_data = get_gender(df_class)\n",
    "display(final_data.count(),\"\\n\")\n",
    "final_data2 = final_data.dropna(subset=[\"doi\"])\n",
    "display(final_data2.count(),\"\\n\")\n",
    "\n",
    "##extracting sci_val topic for each publication\n",
    "df_top_eids = spark.read.format(\"parquet\").load(basePath+tablename_top_topic_eid)\n",
    "\n",
    "final_data3 = final_data2.join(df_top_eids,'Eid','inner')\n",
    "#display(final_data3.count())\n",
    "display(final_data3.limit(10))\n",
    "\n",
    "\n",
    "import pyspark.sql.functions as F\n",
    "import pyspark.sql.column as C\n",
    "\n",
    "def find_sjr(met,yy,yr):\n",
    "\n",
    "  ylst = F.tolist(yy)\n",
    "\n",
    "  #index = ylst.index(yr)\n",
    "  #sjr = m[index]\n",
    "  return m\n",
    "\n",
    "\n",
    "df_sources = spark.read.format(\"parquet\").load(basePath+tablename_sources)\n",
    "\n",
    "data = final_data3.join(df_sources,'srcid','inner').select(df_sources.metrics_calculations,df_sources.sourcetitle,df_sources.openaccess_status,final_data3.srcid,final_data3.doi,final_data3.news_cnt,final_data3.year,\n",
    "final_data3.publication_type, final_data3.issn, final_data3.num_au,final_data3.Au1_id, final_data3.subfield_article,final_data3.subfield_journal, final_data3.Au1_gender,final_data3.TopicId, \n",
    "final_data3.cor_gender,final_data3.cor_au1,final_data3.correspondence, final_data3.cor1_given_name, final_data3.cor_afid)\n",
    "\n",
    "display(\"len of merged data between src \", data.count(),\"\\n\")\n",
    "\n",
    "data = data.withColumn('SJR_lst', F.col('metrics_calculations').getItem('SJR'))\n",
    "data = data.withColumn('year_SJR', F.col('metrics_calculations').getItem('year'))\n",
    "\n",
    "#data = data.withColumn('SJR', find_sjr(data['SJR_lst'],data['year_SJR'], data['year']))\n",
    "data = data.withColumn(\"pos\", F.expr(\"array_position(year_SJR, year)\"))\n",
    "\n",
    "\n",
    "data = data.withColumn(\"pos\", data[\"pos\"].cast(IntegerType()))  \n",
    "data = data.withColumn(\"SJR\", F.element_at(data['SJR_lst'], data['pos']))\n",
    "\n",
    "data = data.withColumn('cor_af', first(data['correspondence']))\n",
    "data = data.withColumn('cor_coun', F.col('cor_af').getItem('country'))\n",
    "\n",
    "\n",
    "\n",
    "import pycountry\n",
    "import pyspark.sql.functions as F\n",
    "\n",
    "def convert_country_short_name(country_short_name):\n",
    "  #country = pycountry.countries.get(alpha_2=country_short_name)\n",
    "  if len(country_short_name) == 3:\n",
    "    country = pycountry.countries.get(alpha_3=country_short_name)\n",
    "  else:\n",
    "    country = pycountry.countries.get(alpha_2=country_short_name)\n",
    "\n",
    "  return country.name if country else None\n",
    "\n",
    "@F.udf(returnType=F.StringType())\n",
    "def my_udf(country_short_name):\n",
    "  return convert_country_short_name(country_short_name)\n",
    "\n",
    "data = data.filter(F.col('cor_coun').isNotNull())\n",
    "data = data.withColumn(\"country_name\", my_udf(data[\"cor_coun\"]))\n",
    "#un_full_coun = un_name.withColumn(\"country_name\", my_udf(un_name[\"cor_coun\"]))\n",
    "\n",
    "df_ipr = spark.read.format(\"parquet\").load(basePath+tablename_ipr)\n",
    "data = data.join(df_ipr,[data.cor_afid == df_ipr.afid],'inner')\n",
    "display(data.limit(10))\n",
    "\n",
    "val_data = data.filter(func.col('cor_gender') != 'unknown')\n",
    "\n",
    "#val_un = data.filter(func.col('cor_gender') == 'unknown')\n",
    "\n",
    "\n",
    "\n",
    "display(\"len of data whose cor_gender is not unknown \",val_data.count(),\"\\n\")\n",
    "\n",
    "display(val_data.limit(5),\"\\n\")\n",
    "\n",
    "\n",
    "#val_un = data.filter(func.col('cor_gender') == 'unknown')\n",
    "df_apr = spark.read.format(\"parquet\").load(basePath+tablename_apr)\n",
    "#un_full_coun = val_un.join(df_apr,val_un.cor_au1 == df_apr.auid,'inner')\n",
    "un_full_coun = data.filter(func.col('cor_gender') == 'unknown')\n",
    "\n",
    "display(\"len of unknown name \", un_full_coun.count(),\"\\n\")\n",
    "un_full_coun = un_full_coun.filter(F.col('cor1_given_name').isNotNull())\n",
    "un_full_coun = un_full_coun.filter(F.col('country_name').isNotNull())\n",
    "display(\"len of unknown name after dropping null country and given name \", un_full_coun.count(),\"\\n\")\n",
    "df_wos = spark.read.format(\"csv\").option(\"header\", \"true\").load(\"dbfs:/FileStore/shared_uploads/arabi2@wisc.edu/wos_gender_firstname.csv\")\n",
    "#df_wos.printSchema()\n",
    "#df_wos = df_wos.filter(func.col('country') == 'China')\n",
    "newfile = un_full_coun.join(df_wos,[un_full_coun.cor1_given_name == df_wos.givenname,un_full_coun.country_name == df_wos.country],'inner')\n",
    "display(\"len or merged gender with wos \", newfile.count(),\"\\n\")"
   ]
  },
  {
   "cell_type": "code",
   "execution_count": 0,
   "metadata": {
    "application/vnd.databricks.v1+cell": {
     "cellMetadata": {
      "byteLimit": 2048000,
      "rowLimit": 10000
     },
     "inputWidgets": {},
     "nuid": "29950bb5-05dd-4303-bd96-2f22cfe1ff90",
     "showTitle": false,
     "title": ""
    }
   },
   "outputs": [
    {
     "output_type": "display_data",
     "data": {
      "text/html": [
       "<style scoped>\n",
       "  .ansiout {\n",
       "    display: block;\n",
       "    unicode-bidi: embed;\n",
       "    white-space: pre-wrap;\n",
       "    word-wrap: break-word;\n",
       "    word-break: break-all;\n",
       "    font-family: \"Menlo\", \"Monaco\", \"Consolas\", \"Ubuntu Mono\", \"Source Code Pro\", monospace;\n",
       "    font-size: 13px;\n",
       "    color: #555;\n",
       "    margin-left: 4px;\n",
       "    line-height: 19px;\n",
       "  }\n",
       "</style>"
      ]
     },
     "metadata": {
      "application/vnd.databricks.v1+output": {
       "arguments": {},
       "data": "",
       "errorSummary": "Cancelled",
       "errorTraceType": "html",
       "metadata": {},
       "type": "ipynbError"
      }
     },
     "output_type": "display_data"
    }
   ],
   "source": [
    "ddf2 = newfile.drop(\"cor_gender\")\n",
    "ddf3 = ddf2.withColumnRenamed(\"gender\", \"cor_gender\")\n",
    "#ddf3.printSchema()\n",
    "#display(ddf3.select('cor_gender').distinct())\n",
    "ddf4 = ddf3.select('srcid','openaccess_status','doi','news_cnt','year','issn','num_au','cor_gender','TopicId','Au1_gender','country_name','SJR','subfield_article','preferred_name','org_type','cor_au1').toPandas()\n",
    "print(ddf4.head(5)) \n",
    "\n",
    "ddfx = val_data.select('srcid','openaccess_status','doi','news_cnt','year','issn','num_au','cor_gender','TopicId','Au1_gender','country_name','SJR','subfield_article','preferred_name','org_type','cor_au1').toPandas()\n",
    "display(len(ddfx),\"\\n\")\n",
    "display(len(ddf4),\"\\n\")\n",
    "ddf = ddfx.append(ddf4, ignore_index = True)\n",
    "display(len(ddf),\"\\n\")"
   ]
  },
  {
   "cell_type": "code",
   "execution_count": 0,
   "metadata": {
    "application/vnd.databricks.v1+cell": {
     "cellMetadata": {
      "byteLimit": 2048000,
      "rowLimit": 10000
     },
     "inputWidgets": {},
     "nuid": "e3a85b10-502f-4765-aa4d-9c8bfac2021d",
     "showTitle": false,
     "title": ""
    }
   },
   "outputs": [
    {
     "output_type": "display_data",
     "data": {
      "text/html": [
       "<style scoped>\n",
       "  .ansiout {\n",
       "    display: block;\n",
       "    unicode-bidi: embed;\n",
       "    white-space: pre-wrap;\n",
       "    word-wrap: break-word;\n",
       "    word-break: break-all;\n",
       "    font-family: \"Menlo\", \"Monaco\", \"Consolas\", \"Ubuntu Mono\", \"Source Code Pro\", monospace;\n",
       "    font-size: 13px;\n",
       "    color: #555;\n",
       "    margin-left: 4px;\n",
       "    line-height: 19px;\n",
       "  }\n",
       "</style>"
      ]
     },
     "metadata": {
      "application/vnd.databricks.v1+output": {
       "arguments": {},
       "data": "",
       "errorSummary": "Cancelled",
       "errorTraceType": "html",
       "metadata": {},
       "type": "ipynbError"
      }
     },
     "output_type": "display_data"
    }
   ],
   "source": [
    "###new version\n",
    "smc = spark.read.format(\"csv\").option(\"header\", \"true\").load(\"dbfs:/FileStore/shared_uploads/arabi2@wisc.edu/sm_journal_classification.csv\")\n",
    "smc = smc.select('Domain_English','Field_English','SubField_English').toPandas()\n",
    "smc = smc.dropna()\n",
    "smc = smc.drop_duplicates()\n",
    "print(len(smc))\n",
    "smc['SubField_English'] = smc['SubField_English'].str.lower()\n",
    "ddf['subfield_article'] = ddf['subfield_article'].str.lower()\n",
    "\n",
    "#print(smc.dtypes)\n",
    "total = smc.merge(ddf,left_on='SubField_English',right_on = 'subfield_article',how = 'inner')\n",
    "print(len(total))"
   ]
  },
  {
   "cell_type": "code",
   "execution_count": 0,
   "metadata": {
    "application/vnd.databricks.v1+cell": {
     "cellMetadata": {
      "byteLimit": 2048000,
      "rowLimit": 10000
     },
     "inputWidgets": {},
     "nuid": "9be86b49-8711-4eef-8d9d-7aa806d0ff31",
     "showTitle": false,
     "title": ""
    }
   },
   "outputs": [
    {
     "output_type": "display_data",
     "data": {
      "text/html": [
       "<style scoped>\n",
       "  .ansiout {\n",
       "    display: block;\n",
       "    unicode-bidi: embed;\n",
       "    white-space: pre-wrap;\n",
       "    word-wrap: break-word;\n",
       "    word-break: break-all;\n",
       "    font-family: \"Menlo\", \"Monaco\", \"Consolas\", \"Ubuntu Mono\", \"Source Code Pro\", monospace;\n",
       "    font-size: 13px;\n",
       "    color: #555;\n",
       "    margin-left: 4px;\n",
       "    line-height: 19px;\n",
       "  }\n",
       "</style>"
      ]
     },
     "metadata": {
      "application/vnd.databricks.v1+output": {
       "arguments": {},
       "data": "",
       "errorSummary": "Cancelled",
       "errorTraceType": "html",
       "metadata": {},
       "type": "ipynbError"
      }
     },
     "output_type": "display_data"
    }
   ],
   "source": [
    "us = total[total['country_name'] == 'United States']\n",
    "print(len(us))\n",
    "#us.to_csv(\"/dbfs/FileStore/shared_uploads/arabi2@wisc.edu/us.csv\", index = False)"
   ]
  },
  {
   "cell_type": "markdown",
   "metadata": {
    "application/vnd.databricks.v1+cell": {
     "cellMetadata": {
      "byteLimit": 2048000,
      "rowLimit": 10000
     },
     "inputWidgets": {},
     "nuid": "2be29d2e-1de1-490a-9cd3-046094af2a21",
     "showTitle": false,
     "title": ""
    }
   },
   "source": [
    "##Read saved file and extract the US authors and Descriptive analysis of the dataset"
   ]
  },
  {
   "cell_type": "code",
   "execution_count": 0,
   "metadata": {
    "application/vnd.databricks.v1+cell": {
     "cellMetadata": {
      "byteLimit": 2048000,
      "rowLimit": 10000
     },
     "inputWidgets": {},
     "nuid": "7a15c8b7-3f48-4e5a-bb87-cdc5557a3093",
     "showTitle": false,
     "title": ""
    }
   },
   "outputs": [
    {
     "output_type": "display_data",
     "data": {
      "application/vnd.databricks.v1+bamboolib_hint": "{\"pd.DataFrames\": [], \"version\": \"0.0.1\"}",
      "text/plain": []
     },
     "metadata": {},
     "output_type": "display_data"
    },
    {
     "output_type": "stream",
     "name": "stdout",
     "output_type": "stream",
     "text": [
      "Domain_English        object\nField_English         object\nSubField_English      object\nsrcid                  int64\nopenaccess_status     object\ndoi                   object\nnews_cnt               int64\nyear                   int64\nissn                  object\nnum_au                 int64\ncor_gender            object\nTopicId                int64\nAu1_gender            object\ncountry_name          object\nSJR                  float64\nsubfield_article      object\npreferred_name        object\norg_type              object\ncor_au1                int64\ndtype: object\nlen of total  1014175\n1014077\nlen of total after dropping duplicate dois  1014077\n"
     ]
    }
   ],
   "source": [
    "import pandas as pd\n",
    "total = pd.read_csv(\"/dbfs/FileStore/shared_uploads/arabi2@wisc.edu/us_media_analysis.csv\")\n",
    "print(total.dtypes)\n",
    "\n",
    "print(\"len of total \", len(total))\n",
    "print(total['doi'].nunique())\n",
    "total = total.drop_duplicates(subset = ['doi'])\n",
    "\n",
    "print(\"len of total after dropping duplicate dois \", len(total))"
   ]
  },
  {
   "cell_type": "code",
   "execution_count": 0,
   "metadata": {
    "application/vnd.databricks.v1+cell": {
     "cellMetadata": {
      "byteLimit": 2048000,
      "rowLimit": 10000
     },
     "inputWidgets": {},
     "nuid": "158a0627-2a27-4407-89b6-9c2ca11daf41",
     "showTitle": false,
     "title": ""
    }
   },
   "outputs": [
    {
     "output_type": "display_data",
     "data": {
      "text/html": [
       "<style scoped>\n",
       "  .ansiout {\n",
       "    display: block;\n",
       "    unicode-bidi: embed;\n",
       "    white-space: pre-wrap;\n",
       "    word-wrap: break-word;\n",
       "    word-break: break-all;\n",
       "    font-family: \"Menlo\", \"Monaco\", \"Consolas\", \"Ubuntu Mono\", \"Source Code Pro\", monospace;\n",
       "    font-size: 13px;\n",
       "    color: #555;\n",
       "    margin-left: 4px;\n",
       "    line-height: 19px;\n",
       "  }\n",
       "</style>"
      ]
     },
     "metadata": {
      "application/vnd.databricks.v1+output": {
       "arguments": {},
       "data": "",
       "errorSummary": "Cancelled",
       "errorTraceType": "html",
       "metadata": {},
       "type": "ipynbError"
      }
     },
     "output_type": "display_data"
    }
   ],
   "source": [
    "#total[total['issn'] == \"00280836\"]\n",
    "#total['subfield_article'].nunique()"
   ]
  },
  {
   "cell_type": "code",
   "execution_count": 0,
   "metadata": {
    "application/vnd.databricks.v1+cell": {
     "cellMetadata": {
      "byteLimit": 2048000,
      "rowLimit": 10000
     },
     "inputWidgets": {},
     "nuid": "e03c38e5-d121-4a48-bf40-b3edb8ee0313",
     "showTitle": false,
     "title": ""
    }
   },
   "outputs": [
    {
     "output_type": "stream",
     "name": "stdout",
     "output_type": "stream",
     "text": [
      "1014077\n1014035\n1014035\n129428\n884607\n"
     ]
    }
   ],
   "source": [
    "#total['cor_gender'].unique() //array(['female', 'male', 'M', 'F', 'f', 'm'], dtype=object)\n",
    "ret = spark.read.format(\"csv\").option(\"header\", \"true\").load(\"dbfs:/FileStore/shared_uploads/arabi2@wisc.edu/retrected_doi_wos.csv\")\n",
    "retracted = ret.select('doi').toPandas()\n",
    "ids_to_remove = retracted['doi']\n",
    "print(len(total))\n",
    "total2 = total[~total['doi'].isin(ids_to_remove)]\n",
    "print(len(total2))\n",
    "us = total2[total2['country_name'] == 'United States']\n",
    "print(len(us))\n",
    "print(len(us[us['news_cnt'] > 0]))\n",
    "print(len(us[us['news_cnt'] <= 0]))"
   ]
  },
  {
   "cell_type": "code",
   "execution_count": 0,
   "metadata": {
    "application/vnd.databricks.v1+cell": {
     "cellMetadata": {
      "byteLimit": 2048000,
      "rowLimit": 10000
     },
     "inputWidgets": {},
     "nuid": "3cb29249-8299-4a18-a844-a3b27358d093",
     "showTitle": false,
     "title": ""
    }
   },
   "outputs": [
    {
     "output_type": "stream",
     "name": "stdout",
     "output_type": "stream",
     "text": [
      "1014035\n"
     ]
    }
   ],
   "source": [
    "dummy = us.copy()\n",
    "dummy = dummy.dropna(subset = ['cor_gender'])\n",
    "print(len(dummy))\n",
    "gender = []\n",
    "for ind in dummy.index:\n",
    "    if dummy['cor_gender'][ind] == \"female\" or dummy['cor_gender'][ind] == \"f\" or dummy['cor_gender'][ind] == \"F\":\n",
    "        gender.append(\"female\")\n",
    "    elif dummy['cor_gender'][ind] == \"male\" or dummy['cor_gender'][ind] == \"m\" or dummy['cor_gender'][ind] == \"M\": ##there is no null value in gender, so it is safe to say that if someone is not female, he must be male\n",
    "        gender.append(\"male\")\n",
    "dummy['gender'] = gender"
   ]
  },
  {
   "cell_type": "markdown",
   "metadata": {
    "application/vnd.databricks.v1+cell": {
     "cellMetadata": {
      "byteLimit": 2048000,
      "rowLimit": 10000
     },
     "inputWidgets": {},
     "nuid": "e6195e67-c994-4852-8041-f983cc26fdd6",
     "showTitle": false,
     "title": ""
    }
   },
   "source": [
    "#### total distribution of gender in US"
   ]
  },
  {
   "cell_type": "code",
   "execution_count": 0,
   "metadata": {
    "application/vnd.databricks.v1+cell": {
     "cellMetadata": {
      "byteLimit": 2048000,
      "rowLimit": 10000
     },
     "inputWidgets": {},
     "nuid": "b9facdbd-9e92-4265-9e3b-7472a92347e9",
     "showTitle": false,
     "title": ""
    }
   },
   "outputs": [
    {
     "output_type": "stream",
     "name": "stdout",
     "output_type": "stream",
     "text": [
      "percent of male in US corresponding author  62.9459535420375\npercent of female in US corresponding author  37.0540464579625\n"
     ]
    }
   ],
   "source": [
    "male = dummy[dummy['gender'] == \"male\"]\n",
    "female = dummy[dummy['gender'] == \"female\"]\n",
    "print(\"percent of male in US corresponding author \",(len(male)/len(dummy))*100)\n",
    "print(\"percent of female in US corresponding author \",(len(female)/len(dummy))*100)"
   ]
  },
  {
   "cell_type": "markdown",
   "metadata": {
    "application/vnd.databricks.v1+cell": {
     "cellMetadata": {
      "byteLimit": 2048000,
      "rowLimit": 10000
     },
     "inputWidgets": {},
     "nuid": "0cf66823-c1ca-4ad0-ab60-6e37d5445113",
     "showTitle": false,
     "title": ""
    }
   },
   "source": [
    "#### proportion of female corresponding author in the entire dataset"
   ]
  },
  {
   "cell_type": "code",
   "execution_count": 0,
   "metadata": {
    "application/vnd.databricks.v1+cell": {
     "cellMetadata": {
      "byteLimit": 2048000,
      "rowLimit": 10000
     },
     "inputWidgets": {},
     "nuid": "7c6e0bfc-08b6-4f23-ae06-aff691b73c94",
     "showTitle": false,
     "title": ""
    }
   },
   "outputs": [
    {
     "output_type": "stream",
     "name": "stdout",
     "output_type": "stream",
     "text": [
      "Applied Sciences   0.2756088571347566   141084\nArts & Humanities   0.45486941224232036   22169\nEconomic & Social Sciences   0.45574042200548226   78435\nHealth Sciences   0.40573102682282836   601428\nNatural Sciences   0.27503671329694185   170919\n"
     ]
    }
   ],
   "source": [
    "for i in dummy['Domain_English'].unique():\n",
    "    x = dummy[dummy['Domain_English'] == i]\n",
    "    f = x[x['gender'] == \"female\"]\n",
    "    print(i,\" \",len(f)/len(x), \" \",len(x))"
   ]
  },
  {
   "cell_type": "markdown",
   "metadata": {
    "application/vnd.databricks.v1+cell": {
     "cellMetadata": {},
     "inputWidgets": {},
     "nuid": "55d9b687-9619-416b-864f-e4e1790b1a60",
     "showTitle": false,
     "title": ""
    }
   },
   "source": [
    "### proportion of female corresponding author in the entire dataset for fig 5"
   ]
  },
  {
   "cell_type": "code",
   "execution_count": 0,
   "metadata": {
    "application/vnd.databricks.v1+cell": {
     "cellMetadata": {
      "byteLimit": 2048000,
      "rowLimit": 10000
     },
     "inputWidgets": {},
     "nuid": "de47ea71-347e-4eb1-bd2e-ad40e0e22098",
     "showTitle": false,
     "title": ""
    }
   },
   "outputs": [
    {
     "output_type": "stream",
     "name": "stdout",
     "output_type": "stream",
     "text": [
      "['Agriculture, Fisheries & Forestry', 'Built Environment & Design', 'Enabling & Strategic Technologies', 'Engineering', 'Information & Communication Technologies', 'Communication & Textual Studies', 'Historical Studies', 'Philosophy & Theology', 'Visual & Performing Arts', 'Economics & Business ', 'Social Sciences', 'Biomedical Research', 'Clinical Medicine', 'Psychology & Cognitive Sciences', 'Public Health & Health Services', 'Biology', 'Chemistry', 'Earth & Environmental Sciences', 'Mathematics & Statistics', 'Physics & Astronomy']\n[0.3803458955353725, 0.3469635627530364, 0.23360429617096407, 0.23784612609362316, 0.28459437588509, 0.5281219272369715, 0.470699731480019, 0.2988847583643123, 0.4340277777777778, 0.3145703353900245, 0.5386047264486888, 0.35934419633876485, 0.3661885019069566, 0.5636568612028735, 0.6212673637267605, 0.3822159028765176, 0.21158025837016778, 0.33693880574899987, 0.22333912780591036, 0.20034977741437268]\n"
     ]
    }
   ],
   "source": [
    "val = []\n",
    "fld = []\n",
    "for i in dummy['Field_English'].unique():\n",
    "    x = dummy[dummy['Field_English'] == i]\n",
    "    f = x[x['gender'] == \"female\"]\n",
    "    #print(i,\" \",len(f)/len(x), \" \",len(x))\n",
    "    val.append(len(f)/len(x))\n",
    "    fld.append(i)\n",
    "print(fld)\n",
    "print(val)"
   ]
  },
  {
   "cell_type": "markdown",
   "metadata": {
    "application/vnd.databricks.v1+cell": {
     "cellMetadata": {
      "byteLimit": 2048000,
      "rowLimit": 10000
     },
     "inputWidgets": {},
     "nuid": "ef1f7d41-7eff-40ec-8a47-32e6ad07beca",
     "showTitle": false,
     "title": ""
    }
   },
   "source": [
    "#### proportion of female corresponding author in the cited dois"
   ]
  },
  {
   "cell_type": "code",
   "execution_count": 0,
   "metadata": {
    "application/vnd.databricks.v1+cell": {
     "cellMetadata": {
      "byteLimit": 2048000,
      "rowLimit": 10000
     },
     "inputWidgets": {},
     "nuid": "5d24ffb6-9d82-4244-9fec-e82d43fcda9b",
     "showTitle": false,
     "title": ""
    }
   },
   "outputs": [
    {
     "output_type": "stream",
     "name": "stdout",
     "output_type": "stream",
     "text": [
      "Applied Sciences   0.28761604484147835   11418\nArts & Humanities   0.44611528822055135   1596\nEconomic & Social Sciences   0.43682030036250646   7724\nHealth Sciences   0.4031598839764437   91016\nNatural Sciences   0.2980083738825393   17674\n"
     ]
    }
   ],
   "source": [
    "for i in dummy['Domain_English'].unique():\n",
    "    x = dummy[dummy['Domain_English'] == i]\n",
    "    x = x[x['news_cnt'] > 0]\n",
    "    f = x[x['gender'] == \"female\"]\n",
    "    print(i,\" \",len(f)/len(x),\" \",len(x))"
   ]
  },
  {
   "cell_type": "code",
   "execution_count": 0,
   "metadata": {
    "application/vnd.databricks.v1+cell": {
     "cellMetadata": {
      "byteLimit": 2048000,
      "rowLimit": 10000
     },
     "inputWidgets": {},
     "nuid": "f3fb826f-bb9e-484c-bb68-26d48f523b49",
     "showTitle": false,
     "title": ""
    }
   },
   "outputs": [
    {
     "output_type": "stream",
     "name": "stdout",
     "output_type": "stream",
     "text": [
      "Agriculture, Fisheries & Forestry   0.4230769230769231   2210\nBuilt Environment & Design   0.3716577540106952   374\nEnabling & Strategic Technologies   0.23098278734036645   5403\nEngineering   0.25940054495912807   1835\nInformation & Communication Technologies   0.30451127819548873   1596\nCommunication & Textual Studies   0.5101265822784811   790\nHistorical Studies   0.3911504424778761   565\nPhilosophy & Theology   0.3640552995391705   217\nVisual & Performing Arts   0.375   24\nEconomics & Business    0.350952894642215   2781\nSocial Sciences   0.48513048755816307   4943\nBiomedical Research   0.335930514752842   15658\nClinical Medicine   0.3719642980696049   57812\nPsychology & Cognitive Sciences   0.5475105485232068   5925\nPublic Health & Health Services   0.5753377506238706   11621\nBiology   0.3758763543658381   6276\nChemistry   0.19522935779816514   2725\nEarth & Environmental Sciences   0.3411949685534591   4452\nMathematics & Statistics   0.2986111111111111   144\nPhysics & Astronomy   0.19965661025263673   4077\n"
     ]
    }
   ],
   "source": [
    "for i in dummy['Field_English'].unique():\n",
    "    x = dummy[dummy['Field_English'] == i]\n",
    "    x = x[x['news_cnt'] > 0]\n",
    "    f = x[x['gender'] == \"female\"]\n",
    "    print(i,\" \",len(f)/len(x),\" \",len(x))"
   ]
  },
  {
   "cell_type": "code",
   "execution_count": 0,
   "metadata": {
    "application/vnd.databricks.v1+cell": {
     "cellMetadata": {
      "byteLimit": 2048000,
      "rowLimit": 10000
     },
     "inputWidgets": {},
     "nuid": "bdfb0ee7-9b37-44e6-9520-ca67eb762cc0",
     "showTitle": false,
     "title": ""
    }
   },
   "outputs": [
    {
     "output_type": "stream",
     "name": "stdout",
     "output_type": "stream",
     "text": [
      "2018   0.3584159258156451\n2019   0.37256677229515617\n2020   0.37163594552836765\n2021   0.3964046796233474\n2022   0.4083537102649833\n"
     ]
    }
   ],
   "source": [
    "yr = 2018\n",
    "while yr <= 2022:\n",
    "    a = dummy[dummy['year'] == yr]\n",
    "    a = a[a['news_cnt'] > 0]\n",
    "    fm = a[a['gender'] == \"female\"]\n",
    "    print(yr,\" \",len(fm)/len(a))\n",
    "    yr += 1"
   ]
  },
  {
   "cell_type": "markdown",
   "metadata": {
    "application/vnd.databricks.v1+cell": {
     "cellMetadata": {
      "byteLimit": 2048000,
      "rowLimit": 10000
     },
     "inputWidgets": {},
     "nuid": "b45d47a6-5142-43dc-9dcc-28c27366a8cf",
     "showTitle": false,
     "title": ""
    }
   },
   "source": [
    "#### Distribution of gender in cited group"
   ]
  },
  {
   "cell_type": "code",
   "execution_count": 0,
   "metadata": {
    "application/vnd.databricks.v1+cell": {
     "cellMetadata": {
      "byteLimit": 2048000,
      "rowLimit": 10000
     },
     "inputWidgets": {},
     "nuid": "7d5308ce-cf63-49d9-a446-dab0c5820da7",
     "showTitle": false,
     "title": ""
    }
   },
   "outputs": [
    {
     "output_type": "stream",
     "name": "stdout",
     "output_type": "stream",
     "text": [
      "129428\npercent of male in cited US author  61.88537256235127\npercent of female in cited US author  38.11462743764873\n"
     ]
    }
   ],
   "source": [
    "cited = dummy[dummy['news_cnt'] > 0]\n",
    "print(len(cited))\n",
    "\n",
    "male = cited[cited['gender'] == \"male\"]\n",
    "female = cited[cited['gender'] == \"female\"]\n",
    "print(\"percent of male in cited US author \",(len(male)/len(cited))*100)\n",
    "print(\"percent of female in cited US author \",(len(female)/len(cited))*100)"
   ]
  },
  {
   "cell_type": "markdown",
   "metadata": {
    "application/vnd.databricks.v1+cell": {
     "cellMetadata": {
      "byteLimit": 2048000,
      "rowLimit": 10000
     },
     "inputWidgets": {},
     "nuid": "c48aa772-4a2b-4158-ba19-c13977e9e75e",
     "showTitle": false,
     "title": ""
    }
   },
   "source": [
    "#### percent of cited female stratified by year"
   ]
  },
  {
   "cell_type": "code",
   "execution_count": 0,
   "metadata": {
    "application/vnd.databricks.v1+cell": {
     "cellMetadata": {
      "byteLimit": 2048000,
      "rowLimit": 10000
     },
     "inputWidgets": {},
     "nuid": "5f027166-29d2-420f-9e7e-49294bee2019",
     "showTitle": false,
     "title": ""
    }
   },
   "outputs": [
    {
     "output_type": "stream",
     "name": "stdout",
     "output_type": "stream",
     "text": [
      "percent of male in cited US author  63.40844113001579\npercent of female in cited US author  36.591558869984205\npercent of male in cited US author  60.92606817695282\npercent of female in cited US author  39.07393182304719\n"
     ]
    }
   ],
   "source": [
    "y18 = dummy[dummy['year'] <= 2019]\n",
    "\n",
    "y20 = dummy[dummy['year'] >= 2020]\n",
    "\n",
    "cited_18 = y18[y18['news_cnt'] > 0]\n",
    "cited_20 = y20[y20['news_cnt'] > 0]\n",
    "\n",
    "male = cited_18[cited_18['gender'] == \"male\"]\n",
    "female = cited_18[cited_18['gender'] == \"female\"]\n",
    "print(\"percent of male in cited US author \",(len(male)/len(cited_18))*100)\n",
    "print(\"percent of female in cited US author \",(len(female)/len(cited_18))*100)\n",
    "\n",
    "\n",
    "male = cited_20[cited_20['gender'] == \"male\"]\n",
    "female = cited_20[cited_20['gender'] == \"female\"]\n",
    "print(\"percent of male in cited US author \",(len(male)/len(cited_20))*100)\n",
    "print(\"percent of female in cited US author \",(len(female)/len(cited_20))*100)"
   ]
  },
  {
   "cell_type": "markdown",
   "metadata": {
    "application/vnd.databricks.v1+cell": {
     "cellMetadata": {
      "byteLimit": 2048000,
      "rowLimit": 10000
     },
     "inputWidgets": {},
     "nuid": "9b6a47db-9ecf-4945-818e-e0b9f51e317c",
     "showTitle": false,
     "title": ""
    }
   },
   "source": [
    "#### us only, percent of female correnponding author based on field classification"
   ]
  },
  {
   "cell_type": "code",
   "execution_count": 0,
   "metadata": {
    "application/vnd.databricks.v1+cell": {
     "cellMetadata": {
      "byteLimit": 2048000,
      "rowLimit": 10000
     },
     "inputWidgets": {},
     "nuid": "f3a440f5-196a-42a4-bad0-6420b17c7c4f",
     "showTitle": false,
     "title": ""
    }
   },
   "outputs": [
    {
     "output_type": "stream",
     "name": "stdout",
     "output_type": "stream",
     "text": [
      "['Public Health & Health Services', 'Psychology & Cognitive Sciences', 'Social Sciences', 'Communication & Textual Studies', 'Historical Studies', 'Visual & Performing Arts', 'Biology', 'Agriculture, Fisheries & Forestry', 'Clinical Medicine', 'Biomedical Research', 'Built Environment & Design', 'Earth & Environmental Sciences', 'Economics & Business ', 'Philosophy & Theology', 'Information & Communication Technologies', 'Engineering', 'Enabling & Strategic Technologies', 'Mathematics & Statistics', 'Chemistry', 'Physics & Astronomy']\n"
     ]
    },
    {
     "output_type": "display_data",
     "data": {
      "image/png": "[encoded data removed]"
     },
     "metadata": {
      "application/vnd.databricks.v1+output": {
       "addedWidgets": {},
       "arguments": {},
       "data": "data:image/png;base64,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\n",
       "datasetInfos": [],
       "metadata": {},
       "removedWidgets": [],
       "type": "image"
      }
     },
     "output_type": "display_data"
    }
   ],
   "source": [
    "import matplotlib.pyplot as plt\n",
    "\n",
    "import matplotlib.colors as mcolors\n",
    "import seaborn as sns\n",
    "domain = dummy['Field_English'].unique()\n",
    "female = []\n",
    "#print(len(mcolors.TABLEAU_COLORS))\n",
    "#print(len(mcolors.CSS4_COLORS))\n",
    "color = ['hotpink','darkviolet','mediumblue','lightblue', 'blue', 'purple', '#aec7e8', 'violet','teal','aqua']\n",
    "#color = []\n",
    "\n",
    "for c in mcolors.TABLEAU_COLORS:\n",
    "  color.append(c)\n",
    "  if len(color) == 20:\n",
    "    break\n",
    "\n",
    "\n",
    "for i in domain:\n",
    "  tc = dummy[dummy['Field_English'] == i]\n",
    "\n",
    "  tc_female = len(tc[tc['gender'] == 'female']) \n",
    "  female.append((tc_female/len(tc))*100)\n",
    "\n",
    "#print(\"domain \",domain)\n",
    "#print(\"female percent \", female)\n",
    "fig = plt.figure(figsize =(5, 7))\n",
    " \n",
    "samp = pd.DataFrame()\n",
    "samp['domain'] = domain\n",
    "samp['female_total'] = female\n",
    "\n",
    "samp = samp.sort_values(by = ['female_total'], ascending=False)\n",
    "\n",
    "aax = samp['domain']\n",
    "print(list(aax))\n",
    "plt.barh(samp['domain'], samp['female_total'], color = color)\n",
    "#ax = sns.barplot(samp, x = \"female_total\", y = \"domain\",hue = \"domain\")\n",
    "#ax.legend_.remove()\n",
    "plt.xlabel(\"Percent of female corresponding author\")\n",
    "\n",
    "plt.show()"
   ]
  },
  {
   "cell_type": "code",
   "execution_count": 0,
   "metadata": {
    "application/vnd.databricks.v1+cell": {
     "cellMetadata": {
      "byteLimit": 2048000,
      "rowLimit": 10000
     },
     "inputWidgets": {},
     "nuid": "5bdd4526-586e-468f-8ed9-1c407b0a7a23",
     "showTitle": false,
     "title": ""
    }
   },
   "outputs": [
    {
     "output_type": "stream",
     "name": "stdout",
     "output_type": "stream",
     "text": [
      "[38.03458955353725, 34.69635627530364, 23.360429617096408, 23.784612609362316, 28.459437588509, 52.81219272369715, 47.0699731480019, 29.888475836431226, 43.40277777777778, 31.45703353900245, 53.860472644868885, 35.93441963387649, 36.61885019069566, 56.36568612028735, 62.12673637267605, 38.22159028765176, 21.158025837016776, 33.693880574899985, 22.333912780591035, 20.034977741437267]\n20\n"
     ]
    }
   ],
   "source": [
    "#print(samp)\n",
    "a = ['Agriculture, Fisheries & Forestry','Built Environment & Design','Enabling & Strategic Technologies', 'Engineering','Information & Communication Technologies',\n",
    "    'Communication & Textual Studies','Historical Studies','Philosophy & Theology','Visual & Performing Arts',\n",
    "'Economics & Business ','Social Sciences',\n",
    "                   'Biomedical Research','Clinical Medicine','Psychology & Cognitive Sciences','Public Health & Health Services',\n",
    "                   'Biology','Chemistry','Earth & Environmental Sciences','Mathematics & Statistics','Physics & Astronomy']\n",
    "\n",
    "fem = []\n",
    "for i in a:\n",
    "    x = samp[samp['domain'] == i]\n",
    "    #print(x)\n",
    "    fem.append(x.iloc[0]['female_total'])\n",
    "print(fem)\n",
    "print(len(fem))"
   ]
  },
  {
   "cell_type": "markdown",
   "metadata": {
    "application/vnd.databricks.v1+cell": {
     "cellMetadata": {
      "byteLimit": 2048000,
      "rowLimit": 10000
     },
     "inputWidgets": {},
     "nuid": "e7faed4c-02af-4d20-b5e8-16f0a0296d6b",
     "showTitle": false,
     "title": ""
    }
   },
   "source": [
    "#### us only, percent of female correnponding author in the cited group based on field classification"
   ]
  },
  {
   "cell_type": "code",
   "execution_count": 0,
   "metadata": {
    "application/vnd.databricks.v1+cell": {
     "cellMetadata": {
      "byteLimit": 2048000,
      "rowLimit": 10000
     },
     "inputWidgets": {},
     "nuid": "5e58450a-f8fc-4fc5-8ab6-929e747662c3",
     "showTitle": false,
     "title": ""
    }
   },
   "outputs": [
    {
     "output_type": "stream",
     "name": "stdout",
     "output_type": "stream",
     "text": [
      "domain  ['Agriculture, Fisheries & Forestry' 'Built Environment & Design'\n 'Enabling & Strategic Technologies' 'Engineering'\n 'Information & Communication Technologies'\n 'Communication & Textual Studies' 'Historical Studies'\n 'Philosophy & Theology' 'Visual & Performing Arts'\n 'Economics & Business ' 'Social Sciences' 'Biomedical Research'\n 'Clinical Medicine' 'Psychology & Cognitive Sciences'\n 'Public Health & Health Services' 'Biology' 'Chemistry'\n 'Earth & Environmental Sciences' 'Mathematics & Statistics'\n 'Physics & Astronomy']\nfemale percent  [42.30769230769231, 37.16577540106952, 23.098278734036644, 25.940054495912808, 30.451127819548873, 51.01265822784811, 39.11504424778761, 36.405529953917046, 37.5, 35.0952894642215, 48.51304875581631, 33.593051475284206, 37.19642980696049, 54.75105485232068, 57.53377506238706, 37.58763543658381, 19.522935779816514, 34.11949685534591, 29.86111111111111, 19.965661025263675]\n"
     ]
    },
    {
     "output_type": "display_data",
     "data": {
      "image/png": "[encoded data removed]"
     },
     "metadata": {
      "application/vnd.databricks.v1+output": {
       "addedWidgets": {},
       "arguments": {},
       "data": "data:image/png;base64,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\n",
       "datasetInfos": [],
       "metadata": {},
       "removedWidgets": [],
       "type": "image"
      }
     },
     "output_type": "display_data"
    }
   ],
   "source": [
    "\n",
    "domain = dummy['Field_English'].unique()\n",
    "female = []\n",
    "\n",
    "for i in domain:\n",
    "  tc = dummy[dummy['Field_English'] == i]\n",
    "  tc = tc[tc['news_cnt'] > 0]\n",
    "  tc_female = len(tc[tc['gender'] == 'female'])\n",
    "  female.append((tc_female/len(tc))*100)\n",
    "\n",
    "print(\"domain \",domain)\n",
    "print(\"female percent \", female)\n",
    "fig = plt.figure(figsize =(9, 9))\n",
    " \n",
    "samp2 = pd.DataFrame()\n",
    "samp2['domain'] = domain\n",
    "samp2['female_cit'] = female\n",
    "\n",
    "samp2 = samp2.sort_values(by = ['female_cit'], ascending=False)\n",
    "\n",
    "plt.barh(samp2['domain'], samp2['female_cit'])\n",
    "\n",
    "plt.show()"
   ]
  },
  {
   "cell_type": "code",
   "execution_count": 0,
   "metadata": {
    "application/vnd.databricks.v1+cell": {
     "cellMetadata": {
      "byteLimit": 2048000,
      "rowLimit": 10000
     },
     "inputWidgets": {},
     "nuid": "76ab476a-ea89-4560-ab71-dd56cf0b0e79",
     "showTitle": false,
     "title": ""
    }
   },
   "outputs": [
    {
     "output_type": "stream",
     "name": "stdout",
     "output_type": "stream",
     "text": [
      "                                      domain  female_total  female_cit\n0            Public Health & Health Services     62.126736   57.533775\n1            Psychology & Cognitive Sciences     56.365686   54.751055\n2                            Social Sciences     53.860473   48.513049\n3            Communication & Textual Studies     52.812193   51.012658\n4                         Historical Studies     47.069973   39.115044\n5                   Visual & Performing Arts     43.402778   37.500000\n6                                    Biology     38.221590   37.587635\n7          Agriculture, Fisheries & Forestry     38.034590   42.307692\n8                          Clinical Medicine     36.618850   37.196430\n9                        Biomedical Research     35.934420   33.593051\n10                Built Environment & Design     34.696356   37.165775\n11            Earth & Environmental Sciences     33.693881   34.119497\n12                     Economics & Business      31.457034   35.095289\n13                     Philosophy & Theology     29.888476   36.405530\n14  Information & Communication Technologies     28.459438   30.451128\n15                               Engineering     23.784613   25.940054\n16         Enabling & Strategic Technologies     23.360430   23.098279\n17                  Mathematics & Statistics     22.333913   29.861111\n18                                 Chemistry     21.158026   19.522936\n19                       Physics & Astronomy     20.034978   19.965661\n"
     ]
    }
   ],
   "source": [
    "merge = samp.merge(samp2, on = ['domain'], how = \"inner\")\n",
    "print(merge)"
   ]
  },
  {
   "cell_type": "markdown",
   "metadata": {
    "application/vnd.databricks.v1+cell": {
     "cellMetadata": {
      "byteLimit": 2048000,
      "rowLimit": 10000
     },
     "inputWidgets": {},
     "nuid": "2f825d7c-0b05-4f92-b356-6f8405449ff4",
     "showTitle": false,
     "title": ""
    }
   },
   "source": [
    "## read saved file and conduct CEM matching"
   ]
  },
  {
   "cell_type": "code",
   "execution_count": 0,
   "metadata": {
    "application/vnd.databricks.v1+cell": {
     "cellMetadata": {
      "byteLimit": 2048000,
      "rowLimit": 10000
     },
     "inputWidgets": {},
     "nuid": "3875c309-d0a7-479d-a89c-623cfa3d0507",
     "showTitle": false,
     "title": ""
    }
   },
   "outputs": [
    {
     "output_type": "display_data",
     "data": {
      "application/vnd.databricks.v1+bamboolib_hint": "{\"pd.DataFrames\": [], \"version\": \"0.0.1\"}",
      "text/plain": []
     },
     "metadata": {},
     "output_type": "display_data"
    },
    {
     "output_type": "stream",
     "name": "stdout",
     "output_type": "stream",
     "text": [
      "Domain_English        object\nField_English         object\nSubField_English      object\nsrcid                  int64\nopenaccess_status     object\ndoi                   object\nnews_cnt               int64\nyear                   int64\nissn                  object\nnum_au                 int64\ncor_gender            object\nTopicId                int64\nAu1_gender            object\ncountry_name          object\nSJR                  float64\nsubfield_article      object\npreferred_name        object\norg_type              object\ncor_au1                int64\ndtype: object\nlen of total  1014175\nafter dropping null and duplicates  1014035\nlen of united states after dropping null and duplicates 1014035\nDomain_English        object\nField_English         object\nSubField_English      object\nsrcid                 object\nopenaccess_status     object\ndoi                   object\nnews_cnt               int64\nyear                   int64\nissn                  object\nnum_au                 int64\ncor_gender            object\nTopicId               object\nAu1_gender            object\ncountry_name          object\nSJR                  float64\nsubfield_article      object\npreferred_name        object\norg_type              object\ncor_au1               object\nyear_cat              object\nteam_size             object\ntreatment             object\ndtype: object\n1014035\n'done with step 1''\\n'<command-1213917138971697>:130: SettingWithCopyWarning: \nA value is trying to be set on a copy of a slice from a DataFrame.\nTry using .loc[row_indexer,col_indexer] = value instead\n\nSee the caveats in the documentation: https://pandas.pydata.org/pandas-docs/stable/user_guide/indexing.html#returning-a-view-versus-a-copy\n  data[\"st_tr\"] = data.groupby(\"strata\")[treatment].transform(lambda x: len(x[x == '1']))\n<command-1213917138971697>:132: SettingWithCopyWarning: \nA value is trying to be set on a copy of a slice from a DataFrame.\nTry using .loc[row_indexer,col_indexer] = value instead\n\nSee the caveats in the documentation: https://pandas.pydata.org/pandas-docs/stable/user_guide/indexing.html#returning-a-view-versus-a-copy\n  data[\"st_con\"] = data.groupby(\"strata\")[treatment].transform(lambda x: len(x[x == '0']))\n'done with step 2''\\n'96350\n324688\n0.3805604566683965   0.37335226432760066\n"
     ]
    }
   ],
   "source": [
    "import pandas as pd\n",
    "total = pd.read_csv(\"/dbfs/FileStore/shared_uploads/arabi2@wisc.edu/us_media_analysis.csv\")\n",
    "print(total.dtypes)\n",
    "\n",
    "\n",
    "ret = spark.read.format(\"csv\").option(\"header\", \"true\").load(\"dbfs:/FileStore/shared_uploads/arabi2@wisc.edu/retrected_doi_wos.csv\")\n",
    "retracted = ret.select('doi').toPandas()\n",
    "ids_to_remove = retracted['doi']\n",
    "total2 = total[~total['doi'].isin(ids_to_remove)]\n",
    "\n",
    "print(\"len of total \", len(total))\n",
    "total2 = total2.dropna(subset=['srcid','year','num_au','subfield_article','cor_gender']) #replace TopicId with subfield_article\n",
    "total2 = total2.drop_duplicates()\n",
    "total2 = total2.drop_duplicates(subset = ['doi'])\n",
    "\n",
    "\n",
    "print(\"after dropping null and duplicates \",len(total2))\n",
    "\n",
    "total2 = total2[total2['country_name'] == 'United States']\n",
    "print(\"len of united states after dropping null and duplicates\", len(total2))\n",
    "\n",
    "\n",
    "\n",
    "total2['TopicId'] = total2['TopicId'].astype(str)\n",
    "total2['srcid'] = total2['srcid'].astype(str)\n",
    "total2['cor_au1'] = total2['cor_au1'].astype(str)\n",
    "\n",
    "new_yr = []\n",
    "coarse_team = []\n",
    "treatment = []\n",
    "\n",
    "\n",
    "for ind in total2.index:\n",
    "  '''if total2['year'][ind] == 2018 or total2['year'][ind] == 2019:\n",
    "    new_yr.append('1')\n",
    "  elif total2['year'][ind] == 2020 or total2['year'][ind] == 2021 or total2['year'][ind] == 2022:\n",
    "    new_yr.append('2')'''    \n",
    "  if total2['year'][ind] == 2018:\n",
    "    new_yr.append('1')\n",
    "  elif total2['year'][ind] == 2019:\n",
    "    new_yr.append('2')\n",
    "  elif total2['year'][ind] == 2020:\n",
    "    new_yr.append('3')\n",
    "  elif total2['year'][ind] == 2021:\n",
    "    new_yr.append('4')\n",
    "  elif total2['year'][ind] == 2022:\n",
    "    new_yr.append('5')\n",
    "  \n",
    "\n",
    "for ind in total2.index:  \n",
    "  if total2['num_au'][ind] == 1:\n",
    "    coarse_team.append('1')\n",
    "  elif total2['num_au'][ind] == 2:\n",
    "    coarse_team.append('2')\n",
    "  elif total2['num_au'][ind] == 3:\n",
    "    coarse_team.append('3')\n",
    "  elif total2['num_au'][ind] >= 4 and total2['num_au'][ind] <= 5:\n",
    "    coarse_team.append('4')\n",
    "  elif total2['num_au'][ind] >= 6 and total2['num_au'][ind] <= 9:\n",
    "    coarse_team.append('5')\n",
    "  elif total2['num_au'][ind] > 9:\n",
    "    coarse_team.append('6')\n",
    "\n",
    "\n",
    "for ind in total2.index:\n",
    "  if total2['news_cnt'][ind] > 0:\n",
    "    treatment.append('1')\n",
    "  elif total2['news_cnt'][ind] == 0:\n",
    "    treatment.append('0')\n",
    "\n",
    "  \n",
    "\n",
    "\n",
    "total2['year_cat'] = new_yr\n",
    "total2['team_size'] = coarse_team\n",
    "total2['treatment'] = treatment\n",
    "\n",
    "print(total2.dtypes)\n",
    "\n",
    "print(len(total2))\n",
    "\n",
    "\n",
    "\n",
    "\n",
    "from collections import defaultdict\n",
    "\n",
    "\n",
    "def match_data(data,treatment,control_var):\n",
    "\n",
    "    \n",
    "    ##get unique control tuples\n",
    "    con_data = data[control_var] #control_var is a list of control variables, other than treatment,doi and gender\n",
    "    un_con = con_data.drop_duplicates()\n",
    "    \n",
    "    ##create map of strata for unique control tuples\n",
    "    mydict = defaultdict(list)\n",
    "    cnt = 1\n",
    "    '''for i, tup in enumerate(un_con.iterrows()):\n",
    "        _, x_row = tup\n",
    "        #print(x_row)\n",
    "        mydict[tuple(x_row)] = cnt\n",
    "        cnt += 1'''\n",
    "    \n",
    "    #print(mydict)\n",
    "    new_data = data[control_var]\n",
    "    strata = []\n",
    "    \n",
    "    for i, tup in enumerate(new_data.iterrows()):\n",
    "        _, x_row = tup\n",
    "        if tuple(x_row) in mydict:\n",
    "            strata.append(mydict[tuple(x_row)])\n",
    "        else:\n",
    "            mydict[tuple(x_row)] = cnt\n",
    "            cnt += 1\n",
    "            strata.append(mydict[tuple(x_row)])\n",
    "    data['strata'] = strata\n",
    "    display(\"done with step 1\",\"\\n\")\n",
    "    \n",
    "    \n",
    "    \n",
    "    value_counts = data[\"strata\"].value_counts()\n",
    "\n",
    "# Create a list of the values that have only one instance\n",
    "    single_instances = value_counts[value_counts == 1].index\n",
    "\n",
    "# Filter the DataFrame to only include rows where the \"dog\" value is not in the list of single_instances\n",
    "    data = data[~data[\"strata\"].isin(single_instances)]\n",
    "    \n",
    "    \n",
    "    data[\"st_tr\"] = data.groupby(\"strata\")[treatment].transform(lambda x: len(x[x == '1']))\n",
    "\n",
    "    data[\"st_con\"] = data.groupby(\"strata\")[treatment].transform(lambda x: len(x[x == '0']))\n",
    "    \n",
    "    data = data.loc[(data[\"st_tr\"] != 0) & (data[\"st_con\"] != 0)]\n",
    "    \n",
    "    st_tr = dict(zip(data['strata'], data['st_tr']))\n",
    "    st_con = dict(zip(data['strata'], data['st_con']))\n",
    "\n",
    "    display(\"done with step 2\",\"\\n\")\n",
    "    \n",
    "    new = data.copy()\n",
    "    \n",
    "    mt = new[new[treatment] == '1']\n",
    "    mc = new[new[treatment] == '0']\n",
    "\n",
    "    new['weight'] = new['strata'].apply(lambda x: (len(mc)*st_tr[x]) / (len(mt)*st_con[x]))\n",
    "    #new['weight'] = new[treatment].apply(lambda x: 1.00 if x == '1')\n",
    "    row_index = new[new[treatment] == '1'].index\n",
    "\n",
    "    # Replace all the values in the age column where the row index is in row_index with 1\n",
    "    new.loc[row_index, \"weight\"] = 1.00\n",
    "    \n",
    "    \n",
    "    \n",
    "    \n",
    "    '''weight = []\n",
    "    for ind in new.index:\n",
    "        s = new['strata'][ind]\n",
    "        \n",
    "        if new[treatment][ind] == '1':\n",
    "            weight.append(1)\n",
    "        else:\n",
    "            ns = new[new['strata'] == s]\n",
    "            mts = ns[ns[treatment] == '1']\n",
    "            mcs = ns[ns[treatment] == '0']\n",
    "                \n",
    "            #t = new[new['strata'] != -1]\n",
    "                \n",
    "            \n",
    "                \n",
    "            weight.append((len(mc)*len(mts))/(len(mt)*len(mcs)))\n",
    "    new['weight'] = weight'''\n",
    "    return new\n",
    "new = match_data(data = total2.copy(deep = True),treatment=\"treatment\",control_var=['srcid','openaccess_status','year_cat','team_size','subfield_article']) #'TopicId'\n",
    "#new = match_data(data = total2,treatment=\"treatment\",control_var=['srcid','year_cat','team_size','TopicId'])\n",
    "\n",
    "\n",
    "t = new[new['treatment'] == '1']\n",
    "print(len(t))\n",
    "c = new[new['treatment'] == '0']\n",
    "print(len(c))\n",
    "\n",
    "ft = t[t['cor_gender'] == 'female']\n",
    "ft1 = t[t['cor_gender'] == 'f']\n",
    "ft2 = t[t['cor_gender'] == 'F']\n",
    "\n",
    "\n",
    "fc = c[c['cor_gender'] == 'female']\n",
    "fc1 = c[c['cor_gender'] == 'f']\n",
    "fc2 = c[c['cor_gender'] == 'F']\n",
    "\n",
    "\n",
    "\n",
    "print((len(ft)+len(ft1)+len(ft2))/len(t),\" \", (len(fc)+len(fc1)+len(fc2))/len(c)) ##0.02 more in treatment group\n"
   ]
  },
  {
   "cell_type": "code",
   "execution_count": 0,
   "metadata": {
    "application/vnd.databricks.v1+cell": {
     "cellMetadata": {
      "byteLimit": 2048000,
      "rowLimit": 10000
     },
     "inputWidgets": {},
     "nuid": "6c33a6a4-cb0b-41e7-a205-9e235a3571c7",
     "showTitle": false,
     "title": ""
    }
   },
   "outputs": [
    {
     "output_type": "display_data",
     "data": {
      "text/html": [
       "<style scoped>\n",
       "  .ansiout {\n",
       "    display: block;\n",
       "    unicode-bidi: embed;\n",
       "    white-space: pre-wrap;\n",
       "    word-wrap: break-word;\n",
       "    word-break: break-all;\n",
       "    font-family: \"Menlo\", \"Monaco\", \"Consolas\", \"Ubuntu Mono\", \"Source Code Pro\", monospace;\n",
       "    font-size: 13px;\n",
       "    color: #555;\n",
       "    margin-left: 4px;\n",
       "    line-height: 19px;\n",
       "  }\n",
       "</style>"
      ]
     },
     "metadata": {
      "application/vnd.databricks.v1+output": {
       "arguments": {},
       "data": "",
       "errorSummary": "Cancelled",
       "errorTraceType": "html",
       "metadata": {},
       "type": "ipynbError"
      }
     },
     "output_type": "display_data"
    }
   ],
   "source": [
    "print(len(new))\n",
    "print(new['doi'].nunique())"
   ]
  },
  {
   "cell_type": "code",
   "execution_count": 0,
   "metadata": {
    "application/vnd.databricks.v1+cell": {
     "cellMetadata": {
      "byteLimit": 2048000,
      "rowLimit": 10000
     },
     "inputWidgets": {},
     "nuid": "52f6d9ab-de51-4668-9ec8-8f1366cf1f42",
     "showTitle": false,
     "title": ""
    }
   },
   "outputs": [
    {
     "output_type": "stream",
     "name": "stdout",
     "output_type": "stream",
     "text": [
      "421038\n421038\n"
     ]
    }
   ],
   "source": [
    "dummy = new.copy(deep = True)\n",
    "print(len(dummy))\n",
    "dummy = dummy.dropna(subset = ['cor_gender'])\n",
    "print(len(dummy))\n",
    "gender = []\n",
    "for ind in dummy.index:\n",
    "    if dummy['cor_gender'][ind] == \"female\" or dummy['cor_gender'][ind] == \"f\" or dummy['cor_gender'][ind] == \"F\":\n",
    "        gender.append(\"female\")\n",
    "        #gender.append(0)\n",
    "    elif dummy['cor_gender'][ind] == \"male\" or dummy['cor_gender'][ind] == \"m\" or dummy['cor_gender'][ind] == \"M\": ##there is no null value in gender, so it is safe to say that if someone is not female, he must be male\n",
    "        gender.append(\"male\")\n",
    "        #gender.append(1)\n",
    "dummy['gender'] = gender"
   ]
  },
  {
   "cell_type": "code",
   "execution_count": 0,
   "metadata": {
    "application/vnd.databricks.v1+cell": {
     "cellMetadata": {
      "byteLimit": 2048000,
      "rowLimit": 10000
     },
     "inputWidgets": {},
     "nuid": "7e3bb6c2-c7af-47c7-b65b-9b378fc55e22",
     "showTitle": false,
     "title": ""
    }
   },
   "outputs": [
    {
     "output_type": "display_data",
     "data": {
      "text/html": [
       "<style scoped>\n",
       "  .ansiout {\n",
       "    display: block;\n",
       "    unicode-bidi: embed;\n",
       "    white-space: pre-wrap;\n",
       "    word-wrap: break-word;\n",
       "    word-break: break-all;\n",
       "    font-family: \"Menlo\", \"Monaco\", \"Consolas\", \"Ubuntu Mono\", \"Source Code Pro\", monospace;\n",
       "    font-size: 13px;\n",
       "    color: #555;\n",
       "    margin-left: 4px;\n",
       "    line-height: 19px;\n",
       "  }\n",
       "</style>"
      ]
     },
     "metadata": {
      "application/vnd.databricks.v1+output": {
       "arguments": {},
       "data": "",
       "errorSummary": "Cancelled",
       "errorTraceType": "html",
       "metadata": {},
       "type": "ipynbError"
      }
     },
     "output_type": "display_data"
    }
   ],
   "source": [
    "new[new['strata'] == 7]"
   ]
  },
  {
   "cell_type": "markdown",
   "metadata": {
    "application/vnd.databricks.v1+cell": {
     "cellMetadata": {
      "byteLimit": 2048000,
      "rowLimit": 10000
     },
     "inputWidgets": {},
     "nuid": "19053659-6ea3-42e2-9b20-91ffa428a68a",
     "showTitle": false,
     "title": ""
    }
   },
   "source": [
    "#### assign quantile"
   ]
  },
  {
   "cell_type": "code",
   "execution_count": 0,
   "metadata": {
    "application/vnd.databricks.v1+cell": {
     "cellMetadata": {
      "byteLimit": 2048000,
      "rowLimit": 10000
     },
     "inputWidgets": {},
     "nuid": "32cf26af-024a-40ef-a750-8883151b3484",
     "showTitle": false,
     "title": ""
    }
   },
   "outputs": [
    {
     "output_type": "stream",
     "name": "stdout",
     "output_type": "stream",
     "text": [
      "q1  0.124  q2  0.25  q3  0.597\n"
     ]
    }
   ],
   "source": [
    "'''q1 = total['SJR'].quantile(0.25)\n",
    "q2 = total['SJR'].quantile(0.50)\n",
    "q3 = total['SJR'].quantile(0.75)\n",
    "print(\"q1 \",q1,\" q2 \",q2,\" q3 \",q3)\n",
    "q = []\n",
    "for ind in dummy.index:\n",
    "  if dummy['SJR'][ind] <= q1:\n",
    "    q.append(0)\n",
    "  elif dummy['SJR'][ind] > q1 and dummy['SJR'][ind] <= q2:\n",
    "    q.append(1)\n",
    "  elif dummy['SJR'][ind] > q2 and dummy['SJR'][ind] <= q3:\n",
    "    q.append(2)\n",
    "  else:\n",
    "    q.append(3)\n",
    "dummy['q'] = q\n",
    "'''\n",
    "\n",
    "'''a = pd.DataFrame()\n",
    "a['srcid'] = total['srcid']\n",
    "a['SJR'] = total['SJR']\n",
    "print(len(a))\n",
    "a = a.drop_duplicates()\n",
    "print(len(a))\n",
    "q1 = a['SJR'].quantile(0.25)\n",
    "q2 = a['SJR'].quantile(0.50)\n",
    "q3 = a['SJR'].quantile(0.75)'''\n",
    "\n",
    "q1, q2, q3 = 0.124, 0.25, 0.597\n",
    "\n",
    "print(\"q1 \",q1,\" q2 \",q2,\" q3 \",q3)\n",
    "q = []\n",
    "for ind in dummy.index:\n",
    "  if dummy['SJR'][ind] <= q1:\n",
    "    q.append(0)\n",
    "  elif dummy['SJR'][ind] > q1 and dummy['SJR'][ind] <= q2:\n",
    "    q.append(1)\n",
    "  elif dummy['SJR'][ind] > q2 and dummy['SJR'][ind] <= q3:\n",
    "    q.append(2)\n",
    "  else:\n",
    "    q.append(3)\n",
    "dummy['q'] = q"
   ]
  },
  {
   "cell_type": "markdown",
   "metadata": {
    "application/vnd.databricks.v1+cell": {
     "cellMetadata": {
      "byteLimit": 2048000,
      "rowLimit": 10000
     },
     "inputWidgets": {},
     "nuid": "d0e2d4e7-85eb-4d96-ac76-13a1ddc6304d",
     "showTitle": false,
     "title": ""
    }
   },
   "source": [
    "#### quantile based regression analysis"
   ]
  },
  {
   "cell_type": "code",
   "execution_count": 0,
   "metadata": {
    "application/vnd.databricks.v1+cell": {
     "cellMetadata": {
      "byteLimit": 2048000,
      "rowLimit": 10000
     },
     "inputWidgets": {},
     "nuid": "7ecda4f6-5b8a-4f53-8307-d2643c757249",
     "showTitle": false,
     "title": ""
    }
   },
   "outputs": [
    {
     "output_type": "display_data",
     "data": {
      "text/html": [
       "<style scoped>\n",
       "  .ansiout {\n",
       "    display: block;\n",
       "    unicode-bidi: embed;\n",
       "    white-space: pre-wrap;\n",
       "    word-wrap: break-word;\n",
       "    word-break: break-all;\n",
       "    font-family: \"Menlo\", \"Monaco\", \"Consolas\", \"Ubuntu Mono\", \"Source Code Pro\", monospace;\n",
       "    font-size: 13px;\n",
       "    color: #555;\n",
       "    margin-left: 4px;\n",
       "    line-height: 19px;\n",
       "  }\n",
       "</style>"
      ]
     },
     "metadata": {
      "application/vnd.databricks.v1+output": {
       "arguments": {},
       "data": "",
       "errorSummary": "Cancelled",
       "errorTraceType": "html",
       "metadata": {},
       "type": "ipynbError"
      }
     },
     "output_type": "display_data"
    }
   ],
   "source": [
    "def domain(a):\n",
    "  t = a[a['treatment'] == '1']\n",
    "  c = a[a['treatment'] == '0']\n",
    "  print(\"length of treatment \",len(t[t['gender'] == \"female\"])/len(t))\n",
    "  print(\"length of control \",len(c[c['gender'] == \"female\"])/len(c))\n",
    "\n",
    "  con_18,con_19,con_20,con_21,con_22 = [],[],[],[],[]\n",
    "  t1,t2,t3,t4,t5,t6 = [],[],[],[],[],[]\n",
    "\n",
    "  out = []\n",
    "\n",
    "  cov = []\n",
    "  c1 = []\n",
    "  c0 = []\n",
    "\n",
    "  \n",
    "  for ind in a.index:\n",
    "    if a['year'][ind] == 2018 or a['year'][ind] == 2019:\n",
    "      cov.append(0)\n",
    "    else:\n",
    "      cov.append(1)\n",
    "      \n",
    "    if a['treatment'][ind] == '1':\n",
    "      out.append(1)\n",
    "    else:\n",
    "      out.append(0)\n",
    "  a['outcome'] = out\n",
    "\n",
    "  a['covid'] = cov\n",
    "\n",
    "  for ind in a.index:\n",
    "    if a['covid'][ind] == 1:\n",
    "      c1.append(1)\n",
    "      c0.append(0)\n",
    "    else:\n",
    "      c1.append(0)\n",
    "      c0.append(1)\n",
    "  #a['c1'] = c1\n",
    "  #a['c0'] = c0\n",
    "  return a\n",
    "  "
   ]
  },
  {
   "cell_type": "code",
   "execution_count": 0,
   "metadata": {
    "application/vnd.databricks.v1+cell": {
     "cellMetadata": {
      "byteLimit": 2048000,
      "rowLimit": 10000
     },
     "inputWidgets": {},
     "nuid": "8c725e4b-9528-4813-a554-242cb5d44b8c",
     "showTitle": false,
     "title": ""
    }
   },
   "outputs": [
    {
     "output_type": "display_data",
     "data": {
      "text/plain": [
       "\u001B[0;31m---------------------------------------------------------------------------\u001B[0m\n",
       "\u001B[0;31mPackageNotInstalledError\u001B[0m                  Traceback (most recent call last)\n",
       "\u001B[0;32m<command-3196390998680751>\u001B[0m in \u001B[0;36m<cell line: 21>\u001B[0;34m()\u001B[0m\n",
       "\u001B[1;32m     19\u001B[0m \u001B[0;31m#utils.chooseCRANmirror(ind=1)\u001B[0m\u001B[0;34m\u001B[0m\u001B[0;34m\u001B[0m\u001B[0;34m\u001B[0m\u001B[0m\n",
       "\u001B[1;32m     20\u001B[0m \u001B[0;31m#utils.install_packages('questionr')\u001B[0m\u001B[0;34m\u001B[0m\u001B[0;34m\u001B[0m\u001B[0;34m\u001B[0m\u001B[0m\n",
       "\u001B[0;32m---> 21\u001B[0;31m \u001B[0mquestionr\u001B[0m \u001B[0;34m=\u001B[0m \u001B[0mimportr\u001B[0m\u001B[0;34m(\u001B[0m\u001B[0;34m'questionr'\u001B[0m\u001B[0;34m)\u001B[0m\u001B[0;34m\u001B[0m\u001B[0;34m\u001B[0m\u001B[0m\n",
       "\u001B[0m\n",
       "\u001B[0;32m/local_disk0/.ephemeral_nfs/envs/pythonEnv-70fc8092-d126-440c-90ea-b064f0d42af4/lib/python3.9/site-packages/rpy2/robjects/packages.py\u001B[0m in \u001B[0;36mimportr\u001B[0;34m(name, lib_loc, robject_translations, signature_translation, suppress_messages, on_conflict, symbol_r2python, symbol_resolve, data)\u001B[0m\n",
       "\u001B[1;32m    470\u001B[0m \u001B[0;34m\u001B[0m\u001B[0m\n",
       "\u001B[1;32m    471\u001B[0m     \u001B[0;32mif\u001B[0m \u001B[0;32mnot\u001B[0m \u001B[0misinstalled\u001B[0m\u001B[0;34m(\u001B[0m\u001B[0mname\u001B[0m\u001B[0;34m,\u001B[0m \u001B[0mlib_loc\u001B[0m\u001B[0;34m=\u001B[0m\u001B[0mlib_loc\u001B[0m\u001B[0;34m)\u001B[0m\u001B[0;34m:\u001B[0m\u001B[0;34m\u001B[0m\u001B[0;34m\u001B[0m\u001B[0m\n",
       "\u001B[0;32m--> 472\u001B[0;31m         raise PackageNotInstalledError(\n",
       "\u001B[0m\u001B[1;32m    473\u001B[0m             \u001B[0;34m'The R package \"%s\" is not installed.'\u001B[0m \u001B[0;34m%\u001B[0m \u001B[0mname\u001B[0m\u001B[0;34m\u001B[0m\u001B[0;34m\u001B[0m\u001B[0m\n",
       "\u001B[1;32m    474\u001B[0m         )\n",
       "\n",
       "\u001B[0;31mPackageNotInstalledError\u001B[0m: The R package \"questionr\" is not installed."
      ]
     },
     "metadata": {
      "application/vnd.databricks.v1+output": {
       "arguments": {},
       "data": "\u001B[0;31m---------------------------------------------------------------------------\u001B[0m\n\u001B[0;31mPackageNotInstalledError\u001B[0m                  Traceback (most recent call last)\n\u001B[0;32m<command-3196390998680751>\u001B[0m in \u001B[0;36m<cell line: 21>\u001B[0;34m()\u001B[0m\n\u001B[1;32m     19\u001B[0m \u001B[0;31m#utils.chooseCRANmirror(ind=1)\u001B[0m\u001B[0;34m\u001B[0m\u001B[0;34m\u001B[0m\u001B[0;34m\u001B[0m\u001B[0m\n\u001B[1;32m     20\u001B[0m \u001B[0;31m#utils.install_packages('questionr')\u001B[0m\u001B[0;34m\u001B[0m\u001B[0;34m\u001B[0m\u001B[0;34m\u001B[0m\u001B[0m\n\u001B[0;32m---> 21\u001B[0;31m \u001B[0mquestionr\u001B[0m \u001B[0;34m=\u001B[0m \u001B[0mimportr\u001B[0m\u001B[0;34m(\u001B[0m\u001B[0;34m'questionr'\u001B[0m\u001B[0;34m)\u001B[0m\u001B[0;34m\u001B[0m\u001B[0;34m\u001B[0m\u001B[0m\n\u001B[0m\n\u001B[0;32m/local_disk0/.ephemeral_nfs/envs/pythonEnv-70fc8092-d126-440c-90ea-b064f0d42af4/lib/python3.9/site-packages/rpy2/robjects/packages.py\u001B[0m in \u001B[0;36mimportr\u001B[0;34m(name, lib_loc, robject_translations, signature_translation, suppress_messages, on_conflict, symbol_r2python, symbol_resolve, data)\u001B[0m\n\u001B[1;32m    470\u001B[0m \u001B[0;34m\u001B[0m\u001B[0m\n\u001B[1;32m    471\u001B[0m     \u001B[0;32mif\u001B[0m \u001B[0;32mnot\u001B[0m \u001B[0misinstalled\u001B[0m\u001B[0;34m(\u001B[0m\u001B[0mname\u001B[0m\u001B[0;34m,\u001B[0m \u001B[0mlib_loc\u001B[0m\u001B[0;34m=\u001B[0m\u001B[0mlib_loc\u001B[0m\u001B[0;34m)\u001B[0m\u001B[0;34m:\u001B[0m\u001B[0;34m\u001B[0m\u001B[0;34m\u001B[0m\u001B[0m\n\u001B[0;32m--> 472\u001B[0;31m         raise PackageNotInstalledError(\n\u001B[0m\u001B[1;32m    473\u001B[0m             \u001B[0;34m'The R package \"%s\" is not installed.'\u001B[0m \u001B[0;34m%\u001B[0m \u001B[0mname\u001B[0m\u001B[0;34m\u001B[0m\u001B[0;34m\u001B[0m\u001B[0m\n\u001B[1;32m    474\u001B[0m         )\n\n\u001B[0;31mPackageNotInstalledError\u001B[0m: The R package \"questionr\" is not installed.",
       "errorSummary": "<span class='ansi-red-fg'>PackageNotInstalledError</span>: The R package \"questionr\" is not installed.",
       "errorTraceType": "ansi",
       "metadata": {},
       "type": "ipynbError"
      }
     },
     "output_type": "display_data"
    }
   ],
   "source": [
    "import rpy2.robjects.packages as rpackages\n",
    "import rpy2.robjects.vectors as robjects_vectors\n",
    "\n",
    "\n",
    "from rpy2.robjects import r, pandas2ri\n",
    "import rpy2.robjects as ro\n",
    "from rpy2.robjects.packages import importr\n",
    "\n",
    "# import R's utility package\n",
    "#utils = rpackages.importr('utils')\n",
    "#utils.chooseCRANmirror(ind=1)\n",
    "from rpy2.robjects.conversion import localconverter\n",
    "base = importr('base')\n",
    "from rpy2.robjects import Formula\n",
    "stats = importr('stats')\n",
    "MASS = importr('MASS')\n",
    "\n",
    "#utils = rpackages.importr('utils')\n",
    "#utils.chooseCRANmirror(ind=1)\n",
    "#utils.install_packages('questionr')\n",
    "questionr = importr('questionr')"
   ]
  },
  {
   "cell_type": "code",
   "execution_count": 0,
   "metadata": {
    "application/vnd.databricks.v1+cell": {
     "cellMetadata": {
      "byteLimit": 2048000,
      "rowLimit": 10000
     },
     "inputWidgets": {},
     "nuid": "224b78e6-5a8d-4cd3-a257-3200f708b8f8",
     "showTitle": false,
     "title": ""
    }
   },
   "outputs": [
    {
     "output_type": "display_data",
     "data": {
      "text/html": [
       "<style scoped>\n",
       "  .ansiout {\n",
       "    display: block;\n",
       "    unicode-bidi: embed;\n",
       "    white-space: pre-wrap;\n",
       "    word-wrap: break-word;\n",
       "    word-break: break-all;\n",
       "    font-family: \"Menlo\", \"Monaco\", \"Consolas\", \"Ubuntu Mono\", \"Source Code Pro\", monospace;\n",
       "    font-size: 13px;\n",
       "    color: #555;\n",
       "    margin-left: 4px;\n",
       "    line-height: 19px;\n",
       "  }\n",
       "</style>"
      ]
     },
     "metadata": {
      "application/vnd.databricks.v1+output": {
       "arguments": {},
       "data": "",
       "errorSummary": "Cancelled",
       "errorTraceType": "html",
       "metadata": {},
       "type": "ipynbError"
      }
     },
     "output_type": "display_data"
    }
   ],
   "source": [
    "\n",
    "\n",
    "#controlling for SubField_English\n",
    "#a = domain(dummy[dummy['q'] == 0]) #insig\n",
    "#a = domain(dummy[dummy['q'] == 1])  #insig\n",
    "a = domain(dummy[dummy['q'] == 2]) # sig est = -9.61737102e-02, p val =   0.0337 *\n",
    "#a = domain(dummy[dummy['q'] == 3]) #insig\n",
    "\n",
    "#controlling for Field_English, basically results are same as controlling for Subfield\n",
    "#a = domain(dummy[dummy['q'] == 0]) #insig\n",
    "#a = domain(dummy[dummy['q'] == 1])  #insig\n",
    "#a = domain(dummy[dummy['q'] == 2]) # sig est = -0.0896210, p val =   0.0404 * \n",
    "#a = domain(dummy[dummy['q'] == 3]) #insig\n",
    "\n",
    "\n",
    "with localconverter(ro.default_converter + pandas2ri.converter):\n",
    "  tst_df = ro.conversion.py2rpy(a)\n",
    "\n",
    "col_2_index = list(tst_df.colnames).index('year')\n",
    "col_2 = ro.vectors.FactorVector(tst_df.rx2('year'))\n",
    "tst_df[col_2_index] = col_2\n",
    "\n",
    "col_2_index = list(tst_df.colnames).index('team_size')\n",
    "col_2 = ro.vectors.FactorVector(tst_df.rx2('team_size'))\n",
    "tst_df[col_2_index] = col_2\n",
    "\n",
    "col_2_index = list(tst_df.colnames).index('openaccess_status')\n",
    "col_2 = ro.vectors.FactorVector(tst_df.rx2('openaccess_status'))\n",
    "tst_df[col_2_index] = col_2\n",
    "\n",
    "\n",
    "col_2_index = list(tst_df.colnames).index('covid')\n",
    "col_2 = ro.vectors.FactorVector(tst_df.rx2('covid'))\n",
    "tst_df[col_2_index] = col_2\n",
    "\n",
    "col_2_index = list(tst_df.colnames).index('gender')\n",
    "col_2 = ro.vectors.FactorVector(tst_df.rx2('gender'))\n",
    "tst_df[col_2_index] = col_2\n",
    "\n",
    "col_2_index = list(tst_df.colnames).index('SubField_English')\n",
    "col_2 = ro.vectors.FactorVector(tst_df.rx2('SubField_English'))\n",
    "tst_df[col_2_index] = col_2\n",
    "\n",
    "col_2_index = list(tst_df.colnames).index('Field_English')\n",
    "col_2 = ro.vectors.FactorVector(tst_df.rx2('Field_English'))\n",
    "tst_df[col_2_index] = col_2\n",
    "\n",
    "col_2_index = list(tst_df.colnames).index('outcome')\n",
    "col_2 = ro.vectors.FactorVector(tst_df.rx2('outcome'))\n",
    "tst_df[col_2_index] = col_2\n",
    "\n",
    "#print(tst_df)\n",
    "#pandas2ri.activate()\n",
    "model = stats.glm(\"outcome ~ gender+year+SubField_English+team_size+openaccess_status+covid\",\n",
    "                  data=tst_df, weights = tst_df.rx2('weight'),family=ro.r('binomial(link=\"logit\")'))\n",
    "print(base.summary(model))"
   ]
  },
  {
   "cell_type": "code",
   "execution_count": 0,
   "metadata": {
    "application/vnd.databricks.v1+cell": {
     "cellMetadata": {
      "byteLimit": 2048000,
      "rowLimit": 10000
     },
     "inputWidgets": {},
     "nuid": "b44e4e97-a1ad-4387-9fd6-1e7c2f17277f",
     "showTitle": false,
     "title": ""
    }
   },
   "outputs": [
    {
     "output_type": "display_data",
     "data": {
      "text/html": [
       "<style scoped>\n",
       "  .ansiout {\n",
       "    display: block;\n",
       "    unicode-bidi: embed;\n",
       "    white-space: pre-wrap;\n",
       "    word-wrap: break-word;\n",
       "    word-break: break-all;\n",
       "    font-family: \"Menlo\", \"Monaco\", \"Consolas\", \"Ubuntu Mono\", \"Source Code Pro\", monospace;\n",
       "    font-size: 13px;\n",
       "    color: #555;\n",
       "    margin-left: 4px;\n",
       "    line-height: 19px;\n",
       "  }\n",
       "</style>"
      ]
     },
     "metadata": {
      "application/vnd.databricks.v1+output": {
       "arguments": {},
       "data": "",
       "errorSummary": "Cancelled",
       "errorTraceType": "html",
       "metadata": {},
       "type": "ipynbError"
      }
     },
     "output_type": "display_data"
    }
   ],
   "source": [
    "questionr.odds.ratio(base.summary(model), level=0.95)"
   ]
  },
  {
   "cell_type": "code",
   "execution_count": 0,
   "metadata": {
    "application/vnd.databricks.v1+cell": {
     "cellMetadata": {
      "byteLimit": 2048000,
      "rowLimit": 10000
     },
     "inputWidgets": {},
     "nuid": "51da5e47-cc21-472b-9648-638b2eee578a",
     "showTitle": false,
     "title": ""
    }
   },
   "outputs": [
    {
     "output_type": "display_data",
     "data": {
      "text/html": [
       "<style scoped>\n",
       "  .ansiout {\n",
       "    display: block;\n",
       "    unicode-bidi: embed;\n",
       "    white-space: pre-wrap;\n",
       "    word-wrap: break-word;\n",
       "    word-break: break-all;\n",
       "    font-family: \"Menlo\", \"Monaco\", \"Consolas\", \"Ubuntu Mono\", \"Source Code Pro\", monospace;\n",
       "    font-size: 13px;\n",
       "    color: #555;\n",
       "    margin-left: 4px;\n",
       "    line-height: 19px;\n",
       "  }\n",
       "</style>"
      ]
     },
     "metadata": {
      "application/vnd.databricks.v1+output": {
       "arguments": {},
       "data": "",
       "errorSummary": "Cancelled",
       "errorTraceType": "html",
       "metadata": {},
       "type": "ipynbError"
      }
     },
     "output_type": "display_data"
    }
   ],
   "source": [
    "stats.confint(model)"
   ]
  },
  {
   "cell_type": "code",
   "execution_count": 0,
   "metadata": {
    "application/vnd.databricks.v1+cell": {
     "cellMetadata": {
      "byteLimit": 2048000,
      "rowLimit": 10000
     },
     "inputWidgets": {},
     "nuid": "3f4f982f-078b-4637-b475-805fde5a9c9b",
     "showTitle": false,
     "title": ""
    }
   },
   "outputs": [
    {
     "output_type": "display_data",
     "data": {
      "text/html": [
       "<style scoped>\n",
       "  .ansiout {\n",
       "    display: block;\n",
       "    unicode-bidi: embed;\n",
       "    white-space: pre-wrap;\n",
       "    word-wrap: break-word;\n",
       "    word-break: break-all;\n",
       "    font-family: \"Menlo\", \"Monaco\", \"Consolas\", \"Ubuntu Mono\", \"Source Code Pro\", monospace;\n",
       "    font-size: 13px;\n",
       "    color: #555;\n",
       "    margin-left: 4px;\n",
       "    line-height: 19px;\n",
       "  }\n",
       "</style>"
      ]
     },
     "metadata": {
      "application/vnd.databricks.v1+output": {
       "arguments": {},
       "data": "",
       "errorSummary": "Cancelled",
       "errorTraceType": "html",
       "metadata": {},
       "type": "ipynbError"
      }
     },
     "output_type": "display_data"
    }
   ],
   "source": [
    "import numpy as np\n",
    "coeffs = base.summary(model).rx2('coefficients')\n",
    "print(np.array(coeffs))"
   ]
  },
  {
   "cell_type": "markdown",
   "metadata": {
    "application/vnd.databricks.v1+cell": {
     "cellMetadata": {
      "byteLimit": 2048000,
      "rowLimit": 10000
     },
     "inputWidgets": {},
     "nuid": "ded45d5d-f34a-4525-b454-ecdfc3142ae3",
     "showTitle": false,
     "title": ""
    }
   },
   "source": [
    "#### percent difference of male and female in Treatment and control group after CEM"
   ]
  },
  {
   "cell_type": "code",
   "execution_count": 0,
   "metadata": {
    "application/vnd.databricks.v1+cell": {
     "cellMetadata": {
      "byteLimit": 2048000,
      "rowLimit": 10000
     },
     "inputWidgets": {},
     "nuid": "19bacfdd-5873-46e7-b5d3-884c0fee22c0",
     "showTitle": false,
     "title": ""
    }
   },
   "outputs": [
    {
     "output_type": "stream",
     "name": "stdout",
     "output_type": "stream",
     "text": [
      "Public Health & Health Services   -0.08142623870757437  treatment length  8593  control length  23666\nPublic Health & Health Services    prop of fem in treatment  59.42045851274293  and control  64.68773768275162\nPsychology & Cognitive Sciences   -0.015235781546837709  treatment length  4058  control length  11096\nPsychology & Cognitive Sciences    prop of fem in treatment  56.16067028092656  and control  57.02956020187455\nSocial Sciences   -0.08250415831673862  treatment length  3140  control length  11202\nSocial Sciences    prop of fem in treatment  49.617834394904456  and control  54.07962863774326\nCommunication & Textual Studies   0.027130240241411967  treatment length  523  control length  1441\nCommunication & Textual Studies    prop of fem in treatment  52.39005736137668  and control  51.006245662734216\nHistorical Studies   -0.15044988491316177  treatment length  342  control length  1064\nHistorical Studies    prop of fem in treatment  42.39766081871345  and control  49.90601503759399\nVisual & Performing Arts   -0.7142857142857143  treatment length  7  control length  16\nVisual & Performing Arts    prop of fem in treatment  14.285714285714285  and control  50.0\nBiology   -0.004839214657396361  treatment length  4725  control length  15605\nBiology    prop of fem in treatment  38.58201058201058  and control  38.7696251201538\nAgriculture, Fisheries & Forestry   0.13616095282877735  treatment length  1416  control length  8421\nAgriculture, Fisheries & Forestry    prop of fem in treatment  42.79661016949153  and control  37.66773542334639\nClinical Medicine   0.024357206312478154  treatment length  45554  control length  151733\nClinical Medicine    prop of fem in treatment  36.53466215919568  and control  35.6659395121694\nBiomedical Research   -0.09773949005571039  treatment length  12169  control length  34805\nBiomedical Research    prop of fem in treatment  32.78001479168379  and control  36.33098692716564\nBuilt Environment & Design   -0.00954131652661057  treatment length  204  control length  775\nBuilt Environment & Design    prop of fem in treatment  35.78431372549019  and control  36.12903225806451\nEarth & Environmental Sciences   0.05219749165308836  treatment length  2865  control length  7610\nEarth & Environmental Sciences    prop of fem in treatment  35.0087260034904  and control  33.272010512483575\nEconomics & Business    0.20670381361579265  treatment length  1932  control length  7541\nEconomics & Business     prop of fem in treatment  35.30020703933747  and control  29.253414666489856\nPhilosophy & Theology   0.1456753809873976  treatment length  113  control length  1189\nPhilosophy & Theology    prop of fem in treatment  33.6283185840708  and control  29.352396972245586\nInformation & Communication Technologies   0.030697154045171517  treatment length  840  control length  2200\nInformation & Communication Technologies    prop of fem in treatment  31.9047619047619  and control  30.954545454545457\nEngineering   0.05916809037341788  treatment length  989  control length  5063\nEngineering    prop of fem in treatment  27.30030333670374  and control  25.77523207584436\nEnabling & Strategic Technologies   0.006358413522410789  treatment length  3949  control length  15363\nEnabling & Strategic Technologies    prop of fem in treatment  22.638642694353  and control  22.495606326889277\nMathematics & Statistics   -0.10852713178294571  treatment length  100  control length  920\nMathematics & Statistics    prop of fem in treatment  25.0  and control  28.043478260869563\nChemistry   0.012785555440780114  treatment length  1981  control length  11961\nChemistry    prop of fem in treatment  19.73750630994447  and control  19.48833709556057\nPhysics & Astronomy   -0.0474047060548306  treatment length  2850  control length  13017\nPhysics & Astronomy    prop of fem in treatment  21.017543859649123  and control  22.063455481293694\nOut[10]: Text(0.5, 0, 'relative difference of female in treatment and control group')"
     ]
    },
    {
     "output_type": "display_data",
     "data": {
      "image/png": "[encoded data removed]"
     },
     "metadata": {
      "application/vnd.databricks.v1+output": {
       "addedWidgets": {},
       "arguments": {},
       "data": "data:image/png;base64,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\n",
       "datasetInfos": [],
       "metadata": {},
       "removedWidgets": [],
       "type": "image"
      }
     },
     "output_type": "display_data"
    }
   ],
   "source": [
    "import matplotlib.pyplot as plt \n",
    "\n",
    "import matplotlib.colors as mcolors\n",
    "import seaborn as sns\n",
    "domain = dummy['Field_English'].unique()\n",
    "diff = []\n",
    "fig = plt.figure(figsize =(5, 5))\n",
    "\n",
    "color = ['hotpink','darkviolet','mediumblue','lightblue', 'blue', 'purple', 'red', 'violet','teal','aqua']\n",
    "#color = []\n",
    "\n",
    "for c in mcolors.TABLEAU_COLORS:\n",
    "  color.append(c)\n",
    "  if len(color) == 20:\n",
    "    break\n",
    "\n",
    "aax = ['Public Health & Health Services', 'Psychology & Cognitive Sciences', 'Social Sciences', 'Communication & Textual Studies', 'Historical Studies', 'Visual & Performing Arts', 'Biology', 'Agriculture, Fisheries & Forestry', 'Clinical Medicine', 'Biomedical Research', 'Built Environment & Design', 'Earth & Environmental Sciences', 'Economics & Business ', 'Philosophy & Theology', 'Information & Communication Technologies', 'Engineering', 'Enabling & Strategic Technologies', 'Mathematics & Statistics', 'Chemistry', 'Physics & Astronomy']\n",
    "for i in aax:\n",
    "  tc = dummy[dummy['Field_English'] == i]\n",
    "  t = tc[tc['treatment'] == '1']\n",
    "  c = tc[tc['treatment'] == '0']\n",
    "\n",
    "  t_female = len(t[t['gender'] == 'female']) \n",
    "  c_female = len(c[c['gender'] == 'female'])\n",
    "\n",
    "  #print(\"domain \",i,\" , treatment: \",(t_female/len(t))*100, \" control: \",(c_female/len(c)*100))\n",
    "  diff.append((((t_female/len(t)) - (c_female/len(c)))/(c_female/len(c)))*100)\n",
    "  print(i,\" \",((t_female/len(t)) - (c_female/len(c)))/(c_female/len(c)), \" treatment length \",len(t),\" control length \",len(c))\n",
    "  print(i,\" \",\" prop of fem in treatment \",(t_female/len(t))*100, \" and control \",(c_female/len(c))*100)\n",
    "plt.barh(aax, diff, color = color)\n",
    "plt.xlabel(\"relative difference of female in treatment and control group\")"
   ]
  },
  {
   "cell_type": "code",
   "execution_count": 0,
   "metadata": {
    "application/vnd.databricks.v1+cell": {
     "cellMetadata": {
      "byteLimit": 2048000,
      "rowLimit": 10000
     },
     "inputWidgets": {},
     "nuid": "2af956dd-91a1-47c0-8e4d-e590a6feeda8",
     "showTitle": false,
     "title": ""
    }
   },
   "outputs": [
    {
     "output_type": "stream",
     "name": "stdout",
     "output_type": "stream",
     "text": [
      "[13.616095282877735, -0.954131652661057, 0.635841352241079, 5.916809037341788, 3.0697154045171517, 2.7130240241411965, -15.044988491316177, 14.56753809873976, -71.42857142857143, 20.670381361579267, -8.25041583167386, -9.773949005571039, 2.4357206312478152, -1.523578154683771, -8.142623870757436, -0.4839214657396361, 1.2785555440780114, 5.219749165308836, -10.852713178294572, -4.74047060548306]\n"
     ]
    }
   ],
   "source": [
    "#print(samp)\n",
    "a = ['Agriculture, Fisheries & Forestry','Built Environment & Design','Enabling & Strategic Technologies', 'Engineering','Information & Communication Technologies',\n",
    "    'Communication & Textual Studies','Historical Studies','Philosophy & Theology','Visual & Performing Arts',\n",
    "'Economics & Business ','Social Sciences',\n",
    "                   'Biomedical Research','Clinical Medicine','Psychology & Cognitive Sciences','Public Health & Health Services',\n",
    "                   'Biology','Chemistry','Earth & Environmental Sciences','Mathematics & Statistics','Physics & Astronomy']\n",
    "diff =[]\n",
    "for i in a:\n",
    "  tc = dummy[dummy['Field_English'] == i]\n",
    "  t = tc[tc['treatment'] == '1']\n",
    "  c = tc[tc['treatment'] == '0']\n",
    "\n",
    "  t_female = len(t[t['gender'] == 'female']) \n",
    "  c_female = len(c[c['gender'] == 'female'])\n",
    "\n",
    "  #print(\"domain \",i,\" , treatment: \",(t_female/len(t))*100, \" control: \",(c_female/len(c)*100))\n",
    "  diff.append((((t_female/len(t)) - (c_female/len(c)))/(c_female/len(c)))*100)\n",
    "print(diff)"
   ]
  },
  {
   "cell_type": "code",
   "execution_count": 0,
   "metadata": {
    "application/vnd.databricks.v1+cell": {
     "cellMetadata": {
      "byteLimit": 2048000,
      "rowLimit": 10000
     },
     "inputWidgets": {},
     "nuid": "18f065fa-8e75-4433-acc0-f097254c3340",
     "showTitle": false,
     "title": ""
    }
   },
   "outputs": [
    {
     "output_type": "stream",
     "name": "stdout",
     "output_type": "stream",
     "text": [
      "treatment  96350  female  0.3805604566683965  control  324688  female  0.37335226432760066\nApplied Sciences   0.020949480812523017  treatment length  7398  control length  31822\nfemale in treat  0.28534739118680724  female in control  0.27949217522468733\nArts & Humanities   0.06288098432745023  treatment length  985  control length  3710\nfemale in treat  0.4649746192893401  female in control  0.43746630727762803\nEconomic & Social Sciences   0.0016536320355705837  treatment length  5072  control length  18743\nfemale in treat  0.4416403785488959  female in control  0.4409112735421224\nHealth Sciences   -0.0033482005107076055  treatment length  70374  control length  221300\nfemale in treat  0.39811578139653847  female in control  0.39945323090826934\nNatural Sciences   0.07285704899340989  treatment length  12521  control length  49113\nfemale in treat  0.306764635412507  female in control  0.2859324415124305\nOut[15]: <BarContainer object of 5 artists>"
     ]
    },
    {
     "output_type": "display_data",
     "data": {
      "image/png": "[encoded data removed]"
     },
     "metadata": {
      "application/vnd.databricks.v1+output": {
       "addedWidgets": {},
       "arguments": {},
       "data": "data:image/png;base64,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\n",
       "datasetInfos": [],
       "metadata": {},
       "removedWidgets": [],
       "type": "image"
      }
     },
     "output_type": "display_data"
    }
   ],
   "source": [
    "import matplotlib.pyplot as plt \n",
    "domain = dummy['Domain_English'].unique()\n",
    "diff = []\n",
    "fig = plt.figure(figsize =(10, 10))\n",
    "\n",
    "tt = dummy[dummy['treatment'] == '1']\n",
    "tc = dummy[dummy['treatment'] == '0']\n",
    "print(\"treatment \",len(tt),\" female \",len(tt[tt['gender'] == \"female\"])/len(tt),\" control \",len(tc),\" female \",len(tc[tc['gender'] == \"female\"])/len(tc))\n",
    "\n",
    "for i in domain:\n",
    "  tc = dummy[dummy['Domain_English'] == i]\n",
    "  t = tc[tc['treatment'] == '1']\n",
    "  c = tc[tc['treatment'] == '0']\n",
    "\n",
    "  t_female = len(t[t['gender'] == 'female']) \n",
    "  c_female = len(c[c['gender'] == 'female'])\n",
    "\n",
    "  #print(\"domain \",i,\" , treatment: \",(t_female/len(t))*100, \" control: \",(c_female/len(c)*100))\n",
    "  diff.append(((t_female/len(t)) - (c_female/len(c)))/(c_female/len(c)))\n",
    "  print(i,\" \",((t_female/len(t)) - (c_female/len(c)))/(c_female/len(c)), \" treatment length \",len(t),\" control length \",len(c))\n",
    "  print(\"female in treat \",t_female/len(t),\" female in control \",c_female/len(c))\n",
    "plt.barh(domain, diff)"
   ]
  },
  {
   "cell_type": "code",
   "execution_count": 0,
   "metadata": {
    "application/vnd.databricks.v1+cell": {
     "cellMetadata": {
      "byteLimit": 2048000,
      "rowLimit": 10000
     },
     "inputWidgets": {},
     "nuid": "1183b4e6-5de4-474d-9f87-b32e08a01249",
     "showTitle": false,
     "title": ""
    }
   },
   "outputs": [
    {
     "output_type": "stream",
     "name": "stdout",
     "output_type": "stream",
     "text": [
      "                                      domain   fem_diff\n0          Agriculture, Fisheries & Forestry  13.616095\n1                 Built Environment & Design  -0.954132\n2          Enabling & Strategic Technologies   0.635841\n3                                Engineering   5.916809\n4   Information & Communication Technologies   3.069715\n5            Communication & Textual Studies   2.713024\n6                         Historical Studies -15.044988\n7                      Philosophy & Theology  14.567538\n8                   Visual & Performing Arts -71.428571\n9                      Economics & Business   20.670381\n10                           Social Sciences  -8.250416\n11                       Biomedical Research  -9.773949\n12                         Clinical Medicine   2.435721\n13           Psychology & Cognitive Sciences  -1.523578\n14           Public Health & Health Services  -8.142624\n15                                   Biology  -0.483921\n16                                 Chemistry   1.278556\n17            Earth & Environmental Sciences   5.219749\n18                  Mathematics & Statistics -10.852713\n19                       Physics & Astronomy  -4.740471\n<Figure size 648x648 with 0 Axes>"
     ]
    }
   ],
   "source": [
    "import matplotlib.pyplot as plt \n",
    "domain = dummy['Field_English'].unique()\n",
    "diff = []\n",
    "fig = plt.figure(figsize =(9, 9))\n",
    "\n",
    "for i in domain:\n",
    "  tc = dummy[dummy['Field_English'] == i]\n",
    "  t = tc[tc['treatment'] == '1']\n",
    "  c = tc[tc['treatment'] == '0']\n",
    "\n",
    "  t_female = len(t[t['gender'] == 'female']) \n",
    "  c_female = len(c[c['gender'] == 'female'])\n",
    "\n",
    "  #print(\"domain \",i,\" , treatment: \",(t_female/len(t))*100, \" control: \",(c_female/len(c)*100))\n",
    "  diff.append((((t_female/len(t)) - (c_female/len(c)))/(c_female/len(c)))*100)\n",
    "  #print(i,\" \",((t_female/len(t)) - (c_female/len(c)))/(c_female/len(c)), \" treatment length \",len(t),\" control length \",len(c))\n",
    "#plt.barh(domain, diff)\n",
    "#plt.xlabel(\"relative difference of female in treatment and control group\")\n",
    "newdata = pd.DataFrame()\n",
    "newdata['domain'] = domain\n",
    "newdata['fem_diff'] = diff\n",
    "print(newdata)"
   ]
  },
  {
   "cell_type": "code",
   "execution_count": 0,
   "metadata": {
    "application/vnd.databricks.v1+cell": {
     "cellMetadata": {
      "byteLimit": 2048000,
      "rowLimit": 10000
     },
     "inputWidgets": {},
     "nuid": "d4868a8e-1390-44e0-8744-656fe591f1d4",
     "showTitle": false,
     "title": ""
    }
   },
   "outputs": [
    {
     "output_type": "stream",
     "name": "stdout",
     "output_type": "stream",
     "text": [
      "                                      domain  male_diff\n0          Agriculture, Fisheries & Forestry  -8.228282\n1                 Built Environment & Design   0.539711\n2          Enabling & Strategic Technologies  -0.184553\n3                                Engineering  -2.054666\n4   Information & Communication Technologies  -1.376219\n5            Communication & Textual Studies  -2.824466\n6                         Historical Studies  14.988535\n7                      Philosophy & Theology  -6.052465\n8                   Visual & Performing Arts  71.428571\n9                      Economics & Business   -8.547116\n10                           Social Sciences   9.716372\n11                       Biomedical Research   5.577238\n12                         Clinical Medicine  -1.350331\n13           Psychology & Cognitive Sciences   2.022064\n14           Public Health & Health Services  14.916289\n15                                   Biology   0.306408\n16                                 Chemistry  -0.309482\n17            Earth & Environmental Sciences  -2.602679\n18                  Mathematics & Statistics   4.229607\n19                       Physics & Astronomy   1.342004\n<Figure size 648x648 with 0 Axes>"
     ]
    }
   ],
   "source": [
    "import matplotlib.pyplot as plt \n",
    "domain = dummy['Field_English'].unique()\n",
    "diff = []\n",
    "fig = plt.figure(figsize =(9, 9))\n",
    "\n",
    "for i in domain:\n",
    "  tc = dummy[dummy['Field_English'] == i]\n",
    "  t = tc[tc['treatment'] == '1']\n",
    "  c = tc[tc['treatment'] == '0']\n",
    "\n",
    "  t_male = len(t[t['gender'] == 'male']) \n",
    "  c_male = len(c[c['gender'] == 'male'])\n",
    "\n",
    "  #print(\"domain \",i,\" , treatment: \",(t_female/len(t))*100, \" control: \",(c_female/len(c)*100))\n",
    "  diff.append((((t_male/len(t)) - (c_male/len(c)))/(c_male/len(c)))*100)\n",
    "  #print(i,\" \",((t_female/len(t)) - (c_female/len(c)))/(c_female/len(c)), \" treatment length \",len(t),\" control length \",len(c))\n",
    "#plt.barh(domain, diff)\n",
    "#plt.xlabel(\"relative difference of female in treatment and control group\")\n",
    "newdata = pd.DataFrame()\n",
    "newdata['domain'] = domain\n",
    "newdata['male_diff'] = diff\n",
    "print(newdata)"
   ]
  },
  {
   "cell_type": "markdown",
   "metadata": {
    "application/vnd.databricks.v1+cell": {
     "cellMetadata": {
      "byteLimit": 2048000,
      "rowLimit": 10000
     },
     "inputWidgets": {},
     "nuid": "d671265d-59c7-445d-a682-3ae9f066cf75",
     "showTitle": false,
     "title": ""
    }
   },
   "source": [
    "### regression analysis on domain level documented in paper, controlling for covid is not necessary as controlling for year"
   ]
  },
  {
   "cell_type": "code",
   "execution_count": 0,
   "metadata": {
    "application/vnd.databricks.v1+cell": {
     "cellMetadata": {
      "byteLimit": 2048000,
      "rowLimit": 10000
     },
     "inputWidgets": {},
     "nuid": "613a47e1-65b0-4d5f-8227-5bb4e16e2d53",
     "showTitle": false,
     "title": ""
    }
   },
   "outputs": [],
   "source": [
    "import rpy2.robjects.packages as rpackages\n",
    "import rpy2.robjects.vectors as robjects_vectors\n",
    "\n",
    "\n",
    "from rpy2.robjects import r, pandas2ri\n",
    "import rpy2.robjects as ro\n",
    "from rpy2.robjects.packages import importr\n",
    "\n",
    "# import R's utility package\n",
    "#utils = rpackages.importr('utils')\n",
    "#utils.chooseCRANmirror(ind=1)\n",
    "from rpy2.robjects.conversion import localconverter\n",
    "base = importr('base')\n",
    "from rpy2.robjects import Formula\n",
    "stats = importr('stats')"
   ]
  },
  {
   "cell_type": "code",
   "execution_count": 0,
   "metadata": {
    "application/vnd.databricks.v1+cell": {
     "cellMetadata": {
      "byteLimit": 2048000,
      "rowLimit": 10000
     },
     "inputWidgets": {},
     "nuid": "fb9162ad-4377-4cac-8ac2-8dd9ada807ac",
     "showTitle": false,
     "title": ""
    }
   },
   "outputs": [
    {
     "output_type": "stream",
     "name": "stdout",
     "output_type": "stream",
     "text": [
      "9837\nlength of treatment  0.4279661016949153\nlength of control  0.37667735423346393\n<command-2482583978944030>:30: SettingWithCopyWarning: \nA value is trying to be set on a copy of a slice from a DataFrame.\nTry using .loc[row_indexer,col_indexer] = value instead\n\nSee the caveats in the documentation: https://pandas.pydata.org/pandas-docs/stable/user_guide/indexing.html#returning-a-view-versus-a-copy\n  a['outcome'] = out\n<command-2482583978944030>:32: SettingWithCopyWarning: \nA value is trying to be set on a copy of a slice from a DataFrame.\nTry using .loc[row_indexer,col_indexer] = value instead\n\nSee the caveats in the documentation: https://pandas.pydata.org/pandas-docs/stable/user_guide/indexing.html#returning-a-view-versus-a-copy\n  a['covid'] = cov\n\nCall:\n(function (formula, family = gaussian, data, weights, subset, \n    na.action, start = NULL, etastart, mustart, offset, control = list(...), \n    model = TRUE, method = \"glm.fit\", x = FALSE, y = TRUE, singular.ok = TRUE, \n    contrasts = NULL, ...) \n{\n    cal <- match.call()\n    if (is.character(family)) \n        family <- get(family, mode = \"function\", envir = parent.frame())\n    if (is.function(family)) \n        family <- family()\n    if (is.null(family$family)) {\n        print(family)\n        stop(\"'family' not recognized\")\n    }\n    if (missing(data)) \n        data <- environment(formula)\n    mf <- match.call(expand.dots = FALSE)\n    m <- match(c(\"formula\", \"data\", \"subset\", \"weights\", \"na.action\", \n        \"etastart\", \"mustart\", \"offset\"), names(mf), 0L)\n    mf <- mf[c(1L, m)]\n    mf$drop.unused.levels <- TRUE\n    mf[[1L]] <- quote(stats::model.frame)\n    mf <- eval(mf, parent.frame())\n    if (identical(method, \"model.frame\")) \n        return(mf)\n    if (!is.character(method) && !is.function(method)) \n        stop(\"invalid 'method' argument\")\n    if (identical(method, \"glm.fit\")) \n        control <- do.call(\"glm.control\", control)\n    mt <- attr(mf, \"terms\")\n    Y <- model.response(mf, \"any\")\n    if (length(dim(Y)) == 1L) {\n        nm <- rownames(Y)\n        dim(Y) <- NULL\n        if (!is.null(nm)) \n            names(Y) <- nm\n    }\n    X <- if (!is.empty.model(mt)) \n        model.matrix(mt, mf, contrasts)\n    else matrix(, NROW(Y), 0L)\n    weights <- as.vector(model.weights(mf))\n    if (!is.null(weights) && !is.numeric(weights)) \n        stop(\"'weights' must be a numeric vector\")\n    if (!is.null(weights) && any(weights < 0)) \n        stop(\"negative weights not allowed\")\n    offset <- as.vector(model.offset(mf))\n    if (!is.null(offset)) {\n        if (length(offset) != NROW(Y)) \n            stop(gettextf(\"number of offsets is %d should equal %d (number of observations)\", \n                length(offset), NROW(Y)), domain = NA)\n    }\n    mustart <- model.extract(mf, \"mustart\")\n    etastart <- model.extract(mf, \"etastart\")\n    fit <- eval(call(if (is.function(method)) \"method\" else method, \n        x = X, y = Y, weights = weights, start = start, etastart = etastart, \n        mustart = mustart, offset = offset, family = family, \n        control = control, intercept = attr(mt, \"intercept\") > \n            0L, singular.ok = singular.ok))\n    if (length(offset) && attr(mt, \"intercept\") > 0L) {\n        fit2 <- eval(call(if (is.function(method)) \"method\" else method, \n            x = X[, \"(Intercept)\", drop = FALSE], y = Y, mustart = fit$fitted.values, \n            weights = weights, offset = offset, family = family, \n            control = control, intercept = TRUE))\n        if (!fit2$converged) \n            warning(\"fitting to calculate the null deviance did not converge -- increase 'maxit'?\")\n        fit$null.deviance <- fit2$deviance\n    }\n    if (model) \n        fit$model <- mf\n    fit$na.action <- attr(mf, \"na.action\")\n    if (x) \n        fit$x <- X\n    if (!y) \n        fit$y <- NULL\n    structure(c(fit, list(call = cal, formula = formula, terms = mt, \n        data = data, offset = offset, control = control, method = method, \n        contrasts = attr(X, \"contrasts\"), xlevels = .getXlevels(mt, \n            mf))), class = c(fit$class, c(\"glm\", \"lm\")))\n})(formula = \"outcome ~ gender+year+q+subfield_article+team_size+openaccess_status\", \n    family = structure(list(family = \"binomial\", link = \"logit\", \n        linkfun = function (mu) \n        .Call(C_logit_link, mu), linkinv = function (eta) \n        .Call(C_logit_linkinv, eta), variance = function (mu) \n        mu * (1 - mu), dev.resids = function (y, mu, wt) \n        .Call(C_binomial_dev_resids, y, mu, wt), aic = function (y, \n            n, mu, wt, dev) \n        {\n            m <- if (any(n > 1)) \n                n\n            else wt\n            -2 * sum(ifelse(m > 0, (wt/m), 0) * dbinom(round(m * \n                y), round(m), mu, log = TRUE))\n        }, mu.eta = function (eta) \n        .Call(C_logit_mu_eta, eta), initialize = {\n            if (NCOL(y) == 1) {\n                if (is.factor(y)) \n                  y <- y != levels(y)[1L]\n                n <- rep.int(1, nobs)\n                y[weights == 0] <- 0\n                if (any(y < 0 | y > 1)) \n                  stop(\"y values must be 0 <= y <= 1\")\n                mustart <- (weights * y + 0.5)/(weights + 1)\n                m <- weights * y\n                if (\"binomial\" == \"binomial\" && any(abs(m - round(m)) > \n                  0.001)) \n                  warning(gettextf(\"non-integer #successes in a %s glm!\", \n                    \"binomial\"), domain = NA)\n            }\n            else if (NCOL(y) == 2) {\n                if (\"binomial\" == \"binomial\" && any(abs(y - round(y)) > \n                  0.001)) \n                  warning(gettextf(\"non-integer counts in a %s glm!\", \n                    \"binomial\"), domain = NA)\n                n <- (y1 <- y[, 1L]) + y[, 2L]\n                y <- y1/n\n                if (any(n0 <- n == 0)) \n                  y[n0] <- 0\n                weights <- weights * n\n                mustart <- (n * y + 0.5)/(n + 1)\n            }\n            else stop(gettextf(\"for the '%s' family, y must be a vector of 0 and 1's\\nor a 2 column matrix where col 1 is no. successes and col 2 is no. failures\", \n                \"binomial\"), domain = NA)\n        }, validmu = function (mu) \n        all(is.finite(mu)) && all(mu > 0 & mu < 1), valideta = function (eta) \n        TRUE, simulate = function (object, nsim) \n        {\n            ftd <- fitted(object)\n            n <- length(ftd)\n            ntot <- n * nsim\n            wts <- object$prior.weights\n            if (any(wts%%1 != 0)) \n                stop(\"cannot simulate from non-integer prior.weights\")\n            if (!is.null(m <- object$model)) {\n                y <- model.response(m)\n                if (is.factor(y)) {\n                  yy <- factor(1 + rbinom(ntot, size = 1, prob = ftd), \n                    labels = levels(y))\n                  split(yy, rep(seq_len(nsim), each = n))\n                }\n                else if (is.matrix(y) && ncol(y) == 2) {\n                  yy <- vector(\"list\", nsim)\n                  for (i in seq_len(nsim)) {\n                    Y <- rbinom(n, size = wts, prob = ftd)\n                    YY <- cbind(Y, wts - Y)\n                    colnames(YY) <- colnames(y)\n                    yy[[i]] <- YY\n                  }\n                  yy\n                }\n                else rbinom(ntot, size = wts, prob = ftd)/wts\n            }\n            else rbinom(ntot, size = wts, prob = ftd)/wts\n        }), class = \"family\"), data = structure(list(Domain_English = c(\"Applied Sciences\", \n    \"Applied Sciences\", \"Applied Sciences\", \"Applied Sciences\", \n    \"Applied Sciences\", \"Applied Sciences\", \"Applied Sciences\", \n    \"Applied Sciences\", \"Applied Sciences\", \"Applied Sciences\", \n    \"Applied Sciences\", \"Applied Sciences\", \"Applied Sciences\", \n    \"Applied Sciences\", \"Applied Sciences\", \"Applied Sciences\", \n    \"Applied Sciences\", \"Applied Sciences\", \"Applied Sciences\", \n    \"Applied Sciences\", \"Applied Sciences\", \"Applied Sciences\", \n    \"Applied Sciences\", \"Applied Sciences\", \"Applied Sciences\", \n    \"Applied Sciences\", \"Applied Sciences\", \"Applied Sciences\", \n    \"Applied Sciences\", \"Applied Sciences\", \"Applied Sciences\", \n    \"Applied Sciences\", \"Applied Sciences\", \"Applied Sciences\", \n    \"Applied Sciences\", \"Applied Sciences\", \"Applied Sciences\", \n    \"Applied Sciences\", \"Applied Sciences\", \"Applied Sciences\", \n    \"Applied Sciences\", \"Applied Sciences\", \"Applied Sciences\", \n    \"Applied Sciences\", \"Applied Sciences\", \"Applied Sciences\", \n    \"Applied Sciences\", \"Applied Sciences\", \"Applied Sciences\", \n    \"Applied Sciences\", \"Applied Sciences\", \"Applied Sciences\", \n    \"Applied Sciences\", \"Applied Sciences\", \"Applied Sciences\", \n    \"Applied Sciences\", \"Applied Sciences\", \"Applied Sciences\", \n    \"Applied Sciences\", \"Applied Sciences\", \"Applied Sciences\", \n    \"Applied Sciences\", \"Applied Sciences\", \"Applied Sciences\", \n    \"Applied Sciences\", \"Applied Sciences\", \"Applied Sciences\", \n    \"Applied Sciences\", \"Applied Sciences\", \"Applied Sciences\", \n    \"Applied Sciences\", \"Applied Sciences\", \"Applied Sciences\", \n    \"Applied Sciences\", \"Applied Sciences\", \"Applied Sciences\", \n    \"Applied Sciences\", \"Applied Sciences\", \"Applied Sciences\", \n    \"Applied Sciences\", \"Applied Sciences\", \"Applied Sciences\", \n    \"Applied Sciences\", \"Applied Sciences\", \"Applied Sciences\", \n    \"Applied Sciences\", \"Applied Sciences\", \"Applied Sciences\", \n    \"Applied Sciences\", \"Applied Sciences\", \"Applied Sciences\", \n    \"Applied Sciences\", \"Applied Sciences\", \"Applied Sciences\", \n    \"Applied Sciences\", \"Applied Sciences\", \"Applied Sciences\", \n    \"Applied Sciences\", \"Applied Sciences\", \"Applied Sciences\", \n    \"Applied Sciences\", \"Applied Sciences\", \"Applied Sciences\", \n    \"Applied Sciences\", \"Applied Sciences\", \"Applied Sciences\", \n    \"Applied Sciences\", \"Applied Sciences\", \"Applied Sciences\", \n    \"Applied Sciences\", \"Applied Sciences\", \"Applied Sciences\", \n    \"Applied Sciences\", \"Applied Sciences\", \"Applied Sciences\", \n    \"Applied Sciences\", \"Applied Sciences\", \"Applied Sciences\", \n    \"Applied Sciences\", \"Applied Sciences\", \"Applied Sciences\", \n    \"Applied Sciences\", \"Applied Sciences\", \"Applied Sciences\", \n    \"Applied Sciences\", \"Applied Sciences\", \"Applied Sciences\", \n    \"Applied Sciences\", \"Applied Sciences\", \"Applied Sciences\", \n    \"Applied Sciences\", \"Applied Sciences\", \"Applied Sciences\", \n    \"Applied Sciences\", \"Applied Sciences\", \"Applied Sciences\", \n    \"Applied Sciences\", \"Applied Sciences\", \"Applied Sciences\", \n    \"Applied Sciences\", \"Applied Sciences\", \"Applied Sciences\", \n    \"Applied Sciences\", \"Applied Sciences\", \"Applied Sciences\", \n    \"Applied Sciences\", \"Applied Sciences\", \"Applied Sciences\", \n    \"Applied Sciences\", \"Applied Sciences\", \"Applied Sciences\", \n    \"Applied Sciences\", \"Applied Sciences\", \"Applied Sciences\", \n    \"Applied Sciences\", \"Applied Sciences\", \"Applied Sciences\", \n    \"Applied Sciences\", \"Applied Sciences\", \"Applied Sciences\", \n    \"Applied Sciences\", \"Applied Sciences\", \"Applied Sciences\", \n    \"Applied Sciences\", \"Applied Sciences\", \"Applied Sciences\", \n    \"Applied Sciences\", \"Applied Sciences\", \"Applied Sciences\", \n    \"Applied Sciences\", \"Applied Sciences\", \"Applied Sciences\", \n    \"Applied Sciences\", \"Applied Sciences\", \"Applied Sciences\", \n    \"Applied Sciences\", \"Applied Sciences\", \"Applied Sciences\", \n    \"Applied Sciences\", \"Applied Sciences\", \"Applied Sciences\", \n    \"Applied Sciences\", \"Applied Sciences\", \"Applied Sciences\", \n    \"Applied Sciences\", \"Applied Sciences\", \"Applied Sciences\", \n    \"Applied Sciences\", \"Applied Sciences\", \"Applied Sciences\", \n    \"Applied Sciences\", \"Applied Sciences\", \"Applied Sciences\", \n    \"Applied Sciences\", \"Applied Sciences\", \"Applied Sciences\", \n    \"Applied Sciences\", \"Applied Sciences\", \"Applied Sciences\", \n    \"Applied Sciences\", \"Applied Sciences\", \"Applied Sciences\", \n    \"Applied Sciences\", \"Applied Sciences\", \"Applied Sciences\", \n    \"Applied Sciences\", \"Applied Sciences\", \"Applied Sciences\", \n    \"Applied Sciences\", \"Applied Sciences\", \"Applied Sciences\", \n    \"Applied Sciences\", \"Applied Sciences\", \"Applied Sciences\", \n    \"Applied Sciences\", \"Applied Sciences\", \"Applied Sciences\", \n    \"Applied Sciences\", \"Applied Sciences\", \"Applied Sciences\", \n    \"Applied Sciences\", \"Applied Sciences\", \"Applied Sciences\", \n    \"Applied Sciences\", \"Applied Sciences\", \"Applied Sciences\", \n    \"Applied Sciences\", \"Applied Sciences\", \"Applied Sciences\", \n    \"Applied Sciences\", \"Applied Sciences\", \"Applied Sciences\", \n    \"Applied Sciences\", \"Applied Sciences\", \"Applied Sciences\", \n    \"Applied Sciences\", \"Applied Sciences\", \"Applied Sciences\", \n    \"Applied Sciences\", \"Applied Sciences\", \"Applied Sciences\", \n    \"Applied Sciences\", \"Applied Sciences\", \"Applied Sciences\", \n    \"Applied Sciences\", \"Applied Sciences\", \"Applied Sciences\", \n    \"Applied Sciences\", \"Applied Sciences\", \"Applied Sciences\", \n    \"Applied Sciences\", \"Applied Sciences\", \"Applied Sciences\", \n    \"Applied Sciences\", \"Applied Sciences\", \"Applied Sciences\", \n    \"Applied Sciences\", \"Applied Sciences\", \"Applied Sciences\", \n    \"Applied Sciences\", \"Applied Sciences\", \"Applied Sciences\", \n    \"Applied Sciences\", \"Applied Sciences\", \"Applied Sciences\", \n    \"Applied Sciences\", \"Applied Sciences\", \"Applied Sciences\", \n    \"Applied Sciences\", \"Applied Sciences\", \"Applied Sciences\", \n    \"Applied Sciences\", \"Applied Sciences\", \"Applied Sciences\", \n    \"Applied Sciences\", \"Applied Sciences\", \"Applied Sciences\", \n    \"Applied Sciences\", \"Applied Sciences\", \"Applied Sciences\", \n    \"Applied Sciences\", \"Applied Sciences\", \"Applied Sciences\", \n    \"Applied Sciences\", \"Applied Sciences\", \"Applied Sciences\", \n    \"Applied Sciences\", \"Applied Sciences\", \"Applied Sciences\", \n    \"Applied Sciences\", \"Applied Sciences\", \"Applied Sciences\", \n    \"Applied Sciences\", \"Applied Sciences\", \"Applied Sciences\", \n    \"Applied Sciences\", \"Applied Sciences\", \"Applied Sciences\", \n    \"Applied Sciences\", \"Applied Sciences\", \"Applied Sciences\", \n    \"Applied Sciences\", \"Applied Sciences\", \"Applied Sciences\", \n    \"Applied Sciences\", \"Applied Sciences\", \"Applied Sciences\", \n    \"Applied Sciences\", \"Applied Sciences\", \"Applied Sciences\", \n    \"Applied Sciences\", \"Applied Sciences\", \"Applied Sciences\", \n    \"Applied Sciences\", \"Applied Sciences\", \"Applied Sciences\", \n    \"Applied Sciences\", \"Applied Sciences\", \"Applied Sciences\", \n    \"Applied Sciences\", \"Applied Sciences\", \"Applied Sciences\", \n    \"Applied Sciences\", \"Applied Sciences\", \"Applied Sciences\", \n    \"Applied Sciences\", \"Applied Sciences\", \"Applied Sciences\", \n    \"Applied Sciences\", \"Applied Sciences\", \"Applied Sciences\", \n    \"Applied Sciences\", \"Applied Sciences\", \"Applied Sciences\", \n    \"Applied Sciences\", \"Applied Sciences\", \"Applied Sciences\", \n    \"Applied Sciences\", \"Applied Sciences\", \"Applied Sciences\", \n    \"Applied Sciences\", \"Applied Sciences\", \"Applied Sciences\", \n    \"Applied Sciences\", \"Applied Sciences\", \"Applied Sciences\", \n    \"Applied Sciences\", \"Applied Sciences\", \"Applied Sciences\", \n    \"Applied Sciences\", \"Applied Sciences\", \"Applied Sciences\", \n    \"Applied Sciences\", \"Applied Sciences\", \"Applied Sciences\", \n    \"Applied Sciences\", \"Applied Sciences\", \"Applied Sciences\", \n    \"Applied Sciences\", \"Applied Sciences\", \"Applied Sciences\", \n    \"Applied Sciences\", \"Applied Sciences\", \"Applied Sciences\", \n    \"Applied Sciences\", \"Applied Sciences\", \"Applied Sciences\", \n    \"Applied Sciences\", \"Applied Sciences\", \"Applied Sciences\", \n    \"Applied Sciences\", \"Applied Sciences\", \"Applied Sciences\", \n    \"Applied Sciences\", \"Applied Sciences\", \"Applied Sciences\", \n    \"Applied Sciences\", \"Applied Sciences\", \"Applied Sciences\", \n    \"Applied Sciences\", \"Applied Sciences\", \"Applied Sciences\", \n    \"Applied Sciences\", \"Applied Sciences\", \"Applied Sciences\", \n    \"Applied Sciences\", \"Applied Sciences\", \"Applied Sciences\", \n    \"Applied Sciences\", \"Applied Sciences\", \"Applied Sciences\", \n    \"Applied Sciences\", \"Applied Sciences\", \"Applied Sciences\", \n    \"Applied Sciences\", \"Applied Sciences\", \"Applied Sciences\", \n    \"Applied Sciences\", \"Applied Sciences\", \"Applied Sciences\", \n    \"Applied Sciences\", \"Applied Sciences\", \"Applied Sciences\", \n    \"Applied Sciences\", \"Applied Sciences\", \"Applied Sciences\", \n    \"Applied Sciences\", \"Applied Sciences\", \"Applied Sciences\", \n    \"Applied Sciences\", \"Applied Sciences\", \"Applied Sciences\", \n    \"Applied Sciences\", \"Applied Sciences\", \"Applied Sciences\", \n    \"Applied Sciences\", \"Applied Sciences\", \"Applied Sciences\", \n    \"Applied Sciences\", \"Applied Sciences\", \"Applied Sciences\", \n    \"Applied Sciences\", \"Applied Sciences\", \"Applied Sciences\", \n    \"Applied Sciences\", \"Applied Sciences\", \"Applied Sciences\", \n    \"Applied Sciences\", \"Applied Sciences\", \"Applied Sciences\", \n    \"Applied Sciences\", \"Applied Sciences\", \"Applied Sciences\", \n    \"Applied Sciences\", \"Applied Sciences\", \"Applied Sciences\", \n    \"Applied Sciences\", \"Applied Sciences\", \"Applied Sciences\", \n    \"Applied Sciences\", \"Applied Sciences\", \"Applied Sciences\", \n    \"Applied Sciences\", \"Applied Sciences\", \"Applied Sciences\", \n    \"Applied Sciences\", \"Applied Sciences\", \"Applied Sciences\", \n    \"Applied Sciences\", \"Applied Sciences\", \"Applied Sciences\", \n    \"Applied Sciences\", \"Applied Sciences\", \"Applied Sciences\", \n    \"Applied Sciences\", \"Applied Sciences\", \"Applied Sciences\", \n    \"Applied Sciences\", \"Applied Sciences\", \"Applied Sciences\", \n    \"Applied Sciences\", \"Applied Sciences\", \"Applied Sciences\", \n    \"Applied Sciences\", \"Applied Sciences\", \"Applied Sciences\", \n    \"Applied Sciences\", \"Applied Sciences\", \"Applied Sciences\", \n    \"Applied Sciences\", \"Applied Sciences\", \"Applied Sciences\", \n    \"Applied Sciences\", \"Applied Sciences\", \"Applied Sciences\", \n    \"Applied Sciences\", \"Applied Sciences\", \"Applied Sciences\", \n    \"Applied Sciences\", \"Applied Sciences\", \"Applied Sciences\", \n    \"Applied Sciences\", \"Applied Sciences\", \"Applied Sciences\", \n    \"Applied Sciences\", \"Applied Sciences\", \"Applied Sciences\", \n    \"Applied Sciences\", \"Applied Sciences\", \"Applied Sciences\", \n    \"Applied Sciences\", \"Applied Sciences\", \"Applied Sciences\", \n    \"Applied Sciences\", \"Applied Sciences\", \"Applied Sciences\", \n    \"Applied Sciences\", \"Applied Sciences\", \"Applied Sciences\", \n    \"Applied Sciences\", \"Applied Sciences\", \"Applied Sciences\", \n    \"Applied Sciences\", \"Applied Sciences\", \"Applied Sciences\", \n    \"Applied Sciences\", \"Applied Sciences\", \"Applied Sciences\", \n    \"Applied Sciences\", \"Applied Sciences\", \"Applied Sciences\", \n    \"Applied Sciences\", \"Applied Sciences\", \"Applied Sciences\", \n    \"Applied Sciences\", \"Applied Sciences\", \"Applied Sciences\", \n    \"Applied Sciences\", \"Applied Sciences\", \"Applied Sciences\", \n    \"Applied Sciences\", \"Applied Sciences\", \"Applied Sciences\", \n    \"Applied Sciences\", \"Applied Sciences\", \"Applied Sciences\", \n    \"Applied Sciences\", \"Applied Sciences\", \"Applied Sciences\", \n    \"Applied Sciences\", \"Applied Sciences\", \"Applied Sciences\", \n    \"Applied Sciences\", \"Applied Sciences\", \"Applied Sciences\", \n    \"Applied Sciences\", \"Applied Sciences\", \"Applied Sciences\", \n    \"Applied Sciences\", \"Applied Sciences\", \"Applied Sciences\", \n    \"Applied Sciences\", \"Applied Sciences\", \"Applied Sciences\", \n    \"Applied Sciences\", \"Applied Sciences\", \"Applied Sciences\", \n    \"Applied Sciences\", \"Applied Sciences\", \"Applied Sciences\", \n    \"Applied Sciences\", \"Applied Sciences\", \"Applied Sciences\", \n    \"Applied Sciences\", \"Applied Sciences\", \"Applied Sciences\", \n    \"Applied Sciences\", \"Applied Sciences\", \"Applied Sciences\", \n    \"Applied Sciences\", \"Applied Sciences\", \"Applied Sciences\", \n    \"Applied Sciences\", \"Applied Sciences\", \"Applied Sciences\", \n    \"Applied Sciences\", \"Applied Sciences\", \"Applied Sciences\", \n    \"Applied Sciences\", \"Applied Sciences\", \"Applied Sciences\", \n    \"Applied Sciences\", \"Applied Sciences\", \"Applied Sciences\", \n    \"Applied Sciences\", \"Applied Sciences\", \"Applied Sciences\", \n    \"Applied Sciences\", \"Applied Sciences\", \"Applied Sciences\", \n    \"Applied Sciences\", \"Applied Sciences\", \"Applied Sciences\", \n    \"Applied Sciences\", \"Applied Sciences\", \"Applied Sciences\", \n    \"Applied Sciences\", \"Applied Sciences\", \"Applied Sciences\", \n    \"Applied Sciences\", \"Applied Sciences\", \"Applied Sciences\", \n    \"Applied Sciences\", \"Applied Sciences\", \"Applied Sciences\", \n    \"Applied Sciences\", \"Applied Sciences\", \"Applied Sciences\", \n    \"Applied Sciences\", \"Applied Sciences\", \"Applied Sciences\", \n    \"Applied Sciences\", \"Applied Sciences\", \"Applied Sciences\", \n    \"Applied Sciences\", \"Applied Sciences\", \"Applied Sciences\", \n    \"Applied Sciences\", \"Applied Sciences\", \"Applied Sciences\", \n    \"Applied Sciences\", \"Applied Sciences\", \"Applied Sciences\", \n    \"Applied Sciences\", \"Applied Sciences\", \"Applied Sciences\", \n    \"Applied Sciences\", \"Applied Sciences\", \"Applied Sciences\", \n    \"Applied Sciences\", \"Applied Sciences\", \"Applied Sciences\", \n    \"Applied Sciences\", \"Applied Sciences\", \"Applied Sciences\", \n    \"Applied Sciences\", \"Applied Sciences\", \"Applied Sciences\", \n    \"Applied Sciences\", \"Applied Sciences\", \"Applied Sciences\", \n    \"Applied Sciences\", \"Applied Sciences\", \"Applied Sciences\", \n    \"Applied Sciences\", \"Applied Sciences\", \"Applied Sciences\", \n    \"Applied Sciences\", \"Applied Sciences\", \"Applied Sciences\", \n    \"Applied Sciences\", \"Applied Sciences\", \"Applied Sciences\", \n    \"Applied Sciences\", \"Applied Sciences\", \"Applied Sciences\", \n    \"Applied Sciences\", \"Applied Sciences\", \"Applied Sciences\", \n    \"Applied Sciences\", \"Applied Sciences\", \"Applied Sciences\", \n    \"Applied Sciences\", \"Applied Sciences\", \"Applied Sciences\", \n    \"Applied Sciences\", \"Applied Sciences\", \"Applied Sciences\", \n    \"Applied Sciences\", \"Applied Sciences\", \"Applied Sciences\", \n    \"Applied Sciences\", \"Applied Sciences\", \"Applied Sciences\", \n    \"Applied Sciences\", \"Applied Sciences\", \"Applied Sciences\", \n    \"Applied Sciences\", \"Applied Sciences\", \"Applied Sciences\", \n    \"Applied Sciences\", \"Applied Sciences\", \"Applied Sciences\", \n    \"Applied Sciences\", \"Applied Sciences\", \"Applied Sciences\", \n    \"Applied Sciences\", \"Applied Sciences\", \"Applied Sciences\", \n    \"Applied Sciences\", \"Applied Sciences\", \"Applied Sciences\", \n    \"Applied Sciences\", \"Applied Sciences\", \"Applied Sciences\", \n    \"Applied Sciences\", \"Applied Sciences\", \"Applied Sciences\", \n    \"Applied Sciences\", \"Applied Sciences\", \"Applied Sciences\", \n    \"Applied Sciences\", \"Applied Sciences\", \"Applied Sciences\", \n    \"Applied Sciences\", \"Applied Sciences\", \"Applied Sciences\", \n    \"Applied Sciences\", \"Applied Sciences\", \"Applied Sciences\", \n    \"Applied Sciences\", \"Applied Sciences\", \"Applied Sciences\", \n    \"Applied Sciences\", \"Applied Sciences\", \"Applied Sciences\", \n    \"Applied Sciences\", \"Applied Sciences\", \"Applied Sciences\", \n    \"Applied Sciences\", \"Applied Sciences\", \"Applied Sciences\", \n    \"Applied Sciences\", \"Applied Sciences\", \"Applied Sciences\", \n    \"Applied Sciences\", \"Applied Sciences\", \"Applied Sciences\", \n    \"Applied Sciences\", \"Applied Sciences\", \"Applied Sciences\", \n    \"Applied Sciences\", \"Applied Sciences\", \"Applied Sciences\", \n    \"Applied Sciences\", \"Applied Sciences\", \"Applied Sciences\", \n    \"Applied Sciences\", \"Applied Sciences\", \"Applied Sciences\", \n    \"Applied Sciences\", \"Applied Sciences\", \"Applied Sciences\", \n    \"Applied Sciences\", \"Applied Sciences\", \"Applied Sciences\", \n    \"Applied Sciences\", \"Applied Sciences\", \"Applied Sciences\", \n    \"Applied Sciences\", \"Applied Sciences\", \"Applied Sciences\", \n    \"Applied Sciences\", \"Applied Sciences\", \"Applied Sciences\", \n    \"Applied Sciences\", \"Applied Sciences\", \"Applied Sciences\", \n    \"Applied Sciences\", \"Applied Sciences\", \"Applied Sciences\", \n    \"Applied Sciences\", \"Applied Sciences\", \"Applied Sciences\", \n    \"Applied Sciences\", \"Applied Sciences\", \"Applied Sciences\", \n    \"Applied Sciences\", \"Applied Sciences\", \"Applied Sciences\", \n    \"Applied Sciences\", \"Applied Sciences\", \"Applied Sciences\", \n    \"Applied Sciences\", \"Applied Sciences\", \"Applied Sciences\", \n    \"Applied Sciences\", \"Applied Sciences\", \"Applied Sciences\", \n    \"Applied Sciences\", \"Applied Sciences\", \"Applied Sciences\", \n    \"Applied Sciences\", \"Applied Sciences\", \"Applied Sciences\", \n    \"Applied Sciences\", \"Applied Sciences\", \"Applied Sciences\", \n    \"Applied Sciences\", \"Applied Sciences\", \"Applied Sciences\", \n    \"Applied Sciences\", \"Applied Sciences\", \"Applied Sciences\", \n    \"Applied Sciences\", \"Applied Sciences\", \"Applied Sciences\", \n    \"Applied Sciences\", \"Applied Sciences\", \"Applied Sciences\", \n    \"Applied Sciences\", \"Applied Sciences\", \"Applied Sciences\", \n    \"Applied Sciences\", \"Applied Sciences\", \"Applied Sciences\", \n    \"Applied Sciences\", \"Applied Sciences\", \"Applied Sciences\", \n    \"Applied Sciences\", \"Applied Sciences\", \"Applied Sciences\", \n    \"Applied Sciences\", \"Applied Sciences\", \"Applied Sciences\", \n    \"Applied Sciences\", \"Applied Sciences\", \"Applied Sciences\", \n    \"Applied Sciences\", \"Applied Scien\n\n*** WARNING: max output size exceeded, skipping output. ***\n\n, 0.168494032174364, 0.132152182097541, \n    0.198228273146311, 0.153176392885786, 0.936077956524246, \n    0.673976128697457, 1, 0.348608342429719, 0.266043208696365, \n    0.501897117115128, 0.17736213913091, 0.315926310326933, 0.306352785771571, \n    3.36988064348729, 1, 0.153176392885786, 0.315926310326933, \n    0.348608342429719, 0.561646773914548, 0.0821922108167631, \n    1, 1, 0.264304364195081, 0.110487889950403, 0.25922158796056, \n    0.561646773914548, 1.68494032174364, 0.842470160871821, 1, \n    0.919058357314714, 1.34795225739491, 0.315926310326933, 0.280823386957274, \n    0.348608342429719, 0.25922158796056, 1, 0.561646773914548, \n    0.146516549716839, 0.110487889950403, 0.110487889950403, \n    0.0821922108167631, 0.348608342429719, 1.68494032174364, \n    0.561646773914548, 0.561646773914548, 0.198228273146311, \n    0.60176440062273, 0.204235190514381, 0.25922158796056, 0.132152182097541, \n    0.842470160871821, 0.561646773914548, 0.280823386957274, \n    0.249620788406466, 1, 1.68494032174364, 0.561646773914548, \n    0.481411520498184, 0.919058357314714, 0.110487889950403, \n    0.348608342429719, 0.336988064348729, 0.842470160871821, \n    0.919058357314714, 0.25922158796056, 0.421235080435911, 0.348608342429719, \n    0.25922158796056, 0.168494032174364, 0.110487889950403, 0.842470160871821, \n    0.732582748584193, 0.60176440062273, 0.612705571543143, 0.120352880124546, \n    0.0821922108167631, 1, 0.249620788406466, 1, 0.25922158796056, \n    1.1232935478291, 1.34795225739491, 0.120352880124546, 0.10211759525719, \n    0.132152182097541, 0.374431182609698, 0.320941013665456, \n    0.280823386957274, 0.264304364195081, 0.518443175921121, \n    0.306352785771571, 0.264304364195081, 0.132152182097541, \n    0.315926310326933, 1, 0.481411520498184, 1, 0.280823386957274, \n    0.315926310326933, 0.28884691229891, 0.110487889950403, 0.561646773914548, \n    1, 1, 0.143399176318608, 0.110487889950403, 1, 1, 0.673976128697457, \n    0.673976128697457, 0.673976128697457, 0.481411520498184, \n    0.673976128697457, 0.673976128697457, 0.481411520498184, \n    0.561646773914548, 0.60176440062273, 0.561646773914548, 1, \n    0.842470160871821, 0.374431182609698, 0.10211759525719, 0.266043208696365, \n    1, 0.28884691229891, 0.60176440062273, 0.071699588159304, \n    0.374431182609698, 0.071699588159304, 0.518443175921121, \n    0.210617540217955, 0.10211759525719, 0.374431182609698, 0.240705760249092, \n    0.140411693478637, 0.146516549716839, 0.071699588159304, \n    1, 0.153176392885786, 3.36988064348729, 0.143399176318608, \n    0.10211759525719, 0.204235190514381, 1, 1, 1.1232935478291, \n    0.0821922108167631, 0.276219724876007, 0.25922158796056, \n    0.240705760249092, 0.348608342429719, 1.34795225739491, 0.146516549716839, \n    1.68494032174364, 0.10211759525719, 0.276219724876007, 1, \n    1.68494032174364, 0.374431182609698, 0.249620788406466, 0.276219724876007, \n    0.28884691229891, 0.25922158796056, 0.673976128697457, 0.198228273146311, \n    0.421235080435911, 0.140411693478637, 0.280823386957274, \n    0.673976128697457, 0.348608342429719, 1, 3.36988064348729, \n    0.143399176318608, 1, 0.714823166800333, 0.240705760249092, \n    0.481411520498184, 1, 0.204235190514381, 0.108705827209267, \n    0.336988064348729, 1, 0.168494032174364, 0.153176392885786, \n    1, 0.673976128697457, 0.132152182097541, 0.962823040996367, \n    0.501897117115128, 0.374431182609698, 0.306352785771571, \n    0.842470160871821, 0.561646773914548, 0.673976128697457, \n    1, 0.336988064348729, 0.481411520498184, 0.374431182609698, \n    1, 0.105308770108978, 1, 0.842470160871821, 1, 0.10211759525719, \n    0.348608342429719, 0.132152182097541, 0.269590451478983, \n    0.315926310326933, 0.146516549716839, 0.153176392885786, \n    0.35472427826182, 1, 0.501897117115128, 0.481411520498184, \n    0.276219724876007, 0.266043208696365, 0.280823386957274, \n    1, 0.842470160871821, 0.481411520498184, 0.12961079398028, \n    0.132152182097541, 0.266043208696365, 0.25922158796056, 0.276219724876007, \n    0.132152182097541, 0.12961079398028, 1, 0.240705760249092, \n    1, 0.240705760249092, 0.396456546292622, 0.842470160871821, \n    0.315926310326933, 1, 0.153176392885786, 0.276219724876007, \n    0.269590451478983, 0.280823386957274, 0.28884691229891, 0.132152182097541, \n    0.17736213913091, 0.264304364195081, 0.306352785771571, 0.306352785771571, \n    0.276219724876007, 1.68494032174364, 0.110487889950403, 1.68494032174364, \n    3.36988064348729, 0.481411520498184, 0.348608342429719, 0.249620788406466, \n    0.714823166800333, 0.306352785771571, 0.481411520498184, \n    0.25922158796056, 0.561646773914548, 0.561646773914548, 0.374431182609698, \n    0.35472427826182, 0.10211759525719, 0.25922158796056, 0.612705571543143, \n    0.143399176318608, 0.110487889950403, 0.348608342429719, \n    0.421235080435911, 1, 0.315926310326933, 0.10211759525719, \n    0.732582748584193, 0.0821922108167631, 0.320941013665456, \n    0.198228273146311, 0.714823166800333, 0.204235190514381, \n    0.143399176318608, 0.146516549716839, 0.146516549716839, \n    1.68494032174364, 0.153176392885786, 0.240705760249092, 0.249620788406466, \n    0.306352785771571, 0.25922158796056, 0.240705760249092, 0.348608342429719, \n    0.732582748584193, 0.146516549716839, 0.10211759525719, 0.481411520498184, \n    0.421235080435911, 0.240705760249092, 0.481411520498184, \n    0.105308770108978, 0.146516549716839, 1, 0.374431182609698, \n    0.561646773914548, 0.110487889950403, 1, 0.276219724876007, \n    0.35472427826182, 0.153176392885786, 0.35472427826182, 1, \n    0.17736213913091, 0.132152182097541, 0.17736213913091, 0.481411520498184, \n    0.481411520498184, 1, 0.269590451478983, 3.36988064348729, \n    0.842470160871821, 1, 0.561646773914548, 0.374431182609698, \n    0.105308770108978, 0.348608342429719, 0.132152182097541, \n    0.110487889950403, 1, 0.421235080435911, 0.673976128697457, \n    0.612705571543143, 0.561646773914548, 0.280823386957274, \n    0.210617540217955, 0.421235080435911, 0.146516549716839, \n    1, 0.25922158796056, 1, 1.68494032174364, 1.68494032174364, \n    0.306352785771571, 0.936077956524246, 0.673976128697457, \n    0.168494032174364, 0.481411520498184, 0.168494032174364, \n    0.336988064348729, 0.481411520498184, 0.306352785771571, \n    0.25922158796056, 0.168494032174364, 0.17736213913091, 0.276219724876007, \n    1, 0.336988064348729, 0.396456546292622, 0.396456546292622, \n    0.842470160871821, 1.92564608199273, 1, 0.561646773914548, \n    3.36988064348729, 0.842470160871821, 0.28884691229891, 0.348608342429719, \n    4.49317419131638, 0.714823166800333, 0.153176392885786, 0.374431182609698, \n    0.120352880124546, 0.110487889950403, 0.198228273146311, \n    0.25922158796056, 0.105308770108978, 0.143399176318608, 0.336988064348729, \n    0.249620788406466, 0.28884691229891, 0.25922158796056, 0.240705760249092, \n    0.240705760249092, 0.210617540217955, 1, 1, 0.110487889950403, \n    0.35472427826182, 1.34795225739491, 1, 0.673976128697457, \n    0.264304364195081, 0.140411693478637, 0.0821922108167631, \n    0.204235190514381, 0.143399176318608, 0.315926310326933, \n    0.396456546292622, 0.306352785771571, 0.17736213913091, 0.143399176318608, \n    0.269590451478983, 0.240705760249092, 5.05482096523093, 0.198228273146311, \n    1, 0.17736213913091, 0.714823166800333, 0.264304364195081, \n    0.561646773914548, 0.153176392885786, 0.153176392885786, \n    1.68494032174364, 0.320941013665456, 0.0821922108167631, \n    1, 0.110487889950403, 0.336988064348729, 0.280823386957274, \n    0.732582748584193, 1, 0.25922158796056, 0.306352785771571, \n    0.348608342429719, 0.276219724876007, 1.34795225739491, 0.269590451478983, \n    0.421235080435911, 0.673976128697457, 0.421235080435911, \n    0.071699588159304, 0.0821922108167631, 0.071699588159304, \n    0.336988064348729, 0.481411520498184, 0.501897117115128, \n    0.336988064348729, 0.071699588159304, 0.673976128697457, \n    0.374431182609698, 1, 0.071699588159304, 0.071699588159304, \n    0.17736213913091, 0.481411520498184, 0.264304364195081, 0.28884691229891, \n    0.071699588159304, 0.561646773914548, 0.336988064348729, \n    0.168494032174364, 0.374431182609698, 1, 0.348608342429719, \n    0.374431182609698, 2.24658709565819, 0.071699588159304, 0.348608342429719, \n    0.0821922108167631, 0.561646773914548, 0.336988064348729, \n    0.348608342429719, 0.204235190514381, 0.501897117115128, \n    0.071699588159304, 1, 0.336988064348729, 0.276219724876007, \n    0.481411520498184, 0.336988064348729, 0.320941013665456, \n    1.68494032174364, 0.396456546292622, 0.348608342429719, 0.0821922108167631, \n    0.374431182609698, 0.421235080435911, 0.315926310326933, \n    1, 1.68494032174364, 1, 0.071699588159304, 1, 0.153176392885786, \n    0.105308770108978, 1, 0.240705760249092, 0.25922158796056, \n    3.36988064348729, 0.210617540217955, 0.210617540217955, 1, \n    0.25922158796056, 0.168494032174364, 1.1232935478291, 0.0821922108167631, \n    0.315926310326933, 0.240705760249092, 0.561646773914548, \n    0.071699588159304, 0.071699588159304, 1, 0.306352785771571, \n    0.673976128697457, 0.153176392885786, 0.204235190514381, \n    0.60176440062273, 0.110487889950403, 0.481411520498184, 1, \n    2.40705760249092, 0.673976128697457, 0.673976128697457, 0.348608342429719, \n    3.36988064348729, 0.140411693478637, 0.266043208696365, 0.624051971016164, \n    0.264304364195081, 0.374431182609698, 0.0821922108167631, \n    1, 0.481411520498184, 0.280823386957274, 0.421235080435911, \n    0.28884691229891, 0.348608342429719, 0.266043208696365, 0.276219724876007, \n    0.280823386957274, 0.714823166800333, 0.240705760249092, \n    1, 0.240705760249092, 2.40705760249092, 0.240705760249092, \n    0.35472427826182, 0.0821922108167631, 0.306352785771571, \n    0.17736213913091, 0.276219724876007, 1, 0.110487889950403, \n    1, 0.266043208696365, 0.280823386957274, 0.105308770108978, \n    0.673976128697457, 0.143399176318608, 1, 0.269590451478983, \n    0.501897117115128, 1, 5.05482096523093, 0.561646773914548, \n    0.481411520498184, 0.25922158796056, 0.501897117115128, 0.348608342429719, \n    0.276219724876007, 0.306352785771571, 0.269590451478983, \n    1.01096419304619, 0.374431182609698, 1.92564608199273, 0.071699588159304, \n    0.140411693478637, 0.481411520498184, 0.673976128697457, \n    0.842470160871821, 0.561646773914548, 0.071699588159304, \n    0.240705760249092, 0.266043208696365, 0.624051971016164, \n    1.01096419304619, 0.320941013665456, 0.561646773914548, 0.561646773914548, \n    0.10211759525719, 0.108705827209267, 0.146516549716839, 1, \n    0.374431182609698, 0.168494032174364, 0.132152182097541, \n    0.110487889950403, 0.269590451478983, 3.36988064348729, 0.374431182609698, \n    1, 1, 0.120352880124546, 0.28884691229891, 0.146516549716839, \n    0.110487889950403, 0.266043208696365, 0.143399176318608, \n    1.53176392885786, 0.561646773914548, 0.204235190514381, 0.561646773914548, \n    0.204235190514381, 0.315926310326933, 0.269590451478983, \n    1.1232935478291, 1, 0.28884691229891, 0.396456546292622, \n    1, 0.673976128697457, 0.518443175921121, 0.320941013665456, \n    0.481411520498184, 0.071699588159304, 0.348608342429719, \n    0.266043208696365, 0.143399176318608, 0.673976128697457, \n    0.320941013665456, 0.501897117115128, 0.0821922108167631, \n    0.0821922108167631, 0.348608342429719, 0.249620788406466, \n    0.143399176318608, 0.315926310326933, 1, 1, 0.306352785771571, \n    0.143399176318608, 1.01096419304619, 0.714823166800333, 1, \n    0.374431182609698, 0.348608342429719, 0.132152182097541, \n    0.673976128697457, 1, 1, 0.071699588159304, 1, 0.108705827209267, \n    0.110487889950403, 0.306352785771571, 1.1232935478291, 1.1232935478291, \n    0.28884691229891, 0.198228273146311, 1, 0.561646773914548, \n    0.842470160871821, 0.168494032174364, 0.60176440062273, 0.110487889950403, \n    0.481411520498184, 0.110487889950403, 0.624051971016164, \n    0.421235080435911, 0.714823166800333, 0.501897117115128, \n    0.0821922108167631, 0.919058357314714, 0.168494032174364, \n    0.0821922108167631, 0.28884691229891, 0.732582748584193, \n    0.12961079398028, 0.168494032174364, 0.732582748584193, 0.501897117115128, \n    0.28884691229891, 0.143399176318608, 0.143399176318608, 0.501897117115128, \n    0.624051971016164, 0.936077956524246, 0.732582748584193, \n    0.210617540217955, 0.501897117115128, 0.269590451478983, \n    0.25922158796056, 0.266043208696365, 0.198228273146311, 0.25922158796056, \n    0.501897117115128, 0.120352880124546, 0.269590451478983, \n    3.36988064348729, 0.204235190514381, 0.120352880124546, 1, \n    0.561646773914548, 1.34795225739491, 1.34795225739491, 0.561646773914548, \n    0.210617540217955, 1, 1, 0.320941013665456, 2.24658709565819, \n    1.1232935478291, 0.110487889950403, 1.1232935478291, 0.264304364195081, \n    0.336988064348729, 0.280823386957274, 0.264304364195081, \n    0.28884691229891, 0.35472427826182, 0.315926310326933, 0.153176392885786, \n    0.146516549716839, 1, 1, 0.936077956524246, 0.374431182609698, \n    0.153176392885786, 0.421235080435911, 1.34795225739491, 0.481411520498184, \n    0.264304364195081, 0.280823386957274, 0.481411520498184, \n    1.68494032174364, 0.280823386957274, 0.276219724876007, 0.17736213913091, \n    0.612705571543143, 0.280823386957274, 1.68494032174364, 0.153176392885786, \n    0.28884691229891, 0.249620788406466, 0.12961079398028, 1, \n    2.40705760249092, 0.276219724876007, 0.481411520498184, 0.210617540217955, \n    0.110487889950403, 0.25922158796056, 0.132152182097541, 0.269590451478983, \n    1.1232935478291, 1, 1, 0.421235080435911, 0.110487889950403, \n    0.306352785771571, 0.842470160871821, 0.240705760249092, \n    0.28884691229891, 0.168494032174364, 1, 0.481411520498184, \n    0.336988064348729, 0.264304364195081, 0.276219724876007, \n    0.105308770108978, 0.25922158796056, 0.140411693478637, 0.108705827209267, \n    0.25922158796056, 0.421235080435911, 0.714823166800333, 0.842470160871821, \n    0.421235080435911, 0.421235080435911, 0.198228273146311, \n    0.315926310326933, 0.153176392885786, 0.561646773914548, \n    1, 0.374431182609698, 0.276219724876007, 0.266043208696365, \n    1.68494032174364, 1, 0.315926310326933, 0.481411520498184, \n    0.842470160871821, 0.168494032174364, 1, 0.276219724876007, \n    0.071699588159304, 0.143399176318608, 1.01096419304619, 1, \n    0.336988064348729, 0.348608342429719, 1, 1, 0.153176392885786, \n    0.280823386957274, 0.12961079398028, 0.132152182097541, 0.249620788406466, \n    0.348608342429719, 1, 1, 0.269590451478983, 0.315926310326933, \n    0.071699588159304, 0.071699588159304, 0.204235190514381, \n    0.269590451478983, 0.269590451478983, 1, 0.25922158796056, \n    0.264304364195081, 0.561646773914548, 0.240705760249092, \n    1, 0.374431182609698, 0.315926310326933, 0.071699588159304, \n    0.10211759525719, 0.25922158796056, 0.561646773914548, 0.276219724876007, \n    0.17736213913091, 0.264304364195081, 0.276219724876007, 0.421235080435911, \n    0.624051971016164, 0.264304364195081, 0.264304364195081, \n    1.92564608199273, 0.10211759525719, 1, 0.140411693478637, \n    0.198228273146311, 0.374431182609698, 0.374431182609698, \n    0.153176392885786, 0.108705827209267, 0.561646773914548, \n    0.336988064348729, 0.336988064348729, 0.198228273146311, \n    0.673976128697457, 0.140411693478637, 0.28884691229891, 0.153176392885786, \n    0.25922158796056, 0.673976128697457, 0.348608342429719, 1, \n    0.481411520498184, 1, 1.34795225739491, 3.36988064348729, \n    0.842470160871821, 1, 0.481411520498184, 0.481411520498184, \n    0.561646773914548, 1.68494032174364, 0.842470160871821, 0.204235190514381, \n    1, 0.105308770108978, 0.198228273146311, 1, 0.280823386957274, \n    0.140411693478637, 0.561646773914548, 0.481411520498184, \n    0.120352880124546, 0.249620788406466, 1, 0.25922158796056, \n    0.210617540217955, 0.110487889950403, 0.276219724876007, \n    1, 0.264304364195081, 0.60176440062273, 0.110487889950403, \n    1, 3.36988064348729, 1.68494032174364, 0.210617540217955, \n    0.264304364195081, 0.348608342429719, 0.264304364195081, \n    0.210617540217955, 3.36988064348729, 1, 0.266043208696365, \n    0.481411520498184, 0.374431182609698, 1, 0.374431182609698, \n    0.348608342429719, 0.315926310326933, 0.25922158796056, 0.240705760249092, \n    0.842470160871821, 0.842470160871821, 0.315926310326933, \n    0.315926310326933, 0.374431182609698, 0.315926310326933, \n    0.315926310326933, 0.105308770108978, 0.132152182097541, \n    0.421235080435911, 0.421235080435911, 0.306352785771571, \n    0.374431182609698, 0.348608342429719, 0.561646773914548, \n    0.561646773914548, 1.1232935478291, 0.10211759525719, 0.17736213913091, \n    1.53176392885786, 0.421235080435911, 0.374431182609698, 0.962823040996367, \n    0.315926310326933, 0.280823386957274, 0.168494032174364, \n    0.0821922108167631, 1, 1, 1, 0.269590451478983, 0.481411520498184, \n    0.25922158796056, 0.732582748584193, 0.266043208696365, 0.210617540217955, \n    0.132152182097541, 0.108705827209267, 0.315926310326933, \n    0.269590451478983, 0.276219724876007, 0.0821922108167631, \n    0.143399176318608, 0.266043208696365, 0.25922158796056, 0.276219724876007, \n    0.315926310326933, 1, 0.421235080435911, 0.249620788406466, \n    0.481411520498184, 0.374431182609698, 0.0821922108167631, \n    1.01096419304619, 0.714823166800333, 0.374431182609698, 0.110487889950403, \n    0.120352880124546, 0.306352785771571, 0.110487889950403, \n    0.153176392885786, 0.60176440062273, 1.01096419304619, 1, \n    0.276219724876007, 0.12961079398028, 1, 0.198228273146311, \n    0.17736213913091, 0.108705827209267, 0.0821922108167631, \n    0.374431182609698, 0.071699588159304, 0.240705760249092, \n    0.132152182097541, 0.198228273146311, 0.12961079398028, 1, \n    0.153176392885786, 0.12961079398028, 0.280823386957274, 0.374431182609698, \n    0.071699588159304, 0.264304364195081, 0.306352785771571, \n    2.40705760249092, 0.348608342429719, 1.92564608199273, 0.071699588159304, \n    0.280823386957274, 0.25922158796056, 0.132152182097541, 0.146516549716839, \n    1.34795225739491, 0.132152182097541, 1, 0.269590451478983, \n    0.210617540217955, 0.25922158796056, 1, 0.276219724876007, \n    1.1232935478291, 0.320941013665456, 0.140411693478637, 0.240705760249092, \n    0.481411520498184, 0.143399176318608, 0.146516549716839, \n    1, 1, 1, 0.153176392885786, 3.36988064348729, 0.336988064348729, \n    0.140411693478637, 0.264304364195081, 0.320941013665456, \n    0.25922158796056, 0.842470160871821, 0.561646773914548, 0.146516549716839, \n    0.481411520498184, 0.12961079398028, 1, 1, 0.396456546292622, \n    0.105308770108978, 0.146516549716839, 0.249620788406466, \n    0.276219724876007, 0.153176392885786, 0.60176440062273, 0.561646773914548, \n    0.110487889950403, 0.336988064348729, 0.842470160871821, \n    0.336988064348729, 0.561646773914548, 0.336988064348729, \n    0.481411520498184, 1, 0.240705760249092, 0.348608342429719, \n    0.348608342429719, 0.842470160871821, 0.249620788406466, \n    0.421235080435911, 0.249620788406466, 0.561646773914548, \n    0.210617540217955, 0.481411520498184, 2.24658709565819, 0.673976128697457, \n    0.732582748584193, 0.501897117115128, 1, 1, 0.561646773914548, \n    0.276219724876007, 0.732582748584193, 0.348608342429719, \n    0.146516549716839, 0.336988064348729, 0.561646773914548, \n    0.374431182609698, 0.140411693478637, 0.266043208696365, \n    0.732582748584193, 0.936077956524246, 0.612705571543143, \n    1, 0.374431182609698, 1, 1, 1, 0.60176440062273, 0.306352785771571, \n    0.198228273146311, 0.481411520498184, 0.315926310326933, \n    0.374431182609698, 0.374431182609698, 0.396456546292622, \n    0.919058357314714, 0.28884691229891, 0.348608342429719, 0.0821922108167631, \n    0.168494032174364, 1, 0.315926310326933, 0.140411693478637, \n    0.714823166800333, 0.269590451478983, 0.198228273146311, \n    0.501897117115128, 1.34795225739491, 0.105308770108978, 0.28884691229891, \n    0.25922158796056, 0.624051971016164, 1, 0.140411693478637, \n    1, 1.1232935478291, 1.68494032174364, 1, 0.10211759525719, \n    1, 0.266043208696365, 0.421235080435911, 1, 0.280823386957274, \n    1.68494032174364, 0.0821922108167631, 0.108705827209267, \n    0.110487889950403, 1, 0.0821922108167631, 0.561646773914548, \n    1, 0.336988064348729, 0.315926310326933, 0.168494032174364, \n    1, 0.266043208696365, 1, 0.28884691229891, 0.132152182097541, \n    0.25922158796056, 0.842470160871821, 0.198228273146311, 1, \n    1.68494032174364, 0.105308770108978, 1, 0.561646773914548, \n    0.10211759525719, 1, 0.518443175921121, 0.481411520498184, \n    1, 1.1232935478291, 0.374431182609698, 0.17736213913091, \n    0.306352785771571, 0.306352785771571, 1, 0.421235080435911, \n    0.348608342429719, 0.280823386957274, 0.336988064348729, \n    0.336988064348729, 0.25922158796056, 0.17736213913091, 0.110487889950403, \n    0.561646773914548, 0.17736213913091, 0.25922158796056, 0.714823166800333, \n    0.276219724876007, 0.17736213913091, 0.264304364195081, 1, \n    1, 0.108705827209267, 1, 0.140411693478637, 0.336988064348729, \n    0.714823166800333, 1, 0.276219724876007, 0.421235080435911, \n    0.269590451478983, 0.269590451478983, 1, 1.68494032174364, \n    0.374431182609698, 0.35472427826182, 0.348608342429719, 0.35472427826182, \n    1.34795225739491, 0.146516549716839, 0.348608342429719, 1, \n    0.168494032174364, 0.421235080435911, 0.276219724876007, \n    0.374431182609698, 2.24658709565819, 2.24658709565819, 0.269590451478983, \n    0.501897117115128, 0.714823166800333, 0.12961079398028, 0.12961079398028, \n    1.68494032174364, 0.396456546292622, 0.561646773914548, 0.936077956524246, \n    0.561646773914548, 0.561646773914548, 0.561646773914548, \n    0.481411520498184, 0.204235190514381, 0.481411520498184, \n    0.168494032174364, 1, 5.05482096523093, 1, 1.01096419304619, \n    0.143399176318608, 0.10211759525719, 0.348608342429719, 0.348608342429719, \n    0.198228273146311, 0.140411693478637, 0.276219724876007, \n    0.561646773914548, 0.132152182097541, 0.673976128697457, \n    0.348608342429719, 0.320941013665456, 1, 1.68494032174364, \n    0.28884691229891, 1, 1, 0.842470160871821, 0.10211759525719\n    ))\n\nDeviance Residuals: \n    Min       1Q   Median       3Q      Max  \n-2.3854  -0.5205  -0.3748  -0.2540   1.7598  \n\nCoefficients:\n                                         Estimate Std. Error z value Pr(>|z|)\n(Intercept)                            -1.1233232  0.2499514  -4.494 6.98e-06\ngendermale                             -0.1430302  0.0631895  -2.264   0.0236\nyear2019                               -0.0006207  0.0960357  -0.006   0.9948\nyear2020                               -0.0038472  0.0968155  -0.040   0.9683\nyear2021                               -0.0021211  0.0960445  -0.022   0.9824\nyear2022                               -0.0053707  0.1041781  -0.052   0.9589\nq3                                      0.0057139  0.1122998   0.051   0.9594\nsubfield_articledairy & animal science  0.0056415  0.1230675   0.046   0.9634\nsubfield_articlefisheries              -0.0049316  0.1018898  -0.048   0.9614\nsubfield_articlefood science           -0.0154691  0.0971671  -0.159   0.8735\nsubfield_articleforestry                0.0035580  0.1142263   0.031   0.9752\nsubfield_articlehorticulture            0.0478953  0.8118183   0.059   0.9530\nsubfield_articleveterinary sciences    -0.0369448  0.0920128  -0.402   0.6880\nteam_size2                              0.0020087  0.2274747   0.009   0.9930\nteam_size3                             -0.0002508  0.2228667  -0.001   0.9991\nteam_size4                              0.0022208  0.2148224   0.010   0.9918\nteam_size5                              0.0025088  0.2164998   0.012   0.9908\nteam_size6                              0.0110060  0.2339659   0.047   0.9625\nopenaccess_statusYES                   -0.0021268  0.0644732  -0.033   0.9737\n                                          \n(Intercept)                            ***\ngendermale                             *  \nyear2019                                  \nyear2020                                  \nyear2021                                  \nyear2022                                  \nq3                                        \nsubfield_articledairy & animal science    \nsubfield_articlefisheries                 \nsubfield_articlefood science              \nsubfield_articleforestry                  \nsubfield_articlehorticulture              \nsubfield_articleveterinary sciences       \nteam_size2                                \nteam_size3                                \nteam_size4                                \nteam_size5                                \nteam_size6                                \nopenaccess_statusYES                      \n---\nSignif. codes:  0 ‘***’ 0.001 ‘**’ 0.01 ‘*’ 0.05 ‘.’ 0.1 ‘ ’ 1\n\n(Dispersion parameter for binomial family taken to be 1)\n\n    Null deviance: 6656.4  on 9836  degrees of freedom\nResidual deviance: 6651.3  on 9818  degrees of freedom\nAIC: 6139.3\n\nNumber of Fisher Scoring iterations: 4\n\n\n"
     ]
    }
   ],
   "source": [
    "def domain22(i, new):\n",
    "  a = new[new['Field_English'] == i]\n",
    "  print(len(a))\n",
    "\n",
    "  t = a[a['treatment'] == '1']\n",
    "  c = a[a['treatment'] == '0']\n",
    "  print(\"length of treatment \",len(t[t['gender'] == \"female\"])/len(t))\n",
    "  print(\"length of control \",len(c[c['gender'] == \"female\"])/len(c))\n",
    "\n",
    "  con_18,con_19,con_20,con_21,con_22 = [],[],[],[],[]\n",
    "  t1,t2,t3,t4,t5,t6 = [],[],[],[],[],[]\n",
    "  #oa = []\n",
    "\n",
    "  out = []\n",
    "\n",
    "  cov = []\n",
    "\n",
    "  for ind in a.index:\n",
    "    if a['year'][ind] == 2018 or a['year'][ind] == 2019:\n",
    "      cov.append(0)\n",
    "    else:\n",
    "      cov.append(1)\n",
    "      \n",
    "    if a['treatment'][ind] == '1':\n",
    "      out.append(1)\n",
    "    else:\n",
    "      out.append(0)\n",
    "  \n",
    "\n",
    "  a['outcome'] = out\n",
    "\n",
    "  a['covid'] = cov\n",
    "  #a['oa'] = oa\n",
    "\n",
    "  return a\n",
    "  \n",
    "\n",
    "\n",
    "#tmp = domain22(\"Physics & Astronomy\",dummy.copy(deep=True)) #est = 0.0564479  0.0527718, p val = 0.28\n",
    "#print(tmp.dtypes)\n",
    "#tmp = domain22(\"Mathematics & Statistics\",dummy.copy(deep=True))   #est =  0.360994   0.268223, p val = 0.17\n",
    "#tmp = domain22(\"Earth & Environmental Sciences\",dummy.copy(deep=True))  #est = -0.0710041  0.0448978, p val insig\n",
    "#tmp = domain22(\"Chemistry\",dummy.copy(deep=True))  #est = 1.756e-02  6.465e-02, insig\n",
    "#tmp = domain22(\"Biology\",dummy.copy(deep=True)) #est = -0.0123227  0.0343743, insig \n",
    "#tmp = domain22(\"Public Health & Health Services\",dummy.copy(deep=True))  # gender est = 0.0839409  0.0255190, p value = 0.001004 ** \n",
    "#tmp = domain22(\"Psychology & Cognitive Sciences\",dummy.copy(deep=True)) #opposite   #gender est -0.114584   0.036990, p value = 0.00195 **\n",
    "#tmp = domain22(\"Clinical Medicine\",dummy.copy(deep=True)) #est = 2.436e-03  1.132e-02, insig\n",
    "#tmp = domain22(\"Biomedical Research\",dummy.copy(deep=True))  #gender est =  0.0425387  0.0226143, p val = 0.05996 .\n",
    "\n",
    "#tmp = domain22(\"Social Sciences\",dummy.copy(deep=True)) #gender est =  0.0956369  0.0420042, p value = 0.0228 *\n",
    "#tmp = domain22(\"Economics & Business \",dummy.copy(deep=True)) #gender est = -0.200888   0.055441, p value = 0.000291 ***\n",
    "#tmp = domain22(\"Visual & Performing Arts\",dummy.copy(deep=True)) ##too small sample size\n",
    "#tmp = domain22(\"Philosophy & Theology\",dummy.copy(deep=True)) #est = 0.084886   0.239748, insig \n",
    "#tmp = domain22(\"Historical Studies\",dummy.copy(deep=True)) #gender est = 0.2448323  0.1274979, p val = 0.0548 .\n",
    "\n",
    "#tmp = domain22(\"Communication & Textual Studies\",dummy.copy(deep=True))  #gender est = -0.190563   0.100530, p val=  0.058 .\n",
    "#tmp = domain22(\"Information & Communication Technologies\",dummy.copy(deep=True))  #gender est = -0.2247745  0.0872372, p val = 0.00998 **\n",
    "#tmp = domain22(\"Engineering\",dummy.copy(deep=True))  #gender est = -0.159315   0.083196, p val = 0.0555 . \n",
    "#tmp = domain22(\"Enabling & Strategic Technologies\",dummy.copy(deep=True))  #est = -3.033e-02  4.353e-02 #insig\n",
    "#tmp = domain22(\"Built Environment & Design\",dummy.copy(deep=True)) #est = 0.205768   0.167424, insig\n",
    "tmp = domain22(\"Agriculture, Fisheries & Forestry\",dummy.copy(deep=True)) #gendermale est = -0.1430302  0.0631895, p val = 0.0236 *\n",
    "\n",
    "#print(tmp.tail(10))\n",
    "\n",
    "\n",
    "\n",
    "with localconverter(ro.default_converter + pandas2ri.converter):\n",
    "  tst_df = ro.conversion.py2rpy(tmp)\n",
    "\n",
    "col_2_index = list(tst_df.colnames).index('year')\n",
    "col_2 = ro.vectors.FactorVector(tst_df.rx2('year'))\n",
    "tst_df[col_2_index] = col_2\n",
    "\n",
    "col_2_index = list(tst_df.colnames).index('team_size')\n",
    "col_2 = ro.vectors.FactorVector(tst_df.rx2('team_size'))\n",
    "tst_df[col_2_index] = col_2\n",
    "\n",
    "col_2_index = list(tst_df.colnames).index('openaccess_status')\n",
    "col_2 = ro.vectors.FactorVector(tst_df.rx2('openaccess_status'))\n",
    "tst_df[col_2_index] = col_2\n",
    "\n",
    "\n",
    "col_2_index = list(tst_df.colnames).index('q')\n",
    "col_2 = ro.vectors.FactorVector(tst_df.rx2('q'))\n",
    "tst_df[col_2_index] = col_2\n",
    "\n",
    "col_2_index = list(tst_df.colnames).index('covid')\n",
    "col_2 = ro.vectors.FactorVector(tst_df.rx2('covid'))\n",
    "tst_df[col_2_index] = col_2\n",
    "\n",
    "col_2_index = list(tst_df.colnames).index('gender')\n",
    "col_2 = ro.vectors.FactorVector(tst_df.rx2('gender'))\n",
    "tst_df[col_2_index] = col_2\n",
    "\n",
    "col_2_index = list(tst_df.colnames).index('subfield_article')\n",
    "col_2 = ro.vectors.FactorVector(tst_df.rx2('subfield_article'))\n",
    "tst_df[col_2_index] = col_2\n",
    "\n",
    "col_2_index = list(tst_df.colnames).index('outcome')\n",
    "col_2 = ro.vectors.FactorVector(tst_df.rx2('outcome'))\n",
    "tst_df[col_2_index] = col_2\n",
    "\n",
    "#print(tst_df)\n",
    "#pandas2ri.activate()\n",
    "model = stats.glm(\"outcome ~ gender+year+q+subfield_article+team_size+openaccess_status\",\n",
    "                  data=tst_df, weights = tst_df.rx2('weight'),family=ro.r('binomial(link=\"logit\")'))\n",
    "print(base.summary(model))"
   ]
  },
  {
   "cell_type": "code",
   "execution_count": 0,
   "metadata": {
    "application/vnd.databricks.v1+cell": {
     "cellMetadata": {
      "byteLimit": 2048000,
      "rowLimit": 10000
     },
     "inputWidgets": {},
     "nuid": "000d7b86-1b16-43bc-8d16-ce4bb76d19d3",
     "showTitle": false,
     "title": ""
    }
   },
   "outputs": [
    {
     "output_type": "display_data",
     "data": {
      "text/html": [
       "<style scoped>\n",
       "  .ansiout {\n",
       "    display: block;\n",
       "    unicode-bidi: embed;\n",
       "    white-space: pre-wrap;\n",
       "    word-wrap: break-word;\n",
       "    word-break: break-all;\n",
       "    font-family: \"Menlo\", \"Monaco\", \"Consolas\", \"Ubuntu Mono\", \"Source Code Pro\", monospace;\n",
       "    font-size: 13px;\n",
       "    color: #555;\n",
       "    margin-left: 4px;\n",
       "    line-height: 19px;\n",
       "  }\n",
       "</style>"
      ]
     },
     "metadata": {
      "application/vnd.databricks.v1+output": {
       "arguments": {},
       "data": "",
       "errorSummary": "Cancelled",
       "errorTraceType": "html",
       "metadata": {},
       "type": "ipynbError"
      }
     },
     "output_type": "display_data"
    }
   ],
   "source": [
    "domain = dummy['Field_English'].unique()\n",
    "female = []\n",
    "\n",
    "for i in domain:\n",
    "  tc = dummy[dummy['Field_English'] == i]\n",
    "  tc = tc[tc['treatment'] == '1']\n",
    "  tc_female = len(tc[tc['gender'] == 'female']) \n",
    "  female.append((tc_female/len(tc))*100)\n",
    "\n",
    "print(\"domain \",domain)\n",
    "print(\"female percent \", female)\n",
    "fig = plt.figure(figsize =(10, 10))\n",
    " \n",
    "samp = pd.DataFrame()\n",
    "samp['domain'] = domain\n",
    "samp['female_treatment'] = female\n",
    "\n",
    "samp = samp.sort_values(by = ['female_treatment'], ascending=False)\n",
    "\n",
    "\n",
    "\n",
    "\n",
    "female = []\n",
    "\n",
    "for i in domain:\n",
    "  tc = dummy[dummy['Field_English'] == i]\n",
    "  tc = tc[tc['treatment'] == '0']\n",
    "  tc_female = len(tc[tc['gender'] == 'female'])\n",
    "  female.append((tc_female/len(tc))*100)\n",
    "\n",
    "print(\"domain \",domain)\n",
    "print(\"female percent \", female)\n",
    "fig = plt.figure(figsize =(10, 10))\n",
    " \n",
    "samp2 = pd.DataFrame()\n",
    "samp2['domain'] = domain\n",
    "samp2['female_control'] = female\n",
    "\n",
    "samp2 = samp2.sort_values(by = ['female_control'], ascending=False)\n",
    "\n",
    "merge = samp.merge(samp2, on = ['domain'], how = \"inner\")\n",
    "print(merge)"
   ]
  },
  {
   "cell_type": "markdown",
   "metadata": {
    "application/vnd.databricks.v1+cell": {
     "cellMetadata": {
      "byteLimit": 2048000,
      "rowLimit": 10000
     },
     "inputWidgets": {},
     "nuid": "8d9cdea2-417c-48c5-bcb8-79487141070b",
     "showTitle": false,
     "title": ""
    }
   },
   "source": [
    "#### domain distribution in control and treatment group"
   ]
  },
  {
   "cell_type": "code",
   "execution_count": 0,
   "metadata": {
    "application/vnd.databricks.v1+cell": {
     "cellMetadata": {
      "byteLimit": 2048000,
      "rowLimit": 10000
     },
     "inputWidgets": {},
     "nuid": "5bc44a1b-cf3e-4909-90ac-94dedcfbe38b",
     "showTitle": false,
     "title": ""
    }
   },
   "outputs": [
    {
     "output_type": "display_data",
     "data": {
      "text/html": [
       "<style scoped>\n",
       "  .ansiout {\n",
       "    display: block;\n",
       "    unicode-bidi: embed;\n",
       "    white-space: pre-wrap;\n",
       "    word-wrap: break-word;\n",
       "    word-break: break-all;\n",
       "    font-family: \"Menlo\", \"Monaco\", \"Consolas\", \"Ubuntu Mono\", \"Source Code Pro\", monospace;\n",
       "    font-size: 13px;\n",
       "    color: #555;\n",
       "    margin-left: 4px;\n",
       "    line-height: 19px;\n",
       "  }\n",
       "</style>"
      ]
     },
     "metadata": {
      "application/vnd.databricks.v1+output": {
       "arguments": {},
       "data": "",
       "errorSummary": "Cancelled",
       "errorTraceType": "html",
       "metadata": {},
       "type": "ipynbError"
      }
     },
     "output_type": "display_data"
    }
   ],
   "source": [
    "treat_len = len(new[new['treatment'] == '1'])\n",
    "con_len = len(new[new['treatment'] == '0'])\n",
    "print(treat_len,\" \",con_len)\n",
    "for i in new['Domain_English'].unique():\n",
    "    ii = new[new['Domain_English'] == i]\n",
    "    it = ii[ii['treatment'] == '1']\n",
    "    ic = ii[ii['treatment'] == '0']\n",
    "    print(i,\" tratment \",len(it),\" control \",len(ic), \" treatment percent \", len(it)/treat_len,\" control percent \",len(ic)/con_len)"
   ]
  },
  {
   "cell_type": "markdown",
   "metadata": {
    "application/vnd.databricks.v1+cell": {
     "cellMetadata": {
      "byteLimit": 2048000,
      "rowLimit": 10000
     },
     "inputWidgets": {},
     "nuid": "2a1670f8-cbd2-4a1b-82aa-002f7a951c0f",
     "showTitle": false,
     "title": ""
    }
   },
   "source": [
    "## Affiliation Analysis"
   ]
  },
  {
   "cell_type": "code",
   "execution_count": 0,
   "metadata": {
    "application/vnd.databricks.v1+cell": {
     "cellMetadata": {
      "byteLimit": 2048000,
      "rowLimit": 10000
     },
     "inputWidgets": {},
     "nuid": "0b112e47-dd01-44cd-bebd-e92b3f56564c",
     "showTitle": false,
     "title": ""
    }
   },
   "outputs": [
    {
     "output_type": "display_data",
     "data": {
      "text/html": [
       "<style scoped>\n",
       "  .ansiout {\n",
       "    display: block;\n",
       "    unicode-bidi: embed;\n",
       "    white-space: pre-wrap;\n",
       "    word-wrap: break-word;\n",
       "    word-break: break-all;\n",
       "    font-family: \"Menlo\", \"Monaco\", \"Consolas\", \"Ubuntu Mono\", \"Source Code Pro\", monospace;\n",
       "    font-size: 13px;\n",
       "    color: #555;\n",
       "    margin-left: 4px;\n",
       "    line-height: 19px;\n",
       "  }\n",
       "</style>"
      ]
     },
     "metadata": {
      "application/vnd.databricks.v1+output": {
       "arguments": {},
       "data": "",
       "errorSummary": "Cancelled",
       "errorTraceType": "html",
       "metadata": {},
       "type": "ipynbError"
      }
     },
     "output_type": "display_data"
    }
   ],
   "source": [
    "import pandas as pd\n",
    "total = pd.read_csv(\"/dbfs/FileStore/shared_uploads/arabi2@wisc.edu/us_media_analysis.csv\")\n",
    "#print(total.dtypes)\n",
    "\n",
    "#print(\"len of total \", len(total))\n",
    "#print(total['doi'].nunique())\n",
    "total = total.drop_duplicates(subset = ['doi'])\n",
    "\n",
    "print(\"len of total after dropping duplicate dois \", len(total))\n",
    "\n",
    "ret = spark.read.format(\"csv\").option(\"header\", \"true\").load(\"dbfs:/FileStore/shared_uploads/arabi2@wisc.edu/retrected_doi_wos.csv\")\n",
    "retracted = ret.select('doi').toPandas()\n",
    "ids_to_remove = retracted['doi']\n",
    "total2 = total[~total['doi'].isin(ids_to_remove)]\n",
    "us = total[total['country_name'] == 'United States']\n",
    "print(len(us))\n",
    "print(len(us[us['news_cnt'] > 0]))\n",
    "print(len(us[us['news_cnt'] <= 0]))\n",
    "\n",
    "\n",
    "dummy = us.copy()\n",
    "dummy = dummy.dropna(subset = ['cor_gender'])\n",
    "print(len(dummy))\n",
    "gender = []\n",
    "for ind in dummy.index:\n",
    "    if dummy['cor_gender'][ind] == \"female\" or dummy['cor_gender'][ind] == \"f\" or dummy['cor_gender'][ind] == \"F\":\n",
    "        gender.append(\"female\")\n",
    "    else: ##there is no null value in gender, so it is safe to say that if someone is not female, he must be male\n",
    "        gender.append(\"male\")\n",
    "dummy['gender'] = gender"
   ]
  },
  {
   "cell_type": "code",
   "execution_count": 0,
   "metadata": {
    "application/vnd.databricks.v1+cell": {
     "cellMetadata": {
      "byteLimit": 2048000,
      "rowLimit": 10000
     },
     "inputWidgets": {},
     "nuid": "0de020fb-10a6-4ae4-a4bb-564d3cbe1ab5",
     "showTitle": false,
     "title": ""
    }
   },
   "outputs": [
    {
     "output_type": "display_data",
     "data": {
      "text/html": [
       "<style scoped>\n",
       "  .ansiout {\n",
       "    display: block;\n",
       "    unicode-bidi: embed;\n",
       "    white-space: pre-wrap;\n",
       "    word-wrap: break-word;\n",
       "    word-break: break-all;\n",
       "    font-family: \"Menlo\", \"Monaco\", \"Consolas\", \"Ubuntu Mono\", \"Source Code Pro\", monospace;\n",
       "    font-size: 13px;\n",
       "    color: #555;\n",
       "    margin-left: 4px;\n",
       "    line-height: 19px;\n",
       "  }\n",
       "</style>"
      ]
     },
     "metadata": {
      "application/vnd.databricks.v1+output": {
       "arguments": {},
       "data": "",
       "errorSummary": "Cancelled",
       "errorTraceType": "html",
       "metadata": {},
       "type": "ipynbError"
      }
     },
     "output_type": "display_data"
    }
   ],
   "source": [
    "dummy['org_type'].unique()"
   ]
  },
  {
   "cell_type": "code",
   "execution_count": 0,
   "metadata": {
    "application/vnd.databricks.v1+cell": {
     "cellMetadata": {
      "byteLimit": 2048000,
      "rowLimit": 10000
     },
     "inputWidgets": {},
     "nuid": "f1c5cd6d-0fc8-447a-9dd9-f9bce66c3c31",
     "showTitle": false,
     "title": ""
    }
   },
   "outputs": [
    {
     "output_type": "display_data",
     "data": {
      "text/html": [
       "<style scoped>\n",
       "  .ansiout {\n",
       "    display: block;\n",
       "    unicode-bidi: embed;\n",
       "    white-space: pre-wrap;\n",
       "    word-wrap: break-word;\n",
       "    word-break: break-all;\n",
       "    font-family: \"Menlo\", \"Monaco\", \"Consolas\", \"Ubuntu Mono\", \"Source Code Pro\", monospace;\n",
       "    font-size: 13px;\n",
       "    color: #555;\n",
       "    margin-left: 4px;\n",
       "    line-height: 19px;\n",
       "  }\n",
       "</style>"
      ]
     },
     "metadata": {
      "application/vnd.databricks.v1+output": {
       "arguments": {},
       "data": "",
       "errorSummary": "Cancelled",
       "errorTraceType": "html",
       "metadata": {},
       "type": "ipynbError"
      }
     },
     "output_type": "display_data"
    }
   ],
   "source": [
    "new = new.sort_values(by = ['strata'])\n",
    "print(new.head(30))"
   ]
  },
  {
   "cell_type": "code",
   "execution_count": 0,
   "metadata": {
    "application/vnd.databricks.v1+cell": {
     "cellMetadata": {
      "byteLimit": 2048000,
      "rowLimit": 10000
     },
     "inputWidgets": {},
     "nuid": "4090dfbd-3702-4dab-93ac-26f5728a3df7",
     "showTitle": false,
     "title": ""
    }
   },
   "outputs": [
    {
     "output_type": "display_data",
     "data": {
      "text/html": [
       "<style scoped>\n",
       "  .ansiout {\n",
       "    display: block;\n",
       "    unicode-bidi: embed;\n",
       "    white-space: pre-wrap;\n",
       "    word-wrap: break-word;\n",
       "    word-break: break-all;\n",
       "    font-family: \"Menlo\", \"Monaco\", \"Consolas\", \"Ubuntu Mono\", \"Source Code Pro\", monospace;\n",
       "    font-size: 13px;\n",
       "    color: #555;\n",
       "    margin-left: 4px;\n",
       "    line-height: 19px;\n",
       "  }\n",
       "</style>"
      ]
     },
     "metadata": {
      "application/vnd.databricks.v1+output": {
       "arguments": {},
       "data": "",
       "errorSummary": "Cancelled",
       "errorTraceType": "html",
       "metadata": {},
       "type": "ipynbError"
      }
     },
     "output_type": "display_data"
    }
   ],
   "source": [
    "a = new['strata'].unique()\n",
    "for i in a:\n",
    "    f = new[new['strata'] == i]\n",
    "    g1 = f[f['treatment'] == '1']\n",
    "    g0 = f[f['treatment'] == '0']\n",
    "    if len(g0)<= 0 or len(g1)<= 0:\n",
    "        print(\"problem\")\n",
    "        print(\"strata \",i)\n",
    "        break"
   ]
  },
  {
   "cell_type": "code",
   "execution_count": 0,
   "metadata": {
    "application/vnd.databricks.v1+cell": {
     "cellMetadata": {
      "byteLimit": 2048000,
      "rowLimit": 10000
     },
     "inputWidgets": {},
     "nuid": "36991a22-ca94-4ea5-b790-293f509acea7",
     "showTitle": false,
     "title": ""
    }
   },
   "outputs": [
    {
     "output_type": "display_data",
     "data": {
      "text/html": [
       "<style scoped>\n",
       "  .ansiout {\n",
       "    display: block;\n",
       "    unicode-bidi: embed;\n",
       "    white-space: pre-wrap;\n",
       "    word-wrap: break-word;\n",
       "    word-break: break-all;\n",
       "    font-family: \"Menlo\", \"Monaco\", \"Consolas\", \"Ubuntu Mono\", \"Source Code Pro\", monospace;\n",
       "    font-size: 13px;\n",
       "    color: #555;\n",
       "    margin-left: 4px;\n",
       "    line-height: 19px;\n",
       "  }\n",
       "</style>"
      ]
     },
     "metadata": {
      "application/vnd.databricks.v1+output": {
       "arguments": {},
       "data": "",
       "errorSummary": "Cancelled",
       "errorTraceType": "html",
       "metadata": {},
       "type": "ipynbError"
      }
     },
     "output_type": "display_data"
    }
   ],
   "source": [
    "a = new['strata'].unique()\n",
    "for i in a:\n",
    "    f = new[new['strata'] == i]\n",
    "    if f['srcid'].nunique() != 1:\n",
    "        print(\"prob\")\n",
    "        break\n",
    "    if f['openaccess_status'].nunique() != 1:\n",
    "        print(\"prob\")\n",
    "        break\n",
    "    if f['year_cat'].nunique() != 1:\n",
    "        print(\"prob\")\n",
    "        break\n",
    "    if f['team_size'].nunique() != 1:\n",
    "        print(\"prob\")\n",
    "        break\n",
    "    if f['subfield_article'].nunique() != 1:\n",
    "        print(\"prob\")\n",
    "        break\n",
    "#'srcid','openaccess_status','year_cat','team_size','subfield_article'"
   ]
  },
  {
   "cell_type": "code",
   "execution_count": 0,
   "metadata": {
    "application/vnd.databricks.v1+cell": {
     "cellMetadata": {
      "byteLimit": 2048000,
      "rowLimit": 10000
     },
     "inputWidgets": {},
     "nuid": "341a5097-ccf7-452a-8ade-1220faa1771f",
     "showTitle": false,
     "title": ""
    }
   },
   "outputs": [
    {
     "output_type": "display_data",
     "data": {
      "text/html": [
       "<style scoped>\n",
       "  .ansiout {\n",
       "    display: block;\n",
       "    unicode-bidi: embed;\n",
       "    white-space: pre-wrap;\n",
       "    word-wrap: break-word;\n",
       "    word-break: break-all;\n",
       "    font-family: \"Menlo\", \"Monaco\", \"Consolas\", \"Ubuntu Mono\", \"Source Code Pro\", monospace;\n",
       "    font-size: 13px;\n",
       "    color: #555;\n",
       "    margin-left: 4px;\n",
       "    line-height: 19px;\n",
       "  }\n",
       "</style>"
      ]
     },
     "metadata": {
      "application/vnd.databricks.v1+output": {
       "arguments": {},
       "data": "",
       "errorSummary": "Cancelled",
       "errorTraceType": "html",
       "metadata": {},
       "type": "ipynbError"
      }
     },
     "output_type": "display_data"
    }
   ],
   "source": [
    "x = new.drop_duplicates(subset = ['srcid','openaccess_status','year_cat','team_size','subfield_article'])\n",
    "print(len(x))\n",
    "print(new['strata'].nunique())"
   ]
  },
  {
   "cell_type": "code",
   "execution_count": 0,
   "metadata": {
    "application/vnd.databricks.v1+cell": {
     "cellMetadata": {
      "byteLimit": 2048000,
      "rowLimit": 10000
     },
     "inputWidgets": {},
     "nuid": "90f3cc23-e828-4af7-a677-bde2d2562845",
     "showTitle": false,
     "title": ""
    }
   },
   "outputs": [
    {
     "output_type": "display_data",
     "data": {
      "text/html": [
       "<style scoped>\n",
       "  .ansiout {\n",
       "    display: block;\n",
       "    unicode-bidi: embed;\n",
       "    white-space: pre-wrap;\n",
       "    word-wrap: break-word;\n",
       "    word-break: break-all;\n",
       "    font-family: \"Menlo\", \"Monaco\", \"Consolas\", \"Ubuntu Mono\", \"Source Code Pro\", monospace;\n",
       "    font-size: 13px;\n",
       "    color: #555;\n",
       "    margin-left: 4px;\n",
       "    line-height: 19px;\n",
       "  }\n",
       "</style>"
      ]
     },
     "metadata": {
      "application/vnd.databricks.v1+output": {
       "arguments": {},
       "data": "",
       "errorSummary": "Cancelled",
       "errorTraceType": "html",
       "metadata": {},
       "type": "ipynbError"
      }
     },
     "output_type": "display_data"
    }
   ],
   "source": [
    "print(len(new))\n",
    "print(len(new[new['treatment'] == '1']))"
   ]
  },
  {
   "cell_type": "code",
   "execution_count": 0,
   "metadata": {
    "application/vnd.databricks.v1+cell": {
     "cellMetadata": {
      "byteLimit": 2048000,
      "rowLimit": 10000
     },
     "inputWidgets": {},
     "nuid": "7d1fd68a-ea62-4653-a1d2-a829dbf0fe52",
     "showTitle": false,
     "title": ""
    }
   },
   "outputs": [
    {
     "output_type": "display_data",
     "data": {
      "text/html": [
       "<style scoped>\n",
       "  .ansiout {\n",
       "    display: block;\n",
       "    unicode-bidi: embed;\n",
       "    white-space: pre-wrap;\n",
       "    word-wrap: break-word;\n",
       "    word-break: break-all;\n",
       "    font-family: \"Menlo\", \"Monaco\", \"Consolas\", \"Ubuntu Mono\", \"Source Code Pro\", monospace;\n",
       "    font-size: 13px;\n",
       "    color: #555;\n",
       "    margin-left: 4px;\n",
       "    line-height: 19px;\n",
       "  }\n",
       "</style>"
      ]
     },
     "metadata": {
      "application/vnd.databricks.v1+output": {
       "arguments": {},
       "data": "",
       "errorSummary": "Cancelled",
       "errorTraceType": "html",
       "metadata": {},
       "type": "ipynbError"
      }
     },
     "output_type": "display_data"
    }
   ],
   "source": [
    "import numpy as np\n",
    "np.exp(0.0839409)"
   ]
  },
  {
   "cell_type": "code",
   "execution_count": 0,
   "metadata": {
    "application/vnd.databricks.v1+cell": {
     "cellMetadata": {
      "byteLimit": 2048000,
      "rowLimit": 10000
     },
     "inputWidgets": {},
     "nuid": "ff21691a-a469-4eae-a1cd-3217ce406f6b",
     "showTitle": false,
     "title": ""
    }
   },
   "outputs": [
    {
     "output_type": "display_data",
     "data": {
      "text/html": [
       "<style scoped>\n",
       "  .ansiout {\n",
       "    display: block;\n",
       "    unicode-bidi: embed;\n",
       "    white-space: pre-wrap;\n",
       "    word-wrap: break-word;\n",
       "    word-break: break-all;\n",
       "    font-family: \"Menlo\", \"Monaco\", \"Consolas\", \"Ubuntu Mono\", \"Source Code Pro\", monospace;\n",
       "    font-size: 13px;\n",
       "    color: #555;\n",
       "    margin-left: 4px;\n",
       "    line-height: 19px;\n",
       "  }\n",
       "</style>"
      ]
     },
     "metadata": {
      "application/vnd.databricks.v1+output": {
       "arguments": {},
       "data": "",
       "errorSummary": "Cancelled",
       "errorTraceType": "html",
       "metadata": {},
       "type": "ipynbError"
      }
     },
     "output_type": "display_data"
    }
   ],
   "source": [
    "#https://stackoverflow.com/questions/41384075/r-calculate-and-interpret-odds-ratio-in-logistic-regression\n",
    "#https://stats.stackexchange.com/questions/304833/how-to-calculate-odds-ratio-and-95-confidence-interval-for-logistic-regression\n",
    "#https://stackoverflow.com/questions/11561258/r-python-install-packages-on-rpy2\n",
    "#https://quantifyinghealth.com/interpret-logistic-regression-coefficients/\n",
    "#https://www.practicalpythonfordatascience.com/ap_seaborn_palette - great color palettes\n",
    "#https://stats.stackexchange.com/questions/5304/why-is-there-a-difference-between-manually-calculating-a-logistic-regression-95/5320#5320 \n",
    "#https://stats.oarc.ucla.edu/r/dae/poisson-regression/ \n",
    "#https://rstudio-pubs-static.s3.amazonaws.com/565937_c92bc7ce744545b6b3b5c70cc4db1e7a.html#:~:text=Reference%20group%20of%20the%20outcome,0)%20is%20the%20reference%20group!"
   ]
  },
  {
   "cell_type": "code",
   "execution_count": 0,
   "metadata": {
    "application/vnd.databricks.v1+cell": {
     "cellMetadata": {
      "byteLimit": 2048000,
      "rowLimit": 10000
     },
     "inputWidgets": {},
     "nuid": "4b8e4eef-757d-401a-933e-0edb4de60c83",
     "showTitle": false,
     "title": ""
    }
   },
   "outputs": [
    {
     "output_type": "stream",
     "name": "stdout",
     "output_type": "stream",
     "text": [
      "Out[11]: array(['Applied Sciences', 'Arts & Humanities',\n       'Economic & Social Sciences', 'Health Sciences',\n       'Natural Sciences'], dtype=object)"
     ]
    }
   ],
   "source": [
    "dummy['Domain_English'].unique()"
   ]
  },
  {
   "cell_type": "code",
   "execution_count": 0,
   "metadata": {
    "application/vnd.databricks.v1+cell": {
     "cellMetadata": {
      "byteLimit": 2048000,
      "rowLimit": 10000
     },
     "inputWidgets": {},
     "nuid": "3066ce17-8acd-4f77-877c-98b1ac185e53",
     "showTitle": false,
     "title": ""
    }
   },
   "outputs": [
    {
     "output_type": "stream",
     "name": "stdout",
     "output_type": "stream",
     "text": [
      "['Agriculture, Fisheries & Forestry' 'Built Environment & Design'\n 'Enabling & Strategic Technologies' 'Engineering'\n 'Information & Communication Technologies']\n"
     ]
    }
   ],
   "source": [
    "a = dummy[dummy['Domain_English'] == 'Applied Sciences']\n",
    "print(a['Field_English'].unique())"
   ]
  },
  {
   "cell_type": "code",
   "execution_count": 0,
   "metadata": {
    "application/vnd.databricks.v1+cell": {
     "cellMetadata": {
      "byteLimit": 2048000,
      "rowLimit": 10000
     },
     "inputWidgets": {},
     "nuid": "de38e214-8bb9-4d6f-b388-317b53d07fc2",
     "showTitle": false,
     "title": ""
    }
   },
   "outputs": [
    {
     "output_type": "stream",
     "name": "stdout",
     "output_type": "stream",
     "text": [
      "['Communication & Textual Studies' 'Historical Studies'\n 'Philosophy & Theology' 'Visual & Performing Arts']\n"
     ]
    }
   ],
   "source": [
    "a = dummy[dummy['Domain_English'] == 'Arts & Humanities']\n",
    "print(a['Field_English'].unique())"
   ]
  },
  {
   "cell_type": "code",
   "execution_count": 0,
   "metadata": {
    "application/vnd.databricks.v1+cell": {
     "cellMetadata": {
      "byteLimit": 2048000,
      "rowLimit": 10000
     },
     "inputWidgets": {},
     "nuid": "8ee8f284-d80a-4c77-bbf8-799ce6cbe9d4",
     "showTitle": false,
     "title": ""
    }
   },
   "outputs": [
    {
     "output_type": "stream",
     "name": "stdout",
     "output_type": "stream",
     "text": [
      "['Economics & Business ' 'Social Sciences']\n"
     ]
    }
   ],
   "source": [
    "a = dummy[dummy['Domain_English'] == 'Economic & Social Sciences']\n",
    "print(a['Field_English'].unique())"
   ]
  },
  {
   "cell_type": "code",
   "execution_count": 0,
   "metadata": {
    "application/vnd.databricks.v1+cell": {
     "cellMetadata": {
      "byteLimit": 2048000,
      "rowLimit": 10000
     },
     "inputWidgets": {},
     "nuid": "673df3e5-5366-4353-b80c-b0a0fbc447da",
     "showTitle": false,
     "title": ""
    }
   },
   "outputs": [
    {
     "output_type": "stream",
     "name": "stdout",
     "output_type": "stream",
     "text": [
      "['Biomedical Research' 'Clinical Medicine'\n 'Psychology & Cognitive Sciences' 'Public Health & Health Services']\n"
     ]
    }
   ],
   "source": [
    "a = dummy[dummy['Domain_English'] == 'Health Sciences']\n",
    "print(a['Field_English'].unique())"
   ]
  },
  {
   "cell_type": "code",
   "execution_count": 0,
   "metadata": {
    "application/vnd.databricks.v1+cell": {
     "cellMetadata": {
      "byteLimit": 2048000,
      "rowLimit": 10000
     },
     "inputWidgets": {},
     "nuid": "916200a4-0308-481c-850d-810ffb291470",
     "showTitle": false,
     "title": ""
    }
   },
   "outputs": [
    {
     "output_type": "stream",
     "name": "stdout",
     "output_type": "stream",
     "text": [
      "['Biology' 'Chemistry' 'Earth & Environmental Sciences'\n 'Mathematics & Statistics' 'Physics & Astronomy']\n"
     ]
    }
   ],
   "source": [
    "a = dummy[dummy['Domain_English'] == 'Natural Sciences']\n",
    "print(a['Field_English'].unique())"
   ]
  },
  {
   "cell_type": "code",
   "execution_count": 0,
   "metadata": {
    "application/vnd.databricks.v1+cell": {
     "cellMetadata": {
      "byteLimit": 2048000,
      "rowLimit": 10000
     },
     "inputWidgets": {},
     "nuid": "9615347b-c3d4-42c6-8ae1-2a3de50553be",
     "showTitle": false,
     "title": ""
    }
   },
   "outputs": [
    {
     "output_type": "display_data",
     "data": {
      "text/html": [
       "<style scoped>\n",
       "  .ansiout {\n",
       "    display: block;\n",
       "    unicode-bidi: embed;\n",
       "    white-space: pre-wrap;\n",
       "    word-wrap: break-word;\n",
       "    word-break: break-all;\n",
       "    font-family: \"Menlo\", \"Monaco\", \"Consolas\", \"Ubuntu Mono\", \"Source Code Pro\", monospace;\n",
       "    font-size: 13px;\n",
       "    color: #555;\n",
       "    margin-left: 4px;\n",
       "    line-height: 19px;\n",
       "  }\n",
       "</style>"
      ]
     },
     "metadata": {
      "application/vnd.databricks.v1+output": {
       "arguments": {},
       "data": "",
       "errorSummary": "Cancelled",
       "errorTraceType": "html",
       "metadata": {},
       "type": "ipynbError"
      }
     },
     "output_type": "display_data"
    }
   ],
   "source": [
    "import matplotlib.pyplot as plt\n",
    "import seaborn as sns\n",
    "\n",
    "# Sample data\n",
    "data = {\n",
    "    \"domain\": [\"A\", \"B\", \"C\", \"D\"],\n",
    "    \"odds_ratio\": [1.5, 2.0, 1.8, 2.2],\n",
    "    \"left_ci\": [1.2, 1.8, 1.5, 2.0],\n",
    "    \"right_ci\": [1.8, 2.2, 2.1, 2.5],\n",
    "    \"significance\": [\"*\", \"**\", \"\", \"*\"],\n",
    "    \"gender\": [0, 1, 0, 1]\n",
    "}\n",
    "\n",
    "# Create a DataFrame\n",
    "df = pd.DataFrame(data)\n",
    "\n",
    "# Set up the matplotlib figure\n",
    "plt.figure(figsize=(10, 6))\n",
    "\n",
    "# Add confidence interval lines with dots for odds ratio, color-coded by gender\n",
    "for i, row in df.iterrows():\n",
    "    color = \"red\" if row[\"gender\"] == 0 else \"black\"\n",
    "    plt.plot(row[\"odds_ratio\"], i, 'o', markersize=8, color=color)\n",
    "    plt.plot([row[\"left_ci\"], row[\"right_ci\"]], [i, i], color=color, linewidth=2)\n",
    "\n",
    "# Annotate significance\n",
    "for i, row in df.iterrows():\n",
    "    plt.text(row[\"right_ci\"] + 0.02, i, row[\"significance\"], color=\"red\" if row[\"gender\"] == 0 else \"black\",\n",
    "             verticalalignment=\"center\", fontsize=12)\n",
    "\n",
    "# Customize the plot\n",
    "plt.yticks(range(len(df)), df[\"domain\"])\n",
    "plt.xlabel(\"Odds Ratio\", fontsize=14)\n",
    "plt.title(\"Odds Ratio with Confidence Intervals\", fontsize=16)\n",
    "plt.grid(axis=\"x\", linestyle=\"--\", alpha=0.6)\n",
    "\n",
    "# Show the plot\n",
    "plt.show()\n",
    "\n",
    "\n"
   ]
  },
  {
   "cell_type": "code",
   "execution_count": 0,
   "metadata": {
    "application/vnd.databricks.v1+cell": {
     "cellMetadata": {
      "byteLimit": 2048000,
      "rowLimit": 10000
     },
     "inputWidgets": {},
     "nuid": "7d3048d5-6327-4ee8-bc8c-1ba9cd056821",
     "showTitle": false,
     "title": ""
    }
   },
   "outputs": [
    {
     "output_type": "stream",
     "name": "stdout",
     "output_type": "stream",
     "text": [
      "0.7986963044706081\n"
     ]
    }
   ],
   "source": [
    "import math\n",
    "#math.exp(1.4345)\n",
    "math.exp(1.4345+1.96*0.5346)\n",
    "print(math.exp(-0.2247745))"
   ]
  },
  {
   "cell_type": "code",
   "execution_count": 0,
   "metadata": {
    "application/vnd.databricks.v1+cell": {
     "cellMetadata": {
      "byteLimit": 2048000,
      "rowLimit": 10000
     },
     "inputWidgets": {},
     "nuid": "9f7b5e14-93b3-4578-9a7f-d2c2fb5be21e",
     "showTitle": false,
     "title": ""
    }
   },
   "outputs": [
    {
     "output_type": "stream",
     "name": "stdout",
     "output_type": "stream",
     "text": [
      "                                       field       est     error pval  gender  \\\n0                        Physics & Astronomy  0.056000  0.052700            1   \n1                   Mathematics & Statistics  0.360000  0.268000            1   \n2             Earth & Environmental Sciences -0.071000  0.044800            0   \n3                                  Chemistry  0.017560  0.064650            1   \n4                                    Biology -0.012323  0.034374            0   \n5            Public Health & Health Services  0.083941  0.025519   **       1   \n6            Psychology & Cognitive Sciences -0.114584  0.036990   **       0   \n7                          Clinical Medicine  0.002436  0.011320            1   \n8                        Biomedical Research  0.042539  0.022614    .       1   \n9                            Social Sciences  0.095637  0.042004    *       1   \n10                      Economics & Business -0.200888  0.055441  ***       0   \n11                     Philosophy & Theology  0.084886  0.239748            1   \n12                        Historical Studies  0.244832  0.127498    .       1   \n13           Communication & Textual Studies -0.190563  0.100530    .       0   \n14  Information & Communication Technologies -0.224774  0.087237   **       0   \n15                               Engineering -0.159315  0.083196    .       0   \n16         Enabling & Strategic Technologies -0.030330  0.043530            0   \n17                Built Environment & Design  0.205768  0.167424            1   \n18         Agriculture, Fisheries & Forestry -0.143030  0.063189    *       0   \n\n    odds_ratio   left_ci  right_ci  \n0     1.057598  0.953809  1.172680  \n1     1.433329  0.847656  2.423663  \n2     0.931462  0.853160  1.016950  \n3     1.017715  0.896592  1.155201  \n4     0.987753  0.923397  1.056594  \n5     1.087565  1.034506  1.143345  \n6     0.891737  0.829374  0.958790  \n7     1.002439  0.980443  1.024929  \n8     1.043456  0.998216  1.090747  \n9     1.100359  1.013398  1.194784  \n10    0.818004  0.733775  0.911901  \n11    1.088593  0.680437  1.741579  \n12    1.277407  0.994949  1.640052  \n13    0.826494  0.678683  1.006497  \n14    0.798696  0.673169  0.947631  \n15    0.852728  0.724423  1.003756  \n16    0.970125  0.890788  1.056529  \n17    1.228468  0.884809  1.705604  \n18    0.866728  0.765764  0.981004  \n"
     ]
    }
   ],
   "source": [
    "a = pd.DataFrame()\n",
    "a['field'] = [\"Physics & Astronomy\",\"Mathematics & Statistics\",\"Earth & Environmental Sciences\",\"Chemistry\",\"Biology\",\"Public Health & Health Services\",\"Psychology & Cognitive Sciences\",\n",
    "\"Clinical Medicine\",\"Biomedical Research\",\"Social Sciences\",\"Economics & Business\",\"Philosophy & Theology\",\"Historical Studies\",\"Communication & Textual Studies\",\"Information & Communication Technologies\",\"Engineering\",\"Enabling & Strategic Technologies\",\"Built Environment & Design\",\"Agriculture, Fisheries & Forestry\"]\n",
    "a['est'] = [0.056,0.36,-0.0710,1.756e-02,-0.0123227,0.0839409,-0.114584,2.436e-03,0.0425387,0.0956369,-0.200888,0.084886,0.2448323,-0.190563,-0.2247745,-0.159315,-3.033e-02,0.205768,-0.1430302]\n",
    "a['error'] = [0.0527,0.268, 0.0448,6.465e-02, 0.0343743,0.0255190,0.036990,1.132e-02,0.0226143,0.0420042,0.055441,0.239748,0.1274979,0.100530,0.0872372,0.083196,4.353e-02,0.167424,0.0631895]\n",
    "a['pval'] = [\" \",\" \",\" \",\" \",\" \",\"**\",\"**\",\" \",\".\",\"*\",\"***\",\" \",\".\",\".\",\"**\",\".\",\" \",\" \",\"*\"]\n",
    "a['gender'] = a['est'].apply(lambda x: 1 if x > 0 else 0)\n",
    "#print(a)\n",
    "\n",
    "a['odds_ratio'] = a['est'].apply(lambda x: math.exp(x))\n",
    "\n",
    "left_ci = []\n",
    "right_ci = []\n",
    "\n",
    "for ind in a.index:\n",
    "    left_ci.append(math.exp(a['est'][ind] - 1.96 * a['error'][ind]))\n",
    "    right_ci.append(math.exp(a['est'][ind] + 1.96 * a['error'][ind]))\n",
    "\n",
    "a['left_ci'] = left_ci\n",
    "a['right_ci'] = right_ci\n",
    "print(a)"
   ]
  },
  {
   "cell_type": "code",
   "execution_count": 0,
   "metadata": {
    "application/vnd.databricks.v1+cell": {
     "cellMetadata": {
      "byteLimit": 2048000,
      "rowLimit": 10000
     },
     "inputWidgets": {},
     "nuid": "34c99992-11c7-4b6d-a17f-6cbe78cf6619",
     "showTitle": false,
     "title": ""
    }
   },
   "outputs": [
    {
     "output_type": "display_data",
     "data": {
      "image/png": "[encoded data removed]"
     },
     "metadata": {
      "application/vnd.databricks.v1+output": {
       "addedWidgets": {},
       "arguments": {},
       "data": "data:image/png;base64,iVBORw0KGgoAAAANSUhEUgAAAkcAAAF3CAYAAACv0e/HAAAAOXRFWHRTb2Z0d2FyZQBNYXRwbG90bGliIHZlcnNpb24zLjQuMywgaHR0cHM6Ly9tYXRwbG90bGliLm9yZy/MnkTPAAAACXBIWXMAAAsTAAALEwEAmpwYAACPjUlEQVR4nOyde5zUVf3/n68FdNX1CqNpitgqmlcSLDQ1NL+UZXdNzS5oZSy/LO3rmt9uC6SpbN+8fiPJFEvzLuYtDS+oqQSL3E2wFbykCYvXURcQ3r8/zpnlwzKzM7M7OzMHzvPxmMd85nzO5XnOLLtvzud8PkdmRiQSiUQikUjEUVNpgUgkEolEIpFqIgZHkUgkEolEIglicBSJRCKRSCSSIAZHkUgkEolEIglicBSJRCKRSCSSIAZHkUgkEolEIgn6VlogEonkZsCAATZo0KBKa0QikUhQzJo1q83MUt0tH4OjSKSKGTRoEC0tLWVr79///jcf/OAHy9ZeTwnJNyRXCMs3JFcIyzckV1jnK+n5ntQTL6tFIpEO3nnnnUorFEVIviG5Qli+IblCWL4huULpfGNwFIlEIpFIJJIgBkeRSKSDXXfdtdIKRRGSb0iuEJZvSK4Qlm9IrlA63xgcRSKRDtrb2yutUBQh+YbkCmH5huQKYfmG5Aql843BUSQS6aCtra3SCkURkm9IrhCWb0iuEJZvSK5QOt8YHEUikUgkEokkiMFRJBLpoH///pVWKIqQfENyhbB8Q3KFsHxDcoXS+cbgKBKJdLDllltWWqEoQvINyRXC8g3JFcLyDckVSucbg6NIJNLBiy++WJqK0mloaoJUCmpq3HtTk0svIR2+kyfDtGklrbvUlGxsy0RIviG5Qli+IblC6XxjcJRA0hclmaR9ull+vKRjull2qaQBkraTNKY7dXSjzbGS/i1pjn9dKGm0pG/mKXN2D9u9StK+PanD1/M5SU9LWiDp/C7yjZK0PNHPP/a07S7aOlNSWP/VKjXpNAwfDhMmQFsbmLn3CRNcegkDpG1vvBGmTHEfzODKK9d9jkQikW4Sg6P1ORn4u38vCkl9zOwXZvZADx22A4oOjiT16WZ7F5vZEP8618x+Z2a9GTz0MbPvmNnTJajuEuCzZrY/cFWevDcl+pkz+EsiR7H/Rs4EsgZHPfiOysYWW2zR80qam6G1FTrfUtve7tKbm3vehmfV17/u6rz0UvjJT6BvX/jCF0pWfykpydiWkZB8Q3KFsHxDcoXS+cbgyCOpDjgc+DZwUiK9RtJvJT0jaaqkeyUd788tlXSRpKeAEyRNTpw7RNITkuZKmiFpaz+DcUWi7rsljeikciFQ72c4miWNkHR3oswVkkblaH+kpCclPSXpFt+nYsehY2ZI0g/8zMw8STcmsu0raZqk5yT9IFH2676vcyRdmQkGJKUl/a+kucChvuwwfy6rs5/FyrT96xy6q4BdAcxsSTf6+iM/67RA0pk+bZCkRX52aQGwm6RGSTO9yzifbytJ9/jvd4GkE/1Y7AI8LOnhLH3/qaQ7Eu3/l6SqmubYbbfd3IHU/df48RsGRhna2935ntQvre8ruVkjyV3CS5yvJjrGNhBC8g3JFcLyDckVSucbg6N1fAG4z8wWAyskDfXpXwYGAfsC3wAO7VRuhZkdbGYdwYOkzYCbgB+a2UHAMcB7BXqcC7T6GY7GAvKvMLODgQeAnwHH+M8twI8KKH9W4nLTp7K4fMTMDgRGJ9L3AT4FfBRoktRP0oeBE4GPm9kQYA1wis+/FfAPMzvIzP6eqUTSgGzOkvoDXwL2822f11naz+g8DVwtaVAB/Twx0c9T/fd7KvAxYDjwXUkf8Xn3An5rZvsBe/vPHwWGAEMlHQl8GnjZ92l/3M/OZcDLwFFmdlTnvgO/BPaRlNkp+lTg6ix9O11Si6SW5cuXF9C10rF48eKyttdTXr3gAthjDzjzTDj/fFi5Eu64o9JaWQltbEPyDckVwvINyRVK5xuDo3WcDGQCnBtZd2ntcOAWM1trZv8BHu5U7qYsde0NvGJmMwHM7C0ze78XnJPtD8cFcI9LmgN8C9i9gPLJy2r3dzo3D7he0teBpP89ZrbSzNqAZcBOwCeBocBM3/4ngQ/5/GuA27K0ncv5TaAd+IOkLwPvZil7BjAXaADukpTys3W35uhn8rLaNbjvdYqZvWNmaeB24Aif93kzm+6PR/rXbOApXGC4FzAf+C8/c3eEmb2Zo92OvpuZAX8Cvi5pO1yg/dfOBcxskpkNM7NhqVSq8+nyYNb914ABXdedSvWsfrOOqt486ST48pfdBwlGj4YvfakXByYSiWwK9K20QDUgaQfgaOAASQb0AUxSITM3xWwB/D7rB6S1JSiTaV/AVDMrer1UF3wWOBL4HO6S0AE+fWUizxrcz5GAa83sf7LU025ma7Kk53SW9FFcgHU88H3c95PkU8AEM5sm6ZfAPcAM1gW4PSH5nQq4wMyuzOJ4MPAZ4DxJD5rZ+Cx1de77NcBduODvll4MmivHmDFu8XW2S2u1tdDQUPo2R40qfZ2RSGSTJc4cOY4H/mRmu5vZIDPbDViCm0l4HPiK3NqjnYARBdS3CNhZ0iEAfr1RX2ApMMTXtRvuUk1n3ga2Tnx+HrfGZ3M/2/DJHG1OBz4uaU/f5laSBvvjCyQV9d9pf9lqNzN7GPgxsC3Q1RqmB4HjJe3oy+8gKd/MVVZnv+5oWzO7FzgLOChL2dm4GZgaM7sZeBb4Gi5IKoTHgC9K2lLSVrjLeI9lyXc/cFpiLdQHJe0oaRfgXTO7DmgGDvb5O39/62FmL+Muvf0MFyhVFYMHD+55JY2NUF/vAqEktbUuvbGQ/3MURkl8y0RIrhCWb0iuEJZvSK5QOt8YHDlOBjovjL3Np98GvIRb33Id7tJKrksoAJjZKtz6m8v9QtypuBmfx3FB19PAZb6uzmVX4C4zLZDUbGYvAjfjFgffjAsKsrW5HBgF3CBpHvAk7hIQwAHAf7pyzkIf4DpJ832bl5nZG130+WncH/y/+fanAjt31UAXzlsDd/u0v5N97dT5uFmdBZJmAa8CVwJ/VgF3mJnZU8Bk3GzTP4CrzGyDsTWzvwF/Bp70Y3Gr9zsAmOEvBzaxbl3UJOC+zILsHFwPvGhm/8znWW5K8oyQujqYPh3OOWf95xydc45Lryv6PoGchPQMlpBcISzfkFwhLN+QXKF0vrLE9ftIdiTVmVnaLxSegVt0XGywUTEk3W9mnRdbRyqE3B2Ls83sD/nyDhs2zFpaWspg5Vi8eHFQ/1MMyTckVwjLNyRXCMs3JFdY5ytplpkN6249cc1RYdztL2ltBvwypMAIIAZG1YOf5XoH+O9Ku0QikUgkOzE4KgAzG1Fph8jGgZkNzZ+rcmyqzzQpByG5Qli+IblCWL4huUJ8zlEkEukF3n0321MTqpeQfENyhbB8Q3KFsHxDcoXS+cbgKBKJdLBixYpKKxRFSL4huUJYviG5Qli+IblC6XxjcBSJRCKRSCSSIAZHkUikgwH5nm5dZYTkG5IrhOUbkiuE5RuSK5TONwZHkUikg9rOD26sckLyDckVwvINyRXC8g3JFUrnG4OjXkTSGr/R6Vy/6/xhBZS5StK+/nippAGStpM0poB2Mq9zu+k7WtI3u1O2XEgaIukzXZwf7sd7vqRru8g3QtKbkmZLWiTpUUnHddNply72dAuKl156qdIKRVGNvul0mqamJlKpFDU1NaRSKZqamli0aFGl1YqiGsc2FyG5Qli+IblC6Xzjrfy9y3t+h3r8jvcXAJ/oqoCZfSdL8nbAGOC3+drpCWb2u2zpkvpW0R5gQ4BhwL05zp8PnGlmD0vaI09dj5nZceCCLuAOSe+Z2YPFCPktQY4vpkxk4ySdTjN8+HBaW1tp93vLtbW1MWHCBG644Qaeeuop6kr4hPBIJNI7xJmj8rEN8Dp0zFrcnTkh6QpJo/zxNEmdn+p5IVDvZ4WaC23QzzyN87NW8yXt4/d1W+ofapnJ96yknSSNlXR2wuMSSS3ADyV90s+yzJd0taTNc7Xh08dKulbSY5Kel/RlSRN8nvsk9fP5hkp6RNIsSfdL2jnR/kWSZkhaLOkISZsB44ET/VicmKXbq4BdAcxsSaFjZWZzfN3f9+2nJN0maaZ/fdynfyIxQzdbbt+8QZIW+PNbSrpZ0tOSpkj6R+b7lJSWdL6f2Zout1dfVbHVVltVWqEoqs23ubl5vcAoQ3t7Oy+88ALNzQX/86041Ta2XRGSK4TlG5IrlNDXzOKrl164HevnAM/g9mMb6tNHAHcn8l0BjPLH04Bh/ngpMAAYBCwooJ3M68RE+TP88Rjc/mEAlwKn+uOPAQ/447HA2QmP3/rjWuBFYLD//Efc7ExXbYzF7YvWD7dx7LvAsf7cFOCL/twTQMqnnwhcnWj/f/3xZxKOo4AruhiLK7zrsDzfzXrfgU8bAvzTH/8ZONwfD0yk34XbPgbcRrx9k98PcDZwpT/eH3g/8X0a8Dl/PAH4Wb6foaFDh1o5Wbt2ba/V7fsfX/HV7Vclfm57g5B8Q3I1W+cLtFgP/n7HmaPe5T0zG2Jm+wCfBv4oSb3YTuZ1U+Lc7f59Fu6POMBNuEAE4CT/ORuZ9L2BJWa22H++FjgyTxsAfzWz1cB83Ea29/n0+T7f3rgAYqrcBq4/w8/65Kk3K5K+AGyJC6b+LGkvPwNU6OZkye/mGOAK73UnsI2kOtzmwb+R9ANgO9vwcuPhwI0AZrYAmJc4twrIzBjm7JOk0yW1SGpZvnx5geql4dlnny1re5FIKQjt5zYk35BcoXS+cc1RmTCzJyUNAFK42YRkYNqbtwOs9O9rWPd9PwnsKSmFm8E5L0s5cHuAdbeNjnQzWytptY/mAdb6fAIWmtmhRdabi08Bj5rZfEnfBv4C3IIPVgrgI8A//XENMNzM2jvluVDSPbgA7HG/lqxznlwkxyBnn8xsEjAJ3MazBdZd9azreumotk0xU6kUbW1tXZ5ftmxZGY26T7WNbSRSTuLMUZnwa3H6ACuA54F9JW3u1/58Mk/xt4GtS+Xi/0BPAX6Du1yU75Gii4BBkvb0n78BPFIClUVAStKhAJL6SdovT5muxmI2bj3S5mb2GK6PPwVuyCci6UDg58D/+aS/AWckzg/x7/VmNt/MLgJmAvt0qupx4Ks+777AAfnariZqasL6lVBtvmPGjMl5K/Hmm29OQ0NDmY26T7WNbVeE5Aph+YbkCqXzDavX4bFFZvEu7hLVt8xsjZm9CNwMLPDvs7uqxAcvj0takGNBdkc7/nVhAW43AV8n9yW1ZPvtwKnALZLm42Z+st7ZVgxmtgp3l9dFkubi1kvle9zBw7jAMtuC7D/gLtnN9ZfSdsatAbpV0pZZ6jrCL6pehAuKfmDr7lT7ATBM0jxJTwOjffqZ/nuYB6wG/tqpzt/iAr6ncTNyC3HrzYJgzz33zJ+piqg238bGRurr6zcIkGpra9lzzz1pbGyskFnxVNvYdkVIrhCWb0iuUDpf9cZUdySyqSKpD9DPzNol1QMPAHv7QLBohg0bZi0thS6Z6jkvvPACAwcOLFt7PaUafdPpNM3NzUycOJEVK1bQv39/GhoaOOmkk/jwhz9cab2CqcaxzUVIrhCWb0iusM5X0iwz63znd8HENUeRSGnZEnjYP6pAwJjuBkaVoPMt6NVONfrW1dUxbtw4xo0bt1764sWLc5SoTqpxbHMRkiuE5RuSK5TONwZHkUgJMbO3cQ+pjEQikUigxDVHkUikg913373SCkURkm9IrhCWb0iuEJZvSK5QOt8YHEUikQ7eeuutSisURUi+IblCWL4huUJYviG5Qul8Y3AUiUQ6eP311yutUBQh+YbkCmH5huQKYfmG5Aql843BUSQSiUQikUiCGBxFIpEOUqlUpRWKIiTfkFwhLN+QXCEs35BcoXS+MTiKRCId9OvXr9IK65NOQ1MTpFJQU+Pem5pcOlXo2wUhuUJYviG5Qli+IblC6Xw3+uBI0ppOT48+t5v1jJJ0RY5zaf++i6Rbe+Lbqd7PSXraP5H5/C7y7STpbklzff57ffogSV/rRrvbSRrTQ/fxko4pIN8Bie/mNUlL/PEDRbSV87spFkljJZ3dzbLDJF1WCo9K8fLLL1daYR3pNAwfDhMmQFsbmLn3CRNcejpdXb55CMkVwvINyRXC8g3JFUrnuyk85+g9MxtSjobM7GXcdhil4hLgGDNbImmPLvKNB6aa2aXQsU8YuF3fvwb8uXMBSX2z7CifYTtgDG4rjG5hZr8oMN98YIh3mgzcbWYlCzDLiZm1AOV7nPXGTnMztLZC54e6tbe79OZmOOWUyrhFIpGNmo1+5igXkpZKGifpKUnz/cawSPqopCf9nltPSNo7UWw3SdMkPSupKUudgyQt8MejJN0u6T6ff0Ii37clLZY0Q9Lvu5j1WAXsCmBmS7rozs7AS5kPZjbPH16I2z9sjqSzvNOdkh4CHpRUJ+nBxBh8IVGu3pdr9s6Nkmb6vcY6Hv0r6eeSFkn6u6QbMrMukiZLOt4fH+LHcq7vc95NdCWN9N/DU5JukVSXp65dcox1WtL5Pv90STv59EGSHvL9eVDSBs/HlzTEl5knaYqk7RMO8zLjk/jOR0i62x9vJelq7zg7M7aS9vNpc3wde+Ubi3JSV1fXuw1Ihb/Gj98wMMrQ3g7jxzN4770Lr6/C9PrYlpiQfENyhbB8Q3KFEvqa2Ub9AtbgNjTNvE706UuBM/zxGOAqf7wN0NcfHwPc5o9HAa8A/YEtcJvGDvPn0v59ELAgkf85YFugFnge2A3Yxbe9A9APeAy4Iot3DXAb8CwwKE8fPwW8gduU9afALj59BG4mhoTTS8AO/nNfYBt/PAD4F27Li45++HMjgUn+XA1wN3AkcIgf01pga+96ti8zGTeLtpkfh0M6j2+WfmTKDAAeBbby6T8GfpGrrlxj7fMY8Dl/PAH4mT++C7cRMMBpwB3+eGyiD/OAT/jj8cAl/ngBcKg/vjDxnXeMN/Ar4Ov+eDtgMbAVcDlwik/fDNgiyzicjpuBahk4cKCVk/fff793G3AXxyrzqjC9PrYlJiTfkFzNwvINydVsnS/QYj2IHTaFmaP3zGxI4pXchf52/z4LFxCA+wN7i58NuBjYL5F/qpmtMLP3fNnD87T9oJm9aW5X+6eB3YGPAo+Y2Wtmthq4JUfZM4C5QANwl6SUn7HY4JKTmd0PfAj4PbAPMFtSriX7U83sNX8s4FdyO8w/AHwQ2ClLmZH+NRt4yrexF/Bx4C9m1m5u24y7spTdG3jFzGZ617cs9+W8DMOBfYHHJc0BvoUbu67qyjbW4Gbf7vbHye/5UNZdbvwTnb5LSdsC25nZIz7pWuBISdsBW5vZkz59g0uWnpHAud5/Gi5oGwg8CfxE0o+B3f3P0nqY2SQzG2Zmw8p9p0hra2vvNlBMODNgQNd1pVIsXrSo8PoqTK+PbYkJyTckVwjLNyRXKJ3vphAcdcVK/76Gdeuvfgk8bGb7A5/D/VHL0Pk3bL7fuCsTx8k2CuFTwKNm9oB3ugcXJNyYLbMPtv5sZt8AZuJmdrLxTuL4FCAFDDW3LutV1u9vBgEXJALMPc3sD0X0pViEC+Iy7e1rZt/OUybXWK/2/4vonN7bCPhKog8DzeyfZvZn4PPAe8C9ko4uk094jBkDtdl+HHHpDQ3l9YlEIpsMm3pwlI1tgX/741Gdzv2XpB0kbQF8EXi8G/XPBD4haXtJfYGv5Mg3G/i6pBozuxl3yepruCBpPSQdLWlLf7w1UA+8ALyNu9yVi22BZWa2WtJRrJtt6VzufuC0xLqfD0raEdf/z0mq9eeOy9LGImBnSYdk/Hy/u2I68HFJe/oyW0ka3M26cvEEcJI/PgV3ebMDM3sTeF3SET7pG7gZvzeAtyV9zKefRHbuB86Q3GIXSR/x7x8CnjOzy4C/AAfmKF8R+vTpU2mFdTQ2Qn39hgFSba1Lb2ysLt88hOQKYfmG5Aph+YbkCqXz3RSCoy20/q38F+bJPwG4QNJsNpxlmIFbBzQPtxap6DuTzOzfuPUoM3DBxVLgzSxZz8fNPiyQNAs3q3Ml8GdJnb+3oUCLvzz2JG791EzvucYvRj4rSxvXA8MkzQe+CTzjHVfgLmktkNRsZn/DXT560ue9FXdpaSZwp2/nr8D8zn0xs1XAicDlkuYCU8k+O5UssxwXmN6Q6NM+3amrC84ATvX1fwP4YZY83wKafZ4huHVHAN8Gfu8vmW1F9u/vl7g1ZfMkLfSfAb6K+07nAPsDf+ymf69QX19faYV11NXB9OlwzjnrP+fonHNcel1ddfnmISRXCMs3JFcIyzckVyidr6wKrsVvakiqM7O0n/WYAlxtZlMq7dUdEn3ZEreI+nQze6rSXr1Jps/++FxgZzPLFlz1mGHDhllLS/meDrB06VIGDRpUtvZ6Ski+IblCWL4huUJYviG5wjpfSbPMbFh369kUnnNUjYyVe0BiLfA34I7K6vSISZL2xfXl2o09MPJ8VtL/4P79PM+Gl1+DZdWqVZVWKIqQfENyhbB8Q3KFsHxDcoXS+cbgqAKYWbeewFyNmFnRT+AOHX/H4015M0YikUgkSOJltUikiin3ZbVVq1ax2Wabla29nhKSb0iuEJZvSK4Qlm9IrrDOt6eX1TaFBdmRSKRA3njjjUorFEVIviG5Qli+IblCWL4huULpfGNwFIlEOthUfxGWg5BcISzfkFwhLN+QXCEGR5FIJBKJRCK9QgyOIpFIBzvtlG33mOolJN+QXCEs35BcISzfkFyhdL4xOIpUJZLWdHp457k9qOuJUrrlaOPzPXGsFtST3evTaWhqWv+BjU1NLr2X6JFvmQnJFcLyDckVwvINyRVK5xuDo0i10nnD4HxPNs+JmR1WSrHOSOprZnf2xLFa+M9//tO9guk0DB8OEyZAW5vb6LWtzX0ePrzXAqRu+1aAkFwhLN+QXCEs35BcoXS+MTiKBIWkpZLGSXpK0nxJ+/j0lKSpkhZKukrS85IG+HOZp1mPkDRN0q2SnpF0fWLvs6GSHpE0S9L9knb26fWS7vPpjyXamyzpd5L+AUyQNErSFYlzl0l6QtJzko736TWSfuvbnirp3sy54GluhtZWaG9fP7293aU3N1fGKxKJRLpBDI4i1UrnPfFOTJxrM7ODgYlA5oGaTcBDZrYfbu+3gTnq/QhwJrAv8CHcBrf9gMuB481sKHA1bm87gEnAGT79bOC3ibp2BQ4zsx9laWdn4HDcZryZGaUvA4N8298ADs07Cr2JtMFr8N57Z03P+xo/fsPAKEN7uzvfnXrzvDp8A2CbbbaptEJRhOQbkiuE5RuSK5TONz4hO1KtvGdmQ3Kcu92/z8IFHOACkS8BmNl9kl7PUXaGmb0E4Dd/HQS8gdsEdqqfSOoDvCKpDjgMuCVxHXvzRF23mNmaHO3cYWZrgaclZVYIHu7LrAX+I+nhbAUlnQ6cDjBwYK4YLxIa/fv3r7RCUYTkG5IrhOUbkiuUzjfOHEVCZKV/X0PxAf7KxHGmvICFifVNB5jZSNy/jzc6rX36cKL8OwW2U9TUhplNMrNhZjYslUoVU7Q4zDZ4LV60KGt63teAAV23lUp1r948rw7fAFiyZEmlFYoiJN+QXCEs35BcoXS+MTiKbCw8DnwVQNJIYPsiyi4CUpIO9eX7SdrPzN4Clkg6wadL0kE9dPyKX3u0EzCiB3VVF2PGQG1t9nO1tdDQUF6fSCQS6QExOIpUK53XHOW7E2wcMFLSAuAE4D/A24U0ZGargOOBiyTNBebgLqcBnAJ826cvBL5QfFc6uA14CXgauA54CnizB/WVnH79+nWvYGMj1NdvGCDV1rr0xsaey2Uhq++xx8KvftUr7fWEbo9thQjJNyRXCMs3JFconW/ceDayUSBpc2CNmb3vZ4AmdrFmqWJIqjOztKT+wAzg42aW897Tcm882yPSaXdX2sSJsGIF9O/vZowaG6GurtJ2kUhkEyJuPBuJOAYCM/0Mz2XAdyvsk4u7/ULwx4BfdhUYVYIeXa+vq4Nx42DZMlizxr2PG9ergVFI6yFCcoWwfENyhbB8Q3KF0vnGu9UiGwVm9izuNv2qxsxGVNqhK1avXl1phaIIyTckVwjLNyRXCMs3JFconW+cOYpEIpFIJBJJENccRSJVTLnXHK1evTqoBZgh+YbkCmH5huQKYfmG5ArrfOOao0gkUjJWrFhRaYWiCMk3JFcIyzckVwjLNyRXKJ1vDI4ikUgHb731VqUViiIk35BcISzfkFwhLN+QXKF0vjE4ikQiYTF5Mkybtn7a2LGwdGn5XSKRyEZJDI4ikUgHH/jAB7KfSKehqcltA1JT496bmlx6ubjySpgyxR2bwZVXMvBPf4LHHnNp778P550H06eXz6kIco5tlRKSb0iuEJZvSK5QOt+8wZGkvL/9JB0haaF/kvEWJTHL3+YISYclPo+W9M0S1b2XpBmS5kl6IE/ewZLulfSspKck3ZzYaLTqkDRM0mXdLHumpC0Tn++VtF0PfX6aeAr2msTxD4qoY5qkbi+861TXUkl5NgrLWXa8pGNK4VEpst6gkU7D8OEwYQK0tbnApK3NfR4+vHwB0mmnQWsrXHop/OQn0LcvKxsa4L774MYbYfRo2G8/51SFhHbzS0i+IblCWL4huULpfEs1c3QKcIHfmPO9fJklleL5SiNYt8UDZvY7M/tjCeoFOBf3hOUD6eJhgpJqgXt83r3M7GDgt0Av7hbaM8ysxcwKDjw6cSbQERyZ2WfM7I0e+pyf2dQVeC+xwWu3ArhKYma/MLMug+lq59VXX90wsbnZBSXt7eunt7e79Obm8sgBSC44k6CmhmXLlrnjzLk+fcrnUiRZx7aKCck3JFcIyzckVyidb8HBkZ+pmSbpVknPSLreb8T5HdyGn79MpDVLWiBpvqQTE+Ufk3Qn8LT//Iikv0h6TtKFkk7xMzbzJdX7cp+T9A9JsyU9IGknSYOA0cBZfpbhCEljJZ3tywyRNN3P/EyRtL1PnybpIt/GYklH5OjuKmBXADPr6nGbXwOeNLO7MglmNs3MFkiqlXSN78tsSUd5h1GS7pA01c9SfF/Sj3ye6ZJ2SLheLKlF0j8lHSLpdj9DdZ7PM8jvJZb5js6WNLarvvpxv9sf1yUc50n6ik+f6NtdKGmcT/sBsAvwsKSHfVrHLIvvwwL/OjPh909Jv/d1/U0FzCxK6uN/hmZ6r+8lzv3Y+87V+vutnZClr6P8mN3nx21Cop6TfT0LJF2Uw2ODPvn0n0taJOnvkm5I/NxNlnS8Px7qf75nSbpf0s6ZcZT0tO/XjfnGottI3XoN3nvvDdPHj98wMMrQ3u7Od7O9vK8kV18Ne+wBZ54J558PK1ey/bXXwsiRcNJJbtuSuXOr9rJaJBIJCDPr8gWk/fsI3CaZu+KCqieBw/25ycDx/vgrwFSgD7AT8AKwsy//DrBHor43/LnNgX8D4/y5HwKX+OPtWfc8pu8A/+uPxwJnJzw7PgPzgE/44/GJuqYlyn8GeCBHn88GlgPH5Rmb3wA/zHHuv4Gr/fE+fhxqgVHAv4CtcTNMbwKjfb6LgTMTrhclxuPlxFi9BPQHBgELOnmP7aqvftzv9scXZcYmM9b+fQf/3sfXc6D/vBQYkMi/FBgADAXmA1sBdbgNWj/i/d4Hhvj8NwNfL+Bn7XTgZ/54c6AF2AM4FngC2LKTZ66+jgKeA7b1Y/88sBsuyHvBj39f4CHgiwX26RDcxrS1/jt8lnU/d5NxG9j2854pn34i634WXgY298fb5RiH032fWwYOHGjdws2vhP/KxjXXmD38sJmZvfrqqy6tqclsyZLujVWZ6HANhJB8Q3I1C8s3JFezdb5Ai3Xx9zvfq9jLWzPM7CUAuf2hBgF/75TncOAGM1sDvCrpEf8H5S1fPjkTM9PMXvH1tQJ/8+nzgaP88a7ATf5/3psBXW6cImlb/0fnEZ90LXBLIsvt/n2W9+9c/mBgJO4P4VRJr+ECwVag3g96IRwOXA5gZs9Ieh4Y7M89bGZvA29LehPIzDzNBw5M1HFnIn1hYqyew/2RfyOPQ5d9BY4BTsp8MLPX/eFXJZ2OCxx2BvbFBZy5OByYYmbveL/bgSO8/xIzm5PHozMjgQMzszC44GYv73uNmb3rfV9LlMnV1wfN7E3v9TSwOy6wnGZmy3369cCRwB0F9KkG+IuZtQPtku5iQ/YG9sf9/IALMl/x5+YB10u6o1N7HZjZJGASuIdAZsuTl4J/TNdn1apVbLbZZusnplJujVEuUim3j1q5GDWq43C77bZzB2PHlq/9btLhGggh+YbkCmH5huQKpfMtds3RysTxGorfm+2dLupbm/i8NlH35cAVZnYA8D3c/9h7QqaNXP7HAE/4IPBLuNmAs4B7swRGC3EzDN11gNz9plN65zJ9cbMyye+w89jk6+sGSNoDNwP1SXNrru7JUm8xdOdnRsAZtm790R5m9rc8ZXL1tac/s91BuGA243+AmY305z4L/B9wMG6j3Kra33Bpttvhx4yB2hw/ArW10NDQq05dkdW3SgnJFcLyDckVwvINyRVK59sbt/I/Bpzo142kcP8jn9GD+rbFXXID+FYi/W3cZY318LMEryfWE30DeKRzvi6YDXxB0rZm9gzQDPwvcF2WvH8GDpP02UyCpCMl7Y8bh1N82mDcrvGLivAohFeBHSX1l7Q5cFyR5acC/y/zQW5t1ja4IPZNubvujk3kzzrmuL5+UdKWkrbCBZWPFemS5H6gQVI/7zXY1zsVOFX+jrnM+qxuMAP4hKQBkvoAJ7Phz0iuPj0OfE5uTVkd2cd8EZCSdKj37CdpP0k1wG5m9jDwY9zPdu9tWV8qGhuhvn7DAKm21qU3NlbGKxKJRHqJ3giOpuAuHczFreU4x8z+04P6xgK3SJoFJOf27wK+JL8gu1OZbwHNkuYBQ3DrjgrCzKbiAqHpvs1PAacCk32wl8z7Hu6P4xl+we/TwBjceqXfAjWS5gM3AaPMLDmL0WPMbDWubzNwgcMzRVZxHrC9X3A8FzjKzObiAsRncMHf44n8k4D7MguyEx5P4WbYZgD/AK4ys9nF96iDq4CngafkFpxfCfQ1s/twl+pa/GXds7tTub88eS7wMO7ndJaZ/aVTnqx9MrOZ3mEe8FfcJc83O5VdhVt7dJEf1zm4Oyv7ANf5n4nZwGXWw7v9Ss0Gl9QA6urcIudzzln/OUfnnOPS6yoX32X1rVJCcoWwfENyhbB8Q3KF0vnGjWcjkSKRVGdmaT+D9Shwug+mSk65N56NRCKRjQHFjWcjkbIzyc9cPQXc1luBUSVobW2ttEJRhOQbkiuE5RuSK4TlG5IrlM63qhaDRiIhYGZfq7RDb7FmzZpKKxRFSL4huUJYviG5Qli+IblC6XzjzFEkEolEIpFIgrjmKBKpYsq95mjNmjX0qeItODoTkm9IrhCWb0iuEJZvSK6wzjeuOYpEIiVjU91HqRyE5Aph+YbkCmH5huQKFdhbLRKJbPyk0+lKKxRFSL4huUJYviG5Qli+IblC6XxjcBSJRCKRSCSSYJMJjiR9QNKNklr9Tun3+idXVyWSdpF0azfLjpK0S+LzVZL2LZHX5/yu8gsknZ8jz6n+4ZxzJK2SNN8fX1hEO0MkfaaHrkslDciSfpp3muf78QWfvt64dacdSU/0xLnS7LJLEd1Pp6Gpaf0HQzY1ufQyUZRvhQnJFcLyDckVwvINyRVK57tJ3Movt/vnFOBaMzvJpx0E7AQsrqRbLszsZdxTlrvDKGABbgd4zOw7JdICuAQ4xsyW+H3YNsDMrgGuARc44J683cXOpVkZAgwD7u22aRYk7Qr8FDjYzN70W4Bknnw+isS4dQczO6zHkhVk9erVhWVMp2H4cGhthfZ2l9bWBhMmwG23le3J2QX7VgEhuUJYviG5Qli+IblC6Xw3lZmjo4DVZva7TIKZzTWzx+Ro9jMI8yWdCCBphKRHJP1F0nOSLpR0iqQZPl+9zzdZ0kRJ032+EZKulvRPSZMz7UlKJ46Pz5zz5S+T9IQvf7xPH+S3zkBun7pfe8d5ks7w6b+QNNOnT/J9OR4XVFzvZ2u2kDRN0jBf5mTvv0DSRUk/SedLmuv7slOOsVwF7OrHcEkxX4KkRu87T9I4n/YlSQ96950lLZY0ELctyom+DydKGivp7ERdCyQN8sd3yM0GLpR0eh6NHXF7xKV9H9I+0Ms2bskZoWGSpvnj/pL+5tu7CrfRbMc45unvVpLu8eO8IPPzVi0sX768sIzNzesHRhna2116c3Pp5bJQsG8VEJIrhOUbkiuE5RuSK5TOd1MJjvYHZuU492XcLMVBwDG4Pdl29ucOAkYDH8ZtYDvYzD6K2/vrjEQd2wOHAmfh9t26GNgPOEDSkAL8dgYOx+3Tlu3S0+nAIGCImR0IXO/TrzCzQ8xsf2AL4DgzuxVoAU7xO8K/l6nEXzK6CDja9/kQSV/0p7cCppvZQbgtMb7bWUJu49SngaszgUmhSBoJ7AV81Lc9VNKRZjYFeAW3Ae7vgSYzewH4BXCT78NNeao/zcyG4oKbH0jq30XeubgNe5dIukbS5wC6GrcsNAF/N7P9cDOSAwvtL/Bp4GUzO8h/b/fl6Vv3kYp+Dd5778Lyjh+/YWCUob3dne9G+932jUQikRKyqQRHXXE4cIOZrTGzV3G7sx/iz800s1f8hrGtwN98+nxcsJLhLnMPjJoPvGpm881sLbCwU75c3GFma83sadylvs4cA1xpZu8DmNlrPv0oSf+Q28j0aFxA1hWHANPMbLmv63rgSH9uFXC3P56Vw/sMXHDRANwlKSXpEBW2Nmqkf83GbbuxDy54yNT7P8BKM7uhgLo68wO5DV6nA7sl6t0AM1uDC1COx11SvVjS2CLbOxK3OTFmdg/wepY8ufo7H/gvSRdJOsLM3uxcUNLpkloktYT2v7ZIbrbffvtKKxRFSL4huUJYviG5Qul8N4k1R7ggpTvrd1YmjtcmPq9l/bFbmSVP53zJp23WdtFOQf8NllQL/BYYZmYv+j/wnesthtW27omga8j+s/EpYIKZTZP0S+Ae3K71NxaiDFxgZldmObcrbqx2klTjA8vOvM/6wXwtuMufuODxUDN711/66nIcfD9nADMkTcWtjxqbp81ixzZnfyUdDHwGOE/Sg2Y2vpPfJGASuIdAFtlusqKii6xcuZLNN988f8ZUyq0x6ur8smVFt18sBftWAdtss02lFYoiJN+QXCEs35BcoXS+m8rM0UPA5sn1KJIOlHQE8BhubUsfSSncrMCMXnB4VdKH/aWpLxVZdirwPUl9ASTtwLo/1m1yi4qTwd/bwNZZ6pkBfELSAEl9gJNxM2WFMhv4ug9gbgaeBb6GC5LycT9wmndF0gcl7ej7dLV3+Sfwoxx9WAoc7MseDGQWg28LvO4Do32A4V1JyN0FeHAiaQjwfBdtDvXHX0mkP4rrN5KOxV1WLbS/uwDvmtl1QHOmT9XC888/nz8TwJgxUJsjXqythYaG0kl1QcG+VUBIrhCWb0iuEJZvSK5QOt9NIjjyMwVfAo6Ru5V/IXAB8B/cmpF5uMtFDwHnmNl/ekHjXNxlqydwa2yK4SrgBWCev3z0NTN7A7dGZwHuD/HMRP7JwO8yC4sziWb2ivd4GNffWWb2lyI8zsfNiCyQNAu3dudK4M8+6MuJmf0N+DPwpL8MeCsuEPkJ8JiZ/R0XGH1H0oe9476ZBdnAbcAO/rv7PuvuMrwP6Cvpn7j1WtPz9KEf8GtJz0iaA5wI/NCfm8z64zYOuFRSC242LcM44Ejv8mXcd1Nofw/AzVjNwa1dOi+Pb3XS2Aj19RsGSLW1Lr2xsTJeGY49Fn71q8o6RCKRYIl7q0UiVUy591Z74YUXGDhwg/Xl2Umn3V1pEyfCihXQv7+bMWpsLMtt/FCkb4UJyRXC8g3JFcLyDckV1vmqh3urxeAoEqliyh0cRSKRyMZAT4OjTeKyWiQSKYx//etflVYoipB8Q3KFsHxDcoWwfENyhdL5xuAoEol0sHZtthsFq5eQfENyhbB8Q3KFsHxDcoXS+cbgKBKJRCKRSCRBXHMUiVQx5V5zZGYooCdOh+QbkiuE5RuSK4TlG5IrrPONa44ikUjJePnlbu+5WxFC8g3JFcLyDckVwvINyRVK5xuDo0gk0sE777xTaYWiCMk3JFcIyzckVwjLNyRXKJ1vDI4ikUikjKTTaZqamkilUtTU1JBKpWhqaiKdTldaLRKJeGJwFCkYSelOn0dJusIfj5b0zS7KjpB0WDfa/Lykc4u3BUlLJQ3Ikn6apPmS5klaIOkLPn2U396j2+1IeqI7rtXCrrvuWmmFogjJd9dddyWdTjN8+HAmTJhAW1sbZkZbWxsTJkxg+PDhVRUghTa2IRGSb0iuUDrfGBxFSoKZ/c7M/thFlhFAUcGRpL5mdqeZXdgjufXr3BX4KXC4mR2I24ttnj89Cig6OEpiZkUHgNVEe3t7pRWKIiTf9vZ2mpubaW1t3cC7vb2d1tZWmpubK2S3IaGNbUiE5BuSK5TONwZHkZIgaayks/3xDyQ97WdmbpQ0CBgNnOX3LTtC0iBJD/k8D0oa6MtOlvQ7Sf8AJnSandpJ0hRJc/3rMJ9+h6RZkhYmNxfOwY64DWbTAGaWNrMlko4HhgHXZ/ZW6zQjNEzSNH/cX9LffHtX4faby4xDOnHcKGmm7+M4n7aVpHu8/wK/b1zV0NbWVmmFgvB3o9C/f/+O42p/9e/fn/Hjx+f85d3e3s748eMr7lnOsS0VofzcZgjJNyRXKJ1v35LUEtlU2EJuw9QMOwB3Zsl3LrCHma2UtJ2ZvSHpd0DazH4NIOku4Fozu1bSacBlwBd9+V2Bw8xsjaRRiXovAx4xsy9J6gNkNvA6zcxek9ssdqak28xsRY4+zMVtmLtE0oPA7WZ2l5ndKun7wNlm1uIdc41DE/B3Mxsv6bPAtztnkDQS2Av4KC54ulPSkUAKeNnMPuvzbZul7OnA6UBQexpFIpHIxkKcOYoUw3tmNiTzAn6RI9883AzM14H3c+Q5FLdrPcCfgMMT524xszVZyhwNTAQwszVm9qZP/4GkucB0YDdcUJIVX++ngeOBxcDFksbmyp+DI4HrfH33AK9nyTPSv2YDTwH7eK/5wH9JukjSEYk+JB0nmdkwMxuWSqWKVOsZ/fv3L2t73cXMOtbrZI6r/dXW1saAARssgVuPVCpVcc9yjm2pCOXnNkNIviG5Qul8Y3AU6Q0+C/wfcDBuJqfYGcqC78WUNAI4BjjUzA7CBSO1XZUxxwwzuwA4CfhKjqzvs+7fSJd1ZlMDLkgEk3ua2R/MbDFuXOYD50nKFWBWhC233LLSCkURku+WW27JmDFjqK3N/qNUW1tLQ0NDma1yE9rYhkRIviG5Qul8Y3AUKSmSaoDdzOxh4MfAtrjLX28DWyeyPoELTABOAR4roPoHgQbfTh9/SWpb4HUze1fSPrgF1l357SLp4ETSEOB5f9zZcSkw1B8nA6hHga/5+o4Fts/S1P3AaZLqfL4PStpR7m64d83sOqAZFyhVDS+++GKlFYoiJN8XX3yRxsZG6uvrNwiQamtrqa+vp7GxsUJ2G1KJsT322GP51a9+VXS5kH4OICzfkFyhdL5xzVGk1PQBrvOBi4DLzK05ugu4Ve62+TP86xpJjcBy4NQC6v4hMEnSt4E1uEDpPmC0pH8Ci3CX1rqiH/BrH6S0+7ZH+3OTgd9Jeg932W8c8AdJvwSmJeoYB9wgaSEuyHuhcyNm9jdJHwae9GuX0sDXgT2BZklrgdW+D5FNhLq6OqZPn05zczMTJ05kxYoV9O/fn4aGBhobG6mrq8tfyUbMX//610orRCJA3FstEqlqyr232osvvshuu+1WtvZ6Ski+IblCWL4huUJYviG5wjpf9XBvtRgcRSJVTLmDo0gkEtkY6GlwFNccRSKRDhYvXlxphaIIyTckVwjLNyRXCMs3JFconW8MjiKRSCQSiUQSxOAoEolEIpFIJEFccxSJVDFxzVEkEokUT1xzFIlESsam+kyTchCSK4TlG5IrhOUbkiuUzjcGR5FIpIP33nuv0gpFEZJvSK4Qlm9IrhCWb0iuUDrfGBwFjqQ1crvIL5B0i6Qt5Xa8X5Aj/3hJx/jjaZK6Pe1YhONYSWf3oPwASQ/L7W4/I/PU6U55+vtxmCPpP5L+nfg8ONd4dMOlR32JVJZ0Ok1TUxOpVIqamhpSqRRNTU2k0+lKq0UikSoiPiE7fN4ztwkskq7HPe359lyZzayq9vIqkAbgUTNr8k+2XtU5g5mtwG0Fgt9INm1mv/afB5XNNHBCetgbFOebTqcZPnw4ra2ttLe3A9DW1saECRO47bbbmD59eq8+oXpjHttKE5IrhOUbkiuUzjfOHG1cPIbbngKgj6TfS1oo6W+StgCQNFnS8Z0LSjpZ0nw/A3WRT+vj8y/w587y6UMkTfczOVMkbe/Tp0m6NDGT9dFEE/v6889J+oHPP17SmQmH8yX9MEu/VgG7ApjZy2a2QXBUALnGo17SfZJmSXrM78+Gn317yPfxQUkDs4xZrnE4xKfNkdScmbWS9KikIYnyf5d0UDf60mu8++67lVYoimJ8m5ub1wuMMrS3t9Pa2kpzc3Op9dZjYx7bShOSK4TlG5IrlNDXzOIr4BduhgTcLOBfcLMsg3A7yg/x524Gvu6PJwPH++NpwDBgF9z+YClfz0PAF3Gbrk5NtLWdf58HfMIfjwcuSdT3e398JLDAH4/F7UG2OTAAWIHb42wQ8JTPUwO0Av2z9PF44HVgdIFjMhY4O/G5q/F4ENjLH38MeMgf3wV8yx+fBtzRue4uxmEBcKg/vjAxDt9K5BkMtOTry9ChQ627APEVX5vEa9GiRd3+d1IJQvINydVsnS8F/H7t6hVnjsJnC0lzgBZcgPMHn77EzOb441m4ACEXhwDTzGy5mb0PXI8Lbp4DPiTpckmfBt7yG8puZ2aP+LLX+rwZbgAws0eBbSRt59PvMbOVZtYGLAN2MrOlwApJHwFGArPNXR7rQNIHgf/BzYh9R9JXfPo871IoG4yHX7t0GHCLH8MrgZ19nkOBP/vjPwGHd/LKOg6+v1ub2ZM+/c+JYrcAx0nqhwu4JmcTlXS6pBZJLcuXLy+ii5FIJBIpBXHNUfh0rDnK4HeBX5lIWgNsUWzFZva6v+zzKdxapq8CZ+UrluNzZ5/Mz95VwCjgA8DVWer7ODDfzFZI+izwoKSdgKVm9mahfcnS/ha42ao3Oo9fb2Fm70qaCnwBN5ZDc+SbBEwC95yjHrRXdJnXXnuNHXbYobtNlp1ifFOpFG1tbV2eX7ZsWanUNmBjHttK89prr1VaoSgGDBhQaYWCCckVSucbZ44iADOAT/i7wvoAJwOPSBoA1JjZbcDPgIN9QPK6pCN82W8AjyTqOhFA0uHAmwUEMFOAT+Nmr+7Pcn4ecJSkXczsVVxw9n+sPyPTLczsLWCJpBO8sxJrgJ4ATvLHp+DWcyXLZh0HM3sDeFvSx3z6SazPVcBlwEwze72nfSg1tbW1lVYoimJ8x4wZkzN/bW0tDQ0NpdLK2UZIhOQbkiuE5RuSK5TONwZHEczsFeBc4GFgLjDLzP4CfBCY5i85XYe7vAVu7UyzpHm4O8TGJ6prlzQb+B3w7QLaXuXbvdnM1mQ5/wzwU+B+SU8BP8IFHBdIGlx8bzfgFODbkuYCC3GzOgBnAKf6Pn4D+GGWsrnG4dvA7/24bQV0BIhmNgt4C7imBO4l56WXXqq0QlEU49vY2Eh9ff0Gvzxra2upr6+nsbGx1HrrsTGPbaUJyRXC8g3JFUrnGy+rBY6ZbXDvsV/Ls3/i868Tx6MSxyMSxzfg1wsl0uYCB2epfw4wPIfSdWZ2Zqf8Yzt97nCTVOPrOiFHfZjZdbjgLMlNXeTv3N5Sco/HEtzMVec6ngeO7qruLsZhoZkdCCDpXNx6MPznXXD/KflbLv9I71BXV8f06dNpbm5m4sSJrFixgv79+9PQ0EBjY2Ov3sYfiUTCIgZHkYohaV/gbmCKmT1baZ8S8llJ/4P79/U8bk0Vkr4JnA/8yMzWVk4vN1tttVWlFYqiWN+6ujrGjRvHuHHjeskoNxv72FaSkFwhLN+QXKF0vnHj2Uikiin3xrNmllnQHwQh+YbkCmH5huQKYfmG5ArrfBU3no1EIqXi2WfDmsALyTckVwjLNyRXCMs3JFconW8MjiKRSCQSiUQSxOAoEol0UFMT1q+EkHxDcoWwfENyhbB8Q3KF0vnGNUeRSBVT7jVHkUgksjEQ1xxFIpGS8cILL1RawTF5Mkybtn7a2LGwdOl6SS+88AKMGlUepx5SNWNbICH5huQKYfmG5Aql843BUSQS6aDzjvVZSaehqQlSKaipce9NTS69p1x5JUyZ4o7N3Ofzz4fH/APK338fzjsPpk+HxkbWzp3r0t95B848E6r4F3lBY1tFhOQbkiuE5RuSK5TONwZHGwmS1kiak3idW2mnDJKGSbqsBPV8V9IiSQsljeki31hJ//bj8Iykif5hk91p84nuG2+EpNMwfDhMmABtbS6AaWtzn4cP73mAdNpp0NoKl14KP/kJ9O3rgp777oMbb4TRo2G//VxbP/4x2910Ezz8MHzjG/DlL8PAgSXpZiQS2bSJD4HceNhgA9pqwcxaSDwlujtI6ot7gOKewNtAvr+CF5vZr31Q9CjwCdw2JUVhZocVWyZkdt99964zNDe74KXz/87a2116czP09AGLkgu6JDczlUnLvPfp05F16222WZde5QtH845tlRGSb0iuEJZvSK5QOt/q/m0S6TGSDpH0hKS5kmZI2lpSraRrJM2XNFvSUT7vKEm3S7pP0rOSJiTqOdnnXyDpokR6WlKzn815QNJHJU2T9Jykz/s8IyTd7Y/rEm3Pk/QVSX0kTfZ1z5d0Vo7u9AX6m+P5AodgM6AWeN23P03SMH88QNJSf7yfH5853muvTP8SfZgm6VY/G3W9/JPRJA2V9IikWZLul7SzT/+BpKd9fTf6tE8kZvdmS9q6wH70HlLHa/Pa2vU+b/AaP37DwChDe7s731X5XK8MV18Ne+zhZovOPx9WroRLLoGRI+Gkk2DiRJg7111Wu+gi3jzxRDjqKPjjH+HWW6v6stpbb71VaYWiCMk3JFcIyzckVyihr5nF10bwAtYAcxKvE3GBwXPAIT7PNrgA47+Bq33aPsALuABilM+/rf/8PLAbsIvPk/LlHwK+6MsbcKw/noLbM6wfcBAwx6ePAO72xxcBlyS8tweGAlMTadtl6V8t6zbG3SHPWIwF/u3H4XXgz4lz04Bh/ngAsNQfXw6c4o83A7bwx+lEH94EdsX9p+JJ4HDf1yeAlM93YmJsXwY2T/YJuAv4uD+uA/pm8T8dN9PWMnDgQOt13DxNZV+dueYas4cfXj+tqclsyZL1khYtWmT2rW/1zriUmEWLFlVaoShC8g3J1Sws35Bczdb5Ai3Wg7+pceZo4+E9MxuSeN0E7A28YmYzAczsLTN7H/dH/Tqf9gwuCMrscP+gmb1pZu3A08DuwCHANDNb7stfDxzp868C7vPH84FHzGy1Px6UxfMY4P8yH8zsdVxA9iFJl0v6NG7X+s5cgNvJ/n+BOyVtKekESb/OkhfcZbUhwI7AVpJOypEvw5PATyT9GNjdzN7LkmeGmb1kbl+0Ob5/e+M2tZ0qaQ7wM1wABTAPuF7S14H3fdrjwG8k/QAXML1PJ8xskpkNM7NhqVQqj3YJSIQpixct6jqMGTCg67pSqe6FR50ZNQpGjFg/bexYGDRow7yTJ3er25FIJJKLGBxFOrMycbyG/OvSVvsoHWBtprwPIApa0+YDpINwszqjgauyZPsU8KiZ/RG4A7gFOAG4KU/dq3HBWyaYe591P/e1iXx/Bj4PvAfcK+noLNVlGxsBCxNB6QFmNtLn+SwuEDwYmCmpr5ldCHwH2AJ4XNI+XfmXm7zB2JgxUFub/VxtLTQ0lF6qC8oSPJaIkFwhLN+QXCEs35BcoXS+MTjauFkE7CzpEAC/3qgv8Bhwik8bjFvcvKiLemYAn/BrdPoAJwOPdNNpKvD/Mh8kbS9pAFBjZrfhZl4OzlJuNvBNf/wbYGtgP2BWV435dUEfB1p90lLcZTyA4xP5PgQ8Z2aXAX8BDiywP4uAlKRDfT39/PqlGmA3M3sY+DHuUmWdpHozm29mFwEzcZc1q4Z+/fp1naGxEerrNwyQamtdemNj78llIa9vFRGSK4TlG5IrhOUbkiuUzjcGRxsPW3S6lf9CM1uFWwNzuaS5uMCkFvgtUCNpPm7mZZSZrcxVsZm9ApzLujU/s8zsL930PA/Y3i++ngscBXwQmOYvS10H/E+WcmcCQyQtxAVr9+OCi4tztHOWr28B0AfXZ4BfAw2SZuPWHGX4KrDAl9kf+GMhnfFjfDxwke/PHOAw3+Z1foxnA5eZ2RvAmb7v84DVwF8LaadcvPzyy11nqKtzi6HPOWf95xydc45Lr6srj6gnr28VEZIrhOUbkiuE5RuSK5TON24fEolUMeXePmTx4sUMHjw4f8YqISTfkFwhLN+QXCEs35BcYZ2v4vYhkUikVNSVeeanp4TkG5IrhOUbkiuE5RuSK5TONwZHkUikg5122qnSCkURkm9IrhCWb0iuEJZvSK5QOt8YHEUikQ5aW1vzZ6oiQvINyRXC8g3JFcLyDckVSucbg6NIJBKJRCKRBDE4ikQiHfRJ7FsWAiH5huQKYfmG5Aph+YbkCqXzjXerRSJVTLnvVotEIpGNgXi3WiQSKRlLly6ttEJRVLvv5MmTmTZtGlD9rp0JyTckVwjLNyRXKJ1vDI4iJUfSTyUt9LvRz5H0sW7UMUzSZXnyjJB0d5b0LSVdL2m+f+Di3yXlvL9T0mhJ38x1flNi1apVlVYoiu76ptNpmpqaSKVS1NTUkEqlaGpqIp1Ol8TryiuvZMqUKYDb3PvKK6/knnvuKUnd5SKkn4WQXCEs35BcoXS+Be19FYkUit9G4zjgYDNb6bcG2azYesysBbczfXf4IfCqmR3gnfbGPY06V1u/62Y7kQBJp9MMHz6c1tZW2tvbAWhra2PChAncdtttTJ8+vcfPSjnttNO49NJLuf7666mtreU73/kOn/jEJ0qhH4lEykCcOYqUmp2Btsx2JGbWZmYvA0j6pKTZfkbnakmb+/RDJD0haa6kGX4PuI5ZIUkflfSkL/uED3byOfw788HMFmV8JH3Tz2jNlfQnnzZW0tn+uF7SfZJmSXosszGspMmSLvPtPycpuS/bj32f5kq6ME89J2S2TpH0aAnGu6QMyrbrfRXTHd/m5ub1AqMM7e3ttLa20tzcXBI3SZgZkqipqWGPPfYoSb3lIqSfhZBcISzfkFyhdL5xQXakpPjLV38HtgQeAG4ys0ck1QLPAp80s8WS/gg8hdvz7BngRDObKWkb4F3gcOBsMzsuk2Zm70s6Bmgws69IGpHJ08lhCPA33GazDwLXmtmzkvYDpgCHmVmbpB3M7DVJY4G0mf1a0oPAaJ//Y8AFZna0pMnAVri96vYB7jSzPSUdC/wcOMbM3k3Umaue+cCnzezfkrbz+63lpNwLspctW8aOO+5YtvZ6yrJly6rmIXXJ36VXXnklqVSKt956i913351FixZRW1vLqFGjKidYJCH9LITkCmH5huQK63zjguxIVWFmadyu96cDy4GbJI0C9gaWmNlin/Va4Eif/oqZzfTl3zKz9ztVuy1wi6QFuI1m98vjMAf4ENAM7ADMlPRh4GjgFjNr8/leS5bzgd1hvq05wJW4WagMd5jZWjN7Gsj8RT4GuMbM3s3Umaeex4HJkr6L25x2AySdLqlFUsvy5cu76mrJeeONN8raXk+pVt/vfe97fPnLXwbcDNLo0aM57LDDKmxVHNU6ttkIyRXC8g3JFUrnG9ccRUqOma0BpgHT/EzJt3A703eXXwIPm9mXJA3ydedzSAO3A7dLWgt8Bsi3Uq8GeMPMhuQ4vzJxrO7UY2aj/UzSZ4FZkoaa2YpOeSYBk8DNHOVx3uQpdvY7lUrR1tbW5flly5b1VAsgqJmiSCSyjjhzFCkpkvaWtFciaQjwPLAIGCRpT5/+DeARn76zpEN8+a0ldQ7at2XdGqJRBTh8XNL2/ngzYF/v8BBwgqT+/twOyXJm9hawRNIJ/rwkHZSnuanAqZK2zNTZVT2S6s3sH2b2C9zM2m75+lNOquUSVaF0x3fMmDHU1tZmPVdbW0tDQ0NPtbKyKYxtpQjJFcLyDckV4t5qkeqlDrhW0tOS5uECk7Fm1g6cirvUNB9YC/zOzFbh1vFcLmkuLtjo/JdrAnCBpNkUNttZDzzi25mNu+vtNjNbCJzvz80FfpOl7CnAt/35hcAXumrIzO4D7gRa/CW0s/PU0+wXby8AngDmFtCfsiF1NSFWfXTHt7Gxkfr6+g0CpNraWurr62lsbCyV3npsCmNbKUJyhbB8Q3KF0vnGBdmRSBVT7gXZixcvZvDgwWVrr6d01zedTtPc3MzEiRNZsWIF/fv3p6GhgcbGxh7fxp+LTWVsK0FIrhCWb0iusM63pwuy45qjSCSyyVFXV8e4ceMYN25cpVUikUgVEi+rRSKRDrbZZptKKxRFSL4huUJYviG5Qli+IblC6XxjcBSJRDro379/pRWKIiTfkFwhLN+QXCEs35BcoXS+MTiKRCIdLFmypNIKRRGSb0iuEJZvSK4Qlm9IrlA63xgcRSKRSCQSiSSIwVEkEumgX79+lVYoipB8Q3KFsHxDcoWwfENyhdL5xlv5I5Eqpty38kcikcjGQNxbLRKJlIzQ1xek02mamppIpVLU1NSQSqVoamoinU5XyHAdoY9tNROSK4TlG5IrxDVHkSKRtEbSHElzJT0l6TCfvoukW8vsku5p25ImSzo+R/qSRF8/2VPfUiFplKQrKu3RFatXr660QlEkfdPpNMOHD2fChAm0tbVhZrS1tTFhwgSGDx9e8QAp5LGtdkJyhbB8Q3KF0vnG4GjT4T0zG2JmBwH/A1wAYGYvm9kGQUY56MW2G/2mr2cCv+uF+rsky95wkTLQ3NxMa2sr7e3t66W3t7fT2tpKc3NzhcwikUhoxOBo02Qb4HUASYP8Pl9IqpV0jd/7a7ako3z6KEl3SJoqaamk70v6kc8zPbOBq6R6SfdJmiXpMUn7+PQ9JD3p6z0vI9Gp7T6Sfi1pgaR5ks7w6b+QNNOnT1JxG+c8CXwwUX+zr2uepO/59J0lPepnmhZIOsKnj/TOT0m6RVJdVz6Spkm6RFIL8ENJh0h6ws9ezZC0tXfaxY/Rs5ImdOO761X22GOPSisUjCT23ntvJCGJ8ePHbxAYZWhvb2f8+PEdeZOvchHS2EJYviG5Qli+IblC6XxjcLTpsIUPAJ4BrgJ+mSXP/wPMzA4ATsZtIJvZnXN/4MvAIbjNW981s4/gApBv+jyTgDPMbChuA9bf+vRLgYm+3ldy+J0ODAKGmNmBwPU+/QozO8TM9ge2AI4ros+fBu7wx98G3jSzQ3wfvitpD+BrwP1+pukgYI6kAcDPgGPM7GDcxrU/KsBnM78A8HLgJuCHfqbuGOA9n2cIbqPdA4ATJe3WWVrS6ZJaJLUsX768iO72nBUrVpS1vU2J0MY2JN+QXCEs35BcoXS+MTjadMhcVtsHFzT8McsszOHAdQBm9gzwPJDZcfBhM3vbzJYDbwJ3+fT5wCA/s3IYcIvc7vRXAjv7PB8HbvDHf8rhdwxwpZm979t/zacfJekfkuYDRwP7FdDXZkmLgT8DF/m0kcA3vds/gP7AXsBM4FRJY4EDzOxtYDiwL/C4z/8tYPcCfG7y73sDr5jZTN+XtzL9Ah40szfNrB14OlFvB2Y2ycyGmdmwVCpVQHdLx1tvvVXW9nqCmbFo0SLMDDNjwIABXeZPpVIdeZOvchHS2EJYviG5Qli+IblC6Xzj2ohNEDN70s+OFPOXd2XieG3i81rcz1EN8IafgcnabLGeftbqt8AwM3vRBzC1XZcC3JqjW/2luauBoYBws1r3Z2nnSOCzwGRJv8FdcpxqZicX6fNOAW7JcVxD/DdYMsaMGcOECROyXlqrra2loaGhAlaRSCRE4szRJohfC9QH6Dz/+Bhwis8zGBgILCqkTjN7C1gi6QRfXpIO8qcfB07yx6fkqGIq8L3MYma/jikTeLT5maliF29fAdRI+hRwP9AgqZ+vf7CkrSTtDrxqZr/HXW48GJgOfFzSnj7vVn48CvVZBOws6RBffmsFskj7Ax/4QKUViiLp29jYSH19PbW168fPtbW11NfX09jYmLe+Y489ll/96lcl94Swx7baCckVwvINyRVK5xvEL+xISdjCXyICN4vyLTNb0+nK2m+Bif6S0fvAKDNbWcSi1VN8+Z8B/YAbgbnAD4E/S/ox8JccZa/CXcKbJ2k18Hszu0LS74EFwH9wl8AKxszMLwA/B/gv3Jqmp/zlxOXAF4ERQKNvMw1808yWSxoF3CBpc1/dz8xscSE+ZrZK0onA5ZK2wK03OqYY90oR2kNhk751dXVMnz6d5uZmJk6cyIoVK+jfvz8NDQ00NjZSV1eXt76//vWvZXENgZB8Q3KFsHxDcoXS+cYnZEciVUy5n5C9ePFiBg8enD9jlRCSb0iuEJZvSK4Qlm9IrrDOV/EJ2ZFIJBKJRCKlIwZHkUikg+22267SCkURkm9IrhCWb0iuEJZvSK5QOt8YHEUikQ421V+E5SAkVwjLNyRXCMs3JFeIwVEkEukFli5dWmmFogjJNyRXCMs3JFcIyzckVyidbwyOIpFIJBKJRBLE4CgSiXSw2WabVVqhKELyDckVwvINyRXC8g3JFUrnG2/lj0SqmHLfyh+JRCIbA/FW/kjZkfQBSTdKapU0S9K9/onTgyQt8HmGSbqsgLqe6KbDWEln50i3zNOtfdqZPq3gfyiSRki62x9/XtK5efJ3qx/VRmtra6UV8pJOp2lqaiKVSlFTU0MqlaKpqYl0Ol1ptS4JYWyThOQbkiuE5RuSK5TONz4hO1IU/unSU4Brzewkn3YQsBPwYiafmbXgdrPvEjM7rBc05+O2KznPfz4BWNjdyszsTuDOPHl6ox9lZ82aNZVW6JJ0Os3w4cNpbW3t2EOtra2NCRMmcNtttzF9+vSCnoRdCap9bDsTkm9IrhCWb0iuUDrfOHMUKZajgNVm9rtMgpnNNbPHkpk6zbyMlXS1pGmSnpP0g0S+dOL4x5LmS5or6UKf9l1JM33abZK2LMDxDuALvnw98CbQlmhnpKQnJT0l6Ra/TxqSPi3pGUlPAV9O5B8l6Qp/vJOkKd5nrqTDkv3w/Z4m6VZf1/U+oETSUEmP+Nm2+yXtXEBfIgmam5vXC4wytLe309raSnNzc4XMIpHIxkQMjiLFsj8wqxvl9gE+BXwUaMpsAJtB0rG4gOZjZnYQMMGfut3MDvFp/wS+XUBbbwEvStofN4N0U6KdAcDPgGPM7GDc7NaPJNUCvwc+BwwFcu1eeBnwiPc5mOwzUh8BzgT2BT6E28S2H3A5cLyZDQWuBs4voC9lpb6+vtIKOZHE+PHjNwiMMrS3tzN+/PgyWxVONY9tNkLyDckVwvINyRVK5xuDo0i5uMfMVppZG7AMdxkuyTHANWb2LoCZvebT95f0mN8M9xRgvwLbuxEXGH0Rdxkww3Bc0PK434j3W8DuuOBtiZk9a+4uhety1Hs0MNE7rjGzN7PkmWFmL5nZWmAObsPbvXGB5VTf7s+AXbM1IOl0SS2SWpYvX15gd0vDq6++Wtb2NiVCG9uQfENyhbB8Q3KF0vnGNUeRYlkIHN+NcisTx2so/GdvMvBFM5sraRQwosBydwPNQIuZveWvbAEImGpmJyczSxpSYL2FkK2vAhaa2aH5CpvZJGASuLvVSuiVl2pe1GxmpFIp2tracuZJpVJlNCqOah7bbITkG5IrhOUbkiuUzjfOHEWK5SFgc0mnZxIkHSjpiB7WOxU4NbOmSNIOPn1r4BV/WeqUQivzM1A/ZsNLV9Nxl7n29O1sJWkw8AwwyK9RAjiZ7DwINPiyfSRtW6DSIiAl6VBftp+kQmfBIp4xY8ZQW1ub9VxtbS0NDQ1lNopEIhsjMTiKFIW/5PQl4Bh/K/9C4ALgPz2s9z7cHWEt/rJT5jb9nwP/AB7HBTDF1HmjmT3VKW05MAq4QdI84ElgHzNrB04H7vELspflqPaHwFH+Mt8s3CW6QlxW4WbcLpI0F3e5rerucNtll10qrdAljY2N1NfXbxAg1dbWUl9fT2NjY4XM8lPtY9uZkHxDcoWwfENyhdL5xodARiJVTLkfAvn666+z/fbbl6297pBOp2lubmbixIm0tbUxYMAAGhoaaGxsrNrb+CGMsU0Skm9IrhCWb0iusM43PgQyEomUjHIvAO8OdXV1jBs3jmXLlvHMM8+wbNkyxo0bV9WBEYQxtklC8g3JFcLyDckVSucbg6NIJBKJRCKRBDE4ikQiHYQ0fQ5h+YbkCmH5huQKYfmG5Aql843BUSQS6WCbbbaptEJRhOQbkiuE5RuSK4TlG5IrlM43BkeRSKSD559/vtIKRRGSb0iuEJZvSK4Qlm9IrlA63xgcRSKRSCQSiSSIwVEkEukg1wMWq47Jk2HatPV9x46FpUsrJJSfYMbWE5JvSK4Qlm9IrlA63xgcRSKRDgYOHNg7FafT0NQEqRTU1Lj3piaXXgxXXglT/FZ5Zgz861/h/PPhscdc2vvvw3nnwfTppfUvAb02tr1ESL4huUJYviG5Qul8N8ngSNIaSXMkLZB0S2bLihLUO1lSwfuOSRokaUEp2u6ijVpJd/i+zpb0oS7y1km60j/5epakaZI+VmKfYZIu88cjJB2WODda0jdL0Mbe3n2OpH9KmpQn/1WSCnrS9cbOv/71r9JXmk7D8OEwYQK0tYGZe58wwaUXEyCddhq0tsKll8JPfsKrr70GZ54J990HN94Io0fDfvu5equMXhnbXiQk35BcISzfkFyhdL6bZHAEvGdmQ8xsf2AVMLrSQr3ICcCbvq9HA691kfcqf34vMxsKnAoMKKWMmbWY2Q/8xxEkttAws9+Z2R9L0MxlwMX+O/4wcHkep++Y2dMlaDd41q5dW/pKm5tdQNPevn56e7tLb24urj7JBVgSlkzLvPfp01PjXqFXxrYXCck3JFcIyzckVyid76YaHCV5DNhT0s6SHk3MKB0h6TRJl2QySvqupIv98TclzZM0V9KfEvUdKekJSc9lZpHkaPb1zpd0YmcJP8NzjT8/W9JRPn1LSTdLelrSFEn/8LMvOd06sQr4oCSZ2etm9ka2QfAbrn4M+JmZrQUwsyVmdo8//yPvv0DSmYlyP5e0SNLfJd0g6WyfPk3SRZJmSFqc2ZjWzxbdLWkQLig9y4/5EZLGSjpb0j6SZiTaGOT3MkPSUEmP+Jmt+yXtnKU7OwMvZT6YWaZsH0m/9n2YJ+mMhOswfzxS0pOSnvKzinU+famkcT59vqR9fHpd4nubJ+kreeq50H+X8yT9Ott3ERxS16/x4zcMjDK0t7vz+erIcPXVsMcebrbo/PPRqlVwySUwciScdBJMnAhz51blZbVIJBIQZrbJvYC0f+8L/AW3y/p/Az/16X1wu8HXAa1AP5/+BHAAsB+wGBjg03fw75OBW3BB577Av3z6V3C7zvcBdgJewP0BHwQs8Hn+G7jaH+/j89TiNmC90qfvD7wPDMvllqWvh+Bmgy7MMyafB6bkODcUmA9s5dtdCHzE1z3He24NPAuc7ctMA/7XH38GeMAfjwDu9sdjM/k7f/b17uGPfwz8DOjn+5ny6SdmxqyT76nAm8BfgbOA7Xx6A3Ar0LfT9zbNj+kA4FFgq0S7v/DHS4Ez/PEY4Cp/fBFwSaLt7XPVA/QHFrFuT8Ptcoz36UAL0DJw4EArJ2vXri2+kJvH6d1XZ665xuzhh9f3bWoyW7Kkmz3vfbo1thUkJN+QXM3C8g3J1WydL9BiPYgTNtWZoy3kdn5vwQUhfwBmAqdKGosLMt42szTwEHCcnynoZ24W4mjgFjNrAzCz5KWqO8xsrbnLNDv5tMOBG8xsjZm9CjyCCyySHA5c5+t7BngeGOzTb/TpC4B5/jiXWweStgCuAfYGhmRmfCTdI2n/IsbrcFzg9I5v93bgCODjwF/MrN3M3gbu6lTudv8+CxcIFsPNuOAH/36T78f+wFT//f0M2LVzQTO7BvgwLlAdAUyXtDlwDC7QfN/n63yJcTguqH3c1/8tYPc8/TkG+L9E2693Uc+bQDvwB0lfBt7N1nEzm2Rmw8xsWCqVypal13j55ZeLL5QvtBmQ58psKpW/js6MGgUjRqzvO3YsDBpUvH+Z6NbYVpCQfENyhbB8Q3KF0vn2LUkt4fGemQ3plPaopCOBzwKTJf3G3PqXq4CfAM/gAo18rEwcK2eu0pDP7QCgzcyW+8s9D0haC+yAm/1JshA4SFIfM1tTIr/MWKyh+J+1m4BbJN2Omzl4VtIBwEIzOzRfYTN7GbgauFpu0XshwaCAqWZ2co7zhfYnZz2SPgp8Ejge+D4u0K4a3nnnndJXOmaMW3yd7dJabS00NHS76l7x7SVCcoWwfENyhbB8Q3KF0vluqjNHGyBpd+BVM/s9Lug4GMDM/gHsBnwNuMFnfwg4QVJ/X3aHPNU/Bpzo17ykgCOBGVnynOLrGwwMxF2CeRz4qk/fFxfw0IVbkmeBfSTtZ2bvAN8Gfo2b7Vnvv+Nm1oqbSRsnuUUefq3PZ73bF/36p62AL/m0x4HP+fVSdcBxecahM2/jLsdtgPdZA/wcFyjhxyMl6VDv10/Sfp3LSvq0pH7++AO4y1n/xl3a/J6kvv5c5+9tOvBxSXv681v576IrpgL/L9H29rnq8WO0rZndi7vcd1CeujcOGhuhvt4FQklqa116Y2NlvCKRSCQHMThaxwhgrqTZuMs4lybO3Qw87i+ZYGYLgfOBRyTNBX6Tp+4puMthc3GB1Tlm9p9OeX4L1PiFxzcBo8xspU9PSXoaOA83w/NmLrckPu1bwJ98v36LC8C+o8Qt9Am+g7sU+C8/2zIZWGZmT/njGcA/cOttZpvZTOBO37e/4tYlvZml3lzcBXwpsyA7y/mbgK/7PmJmq3AzLhf5cZ9D4m63BCOBBT7P/UCjH++rcJdR5/lzX0sWMrPlwCjgBknzgCdx67+64jxge7/Iey5wVBf1bA3c7dP+DvwoT91lZ9ddN7hK2XPq6twC6XPOWf85R+ec49Lr6rpdda/49hIhuUJYviG5Qli+IblC6Xxl2a7nR9ZD0t24W8MfrEDbfXDridrl7ih7ANjbBwoVdfPt15lZWu5ZUY8Cp/tgKlIChg0bZi0tLWVr77XXXmOHHfJNhFYPIfmG5Aph+YbkCmH5huQK63wlzTKzYd2tJ84cdYGk7SQtxq1RqkjwAWwJ/N3PSkwBxpjZqipxA5jkFx0/BdwWA6OwaWtrq7RCUYTkG5IrhOUbkiuE5RuSK5TOd1NdkF0Q5p4JlG/NSW87vI27zbxz+htU2M17fC1/rkgkEolEwiHOHEUikQ769+9faYWiCMk3JFcIyzckVwjLNyRXKJ1vDI4ikUgHW25Zkm0Gy0ZIviG5Qli+IblCWL4huULpfGNwFIlEOnjxxRcrrVAUIfmG5Aph+YbkCmH5huQKpfONwVEkEolEIpFIghgcRSKRDrbYYotKKxRFJX0nT57MtGnT1ksbO3YsS5cuzZo/jm3vEZIrhOUbkiuUzjcGR52QtMY/lHCB3029ywuYfrf2DTaPkt9h3h+Pl3RMge0P8g9gzFpXsUgaJekKf/xF/5TtzLmO3ejz1LGXpBl+J/kHQnGXVCPpMv9dzpc0U9Ie3XHJUvdVSZ+Nhd12263SCkVRrG86naapqYlUKkVNTQ2pVIqmpibS6XTBdVx55ZVMmTIFcBt3X3nllZx//vk89thjALz//vucd955TJ8+vUeulSYk35BcISzfkFyhdL4xONqQ98xsiJntD6wCRve0QjP7hZnlDCrKyBdxG6IWy7nARDM7EPhuSY0K54sU734isAtwoJkdgNv25I1CC/sHcGbFzL7jNxfeqFi8eHGlFYqiGN90Os3w4cOZMGECbW1tmBltbW1MmDCB4cOHFxwgnXbaabS2tnLppZfyk5/8hL59+3LmmWdy3333ceONNzJ69Gj2228/hg8f3m3XaiAk35BcISzfkFyhdL4xOOqax4A9JY3wT6IGQNIVkkYl8p3jZyZmZPbTSiJpsqTj/fEhkp6QNNfnz7q3WC4k1Uu6T9IsSY9J2senf07SPyTNlvSApJ06lTsM+DzQ7GfG6v2pE7zH4hxbeIALEncFMLMlxfhW2H1n4BUzW+vdX8pssyJppKQnJT3lZwjrfPpSSRdJegpolNSxB56fGZvvjztmruT2cnvKf6cP+rStJF3t/WZL+oJP38+nzfEzcXt1dzwjxdHc3ExrayvtnTbAbW9vp7W1lebm5oLrkoSZIYmampqOtMx7nz454+pIJBIA8SGQOZDbnPRY4L4Csr9pZgdI+iZwCTk2YJW0GW6/sBPNbKakbYD3smSt90+dzvAB3IaxAJOA0X6X+o/h9ks7GrdX13AzM0nfAc4B/jtTgZk9IelO4G4zu9X7APQ1s49K+gzQBGS7/NcK/FjSbDO7O8v5anW/Gfd08SOAB4HrzGy23GXQnwHHmNk7kn6M2+dsvC+3wswO9u2cJGkPHxSeyLpNcPHnU8DvgSPNbInWbWb7U+AhMztN0nbADH9JcjRwqZld738e4l/REpMJUoqhvb2d8ePHM378+Kznk9ssXX311eyxxx6ceeaZ7L777ixatIhLLrmEkSNH0rdvX77+9a9zww03sOOOO24wexSJRMIgBkcbskXij/tjwB/IvrlpkhsS7xd3kW9v3EzGTAAzeytHvlYzG5L5IGmsf6/zLrck/gBs7t93BW6StDOwGVDoDM/t/n0WMKjzSUkH4zZy/QgwVdJruI1UW4F623BzvqpxN7OXJO2NC8COBh6UdAKwBe4S3ePeZTPfpwzJAOhmXFB0oX8/sVMzw4FHMzNqZvaaTx8JfF7r1lvVAgN9Oz+VtCtwu5k929lb0unA6QADBw7segRKzODBFX/oelFUwvd73/se4BZkS2L06HVX3h966CH69u3Lz3/+8w3KxbHtPUJyhbB8Q3KF0vnGy2obkllzNMTMzvAbvL7P+mNV26mM5TguNTXAGwm/IWb2YX/ucuAKv7bme1kcc7HSv68he7B8DPCEmb2EW7MzGTgLuDdLYFRt7pjZSjP7q5k1Ar/CrV0SMDXhsa+ZfTtR7J3E8U3AVyUNdtVtGMzkQMBXEm0MNLN/mtmfcZcI3wPulXR0FudJZjbMzIalUqkCmysNG8MzTcws62vAgA3um1iPVCqVs2w2Ro0axYgRI9ZLGzt2LIMGDSrYtZoJyTckVwjLNyRXiM85KjfPA/tK2txfIvlkp/MnJt6fJDeLgJ0lHQIgaWt/+a4g/EzTEj/7gRwH+dPbAv/2x9/KUcXbQFFrnIDZwBckbWtmzwDNwP8C1xVTSSXcJR0saRd/XAMciPsupwMfl18f5tcHZf3vhpm14oKvn9PpkppnOnCk/F1wictq9wNnyE9NSfqIf/8Q8JyZXQb8xTtVDe+9l+0qb/VSjO+YMWOorc0ed9fW1tLQ0FAqraxszGNbaUJyhbB8Q3KF0vnG4KgAzOxF3OWVBf59dqcs20uaB/wQN6uSq55VuADqcklzgakUPkuS4RTg2778QuALPn0s7pLVLCDXtsQ34hYZz04sau4SM5uKC4Sm+7o/BZwKTPbrbarWHdgRuEvu8QLzcDOAV5jZcmAUcIP/3p4E9uminpuAr+O++/XwdZ0O3O77lQmgfgn0A+ZJWug/A3wVWOAv3e4P/LHAvkR6SGNjI/X19RsESLW1tdTX19PY2Fghs0gkUm2ouCsjkUiknAwbNsxaWlrK1t57770X1EPfivVNp9M0NzczceJEVqxYQf/+/WloaKCxsZG6urpeNN34x7aShOQKYfmG5ArrfCXNMrO8z/HLRZw5ikQiHbz77ruVViiKYn3r6uoYN24cy5YtY82aNSxbtoxx48b1emAEG//YVpKQXCEs35BcoXS+MTiKRCIdrFixotIKRRGSb0iuEJZvSK4Qlm9IrlA63xgcRSKRSCQSiSSIwVEkEukg3+3u1UZIviG5Qli+IblCWL4huULpfGNwFIlEOsh1q3u1EpJvSK4Qlm9IrhCWb0iuUDrfGBxFIpEOXnrppUorFEVIviG5Qli+IblCWL4huULpfGNwFIlEIpFIJJIgBkeRSKSDrbbaqtIKuUmnoakJUimoqYFUig9MnOjSA6CqxzYLIfmG5Aph+YbkCqXzjQ+BjGxySFoDzMftf7YG+L6ZPeG3GrnMzI7vouwI4GwzO64cruV+CKSZdWtX+14nnYbhw6G1FdrbO5KtthbV18P06VCGZxX1hKod2xyE5BuSK4TlG5IrrPOND4GMRIons7nwQcD/ABcAmNnLXQVGmwLPPlvovrplprl5g8AIQO3tLr25uUJihVO1Y5uDkHxDcoWwfENyhdL5xuAosqmzDfA6gKRBfh82JNVKukbSfL+f21GdC0raQdIdkuZJmi7pQJ+ekjRV0kJJV0l6XtIASeMlnZkof76kH5anm1WO1PVr/PgNAqMO2tvd+Xx1RCKRSIHE4CiyKbKFpDmSngGuYt2msEn+H2BmdgBwMnCtpM73iI4DZpvZgcBPWLeJbBPwkJntB9wKDPTpVwPfBJBUA5yE29R3PSSdLqlFUsvy5ct70s+iqamJvxJ6i9DGNiTfkFwhLN+QXKF0vmH1OhIpDZnLavsAnwb+qA0vqh+OD1zM7BngeWBwljx/8nkeAvpL2san3+jT78PPTJnZUmCFpI8AI3GB1QbPujezSWY2zMyGpVKpUvS3YPbcc8+ytteBWdevfA92S6Xy11FhKja23SQk35BcISzfkFyhdL4xOIps0pjZk8AAoFxRyFXAKOBU3ExSVfHCCy9UWiE7Y8ZAroe71dZCQ0N5fbpB1Y5tDkLyDckVwvINyRVK5xuDo8gmjaR9gD5A5xmcx4BTfJ7BuEtji7rIMwJoM7O3gMeBr/r0kcD2iTJTcLNVhwD3l64npaE917qeStPYCPX1GwRIazff3KU3NlZIrHCqdmxzEJJvSK4Qlm9IrlA63xgcRTZFMmuO5gA3Ad8yszWd8vwWqJE03+cZZWYrO+UZCwyVNA+4EPiWTx8HjPSLu08A/gO8DWBmq4CHgZuztBnJRV2du13/nHPWe87R69/5ThC38UcikbCIzzmKREqMpM2BNWb2vqRDgYlmNsSfqwGeAk4ws7z3nJb7OUcrV65k8803L1t7PSUk35BcISzfkFwhLN+QXGGdb3zOUSRSfQwEZkqaC1wGfBdA0r7Av4AHCwmMKsFbb71VaYWiCMk3JFcIyzckVwjLNyRXKJ1vDI4ikRJjZs+a2UfM7CAzO8TMZvr0p83sQ2b235V2zMXrr79eaYWiCMk3JFcIyzckVwjLNyRXKJ1vDI4ikUgkEolEEsTgKBKJdFDu5yr1lJB8Q3KFsHxDcoWwfENyhdL5xuAoEol00K9fv0orFEVIviG5Qli+IblCWL4huULpfGNwFIlEOnj55ZcrrVAUIfmG5Aph+YbkCmH5huQKpfONwVEkEolEIpFIghgcRYJF0gck3SipVdIsSff6TVvv7qX2nshz/ie90W45qQvsYYqSaGpqIpVKUVNTQyqVoqmpiXQ6XWm1DQhtbEPyDckVwvINyRVK5xsfAhkJEr9R7BPAtWb2O592EPB54GNmdlwFnNJmtsG/TO8qM1tbbJ3lfgjkmjVr6NOnT9na6wnpdJrhw4fT2tq63pYBtbW11NfXM3369Kr6xR7S2EJYviG5Qli+IbnCOt/4EMjIpspRwOpMYARgZnNx+53VSbpV0jOSrvfBCZKGSnrEzzLdL2lnnz5N0sWSWiT9U9Ihkm6X9Kyk8zL1S0r7950lPeq3IFkg6QhJF7JuW5LrJQ2StEjSH4EFwM8lXZKo67uSLi7DOBVFa2trpRUKprm5mX/9618b7KXU3t5Oa2srzc3NFTLLTkhjC2H5huQKYfmG5Aql8+1bkloikfKzPzArx7mPAPsBL+M2gf24pH8AlwNfMLPlkk4EzgdO82VWmdkwST8E/gIMBV4DWiVdbGbJjWm/BtxvZudL6gNsaWaPSfp+YpuQQcBeuH3bpkuqA+ZKajSz1cCpwPdKNBZB4WPVXqW9vZ3x48czfvz4ktYbZ9ojkU2DGBxFNkZmmNlLAH5z2UHAG7iAaqr/49wHeCVR5k7/Ph9YaGav+PLPAbsByeBoJnC1pH7AHWY2J4fH82Y2HcDM0pIeAo6T9E+gn5nNz1ZI0unA6QADBw4suNOlIKTp89AIbWxD8g3JFcLyDckVSucbL6tFQmUhbnYnGysTx2tw/wkQLugZ4l8HmNnILGXWdiq/lk7/iTCzR4EjgX8DkyV9M4fHO50+XwWMws0aXZOjDGY2ycyGmdmwcj+Arb6+vtfbMLOSvAYMGNBlO6lUqmRtZV49oRxjW0pC8g3JFcLyDckVSucbg6NIqDwEbO5nWQCQdCBwRI78i4CUpEN93n6S9utOw5J2B141s9/jAp6D/anVfjYpK2b2D9ws1NeAG7rTdm+zdOnSSisUzJgxY3LuFl5bW0tDQ0OZjbompLGFsHxDcoWwfENyhdL5xuAoEiTm/hv/JeAYfyv/QuAC4D858q8CjgcukjQXmAMc1s3mR+DWD80GTgQu9emTgHmSru+i7M3A42ZWlbs5rlq1qtIKBdPY2MjAgQOpra1dLz1zt1pjY2OFzLIT0thCWL4huUJYviG5Qul845qjSLCY2cvAV7Oc+n0iz/cTx3Nwl8M61zMicTwNmJbjXJ1/vxa4Nks9PwZ+nEjaP4vb4UDV3aUWInV1ddx0003ccccdTJw4kRUrVtC/f38aGhpobGysqtv4I5FIWMTnHEUiZUDSdsAMYK6ZnVBouXI/52jVqlVsttlmZWuvp4TkG5IrhOUbkiuE5RuSK6zzjc85ikQCwMzeMLPBxQRGleCNN96otEJRhOQbkiuE5RuSK4TlG5IrlM43BkeRSKSDTfUXYTkIyRXC8g3JFcLyDckVYnAUiUQikUgk0ivE4CgSiXSw0047VVqhKELyDckVwvINyRXC8g3JFUrnG4OjSCTSQTm29iglIfmG5Aph+YbkCmH5huQKpfONwVEkEungP//J+pioqiUk35BcISzfkFwhLN+QXKF0vjE4ikQilSWdhqYmSKWgpsa9NzW59EgkEqkAMTgCJK2RNCfxOrfI8l+UtG/i8zRJeZ+vIGkvSTMkzZP0QBf5Bkl6r5Njrv288rU5XtIx3SlbLiSNkJT36dWSRkm6Ikv6TpLuljRX0tOS7s1TT9WPSbnYZpttyttgOg3Dh8OECdDWBmbufcIEl54nQCq7bw8IyRXC8g3JFcLyDckVSucbn5DteM/MhnSnoKS+wBeBu4Gniyx+LjDRzK6RtEeevK3ddUxiZr/Ili6pj5mt6Wn9JWIEkAae6Gb58cBUM7sUOvZcy0muMdkU6d+/f3kbbG6G1lZob18/vb3dpTc3w7hxOYuX3bcHhOQKYfmG5Aph+YbkCqXzjTNHXSDpF5JmSlogaZL8Si8/M3SJpBbcdhGfB5r9jE5mS+AT/KzQYkm5NkNdBewKYGZLuumYlnS+nyWZ7mdNtpX0vKQan2crSS/6zVYnSzrepy+VdJGkp7zvyZLm+/5e1FUbPn2ypIk+7Tk/43O1pH9KmpwoP1LSk5KeknSLpLpE++N8+nxJ+0gaBIwGzvLjeYSkz0n6h6TZkh7ItN8FOwMvZT6Y2byEy499W3MlXZjoR2ZMhkp6RNIsSfdL2tmnT/Njtd53KqmPpF/7MZsn6Yw89fzAz2bNk3RjN77yXmXJkm79GK6PVPhr/PgNA6MM7e3ufBfl+2222fppVUxJxraMhOQbkiuE5RuSK5TONwZHji06XbI60adfYWaHmNn+wBbAcYkym5nZMDM7H7gTaDSzIWbW6s/3NbOPAmcCTTnabQV+IOm4HOeT1HdyzARcWwHTzewg4FHgu2b2Jm5j1U/4PMcB95vZ6iz1rjCzg33Zi4CjgSHAIZK+mKuNRPntgUOBs/w4XAzsBxwgaYikAcDPgGN8Oy3AjxLl23z6ROBsM1sK/A642I/nY8DfgeFm9hHgRuCcPGP1f8AfJD0s6aeSdgGQdCzwBeBjvi8TkoUk9QMuB443s6HA1cD5iSzZvtPTgUHAEDM7ELg+Tz3nAh/xeUdnk5d0uqQWSS3Lly/P09VIJBKJlJp4Wc2R67LaUZLOAbYEdgAWAnf5czflqfN2/z4L98dzPSQdDIwEPgJMlfQa8CQuYKq3DTe9y3VZbRXukl6mrf9K+J0IPAycBPw2h2emH4cA08xsufe7HrdJ6x1dtAFwl5mZpPnAq2Y235df6Pu9K7Av8LifeNvM9zNDcpy+nMNxV+AmP/uyGdDlfw3M7H5JHwI+DRwLzJa0P3AMcI2Zvevzvdap6N64zWKnetc+wCs5XAf542OA35nZ+5k6fVu56pmHC6DuwI1tNv9JwCRwe6t11ddS069fv55XUsx+jamUW2PU1flly3KeXrJkCXvske+KdHVQkrEtIyH5huQKYfmG5Aql840zRzmQVIsLKI43swNwO73XJrK8k6eKlf59DdmD0GOAJ8zsJeBLwGTc7Mu9WQKjrlidyJ9s607g05J2AIYCD+Uon68fXbUB6/q5NnGc+dwXEG79zxD/2tfMvp2lfK5xAjcLc4X/Hr7H+t9DVszsNTP7s5l9A5iJC/TyIWBhwvUAMxtZpGu+ej6Lm9k6GJgpt2ataih7oDFmDNTm+Dpra6GhocvioQRGEJYrhOUbkiuE5RuSK5TONwZHucn8xm7za2SO7yLv28DWRdY/G/iCpG3N7BmgGfhf4LqiTbNgZmlcUHApcHcBi61nAJ+QNEBSH+Bk4JESqEwHPi5pT+hY/zQ4T5nO47kt8G9//K18DUo6WtKW/nhroB54AZgKnJo4t0OnoouAlKRD/fl+kvbL09xU4HuZIMfXmbUeuTVgu5nZw7i1atsCdfn6U07Kvr6gsRHq6zcMkGprXXpjY5fFQ1oPEZIrhOUbkiuE5RuSK8Q1R6Wm85qjC83sDdxs0QLgflygkYsbgUa/YLi+i3wdmNlUXCA0XdIs4FPAqcBkSaksRTqvOfpBAc3cBHyd/JcAMbNXcOthHgbmArPM7C+F9CVPvcuBUcANkubhLqntk6fYXcCXEmurxgK3+HHq4hpMB0OBlkR7V5nZTDO7Dzej1iJpDnB2J9dVuCD4Iklzceu28j1S4Cpc4DXPl/laF/X0Aa7zlyBnA5f5n7OqYfXqbMvSepG6Opg+Hc45Z/3nHJ1zjkuv6zp2LLtvDwjJFcLyDckVwvINyRVK56viruBEIpFyMmzYMGtpaSlbe4sXL2bw4HwTe9VDSL4huUJYviG5Qli+IbnCOl9Js8ws7/MGcxGDo0ikiil3cLR69eqgFmCG5BuSK4TlG5IrhOUbkius8+1pcBQvq0UikQ5WrFhRaYWiCMk3JFcIyzckVwjLNyRXKJ1vDI4ikUgHb731VqUViiIk35BcISzfkFwhLN+QXKF0vjE4ikQikUgkEkkQg6NIJNLBBz7wgUorFEVIviG5Qli+IblCWL4huULpfGNwFIlEOgjtBo2QfENyhbB8Q3KFsHxDcoXS+cbgKBKJdPDqq69WWqEoQvINyRXC8g3JFcLyDckVSucbg6MqRZJJui7xua+k5ZLuzlNuiKTPJD6PlXR2V2VKiaRBkr6W+DxM0mUlqPe7khZJWihpTBf59pY0zT9A8p+SJvn09cali/Kdx+/zks4tVf5IpJyk02mamppIpVLU1NSQSqVoamoinU5XWi0SqWqqal+nyHq8A+wvaQszew+32eu/85QBGAIMA+7tRbeuGAR8DfgzgJm1AD16UI/fmuN8YE/c1iIDu8h+GXBx5unekg7w6UMobFzWy2dmd+Keql2q/FXNdtttV2mFogjJt9yu6XSa4cOH09raSnt7OwBtbW1MmDCB2267jenTp1PXxRPI49j2HiH5huQKpfONM0fVzb24jUrB7XV2Q+aEpI9KetJvWfKEnzHZDBgPnOhnTk702ff1synPJbcdkfR1STN83iv9nmpISktq9rM0D/i2MuU/7/MMkvSYpKf8K7PNxoXAEb7OsySNyMx2SaqTdI2k+ZLmSfqKpD6SJkta4NPPyjEWfYH+5ni+izHbGXgp88HM5mcbl0LHT9IoSVd4/xO851xJjxaQfydJU3z+uZIOk9tb7h7/eUHiO6oKNtVfhOWg3K7Nzc3rBUYZ2tvbaW1tpbm5ucvycWx7j5B8Q3KFEvqaWXxV4QtIAwcCt+I2wZ0DjMBtIguwDdDXHx8D3OaPR+F2sM/UMxZ4AtgcGACsAPoBH8btYdbP5/st8E1/bMCx/ngK8Ddf5iBgjk/fEqj1x3sBLf64w7HzZ+Ai4JLEue1x+6BNTaRtl2Usalm359sOecbtVOBN4K/AWZn6soxLoePX8RmYD3ww6Zkn/03Amf64D26j2a8Av0/k37ar/gwdOtTKyaJFi3pU3v/sxFd8xVd89fjVk99h+L9J3X3Fy2pVjJnNkzQIN2vU+XLQtsC1kvbC/SB19Xz3e8xsJbBS0jJgJ+CTuMBkpiSALYBlPv8q4D5/PB9YaWar/Yapg3x6P+AKSUOANUAhm+8cA5yU6N/rkp4DPiTpcuAeXCDWmQuAa/zxnZJG4mbUPmZmnTePvUbS/cCngS8A35N0UJY6ixm/DI/jNga+Gbi9gPxHA9/0XmuAN/0Y/q+ki3BB42OdC0k6HTgdYODArq4gRiKRSKQ3iJfVqp87gV+TuKTm+SXwsJntD3wON7uSi5WJ4zW4S1QCrjWzIf61t5mN9XlW+8gbYG2mvJmtZd06tbOAV3GzScOAzbrRN8zsdV/HNGA0bpf7znwKeNTM/gjcAdwCnICbmclW58tmdrWZfQF4H9g/S7Zixi9T72jgZ8BuwCxJ/fOVyVLHYuBgXNB5nqRfZMkzycyGmdmwVCpVbBM9YrPNuvU1dtCT/6l157VkyZKKz/JWq+uAAQO6/K5SqVRV+YY0tpuSbyVdu0NPf4dliMFR9XM1MM7M5ndK35Z1C7RHJdLfBrYuoN4HgeMl7QggaQdJuxfhtS3wirmA6Ru4y0b52p8K/L/MB0nbSxoA1JjZbbjA4+As5WbjZ2CA3/j69wNmdc4o6dOS+vnjDwD9cePU2avo8ZNUb2b/MLNfAMtxQVJX/X0QaPBl+0jaVtIuwLtmdh3QnKO/FWPQoEGVViiKkHzL7TpmzBhqa7PH/LW1tTQ0NHRZPo5t7xGSb0iuUDrfGBxVOWb2kplluxV+AnCBpNmsf9fhw7gF2MkF2dnqfRoXjPxN0jxc4LJzEWq/Bb4laS6wD+7uOoB5wBq/4Ljz4urzgO0zi5qBo4APAtMkzQGuA/4nS1tnAkMkLQRmAPcDM4GLs+QdCWTqvx9oNLP/sOG4dGf8mv2i8QW4dVxz8+T/IXCUv5Q2C9gXOACY4fvb5Mekamhtba20QlGE5Ftu18bGRurr6zcIkGpra6mvr6exsbHL8nFse4+QfENyhdL5qrtTV5FIpPcZNmyYtbT06EkIRbF48WIGDy5k+Vh1EJJvJVzT6TTNzc1MnDiRFStW0L9/fxoaGmhsbOzyNn6IY9ubhOQbkius85U0y8yGdbeeuCA7EolENlLq6uoYN24c48aNq7RKJBIUceYoEqliyj1ztGbNGvr06ZM/Y5UQkm9IrhCWb0iuEJZvSK6wzrenM0dxzVEkEulgU91HqRyE5Aph+YbkCmH5huQKcW+1SCTSC4S251ZIviG5Qli+IblCWL4huULpfGNwFIlEIpFIJJIgBkeRSKSDXXbZpdIKRRGSb0iuEJZvSK4Qlm9IrlA63xgcRSKRDlavXl1phaIIyTckVwjLNyRXCMs3JFconW8MjiKRSAfLly+vtEJRdOWbTqdpamoilUpRU1NDKpWiqampYmsoNqaxrTZCcoWwfENyhdL5xuBoE0DSGv8E5wWSbpG0paRB/knPPa17tKRv5s/ZZR2SNEnS0/4J1IfmyT9A0mpJowuoe5TfsiOyCZFOpxk+fDgTJkygra0NM6OtrY0JEyYwfPjw4BaZRiKR8hKDo02D98xtLrs/sAq3wWtJMLPfmdsQticcDuyF2y/to8BzefKfAEwHTi6g7lFA1uBIUjgP7ygT22+/faUViiKXb3NzM62trbS3t6+X3t7eTmtrK83NzeXQW4+NZWyrkZBcISzfkFyhdL4xONr0eAzY0x/3kfR7SQsl/U3SFpLqJT2VySxpr8xnSRf62Z15kn7t08ZKOtsf7ynpAb+v2lO+rp0lPZqYuToii9MqYCegn5m9Z2b5HlRxMvDfwAcl7erb7iNpsm9jvqSzJB0PDAOu9+1vIWmppIt8n06QdHJmvzRJFyX6nZZ0vu/LdEk7+fRBkh7yY/CgpIE+fbKkiT7vc5JGSLpa0j8lTfZ5TpN0SaKN70rKtj9cxdhmm20qrdCBpLyvHXfcMWv6+PHjNwiMMrS3tzN+/PiC6u/qVSzVNLaFEJJvSK4Qlm9IrlA63xgcbUJI6gscC8z3SXsB/2dm+wFvAF8xs1bgTUlDfJ5TgWsk9Qe+BOxnZgeSfcPU6319BwGHAa8AXwPuN7MhwEHAnCzlXsXtbD9Zef7qSNoN2NnMZgA3A5nNXocAHzSz/c3sAOAaM7sVaAFO8TNn7/m8K8zsYOBR4CLgaF/+EElf9Hm2Aqb7vjwKfNenXw5c68fgeiC5KfD2wKHAWcCduI1x9wMO8ON5M/A5Sf18/lOBq7P08XRJLZJayn29//nnny9re5sSoY1tSL4huUJYviG5Qul8Y3C0abCF3C7wLcALwB98+hIzm+OPZwGD/PFVwKn+stOJwJ+BN4F24A+Svgy8m2xA0ta44GQKgJm1m9m7wExf11jgADN7O4vfrcCRvs6LfX3/J+m4LHlPxAUZADey7tLac8CHJF0u6dPAW12Mx03+/RBgmpktN7P3ccHOkf7cKuDuLGNzqB8PgD/hLglmuMvcfjzzgVfNbL6ZrQUWAoPMLA08BBwnaR/cTNl8OmFmk8xsmJkNS6VSXXRj48bM8r4WLVqUNX3AgAFd1p1KpQqqv6tXJBLZeInB0aZBZs3REDM7w8xW+fSViTxrWLcR8W24GabjgFlmtsIHDx/FBTLHAfcV0rCZPYoLOP6Nmxlab/G2pB2BAWa2BPgeMEhSEy5weThLlScDoyQtxc3OHChpLzN7HTczNQ23puqqLrTeKUB9ta37C5gcm67IjOda1h/btYnyV+HWQZ0KXFNAnWWltra20gpFkct3zJgxOc/V1tbS0NDQm1o52w2JkHxDcoWwfENyhdL5xuAosgFm1g7cD0zE/wGXVAdsa2b34i4bHdSpzNvAS5nLUpI2l7srbnfcLMrvcYHBwZ2aW+6y6ygzWwOcDvwQeMrM1gtiJA0G6szsg2Y2yMwGARcAJ0saANSY2W3AzxLtvI27ZJeNGcAn5O5+64MLvB7JMzxPACf541Nwa7gKxsz+AeyGu9x4QzFly8HAgQMrrVAUuXwbGxupr6/f4BdlbW0t9fX1NDY2lkNvPTaWsa1GQnKFsHxDcoXS+cbgKJKL63EzHn/zn7cG7pY0D/g78KMsZb4B/MDneQL4ADACmCtpNu6S2KXJAn525ivA+f7S3x3A94HhfkF1kpOBKZ3SbvPpHwSm+TquA/7Hn58M/C6zILtT268A5+JmqObiZsn+kmtAPGfgLhPO8/39YZ782bgZeNzPdlUV//rXvyqtUBS5fOvq6pg+fTrnnHPOes85Ouecc5g+fTp1dXVlNt14xrYaCckVwvINyRVK56t47TySDbk70LY1s59X2mVjQ9LdwMVm9mC+vMOGDbOWlpYyWDkWL17M4MGDy9ZeTwnJNyRXCMs3JFcIyzckV1jnK2mWmQ3rbj2FrKOIbGJImgLU4+7iipQISdvhLuXNLSQwikQikUhliDNHkUgVU+6ZIzPr1jN8KkVIviG5Qli+IblCWL4hucI6357OHMU1R5HI/2/v/KOtKq47/vmKYqrSFIJEKoo/YhsN1YQKxYJWliRoIgsxtovU39gkq6mJ6Yq0iVGrNtqqWdom0VXTarAtamuKv6hGiaBWCchPBcHgAx4qmigSVPBX0N0/9lycHO593Oe7vHvPe/uz1lnvnD1z5nzPnHn37Ltn5k6wjRdeeKHZEjpFmfSWSSuUS2+ZtEK59JZJKzRObzhHQRBsY8uWen7loHUok94yaYVy6S2TViiX3jJphcbpDecoCIIgCIIgI5yjIAi2MWTIkGZL6BRl0lsmrVAuvWXSCuXSWyat0Di94RwFQbCNWou1tipl0lsmrVAuvWXSCuXSWyat0Di94RwFQbCNDRs2NFtCpyiT3jJphXLpLZNWKJfeMmmFxukN5ygIgiAIgiAjfucoCFoYSS8D67rxkgOBMn1VLJPeMmmFcuktk1Yol94yaYX39Q41s70/aCHhHAVBsA1JC7vyw2ndTZn0lkkrlEtvmbRCufSWSSs0Tm90qwVBEARBEGSEcxQEQRAEQZARzlEQBDk/bLaATlImvWXSCuXSWyatUC69ZdIKDdIbY46CIAiCIAgyInIUBEEQBEGQEc5REPQSJB0v6eeS2iR9s0r6tZKWpm2VpE1Z2rtZ2t3doPUmSS9JWl4jXZK+l+7lSUnDs7QzJT2TtjNbQOupSeMySXMlHZGltSf7UkkLd7bWOvUeK+nV7HlfnKV12IaaoHVqpnN5aqcDUlq31q2k/STNkbRC0lOSzquSp5XabT16W6Lt1qm1se3WzGKLLbYevgF9gNXAQUBf4AngsA7yfxW4KTve3M16jwGGA8trpH8WuA8QMAqYn+wDgDXpb/+037/JWv+4ogE4oaI1HbcDA1usbo8FZna1DXWH1kLeCcDsZtUtMBgYnvb7AauK9dNi7bYevS3RduvU2tB2G5GjIOgdjATazGyNmb0D3AZM7CD/F4Bbu0VZFczsEWBjB1kmAv9uzjzgdyQNBsYDs8xso5n9CpgFHN9MrWY2N2kBmAc0dSXPOuq2Fp1tQ12mk1qb3WZfNLPFaf91YCWwbyFbK7XbHeptlbZbZ93W4gO123COgqB3sC/wXHb8PDU+XCQNBQ4EZmfmD0laKGmepJN2msr6qXU/dd9nkzgHjxxUMOABSYskfalJmqpxlKQnJN0n6RPJ1rJ1K2kP3Jn4n8zctLqVdADwKWB+Iakl220HenNaou3uQGvD2u2uXRUaBEGPYzLwYzN7N7MNNbP1kg4CZktaZmarm6SvlEgai79gxmTmMaleBwGzJD2doiXNZDH+vDdL+ixwJ3BIcyXtkAnAY2aWR5maUreS9sKdtK+b2Ws7+3pdpR69rdJ2d6C1oe02IkdB0DtYD+yXHQ9JtmpMptA9YWbr0981wEP4N7dmUut+OnOf3Yakw4F/Ayaa2SsVe1avLwF34F0ATcXMXjOzzWn/XmA3SQNp0bpNdNRmu61uJe2Gv7ynm9mMKllaqt3Wobdl2u6OtDa63YZzFAS9gwXAIZIOlNQXf5lsN+tM0sfxAaE/y2z9Je2e9gcCo4EV3aK6NncDZ6TZP6OAV83sReB+4DNJc3/gM8nWNCTtD8wATjezVZl9T0n9Kvu41qqzsroTSftIUtofib8nXqHONtTdSPow8CfAXZmt2+s21dmNwEozu6ZGtpZpt/XobZW2W6fWhrbb6FYLgl6AmW2VdC7+gdsHn4n2lKTLgIVmVvmwmAzcZmmaR+JQ4AZJ7+EfOP9oZjvVOZJ0Kz77ZKCk54G/A3ZL9/IvwL34zJ824A3g7JS2UdLf4x+IAJcVulqaofVi4CPA9emze6v5wpgfBe5Itl2BW8zsJztTa516TwH+UtJW4E1gcmoPVdtQk7UCTAIeMLMt2anNqNvRwOnAMklLk+0CYP9Mb8u02zr1tkrbrUdrQ9tt/EJ2EARBEARBRnSrBUEQBEEQZIRzFARBEARBkBHOURAEQRAEQUY4R0EQBEEQBBnhHAVBEARBEGSEcxQEQRAEQZARzlEQBEEVJM2UNG0HeZZLuqR7FHUOSWdJ2tygsuZIOqMRZQW1kbS7pGclHdlsLb2dcI6CIOixSNpX0g8lPS/pHUnrJf2rpKasLl5EkmXbZvmimWd9wHJOKZj/CzioARo/hy+/MD2ztadrnl4l//yUdn5Xr11DzyhJGySNT9cZUkhvk7RJUp/MtoektyWdszM0NQozexu4Griy2Vp6O+EcBUHQI5F0ILAQGAacCXwMOA34BLBAvrp3K/BFYDBwBO7Q/EjS+K4WamZvpnWvusp5wLTCQsTgK51PyQ2ShuH1/Qo7j4nATOBR4Nf4L2hXrr8f7si9xW+u/zca6AvM3om6GsV0YIzeX1U+aALhHAVB0FO5DngPGGdmD5rZs2Y2BxiX7NdVMqbIwrQUvfmlpAuKhUkaJOkuSW9KWidpSpU8X5a0StJbKbpxv6QdLdO0ycx+YWarzewKYCO+VlWlzBGSHkjlvSbpUUlHZentaff2FElpT/btutWSvrYURWuT9MWOhEnaO9XXPVWSbwGOkpRHp84BfgwUr9tX0pUpgveGpAW5Ayjp2KT9uBR5ekPSQknDq1x3InBXWi5kATA2SxubbA9Wsbeb2VpJu0i6SNJzKZq0TNLETMsBSctkSQ+n571E0uGShkmaK2lLeg4HFu5zgqRF6fmvlXS5fD2vSnq7pAsl3ZCe5fOSpuZlpGVDHgO+UOXeg24inKMgCHockgYAxwPXmdkbeVo6vh44Qb7IJ8B3gU8DnweOw6MOxxSKnYZHn8YBJwFnAAdk1zwSd7guBX4/lVP3elOS+kj6M2AAHhGp0A/4D+BofOXzpcC9kj6S0kekv5UI1AiqIGkS8APgn/Dozj/ja2ZN6EDWGOBtqi8qugF3ms5O5ffFI3M3Vsn7I3xx2D9P174ZuEfSEYV8/wB8ExiOR5+mS76AV7rGIXidP5BMc9jeCXoobUX7nLR/HjAV+FvgD/AV5WdI+mRBy6V499angE3ArcD3gW/jz+FDwPcybePxqM8P8OjkFHy9rysK5f41sCzd45XAVbmzm3gcr6+gWZhZbLHFFluP2oA/AgyYVCN9UkofCeyFOwCnZul74S/Eaen491L+0VmeocC7wCXp+GTgVaBfJ3QavkjmZmBrOt4AfKyDcwS8CJxWKOeUQr6zgM3Z8WP4opt5nmnAox1c6+vAuir2duB84ATgWfyL9inAM3l62j8Yj9TtXyjjTuD6tH9suofxWfroZBuS2aYCd2fHx6U8Q7PrjkvP63V8UdS9cGfztJRnPXBxQctDwH+m/QNSmV/O0k9MtpM7qN9HgIsK5Z6Unq0yfbcW8jwDXFiwfQ14rtn/R715i8hREAS9nYPx8Sg/qxjMbDP+7b7CofgL/vEszzrghSzPLGAdsFbSdElnSupXx/WnAp/EI1dLga+ZWVslMXXn3ZC6617FX/qDSCuSd4JDcQcp51HgsA7O+S18/E4t7sedtU/jXWo3VckzPOVZkbotN6fuvs/hdZ/zZLZfqdtBmW0icFd2/Bju2I5NXVyDgblmtgqvpyPxiNuuwBxJvw38LvXVQ67ll+nvsoJtT0l7pOM/BL5duMdbgD2BfWqUW7nPQQXbm3jdB01iR33hQRAEZaQN/6Z/GN5tUuSwlN6GD+CtF6uZYPZ6GiNzDO4sfAu4QtIIM3uh1nnAL5Iz1CbpT4HFkhab2dMp/Wbgo3h3TDvuDDyIO3SNoOY94VGs/rUSzew9STcDFwCjcAepyC7pGiP4ze5CcCcgJ0+v6NoF3EnEI4InZ9d/S9I8PPIkYIG93436cLL3B1aZ2frkHNW8nTq01NSX/l4K3F6l7JdrlFsppxioGFA4J+hmInIUBEGPw8xewaMaX8m+2QM++Br4K+A+88Gvq/EX1qgsz5742JgKT+OflyOzPPvjUYj8ulvNbLaZfQs4HI8anNgJ3W3ADOCqzDwG+L6Z/a+ZPYVHRAYXTv010IeOWYl3VeWMAVZ0cM4SYG9JAzvIcxMenZlVwwlcgjsu+5hZW2FbvwPNOROA+bb9DLzKuKPKeKMKD2X22QBm9hoeqelsPdTDYuDjVe6xzcy2drKsYam8oElE5CgIgp7KucBc4KeSLsTHdhwMXI6/rM8F70KTdCNwpaSX8ZfnxWTOhpn9XNJPgBskfQmPeFxDFvmQdGIq/xF8xtlYfDD1yk7qvgZYKmmkmT0OrAJOkzQfd7auAt4pnNMOHCfpYeBtM/tVlXKvxme0LcIHNB8PnEoWianCEuAl3Hm4s1oGM1uTnKdiFKiSvkrSdGCapG/gL/0BeFRnjZnN6OD6OcUutQpzgEvw8T35vTwMXItH2L6b2a8GLpP0DLAIH0R+NN791xUuA2ZKWgf8Nz6GbBgw0sz+ppNlHQ1c1EU9QReIyFEQBD0SM1uNjzl5Cp/ttQYfA7ISGGFma7Ps5+Mv2TvS3+W4k5NzFrAWj0Lck8pqz9I34S/on+KRpvOBvzCz/+uk7idTGd9Jpin4oOJFwG14pKa9cNo3cGfsOdyhqVbuncBX8e65Ffisra+YWbVp+pVz3k3XO3UHmjeaWVXnKHE2PmPtKrxuZuLdj+s6KrdCivaNo7pzNA93zHbHneGKpqfxAfK78P5MNfAZZlcnLcvxwfmfN7Mn6tFSCzO7Hx9HNRYfm/Y4PvPu2c6Uk2aufRj/SYSgSVRG0AdBEATBdqSxPivY3qHsTg2TgMvNrKPB4z0CSbcDS8x/8ypoEhE5CoIgCGqSxvhMofOz4xrJFvx3iXo0knbHZ7Nd22wtvZ2IHAVBEARBEGRE5CgIgiAIgiAjnKMgCIIgCIKMcI6CIAiCIAgywjkKgiAIgiDICOcoCIIgCIIgI5yjIAiCIAiCjP8H9IZZ1Rr2tekAAAAASUVORK5CYII=\n",
       "datasetInfos": [],
       "metadata": {},
       "removedWidgets": [],
       "type": "image"
      }
     },
     "output_type": "display_data"
    }
   ],
   "source": [
    "import matplotlib.pyplot as plt\n",
    "import seaborn as sns\n",
    "\n",
    "\n",
    "\n",
    "# Create a DataFrame\n",
    "df = a.copy()\n",
    "\n",
    "# Set up the matplotlib figure\n",
    "plt.figure(figsize=(6, 6))\n",
    "\n",
    "# Add confidence interval lines with dots for odds ratio, color-coded by gender\n",
    "for i, row in df.iterrows():\n",
    "    color = \"red\" if row[\"gender\"] == 0 else \"black\"\n",
    "    plt.plot(row[\"odds_ratio\"], i, 'o', markersize=8, color=color)\n",
    "    plt.plot([row[\"left_ci\"], row[\"right_ci\"]], [i, i], color=color, linewidth=2)\n",
    "\n",
    "# Annotate significance\n",
    "for i, row in df.iterrows():\n",
    "    plt.text(row[\"right_ci\"] + 0.02, i, row[\"pval\"], color=\"red\" if row[\"gender\"] == 0 else \"black\",\n",
    "             verticalalignment=\"center\", fontsize=12)\n",
    "\n",
    "# Customize the plot\n",
    "plt.yticks(range(len(df)), df[\"field\"])\n",
    "plt.xlabel(\"Odds Ratio (Men/Women)\", fontsize=14)\n",
    "#plt.title(\"Odds Ratio with Confidence Intervals\", fontsize=16)\n",
    "plt.grid(axis=\"x\", linestyle=\"--\", alpha=0.6)\n",
    "\n",
    "# Show the plot\n",
    "plt.show()"
   ]
  },
  {
   "cell_type": "code",
   "execution_count": 0,
   "metadata": {
    "application/vnd.databricks.v1+cell": {
     "cellMetadata": {
      "byteLimit": 2048000,
      "rowLimit": 10000
     },
     "inputWidgets": {},
     "nuid": "e3b63cfc-e11e-4c7b-84a3-78e9dbafa974",
     "showTitle": false,
     "title": ""
    }
   },
   "outputs": [
    {
     "output_type": "stream",
     "name": "stdout",
     "output_type": "stream",
     "text": [
      "['#1f77b4', '#aec7e8', '#ff7f0e', '#ffbb78', '#2ca02c', '#98df8a', '#d62728', '#ff9896', '#9467bd', '#c5b0d5', '#8c564b', '#c49c94', '#e377c2', '#f7b6d2', '#7f7f7f', '#c7c7c7', '#bcbd22', '#dbdb8d', '#17becf', '#9edae5']\n"
     ]
    }
   ],
   "source": [
    "#a = sns.color_palette(palette='BuGn')\n",
    "#a = sns.color_palette(palette='PuBu')\n",
    "a = sns.color_palette(palette='tab20')\n",
    "print(a.as_hex())"
   ]
  },
  {
   "cell_type": "code",
   "execution_count": 0,
   "metadata": {
    "application/vnd.databricks.v1+cell": {
     "cellMetadata": {
      "byteLimit": 2048000,
      "rowLimit": 10000
     },
     "inputWidgets": {},
     "nuid": "95eee43d-a1a9-4b93-a4df-132e4599057c",
     "showTitle": false,
     "title": ""
    }
   },
   "outputs": [
    {
     "output_type": "stream",
     "name": "stdout",
     "output_type": "stream",
     "text": [
      "421038\n421038\nq1  0.124  q2  0.25  q3  0.597\n"
     ]
    }
   ],
   "source": [
    "dummy = new.copy(deep = True)\n",
    "print(len(dummy))\n",
    "dummy = dummy.dropna(subset = ['cor_gender'])\n",
    "print(len(dummy))\n",
    "gender = []\n",
    "for ind in dummy.index:\n",
    "    if dummy['cor_gender'][ind] == \"female\" or dummy['cor_gender'][ind] == \"f\" or dummy['cor_gender'][ind] == \"F\":\n",
    "        #gender.append(\"female\")\n",
    "        #gender.append(\"bfemale\")\n",
    "        gender.append(1)\n",
    "    elif dummy['cor_gender'][ind] == \"male\" or dummy['cor_gender'][ind] == \"m\" or dummy['cor_gender'][ind] == \"M\": ##there is no null value in gender, so it is safe to say that if someone is not female, he must be male\n",
    "        #gender.append(\"male\")\n",
    "        #gender.append(\"amale\")\n",
    "        gender.append(0)\n",
    "dummy['gender'] = gender\n",
    "\n",
    "q1, q2, q3 = 0.124, 0.25, 0.597\n",
    "\n",
    "print(\"q1 \",q1,\" q2 \",q2,\" q3 \",q3)\n",
    "q = []\n",
    "for ind in dummy.index:\n",
    "  if dummy['SJR'][ind] <= q1:\n",
    "    q.append(0)\n",
    "  elif dummy['SJR'][ind] > q1 and dummy['SJR'][ind] <= q2:\n",
    "    q.append(1)\n",
    "  elif dummy['SJR'][ind] > q2 and dummy['SJR'][ind] <= q3:\n",
    "    q.append(2)\n",
    "  else:\n",
    "    q.append(3)\n",
    "dummy['q'] = q"
   ]
  },
  {
   "cell_type": "code",
   "execution_count": 0,
   "metadata": {
    "application/vnd.databricks.v1+cell": {
     "cellMetadata": {
      "byteLimit": 2048000,
      "rowLimit": 10000
     },
     "inputWidgets": {},
     "nuid": "fced5762-7292-4a83-b901-f3128d6fadcd",
     "showTitle": false,
     "title": ""
    }
   },
   "outputs": [
    {
     "output_type": "stream",
     "name": "stdout",
     "output_type": "stream",
     "text": [
      "1020\nlength of treatment  0.25\nlength of control  0.28043478260869564\n<command-3425889846512629>:30: SettingWithCopyWarning: \nA value is trying to be set on a copy of a slice from a DataFrame.\nTry using .loc[row_indexer,col_indexer] = value instead\n\nSee the caveats in the documentation: https://pandas.pydata.org/pandas-docs/stable/user_guide/indexing.html#returning-a-view-versus-a-copy\n  a['outcome'] = out\n<command-3425889846512629>:32: SettingWithCopyWarning: \nA value is trying to be set on a copy of a slice from a DataFrame.\nTry using .loc[row_indexer,col_indexer] = value instead\n\nSee the caveats in the documentation: https://pandas.pydata.org/pandas-docs/stable/user_guide/indexing.html#returning-a-view-versus-a-copy\n  a['covid'] = cov\n\nCall:\n(function (formula, family = gaussian, data, weights, subset, \n    na.action, start = NULL, etastart, mustart, offset, control = list(...), \n    model = TRUE, method = \"glm.fit\", x = FALSE, y = TRUE, singular.ok = TRUE, \n    contrasts = NULL, ...) \n{\n    cal <- match.call()\n    if (is.character(family)) \n        family <- get(family, mode = \"function\", envir = parent.frame())\n    if (is.function(family)) \n        family <- family()\n    if (is.null(family$family)) {\n        print(family)\n        stop(\"'family' not recognized\")\n    }\n    if (missing(data)) \n        data <- environment(formula)\n    mf <- match.call(expand.dots = FALSE)\n    m <- match(c(\"formula\", \"data\", \"subset\", \"weights\", \"na.action\", \n        \"etastart\", \"mustart\", \"offset\"), names(mf), 0L)\n    mf <- mf[c(1L, m)]\n    mf$drop.unused.levels <- TRUE\n    mf[[1L]] <- quote(stats::model.frame)\n    mf <- eval(mf, parent.frame())\n    if (identical(method, \"model.frame\")) \n        return(mf)\n    if (!is.character(method) && !is.function(method)) \n        stop(\"invalid 'method' argument\")\n    if (identical(method, \"glm.fit\")) \n        control <- do.call(\"glm.control\", control)\n    mt <- attr(mf, \"terms\")\n    Y <- model.response(mf, \"any\")\n    if (length(dim(Y)) == 1L) {\n        nm <- rownames(Y)\n        dim(Y) <- NULL\n        if (!is.null(nm)) \n            names(Y) <- nm\n    }\n    X <- if (!is.empty.model(mt)) \n        model.matrix(mt, mf, contrasts)\n    else matrix(, NROW(Y), 0L)\n    weights <- as.vector(model.weights(mf))\n    if (!is.null(weights) && !is.numeric(weights)) \n        stop(\"'weights' must be a numeric vector\")\n    if (!is.null(weights) && any(weights < 0)) \n        stop(\"negative weights not allowed\")\n    offset <- as.vector(model.offset(mf))\n    if (!is.null(offset)) {\n        if (length(offset) != NROW(Y)) \n            stop(gettextf(\"number of offsets is %d should equal %d (number of observations)\", \n                length(offset), NROW(Y)), domain = NA)\n    }\n    mustart <- model.extract(mf, \"mustart\")\n    etastart <- model.extract(mf, \"etastart\")\n    fit <- eval(call(if (is.function(method)) \"method\" else method, \n        x = X, y = Y, weights = weights, start = start, etastart = etastart, \n        mustart = mustart, offset = offset, family = family, \n        control = control, intercept = attr(mt, \"intercept\") > \n            0L, singular.ok = singular.ok))\n    if (length(offset) && attr(mt, \"intercept\") > 0L) {\n        fit2 <- eval(call(if (is.function(method)) \"method\" else method, \n            x = X[, \"(Intercept)\", drop = FALSE], y = Y, mustart = fit$fitted.values, \n            weights = weights, offset = offset, family = family, \n            control = control, intercept = TRUE))\n        if (!fit2$converged) \n            warning(\"fitting to calculate the null deviance did not converge -- increase 'maxit'?\")\n        fit$null.deviance <- fit2$deviance\n    }\n    if (model) \n        fit$model <- mf\n    fit$na.action <- attr(mf, \"na.action\")\n    if (x) \n        fit$x <- X\n    if (!y) \n        fit$y <- NULL\n    structure(c(fit, list(call = cal, formula = formula, terms = mt, \n        data = data, offset = offset, control = control, method = method, \n        contrasts = attr(X, \"contrasts\"), xlevels = .getXlevels(mt, \n            mf))), class = c(fit$class, c(\"glm\", \"lm\")))\n})(formula = \"outcome ~ gender+year+q+subfield_article+team_size+openaccess_status\", \n    family = structure(list(family = \"binomial\", link = \"logit\", \n        linkfun = function (mu) \n        .Call(C_logit_link, mu), linkinv = function (eta) \n        .Call(C_logit_linkinv, eta), variance = function (mu) \n        mu * (1 - mu), dev.resids = function (y, mu, wt) \n        .Call(C_binomial_dev_resids, y, mu, wt), aic = function (y, \n            n, mu, wt, dev) \n        {\n            m <- if (any(n > 1)) \n                n\n            else wt\n            -2 * sum(ifelse(m > 0, (wt/m), 0) * dbinom(round(m * \n                y), round(m), mu, log = TRUE))\n        }, mu.eta = function (eta) \n        .Call(C_logit_mu_eta, eta), initialize = {\n            if (NCOL(y) == 1) {\n                if (is.factor(y)) \n                  y <- y != levels(y)[1L]\n                n <- rep.int(1, nobs)\n                y[weights == 0] <- 0\n                if (any(y < 0 | y > 1)) \n                  stop(\"y values must be 0 <= y <= 1\")\n                mustart <- (weights * y + 0.5)/(weights + 1)\n                m <- weights * y\n                if (\"binomial\" == \"binomial\" && any(abs(m - round(m)) > \n                  0.001)) \n                  warning(gettextf(\"non-integer #successes in a %s glm!\", \n                    \"binomial\"), domain = NA)\n            }\n            else if (NCOL(y) == 2) {\n                if (\"binomial\" == \"binomial\" && any(abs(y - round(y)) > \n                  0.001)) \n                  warning(gettextf(\"non-integer counts in a %s glm!\", \n                    \"binomial\"), domain = NA)\n                n <- (y1 <- y[, 1L]) + y[, 2L]\n                y <- y1/n\n                if (any(n0 <- n == 0)) \n                  y[n0] <- 0\n                weights <- weights * n\n                mustart <- (n * y + 0.5)/(n + 1)\n            }\n            else stop(gettextf(\"for the '%s' family, y must be a vector of 0 and 1's\\nor a 2 column matrix where col 1 is no. successes and col 2 is no. failures\", \n                \"binomial\"), domain = NA)\n        }, validmu = function (mu) \n        all(is.finite(mu)) && all(mu > 0 & mu < 1), valideta = function (eta) \n        TRUE, simulate = function (object, nsim) \n        {\n            ftd <- fitted(object)\n            n <- length(ftd)\n            ntot <- n * nsim\n            wts <- object$prior.weights\n            if (any(wts%%1 != 0)) \n                stop(\"cannot simulate from non-integer prior.weights\")\n            if (!is.null(m <- object$model)) {\n                y <- model.response(m)\n                if (is.factor(y)) {\n                  yy <- factor(1 + rbinom(ntot, size = 1, prob = ftd), \n                    labels = levels(y))\n                  split(yy, rep(seq_len(nsim), each = n))\n                }\n                else if (is.matrix(y) && ncol(y) == 2) {\n                  yy <- vector(\"list\", nsim)\n                  for (i in seq_len(nsim)) {\n                    Y <- rbinom(n, size = wts, prob = ftd)\n                    YY <- cbind(Y, wts - Y)\n                    colnames(YY) <- colnames(y)\n                    yy[[i]] <- YY\n                  }\n                  yy\n                }\n                else rbinom(ntot, size = wts, prob = ftd)/wts\n            }\n            else rbinom(ntot, size = wts, prob = ftd)/wts\n        }), class = \"family\"), data = structure(list(Domain_English = c(\"Natural Sciences\", \n    \"Natural Sciences\", \"Natural Sciences\", \"Natural Sciences\", \n    \"Natural Sciences\", \"Natural Sciences\", \"Natural Sciences\", \n    \"Natural Sciences\", \"Natural Sciences\", \"Natural Sciences\", \n    \"Natural Sciences\", \"Natural Sciences\", \"Natural Sciences\", \n    \"Natural Sciences\", \"Natural Sciences\", \"Natural Sciences\", \n    \"Natural Sciences\", \"Natural Sciences\", \"Natural Sciences\", \n    \"Natural Sciences\", \"Natural Sciences\", \"Natural Sciences\", \n    \"Natural Sciences\", \"Natural Sciences\", \"Natural Sciences\", \n    \"Natural Sciences\", \"Natural Sciences\", \"Natural Sciences\", \n    \"Natural Sciences\", \"Natural Sciences\", \"Natural Sciences\", \n    \"Natural Sciences\", \"Natural Sciences\", \"Natural Sciences\", \n    \"Natural Sciences\", \"Natural Sciences\", \"Natural Sciences\", \n    \"Natural Sciences\", \"Natural Sciences\", \"Natural Sciences\", \n    \"Natural Sciences\", \"Natural Sciences\", \"Natural Sciences\", \n    \"Natural Sciences\", \"Natural Sciences\", \"Natural Sciences\", \n    \"Natural Sciences\", \"Natural Sciences\", \"Natural Sciences\", \n    \"Natural Sciences\", \"Natural Sciences\", \"Natural Sciences\", \n    \"Natural Sciences\", \"Natural Sciences\", \"Natural Sciences\", \n    \"Natural Sciences\", \"Natural Sciences\", \"Natural Sciences\", \n    \"Natural Sciences\", \"Natural Sciences\", \"Natural Sciences\", \n    \"Natural Sciences\", \"Natural Sciences\", \"Natural Sciences\", \n    \"Natural Sciences\", \"Natural Sciences\", \"Natural Sciences\", \n    \"Natural Sciences\", \"Natural Sciences\", \"Natural Sciences\", \n    \"Natural Sciences\", \"Natural Sciences\", \"Natural Sciences\", \n    \"Natural Sciences\", \"Natural Sciences\", \"Natural Sciences\", \n    \"Natural Sciences\", \"Natural Sciences\", \"Natural Sciences\", \n    \"Natural Sciences\", \"Natural Sciences\", \"Natural Sciences\", \n    \"Natural Sciences\", \"Natural Sciences\", \"Natural Sciences\", \n    \"Natural Sciences\", \"Natural Sciences\", \"Natural Sciences\", \n    \"Natural Sciences\", \"Natural Sciences\", \"Natural Sciences\", \n    \"Natural Sciences\", \"Natural Sciences\", \"Natural Sciences\", \n    \"Natural Sciences\", \"Natural Sciences\", \"Natural Sciences\", \n    \"Natural Sciences\", \"Natural Sciences\", \"Natural Sciences\", \n    \"Natural Sciences\", \"Natural Sciences\", \"Natural Sciences\", \n    \"Natural Sciences\", \"Natural Sciences\", \"Natural Sciences\", \n    \"Natural Sciences\", \"Natural Sciences\", \"Natural Sciences\", \n    \"Natural Sciences\", \"Natural Sciences\", \"Natural Sciences\", \n    \"Natural Sciences\", \"Natural Sciences\", \"Natural Sciences\", \n    \"Natural Sciences\", \"Natural Sciences\", \"Natural Sciences\", \n    \"Natural Sciences\", \"Natural Sciences\", \"Natural Sciences\", \n    \"Natural Sciences\", \"Natural Sciences\", \"Natural Sciences\", \n    \"Natural Sciences\", \"Natural Sciences\", \"Natural Sciences\", \n    \"Natural Sciences\", \"Natural Sciences\", \"Natural Sciences\", \n    \"Natural Sciences\", \"Natural Sciences\", \"Natural Sciences\", \n    \"Natural Sciences\", \"Natural Sciences\", \"Natural Sciences\", \n    \"Natural Sciences\", \"Natural Sciences\", \"Natural Sciences\", \n    \"Natural Sciences\", \"Natural Sciences\", \"Natural Sciences\", \n    \"Natural Sciences\", \"Natural Sciences\", \"Natural Sciences\", \n    \"Natural Sciences\", \"Natural Sciences\", \"Natural Sciences\", \n    \"Natural Sciences\", \"Natural Sciences\", \"Natural Sciences\", \n    \"Natural Sciences\", \"Natural Sciences\", \"Natural Sciences\", \n    \"Natural Sciences\", \"Natural Sciences\", \"Natural Sciences\", \n    \"Natural Sciences\", \"Natural Sciences\", \"Natural Sciences\", \n    \"Natural Sciences\", \"Natural Sciences\", \"Natural Sciences\", \n    \"Natural Sciences\", \"Natural Sciences\", \"Natural Sciences\", \n    \"Natural Sciences\", \"Natural Sciences\", \"Natural Sciences\", \n    \"Natural Sciences\", \"Natural Sciences\", \"Natural Sciences\", \n    \"Natural Sciences\", \"Natural Sciences\", \"Natural Sciences\", \n    \"Natural Sciences\", \"Natural Sciences\", \"Natural Sciences\", \n    \"Natural Sciences\", \"Natural Sciences\", \"Natural Sciences\", \n    \"Natural Sciences\", \"Natural Sciences\", \"Natural Sciences\", \n    \"Natural Sciences\", \"Natural Sciences\", \"Natural Sciences\", \n    \"Natural Sciences\", \"Natural Sciences\", \"Natural Sciences\", \n    \"Natural Sciences\", \"Natural Sciences\", \"Natural Sciences\", \n    \"Natural Sciences\", \"Natural Sciences\", \"Natural Sciences\", \n    \"Natural Sciences\", \"Natural Sciences\", \"Natural Sciences\", \n    \"Natural Sciences\", \"Natural Sciences\", \"Natural Sciences\", \n    \"Natural Sciences\", \"Natural Sciences\", \"Natural Sciences\", \n    \"Natural Sciences\", \"Natural Sciences\", \"Natural Sciences\", \n    \"Natural Sciences\", \"Natural Sciences\", \"Natural Sciences\", \n    \"Natural Sciences\", \"Natural Sciences\", \"Natural Sciences\", \n    \"Natural Sciences\", \"Natural Sciences\", \"Natural Sciences\", \n    \"Natural Sciences\", \"Natural Sciences\", \"Natural Sciences\", \n    \"Natural Sciences\", \"Natural Sciences\", \"Natural Sciences\", \n    \"Natural Sciences\", \"Natural Sciences\", \"Natural Sciences\", \n    \"Natural Sciences\", \"Natural Sciences\", \"Natural Sciences\", \n    \"Natural Sciences\", \"Natural Sciences\", \"Natural Sciences\", \n    \"Natural Sciences\", \"Natural Sciences\", \"Natural Sciences\", \n    \"Natural Sciences\", \"Natural Sciences\", \"Natural Sciences\", \n    \"Natural Sciences\", \"Natural Sciences\", \"Natural Sciences\", \n    \"Natural Sciences\", \"Natural Sciences\", \"Natural Sciences\", \n    \"Natural Sciences\", \"Natural Sciences\", \"Natural Sciences\", \n    \"Natural Sciences\", \"Natural Sciences\", \"Natural Sciences\", \n    \"Natural Sciences\", \"Natural Sciences\", \"Natural Sciences\", \n    \"Natural Sciences\", \"Natural Sciences\", \"Natural Sciences\", \n    \"Natural Sciences\", \"Natural Sciences\", \"Natural Sciences\", \n    \"Natural Sciences\", \"Natural Sciences\", \"Natural Sciences\", \n    \"Natural Sciences\", \"Natural Sciences\", \"Natural Sciences\", \n    \"Natural Sciences\", \"Natural Sciences\", \"Natural Sciences\", \n    \"Natural Sciences\", \"Natural Sciences\", \"Natural Sciences\", \n    \"Natural Sciences\", \"Natural Sciences\", \"Natural Sciences\", \n    \"Natural Sciences\", \"Natural Sciences\", \"Natural Sciences\", \n    \"Natural Sciences\", \"Natural Sciences\", \"Natural Sciences\", \n    \"Natural Sciences\", \"Natural Sciences\", \"Natural Sciences\", \n    \"Natural Sciences\", \"Natural Sciences\", \"Natural Sciences\", \n    \"Natural Sciences\", \"Natural Sciences\", \"Natural Sciences\", \n    \"Natural Sciences\", \"Natural Sciences\", \"Natural Sciences\", \n    \"Natural Sciences\", \"Natural Sciences\", \"Natural Sciences\", \n    \"Natural Sciences\", \"Natural Sciences\", \"Natural Sciences\", \n    \"Natural Sciences\", \"Natural Sciences\", \"Natural Sciences\", \n    \"Natural Sciences\", \"Natural Sciences\", \"Natural Sciences\", \n    \"Natural Sciences\", \"Natural Sciences\", \"Natural Sciences\", \n    \"Natural Sciences\", \"Natural Sciences\", \"Natural Sciences\", \n    \"Natural Sciences\", \"Natural Sciences\", \"Natural Sciences\", \n    \"Natural Sciences\", \"Natural Sciences\", \"Natural Sciences\", \n    \"Natural Sciences\", \"Natural Sciences\", \"Natural Sciences\", \n    \"Natural Sciences\", \"Natural Sciences\", \"Natural Sciences\", \n    \"Natural Sciences\", \"Natural Sciences\", \"Natural Sciences\", \n    \"Natural Sciences\", \"Natural Sciences\", \"Natural Sciences\", \n    \"Natural Sciences\", \"Natural Sciences\", \"Natural Sciences\", \n    \"Natural Sciences\", \"Natural Sciences\", \"Natural Sciences\", \n    \"Natural Sciences\", \"Natural Sciences\", \"Natural Sciences\", \n    \"Natural Sciences\", \"Natural Sciences\", \"Natural Sciences\", \n    \"Natural Sciences\", \"Natural Sciences\", \"Natural Sciences\", \n    \"Natural Sciences\", \"Natural Sciences\", \"Natural Sciences\", \n    \"Natural Sciences\", \"Natural Sciences\", \"Natural Sciences\", \n    \"Natural Sciences\", \"Natural Sciences\", \"Natural Sciences\", \n    \"Natural Sciences\", \"Natural Sciences\", \"Natural Sciences\", \n    \"Natural Sciences\", \"Natural Sciences\", \"Natural Sciences\", \n    \"Natural Sciences\", \"Natural Sciences\", \"Natural Sciences\", \n    \"Natural Sciences\", \"Natural Sciences\", \"Natural Sciences\", \n    \"Natural Sciences\", \"Natural Sciences\", \"Natural Sciences\", \n    \"Natural Sciences\", \"Natural Sciences\", \"Natural Sciences\", \n    \"Natural Sciences\", \"Natural Sciences\", \"Natural Sciences\", \n    \"Natural Sciences\", \"Natural Sciences\", \"Natural Sciences\", \n    \"Natural Sciences\", \"Natural Sciences\", \"Natural Sciences\", \n    \"Natural Sciences\", \"Natural Sciences\", \"Natural Sciences\", \n    \"Natural Sciences\", \"Natural Sciences\", \"Natural Sciences\", \n    \"Natural Sciences\", \"Natural Sciences\", \"Natural Sciences\", \n    \"Natural Sciences\", \"Natural Sciences\", \"Natural Sciences\", \n    \"Natural Sciences\", \"Natural Sciences\", \"Natural Sciences\", \n    \"Natural Sciences\", \"Natural Sciences\", \"Natural Sciences\", \n    \"Natural Sciences\", \"Natural Sciences\", \"Natural Sciences\", \n    \"Natural Sciences\", \"Natural Sciences\", \"Natural Sciences\", \n    \"Natural Sciences\", \"Natural Sciences\", \"Natural Sciences\", \n    \"Natural Sciences\", \"Natural Sciences\", \"Natural Sciences\", \n    \"Natural Sciences\", \"Natural Sciences\", \"Natural Sciences\", \n    \"Natural Sciences\", \"Natural Sciences\", \"Natural Sciences\", \n    \"Natural Sciences\", \"Natural Sciences\", \"Natural Sciences\", \n    \"Natural Sciences\", \"Natural Sciences\", \"Natural Sciences\", \n    \"Natural Sciences\", \"Natural Sciences\", \"Natural Sciences\", \n    \"Natural Sciences\", \"Natural Sciences\", \"Natural Sciences\", \n    \"Natural Sciences\", \"Natural Sciences\", \"Natural Sciences\", \n    \"Natural Sciences\", \"Natural Sciences\", \"Natural Sciences\", \n    \"Natural Sciences\", \"Natural Sciences\", \"Natural Sciences\", \n    \"Natural Sciences\", \"Natural Sciences\", \"Natural Sciences\", \n    \"Natural Sciences\", \"Natural Sciences\", \"Natural Sciences\", \n    \"Natural Sciences\", \"Natural Sciences\", \"Natural Sciences\", \n    \"Natural Sciences\", \"Natural Sciences\", \"Natural Sciences\", \n    \"Natural Sciences\", \"Natural Sciences\", \"Natural Sciences\", \n    \"Natural Sciences\", \"Natural Sciences\", \"Natural Sciences\", \n    \"Natural Sciences\", \"Natural Sciences\", \"Natural Sciences\", \n    \"Natural Sciences\", \"Natural Sciences\", \"Natural Sciences\", \n    \"Natural Sciences\", \"Natural Sciences\", \"Natural Sciences\", \n    \"Natural Sciences\", \"Natural Sciences\", \"Natural Sciences\", \n    \"Natural Sciences\", \"Natural Sciences\", \"Natural Sciences\", \n    \"Natural Sciences\", \"Natural Sciences\", \"Natural Sciences\", \n    \"Natural Sciences\", \"Natural Sciences\", \"Natural Sciences\", \n    \"Natural Sciences\", \"Natural Sciences\", \"Natural Sciences\", \n    \"Natural Sciences\", \"Natural Sciences\", \"Natural Sciences\", \n    \"Natural Sciences\", \"Natural Sciences\", \"Natural Sciences\", \n    \"Natural Sciences\", \"Natural Sciences\", \"Natural Sciences\", \n    \"Natural Sciences\", \"Natural Sciences\", \"Natural Sciences\", \n    \"Natural Sciences\", \"Natural Sciences\", \"Natural Sciences\", \n    \"Natural Sciences\", \"Natural Sciences\", \"Natural Sciences\", \n    \"Natural Sciences\", \"Natural Sciences\", \"Natural Sciences\", \n    \"Natural Sciences\", \"Natural Sciences\", \"Natural Sciences\", \n    \"Natural Sciences\", \"Natural Sciences\", \"Natural Sciences\", \n    \"Natural Sciences\", \"Natural Sciences\", \"Natural Sciences\", \n    \"Natural Sciences\", \"Natural Sciences\", \"Natural Sciences\", \n    \"Natural Sciences\", \"Natural Sciences\", \"Natural Sciences\", \n    \"Natural Sciences\", \"Natural Sciences\", \"Natural Sciences\", \n    \"Natural Sciences\", \"Natural Sciences\", \"Natural Sciences\", \n    \"Natural Sciences\", \"Natural Sciences\", \"Natural Sciences\", \n    \"Natural Sciences\", \"Natural Sciences\", \"Natural Sciences\", \n    \"Natural Sciences\", \"Natural Sciences\", \"Natural Sciences\", \n    \"Natural Sciences\", \"Natural Sciences\", \"Natural Sciences\", \n    \"Natural Sciences\", \"Natural Sciences\", \"Natural Sciences\", \n    \"Natural Sciences\", \"Natural Sciences\", \"Natural Sciences\", \n    \"Natural Sciences\", \"Natural Sciences\", \"Natural Sciences\", \n    \"Natural Sciences\", \"Natural Sciences\", \"Natural Sciences\", \n    \"Natural Sciences\", \"Natural Sciences\", \"Natural Sciences\", \n    \"Natural Sciences\", \"Natural Sciences\", \"Natural Sciences\", \n    \"Natural Sciences\", \"Natural Sciences\", \"Natural Sciences\", \n    \"Natural Sciences\", \"Natural Sciences\", \"Natural Sciences\", \n    \"Natural Sciences\", \"Natural Sciences\", \"Natural Sciences\", \n    \"Natural Sciences\", \"Natural Sciences\", \"Natural Sciences\", \n    \"Natural Sciences\", \"Natural Sciences\", \"Natural Sciences\", \n    \"Natural Sciences\", \"Natural Sciences\", \"Natural Sciences\", \n    \"Natural Sciences\", \"Natural Sciences\", \"Natural Sciences\", \n    \"Natural Sciences\", \"Natural Sciences\", \"Natural Sciences\", \n    \"Natural Sciences\", \"Natural Sciences\", \"Natural Sciences\", \n    \"Natural Sciences\", \"Natural Sciences\", \"Natural Sciences\", \n    \"Natural Sciences\", \"Natural Sciences\", \"Natural Sciences\", \n    \"Natural Sciences\", \"Natural Sciences\", \"Natural Sciences\", \n    \"Natural Sciences\", \"Natural Sciences\", \"Natural Sciences\", \n    \"Natural Sciences\", \"Natural Sciences\", \"Natural Sciences\", \n    \"Natural Sciences\", \"Natural Sciences\", \"Natural Sciences\", \n    \"Natural Sciences\", \"Natural Sciences\", \"Natural Sciences\", \n    \"Natural Sciences\", \"Natural Sciences\", \"Natural Sciences\", \n    \"Natural Sciences\", \"Natural Sciences\", \"Natural Sciences\", \n    \"Natural Sciences\", \"Natural Sciences\", \"Natural Sciences\", \n    \"Natural Sciences\", \"Natural Sciences\", \"Natural Sciences\", \n    \"Natural Sciences\", \"Natural Sciences\", \"Natural Sciences\", \n    \"Natural Sciences\", \"Natural Sciences\", \"Natural Sciences\", \n    \"Natural Sciences\", \"Natural Sciences\", \"Natural Sciences\", \n    \"Natural Sciences\", \"Natural Sciences\", \"Natural Sciences\", \n    \"Natural Sciences\", \"Natural Sciences\", \"Natural Sciences\", \n    \"Natural Sciences\", \"Natural Sciences\", \"Natural Sciences\", \n    \"Natural Sciences\", \"Natural Sciences\", \"Natural Sciences\", \n    \"Natural Sciences\", \"Natural Sciences\", \"Natural Sciences\", \n    \"Natural Sciences\", \"Natural Sciences\", \"Natural Sciences\", \n    \"Natural Sciences\", \"Natural Sciences\", \"Natural Sciences\", \n    \"Natural Sciences\", \"Natural Sciences\", \"Natural Sciences\", \n    \"Natural Sciences\", \"Natural Sciences\", \"Natural Sciences\", \n    \"Natural Sciences\", \"Natural Sciences\", \"Natural Sciences\", \n    \"Natural Sciences\", \"Natural Sciences\", \"Natural Sciences\", \n    \"Natural Sciences\", \"Natural Sciences\", \"Natural Sciences\", \n    \"Natural Sciences\", \"Natural Sciences\", \"Natural Sciences\", \n    \"Natural Sciences\", \"Natural Sciences\", \"Natural Sciences\", \n    \"Natural Sciences\", \"Natural Sciences\", \"Natural Sciences\", \n    \"Natural Sciences\", \"Natural Sciences\", \"Natural Sciences\", \n    \"Natural Sciences\", \"Natural Sciences\", \"Natural Sciences\", \n    \"Natural Sciences\", \"Natural Sciences\", \"Natural Sciences\", \n    \"Natural Sciences\", \"Natural Sciences\", \"Natural Sciences\", \n    \"Natural Sciences\", \"Natural Sciences\", \"Natural Sciences\", \n    \"Natural Sciences\", \"Natural Sciences\", \"Natural Sciences\", \n    \"Natural Sciences\", \"Natural Sciences\", \"Natural Sciences\", \n    \"Natural Sciences\", \"Natural Sciences\", \"Natural Sciences\", \n    \"Natural Sciences\", \"Natural Sciences\", \"Natural Sciences\", \n    \"Natural Sciences\", \"Natural Sciences\", \"Natural Sciences\", \n    \"Natural Sciences\", \"Natural Sciences\", \"Natural Sciences\", \n    \"Natural Sciences\", \"Natural Sciences\", \"Natural Sciences\", \n    \"Natural Sciences\", \"Natural Sciences\", \"Natural Sciences\", \n    \"Natural Sciences\", \"Natural Sciences\", \"Natural Sciences\", \n    \"Natural Sciences\", \"Natural Sciences\", \"Natural Sciences\", \n    \"Natural Sciences\", \"Natural Sciences\", \"Natural Sciences\", \n    \"Natural Sciences\", \"Natural Sciences\", \"Natural Sciences\", \n    \"Natural Sciences\", \"Natural Sciences\", \"Natural Sciences\", \n    \"Natural Sciences\", \"Natural Sciences\", \"Natural Sciences\", \n    \"Natural Sciences\", \"Natural Sciences\", \"Natural Sciences\", \n    \"Natural Sciences\", \"Natural Sciences\", \"Natural Sciences\", \n    \"Natural Sciences\", \"Natural Sciences\", \"Natural Sciences\", \n    \"Natural Sciences\", \"Natural Sciences\", \"Natural Sciences\", \n    \"Natural Sciences\", \"Natural Sciences\", \"Natural Sciences\", \n    \"Natural Sciences\", \"Natural Sciences\", \"Natural Sciences\", \n    \"Natural Sciences\", \"Natural Sciences\", \"Natural Sciences\", \n    \"Natural Sciences\", \"Natural Sciences\", \"Natural Sciences\", \n    \"Natural Sciences\", \"Natural Sciences\", \"Natural Sciences\", \n    \"Natural Sciences\", \"Natural Sciences\", \"Natural Sciences\", \n    \"Natural Sciences\", \"Natural Sciences\", \"Natural Sciences\", \n    \"Natural Sciences\", \"Natural Sciences\", \"Natural Sciences\", \n    \"Natural Sciences\", \"Natural Sciences\", \"Natural Sciences\", \n    \"Natural Sciences\", \"Natural Sciences\", \"Natural Sciences\", \n    \"Natural Sciences\", \"Natural Sciences\", \"Natural Sciences\", \n    \"Natural Sciences\", \"Natural Sciences\", \"Natural Sciences\", \n    \"Natural Sciences\", \"Natural Sciences\", \"Natural Sciences\", \n    \"Natural Sciences\", \"Natural Sciences\", \"Natural Sciences\", \n    \"Natural Sciences\", \"Natural Sciences\", \"Natural Sciences\", \n    \"Natural Sciences\", \"Natural Sciences\", \"Natural Sciences\", \n    \"Natural Sciences\", \"Natural Sciences\", \"Natural Sciences\", \n    \"Natural Sciences\", \"Natural Sciences\", \"Natural Sciences\", \n    \"Natural Sciences\", \"Natural Sciences\", \"Natural Sciences\", \n    \"Natural Sciences\", \"Natural Sciences\", \"Natural Sciences\", \n    \"Natural Sciences\", \"Natural Sciences\", \"Natural Sciences\", \n    \"Natural Sciences\", \"Natural Sciences\", \"Natural Sciences\", \n    \"Natural Sciences\", \"Natural Sciences\", \"Natural Sciences\", \n    \"Natural Sciences\", \"Natural Sciences\", \"Natural Sciences\", \n    \"Natural Sciences\", \"Natural Sciences\", \"Natural Sciences\", \n    \"Natural Sciences\", \"Natural Sciences\", \"Natural\n\n*** WARNING: max output size exceeded, skipping output. ***\n\n, \"968112\", \"968117\", \"968128\", \"968133\", \"968136\", \n    \"968178\", \"968188\", \"968192\", \"968195\", \"968205\", \"968210\", \n    \"968213\", \"968217\", \"968230\", \"968231\", \"968242\", \"968243\", \n    \"968257\", \"968277\", \"968283\", \"968290\", \"968301\", \"968302\", \n    \"968303\", \"968311\", \"968314\", \"968323\", \"968324\", \"968334\", \n    \"968339\", \"968340\", \"968342\", \"968349\", \"968404\", \"968427\", \n    \"968428\", \"968431\", \"968437\", \"968438\", \"968478\", \"968479\", \n    \"968485\", \"968492\", \"968493\", \"968498\", \"968518\", \"968520\", \n    \"968521\", \"968529\", \"968530\", \"968534\", \"968556\", \"968558\", \n    \"968568\", \"968620\", \"968647\", \"968652\", \"968658\", \"968662\", \n    \"968665\", \"968667\", \"968706\", \"968707\", \"968710\", \"968714\", \n    \"968717\", \"968718\", \"968723\", \"968724\", \"968728\", \"968756\", \n    \"968760\", \"968762\", \"968769\", \"968792\", \"968836\", \"968845\", \n    \"968849\", \"968856\", \"968859\", \"968860\", \"968861\", \"968865\", \n    \"968870\", \"968871\", \"968891\", \"968894\", \"968909\", \"968921\", \n    \"968923\", \"968940\", \"968943\", \"968950\", \"968963\", \"968964\", \n    \"968968\", \"968969\", \"968971\", \"968998\", \"969004\", \"969011\", \n    \"969012\", \"969039\", \"969045\", \"969056\", \"969066\", \"969069\", \n    \"969074\", \"969104\", \"969113\", \"969114\", \"969115\", \"969131\", \n    \"969135\", \"969149\", \"969155\", \"969169\", \"969170\", \"969173\", \n    \"969175\", \"969181\", \"969191\", \"969193\", \"969195\", \"969204\", \n    \"969213\", \"969221\", \"969225\", \"969232\", \"969233\", \"969234\", \n    \"969235\", \"969244\", \"969246\", \"969254\", \"969260\", \"969269\", \n    \"969273\", \"969274\", \"969311\", \"969314\", \"969318\", \"969343\", \n    \"969352\", \"969384\", \"969388\", \"969389\", \"969398\", \"969406\", \n    \"969409\", \"969416\", \"969419\", \"969420\", \"969421\", \"969432\", \n    \"969442\", \"969446\", \"969460\", \"969468\", \"969470\", \"969471\", \n    \"969488\", \"969493\", \"969497\", \"969498\", \"969507\", \"969520\", \n    \"969527\", \"969544\", \"969545\", \"969546\", \"969556\", \"969560\", \n    \"969561\", \"969573\", \"969574\", \"969575\", \"969576\", \"969577\", \n    \"969579\", \"969592\", \"969593\", \"969595\", \"969602\", \"969620\", \n    \"969623\", \"969627\", \"969630\", \"969651\", \"969652\", \"969655\", \n    \"969658\", \"969660\", \"969669\", \"969682\", \"969699\", \"969708\", \n    \"969709\", \"969720\", \"969724\", \"969728\", \"969729\", \"969749\", \n    \"969767\", \"969775\", \"969788\", \"969809\", \"969814\", \"969819\", \n    \"969821\", \"969831\", \"969832\", \"969849\", \"969854\", \"969861\", \n    \"969868\", \"969872\", \"969881\", \"969882\", \"969886\", \"969921\", \n    \"969925\", \"969934\", \"969936\", \"969937\", \"969940\", \"969946\", \n    \"969959\", \"969963\", \"969973\", \"969979\", \"969989\", \"969990\", \n    \"969993\", \"969999\", \"970000\", \"970004\", \"970007\", \"970009\", \n    \"970015\", \"970018\", \"970035\", \"970043\", \"970056\", \"970073\", \n    \"970079\", \"970083\", \"970090\", \"970106\", \"970111\")), weights = c(0.224658709565819, \n    0.842470160871821, 0.0886810695654549, 0.153176392885786, \n    0.160470506832728, 0.153176392885786, 0.0886810695654549, \n    0.0886810695654549, 0.160470506832728, 0.224658709565819, \n    0.842470160871821, 0.160470506832728, 1, 0.842470160871821, \n    0.561646773914548, 3.36988064348729, 1, 0.0886810695654549, \n    0.153176392885786, 0.0886810695654549, 0.0886810695654549, \n    0.0886810695654549, 1.68494032174364, 0.0886810695654549, \n    0.153176392885786, 0.160470506832728, 0.153176392885786, \n    0.0886810695654549, 0.224658709565819, 0.160470506832728, \n    0.160470506832728, 0.160470506832728, 0.0886810695654549, \n    0.0886810695654549, 0.160470506832728, 0.224658709565819, \n    0.0886810695654549, 0.224658709565819, 0.224658709565819, \n    0.224658709565819, 0.0886810695654549, 1, 0.561646773914548, \n    3.36988064348729, 0.160470506832728, 0.0886810695654549, \n    0.0886810695654549, 0.0886810695654549, 0.160470506832728, \n    3.36988064348729, 0.0886810695654549, 1, 0.160470506832728, \n    0.160470506832728, 0.160470506832728, 0.0886810695654549, \n    1, 0.0886810695654549, 0.0886810695654549, 0.0886810695654549, \n    0.153176392885786, 0.160470506832728, 0.153176392885786, \n    0.160470506832728, 1, 0.224658709565819, 0.153176392885786, \n    0.0886810695654549, 0.160470506832728, 0.561646773914548, \n    0.153176392885786, 0.224658709565819, 0.224658709565819, \n    0.224658709565819, 0.224658709565819, 0.153176392885786, \n    0.153176392885786, 0.0886810695654549, 0.0886810695654549, \n    0.160470506832728, 1, 0.0886810695654549, 0.0886810695654549, \n    0.153176392885786, 0.561646773914548, 1.68494032174364, 0.160470506832728, \n    1, 0.153176392885786, 0.153176392885786, 0.153176392885786, \n    0.561646773914548, 0.0886810695654549, 0.0886810695654549, \n    0.0886810695654549, 0.0886810695654549, 1, 0.153176392885786, \n    0.153176392885786, 0.0886810695654549, 0.0886810695654549, \n    0.160470506832728, 0.561646773914548, 0.153176392885786, \n    0.0886810695654549, 0.224658709565819, 0.0886810695654549, \n    0.160470506832728, 0.224658709565819, 1, 0.153176392885786, \n    0.153176392885786, 0.160470506832728, 0.153176392885786, \n    0.153176392885786, 0.0886810695654549, 0.842470160871821, \n    0.224658709565819, 0.0886810695654549, 0.0886810695654549, \n    0.0886810695654549, 0.0910778552293861, 0.0821922108167631, \n    0.0821922108167631, 0.0910778552293861, 0.0821922108167631, \n    0.0821922108167631, 0.0910778552293861, 0.0821922108167631, \n    0.0821922108167631, 0.0821922108167631, 0.0910778552293861, \n    0.0910778552293861, 1, 0.0910778552293861, 0.673976128697457, \n    0.0910778552293861, 1.1232935478291, 0.0821922108167631, \n    0.0821922108167631, 1, 0.0821922108167631, 0.0910778552293861, \n    0.561646773914548, 0.0821922108167631, 1.68494032174364, \n    0.842470160871821, 0.0910778552293861, 0.0821922108167631, \n    0.0910778552293861, 0.0910778552293861, 0.0821922108167631, \n    0.842470160871821, 1, 0.0910778552293861, 0.0910778552293861, \n    0.0821922108167631, 0.0910778552293861, 0.0821922108167631, \n    0.0821922108167631, 0.0821922108167631, 0.561646773914548, \n    0.0910778552293861, 0.0910778552293861, 0.0821922108167631, \n    0.0910778552293861, 0.561646773914548, 0.0910778552293861, \n    0.0821922108167631, 0.0821922108167631, 0.673976128697457, \n    1.68494032174364, 0.0821922108167631, 0.0910778552293861, \n    1, 1, 0.0910778552293861, 0.0821922108167631, 0.0821922108167631, \n    0.0910778552293861, 0.0821922108167631, 0.0910778552293861, \n    0.842470160871821, 0.673976128697457, 0.842470160871821, \n    0.0821922108167631, 0.0821922108167631, 0.0821922108167631, \n    0.0910778552293861, 0.0910778552293861, 0.0910778552293861, \n    0.0821922108167631, 0.673976128697457, 0.0910778552293861, \n    0.0910778552293861, 0.673976128697457, 0.0821922108167631, \n    1, 0.0821922108167631, 0.0910778552293861, 0.0910778552293861, \n    1.1232935478291, 0.0821922108167631, 0.561646773914548, 0.0910778552293861, \n    0.0910778552293861, 0.0821922108167631, 0.0910778552293861, \n    0.0821922108167631, 0.0910778552293861, 0.0910778552293861, \n    0.0821922108167631, 0.0910778552293861, 1.1232935478291, \n    1, 0.0910778552293861, 0.0821922108167631, 0.0910778552293861, \n    0.0821922108167631, 0.0821922108167631, 0.0821922108167631, \n    0.0821922108167631, 0.561646773914548, 0.0821922108167631, \n    0.0821922108167631, 0.561646773914548, 0.224658709565819, \n    0.224658709565819, 0.224658709565819, 0.224658709565819, \n    0.842470160871821, 0.224658709565819, 0.224658709565819, \n    0.224658709565819, 0.224658709565819, 0.224658709565819, \n    0.224658709565819, 0.842470160871821, 0.842470160871821, \n    1, 0.842470160871821, 0.224658709565819, 1, 0.224658709565819, \n    0.224658709565819, 0.224658709565819, 0.224658709565819, \n    0.198228273146311, 0.229764589328679, 0.11232935478291, 0.17736213913091, \n    0.306352785771571, 1, 0.17736213913091, 1, 0.140411693478637, \n    0.229764589328679, 0.198228273146311, 0.561646773914548, \n    0.0962823040996367, 0.168494032174364, 1, 0.198228273146311, \n    0.0702058467393185, 0.229764589328679, 1, 1.68494032174364, \n    0.421235080435911, 0.0910778552293861, 0.0702058467393185, \n    1, 0.421235080435911, 3.36988064348729, 0.336988064348729, \n    0.0910778552293861, 0.146516549716839, 0.146516549716839, \n    0.146516549716839, 0.198228273146311, 0.280823386957274, \n    1.1232935478291, 0.421235080435911, 0.0962823040996367, 0.481411520498184, \n    0.140411693478637, 0.0864071959868535, 0.0864071959868535, \n    0.280823386957274, 0.842470160871821, 0.0702058467393185, \n    0.11232935478291, 3.36988064348729, 1, 1, 0.198228273146311, \n    0.168494032174364, 0.421235080435911, 0.0864071959868535, \n    0.673976128697457, 3.36988064348729, 0.0910778552293861, \n    0.17736213913091, 0.0702058467393185, 0.0962823040996367, \n    0.0702058467393185, 0.198228273146311, 0.140411693478637, \n    0.0864071959868535, 0.140411693478637, 0.421235080435911, \n    0.336988064348729, 0.146516549716839, 0.0864071959868535, \n    0.198228273146311, 0.0910778552293861, 0.0910778552293861, \n    0.17736213913091, 0.140411693478637, 0.146516549716839, 0.168494032174364, \n    0.0962823040996367, 1, 0.198228273146311, 0.336988064348729, \n    0.0864071959868535, 0.146516549716839, 0.11232935478291, \n    0.0962823040996367, 0.306352785771571, 3.36988064348729, \n    1, 0.842470160871821, 0.421235080435911, 0.146516549716839, \n    0.0864071959868535, 0.146516549716839, 0.229764589328679, \n    0.0910778552293861, 1, 1, 0.229764589328679, 0.0702058467393185, \n    0.229764589328679, 0.421235080435911, 0.168494032174364, \n    1.68494032174364, 0.11232935478291, 0.168494032174364, 0.198228273146311, \n    1.1232935478291, 0.11232935478291, 1, 0.0702058467393185, \n    0.140411693478637, 0.140411693478637, 0.421235080435911, \n    0.229764589328679, 0.421235080435911, 1.1232935478291, 0.421235080435911, \n    0.421235080435911, 0.146516549716839, 0.229764589328679, \n    0.0864071959868535, 1.68494032174364, 0.336988064348729, \n    0.17736213913091, 0.0910778552293861, 1, 0.481411520498184, \n    0.0864071959868535, 0.280823386957274, 0.140411693478637, \n    0.336988064348729, 1.68494032174364, 0.146516549716839, 0.0702058467393185, \n    1, 0.0702058467393185, 0.0962823040996367, 3.36988064348729, \n    0.842470160871821, 0.229764589328679, 0.306352785771571, \n    0.0962823040996367, 0.336988064348729, 3.36988064348729, \n    0.140411693478637, 1, 0.0864071959868535, 1, 0.336988064348729, \n    0.0864071959868535, 3.36988064348729, 0.306352785771571, \n    1, 0.336988064348729, 0.229764589328679, 0.229764589328679, \n    0.280823386957274, 0.146516549716839, 0.11232935478291, 0.842470160871821, \n    1, 0.140411693478637, 0.0962823040996367, 0.25922158796056, \n    0.0864071959868535, 0.0864071959868535, 0.0702058467393185, \n    0.0864071959868535, 0.0962823040996367, 0.11232935478291, \n    0.0864071959868535, 1, 1, 0.306352785771571, 1, 0.140411693478637, \n    0.146516549716839, 1, 0.229764589328679, 1, 1.1232935478291, \n    0.421235080435911, 0.229764589328679, 0.421235080435911, \n    0.421235080435911, 0.0702058467393185, 0.306352785771571, \n    0.198228273146311, 0.306352785771571, 0.481411520498184, \n    0.0864071959868535, 0.0702058467393185, 0.306352785771571, \n    0.168494032174364, 0.0864071959868535, 0.0864071959868535, \n    0.842470160871821, 0.198228273146311, 0.229764589328679, \n    0.146516549716839, 0.421235080435911, 0.280823386957274, \n    0.842470160871821, 0.421235080435911, 1, 1.68494032174364, \n    1, 0.140411693478637, 0.0864071959868535, 0.229764589328679, \n    0.0702058467393185, 0.140411693478637, 0.11232935478291, \n    1.68494032174364, 0.0864071959868535, 0.336988064348729, \n    0.421235080435911, 0.168494032174364, 0.140411693478637, \n    0.140411693478637, 0.336988064348729, 6.73976128697457, 0.0864071959868535, \n    0.140411693478637, 1, 3.36988064348729, 0.11232935478291, \n    0.146516549716839, 0.229764589328679, 0.0702058467393185, \n    0.0962823040996367, 0.146516549716839, 0.842470160871821, \n    0.140411693478637, 0.0962823040996367, 0.336988064348729, \n    0.229764589328679, 0.17736213913091, 0.140411693478637, 3.36988064348729, \n    0.11232935478291, 0.421235080435911, 0.0864071959868535, \n    0.146516549716839, 0.168494032174364, 0.0864071959868535, \n    0.25922158796056, 0.306352785771571, 0.0702058467393185, \n    0.140411693478637, 0.842470160871821, 0.140411693478637, \n    0.25922158796056, 0.11232935478291, 0.146516549716839, 0.336988064348729, \n    0.11232935478291, 0.0702058467393185, 0.0864071959868535, \n    0.140411693478637, 0.421235080435911, 0.0962823040996367, \n    3.36988064348729, 0.0962823040996367, 0.336988064348729, \n    0.421235080435911, 0.421235080435911, 0.146516549716839, \n    0.421235080435911, 0.0864071959868535, 0.0702058467393185, \n    0.0864071959868535, 0.842470160871821, 0.561646773914548, \n    0.0910778552293861, 1, 0.561646773914548, 0.146516549716839, \n    0.0910778552293861, 0.229764589328679, 1.68494032174364, \n    0.336988064348729, 1, 1, 0.198228273146311, 0.336988064348729, \n    0.336988064348729, 0.229764589328679, 0.0864071959868535, \n    0.842470160871821, 0.306352785771571, 0.229764589328679, \n    0.0702058467393185, 1.68494032174364, 0.146516549716839, \n    0.306352785771571, 0.198228273146311, 0.168494032174364, \n    0.229764589328679, 1, 0.146516549716839, 0.336988064348729, \n    0.336988064348729, 0.0910778552293861, 0.11232935478291, \n    0.17736213913091, 0.229764589328679, 1.1232935478291, 0.336988064348729, \n    0.198228273146311, 0.0702058467393185, 0.17736213913091, \n    1, 1, 0.421235080435911, 0.168494032174364, 1, 0.842470160871821, \n    0.168494032174364, 0.0962823040996367, 0.0910778552293861, \n    1, 0.0910778552293861, 0.0962823040996367, 0.0962823040996367, \n    0.421235080435911, 0.198228273146311, 0.17736213913091, 0.336988064348729, \n    0.842470160871821, 1.68494032174364, 1, 1, 0.336988064348729, \n    0.0910778552293861, 1.68494032174364, 0.0864071959868535, \n    0.198228273146311, 0.0702058467393185, 0.0864071959868535, \n    0.11232935478291, 0.0910778552293861, 0.0864071959868535, \n    0.146516549716839, 1.68494032174364, 0.198228273146311, 0.140411693478637, \n    0.140411693478637, 0.198228273146311, 0.146516549716839, \n    0.11232935478291, 1.68494032174364, 0.336988064348729, 0.146516549716839, \n    0.0864071959868535, 0.0702058467393185, 0.421235080435911, \n    0.198228273146311, 0.198228273146311, 0.0702058467393185, \n    1, 0.11232935478291, 0.0702058467393185, 0.17736213913091, \n    0.198228273146311, 0.17736213913091, 0.280823386957274, 0.336988064348729, \n    0.25922158796056, 0.25922158796056, 0.229764589328679, 0.229764589328679, \n    0.561646773914548, 0.140411693478637, 1, 0.198228273146311, \n    0.0864071959868535, 0.0864071959868535, 0.146516549716839, \n    0.168494032174364, 0.25922158796056, 0.0962823040996367, \n    0.0910778552293861, 0.561646773914548, 0.229764589328679, \n    1, 1, 0.842470160871821, 0.229764589328679, 0.140411693478637, \n    1.68494032174364, 0.336988064348729, 3.36988064348729, 0.306352785771571, \n    0.0702058467393185, 0.421235080435911, 0.0910778552293861, \n    0.0962823040996367, 1, 1.68494032174364, 0.11232935478291, \n    0.0702058467393185, 0.140411693478637, 0.0864071959868535, \n    0.11232935478291, 0.306352785771571, 0.146516549716839, 0.17736213913091, \n    0.280823386957274, 0.0864071959868535, 0.561646773914548, \n    0.146516549716839, 0.561646773914548, 0.336988064348729, \n    0.336988064348729, 0.0962823040996367, 1, 0.168494032174364, \n    0.140411693478637, 1, 0.0864071959868535, 0.140411693478637, \n    0.336988064348729, 0.229764589328679, 0.229764589328679, \n    0.481411520498184, 0.11232935478291, 0.0962823040996367, \n    0.25922158796056, 0.0962823040996367, 0.146516549716839, \n    1, 0.11232935478291, 0.198228273146311, 0.0864071959868535, \n    0.561646773914548, 0.229764589328679, 0.0962823040996367, \n    0.0864071959868535, 0.146516549716839, 0.421235080435911, \n    0.198228273146311, 0.0702058467393185, 0.0702058467393185, \n    1, 0.0910778552293861, 1, 0.0864071959868535, 0.25922158796056, \n    0.0702058467393185, 0.229764589328679, 0.198228273146311, \n    1, 1, 1.68494032174364, 0.0910778552293861, 1, 0.421235080435911, \n    1.68494032174364, 0.146516549716839, 0.280823386957274, 0.336988064348729, \n    0.336988064348729, 0.0864071959868535, 1.68494032174364, \n    0.146516549716839, 0.842470160871821, 0.168494032174364, \n    0.168494032174364, 0.25922158796056, 0.146516549716839, 0.0864071959868535, \n    0.0864071959868535, 0.0864071959868535, 0.306352785771571, \n    0.842470160871821, 0.306352785771571, 0.842470160871821, \n    0.0864071959868535, 0.336988064348729, 0.481411520498184, \n    1.68494032174364, 0.0864071959868535, 1, 1, 0.168494032174364, \n    0.140411693478637, 0.0910778552293861, 0.229764589328679, \n    1, 0.280823386957274, 0.421235080435911, 0.146516549716839, \n    1.68494032174364, 0.0910778552293861, 0.0910778552293861, \n    0.421235080435911, 0.0702058467393185, 0.198228273146311, \n    0.0910778552293861, 0.0702058467393185, 0.0910778552293861, \n    0.336988064348729, 0.842470160871821, 0.336988064348729, \n    0.336988064348729, 0.336988064348729, 1, 0.140411693478637, \n    3.36988064348729, 0.673976128697457, 0.842470160871821, 0.140411693478637, \n    0.0702058467393185, 0.229764589328679, 0.140411693478637, \n    0.140411693478637, 0.842470160871821, 0.25922158796056, 0.17736213913091, \n    0.842470160871821, 1, 0.336988064348729, 0.336988064348729, \n    0.0864071959868535, 0.481411520498184, 0.673976128697457, \n    0.336988064348729, 0.140411693478637, 0.0702058467393185, \n    0.11232935478291, 0.146516549716839, 0.842470160871821, 0.421235080435911, \n    0.306352785771571, 0.842470160871821, 0.561646773914548, \n    0.0864071959868535, 0.561646773914548, 0.842470160871821, \n    1, 0.0702058467393185, 0.229764589328679, 0.336988064348729, \n    0.0962823040996367, 0.146516549716839, 0.146516549716839, \n    0.146516549716839, 0.140411693478637, 0.0962823040996367, \n    0.11232935478291, 0.0864071959868535, 1, 0.0864071959868535, \n    0.0864071959868535, 0.336988064348729, 1, 0.336988064348729, \n    0.336988064348729, 1, 0.146516549716839, 0.17736213913091, \n    0.17736213913091, 0.229764589328679, 0.146516549716839, 1.68494032174364, \n    0.306352785771571, 0.0910778552293861, 0.0910778552293861, \n    0.0864071959868535, 0.0962823040996367, 0.336988064348729, \n    0.17736213913091, 0.306352785771571, 0.0962823040996367, \n    0.0702058467393185, 0.168494032174364, 0.0910778552293861, \n    0.0702058467393185, 0.0910778552293861, 0.0702058467393185, \n    0.0864071959868535, 0.0864071959868535, 0.140411693478637, \n    0.17736213913091, 0.11232935478291, 0.280823386957274, 0.140411693478637, \n    0.336988064348729, 0.0864071959868535, 0.25922158796056, \n    0.140411693478637, 0.336988064348729, 0.336988064348729, \n    0.0864071959868535, 0.673976128697457, 0.336988064348729, \n    0.842470160871821, 0.421235080435911, 0.0910778552293861, \n    3.36988064348729, 0.146516549716839, 0.842470160871821, 0.0962823040996367, \n    0.0702058467393185, 0.0962823040996367, 0.0702058467393185, \n    1, 0.0962823040996367, 0.11232935478291, 0.11232935478291, \n    3.36988064348729, 0.0864071959868535, 0.140411693478637, \n    0.17736213913091, 0.306352785771571, 0.0864071959868535, \n    1, 0.0702058467393185, 0.0962823040996367, 0.336988064348729, \n    0.140411693478637, 0.0864071959868535, 0.0864071959868535, \n    0.0864071959868535, 0.336988064348729, 3.36988064348729, \n    0.336988064348729, 0.198228273146311, 0.146516549716839, \n    1, 0.336988064348729, 3.36988064348729, 0.140411693478637, \n    0.306352785771571, 0.336988064348729, 0.146516549716839, \n    0.842470160871821, 1.68494032174364, 0.0910778552293861, \n    1, 3.36988064348729, 0.0702058467393185, 1.68494032174364, \n    0.0864071959868535, 0.11232935478291, 0.842470160871821, \n    0.140411693478637, 0.280823386957274, 0.0864071959868535, \n    0.336988064348729, 0.168494032174364, 1, 0.229764589328679, \n    0.198228273146311, 1.68494032174364, 1, 0.561646773914548, \n    0.11232935478291, 1, 0.0702058467393185, 0.0910778552293861, \n    0.336988064348729, 1.1232935478291, 0.842470160871821, 0.229764589328679, \n    0.306352785771571, 0.25922158796056, 0.0864071959868535, \n    1, 0.336988064348729, 0.140411693478637, 0.336988064348729, \n    1, 3.36988064348729, 0.0962823040996367, 0.0910778552293861, \n    0.198228273146311, 0.229764589328679, 0.0864071959868535, \n    0.229764589328679, 0.0702058467393185, 0.229764589328679, \n    1, 1, 1.68494032174364, 0.336988064348729, 0.17736213913091, \n    0.0864071959868535, 0.0864071959868535, 0.0702058467393185, \n    0.198228273146311, 0.280823386957274, 0.481411520498184, \n    0.140411693478637, 0.0702058467393185, 1, 1.68494032174364, \n    0.0910778552293861, 0.198228273146311, 0.421235080435911, \n    1, 1, 0.421235080435911, 1, 1, 1, 0.336988064348729, 0.168494032174364, \n    0.11232935478291, 0.229764589328679, 0.0864071959868535, \n    0.421235080435911, 1, 0.561646773914548, 0.146516549716839, \n    0.0910778552293861, 0.0864071959868535, 0.0702058467393185, \n    0.421235080435911, 0.0864071959868535, 0.421235080435911, \n    0.0962823040996367, 1, 0.0702058467393185, 0.0910778552293861, \n    0.229764589328679, 0.168494032174364, 0.0962823040996367, \n    0.198228273146311, 0.140411693478637, 0.229764589328679, \n    0.0962823040996367, 0.0864071959868535, 1, 0.146516549716839, \n    0.0702058467393185, 1.68494032174364, 0.0864071959868535, \n    0.0962823040996367, 0.198228273146311, 0.306352785771571, \n    3.36988064348729, 0.0864071959868535, 0.336988064348729, \n    1, 0.0864071959868535, 0.0910778552293861, 0.0864071959868535, \n    0.11232935478291, 0.140411693478637, 0.140411693478637, 3.36988064348729, \n    0.198228273146311, 0.0864071959868535, 0.0864071959868535, \n    1, 0.0910778552293861, 0.421235080435911, 0.25922158796056, \n    0.146516549716839, 0.146516549716839, 1, 0.336988064348729, \n    0.0864071959868535, 0.673976128697457, 0.229764589328679, \n    0.421235080435911, 0.140411693478637, 0.0864071959868535, \n    0.0702058467393185, 0.336988064348729, 0.0910778552293861, \n    3.36988064348729, 0.421235080435911, 0.11232935478291, 0.229764589328679\n    ))\n\nDeviance Residuals: \n    Min       1Q   Median       3Q      Max  \n-1.7082  -0.3795  -0.2847  -0.2210   1.8750  \n\nCoefficients:\n                                                       Estimate Std. Error\n(Intercept)                                           -1.167262   1.311860\ngender1                                               -0.360994   0.268223\nyear2019                                               0.063174   0.377066\nyear2020                                               0.097391   0.406235\nyear2021                                               0.014509   0.394532\nyear2022                                               0.039122   0.411208\nq2                                                    -0.138067   1.350899\nq3                                                    -0.060099   1.270506\nsubfield_articlegeneral mathematics                    0.003436   0.647987\nsubfield_articlenumerical & computational mathematics  0.034309   0.915105\nsubfield_articlestatistics & probability               0.034540   0.403254\nteam_size2                                             0.034412   0.418401\nteam_size3                                             0.053785   0.440238\nteam_size4                                             0.070556   0.427959\nteam_size5                                             0.066419   0.612849\nopenaccess_statusYES                                  -0.001881   0.408221\n                                                      z value Pr(>|z|)\n(Intercept)                                            -0.890    0.374\ngender1                                                -1.346    0.178\nyear2019                                                0.168    0.867\nyear2020                                                0.240    0.811\nyear2021                                                0.037    0.971\nyear2022                                                0.095    0.924\nq2                                                     -0.102    0.919\nq3                                                     -0.047    0.962\nsubfield_articlegeneral mathematics                     0.005    0.996\nsubfield_articlenumerical & computational mathematics   0.037    0.970\nsubfield_articlestatistics & probability                0.086    0.932\nteam_size2                                              0.082    0.934\nteam_size3                                              0.122    0.903\nteam_size4                                              0.165    0.869\nteam_size5                                              0.108    0.914\nopenaccess_statusYES                                   -0.005    0.996\n\n(Dispersion parameter for binomial family taken to be 1)\n\n    Null deviance: 470.09  on 1019  degrees of freedom\nResidual deviance: 468.22  on 1004  degrees of freedom\nAIC: 439.88\n\nNumber of Fisher Scoring iterations: 4\n\n\n"
     ]
    }
   ],
   "source": [
    "def domain24(i, new):\n",
    "  a = new[new['Field_English'] == i]\n",
    "  print(len(a))\n",
    "\n",
    "  t = a[a['treatment'] == '1']\n",
    "  c = a[a['treatment'] == '0']\n",
    "  print(\"length of treatment \",len(t[t['gender'] == 1])/len(t))\n",
    "  print(\"length of control \",len(c[c['gender'] == 1])/len(c))\n",
    "\n",
    "  con_18,con_19,con_20,con_21,con_22 = [],[],[],[],[]\n",
    "  t1,t2,t3,t4,t5,t6 = [],[],[],[],[],[]\n",
    "  #oa = []\n",
    "\n",
    "  out = []\n",
    "\n",
    "  cov = []\n",
    "\n",
    "  for ind in a.index:\n",
    "    if a['year'][ind] == 2018 or a['year'][ind] == 2019:\n",
    "      cov.append(0)\n",
    "    else:\n",
    "      cov.append(1)\n",
    "      \n",
    "    if a['treatment'][ind] == '1':\n",
    "      out.append(1)\n",
    "    else:\n",
    "      out.append(0)\n",
    "  \n",
    "\n",
    "  a['outcome'] = out\n",
    "\n",
    "  a['covid'] = cov\n",
    "  #a['oa'] = oa\n",
    "\n",
    "  return a\n",
    "  \n",
    "\n",
    "\n",
    "#tmp = domain24(\"Physics & Astronomy\",dummy.copy(deep=True)) #est = 0.0564479  0.0527718, p val = 0.2848\n",
    "#print(tmp.dtypes)\n",
    "tmp = domain24(\"Mathematics & Statistics\",dummy.copy(deep=True))   #est =  0.360994   0.268223, p val = 0.17\n",
    "#tmp = domain24(\"Earth & Environmental Sciences\",dummy.copy(deep=True))  #est = -0.0710041  0.0448978, p val insig\n",
    "#tmp = domain24(\"Chemistry\",dummy.copy(deep=True))  #est = 1.756e-02  6.465e-02, insig\n",
    "#tmp = domain24(\"Biology\",dummy.copy(deep=True)) #est = -0.0123227  0.0343743, insig \n",
    "#tmp = domain24(\"Public Health & Health Services\",dummy.copy(deep=True))  # gender est = 0.0839409  0.0255190, p value = 0.001004 ** \n",
    "#tmp = domain24(\"Psychology & Cognitive Sciences\",dummy.copy(deep=True)) #opposite   #gender est -0.114584   0.036990, p value = 0.00195 **\n",
    "#tmp = domain24(\"Clinical Medicine\",dummy.copy(deep=True)) #est = 2.436e-03  1.132e-02, insig\n",
    "#tmp = domain24(\"Biomedical Research\",dummy.copy(deep=True))  #gender est =  0.0425387  0.0226143, p val = 0.05996 .\n",
    "\n",
    "#tmp = domain24(\"Social Sciences\",dummy.copy(deep=True)) #gender est =  0.0956369  0.0420042, p value = 0.0228 *\n",
    "#tmp = domain24(\"Economics & Business \",dummy.copy(deep=True)) #gender est = -0.200888   0.055441, p value = 0.000291 ***\n",
    "#tmp = domain24(\"Visual & Performing Arts\",dummy.copy(deep=True)) ##too small sample size\n",
    "#tmp = domain24(\"Philosophy & Theology\",dummy.copy(deep=True)) #est = 0.084886   0.239748, insig \n",
    "#tmp = domain24(\"Historical Studies\",dummy.copy(deep=True)) #gender est = 0.2448323  0.1274979, p val = 0.0548 .\n",
    "\n",
    "#tmp = domain24(\"Communication & Textual Studies\",dummy.copy(deep=True))  #gender est = -0.190563   0.100530, p val=  0.058 .\n",
    "#tmp = domain24(\"Information & Communication Technologies\",dummy.copy(deep=True))  #gender est = -0.2247745  0.0872372, p val = 0.00998 **\n",
    "#tmp = domain24(\"Engineering\",dummy.copy(deep=True))  #gender est = -0.159315   0.083196, p val = 0.0555 . \n",
    "#tmp = domain24(\"Enabling & Strategic Technologies\",dummy.copy(deep=True))  #est = -3.033e-02  4.353e-02 #insig\n",
    "#tmp = domain24(\"Built Environment & Design\",dummy.copy(deep=True)) #est = 0.205768   0.167424, insig\n",
    "#tmp = domain24(\"Agriculture, Fisheries & Forestry\",dummy.copy(deep=True)) #gendermale est = -0.1430302  0.0631895, p val = 0.0236 *\n",
    "\n",
    "#print(tmp.tail(10))\n",
    "\n",
    "\n",
    "\n",
    "with localconverter(ro.default_converter + pandas2ri.converter):\n",
    "  tst_df = ro.conversion.py2rpy(tmp)\n",
    "\n",
    "col_2_index = list(tst_df.colnames).index('year')\n",
    "col_2 = ro.vectors.FactorVector(tst_df.rx2('year'))\n",
    "tst_df[col_2_index] = col_2\n",
    "\n",
    "col_2_index = list(tst_df.colnames).index('team_size')\n",
    "col_2 = ro.vectors.FactorVector(tst_df.rx2('team_size'))\n",
    "tst_df[col_2_index] = col_2\n",
    "\n",
    "col_2_index = list(tst_df.colnames).index('openaccess_status')\n",
    "col_2 = ro.vectors.FactorVector(tst_df.rx2('openaccess_status'))\n",
    "tst_df[col_2_index] = col_2\n",
    "\n",
    "\n",
    "col_2_index = list(tst_df.colnames).index('q')\n",
    "col_2 = ro.vectors.FactorVector(tst_df.rx2('q'))\n",
    "tst_df[col_2_index] = col_2\n",
    "\n",
    "col_2_index = list(tst_df.colnames).index('covid')\n",
    "col_2 = ro.vectors.FactorVector(tst_df.rx2('covid'))\n",
    "tst_df[col_2_index] = col_2\n",
    "\n",
    "col_2_index = list(tst_df.colnames).index('gender')\n",
    "col_2 = ro.vectors.FactorVector(tst_df.rx2('gender'))\n",
    "tst_df[col_2_index] = col_2\n",
    "\n",
    "\n",
    "col_2_index = list(tst_df.colnames).index('subfield_article')\n",
    "col_2 = ro.vectors.FactorVector(tst_df.rx2('subfield_article'))\n",
    "tst_df[col_2_index] = col_2\n",
    "\n",
    "'''col_2_index = list(tst_df.colnames).index('outcome')\n",
    "col_2 = ro.vectors.FactorVector(tst_df.rx2('outcome'))\n",
    "tst_df[col_2_index] = col_2'''\n",
    "\n",
    "#print(tst_df)\n",
    "#pandas2ri.activate()\n",
    "model = stats.glm(\"outcome ~ gender+year+q+subfield_article+team_size+openaccess_status\",\n",
    "                  data=tst_df, weights = tst_df.rx2('weight'),family=ro.r('binomial(link=\"logit\")'))\n",
    "print(base.summary(model))"
   ]
  },
  {
   "cell_type": "code",
   "execution_count": 0,
   "metadata": {
    "application/vnd.databricks.v1+cell": {
     "cellMetadata": {
      "byteLimit": 2048000,
      "rowLimit": 10000
     },
     "inputWidgets": {},
     "nuid": "c42730b4-c1e8-4685-8898-ed56b47e27cc",
     "showTitle": false,
     "title": ""
    }
   },
   "outputs": [
    {
     "output_type": "stream",
     "name": "stdout",
     "output_type": "stream",
     "text": [
      "                                                  2.5 %      97.5 %\n(Intercept)                                  -2.2361908 -0.09741855\ngender1                                      -0.5339141  0.12237761\nyear2019                                     -0.5593746  0.55044565\nyear2020                                     -0.5326907  0.53734820\nyear2021                                     -0.5402332  0.53532384\nyear2022                                     -0.5712648  0.58200909\nq3                                           -0.8116610  0.83777782\nsubfield_articledesign practice & management -1.3560550  1.34409974\nsubfield_articleurban & regional planning    -0.4326599  0.46350962\nteam_size2                                   -0.4576243  0.48117594\nteam_size3                                   -0.5146171  0.50301868\nteam_size4                                   -0.4963143  0.50659356\nteam_size5                                   -0.6440454  0.67901303\nteam_size6                                   -0.9697814  1.12983879\nopenaccess_statusYES                         -0.6028344  0.60063801\n\n"
     ]
    }
   ],
   "source": [
    "a = stats.confint_default(model)\n",
    "print(a)"
   ]
  },
  {
   "cell_type": "code",
   "execution_count": 0,
   "metadata": {
    "application/vnd.databricks.v1+cell": {
     "cellMetadata": {
      "byteLimit": 2048000,
      "rowLimit": 10000
     },
     "inputWidgets": {},
     "nuid": "13a1708b-0ed9-4096-8a69-e45f88194f82",
     "showTitle": false,
     "title": ""
    }
   },
   "outputs": [
    {
     "output_type": "stream",
     "name": "stdout",
     "output_type": "stream",
     "text": [
      "length of treatment  0.3805604566683965\nlength of control  0.37335226432760066\n\nCall:\n(function (formula, family = gaussian, data, weights, subset, \n    na.action, start = NULL, etastart, mustart, offset, control = list(...), \n    model = TRUE, method = \"glm.fit\", x = FALSE, y = TRUE, singular.ok = TRUE, \n    contrasts = NULL, ...) \n{\n    cal <- match.call()\n    if (is.character(family)) \n        family <- get(family, mode = \"function\", envir = parent.frame())\n    if (is.function(family)) \n        family <- family()\n    if (is.null(family$family)) {\n        print(family)\n        stop(\"'family' not recognized\")\n    }\n    if (missing(data)) \n        data <- environment(formula)\n    mf <- match.call(expand.dots = FALSE)\n    m <- match(c(\"formula\", \"data\", \"subset\", \"weights\", \"na.action\", \n        \"etastart\", \"mustart\", \"offset\"), names(mf), 0L)\n    mf <- mf[c(1L, m)]\n    mf$drop.unused.levels <- TRUE\n    mf[[1L]] <- quote(stats::model.frame)\n    mf <- eval(mf, parent.frame())\n    if (identical(method, \"model.frame\")) \n        return(mf)\n    if (!is.character(method) && !is.function(method)) \n        stop(\"invalid 'method' argument\")\n    if (identical(method, \"glm.fit\")) \n        control <- do.call(\"glm.control\", control)\n    mt <- attr(mf, \"terms\")\n    Y <- model.response(mf, \"any\")\n    if (length(dim(Y)) == 1L) {\n        nm <- rownames(Y)\n        dim(Y) <- NULL\n        if (!is.null(nm)) \n            names(Y) <- nm\n    }\n    X <- if (!is.empty.model(mt)) \n        model.matrix(mt, mf, contrasts)\n    else matrix(, NROW(Y), 0L)\n    weights <- as.vector(model.weights(mf))\n    if (!is.null(weights) && !is.numeric(weights)) \n        stop(\"'weights' must be a numeric vector\")\n    if (!is.null(weights) && any(weights < 0)) \n        stop(\"negative weights not allowed\")\n    offset <- as.vector(model.offset(mf))\n    if (!is.null(offset)) {\n        if (length(offset) != NROW(Y)) \n            stop(gettextf(\"number of offsets is %d should equal %d (number of observations)\", \n                length(offset), NROW(Y)), domain = NA)\n    }\n    mustart <- model.extract(mf, \"mustart\")\n    etastart <- model.extract(mf, \"etastart\")\n    fit <- eval(call(if (is.function(method)) \"method\" else method, \n        x = X, y = Y, weights = weights, start = start, etastart = etastart, \n        mustart = mustart, offset = offset, family = family, \n        control = control, intercept = attr(mt, \"intercept\") > \n            0L, singular.ok = singular.ok))\n    if (length(offset) && attr(mt, \"intercept\") > 0L) {\n        fit2 <- eval(call(if (is.function(method)) \"method\" else method, \n            x = X[, \"(Intercept)\", drop = FALSE], y = Y, mustart = fit$fitted.values, \n            weights = weights, offset = offset, family = family, \n            control = control, intercept = TRUE))\n        if (!fit2$converged) \n            warning(\"fitting to calculate the null deviance did not converge -- increase 'maxit'?\")\n        fit$null.deviance <- fit2$deviance\n    }\n    if (model) \n        fit$model <- mf\n    fit$na.action <- attr(mf, \"na.action\")\n    if (x) \n        fit$x <- X\n    if (!y) \n        fit$y <- NULL\n    structure(c(fit, list(call = cal, formula = formula, terms = mt, \n        data = data, offset = offset, control = control, method = method, \n        contrasts = attr(X, \"contrasts\"), xlevels = .getXlevels(mt, \n            mf))), class = c(fit$class, c(\"glm\", \"lm\")))\n})(formula = \"outcome ~ gender+year+q+Field_English+team_size+openaccess_status\", \n    family = structure(list(family = \"binomial\", link = \"logit\", \n        linkfun = function (mu) \n        .Call(C_logit_link, mu), linkinv = function (eta) \n        .Call(C_logit_linkinv, eta), variance = function (mu) \n        mu * (1 - mu), dev.resids = function (y, mu, wt) \n        .Call(C_binomial_dev_resids, y, mu, wt), aic = function (y, \n            n, mu, wt, dev) \n        {\n            m <- if (any(n > 1)) \n                n\n            else wt\n            -2 * sum(ifelse(m > 0, (wt/m), 0) * dbinom(round(m * \n                y), round(m), mu, log = TRUE))\n        }, mu.eta = function (eta) \n        .Call(C_logit_mu_eta, eta), initialize = {\n            if (NCOL(y) == 1) {\n                if (is.factor(y)) \n                  y <- y != levels(y)[1L]\n                n <- rep.int(1, nobs)\n                y[weights == 0] <- 0\n                if (any(y < 0 | y > 1)) \n                  stop(\"y values must be 0 <= y <= 1\")\n                mustart <- (weights * y + 0.5)/(weights + 1)\n                m <- weights * y\n                if (\"binomial\" == \"binomial\" && any(abs(m - round(m)) > \n                  0.001)) \n                  warning(gettextf(\"non-integer #successes in a %s glm!\", \n                    \"binomial\"), domain = NA)\n            }\n            else if (NCOL(y) == 2) {\n                if (\"binomial\" == \"binomial\" && any(abs(y - round(y)) > \n                  0.001)) \n                  warning(gettextf(\"non-integer counts in a %s glm!\", \n                    \"binomial\"), domain = NA)\n                n <- (y1 <- y[, 1L]) + y[, 2L]\n                y <- y1/n\n                if (any(n0 <- n == 0)) \n                  y[n0] <- 0\n                weights <- weights * n\n                mustart <- (n * y + 0.5)/(n + 1)\n            }\n            else stop(gettextf(\"for the '%s' family, y must be a vector of 0 and 1's\\nor a 2 column matrix where col 1 is no. successes and col 2 is no. failures\", \n                \"binomial\"), domain = NA)\n        }, validmu = function (mu) \n        all(is.finite(mu)) && all(mu > 0 & mu < 1), valideta = function (eta) \n        TRUE, simulate = function (object, nsim) \n        {\n            ftd <- fitted(object)\n            n <- length(ftd)\n            ntot <- n * nsim\n            wts <- object$prior.weights\n            if (any(wts%%1 != 0)) \n                stop(\"cannot simulate from non-integer prior.weights\")\n            if (!is.null(m <- object$model)) {\n                y <- model.response(m)\n                if (is.factor(y)) {\n                  yy <- factor(1 + rbinom(ntot, size = 1, prob = ftd), \n                    labels = levels(y))\n                  split(yy, rep(seq_len(nsim), each = n))\n                }\n                else if (is.matrix(y) && ncol(y) == 2) {\n                  yy <- vector(\"list\", nsim)\n                  for (i in seq_len(nsim)) {\n                    Y <- rbinom(n, size = wts, prob = ftd)\n                    YY <- cbind(Y, wts - Y)\n                    colnames(YY) <- colnames(y)\n                    yy[[i]] <- YY\n                  }\n                  yy\n                }\n                else rbinom(ntot, size = wts, prob = ftd)/wts\n            }\n            else rbinom(ntot, size = wts, prob = ftd)/wts\n        }), class = \"family\"), data = structure(list(Domain_English = c(\"Applied Sciences\", \n    \"Applied Sciences\", \"Applied Sciences\", \"Applied Sciences\", \n    \"Applied Sciences\", \"Applied Sciences\", \"Applied Sciences\", \n    \"Applied Sciences\", \"Applied Sciences\", \"Applied Sciences\", \n    \"Applied Sciences\", \"Applied Sciences\", \"Applied Sciences\", \n    \"Applied Sciences\", \"Applied Sciences\", \"Applied Sciences\", \n    \"Applied Sciences\", \"Applied Sciences\", \"Applied Sciences\", \n    \"Applied Sciences\", \"Applied Sciences\", \"Applied Sciences\", \n    \"Applied Sciences\", \"Applied Sciences\", \"Applied Sciences\", \n    \"Applied Sciences\", \"Applied Sciences\", \"Applied Sciences\", \n    \"Applied Sciences\", \"Applied Sciences\", \"Applied Sciences\", \n    \"Applied Sciences\", \"Applied Sciences\", \"Applied Sciences\", \n    \"Applied Sciences\", \"Applied Sciences\", \"Applied Sciences\", \n    \"Applied Sciences\", \"Applied Sciences\", \"Applied Sciences\", \n    \"Applied Sciences\", \"Applied Sciences\", \"Applied Sciences\", \n    \"Applied Sciences\", \"Applied Sciences\", \"Applied Sciences\", \n    \"Applied Sciences\", \"Applied Sciences\", \"Applied Sciences\", \n    \"Applied Sciences\", \"Applied Sciences\", \"Applied Sciences\", \n    \"Applied Sciences\", \"Applied Sciences\", \"Applied Sciences\", \n    \"Applied Sciences\", \"Applied Sciences\", \"Applied Sciences\", \n    \"Applied Sciences\", \"Applied Sciences\", \"Applied Sciences\", \n    \"Applied Sciences\", \"Applied Sciences\", \"Applied Sciences\", \n    \"Applied Sciences\", \"Applied Sciences\", \"Applied Sciences\", \n    \"Applied Sciences\", \"Applied Sciences\", \"Applied Sciences\", \n    \"Applied Sciences\", \"Applied Sciences\", \"Applied Sciences\", \n    \"Applied Sciences\", \"Applied Sciences\", \"Applied Sciences\", \n    \"Applied Sciences\", \"Applied Sciences\", \"Applied Sciences\", \n    \"Applied Sciences\", \"Applied Sciences\", \"Applied Sciences\", \n    \"Applied Sciences\", \"Applied Sciences\", \"Applied Sciences\", \n    \"Applied Sciences\", \"Applied Sciences\", \"Applied Sciences\", \n    \"Applied Sciences\", \"Applied Sciences\", \"Applied Sciences\", \n    \"Applied Sciences\", \"Applied Sciences\", \"Applied Sciences\", \n    \"Applied Sciences\", \"Applied Sciences\", \"Applied Sciences\", \n    \"Applied Sciences\", \"Applied Sciences\", \"Applied Sciences\", \n    \"Applied Sciences\", \"Applied Sciences\", \"Applied Sciences\", \n    \"Applied Sciences\", \"Applied Sciences\", \"Applied Sciences\", \n    \"Applied Sciences\", \"Applied Sciences\", \"Applied Sciences\", \n    \"Applied Sciences\", \"Applied Sciences\", \"Applied Sciences\", \n    \"Applied Sciences\", \"Applied Sciences\", \"Applied Sciences\", \n    \"Applied Sciences\", \"Applied Sciences\", \"Applied Sciences\", \n    \"Applied Sciences\", \"Applied Sciences\", \"Applied Sciences\", \n    \"Applied Sciences\", \"Applied Sciences\", \"Applied Sciences\", \n    \"Applied Sciences\", \"Applied Sciences\", \"Applied Sciences\", \n    \"Applied Sciences\", \"Applied Sciences\", \"Applied Sciences\", \n    \"Applied Sciences\", \"Applied Sciences\", \"Applied Sciences\", \n    \"Applied Sciences\", \"Applied Sciences\", \"Applied Sciences\", \n    \"Applied Sciences\", \"Applied Sciences\", \"Applied Sciences\", \n    \"Applied Sciences\", \"Applied Sciences\", \"Applied Sciences\", \n    \"Applied Sciences\", \"Applied Sciences\", \"Applied Sciences\", \n    \"Applied Sciences\", \"Applied Sciences\", \"Applied Sciences\", \n    \"Applied Sciences\", \"Applied Sciences\", \"Applied Sciences\", \n    \"Applied Sciences\", \"Applied Sciences\", \"Applied Sciences\", \n    \"Applied Sciences\", \"Applied Sciences\", \"Applied Sciences\", \n    \"Applied Sciences\", \"Applied Sciences\", \"Applied Sciences\", \n    \"Applied Sciences\", \"Applied Sciences\", \"Applied Sciences\", \n    \"Applied Sciences\", \"Applied Sciences\", \"Applied Sciences\", \n    \"Applied Sciences\", \"Applied Sciences\", \"Applied Sciences\", \n    \"Applied Sciences\", \"Applied Sciences\", \"Applied Sciences\", \n    \"Applied Sciences\", \"Applied Sciences\", \"Applied Sciences\", \n    \"Applied Sciences\", \"Applied Sciences\", \"Applied Sciences\", \n    \"Applied Sciences\", \"Applied Sciences\", \"Applied Sciences\", \n    \"Applied Sciences\", \"Applied Sciences\", \"Applied Sciences\", \n    \"Applied Sciences\", \"Applied Sciences\", \"Applied Sciences\", \n    \"Applied Sciences\", \"Applied Sciences\", \"Applied Sciences\", \n    \"Applied Sciences\", \"Applied Sciences\", \"Applied Sciences\", \n    \"Applied Sciences\", \"Applied Sciences\", \"Applied Sciences\", \n    \"Applied Sciences\", \"Applied Sciences\", \"Applied Sciences\", \n    \"Applied Sciences\", \"Applied Sciences\", \"Applied Sciences\", \n    \"Applied Sciences\", \"Applied Sciences\", \"Applied Sciences\", \n    \"Applied Sciences\", \"Applied Sciences\", \"Applied Sciences\", \n    \"Applied Sciences\", \"Applied Sciences\", \"Applied Sciences\", \n    \"Applied Sciences\", \"Applied Sciences\", \"Applied Sciences\", \n    \"Applied Sciences\", \"Applied Sciences\", \"Applied Sciences\", \n    \"Applied Sciences\", \"Applied Sciences\", \"Applied Sciences\", \n    \"Applied Sciences\", \"Applied Sciences\", \"Applied Sciences\", \n    \"Applied Sciences\", \"Applied Sciences\", \"Applied Sciences\", \n    \"Applied Sciences\", \"Applied Sciences\", \"Applied Sciences\", \n    \"Applied Sciences\", \"Applied Sciences\", \"Applied Sciences\", \n    \"Applied Sciences\", \"Applied Sciences\", \"Applied Sciences\", \n    \"Applied Sciences\", \"Applied Sciences\", \"Applied Sciences\", \n    \"Applied Sciences\", \"Applied Sciences\", \"Applied Sciences\", \n    \"Applied Sciences\", \"Applied Sciences\", \"Applied Sciences\", \n    \"Applied Sciences\", \"Applied Sciences\", \"Applied Sciences\", \n    \"Applied Sciences\", \"Applied Sciences\", \"Applied Sciences\", \n    \"Applied Sciences\", \"Applied Sciences\", \"Applied Sciences\", \n    \"Applied Sciences\", \"Applied Sciences\", \"Applied Sciences\", \n    \"Applied Sciences\", \"Applied Sciences\", \"Applied Sciences\", \n    \"Applied Sciences\", \"Applied Sciences\", \"Applied Sciences\", \n    \"Applied Sciences\", \"Applied Sciences\", \"Applied Sciences\", \n    \"Applied Sciences\", \"Applied Sciences\", \"Applied Sciences\", \n    \"Applied Sciences\", \"Applied Sciences\", \"Applied Sciences\", \n    \"Applied Sciences\", \"Applied Sciences\", \"Applied Sciences\", \n    \"Applied Sciences\", \"Applied Sciences\", \"Applied Sciences\", \n    \"Applied Sciences\", \"Applied Sciences\", \"Applied Sciences\", \n    \"Applied Sciences\", \"Applied Sciences\", \"Applied Sciences\", \n    \"Applied Sciences\", \"Applied Sciences\", \"Applied Sciences\", \n    \"Applied Sciences\", \"Applied Sciences\", \"Applied Sciences\", \n    \"Applied Sciences\", \"Applied Sciences\", \"Applied Sciences\", \n    \"Applied Sciences\", \"Applied Sciences\", \"Applied Sciences\", \n    \"Applied Sciences\", \"Applied Sciences\", \"Applied Sciences\", \n    \"Applied Sciences\", \"Applied Sciences\", \"Applied Sciences\", \n    \"Applied Sciences\", \"Applied Sciences\", \"Applied Sciences\", \n    \"Applied Sciences\", \"Applied Sciences\", \"Applied Sciences\", \n    \"Applied Sciences\", \"Applied Sciences\", \"Applied Sciences\", \n    \"Applied Sciences\", \"Applied Sciences\", \"Applied Sciences\", \n    \"Applied Sciences\", \"Applied Sciences\", \"Applied Sciences\", \n    \"Applied Sciences\", \"Applied Sciences\", \"Applied Sciences\", \n    \"Applied Sciences\", \"Applied Sciences\", \"Applied Sciences\", \n    \"Applied Sciences\", \"Applied Sciences\", \"Applied Sciences\", \n    \"Applied Sciences\", \"Applied Sciences\", \"Applied Sciences\", \n    \"Applied Sciences\", \"Applied Sciences\", \"Applied Sciences\", \n    \"Applied Sciences\", \"Applied Sciences\", \"Applied Sciences\", \n    \"Applied Sciences\", \"Applied Sciences\", \"Applied Sciences\", \n    \"Applied Sciences\", \"Applied Sciences\", \"Applied Sciences\", \n    \"Applied Sciences\", \"Applied Sciences\", \"Applied Sciences\", \n    \"Applied Sciences\", \"Applied Sciences\", \"Applied Sciences\", \n    \"Applied Sciences\", \"Applied Sciences\", \"Applied Sciences\", \n    \"Applied Sciences\", \"Applied Sciences\", \"Applied Sciences\", \n    \"Applied Sciences\", \"Applied Sciences\", \"Applied Sciences\", \n    \"Applied Sciences\", \"Applied Sciences\", \"Applied Sciences\", \n    \"Applied Sciences\", \"Applied Sciences\", \"Applied Sciences\", \n    \"Applied Sciences\", \"Applied Sciences\", \"Applied Sciences\", \n    \"Applied Sciences\", \"Applied Sciences\", \"Applied Sciences\", \n    \"Applied Sciences\", \"Applied Sciences\", \"Applied Sciences\", \n    \"Applied Sciences\", \"Applied Sciences\", \"Applied Sciences\", \n    \"Applied Sciences\", \"Applied Sciences\", \"Applied Sciences\", \n    \"Applied Sciences\", \"Applied Sciences\", \"Applied Sciences\", \n    \"Applied Sciences\", \"Applied Sciences\", \"Applied Sciences\", \n    \"Applied Sciences\", \"Applied Sciences\", \"Applied Sciences\", \n    \"Applied Sciences\", \"Applied Sciences\", \"Applied Sciences\", \n    \"Applied Sciences\", \"Applied Sciences\", \"Applied Sciences\", \n    \"Applied Sciences\", \"Applied Sciences\", \"Applied Sciences\", \n    \"Applied Sciences\", \"Applied Sciences\", \"Applied Sciences\", \n    \"Applied Sciences\", \"Applied Sciences\", \"Applied Sciences\", \n    \"Applied Sciences\", \"Applied Sciences\", \"Applied Sciences\", \n    \"Applied Sciences\", \"Applied Sciences\", \"Applied Sciences\", \n    \"Applied Sciences\", \"Applied Sciences\", \"Applied Sciences\", \n    \"Applied Sciences\", \"Applied Sciences\", \"Applied Sciences\", \n    \"Applied Sciences\", \"Applied Sciences\", \"Applied Sciences\", \n    \"Applied Sciences\", \"Applied Sciences\", \"Applied Sciences\", \n    \"Applied Sciences\", \"Applied Sciences\", \"Applied Sciences\", \n    \"Applied Sciences\", \"Applied Sciences\", \"Applied Sciences\", \n    \"Applied Sciences\", \"Applied Sciences\", \"Applied Sciences\", \n    \"Applied Sciences\", \"Applied Sciences\", \"Applied Sciences\", \n    \"Applied Sciences\", \"Applied Sciences\", \"Applied Sciences\", \n    \"Applied Sciences\", \"Applied Sciences\", \"Applied Sciences\", \n    \"Applied Sciences\", \"Applied Sciences\", \"Applied Sciences\", \n    \"Applied Sciences\", \"Applied Sciences\", \"Applied Sciences\", \n    \"Applied Sciences\", \"Applied Sciences\", \"Applied Sciences\", \n    \"Applied Sciences\", \"Applied Sciences\", \"Applied Sciences\", \n    \"Applied Sciences\", \"Applied Sciences\", \"Applied Sciences\", \n    \"Applied Sciences\", \"Applied Sciences\", \"Applied Sciences\", \n    \"Applied Sciences\", \"Applied Sciences\", \"Applied Sciences\", \n    \"Applied Sciences\", \"Applied Sciences\", \"Applied Sciences\", \n    \"Applied Sciences\", \"Applied Sciences\", \"Applied Sciences\", \n    \"Applied Sciences\", \"Applied Sciences\", \"Applied Sciences\", \n    \"Applied Sciences\", \"Applied Sciences\", \"Applied Sciences\", \n    \"Applied Sciences\", \"Applied Sciences\", \"Applied Sciences\", \n    \"Applied Sciences\", \"Applied Sciences\", \"Applied Sciences\", \n    \"Applied Sciences\", \"Applied Sciences\", \"Applied Sciences\", \n    \"Applied Sciences\", \"Applied Sciences\", \"Applied Sciences\", \n    \"Applied Sciences\", \"Applied Sciences\", \"Applied Sciences\", \n    \"Applied Sciences\", \"Applied Sciences\", \"Applied Sciences\", \n    \"Applied Sciences\", \"Applied Sciences\", \"Applied Sciences\", \n    \"Applied Sciences\", \"Applied Sciences\", \"Applied Sciences\", \n    \"Applied Sciences\", \"Applied Sciences\", \"Applied Sciences\", \n    \"Applied Sciences\", \"Applied Sciences\", \"Applied Sciences\", \n    \"Applied Sciences\", \"Applied Sciences\", \"Applied Sciences\", \n    \"Applied Sciences\", \"Applied Sciences\", \"Applied Sciences\", \n    \"Applied Sciences\", \"Applied Sciences\", \"Applied Sciences\", \n    \"Applied Sciences\", \"Applied Sciences\", \"Applied Sciences\", \n    \"Applied Sciences\", \"Applied Sciences\", \"Applied Sciences\", \n    \"Applied Sciences\", \"Applied Sciences\", \"Applied Sciences\", \n    \"Applied Sciences\", \"Applied Sciences\", \"Applied Sciences\", \n    \"Applied Sciences\", \"Applied Sciences\", \"Applied Sciences\", \n    \"Applied Sciences\", \"Applied Sciences\", \"Applied Sciences\", \n    \"Applied Sciences\", \"Applied Sciences\", \"Applied Sciences\", \n    \"Applied Sciences\", \"Applied Sciences\", \"Applied Sciences\", \n    \"Applied Sciences\", \"Applied Sciences\", \"Applied Sciences\", \n    \"Applied Sciences\", \"Applied Sciences\", \"Applied Sciences\", \n    \"Applied Sciences\", \"Applied Sciences\", \"Applied Sciences\", \n    \"Applied Sciences\", \"Applied Sciences\", \"Applied Sciences\", \n    \"Applied Sciences\", \"Applied Sciences\", \"Applied Sciences\", \n    \"Applied Sciences\", \"Applied Sciences\", \"Applied Sciences\", \n    \"Applied Sciences\", \"Applied Sciences\", \"Applied Sciences\", \n    \"Applied Sciences\", \"Applied Sciences\", \"Applied Sciences\", \n    \"Applied Sciences\", \"Applied Sciences\", \"Applied Sciences\", \n    \"Applied Sciences\", \"Applied Sciences\", \"Applied Sciences\", \n    \"Applied Sciences\", \"Applied Sciences\", \"Applied Sciences\", \n    \"Applied Sciences\", \"Applied Sciences\", \"Applied Sciences\", \n    \"Applied Sciences\", \"Applied Sciences\", \"Applied Sciences\", \n    \"Applied Sciences\", \"Applied Sciences\", \"Applied Sciences\", \n    \"Applied Sciences\", \"Applied Sciences\", \"Applied Sciences\", \n    \"Applied Sciences\", \"Applied Sciences\", \"Applied Sciences\", \n    \"Applied Sciences\", \"Applied Sciences\", \"Applied Sciences\", \n    \"Applied Sciences\", \"Applied Sciences\", \"Applied Sciences\", \n    \"Applied Sciences\", \"Applied Sciences\", \"Applied Sciences\", \n    \"Applied Sciences\", \"Applied Sciences\", \"Applied Sciences\", \n    \"Applied Sciences\", \"Applied Sciences\", \"Applied Sciences\", \n    \"Applied Sciences\", \"Applied Sciences\", \"Applied Sciences\", \n    \"Applied Sciences\", \"Applied Sciences\", \"Applied Sciences\", \n    \"Applied Sciences\", \"Applied Sciences\", \"Applied Sciences\", \n    \"Applied Sciences\", \"Applied Sciences\", \"Applied Sciences\", \n    \"Applied Sciences\", \"Applied Sciences\", \"Applied Sciences\", \n    \"Applied Sciences\", \"Applied Sciences\", \"Applied Sciences\", \n    \"Applied Sciences\", \"Applied Sciences\", \"Applied Sciences\", \n    \"Applied Sciences\", \"Applied Sciences\", \"Applied Sciences\", \n    \"Applied Sciences\", \"Applied Sciences\", \"Applied Sciences\", \n    \"Applied Sciences\", \"Applied Sciences\", \"Applied Sciences\", \n    \"Applied Sciences\", \"Applied Sciences\", \"Applied Sciences\", \n    \"Applied Sciences\", \"Applied Sciences\", \"Applied Sciences\", \n    \"Applied Sciences\", \"Applied Sciences\", \"Applied Sciences\", \n    \"Applied Sciences\", \"Applied Sciences\", \"Applied Sciences\", \n    \"Applied Sciences\", \"Applied Sciences\", \"Applied Sciences\", \n    \"Applied Sciences\", \"Applied Sciences\", \"Applied Sciences\", \n    \"Applied Sciences\", \"Applied Sciences\", \"Applied Sciences\", \n    \"Applied Sciences\", \"Applied Sciences\", \"Applied Sciences\", \n    \"Applied Sciences\", \"Applied Sciences\", \"Applied Sciences\", \n    \"Applied Sciences\", \"Applied Sciences\", \"Applied Sciences\", \n    \"Applied Sciences\", \"Applied Sciences\", \"Applied Sciences\", \n    \"Applied Sciences\", \"Applied Sciences\", \"Applied Sciences\", \n    \"Applied Sciences\", \"Applied Sciences\", \"Applied Sciences\", \n    \"Applied Sciences\", \"Applied Sciences\", \"Applied Sciences\", \n    \"Applied Sciences\", \"Applied Sciences\", \"Applied Sciences\", \n    \"Applied Sciences\", \"Applied Sciences\", \"Applied Sciences\", \n    \"Applied Sciences\", \"Applied Sciences\", \"Applied Sciences\", \n    \"Applied Sciences\", \"Applied Sciences\", \"Applied Sciences\", \n    \"Applied Sciences\", \"Applied Sciences\", \"Applied Sciences\", \n    \"Applied Sciences\", \"Applied Sciences\", \"Applied Sciences\", \n    \"Applied Sciences\", \"Applied Sciences\", \"Applied Sciences\", \n    \"Applied Sciences\", \"Applied Sciences\", \"Applied Sciences\", \n    \"Applied Sciences\", \"Applied Sciences\", \"Applied Sciences\", \n    \"Applied Sciences\", \"Applied Sciences\", \"Applied Sciences\", \n    \"Applied Sciences\", \"Applied Sciences\", \"Applied Sciences\", \n    \"Applied Sciences\", \"Applied Sciences\", \"Applied Sciences\", \n    \"Applied Sciences\", \"Applied Sciences\", \"Applied Sciences\", \n    \"Applied Sciences\", \"Applied Sciences\", \"Applied Sciences\", \n    \"Applied Sciences\", \"Applied Sciences\", \"Applied Sciences\", \n    \"Applied Sciences\", \"Applied Sciences\", \"Applied Sciences\", \n    \"Applied Sciences\", \"Applied Sciences\", \"Applied Sciences\", \n    \"Applied Sciences\", \"Applied Sciences\", \"Applied Sciences\", \n    \"Applied Sciences\", \"Applied Sciences\", \"Applied Sciences\", \n    \"Applied Sciences\", \"Applied Sciences\", \"Applied Sciences\", \n    \"Applied Sciences\", \"Applied Sciences\", \"Applied Sciences\", \n    \"Applied Sciences\", \"Applied Sciences\", \"Applied Sciences\", \n    \"Applied Sciences\", \"Applied Sciences\", \"Applied Sciences\", \n    \"Applied Sciences\", \"Applied Sciences\", \"Applied Sciences\", \n    \"Applied Sciences\", \"Applied Sciences\", \"Applied Sciences\", \n    \"Applied Sciences\", \"Applied Sciences\", \"Applied Sciences\", \n    \"Applied Sciences\", \"Applied Sciences\", \"Applied Sciences\", \n    \"Applied Sciences\", \"Applied Sciences\", \"Applied Sciences\", \n    \"Applied Sciences\", \"Applied Sciences\", \"Applied Sciences\", \n    \"Applied Sciences\", \"Applied Sciences\", \"Applied Sciences\", \n    \"Applied Sciences\", \"Applied Sciences\", \"Applied Sciences\", \n    \"Applied Sciences\", \"Applied Sciences\", \"Applied Sciences\", \n    \"Applied Sciences\", \"Applied Sciences\", \"Applied Sciences\", \n    \"Applied Sciences\", \"Applied Sciences\", \"Applied Sciences\", \n    \"Applied Sciences\", \"Applied Sciences\", \"Applied Sciences\", \n    \"Applied Sciences\", \"Applied Sciences\", \"Applied Sciences\", \n    \"Applied Sciences\", \"Applied Sciences\", \"Applied Sciences\", \n    \"Applied Sciences\", \"Applied Sciences\", \"Applied Sciences\", \n    \"Applied Sciences\", \"Applied Sciences\", \"Applied Sciences\", \n    \"Applied Sciences\", \"Applied Sciences\", \"Applied Sciences\", \n    \"Applied Sciences\", \"Applied Sciences\", \"Applied Sciences\", \n    \"Applied Sciences\", \"Applied Sciences\", \"Applied Sciences\", \n    \"Applied Sciences\", \"Applied Sciences\", \"Applied Sciences\", \n    \"Applied Sciences\", \"Applied Sciences\", \"Applied Sciences\", \n    \"Applied Sciences\", \"Applied Sciences\", \"Applied Sciences\", \n    \"Applied Sciences\", \"Applied Sciences\", \"Applied Sciences\", \n    \"Applied Sciences\", \"Applied Sciences\", \"Applied Sciences\", \n    \"Applied Sciences\", \"Applied Sciences\", \"Applied Sciences\", \n    \"Applied Sciences\", \"Applied Sciences\", \"Applied Sciences\", \n    \"Applied Sciences\", \"Applied Sciences\", \"Applied Sciences\", \n    \"Applied Sciences\", \"Applied Sciences\", \"Applied Sciences\", \n    \"Applied Sciences\", \"Applied Sciences\", \"Applied Sciences\", \n    \"Applied Sciences\", \"Applied Sciences\", \"Applied Sciences\", \n    \"Applied Sciences\", \"Applied Sciences\", \"Applied Sciences\", \n    \"Applied Sciences\", \"Applied Sciences\", \"Applied Sciences\", \n    \"Applied Sciences\", \"Applied Sciences\", \"Applied Sciences\", \n    \"Applied Sciences\", \"Applied Sciences\", \"Applied Sciences\", \n    \"Applied Sciences\", \"Applied Sciences\", \"Applied Sciences\", \n    \"Appl\n\n*** WARNING: max output size exceeded, skipping output. ***\n\n.2192838609237, 5.05482096523093, \n    1.68494032174364, 0.160470506832728, 1, 1.1232935478291, \n    3.36988064348729, 1, 1, 1, 0.673976128697457, 6.73976128697457, \n    1.34795225739491, 1, 0.561646773914548, 1, 1.1232935478291, \n    1.68494032174364, 1, 1.68494032174364, 1, 11.7945822522055, \n    0.481411520498184, 0.481411520498184, 1, 1.68494032174364, \n    1, 1, 1, 0.210617540217955, 1, 1.1232935478291, 1, 1, 1.68494032174364, \n    0.561646773914548, 0.160470506832728, 1, 3.36988064348729, \n    0.561646773914548, 3.36988064348729, 0.481411520498184, 1, \n    3.36988064348729, 1.68494032174364, 0.842470160871821, 1, \n    3.36988064348729, 0.210617540217955, 0.160470506832728, 0.842470160871821, \n    1, 1, 0.561646773914548, 2.80823386957274, 0.842470160871821, \n    1, 0.240705760249092, 0.210617540217955, 1, 5.61646773914548, \n    3.36988064348729, 2.52741048261546, 1, 1.68494032174364, \n    1.68494032174364, 1, 1.68494032174364, 1, 1, 3.36988064348729, \n    3.36988064348729, 1.1232935478291, 1, 1, 0.561646773914548, \n    1, 0.561646773914548, 0.673976128697457, 1.68494032174364, \n    0.561646773914548, 1.68494032174364, 1.68494032174364, 0.210617540217955, \n    0.240705760249092, 1, 1, 5.61646773914548, 1, 1.87215591304849, \n    1, 1, 1, 1, 1, 1, 6.73976128697457, 0.240705760249092, 0.842470160871821, \n    1.68494032174364, 1, 1, 1.34795225739491, 1.87215591304849, \n    0.160470506832728, 1.1232935478291, 2.52741048261546, 2.80823386957274, \n    3.36988064348729, 0.842470160871821, 0.561646773914548, 1, \n    1, 1, 1, 1.1232935478291, 1.68494032174364, 3.36988064348729, \n    1, 1, 1.1232935478291, 0.561646773914548, 1, 3.36988064348729, \n    1, 0.561646773914548, 3.36988064348729, 0.673976128697457, \n    0.842470160871821, 1.1232935478291, 1.1232935478291, 0.160470506832728, \n    3.36988064348729, 1.1232935478291, 0.240705760249092, 1.34795225739491, \n    1, 0.842470160871821, 1, 1, 1, 0.481411520498184, 1, 0.160470506832728, \n    0.160470506832728, 3.36988064348729, 0.240705760249092, 3.36988064348729, \n    0.210617540217955, 1.1232935478291, 0.160470506832728, 3.36988064348729, \n    0.561646773914548, 1, 1, 1, 1, 1, 1.68494032174364, 0.842470160871821, \n    1.1232935478291, 1.68494032174364, 1.1232935478291, 0.962823040996367, \n    1, 1.1232935478291, 1, 3.36988064348729, 1, 3.36988064348729, \n    1, 1, 1, 2.52741048261546, 1, 1.68494032174364, 3.36988064348729, \n    2.8884691229891, 0.842470160871821, 1, 2.80823386957274, \n    1, 1, 3.36988064348729, 1, 0.240705760249092, 1, 1, 1, 1, \n    1.1232935478291, 1, 0.187215591304849, 3.36988064348729, \n    0.0864071959868535, 2.24658709565819, 0.17736213913091, 0.249620788406466, \n    0.673976128697457, 0.17736213913091, 1, 2.24658709565819, \n    0.198228273146311, 1, 0.12961079398028, 0.187215591304849, \n    0.187215591304849, 0.198228273146311, 0.198228273146311, \n    0.0864071959868535, 0.12961079398028, 0.187215591304849, \n    0.153176392885786, 0.198228273146311, 0.160470506832728, \n    0.198228273146311, 1.68494032174364, 0.153176392885786, 0.198228273146311, \n    0.160470506832728, 1, 0.17736213913091, 0.12961079398028, \n    0.12961079398028, 10.1096419304619, 1, 0.198228273146311, \n    1.1232935478291, 1, 0.12961079398028, 0.198228273146311, \n    0.198228273146311, 0.160470506832728, 0.561646773914548, \n    0.25922158796056, 0.249620788406466, 0.0864071959868535, \n    0.17736213913091, 0.0864071959868535, 0.249620788406466, \n    1, 0.17736213913091, 0.187215591304849, 0.168494032174364, \n    0.153176392885786, 0.280823386957274, 0.168494032174364, \n    0.0864071959868535, 0.673976128697457, 0.0864071959868535, \n    0.160470506832728, 0.561646773914548, 0.249620788406466, \n    0.160470506832728, 0.17736213913091, 1.1232935478291, 0.249620788406466, \n    0.249620788406466, 0.249620788406466, 3.36988064348729, 0.168494032174364, \n    0.168494032174364, 0.187215591304849, 0.198228273146311, \n    0.17736213913091, 0.160470506832728, 0.17736213913091, 0.17736213913091, \n    0.198228273146311, 0.0864071959868535, 0.187215591304849, \n    0.249620788406466, 0.153176392885786, 3.36988064348729, 0.160470506832728, \n    0.187215591304849, 1, 0.168494032174364, 0.25922158796056, \n    0.0864071959868535, 0.160470506832728, 1, 0.187215591304849, \n    0.187215591304849, 0.0864071959868535, 0.160470506832728, \n    0.12961079398028, 1, 0.673976128697457, 0.168494032174364, \n    0.0864071959868535, 0.17736213913091, 0.17736213913091, 0.0864071959868535, \n    0.0864071959868535, 0.0864071959868535, 0.673976128697457, \n    1.68494032174364, 0.25922158796056, 0.198228273146311, 3.36988064348729, \n    3.36988064348729, 5.05482096523093, 0.198228273146311, 0.17736213913091, \n    1, 1, 1.68494032174364, 0.280823386957274, 0.249620788406466, \n    0.17736213913091, 0.280823386957274, 0.0864071959868535, \n    0.168494032174364, 0.153176392885786, 0.160470506832728, \n    1, 0.249620788406466, 1, 0.421235080435911, 0.0864071959868535, \n    1.34795225739491, 0.249620788406466, 0.481411520498184, 0.561646773914548, \n    0.280823386957274, 0.0864071959868535, 1, 0.561646773914548, \n    0.561646773914548, 0.0864071959868535, 1, 1, 1, 0.336988064348729, \n    0.561646773914548, 0.12961079398028, 1.34795225739491, 0.153176392885786, \n    0.153176392885786, 0.17736213913091, 1, 0.12961079398028, \n    0.561646773914548, 0.153176392885786, 0.17736213913091, 1, \n    1, 1, 1, 1, 1, 1, 1, 0.168494032174364, 0.17736213913091, \n    0.673976128697457, 0.336988064348729, 1, 0.198228273146311, \n    3.36988064348729, 0.153176392885786, 0.421235080435911, 0.336988064348729, \n    0.561646773914548, 3.36988064348729, 0.17736213913091, 0.25922158796056, \n    0.25922158796056, 0.12961079398028, 1, 0.153176392885786, \n    0.187215591304849, 1, 0.25922158796056, 0.249620788406466, \n    3.36988064348729, 0.160470506832728, 1, 0.187215591304849, \n    0.12961079398028, 0.12961079398028, 0.198228273146311, 0.198228273146311, \n    0.187215591304849, 0.0864071959868535, 0.187215591304849, \n    0.187215591304849, 0.187215591304849, 3.36988064348729, 1, \n    0.17736213913091, 0.842470160871821, 0.561646773914548, 1, \n    1, 0.561646773914548, 1, 0.842470160871821, 0.561646773914548, \n    3.36988064348729, 0.0864071959868535, 0.168494032174364, \n    0.160470506832728, 1.68494032174364, 0.153176392885786, 0.198228273146311, \n    3.36988064348729, 0.198228273146311, 0.168494032174364, 1.34795225739491, \n    1, 1.34795225739491, 0.249620788406466, 0.673976128697457, \n    0.17736213913091, 3.36988064348729, 0.249620788406466, 0.187215591304849, \n    0.12961079398028, 0.187215591304849, 0.561646773914548, 0.198228273146311, \n    0.0864071959868535, 1, 0.160470506832728, 0.187215591304849, \n    1, 0.198228273146311, 0.0864071959868535, 0.160470506832728, \n    0.25922158796056, 0.673976128697457, 0.187215591304849, 0.0864071959868535, \n    0.842470160871821, 1, 0.168494032174364, 0.561646773914548, \n    0.561646773914548, 3.36988064348729, 1, 0.168494032174364, \n    0.187215591304849, 1.68494032174364, 1, 1, 0.168494032174364, \n    0.187215591304849, 0.12961079398028, 0.12961079398028, 0.187215591304849, \n    0.25922158796056, 1, 0.168494032174364, 0.25922158796056, \n    0.25922158796056, 0.25922158796056, 1, 0.187215591304849, \n    0.25922158796056, 0.25922158796056, 0.25922158796056, 0.25922158796056, \n    1, 0.25922158796056, 0.198228273146311, 0.168494032174364, \n    0.17736213913091, 0.12961079398028, 0.12961079398028, 0.249620788406466, \n    0.421235080435911, 0.421235080435911, 0.481411520498184, \n    0.0864071959868535, 0.0864071959868535, 0.187215591304849, \n    0.17736213913091, 1, 1, 0.0864071959868535, 0.336988064348729, \n    0.17736213913091, 0.280823386957274, 0.17736213913091, 0.249620788406466, \n    0.17736213913091, 0.198228273146311, 0.187215591304849, 1.34795225739491, \n    1, 1, 0.421235080435911, 1, 3.36988064348729, 3.36988064348729, \n    1, 3.36988064348729, 0.25922158796056, 1, 0.0864071959868535, \n    0.0864071959868535, 0.160470506832728, 1.68494032174364, \n    0.187215591304849, 1, 0.187215591304849, 0.160470506832728, \n    0.187215591304849, 2.24658709565819, 0.187215591304849, 0.187215591304849, \n    3.36988064348729, 0.421235080435911, 0.198228273146311, 0.187215591304849, \n    0.187215591304849, 0.187215591304849, 0.187215591304849, \n    0.280823386957274, 1.34795225739491, 0.561646773914548, 1, \n    0.153176392885786, 1, 0.249620788406466, 0.17736213913091, \n    0.12961079398028, 0.0864071959868535, 1, 0.249620788406466, \n    0.153176392885786, 0.198228273146311, 0.198228273146311, \n    0.17736213913091, 0.481411520498184, 0.673976128697457, 0.561646773914548, \n    0.481411520498184, 0.0864071959868535, 0.153176392885786, \n    3.36988064348729, 1.34795225739491, 0.249620788406466, 0.160470506832728, \n    0.198228273146311, 0.168494032174364, 0.187215591304849, \n    0.25922158796056, 1.68494032174364, 0.187215591304849, 0.25922158796056, \n    5.05482096523093, 0.25922158796056, 1, 0.12961079398028, \n    0.168494032174364, 0.187215591304849, 0.25922158796056, 1, \n    3.36988064348729, 0.25922158796056, 0.187215591304849, 0.187215591304849, \n    0.12961079398028, 0.25922158796056, 0.198228273146311, 0.25922158796056, \n    0.12961079398028, 3.36988064348729, 0.168494032174364, 0.842470160871821, \n    1, 1, 0.0864071959868535, 1, 0.336988064348729, 0.673976128697457, \n    1, 0.561646773914548, 0.280823386957274, 0.12961079398028, \n    1, 0.0864071959868535, 3.36988064348729, 1.1232935478291, \n    0.249620788406466, 1, 0.187215591304849, 0.198228273146311, \n    0.673976128697457, 0.17736213913091, 1, 0.187215591304849, \n    0.17736213913091, 0.0864071959868535, 3.36988064348729, 0.336988064348729, \n    0.249620788406466, 1.68494032174364, 0.249620788406466, 0.421235080435911, \n    0.25922158796056, 0.153176392885786, 0.25922158796056, 0.673976128697457, \n    0.17736213913091, 0.198228273146311, 0.187215591304849, 0.187215591304849, \n    0.421235080435911, 0.249620788406466, 0.17736213913091, 0.673976128697457, \n    0.187215591304849, 0.12961079398028, 0.198228273146311, 0.12961079398028, \n    0.0864071959868535, 0.0864071959868535, 1, 0.336988064348729, \n    1.34795225739491, 0.17736213913091, 0.160470506832728, 0.153176392885786, \n    0.481411520498184, 0.0864071959868535, 0.187215591304849, \n    0.12961079398028, 0.0864071959868535, 0.160470506832728, \n    0.187215591304849, 0.0864071959868535, 1, 1, 0.17736213913091, \n    1.68494032174364, 0.187215591304849, 1.34795225739491, 1.1232935478291, \n    0.336988064348729, 3.36988064348729, 1.68494032174364, 0.673976128697457, \n    0.12961079398028, 0.168494032174364, 1.68494032174364, 1, \n    0.153176392885786, 0.481411520498184, 1.1232935478291, 0.280823386957274, \n    0.280823386957274, 0.280823386957274, 0.17736213913091, 0.187215591304849, \n    0.673976128697457, 0.673976128697457, 0.280823386957274, \n    0.160470506832728, 0.153176392885786, 0.336988064348729, \n    0.673976128697457, 0.673976128697457, 1, 0.153176392885786, \n    1, 0.673976128697457, 0.187215591304849, 0.198228273146311, \n    0.168494032174364, 0.249620788406466, 0.280823386957274, \n    0.0864071959868535, 1, 0.12961079398028, 1.1232935478291, \n    1, 0.187215591304849, 0.187215591304849, 0.673976128697457, \n    0.187215591304849, 0.249620788406466, 0.187215591304849, \n    3.36988064348729, 0.153176392885786, 0.336988064348729, 0.198228273146311, \n    0.481411520498184, 0.153176392885786, 0.0864071959868535, \n    0.198228273146311, 0.17736213913091, 0.673976128697457, 1, \n    0.17736213913091, 0.198228273146311, 3.36988064348729, 0.153176392885786, \n    1, 3.36988064348729, 0.249620788406466, 1.34795225739491, \n    0.561646773914548, 0.17736213913091, 0.17736213913091, 0.249620788406466, \n    3.36988064348729, 0.160470506832728, 0.17736213913091, 1.68494032174364, \n    1.68494032174364, 1, 1.1232935478291, 0.842470160871821, \n    0.673976128697457, 0.673976128697457, 1, 3.36988064348729, \n    1, 0.748862365219397, 0.374431182609698, 1, 1, 0.561646773914548, \n    1, 1, 1, 0.842470160871821, 1.68494032174364, 0.561646773914548, \n    1, 2.24658709565819, 3.36988064348729, 1, 3.36988064348729, \n    1, 1, 3.36988064348729, 1, 1, 3.36988064348729, 1, 1, 0.673976128697457, \n    1.1232935478291, 3.36988064348729, 1, 0.561646773914548, \n    1, 1, 1, 1.68494032174364, 0.561646773914548, 0.306352785771571, \n    3.36988064348729, 2.24658709565819, 6.73976128697457, 0.673976128697457, \n    10.1096419304619, 1, 1, 1, 3.36988064348729, 1.68494032174364, \n    1, 1, 0.306352785771571, 3.36988064348729, 1, 1, 1, 1, 3.36988064348729, \n    1.26370524130773, 1, 0.842470160871821, 1.1232935478291, \n    1.68494032174364, 0.842470160871821, 2.24658709565819, 0.842470160871821, \n    0.842470160871821, 1, 0.673976128697457, 0.421235080435911, \n    1.26370524130773, 0.842470160871821, 2.24658709565819, 1, \n    0.561646773914548, 0.561646773914548, 1.68494032174364, 0.561646773914548, \n    1.34795225739491, 1, 0.842470160871821, 1, 0.673976128697457, \n    1, 1, 1.1232935478291, 0.748862365219397, 1, 0.374431182609698, \n    0.673976128697457, 3.36988064348729, 1, 1, 0.374431182609698, \n    6.73976128697457, 1, 1, 0.842470160871821, 2.24658709565819, \n    1, 1, 1, 3.36988064348729, 3.36988064348729, 3.36988064348729, \n    1, 3.36988064348729, 1, 1, 1, 1, 0.561646773914548, 0.842470160871821, \n    0.842470160871821, 1, 4.49317419131638, 1, 1, 1, 0.561646773914548, \n    3.36988064348729, 5.05482096523093, 0.673976128697457, 0.842470160871821, \n    0.748862365219397, 1.1232935478291, 2.24658709565819, 0.561646773914548, \n    0.306352785771571, 1.68494032174364, 0.842470160871821, 0.842470160871821, \n    1, 1, 0.306352785771571, 1, 1, 1.1232935478291, 3.36988064348729, \n    1, 2.24658709565819, 1, 1.68494032174364, 0.374431182609698, \n    0.673976128697457, 6.73976128697457, 0.962823040996367, 0.842470160871821, \n    1, 0.673976128697457, 1.1232935478291, 1, 1, 2.24658709565819, \n    1, 3.36988064348729, 2.24658709565819, 1.68494032174364, \n    1, 1, 2.24658709565819, 0.673976128697457, 1, 1, 0.962823040996367, \n    0.561646773914548, 1.1232935478291, 3.36988064348729, 1, \n    1, 0.842470160871821, 1, 2.24658709565819, 1, 1, 6.73976128697457, \n    1, 1, 0.374431182609698, 1.26370524130773, 1, 0.374431182609698, \n    1, 1, 1.68494032174364, 0.842470160871821, 1, 1, 1, 1, 1, \n    1, 0.673976128697457, 3.36988064348729, 2.24658709565819, \n    0.374431182609698, 1, 0.421235080435911, 0.421235080435911, \n    1.68494032174364, 1.1232935478291, 1.1232935478291, 3.36988064348729, \n    4.49317419131638, 1, 6.73976128697457, 1.1232935478291, 0.561646773914548, \n    0.673976128697457, 1, 0.374431182609698, 13.4795225739491, \n    1.34795225739491, 3.36988064348729, 0.561646773914548, 3.36988064348729, \n    0.673976128697457, 0.421235080435911, 1.68494032174364, 0.374431182609698, \n    3.36988064348729, 0.306352785771571, 0.748862365219397, 1, \n    0.374431182609698, 0.962823040996367, 1, 0.306352785771571, \n    3.36988064348729, 0.962823040996367, 1, 1, 1.68494032174364, \n    1.68494032174364, 1, 1, 0.842470160871821, 1, 1, 1, 3.36988064348729, \n    1, 1, 1, 1, 1, 1, 1, 1, 1, 1, 1, 1, 1, 1, 1, 3.36988064348729, \n    2.24658709565819, 0.842470160871821, 3.36988064348729, 1, \n    1.68494032174364, 0.561646773914548, 4.49317419131638, 1, \n    3.36988064348729, 3.36988064348729, 1, 0.842470160871821, \n    0.421235080435911, 0.842470160871821, 1, 1, 0.374431182609698, \n    1.1232935478291, 1, 1, 4.49317419131638, 1, 1, 1, 1, 0.748862365219397, \n    1, 3.36988064348729, 5.05482096523093, 1, 1, 1, 1, 1, 1, \n    0.842470160871821, 3.36988064348729, 1, 0.306352785771571, \n    1.1232935478291, 1.68494032174364, 0.561646773914548, 1, \n    1, 3.36988064348729, 1, 1, 0.673976128697457, 1, 1, 2.24658709565819, \n    0.842470160871821, 1, 1, 1.1232935478291, 3.36988064348729, \n    0.374431182609698, 13.4795225739491, 1, 0.561646773914548, \n    13.4795225739491, 5.05482096523093, 1.26370524130773, 1, \n    0.842470160871821, 6.73976128697457, 1, 0.306352785771571, \n    0.561646773914548, 10.1096419304619, 0.561646773914548, 0.561646773914548, \n    0.561646773914548, 1, 0.748862365219397, 1.1232935478291, \n    0.842470160871821, 2.24658709565819, 1, 3.36988064348729, \n    1, 1.1232935478291, 1.1232935478291, 1, 3.36988064348729, \n    0.374431182609698, 18.5343435391801, 1, 1.1232935478291, \n    1.34795225739491, 3.36988064348729, 0.842470160871821, 1.68494032174364, \n    13.4795225739491, 1.68494032174364, 1, 0.962823040996367, \n    1, 3.36988064348729, 0.561646773914548, 1.1232935478291, \n    0.561646773914548, 3.36988064348729, 0.561646773914548, 1, \n    0.306352785771571, 1, 3.36988064348729, 0.374431182609698, \n    1, 0.673976128697457, 0.842470160871821, 0.673976128697457, \n    1.1232935478291, 0.561646773914548, 3.36988064348729, 1, \n    0.673976128697457, 3.36988064348729, 1.68494032174364, 1, \n    0.842470160871821, 0.673976128697457, 0.374431182609698, \n    0.962823040996367, 1, 0.374431182609698, 3.36988064348729, \n    1.34795225739491, 1, 1, 0.673976128697457, 1.68494032174364, \n    0.421235080435911, 3.36988064348729, 1, 1, 1, 1, 1, 1.34795225739491, \n    1, 3.36988064348729, 1.1232935478291, 1, 3.36988064348729, \n    6.73976128697457, 1.1232935478291, 6.73976128697457, 1, 1, \n    1.68494032174364, 0.561646773914548, 1, 0.673976128697457, \n    1, 1, 3.36988064348729, 1, 1, 20.2192838609237, 1, 1, 2.24658709565819, \n    1, 0.842470160871821, 1, 0.306352785771571, 1, 1.68494032174364, \n    1, 1, 1.68494032174364, 1, 3.36988064348729, 0.842470160871821, \n    1, 1, 1.26370524130773, 2.24658709565819, 18.5343435391801, \n    0.673976128697457, 3.36988064348729, 6.73976128697457, 3.36988064348729, \n    3.36988064348729, 0.842470160871821, 1, 1, 1, 0.421235080435911, \n    0.842470160871821, 1.1232935478291, 1, 1, 6.73976128697457, \n    1, 3.36988064348729, 1, 1, 1, 0.561646773914548, 1, 1, 1, \n    3.36988064348729, 1.26370524130773, 1.68494032174364, 1.34795225739491, \n    1, 1, 0.748862365219397, 5.05482096523093, 1.26370524130773, \n    1, 0.374431182609698, 1.68494032174364, 1, 4.49317419131638, \n    1.1232935478291, 1, 1, 1.1232935478291, 1, 2.24658709565819, \n    0.842470160871821, 0.561646773914548, 1, 1, 3.36988064348729, \n    0.561646773914548, 0.561646773914548, 3.36988064348729, 3.36988064348729, \n    1.26370524130773, 1.1232935478291, 0.842470160871821, 1, \n    1, 0.374431182609698, 0.748862365219397, 3.36988064348729, \n    1.34795225739491, 1, 1.34795225739491, 1, 3.36988064348729, \n    0.962823040996367, 1, 0.842470160871821, 0.842470160871821, \n    1, 3.36988064348729, 0.842470160871821, 3.36988064348729, \n    1.68494032174364, 10.1096419304619, 3.36988064348729, 3.36988064348729, \n    1, 0.842470160871821, 13.4795225739491, 1, 1, 1.68494032174364, \n    1, 3.36988064348729, 0.842470160871821, 0.673976128697457, \n    6.73976128697457, 1, 1.34795225739491, 2.24658709565819, \n    0.673976128697457, 4.49317419131638, 2.24658709565819, 1, \n    1, 2.24658709565819, 0.842470160871821, 1.68494032174364, \n    1, 0.748862365219397, 1, 0.561646773914548, 1.68494032174364, \n    0.306352785771571, 1, 1.68494032174364, 1, 0.673976128697457, \n    3.36988064348729, 1.1232935478291, 1.34795225739491, 0.421235080435911, \n    3.36988064348729, 1, 1, 1))\n\nDeviance Residuals: \n    Min       1Q   Median       3Q      Max  \n-9.9055  -0.6619  -0.4409  -0.1931   1.7180  \n\nCoefficients:\n                                                        Estimate Std. Error\n(Intercept)                                           -1.214e+00  2.903e-01\ngender1                                               -1.523e-03  7.731e-03\nyear2019                                               6.290e-06  1.201e-02\nyear2020                                               1.930e-05  1.186e-02\nyear2021                                               3.455e-05  1.151e-02\nyear2022                                               5.150e-05  1.268e-02\nq1                                                    -9.833e-06  2.962e-01\nq2                                                     4.029e-05  2.892e-01\nq3                                                    -3.289e-05  2.887e-01\nField_EnglishBiology                                  -1.791e-05  3.454e-02\nField_EnglishBiomedical Research                      -7.767e-05  3.217e-02\nField_EnglishBuilt Environment & Design                2.903e-05  8.546e-02\nField_EnglishChemistry                                -2.960e-04  3.978e-02\nField_EnglishClinical Medicine                        -3.316e-05  3.088e-02\nField_EnglishCommunication & Textual Studies           1.760e-04  5.866e-02\nField_EnglishEarth & Environmental Sciences           -8.517e-05  3.705e-02\nField_EnglishEconomics & Business                     -9.519e-05  4.017e-02\nField_EnglishEnabling & Strategic Technologies        -2.571e-04  3.539e-02\nField_EnglishEngineering                              -2.251e-04  4.723e-02\nField_EnglishHistorical Studies                        1.525e-04  6.954e-02\nField_EnglishInformation & Communication Technologies -1.732e-04  4.963e-02\nField_EnglishMathematics & Statistics                 -1.275e-04  1.179e-01\nField_EnglishPhilosophy & Theology                    -1.036e-05  1.121e-01\nField_EnglishPhysics & Astronomy                      -2.622e-04  3.715e-02\nField_EnglishPsychology & Cognitive Sciences           2.253e-04  3.532e-02\nField_EnglishPublic Health & Health Services           3.184e-04  3.277e-02\nField_EnglishSocial Sciences                           2.077e-04  3.693e-02\nField_EnglishVisual & Performing Arts                  1.569e-04  4.336e-01\nteam_size2                                             8.992e-05  2.033e-02\nteam_size3                                             1.136e-04  2.024e-02\nteam_size4                                             1.518e-04  1.908e-02\nteam_size5                                             1.393e-04  1.887e-02\nteam_size6                                             6.842e-05  1.921e-02\nopenaccess_statusYES                                   1.150e-05  8.349e-03\n                                                      z value Pr(>|z|)    \n(Intercept)                                            -4.183 2.88e-05 ***\ngender1                                                -0.197    0.844    \nyear2019                                                0.001    1.000    \nyear2020                                                0.002    0.999    \nyear2021                                                0.003    0.998    \nyear2022                                                0.004    0.997    \nq1                                                      0.000    1.000    \nq2                                                      0.000    1.000    \nq3                                                      0.000    1.000    \nField_EnglishBiology                                   -0.001    1.000    \nField_EnglishBiomedical Research                       -0.002    0.998    \nField_EnglishBuilt Environment & Design                 0.000    1.000    \nField_EnglishChemistry                                 -0.007    0.994    \nField_EnglishClinical Medicine                         -0.001    0.999    \nField_EnglishCommunication & Textual Studies            0.003    0.998    \nField_EnglishEarth & Environmental Sciences            -0.002    0.998    \nField_EnglishEconomics & Business                      -0.002    0.998    \nField_EnglishEnabling & Strategic Technologies         -0.007    0.994    \nField_EnglishEngineering                               -0.005    0.996    \nField_EnglishHistorical Studies                         0.002    0.998    \nField_EnglishInformation & Communication Technologies  -0.003    0.997    \nField_EnglishMathematics & Statistics                  -0.001    0.999    \nField_EnglishPhilosophy & Theology                      0.000    1.000    \nField_EnglishPhysics & Astronomy                       -0.007    0.994    \nField_EnglishPsychology & Cognitive Sciences            0.006    0.995    \nField_EnglishPublic Health & Health Services            0.010    0.992    \nField_EnglishSocial Sciences                            0.006    0.996    \nField_EnglishVisual & Performing Arts                   0.000    1.000    \nteam_size2                                              0.004    0.996    \nteam_size3                                              0.006    0.996    \nteam_size4                                              0.008    0.994    \nteam_size5                                              0.007    0.994    \nteam_size6                                              0.004    0.997    \nopenaccess_statusYES                                    0.001    0.999    \n---\nSignif. codes:  0 ‘***’ 0.001 ‘**’ 0.01 ‘*’ 0.05 ‘.’ 0.1 ‘ ’ 1\n\n(Dispersion parameter for binomial family taken to be 1)\n\n    Null deviance: 452927  on 421037  degrees of freedom\nResidual deviance: 452927  on 421004  degrees of freedom\nAIC: 440748\n\nNumber of Fisher Scoring iterations: 4\n\n\n"
     ]
    }
   ],
   "source": [
    "def domainx(a):\n",
    "  #a = new[new['Field_English'] == i]\n",
    "  #print(len(a))\n",
    "\n",
    "  t = a[a['treatment'] == '1']\n",
    "  c = a[a['treatment'] == '0']\n",
    "  print(\"length of treatment \",len(t[t['gender'] == 1])/len(t))\n",
    "  print(\"length of control \",len(c[c['gender'] == 1])/len(c))\n",
    "\n",
    "  con_18,con_19,con_20,con_21,con_22 = [],[],[],[],[]\n",
    "  t1,t2,t3,t4,t5,t6 = [],[],[],[],[],[]\n",
    "  #oa = []\n",
    "\n",
    "  out = []\n",
    "\n",
    "  cov = []\n",
    "\n",
    "  for ind in a.index:\n",
    "    if a['year'][ind] == 2018 or a['year'][ind] == 2019:\n",
    "      cov.append(0)\n",
    "    else:\n",
    "      cov.append(1)\n",
    "      \n",
    "    if a['treatment'][ind] == '1':\n",
    "      out.append(1)\n",
    "    else:\n",
    "      out.append(0)\n",
    "  \n",
    "\n",
    "  a['outcome'] = out\n",
    "\n",
    "  a['covid'] = cov\n",
    "  #a['oa'] = oa\n",
    "\n",
    "  return a\n",
    "  \n",
    "\n",
    "\n",
    "tmp = domainx(dummy.copy(deep=True)) #est = 0.0564479  0.0527718, p val = 0.2848\n",
    "\n",
    "\n",
    "\n",
    "with localconverter(ro.default_converter + pandas2ri.converter):\n",
    "  tst_df = ro.conversion.py2rpy(tmp)\n",
    "\n",
    "col_2_index = list(tst_df.colnames).index('year')\n",
    "col_2 = ro.vectors.FactorVector(tst_df.rx2('year'))\n",
    "tst_df[col_2_index] = col_2\n",
    "\n",
    "col_2_index = list(tst_df.colnames).index('team_size')\n",
    "col_2 = ro.vectors.FactorVector(tst_df.rx2('team_size'))\n",
    "tst_df[col_2_index] = col_2\n",
    "\n",
    "col_2_index = list(tst_df.colnames).index('openaccess_status')\n",
    "col_2 = ro.vectors.FactorVector(tst_df.rx2('openaccess_status'))\n",
    "tst_df[col_2_index] = col_2\n",
    "\n",
    "\n",
    "col_2_index = list(tst_df.colnames).index('q')\n",
    "col_2 = ro.vectors.FactorVector(tst_df.rx2('q'))\n",
    "tst_df[col_2_index] = col_2\n",
    "\n",
    "col_2_index = list(tst_df.colnames).index('covid')\n",
    "col_2 = ro.vectors.FactorVector(tst_df.rx2('covid'))\n",
    "tst_df[col_2_index] = col_2\n",
    "\n",
    "col_2_index = list(tst_df.colnames).index('gender')\n",
    "col_2 = ro.vectors.FactorVector(tst_df.rx2('gender'))\n",
    "tst_df[col_2_index] = col_2\n",
    "\n",
    "\n",
    "col_2_index = list(tst_df.colnames).index('Field_English')\n",
    "col_2 = ro.vectors.FactorVector(tst_df.rx2('Field_English'))\n",
    "tst_df[col_2_index] = col_2\n",
    "\n",
    "'''col_2_index = list(tst_df.colnames).index('outcome')\n",
    "col_2 = ro.vectors.FactorVector(tst_df.rx2('outcome'))\n",
    "tst_df[col_2_index] = col_2'''\n",
    "\n",
    "#print(tst_df)\n",
    "#pandas2ri.activate()\n",
    "model = stats.glm(\"outcome ~ gender+year+q+Field_English+team_size+openaccess_status\",\n",
    "                  data=tst_df, weights = tst_df.rx2('weight'),family=ro.r('binomial(link=\"logit\")'))\n",
    "print(base.summary(model))"
   ]
  }
 ],
 "metadata": {
  "application/vnd.databricks.v1+notebook": {
   "dashboards": [],
   "environmentMetadata": null,
   "language": "python",
   "notebookMetadata": {
    "pythonIndentUnit": 4
   },
   "notebookName": "Categorical_Analysis_fresh",
   "widgets": {}
  }
 },
 "nbformat": 4,
 "nbformat_minor": 0
}
