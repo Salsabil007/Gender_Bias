{
 "cells": [
  {
   "cell_type": "code",
   "execution_count": 0,
   "metadata": {
    "application/vnd.databricks.v1+cell": {
     "cellMetadata": {
      "byteLimit": 2048000,
      "rowLimit": 10000
     },
     "inputWidgets": {},
     "nuid": "ff76847a-2835-44bd-8c1a-80ffdd6e5a90",
     "showTitle": false,
     "title": ""
    }
   },
   "outputs": [],
   "source": [
    "project_name = 'test_project_1'\n",
    "#permissions='default'\n",
    "permissions='fulldata'"
   ]
  },
  {
   "cell_type": "code",
   "execution_count": 0,
   "metadata": {
    "application/vnd.databricks.v1+cell": {
     "cellMetadata": {
      "byteLimit": 2048000,
      "rowLimit": 10000
     },
     "inputWidgets": {},
     "nuid": "23fd5176-014a-442a-91fe-ce5e083e1d10",
     "showTitle": false,
     "title": ""
    }
   },
   "outputs": [
    {
     "output_type": "stream",
     "name": "stdout",
     "output_type": "stream",
     "text": [
      "Python interpreter will be restarted.\nCollecting pycountry\n  Downloading pycountry-22.3.5.tar.gz (10.1 MB)\n  Installing build dependencies: started\n  Installing build dependencies: finished with status 'done'\n  Getting requirements to build wheel: started\n  Getting requirements to build wheel: finished with status 'done'\n    Preparing wheel metadata: started\n    Preparing wheel metadata: finished with status 'done'\nRequirement already satisfied: setuptools in /usr/local/lib/python3.9/dist-packages (from pycountry) (58.0.4)\nBuilding wheels for collected packages: pycountry\n  Building wheel for pycountry (PEP 517): started\n  Building wheel for pycountry (PEP 517): finished with status 'done'\n  Created wheel for pycountry: filename=pycountry-22.3.5-py2.py3-none-any.whl size=10681845 sha256=4b75ea946a52c756dbe4918a0bc10fcb545bc3b5b16edb143046224acfc94cac\n  Stored in directory: /root/.cache/pip/wheels/47/15/92/e6dc85fcb0686c82e1edbcfdf80cfe4808c058813fed0baa8f\nSuccessfully built pycountry\nInstalling collected packages: pycountry\nSuccessfully installed pycountry-22.3.5\nPython interpreter will be restarted.\n"
     ]
    }
   ],
   "source": [
    "pip install pycountry"
   ]
  },
  {
   "cell_type": "code",
   "execution_count": 0,
   "metadata": {
    "application/vnd.databricks.v1+cell": {
     "cellMetadata": {
      "byteLimit": 2048000,
      "rowLimit": 10000
     },
     "inputWidgets": {},
     "nuid": "8026a732-693c-46aa-b016-23d9bd019836",
     "showTitle": false,
     "title": ""
    }
   },
   "outputs": [
    {
     "output_type": "stream",
     "name": "stdout",
     "output_type": "stream",
     "text": [
      "Python interpreter will be restarted.\nRequirement already satisfied: markupsafe==2.0.1 in /databricks/python3/lib/python3.9/site-packages (2.0.1)\nPython interpreter will be restarted.\nPython interpreter will be restarted.\nCollecting rpy2\n  Using cached rpy2-3.5.14.tar.gz (219 kB)\n  Installing build dependencies: started\n  Installing build dependencies: finished with status 'done'\n  Getting requirements to build wheel: started\n  Getting requirements to build wheel: finished with status 'error'\n  ERROR: Command errored out with exit status 1:\n   command: /local_disk0/.ephemeral_nfs/envs/pythonEnv-b1167780-4979-4786-8f19-6cdff5f0788c/bin/python /local_disk0/.ephemeral_nfs/envs/pythonEnv-b1167780-4979-4786-8f19-6cdff5f0788c/lib/python3.9/site-packages/pip/_vendor/pep517/in_process/_in_process.py get_requires_for_build_wheel /tmp/tmp90b95n89\n       cwd: /tmp/pip-install-vzzfvqf5/rpy2_082a7ac69e07464883f87d67bc99d493\n  Complete output (16 lines):\n  Traceback (most recent call last):\n    File \"/local_disk0/.ephemeral_nfs/envs/pythonEnv-b1167780-4979-4786-8f19-6cdff5f0788c/lib/python3.9/site-packages/pip/_vendor/pep517/in_process/_in_process.py\", line 349, in <module>\n      main()\n    File \"/local_disk0/.ephemeral_nfs/envs/pythonEnv-b1167780-4979-4786-8f19-6cdff5f0788c/lib/python3.9/site-packages/pip/_vendor/pep517/in_process/_in_process.py\", line 331, in main\n      json_out['return_val'] = hook(**hook_input['kwargs'])\n    File \"/local_disk0/.ephemeral_nfs/envs/pythonEnv-b1167780-4979-4786-8f19-6cdff5f0788c/lib/python3.9/site-packages/pip/_vendor/pep517/in_process/_in_process.py\", line 117, in get_requires_for_build_wheel\n      return hook(config_settings)\n    File \"/usr/local/lib/python3.9/dist-packages/setuptools/build_meta.py\", line 154, in get_requires_for_build_wheel\n      return self._get_build_requires(\n    File \"/usr/local/lib/python3.9/dist-packages/setuptools/build_meta.py\", line 135, in _get_build_requires\n      self.run_setup()\n    File \"/usr/local/lib/python3.9/dist-packages/setuptools/build_meta.py\", line 150, in run_setup\n      exec(compile(code, __file__, 'exec'), locals())\n    File \"setup.py\", line 23, in <module>\n      import setuptools.command.build\n  ModuleNotFoundError: No module named 'setuptools.command.build'\n  ----------------------------------------\nWARNING: Discarding https://files.pythonhosted.org/packages/30/dc/d9748ec2b61b6a1fcbaff3891961297c83cfa34c9f9984761fb6f6ae65d0/rpy2-3.5.14.tar.gz#sha256=5f46ae31d36e117be366ad4ae02493c015ac6ba59ebe3b4cd7200075332fc481 (from https://pypi.org/simple/rpy2/) (requires-python:>=3.7). Command errored out with exit status 1: /local_disk0/.ephemeral_nfs/envs/pythonEnv-b1167780-4979-4786-8f19-6cdff5f0788c/bin/python /local_disk0/.ephemeral_nfs/envs/pythonEnv-b1167780-4979-4786-8f19-6cdff5f0788c/lib/python3.9/site-packages/pip/_vendor/pep517/in_process/_in_process.py get_requires_for_build_wheel /tmp/tmp90b95n89 Check the logs for full command output.\n  Using cached rpy2-3.5.13.tar.gz (218 kB)\n  Installing build dependencies: started\n  Installing build dependencies: finished with status 'done'\n  Getting requirements to build wheel: started\n  Getting requirements to build wheel: finished with status 'done'\n    Preparing wheel metadata: started\n    Preparing wheel metadata: finished with status 'done'\n  WARNING: Generating metadata for package rpy2 produced metadata for project name unknown. Fix your #egg=rpy2 fragments.\nWARNING: Discarding https://files.pythonhosted.org/packages/55/43/d11bbc1e87383e8a01d74022182bc292011760a2f23c449d2c04dc1b794e/rpy2-3.5.13.tar.gz#sha256=41d037599f54336f54e754d82853fae06be9438d9fb3b514d90da74eaf328ddd (from https://pypi.org/simple/rpy2/) (requires-python:>=3.7). Requested unknown from https://files.pythonhosted.org/packages/55/43/d11bbc1e87383e8a01d74022182bc292011760a2f23c449d2c04dc1b794e/rpy2-3.5.13.tar.gz#sha256=41d037599f54336f54e754d82853fae06be9438d9fb3b514d90da74eaf328ddd has inconsistent name: filename has 'rpy2', but metadata has 'UNKNOWN'\n  Using cached rpy2-3.5.12.tar.gz (217 kB)\n  Installing build dependencies: started\n  Installing build dependencies: finished with status 'done'\n  Getting requirements to build wheel: started\n  Getting requirements to build wheel: finished with status 'done'\n    Preparing wheel metadata: started\n    Preparing wheel metadata: finished with status 'done'\n  WARNING: Generating metadata for package rpy2 produced metadata for project name unknown. Fix your #egg=rpy2 fragments.\nWARNING: Discarding https://files.pythonhosted.org/packages/5c/f2/ebeb1679b93badaffdd709b0ed4ea9a0335974fb6a2b950875ec2bf1b6bb/rpy2-3.5.12.tar.gz#sha256=eeadf794fd2aa548f88568c6a1d26e7c3810cd4a764a87b2c3b31d31942d6d45 (from https://pypi.org/simple/rpy2/) (requires-python:>=3.7). Requested unknown from https://files.pythonhosted.org/packages/5c/f2/ebeb1679b93badaffdd709b0ed4ea9a0335974fb6a2b950875ec2bf1b6bb/rpy2-3.5.12.tar.gz#sha256=eeadf794fd2aa548f88568c6a1d26e7c3810cd4a764a87b2c3b31d31942d6d45 has inconsistent name: filename has 'rpy2', but metadata has 'UNKNOWN'\n  Using cached rpy2-3.5.11.tar.gz (216 kB)\n  Installing build dependencies: started\n  Installing build dependencies: finished with status 'done'\n  Getting requirements to build wheel: started\n  Getting requirements to build wheel: finished with status 'done'\n    Preparing wheel metadata: started\n    Preparing wheel metadata: finished with status 'done'\n  WARNING: Generating metadata for package rpy2 produced metadata for project name unknown. Fix your #egg=rpy2 fragments.\nWARNING: Discarding https://files.pythonhosted.org/packages/21/83/58efe42e96397d441609e411d37392dc68198f1a2ff7663c21a1cb07e6a8/rpy2-3.5.11.tar.gz#sha256=0d3e554dac8f4e55a28932f2946341aae3e02894304e1198547222aa86b89e21 (from https://pypi.org/simple/rpy2/) (requires-python:>=3.7). Requested unknown from https://files.pythonhosted.org/packages/21/83/58efe42e96397d441609e411d37392dc68198f1a2ff7663c21a1cb07e6a8/rpy2-3.5.11.tar.gz#sha256=0d3e554dac8f4e55a28932f2946341aae3e02894304e1198547222aa86b89e21 has inconsistent name: filename has 'rpy2', but metadata has 'UNKNOWN'\n  Using cached rpy2-3.5.10.tar.gz (215 kB)\n  Installing build dependencies: started\n  Installing build dependencies: finished with status 'done'\n  Getting requirements to build wheel: started\n  Getting requirements to build wheel: finished with status 'done'\n    Preparing wheel metadata: started\n    Preparing wheel metadata: finished with status 'done'\n  WARNING: Generating metadata for package rpy2 produced metadata for project name unknown. Fix your #egg=rpy2 fragments.\nWARNING: Discarding https://files.pythonhosted.org/packages/fe/1c/18c718a1365bedc10438810637b5d735737c697998d5c163cc58edb6f1ee/rpy2-3.5.10.tar.gz#sha256=f81f0afb01e3c6f515c09573bc585c0e1c7e385ec81415ce0a62268c605ec7fc (from https://pypi.org/simple/rpy2/) (requires-python:>=3.7). Requested unknown from https://files.pythonhosted.org/packages/fe/1c/18c718a1365bedc10438810637b5d735737c697998d5c163cc58edb6f1ee/rpy2-3.5.10.tar.gz#sha256=f81f0afb01e3c6f515c09573bc585c0e1c7e385ec81415ce0a62268c605ec7fc has inconsistent name: filename has 'rpy2', but metadata has 'UNKNOWN'\n  Using cached rpy2-3.5.9.tar.gz (215 kB)\n  Installing build dependencies: started\n  Installing build dependencies: finished with status 'done'\n  Getting requirements to build wheel: started\n  Getting requirements to build wheel: finished with status 'done'\n    Preparing wheel metadata: started\n    Preparing wheel metadata: finished with status 'done'\n  WARNING: Generating metadata for package rpy2 produced metadata for project name unknown. Fix your #egg=rpy2 fragments.\nWARNING: Discarding https://files.pythonhosted.org/packages/f9/d4/f817a523c4168c826a816f89a5a080fa2fd7ad939dbfece5eb5d01235070/rpy2-3.5.9.tar.gz#sha256=89a0d7e340657795558e0db6bf9d8f1395428ba118af9023515dda928e6944f0 (from https://pypi.org/simple/rpy2/) (requires-python:>=3.7). Requested unknown from https://files.pythonhosted.org/packages/f9/d4/f817a523c4168c826a816f89a5a080fa2fd7ad939dbfece5eb5d01235070/rpy2-3.5.9.tar.gz#sha256=89a0d7e340657795558e0db6bf9d8f1395428ba118af9023515dda928e6944f0 has inconsistent name: filename has 'rpy2', but metadata has 'UNKNOWN'\n  Using cached rpy2-3.5.8.tar.gz (214 kB)\n  Installing build dependencies: started\n  Installing build dependencies: finished with status 'done'\n  Getting requirements to build wheel: started\n  Getting requirements to build wheel: finished with status 'done'\n    Preparing wheel metadata: started\n    Preparing wheel metadata: finished with status 'done'\n  WARNING: Generating metadata for package rpy2 produced metadata for project name unknown. Fix your #egg=rpy2 fragments.\nWARNING: Discarding https://files.pythonhosted.org/packages/a2/63/442160f69e1f163c24a73a3796b9ebd63c217b73941e4888734687e225d4/rpy2-3.5.8.tar.gz#sha256=22611f21bc52798087fb98309705f1a25cfbe8bfd27fbfeeea01f3d352fddb29 (from https://pypi.org/simple/rpy2/) (requires-python:>=3.7). Requested unknown from https://files.pythonhosted.org/packages/a2/63/442160f69e1f163c24a73a3796b9ebd63c217b73941e4888734687e225d4/rpy2-3.5.8.tar.gz#sha256=22611f21bc52798087fb98309705f1a25cfbe8bfd27fbfeeea01f3d352fddb29 has inconsistent name: filename has 'rpy2', but metadata has 'UNKNOWN'\n  Using cached rpy2-3.5.7.tar.gz (213 kB)\n  Installing build dependencies: started\n  Installing build dependencies: finished with status 'done'\n  Getting requirements to build wheel: started\n  Getting requirements to build wheel: finished with status 'done'\n    Preparing wheel metadata: started\n    Preparing wheel metadata: finished with status 'done'\n  WARNING: Generating metadata for package rpy2 produced metadata for project name unknown. Fix your #egg=rpy2 fragments.\nWARNING: Discarding https://files.pythonhosted.org/packages/8b/39/4a9d9e59ba062f156a642af7271bed418584406a6e65c3a23d1ded8c4a77/rpy2-3.5.7.tar.gz#sha256=87a4090379b4fc34e7f3a43471730906776c37398887086a80357d64fdd0654b (from https://pypi.org/simple/rpy2/) (requires-python:>=3.7). Requested unknown from https://files.pythonhosted.org/packages/8b/39/4a9d9e59ba062f156a642af7271bed418584406a6e65c3a23d1ded8c4a77/rpy2-3.5.7.tar.gz#sha256=87a4090379b4fc34e7f3a43471730906776c37398887086a80357d64fdd0654b has inconsistent name: filename has 'rpy2', but metadata has 'UNKNOWN'\n  Using cached rpy2-3.5.6.tar.gz (211 kB)\n  Installing build dependencies: started\n  Installing build dependencies: finished with status 'done'\n  Getting requirements to build wheel: started\n  Getting requirements to build wheel: finished with status 'done'\n    Preparing wheel metadata: started\n    Preparing wheel metadata: finished with status 'done'\n  WARNING: Generating metadata for package rpy2 produced metadata for project name unknown. Fix your #egg=rpy2 fragments.\nWARNING: Discarding https://files.pythonhosted.org/packages/ae/bd/2606e674ef0760fbe832e32274d23a9e2ca5192ab1d43a04ee5e24cf7045/rpy2-3.5.6.tar.gz#sha256=3404f1031d2d8ff8a1002656ab8e394b8ac16dd34ca43af68deed102f396e771 (from https://pypi.org/simple/rpy2/) (requires-python:>=3.7). Requested unknown from https://files.pythonhosted.org/packages/ae/bd/2606e674ef0760fbe832e32274d23a9e2ca5192ab1d43a04ee5e24cf7045/rpy2-3.5.6.tar.gz#sha256=3404f1031d2d8ff8a1002656ab8e394b8ac16dd34ca43af68deed102f396e771 has inconsistent name: filename has 'rpy2', but metadata has 'UNKNOWN'\n  Using cached rpy2-3.5.5-cp39-cp39-linux_x86_64.whl\nRequirement already satisfied: pytz in /databricks/python3/lib/python3.9/site-packages (from rpy2) (2021.3)\nRequirement already satisfied: jinja2 in /databricks/python3/lib/python3.9/site-packages (from rpy2) (2.11.3)\nRequirement already satisfied: cffi>=1.10.0 in /databricks/python3/lib/python3.9/site-packages (from rpy2) (1.14.6)\nCollecting tzlocal\n  Using cached tzlocal-5.2-py3-none-any.whl (17 kB)\nRequirement already satisfied: pycparser in /databricks/python3/lib/python3.9/site-packages (from cffi>=1.10.0->rpy2) (2.20)\nRequirement already satisfied: MarkupSafe>=0.23 in /databricks/python3/lib/python3.9/site-packages (from jinja2->rpy2) (2.0.1)\nInstalling collected packages: tzlocal, rpy2\nSuccessfully installed rpy2-3.5.5 tzlocal-5.2\nPython interpreter will be restarted.\n"
     ]
    }
   ],
   "source": [
    "%pip install markupsafe==2.0.1\n",
    "%pip install rpy2"
   ]
  },
  {
   "cell_type": "code",
   "execution_count": 0,
   "metadata": {
    "application/vnd.databricks.v1+cell": {
     "cellMetadata": {
      "byteLimit": 2048000,
      "rowLimit": 10000
     },
     "inputWidgets": {},
     "nuid": "c4b66e86-f855-436f-afd6-75bf02cb383a",
     "showTitle": false,
     "title": ""
    }
   },
   "outputs": [],
   "source": [
    "%run /Snippets/header_008"
   ]
  },
  {
   "cell_type": "code",
   "execution_count": 0,
   "metadata": {
    "application/vnd.databricks.v1+cell": {
     "cellMetadata": {
      "byteLimit": 2048000,
      "rowLimit": 10000
     },
     "inputWidgets": {},
     "nuid": "753f8333-ec45-454e-8277-715a3f0281a5",
     "showTitle": false,
     "title": ""
    }
   },
   "outputs": [
    {
     "output_type": "stream",
     "name": "stdout",
     "output_type": "stream",
     "text": [
      "PROJECT DETAILS:\nProject identifier: test_project_1\nCluster data access level: fulldata\n"
     ]
    },
    {
     "output_type": "display_data",
     "data": {
      "text/html": [
       "<style scoped>\n",
       "  .ansiout {\n",
       "    display: block;\n",
       "    unicode-bidi: embed;\n",
       "    white-space: pre-wrap;\n",
       "    word-wrap: break-word;\n",
       "    word-break: break-all;\n",
       "    font-family: \"Menlo\", \"Monaco\", \"Consolas\", \"Ubuntu Mono\", \"Source Code Pro\", monospace;\n",
       "    font-size: 13px;\n",
       "    color: #555;\n",
       "    margin-left: 4px;\n",
       "    line-height: 19px;\n",
       "  }\n",
       "</style>"
      ]
     },
     "metadata": {
      "application/vnd.databricks.v1+output": {
       "arguments": {},
       "data": "",
       "errorSummary": "Command skipped",
       "errorTraceType": "html",
       "metadata": {},
       "type": "ipynbError"
      }
     },
     "output_type": "display_data"
    }
   ],
   "source": [
    "import pandas as pd\n",
    "import pyspark.sql.functions as F\n",
    "def first(lst):\n",
    "  return lst[0]\n",
    "def extract_publication_info(newdf):\n",
    "  #newdf = df_ani.limit(50)\n",
    "  newdf = newdf.select('doi','Eid','year','Au','Au_Af','Au_cors','publication_type','openaccess','issn','source','news_cnt','correspondence','Af')\n",
    "\n",
    "\n",
    "  newdf = newdf.withColumn('Au1', first(newdf['Au']))\n",
    "\n",
    "\n",
    "\n",
    "  newdf = newdf.withColumn('Au2', F.element_at(newdf['Au'], -1))\n",
    "\n",
    "  newdf = newdf.withColumn('num_au', F.size(newdf['Au']))\n",
    "\n",
    "  newdf = newdf.withColumn('Au1_id', F.col('Au1').getItem('auid'))\n",
    "\n",
    "  newdf = newdf.withColumn('Au2_id', F.col('Au2').getItem('auid'))\n",
    "\n",
    "  newdf = newdf.withColumn('Au_cor_id', F.col('Au_cors').getItem('auid'))\n",
    "  #newdf = newdf.withColumn('Au_cor_name', F.col('Au_cors').getItem('given_name'))\n",
    "  #newdf = newdf.withColumn('cor1_given_name', first(newdf['Au_cor_name']))\n",
    "\n",
    "  newdf = newdf.withColumn('cor_seq', F.col('Au_cors').getItem('Authorseq'))\n",
    "  newdf = newdf.withColumn('cor_seq_first', first(newdf['cor_seq']))\n",
    "\n",
    "  newdf = newdf.withColumn('auth_seq', F.col('Au_Af').getItem('Authorseq'))\n",
    "  newdf = newdf.withColumn('aff_seq', F.col('Au_Af').getItem('affiliation_seq'))\n",
    "  newdf = newdf.withColumn(\"auth_pos\", F.expr(\"array_position(auth_seq, cor_seq_first)\"))\n",
    "\n",
    "  newdf = newdf.withColumn(\"auth_pos\", newdf[\"auth_pos\"].cast(IntegerType()))  \n",
    "  #newdf = newdf.filter(F.col('aff_seq').isNotNull())\n",
    "  newdf = newdf.filter(F.col('auth_pos') != 0)\n",
    "  newdf = newdf.withColumn(\"aff\", F.element_at(newdf['aff_seq'], newdf['auth_pos']))\n",
    "  newdf = newdf.withColumn(\"aff_val\", F.element_at(newdf['Af'], newdf['aff']))\n",
    "  newdf = newdf.withColumn(\"cor_afid\", F.col('aff_val').getItem('afid'))\n",
    "\n",
    "  newdf = newdf.withColumn('given_seq', F.col('Au').getItem('given_name'))\n",
    "  newdf = newdf.withColumn(\"cor1_given_name\", F.element_at(newdf['given_seq'], newdf['cor_seq_first']))\n",
    "  display(newdf.limit(10))\n",
    "\n",
    "  return newdf\n",
    "def get_smc_classification(newdf):\n",
    "  df_smc_ani = spark.read.format(\"parquet\").load(basePath+tablename_smc_complete)\n",
    "  newdf2 = newdf.join(df_smc_ani,'Eid', 'inner')\n",
    "  return newdf2\n",
    "\n",
    "def get_gender(newdf):\n",
    "  df_gender = spark.read.format(\"parquet\").load(basePath+tablename_gender_inference)\n",
    "  #non_null_count = newdf.where(F.col('Au1_id').isNotNull()).count()\n",
    "  mergedf = df_gender.join(newdf, newdf.Au1_id == df_gender.auid, 'inner').select(\n",
    "      df_gender.Inferred_Probable_Gender,newdf.doi,newdf.news_cnt,newdf.Au,newdf.Eid, newdf.year, newdf.publication_type,newdf.openaccess, newdf.issn, \n",
    "      newdf.num_au, newdf.Au1_id,newdf.Au2_id,newdf.Au_cor_id, newdf.srcid, newdf.subfield_article, newdf.subfield_journal, newdf.subfield_hybrid,newdf.correspondence,\n",
    "      newdf.cor1_given_name, newdf.cor_afid)\n",
    "  mergedf = mergedf.withColumnRenamed('Inferred_Probable_Gender', 'Au1_gender')\n",
    "\n",
    "  mergedf2 = df_gender.join(mergedf, mergedf.Au2_id == df_gender.auid, 'inner').select(\n",
    "      df_gender.Inferred_Probable_Gender, mergedf.doi,mergedf.news_cnt,mergedf.Au,mergedf.Eid, mergedf.year, mergedf.publication_type,mergedf.openaccess, mergedf.issn, \n",
    "      mergedf.num_au, mergedf.Au1_id,mergedf.Au2_id,mergedf.Au_cor_id, mergedf.srcid, mergedf.subfield_article, mergedf.subfield_journal, mergedf.subfield_hybrid, mergedf.Au1_gender,mergedf.correspondence,mergedf.cor1_given_name,mergedf.cor_afid)\n",
    "  mergedf2 = mergedf2.withColumnRenamed('Inferred_Probable_Gender', 'Au2_gender')\n",
    "\n",
    "  #mergedf2 = mergedf2.withColumn('no_cor', F.size(mergedf2['Au_cor_id']))\n",
    "  #display(\"len os final4 \", mergedf2.count(),\"\\n\")\n",
    "\n",
    "  mergedf2 = mergedf2.withColumn('cor_au1', first(mergedf2['Au_cor_id']))\n",
    "\n",
    "  #display(final_data4.limit(20))\n",
    "\n",
    "  mergedf3 = mergedf2.filter(F.col('cor_au1').isNotNull())\n",
    "  display(\"no of not null cor au\",mergedf3.count(),\"\\n\")\n",
    "\n",
    "  mergedf4 = df_gender.join(mergedf3, mergedf3.cor_au1 == df_gender.auid, 'inner').select(\n",
    "      df_gender.Inferred_Probable_Gender, mergedf3.doi,mergedf3.news_cnt,mergedf3.Au,mergedf3.Eid, mergedf3.year, mergedf3.publication_type,mergedf3.openaccess, mergedf3.issn, \n",
    "      mergedf3.num_au, mergedf3.Au1_id,mergedf3.Au2_id,mergedf3.Au_cor_id, mergedf3.srcid, mergedf3.subfield_article, mergedf3.subfield_journal, mergedf3.subfield_hybrid, mergedf3.Au1_gender,mergedf3.Au2_gender,mergedf3.cor_au1,mergedf3.correspondence,mergedf3.cor1_given_name, mergedf3.cor_afid)\n",
    "  mergedf4 = mergedf4.withColumnRenamed('Inferred_Probable_Gender', 'cor_gender')\n",
    "\n",
    "  return mergedf4\n",
    "\n",
    "def merge_news_cnt(scop):\n",
    "  scop = scop.filter(func.col('year') >= 2018)\n",
    "  scop = scop.filter(func.col('year') <= 2022)\n",
    "  df1 = spark.read.format(\"csv\").option(\"header\", \"true\").load(\"dbfs:/FileStore/shared_uploads/arabi2@wisc.edu/doi_news_final.csv\")\n",
    "  display(\"# doi data from crossref and altmetric \",df1.count(),\"\\n\")\n",
    "  df = scop.join(df1, 'doi','inner')\n",
    "  df = df.withColumn(\"news_cnt\", df[\"news_cnt\"].cast(IntegerType()))\n",
    "  return df\n",
    "\n",
    "from pyspark.sql.functions import lower\n",
    "\n",
    "df_ani = spark.read.format(\"parquet\").load(basePath+tablename_ani)\n",
    "\n",
    "display(\"len of df_ani \",df_ani.count(),\"\\n\")\n",
    "dd = df_ani.withColumn('language', first(df_ani['meta_language']))\n",
    "d1 = dd.withColumn('language_s', lower(dd['language']))\n",
    "\n",
    "d2 = d1.filter(func.col('language_s') == 'english')\n",
    "display(\"len of df_ani in english \",d2.count(),\"\\n\")\n",
    "\n",
    "with_news = merge_news_cnt(d2)\n",
    "display(\"merged data len between crossref and scopus \",with_news.count(),\"\\n\")\n",
    "\n",
    "newdf = extract_publication_info(with_news)\n",
    "\n",
    "df_class = get_smc_classification(newdf)\n",
    "final_data = get_gender(df_class)\n",
    "display(final_data.count(),\"\\n\")\n",
    "final_data2 = final_data.dropna(subset=[\"doi\"])\n",
    "display(final_data2.count(),\"\\n\")\n",
    "\n",
    "##extracting sci_val topic for each publication\n",
    "df_top_eids = spark.read.format(\"parquet\").load(basePath+tablename_top_topic_eid)\n",
    "\n",
    "final_data3 = final_data2.join(df_top_eids,'Eid','inner')\n",
    "#display(final_data3.count())\n",
    "display(final_data3.limit(10))\n",
    "\n",
    "\n",
    "import pyspark.sql.functions as F\n",
    "import pyspark.sql.column as C\n",
    "\n",
    "def find_sjr(met,yy,yr):\n",
    "\n",
    "  ylst = F.tolist(yy)\n",
    "\n",
    "  #index = ylst.index(yr)\n",
    "  #sjr = m[index]\n",
    "  return m\n",
    "\n",
    "\n",
    "df_sources = spark.read.format(\"parquet\").load(basePath+tablename_sources)\n",
    "\n",
    "data = final_data3.join(df_sources,'srcid','inner').select(df_sources.metrics_calculations,df_sources.sourcetitle,df_sources.openaccess_status,final_data3.srcid,final_data3.doi,final_data3.news_cnt,final_data3.year,\n",
    "final_data3.publication_type, final_data3.issn, final_data3.num_au,final_data3.Au1_id, final_data3.subfield_article,final_data3.subfield_journal, final_data3.Au1_gender,final_data3.TopicId, \n",
    "final_data3.cor_gender,final_data3.cor_au1,final_data3.correspondence, final_data3.cor1_given_name, final_data3.cor_afid)\n",
    "\n",
    "display(\"len of merged data between src \", data.count(),\"\\n\")\n",
    "\n",
    "data = data.withColumn('SJR_lst', F.col('metrics_calculations').getItem('SJR'))\n",
    "data = data.withColumn('year_SJR', F.col('metrics_calculations').getItem('year'))\n",
    "\n",
    "#data = data.withColumn('SJR', find_sjr(data['SJR_lst'],data['year_SJR'], data['year']))\n",
    "data = data.withColumn(\"pos\", F.expr(\"array_position(year_SJR, year)\"))\n",
    "\n",
    "\n",
    "data = data.withColumn(\"pos\", data[\"pos\"].cast(IntegerType()))  \n",
    "data = data.withColumn(\"SJR\", F.element_at(data['SJR_lst'], data['pos']))\n",
    "\n",
    "data = data.withColumn('cor_af', first(data['correspondence']))\n",
    "data = data.withColumn('cor_coun', F.col('cor_af').getItem('country'))\n",
    "\n",
    "\n",
    "\n",
    "import pycountry\n",
    "import pyspark.sql.functions as F\n",
    "\n",
    "def convert_country_short_name(country_short_name):\n",
    "  #country = pycountry.countries.get(alpha_2=country_short_name)\n",
    "  if len(country_short_name) == 3:\n",
    "    country = pycountry.countries.get(alpha_3=country_short_name)\n",
    "  else:\n",
    "    country = pycountry.countries.get(alpha_2=country_short_name)\n",
    "\n",
    "  return country.name if country else None\n",
    "\n",
    "@F.udf(returnType=F.StringType())\n",
    "def my_udf(country_short_name):\n",
    "  return convert_country_short_name(country_short_name)\n",
    "\n",
    "data = data.filter(F.col('cor_coun').isNotNull())\n",
    "data = data.withColumn(\"country_name\", my_udf(data[\"cor_coun\"]))\n",
    "#un_full_coun = un_name.withColumn(\"country_name\", my_udf(un_name[\"cor_coun\"]))\n",
    "\n",
    "df_ipr = spark.read.format(\"parquet\").load(basePath+tablename_ipr)\n",
    "data = data.join(df_ipr,[data.cor_afid == df_ipr.afid],'inner')\n",
    "display(data.limit(10))\n",
    "\n",
    "val_data = data.filter(func.col('cor_gender') != 'unknown')\n",
    "\n",
    "#val_un = data.filter(func.col('cor_gender') == 'unknown')\n",
    "\n",
    "\n",
    "\n",
    "display(\"len of data whose cor_gender is not unknown \",val_data.count(),\"\\n\")\n",
    "\n",
    "display(val_data.limit(5),\"\\n\")\n",
    "\n",
    "\n",
    "#val_un = data.filter(func.col('cor_gender') == 'unknown')\n",
    "df_apr = spark.read.format(\"parquet\").load(basePath+tablename_apr)\n",
    "#un_full_coun = val_un.join(df_apr,val_un.cor_au1 == df_apr.auid,'inner')\n",
    "un_full_coun = data.filter(func.col('cor_gender') == 'unknown')\n",
    "\n",
    "display(\"len of unknown name \", un_full_coun.count(),\"\\n\")\n",
    "un_full_coun = un_full_coun.filter(F.col('cor1_given_name').isNotNull())\n",
    "un_full_coun = un_full_coun.filter(F.col('country_name').isNotNull())\n",
    "display(\"len of unknown name after dropping null country and given name \", un_full_coun.count(),\"\\n\")\n",
    "df_wos = spark.read.format(\"csv\").option(\"header\", \"true\").load(\"dbfs:/FileStore/shared_uploads/arabi2@wisc.edu/wos_gender_firstname.csv\")\n",
    "#df_wos.printSchema()\n",
    "#df_wos = df_wos.filter(func.col('country') == 'China')\n",
    "newfile = un_full_coun.join(df_wos,[un_full_coun.cor1_given_name == df_wos.givenname,un_full_coun.country_name == df_wos.country],'inner')\n",
    "display(\"len or merged gender with wos \", newfile.count(),\"\\n\")\n"
   ]
  },
  {
   "cell_type": "code",
   "execution_count": 0,
   "metadata": {
    "application/vnd.databricks.v1+cell": {
     "cellMetadata": {
      "byteLimit": 2048000,
      "rowLimit": 10000
     },
     "inputWidgets": {},
     "nuid": "7c56eff0-ab35-4528-b689-32a78f799988",
     "showTitle": false,
     "title": ""
    }
   },
   "outputs": [
    {
     "output_type": "stream",
     "name": "stdout",
     "output_type": "stream",
     "text": [
      "EXECUTION DETAILS:\nSpark version: 11.3.x-scala2.12, \nCluster Node Type: i3.xlarge, \nDriver Node Type: c4.2xlarge, \nWorker Node Type: i3.xlarge\n"
     ]
    },
    {
     "output_type": "display_data",
     "data": {
      "text/html": [
       "<style scoped>\n",
       "  .ansiout {\n",
       "    display: block;\n",
       "    unicode-bidi: embed;\n",
       "    white-space: pre-wrap;\n",
       "    word-wrap: break-word;\n",
       "    word-break: break-all;\n",
       "    font-family: \"Menlo\", \"Monaco\", \"Consolas\", \"Ubuntu Mono\", \"Source Code Pro\", monospace;\n",
       "    font-size: 13px;\n",
       "    color: #555;\n",
       "    margin-left: 4px;\n",
       "    line-height: 19px;\n",
       "  }\n",
       "</style>"
      ]
     },
     "metadata": {
      "application/vnd.databricks.v1+output": {
       "arguments": {},
       "data": "",
       "errorSummary": "Command skipped",
       "errorTraceType": "html",
       "metadata": {},
       "type": "ipynbError"
      }
     },
     "output_type": "display_data"
    }
   ],
   "source": [
    "ddf2 = newfile.drop(\"cor_gender\")\n",
    "ddf3 = ddf2.withColumnRenamed(\"gender\", \"cor_gender\")\n",
    "#ddf3.printSchema()\n",
    "#display(ddf3.select('cor_gender').distinct())\n",
    "ddf4 = ddf3.select('srcid','openaccess_status','doi','news_cnt','year','issn','num_au','cor_gender','TopicId','Au1_gender','country_name','SJR','subfield_article','preferred_name','org_type', 'cor_au1').toPandas()\n",
    "print(ddf4.head(5)) \n",
    "\n",
    "ddfx = val_data.select('srcid','openaccess_status','doi','news_cnt','year','issn','num_au','cor_gender','TopicId','Au1_gender','country_name','SJR','subfield_article','preferred_name','org_type','cor_au1').toPandas()\n",
    "display(len(ddfx),\"\\n\")\n",
    "display(len(ddf4),\"\\n\")\n",
    "ddf = ddfx.append(ddf4, ignore_index = True)\n",
    "display(len(ddf),\"\\n\")"
   ]
  },
  {
   "cell_type": "code",
   "execution_count": 0,
   "metadata": {
    "application/vnd.databricks.v1+cell": {
     "cellMetadata": {
      "byteLimit": 2048000,
      "rowLimit": 10000
     },
     "inputWidgets": {},
     "nuid": "9728c631-8e03-46ae-8b44-af5499b327b9",
     "showTitle": false,
     "title": ""
    }
   },
   "outputs": [
    {
     "output_type": "display_data",
     "data": {
      "text/html": [
       "<style scoped>\n",
       "  .ansiout {\n",
       "    display: block;\n",
       "    unicode-bidi: embed;\n",
       "    white-space: pre-wrap;\n",
       "    word-wrap: break-word;\n",
       "    word-break: break-all;\n",
       "    font-family: \"Menlo\", \"Monaco\", \"Consolas\", \"Ubuntu Mono\", \"Source Code Pro\", monospace;\n",
       "    font-size: 13px;\n",
       "    color: #555;\n",
       "    margin-left: 4px;\n",
       "    line-height: 19px;\n",
       "  }\n",
       "</style>"
      ]
     },
     "metadata": {
      "application/vnd.databricks.v1+output": {
       "arguments": {},
       "data": "",
       "errorSummary": "Command skipped",
       "errorTraceType": "html",
       "metadata": {},
       "type": "ipynbError"
      }
     },
     "output_type": "display_data"
    }
   ],
   "source": [
    "###new version\n",
    "smc = spark.read.format(\"csv\").option(\"header\", \"true\").load(\"dbfs:/FileStore/shared_uploads/arabi2@wisc.edu/sm_journal_classification.csv\")\n",
    "smc = smc.select('Domain_English','Field_English','SubField_English').toPandas()\n",
    "smc = smc.dropna()\n",
    "smc = smc.drop_duplicates()\n",
    "print(len(smc))\n",
    "smc['SubField_English'] = smc['SubField_English'].str.lower()\n",
    "ddf['subfield_article'] = ddf['subfield_article'].str.lower()\n",
    "\n",
    "#print(smc.dtypes)\n",
    "total = smc.merge(ddf,left_on='SubField_English',right_on = 'subfield_article',how = 'inner')\n",
    "print(len(total))"
   ]
  },
  {
   "cell_type": "code",
   "execution_count": 0,
   "metadata": {
    "application/vnd.databricks.v1+cell": {
     "cellMetadata": {
      "byteLimit": 2048000,
      "rowLimit": 10000
     },
     "inputWidgets": {},
     "nuid": "14c19974-1410-4dbd-8f65-2c76951992fd",
     "showTitle": false,
     "title": ""
    }
   },
   "outputs": [
    {
     "output_type": "display_data",
     "data": {
      "text/html": [
       "<style scoped>\n",
       "  .ansiout {\n",
       "    display: block;\n",
       "    unicode-bidi: embed;\n",
       "    white-space: pre-wrap;\n",
       "    word-wrap: break-word;\n",
       "    word-break: break-all;\n",
       "    font-family: \"Menlo\", \"Monaco\", \"Consolas\", \"Ubuntu Mono\", \"Source Code Pro\", monospace;\n",
       "    font-size: 13px;\n",
       "    color: #555;\n",
       "    margin-left: 4px;\n",
       "    line-height: 19px;\n",
       "  }\n",
       "</style>"
      ]
     },
     "metadata": {
      "application/vnd.databricks.v1+output": {
       "arguments": {},
       "data": "",
       "errorSummary": "Command skipped",
       "errorTraceType": "html",
       "metadata": {},
       "type": "ipynbError"
      }
     },
     "output_type": "display_data"
    }
   ],
   "source": [
    "us = total[total['country_name'] == 'United States']\n",
    "print(len(us))\n",
    "us.to_csv(\"/dbfs/FileStore/shared_uploads/arabi2@wisc.edu/us_media_analysis.csv\", index = False)"
   ]
  },
  {
   "cell_type": "markdown",
   "metadata": {
    "application/vnd.databricks.v1+cell": {
     "cellMetadata": {
      "byteLimit": 2048000,
      "rowLimit": 10000
     },
     "inputWidgets": {},
     "nuid": "6e707a03-0053-4795-a8d4-90ced66b9e93",
     "showTitle": false,
     "title": ""
    }
   },
   "source": [
    "## merge the github and media file with us data"
   ]
  },
  {
   "cell_type": "code",
   "execution_count": 0,
   "metadata": {
    "application/vnd.databricks.v1+cell": {
     "cellMetadata": {
      "byteLimit": 2048000,
      "rowLimit": 10000
     },
     "inputWidgets": {},
     "nuid": "1c71e0b0-e80b-4b33-a83d-450535dd5ac3",
     "showTitle": false,
     "title": ""
    }
   },
   "outputs": [
    {
     "output_type": "display_data",
     "data": {
      "application/vnd.databricks.v1+bamboolib_hint": "{\"pd.DataFrames\": [], \"version\": \"0.0.1\"}",
      "text/plain": []
     },
     "metadata": {},
     "output_type": "display_data"
    },
    {
     "output_type": "stream",
     "name": "stdout",
     "output_type": "stream",
     "text": [
      "number of unique doi in cited us data  129439\nlength of total data  1014175\nlength of total cited data  129451\nlength of data after removing retracted ids  129440\ntotal mention  1405538\nlen of total after dropping duplicate doi  129428\n1405448\n129428\n5113\nDomain_English        object\nField_English         object\nSubField_English      object\nsrcid                  int64\nopenaccess_status     object\ndoi                   object\nnews_cnt               int64\nyear                   int64\nissn                  object\nnum_au                 int64\ncor_gender            object\nTopicId                int64\nAu1_gender            object\ncountry_name          object\nSJR                  float64\nsubfield_article      object\npreferred_name        object\norg_type              object\ncor_au1                int64\nmedia                 object\nis_top                object\ndtype: object\nnew_total after droppimg duplicate doi-media pair 1195149\n366164\n674\n631\nxxx  61596\n361120\n361120\n662\n631\nxxx  61596\n"
     ]
    }
   ],
   "source": [
    "import pandas as pd\n",
    "\n",
    "#load the saved us data\n",
    "t = pd.read_csv(\"/dbfs/FileStore/shared_uploads/arabi2@wisc.edu/us_media_analysis.csv\")\n",
    "\n",
    "ff = t[t['news_cnt'] > 0]\n",
    "print(\"number of unique doi in cited us data \",ff['doi'].nunique())\n",
    "print(\"length of total data \",len(t))\n",
    "print(\"length of total cited data \",len(ff))\n",
    "\n",
    "#remove the retracted dois\n",
    "ret = spark.read.format(\"csv\").option(\"header\", \"true\").load(\"dbfs:/FileStore/shared_uploads/arabi2@wisc.edu/retrected_doi_wos.csv\")\n",
    "retracted = ret.select('doi').toPandas()\n",
    "ids_to_remove = retracted['doi']\n",
    "total = ff[~ff['doi'].isin(ids_to_remove)]\n",
    "print(\"length of data after removing retracted ids \",len(total))\n",
    "print(\"total mention \",total['news_cnt'].sum())\n",
    "total = total.drop_duplicates(subset = ['doi'])\n",
    "print(\"len of total after dropping duplicate doi \",len(total))\n",
    "\n",
    "#merge dois with the media outlet names\n",
    "m = spark.read.format(\"csv\").option(\"header\", \"true\").load(\"dbfs:/FileStore/shared_uploads/arabi2@wisc.edu/doi_media_for_databricks.csv\")\n",
    "media = m.toPandas()\n",
    "new_total =total.merge(media, on = ['doi'], how = 'inner') \n",
    "print(len(new_total))\n",
    "print(new_total['doi'].nunique())\n",
    "print(new_total['media'].nunique())\n",
    "print(new_total.dtypes)\n",
    "new_total = new_total.drop_duplicates(subset = ['doi','media'])\n",
    "print(\"new_total after droppimg duplicate doi-media pair\",len(new_total))\n",
    "\n",
    "\n",
    "media_github = spark.read.format(\"csv\").option(\"header\", \"true\").load(\"dbfs:/FileStore/shared_uploads/arabi2@wisc.edu/media_class_github3.csv\")\n",
    "media_github = media_github.toPandas()\n",
    "media_github['media'] = media_github['media'].str.strip()\n",
    "\n",
    "\n",
    "new_total['media'] = new_total['media'].str.strip()\n",
    "\n",
    "merged = new_total.merge(media_github, on = ['media'], how = \"inner\")\n",
    "\n",
    "print(len(merged))\n",
    "print(merged['media'].nunique())\n",
    "print(merged['git'].nunique())\n",
    "print(\"xxx \", merged['doi'].nunique())\n",
    "\n",
    "###new\n",
    "merged = merged.drop_duplicates(subset = ['doi','git'])\n",
    "print(len(merged))\n",
    "merged = merged.drop_duplicates(subset = ['doi','media'])\n",
    "print(len(merged))\n",
    "print(merged['media'].nunique())\n",
    "print(merged['git'].nunique())\n",
    "print(\"xxx \", merged['doi'].nunique())\n"
   ]
  },
  {
   "cell_type": "code",
   "execution_count": 0,
   "metadata": {
    "application/vnd.databricks.v1+cell": {
     "cellMetadata": {
      "byteLimit": 2048000,
      "rowLimit": 10000
     },
     "inputWidgets": {},
     "nuid": "5b8a6c8a-a45f-465a-bc7c-7256ce017bb2",
     "showTitle": false,
     "title": ""
    }
   },
   "outputs": [
    {
     "output_type": "stream",
     "name": "stdout",
     "output_type": "stream",
     "text": [
      "           Domain_English                      Field_English  \\\n9        Applied Sciences  Agriculture, Fisheries & Forestry   \n153      Applied Sciences  Agriculture, Fisheries & Forestry   \n193      Applied Sciences  Agriculture, Fisheries & Forestry   \n921      Applied Sciences  Agriculture, Fisheries & Forestry   \n1416     Applied Sciences  Agriculture, Fisheries & Forestry   \n...                   ...                                ...   \n1013496  Natural Sciences                Physics & Astronomy   \n1013523  Natural Sciences                Physics & Astronomy   \n1013553  Natural Sciences                Physics & Astronomy   \n1013839  Natural Sciences                Physics & Astronomy   \n1014104  Natural Sciences                Physics & Astronomy   \n\n               SubField_English  srcid openaccess_status  \\\n9        agronomy & agriculture  21121                NO   \n153      agronomy & agriculture  21121                NO   \n193      agronomy & agriculture  21121                NO   \n921      agronomy & agriculture  21121                NO   \n1416     agronomy & agriculture  21121                NO   \n...                         ...    ...               ...   \n1013496                  optics  21121                NO   \n1013523                  optics  21121                NO   \n1013553                  optics  21121                NO   \n1013839                  optics  21121                NO   \n1014104                  optics  21121                NO   \n\n                             doi  news_cnt  year      issn  num_au cor_gender  \\\n9        10.1073/pnas.1818400116         7  2019  00278424      29       male   \n153      10.1073/pnas.1820334116         1  2019  00278424      10       male   \n193      10.1073/pnas.2112108118        14  2021  00278424       4       male   \n921      10.1073/pnas.1807377115        16  2018  00278424       2       male   \n1416     10.1073/pnas.1906909117         4  2020  00278424      12     female   \n...                          ...       ...   ...       ...     ...        ...   \n1013496  10.1073/pnas.1912154116        32  2019  00278424       7     female   \n1013523  10.1073/pnas.2101017118        19  2021  00278424      15     female   \n1013553  10.1073/pnas.1906356117         1  2020  00278424       6       male   \n1013839  10.1073/pnas.1912400117        12  2020  00278424       9       male   \n1014104  10.1073/pnas.1720785116         4  2019  00278424      13          M   \n\n         TopicId Au1_gender   country_name    SJR        subfield_article  \\\n9          11531       male  United States  5.165  agronomy & agriculture   \n153        21097     female  United States  5.165  agronomy & agriculture   \n193          628       male  United States  4.184  agronomy & agriculture   \n921        17079    unknown  United States  5.601  agronomy & agriculture   \n1416        2041     female  United States  5.011  agronomy & agriculture   \n...          ...        ...            ...    ...                     ...   \n1013496     8673    unknown  United States  5.165                  optics   \n1013523     7862       male  United States  4.184                  optics   \n1013553     7862       male  United States  5.011                  optics   \n1013839     3865       male  United States  5.011                  optics   \n1014104     4156    unknown  United States  5.165                  optics   \n\n                                            preferred_name org_type  \\\n9                           University of Colorado Boulder     univ   \n153                                  Iowa State University     univ   \n193                                  Iowa State University     univ   \n921                                    The Graduate Center     univ   \n1416                   Washington State University Pullman     univ   \n...                                                    ...      ...   \n1013496                                 Harvard University     univ   \n1013523  Virginia Polytechnic Institute and State Unive...     univ   \n1013553                   University of California, Irvine     univ   \n1013839            University of Illinois Urbana-Champaign     univ   \n1014104                        Argonne National Laboratory     resi   \n\n             cor_au1  \n9        35179276400  \n153      12042621900  \n193       7402711360  \n921      56885159000  \n1416     57208596558  \n...              ...  \n1013496  57193566464  \n1013523  55631194200  \n1013553  36005396700  \n1013839  36719767900  \n1014104  55731375100  \n\n[3870 rows x 19 columns]\n"
     ]
    }
   ],
   "source": [
    "print(total[total['issn'] == \"00278424\"])"
   ]
  },
  {
   "cell_type": "code",
   "execution_count": 0,
   "metadata": {
    "application/vnd.databricks.v1+cell": {
     "cellMetadata": {
      "byteLimit": 2048000,
      "rowLimit": 10000
     },
     "inputWidgets": {},
     "nuid": "60471fb9-1e15-4f5c-b40e-58922febf316",
     "showTitle": false,
     "title": ""
    }
   },
   "outputs": [
    {
     "output_type": "stream",
     "name": "stdout",
     "output_type": "stream",
     "text": [
      "1014175\n23670\n0.631   0.997   1.632\n"
     ]
    }
   ],
   "source": [
    "a = pd.DataFrame()\n",
    "a['srcid'] = t['srcid']\n",
    "a['SJR'] = t['SJR']\n",
    "print(len(a))\n",
    "a = a.drop_duplicates()\n",
    "print(len(a))\n",
    "\n",
    "'''q1 = t['SJR'].quantile(0.25)\n",
    "q2 = t['SJR'].quantile(0.50)\n",
    "q3 = t['SJR'].quantile(0.75)\n",
    "print(q1,\" \",q2,\" \",q3)'''\n",
    "\n",
    "\n",
    "q1 = a['SJR'].quantile(0.25)\n",
    "q2 = a['SJR'].quantile(0.50)\n",
    "q3 = a['SJR'].quantile(0.75)\n",
    "print(q1,\" \",q2,\" \",q3)\n",
    "\n"
   ]
  },
  {
   "cell_type": "code",
   "execution_count": 0,
   "metadata": {
    "application/vnd.databricks.v1+cell": {
     "cellMetadata": {
      "byteLimit": 2048000,
      "rowLimit": 10000
     },
     "inputWidgets": {},
     "nuid": "4912e1ef-71e5-43cc-8619-b1f0b9e96c88",
     "showTitle": false,
     "title": ""
    }
   },
   "outputs": [
    {
     "output_type": "stream",
     "name": "stdout",
     "output_type": "stream",
     "text": [
      "     Domain_English                      Field_English  \\\n0  Applied Sciences  Agriculture, Fisheries & Forestry   \n2  Applied Sciences  Agriculture, Fisheries & Forestry   \n3  Applied Sciences  Agriculture, Fisheries & Forestry   \n4  Applied Sciences  Agriculture, Fisheries & Forestry   \n5  Applied Sciences  Agriculture, Fisheries & Forestry   \n\n         SubField_English        srcid openaccess_status  \\\n0  agronomy & agriculture  21100941001               YES   \n2  agronomy & agriculture        23571                NO   \n3  agronomy & agriculture  10600153309               YES   \n4  agronomy & agriculture  21100200805               YES   \n5  agronomy & agriculture  10600153309               YES   \n\n                            doi  news_cnt  year      issn  num_au  ...  \\\n0     10.3389/fsufs.2020.577723        21  2020  2571581X       5  ...   \n2       10.1126/science.aaz5670        14  2019  00368075       1  ...   \n3  10.1371/journal.pone.0219847        22  2019  19326203       3  ...   \n4    10.1038/s41598-019-47861-7        36  2019  20452322       8  ...   \n5  10.1371/journal.pone.0257053        23  2021  19326203       5  ...   \n\n         subfield_article                  preferred_name org_type  \\\n0  agronomy & agriculture  University of Colorado Boulder     univ   \n2  agronomy & agriculture  University of Colorado Boulder     univ   \n3  agronomy & agriculture           Iowa State University     univ   \n4  agronomy & agriculture       Colorado State University     univ   \n5  agronomy & agriculture       Colorado State University     univ   \n\n       cor_au1       media is_top             git          domain  ideology  \\\n0  56002786300  yahoo!news    1.0  yahoo.com/news  yahoo.com/news    0.0848   \n2   7006567885  yahoo!news    1.0  yahoo.com/news  yahoo.com/news    0.0848   \n3  56221750700  yahoo!news    1.0  yahoo.com/news  yahoo.com/news    0.0848   \n4   7004593987  yahoo!news    1.0  yahoo.com/news  yahoo.com/news    0.0848   \n5  36638599700  yahoo!news    1.0  yahoo.com/news  yahoo.com/news    0.0848   \n\n       type  \n0  national  \n2  national  \n3  national  \n4  national  \n5  national  \n\n[5 rows x 25 columns]\n"
     ]
    }
   ],
   "source": [
    "print(merged.head(5))"
   ]
  },
  {
   "cell_type": "code",
   "execution_count": 0,
   "metadata": {
    "application/vnd.databricks.v1+cell": {
     "cellMetadata": {
      "byteLimit": 2048000,
      "rowLimit": 10000
     },
     "inputWidgets": {},
     "nuid": "131703a0-3303-447f-a8e2-f384ff33fb36",
     "showTitle": false,
     "title": ""
    }
   },
   "outputs": [
    {
     "output_type": "display_data",
     "data": {
      "text/html": [
       "<style scoped>\n",
       "  .table-result-container {\n",
       "    max-height: 300px;\n",
       "    overflow: auto;\n",
       "  }\n",
       "  table, th, td {\n",
       "    border: 1px solid black;\n",
       "    border-collapse: collapse;\n",
       "  }\n",
       "  th, td {\n",
       "    padding: 5px;\n",
       "  }\n",
       "  th {\n",
       "    text-align: left;\n",
       "  }\n",
       "</style><div class='table-result-container'><table class='table-result'><thead style='background-color: white'><tr><th>auid</th><th>ASJC</th><th>ASJC_frequency_I</th><th>SUBJABBR</th><th>SUBJABBR_frequency_I</th><th>affiliation_current_full</th><th>given_name_pn</th><th>initials_pn</th><th>surname_pn</th><th>indexed_name_pn</th><th>orcid</th></tr></thead><tbody><tr><td>7006567885</td><td>List(1902, 2310, 1103, 1110, 2807, 1909, 2307, 2800, 2105, 1906, 2400, 2726, 2700, 1600, 1311, 2723, 1105, 1107, 1804, 1307, 2605, 2306, 1908, 1710, 2739, 2312, 2309, 1502, 1314, 2403, 2611, 2215, 1106, 2205, 1300, 2802, 3304, 2305, 2725, 1000, 2406, 2404, 2708, 1313, 2402, 1706, 3301, 1111, 2303, 1911, 1901, 1703, 1109, 1904, 2204, 3308, 1303, 2311, 2613, 2200, 1104, 2301, 2304, 3305, 3100, 1100, 1305, 1101, 1312, 1900, 1907, 2734, 3309, 1910, 2300)</td><td>List(9, 3, 2, 3, 1, 1, 1, 8, 1, 3, 10, 13, 101, 7, 24, 1, 83, 6, 3, 9, 2, 11, 1, 1, 3, 8, 1, 5, 9, 6, 7, 4, 11, 1, 32, 1, 1, 6, 3, 26, 6, 81, 2, 5, 21, 10, 1, 38, 64, 5, 1, 2, 1, 7, 5, 1, 17, 2, 5, 1, 8, 2, 20, 1, 3, 27, 23, 1, 18, 4, 1, 1, 1, 1, 22)</td><td>List(IMMU, ENGI, MEDI, EART, BIOC, AGRI, DECI, MATH, ENVI, NEUR, COMP, SOCI, PHYS, CHEM, CENG, MULT, ENER)</td><td>List(124, 11, 124, 33, 137, 180, 3, 14, 140, 10, 13, 5, 3, 7, 5, 26, 1)</td><td>List(List(20 UCB, University of Colorado Boulder, 60000221, null, 60000221, Boulder, United States, usa, 80309-0020, University of Colorado Boulder, author, Colorado Boulder, University of, CO, parent))</td><td>Noah G.</td><td>N.G.</td><td>Fierer</td><td>Fierer N.</td><td>null</td></tr></tbody></table></div>"
      ]
     },
     "metadata": {
      "application/vnd.databricks.v1+output": {
       "addedWidgets": {},
       "aggData": [],
       "aggError": "",
       "aggOverflow": false,
       "aggSchema": [],
       "aggSeriesLimitReached": false,
       "aggType": "",
       "arguments": {},
       "columnCustomDisplayInfos": {},
       "data": [
        [
         7006567885,
         [
          "1902",
          "2310",
          "1103",
          "1110",
          "2807",
          "1909",
          "2307",
          "2800",
          "2105",
          "1906",
          "2400",
          "2726",
          "2700",
          "1600",
          "1311",
          "2723",
          "1105",
          "1107",
          "1804",
          "1307",
          "2605",
          "2306",
          "1908",
          "1710",
          "2739",
          "2312",
          "2309",
          "1502",
          "1314",
          "2403",
          "2611",
          "2215",
          "1106",
          "2205",
          "1300",
          "2802",
          "3304",
          "2305",
          "2725",
          "1000",
          "2406",
          "2404",
          "2708",
          "1313",
          "2402",
          "1706",
          "3301",
          "1111",
          "2303",
          "1911",
          "1901",
          "1703",
          "1109",
          "1904",
          "2204",
          "3308",
          "1303",
          "2311",
          "2613",
          "2200",
          "1104",
          "2301",
          "2304",
          "3305",
          "3100",
          "1100",
          "1305",
          "1101",
          "1312",
          "1900",
          "1907",
          "2734",
          "3309",
          "1910",
          "2300"
         ],
         [
          9,
          3,
          2,
          3,
          1,
          1,
          1,
          8,
          1,
          3,
          10,
          13,
          101,
          7,
          24,
          1,
          83,
          6,
          3,
          9,
          2,
          11,
          1,
          1,
          3,
          8,
          1,
          5,
          9,
          6,
          7,
          4,
          11,
          1,
          32,
          1,
          1,
          6,
          3,
          26,
          6,
          81,
          2,
          5,
          21,
          10,
          1,
          38,
          64,
          5,
          1,
          2,
          1,
          7,
          5,
          1,
          17,
          2,
          5,
          1,
          8,
          2,
          20,
          1,
          3,
          27,
          23,
          1,
          18,
          4,
          1,
          1,
          1,
          1,
          22
         ],
         [
          "IMMU",
          "ENGI",
          "MEDI",
          "EART",
          "BIOC",
          "AGRI",
          "DECI",
          "MATH",
          "ENVI",
          "NEUR",
          "COMP",
          "SOCI",
          "PHYS",
          "CHEM",
          "CENG",
          "MULT",
          "ENER"
         ],
         [
          124,
          11,
          124,
          33,
          137,
          180,
          3,
          14,
          140,
          10,
          13,
          5,
          3,
          7,
          5,
          26,
          1
         ],
         [
          [
           "20 UCB",
           "University of Colorado Boulder",
           60000221,
           null,
           60000221,
           "Boulder",
           "United States",
           "usa",
           "80309-0020",
           "University of Colorado Boulder",
           "author",
           "Colorado Boulder, University of",
           "CO",
           "parent"
          ]
         ],
         "Noah G.",
         "N.G.",
         "Fierer",
         "Fierer N.",
         null
        ]
       ],
       "datasetInfos": [],
       "dbfsResultPath": null,
       "isJsonSchema": true,
       "metadata": {},
       "overflow": false,
       "plotOptions": {
        "customPlotOptions": {},
        "displayType": "table",
        "pivotAggregation": null,
        "pivotColumns": null,
        "xColumns": null,
        "yColumns": null
       },
       "removedWidgets": [],
       "schema": [
        {
         "metadata": "{}",
         "name": "auid",
         "type": "\"long\""
        },
        {
         "metadata": "{}",
         "name": "ASJC",
         "type": "{\"type\":\"array\",\"elementType\":\"string\",\"containsNull\":true}"
        },
        {
         "metadata": "{}",
         "name": "ASJC_frequency_I",
         "type": "{\"type\":\"array\",\"elementType\":\"integer\",\"containsNull\":true}"
        },
        {
         "metadata": "{}",
         "name": "SUBJABBR",
         "type": "{\"type\":\"array\",\"elementType\":\"string\",\"containsNull\":true}"
        },
        {
         "metadata": "{}",
         "name": "SUBJABBR_frequency_I",
         "type": "{\"type\":\"array\",\"elementType\":\"integer\",\"containsNull\":true}"
        },
        {
         "metadata": "{}",
         "name": "affiliation_current_full",
         "type": "{\"type\":\"array\",\"elementType\":{\"type\":\"struct\",\"fields\":[{\"name\":\"address_part\",\"type\":\"string\",\"nullable\":true,\"metadata\":{}},{\"name\":\"afdispname\",\"type\":\"string\",\"nullable\":true,\"metadata\":{}},{\"name\":\"affiliation_id\",\"type\":\"long\",\"nullable\":true,\"metadata\":{}},{\"name\":\"affiliation_id_parent\",\"type\":\"long\",\"nullable\":true,\"metadata\":{}},{\"name\":\"afid\",\"type\":\"long\",\"nullable\":true,\"metadata\":{}},{\"name\":\"city\",\"type\":\"string\",\"nullable\":true,\"metadata\":{}},{\"name\":\"country\",\"type\":\"string\",\"nullable\":true,\"metadata\":{}},{\"name\":\"country_tag\",\"type\":\"string\",\"nullable\":true,\"metadata\":{}},{\"name\":\"postal_code\",\"type\":\"string\",\"nullable\":true,\"metadata\":{}},{\"name\":\"preferred_name\",\"type\":\"string\",\"nullable\":true,\"metadata\":{}},{\"name\":\"relationship\",\"type\":\"string\",\"nullable\":true,\"metadata\":{}},{\"name\":\"sort_name\",\"type\":\"string\",\"nullable\":true,\"metadata\":{}},{\"name\":\"state\",\"type\":\"string\",\"nullable\":true,\"metadata\":{}},{\"name\":\"type_afid\",\"type\":\"string\",\"nullable\":true,\"metadata\":{}}]},\"containsNull\":true}"
        },
        {
         "metadata": "{}",
         "name": "given_name_pn",
         "type": "\"string\""
        },
        {
         "metadata": "{}",
         "name": "initials_pn",
         "type": "\"string\""
        },
        {
         "metadata": "{}",
         "name": "surname_pn",
         "type": "\"string\""
        },
        {
         "metadata": "{}",
         "name": "indexed_name_pn",
         "type": "\"string\""
        },
        {
         "metadata": "{}",
         "name": "orcid",
         "type": "\"string\""
        }
       ],
       "type": "table"
      }
     },
     "output_type": "display_data"
    }
   ],
   "source": [
    "df_apr = spark.read.format(\"parquet\").load(basePath+tablename_apr)\n",
    "display(df_apr.filter(func.col('auid') == 7006567885))\n"
   ]
  },
  {
   "cell_type": "code",
   "execution_count": 0,
   "metadata": {
    "application/vnd.databricks.v1+cell": {
     "cellMetadata": {
      "byteLimit": 2048000,
      "rowLimit": 10000
     },
     "inputWidgets": {},
     "nuid": "acf08998-84b7-4f6f-a570-a69a707e723b",
     "showTitle": false,
     "title": ""
    }
   },
   "outputs": [
    {
     "output_type": "stream",
     "name": "stdout",
     "output_type": "stream",
     "text": [
      "no of unique doi in merged  61596\nno of unique doi in unmatched  129428\nlen of media before merging with github  1195149\nlen of merged  361120\nlen of merged after dropping duplicate doi git pair  361120\nunique doi in a  61596\n"
     ]
    }
   ],
   "source": [
    "print(\"no of unique doi in merged \",merged['doi'].nunique())\n",
    "print(\"no of unique doi in unmatched \",new_total['doi'].nunique())\n",
    "print(\"len of media before merging with github \", len(new_total))\n",
    "#print(media.head(5))\n",
    "print(\"len of merged \",len(merged))\n",
    "a = merged.drop_duplicates(subset = ['doi','git'])\n",
    "print(\"len of merged after dropping duplicate doi git pair \",len(a))\n",
    "print(\"unique doi in a \",a['doi'].nunique())"
   ]
  },
  {
   "cell_type": "code",
   "execution_count": 0,
   "metadata": {
    "application/vnd.databricks.v1+cell": {
     "cellMetadata": {
      "byteLimit": 2048000,
      "rowLimit": 10000
     },
     "inputWidgets": {},
     "nuid": "f94cfd47-11aa-4367-b653-bd1e0d10e765",
     "showTitle": false,
     "title": ""
    }
   },
   "outputs": [
    {
     "output_type": "stream",
     "name": "stdout",
     "output_type": "stream",
     "text": [
      "Out[12]: 0.3021547940884358"
     ]
    }
   ],
   "source": [
    "361120/1195149"
   ]
  },
  {
   "cell_type": "markdown",
   "metadata": {
    "application/vnd.databricks.v1+cell": {
     "cellMetadata": {
      "byteLimit": 2048000,
      "rowLimit": 10000
     },
     "inputWidgets": {},
     "nuid": "1226112d-6d2c-4119-8b61-68b284f8d297",
     "showTitle": false,
     "title": ""
    }
   },
   "source": [
    "## create table of doi, local_count, national_count, international_count"
   ]
  },
  {
   "cell_type": "code",
   "execution_count": 0,
   "metadata": {
    "application/vnd.databricks.v1+cell": {
     "cellMetadata": {
      "byteLimit": 2048000,
      "rowLimit": 10000
     },
     "inputWidgets": {},
     "nuid": "763d541e-2ca8-405e-92cb-13a1b1cd13da",
     "showTitle": false,
     "title": ""
    }
   },
   "outputs": [
    {
     "output_type": "stream",
     "name": "stdout",
     "output_type": "stream",
     "text": [
      "media    object\ncount    object\ndtype: object\nset()\n"
     ]
    }
   ],
   "source": [
    "special = spark.read.format(\"csv\").option(\"header\", \"true\").load(\"dbfs:/FileStore/shared_uploads/arabi2@wisc.edu/specialty_picked.csv\")\n",
    "special = special.toPandas()\n",
    "print(special.dtypes)\n",
    "\n",
    "##sanity check: special should have no intersection with merged\n",
    "a = set(special['media'])\n",
    "b = set(merged['media'])\n",
    "print(a.intersection(b))\n",
    "\n"
   ]
  },
  {
   "cell_type": "code",
   "execution_count": 0,
   "metadata": {
    "application/vnd.databricks.v1+cell": {
     "cellMetadata": {
      "byteLimit": 2048000,
      "rowLimit": 10000
     },
     "inputWidgets": {},
     "nuid": "941a9f2a-3569-47e3-a00e-cf9673a65ac5",
     "showTitle": false,
     "title": ""
    }
   },
   "outputs": [
    {
     "output_type": "stream",
     "name": "stdout",
     "output_type": "stream",
     "text": [
      "len of total table  129428\nlen of total doi count  129428\ndoi                    0\ntotal_count            0\nlocal_count            0\nnational_count         0\ninternational_count    0\nsp_count               0\ndtype: int64\n"
     ]
    }
   ],
   "source": [
    "#create table od doi vs total_mention\n",
    "import numpy as np\n",
    "dummy = merged.copy()\n",
    "\n",
    "doi_total = new_total['doi'].value_counts().reset_index()\n",
    "doi_total.columns = ['doi','total_count']\n",
    "\n",
    "#doi_total = dummy['doi'].value_counts().reset_index()\n",
    "#doi_total.columns = ['doi','total_count']\n",
    "\n",
    "#create table for special\n",
    "sp = special.merge(new_total, on = ['media'],how = 'inner')\n",
    "doi_sp = sp['doi'].value_counts().reset_index()\n",
    "doi_sp.columns = ['doi','sp_count']\n",
    "\n",
    "#create table for doi vs local_mention\n",
    "local = dummy[dummy['type'] == \"local\"]\n",
    "doi_local = local['doi'].value_counts().reset_index()\n",
    "doi_local.columns = ['doi','local_count']\n",
    "\n",
    "#create table for doi vs national_mention\n",
    "nat = dummy[dummy['type'] == \"national\"]\n",
    "doi_nat = nat['doi'].value_counts().reset_index()\n",
    "doi_nat.columns = ['doi','national_count']\n",
    "\n",
    "#create table for doi vs international_mention\n",
    "internat = dummy[dummy['type'] == \"international\"]\n",
    "doi_internat = internat['doi'].value_counts().reset_index()\n",
    "doi_internat.columns = ['doi','international_count']\n",
    "\n",
    "merge1 = doi_total.merge(doi_local, on = ['doi'], how  = \"left\")\n",
    "\n",
    "merge2 = merge1.merge(doi_nat, on = ['doi'], how  = \"left\")\n",
    "\n",
    "merge3 = merge2.merge(doi_internat, on = ['doi'], how  = \"left\")\n",
    "\n",
    "merge4 = merge3.merge(doi_sp, on = ['doi'], how  = \"left\")\n",
    "\n",
    "print(\"len of total table \",len(merge4))\n",
    "print(\"len of total doi count \",len(doi_total))\n",
    "\n",
    "merge4['local_count'] = merge4['local_count'].replace(np.nan, 0)\n",
    "merge4['national_count'] = merge4['national_count'].replace(np.nan, 0)\n",
    "merge4['international_count'] = merge4['international_count'].replace(np.nan, 0)\n",
    "merge4['sp_count'] = merge4['sp_count'].replace(np.nan, 0)\n",
    "\n",
    "print(merge4.isna().sum())\n"
   ]
  },
  {
   "cell_type": "code",
   "execution_count": 0,
   "metadata": {
    "application/vnd.databricks.v1+cell": {
     "cellMetadata": {
      "byteLimit": 2048000,
      "rowLimit": 10000
     },
     "inputWidgets": {},
     "nuid": "d1cef8b6-b68b-4c0e-8678-03fc94ee0ce3",
     "showTitle": true,
     "title": ""
    }
   },
   "outputs": [
    {
     "output_type": "display_data",
     "data": {
      "text/html": [
       "<div>\n",
       "<style scoped>\n",
       "    .dataframe tbody tr th:only-of-type {\n",
       "        vertical-align: middle;\n",
       "    }\n",
       "\n",
       "    .dataframe tbody tr th {\n",
       "        vertical-align: top;\n",
       "    }\n",
       "\n",
       "    .dataframe thead th {\n",
       "        text-align: right;\n",
       "    }\n",
       "</style>\n",
       "<table border=\"1\" class=\"dataframe\">\n",
       "  <thead>\n",
       "    <tr style=\"text-align: right;\">\n",
       "      <th></th>\n",
       "      <th>doi</th>\n",
       "      <th>total_count</th>\n",
       "      <th>local_count</th>\n",
       "      <th>national_count</th>\n",
       "      <th>international_count</th>\n",
       "      <th>sp_count</th>\n",
       "    </tr>\n",
       "  </thead>\n",
       "  <tbody>\n",
       "    <tr>\n",
       "      <th>0</th>\n",
       "      <td>10.1038/s41591-020-0820-9</td>\n",
       "      <td>755</td>\n",
       "      <td>101.0</td>\n",
       "      <td>67.0</td>\n",
       "      <td>27.0</td>\n",
       "      <td>43.0</td>\n",
       "    </tr>\n",
       "    <tr>\n",
       "      <th>1</th>\n",
       "      <td>10.1038/s42003-022-03334-8</td>\n",
       "      <td>710</td>\n",
       "      <td>87.0</td>\n",
       "      <td>31.0</td>\n",
       "      <td>17.0</td>\n",
       "      <td>27.0</td>\n",
       "    </tr>\n",
       "    <tr>\n",
       "      <th>2</th>\n",
       "      <td>10.1126/science.abj0016</td>\n",
       "      <td>640</td>\n",
       "      <td>93.0</td>\n",
       "      <td>64.0</td>\n",
       "      <td>23.0</td>\n",
       "      <td>39.0</td>\n",
       "    </tr>\n",
       "    <tr>\n",
       "      <th>3</th>\n",
       "      <td>10.1016/j.icarus.2021.114594</td>\n",
       "      <td>602</td>\n",
       "      <td>86.0</td>\n",
       "      <td>25.0</td>\n",
       "      <td>14.0</td>\n",
       "      <td>15.0</td>\n",
       "    </tr>\n",
       "    <tr>\n",
       "      <th>4</th>\n",
       "      <td>10.1126/science.abb5793</td>\n",
       "      <td>601</td>\n",
       "      <td>119.0</td>\n",
       "      <td>52.0</td>\n",
       "      <td>23.0</td>\n",
       "      <td>40.0</td>\n",
       "    </tr>\n",
       "    <tr>\n",
       "      <th>5</th>\n",
       "      <td>10.1038/s41558-022-01426-1</td>\n",
       "      <td>572</td>\n",
       "      <td>84.0</td>\n",
       "      <td>26.0</td>\n",
       "      <td>9.0</td>\n",
       "      <td>35.0</td>\n",
       "    </tr>\n",
       "    <tr>\n",
       "      <th>6</th>\n",
       "      <td>10.1126/science.aap9559</td>\n",
       "      <td>568</td>\n",
       "      <td>78.0</td>\n",
       "      <td>62.0</td>\n",
       "      <td>23.0</td>\n",
       "      <td>30.0</td>\n",
       "    </tr>\n",
       "    <tr>\n",
       "      <th>7</th>\n",
       "      <td>10.1126/sciadv.abd3083</td>\n",
       "      <td>552</td>\n",
       "      <td>64.0</td>\n",
       "      <td>45.0</td>\n",
       "      <td>9.0</td>\n",
       "      <td>38.0</td>\n",
       "    </tr>\n",
       "    <tr>\n",
       "      <th>8</th>\n",
       "      <td>10.1038/s41591-022-01689-3</td>\n",
       "      <td>550</td>\n",
       "      <td>54.0</td>\n",
       "      <td>29.0</td>\n",
       "      <td>17.0</td>\n",
       "      <td>44.0</td>\n",
       "    </tr>\n",
       "    <tr>\n",
       "      <th>9</th>\n",
       "      <td>10.1038/s41586-022-04788-w</td>\n",
       "      <td>549</td>\n",
       "      <td>92.0</td>\n",
       "      <td>28.0</td>\n",
       "      <td>15.0</td>\n",
       "      <td>35.0</td>\n",
       "    </tr>\n",
       "  </tbody>\n",
       "</table>\n",
       "</div>"
      ]
     },
     "metadata": {
      "application/vnd.databricks.v1+output": {
       "addedWidgets": {},
       "arguments": {},
       "data": "<div>\n<style scoped>\n    .dataframe tbody tr th:only-of-type {\n        vertical-align: middle;\n    }\n\n    .dataframe tbody tr th {\n        vertical-align: top;\n    }\n\n    .dataframe thead th {\n        text-align: right;\n    }\n</style>\n<table border=\"1\" class=\"dataframe\">\n  <thead>\n    <tr style=\"text-align: right;\">\n      <th></th>\n      <th>doi</th>\n      <th>total_count</th>\n      <th>local_count</th>\n      <th>national_count</th>\n      <th>international_count</th>\n      <th>sp_count</th>\n    </tr>\n  </thead>\n  <tbody>\n    <tr>\n      <th>0</th>\n      <td>10.1038/s41591-020-0820-9</td>\n      <td>755</td>\n      <td>101.0</td>\n      <td>67.0</td>\n      <td>27.0</td>\n      <td>43.0</td>\n    </tr>\n    <tr>\n      <th>1</th>\n      <td>10.1038/s42003-022-03334-8</td>\n      <td>710</td>\n      <td>87.0</td>\n      <td>31.0</td>\n      <td>17.0</td>\n      <td>27.0</td>\n    </tr>\n    <tr>\n      <th>2</th>\n      <td>10.1126/science.abj0016</td>\n      <td>640</td>\n      <td>93.0</td>\n      <td>64.0</td>\n      <td>23.0</td>\n      <td>39.0</td>\n    </tr>\n    <tr>\n      <th>3</th>\n      <td>10.1016/j.icarus.2021.114594</td>\n      <td>602</td>\n      <td>86.0</td>\n      <td>25.0</td>\n      <td>14.0</td>\n      <td>15.0</td>\n    </tr>\n    <tr>\n      <th>4</th>\n      <td>10.1126/science.abb5793</td>\n      <td>601</td>\n      <td>119.0</td>\n      <td>52.0</td>\n      <td>23.0</td>\n      <td>40.0</td>\n    </tr>\n    <tr>\n      <th>5</th>\n      <td>10.1038/s41558-022-01426-1</td>\n      <td>572</td>\n      <td>84.0</td>\n      <td>26.0</td>\n      <td>9.0</td>\n      <td>35.0</td>\n    </tr>\n    <tr>\n      <th>6</th>\n      <td>10.1126/science.aap9559</td>\n      <td>568</td>\n      <td>78.0</td>\n      <td>62.0</td>\n      <td>23.0</td>\n      <td>30.0</td>\n    </tr>\n    <tr>\n      <th>7</th>\n      <td>10.1126/sciadv.abd3083</td>\n      <td>552</td>\n      <td>64.0</td>\n      <td>45.0</td>\n      <td>9.0</td>\n      <td>38.0</td>\n    </tr>\n    <tr>\n      <th>8</th>\n      <td>10.1038/s41591-022-01689-3</td>\n      <td>550</td>\n      <td>54.0</td>\n      <td>29.0</td>\n      <td>17.0</td>\n      <td>44.0</td>\n    </tr>\n    <tr>\n      <th>9</th>\n      <td>10.1038/s41586-022-04788-w</td>\n      <td>549</td>\n      <td>92.0</td>\n      <td>28.0</td>\n      <td>15.0</td>\n      <td>35.0</td>\n    </tr>\n  </tbody>\n</table>\n</div>",
       "datasetInfos": [],
       "metadata": {},
       "removedWidgets": [],
       "textData": null,
       "type": "htmlSandbox"
      }
     },
     "output_type": "display_data"
    }
   ],
   "source": [
    "#print(merge4['doi'].nunique())\n",
    "merge4.head(10)"
   ]
  },
  {
   "cell_type": "code",
   "execution_count": 0,
   "metadata": {
    "application/vnd.databricks.v1+cell": {
     "cellMetadata": {
      "byteLimit": 2048000,
      "rowLimit": 10000
     },
     "inputWidgets": {},
     "nuid": "de96d65b-5308-457d-b78a-2d91c53deeff",
     "showTitle": false,
     "title": ""
    }
   },
   "outputs": [
    {
     "output_type": "stream",
     "name": "stdout",
     "output_type": "stream",
     "text": [
      "Empty DataFrame\nColumns: [doi, total_count, local_count, national_count, international_count, sp_count, tt]\nIndex: []\n"
     ]
    }
   ],
   "source": [
    "test = merge4.copy()\n",
    "test['tt'] = test['local_count']+test['international_count']+test['national_count']+test['sp_count'] \n",
    "#print(test[test['tt'] == 0])\n",
    "test['tt'] = test['total_count'] - test['tt']\n",
    "print(test[test['tt'] < 0])"
   ]
  },
  {
   "cell_type": "code",
   "execution_count": 0,
   "metadata": {
    "application/vnd.databricks.v1+cell": {
     "cellMetadata": {
      "byteLimit": 2048000,
      "rowLimit": 10000
     },
     "inputWidgets": {},
     "nuid": "34e84f42-f4e6-4207-ad0f-3234fd1a079d",
     "showTitle": false,
     "title": ""
    }
   },
   "outputs": [],
   "source": [
    "cat = []\n",
    "for ind in merge4.index:\n",
    "  if merge4['local_count'][ind] > 0 and merge4['national_count'][ind] > 0 and merge4['international_count'][ind] > 0:\n",
    "    cat.append(\"all\")\n",
    "  elif merge4['local_count'][ind] > 0 and merge4['national_count'][ind] > 0 and merge4['international_count'][ind] <= 0:\n",
    "    cat.append(\"local:nat\")\n",
    "\n",
    "  elif merge4['local_count'][ind] > 0 and merge4['national_count'][ind] <= 0 and merge4['international_count'][ind] > 0:\n",
    "    cat.append(\"local:inter\")\n",
    "\n",
    "  elif merge4['local_count'][ind] <= 0 and merge4['national_count'][ind] > 0 and merge4['international_count'][ind] > 0:\n",
    "    cat.append(\"nat:inter\")\n",
    "\n",
    "  elif merge4['local_count'][ind] > 0 and merge4['national_count'][ind] <= 0 and merge4['international_count'][ind] <= 0:\n",
    "    cat.append(\"local\")\n",
    "\n",
    "  elif merge4['local_count'][ind] <= 0 and merge4['national_count'][ind] > 0 and merge4['international_count'][ind] <= 0:\n",
    "    cat.append(\"national\")\n",
    "\n",
    "  elif merge4['local_count'][ind] <= 0 and merge4['national_count'][ind] <= 0 and merge4['international_count'][ind] > 0:\n",
    "    cat.append(\"inter\")\n",
    "\n",
    "  elif merge4['local_count'][ind] <= 0 and merge4['national_count'][ind] <= 0 and merge4['international_count'][ind] <= 0:\n",
    "    cat.append(\"0\")\n",
    "\n",
    "merge4['cat'] = cat"
   ]
  },
  {
   "cell_type": "code",
   "execution_count": 0,
   "metadata": {
    "application/vnd.databricks.v1+cell": {
     "cellMetadata": {
      "byteLimit": 2048000,
      "rowLimit": 10000
     },
     "inputWidgets": {},
     "nuid": "a38f7f6d-8456-4ff7-ad1f-ac185c72d67d",
     "showTitle": false,
     "title": ""
    }
   },
   "outputs": [
    {
     "output_type": "stream",
     "name": "stdout",
     "output_type": "stream",
     "text": [
      "129428\n129428\n"
     ]
    }
   ],
   "source": [
    "print(len(merge4))\n",
    "tot = merge4.merge(total,on=['doi'],how = \"inner\")\n",
    "print(len(tot))"
   ]
  },
  {
   "cell_type": "code",
   "execution_count": 0,
   "metadata": {
    "application/vnd.databricks.v1+cell": {
     "cellMetadata": {
      "byteLimit": 2048000,
      "rowLimit": 10000
     },
     "inputWidgets": {},
     "nuid": "ed1485b5-a833-48d4-8c6a-785564e93ffe",
     "showTitle": false,
     "title": ""
    }
   },
   "outputs": [
    {
     "output_type": "display_data",
     "data": {
      "text/html": [
       "<div>\n",
       "<style scoped>\n",
       "    .dataframe tbody tr th:only-of-type {\n",
       "        vertical-align: middle;\n",
       "    }\n",
       "\n",
       "    .dataframe tbody tr th {\n",
       "        vertical-align: top;\n",
       "    }\n",
       "\n",
       "    .dataframe thead th {\n",
       "        text-align: right;\n",
       "    }\n",
       "</style>\n",
       "<table border=\"1\" class=\"dataframe\">\n",
       "  <thead>\n",
       "    <tr style=\"text-align: right;\">\n",
       "      <th></th>\n",
       "      <th>doi</th>\n",
       "      <th>total_count</th>\n",
       "      <th>local_count</th>\n",
       "      <th>national_count</th>\n",
       "      <th>international_count</th>\n",
       "      <th>sp_count</th>\n",
       "      <th>cat</th>\n",
       "      <th>Domain_English</th>\n",
       "      <th>Field_English</th>\n",
       "      <th>SubField_English</th>\n",
       "      <th>...</th>\n",
       "      <th>num_au</th>\n",
       "      <th>cor_gender</th>\n",
       "      <th>TopicId</th>\n",
       "      <th>Au1_gender</th>\n",
       "      <th>country_name</th>\n",
       "      <th>SJR</th>\n",
       "      <th>subfield_article</th>\n",
       "      <th>preferred_name</th>\n",
       "      <th>org_type</th>\n",
       "      <th>cor_au1</th>\n",
       "    </tr>\n",
       "  </thead>\n",
       "  <tbody>\n",
       "    <tr>\n",
       "      <th>0</th>\n",
       "      <td>10.1038/s41591-020-0820-9</td>\n",
       "      <td>755</td>\n",
       "      <td>101.0</td>\n",
       "      <td>67.0</td>\n",
       "      <td>27.0</td>\n",
       "      <td>43.0</td>\n",
       "      <td>all</td>\n",
       "      <td>Health Sciences</td>\n",
       "      <td>Biomedical Research</td>\n",
       "      <td>virology</td>\n",
       "      <td>...</td>\n",
       "      <td>5</td>\n",
       "      <td>male</td>\n",
       "      <td>1131033</td>\n",
       "      <td>male</td>\n",
       "      <td>United States</td>\n",
       "      <td>19.536</td>\n",
       "      <td>virology</td>\n",
       "      <td>Scripps Research Institute</td>\n",
       "      <td>resi</td>\n",
       "      <td>15768994000</td>\n",
       "    </tr>\n",
       "    <tr>\n",
       "      <th>1</th>\n",
       "      <td>10.1038/s42003-022-03334-8</td>\n",
       "      <td>710</td>\n",
       "      <td>87.0</td>\n",
       "      <td>31.0</td>\n",
       "      <td>17.0</td>\n",
       "      <td>27.0</td>\n",
       "      <td>all</td>\n",
       "      <td>Natural Sciences</td>\n",
       "      <td>Biology</td>\n",
       "      <td>plant biology &amp; botany</td>\n",
       "      <td>...</td>\n",
       "      <td>3</td>\n",
       "      <td>F</td>\n",
       "      <td>4048</td>\n",
       "      <td>unknown</td>\n",
       "      <td>United States</td>\n",
       "      <td>2.251</td>\n",
       "      <td>plant biology &amp; botany</td>\n",
       "      <td>University of Florida</td>\n",
       "      <td>univ</td>\n",
       "      <td>7402490034</td>\n",
       "    </tr>\n",
       "    <tr>\n",
       "      <th>2</th>\n",
       "      <td>10.1126/science.abj0016</td>\n",
       "      <td>640</td>\n",
       "      <td>93.0</td>\n",
       "      <td>64.0</td>\n",
       "      <td>23.0</td>\n",
       "      <td>39.0</td>\n",
       "      <td>all</td>\n",
       "      <td>Applied Sciences</td>\n",
       "      <td>Agriculture, Fisheries &amp; Forestry</td>\n",
       "      <td>fisheries</td>\n",
       "      <td>...</td>\n",
       "      <td>18</td>\n",
       "      <td>male</td>\n",
       "      <td>5235</td>\n",
       "      <td>unknown</td>\n",
       "      <td>United States</td>\n",
       "      <td>14.589</td>\n",
       "      <td>fisheries</td>\n",
       "      <td>Stanford University School of Medicine</td>\n",
       "      <td>meds</td>\n",
       "      <td>7006375689</td>\n",
       "    </tr>\n",
       "    <tr>\n",
       "      <th>3</th>\n",
       "      <td>10.1016/j.icarus.2021.114594</td>\n",
       "      <td>602</td>\n",
       "      <td>86.0</td>\n",
       "      <td>25.0</td>\n",
       "      <td>14.0</td>\n",
       "      <td>15.0</td>\n",
       "      <td>all</td>\n",
       "      <td>Natural Sciences</td>\n",
       "      <td>Physics &amp; Astronomy</td>\n",
       "      <td>astronomy &amp; astrophysics</td>\n",
       "      <td>...</td>\n",
       "      <td>18</td>\n",
       "      <td>male</td>\n",
       "      <td>3644</td>\n",
       "      <td>male</td>\n",
       "      <td>United States</td>\n",
       "      <td>1.361</td>\n",
       "      <td>astronomy &amp; astrophysics</td>\n",
       "      <td>Jet Propulsion Laboratory</td>\n",
       "      <td>resi</td>\n",
       "      <td>23977658400</td>\n",
       "    </tr>\n",
       "    <tr>\n",
       "      <th>4</th>\n",
       "      <td>10.1126/science.abb5793</td>\n",
       "      <td>601</td>\n",
       "      <td>119.0</td>\n",
       "      <td>52.0</td>\n",
       "      <td>23.0</td>\n",
       "      <td>40.0</td>\n",
       "      <td>all</td>\n",
       "      <td>Health Sciences</td>\n",
       "      <td>Biomedical Research</td>\n",
       "      <td>microbiology</td>\n",
       "      <td>...</td>\n",
       "      <td>5</td>\n",
       "      <td>male</td>\n",
       "      <td>1102558</td>\n",
       "      <td>male</td>\n",
       "      <td>United States</td>\n",
       "      <td>12.556</td>\n",
       "      <td>microbiology</td>\n",
       "      <td>Harvard T.H. Chan School of Public Health</td>\n",
       "      <td>univ</td>\n",
       "      <td>6603040788</td>\n",
       "    </tr>\n",
       "  </tbody>\n",
       "</table>\n",
       "<p>5 rows × 25 columns</p>\n",
       "</div>"
      ]
     },
     "metadata": {
      "application/vnd.databricks.v1+output": {
       "addedWidgets": {},
       "arguments": {},
       "data": "<div>\n<style scoped>\n    .dataframe tbody tr th:only-of-type {\n        vertical-align: middle;\n    }\n\n    .dataframe tbody tr th {\n        vertical-align: top;\n    }\n\n    .dataframe thead th {\n        text-align: right;\n    }\n</style>\n<table border=\"1\" class=\"dataframe\">\n  <thead>\n    <tr style=\"text-align: right;\">\n      <th></th>\n      <th>doi</th>\n      <th>total_count</th>\n      <th>local_count</th>\n      <th>national_count</th>\n      <th>international_count</th>\n      <th>sp_count</th>\n      <th>cat</th>\n      <th>Domain_English</th>\n      <th>Field_English</th>\n      <th>SubField_English</th>\n      <th>...</th>\n      <th>num_au</th>\n      <th>cor_gender</th>\n      <th>TopicId</th>\n      <th>Au1_gender</th>\n      <th>country_name</th>\n      <th>SJR</th>\n      <th>subfield_article</th>\n      <th>preferred_name</th>\n      <th>org_type</th>\n      <th>cor_au1</th>\n    </tr>\n  </thead>\n  <tbody>\n    <tr>\n      <th>0</th>\n      <td>10.1038/s41591-020-0820-9</td>\n      <td>755</td>\n      <td>101.0</td>\n      <td>67.0</td>\n      <td>27.0</td>\n      <td>43.0</td>\n      <td>all</td>\n      <td>Health Sciences</td>\n      <td>Biomedical Research</td>\n      <td>virology</td>\n      <td>...</td>\n      <td>5</td>\n      <td>male</td>\n      <td>1131033</td>\n      <td>male</td>\n      <td>United States</td>\n      <td>19.536</td>\n      <td>virology</td>\n      <td>Scripps Research Institute</td>\n      <td>resi</td>\n      <td>15768994000</td>\n    </tr>\n    <tr>\n      <th>1</th>\n      <td>10.1038/s42003-022-03334-8</td>\n      <td>710</td>\n      <td>87.0</td>\n      <td>31.0</td>\n      <td>17.0</td>\n      <td>27.0</td>\n      <td>all</td>\n      <td>Natural Sciences</td>\n      <td>Biology</td>\n      <td>plant biology &amp; botany</td>\n      <td>...</td>\n      <td>3</td>\n      <td>F</td>\n      <td>4048</td>\n      <td>unknown</td>\n      <td>United States</td>\n      <td>2.251</td>\n      <td>plant biology &amp; botany</td>\n      <td>University of Florida</td>\n      <td>univ</td>\n      <td>7402490034</td>\n    </tr>\n    <tr>\n      <th>2</th>\n      <td>10.1126/science.abj0016</td>\n      <td>640</td>\n      <td>93.0</td>\n      <td>64.0</td>\n      <td>23.0</td>\n      <td>39.0</td>\n      <td>all</td>\n      <td>Applied Sciences</td>\n      <td>Agriculture, Fisheries &amp; Forestry</td>\n      <td>fisheries</td>\n      <td>...</td>\n      <td>18</td>\n      <td>male</td>\n      <td>5235</td>\n      <td>unknown</td>\n      <td>United States</td>\n      <td>14.589</td>\n      <td>fisheries</td>\n      <td>Stanford University School of Medicine</td>\n      <td>meds</td>\n      <td>7006375689</td>\n    </tr>\n    <tr>\n      <th>3</th>\n      <td>10.1016/j.icarus.2021.114594</td>\n      <td>602</td>\n      <td>86.0</td>\n      <td>25.0</td>\n      <td>14.0</td>\n      <td>15.0</td>\n      <td>all</td>\n      <td>Natural Sciences</td>\n      <td>Physics &amp; Astronomy</td>\n      <td>astronomy &amp; astrophysics</td>\n      <td>...</td>\n      <td>18</td>\n      <td>male</td>\n      <td>3644</td>\n      <td>male</td>\n      <td>United States</td>\n      <td>1.361</td>\n      <td>astronomy &amp; astrophysics</td>\n      <td>Jet Propulsion Laboratory</td>\n      <td>resi</td>\n      <td>23977658400</td>\n    </tr>\n    <tr>\n      <th>4</th>\n      <td>10.1126/science.abb5793</td>\n      <td>601</td>\n      <td>119.0</td>\n      <td>52.0</td>\n      <td>23.0</td>\n      <td>40.0</td>\n      <td>all</td>\n      <td>Health Sciences</td>\n      <td>Biomedical Research</td>\n      <td>microbiology</td>\n      <td>...</td>\n      <td>5</td>\n      <td>male</td>\n      <td>1102558</td>\n      <td>male</td>\n      <td>United States</td>\n      <td>12.556</td>\n      <td>microbiology</td>\n      <td>Harvard T.H. Chan School of Public Health</td>\n      <td>univ</td>\n      <td>6603040788</td>\n    </tr>\n  </tbody>\n</table>\n<p>5 rows × 25 columns</p>\n</div>",
       "datasetInfos": [],
       "metadata": {},
       "removedWidgets": [],
       "textData": null,
       "type": "htmlSandbox"
      }
     },
     "output_type": "display_data"
    }
   ],
   "source": [
    "tot.head(5)"
   ]
  },
  {
   "cell_type": "code",
   "execution_count": 0,
   "metadata": {
    "application/vnd.databricks.v1+cell": {
     "cellMetadata": {
      "byteLimit": 2048000,
      "rowLimit": 10000
     },
     "inputWidgets": {},
     "nuid": "36158835-58b3-4572-aaf5-72d1057333f2",
     "showTitle": false,
     "title": ""
    }
   },
   "outputs": [],
   "source": [
    "##new test\n",
    "sep = tot.copy()\n",
    "bin_loc, bin_nat, bin_int, bin_sp = [],[],[],[]\n",
    "for ind in sep.index:\n",
    "  if sep['local_count'][ind] > 0:\n",
    "    bin_loc.append(1)\n",
    "  else:\n",
    "    bin_loc.append(0)\n",
    "  if sep['national_count'][ind] > 0:\n",
    "    bin_nat.append(1)\n",
    "  else:\n",
    "    bin_nat.append(0)\n",
    "  if sep['international_count'][ind] > 0:\n",
    "    bin_int.append(1)\n",
    "  else:\n",
    "    bin_int.append(0)\n",
    "  if sep['sp_count'][ind] > 0:\n",
    "    bin_sp.append(1)\n",
    "  else:\n",
    "    bin_sp.append(0)\n",
    "sep['bin_loc'] = bin_loc\n",
    "sep['bin_nat'] = bin_nat\n",
    "sep['bin_int'] = bin_int\n",
    "sep['bin_sp'] = bin_sp"
   ]
  },
  {
   "cell_type": "code",
   "execution_count": 0,
   "metadata": {
    "application/vnd.databricks.v1+cell": {
     "cellMetadata": {
      "byteLimit": 2048000,
      "rowLimit": 10000
     },
     "inputWidgets": {},
     "nuid": "8f05bafb-4fe7-49fe-9ad5-f05205c31f4a",
     "showTitle": false,
     "title": ""
    }
   },
   "outputs": [],
   "source": [
    "def domain(a):\n",
    "  con_18,con_19,con_20,con_21,con_22 = [],[],[],[],[]\n",
    "  gender = []\n",
    "  \n",
    "  for ind in a.index:\n",
    "    if a['year'][ind] == 2018:\n",
    "      con_18.append(1)\n",
    "    else:\n",
    "      con_18.append(0)\n",
    "\n",
    "\n",
    "    if a['cor_gender'][ind] == 'female' or a['cor_gender'][ind] == 'f' or a['cor_gender'][ind] == 'F':\n",
    "      gender.append(\"female\")\n",
    "    else:\n",
    "      gender.append(\"male\") \n",
    "\n",
    "  for ind in a.index:\n",
    "    if a['year'][ind] == 2019:\n",
    "      con_19.append(1)\n",
    "    else:\n",
    "      con_19.append(0)\n",
    "\n",
    "  for ind in a.index:\n",
    "    if a['year'][ind] == 2020:\n",
    "      con_20.append(1)\n",
    "    else:\n",
    "      con_20.append(0)\n",
    "\n",
    "  for ind in a.index:\n",
    "    if a['year'][ind] == 2021:\n",
    "      con_21.append(1)\n",
    "    else:\n",
    "      con_21.append(0)\n",
    "\n",
    "  for ind in a.index:\n",
    "    if a['year'][ind] == 2022:\n",
    "      con_22.append(1)\n",
    "    else:\n",
    "      con_22.append(0)\n",
    "  \n",
    "  \n",
    "  a['con_18'] = con_18\n",
    "  a['con_19'] = con_19\n",
    "  a['con_20'] = con_20\n",
    "  a['con_21'] = con_21\n",
    "  a['con_22'] = con_22\n",
    "  a['gender'] = gender\n",
    "  a['srcid'] = a['srcid'].astype(str)\n",
    "  return a\n"
   ]
  },
  {
   "cell_type": "code",
   "execution_count": 0,
   "metadata": {
    "application/vnd.databricks.v1+cell": {
     "cellMetadata": {
      "byteLimit": 2048000,
      "rowLimit": 10000
     },
     "inputWidgets": {},
     "nuid": "6c9eb40b-0f8e-433d-94a1-77c7a4120c1f",
     "showTitle": false,
     "title": ""
    }
   },
   "outputs": [
    {
     "output_type": "stream",
     "name": "stdout",
     "output_type": "stream",
     "text": [
      "129428\n129428\n"
     ]
    }
   ],
   "source": [
    "print(len(sep))\n",
    "print(sep['doi'].nunique())"
   ]
  },
  {
   "cell_type": "code",
   "execution_count": 0,
   "metadata": {
    "application/vnd.databricks.v1+cell": {
     "cellMetadata": {},
     "inputWidgets": {},
     "nuid": "411d2c70-05ab-4a10-9c89-9573dc88c67a",
     "showTitle": false,
     "title": ""
    }
   },
   "outputs": [],
   "source": []
  },
  {
   "cell_type": "code",
   "execution_count": 0,
   "metadata": {
    "application/vnd.databricks.v1+cell": {
     "cellMetadata": {
      "byteLimit": 2048000,
      "rowLimit": 10000
     },
     "inputWidgets": {},
     "nuid": "b7e71677-0731-4c09-a908-268a98a9e8ba",
     "showTitle": false,
     "title": ""
    }
   },
   "outputs": [
    {
     "output_type": "stream",
     "name": "stdout",
     "output_type": "stream",
     "text": [
      "\nCall:\n(function (formula, family = gaussian, data, weights, subset, \n    na.action, start = NULL, etastart, mustart, offset, control = list(...), \n    model = TRUE, method = \"glm.fit\", x = FALSE, y = TRUE, singular.ok = TRUE, \n    contrasts = NULL, ...) \n{\n    cal <- match.call()\n    if (is.character(family)) \n        family <- get(family, mode = \"function\", envir = parent.frame())\n    if (is.function(family)) \n        family <- family()\n    if (is.null(family$family)) {\n        print(family)\n        stop(\"'family' not recognized\")\n    }\n    if (missing(data)) \n        data <- environment(formula)\n    mf <- match.call(expand.dots = FALSE)\n    m <- match(c(\"formula\", \"data\", \"subset\", \"weights\", \"na.action\", \n        \"etastart\", \"mustart\", \"offset\"), names(mf), 0L)\n    mf <- mf[c(1L, m)]\n    mf$drop.unused.levels <- TRUE\n    mf[[1L]] <- quote(stats::model.frame)\n    mf <- eval(mf, parent.frame())\n    if (identical(method, \"model.frame\")) \n        return(mf)\n    if (!is.character(method) && !is.function(method)) \n        stop(\"invalid 'method' argument\")\n    if (identical(method, \"glm.fit\")) \n        control <- do.call(\"glm.control\", control)\n    mt <- attr(mf, \"terms\")\n    Y <- model.response(mf, \"any\")\n    if (length(dim(Y)) == 1L) {\n        nm <- rownames(Y)\n        dim(Y) <- NULL\n        if (!is.null(nm)) \n            names(Y) <- nm\n    }\n    X <- if (!is.empty.model(mt)) \n        model.matrix(mt, mf, contrasts)\n    else matrix(, NROW(Y), 0L)\n    weights <- as.vector(model.weights(mf))\n    if (!is.null(weights) && !is.numeric(weights)) \n        stop(\"'weights' must be a numeric vector\")\n    if (!is.null(weights) && any(weights < 0)) \n        stop(\"negative weights not allowed\")\n    offset <- as.vector(model.offset(mf))\n    if (!is.null(offset)) {\n        if (length(offset) != NROW(Y)) \n            stop(gettextf(\"number of offsets is %d should equal %d (number of observations)\", \n                length(offset), NROW(Y)), domain = NA)\n    }\n    mustart <- model.extract(mf, \"mustart\")\n    etastart <- model.extract(mf, \"etastart\")\n    fit <- eval(call(if (is.function(method)) \"method\" else method, \n        x = X, y = Y, weights = weights, start = start, etastart = etastart, \n        mustart = mustart, offset = offset, family = family, \n        control = control, intercept = attr(mt, \"intercept\") > \n            0L, singular.ok = singular.ok))\n    if (length(offset) && attr(mt, \"intercept\") > 0L) {\n        fit2 <- eval(call(if (is.function(method)) \"method\" else method, \n            x = X[, \"(Intercept)\", drop = FALSE], y = Y, mustart = fit$fitted.values, \n            weights = weights, offset = offset, family = family, \n            control = control, intercept = TRUE))\n        if (!fit2$converged) \n            warning(\"fitting to calculate the null deviance did not converge -- increase 'maxit'?\")\n        fit$null.deviance <- fit2$deviance\n    }\n    if (model) \n        fit$model <- mf\n    fit$na.action <- attr(mf, \"na.action\")\n    if (x) \n        fit$x <- X\n    if (!y) \n        fit$y <- NULL\n    structure(c(fit, list(call = cal, formula = formula, terms = mt, \n        data = data, offset = offset, control = control, method = method, \n        contrasts = attr(X, \"contrasts\"), xlevels = .getXlevels(mt, \n            mf))), class = c(fit$class, c(\"glm\", \"lm\")))\n})(formula = \"bin_sp ~ gender+q+SubField_English+year+openaccess_status\", \n    family = structure(list(family = \"binomial\", link = \"logit\", \n        linkfun = function (mu) \n        .Call(C_logit_link, mu), linkinv = function (eta) \n        .Call(C_logit_linkinv, eta), variance = function (mu) \n        mu * (1 - mu), dev.resids = function (y, mu, wt) \n        .Call(C_binomial_dev_resids, y, mu, wt), aic = function (y, \n            n, mu, wt, dev) \n        {\n            m <- if (any(n > 1)) \n                n\n            else wt\n            -2 * sum(ifelse(m > 0, (wt/m), 0) * dbinom(round(m * \n                y), round(m), mu, log = TRUE))\n        }, mu.eta = function (eta) \n        .Call(C_logit_mu_eta, eta), initialize = {\n            if (NCOL(y) == 1) {\n                if (is.factor(y)) \n                  y <- y != levels(y)[1L]\n                n <- rep.int(1, nobs)\n                y[weights == 0] <- 0\n                if (any(y < 0 | y > 1)) \n                  stop(\"y values must be 0 <= y <= 1\")\n                mustart <- (weights * y + 0.5)/(weights + 1)\n                m <- weights * y\n                if (\"binomial\" == \"binomial\" && any(abs(m - round(m)) > \n                  0.001)) \n                  warning(gettextf(\"non-integer #successes in a %s glm!\", \n                    \"binomial\"), domain = NA)\n            }\n            else if (NCOL(y) == 2) {\n                if (\"binomial\" == \"binomial\" && any(abs(y - round(y)) > \n                  0.001)) \n                  warning(gettextf(\"non-integer counts in a %s glm!\", \n                    \"binomial\"), domain = NA)\n                n <- (y1 <- y[, 1L]) + y[, 2L]\n                y <- y1/n\n                if (any(n0 <- n == 0)) \n                  y[n0] <- 0\n                weights <- weights * n\n                mustart <- (n * y + 0.5)/(n + 1)\n            }\n            else stop(gettextf(\"for the '%s' family, y must be a vector of 0 and 1's\\nor a 2 column matrix where col 1 is no. successes and col 2 is no. failures\", \n                \"binomial\"), domain = NA)\n        }, validmu = function (mu) \n        all(is.finite(mu)) && all(mu > 0 & mu < 1), valideta = function (eta) \n        TRUE, simulate = function (object, nsim) \n        {\n            ftd <- fitted(object)\n            n <- length(ftd)\n            ntot <- n * nsim\n            wts <- object$prior.weights\n            if (any(wts%%1 != 0)) \n                stop(\"cannot simulate from non-integer prior.weights\")\n            if (!is.null(m <- object$model)) {\n                y <- model.response(m)\n                if (is.factor(y)) {\n                  yy <- factor(1 + rbinom(ntot, size = 1, prob = ftd), \n                    labels = levels(y))\n                  split(yy, rep(seq_len(nsim), each = n))\n                }\n                else if (is.matrix(y) && ncol(y) == 2) {\n                  yy <- vector(\"list\", nsim)\n                  for (i in seq_len(nsim)) {\n                    Y <- rbinom(n, size = wts, prob = ftd)\n                    YY <- cbind(Y, wts - Y)\n                    colnames(YY) <- colnames(y)\n                    yy[[i]] <- YY\n                  }\n                  yy\n                }\n                else rbinom(ntot, size = wts, prob = ftd)/wts\n            }\n            else rbinom(ntot, size = wts, prob = ftd)/wts\n        }), class = \"family\"), data = structure(list(doi = c(\"10.1038/s41591-020-0820-9\", \n    \"10.1038/s42003-022-03334-8\", \"10.1126/science.abj0016\", \n    \"10.1016/j.icarus.2021.114594\", \"10.1126/science.abb5793\", \n    \"10.1038/s41558-022-01426-1\", \"10.1126/science.aap9559\", \n    \"10.1126/sciadv.abd3083\", \"10.1038/s41591-022-01689-3\", \"10.1038/s41586-022-04788-w\", \n    \"10.15585/mmwr.mm7013e3\", \"10.1001/jama.2020.4756\", \"10.1126/science.abf4063\", \n    \"10.1126/science.aaw1313\", \"10.1001/jama.2022.0470\", \"10.1073/pnas.2006874117\", \n    \"10.1073/pnas.1920849117\", \"10.1126/science.abp8715\", \"10.1126/science.abk0639\", \n    \"10.1038/s41558-022-01290-z\", \"10.15585/mmwr.mm7107e2\", \"10.1016/j.cub.2021.03.103\", \n    \"10.1126/science.abb3634\", \"10.1111/ajt.16930\", \"10.1126/science.abb3221\", \n    \"10.1377/hlthaff.2020.00818\", \"10.1016/j.ajog.2021.03.023\", \n    \"10.1021/acs.jnatprod.1c00946\", \"10.1038/s41591-022-01840-0\", \n    \"10.1073/pnas.2009637117\", \"10.1126/science.abp8337\", \"10.1038/s41586-019-1099-1\", \n    \"10.1001/jamanetworkopen.2021.0830\", \"10.1126/science.abe6522\", \n    \"10.1038/s41586-020-2923-3\", \"10.1038/s41467-022-28764-0\", \n    \"10.1038/s41586-021-03596-y\", \"10.1038/s41586-022-04664-7\", \n    \"10.1038/s41550-020-1198-9\", \"10.15585/mmwr.mm6818e1\", \"10.1093/cid/ciab111\", \n    \"10.1093/cid/ciaa1785\", \"10.1073/pnas.1821204116\", \"10.1038/s41586-021-03647-4\", \n    \"10.1073/pnas.2118631119\", \"10.1001/jama.2021.2294\", \"10.1126/science.aaz9600\", \n    \"10.1001/jama.2020.12603\", \"10.1021/acs.estlett.1c00240\", \n    \"10.1038/s41586-021-03738-2\", \"10.1016/j.cmet.2019.05.008\", \n    \"10.1093/infdis/jiaa742\", \"10.1038/s41586-021-03506-2\", \"10.1038/s41559-019-1027-7\", \n    \"10.1001/jama.2021.0374\", \"10.1038/s41467-022-28246-3\", \"10.1038/s41467-019-12808-z\", \n    \"10.1016/j.cell.2020.05.015\", \"10.1001/jamanetworkopen.2020.35057\", \n    \"10.1126/science.abn1234\", \"10.1038/s41467-021-21849-2\", \n    \"10.1001/jamanetworkopen.2020.19686\", \"10.1038/s41467-022-28333-5\", \n    \"10.1016/j.cels.2020.06.006\", \"10.1073/pnas.2013284118\", \n    \"10.1126/sciadv.abp8636\", \"10.1073/pnas.1916631117\", \"10.1001/jama.2020.6775\", \n    \"10.1136/bjsports-2021-104080\", \"10.1126/sciadv.abd0288\", \n    \"10.1038/s41586-021-03553-9\", \"10.1126/sciadv.abg3080\", \"10.1001/jama.2019.16932\", \n    \"10.1126/sciadv.aav1784\", \"10.1021/acsnano.0c03252\", \"10.1038/s41564-020-0771-4\", \n    \"10.5664/jcsm.8780\", \"10.1126/science.abk2793\", \"10.1038/s41562-021-01267-6\", \n    \"10.1016/j.ebiom.2020.102743\", \"10.1038/s41598-021-82320-2\", \n    \"10.1038/s41467-022-29379-1\", \"10.1073/pnas.1914273116\", \n    \"10.15585/mmwr.mm6736a2\", \"10.1001/jama.2021.5469\", \"10.1521/jscp.2018.37.10.751\", \n    \"10.1126/science.aar3247\", \"10.1001/jama.2022.3785\", \"10.15585/mmwr.mm6935a2\", \n    \"10.3390/cli8010012\", \"10.1001/jamainternmed.2021.8098\", \n    \"10.1001/jama.2019.1572\", \"10.1038/s41586-020-2813-8\", \"10.1001/jama.2020.24865\", \n    \"10.15585/mmwr.mm6918e3\", \"10.1002/ijc.32738\", \"10.1038/s41467-019-08471-z\", \n    \"10.1001/jamainternmed.2019.0462\", \"10.1001/jama.2018.1742\", \n    \"10.1073/pnas.2006753117\", \"10.1002/jwmg.22177\", \"10.1126/science.abj3068\", \n    \"10.1001/jamainternmed.2018.2425\", \"10.1126/science.abe7389\", \n    \"10.1038/s41598-018-23062-6\", \"10.1038/s41561-022-01019-9\", \n    \"10.15585/mmwr.mm6936a4\", \"10.1126/science.aau8712\", \"10.1126/science.abf1396\", \n    \"10.1038/s41558-019-0632-4\", \"10.15585/mmwr.mm7039e1\", \"10.1001/jama.2020.13107\", \n    \"10.1016/j.cub.2021.04.067\", \"10.1038/s41586-022-04643-y\", \n    \"10.1126/science.abj6987\", \"10.1093/cid/ciab456\", \"10.15585/mmwr.mm7104e4\", \n    \"10.1126/sciadv.abf4491\", \"10.15585/mmwr.mm7106e1\", \"10.1038/s41586-022-04449-y\", \n    \"10.1001/jama.2019.5586\", \"10.1001/jama.2018.0245\", \"10.1038/s41586-020-1935-3\", \n    \"10.1038/s41591-021-01270-4\", \"10.1007/s10552-022-01588-5\", \n    \"10.1001/jama.2020.3151\", \"10.1038/s41586-021-04390-6\", \"10.1073/pnas.2101084119\", \n    \"10.1038/s41586-021-03356-y\", \"10.1073/pnas.2113290119\", \n    \"10.1177/2047487320936787\", \"10.1093/cid/ciab321\", \"10.1016/j.jadohealth.2020.07.002\", \n    \"10.1126/sciadv.aat0131\", \"10.1038/s41591-019-0611-3\", \"10.1038/nrd.2017.243\", \n    \"10.1126/sciadv.aau4586\", \"10.1126/science.abj8222\", \"10.1038/s41467-022-29458-3\", \n    \"10.1073/pnas.1812883116\", \"10.1111/obr.13128\", \"10.15585/mmwr.mm6939e2\", \n    \"10.1126/science.abc6197\", \"10.1001/jamainternmed.2019.0899\", \n    \"10.1073/pnas.2115329119\", \"10.1038/s41558-021-01077-8\", \n    \"10.1126/science.aar7204\", \"10.1001/jamacardio.2021.0565\", \n    \"10.1073/pnas.1900712116\", \"10.1080/07420528.2018.1454458\", \n    \"10.1126/sciadv.abq0995\", \"10.1038/s41591-021-01480-w\", \"10.1016/j.cell.2020.10.049\", \n    \"10.1126/science.abk1781\", \"10.1038/s41467-021-22838-1\", \n    \"10.1038/s41467-021-22799-5\", \"10.1126/science.abi9167\", \n    \"10.15585/mmwr.mm7017e2\", \"10.1001/jama.2021.9976\", \"10.1016/j.jpeds.2020.08.037\", \n    \"10.1021/acs.est.1c06458\", \"10.1002/da.22967\", \"10.15585/mmwr.mm7107e3\", \n    \"10.1073/pnas.1817407116\", \"10.1073/pnas.2008373117\", \"10.1001/jamainternmed.2018.5008\", \n    \"10.3389/fpsyg.2020.566108\", \"10.1073/pnas.2007476117\", \"10.1001/jama.2019.13978\", \n    \"10.1001/jamacardio.2020.5890\", \"10.1001/jamainternmed.2020.4130\", \n    \"10.1016/j.cub.2019.08.036\", \"10.1001/jama.2020.22760\", \"10.1037/emo0000403\", \n    \"10.1016/j.smrv.2019.04.008\", \"10.1001/jama.2018.8931\", \"10.1001/jamainternmed.2019.0584\", \n    \"10.1038/nature25767\", \"10.15585/mmwr.mm7104e1\", \"10.1542/peds.2018-2058\", \n    \"10.1126/science.abm4454\", \"10.1038/s41586-020-2404-8\", \"10.1038/s41558-018-0222-x\", \n    \"10.1038/s41467-022-28735-5\", \"10.1007/s11606-020-06067-8\", \n    \"10.1126/science.abd3871\", \"10.1021/acs.est.1c04707\", \"10.1038/s41598-020-67211-2\", \n    \"10.1073/pnas.1718804115\", \"10.1215/00703370-9585908\", \"10.1126/science.abf0521\", \n    \"10.1038/s41550-021-01495-w\", \"10.1016/j.cell.2020.05.042\", \n    \"10.15585/mmwr.mm7017e1\", \"10.1001/jama.2021.22898\", \"10.1038/s43016-021-00343-4\", \n    \"10.1007/s40615-020-00941-1\", \"10.1038/s41586-019-1720-3\", \n    \"10.1126/science.abn3100\", \"10.1126/science.abd7672\", \"10.1126/science.abe9039\", \n    \"10.1111/faf.12525\", \"10.1088/1748-9326/abfba1\", \"10.1038/s41586-021-04281-w\", \n    \"10.1126/science.abd8694\", \"10.1001/jama.2018.6741\", \"10.1101/gr.223693.117\", \n    \"10.1038/s41467-021-22079-2\", \"10.15585/mmwr.mm7008e4\", \"10.1148/radiol.2018180217\", \n    \"10.1001/jama.2021.1117\", \"10.1126/sciadv.abe0166\", \"10.1126/science.aba9757\", \n    \"10.1038/s43016-021-00358-x\", \"10.1002/acn3.51210\", \"10.1002/ese3.956\", \n    \"10.1093/infdis/jiab114\", \"10.1038/s41591-021-01283-z\", \"10.1038/s41586-022-05016-1\", \n    \"10.1098/rspb.2019.2736\", \"10.1001/jamanetworkopen.2021.2536\", \n    \"10.1001/jama.2019.18387\", \"10.1073/pnas.1913405117\", \"10.1126/science.abb2507\", \n    \"10.1038/s41586-021-03550-y\", \"10.1126/sciadv.aaw1838\", \"10.1126/science.aay6485\", \n    \"10.1126/science.aaq0524\", \"10.1038/s41591-021-01336-3\", \n    \"10.1111/gcb.15806\", \"10.4269/ajtmh.17-0870\", \"10.1016/j.neuron.2018.05.023\", \n    \"10.1073/pnas.1718850115\", \"10.1001/jamainternmed.2019.0571\", \n    \"10.1126/science.aax2342\", \"10.1126/science.abd7728\", \"10.1126/science.abc5810\", \n    \"10.1016/j.amjmed.2019.02.015\", \"10.1002/jmv.26514\", \"10.1038/s41591-019-0459-6\", \n    \"10.1001/jama.2020.19545\", \"10.1016/j.cub.2020.01.071\", \"10.1038/s41598-021-02447-0\", \n    \"10.1038/s41550-018-0450-z\", \"10.1016/j.ebiom.2019.08.069\", \n    \"10.1038/s41586-022-04770-6\", \"10.1038/s41586-018-0158-3\", \n    \"10.1016/j.cub.2019.01.069\", \"10.1098/rsbl.2019.0666\", \"10.1093/cid/ciab230\", \n    \"10.1001/jama.2021.23580\", \"10.1016/j.cub.2021.01.026\", \"10.1073/pnas.2010146117\", \n    \"10.1186/s40168-021-01106-w\", \"10.1001/jama.2018.0899\", \"10.1126/sciadv.aax6250\", \n    \"10.1038/s41586-021-03207-w\", \"10.1038/s41467-022-28195-x\", \n    \"10.1001/jama.2019.10255\", \"10.1093/infdis/jiaa274\", \"10.1111/acer.14239\", \n    \"10.1001/jamainternmed.2018.0266\", \"10.1183/13993003.01948-2020\", \n    \"10.1038/s41586-018-0106-2\", \"10.2138/am-2022-8099\", \"10.1016/j.amepre.2019.07.028\", \n    \"10.1001/jamacardio.2021.2065\", \"10.1001/jama.2021.4133\", \n    \"10.1073/pnas.1818859116\", \"10.1016/j.jaac.2019.04.020\", \n    \"10.1088/1748-9326/ab83a7\", \"10.1016/j.cub.2017.11.057\", \n    \"10.1001/jamanetworkopen.2021.24516\", \"10.1176/appi.ps.201700250\", \n    \"10.1016/j.jamcollsurg.2018.08.694\", \"10.1002/alz.12213\", \n    \"10.1001/jamainternmed.2021.7755\", \"10.1038/s41550-019-0917-6\", \n    \"10.1001/jamainternmed.2019.0198\", \"10.1126/sciadv.abn9493\", \n    \"10.1038/s41598-020-68882-7\", \"10.1007/s10584-022-03387-y\", \n    \"10.1126/science.abj2258\", \"10.1038/s41598-019-38808-z\", \n    \"10.1038/s43017-021-00219-y\", \"10.1126/sciadv.aau6200\", \"10.1126/sciadv.abc0776\", \n    \"10.15585/mmwr.mm7013e2\", \"10.1001/jamafacial.2018.0486\", \n    \"10.1126/science.aau8650\", \"10.1126/sciadv.abc5801\", \"10.1073/pnas.1910837117\", \n    \"10.1093/ajcp/aqaa089\", \"10.1038/s41467-021-23377-5\", \"10.1038/s41550-018-0430-3\", \n    \"10.15585/mmwr.mm7039a4\", \"10.1001/jama.2020.19759\", \"10.1038/s41586-019-1119-1\", \n    \"10.1126/sciadv.abm7201\", \"10.15585/mmwr.mm6939e1\", \"10.1001/jamaoncol.2020.7600\", \n    \"10.1037/pspa0000281\", \"10.1001/jamanetworkopen.2021.28568\", \n    \"10.1038/s41586-020-2377-7\", \"10.1016/j.cub.2019.11.067\", \n    \"10.1073/pnas.2025919118\", \"10.1126/science.abn4887\", \"10.1111/acel.13415\", \n    \"10.3847/2041-8213/ac1f95\", \"10.1037/ppm0000371\", \"10.1016/j.cub.2021.04.055\", \n    \"10.1001/jama.2018.14854\", \"10.1542/peds.2021-052478\", \"10.1001/jamanetworkopen.2020.19722\", \n    \"10.1093/mnrasl/slac035\", \"10.15585/mmwr.mm6717e1\", \"10.1001/jamanetworkopen.2021.30645\", \n    \"10.1001/jama.2020.24096\", \"10.1038/s41467-020-18531-4\", \n    \"10.15585/mmwr.mm6722a1\", \"10.1001/jamanetworkopen.2018.1471\", \n    \"10.1038/s41586-019-1799-6\", \"10.1177/2047487317752186\", \n    \"10.1038/s41467-019-11297-4\", \"10.1073/pnas.2112672118\", \n    \"10.1038/s41561-019-0458-8\", \"10.1073/pnas.1802345115\", \"10.1126/sciadv.abm0320\", \n    \"10.1001/jamainternmed.2020.3391\", \"10.1016/j.jamcollsurg.2020.12.002\", \n    \"10.1126/science.aaz9353\", \"10.1001/jamacardio.2020.4916\", \n    \"10.1126/sciadv.aba1940\", \"10.1038/s43016-022-00573-0\", \"10.1093/infdis/jiab337\", \n    \"10.1073/pnas.1800097115\", \"10.1038/s41586-020-2286-9\", \"10.1038/s41366-021-00860-z\", \n    \"10.1126/sciadv.abj2164\", \"10.1126/sciadv.aax8995\", \"10.1038/s41467-019-10366-y\", \n    \"10.1073/pnas.2020778118\", \"10.1016/j.ymthe.2021.11.008\", \n    \"10.1001/jama.2018.2055\", \"10.1126/scitranslmed.aay2602\", \n    \"10.1038/s41586-020-2281-1\", \"10.1126/science.aax5440\", \"10.1126/scitranslmed.abd5487\", \n    \"10.1021/acs.est.1c06531\", \"10.1186/s12940-018-0396-8\", \"10.1001/jamaoncol.2022.1472\", \n    \"10.1001/jama.2021.12531\", \"10.1038/s41467-022-29056-3\", \n    \"10.1073/pnas.1717312115\", \"10.1001/jama.2020.8630\", \"10.1016/j.cell.2020.08.026\", \n    \"10.1037/abn0000410\", \"10.1073/pnas.2018995118\", \"10.1542/peds.2020-004879\", \n    \"10.1038/s41586-020-2639-4\", \"10.1080/14772019.2021.1924301\", \n    \"10.1073/pnas.2121723119\", \"10.1001/jama.2022.2847\", \"10.1073/pnas.2202780119\", \n    \"10.1001/jama.2019.3307\", \"10.1016/j.stem.2018.03.015\", \"10.1002/alr.22579\", \n    \"10.1016/j.envint.2018.02.029\", \"10.1111/jgs.17897\", \"10.1038/s41561-019-0362-2\", \n    \"10.1111/1475-6773.13203\", \"10.1126/science.aaw7912\", \"10.1126/science.abm0829\", \n    \"10.1001/jamanetworkopen.2021.5262\", \"10.15585/mmwr.mm6937e1\", \n    \"10.1377/hlthaff.2020.00608\", \"10.1111/jgs.17951\", \"10.15585/mmwr.mm7011e2\", \n    \"10.1126/science.abc5312\", \"10.1001/jamanetworkopen.2020.7551\", \n    \"10.1038/s41550-022-01634-x\", \"10.1038/s41559-020-1122-9\", \n    \"10.1371/journal.pone.0272947\", \"10.1073/pnas.1803880115\", \n    \"10.1126/science.aan8677\", \"10.1001/jama.2022.4308\", \"10.1038/s41586-018-0752-4\", \n    \"10.1038/s41550-021-01384-2\", \"10.1038/s41559-019-0888-0\", \n    \"10.1001/jamaoncol.2017.5618\", \"10.1126/science.aaz5819\", \n    \"10.1111/gcb.14864\", \"10.1016/j.jshs.2018.09.009\", \"10.1038/s41586-021-03371-z\", \n    \"10.1038/s41591-019-0437-z\", \"10.1126/science.aaw8737\", \"10.1126/science.aay2400\", \n    \"10.1371/journal.pone.0195405\", \"10.1038/s41550-019-0977-7\", \n    \"10.1126/science.abm0151\", \"10.1073/pnas.1904573117\", \"10.1016/j.trd.2021.102908\", \n    \"10.1073/pnas.1906556116\", \"10.15585/mmwr.mm7029a2\", \"10.1126/science.aar5629\", \n    \"10.1038/s41550-019-0813-0\", \"10.1186/s40537-019-0174-7\", \n    \"10.1038/s41586-022-05224-9\", \"10.3389/fpsyg.2019.00722\", \n    \"10.1073/pnas.1913007117\", \"10.1001/jamainternmed.2020.5313\", \n    \"10.1016/j.gecco.2020.e01371\", \"10.1111/ajt.16532\", \"10.1016/j.cell.2022.07.024\", \n    \"10.1038/s41598-021-95565-8\", \"10.1371/journal.pone.0242668\", \n    \"10.1111/jems.12400\", \"10.1038/s41586-019-1711-4\", \"10.1136/tobaccocontrol-2021-056901\", \n    \"10.1111/aje.12586\", \"10.1542/peds.2018-3112\", \"10.3897/zookeys.1096.73485\", \n    \"10.1126/science.aaz9129\", \"10.1038/s41586-020-2607-z\", \"10.1080/00036846.2019.1631443\", \n    \"10.1001/jama.2021.15494\", \"10.1001/jama.2021.8694\", \"10.1001/jamanetworkopen.2019.3886\", \n    \"10.15585/mmwr.mm6920e1\", \"10.1126/science.aar7121\", \"10.1093/brain/awx350\", \n    \"10.1073/pnas.1917204117\", \"10.1080/13696998.2021.2002063\", \n    \"10.1002/eap.2433\", \"10.1001/jama.2020.6266\", \"10.1038/s41562-020-0884-z\", \n    \"10.15585/mmwr.mm7129e2\", \"10.1038/s41586-018-0053-y\", \"10.1038/s41593-022-01132-3\", \n    \"10.1377/hlthaff.2019.01484\", \"10.1001/jamanetworkopen.2022.28510\", \n    \"10.1001/jamanetworkopen.2021.0369\", \"10.1001/jama.2020.12897\", \n    \"10.1093/jme/tjy062\", \"10.15585/mmwr.mm7039e3\", \"10.1126/science.aao1619\", \n    \"10.1038/s41550-018-0529-6\", \"10.1007/s10096-021-04260-z\", \n    \"10.1001/jama.2021.24282\", \"10.1021/acs.est.2c01583\", \"10.1038/s41586-018-0646-5\", \n    \"10.1111/jan.13818\", \"10.1002/acn3.51350\", \"10.1038/s41593-019-0371-x\", \n    \"10.1126/sciadv.aay6036\", \"10.1093/eurheartj/ehac208\", \"10.1001/jamanetworkopen.2021.43955\", \n    \"10.1016/j.cell.2018.03.054\", \"10.1038/s41598-018-22313-w\", \n    \"10.1038/s41467-021-22446-z\", \"10.1038/s41586-022-05053-w\", \n    \"10.1038/s41550-021-01539-1\", \"10.1038/nature25975\", \"10.1001/jamainternmed.2018.1007\", \n    \"10.1038/s41598-020-61839-w\", \"10.1542/peds.2021-053616\", \n    \"10.1001/jama.2019.21463\", \"10.1186/s12967-018-1507-6\", \"10.1073/pnas.2107402118\", \n    \"10.1126/sciadv.aax5097\", \"10.1038/s41598-020-61480-7\", \"10.1007/s11524-021-00515-4\", \n    \"10.1038/s41586-021-03667-0\", \"10.1038/s41591-019-0485-4\", \n    \"10.1016/j.cell.2020.06.040\", \"10.1126/sciadv.aau3669\", \"10.1073/pnas.1804840115\", \n    \"10.1016/j.envint.2020.105668\", \"10.1126/science.abm0620\", \n    \"10.1001/jama.2019.20747\", \"10.3897/zookeys.928.47517\", \"10.1016/j.jacc.2020.07.069\", \n    \"10.1007/s00227-022-04090-3\", \"10.15585/mmwr.mm7109e3\", \"10.1126/science.aav2914\", \n    \"10.1126/sciadv.aaq1012\", \"10.1038/s41550-018-0405-4\", \"10.1371/journal.pone.0226087\", \n    \"10.1001/jamanetworkopen.2020.17267\", \"10.1126/sciadv.abi8789\", \n    \"10.1016/j.cub.2019.05.035\", \"10.1016/j.jacc.2022.01.038\", \n    \"10.1001/jama.2021.11048\", \"10.1001/jama.2020.20717\", \"10.1038/s41586-019-1513-8\", \n    \"10.1001/jamainternmed.2021.4686\", \"10.1001/jamainternmed.2022.2587\", \n    \"10.1038/s41567-020-0935-4\", \"10.1073/pnas.2010115117\", \"10.1111/1745-9125.12175\", \n    \"10.1073/pnas.1717295115\", \"10.1111/ele.13434\", \"10.3389/fpubh.2020.00473\", \n    \"10.1038/s41586-021-03696-9\", \"10.3847/1538-4357/ac723a\", \n    \"10.1016/j.stem.2018.01.016\", \"10.15585/mmwr.mm6940e3\", \"10.1210/clinem/dgac040\", \n    \"10.1038/s41586-021-03860-1\", \"10.1002/advs.202201174\", \"10.1038/s41586-022-04675-4\", \n    \"10.1001/jamainternmed.2022.1906\", \"10.1111/maps.13653\", \n    \"10.1126/science.abg9175\", \"10.1038/s41559-017-0431-0\", \"10.1126/science.aau2277\", \n    \"10.1016/j.joule.2019.09.021\", \"10.15585/mmwr.mm7111e2\", \n    \"10.1001/jama.2020.0757\", \"10.1001/jamanetworkopen.2020.28786\", \n    \"10.1001/jama.2020.8707\", \"10.1001/jama.2020.15725\", \"10.1001/jamainternmed.2018.4886\", \n    \"10.1542/peds.2019-1725\", \"10.1016/j.cub.2021.03.051\", \"10.1038/s41571-022-00672-8\", \n    \"10.1001/jama.2022.1206\", \"10.1093/jnci/djz226\", \"10.1001/jama.2020.21946\", \n    \"10.15585/mmwr.mm7039e4\", \"10.1073/pnas.2123516119\", \"10.1093/humrep/dey337\", \n    \"10.1021/acsnano.0c05025\", \"10.1542/peds.2018-1235\", \"10.1038/s41561-022-00971-w\", \n    \"10.1038/s41598-020-59528-9\", \"10.1038/s41586-021-03693-y\", \n    \"10.1038/s41586-021-03991-5\", \"10.15585/mmwr.mm7108e2\", \"10.1001/jama.2021.10238\", \n    \"10.1016/j.biocon.2018.08.012\", \"10.1038/s41591-020-0971-8\", \n    \"10.1093/ntr/ntaa082\", \"10.1001/jamanetworkopen.2022.19133\", \n    \"10.1111/brv.12816\", \"10.1016/j.cmet.2020.06.013\", \"10.1001/jamainternmed.2019.3500\", \n    \"10.1093/cid/ciab519\", \"10.1001/jamainternmed.2020.1764\", \n    \"10.1016/j.stem.2019.08.002\", \"10.1371/journal.pone.0247820\", \n    \"10.1038/s41591-018-0040-8\", \"10.1073/pnas.1722477115\", \"10.1038/s41390-021-01902-y\", \n    \"10.1098/rsbl.2018.0056\", \"10.1242/jeb.243119\", \"10.1038/s41467-021-21708-0\", \n    \"10.1038/s41586-018-0637-6\", \"10.1038/s41560-020-00763-9\", \n    \"10.1001/jamanetworkopen.2021.5298\", \"10.15585/mmwr.mm6817e1\", \n    \"10.15585/mmwr.mm7109a2\", \"10.1126/sciadv.aau3333\", \"10.1016/j.idm.2020.04.001\", \n    \"10.1136/ijgc-2022-003728\", \"10.1038/s41467-022-29818-z\", \n    \"10.1080/02724634.2020.1767638\", \"10.1016/j.sleh.2019.02.002\", \n    \"10.1126/sciadv.aat3272\", \"10.1126/science.aar3320\", \"10.1073/pnas.1718185115\", \n    \"10.1126/science.aau2706\", \"10.1038/s41587-021-00950-3\", \n    \"10.1126/science.aao5646\", \"10.1126/sciadv.abd5393\", \"10.15585/mmwr.mm7019e3\", \n    \"10.1126/science.aat3466\", \"10.1001/jama.2020.17022\", \"10.1073/pnas.1922205117\", \n    \"10.15585/mmwr.mm6745a1\", \"10.1371/journal.pone.0259478\", \n    \"10.1111/risa.13500\", \"10.1038/s41598-019-49660-6\", \"10.1016/j.immuni.2020.10.004\", \n    \"10.1111/1475-6773.13551\", \"10.1001/jamaoncol.2018.2487\", \n    \"10.1016/j.icarus.2021.114872\", \"10.1001/jamainternmed.2022.2476\", \n    \"10.1038/s41586-021-03427-0\", \"10.1038/s41562-017-0277-0\", \n    \"10.1080/10410236.2022.2106086\", \"10.1016/j.ijid.2018.09.013\", \n    \"10.15585/mmwr.mm6918e1\", \"10.1021/acs.est.1c08298\", \"10.1038/nature25792\", \n    \"10.1016/j.resuscitation.2020.04.023\", \"10.1038/s41551-020-0534-9\", \n    \"10.1126/sciadv.abe2101\", \"10.1038/s41893-019-0220-7\", \"10.1001/jamanetworkopen.2020.14780\", \n    \"10.1126/science.aax9044\", \"10.1126/science.abf4058\", \"10.1126/science.abe3261\", \n    \"10.1073/pnas.1816541116\", \"10.1001/jamainternmed.2021.2033\", \n    \"10.1016\n\n*** WARNING: max output size exceeded, skipping output. ***\n\n\nSubField_Englishbioinformatics                                 0.37436   6.201\nSubField_Englishbiomedical engineering                         0.37628   7.082\nSubField_Englishbiophysics                                     0.48449   6.329\nSubField_Englishbiotechnology                                  0.38150   4.995\nSubField_Englishbuilding & construction                        0.41499   4.684\nSubField_Englishbusiness & management                          0.36820   2.225\nSubField_Englishcardiovascular system & hematology             0.36251   6.868\nSubField_Englishchemical engineering                           0.41617   5.185\nSubField_Englishchemical physics                               0.37079   6.071\nSubField_Englishcivil engineering                              0.53923   4.070\nSubField_Englishclinical psychology                            0.37653   5.759\nSubField_Englishcommunication & media studies                  0.36880   2.821\nSubField_Englishcomplementary & alternative medicine           0.57466   5.491\nSubField_Englishcomputation theory & mathematics             196.96801   0.063\nSubField_Englishcomputer hardware & architecture              98.25655   0.126\nSubField_Englishcriminology                                    0.36694   3.456\nSubField_Englishcultural studies                               0.59998  -0.710\nSubField_Englishdairy & animal science                         0.39069   4.296\nSubField_Englishdemography                                     0.60750   2.070\nSubField_Englishdentistry                                      0.39739   6.432\nSubField_Englishdermatology & venereal diseases                0.36626   7.166\nSubField_Englishdesign practice & management                  97.87775   0.131\nSubField_Englishdevelopment studies                            0.54327  -0.147\nSubField_Englishdevelopmental & child psychology               0.36550   5.951\nSubField_Englishdevelopmental biology                          0.36243   6.827\nSubField_Englishdistributed computing                        196.96801  -0.051\nSubField_Englishecology                                        0.36255   4.729\nSubField_Englisheconomic theory                              137.28666  -0.076\nSubField_Englisheconomics                                      0.36565   1.637\nSubField_Englisheducation                                      0.36380   3.076\nSubField_Englishelectrical & electronic engineering            1.10893   3.109\nSubField_Englishemergency & critical care medicine             0.37358   7.391\nSubField_Englishendocrinology & metabolism                     0.36514   7.121\nSubField_Englishenergy                                         0.36452   4.472\nSubField_Englishentomology                                     0.37612   5.041\nSubField_Englishenvironmental & occupational health            0.40101   4.731\nSubField_Englishenvironmental engineering                      0.37329   3.600\nSubField_Englishenvironmental sciences                         0.36419   4.237\nSubField_Englishepidemiology                                   0.40413   6.610\nSubField_Englishevolutionary biology                           0.36906   5.875\nSubField_Englishexperimental psychology                        0.36690   6.078\nSubField_Englishfamily studies                                 0.39058   5.105\nSubField_Englishfinance                                        0.43973  -0.172\nSubField_Englishfisheries                                      0.37662   4.317\nSubField_Englishfluids & plasmas                               0.38094   5.345\nSubField_Englishfood science                                   0.37337   4.712\nSubField_Englishforestry                                       0.38275   3.723\nSubField_Englishgastroenterology & hepatology                  0.36696   7.128\nSubField_Englishgender studies                                 0.43832   3.351\nSubField_Englishgeneral & internal medicine                    0.36168   7.085\nSubField_Englishgeneral chemistry                              0.45846   4.516\nSubField_Englishgeneral clinical medicine                      0.52757   3.954\nSubField_Englishgeneral mathematics                            0.68052   1.089\nSubField_Englishgeneral physics                                0.37685   5.857\nSubField_Englishgeneral psychology & cognitive sciences        0.84561   2.066\nSubField_Englishgenetics & heredity                            0.38942   6.560\nSubField_Englishgeochemistry & geophysics                      0.37126   5.836\nSubField_Englishgeography                                      0.40081   1.718\nSubField_Englishgeological & geomatics engineering             0.39358   3.240\nSubField_Englishgeology                                        0.66662   2.101\nSubField_Englishgeriatrics                                     0.38376   8.566\nSubField_Englishgerontology                                    0.37277   6.610\nSubField_Englishhealth policy & services                       0.36538   7.030\nSubField_Englishhistory                                        0.42617   0.937\nSubField_Englishhorticulture                                   0.89377   1.596\nSubField_Englishhuman factors                                  0.48442   4.873\nSubField_Englishimmunology                                     0.36316   6.643\nSubField_Englishindustrial engineering & automation            0.39985   6.057\nSubField_Englishindustrial relations                           0.85203   0.944\nSubField_Englishinformation & library sciences                 0.48333   3.154\nSubField_Englishinformation systems                            0.47592   3.103\nSubField_Englishinorganic & nuclear chemistry                  0.41787   5.514\nSubField_Englishinternational relations                        0.45998  -1.600\nSubField_Englishlanguages & linguistics                        0.43687   2.099\nSubField_Englishlaw                                            0.46432   1.300\nSubField_Englishlegal & forensic medicine                      0.43443   3.634\nSubField_Englishliterary studies                               0.58336   0.028\nSubField_Englishlogistics & transportation                     0.37666   3.806\nSubField_Englishmarine biology & hydrobiology                  0.36609   4.927\nSubField_Englishmarketing                                      0.38191   2.716\nSubField_Englishmaterials                                      0.37489   5.254\nSubField_Englishmathematical physics                         136.89197  -0.076\nSubField_Englishmechanical engineering & transports            0.42232   6.653\nSubField_Englishmedical informatics                            0.38060   7.073\nSubField_Englishmedicinal & biomolecular chemistry             0.38633   6.511\nSubField_Englishmeteorology & atmospheric sciences             0.36441   5.105\nSubField_Englishmicrobiology                                   0.36319   6.783\nSubField_Englishmicroscopy                                     0.99316   1.657\nSubField_Englishmining & metallurgy                            1.22027   0.049\nSubField_Englishmusic                                          0.54868   2.130\nSubField_Englishmycology & parasitology                        0.46133   4.572\nSubField_Englishnanoscience & nanotechnology                   0.36486   6.712\nSubField_Englishnetworking & telecommunications                0.43805   5.294\nSubField_Englishneurology & neurosurgery                       0.36171   9.415\nSubField_Englishnuclear & particle physics                     0.40399   4.828\nSubField_Englishnuclear medicine & medical imaging             0.36688   4.809\nSubField_Englishnumerical & computational mathematics         80.26923   0.162\nSubField_Englishnursing                                        0.36915   6.399\nSubField_Englishnutrition & dietetics                          0.36445   5.511\nSubField_Englishobstetrics & reproductive medicine             0.36503   6.272\nSubField_Englishoceanography                                   0.40803   3.544\nSubField_Englishoncology & carcinogenesis                      0.36172   7.043\nSubField_Englishoperations research                            0.52625   3.230\nSubField_Englishophthalmology & optometry                      0.37720   6.918\nSubField_Englishoptics                                         0.38238   5.643\nSubField_Englishoptoelectronics & photonics                    0.40036   5.094\nSubField_Englishorganic chemistry                              0.36904   6.968\nSubField_Englishornithology                                    0.49739   3.721\nSubField_Englishorthopedics                                    0.36665   4.611\nSubField_Englishotorhinolaryngology                            0.38026   6.654\nSubField_Englishpaleontology                                   0.37878   5.944\nSubField_Englishpathology                                      0.46568   3.962\nSubField_Englishpediatrics                                     0.36596   7.873\nSubField_Englishpharmacology & pharmacy                        0.36589   6.323\nSubField_Englishphilosophy                                     0.49968   1.035\nSubField_Englishphysical chemistry                             0.40821   5.156\nSubField_Englishphysiology                                     0.40353   5.512\nSubField_Englishplant biology & botany                         0.36771   5.038\nSubField_Englishpolitical science & public administration      0.36683   1.018\nSubField_Englishpolymers                                       0.38175   5.835\nSubField_Englishpsychiatry                                     0.36385   6.873\nSubField_Englishpsychoanalysis                               113.69977   0.116\nSubField_Englishpublic health                                  0.36182   6.921\nSubField_Englishrehabilitation                                 0.38352   6.920\nSubField_Englishreligions & theology                           0.44388   2.942\nSubField_Englishrespiratory system                             0.37148   6.622\nSubField_Englishscience studies                                0.43927   3.550\nSubField_Englishsocial psychology                              0.36298   4.887\nSubField_Englishsocial sciences methods                      196.96801  -0.050\nSubField_Englishsocial work                                    0.41818   3.133\nSubField_Englishsociology                                      0.37487   2.068\nSubField_Englishsoftware engineering                           0.76831   1.915\nSubField_Englishspeech-language pathology & audiology          0.48818   6.174\nSubField_Englishsport sciences                                 0.37042   4.406\nSubField_Englishsport, leisure & tourism                       0.44590   1.361\nSubField_Englishstatistics & probability                       0.42124   5.472\nSubField_Englishstrategic, defence & security studies          0.38085   2.735\nSubField_Englishsubstance abuse                                0.36689   6.491\nSubField_Englishsurgery                                        0.36890   7.412\nSubField_Englishtoxicology                                     0.36751   4.373\nSubField_Englishtropical medicine                              0.38552   5.513\nSubField_Englishurban & regional planning                      0.38305   1.981\nSubField_Englishurology & nephrology                           0.37193   7.947\nSubField_Englishveterinary sciences                            0.37246   4.663\nSubField_Englishvirology                                       0.36455   6.318\nSubField_Englishzoology                                        0.43325   4.960\nyear2019                                                       0.02131   8.493\nyear2020                                                       0.02112   7.672\nyear2021                                                       0.02074  11.992\nyear2022                                                       0.02363  16.015\nopenaccess_statusYES                                           0.01591   4.483\n                                                            Pr(>|z|)    \n(Intercept)                                                 8.43e-07 ***\ngendermale                                                  0.488910    \nq1                                                          6.31e-11 ***\nq2                                                          5.03e-16 ***\nq3                                                           < 2e-16 ***\nSubField_Englishacoustics                                   3.45e-05 ***\nSubField_Englishaerospace & aeronautics                     6.89e-05 ***\nSubField_Englishagricultural economics & policy             0.217660    \nSubField_Englishagronomy & agriculture                      3.23e-05 ***\nSubField_Englishallergy                                     5.68e-11 ***\nSubField_Englishanalytical chemistry                        5.64e-09 ***\nSubField_Englishanatomy & morphology                        0.946981    \nSubField_Englishanesthesiology                              1.56e-10 ***\nSubField_Englishanthropology                                0.000507 ***\nSubField_Englishapplied ethics                              8.71e-06 ***\nSubField_Englishapplied mathematics                         0.004271 ** \nSubField_Englishapplied physics                             5.38e-09 ***\nSubField_Englisharchaeology                                 1.24e-10 ***\nSubField_Englisharthritis & rheumatology                    2.61e-14 ***\nSubField_Englishartificial intelligence & image processing  7.78e-08 ***\nSubField_Englishastronomy & astrophysics                    4.70e-09 ***\nSubField_Englishbehavioral science & comparative psychology 2.16e-09 ***\nSubField_Englishbiochemistry & molecular biology            1.96e-13 ***\nSubField_Englishbioinformatics                              5.60e-10 ***\nSubField_Englishbiomedical engineering                      1.42e-12 ***\nSubField_Englishbiophysics                                  2.47e-10 ***\nSubField_Englishbiotechnology                               5.89e-07 ***\nSubField_Englishbuilding & construction                     2.81e-06 ***\nSubField_Englishbusiness & management                       0.026112 *  \nSubField_Englishcardiovascular system & hematology          6.51e-12 ***\nSubField_Englishchemical engineering                        2.16e-07 ***\nSubField_Englishchemical physics                            1.27e-09 ***\nSubField_Englishcivil engineering                           4.69e-05 ***\nSubField_Englishclinical psychology                         8.46e-09 ***\nSubField_Englishcommunication & media studies               0.004788 ** \nSubField_Englishcomplementary & alternative medicine        4.00e-08 ***\nSubField_Englishcomputation theory & mathematics            0.949596    \nSubField_Englishcomputer hardware & architecture            0.899465    \nSubField_Englishcriminology                                 0.000548 ***\nSubField_Englishcultural studies                            0.477801    \nSubField_Englishdairy & animal science                      1.74e-05 ***\nSubField_Englishdemography                                  0.038482 *  \nSubField_Englishdentistry                                   1.26e-10 ***\nSubField_Englishdermatology & venereal diseases             7.73e-13 ***\nSubField_Englishdesign practice & management                0.895755    \nSubField_Englishdevelopment studies                         0.883044    \nSubField_Englishdevelopmental & child psychology            2.66e-09 ***\nSubField_Englishdevelopmental biology                       8.64e-12 ***\nSubField_Englishdistributed computing                       0.959686    \nSubField_Englishecology                                     2.25e-06 ***\nSubField_Englisheconomic theory                             0.939670    \nSubField_Englisheconomics                                   0.101720    \nSubField_Englisheducation                                   0.002098 ** \nSubField_Englishelectrical & electronic engineering         0.001879 ** \nSubField_Englishemergency & critical care medicine          1.46e-13 ***\nSubField_Englishendocrinology & metabolism                  1.07e-12 ***\nSubField_Englishenergy                                      7.74e-06 ***\nSubField_Englishentomology                                  4.62e-07 ***\nSubField_Englishenvironmental & occupational health         2.23e-06 ***\nSubField_Englishenvironmental engineering                   0.000318 ***\nSubField_Englishenvironmental sciences                      2.27e-05 ***\nSubField_Englishepidemiology                                3.84e-11 ***\nSubField_Englishevolutionary biology                        4.24e-09 ***\nSubField_Englishexperimental psychology                     1.22e-09 ***\nSubField_Englishfamily studies                              3.31e-07 ***\nSubField_Englishfinance                                     0.863478    \nSubField_Englishfisheries                                   1.58e-05 ***\nSubField_Englishfluids & plasmas                            9.06e-08 ***\nSubField_Englishfood science                                2.46e-06 ***\nSubField_Englishforestry                                    0.000197 ***\nSubField_Englishgastroenterology & hepatology               1.02e-12 ***\nSubField_Englishgender studies                              0.000806 ***\nSubField_Englishgeneral & internal medicine                 1.39e-12 ***\nSubField_Englishgeneral chemistry                           6.30e-06 ***\nSubField_Englishgeneral clinical medicine                   7.68e-05 ***\nSubField_Englishgeneral mathematics                         0.276285    \nSubField_Englishgeneral physics                             4.71e-09 ***\nSubField_Englishgeneral psychology & cognitive sciences     0.038801 *  \nSubField_Englishgenetics & heredity                         5.39e-11 ***\nSubField_Englishgeochemistry & geophysics                   5.35e-09 ***\nSubField_Englishgeography                                   0.085749 .  \nSubField_Englishgeological & geomatics engineering          0.001197 ** \nSubField_Englishgeology                                     0.035609 *  \nSubField_Englishgeriatrics                                   < 2e-16 ***\nSubField_Englishgerontology                                 3.83e-11 ***\nSubField_Englishhealth policy & services                    2.07e-12 ***\nSubField_Englishhistory                                     0.348705    \nSubField_Englishhorticulture                                0.110498    \nSubField_Englishhuman factors                               1.10e-06 ***\nSubField_Englishimmunology                                  3.07e-11 ***\nSubField_Englishindustrial engineering & automation         1.39e-09 ***\nSubField_Englishindustrial relations                        0.345303    \nSubField_Englishinformation & library sciences              0.001610 ** \nSubField_Englishinformation systems                         0.001918 ** \nSubField_Englishinorganic & nuclear chemistry               3.50e-08 ***\nSubField_Englishinternational relations                     0.109505    \nSubField_Englishlanguages & linguistics                     0.035839 *  \nSubField_Englishlaw                                         0.193523    \nSubField_Englishlegal & forensic medicine                   0.000279 ***\nSubField_Englishliterary studies                            0.977459    \nSubField_Englishlogistics & transportation                  0.000141 ***\nSubField_Englishmarine biology & hydrobiology               8.36e-07 ***\nSubField_Englishmarketing                                   0.006615 ** \nSubField_Englishmaterials                                   1.49e-07 ***\nSubField_Englishmathematical physics                        0.939266    \nSubField_Englishmechanical engineering & transports         2.87e-11 ***\nSubField_Englishmedical informatics                         1.52e-12 ***\nSubField_Englishmedicinal & biomolecular chemistry          7.45e-11 ***\nSubField_Englishmeteorology & atmospheric sciences          3.31e-07 ***\nSubField_Englishmicrobiology                                1.18e-11 ***\nSubField_Englishmicroscopy                                  0.097532 .  \nSubField_Englishmining & metallurgy                         0.961311    \nSubField_Englishmusic                                       0.033148 *  \nSubField_Englishmycology & parasitology                     4.83e-06 ***\nSubField_Englishnanoscience & nanotechnology                1.93e-11 ***\nSubField_Englishnetworking & telecommunications             1.20e-07 ***\nSubField_Englishneurology & neurosurgery                     < 2e-16 ***\nSubField_Englishnuclear & particle physics                  1.38e-06 ***\nSubField_Englishnuclear medicine & medical imaging          1.52e-06 ***\nSubField_Englishnumerical & computational mathematics       0.871681    \nSubField_Englishnursing                                     1.56e-10 ***\nSubField_Englishnutrition & dietetics                       3.56e-08 ***\nSubField_Englishobstetrics & reproductive medicine          3.57e-10 ***\nSubField_Englishoceanography                                0.000394 ***\nSubField_Englishoncology & carcinogenesis                   1.88e-12 ***\nSubField_Englishoperations research                         0.001236 ** \nSubField_Englishophthalmology & optometry                   4.57e-12 ***\nSubField_Englishoptics                                      1.67e-08 ***\nSubField_Englishoptoelectronics & photonics                 3.50e-07 ***\nSubField_Englishorganic chemistry                           3.21e-12 ***\nSubField_Englishornithology                                 0.000199 ***\nSubField_Englishorthopedics                                 4.02e-06 ***\nSubField_Englishotorhinolaryngology                         2.85e-11 ***\nSubField_Englishpaleontology                                2.78e-09 ***\nSubField_Englishpathology                                   7.44e-05 ***\nSubField_Englishpediatrics                                  3.47e-15 ***\nSubField_Englishpharmacology & pharmacy                     2.57e-10 ***\nSubField_Englishphilosophy                                  0.300653    \nSubField_Englishphysical chemistry                          2.53e-07 ***\nSubField_Englishphysiology                                  3.54e-08 ***\nSubField_Englishplant biology & botany                      4.70e-07 ***\nSubField_Englishpolitical science & public administration   0.308657    \nSubField_Englishpolymers                                    5.38e-09 ***\nSubField_Englishpsychiatry                                  6.30e-12 ***\nSubField_Englishpsychoanalysis                              0.907805    \nSubField_Englishpublic health                               4.48e-12 ***\nSubField_Englishrehabilitation                              4.51e-12 ***\nSubField_Englishreligions & theology                        0.003257 ** \nSubField_Englishrespiratory system                          3.54e-11 ***\nSubField_Englishscience studies                             0.000385 ***\nSubField_Englishsocial psychology                           1.02e-06 ***\nSubField_Englishsocial sciences methods                     0.960129    \nSubField_Englishsocial work                                 0.001731 ** \nSubField_Englishsociology                                   0.038671 *  \nSubField_Englishsoftware engineering                        0.055546 .  \nSubField_Englishspeech-language pathology & audiology       6.65e-10 ***\nSubField_Englishsport sciences                              1.05e-05 ***\nSubField_Englishsport, leisure & tourism                    0.173458    \nSubField_Englishstatistics & probability                    4.46e-08 ***\nSubField_Englishstrategic, defence & security studies       0.006230 ** \nSubField_Englishsubstance abuse                             8.53e-11 ***\nSubField_Englishsurgery                                     1.25e-13 ***\nSubField_Englishtoxicology                                  1.23e-05 ***\nSubField_Englishtropical medicine                           3.52e-08 ***\nSubField_Englishurban & regional planning                   0.047598 *  \nSubField_Englishurology & nephrology                        1.92e-15 ***\nSubField_Englishveterinary sciences                         3.11e-06 ***\nSubField_Englishvirology                                    2.66e-10 ***\nSubField_Englishzoology                                     7.05e-07 ***\nyear2019                                                     < 2e-16 ***\nyear2020                                                    1.70e-14 ***\nyear2021                                                     < 2e-16 ***\nyear2022                                                     < 2e-16 ***\nopenaccess_statusYES                                        7.34e-06 ***\n---\nSignif. codes:  0 ‘***’ 0.001 ‘**’ 0.01 ‘*’ 0.05 ‘.’ 0.1 ‘ ’ 1\n\n(Dispersion parameter for binomial family taken to be 1)\n\n    Null deviance: 146321  on 129427  degrees of freedom\nResidual deviance: 134119  on 129254  degrees of freedom\nAIC: 134467\n\nNumber of Fisher Scoring iterations: 10\n\n\n"
     ]
    }
   ],
   "source": [
    "new = sep.copy()\n",
    "new = new.drop(columns=['cor_au1'], axis = 1)\n",
    "q1 = t['SJR'].quantile(0.25)\n",
    "q2 = t['SJR'].quantile(0.50)\n",
    "q3 = t['SJR'].quantile(0.75)\n",
    "\n",
    "q = []\n",
    "for ind in new.index:\n",
    "  if new['SJR'][ind] <= q1:\n",
    "    q.append(0)\n",
    "  elif new['SJR'][ind] > q1 and new['SJR'][ind] <= q2:\n",
    "    q.append(1)\n",
    "  elif new['SJR'][ind] > q2 and new['SJR'][ind] <= q3:\n",
    "    q.append(2)\n",
    "  else:\n",
    "    q.append(3)\n",
    "new['q'] = q\n",
    "\n",
    "#a = domain(new[new['Domain_English'] == 'Applied Sciences']) #local, - insig - gendermale est = -0.02444\n",
    "\n",
    "#a = domain(new[new['Domain_English'] == 'Arts & Humanities']) #local - insig - gendermale est = -0.02744\n",
    "\n",
    "#a = domain(new[new['Domain_English'] == 'Economic & Social Sciences']) #local - insig - gendermale est = 0.04223\n",
    "\n",
    "#a = domain(new[new['Domain_English'] == 'Health Sciences']) #local - insig - gendermale est = -0.013663\n",
    "\n",
    "#a = domain(new[new['Domain_English'] == 'Natural Sciences']) #local - insig - gendermale est = 0.00250\n",
    "\n",
    "a = domain(new) # local (gender+q+Field_English+year+openaccess_status)- sig - gendermale est = -0.05996, p val = 0.000756 *** #national - insig #international - insig #sp - insig\n",
    "###question about this part. If I control for SubField. no significant difference. What should I do?\n",
    "\n",
    "import rpy2.robjects.packages as rpackages\n",
    "import rpy2.robjects.vectors as robjects_vectors\n",
    "\n",
    "\n",
    "from rpy2.robjects import r, pandas2ri\n",
    "import rpy2.robjects as ro\n",
    "from rpy2.robjects.packages import importr\n",
    "\n",
    "# import R's utility package\n",
    "utils = rpackages.importr('utils')\n",
    "utils.chooseCRANmirror(ind=1)\n",
    "from rpy2.robjects.conversion import localconverter\n",
    "base = importr('base')\n",
    "from rpy2.robjects import Formula\n",
    "stats = importr('stats')\n",
    "\n",
    "with localconverter(ro.default_converter + pandas2ri.converter):\n",
    "  tst_df = ro.conversion.py2rpy(a)\n",
    "\n",
    "col_2_index = list(tst_df.colnames).index('gender')\n",
    "col_2 = ro.vectors.FactorVector(tst_df.rx2('gender'))\n",
    "tst_df[col_2_index] = col_2\n",
    "\n",
    "col_2_index = list(tst_df.colnames).index('q')\n",
    "col_2 = ro.vectors.FactorVector(tst_df.rx2('q'))\n",
    "tst_df[col_2_index] = col_2\n",
    "\n",
    "col_2_index = list(tst_df.colnames).index('Field_English')\n",
    "col_2 = ro.vectors.FactorVector(tst_df.rx2('Field_English'))\n",
    "tst_df[col_2_index] = col_2\n",
    "\n",
    "col_2_index = list(tst_df.colnames).index('SubField_English')\n",
    "col_2 = ro.vectors.FactorVector(tst_df.rx2('SubField_English'))\n",
    "tst_df[col_2_index] = col_2\n",
    "\n",
    "col_2_index = list(tst_df.colnames).index('year')\n",
    "col_2 = ro.vectors.FactorVector(tst_df.rx2('year'))\n",
    "tst_df[col_2_index] = col_2\n",
    "\n",
    "col_2_index = list(tst_df.colnames).index('openaccess_status')\n",
    "col_2 = ro.vectors.FactorVector(tst_df.rx2('openaccess_status'))\n",
    "tst_df[col_2_index] = col_2\n",
    "\n",
    "\n",
    "\n",
    "#print(tst_df)\n",
    "\n",
    "model = stats.glm(\"bin_sp ~ gender+q+SubField_English+year+openaccess_status\",data=tst_df,family=ro.r('binomial(link=\"logit\")'))  #,family=ro('binomial(link=\"logit\")') #family=ro.r('binomial')\n",
    "print(base.summary(model))"
   ]
  },
  {
   "cell_type": "code",
   "execution_count": 0,
   "metadata": {
    "application/vnd.databricks.v1+cell": {
     "cellMetadata": {
      "byteLimit": 2048000,
      "rowLimit": 10000
     },
     "inputWidgets": {},
     "nuid": "a8bc0b34-075b-4778-8158-15e87ed83f2b",
     "showTitle": false,
     "title": ""
    }
   },
   "outputs": [],
   "source": [
    "import numpy as np\n",
    "import rpy2.robjects.packages as rpackages\n",
    "import rpy2.robjects.vectors as robjects_vectors\n",
    "\n",
    "\n",
    "from rpy2.robjects import r, pandas2ri\n",
    "import rpy2.robjects as ro\n",
    "from rpy2.robjects.packages import importr\n",
    "\n",
    "# import R's utility package\n",
    "#utils = rpackages.importr('utils')\n",
    "#utils.chooseCRANmirror(ind=1)\n",
    "from rpy2.robjects.conversion import localconverter\n",
    "base = importr('base')\n",
    "from rpy2.robjects import Formula\n",
    "stats = importr('stats')\n",
    "nnet = importr('nnet')"
   ]
  },
  {
   "cell_type": "code",
   "execution_count": 0,
   "metadata": {
    "application/vnd.databricks.v1+cell": {
     "cellMetadata": {
      "byteLimit": 2048000,
      "rowLimit": 10000
     },
     "inputWidgets": {},
     "nuid": "d4ff0ac2-b75a-4663-bc05-0bd79f8c3d0d",
     "showTitle": false,
     "title": ""
    }
   },
   "outputs": [
    {
     "output_type": "stream",
     "name": "stdout",
     "output_type": "stream",
     "text": [
      "total field  60\nlen  91016\n# weights:  112 (91 variable)\ninitial  value 189262.451358 \niter  10 value 103362.646281\niter  20 value 103144.805250\niter  30 value 102897.425827\niter  40 value 102671.998263\niter  50 value 102517.641982\niter  60 value 102435.032663\niter  70 value 102397.447153\niter  80 value 102356.784222\niter  90 value 102244.604227\niter 100 value 102239.945793\nfinal  value 102239.945793 \nstopped after 100 iterations\nCall:\n(function (formula, data, weights, subset, na.action, contrasts = NULL, \n    Hess = FALSE, summ = 0, censored = FALSE, model = FALSE, \n    ...) \n{\n    class.ind <- function(cl) {\n        n <- length(cl)\n        x <- matrix(0, n, length(levels(cl)))\n        x[(1:n) + n * (as.integer(cl) - 1)] <- 1\n        dimnames(x) <- list(names(cl), levels(cl))\n        x\n    }\n    summ2 <- function(X, Y) {\n        X <- as.matrix(X)\n        Y <- as.matrix(Y)\n        n <- nrow(X)\n        p <- ncol(X)\n        q <- ncol(Y)\n        Z <- t(cbind(X, Y))\n        storage.mode(Z) <- \"double\"\n        z <- .C(VR_summ2, as.integer(n), as.integer(p), as.integer(q), \n            Z = Z, na = integer(1))\n        Za <- t(z$Z[, 1:z$na, drop = FALSE])\n        list(X = Za[, 1:p, drop = FALSE], Y = Za[, p + 1:q])\n    }\n    call <- match.call()\n    m <- match.call(expand.dots = FALSE)\n    m$summ <- m$Hess <- m$contrasts <- m$censored <- m$model <- m$... <- NULL\n    m[[1]] <- quote(stats::model.frame)\n    m <- eval.parent(m)\n    Terms <- attr(m, \"terms\")\n    X <- model.matrix(Terms, m, contrasts)\n    cons <- attr(X, \"contrasts\")\n    Xr <- qr(X)$rank\n    Y <- model.response(m)\n    if (!is.matrix(Y)) \n        Y <- as.factor(Y)\n    w <- model.weights(m)\n    if (length(w) == 0) \n        if (is.matrix(Y)) \n            w <- rep(1, dim(Y)[1])\n        else w <- rep(1, length(Y))\n    lev <- levels(Y)\n    if (is.factor(Y)) {\n        counts <- table(Y)\n        if (any(counts == 0)) {\n            empty <- lev[counts == 0]\n            warning(sprintf(ngettext(length(empty), \"group %s is empty\", \n                \"groups %s are empty\"), paste(sQuote(empty), \n                collapse = \" \")), domain = NA)\n            Y <- factor(Y, levels = lev[counts > 0])\n            lev <- lev[counts > 0]\n        }\n        if (length(lev) < 2) \n            stop(\"need two or more classes to fit a multinom model\")\n        if (length(lev) == 2) \n            Y <- as.integer(Y) - 1\n        else Y <- class.ind(Y)\n    }\n    if (summ == 1) {\n        Z <- cbind(X, Y)\n        z1 <- cumprod(apply(Z, 2, max) + 1)\n        Z1 <- apply(Z, 1, function(x) sum(z1 * x))\n        oZ <- order(Z1)\n        Z2 <- !duplicated(Z1[oZ])\n        oX <- (seq_along(Z1)[oZ])[Z2]\n        X <- X[oX, , drop = FALSE]\n        Y <- if (is.matrix(Y)) \n            Y[oX, , drop = FALSE]\n        else Y[oX]\n        w <- diff(c(0, cumsum(w))[c(Z2, TRUE)])\n        print(dim(X))\n    }\n    if (summ == 2) {\n        Z <- summ2(cbind(X, Y), w)\n        X <- Z$X[, 1:ncol(X)]\n        Y <- Z$X[, ncol(X) + 1:ncol(Y), drop = FALSE]\n        w <- Z$Y\n        print(dim(X))\n    }\n    if (summ == 3) {\n        Z <- summ2(X, Y * w)\n        X <- Z$X\n        Y <- Z$Y[, 1:ncol(Y), drop = FALSE]\n        w <- rep(1, nrow(X))\n        print(dim(X))\n    }\n    offset <- model.offset(m)\n    r <- ncol(X)\n    if (is.matrix(Y)) {\n        p <- ncol(Y)\n        sY <- Y %*% rep(1, p)\n        if (any(sY == 0)) \n            stop(\"some case has no observations\")\n        if (!censored) {\n            Y <- Y/matrix(sY, nrow(Y), p)\n            w <- w * sY\n        }\n        if (length(offset) > 1) {\n            if (ncol(offset) != p) \n                stop(\"ncol(offset) is wrong\")\n            mask <- c(rep(FALSE, r + 1 + p), rep(c(FALSE, rep(TRUE, \n                r), rep(FALSE, p)), p - 1))\n            X <- cbind(X, offset)\n            Wts <- as.vector(rbind(matrix(0, r + 1, p), diag(p)))\n            fit <- nnet.default(X, Y, w, Wts = Wts, mask = mask, \n                size = 0, skip = TRUE, softmax = TRUE, censored = censored, \n                rang = 0, ...)\n        }\n        else {\n            mask <- c(rep(FALSE, r + 1), rep(c(FALSE, rep(TRUE, \n                r)), p - 1))\n            fit <- nnet.default(X, Y, w, mask = mask, size = 0, \n                skip = TRUE, softmax = TRUE, censored = censored, \n                rang = 0, ...)\n        }\n    }\n    else {\n        if (length(offset) <= 1) {\n            mask <- c(FALSE, rep(TRUE, r))\n            fit <- nnet.default(X, Y, w, mask = mask, size = 0, \n                skip = TRUE, entropy = TRUE, rang = 0, ...)\n        }\n        else {\n            mask <- c(FALSE, rep(TRUE, r), FALSE)\n            Wts <- c(rep(0, r + 1), 1)\n            X <- cbind(X, offset)\n            fit <- nnet.default(X, Y, w, Wts = Wts, mask = mask, \n                size = 0, skip = TRUE, entropy = TRUE, rang = 0, \n                ...)\n        }\n    }\n    fit$formula <- attr(Terms, \"formula\")\n    fit$terms <- Terms\n    fit$call <- call\n    fit$weights <- w\n    fit$lev <- lev\n    fit$deviance <- 2 * fit$value\n    fit$rank <- Xr\n    edf <- ifelse(length(lev) == 2, 1, length(lev) - 1) * Xr\n    if (is.matrix(Y)) {\n        edf <- (ncol(Y) - 1) * Xr\n        if (length(dn <- colnames(Y)) > 0) \n            fit$lab <- dn\n        else fit$lab <- 1:ncol(Y)\n    }\n    fit$coefnames <- colnames(X)\n    fit$vcoefnames <- fit$coefnames[1:r]\n    fit$na.action <- attr(m, \"na.action\")\n    fit$contrasts <- cons\n    fit$xlevels <- .getXlevels(Terms, m)\n    fit$edf <- edf\n    fit$AIC <- fit$deviance + 2 * edf\n    if (model) \n        fit$model <- m\n    class(fit) <- c(\"multinom\", \"nnet\")\n    if (Hess) \n        fit$Hessian <- multinomHess(fit, X)\n    fit\n})(formula = \"cat ~ G+year+Field_English+q+openaccess_status\", \n    data = list(c(2, 2, 2, 2, 2, 2, 2, 2, 2, 2, 2, 2, 2, 2, 2, \n    2, 2, 2, 2, 2, 2, 2, 2, 2, 2, 2, 2, 2, 2, 2, 2, 2, 2, 2, \n    2, 2, 2, 2, 2, 2, 2, 2, 2, 2, 2, 2, 2, 2, 2, 2, 2, 2, 2, \n    2, 2, 2, 2, 2, 2, 2, 2, 2, 2, 2, 2, 2, 2, 2, 2, 2, 2, 2, \n    2, 2, 2, 2, 2, 2, 2, 2, 2, 2, 2, 2, 6, 2, 2, 2, 2, 2, 2, \n    2, 2, 2, 2, 2, 2, 2, 2, 6, 2, 2, 2, 2, 2, 2, 2, 2, 2, 2, \n    2, 2, 2, 2, 2, 2, 2, 2, 2, 2, 2, 2, 2, 2, 2, 2, 2, 2, 2, \n    2, 2, 2, 2, 2, 2, 2, 2, 2, 2, 2, 2, 2, 2, 2, 2, 2, 2, 2, \n    2, 2, 2, 2, 2, 2, 2, 2, 2, 2, 2, 2, 2, 2, 2, 2, 2, 2, 6, \n    2, 6, 2, 2, 2, 2, 2, 2, 2, 2, 2, 2, 2, 2, 2, 2, 2, 2, 2, \n    2, 2, 2, 2, 2, 2, 2, 2, 2, 6, 2, 2, 2, 2, 2, 2, 2, 2, 2, \n    2, 2, 2, 2, 2, 2, 2, 2, 2, 2, 2, 2, 2, 2, 2, 2, 2, 2, 2, \n    2, 2, 2, 2, 2, 2, 2, 2, 2, 6, 2, 2, 2, 2, 2, 2, 2, 2, 2, \n    2, 2, 2, 2, 2, 2, 2, 2, 2, 2, 2, 2, 2, 2, 2, 2, 2, 6, 2, \n    6, 2, 6, 6, 2, 2, 6, 2, 2, 2, 2, 2, 2, 2, 2, 2, 2, 2, 2, \n    2, 2, 2, 2, 2, 2, 2, 2, 2, 2, 2, 2, 2, 2, 2, 6, 2, 2, 2, \n    2, 2, 2, 2, 2, 2, 2, 2, 6, 2, 2, 2, 2, 2, 2, 2, 2, 2, 2, \n    2, 2, 2, 2, 6, 6, 2, 6, 2, 2, 2, 2, 2, 2, 2, 2, 2, 2, 2, \n    2, 2, 2, 2, 2, 2, 2, 2, 2, 2, 6, 2, 2, 2, 2, 2, 2, 2, 2, \n    2, 2, 2, 2, 6, 2, 2, 2, 2, 2, 2, 2, 2, 2, 2, 7, 2, 2, 2, \n    2, 2, 2, 2, 2, 2, 2, 2, 2, 2, 2, 2, 2, 2, 2, 2, 2, 2, 2, \n    2, 2, 2, 2, 2, 2, 6, 2, 2, 2, 2, 2, 2, 2, 2, 6, 2, 2, 2, \n    2, 2, 2, 2, 2, 2, 2, 2, 2, 6, 2, 6, 2, 7, 2, 7, 2, 2, 2, \n    2, 2, 8, 2, 6, 2, 2, 2, 2, 2, 2, 2, 2, 2, 2, 2, 2, 2, 2, \n    2, 2, 2, 6, 2, 2, 2, 2, 2, 2, 2, 7, 6, 2, 6, 2, 6, 2, 2, \n    2, 2, 2, 2, 2, 2, 2, 2, 2, 2, 2, 2, 2, 2, 2, 2, 2, 2, 2, \n    2, 2, 2, 2, 2, 2, 2, 2, 2, 2, 2, 2, 2, 2, 2, 2, 7, 2, 2, \n    2, 2, 2, 6, 2, 2, 2, 2, 2, 2, 2, 2, 2, 2, 2, 8, 2, 2, 6, \n    2, 2, 2, 2, 2, 2, 2, 2, 2, 8, 2, 2, 2, 2, 6, 2, 6, 2, 2, \n    2, 2, 6, 2, 2, 2, 2, 2, 6, 2, 2, 2, 2, 7, 2, 2, 2, 2, 2, \n    2, 2, 7, 6, 2, 2, 2, 2, 2, 2, 2, 2, 2, 6, 2, 2, 2, 2, 6, \n    2, 6, 2, 2, 2, 2, 6, 2, 2, 2, 7, 2, 2, 6, 2, 2, 2, 6, 2, \n    2, 2, 2, 2, 2, 6, 2, 2, 2, 2, 2, 2, 2, 2, 6, 6, 2, 6, 6, \n    2, 2, 2, 6, 2, 2, 2, 2, 2, 6, 2, 2, 2, 2, 2, 2, 2, 2, 2, \n    2, 2, 2, 2, 2, 7, 2, 2, 2, 6, 2, 6, 2, 2, 2, 2, 7, 2, 2, \n    2, 2, 2, 2, 6, 2, 2, 6, 2, 2, 2, 2, 2, 2, 6, 2, 2, 2, 2, \n    2, 2, 2, 2, 2, 2, 7, 2, 2, 6, 2, 6, 2, 2, 2, 2, 2, 2, 6, \n    2, 2, 2, 2, 2, 2, 2, 6, 7, 2, 2, 2, 6, 6, 2, 8, 2, 2, 2, \n    2, 2, 2, 2, 2, 2, 2, 2, 2, 2, 7, 2, 8, 2, 2, 2, 6, 2, 2, \n    2, 2, 2, 2, 7, 2, 2, 2, 2, 6, 2, 6, 2, 2, 2, 2, 2, 2, 6, \n    2, 2, 2, 6, 2, 2, 2, 6, 2, 2, 2, 2, 2, 2, 6, 6, 2, 2, 6, \n    2, 2, 2, 2, 2, 2, 8, 7, 6, 2, 2, 2, 2, 2, 6, 2, 2, 2, 2, \n    2, 6, 6, 2, 2, 2, 6, 2, 6, 6, 2, 2, 2, 2, 2, 6, 2, 2, 2, \n    2, 7, 2, 6, 7, 2, 2, 2, 2, 2, 2, 6, 2, 6, 2, 2, 2, 6, 2, \n    2, 6, 2, 2, 2, 2, 2, 2, 2, 2, 2, 2, 2, 2, 2, 2, 2, 2, 2, \n    2, 2, 2, 6, 8, 7, 2, 6, 2, 2, 7, 6, 2, 6, 6, 2, 6, 6, 6, \n    6, 2, 2, 2, 2, 2, 2, 6, 2, 2, 7, 7, 7, 2, 6, 2, 6, 2, 2, \n    8, 6, 2, 2, 2, 6, 2, 7, 2, 2, 6, 2, 2, 2, 6, 2, 6, 2, 2, \n    6, 2, 2, 7, 2, 2, 2, 2, 2, 2, 6, 2, 2, 2, 2, 2, 2, 6, 2, \n    2, 6, 2, 2, 2, 2, 6, 2, 2, 5, 6, 8, 6, 7, 2, 2, 2, 2, 2, \n    2, 2, 6, 2, 2, 2, 2, 7, 2, 2, 2, 6, 6, 6, 2, 2, 6, 2, 2, \n    2, 2, 2, 2, 2, 2, 2, 6, 2, 2, 2, 2, 6, 6, 2, 2, 2, 2, 2, \n    2, 2, 2, 2, 7, 6, 7, 2, 2, 2, 7, 2, 2, 2, 2, 2, 2, 6, 2, \n    2, 7, 2, 2, 6, 2, 2, 2, 2, 8, 7, 2, 2, 2, 6, 2, 2, 2, 2, \n    2, 2, 2, 2, 8, 6, 6, 2, 2, 6, 2, 2, 2, 2, 2, 2, 2, 6, 2, \n    2, 2, 2, 2, 6, 5, 7, 2, 2, 2, 2, 6, 6, 2, 6, 2, 2, 2, 2, \n    7, 6, 2, 2, 6, 6, 2, 7, 2, 6, 2, 6, 2, 6, 6, 2, 2, 2, 2, \n    2, 2, 2, 6, 6, 8, 6, 7, 2, 6, 2, 6, 2, 2, 2, 2, 8, 6, 2, \n    2, 2, 2, 2, 2, 2, 2, 6, 7, 2, 6, 2, 2, 6, 2, 2, 2, 2, 2, \n    2, 2, 6, 6, 2, 7, 2, 8, 2, 8, 2, 2, 7, 6, 6, 2, 2, 2, 2, \n    2, 3, 7, 6, 2, 2, 6, 2, 2, 8, 6, 6, 6, 7, 2, 6, 2, 6, 2, \n    2, 8, 7, 2, 2, 6, 2, 7, 6, 2, 2, 2, 2, 2, 6, 6, 2, 8, 2, \n    8, 2, 2, 7, 2, 2, 2, 2, 6, 6, 7, 6, 2, 2, 2, 2, 2, 6, 2, \n    2, 2, 2, 2, 2, 7, 2, 6, 2, 2, 6, 2, 2, 2, 2, 2, 7, 7, 2, \n    7, 2, 6, 2, 2, 6, 2, 2, 2, 2, 6, 6, 6, 7, 6, 8, 2, 2, 2, \n    2, 2, 6, 6, 6, 6, 6, 2, 2, 2, 7, 2, 2, 2, 2, 6, 6, 2, 6, \n    2, 2, 2, 8, 2, 2, 2, 2, 2, 2, 2, 6, 2, 2, 2, 6, 2, 6, 2, \n    2, 2, 6, 6, 2, 2, 2, 2, 2, 2, 2, 2, 2, 2, 7, 6, 2, 2, 6, \n    6, 7, 2, 2, 2, 2, 6, 6, 2, 2, 7, 2, 2, 7, 2, 8, 6, 2, 2, \n    2, 8, 2, 2, 2, 6, 6, 2, 6, 8, 2, 6, 8, 6, 2, 2, 2, 6, 6, \n    2, 8, 7, 2, 2, 6, 2, 2, 2, 2, 2, 8, 6, 2, 6, 2, 7, 2, 6, \n    7, 8, 2, 2, 2, 2, 6, 2, 2, 6, 2, 8, 2, 6, 2, 2, 2, 6, 2, \n    6, 8, 6, 6, 6, 8, 7, 6, 7, 2, 6, 6, 2, 2, 2, 6, 2, 2, 7, \n    7, 2, 6, 2, 2, 7, 6, 7, 6, 8, 2, 7, 2, 6, 2, 2, 2, 8, 2, \n    2, 6, 2, 2, 2, 2, 6, 2, 2, 2, 2, 6, 6, 2, 2, 6, 6, 2, 2, \n    2, 6, 2, 6, 6, 6, 2, 7, 6, 8, 2, 2, 6, 8, 7, 2, 2, 2, 6, \n    8, 6, 7, 6, 2, 7, 2, 2, 7, 2, 7, 6, 2, 8, 2, 2, 6, 2, 8, \n    2, 6, 2, 2, 6, 2, 2, 2, 8, 2, 6, 6, 2, 6, 6, 2, 2, 2, 7, \n    7, 2, 2, 2, 2, 8, 8, 6, 2, 6, 2, 2, 2, 2, 2, 2, 8, 2, 8, \n    2, 6, 2, 2, 2, 6, 8, 2, 8, 2, 8, 6, 6, 2, 7, 6, 6, 6, 2, \n    2, 6, 8, 6, 2, 2, 2, 8, 2, 2, 7, 2, 8, 2, 2, 2, 6, 7, 2, \n    2, 6, 8, 2, 2, 6, 6, 2, 2, 6, 2, 6, 6, 7, 2, 2, 6, 2, 6, \n    2, 6, 2, 2, 8, 6, 2, 2, 2, 2, 6, 6, 8, 2, 2, 8, 6, 6, 2, \n    6, 2, 2, 6, 2, 2, 2, 2, 2, 6, 6, 6, 2, 6, 8, 2, 2, 2, 2, \n    2, 8, 6, 6, 7, 6, 2, 6, 2, 7, 6, 7, 8, 7, 2, 6, 2, 6, 6, \n    2, 2, 2, 2, 2, 6, 2, 8, 6, 8, 6, 2, 2, 8, 2, 8, 8, 6, 8, \n    7, 6, 6, 2, 2, 2, 8, 2, 2, 2, 6, 2, 2, 2, 2, 2, 6, 8, 8, \n    6, 8, 6, 2, 6, 6, 6, 7, 8, 2, 6, 1, 6, 2, 6, 8, 2, 6, 2, \n    2, 6, 6, 6, 8, 7, 2, 2, 6, 2, 2, 2, 6, 8, 8, 7, 6, 2, 6, \n    6, 8, 2, 2, 7, 6, 7, 6, 6, 2, 2, 2, 6, 7, 2, 8, 6, 6, 2, \n    7, 8, 2, 6, 8, 8, 2, 6, 6, 2, 6, 2, 6, 8, 2, 2, 6, 7, 2, \n    6, 2, 6, 2, 6, 6, 2, 2, 6, 6, 7, 7, 2, 2, 6, 6, 2, 2, 6, \n    6, 6, 8, 2, 6, 2, 8, 7, 2, 2, 6, 7, 6, 2, 6, 6, 2, 2, 6, \n    8, 8, 2, 6, 2, 2, 6, 2, 6, 2, 2, 2, 2, 6, 2, 6, 8, 2, 8, \n    2, 6, 2, 7, 6, 2, 2, 2, 2, 7, 6, 2, 6, 6, 6, 8, 6, 2, 7, \n    6, 8, 7, 8, 2, 2, 6, 2, 2, 2, 6, 6, 2, 2, 6, 6, 2, 2, 2, \n    2, 6, 2, 2, 2, 2, 6, 8, 2, 7, 2, 2, 7, 6, 6, 6, 6, 7, 6, \n    2, 4, 6, 6, 2, 6, 2, 2, 6, 2, 6, 6, 6, 7, 2, 2, 6, 2, 2, \n    6, 7, 2, 2, 6, 6, 6, 2, 2, 6, 1, 7, 6, 6, 8, 8, 2, 2, 2, \n    6, 6, 6, 6, 2, 8, 7, 6, 6, 6, 2, 6, 2, 6, 2, 8, 6, 2, 8, \n    8, 7, 8, 7, 6, 2, 2, 2, 2, 2, 6, 2, 2, 6, 6, 8, 8, 8, 2, \n    8, 8, 2, 2, 6, 8, 8, 6, 2, 2, 6, 8, 2, 2, 6, 8, 6, 2, 6, \n    8, 6, 2, 8, 6, 2, 8, 8, 6, 6, 8, 2, 8, 2, 8, 2, 6, 6, 7, \n    6, 8, 8, 2, 6, 6, 2, 2, 8, 2, 6, 2, 6, 8, 6, 2, 7, 2, 6, \n    8, 6, 2, 4, 6, 2, 6, 8, 2, 6, 7, 2, 2, 7, 2, 2, 8, 8, 6, \n    6, 2, 6, 6, 8, 7, 8, 6, 8, 2, 7, 6, 6, 8, 2, 6, 6, 6, 6, \n    6, 6, 2, 2, 2, 6, 2, 6, 6, 2, 6, 2, 8, 7, 2, 6, 2, 6, 8, \n    6, 6, 6, 6, 8, 6, 6, 6, 6, 8, 6, 2, 6, 6, 6, 2, 2, 8, 6, \n    7, 6, 6, 2, 6, 2, 7, 8, 2, 2, 6, 7, 2, 7, 7, 8, 7, 2, 2, \n    7, 6, 2, 8, 2, 6, 2, 2, 8, 6, 8, 2, 7, 7, 2, 2, 2, 2, 8, \n    2, 6, 8, 2, 6, 2, 6, 6, 6, 7, 2, 2, 2, 8, 6, 6, 2, 7, 8, \n    6, 2, 6, 2, 2, 8, 6, 8, 8, 2, 6, 6, 1, 7, 6, 6, 8, 6, 8, \n    6, 2, 7, 2, 7, 6, 7, 6, 6, 2, 5, 6, 2, 2, 6, 6, 2, 2, 6, \n    2, 2, 3, 6, 6, 7, 6, 2, 8, 8, 6, 6, 8, 6, 6, 2, 2, 6, 8, \n    2, 6, 6, 2, 6, 6, 5, 2, 8, 6, 2, 8, 2, 8, 2, 8, 7, 8, 7, \n    6, 6, 6, 8, 7, 2, 2, 8, 6, 4, 8, 2, 6, 6, 7, 7, 7, 2, 6, \n    6, 8, 6, 8, 2, 6, 2, 6, 8, 2, 6, 8, 6, 6, 8, 6, 2, 8, 2, \n    8, 7, 2, 6, 2, 8, 2, 6, 7, 8, 2, 7, 2, 6, 6, 8, 2, 2, 2, \n    2, 2, 7, 6, 6, 2, 6, 7, 2, 2, 8, 2, 8, 6, 8, 8, 2, 6, 6, \n    2, 2, 6, 2, 2, 2, 2, 2, 6, 6, 2, 6, 2, 7, 6, 6, 8, 7, 2, \n    8, 8, 2, 8, 2, 2, 1, 6, 8, 2, 2, 8, 6, 2, 8, 2, 8, 2, 8, \n    2, 7, 2, 2, 2, 2, 6, 2, 8, 6, 6, 2, 6, 7, 6, 8, 6, 6, 8, \n    2, 2, 8, 2, 6, 2, 6, 2, 7, 6, 6, 6, 6, 6, 2, 2, 2, 6, 8, \n    8, 2, 7, 4, 2, 2, 1, 6, 7, 6, 6, 8, 6, 2, 6, 6, 6, 8, 2, \n    8, 2, 2, 2, 6, 7, 2, 8, 8, 6, 6, 6, 6, 2, 6, 7, 6, 2, 8, \n    2, 8, 8, 2, 8, 8, 6, 6, 7, 8, 8, 6, 8, 2, 7, 2, 7, 6, 2, \n    6, 6, 8, 7, 6, 8, 8, 2, 7, 7, 7, 6, 2, 2, 8, 7, 8, 6, 6, \n    2, 8, 6, 8, 8, 8, 8, 2, 6, 8, 2, 2, 2, 6, 1, 6, 6, 6, 6, \n    6, 8, 2, 2, 2, 6, 2, 6, 6, 2, 8, 8, 6, 2, 8, 6, 2, 6, 2, \n    2, 2, 8, 6, 2, 2, 8, 8, 8, 6, 8, 8, 7, 6, 2, 8, 8, 2, 7, \n    6, 6, 1, 8, 6, 6, 2, 8, 7, 8, 2, 8, 2, 2, 6, 2, 2, 2, 6, \n    8, 2, 2, 6, 2, 6, 7, 6, 6, 2, 6, 2, 8, 8, 2, 6, 8, 6, 8, \n    2, 2, 8, 8, 2, 2, 6, 2, 2, 6, 7, 8, 6, 6, 6, 2, 2, 2, 2, \n    7, 2, 8, 8, 4, 6, 6, 2, 6, 2, 6, 7, 6, 7, 6, 7, 2, 6, 2, \n    7, 2, 2, 8, 6, 6, 2, 8, 8, 6, 6, 7, 6, 6, 2, 2, 8, 8, 6, \n    6, 2, 6, 2, 8, 6, 6, 6, 2, 2, 2, 6, 8, 7, 2, 2, 6, 2, 2, \n    8, 2, 8, 6, 7, 8, 2, 2, 8, 6, 2, 8, 6, 6, 6, 6, 6, 6, 2, \n    2, 2, 6, 2, 7, 8, 2, 8, 7, 7, 6, 8, 8, 8, 8, 6, 6, 2, 2, \n    6, 6, 8, 6, 8, 2, 6, 2, 2, 2, 2, 6, 2, 2, 6, 2, 8, 6, 8, \n    6, 2, 2, 8, 6, 2, 2, 8, 8, 7, 6, 2, 2, 6, 8, 8, 7, 6, 8, \n    6, 2, 6, 8, 2, 8, 8, 1, 2, 7, 6, 2, 6, 2, 2, 2, 6, 7, 8, \n    7, 5, 2, 7, 6, 2, 2, 2, 2, 2, 2, 2, 6, 6, 2, 8, 2, 2, 6, \n    2, 6, 6, 8, 2, 6, 2, 6, 2, 2, 7, 2, 2, 2, 6, 2, 6, 6, 6, \n    2, 6, 2, 2, 2, 6, 1, 6, 6, 2, 7, 8, 7, 2, 2, 7, 8, 6, 6, \n    2, 8, 8, 8, 8, 8, 2, 8, 2, 8, 8, 8, 6, 6, 2, 2, 2, 7, 6, \n    2, 6, 2, 2, 2, 6, 2, 1, 2, 2, 6, 2, 6, 2, 2, 7, 8, 6, 8, \n    2, 7, 6, 8, 6, 6, 7, 1, 8, 2, 8, 6, 8, 6, 2, 8, 8, 6, 6, \n    2, 6, 1, 7, 8, 8, 8, 6, 6, 8, 2, 6, 2, 6, 8, 6, 1, 8, 8, \n    6, 8, 1, 8, 2, 8, 8, 2, 4, 6, 8, 8, 8, 8, 6, 2, 8, 2, 7, \n    2, 8, 2, 8, 2, 1, 6, 6, 6, 8, 2, 6, 6, 6, 6, 7, 2, 6, 2, \n    2, 2, 6, 2, 6, 6, 6, 2, 7, 6, 2, 8, 8, 8, 8, 6, 8, 2, 6, \n    1, 6, 6, 2, 2, 8, 6, 8, 6, 8, 2, 8, 6, 7, 6, 2, 2, 8, 2, \n    2, 6, 8, 2, 2, 6, 6, 2, 8, 8, 2, 6, 2, 7, 2, 8, 6, 8, 6, \n    6, 6, 7, 8, 2, 2, 6, 1, 6, 6, 6, 6, 8, 2, 2, 6, 8, 6, 2, \n    8, 2, 8, 2, 6, 6, 6, 8, 8, 7, 6, 2, 6, 8, 8, 6, 8, 6, 6, \n    8, 6, 8, 6, 6, 8, 6, 6, 8, 8, 2, 8, 6, 2, 6, 2, 6, 7, 2, \n    7, 8, 8, 8, 2, 2, 2, 8, 6, 6, 2, 2, 6, 8, 2, 8, 2, 1, 8, \n    7, 6, 6, 2, 8, 8, 2, 2, 6, 6, 2, 2, 6, 6, 2, 2, 8, 2, 7, \n    2, 2, 8, 8, 6, 8, 2, 2, 4, 2, 6, 6, 6, 6, 8, 8, 1, 8, 6, \n    6, 2, 2, 7, 2, 2, 6, 6, 6, 2, 2, 7, 8, 8, 6, 6, 6, 2, 8, \n    6, 8, 6, 6, 7, 6, 2, 8, 2, 8, 8, 6, 7, 8, 5, 8, 6, 8, 2, \n    2, 8, 6, 1, 2, 8, 6, 6, 6, 6, 8, 8, 2, 8, 6, 6, 2, 8, 6, \n    8, 1, 2, 2, 8, 2, 2, 6, 2, 1, 8, 6, 6, 6, 6, 2, 8, 8, 8, \n    2, 7, 2, 7, 3, 6, 8, 8, 2, 2, 6, 8, 6, 1, 5, 6, 6, 2, 2, \n    6, 1, 6, 2, 8, 6, 8, 2, 8, 2, 6, 1, 6, 2, 2, 2, 2, 2, 2, \n    7, 6, 6, 8, 8, 2, 6, 8, 6, 2, 6, 2, 7, 2, 6, 1, 2, 2, 1, \n    8, 6, 6, 2, 8, 8, 6, 6, 6, 7, 2, 2, 8, 8, 6, 6, 6, 2, 2, \n    6, 8, 2, 7, 8, 6, 8, 2, 6, 8, 2, 6, 1, 2, 6, 7, 6, 6, 6, \n    6, 7, 6, 2, 6, 8, 2, 8, 6, 2, 2, 6, 2, 7, 7, 7, 6, 2, 4, \n    2, 2, 6, 6, 7, 2, 2, 8, 8, 2, 8, 6, 7, 6, 2, 6, 2, 2, 6, \n    6, 6, 2, 6, 7, 2, 6, 8, 6, 1, 6, 7, 7, 2, 2, 8, 6, 7, 6, \n    8, 6, 6, 8, 6, 8, 2, 4, 7, 6, 6, 8, 2, 8, 8, 2, 8, 8, 1, \n    2, 2, 8, 8, 7, 2, 7, 2, 6, 2, 8, 8, 6, 6, 2, 8, 6, 1, 1, \n    6, 7, 7, 2, 8, 2, 2, 8, 2, 7, 6, 6, 6, 2, 8, 2, 6, 1, 7, \n    6, 6, 2, 6, 6, 8, 8, 8, 2, 8, 2, 8, 2, 6, 2, 2, 6, 2, 6, \n    6, 8, 2, 7, 2, 8, 1, 6, 8, 2, 6, 7, 2, 2, 7, 7, 2, 6, 6, \n    2, 6, 7, 2, 2, 2, 2, 2, 6, 1, 8, 8, 8, 6, 2, 7, 6, 7, 7, \n    2, 8, 1, 8, 2, 6, 2, 2, 6, 2, 8, 6, 2, 2, 1, 2, 6, 1, 2, \n    8, 4, 6, 6, 2, 8, 6, 2, 2, 6, 2, 7, 1, 2, 2, 2, 6, 2, 1, \n    8, 7, 7, 8, 8, 8, 8, 8, 2, 6, 8, 2, 2, 8, 2, 8, 1, 8, 8, \n    6, 8, 6, 6, 6, 8, 6, 2, 6, 8, 6, 1, 6, 6, 6, 6, 8, 8, 2, \n    6, 2, 2, 2, 6, 6, 8, 8, 2, 6, 6, 6, 2, 8, 6, 2, 8, 6, 6, \n    1, 8, 6, 2, 2, 8, 8, 1, 6, 1, 8, 1, 2, 1, 1, 6, 7, 6, 6, \n    7, 6, 2, 8, 6, 8, 6, 8, 6, 7, 6, 2, 8, 2, 7, 6, 6, 2, 2, \n    6, 2, 7, 8, 2, 1, 2, 8, 6, 6, 2, 8, 1, 8, 7, 8, 2, 8, 6, \n    6, 6, 8, 6, 6, 7, 6, 6, 6, 6, 2, 7, 1, 2, 1, 6, 6, 2, 4, \n    2, 8, 2, 2, 2, 2, 8, 6, 8, 6, 6, 2, 8, 2, 4, 8, 6, 2, 7, \n    7, 4, 6, 8, 7, 8, 6, 8, 8, 2, 8, 6, 7, 6, 2, 2, 2, 8, 6, \n    6, 2, 6, 6, 8, 8, 6, 2, 7, 2, 2, 7, 6, 8, 8, 1, 8, 2, 7, \n    2, 8, 2, 6, 2, 8, 7, 2, 2, 6, 2, 7, 2, 8, 8, 8, 6, 8, 7, \n    2, 2, 2, 6, 6, 7, 2, 8, 2, 6, 7, 7, 6, 8, 6, 6, 4, 6, 6, \n    6, 2, 6, 6, 2, 6, 8, 2, 6, 6, 2, 8, 2, 8, 8, 6, 6, 7, 6, \n    2, 8, 8, 6, 2, 2, 6, 2, 7, 7, 2, 2, 6, 7, 6, 8, 2, 4, 6, \n    2, 2, 6, 2, 6, 2, 6, 2, 6, 2, 6, 8, 8, 7, 6, 6, 6, 6, 2, \n    6, 8, 2, 1, 8, 6, 2, 2, 7, 4, 8, 8, 6, 6, 8, 6, 6, 8, 8, \n    2, 6, 2, 2, 7, 2, 6, 2, 6, 2, 2, 7, 2, 2, 8, 4, 2, 6, 6, \n    8, 7, 2, 7, 6, 7, 7, 2, 6, 2, 8, 2, 6, 2, 2, 2, 2, 2, 2, \n    8, 1, 6, 8, 6, 7, 8, 2, 6, 8, 6, 7, 7, 6, 2, 8, 7, 4, 2, \n    6, 2, 8, 7, 8, 2, 8, 6, 6, 6, 6, 6, 8, 6, 7, 8, 6, 7, 7, \n    6, 2, 6, 6, 6, 6, 6, 2, 4, 4, 7, 6, 6, 2, 7, 2, 6, 6, 6, \n    6, 2, 2, 6, 6, 6, 8, 6, 4, 8, 6, 6, 2, 8, 8, 8, 6, 4, 2, \n    8, 6, 2, 6, 2, 6, 8, 6, 2, 8, 7, 6, 6, 2, 4, 8, 6, 6, 6, \n    8, 7, 2, 8, 6, 6, 8, 6, 6, 8, 2, 6, 2, 6, 6, 6, 2, 7, 2, \n    2, 6, 6, 8, 8, 6, 6, 6, 2, 6, 6, 2, 7, 2, 6, 6, 2, 6, 2, \n    6, 2, 2, 2, 6, 8, 7, 7, 8, 6, 1, 8, 8, 2, 6, 6, 2, 2, 6, \n    1, 2, 8, 8, 6, 1, 4, 6, 6, 8, 4, 2, 4, 7, 6, 6, 6, 2, 6, \n    4, 6, 4, 8, 6, 6, 6, 6, 6, 1, 8, 8, 2, 2, 2, 2, 6, 6, 1, \n    2, 2, 8, 8, 8, 7, 6, 7, 6, 8, 2, 2, 6, 6, 8, 7, 6, 2, 6, \n    6, 2, 1, 8, 6, 8, 8, 4, 8, 6, 2, 8, 7, 2, 6, 8, 6, 6, 6, \n    2, 7, 2, 4, 2, 6, 8, 6, 8, 2, 6, 2, 8, 6, 2, 8, 2, 2, 2, \n    8, 8, 2, 6, 1, 2, 6, 2, 8, 6, 2, 2, 7, 6, 6, 6, 7, 2, 6, \n    8, 7, 4, 8, 7, 6, 6, 7, 2, 2, 6, 2, 6, 6, 6, 2, 2, 2, 7, \n    6, 8, 2, 8, 6, 8, 6, 7, 7, 7, 8, 6, 6, 7, 2, 2, 7, 6, 2, \n    8, 4, 2, 6, 7, 7, 8, 2, 2, 2, 2, 8, 2, 7, 2, 6, 6, 6, 2, \n    2, 8, 8, 2, 8, 8, 8, 8, 2, 7, 8, 6, 7, 6, 4, 6, 6, 8, 2, \n    2, 2, 6, 8, 6, 2, 4, 8, 6, 8, 1, 8, 2, 2, 7, 6, 2, 6, 4, \n    2, 2, 8, 2, 6, 6, 6, 2, 6, 2, 6, 8, 7, 8, 2, 6, 8, 2, 2, \n    7, 8, 6, 8, 8, 2, 6, 6, 2, 2, 2, 6, 2, 2, 2, 7, 8, 4, 6, \n    4, 8, 6, 8, 2, 4, 4, 2, 2, 6, 2, 2, 2, 7, 6, 6, 6, 6, 6, \n    7, 8, 4, 6, 2, 6, 8, 2, 6, 8, 2, 2, 2, 8, 2, 7, 6, 2, 7, \n    7, 2, 2, 2, 2, 6, 2, 8, 2, 7, 6, 6, 7, 2, 2, 2, 2, 2, 6, \n    6, 6, 6, 2, 2, 8, 6, 8, 8, 8, 2, 3, 4, 8, 7, 2, 7, 8, 2, \n    6, 6, 6, 6, 2, 1, 2, 6, 2, 2, 8, 7, 4, 8, 6, 6, 6, 6, 8, \n    8, 1, 7, 8, 8, 7, 8, 2, 2, 1, 7, 6, 8, 6, 6, 7, 2, 8, 7, \n    8, 3, 2, 8, 8, 2, 2, 2, 6, 2, 4, 7, 8, 2, 6, 2, 6, 2, 8, \n    2, 7, 1, 2, 2, 2, 1, 2, 6, 8, 2, 8, 2, 6, 6, 8, 2, 2, 7, \n    2, 2, 2, 2, 2, 7, 4, 2, 2, 2, 2, 8, 2, 1, 6, 7, 2, 2, 6, \n    7, 6, 8, 6, 2, 4, 6, 6, 7, 4, 8, 6, 7, 7, 6, 6, 2, 7, 6, \n    6, 2, 8, 8, 2, 6, 6, 8, 6, 2, 6, 2, 8, 6, 8, 6, 8, 2, 7, \n    3, 6, 7, 8, 6, 7, 6, 2, 7, 6, 2, 8, 6, 6, 6, 7, 2, 4, 8, \n    7, 8, 2, 6, 2, 6, 2, 8, 2, 6, 8, 4, 6, 6, 2, 6, 8, 8, 6, \n    8, 2, 6, 8, 8, 2, 7, 2, 7, 6, 2, 2, 4, 2, 2, 8, 8, 6, 8, \n    6, 1, 6, 6, 2, 6, 6, 6, 6, 6, 7, 2, 6, 1, 8, 4, 6, 6, 8, \n    2, 6, 6, 6, 6, 2, 8, 6, 6, 6, 8, 7, 8, 6, 6, 8, 6, 7, 2, \n    7, 2, 6, 2, 8, 1, 8, 4, 2, 2, 7, 6, 8, 6, 2, 4, 6, 8, 8, \n    2, 2, 2, 6, 7, 7, 2, 2, 8, 8, 8, 8, 6, 2, 8, 6, 6, 4, 6, \n    7, 8, 6, 6, 7, 2, 6, 2, 6, 2, 6, 8, 2, 2, 7, 6, 6, 6, 6, \n    2, 4, 7, 6, 7, 6, 2, 6, 6, 6, 2, 6, 6, 7, 8, 2, 8, 2, 6, \n    7, 2, 7, 7, 8, 8, 2, 6, 7, 3, 8, 4, 6, 2, 6, 7, 6, 7, 6, \n    2, 4, 8, 6, 7, 8, 2, 2, 6, 7, 6, 8, 6, 6, 6, 2, 6, 2, 4, \n    2, 2, 7, 8, 8, 3, 2, 8, 2, 4, 7, 6, 7, 2, 2, 6, 7, 8, 2, \n    6, 6, 6, 8, 6, 8, 2, 8, 8, 7, 6, 6, 2, 2, 7, 7, 8, 6, 6, \n    7, 7, 6, 3, 2, 6, 7, 6, 7, 2, 7, 6, 6, 2, 2, 6, 6, 8, 6, \n    2, 8, 4, 2, 6, 8, 4, 8, 2, 6, 6, 6, 2, 7, 2, 2, 2, 6, 6, \n    4, 6, 2, 8, 2, 2, 3, 8, 8, 7, 2, 6, 2, 2, 8, 7, 2, 2, 2, \n    2, 6, 2, 6, 7, 2, 8, 2, 6, 2, 7, 2, 8, 7, 2, 6, 2, 4, 6, \n    2, 2, 6, 6, 6, 7, 6, 2, 8, 8, 4, 8, 4, 6, 6, 6, 6, 2, 7, \n    2, 6, 2, 8, 2, 2, 6, 8, 7, 6, 6, 6, 6, 6, 2, 7, 6, 2, 8, \n    8, 6, 8, 4, 2, 5, 2, 4, 6, 8, 7, 6, 6, 8, 7, 2, 8, 7, 6, \n    6, 7, 7, 7, 8, 7, 6, 6, 8, 7, 2, 6, 8, 6, 2, 4, 2, 6, 7, \n    2, 6, 7, 7, 2, 7, 6, 4, 2, 8, 2, 4, 2, 8, 7, 6, 4, 6, 7, \n    2, 6, 6, 1, 6, 8, 2, 8, 6, 7, 4, 6, 7, 7, 8, 2, 1, 6, 8, \n    6, 8, 8, 8, 6, 8, 2, 8, 7, 6, 6, 2, 6, 2, 8, 8, 2, 7, 6, \n    4, 2, 8, 2, 4, 6, 8, 6, 7, 8, 8, 2, 8, 8, 6, 4, 2, 6, 6, \n    2, 2, 8, 6, 7, 6, 4, 2, 2, 8, 8, 6, 2, 7, 2, 6, 2, 4, 2, \n    8, 6, 8, 7, 2, 7, 6, 6, 6, 8, 2, 8, 2, 2, 2, 4, 4, 6, 7, \n    6, 7, 7, 6, 6, 6, 4, 6, 8, 7, 8, 6, 8, 6, 6, 6, 7, 8, 7, \n    6, 8, 6, 1, 2, 4, 8, 2, 4, 6, 6, 8, 3, 8, 7, 8, 6, 2, 4, \n    6, 7, 8, 6, 6, 8, 8, 7, 2, 2, 8, 2, 2, 1, 6, 8, 8, 7, 2, \n    2, 2, 4, 6, 2, 2, 6, 2, 2, 2, 6, 7, 1, 8, 7, 2, 6, 8, 4, \n    6, 7, 8, 6, 2, 2, 6, 2, 2, 2, 7, 2, 4, 6, 2, 6, 8, 8, 6, \n    4, 6, 6, 7, 6, 2, 8, 6, 2, 6, 6, 2, 4, 2, 8, 7, 7, 4, 2, \n    8, 4, 4, 7, 6, 7, 6, 6, 6, 7, 2, 1, 6, 8, 8, 6, 2, 6, 6, \n    2, 2, 2, 4, 6, 2, 6, 8, 8, 6, 6, 2, 7, 2, 6, 2, 7, 6, 6, \n    7, 2, 2, 6, 6, 6, 6, 4, 2, 8, 4, 2, 7, 1, 7, 6, 2, 6, 8, \n    2, 8, 8, 7, 2, 2, 1, 2, 2, 1, 6, 2, 6, 7, 6, 2, 2, 2, 4, \n    8, 4, 7, 7, 6, 2, 4, 8, 2, 8, 2, 7, 4, 8, 7, 6, 7, 6, 4, \n    2, 8, 7, 7, 6, 6, 6, 2, 6, 8, 6, 3, 6, 7, 4, 6, 2, 8, 7, \n    8, 4, 2, 6, 8, 8, 8, 6, 2, 7, 2, 4, 6, 2, 2, 8, 2, 8, 2, \n    8, 2, 4, 2, 2, 7, 3, 8, 6, 6, 6, 6, 6, 2, 6, 6, 1, 7, 8, \n    7, 7, 6, 8, 8, 8, 2, 2, 6, 6, 8, 8, 4, 8, 6, 8, 4, 2, 1, \n    6, 6, 2, 6, 7, 4, 7, 7, 8, 7, 4, 8, 8, 8, 1, 6, 3, 2, 6, \n    2, 2, 6, 2, 4, 8, 2, 2, 2, 1, 2, 6, 2, 2, 2, 4, 8, 2, 8, \n    2, 2, 6, 2, 6, 8, 8, 7, 8, 6, 6, 8, 4, 7, 6, 8, 2, 4, 2, \n    7, 2, 8, 7, 6, 2, 2, 7, 6, 7, 8, 2, 7, 7, 4, 8, 8, 4, 6, \n    7, 2, 4, 4, 2, 2, 6, 2, 2, 2, 8, 2, 4, 6, 6, 2, 2, 2, 8, \n    4, 6, 8, 7, 7, 8, 8, 2, 2, 6, 4, 2, 8, 8, 7, 4, 2, 8, 2, \n    7, 8, 4, 2, 2, 6, 6, 6, 6, 8, 4, 7, 2, 8, 8, 2, 7, 4, 6, \n    8, 7, 7, 2, 4, 4, 6, 2, 7, 7, 6, 6, 2, 6, 7, 6, 6, 8, 4, \n    6, 6, 8, 7, 7, 8, 4, 6, 4, 6, 8, 6, 6, 7, 6, 8, 8, 2, 7, \n    4, 6, 6, 6, 2, 2, 7, 8, 7, 7, 2, 6, 7, 6, 6, 2, 6, 4, 2, \n    4, 8, 7, 8, 7, 2, 6, 2, 6, 4, 6, 2, 4, 6, 2, 6, 7, 6, 7, \n    7, 6, 6, 6, 2, 8, 7, 8, 2, 6, 7, 8, 2, 2, 4, 2, 6, 4, 2, \n    4, 7, 8, 6, 2, 6, 6, 2, 2, 2, 6, 8, 2, 6, 4, 6, 6, 7, 3, \n    4, 6, 2, 7, 4, 8, 2, 2, 2, 6, 2, 6, 2, 8, 7, 6, 6, 4, 2, \n    4, 8, 7, 3, 2, 4, 6, 2, 2, 6, 7, 7, 6, 6, 6, 4, 6, 6, 2, \n    7, 2, 2, 4, 2, 7, 6, 7, 2, 2, 8, 4, 7, 4, 4, 6, 4, 7, 2, \n    2, 7, 6, 4, 2, 2, 4, 4, 8, 6, 8, 1, 6, 6, 4, 8, 2, 8, 7, \n    2, 7, 6, 2, 3, 7, 2, 2, 4, 8, 6, 6, 8, 7, 7, 6, 6, 4, 2, \n    7, 2, 2, 8, 2, 3, 6, 7, 2, 2, 4, 2, 6, 6, 6, 6, 2, 2, 2, \n    6, 4, 4, 6, 6, 7, 2, 6, 4, 4, 6, 2, 4, 3, 1, 8, 2, 7, 2, \n    6, 2, 8, 7, 2, 2, 4, 8, 7, 8, 8, 7, 1, 6, 6, 2, 6, 2, 5, \n    8, 2, 4, 6, 6, 6, 2, 8, 2, 4, 2, 2, 8, 2, 2, 4, 7, 7, 2, \n    6, 2, 2, 6, 7, 2, 6, 4, 6, 7, 2, 7, 8, 2, 8, 6, 2, 4, 6, \n    6, 4, 8, 7, 2, 7, 6, 8, 6, 1, 2, 7, 2, 2, 2, 4, 8, 8, 8, \n    7, 2, 6, 3, 7, 8, 4, 2, 8, 7, 6, 7, 6, 2, 2, 6, 6, 6, 6, \n    6, 4, 1, 3, 4, 2, 6, 2, 7, 7, 6, 7, 6, 3, 2, 7, 8, 2, 8, \n    6, 2, 8, 8, 8, 2, 8, 2, 8, 6, 2, 2, 2, 2, 7, 6, 2, 4, 4, \n    8, 2, 8, 6, 8, 7, 2, 7, 6, 6, 2, 8, 6, 6, 2, 6, 6, 7, 6, \n    2, 7, 6, 8, 6, 2, 7, 2, 8, 2, 8, 4, 7, 2, 6, 7, 6, 6, 6, \n    6, 2, 6, 7, 6, 7, 4, 2, 2, 6, 8, 2, 4, 2, 4, 2, 6, 6, 8, \n    6, 6, 4, 8, 6, 6, 4, 6, 8, 6, 8, 7, 8, 2, 8, 7, 2, 5, 6, \n    6, 6, 6, 7, 8, 6, 6, 7, 6, 6, 1, 7, 7, 2, 2, 7, 2, 4, 6, \n    6, 6, 3, 4, 2, 6, 6, 8, 2, 8, 7, 2, 8, 8, 8, 2, 6, 6, 7, \n    8, 7, 8, 4, 7, 7, 6, 7, 8, 8, 3, 2, 2, 8, 6, 7, 6, 2, 4, \n    7, 2, 7, 2, 7, 7, 6, 6, 8, 4, 5, 7, 6, 2, 6, 2, 2, 6, 2, \n    6, 2, 8, 2, 2, 6, 2, 2, 8, 6, 8, 7, 6, 2, 8, 6, 7, 8, 7, \n    2, 6, 6, 6, 2, 3, 8, 8, 2, 8, 6, 6, 2, 6, 2, 8, 8, 8, 6, \n    4, 1, 6, 6, 6, 8, 2, 4, 6, 1, 1, 8, 6, 8, 4, 2, 8, 7, 2, \n    6, 2, 6, 6, 6, 6, 2, 6, 8, 2, 7, 8, 2, 2, 2, 2, 2, 8, 6, \n    7, 8, 6, 2, 8, 6, 7, 6, 2, 6, 8, 2, 2, 8, 2, 6, 6, 6, 6, \n    6, 7, 7, 2, 2, 4\n\n*** WARNING: max output size exceeded, skipping output. ***\n\n4, 4, 4, 4, 4, 4, 4, 4, 4, 4, \n    4, 4, 4, 4, 4, 4, 4, 4, 4, 4, 4, 4, 4, 4, 4, 4, 4, 4, 4, \n    4, 4, 4, 4, 4, 4, 4, 4, 4, 4, 4, 4, 4, 3, 4, 4, 4, 4, 4, \n    4, 4, 4, 4, 4, 4, 4, 4, 4, 4, 4, 4, 4, 4, 4, 4, 4, 4, 4, \n    4, 4, 4, 4, 4, 4, 4, 4, 4, 4, 4, 4, 4, 4, 4, 4, 4, 4, 4, \n    4, 4, 4, 4, 4, 4, 4, 4, 3, 4, 4, 3, 4, 4, 4, 4, 4, 4, 4, \n    4, 4, 4, 4, 4, 4, 4, 4, 4, 4, 4, 4, 4, 4, 4, 4, 4, 4, 4, \n    4, 4, 4, 4, 3, 4, 4, 4, 4, 4, 4, 4, 4, 4, 4, 4, 4, 4, 4, \n    4, 4, 4, 4, 4, 4, 4, 4, 4, 4, 4, 4, 4, 4, 4, 4, 4, 4, 4, \n    4, 4, 4, 4, 4, 4, 4, 4, 4, 4, 4, 4, 4, 4, 4, 4, 4, 4, 4, \n    4, 4, 4, 4, 4, 4, 4, 4, 4, 4, 4, 4, 4, 4, 4, 4, 4, 4, 4, \n    4, 4, 4, 4, 4, 4, 4, 4, 4, 4, 4, 4, 4, 4, 4, 4, 4, 4, 4, \n    4, 4, 4, 4, 4, 4, 4, 4, 4, 4, 4, 4, 4, 4, 4, 4, 4, 4, 4, \n    4, 4, 4, 4, 4, 4, 4, 4, 4, 4, 4, 4, 4, 4, 4, 4, 4, 4, 4, \n    4, 4, 4, 4, 4, 4, 4, 4, 4, 4, 4, 4, 4, 4, 4, 4, 4, 4, 4, \n    4, 4, 4, 4, 4, 4, 4, 4, 4, 4, 4, 4, 4, 4, 4, 4, 4, 4, 4, \n    4, 4, 4, 4, 4, 4, 4, 4, 4, 4, 4, 4, 4, 4, 4, 3, 4, 4, 4, \n    4, 4, 4, 4, 4, 4, 4, 4, 4, 4, 4, 4, 4, 4, 4, 4, 4, 4, 4, \n    4, 4, 4, 4, 4, 4, 4, 4, 4, 4, 4, 4, 4, 4, 4, 4, 4, 4, 4, \n    4, 4, 4, 4, 4, 4, 4, 4, 4, 4, 4, 4, 4, 4, 4, 4, 3, 3, 4, \n    4, 4, 4, 4, 4, 4, 4, 4, 4, 4, 4, 4, 4, 4, 4, 4, 4, 4, 4, \n    4, 4, 4, 4, 4, 4, 4, 4, 4, 4, 4, 4, 4, 4, 4, 4, 4, 4, 4, \n    4, 4, 4, 4, 4, 4, 4, 4, 4, 4, 4, 4, 4, 4, 4, 4, 4, 4, 4, \n    4, 4, 4, 4, 4, 4, 4, 4, 4, 4, 4, 4, 4, 4, 4, 4, 4, 4, 4, \n    4, 4, 3, 3, 4, 4, 4, 4, 4, 4, 4, 4, 4, 4, 4, 4, 4, 4, 4, \n    4, 4, 4, 4, 4, 4, 4, 4, 4, 4, 4, 4, 4, 4, 4, 4, 4, 4, 4, \n    4, 4, 4, 4, 4, 4, 4, 4, 4, 4, 4, 4, 4, 4, 4, 4, 4, 4, 4, \n    4, 3, 4, 4, 4, 4, 4, 4, 4, 4, 4, 4, 4, 4, 4, 4, 4, 4, 4, \n    4, 4, 4, 4, 4, 4, 4, 4, 4, 4, 4, 4, 4, 4, 4, 4, 4, 4, 4, \n    4, 4, 4, 4, 4, 4, 4, 4, 4, 4, 4, 4, 4, 4, 4, 4, 4, 4, 4, \n    4, 4, 4, 4, 4, 4, 4, 4, 4, 4, 4, 4, 4, 4, 4, 4, 4, 4, 4, \n    4, 4, 4, 4, 4, 4, 4, 4, 4, 4, 4, 3, 4, 4, 4, 4, 4, 4, 4, \n    4, 4, 3, 4, 4, 4, 4, 4, 4, 4, 4, 4, 4, 4, 4, 4, 4, 4, 4, \n    4, 4, 4, 4, 4, 4, 4, 4, 4, 4, 4, 4, 4, 4, 4, 4, 4, 4, 4, \n    4, 4, 4, 4, 4, 4, 4, 4, 4, 4, 4, 4, 4, 4, 4, 4, 4, 4, 4, \n    4, 4, 4, 4, 4, 4, 4, 4, 4, 4, 4, 4, 4, 4, 4, 4, 4, 4, 4, \n    4, 4, 4, 4, 4, 4, 4, 4, 4, 4, 4, 4, 4, 4, 4, 4, 4, 4, 4, \n    4, 4, 4, 4, 4, 4, 4, 4, 4, 4, 4, 4, 4, 4, 4, 4, 4, 4, 4, \n    4, 4, 4, 4, 4, 4, 4, 4, 4, 4, 4, 4, 4, 4, 4, 4, 4, 4, 4, \n    4, 4, 4, 3, 4, 4, 4, 4, 4, 4, 4, 4, 4, 4, 4, 4, 4, 4, 4, \n    4, 4, 4, 4, 4, 4, 4, 4, 4, 4, 3, 4, 4, 4, 4, 4, 4, 4, 4, \n    4, 4, 4, 4, 4, 4, 4, 4, 4, 4, 4, 4, 4, 4, 4, 4, 4, 4, 4, \n    4, 4, 4, 4, 4, 4, 4, 4, 4, 4, 4, 4, 4, 4, 4, 4, 4, 4, 4, \n    4, 4, 4, 4, 3, 4, 4, 4, 4, 4, 4, 4, 4, 4, 4, 4, 4, 4, 4, \n    4, 4, 4, 4, 4, 4, 4, 4, 4, 4, 4, 4, 4, 4, 4, 4, 4, 4, 4, \n    4, 4, 4, 4, 4, 4, 4, 4, 4, 4, 4, 4, 4, 4, 4, 4, 4, 4, 4, \n    4, 4, 4, 4, 4, 4, 4, 4, 4, 4, 4, 4, 4, 4, 4, 4, 4, 4, 4, \n    4, 4, 4, 4, 4, 4, 4, 4, 4, 4, 4, 4, 4, 4, 4, 4, 4, 4, 4, \n    3, 4, 4, 4, 4, 4, 4, 4, 4, 4, 4, 4, 4, 2, 4, 4, 4, 4, 4, \n    4, 4, 4, 4, 3, 4, 4, 4, 4, 4, 4, 4, 3, 4, 4, 4, 4, 4, 4, \n    4, 4, 4, 4, 4, 4, 4, 4, 4, 4, 4, 4, 4, 4, 4, 3, 4, 4, 4, \n    4, 4, 4, 4, 4, 4, 4, 4, 3, 4, 4, 4, 4, 4, 4, 4, 4, 4, 4, \n    4, 4, 4, 4, 3, 4, 4, 4, 4, 4, 4, 4, 4, 4, 4, 4, 4, 4, 4, \n    4, 4, 4, 4, 4, 4, 4, 4, 4, 4, 4, 4, 4, 4, 4, 4, 4, 4, 4, \n    4, 4, 4, 4, 4, 4, 4, 4, 4, 4, 4, 4, 4, 4, 4, 4, 4, 4, 4, \n    4, 4, 4, 4, 4, 4, 4, 4, 4, 4, 4, 4, 4, 4, 4, 4, 4, 4, 4, \n    4, 4, 4, 4, 4, 4, 4, 4, 4, 4, 4, 4, 4, 4, 4, 4, 4, 4, 4, \n    4, 4, 4, 4, 4, 4, 4, 3, 4, 4, 4, 4, 4, 4, 4, 4, 4, 4, 4, \n    4, 4, 4, 4, 4, 4, 4, 4, 4, 4, 4, 4, 4, 4, 4, 4, 4, 4, 4, \n    4, 4, 4, 4, 4, 4, 4, 4, 4, 4, 4, 4, 4, 4, 4, 4, 4, 4, 4, \n    4, 4, 4, 4, 4, 4, 4, 4, 4, 4, 4, 4, 4, 4, 4, 4, 4, 4, 4, \n    4, 4, 4, 4, 4, 4, 4, 4, 4, 4, 4, 4, 4, 4, 4, 4, 4, 4, 4, \n    4, 4, 4, 4, 4, 4, 4, 4, 4, 4, 4, 4, 4, 4, 4, 4, 4, 4, 4, \n    4, 4, 4, 4, 4, 4, 4, 4, 4, 4, 4, 4, 4, 4, 4, 4, 4, 4, 4, \n    4, 4, 4, 4, 4, 4, 4, 4, 4, 4, 4, 4, 4, 4, 4, 4, 4, 4, 4, \n    4, 3, 4, 4, 4, 4, 4, 4, 4, 4, 4, 4, 4, 4, 4, 4, 4, 4, 4, \n    4, 4, 4, 4, 4, 4, 4, 4, 4, 4, 4, 4, 4, 4, 4, 4, 4, 4, 4, \n    4, 4, 4, 4, 4, 4, 4, 4, 4, 4, 4, 4, 4, 4, 4, 4, 4, 4, 4, \n    4, 4, 4, 4, 4, 4, 4, 4, 4, 4, 4, 4, 4, 4, 4, 4, 4, 4, 4, \n    4, 4, 4, 4, 4, 4, 4, 4, 4, 4, 4, 4, 4, 4, 4, 4, 4, 4, 4, \n    4, 4, 4, 4, 4, 4, 4, 4, 4, 4, 4, 4, 4, 3, 4, 4, 4, 4, 4, \n    4, 4, 4, 4, 3, 4, 4, 4, 4, 4, 4, 4, 4, 4, 4, 4, 4, 4, 4, \n    4, 4, 4, 4, 4, 4, 4, 4, 4, 4, 4, 4, 4, 4, 4, 4, 4, 4, 4, \n    4, 4, 4, 4, 4, 4, 4, 4, 4, 4, 4, 4, 4, 4, 4, 3, 4, 4, 4, \n    4, 4, 4, 4, 4, 4, 4, 4, 4, 4, 4, 4, 4, 4, 4, 4, 4, 4, 4, \n    4, 4, 4, 4, 4, 4, 4, 4, 4, 4, 4, 4, 4, 4, 4, 4, 4, 4, 4, \n    4, 4, 4, 4, 4, 4, 4, 4, 4, 4, 4, 4, 4, 4, 4, 4, 4, 4, 4, \n    4, 4, 4, 4, 4, 4, 4, 4, 4, 4, 4, 4, 4, 4, 4, 3, 4, 4, 4, \n    4, 4, 4, 4, 4, 4, 4, 4, 3, 4, 4, 4, 4, 4, 4, 4, 4, 4, 4, \n    4, 4, 4, 4, 4, 4, 4, 4, 4, 4, 4, 4, 4, 4, 4, 4, 4, 4, 4, \n    4, 4, 4, 4, 4, 3, 3, 3, 4, 4, 4, 4, 4, 4, 4, 4, 4, 3, 4, \n    4, 4, 4, 4, 4, 4, 4, 4, 4, 4, 4, 4, 4, 4, 4, 4, 4, 4, 4, \n    4, 4, 4, 4, 4, 4, 4, 4, 4, 4, 4, 4, 4, 4, 4, 4, 4, 4, 4, \n    4, 4, 4, 4, 4, 4, 4, 4, 4, 4, 4, 4, 4, 4, 4, 4, 4, 4, 2, \n    4, 4, 4, 4, 4, 4, 4, 4, 4, 4, 4, 4, 4, 4, 4, 4, 4, 4, 4, \n    4, 4, 4, 4, 4, 4, 4, 3, 4, 4, 4, 4, 4, 4, 4, 4, 4, 4, 4, \n    4, 4, 4, 3, 4, 4, 4, 4, 4, 4, 4, 4, 4, 4, 4, 4, 4, 4, 4, \n    4, 4, 4, 4, 4, 4, 4, 4, 4, 4, 4, 4, 4, 4, 4, 4, 4, 4, 4, \n    4, 4, 4, 4, 4, 4, 4, 4, 4, 4, 4, 4, 4, 4, 4, 4, 4, 4, 4, \n    4, 4, 4, 4, 4, 4, 4, 4, 4, 4, 4, 4, 4, 4, 4, 4, 4, 4, 4, \n    4, 4, 4, 4, 4, 4, 4, 4, 4, 4, 4, 4, 4, 4, 4, 4, 4, 4, 4, \n    3, 4, 4, 4, 4, 4, 4, 4, 4, 4, 4, 4, 4, 4, 4, 4, 4, 4, 4, \n    4, 4, 4, 4, 4, 4, 4, 4, 4, 4, 4, 4, 4, 4, 4, 4, 4, 4, 4, \n    4, 4, 4, 4, 4, 4, 4, 3, 4, 4, 4, 4, 4, 4, 4, 4, 4, 4, 4, \n    4, 4, 4, 4, 4, 4, 4, 4, 4, 4, 4, 4, 4, 4, 4, 4, 4, 4, 4, \n    4, 4, 4, 4, 4, 4, 4, 4, 4, 4, 4, 4, 4, 4, 4, 4, 4, 4, 4, \n    4, 4, 4, 4, 4, 4, 4, 4, 4, 4, 4, 4, 4, 4, 4, 4, 4, 4, 4, \n    4, 4, 4, 4, 4, 4, 4, 4, 4, 4, 4, 4, 4, 4, 4, 4, 4, 4, 4, \n    4, 4, 4, 4, 4, 4, 4, 4, 4, 4, 4, 4, 4, 4, 4, 4, 4, 4, 4, \n    4, 4, 4, 4, 4, 4, 4, 4, 4, 4, 4, 4, 4, 4, 4, 4, 4, 4, 4, \n    4, 4, 4, 4, 4, 4, 4, 4, 4, 4, 4, 4, 4, 4, 4, 4, 4, 4, 4, \n    4, 4, 4, 4, 4, 4, 4, 4, 4, 4, 4, 4, 4, 4, 4, 4, 4, 4, 4, \n    4, 4, 4, 3, 4, 4, 4, 4, 4, 4, 4, 4, 4, 4, 4, 4, 4, 4, 4, \n    4, 4, 4, 4, 4, 4, 4, 4, 4, 4, 4, 4, 4, 4, 4, 4, 4, 4, 4, \n    4, 4, 4, 4, 4, 4, 4, 4, 4, 4, 4, 4, 4, 4, 4, 4, 4, 4, 4, \n    4, 4, 4, 4, 4, 4, 4, 4, 4, 4, 4, 4, 4, 4, 4, 4, 4, 4, 2, \n    4, 4, 4, 4, 4, 4, 4, 4, 4, 4, 4, 4, 4, 4, 4, 4, 4, 4, 4, \n    4, 4, 4, 4, 4, 4, 4, 4, 4, 4, 4, 4, 4, 4, 4, 3, 4, 4, 4, \n    4, 4, 4, 4, 4, 4, 4, 4, 4, 4, 4, 4, 4, 4, 4, 4, 4, 4, 4, \n    4, 4, 4, 4, 4, 4, 4, 4, 4, 4, 4, 4, 4, 4, 4, 4, 4, 4, 4, \n    4, 4, 4, 4, 4, 4, 4, 4, 4, 4, 4, 4, 4, 4, 4, 4, 4, 4, 4, \n    4, 4, 4, 4, 4, 4, 4, 4, 4, 4, 4, 4, 4, 4, 4, 4, 4, 4, 4, \n    4, 4, 4, 4, 4, 4, 4, 4, 4, 4, 4, 4, 4, 4, 4, 4, 4, 4, 4, \n    4, 4, 4, 4, 4, 4, 4, 4, 4, 4, 4, 4, 4, 4, 4, 4, 4, 4, 4, \n    4, 4, 3, 4, 4, 4, 4, 4, 4, 4, 4, 4, 4, 4, 4, 4, 4, 4, 4, \n    4, 4, 4, 4, 4, 4, 4, 4, 4, 4, 4, 4, 4, 4, 4, 4, 4, 4, 4, \n    4, 4, 4, 4, 4, 4, 4, 4, 4, 4, 4, 4, 4, 4, 4, 4, 4, 4, 4, \n    4, 4, 4, 4, 4, 4, 4, 4, 4, 4, 4, 4, 4, 4, 4, 4, 4, 4, 4, \n    4, 4, 4, 4, 4, 4, 4, 4, 4, 4, 4, 4, 4, 4, 2, 4, 4, 4, 4, \n    4, 4, 4, 4, 4, 4, 3, 4, 4, 4, 4, 4, 4, 4, 4, 4, 4, 4, 4, \n    4, 4, 4, 4, 4, 4, 4, 4, 4, 4, 4, 4, 4, 4, 4, 4, 4, 4, 4, \n    4, 4, 4, 4, 4, 4, 4, 4, 4, 4, 4, 4, 4, 4, 4, 4, 4, 4, 4, \n    4, 3, 4, 4, 4, 4, 4, 4, 4, 4, 4, 3, 4, 3, 4, 4, 4, 4, 4, \n    4, 4, 4, 4, 4, 4, 4, 4, 4, 4, 4, 4, 4, 4, 4, 4, 4, 4, 4, \n    4, 4, 4, 4, 4, 4, 4, 4, 4, 4, 4, 4, 4, 4, 4, 4, 4, 4, 4, \n    4, 4, 4, 4, 4, 4, 4, 4, 4, 4, 4, 4, 4, 4, 4, 4, 4, 4, 4, \n    4, 4, 4, 4, 4, 4, 4, 4, 4, 4, 4, 4, 4, 4, 4, 4, 4, 4, 4, \n    4, 4, 4, 4, 4, 4, 4, 4, 4, 4, 4, 4, 4, 4, 4, 4, 4, 4, 4, \n    4, 4, 4, 4, 4, 4, 4, 4, 4, 4, 4, 4, 4, 4, 4, 4, 4, 4, 4, \n    4, 4, 4, 4, 4, 4, 4, 4, 4, 4, 4, 4, 4, 4, 4, 4, 4, 4, 4, \n    4, 4, 4, 4, 4, 4, 4, 4, 4, 4, 4, 4, 4, 4, 4, 4, 4, 4, 4, \n    4, 4, 4, 4, 4, 4, 3, 4, 4, 4, 4, 4, 4, 4, 4, 4, 4, 4, 4, \n    4, 4, 4, 4, 4, 4, 4, 4, 4, 4, 4, 4, 4, 4, 4, 4, 4, 4, 4, \n    4, 4, 4, 4, 3, 4, 4, 4, 4, 4, 4, 4, 4, 4, 4, 4, 4, 4, 4, \n    4, 4, 4, 4, 4, 4, 4, 4, 4, 4, 4, 4, 4, 4, 4, 4, 4, 4, 4, \n    4, 4, 4, 4, 4, 4, 4, 4, 4, 4, 4, 4, 4, 4, 4, 4, 4, 4, 4, \n    4, 4, 4, 4, 4, 4, 4, 4, 4, 4, 4, 4, 4, 4, 4, 4, 4, 4, 4, \n    4, 4, 4, 4, 4, 4, 4, 4, 4, 4, 4, 4, 4, 4, 4, 4, 4, 4, 4, \n    4, 4, 4, 4, 4, 4, 4, 4, 4, 4, 4, 4, 4, 4, 4, 4, 4, 4, 4, \n    4, 4, 4, 4, 4, 4, 4, 4, 4, 4, 4, 4, 4, 4, 4, 4, 4, 4, 4, \n    4, 4, 4, 4, 4, 4, 4, 3, 4, 4, 4, 4, 4, 4, 4, 4, 4, 4, 4, \n    4, 4, 4, 4, 4, 3, 4, 4, 4, 4, 4, 4, 4, 4, 4, 4, 4, 4, 4, \n    4, 4, 4, 4, 4, 4, 4, 4, 4, 4, 4, 4, 4, 4, 4, 4, 4, 4, 4, \n    4, 4, 4, 4, 4, 4, 3, 4, 4, 4, 4, 4, 4, 4, 4, 4, 4, 4, 4, \n    4, 4, 4, 3, 4, 4, 4, 4, 4, 4, 4, 4, 4, 4, 4, 4, 4, 4, 4, \n    4, 4, 4, 4, 4, 4, 4, 4, 4, 4, 4, 4, 4, 4, 4, 4, 4, 4, 4, \n    4, 4, 4, 4, 4, 4, 3, 4, 4, 4, 4, 4, 4, 4, 4, 4, 4, 4, 4, \n    4, 4, 4, 4, 4, 4, 4, 4, 4, 4, 4, 4, 4, 4, 4, 4, 4, 4, 4, \n    4, 4, 4, 4, 4, 4, 4, 4, 3, 4, 4, 4, 4, 4, 3, 4, 4, 4, 4, \n    4, 4, 4, 4, 4, 4, 4, 4, 4, 4, 4, 4, 4, 4, 4, 4, 4, 3, 4, \n    4, 4, 4, 4, 4, 4, 4, 4, 4, 4, 4, 4, 4, 4, 4, 4, 4, 4, 4, \n    4, 4, 4, 4, 4, 4, 4, 4, 4, 4, 4, 4, 4, 4, 4, 4, 4, 4, 4, \n    4, 4, 4, 4, 4, 4, 4, 4, 4, 4, 4, 4, 4, 4, 4, 4, 4, 4, 4, \n    4, 4, 4, 4, 4, 4, 4, 4, 4, 4, 4, 4, 4, 4, 4, 4, 4, 4, 4, \n    3, 4, 4, 4, 4, 4, 4, 4, 4, 4, 4, 4, 4, 4, 4, 4, 4, 4, 4, \n    3, 4, 4, 4, 4, 4, 4, 4, 4, 4, 4, 4, 4, 4, 4, 4, 4, 4, 4, \n    4, 4, 4, 4, 4, 4, 4, 4, 4, 4, 4, 4, 4, 4, 4, 4, 4, 4, 4, \n    4, 4, 3, 4, 4, 4, 4, 4, 4, 4, 4, 4, 4, 4, 4, 4, 4, 4, 4, \n    4, 4, 4, 4, 4, 4, 4, 4, 4, 4, 4, 4, 4, 4, 4, 4, 4, 4, 4, \n    4, 4, 4, 4, 4, 4, 4, 4, 4, 4, 4, 4, 4, 4, 4, 4, 4, 4, 4, \n    4, 4, 4, 4, 4, 4, 4, 4, 4, 4, 4, 3, 4, 3, 4, 4, 4, 4, 4, \n    4, 4, 4, 4, 4, 4, 4, 4, 4, 4, 4, 4, 4, 4, 4, 4, 4, 3, 4, \n    4, 4, 4, 4, 4, 4, 4, 4, 4, 4, 4, 4, 4, 4, 4, 3, 4, 4, 4, \n    4, 4, 4, 4, 4, 4, 4, 4, 4, 4, 4, 4, 4, 4, 4, 4, 4, 4, 4, \n    4, 4, 4, 4, 4, 4, 4, 4, 4, 4, 4, 3, 4, 4, 4, 4, 4, 4, 4, \n    3, 4, 4, 4, 4, 4, 4, 4, 4, 4, 4, 4, 4, 4, 4, 4, 4, 4, 4, \n    4, 4, 4, 4, 4, 4, 4, 4, 4, 4, 4, 4, 4, 4, 4, 4, 4, 4, 4, \n    4, 4, 4, 4, 4, 4, 4, 4, 4, 4, 4, 4, 4, 4, 4, 4, 4, 4, 4, \n    4, 4, 4, 4, 4, 4, 4, 4, 4, 4, 4, 4, 3, 4, 4, 4, 4, 4, 4, \n    4, 4, 3, 4, 4, 4, 4, 4, 4, 4, 4, 4, 4, 4, 4, 4, 4, 4, 4, \n    4, 4, 4, 4, 4, 4, 4, 4, 4, 4, 4, 4, 4, 4, 4, 4, 4, 4, 4, \n    4, 4, 4, 4, 4, 4, 4, 4, 4, 4, 4, 4, 4, 4, 4, 4, 4, 4, 4, \n    4, 4, 4, 4, 4, 4, 4, 4, 3, 4, 4, 4, 4, 4, 4, 4, 4, 4, 4, \n    4, 4, 4, 4, 4, 4, 4, 4, 4, 4, 4, 4, 4, 4, 4, 4, 4, 4, 4, \n    4, 4, 4, 4, 4, 4, 4, 4, 4, 4, 4, 4, 4, 4, 4, 4, 4, 4, 4, \n    4, 4, 4, 4, 4, 4, 4, 4, 4, 4, 4, 4, 4, 4, 4, 4, 4, 4, 4, \n    4, 4, 3, 4, 4, 4, 4, 4, 4, 4, 4, 4, 4, 4, 4, 4, 4, 4, 4, \n    4, 4, 4, 4, 4, 4, 4, 4, 4, 4, 4, 4, 4, 4, 4, 4, 4, 4, 4, \n    4, 4, 4, 4, 4, 4, 4, 4, 4, 4, 4, 4, 4, 4, 4, 4, 4, 4, 4, \n    4, 4, 4, 3, 4, 4, 4, 4, 4, 2, 4, 4, 4, 4, 4, 4, 4, 4, 4, \n    4, 4, 3, 4, 4, 4, 4, 4, 3, 4, 4, 4, 4, 4, 4, 4, 4, 4, 4, \n    4, 4, 4, 4, 4, 4, 4, 4, 4, 4, 4, 4, 4, 4, 4, 4, 4, 4, 4, \n    4, 4, 4, 4, 4, 4, 4, 4, 4, 4, 4, 4, 4, 4, 4, 4, 4, 4, 4, \n    4, 4, 4, 4, 4, 4, 4, 4, 4, 4, 4, 4, 4, 4, 4, 4, 4, 4, 4, \n    4, 4, 3, 4, 4, 4, 4, 4, 4, 4, 4, 4, 4, 4, 4, 4, 4, 4, 4, \n    4, 4, 4, 4, 4, 4, 4, 4, 4, 4, 4, 4, 4, 4, 4, 4, 4, 4, 4, \n    3, 4, 4, 4, 4, 4, 4, 4, 4, 4, 4, 4, 4, 4, 4, 4, 4, 4, 4, \n    4, 4, 4, 4, 4, 4, 4, 4, 4, 4, 4, 3, 4, 4, 4, 4, 4, 4, 4, \n    4, 4, 4, 4, 4, 4, 4, 4, 4, 4, 4, 4, 4, 4, 4, 4, 4, 4, 4, \n    4, 4, 4, 4, 4, 4, 4, 4, 4, 4, 4, 4, 4, 4, 4, 4, 4, 4, 4, \n    4, 4, 4, 4, 4, 4, 4, 4, 4, 4, 4, 4, 4, 4, 4, 4, 4, 4, 4, \n    4, 4, 4, 4, 4, 4, 4, 4, 4, 4, 4, 4, 4, 4, 4, 4, 4, 4, 4, \n    4, 4, 4, 4, 4, 4, 4, 4, 4, 4, 4, 4, 4, 4, 4, 4, 4, 3, 4, \n    4, 4, 4, 4, 4, 4, 4, 4, 4, 4, 4, 4, 4, 4, 4, 4, 4, 4, 4, \n    4, 4, 4, 4, 4, 4, 4, 4, 4, 4, 4, 4, 4, 4, 4, 4, 4, 4, 4, \n    4, 4, 4, 4, 4, 4, 4, 4, 4, 4, 4, 4, 4, 4, 4, 4, 4, 4, 4, \n    4, 4, 4, 4, 4, 4, 4, 4, 4, 4, 4, 4, 4, 4, 4, 4, 4, 4, 4, \n    4, 4, 4, 4, 4, 4, 4, 4, 4, 4, 4, 4, 4, 4, 4, 4, 4, 4, 4, \n    4, 4, 4, 4, 4, 4, 4, 4, 4, 4, 4, 4, 4, 4, 4, 4, 4, 4, 4, \n    4, 4, 4, 4, 4, 4, 4, 4, 4, 4, 4, 4, 4, 4, 4, 4, 4, 4, 4, \n    4, 4, 4, 4, 4, 4, 4, 4, 4, 4, 4, 4, 4, 4, 4, 4, 4, 4, 4, \n    4, 4, 4, 4, 4, 4, 4, 4, 4, 4, 4, 4, 4, 4, 4, 4, 4, 4, 4, \n    4, 4, 4, 4, 4, 4, 4, 4, 4, 4, 4, 4, 4, 4, 4, 4, 4, 4, 4, \n    4, 4, 4, 4, 4, 4, 4, 4, 4, 4, 4, 4, 4, 3, 4, 4, 4, 4, 4, \n    4, 4, 4, 4, 4, 4, 4, 4, 4, 4, 4, 4, 4, 4, 4, 4, 4, 4, 4, \n    4, 4, 4, 4, 4, 4, 4, 4, 4, 4, 4, 4, 4, 4, 4, 4, 4, 4, 4, \n    4, 4, 4, 4, 4, 4, 4, 4, 4, 4, 4, 4, 4, 4, 4, 4, 4, 4, 4, \n    4, 4, 4, 4, 4, 4, 4, 4, 4, 4, 4, 4, 4, 4, 4, 4, 4, 4, 4, \n    4, 4, 4, 4, 4, 3, 4, 4, 4, 4, 4, 4, 4, 4, 4, 4, 4, 4, 4, \n    4, 4, 4, 3, 4, 4, 4, 4, 4, 4, 4, 4, 4, 4, 4, 4, 4, 4, 4, \n    4, 4, 4, 4, 4, 4, 4, 4, 4, 4, 4, 4, 4, 4, 4, 4, 4, 4, 4, \n    4, 4, 4, 4, 4, 4, 4, 4, 4, 4, 4, 4, 4, 4, 4, 4, 4, 4, 4, \n    4, 4, 4, 4, 4, 4, 4, 4, 4, 4, 4, 4, 4, 4, 4, 4, 4, 4, 4, \n    4, 4, 4, 4, 4, 4, 2, 4, 4, 4, 4, 4, 4, 4, 4, 4, 3, 4, 4, \n    4, 4, 4, 4, 4, 4, 4, 4, 4, 4, 4, 4, 4, 4, 4, 4, 4, 4, 4, \n    4, 4, 4, 4, 4, 4, 4, 4, 4, 4, 4, 4, 4, 4, 4, 4, 4, 4, 4, \n    4, 4, 4, 4, 4, 4, 4, 4, 4, 4, 4, 4, 4, 4, 4, 4, 4, 4, 4, \n    4, 4, 4, 4, 4, 4, 4, 4, 4, 4, 4, 4, 4, 4, 4, 4, 4, 3, 4, \n    4, 4, 4, 4, 4, 4, 4, 4, 4, 4, 4, 4, 4, 4, 4, 4, 4, 4, 4, \n    4, 4, 4, 4, 4, 4, 4, 4, 4, 4, 4, 4, 4, 4, 4, 2, 4, 4, 4, \n    4, 4, 4, 3, 4, 4, 4, 4, 4, 4, 4, 4, 4, 4, 4, 4, 4, 4, 4, \n    4, 4, 4, 4, 4, 4, 4, 4, 4, 4, 4, 4, 4, 4, 4, 4, 4, 4, 4, \n    4, 4, 3, 4, 4, 4, 4, 4, 4, 4, 4, 4, 4, 4, 4, 4, 4, 4, 4, \n    4, 4, 4, 4, 4, 4, 4, 4, 4, 4, 4, 4, 4, 4, 4, 4, 4, 4, 4, \n    4, 4, 4, 4, 4, 4, 4, 1, 4, 4, 4, 4, 4, 4, 4, 4, 4, 4, 4, \n    4, 4, 4, 4, 4, 3, 4, 4, 4, 4, 4, 4, 3, 4, 4, 4, 4, 4, 4, \n    4, 4, 3, 4, 4, 4, 4, 4, 4, 4, 4, 3, 4, 4, 4, 4, 4, 4, 4, \n    4, 4, 4, 4, 4, 4, 4, 4, 4, 4, 4, 4, 4, 4, 4, 4, 4, 4, 4, \n    4, 4, 4, 4, 4, 4, 4, 4, 4, 4, 4, 4, 4, 4, 4, 4, 4, 4, 4, \n    4, 4, 4, 4, 4, 4, 4, 4, 4, 4, 4, 4, 4, 4, 4, 4, 4, 4, 4, \n    4, 4, 4, 4, 4, 4, 4, 4, 4, 4, 4, 4, 4, 4, 4, 4, 4, 4, 4, \n    4, 4, 4, 4, 4, 4, 4, 4, 4, 4, 4, 4, 4, 4, 4, 4, 4, 4, 4, \n    4, 4, 4, 4, 4, 4, 4, 4, 4, 2, 3, 4, 4, 4, 4, 4, 4, 4, 4, \n    4, 4, 4, 4, 4, 4, 4, 4, 4, 4, 4, 4, 4, 4, 4, 4, 4, 4, 4, \n    4, 4, 4, 4, 4, 4, 4, 4, 4, 4, 4, 4, 4, 4, 4, 4, 4, 3, 4, \n    4, 4, 4, 3, 4, 4, 3, 4, 4, 4, 4, 4, 4, 4, 4, 4, 4, 4, 4, \n    4, 4, 4, 4, 4, 4, 4, 4, 4, 4, 4, 4, 4, 3, 4, 4, 4, 4, 4, \n    4, 4, 4, 4, 4, 4, 4, 4, 4, 3, 4, 4, 4, 4, 4, 4, 4, 4, 4, \n    4, 4, 4, 4, 4, 4, 4, 4, 4, 4, 4, 4, 4, 4, 4, 4, 4, 4, 4, \n    4, 4, 2, 4, 4, 4, 4, 4, 4, 4, 4, 4, 4, 4, 4, 4, 4, 4, 4, \n    4, 4, 4, 4, 4, 4, 4, 4, 4, 4, 4, 4, 4, 4, 3, 4, 4, 4, 4, \n    4, 4, 4, 4, 4, 4, 4, 4, 4, 4, 4, 4, 4, 4, 4, 4, 4, 4, 4, \n    4, 4, 4, 4, 4, 4, 4, 4, 4, 4, 4, 4, 4, 4, 4, 4, 4, 4, 4, \n    4, 4, 4, 4, 4, 4, 4, 4, 4, 4, 4, 4, 4, 4, 4, 4, 4, 4, 4, \n    3, 4, 4, 4, 4, 4, 4, 4, 3, 4, 4, 4, 4, 4, 4, 4, 4, 4, 3, \n    4, 4, 4, 4, 4, 4, 4, 4, 4, 4, 4, 3, 4, 4, 4, 4, 4, 4, 4, \n    4, 4, 4, 4, 4, 4, 3, 4, 4, 4, 4, 4, 4, 4, 4, 4, 4, 4, 4, \n    4, 4, 4, 4, 4, 4, 4, 4, 4, 4, 4, 4, 4, 4, 4, 4, 4, 2, 4, \n    4, 4, 4, 4, 4, 4, 4, 4, 4, 4, 4, 4, 4, 4, 4, 4, 4, 4, 4, \n    4, 4, 4, 4, 4, 4, 4, 4, 4, 4, 4, 4, 4, 4, 4, 4, 4, 4, 4, \n    4, 4, 3, 4, 4, 4, 4, 4, 4, 4, 4, 4, 4, 4, 4, 4, 4, 4, 4, \n    4, 4, 4, 4, 4, 4, 3, 4, 4, 4, 4, 4, 4, 4, 4, 4, 4, 4, 4, \n    4, 4, 4, 4, 4, 4, 3, 4, 4, 4, 4, 4, 4, 3, 4, 4, 3, 4, 4, \n    4, 4, 4, 4, 4, 4, 4, 4, 4, 4, 4, 4, 4, 4, 4, 4, 4, 4, 4, \n    4, 4, 4, 4, 4, 4, 4, 4, 4, 4, 4, 4, 4, 4, 4, 4, 4, 4, 4, \n    3, 4, 4, 4, 4, 3, 4, 4, 4, 4, 4, 4, 4, 4, 4, 4, 4, 4, 4, \n    4, 4, 4, 4, 4, 4, 4, 4, 4, 4, 4, 4, 4, 4, 4, 3, 4, 4, 4, \n    4, 4, 4, 4, 4, 4, 4, 4, 4, 4, 4, 4, 4, 4, 4, 4, 4, 4, 4, \n    4, 4, 4, 4, 4, 4, 4, 4, 4, 4, 4, 3, 4, 4, 4, 4, 4, 4, 4, \n    4, 4, 4, 4, 3, 4, 4, 4, 4, 4, 3, 4, 4, 4, 4, 4, 4, 4, 4, \n    4, 4, 4, 4, 4, 4, 4, 4, 3, 4, 4, 4, 4, 4, 4, 4, 4, 4, 4, \n    4, 4, 3, 4, 4, 4, 4, 4, 4, 4, 4, 4, 4, 4, 4, 3, 4, 4, 3, \n    4, 4, 4, 4, 4, 4, 4, 4, 4, 4, 4, 4, 4, 4, 4, 4, 4, 4, 4, \n    4, 4, 4, 4, 4, 4, 4, 4, 4, 4, 4, 4, 4, 4, 4, 4, 4, 4, 4, \n    4, 4, 4, 4, 4, 3, 4, 4, 4, 4, 3, 4, 4, 4, 4, 4, 4, 4, 4, \n    4, 4, 4, 4, 4, 4, 4, 4, 4, 4, 4, 4, 4, 4, 4, 4, 4, 4, 4, \n    4, 4, 4, 4, 4, 4, 4, 3, 4, 4, 4, 4, 4, 4, 4, 4, 4, 4, 4, \n    4, 4, 4, 4, 4, 4, 4, 4, 4, 4, 4, 4, 4, 4, 3, 2, 4, 4, 4, \n    4, 4, 4, 4, 4, 4, 4, 4, 4, 4, 4, 4, 4, 4, 4, 4, 4, 4, 4, \n    4, 4, 3, 4, 4, 4, 4, 4, 4, 4, 4, 4, 4, 4, 4, 4, 4, 4, 4, \n    4, 4, 4, 4, 4, 4, 4, 4, 4, 4, 4, 4, 4, 4, 3, 4, 4, 4, 4, \n    4, 4, 4, 4, 4, 4, 4, 4, 4, 4, 4, 4, 4, 4, 4, 4, 4, 4, 4, \n    4, 4, 4, 4, 4, 4, 4, 4, 4, 4, 4, 4, 4, 4, 4, 4, 4, 4, 4, \n    4, 4, 4, 3, 4, 4, 4, 4, 4, 4, 4, 4, 4, 4, 4, 4, 4, 4, 4, \n    4, 4, 4, 4, 4, 4, 4, 4, 4, 4, 4, 4, 4, 4, 4, 4, 4, 4, 4, \n    4, 4, 4, 4, 4, 4, 4, 4, 4, 4, 4, 4, 4, 4, 4, 4, 4, 4, 4, \n    4, 4, 4, 4, 4, 4, 4, 4, 4, 4, 4, 4, 4, 4, 3, 4, 4, 4, 4, \n    4, 4, 4, 4, 4, 4, 4, 4, 4, 4, 4, 4, 4, 4, 4, 4, 4, 4, 4, \n    4, 4, 4, 4, 4, 4, 4, 4, 4, 4, 4, 4, 4, 4, 4, 4, 4, 4, 4, \n    4, 4, 4, 4, 4, 4, 4, 4, 4, 4, 4, 4, 4, 4, 4, 4, 4, 4, 4, \n    4, 4, 4, 4, 4, 4, 4, 4, 4, 4, 4, 4, 3, 4, 4, 4, 4, 4, 4, \n    4, 4, 4, 4, 4, 4, 4, 4, 4, 4, 4, 4, 4, 4, 4, 4, 4, 4, 4, \n    4, 4, 4, 4, 4, 4, 4, 4, 4, 4, 4, 4, 4, 4, 4, 4, 4, 4, 4, \n    4, 4, 4, 4, 4, 4, 4, 4, 4, 4, 4, 4, 4, 4, 4, 4, 4, 4, 4, \n    3, 4, 4, 4, 4, 4, 4, 4, 4, 4, 3, 4, 4, 4, 4, 4, 4, 4, 4, \n    4, 4, 4, 4, 4, 4, 4, 4, 4, 4, 4, 4, 4, 4, 4, 4, 4, 4, 4, \n    4, 4, 4, 4, 4, 4, 4, 4, 4, 4, 4, 4, 4, 4, 4, 4, 4, 4, 4, \n    4, 4, 4, 4, 4, 4, 4, 4, 4, 4, 4, 4, 4, 4, 4, 4, 4, 4, 4, \n    4, 4, 4, 4, 4, 4, 4, 4, 4, 4, 4, 4, 4, 4, 4, 4, 4, 4, 4, \n    4, 4, 4, 4, 4, 4, 4, 4, 4, 4, 4, 4, 4, 4, 4, 4, 4, 4, 4, \n    4, 4, 4, 4, 4, 4, 4, 4, 4, 4, 4, 4, 4, 4, 4, 4, 4, 4, 4, \n    4, 4, 4, 4, 4, 4, 4, 4, 4, 4, 4, 4, 4, 4, 4, 4, 4, 4, 4, \n    4, 4, 4, 4, 4, 4, 4, 4, 4, 4, 4, 4, 4, 4, 4, 4, 4, 4, 4, \n    4, 4, 4, 4, 4, 4, 4, 4, 4, 4, 4, 4, 4, 3, 4, 4, 4, 4, 4, \n    4, 4, 4, 4, 4, 4, 4, 4, 4, 4, 4, 4, 4, 4, 4, 4, 4, 4, 4, \n    4, 4, 4, 4, 4, 4, 4, 4, 4, 4, 4, 4, 4, 4, 4, 4, 4, 4, 4, \n    4, 4, 4, 4, 4, 4, 4, 4, 4, 4, 4, 4, 4, 4, 4, 4, 4, 4, 4, \n    4, 4, 4, 4, 4, 4, 4, 4, 4, 4, 4, 4, 4, 4, 4, 4, 4, 4, 4, \n    4, 4, 4, 4, 4, 4, 4, 4, 4, 4, 4, 4, 4, 4, 4, 4, 4, 4, 4, \n    4, 4, 4, 4, 4, 4, 4, 4, 4, 4, 4, 4, 4, 4, 4, 4, 4, 4, 4, \n    4, 4, 4, 4, 3, 4, 4, 4, 4, 4, 4, 4, 4, 4, 4, 4, 4, 4, 4, \n    4, 4, 4, 4, 4, 4, 4, 4, 4, 4, 4, 4, 4, 4, 4, 4, 4, 4, 4, \n    4, 4, 4, 4, 4, 4, 4, 4, 4, 4, 4, 4, 4, 4, 4, 4, 4, 4, 4, \n    4, 4, 4, 4, 4, 4, 4, 4, 4, 4, 4, 4, 4, 4, 4, 4, 4, 4, 4, \n    4, 4, 4, 4, 4, 4, 4, 4, 4, 4, 4, 4, 4, 4, 4, 3, 4, 4, 4, \n    4, 4, 4, 4, 4, 4, 4, 4, 4, 4, 4, 4, 4, 4, 4, 4, 4, 4, 4, \n    4, 4, 4, 4, 4, 4, 4, 4, 4, 4, 4, 4, 4, 4, 4, 4, 4, 4, 4, \n    4, 4, 4, 4, 4, 4, 4, 4, 4, 4, 4, 4, 4, 4, 4, 4, 4, 4, 4, \n    4, 4, 4, 4, 4, 4, 4, 4, 4, 4, 4, 4, 4, 4, 4, 4, 4, 4, 4, \n    4, 4, 4, 4, 4, 4, 4, 4, 4, 4, 4, 4, 4, 4, 4, 4, 4, 4, 4, \n    4, 4, 4, 4, 4, 4, 4, 4, 4, 4, 4, 4, 4, 4, 4, 4, 4, 4, 4, \n    4, 4, 4, 4, 4, 4, 4, 4, 4, 4, 4, 4, 3, 4, 4, 4, 3, 4, 4, \n    4, 4, 4, 4, 4, 4, 4, 4, 4, 4, 4, 4, 4, 4, 4, 4, 4, 4, 4, \n    4, 4, 4, 4, 4, 3, 4, 4, 4, 4, 4, 4, 4, 4, 4, 4, 4, 4, 4, \n    4, 4, 4, 4, 4, 4, 4, 4, 4, 4, 4, 4, 4, 4, 3, 4, 4, 4, 4, \n    4, 4, 4, 4, 4, 4, 4, 4, 4, 4, 4, 4, 4, 4, 4, 4, 4, 4, 4, \n    4, 4, 4, 4, 4, 4, 4, 4, 4, 4, 4, 4, 4, 4, 3, 4, 4, 3, 4, \n    4, 4, 4, 4, 4, 4, 4, 4, 4, 4, 4, 4, 4, 4, 4, 4, 4, 4, 4, \n    4, 4, 4, 4, 4, 4, 4, 4, 4, 4, 4, 4, 4, 3, 4, 4, 4, 4, 4, \n    4, 4, 4, 4, 4, 4, 4, 4, 4, 4, 4, 4, 4, 4, 4, 4, 4, 4, 4, \n    4, 4, 4, 4, 4, 4, 4, 4, 4, 4, 4, 4, 4, 4, 4, 4, 4, 4, 4, \n    4, 4, 4, 4, 4, 4, 4, 4, 4, 3, 4, 4, 4, 4, 4, 4, 4, 4, 4, \n    4, 4, 4, 4, 4, 4, 4, 4, 4, 4, 4, 4, 4, 4, 3, 4, 4, 4, 4, \n    4, 4, 4, 3, 4, 4, 4, 4, 4, 4, 4, 4, 4, 4, 4, 4, 4, 4, 4, \n    4, 4)))\n\nCoefficients:\n            (Intercept)       Gmale    year2019    year2020    year2021\nall           0.5070431 -0.05898347 -0.29731468 -0.29241995 -0.45357435\ninter        -3.3192540 -0.01050475 -0.29162429 -0.02406096 -0.12727306\nlocal        -3.9443561  0.02845684 -0.17209470 -0.33664987 -0.76455167\nlocal:inter  -3.7677392 -0.22858705 -0.71296530 -0.84655925 -0.84726130\nlocal:nat    -3.5037847 -0.03164695 -0.40160500 -0.36733730 -0.62103202\nnat:inter    -3.3618026  0.07795173 -0.04096569  0.03014243 -0.06330102\nnational      1.2826285  0.06602673 -0.17847568 -0.21991505 -0.36164562\n               year2022 Field_EnglishClinical Medicine\nall         -0.67682724                     -0.7425455\ninter       -0.29772844                     -0.8045181\nlocal        0.06364843                     -0.2411733\nlocal:inter -1.11751083                     -0.4182803\nlocal:nat   -0.49492030                     -0.3203901\nnat:inter   -0.53639365                     -0.9234107\nnational    -0.50040871                     -0.8985473\n            Field_EnglishPsychology & Cognitive Sciences\nall                                           0.45394322\ninter                                         0.57862017\nlocal                                         0.06447281\nlocal:inter                                   1.09533030\nlocal:nat                                     0.32762790\nnat:inter                                     0.61309898\nnational                                      0.11094139\n            Field_EnglishPublic Health & Health Services          q1         q2\nall                                           -0.2774167 -2.35971418 -2.8258633\ninter                                         -0.6747084  1.89590463 -0.1996860\nlocal                                          0.4551121  1.04681725  0.6919565\nlocal:inter                                   -0.1054498 -0.01924023 -1.6116883\nlocal:nat                                      0.4127118  1.79150476  1.5042401\nnat:inter                                     -0.7750229  0.58809774  0.5855831\nnational                                      -0.4590138 -1.29257096 -1.4806393\n                    q3 openaccess_statusYES\nall         -2.3314799         -0.270197304\ninter       -0.1035220          0.088562797\nlocal        0.5759759          0.026792017\nlocal:inter -1.4667531         -0.507905135\nlocal:nat    1.7003019         -0.221504067\nnat:inter    0.9267169         -0.004581471\nnational    -1.4637888         -0.060114995\n\nStd. Errors:\n            (Intercept)      Gmale   year2019   year2020   year2021   year2022\nall           0.8868572 0.03518474 0.05242221 0.05176823 0.05120208 0.06109529\ninter         4.3464125 0.06676273 0.10839653 0.10080576 0.09875340 0.11423364\nlocal         4.3415264 0.05532482 0.08358457 0.08550440 0.08994969 0.08185835\nlocal:inter   6.8284134 0.20111081 0.28555415 0.29536540 0.27806150 0.35068901\nlocal:nat     4.4426462 0.03001464 0.04519733 0.04416982 0.04437241 0.04828591\nnat:inter     4.3382604 0.04205537 0.06523957 0.06360920 0.06236122 0.07775007\nnational      0.6863445 0.01719048 0.02620655 0.02603399 0.02547020 0.02912810\n            Field_EnglishClinical Medicine\nall                             0.04419284\ninter                           0.08103489\nlocal                           0.07733787\nlocal:inter                     0.28428870\nlocal:nat                       0.04193645\nnat:inter                       0.04984332\nnational                        0.02111996\n            Field_EnglishPsychology & Cognitive Sciences\nall                                           0.06479740\ninter                                         0.11357922\nlocal                                         0.13628056\nlocal:inter                                   0.34858526\nlocal:nat                                     0.06688942\nnat:inter                                     0.06911186\nnational                                      0.03552696\n            Field_EnglishPublic Health & Health Services        q1        q2\nall                                           0.06007595 0.9571000 0.8930255\ninter                                         0.12319915 4.3534897 4.3493860\nlocal                                         0.09295492 4.3641693 4.3426083\nlocal:inter                                   0.37801045 6.8951146 6.8462279\nlocal:nat                                     0.05085704 4.4518364 4.4431840\nnat:inter                                     0.07766017 4.3674347 4.3398093\nnational                                      0.02942907 0.7048668 0.6873201\n                   q3 openaccess_statusYES\nall         0.8851415           0.04111317\ninter       4.3451168           0.07158685\nlocal       4.3404023           0.06009730\nlocal:inter 6.8221513           0.26154128\nlocal:nat   4.4423591           0.03463552\nnat:inter   4.3377313           0.04561743\nnational    0.6857408           0.01878632\n\nResidual Deviance: 204479.9 \nAIC: 204661.9 \n\n"
     ]
    }
   ],
   "source": [
    "\n",
    "\n",
    "def reg2(dom,merged):\n",
    "  dummy = merged.copy()\n",
    "  dummy = dummy[dummy['Domain_English'] == dom]\n",
    "  #print(\"no of subfield \",dummy['SubField_English'].nunique())\n",
    "  G = []\n",
    "  for ind in dummy.index:\n",
    "    if dummy['cor_gender'][ind] == 'female' or dummy['cor_gender'][ind] == 'f' or dummy['cor_gender'][ind] == 'F':\n",
    "      G.append(\"female\")\n",
    "    else:\n",
    "      G.append(\"male\")\n",
    "  dummy['G'] = G\n",
    "\n",
    "  tmp = pd.DataFrame()\n",
    "\n",
    "  tmp['cat'] = dummy['cat']\n",
    "  tmp['year'] = dummy['year']\n",
    "  tmp['Domain_English'] = dummy['Domain_English']\n",
    "  tmp['Field_English'] = dummy['Field_English']\n",
    "  tmp['Subfield_English'] = dummy['SubField_English']\n",
    "  tmp['G'] = dummy['G']\n",
    "  tmp['SJR'] = dummy['SJR']\n",
    "  tmp['openaccess_status'] = dummy['openaccess_status']\n",
    "\n",
    "  #tmp['srcid'] = dummy['srcid']\n",
    "  #tmp['srcid'] = tmp['srcid'].astype(str)\n",
    "\n",
    "  #tmp = tmp.dropna(subset = ['type'])\n",
    "\n",
    "  '''q1 = t['SJR'].quantile(0.25)\n",
    "  q2 = t['SJR'].quantile(0.50)\n",
    "  q3 = t['SJR'].quantile(0.75)'''\n",
    "\n",
    "  q1, q2, q3 = 0.123, 0.25, 0.593\n",
    "\n",
    "  q = []\n",
    "  for ind in tmp.index:\n",
    "    if tmp['SJR'][ind] <= q1:\n",
    "      q.append(0)\n",
    "    elif tmp['SJR'][ind] > q1 and tmp['SJR'][ind] <= q2:\n",
    "      q.append(1)\n",
    "    elif tmp['SJR'][ind] > q2 and tmp['SJR'][ind] <= q3:\n",
    "      q.append(2)\n",
    "    else:\n",
    "      q.append(3)\n",
    "  tmp['q'] = q\n",
    "\n",
    "  print(\"total field \", tmp['Subfield_English'].nunique())\n",
    "  print(\"len \",len(tmp))\n",
    "  return tmp\n",
    "\n",
    "\n",
    "#tmp = reg2(\"Applied Sciences\", tot) #national coeff = 0.144817026, p val = 1.83555717e-03 **\n",
    "#tmp = reg2(\"Arts & Humanities\", tot) #nat:inter coeff = +ve, p val = 4.71798106e-002 *\n",
    "#tmp = reg2(\"Economic & Social Sciences\", tot) #insig\n",
    "tmp = reg2(\"Health Sciences\", tot) #national gmale coeff = 0.06602673, p val = 1.22589436e-04\n",
    "#tmp = reg2(\"Natural Sciences\", tot) #insig\n",
    "\n",
    "\n",
    "\n",
    "#tmp = reg2(\" \",tot) #national and nat:inter = gmale est = +ve, pval = **\n",
    "\n",
    "with localconverter(ro.default_converter + pandas2ri.converter):\n",
    "  tst_df = ro.conversion.py2rpy(tmp)\n",
    "\n",
    "col_2_index = list(tst_df.colnames).index('year')\n",
    "col_2 = ro.vectors.FactorVector(tst_df.rx2('year'))\n",
    "tst_df[col_2_index] = col_2\n",
    "\n",
    "col_2_index = list(tst_df.colnames).index('cat')\n",
    "col_2 = ro.vectors.FactorVector(tst_df.rx2('cat'))\n",
    "tst_df[col_2_index] = col_2\n",
    "\n",
    "\n",
    "col_2_index = list(tst_df.colnames).index('Subfield_English')\n",
    "col_2 = ro.vectors.FactorVector(tst_df.rx2('Subfield_English'))\n",
    "tst_df[col_2_index] = col_2\n",
    "\n",
    "col_2_index = list(tst_df.colnames).index('Field_English')\n",
    "col_2 = ro.vectors.FactorVector(tst_df.rx2('Field_English'))\n",
    "tst_df[col_2_index] = col_2\n",
    "\n",
    "col_2_index = list(tst_df.colnames).index('openaccess_status')\n",
    "col_2 = ro.vectors.FactorVector(tst_df.rx2('openaccess_status'))\n",
    "tst_df[col_2_index] = col_2\n",
    "\n",
    "\n",
    "col_2_index = list(tst_df.colnames).index('q')\n",
    "col_2 = ro.vectors.FactorVector(tst_df.rx2('q'))\n",
    "tst_df[col_2_index] = col_2\n",
    "\n",
    "model = nnet.multinom(\"cat ~ G+year+Field_English+q+openaccess_status\",\n",
    "                  data=tst_df) \n",
    "\n",
    "\n",
    "print(base.summary(model))"
   ]
  },
  {
   "cell_type": "code",
   "execution_count": 0,
   "metadata": {
    "application/vnd.databricks.v1+cell": {
     "cellMetadata": {
      "byteLimit": 2048000,
      "rowLimit": 10000
     },
     "inputWidgets": {},
     "nuid": "2551d977-3f30-4ed4-9334-34edf91ef1e4",
     "showTitle": false,
     "title": ""
    }
   },
   "outputs": [
    {
     "output_type": "stream",
     "name": "stdout",
     "output_type": "stream",
     "text": [
      "Out[26]: 0.047179766976058135"
     ]
    }
   ],
   "source": [
    "scipy.stats.norm.sf(abs(.436790790/0.2200809))*2"
   ]
  },
  {
   "cell_type": "code",
   "execution_count": 0,
   "metadata": {
    "application/vnd.databricks.v1+cell": {
     "cellMetadata": {
      "byteLimit": 2048000,
      "rowLimit": 10000
     },
     "inputWidgets": {},
     "nuid": "28a23c44-468e-4a44-97a2-ea5bbbd7a799",
     "showTitle": false,
     "title": ""
    }
   },
   "outputs": [
    {
     "output_type": "stream",
     "name": "stdout",
     "output_type": "stream",
     "text": [
      "printing p value\n[[5.67504707e-01 9.36611168e-02 1.41518910e-08 1.61724489e-08\n  8.10883419e-19 1.60016088e-28 2.34399747e-63 2.45968675e-12\n  3.87892993e-06 1.36828524e-02 1.55418926e-03 8.43807018e-03\n  4.96310581e-11]\n [4.45059929e-01 8.74973349e-01 7.13777224e-03 8.11348830e-01\n  1.97468798e-01 9.15231888e-03 3.14355700e-23 3.49811608e-07\n  4.33657577e-08 6.63206226e-01 9.63380943e-01 9.80992270e-01\n  2.16035918e-01]\n [3.63604459e-01 6.07000711e-01 3.95010369e-02 8.24301436e-05\n  1.89967017e-17 4.36838216e-01 1.81812610e-03 6.36149812e-01\n  9.77813813e-07 8.10433889e-01 8.73400046e-01 8.94429826e-01\n  6.55734029e-01]\n [5.81103387e-01 2.55696175e-01 1.25327409e-02 4.15507541e-03\n  2.31115858e-03 1.43948304e-03 1.41204016e-01 1.67674076e-03\n  7.80275432e-01 9.97773574e-01 8.13888509e-01 8.29768399e-01\n  5.21408217e-02]\n [4.30304519e-01 2.91707383e-01 6.35815976e-19 9.06157605e-17\n  1.65118785e-44 1.18603753e-24 2.17398542e-14 9.67911952e-07\n  4.85245908e-16 6.87375489e-01 7.34948728e-01 7.01906990e-01\n  1.60246180e-10]\n [4.38387225e-01 6.38036160e-02 5.30051759e-01 6.35593321e-01\n  3.10072371e-01 5.23891653e-12 1.26777968e-76 7.24195015e-19\n  1.87086922e-23 8.92884506e-01 8.92664921e-01 8.30827084e-01\n  9.20000995e-01]\n [6.16530944e-02 1.22589436e-04 9.73646389e-12 2.98303399e-17\n  9.32295170e-46 3.77604272e-66 0.00000000e+00 1.79176996e-03\n  7.59497912e-55 6.66865738e-02 3.12228689e-02 3.27929286e-02\n  1.37458642e-03]]\n"
     ]
    }
   ],
   "source": [
    "coeffs = base.summary(model).rx2('coefficients')\n",
    "std = base.summary(model).rx2('standard.errors')\n",
    "import scipy.stats \n",
    "\n",
    "z = np.array(coeffs) / np.array(std)\n",
    "#print(z)\n",
    "\n",
    "def my_vectorized_func(m):\n",
    "    return scipy.stats.norm.sf(abs(m))*2\n",
    "\n",
    "val = my_vectorized_func(z)\n",
    "print(\"printing p value\")\n",
    "print(val)\n"
   ]
  },
  {
   "cell_type": "code",
   "execution_count": 0,
   "metadata": {
    "application/vnd.databricks.v1+cell": {
     "cellMetadata": {
      "byteLimit": 2048000,
      "rowLimit": 10000
     },
     "inputWidgets": {},
     "nuid": "2fa1828a-331b-416d-b9fa-24f9e5bdd261",
     "showTitle": false,
     "title": ""
    }
   },
   "outputs": [],
   "source": [
    "coeffs = base.summary(model).rx2('coefficients')\n",
    "print(coeffs)\n"
   ]
  },
  {
   "cell_type": "code",
   "execution_count": 0,
   "metadata": {
    "application/vnd.databricks.v1+cell": {
     "cellMetadata": {},
     "inputWidgets": {},
     "nuid": "a73982a1-8860-4be3-8600-f84f9cd03d4b",
     "showTitle": false,
     "title": ""
    }
   },
   "outputs": [],
   "source": [
    "std = base.summary(model).rx2('standard.errors')\n",
    "print(std)\n"
   ]
  },
  {
   "cell_type": "code",
   "execution_count": 0,
   "metadata": {
    "application/vnd.databricks.v1+cell": {
     "cellMetadata": {
      "byteLimit": 2048000,
      "rowLimit": 10000
     },
     "inputWidgets": {},
     "nuid": "0f3de4a0-a3de-4b1f-85ec-a98e6eef6cf0",
     "showTitle": false,
     "title": ""
    }
   },
   "outputs": [
    {
     "output_type": "stream",
     "name": "stdout",
     "output_type": "stream",
     "text": [
      "Out[74]: array(['Biomedical Research', 'Biology',\n       'Agriculture, Fisheries & Forestry', 'Physics & Astronomy',\n       'Earth & Environmental Sciences',\n       'Information & Communication Technologies',\n       'Enabling & Strategic Technologies', 'Clinical Medicine',\n       'Chemistry', 'Social Sciences', 'Engineering',\n       'Public Health & Health Services', 'Mathematics & Statistics',\n       'Built Environment & Design', 'Economics & Business ',\n       'Psychology & Cognitive Sciences',\n       'Communication & Textual Studies', 'Historical Studies',\n       'Philosophy & Theology', 'Visual & Performing Arts'], dtype=object)"
     ]
    }
   ],
   "source": [
    "sep['Field_English'].unique()\n",
    "\n"
   ]
  },
  {
   "cell_type": "code",
   "execution_count": 0,
   "metadata": {
    "application/vnd.databricks.v1+cell": {
     "cellMetadata": {
      "byteLimit": 2048000,
      "rowLimit": 10000
     },
     "inputWidgets": {},
     "nuid": "e1253903-f08e-41c8-a613-52359c65fc8f",
     "showTitle": false,
     "title": ""
    }
   },
   "outputs": [],
   "source": [
    "import rpy2.robjects.packages as rpackages\n",
    "import rpy2.robjects.vectors as robjects_vectors\n",
    "\n",
    "\n",
    "from rpy2.robjects import r, pandas2ri\n",
    "import rpy2.robjects as ro\n",
    "from rpy2.robjects.packages import importr\n",
    "\n",
    "# import R's utility package\n",
    "#utils = rpackages.importr('utils')\n",
    "#utils.chooseCRANmirror(ind=1)\n",
    "from rpy2.robjects.conversion import localconverter\n",
    "base = importr('base')\n",
    "from rpy2.robjects import Formula\n",
    "stats = importr('stats')\n",
    "#stats = importr('MASS')"
   ]
  },
  {
   "cell_type": "code",
   "execution_count": 0,
   "metadata": {
    "application/vnd.databricks.v1+cell": {
     "cellMetadata": {
      "byteLimit": 2048000,
      "rowLimit": 10000
     },
     "inputWidgets": {},
     "nuid": "b65afa55-a739-48b0-aeeb-8f0df0f9a699",
     "showTitle": false,
     "title": ""
    }
   },
   "outputs": [
    {
     "output_type": "stream",
     "name": "stdout",
     "output_type": "stream",
     "text": [
      "0.4054628414275892\n0.37771645699071665\n0.37037694328103926\n0.3894499178981938\n0.379198805673053\n0.3813463291613772\n0.37733137587361976\n0.39242906066536204\n"
     ]
    }
   ],
   "source": [
    "dummy = sep.copy()\n",
    "gender = []\n",
    "  \n",
    "for ind in dummy.index:\n",
    "  if dummy['cor_gender'][ind] == 'female' or dummy['cor_gender'][ind] == 'f' or dummy['cor_gender'][ind] == 'F':\n",
    "    gender.append(\"female\")\n",
    "  else:\n",
    "    gender.append(\"male\") \n",
    "\n",
    "dummy['gender'] = gender\n",
    "\n",
    "a1 = dummy[dummy['bin_loc'] == 1]\n",
    "print(len(a1[a1['gender'] == \"female\"])/len(a1))\n",
    "\n",
    "a1 = dummy[dummy['bin_loc'] == 0]\n",
    "print(len(a1[a1['gender'] == \"female\"])/len(a1))\n",
    "\n",
    "a1 = dummy[dummy['bin_nat'] == 1]\n",
    "print(len(a1[a1['gender'] == \"female\"])/len(a1))\n",
    "\n",
    "a1 = dummy[dummy['bin_nat'] == 0]\n",
    "print(len(a1[a1['gender'] == \"female\"])/len(a1))\n",
    "\n",
    "a1 = dummy[dummy['bin_int'] == 1]\n",
    "print(len(a1[a1['gender'] == \"female\"])/len(a1))\n",
    "\n",
    "a1 = dummy[dummy['bin_int'] == 0]\n",
    "print(len(a1[a1['gender'] == \"female\"])/len(a1))\n",
    "\n",
    "a1 = dummy[dummy['bin_sp'] == 1]\n",
    "print(len(a1[a1['gender'] == \"female\"])/len(a1))\n",
    "\n",
    "a1 = dummy[dummy['bin_sp'] == 0]\n",
    "print(len(a1[a1['gender'] == \"female\"])/len(a1))"
   ]
  },
  {
   "cell_type": "code",
   "execution_count": 0,
   "metadata": {
    "application/vnd.databricks.v1+cell": {
     "cellMetadata": {
      "byteLimit": 2048000,
      "rowLimit": 10000
     },
     "inputWidgets": {},
     "nuid": "97c86f49-ecc5-46c9-8af3-8ad2f39918a4",
     "showTitle": false,
     "title": ""
    }
   },
   "outputs": [
    {
     "output_type": "stream",
     "name": "stdout",
     "output_type": "stream",
     "text": [
      "\nCall:\n(function (formula, family = gaussian, data, weights, subset, \n    na.action, start = NULL, etastart, mustart, offset, control = list(...), \n    model = TRUE, method = \"glm.fit\", x = FALSE, y = TRUE, singular.ok = TRUE, \n    contrasts = NULL, ...) \n{\n    cal <- match.call()\n    if (is.character(family)) \n        family <- get(family, mode = \"function\", envir = parent.frame())\n    if (is.function(family)) \n        family <- family()\n    if (is.null(family$family)) {\n        print(family)\n        stop(\"'family' not recognized\")\n    }\n    if (missing(data)) \n        data <- environment(formula)\n    mf <- match.call(expand.dots = FALSE)\n    m <- match(c(\"formula\", \"data\", \"subset\", \"weights\", \"na.action\", \n        \"etastart\", \"mustart\", \"offset\"), names(mf), 0L)\n    mf <- mf[c(1L, m)]\n    mf$drop.unused.levels <- TRUE\n    mf[[1L]] <- quote(stats::model.frame)\n    mf <- eval(mf, parent.frame())\n    if (identical(method, \"model.frame\")) \n        return(mf)\n    if (!is.character(method) && !is.function(method)) \n        stop(\"invalid 'method' argument\")\n    if (identical(method, \"glm.fit\")) \n        control <- do.call(\"glm.control\", control)\n    mt <- attr(mf, \"terms\")\n    Y <- model.response(mf, \"any\")\n    if (length(dim(Y)) == 1L) {\n        nm <- rownames(Y)\n        dim(Y) <- NULL\n        if (!is.null(nm)) \n            names(Y) <- nm\n    }\n    X <- if (!is.empty.model(mt)) \n        model.matrix(mt, mf, contrasts)\n    else matrix(, NROW(Y), 0L)\n    weights <- as.vector(model.weights(mf))\n    if (!is.null(weights) && !is.numeric(weights)) \n        stop(\"'weights' must be a numeric vector\")\n    if (!is.null(weights) && any(weights < 0)) \n        stop(\"negative weights not allowed\")\n    offset <- as.vector(model.offset(mf))\n    if (!is.null(offset)) {\n        if (length(offset) != NROW(Y)) \n            stop(gettextf(\"number of offsets is %d should equal %d (number of observations)\", \n                length(offset), NROW(Y)), domain = NA)\n    }\n    mustart <- model.extract(mf, \"mustart\")\n    etastart <- model.extract(mf, \"etastart\")\n    fit <- eval(call(if (is.function(method)) \"method\" else method, \n        x = X, y = Y, weights = weights, start = start, etastart = etastart, \n        mustart = mustart, offset = offset, family = family, \n        control = control, intercept = attr(mt, \"intercept\") > \n            0L, singular.ok = singular.ok))\n    if (length(offset) && attr(mt, \"intercept\") > 0L) {\n        fit2 <- eval(call(if (is.function(method)) \"method\" else method, \n            x = X[, \"(Intercept)\", drop = FALSE], y = Y, mustart = fit$fitted.values, \n            weights = weights, offset = offset, family = family, \n            control = control, intercept = TRUE))\n        if (!fit2$converged) \n            warning(\"fitting to calculate the null deviance did not converge -- increase 'maxit'?\")\n        fit$null.deviance <- fit2$deviance\n    }\n    if (model) \n        fit$model <- mf\n    fit$na.action <- attr(mf, \"na.action\")\n    if (x) \n        fit$x <- X\n    if (!y) \n        fit$y <- NULL\n    structure(c(fit, list(call = cal, formula = formula, terms = mt, \n        data = data, offset = offset, control = control, method = method, \n        contrasts = attr(X, \"contrasts\"), xlevels = .getXlevels(mt, \n            mf))), class = c(fit$class, c(\"glm\", \"lm\")))\n})(formula = \"bin_nat ~ gender+year+openaccess_status+bin_loc+bin_int\", \n    family = structure(list(family = \"binomial\", link = \"logit\", \n        linkfun = function (mu) \n        .Call(C_logit_link, mu), linkinv = function (eta) \n        .Call(C_logit_linkinv, eta), variance = function (mu) \n        mu * (1 - mu), dev.resids = function (y, mu, wt) \n        .Call(C_binomial_dev_resids, y, mu, wt), aic = function (y, \n            n, mu, wt, dev) \n        {\n            m <- if (any(n > 1)) \n                n\n            else wt\n            -2 * sum(ifelse(m > 0, (wt/m), 0) * dbinom(round(m * \n                y), round(m), mu, log = TRUE))\n        }, mu.eta = function (eta) \n        .Call(C_logit_mu_eta, eta), initialize = {\n            if (NCOL(y) == 1) {\n                if (is.factor(y)) \n                  y <- y != levels(y)[1L]\n                n <- rep.int(1, nobs)\n                y[weights == 0] <- 0\n                if (any(y < 0 | y > 1)) \n                  stop(\"y values must be 0 <= y <= 1\")\n                mustart <- (weights * y + 0.5)/(weights + 1)\n                m <- weights * y\n                if (\"binomial\" == \"binomial\" && any(abs(m - round(m)) > \n                  0.001)) \n                  warning(gettextf(\"non-integer #successes in a %s glm!\", \n                    \"binomial\"), domain = NA)\n            }\n            else if (NCOL(y) == 2) {\n                if (\"binomial\" == \"binomial\" && any(abs(y - round(y)) > \n                  0.001)) \n                  warning(gettextf(\"non-integer counts in a %s glm!\", \n                    \"binomial\"), domain = NA)\n                n <- (y1 <- y[, 1L]) + y[, 2L]\n                y <- y1/n\n                if (any(n0 <- n == 0)) \n                  y[n0] <- 0\n                weights <- weights * n\n                mustart <- (n * y + 0.5)/(n + 1)\n            }\n            else stop(gettextf(\"for the '%s' family, y must be a vector of 0 and 1's\\nor a 2 column matrix where col 1 is no. successes and col 2 is no. failures\", \n                \"binomial\"), domain = NA)\n        }, validmu = function (mu) \n        all(is.finite(mu)) && all(mu > 0 & mu < 1), valideta = function (eta) \n        TRUE, simulate = function (object, nsim) \n        {\n            ftd <- fitted(object)\n            n <- length(ftd)\n            ntot <- n * nsim\n            wts <- object$prior.weights\n            if (any(wts%%1 != 0)) \n                stop(\"cannot simulate from non-integer prior.weights\")\n            if (!is.null(m <- object$model)) {\n                y <- model.response(m)\n                if (is.factor(y)) {\n                  yy <- factor(1 + rbinom(ntot, size = 1, prob = ftd), \n                    labels = levels(y))\n                  split(yy, rep(seq_len(nsim), each = n))\n                }\n                else if (is.matrix(y) && ncol(y) == 2) {\n                  yy <- vector(\"list\", nsim)\n                  for (i in seq_len(nsim)) {\n                    Y <- rbinom(n, size = wts, prob = ftd)\n                    YY <- cbind(Y, wts - Y)\n                    colnames(YY) <- colnames(y)\n                    yy[[i]] <- YY\n                  }\n                  yy\n                }\n                else rbinom(ntot, size = wts, prob = ftd)/wts\n            }\n            else rbinom(ntot, size = wts, prob = ftd)/wts\n        }), class = \"family\"), data = structure(list(doi = c(\"10.1038/s41591-020-0820-9\", \n    \"10.1038/s42003-022-03334-8\", \"10.1126/science.abj0016\", \n    \"10.1016/j.icarus.2021.114594\", \"10.1126/science.abb5793\", \n    \"10.1038/s41558-022-01426-1\", \"10.1126/science.aap9559\", \n    \"10.1126/sciadv.abd3083\", \"10.1038/s41591-022-01689-3\", \"10.1038/s41586-022-04788-w\", \n    \"10.15585/mmwr.mm7013e3\", \"10.1001/jama.2020.4756\", \"10.1126/science.abf4063\", \n    \"10.1126/science.aaw1313\", \"10.1001/jama.2022.0470\", \"10.1073/pnas.2006874117\", \n    \"10.1073/pnas.1920849117\", \"10.1126/science.abp8715\", \"10.1126/science.abk0639\", \n    \"10.1038/s41558-022-01290-z\", \"10.15585/mmwr.mm7107e2\", \"10.1016/j.cub.2021.03.103\", \n    \"10.1126/science.abb3634\", \"10.1111/ajt.16930\", \"10.1126/science.abb3221\", \n    \"10.1377/hlthaff.2020.00818\", \"10.1016/j.ajog.2021.03.023\", \n    \"10.1021/acs.jnatprod.1c00946\", \"10.1038/s41591-022-01840-0\", \n    \"10.1073/pnas.2009637117\", \"10.1126/science.abp8337\", \"10.1038/s41586-019-1099-1\", \n    \"10.1001/jamanetworkopen.2021.0830\", \"10.1126/science.abe6522\", \n    \"10.1038/s41586-020-2923-3\", \"10.1038/s41467-022-28764-0\", \n    \"10.1038/s41586-021-03596-y\", \"10.1038/s41586-022-04664-7\", \n    \"10.1038/s41550-020-1198-9\", \"10.15585/mmwr.mm6818e1\", \"10.1093/cid/ciab111\", \n    \"10.1093/cid/ciaa1785\", \"10.1073/pnas.1821204116\", \"10.1038/s41586-021-03647-4\", \n    \"10.1073/pnas.2118631119\", \"10.1001/jama.2021.2294\", \"10.1126/science.aaz9600\", \n    \"10.1001/jama.2020.12603\", \"10.1021/acs.estlett.1c00240\", \n    \"10.1038/s41586-021-03738-2\", \"10.1016/j.cmet.2019.05.008\", \n    \"10.1093/infdis/jiaa742\", \"10.1038/s41586-021-03506-2\", \"10.1038/s41559-019-1027-7\", \n    \"10.1001/jama.2021.0374\", \"10.1038/s41467-022-28246-3\", \"10.1038/s41467-019-12808-z\", \n    \"10.1016/j.cell.2020.05.015\", \"10.1001/jamanetworkopen.2020.35057\", \n    \"10.1126/science.abn1234\", \"10.1038/s41467-021-21849-2\", \n    \"10.1001/jamanetworkopen.2020.19686\", \"10.1038/s41467-022-28333-5\", \n    \"10.1016/j.cels.2020.06.006\", \"10.1073/pnas.2013284118\", \n    \"10.1126/sciadv.abp8636\", \"10.1073/pnas.1916631117\", \"10.1001/jama.2020.6775\", \n    \"10.1136/bjsports-2021-104080\", \"10.1126/sciadv.abd0288\", \n    \"10.1038/s41586-021-03553-9\", \"10.1126/sciadv.abg3080\", \"10.1001/jama.2019.16932\", \n    \"10.1126/sciadv.aav1784\", \"10.1021/acsnano.0c03252\", \"10.1038/s41564-020-0771-4\", \n    \"10.5664/jcsm.8780\", \"10.1126/science.abk2793\", \"10.1038/s41562-021-01267-6\", \n    \"10.1016/j.ebiom.2020.102743\", \"10.1038/s41598-021-82320-2\", \n    \"10.1038/s41467-022-29379-1\", \"10.1073/pnas.1914273116\", \n    \"10.15585/mmwr.mm6736a2\", \"10.1001/jama.2021.5469\", \"10.1521/jscp.2018.37.10.751\", \n    \"10.1126/science.aar3247\", \"10.1001/jama.2022.3785\", \"10.15585/mmwr.mm6935a2\", \n    \"10.3390/cli8010012\", \"10.1001/jamainternmed.2021.8098\", \n    \"10.1001/jama.2019.1572\", \"10.1038/s41586-020-2813-8\", \"10.1001/jama.2020.24865\", \n    \"10.15585/mmwr.mm6918e3\", \"10.1002/ijc.32738\", \"10.1038/s41467-019-08471-z\", \n    \"10.1001/jamainternmed.2019.0462\", \"10.1001/jama.2018.1742\", \n    \"10.1073/pnas.2006753117\", \"10.1002/jwmg.22177\", \"10.1126/science.abj3068\", \n    \"10.1001/jamainternmed.2018.2425\", \"10.1126/science.abe7389\", \n    \"10.1038/s41598-018-23062-6\", \"10.1038/s41561-022-01019-9\", \n    \"10.15585/mmwr.mm6936a4\", \"10.1126/science.aau8712\", \"10.1126/science.abf1396\", \n    \"10.1038/s41558-019-0632-4\", \"10.15585/mmwr.mm7039e1\", \"10.1001/jama.2020.13107\", \n    \"10.1016/j.cub.2021.04.067\", \"10.1038/s41586-022-04643-y\", \n    \"10.1126/science.abj6987\", \"10.1093/cid/ciab456\", \"10.15585/mmwr.mm7104e4\", \n    \"10.1126/sciadv.abf4491\", \"10.15585/mmwr.mm7106e1\", \"10.1038/s41586-022-04449-y\", \n    \"10.1001/jama.2019.5586\", \"10.1001/jama.2018.0245\", \"10.1038/s41586-020-1935-3\", \n    \"10.1038/s41591-021-01270-4\", \"10.1007/s10552-022-01588-5\", \n    \"10.1001/jama.2020.3151\", \"10.1038/s41586-021-04390-6\", \"10.1073/pnas.2101084119\", \n    \"10.1038/s41586-021-03356-y\", \"10.1073/pnas.2113290119\", \n    \"10.1177/2047487320936787\", \"10.1093/cid/ciab321\", \"10.1016/j.jadohealth.2020.07.002\", \n    \"10.1126/sciadv.aat0131\", \"10.1038/s41591-019-0611-3\", \"10.1038/nrd.2017.243\", \n    \"10.1126/sciadv.aau4586\", \"10.1126/science.abj8222\", \"10.1038/s41467-022-29458-3\", \n    \"10.1073/pnas.1812883116\", \"10.1111/obr.13128\", \"10.15585/mmwr.mm6939e2\", \n    \"10.1126/science.abc6197\", \"10.1001/jamainternmed.2019.0899\", \n    \"10.1073/pnas.2115329119\", \"10.1038/s41558-021-01077-8\", \n    \"10.1126/science.aar7204\", \"10.1001/jamacardio.2021.0565\", \n    \"10.1073/pnas.1900712116\", \"10.1080/07420528.2018.1454458\", \n    \"10.1126/sciadv.abq0995\", \"10.1038/s41591-021-01480-w\", \"10.1016/j.cell.2020.10.049\", \n    \"10.1126/science.abk1781\", \"10.1038/s41467-021-22838-1\", \n    \"10.1038/s41467-021-22799-5\", \"10.1126/science.abi9167\", \n    \"10.15585/mmwr.mm7017e2\", \"10.1001/jama.2021.9976\", \"10.1016/j.jpeds.2020.08.037\", \n    \"10.1021/acs.est.1c06458\", \"10.1002/da.22967\", \"10.15585/mmwr.mm7107e3\", \n    \"10.1073/pnas.1817407116\", \"10.1073/pnas.2008373117\", \"10.1001/jamainternmed.2018.5008\", \n    \"10.3389/fpsyg.2020.566108\", \"10.1073/pnas.2007476117\", \"10.1001/jama.2019.13978\", \n    \"10.1001/jamacardio.2020.5890\", \"10.1001/jamainternmed.2020.4130\", \n    \"10.1016/j.cub.2019.08.036\", \"10.1001/jama.2020.22760\", \"10.1037/emo0000403\", \n    \"10.1016/j.smrv.2019.04.008\", \"10.1001/jama.2018.8931\", \"10.1001/jamainternmed.2019.0584\", \n    \"10.1038/nature25767\", \"10.15585/mmwr.mm7104e1\", \"10.1542/peds.2018-2058\", \n    \"10.1126/science.abm4454\", \"10.1038/s41586-020-2404-8\", \"10.1038/s41558-018-0222-x\", \n    \"10.1038/s41467-022-28735-5\", \"10.1007/s11606-020-06067-8\", \n    \"10.1126/science.abd3871\", \"10.1021/acs.est.1c04707\", \"10.1038/s41598-020-67211-2\", \n    \"10.1073/pnas.1718804115\", \"10.1215/00703370-9585908\", \"10.1126/science.abf0521\", \n    \"10.1038/s41550-021-01495-w\", \"10.1016/j.cell.2020.05.042\", \n    \"10.15585/mmwr.mm7017e1\", \"10.1001/jama.2021.22898\", \"10.1038/s43016-021-00343-4\", \n    \"10.1007/s40615-020-00941-1\", \"10.1038/s41586-019-1720-3\", \n    \"10.1126/science.abn3100\", \"10.1126/science.abd7672\", \"10.1126/science.abe9039\", \n    \"10.1111/faf.12525\", \"10.1088/1748-9326/abfba1\", \"10.1038/s41586-021-04281-w\", \n    \"10.1126/science.abd8694\", \"10.1001/jama.2018.6741\", \"10.1101/gr.223693.117\", \n    \"10.1038/s41467-021-22079-2\", \"10.15585/mmwr.mm7008e4\", \"10.1148/radiol.2018180217\", \n    \"10.1001/jama.2021.1117\", \"10.1126/sciadv.abe0166\", \"10.1126/science.aba9757\", \n    \"10.1038/s43016-021-00358-x\", \"10.1002/acn3.51210\", \"10.1002/ese3.956\", \n    \"10.1093/infdis/jiab114\", \"10.1038/s41591-021-01283-z\", \"10.1038/s41586-022-05016-1\", \n    \"10.1098/rspb.2019.2736\", \"10.1001/jamanetworkopen.2021.2536\", \n    \"10.1001/jama.2019.18387\", \"10.1073/pnas.1913405117\", \"10.1126/science.abb2507\", \n    \"10.1038/s41586-021-03550-y\", \"10.1126/sciadv.aaw1838\", \"10.1126/science.aay6485\", \n    \"10.1126/science.aaq0524\", \"10.1038/s41591-021-01336-3\", \n    \"10.1111/gcb.15806\", \"10.4269/ajtmh.17-0870\", \"10.1016/j.neuron.2018.05.023\", \n    \"10.1073/pnas.1718850115\", \"10.1001/jamainternmed.2019.0571\", \n    \"10.1126/science.aax2342\", \"10.1126/science.abd7728\", \"10.1126/science.abc5810\", \n    \"10.1016/j.amjmed.2019.02.015\", \"10.1002/jmv.26514\", \"10.1038/s41591-019-0459-6\", \n    \"10.1001/jama.2020.19545\", \"10.1016/j.cub.2020.01.071\", \"10.1038/s41598-021-02447-0\", \n    \"10.1038/s41550-018-0450-z\", \"10.1016/j.ebiom.2019.08.069\", \n    \"10.1038/s41586-022-04770-6\", \"10.1038/s41586-018-0158-3\", \n    \"10.1016/j.cub.2019.01.069\", \"10.1098/rsbl.2019.0666\", \"10.1093/cid/ciab230\", \n    \"10.1001/jama.2021.23580\", \"10.1016/j.cub.2021.01.026\", \"10.1073/pnas.2010146117\", \n    \"10.1186/s40168-021-01106-w\", \"10.1001/jama.2018.0899\", \"10.1126/sciadv.aax6250\", \n    \"10.1038/s41586-021-03207-w\", \"10.1038/s41467-022-28195-x\", \n    \"10.1001/jama.2019.10255\", \"10.1093/infdis/jiaa274\", \"10.1111/acer.14239\", \n    \"10.1001/jamainternmed.2018.0266\", \"10.1183/13993003.01948-2020\", \n    \"10.1038/s41586-018-0106-2\", \"10.2138/am-2022-8099\", \"10.1016/j.amepre.2019.07.028\", \n    \"10.1001/jamacardio.2021.2065\", \"10.1001/jama.2021.4133\", \n    \"10.1073/pnas.1818859116\", \"10.1016/j.jaac.2019.04.020\", \n    \"10.1088/1748-9326/ab83a7\", \"10.1016/j.cub.2017.11.057\", \n    \"10.1001/jamanetworkopen.2021.24516\", \"10.1176/appi.ps.201700250\", \n    \"10.1016/j.jamcollsurg.2018.08.694\", \"10.1002/alz.12213\", \n    \"10.1001/jamainternmed.2021.7755\", \"10.1038/s41550-019-0917-6\", \n    \"10.1001/jamainternmed.2019.0198\", \"10.1126/sciadv.abn9493\", \n    \"10.1038/s41598-020-68882-7\", \"10.1007/s10584-022-03387-y\", \n    \"10.1126/science.abj2258\", \"10.1038/s41598-019-38808-z\", \n    \"10.1038/s43017-021-00219-y\", \"10.1126/sciadv.aau6200\", \"10.1126/sciadv.abc0776\", \n    \"10.15585/mmwr.mm7013e2\", \"10.1001/jamafacial.2018.0486\", \n    \"10.1126/science.aau8650\", \"10.1126/sciadv.abc5801\", \"10.1073/pnas.1910837117\", \n    \"10.1093/ajcp/aqaa089\", \"10.1038/s41467-021-23377-5\", \"10.1038/s41550-018-0430-3\", \n    \"10.15585/mmwr.mm7039a4\", \"10.1001/jama.2020.19759\", \"10.1038/s41586-019-1119-1\", \n    \"10.1126/sciadv.abm7201\", \"10.15585/mmwr.mm6939e1\", \"10.1001/jamaoncol.2020.7600\", \n    \"10.1037/pspa0000281\", \"10.1001/jamanetworkopen.2021.28568\", \n    \"10.1038/s41586-020-2377-7\", \"10.1016/j.cub.2019.11.067\", \n    \"10.1073/pnas.2025919118\", \"10.1126/science.abn4887\", \"10.1111/acel.13415\", \n    \"10.3847/2041-8213/ac1f95\", \"10.1037/ppm0000371\", \"10.1016/j.cub.2021.04.055\", \n    \"10.1001/jama.2018.14854\", \"10.1542/peds.2021-052478\", \"10.1001/jamanetworkopen.2020.19722\", \n    \"10.1093/mnrasl/slac035\", \"10.15585/mmwr.mm6717e1\", \"10.1001/jamanetworkopen.2021.30645\", \n    \"10.1001/jama.2020.24096\", \"10.1038/s41467-020-18531-4\", \n    \"10.15585/mmwr.mm6722a1\", \"10.1001/jamanetworkopen.2018.1471\", \n    \"10.1038/s41586-019-1799-6\", \"10.1177/2047487317752186\", \n    \"10.1038/s41467-019-11297-4\", \"10.1073/pnas.2112672118\", \n    \"10.1038/s41561-019-0458-8\", \"10.1073/pnas.1802345115\", \"10.1126/sciadv.abm0320\", \n    \"10.1001/jamainternmed.2020.3391\", \"10.1016/j.jamcollsurg.2020.12.002\", \n    \"10.1126/science.aaz9353\", \"10.1001/jamacardio.2020.4916\", \n    \"10.1126/sciadv.aba1940\", \"10.1038/s43016-022-00573-0\", \"10.1093/infdis/jiab337\", \n    \"10.1073/pnas.1800097115\", \"10.1038/s41586-020-2286-9\", \"10.1038/s41366-021-00860-z\", \n    \"10.1126/sciadv.abj2164\", \"10.1126/sciadv.aax8995\", \"10.1038/s41467-019-10366-y\", \n    \"10.1073/pnas.2020778118\", \"10.1016/j.ymthe.2021.11.008\", \n    \"10.1001/jama.2018.2055\", \"10.1126/scitranslmed.aay2602\", \n    \"10.1038/s41586-020-2281-1\", \"10.1126/science.aax5440\", \"10.1126/scitranslmed.abd5487\", \n    \"10.1021/acs.est.1c06531\", \"10.1186/s12940-018-0396-8\", \"10.1001/jamaoncol.2022.1472\", \n    \"10.1001/jama.2021.12531\", \"10.1038/s41467-022-29056-3\", \n    \"10.1073/pnas.1717312115\", \"10.1001/jama.2020.8630\", \"10.1016/j.cell.2020.08.026\", \n    \"10.1037/abn0000410\", \"10.1073/pnas.2018995118\", \"10.1542/peds.2020-004879\", \n    \"10.1038/s41586-020-2639-4\", \"10.1080/14772019.2021.1924301\", \n    \"10.1073/pnas.2121723119\", \"10.1001/jama.2022.2847\", \"10.1073/pnas.2202780119\", \n    \"10.1001/jama.2019.3307\", \"10.1016/j.stem.2018.03.015\", \"10.1002/alr.22579\", \n    \"10.1016/j.envint.2018.02.029\", \"10.1111/jgs.17897\", \"10.1038/s41561-019-0362-2\", \n    \"10.1111/1475-6773.13203\", \"10.1126/science.aaw7912\", \"10.1126/science.abm0829\", \n    \"10.1001/jamanetworkopen.2021.5262\", \"10.15585/mmwr.mm6937e1\", \n    \"10.1377/hlthaff.2020.00608\", \"10.1111/jgs.17951\", \"10.15585/mmwr.mm7011e2\", \n    \"10.1126/science.abc5312\", \"10.1001/jamanetworkopen.2020.7551\", \n    \"10.1038/s41550-022-01634-x\", \"10.1038/s41559-020-1122-9\", \n    \"10.1371/journal.pone.0272947\", \"10.1073/pnas.1803880115\", \n    \"10.1126/science.aan8677\", \"10.1001/jama.2022.4308\", \"10.1038/s41586-018-0752-4\", \n    \"10.1038/s41550-021-01384-2\", \"10.1038/s41559-019-0888-0\", \n    \"10.1001/jamaoncol.2017.5618\", \"10.1126/science.aaz5819\", \n    \"10.1111/gcb.14864\", \"10.1016/j.jshs.2018.09.009\", \"10.1038/s41586-021-03371-z\", \n    \"10.1038/s41591-019-0437-z\", \"10.1126/science.aaw8737\", \"10.1126/science.aay2400\", \n    \"10.1371/journal.pone.0195405\", \"10.1038/s41550-019-0977-7\", \n    \"10.1126/science.abm0151\", \"10.1073/pnas.1904573117\", \"10.1016/j.trd.2021.102908\", \n    \"10.1073/pnas.1906556116\", \"10.15585/mmwr.mm7029a2\", \"10.1126/science.aar5629\", \n    \"10.1038/s41550-019-0813-0\", \"10.1186/s40537-019-0174-7\", \n    \"10.1038/s41586-022-05224-9\", \"10.3389/fpsyg.2019.00722\", \n    \"10.1073/pnas.1913007117\", \"10.1001/jamainternmed.2020.5313\", \n    \"10.1016/j.gecco.2020.e01371\", \"10.1111/ajt.16532\", \"10.1016/j.cell.2022.07.024\", \n    \"10.1038/s41598-021-95565-8\", \"10.1371/journal.pone.0242668\", \n    \"10.1111/jems.12400\", \"10.1038/s41586-019-1711-4\", \"10.1136/tobaccocontrol-2021-056901\", \n    \"10.1111/aje.12586\", \"10.1542/peds.2018-3112\", \"10.3897/zookeys.1096.73485\", \n    \"10.1126/science.aaz9129\", \"10.1038/s41586-020-2607-z\", \"10.1080/00036846.2019.1631443\", \n    \"10.1001/jama.2021.15494\", \"10.1001/jama.2021.8694\", \"10.1001/jamanetworkopen.2019.3886\", \n    \"10.15585/mmwr.mm6920e1\", \"10.1126/science.aar7121\", \"10.1093/brain/awx350\", \n    \"10.1073/pnas.1917204117\", \"10.1080/13696998.2021.2002063\", \n    \"10.1002/eap.2433\", \"10.1001/jama.2020.6266\", \"10.1038/s41562-020-0884-z\", \n    \"10.15585/mmwr.mm7129e2\", \"10.1038/s41586-018-0053-y\", \"10.1038/s41593-022-01132-3\", \n    \"10.1377/hlthaff.2019.01484\", \"10.1001/jamanetworkopen.2022.28510\", \n    \"10.1001/jamanetworkopen.2021.0369\", \"10.1001/jama.2020.12897\", \n    \"10.1093/jme/tjy062\", \"10.15585/mmwr.mm7039e3\", \"10.1126/science.aao1619\", \n    \"10.1038/s41550-018-0529-6\", \"10.1007/s10096-021-04260-z\", \n    \"10.1001/jama.2021.24282\", \"10.1021/acs.est.2c01583\", \"10.1038/s41586-018-0646-5\", \n    \"10.1111/jan.13818\", \"10.1002/acn3.51350\", \"10.1038/s41593-019-0371-x\", \n    \"10.1126/sciadv.aay6036\", \"10.1093/eurheartj/ehac208\", \"10.1001/jamanetworkopen.2021.43955\", \n    \"10.1016/j.cell.2018.03.054\", \"10.1038/s41598-018-22313-w\", \n    \"10.1038/s41467-021-22446-z\", \"10.1038/s41586-022-05053-w\", \n    \"10.1038/s41550-021-01539-1\", \"10.1038/nature25975\", \"10.1001/jamainternmed.2018.1007\", \n    \"10.1038/s41598-020-61839-w\", \"10.1542/peds.2021-053616\", \n    \"10.1001/jama.2019.21463\", \"10.1186/s12967-018-1507-6\", \"10.1073/pnas.2107402118\", \n    \"10.1126/sciadv.aax5097\", \"10.1038/s41598-020-61480-7\", \"10.1007/s11524-021-00515-4\", \n    \"10.1038/s41586-021-03667-0\", \"10.1038/s41591-019-0485-4\", \n    \"10.1016/j.cell.2020.06.040\", \"10.1126/sciadv.aau3669\", \"10.1073/pnas.1804840115\", \n    \"10.1016/j.envint.2020.105668\", \"10.1126/science.abm0620\", \n    \"10.1001/jama.2019.20747\", \"10.3897/zookeys.928.47517\", \"10.1016/j.jacc.2020.07.069\", \n    \"10.1007/s00227-022-04090-3\", \"10.15585/mmwr.mm7109e3\", \"10.1126/science.aav2914\", \n    \"10.1126/sciadv.aaq1012\", \"10.1038/s41550-018-0405-4\", \"10.1371/journal.pone.0226087\", \n    \"10.1001/jamanetworkopen.2020.17267\", \"10.1126/sciadv.abi8789\", \n    \"10.1016/j.cub.2019.05.035\", \"10.1016/j.jacc.2022.01.038\", \n    \"10.1001/jama.2021.11048\", \"10.1001/jama.2020.20717\", \"10.1038/s41586-019-1513-8\", \n    \"10.1001/jamainternmed.2021.4686\", \"10.1001/jamainternmed.2022.2587\", \n    \"10.1038/s41567-020-0935-4\", \"10.1073/pnas.2010115117\", \"10.1111/1745-9125.12175\", \n    \"10.1073/pnas.1717295115\", \"10.1111/ele.13434\", \"10.3389/fpubh.2020.00473\", \n    \"10.1038/s41586-021-03696-9\", \"10.3847/1538-4357/ac723a\", \n    \"10.1016/j.stem.2018.01.016\", \"10.15585/mmwr.mm6940e3\", \"10.1210/clinem/dgac040\", \n    \"10.1038/s41586-021-03860-1\", \"10.1002/advs.202201174\", \"10.1038/s41586-022-04675-4\", \n    \"10.1001/jamainternmed.2022.1906\", \"10.1111/maps.13653\", \n    \"10.1126/science.abg9175\", \"10.1038/s41559-017-0431-0\", \"10.1126/science.aau2277\", \n    \"10.1016/j.joule.2019.09.021\", \"10.15585/mmwr.mm7111e2\", \n    \"10.1001/jama.2020.0757\", \"10.1001/jamanetworkopen.2020.28786\", \n    \"10.1001/jama.2020.8707\", \"10.1001/jama.2020.15725\", \"10.1001/jamainternmed.2018.4886\", \n    \"10.1542/peds.2019-1725\", \"10.1016/j.cub.2021.03.051\", \"10.1038/s41571-022-00672-8\", \n    \"10.1001/jama.2022.1206\", \"10.1093/jnci/djz226\", \"10.1001/jama.2020.21946\", \n    \"10.15585/mmwr.mm7039e4\", \"10.1073/pnas.2123516119\", \"10.1093/humrep/dey337\", \n    \"10.1021/acsnano.0c05025\", \"10.1542/peds.2018-1235\", \"10.1038/s41561-022-00971-w\", \n    \"10.1038/s41598-020-59528-9\", \"10.1038/s41586-021-03693-y\", \n    \"10.1038/s41586-021-03991-5\", \"10.15585/mmwr.mm7108e2\", \"10.1001/jama.2021.10238\", \n    \"10.1016/j.biocon.2018.08.012\", \"10.1038/s41591-020-0971-8\", \n    \"10.1093/ntr/ntaa082\", \"10.1001/jamanetworkopen.2022.19133\", \n    \"10.1111/brv.12816\", \"10.1016/j.cmet.2020.06.013\", \"10.1001/jamainternmed.2019.3500\", \n    \"10.1093/cid/ciab519\", \"10.1001/jamainternmed.2020.1764\", \n    \"10.1016/j.stem.2019.08.002\", \"10.1371/journal.pone.0247820\", \n    \"10.1038/s41591-018-0040-8\", \"10.1073/pnas.1722477115\", \"10.1038/s41390-021-01902-y\", \n    \"10.1098/rsbl.2018.0056\", \"10.1242/jeb.243119\", \"10.1038/s41467-021-21708-0\", \n    \"10.1038/s41586-018-0637-6\", \"10.1038/s41560-020-00763-9\", \n    \"10.1001/jamanetworkopen.2021.5298\", \"10.15585/mmwr.mm6817e1\", \n    \"10.15585/mmwr.mm7109a2\", \"10.1126/sciadv.aau3333\", \"10.1016/j.idm.2020.04.001\", \n    \"10.1136/ijgc-2022-003728\", \"10.1038/s41467-022-29818-z\", \n    \"10.1080/02724634.2020.1767638\", \"10.1016/j.sleh.2019.02.002\", \n    \"10.1126/sciadv.aat3272\", \"10.1126/science.aar3320\", \"10.1073/pnas.1718185115\", \n    \"10.1126/science.aau2706\", \"10.1038/s41587-021-00950-3\", \n    \"10.1126/science.aao5646\", \"10.1126/sciadv.abd5393\", \"10.15585/mmwr.mm7019e3\", \n    \"10.1126/science.aat3466\", \"10.1001/jama.2020.17022\", \"10.1073/pnas.1922205117\", \n    \"10.15585/mmwr.mm6745a1\", \"10.1371/journal.pone.0259478\", \n    \"10.1111/risa.13500\", \"10.1038/s41598-019-49660-6\", \"10.1016/j.immuni.2020.10.004\", \n    \"10.1111/1475-6773.13551\", \"10.1001/jamaoncol.2018.2487\", \n    \"10.1016/j.icarus.2021.114872\", \"10.1001/jamainternmed.2022.2476\", \n    \"10.1038/s41586-021-03427-0\", \"10.1038/s41562-017-0277-0\", \n    \"10.1080/10410236.2022.2106086\", \"10.1016/j.ijid.2018.09.013\", \n    \"10.15585/mmwr.mm6918e1\", \"10.1021/acs.est.1c08298\", \"10.1038/nature25792\", \n    \"10.1016/j.resuscitation.2020.04.023\", \"10.1038/s41551-020-0534-9\", \n    \"10.1126/sciadv.abe2101\", \"10.1038/s41893-019-0220-7\", \"10.1001/jamanetworkopen.2020.14780\", \n    \"10.1126/science.aax9044\", \"10.1126/science.abf4058\", \"10.1126/science.abe3261\", \n    \"10.1073/pnas.1816541116\", \"10.1001/jamainternmed.2021.2033\", \n    \"10.1016/j\n\n*** WARNING: max output size exceeded, skipping output. ***\n\n16\", \"127217\", \"127218\", \"127219\", \"127220\", \"127221\", \n    \"127222\", \"127223\", \"127224\", \"127225\", \"127226\", \"127227\", \n    \"127228\", \"127229\", \"127230\", \"127231\", \"127232\", \"127233\", \n    \"127234\", \"127235\", \"127236\", \"127237\", \"127238\", \"127239\", \n    \"127240\", \"127241\", \"127242\", \"127243\", \"127244\", \"127245\", \n    \"127246\", \"127247\", \"127248\", \"127249\", \"127250\", \"127251\", \n    \"127252\", \"127253\", \"127254\", \"127255\", \"127256\", \"127257\", \n    \"127258\", \"127259\", \"127260\", \"127261\", \"127262\", \"127263\", \n    \"127264\", \"127265\", \"127266\", \"127267\", \"127268\", \"127269\", \n    \"127270\", \"127271\", \"127272\", \"127273\", \"127274\", \"127275\", \n    \"127276\", \"127277\", \"127278\", \"127279\", \"127280\", \"127281\", \n    \"127282\", \"127283\", \"127284\", \"127285\", \"127286\", \"127287\", \n    \"127288\", \"127289\", \"127290\", \"127291\", \"127292\", \"127293\", \n    \"127294\", \"127295\", \"127296\", \"127297\", \"127298\", \"127299\", \n    \"127300\", \"127301\", \"127302\", \"127303\", \"127304\", \"127305\", \n    \"127306\", \"127307\", \"127308\", \"127309\", \"127310\", \"127311\", \n    \"127312\", \"127313\", \"127314\", \"127315\", \"127316\", \"127317\", \n    \"127318\", \"127319\", \"127320\", \"127321\", \"127322\", \"127323\", \n    \"127324\", \"127325\", \"127326\", \"127327\", \"127328\", \"127329\", \n    \"127330\", \"127331\", \"127332\", \"127333\", \"127334\", \"127335\", \n    \"127336\", \"127337\", \"127338\", \"127339\", \"127340\", \"127341\", \n    \"127342\", \"127343\", \"127344\", \"127345\", \"127346\", \"127347\", \n    \"127348\", \"127349\", \"127350\", \"127351\", \"127352\", \"127353\", \n    \"127354\", \"127355\", \"127356\", \"127357\", \"127358\", \"127359\", \n    \"127360\", \"127361\", \"127362\", \"127363\", \"127364\", \"127365\", \n    \"127366\", \"127367\", \"127368\", \"127369\", \"127370\", \"127371\", \n    \"127372\", \"127373\", \"127374\", \"127375\", \"127376\", \"127377\", \n    \"127378\", \"127379\", \"127380\", \"127381\", \"127382\", \"127383\", \n    \"127384\", \"127385\", \"127386\", \"127387\", \"127388\", \"127389\", \n    \"127390\", \"127391\", \"127392\", \"127393\", \"127394\", \"127395\", \n    \"127396\", \"127397\", \"127398\", \"127399\", \"127400\", \"127401\", \n    \"127402\", \"127403\", \"127404\", \"127405\", \"127406\", \"127407\", \n    \"127408\", \"127409\", \"127410\", \"127411\", \"127412\", \"127413\", \n    \"127414\", \"127415\", \"127416\", \"127417\", \"127418\", \"127419\", \n    \"127420\", \"127421\", \"127422\", \"127423\", \"127424\", \"127425\", \n    \"127426\", \"127427\", \"127428\", \"127429\", \"127430\", \"127431\", \n    \"127432\", \"127433\", \"127434\", \"127435\", \"127436\", \"127437\", \n    \"127438\", \"127439\", \"127440\", \"127441\", \"127442\", \"127443\", \n    \"127444\", \"127445\", \"127446\", \"127447\", \"127448\", \"127449\", \n    \"127450\", \"127451\", \"127452\", \"127453\", \"127454\", \"127455\", \n    \"127456\", \"127457\", \"127458\", \"127459\", \"127460\", \"127461\", \n    \"127462\", \"127463\", \"127464\", \"127465\", \"127466\", \"127467\", \n    \"127468\", \"127469\", \"127470\", \"127471\", \"127472\", \"127473\", \n    \"127474\", \"127475\", \"127476\", \"127477\", \"127478\", \"127479\", \n    \"127480\", \"127481\", \"127482\", \"127483\", \"127484\", \"127485\", \n    \"127486\", \"127487\", \"127488\", \"127489\", \"127490\", \"127491\", \n    \"127492\", \"127493\", \"127494\", \"127495\", \"127496\", \"127497\", \n    \"127498\", \"127499\", \"127500\", \"127501\", \"127502\", \"127503\", \n    \"127504\", \"127505\", \"127506\", \"127507\", \"127508\", \"127509\", \n    \"127510\", \"127511\", \"127512\", \"127513\", \"127514\", \"127515\", \n    \"127516\", \"127517\", \"127518\", \"127519\", \"127520\", \"127521\", \n    \"127522\", \"127523\", \"127524\", \"127525\", \"127526\", \"127527\", \n    \"127528\", \"127529\", \"127530\", \"127531\", \"127532\", \"127533\", \n    \"127534\", \"127535\", \"127536\", \"127537\", \"127538\", \"127539\", \n    \"127540\", \"127541\", \"127542\", \"127543\", \"127544\", \"127545\", \n    \"127546\", \"127547\", \"127548\", \"127549\", \"127550\", \"127551\", \n    \"127552\", \"127553\", \"127554\", \"127555\", \"127556\", \"127557\", \n    \"127558\", \"127559\", \"127560\", \"127561\", \"127562\", \"127563\", \n    \"127564\", \"127565\", \"127566\", \"127567\", \"127568\", \"127569\", \n    \"127570\", \"127571\", \"127572\", \"127573\", \"127574\", \"127575\", \n    \"127576\", \"127577\", \"127578\", \"127579\", \"127580\", \"127581\", \n    \"127582\", \"127583\", \"127584\", \"127585\", \"127586\", \"127587\", \n    \"127588\", \"127589\", \"127590\", \"127591\", \"127592\", \"127593\", \n    \"127594\", \"127595\", \"127596\", \"127597\", \"127598\", \"127599\", \n    \"127600\", \"127601\", \"127602\", \"127603\", \"127604\", \"127605\", \n    \"127606\", \"127607\", \"127608\", \"127609\", \"127610\", \"127611\", \n    \"127612\", \"127613\", \"127614\", \"127615\", \"127616\", \"127617\", \n    \"127618\", \"127619\", \"127620\", \"127621\", \"127622\", \"127623\", \n    \"127624\", \"127625\", \"127626\", \"127627\", \"127628\", \"127629\", \n    \"127630\", \"127631\", \"127632\", \"127633\", \"127634\", \"127635\", \n    \"127636\", \"127637\", \"127638\", \"127639\", \"127640\", \"127641\", \n    \"127642\", \"127643\", \"127644\", \"127645\", \"127646\", \"127647\", \n    \"127648\", \"127649\", \"127650\", \"127651\", \"127652\", \"127653\", \n    \"127654\", \"127655\", \"127656\", \"127657\", \"127658\", \"127659\", \n    \"127660\", \"127661\", \"127662\", \"127663\", \"127664\", \"127665\", \n    \"127666\", \"127667\", \"127668\", \"127669\", \"127670\", \"127671\", \n    \"127672\", \"127673\", \"127674\", \"127675\", \"127676\", \"127677\", \n    \"127678\", \"127679\", \"127680\", \"127681\", \"127682\", \"127683\", \n    \"127684\", \"127685\", \"127686\", \"127687\", \"127688\", \"127689\", \n    \"127690\", \"127691\", \"127692\", \"127693\", \"127694\", \"127695\", \n    \"127696\", \"127697\", \"127698\", \"127699\", \"127700\", \"127701\", \n    \"127702\", \"127703\", \"127704\", \"127705\", \"127706\", \"127707\", \n    \"127708\", \"127709\", \"127710\", \"127711\", \"127712\", \"127713\", \n    \"127714\", \"127715\", \"127716\", \"127717\", \"127718\", \"127719\", \n    \"127720\", \"127721\", \"127722\", \"127723\", \"127724\", \"127725\", \n    \"127726\", \"127727\", \"127728\", \"127729\", \"127730\", \"127731\", \n    \"127732\", \"127733\", \"127734\", \"127735\", \"127736\", \"127737\", \n    \"127738\", \"127739\", \"127740\", \"127741\", \"127742\", \"127743\", \n    \"127744\", \"127745\", \"127746\", \"127747\", \"127748\", \"127749\", \n    \"127750\", \"127751\", \"127752\", \"127753\", \"127754\", \"127755\", \n    \"127756\", \"127757\", \"127758\", \"127759\", \"127760\", \"127761\", \n    \"127762\", \"127763\", \"127764\", \"127765\", \"127766\", \"127767\", \n    \"127768\", \"127769\", \"127770\", \"127771\", \"127772\", \"127773\", \n    \"127774\", \"127775\", \"127776\", \"127777\", \"127778\", \"127779\", \n    \"127780\", \"127781\", \"127782\", \"127783\", \"127784\", \"127785\", \n    \"127786\", \"127787\", \"127788\", \"127789\", \"127790\", \"127791\", \n    \"127792\", \"127793\", \"127794\", \"127795\", \"127796\", \"127797\", \n    \"127798\", \"127799\", \"127800\", \"127801\", \"127802\", \"127803\", \n    \"127804\", \"127805\", \"127806\", \"127807\", \"127808\", \"127809\", \n    \"127810\", \"127811\", \"127812\", \"127813\", \"127814\", \"127815\", \n    \"127816\", \"127817\", \"127818\", \"127819\", \"127820\", \"127821\", \n    \"127822\", \"127823\", \"127824\", \"127825\", \"127826\", \"127827\", \n    \"127828\", \"127829\", \"127830\", \"127831\", \"127832\", \"127833\", \n    \"127834\", \"127835\", \"127836\", \"127837\", \"127838\", \"127839\", \n    \"127840\", \"127841\", \"127842\", \"127843\", \"127844\", \"127845\", \n    \"127846\", \"127847\", \"127848\", \"127849\", \"127850\", \"127851\", \n    \"127852\", \"127853\", \"127854\", \"127855\", \"127856\", \"127857\", \n    \"127858\", \"127859\", \"127860\", \"127861\", \"127862\", \"127863\", \n    \"127864\", \"127865\", \"127866\", \"127867\", \"127868\", \"127869\", \n    \"127870\", \"127871\", \"127872\", \"127873\", \"127874\", \"127875\", \n    \"127876\", \"127877\", \"127878\", \"127879\", \"127880\", \"127881\", \n    \"127882\", \"127883\", \"127884\", \"127885\", \"127886\", \"127887\", \n    \"127888\", \"127889\", \"127890\", \"127891\", \"127892\", \"127893\", \n    \"127894\", \"127895\", \"127896\", \"127897\", \"127898\", \"127899\", \n    \"127900\", \"127901\", \"127902\", \"127903\", \"127904\", \"127905\", \n    \"127906\", \"127907\", \"127908\", \"127909\", \"127910\", \"127911\", \n    \"127912\", \"127913\", \"127914\", \"127915\", \"127916\", \"127917\", \n    \"127918\", \"127919\", \"127920\", \"127921\", \"127922\", \"127923\", \n    \"127924\", \"127925\", \"127926\", \"127927\", \"127928\", \"127929\", \n    \"127930\", \"127931\", \"127932\", \"127933\", \"127934\", \"127935\", \n    \"127936\", \"127937\", \"127938\", \"127939\", \"127940\", \"127941\", \n    \"127942\", \"127943\", \"127944\", \"127945\", \"127946\", \"127947\", \n    \"127948\", \"127949\", \"127950\", \"127951\", \"127952\", \"127953\", \n    \"127954\", \"127955\", \"127956\", \"127957\", \"127958\", \"127959\", \n    \"127960\", \"127961\", \"127962\", \"127963\", \"127964\", \"127965\", \n    \"127966\", \"127967\", \"127968\", \"127969\", \"127970\", \"127971\", \n    \"127972\", \"127973\", \"127974\", \"127975\", \"127976\", \"127977\", \n    \"127978\", \"127979\", \"127980\", \"127981\", \"127982\", \"127983\", \n    \"127984\", \"127985\", \"127986\", \"127987\", \"127988\", \"127989\", \n    \"127990\", \"127991\", \"127992\", \"127993\", \"127994\", \"127995\", \n    \"127996\", \"127997\", \"127998\", \"127999\", \"128000\", \"128001\", \n    \"128002\", \"128003\", \"128004\", \"128005\", \"128006\", \"128007\", \n    \"128008\", \"128009\", \"128010\", \"128011\", \"128012\", \"128013\", \n    \"128014\", \"128015\", \"128016\", \"128017\", \"128018\", \"128019\", \n    \"128020\", \"128021\", \"128022\", \"128023\", \"128024\", \"128025\", \n    \"128026\", \"128027\", \"128028\", \"128029\", \"128030\", \"128031\", \n    \"128032\", \"128033\", \"128034\", \"128035\", \"128036\", \"128037\", \n    \"128038\", \"128039\", \"128040\", \"128041\", \"128042\", \"128043\", \n    \"128044\", \"128045\", \"128046\", \"128047\", \"128048\", \"128049\", \n    \"128050\", \"128051\", \"128052\", \"128053\", \"128054\", \"128055\", \n    \"128056\", \"128057\", \"128058\", \"128059\", \"128060\", \"128061\", \n    \"128062\", \"128063\", \"128064\", \"128065\", \"128066\", \"128067\", \n    \"128068\", \"128069\", \"128070\", \"128071\", \"128072\", \"128073\", \n    \"128074\", \"128075\", \"128076\", \"128077\", \"128078\", \"128079\", \n    \"128080\", \"128081\", \"128082\", \"128083\", \"128084\", \"128085\", \n    \"128086\", \"128087\", \"128088\", \"128089\", \"128090\", \"128091\", \n    \"128092\", \"128093\", \"128094\", \"128095\", \"128096\", \"128097\", \n    \"128098\", \"128099\", \"128100\", \"128101\", \"128102\", \"128103\", \n    \"128104\", \"128105\", \"128106\", \"128107\", \"128108\", \"128109\", \n    \"128110\", \"128111\", \"128112\", \"128113\", \"128114\", \"128115\", \n    \"128116\", \"128117\", \"128118\", \"128119\", \"128120\", \"128121\", \n    \"128122\", \"128123\", \"128124\", \"128125\", \"128126\", \"128127\", \n    \"128128\", \"128129\", \"128130\", \"128131\", \"128132\", \"128133\", \n    \"128134\", \"128135\", \"128136\", \"128137\", \"128138\", \"128139\", \n    \"128140\", \"128141\", \"128142\", \"128143\", \"128144\", \"128145\", \n    \"128146\", \"128147\", \"128148\", \"128149\", \"128150\", \"128151\", \n    \"128152\", \"128153\", \"128154\", \"128155\", \"128156\", \"128157\", \n    \"128158\", \"128159\", \"128160\", \"128161\", \"128162\", \"128163\", \n    \"128164\", \"128165\", \"128166\", \"128167\", \"128168\", \"128169\", \n    \"128170\", \"128171\", \"128172\", \"128173\", \"128174\", \"128175\", \n    \"128176\", \"128177\", \"128178\", \"128179\", \"128180\", \"128181\", \n    \"128182\", \"128183\", \"128184\", \"128185\", \"128186\", \"128187\", \n    \"128188\", \"128189\", \"128190\", \"128191\", \"128192\", \"128193\", \n    \"128194\", \"128195\", \"128196\", \"128197\", \"128198\", \"128199\", \n    \"128200\", \"128201\", \"128202\", \"128203\", \"128204\", \"128205\", \n    \"128206\", \"128207\", \"128208\", \"128209\", \"128210\", \"128211\", \n    \"128212\", \"128213\", \"128214\", \"128215\", \"128216\", \"128217\", \n    \"128218\", \"128219\", \"128220\", \"128221\", \"128222\", \"128223\", \n    \"128224\", \"128225\", \"128226\", \"128227\", \"128228\", \"128229\", \n    \"128230\", \"128231\", \"128232\", \"128233\", \"128234\", \"128235\", \n    \"128236\", \"128237\", \"128238\", \"128239\", \"128240\", \"128241\", \n    \"128242\", \"128243\", \"128244\", \"128245\", \"128246\", \"128247\", \n    \"128248\", \"128249\", \"128250\", \"128251\", \"128252\", \"128253\", \n    \"128254\", \"128255\", \"128256\", \"128257\", \"128258\", \"128259\", \n    \"128260\", \"128261\", \"128262\", \"128263\", \"128264\", \"128265\", \n    \"128266\", \"128267\", \"128268\", \"128269\", \"128270\", \"128271\", \n    \"128272\", \"128273\", \"128274\", \"128275\", \"128276\", \"128277\", \n    \"128278\", \"128279\", \"128280\", \"128281\", \"128282\", \"128283\", \n    \"128284\", \"128285\", \"128286\", \"128287\", \"128288\", \"128289\", \n    \"128290\", \"128291\", \"128292\", \"128293\", \"128294\", \"128295\", \n    \"128296\", \"128297\", \"128298\", \"128299\", \"128300\", \"128301\", \n    \"128302\", \"128303\", \"128304\", \"128305\", \"128306\", \"128307\", \n    \"128308\", \"128309\", \"128310\", \"128311\", \"128312\", \"128313\", \n    \"128314\", \"128315\", \"128316\", \"128317\", \"128318\", \"128319\", \n    \"128320\", \"128321\", \"128322\", \"128323\", \"128324\", \"128325\", \n    \"128326\", \"128327\", \"128328\", \"128329\", \"128330\", \"128331\", \n    \"128332\", \"128333\", \"128334\", \"128335\", \"128336\", \"128337\", \n    \"128338\", \"128339\", \"128340\", \"128341\", \"128342\", \"128343\", \n    \"128344\", \"128345\", \"128346\", \"128347\", \"128348\", \"128349\", \n    \"128350\", \"128351\", \"128352\", \"128353\", \"128354\", \"128355\", \n    \"128356\", \"128357\", \"128358\", \"128359\", \"128360\", \"128361\", \n    \"128362\", \"128363\", \"128364\", \"128365\", \"128366\", \"128367\", \n    \"128368\", \"128369\", \"128370\", \"128371\", \"128372\", \"128373\", \n    \"128374\", \"128375\", \"128376\", \"128377\", \"128378\", \"128379\", \n    \"128380\", \"128381\", \"128382\", \"128383\", \"128384\", \"128385\", \n    \"128386\", \"128387\", \"128388\", \"128389\", \"128390\", \"128391\", \n    \"128392\", \"128393\", \"128394\", \"128395\", \"128396\", \"128397\", \n    \"128398\", \"128399\", \"128400\", \"128401\", \"128402\", \"128403\", \n    \"128404\", \"128405\", \"128406\", \"128407\", \"128408\", \"128409\", \n    \"128410\", \"128411\", \"128412\", \"128413\", \"128414\", \"128415\", \n    \"128416\", \"128417\", \"128418\", \"128419\", \"128420\", \"128421\", \n    \"128422\", \"128423\", \"128424\", \"128425\", \"128426\", \"128427\", \n    \"128428\", \"128429\", \"128430\", \"128431\", \"128432\", \"128433\", \n    \"128434\", \"128435\", \"128436\", \"128437\", \"128438\", \"128439\", \n    \"128440\", \"128441\", \"128442\", \"128443\", \"128444\", \"128445\", \n    \"128446\", \"128447\", \"128448\", \"128449\", \"128450\", \"128451\", \n    \"128452\", \"128453\", \"128454\", \"128455\", \"128456\", \"128457\", \n    \"128458\", \"128459\", \"128460\", \"128461\", \"128462\", \"128463\", \n    \"128464\", \"128465\", \"128466\", \"128467\", \"128468\", \"128469\", \n    \"128470\", \"128471\", \"128472\", \"128473\", \"128474\", \"128475\", \n    \"128476\", \"128477\", \"128478\", \"128479\", \"128480\", \"128481\", \n    \"128482\", \"128483\", \"128484\", \"128485\", \"128486\", \"128487\", \n    \"128488\", \"128489\", \"128490\", \"128491\", \"128492\", \"128493\", \n    \"128494\", \"128495\", \"128496\", \"128497\", \"128498\", \"128499\", \n    \"128500\", \"128501\", \"128502\", \"128503\", \"128504\", \"128505\", \n    \"128506\", \"128507\", \"128508\", \"128509\", \"128510\", \"128511\", \n    \"128512\", \"128513\", \"128514\", \"128515\", \"128516\", \"128517\", \n    \"128518\", \"128519\", \"128520\", \"128521\", \"128522\", \"128523\", \n    \"128524\", \"128525\", \"128526\", \"128527\", \"128528\", \"128529\", \n    \"128530\", \"128531\", \"128532\", \"128533\", \"128534\", \"128535\", \n    \"128536\", \"128537\", \"128538\", \"128539\", \"128540\", \"128541\", \n    \"128542\", \"128543\", \"128544\", \"128545\", \"128546\", \"128547\", \n    \"128548\", \"128549\", \"128550\", \"128551\", \"128552\", \"128553\", \n    \"128554\", \"128555\", \"128556\", \"128557\", \"128558\", \"128559\", \n    \"128560\", \"128561\", \"128562\", \"128563\", \"128564\", \"128565\", \n    \"128566\", \"128567\", \"128568\", \"128569\", \"128570\", \"128571\", \n    \"128572\", \"128573\", \"128574\", \"128575\", \"128576\", \"128577\", \n    \"128578\", \"128579\", \"128580\", \"128581\", \"128582\", \"128583\", \n    \"128584\", \"128585\", \"128586\", \"128587\", \"128588\", \"128589\", \n    \"128590\", \"128591\", \"128592\", \"128593\", \"128594\", \"128595\", \n    \"128596\", \"128597\", \"128598\", \"128599\", \"128600\", \"128601\", \n    \"128602\", \"128603\", \"128604\", \"128605\", \"128606\", \"128607\", \n    \"128608\", \"128609\", \"128610\", \"128611\", \"128612\", \"128613\", \n    \"128614\", \"128615\", \"128616\", \"128617\", \"128618\", \"128619\", \n    \"128620\", \"128621\", \"128622\", \"128623\", \"128624\", \"128625\", \n    \"128626\", \"128627\", \"128628\", \"128629\", \"128630\", \"128631\", \n    \"128632\", \"128633\", \"128634\", \"128635\", \"128636\", \"128637\", \n    \"128638\", \"128639\", \"128640\", \"128641\", \"128642\", \"128643\", \n    \"128644\", \"128645\", \"128646\", \"128647\", \"128648\", \"128649\", \n    \"128650\", \"128651\", \"128652\", \"128653\", \"128654\", \"128655\", \n    \"128656\", \"128657\", \"128658\", \"128659\", \"128660\", \"128661\", \n    \"128662\", \"128663\", \"128664\", \"128665\", \"128666\", \"128667\", \n    \"128668\", \"128669\", \"128670\", \"128671\", \"128672\", \"128673\", \n    \"128674\", \"128675\", \"128676\", \"128677\", \"128678\", \"128679\", \n    \"128680\", \"128681\", \"128682\", \"128683\", \"128684\", \"128685\", \n    \"128686\", \"128687\", \"128688\", \"128689\", \"128690\", \"128691\", \n    \"128692\", \"128693\", \"128694\", \"128695\", \"128696\", \"128697\", \n    \"128698\", \"128699\", \"128700\", \"128701\", \"128702\", \"128703\", \n    \"128704\", \"128705\", \"128706\", \"128707\", \"128708\", \"128709\", \n    \"128710\", \"128711\", \"128712\", \"128713\", \"128714\", \"128715\", \n    \"128716\", \"128717\", \"128718\", \"128719\", \"128720\", \"128721\", \n    \"128722\", \"128723\", \"128724\", \"128725\", \"128726\", \"128727\", \n    \"128728\", \"128729\", \"128730\", \"128731\", \"128732\", \"128733\", \n    \"128734\", \"128735\", \"128736\", \"128737\", \"128738\", \"128739\", \n    \"128740\", \"128741\", \"128742\", \"128743\", \"128744\", \"128745\", \n    \"128746\", \"128747\", \"128748\", \"128749\", \"128750\", \"128751\", \n    \"128752\", \"128753\", \"128754\", \"128755\", \"128756\", \"128757\", \n    \"128758\", \"128759\", \"128760\", \"128761\", \"128762\", \"128763\", \n    \"128764\", \"128765\", \"128766\", \"128767\", \"128768\", \"128769\", \n    \"128770\", \"128771\", \"128772\", \"128773\", \"128774\", \"128775\", \n    \"128776\", \"128777\", \"128778\", \"128779\", \"128780\", \"128781\", \n    \"128782\", \"128783\", \"128784\", \"128785\", \"128786\", \"128787\", \n    \"128788\", \"128789\", \"128790\", \"128791\", \"128792\", \"128793\", \n    \"128794\", \"128795\", \"128796\", \"128797\", \"128798\", \"128799\", \n    \"128800\", \"128801\", \"128802\", \"128803\", \"128804\", \"128805\", \n    \"128806\", \"128807\", \"128808\", \"128809\", \"128810\", \"128811\", \n    \"128812\", \"128813\", \"128814\", \"128815\", \"128816\", \"128817\", \n    \"128818\", \"128819\", \"128820\", \"128821\", \"128822\", \"128823\", \n    \"128824\", \"128825\", \"128826\", \"128827\", \"128828\", \"128829\", \n    \"128830\", \"128831\", \"128832\", \"128833\", \"128834\", \"128835\", \n    \"128836\", \"128837\", \"128838\", \"128839\", \"128840\", \"128841\", \n    \"128842\", \"128843\", \"128844\", \"128845\", \"128846\", \"128847\", \n    \"128848\", \"128849\", \"128850\", \"128851\", \"128852\", \"128853\", \n    \"128854\", \"128855\", \"128856\", \"128857\", \"128858\", \"128859\", \n    \"128860\", \"128861\", \"128862\", \"128863\", \"128864\", \"128865\", \n    \"128866\", \"128867\", \"128868\", \"128869\", \"128870\", \"128871\", \n    \"128872\", \"128873\", \"128874\", \"128875\", \"128876\", \"128877\", \n    \"128878\", \"128879\", \"128880\", \"128881\", \"128882\", \"128883\", \n    \"128884\", \"128885\", \"128886\", \"128887\", \"128888\", \"128889\", \n    \"128890\", \"128891\", \"128892\", \"128893\", \"128894\", \"128895\", \n    \"128896\", \"128897\", \"128898\", \"128899\", \"128900\", \"128901\", \n    \"128902\", \"128903\", \"128904\", \"128905\", \"128906\", \"128907\", \n    \"128908\", \"128909\", \"128910\", \"128911\", \"128912\", \"128913\", \n    \"128914\", \"128915\", \"128916\", \"128917\", \"128918\", \"128919\", \n    \"128920\", \"128921\", \"128922\", \"128923\", \"128924\", \"128925\", \n    \"128926\", \"128927\", \"128928\", \"128929\", \"128930\", \"128931\", \n    \"128932\", \"128933\", \"128934\", \"128935\", \"128936\", \"128937\", \n    \"128938\", \"128939\", \"128940\", \"128941\", \"128942\", \"128943\", \n    \"128944\", \"128945\", \"128946\", \"128947\", \"128948\", \"128949\", \n    \"128950\", \"128951\", \"128952\", \"128953\", \"128954\", \"128955\", \n    \"128956\", \"128957\", \"128958\", \"128959\", \"128960\", \"128961\", \n    \"128962\", \"128963\", \"128964\", \"128965\", \"128966\", \"128967\", \n    \"128968\", \"128969\", \"128970\", \"128971\", \"128972\", \"128973\", \n    \"128974\", \"128975\", \"128976\", \"128977\", \"128978\", \"128979\", \n    \"128980\", \"128981\", \"128982\", \"128983\", \"128984\", \"128985\", \n    \"128986\", \"128987\", \"128988\", \"128989\", \"128990\", \"128991\", \n    \"128992\", \"128993\", \"128994\", \"128995\", \"128996\", \"128997\", \n    \"128998\", \"128999\", \"129000\", \"129001\", \"129002\", \"129003\", \n    \"129004\", \"129005\", \"129006\", \"129007\", \"129008\", \"129009\", \n    \"129010\", \"129011\", \"129012\", \"129013\", \"129014\", \"129015\", \n    \"129016\", \"129017\", \"129018\", \"129019\", \"129020\", \"129021\", \n    \"129022\", \"129023\", \"129024\", \"129025\", \"129026\", \"129027\", \n    \"129028\", \"129029\", \"129030\", \"129031\", \"129032\", \"129033\", \n    \"129034\", \"129035\", \"129036\", \"129037\", \"129038\", \"129039\", \n    \"129040\", \"129041\", \"129042\", \"129043\", \"129044\", \"129045\", \n    \"129046\", \"129047\", \"129048\", \"129049\", \"129050\", \"129051\", \n    \"129052\", \"129053\", \"129054\", \"129055\", \"129056\", \"129057\", \n    \"129058\", \"129059\", \"129060\", \"129061\", \"129062\", \"129063\", \n    \"129064\", \"129065\", \"129066\", \"129067\", \"129068\", \"129069\", \n    \"129070\", \"129071\", \"129072\", \"129073\", \"129074\", \"129075\", \n    \"129076\", \"129077\", \"129078\", \"129079\", \"129080\", \"129081\", \n    \"129082\", \"129083\", \"129084\", \"129085\", \"129086\", \"129087\", \n    \"129088\", \"129089\", \"129090\", \"129091\", \"129092\", \"129093\", \n    \"129094\", \"129095\", \"129096\", \"129097\", \"129098\", \"129099\", \n    \"129100\", \"129101\", \"129102\", \"129103\", \"129104\", \"129105\", \n    \"129106\", \"129107\", \"129108\", \"129109\", \"129110\", \"129111\", \n    \"129112\", \"129113\", \"129114\", \"129115\", \"129116\", \"129117\", \n    \"129118\", \"129119\", \"129120\", \"129121\", \"129122\", \"129123\", \n    \"129124\", \"129125\", \"129126\", \"129127\", \"129128\", \"129129\", \n    \"129130\", \"129131\", \"129132\", \"129133\", \"129134\", \"129135\", \n    \"129136\", \"129137\", \"129138\", \"129139\", \"129140\", \"129141\", \n    \"129142\", \"129143\", \"129144\", \"129145\", \"129146\", \"129147\", \n    \"129148\", \"129149\", \"129150\", \"129151\", \"129152\", \"129153\", \n    \"129154\", \"129155\", \"129156\", \"129157\", \"129158\", \"129159\", \n    \"129160\", \"129161\", \"129162\", \"129163\", \"129164\", \"129165\", \n    \"129166\", \"129167\", \"129168\", \"129169\", \"129170\", \"129171\", \n    \"129172\", \"129173\", \"129174\", \"129175\", \"129176\", \"129177\", \n    \"129178\", \"129179\", \"129180\", \"129181\", \"129182\", \"129183\", \n    \"129184\", \"129185\", \"129186\", \"129187\", \"129188\", \"129189\", \n    \"129190\", \"129191\", \"129192\", \"129193\", \"129194\", \"129195\", \n    \"129196\", \"129197\", \"129198\", \"129199\", \"129200\", \"129201\", \n    \"129202\", \"129203\", \"129204\", \"129205\", \"129206\", \"129207\", \n    \"129208\", \"129209\", \"129210\", \"129211\", \"129212\", \"129213\", \n    \"129214\", \"129215\", \"129216\", \"129217\", \"129218\", \"129219\", \n    \"129220\", \"129221\", \"129222\", \"129223\", \"129224\", \"129225\", \n    \"129226\", \"129227\", \"129228\", \"129229\", \"129230\", \"129231\", \n    \"129232\", \"129233\", \"129234\", \"129235\", \"129236\", \"129237\", \n    \"129238\", \"129239\", \"129240\", \"129241\", \"129242\", \"129243\", \n    \"129244\", \"129245\", \"129246\", \"129247\", \"129248\", \"129249\", \n    \"129250\", \"129251\", \"129252\", \"129253\", \"129254\", \"129255\", \n    \"129256\", \"129257\", \"129258\", \"129259\", \"129260\", \"129261\", \n    \"129262\", \"129263\", \"129264\", \"129265\", \"129266\", \"129267\", \n    \"129268\", \"129269\", \"129270\", \"129271\", \"129272\", \"129273\", \n    \"129274\", \"129275\", \"129276\", \"129277\", \"129278\", \"129279\", \n    \"129280\", \"129281\", \"129282\", \"129283\", \"129284\", \"129285\", \n    \"129286\", \"129287\", \"129288\", \"129289\", \"129290\", \"129291\", \n    \"129292\", \"129293\", \"129294\", \"129295\", \"129296\", \"129297\", \n    \"129298\", \"129299\", \"129300\", \"129301\", \"129302\", \"129303\", \n    \"129304\", \"129305\", \"129306\", \"129307\", \"129308\", \"129309\", \n    \"129310\", \"129311\", \"129312\", \"129313\", \"129314\", \"129315\", \n    \"129316\", \"129317\", \"129318\", \"129319\", \"129320\", \"129321\", \n    \"129322\", \"129323\", \"129324\", \"129325\", \"129326\", \"129327\", \n    \"129328\", \"129329\", \"129330\", \"129331\", \"129332\", \"129333\", \n    \"129334\", \"129335\", \"129336\", \"129337\", \"129338\", \"129339\", \n    \"129340\", \"129341\", \"129342\", \"129343\", \"129344\", \"129345\", \n    \"129346\", \"129347\", \"129348\", \"129349\", \"129350\", \"129351\", \n    \"129352\", \"129353\", \"129354\", \"129355\", \"129356\", \"129357\", \n    \"129358\", \"129359\", \"129360\", \"129361\", \"129362\", \"129363\", \n    \"129364\", \"129365\", \"129366\", \"129367\", \"129368\", \"129369\", \n    \"129370\", \"129371\", \"129372\", \"129373\", \"129374\", \"129375\", \n    \"129376\", \"129377\", \"129378\", \"129379\", \"129380\", \"129381\", \n    \"129382\", \"129383\", \"129384\", \"129385\", \"129386\", \"129387\", \n    \"129388\", \"129389\", \"129390\", \"129391\", \"129392\", \"129393\", \n    \"129394\", \"129395\", \"129396\", \"129397\", \"129398\", \"129399\", \n    \"129400\", \"129401\", \"129402\", \"129403\", \"129404\", \"129405\", \n    \"129406\", \"129407\", \"129408\", \"129409\", \"129410\", \"129411\", \n    \"129412\", \"129413\", \"129414\", \"129415\", \"129416\", \"129417\", \n    \"129418\", \"129419\", \"129420\", \"129421\", \"129422\", \"129423\", \n    \"129424\", \"129425\", \"129426\", \"129427\")))\n\nDeviance Residuals: \n    Min       1Q   Median       3Q      Max  \n-2.6739  -0.9538  -0.8628   1.3745   1.5767  \n\nCoefficients:\n                     Estimate Std. Error z value Pr(>|z|)    \n(Intercept)          -0.45237    0.01670 -27.093  < 2e-16 ***\ngendermale            0.10614    0.01255   8.455  < 2e-16 ***\nyear2019             -0.13848    0.01936  -7.152 8.56e-13 ***\nyear2020             -0.18649    0.01919  -9.720  < 2e-16 ***\nyear2021             -0.34237    0.01880 -18.214  < 2e-16 ***\nyear2022             -0.43116    0.02113 -20.401  < 2e-16 ***\nopenaccess_statusYES -0.01907    0.01368  -1.394    0.163    \nbin_loc1              2.04747    0.02494  82.109  < 2e-16 ***\nbin_int1              1.84512    0.02918  63.239  < 2e-16 ***\n---\nSignif. codes:  0 ‘***’ 0.001 ‘**’ 0.01 ‘*’ 0.05 ‘.’ 0.1 ‘ ’ 1\n\n(Dispersion parameter for binomial family taken to be 1)\n\n    Null deviance: 177256  on 129427  degrees of freedom\nResidual deviance: 156691  on 129419  degrees of freedom\nAIC: 156709\n\nNumber of Fisher Scoring iterations: 4\n\n\n"
     ]
    }
   ],
   "source": [
    "##testing\n",
    "def domaind(a):\n",
    "\n",
    "  gender = []\n",
    "  \n",
    "  for ind in a.index:\n",
    "    if a['cor_gender'][ind] == 'female' or a['cor_gender'][ind] == 'f' or a['cor_gender'][ind] == 'F':\n",
    "      gender.append(\"female\")\n",
    "    else:\n",
    "      gender.append(\"male\") \n",
    "\n",
    "  a['gender'] = gender\n",
    "  a['srcid'] = a['srcid'].astype(str)\n",
    "  return a\n",
    "\n",
    "new = sep.copy()\n",
    "new = new.drop(columns=['cor_au1'], axis = 1)\n",
    "q1 = t['SJR'].quantile(0.25)\n",
    "q2 = t['SJR'].quantile(0.50)\n",
    "q3 = t['SJR'].quantile(0.75)\n",
    "\n",
    "q = []\n",
    "for ind in new.index:\n",
    "  if new['SJR'][ind] <= q1:\n",
    "    q.append(0)\n",
    "  elif new['SJR'][ind] > q1 and new['SJR'][ind] <= q2:\n",
    "    q.append(1)\n",
    "  elif new['SJR'][ind] > q2 and new['SJR'][ind] <= q3:\n",
    "    q.append(2)\n",
    "  else:\n",
    "    q.append(3)\n",
    "new['q'] = q\n",
    "\n",
    "\n",
    "\n",
    "a = domaind(new) #sig - loc (men less likely), nat (men more likely), sp (men more likely) ##int - insig\n",
    "\n",
    "\n",
    "\n",
    "with localconverter(ro.default_converter + pandas2ri.converter):\n",
    "  tst_df = ro.conversion.py2rpy(a)\n",
    "\n",
    "col_2_index = list(tst_df.colnames).index('gender')\n",
    "col_2 = ro.vectors.FactorVector(tst_df.rx2('gender'))\n",
    "tst_df[col_2_index] = col_2\n",
    "\n",
    "col_2_index = list(tst_df.colnames).index('q')\n",
    "col_2 = ro.vectors.FactorVector(tst_df.rx2('q'))\n",
    "tst_df[col_2_index] = col_2\n",
    "\n",
    "col_2_index = list(tst_df.colnames).index('Field_English')\n",
    "col_2 = ro.vectors.FactorVector(tst_df.rx2('Field_English'))\n",
    "tst_df[col_2_index] = col_2\n",
    "\n",
    "col_2_index = list(tst_df.colnames).index('SubField_English')\n",
    "col_2 = ro.vectors.FactorVector(tst_df.rx2('SubField_English'))\n",
    "tst_df[col_2_index] = col_2\n",
    "\n",
    "col_2_index = list(tst_df.colnames).index('Domain_English')\n",
    "col_2 = ro.vectors.FactorVector(tst_df.rx2('Domain_English'))\n",
    "tst_df[col_2_index] = col_2\n",
    "\n",
    "col_2_index = list(tst_df.colnames).index('year')\n",
    "col_2 = ro.vectors.FactorVector(tst_df.rx2('year'))\n",
    "tst_df[col_2_index] = col_2\n",
    "\n",
    "col_2_index = list(tst_df.colnames).index('openaccess_status')\n",
    "col_2 = ro.vectors.FactorVector(tst_df.rx2('openaccess_status'))\n",
    "tst_df[col_2_index] = col_2\n",
    "\n",
    "col_2_index = list(tst_df.colnames).index('bin_loc')\n",
    "col_2 = ro.vectors.FactorVector(tst_df.rx2('bin_loc'))\n",
    "tst_df[col_2_index] = col_2\n",
    "\n",
    "col_2_index = list(tst_df.colnames).index('bin_int')\n",
    "col_2 = ro.vectors.FactorVector(tst_df.rx2('bin_int'))\n",
    "tst_df[col_2_index] = col_2\n",
    "\n",
    "\n",
    "\n",
    "#print(tst_df)\n",
    "\n",
    "model = stats.glm(\"bin_nat ~ gender+year+openaccess_status+bin_loc+bin_int\",data=tst_df,family=ro.r('binomial(link=\"logit\")'))  #,family=ro('binomial(link=\"logit\")') #family=ro.r('binomial')\n",
    "print(base.summary(model))"
   ]
  },
  {
   "cell_type": "code",
   "execution_count": 0,
   "metadata": {
    "application/vnd.databricks.v1+cell": {
     "cellMetadata": {
      "byteLimit": 2048000,
      "rowLimit": 10000
     },
     "inputWidgets": {},
     "nuid": "28ac5f31-46e2-4a7a-89a1-d4b00dcf9176",
     "showTitle": false,
     "title": ""
    }
   },
   "outputs": [
    {
     "output_type": "stream",
     "name": "stdout",
     "output_type": "stream",
     "text": [
      "1014175\n23670\n<command-1555446617251788>:12: SettingWithCopyWarning: \nA value is trying to be set on a copy of a slice from a DataFrame.\nTry using .loc[row_indexer,col_indexer] = value instead\n\nSee the caveats in the documentation: https://pandas.pydata.org/pandas-docs/stable/user_guide/indexing.html#returning-a-view-versus-a-copy\n  a['gender'] = gender\n<command-1555446617251788>:13: SettingWithCopyWarning: \nA value is trying to be set on a copy of a slice from a DataFrame.\nTry using .loc[row_indexer,col_indexer] = value instead\n\nSee the caveats in the documentation: https://pandas.pydata.org/pandas-docs/stable/user_guide/indexing.html#returning-a-view-versus-a-copy\n  a['srcid'] = a['srcid'].astype(str)\n\nCall:\n(function (formula, family = gaussian, data, weights, subset, \n    na.action, start = NULL, etastart, mustart, offset, control = list(...), \n    model = TRUE, method = \"glm.fit\", x = FALSE, y = TRUE, singular.ok = TRUE, \n    contrasts = NULL, ...) \n{\n    cal <- match.call()\n    if (is.character(family)) \n        family <- get(family, mode = \"function\", envir = parent.frame())\n    if (is.function(family)) \n        family <- family()\n    if (is.null(family$family)) {\n        print(family)\n        stop(\"'family' not recognized\")\n    }\n    if (missing(data)) \n        data <- environment(formula)\n    mf <- match.call(expand.dots = FALSE)\n    m <- match(c(\"formula\", \"data\", \"subset\", \"weights\", \"na.action\", \n        \"etastart\", \"mustart\", \"offset\"), names(mf), 0L)\n    mf <- mf[c(1L, m)]\n    mf$drop.unused.levels <- TRUE\n    mf[[1L]] <- quote(stats::model.frame)\n    mf <- eval(mf, parent.frame())\n    if (identical(method, \"model.frame\")) \n        return(mf)\n    if (!is.character(method) && !is.function(method)) \n        stop(\"invalid 'method' argument\")\n    if (identical(method, \"glm.fit\")) \n        control <- do.call(\"glm.control\", control)\n    mt <- attr(mf, \"terms\")\n    Y <- model.response(mf, \"any\")\n    if (length(dim(Y)) == 1L) {\n        nm <- rownames(Y)\n        dim(Y) <- NULL\n        if (!is.null(nm)) \n            names(Y) <- nm\n    }\n    X <- if (!is.empty.model(mt)) \n        model.matrix(mt, mf, contrasts)\n    else matrix(, NROW(Y), 0L)\n    weights <- as.vector(model.weights(mf))\n    if (!is.null(weights) && !is.numeric(weights)) \n        stop(\"'weights' must be a numeric vector\")\n    if (!is.null(weights) && any(weights < 0)) \n        stop(\"negative weights not allowed\")\n    offset <- as.vector(model.offset(mf))\n    if (!is.null(offset)) {\n        if (length(offset) != NROW(Y)) \n            stop(gettextf(\"number of offsets is %d should equal %d (number of observations)\", \n                length(offset), NROW(Y)), domain = NA)\n    }\n    mustart <- model.extract(mf, \"mustart\")\n    etastart <- model.extract(mf, \"etastart\")\n    fit <- eval(call(if (is.function(method)) \"method\" else method, \n        x = X, y = Y, weights = weights, start = start, etastart = etastart, \n        mustart = mustart, offset = offset, family = family, \n        control = control, intercept = attr(mt, \"intercept\") > \n            0L, singular.ok = singular.ok))\n    if (length(offset) && attr(mt, \"intercept\") > 0L) {\n        fit2 <- eval(call(if (is.function(method)) \"method\" else method, \n            x = X[, \"(Intercept)\", drop = FALSE], y = Y, mustart = fit$fitted.values, \n            weights = weights, offset = offset, family = family, \n            control = control, intercept = TRUE))\n        if (!fit2$converged) \n            warning(\"fitting to calculate the null deviance did not converge -- increase 'maxit'?\")\n        fit$null.deviance <- fit2$deviance\n    }\n    if (model) \n        fit$model <- mf\n    fit$na.action <- attr(mf, \"na.action\")\n    if (x) \n        fit$x <- X\n    if (!y) \n        fit$y <- NULL\n    structure(c(fit, list(call = cal, formula = formula, terms = mt, \n        data = data, offset = offset, control = control, method = method, \n        contrasts = attr(X, \"contrasts\"), xlevels = .getXlevels(mt, \n            mf))), class = c(fit$class, c(\"glm\", \"lm\")))\n})(formula = \"bin_loc ~ gender+Field_English+year+bin_nat+bin_int+openaccess_status\", \n    family = structure(list(family = \"binomial\", link = \"logit\", \n        linkfun = function (mu) \n        .Call(C_logit_link, mu), linkinv = function (eta) \n        .Call(C_logit_linkinv, eta), variance = function (mu) \n        mu * (1 - mu), dev.resids = function (y, mu, wt) \n        .Call(C_binomial_dev_resids, y, mu, wt), aic = function (y, \n            n, mu, wt, dev) \n        {\n            m <- if (any(n > 1)) \n                n\n            else wt\n            -2 * sum(ifelse(m > 0, (wt/m), 0) * dbinom(round(m * \n                y), round(m), mu, log = TRUE))\n        }, mu.eta = function (eta) \n        .Call(C_logit_mu_eta, eta), initialize = {\n            if (NCOL(y) == 1) {\n                if (is.factor(y)) \n                  y <- y != levels(y)[1L]\n                n <- rep.int(1, nobs)\n                y[weights == 0] <- 0\n                if (any(y < 0 | y > 1)) \n                  stop(\"y values must be 0 <= y <= 1\")\n                mustart <- (weights * y + 0.5)/(weights + 1)\n                m <- weights * y\n                if (\"binomial\" == \"binomial\" && any(abs(m - round(m)) > \n                  0.001)) \n                  warning(gettextf(\"non-integer #successes in a %s glm!\", \n                    \"binomial\"), domain = NA)\n            }\n            else if (NCOL(y) == 2) {\n                if (\"binomial\" == \"binomial\" && any(abs(y - round(y)) > \n                  0.001)) \n                  warning(gettextf(\"non-integer counts in a %s glm!\", \n                    \"binomial\"), domain = NA)\n                n <- (y1 <- y[, 1L]) + y[, 2L]\n                y <- y1/n\n                if (any(n0 <- n == 0)) \n                  y[n0] <- 0\n                weights <- weights * n\n                mustart <- (n * y + 0.5)/(n + 1)\n            }\n            else stop(gettextf(\"for the '%s' family, y must be a vector of 0 and 1's\\nor a 2 column matrix where col 1 is no. successes and col 2 is no. failures\", \n                \"binomial\"), domain = NA)\n        }, validmu = function (mu) \n        all(is.finite(mu)) && all(mu > 0 & mu < 1), valideta = function (eta) \n        TRUE, simulate = function (object, nsim) \n        {\n            ftd <- fitted(object)\n            n <- length(ftd)\n            ntot <- n * nsim\n            wts <- object$prior.weights\n            if (any(wts%%1 != 0)) \n                stop(\"cannot simulate from non-integer prior.weights\")\n            if (!is.null(m <- object$model)) {\n                y <- model.response(m)\n                if (is.factor(y)) {\n                  yy <- factor(1 + rbinom(ntot, size = 1, prob = ftd), \n                    labels = levels(y))\n                  split(yy, rep(seq_len(nsim), each = n))\n                }\n                else if (is.matrix(y) && ncol(y) == 2) {\n                  yy <- vector(\"list\", nsim)\n                  for (i in seq_len(nsim)) {\n                    Y <- rbinom(n, size = wts, prob = ftd)\n                    YY <- cbind(Y, wts - Y)\n                    colnames(YY) <- colnames(y)\n                    yy[[i]] <- YY\n                  }\n                  yy\n                }\n                else rbinom(ntot, size = wts, prob = ftd)/wts\n            }\n            else rbinom(ntot, size = wts, prob = ftd)/wts\n        }), class = \"family\"), data = structure(list(doi = c(\"10.1038/s42003-022-03334-8\", \n    \"10.1016/j.icarus.2021.114594\", \"10.1038/s41558-022-01426-1\", \n    \"10.1038/s41586-022-04788-w\", \"10.1126/science.aaw1313\", \n    \"10.1073/pnas.1920849117\", \"10.1038/s41558-022-01290-z\", \n    \"10.1016/j.cub.2021.03.103\", \"10.1021/acs.jnatprod.1c00946\", \n    \"10.1038/s41467-022-28764-0\", \"10.1038/s41586-021-03596-y\", \n    \"10.1038/s41586-022-04664-7\", \"10.1038/s41550-020-1198-9\", \n    \"10.1126/science.aaz9600\", \"10.1021/acs.estlett.1c00240\", \n    \"10.1038/s41559-019-1027-7\", \"10.1038/s41467-021-21849-2\", \n    \"10.1038/s41467-022-28333-5\", \"10.1073/pnas.2013284118\", \n    \"10.1073/pnas.1916631117\", \"10.1126/sciadv.abd0288\", \"10.1126/sciadv.abg3080\", \n    \"10.1126/sciadv.aav1784\", \"10.1126/science.abk2793\", \"10.1038/s41562-021-01267-6\", \n    \"10.1038/s41598-021-82320-2\", \"10.1038/s41467-022-29379-1\", \n    \"10.1001/jama.2021.5469\", \"10.1038/s41467-019-08471-z\", \"10.1002/jwmg.22177\", \n    \"10.1126/science.abe7389\", \"10.1038/s41561-022-01019-9\", \n    \"10.1126/science.abf1396\", \"10.1038/s41558-019-0632-4\", \"10.1016/j.cub.2021.04.067\", \n    \"10.1126/sciadv.abf4491\", \"10.1038/s41586-022-04449-y\", \"10.1073/pnas.2101084119\", \n    \"10.1126/sciadv.aat0131\", \"10.1038/s41467-022-29458-3\", \"10.1073/pnas.1812883116\", \n    \"10.1073/pnas.2115329119\", \"10.1038/s41558-021-01077-8\", \n    \"10.1126/science.aar7204\", \"10.1126/sciadv.abq0995\", \"10.1126/science.abk1781\", \n    \"10.1038/s41467-021-22838-1\", \"10.1038/s41467-021-22799-5\", \n    \"10.1126/science.abi9167\", \"10.1073/pnas.1817407116\", \"10.1038/nature25767\", \n    \"10.1038/s41558-018-0222-x\", \"10.1021/acs.est.1c04707\", \"10.1073/pnas.1718804115\", \n    \"10.1038/s41550-021-01495-w\", \"10.1038/s43016-021-00343-4\", \n    \"10.1038/s41586-019-1720-3\", \"10.1126/science.abe9039\", \"10.1111/faf.12525\", \n    \"10.1088/1748-9326/abfba1\", \"10.1038/s41586-021-04281-w\", \n    \"10.1038/s41467-021-22079-2\", \"10.1126/sciadv.abe0166\", \"10.1038/s43016-021-00358-x\", \n    \"10.1098/rspb.2019.2736\", \"10.1038/s41586-021-03550-y\", \"10.1126/sciadv.aaw1838\", \n    \"10.1126/science.aaq0524\", \"10.1111/gcb.15806\", \"10.1073/pnas.1718850115\", \n    \"10.1126/science.abc5810\", \"10.1016/j.cub.2020.01.071\", \"10.1038/s41598-021-02447-0\", \n    \"10.1038/s41550-018-0450-z\", \"10.1038/s41586-022-04770-6\", \n    \"10.1038/s41586-018-0158-3\", \"10.1126/sciadv.aax6250\", \"10.1038/s41586-018-0106-2\", \n    \"10.2138/am-2022-8099\", \"10.1073/pnas.1818859116\", \"10.1088/1748-9326/ab83a7\", \n    \"10.1016/j.cub.2017.11.057\", \"10.1038/s41550-019-0917-6\", \n    \"10.1126/sciadv.abn9493\", \"10.1007/s10584-022-03387-y\", \"10.1038/s43017-021-00219-y\", \n    \"10.1038/s41467-021-23377-5\", \"10.1038/s41550-018-0430-3\", \n    \"10.1038/s41586-020-2377-7\", \"10.1016/j.cub.2019.11.067\", \n    \"10.1073/pnas.2025919118\", \"10.3847/2041-8213/ac1f95\", \"10.1093/mnrasl/slac035\", \n    \"10.1038/s41467-019-11297-4\", \"10.1038/s41561-019-0458-8\", \n    \"10.1073/pnas.1802345115\", \"10.1126/sciadv.abm0320\", \"10.1126/sciadv.aba1940\", \n    \"10.1038/s43016-022-00573-0\", \"10.1073/pnas.2020778118\", \n    \"10.1038/s41467-022-29056-3\", \"10.1073/pnas.1717312115\", \n    \"10.1080/14772019.2021.1924301\", \"10.1038/s41561-019-0362-2\", \n    \"10.1126/science.aaw7912\", \"10.1001/jamanetworkopen.2020.7551\", \n    \"10.1038/s41550-022-01634-x\", \"10.1038/s41559-020-1122-9\", \n    \"10.1126/science.aan8677\", \"10.1038/s41586-018-0752-4\", \"10.1038/s41550-021-01384-2\", \n    \"10.1038/s41559-019-0888-0\", \"10.1126/science.aaz5819\", \"10.1111/gcb.14864\", \n    \"10.1038/s41586-021-03371-z\", \"10.1038/s41550-019-0977-7\", \n    \"10.1126/science.abm0151\", \"10.1073/pnas.1904573117\", \"10.1073/pnas.1906556116\", \n    \"10.1126/science.aar5629\", \"10.1038/s41550-019-0813-0\", \"10.1038/s41586-022-05224-9\", \n    \"10.1073/pnas.1913007117\", \"10.1016/j.gecco.2020.e01371\", \n    \"10.1371/journal.pone.0242668\", \"10.1111/aje.12586\", \"10.3897/zookeys.1096.73485\", \n    \"10.1126/science.aar7121\", \"10.1073/pnas.1917204117\", \"10.1038/s41586-018-0053-y\", \n    \"10.1126/science.aao1619\", \"10.1038/s41550-018-0529-6\", \"10.1021/acs.est.2c01583\", \n    \"10.1038/s41586-018-0646-5\", \"10.1038/s41598-018-22313-w\", \n    \"10.1038/s41550-021-01539-1\", \"10.1073/pnas.2107402118\", \n    \"10.1038/s41598-020-61480-7\", \"10.1038/s41586-021-03667-0\", \n    \"10.1126/sciadv.aau3669\", \"10.1016/j.envint.2020.105668\", \n    \"10.3897/zookeys.928.47517\", \"10.1007/s00227-022-04090-3\", \n    \"10.1126/sciadv.aaq1012\", \"10.1038/s41550-018-0405-4\", \"10.1371/journal.pone.0226087\", \n    \"10.1038/s41586-019-1513-8\", \"10.1111/ele.13434\", \"10.3847/1538-4357/ac723a\", \n    \"10.1038/s41586-021-03860-1\", \"10.1111/maps.13653\", \"10.1038/s41559-017-0431-0\", \n    \"10.1073/pnas.2123516119\", \"10.1038/s41561-022-00971-w\", \n    \"10.1038/s41598-020-59528-9\", \"10.1038/s41586-021-03991-5\", \n    \"10.1016/j.biocon.2018.08.012\", \"10.1111/brv.12816\", \"10.1073/pnas.1722477115\", \n    \"10.1098/rsbl.2018.0056\", \"10.1038/s41467-022-29818-z\", \"10.1080/02724634.2020.1767638\", \n    \"10.1126/sciadv.aat3272\", \"10.1126/science.aar3320\", \"10.1126/science.aao5646\", \n    \"10.1126/science.aat3466\", \"10.1016/j.icarus.2021.114872\", \n    \"10.1038/s41586-021-03427-0\", \"10.1021/acs.est.1c08298\", \n    \"10.1038/nature25792\", \"10.1126/sciadv.abe2101\", \"10.1038/s41893-019-0220-7\", \n    \"10.1126/science.aax9044\", \"10.1073/pnas.1816541116\", \"10.1038/s41586-020-2234-8\", \n    \"10.1073/pnas.1908253116\", \"10.1038/nature25029\", \"10.1038/s41586-020-2713-y\", \n    \"10.1038/s41467-019-11690-z\", \"10.1038/s41370-021-00366-w\", \n    \"10.1111/phen.12385\", \"10.1038/s41598-021-97778-3\", \"10.1126/science.abc7717\", \n    \"10.1038/s41586-018-0673-2\", \"10.1098/rstb.2019.0296\", \"10.1126/science.abk3510\", \n    \"10.1038/s41598-022-13402-y\", \"10.1126/science.aax3528\", \n    \"10.1038/s41612-022-00230-0\", \"10.1073/pnas.2119194119\", \n    \"10.1007/s00126-020-00956-y\", \"10.1038/s41467-018-02992-9\", \n    \"10.1080/02724634.2019.1570222\", \"10.1126/science.abb9772\", \n    \"10.1126/science.abm1742\", \"10.1016/j.exis.2020.04.011\", \n    \"10.1016/j.cub.2021.01.048\", \"10.1073/pnas.1904242116\", \"10.1038/s41586-020-1991-8\", \n    \"10.1038/s41586-020-2487-2\", \"10.3897/zookeys.1036.62034\", \n    \"10.1038/s41586-022-04737-7\", \"10.1038/s41467-019-08457-x\", \n    \"10.1126/science.aam7240\", \"10.1038/s41586-021-03805-8\", \n    \"10.1111/1752-1688.12937\", \"10.1038/s41586-020-2412-8\", \"10.1038/s41550-021-01363-7\", \n    \"10.1073/pnas.2023251118\", \"10.1016/j.icarus.2018.08.026\", \n    \"10.1038/s41586-021-03695-w\", \"10.1126/science.aat9077\", \n    \"10.1088/1748-9326/ac2966\", \"10.1038/s41598-019-44296-y\", \n    \"10.1126/science.aaz9463\", \"10.1073/pnas.2101155118\", \"10.1038/s41893-021-00691-w\", \n    \"10.1371/journal.pone.0210831\", \"10.1126/sciadv.abf0068\", \n    \"10.1038/s41467-020-19183-0\", \"10.1126/sciadv.abk1743\", \"10.1038/s41586-018-0334-5\", \n    \"10.1126/sciadv.aao5747\", \"10.1038/s41612-018-0012-1\", \"10.1038/s41561-019-0510-8\", \n    \"10.3847/1538-3881/abc418\", \"10.1126/sciadv.abc5439\", \"10.1038/s41558-018-0315-6\", \n    \"10.3390/fire3030050\", \"10.1038/s41586-020-2780-0\", \"10.1126/science.abg1134\", \n    \"10.1038/s41612-018-0048-2\", \"10.1038/s41561-020-0544-y\", \n    \"10.1073/pnas.2117832119\", \"10.1126/science.abf1772\", \"10.1038/s41586-018-0651-8\", \n    \"10.1126/science.aao2216\", \"10.1126/science.aaq0131\", \"10.1073/pnas.1912506117\", \n    \"10.1126/sciadv.aau7042\", \"10.1038/s41586-020-2190-3\", \"10.1073/pnas.2006323117\", \n    \"10.1126/science.abg7905\", \"10.1002/lol2.10181\", \"10.3389/fevo.2021.758374\", \n    \"10.1016/j.cub.2020.06.044\", \"10.1126/science.aaz3549\", \"10.1111/mms.12776\", \n    \"10.1126/science.abq2299\", \"10.1038/s41561-020-0538-9\", \"10.1098/rsos.171332\", \n    \"10.1038/s41561-019-0310-1\", \"10.1038/s41586-020-2617-x\", \n    \"10.1126/science.aav8137\", \"10.1126/science.abe8116\", \"10.1038/s41598-022-10485-5\", \n    \"10.1038/s41467-019-08540-3\", \"10.1038/s41586-022-04599-z\", \n    \"10.7717/peerj.9652\", \"10.1785/0220170154\", \"10.1016/j.cub.2018.06.010\", \n    \"10.1016/j.cub.2020.11.011\", \"10.1038/s41559-021-01401-7\", \n    \"10.1126/sciadv.aao5017\", \"10.1016/j.agsy.2018.02.003\", \"10.1038/s41598-019-39356-2\", \n    \"10.1126/science.abg3651\", \"10.1016/j.cub.2021.05.041\", \"10.1073/pnas.2115651119\", \n    \"10.1016/j.cub.2020.09.048\", \"10.1038/s43016-021-00400-y\", \n    \"10.1038/s41467-020-18398-5\", \"10.1016/j.envres.2021.111872\", \n    \"10.1126/science.aas9185\", \"10.1126/science.aat1327\", \"10.1126/science.abm3301\", \n    \"10.1093/biosci/biy063\", \"10.1088/1748-9326/ab2da8\", \"10.1021/acs.estlett.1c00877\", \n    \"10.1038/s41586-018-0123-1\", \"10.1126/science.abo2196\", \"10.1038/s41550-017-0374-z\", \n    \"10.1038/s41586-019-1364-3\", \"10.1086/703418\", \"10.1371/journal.pone.0200574\", \n    \"10.1038/s41586-022-05133-x\", \"10.3389/fevo.2019.00480\", \n    \"10.1126/sciadv.aay5478\", \"10.1089/ast.2017.1783\", \"10.1038/s41598-020-75248-6\", \n    \"10.1016/j.icarus.2018.10.027\", \"10.1126/sciadv.abo6342\", \n    \"10.1088/1748-9326/ac1bd8\", \"10.1073/pnas.2002722117\", \"10.1021/acs.estlett.1c00559\", \n    \"10.1002/eap.2339\", \"10.1126/sciadv.aaw2869\", \"10.1088/1748-9326/aabb32\", \n    \"10.1021/acs.est.2c02111\", \"10.1126/science.abo7063\", \"10.1126/science.aat0738\", \n    \"10.3847/1538-4357/abde3d\", \"10.1016/j.gsf.2021.101245\", \n    \"10.1073/pnas.1913093116\", \"10.1038/s41586-020-2742-6\", \"10.1002/adma.201703257\", \n    \"10.1016/j.cub.2021.07.043\", \"10.1126/science.abl4784\", \"10.1126/sciadv.aau3433\", \n    \"10.1073/pnas.1909479116\", \"10.1111/gbi.12369\", \"10.1126/science.aan5360\", \n    \"10.1126/sciadv.aap9741\", \"10.1073/pnas.1901084116\", \"10.1007/s42991-021-00177-4\", \n    \"10.1126/sciadv.aap8368\", \"10.1098/rsos.211729\", \"10.3389/fevo.2019.00258\", \n    \"10.1021/acs.est.1c05175\", \"10.1126/science.aao5987\", \"10.1038/s41559-019-0951-x\", \n    \"10.11646/zootaxa.4619.1.4\", \"10.1126/science.abn2600\", \"10.1016/j.cub.2021.01.034\", \n    \"10.1038/s41586-021-04286-5\", \"10.1007/s40572-018-0206-z\", \n    \"10.1126/science.aas9315\", \"10.1016/j.cub.2019.05.076\", \"10.3847/2041-8213/ac8007\", \n    \"10.1038/s41558-020-00976-6\", \"10.1038/s41612-019-0074-8\", \n    \"10.1038/s41586-020-2801-z\", \"10.1126/sciadv.abm8475\", \"10.1038/s41586-021-03804-9\", \n    \"10.1073/pnas.1806562116\", \"10.1073/pnas.2013637118\", \"10.1126/science.aaw6888\", \n    \"10.1073/pnas.2001045117\", \"10.1126/sciadv.aat1613\", \"10.1089/ast.2021.0044\", \n    \"10.1371/journal.pone.0223471\", \"10.1038/s41586-020-2172-5\", \n    \"10.1371/journal.pone.0194970\", \"10.1021/acs.nanolett.1c04722\", \n    \"10.1016/j.envint.2021.106402\", \"10.7717/peerj.13032\", \"10.1038/nature25968\", \n    \"10.1126/sciadv.abm9916\", \"10.1126/science.aap8525\", \"10.1016/j.resconrec.2022.106363\", \n    \"10.1038/s41586-018-0610-4\", \"10.1038/s41467-022-31522-x\", \n    \"10.1371/journal.pone.0220029\", \"10.1126/science.abd6951\", \n    \"10.1126/science.abl8568\", \"10.1038/s41550-019-0928-3\", \"10.1126/sciadv.aaq0030\", \n    \"10.1098/rspb.2018.1292\", \"10.1038/s41598-020-66008-7\", \"10.1038/s41467-021-27188-6\", \n    \"10.1038/s41557-021-00820-0\", \"10.1073/pnas.1712629115\", \n    \"10.1126/sciadv.aax7445\", \"10.1126/science.abg6037\", \"10.1038/s41586-021-03615-y\", \n    \"10.1073/pnas.2020719118\", \"10.1126/sciadv.aav9396\", \"10.1038/s41558-019-0637-z\", \n    \"10.3847/1538-4357/ac224f\", \"10.1038/s41586-019-0909-9\", \n    \"10.1371/journal.pone.0196127\", \"10.3847/2041-8213/ac7235\", \n    \"10.1038/s41558-018-0149-2\", \"10.1038/s41550-021-01448-3\", \n    \"10.1086/696124\", \"10.1038/s41586-021-04349-7\", \"10.1126/sciadv.abl8731\", \n    \"10.1016/j.jhevol.2019.05.011\", \"10.1038/s41561-018-0243-0\", \n    \"10.1073/pnas.2118329119\", \"10.1016/j.icarus.2021.114768\", \n    \"10.1038/s41586-021-04325-1\", \"10.3847/1538-3881/ac415b\", \n    \"10.1016/j.resconrec.2019.04.008\", \"10.1038/s41586-020-1983-8\", \n    \"10.1021/acs.est.1c06768\", \"10.1038/s41550-019-0933-6\", \"10.1073/pnas.2200539119\", \n    \"10.1038/s41561-021-00859-1\", \"10.1088/1748-9326/aaf303\", \n    \"10.1093/mnrasl/slaa161\", \"10.3847/1538-3881/ac87fd\", \"10.1038/s41467-018-04962-7\", \n    \"10.1073/pnas.2207612119\", \"10.1088/1361-6382/abdf6e\", \"10.1038/s41561-019-0329-3\", \n    \"10.1073/pnas.2021442118\", \"10.1073/pnas.2014166117\", \"10.1126/science.aay5055\", \n    \"10.7717/peerj.4565\", \"10.1038/s41598-020-78858-2\", \"10.1038/s41550-020-01248-1\", \n    \"10.1073/pnas.1809600115\", \"10.1371/journal.pone.0227699\", \n    \"10.3389/fevo.2021.742639\", \"10.1016/j.cub.2020.06.106\", \n    \"10.1038/s41586-019-1497-4\", \"10.1007/s11692-022-09573-1\", \n    \"10.1038/s41561-021-00761-w\", \"10.1515/mammalia-2020-0027\", \n    \"10.1126/science.aat0985\", \"10.1038/s41586-020-2346-1\", \"10.1038/s41467-020-20871-0\", \n    \"10.1038/s41586-022-04990-w\", \"10.1073/pnas.1717689115\", \n    \"10.1126/science.abc1338\", \"10.1093/beheco/araa111\", \"10.1371/journal.pone.0239531\", \n    \"10.1021/acs.estlett.1c01012\", \"10.1371/journal.pone.0216532\", \n    \"10.1073/pnas.1920012117\", \"10.1016/j.icarus.2019.113526\", \n    \"10.1007/s10329-021-00890-1\", \"10.1038/s41586-020-2872-x\", \n    \"10.1016/j.cub.2020.11.050\", \"10.1089/ast.2017.1727\", \"10.1073/pnas.2123536119\", \n    \"10.1038/s42003-019-0308-7\", \"10.1073/pnas.1905989116\", \"10.1038/s41370-022-00442-9\", \n    \"10.1016/j.matt.2019.05.010\", \"10.1126/science.aav1446\", \n    \"10.1038/s41598-020-64854-z\", \"10.1016/j.cub.2022.04.033\", \n    \"10.1073/pnas.2110889118\", \"10.1073/pnas.1904822116\", \"10.1126/sciadv.aax4631\", \n    \"10.1038/s41598-019-51699-4\", \"10.1073/pnas.2121084119\", \n    \"10.1016/j.icarus.2021.114499\", \"10.1089/ast.2017.1729\", \n    \"10.1007/s10980-020-00995-w\", \"10.1126/sciadv.abq1898\", \"10.1242/jeb.243121\", \n    \"10.3847/2041-8213/ac504b\", \"10.1038/s41467-018-05252-y\", \n    \"10.1038/s41558-020-00958-8\", \"10.1098/rspb.2021.1760\", \"10.1073/pnas.2009717118\", \n    \"10.7717/peerj.6088\", \"10.1073/pnas.2023483118\", \"10.1038/s41558-021-01026-5\", \n    \"10.1126/sciadv.aaz9588\", \"10.1038/s41586-018-0757-z\", \"10.1038/s41586-022-04853-4\", \n    \"10.1126/sciadv.aau2736\", \"10.1126/sciadv.aaw9906\", \"10.1038/s41467-019-08307-w\", \n    \"10.1038/s41558-022-01285-w\", \"10.3390/agronomy8030025\", \n    \"10.1038/s41550-021-01339-7\", \"10.1126/sciadv.abb9785\", \"10.1038/s41586-021-04257-w\", \n    \"10.1126/sciadv.abm4346\", \"10.1016/j.biocon.2020.108596\", \n    \"10.1038/s41567-021-01351-8\", \"10.3389/fpls.2020.601316\", \n    \"10.1126/sciadv.aay4109\", \"10.1038/s41559-022-01723-0\", \"10.1038/s42003-020-01207-6\", \n    \"10.1016/j.biocon.2018.01.025\", \"10.1038/s41558-019-0398-8\", \n    \"10.1073/pnas.1713139115\", \"10.1038/s41586-019-1813-z\", \"10.1038/s41586-020-2534-z\", \n    \"10.1038/s41550-020-1087-2\", \"10.1038/s41598-021-94872-4\", \n    \"10.1038/s41561-021-00753-w\", \"10.1126/sciadv.aaw7123\", \"10.1038/s41598-020-75665-7\", \n    \"10.1002/fee.2149\", \"10.1126/sciadv.aao2994\", \"10.1038/s41586-022-04528-0\", \n    \"10.1038/s41557-019-0249-2\", \"10.1016/j.tplants.2020.07.013\", \n    \"10.1073/pnas.1711234115\", \"10.1086/695703\", \"10.1016/j.envint.2018.03.008\", \n    \"10.1038/s41598-018-22258-0\", \"10.1016/j.scitotenv.2020.136610\", \n    \"10.1038/s41598-019-40765-6\", \"10.1038/s41467-021-23853-y\", \n    \"10.1126/science.abb0943\", \"10.1016/j.biocon.2019.108259\", \n    \"10.1126/science.aay2268\", \"10.1098/rsos.190368\", \"10.1088/1748-9326/abb266\", \n    \"10.1126/science.aau4005\", \"10.1038/s41586-020-2120-4\", \"10.1038/s41550-020-1069-4\", \n    \"10.1126/sciadv.abi7647\", \"10.1038/s41586-018-0738-2\", \"10.1038/s41586-018-0352-3\", \n    \"10.1038/s41561-022-00961-y\", \"10.1038/s41598-020-60867-w\", \n    \"10.1111/conl.12595\", \"10.1073/pnas.1818371116\", \"10.1016/j.marpolbul.2019.01.013\", \n    \"10.1038/s41467-018-05501-0\", \"10.1021/acsphotonics.9b00679\", \n    \"10.1073/pnas.1920875117\", \"10.1126/science.aat1598\", \"10.1089/ast.2018.1902\", \n    \"10.1175/jamc-d-18-0341.1\", \"10.1073/pnas.2105804118\", \"10.1051/0004-6361/201937201\", \n    \"10.3847/1538-4357/ac5e9d\", \"10.1007/s00300-020-02675-6\", \n    \"10.1038/s41586-019-1514-7\", \"10.1038/s41598-019-56010-z\", \n    \"10.1038/s41467-017-02699-3\", \"10.1007/s12526-018-0849-x\", \n    \"10.1038/nature26160\", \"10.1038/s41561-019-0345-3\", \"10.1007/s00227-019-3538-9\", \n    \"10.1121/1.5111338\", \"10.3897/phytokeys.194.79638\", \"10.1038/s41550-020-1095-2\", \n    \"10.1073/pnas.2103400119\", \"10.1016/j.matlet.2018.02.080\", \n    \"10.3389/fspas.2022.868519\", \"10.1126/science.aao2200\", \"10.1016/j.joule.2022.05.011\", \n    \"10.1073/pnas.1900325116\", \"10.1073/pnas.2114558119\", \"10.1021/acs.est.9b02527\", \n    \"10.1038/s41586-018-0676-z\", \"10.1016/j.scs.2021.103376\", \n    \"10.1093/mnrasl/slab084\", \"10.1038/s41586-019-1818-7\", \"10.1038/s41467-021-26443-0\", \n    \"10.1038/s41586-021-04215-6\", \"10.1088/2515-7620/ac8cd3\", \n    \"10.1038/s41370-018-0109-y\", \"10.1086/695704\", \"10.1038/s41586-018-0044-z\", \n    \"10.1038/s41586-019-1349-2\", \"10.1016/j.actaastro.2021.07.034\", \n    \"10.1038/nature25967\", \"10.1016/j.scitotenv.2022.155316\", \n    \"10.1371/journal.pone.0226690\", \"10.1038/s41560-021-00970-y\", \n    \"10.1038/s41477-018-0259-x\", \"10.1126/sciadv.abl6529\", \"10.1371/journal.pone.0265382\", \n    \"10.1089/ast.2017.1737\", \"10.1002/eap.2225\", \"10.1016/j.cub.2021.05.040\", \n    \"10.1038/s41550-019-0845-5\", \"10.1088/1748-9326/ac2e6b\", \n    \"10.1038/s41467-021-24262-x\", \"10.1038/s41467-022-31677-7\", \n    \"10.1038/s41586-022-04453-2\", \"10.1098/rsbl.2020.0625\", \"10.1073/pnas.1903421116\", \n    \"10.1126/science.aaz0109\", \"10.1001/jamanetworkopen.2021.45669\", \n    \"10.1073/pnas.1720554115\", \"10.1038/s41893-021-00708-4\", \n    \"10.1016/j.joule.2021.06.004\", \"10.1073/pnas.2021689118\", \n    \"10.1016/j.icarus.2017.11.023\", \"10.1038/s41550-018-0533-x\", \n    \"10.3847/1538-3881/abb316\", \"10.1038/s41598-021-94823-z\", \n    \"10.1038/s41586-019-1149-8\", \"10.1016/j.epsl.2020.116274\", \n    \"10.1038/s41586-019-1648-7\", \"10.1038/s41561-020-0550-0\", \n    \"10.1073/pnas.1721818115\", \"10.1016/j.joule.2018.09.009\", \n    \"10.1126/sciadv.aao3354\", \"10.1126/science.abo4627\", \"10.1038/s418\n\n*** WARNING: max output size exceeded, skipping output. ***\n\n\", \"85730\", \"85735\", \"85738\", \"85743\", \"85744\", \n    \"85747\", \"85748\", \"85750\", \"85753\", \"85759\", \"85761\", \"85762\", \n    \"85764\", \"85770\", \"85771\", \"85773\", \"85778\", \"85782\", \"85783\", \n    \"85784\", \"85789\", \"85790\", \"85791\", \"85793\", \"85794\", \"85796\", \n    \"85797\", \"85798\", \"85800\", \"85803\", \"85808\", \"85809\", \"85810\", \n    \"85813\", \"85814\", \"85818\", \"85824\", \"85825\", \"85826\", \"85830\", \n    \"85834\", \"85835\", \"85842\", \"85843\", \"85846\", \"85847\", \"85852\", \n    \"85853\", \"85855\", \"85856\", \"85857\", \"85858\", \"85863\", \"85865\", \n    \"85868\", \"85870\", \"85872\", \"85873\", \"85878\", \"85880\", \"85881\", \n    \"85882\", \"85883\", \"85886\", \"85887\", \"85890\", \"85895\", \"85897\", \n    \"85898\", \"85903\", \"85924\", \"85926\", \"85929\", \"85930\", \"85931\", \n    \"85936\", \"85938\", \"85945\", \"85948\", \"85949\", \"85954\", \"85956\", \n    \"85957\", \"85959\", \"85961\", \"85964\", \"85969\", \"85971\", \"85972\", \n    \"85974\", \"85976\", \"85979\", \"85983\", \"85984\", \"85994\", \"85998\", \n    \"86001\", \"86008\", \"86010\", \"86019\", \"86028\", \"86033\", \"86034\", \n    \"86035\", \"86036\", \"86040\", \"86042\", \"86043\", \"86045\", \"86046\", \n    \"86047\", \"86051\", \"86057\", \"86068\", \"86069\", \"86071\", \"86074\", \n    \"86078\", \"86081\", \"86088\", \"86089\", \"86092\", \"86095\", \"86096\", \n    \"86101\", \"86103\", \"86111\", \"86121\", \"86122\", \"86123\", \"86125\", \n    \"86129\", \"86131\", \"86134\", \"86139\", \"86140\", \"86142\", \"86143\", \n    \"86145\", \"86147\", \"86153\", \"86154\", \"86157\", \"86164\", \"86170\", \n    \"86172\", \"86173\", \"86175\", \"86176\", \"86177\", \"86181\", \"86182\", \n    \"86185\", \"86186\", \"86187\", \"86190\", \"86192\", \"86195\", \"86200\", \n    \"86201\", \"86203\", \"86205\", \"86209\", \"86210\", \"86212\", \"86214\", \n    \"86215\", \"86216\", \"86223\", \"86227\", \"86230\", \"86231\", \"86233\", \n    \"86238\", \"86243\", \"86246\", \"86247\", \"86249\", \"86254\", \"86255\", \n    \"86258\", \"86262\", \"86263\", \"86269\", \"86270\", \"86272\", \"86275\", \n    \"86278\", \"86279\", \"86282\", \"86288\", \"86290\", \"86292\", \"86298\", \n    \"86301\", \"86303\", \"86304\", \"86306\", \"86308\", \"86314\", \"86316\", \n    \"86317\", \"86320\", \"86323\", \"86329\", \"86331\", \"86334\", \"86336\", \n    \"86338\", \"86339\", \"86340\", \"86342\", \"86345\", \"86348\", \"86350\", \n    \"86353\", \"86356\", \"86360\", \"86362\", \"86366\", \"86369\", \"86374\", \n    \"86376\", \"86384\", \"86386\", \"86389\", \"86390\", \"86401\", \"86407\", \n    \"86409\", \"86410\", \"86415\", \"86419\", \"86421\", \"86422\", \"86423\", \n    \"86427\", \"86437\", \"86438\", \"86440\", \"86444\", \"86447\", \"86451\", \n    \"86453\", \"86456\", \"86458\", \"86460\", \"86461\", \"86462\", \"86466\", \n    \"86467\", \"86468\", \"86471\", \"86473\", \"86478\", \"86479\", \"86482\", \n    \"86486\", \"86487\", \"86491\", \"86492\", \"86493\", \"86494\", \"86496\", \n    \"86499\", \"86504\", \"86506\", \"86512\", \"86515\", \"86516\", \"86517\", \n    \"86519\", \"86522\", \"86527\", \"86529\", \"86538\", \"86539\", \"86554\", \n    \"86560\", \"86562\", \"86563\", \"86566\", \"86568\", \"86573\", \"86581\", \n    \"86585\", \"86589\", \"86593\", \"86595\", \"86602\", \"86616\", \"86617\", \n    \"86620\", \"86621\", \"86624\", \"86625\", \"86628\", \"86631\", \"86632\", \n    \"86636\", \"86638\", \"86640\", \"86641\", \"86643\", \"86644\", \"86647\", \n    \"86648\", \"86652\", \"86654\", \"86655\", \"86659\", \"86661\", \"86663\", \n    \"86666\", \"86669\", \"86671\", \"86672\", \"86675\", \"86682\", \"86683\", \n    \"86685\", \"86703\", \"86704\", \"86706\", \"86710\", \"86711\", \"86713\", \n    \"86715\", \"86717\", \"86723\", \"86739\", \"86743\", \"86744\", \"86745\", \n    \"86756\", \"86758\", \"86775\", \"86776\", \"86782\", \"86783\", \"86788\", \n    \"86790\", \"86797\", \"86803\", \"86809\", \"86815\", \"86823\", \"86824\", \n    \"86830\", \"86831\", \"86837\", \"86843\", \"86844\", \"86846\", \"86850\", \n    \"86852\", \"86855\", \"86857\", \"86878\", \"86893\", \"86894\", \"86901\", \n    \"86910\", \"86913\", \"86920\", \"86938\", \"86940\", \"86943\", \"86945\", \n    \"86951\", \"86956\", \"86965\", \"86971\", \"86975\", \"86981\", \"86988\", \n    \"86993\", \"86997\", \"87012\", \"87023\", \"87025\", \"87031\", \"87034\", \n    \"87035\", \"87036\", \"87045\", \"87046\", \"87052\", \"87054\", \"87067\", \n    \"87069\", \"87071\", \"87094\", \"87095\", \"87104\", \"87106\", \"87107\", \n    \"87108\", \"87110\", \"87116\", \"87121\", \"87123\", \"87126\", \"87127\", \n    \"87131\", \"87132\", \"87138\", \"87140\", \"87147\", \"87162\", \"87166\", \n    \"87172\", \"87176\", \"87179\", \"87185\", \"87192\", \"87198\", \"87206\", \n    \"87213\", \"87216\", \"87219\", \"87222\", \"87226\", \"87232\", \"87233\", \n    \"87235\", \"87239\", \"87261\", \"87272\", \"87280\", \"87282\", \"87283\", \n    \"87289\", \"87290\", \"87308\", \"87321\", \"87330\", \"87338\", \"87341\", \n    \"87349\", \"87352\", \"87353\", \"87355\", \"87361\", \"87363\", \"87368\", \n    \"87373\", \"87379\", \"87381\", \"87386\", \"87387\", \"87397\", \"87400\", \n    \"87401\", \"87405\", \"87408\", \"87411\", \"87412\", \"87417\", \"87423\", \n    \"87425\", \"87432\", \"87442\", \"87452\", \"87479\", \"87495\", \"87518\", \n    \"87547\", \"87548\", \"87549\", \"87554\", \"87556\", \"87565\", \"87576\", \n    \"87584\", \"87590\", \"87594\", \"87599\", \"87601\", \"87610\", \"87617\", \n    \"87619\", \"87625\", \"87634\", \"87637\", \"87648\", \"87649\", \"87659\", \n    \"87660\", \"87666\", \"87667\", \"87668\", \"87674\", \"87676\", \"87682\", \n    \"87683\", \"87688\", \"87711\", \"87724\", \"87733\", \"87735\", \"87737\", \n    \"87753\", \"87760\", \"87766\", \"87767\", \"87768\", \"87790\", \"87793\", \n    \"87800\", \"87801\", \"87814\", \"87823\", \"87824\", \"87829\", \"87831\", \n    \"87836\", \"87838\", \"87840\", \"87843\", \"87846\", \"87851\", \"87852\", \n    \"87858\", \"87871\", \"87881\", \"87883\", \"87886\", \"87888\", \"87890\", \n    \"87906\", \"87910\", \"87934\", \"87939\", \"87943\", \"87944\", \"87947\", \n    \"87956\", \"87962\", \"87963\", \"87967\", \"87969\", \"87972\", \"87981\", \n    \"87999\", \"88003\", \"88005\", \"88010\", \"88013\", \"88032\", \"88033\", \n    \"88034\", \"88038\", \"88040\", \"88042\", \"88051\", \"88052\", \"88056\", \n    \"88063\", \"88064\", \"88068\", \"88070\", \"88084\", \"88085\", \"88088\", \n    \"88090\", \"88093\", \"88098\", \"88099\", \"88106\", \"88110\", \"88122\", \n    \"88129\", \"88133\", \"88143\", \"88154\", \"88157\", \"88158\", \"88160\", \n    \"88161\", \"88162\", \"88178\", \"88185\", \"88187\", \"88189\", \"88192\", \n    \"88195\", \"88198\", \"88201\", \"88204\", \"88217\", \"88219\", \"88220\", \n    \"88223\", \"88231\", \"88235\", \"88240\", \"88255\", \"88256\", \"88261\", \n    \"88265\", \"88269\", \"88271\", \"88272\", \"88274\", \"88277\", \"88285\", \n    \"88289\", \"88298\", \"88304\", \"88305\", \"88309\", \"88311\", \"88315\", \n    \"88318\", \"88319\", \"88321\", \"88327\", \"88332\", \"88333\", \"88335\", \n    \"88339\", \"88343\", \"88344\", \"88349\", \"88357\", \"88361\", \"88367\", \n    \"88374\", \"88376\", \"88393\", \"88410\", \"88411\", \"88414\", \"88423\", \n    \"88425\", \"88426\", \"88428\", \"88432\", \"88457\", \"88460\", \"88480\", \n    \"88483\", \"88490\", \"88494\", \"88499\", \"88505\", \"88516\", \"88519\", \n    \"88525\", \"88530\", \"88535\", \"88537\", \"88539\", \"88541\", \"88542\", \n    \"88543\", \"88556\", \"88558\", \"88560\", \"88561\", \"88564\", \"88567\", \n    \"88569\", \"88573\", \"88574\", \"88580\", \"88594\", \"88596\", \"88603\", \n    \"88608\", \"88613\", \"88618\", \"88622\", \"88627\", \"88635\", \"88640\", \n    \"88641\", \"88653\", \"88655\", \"88657\", \"88660\", \"88669\", \"88670\", \n    \"88671\", \"88686\", \"88690\", \"88693\", \"88699\", \"88702\", \"88703\", \n    \"88705\", \"88713\", \"88716\", \"88721\", \"88727\", \"88728\", \"88730\", \n    \"88731\", \"88735\", \"88740\", \"88741\", \"88753\", \"88756\", \"88758\", \n    \"88775\", \"88777\", \"88788\", \"88795\", \"88806\", \"88814\", \"88818\", \n    \"88837\", \"88853\", \"88862\", \"88866\", \"88869\", \"88871\", \"88875\", \n    \"88884\", \"88885\", \"88886\", \"88888\", \"88890\", \"88891\", \"88899\", \n    \"88900\", \"88902\", \"88945\", \"88962\", \"88971\", \"88980\", \"88986\", \n    \"88994\", \"89002\", \"89011\", \"89015\", \"89031\", \"89033\", \"89041\", \n    \"89042\", \"89043\", \"89047\", \"89048\", \"89059\", \"89063\", \"89086\", \n    \"89095\", \"89096\", \"89128\", \"89130\", \"89135\", \"89143\", \"89144\", \n    \"89149\", \"89151\", \"89154\", \"89170\", \"89172\", \"89173\", \"89180\", \n    \"89184\", \"89196\", \"89197\", \"89198\", \"89213\", \"89216\", \"89223\", \n    \"89225\", \"89226\", \"89242\", \"89246\", \"89252\", \"89256\", \"89262\", \n    \"89277\", \"89282\", \"89314\", \"89318\", \"89319\", \"89349\", \"89350\", \n    \"89352\", \"89353\", \"89354\", \"89356\", \"89358\", \"89360\", \"89367\", \n    \"89372\", \"89381\", \"89396\", \"89398\", \"89399\", \"89407\", \"89409\", \n    \"89421\", \"89433\", \"89444\", \"89445\", \"89452\", \"89456\", \"89458\", \n    \"89465\", \"89474\", \"89505\", \"89510\", \"89516\", \"89519\", \"89525\", \n    \"89527\", \"89533\", \"89540\", \"89544\", \"89547\", \"89550\", \"89552\", \n    \"89553\", \"89556\", \"89562\", \"89563\", \"89570\", \"89573\", \"89585\", \n    \"89588\", \"89596\", \"89628\", \"89630\", \"89638\", \"89654\", \"89670\", \n    \"89673\", \"89706\", \"89707\", \"89710\", \"89717\", \"89718\", \"89740\", \n    \"89768\", \"89775\", \"89782\", \"89796\", \"89802\", \"89812\", \"89816\", \n    \"89817\", \"89831\", \"89832\", \"89846\", \"89881\", \"89897\", \"89898\", \n    \"89911\", \"89916\", \"89920\", \"89921\", \"89932\", \"89938\", \"89944\", \n    \"89953\", \"89968\", \"89971\", \"89973\", \"89978\", \"89995\", \"90005\", \n    \"90008\", \"90010\", \"90011\", \"90015\", \"90022\", \"90025\", \"90033\", \n    \"90039\", \"90044\", \"90046\", \"90051\", \"90070\", \"90073\", \"90075\", \n    \"90077\", \"90084\", \"90087\", \"90095\", \"90096\", \"90101\", \"90122\", \n    \"90123\", \"90125\", \"90135\", \"90139\", \"90140\", \"90141\", \"90152\", \n    \"90155\", \"90160\", \"90168\", \"90171\", \"90179\", \"90188\", \"90189\", \n    \"90193\", \"90194\", \"90197\", \"90199\", \"90203\", \"90204\", \"90208\", \n    \"90215\", \"90237\", \"90241\", \"90248\", \"90263\", \"90267\", \"90278\", \n    \"90287\", \"90289\", \"90293\", \"90294\", \"90302\", \"90309\", \"90330\", \n    \"90333\", \"90336\", \"90365\", \"90369\", \"90377\", \"90381\", \"90385\", \n    \"90388\", \"90393\", \"90395\", \"90397\", \"90402\", \"90412\", \"90426\", \n    \"90431\", \"90432\", \"90437\", \"90439\", \"90443\", \"90459\", \"90467\", \n    \"90495\", \"90496\", \"90498\", \"90499\", \"90500\", \"90508\", \"90516\", \n    \"90521\", \"90523\", \"90557\", \"90558\", \"90567\", \"90573\", \"90581\", \n    \"90592\", \"90594\", \"90596\", \"90597\", \"90612\", \"90627\", \"90631\", \n    \"90636\", \"90654\", \"90655\", \"90657\", \"90663\", \"90664\", \"90669\", \n    \"90673\", \"90681\", \"90682\", \"90684\", \"90687\", \"90698\", \"90702\", \n    \"90705\", \"90708\", \"90713\", \"90716\", \"90718\", \"90731\", \"90737\", \n    \"90746\", \"90749\", \"90756\", \"90776\", \"90781\", \"90783\", \"90804\", \n    \"90807\", \"90811\", \"90816\", \"90820\", \"90836\", \"90839\", \"90852\", \n    \"90854\", \"90857\", \"90885\", \"90891\", \"90892\", \"90897\", \"90920\", \n    \"90927\", \"90940\", \"90941\", \"90962\", \"90969\", \"90974\", \"90980\", \n    \"90981\", \"90985\", \"90996\", \"91004\", \"91008\", \"91019\", \"91021\", \n    \"91023\", \"91030\", \"91034\", \"91042\", \"91052\", \"91055\", \"91063\", \n    \"91070\", \"91072\", \"91076\", \"91077\", \"91078\", \"91081\", \"91092\", \n    \"91100\", \"91101\", \"91111\", \"91114\", \"91122\", \"91124\", \"91125\", \n    \"91126\", \"91136\", \"91137\", \"91139\", \"91146\", \"91147\", \"91150\", \n    \"91154\", \"91156\", \"91159\", \"91162\", \"91163\", \"91164\", \"91165\", \n    \"91166\", \"91169\", \"91172\", \"91174\", \"91181\", \"91187\", \"91190\", \n    \"91194\", \"91195\", \"91196\", \"91198\", \"91201\", \"91208\", \"91211\", \n    \"91212\", \"91214\", \"91217\", \"91218\", \"91223\", \"91228\", \"91233\", \n    \"91235\", \"91237\", \"91241\", \"91243\", \"91247\", \"91250\", \"91252\", \n    \"91254\", \"91262\", \"91263\", \"91264\", \"91265\", \"91267\", \"91272\", \n    \"91274\", \"91275\", \"91278\", \"91288\", \"91291\", \"91295\", \"91296\", \n    \"91297\", \"91301\", \"91305\", \"91307\", \"91308\", \"91310\", \"91314\", \n    \"91315\", \"91317\", \"91318\", \"91320\", \"91322\", \"91326\", \"91335\", \n    \"91337\", \"91340\", \"91343\", \"91344\", \"91347\", \"91348\", \"91351\", \n    \"91357\", \"91361\", \"91362\", \"91363\", \"91366\", \"91373\", \"91374\", \n    \"91377\", \"91379\", \"91381\", \"91385\", \"91388\", \"91391\", \"91397\", \n    \"91405\", \"91411\", \"91415\", \"91416\", \"91418\", \"91421\", \"91422\", \n    \"91426\", \"91427\", \"91432\", \"91433\", \"91434\", \"91437\", \"91440\", \n    \"91441\", \"91442\", \"91443\", \"91446\", \"91447\", \"91450\", \"91455\", \n    \"91460\", \"91465\", \"91467\", \"91471\", \"91474\", \"91476\", \"91477\", \n    \"91478\", \"91480\", \"91481\", \"91486\", \"91490\", \"91491\", \"91493\", \n    \"91494\", \"91497\", \"91498\", \"91500\", \"91503\", \"91504\", \"91508\", \n    \"91509\", \"91522\", \"91528\", \"91532\", \"91535\", \"91536\", \"91539\", \n    \"91541\", \"91545\", \"91546\", \"91549\", \"91550\", \"91551\", \"91552\", \n    \"91556\", \"91557\", \"91558\", \"91559\", \"91560\", \"91565\", \"91569\", \n    \"91574\", \"91578\", \"91579\", \"91581\", \"91584\", \"91592\", \"91603\", \n    \"91604\", \"91609\", \"91617\", \"91618\", \"91619\", \"91624\", \"91626\", \n    \"91627\", \"91630\", \"91632\", \"91633\", \"91634\", \"91635\", \"91639\", \n    \"91641\", \"91642\", \"91650\", \"91651\", \"91652\", \"91658\", \"91660\", \n    \"91662\", \"91663\", \"91665\", \"91670\", \"91677\", \"91678\", \"91684\", \n    \"91685\", \"91690\", \"91691\", \"91692\", \"91694\", \"91701\", \"91702\", \n    \"91704\", \"91705\", \"91706\", \"91710\", \"91715\", \"91719\", \"91720\", \n    \"91722\", \"91725\", \"91727\", \"91730\", \"91735\", \"91738\", \"91740\", \n    \"91748\", \"91754\", \"91759\", \"91760\", \"91769\", \"91770\", \"91777\", \n    \"91780\", \"91781\", \"91788\", \"91792\", \"91793\", \"91796\", \"91797\", \n    \"91799\", \"91800\", \"91802\", \"91811\", \"91815\", \"91819\", \"91823\", \n    \"91825\", \"91828\", \"91829\", \"91830\", \"91834\", \"91847\", \"91849\", \n    \"91852\", \"91853\", \"91858\", \"91862\", \"91864\", \"91868\", \"91870\", \n    \"91873\", \"91874\", \"91876\", \"91882\", \"91883\", \"91895\", \"91896\", \n    \"91898\", \"91899\", \"91900\", \"91903\", \"91909\", \"91910\", \"91913\", \n    \"91918\", \"91922\", \"91924\", \"91928\", \"91929\", \"91930\", \"91931\", \n    \"91935\", \"91938\", \"91939\", \"91941\", \"91942\", \"91945\", \"91948\", \n    \"91949\", \"91950\", \"91951\", \"91952\", \"91967\", \"91968\", \"91969\", \n    \"91971\", \"91972\", \"91974\", \"91978\", \"91981\", \"91982\", \"91983\", \n    \"91984\", \"91986\", \"91988\", \"91993\", \"91994\", \"91996\", \"91999\", \n    \"92002\", \"92003\", \"92004\", \"92005\", \"92006\", \"92008\", \"92009\", \n    \"92010\", \"92011\", \"92012\", \"92013\", \"92014\", \"92015\", \"92016\", \n    \"92022\", \"92024\", \"92025\", \"92043\", \"92045\", \"92046\", \"92051\", \n    \"92053\", \"92054\", \"92057\", \"92061\", \"92062\", \"92064\", \"92070\", \n    \"92071\", \"92073\", \"92074\", \"92075\", \"92081\", \"92085\", \"92092\", \n    \"92093\", \"92094\", \"92095\", \"92099\", \"92104\", \"92107\", \"92110\", \n    \"92111\", \"92116\", \"92118\", \"92120\", \"92123\", \"92125\", \"92127\", \n    \"92129\", \"92130\", \"92132\", \"92135\", \"92137\", \"92143\", \"92153\", \n    \"92154\", \"92155\", \"92162\", \"92164\", \"92166\", \"92167\", \"92170\", \n    \"92173\", \"92174\", \"92177\", \"92188\", \"92191\", \"92197\", \"92199\", \n    \"92208\", \"92212\", \"92214\", \"92222\", \"92224\", \"92225\", \"92226\", \n    \"92227\", \"92233\", \"92235\", \"92238\", \"92244\", \"92256\", \"92258\", \n    \"92259\", \"92260\", \"92263\", \"92264\", \"92268\", \"92269\", \"92270\", \n    \"92271\", \"92275\", \"92276\", \"92277\", \"92282\", \"92286\", \"92288\", \n    \"92290\", \"92291\", \"92292\", \"92294\", \"92297\", \"92299\", \"92303\", \n    \"92307\", \"92309\", \"92312\", \"92313\", \"92314\", \"92315\", \"92317\", \n    \"92319\", \"92324\", \"92327\", \"92328\", \"92330\", \"92331\", \"92332\", \n    \"92335\", \"92345\", \"92346\", \"92351\", \"92352\", \"92354\", \"92355\", \n    \"92360\", \"92362\", \"92363\", \"92364\", \"92368\", \"92377\", \"92385\", \n    \"92386\", \"92393\", \"92397\", \"92400\", \"92402\", \"92412\", \"92413\", \n    \"92416\", \"92421\", \"92428\", \"92432\", \"92438\", \"92440\", \"92445\", \n    \"92447\", \"92460\", \"92461\", \"92468\", \"92470\", \"92473\", \"92474\", \n    \"92475\", \"92476\", \"92477\", \"92478\", \"92479\", \"92481\", \"92485\", \n    \"92489\", \"92490\", \"92492\", \"92494\", \"92495\", \"92498\", \"92501\", \n    \"92504\", \"92505\", \"92511\", \"92512\", \"92515\", \"92520\", \"92522\", \n    \"92523\", \"92529\", \"92530\", \"92532\", \"92536\", \"92539\", \"92546\", \n    \"92550\", \"92553\", \"92557\", \"92558\", \"92560\", \"92561\", \"92564\", \n    \"92565\", \"92574\", \"92575\", \"92577\", \"92586\", \"92587\", \"92589\", \n    \"92591\", \"92599\", \"92604\", \"92605\", \"92607\", \"92612\", \"92614\", \n    \"92615\", \"92616\", \"92617\", \"92621\", \"92625\", \"92627\", \"92633\", \n    \"92636\", \"92641\", \"92642\", \"92646\", \"92647\", \"92650\", \"92657\", \n    \"92658\", \"92660\", \"92663\", \"92664\", \"92666\", \"92670\", \"92673\", \n    \"92676\", \"92681\", \"92683\", \"92692\", \"92693\", \"92694\", \"92697\", \n    \"92700\", \"92702\", \"92703\", \"92705\", \"92715\", \"92716\", \"92719\", \n    \"92721\", \"92728\", \"92729\", \"92731\", \"92733\", \"92734\", \"92737\", \n    \"92738\", \"92743\", \"92753\", \"92760\", \"92761\", \"92762\", \"92764\", \n    \"92765\", \"92766\", \"92768\", \"92777\", \"92779\", \"92780\", \"92786\", \n    \"92798\", \"92799\", \"92800\", \"92805\", \"92810\", \"92813\", \"92814\", \n    \"92818\", \"92820\", \"92822\", \"92823\", \"92831\", \"92832\", \"92833\", \n    \"92834\", \"92835\", \"92838\", \"92839\", \"92840\", \"92841\", \"92847\", \n    \"92850\", \"92852\", \"92861\", \"92862\", \"92863\", \"92868\", \"92878\", \n    \"92881\", \"92882\", \"92884\", \"92896\", \"92899\", \"92903\", \"92906\", \n    \"92907\", \"92910\", \"92919\", \"92922\", \"92923\", \"92926\", \"92930\", \n    \"92931\", \"92932\", \"92937\", \"92939\", \"92942\", \"92946\", \"92950\", \n    \"92951\", \"92956\", \"92958\", \"92961\", \"92964\", \"92965\", \"92974\", \n    \"92977\", \"92980\", \"92982\", \"92989\", \"92995\", \"93000\", \"93001\", \n    \"93002\", \"93003\", \"93004\", \"93005\", \"93008\", \"93010\", \"93012\", \n    \"93015\", \"93019\", \"93028\", \"93030\", \"93033\", \"93041\", \"93045\", \n    \"93049\", \"93050\", \"93051\", \"93052\", \"93053\", \"93055\", \"93056\", \n    \"93059\", \"93060\", \"93069\", \"93071\", \"93079\", \"93081\", \"93082\", \n    \"93086\", \"93089\", \"93103\", \"93106\", \"93108\", \"93114\", \"93117\", \n    \"93118\", \"93120\", \"93126\", \"93127\", \"93132\", \"93136\", \"93145\", \n    \"93147\", \"93150\", \"93151\", \"93153\", \"93158\", \"93160\", \"93161\", \n    \"93168\", \"93169\", \"93170\", \"93171\", \"93177\", \"93185\", \"93194\", \n    \"93199\", \"93201\", \"93203\", \"93204\", \"93211\", \"93221\", \"93226\", \n    \"93228\", \"93232\", \"93238\", \"93240\", \"93241\", \"93243\", \"93254\", \n    \"93258\", \"93260\", \"93263\", \"93267\", \"93268\", \"93280\", \"93286\", \n    \"93287\", \"93291\", \"93295\", \"93299\", \"93301\", \"93306\", \"93307\", \n    \"93310\", \"93317\", \"93323\", \"93326\", \"93327\", \"93334\", \"93335\", \n    \"93337\", \"93339\", \"93344\", \"93347\", \"93349\", \"93350\", \"93352\", \n    \"93357\", \"93358\", \"93359\", \"93362\", \"93369\", \"93370\", \"93376\", \n    \"93377\", \"93380\", \"93383\", \"93387\", \"93390\", \"93398\", \"93400\", \n    \"93401\", \"93404\", \"93410\", \"93417\", \"93421\", \"93422\", \"93429\", \n    \"93432\", \"93433\", \"93435\", \"93437\", \"93439\", \"93443\", \"93446\", \n    \"93449\", \"93455\", \"93456\", \"93458\", \"93461\", \"93464\", \"93472\", \n    \"93477\", \"93479\", \"93484\", \"93485\", \"93487\", \"93491\", \"93493\", \n    \"93495\", \"93504\", \"93505\", \"93509\", \"93517\", \"93518\", \"93519\", \n    \"93531\", \"93533\", \"93534\", \"93535\", \"93544\", \"93550\", \"93554\", \n    \"93558\", \"93561\", \"93563\", \"93565\", \"93571\", \"93574\", \"93576\", \n    \"93577\", \"93579\", \"93583\", \"93588\", \"93590\", \"93594\", \"93596\", \n    \"93597\", \"93598\", \"93601\", \"93602\", \"93603\", \"93610\", \"93617\", \n    \"93619\", \"93621\", \"93629\", \"93631\", \"93632\", \"93634\", \"93636\", \n    \"93649\", \"93652\", \"93654\", \"93656\", \"93657\", \"93663\", \"93664\", \n    \"93669\", \"93670\", \"93671\", \"93674\", \"93675\", \"93682\", \"93686\", \n    \"93687\", \"93689\", \"93691\", \"93692\", \"93693\", \"93695\", \"93708\", \n    \"93710\", \"93713\", \"93718\", \"93721\", \"93722\", \"93723\", \"93724\", \n    \"93726\", \"93729\", \"93737\", \"93740\", \"93742\", \"93745\", \"93748\", \n    \"93750\", \"93753\", \"93764\", \"93769\", \"93774\", \"93775\", \"93778\", \n    \"93781\", \"93788\", \"93792\", \"93794\", \"93799\", \"93800\", \"93805\", \n    \"93806\", \"93807\", \"93808\", \"93810\", \"93817\", \"93830\", \"93836\", \n    \"93839\", \"93842\", \"93846\", \"93849\", \"93856\", \"93857\", \"93861\", \n    \"93862\", \"93870\", \"93874\", \"93876\", \"93885\", \"93894\", \"93895\", \n    \"93898\", \"93904\", \"93908\", \"93916\", \"93920\", \"93927\", \"93930\", \n    \"93931\", \"93940\", \"93943\", \"93952\", \"93958\", \"93959\", \"93960\", \n    \"93962\", \"93964\", \"93966\", \"93971\", \"93988\", \"93991\", \"93992\", \n    \"93997\", \"94008\", \"94009\", \"94011\", \"94016\", \"94021\", \"94036\", \n    \"94043\", \"94050\", \"94064\", \"94073\", \"94079\", \"94085\", \"94091\", \n    \"94093\", \"94105\", \"94107\", \"94112\", \"94113\", \"94119\", \"94123\", \n    \"94126\", \"94127\", \"94130\", \"94132\", \"94147\", \"94152\", \"94164\", \n    \"94170\", \"94177\", \"94181\", \"94183\", \"94191\", \"94194\", \"94201\", \n    \"94205\", \"94208\", \"94210\", \"94213\", \"94217\", \"94218\", \"94220\", \n    \"94223\", \"94228\", \"94233\", \"94235\", \"94236\", \"94237\", \"94238\", \n    \"94240\", \"94246\", \"94250\", \"94252\", \"94253\", \"94254\", \"94255\", \n    \"94257\", \"94258\", \"94261\", \"94265\", \"94266\", \"94267\", \"94269\", \n    \"94270\", \"94272\", \"94274\", \"94276\", \"94277\", \"94278\", \"94279\", \n    \"94280\", \"94281\", \"94282\", \"94289\", \"94290\", \"94292\", \"94294\", \n    \"94302\", \"94303\", \"94307\", \"94309\", \"94323\", \"94324\", \"94333\", \n    \"94337\", \"94343\", \"94354\", \"94357\", \"94358\", \"94360\", \"94361\", \n    \"94368\", \"94370\", \"94376\", \"94379\", \"94386\", \"94387\", \"94389\", \n    \"94391\", \"94396\", \"94402\", \"94410\", \"94412\", \"94425\", \"94428\", \n    \"94432\", \"94433\", \"94445\", \"94447\", \"94450\", \"94469\", \"94470\", \n    \"94474\", \"94475\", \"94483\", \"94494\", \"94495\", \"94500\", \"94501\", \n    \"94506\", \"94509\", \"94516\", \"94518\", \"94519\", \"94525\", \"94529\", \n    \"94532\", \"94534\", \"94538\", \"94539\", \"94540\", \"94544\", \"94547\", \n    \"94549\", \"94552\", \"94553\", \"94558\", \"94559\", \"94562\", \"94564\", \n    \"94567\", \"94571\", \"94572\", \"94573\", \"94583\", \"94585\", \"94586\", \n    \"94588\", \"94590\", \"94602\", \"94603\", \"94604\", \"94606\", \"94619\", \n    \"94623\", \"94625\", \"94631\", \"94636\", \"94639\", \"94642\", \"94644\", \n    \"94654\", \"94662\", \"94669\", \"94674\", \"94680\", \"94682\", \"94685\", \n    \"94686\", \"94700\", \"94707\", \"94709\", \"94710\", \"94714\", \"94715\", \n    \"94724\", \"94727\", \"94729\", \"94730\", \"94733\", \"94736\", \"94739\", \n    \"94742\", \"94743\", \"94746\", \"94748\", \"94749\", \"94752\", \"94758\", \n    \"94761\", \"94762\", \"94765\", \"94767\", \"94768\", \"94773\", \"94774\", \n    \"94776\", \"94779\", \"94783\", \"94790\", \"94798\", \"94800\", \"94801\", \n    \"94803\", \"94804\", \"94806\", \"94807\", \"94808\", \"94812\", \"94813\", \n    \"94816\", \"94817\", \"94818\", \"94819\", \"94820\", \"94824\", \"94825\", \n    \"94826\", \"94832\", \"94834\", \"94837\", \"94838\", \"94843\", \"94846\", \n    \"94850\", \"94851\", \"94855\", \"94856\", \"94858\", \"94860\", \"94866\", \n    \"94868\", \"94869\", \"94871\", \"94873\", \"94874\", \"94876\", \"94877\", \n    \"94878\", \"94883\", \"94897\", \"94906\", \"94907\", \"94910\", \"94912\", \n    \"94914\", \"94916\", \"94917\", \"94922\", \"94923\", \"94925\", \"94926\", \n    \"94929\", \"94935\", \"94936\", \"94938\", \"94940\", \"94941\", \"94944\", \n    \"94946\", \"94951\", \"94953\", \"94954\", \"94955\", \"94960\", \"94961\", \n    \"94962\", \"94966\", \"94967\", \"94969\", \"94970\", \"94972\", \"94975\", \n    \"94976\", \"94978\", \"94981\", \"94992\", \"94993\", \"94995\", \"94998\", \n    \"95000\", \"95002\", \"95011\", \"95015\", \"95018\", \"95019\", \"95023\", \n    \"95034\", \"95035\", \"95043\", \"95046\", \"95048\", \"95050\", \"95052\", \n    \"95057\", \"95058\", \"95060\", \"95061\", \"95071\", \"95072\", \"95075\", \n    \"95082\", \"95085\", \"95086\", \"95087\", \"95090\", \"95093\", \"95097\", \n    \"95099\", \"95101\", \"95105\", \"95108\", \"95118\", \"95119\", \"95121\", \n    \"95131\", \"95132\", \"95139\", \"95141\", \"95144\", \"95153\", \"95164\", \n    \"95165\", \"95168\", \"95171\", \"95172\", \"95176\", \"95186\", \"95187\", \n    \"95195\", \"95198\", \"95200\", \"95201\", \"95202\", \"95214\", \"95217\", \n    \"95225\", \"95227\", \"95232\", \"95236\", \"95237\", \"95238\", \"95242\", \n    \"95243\", \"95250\", \"95260\", \"95266\", \"95269\", \"95271\", \"95278\", \n    \"95281\", \"95287\", \"95288\", \"95296\", \"95300\", \"95301\", \"95305\", \n    \"95306\", \"95308\", \"95311\", \"95313\", \"95315\", \"95322\", \"95326\", \n    \"95331\", \"95334\", \"95337\", \"95342\", \"95349\", \"95355\", \"95361\", \n    \"95362\", \"95367\", \"95369\", \"95371\", \"95374\", \"95376\", \"95383\", \n    \"95389\", \"95391\", \"95393\", \"95409\", \"95414\", \"95420\", \"95422\", \n    \"95425\", \"95432\", \"95439\", \"95448\", \"95450\", \"95453\", \"95454\", \n    \"95457\", \"95461\", \"95468\", \"95470\", \"95471\", \"95485\", \"95492\", \n    \"95501\", \"95510\", \"95515\", \"95516\", \"95520\", \"95523\", \"95524\", \n    \"95527\", \"95530\", \"95541\", \"95542\", \"95545\", \"95548\", \"95549\", \n    \"95550\")))\n\nDeviance Residuals: \n    Min       1Q   Median       3Q      Max  \n-1.4512  -0.5638  -0.3224  -0.1750   3.0038  \n\nCoefficients:\n                                            Estimate Std. Error z value\n(Intercept)                                 -2.83155    0.09615 -29.450\ngendermale                                  -0.06146    0.05188  -1.185\nField_EnglishChemistry                      -1.33961    0.11214 -11.946\nField_EnglishEarth & Environmental Sciences  0.06644    0.05443   1.221\nField_EnglishMathematics & Statistics       -1.58859    0.59694  -2.661\nField_EnglishPhysics & Astronomy            -1.25918    0.07732 -16.286\nyear2019                                    -0.10549    0.07398  -1.426\nyear2020                                    -0.26790    0.07504  -3.570\nyear2021                                    -0.21023    0.07393  -2.844\nyear2022                                     0.08552    0.08071   1.060\nbin_nat1                                     1.23986    0.07668  16.168\nbin_int1                                     1.97362    0.05265  37.486\nopenaccess_statusYES                         0.08997    0.05143   1.749\n                                            Pr(>|z|)    \n(Intercept)                                  < 2e-16 ***\ngendermale                                  0.236140    \nField_EnglishChemistry                       < 2e-16 ***\nField_EnglishEarth & Environmental Sciences 0.222254    \nField_EnglishMathematics & Statistics       0.007786 ** \nField_EnglishPhysics & Astronomy             < 2e-16 ***\nyear2019                                    0.153882    \nyear2020                                    0.000357 ***\nyear2021                                    0.004462 ** \nyear2022                                    0.289272    \nbin_nat1                                     < 2e-16 ***\nbin_int1                                     < 2e-16 ***\nopenaccess_statusYES                        0.080218 .  \n---\nSignif. codes:  0 ‘***’ 0.001 ‘**’ 0.01 ‘*’ 0.05 ‘.’ 0.1 ‘ ’ 1\n\n(Dispersion parameter for binomial family taken to be 1)\n\n    Null deviance: 14382  on 17673  degrees of freedom\nResidual deviance: 11391  on 17661  degrees of freedom\nAIC: 11417\n\nNumber of Fisher Scoring iterations: 6\n\n\n"
     ]
    }
   ],
   "source": [
    "##testing2\n",
    "def domaindd(a):\n",
    "\n",
    "  gender = []\n",
    "  \n",
    "  for ind in a.index:\n",
    "    if a['cor_gender'][ind] == 'female' or a['cor_gender'][ind] == 'f' or a['cor_gender'][ind] == 'F':\n",
    "      gender.append(\"female\")\n",
    "    else:\n",
    "      gender.append(\"male\") \n",
    "\n",
    "  a['gender'] = gender\n",
    "  a['srcid'] = a['srcid'].astype(str)\n",
    "  return a\n",
    "\n",
    "new = sep.copy()\n",
    "new = new.drop(columns=['cor_au1'], axis = 1)\n",
    "\n",
    "\n",
    "a = pd.DataFrame()\n",
    "a['srcid'] = t['srcid']\n",
    "a['SJR'] = t['SJR']\n",
    "print(len(a))\n",
    "a = a.drop_duplicates()\n",
    "print(len(a))\n",
    "\n",
    "q1 = a['SJR'].quantile(0.25)\n",
    "q2 = a['SJR'].quantile(0.50)\n",
    "q3 = a['SJR'].quantile(0.75)\n",
    "\n",
    "q = []\n",
    "for ind in new.index:\n",
    "  if new['SJR'][ind] <= q1:\n",
    "    q.append(0)\n",
    "  elif new['SJR'][ind] > q1 and new['SJR'][ind] <= q2:\n",
    "    q.append(1)\n",
    "  elif new['SJR'][ind] > q2 and new['SJR'][ind] <= q3:\n",
    "    q.append(2)\n",
    "  else:\n",
    "    q.append(3)\n",
    "new['q'] = q\n",
    "\n",
    "\n",
    "#a = domaindd(new[new['Domain_English'] == \"Applied Sciences\"]) #loc - insig, nat - est = 0.10348, p val = 0.01543 *, int - insig, sp - insig\n",
    "#a = domaindd(new[new['Domain_English'] == \"Arts & Humanities\"]) #loc - insig, nat - insig, int - insig, sp - insig\n",
    "\n",
    "#a = domaindd(new[new['Domain_English'] == \"Economic & Social Sciences\"]) #loc - insig, nat - insig, int - insig, sp - insig\n",
    "#a = domaindd(new[new['Domain_English'] == \"Health Sciences\"]) #loc - est = -0.05262, p val = 0.0146 *, nat - est = 0.03742, p val = 0.0106 *, int - insig, sp - est = 0.03927, p val = 0.0214 * \n",
    "a = domaindd(new[new['Domain_English'] == \"Natural Sciences\"]) #loc - insig, nat - insig, int - est = 0.11541, p val = 0.017590 *, sp - est = 0.06406, p val = 0.07703 .\n",
    "\n",
    "\n",
    "\n",
    "\n",
    "\n",
    "with localconverter(ro.default_converter + pandas2ri.converter):\n",
    "  tst_df = ro.conversion.py2rpy(a)\n",
    "\n",
    "col_2_index = list(tst_df.colnames).index('gender')\n",
    "col_2 = ro.vectors.FactorVector(tst_df.rx2('gender'))\n",
    "tst_df[col_2_index] = col_2\n",
    "\n",
    "col_2_index = list(tst_df.colnames).index('q')\n",
    "col_2 = ro.vectors.FactorVector(tst_df.rx2('q'))\n",
    "tst_df[col_2_index] = col_2\n",
    "\n",
    "col_2_index = list(tst_df.colnames).index('Field_English')\n",
    "col_2 = ro.vectors.FactorVector(tst_df.rx2('Field_English'))\n",
    "tst_df[col_2_index] = col_2\n",
    "\n",
    "col_2_index = list(tst_df.colnames).index('SubField_English')\n",
    "col_2 = ro.vectors.FactorVector(tst_df.rx2('SubField_English'))\n",
    "tst_df[col_2_index] = col_2\n",
    "\n",
    "col_2_index = list(tst_df.colnames).index('Domain_English')\n",
    "col_2 = ro.vectors.FactorVector(tst_df.rx2('Domain_English'))\n",
    "tst_df[col_2_index] = col_2\n",
    "\n",
    "col_2_index = list(tst_df.colnames).index('year')\n",
    "col_2 = ro.vectors.FactorVector(tst_df.rx2('year'))\n",
    "tst_df[col_2_index] = col_2\n",
    "\n",
    "col_2_index = list(tst_df.colnames).index('openaccess_status')\n",
    "col_2 = ro.vectors.FactorVector(tst_df.rx2('openaccess_status'))\n",
    "tst_df[col_2_index] = col_2\n",
    "\n",
    "col_2_index = list(tst_df.colnames).index('bin_nat')\n",
    "col_2 = ro.vectors.FactorVector(tst_df.rx2('bin_nat'))\n",
    "tst_df[col_2_index] = col_2\n",
    "\n",
    "col_2_index = list(tst_df.colnames).index('bin_int')\n",
    "col_2 = ro.vectors.FactorVector(tst_df.rx2('bin_int'))\n",
    "tst_df[col_2_index] = col_2\n",
    "\n",
    "\n",
    "\n",
    "#print(tst_df)\n",
    "\n",
    "model = stats.glm(\"bin_loc ~ gender+Field_English+year+bin_nat+bin_int+openaccess_status\",data=tst_df,family=ro.r('binomial(link=\"logit\")'))  #,family=ro('binomial(link=\"logit\")') #family=ro.r('binomial')\n",
    "print(base.summary(model))"
   ]
  },
  {
   "cell_type": "code",
   "execution_count": 0,
   "metadata": {
    "application/vnd.databricks.v1+cell": {
     "cellMetadata": {
      "byteLimit": 2048000,
      "rowLimit": 10000
     },
     "inputWidgets": {},
     "nuid": "3717ad86-8176-48a5-8923-2b4c9353f07a",
     "showTitle": false,
     "title": ""
    }
   },
   "outputs": [
    {
     "output_type": "stream",
     "name": "stdout",
     "output_type": "stream",
     "text": [
      "            (Intercept)       Gmale    year2019   year2020    year2021\nall          -1.2384491 -0.03863416 -0.14897611 -0.3940275 -0.58924322\ninter        -2.8438451  0.24371935  0.22640982  0.1636241 -0.01981263\nlocal        -3.0499169  0.35677612  0.35334878  0.2501086 -0.05342257\nlocal:inter  -8.7306212 -0.21557713 -0.29533305 -0.1794614  0.25850509\nlocal:nat    -2.2092975 -0.01081009  0.10358395 -0.1797140 -0.64201866\nnat:inter    -1.3277333  0.13466510 -0.03551272 -0.2415392 -0.30664809\nnational      0.4226301  0.06869936 -0.12477269 -0.2467101 -0.36020373\n              year2022 Subfield_Englishagronomy & agriculture\nall         -0.6773517                             -1.0358859\ninter       -0.9555364                             -0.1041112\nlocal        0.1405529                             -0.4655605\nlocal:inter -4.5229938                             -0.8510171\nlocal:nat   -0.6277834                              0.6929443\nnat:inter   -0.9769180                             -1.2223897\nnational    -0.5503705                              0.5124298\n            Subfield_Englishartificial intelligence & image processing\nall                                                         -1.4143547\ninter                                                       -0.7877195\nlocal                                                       -1.7790082\nlocal:inter                                                  3.1428775\nlocal:nat                                                   -0.1434400\nnat:inter                                                   -1.4774239\nnational                                                    -0.9754477\n            Subfield_Englishbioinformatics\nall                             -1.9240828\ninter                           -1.8256592\nlocal                           -1.8744643\nlocal:inter                     -1.8589582\nlocal:nat                       -0.3936383\nnat:inter                       -2.2510864\nnational                        -0.8213543\n            Subfield_Englishbiomedical engineering\nall                                     -1.5954407\ninter                                   -1.2207033\nlocal                                   -2.3201568\nlocal:inter                             -1.8174579\nlocal:nat                               -0.4976308\nnat:inter                               -1.4821604\nnational                                -0.9829201\n            Subfield_Englishbiotechnology\nall                            -1.6157795\ninter                          -1.3361123\nlocal                          -2.1963183\nlocal:inter                    -1.6272192\nlocal:nat                      -0.1920362\nnat:inter                      -2.3937529\nnational                       -0.5936598\n            Subfield_Englishbuilding & construction\nall                                      0.06230323\ninter                                    1.00137532\nlocal                                   -0.71309204\nlocal:inter                             -0.92854852\nlocal:nat                                1.24061216\nnat:inter                               -0.63656681\nnational                                -0.00333830\n            Subfield_Englishchemical engineering\nall                                   -2.1595911\ninter                                 -1.5016363\nlocal                                 -7.2657776\nlocal:inter                           -1.7890837\nlocal:nat                             -1.1523390\nnat:inter                             -2.6595880\nnational                              -0.4277643\n            Subfield_Englishcivil engineering\nall                                 0.2898166\ninter                              -5.2522120\nlocal                              -5.5517574\nlocal:inter                        -0.7935242\nlocal:nat                          -0.2614828\nnat:inter                          -8.8024756\nnational                           -0.7589887\n            Subfield_Englishcomputation theory & mathematics\nall                                              -4.72081131\ninter                                            -1.57364648\nlocal                                            -1.31404200\nlocal:inter                                      -0.06976329\nlocal:nat                                        -2.47670505\nnat:inter                                        -5.87539627\nnational                                         -7.11006174\n            Subfield_Englishcomputer hardware & architecture\nall                                               -0.4598157\ninter                                             -2.2959445\nlocal                                             -2.2246014\nlocal:inter                                       -0.1651404\nlocal:nat                                         -3.8512090\nnat:inter                                         -7.3970467\nnational                                          -1.4205306\n            Subfield_Englishdairy & animal science\nall                                     -1.0318564\ninter                                   -0.2042514\nlocal                                   -0.4177134\nlocal:inter                             -1.2451098\nlocal:nat                               -0.3226680\nnat:inter                               -1.2169471\nnational                                -0.2044431\n            Subfield_Englishdesign practice & management\nall                                          -4.61908157\ninter                                        -1.92394303\nlocal                                         2.01021063\nlocal:inter                                  -0.09513552\nlocal:nat                                    -3.08631754\nnat:inter                                    -5.68003948\nnational                                     -1.04838207\n            Subfield_Englishdistributed computing\nall                                   -3.01907976\ninter                                 -1.36578309\nlocal                                 -1.54283356\nlocal:inter                           -0.04609899\nlocal:nat                             -2.21276966\nnat:inter                             -3.89011120\nnational                              -6.70788325\n            Subfield_Englishelectrical & electronic engineering\nall                                                  -8.2557216\ninter                                                -4.7380094\nlocal                                                -4.8156759\nlocal:inter                                          -0.6362488\nlocal:nat                                            -5.9670908\nnat:inter                                            -9.3099976\nnational                                             -1.1908212\n            Subfield_Englishenergy Subfield_Englishenvironmental engineering\nall                     -1.6697905                               -0.86939716\ninter                   -1.4595195                               -1.19346227\nlocal                   -1.1938165                                0.32629846\nlocal:inter             -2.3448348                               -1.19229921\nlocal:nat                0.1906792                                1.00720283\nnat:inter               -1.5582809                               -1.03174852\nnational                -0.5753476                                0.04798924\n            Subfield_Englishfisheries Subfield_Englishfood science\nall                        -0.2315400                   -0.9188262\ninter                      -0.1454685                   -0.9464954\nlocal                       0.9700503                   -0.8659190\nlocal:inter                 4.9919072                   -1.2267493\nlocal:nat                   1.6248641                    0.7348946\nnat:inter                  -0.4313125                   -1.1567010\nnational                    0.2903007                   -0.5576754\n            Subfield_Englishforestry\nall                      -0.45068165\ninter                    -0.03406202\nlocal                     0.75592611\nlocal:inter              -1.12043519\nlocal:nat                 1.45333135\nnat:inter                -1.60486653\nnational                  0.02948249\n            Subfield_Englishgeological & geomatics engineering\nall                                                 -1.7857886\ninter                                               -1.0072399\nlocal                                               -1.5366284\nlocal:inter                                         -1.5865281\nlocal:nat                                           -0.9861933\nnat:inter                                           -1.5643388\nnational                                            -0.3842673\n            Subfield_Englishhorticulture\nall                           -4.7115069\ninter                         -2.6513624\nlocal                          1.7791279\nlocal:inter                   -0.3024223\nlocal:nat                     -3.4102505\nnat:inter                      0.4658486\nnational                      -1.2796179\n            Subfield_Englishindustrial engineering & automation\nall                                                  -1.2070660\ninter                                                -0.3324585\nlocal                                                -1.2294433\nlocal:inter                                          -1.6254247\nlocal:nat                                            -0.7143151\nnat:inter                                            -1.2656526\nnational                                             -1.0727663\n            Subfield_Englishinformation systems Subfield_Englishmaterials\nall                                  -0.3958520                -2.1876167\ninter                                -5.9163447                -1.3769315\nlocal                                -0.2197916                -2.5464502\nlocal:inter                          -1.1861918                -1.5494753\nlocal:nat                             0.3309576                -0.6972354\nnat:inter                            -1.4243570                -2.5051770\nnational                             -0.9346722                -0.3331327\n            Subfield_Englishmechanical engineering & transports\nall                                                  -0.4713427\ninter                                                -6.7999648\nlocal                                                -0.9001132\nlocal:inter                                          -0.9362182\nlocal:nat                                             0.9371571\nnat:inter                                            -0.4332653\nnational                                              0.3818968\n            Subfield_Englishmedical informatics\nall                                  -3.0017718\ninter                                -3.0661880\nlocal                                -1.5585526\nlocal:inter                           4.2463673\nlocal:nat                            -0.8724783\nnat:inter                            -3.3114461\nnational                             -1.6463919\n            Subfield_Englishmining & metallurgy\nall                                -3.053854576\ninter                              -0.990934446\nlocal                              -1.290019114\nlocal:inter                         0.006148987\nlocal:nat                          -1.629285318\nnat:inter                          -3.524223297\nnational                            0.983237761\n            Subfield_Englishnanoscience & nanotechnology\nall                                           -2.4667818\ninter                                         -1.4238509\nlocal                                         -1.8653881\nlocal:inter                                    2.0584659\nlocal:nat                                     -0.9920323\nnat:inter                                     -1.8299044\nnational                                      -0.1665344\n            Subfield_Englishnetworking & telecommunications\nall                                              -1.2746531\ninter                                            -1.1422857\nlocal                                            -0.9917233\nlocal:inter                                      -1.5431925\nlocal:nat                                         0.2036115\nnat:inter                                        -2.7856986\nnational                                         -0.5657492\n            Subfield_Englishoperations research\nall                                 -1.57799719\ninter                               -5.02474708\nlocal                               -5.15614954\nlocal:inter                         -0.63890687\nlocal:nat                           -5.92799148\nnat:inter                           -9.04543566\nnational                            -0.01683226\n            Subfield_Englishoptoelectronics & photonics\nall                                          -1.5063296\ninter                                        -1.3000001\nlocal                                        -6.9181610\nlocal:inter                                  -1.2197976\nlocal:nat                                    -0.5920595\nnat:inter                                    -1.1786329\nnational                                      0.3840630\n            Subfield_Englishsoftware engineering\nall                                   -6.3243010\ninter                                  1.1102356\nlocal                                 -3.4665110\nlocal:inter                           -0.2172995\nlocal:nat                             -4.4923735\nnat:inter                             -7.3681881\nnational                              -0.3400868\n            Subfield_Englishstrategic, defence & security studies\nall                                                    -0.5092230\ninter                                                  -0.8147894\nlocal                                                  -0.4471609\nlocal:inter                                             4.8774173\nlocal:nat                                               1.1342837\nnat:inter                                              -1.2075633\nnational                                               -0.2134312\n            Subfield_Englishurban & regional planning\nall                                        -0.7325837\ninter                                      -1.1124965\nlocal                                       0.6446514\nlocal:inter                                 4.2349426\nlocal:nat                                   1.1644976\nnat:inter                                  -0.7303106\nnational                                   -0.1528590\n            Subfield_Englishveterinary sciences          q1          q2\nall                                  -0.9005808 -0.12077991  0.06406656\ninter                                -1.0263456 -0.25900514  0.01474545\nlocal                                -0.1660481 -0.30459238 -0.13677636\nlocal:inter                          -0.9771266  0.14830619  0.56456022\nlocal:nat                             0.7280413 -0.03269723 -0.03301530\nnat:inter                            -1.2522062  0.02949892 -0.07130175\nnational                             -0.7571833 -0.06332997 -0.01487795\n                     q3\nall          1.28584803\ninter        0.33592201\nlocal       -0.02487319\nlocal:inter  0.52363368\nlocal:nat    0.59587653\nnat:inter    1.28069367\nnational     0.45297404\n\n"
     ]
    }
   ],
   "source": [
    "coeffs = base.summary(model).rx2('coefficients')\n",
    "print(coeffs)"
   ]
  },
  {
   "cell_type": "code",
   "execution_count": 0,
   "metadata": {
    "application/vnd.databricks.v1+cell": {
     "cellMetadata": {
      "byteLimit": 2048000,
      "rowLimit": 10000
     },
     "inputWidgets": {},
     "nuid": "e18755a2-f69c-461c-ae89-27facb6016a1",
     "showTitle": false,
     "title": ""
    }
   },
   "outputs": [
    {
     "output_type": "stream",
     "name": "stdout",
     "output_type": "stream",
     "text": [
      "            (Intercept)      Gmale   year2019   year2020   year2021   year2022\nall           0.4417761 0.11076082 0.14859373 0.15298555 0.15485469 0.17223714\ninter         0.8182932 0.21376143 0.28860780 0.28634456 0.28744491 0.40164816\nlocal         0.8417241 0.20821057 0.31295561 0.30888009 0.32106725 0.32936354\nlocal:inter  13.4913606 0.59429996 0.99764739 0.91005992 0.83870349 6.05119592\nlocal:nat     0.6507302 0.09539727 0.13071381 0.13419318 0.14412248 0.15589046\nnat:inter     0.4272831 0.11353291 0.14650612 0.14963979 0.14797510 0.19098607\nnational      0.2612203 0.04803752 0.06754975 0.06683951 0.06585096 0.07285079\n            Subfield_Englishagronomy & agriculture\nall                                      0.4983381\ninter                                    0.8391349\nlocal                                    0.8986516\nlocal:inter                             17.2049317\nlocal:nat                                0.6717322\nnat:inter                                0.4887147\nnational                                 0.2726482\n            Subfield_Englishartificial intelligence & image processing\nall                                                          0.4305753\ninter                                                        0.7927811\nlocal                                                        0.8811460\nlocal:inter                                                 13.4774342\nlocal:nat                                                    0.6518049\nnat:inter                                                    0.4116532\nnational                                                     0.2614936\n            Subfield_Englishbioinformatics\nall                              0.4600362\ninter                            0.9117265\nlocal                            0.9727896\nlocal:inter                     17.4064829\nlocal:nat                        0.6684074\nnat:inter                        0.4542940\nnational                         0.2676866\n            Subfield_Englishbiomedical engineering\nall                                      0.4528666\ninter                                    0.8469295\nlocal                                    1.0553635\nlocal:inter                             17.2266553\nlocal:nat                                0.6726580\nnat:inter                                0.4266008\nnational                                 0.2685341\n            Subfield_Englishbiotechnology\nall                             0.4984843\ninter                           0.9552018\nlocal                           1.2603665\nlocal:inter                    19.2763557\nlocal:nat                       0.6947720\nnat:inter                       0.5510660\nnational                        0.2805017\n            Subfield_Englishbuilding & construction\nall                                       0.5568457\ninter                                     0.8781823\nlocal                                     1.2725275\nlocal:inter                              24.9159395\nlocal:nat                                 0.7327069\nnat:inter                                 0.6196520\nnational                                  0.3432354\n            Subfield_Englishchemical engineering\nall                                    0.7249034\ninter                                  1.2607376\nlocal                                 19.6077247\nlocal:inter                           28.1999833\nlocal:nat                              0.9517390\nnat:inter                              0.8122337\nnational                               0.3157698\n            Subfield_Englishcivil engineering\nall                                 0.6685268\ninter                              14.0754160\nlocal                              16.3795661\nlocal:inter                        34.7087915\nlocal:nat                           1.2078859\nnat:inter                          39.4284443\nnational                            0.4932256\n            Subfield_Englishcomputation theory & mathematics\nall                                                13.348983\ninter                                               6.630161\nlocal                                               6.986441\nlocal:inter                                        79.038274\nlocal:nat                                           8.888088\nnat:inter                                          21.134830\nnational                                           25.584559\n            Subfield_Englishcomputer hardware & architecture\nall                                                 1.320700\ninter                                               7.606455\nlocal                                               8.129063\nlocal:inter                                        57.426817\nlocal:nat                                          12.359642\nnat:inter                                          31.848287\nnational                                            1.263445\n            Subfield_Englishdairy & animal science\nall                                      0.5833744\ninter                                    0.9135783\nlocal                                    0.9726064\nlocal:inter                             21.5424726\nlocal:nat                                0.7870095\nnat:inter                                0.5776844\nnational                                 0.2977844\n            Subfield_Englishdesign practice & management\nall                                            13.254612\ninter                                           7.295718\nlocal                                           1.465621\nlocal:inter                                    67.834014\nlocal:nat                                      10.619805\nnat:inter                                      19.884282\nnational                                        1.288937\n            Subfield_Englishdistributed computing\nall                                      9.646162\ninter                                    6.857691\nlocal                                    7.350654\nlocal:inter                             47.786910\nlocal:nat                                9.123436\nnat:inter                               13.463095\nnational                                24.747892\n            Subfield_Englishelectrical & electronic engineering\nall                                                  31.0194987\ninter                                                13.1174499\nlocal                                                14.5653720\nlocal:inter                                          41.5476916\nlocal:nat                                            19.5656105\nnat:inter                                            49.5046689\nnational                                              0.6699574\n            Subfield_Englishenergy Subfield_Englishenvironmental engineering\nall                      0.4282645                                 0.4683889\ninter                    0.8132493                                 0.9555520\nlocal                    0.8310473                                 0.8358918\nlocal:inter             16.5257417                                17.9904463\nlocal:nat                0.6453576                                 0.6602104\nnat:inter                0.4065633                                 0.4550112\nnational                 0.2583563                                 0.2748112\n            Subfield_Englishfisheries Subfield_Englishfood science\nall                         0.4699474                    0.4621904\ninter                       0.8816036                    0.8793773\nlocal                       0.8295545                    0.8992672\nlocal:inter                13.4766315                   16.8826219\nlocal:nat                   0.6610293                    0.6577555\nnat:inter                   0.4578343                    0.4540317\nnational                    0.2845123                    0.2730560\n            Subfield_Englishforestry\nall                        0.4874482\ninter                      0.8882222\nlocal                      0.8526408\nlocal:inter               20.6342204\nlocal:nat                  0.6692933\nnat:inter                  0.5772885\nnational                   0.2940905\n            Subfield_Englishgeological & geomatics engineering\nall                                                  0.6176841\ninter                                                1.0398345\nlocal                                                1.2651912\nlocal:inter                                         23.8325241\nlocal:nat                                            0.8620173\nnat:inter                                            0.5584763\nnational                                             0.3016306\n            Subfield_Englishhorticulture\nall                            14.439763\ninter                           8.448343\nlocal                           1.406236\nlocal:inter                    48.499374\nlocal:nat                      11.888746\nnat:inter                       1.207199\nnational                        1.201344\n            Subfield_Englishindustrial engineering & automation\nall                                                   0.4932860\ninter                                                 0.8673377\nlocal                                                 1.0575443\nlocal:inter                                          21.4026739\nlocal:nat                                             0.7619312\nnat:inter                                             0.4728991\nnational                                              0.3012848\n            Subfield_Englishinformation systems Subfield_Englishmaterials\nall                                   0.6509042                 0.5115345\ninter                                15.4930419                 0.9111551\nlocal                                 1.2806476                 1.2588251\nlocal:inter                          32.2542835                17.9362303\nlocal:nat                             0.8826779                 0.7014000\nnat:inter                             0.8400924                 0.5164231\nnational                              0.4471196                 0.2701430\n            Subfield_Englishmechanical engineering & transports\nall                                                   0.5437247\ninter                                                17.6397074\nlocal                                                 1.2760612\nlocal:inter                                          24.0793364\nlocal:nat                                             0.7219189\nnat:inter                                             0.5176112\nnational                                              0.3198752\n            Subfield_Englishmedical informatics\nall                                   0.6052665\ninter                                 1.2390270\nlocal                                 0.9270251\nlocal:inter                          13.4687639\nlocal:nat                             0.6956200\nnat:inter                             0.6294948\nnational                              0.2803362\n            Subfield_Englishmining & metallurgy\nall                                    9.836844\ninter                                  7.299549\nlocal                                  7.626158\nlocal:inter                           81.982399\nlocal:nat                              8.995233\nnat:inter                             12.601259\nnational                               1.200099\n            Subfield_Englishnanoscience & nanotechnology\nall                                            0.4387667\ninter                                          0.8053908\nlocal                                          0.8658930\nlocal:inter                                   13.4990587\nlocal:nat                                      0.6577005\nnat:inter                                      0.4057853\nnational                                       0.2573081\n            Subfield_Englishnetworking & telecommunications\nall                                               0.6651147\ninter                                             1.2589250\nlocal                                             1.2713866\nlocal:inter                                      28.6691383\nlocal:nat                                         0.7919529\nnat:inter                                         1.0582811\nnational                                          0.3425824\n            Subfield_Englishoperations research\nall                                   1.1448243\ninter                                13.8987863\nlocal                                15.4430808\nlocal:inter                          34.3974998\nlocal:nat                            17.3258856\nnat:inter                            41.5040817\nnational                              0.4563489\n            Subfield_Englishoptoelectronics & photonics\nall                                           0.6243893\ninter                                         1.2570083\nlocal                                        18.3262431\nlocal:inter                                  24.7578649\nlocal:nat                                     0.8681416\nnat:inter                                     0.5463949\nnational                                      0.3092939\n            Subfield_Englishsoftware engineering\nall                                   20.3953887\ninter                                  1.3653222\nlocal                                 10.5223634\nlocal:inter                           49.2549747\nlocal:nat                             14.1422907\nnat:inter                             31.9356517\nnational                               0.7571416\n            Subfield_Englishstrategic, defence & security studies\nall                                                     0.4800018\ninter                                                   0.9522245\nlocal                                                   0.9284408\nlocal:inter                                            13.4766451\nlocal:nat                                               0.6679331\nnat:inter                                               0.5083597\nnational                                                0.2870849\n            Subfield_Englishurban & regional planning\nall                                         0.5080465\ninter                                       1.0408806\nlocal                                       0.8437480\nlocal:inter                                13.4955054\nlocal:nat                                   0.6710678\nnat:inter                                   0.4867836\nnational                                    0.2893439\n            Subfield_Englishveterinary sciences         q1         q2\nall                                   0.4646455 0.21042223 0.20565607\ninter                                 0.8797711 0.32569091 0.30500993\nlocal                                 0.8361633 0.28231781 0.28032806\nlocal:inter                          16.1614662 1.00646772 0.87291569\nlocal:nat                             0.6561596 0.15118002 0.15332012\nnat:inter                             0.4629537 0.21473090 0.22000784\nnational                              0.2733331 0.07713401 0.07638464\n                    q3\nall         0.17433761\ninter       0.27864546\nlocal       0.27316811\nlocal:inter 0.89984685\nlocal:nat   0.13729191\nnat:inter   0.18034432\nnational    0.06893574\n\n"
     ]
    }
   ],
   "source": [
    "std = base.summary(model).rx2('standard.errors')\n",
    "print(std)"
   ]
  },
  {
   "cell_type": "code",
   "execution_count": 0,
   "metadata": {
    "application/vnd.databricks.v1+cell": {
     "cellMetadata": {
      "byteLimit": 2048000,
      "rowLimit": 10000
     },
     "inputWidgets": {},
     "nuid": "59d3c258-f66b-4a46-915a-18af1382c696",
     "showTitle": false,
     "title": ""
    }
   },
   "outputs": [
    {
     "output_type": "stream",
     "name": "stdout",
     "output_type": "stream",
     "text": [
      "printing p value\n[[7.01782849e-035 2.90260072e-001 6.97189980e-002 1.05675570e-002\n  6.63469452e-002 1.04865807e-002 2.52588203e-054 5.58300869e-008\n  6.73968505e-004 3.52486439e-022 1.29825826e-002 3.41161362e-003\n  1.43179656e-028]\n [4.37825072e-024 8.30620615e-001 2.18702998e-001 4.68472489e-001\n  2.51771074e-001 5.10323825e-002 1.56815867e-009 4.91249800e-001\n  1.98971339e-001 1.19268252e-003 7.71089412e-001 2.69191046e-001\n  7.76203224e-002]\n [5.04936944e-018 7.75222430e-001 8.02610930e-001 9.24481086e-001\n  7.13598943e-001 3.66201244e-001 3.60056768e-012 1.09551367e-001\n  5.63768358e-001 5.40628679e-008 8.64902848e-001 1.24548779e-001\n  4.05638423e-004]\n [2.33333455e-008 9.24776038e-001 8.11501874e-001 9.77415516e-001\n  5.62370524e-001 5.49471069e-001 6.02530172e-002 5.89418558e-001\n  5.78567041e-001 1.26404895e-001 6.59027238e-001 9.25024827e-001\n  6.36957284e-001]\n [2.23067799e-018 4.71041466e-001 7.43718686e-001 5.85605515e-001\n  1.19854543e-003 9.03188436e-001 1.03544873e-062 7.73293027e-002\n  1.17139007e-005 5.43604584e-044 1.92608220e-001 1.28710908e-002\n  1.59130848e-010]\n [8.33780094e-046 1.45904377e-001 2.55494551e-001 1.42472655e-004\n  2.32511475e-001 3.45196098e-001 3.42454257e-045 2.44279870e-003\n  2.90029117e-004 1.02251132e-003 2.04526933e-001 7.67661940e-004\n  4.30723360e-025]\n [1.55000220e-007 9.92948335e-001 7.71957570e-001 3.26511622e-001\n  9.72246853e-003 1.68889382e-002 1.00878504e-124 1.43908099e-008\n  6.63114023e-023 3.16546633e-005 8.97858930e-001 9.50905481e-007\n  5.05214662e-050]]\n"
     ]
    }
   ],
   "source": [
    "coeffs = base.summary(model).rx2('coefficients')\n",
    "std = base.summary(model).rx2('standard.errors')\n",
    "import scipy.stats \n",
    "\n",
    "z = np.array(coeffs) / np.array(std)\n",
    "#print(z)\n",
    "\n",
    "def my_vectorized_func(m):\n",
    "    return scipy.stats.norm.sf(abs(m))*2\n",
    "\n",
    "val = my_vectorized_func(z)\n",
    "print(\"printing p value\")\n",
    "print(val)\n"
   ]
  },
  {
   "cell_type": "code",
   "execution_count": 0,
   "metadata": {
    "application/vnd.databricks.v1+cell": {
     "cellMetadata": {
      "byteLimit": 2048000,
      "rowLimit": 10000
     },
     "inputWidgets": {},
     "nuid": "309393fe-373d-4cd8-ad5e-77b39a905865",
     "showTitle": false,
     "title": ""
    }
   },
   "outputs": [
    {
     "output_type": "stream",
     "name": "stdout",
     "output_type": "stream",
     "text": [
      "Out[18]: 0.00963659487517652"
     ]
    }
   ],
   "source": [
    "scipy.stats.norm.sf(abs(0.12109247/0.04677907))*2"
   ]
  },
  {
   "cell_type": "markdown",
   "metadata": {
    "application/vnd.databricks.v1+cell": {
     "cellMetadata": {},
     "inputWidgets": {},
     "nuid": "62f19f72-bfbc-469a-b4c3-f73acb395cc1",
     "showTitle": false,
     "title": ""
    }
   },
   "source": [
    "#### percent in different group"
   ]
  },
  {
   "cell_type": "code",
   "execution_count": 0,
   "metadata": {
    "application/vnd.databricks.v1+cell": {
     "cellMetadata": {
      "byteLimit": 2048000,
      "rowLimit": 10000
     },
     "inputWidgets": {},
     "nuid": "ff5dd71b-fd6d-46fb-a228-c3ec1ecfb672",
     "showTitle": false,
     "title": ""
    }
   },
   "outputs": [],
   "source": [
    "dummy = tot.copy()\n",
    "gender = []\n",
    "for ind in dummy.index:\n",
    "  if dummy['cor_gender'][ind] == 'female' or dummy['cor_gender'][ind] == 'f' or dummy['cor_gender'][ind] == 'F':\n",
    "      gender.append(\"female\")\n",
    "  else:\n",
    "      gender.append(\"male\") \n",
    "dummy['gender'] = gender"
   ]
  },
  {
   "cell_type": "code",
   "execution_count": 0,
   "metadata": {
    "application/vnd.databricks.v1+cell": {
     "cellMetadata": {
      "byteLimit": 2048000,
      "rowLimit": 10000
     },
     "inputWidgets": {},
     "nuid": "bad3407e-1e42-4d07-84fb-1e16ebabdd72",
     "showTitle": false,
     "title": ""
    }
   },
   "outputs": [
    {
     "output_type": "stream",
     "name": "stdout",
     "output_type": "stream",
     "text": [
      "0.4054628414275892\n0.37037694328103926\n0.379198805673053\n0.37733137587361976\n"
     ]
    }
   ],
   "source": [
    "l = dummy[dummy['local_count'] > 0]\n",
    "print(len(l[l['gender'] == \"female\"])/len(l))\n",
    "\n",
    "\n",
    "n = dummy[dummy['national_count'] > 0]\n",
    "print(len(n[n['gender'] == \"female\"])/len(n))\n",
    "\n",
    "i = dummy[dummy['international_count'] > 0]\n",
    "print(len(i[i['gender'] == \"female\"])/len(i))\n",
    "\n",
    "s = dummy[dummy['sp_count'] > 0]\n",
    "print(len(s[s['gender'] == \"female\"])/len(s))"
   ]
  },
  {
   "cell_type": "code",
   "execution_count": 0,
   "metadata": {
    "application/vnd.databricks.v1+cell": {
     "cellMetadata": {
      "byteLimit": 2048000,
      "rowLimit": 10000
     },
     "inputWidgets": {},
     "nuid": "1b86d7f4-689c-4838-ba32-47c6c7439400",
     "showTitle": false,
     "title": ""
    }
   },
   "outputs": [
    {
     "output_type": "stream",
     "name": "stdout",
     "output_type": "stream",
     "text": [
      "0.13149946281243033   0.4230605501611563   0.09268005919198881   0.7398390464413858\n9.48031450033613   30.50010230029521   6.681670709964049   53.337912489404616\n0.11875600833988789   0.4429379377504776   0.09344919285366493   0.7519257899796497\n8.439956699969834   31.47947685045519   6.641408315735303   53.43915813383969\n"
     ]
    }
   ],
   "source": [
    "#threshold = dummy['sp_count'].quantile(0.95)\n",
    "\n",
    "# Select rows with 'money' values in the top 5%\n",
    "#dummy = dummy[dummy['sp_count'] >= threshold]\n",
    "\n",
    "f = dummy[dummy['gender'] == 'female']\n",
    "m = dummy[dummy['gender'] == 'male']\n",
    "\n",
    "fl = f[f['local_count'] > 0]\n",
    "fn = f[f['national_count'] > 0]\n",
    "fi = f[f['international_count'] > 0]\n",
    "fs = f[f['sp_count'] > 0]\n",
    "fa = len(fl)/len(f)\n",
    "fb = len(fn)/len(f)\n",
    "fc = len(fi)/len(f)\n",
    "fd = len(fs)/len(f)\n",
    "print(fa, \" \",fb,\" \",fc,\" \",fd)\n",
    "print((fa * 100)/(fa+fb+fc+fd),\" \",(fb * 100)/(fa+fb+fc+fd),\" \",(fc * 100)/(fa+fb+fc+fd),\" \",(fd * 100)/(fa+fb+fc+fd))\n",
    "\n",
    "ml = m[m['local_count'] > 0]\n",
    "mn = m[m['national_count'] > 0]\n",
    "mi = m[m['international_count'] > 0]\n",
    "ms = m[m['sp_count'] > 0]\n",
    "ma = len(ml)/len(m)\n",
    "mb = len(mn)/len(m)\n",
    "mc = len(mi)/len(m)\n",
    "md = len(ms)/len(m)\n",
    "print(ma,\" \",mb,\" \",mc,\" \",md)\n",
    "print((ma * 100)/(ma+mb+mc+md),\" \",(mb * 100)/(ma+mb+mc+md),\" \",(mc * 100)/(ma+mb+mc+md),\" \",(md * 100)/(ma+mb+mc+md))\n"
   ]
  },
  {
   "cell_type": "code",
   "execution_count": 0,
   "metadata": {
    "application/vnd.databricks.v1+cell": {
     "cellMetadata": {
      "byteLimit": 2048000,
      "rowLimit": 10000
     },
     "inputWidgets": {},
     "nuid": "1f99ef8c-4a99-4414-8d81-fe7f0b920c4d",
     "showTitle": false,
     "title": ""
    }
   },
   "outputs": [
    {
     "output_type": "stream",
     "name": "stdout",
     "output_type": "stream",
     "text": [
      "0.4054628414275892   0.37037694328103926   0.379198805673053   0.37733137587361976\n26.459853061361613   24.170203765226525   24.745904319680225   24.624038853731637\n0.5945371585724107   0.6296230567189608   0.620801194326947   0.6226686241263802\n24.093447982158963   25.515293950426187   25.15779050495927   25.23346756245558\n"
     ]
    }
   ],
   "source": [
    "f = dummy[dummy['gender'] == 'female']\n",
    "m = dummy[dummy['gender'] == 'male']\n",
    "\n",
    "fl = f[f['local_count'] > 0]\n",
    "fn = f[f['national_count'] > 0]\n",
    "fi = f[f['international_count'] > 0]\n",
    "fs = f[f['sp_count'] > 0]\n",
    "fa = len(fl)/len(l)\n",
    "fb = len(fn)/len(n)\n",
    "fc = len(fi)/len(i)\n",
    "fd = len(fs)/len(s)\n",
    "print(fa, \" \",fb,\" \",fc,\" \",fd)\n",
    "print((fa * 100)/(fa+fb+fc+fd),\" \",(fb * 100)/(fa+fb+fc+fd),\" \",(fc * 100)/(fa+fb+fc+fd),\" \",(fd * 100)/(fa+fb+fc+fd))\n",
    "\n",
    "ml = m[m['local_count'] > 0]\n",
    "mn = m[m['national_count'] > 0]\n",
    "mi = m[m['international_count'] > 0]\n",
    "ms = m[m['sp_count'] > 0]\n",
    "ma = len(ml)/len(l)\n",
    "mb = len(mn)/len(n)\n",
    "mc = len(mi)/len(i)\n",
    "md = len(ms)/len(s)\n",
    "print(ma,\" \",mb,\" \",mc,\" \",md)\n",
    "print((ma * 100)/(ma+mb+mc+md),\" \",(mb * 100)/(ma+mb+mc+md),\" \",(mc * 100)/(ma+mb+mc+md),\" \",(md * 100)/(ma+mb+mc+md))"
   ]
  },
  {
   "cell_type": "code",
   "execution_count": 0,
   "metadata": {
    "application/vnd.databricks.v1+cell": {
     "cellMetadata": {
      "byteLimit": 2048000,
      "rowLimit": 10000
     },
     "inputWidgets": {},
     "nuid": "8a4ff439-9dd7-4478-a18d-c95feb190ab6",
     "showTitle": false,
     "title": ""
    }
   },
   "outputs": [
    {
     "output_type": "stream",
     "name": "stdout",
     "output_type": "stream",
     "text": [
      "Out[57]: 12.326577461825302"
     ]
    }
   ],
   "source": [
    "((9.48031450033613 - 8.439956699969834)/8.439956699969834) *  100"
   ]
  },
  {
   "cell_type": "code",
   "execution_count": 0,
   "metadata": {
    "application/vnd.databricks.v1+cell": {
     "cellMetadata": {
      "byteLimit": 2048000,
      "rowLimit": 10000
     },
     "inputWidgets": {},
     "nuid": "6780c6e5-aca7-413a-8982-cb1c6e278c27",
     "showTitle": false,
     "title": ""
    }
   },
   "outputs": [
    {
     "output_type": "stream",
     "name": "stdout",
     "output_type": "stream",
     "text": [
      "Out[58]: 3.211053328665388"
     ]
    }
   ],
   "source": [
    "((31.47947685045519 - 30.50010230029521)/30.50010230029521)*100"
   ]
  },
  {
   "cell_type": "markdown",
   "metadata": {
    "application/vnd.databricks.v1+cell": {
     "cellMetadata": {
      "byteLimit": 2048000,
      "rowLimit": 10000
     },
     "inputWidgets": {},
     "nuid": "5a4e5205-0845-4dbe-b960-985cb72edcd9",
     "showTitle": false,
     "title": ""
    }
   },
   "source": [
    "## Which big names are we missing in our classification media matching?"
   ]
  },
  {
   "cell_type": "code",
   "execution_count": 0,
   "metadata": {
    "application/vnd.databricks.v1+cell": {
     "cellMetadata": {
      "byteLimit": 2048000,
      "rowLimit": 10000
     },
     "inputWidgets": {},
     "nuid": "eefe3731-e329-4a78-a87b-8cd65dae51f5",
     "showTitle": false,
     "title": ""
    }
   },
   "outputs": [
    {
     "output_type": "stream",
     "name": "stdout",
     "output_type": "stream",
     "text": [
      "                         media  no_of_doi\n1476               eurekalert!      36214\n2727             medicalxpress      27520\n5044                yahoo!news      26101\n2853                       msn      23371\n3385                  phys.org      23205\n3728              sciencedaily      19197\n4297            themedicalnews      16858\n2717         medicalhealthnews      16020\n3027                 newsbreak      15613\n3088                  newswise      15327\n1205               docwirenews      15246\n3746                  scienmag      14281\n2798                miragenews      13517\n4154           theconversation      11645\n2740                  medscape       9475\n1230                     drugs       9141\n5039                    yahoo!       8908\n4030        technologynetworks       8461\n3738         sciencenewsnet.in       8173\n222                   alzforum       7791\n3386       physician'sbriefing       7630\n2738              medpagetoday       7483\n2612                  longroom       7429\n5043          yahoo!financeusa       7146\n2102                infosurhoy       6921\n2734                  mediumus       6383\n1608  foreignaffairsnewzealand       6207\n2730                  medindia       5937\n471             bignewsnetwork       5736\n1204             doctorslounge       5583\n3094              newyorktimes       5410\n483            bioengineer.org       5333\n1673                  futurity       5318\n3755              scitechdaily       5277\n1024                 dailymail       5223\n1189            dispatch-argus       5001\n2577        lincolnjournalstar       4838\n443                   benzinga       4830\n294           arizonadailystar       4568\n2991                 newkerala       4547\n"
     ]
    }
   ],
   "source": [
    "highest_mention = new_total.groupby('media')['doi'].count().reset_index()\n",
    "highest_mention.columns = ['media', 'no_of_doi']\n",
    "highest_mention = highest_mention.sort_values(by=['no_of_doi'], ascending = False)\n",
    "highest_mention = highest_mention.head(1000)\n",
    "print(highest_mention.head(40))"
   ]
  },
  {
   "cell_type": "code",
   "execution_count": 0,
   "metadata": {
    "application/vnd.databricks.v1+cell": {
     "cellMetadata": {
      "byteLimit": 2048000,
      "rowLimit": 10000
     },
     "inputWidgets": {},
     "nuid": "1b1f0f8a-62e2-4b01-9a6e-87ac70109c5b",
     "showTitle": false,
     "title": ""
    }
   },
   "outputs": [
    {
     "output_type": "stream",
     "name": "stdout",
     "output_type": "stream",
     "text": [
      "683\n{'ncyt-noticiasdelacienciaylatechnologia', 'healtheuropa', 'focusonline', 'eurekalert!', 'daytonews', 'biospace', 'zeenews(india)', 'wmcactionnews5', 'metrouk', 'nutraingredientsusa', 'theverge', 'kaiserhealthnews', 'businessinsidermalaysia', 'infobae', 'kuam', 'ndtv', 'southafricatoday', 'azonano', 'chemical&engineeringnews', 'americanpharmacistsassociation', 'futurity', 'nbc12', 'chemeurope', 'diagnosticimaging', 'superinteressante', 'journalbreak', 'newatlas', 'lavanguardia', 'medportal', 'environmentalnewsnetwork', 'socialnews.xyz', 'wrkf', 'crossroadstodayabc25', \"journalist'sresource\", 'laboratoryequipment', 'elperiodico-es', 'livescience', 'firstpost', 'renal&urologynews', 'gen', 'eatthis,notthat!', 'essexlive', 'canindia', 'diewelt', 'theage', 'technewsboy', 'alphagalileo', 'eldiario', 'woodzog', 'newsgrooveuk', 'arztezeitung', 'newson6', 'laopiniónmálaga', 'newhampshirepublicradio', 'arstechnica', 'globalnews', 'nuevoperiodico', 'skynightly', 'popularmechanics', 'ddnews', 'trueviralnews', '163', 'aln', 'deutschesärzteblatt', 'ebiotrade', 'healthmedicinet', 'pressreleasepoint', 'nbcrightnowkndu25', 'onclive', 'entrepreneur', 'seeddaily', 'nationalobserver', 'phillyvoice', 'countonnews2', 'techtimes', \"physician'sbriefing\", 'newschannel10', 'cosmosmagazine', 'universityofmichigannews', 'sbdirtysouthsoccer', 'inc.', 'tctmd', 'keycnews12', 'pressnewsagency', 'wcax', 'tribuneindia', 'theuniversityofneworleanspublicradio', 'myscience', 'actionnewsnow', 'fox31denverkdvr-tv', 'news5cleveland', 'everydayhealth', 'news.am', 'medicaldaily', 'headtopics', 'biosciencetechnology', 'e&tmagazine', '20minutes', 'greenreport(italy)', 'kansaspublicradio', 'ieeespectrum', 'terradaily', 'newzealandherald', 'medicalbrief', 'techxplore', 'newswest9', 'bionewscentral', 'foreignaffairsnewzealand', 'clinicaladvisor', 'modernhealthcare', 'rocketnews', 'nouvellesdumonde', 'abcdesevilla', 'discovermagazine', 'xinhua', 'grist', 'theweek(india)', 'theengineer', 'nasdaq', 'thesciencetimes,unitedstates', 'homelandsecuritynewswire', 'earth', 'trialsitenews', 'bustle', 'bioengineer.org', 'swifttelecast', 'boisestatepublicradio', 'statnews', 'elimparcial', 'medscape', 'crweworld', 'kclu', 'wtol', 'newsbeezer', 'outlookindia', 'docwirenews', 'physicsworld', 'gizmodouk', \"becker'shospitalreview\", 'kpbs', '7thspacefamilyportal', 'pediatricnews', 'prokerala', 'sdpbradio', 'alertbreakingnews-us', 'theasianage', '12newskbmt', \"becker'sascreview\", 'wral', \"phil'sstockworld\", 'devdiscourse', 'agenciasinc', 'upjobsnews', 'iol', 'carbonbrief', 'paperity', 'drugtargetreview', 'galaxyconcerns', 'sifynews', 'latercera', 'infectioncontroltoday', 'kosu', 'orthopedicsthisweek', 'cbs8', 'awsforwp', 'clarín', 'mitteldeutscherrundfunk', 'frankfurterallgemeine', 'fiercebiotech', 'azooptics', 'qrius', 'businesswire', 'thewire', 'onenewspage', 'focus.pl', 'lastampa', 'popularscience', 'braintree&withamtimes', 'n-tv', 'newenglandpublicradio', 'news18', 'kctv5', 'globalcirculate', 'europapress', 'abcnyheter', 'kpvi', 'cleveland19', 'ukwithny', \"physician'sweekly\", 'saltwire', 'healthday', '2news', 'scienmag', 'neurologyadvisor', 'kbtx-tv', 'bionity', 'wateronline', 'elcomercio', 'scitechdaily', 'moneycontrol', 'wallstreetonlinedenmark', 'polit', 'insideclimatenews', 'popmech', 'marketscreener', 'themedicalnews', 'exbulletin', 'miragenews', 'tekdeeps', \"mcknight's\", 'indexhungary', 'newkerala', '7news', 'worldnewssbs', 'laopiniondemurcia', 'medwirenews', 'kslanews12', 'kunc', 'cornellchronicle', 'irishexaminer', 'newsypeople', 'francetvinfo', 'wuky', 'pressfrom', 'jazzwclk', 'thetelegraph(uk)', 'gazeta.ru', 'theplymouthherald', 'chineseacademyofscience', 'nyteknik', 'azolifesciences', 'kfgo', 'medindia', 'massivescience', 'nanotechnologynow', 'wuwm', 'hawaiipublicradio', 'thepioneer', 'eveningexpress', 'medicalxpress', 'thedarientimes', 'aappublications', 'fanpage', 'oakridgenationallaboratory', 'nutraingredients', 'madisonmagazine', 'cadenaser', 'space', 'technology.org', 'myza', 'drugdiscoveryanddevelopment', 'madrid', 'thecanberratimes', 'vbio', 'lanuevaespaña', 'georgiapublicradio', 'businessinsiderindia', 'longroom', 'sciencepost', 'inews', 'cardiovascularbusiness', 'nbc4', 'leicestermercury', 'sci-news', 'cnet', 'wcbe', 'coventrytelegraph', 'dailygeekshow', 'cancernetwork', 'finanznachrichten', 'omahapublicradio', 'itnewsonline', 'q13fox', 'elpasoinc', 'syfywire', 'seedquest', 'scicasts', 'fatherly', 'news24', 'lasexta', 'healio', 'kunm', 'brisbanetimes', 'universityofwisconsin-madison', 'bluefielddailytelegraph', 'solardaily', 'sohunews', 'healthimaging', \"witchita'spublicradio\", 'elementy.ru', 'abcactionnewswftstampabay', 'timesnownews', 'aol(uk)', 'levante', 'losangelestimes', 'eurasiareview', 'gizmodo', 'businessmayor', 'newschannel11wjhl', 'alzforum', 'mediumus', 'mpr', 'sciencesetavenir', 'telenganatoday', 'torontotelegraph', 'scinexx', 'medcitynews', 'jano', 'mongabay', 'profitquotes', 'seekingalpha', 'pharmacytimes', 'wypr', 'healthleadersmedia', 'spoke', 'heral&review', 'greencarcongress', 'japantoday', 'kcbd', 'estadao.com.br', 'insurancenewsnet', 'bioportfolio', 'pharmiweb', 'globalresearch', '2minutemedicine', 'psychcentral', 'biocentury', 'bignewsnetwork', 'firstwordpharma', 'koin6', 'thriveglobal', 'thefinancialexpress(ind)', 'wtoc', 'thescientistmagazine', 'globaladvisors', 'ladders', 'chardandilminsternews', 'centralcoastpublicradio', 'sciencenewsline', 'free', 'dailynews-record', 'larazon(esp)', 'риановости', 'scientias', 'ariva', 'pharmastaritaly', 'finanzen.ch', 'businessinsidernederland', 'drugs', 'earth&spacesciencenews', 'techregister', 'radioacadie', 'bdnews24', \"women'shealth\", 'koamnewsnow', 'lescienze', 'sciencenewsnet.in', 'kfvethehometeam', 'bgr', 'fightaging!', 'bizwireexpress', 'today', 'netindia123', 'romenewstribune', 'yaktrinews', 'prnewswireuk', 'brookings', 'healthaffairs', 'technologynetworks', 'yourerie', 'infosurhoy', 'pieuvre.ca', 'vervetimes', 'tickertech', 'india4u', 'farodevigo', 'milleniumpost', 'medpagetoday', 'eeworldonline', 'zap', 'wafb9', 'pharmabiz', 'westernmassnews', 'medicalhealthnews', 'theprint', 'mississippinewsnow', 'origo', 'whsv3', 'wbal', 'todayuknews', 'morningnews', 'informnny', 'tristatespublicradio', 'newsbreak', 'diariodemallorca', 'minyanville:finance', 'elperiódicoextremadura', 'weatherherald', 'thecape,coastandislandsnprstation', 'medicalnewstoday', 'pettinga:stockmarket', 'bloombergquint', 'lenta.ru', 'genomeweb', 'wired.co.uk', 'pvmagazine', 'tucsonnewsnow', 'kiiitv3', 'greenme', 'healthcarefinancenews', 'nutraceuticalsworld', 'sverigeradio', 'republic', 'bbcfocusscience&technology', 'nakedscience', 'iowapublicradio', 'olhardigital', 'mprnews', 'valuewalk', 'americancouncilonscienceandhealth', 'einpresswire', 'minnpost', 'todayheadline', 'skyitaliatg24', 'primeurmagazine', 'refinery29', 'dailymagazine', 'santélog', 'telecinco', 'agenparl', 'ktepelpaso', 'hcplive', 'thefreshtoast', 'healthline', 'westernaustraliatoday', 'medisite.fr', 'expressdigest', 'tmcnet', 'abc.es', 'dailyhunt', 'replicário', 'heise', 'holadoctor', 'kuow', 'materialstoday', 'wxpr', 'sport', 'fiercehealth', 'wunc', 'indiatoday', 'ecobusiness', 'northeastpublicradio', 'governmentexecutive', 'thetyee', 'newsazi', 'aarp', 'yle.fi', 'elperiódicomediterraneo', 'mitnews', 'theexpress', 'newschannel6', 'finanzen', 'bullfax', 'fastcompany', 'morningstar', 'technologytimes', 'psychologytoday', 'oregonpublicbroadcasting', 'insidehighered', 'yalenews', '3dprintingindustry', 'realhealth', 'thinkingport', 'jamaiceoberserver', 'keranews', 'interestingengineering', 'córdoba', 'spectrumnews', 'forextv', 'sydneymorningherald', 'environmentalhealthperspectives', 'outside', 'kiowacountypress', \"men'shealth\", 'stuff.co.nz', 'operanews', 'theamedpost', 'wvtf', 'thepaper', 'akoahnicbroadcaststation', 'wkar', 'nanowerk', 'photonics', 'informacion', 'thisismoney', 'thefreepressjournal', 'kpcc:southerncaliforniapublicradio', 'harvardgazette', 'wion', 'hawaiinewsnow', 'wabe', 'usalifesciencesdatabase', 'northeasternindianapublicradio', 'fox5', 'sciencedaily', 'notimerica', 'diagnosticandinterventionalcardiology', 'iflscience', 'fox7austin', 'mcknightsseniorliving', 'controlledenvironments', 'everythinglubbock', 'signofthetimes', 'azom', 'galileonet', 'krwgtv/fm', 'focus.it', 'cambridgenews', 'chemistryviews', 'fox26houston', 'digitaljournal', 'orf.at', 'themirror', 'newscabal', 'wyomingpublicradio', 'azocleantech', 'techcrunch', 'dailymaverick', 'natureasia', 'err.ee', 'ici.radio-canada.ca', 'innovationsreport', 'lemonde', 'publico', 'hvg.hu', 'channelnewsasiacna', 'laopinióndezamora', 'nachrichtenwelt', 'whdh-tv', 'revyuh', 'asiaone', 'worldeconomicforum', 'ajmc', 'daijiworld', 'illustreretvidenskab', 'gurufocus', 'informationsdienstwissenschaft', 'endocrinologyadvisor', 'science/aaas', 'consumerreports', 'rheumatologyadvisor', 'labmanager', '20minuten', 'wboc16', 'delmarvapublicradio', 'biotechgate', 'bestlife', 'china.org', 'nrchandelsblad', 'yourbasin', 'wbtv', 'wjct', 'nottinghamshirelive', 'bigthink', 'canaltech', 'cancertherapyadvisor', 'globenewswire', 'paperblog', 'futura-sciences', 'elespañol', 'newscientist', 'rtbf', 'centrefordiseaseresearchandpolicy', 'cn-healthcare', 'dailymail', 'wjtv', 'endpoints', 'laopiniónacoruña', 'askbygeeks', 'businessmirror', 'abc27', 'r&d', 'interlochenpublicradio', 'wsaw-tv', 'theascopost', 'wgn9', 'earthsky', 'ilpost', 'devolkskrant', 'yahoo!financecanada', 'azosensors', 'myneuronews', 'gizmodoaustralia', 'scienceandliferussia', 'kansascityuniversityradio', 'news9', 'labroots', 'australasianscience', 'healthcanal', 'businessfast', 'publicradioeast', 'newcanaanadvertiser', 'uktimenews', 'dertagesspiegel', 'smithsonianmagazine', 'erienewsnow', 'walesonline', 'doctorslounge', 'vbprofiles', 'wvxu', 'innovazione', 'lavozdigital', 'expressinformer', 'plosmedicine', 'sciencealert', 'gazette-times', 'farsnewsagency', 'spacedaily', 'mothernaturenetwork', 'kopalniawiedzy', 'scrollindia', 'pharmazeutischezeitung', 'abc8news', 'theeveningtelegraph', 'derstandard', 'topsanté', '13newsnow', 'sciencenews', 'mobihealthnews', \"runner'sworld\", 'gamersgrade', 'wlrn', 'wbur', 'bnnbloomberg', 'diariodeibiza', 'wmbfnews', 'health24', 'actionnewsjax', 'stockwatch', 'apa', 'asbmb', 'cnnphilippines', 'prevention', 'medicinenet', 'jotup', 'yahoostylesingapore', 'allafrica', 'futurism', 'uncova', 'knoenews8', 'wrdw', 'benzinga', 'wissenschaft.de', 'ecancer', 'arizonapublicradio', 'mainepublic', 'spektrum', 'ktnewslive', 'northernpublicradio', 'insidescience', 'newser', 'mittechnologyreview', 'pourquoidocteur', 'muyinteresante', 'mytwintiers', 'slatefrance', 'wheels24', 'gigazine', 'indexcroatia', 'wvpe', 'wlns', 'thestraitstimes', 'derbyshirelive', 'dmnnewswire!', 'webmdnews', 'southcarolinanewsnow', 'latestly', 'elperiódicodearagón', 'indiatimespost', 'helsinginsanomat', 'inverse', 'aninews', 'dnyuz'}\n"
     ]
    }
   ],
   "source": [
    "missing = set(set(highest_mention['media']) - set(merged['media']))\n",
    "print(len(missing))\n",
    "print(missing)"
   ]
  },
  {
   "cell_type": "code",
   "execution_count": 0,
   "metadata": {
    "application/vnd.databricks.v1+cell": {
     "cellMetadata": {
      "byteLimit": 2048000,
      "rowLimit": 10000
     },
     "inputWidgets": {},
     "nuid": "97867069-e2fa-4cd5-babb-bc5ace15678d",
     "showTitle": false,
     "title": ""
    }
   },
   "outputs": [
    {
     "output_type": "display_data",
     "data": {
      "text/html": [
       "<style scoped>\n",
       "  .table-result-container {\n",
       "    max-height: 300px;\n",
       "    overflow: auto;\n",
       "  }\n",
       "  table, th, td {\n",
       "    border: 1px solid black;\n",
       "    border-collapse: collapse;\n",
       "  }\n",
       "  th, td {\n",
       "    padding: 5px;\n",
       "  }\n",
       "  th {\n",
       "    text-align: left;\n",
       "  }\n",
       "</style><div class='table-result-container'><table class='table-result'><thead style='background-color: white'><tr><th>media</th><th>no_of_doi</th></tr></thead><tbody><tr><td>eurekalert!</td><td>36214</td></tr><tr><td>medicalxpress</td><td>27520</td></tr><tr><td>sciencedaily</td><td>19197</td></tr><tr><td>themedicalnews</td><td>16858</td></tr><tr><td>medicalhealthnews</td><td>16020</td></tr><tr><td>newsbreak</td><td>15613</td></tr><tr><td>docwirenews</td><td>15246</td></tr><tr><td>scienmag</td><td>14281</td></tr><tr><td>miragenews</td><td>13517</td></tr><tr><td>medscape</td><td>9475</td></tr><tr><td>drugs</td><td>9141</td></tr><tr><td>technologynetworks</td><td>8461</td></tr><tr><td>sciencenewsnet.in</td><td>8173</td></tr><tr><td>alzforum</td><td>7791</td></tr><tr><td>physician'sbriefing</td><td>7630</td></tr><tr><td>medpagetoday</td><td>7483</td></tr><tr><td>longroom</td><td>7429</td></tr><tr><td>infosurhoy</td><td>6921</td></tr><tr><td>mediumus</td><td>6383</td></tr><tr><td>foreignaffairsnewzealand</td><td>6207</td></tr><tr><td>medindia</td><td>5937</td></tr><tr><td>bignewsnetwork</td><td>5736</td></tr><tr><td>doctorslounge</td><td>5583</td></tr><tr><td>bioengineer.org</td><td>5333</td></tr><tr><td>futurity</td><td>5318</td></tr><tr><td>scitechdaily</td><td>5277</td></tr><tr><td>dailymail</td><td>5223</td></tr><tr><td>benzinga</td><td>4830</td></tr><tr><td>newkerala</td><td>4547</td></tr><tr><td>newcanaanadvertiser</td><td>4280</td></tr><tr><td>labroots</td><td>4253</td></tr><tr><td>medicalnewstoday</td><td>4201</td></tr><tr><td>morningstar</td><td>4172</td></tr><tr><td>healio</td><td>4119</td></tr><tr><td>healthday</td><td>4057</td></tr><tr><td>dnyuz</td><td>3996</td></tr><tr><td>biospace</td><td>3932</td></tr><tr><td>todayuknews</td><td>3913</td></tr><tr><td>thedarientimes</td><td>3867</td></tr><tr><td>pressfrom</td><td>3760</td></tr><tr><td>pediatricnews</td><td>3710</td></tr><tr><td>nanowerk</td><td>3407</td></tr><tr><td>psychologytoday</td><td>3341</td></tr><tr><td>tickertech</td><td>3336</td></tr><tr><td>inverse</td><td>3332</td></tr><tr><td>7thspacefamilyportal</td><td>3151</td></tr><tr><td>sciencealert</td><td>3086</td></tr><tr><td>marketscreener</td><td>2981</td></tr><tr><td>dailyhunt</td><td>2919</td></tr><tr><td>technology.org</td><td>2846</td></tr><tr><td>trueviralnews</td><td>2816</td></tr><tr><td>natureasia</td><td>2655</td></tr><tr><td>eurasiareview</td><td>2639</td></tr><tr><td>medicinenet</td><td>2629</td></tr><tr><td>labmanager</td><td>2584</td></tr><tr><td>globaladvisors</td><td>2557</td></tr><tr><td>sciencenewsline</td><td>2534</td></tr><tr><td>myneuronews</td><td>2498</td></tr><tr><td>laboratoryequipment</td><td>2461</td></tr><tr><td>swifttelecast</td><td>2424</td></tr><tr><td>gen</td><td>2361</td></tr><tr><td>genomeweb</td><td>2338</td></tr><tr><td>latestly</td><td>2318</td></tr><tr><td>ajmc</td><td>2298</td></tr><tr><td>physician'sweekly</td><td>2282</td></tr><tr><td>signofthetimes</td><td>2133</td></tr><tr><td>techxplore</td><td>2124</td></tr><tr><td>dailymagazine</td><td>2111</td></tr><tr><td>gizmodo</td><td>2026</td></tr><tr><td>ecancer</td><td>1985</td></tr><tr><td>environmentalnewsnetwork</td><td>1971</td></tr><tr><td>spoke</td><td>1962</td></tr><tr><td>aninews</td><td>1885</td></tr><tr><td>nakedscience</td><td>1871</td></tr><tr><td>statnews</td><td>1849</td></tr><tr><td>devdiscourse</td><td>1844</td></tr><tr><td>bizwireexpress</td><td>1797</td></tr><tr><td>jotup</td><td>1789</td></tr><tr><td>spektrum</td><td>1784</td></tr><tr><td>profitquotes</td><td>1769</td></tr><tr><td>ebiotrade</td><td>1753</td></tr><tr><td>chemical&engineeringnews</td><td>1748</td></tr><tr><td>madisonmagazine</td><td>1739</td></tr><tr><td>pourquoidocteur</td><td>1726</td></tr><tr><td>popmech</td><td>1726</td></tr><tr><td>gizmodoaustralia</td><td>1724</td></tr><tr><td>digitaljournal</td><td>1712</td></tr><tr><td>zap</td><td>1702</td></tr><tr><td>centrefordiseaseresearchandpolicy</td><td>1695</td></tr><tr><td>worldeconomicforum</td><td>1688</td></tr><tr><td>infobae</td><td>1686</td></tr><tr><td>nachrichtenwelt</td><td>1680</td></tr><tr><td>futura-sciences</td><td>1671</td></tr><tr><td>thescientistmagazine</td><td>1661</td></tr><tr><td>weatherherald</td><td>1649</td></tr><tr><td>iflscience</td><td>1619</td></tr><tr><td>newatlas</td><td>1611</td></tr><tr><td>spacedaily</td><td>1543</td></tr><tr><td>kpvi</td><td>1515</td></tr><tr><td>alphagalileo</td><td>1501</td></tr><tr><td>hawaiinewsnow</td><td>1499</td></tr><tr><td>mpr</td><td>1486</td></tr><tr><td>channelnewsasiacna</td><td>1482</td></tr><tr><td>popularscience</td><td>1474</td></tr><tr><td>theeveningtelegraph</td><td>1469</td></tr><tr><td>businesswire</td><td>1464</td></tr><tr><td>healthline</td><td>1460</td></tr><tr><td>koamnewsnow</td><td>1453</td></tr><tr><td>nbc12</td><td>1446</td></tr><tr><td>businessinsiderindia</td><td>1430</td></tr><tr><td>finanzen.ch</td><td>1422</td></tr><tr><td>canindia</td><td>1407</td></tr><tr><td>becker'shospitalreview</td><td>1399</td></tr><tr><td>azocleantech</td><td>1398</td></tr><tr><td>losangelestimes</td><td>1398</td></tr><tr><td>azolifesciences</td><td>1389</td></tr><tr><td>healthaffairs</td><td>1374</td></tr><tr><td>pressreleasepoint</td><td>1373</td></tr><tr><td>sciencenews</td><td>1352</td></tr><tr><td>r&d</td><td>1351</td></tr><tr><td>smithsonianmagazine</td><td>1350</td></tr><tr><td>awsforwp</td><td>1346</td></tr><tr><td>clinicaladvisor</td><td>1316</td></tr><tr><td>bioportfolio</td><td>1305</td></tr><tr><td>businessinsidernederland</td><td>1305</td></tr><tr><td>azom</td><td>1303</td></tr><tr><td>newsbeezer</td><td>1300</td></tr><tr><td>thinkingport</td><td>1298</td></tr><tr><td>theprint</td><td>1285</td></tr><tr><td>discovermagazine</td><td>1261</td></tr><tr><td>georgiapublicradio</td><td>1260</td></tr><tr><td>southcarolinanewsnow</td><td>1258</td></tr><tr><td>wboc16</td><td>1227</td></tr><tr><td>deutschesärzteblatt</td><td>1227</td></tr><tr><td>wmbfnews</td><td>1213</td></tr><tr><td>tctmd</td><td>1207</td></tr><tr><td>wvpe</td><td>1203</td></tr><tr><td>kslanews12</td><td>1200</td></tr><tr><td>iowapublicradio</td><td>1187</td></tr><tr><td>wyomingpublicradio</td><td>1184</td></tr><tr><td>kpbs</td><td>1183</td></tr><tr><td>wunc</td><td>1182</td></tr><tr><td>boisestatepublicradio</td><td>1177</td></tr><tr><td>gazette-times</td><td>1174</td></tr><tr><td>tmcnet</td><td>1172</td></tr><tr><td>tristatespublicradio</td><td>1171</td></tr><tr><td>cbs8</td><td>1163</td></tr><tr><td>kunm</td><td>1162</td></tr><tr><td>kansaspublicradio</td><td>1161</td></tr><tr><td>renal&urologynews</td><td>1153</td></tr><tr><td>theuniversityofneworleanspublicradio</td><td>1145</td></tr><tr><td>krwgtv/fm</td><td>1140</td></tr><tr><td>wjct</td><td>1139</td></tr><tr><td>ktepelpaso</td><td>1139</td></tr><tr><td>2minutemedicine</td><td>1129</td></tr><tr><td>vervetimes</td><td>1125</td></tr><tr><td>sci-news</td><td>1119</td></tr><tr><td>webmdnews</td><td>1107</td></tr><tr><td>northernpublicradio</td><td>1105</td></tr><tr><td>cnet</td><td>1104</td></tr><tr><td>fastcompany</td><td>1095</td></tr><tr><td>centralcoastpublicradio</td><td>1093</td></tr><tr><td>omahapublicradio</td><td>1089</td></tr><tr><td>witchita'spublicradio</td><td>1088</td></tr><tr><td>daytonews</td><td>1077</td></tr><tr><td>yaktrinews</td><td>1076</td></tr><tr><td>arizonapublicradio</td><td>1076</td></tr><tr><td>kaiserhealthnews</td><td>1072</td></tr><tr><td>wxpr</td><td>1072</td></tr><tr><td>expressinformer</td><td>1069</td></tr><tr><td>wcbe</td><td>1067</td></tr><tr><td>healthmedicinet</td><td>1065</td></tr><tr><td>endocrinologyadvisor</td><td>1053</td></tr><tr><td>kosu</td><td>1052</td></tr><tr><td>mitnews</td><td>1049</td></tr><tr><td>radioacadie</td><td>1047</td></tr><tr><td>akoahnicbroadcaststation</td><td>1046</td></tr><tr><td>today</td><td>1042</td></tr><tr><td>interlochenpublicradio</td><td>1019</td></tr><tr><td>techtimes</td><td>1018</td></tr><tr><td>interestingengineering</td><td>1004</td></tr><tr><td>theasianage</td><td>1003</td></tr><tr><td>sciencesetavenir</td><td>999</td></tr><tr><td>northeasternindianapublicradio</td><td>998</td></tr><tr><td>outlookindia</td><td>997</td></tr><tr><td>fanpage</td><td>997</td></tr><tr><td>holadoctor</td><td>988</td></tr><tr><td>healthcanal</td><td>986</td></tr><tr><td>nasdaq</td><td>984</td></tr><tr><td>medicaldaily</td><td>982</td></tr><tr><td>wuky</td><td>975</td></tr><tr><td>physicsworld</td><td>972</td></tr><tr><td>psychcentral</td><td>971</td></tr><tr><td>globenewswire</td><td>970</td></tr><tr><td>wvxu</td><td>967</td></tr><tr><td>arstechnica</td><td>967</td></tr><tr><td>plosmedicine</td><td>966</td></tr><tr><td>kcbd</td><td>965</td></tr><tr><td>wlrn</td><td>962</td></tr><tr><td>focusonline</td><td>960</td></tr><tr><td>science/aaas</td><td>953</td></tr><tr><td>prokerala</td><td>953</td></tr><tr><td>cn-healthcare</td><td>950</td></tr><tr><td>alertbreakingnews-us</td><td>949</td></tr><tr><td>kuam</td><td>948</td></tr><tr><td>newschannel10</td><td>948</td></tr><tr><td>eatthis,notthat!</td><td>943</td></tr><tr><td>pharmacytimes</td><td>939</td></tr><tr><td>vbprofiles</td><td>939</td></tr><tr><td>sdpbradio</td><td>938</td></tr><tr><td>newscientist</td><td>936</td></tr><tr><td>wkar</td><td>929</td></tr><tr><td>bigthink</td><td>927</td></tr><tr><td>technewsboy</td><td>926</td></tr><tr><td>wafb9</td><td>926</td></tr><tr><td>wuwm</td><td>916</td></tr><tr><td>northeastpublicradio</td><td>901</td></tr><tr><td>rocketnews</td><td>878</td></tr><tr><td>mcknight's</td><td>877</td></tr><tr><td>healthleadersmedia</td><td>876</td></tr><tr><td>thisismoney</td><td>875</td></tr><tr><td>daijiworld</td><td>873</td></tr><tr><td>newhampshirepublicradio</td><td>873</td></tr><tr><td>news18</td><td>871</td></tr><tr><td>2news</td><td>858</td></tr><tr><td>theamedpost</td><td>856</td></tr><tr><td>seedquest</td><td>854</td></tr><tr><td>kunc</td><td>851</td></tr><tr><td>crweworld</td><td>851</td></tr><tr><td>techregister</td><td>849</td></tr><tr><td>everydayhealth</td><td>846</td></tr><tr><td>wissenschaft.de</td><td>843</td></tr><tr><td>neurologyadvisor</td><td>840</td></tr><tr><td>cosmosmagazine</td><td>839</td></tr><tr><td>cornellchronicle</td><td>838</td></tr><tr><td>informationsdienstwissenschaft</td><td>836</td></tr><tr><td>infectioncontroltoday</td><td>835</td></tr><tr><td>kiowacountypress</td><td>825</td></tr><tr><td>erienewsnow</td><td>825</td></tr><tr><td>риановости</td><td>820</td></tr><tr><td>theexpress</td><td>818</td></tr><tr><td>delmarvapublicradio</td><td>816</td></tr><tr><td>allafrica</td><td>816</td></tr><tr><td>mongabay</td><td>816</td></tr><tr><td>scrollindia</td><td>815</td></tr><tr><td>livescience</td><td>812</td></tr><tr><td>sohunews</td><td>810</td></tr><tr><td>bustle</td><td>802</td></tr><tr><td>chemistryviews</td><td>799</td></tr><tr><td>ncyt-noticiasdelacienciaylatechnologia</td><td>795</td></tr><tr><td>wvtf</td><td>788</td></tr><tr><td>kclu</td><td>788</td></tr><tr><td>canaltech</td><td>787</td></tr><tr><td>news24</td><td>786</td></tr><tr><td>keranews</td><td>783</td></tr><tr><td>wypr</td><td>779</td></tr><tr><td>socialnews.xyz</td><td>778</td></tr><tr><td>lescienze</td><td>778</td></tr><tr><td>wcax</td><td>777</td></tr><tr><td>nouvellesdumonde</td><td>772</td></tr><tr><td>fightaging!</td><td>772</td></tr><tr><td>wrkf</td><td>771</td></tr><tr><td>news.am</td><td>768</td></tr><tr><td>gizmodouk</td><td>767</td></tr><tr><td>cancertherapyadvisor</td><td>766</td></tr><tr><td>lavanguardia</td><td>763</td></tr><tr><td>thewire</td><td>761</td></tr><tr><td>stockwatch</td><td>761</td></tr><tr><td>sifynews</td><td>759</td></tr><tr><td>finanznachrichten</td><td>752</td></tr><tr><td>onclive</td><td>750</td></tr><tr><td>free</td><td>746</td></tr><tr><td>focus.it</td><td>744</td></tr><tr><td>wsaw-tv</td><td>742</td></tr><tr><td>earth&spacesciencenews</td><td>734</td></tr><tr><td>knoenews8</td><td>733</td></tr><tr><td>elpasoinc</td><td>729</td></tr><tr><td>keycnews12</td><td>729</td></tr><tr><td>abc.es</td><td>725</td></tr><tr><td>firstpost</td><td>721</td></tr><tr><td>wtol</td><td>714</td></tr><tr><td>china.org</td><td>710</td></tr><tr><td>businessfast</td><td>710</td></tr><tr><td>oregonpublicbroadcasting</td><td>704</td></tr><tr><td>newswest9</td><td>702</td></tr><tr><td>abcdesevilla</td><td>702</td></tr><tr><td>timesnownews</td><td>701</td></tr><tr><td>wbtv</td><td>697</td></tr><tr><td>lavozdigital</td><td>697</td></tr><tr><td>materialstoday</td><td>696</td></tr><tr><td>medwirenews</td><td>690</td></tr><tr><td>paperblog</td><td>687</td></tr><tr><td>news9</td><td>687</td></tr><tr><td>yalenews</td><td>684</td></tr><tr><td>brookings</td><td>677</td></tr><tr><td>newscabal</td><td>676</td></tr><tr><td>ladders</td><td>665</td></tr><tr><td>homelandsecuritynewswire</td><td>665</td></tr><tr><td>phillyvoice</td><td>660</td></tr><tr><td>hawaiipublicradio</td><td>659</td></tr><tr><td>skynightly</td><td>658</td></tr><tr><td>bionewscentral</td><td>658</td></tr><tr><td>cleveland19</td><td>655</td></tr><tr><td>futurism</td><td>655</td></tr><tr><td>thriveglobal</td><td>654</td></tr><tr><td>nanotechnologynow</td><td>652</td></tr><tr><td>entrepreneur</td><td>652</td></tr><tr><td>azonano</td><td>650</td></tr><tr><td>scienceandliferussia</td><td>648</td></tr><tr><td>finanzen</td><td>644</td></tr><tr><td>bestlife</td><td>641</td></tr><tr><td>nbcrightnowkndu25</td><td>635</td></tr><tr><td>newson6</td><td>633</td></tr><tr><td>kfvethehometeam</td><td>630</td></tr><tr><td>eeworldonline</td><td>628</td></tr><tr><td>cardiovascularbusiness</td><td>627</td></tr><tr><td>newenglandpublicradio</td><td>626</td></tr><tr><td>publicradioeast</td><td>626</td></tr><tr><td>galileonet</td><td>622</td></tr><tr><td>orf.at</td><td>621</td></tr><tr><td>xinhua</td><td>616</td></tr><tr><td>stuff.co.nz</td><td>613</td></tr><tr><td>tribuneindia</td><td>611</td></tr><tr><td>upjobsnews</td><td>611</td></tr><tr><td>health24</td><td>607</td></tr><tr><td>biotechgate</td><td>602</td></tr><tr><td>newschannel6</td><td>599</td></tr><tr><td>businessinsidermalaysia</td><td>599</td></tr><tr><td>kansascityuniversityradio</td><td>597</td></tr><tr><td>modernhealthcare</td><td>596</td></tr><tr><td>grist</td><td>596</td></tr><tr><td>iol</td><td>594</td></tr><tr><td>indiatimespost</td><td>593</td></tr><tr><td>greenreport(italy)</td><td>593</td></tr><tr><td>mainepublic</td><td>592</td></tr><tr><td>americancouncilonscienceandhealth</td><td>584</td></tr><tr><td>universityofmichigannews</td><td>579</td></tr><tr><td>pharmastaritaly</td><td>576</td></tr><tr><td>wmcactionnews5</td><td>576</td></tr><tr><td>wbur</td><td>574</td></tr><tr><td>medportal</td><td>572</td></tr><tr><td>bionity</td><td>571</td></tr><tr><td>scinexx</td><td>569</td></tr><tr><td>massivescience</td><td>565</td></tr><tr><td>india4u</td><td>559</td></tr><tr><td>thefreepressjournal</td><td>558</td></tr><tr><td>illustreretvidenskab</td><td>555</td></tr><tr><td>lenta.ru</td><td>550</td></tr><tr><td>chemeurope</td><td>550</td></tr><tr><td>ieeespectrum</td><td>549</td></tr><tr><td>businessmayor</td><td>546</td></tr><tr><td>bdnews24</td><td>545</td></tr><tr><td>europapress</td><td>545</td></tr><tr><td>wtoc</td><td>544</td></tr><tr><td>governmentexecutive</td><td>542</td></tr><tr><td>japantoday</td><td>541</td></tr><tr><td>globalresearch</td><td>536</td></tr><tr><td>westernaustraliatoday</td><td>536</td></tr><tr><td>sydneymorningherald</td><td>535</td></tr><tr><td>environmentalhealthperspectives</td><td>535</td></tr><tr><td>diewelt</td><td>535</td></tr><tr><td>gazeta.ru</td><td>534</td></tr><tr><td>pressnewsagency</td><td>534</td></tr><tr><td>greenme</td><td>526</td></tr><tr><td>agenciasinc</td><td>523</td></tr><tr><td>theage</td><td>523</td></tr><tr><td>biosciencetechnology</td><td>523</td></tr><tr><td>trialsitenews</td><td>523</td></tr><tr><td>ariva</td><td>522</td></tr><tr><td>wabe</td><td>519</td></tr><tr><td>heise</td><td>516</td></tr><tr><td>theengineer</td><td>515</td></tr><tr><td>cancernetwork</td><td>515</td></tr><tr><td>drugtargetreview</td><td>513</td></tr><tr><td>kuow</td><td>510</td></tr><tr><td>helsinginsanomat</td><td>510</td></tr><tr><td>insurancenewsnet</td><td>508</td></tr><tr><td>greencarcongress</td><td>505</td></tr><tr><td>myscience</td><td>505</td></tr><tr><td>newsazi</td><td>505</td></tr><tr><td>dailygeekshow</td><td>504</td></tr><tr><td>newzealandherald</td><td>503</td></tr><tr><td>err.ee</td><td>502</td></tr><tr><td>spectrumnews</td><td>501</td></tr><tr><td>healthimaging</td><td>501</td></tr><tr><td>firstwordpharma</td><td>500</td></tr><tr><td>mittechnologyreview</td><td>500</td></tr><tr><td>slatefrance</td><td>500</td></tr><tr><td>einpresswire</td><td>499</td></tr><tr><td>thecape,coastandislandsnprstation</td><td>499</td></tr><tr><td>brisbanetimes</td><td>494</td></tr><tr><td>laopiniónacoruña</td><td>494</td></tr><tr><td>ktnewslive</td><td>493</td></tr><tr><td>men'shealth</td><td>492</td></tr><tr><td>qrius</td><td>491</td></tr><tr><td>rtbf</td><td>488</td></tr><tr><td>scicasts</td><td>487</td></tr><tr><td>azooptics</td><td>487</td></tr><tr><td>metrouk</td><td>486</td></tr><tr><td>newsypeople</td><td>483</td></tr><tr><td>farodevigo</td><td>482</td></tr><tr><td>woodzog</td><td>481</td></tr><tr><td>yahoostylesingapore</td><td>481</td></tr><tr><td>heral&review</td><td>481</td></tr><tr><td>diariodemallorca</td><td>480</td></tr><tr><td>mcknightsseniorliving</td><td>478</td></tr><tr><td>thefinancialexpress(ind)</td><td>476</td></tr><tr><td>photonics</td><td>468</td></tr><tr><td>muyinteresante</td><td>466</td></tr><tr><td>theweek(india)</td><td>465</td></tr><tr><td>bloombergquint</td><td>464</td></tr><tr><td>laopiniónmálaga</td><td>461</td></tr><tr><td>space</td><td>461</td></tr><tr><td>hcplive</td><td>457</td></tr><tr><td>mississippinewsnow</td><td>457</td></tr><tr><td>syfywire</td><td>456</td></tr><tr><td>morningnews</td><td>456</td></tr><tr><td>medcitynews</td><td>456</td></tr><tr><td>koin6</td><td>454</td></tr><tr><td>thestraitstimes</td><td>453</td></tr><tr><td>newschannel11wjhl</td><td>452</td></tr><tr><td>scientias</td><td>446</td></tr><tr><td>headtopics</td><td>445</td></tr><tr><td>uktimenews</td><td>443</td></tr><tr><td>ddnews</td><td>443</td></tr><tr><td>elementy.ru</td><td>438</td></tr><tr><td>wral</td><td>436</td></tr><tr><td>topsanté</td><td>435</td></tr><tr><td>crossroadstodayabc25</td><td>435</td></tr><tr><td>bluefielddailytelegraph</td><td>435</td></tr><tr><td>replicário</td><td>434</td></tr><tr><td>n-tv</td><td>434</td></tr><tr><td>drugdiscoveryanddevelopment</td><td>434</td></tr><tr><td>córdoba</td><td>429</td></tr><tr><td>bnnbloomberg</td><td>423</td></tr><tr><td>elperiódicomediterraneo</td><td>422</td></tr><tr><td>dmnnewswire!</td><td>421</td></tr><tr><td>fiercehealth</td><td>420</td></tr><tr><td>fox5</td><td>417</td></tr><tr><td>actionnewsnow</td><td>416</td></tr><tr><td>onenewspage</td><td>413</td></tr><tr><td>telenganatoday</td><td>412</td></tr><tr><td>olhardigital</td><td>408</td></tr><tr><td>polit</td><td>404</td></tr><tr><td>earth</td><td>402</td></tr><tr><td>thetyee</td><td>401</td></tr><tr><td>kfgo</td><td>401</td></tr><tr><td>mitteldeutscherrundfunk</td><td>400</td></tr><tr><td>jazzwclk</td><td>400</td></tr><tr><td>popularmechanics</td><td>399</td></tr><tr><td>minyanville:finance</td><td>399</td></tr><tr><td>arztezeitung</td><td>398</td></tr><tr><td>fiercebiotech</td><td>395</td></tr><tr><td>controlledenvironments</td><td>395</td></tr><tr><td>minnpost</td><td>394</td></tr><tr><td>todayheadline</td><td>393</td></tr><tr><td>thetelegraph(uk)</td><td>393</td></tr><tr><td>elperiódicodearagón</td><td>392</td></tr><tr><td>jano</td><td>391</td></tr><tr><td>mothernaturenetwork</td><td>391</td></tr><tr><td>sport</td><td>390</td></tr><tr><td>netindia123</td><td>388</td></tr><tr><td>elperiódicoextremadura</td><td>388</td></tr><tr><td>elperiodico-es</td><td>388</td></tr><tr><td>diariodeibiza</td><td>385</td></tr><tr><td>mprnews</td><td>385</td></tr><tr><td>theverge</td><td>385</td></tr><tr><td>biocentury</td><td>384</td></tr><tr><td>laopinióndezamora</td><td>381</td></tr><tr><td>runner'sworld</td><td>381</td></tr><tr><td>earthsky</td><td>380</td></tr><tr><td>solardaily</td><td>377</td></tr><tr><td>usalifesciencesdatabase</td><td>375</td></tr><tr><td>derstandard</td><td>372</td></tr><tr><td>agenparl</td><td>369</td></tr><tr><td>globalcirculate</td><td>367</td></tr><tr><td>163</td><td>366</td></tr><tr><td>ecobusiness</td><td>365</td></tr><tr><td>asiaone</td><td>365</td></tr><tr><td>informacion</td><td>365</td></tr><tr><td>q13fox</td><td>363</td></tr><tr><td>pharmiweb</td><td>363</td></tr><tr><td>innovazione</td><td>363</td></tr><tr><td>wbal</td><td>363</td></tr><tr><td>globalnews</td><td>361</td></tr><tr><td>pharmazeutischezeitung</td><td>361</td></tr><tr><td>hvg.hu</td><td>360</td></tr><tr><td>publico</td><td>357</td></tr><tr><td>kpcc:southerncaliforniapublicradio</td><td>355</td></tr><tr><td>asbmb</td><td>353</td></tr><tr><td>elespañol</td><td>352</td></tr><tr><td>12newskbmt</td><td>351</td></tr><tr><td>fox31denverkdvr-tv</td><td>351</td></tr><tr><td>nuevoperiodico</td><td>351</td></tr><tr><td>lanuevaespaña</td><td>348</td></tr><tr><td>insideclimatenews</td><td>347</td></tr><tr><td>ukwithny</td><td>344</td></tr><tr><td>southafricatoday</td><td>344</td></tr><tr><td>elcomercio</td><td>342</td></tr><tr><td>insidehighered</td><td>342</td></tr><tr><td>larazon(esp)</td><td>341</td></tr><tr><td>santélog</td><td>341</td></tr><tr><td>newser</td><td>340</td></tr><tr><td>lasexta</td><td>340</td></tr><tr><td>gigazine</td><td>340</td></tr><tr><td>everythinglubbock</td><td>338</td></tr><tr><td>cnnphilippines</td><td>337</td></tr><tr><td>latercera</td><td>336</td></tr><tr><td>seekingalpha</td><td>336</td></tr><tr><td>focus.pl</td><td>335</td></tr><tr><td>abcactionnewswftstampabay</td><td>335</td></tr><tr><td>abcnyheter</td><td>334</td></tr><tr><td>aol(uk)</td><td>332</td></tr><tr><td>terradaily</td><td>331</td></tr><tr><td>thefreshtoast</td><td>329</td></tr><tr><td>lemonde</td><td>328</td></tr><tr><td>thepioneer</td><td>328</td></tr><tr><td>nrchandelsblad</td><td>326</td></tr><tr><td>zeenews(india)</td><td>323</td></tr><tr><td>whsv3</td><td>322</td></tr><tr><td>kiiitv3</td><td>321</td></tr><tr><td>countonnews2</td><td>320</td></tr><tr><td>tekdeeps</td><td>320</td></tr><tr><td>moneycontrol</td><td>320</td></tr><tr><td>milleniumpost</td><td>320</td></tr><tr><td>wallstreetonlinedenmark</td><td>318</td></tr><tr><td>republic</td><td>318</td></tr><tr><td>prevention</td><td>317</td></tr><tr><td>carbonbrief</td><td>316</td></tr><tr><td>theascopost</td><td>314</td></tr><tr><td>madrid</td><td>313</td></tr><tr><td>bbcfocusscience&technology</td><td>313</td></tr><tr><td>nutraingredientsusa</td><td>313</td></tr><tr><td>westernmassnews</td><td>312</td></tr><tr><td>diagnosticandinterventionalcardiology</td><td>312</td></tr><tr><td>healthcarefinancenews</td><td>310</td></tr><tr><td>paperity</td><td>308</td></tr><tr><td>sciencepost</td><td>307</td></tr><tr><td>mobihealthnews</td><td>306</td></tr><tr><td>universityofwisconsin-madison</td><td>306</td></tr><tr><td>newsgrooveuk</td><td>304</td></tr><tr><td>nutraingredients</td><td>302</td></tr><tr><td>bgr</td><td>300</td></tr><tr><td>wgn9</td><td>299</td></tr><tr><td>ndtv</td><td>297</td></tr><tr><td>aln</td><td>297</td></tr><tr><td>wjtv</td><td>297</td></tr><tr><td>yourbasin</td><td>296</td></tr><tr><td>wateronline</td><td>296</td></tr><tr><td>cadenaser</td><td>295</td></tr><tr><td>romenewstribune</td><td>293</td></tr><tr><td>irishexaminer</td><td>292</td></tr><tr><td>aarp</td><td>291</td></tr><tr><td>superinteressante</td><td>290</td></tr><tr><td>thesciencetimes,unitedstates</td><td>288</td></tr><tr><td>pvmagazine</td><td>287</td></tr><tr><td>sverigeradio</td><td>287</td></tr><tr><td>kopalniawiedzy</td><td>287</td></tr><tr><td>thepaper</td><td>286</td></tr><tr><td>seeddaily</td><td>285</td></tr><tr><td>tucsonnewsnow</td><td>285</td></tr><tr><td>journalist'sresource</td><td>284</td></tr><tr><td>walesonline</td><td>282</td></tr><tr><td>yahoo!financecanada</td><td>281</td></tr><tr><td>businessmirror</td><td>278</td></tr><tr><td>journalbreak</td><td>277</td></tr><tr><td>abc27</td><td>274</td></tr><tr><td>abc8news</td><td>274</td></tr><tr><td>oakridgenationallaboratory</td><td>274</td></tr><tr><td>yle.fi</td><td>273</td></tr><tr><td>skyitaliatg24</td><td>273</td></tr><tr><td>nbc4</td><td>273</td></tr><tr><td>medicalbrief</td><td>273</td></tr><tr><td>3dprintingindustry</td><td>272</td></tr><tr><td>themirror</td><td>272</td></tr><tr><td>techcrunch</td><td>271</td></tr><tr><td>exbulletin</td><td>271</td></tr><tr><td>indiatoday</td><td>271</td></tr><tr><td>kbtx-tv</td><td>270</td></tr><tr><td>sbdirtysouthsoccer</td><td>269</td></tr><tr><td>fox7austin</td><td>268</td></tr><tr><td>torontotelegraph</td><td>266</td></tr><tr><td>leicestermercury</td><td>263</td></tr><tr><td>telecinco</td><td>263</td></tr><tr><td>women'shealth</td><td>263</td></tr><tr><td>devolkskrant</td><td>262</td></tr><tr><td>notimerica</td><td>262</td></tr><tr><td>20minuten</td><td>261</td></tr><tr><td>cambridgenews</td><td>261</td></tr><tr><td>insidescience</td><td>261</td></tr><tr><td>nutraceuticalsworld</td><td>261</td></tr><tr><td>13newsnow</td><td>260</td></tr><tr><td>actionnewsjax</td><td>260</td></tr><tr><td>wrdw</td><td>260</td></tr><tr><td>farsnewsagency</td><td>260</td></tr><tr><td>francetvinfo</td><td>260</td></tr><tr><td>theplymouthherald</td><td>259</td></tr><tr><td>uncova</td><td>259</td></tr><tr><td>estadao.com.br</td><td>259</td></tr><tr><td>derbyshirelive</td><td>257</td></tr><tr><td>whdh-tv</td><td>256</td></tr><tr><td>inc.</td><td>256</td></tr><tr><td>gamersgrade</td><td>256</td></tr><tr><td>nottinghamshirelive</td><td>255</td></tr><tr><td>itnewsonline</td><td>255</td></tr><tr><td>lastampa</td><td>255</td></tr><tr><td>saltwire</td><td>254</td></tr><tr><td>frankfurterallgemeine</td><td>252</td></tr><tr><td>fatherly</td><td>252</td></tr><tr><td>diagnosticimaging</td><td>251</td></tr><tr><td>consumerreports</td><td>250</td></tr><tr><td>pieuvre.ca</td><td>248</td></tr><tr><td>askbygeeks</td><td>247</td></tr><tr><td>essexlive</td><td>246</td></tr><tr><td>orthopedicsthisweek</td><td>246</td></tr><tr><td>aappublications</td><td>245</td></tr><tr><td>laopiniondemurcia</td><td>244</td></tr><tr><td>origo</td><td>244</td></tr><tr><td>dertagesspiegel</td><td>244</td></tr><tr><td>informnny</td><td>244</td></tr><tr><td>ici.radio-canada.ca</td><td>243</td></tr><tr><td>realhealth</td><td>243</td></tr><tr><td>eldiario</td><td>242</td></tr><tr><td>apa</td><td>241</td></tr><tr><td>dailymaverick</td><td>241</td></tr><tr><td>nyteknik</td><td>240</td></tr><tr><td>technologytimes</td><td>239</td></tr><tr><td>indexhungary</td><td>239</td></tr><tr><td>medisite.fr</td><td>238</td></tr><tr><td>thecanberratimes</td><td>238</td></tr><tr><td>wlns</td><td>237</td></tr><tr><td>galaxyconcerns</td><td>235</td></tr><tr><td>revyuh</td><td>235</td></tr><tr><td>pharmabiz</td><td>235</td></tr><tr><td>clarín</td><td>234</td></tr><tr><td>valuewalk</td><td>232</td></tr><tr><td>e&tmagazine</td><td>231</td></tr><tr><td>fox26houston</td><td>230</td></tr><tr><td>primeurmagazine</td><td>229</td></tr><tr><td>gurufocus</td><td>228</td></tr><tr><td>eveningexpress</td><td>228</td></tr><tr><td>prnewswireuk</td><td>228</td></tr><tr><td>mytwintiers</td><td>226</td></tr><tr><td>azosensors</td><td>226</td></tr><tr><td>innovationsreport</td><td>224</td></tr><tr><td>forextv</td><td>224</td></tr><tr><td>becker'sascreview</td><td>224</td></tr><tr><td>yourerie</td><td>224</td></tr><tr><td>refinery29</td><td>223</td></tr><tr><td>phil'sstockworld</td><td>222</td></tr><tr><td>levante</td><td>221</td></tr><tr><td>wheels24</td><td>221</td></tr><tr><td>harvardgazette</td><td>220</td></tr><tr><td>7news</td><td>220</td></tr><tr><td>expressdigest</td><td>220</td></tr><tr><td>wion</td><td>219</td></tr><tr><td>inews</td><td>219</td></tr><tr><td>operanews</td><td>218</td></tr><tr><td>rheumatologyadvisor</td><td>218</td></tr><tr><td>jamaiceoberserver</td><td>217</td></tr><tr><td>myza</td><td>216</td></tr><tr><td>nationalobserver</td><td>216</td></tr><tr><td>outside</td><td>215</td></tr><tr><td>news5cleveland</td><td>214</td></tr><tr><td>dailynews-record</td><td>213</td></tr><tr><td>coventrytelegraph</td><td>213</td></tr><tr><td>wired.co.uk</td><td>212</td></tr><tr><td>worldnewssbs</td><td>212</td></tr><tr><td>kctv5</td><td>212</td></tr><tr><td>australasianscience</td><td>212</td></tr><tr><td>healtheuropa</td><td>212</td></tr><tr><td>braintree&withamtimes</td><td>211</td></tr><tr><td>20minutes</td><td>210</td></tr><tr><td>pettinga:stockmarket</td><td>210</td></tr><tr><td>bullfax</td><td>210</td></tr><tr><td>chineseacademyofscience</td><td>210</td></tr><tr><td>ilpost</td><td>209</td></tr><tr><td>elimparcial</td><td>209</td></tr><tr><td>indexcroatia</td><td>209</td></tr><tr><td>americanpharmacistsassociation</td><td>208</td></tr><tr><td>vbio</td><td>207</td></tr><tr><td>chardandilminsternews</td><td>207</td></tr><tr><td>endpoints</td><td>207</td></tr></tbody></table></div>"
      ]
     },
     "metadata": {
      "application/vnd.databricks.v1+output": {
       "addedWidgets": {},
       "aggData": [],
       "aggError": "",
       "aggOverflow": false,
       "aggSchema": [],
       "aggSeriesLimitReached": false,
       "aggType": "",
       "arguments": {},
       "columnCustomDisplayInfos": {},
       "data": [
        [
         "eurekalert!",
         36214
        ],
        [
         "medicalxpress",
         27520
        ],
        [
         "sciencedaily",
         19197
        ],
        [
         "themedicalnews",
         16858
        ],
        [
         "medicalhealthnews",
         16020
        ],
        [
         "newsbreak",
         15613
        ],
        [
         "docwirenews",
         15246
        ],
        [
         "scienmag",
         14281
        ],
        [
         "miragenews",
         13517
        ],
        [
         "medscape",
         9475
        ],
        [
         "drugs",
         9141
        ],
        [
         "technologynetworks",
         8461
        ],
        [
         "sciencenewsnet.in",
         8173
        ],
        [
         "alzforum",
         7791
        ],
        [
         "physician'sbriefing",
         7630
        ],
        [
         "medpagetoday",
         7483
        ],
        [
         "longroom",
         7429
        ],
        [
         "infosurhoy",
         6921
        ],
        [
         "mediumus",
         6383
        ],
        [
         "foreignaffairsnewzealand",
         6207
        ],
        [
         "medindia",
         5937
        ],
        [
         "bignewsnetwork",
         5736
        ],
        [
         "doctorslounge",
         5583
        ],
        [
         "bioengineer.org",
         5333
        ],
        [
         "futurity",
         5318
        ],
        [
         "scitechdaily",
         5277
        ],
        [
         "dailymail",
         5223
        ],
        [
         "benzinga",
         4830
        ],
        [
         "newkerala",
         4547
        ],
        [
         "newcanaanadvertiser",
         4280
        ],
        [
         "labroots",
         4253
        ],
        [
         "medicalnewstoday",
         4201
        ],
        [
         "morningstar",
         4172
        ],
        [
         "healio",
         4119
        ],
        [
         "healthday",
         4057
        ],
        [
         "dnyuz",
         3996
        ],
        [
         "biospace",
         3932
        ],
        [
         "todayuknews",
         3913
        ],
        [
         "thedarientimes",
         3867
        ],
        [
         "pressfrom",
         3760
        ],
        [
         "pediatricnews",
         3710
        ],
        [
         "nanowerk",
         3407
        ],
        [
         "psychologytoday",
         3341
        ],
        [
         "tickertech",
         3336
        ],
        [
         "inverse",
         3332
        ],
        [
         "7thspacefamilyportal",
         3151
        ],
        [
         "sciencealert",
         3086
        ],
        [
         "marketscreener",
         2981
        ],
        [
         "dailyhunt",
         2919
        ],
        [
         "technology.org",
         2846
        ],
        [
         "trueviralnews",
         2816
        ],
        [
         "natureasia",
         2655
        ],
        [
         "eurasiareview",
         2639
        ],
        [
         "medicinenet",
         2629
        ],
        [
         "labmanager",
         2584
        ],
        [
         "globaladvisors",
         2557
        ],
        [
         "sciencenewsline",
         2534
        ],
        [
         "myneuronews",
         2498
        ],
        [
         "laboratoryequipment",
         2461
        ],
        [
         "swifttelecast",
         2424
        ],
        [
         "gen",
         2361
        ],
        [
         "genomeweb",
         2338
        ],
        [
         "latestly",
         2318
        ],
        [
         "ajmc",
         2298
        ],
        [
         "physician'sweekly",
         2282
        ],
        [
         "signofthetimes",
         2133
        ],
        [
         "techxplore",
         2124
        ],
        [
         "dailymagazine",
         2111
        ],
        [
         "gizmodo",
         2026
        ],
        [
         "ecancer",
         1985
        ],
        [
         "environmentalnewsnetwork",
         1971
        ],
        [
         "spoke",
         1962
        ],
        [
         "aninews",
         1885
        ],
        [
         "nakedscience",
         1871
        ],
        [
         "statnews",
         1849
        ],
        [
         "devdiscourse",
         1844
        ],
        [
         "bizwireexpress",
         1797
        ],
        [
         "jotup",
         1789
        ],
        [
         "spektrum",
         1784
        ],
        [
         "profitquotes",
         1769
        ],
        [
         "ebiotrade",
         1753
        ],
        [
         "chemical&engineeringnews",
         1748
        ],
        [
         "madisonmagazine",
         1739
        ],
        [
         "pourquoidocteur",
         1726
        ],
        [
         "popmech",
         1726
        ],
        [
         "gizmodoaustralia",
         1724
        ],
        [
         "digitaljournal",
         1712
        ],
        [
         "zap",
         1702
        ],
        [
         "centrefordiseaseresearchandpolicy",
         1695
        ],
        [
         "worldeconomicforum",
         1688
        ],
        [
         "infobae",
         1686
        ],
        [
         "nachrichtenwelt",
         1680
        ],
        [
         "futura-sciences",
         1671
        ],
        [
         "thescientistmagazine",
         1661
        ],
        [
         "weatherherald",
         1649
        ],
        [
         "iflscience",
         1619
        ],
        [
         "newatlas",
         1611
        ],
        [
         "spacedaily",
         1543
        ],
        [
         "kpvi",
         1515
        ],
        [
         "alphagalileo",
         1501
        ],
        [
         "hawaiinewsnow",
         1499
        ],
        [
         "mpr",
         1486
        ],
        [
         "channelnewsasiacna",
         1482
        ],
        [
         "popularscience",
         1474
        ],
        [
         "theeveningtelegraph",
         1469
        ],
        [
         "businesswire",
         1464
        ],
        [
         "healthline",
         1460
        ],
        [
         "koamnewsnow",
         1453
        ],
        [
         "nbc12",
         1446
        ],
        [
         "businessinsiderindia",
         1430
        ],
        [
         "finanzen.ch",
         1422
        ],
        [
         "canindia",
         1407
        ],
        [
         "becker'shospitalreview",
         1399
        ],
        [
         "azocleantech",
         1398
        ],
        [
         "losangelestimes",
         1398
        ],
        [
         "azolifesciences",
         1389
        ],
        [
         "healthaffairs",
         1374
        ],
        [
         "pressreleasepoint",
         1373
        ],
        [
         "sciencenews",
         1352
        ],
        [
         "r&d",
         1351
        ],
        [
         "smithsonianmagazine",
         1350
        ],
        [
         "awsforwp",
         1346
        ],
        [
         "clinicaladvisor",
         1316
        ],
        [
         "bioportfolio",
         1305
        ],
        [
         "businessinsidernederland",
         1305
        ],
        [
         "azom",
         1303
        ],
        [
         "newsbeezer",
         1300
        ],
        [
         "thinkingport",
         1298
        ],
        [
         "theprint",
         1285
        ],
        [
         "discovermagazine",
         1261
        ],
        [
         "georgiapublicradio",
         1260
        ],
        [
         "southcarolinanewsnow",
         1258
        ],
        [
         "wboc16",
         1227
        ],
        [
         "deutschesärzteblatt",
         1227
        ],
        [
         "wmbfnews",
         1213
        ],
        [
         "tctmd",
         1207
        ],
        [
         "wvpe",
         1203
        ],
        [
         "kslanews12",
         1200
        ],
        [
         "iowapublicradio",
         1187
        ],
        [
         "wyomingpublicradio",
         1184
        ],
        [
         "kpbs",
         1183
        ],
        [
         "wunc",
         1182
        ],
        [
         "boisestatepublicradio",
         1177
        ],
        [
         "gazette-times",
         1174
        ],
        [
         "tmcnet",
         1172
        ],
        [
         "tristatespublicradio",
         1171
        ],
        [
         "cbs8",
         1163
        ],
        [
         "kunm",
         1162
        ],
        [
         "kansaspublicradio",
         1161
        ],
        [
         "renal&urologynews",
         1153
        ],
        [
         "theuniversityofneworleanspublicradio",
         1145
        ],
        [
         "krwgtv/fm",
         1140
        ],
        [
         "wjct",
         1139
        ],
        [
         "ktepelpaso",
         1139
        ],
        [
         "2minutemedicine",
         1129
        ],
        [
         "vervetimes",
         1125
        ],
        [
         "sci-news",
         1119
        ],
        [
         "webmdnews",
         1107
        ],
        [
         "northernpublicradio",
         1105
        ],
        [
         "cnet",
         1104
        ],
        [
         "fastcompany",
         1095
        ],
        [
         "centralcoastpublicradio",
         1093
        ],
        [
         "omahapublicradio",
         1089
        ],
        [
         "witchita'spublicradio",
         1088
        ],
        [
         "daytonews",
         1077
        ],
        [
         "yaktrinews",
         1076
        ],
        [
         "arizonapublicradio",
         1076
        ],
        [
         "kaiserhealthnews",
         1072
        ],
        [
         "wxpr",
         1072
        ],
        [
         "expressinformer",
         1069
        ],
        [
         "wcbe",
         1067
        ],
        [
         "healthmedicinet",
         1065
        ],
        [
         "endocrinologyadvisor",
         1053
        ],
        [
         "kosu",
         1052
        ],
        [
         "mitnews",
         1049
        ],
        [
         "radioacadie",
         1047
        ],
        [
         "akoahnicbroadcaststation",
         1046
        ],
        [
         "today",
         1042
        ],
        [
         "interlochenpublicradio",
         1019
        ],
        [
         "techtimes",
         1018
        ],
        [
         "interestingengineering",
         1004
        ],
        [
         "theasianage",
         1003
        ],
        [
         "sciencesetavenir",
         999
        ],
        [
         "northeasternindianapublicradio",
         998
        ],
        [
         "outlookindia",
         997
        ],
        [
         "fanpage",
         997
        ],
        [
         "holadoctor",
         988
        ],
        [
         "healthcanal",
         986
        ],
        [
         "nasdaq",
         984
        ],
        [
         "medicaldaily",
         982
        ],
        [
         "wuky",
         975
        ],
        [
         "physicsworld",
         972
        ],
        [
         "psychcentral",
         971
        ],
        [
         "globenewswire",
         970
        ],
        [
         "wvxu",
         967
        ],
        [
         "arstechnica",
         967
        ],
        [
         "plosmedicine",
         966
        ],
        [
         "kcbd",
         965
        ],
        [
         "wlrn",
         962
        ],
        [
         "focusonline",
         960
        ],
        [
         "science/aaas",
         953
        ],
        [
         "prokerala",
         953
        ],
        [
         "cn-healthcare",
         950
        ],
        [
         "alertbreakingnews-us",
         949
        ],
        [
         "kuam",
         948
        ],
        [
         "newschannel10",
         948
        ],
        [
         "eatthis,notthat!",
         943
        ],
        [
         "pharmacytimes",
         939
        ],
        [
         "vbprofiles",
         939
        ],
        [
         "sdpbradio",
         938
        ],
        [
         "newscientist",
         936
        ],
        [
         "wkar",
         929
        ],
        [
         "bigthink",
         927
        ],
        [
         "technewsboy",
         926
        ],
        [
         "wafb9",
         926
        ],
        [
         "wuwm",
         916
        ],
        [
         "northeastpublicradio",
         901
        ],
        [
         "rocketnews",
         878
        ],
        [
         "mcknight's",
         877
        ],
        [
         "healthleadersmedia",
         876
        ],
        [
         "thisismoney",
         875
        ],
        [
         "daijiworld",
         873
        ],
        [
         "newhampshirepublicradio",
         873
        ],
        [
         "news18",
         871
        ],
        [
         "2news",
         858
        ],
        [
         "theamedpost",
         856
        ],
        [
         "seedquest",
         854
        ],
        [
         "kunc",
         851
        ],
        [
         "crweworld",
         851
        ],
        [
         "techregister",
         849
        ],
        [
         "everydayhealth",
         846
        ],
        [
         "wissenschaft.de",
         843
        ],
        [
         "neurologyadvisor",
         840
        ],
        [
         "cosmosmagazine",
         839
        ],
        [
         "cornellchronicle",
         838
        ],
        [
         "informationsdienstwissenschaft",
         836
        ],
        [
         "infectioncontroltoday",
         835
        ],
        [
         "kiowacountypress",
         825
        ],
        [
         "erienewsnow",
         825
        ],
        [
         "риановости",
         820
        ],
        [
         "theexpress",
         818
        ],
        [
         "delmarvapublicradio",
         816
        ],
        [
         "allafrica",
         816
        ],
        [
         "mongabay",
         816
        ],
        [
         "scrollindia",
         815
        ],
        [
         "livescience",
         812
        ],
        [
         "sohunews",
         810
        ],
        [
         "bustle",
         802
        ],
        [
         "chemistryviews",
         799
        ],
        [
         "ncyt-noticiasdelacienciaylatechnologia",
         795
        ],
        [
         "wvtf",
         788
        ],
        [
         "kclu",
         788
        ],
        [
         "canaltech",
         787
        ],
        [
         "news24",
         786
        ],
        [
         "keranews",
         783
        ],
        [
         "wypr",
         779
        ],
        [
         "socialnews.xyz",
         778
        ],
        [
         "lescienze",
         778
        ],
        [
         "wcax",
         777
        ],
        [
         "nouvellesdumonde",
         772
        ],
        [
         "fightaging!",
         772
        ],
        [
         "wrkf",
         771
        ],
        [
         "news.am",
         768
        ],
        [
         "gizmodouk",
         767
        ],
        [
         "cancertherapyadvisor",
         766
        ],
        [
         "lavanguardia",
         763
        ],
        [
         "thewire",
         761
        ],
        [
         "stockwatch",
         761
        ],
        [
         "sifynews",
         759
        ],
        [
         "finanznachrichten",
         752
        ],
        [
         "onclive",
         750
        ],
        [
         "free",
         746
        ],
        [
         "focus.it",
         744
        ],
        [
         "wsaw-tv",
         742
        ],
        [
         "earth&spacesciencenews",
         734
        ],
        [
         "knoenews8",
         733
        ],
        [
         "elpasoinc",
         729
        ],
        [
         "keycnews12",
         729
        ],
        [
         "abc.es",
         725
        ],
        [
         "firstpost",
         721
        ],
        [
         "wtol",
         714
        ],
        [
         "china.org",
         710
        ],
        [
         "businessfast",
         710
        ],
        [
         "oregonpublicbroadcasting",
         704
        ],
        [
         "newswest9",
         702
        ],
        [
         "abcdesevilla",
         702
        ],
        [
         "timesnownews",
         701
        ],
        [
         "wbtv",
         697
        ],
        [
         "lavozdigital",
         697
        ],
        [
         "materialstoday",
         696
        ],
        [
         "medwirenews",
         690
        ],
        [
         "paperblog",
         687
        ],
        [
         "news9",
         687
        ],
        [
         "yalenews",
         684
        ],
        [
         "brookings",
         677
        ],
        [
         "newscabal",
         676
        ],
        [
         "ladders",
         665
        ],
        [
         "homelandsecuritynewswire",
         665
        ],
        [
         "phillyvoice",
         660
        ],
        [
         "hawaiipublicradio",
         659
        ],
        [
         "skynightly",
         658
        ],
        [
         "bionewscentral",
         658
        ],
        [
         "cleveland19",
         655
        ],
        [
         "futurism",
         655
        ],
        [
         "thriveglobal",
         654
        ],
        [
         "nanotechnologynow",
         652
        ],
        [
         "entrepreneur",
         652
        ],
        [
         "azonano",
         650
        ],
        [
         "scienceandliferussia",
         648
        ],
        [
         "finanzen",
         644
        ],
        [
         "bestlife",
         641
        ],
        [
         "nbcrightnowkndu25",
         635
        ],
        [
         "newson6",
         633
        ],
        [
         "kfvethehometeam",
         630
        ],
        [
         "eeworldonline",
         628
        ],
        [
         "cardiovascularbusiness",
         627
        ],
        [
         "newenglandpublicradio",
         626
        ],
        [
         "publicradioeast",
         626
        ],
        [
         "galileonet",
         622
        ],
        [
         "orf.at",
         621
        ],
        [
         "xinhua",
         616
        ],
        [
         "stuff.co.nz",
         613
        ],
        [
         "tribuneindia",
         611
        ],
        [
         "upjobsnews",
         611
        ],
        [
         "health24",
         607
        ],
        [
         "biotechgate",
         602
        ],
        [
         "newschannel6",
         599
        ],
        [
         "businessinsidermalaysia",
         599
        ],
        [
         "kansascityuniversityradio",
         597
        ],
        [
         "modernhealthcare",
         596
        ],
        [
         "grist",
         596
        ],
        [
         "iol",
         594
        ],
        [
         "indiatimespost",
         593
        ],
        [
         "greenreport(italy)",
         593
        ],
        [
         "mainepublic",
         592
        ],
        [
         "americancouncilonscienceandhealth",
         584
        ],
        [
         "universityofmichigannews",
         579
        ],
        [
         "pharmastaritaly",
         576
        ],
        [
         "wmcactionnews5",
         576
        ],
        [
         "wbur",
         574
        ],
        [
         "medportal",
         572
        ],
        [
         "bionity",
         571
        ],
        [
         "scinexx",
         569
        ],
        [
         "massivescience",
         565
        ],
        [
         "india4u",
         559
        ],
        [
         "thefreepressjournal",
         558
        ],
        [
         "illustreretvidenskab",
         555
        ],
        [
         "lenta.ru",
         550
        ],
        [
         "chemeurope",
         550
        ],
        [
         "ieeespectrum",
         549
        ],
        [
         "businessmayor",
         546
        ],
        [
         "bdnews24",
         545
        ],
        [
         "europapress",
         545
        ],
        [
         "wtoc",
         544
        ],
        [
         "governmentexecutive",
         542
        ],
        [
         "japantoday",
         541
        ],
        [
         "globalresearch",
         536
        ],
        [
         "westernaustraliatoday",
         536
        ],
        [
         "sydneymorningherald",
         535
        ],
        [
         "environmentalhealthperspectives",
         535
        ],
        [
         "diewelt",
         535
        ],
        [
         "gazeta.ru",
         534
        ],
        [
         "pressnewsagency",
         534
        ],
        [
         "greenme",
         526
        ],
        [
         "agenciasinc",
         523
        ],
        [
         "theage",
         523
        ],
        [
         "biosciencetechnology",
         523
        ],
        [
         "trialsitenews",
         523
        ],
        [
         "ariva",
         522
        ],
        [
         "wabe",
         519
        ],
        [
         "heise",
         516
        ],
        [
         "theengineer",
         515
        ],
        [
         "cancernetwork",
         515
        ],
        [
         "drugtargetreview",
         513
        ],
        [
         "kuow",
         510
        ],
        [
         "helsinginsanomat",
         510
        ],
        [
         "insurancenewsnet",
         508
        ],
        [
         "greencarcongress",
         505
        ],
        [
         "myscience",
         505
        ],
        [
         "newsazi",
         505
        ],
        [
         "dailygeekshow",
         504
        ],
        [
         "newzealandherald",
         503
        ],
        [
         "err.ee",
         502
        ],
        [
         "spectrumnews",
         501
        ],
        [
         "healthimaging",
         501
        ],
        [
         "firstwordpharma",
         500
        ],
        [
         "mittechnologyreview",
         500
        ],
        [
         "slatefrance",
         500
        ],
        [
         "einpresswire",
         499
        ],
        [
         "thecape,coastandislandsnprstation",
         499
        ],
        [
         "brisbanetimes",
         494
        ],
        [
         "laopiniónacoruña",
         494
        ],
        [
         "ktnewslive",
         493
        ],
        [
         "men'shealth",
         492
        ],
        [
         "qrius",
         491
        ],
        [
         "rtbf",
         488
        ],
        [
         "scicasts",
         487
        ],
        [
         "azooptics",
         487
        ],
        [
         "metrouk",
         486
        ],
        [
         "newsypeople",
         483
        ],
        [
         "farodevigo",
         482
        ],
        [
         "woodzog",
         481
        ],
        [
         "yahoostylesingapore",
         481
        ],
        [
         "heral&review",
         481
        ],
        [
         "diariodemallorca",
         480
        ],
        [
         "mcknightsseniorliving",
         478
        ],
        [
         "thefinancialexpress(ind)",
         476
        ],
        [
         "photonics",
         468
        ],
        [
         "muyinteresante",
         466
        ],
        [
         "theweek(india)",
         465
        ],
        [
         "bloombergquint",
         464
        ],
        [
         "laopiniónmálaga",
         461
        ],
        [
         "space",
         461
        ],
        [
         "hcplive",
         457
        ],
        [
         "mississippinewsnow",
         457
        ],
        [
         "syfywire",
         456
        ],
        [
         "morningnews",
         456
        ],
        [
         "medcitynews",
         456
        ],
        [
         "koin6",
         454
        ],
        [
         "thestraitstimes",
         453
        ],
        [
         "newschannel11wjhl",
         452
        ],
        [
         "scientias",
         446
        ],
        [
         "headtopics",
         445
        ],
        [
         "uktimenews",
         443
        ],
        [
         "ddnews",
         443
        ],
        [
         "elementy.ru",
         438
        ],
        [
         "wral",
         436
        ],
        [
         "topsanté",
         435
        ],
        [
         "crossroadstodayabc25",
         435
        ],
        [
         "bluefielddailytelegraph",
         435
        ],
        [
         "replicário",
         434
        ],
        [
         "n-tv",
         434
        ],
        [
         "drugdiscoveryanddevelopment",
         434
        ],
        [
         "córdoba",
         429
        ],
        [
         "bnnbloomberg",
         423
        ],
        [
         "elperiódicomediterraneo",
         422
        ],
        [
         "dmnnewswire!",
         421
        ],
        [
         "fiercehealth",
         420
        ],
        [
         "fox5",
         417
        ],
        [
         "actionnewsnow",
         416
        ],
        [
         "onenewspage",
         413
        ],
        [
         "telenganatoday",
         412
        ],
        [
         "olhardigital",
         408
        ],
        [
         "polit",
         404
        ],
        [
         "earth",
         402
        ],
        [
         "thetyee",
         401
        ],
        [
         "kfgo",
         401
        ],
        [
         "mitteldeutscherrundfunk",
         400
        ],
        [
         "jazzwclk",
         400
        ],
        [
         "popularmechanics",
         399
        ],
        [
         "minyanville:finance",
         399
        ],
        [
         "arztezeitung",
         398
        ],
        [
         "fiercebiotech",
         395
        ],
        [
         "controlledenvironments",
         395
        ],
        [
         "minnpost",
         394
        ],
        [
         "todayheadline",
         393
        ],
        [
         "thetelegraph(uk)",
         393
        ],
        [
         "elperiódicodearagón",
         392
        ],
        [
         "jano",
         391
        ],
        [
         "mothernaturenetwork",
         391
        ],
        [
         "sport",
         390
        ],
        [
         "netindia123",
         388
        ],
        [
         "elperiódicoextremadura",
         388
        ],
        [
         "elperiodico-es",
         388
        ],
        [
         "diariodeibiza",
         385
        ],
        [
         "mprnews",
         385
        ],
        [
         "theverge",
         385
        ],
        [
         "biocentury",
         384
        ],
        [
         "laopinióndezamora",
         381
        ],
        [
         "runner'sworld",
         381
        ],
        [
         "earthsky",
         380
        ],
        [
         "solardaily",
         377
        ],
        [
         "usalifesciencesdatabase",
         375
        ],
        [
         "derstandard",
         372
        ],
        [
         "agenparl",
         369
        ],
        [
         "globalcirculate",
         367
        ],
        [
         "163",
         366
        ],
        [
         "ecobusiness",
         365
        ],
        [
         "asiaone",
         365
        ],
        [
         "informacion",
         365
        ],
        [
         "q13fox",
         363
        ],
        [
         "pharmiweb",
         363
        ],
        [
         "innovazione",
         363
        ],
        [
         "wbal",
         363
        ],
        [
         "globalnews",
         361
        ],
        [
         "pharmazeutischezeitung",
         361
        ],
        [
         "hvg.hu",
         360
        ],
        [
         "publico",
         357
        ],
        [
         "kpcc:southerncaliforniapublicradio",
         355
        ],
        [
         "asbmb",
         353
        ],
        [
         "elespañol",
         352
        ],
        [
         "12newskbmt",
         351
        ],
        [
         "fox31denverkdvr-tv",
         351
        ],
        [
         "nuevoperiodico",
         351
        ],
        [
         "lanuevaespaña",
         348
        ],
        [
         "insideclimatenews",
         347
        ],
        [
         "ukwithny",
         344
        ],
        [
         "southafricatoday",
         344
        ],
        [
         "elcomercio",
         342
        ],
        [
         "insidehighered",
         342
        ],
        [
         "larazon(esp)",
         341
        ],
        [
         "santélog",
         341
        ],
        [
         "newser",
         340
        ],
        [
         "lasexta",
         340
        ],
        [
         "gigazine",
         340
        ],
        [
         "everythinglubbock",
         338
        ],
        [
         "cnnphilippines",
         337
        ],
        [
         "latercera",
         336
        ],
        [
         "seekingalpha",
         336
        ],
        [
         "focus.pl",
         335
        ],
        [
         "abcactionnewswftstampabay",
         335
        ],
        [
         "abcnyheter",
         334
        ],
        [
         "aol(uk)",
         332
        ],
        [
         "terradaily",
         331
        ],
        [
         "thefreshtoast",
         329
        ],
        [
         "lemonde",
         328
        ],
        [
         "thepioneer",
         328
        ],
        [
         "nrchandelsblad",
         326
        ],
        [
         "zeenews(india)",
         323
        ],
        [
         "whsv3",
         322
        ],
        [
         "kiiitv3",
         321
        ],
        [
         "countonnews2",
         320
        ],
        [
         "tekdeeps",
         320
        ],
        [
         "moneycontrol",
         320
        ],
        [
         "milleniumpost",
         320
        ],
        [
         "wallstreetonlinedenmark",
         318
        ],
        [
         "republic",
         318
        ],
        [
         "prevention",
         317
        ],
        [
         "carbonbrief",
         316
        ],
        [
         "theascopost",
         314
        ],
        [
         "madrid",
         313
        ],
        [
         "bbcfocusscience&technology",
         313
        ],
        [
         "nutraingredientsusa",
         313
        ],
        [
         "westernmassnews",
         312
        ],
        [
         "diagnosticandinterventionalcardiology",
         312
        ],
        [
         "healthcarefinancenews",
         310
        ],
        [
         "paperity",
         308
        ],
        [
         "sciencepost",
         307
        ],
        [
         "mobihealthnews",
         306
        ],
        [
         "universityofwisconsin-madison",
         306
        ],
        [
         "newsgrooveuk",
         304
        ],
        [
         "nutraingredients",
         302
        ],
        [
         "bgr",
         300
        ],
        [
         "wgn9",
         299
        ],
        [
         "ndtv",
         297
        ],
        [
         "aln",
         297
        ],
        [
         "wjtv",
         297
        ],
        [
         "yourbasin",
         296
        ],
        [
         "wateronline",
         296
        ],
        [
         "cadenaser",
         295
        ],
        [
         "romenewstribune",
         293
        ],
        [
         "irishexaminer",
         292
        ],
        [
         "aarp",
         291
        ],
        [
         "superinteressante",
         290
        ],
        [
         "thesciencetimes,unitedstates",
         288
        ],
        [
         "pvmagazine",
         287
        ],
        [
         "sverigeradio",
         287
        ],
        [
         "kopalniawiedzy",
         287
        ],
        [
         "thepaper",
         286
        ],
        [
         "seeddaily",
         285
        ],
        [
         "tucsonnewsnow",
         285
        ],
        [
         "journalist'sresource",
         284
        ],
        [
         "walesonline",
         282
        ],
        [
         "yahoo!financecanada",
         281
        ],
        [
         "businessmirror",
         278
        ],
        [
         "journalbreak",
         277
        ],
        [
         "abc27",
         274
        ],
        [
         "abc8news",
         274
        ],
        [
         "oakridgenationallaboratory",
         274
        ],
        [
         "yle.fi",
         273
        ],
        [
         "skyitaliatg24",
         273
        ],
        [
         "nbc4",
         273
        ],
        [
         "medicalbrief",
         273
        ],
        [
         "3dprintingindustry",
         272
        ],
        [
         "themirror",
         272
        ],
        [
         "techcrunch",
         271
        ],
        [
         "exbulletin",
         271
        ],
        [
         "indiatoday",
         271
        ],
        [
         "kbtx-tv",
         270
        ],
        [
         "sbdirtysouthsoccer",
         269
        ],
        [
         "fox7austin",
         268
        ],
        [
         "torontotelegraph",
         266
        ],
        [
         "leicestermercury",
         263
        ],
        [
         "telecinco",
         263
        ],
        [
         "women'shealth",
         263
        ],
        [
         "devolkskrant",
         262
        ],
        [
         "notimerica",
         262
        ],
        [
         "20minuten",
         261
        ],
        [
         "cambridgenews",
         261
        ],
        [
         "insidescience",
         261
        ],
        [
         "nutraceuticalsworld",
         261
        ],
        [
         "13newsnow",
         260
        ],
        [
         "actionnewsjax",
         260
        ],
        [
         "wrdw",
         260
        ],
        [
         "farsnewsagency",
         260
        ],
        [
         "francetvinfo",
         260
        ],
        [
         "theplymouthherald",
         259
        ],
        [
         "uncova",
         259
        ],
        [
         "estadao.com.br",
         259
        ],
        [
         "derbyshirelive",
         257
        ],
        [
         "whdh-tv",
         256
        ],
        [
         "inc.",
         256
        ],
        [
         "gamersgrade",
         256
        ],
        [
         "nottinghamshirelive",
         255
        ],
        [
         "itnewsonline",
         255
        ],
        [
         "lastampa",
         255
        ],
        [
         "saltwire",
         254
        ],
        [
         "frankfurterallgemeine",
         252
        ],
        [
         "fatherly",
         252
        ],
        [
         "diagnosticimaging",
         251
        ],
        [
         "consumerreports",
         250
        ],
        [
         "pieuvre.ca",
         248
        ],
        [
         "askbygeeks",
         247
        ],
        [
         "essexlive",
         246
        ],
        [
         "orthopedicsthisweek",
         246
        ],
        [
         "aappublications",
         245
        ],
        [
         "laopiniondemurcia",
         244
        ],
        [
         "origo",
         244
        ],
        [
         "dertagesspiegel",
         244
        ],
        [
         "informnny",
         244
        ],
        [
         "ici.radio-canada.ca",
         243
        ],
        [
         "realhealth",
         243
        ],
        [
         "eldiario",
         242
        ],
        [
         "apa",
         241
        ],
        [
         "dailymaverick",
         241
        ],
        [
         "nyteknik",
         240
        ],
        [
         "technologytimes",
         239
        ],
        [
         "indexhungary",
         239
        ],
        [
         "medisite.fr",
         238
        ],
        [
         "thecanberratimes",
         238
        ],
        [
         "wlns",
         237
        ],
        [
         "galaxyconcerns",
         235
        ],
        [
         "revyuh",
         235
        ],
        [
         "pharmabiz",
         235
        ],
        [
         "clarín",
         234
        ],
        [
         "valuewalk",
         232
        ],
        [
         "e&tmagazine",
         231
        ],
        [
         "fox26houston",
         230
        ],
        [
         "primeurmagazine",
         229
        ],
        [
         "gurufocus",
         228
        ],
        [
         "eveningexpress",
         228
        ],
        [
         "prnewswireuk",
         228
        ],
        [
         "mytwintiers",
         226
        ],
        [
         "azosensors",
         226
        ],
        [
         "innovationsreport",
         224
        ],
        [
         "forextv",
         224
        ],
        [
         "becker'sascreview",
         224
        ],
        [
         "yourerie",
         224
        ],
        [
         "refinery29",
         223
        ],
        [
         "phil'sstockworld",
         222
        ],
        [
         "levante",
         221
        ],
        [
         "wheels24",
         221
        ],
        [
         "harvardgazette",
         220
        ],
        [
         "7news",
         220
        ],
        [
         "expressdigest",
         220
        ],
        [
         "wion",
         219
        ],
        [
         "inews",
         219
        ],
        [
         "operanews",
         218
        ],
        [
         "rheumatologyadvisor",
         218
        ],
        [
         "jamaiceoberserver",
         217
        ],
        [
         "myza",
         216
        ],
        [
         "nationalobserver",
         216
        ],
        [
         "outside",
         215
        ],
        [
         "news5cleveland",
         214
        ],
        [
         "dailynews-record",
         213
        ],
        [
         "coventrytelegraph",
         213
        ],
        [
         "wired.co.uk",
         212
        ],
        [
         "worldnewssbs",
         212
        ],
        [
         "kctv5",
         212
        ],
        [
         "australasianscience",
         212
        ],
        [
         "healtheuropa",
         212
        ],
        [
         "braintree&withamtimes",
         211
        ],
        [
         "20minutes",
         210
        ],
        [
         "pettinga:stockmarket",
         210
        ],
        [
         "bullfax",
         210
        ],
        [
         "chineseacademyofscience",
         210
        ],
        [
         "ilpost",
         209
        ],
        [
         "elimparcial",
         209
        ],
        [
         "indexcroatia",
         209
        ],
        [
         "americanpharmacistsassociation",
         208
        ],
        [
         "vbio",
         207
        ],
        [
         "chardandilminsternews",
         207
        ],
        [
         "endpoints",
         207
        ]
       ],
       "datasetInfos": [],
       "dbfsResultPath": null,
       "isJsonSchema": true,
       "metadata": {},
       "overflow": false,
       "plotOptions": {
        "customPlotOptions": {},
        "displayType": "table",
        "pivotAggregation": null,
        "pivotColumns": null,
        "xColumns": null,
        "yColumns": null
       },
       "removedWidgets": [],
       "schema": [
        {
         "metadata": "{}",
         "name": "media",
         "type": "\"string\""
        },
        {
         "metadata": "{}",
         "name": "no_of_doi",
         "type": "\"long\""
        }
       ],
       "type": "table"
      }
     },
     "output_type": "display_data"
    }
   ],
   "source": [
    "##this list is used to extract the specialty media\n",
    "l1 = list(set(merged['media']))\n",
    "missing_highest = highest_mention[~highest_mention['media'].isin(l1)]\n",
    "missing_highest = missing_highest.sort_values(by=['no_of_doi'], ascending = False)\n",
    "#print(missing_highest.head(300))\n",
    "#print(len(missing_highest))\n",
    "display(missing_highest)\n",
    "\n"
   ]
  },
  {
   "cell_type": "code",
   "execution_count": 0,
   "metadata": {
    "application/vnd.databricks.v1+cell": {
     "cellMetadata": {
      "byteLimit": 2048000,
      "rowLimit": 10000
     },
     "inputWidgets": {},
     "nuid": "b458dc7b-9193-4f9f-be9c-ac1998df8a47",
     "showTitle": false,
     "title": ""
    }
   },
   "outputs": [
    {
     "output_type": "stream",
     "name": "stdout",
     "output_type": "stream",
     "text": [
      "                        media  no_of_doi\n176               eurekalert!      36214\n361             medicalxpress      27520\n515              sciencedaily      19197\n581            themedicalnews      16858\n359         medicalhealthnews      16020\n421                 newsbreak      15613\n142               docwirenews      15246\n521                  scienmag      14281\n375                miragenews      13517\n368                  medscape       9475\n144                     drugs       9141\n559        technologynetworks       8461\n518         sciencenewsnet.in       8173\n28                   alzforum       7791\n469       physician'sbriefing       7630\n366              medpagetoday       7483\n346                  longroom       7429\n274                infosurhoy       6921\n365                  mediumus       6383\n200  foreignaffairsnewzealand       6207\n363                  medindia       5937\n56             bignewsnetwork       5736\n141             doctorslounge       5583\n59            bioengineer.org       5333\n211                  futurity       5318\n524              scitechdaily       5277\n120                 dailymail       5223\n53                   benzinga       4830\n413                 newkerala       4547\n410       newcanaanadvertiser       4280\n"
     ]
    }
   ],
   "source": [
    "a = list(missing)\n",
    "d = pd.DataFrame()\n",
    "d['media'] = a\n",
    "d['dum'] = 1\n",
    "\n",
    "f = d.merge(new_total, on = ['media'], how = \"inner\")\n",
    "ff = f.groupby('media')['doi'].count().reset_index()\n",
    "ff.columns = ['media', 'no_of_doi']\n",
    "ff = ff.sort_values(by=['no_of_doi'], ascending = False)\n",
    "display(ff.head(500))"
   ]
  },
  {
   "cell_type": "markdown",
   "metadata": {
    "application/vnd.databricks.v1+cell": {
     "cellMetadata": {
      "byteLimit": 2048000,
      "rowLimit": 10000
     },
     "inputWidgets": {},
     "nuid": "39ba2b2a-7883-4149-819a-9d2a39e35738",
     "showTitle": false,
     "title": ""
    }
   },
   "source": [
    "## average number citation to male vs female per media"
   ]
  },
  {
   "cell_type": "code",
   "execution_count": 0,
   "metadata": {
    "application/vnd.databricks.v1+cell": {
     "cellMetadata": {
      "byteLimit": 2048000,
      "rowLimit": 10000
     },
     "inputWidgets": {},
     "nuid": "a05b0713-b523-4fdf-be80-1c226227f2af",
     "showTitle": false,
     "title": ""
    }
   },
   "outputs": [],
   "source": [
    "dummy = merged.copy()\n",
    "G = []\n",
    "for ind in dummy.index:\n",
    "  if dummy['cor_gender'][ind] == 'female' or dummy['cor_gender'][ind] == 'f' or dummy['cor_gender'][ind] == 'F':\n",
    "    G.append(0)\n",
    "  else:\n",
    "    G.append(1)\n",
    "dummy['G'] = G"
   ]
  },
  {
   "cell_type": "code",
   "execution_count": 0,
   "metadata": {
    "application/vnd.databricks.v1+cell": {
     "cellMetadata": {
      "byteLimit": 2048000,
      "rowLimit": 10000
     },
     "inputWidgets": {},
     "nuid": "2b9b58af-b633-4524-ad65-aa5cba25871a",
     "showTitle": false,
     "title": ""
    }
   },
   "outputs": [
    {
     "output_type": "stream",
     "name": "stdout",
     "output_type": "stream",
     "text": [
      "avg number of female citation per media 216.87854889589906\navg number of male citation per media 340.8826219512195\n"
     ]
    }
   ],
   "source": [
    "male = dummy[dummy['G'] == 1]\n",
    "female = dummy[dummy['G'] == 0]\n",
    "\n",
    "ma = male['media'].value_counts().reset_index()\n",
    "#ma = male.groupby('media')['doi'].count().reset_index()\n",
    "ma.columns = ['media','counts']\n",
    "#ma = ma.sort_values(by = ['counts'], ascending = False)\n",
    "#print(ma.head(10))\n",
    "\n",
    "\n",
    "fa = female['media'].value_counts().reset_index()\n",
    "\n",
    "fa.columns = ['media','counts']\n",
    "\n",
    "#print(fa.head(10))\n",
    "\n",
    "print(\"avg number of female citation per media\",fa['counts'].mean())\n",
    "print(\"avg number of male citation per media\",ma['counts'].mean())"
   ]
  },
  {
   "cell_type": "markdown",
   "metadata": {
    "application/vnd.databricks.v1+cell": {
     "cellMetadata": {
      "byteLimit": 2048000,
      "rowLimit": 10000
     },
     "inputWidgets": {},
     "nuid": "43a20c0e-3849-417c-889c-0ff411d84a06",
     "showTitle": false,
     "title": ""
    }
   },
   "source": [
    "## Avg number of media citation per male vs per female"
   ]
  },
  {
   "cell_type": "code",
   "execution_count": 0,
   "metadata": {
    "application/vnd.databricks.v1+cell": {
     "cellMetadata": {
      "byteLimit": 2048000,
      "rowLimit": 10000
     },
     "inputWidgets": {},
     "nuid": "a11c44b8-bf0a-468e-aef5-f7d3f5bf62bd",
     "showTitle": false,
     "title": ""
    }
   },
   "outputs": [
    {
     "output_type": "stream",
     "name": "stdout",
     "output_type": "stream",
     "text": [
      "Domain_English        object\nField_English         object\nSubField_English      object\nsrcid                  int64\nopenaccess_status     object\ndoi                   object\nnews_cnt               int64\nyear                   int64\nissn                  object\nnum_au                 int64\ncor_gender            object\nTopicId                int64\nAu1_gender            object\ncountry_name          object\nSJR                  float64\nsubfield_article      object\npreferred_name        object\norg_type              object\ncor_au1                int64\nmedia                 object\nis_top                object\ngit                   object\ndomain                object\nideology              object\ntype                  object\nG                     object\ndtype: object\n"
     ]
    }
   ],
   "source": [
    "dummy = merged.copy()\n",
    "G = []\n",
    "for ind in dummy.index:\n",
    "  if dummy['cor_gender'][ind] == 'female' or dummy['cor_gender'][ind] == 'f' or dummy['cor_gender'][ind] == 'F':\n",
    "    G.append(\"female\")\n",
    "  else:\n",
    "    G.append(\"male\")\n",
    "dummy['G'] = G\n",
    "\n",
    "print(dummy.dtypes)"
   ]
  },
  {
   "cell_type": "code",
   "execution_count": 0,
   "metadata": {
    "application/vnd.databricks.v1+cell": {
     "cellMetadata": {
      "byteLimit": 2048000,
      "rowLimit": 10000
     },
     "inputWidgets": {},
     "nuid": "93ecdc1e-31ea-4d3a-8237-e4e33f9bbe45",
     "showTitle": false,
     "title": ""
    }
   },
   "outputs": [
    {
     "output_type": "stream",
     "name": "stdout",
     "output_type": "stream",
     "text": [
      "avg number of media citation per female  7.9109947643979055\navg number of media citation per male  8.344615269796254\nmedian number of media citation per female  2.0\nmedia number of media citation per male  2.0\n"
     ]
    }
   ],
   "source": [
    "male = dummy[dummy['G'] == \"male\"]\n",
    "female = dummy[dummy['G'] == \"female\"]\n",
    "\n",
    "ma = male['cor_au1'].value_counts().reset_index()\n",
    "#ma = male.groupby('media')['doi'].count().reset_index()\n",
    "ma.columns = ['cor_au1','counts']\n",
    "#ma = ma.sort_values(by = ['counts'], ascending = False)\n",
    "#print(ma.head(10))\n",
    "\n",
    "\n",
    "fa = female['cor_au1'].value_counts().reset_index()\n",
    "\n",
    "fa.columns = ['cor_au1','counts']\n",
    "\n",
    "#print(fa.head(10)) \n",
    "\n",
    "print(\"avg number of media citation per female \",fa['counts'].mean())\n",
    "print(\"avg number of media citation per male \",ma['counts'].mean())\n",
    "\n",
    "print(\"median number of media citation per female \",fa['counts'].median())\n",
    "print(\"media number of media citation per male \",ma['counts'].median())"
   ]
  },
  {
   "cell_type": "markdown",
   "metadata": {
    "application/vnd.databricks.v1+cell": {
     "cellMetadata": {
      "byteLimit": 2048000,
      "rowLimit": 10000
     },
     "inputWidgets": {},
     "nuid": "b0b927e0-9215-4b3f-9f24-274e617531dd",
     "showTitle": false,
     "title": ""
    }
   },
   "source": [
    "## percent of male and female in top 5% highly cited authors"
   ]
  },
  {
   "cell_type": "code",
   "execution_count": 0,
   "metadata": {
    "application/vnd.databricks.v1+cell": {
     "cellMetadata": {
      "byteLimit": 2048000,
      "rowLimit": 10000
     },
     "inputWidgets": {},
     "nuid": "653794db-7acf-4a32-86f1-eb9fd80987d3",
     "showTitle": false,
     "title": ""
    }
   },
   "outputs": [
    {
     "output_type": "stream",
     "name": "stdout",
     "output_type": "stream",
     "text": [
      "       cor_au1  counts     G\n0  56979472000     773  male\n1   9738161500     506  male\n2  35563576900     501  male\n3  56457863700     470  male\n4  18436084800     437  male\n5  57206174471     402  male\n6  35392031000     294  male\n7   6603705217     292  male\n8  35285643200     277  male\n9   7102104617     272  male\n       cor_au1  counts       G\n0   7003569619     509  female\n1  57207486456     350  female\n2  42262842600     275  female\n3   7203032183     274  female\n4  57204514616     259  female\n5   6701833329     244  female\n6   7006576784     224  female\n7  57219515396     220  female\n8  16232686800     205  female\n9   7005773698     204  female\n"
     ]
    }
   ],
   "source": [
    "dummy = merged.copy()\n",
    "G = []\n",
    "for ind in dummy.index:\n",
    "  if dummy['cor_gender'][ind] == 'female' or dummy['cor_gender'][ind] == 'f' or dummy['cor_gender'][ind] == 'F':\n",
    "    G.append(\"female\")\n",
    "  else:\n",
    "    G.append(\"male\")\n",
    "dummy['G'] = G\n",
    "\n",
    "#print(dummy.dtypes)\n",
    "\n",
    "\n",
    "\n",
    "male = dummy[dummy['G'] == \"male\"]\n",
    "female = dummy[dummy['G'] == \"female\"]\n",
    "\n",
    "ma = male['cor_au1'].value_counts().reset_index()\n",
    "#ma = male.groupby('media')['doi'].count().reset_index()\n",
    "ma.columns = ['cor_au1','counts']\n",
    "#ma = ma.sort_values(by = ['counts'], ascending = False)\n",
    "\n",
    "ma['G'] = \"male\"\n",
    "print(ma.head(10))\n",
    "\n",
    "fa = female['cor_au1'].value_counts().reset_index()\n",
    "\n",
    "fa.columns = ['cor_au1','counts']\n",
    "fa['G'] = \"female\"\n",
    "\n",
    "print(fa.head(10))\n",
    "\n",
    "\n"
   ]
  },
  {
   "cell_type": "code",
   "execution_count": 0,
   "metadata": {
    "application/vnd.databricks.v1+cell": {
     "cellMetadata": {
      "byteLimit": 2048000,
      "rowLimit": 10000
     },
     "inputWidgets": {},
     "nuid": "7e15a8cb-3fff-4699-8072-7d7c68da2166",
     "showTitle": false,
     "title": ""
    }
   },
   "outputs": [
    {
     "output_type": "stream",
     "name": "stdout",
     "output_type": "stream",
     "text": [
      "17381\n26798\n44179\n       cor_au1  counts     G\n0  56979472000     773  male\n1   9738161500     506  male\n2  35563576900     501  male\n3  56457863700     470  male\n4  18436084800     437  male\n5  57206174471     402  male\n6  35392031000     294  male\n7   6603705217     292  male\n8  35285643200     277  male\n9   7102104617     272  male\n"
     ]
    }
   ],
   "source": [
    "print(len(fa))\n",
    "print(len(ma))\n",
    "\n",
    "com = pd.concat([ma, fa], axis=0, ignore_index=True)\n",
    "print(len(com))\n",
    "print(com.head(10))"
   ]
  },
  {
   "cell_type": "code",
   "execution_count": 0,
   "metadata": {
    "application/vnd.databricks.v1+cell": {
     "cellMetadata": {
      "byteLimit": 2048000,
      "rowLimit": 10000
     },
     "inputWidgets": {},
     "nuid": "1a59c582-9cd3-4e3d-a175-981b7fe25379",
     "showTitle": false,
     "title": ""
    }
   },
   "outputs": [
    {
     "output_type": "stream",
     "name": "stdout",
     "output_type": "stream",
     "text": [
      "33.0\n2296\n0.6263066202090593\n0.37369337979094075\n"
     ]
    }
   ],
   "source": [
    "##top 5%\n",
    "top5_q = com['counts'].quantile(0.95)\n",
    "\n",
    "print(top5_q)\n",
    "\n",
    "top5_com = com[com['counts'] >= top5_q]\n",
    "print(len(top5_com))\n",
    "#print(top5_com.head(10))\n",
    "print(len(top5_com[top5_com['G'] == \"male\"])/len(top5_com))\n",
    "print(len(top5_com[top5_com['G'] == \"female\"])/len(top5_com))"
   ]
  },
  {
   "cell_type": "code",
   "execution_count": 0,
   "metadata": {
    "application/vnd.databricks.v1+cell": {
     "cellMetadata": {
      "byteLimit": 2048000,
      "rowLimit": 10000
     },
     "inputWidgets": {},
     "nuid": "9655aded-60eb-48d7-b999-182c9d939e63",
     "showTitle": false,
     "title": ""
    }
   },
   "outputs": [
    {
     "output_type": "stream",
     "name": "stdout",
     "output_type": "stream",
     "text": [
      "15407\n0.6036217303822937\n0.3963782696177062\n"
     ]
    }
   ],
   "source": [
    "##bot 5%\n",
    "bot5_q = com['counts'].quantile(0.05)\n",
    "\n",
    "\n",
    "\n",
    "bot5_com = com[com['counts'] <= bot5_q]\n",
    "print(len(bot5_com))\n",
    "#print(top5_com.head(10))\n",
    "print(len(bot5_com[bot5_com['G'] == \"male\"])/len(bot5_com))\n",
    "print(len(bot5_com[bot5_com['G'] == \"female\"])/len(bot5_com))"
   ]
  },
  {
   "cell_type": "markdown",
   "metadata": {
    "application/vnd.databricks.v1+cell": {
     "cellMetadata": {},
     "inputWidgets": {},
     "nuid": "2c69c670-d623-4801-bebc-21142bbc0c3b",
     "showTitle": false,
     "title": ""
    }
   },
   "source": [
    "## percent of female in specialty media"
   ]
  },
  {
   "cell_type": "code",
   "execution_count": 0,
   "metadata": {
    "application/vnd.databricks.v1+cell": {
     "cellMetadata": {
      "byteLimit": 2048000,
      "rowLimit": 10000
     },
     "inputWidgets": {},
     "nuid": "254b0bab-ee68-43f6-955d-212aaea549e0",
     "showTitle": false,
     "title": ""
    }
   },
   "outputs": [
    {
     "output_type": "stream",
     "name": "stdout",
     "output_type": "stream",
     "text": [
      "382903\npercent of female in special  0.3569062854003266\n"
     ]
    }
   ],
   "source": [
    "special = spark.read.format(\"csv\").option(\"header\", \"true\").load(\"dbfs:/FileStore/shared_uploads/arabi2@wisc.edu/specialty_picked.csv\")\n",
    "special = special.toPandas()\n",
    "\n",
    "final = new_total.merge(special, on = ['media'], how = \"inner\")\n",
    "print(len(final))\n",
    "#print(final['media'].nunique())\n",
    "#print(final.head(5))\n",
    "final = final.drop_duplicates(subset=['media','doi'])\n",
    "#print(len(final))\n",
    "#print(final.head(5))\n",
    "\n",
    "dummy = final.copy()\n",
    "G = []\n",
    "for ind in dummy.index:\n",
    "  if dummy['cor_gender'][ind] == 'female' or dummy['cor_gender'][ind] == 'f' or dummy['cor_gender'][ind] == 'F':\n",
    "    G.append(\"female\")\n",
    "  else:\n",
    "    G.append(\"male\")\n",
    "dummy['G'] = G\n",
    "\n",
    "print(\"percent of female in special \",len(dummy[dummy['G'] == \"female\"])/len(dummy))"
   ]
  },
  {
   "cell_type": "markdown",
   "metadata": {
    "application/vnd.databricks.v1+cell": {
     "cellMetadata": {
      "byteLimit": 2048000,
      "rowLimit": 10000
     },
     "inputWidgets": {},
     "nuid": "dac57b1c-ba44-440d-af8a-33f4bbbe79d3",
     "showTitle": false,
     "title": ""
    }
   },
   "source": [
    "## percent of female in local, national, and international media"
   ]
  },
  {
   "cell_type": "code",
   "execution_count": 0,
   "metadata": {
    "application/vnd.databricks.v1+cell": {
     "cellMetadata": {
      "byteLimit": 2048000,
      "rowLimit": 10000
     },
     "inputWidgets": {},
     "nuid": "a39f51c5-2e7a-4208-bd18-503b404760b6",
     "showTitle": false,
     "title": ""
    }
   },
   "outputs": [
    {
     "output_type": "stream",
     "name": "stdout",
     "output_type": "stream",
     "text": [
      "percent of female im local  0.4047798546613298\npercent of female im national  0.36557658952007327\npercent of female im international  0.3562172235946778\n"
     ]
    }
   ],
   "source": [
    "dummy = merged.copy()\n",
    "G = []\n",
    "for ind in dummy.index:\n",
    "  if dummy['cor_gender'][ind] == 'female' or dummy['cor_gender'][ind] == 'f' or dummy['cor_gender'][ind] == 'F':\n",
    "    G.append(\"female\")\n",
    "  else:\n",
    "    G.append(\"male\")\n",
    "dummy['G'] = G\n",
    "\n",
    "local = dummy[dummy['type'] == 'local']\n",
    "national = dummy[dummy['type'] == 'national']\n",
    "international = dummy[dummy['type'] == 'international']\n",
    "\n",
    "\n",
    "\n",
    "print(\"percent of female im local \", len(local[local['G'] == \"female\"])/len(local))\n",
    "\n",
    "\n",
    "\n",
    "print(\"percent of female im national \", len(national[national['G'] == \"female\"])/len(national))\n",
    "\n",
    "\n",
    "print(\"percent of female im international \", len(international[international['G'] == \"female\"])/len(international))"
   ]
  },
  {
   "cell_type": "markdown",
   "metadata": {
    "application/vnd.databricks.v1+cell": {
     "cellMetadata": {
      "byteLimit": 2048000,
      "rowLimit": 10000
     },
     "inputWidgets": {},
     "nuid": "f4d9f43b-8ed2-466b-baf9-594706713a6e",
     "showTitle": false,
     "title": ""
    }
   },
   "source": [
    "## gender and ideology"
   ]
  },
  {
   "cell_type": "code",
   "execution_count": 0,
   "metadata": {
    "application/vnd.databricks.v1+cell": {
     "cellMetadata": {
      "byteLimit": 2048000,
      "rowLimit": 10000
     },
     "inputWidgets": {},
     "nuid": "afa6a466-2d41-4386-b0b1-ccddd788a044",
     "showTitle": false,
     "title": ""
    }
   },
   "outputs": [
    {
     "output_type": "stream",
     "name": "stdout",
     "output_type": "stream",
     "text": [
      "Out[9]: Domain_English        object\nField_English         object\nSubField_English      object\nsrcid                  int64\nopenaccess_status     object\ndoi                   object\nnews_cnt               int64\nyear                   int64\nissn                  object\nnum_au                 int64\ncor_gender            object\nTopicId                int64\nAu1_gender            object\ncountry_name          object\nSJR                  float64\nsubfield_article      object\npreferred_name        object\norg_type              object\ncor_au1                int64\nmedia                 object\nis_top                object\ngit                   object\ndomain                object\nideology              object\ntype                  object\ndtype: object"
     ]
    }
   ],
   "source": [
    "#print(len(merged))\n",
    "#print(merged['url'])\n",
    "merged.dtypes"
   ]
  },
  {
   "cell_type": "code",
   "execution_count": 0,
   "metadata": {
    "application/vnd.databricks.v1+cell": {
     "cellMetadata": {
      "byteLimit": 2048000,
      "rowLimit": 10000
     },
     "inputWidgets": {},
     "nuid": "c1ea4f07-bed4-492b-b893-c06606fd548f",
     "showTitle": false,
     "title": ""
    }
   },
   "outputs": [
    {
     "output_type": "stream",
     "name": "stdout",
     "output_type": "stream",
     "text": [
      "Out[8]: <AxesSubplot:>"
     ]
    },
    {
     "output_type": "display_data",
     "data": {
      "image/png": "[encoded data removed]"
     },
     "metadata": {
      "application/vnd.databricks.v1+output": {
       "addedWidgets": {},
       "arguments": {},
       "data": "data:image/png;base64,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\n",
       "datasetInfos": [],
       "metadata": {},
       "removedWidgets": [],
       "type": "image"
      }
     },
     "output_type": "display_data"
    }
   ],
   "source": [
    "dummy = merged.copy()\n",
    "G = []\n",
    "for ind in dummy.index:\n",
    "  if dummy['cor_gender'][ind] == 'female' or dummy['cor_gender'][ind] == 'f' or dummy['cor_gender'][ind] == 'F':\n",
    "    G.append(\"female\")\n",
    "    #G.append(0)\n",
    "  else:\n",
    "    G.append(\"male\")\n",
    "    #G.append(1)\n",
    "dummy['G'] = G\n",
    "\n",
    "#print(dummy.dtypes)\n",
    "dummy['ideology'] = dummy['ideology'].astype(float)\n",
    "dummy = dummy.dropna(subset = ['ideology'])\n",
    "\n",
    "dummy['ideology'].hist()"
   ]
  },
  {
   "cell_type": "code",
   "execution_count": 0,
   "metadata": {
    "application/vnd.databricks.v1+cell": {
     "cellMetadata": {
      "byteLimit": 2048000,
      "rowLimit": 10000
     },
     "inputWidgets": {},
     "nuid": "6af8856d-1c8b-4d6d-924d-130cf7ace013",
     "showTitle": false,
     "title": ""
    }
   },
   "outputs": [],
   "source": [
    "q = []\n",
    "q1,q2,q3 = 0.123,0.25,0.593\n",
    "for ind in dummy.index:\n",
    "  if dummy['SJR'][ind] <= q1:\n",
    "    q.append(0)\n",
    "  elif dummy['SJR'][ind] > q1 and dummy['SJR'][ind] <= q2:\n",
    "    q.append(1)\n",
    "  elif dummy['SJR'][ind] > q2 and dummy['SJR'][ind] <= q3:\n",
    "    q.append(2)\n",
    "  else:\n",
    "    q.append(3)\n",
    "dummy['q'] = q"
   ]
  },
  {
   "cell_type": "code",
   "execution_count": 0,
   "metadata": {
    "application/vnd.databricks.v1+cell": {
     "cellMetadata": {
      "byteLimit": 2048000,
      "rowLimit": 10000
     },
     "inputWidgets": {},
     "nuid": "4600825b-f4da-44f8-a68e-d1ebd2ffa441",
     "showTitle": false,
     "title": ""
    }
   },
   "outputs": [
    {
     "output_type": "stream",
     "name": "stdout",
     "output_type": "stream",
     "text": [
      "Out[30]: array(['Applied Sciences', 'Arts & Humanities',\n       'Economic & Social Sciences', 'Health Sciences',\n       'Natural Sciences'], dtype=object)"
     ]
    }
   ],
   "source": [
    "dummy['Domain_English'].unique()"
   ]
  },
  {
   "cell_type": "code",
   "execution_count": 0,
   "metadata": {
    "application/vnd.databricks.v1+cell": {
     "cellMetadata": {
      "byteLimit": 2048000,
      "rowLimit": 10000
     },
     "inputWidgets": {},
     "nuid": "af62d1be-9407-4a7a-a231-1fbafc917d90",
     "showTitle": false,
     "title": ""
    }
   },
   "outputs": [
    {
     "output_type": "stream",
     "name": "stdout",
     "output_type": "stream",
     "text": [
      "662\n547\n"
     ]
    }
   ],
   "source": [
    "print(merged['media'].nunique())\n",
    "a = merged.dropna(subset = ['ideology'])\n",
    "print(a['media'].nunique())\n"
   ]
  },
  {
   "cell_type": "code",
   "execution_count": 0,
   "metadata": {
    "application/vnd.databricks.v1+cell": {
     "cellMetadata": {
      "byteLimit": 2048000,
      "rowLimit": 10000
     },
     "inputWidgets": {},
     "nuid": "18b0f9d6-6ee2-4a70-ac46-950df4fd8906",
     "showTitle": false,
     "title": ""
    }
   },
   "outputs": [],
   "source": [
    "import numpy as np\n",
    "import rpy2.robjects.packages as rpackages\n",
    "import rpy2.robjects.vectors as robjects_vectors\n",
    "\n",
    "\n",
    "from rpy2.robjects import r, pandas2ri\n",
    "import rpy2.robjects as ro\n",
    "from rpy2.robjects.packages import importr"
   ]
  },
  {
   "cell_type": "code",
   "execution_count": 0,
   "metadata": {
    "application/vnd.databricks.v1+cell": {
     "cellMetadata": {
      "byteLimit": 2048000,
      "rowLimit": 10000
     },
     "inputWidgets": {},
     "nuid": "1f124498-fe23-47b6-a43f-74b22cf481bd",
     "showTitle": false,
     "title": ""
    }
   },
   "outputs": [
    {
     "output_type": "stream",
     "name": "stdout",
     "output_type": "stream",
     "text": [
      "R[write to console]: Warning:\nR[write to console]:  failed to download mirrors file (cannot open URL 'https://cran.r-project.org/CRAN_mirrors.csv'); using local file '/usr/lib/R/doc/CRAN_mirrors.csv'\n\nR[write to console]: Error in file(file, \"rt\") : cannot open the connection\n\nR[write to console]: In addition: \nR[write to console]: Warning messages:\n\nR[write to console]: 1: \nR[write to console]: In (function (package, help, pos = 2, lib.loc = NULL, character.only = FALSE,  :\nR[write to console]: \n \nR[write to console]:  libraries ‘/local_disk0/.ephemeral_nfs/cluster_libraries/r’, ‘/usr/lib/R/site-library’ contain no packages\n\nR[write to console]: 2: \nR[write to console]: In download.file(url, destfile = f, quiet = TRUE) :\nR[write to console]: \n \nR[write to console]:  URL 'https://cran.r-project.org/CRAN_mirrors.csv': Timeout of 60 seconds was reached\n\nR[write to console]: 3: \nR[write to console]: In file(file, \"rt\") :\nR[write to console]: \n \nR[write to console]:  cannot open file '/usr/lib/R/doc/CRAN_mirrors.csv': No such file or directory\n\n"
     ]
    },
    {
     "output_type": "display_data",
     "data": {
      "text/plain": [
       "\u001B[0;31m---------------------------------------------------------------------------\u001B[0m\n",
       "\u001B[0;31mRRuntimeError\u001B[0m                             Traceback (most recent call last)\n",
       "\u001B[0;32m<command-2513506395823>\u001B[0m in \u001B[0;36m<cell line: 3>\u001B[0;34m()\u001B[0m\n",
       "\u001B[1;32m      1\u001B[0m \u001B[0;31m# import R's utility package\u001B[0m\u001B[0;34m\u001B[0m\u001B[0;34m\u001B[0m\u001B[0;34m\u001B[0m\u001B[0m\n",
       "\u001B[1;32m      2\u001B[0m \u001B[0mutils\u001B[0m \u001B[0;34m=\u001B[0m \u001B[0mrpackages\u001B[0m\u001B[0;34m.\u001B[0m\u001B[0mimportr\u001B[0m\u001B[0;34m(\u001B[0m\u001B[0;34m'utils'\u001B[0m\u001B[0;34m)\u001B[0m\u001B[0;34m\u001B[0m\u001B[0;34m\u001B[0m\u001B[0m\n",
       "\u001B[0;32m----> 3\u001B[0;31m \u001B[0mutils\u001B[0m\u001B[0;34m.\u001B[0m\u001B[0mchooseCRANmirror\u001B[0m\u001B[0;34m(\u001B[0m\u001B[0mind\u001B[0m\u001B[0;34m=\u001B[0m\u001B[0;36m2\u001B[0m\u001B[0;34m)\u001B[0m\u001B[0;34m\u001B[0m\u001B[0;34m\u001B[0m\u001B[0m\n",
       "\u001B[0m\u001B[1;32m      4\u001B[0m \u001B[0;32mfrom\u001B[0m \u001B[0mrpy2\u001B[0m\u001B[0;34m.\u001B[0m\u001B[0mrobjects\u001B[0m\u001B[0;34m.\u001B[0m\u001B[0mconversion\u001B[0m \u001B[0;32mimport\u001B[0m \u001B[0mlocalconverter\u001B[0m\u001B[0;34m\u001B[0m\u001B[0;34m\u001B[0m\u001B[0m\n",
       "\u001B[1;32m      5\u001B[0m \u001B[0mbase\u001B[0m \u001B[0;34m=\u001B[0m \u001B[0mimportr\u001B[0m\u001B[0;34m(\u001B[0m\u001B[0;34m'base'\u001B[0m\u001B[0;34m)\u001B[0m\u001B[0;34m\u001B[0m\u001B[0;34m\u001B[0m\u001B[0m\n",
       "\n",
       "\u001B[0;32m/local_disk0/.ephemeral_nfs/envs/pythonEnv-819ae590-5edd-4bcd-8a7b-c621f844d8a3/lib/python3.9/site-packages/rpy2/robjects/functions.py\u001B[0m in \u001B[0;36m__call__\u001B[0;34m(self, *args, **kwargs)\u001B[0m\n",
       "\u001B[1;32m    201\u001B[0m                 \u001B[0mv\u001B[0m \u001B[0;34m=\u001B[0m \u001B[0mkwargs\u001B[0m\u001B[0;34m.\u001B[0m\u001B[0mpop\u001B[0m\u001B[0;34m(\u001B[0m\u001B[0mk\u001B[0m\u001B[0;34m)\u001B[0m\u001B[0;34m\u001B[0m\u001B[0;34m\u001B[0m\u001B[0m\n",
       "\u001B[1;32m    202\u001B[0m                 \u001B[0mkwargs\u001B[0m\u001B[0;34m[\u001B[0m\u001B[0mr_k\u001B[0m\u001B[0;34m]\u001B[0m \u001B[0;34m=\u001B[0m \u001B[0mv\u001B[0m\u001B[0;34m\u001B[0m\u001B[0;34m\u001B[0m\u001B[0m\n",
       "\u001B[0;32m--> 203\u001B[0;31m         return (super(SignatureTranslatedFunction, self)\n",
       "\u001B[0m\u001B[1;32m    204\u001B[0m                 .__call__(*args, **kwargs))\n",
       "\u001B[1;32m    205\u001B[0m \u001B[0;34m\u001B[0m\u001B[0m\n",
       "\n",
       "\u001B[0;32m/local_disk0/.ephemeral_nfs/envs/pythonEnv-819ae590-5edd-4bcd-8a7b-c621f844d8a3/lib/python3.9/site-packages/rpy2/robjects/functions.py\u001B[0m in \u001B[0;36m__call__\u001B[0;34m(self, *args, **kwargs)\u001B[0m\n",
       "\u001B[1;32m    124\u001B[0m             \u001B[0;32melse\u001B[0m\u001B[0;34m:\u001B[0m\u001B[0;34m\u001B[0m\u001B[0;34m\u001B[0m\u001B[0m\n",
       "\u001B[1;32m    125\u001B[0m                 \u001B[0mnew_kwargs\u001B[0m\u001B[0;34m[\u001B[0m\u001B[0mk\u001B[0m\u001B[0;34m]\u001B[0m \u001B[0;34m=\u001B[0m \u001B[0mcv\u001B[0m\u001B[0;34m.\u001B[0m\u001B[0mpy2rpy\u001B[0m\u001B[0;34m(\u001B[0m\u001B[0mv\u001B[0m\u001B[0;34m)\u001B[0m\u001B[0;34m\u001B[0m\u001B[0;34m\u001B[0m\u001B[0m\n",
       "\u001B[0;32m--> 126\u001B[0;31m         \u001B[0mres\u001B[0m \u001B[0;34m=\u001B[0m \u001B[0msuper\u001B[0m\u001B[0;34m(\u001B[0m\u001B[0mFunction\u001B[0m\u001B[0;34m,\u001B[0m \u001B[0mself\u001B[0m\u001B[0;34m)\u001B[0m\u001B[0;34m.\u001B[0m\u001B[0m__call__\u001B[0m\u001B[0;34m(\u001B[0m\u001B[0;34m*\u001B[0m\u001B[0mnew_args\u001B[0m\u001B[0;34m,\u001B[0m \u001B[0;34m**\u001B[0m\u001B[0mnew_kwargs\u001B[0m\u001B[0;34m)\u001B[0m\u001B[0;34m\u001B[0m\u001B[0;34m\u001B[0m\u001B[0m\n",
       "\u001B[0m\u001B[1;32m    127\u001B[0m         \u001B[0mres\u001B[0m \u001B[0;34m=\u001B[0m \u001B[0mcv\u001B[0m\u001B[0;34m.\u001B[0m\u001B[0mrpy2py\u001B[0m\u001B[0;34m(\u001B[0m\u001B[0mres\u001B[0m\u001B[0;34m)\u001B[0m\u001B[0;34m\u001B[0m\u001B[0;34m\u001B[0m\u001B[0m\n",
       "\u001B[1;32m    128\u001B[0m         \u001B[0;32mreturn\u001B[0m \u001B[0mres\u001B[0m\u001B[0;34m\u001B[0m\u001B[0;34m\u001B[0m\u001B[0m\n",
       "\n",
       "\u001B[0;32m/local_disk0/.ephemeral_nfs/envs/pythonEnv-819ae590-5edd-4bcd-8a7b-c621f844d8a3/lib/python3.9/site-packages/rpy2/rinterface_lib/conversion.py\u001B[0m in \u001B[0;36m_\u001B[0;34m(*args, **kwargs)\u001B[0m\n",
       "\u001B[1;32m     43\u001B[0m \u001B[0;32mdef\u001B[0m \u001B[0m_cdata_res_to_rinterface\u001B[0m\u001B[0;34m(\u001B[0m\u001B[0mfunction\u001B[0m\u001B[0;34m)\u001B[0m\u001B[0;34m:\u001B[0m\u001B[0;34m\u001B[0m\u001B[0;34m\u001B[0m\u001B[0m\n",
       "\u001B[1;32m     44\u001B[0m     \u001B[0;32mdef\u001B[0m \u001B[0m_\u001B[0m\u001B[0;34m(\u001B[0m\u001B[0;34m*\u001B[0m\u001B[0margs\u001B[0m\u001B[0;34m,\u001B[0m \u001B[0;34m**\u001B[0m\u001B[0mkwargs\u001B[0m\u001B[0;34m)\u001B[0m\u001B[0;34m:\u001B[0m\u001B[0;34m\u001B[0m\u001B[0;34m\u001B[0m\u001B[0m\n",
       "\u001B[0;32m---> 45\u001B[0;31m         \u001B[0mcdata\u001B[0m \u001B[0;34m=\u001B[0m \u001B[0mfunction\u001B[0m\u001B[0;34m(\u001B[0m\u001B[0;34m*\u001B[0m\u001B[0margs\u001B[0m\u001B[0;34m,\u001B[0m \u001B[0;34m**\u001B[0m\u001B[0mkwargs\u001B[0m\u001B[0;34m)\u001B[0m\u001B[0;34m\u001B[0m\u001B[0;34m\u001B[0m\u001B[0m\n",
       "\u001B[0m\u001B[1;32m     46\u001B[0m         \u001B[0;31m# TODO: test cdata is of the expected CType\u001B[0m\u001B[0;34m\u001B[0m\u001B[0;34m\u001B[0m\u001B[0;34m\u001B[0m\u001B[0m\n",
       "\u001B[1;32m     47\u001B[0m         \u001B[0;32mreturn\u001B[0m \u001B[0m_cdata_to_rinterface\u001B[0m\u001B[0;34m(\u001B[0m\u001B[0mcdata\u001B[0m\u001B[0;34m)\u001B[0m\u001B[0;34m\u001B[0m\u001B[0;34m\u001B[0m\u001B[0m\n",
       "\n",
       "\u001B[0;32m/local_disk0/.ephemeral_nfs/envs/pythonEnv-819ae590-5edd-4bcd-8a7b-c621f844d8a3/lib/python3.9/site-packages/rpy2/rinterface.py\u001B[0m in \u001B[0;36m__call__\u001B[0;34m(self, *args, **kwargs)\u001B[0m\n",
       "\u001B[1;32m    813\u001B[0m             )\n",
       "\u001B[1;32m    814\u001B[0m             \u001B[0;32mif\u001B[0m \u001B[0merror_occured\u001B[0m\u001B[0;34m[\u001B[0m\u001B[0;36m0\u001B[0m\u001B[0;34m]\u001B[0m\u001B[0;34m:\u001B[0m\u001B[0;34m\u001B[0m\u001B[0;34m\u001B[0m\u001B[0m\n",
       "\u001B[0;32m--> 815\u001B[0;31m                 \u001B[0;32mraise\u001B[0m \u001B[0membedded\u001B[0m\u001B[0;34m.\u001B[0m\u001B[0mRRuntimeError\u001B[0m\u001B[0;34m(\u001B[0m\u001B[0m_rinterface\u001B[0m\u001B[0;34m.\u001B[0m\u001B[0m_geterrmessage\u001B[0m\u001B[0;34m(\u001B[0m\u001B[0;34m)\u001B[0m\u001B[0;34m)\u001B[0m\u001B[0;34m\u001B[0m\u001B[0;34m\u001B[0m\u001B[0m\n",
       "\u001B[0m\u001B[1;32m    816\u001B[0m         \u001B[0;32mreturn\u001B[0m \u001B[0mres\u001B[0m\u001B[0;34m\u001B[0m\u001B[0;34m\u001B[0m\u001B[0m\n",
       "\u001B[1;32m    817\u001B[0m \u001B[0;34m\u001B[0m\u001B[0m\n",
       "\n",
       "\u001B[0;31mRRuntimeError\u001B[0m: Error in file(file, \"rt\") : cannot open the connection\n"
      ]
     },
     "metadata": {
      "application/vnd.databricks.v1+output": {
       "arguments": {},
       "data": "\u001B[0;31m---------------------------------------------------------------------------\u001B[0m\n\u001B[0;31mRRuntimeError\u001B[0m                             Traceback (most recent call last)\n\u001B[0;32m<command-2513506395823>\u001B[0m in \u001B[0;36m<cell line: 3>\u001B[0;34m()\u001B[0m\n\u001B[1;32m      1\u001B[0m \u001B[0;31m# import R's utility package\u001B[0m\u001B[0;34m\u001B[0m\u001B[0;34m\u001B[0m\u001B[0;34m\u001B[0m\u001B[0m\n\u001B[1;32m      2\u001B[0m \u001B[0mutils\u001B[0m \u001B[0;34m=\u001B[0m \u001B[0mrpackages\u001B[0m\u001B[0;34m.\u001B[0m\u001B[0mimportr\u001B[0m\u001B[0;34m(\u001B[0m\u001B[0;34m'utils'\u001B[0m\u001B[0;34m)\u001B[0m\u001B[0;34m\u001B[0m\u001B[0;34m\u001B[0m\u001B[0m\n\u001B[0;32m----> 3\u001B[0;31m \u001B[0mutils\u001B[0m\u001B[0;34m.\u001B[0m\u001B[0mchooseCRANmirror\u001B[0m\u001B[0;34m(\u001B[0m\u001B[0mind\u001B[0m\u001B[0;34m=\u001B[0m\u001B[0;36m2\u001B[0m\u001B[0;34m)\u001B[0m\u001B[0;34m\u001B[0m\u001B[0;34m\u001B[0m\u001B[0m\n\u001B[0m\u001B[1;32m      4\u001B[0m \u001B[0;32mfrom\u001B[0m \u001B[0mrpy2\u001B[0m\u001B[0;34m.\u001B[0m\u001B[0mrobjects\u001B[0m\u001B[0;34m.\u001B[0m\u001B[0mconversion\u001B[0m \u001B[0;32mimport\u001B[0m \u001B[0mlocalconverter\u001B[0m\u001B[0;34m\u001B[0m\u001B[0;34m\u001B[0m\u001B[0m\n\u001B[1;32m      5\u001B[0m \u001B[0mbase\u001B[0m \u001B[0;34m=\u001B[0m \u001B[0mimportr\u001B[0m\u001B[0;34m(\u001B[0m\u001B[0;34m'base'\u001B[0m\u001B[0;34m)\u001B[0m\u001B[0;34m\u001B[0m\u001B[0;34m\u001B[0m\u001B[0m\n\n\u001B[0;32m/local_disk0/.ephemeral_nfs/envs/pythonEnv-819ae590-5edd-4bcd-8a7b-c621f844d8a3/lib/python3.9/site-packages/rpy2/robjects/functions.py\u001B[0m in \u001B[0;36m__call__\u001B[0;34m(self, *args, **kwargs)\u001B[0m\n\u001B[1;32m    201\u001B[0m                 \u001B[0mv\u001B[0m \u001B[0;34m=\u001B[0m \u001B[0mkwargs\u001B[0m\u001B[0;34m.\u001B[0m\u001B[0mpop\u001B[0m\u001B[0;34m(\u001B[0m\u001B[0mk\u001B[0m\u001B[0;34m)\u001B[0m\u001B[0;34m\u001B[0m\u001B[0;34m\u001B[0m\u001B[0m\n\u001B[1;32m    202\u001B[0m                 \u001B[0mkwargs\u001B[0m\u001B[0;34m[\u001B[0m\u001B[0mr_k\u001B[0m\u001B[0;34m]\u001B[0m \u001B[0;34m=\u001B[0m \u001B[0mv\u001B[0m\u001B[0;34m\u001B[0m\u001B[0;34m\u001B[0m\u001B[0m\n\u001B[0;32m--> 203\u001B[0;31m         return (super(SignatureTranslatedFunction, self)\n\u001B[0m\u001B[1;32m    204\u001B[0m                 .__call__(*args, **kwargs))\n\u001B[1;32m    205\u001B[0m \u001B[0;34m\u001B[0m\u001B[0m\n\n\u001B[0;32m/local_disk0/.ephemeral_nfs/envs/pythonEnv-819ae590-5edd-4bcd-8a7b-c621f844d8a3/lib/python3.9/site-packages/rpy2/robjects/functions.py\u001B[0m in \u001B[0;36m__call__\u001B[0;34m(self, *args, **kwargs)\u001B[0m\n\u001B[1;32m    124\u001B[0m             \u001B[0;32melse\u001B[0m\u001B[0;34m:\u001B[0m\u001B[0;34m\u001B[0m\u001B[0;34m\u001B[0m\u001B[0m\n\u001B[1;32m    125\u001B[0m                 \u001B[0mnew_kwargs\u001B[0m\u001B[0;34m[\u001B[0m\u001B[0mk\u001B[0m\u001B[0;34m]\u001B[0m \u001B[0;34m=\u001B[0m \u001B[0mcv\u001B[0m\u001B[0;34m.\u001B[0m\u001B[0mpy2rpy\u001B[0m\u001B[0;34m(\u001B[0m\u001B[0mv\u001B[0m\u001B[0;34m)\u001B[0m\u001B[0;34m\u001B[0m\u001B[0;34m\u001B[0m\u001B[0m\n\u001B[0;32m--> 126\u001B[0;31m         \u001B[0mres\u001B[0m \u001B[0;34m=\u001B[0m \u001B[0msuper\u001B[0m\u001B[0;34m(\u001B[0m\u001B[0mFunction\u001B[0m\u001B[0;34m,\u001B[0m \u001B[0mself\u001B[0m\u001B[0;34m)\u001B[0m\u001B[0;34m.\u001B[0m\u001B[0m__call__\u001B[0m\u001B[0;34m(\u001B[0m\u001B[0;34m*\u001B[0m\u001B[0mnew_args\u001B[0m\u001B[0;34m,\u001B[0m \u001B[0;34m**\u001B[0m\u001B[0mnew_kwargs\u001B[0m\u001B[0;34m)\u001B[0m\u001B[0;34m\u001B[0m\u001B[0;34m\u001B[0m\u001B[0m\n\u001B[0m\u001B[1;32m    127\u001B[0m         \u001B[0mres\u001B[0m \u001B[0;34m=\u001B[0m \u001B[0mcv\u001B[0m\u001B[0;34m.\u001B[0m\u001B[0mrpy2py\u001B[0m\u001B[0;34m(\u001B[0m\u001B[0mres\u001B[0m\u001B[0;34m)\u001B[0m\u001B[0;34m\u001B[0m\u001B[0;34m\u001B[0m\u001B[0m\n\u001B[1;32m    128\u001B[0m         \u001B[0;32mreturn\u001B[0m \u001B[0mres\u001B[0m\u001B[0;34m\u001B[0m\u001B[0;34m\u001B[0m\u001B[0m\n\n\u001B[0;32m/local_disk0/.ephemeral_nfs/envs/pythonEnv-819ae590-5edd-4bcd-8a7b-c621f844d8a3/lib/python3.9/site-packages/rpy2/rinterface_lib/conversion.py\u001B[0m in \u001B[0;36m_\u001B[0;34m(*args, **kwargs)\u001B[0m\n\u001B[1;32m     43\u001B[0m \u001B[0;32mdef\u001B[0m \u001B[0m_cdata_res_to_rinterface\u001B[0m\u001B[0;34m(\u001B[0m\u001B[0mfunction\u001B[0m\u001B[0;34m)\u001B[0m\u001B[0;34m:\u001B[0m\u001B[0;34m\u001B[0m\u001B[0;34m\u001B[0m\u001B[0m\n\u001B[1;32m     44\u001B[0m     \u001B[0;32mdef\u001B[0m \u001B[0m_\u001B[0m\u001B[0;34m(\u001B[0m\u001B[0;34m*\u001B[0m\u001B[0margs\u001B[0m\u001B[0;34m,\u001B[0m \u001B[0;34m**\u001B[0m\u001B[0mkwargs\u001B[0m\u001B[0;34m)\u001B[0m\u001B[0;34m:\u001B[0m\u001B[0;34m\u001B[0m\u001B[0;34m\u001B[0m\u001B[0m\n\u001B[0;32m---> 45\u001B[0;31m         \u001B[0mcdata\u001B[0m \u001B[0;34m=\u001B[0m \u001B[0mfunction\u001B[0m\u001B[0;34m(\u001B[0m\u001B[0;34m*\u001B[0m\u001B[0margs\u001B[0m\u001B[0;34m,\u001B[0m \u001B[0;34m**\u001B[0m\u001B[0mkwargs\u001B[0m\u001B[0;34m)\u001B[0m\u001B[0;34m\u001B[0m\u001B[0;34m\u001B[0m\u001B[0m\n\u001B[0m\u001B[1;32m     46\u001B[0m         \u001B[0;31m# TODO: test cdata is of the expected CType\u001B[0m\u001B[0;34m\u001B[0m\u001B[0;34m\u001B[0m\u001B[0;34m\u001B[0m\u001B[0m\n\u001B[1;32m     47\u001B[0m         \u001B[0;32mreturn\u001B[0m \u001B[0m_cdata_to_rinterface\u001B[0m\u001B[0;34m(\u001B[0m\u001B[0mcdata\u001B[0m\u001B[0;34m)\u001B[0m\u001B[0;34m\u001B[0m\u001B[0;34m\u001B[0m\u001B[0m\n\n\u001B[0;32m/local_disk0/.ephemeral_nfs/envs/pythonEnv-819ae590-5edd-4bcd-8a7b-c621f844d8a3/lib/python3.9/site-packages/rpy2/rinterface.py\u001B[0m in \u001B[0;36m__call__\u001B[0;34m(self, *args, **kwargs)\u001B[0m\n\u001B[1;32m    813\u001B[0m             )\n\u001B[1;32m    814\u001B[0m             \u001B[0;32mif\u001B[0m \u001B[0merror_occured\u001B[0m\u001B[0;34m[\u001B[0m\u001B[0;36m0\u001B[0m\u001B[0;34m]\u001B[0m\u001B[0;34m:\u001B[0m\u001B[0;34m\u001B[0m\u001B[0;34m\u001B[0m\u001B[0m\n\u001B[0;32m--> 815\u001B[0;31m                 \u001B[0;32mraise\u001B[0m \u001B[0membedded\u001B[0m\u001B[0;34m.\u001B[0m\u001B[0mRRuntimeError\u001B[0m\u001B[0;34m(\u001B[0m\u001B[0m_rinterface\u001B[0m\u001B[0;34m.\u001B[0m\u001B[0m_geterrmessage\u001B[0m\u001B[0;34m(\u001B[0m\u001B[0;34m)\u001B[0m\u001B[0;34m)\u001B[0m\u001B[0;34m\u001B[0m\u001B[0;34m\u001B[0m\u001B[0m\n\u001B[0m\u001B[1;32m    816\u001B[0m         \u001B[0;32mreturn\u001B[0m \u001B[0mres\u001B[0m\u001B[0;34m\u001B[0m\u001B[0;34m\u001B[0m\u001B[0m\n\u001B[1;32m    817\u001B[0m \u001B[0;34m\u001B[0m\u001B[0m\n\n\u001B[0;31mRRuntimeError\u001B[0m: Error in file(file, \"rt\") : cannot open the connection\n",
       "errorSummary": "<span class='ansi-red-fg'>RRuntimeError</span>: Error in file(file, \"rt\") : cannot open the connection\n",
       "errorTraceType": "ansi",
       "metadata": {},
       "type": "ipynbError"
      }
     },
     "output_type": "display_data"
    }
   ],
   "source": [
    "# import R's utility package\n",
    "utils = rpackages.importr('utils')\n",
    "utils.chooseCRANmirror(ind=2)\n"
   ]
  },
  {
   "cell_type": "code",
   "execution_count": 0,
   "metadata": {
    "application/vnd.databricks.v1+cell": {
     "cellMetadata": {
      "byteLimit": 2048000,
      "rowLimit": 10000
     },
     "inputWidgets": {},
     "nuid": "df235be3-ed9d-4225-ba27-089fe9829fe4",
     "showTitle": false,
     "title": ""
    }
   },
   "outputs": [],
   "source": [
    "from rpy2.robjects.conversion import localconverter\n",
    "base = importr('base')\n",
    "from rpy2.robjects import Formula\n",
    "stats = importr('stats')"
   ]
  },
  {
   "cell_type": "code",
   "execution_count": 0,
   "metadata": {
    "application/vnd.databricks.v1+cell": {
     "cellMetadata": {
      "byteLimit": 2048000,
      "rowLimit": 10000
     },
     "inputWidgets": {},
     "nuid": "94cfd1cf-3bca-487d-9aa6-7cc4d81ef97f",
     "showTitle": false,
     "title": ""
    }
   },
   "outputs": [
    {
     "output_type": "stream",
     "name": "stdout",
     "output_type": "stream",
     "text": [
      "Out[45]: array(['Agriculture, Fisheries & Forestry', 'Built Environment & Design',\n       'Enabling & Strategic Technologies', 'Engineering',\n       'Information & Communication Technologies',\n       'Communication & Textual Studies', 'Historical Studies',\n       'Philosophy & Theology', 'Visual & Performing Arts',\n       'Economics & Business ', 'Social Sciences', 'Biomedical Research',\n       'Clinical Medicine', 'Psychology & Cognitive Sciences',\n       'Public Health & Health Services', 'Biology', 'Chemistry',\n       'Earth & Environmental Sciences', 'Mathematics & Statistics',\n       'Physics & Astronomy'], dtype=object)"
     ]
    }
   ],
   "source": [
    "dummy['Field_English'].unique()"
   ]
  },
  {
   "cell_type": "code",
   "execution_count": 0,
   "metadata": {
    "application/vnd.databricks.v1+cell": {
     "cellMetadata": {
      "byteLimit": 2048000,
      "rowLimit": 10000
     },
     "inputWidgets": {},
     "nuid": "bedd8713-f499-4de2-939e-7289350b8823",
     "showTitle": false,
     "title": ""
    }
   },
   "outputs": [
    {
     "output_type": "stream",
     "name": "stdout",
     "output_type": "stream",
     "text": [
      "\nCall:\n(function (formula, family = gaussian, data, weights, subset, \n    na.action, start = NULL, etastart, mustart, offset, control = list(...), \n    model = TRUE, method = \"glm.fit\", x = FALSE, y = TRUE, singular.ok = TRUE, \n    contrasts = NULL, ...) \n{\n    cal <- match.call()\n    if (is.character(family)) \n        family <- get(family, mode = \"function\", envir = parent.frame())\n    if (is.function(family)) \n        family <- family()\n    if (is.null(family$family)) {\n        print(family)\n        stop(\"'family' not recognized\")\n    }\n    if (missing(data)) \n        data <- environment(formula)\n    mf <- match.call(expand.dots = FALSE)\n    m <- match(c(\"formula\", \"data\", \"subset\", \"weights\", \"na.action\", \n        \"etastart\", \"mustart\", \"offset\"), names(mf), 0L)\n    mf <- mf[c(1L, m)]\n    mf$drop.unused.levels <- TRUE\n    mf[[1L]] <- quote(stats::model.frame)\n    mf <- eval(mf, parent.frame())\n    if (identical(method, \"model.frame\")) \n        return(mf)\n    if (!is.character(method) && !is.function(method)) \n        stop(\"invalid 'method' argument\")\n    if (identical(method, \"glm.fit\")) \n        control <- do.call(\"glm.control\", control)\n    mt <- attr(mf, \"terms\")\n    Y <- model.response(mf, \"any\")\n    if (length(dim(Y)) == 1L) {\n        nm <- rownames(Y)\n        dim(Y) <- NULL\n        if (!is.null(nm)) \n            names(Y) <- nm\n    }\n    X <- if (!is.empty.model(mt)) \n        model.matrix(mt, mf, contrasts)\n    else matrix(, NROW(Y), 0L)\n    weights <- as.vector(model.weights(mf))\n    if (!is.null(weights) && !is.numeric(weights)) \n        stop(\"'weights' must be a numeric vector\")\n    if (!is.null(weights) && any(weights < 0)) \n        stop(\"negative weights not allowed\")\n    offset <- as.vector(model.offset(mf))\n    if (!is.null(offset)) {\n        if (length(offset) != NROW(Y)) \n            stop(gettextf(\"number of offsets is %d should equal %d (number of observations)\", \n                length(offset), NROW(Y)), domain = NA)\n    }\n    mustart <- model.extract(mf, \"mustart\")\n    etastart <- model.extract(mf, \"etastart\")\n    fit <- eval(call(if (is.function(method)) \"method\" else method, \n        x = X, y = Y, weights = weights, start = start, etastart = etastart, \n        mustart = mustart, offset = offset, family = family, \n        control = control, intercept = attr(mt, \"intercept\") > \n            0L, singular.ok = singular.ok))\n    if (length(offset) && attr(mt, \"intercept\") > 0L) {\n        fit2 <- eval(call(if (is.function(method)) \"method\" else method, \n            x = X[, \"(Intercept)\", drop = FALSE], y = Y, mustart = fit$fitted.values, \n            weights = weights, offset = offset, family = family, \n            control = control, intercept = TRUE))\n        if (!fit2$converged) \n            warning(\"fitting to calculate the null deviance did not converge -- increase 'maxit'?\")\n        fit$null.deviance <- fit2$deviance\n    }\n    if (model) \n        fit$model <- mf\n    fit$na.action <- attr(mf, \"na.action\")\n    if (x) \n        fit$x <- X\n    if (!y) \n        fit$y <- NULL\n    structure(c(fit, list(call = cal, formula = formula, terms = mt, \n        data = data, offset = offset, control = control, method = method, \n        contrasts = attr(X, \"contrasts\"), xlevels = .getXlevels(mt, \n            mf))), class = c(fit$class, c(\"glm\", \"lm\")))\n})(formula = \"ideology ~ G+year\", family = function (link = \"identity\") \n{\n    linktemp <- substitute(link)\n    if (!is.character(linktemp)) \n        linktemp <- deparse(linktemp)\n    okLinks <- c(\"inverse\", \"log\", \"identity\")\n    family <- \"gaussian\"\n    if (linktemp %in% okLinks) \n        stats <- make.link(linktemp)\n    else if (is.character(link)) {\n        stats <- make.link(link)\n        linktemp <- link\n    }\n    else {\n        if (inherits(link, \"link-glm\")) {\n            stats <- link\n            if (!is.null(stats$name)) \n                linktemp <- stats$name\n        }\n        else {\n            stop(gettextf(\"link \\\"%s\\\" not available for %s family; available links are %s\", \n                linktemp, family, paste(sQuote(okLinks), collapse = \", \")), \n                domain = NA)\n        }\n    }\n    structure(list(family = family, link = linktemp, linkfun = stats$linkfun, \n        linkinv = stats$linkinv, variance = function(mu) rep.int(1, \n            length(mu)), dev.resids = function(y, mu, wt) wt * \n            ((y - mu)^2), aic = function(y, n, mu, wt, dev) {\n            nobs <- length(y)\n            nobs * (log(dev/nobs * 2 * pi) + 1) + 2 - sum(log(wt))\n        }, mu.eta = stats$mu.eta, initialize = expression({\n            n <- rep.int(1, nobs)\n            if (is.null(etastart) && is.null(start) && is.null(mustart) && \n                ((family$link == \"inverse\" && any(y == 0)) || \n                  (family$link == \"log\" && any(y <= 0)))) stop(\"cannot find valid starting values: please specify some\")\n            mustart <- y\n        }), validmu = function(mu) TRUE, valideta = stats$valideta), \n        class = \"family\")\n}, data = structure(list(ideology = c(0.0848, 0.0848, 0.0848, \n0.0848, 0.0848, 0.0848, 0.0848, 0.0848, 0.0848, 0.0848, 0.0848, \n0.0848, 0.0848, 0.0848, 0.0848, 0.0848, 0.0848, 0.0848, 0.0848, \n0.0848, 0.0848, 0.0848, 0.0848, 0.0848, 0.0848, 0.0848, 0.0848, \n0.0848, 0.0848, 0.0848, 0.0848, 0.0848, 0.0848, 0.0848, 0.0848, \n0.0848, 0.0848, 0.0848, 0.0848, 0.0848, 0.0848, 0.0848, 0.0848, \n0.0848, 0.0848, 0.0848, 0.0848, 0.0848, 0.0848, 0.0848, 0.0848, \n0.0848, 0.0848, 0.0848, 0.0848, 0.0848, 0.0848, 0.0848, 0.0848, \n0.0848, 0.0848, 0.0848, 0.0848, 0.0848, 0.0848, 0.0848, 0.0848, \n0.0848, 0.0848, 0.0848, 0.0848, 0.0848, 0.0848, 0.0848, 0.0848, \n0.0848, 0.0848, 0.0848, 0.0848, 0.0848, 0.0848, 0.0848, 0.0848, \n0.0848, 0.0848, 0.0848, 0.0848, 0.0848, 0.0848, 0.0848, 0.0848, \n0.0848, 0.0848, 0.0848, 0.0848, 0.0848, 0.0848, 0.0848, 0.0848, \n0.0848, 0.0848, 0.0848, 0.0848, 0.0848, 0.0848, 0.0848, 0.0848, \n0.0848, 0.0848, 0.0848, 0.0848, 0.0848, 0.0848, 0.0848, 0.0848, \n0.0848, 0.0848, 0.0848, 0.0848, 0.0848, 0.0848, 0.0848, 0.0848, \n0.0848, 0.0848, 0.0848, 0.0848, 0.0848, 0.0848, 0.0848, 0.0848, \n0.0848, 0.0848, 0.0848, 0.0848, 0.0848, 0.0848, 0.0848, 0.0848, \n0.0848, 0.0848, 0.0848, 0.0848, 0.0848, 0.0848, 0.0848, 0.0848, \n0.0848, 0.0848, 0.0848, 0.0848, 0.0848, 0.0848, 0.0848, 0.0848, \n0.0848, 0.0848, 0.0848, 0.0848, 0.0848, 0.0848, 0.0848, 0.0848, \n0.0848, 0.0848, 0.0848, 0.0848, 0.0848, 0.0848, 0.0848, 0.0848, \n0.0848, 0.0848, 0.0848, 0.0848, 0.0848, 0.0848, 0.0848, 0.0848, \n0.0848, 0.0848, 0.0848, 0.0848, 0.0848, 0.0848, 0.0848, 0.0848, \n0.0848, 0.0848, 0.0848, 0.0848, 0.0848, 0.0848, 0.0848, 0.0848, \n0.0848, 0.0848, 0.0848, 0.0848, 0.0848, 0.0848, 0.0848, 0.0848, \n0.0848, 0.0848, 0.0848, 0.0848, 0.0848, 0.0848, 0.0848, 0.0848, \n0.0848, 0.0848, 0.0848, 0.0848, 0.0848, 0.0848, 0.0848, 0.0848, \n0.0848, 0.0848, 0.0848, 0.0848, 0.0848, 0.0848, 0.0848, 0.0848, \n0.0848, 0.0848, 0.0848, 0.0848, 0.0848, 0.0848, 0.0848, 0.0848, \n0.0848, 0.0848, 0.0848, 0.0848, 0.0848, 0.0848, 0.0848, 0.0848, \n0.0848, 0.0848, 0.0848, 0.0848, 0.0848, 0.0848, 0.0848, 0.0848, \n0.0848, 0.0848, 0.0848, 0.0848, 0.0848, 0.0848, 0.0848, 0.0848, \n0.0848, 0.0848, 0.0848, 0.0848, 0.0848, 0.0848, 0.0848, 0.0848, \n0.0848, 0.0848, 0.0848, 0.0848, 0.0848, 0.0848, 0.0848, 0.0848, \n0.0848, 0.0848, 0.0848, 0.0848, 0.0848, 0.0848, 0.0848, 0.0848, \n0.0848, 0.0848, 0.0848, 0.0848, 0.0848, 0.0848, 0.0848, 0.0848, \n0.0848, 0.0848, 0.0848, 0.0848, 0.0848, 0.0848, 0.0848, 0.0848, \n0.0848, 0.0848, 0.0848, 0.0848, 0.0848, 0.0848, 0.0848, 0.0848, \n0.0848, 0.0848, 0.0848, 0.0848, 0.0848, 0.0848, 0.0848, 0.0848, \n0.0848, 0.0848, 0.0848, 0.0848, 0.0848, 0.0848, 0.0848, 0.0848, \n0.0848, 0.0848, 0.0848, 0.0848, 0.0848, 0.0848, 0.0848, 0.0848, \n0.0848, 0.0848, 0.0848, 0.0848, 0.0848, 0.0848, 0.0848, 0.0848, \n0.0848, 0.0848, 0.0848, 0.0848, 0.0848, 0.0848, 0.0848, 0.0848, \n0.0848, 0.0848, 0.0848, 0.0848, 0.0848, 0.0848, 0.0848, 0.0848, \n0.0848, 0.0848, 0.0848, 0.0848, 0.0848, 0.0848, 0.0848, 0.0848, \n0.0848, 0.0848, 0.0848, 0.0848, 0.0848, 0.0848, 0.0848, 0.0848, \n0.0848, 0.0848, 0.0848, 0.0848, 0.0848, 0.0848, 0.0848, 0.0848, \n0.0848, 0.0848, 0.0848, 0.0848, 0.0848, 0.0848, 0.0848, 0.0848, \n0.0848, 0.0848, 0.0848, 0.0848, 0.0848, 0.0848, 0.0848, 0.0848, \n0.0848, 0.0848, 0.1119, 0.1119, 0.1119, 0.1119, 0.1119, 0.1119, \n0.1119, 0.1119, 0.1119, 0.1119, 0.1119, 0.1119, 0.1119, 0.1119, \n0.1119, 0.1119, 0.1119, 0.1119, 0.1119, 0.1119, 0.1119, 0.1119, \n0.1119, 0.1119, 0.1119, 0.1119, 0.1119, 0.1119, 0.1119, 0.1119, \n0.1119, 0.1119, 0.1119, 0.1119, 0.1119, 0.1119, 0.1119, 0.1119, \n0.1119, 0.1119, 0.1119, 0.1119, 0.1119, 0.1119, 0.1119, 0.1119, \n0.1119, 0.1119, 0.1119, 0.1119, 0.1119, 0.1119, 0.1119, 0.1119, \n0.1119, 0.1119, 0.1119, 0.1119, 0.1119, 0.1119, 0.1119, 0.1119, \n0.1119, 0.1119, 0.1119, 0.1119, 0.1119, 0.1119, 0.1119, 0.1119, \n0.1119, 0.1119, 0.1119, 0.1119, 0.1119, 0.1119, 0.1119, 0.1119, \n0.1119, 0.1119, 0.1119, 0.1119, 0.1119, 0.1119, 0.1119, 0.1119, \n0.1119, 0.1119, 0.1119, 0.1119, 0.1119, 0.1119, 0.1119, 0.1119, \n0.1119, 0.1119, 0.1119, 0.1119, 0.1119, 0.1119, 0.1119, 0.1119, \n0.1119, 0.1119, 0.1119, 0.1119, 0.1119, 0.1119, 0.1119, 0.1119, \n0.1119, 0.1119, 0.1119, 0.1119, 0.1119, 0.1119, 0.1119, 0.1119, \n0.1119, 0.1119, 0.1119, 0.1119, 0.1119, 0.1119, 0.1119, 0.1119, \n0.1119, 0.1119, 0.1119, 0.1119, 0.1119, 0.1119, 0.1119, 0.1119, \n0.1119, 0.1119, 0.1119, 0.1119, 0.1119, 0.1119, 0.1119, 0.1119, \n0.1119, 0.1119, 0.1119, 0.1119, 0.1119, 0.1119, 0.1119, 0.1119, \n0.1119, 0.1119, 0.1119, 0.1119, 0.1119, 0.1119, 0.1119, 0.1119, \n0.1119, 0.1119, 0.1119, 0.1119, 0.1119, 0.1119, 0.1119, 0.1119, \n0.1119, 0.1119, 0.1119, 0.1119, 0.1119, 0.1119, 0.1119, 0.1119, \n0.1119, 0.1119, 0.1119, 0.1119, 0.1119, 0.1119, 0.1119, 0.1119, \n0.1119, 0.1119, 0.1119, 0.1119, 0.1119, 0.1119, 0.1119, 0.1119, \n0.1119, 0.1119, 0.1119, 0.1119, 0.1119, 0.1119, 0.1119, 0.1119, \n0.1119, 0.1119, 0.1119, 0.1119, 0.1119, 0.1119, 0.1119, 0.1119, \n0.1119, 0.1119, 0.1119, 0.1119, 0.1119, 0.1119, 0.1119, 0.1119, \n0.1119, 0.1119, 0.1119, 0.1119, 0.1119, 0.1119, 0.1119, 0.1119, \n0.1119, 0.1119, 0.1119, 0.1119, 0.1119, 0.1119, 0.1119, 0.1119, \n0.1119, 0.1119, 0.1119, 0.1119, 0.1119, 0.1119, 0.1119, 0.1119, \n0.1119, 0.1119, 0.1119, 0.1119, 0.1119, 0.1119, 0.1119, 0.1119, \n0.1119, 0.1119, 0.1119, 0.1119, 0.1119, 0.1119, 0.1119, 0.1119, \n0.1119, 0.1119, 0.1119, 0.1119, 0.1119, 0.1119, 0.1119, 0.1119, \n0.1119, 0.1119, 0.1119, 0.1119, 0.1119, 0.1119, 0.1119, 0.1119, \n0.1119, 0.1119, 0.1119, 0.1119, 0.1119, 0.1119, 0.1119, 0.1119, \n0.1119, 0.1119, 0.1119, 0.1119, 0.1119, 0.1119, 0.1119, 0.1119, \n0.1119, 0.1119, 0.1119, 0.1119, 0.1119, 0.1119, 0.1119, 0.1119, \n0.1119, 0.1119, 0.1119, 0.1119, 0.1119, 0.1119, 0.1119, 0.1119, \n0.1119, 0.1119, 0.1119, 0.1119, 0.1119, 0.1119, 0.1119, 0.1119, \n0.1119, 0.1119, 0.1119, 0.1119, 0.1119, 0.1119, 0.1119, 0.1119, \n0.1119, 0.1119, 0.1119, 0.1119, 0.1119, 0.1119, 0.1119, 0.1119, \n0.1119, 0.1119, 0.1119, 0.1119, 0.1119, 0.1119, 0.1119, 0.1119, \n0.1119, 0.1119, 0.1119, 0.1119, 0.1119, 0.1119, 0.1119, 0.1119, \n0.1119, 0.1119, 0.1119, 0.1119, 0.1119, 0.1119, 0.1119, 0.1119, \n0.1119, 0.1119, 0.1119, 0.1119, 0.1119, 0.1119, 0.1119, 0.1119, \n0.1119, 0.1119, 0.1119, 0.1119, 0.1119, 0.1119, 0.1119, 0.1119, \n0.1119, 0.1119, 0.1119, 0.1119, 0.1119, 0.1119, 0.1119, 0.1119, \n0.1119, 0.1119, 0.1119, 0.1119, 0.1119, 0.1119, 0.1119, 0.1119, \n0.1119, 0.1119, 0.1119, 0.1119, 0.1119, 0.1119, 0.1119, 0.1119, \n0.1119, 0.1119, 0.1119, 0.1119, 0.1119, 0.1119, 0.1119, 0.1119, \n0.1119, 0.1119, 0.1119, 0.1119, 0.1119, 0.1119, 0.1119, 0.1119, \n0.1119, 0.1119, 0.1119, 0.1119, 0.1119, 0.1119, 0.1119, 0.1119, \n0.1119, 0.1119, 0.1119, 0.1119, 0.1119, 0.1119, 0.1119, 0.1119, \n0.1119, 0.1119, 0.1119, 0.1119, 0.1119, 0.1119, 0.1119, 0.1119, \n0.1119, 0.1119, 0.1119, -0.3893, -0.3893, -0.3893, -0.3893, -0.3893, \n-0.3893, -0.3893, -0.3893, -0.3893, -0.3893, -0.3893, -0.3893, \n-0.3893, -0.3893, -0.3893, -0.3893, -0.3893, -0.3893, -0.3893, \n-0.3893, -0.3893, -0.3893, -0.3893, -0.3893, -0.3893, -0.3893, \n-0.3893, -0.3893, -0.3893, -0.3893, -0.3893, -0.3893, -0.3893, \n-0.3893, -0.3893, -0.3893, -0.3893, -0.3893, -0.3893, -0.3893, \n-0.3893, -0.4203, -0.4203, -0.4203, -0.4203, -0.4203, -0.4203, \n-0.4203, -0.4203, -0.4203, -0.4203, -0.4203, -0.4203, -0.4203, \n-0.4203, -0.4203, -0.4203, -0.4203, -0.4203, -0.4203, -0.4203, \n-0.4203, -0.4203, -0.4203, -0.4203, -0.4203, -0.4203, -0.4203, \n-0.4203, -0.4203, -0.4203, -0.4203, -0.4203, -0.4203, -0.4203, \n-0.4203, -0.4203, -0.4203, -0.4203, -0.4203, -0.4203, -0.4203, \n-0.4203, -0.4203, -0.4203, -0.4203, -0.4203, -0.4203, -0.4203, \n-0.4203, -0.4203, -0.4203, -0.4203, -0.4203, -0.4203, -0.4203, \n-0.4203, -0.4203, -0.4203, -0.4203, -0.4203, -0.4203, -0.4203, \n-0.4203, -0.4203, -0.4203, -0.4203, -0.4203, -0.4203, -0.4203, \n-0.4203, -0.4203, -0.4203, -0.4203, -0.4203, -0.4203, -0.4203, \n-0.4203, -0.4203, -0.4203, -0.4203, -0.4203, -0.4203, -0.4203, \n-0.4203, -0.4203, -0.4203, -0.4203, -0.4203, -0.4203, -0.4203, \n-0.4203, -0.4203, -0.4203, -0.4203, -0.4203, -0.4203, -0.4203, \n-0.4203, -0.4203, -0.4203, -0.4203, -0.4203, -0.4203, -0.4203, \n-0.4203, -0.4203, -0.1273, -0.1273, -0.1273, -0.1273, -0.1273, \n-0.1273, -0.1273, -0.1273, -0.1273, -0.1273, -0.1273, -0.1273, \n-0.1273, -0.1273, -0.1273, -0.1273, -0.1273, -0.1273, -0.1273, \n-0.1273, -0.1273, -0.1273, -0.1273, -0.1273, -0.1273, -0.1273, \n-0.1273, -0.1273, -0.1273, -0.1273, -0.1273, -0.1273, -0.1273, \n-0.1273, -0.1273, -0.1273, -0.1273, -0.1273, -0.1273, -0.1273, \n-0.1273, -0.1273, -0.1273, -0.1273, -0.1273, -0.1273, -0.1273, \n-0.1273, -0.1273, -0.1273, -0.1273, -0.1273, -0.1273, -0.1273, \n-0.1273, -0.1273, -0.1273, -0.1273, -0.1273, -0.1273, -0.1273, \n-0.1273, -0.1273, -0.1273, -0.1273, -0.1273, -0.1273, -0.1273, \n-0.1273, -0.1273, -0.1273, -0.1273, -0.1273, -0.1273, -0.1273, \n-0.1273, -0.1273, -0.1273, -0.1273, -0.1273, -0.1273, -0.1273, \n-0.1273, -0.1273, -0.1273, -0.2064, -0.2064, -0.2064, -0.2064, \n-0.2064, -0.2064, -0.2064, -0.2064, -0.2064, -0.2064, -0.2064, \n-0.2064, -0.2064, -0.2064, -0.2064, -0.2064, -0.2064, -0.2064, \n-0.2064, -0.2064, -0.2064, -0.2064, -0.2064, -0.2064, -0.2064, \n-0.2064, -0.2064, -0.2064, -0.2064, -0.2064, -0.2064, -0.2064, \n-0.2064, -0.2064, -0.2064, -0.2064, -0.2064, -0.2064, -0.2064, \n-0.2064, -0.2064, -0.2064, -0.2064, -0.2064, -0.2064, -0.2064, \n-0.2064, -0.2064, -0.2064, -0.2064, -0.2064, -0.2064, -0.2064, \n-0.2064, -0.2064, -0.2064, -0.2064, -0.2064, -0.2064, -0.2064, \n-0.2064, -0.2064, -0.2064, -0.2064, -0.2064, -0.2064, -0.2064, \n-0.2064, -0.2064, -0.2064, -0.2064, -0.2064, -0.2064, -0.2064, \n-0.2064, -0.2064, -0.2064, -0.2064, -0.2064, -0.2064, -0.2064, \n-0.2064, -0.2064, -0.2064, -0.2064, -0.2064, -0.2064, -0.2064, \n-0.2064, -0.2064, -0.2064, -0.2064, -0.2064, -0.2064, -0.2064, \n-0.2064, -0.2064, -0.2064, -0.2064, -0.2064, -0.2064, -0.2064, \n-0.2064, -0.2064, -0.2064, -0.2064, -0.2064, -0.2064, -0.2064, \n-0.2064, -0.2064, -0.2064, -0.2064, -0.2064, -0.2064, -0.2064, \n-0.2064, -0.2064, -0.2064, -0.2064, -0.2064, -0.2064, -0.2064, \n-0.2064, -0.2064, -0.2064, -0.2064, -0.2064, -0.2064, -0.2064, \n-0.2064, -0.2064, -0.2064, -0.2064, -0.2064, -0.2064, -0.2064, \n-0.2064, -0.2064, -0.2064, -0.2064, -0.2064, -0.2064, -0.2064, \n-0.2064, -0.2064, -0.2064, -0.2064, -0.2064, -0.2064, -0.2064, \n-0.2064, -0.2064, -0.2064, -0.2064, -0.2064, -0.2064, -0.2064, \n-0.2064, -0.2064, -0.2064, -0.2064, -0.2064, -0.2064, -0.2064, \n-0.2064, -0.2064, -0.2064, -0.2064, -0.2064, -0.2064, -0.2064, \n-0.2064, -0.2064, -0.2064, -0.2064, -0.2064, -0.2064, -0.2064, \n-0.2064, -0.2064, -0.2064, -0.2064, -0.2064, -0.2064, -0.2064, \n-0.2064, -0.2064, -0.2064, -0.2064, -0.2064, -0.2064, -0.2064, \n-0.2064, -0.2064, -0.2064, -0.2064, -0.2064, -0.2064, -0.2064, \n-0.2064, -0.2064, -0.2064, -0.2064, -0.2064, -0.2064, -0.2064, \n-0.2064, -0.2064, -0.2064, -0.2064, -0.2064, -0.2064, -0.2064, \n-0.2064, -0.2064, -0.2064, -0.2064, -0.2064, -0.2064, -0.2064, \n-0.2064, -0.2064, -0.2064, -0.2064, -0.2064, -0.2064, -0.2064, \n-0.2064, -0.2064, -0.2064, -0.2064, -0.2064, -0.2064, -0.2064, \n-0.2064, -0.2064, -0.2064, -0.2064, -0.2064, -0.2064, -0.2064, \n-0.2064, -0.2064, -0.2064, -0.2064, -0.2064, -0.2064, -0.2064, \n-0.2064, -0.2064, -0.2064, -0.2064, -0.2064, -0.2064, -0.2064, \n-0.2064, -0.2064, -0.2064, -0.2064, -0.2064, -0.2064, -0.2064, \n-0.2064, -0.2064, -0.2064, -0.2064, -0.2064, -0.2064, -0.2064, \n-0.2064, -0.2064, -0.2064, -0.2064, -0.2064, -0.2064, -0.2064, \n-0.2064, -0.2064, -0.2064, -0.2064, -0.2064, -0.2064, -0.2064, \n-0.2064, -0.2064, -0.2064, -0.2064, -0.2064, -0.2064, -0.2064, \n-0.2064, -0.2064, -0.2064, -0.2064, -0.2064, -0.2064, -0.2064, \n-0.2064, -0.2064, -0.2064, -0.2064, -0.2064, -0.2064, -0.2064, \n-0.2064, -0.2064, -0.2064, -0.2064, -0.2064, -0.2064, -0.2064, \n-0.2064, -0.2064, -0.2064, -0.2064, -0.2064, -0.2064, -0.2064, \n-0.2064, -0.2064, -0.2064, -0.2064, -0.2064, -0.2064, -0.2064, \n-0.2064, -0.2064, -0.2064, -0.2064, -0.2064, -0.2064, -0.2064, \n-0.2064, -0.2064, -0.2064, -0.2064, -0.2064, -0.2064, -0.2064, \n-0.2064, -0.2064, -0.2064, -0.2064, -0.2064, -0.2064, -0.2064, \n-0.2064, -0.2064, -0.2064, -0.2064, -0.2064, -0.2064, -0.2064, \n-0.2064, -0.2064, -0.2064, -0.2064, -0.2064, -0.2064, -0.2064, \n-0.2064, -0.2064, -0.2064, -0.2064, -0.2064, -0.2064, -0.2064, \n-0.2064, -0.2064, -0.2064, -0.2064, -0.2064, -0.2064, -0.2064, \n-0.2064, -0.2064, -0.2064, -0.2064, -0.2064, -0.2064, -0.2064, \n-0.2064, -0.2064, -0.2064, -0.2064, -0.2064, -0.2064, -0.2064, \n-0.2064, -0.2064, -0.2064, -0.2064, -0.2064, -0.2064, -0.2064, \n-0.2064, -0.2064, -0.2064, -0.2064, -0.2064, -0.2064, -0.2064, \n-0.2064, -0.2064, -0.2064, -0.2064, -0.2064, -0.2064, -0.2064, \n-0.2064, -0.2064, -0.2064, -0.2064, -0.2064, -0.2064, -0.2064, \n-0.2064, -0.2064, -0.2064, -0.2064, -0.2064, -0.2064, -0.2064, \n-0.2064, -0.2064, -0.2064, -0.2064, -0.2064, -0.2064, -0.2064, \n-0.2064, -0.2064, -0.2064, -0.2064, -0.2064, -0.2064, -0.2064, \n-0.2064, -0.2064, -0.2064, -0.2064, -0.2064, -0.2064, -0.2064, \n-0.2064, -0.2064, -0.2064, -0.2064, -0.2064, -0.2064, -0.2064, \n-0.2064, -0.2064, -0.2064, -0.2064, -0.2064, -0.2064, -0.2064, \n-0.2064, -0.2064, -0.2064, -0.2064, -0.2064, -0.2064, -0.2064, \n-0.2064, -0.2064, -0.2064, -0.2064, -0.2064, -0.2064, -0.2064, \n-0.2064, -0.2064, -0.2064, -0.2064, -0.2064, -0.2064, -0.2064, \n-0.2064, -0.2064, -0.2064, -0.2064, -0.2064, -0.2064, -0.2064, \n-0.2064, -0.2064, -0.2064, -0.2064, -0.2064, -0.2064, -0.2064, \n-0.2064, -0.2064, -0.2064, -0.2064, -0.2064, -0.2064, -0.2064, \n-0.2064, -0.2064, -0.2064, -0.2064, -0.2064, -0.2064, -0.2064, \n-0.2064, -0.2064, -0.2064, -0.2064, -0.2064, -0.2064, -0.2064, \n-0.2064, -0.2064, -0.2064, -0.2064, -0.2064, -0.2064, -0.2064, \n-0.2064, -0.2064, -0.2064, -0.2064, -0.2064, -0.2064, -0.2064, \n-0.2064, -0.2064, -0.2064, -0.2064, -0.2064, -0.2064, -0.2064, \n-0.2064, -0.2064, -0.2064, -0.2064, -0.2064, -0.2064, -0.2064, \n-0.2064, -0.2064, -0.2064, -0.2064, -0.2064, -0.2064, -0.2064, \n-0.2064, -0.2064, -0.2064, -0.2064, -0.2064, -0.2064, -0.2064, \n-0.2064, -0.2064, -0.2064, -0.2064, -0.2064, -0.2064, -0.2064, \n-0.2064, -0.2064, -0.2064, -0.2064, -0.2064, -0.2064, -0.2064, \n-0.2064, -0.2064, -0.2064, -0.2064, -0.2064, -0.2064, -0.2064, \n-0.2064, -0.2064, -0.2064, -0.2064, -0.2064, -0.2064, -0.2064, \n-0.2064, -0.2064, -0.2064, -0.2064, -0.2064, -0.2064, -0.2064, \n-0.2064, -0.2064, -0.2064, -0.2064, -0.2064, -0.2064, -0.2064, \n-0.2064, -0.2064, -0.2064, -0.2064, -0.2064, -0.2064, -0.2064, \n-0.2064, -0.2064, -0.2064, -0.2064, -0.2064, -0.2064, -0.2064, \n-0.2064, -0.2064, -0.2064, -0.2064, -0.2064, -0.2064, -0.2064, \n-0.2064, -0.2064, -0.2064, -0.2064, -0.2064, -0.2064, -0.2064, \n-0.2064, -0.2064, -0.2064, -0.2064, -0.2064, -0.2064, -0.2064, \n-0.2064, -0.2064, -0.2064, -0.2064, -0.2064, -0.2064, -0.2064, \n-0.2064, -0.2064, -0.2064, -0.2064, -0.2064, -0.2064, -0.2064, \n-0.2064, -0.2064, -0.2064, -0.2064, -0.2064, -0.2064, -0.2064, \n-0.2064, -0.2064, -0.2064, -0.2064, -0.2064, -0.2064, -0.2064, \n-0.2064, -0.2064, -0.2064, -0.2064, -0.2064, -0.2064, -0.2064, \n-0.2064, -0.2064, -0.2064, -0.2064, -0.2064, -0.2064, -0.2064, \n-0.2064, -0.2064, -0.2064, -0.2064, -0.2064, -0.2064, -0.2064, \n-0.2064, -0.2064, -0.2064, -0.2064, -0.2064, -0.2064, -0.2064, \n-0.2064, -0.2064, -0.2064, -0.2064, -0.2064, -0.2064, -0.2064, \n-0.2064, -0.2064, -0.2064, -0.2064, -0.2064, -0.2064, -0.2064, \n-0.2064, -0.2064, -0.2064, -0.2064, -0.2064, -0.2064, -0.2064, \n-0.2064, -0.2064, -0.2064, -0.2064, -0.2064, -0.2064, -0.2064, \n-0.2064, -0.2064, -0.2064, -0.2064, -0.2064, -0.2064, -0.2064, \n-0.2064, -0.2064, -0.2064, -0.2064, -0.2064, -0.2064, -0.2064, \n-0.2064, -0.2064, -0.2064, -0.2064, -0.2064, -0.2064, -0.2064, \n-0.2064, -0.2064, -0.2064, -0.2064, -0.2064, -0.2064, -0.2064, \n-0.2064, -0.2064, -0.2064, -0.2064, -0.2064, -0.2064, -0.2064, \n-0.2064, -0.2064, -0.2064, -0.2064, -0.2064, -0.2064, -0.2064, \n-0.2064, -0.2064, -0.2064, -0.2064, -0.2064, -0.2064, -0.2064, \n-0.2064, -0.2064, -0.2064, -0.2064, -0.2064, -0.2064, -0.2064, \n-0.2064, -0.2064, -0.2064, -0.2064, -0.2064, -0.2064, -0.2064, \n-0.2064, -0.2064, -0.2064, -0.2064, -0.2064, -0.2064, -0.2064, \n-0.2064, -0.2064, -0.2064, -0.2064, -0.2064, -0.2064, -0.2064, \n-0.2064, -0.2064, -0.2064, -0.2064, -0.2064, -0.2064, -0.2064, \n-0.2064, -0.2064, -0.2064, -0.2064, -0.2064, -0.2064, -0.2064, \n-0.2064, -0.2064, -0.2064, -0.2064, -0.2064, -0.2064, -0.2064, \n-0.2064, -0.2064, -0.2064, -0.2064, -0.2064, -0.2064, -0.2064, \n-0.2064, -0.2064, -0.2064, -0.2064, -0.2064, -0.2064, -0.2064, \n-0.2064, -0.2064, -0.2064, -0.2064, -0.2064, -0.2064, -0.2064, \n-0.2064, -0.2064, -0.2064, -0.2064, -0.2064, -0.2064, -0.2064, \n-0.2064, -0.2064, -0.2064, -0.2064, -0.2064, -0.2064, -0.2064, \n-0.2064, -0.2064, -0.2064, -0.2064, -0.2064, -0.2064, -0.2064, \n-0.2064, -0.2064, -0.2064, -0.2064, -0.2064, -0.2064, -0.2064, \n-0.2064, -0.2064, -0.2064, -0.2064, -0.2064, -0.2064, -0.2064, \n-0.2064, -0.2064, -0.2064, -0.2064, -0.2064, -0.2064, -0.2064, \n-0.2064, -0.2064, -0.2064, -0.2064, -0.2064, -0.2064, -0.2064, \n-0.2064, -0.2064, -0.2064, -0.2064, -0.2064, -0.2064, -0.2064, \n-0.2064, -0.2064, -0.2064, -0.2064, -0.2064, -0.2064, -0.2064, \n-0.2064, -0.2064, -0.2064, -0.2064, -0.2064, -0.2064, -0.2064, \n-0.2064, -0.2064, -0.2064, -0.2064, -0.2064, -0.2064, -0.2064, \n-0.2064, -0.2064, -0.2064, -0.2064, -0.2064, -0.2064, -0.2064, \n-0.2064, -0.2064, -0.2064, -0.2064, -0.2064, -0.2064, -0.2064, \n-0.2064, -0.2064, -0.2064, -0.2064, -0.2064, -0.2064, -0.2064, \n-0.2064, -0.2064, -0.2064, -0.2064, -0.2064, -0.2064, -0.2064, \n-0.2064, -0.2064, -0.2064, -0.2064, -0.2064, -0.2064, -0.2064, \n-0.2064, -0.2064, -0.2064, -0.2064, -0.2064, -0.2064, -0.2064, \n-0.2064, -0.2064, -0.2064, -0.2064, -0.2064, -0.2064, -0.2064, \n-0.2064, -0.2064, -0.2064, -0.2064, -0.2064, -0.2064, -0.2064, \n-0.2064, -0.2064, -0.2064, -0.2064, -0.2064, -0.2064, -0.2064, \n-0.2064, -0.2064, -0.2064, -0.2064, -0.2064, -0.2064, -0.2064, \n-0.2064, -0.2064, -0.2064, -0.2064, -0.2064, -0.2064, -0.2064, \n-0.2064, -0.2064, -0.2064, -0.2064, -0.2064, -0.2064, -0.2064, \n-0.2064, -0.2064, -0.2064, -0.2064, -0.2064, -0.2064, -0.2064, \n-0.2064, -0.2064, -0.2064, -0.2064, -0.2064, -0.2064, -0.2064, \n-0.2064, -0.2064, -0.2064, -0.2064, -0.2064, -0.2064, -0.2064, \n-0.2064, -0.2064, -0.2064, -0.2064, -0.2064, -0.2064, -0.2064, \n-0.2064, -0.2064, -0.2064, -0.2064, -0.2064, -0.2064, -0.2064, \n-0.2064, -0.2064, -0.2064, -0.2064, -0.2064, -0.2064, -0.2064, \n-0.2064, -0.2064, -0.2064, -0.2064, -0.2064, -0.2064, -0.2064, \n-0.2064, -0.2064, -0.2064, -0.2064, -0.2064, -0.2064, -0.2064, \n-0.2064, -0.2064, -0.2064, -0.2064, -0.2064, -0.2064, -0.2064, \n-0.2064, -0.2064, -0.2064, -0.2064, -0.2064, -0.2064, -0.2064, \n-0.2064, -0.2064, -0.2064, -0.2064, -0.2064, -0.2064, -0.2064, \n-0.2064, -0.2064, -0.2064, -0.2064, -0.2064, -0.2064, -0.2064, \n-0.2064, -0.2064, -0.2064, -0.2064, -0.2064, -0.2064, -0.2064, \n-0.2064, -0.2064, -0.2064, -0.2064, -0.2064, -0.2064, -0.2064, \n-0.2064, -0.2064, -0.2064, -0.2064, -0.2064, -0.2064, -0.2064, \n-0.2064, -0.2064, -0.2064, -0.2064, -0.2064, -0.2064, -0.2064, \n-0.2064, -0.2064, -0.2064, -0.2064, -0.2064, -0.2064, -0.2064, \n-0.2064, -0.2064, -0.2064, -0.2064, -0.2064, -0.2064, -0.2064, \n-0.2064, -0.2064, -0.2064, -0.2064, -0.2064, -0.2064, -0.2064, \n-0.2064, -0.2064, -0.2064, -0.2064, -0.2064, -0.2064, -0.2064, \n-0.2064, -0.2064, -0.2064, -0.2064, -0.2064, -0.2064, -0.2064, \n-0.2064, -0.2064, -0.2064, -0.2064, -0.2064, -0.2064, -0.2064, \n-0.2064, -0.2064, -0.2064, -0.2064, -0.2064, -0.2064, -0.2064, \n-0.2064, -0.2064, -0.2064, -0.2064, -0.2064, -0.2064, -0.2064, \n-0.2064, -0.2064, -0.2064, -0.2064, -0.2064, -0.2064, -0.2064, \n-0.2064, -0.2064, -0.2064, -0.2064, -0.2064, -0.2064, -0.2064, \n-0.2064, -0.2064, -0.2064, -0.2064, -0.2064, -0.2064, -0.2064, \n-0.2064, -0.2064, -0.2064, -0.2064, -0.2064, -0.2064, -0.2064, \n-0.2064, -0.2064, -0.2064, -0.2064, -0.2064, -0.2064, -0.2064, \n-0.2064, -0.2064, -0.2064, -0.2064, -0.2064, -0.2064, -0.2064, \n-0.2064, -0.2064, -0.2064, -0.2064, -0.2064, -0.2064, -0.2064, \n-0.2064, \n\n*** WARNING: max output size exceeded, skipping output. ***\n\n263904\", \"263905\", \n\"263906\", \"263907\", \"263908\", \"263909\", \"263910\", \"264587\", \"264588\", \n\"264589\", \"264590\", \"264591\", \"264592\", \"264593\", \"264594\", \"264595\", \n\"264596\", \"264597\", \"264598\", \"264599\", \"264600\", \"264601\", \"265030\", \n\"265031\", \"265032\", \"265033\", \"265034\", \"265035\", \"265036\", \"265479\", \n\"265480\", \"265481\", \"265482\", \"265483\", \"265484\", \"265829\", \"265830\", \n\"265831\", \"265832\", \"265833\", \"265834\", \"265835\", \"265836\", \"266539\", \n\"266540\", \"266541\", \"266542\", \"266543\", \"266544\", \"266545\", \"266546\", \n\"266547\", \"266548\", \"266549\", \"266550\", \"266551\", \"266552\", \"266970\", \n\"266971\", \"267085\", \"270323\", \"270324\", \"270325\", \"270326\", \"270327\", \n\"271672\", \"271673\", \"271674\", \"271675\", \"271676\", \"271677\", \"271678\", \n\"271679\", \"271680\", \"274831\", \"274832\", \"274833\", \"274834\", \"274835\", \n\"274836\", \"274837\", \"274838\", \"274839\", \"274840\", \"274841\", \"274842\", \n\"274843\", \"275068\", \"276077\", \"276078\", \"276079\", \"276080\", \"276081\", \n\"276082\", \"276083\", \"276084\", \"276085\", \"276086\", \"276087\", \"276088\", \n\"276089\", \"276090\", \"276091\", \"277542\", \"277543\", \"277544\", \"277545\", \n\"277546\", \"277547\", \"277548\", \"277549\", \"277550\", \"278268\", \"278269\", \n\"278270\", \"279211\", \"279212\", \"279213\", \"279214\", \"279215\", \"279216\", \n\"279217\", \"279218\", \"279219\", \"279220\", \"279891\", \"279892\", \"279893\", \n\"279894\", \"279895\", \"279896\", \"279897\", \"279898\", \"279899\", \"279900\", \n\"279901\", \"279902\", \"279903\", \"280684\", \"280685\", \"280686\", \"281978\", \n\"284242\", \"284243\", \"284244\", \"284245\", \"284324\", \"284325\", \"284498\", \n\"284499\", \"284500\", \"284501\", \"284502\", \"284503\", \"284504\", \"284887\", \n\"284888\", \"284889\", \"284890\", \"284891\", \"284892\", \"284893\", \"284894\", \n\"284895\", \"284896\", \"284897\", \"284898\", \"284899\", \"284900\", \"284901\", \n\"285083\", \"285084\", \"285336\", \"285337\", \"285338\", \"285339\", \"285340\", \n\"285341\", \"285342\", \"285343\", \"285344\", \"285345\", \"285346\", \"285347\", \n\"285348\", \"285349\", \"285350\", \"285351\", \"285352\", \"285353\", \"285354\", \n\"285355\", \"285356\", \"285357\", \"285358\", \"285359\", \"285360\", \"285361\", \n\"285362\", \"285363\", \"285364\", \"285365\", \"285366\", \"285367\", \"285368\", \n\"285369\", \"285370\", \"285371\", \"285372\", \"285373\", \"285374\", \"285375\", \n\"285376\", \"285377\", \"285378\", \"285379\", \"285380\", \"285477\", \"285478\", \n\"285658\", \"285659\", \"285660\", \"285803\", \"285804\", \"286250\", \"286251\", \n\"286252\", \"286253\", \"286254\", \"286255\", \"286256\", \"286257\", \"286258\", \n\"286259\", \"286260\", \"286261\", \"286262\", \"286263\", \"286264\", \"286265\", \n\"286266\", \"286267\", \"286268\", \"286269\", \"286270\", \"286271\", \"286272\", \n\"286273\", \"286274\", \"286275\", \"286276\", \"286277\", \"286278\", \"286279\", \n\"286280\", \"286281\", \"286282\", \"286283\", \"286284\", \"286285\", \"287038\", \n\"287039\", \"287040\", \"287041\", \"287042\", \"287043\", \"287044\", \"287045\", \n\"288820\", \"288821\", \"288822\", \"288823\", \"288824\", \"288825\", \"288826\", \n\"288827\", \"288828\", \"288829\", \"288830\", \"288831\", \"288832\", \"288833\", \n\"288834\", \"288835\", \"288836\", \"288837\", \"288838\", \"288839\", \"288840\", \n\"288841\", \"288842\", \"288843\", \"288844\", \"288845\", \"288846\", \"288847\", \n\"288848\", \"288849\", \"288850\", \"288851\", \"288852\", \"288853\", \"288854\", \n\"288855\", \"288856\", \"288857\", \"288858\", \"288859\", \"288860\", \"288861\", \n\"288862\", \"288863\", \"288864\", \"288865\", \"288866\", \"288867\", \"288868\", \n\"288869\", \"288870\", \"288871\", \"288872\", \"288873\", \"288874\", \"288875\", \n\"288876\", \"288877\", \"288878\", \"288879\", \"288880\", \"288881\", \"288882\", \n\"288883\", \"288884\", \"288885\", \"288886\", \"288887\", \"288888\", \"288889\", \n\"288890\", \"288891\", \"288892\", \"288893\", \"288894\", \"288895\", \"288896\", \n\"288897\", \"288898\", \"288899\", \"288900\", \"288901\", \"288902\", \"288903\", \n\"288904\", \"288905\", \"288906\", \"288907\", \"289632\", \"289633\", \"289634\", \n\"289635\", \"289636\", \"289637\", \"289638\", \"289639\", \"289640\", \"289641\", \n\"289642\", \"289643\", \"289644\", \"289645\", \"289646\", \"289647\", \"289648\", \n\"289649\", \"289650\", \"289651\", \"289652\", \"289653\", \"289654\", \"289655\", \n\"289656\", \"289657\", \"289658\", \"289659\", \"289660\", \"289661\", \"289662\", \n\"289663\", \"289664\", \"289665\", \"289666\", \"289667\", \"289875\", \"289876\", \n\"289877\", \"289878\", \"289879\", \"289880\", \"289881\", \"289882\", \"289883\", \n\"289884\", \"289885\", \"289886\", \"289887\", \"289888\", \"289889\", \"289890\", \n\"290171\", \"290172\", \"290173\", \"290174\", \"290175\", \"290176\", \"290177\", \n\"290178\", \"290179\", \"290180\", \"290181\", \"290182\", \"290183\", \"290184\", \n\"290185\", \"290186\", \"290187\", \"290188\", \"290504\", \"290505\", \"290506\", \n\"290507\", \"290508\", \"290509\", \"290510\", \"290511\", \"290512\", \"290513\", \n\"290514\", \"290515\", \"290516\", \"290517\", \"290518\", \"290519\", \"290520\", \n\"290521\", \"290522\", \"290523\", \"290524\", \"291017\", \"291018\", \"291019\", \n\"291020\", \"291021\", \"291022\", \"291023\", \"291024\", \"291375\", \"291376\", \n\"291377\", \"291378\", \"291379\", \"291380\", \"291381\", \"291612\", \"291613\", \n\"291614\", \"291615\", \"291616\", \"291617\", \"291618\", \"291619\", \"292066\", \n\"292067\", \"292068\", \"292069\", \"292070\", \"292071\", \"292830\", \"292831\", \n\"292832\", \"292833\", \"292834\", \"292835\", \"292836\", \"293553\", \"293554\", \n\"293555\", \"293556\", \"293557\", \"293558\", \"293559\", \"293560\", \"293561\", \n\"293562\", \"293563\", \"293564\", \"293565\", \"293566\", \"293567\", \"293568\", \n\"293569\", \"293570\", \"293571\", \"293572\", \"293573\", \"293574\", \"293575\", \n\"293576\", \"293577\", \"293578\", \"293579\", \"293580\", \"293581\", \"293582\", \n\"293583\", \"293584\", \"293585\", \"293586\", \"293587\", \"293588\", \"294199\", \n\"294200\", \"294201\", \"294202\", \"294203\", \"294204\", \"294205\", \"294206\", \n\"294207\", \"294208\", \"294209\", \"294210\", \"294211\", \"294212\", \"294213\", \n\"294214\", \"294215\", \"294216\", \"294217\", \"294218\", \"294219\", \"294220\", \n\"294221\", \"294222\", \"294223\", \"294224\", \"294225\", \"294226\", \"294227\", \n\"294228\", \"294229\", \"294230\", \"294231\", \"294232\", \"294233\", \"294234\", \n\"294235\", \"294236\", \"294237\", \"294238\", \"294239\", \"294240\", \"294241\", \n\"294242\", \"294243\", \"294244\", \"294245\", \"294246\", \"294247\", \"294248\", \n\"294249\", \"294250\", \"294251\", \"294252\", \"294253\", \"294254\", \"294255\", \n\"294256\", \"294257\", \"294258\", \"294259\", \"294260\", \"294261\", \"294262\", \n\"294263\", \"294264\", \"294265\", \"294266\", \"294267\", \"294268\", \"294269\", \n\"294270\", \"294271\", \"294272\", \"294273\", \"294274\", \"294275\", \"294276\", \n\"294277\", \"294278\", \"294279\", \"294280\", \"294281\", \"294589\", \"294590\", \n\"294591\", \"294592\", \"294593\", \"294594\", \"294595\", \"294596\", \"294597\", \n\"294598\", \"294599\", \"294600\", \"294601\", \"294602\", \"294603\", \"294604\", \n\"294605\", \"294606\", \"294725\", \"294726\", \"294727\", \"294728\", \"294729\", \n\"294730\", \"294731\", \"294732\", \"294733\", \"294734\", \"294775\", \"295255\", \n\"295256\", \"295257\", \"295258\", \"295259\", \"295260\", \"295261\", \"295262\", \n\"295263\", \"295306\", \"295647\", \"295648\", \"295649\", \"295650\", \"295651\", \n\"295652\", \"295653\", \"296058\", \"296059\", \"296060\", \"296061\", \"296062\", \n\"296063\", \"296064\", \"296065\", \"296066\", \"297144\", \"297145\", \"297146\", \n\"297147\", \"297148\", \"297149\", \"297150\", \"297151\", \"297152\", \"297153\", \n\"297154\", \"297155\", \"297156\", \"297157\", \"297158\", \"297159\", \"297160\", \n\"297161\", \"297162\", \"297163\", \"297164\", \"297165\", \"297166\", \"297167\", \n\"297168\", \"297169\", \"297170\", \"297171\", \"297172\", \"297173\", \"297174\", \n\"297175\", \"297176\", \"297177\", \"297178\", \"297179\", \"297180\", \"297181\", \n\"297182\", \"297183\", \"297184\", \"297185\", \"297186\", \"297187\", \"297188\", \n\"297189\", \"297190\", \"297191\", \"297192\", \"297193\", \"297194\", \"297195\", \n\"297196\", \"297197\", \"297198\", \"297199\", \"297200\", \"297201\", \"297202\", \n\"297203\", \"297204\", \"297205\", \"297206\", \"297207\", \"297208\", \"297209\", \n\"297210\", \"297211\", \"297212\", \"297213\", \"297214\", \"297215\", \"297216\", \n\"297217\", \"297218\", \"298800\", \"298801\", \"298802\", \"298803\", \"298804\", \n\"298805\", \"298806\", \"298807\", \"298808\", \"298809\", \"298810\", \"299076\", \n\"299077\", \"299078\", \"299079\", \"299080\", \"299081\", \"299082\", \"299369\", \n\"299597\", \"299598\", \"299599\", \"300728\", \"300729\", \"300730\", \"300731\", \n\"300732\", \"300733\", \"300734\", \"300735\", \"300736\", \"300737\", \"300738\", \n\"300739\", \"301789\", \"301790\", \"301791\", \"301792\", \"301793\", \"301794\", \n\"301795\", \"301796\", \"301797\", \"301798\", \"301799\", \"301800\", \"301801\", \n\"301957\", \"301958\", \"301959\", \"301960\", \"301961\", \"303051\", \"303052\", \n\"303053\", \"303054\", \"303055\", \"303056\", \"303057\", \"303058\", \"303059\", \n\"303060\", \"303061\", \"303062\", \"303063\", \"303064\", \"303065\", \"303748\", \n\"303749\", \"303750\", \"304326\", \"304327\", \"304328\", \"304329\", \"304330\", \n\"304331\", \"304332\", \"304333\", \"304334\", \"305110\", \"305288\", \"305289\", \n\"305290\", \"305585\", \"305586\", \"305587\", \"305588\", \"305589\", \"306202\", \n\"306203\", \"306204\", \"306205\", \"306206\", \"306207\", \"306208\", \"306209\", \n\"306210\", \"306211\", \"306212\", \"306213\", \"306214\", \"306215\", \"306216\", \n\"306217\", \"306640\", \"306641\", \"306642\", \"306643\", \"306644\", \"307095\", \n\"307096\", \"307097\", \"307099\", \"307100\", \"307622\", \"307816\", \"307817\", \n\"307818\", \"307819\", \"308125\", \"308126\", \"308127\", \"308128\", \"308129\", \n\"308130\", \"308131\", \"308132\", \"308133\", \"309145\", \"309146\", \"309147\", \n\"309148\", \"309149\", \"309150\", \"309151\", \"309152\", \"309153\", \"309154\", \n\"309155\", \"309156\", \"309157\", \"309158\", \"309159\", \"309160\", \"309161\", \n\"309162\", \"309163\", \"309164\", \"309165\", \"309361\", \"309362\", \"309363\", \n\"309924\", \"309925\", \"309926\", \"309927\", \"309928\", \"309929\", \"309930\", \n\"309931\", \"309932\", \"309933\", \"309934\", \"309935\", \"309936\", \"309937\", \n\"310269\", \"310270\", \"310271\", \"310272\", \"310273\", \"310274\", \"310275\", \n\"310276\", \"310277\", \"310278\", \"310279\", \"310280\", \"310281\", \"310282\", \n\"310283\", \"310284\", \"310285\", \"310286\", \"310287\", \"310288\", \"310289\", \n\"310380\", \"310381\", \"310382\", \"310383\", \"310384\", \"310385\", \"310386\", \n\"310546\", \"310547\", \"310548\", \"310780\", \"310781\", \"310782\", \"310783\", \n\"310784\", \"310785\", \"310786\", \"310787\", \"310788\", \"310789\", \"310790\", \n\"310791\", \"310792\", \"310793\", \"310794\", \"310795\", \"310796\", \"310797\", \n\"310798\", \"310799\", \"311082\", \"311083\", \"311185\", \"311405\", \"311406\", \n\"311407\", \"311408\", \"311409\", \"311410\", \"311539\", \"311944\", \"311945\", \n\"311946\", \"311947\", \"311948\", \"311949\", \"311950\", \"312474\", \"312475\", \n\"312476\", \"312477\", \"312478\", \"312479\", \"312480\", \"312481\", \"312482\", \n\"312483\", \"312821\", \"312822\", \"312823\", \"312824\", \"312825\", \"312826\", \n\"312827\", \"312828\", \"312829\", \"312830\", \"312831\", \"312832\", \"312833\", \n\"312834\", \"312835\", \"312836\", \"312921\", \"313443\", \"313444\", \"313445\", \n\"313446\", \"313447\", \"313448\", \"313449\", \"313450\", \"313451\", \"313452\", \n\"313453\", \"313454\", \"313455\", \"313456\", \"314459\", \"314460\", \"314461\", \n\"314462\", \"314463\", \"314464\", \"314465\", \"314466\", \"314467\", \"314468\", \n\"314469\", \"314470\", \"314471\", \"314472\", \"314473\", \"314474\", \"314475\", \n\"314476\", \"314477\", \"314478\", \"314479\", \"314480\", \"314481\", \"314482\", \n\"314483\", \"314484\", \"314485\", \"314486\", \"314487\", \"314488\", \"314489\", \n\"314490\", \"314491\", \"314492\", \"314493\", \"314494\", \"314495\", \"314496\", \n\"314497\", \"314498\", \"314499\", \"314500\", \"314501\", \"314502\", \"314503\", \n\"314504\", \"314505\", \"314506\", \"314507\", \"314508\", \"314509\", \"314510\", \n\"314511\", \"314512\", \"314513\", \"314514\", \"314515\", \"314516\", \"314517\", \n\"314518\", \"314519\", \"314520\", \"314521\", \"314522\", \"314523\", \"314524\", \n\"314525\", \"314526\", \"314527\", \"314528\", \"314529\", \"314530\", \"314531\", \n\"314532\", \"314533\", \"314534\", \"314535\", \"314536\", \"314537\", \"314538\", \n\"314539\", \"314540\", \"314541\", \"314542\", \"314543\", \"314544\", \"314545\", \n\"314546\", \"314547\", \"314548\", \"314549\", \"314550\", \"314551\", \"314552\", \n\"314553\", \"314554\", \"314555\", \"314556\", \"314557\", \"314558\", \"314559\", \n\"314560\", \"314561\", \"314562\", \"314563\", \"314564\", \"314565\", \"314566\", \n\"314567\", \"314568\", \"314569\", \"314570\", \"314571\", \"314572\", \"314573\", \n\"314574\", \"314575\", \"314576\", \"314577\", \"314578\", \"314579\", \"314580\", \n\"314581\", \"314582\", \"314583\", \"314584\", \"314585\", \"314586\", \"314587\", \n\"314588\", \"314589\", \"314590\", \"314591\", \"314592\", \"314593\", \"314594\", \n\"314595\", \"314596\", \"314597\", \"314598\", \"314599\", \"314600\", \"314601\", \n\"314602\", \"314603\", \"314604\", \"314605\", \"314606\", \"314607\", \"314608\", \n\"314609\", \"314610\", \"314611\", \"314612\", \"314613\", \"314614\", \"314615\", \n\"314616\", \"314617\", \"314618\", \"314619\", \"314620\", \"314621\", \"314622\", \n\"314623\", \"314624\", \"314625\", \"314626\", \"314627\", \"314685\", \"314686\", \n\"314687\", \"315626\", \"315627\", \"315628\", \"315629\", \"315630\", \"315631\", \n\"315632\", \"315633\", \"315634\", \"315635\", \"315636\", \"315637\", \"315638\", \n\"315639\", \"315640\", \"315641\", \"315642\", \"315643\", \"315644\", \"315645\", \n\"315646\", \"315647\", \"315648\", \"315649\", \"315650\", \"315651\", \"315652\", \n\"315653\", \"315654\", \"315655\", \"315656\", \"315657\", \"315658\", \"315659\", \n\"315660\", \"315661\", \"315662\", \"315663\", \"315664\", \"315665\", \"315666\", \n\"315667\", \"315668\", \"315669\", \"315670\", \"315671\", \"315672\", \"315673\", \n\"315674\", \"315675\", \"315676\", \"315677\", \"315678\", \"315679\", \"315680\", \n\"315681\", \"315682\", \"315683\", \"315684\", \"315685\", \"315686\", \"315687\", \n\"315688\", \"315689\", \"315690\", \"315691\", \"315692\", \"315693\", \"315694\", \n\"315695\", \"315696\", \"315697\", \"315698\", \"315699\", \"315700\", \"315701\", \n\"315702\", \"315703\", \"315704\", \"315705\", \"315706\", \"315707\", \"315708\", \n\"315709\", \"315710\", \"315711\", \"315712\", \"315713\", \"315714\", \"315715\", \n\"315716\", \"315717\", \"315718\", \"315719\", \"315720\", \"315721\", \"315722\", \n\"315723\", \"315724\", \"315725\", \"315726\", \"315727\", \"315728\", \"315729\", \n\"315730\", \"315731\", \"315732\", \"315733\", \"315734\", \"315735\", \"315736\", \n\"315737\", \"316086\", \"316087\", \"316088\", \"317306\", \"317307\", \"317308\", \n\"317309\", \"317310\", \"317311\", \"317312\", \"317313\", \"317314\", \"317315\", \n\"317606\", \"317607\", \"317608\", \"317609\", \"317610\", \"317611\", \"317612\", \n\"317613\", \"317614\", \"317615\", \"317616\", \"317617\", \"319170\", \"319171\", \n\"319172\", \"319173\", \"319174\", \"319175\", \"319176\", \"319177\", \"319178\", \n\"319179\", \"319180\", \"319181\", \"319182\", \"319183\", \"319184\", \"319185\", \n\"319186\", \"319187\", \"319188\", \"319189\", \"319190\", \"319191\", \"319368\", \n\"319369\", \"319370\", \"319885\", \"319886\", \"319887\", \"319888\", \"319889\", \n\"319890\", \"319891\", \"319892\", \"319893\", \"319894\", \"319895\", \"319896\", \n\"319897\", \"320477\", \"320478\", \"320479\", \"320480\", \"320481\", \"320482\", \n\"320483\", \"320484\", \"320485\", \"320486\", \"320487\", \"320488\", \"320489\", \n\"321147\", \"321148\", \"321149\", \"321150\", \"321151\", \"321152\", \"321153\", \n\"321154\", \"321155\", \"321156\", \"321157\", \"321158\", \"321159\", \"321160\", \n\"322144\", \"322145\", \"322146\", \"322147\", \"322148\", \"322149\", \"322150\", \n\"322151\", \"322152\", \"322153\", \"322154\", \"322155\", \"322156\", \"322157\", \n\"322158\", \"322159\", \"322160\", \"322161\", \"322162\", \"322163\", \"322164\", \n\"322165\", \"322166\", \"322167\", \"322168\", \"322169\", \"322170\", \"322171\", \n\"322172\", \"322173\", \"322174\", \"322175\", \"322312\", \"322453\", \"322454\", \n\"322705\", \"322706\", \"322707\", \"322708\", \"322709\", \"322710\", \"322711\", \n\"322712\", \"322857\", \"322858\", \"322859\", \"322860\", \"322861\", \"323183\", \n\"323184\", \"323185\", \"323186\", \"323187\", \"323188\", \"323189\", \"323190\", \n\"323191\", \"323192\", \"323193\", \"323194\", \"323437\", \"323438\", \"323439\", \n\"323440\", \"323441\", \"323442\", \"323443\", \"323444\", \"323732\", \"323733\", \n\"323734\", \"323735\", \"323736\", \"323737\", \"323738\", \"323739\", \"323740\", \n\"323934\", \"323935\", \"323936\", \"323937\", \"323938\", \"323939\", \"323940\", \n\"323941\", \"323942\", \"323943\", \"325079\", \"325080\", \"325081\", \"325082\", \n\"325083\", \"325084\", \"325085\", \"325086\", \"325087\", \"325088\", \"325089\", \n\"325090\", \"325091\", \"325092\", \"325093\", \"325094\", \"325095\", \"325096\", \n\"325097\", \"325098\", \"325099\", \"325100\", \"325101\", \"325102\", \"325103\", \n\"325104\", \"325105\", \"325106\", \"325107\", \"325108\", \"325109\", \"325110\", \n\"325111\", \"325112\", \"325113\", \"325114\", \"325115\", \"325116\", \"325117\", \n\"325118\", \"325119\", \"325120\", \"325121\", \"325122\", \"325123\", \"325124\", \n\"325125\", \"325126\", \"325127\", \"325128\", \"325129\", \"325130\", \"325131\", \n\"325132\", \"325133\", \"325134\", \"325135\", \"325136\", \"325137\", \"325138\", \n\"325139\", \"325140\", \"325141\", \"325142\", \"325143\", \"325144\", \"325145\", \n\"325146\", \"325147\", \"325148\", \"325149\", \"325150\", \"325151\", \"325152\", \n\"325153\", \"325154\", \"325155\", \"325156\", \"325157\", \"325158\", \"325159\", \n\"325160\", \"325161\", \"325162\", \"325163\", \"325164\", \"325165\", \"325166\", \n\"325167\", \"325168\", \"325169\", \"325170\", \"325171\", \"325172\", \"325173\", \n\"325174\", \"325175\", \"325176\", \"325177\", \"325178\", \"325179\", \"325180\", \n\"325181\", \"325182\", \"325183\", \"325184\", \"325185\", \"325186\", \"325187\", \n\"325188\", \"325189\", \"325190\", \"325191\", \"325192\", \"325193\", \"325194\", \n\"325195\", \"325196\", \"325197\", \"325198\", \"325199\", \"325200\", \"325201\", \n\"325202\", \"325203\", \"325204\", \"325205\", \"325206\", \"325207\", \"325208\", \n\"325209\", \"325210\", \"325211\", \"325212\", \"325213\", \"325214\", \"325215\", \n\"325216\", \"325217\", \"325218\", \"325219\", \"325220\", \"325221\", \"325222\", \n\"325223\", \"325224\", \"325225\", \"325226\", \"325227\", \"325228\", \"325229\", \n\"325230\", \"325231\", \"325232\", \"325233\", \"325234\", \"325235\", \"325236\", \n\"325237\", \"325238\", \"325239\", \"325240\", \"325241\", \"325242\", \"325243\", \n\"325244\", \"325245\", \"325246\", \"325247\", \"325248\", \"325249\", \"325250\", \n\"325251\", \"325252\", \"325253\", \"325254\", \"325255\", \"325256\", \"325257\", \n\"325258\", \"325259\", \"325260\", \"325261\", \"325262\", \"325263\", \"325264\", \n\"325265\", \"325266\", \"325267\", \"325268\", \"325269\", \"325270\", \"325271\", \n\"325272\", \"325273\", \"325274\", \"325275\", \"325276\", \"325277\", \"325278\", \n\"325279\", \"325280\", \"325281\", \"325282\", \"325634\", \"325635\", \"325636\", \n\"325637\", \"325789\", \"325790\", \"325791\", \"325792\", \"325793\", \"325794\", \n\"325795\", \"325796\", \"325797\", \"325977\", \"325978\", \"325981\", \"326097\", \n\"326098\", \"326099\", \"326100\", \"326558\", \"326942\", \"326943\", \"326944\", \n\"326945\", \"326946\", \"326947\", \"326948\", \"326949\", \"327340\", \"327341\", \n\"327342\", \"328069\", \"328070\", \"328071\", \"328072\", \"328073\", \"328074\", \n\"328075\", \"328076\", \"328077\", \"328078\", \"328322\", \"328323\", \"329155\", \n\"329156\", \"329157\", \"329158\", \"329159\", \"329160\", \"329161\", \"329303\", \n\"329304\", \"329305\", \"329306\", \"329307\", \"329308\", \"329626\", \"329627\", \n\"329628\", \"329629\", \"329630\", \"329631\", \"329632\", \"329633\", \"329634\", \n\"330244\", \"330245\", \"330246\", \"330247\", \"330248\", \"330249\", \"330250\", \n\"330251\", \"330252\", \"330253\", \"330254\", \"330255\", \"330256\", \"330257\", \n\"330258\", \"330259\", \"330260\", \"330261\", \"330262\", \"330263\", \"330264\", \n\"330265\", \"330266\", \"330267\", \"330268\", \"330269\", \"330270\", \"330271\", \n\"330272\", \"330273\", \"330274\", \"330275\", \"330276\", \"330277\", \"330278\", \n\"330279\", \"330280\", \"330281\", \"330282\", \"330283\", \"330284\", \"330285\", \n\"330286\", \"330287\", \"330288\", \"330289\", \"330290\", \"330291\", \"330292\", \n\"330293\", \"330294\", \"330295\", \"330296\", \"330297\", \"330298\", \"330299\", \n\"330300\", \"330301\", \"330947\", \"330948\", \"330949\", \"330950\", \"330951\", \n\"330952\", \"330953\", \"330954\", \"331135\", \"331136\", \"331137\", \"331377\", \n\"331378\", \"331379\", \"331538\", \"331539\", \"331540\", \"331990\", \"331991\", \n\"331992\", \"331993\", \"331994\", \"331995\", \"332259\", \"332260\", \"332261\", \n\"332262\", \"332263\", \"332264\", \"332265\", \"332266\", \"332267\", \"332525\", \n\"332526\", \"332527\", \"332528\", \"332529\", \"332530\", \"332531\", \"332532\", \n\"332533\", \"332881\", \"332882\", \"332883\", \"332884\", \"332885\", \"332886\", \n\"332887\", \"332888\", \"332889\", \"332890\", \"332891\", \"333496\", \"333497\", \n\"333498\", \"333499\", \"333500\", \"333501\", \"333758\", \"333759\", \"333760\", \n\"333761\", \"333762\", \"333763\", \"333764\", \"333765\", \"333766\", \"333879\", \n\"333880\", \"333881\", \"333882\", \"333883\", \"334928\", \"334929\", \"334930\", \n\"334931\", \"334932\", \"334933\", \"334934\", \"334935\", \"334936\", \"334937\", \n\"334938\", \"334939\", \"334940\", \"334941\", \"334942\", \"334943\", \"334944\", \n\"334945\", \"334946\", \"334947\", \"334948\", \"334949\", \"334950\", \"334951\", \n\"334952\", \"334953\", \"334954\", \"334955\", \"334956\", \"334957\", \"334958\", \n\"334959\", \"334960\", \"334961\", \"335052\", \"335502\", \"335503\", \"335774\", \n\"335775\", \"335776\", \"335777\", \"335778\", \"335779\", \"335780\", \"335781\", \n\"335782\", \"335783\", \"335784\", \"335785\", \"335786\", \"335787\", \"335788\", \n\"335789\", \"335790\", \"335791\", \"335792\", \"335793\", \"335794\", \"335795\", \n\"335796\", \"335797\", \"335798\", \"335799\", \"335800\", \"336245\", \"336246\", \n\"336247\", \"336760\", \"336761\", \"338531\", \"338532\", \"338533\", \"338534\", \n\"338535\", \"338536\", \"338537\", \"338538\", \"338539\", \"338540\", \"338541\", \n\"338542\", \"338543\", \"338544\", \"338545\", \"338546\", \"338547\", \"338548\", \n\"338549\", \"338550\", \"338551\", \"338552\", \"339294\", \"339352\", \"339353\", \n\"339354\", \"339990\", \"339991\", \"339992\", \"339993\", \"339994\", \"340103\", \n\"340104\", \"340105\", \"340106\", \"340325\", \"340326\", \"340327\", \"340328\", \n\"340329\", \"340330\", \"340331\", \"340332\", \"340333\", \"340334\", \"340335\", \n\"340336\", \"340434\", \"340566\", \"340567\", \"340568\", \"340569\", \"340700\", \n\"340701\", \"340702\", \"340703\", \"340895\", \"341101\", \"341102\", \"341103\", \n\"341104\", \"341105\", \"341106\", \"341309\", \"341310\", \"341311\", \"341312\", \n\"341313\", \"341981\", \"342218\", \"342219\", \"342313\", \"342314\", \"342315\", \n\"342595\", \"342596\", \"342597\", \"342598\", \"342599\", \"342600\", \"342741\", \n\"342742\", \"342743\", \"342744\", \"342745\", \"342746\", \"342747\", \"342748\", \n\"342749\", \"342750\", \"342751\", \"342752\", \"342753\", \"342754\", \"342755\", \n\"342756\", \"342757\", \"342758\", \"342759\", \"342760\", \"342874\", \"342875\", \n\"343100\", \"343101\", \"343102\", \"343103\", \"343543\", \"343544\", \"343545\", \n\"343546\", \"343547\", \"343548\", \"343549\", \"343550\", \"343551\", \"343552\", \n\"343553\", \"343871\", \"343872\", \"343873\", \"343874\", \"343875\", \"343876\", \n\"343877\", \"345034\", \"345035\", \"345036\", \"345037\", \"345038\", \"345039\", \n\"345085\", \"345086\", \"345087\", \"345088\", \"345713\", \"345714\", \"345715\", \n\"345716\", \"345717\", \"345718\", \"345719\", \"345720\", \"345721\", \"345722\", \n\"345723\", \"346304\", \"346305\", \"346306\", \"346307\", \"346308\", \"346309\", \n\"346310\", \"346311\", \"346312\", \"346313\", \"346314\", \"348064\", \"348065\", \n\"348066\", \"348067\", \"348068\", \"348069\", \"348070\", \"350029\", \"350030\", \n\"350031\", \"350032\", \"350033\", \"350034\", \"350035\", \"350036\", \"350037\", \n\"350038\", \"350039\", \"350040\", \"350041\", \"350042\", \"350043\", \"350044\", \n\"350045\", \"350046\", \"350047\", \"350048\", \"350049\", \"350050\", \"350051\", \n\"350052\", \"350053\", \"350054\", \"350055\", \"350056\", \"350057\", \"350058\", \n\"350059\", \"350337\", \"350338\", \"350339\", \"350340\", \"350341\", \"350818\", \n\"350888\", \"350889\", \"350890\", \"350891\", \"350892\", \"350981\", \"351189\", \n\"351190\", \"351191\", \"351192\", \"351347\", \"351348\", \"351349\", \"351350\", \n\"351351\", \"351352\", \"351353\", \"352552\", \"352553\", \"352984\", \"353153\", \n\"353154\", \"353155\", \"353156\", \"353157\", \"353288\", \"353289\", \"353290\", \n\"353291\", \"353292\", \"353293\", \"353294\", \"353336\", \"353337\", \"353338\", \n\"353834\", \"353835\", \"353999\", \"354000\", \"354001\", \"354002\", \"354003\", \n\"354085\", \"354678\", \"354780\", \"354781\", \"354782\", \"354783\", \"355327\", \n\"355328\", \"355329\", \"355330\", \"355331\", \"355332\", \"355333\", \"355334\", \n\"355335\", \"355336\", \"355337\", \"355338\", \"355339\", \"355340\", \"355341\", \n\"355342\", \"355343\", \"355344\", \"355345\", \"355346\", \"355347\", \"355348\", \n\"355349\", \"355350\", \"355351\", \"355352\", \"355353\", \"355354\", \"355355\", \n\"355356\", \"355357\", \"355358\", \"355359\", \"355360\", \"355361\", \"355362\", \n\"355363\", \"355364\", \"355365\", \"355366\", \"355367\", \"355368\", \"355369\", \n\"355370\", \"355371\", \"355372\", \"355373\", \"355374\", \"355375\", \"355376\", \n\"355377\", \"355690\", \"355691\", \"355692\", \"355693\", \"355989\", \"355990\", \n\"355991\", \"355992\", \"355993\", \"355994\", \"355995\", \"355996\", \"355997\", \n\"355998\", \"355999\", \"356000\", \"356001\", \"356002\", \"356003\", \"356004\", \n\"356005\", \"356068\", \"356069\", \"356070\", \"356071\", \"356302\", \"356602\", \n\"356603\", \"356604\", \"356605\", \"356606\", \"356607\", \"356771\", \"356828\", \n\"356829\", \"356830\", \"356831\", \"356832\", \"356833\", \"356909\", \"356910\", \n\"357043\", \"357044\", \"357045\", \"357188\", \"357189\", \"357236\", \"357361\", \n\"357362\", \"357363\", \"358102\", \"358103\", \"358104\", \"358106\", \"358107\", \n\"358108\", \"358109\", \"358111\", \"358113\", \"358459\", \"358566\", \"358744\", \n\"359308\", \"359309\", \"359456\", \"359623\", \"359624\", \"359833\", \"359957\", \n\"359958\", \"359959\", \"359960\", \"359961\", \"360106\", \"360107\", \"360227\", \n\"360246\", \"360509\", \"360510\", \"360511\", \"360512\", \"360513\", \"360596\", \n\"360597\", \"360598\", \"360599\", \"361159\", \"361323\", \"361324\", \"361325\", \n\"361525\", \"361526\", \"361527\", \"361564\", \"361837\", \"361838\", \"361916\", \n\"361917\", \"361918\", \"361919\", \"361920\", \"362029\", \"362260\", \"362261\", \n\"362262\", \"362263\", \"362264\", \"362318\", \"362452\", \"362453\", \"362454\", \n\"362455\", \"362456\", \"362457\", \"362458\", \"362459\", \"362579\", \"362643\", \n\"362987\", \"363110\", \"363111\", \"363112\", \"363113\", \"363214\", \"363215\", \n\"363329\", \"363330\", \"363331\", \"363573\", \"363658\", \"363921\", \"364012\", \n\"364013\", \"364901\", \"364993\", \"364994\", \"364995\", \"364996\", \"364997\", \n\"365240\", \"365241\", \"365242\", \"365486\", \"365712\", \"365789\", \"365922\", \n\"366066\", \"366067\", \"366148\")))\n\nDeviance Residuals: \n    Min       1Q   Median       3Q      Max  \n-0.7105  -0.1358  -0.1131   0.1753   0.8723  \n\nCoefficients:\n             Estimate Std. Error t value Pr(>|t|)    \n(Intercept) -0.070625   0.007645  -9.238   <2e-16 ***\nGmale       -0.012807   0.006248  -2.050   0.0404 *  \nyear2019    -0.008722   0.007998  -1.091   0.2755    \nyear2020    -0.009884   0.007876  -1.255   0.2095    \nyear2021    -0.004762   0.007424  -0.641   0.5212    \nyear2022     0.002626   0.008222   0.319   0.7495    \n---\nSignif. codes:  0 ‘***’ 0.001 ‘**’ 0.01 ‘*’ 0.05 ‘.’ 0.1 ‘ ’ 1\n\n(Dispersion parameter for gaussian family taken to be 0.06373452)\n\n    Null deviance: 654.40  on 10265  degrees of freedom\nResidual deviance: 653.92  on 10260  degrees of freedom\nAIC: 879.05\n\nNumber of Fisher Scoring iterations: 2\n\n\n"
     ]
    }
   ],
   "source": [
    "tmp = pd.DataFrame()\n",
    "tmp['ideology'] = dummy['ideology']\n",
    "tmp['G'] = dummy['G']\n",
    "tmp['year'] = dummy['year']\n",
    "tmp['Domain_English'] = dummy['Domain_English']\n",
    "tmp['Field_English'] = dummy['Field_English']\n",
    "tmp['SubField_English'] = dummy['SubField_English']\n",
    "\n",
    "#tmp = tmp[tmp['Field_English'] == 'Agriculture, Fisheries & Forestry'] #gmale est = -0.013381, p val = 0.0481 *\n",
    "#tmp = tmp[tmp['Field_English'] == 'Built Environment & Design'] #insig\n",
    "#tmp = tmp[tmp['Field_English'] == 'Enabling & Strategic Technologies'] #gmale est = -0.013867, p val =  0.01610 * \n",
    "#tmp = tmp[tmp['Field_English'] == 'Engineering'] #insig\n",
    "#tmp = tmp[tmp['Field_English'] == 'Information & Communication Technologies'] #insig\n",
    "#tmp = tmp[tmp['Field_English'] == 'Historical Studies'] #gmale est = 0.02641 , p val=   0.0364 *  \n",
    "#tmp = tmp[tmp['Field_English'] == 'Philosophy & Theology'] #insig\n",
    "\n",
    "#tmp = tmp[tmp['Field_English'] == 'Economics & Business']\n",
    "#tmp = tmp[tmp['Field_English'] == 'Social Sciences'] #insig\n",
    "#tmp = tmp[tmp['Field_English'] == 'Biomedical Research']\n",
    "#tmp = tmp[tmp['Field_English'] == 'Clinical Medicine'] #gmale est = 0.005373, p val 0.000766 ***\n",
    "#tmp = tmp[tmp['Field_English'] == 'Psychology & Cognitive Sciences'] #insig\n",
    "\n",
    "#tmp = tmp[tmp['Field_English'] == 'Public Health & Health Services'] #insig\n",
    "#tmp = tmp[tmp['Field_English'] == 'Biology'] #gmale est = 0.011022, p val= 0.00296 **\n",
    "#tmp = tmp[tmp['Field_English'] == 'Chemistry'] #gmale est = -0.025871, p val = 0.014056 * \n",
    "#tmp = tmp[tmp['Field_English'] == 'Earth & Environmental Sciences'] #insig\n",
    "#tmp = tmp[tmp['Field_English'] == 'Mathematics & Statistics']\n",
    "#tmp = tmp[tmp['Field_English'] == 'Physics & Astronomy'] #gmale est = -0.012807, p val=   0.0404 *\n",
    "\n",
    "\n",
    "with localconverter(ro.default_converter + pandas2ri.converter):\n",
    "  tst_df = ro.conversion.py2rpy(tmp)\n",
    "\n",
    "col_2_index = list(tst_df.colnames).index('year')\n",
    "col_2 = ro.vectors.FactorVector(tst_df.rx2('year'))\n",
    "tst_df[col_2_index] = col_2\n",
    "\n",
    "\n",
    "'''col_2_index = list(tst_df.colnames).index('Domain_English')\n",
    "col_2 = ro.vectors.FactorVector(tst_df.rx2('Domain_English'))\n",
    "tst_df[col_2_index] = col_2'''\n",
    "\n",
    "col_2_index = list(tst_df.colnames).index('SubField_English')\n",
    "col_2 = ro.vectors.FactorVector(tst_df.rx2('SubField_English'))\n",
    "tst_df[col_2_index] = col_2\n",
    "\n",
    "\n",
    "\n",
    "#print(tst_df)\n",
    "#pandas2ri.activate()\n",
    "model = stats.glm(\"ideology ~ G+year\",\n",
    "                  data=tst_df,family=ro.r('gaussian')) #family=ro.r('gaussian(link=\"identity\")') #family=ro.r('poisson(link=\"log\")')\n",
    "print(base.summary(model))"
   ]
  },
  {
   "cell_type": "code",
   "execution_count": 0,
   "metadata": {
    "application/vnd.databricks.v1+cell": {
     "cellMetadata": {
      "byteLimit": 2048000,
      "rowLimit": 10000
     },
     "inputWidgets": {},
     "nuid": "e2ec6dbf-8e20-4fe4-82ee-6fe08fbf5107",
     "showTitle": false,
     "title": ""
    }
   },
   "outputs": [
    {
     "output_type": "stream",
     "name": "stdout",
     "output_type": "stream",
     "text": [
      "\nCall:\n(function (formula, family = gaussian, data, weights, subset, \n    na.action, start = NULL, etastart, mustart, offset, control = list(...), \n    model = TRUE, method = \"glm.fit\", x = FALSE, y = TRUE, singular.ok = TRUE, \n    contrasts = NULL, ...) \n{\n    cal <- match.call()\n    if (is.character(family)) \n        family <- get(family, mode = \"function\", envir = parent.frame())\n    if (is.function(family)) \n        family <- family()\n    if (is.null(family$family)) {\n        print(family)\n        stop(\"'family' not recognized\")\n    }\n    if (missing(data)) \n        data <- environment(formula)\n    mf <- match.call(expand.dots = FALSE)\n    m <- match(c(\"formula\", \"data\", \"subset\", \"weights\", \"na.action\", \n        \"etastart\", \"mustart\", \"offset\"), names(mf), 0L)\n    mf <- mf[c(1L, m)]\n    mf$drop.unused.levels <- TRUE\n    mf[[1L]] <- quote(stats::model.frame)\n    mf <- eval(mf, parent.frame())\n    if (identical(method, \"model.frame\")) \n        return(mf)\n    if (!is.character(method) && !is.function(method)) \n        stop(\"invalid 'method' argument\")\n    if (identical(method, \"glm.fit\")) \n        control <- do.call(\"glm.control\", control)\n    mt <- attr(mf, \"terms\")\n    Y <- model.response(mf, \"any\")\n    if (length(dim(Y)) == 1L) {\n        nm <- rownames(Y)\n        dim(Y) <- NULL\n        if (!is.null(nm)) \n            names(Y) <- nm\n    }\n    X <- if (!is.empty.model(mt)) \n        model.matrix(mt, mf, contrasts)\n    else matrix(, NROW(Y), 0L)\n    weights <- as.vector(model.weights(mf))\n    if (!is.null(weights) && !is.numeric(weights)) \n        stop(\"'weights' must be a numeric vector\")\n    if (!is.null(weights) && any(weights < 0)) \n        stop(\"negative weights not allowed\")\n    offset <- as.vector(model.offset(mf))\n    if (!is.null(offset)) {\n        if (length(offset) != NROW(Y)) \n            stop(gettextf(\"number of offsets is %d should equal %d (number of observations)\", \n                length(offset), NROW(Y)), domain = NA)\n    }\n    mustart <- model.extract(mf, \"mustart\")\n    etastart <- model.extract(mf, \"etastart\")\n    fit <- eval(call(if (is.function(method)) \"method\" else method, \n        x = X, y = Y, weights = weights, start = start, etastart = etastart, \n        mustart = mustart, offset = offset, family = family, \n        control = control, intercept = attr(mt, \"intercept\") > \n            0L, singular.ok = singular.ok))\n    if (length(offset) && attr(mt, \"intercept\") > 0L) {\n        fit2 <- eval(call(if (is.function(method)) \"method\" else method, \n            x = X[, \"(Intercept)\", drop = FALSE], y = Y, mustart = fit$fitted.values, \n            weights = weights, offset = offset, family = family, \n            control = control, intercept = TRUE))\n        if (!fit2$converged) \n            warning(\"fitting to calculate the null deviance did not converge -- increase 'maxit'?\")\n        fit$null.deviance <- fit2$deviance\n    }\n    if (model) \n        fit$model <- mf\n    fit$na.action <- attr(mf, \"na.action\")\n    if (x) \n        fit$x <- X\n    if (!y) \n        fit$y <- NULL\n    structure(c(fit, list(call = cal, formula = formula, terms = mt, \n        data = data, offset = offset, control = control, method = method, \n        contrasts = attr(X, \"contrasts\"), xlevels = .getXlevels(mt, \n            mf))), class = c(fit$class, c(\"glm\", \"lm\")))\n})(formula = \"ideology ~ G+year+Field_English+q\", family = function (link = \"identity\") \n{\n    linktemp <- substitute(link)\n    if (!is.character(linktemp)) \n        linktemp <- deparse(linktemp)\n    okLinks <- c(\"inverse\", \"log\", \"identity\")\n    family <- \"gaussian\"\n    if (linktemp %in% okLinks) \n        stats <- make.link(linktemp)\n    else if (is.character(link)) {\n        stats <- make.link(link)\n        linktemp <- link\n    }\n    else {\n        if (inherits(link, \"link-glm\")) {\n            stats <- link\n            if (!is.null(stats$name)) \n                linktemp <- stats$name\n        }\n        else {\n            stop(gettextf(\"link \\\"%s\\\" not available for %s family; available links are %s\", \n                linktemp, family, paste(sQuote(okLinks), collapse = \", \")), \n                domain = NA)\n        }\n    }\n    structure(list(family = family, link = linktemp, linkfun = stats$linkfun, \n        linkinv = stats$linkinv, variance = function(mu) rep.int(1, \n            length(mu)), dev.resids = function(y, mu, wt) wt * \n            ((y - mu)^2), aic = function(y, n, mu, wt, dev) {\n            nobs <- length(y)\n            nobs * (log(dev/nobs * 2 * pi) + 1) + 2 - sum(log(wt))\n        }, mu.eta = stats$mu.eta, initialize = expression({\n            n <- rep.int(1, nobs)\n            if (is.null(etastart) && is.null(start) && is.null(mustart) && \n                ((family$link == \"inverse\" && any(y == 0)) || \n                  (family$link == \"log\" && any(y <= 0)))) stop(\"cannot find valid starting values: please specify some\")\n            mustart <- y\n        }), validmu = function(mu) TRUE, valideta = stats$valideta), \n        class = \"family\")\n}, data = structure(list(ideology = c(0.0848, 0.0848, 0.0848, \n0.0848, 0.0848, 0.0848, 0.0848, 0.0848, 0.0848, 0.0848, 0.0848, \n0.0848, 0.0848, 0.0848, 0.0848, 0.0848, 0.0848, 0.0848, 0.0848, \n0.0848, 0.0848, 0.0848, 0.0848, 0.0848, 0.0848, 0.0848, 0.0848, \n0.0848, 0.0848, 0.0848, 0.0848, 0.0848, 0.0848, 0.0848, 0.0848, \n0.0848, 0.0848, 0.0848, 0.0848, 0.0848, 0.0848, 0.0848, 0.0848, \n0.0848, 0.0848, 0.0848, 0.0848, 0.0848, 0.0848, 0.0848, 0.0848, \n0.0848, 0.0848, 0.0848, 0.0848, 0.0848, 0.0848, 0.0848, 0.0848, \n0.0848, 0.0848, 0.0848, 0.0848, 0.0848, 0.0848, 0.0848, 0.0848, \n0.0848, 0.0848, 0.0848, 0.0848, 0.0848, 0.0848, 0.0848, 0.0848, \n0.0848, 0.0848, 0.0848, 0.0848, 0.0848, 0.0848, 0.0848, 0.0848, \n0.0848, 0.0848, 0.0848, 0.0848, 0.0848, 0.0848, 0.0848, 0.0848, \n0.0848, 0.0848, 0.0848, 0.0848, 0.0848, 0.0848, 0.0848, 0.0848, \n0.0848, 0.0848, 0.0848, 0.0848, 0.0848, 0.0848, 0.0848, 0.0848, \n0.0848, 0.0848, 0.0848, 0.0848, 0.0848, 0.0848, 0.0848, 0.0848, \n0.0848, 0.0848, 0.0848, 0.0848, 0.0848, 0.0848, 0.0848, 0.0848, \n0.0848, 0.0848, 0.0848, 0.0848, 0.0848, 0.0848, 0.0848, 0.0848, \n0.0848, 0.0848, 0.0848, 0.0848, 0.0848, 0.0848, 0.0848, 0.0848, \n0.0848, 0.0848, 0.0848, 0.0848, 0.0848, 0.0848, 0.0848, 0.0848, \n0.0848, 0.0848, 0.0848, 0.0848, 0.0848, 0.0848, 0.0848, 0.0848, \n0.0848, 0.0848, 0.0848, 0.0848, 0.0848, 0.0848, 0.0848, 0.0848, \n0.0848, 0.0848, 0.0848, 0.0848, 0.0848, 0.0848, 0.0848, 0.0848, \n0.0848, 0.0848, 0.0848, 0.0848, 0.0848, 0.0848, 0.0848, 0.0848, \n0.0848, 0.0848, 0.0848, 0.0848, 0.0848, 0.0848, 0.0848, 0.0848, \n0.0848, 0.0848, 0.0848, 0.0848, 0.0848, 0.0848, 0.0848, 0.0848, \n0.0848, 0.0848, 0.0848, 0.0848, 0.0848, 0.0848, 0.0848, 0.0848, \n0.0848, 0.0848, 0.0848, 0.0848, 0.0848, 0.0848, 0.0848, 0.0848, \n0.0848, 0.0848, 0.0848, 0.0848, 0.0848, 0.0848, 0.0848, 0.0848, \n0.0848, 0.0848, 0.0848, 0.0848, 0.0848, 0.0848, 0.0848, 0.0848, \n0.0848, 0.0848, 0.0848, 0.0848, 0.0848, 0.0848, 0.0848, 0.0848, \n0.0848, 0.0848, 0.0848, 0.0848, 0.0848, 0.0848, 0.0848, 0.0848, \n0.0848, 0.0848, 0.0848, 0.0848, 0.0848, 0.0848, 0.0848, 0.0848, \n0.0848, 0.0848, 0.0848, 0.0848, 0.0848, 0.0848, 0.0848, 0.0848, \n0.0848, 0.0848, 0.0848, 0.0848, 0.0848, 0.0848, 0.0848, 0.0848, \n0.0848, 0.0848, 0.0848, 0.0848, 0.0848, 0.0848, 0.0848, 0.0848, \n0.0848, 0.0848, 0.0848, 0.0848, 0.0848, 0.0848, 0.0848, 0.0848, \n0.0848, 0.0848, 0.0848, 0.0848, 0.0848, 0.0848, 0.0848, 0.0848, \n0.0848, 0.0848, 0.0848, 0.0848, 0.0848, 0.0848, 0.0848, 0.0848, \n0.0848, 0.0848, 0.0848, 0.0848, 0.0848, 0.0848, 0.0848, 0.0848, \n0.0848, 0.0848, 0.0848, 0.0848, 0.0848, 0.0848, 0.0848, 0.0848, \n0.0848, 0.0848, 0.0848, 0.0848, 0.0848, 0.0848, 0.0848, 0.0848, \n0.0848, 0.0848, 0.0848, 0.0848, 0.0848, 0.0848, 0.0848, 0.0848, \n0.0848, 0.0848, 0.0848, 0.0848, 0.0848, 0.0848, 0.0848, 0.0848, \n0.0848, 0.0848, 0.0848, 0.0848, 0.0848, 0.0848, 0.0848, 0.0848, \n0.0848, 0.0848, 0.0848, 0.0848, 0.0848, 0.0848, 0.0848, 0.0848, \n0.0848, 0.0848, 0.0848, 0.0848, 0.0848, 0.0848, 0.0848, 0.0848, \n0.0848, 0.0848, 0.0848, 0.0848, 0.0848, 0.0848, 0.0848, 0.0848, \n0.0848, 0.0848, 0.0848, 0.0848, 0.0848, 0.0848, 0.0848, 0.0848, \n0.0848, 0.0848, 0.0848, 0.0848, 0.0848, 0.0848, 0.0848, 0.0848, \n0.0848, 0.0848, 0.0848, 0.0848, 0.0848, 0.0848, 0.0848, 0.0848, \n0.0848, 0.0848, 0.0848, 0.0848, 0.0848, 0.0848, 0.0848, 0.0848, \n0.0848, 0.0848, 0.0848, 0.0848, 0.0848, 0.0848, 0.0848, 0.0848, \n0.0848, 0.0848, 0.0848, 0.0848, 0.0848, 0.0848, 0.0848, 0.0848, \n0.0848, 0.0848, 0.0848, 0.0848, 0.0848, 0.0848, 0.0848, 0.0848, \n0.0848, 0.0848, 0.0848, 0.0848, 0.0848, 0.0848, 0.0848, 0.0848, \n0.0848, 0.0848, 0.0848, 0.0848, 0.0848, 0.0848, 0.0848, 0.0848, \n0.0848, 0.0848, 0.0848, 0.0848, 0.0848, 0.0848, 0.0848, 0.0848, \n0.0848, 0.0848, 0.0848, 0.0848, 0.0848, 0.0848, 0.0848, 0.0848, \n0.0848, 0.0848, 0.0848, 0.0848, 0.0848, 0.0848, 0.0848, 0.0848, \n0.0848, 0.0848, 0.0848, 0.0848, 0.0848, 0.0848, 0.0848, 0.0848, \n0.0848, 0.0848, 0.0848, 0.0848, 0.0848, 0.0848, 0.0848, 0.0848, \n0.0848, 0.0848, 0.0848, 0.0848, 0.0848, 0.0848, 0.0848, 0.0848, \n0.0848, 0.0848, 0.0848, 0.0848, 0.0848, 0.0848, 0.0848, 0.0848, \n0.0848, 0.0848, 0.0848, 0.0848, 0.0848, 0.0848, 0.0848, 0.0848, \n0.0848, 0.0848, 0.0848, 0.0848, 0.0848, 0.0848, 0.0848, 0.0848, \n0.0848, 0.0848, 0.0848, 0.0848, 0.0848, 0.0848, 0.0848, 0.0848, \n0.0848, 0.0848, 0.0848, 0.0848, 0.0848, 0.0848, 0.0848, 0.0848, \n0.0848, 0.0848, 0.0848, 0.0848, 0.0848, 0.0848, 0.0848, 0.0848, \n0.0848, 0.0848, 0.0848, 0.0848, 0.0848, 0.0848, 0.0848, 0.0848, \n0.0848, 0.0848, 0.0848, 0.0848, 0.0848, 0.0848, 0.0848, 0.0848, \n0.0848, 0.0848, 0.0848, 0.0848, 0.0848, 0.0848, 0.0848, 0.0848, \n0.0848, 0.0848, 0.0848, 0.0848, 0.0848, 0.0848, 0.0848, 0.0848, \n0.0848, 0.0848, 0.0848, 0.0848, 0.0848, 0.0848, 0.0848, 0.0848, \n0.0848, 0.0848, 0.0848, 0.0848, 0.0848, 0.0848, 0.0848, 0.0848, \n0.0848, 0.0848, 0.0848, 0.0848, 0.0848, 0.0848, 0.0848, 0.0848, \n0.0848, 0.0848, 0.0848, 0.0848, 0.0848, 0.0848, 0.0848, 0.0848, \n0.0848, 0.0848, 0.0848, 0.0848, 0.0848, 0.0848, 0.0848, 0.0848, \n0.0848, 0.0848, 0.0848, 0.0848, 0.0848, 0.0848, 0.0848, 0.0848, \n0.0848, 0.0848, 0.0848, 0.0848, 0.0848, 0.0848, 0.0848, 0.0848, \n0.0848, 0.0848, 0.0848, 0.0848, 0.0848, 0.0848, 0.0848, 0.0848, \n0.0848, 0.0848, 0.0848, 0.0848, 0.0848, 0.0848, 0.0848, 0.0848, \n0.0848, 0.0848, 0.0848, 0.0848, 0.0848, 0.0848, 0.0848, 0.0848, \n0.0848, 0.0848, 0.0848, 0.0848, 0.0848, 0.0848, 0.0848, 0.0848, \n0.0848, 0.0848, 0.0848, 0.0848, 0.0848, 0.0848, 0.0848, 0.0848, \n0.0848, 0.0848, 0.0848, 0.0848, 0.0848, 0.0848, 0.0848, 0.0848, \n0.0848, 0.0848, 0.0848, 0.0848, 0.0848, 0.0848, 0.0848, 0.0848, \n0.0848, 0.0848, 0.0848, 0.0848, 0.0848, 0.0848, 0.0848, 0.0848, \n0.0848, 0.0848, 0.0848, 0.0848, 0.0848, 0.0848, 0.0848, 0.0848, \n0.0848, 0.0848, 0.0848, 0.0848, 0.0848, 0.0848, 0.0848, 0.0848, \n0.0848, 0.0848, 0.0848, 0.0848, 0.0848, 0.0848, 0.0848, 0.0848, \n0.0848, 0.0848, 0.0848, 0.0848, 0.0848, 0.0848, 0.0848, 0.0848, \n0.0848, 0.0848, 0.0848, 0.0848, 0.0848, 0.0848, 0.0848, 0.0848, \n0.0848, 0.0848, 0.0848, 0.0848, 0.0848, 0.0848, 0.0848, 0.0848, \n0.0848, 0.0848, 0.0848, 0.0848, 0.0848, 0.0848, 0.0848, 0.0848, \n0.0848, 0.0848, 0.0848, 0.0848, 0.0848, 0.0848, 0.0848, 0.0848, \n0.0848, 0.0848, 0.0848, 0.0848, 0.0848, 0.0848, 0.0848, 0.0848, \n0.0848, 0.0848, 0.0848, 0.0848, 0.0848, 0.0848, 0.0848, 0.0848, \n0.0848, 0.0848, 0.0848, 0.0848, 0.0848, 0.0848, 0.0848, 0.0848, \n0.0848, 0.0848, 0.0848, 0.0848, 0.0848, 0.0848, 0.0848, 0.0848, \n0.0848, 0.0848, 0.0848, 0.0848, 0.0848, 0.0848, 0.0848, 0.0848, \n0.0848, 0.0848, 0.0848, 0.0848, 0.0848, 0.0848, 0.0848, 0.0848, \n0.0848, 0.0848, 0.0848, 0.0848, 0.0848, 0.0848, 0.0848, 0.0848, \n0.0848, 0.0848, 0.0848, 0.0848, 0.0848, 0.0848, 0.0848, 0.0848, \n0.0848, 0.0848, 0.0848, 0.0848, 0.0848, 0.0848, 0.0848, 0.0848, \n0.0848, 0.0848, 0.0848, 0.0848, 0.0848, 0.0848, 0.0848, 0.0848, \n0.0848, 0.0848, 0.0848, 0.0848, 0.0848, 0.0848, 0.0848, 0.0848, \n0.0848, 0.0848, 0.0848, 0.0848, 0.0848, 0.0848, 0.0848, 0.0848, \n0.0848, 0.0848, 0.0848, 0.0848, 0.0848, 0.0848, 0.0848, 0.0848, \n0.0848, 0.0848, 0.0848, 0.0848, 0.0848, 0.0848, 0.0848, 0.0848, \n0.0848, 0.0848, 0.0848, 0.0848, 0.0848, 0.0848, 0.0848, 0.0848, \n0.0848, 0.0848, 0.0848, 0.0848, 0.0848, 0.0848, 0.0848, 0.0848, \n0.0848, 0.0848, 0.0848, 0.0848, 0.0848, 0.0848, 0.0848, 0.0848, \n0.0848, 0.0848, 0.0848, 0.0848, 0.0848, 0.0848, 0.0848, 0.0848, \n0.0848, 0.0848, 0.0848, 0.0848, 0.0848, 0.0848, 0.0848, 0.0848, \n0.0848, 0.0848, 0.0848, 0.0848, 0.0848, 0.0848, 0.0848, 0.0848, \n0.0848, 0.0848, 0.0848, 0.0848, 0.0848, 0.0848, 0.0848, 0.0848, \n0.0848, 0.0848, 0.0848, 0.0848, 0.0848, 0.0848, 0.0848, 0.0848, \n0.0848, 0.0848, 0.0848, 0.0848, 0.0848, 0.0848, 0.0848, 0.0848, \n0.0848, 0.0848, 0.0848, 0.0848, 0.0848, 0.0848, 0.0848, 0.0848, \n0.0848, 0.0848, 0.0848, 0.0848, 0.0848, 0.0848, 0.0848, 0.0848, \n0.0848, 0.0848, 0.0848, 0.0848, 0.0848, 0.0848, 0.0848, 0.0848, \n0.0848, 0.0848, 0.0848, 0.0848, 0.0848, 0.0848, 0.0848, 0.0848, \n0.0848, 0.0848, 0.0848, 0.0848, 0.0848, 0.0848, 0.0848, 0.0848, \n0.0848, 0.0848, 0.0848, 0.0848, 0.0848, 0.0848, 0.0848, 0.0848, \n0.0848, 0.0848, 0.0848, 0.0848, 0.0848, 0.0848, 0.0848, 0.0848, \n0.0848, 0.0848, 0.0848, 0.0848, 0.0848, 0.0848, 0.0848, 0.0848, \n0.0848, 0.0848, 0.0848, 0.0848, 0.0848, 0.0848, 0.0848, 0.0848, \n0.0848, 0.0848, 0.0848, 0.0848, 0.0848, 0.0848, 0.0848, 0.0848, \n0.0848, 0.0848, 0.0848, 0.0848, 0.0848, 0.0848, 0.0848, 0.0848, \n0.0848, 0.0848, 0.0848, 0.0848, 0.0848, 0.0848, 0.0848, 0.0848, \n0.0848, 0.0848, 0.0848, 0.0848, 0.0848, 0.0848, 0.0848, 0.0848, \n0.0848, 0.0848, 0.0848, 0.0848, 0.0848, 0.0848, 0.0848, 0.0848, \n0.0848, 0.0848, 0.0848, 0.0848, 0.0848, 0.0848, 0.0848, 0.0848, \n0.0848, 0.0848, 0.0848, 0.0848, 0.0848, 0.0848, 0.0848, 0.0848, \n0.0848, 0.0848, 0.0848, 0.0848, 0.0848, 0.0848, 0.0848, 0.0848, \n0.0848, 0.0848, 0.0848, 0.0848, 0.0848, 0.0848, 0.0848, 0.0848, \n0.0848, 0.0848, 0.0848, 0.0848, 0.0848, 0.0848, 0.0848, 0.0848, \n0.0848, 0.0848, 0.0848, 0.0848, 0.0848, 0.0848, 0.0848, 0.0848, \n0.0848, 0.0848, 0.0848, 0.0848, 0.0848, 0.0848, 0.0848, 0.0848, \n0.0848, 0.0848, 0.0848, 0.0848, 0.0848, 0.0848, 0.0848, 0.0848, \n0.0848, 0.0848, 0.0848, 0.0848, 0.0848, 0.0848, 0.0848, 0.0848, \n0.0848, 0.0848, 0.0848, 0.0848, 0.0848, 0.0848, 0.0848, 0.0848, \n0.0848, 0.0848, 0.0848, 0.0848, 0.0848, 0.0848, 0.0848, 0.0848, \n0.0848, 0.0848, 0.0848, 0.0848, 0.0848, 0.0848, 0.0848, 0.0848, \n0.0848, 0.0848, 0.0848, 0.0848, 0.0848, 0.0848, 0.0848, 0.0848, \n0.0848, 0.0848, 0.0848, 0.0848, 0.0848, 0.0848, 0.0848, 0.0848, \n0.0848, 0.0848, 0.0848, 0.0848, 0.0848, 0.0848, 0.0848, 0.0848, \n0.0848, 0.0848, 0.0848, 0.0848, 0.0848, 0.0848, 0.0848, 0.0848, \n0.0848, 0.0848, 0.0848, 0.0848, 0.0848, 0.0848, 0.0848, 0.0848, \n0.0848, 0.0848, 0.0848, 0.0848, 0.0848, 0.0848, 0.0848, 0.0848, \n0.0848, 0.0848, 0.0848, 0.0848, 0.0848, 0.0848, 0.0848, 0.0848, \n0.0848, 0.0848, 0.0848, 0.0848, 0.0848, 0.0848, 0.0848, 0.0848, \n0.0848, 0.0848, 0.0848, 0.0848, 0.0848, 0.0848, 0.0848, 0.0848, \n0.0848, 0.0848, 0.0848, 0.0848, 0.0848, 0.0848, 0.0848, 0.0848, \n0.0848, 0.0848, 0.0848, 0.0848, 0.0848, 0.0848, 0.0848, 0.0848, \n0.0848, 0.0848, 0.0848, 0.0848, 0.0848, 0.0848, 0.0848, 0.0848, \n0.0848, 0.0848, 0.0848, 0.0848, 0.0848, 0.0848, 0.0848, 0.0848, \n0.0848, 0.0848, 0.0848, 0.0848, 0.0848, 0.0848, 0.0848, 0.0848, \n0.0848, 0.0848, 0.0848, 0.0848, 0.0848, 0.0848, 0.0848, 0.0848, \n0.0848, 0.0848, 0.0848, 0.0848, 0.0848, 0.0848, 0.0848, 0.0848, \n0.0848, 0.0848, 0.0848, 0.0848, 0.0848, 0.0848, 0.0848, 0.0848, \n0.0848, 0.0848, 0.0848, 0.0848, 0.0848, 0.0848, 0.0848, 0.0848, \n0.0848, 0.0848, 0.0848, 0.0848, 0.0848, 0.0848, 0.0848, 0.0848, \n0.0848, 0.0848, 0.0848, 0.0848, 0.0848, 0.0848, 0.0848, 0.0848, \n0.0848, 0.0848, 0.0848, 0.0848, 0.0848, 0.0848, 0.0848, 0.0848, \n0.0848, 0.0848, 0.0848, 0.0848, 0.0848, 0.0848, 0.0848, 0.0848, \n0.0848, 0.0848, 0.0848, 0.0848, 0.0848, 0.0848, 0.0848, 0.0848, \n0.0848, 0.0848, 0.0848, 0.0848, 0.0848, 0.0848, 0.0848, 0.0848, \n0.0848, 0.0848, 0.0848, 0.0848, 0.0848, 0.0848, 0.0848, 0.0848, \n0.0848, 0.0848, 0.0848, 0.0848, 0.0848, 0.0848, 0.0848, 0.0848, \n0.0848, 0.0848, 0.0848, 0.0848, 0.0848, 0.0848, 0.0848, 0.0848, \n0.0848, 0.0848, 0.0848, 0.0848, 0.0848, 0.0848, 0.0848, 0.0848, \n0.0848, 0.0848, 0.0848, 0.0848, 0.0848, 0.0848, 0.0848, 0.0848, \n0.0848, 0.0848, 0.0848, 0.0848, 0.0848, 0.0848, 0.0848, 0.0848, \n0.0848, 0.0848, 0.0848, 0.0848, 0.0848, 0.0848, 0.0848, 0.0848, \n0.0848, 0.0848, 0.0848, 0.0848, 0.0848, 0.0848, 0.0848, 0.0848, \n0.0848, 0.0848, 0.0848, 0.0848, 0.0848, 0.0848, 0.0848, 0.0848, \n0.0848, 0.0848, 0.0848, 0.0848, 0.0848, 0.0848, 0.0848, 0.0848, \n0.0848, 0.0848, 0.0848, 0.0848, 0.0848, 0.0848, 0.0848, 0.0848, \n0.0848, 0.0848, 0.0848, 0.0848, 0.0848, 0.0848, 0.0848, 0.0848, \n0.0848, 0.0848, 0.0848, 0.0848, 0.0848, 0.0848, 0.0848, 0.0848, \n0.0848, 0.0848, 0.0848, 0.0848, 0.0848, 0.0848, 0.0848, 0.0848, \n0.0848, 0.0848, 0.0848, 0.0848, 0.0848, 0.0848, 0.0848, 0.0848, \n0.0848, 0.0848, 0.0848, 0.0848, 0.0848, 0.0848, 0.0848, 0.0848, \n0.0848, 0.0848, 0.0848, 0.0848, 0.0848, 0.0848, 0.0848, 0.0848, \n0.0848, 0.0848, 0.0848, 0.0848, 0.0848, 0.0848, 0.0848, 0.0848, \n0.0848, 0.0848, 0.0848, 0.0848, 0.0848, 0.0848, 0.0848, 0.0848, \n0.0848, 0.0848, 0.0848, 0.0848, 0.0848, 0.0848, 0.0848, 0.0848, \n0.0848, 0.0848, 0.0848, 0.0848, 0.0848, 0.0848, 0.0848, 0.0848, \n0.0848, 0.0848, 0.0848, 0.0848, 0.0848, 0.0848, 0.0848, 0.0848, \n0.0848, 0.0848, 0.0848, 0.0848, 0.0848, 0.0848, 0.0848, 0.0848, \n0.0848, 0.0848, 0.0848, 0.0848, 0.0848, 0.0848, 0.0848, 0.0848, \n0.0848, 0.0848, 0.0848, 0.0848, 0.0848, 0.0848, 0.0848, 0.0848, \n0.0848, 0.0848, 0.0848, 0.0848, 0.0848, 0.0848, 0.0848, 0.0848, \n0.0848, 0.0848, 0.0848, 0.0848, 0.0848, 0.0848, 0.0848, 0.0848, \n0.0848, 0.0848, 0.0848, 0.0848, 0.0848, 0.0848, 0.0848, 0.0848, \n0.0848, 0.0848, 0.0848, 0.0848, 0.0848, 0.0848, 0.0848, 0.0848, \n0.0848, 0.0848, 0.0848, 0.0848, 0.0848, 0.0848, 0.0848, 0.0848, \n0.0848, 0.0848, 0.0848, 0.0848, 0.0848, 0.0848, 0.0848, 0.0848, \n0.0848, 0.0848, 0.0848, 0.0848, 0.0848, 0.0848, 0.0848, 0.0848, \n0.0848, 0.0848, 0.0848, 0.0848, 0.0848, 0.0848, 0.0848, 0.0848, \n0.0848, 0.0848, 0.0848, 0.0848, 0.0848, 0.0848, 0.0848, 0.0848, \n0.0848, 0.0848, 0.0848, 0.0848, 0.0848, 0.0848, 0.0848, 0.0848, \n0.0848, 0.0848, 0.0848, 0.0848, 0.0848, 0.0848, 0.0848, 0.0848, \n0.0848, 0.0848, 0.0848, 0.0848, 0.0848, 0.0848, 0.0848, 0.0848, \n0.0848, 0.0848, 0.0848, 0.0848, 0.0848, 0.0848, 0.0848, 0.0848, \n0.0848, 0.0848, 0.0848, 0.0848, 0.0848, 0.0848, 0.0848, 0.0848, \n0.0848, 0.0848, 0.0848, 0.0848, 0.0848, 0.0848, 0.0848, 0.0848, \n0.0848, 0.0848, 0.0848, 0.0848, 0.0848, 0.0848, 0.0848, 0.0848, \n0.0848, 0.0848, 0.0848, 0.0848, 0.0848, 0.0848, 0.0848, 0.0848, \n0.0848, 0.0848, 0.0848, 0.0848, 0.0848, 0.0848, 0.0848, 0.0848, \n0.0848, 0.0848, 0.0848, 0.0848, 0.0848, 0.0848, 0.0848, 0.0848, \n0.0848, 0.0848, 0.0848, 0.0848, 0.0848, 0.0848, 0.0848, 0.0848, \n0.0848, 0.0848, 0.0848, 0.0848, 0.0848, 0.0848, 0.0848, 0.0848, \n0.0848, 0.0848, 0.0848, 0.0848, 0.0848, 0.0848, 0.0848, 0.0848, \n0.0848, 0.0848, 0.0848, 0.0848, 0.0848, 0.0848, 0.0848, 0.0848, \n0.0848, 0.0848, 0.0848, 0.0848, 0.0848, 0.0848, 0.0848, 0.0848, \n0.0848, 0.0848, 0.0848, 0.0848, 0.0848, 0.0848, 0.0848, 0.0848, \n0.0848, 0.0848, 0.0848, 0.0848, 0.0848, 0.0848, 0.0848, 0.0848, \n0.0848, 0.0848, 0.0848, 0.0848, 0.0848, 0.0848, 0.0848, 0.0848, \n0.0848, 0.0848, 0.0848, 0.0848, 0.0848, 0.0848, 0.0848, 0.0848, \n0.0848, 0.0848, 0.0848, 0.0848, 0.0848, 0.0848, 0.0848, 0.0848, \n0.0848, 0.0848, 0.0848, 0.0848, 0.0848, 0.0848, 0.0848, 0.0848, \n0.0848, 0.0848, 0.0848, 0.0848, 0.0848, 0.0848, 0.0848, 0.0848, \n0.0848, 0.0848, 0.0848, 0.0848, 0.0848, 0.0848, 0.0848, 0.0848, \n0.0848, 0.0848, 0.0848, 0.0848, 0.0848, 0.0848, 0.0848, 0.0848, \n0.0848, 0.0848, 0.0848, 0.0848, 0.0848, 0.0848, 0.0848, 0.0848, \n0.0848, 0.0848, 0.0848, 0.0848, 0.0848, 0.0848, 0.0848, 0.0848, \n0.0848, 0.0848, 0.0848, 0.0848, 0.0848, 0.0848, 0.0848, 0.0848, \n0.0848, 0.0848, 0.0848, 0.0848, 0.0848, 0.0848, 0.0848, 0.0848, \n0.0848, 0.0848, 0.0848, 0.0848, 0.0848, 0.0848, 0.0848, 0.0848, \n0.0848, 0.0848, 0.0848, 0.0848, 0.0848, 0.0848, 0.0848, 0.0848, \n0.0848, 0.0848, 0.0848, 0.0848, 0.0848, 0.0848, 0.0848, 0.0848, \n0.0848, 0.0848, 0.0848, 0.0848, 0.0848, 0.0848, 0.0848, 0.0848, \n0.0848, 0.0848, 0.0848, 0.0848, 0.0848, 0.0848, 0.0848, 0.0848, \n0.0848, 0.0848, 0.0848, 0.0848, 0.0848, 0.0848, 0.0848, 0.0848, \n0.0848, 0.0848, 0.0848, 0.0848, 0.0848, 0.0848, 0.0848, 0.0848, \n0.0848, 0.0848, 0.0848, 0.0848, 0.0848, 0.0848, 0.0848, 0.0848, \n0.0848, 0.0848, 0.0848, 0.0848, 0.0848, 0.0848, 0.0848, 0.0848, \n0.0848, 0.0848, 0.0848, 0.0848, 0.0848, 0.0848, 0.0848, 0.0848, \n0.0848, 0.0848, 0.0848, 0.0848, 0.0848, 0.0848, 0.0848, 0.0848, \n0.0848, 0.0848, 0.0848, 0.0848, 0.0848, 0.0848, 0.0848, 0.0848, \n0.0848, 0.0848, 0.0848, 0.0848, 0.0848, 0.0848, 0.0848, 0.0848, \n0.0848, 0.0848, 0.0848, 0.0848, 0.0848, 0.0848, 0.0848, 0.0848, \n0.0848, 0.0848, 0.0848, 0.0848, 0.0848, 0.0848, 0.0848, 0.0848, \n0.0848, 0.0848, 0.0848, 0.0848, 0.0848, 0.0848, 0.0848, 0.0848, \n0.0848, 0.0848, 0.0848, 0.0848, 0.0848, 0.0848, 0.0848, 0.0848, \n0.0848, 0.0848, 0.0848, 0.0848, 0.0848, 0.0848, 0.0848, 0.0848, \n0.0848, 0.0848, 0.0848, 0.0848, 0.0848, 0.0848, 0.0848, 0.0848, \n0.0848, 0.0848, 0.0848, 0.0848, 0.0848, 0.0848, 0.0848, 0.0848, \n0.0848, 0.0848, 0.0848, 0.0848, 0.0848, 0.0848, 0.0848, 0.0848, \n0.0848, 0.0848, 0.0848, 0.0848, 0.0848, 0.0848, 0.0848, 0.0848, \n0.0848, 0.0848, 0.0848, 0.0848, 0.0848, 0.0848, 0.0848, 0.0848, \n0.0848, 0.0848, 0.0848, 0.0848, 0.0848, 0.0848, 0.0848, 0.0848, \n0.0848, 0.0848, 0.0848, 0.0848, 0.0848, 0.0848, 0.0848, 0.0848, \n0.0848, 0.0848, 0.0848, 0.0848, 0.0848, 0.0848, 0.0848, 0.0848, \n0.0848, 0.0848, 0.0848, 0.0848, 0.0848, 0.0848, 0.0848, 0.0848, \n0.0848, 0.0848, 0.0848, 0.0848, 0.0848, 0.0848, 0.0848, 0.0848, \n0.0848, 0.0848, 0.0848, 0.0848, 0.0848, 0.0848, 0.0848, 0.0848, \n0.0848, 0.0848, 0.0848, 0.0848, 0.0848, 0.0848, 0.0848, 0.0848, \n0.0848, 0.0848, 0.0848, 0.0848, 0.0848, 0.0848, 0.0848, 0.0848, \n0.0848, 0.0848, 0.0848, 0.0848, 0.0848, 0.0848, 0.0848, 0.0848, \n0.0848, 0.0848, 0.0848, 0.0848, 0.0848, 0.0848, 0.0848, 0.0848, \n0.0848, 0.0848, 0.0848, 0.0848, 0.0848, 0.0848, 0.0848, 0.0848, \n0.0848, 0.0848, 0.0848, 0.0848, 0.0848, 0.0848, 0.0848, 0.0848, \n0.0848, 0.0848, 0.0848, 0.0848, 0.0848, 0.0848, 0.0848, 0.0848, \n0.0848, 0.0848, 0.0848, 0.0848, 0.0848, 0.0848, 0.0848, 0.0848, \n0.0848, 0.0848, 0.0848, 0.0848, 0.0848, 0.0848, 0.0848, 0.0848, \n0.0848, 0.0848, 0.0848, 0.0848, 0.0848, 0.0848, 0.0848, 0.0848, \n0.0848, 0.0848, 0.0848, 0.0848, 0.0848, 0.0848, 0.0848, 0.0848, \n0.0848, 0.0848, 0.0848, 0.0848, 0.0848, 0.0848, 0.0848, 0.0848, \n0.0848, 0.0848, 0.0848, 0.0848, 0.0848, 0.0848, 0.0848, 0.0848, \n0.0848, 0.0848, 0.0848, 0.0848, 0.0848, 0.0848, 0.0848, 0.0848, \n0.0848, 0.0848, 0.0848, 0.0848, 0.0848, 0.0848, 0.0848, 0.0848, \n0.0848, 0.0848, 0.0848, 0.0848, 0.0848, 0.0848, 0.0848, 0.0848, \n0.0848, 0.0848, 0.0848, 0.0848, 0.0848, 0.0848, 0.0848, 0.0848, \n0.0848, 0.0848, 0.0848, 0.0848, 0.0848, 0.0848, 0.0848, 0.0848, \n0.0848, 0.0848, 0.0848, 0.0848, 0.0848, 0.0848, 0.0848, 0.0848, \n0.0848, 0.0848, 0.0848, 0.0848, 0.0848, 0.0848, 0.0848, 0.0848, \n0.0848, 0.0848, 0.0848, 0.0848, 0.0848, 0.0848, 0.0848, 0.0848, \n0.0848, 0.0848, 0.0848, 0.0848, 0.0848, 0.0848, 0.0848, 0.0848, \n0.0848, 0.0848, 0.0848, 0.0848, 0.0848, 0.0848, 0.0848, 0.0848, \n0.0848, 0.0848, 0.0848, 0.0848, 0.0848, 0.0848, 0.0848, 0.0848, \n0.0848, 0.0848, 0.0848, 0.0848, 0.0848, 0.0848, 0.0848, 0.0848, \n0.0848, 0.0848, 0.0848, 0.0848, 0.0848, 0.0848, 0.0848, 0.0848, \n0.0848, 0.0848, 0.0848, 0.0848, 0.0848, 0.0848, 0.0848, 0.0848, \n0.0848, 0.0848, 0.0848, 0.0848, 0.0848, 0.0848, 0.0848, 0.0848, \n0.0848, 0.0848, 0.0848, 0.0848, 0.0848, 0.0848, 0.0848, 0.0848, \n0.0848, 0.0848, 0.0848, 0.0848, 0.0848, 0.0848, 0.0848, 0.0848, \n0.0848, 0.0848, 0.0848, 0.0848, 0.0848, 0.0848, 0.0848, 0.0848, \n0.0848, 0.0848, 0.0848, 0.0848, 0.0848, 0.0848, 0.0848, 0.0848, \n0.0848, 0.0848, 0.0848, 0.0848, 0.0848, 0.0848, 0.0848, 0.0848, \n0.0848, 0.0848, 0.0848, 0.0848, 0.0848, 0.0848, 0.0848, 0.0848, \n0.0848, 0.0848, 0.0848, 0.0848, 0.0848, 0.0848, 0.0848, 0.0848, \n0.0848, 0.0848, 0.0848, 0.0848, 0.0848, 0.0848, 0.0848, 0.0848, \n0.0848, 0.0848, 0.0848, 0.0848, 0.0848, 0.0848, 0.0848, 0.0848, \n0.0848, 0.0848, 0.0848, 0.0848, 0.0848, 0.0848, 0.0848, 0.0848, \n0.0848, 0.0848, 0.0848, 0.0848, 0.0848, 0.0848, 0.0848, 0.0848, \n0.0848, 0.0848, 0.0848, 0.0848, 0.0848, 0.0848, 0.0848, 0.0848, \n0.0848, 0.0848, 0.0848, 0.0848, 0.0848, 0.0848, 0.0848, 0.0848, \n0.0848, 0.0848, 0.0848, 0.0848, 0.0848, 0.0848, 0.0848, 0.0848, \n0.0848, 0.0848, 0.0848, 0.0848, 0.0848, 0.0848, 0.0848, 0.0848, \n0.0848, 0.0848, 0.0848, 0.0848, 0.0848, 0.0848, 0.0848, 0.0848, \n0.0848, 0.0848, 0.0848, 0.0848, 0.0848, 0.0848, 0.0848, 0.0848, \n0.0848, 0.0848, 0.0848, 0.0848, 0.0848, 0.0848, 0.0848, 0.0848, \n0.0848, 0.0848, 0.0848, 0.0848, 0.0848, 0.0848, 0.0848, 0.0848, \n0.0848, 0.0848, 0.0848, 0.0848, 0.0848, 0.0848, 0.0848, 0.0848, \n0.0848, 0.0848, 0.0848, 0.0848, 0.0848, 0.0848, 0.08\n\n*** WARNING: max output size exceeded, skipping output. ***\n\n640\", \"363641\", \"363642\", \n\"363643\", \"363644\", \"363645\", \"363646\", \"363647\", \"363648\", \"363649\", \n\"363650\", \"363651\", \"363652\", \"363653\", \"363654\", \"363655\", \"363656\", \n\"363657\", \"363658\", \"363677\", \"363678\", \"363679\", \"363680\", \"363681\", \n\"363682\", \"363683\", \"363684\", \"363685\", \"363686\", \"363687\", \"363688\", \n\"363689\", \"363690\", \"363691\", \"363692\", \"363693\", \"363694\", \"363695\", \n\"363696\", \"363697\", \"363698\", \"363699\", \"363700\", \"363701\", \"363702\", \n\"363703\", \"363704\", \"363705\", \"363706\", \"363707\", \"363708\", \"363709\", \n\"363710\", \"363711\", \"363712\", \"363713\", \"363714\", \"363715\", \"363716\", \n\"363717\", \"363718\", \"363719\", \"363720\", \"363721\", \"363722\", \"363723\", \n\"363724\", \"363725\", \"363726\", \"363727\", \"363728\", \"363729\", \"363730\", \n\"363731\", \"363732\", \"363733\", \"363734\", \"363735\", \"363736\", \"363737\", \n\"363738\", \"363739\", \"363740\", \"363741\", \"363742\", \"363743\", \"363744\", \n\"363745\", \"363746\", \"363747\", \"363748\", \"363749\", \"363750\", \"363751\", \n\"363752\", \"363753\", \"363754\", \"363755\", \"363756\", \"363757\", \"363758\", \n\"363759\", \"363760\", \"363761\", \"363762\", \"363763\", \"363764\", \"363765\", \n\"363766\", \"363767\", \"363768\", \"363769\", \"363770\", \"363771\", \"363772\", \n\"363773\", \"363774\", \"363775\", \"363776\", \"363777\", \"363778\", \"363779\", \n\"363780\", \"363781\", \"363782\", \"363783\", \"363784\", \"363785\", \"363786\", \n\"363787\", \"363788\", \"363789\", \"363790\", \"363791\", \"363792\", \"363793\", \n\"363794\", \"363795\", \"363796\", \"363797\", \"363798\", \"363799\", \"363800\", \n\"363801\", \"363802\", \"363803\", \"363804\", \"363805\", \"363806\", \"363807\", \n\"363808\", \"363809\", \"363810\", \"363811\", \"363812\", \"363813\", \"363814\", \n\"363815\", \"363816\", \"363817\", \"363818\", \"363819\", \"363820\", \"363821\", \n\"363822\", \"363823\", \"363824\", \"363825\", \"363826\", \"363827\", \"363828\", \n\"363829\", \"363830\", \"363831\", \"363832\", \"363833\", \"363834\", \"363835\", \n\"363836\", \"363837\", \"363838\", \"363839\", \"363840\", \"363841\", \"363842\", \n\"363843\", \"363844\", \"363845\", \"363846\", \"363847\", \"363848\", \"363849\", \n\"363850\", \"363851\", \"363852\", \"363853\", \"363854\", \"363855\", \"363856\", \n\"363857\", \"363858\", \"363859\", \"363860\", \"363861\", \"363862\", \"363863\", \n\"363864\", \"363865\", \"363866\", \"363867\", \"363868\", \"363869\", \"363870\", \n\"363871\", \"363872\", \"363873\", \"363874\", \"363875\", \"363876\", \"363877\", \n\"363878\", \"363879\", \"363880\", \"363881\", \"363882\", \"363883\", \"363884\", \n\"363885\", \"363886\", \"363887\", \"363888\", \"363889\", \"363890\", \"363891\", \n\"363892\", \"363893\", \"363894\", \"363895\", \"363896\", \"363897\", \"363898\", \n\"363899\", \"363900\", \"363901\", \"363902\", \"363903\", \"363904\", \"363905\", \n\"363906\", \"363907\", \"363908\", \"363909\", \"363910\", \"363911\", \"363912\", \n\"363913\", \"363914\", \"363915\", \"363916\", \"363917\", \"363918\", \"363919\", \n\"363920\", \"363921\", \"363922\", \"363923\", \"363924\", \"363925\", \"363926\", \n\"363927\", \"363928\", \"363929\", \"363930\", \"363931\", \"363932\", \"363933\", \n\"363934\", \"363935\", \"363936\", \"363937\", \"363938\", \"363939\", \"363940\", \n\"363941\", \"363942\", \"363943\", \"363944\", \"363945\", \"363946\", \"363947\", \n\"363948\", \"363949\", \"363950\", \"363951\", \"363952\", \"363953\", \"363954\", \n\"363955\", \"363956\", \"363957\", \"363958\", \"363959\", \"363960\", \"363961\", \n\"363962\", \"363963\", \"363964\", \"363965\", \"363966\", \"363967\", \"363968\", \n\"363969\", \"363970\", \"363971\", \"363972\", \"363973\", \"363974\", \"363975\", \n\"363976\", \"363977\", \"363978\", \"363979\", \"363980\", \"363981\", \"363982\", \n\"363983\", \"363984\", \"363985\", \"363986\", \"363987\", \"363988\", \"363989\", \n\"363990\", \"363991\", \"363992\", \"363993\", \"363994\", \"363995\", \"363996\", \n\"363997\", \"363998\", \"363999\", \"364000\", \"364001\", \"364002\", \"364003\", \n\"364004\", \"364005\", \"364006\", \"364007\", \"364008\", \"364009\", \"364010\", \n\"364011\", \"364012\", \"364013\", \"364014\", \"364015\", \"364016\", \"364017\", \n\"364018\", \"364019\", \"364020\", \"364021\", \"364022\", \"364023\", \"364024\", \n\"364025\", \"364026\", \"364027\", \"364028\", \"364029\", \"364030\", \"364031\", \n\"364032\", \"364033\", \"364034\", \"364035\", \"364036\", \"364037\", \"364038\", \n\"364039\", \"364040\", \"364041\", \"364042\", \"364043\", \"364044\", \"364045\", \n\"364046\", \"364047\", \"364048\", \"364049\", \"364050\", \"364051\", \"364052\", \n\"364053\", \"364054\", \"364055\", \"364056\", \"364057\", \"364058\", \"364059\", \n\"364060\", \"364061\", \"364062\", \"364063\", \"364064\", \"364065\", \"364066\", \n\"364067\", \"364068\", \"364069\", \"364070\", \"364071\", \"364072\", \"364073\", \n\"364074\", \"364075\", \"364076\", \"364077\", \"364078\", \"364079\", \"364080\", \n\"364081\", \"364082\", \"364083\", \"364084\", \"364085\", \"364086\", \"364087\", \n\"364088\", \"364089\", \"364090\", \"364091\", \"364092\", \"364093\", \"364094\", \n\"364095\", \"364096\", \"364097\", \"364098\", \"364099\", \"364100\", \"364101\", \n\"364102\", \"364103\", \"364104\", \"364105\", \"364106\", \"364107\", \"364108\", \n\"364109\", \"364110\", \"364111\", \"364112\", \"364113\", \"364114\", \"364115\", \n\"364116\", \"364117\", \"364118\", \"364119\", \"364120\", \"364121\", \"364122\", \n\"364123\", \"364124\", \"364125\", \"364126\", \"364127\", \"364128\", \"364129\", \n\"364130\", \"364131\", \"364132\", \"364133\", \"364134\", \"364135\", \"364136\", \n\"364137\", \"364138\", \"364139\", \"364140\", \"364141\", \"364142\", \"364143\", \n\"364144\", \"364145\", \"364146\", \"364147\", \"364148\", \"364149\", \"364150\", \n\"364151\", \"364152\", \"364153\", \"364154\", \"364155\", \"364156\", \"364157\", \n\"364158\", \"364159\", \"364160\", \"364161\", \"364162\", \"364163\", \"364164\", \n\"364165\", \"364166\", \"364167\", \"364168\", \"364169\", \"364170\", \"364171\", \n\"364172\", \"364173\", \"364174\", \"364175\", \"364176\", \"364177\", \"364178\", \n\"364179\", \"364180\", \"364181\", \"364182\", \"364183\", \"364184\", \"364185\", \n\"364186\", \"364187\", \"364188\", \"364189\", \"364190\", \"364191\", \"364192\", \n\"364193\", \"364194\", \"364195\", \"364196\", \"364197\", \"364198\", \"364199\", \n\"364200\", \"364201\", \"364202\", \"364203\", \"364204\", \"364205\", \"364206\", \n\"364207\", \"364208\", \"364209\", \"364210\", \"364211\", \"364212\", \"364213\", \n\"364214\", \"364215\", \"364216\", \"364217\", \"364218\", \"364219\", \"364220\", \n\"364221\", \"364222\", \"364223\", \"364224\", \"364225\", \"364226\", \"364227\", \n\"364228\", \"364229\", \"364230\", \"364231\", \"364232\", \"364233\", \"364234\", \n\"364235\", \"364236\", \"364237\", \"364238\", \"364239\", \"364240\", \"364241\", \n\"364242\", \"364243\", \"364244\", \"364245\", \"364246\", \"364247\", \"364248\", \n\"364249\", \"364250\", \"364251\", \"364252\", \"364253\", \"364254\", \"364255\", \n\"364256\", \"364257\", \"364258\", \"364259\", \"364260\", \"364261\", \"364262\", \n\"364263\", \"364264\", \"364265\", \"364266\", \"364267\", \"364268\", \"364269\", \n\"364270\", \"364271\", \"364272\", \"364273\", \"364274\", \"364275\", \"364276\", \n\"364277\", \"364278\", \"364279\", \"364280\", \"364281\", \"364282\", \"364283\", \n\"364284\", \"364285\", \"364286\", \"364287\", \"364288\", \"364289\", \"364290\", \n\"364291\", \"364292\", \"364293\", \"364294\", \"364295\", \"364296\", \"364297\", \n\"364298\", \"364299\", \"364300\", \"364301\", \"364302\", \"364303\", \"364304\", \n\"364305\", \"364306\", \"364307\", \"364308\", \"364309\", \"364310\", \"364311\", \n\"364312\", \"364313\", \"364314\", \"364315\", \"364316\", \"364317\", \"364318\", \n\"364319\", \"364320\", \"364321\", \"364322\", \"364323\", \"364324\", \"364325\", \n\"364326\", \"364327\", \"364328\", \"364329\", \"364330\", \"364331\", \"364332\", \n\"364333\", \"364334\", \"364335\", \"364336\", \"364337\", \"364338\", \"364339\", \n\"364340\", \"364341\", \"364342\", \"364343\", \"364344\", \"364345\", \"364346\", \n\"364347\", \"364348\", \"364349\", \"364350\", \"364351\", \"364352\", \"364353\", \n\"364354\", \"364355\", \"364356\", \"364357\", \"364358\", \"364359\", \"364360\", \n\"364361\", \"364362\", \"364363\", \"364364\", \"364365\", \"364366\", \"364367\", \n\"364368\", \"364369\", \"364370\", \"364371\", \"364372\", \"364373\", \"364374\", \n\"364375\", \"364376\", \"364377\", \"364378\", \"364379\", \"364380\", \"364381\", \n\"364382\", \"364383\", \"364384\", \"364385\", \"364386\", \"364387\", \"364388\", \n\"364389\", \"364390\", \"364391\", \"364392\", \"364393\", \"364394\", \"364395\", \n\"364396\", \"364397\", \"364398\", \"364399\", \"364400\", \"364401\", \"364402\", \n\"364403\", \"364404\", \"364405\", \"364406\", \"364407\", \"364408\", \"364409\", \n\"364410\", \"364411\", \"364412\", \"364413\", \"364414\", \"364415\", \"364416\", \n\"364417\", \"364418\", \"364419\", \"364420\", \"364421\", \"364422\", \"364423\", \n\"364424\", \"364425\", \"364426\", \"364427\", \"364428\", \"364429\", \"364430\", \n\"364431\", \"364432\", \"364433\", \"364434\", \"364435\", \"364436\", \"364437\", \n\"364438\", \"364439\", \"364440\", \"364441\", \"364442\", \"364443\", \"364444\", \n\"364445\", \"364446\", \"364447\", \"364448\", \"364449\", \"364450\", \"364451\", \n\"364452\", \"364453\", \"364454\", \"364455\", \"364456\", \"364457\", \"364458\", \n\"364459\", \"364460\", \"364461\", \"364462\", \"364463\", \"364464\", \"364465\", \n\"364466\", \"364467\", \"364468\", \"364469\", \"364470\", \"364471\", \"364472\", \n\"364473\", \"364474\", \"364475\", \"364476\", \"364477\", \"364478\", \"364479\", \n\"364480\", \"364481\", \"364482\", \"364483\", \"364484\", \"364485\", \"364486\", \n\"364487\", \"364488\", \"364489\", \"364490\", \"364491\", \"364492\", \"364493\", \n\"364494\", \"364495\", \"364496\", \"364497\", \"364498\", \"364499\", \"364500\", \n\"364501\", \"364502\", \"364503\", \"364504\", \"364505\", \"364506\", \"364507\", \n\"364508\", \"364509\", \"364510\", \"364511\", \"364512\", \"364513\", \"364514\", \n\"364515\", \"364516\", \"364517\", \"364518\", \"364519\", \"364520\", \"364521\", \n\"364522\", \"364523\", \"364524\", \"364525\", \"364526\", \"364527\", \"364528\", \n\"364529\", \"364530\", \"364531\", \"364532\", \"364533\", \"364534\", \"364535\", \n\"364536\", \"364537\", \"364538\", \"364539\", \"364540\", \"364541\", \"364542\", \n\"364543\", \"364544\", \"364545\", \"364546\", \"364547\", \"364548\", \"364549\", \n\"364550\", \"364551\", \"364552\", \"364553\", \"364554\", \"364555\", \"364556\", \n\"364557\", \"364558\", \"364559\", \"364560\", \"364561\", \"364562\", \"364563\", \n\"364564\", \"364565\", \"364566\", \"364567\", \"364568\", \"364569\", \"364570\", \n\"364571\", \"364572\", \"364573\", \"364574\", \"364575\", \"364576\", \"364577\", \n\"364578\", \"364579\", \"364580\", \"364581\", \"364582\", \"364583\", \"364584\", \n\"364585\", \"364586\", \"364587\", \"364588\", \"364589\", \"364590\", \"364591\", \n\"364592\", \"364593\", \"364594\", \"364595\", \"364596\", \"364597\", \"364598\", \n\"364599\", \"364600\", \"364601\", \"364602\", \"364603\", \"364604\", \"364605\", \n\"364606\", \"364607\", \"364608\", \"364609\", \"364610\", \"364611\", \"364612\", \n\"364613\", \"364614\", \"364615\", \"364616\", \"364617\", \"364618\", \"364619\", \n\"364620\", \"364621\", \"364622\", \"364623\", \"364624\", \"364625\", \"364626\", \n\"364627\", \"364628\", \"364629\", \"364630\", \"364631\", \"364632\", \"364633\", \n\"364634\", \"364635\", \"364636\", \"364637\", \"364638\", \"364639\", \"364640\", \n\"364641\", \"364642\", \"364643\", \"364644\", \"364645\", \"364646\", \"364647\", \n\"364648\", \"364649\", \"364650\", \"364651\", \"364652\", \"364653\", \"364654\", \n\"364655\", \"364656\", \"364657\", \"364658\", \"364659\", \"364660\", \"364661\", \n\"364662\", \"364663\", \"364664\", \"364665\", \"364666\", \"364667\", \"364668\", \n\"364669\", \"364670\", \"364671\", \"364672\", \"364673\", \"364674\", \"364675\", \n\"364676\", \"364677\", \"364678\", \"364679\", \"364680\", \"364681\", \"364682\", \n\"364683\", \"364684\", \"364685\", \"364686\", \"364687\", \"364688\", \"364689\", \n\"364690\", \"364691\", \"364692\", \"364693\", \"364694\", \"364695\", \"364696\", \n\"364697\", \"364698\", \"364699\", \"364700\", \"364701\", \"364702\", \"364703\", \n\"364704\", \"364705\", \"364706\", \"364707\", \"364708\", \"364709\", \"364710\", \n\"364711\", \"364712\", \"364713\", \"364714\", \"364715\", \"364716\", \"364717\", \n\"364718\", \"364719\", \"364720\", \"364721\", \"364722\", \"364723\", \"364724\", \n\"364725\", \"364726\", \"364727\", \"364728\", \"364729\", \"364730\", \"364731\", \n\"364732\", \"364733\", \"364734\", \"364735\", \"364736\", \"364737\", \"364738\", \n\"364739\", \"364740\", \"364848\", \"364849\", \"364850\", \"364851\", \"364852\", \n\"364853\", \"364854\", \"364855\", \"364856\", \"364857\", \"364858\", \"364859\", \n\"364860\", \"364861\", \"364862\", \"364863\", \"364864\", \"364865\", \"364866\", \n\"364867\", \"364868\", \"364869\", \"364870\", \"364871\", \"364872\", \"364873\", \n\"364874\", \"364875\", \"364876\", \"364877\", \"364878\", \"364879\", \"364880\", \n\"364881\", \"364882\", \"364883\", \"364884\", \"364885\", \"364886\", \"364887\", \n\"364888\", \"364889\", \"364890\", \"364891\", \"364892\", \"364893\", \"364894\", \n\"364895\", \"364896\", \"364897\", \"364898\", \"364899\", \"364900\", \"364901\", \n\"364902\", \"364903\", \"364904\", \"364905\", \"364906\", \"364907\", \"364908\", \n\"364909\", \"364910\", \"364911\", \"364912\", \"364913\", \"364914\", \"364915\", \n\"364916\", \"364917\", \"364918\", \"364919\", \"364920\", \"364921\", \"364922\", \n\"364923\", \"364924\", \"364925\", \"364926\", \"364927\", \"364928\", \"364929\", \n\"364930\", \"364931\", \"364932\", \"364933\", \"364934\", \"364935\", \"364936\", \n\"364937\", \"364938\", \"364939\", \"364940\", \"364941\", \"364942\", \"364943\", \n\"364944\", \"364945\", \"364946\", \"364947\", \"364948\", \"364949\", \"364950\", \n\"364951\", \"364952\", \"364953\", \"364954\", \"364955\", \"364956\", \"364957\", \n\"364958\", \"364959\", \"364960\", \"364961\", \"364962\", \"364963\", \"364964\", \n\"364965\", \"364966\", \"364967\", \"364968\", \"364969\", \"364970\", \"364971\", \n\"364972\", \"364973\", \"364974\", \"364975\", \"364976\", \"364977\", \"364978\", \n\"364979\", \"364980\", \"364981\", \"364982\", \"364983\", \"364984\", \"364985\", \n\"364986\", \"364987\", \"364988\", \"364989\", \"364990\", \"364991\", \"364992\", \n\"364993\", \"364994\", \"364995\", \"364996\", \"364997\", \"364998\", \"364999\", \n\"365000\", \"365001\", \"365002\", \"365003\", \"365004\", \"365005\", \"365006\", \n\"365007\", \"365008\", \"365009\", \"365010\", \"365011\", \"365012\", \"365013\", \n\"365014\", \"365015\", \"365016\", \"365017\", \"365018\", \"365019\", \"365020\", \n\"365021\", \"365022\", \"365023\", \"365024\", \"365025\", \"365026\", \"365027\", \n\"365028\", \"365029\", \"365030\", \"365031\", \"365032\", \"365033\", \"365034\", \n\"365035\", \"365036\", \"365037\", \"365038\", \"365039\", \"365040\", \"365041\", \n\"365042\", \"365043\", \"365044\", \"365045\", \"365046\", \"365047\", \"365048\", \n\"365049\", \"365050\", \"365051\", \"365052\", \"365053\", \"365054\", \"365055\", \n\"365056\", \"365057\", \"365058\", \"365059\", \"365060\", \"365061\", \"365062\", \n\"365063\", \"365064\", \"365065\", \"365066\", \"365067\", \"365068\", \"365069\", \n\"365070\", \"365071\", \"365072\", \"365073\", \"365074\", \"365075\", \"365076\", \n\"365077\", \"365078\", \"365079\", \"365080\", \"365081\", \"365082\", \"365083\", \n\"365084\", \"365085\", \"365086\", \"365087\", \"365088\", \"365089\", \"365090\", \n\"365091\", \"365092\", \"365093\", \"365094\", \"365095\", \"365096\", \"365097\", \n\"365098\", \"365099\", \"365100\", \"365101\", \"365102\", \"365103\", \"365104\", \n\"365105\", \"365106\", \"365107\", \"365108\", \"365109\", \"365110\", \"365111\", \n\"365112\", \"365113\", \"365114\", \"365115\", \"365116\", \"365117\", \"365118\", \n\"365119\", \"365120\", \"365121\", \"365122\", \"365123\", \"365124\", \"365125\", \n\"365126\", \"365127\", \"365128\", \"365129\", \"365130\", \"365131\", \"365132\", \n\"365133\", \"365134\", \"365135\", \"365136\", \"365137\", \"365138\", \"365139\", \n\"365140\", \"365141\", \"365142\", \"365143\", \"365144\", \"365145\", \"365146\", \n\"365147\", \"365148\", \"365149\", \"365150\", \"365151\", \"365152\", \"365153\", \n\"365154\", \"365155\", \"365156\", \"365157\", \"365158\", \"365159\", \"365160\", \n\"365161\", \"365162\", \"365163\", \"365164\", \"365165\", \"365166\", \"365167\", \n\"365168\", \"365192\", \"365193\", \"365194\", \"365195\", \"365196\", \"365197\", \n\"365198\", \"365199\", \"365200\", \"365201\", \"365202\", \"365203\", \"365204\", \n\"365205\", \"365206\", \"365207\", \"365208\", \"365209\", \"365210\", \"365211\", \n\"365212\", \"365213\", \"365214\", \"365215\", \"365216\", \"365217\", \"365218\", \n\"365219\", \"365220\", \"365221\", \"365222\", \"365223\", \"365224\", \"365225\", \n\"365226\", \"365227\", \"365228\", \"365229\", \"365230\", \"365231\", \"365232\", \n\"365233\", \"365234\", \"365235\", \"365236\", \"365237\", \"365238\", \"365239\", \n\"365240\", \"365241\", \"365242\", \"365257\", \"365258\", \"365259\", \"365260\", \n\"365261\", \"365262\", \"365263\", \"365264\", \"365265\", \"365266\", \"365267\", \n\"365268\", \"365269\", \"365270\", \"365271\", \"365272\", \"365273\", \"365274\", \n\"365275\", \"365276\", \"365277\", \"365278\", \"365279\", \"365280\", \"365281\", \n\"365282\", \"365283\", \"365284\", \"365285\", \"365286\", \"365287\", \"365288\", \n\"365289\", \"365290\", \"365291\", \"365292\", \"365293\", \"365294\", \"365295\", \n\"365296\", \"365297\", \"365298\", \"365299\", \"365300\", \"365301\", \"365302\", \n\"365303\", \"365304\", \"365305\", \"365306\", \"365307\", \"365308\", \"365309\", \n\"365310\", \"365391\", \"365392\", \"365393\", \"365394\", \"365395\", \"365396\", \n\"365397\", \"365398\", \"365399\", \"365400\", \"365401\", \"365402\", \"365403\", \n\"365404\", \"365405\", \"365406\", \"365427\", \"365428\", \"365429\", \"365430\", \n\"365431\", \"365432\", \"365433\", \"365434\", \"365435\", \"365436\", \"365437\", \n\"365438\", \"365439\", \"365440\", \"365441\", \"365442\", \"365443\", \"365444\", \n\"365445\", \"365446\", \"365447\", \"365448\", \"365449\", \"365450\", \"365451\", \n\"365452\", \"365453\", \"365454\", \"365455\", \"365456\", \"365457\", \"365458\", \n\"365459\", \"365460\", \"365461\", \"365462\", \"365463\", \"365464\", \"365465\", \n\"365466\", \"365467\", \"365468\", \"365469\", \"365470\", \"365471\", \"365472\", \n\"365473\", \"365474\", \"365475\", \"365476\", \"365477\", \"365478\", \"365479\", \n\"365480\", \"365481\", \"365482\", \"365483\", \"365484\", \"365485\", \"365486\", \n\"365491\", \"365492\", \"365493\", \"365534\", \"365535\", \"365536\", \"365537\", \n\"365538\", \"365539\", \"365540\", \"365541\", \"365542\", \"365543\", \"365544\", \n\"365545\", \"365546\", \"365547\", \"365548\", \"365549\", \"365550\", \"365551\", \n\"365552\", \"365553\", \"365554\", \"365555\", \"365556\", \"365557\", \"365558\", \n\"365559\", \"365560\", \"365561\", \"365562\", \"365563\", \"365564\", \"365565\", \n\"365566\", \"365567\", \"365568\", \"365569\", \"365570\", \"365571\", \"365572\", \n\"365573\", \"365574\", \"365575\", \"365576\", \"365577\", \"365578\", \"365579\", \n\"365580\", \"365581\", \"365582\", \"365583\", \"365584\", \"365585\", \"365587\", \n\"365592\", \"365593\", \"365595\", \"365610\", \"365611\", \"365612\", \"365613\", \n\"365614\", \"365615\", \"365616\", \"365617\", \"365618\", \"365619\", \"365620\", \n\"365621\", \"365622\", \"365623\", \"365624\", \"365625\", \"365626\", \"365627\", \n\"365628\", \"365629\", \"365630\", \"365631\", \"365632\", \"365633\", \"365634\", \n\"365635\", \"365636\", \"365637\", \"365662\", \"365664\", \"365665\", \"365667\", \n\"365668\", \"365670\", \"365671\", \"365672\", \"365673\", \"365674\", \"365675\", \n\"365676\", \"365677\", \"365678\", \"365679\", \"365680\", \"365681\", \"365682\", \n\"365683\", \"365684\", \"365685\", \"365686\", \"365687\", \"365688\", \"365689\", \n\"365690\", \"365691\", \"365692\", \"365693\", \"365694\", \"365695\", \"365696\", \n\"365697\", \"365698\", \"365699\", \"365700\", \"365701\", \"365702\", \"365703\", \n\"365704\", \"365705\", \"365706\", \"365707\", \"365708\", \"365709\", \"365710\", \n\"365711\", \"365712\", \"365713\", \"365714\", \"365715\", \"365716\", \"365717\", \n\"365718\", \"365719\", \"365720\", \"365728\", \"365729\", \"365730\", \"365731\", \n\"365732\", \"365733\", \"365734\", \"365735\", \"365736\", \"365737\", \"365738\", \n\"365739\", \"365740\", \"365741\", \"365742\", \"365743\", \"365744\", \"365746\", \n\"365748\", \"365751\", \"365752\", \"365753\", \"365754\", \"365755\", \"365756\", \n\"365757\", \"365758\", \"365759\", \"365760\", \"365761\", \"365762\", \"365763\", \n\"365764\", \"365765\", \"365766\", \"365767\", \"365768\", \"365769\", \"365770\", \n\"365771\", \"365772\", \"365773\", \"365774\", \"365775\", \"365776\", \"365777\", \n\"365778\", \"365779\", \"365780\", \"365781\", \"365782\", \"365783\", \"365784\", \n\"365785\", \"365786\", \"365787\", \"365788\", \"365789\", \"365790\", \"365791\", \n\"365809\", \"365810\", \"365811\", \"365812\", \"365813\", \"365814\", \"365815\", \n\"365816\", \"365817\", \"365818\", \"365819\", \"365820\", \"365821\", \"365822\", \n\"365823\", \"365824\", \"365825\", \"365826\", \"365827\", \"365828\", \"365829\", \n\"365830\", \"365831\", \"365832\", \"365833\", \"365860\", \"365861\", \"365866\", \n\"365867\", \"365868\", \"365869\", \"365870\", \"365872\", \"365873\", \"365875\", \n\"365876\", \"365877\", \"365878\", \"365882\", \"365885\", \"365886\", \"365887\", \n\"365888\", \"365889\", \"365890\", \"365891\", \"365892\", \"365893\", \"365894\", \n\"365895\", \"365896\", \"365897\", \"365898\", \"365899\", \"365900\", \"365901\", \n\"365902\", \"365903\", \"365904\", \"365905\", \"365906\", \"365907\", \"365908\", \n\"365909\", \"365910\", \"365914\", \"365918\", \"365919\", \"365922\", \"365965\", \n\"365966\", \"365967\", \"365968\", \"365969\", \"365970\", \"365971\", \"365972\", \n\"365973\", \"365974\", \"365975\", \"365976\", \"365977\", \"365978\", \"365979\", \n\"365980\", \"365981\", \"365982\", \"365983\", \"365984\", \"365985\", \"365986\", \n\"365987\", \"365994\", \"365995\", \"365996\", \"365997\", \"365998\", \"366000\", \n\"366003\", \"366004\", \"366010\", \"366011\", \"366012\", \"366013\", \"366014\", \n\"366015\", \"366016\", \"366017\", \"366018\", \"366033\", \"366034\", \"366035\", \n\"366036\", \"366037\", \"366038\", \"366039\", \"366040\", \"366041\", \"366042\", \n\"366043\", \"366049\", \"366050\", \"366051\", \"366052\", \"366053\", \"366054\", \n\"366055\", \"366056\", \"366057\", \"366058\", \"366059\", \"366060\", \"366061\", \n\"366062\", \"366063\", \"366064\", \"366065\", \"366066\", \"366067\", \"366068\", \n\"366069\", \"366070\", \"366080\", \"366081\", \"366082\", \"366083\", \"366084\", \n\"366085\", \"366088\", \"366089\", \"366090\", \"366091\", \"366092\", \"366093\", \n\"366094\", \"366095\", \"366096\", \"366097\", \"366098\", \"366099\", \"366100\", \n\"366101\", \"366102\", \"366103\", \"366104\", \"366105\", \"366106\", \"366107\", \n\"366119\", \"366120\", \"366121\", \"366122\", \"366123\", \"366124\", \"366125\", \n\"366126\", \"366127\", \"366128\", \"366129\", \"366130\", \"366134\", \"366136\", \n\"366137\", \"366138\", \"366139\", \"366140\", \"366145\", \"366146\", \"366147\", \n\"366148\", \"366149\", \"366150\", \"366152\", \"366153\", \"366154\", \"366155\", \n\"366157\", \"366158\", \"366159\", \"366160\", \"366161\", \"366163\")))\n\nDeviance Residuals: \n     Min        1Q    Median        3Q       Max  \n-0.81848  -0.17429  -0.01489   0.16064   0.98202  \n\nCoefficients:\n                                                        Estimate Std. Error\n(Intercept)                                           -2.075e-02  2.318e-02\nGmale                                                  2.133e-03  9.768e-04\nyear2019                                              -1.956e-02  1.490e-03\nyear2020                                              -1.533e-02  1.424e-03\nyear2021                                              -8.992e-03  1.432e-03\nyear2022                                               1.972e-02  1.548e-03\nField_EnglishBiology                                  -1.519e-02  3.804e-03\nField_EnglishBiomedical Research                       2.580e-02  3.624e-03\nField_EnglishBuilt Environment & Design               -3.132e-02  8.463e-03\nField_EnglishChemistry                                -4.138e-02  5.848e-03\nField_EnglishClinical Medicine                         6.705e-02  3.459e-03\nField_EnglishCommunication & Textual Studies          -5.420e-02  5.961e-03\nField_EnglishEarth & Environmental Sciences           -6.976e-04  3.760e-03\nField_EnglishEconomics & Business                      8.914e-03  4.456e-03\nField_EnglishEnabling & Strategic Technologies        -2.553e-02  4.243e-03\nField_EnglishEngineering                              -5.335e-04  5.223e-03\nField_EnglishHistorical Studies                       -1.803e-02  6.552e-03\nField_EnglishInformation & Communication Technologies -5.521e-03  5.622e-03\nField_EnglishMathematics & Statistics                  4.843e-02  1.851e-02\nField_EnglishPhilosophy & Theology                    -3.772e-02  1.170e-02\nField_EnglishPhysics & Astronomy                      -3.247e-02  4.274e-03\nField_EnglishPsychology & Cognitive Sciences          -8.857e-05  3.921e-03\nField_EnglishPublic Health & Health Services           4.531e-02  3.673e-03\nField_EnglishSocial Sciences                          -8.228e-03  3.915e-03\nField_EnglishVisual & Performing Arts                 -4.923e-02  2.637e-02\nq1                                                    -1.187e-03  2.430e-02\nq2                                                    -1.308e-02  2.306e-02\nq3                                                    -2.817e-02  2.292e-02\n                                                      t value Pr(>|t|)    \n(Intercept)                                            -0.895 0.370697    \nGmale                                                   2.183 0.029007 *  \nyear2019                                              -13.124  < 2e-16 ***\nyear2020                                              -10.761  < 2e-16 ***\nyear2021                                               -6.277 3.45e-10 ***\nyear2022                                               12.741  < 2e-16 ***\nField_EnglishBiology                                   -3.993 6.51e-05 ***\nField_EnglishBiomedical Research                        7.120 1.08e-12 ***\nField_EnglishBuilt Environment & Design                -3.701 0.000215 ***\nField_EnglishChemistry                                 -7.076 1.49e-12 ***\nField_EnglishClinical Medicine                         19.386  < 2e-16 ***\nField_EnglishCommunication & Textual Studies           -9.092  < 2e-16 ***\nField_EnglishEarth & Environmental Sciences            -0.186 0.852805    \nField_EnglishEconomics & Business                       2.001 0.045439 *  \nField_EnglishEnabling & Strategic Technologies         -6.017 1.78e-09 ***\nField_EnglishEngineering                               -0.102 0.918628    \nField_EnglishHistorical Studies                        -2.751 0.005941 ** \nField_EnglishInformation & Communication Technologies  -0.982 0.326060    \nField_EnglishMathematics & Statistics                   2.617 0.008881 ** \nField_EnglishPhilosophy & Theology                     -3.224 0.001264 ** \nField_EnglishPhysics & Astronomy                       -7.596 3.07e-14 ***\nField_EnglishPsychology & Cognitive Sciences           -0.023 0.981981    \nField_EnglishPublic Health & Health Services           12.334  < 2e-16 ***\nField_EnglishSocial Sciences                           -2.101 0.035603 *  \nField_EnglishVisual & Performing Arts                  -1.867 0.061962 .  \nq1                                                     -0.049 0.961054    \nq2                                                     -0.567 0.570728    \nq3                                                     -1.229 0.219122    \n---\nSignif. codes:  0 ‘***’ 0.001 ‘**’ 0.01 ‘*’ 0.05 ‘.’ 0.1 ‘ ’ 1\n\n(Dispersion parameter for gaussian family taken to be 0.07046167)\n\n    Null deviance: 23398  on 325132  degrees of freedom\nResidual deviance: 22907  on 325105  degrees of freedom\nAIC: 60242\n\nNumber of Fisher Scoring iterations: 2\n\n\n"
     ]
    }
   ],
   "source": [
    "'''import numpy as np\n",
    "import rpy2.robjects.packages as rpackages\n",
    "import rpy2.robjects.vectors as robjects_vectors\n",
    "\n",
    "\n",
    "from rpy2.robjects import r, pandas2ri\n",
    "import rpy2.robjects as ro\n",
    "from rpy2.robjects.packages import importr\n",
    "\n",
    "# import R's utility package\n",
    "utils = rpackages.importr('utils')\n",
    "utils.chooseCRANmirror(ind=1)\n",
    "from rpy2.robjects.conversion import localconverter\n",
    "base = importr('base')\n",
    "from rpy2.robjects import Formula\n",
    "stats = importr('stats')'''\n",
    "\n",
    "tmp = pd.DataFrame()\n",
    "tmp['ideology'] = dummy['ideology']\n",
    "tmp['G'] = dummy['G']\n",
    "tmp['year'] = dummy['year']\n",
    "tmp['Domain_English'] = dummy['Domain_English']\n",
    "tmp['Field_English'] = dummy['Field_English']\n",
    "tmp['SubField_English'] = dummy['SubField_English']\n",
    "tmp['q'] = dummy['q']\n",
    "\n",
    "tmp = tmp.dropna(subset = ['ideology'])\n",
    "\n",
    "#tmp = tmp[tmp['Domain_English'] == 'Applied Sciences'] #est Gmale = -0.011384, p val = 0.001634 **\n",
    "#tmp = tmp[tmp['Domain_English'] == 'Arts & Humanities'] #insig\n",
    "#tmp = tmp[tmp['Domain_English'] == 'Economic & Social Sciences'] #est Gmale = 0.009441, p val = 0.00711 **\n",
    "#tmp = tmp[tmp['Domain_English'] == 'Health Sciences'] #insig\n",
    "#tmp = tmp[tmp['Domain_English'] == 'Natural Sciences'] #insig\n",
    "\n",
    "\n",
    "##overall regression, controlling for year, Field_English #gmale est: 0.0020140, pval = 0.03920 *, male gets hitgher value: more positive means more conservative\n",
    "\n",
    "with localconverter(ro.default_converter + pandas2ri.converter):\n",
    "  tst_df = ro.conversion.py2rpy(tmp)\n",
    "\n",
    "col_2_index = list(tst_df.colnames).index('year')\n",
    "col_2 = ro.vectors.FactorVector(tst_df.rx2('year'))\n",
    "tst_df[col_2_index] = col_2\n",
    "\n",
    "col_2_index = list(tst_df.colnames).index('q')\n",
    "col_2 = ro.vectors.FactorVector(tst_df.rx2('q'))\n",
    "tst_df[col_2_index] = col_2\n",
    "\n",
    "\n",
    "'''col_2_index = list(tst_df.colnames).index('Domain_English')\n",
    "col_2 = ro.vectors.FactorVector(tst_df.rx2('Domain_English'))\n",
    "tst_df[col_2_index] = col_2'''\n",
    "\n",
    "col_2_index = list(tst_df.colnames).index('Field_English')\n",
    "col_2 = ro.vectors.FactorVector(tst_df.rx2('Field_English'))\n",
    "tst_df[col_2_index] = col_2\n",
    "\n",
    "\n",
    "\n",
    "#print(tst_df)\n",
    "#pandas2ri.activate()\n",
    "model = stats.glm(\"ideology ~ G+year+Field_English+q\",\n",
    "                  data=tst_df,family=ro.r('gaussian')) #family=ro.r('gaussian(link=\"identity\")') #family=ro.r('poisson(link=\"log\")')\n",
    "print(base.summary(model))"
   ]
  },
  {
   "cell_type": "code",
   "execution_count": 0,
   "metadata": {
    "application/vnd.databricks.v1+cell": {
     "cellMetadata": {
      "byteLimit": 2048000,
      "rowLimit": 10000
     },
     "inputWidgets": {},
     "nuid": "ace15181-1389-4e67-95e4-9f263ae8fe82",
     "showTitle": false,
     "title": ""
    }
   },
   "outputs": [
    {
     "output_type": "display_data",
     "data": {
      "text/html": [
       "<style scoped>\n",
       "  .ansiout {\n",
       "    display: block;\n",
       "    unicode-bidi: embed;\n",
       "    white-space: pre-wrap;\n",
       "    word-wrap: break-word;\n",
       "    word-break: break-all;\n",
       "    font-family: \"Menlo\", \"Monaco\", \"Consolas\", \"Ubuntu Mono\", \"Source Code Pro\", monospace;\n",
       "    font-size: 13px;\n",
       "    color: #555;\n",
       "    margin-left: 4px;\n",
       "    line-height: 19px;\n",
       "  }\n",
       "</style>"
      ]
     },
     "metadata": {
      "application/vnd.databricks.v1+output": {
       "arguments": {},
       "data": "",
       "errorSummary": "Command skipped",
       "errorTraceType": "html",
       "metadata": {},
       "type": "ipynbError"
      }
     },
     "output_type": "display_data"
    }
   ],
   "source": [
    "male = merged[merged['G'] == 1]\n",
    "female = merged[merged['G'] == 0]\n",
    "male['ideology'] = male['ideology'].astype(float)\n",
    "print(male['ideology'].mean())\n",
    "male['ideology'].hist()"
   ]
  },
  {
   "cell_type": "code",
   "execution_count": 0,
   "metadata": {
    "application/vnd.databricks.v1+cell": {
     "cellMetadata": {
      "byteLimit": 2048000,
      "rowLimit": 10000
     },
     "inputWidgets": {},
     "nuid": "aed298e7-61c5-4db5-b4ed-5ee5b37c03dc",
     "showTitle": false,
     "title": ""
    }
   },
   "outputs": [
    {
     "output_type": "display_data",
     "data": {
      "text/html": [
       "<style scoped>\n",
       "  .ansiout {\n",
       "    display: block;\n",
       "    unicode-bidi: embed;\n",
       "    white-space: pre-wrap;\n",
       "    word-wrap: break-word;\n",
       "    word-break: break-all;\n",
       "    font-family: \"Menlo\", \"Monaco\", \"Consolas\", \"Ubuntu Mono\", \"Source Code Pro\", monospace;\n",
       "    font-size: 13px;\n",
       "    color: #555;\n",
       "    margin-left: 4px;\n",
       "    line-height: 19px;\n",
       "  }\n",
       "</style>"
      ]
     },
     "metadata": {
      "application/vnd.databricks.v1+output": {
       "arguments": {},
       "data": "",
       "errorSummary": "Command skipped",
       "errorTraceType": "html",
       "metadata": {},
       "type": "ipynbError"
      }
     },
     "output_type": "display_data"
    }
   ],
   "source": [
    "female['ideology'] = female['ideology'].astype(float)\n",
    "print(female['ideology'].mean())\n",
    "\n",
    "female['ideology'].hist()"
   ]
  },
  {
   "cell_type": "markdown",
   "metadata": {
    "application/vnd.databricks.v1+cell": {
     "cellMetadata": {
      "byteLimit": 2048000,
      "rowLimit": 10000
     },
     "inputWidgets": {},
     "nuid": "db45b8c7-0393-4c2f-98b2-3de1703f8ad2",
     "showTitle": false,
     "title": ""
    }
   },
   "source": [
    "## multinomial logit regression analysis for each Field"
   ]
  },
  {
   "cell_type": "code",
   "execution_count": 0,
   "metadata": {
    "application/vnd.databricks.v1+cell": {
     "cellMetadata": {
      "byteLimit": 2048000,
      "rowLimit": 10000
     },
     "inputWidgets": {},
     "nuid": "1507c081-d36d-467f-87c0-1d0628a27047",
     "showTitle": false,
     "title": ""
    }
   },
   "outputs": [
    {
     "output_type": "stream",
     "name": "stdout",
     "output_type": "stream",
     "text": [
      "Out[41]: array(['Agriculture, Fisheries & Forestry', 'Built Environment & Design',\n       'Enabling & Strategic Technologies', 'Engineering',\n       'Information & Communication Technologies',\n       'Communication & Textual Studies', 'Historical Studies',\n       'Philosophy & Theology', 'Visual & Performing Arts',\n       'Economics & Business ', 'Social Sciences', 'Biomedical Research',\n       'Clinical Medicine', 'Psychology & Cognitive Sciences',\n       'Public Health & Health Services', 'Biology', 'Chemistry',\n       'Earth & Environmental Sciences', 'Mathematics & Statistics',\n       'Physics & Astronomy'], dtype=object)"
     ]
    }
   ],
   "source": [
    "merged['Field_English'].unique()"
   ]
  },
  {
   "cell_type": "code",
   "execution_count": 0,
   "metadata": {
    "application/vnd.databricks.v1+cell": {
     "cellMetadata": {
      "byteLimit": 2048000,
      "rowLimit": 10000
     },
     "inputWidgets": {},
     "nuid": "422e1530-0665-4b0e-8210-9a3e62a8b0cb",
     "showTitle": false,
     "title": ""
    }
   },
   "outputs": [
    {
     "output_type": "stream",
     "name": "stdout",
     "output_type": "stream",
     "text": [
      "15999\n56348\n12057\n13886\n5973\n"
     ]
    }
   ],
   "source": [
    "a = merged[merged['type'] == 'local']\n",
    "a = a['doi'].unique()\n",
    "print(len(a))\n",
    "\n",
    "b = merged[merged['type'] == 'national']\n",
    "b = b['doi'].unique()\n",
    "print(len(b))\n",
    "\n",
    "c = merged[merged['type'] == 'international']\n",
    "c = c['doi'].unique()\n",
    "print(len(c))\n",
    "\n",
    "m1 = set(a).intersection(set(b))\n",
    "print(len(m1))\n",
    "\n",
    "m2 = set(m1).intersection(set(c))\n",
    "print(len(m2))\n"
   ]
  },
  {
   "cell_type": "code",
   "execution_count": 0,
   "metadata": {
    "application/vnd.databricks.v1+cell": {
     "cellMetadata": {
      "byteLimit": 2048000,
      "rowLimit": 10000
     },
     "inputWidgets": {},
     "nuid": "6ba32c7a-11a6-4bfc-a6d5-db19b575cd47",
     "showTitle": false,
     "title": ""
    }
   },
   "outputs": [],
   "source": [
    "import numpy as np\n",
    "import rpy2.robjects.packages as rpackages\n",
    "import rpy2.robjects.vectors as robjects_vectors\n",
    "\n",
    "\n",
    "from rpy2.robjects import r, pandas2ri\n",
    "import rpy2.robjects as ro\n",
    "from rpy2.robjects.packages import importr\n",
    "\n",
    "# import R's utility package\n",
    "'''utils = rpackages.importr('utils')\n",
    "utils.chooseCRANmirror(ind=1)'''\n",
    "from rpy2.robjects.conversion import localconverter\n",
    "base = importr('base')\n",
    "from rpy2.robjects import Formula\n",
    "stats = importr('stats')\n",
    "nnet = importr('nnet')\n"
   ]
  },
  {
   "cell_type": "code",
   "execution_count": 0,
   "metadata": {
    "application/vnd.databricks.v1+cell": {
     "cellMetadata": {
      "byteLimit": 2048000,
      "rowLimit": 10000
     },
     "inputWidgets": {},
     "nuid": "731f1321-c6fb-41a9-8973-d05d96c25256",
     "showTitle": false,
     "title": ""
    }
   },
   "outputs": [
    {
     "output_type": "stream",
     "name": "stdout",
     "output_type": "stream",
     "text": [
      "no of subfield  4\n# weights:  42 (26 variable)\ninitial  value 213.130784 \niter  10 value 111.738760\niter  20 value 107.650631\niter  30 value 107.613295\nfinal  value 107.612770 \nconverged\nCall:\n(function (formula, data, weights, subset, na.action, contrasts = NULL, \n    Hess = FALSE, summ = 0, censored = FALSE, model = FALSE, \n    ...) \n{\n    class.ind <- function(cl) {\n        n <- length(cl)\n        x <- matrix(0, n, length(levels(cl)))\n        x[(1:n) + n * (as.integer(cl) - 1)] <- 1\n        dimnames(x) <- list(names(cl), levels(cl))\n        x\n    }\n    summ2 <- function(X, Y) {\n        X <- as.matrix(X)\n        Y <- as.matrix(Y)\n        n <- nrow(X)\n        p <- ncol(X)\n        q <- ncol(Y)\n        Z <- t(cbind(X, Y))\n        storage.mode(Z) <- \"double\"\n        z <- .C(VR_summ2, as.integer(n), as.integer(p), as.integer(q), \n            Z = Z, na = integer(1))\n        Za <- t(z$Z[, 1:z$na, drop = FALSE])\n        list(X = Za[, 1:p, drop = FALSE], Y = Za[, p + 1:q])\n    }\n    call <- match.call()\n    m <- match.call(expand.dots = FALSE)\n    m$summ <- m$Hess <- m$contrasts <- m$censored <- m$model <- m$... <- NULL\n    m[[1]] <- quote(stats::model.frame)\n    m <- eval.parent(m)\n    Terms <- attr(m, \"terms\")\n    X <- model.matrix(Terms, m, contrasts)\n    cons <- attr(X, \"contrasts\")\n    Xr <- qr(X)$rank\n    Y <- model.response(m)\n    if (!is.matrix(Y)) \n        Y <- as.factor(Y)\n    w <- model.weights(m)\n    if (length(w) == 0) \n        if (is.matrix(Y)) \n            w <- rep(1, dim(Y)[1])\n        else w <- rep(1, length(Y))\n    lev <- levels(Y)\n    if (is.factor(Y)) {\n        counts <- table(Y)\n        if (any(counts == 0)) {\n            empty <- lev[counts == 0]\n            warning(sprintf(ngettext(length(empty), \"group %s is empty\", \n                \"groups %s are empty\"), paste(sQuote(empty), \n                collapse = \" \")), domain = NA)\n            Y <- factor(Y, levels = lev[counts > 0])\n            lev <- lev[counts > 0]\n        }\n        if (length(lev) < 2) \n            stop(\"need two or more classes to fit a multinom model\")\n        if (length(lev) == 2) \n            Y <- as.integer(Y) - 1\n        else Y <- class.ind(Y)\n    }\n    if (summ == 1) {\n        Z <- cbind(X, Y)\n        z1 <- cumprod(apply(Z, 2, max) + 1)\n        Z1 <- apply(Z, 1, function(x) sum(z1 * x))\n        oZ <- order(Z1)\n        Z2 <- !duplicated(Z1[oZ])\n        oX <- (seq_along(Z1)[oZ])[Z2]\n        X <- X[oX, , drop = FALSE]\n        Y <- if (is.matrix(Y)) \n            Y[oX, , drop = FALSE]\n        else Y[oX]\n        w <- diff(c(0, cumsum(w))[c(Z2, TRUE)])\n        print(dim(X))\n    }\n    if (summ == 2) {\n        Z <- summ2(cbind(X, Y), w)\n        X <- Z$X[, 1:ncol(X)]\n        Y <- Z$X[, ncol(X) + 1:ncol(Y), drop = FALSE]\n        w <- Z$Y\n        print(dim(X))\n    }\n    if (summ == 3) {\n        Z <- summ2(X, Y * w)\n        X <- Z$X\n        Y <- Z$Y[, 1:ncol(Y), drop = FALSE]\n        w <- rep(1, nrow(X))\n        print(dim(X))\n    }\n    offset <- model.offset(m)\n    r <- ncol(X)\n    if (is.matrix(Y)) {\n        p <- ncol(Y)\n        sY <- Y %*% rep(1, p)\n        if (any(sY == 0)) \n            stop(\"some case has no observations\")\n        if (!censored) {\n            Y <- Y/matrix(sY, nrow(Y), p)\n            w <- w * sY\n        }\n        if (length(offset) > 1) {\n            if (ncol(offset) != p) \n                stop(\"ncol(offset) is wrong\")\n            mask <- c(rep(FALSE, r + 1 + p), rep(c(FALSE, rep(TRUE, \n                r), rep(FALSE, p)), p - 1))\n            X <- cbind(X, offset)\n            Wts <- as.vector(rbind(matrix(0, r + 1, p), diag(p)))\n            fit <- nnet.default(X, Y, w, Wts = Wts, mask = mask, \n                size = 0, skip = TRUE, softmax = TRUE, censored = censored, \n                rang = 0, ...)\n        }\n        else {\n            mask <- c(rep(FALSE, r + 1), rep(c(FALSE, rep(TRUE, \n                r)), p - 1))\n            fit <- nnet.default(X, Y, w, mask = mask, size = 0, \n                skip = TRUE, softmax = TRUE, censored = censored, \n                rang = 0, ...)\n        }\n    }\n    else {\n        if (length(offset) <= 1) {\n            mask <- c(FALSE, rep(TRUE, r))\n            fit <- nnet.default(X, Y, w, mask = mask, size = 0, \n                skip = TRUE, entropy = TRUE, rang = 0, ...)\n        }\n        else {\n            mask <- c(FALSE, rep(TRUE, r), FALSE)\n            Wts <- c(rep(0, r + 1), 1)\n            X <- cbind(X, offset)\n            fit <- nnet.default(X, Y, w, Wts = Wts, mask = mask, \n                size = 0, skip = TRUE, entropy = TRUE, rang = 0, \n                ...)\n        }\n    }\n    fit$formula <- attr(Terms, \"formula\")\n    fit$terms <- Terms\n    fit$call <- call\n    fit$weights <- w\n    fit$lev <- lev\n    fit$deviance <- 2 * fit$value\n    fit$rank <- Xr\n    edf <- ifelse(length(lev) == 2, 1, length(lev) - 1) * Xr\n    if (is.matrix(Y)) {\n        edf <- (ncol(Y) - 1) * Xr\n        if (length(dn <- colnames(Y)) > 0) \n            fit$lab <- dn\n        else fit$lab <- 1:ncol(Y)\n    }\n    fit$coefnames <- colnames(X)\n    fit$vcoefnames <- fit$coefnames[1:r]\n    fit$na.action <- attr(m, \"na.action\")\n    fit$contrasts <- cons\n    fit$xlevels <- .getXlevels(Terms, m)\n    fit$edf <- edf\n    fit$AIC <- fit$deviance + 2 * edf\n    if (model) \n        fit$model <- m\n    class(fit) <- c(\"multinom\", \"nnet\")\n    if (Hess) \n        fit$Hessian <- multinomHess(fit, X)\n    fit\n})(formula = \"type ~ G+year+Subfield_English+q+openaccess_status\", \n    data = list(c(\"national\", \"national\", \"national\", \"national\", \n    \"national\", \"national\", \"national\", \"national\", \"national\", \n    \"national\", \"national\", \"national\", \"national\", \"national\", \n    \"national\", \"national\", \"national\", \"national\", \"national\", \n    \"national\", \"national\", \"national\", \"national\", \"national\", \n    \"national\", \"national\", \"national\", \"national\", \"national\", \n    \"national\", \"national\", \"national\", \"national\", \"national\", \n    \"international\", \"national\", \"international\", \"local\", \"local\", \n    \"local\", \"local\", \"local\", \"local\", \"local\", \"local\", \"local\", \n    \"local\", \"local\", \"national\", \"national\", \"national\", \"national\", \n    \"international\", \"national\", \"local\", \"local\", \"local\", \"local\", \n    \"local\", \"local\", \"local\", \"local\", \"local\", \"local\", \"local\", \n    \"local\", \"local\", \"local\", \"local\", \"local\", \"local\", \"local\", \n    \"local\", \"national\", \"national\", \"local\", \"local\", \"national\", \n    \"national\", \"national\", \"national\", \"national\", \"local\", \n    \"national\", \"national\", \"national\", \"local\", \"national\", \n    \"national\", \"national\", \"national\", \"national\", \"national\", \n    \"national\", \"local\", \"local\", \"national\", \"international\", \n    \"local\", \"local\", \"national\", \"national\", \"local\", \"local\", \n    \"international\", \"local\", \"local\", \"national\", \"local\", \"national\", \n    \"national\", \"local\", \"local\", \"local\", \"local\", \"local\", \n    \"local\", \"local\", \"local\", \"national\", \"national\", \"local\", \n    \"local\", \"local\", \"local\", \"local\", \"local\", \"local\", \"local\", \n    \"local\", \"national\", \"local\", \"local\", \"local\", \"national\", \n    \"international\", \"international\", \"local\", \"local\", \"local\", \n    \"local\", \"local\", \"local\", \"local\", \"national\", \"local\", \n    \"international\", \"local\", \"local\", \"local\", \"national\", \"local\", \n    \"local\", \"local\", \"national\", \"national\", \"national\", \"national\", \n    \"local\", \"local\", \"local\", \"local\", \"national\", \"national\", \n    \"local\", \"national\", \"national\", \"national\", \"local\", \"national\", \n    \"national\", \"national\", \"local\", \"local\", \"local\", \"local\", \n    \"national\", \"local\", \"national\", \"local\", \"local\", \"local\", \n    \"local\", \"local\", \"local\", \"local\", \"local\", \"local\", \"local\", \n    \"national\", \"national\", \"local\", \"local\", \"local\"), c(2, \n    2, 2, 4, 2, 4, 2, 2, 3, 3, 1, 1, 4, 2, 4, 3, 5, 1, 2, 5, \n    4, 4, 2, 3, 2, 3, 3, 2, 3, 3, 3, 4, 4, 2, 1, 4, 4, 4, 4, \n    4, 4, 4, 4, 4, 4, 2, 4, 4, 1, 4, 4, 4, 4, 3, 4, 4, 4, 4, \n    4, 4, 4, 4, 4, 4, 4, 4, 4, 4, 4, 4, 4, 4, 4, 4, 4, 2, 4, \n    4, 4, 4, 4, 1, 4, 2, 2, 4, 4, 4, 4, 4, 1, 4, 5, 4, 4, 4, \n    4, 3, 4, 4, 4, 4, 4, 4, 4, 4, 4, 4, 4, 4, 3, 4, 4, 4, 4, \n    4, 4, 4, 4, 4, 4, 4, 4, 4, 4, 4, 4, 4, 4, 4, 4, 4, 4, 4, \n    4, 2, 3, 4, 4, 4, 4, 4, 4, 4, 4, 4, 4, 4, 4, 4, 4, 4, 4, \n    4, 2, 2, 4, 4, 4, 4, 5, 4, 5, 4, 4, 2, 2, 4, 4, 5, 4, 4, \n    4, 4, 4, 4, 4, 4, 3, 4, 4, 4, 4, 4, 4, 4, 4, 4, 4, 2, 4, \n    4, 4, 4), c(\"Natural Sciences\", \"Natural Sciences\", \"Natural Sciences\", \n    \"Natural Sciences\", \"Natural Sciences\", \"Natural Sciences\", \n    \"Natural Sciences\", \"Natural Sciences\", \"Natural Sciences\", \n    \"Natural Sciences\", \"Natural Sciences\", \"Natural Sciences\", \n    \"Natural Sciences\", \"Natural Sciences\", \"Natural Sciences\", \n    \"Natural Sciences\", \"Natural Sciences\", \"Natural Sciences\", \n    \"Natural Sciences\", \"Natural Sciences\", \"Natural Sciences\", \n    \"Natural Sciences\", \"Natural Sciences\", \"Natural Sciences\", \n    \"Natural Sciences\", \"Natural Sciences\", \"Natural Sciences\", \n    \"Natural Sciences\", \"Natural Sciences\", \"Natural Sciences\", \n    \"Natural Sciences\", \"Natural Sciences\", \"Natural Sciences\", \n    \"Natural Sciences\", \"Natural Sciences\", \"Natural Sciences\", \n    \"Natural Sciences\", \"Natural Sciences\", \"Natural Sciences\", \n    \"Natural Sciences\", \"Natural Sciences\", \"Natural Sciences\", \n    \"Natural Sciences\", \"Natural Sciences\", \"Natural Sciences\", \n    \"Natural Sciences\", \"Natural Sciences\", \"Natural Sciences\", \n    \"Natural Sciences\", \"Natural Sciences\", \"Natural Sciences\", \n    \"Natural Sciences\", \"Natural Sciences\", \"Natural Sciences\", \n    \"Natural Sciences\", \"Natural Sciences\", \"Natural Sciences\", \n    \"Natural Sciences\", \"Natural Sciences\", \"Natural Sciences\", \n    \"Natural Sciences\", \"Natural Sciences\", \"Natural Sciences\", \n    \"Natural Sciences\", \"Natural Sciences\", \"Natural Sciences\", \n    \"Natural Sciences\", \"Natural Sciences\", \"Natural Sciences\", \n    \"Natural Sciences\", \"Natural Sciences\", \"Natural Sciences\", \n    \"Natural Sciences\", \"Natural Sciences\", \"Natural Sciences\", \n    \"Natural Sciences\", \"Natural Sciences\", \"Natural Sciences\", \n    \"Natural Sciences\", \"Natural Sciences\", \"Natural Sciences\", \n    \"Natural Sciences\", \"Natural Sciences\", \"Natural Sciences\", \n    \"Natural Sciences\", \"Natural Sciences\", \"Natural Sciences\", \n    \"Natural Sciences\", \"Natural Sciences\", \"Natural Sciences\", \n    \"Natural Sciences\", \"Natural Sciences\", \"Natural Sciences\", \n    \"Natural Sciences\", \"Natural Sciences\", \"Natural Sciences\", \n    \"Natural Sciences\", \"Natural Sciences\", \"Natural Sciences\", \n    \"Natural Sciences\", \"Natural Sciences\", \"Natural Sciences\", \n    \"Natural Sciences\", \"Natural Sciences\", \"Natural Sciences\", \n    \"Natural Sciences\", \"Natural Sciences\", \"Natural Sciences\", \n    \"Natural Sciences\", \"Natural Sciences\", \"Natural Sciences\", \n    \"Natural Sciences\", \"Natural Sciences\", \"Natural Sciences\", \n    \"Natural Sciences\", \"Natural Sciences\", \"Natural Sciences\", \n    \"Natural Sciences\", \"Natural Sciences\", \"Natural Sciences\", \n    \"Natural Sciences\", \"Natural Sciences\", \"Natural Sciences\", \n    \"Natural Sciences\", \"Natural Sciences\", \"Natural Sciences\", \n    \"Natural Sciences\", \"Natural Sciences\", \"Natural Sciences\", \n    \"Natural Sciences\", \"Natural Sciences\", \"Natural Sciences\", \n    \"Natural Sciences\", \"Natural Sciences\", \"Natural Sciences\", \n    \"Natural Sciences\", \"Natural Sciences\", \"Natural Sciences\", \n    \"Natural Sciences\", \"Natural Sciences\", \"Natural Sciences\", \n    \"Natural Sciences\", \"Natural Sciences\", \"Natural Sciences\", \n    \"Natural Sciences\", \"Natural Sciences\", \"Natural Sciences\", \n    \"Natural Sciences\", \"Natural Sciences\", \"Natural Sciences\", \n    \"Natural Sciences\", \"Natural Sciences\", \"Natural Sciences\", \n    \"Natural Sciences\", \"Natural Sciences\", \"Natural Sciences\", \n    \"Natural Sciences\", \"Natural Sciences\", \"Natural Sciences\", \n    \"Natural Sciences\", \"Natural Sciences\", \"Natural Sciences\", \n    \"Natural Sciences\", \"Natural Sciences\", \"Natural Sciences\", \n    \"Natural Sciences\", \"Natural Sciences\", \"Natural Sciences\", \n    \"Natural Sciences\", \"Natural Sciences\", \"Natural Sciences\", \n    \"Natural Sciences\", \"Natural Sciences\", \"Natural Sciences\", \n    \"Natural Sciences\", \"Natural Sciences\", \"Natural Sciences\", \n    \"Natural Sciences\", \"Natural Sciences\", \"Natural Sciences\", \n    \"Natural Sciences\", \"Natural Sciences\", \"Natural Sciences\", \n    \"Natural Sciences\", \"Natural Sciences\", \"Natural Sciences\", \n    \"Natural Sciences\", \"Natural Sciences\", \"Natural Sciences\", \n    \"Natural Sciences\", \"Natural Sciences\", \"Natural Sciences\", \n    \"Natural Sciences\", \"Natural Sciences\"), c(\"Mathematics & Statistics\", \n    \"Mathematics & Statistics\", \"Mathematics & Statistics\", \"Mathematics & Statistics\", \n    \"Mathematics & Statistics\", \"Mathematics & Statistics\", \"Mathematics & Statistics\", \n    \"Mathematics & Statistics\", \"Mathematics & Statistics\", \"Mathematics & Statistics\", \n    \"Mathematics & Statistics\", \"Mathematics & Statistics\", \"Mathematics & Statistics\", \n    \"Mathematics & Statistics\", \"Mathematics & Statistics\", \"Mathematics & Statistics\", \n    \"Mathematics & Statistics\", \"Mathematics & Statistics\", \"Mathematics & Statistics\", \n    \"Mathematics & Statistics\", \"Mathematics & Statistics\", \"Mathematics & Statistics\", \n    \"Mathematics & Statistics\", \"Mathematics & Statistics\", \"Mathematics & Statistics\", \n    \"Mathematics & Statistics\", \"Mathematics & Statistics\", \"Mathematics & Statistics\", \n    \"Mathematics & Statistics\", \"Mathematics & Statistics\", \"Mathematics & Statistics\", \n    \"Mathematics & Statistics\", \"Mathematics & Statistics\", \"Mathematics & Statistics\", \n    \"Mathematics & Statistics\", \"Mathematics & Statistics\", \"Mathematics & Statistics\", \n    \"Mathematics & Statistics\", \"Mathematics & Statistics\", \"Mathematics & Statistics\", \n    \"Mathematics & Statistics\", \"Mathematics & Statistics\", \"Mathematics & Statistics\", \n    \"Mathematics & Statistics\", \"Mathematics & Statistics\", \"Mathematics & Statistics\", \n    \"Mathematics & Statistics\", \"Mathematics & Statistics\", \"Mathematics & Statistics\", \n    \"Mathematics & Statistics\", \"Mathematics & Statistics\", \"Mathematics & Statistics\", \n    \"Mathematics & Statistics\", \"Mathematics & Statistics\", \"Mathematics & Statistics\", \n    \"Mathematics & Statistics\", \"Mathematics & Statistics\", \"Mathematics & Statistics\", \n    \"Mathematics & Statistics\", \"Mathematics & Statistics\", \"Mathematics & Statistics\", \n    \"Mathematics & Statistics\", \"Mathematics & Statistics\", \"Mathematics & Statistics\", \n    \"Mathematics & Statistics\", \"Mathematics & Statistics\", \"Mathematics & Statistics\", \n    \"Mathematics & Statistics\", \"Mathematics & Statistics\", \"Mathematics & Statistics\", \n    \"Mathematics & Statistics\", \"Mathematics & Statistics\", \"Mathematics & Statistics\", \n    \"Mathematics & Statistics\", \"Mathematics & Statistics\", \"Mathematics & Statistics\", \n    \"Mathematics & Statistics\", \"Mathematics & Statistics\", \"Mathematics & Statistics\", \n    \"Mathematics & Statistics\", \"Mathematics & Statistics\", \"Mathematics & Statistics\", \n    \"Mathematics & Statistics\", \"Mathematics & Statistics\", \"Mathematics & Statistics\", \n    \"Mathematics & Statistics\", \"Mathematics & Statistics\", \"Mathematics & Statistics\", \n    \"Mathematics & Statistics\", \"Mathematics & Statistics\", \"Mathematics & Statistics\", \n    \"Mathematics & Statistics\", \"Mathematics & Statistics\", \"Mathematics & Statistics\", \n    \"Mathematics & Statistics\", \"Mathematics & Statistics\", \"Mathematics & Statistics\", \n    \"Mathematics & Statistics\", \"Mathematics & Statistics\", \"Mathematics & Statistics\", \n    \"Mathematics & Statistics\", \"Mathematics & Statistics\", \"Mathematics & Statistics\", \n    \"Mathematics & Statistics\", \"Mathematics & Statistics\", \"Mathematics & Statistics\", \n    \"Mathematics & Statistics\", \"Mathematics & Statistics\", \"Mathematics & Statistics\", \n    \"Mathematics & Statistics\", \"Mathematics & Statistics\", \"Mathematics & Statistics\", \n    \"Mathematics & Statistics\", \"Mathematics & Statistics\", \"Mathematics & Statistics\", \n    \"Mathematics & Statistics\", \"Mathematics & Statistics\", \"Mathematics & Statistics\", \n    \"Mathematics & Statistics\", \"Mathematics & Statistics\", \"Mathematics & Statistics\", \n    \"Mathematics & Statistics\", \"Mathematics & Statistics\", \"Mathematics & Statistics\", \n    \"Mathematics & Statistics\", \"Mathematics & Statistics\", \"Mathematics & Statistics\", \n    \"Mathematics & Statistics\", \"Mathematics & Statistics\", \"Mathematics & Statistics\", \n    \"Mathematics & Statistics\", \"Mathematics & Statistics\", \"Mathematics & Statistics\", \n    \"Mathematics & Statistics\", \"Mathematics & Statistics\", \"Mathematics & Statistics\", \n    \"Mathematics & Statistics\", \"Mathematics & Statistics\", \"Mathematics & Statistics\", \n    \"Mathematics & Statistics\", \"Mathematics & Statistics\", \"Mathematics & Statistics\", \n    \"Mathematics & Statistics\", \"Mathematics & Statistics\", \"Mathematics & Statistics\", \n    \"Mathematics & Statistics\", \"Mathematics & Statistics\", \"Mathematics & Statistics\", \n    \"Mathematics & Statistics\", \"Mathematics & Statistics\", \"Mathematics & Statistics\", \n    \"Mathematics & Statistics\", \"Mathematics & Statistics\", \"Mathematics & Statistics\", \n    \"Mathematics & Statistics\", \"Mathematics & Statistics\", \"Mathematics & Statistics\", \n    \"Mathematics & Statistics\", \"Mathematics & Statistics\", \"Mathematics & Statistics\", \n    \"Mathematics & Statistics\", \"Mathematics & Statistics\", \"Mathematics & Statistics\", \n    \"Mathematics & Statistics\", \"Mathematics & Statistics\", \"Mathematics & Statistics\", \n    \"Mathematics & Statistics\", \"Mathematics & Statistics\", \"Mathematics & Statistics\", \n    \"Mathematics & Statistics\", \"Mathematics & Statistics\", \"Mathematics & Statistics\", \n    \"Mathematics & Statistics\", \"Mathematics & Statistics\", \"Mathematics & Statistics\", \n    \"Mathematics & Statistics\", \"Mathematics & Statistics\", \"Mathematics & Statistics\", \n    \"Mathematics & Statistics\", \"Mathematics & Statistics\", \"Mathematics & Statistics\", \n    \"Mathematics & Statistics\", \"Mathematics & Statistics\", \"Mathematics & Statistics\", \n    \"Mathematics & Statistics\", \"Mathematics & Statistics\", \"Mathematics & Statistics\", \n    \"Mathematics & Statistics\", \"Mathematics & Statistics\", \"Mathematics & Statistics\", \n    \"Mathematics & Statistics\", \"Mathematics & Statistics\", \"Mathematics & Statistics\", \n    \"Mathematics & Statistics\"), c(2, 2, 4, 4, 4, 4, 1, 1, 1, \n    2, 2, 2, 2, 2, 4, 4, 4, 4, 4, 4, 4, 4, 4, 1, 1, 2, 3, 3, \n    3, 3, 4, 4, 4, 4, 2, 4, 4, 4, 4, 4, 4, 4, 4, 4, 4, 4, 4, \n    4, 4, 4, 4, 4, 4, 4, 4, 4, 4, 4, 4, 4, 4, 4, 4, 4, 4, 4, \n    4, 4, 4, 4, 4, 4, 4, 4, 4, 4, 4, 4, 4, 4, 4, 4, 4, 2, 4, \n    4, 4, 4, 4, 4, 2, 4, 4, 4, 4, 4, 4, 1, 4, 4, 4, 4, 4, 4, \n    4, 4, 4, 4, 4, 4, 4, 4, 4, 4, 4, 4, 4, 4, 4, 4, 4, 4, 4, \n    4, 4, 4, 4, 4, 4, 4, 4, 4, 4, 4, 4, 1, 2, 4, 4, 4, 4, 4, \n    4, 4, 4, 4, 4, 4, 4, 4, 4, 4, 4, 4, 2, 2, 4, 4, 4, 4, 4, \n    4, 4, 4, 4, 2, 4, 4, 4, 4, 4, 4, 4, 4, 4, 4, 4, 4, 4, 4, \n    4, 4, 4, 4, 4, 4, 4, 4, 4, 4, 4, 4, 4, 4), c(\"male\", \"male\", \n    \"male\", \"female\", \"male\", \"female\", \"male\", \"male\", \"male\", \n    \"female\", \"male\", \"male\", \"male\", \"male\", \"male\", \"male\", \n    \"male\", \"male\", \"male\", \"female\", \"male\", \"male\", \"female\", \n    \"male\", \"male\", \"female\", \"male\", \"male\", \"male\", \"female\", \n    \"male\", \"male\", \"male\", \"female\", \"male\", \"female\", \"female\", \n    \"female\", \"female\", \"female\", \"female\", \"female\", \"female\", \n    \"female\", \"female\", \"male\", \"female\", \"female\", \"male\", \"female\", \n    \"female\", \"female\", \"female\", \"male\", \"female\", \"female\", \n    \"female\", \"female\", \"female\", \"female\", \"female\", \"female\", \n    \"female\", \"female\", \"female\", \"female\", \"female\", \"female\", \n    \"female\", \"female\", \"female\", \"female\", \"female\", \"female\", \n    \"female\", \"male\", \"female\", \"female\", \"male\", \"female\", \"male\", \n    \"male\", \"female\", \"male\", \"male\", \"female\", \"female\", \"female\", \n    \"female\", \"female\", \"male\", \"female\", \"male\", \"female\", \"female\", \n    \"female\", \"female\", \"male\", \"female\", \"female\", \"female\", \n    \"female\", \"female\", \"female\", \"female\", \"female\", \"female\", \n    \"female\", \"female\", \"female\", \"male\", \"female\", \"female\", \n    \"female\", \"female\", \"female\", \"female\", \"female\", \"female\", \n    \"female\", \"female\", \"female\", \"female\", \"female\", \"female\", \n    \"female\", \"female\", \"female\", \"female\", \"female\", \"female\", \n    \"female\", \"female\", \"female\", \"female\", \"male\", \"male\", \"female\", \n    \"female\", \"female\", \"female\", \"female\", \"female\", \"female\", \n    \"female\", \"female\", \"female\", \"female\", \"female\", \"female\", \n    \"female\", \"female\", \"female\", \"female\", \"male\", \"male\", \"female\", \n    \"female\", \"female\", \"female\", \"female\", \"female\", \"female\", \n    \"female\", \"female\", \"male\", \"male\", \"female\", \"female\", \"female\", \n    \"female\", \"female\", \"female\", \"female\", \"female\", \"female\", \n    \"female\", \"female\", \"male\", \"female\", \"female\", \"female\", \n    \"female\", \"female\", \"female\", \"female\", \"female\", \"female\", \n    \"female\", \"male\", \"female\", \"female\", \"female\", \"female\"), \n        c(5.165, 5.165, 5.165, 6.076, 0.759, 6.076, 3.42, 1.936, \n        1.016, 0.814, 16.345, 9.257, 0.905, 5.165, 4.184, 0.814, \n        3.976, 5.601, 0.759, 13.328, 4.405, 4.184, 5.165, 1.016, \n        1.936, 0.814, 1.24, 1.341, 1.24, 1.319, 0.569, 4.184, \n        0.775, 5.165, 16.345, 6.076, 6.076, 6.076, 6.076, 6.076, \n        6.076, 6.076, 6.076, 6.076, 6.076, 0.759, 6.076, 6.076, \n        0.87, 6.076, 6.076, 6.076, 6.076, 1.746, 6.076, 6.076, \n        6.076, 6.076, 6.076, 6.076, 6.076, 6.076, 6.076, 6.076, \n        6.076, 6.076, 6.076, 6.076, 6.076, 6.076, 6.076, 6.076, \n        6.076, 6.076, 6.076, 0.759, 6.076, 6.076, 1.682, 6.076, \n        1.682, 0.87, 6.076, 5.165, 0.759, 6.076, 6.076, 6.076, \n        6.076, 6.076, 0.151, 6.076, 4.108, 6.076, 6.076, 6.076, \n        6.076, 1.016, 6.076, 6.076, 6.076, 6.076, 6.076, 6.076, \n        6.076, 6.076, 6.076, 6.076, 6.076, 6.076, 1.746, 6.076, \n        6.076, 6.076, 6.076, 6.076, 6.076, 6.076, 6.076, 6.076, \n        6.076, 6.076, 6.076, 6.076, 6.076, 6.076, 6.076, 6.076, \n        6.076, 6.076, 6.076, 6.076, 6.076, 6.076, 6.076, 5.165, \n        5.011, 6.076, 6.076, 6.076, 6.076, 6.076, 6.076, 6.076, \n        6.076, 6.076, 6.076, 6.076, 6.076, 6.076, 6.076, 6.076, \n        6.076, 6.076, 5.165, 5.165, 6.076, 6.076, 6.076, 6.076, \n        4.108, 6.076, 4.108, 6.076, 6.076, 1.795, 0.759, 6.076, \n        6.076, 4.108, 6.076, 6.076, 6.076, 6.076, 6.076, 6.076, \n        6.076, 6.076, 1.746, 6.076, 6.076, 6.076, 6.076, 6.076, \n        6.076, 6.076, 6.076, 6.076, 6.076, 4.814, 6.076, 6.076, \n        6.076, 6.076), c(1, 1, 1, 1, 1, 1, 1, 1, 1, 1, 1, 1, \n        1, 1, 1, 1, 1, 1, 1, 1, 1, 1, 1, 1, 1, 1, 2, 2, 2, 1, \n        1, 1, 1, 1, 1, 1, 1, 1, 1, 1, 1, 1, 1, 1, 1, 1, 1, 1, \n        1, 1, 1, 1, 1, 1, 1, 1, 1, 1, 1, 1, 1, 1, 1, 1, 1, 1, \n        1, 1, 1, 1, 1, 1, 1, 1, 1, 1, 1, 1, 1, 1, 1, 1, 1, 1, \n        1, 1, 1, 1, 1, 1, 1, 1, 2, 1, 1, 1, 1, 1, 1, 1, 1, 1, \n        1, 1, 1, 1, 1, 1, 1, 1, 1, 1, 1, 1, 1, 1, 1, 1, 1, 1, \n        1, 1, 1, 1, 1, 1, 1, 1, 1, 1, 1, 1, 1, 1, 1, 1, 1, 1, \n        1, 1, 1, 1, 1, 1, 1, 1, 1, 1, 1, 1, 1, 1, 1, 1, 1, 1, \n        1, 1, 1, 1, 2, 1, 2, 1, 1, 2, 1, 1, 1, 2, 1, 1, 1, 1, \n        1, 1, 1, 1, 1, 1, 1, 1, 1, 1, 1, 1, 1, 1, 1, 1, 1, 1, \n        1, 1), c(4, 4, 4, 4, 1, 4, 4, 3, 2, 1, 4, 4, 2, 4, 4, \n        1, 4, 4, 1, 4, 4, 4, 4, 2, 3, 1, 2, 3, 2, 3, 1, 4, 1, \n        4, 4, 4, 4, 4, 4, 4, 4, 4, 4, 4, 4, 1, 4, 4, 2, 4, 4, \n        4, 4, 3, 4, 4, 4, 4, 4, 4, 4, 4, 4, 4, 4, 4, 4, 4, 4, \n        4, 4, 4, 4, 4, 4, 1, 4, 4, 3, 4, 3, 2, 4, 4, 1, 4, 4, \n        4, 4, 4, 1, 4, 4, 4, 4, 4, 4, 2, 4, 4, 4, 4, 4, 4, 4, \n        4, 4, 4, 4, 4, 3, 4, 4, 4, 4, 4, 4, 4, 4, 4, 4, 4, 4, \n        4, 4, 4, 4, 4, 4, 4, 4, 4, 4, 4, 4, 4, 4, 4, 4, 4, 4, \n        4, 4, 4, 4, 4, 4, 4, 4, 4, 4, 4, 4, 4, 4, 4, 4, 4, 4, \n        4, 4, 4, 4, 4, 4, 3, 1, 4, 4, 4, 4, 4, 4, 4, 4, 4, 4, \n        4, 3, 4, 4, 4, 4, 4, 4, 4, 4, 4, 4, 4, 4, 4, 4, 4)))\n\nCoefficients:\n         (Intercept)     Gmale  year2019  year2020  year2021 year2022\nlocal      90.001816 -57.26782 143.49444 -82.83619  28.20490 16.44881\nnational    9.067185  35.24120  92.76488 -52.46518 -24.29682 67.39992\n         Subfield_Englishgeneral mathematics\nlocal                              -2.569003\nnational                           93.458287\n         Subfield_Englishnumerical & computational mathematics\nlocal                                                0.5984153\nnational                                            72.5863482\n         Subfield_Englishstatistics & probability         q1        q2\nlocal                                    114.1134 -15.797998 -16.30949\nnational                                 154.4904   8.850106  66.19348\n                q3 openaccess_statusYES\nlocal    -229.1278           103.249274\nnational -137.0735             1.494777\n\nStd. Errors:\n         (Intercept)    Gmale  year2019     year2020 year2021 year2022\nlocal       47.37923 30.15302 70.217870 1.054563e-08 26.66748  49.4995\nnational    21.46870 21.74795  9.135564 5.690025e-01 52.64448  49.4995\n         Subfield_Englishgeneral mathematics\nlocal                           3.464977e-09\nnational                        9.156029e+00\n         Subfield_Englishnumerical & computational mathematics\nlocal                                                 138.6498\nnational                                              138.6498\n         Subfield_Englishstatistics & probability           q1       q2\nlocal                                    91.27117 1.334058e-08 138.6498\nnational                                 65.29260 5.690025e-01 138.6498\n                q3 openaccess_statusYES\nlocal    17.233472             89.15187\nnational  8.830945             89.15187\n\nResidual Deviance: 215.2255 \nAIC: 267.2255 \n\n"
     ]
    }
   ],
   "source": [
    "\n",
    "def reg(dom,merged):\n",
    "  dummy = merged.copy()\n",
    "  dummy = dummy[dummy['Field_English'] == dom]\n",
    "  print(\"no of subfield \",dummy['SubField_English'].nunique())\n",
    "  G = []\n",
    "  for ind in dummy.index:\n",
    "    if dummy['cor_gender'][ind] == 'female' or dummy['cor_gender'][ind] == 'f' or dummy['cor_gender'][ind] == 'F':\n",
    "      G.append(\"female\")\n",
    "    else:\n",
    "      G.append(\"male\")\n",
    "  dummy['G'] = G\n",
    "\n",
    "  tmp = pd.DataFrame()\n",
    "\n",
    "  tmp['type'] = dummy['type']\n",
    "  tmp['year'] = dummy['year']\n",
    "  tmp['Domain_English'] = dummy['Domain_English']\n",
    "  tmp['Field_English'] = dummy['Field_English']\n",
    "  tmp['Subfield_English'] = dummy['SubField_English']\n",
    "  tmp['G'] = dummy['G']\n",
    "  tmp['SJR'] = dummy['SJR']\n",
    "  tmp['openaccess_status'] = dummy['openaccess_status']\n",
    "\n",
    "  #tmp['srcid'] = dummy['srcid']\n",
    "  #tmp['srcid'] = tmp['srcid'].astype(str)\n",
    "\n",
    "  tmp = tmp.dropna(subset = ['type'])\n",
    "\n",
    "  q1 = t['SJR'].quantile(0.25)\n",
    "  q2 = t['SJR'].quantile(0.50)\n",
    "  q3 = t['SJR'].quantile(0.75)\n",
    "\n",
    "  q = []\n",
    "  for ind in tmp.index:\n",
    "    if tmp['SJR'][ind] <= q1:\n",
    "      q.append(0)\n",
    "    elif tmp['SJR'][ind] > q1 and tmp['SJR'][ind] <= q2:\n",
    "      q.append(1)\n",
    "    elif tmp['SJR'][ind] > q2 and tmp['SJR'][ind] <= q3:\n",
    "      q.append(2)\n",
    "    else:\n",
    "      q.append(3)\n",
    "  tmp['q'] = q\n",
    "\n",
    "  return tmp\n",
    "\n",
    "\n",
    "\n",
    "'''category = []\n",
    "for ind in merged.index:\n",
    "  if merged['type'][ind] == 'local':\n",
    "    category.append(0)\n",
    "\n",
    "  elif merged['type'][ind] == 'national':\n",
    "    category.append(1)\n",
    "  elif merged['type'][ind] == 'international':\n",
    "    category.append(2)\n",
    "tmp['category'] = category'''\n",
    "\n",
    "\n",
    "#tmp['srcid'] = tmp['srcid'].astype(str)\n",
    "\n",
    "\n",
    "##https://stats.oarc.ucla.edu/r/dae/multinomial-logistic-regression/ - for interpretation\n",
    "\n",
    "#tmp = reg('Agriculture, Fisheries & Forestry',merged) #insig\n",
    "#tmp = reg('Built Environment & Design',merged) #insig\n",
    "#tmp = reg('Enabling & Strategic Technologies',merged) #local coefficient = -0.3468981, p val = 8.69660209e-04 (hold for t)\n",
    "#tmp = reg('Engineering',merged) #insig\n",
    "#tmp = reg('Information & Communication Technologies',merged) #local coefficient = -0.38352510, pval = 1.75216980e-02 (hold for t)\n",
    "#tmp = reg('Communication & Textual Studies',merged) #insig\n",
    "#tmp = reg('Historical Studies',merged) #national coefficient = -0.3030882, p val = 4.20442395e-02 (hold for t)\n",
    "#tmp = reg('Philosophy & Theology',merged) #insig\n",
    "#tmp = reg('Visual & Performing Arts',merged) #error\n",
    "#tmp = reg('Economics & Business ',merged) #insig\n",
    "#tmp = reg('Social Sciences',merged) #insig\n",
    "#tmp = reg('Biomedical Research',merged) # local coefficient = -0.19560364, p val = 2.81382585e-06 (hold for t)\n",
    "#tmp = reg('Clinical Medicine',merged) #local coefficient = -0.07519664, p val = 5.04075784e-003 (hold for t)\n",
    "#tmp = reg('Psychology & Cognitive Sciences',merged) #local coefficient = -0.11822272, p val = 3.52041006e-02 (hold for t)\n",
    "#tmp = reg('Public Health & Health Services',merged) #insig\n",
    "#tmp = reg('Biology',merged) #insig\n",
    "#tmp = reg('Chemistry',merged) #insig\n",
    "#tmp = reg('Earth & Environmental Sciences',merged) #loical coefficient = 0.1810558097, p val =6.01319648e-004 (hold for t)\n",
    "tmp = reg('Mathematics & Statistics',merged) #local coeff = -15.18566, p val = 8.15632124e-045//national coeff = -15.57549, p val = 2.31334740e-090 (does not hold for t, local coeff = -ve, p val = 0.0575, national coeff = +ve)\n",
    "#tmp = reg('Physics & Astronomy',merged) # national coeff = -0.2437654, p val = 4.56961170e-03 (hold for t)\n",
    "\n",
    "with localconverter(ro.default_converter + pandas2ri.converter):\n",
    "  tst_df = ro.conversion.py2rpy(tmp)\n",
    "\n",
    "col_2_index = list(tst_df.colnames).index('year')\n",
    "col_2 = ro.vectors.FactorVector(tst_df.rx2('year'))\n",
    "tst_df[col_2_index] = col_2\n",
    "\n",
    "'''col_2_index = list(tst_df.colnames).index('Domain_English')\n",
    "col_2 = ro.vectors.FactorVector(tst_df.rx2('Domain_English'))\n",
    "tst_df[col_2_index] = col_2'''\n",
    "\n",
    "'''col_2_index = list(tst_df.colnames).index('srcid')\n",
    "col_2 = ro.vectors.FactorVector(tst_df.rx2('srcid'))\n",
    "tst_df[col_2_index] = col_2'''\n",
    "\n",
    "col_2_index = list(tst_df.colnames).index('Subfield_English')\n",
    "col_2 = ro.vectors.FactorVector(tst_df.rx2('Subfield_English'))\n",
    "tst_df[col_2_index] = col_2\n",
    "\n",
    "col_2_index = list(tst_df.colnames).index('openaccess_status')\n",
    "col_2 = ro.vectors.FactorVector(tst_df.rx2('openaccess_status'))\n",
    "tst_df[col_2_index] = col_2\n",
    "\n",
    "\n",
    "col_2_index = list(tst_df.colnames).index('q')\n",
    "col_2 = ro.vectors.FactorVector(tst_df.rx2('q'))\n",
    "tst_df[col_2_index] = col_2\n",
    "\n",
    "model = nnet.multinom(\"type ~ G+year+Subfield_English+q+openaccess_status\",\n",
    "                  data=tst_df) \n",
    "\n",
    "\n",
    "print(base.summary(model))\n",
    "#print(base.summary(model).rx2(\"coefficients\")) #run this for r output\n",
    "\n",
    "\n",
    "#coeffs = base.summary(model).rx2('coefficients')\n",
    "#std = base.summary(model).rx2('standard.errors')"
   ]
  },
  {
   "cell_type": "code",
   "execution_count": 0,
   "metadata": {
    "application/vnd.databricks.v1+cell": {
     "cellMetadata": {
      "byteLimit": 2048000,
      "rowLimit": 10000
     },
     "inputWidgets": {},
     "nuid": "6fe99fbe-44b4-48cb-8805-d9a28b3f762d",
     "showTitle": false,
     "title": ""
    }
   },
   "outputs": [
    {
     "output_type": "stream",
     "name": "stdout",
     "output_type": "stream",
     "text": [
      "printing p value\n[[5.74850094e-02 5.75329248e-02 4.09970232e-02 0.00000000e+00\n  2.90214236e-01 7.39660820e-01 0.00000000e+00 9.96556325e-01\n  2.11201598e-01 0.00000000e+00 9.06360162e-01 2.45793277e-40\n  2.46811845e-01]\n [6.72773676e-01 1.05138278e-01 3.17211156e-24 0.00000000e+00\n  6.44420918e-01 1.73315243e-01 1.83920559e-24 6.00610386e-01\n  1.79754441e-02 1.50123414e-54 6.33066686e-01 2.46435969e-54\n  9.86622786e-01]]\n"
     ]
    }
   ],
   "source": [
    "coeffs = base.summary(model).rx2('coefficients')\n",
    "std = base.summary(model).rx2('standard.errors')\n",
    "import scipy.stats \n",
    "\n",
    "z = np.array(coeffs) / np.array(std)\n",
    "#print(z)\n",
    "\n",
    "def my_vectorized_func(m):\n",
    "    return scipy.stats.norm.sf(abs(m))*2\n",
    "\n",
    "val = my_vectorized_func(z)\n",
    "print(\"printing p value\")\n",
    "print(val)\n",
    "\n",
    "  \n",
    "#p_values = (1 - pnorm(abss(z)))*2\n",
    "\n",
    "# convert to p-values\n",
    "#p_values <- (1 - pnorm(abs(z_stats)))*2"
   ]
  },
  {
   "cell_type": "code",
   "execution_count": 0,
   "metadata": {
    "application/vnd.databricks.v1+cell": {
     "cellMetadata": {
      "byteLimit": 2048000,
      "rowLimit": 10000
     },
     "inputWidgets": {},
     "nuid": "45da5aa8-e436-4774-803e-6be8e19acd25",
     "showTitle": false,
     "title": ""
    }
   },
   "outputs": [
    {
     "output_type": "stream",
     "name": "stdout",
     "output_type": "stream",
     "text": [
      "Out[40]: 0.057532935135273286"
     ]
    }
   ],
   "source": [
    "scipy.stats.norm.sf(abs(-57.26782/30.15302))*2\n",
    "#(-3.406671e-05)/0.1185584"
   ]
  },
  {
   "cell_type": "markdown",
   "metadata": {
    "application/vnd.databricks.v1+cell": {
     "cellMetadata": {},
     "inputWidgets": {},
     "nuid": "e6482132-1452-469c-b2de-6fd9d271c1c6",
     "showTitle": false,
     "title": ""
    }
   },
   "source": [
    "## multinomial logit regression for each domain"
   ]
  },
  {
   "cell_type": "code",
   "execution_count": 0,
   "metadata": {
    "application/vnd.databricks.v1+cell": {
     "cellMetadata": {
      "byteLimit": 2048000,
      "rowLimit": 10000
     },
     "inputWidgets": {},
     "nuid": "be21c7f2-6f50-4854-a335-0160f4417a6c",
     "showTitle": false,
     "title": ""
    }
   },
   "outputs": [
    {
     "output_type": "stream",
     "name": "stdout",
     "output_type": "stream",
     "text": [
      "Out[68]: array(['Applied Sciences', 'Arts & Humanities',\n       'Economic & Social Sciences', 'Health Sciences',\n       'Natural Sciences'], dtype=object)"
     ]
    }
   ],
   "source": [
    "merged['Domain_English'].unique()"
   ]
  },
  {
   "cell_type": "code",
   "execution_count": 0,
   "metadata": {
    "application/vnd.databricks.v1+cell": {
     "cellMetadata": {
      "byteLimit": 2048000,
      "rowLimit": 10000
     },
     "inputWidgets": {},
     "nuid": "4eaef5e4-f747-4dc8-956e-74004088bfa0",
     "showTitle": false,
     "title": ""
    }
   },
   "outputs": [
    {
     "output_type": "stream",
     "name": "stdout",
     "output_type": "stream",
     "text": [
      "total subfield  33\n# weights:  126 (82 variable)\ninitial  value 60812.584627 \niter  10 value 49916.085792\niter  20 value 49720.580799\niter  30 value 48998.219351\niter  40 value 48703.151912\niter  50 value 48498.333868\niter  60 value 48432.894978\niter  70 value 48422.172967\niter  80 value 48421.611646\niter  90 value 48421.508552\niter  90 value 48421.508183\niter  90 value 48421.508182\nfinal  value 48421.508182 \nconverged\nCall:\n(function (formula, data, weights, subset, na.action, contrasts = NULL, \n    Hess = FALSE, summ = 0, censored = FALSE, model = FALSE, \n    ...) \n{\n    class.ind <- function(cl) {\n        n <- length(cl)\n        x <- matrix(0, n, length(levels(cl)))\n        x[(1:n) + n * (as.integer(cl) - 1)] <- 1\n        dimnames(x) <- list(names(cl), levels(cl))\n        x\n    }\n    summ2 <- function(X, Y) {\n        X <- as.matrix(X)\n        Y <- as.matrix(Y)\n        n <- nrow(X)\n        p <- ncol(X)\n        q <- ncol(Y)\n        Z <- t(cbind(X, Y))\n        storage.mode(Z) <- \"double\"\n        z <- .C(VR_summ2, as.integer(n), as.integer(p), as.integer(q), \n            Z = Z, na = integer(1))\n        Za <- t(z$Z[, 1:z$na, drop = FALSE])\n        list(X = Za[, 1:p, drop = FALSE], Y = Za[, p + 1:q])\n    }\n    call <- match.call()\n    m <- match.call(expand.dots = FALSE)\n    m$summ <- m$Hess <- m$contrasts <- m$censored <- m$model <- m$... <- NULL\n    m[[1]] <- quote(stats::model.frame)\n    m <- eval.parent(m)\n    Terms <- attr(m, \"terms\")\n    X <- model.matrix(Terms, m, contrasts)\n    cons <- attr(X, \"contrasts\")\n    Xr <- qr(X)$rank\n    Y <- model.response(m)\n    if (!is.matrix(Y)) \n        Y <- as.factor(Y)\n    w <- model.weights(m)\n    if (length(w) == 0) \n        if (is.matrix(Y)) \n            w <- rep(1, dim(Y)[1])\n        else w <- rep(1, length(Y))\n    lev <- levels(Y)\n    if (is.factor(Y)) {\n        counts <- table(Y)\n        if (any(counts == 0)) {\n            empty <- lev[counts == 0]\n            warning(sprintf(ngettext(length(empty), \"group %s is empty\", \n                \"groups %s are empty\"), paste(sQuote(empty), \n                collapse = \" \")), domain = NA)\n            Y <- factor(Y, levels = lev[counts > 0])\n            lev <- lev[counts > 0]\n        }\n        if (length(lev) < 2) \n            stop(\"need two or more classes to fit a multinom model\")\n        if (length(lev) == 2) \n            Y <- as.integer(Y) - 1\n        else Y <- class.ind(Y)\n    }\n    if (summ == 1) {\n        Z <- cbind(X, Y)\n        z1 <- cumprod(apply(Z, 2, max) + 1)\n        Z1 <- apply(Z, 1, function(x) sum(z1 * x))\n        oZ <- order(Z1)\n        Z2 <- !duplicated(Z1[oZ])\n        oX <- (seq_along(Z1)[oZ])[Z2]\n        X <- X[oX, , drop = FALSE]\n        Y <- if (is.matrix(Y)) \n            Y[oX, , drop = FALSE]\n        else Y[oX]\n        w <- diff(c(0, cumsum(w))[c(Z2, TRUE)])\n        print(dim(X))\n    }\n    if (summ == 2) {\n        Z <- summ2(cbind(X, Y), w)\n        X <- Z$X[, 1:ncol(X)]\n        Y <- Z$X[, ncol(X) + 1:ncol(Y), drop = FALSE]\n        w <- Z$Y\n        print(dim(X))\n    }\n    if (summ == 3) {\n        Z <- summ2(X, Y * w)\n        X <- Z$X\n        Y <- Z$Y[, 1:ncol(Y), drop = FALSE]\n        w <- rep(1, nrow(X))\n        print(dim(X))\n    }\n    offset <- model.offset(m)\n    r <- ncol(X)\n    if (is.matrix(Y)) {\n        p <- ncol(Y)\n        sY <- Y %*% rep(1, p)\n        if (any(sY == 0)) \n            stop(\"some case has no observations\")\n        if (!censored) {\n            Y <- Y/matrix(sY, nrow(Y), p)\n            w <- w * sY\n        }\n        if (length(offset) > 1) {\n            if (ncol(offset) != p) \n                stop(\"ncol(offset) is wrong\")\n            mask <- c(rep(FALSE, r + 1 + p), rep(c(FALSE, rep(TRUE, \n                r), rep(FALSE, p)), p - 1))\n            X <- cbind(X, offset)\n            Wts <- as.vector(rbind(matrix(0, r + 1, p), diag(p)))\n            fit <- nnet.default(X, Y, w, Wts = Wts, mask = mask, \n                size = 0, skip = TRUE, softmax = TRUE, censored = censored, \n                rang = 0, ...)\n        }\n        else {\n            mask <- c(rep(FALSE, r + 1), rep(c(FALSE, rep(TRUE, \n                r)), p - 1))\n            fit <- nnet.default(X, Y, w, mask = mask, size = 0, \n                skip = TRUE, softmax = TRUE, censored = censored, \n                rang = 0, ...)\n        }\n    }\n    else {\n        if (length(offset) <= 1) {\n            mask <- c(FALSE, rep(TRUE, r))\n            fit <- nnet.default(X, Y, w, mask = mask, size = 0, \n                skip = TRUE, entropy = TRUE, rang = 0, ...)\n        }\n        else {\n            mask <- c(FALSE, rep(TRUE, r), FALSE)\n            Wts <- c(rep(0, r + 1), 1)\n            X <- cbind(X, offset)\n            fit <- nnet.default(X, Y, w, Wts = Wts, mask = mask, \n                size = 0, skip = TRUE, entropy = TRUE, rang = 0, \n                ...)\n        }\n    }\n    fit$formula <- attr(Terms, \"formula\")\n    fit$terms <- Terms\n    fit$call <- call\n    fit$weights <- w\n    fit$lev <- lev\n    fit$deviance <- 2 * fit$value\n    fit$rank <- Xr\n    edf <- ifelse(length(lev) == 2, 1, length(lev) - 1) * Xr\n    if (is.matrix(Y)) {\n        edf <- (ncol(Y) - 1) * Xr\n        if (length(dn <- colnames(Y)) > 0) \n            fit$lab <- dn\n        else fit$lab <- 1:ncol(Y)\n    }\n    fit$coefnames <- colnames(X)\n    fit$vcoefnames <- fit$coefnames[1:r]\n    fit$na.action <- attr(m, \"na.action\")\n    fit$contrasts <- cons\n    fit$xlevels <- .getXlevels(Terms, m)\n    fit$edf <- edf\n    fit$AIC <- fit$deviance + 2 * edf\n    if (model) \n        fit$model <- m\n    class(fit) <- c(\"multinom\", \"nnet\")\n    if (Hess) \n        fit$Hessian <- multinomHess(fit, X)\n    fit\n})(formula = \"type ~ G+year+Subfield_English+q\", data = list(\n    c(\"national\", \"national\", \"national\", \"national\", \"national\", \n    \"national\", \"national\", \"national\", \"national\", \"national\", \n    \"national\", \"national\", \"national\", \"national\", \"national\", \n    \"national\", \"national\", \"national\", \"national\", \"national\", \n    \"national\", \"national\", \"national\", \"national\", \"national\", \n    \"national\", \"national\", \"national\", \"national\", \"national\", \n    \"national\", \"national\", \"national\", \"national\", \"national\", \n    \"national\", \"national\", \"national\", \"national\", \"national\", \n    \"national\", \"national\", \"national\", \"national\", \"national\", \n    \"national\", \"national\", \"national\", \"national\", \"national\", \n    \"national\", \"national\", \"national\", \"national\", \"national\", \n    \"national\", \"national\", \"national\", \"national\", \"national\", \n    \"national\", \"national\", \"national\", \"national\", \"national\", \n    \"national\", \"national\", \"national\", \"national\", \"national\", \n    \"national\", \"national\", \"national\", \"national\", \"national\", \n    \"national\", \"national\", \"national\", \"national\", \"national\", \n    \"national\", \"national\", \"national\", \"national\", \"national\", \n    \"national\", \"national\", \"national\", \"national\", \"national\", \n    \"national\", \"national\", \"national\", \"national\", \"national\", \n    \"national\", \"national\", \"national\", \"national\", \"national\", \n    \"national\", \"national\", \"national\", \"national\", \"national\", \n    \"national\", \"national\", \"national\", \"national\", \"national\", \n    \"national\", \"national\", \"national\", \"national\", \"national\", \n    \"national\", \"national\", \"national\", \"national\", \"national\", \n    \"national\", \"national\", \"national\", \"national\", \"national\", \n    \"national\", \"national\", \"national\", \"national\", \"national\", \n    \"national\", \"national\", \"national\", \"national\", \"national\", \n    \"national\", \"national\", \"national\", \"national\", \"national\", \n    \"national\", \"national\", \"national\", \"national\", \"national\", \n    \"national\", \"national\", \"national\", \"national\", \"national\", \n    \"national\", \"national\", \"national\", \"national\", \"national\", \n    \"national\", \"national\", \"national\", \"national\", \"national\", \n    \"national\", \"national\", \"national\", \"national\", \"national\", \n    \"national\", \"national\", \"national\", \"national\", \"national\", \n    \"national\", \"national\", \"national\", \"national\", \"national\", \n    \"national\", \"national\", \"national\", \"national\", \"national\", \n    \"national\", \"national\", \"national\", \"national\", \"national\", \n    \"national\", \"national\", \"national\", \"national\", \"national\", \n    \"national\", \"national\", \"national\", \"national\", \"national\", \n    \"national\", \"national\", \"national\", \"national\", \"national\", \n    \"national\", \"national\", \"national\", \"national\", \"national\", \n    \"national\", \"national\", \"national\", \"national\", \"national\", \n    \"national\", \"national\", \"national\", \"national\", \"national\", \n    \"national\", \"national\", \"national\", \"national\", \"national\", \n    \"national\", \"national\", \"national\", \"national\", \"national\", \n    \"national\", \"national\", \"national\", \"national\", \"national\", \n    \"national\", \"national\", \"national\", \"national\", \"national\", \n    \"national\", \"national\", \"national\", \"national\", \"national\", \n    \"national\", \"national\", \"national\", \"national\", \"national\", \n    \"national\", \"national\", \"national\", \"national\", \"national\", \n    \"national\", \"national\", \"national\", \"national\", \"national\", \n    \"national\", \"national\", \"national\", \"national\", \"national\", \n    \"national\", \"national\", \"national\", \"national\", \"national\", \n    \"national\", \"national\", \"national\", \"national\", \"national\", \n    \"national\", \"national\", \"national\", \"national\", \"national\", \n    \"national\", \"national\", \"national\", \"national\", \"national\", \n    \"national\", \"national\", \"national\", \"national\", \"national\", \n    \"national\", \"national\", \"national\", \"national\", \"national\", \n    \"national\", \"national\", \"national\", \"national\", \"national\", \n    \"national\", \"national\", \"national\", \"national\", \"national\", \n    \"national\", \"national\", \"national\", \"national\", \"national\", \n    \"national\", \"national\", \"national\", \"national\", \"national\", \n    \"national\", \"national\", \"national\", \"national\", \"national\", \n    \"national\", \"national\", \"national\", \"national\", \"national\", \n    \"national\", \"national\", \"national\", \"national\", \"national\", \n    \"national\", \"national\", \"national\", \"national\", \"national\", \n    \"national\", \"national\", \"national\", \"national\", \"national\", \n    \"national\", \"national\", \"national\", \"national\", \"national\", \n    \"national\", \"national\", \"national\", \"national\", \"national\", \n    \"national\", \"national\", \"national\", \"national\", \"national\", \n    \"national\", \"national\", \"national\", \"national\", \"national\", \n    \"national\", \"national\", \"national\", \"national\", \"national\", \n    \"national\", \"national\", \"national\", \"national\", \"national\", \n    \"national\", \"national\", \"national\", \"national\", \"national\", \n    \"national\", \"national\", \"national\", \"national\", \"national\", \n    \"national\", \"national\", \"national\", \"national\", \"national\", \n    \"national\", \"national\", \"national\", \"national\", \"national\", \n    \"national\", \"national\", \"national\", \"national\", \"national\", \n    \"national\", \"national\", \"national\", \"national\", \"national\", \n    \"national\", \"national\", \"national\", \"national\", \"national\", \n    \"national\", \"national\", \"national\", \"national\", \"national\", \n    \"national\", \"national\", \"national\", \"national\", \"national\", \n    \"national\", \"national\", \"national\", \"national\", \"national\", \n    \"national\", \"national\", \"national\", \"national\", \"national\", \n    \"national\", \"national\", \"national\", \"national\", \"national\", \n    \"national\", \"national\", \"national\", \"national\", \"national\", \n    \"national\", \"national\", \"national\", \"national\", \"national\", \n    \"national\", \"national\", \"national\", \"national\", \"national\", \n    \"national\", \"national\", \"national\", \"national\", \"national\", \n    \"national\", \"national\", \"national\", \"national\", \"national\", \n    \"national\", \"national\", \"national\", \"national\", \"national\", \n    \"national\", \"national\", \"national\", \"national\", \"national\", \n    \"national\", \"national\", \"national\", \"national\", \"national\", \n    \"national\", \"national\", \"national\", \"national\", \"national\", \n    \"national\", \"national\", \"national\", \"national\", \"national\", \n    \"national\", \"national\", \"national\", \"national\", \"national\", \n    \"national\", \"national\", \"national\", \"national\", \"national\", \n    \"national\", \"national\", \"national\", \"national\", \"national\", \n    \"national\", \"national\", \"national\", \"national\", \"national\", \n    \"national\", \"national\", \"national\", \"national\", \"national\", \n    \"national\", \"national\", \"national\", \"national\", \"national\", \n    \"national\", \"national\", \"national\", \"national\", \"national\", \n    \"national\", \"national\", \"national\", \"national\", \"national\", \n    \"national\", \"national\", \"national\", \"national\", \"national\", \n    \"national\", \"national\", \"national\", \"national\", \"national\", \n    \"national\", \"national\", \"national\", \"national\", \"national\", \n    \"national\", \"national\", \"national\", \"national\", \"national\", \n    \"national\", \"national\", \"national\", \"national\", \"national\", \n    \"national\", \"national\", \"national\", \"national\", \"national\", \n    \"national\", \"national\", \"national\", \"national\", \"national\", \n    \"national\", \"national\", \"national\", \"national\", \"national\", \n    \"national\", \"national\", \"national\", \"national\", \"national\", \n    \"national\", \"national\", \"national\", \"national\", \"national\", \n    \"national\", \"national\", \"national\", \"national\", \"national\", \n    \"national\", \"national\", \"national\", \"national\", \"national\", \n    \"national\", \"national\", \"national\", \"national\", \"national\", \n    \"national\", \"national\", \"national\", \"national\", \"national\", \n    \"national\", \"national\", \"national\", \"national\", \"national\", \n    \"national\", \"national\", \"national\", \"national\", \"national\", \n    \"national\", \"national\", \"national\", \"national\", \"national\", \n    \"national\", \"national\", \"national\", \"national\", \"national\", \n    \"national\", \"national\", \"national\", \"national\", \"national\", \n    \"national\", \"national\", \"national\", \"national\", \"national\", \n    \"national\", \"national\", \"national\", \"national\", \"national\", \n    \"national\", \"national\", \"national\", \"national\", \"national\", \n    \"national\", \"national\", \"national\", \"national\", \"national\", \n    \"national\", \"national\", \"national\", \"national\", \"national\", \n    \"national\", \"national\", \"national\", \"national\", \"national\", \n    \"national\", \"national\", \"national\", \"national\", \"national\", \n    \"national\", \"national\", \"national\", \"national\", \"national\", \n    \"national\", \"national\", \"national\", \"national\", \"national\", \n    \"national\", \"national\", \"national\", \"national\", \"national\", \n    \"national\", \"national\", \"national\", \"national\", \"national\", \n    \"national\", \"national\", \"national\", \"national\", \"national\", \n    \"national\", \"national\", \"national\", \"national\", \"national\", \n    \"national\", \"national\", \"national\", \"national\", \"national\", \n    \"national\", \"national\", \"national\", \"national\", \"national\", \n    \"national\", \"national\", \"national\", \"national\", \"national\", \n    \"national\", \"national\", \"national\", \"national\", \"national\", \n    \"national\", \"national\", \"national\", \"national\", \"national\", \n    \"national\", \"national\", \"national\", \"national\", \"national\", \n    \"national\", \"national\", \"national\", \"national\", \"national\", \n    \"national\", \"national\", \"national\", \"national\", \"national\", \n    \"national\", \"national\", \"national\", \"national\", \"national\", \n    \"national\", \"national\", \"national\", \"national\", \"national\", \n    \"national\", \"national\", \"national\", \"national\", \"national\", \n    \"national\", \"national\", \"national\", \"national\", \"national\", \n    \"national\", \"national\", \"national\", \"national\", \"national\", \n    \"national\", \"national\", \"national\", \"national\", \"national\", \n    \"national\", \"national\", \"national\", \"national\", \"national\", \n    \"national\", \"national\", \"national\", \"national\", \"national\", \n    \"national\", \"national\", \"national\", \"national\", \"national\", \n    \"national\", \"national\", \"national\", \"national\", \"national\", \n    \"national\", \"national\", \"national\", \"national\", \"national\", \n    \"national\", \"national\", \"national\", \"national\", \"national\", \n    \"national\", \"national\", \"national\", \"national\", \"national\", \n    \"national\", \"national\", \"national\", \"national\", \"national\", \n    \"national\", \"national\", \"national\", \"national\", \"national\", \n    \"national\", \"national\", \"national\", \"national\", \"national\", \n    \"national\", \"national\", \"national\", \"national\", \"national\", \n    \"national\", \"national\", \"national\", \"national\", \"national\", \n    \"national\", \"national\", \"national\", \"national\", \"national\", \n    \"national\", \"national\", \"national\", \"national\", \"national\", \n    \"national\", \"national\", \"national\", \"national\", \"national\", \n    \"national\", \"national\", \"national\", \"national\", \"national\", \n    \"national\", \"national\", \"national\", \"national\", \"national\", \n    \"national\", \"national\", \"national\", \"national\", \"national\", \n    \"national\", \"national\", \"national\", \"national\", \"national\", \n    \"national\", \"national\", \"national\", \"national\", \"national\", \n    \"national\", \"national\", \"national\", \"national\", \"national\", \n    \"national\", \"national\", \"national\", \"national\", \"national\", \n    \"national\", \"national\", \"national\", \"national\", \"national\", \n    \"national\", \"national\", \"national\", \"national\", \"national\", \n    \"national\", \"national\", \"national\", \"national\", \"national\", \n    \"national\", \"national\", \"national\", \"national\", \"national\", \n    \"national\", \"national\", \"national\", \"national\", \"national\", \n    \"national\", \"national\", \"national\", \"national\", \"national\", \n    \"national\", \"national\", \"national\", \"national\", \"national\", \n    \"national\", \"national\", \"national\", \"national\", \"national\", \n    \"national\", \"national\", \"national\", \"national\", \"national\", \n    \"national\", \"national\", \"national\", \"national\", \"national\", \n    \"national\", \"national\", \"national\", \"national\", \"national\", \n    \"national\", \"national\", \"national\", \"national\", \"national\", \n    \"national\", \"national\", \"national\", \"national\", \"national\", \n    \"national\", \"national\", \"national\", \"national\", \"national\", \n    \"national\", \"national\", \"national\", \"national\", \"national\", \n    \"national\", \"national\", \"national\", \"national\", \"national\", \n    \"national\", \"national\", \"national\", \"national\", \"national\", \n    \"national\", \"national\", \"national\", \"national\", \"national\", \n    \"national\", \"national\", \"national\", \"national\", \"national\", \n    \"national\", \"national\", \"national\", \"national\", \"national\", \n    \"national\", \"national\", \"national\", \"national\", \"national\", \n    \"national\", \"national\", \"national\", \"national\", \"national\", \n    \"national\", \"national\", \"national\", \"national\", \"national\", \n    \"national\", \"national\", \"national\", \"national\", \"national\", \n    \"national\", \"national\", \"national\", \"national\", \"national\", \n    \"national\", \"national\", \"national\", \"national\", \"national\", \n    \"national\", \"national\", \"national\", \"national\", \"national\", \n    \"national\", \"national\", \"national\", \"national\", \"national\", \n    \"national\", \"national\", \"national\", \"national\", \"national\", \n    \"national\", \"national\", \"national\", \"national\", \"national\", \n    \"national\", \"national\", \"national\", \"national\", \"national\", \n    \"national\", \"national\", \"national\", \"national\", \"national\", \n    \"national\", \"national\", \"national\", \"national\", \"national\", \n    \"national\", \"national\", \"national\", \"national\", \"national\", \n    \"national\", \"national\", \"national\", \"national\", \"national\", \n    \"national\", \"national\", \"national\", \"national\", \"national\", \n    \"national\", \"national\", \"national\", \"national\", \"national\", \n    \"national\", \"national\", \"national\", \"national\", \"national\", \n    \"national\", \"national\", \"national\", \"national\", \"national\", \n    \"national\", \"national\", \"national\", \"national\", \"national\", \n    \"national\", \"national\", \"national\", \"national\", \"national\", \n    \"national\", \"national\", \"national\", \"national\", \"national\", \n    \"national\", \"national\", \"national\", \"national\", \"national\", \n    \"national\", \"national\", \"national\", \"national\", \"national\", \n    \"national\", \"national\", \"national\", \"national\", \"national\", \n    \"national\", \"national\", \"national\", \"national\", \"national\", \n    \"national\", \"national\", \"national\", \"national\", \"national\", \n    \"national\", \"national\", \"national\", \"national\", \"national\", \n    \"national\", \"national\", \"national\", \"national\", \"national\", \n    \"national\", \"national\", \"national\", \"national\", \"national\", \n    \"national\", \"national\", \"national\", \"national\", \"national\", \n    \"national\", \"national\", \"national\", \"national\", \"national\", \n    \"national\", \"national\", \"national\", \"national\", \"national\", \n    \"national\", \"national\", \"national\", \"national\", \"national\", \n    \"national\", \"national\", \"national\", \"national\", \"national\", \n    \"national\", \"national\", \"national\", \"national\", \"national\", \n    \"national\", \"national\", \"national\", \"national\", \"national\", \n    \"national\", \"national\", \"national\", \"national\", \"national\", \n    \"national\", \"national\", \"national\", \"national\", \"national\", \n    \"national\", \"national\", \"national\", \"national\", \"national\", \n    \"national\", \"national\", \"national\", \"national\", \"national\", \n    \"national\", \"national\", \"national\", \"national\", \"national\", \n    \"national\", \"national\", \"national\", \"national\", \"national\", \n    \"national\", \"national\", \"national\", \"national\", \"national\", \n    \"national\", \"national\", \"national\", \"national\", \"national\", \n    \"national\", \"national\", \"national\", \"national\", \"national\", \n    \"national\", \"national\", \"national\", \"national\", \"national\", \n    \"national\", \"national\", \"national\", \"national\", \"national\", \n    \"national\", \"national\", \"national\", \"national\", \"national\", \n    \"national\", \"national\", \"national\", \"national\", \"national\", \n    \"national\", \"national\", \"national\", \"national\", \"national\", \n    \"national\", \"national\", \"national\", \"national\", \"national\", \n    \"national\", \"national\", \"national\", \"national\", \"national\", \n    \"national\", \"national\", \"national\", \"national\", \"national\", \n    \"national\", \"national\", \"national\", \"national\", \"national\", \n    \"national\", \"national\", \"national\", \"national\", \"national\", \n    \"national\", \"national\", \"national\", \"national\", \"national\", \n    \"national\", \"national\", \"national\", \"national\", \"national\", \n    \"national\", \"national\", \"national\", \"national\", \"national\", \n    \"national\", \"national\", \"national\", \"national\", \"national\", \n    \"national\", \"national\", \"national\", \"national\", \"national\", \n    \"national\", \"national\", \"national\", \"national\", \"national\", \n    \"national\", \"national\", \"national\", \"national\", \"national\", \n    \"national\", \"national\", \"national\", \"national\", \"national\", \n    \"national\", \"national\", \"national\", \"national\", \"national\", \n    \"national\", \"national\", \"national\", \"national\", \"national\", \n    \"national\", \"national\", \"national\", \"national\", \"national\", \n    \"national\", \"national\", \"national\", \"national\", \"national\", \n    \"national\", \"national\", \"national\", \"national\", \"national\", \n    \"national\", \"national\", \"national\", \"national\", \"national\", \n    \"national\", \"national\", \"national\", \"national\", \"national\", \n    \"national\", \"national\", \"national\", \"national\", \"national\", \n    \"national\", \"national\", \"national\", \"national\", \"national\", \n    \"national\", \"national\", \"national\", \"national\", \"national\", \n    \"national\", \"national\", \"national\", \"national\", \"national\", \n    \"national\", \"national\", \"national\", \"national\", \"national\", \n    \"national\", \"national\", \"national\", \"national\", \"national\", \n    \"national\", \"national\", \"national\", \"national\", \"national\", \n    \"national\", \"national\", \"national\", \"national\", \"national\", \n    \"national\", \"national\", \"national\", \"national\", \"national\", \n    \"national\", \"national\", \"national\", \"national\", \"national\", \n    \"national\", \"national\", \"national\", \"national\", \"national\", \n    \"national\", \"national\", \"national\", \"national\", \"national\", \n    \"national\", \"national\", \"national\", \"national\", \"national\", \n    \"national\", \"national\", \"national\", \"national\", \"national\", \n    \"national\", \"national\", \"national\", \"national\", \"national\", \n    \"national\", \"national\", \"national\", \"national\", \"national\", \n    \"national\", \"national\", \"national\", \"national\", \"national\", \n    \"national\", \"national\", \"national\", \"national\", \"national\", \n    \"national\", \"national\", \"national\", \"national\", \"national\", \n    \"national\", \"national\", \"national\", \"national\", \"national\", \n    \"national\", \"national\", \"national\", \"national\", \"national\", \n    \"national\", \"national\", \"national\", \"national\", \"national\", \n    \"national\", \"national\", \"national\", \"national\", \"national\", \n    \"national\", \"national\", \"national\", \"national\", \"national\", \n    \"national\", \"national\", \"national\", \"national\", \"national\", \n    \"national\", \"national\", \"national\", \"national\", \"national\", \n    \"national\", \"national\", \"national\", \"national\", \"national\", \n    \"national\", \"national\", \"national\", \"national\", \"national\", \n    \"national\", \"national\", \"national\", \"national\", \"national\", \n    \"national\", \"national\", \"national\", \"national\", \"national\", \n    \"national\", \"national\", \"national\", \"national\", \"national\", \n    \"national\", \"national\", \"national\", \"national\", \"national\", \n    \"national\", \"national\", \"national\", \"national\", \"national\", \n    \"national\", \"national\", \"national\", \"national\", \"national\", \n    \"national\", \"national\", \"national\", \"national\", \"national\", \n    \"natio\n\n*** WARNING: max output size exceeded, skipping output. ***\n\n1, 4, 3, 1, 1, 1, 1, \n    1, 4, 1, 3, 2, 1, 4, 4, 4, 3, 2, 3, 3, 1, 2, 1, 2, 2, 3, \n    1, 2, 3, 4, 1, 1, 1, 4, 2, 1, 1, 3, 2, 3, 2, 1, 2, 3, 4, \n    3, 3, 4, 4, 4, 1, 3, 3, 3, 4, 2, 3, 3, 4, 3, 3, 3, 3, 2, \n    2, 4, 3, 4, 3, 3, 4, 1, 4, 1, 1, 3, 2, 3, 4, 4, 1, 1, 4, \n    2, 2, 4, 2, 3, 4, 4, 4, 4, 2, 4, 3, 2, 2, 2, 1, 1, 1, 1, \n    2, 4, 3, 3, 1, 3, 2, 3, 1, 2, 4, 4, 3, 3, 3, 1, 2, 1, 2, \n    2, 1, 2, 3, 4, 1, 1, 1, 1, 4, 4, 2, 1, 1, 3, 2, 3, 2, 1, \n    2, 3, 4, 1, 3, 3, 4, 3, 4, 4, 1, 3, 3, 3, 4, 2, 3, 3, 4, \n    4, 3, 3, 3, 2, 2, 4, 3, 4, 3, 3, 4, 3, 3, 4, 1, 4, 3, 1, \n    1, 3, 2, 3, 3, 4, 4, 1, 1, 4, 4, 2, 4, 2, 3, 4, 4, 4, 4, \n    2, 3, 4, 3, 2, 1, 4, 1, 1, 1, 3, 4, 1, 4, 4, 1, 3, 1, 1, \n    2, 4, 1, 4, 3, 3, 3, 3, 3, 1, 2, 1, 1, 2, 2, 3, 1, 4, 2, \n    2, 1, 3, 4, 4, 2, 2, 1, 2, 2, 1, 4, 3, 2, 4, 3, 2, 1, 2, \n    3, 4, 4, 3, 3, 4, 3, 4, 4, 1, 3, 3, 3, 4, 2, 4, 4, 4, 3, \n    2, 3, 3, 4, 4, 4, 3, 4, 3, 3, 3, 2, 2, 3, 4, 3, 3, 3, 3, \n    4, 1, 3, 4, 4, 4, 1, 1, 3, 2, 3, 4, 1, 4, 1, 1, 3, 4, 2, \n    2, 4, 2, 3, 4, 4, 4, 4, 4, 2, 4, 3, 2, 1, 3, 4, 1, 1, 3, \n    4, 1, 4, 1, 4, 3, 4, 4, 1, 3, 2, 1, 1, 4, 2, 1, 4, 4, 2, \n    2, 3, 3, 1, 1, 1, 2, 1, 1, 2, 2, 3, 1, 1, 4, 2, 2, 3, 4, \n    1, 4, 1, 1, 1, 4, 4, 3, 1, 4, 3, 1, 4, 3, 3, 2, 1, 4, 4, \n    1, 1, 1, 4, 4, 2, 2, 1, 1, 2, 3, 1, 2, 2, 4, 4, 3, 3, 4, \n    4, 4, 3, 1, 3, 4, 4, 3, 4, 4, 3, 3, 4, 1, 3, 3, 3, 4, 4, \n    4, 4, 4, 3, 4, 2, 3, 3, 2, 4, 4, 4, 4, 4, 4, 2, 3, 3, 2, \n    4, 3, 3, 4, 3, 3, 4, 3, 2, 2, 4, 4, 3, 4, 3, 3, 3, 3, 4, \n    3, 3, 4, 4, 4, 1, 3, 3, 4, 4, 3, 4, 4, 4, 3, 3, 1, 3, 3, \n    1, 3, 3, 1, 1, 3, 4, 1, 4, 1, 1, 4, 1, 3, 4, 2, 2, 2, 4, \n    4, 2, 2, 4, 4, 2, 4, 2, 4, 4, 4, 4, 2, 4, 4, 2, 2, 3, 3, \n    2, 2, 2, 3, 3, 2, 4, 3, 2, 2, 1, 1, 2, 2, 1, 4, 4, 2, 4, \n    4, 3, 3, 1, 4, 4, 1, 4, 4, 4, 4, 4, 1, 3, 3, 2, 2, 2, 3, \n    4, 3, 4, 4, 1, 3, 3, 1, 4, 4, 1, 1, 3, 1, 1, 1, 3, 2, 1, \n    1, 3, 2, 3, 1, 2, 1, 2, 2, 2, 3, 4, 3, 4, 2, 4, 3, 2, 3, \n    2, 1, 2, 1, 2, 3, 4, 2, 2, 1, 2, 2, 1, 3, 3, 2, 2, 2, 4, \n    1, 3, 4, 3, 4, 1, 1, 1, 4, 2, 4, 2, 2, 2, 2, 1, 2, 2, 3, \n    2, 1, 2, 4, 2, 1, 1, 4, 1, 3, 4, 3, 4, 4, 4, 2, 2, 4, 1, \n    4, 3, 2, 3, 1, 1, 3, 1, 1, 3, 4, 2, 3, 4, 3, 2, 3, 2, 2, \n    3, 2, 1, 1, 2, 1, 1, 1, 2, 1, 1, 2, 1, 4, 1, 3, 1, 4, 4, \n    4, 3, 4, 2, 1, 3, 4, 4, 2, 2, 1, 4, 3, 2, 3, 2, 3, 3, 3, \n    3, 4, 2, 3, 1, 2, 4, 2, 2, 1, 4, 2, 1, 4, 1, 2, 2, 1, 4, \n    2, 2, 1, 2, 3, 2, 4, 4, 3, 3, 2, 1, 1, 4, 4, 4, 4, 4, 3, \n    2, 1, 4, 1, 4, 4, 4, 4, 3, 2, 3, 4, 4, 4, 4, 4, 1, 3, 2, \n    2, 1, 3, 4, 1, 3, 2, 3, 1, 1, 3, 3, 4, 1, 3, 1, 1, 4, 4, \n    2, 3, 3, 1, 3, 3, 3, 4, 3, 1, 2, 4, 2, 4, 4, 2, 2, 3, 4, \n    4, 1, 4, 3, 3, 2, 3, 2, 2, 4, 3, 4, 3, 4, 3, 3, 4, 3, 3, \n    1, 4, 4, 4, 3, 4, 3, 4, 4, 3, 2, 3, 2, 3, 1, 4, 3, 3, 1, \n    2, 1, 4, 4, 4, 4, 3, 3, 4, 4, 3, 4, 3, 3, 3, 4, 3, 4, 3, \n    4, 1, 3, 4, 4, 2, 3, 2, 3, 4, 4, 3, 4, 4, 2, 4, 4, 4, 3, \n    3, 3, 4, 4, 4, 3, 1, 1, 3, 4, 4, 4, 3, 4, 4, 4, 4, 3, 4, \n    4, 3, 3, 4, 3, 3, 4, 1, 1, 4, 3, 4, 2, 3, 1, 1, 1, 2, 2, \n    1, 1, 3, 3, 2, 1, 3, 4, 3, 4, 2, 3, 4, 1, 1, 3, 2, 2, 1, \n    1, 4, 1, 2, 1, 1, 3, 1, 4, 1, 3, 2, 1, 2, 1, 4, 2, 3, 4, \n    4, 3, 3, 4, 4, 2, 3, 1, 2, 2, 1, 2, 4, 4, 3, 3, 4, 4, 2, \n    4, 4, 2, 2, 2, 1, 4, 3, 2, 4, 2, 2, 2, 2, 2, 4, 1, 1, 3, \n    4, 2, 1, 3, 4, 1, 2, 3, 2, 2, 3, 2, 4, 2, 2, 4, 2, 2, 3, \n    2, 4, 2, 2, 1, 2, 4, 2, 1, 4, 2, 4, 3, 4, 4, 2, 4, 1, 2, \n    2, 1, 2, 1, 4, 2, 4, 2, 2, 1, 4, 2, 4, 1, 2, 1, 3, 2, 2, \n    1, 2, 2, 4, 2, 1, 3, 4, 3, 2, 4, 2, 4, 4, 4, 2, 2, 1, 3, \n    2, 2, 2, 1, 2, 2, 2, 2, 2, 2, 2, 2, 2, 1, 2, 1, 2, 2, 3, \n    1, 3, 4, 3, 4, 4, 2, 2, 4, 2, 3, 2, 1, 1, 4, 2, 2, 4, 4, \n    2, 1, 2, 3, 2, 4, 3, 1, 2, 2, 2, 2, 2, 4, 2, 2, 3, 1, 2, \n    3, 3, 3, 4, 4, 4, 4, 2, 4, 4, 4, 4, 4, 4, 4, 4, 4, 2, 4, \n    3, 4, 3, 4, 3, 3, 3, 2, 3, 4, 1, 4, 4, 3, 3, 4, 3, 1, 1, \n    1, 3, 4, 2, 2, 2, 4, 4, 3, 2, 2, 4, 2, 4, 4, 4, 3, 3, 4, \n    4, 3, 4, 3, 3, 3, 4, 3, 4, 2, 2, 4, 4, 3, 4, 4, 2, 2, 3, \n    1, 4, 2, 3, 4, 1, 3, 4, 3, 4, 2, 1, 1, 1, 1, 2, 4, 2, 3, \n    2, 2, 3, 1, 4, 2, 4, 3, 3, 2, 3, 4, 4, 3, 3, 2, 3, 4, 3, \n    4, 3, 3, 3, 1, 2, 2, 3, 1, 4, 4, 3, 2, 1, 4, 2, 4, 3, 3, \n    4, 2, 2, 3, 3, 3, 2, 3, 4, 4, 4, 2, 4, 4, 2, 1, 2, 2, 2, \n    3, 1, 3, 3, 3, 4, 3, 4, 1, 3, 1, 4, 3, 4, 3, 2, 2, 3, 3, \n    3, 4, 3, 3, 3, 2, 1, 4, 3, 1, 1, 4, 3, 2, 3, 2, 4, 4, 3, \n    3, 3, 4, 4, 3, 2, 1, 2, 1, 1, 4, 1, 2, 2, 4, 1, 1, 1, 2, \n    1, 2, 2, 2, 2, 1, 2, 2, 4, 3, 3, 4, 3, 3, 3, 4, 4, 2, 1, \n    4, 4, 1, 3, 2, 1, 1, 1, 4, 4, 4, 3, 4, 2, 3, 4, 4, 4, 4, \n    2, 3, 1, 1, 2, 3, 4, 4, 4, 2, 4, 2, 1, 3, 3, 4, 3, 1, 3, \n    2, 4, 3, 4, 4, 3, 3, 3, 1, 1, 2, 4, 3, 1, 4, 2, 3, 3, 4, \n    2, 4, 3, 2, 3, 1, 1, 3, 3, 4, 3, 4, 2, 4, 3, 4, 4, 3, 4, \n    4, 1, 3, 4, 3, 3, 3, 3, 2, 4, 4, 3, 4, 2, 4, 1, 3, 2, 3, \n    4, 1, 4, 3, 3, 4, 3, 4, 4, 3, 4, 2, 1, 3, 4, 3, 2, 3, 2, \n    4, 4, 4, 2, 3, 3, 4, 3, 4, 1, 3, 4, 1, 1, 3, 2, 3, 4, 2, \n    2, 2, 3, 4, 4, 1, 3, 3, 1, 1, 1, 1, 2, 1, 2, 1, 4, 2, 1, \n    3, 2, 3, 4, 3, 1, 4, 2, 2, 3, 1, 2, 2, 3, 1, 3, 2, 2, 1, \n    1, 1, 4, 2, 2, 4, 3, 1, 3, 4, 3, 4, 4, 2, 2, 3, 4, 2, 1, \n    3, 3, 3, 4, 4, 3, 3, 3, 4, 4, 3, 4, 3, 3, 4, 2, 3, 3, 2, \n    3, 1, 3, 3, 1, 1, 4, 3, 2, 2, 4, 4, 4, 1, 4, 4, 4, 1, 4, \n    2, 2, 2, 2, 3, 3, 3, 3, 1, 3, 2, 1, 4, 3, 1, 1, 2, 1, 2, \n    2, 4, 4, 4, 4, 4, 1, 3, 3, 4, 4, 1, 3, 3, 3, 1, 4, 3, 4, \n    3, 4, 4, 1, 2, 1, 4, 3, 2, 1, 4, 3, 1, 1, 4, 1, 3, 1, 1, \n    2, 2, 3, 2, 2, 4, 1, 4, 1, 2, 1, 2, 1, 3, 4, 2, 2, 3, 1, \n    2, 4, 2, 3, 2, 2, 3, 2, 2, 1, 3, 4, 3, 3, 1, 4, 2, 3, 3, \n    4, 3, 3, 4, 2, 4, 1, 3, 4, 1, 4, 2, 1, 1, 1, 2, 3, 3, 3, \n    1, 3, 1, 1, 3, 4, 4, 1, 2, 1, 2, 2, 1, 3, 4, 3, 3, 3, 4, \n    4, 2, 2, 2, 2, 4, 2, 1, 3, 4, 2, 2, 2, 1, 1, 1, 1, 1, 1, \n    4, 1, 2, 4, 2, 3, 3, 1, 2, 1, 3, 2, 3, 2, 4, 4, 4, 2, 2, \n    2, 3, 2, 2, 2, 4, 3, 4, 2, 2, 1, 3, 2, 1, 2, 3, 4, 2, 4, \n    1, 1, 1, 1, 2, 4, 2, 3, 1, 2, 3, 3, 1, 2, 1, 2, 1, 2, 2, \n    3, 4, 2, 2, 2, 4, 1, 2, 1, 3, 4, 2, 1, 3, 4, 1, 3, 4, 2, \n    1, 1, 4, 4, 4, 4, 3, 2, 3, 2, 1, 1, 2, 4, 3, 2, 4, 4, 3, \n    3, 3, 3, 3, 4, 3, 2, 3, 3, 2, 1, 4, 2, 2, 2, 1, 3, 4, 4, \n    4, 3, 4, 4, 3, 4, 1, 4, 2, 3, 3, 2, 3, 4, 2, 3, 4, 4, 4, \n    1, 4, 4, 3, 3, 4, 3, 2, 4, 4, 3, 4, 3, 3, 3, 3, 2, 4, 4, \n    4, 3, 4, 3, 3, 3, 4, 2, 1, 4, 2, 4, 3, 4, 4, 3, 1, 1, 2, \n    2, 3, 1, 2, 1, 1, 1, 1, 1, 4, 3, 4, 3, 2, 3, 1, 4, 4, 1, \n    2, 4, 1, 4, 2, 3, 2, 4, 2, 2, 2, 2, 3, 2, 4, 2, 4, 4, 2, \n    4, 2, 2, 2, 1, 4, 2, 1, 3, 2, 2, 3, 2, 2, 4, 4, 2, 4, 3, \n    4, 1, 2, 3, 1, 3, 2, 4, 4, 4, 4, 4, 4, 4, 3, 4, 2, 1, 1, \n    4, 1, 1, 1, 2, 1, 2, 1, 2, 1, 4, 2, 3, 2, 1, 1, 2, 4, 2, \n    4, 4, 3, 4, 4, 2, 3, 4, 4, 1, 3, 4, 4, 4, 4, 3, 3, 3, 3, \n    3, 3, 4, 3, 3, 3, 1, 2, 1, 1, 2, 3, 2, 4, 4, 2, 2, 2, 1, \n    3, 2, 2, 1, 4, 2, 1, 1, 4, 3, 3, 3, 1, 4, 4, 3, 2, 1, 3, \n    4, 1, 3, 1, 1, 2, 1, 4, 1, 1, 3, 4, 2, 2, 3, 2, 4, 4, 1, \n    1, 3, 3, 4, 3, 4, 3, 3, 1, 4, 4, 3, 3, 1, 2, 4, 1, 2, 1, \n    1, 1, 4, 1, 2, 1, 3, 4, 1, 1, 2, 1, 2, 2, 2, 2, 4, 1, 1, \n    1, 2, 1, 2, 2, 1, 1, 1, 2, 2, 1, 2, 1, 1, 2, 2, 1, 1, 1, \n    3, 4, 1, 4, 2, 2, 1, 1, 4, 4, 1, 4, 4, 4, 2, 4, 4, 1, 3, \n    4, 2, 2, 3, 4, 4, 4, 3, 3, 3, 1, 4, 4, 3, 4, 1, 1, 4, 4, \n    1, 4, 2, 1, 3, 1, 4, 3, 3, 4, 1, 3, 2, 3, 3, 2, 3, 4, 1, \n    2, 4, 4, 2, 1, 3, 3, 1, 1, 4, 2, 1, 1, 2, 2, 3, 1, 2, 2, \n    3, 2, 1, 2, 1, 3, 2, 2, 2, 1, 2, 3, 3, 3, 4, 1, 4, 4, 1, \n    1, 3, 4, 3, 3, 4, 3, 2, 4, 2, 3, 3, 3, 4, 3, 3, 4, 4, 3, \n    3, 3, 3, 4, 4, 2, 1, 3, 4, 4, 4, 1, 2, 2, 1, 1, 3, 3, 1, \n    1, 3, 3, 3, 4, 1, 1, 4, 4, 3, 4, 4, 3, 3, 1, 2, 1, 2, 3, \n    4, 2, 2, 3, 1, 3, 4, 3, 3, 1, 1, 4, 4, 3, 2, 4, 2, 1, 1, \n    1, 1, 1, 2, 4, 1, 3, 4, 4, 2, 3, 1, 4, 1, 1, 2, 2, 3, 2, \n    2, 1, 3, 2, 2, 1, 2, 1, 4, 4, 3, 2, 3, 4, 2, 3, 4, 3, 1, \n    4, 1, 3, 4, 4, 3, 2, 3, 1, 3, 4, 1, 3, 4, 3, 3, 4, 4, 3, \n    4, 3, 3, 4, 3, 3, 1, 4, 3, 4, 3, 4, 4, 1, 3, 2, 3, 4, 2, \n    2, 4, 4, 2, 4, 2, 2, 2, 2, 3, 2, 4, 2, 1, 4, 4, 1, 2, 4, \n    2, 3, 2, 2, 2, 4, 3, 2, 2, 1, 1, 4, 4, 4, 3, 1, 2, 2, 4, \n    3, 2, 1, 2, 1, 2, 1, 3, 1, 1, 3, 4, 2, 2, 1, 2, 4, 4, 2, \n    3, 1, 1, 1, 2, 3, 1, 2, 4, 1, 1, 2, 1, 1, 2, 3, 4, 1, 4, \n    2, 1, 1, 4, 4, 1, 1, 3, 2, 4, 3, 2, 4, 3, 3, 1, 3, 1, 1, \n    4, 4, 2, 2, 1, 1, 4, 1, 2, 1, 2, 2, 4, 4, 1, 4, 2, 4, 2, \n    2, 1, 4, 4, 3, 2, 4, 2, 4, 3, 4, 4, 4, 3, 3, 4, 3, 1, 2, \n    2, 3, 3, 1, 3, 1, 3, 1, 4, 1, 4, 4, 1, 2, 3, 4, 4, 4, 4, \n    4, 1, 1, 2, 2, 4, 4, 2, 2, 1, 3, 2, 4, 3, 4, 2, 3, 2, 3, \n    3, 1, 4, 1, 2, 3, 1, 3, 1, 1, 3, 2, 2, 2, 1, 3, 4, 2, 3, \n    4, 2, 4, 1, 2, 1, 4, 1, 1, 1, 1, 1, 4, 1, 1, 4, 4, 3, 3, \n    4, 2, 2, 4, 3, 3, 4, 1, 2, 1, 3, 4, 1, 1, 3, 4, 2, 1, 3, \n    2, 3, 3, 2, 1, 2, 2, 4, 2, 2, 4, 3, 1, 1, 2, 1, 3, 1, 2, \n    3, 4, 4, 1, 1, 1, 2, 1, 2, 2, 2, 2, 3, 1, 3, 4, 2, 2, 1, \n    2, 2, 1, 1, 3, 2, 2, 2, 2, 1, 1, 3, 3, 2, 2, 2, 3, 4, 1, \n    2, 4, 1, 2, 3, 4, 4, 3, 4, 2, 3, 3, 3, 4, 3, 3, 4, 3, 4, \n    2, 1, 3, 2, 3, 3, 3, 3, 4, 1, 4, 4, 3, 4, 1, 1, 2, 4, 1, \n    4, 2, 1, 4, 2, 2, 1, 1, 1, 2, 4, 2, 4, 2, 4, 4, 4, 3, 4, \n    3, 1, 1, 4, 4, 2, 4, 1, 4, 3, 2, 4, 4, 4, 4, 4, 3, 2, 4, \n    4, 4, 1, 1, 2, 1, 3, 3, 4, 1, 3, 4, 4, 4, 3, 1, 1, 1, 1, \n    2, 4, 3, 2, 1, 3, 2, 2, 2, 4, 2, 4, 1, 2, 1, 2, 1, 1, 4, \n    1, 1, 3, 4, 4, 2, 4, 4, 3, 2, 4, 3, 4, 3, 1, 4, 4, 2, 1, \n    1, 2, 2, 2, 4, 2, 1, 2, 3, 1, 2, 4, 4, 2, 1, 3, 1, 1, 1, \n    4, 1, 1, 2, 2, 2, 1, 1, 3, 1, 4, 2, 1, 4, 4, 4, 4, 4, 4, \n    4, 4, 3, 2, 4, 2, 1, 3, 2, 3, 2, 1, 4, 3, 2, 2, 4, 4, 4, \n    1, 2, 2, 3, 2, 4, 2, 2, 1, 4, 2, 3, 1, 3, 3, 2, 1, 3, 3, \n    1, 3, 4, 3, 4, 4, 4, 2, 1, 1, 2, 2, 2, 2, 2, 2, 4, 4, 1, \n    1, 4, 1, 2, 2, 2, 3, 4, 4, 1, 1, 4, 4, 2, 2, 3, 3, 3, 1, \n    1, 3, 2, 3, 2, 2, 4, 3, 4, 3, 1, 2, 2, 3, 3, 1, 1, 4, 4, \n    3, 3, 4, 1, 2, 4, 4, 3, 1, 2, 2, 4, 2, 4, 4, 4, 4, 3, 4, \n    3, 1, 1, 2, 4, 2, 2, 4, 3, 4, 4, 1, 3, 2, 1, 1, 2, 1, 2, \n    2, 1, 2, 2, 2, 3, 1, 1, 4, 2, 4, 2, 2, 2, 2, 2, 3, 1, 2, \n    2, 2, 4, 1, 3, 4, 3, 4, 3, 3, 4, 2, 3, 3, 3, 4, 3, 4, 4, \n    3, 4, 3, 2, 4, 2, 3, 3, 3, 4, 4, 1, 2, 2, 4, 2, 4, 4, 4, \n    3, 4, 1, 1, 4, 2, 4, 2, 1, 2, 2, 2, 1, 3, 1, 2, 2, 3, 1, \n    1, 2, 2, 2, 4, 1, 3, 3, 4, 3, 3, 3, 3, 4, 4, 4, 3, 3, 4, \n    2, 1, 1, 3, 3, 1, 4, 1, 2, 2, 4, 4, 4, 4, 3, 1, 2, 1, 1, \n    1, 1, 3, 4, 4, 4, 3, 4, 3, 4, 3, 1, 1, 1, 3, 4, 2, 1, 1, \n    2, 4, 1, 1, 2, 2, 1, 4, 2, 2, 2, 2, 4, 3, 4, 4, 2, 1, 3, \n    3, 4, 1, 1, 2, 4, 1, 4, 1, 4, 2, 2, 4, 4, 2, 4, 2, 1, 1, \n    4, 3, 3, 2, 2, 4, 1, 1, 3, 2, 3, 3, 4, 4, 3, 4, 3, 1, 2, \n    4, 3, 4, 1, 4, 4, 4, 4, 1, 2, 4, 2, 4, 4, 1, 3, 1, 3, 3, \n    4, 2, 2, 1, 1, 1, 3, 3, 2, 1, 2, 4, 4, 3, 2, 2, 2, 4, 2, \n    3, 2, 2, 4, 4, 2, 2, 4, 4, 4, 2, 2, 3, 1, 1, 1, 4, 1, 4, \n    4, 2, 1, 4, 3, 3, 1, 4, 2, 3, 3, 4, 3, 3, 4, 3, 4, 1, 4, \n    3, 3, 4, 1, 2, 1, 4, 3, 2, 4, 1, 1, 4, 1, 1, 3, 2, 3, 1, \n    4, 4, 3, 2, 2, 1, 2, 1, 1, 1, 1, 1, 3, 1, 1, 3, 4, 1, 2, \n    2, 2, 4, 2, 4, 2, 2, 1, 1, 3, 4, 1, 2, 1, 4, 4, 3, 2, 4, \n    3, 3, 1, 4, 1, 1, 4, 4, 4, 1, 4, 4, 4, 3, 4, 2, 1, 2, 2, \n    1, 3, 3, 4, 4, 3, 1, 3, 4, 1, 1, 2, 2, 1, 4, 1, 2, 2, 2, \n    3, 3, 2, 2, 1, 1, 3, 2, 2, 4, 2, 3, 1, 2, 2, 2, 4, 3, 2, \n    3, 1, 4, 2, 1, 1, 2, 1, 3, 4, 4, 4, 1, 2, 3, 3, 1, 2, 2, \n    4, 3, 1, 1, 1, 1, 4, 2, 4, 2, 4, 1, 4, 4, 2, 3, 1, 1, 1, \n    4, 4, 2, 3, 3, 4, 3, 3, 1, 1, 3, 4, 3, 4, 4, 3, 2, 4, 1, \n    1, 2, 1, 1, 4, 4, 2, 1, 2, 2, 4, 2, 4, 1, 3, 3, 3, 4, 3, \n    3, 4, 3, 3, 4, 2, 1, 4, 4, 3, 4, 4, 1, 4, 2, 4, 4, 4, 2, \n    2, 4, 4, 2, 4, 4, 1, 4, 2, 4, 2, 1, 4, 1, 1, 4, 3, 3, 1, \n    3, 2, 3, 4, 1, 2, 1, 4, 2, 1, 1, 1, 4, 1, 1, 3, 4, 3, 2, \n    2, 2, 4, 3, 4, 2, 1, 2, 2, 1, 3, 2, 2, 4, 2, 4, 3, 1, 4, \n    4, 2, 2, 3, 2, 3, 2, 2, 4, 4, 1, 3, 3, 3, 4, 4, 4, 1, 2, \n    2, 1, 1, 4, 4, 3, 1, 1, 1, 2, 3, 3, 3, 4, 2, 4, 3, 3, 3, \n    4, 1, 4, 4, 3, 3, 4, 4, 3, 3, 1, 2, 4, 3, 1, 4, 3, 4, 1, \n    1, 2, 3, 1, 1, 1, 3, 1, 1, 4, 2, 2, 4, 1, 2, 4, 1, 1, 4, \n    1, 1, 4, 1, 4, 4, 2, 4, 1, 1, 4, 3, 3, 3, 3, 2, 4, 4, 4, \n    3, 2, 4, 4, 4, 4, 4, 3, 4, 4, 3, 4, 3, 4, 3, 4, 4, 4, 3, \n    3, 3, 4, 4, 4, 4, 3, 3, 4, 3, 3, 3, 4, 2, 4, 4, 3, 1, 4, \n    4, 4, 4, 4, 1, 4, 1, 1, 4, 1, 3, 1, 1, 2, 3, 1, 2, 4, 1, \n    4, 1, 4, 4, 2, 2, 1, 2, 2, 4, 4, 2, 2, 2, 2, 4, 4, 2, 4, \n    2, 2, 4, 4, 4, 4, 2, 4, 4, 3, 4, 2, 2, 4, 4, 2, 3, 2, 1, \n    1, 2, 4, 2, 2, 4, 4, 3, 4, 4, 4, 4, 4, 4, 4, 2, 2, 2, 2, \n    1, 2, 2, 4, 4, 1, 3, 4, 2, 4, 2, 2, 4, 2, 1, 2, 1, 4, 2, \n    2, 2, 3, 3, 1, 3, 2, 2, 3, 1, 1, 2, 4, 1, 3, 3, 4, 3, 3, \n    3, 3, 4, 3, 3, 4, 3, 4, 2, 3, 3, 4, 1, 4, 4, 4, 2, 1, 4, \n    4, 1, 3, 4, 2, 2, 3, 2, 3, 4, 3, 4, 2, 2, 4, 1, 1, 2, 2, \n    2, 1, 2, 1, 4, 2, 2, 2, 2, 1, 2, 2, 3, 2, 3, 1, 4, 1, 3, \n    2, 2, 3, 1, 1, 4, 2, 1, 1, 3, 2, 3, 4, 2, 1, 3, 4, 2, 3, \n    3, 4, 3, 3, 4, 4, 3, 4, 4, 3, 3, 3, 4, 1, 2, 1, 3, 4, 1, \n    3, 3, 3, 4, 2, 2, 1, 1, 1, 4, 3, 1, 4, 2, 2, 4, 2, 1, 2, \n    3, 4, 4, 3, 4, 4, 1, 2, 2, 2, 3, 1, 2, 2, 2, 1, 1, 4, 2, \n    4, 1, 3, 3, 4, 4, 3, 3, 3, 3, 4, 3, 3, 4, 3, 4, 2, 1, 3, \n    4, 4, 2, 2, 1, 4, 3, 3, 2, 4, 3, 3, 4, 3, 3, 1, 1, 3, 3, \n    4, 3, 2, 3, 4, 3, 3, 3, 4, 4, 2, 1, 3, 4, 2, 2, 3, 3, 1, \n    2, 3, 4, 1, 4, 3, 3, 4, 4, 4, 2, 3, 2, 4, 3, 4, 1, 2, 1, \n    2, 4, 2, 4, 2, 1, 1, 2, 2, 1, 2, 2, 3, 1, 3, 4, 2, 3, 3, \n    4, 3, 3, 4, 4, 3, 3, 4, 1, 4, 1, 1, 3, 2, 1, 2, 1, 2, 1, \n    3, 4, 1, 2, 1, 4, 2, 3, 1, 1, 4, 3, 1, 3, 3, 2, 3, 4, 1, \n    3, 2, 2, 2, 2, 2, 1, 1, 2, 4, 1, 1, 2, 2, 3, 3, 2, 1, 3, \n    4, 2, 3, 2, 4, 4, 2, 4, 2, 4, 3, 2, 4, 2, 4, 4, 4, 4, 4, \n    3, 4, 4, 4, 1, 4, 2, 4, 4, 2, 4, 2, 2, 2, 4, 3, 3, 3, 1, \n    3, 1, 1, 3, 1, 2, 1, 1, 1, 2, 1, 1, 3, 4, 4, 2, 2, 3, 4, \n    4, 4, 4, 3, 3, 3, 3, 4, 3, 3, 3, 3, 3, 3, 1, 1, 1, 1, 1, \n    1, 1, 1, 2, 4, 2, 1, 3, 2, 2, 2, 4, 1, 3, 3, 4, 4, 4, 4, \n    4, 1, 4, 3, 3, 4, 3, 4, 3, 3, 1, 4, 3, 2, 4, 1, 3, 3, 4, \n    4, 3, 3, 4, 3, 1, 3, 3, 3, 3, 3, 2, 4, 1, 3, 3, 2, 4, 1, \n    3, 3, 4, 4, 1, 4, 4, 4, 3, 3, 3, 4, 3, 1, 4, 4, 1, 1, 2, \n    4, 3, 3, 1, 3, 1, 4, 3, 4, 4, 4, 4, 1, 4, 4, 4, 4, 3, 3, \n    4, 4, 3, 2, 3, 1, 1, 4, 2, 2, 3, 4, 3, 4, 3, 4, 1, 1, 1, \n    1, 1, 4, 2, 1, 4, 3, 4, 1, 2, 3, 3, 4, 1, 1, 2, 2, 2, 3, \n    2, 4, 1, 3, 3, 4, 2, 4, 4, 3, 4, 3, 2, 2, 4, 4, 3, 1, 4, \n    1, 4, 3, 3, 1, 2, 1, 3, 4, 2, 3, 2, 1, 1, 1, 4, 2, 2, 2, \n    1, 1, 1, 4, 2, 4, 1, 4, 3, 2, 4, 3, 3, 3, 1, 4, 1, 3, 1, \n    3, 1, 1, 4, 4, 1, 1, 2, 2, 3, 1, 1, 2, 3, 1, 3, 4, 3, 2, \n    2, 1, 1, 3, 3, 1, 2, 4, 1, 3, 2, 4, 3, 4, 4, 1, 4, 3, 1, \n    4, 2, 4, 2, 1, 4, 3, 2, 2, 4, 4, 4, 3, 3, 3, 3, 2, 3, 2, \n    1, 2, 2, 3, 3, 1, 3, 2, 3, 3, 3, 4, 4, 4, 1, 4, 4, 3, 3, \n    3, 1, 3, 4, 2, 4, 2, 4, 1, 3, 2, 4, 3, 4, 3, 2, 1, 1, 4, \n    4, 2, 2, 4, 2, 4, 3, 2, 2, 1, 3, 2, 3, 3, 3, 3, 1, 3, 1, \n    1, 2, 2, 2, 2, 1, 3, 4, 3, 4, 3, 3, 3, 3, 4, 3, 3, 4, 3, \n    4, 4, 3, 4, 1, 2, 3, 1, 2, 4, 3, 4, 1, 2, 2, 3, 3, 4, 3, \n    4, 3, 3, 3, 1, 1, 1, 4, 3, 3, 3, 3, 2, 3, 1, 4, 2, 1, 4, \n    2, 4, 1, 3, 3, 3, 4, 3, 3, 1, 3, 3, 2, 3, 2, 3, 4, 4, 3, \n    4, 4, 1, 3, 4, 1, 2, 3, 2, 1, 3, 1, 4, 3, 2, 1, 2, 1, 2, \n    4, 4, 2, 2, 1, 3, 3, 2, 3, 1, 3, 2, 4, 1, 3, 4, 2, 3, 4, \n    4, 4, 3, 4, 3, 3, 4, 1, 2, 4, 4, 4, 3, 2, 2, 4, 3, 1, 1, \n    1, 2, 1, 4, 1, 2, 2, 3, 4, 4, 2, 4, 3, 4, 3, 1, 1, 4, 2, \n    4, 3, 3, 4, 4, 3, 4, 4, 1, 3, 4, 4, 1, 4, 3, 2, 1, 2, 4, \n    4, 3, 2, 2, 2, 2, 4, 3, 1, 2, 3, 1, 4, 1, 2, 1, 3, 4, 3, \n    4, 3, 4, 4, 4, 3, 1, 3, 3, 3, 2, 4, 4, 1, 2, 1, 2, 3, 1, \n    4, 1, 3, 1, 3, 4, 2, 2, 2, 1, 2, 4, 3, 3, 3, 3, 2, 2, 3, \n    1, 3, 4, 2, 4, 2, 1, 2, 2, 2, 3, 3, 3, 3, 4, 4, 3, 4, 3, \n    4, 1, 4, 4, 1, 4, 1, 1, 4, 3, 3, 4, 1, 2, 3, 3, 2, 3, 4, \n    3, 4, 1, 1, 3, 3, 4, 4, 2, 2, 2, 4, 3, 2, 1, 3, 3, 3, 4, \n    3, 4, 3, 4, 4, 4, 3, 4, 3, 4, 4, 3, 2, 4, 3, 1, 1, 4, 3, \n    4, 4, 4, 4, 4, 1, 1, 1, 4, 3, 1, 3, 3, 3, 4, 2, 4, 4, 4, \n    3, 4, 3, 4, 3, 4, 1, 3, 4, 2, 4, 2, 4, 4, 3, 3, 2, 4, 4, \n    1, 4, 4, 4, 3, 4, 4, 2, 4, 1, 4, 3, 3, 1, 3, 3, 1, 1, 1, \n    2, 2, 1, 2, 2, 3, 3, 4, 4, 3, 3, 4, 2, 1, 3, 1, 2, 1, 1, \n    2, 3, 4, 2, 3, 4, 4, 3, 2, 4, 3, 4, 4, 4, 1, 4, 4, 2, 4, \n    4, 4, 4, 4, 4, 3, 4, 4, 1, 4, 2, 3, 2, 2, 4, 3, 3, 3, 3, \n    4, 2, 2, 2, 3, 2, 1, 1, 2, 3, 4, 3, 4, 3, 1, 3, 1, 2, 3, \n    4, 4, 3, 1, 4, 3, 1, 4, 3, 1, 1, 1, 4, 2, 2, 4, 3, 3, 4, \n    3, 3, 1, 2, 3, 4, 1, 4, 3, 2, 2, 2, 3, 3, 2, 1, 4, 4, 4, \n    4, 3, 3, 4, 3, 2, 3, 1, 1, 2, 3, 3, 1, 1, 1, 4, 1, 3, 4, \n    3, 1, 4, 1, 4, 4, 3, 4, 4, 4, 1, 4, 4, 4, 2, 1, 2, 1, 4, \n    3, 4, 4, 1, 2, 1, 4, 1, 3, 4, 3, 3, 3, 2, 2, 1, 3, 2, 4, \n    4, 4, 3, 3, 1, 4, 4, 1, 4, 4, 4, 4, 4, 4, 4, 3, 4, 3, 2, \n    3, 4, 3, 3, 3)))\n\nCoefficients:\n         (Intercept)       Gmale   year2019    year2020   year2021   year2022\nlocal       1.386480  0.07797866 0.14070636  0.27041021  0.4909510 0.72939719\nnational    2.003997 -0.04651239 0.06418858 -0.05970032 -0.1030813 0.08425193\n         Subfield_Englishanalytical chemistry\nlocal                              -0.4318478\nnational                            0.2864920\n         Subfield_Englishapplied mathematics Subfield_Englishapplied physics\nlocal                            -12.8536528                       -1.559559\nnational                          -0.9273241                        1.449879\n         Subfield_Englishastronomy & astrophysics\nlocal                                  -1.1349514\nnational                               -0.4004902\n         Subfield_Englishchemical physics Subfield_Englishecology\nlocal                           -1.487095               0.2866727\nnational                         1.288505               0.0812382\n         Subfield_Englishentomology Subfield_Englishenvironmental sciences\nlocal                   0.005062904                             0.38605917\nnational                0.052274520                             0.04038662\n         Subfield_Englishevolutionary biology Subfield_Englishfluids & plasmas\nlocal                              -0.6005831                       -0.6509826\nnational                           -0.1215353                        0.3409631\n         Subfield_Englishgeneral chemistry Subfield_Englishgeneral mathematics\nlocal                            -1.310051                         -12.0040207\nnational                          1.869416                           0.1870518\n         Subfield_Englishgeneral physics\nlocal                         -2.3048300\nnational                       0.9624856\n         Subfield_Englishgeochemistry & geophysics Subfield_Englishgeology\nlocal                                   -0.8605031              -0.9996462\nnational                                -0.1446467              -0.2750603\n         Subfield_Englishinorganic & nuclear chemistry\nlocal                                        -1.804492\nnational                                      2.160137\n         Subfield_Englishmarine biology & hydrobiology\nlocal                                      -0.01907851\nnational                                   -0.07457757\n         Subfield_Englishmathematical physics\nlocal                               -4.096231\nnational                             6.820668\n         Subfield_Englishmedicinal & biomolecular chemistry\nlocal                                          -0.003680895\nnational                                       -0.191887513\n         Subfield_Englishmeteorology & atmospheric sciences\nlocal                                          -0.006656502\nnational                                       -0.109148862\n         Subfield_Englishnuclear & particle physics\nlocal                                    -0.3256479\nnational                                  0.7082160\n         Subfield_Englishnumerical & computational mathematics\nlocal                                                -4.162714\nnational                                              8.266033\n         Subfield_Englishoceanography Subfield_Englishoptics\nlocal                      -0.2026085             -1.0119391\nnational                    0.1346043              0.8240286\n         Subfield_Englishorganic chemistry Subfield_Englishornithology\nlocal                           -1.8149275                  -0.5612875\nnational                         0.8861573                  -0.3217367\n         Subfield_Englishpaleontology Subfield_Englishphysical chemistry\nlocal                      -0.4760392                          -2.398411\nnational                   -0.4390738                           1.397930\n         Subfield_Englishplant biology & botany Subfield_Englishpolymers\nlocal                             -0.0001566836               -1.4367291\nnational                           0.6319354619                0.2284532\n         Subfield_Englishstatistics & probability Subfield_Englishzoology\nlocal                                    1.794669              -1.5374379\nnational                                 1.347142              -0.8091373\n                 q1         q2         q3\nlocal    -0.3690577 -0.3848720 -0.4616951\nnational -0.1811195 -0.3219103 -0.5725378\n\nStd. Errors:\n         (Intercept)      Gmale   year2019   year2020   year2021   year2022\nlocal      0.3380357 0.03477358 0.04858416 0.04794160 0.04740350 0.05440591\nnational   0.3299984 0.03332813 0.04508505 0.04509067 0.04503839 0.05237541\n         Subfield_Englishanalytical chemistry\nlocal                               0.3641878\nnational                            0.3523321\n         Subfield_Englishapplied mathematics Subfield_Englishapplied physics\nlocal                           4.927357e-05                       0.3975330\nnational                        8.986802e-01                       0.3590133\n         Subfield_Englishastronomy & astrophysics\nlocal                                   0.3374763\nnational                                0.3289605\n         Subfield_Englishchemical physics Subfield_Englishecology\nlocal                           0.4104287               0.3363567\nnational                        0.3678621               0.3286377\n         Subfield_Englishentomology Subfield_Englishenvironmental sciences\nlocal                     0.3545192                              0.3378165\nnational                  0.3461095                              0.3301891\n         Subfield_Englishevolutionary biology Subfield_Englishfluids & plasmas\nlocal                               0.3412026                        0.3679161\nnational                            0.3324851                        0.3542197\n         Subfield_Englishgeneral chemistry Subfield_Englishgeneral mathematics\nlocal                             1.453409                        9.824302e-05\nnational                          1.066120                        8.285626e-01\n         Subfield_Englishgeneral physics\nlocal                          0.4197911\nnational                       0.3565365\n         Subfield_Englishgeochemistry & geophysics Subfield_Englishgeology\nlocal                                    0.3410816               0.5622286\nnational                                 0.3320008               0.5121951\n         Subfield_Englishinorganic & nuclear chemistry\nlocal                                        0.9729054\nnational                                     0.6700950\n         Subfield_Englishmarine biology & hydrobiology\nlocal                                        0.3393825\nnational                                     0.3315912\n         Subfield_Englishmathematical physics\nlocal                            1.382477e-06\nnational                         2.766790e-04\n         Subfield_Englishmedicinal & biomolecular chemistry\nlocal                                             0.3727651\nnational                                          0.3658351\n         Subfield_Englishmeteorology & atmospheric sciences\nlocal                                             0.3363418\nnational                                          0.3285760\n         Subfield_Englishnuclear & particle physics\nlocal                                     0.4288107\nnational                                  0.4102624\n         Subfield_Englishnumerical & computational mathematics\nlocal                                             1.430711e-06\nnational                                          2.823998e-04\n         Subfield_Englishoceanography Subfield_Englishoptics\nlocal                       0.3873248              0.3973643\nnational                    0.3753808              0.3687600\n         Subfield_Englishorganic chemistry Subfield_Englishornithology\nlocal                            0.3984168                   0.4114201\nnational                         0.3556977                   0.3951036\n         Subfield_Englishpaleontology Subfield_Englishphysical chemistry\nlocal                       0.3408805                          0.7564518\nnational                    0.3328706                          0.4886320\n         Subfield_Englishplant biology & botany Subfield_Englishpolymers\nlocal                                 0.3520105                0.3813772\nnational                              0.3426899                0.3547197\n         Subfield_Englishstatistics & probability Subfield_Englishzoology\nlocal                                   0.6114882               0.3965984\nnational                                0.6121781               0.3747392\n                 q1         q2         q3\nlocal    0.04823472 0.04828102 0.04754776\nnational 0.04654545 0.04656857 0.04585125\n\nResidual Deviance: 96843.02 \nAIC: 97007.02 \n\n"
     ]
    }
   ],
   "source": [
    "import numpy as np\n",
    "import rpy2.robjects.packages as rpackages\n",
    "import rpy2.robjects.vectors as robjects_vectors\n",
    "\n",
    "\n",
    "from rpy2.robjects import r, pandas2ri\n",
    "import rpy2.robjects as ro\n",
    "from rpy2.robjects.packages import importr\n",
    "\n",
    "# import R's utility package\n",
    "utils = rpackages.importr('utils')\n",
    "utils.chooseCRANmirror(ind=1)\n",
    "from rpy2.robjects.conversion import localconverter\n",
    "base = importr('base')\n",
    "from rpy2.robjects import Formula\n",
    "stats = importr('stats')\n",
    "nnet = importr('nnet')\n",
    "\n",
    "def reg2(dom,merged):\n",
    "  dummy = merged.copy()\n",
    "  dummy = dummy[dummy['Domain_English'] == dom]\n",
    "  #print(\"no of subfield \",dummy['SubField_English'].nunique())\n",
    "  G = []\n",
    "  for ind in dummy.index:\n",
    "    if dummy['cor_gender'][ind] == 'female' or dummy['cor_gender'][ind] == 'f' or dummy['cor_gender'][ind] == 'F':\n",
    "      G.append(\"female\")\n",
    "    else:\n",
    "      G.append(\"male\")\n",
    "  dummy['G'] = G\n",
    "\n",
    "  tmp = pd.DataFrame()\n",
    "\n",
    "  tmp['type'] = dummy['type']\n",
    "  tmp['year'] = dummy['year']\n",
    "  tmp['Domain_English'] = dummy['Domain_English']\n",
    "  tmp['Field_English'] = dummy['Field_English']\n",
    "  tmp['Subfield_English'] = dummy['SubField_English']\n",
    "  tmp['G'] = dummy['G']\n",
    "  tmp['SJR'] = dummy['SJR']\n",
    "\n",
    "  #tmp['srcid'] = dummy['srcid']\n",
    "  #tmp['srcid'] = tmp['srcid'].astype(str)\n",
    "\n",
    "  tmp = tmp.dropna(subset = ['type'])\n",
    "\n",
    "  q1 = tmp['SJR'].quantile(0.25)\n",
    "  q2 = tmp['SJR'].quantile(0.50)\n",
    "  q3 = tmp['SJR'].quantile(0.75)\n",
    "\n",
    "  q = []\n",
    "  for ind in tmp.index:\n",
    "    if tmp['SJR'][ind] <= q1:\n",
    "      q.append(0)\n",
    "    elif tmp['SJR'][ind] > q1 and tmp['SJR'][ind] <= q2:\n",
    "      q.append(1)\n",
    "    elif tmp['SJR'][ind] > q2 and tmp['SJR'][ind] <= q3:\n",
    "      q.append(2)\n",
    "    else:\n",
    "      q.append(3)\n",
    "  tmp['q'] = q\n",
    "\n",
    "  print(\"total subfield \", tmp['Subfield_English'].nunique())\n",
    "  return tmp\n",
    "\n",
    "\n",
    "#tmp = reg2(\"Applied Sciences\", merged) #local coeff = -0.18166607, p val = 2.89708546e-03\n",
    "#tmp = reg2(\"Arts & Humanities\", merged) #insig\n",
    "#tmp = reg2(\"Economic & Social Sciences\", merged) #insig\n",
    "#tmp = reg2(\"Health Sciences\", merged) #local coeff = -0.077407218, p val = 8.06443180e-005\n",
    "tmp = reg2(\"Natural Sciences\", merged) #local coeff = 0.07797866, p val = 2.49311072e-02\n",
    "\n",
    "with localconverter(ro.default_converter + pandas2ri.converter):\n",
    "  tst_df = ro.conversion.py2rpy(tmp)\n",
    "\n",
    "col_2_index = list(tst_df.colnames).index('year')\n",
    "col_2 = ro.vectors.FactorVector(tst_df.rx2('year'))\n",
    "tst_df[col_2_index] = col_2\n",
    "\n",
    "\n",
    "col_2_index = list(tst_df.colnames).index('Subfield_English')\n",
    "col_2 = ro.vectors.FactorVector(tst_df.rx2('Subfield_English'))\n",
    "tst_df[col_2_index] = col_2\n",
    "\n",
    "\n",
    "col_2_index = list(tst_df.colnames).index('q')\n",
    "col_2 = ro.vectors.FactorVector(tst_df.rx2('q'))\n",
    "tst_df[col_2_index] = col_2\n",
    "\n",
    "model = nnet.multinom(\"type ~ G+year+Subfield_English+q\",\n",
    "                  data=tst_df) \n",
    "\n",
    "\n",
    "print(base.summary(model))"
   ]
  },
  {
   "cell_type": "code",
   "execution_count": 0,
   "metadata": {
    "application/vnd.databricks.v1+cell": {
     "cellMetadata": {
      "byteLimit": 2048000,
      "rowLimit": 10000
     },
     "inputWidgets": {},
     "nuid": "02ce3039-eabb-4641-ac26-5472d99e33b0",
     "showTitle": false,
     "title": ""
    }
   },
   "outputs": [
    {
     "output_type": "stream",
     "name": "stdout",
     "output_type": "stream",
     "text": [
      "printing p value\n[[4.10339933e-05 2.49311072e-02 3.77787786e-03 1.69647683e-08\n  3.89579855e-25 5.53319702e-41 2.35707900e-01 0.00000000e+00\n  8.74190610e-05 7.70850713e-04 2.90900578e-04 3.94054361e-01\n  9.88605763e-01 2.53118639e-01 7.83747721e-02 7.68308419e-02\n  3.67394685e-01 0.00000000e+00 4.00974878e-08 1.16402864e-02\n  7.54027454e-02 6.36325074e-02 9.55170237e-01 0.00000000e+00\n  9.92121361e-01 9.84210190e-01 4.47600696e-01 0.00000000e+00\n  6.00906635e-01 1.08769404e-02 5.22985783e-06 1.72483047e-01\n  1.62564392e-01 1.52121383e-03 9.99644853e-01 1.65080106e-04\n  3.33633793e-03 1.05943358e-04 1.98975552e-14 1.56763613e-15\n  2.72976794e-22]\n [1.25739627e-09 1.62838133e-01 1.54526989e-01 1.85501043e-01\n  2.20943517e-02 1.07700314e-01 4.16143282e-01 3.02131509e-01\n  5.37915813e-05 2.23436238e-01 4.60596115e-04 8.04755895e-01\n  8.79948385e-01 9.02650639e-01 7.14711317e-01 3.35760803e-01\n  7.95201779e-02 8.21392331e-01 6.94347965e-03 6.63067649e-01\n  5.91252007e-01 1.26577729e-03 8.22050712e-01 0.00000000e+00\n  5.99917478e-01 7.39747642e-01 8.43021876e-02 0.00000000e+00\n  7.19908935e-01 2.54440584e-02 1.27268880e-02 4.15467521e-01\n  1.87151569e-01 4.22433704e-03 6.51766587e-02 5.19550366e-01\n  2.77662976e-02 3.08345714e-02 9.97331731e-05 4.75819028e-12\n  8.80674201e-36]]\n"
     ]
    }
   ],
   "source": [
    "coeffs = base.summary(model).rx2('coefficients')\n",
    "std = base.summary(model).rx2('standard.errors')\n",
    "import scipy.stats \n",
    "\n",
    "z = np.array(coeffs) / np.array(std)\n",
    "#print(z)\n",
    "\n",
    "def my_vectorized_func(m):\n",
    "    return scipy.stats.norm.sf(abs(m))*2\n",
    "\n",
    "val = my_vectorized_func(z)\n",
    "print(\"printing p value\")\n",
    "print(val)"
   ]
  },
  {
   "cell_type": "code",
   "execution_count": 0,
   "metadata": {
    "application/vnd.databricks.v1+cell": {
     "cellMetadata": {
      "byteLimit": 2048000,
      "rowLimit": 10000
     },
     "inputWidgets": {},
     "nuid": "e22e4d59-990e-46a4-afc1-25cdcaa59e4c",
     "showTitle": false,
     "title": ""
    }
   },
   "outputs": [
    {
     "output_type": "stream",
     "name": "stdout",
     "output_type": "stream",
     "text": [
      "6.699609251446652e-08\n"
     ]
    }
   ],
   "source": [
    "print(scipy.stats.norm.sf(abs(-0.08279810/0.01533569))*2)"
   ]
  },
  {
   "cell_type": "code",
   "execution_count": 0,
   "metadata": {
    "application/vnd.databricks.v1+cell": {
     "cellMetadata": {
      "byteLimit": 2048000,
      "rowLimit": 10000
     },
     "inputWidgets": {},
     "nuid": "5bb8b8bc-fc02-4859-b231-f423ece6eaf0",
     "showTitle": false,
     "title": ""
    }
   },
   "outputs": [
    {
     "output_type": "stream",
     "name": "stdout",
     "output_type": "stream",
     "text": [
      "len of temp  286071\n# weights:  87 (56 variable)\ninitial  value 314281.116033 \niter  10 value 299680.628902\niter  20 value 294799.354196\niter  30 value 292731.741028\niter  40 value 276900.096394\niter  50 value 267125.870506\niter  60 value 254701.860418\niter  70 value 254243.931000\nfinal  value 254243.697679 \nconverged\nCall:\n(function (formula, data, weights, subset, na.action, contrasts = NULL, \n    Hess = FALSE, summ = 0, censored = FALSE, model = FALSE, \n    ...) \n{\n    class.ind <- function(cl) {\n        n <- length(cl)\n        x <- matrix(0, n, length(levels(cl)))\n        x[(1:n) + n * (as.integer(cl) - 1)] <- 1\n        dimnames(x) <- list(names(cl), levels(cl))\n        x\n    }\n    summ2 <- function(X, Y) {\n        X <- as.matrix(X)\n        Y <- as.matrix(Y)\n        n <- nrow(X)\n        p <- ncol(X)\n        q <- ncol(Y)\n        Z <- t(cbind(X, Y))\n        storage.mode(Z) <- \"double\"\n        z <- .C(VR_summ2, as.integer(n), as.integer(p), as.integer(q), \n            Z = Z, na = integer(1))\n        Za <- t(z$Z[, 1:z$na, drop = FALSE])\n        list(X = Za[, 1:p, drop = FALSE], Y = Za[, p + 1:q])\n    }\n    call <- match.call()\n    m <- match.call(expand.dots = FALSE)\n    m$summ <- m$Hess <- m$contrasts <- m$censored <- m$model <- m$... <- NULL\n    m[[1]] <- quote(stats::model.frame)\n    m <- eval.parent(m)\n    Terms <- attr(m, \"terms\")\n    X <- model.matrix(Terms, m, contrasts)\n    cons <- attr(X, \"contrasts\")\n    Xr <- qr(X)$rank\n    Y <- model.response(m)\n    if (!is.matrix(Y)) \n        Y <- as.factor(Y)\n    w <- model.weights(m)\n    if (length(w) == 0) \n        if (is.matrix(Y)) \n            w <- rep(1, dim(Y)[1])\n        else w <- rep(1, length(Y))\n    lev <- levels(Y)\n    if (is.factor(Y)) {\n        counts <- table(Y)\n        if (any(counts == 0)) {\n            empty <- lev[counts == 0]\n            warning(sprintf(ngettext(length(empty), \"group %s is empty\", \n                \"groups %s are empty\"), paste(sQuote(empty), \n                collapse = \" \")), domain = NA)\n            Y <- factor(Y, levels = lev[counts > 0])\n            lev <- lev[counts > 0]\n        }\n        if (length(lev) < 2) \n            stop(\"need two or more classes to fit a multinom model\")\n        if (length(lev) == 2) \n            Y <- as.integer(Y) - 1\n        else Y <- class.ind(Y)\n    }\n    if (summ == 1) {\n        Z <- cbind(X, Y)\n        z1 <- cumprod(apply(Z, 2, max) + 1)\n        Z1 <- apply(Z, 1, function(x) sum(z1 * x))\n        oZ <- order(Z1)\n        Z2 <- !duplicated(Z1[oZ])\n        oX <- (seq_along(Z1)[oZ])[Z2]\n        X <- X[oX, , drop = FALSE]\n        Y <- if (is.matrix(Y)) \n            Y[oX, , drop = FALSE]\n        else Y[oX]\n        w <- diff(c(0, cumsum(w))[c(Z2, TRUE)])\n        print(dim(X))\n    }\n    if (summ == 2) {\n        Z <- summ2(cbind(X, Y), w)\n        X <- Z$X[, 1:ncol(X)]\n        Y <- Z$X[, ncol(X) + 1:ncol(Y), drop = FALSE]\n        w <- Z$Y\n        print(dim(X))\n    }\n    if (summ == 3) {\n        Z <- summ2(X, Y * w)\n        X <- Z$X\n        Y <- Z$Y[, 1:ncol(Y), drop = FALSE]\n        w <- rep(1, nrow(X))\n        print(dim(X))\n    }\n    offset <- model.offset(m)\n    r <- ncol(X)\n    if (is.matrix(Y)) {\n        p <- ncol(Y)\n        sY <- Y %*% rep(1, p)\n        if (any(sY == 0)) \n            stop(\"some case has no observations\")\n        if (!censored) {\n            Y <- Y/matrix(sY, nrow(Y), p)\n            w <- w * sY\n        }\n        if (length(offset) > 1) {\n            if (ncol(offset) != p) \n                stop(\"ncol(offset) is wrong\")\n            mask <- c(rep(FALSE, r + 1 + p), rep(c(FALSE, rep(TRUE, \n                r), rep(FALSE, p)), p - 1))\n            X <- cbind(X, offset)\n            Wts <- as.vector(rbind(matrix(0, r + 1, p), diag(p)))\n            fit <- nnet.default(X, Y, w, Wts = Wts, mask = mask, \n                size = 0, skip = TRUE, softmax = TRUE, censored = censored, \n                rang = 0, ...)\n        }\n        else {\n            mask <- c(rep(FALSE, r + 1), rep(c(FALSE, rep(TRUE, \n                r)), p - 1))\n            fit <- nnet.default(X, Y, w, mask = mask, size = 0, \n                skip = TRUE, softmax = TRUE, censored = censored, \n                rang = 0, ...)\n        }\n    }\n    else {\n        if (length(offset) <= 1) {\n            mask <- c(FALSE, rep(TRUE, r))\n            fit <- nnet.default(X, Y, w, mask = mask, size = 0, \n                skip = TRUE, entropy = TRUE, rang = 0, ...)\n        }\n        else {\n            mask <- c(FALSE, rep(TRUE, r), FALSE)\n            Wts <- c(rep(0, r + 1), 1)\n            X <- cbind(X, offset)\n            fit <- nnet.default(X, Y, w, Wts = Wts, mask = mask, \n                size = 0, skip = TRUE, entropy = TRUE, rang = 0, \n                ...)\n        }\n    }\n    fit$formula <- attr(Terms, \"formula\")\n    fit$terms <- Terms\n    fit$call <- call\n    fit$weights <- w\n    fit$lev <- lev\n    fit$deviance <- 2 * fit$value\n    fit$rank <- Xr\n    edf <- ifelse(length(lev) == 2, 1, length(lev) - 1) * Xr\n    if (is.matrix(Y)) {\n        edf <- (ncol(Y) - 1) * Xr\n        if (length(dn <- colnames(Y)) > 0) \n            fit$lab <- dn\n        else fit$lab <- 1:ncol(Y)\n    }\n    fit$coefnames <- colnames(X)\n    fit$vcoefnames <- fit$coefnames[1:r]\n    fit$na.action <- attr(m, \"na.action\")\n    fit$contrasts <- cons\n    fit$xlevels <- .getXlevels(Terms, m)\n    fit$edf <- edf\n    fit$AIC <- fit$deviance + 2 * edf\n    if (model) \n        fit$model <- m\n    class(fit) <- c(\"multinom\", \"nnet\")\n    if (Hess) \n        fit$Hessian <- multinomHess(fit, X)\n    fit\n})(formula = \"type ~ G+year+Field_English+q\", data = list(c(\"national\", \n\"national\", \"national\", \"national\", \"national\", \"national\", \"national\", \n\"national\", \"national\", \"national\", \"national\", \"national\", \"national\", \n\"national\", \"national\", \"national\", \"national\", \"national\", \"national\", \n\"national\", \"national\", \"national\", \"national\", \"national\", \"national\", \n\"national\", \"national\", \"national\", \"national\", \"national\", \"national\", \n\"national\", \"national\", \"national\", \"national\", \"national\", \"national\", \n\"national\", \"national\", \"national\", \"national\", \"national\", \"national\", \n\"national\", \"national\", \"national\", \"national\", \"national\", \"national\", \n\"national\", \"national\", \"national\", \"national\", \"national\", \"national\", \n\"national\", \"national\", \"national\", \"national\", \"national\", \"national\", \n\"national\", \"national\", \"national\", \"national\", \"national\", \"national\", \n\"national\", \"national\", \"national\", \"national\", \"national\", \"national\", \n\"national\", \"national\", \"national\", \"national\", \"national\", \"national\", \n\"national\", \"national\", \"national\", \"national\", \"national\", \"national\", \n\"national\", \"national\", \"national\", \"national\", \"national\", \"national\", \n\"national\", \"national\", \"national\", \"national\", \"national\", \"national\", \n\"national\", \"national\", \"national\", \"national\", \"national\", \"national\", \n\"national\", \"national\", \"national\", \"national\", \"national\", \"national\", \n\"national\", \"national\", \"national\", \"national\", \"national\", \"national\", \n\"national\", \"national\", \"national\", \"national\", \"national\", \"national\", \n\"national\", \"national\", \"national\", \"national\", \"national\", \"national\", \n\"national\", \"national\", \"national\", \"national\", \"national\", \"national\", \n\"national\", \"national\", \"national\", \"national\", \"national\", \"national\", \n\"national\", \"national\", \"national\", \"national\", \"national\", \"national\", \n\"national\", \"national\", \"national\", \"national\", \"national\", \"national\", \n\"national\", \"national\", \"national\", \"national\", \"national\", \"national\", \n\"national\", \"national\", \"national\", \"national\", \"national\", \"national\", \n\"national\", \"national\", \"national\", \"national\", \"national\", \"national\", \n\"national\", \"national\", \"national\", \"national\", \"national\", \"national\", \n\"national\", \"national\", \"national\", \"national\", \"national\", \"national\", \n\"national\", \"national\", \"national\", \"national\", \"national\", \"national\", \n\"national\", \"national\", \"national\", \"national\", \"national\", \"national\", \n\"national\", \"national\", \"national\", \"national\", \"national\", \"national\", \n\"national\", \"national\", \"national\", \"national\", \"national\", \"national\", \n\"national\", \"national\", \"national\", \"national\", \"national\", \"national\", \n\"national\", \"national\", \"national\", \"national\", \"national\", \"national\", \n\"national\", \"national\", \"national\", \"national\", \"national\", \"national\", \n\"national\", \"national\", \"national\", \"national\", \"national\", \"national\", \n\"national\", \"national\", \"national\", \"national\", \"national\", \"national\", \n\"national\", \"national\", \"national\", \"national\", \"national\", \"national\", \n\"national\", \"national\", \"national\", \"national\", \"national\", \"national\", \n\"national\", \"national\", \"national\", \"national\", \"national\", \"national\", \n\"national\", \"national\", \"national\", \"national\", \"national\", \"national\", \n\"national\", \"national\", \"national\", \"national\", \"national\", \"national\", \n\"national\", \"national\", \"national\", \"national\", \"national\", \"national\", \n\"national\", \"national\", \"national\", \"national\", \"national\", \"national\", \n\"national\", \"national\", \"national\", \"national\", \"national\", \"national\", \n\"national\", \"national\", \"national\", \"national\", \"national\", \"national\", \n\"national\", \"national\", \"national\", \"national\", \"national\", \"national\", \n\"national\", \"national\", \"national\", \"national\", \"national\", \"national\", \n\"national\", \"national\", \"national\", \"national\", \"national\", \"national\", \n\"national\", \"national\", \"national\", \"national\", \"national\", \"national\", \n\"national\", \"national\", \"national\", \"national\", \"national\", \"national\", \n\"national\", \"national\", \"national\", \"national\", \"national\", \"national\", \n\"national\", \"national\", \"national\", \"national\", \"national\", \"national\", \n\"national\", \"national\", \"national\", \"national\", \"national\", \"national\", \n\"national\", \"national\", \"national\", \"national\", \"national\", \"national\", \n\"national\", \"national\", \"national\", \"national\", \"national\", \"national\", \n\"national\", \"national\", \"national\", \"national\", \"national\", \"national\", \n\"national\", \"national\", \"national\", \"national\", \"national\", \"national\", \n\"national\", \"national\", \"national\", \"national\", \"national\", \"national\", \n\"national\", \"national\", \"national\", \"national\", \"national\", \"national\", \n\"national\", \"national\", \"national\", \"national\", \"national\", \"national\", \n\"national\", \"national\", \"national\", \"national\", \"national\", \"national\", \n\"national\", \"national\", \"national\", \"national\", \"national\", \"national\", \n\"national\", \"national\", \"national\", \"national\", \"national\", \"national\", \n\"national\", \"national\", \"national\", \"national\", \"national\", \"national\", \n\"national\", \"national\", \"national\", \"national\", \"national\", \"national\", \n\"national\", \"national\", \"national\", \"national\", \"national\", \"national\", \n\"national\", \"national\", \"national\", \"national\", \"national\", \"national\", \n\"national\", \"national\", \"national\", \"national\", \"national\", \"national\", \n\"national\", \"national\", \"national\", \"national\", \"national\", \"national\", \n\"national\", \"national\", \"national\", \"national\", \"national\", \"national\", \n\"national\", \"national\", \"national\", \"national\", \"national\", \"national\", \n\"national\", \"national\", \"national\", \"national\", \"national\", \"national\", \n\"national\", \"national\", \"national\", \"national\", \"national\", \"national\", \n\"national\", \"national\", \"national\", \"national\", \"national\", \"national\", \n\"national\", \"national\", \"national\", \"national\", \"national\", \"national\", \n\"national\", \"national\", \"national\", \"national\", \"national\", \"national\", \n\"national\", \"national\", \"national\", \"national\", \"national\", \"national\", \n\"national\", \"national\", \"national\", \"national\", \"national\", \"national\", \n\"national\", \"national\", \"national\", \"national\", \"national\", \"national\", \n\"national\", \"national\", \"national\", \"national\", \"national\", \"national\", \n\"national\", \"national\", \"national\", \"national\", \"national\", \"national\", \n\"national\", \"national\", \"national\", \"national\", \"national\", \"national\", \n\"national\", \"national\", \"national\", \"national\", \"national\", \"national\", \n\"national\", \"national\", \"national\", \"national\", \"national\", \"national\", \n\"national\", \"national\", \"national\", \"national\", \"national\", \"national\", \n\"national\", \"national\", \"national\", \"national\", \"national\", \"national\", \n\"national\", \"national\", \"national\", \"national\", \"national\", \"national\", \n\"national\", \"national\", \"national\", \"national\", \"national\", \"national\", \n\"national\", \"national\", \"national\", \"national\", \"national\", \"national\", \n\"national\", \"national\", \"national\", \"national\", \"national\", \"national\", \n\"national\", \"national\", \"national\", \"national\", \"national\", \"national\", \n\"national\", \"national\", \"national\", \"national\", \"national\", \"national\", \n\"national\", \"national\", \"national\", \"national\", \"national\", \"national\", \n\"national\", \"national\", \"national\", \"national\", \"national\", \"national\", \n\"national\", \"national\", \"national\", \"national\", \"national\", \"national\", \n\"national\", \"national\", \"national\", \"national\", \"national\", \"national\", \n\"national\", \"national\", \"national\", \"national\", \"national\", \"national\", \n\"national\", \"national\", \"national\", \"national\", \"national\", \"national\", \n\"national\", \"national\", \"national\", \"national\", \"national\", \"national\", \n\"national\", \"national\", \"national\", \"national\", \"national\", \"national\", \n\"national\", \"national\", \"national\", \"national\", \"national\", \"national\", \n\"national\", \"national\", \"national\", \"national\", \"national\", \"national\", \n\"national\", \"national\", \"national\", \"national\", \"national\", \"national\", \n\"national\", \"national\", \"national\", \"national\", \"national\", \"national\", \n\"national\", \"national\", \"national\", \"national\", \"national\", \"national\", \n\"national\", \"national\", \"national\", \"national\", \"national\", \"national\", \n\"national\", \"national\", \"national\", \"national\", \"national\", \"national\", \n\"national\", \"national\", \"national\", \"national\", \"national\", \"national\", \n\"national\", \"national\", \"national\", \"national\", \"national\", \"national\", \n\"national\", \"national\", \"national\", \"national\", \"national\", \"national\", \n\"national\", \"national\", \"national\", \"national\", \"national\", \"national\", \n\"national\", \"national\", \"national\", \"national\", \"national\", \"national\", \n\"national\", \"national\", \"national\", \"national\", \"national\", \"national\", \n\"national\", \"national\", \"national\", \"national\", \"national\", \"national\", \n\"national\", \"national\", \"national\", \"national\", \"national\", \"national\", \n\"national\", \"national\", \"national\", \"national\", \"national\", \"national\", \n\"national\", \"national\", \"national\", \"national\", \"national\", \"national\", \n\"national\", \"national\", \"national\", \"national\", \"national\", \"national\", \n\"national\", \"national\", \"national\", \"national\", \"national\", \"national\", \n\"national\", \"national\", \"national\", \"national\", \"national\", \"national\", \n\"national\", \"national\", \"national\", \"national\", \"national\", \"national\", \n\"national\", \"national\", \"national\", \"national\", \"national\", \"national\", \n\"national\", \"national\", \"national\", \"national\", \"national\", \"national\", \n\"national\", \"national\", \"national\", \"national\", \"national\", \"national\", \n\"national\", \"national\", \"national\", \"national\", \"national\", \"national\", \n\"national\", \"national\", \"national\", \"national\", \"national\", \"national\", \n\"national\", \"national\", \"national\", \"national\", \"national\", \"national\", \n\"national\", \"national\", \"national\", \"national\", \"national\", \"national\", \n\"national\", \"national\", \"national\", \"national\", \"national\", \"national\", \n\"national\", \"national\", \"national\", \"national\", \"national\", \"national\", \n\"national\", \"national\", \"national\", \"national\", \"national\", \"national\", \n\"national\", \"national\", \"national\", \"national\", \"national\", \"national\", \n\"national\", \"national\", \"national\", \"national\", \"national\", \"national\", \n\"national\", \"national\", \"national\", \"national\", \"national\", \"national\", \n\"national\", \"national\", \"national\", \"national\", \"national\", \"national\", \n\"national\", \"national\", \"national\", \"national\", \"national\", \"national\", \n\"national\", \"national\", \"national\", \"national\", \"national\", \"national\", \n\"national\", \"national\", \"national\", \"national\", \"national\", \"national\", \n\"national\", \"national\", \"national\", \"national\", \"national\", \"national\", \n\"national\", \"national\", \"national\", \"national\", \"national\", \"national\", \n\"national\", \"national\", \"national\", \"national\", \"national\", \"national\", \n\"national\", \"national\", \"national\", \"national\", \"national\", \"national\", \n\"national\", \"national\", \"national\", \"national\", \"national\", \"national\", \n\"national\", \"national\", \"national\", \"national\", \"national\", \"national\", \n\"national\", \"national\", \"national\", \"national\", \"national\", \"national\", \n\"national\", \"national\", \"national\", \"national\", \"national\", \"national\", \n\"national\", \"national\", \"national\", \"national\", \"national\", \"national\", \n\"national\", \"national\", \"national\", \"national\", \"national\", \"national\", \n\"national\", \"national\", \"national\", \"national\", \"national\", \"national\", \n\"national\", \"national\", \"national\", \"national\", \"national\", \"national\", \n\"national\", \"national\", \"national\", \"national\", \"national\", \"national\", \n\"national\", \"national\", \"national\", \"national\", \"national\", \"national\", \n\"national\", \"national\", \"national\", \"national\", \"national\", \"national\", \n\"national\", \"national\", \"national\", \"national\", \"national\", \"national\", \n\"national\", \"national\", \"national\", \"national\", \"national\", \"national\", \n\"national\", \"national\", \"national\", \"national\", \"national\", \"national\", \n\"national\", \"national\", \"national\", \"national\", \"national\", \"national\", \n\"national\", \"national\", \"national\", \"national\", \"national\", \"national\", \n\"national\", \"national\", \"national\", \"national\", \"national\", \"national\", \n\"national\", \"national\", \"national\", \"national\", \"national\", \"national\", \n\"national\", \"national\", \"national\", \"national\", \"national\", \"national\", \n\"national\", \"national\", \"national\", \"national\", \"national\", \"national\", \n\"national\", \"national\", \"national\", \"national\", \"national\", \"national\", \n\"national\", \"national\", \"national\", \"national\", \"national\", \"national\", \n\"national\", \"national\", \"national\", \"national\", \"national\", \"national\", \n\"national\", \"national\", \"national\", \"national\", \"national\", \"national\", \n\"national\", \"national\", \"national\", \"national\", \"national\", \"national\", \n\"national\", \"national\", \"national\", \"national\", \"national\", \"national\", \n\"national\", \"national\", \"national\", \"national\", \"national\", \"national\", \n\"national\", \"national\", \"national\", \"national\", \"national\", \"national\", \n\"national\", \"national\", \"national\", \"national\", \"national\", \"national\", \n\"national\", \"national\", \"national\", \"national\", \"national\", \"national\", \n\"national\", \"national\", \"national\", \"national\", \"national\", \"national\", \n\"national\", \"national\", \"national\", \"national\", \"national\", \"national\", \n\"national\", \"national\", \"national\", \"national\", \"national\", \"national\", \n\"national\", \"national\", \"national\", \"national\", \"national\", \"national\", \n\"national\", \"national\", \"national\", \"national\", \"national\", \"national\", \n\"national\", \"national\", \"national\", \"national\", \"national\", \"national\", \n\"national\", \"national\", \"national\", \"national\", \"national\", \"national\", \n\"national\", \"national\", \"national\", \"national\", \"national\", \"national\", \n\"national\", \"national\", \"national\", \"national\", \"national\", \"national\", \n\"national\", \"national\", \"national\", \"national\", \"national\", \"national\", \n\"national\", \"national\", \"national\", \"national\", \"national\", \"national\", \n\"national\", \"national\", \"national\", \"national\", \"national\", \"national\", \n\"national\", \"national\", \"national\", \"national\", \"national\", \"national\", \n\"national\", \"national\", \"national\", \"national\", \"national\", \"national\", \n\"national\", \"national\", \"national\", \"national\", \"national\", \"national\", \n\"national\", \"national\", \"national\", \"national\", \"national\", \"national\", \n\"national\", \"national\", \"national\", \"national\", \"national\", \"national\", \n\"national\", \"national\", \"national\", \"national\", \"national\", \"national\", \n\"national\", \"national\", \"national\", \"national\", \"national\", \"national\", \n\"national\", \"national\", \"national\", \"national\", \"national\", \"national\", \n\"national\", \"national\", \"national\", \"national\", \"national\", \"national\", \n\"national\", \"national\", \"national\", \"national\", \"national\", \"national\", \n\"national\", \"national\", \"national\", \"national\", \"national\", \"national\", \n\"national\", \"national\", \"national\", \"national\", \"national\", \"national\", \n\"national\", \"national\", \"national\", \"national\", \"national\", \"national\", \n\"national\", \"national\", \"national\", \"national\", \"national\", \"national\", \n\"national\", \"national\", \"national\", \"national\", \"national\", \"national\", \n\"national\", \"national\", \"national\", \"national\", \"national\", \"national\", \n\"national\", \"national\", \"national\", \"national\", \"national\", \"national\", \n\"national\", \"national\", \"national\", \"national\", \"national\", \"national\", \n\"national\", \"national\", \"national\", \"national\", \"national\", \"national\", \n\"national\", \"national\", \"national\", \"national\", \"national\", \"national\", \n\"national\", \"national\", \"national\", \"national\", \"national\", \"national\", \n\"national\", \"national\", \"national\", \"national\", \"national\", \"national\", \n\"national\", \"national\", \"national\", \"national\", \"national\", \"national\", \n\"national\", \"national\", \"national\", \"national\", \"national\", \"national\", \n\"national\", \"national\", \"national\", \"national\", \"national\", \"national\", \n\"national\", \"national\", \"national\", \"national\", \"national\", \"national\", \n\"national\", \"national\", \"national\", \"national\", \"national\", \"national\", \n\"national\", \"national\", \"national\", \"national\", \"national\", \"national\", \n\"national\", \"national\", \"national\", \"national\", \"national\", \"national\", \n\"national\", \"national\", \"national\", \"national\", \"national\", \"national\", \n\"national\", \"national\", \"national\", \"national\", \"national\", \"national\", \n\"national\", \"national\", \"national\", \"national\", \"national\", \"national\", \n\"national\", \"national\", \"national\", \"national\", \"national\", \"national\", \n\"national\", \"national\", \"national\", \"national\", \"national\", \"national\", \n\"national\", \"national\", \"national\", \"national\", \"national\", \"national\", \n\"national\", \"national\", \"national\", \"national\", \"national\", \"national\", \n\"national\", \"national\", \"national\", \"national\", \"national\", \"national\", \n\"national\", \"national\", \"national\", \"national\", \"national\", \"national\", \n\"national\", \"national\", \"national\", \"national\", \"national\", \"national\", \n\"national\", \"national\", \"national\", \"national\", \"national\", \"national\", \n\"national\", \"national\", \"national\", \"national\", \"national\", \"national\", \n\"national\", \"national\", \"national\", \"national\", \"national\", \"national\", \n\"national\", \"national\", \"national\", \"national\", \"national\", \"national\", \n\"national\", \"national\", \"national\", \"national\", \"national\", \"national\", \n\"national\", \"national\", \"national\", \"national\", \"national\", \"national\", \n\"national\", \"national\", \"national\", \"national\", \"national\", \"national\", \n\"national\", \"national\", \"national\", \"national\", \"national\", \"national\", \n\"national\", \"national\", \"national\", \"national\", \"national\", \"national\", \n\"national\", \"national\", \"national\", \"national\", \"national\", \"national\", \n\"national\", \"national\", \"national\", \"national\", \"national\", \"national\", \n\"national\", \"national\", \"national\", \"national\", \"national\", \"national\", \n\"national\", \"national\", \"national\", \"national\", \"national\", \"national\", \n\"national\", \"national\", \"national\", \"national\", \"national\", \"national\", \n\"national\", \"national\", \"national\", \"national\", \"national\", \"national\", \n\"national\", \"national\", \"national\", \"national\", \"national\", \"national\", \n\"national\", \"national\", \"national\", \"national\", \"national\", \"national\", \n\"national\", \"national\", \"national\", \"national\", \"national\", \"national\", \n\"national\", \"national\", \"national\", \"national\", \"national\", \"national\", \n\"national\", \"national\", \"national\", \"national\", \"national\", \"national\", \n\"national\", \"national\", \"national\", \"national\", \"national\", \"national\", \n\"national\", \"national\", \"national\", \"national\", \"national\", \"national\", \n\"national\", \"national\", \"national\", \"national\", \"national\", \"national\", \n\"national\", \"national\", \"national\", \"national\", \"national\", \"national\", \n\"national\", \"national\", \"national\", \"national\", \"national\", \"national\", \n\"national\", \"national\", \"national\", \"national\", \"national\", \"national\", \n\"national\", \"national\", \"national\", \"national\", \"national\", \"national\", \n\"national\", \"national\", \"national\", \"national\", \"national\", \"national\", \n\"national\", \"national\", \"national\", \"national\", \"national\", \"national\", \n\"national\", \"national\", \"national\", \"national\", \"national\", \"national\", \n\"national\", \"national\", \"national\", \"national\", \"national\", \"national\", \n\"national\", \"national\", \"national\", \"national\", \"national\", \"national\", \n\"national\", \"national\", \"national\", \"national\", \"national\", \"national\", \n\"national\", \"national\", \"national\", \"national\", \"national\", \"national\", \n\"national\", \"national\", \"national\", \"national\", \"national\", \"national\", \n\"national\", \"national\", \"national\", \"national\", \"national\", \"national\", \n\"national\", \"national\", \"national\", \"national\", \"national\", \"national\", \n\"national\", \"national\", \"national\", \"national\", \"national\", \"national\", \n\"national\", \"national\", \"national\", \"national\", \"national\", \"national\", \n\"national\", \"national\", \"national\", \"national\", \"national\", \"nat\n\n*** WARNING: max output size exceeded, skipping output. ***\n\n2, 2, 3, 2, 2, 2, 1, \n2, 1, 2, 1, 2, 2, 2, 2, 2, 2, 2, 4, 1, 2, 2, 2, 2, 2, 4, 4, 4, \n4, 4, 2, 2, 4, 2, 4, 2, 2, 2, 2, 2, 1, 4, 2, 2, 2, 2, 4, 4, 3, \n4, 2, 2, 1, 4, 4, 3, 3, 4, 4, 4, 4, 4, 4, 1, 3, 4, 4, 3, 4, 3, \n4, 2, 2, 2, 2, 1, 3, 4, 2, 3, 2, 2, 1, 2, 4, 2, 2, 2, 2, 2, 2, \n1, 1, 2, 2, 4, 2, 4, 1, 4, 2, 2, 2, 2, 1, 2, 3, 4, 4, 2, 3, 2, \n2, 2, 4, 1, 4, 3, 2, 2, 3, 4, 3, 2, 1, 2, 2, 4, 2, 4, 4, 2, 4, \n4, 3, 2, 2, 3, 1, 4, 2, 1, 2, 2, 2, 2, 4, 2, 1, 2, 4, 2, 2, 4, \n3, 3, 4, 2, 4, 4, 4, 4, 4, 3, 4, 4, 4, 1, 4, 2, 4, 4, 2, 4, 2, \n2, 2, 4, 1, 1, 2, 3, 4, 3, 2, 4, 4, 3, 2, 3, 1, 3, 4, 3, 2, 1, \n1, 4, 4, 4, 2, 2, 3, 1, 4, 3, 1, 3, 3, 3, 3, 3, 3, 3, 4, 4, 1, \n1, 4, 3, 4, 1, 3, 2, 2, 1, 3, 4, 3, 1, 2, 3, 3, 4, 2, 4, 1, 4, \n2, 1, 1, 3, 4, 3, 3, 3, 1, 3, 1, 1, 3, 1, 2, 1, 1, 1, 2, 1, 2, \n3, 4, 4, 2, 2, 4, 4, 4, 4, 4, 4, 3, 3, 3, 4, 3, 1, 3, 1, 4, 4, \n4, 3, 4, 1, 1, 1, 2, 4, 1, 3, 1, 3, 2, 3, 4, 2, 3, 3, 1, 1, 1, \n1, 2, 3, 4, 4, 3, 3, 4, 4, 4, 3, 4, 2, 4, 4, 4, 3, 2, 2, 2, 2, \n1, 4, 1, 2, 4, 4, 2, 3, 2, 3, 4, 2, 4, 1, 1, 3, 2, 4, 2, 3, 4, \n2, 4, 2, 2, 1, 2, 2, 4, 4, 4, 2, 2, 4, 1, 3, 4, 2, 2, 1, 3, 2, \n4, 2, 4, 1, 2, 4, 3, 4, 1, 1, 2, 4, 3, 4, 4, 4, 2, 3, 4, 2, 4, \n3, 2, 4, 2, 4, 3, 4, 3, 2, 4, 3, 1, 2, 2, 4, 2, 4, 4, 3, 1, 1, \n3, 1, 4, 2, 2, 2, 3, 3, 2, 2, 4, 3, 3, 4, 2, 2, 4, 4, 2, 2, 2, \n2, 2, 4, 2, 3, 1, 2, 3, 3, 1, 2, 1, 3, 2, 2, 3, 2, 2, 2, 2, 3, \n1, 4, 2, 3, 2, 1, 1, 2, 3, 2, 2, 3, 3, 4, 3, 3, 3, 3, 3, 1, 2, \n4, 2, 4, 3, 1, 4, 1, 2, 3, 4, 3, 4, 2, 2, 1, 1, 1, 1, 2, 2, 3, \n3, 3, 3, 3, 1, 1, 1, 1, 2, 1, 1, 1, 2, 4, 2, 1, 3, 2, 2, 2, 4, \n2, 3, 3, 4, 4, 4, 4, 4, 1, 4, 3, 3, 4, 1, 4, 1, 4, 4, 1, 3, 2, \n3, 3, 2, 2, 1, 1, 3, 4, 4, 4, 4, 3, 3, 2, 2, 2, 2, 4, 3, 4, 2, \n4, 2, 1, 2, 4, 1, 4, 4, 3, 4, 1, 1, 4, 4, 4, 3, 3, 4, 4, 4, 4, \n4, 2, 3, 4, 3, 1, 4, 3, 3, 2, 2, 2, 3, 3, 4, 1, 3, 3, 1, 2, 1, \n2, 1, 3, 2, 3, 4, 2, 2, 3, 3, 1, 4, 3, 4, 3, 4, 2, 1, 1, 4, 4, \n3, 3, 1, 4, 4, 2, 4, 2, 3, 3, 4, 4, 3, 3, 4, 1, 4, 2, 1, 4, 4, \n3, 4, 4, 3, 4, 1, 1, 1, 2, 3, 4, 3, 1, 3, 3, 2, 2, 3, 3, 1, 1, \n3, 2, 1, 3, 1, 3, 4, 3, 3, 4, 4, 4, 3, 2, 3, 3, 2, 4, 2, 1, 2, \n4, 2, 2, 3, 4, 4, 3, 1, 2, 2, 4, 2, 3, 4, 2, 4, 4, 4, 4, 1, 4, \n1, 4, 3, 4, 1, 1, 1, 3, 4, 2, 4, 4, 3, 4, 2, 4, 3, 4, 2, 4, 3, \n1, 4, 2, 3, 3, 2, 1, 2, 2, 3, 3, 3, 3, 1, 2, 2, 3, 1, 2, 4, 3, \n3, 1, 2, 4, 1, 2, 3, 2, 2, 3, 4, 3, 4, 3, 2, 3, 1, 2, 2, 2, 3, \n3, 1, 3, 4, 3, 2, 2, 4, 3, 2, 3, 2, 1, 1, 1, 1, 2, 1, 2, 3, 1, \n3, 3, 3, 3, 3, 2, 4, 1, 3, 4, 2, 4, 2, 3, 3, 4, 4, 1, 4, 4, 4, \n3, 4, 3, 4, 1, 1, 1, 1, 2, 1, 2, 4, 1, 3, 1, 2, 3, 1, 3, 2, 4, \n4, 3, 2, 4, 4, 1, 1, 2, 4, 1, 1, 4, 4, 3, 3, 4, 2, 1, 4, 4, 4, \n1, 3, 4, 2, 4, 3, 2, 4, 1, 3, 1, 1, 1, 3, 3, 1, 3, 2, 1, 4, 4, \n1, 2, 3, 4, 4, 1, 4, 2, 4, 4, 4, 4, 4, 3, 1, 4, 4, 4, 4, 3, 4, \n3, 4, 4, 4, 4, 1, 4, 4, 4, 4, 3, 3, 4, 4, 1, 4, 4, 4, 4, 4, 1, \n4, 2, 4, 1, 1, 3, 1, 1, 4, 2, 4, 1, 3, 4, 4, 3, 1, 2, 2, 4, 4, \n2, 1, 3, 2, 1, 1, 2, 2, 4, 3, 4, 4, 2, 1, 4, 4, 4, 3, 3, 3, 4, \n3, 4, 2, 2, 4, 4, 4, 1, 1, 1, 1, 3, 1, 2, 2, 4, 3, 2, 3, 2, 1, \n2, 1, 1, 2, 3, 2, 4, 3, 4, 1, 3, 2, 1, 3, 4, 2, 2, 1, 2, 2, 4, \n4, 2, 3, 2, 1, 4, 2, 2, 3, 4, 2, 1, 1, 3, 3, 3, 2, 4, 4, 4, 3, \n4, 4, 3, 1, 1, 1, 1, 4, 4, 2, 3, 2, 4, 3, 3, 4, 1, 4, 2, 4, 3, \n4, 1, 4, 2, 4, 4, 4, 2, 4, 2, 4, 1, 4, 4, 4, 4, 2, 2, 3, 4, 1, \n2, 1, 4, 2, 4, 3, 3, 4, 4, 2, 3, 4, 3, 4, 1, 1, 4, 3, 4, 4, 4, \n4, 4, 3, 3, 1, 3, 3, 4, 2, 4, 4, 4, 3, 2, 2, 3, 4, 4, 4, 4, 4, \n3, 4, 3, 4, 4, 4, 4, 4, 4, 2, 4, 1, 2, 2, 2, 1, 3, 1, 2, 2, 2, \n1, 3, 1, 1, 3, 2, 1, 3, 3, 1, 2, 2, 3, 3, 4, 1, 1, 3, 4, 3, 1, \n1, 4, 1, 1, 1, 3, 3, 1, 1, 1, 4, 2, 2, 2, 3, 4, 2, 4, 2, 4, 4, \n1, 3, 4, 3, 4, 1, 1, 1, 1, 1, 4, 2, 2, 4, 3, 4, 1, 2, 3, 3, 4, \n1, 1, 2, 2, 2, 4, 3, 4, 1, 3, 3, 4, 3, 4, 4, 3, 4, 3, 3, 2, 4, \n4, 1, 1, 1, 4, 4, 2, 2, 4, 3, 1, 1, 1, 3, 3, 3, 4, 2, 3, 4, 3, \n3, 1, 4, 3, 3, 3, 3, 4, 2, 2, 2, 4, 1, 4, 2, 4, 1, 3, 4, 4, 1, \n1, 4, 3, 4, 2, 1, 2, 1, 2, 1, 3, 1, 3, 2, 3, 4, 3, 3, 4, 2, 3, \n4, 4, 1, 4, 2, 4, 4, 3, 4, 4, 4, 4, 4, 4, 3, 4, 1, 1, 4, 3, 1, \n4, 4, 3, 3, 2, 1, 4, 3, 3, 4, 3, 3, 1, 4, 1, 1, 4, 3, 4, 4, 4, \n4, 4, 4, 2, 1, 3, 2, 3, 3, 2, 1, 1, 3, 3, 1, 1, 2, 2, 3, 3, 2, \n3, 4, 4, 4, 1, 3, 2, 3, 3, 3, 1, 1, 2, 1, 4, 3, 1, 4, 1, 4, 3, \n3, 1, 1, 2, 4, 4, 4, 4, 1, 1, 4, 3, 1, 1, 2, 4, 4, 3, 4, 3, 4, \n3, 1, 2, 1, 4, 1, 4, 2, 4, 2, 4, 1, 4, 4, 4, 3, 2, 3, 4, 2, 1, \n3, 3, 1, 2, 4, 3, 3, 2, 3, 3, 1, 4, 3, 2, 4, 4, 1, 4, 4, 4, 1, \n2, 1, 4, 4, 1, 3, 4, 2, 4, 4, 4, 4, 4, 4, 4, 3, 4, 3, 4, 4, 3, \n4, 4, 2, 1, 4, 4, 4, 2, 4, 3, 1, 1, 4, 2, 2, 1, 2, 2, 2, 3, 3, \n2, 1, 2, 1, 3, 2, 3, 3, 1, 2, 1, 3, 3, 1, 4, 4, 1, 1, 1, 2, 4, \n4, 1, 3, 3, 4, 2, 3, 1, 1, 2, 4, 1, 2, 1, 3, 4, 2, 3, 3, 2, 1, \n1, 4, 2, 2, 3, 1, 1, 1, 4, 2, 4, 2, 4, 3, 3, 4, 3, 3, 3, 2, 4, \n1, 4, 1, 3, 2, 3, 4, 1, 1, 2, 2, 1, 2, 4, 3, 4, 3, 4, 1, 3, 2, \n2, 2, 2, 2, 4, 2, 4, 3, 2, 2, 1, 4, 2, 4, 2, 4, 4, 1, 3, 3, 3, \n4, 2, 2, 4, 3, 3, 4, 4, 1, 3, 3, 1, 4, 4, 4, 1, 3, 2, 1, 4, 3, \n2, 2, 4, 2, 1, 1, 1, 3, 2, 2, 2, 2, 1, 2, 4, 4, 3, 4, 2, 4, 2, \n2, 3, 1, 3, 1, 1, 4, 4, 1, 1, 2, 3, 3, 1, 1, 2, 1, 4, 3, 1, 4, \n4, 3, 3, 1, 1, 1, 2, 1, 3, 2, 2, 3, 3, 1, 3, 1, 3, 4, 3, 3, 4, \n4, 3, 4, 3, 2, 1, 2, 4, 3, 4, 3, 4, 3, 1, 4, 2, 4, 2, 4, 1, 4, \n1, 4, 2, 3, 4, 1, 1, 4, 4, 2, 4, 2, 3, 4, 4, 2, 4, 3, 1, 4, 2, \n4, 3, 2, 4, 2, 4, 3, 3, 3, 1, 3, 3, 1, 2, 2, 2, 3, 2, 3, 3, 2, \n4, 1, 2, 3, 2, 2, 3, 4, 2, 3, 3, 2, 2, 2, 2, 3, 3, 1, 3, 4, 3, \n4, 2, 3, 4, 1, 1, 1, 1, 2, 3, 1, 3, 4, 3, 2, 2, 1, 2, 3, 3, 1, \n2, 4, 1, 3, 2, 4, 3, 4, 4, 1, 4, 3, 1, 4, 2, 1, 2, 4, 2, 1, 3, \n3, 2, 1, 2, 3, 1, 2, 4, 4, 4, 4, 4, 3, 3, 4, 4, 4, 2, 3, 1, 1, \n3, 1, 3, 4, 3, 2, 1, 2, 3, 1, 2, 1, 1, 3, 1, 4, 2, 4, 2, 1, 4, \n3, 2, 2, 4, 1, 4, 1, 2, 1, 4, 1, 4, 1, 4, 3, 2, 1, 3, 2, 1, 2, \n3, 4, 1, 4, 2, 1, 4, 4, 4, 3, 4, 4, 1, 3, 1, 2, 2, 4, 1, 1, 4, \n3, 2, 1, 1, 3, 2, 3, 2, 3, 3, 2, 1, 2, 2, 1, 1, 1, 3, 1, 2, 3, \n1, 4, 4, 3, 3, 3, 4, 4, 4, 3, 3, 4, 4, 4, 3, 2, 2, 4, 2, 4, 1, \n2, 4, 2, 3, 4, 4, 4, 3, 2, 4, 3, 2, 4, 2, 3, 3, 1, 4, 2, 1, 2, \n3, 1, 2, 4, 2, 4, 3, 1, 4, 4, 2, 1, 1, 4, 1, 3, 2, 3, 4, 2, 3, \n4, 2, 4, 2, 1, 4, 4, 4, 2, 3, 4, 4, 4, 4, 3, 4, 3, 4, 1, 3, 4, \n4, 2, 2, 3, 4, 3, 1, 3, 4, 4, 4, 2, 4, 4, 3, 4, 4, 4, 3, 1, 2, \n4, 1, 4, 1, 2, 4, 1, 2, 2, 2, 2, 4, 4, 4, 2, 2, 2, 2, 2, 4, 3, \n4, 4, 3, 3, 3, 3, 3, 4, 1, 2, 3, 1, 3, 3, 2, 2, 1, 3, 1, 1, 1, \n2, 4, 2, 2, 3, 3, 3, 3, 2, 4, 1, 2, 3, 2, 2, 3, 3, 3, 3, 1, 2, \n2, 3, 3, 4, 3, 4, 4, 3, 2, 2, 2, 1, 1, 3, 1, 2, 1, 2, 4, 3, 3, \n4, 3, 3, 3, 3, 1, 2, 3, 3, 3, 1, 4, 2, 3, 3, 3, 4, 4, 4, 1, 4, \n4, 3, 3, 3, 1, 3, 4, 2, 4, 2, 4, 3, 4, 3, 1, 4, 2, 3, 1, 2, 1, \n3, 1, 2, 2, 4, 3, 2, 2, 2, 4, 1, 2, 3, 2, 2, 1, 4, 1, 1, 4, 4, \n1, 3, 2, 4, 2, 2, 3, 2, 1, 4, 3, 3, 4, 4, 3, 2, 2, 4, 2, 2, 3, \n1, 1, 2, 1, 2, 2, 2, 1, 2, 3, 3, 4, 1, 2, 4, 2, 2, 2, 2, 1, 3, \n2, 4, 3, 4, 3, 2, 1, 2, 4, 4, 2, 2, 4, 2, 4, 4, 4, 4, 1, 4, 4, \n4, 1, 3, 3, 3, 4, 2, 4, 4, 3, 3, 2, 1, 3, 1, 4, 2, 2, 4, 2, 1, \n4, 4, 3, 2, 2, 2, 3, 4, 4, 4, 3, 4, 4, 3, 2, 2, 4, 4, 4, 4, 2, \n1, 1, 2, 3, 1, 2, 2, 2, 3, 4, 4, 4, 2, 4, 4, 3, 3, 1, 4, 3, 3, \n4, 3, 4, 4, 4, 4, 3, 4, 2, 2, 3, 2, 4, 2, 2, 2, 4, 2, 1, 3, 4, \n4, 2, 4, 4, 2, 4, 3, 4, 4, 4, 2, 3, 4, 4, 3, 2, 3, 4, 4, 2, 4, \n3, 4, 1, 4, 4, 2, 2, 3, 4, 2, 3, 1, 2, 1, 4, 4, 2, 4, 3, 2, 2, \n1, 4, 3, 1, 3, 4, 2, 4, 4, 1, 3, 2, 1, 2, 4, 4, 3, 3, 4, 3, 3, \n4, 2, 2, 2, 4, 3, 4, 2, 4, 2, 4, 3, 4, 2, 1, 4, 3, 3, 1, 3, 1, \n2, 3, 1, 2, 1, 4, 2, 4, 4, 2, 4, 1, 3, 2, 3, 1, 4, 3, 4, 3, 3, \n4, 4, 1, 2, 1, 2, 4, 3, 2, 1, 1, 2, 4, 3, 2, 2, 4, 3, 4, 1, 2, \n2, 4, 4, 1, 2, 1, 2, 4, 3, 2, 4, 4, 1, 1, 2, 1, 1, 3, 2, 3, 2, \n4, 1, 3, 2, 2, 2, 3, 1, 4, 4, 3, 2, 2, 2, 1, 2, 3, 3, 1, 2, 2, \n1, 3, 4, 3, 4, 3, 3, 3, 3, 4, 2, 4, 4, 3, 3, 2, 4, 2, 3, 3, 4, \n2, 3, 1, 1, 4, 1, 2, 3, 2, 4, 4, 2, 2, 4, 2, 2, 3, 4, 4, 2, 3, \n3, 4, 3, 1, 3, 4, 4, 3, 1, 1, 4, 2, 2, 3, 2, 3, 1, 2, 3, 2, 1, \n2, 2, 1, 2, 2, 1, 1, 2, 2, 2, 2, 2, 3, 2, 3, 1, 2, 1, 3, 3, 1, \n3, 3, 4, 3, 3, 3, 3, 3, 2, 2, 2, 1, 3, 1, 3, 2, 1, 2, 2, 4, 3, \n1, 3, 1, 4, 1, 1, 4, 3, 3, 1, 2, 3, 1, 2, 4, 3, 2, 3, 3, 3, 4, \n4, 2, 2, 2, 4, 4, 3, 3, 3, 3, 4, 2, 2, 2, 2, 4, 4, 3, 3, 3, 3, \n3, 3, 3, 4, 4, 2, 3, 4, 2, 4, 4, 4, 2, 1, 1, 2, 4, 4, 4, 3, 2, \n2, 4, 1, 2, 1, 2, 3, 4, 3, 2, 2, 2, 2, 3, 2, 3, 2, 2, 4, 3, 2, \n3, 4, 1, 1, 1, 2, 3, 3, 1, 3, 3, 2, 1, 3, 3, 2, 4, 4, 3, 2, 2, \n2, 4, 2, 1, 4, 2, 2, 2, 1, 1, 3, 3, 2, 4, 1, 1, 2, 4, 4, 2, 1, \n3, 3, 3, 2, 3, 4, 4, 4, 1, 2, 1, 3, 4, 4, 3, 3, 1, 3, 3, 2, 2, \n3, 4, 1, 4, 3, 4, 2, 3, 2, 1, 3, 3, 2, 2, 4, 3, 3, 4, 4, 1, 4, \n1, 4, 1, 2, 1, 3, 3, 1, 1, 2, 1, 1, 1, 1, 3, 3, 3, 2, 1, 1, 1, \n1, 3, 2, 4, 3, 3, 1, 4, 3, 3, 3, 2, 4, 4, 1, 1, 4, 4, 1, 2, 4, \n4, 4, 3, 1, 3, 3, 4, 4, 4, 4, 3, 3, 1, 2, 2, 3, 2, 1, 3, 3, 4, \n4, 1, 1, 1, 4, 1, 2, 3, 1, 4, 2, 2, 2, 2, 3, 1, 1, 4, 1, 1, 3, \n1, 2, 2, 1, 4, 2, 4, 2, 1, 3, 3, 3, 3, 3, 2, 3, 3, 3, 3, 3, 4, \n4, 3, 2, 3, 1, 3, 3, 4, 3, 2, 1, 2, 4, 2, 4, 3, 4, 4, 3, 2, 2, \n4, 3, 3, 4, 2, 3, 4, 3, 4, 2, 4, 3, 4, 3, 1, 1, 3, 4, 4, 4, 3, \n4, 2, 3, 3, 2, 4, 2, 4, 4, 3, 4, 2, 4, 3, 4, 2, 3, 3, 4, 2, 4, \n1, 1, 2, 4, 2, 1, 2, 2, 2, 2, 2, 4, 3, 3, 4, 1, 4, 1, 3, 1, 3, \n2, 1, 3, 3, 2, 2, 2, 3, 4, 4, 4, 3, 3, 3, 3, 4, 3, 3, 4, 3, 4, \n4, 4, 4, 1, 2, 3, 1, 1, 2, 3, 1, 2, 4, 1, 1, 1, 1, 2, 4, 1, 2, \n4, 4, 4, 2, 2, 2, 1, 3, 2, 1, 4, 1, 2, 2, 4, 1, 3, 1, 3, 3, 2, \n3, 4, 4, 4, 2, 4, 1, 1, 1, 1, 4, 4, 1, 1, 2, 1, 3, 3, 4, 1, 2, \n1, 2, 4, 4, 2, 4, 3, 1, 1, 1, 2, 1, 2, 2, 1, 1, 3, 3, 3, 3, 3, \n2, 3, 3, 3, 3, 1, 2, 3, 2, 3, 2, 4, 4, 1, 4, 3, 2, 1, 1, 3, 4, \n3, 4, 1, 3, 1, 4, 1, 3, 4, 4, 1, 1, 4, 2, 3, 2, 3, 1, 2, 2, 4, \n3, 4, 1, 4, 2, 1, 2, 4, 2, 4, 1, 3, 4, 3, 3, 4, 4, 4, 1, 3, 1, \n1, 4, 2, 4, 4, 3, 4, 2, 2, 2, 1, 4, 4, 4, 3, 4, 3, 4, 4, 3, 3, \n2, 1, 3, 3, 4, 3, 3, 2, 4, 4, 4, 4, 4, 2, 4, 1, 1, 4, 2, 4, 3, \n3, 1, 3, 1, 4, 3, 1, 1, 2, 4, 4, 3, 3, 3, 3, 3, 2, 4, 2, 1, 4, \n3, 3, 3, 1, 4, 2, 3, 2, 3, 1, 1, 1, 1, 1, 3, 3, 3, 2, 2, 2, 2, \n1, 2, 1, 3, 1, 4, 4, 2, 3, 3, 2, 2, 2, 3, 2, 2, 4, 1, 2, 4, 1, \n1, 4, 2, 3, 3, 3, 1, 4, 4, 2, 1, 2, 4, 1, 4, 4, 4, 1, 3, 1, 3, \n2, 2, 1, 1, 3, 4, 2, 1, 1, 1, 2, 2, 1, 3, 1, 2, 3, 3, 4, 3, 3, \n1, 1, 3, 3, 2, 1, 2, 3, 1, 3, 2, 2, 2, 3, 2, 4, 1, 3, 3, 3, 4, \n3, 3, 1, 3, 2, 4, 1, 2, 1, 4, 3, 2, 4, 4, 1, 1, 4, 1, 1, 2, 3, \n1, 2, 4, 3, 2, 1, 1, 3, 1, 3, 1, 1, 1, 1, 1, 1, 1, 2, 1, 2, 3, \n2, 4, 4, 4, 4, 1, 1, 1, 2, 2, 2, 2, 4, 2, 3, 3, 2, 2, 2, 2, 3, \n3, 2, 1, 2, 3, 3, 1, 3, 2, 4, 2, 3, 4, 4, 2, 3, 2, 3, 2, 3, 3, \n4, 1, 4, 4, 3, 4, 1, 4, 1, 3, 2, 4, 1, 3, 1, 4, 2, 3, 4, 1, 1, \n4, 3, 1, 4, 4, 4, 4, 4, 2, 3, 3, 4, 4, 3, 4, 4, 4, 4, 1, 2, 3, \n2, 3, 4, 4, 4, 4, 4, 3, 3, 4, 4, 2, 4, 3, 1, 2, 4, 3, 2, 3, 3, \n3, 3, 4, 4, 4, 2, 2, 2, 3, 3, 4, 3, 3, 2, 4, 1, 2, 3, 2, 2, 1, \n4, 1, 1, 4, 2, 2, 3, 2, 2, 3, 3, 4, 3, 2, 4, 2, 3, 4, 2, 2, 3, \n4, 4, 1, 3, 4, 1, 2, 3, 3, 1, 4, 2, 4, 3, 3, 1, 2, 1, 2, 4, 4, \n2, 3, 1, 3, 3, 3, 3, 1, 3, 3, 4, 1, 3, 4, 3, 3, 4, 4, 4, 3, 4, \n3, 3, 4, 1, 2, 4, 4, 4, 4, 3, 4, 4, 2, 1, 1, 4, 2, 4, 3, 3, 3, \n2, 2, 1, 3, 3, 4, 4, 3, 1, 3, 2, 4, 3, 1, 1, 4, 4, 3, 3, 2, 2, \n2, 1, 4, 1, 2, 3, 2, 2, 3, 2, 2, 4, 4, 1, 1, 1, 2, 2, 4, 1, 4, \n4, 3, 1, 3, 3, 4, 3, 3, 4, 2, 1, 1, 3, 3, 4, 3, 3, 4, 3, 4, 1, \n4, 4, 1, 3, 3, 3, 1, 3, 4, 1, 3, 4, 1, 3, 1, 2, 2, 4, 4, 4, 4, \n3, 3, 3, 3, 4, 3, 2, 1, 3, 4, 3, 3, 4, 4, 4, 1, 3, 3, 2, 1, 3, \n4, 2, 4, 4, 1, 4, 1, 2, 3, 3, 3, 1, 1, 2, 1, 1, 2, 3, 3, 3, 3, \n4, 4, 4, 3, 3, 4, 4, 3, 2, 2, 4, 1, 4, 3, 2, 4, 2, 2, 1, 1, 4, \n4, 1, 4, 2, 4, 3, 3, 4, 4, 1, 4, 4, 1, 4, 4, 4, 3, 1, 3, 4, 3, \n2, 1, 4, 3, 2, 4, 1, 3, 4, 1, 1, 4, 4, 3, 2, 2, 1, 1, 3, 1, 1, \n3, 3, 1, 2, 3, 2, 3, 4, 2, 2, 2, 3, 1, 4, 3, 4, 3, 2, 4, 2, 1, \n4, 4, 3, 4, 3, 1, 1, 4, 2, 4, 3, 3, 4, 4, 3, 4, 4, 4, 4, 2, 4, \n3, 4, 2, 4, 4, 2, 2, 3, 4, 3, 2, 3, 3, 4, 3, 2, 3, 3, 2, 2, 3, \n3, 2, 2, 3, 3, 3, 3, 3, 4, 4, 4, 4, 2, 3, 4, 2, 1, 1, 3, 1, 3, \n3, 3, 4, 4, 3, 3, 3, 1, 3, 1, 1, 3, 4, 2, 3, 2, 4, 3, 3, 4, 1, \n2, 3, 3, 2, 2, 2, 2, 1, 3, 4, 4, 4, 1, 1, 4, 4, 4, 3, 2, 4, 4, \n4, 4, 2, 1, 3, 1, 4, 3, 3, 2, 4, 1, 3, 1, 1, 2, 2, 3, 3, 3, 1, \n4, 2, 2, 1, 4, 3, 3, 4, 3, 4, 4, 2, 3, 4, 3, 4, 2, 2, 3, 2, 2, \n4, 4, 4, 3, 4, 4, 4, 3, 1, 3, 3, 3, 4, 4, 4, 3, 2, 4, 4, 3, 3, \n4, 3, 2, 4, 3, 4, 4, 4, 4, 2, 4, 4, 2, 2, 2, 1, 1, 4, 1, 3, 4, \n2, 3, 3, 2, 3, 4, 4, 4, 2, 3, 3, 4, 2, 4, 4, 3, 1, 1, 2, 4, 1, \n4, 3, 3, 1, 2, 4, 4, 3, 2, 2, 2, 3, 4, 4, 1, 2, 3, 1, 4, 2, 3, \n1, 3, 4, 3, 4, 3, 4, 4, 4, 3, 2, 4, 3, 3, 1, 2, 3, 2, 2, 2, 3, \n1, 3, 4, 3, 4, 4, 4, 1, 2, 3, 1, 3, 3, 2, 4, 4, 1, 4, 4, 4, 1, \n1, 2, 1, 1, 1, 3, 2, 2, 2, 3, 2, 3, 2, 2, 1, 1, 2, 2, 1, 1, 2, \n4, 4, 1, 1, 1, 2, 3, 1, 4, 4, 3, 3, 3, 3, 4, 4, 4, 1, 3, 2, 2, \n3, 3, 3, 4, 3, 4, 3, 4, 4, 1, 4, 4, 3, 4, 4, 4, 4, 4, 4, 4, 4, \n4, 3, 2, 3, 2, 4, 4, 3, 1, 4, 2, 4, 4, 1, 3, 1, 2, 3, 2, 3, 4, \n2, 4, 1, 4, 3, 3, 4, 4, 3, 1, 1, 3, 3, 3, 4, 3, 2, 2, 1, 1, 2, \n4, 1, 1, 2, 1, 1, 1, 3, 1, 1, 4, 3, 4, 4, 4, 3, 4, 3, 3, 2, 4, \n1, 4, 2, 3, 3, 2, 2, 2, 1, 1, 1, 2, 1, 3, 2, 2, 1, 2, 1, 2, 4, \n1, 3, 1, 2, 4, 1, 1, 1, 4, 4, 4, 3, 4, 3, 4, 4, 4, 4, 4, 2, 4, \n4, 4, 1, 4, 4, 3, 1, 3, 4, 3, 1, 4, 4, 4, 4, 4, 3, 4, 4, 2, 2, \n3, 2, 3, 1, 4, 3, 2, 4, 1, 3, 3, 4, 2, 3, 2, 2, 2, 4, 3, 4, 3, \n3, 2, 3, 3, 3, 3, 4, 3, 4, 3, 2, 1, 3, 3, 1, 2, 3, 2, 4, 2, 1, \n1, 4, 2, 2, 4, 1, 3, 1, 1, 4, 3, 4, 4, 4, 4, 4, 4, 2, 3, 4, 4, \n4, 3, 4, 4, 4, 2, 4, 4, 2, 4, 4, 2, 3, 4, 4, 1, 3, 1, 1, 2, 4, \n1, 1, 2, 4, 2, 4, 3, 1, 2, 2, 2, 4, 3, 3, 3, 4, 4, 3, 4, 3, 4, \n1, 4, 2, 2, 3, 1, 3, 3, 3, 4, 4, 2, 2, 4, 2, 2, 2, 1, 4, 2, 2, \n4, 4, 1, 4, 4, 3, 3, 4, 1, 3, 2, 2, 1, 1, 1, 4, 4, 3, 2, 2, 2, \n2, 1, 2, 1, 1, 1, 3, 4, 4, 2, 4, 3, 2, 1, 1, 2, 4, 1, 1, 3, 2, \n1, 3, 1, 2, 2, 4, 4, 1, 1, 4, 3, 3, 3, 1, 2, 3, 2, 3, 1, 3, 1, \n3, 1, 3, 1, 4, 2, 1, 2, 1, 3, 3, 2, 2, 2, 1, 2, 3, 2, 3, 2, 3, \n3, 2, 1, 2, 1, 1, 1, 1, 2, 4, 2, 3, 3, 3, 2, 3, 3, 1, 2, 3, 2, \n1, 1, 2, 1, 2, 2, 3, 2, 1, 1, 3, 3, 2, 2, 4, 2, 2, 3, 2, 3, 2, \n1, 2, 2, 3, 1, 1, 1, 1, 2, 2, 1, 1, 4, 4, 2, 1, 3, 1, 1, 4, 2, \n4, 4, 4, 4, 3, 4, 2, 4, 1, 3, 1, 4, 2, 4, 4, 1, 3, 1, 1, 2, 1, \n3, 4, 2, 1, 4, 4, 2, 2, 4, 3, 2, 1, 3, 2, 3, 3, 3, 4, 2, 4, 2, \n3, 4, 2, 3, 2, 2, 2, 4, 2, 4, 1, 1, 2, 3, 2, 3, 2, 2, 1, 1, 3, \n1, 3, 2, 2, 3, 4, 3, 1, 1, 2, 2, 2, 2, 1, 2, 1, 3, 2, 2, 3, 2, \n3, 3, 3, 4, 2, 1, 4, 2, 4, 4, 2, 4, 1, 3, 1, 4, 4, 2, 2, 1, 1, \n1, 4, 3, 1, 1, 2, 2, 3, 4, 1, 2, 3, 3, 2, 3, 4, 3, 4, 1, 1, 4, \n1, 4, 4, 2, 1, 4, 3, 4, 1, 3, 1, 2, 1, 3, 3, 2, 2, 2, 4, 3, 1, \n4, 2, 3, 3, 1, 4, 3, 2, 3, 2, 2, 1, 2, 2, 3, 4, 4, 4, 2, 2, 2, \n4, 3, 2, 1, 3, 3, 4, 4, 3, 4, 3, 4, 4, 4, 3, 4, 4, 4, 4, 4, 4, \n2, 1, 1, 4, 4, 2, 2, 4, 4, 1, 1, 3, 2, 4, 1, 3, 2, 4, 3, 1, 1, \n4, 3, 4, 4, 4, 4, 4, 1, 1, 1, 1, 2, 4, 1, 2, 3, 1, 4, 2, 3, 2, \n4, 3, 2, 4, 3, 3, 4, 3, 4, 4, 3, 3, 4, 4, 4, 3, 4, 4, 3, 2, 4, \n4, 4, 3, 2, 2, 4, 4, 1, 4, 2, 2, 3, 4, 2, 1, 3, 3, 1, 3, 3, 1, \n3, 2, 1, 3, 1, 2, 1, 4, 3, 2, 2, 3, 4, 3, 2, 4, 4, 2, 2, 2, 3, \n3, 1, 3, 1, 1, 1, 1, 2, 1, 1, 3, 2, 2, 4, 2, 2, 2, 3, 3, 2, 3, \n2, 2, 1, 3, 2, 2, 1, 1, 1, 1, 1, 2, 4, 2, 2, 2, 3, 3, 1, 3, 2, \n2, 1, 2, 3, 2, 1, 1, 2, 1, 2, 1, 2, 3, 2, 1, 1, 2, 2, 2, 3, 2, \n1, 1, 3, 2, 2, 1, 2, 3, 2, 2, 2, 2, 1, 3, 1, 2, 3, 2, 2, 1, 2, \n3, 2, 1, 2, 3, 1, 1, 3, 1, 2, 3, 2, 2, 2, 1, 3, 1, 1, 2, 1, 1, \n2, 3, 3, 2, 3, 2, 2, 1, 1, 4, 2, 1, 2, 3, 3, 3, 2, 1, 2, 2, 1, \n3, 2, 2, 2, 3, 3, 2, 2, 3, 3, 4, 1, 3, 1, 1, 2, 4, 4, 4, 3, 3, \n1, 1, 2, 2, 3, 2, 4, 3, 1, 4, 3, 2, 1, 2, 3, 1, 1, 4, 1, 2, 4, \n3, 2, 4, 2, 1, 3, 1, 2, 1, 2, 1, 2, 1, 1, 2, 4, 3, 2, 4, 4, 3, \n4, 3, 4, 4, 4, 4, 2, 2, 4, 2, 1, 2, 1, 2, 4, 1, 2, 1, 1, 1, 4, \n1, 2, 1, 2, 1, 2, 1, 2, 2, 4, 3, 3, 3, 1, 3, 4, 3, 4, 4, 3, 2, \n1, 4, 3, 4, 4, 3, 4, 4, 3, 1, 2, 4, 4, 3, 4, 3, 4, 4, 4, 2, 4, \n3, 3, 4, 4, 4, 3, 1, 1, 1, 3, 3, 3, 3, 3, 4, 3, 3, 3, 4, 4, 2, \n4, 4, 4, 4, 4, 3, 4, 4, 4, 1, 4, 4, 3, 3, 1, 1, 1, 4, 2, 4, 2, \n1, 1, 1, 4, 4, 1, 3, 4, 2, 3, 4, 4, 2, 4, 4, 4, 4, 4, 4, 2, 1, \n3, 2, 2, 2, 1, 2, 2, 2, 1, 1, 2, 2, 1, 3, 4, 3, 4, 2, 4, 4, 3, \n3, 3, 4, 4, 1, 4, 4, 4, 4, 4, 4, 2, 4, 4, 4, 4, 3, 4, 4, 4, 3, \n1, 4, 3, 3, 1, 2, 2, 1, 2, 3, 3, 3, 3, 2, 3, 2, 2, 4, 3, 1, 2, \n4, 4, 4, 3, 3, 4, 4, 1, 3, 1, 3, 4, 4, 1, 4, 3, 4, 4, 3, 4, 1, \n4, 1, 2, 2, 2, 2, 3, 1, 1, 1, 2, 1, 4, 1, 2, 1, 2, 2, 2, 3, 2, \n3, 4, 2, 3, 3, 3, 4, 1, 4, 4, 1, 1, 4, 3, 4, 3, 3, 1, 1, 2, 3, \n3, 1, 3, 3, 2, 2, 2, 1, 1, 3, 4, 3, 3, 4, 3, 3, 3, 3, 4, 3, 4, \n1, 4, 3, 4, 3, 4, 1, 4, 4, 4, 2, 4, 4, 4, 1, 2, 3, 1, 3, 4, 4, \n4, 3, 3, 3, 3, 3, 2, 4, 3, 3, 4, 4, 4, 4, 4, 2, 4, 2, 1, 3, 2, \n3, 2, 3, 2, 2, 1, 2, 2, 3, 3, 4, 2, 3, 4, 2, 1, 1, 1, 2, 2, 3, \n3, 1, 3, 3, 1, 1, 1, 2, 2, 1, 2, 2, 3, 4, 4, 4, 3, 3, 4, 4, 2, \n1, 3, 3, 3, 2, 2, 2, 2, 2, 3, 2, 3, 2, 2, 4, 4, 2, 3, 4, 2, 3, \n4, 3, 4, 4, 3, 1, 4, 2, 4, 4, 4, 3, 3, 4, 4, 4, 2, 4, 4, 2, 3, \n4, 4, 3, 1, 4, 2, 1, 4, 2, 2, 1, 3, 1, 1, 3, 1, 1, 2, 2, 2, 3, \n1, 4, 3, 4, 4, 2, 1, 4, 4, 4, 4, 3, 1, 3, 4, 4, 3, 2, 2, 1, 3, \n2, 2, 1, 1, 1, 3, 3, 4, 2, 3, 1, 2, 1, 1, 2, 3, 4, 2, 2, 4, 4, \n2, 4, 2, 4, 3, 4, 3, 4, 4, 3, 4, 1, 2, 2, 3, 3, 1, 1, 2, 1, 1, \n3, 1, 3, 3, 3, 4, 4, 4, 4, 3, 1, 4, 4, 1, 4, 4, 3, 2, 1, 2, 1, \n3, 3, 1, 1, 4, 3, 2, 1, 3, 4, 3, 4, 1, 3, 4, 3, 1, 4, 4, 4, 1, \n3, 4, 4, 3, 3, 4, 4, 4, 4, 4, 1, 4, 4, 3, 4, 4, 4, 4, 4, 4, 3, \n4, 4, 1, 4, 2, 3, 2, 2, 4, 1, 3, 4, 2, 3, 1, 1, 1, 2, 1, 1, 4, \n1, 2, 1, 2, 2, 2, 3, 3, 4, 4, 1, 2, 2, 4, 3, 1, 1, 3, 3, 4, 1, \n4, 3, 4, 2, 3, 1, 1, 2, 4, 2, 2, 2, 3, 3, 3, 1, 3, 1, 2, 3, 1, \n3, 3, 4, 3, 3, 3, 2, 1, 4, 3, 4, 4, 4, 4, 2, 4, 2, 2, 1, 3, 3, \n1, 3, 4, 4, 4, 3, 3, 1, 3, 2, 2, 1, 3, 3, 2, 3, 2, 3, 2, 2, 1, \n2, 2, 3, 2, 1, 3, 1, 1, 2, 2, 1, 1, 1, 2, 3, 3, 3, 4, 2, 2, 2, \n3, 2, 1, 1, 2, 3, 4, 3, 4, 3, 1, 4, 4, 1, 3, 3, 3, 1, 4, 3, 3, \n4, 3, 4, 4, 4, 2, 1, 3, 1, 3, 4, 3, 3, 1, 2, 2, 3, 2, 1, 2, 2, \n1, 1, 1, 2, 1, 3, 1, 2, 3, 4, 4, 3, 1, 1, 3, 1, 1, 4, 2, 1, 1, \n4, 3, 4, 2, 4, 1, 4, 1, 2, 4, 3, 4, 4, 4, 3, 1, 1, 4, 2, 3, 3, \n2, 3, 3, 2, 1, 1, 3, 3, 1, 3, 3, 1, 4, 3, 1, 1, 1, 4, 2, 2, 4, \n4, 3, 4, 2, 4, 1, 3, 1, 2, 3, 2, 1, 4, 4, 2, 3, 3, 4, 3, 3, 2, \n4, 3, 1, 2, 1, 3, 2, 1, 3, 1, 2, 1, 4, 4, 3, 4, 4, 3, 4, 3, 3, \n1, 3, 3, 1, 3, 1, 3, 2, 4, 4, 1, 4, 4, 1, 1, 2, 4, 3, 2, 2, 2, \n4, 4, 4, 4, 3, 4, 4, 4, 2, 4, 4, 1, 1, 1, 2, 1, 4, 2, 3, 2, 4, \n3, 4, 3, 4, 1, 4, 1, 4, 2, 3, 3, 2, 2, 4, 4, 4, 3, 4, 4, 2, 4, \n3, 4, 4, 3, 4, 2, 4, 2, 3, 1, 4, 1, 4, 4, 4, 2, 3, 2, 1, 2, 3, \n4, 1, 2, 1, 1, 3, 4, 3, 3, 3, 2, 3, 3, 3, 1, 3, 3, 4, 4, 2, 1, \n3, 4, 3, 3, 2, 3, 3, 4, 2, 4, 3, 3, 1, 2, 1, 2, 2, 4, 3, 1, 2, \n3, 2, 3, 3, 4, 2, 3, 3, 3, 2, 2, 3, 1, 3, 3, 4, 2, 3, 1, 2, 3, \n4, 2, 1, 3, 4, 4, 4, 4, 4, 3, 1, 2, 4, 4, 3, 1, 4, 4, 4, 1, 2, \n4, 4, 2, 2, 1, 1, 2, 4, 3, 1, 1, 3, 3, 3, 3, 3, 2, 1, 2, 1, 4, \n2, 1, 4, 4, 3, 1, 2, 1, 4, 3, 3, 2, 1, 4, 2, 2, 1, 3, 3, 3, 2, \n2, 3, 2, 4, 3, 1, 1, 2, 3, 4, 3, 1, 3, 3, 3, 1, 1, 3, 2, 3, 4, \n1, 4, 4, 4, 2, 3, 4, 4, 2, 1, 2, 4, 1, 3, 2, 4, 2, 3, 4, 3, 4, \n4, 2, 4, 2, 1, 4, 4, 3, 4, 3, 3, 3, 4, 4, 2, 4, 2, 2, 4, 4, 3, \n1, 4, 1, 4, 4, 3, 4, 4, 2, 4, 2, 4, 2, 3, 1, 4, 4, 4, 4, 4, 4, \n2, 4, 4, 4, 3, 4, 4, 4, 2, 4, 4, 4, 4, 2, 4, 4, 3, 4, 4, 2, 2, \n4, 3, 2, 4, 3, 4, 4, 2, 2, 4, 3, 4, 4, 4, 4, 4, 3, 4, 4, 4, 3, \n4, 4, 4, 4, 4, 4, 4, 3, 4, 3, 4, 2, 4, 3, 4, 4, 4, 2, 1, 4, 3, \n4, 4, 3, 4, 2, 2, 1, 3, 1, 2, 1, 4, 3, 4, 4, 1, 3, 4, 4, 3, 2, \n1, 4, 2, 1, 3, 4, 3, 1, 4, 3, 4, 4, 3, 4, 1, 1, 3, 2, 1, 4, 2, \n4, 1, 3, 4, 2, 1, 1, 2, 1, 3, 2, 2, 3, 3, 3, 3, 3, 1, 3, 2, 4, \n4, 4, 4, 3, 1, 1, 1, 4, 4, 2, 3, 4, 3, 3, 4, 1, 4, 4, 1, 4, 3, \n2, 1, 1, 2, 3, 2, 4, 3, 1, 2, 2, 2, 2, 1, 1, 2, 4, 2, 1, 1, 3, \n3, 2, 3, 1, 3, 4, 4, 4, 4, 4, 4, 4, 3, 3, 4, 2, 1, 2, 3, 3, 1, \n1, 1, 1, 2, 2, 1, 2, 2, 2, 3, 4, 2, 4, 3, 1, 1, 3, 2, 3, 4, 4, \n2, 3, 2, 4, 2, 3, 4, 3, 3, 4, 4, 4, 2, 1, 4, 4, 4, 1, 4, 4, 3, \n1, 4, 4, 4, 2, 2, 4, 4, 4, 4, 2, 2, 2, 2, 1, 3, 3, 2, 1, 2, 4, \n3, 4, 4, 3, 3, 4, 4, 4, 2, 2, 4, 1, 4, 3, 1, 4, 4, 1, 2, 4, 4, \n4, 2, 3, 3, 2, 3, 3, 4, 1, 1, 3, 2, 1, 2, 1, 1, 4, 4, 4, 3, 4, \n3)))\n\nCoefficients:\n         (Intercept)       Gmale    year2019    year2020    year2021  year2022\nlocal       1.712951 -0.08279810 0.058110334  0.33868568  0.32089042 1.0267227\nnational    2.095154 -0.01125121 0.009788248 -0.03488182 -0.07399552 0.1152826\n         Field_EnglishBiology Field_EnglishBiomedical Research\nlocal              -0.3431043                       -0.4600953\nnational           -0.2016354                       -0.3630723\n         Field_EnglishBuilt Environment & Design Field_EnglishChemistry\nlocal                                -0.10976705             -1.1039778\nnational                              0.01968583              0.2009824\n         Field_EnglishClinical Medicine\nlocal                        0.02458503\nnational                    -0.20758045\n         Field_EnglishCommunication & Textual Studies\nlocal                                      0.06653897\nnational                                  -0.03282187\n         Field_EnglishEarth & Environmental Sciences\nlocal                                     -0.4610797\nnational                                  -0.4037719\n         Field_EnglishEconomics & Business \nlocal                             0.2665504\nnational                          0.1876956\n         Field_EnglishEnabling & Strategic Technologies\nlocal                                        -0.4652055\nnational                                      0.1524235\n         Field_EnglishEngineering Field_EnglishHistorical Studies\nlocal                  -0.4591018                       -1.065768\nnational               -0.2086870                       -0.646195\n         Field_EnglishInformation & Communication Technologies\nlocal                                               -0.5395332\nnational                                            -0.4631979\n         Field_EnglishMathematics & Statistics\nlocal                                0.7454284\nnational                             0.5414433\n         Field_EnglishPhilosophy & Theology Field_EnglishPhysics & Astronomy\nlocal                            0.38502957                       -1.5203034\nnational                         0.01761062                       -0.1890757\n         Field_EnglishPsychology & Cognitive Sciences\nlocal                                      -0.5019529\nnational                                   -0.5014145\n         Field_EnglishPublic Health & Health Services\nlocal                                      0.51007001\nnational                                   0.09022124\n         Field_EnglishSocial Sciences Field_EnglishVisual & Performing Arts\nlocal                       0.4759531                             -1.493139\nnational                    0.1672586                             -1.368892\n                  q1         q2         q3\nlocal    -0.06701983 -0.1428705 -0.2479240\nnational -0.04049427 -0.1265658 -0.2712466\n\nStd. Errors:\n         (Intercept)      Gmale   year2019   year2020   year2021   year2022\nlocal     0.05893318 0.01533569 0.02263039 0.02198812 0.02205779 0.02618594\nnational  0.05820645 0.01522213 0.02184540 0.02150802 0.02159966 0.02625674\n         Field_EnglishBiology Field_EnglishBiomedical Research\nlocal              0.06165455                       0.05921369\nnational           0.06082745                       0.05850292\n         Field_EnglishBuilt Environment & Design Field_EnglishChemistry\nlocal                                  0.1400519             0.09680123\nnational                               0.1378167             0.08809036\n         Field_EnglishClinical Medicine\nlocal                        0.05735575\nnational                     0.05677564\n         Field_EnglishCommunication & Textual Studies\nlocal                                      0.09781818\nnational                                   0.09709217\n         Field_EnglishEarth & Environmental Sciences\nlocal                                     0.06061969\nnational                                  0.05987472\n         Field_EnglishEconomics & Business \nlocal                            0.07584767\nnational                         0.07518697\n         Field_EnglishEnabling & Strategic Technologies\nlocal                                        0.06960776\nnational                                     0.06768245\n         Field_EnglishEngineering Field_EnglishHistorical Studies\nlocal                  0.08071075                      0.09097140\nnational               0.07869134                      0.08619487\n         Field_EnglishInformation & Communication Technologies\nlocal                                               0.08329453\nnational                                            0.08186748\n         Field_EnglishMathematics & Statistics\nlocal                                0.3723835\nnational                             0.3747266\n         Field_EnglishPhilosophy & Theology Field_EnglishPhysics & Astronomy\nlocal                             0.2033513                       0.06872801\nnational                          0.2051755                       0.06439693\n         Field_EnglishPsychology & Cognitive Sciences\nlocal                                      0.06220004\nnational                                   0.06142549\n         Field_EnglishPublic Health & Health Services\nlocal                                      0.06223483\nnational                                   0.06184849\n         Field_EnglishSocial Sciences Field_EnglishVisual & Performing Arts\nlocal                      0.06675892                             0.2863340\nnational                   0.06637337                             0.2694592\n                 q1         q2         q3\nlocal    0.02165602 0.02153317 0.02117142\nnational 0.02145860 0.02136449 0.02094042\n\nResidual Deviance: 508487.4 \nAIC: 508599.4 \n\n"
     ]
    }
   ],
   "source": [
    "import numpy as np\n",
    "import rpy2.robjects.packages as rpackages\n",
    "import rpy2.robjects.vectors as robjects_vectors\n",
    "\n",
    "\n",
    "from rpy2.robjects import r, pandas2ri\n",
    "import rpy2.robjects as ro\n",
    "from rpy2.robjects.packages import importr\n",
    "\n",
    "# import R's utility package\n",
    "utils = rpackages.importr('utils')\n",
    "utils.chooseCRANmirror(ind=1)\n",
    "from rpy2.robjects.conversion import localconverter\n",
    "base = importr('base')\n",
    "from rpy2.robjects import Formula\n",
    "stats = importr('stats')\n",
    "nnet = importr('nnet')\n",
    "\n",
    "def reg3(merged):\n",
    "  dummy = merged.copy()\n",
    "\n",
    "  #print(\"no of subfield \",dummy['SubField_English'].nunique())\n",
    "  G = []\n",
    "  for ind in dummy.index:\n",
    "    if dummy['cor_gender'][ind] == 'female' or dummy['cor_gender'][ind] == 'f' or dummy['cor_gender'][ind] == 'F':\n",
    "      G.append(\"female\")\n",
    "    else:\n",
    "      G.append(\"male\")\n",
    "  dummy['G'] = G\n",
    "\n",
    "  tmp = pd.DataFrame()\n",
    "\n",
    "  tmp['type'] = dummy['type']\n",
    "  tmp['year'] = dummy['year']\n",
    "  tmp['Domain_English'] = dummy['Domain_English']\n",
    "  tmp['Field_English'] = dummy['Field_English']\n",
    "  tmp['Subfield_English'] = dummy['SubField_English']\n",
    "  tmp['G'] = dummy['G']\n",
    "  tmp['SJR'] = dummy['SJR']\n",
    "\n",
    "  #tmp['srcid'] = dummy['srcid']\n",
    "  #tmp['srcid'] = tmp['srcid'].astype(str)\n",
    "\n",
    "  tmp = tmp.dropna(subset = ['type'])\n",
    "  print(\"len of temp \", len(tmp))\n",
    "\n",
    "  q1 = tmp['SJR'].quantile(0.25)\n",
    "  q2 = tmp['SJR'].quantile(0.50)\n",
    "  q3 = tmp['SJR'].quantile(0.75)\n",
    "\n",
    "  q = []\n",
    "  for ind in tmp.index:\n",
    "    if tmp['SJR'][ind] <= q1:\n",
    "      q.append(0)\n",
    "    elif tmp['SJR'][ind] > q1 and tmp['SJR'][ind] <= q2:\n",
    "      q.append(1)\n",
    "    elif tmp['SJR'][ind] > q2 and tmp['SJR'][ind] <= q3:\n",
    "      q.append(2)\n",
    "    else:\n",
    "      q.append(3)\n",
    "  tmp['q'] = q\n",
    "\n",
    "  #print(\"total subfield \", tmp['Subfield_English'].nunique())\n",
    "  return tmp\n",
    "\n",
    "\n",
    "\n",
    "tmp = reg3(merged) #local coeff = -0.08279810, p val = 6.69955729e-008\n",
    "\n",
    "with localconverter(ro.default_converter + pandas2ri.converter):\n",
    "  tst_df = ro.conversion.py2rpy(tmp)\n",
    "\n",
    "col_2_index = list(tst_df.colnames).index('year')\n",
    "col_2 = ro.vectors.FactorVector(tst_df.rx2('year'))\n",
    "tst_df[col_2_index] = col_2\n",
    "\n",
    "\n",
    "col_2_index = list(tst_df.colnames).index('Field_English')\n",
    "col_2 = ro.vectors.FactorVector(tst_df.rx2('Field_English'))\n",
    "tst_df[col_2_index] = col_2\n",
    "\n",
    "\n",
    "col_2_index = list(tst_df.colnames).index('q')\n",
    "col_2 = ro.vectors.FactorVector(tst_df.rx2('q'))\n",
    "tst_df[col_2_index] = col_2\n",
    "\n",
    "model = nnet.multinom(\"type ~ G+year+Field_English+q\",\n",
    "                  data=tst_df) \n",
    "\n",
    "\n",
    "print(base.summary(model))"
   ]
  },
  {
   "cell_type": "code",
   "execution_count": 0,
   "metadata": {
    "application/vnd.databricks.v1+cell": {
     "cellMetadata": {
      "byteLimit": 2048000,
      "rowLimit": 10000
     },
     "inputWidgets": {},
     "nuid": "8a54bbbd-cefa-46b0-8163-9d62b5b15847",
     "showTitle": false,
     "title": ""
    }
   },
   "outputs": [
    {
     "output_type": "stream",
     "name": "stdout",
     "output_type": "stream",
     "text": [
      "printing p value\n[[9.66328066e-186 6.69955729e-008 1.02345993e-002 1.55949035e-053\n  6.03868779e-048 0.00000000e+000 2.62232045e-008 7.84341322e-015\n  4.33180887e-001 3.96668141e-030 6.68184492e-001 4.96358158e-001\n  2.82479237e-014 4.40938302e-004 2.33713476e-011 1.28357878e-008\n  1.06269033e-031 9.33075050e-011 4.53088275e-002 5.83019377e-002\n  2.00340016e-108 7.03110936e-016 2.48739860e-016 1.00785408e-012\n  1.84137589e-007 1.96983624e-003 3.24715591e-011 1.12856633e-031]\n [9.93586616e-284 4.59824971e-001 6.54103408e-001 1.04844946e-001\n  6.13053888e-004 1.13043999e-005 9.16842739e-004 5.43316367e-010\n  8.86416053e-001 2.25160305e-002 2.56028416e-004 7.35326581e-001\n  1.54495894e-011 1.25466517e-002 2.43197872e-002 8.00240533e-003\n  6.53407461e-014 1.53237733e-008 1.48485338e-001 9.31599996e-001\n  3.32370059e-003 3.26884790e-016 1.44635047e-001 1.17366376e-002\n  3.77145657e-007 5.91484821e-002 3.13973865e-009 2.25190774e-038]]\n"
     ]
    }
   ],
   "source": [
    "coeffs = base.summary(model).rx2('coefficients')\n",
    "std = base.summary(model).rx2('standard.errors')\n",
    "import scipy.stats \n",
    "\n",
    "z = np.array(coeffs) / np.array(std)\n",
    "#print(z)\n",
    "\n",
    "def my_vectorized_func(m):\n",
    "    return scipy.stats.norm.sf(abs(m))*2\n",
    "\n",
    "val = my_vectorized_func(z)\n",
    "print(\"printing p value\")\n",
    "print(val)"
   ]
  },
  {
   "cell_type": "markdown",
   "metadata": {
    "application/vnd.databricks.v1+cell": {
     "cellMetadata": {
      "byteLimit": 2048000,
      "rowLimit": 10000
     },
     "inputWidgets": {},
     "nuid": "f495c08c-5d1a-446b-991d-ed8a555b9008",
     "showTitle": false,
     "title": ""
    }
   },
   "source": [
    "## top 5% local"
   ]
  },
  {
   "cell_type": "code",
   "execution_count": 0,
   "metadata": {
    "application/vnd.databricks.v1+cell": {
     "cellMetadata": {
      "byteLimit": 2048000,
      "rowLimit": 10000
     },
     "inputWidgets": {},
     "nuid": "98037a30-6caf-4742-9a67-d7eb839914a4",
     "showTitle": false,
     "title": ""
    }
   },
   "outputs": [
    {
     "output_type": "stream",
     "name": "stdout",
     "output_type": "stream",
     "text": [
      "859 \n\nthreshold  27.0 \n\n                                 doi  counts\n854  10.1001/jamainternmed.2021.5022      27\n855            10.1093/alcalc/agy061      27\n856    10.1080/19496591.2018.1474752      27\n857        10.1148/radiol.2020191413      27\n858       10.1016/j.stem.2020.11.010      27\n"
     ]
    }
   ],
   "source": [
    "dummy = merged.copy()\n",
    "G = []\n",
    "for ind in dummy.index:\n",
    "  if dummy['cor_gender'][ind] == 'female' or dummy['cor_gender'][ind] == 'f' or dummy['cor_gender'][ind] == 'F':\n",
    "    G.append(\"female\")\n",
    "    #G.append(0)\n",
    "  else:\n",
    "    G.append(\"male\")\n",
    "    #G.append(1)\n",
    "dummy['G'] = G\n",
    "\n",
    "\n",
    "local = dummy[dummy['type'] == 'local']\n",
    "#print(local.head(5))\n",
    "\n",
    "top10 = local['doi'].value_counts().reset_index()\n",
    "\n",
    "top10.columns = ['doi','counts']\n",
    "\n",
    "#print(top10.tail(10))\n",
    "#print(len(top10))\n",
    "\n",
    "# Calculate the threshold for the top 5%\n",
    "threshold = top10['counts'].quantile(0.95)\n",
    "\n",
    "# Select rows with 'money' values in the top 5%\n",
    "top10 = top10[top10['counts'] >= threshold]\n",
    "\n",
    "print(len(top10),\"\\n\")\n",
    "print(\"threshold \",threshold,\"\\n\")\n",
    "print(top10.tail(5))"
   ]
  },
  {
   "cell_type": "code",
   "execution_count": 0,
   "metadata": {
    "application/vnd.databricks.v1+cell": {
     "cellMetadata": {
      "byteLimit": 2048000,
      "rowLimit": 10000
     },
     "inputWidgets": {},
     "nuid": "f2654bb4-188c-4b98-aa76-380ad3cc0b28",
     "showTitle": false,
     "title": ""
    }
   },
   "outputs": [
    {
     "output_type": "stream",
     "name": "stdout",
     "output_type": "stream",
     "text": [
      "859 \n\npercent of female in top 10% highly cited doi by local newspaper  0.3608847497089639\n"
     ]
    }
   ],
   "source": [
    "a = pd.DataFrame()\n",
    "a['doi'] = dummy['doi']\n",
    "a['G'] = dummy['G']\n",
    "a = a.drop_duplicates()\n",
    "\n",
    "top10_merged = a.merge(top10, on = ['doi'], how = 'inner')\n",
    "local_top = top10_merged['doi'].unique()\n",
    "print(len(top10_merged),\"\\n\")\n",
    "\n",
    "print(\"percent of female in top 10% highly cited doi by local newspaper \",len(top10_merged[top10_merged['G'] == \"female\"])/len(top10_merged))"
   ]
  },
  {
   "cell_type": "markdown",
   "metadata": {
    "application/vnd.databricks.v1+cell": {
     "cellMetadata": {
      "byteLimit": 2048000,
      "rowLimit": 10000
     },
     "inputWidgets": {},
     "nuid": "b31d1bdc-ac4d-491d-8014-2bee994a61f5",
     "showTitle": false,
     "title": ""
    }
   },
   "source": [
    "## top 5% national"
   ]
  },
  {
   "cell_type": "code",
   "execution_count": 0,
   "metadata": {
    "application/vnd.databricks.v1+cell": {
     "cellMetadata": {
      "byteLimit": 2048000,
      "rowLimit": 10000
     },
     "inputWidgets": {},
     "nuid": "68d6a3fa-24a9-4578-a80c-e1388bb84811",
     "showTitle": false,
     "title": ""
    }
   },
   "outputs": [
    {
     "output_type": "stream",
     "name": "stdout",
     "output_type": "stream",
     "text": [
      "3143 \n\nthreshold  7.0 \n\n                                doi  counts\n3138      10.1038/s41370-018-0064-7       7\n3139  10.1080/02791072.2020.1836435       7\n3140     10.1007/s10902-020-00236-6       7\n3141  10.1016/j.jpubeco.2017.09.008       7\n3142      10.1007/s11606-018-4703-4       7\n3143 \n\npercent of female in top 10% highly cited doi by national newspaper  0.3534839325485205\n"
     ]
    }
   ],
   "source": [
    "dummy = merged.copy()\n",
    "G = []\n",
    "for ind in dummy.index:\n",
    "  if dummy['cor_gender'][ind] == 'female' or dummy['cor_gender'][ind] == 'f' or dummy['cor_gender'][ind] == 'F':\n",
    "    G.append(\"female\")\n",
    "    #G.append(0)\n",
    "  else:\n",
    "    G.append(\"male\")\n",
    "    #G.append(1)\n",
    "dummy['G'] = G\n",
    "\n",
    "national = dummy[dummy['type'] == 'national']\n",
    "\n",
    "\n",
    "top10 = national['doi'].value_counts().reset_index()\n",
    "\n",
    "top10.columns = ['doi','counts']\n",
    "\n",
    "#print(top10.tail(10))\n",
    "#print(len(top10))\n",
    "\n",
    "# Calculate the threshold for the top 5%\n",
    "threshold = top10['counts'].quantile(0.95)\n",
    "\n",
    "# Select rows with 'money' values in the top 5%\n",
    "top10 = top10[top10['counts'] >= threshold]\n",
    "\n",
    "print(len(top10),\"\\n\")\n",
    "print(\"threshold \",threshold,\"\\n\")\n",
    "print(top10.tail(5))\n",
    "\n",
    "a = pd.DataFrame()\n",
    "a['doi'] = dummy['doi']\n",
    "a['G'] = dummy['G']\n",
    "a = a.drop_duplicates()\n",
    "\n",
    "top10_merged = a.merge(top10, on = ['doi'], how = 'inner')\n",
    "print(len(top10_merged),\"\\n\")\n",
    "\n",
    "national_top = top10_merged['doi'].unique()\n",
    "\n",
    "print(\"percent of female in top 10% highly cited doi by national newspaper \",len(top10_merged[top10_merged['G'] == \"female\"])/len(top10_merged))"
   ]
  },
  {
   "cell_type": "markdown",
   "metadata": {
    "application/vnd.databricks.v1+cell": {
     "cellMetadata": {
      "byteLimit": 2048000,
      "rowLimit": 10000
     },
     "inputWidgets": {},
     "nuid": "85297524-81f2-451d-8a38-5f47e90887e7",
     "showTitle": false,
     "title": ""
    }
   },
   "source": [
    "## top 5% International"
   ]
  },
  {
   "cell_type": "code",
   "execution_count": 0,
   "metadata": {
    "application/vnd.databricks.v1+cell": {
     "cellMetadata": {
      "byteLimit": 2048000,
      "rowLimit": 10000
     },
     "inputWidgets": {},
     "nuid": "52ae3a84-ed29-40c4-b3b2-88256159d5e2",
     "showTitle": false,
     "title": ""
    }
   },
   "outputs": [
    {
     "output_type": "stream",
     "name": "stdout",
     "output_type": "stream",
     "text": [
      "829 \n\nthreshold  5.0 \n\n                            doi  counts\n824     10.1126/science.aao6379       5\n825      10.1126/sciadv.abb9153       5\n826   10.1038/s41591-020-1007-0       5\n827  10.1038/s41586-021-03594-0       5\n828      10.1098/rspb.2021.1997       5\n829 \n\npercent of female in top 10% highly cited doi by international newspaper  0.30759951749095293\n"
     ]
    }
   ],
   "source": [
    "dummy = merged.copy()\n",
    "G = []\n",
    "for ind in dummy.index:\n",
    "  if dummy['cor_gender'][ind] == 'female' or dummy['cor_gender'][ind] == 'f' or dummy['cor_gender'][ind] == 'F':\n",
    "    G.append(\"female\")\n",
    "    #G.append(0)\n",
    "  else:\n",
    "    G.append(\"male\")\n",
    "    #G.append(1)\n",
    "dummy['G'] = G\n",
    "\n",
    "international = dummy[dummy['type'] == 'international']\n",
    "\n",
    "\n",
    "top10 = international['doi'].value_counts().reset_index()\n",
    "\n",
    "top10.columns = ['doi','counts']\n",
    "\n",
    "#print(top10.tail(10))\n",
    "#print(len(top10))\n",
    "\n",
    "# Calculate the threshold for the top 5%\n",
    "threshold = top10['counts'].quantile(0.95)\n",
    "\n",
    "# Select rows with 'money' values in the top 5%\n",
    "top10 = top10[top10['counts'] >= threshold]\n",
    "\n",
    "print(len(top10),\"\\n\")\n",
    "print(\"threshold \",threshold,\"\\n\")\n",
    "print(top10.tail(5))\n",
    "\n",
    "a = pd.DataFrame()\n",
    "a['doi'] = dummy['doi']\n",
    "a['G'] = dummy['G']\n",
    "a = a.drop_duplicates()\n",
    "\n",
    "top10_merged = a.merge(top10, on = ['doi'], how = 'inner')\n",
    "print(len(top10_merged),\"\\n\")\n",
    "\n",
    "international_top = top10_merged['doi'].unique()\n",
    "\n",
    "print(\"percent of female in top 10% highly cited doi by international newspaper \",len(top10_merged[top10_merged['G'] == \"female\"])/len(top10_merged))"
   ]
  },
  {
   "cell_type": "code",
   "execution_count": 0,
   "metadata": {
    "application/vnd.databricks.v1+cell": {
     "cellMetadata": {
      "byteLimit": 2048000,
      "rowLimit": 10000
     },
     "inputWidgets": {},
     "nuid": "5e248b18-5d6f-41ab-8434-fea274802756",
     "showTitle": false,
     "title": ""
    }
   },
   "outputs": [
    {
     "output_type": "stream",
     "name": "stdout",
     "output_type": "stream",
     "text": [
      "859\n3143\n829\n585\n216\n"
     ]
    }
   ],
   "source": [
    "print(len(local_top))\n",
    "print(len(national_top))\n",
    "print(len(international_top))\n",
    "\n",
    "m1 = set(local_top).intersection(set(national_top))\n",
    "print(len(m1))\n",
    "\n",
    "m2 = set(m1).intersection(set(international_top))\n",
    "print(len(m2))"
   ]
  },
  {
   "cell_type": "code",
   "execution_count": 0,
   "metadata": {
    "application/vnd.databricks.v1+cell": {
     "cellMetadata": {
      "byteLimit": 2048000,
      "rowLimit": 10000
     },
     "inputWidgets": {},
     "nuid": "066e3824-2c1e-4d20-b2f9-4eaec08bdb12",
     "showTitle": false,
     "title": ""
    }
   },
   "outputs": [
    {
     "output_type": "stream",
     "name": "stdout",
     "output_type": "stream",
     "text": [
      "0.25145518044237486\n0.06872414890232262\n0.2605548854041013\n"
     ]
    }
   ],
   "source": [
    "print(216/859)\n",
    "print(216/3143)\n",
    "print(216/829)"
   ]
  },
  {
   "cell_type": "markdown",
   "metadata": {
    "application/vnd.databricks.v1+cell": {
     "cellMetadata": {
      "byteLimit": 2048000,
      "rowLimit": 10000
     },
     "inputWidgets": {},
     "nuid": "122aeccd-1727-406a-9504-77bf5664f710",
     "showTitle": false,
     "title": ""
    }
   },
   "source": [
    "## testing"
   ]
  },
  {
   "cell_type": "code",
   "execution_count": 0,
   "metadata": {
    "application/vnd.databricks.v1+cell": {
     "cellMetadata": {
      "byteLimit": 2048000,
      "rowLimit": 10000
     },
     "inputWidgets": {},
     "nuid": "c06a8d25-010d-4a4a-9f33-cab8453f65c3",
     "showTitle": false,
     "title": ""
    }
   },
   "outputs": [
    {
     "output_type": "display_data",
     "data": {
      "text/html": [
       "<style scoped>\n",
       "  .ansiout {\n",
       "    display: block;\n",
       "    unicode-bidi: embed;\n",
       "    white-space: pre-wrap;\n",
       "    word-wrap: break-word;\n",
       "    word-break: break-all;\n",
       "    font-family: \"Menlo\", \"Monaco\", \"Consolas\", \"Ubuntu Mono\", \"Source Code Pro\", monospace;\n",
       "    font-size: 13px;\n",
       "    color: #555;\n",
       "    margin-left: 4px;\n",
       "    line-height: 19px;\n",
       "  }\n",
       "</style>"
      ]
     },
     "metadata": {
      "application/vnd.databricks.v1+output": {
       "arguments": {},
       "data": "",
       "errorSummary": "Command skipped",
       "errorTraceType": "html",
       "metadata": {},
       "type": "ipynbError"
      }
     },
     "output_type": "display_data"
    }
   ],
   "source": [
    "import numpy as np\n",
    "import rpy2.robjects.packages as rpackages\n",
    "import rpy2.robjects.vectors as robjects_vectors\n",
    "\n",
    "\n",
    "from rpy2.robjects import r, pandas2ri\n",
    "import rpy2.robjects as ro\n",
    "from rpy2.robjects.packages import importr\n",
    "\n",
    "# import R's utility package\n",
    "utils = rpackages.importr('utils')\n",
    "utils.chooseCRANmirror(ind=1)\n",
    "from rpy2.robjects.conversion import localconverter\n",
    "base = importr('base')\n",
    "from rpy2.robjects import Formula\n",
    "stats = importr('stats')\n",
    "nnet = importr('nnet')\n",
    "mlogit = importr('mlogit')\n",
    "\n",
    "tmp = merged.dropna(subset = ['type'])\n",
    "category = []\n",
    "for ind in merged.index:\n",
    "  if merged['type'][ind] == 'local':\n",
    "    category.append(0)\n",
    "\n",
    "  elif merged['type'][ind] == 'national':\n",
    "    category.append(1)\n",
    "  elif merged['type'][ind] == 'international':\n",
    "    category.append(2)\n",
    "tmp['category'] = category\n",
    "\n",
    "with localconverter(ro.default_converter + pandas2ri.converter):\n",
    "  tst_df = ro.conversion.py2rpy(tmp)\n",
    "\n",
    "col_2_index = list(tst_df.colnames).index('year')\n",
    "col_2 = ro.vectors.FactorVector(tst_df.rx2('year'))\n",
    "tst_df[col_2_index] = col_2\n",
    "\n",
    "\n",
    "col_2_index = list(tst_df.colnames).index('category')\n",
    "col_2 = ro.vectors.FactorVector(tst_df.rx2('category'))\n",
    "tst_df[col_2_index] = col_2\n",
    "\n",
    "model = mlogit.mlogit(formula = Formula(\"category ~ G+year\"),\n",
    "                  data=tst_df) \n",
    "\n",
    "#model = VGAM.vglm(\"category ~ G+year\",\n",
    "#                  data=tst_df, family = ro.r('multinomial')) \n",
    "\n",
    "\n",
    "print(base.summary(model))"
   ]
  },
  {
   "cell_type": "code",
   "execution_count": 0,
   "metadata": {
    "application/vnd.databricks.v1+cell": {
     "cellMetadata": {
      "byteLimit": 2048000,
      "rowLimit": 10000
     },
     "inputWidgets": {},
     "nuid": "20df9ccc-0f35-4b6a-af04-923808c20758",
     "showTitle": false,
     "title": ""
    }
   },
   "outputs": [
    {
     "output_type": "display_data",
     "data": {
      "text/html": [
       "<style scoped>\n",
       "  .ansiout {\n",
       "    display: block;\n",
       "    unicode-bidi: embed;\n",
       "    white-space: pre-wrap;\n",
       "    word-wrap: break-word;\n",
       "    word-break: break-all;\n",
       "    font-family: \"Menlo\", \"Monaco\", \"Consolas\", \"Ubuntu Mono\", \"Source Code Pro\", monospace;\n",
       "    font-size: 13px;\n",
       "    color: #555;\n",
       "    margin-left: 4px;\n",
       "    line-height: 19px;\n",
       "  }\n",
       "</style>"
      ]
     },
     "metadata": {
      "application/vnd.databricks.v1+output": {
       "arguments": {},
       "data": "",
       "errorSummary": "Command skipped",
       "errorTraceType": "html",
       "metadata": {},
       "type": "ipynbError"
      }
     },
     "output_type": "display_data"
    }
   ],
   "source": [
    "print(base.summary(model).rx2('coefficients'))"
   ]
  },
  {
   "cell_type": "code",
   "execution_count": 0,
   "metadata": {
    "application/vnd.databricks.v1+cell": {
     "cellMetadata": {
      "byteLimit": 2048000,
      "rowLimit": 10000
     },
     "inputWidgets": {},
     "nuid": "9bcf4bca-9aaf-445b-a49b-ecf7a0f42d88",
     "showTitle": false,
     "title": ""
    }
   },
   "outputs": [
    {
     "output_type": "display_data",
     "data": {
      "text/html": [
       "<style scoped>\n",
       "  .ansiout {\n",
       "    display: block;\n",
       "    unicode-bidi: embed;\n",
       "    white-space: pre-wrap;\n",
       "    word-wrap: break-word;\n",
       "    word-break: break-all;\n",
       "    font-family: \"Menlo\", \"Monaco\", \"Consolas\", \"Ubuntu Mono\", \"Source Code Pro\", monospace;\n",
       "    font-size: 13px;\n",
       "    color: #555;\n",
       "    margin-left: 4px;\n",
       "    line-height: 19px;\n",
       "  }\n",
       "</style>"
      ]
     },
     "metadata": {
      "application/vnd.databricks.v1+output": {
       "arguments": {},
       "data": "",
       "errorSummary": "Command skipped",
       "errorTraceType": "html",
       "metadata": {},
       "type": "ipynbError"
      }
     },
     "output_type": "display_data"
    }
   ],
   "source": [
    "\n",
    "import numpy as np\n",
    "import rpy2.robjects.packages as rpackages\n",
    "import rpy2.robjects.vectors as robjects_vectors\n",
    "\n",
    "\n",
    "from rpy2.robjects import r, pandas2ri\n",
    "import rpy2.robjects as ro\n",
    "from rpy2.robjects.packages import importr\n",
    "\n",
    "# import R's utility package\n",
    "utils = rpackages.importr('utils')\n",
    "utils.chooseCRANmirror(ind=1)\n",
    "utils.install_packages(\"mlogit\")\n",
    "utils.install_packages(\"VGAM\")\n",
    "\n",
    "VGAM = importr('VGAM')\n",
    "\n",
    "mlogit = importr('mlogit')"
   ]
  }
 ],
 "metadata": {
  "application/vnd.databricks.v1+notebook": {
   "dashboards": [],
   "environmentMetadata": null,
   "language": "python",
   "notebookMetadata": {
    "pythonIndentUnit": 2
   },
   "notebookName": "media_analysis_1",
   "widgets": {}
  }
 },
 "nbformat": 4,
 "nbformat_minor": 0
}
