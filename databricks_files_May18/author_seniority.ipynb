{
 "cells": [
  {
   "cell_type": "code",
   "execution_count": 0,
   "metadata": {
    "application/vnd.databricks.v1+cell": {
     "cellMetadata": {
      "byteLimit": 2048000,
      "rowLimit": 10000
     },
     "inputWidgets": {},
     "nuid": "d0c602e6-89d4-459e-b441-453aa874a673",
     "showTitle": false,
     "title": ""
    }
   },
   "outputs": [],
   "source": [
    "project_name = 'test_project_1'\n",
    "permissions='default'\n",
    "#permissions='fulldata'"
   ]
  },
  {
   "cell_type": "code",
   "execution_count": 0,
   "metadata": {
    "application/vnd.databricks.v1+cell": {
     "cellMetadata": {
      "byteLimit": 2048000,
      "rowLimit": 10000
     },
     "inputWidgets": {},
     "nuid": "d3c011e6-06ec-42af-a3a6-48768ca33c44",
     "showTitle": false,
     "title": ""
    }
   },
   "outputs": [
    {
     "output_type": "stream",
     "name": "stdout",
     "output_type": "stream",
     "text": [
      "Python interpreter will be restarted.\nRequirement already satisfied: pycountry in /local_disk0/.ephemeral_nfs/envs/pythonEnv-0387ffd0-3eed-4cd3-96bc-a5ea8f99c27f/lib/python3.9/site-packages (22.3.5)\nRequirement already satisfied: setuptools in /usr/local/lib/python3.9/dist-packages (from pycountry) (58.0.4)\nPython interpreter will be restarted.\n"
     ]
    }
   ],
   "source": [
    "pip install pycountry"
   ]
  },
  {
   "cell_type": "code",
   "execution_count": 0,
   "metadata": {
    "application/vnd.databricks.v1+cell": {
     "cellMetadata": {
      "byteLimit": 2048000,
      "rowLimit": 10000
     },
     "inputWidgets": {},
     "nuid": "677513fc-c065-4c3c-baaa-552dacc0b706",
     "showTitle": false,
     "title": ""
    }
   },
   "outputs": [
    {
     "output_type": "stream",
     "name": "stdout",
     "output_type": "stream",
     "text": [
      "PROJECT DETAILS:\nProject identifier: test_project_1\nCluster data access level: default\n"
     ]
    },
    {
     "output_type": "stream",
     "name": "stdout",
     "output_type": "stream",
     "text": [
      "EXECUTION DETAILS:\nSpark version: 11.3.x-scala2.12, \nCluster Node Type: i3.xlarge, \nDriver Node Type: c4.2xlarge, \nWorker Node Type: i3.xlarge\n"
     ]
    }
   ],
   "source": [
    "%run /Snippets/header_008"
   ]
  },
  {
   "cell_type": "code",
   "execution_count": 0,
   "metadata": {
    "application/vnd.databricks.v1+cell": {
     "cellMetadata": {
      "byteLimit": 2048000,
      "rowLimit": 10000
     },
     "inputWidgets": {},
     "nuid": "bb99c12a-04f4-426e-bcd2-104b5d65529c",
     "showTitle": false,
     "title": ""
    }
   },
   "outputs": [
    {
     "output_type": "display_data",
     "data": {
      "application/vnd.databricks.v1+bamboolib_hint": "{\"pd.DataFrames\": [], \"version\": \"0.0.1\"}",
      "text/plain": []
     },
     "metadata": {},
     "output_type": "display_data"
    },
    {
     "output_type": "stream",
     "name": "stdout",
     "output_type": "stream",
     "text": [
      "DATA SNAPSHOT DETAILS:\nThis notebook uses the latest snapshot date for this version: \"v008.20230509104116/\", (09 May 2023)\n\n The following are the Scopus snapshot dates available for datasets at v008:\n['v008.20220314092239/', 'v008.20220906063204/', 'v008.20221021151538/', 'v008.20230509104116/']\n(If you want to use a different snapshot, in the first cell of your notebook, set the variable `custom_snapshot_date` to one of the options listed above (string data type))\n\n"
     ]
    },
    {
     "output_type": "stream",
     "name": "stdout",
     "output_type": "stream",
     "text": [
      "DATA SAMPLE DETAILS:\nSetting paths to run on sample datasets (~1% data volume sample with 1-hop citation links and associated profiles)\n"
     ]
    }
   ],
   "source": [
    "import pandas as pd\n",
    "import pyspark.sql.functions as F\n",
    "import pyspark.sql.column as C"
   ]
  },
  {
   "cell_type": "code",
   "execution_count": 0,
   "metadata": {
    "application/vnd.databricks.v1+cell": {
     "cellMetadata": {
      "byteLimit": 2048000,
      "rowLimit": 10000
     },
     "inputWidgets": {},
     "nuid": "2daa1674-d893-4e96-8537-1f1a82d506c7",
     "showTitle": false,
     "title": ""
    }
   },
   "outputs": [
    {
     "output_type": "stream",
     "name": "stdout",
     "output_type": "stream",
     "text": [
      "'len of df_ani '864655'\\n''len of df_ani in english '844293'\\n''# doi data from crossref and altmetric '9061001'\\n''merged data len between crossref and scopus '113617'\\n''no of not null cor au'106605'\\n'106461'\\n'106461'\\n'"
     ]
    },
    {
     "output_type": "display_data",
     "data": {
      "text/html": [
       "<style scoped>\n",
       "  .table-result-container {\n",
       "    max-height: 300px;\n",
       "    overflow: auto;\n",
       "  }\n",
       "  table, th, td {\n",
       "    border: 1px solid black;\n",
       "    border-collapse: collapse;\n",
       "  }\n",
       "  th, td {\n",
       "    padding: 5px;\n",
       "  }\n",
       "  th {\n",
       "    text-align: left;\n",
       "  }\n",
       "</style><div class='table-result-container'><table class='table-result'><thead style='background-color: white'><tr><th>Eid</th><th>cor_gender</th><th>doi</th><th>news_cnt</th><th>Au</th><th>year</th><th>publication_type</th><th>openaccess</th><th>issn</th><th>num_au</th><th>Au1_id</th><th>Au2_id</th><th>Au_cor_id</th><th>srcid</th><th>subfield_article</th><th>subfield_journal</th><th>subfield_hybrid</th><th>Au1_gender</th><th>Au2_gender</th><th>cor_au1</th><th>correspondence</th><th>cor1_given_name</th><th>TopicId</th></tr></thead><tbody><tr><td>85120608377</td><td>unknown</td><td>10.3390/s21238155</td><td>0</td><td>List(List(1, 57363708500, auth, false, null, 7f79731916c869a85075bf299ee349e01fc32ea4, Nivesh, Nivesh, Gadipudi N., Gadipudi N., N., N., null, null, null, Gadipudi, Gadipudi), List(2, 6503849022, auth, false, null, f2add25904ec270a5fae5aafe45473844853da6b, Irraivan, Irraivan, Elamvazuthi I., Elamvazuthi I., I., I., null, null, null, Elamvazuthi, Elamvazuthi), List(3, 55699384800, auth, false, null, 985445ea16167ad84665b03d8963e8508c6eaa80, Cheng-Kai, Cheng Kai, Lu C.-K., Lu C.K., C.-K., C.K., null, null, null, Lu, Lu), List(4, 55662378400, auth, false, null, dfecc2c32280d8a973d52396e251d3c63658330e, Sivajothi, Sivajothi, Paramasivam S., Paramasivam S., S., S., null, null, null, Paramasivam, Paramasivam), List(5, 57216312578, auth, false, null, 32aa708b7b25e0593e6b162d05d9ea597c54f3c3, Steven, Steven, Su S., Su S., S., S., null, null, null, Su, Su))</td><td>2021</td><td>ar</td><td>Full</td><td>14248220</td><td>5</td><td>57363708500</td><td>57216312578</td><td>List(6503849022)</td><td>130124</td><td>artificial intelligence & image processing</td><td>analytical chemistry</td><td>analytical chemistry</td><td>male</td><td>male</td><td>6503849022</td><td>List(List(mys, null))</td><td>Irraivan</td><td>5576</td></tr><tr><td>85132752517</td><td>unknown</td><td>10.1007/s00521-022-07484-y</td><td>0</td><td>List(List(1, 57363708500, auth, false, null, 7f79731916c869a85075bf299ee349e01fc32ea4, Nivesh, Nivesh, Gadipudi N., Gadipudi N., N., N., null, null, null, Gadipudi, Gadipudi), List(2, 6503849022, auth, false, null, f2add25904ec270a5fae5aafe45473844853da6b, Irraivan, Irraivan, Elamvazuthi I., Elamvazuthi I., I., I., null, 0000-0002-4721-9400, null, Elamvazuthi, Elamvazuthi), List(3, 55699384800, auth, false, null, 985445ea16167ad84665b03d8963e8508c6eaa80, Cheng-Kai, Cheng Kai, Lu C.-K., Lu C.K., C.-K., C.K., null, null, null, Lu, Lu), List(4, 55662378400, auth, false, null, dfecc2c32280d8a973d52396e251d3c63658330e, Sivajothi, Sivajothi, Paramasivam S., Paramasivam S., S., S., null, null, null, Paramasivam, Paramasivam), List(5, 7402029883, auth, false, null, 32aa708b7b25e0593e6b162d05d9ea597c54f3c3, Steven, Steven, Su S., Su S., S., S., null, null, null, Su, Su))</td><td>2022</td><td>ar</td><td>None</td><td>09410643</td><td>5</td><td>57363708500</td><td>7402029883</td><td>List(6503849022)</td><td>24800</td><td>artificial intelligence & image processing</td><td>artificial intelligence & image processing</td><td>artificial intelligence & image processing</td><td>male</td><td>unknown</td><td>6503849022</td><td>List(List(mys, null))</td><td>Irraivan</td><td>5576</td></tr><tr><td>85142297568</td><td>unknown</td><td>10.1007/s00371-022-02702-z</td><td>0</td><td>List(List(1, 57363708500, auth, false, null, 7f79731916c869a85075bf299ee349e01fc32ea4, Nivesh, Nivesh, Gadipudi N., Gadipudi N., N., N., null, null, null, Gadipudi, Gadipudi), List(2, 6503849022, auth, false, null, f2add25904ec270a5fae5aafe45473844853da6b, Irraivan, Irraivan, Elamvazuthi I., Elamvazuthi I., I., I., null, 0000-0002-4721-9400, null, Elamvazuthi, Elamvazuthi), List(3, 23005041200, auth, false, null, e934c4a387844b3f8eb0297db007cf743cf7457c, Lila Iznita, Lila Iznita, Izhar L.I., Izhar L.I., L.I., L.I., null, null, null, Izhar, Izhar), List(4, 57191245197, auth, false, null, 36765f1a62383b6b89a1622b3147e3e8ad729162, Lokender, Lokender, Tiwari L., Tiwari L., L., L., null, null, null, Tiwari, Tiwari), List(5, 54383443000, auth, false, null, 63149efb383a65711b986c5da8f45532672f5b9a, Ramya, Ramya, Hebbalaguppe R., Hebbalaguppe R., R., R., null, null, null, Hebbalaguppe, Hebbalaguppe), List(6, 55699384800, auth, false, null, 0688e65dee545d4c0d59054e6db2100d85c073b4, Cheng-Kai, Cheng Kai, Lu C.-K., Lu C.K., C.-K., C.K., null, null, null, Lu, Lu), List(7, 57658030800, auth, false, null, 426134d346255137626b1dcd787898ffb34e6476, Arockia Selvakumar Arockia, Arockia Selvakumar Arockia, Doss A.S.A., Doss A.S.A., A.S.A., A.S.A., null, null, null, Doss, Doss))</td><td>2022</td><td>ar</td><td>None</td><td>01782789</td><td>7</td><td>57363708500</td><td>57658030800</td><td>List(6503849022)</td><td>26146</td><td>industrial engineering & automation</td><td>software engineering</td><td>software engineering</td><td>male</td><td>unknown</td><td>6503849022</td><td>List(List(mys, null))</td><td>Irraivan</td><td>5576</td></tr><tr><td>85117363920</td><td>unknown</td><td>10.1016/j.jpowsour.2021.230631</td><td>0</td><td>List(List(1, 56606298700, auth, false, null, null, Ricardo A., Ricardo A., Escalona-Villalpando R.A., Escalona-Villalpando R.A., R.A., R.A., null, null, null, Escalona-Villalpando, Escalona-Villalpando), List(2, 57300578200, auth, false, null, null, null, A., Sandoval-Garcia A., Sandoval-García A., A., A., null, null, null, Sandoval-García, Sandoval-García), List(3, 57300578300, auth, false, null, null, J. Roberto, J. Roberto, Espinosa L. J.R., Espinosa L. J.R., J.R., J.R., null, null, null, Espinosa L., Espinosa L.), List(4, 57300580100, auth, false, null, null, null, M. G., Miranda-Silva M.G., Miranda-Silva M.G., M.G., M.G., null, null, null, Miranda-Silva, Miranda-Silva), List(5, 7003470361, auth, false, null, null, null, L. G., Arriaga L.G., Arriaga L.G., L.G., L.G., null, null, null, Arriaga, Arriaga), List(6, 57210201870, auth, false, null, null, Shelley D., Shelley D., Minteer S.D., Minteer S.D., S.D., S.D., null, null, null, Minteer, Minteer), List(7, 6503869487, auth, false, null, 5852017a9f5bdb46ef24a8255a89984b95155daf, null, J., Ledesma-Garcia J., Ledesma-García J., J., J., null, null, null, Ledesma-García, Ledesma-García))</td><td>2021</td><td>ar</td><td>None</td><td>03787753</td><td>7</td><td>56606298700</td><td>6503869487</td><td>List(6503869487)</td><td>18063</td><td>analytical chemistry</td><td>energy</td><td>energy</td><td>male</td><td>unknown</td><td>6503869487</td><td>List(List(mex, null))</td><td>null</td><td>5908</td></tr><tr><td>85041503606</td><td>female</td><td>10.1016/j.nmd.2017.12.009</td><td>0</td><td>List(List(1, 6503870781, auth, false, null, f9ff3e3e69de7618061bd87d2653837ba44c38f8, Vilma-Lotta, Vilma Lotta, Lehtokari V.-L., Lehtokari V.L., V.-L., V.L., null, null, null, Lehtokari, Lehtokari), List(2, 55572641300, auth, false, null, null, Maria, Maria, Gardberg M., Gardberg M., M., M., null, null, null, Gardberg, Gardberg), List(3, 6603731522, auth, false, null, null, Katarina, Katarina, Pelin K., Pelin K., K., K., null, null, null, Pelin, Pelin), List(4, 7006537054, auth, false, null, null, Carina, Carina, Wallgren-Pettersson C., Wallgren-Pettersson C., C., C., null, null, null, Wallgren-Pettersson, Wallgren-Pettersson))</td><td>2018</td><td>ar</td><td>Repository</td><td>09608966</td><td>4</td><td>6503870781</td><td>7006537054</td><td>List(6503870781)</td><td>17976</td><td>neurology & neurosurgery</td><td>neurology & neurosurgery</td><td>neurology & neurosurgery</td><td>female</td><td>unknown</td><td>6503870781</td><td>List(List(fin, null))</td><td>Vilma-Lotta</td><td>9851</td></tr><tr><td>85088019708</td><td>female</td><td>10.1016/j.pharmthera.2020.107579</td><td>1</td><td>List(List(1, 6503902603, auth, false, null, 87cb43da7fc5c6f7ea3704991481eeae1e72e35a, null, G. R., Tundo G.R., Tundo G.R., G.R., G.R., null, null, null, Tundo, Tundo), List(2, 15081061800, auth, false, null, null, null, D., Sbardella D., Sbardella D., D., D., null, null, null, Sbardella, Sbardella), List(3, 56976479300, auth, false, null, null, null, A. M., Santoro A.M., Santoro A.M., A.M., A.M., null, null, null, Santoro, Santoro), List(4, 24069697800, auth, false, null, null, null, A., Coletta A., Coletta A., A., A., null, null, null, Coletta, Coletta), List(5, 6507657212, auth, false, null, null, null, F., Oddone F., Oddone F., F., F., null, null, null, Oddone, Oddone), List(6, 35339190000, auth, false, null, null, null, G., Grasso G., Grasso G., G., G., null, null, null, Grasso, Grasso), List(7, 6603952176, auth, false, null, null, null, D., Milardi D., Milardi D., D., D., null, null, null, Milardi, Milardi), List(8, 6701894783, auth, false, null, null, null, P. M., Lacal P.M., Lacal P.M., P.M., P.M., null, null, null, Lacal, Lacal), List(9, 56795031000, auth, false, null, null, null, S., Marini S., Marini S., S., S., null, null, null, Marini, Marini), List(10, 56283466200, auth, false, null, null, null, R., Purrello R., Purrello R., R., R., null, null, null, Purrello, Purrello), List(11, 35268329000, auth, false, null, 99bb7e48b993971d0654589e1fb513277845364e, null, G., Graziani G., Graziani G., G., G., null, null, null, Graziani, Graziani), List(12, 57214765107, auth, false, null, bd741a80360b98d277e9433a06dbbfed1f1f1bec, null, M., Coletta M., Coletta M., M., M., null, null, null, Coletta, Coletta))</td><td>2020</td><td>re</td><td>Repository</td><td>01637258</td><td>12</td><td>6503902603</td><td>57214765107</td><td>List(6503902603, 35268329000)</td><td>21195</td><td>oncology & carcinogenesis</td><td>pharmacology & pharmacy</td><td>pharmacology & pharmacy</td><td>female</td><td>male</td><td>6503902603</td><td>List(List(ita, null), List(ita, null))</td><td>null</td><td>1631</td></tr><tr><td>85083968939</td><td>female</td><td>10.1111/jsr.13039</td><td>0</td><td>List(List(1, 57195407378, auth, false, null, null, Andjela, Andjela, Markovic A., Markovic A., A., A., null, 0000-0003-2104-9543, null, Markovic, Markovic), List(2, 36622109100, auth, false, null, null, Ashura, Ashura, Buckley A., Buckley A., A., A., null, 0000-0002-0620-208X, null, Buckley, Buckley), List(3, 55762447900, auth, false, null, null, David I., David I., Driver D.I., Driver D.I., D.I., D.I., null, 0000-0002-4159-8120, null, Driver, Driver), List(4, 57021920400, auth, false, null, null, Diane, Diane, Dillard-Broadnax D., Dillard-Broadnax D., D., D., null, null, null, Dillard-Broadnax, Dillard-Broadnax), List(5, 6603437619, auth, false, null, null, Peter A., Peter A., Gochman P.A., Gochman P.A., P.A., P.A., null, null, null, Gochman, Gochman), List(6, 23097583900, auth, false, null, null, Kerstin, Kerstin, Hoedlmoser K., Hoedlmoser K., K., K., null, 0000-0001-5177-4389, null, Hoedlmoser, Hoedlmoser), List(7, 7102502816, auth, false, null, null, Judith L., Judith L., Rapoport J.L., Rapoport J.L., J.L., J.L., null, null, null, Rapoport, Rapoport), List(8, 6503925786, auth, false, null, 69cf20a5c210b939f0e1f815f12d3a59c936828f, Leila, Leila, Tarokh L., Tarokh L., L., L., null, 0000-0003-4014-428X, null, Tarokh, Tarokh))</td><td>2021</td><td>ar</td><td>None</td><td>09621105</td><td>8</td><td>57195407378</td><td>6503925786</td><td>List(6503925786)</td><td>16005</td><td>psychiatry</td><td>neurology & neurosurgery</td><td>neurology & neurosurgery</td><td>female</td><td>female</td><td>6503925786</td><td>List(List(che, null))</td><td>Leila</td><td>4836</td></tr><tr><td>85091610086</td><td>female</td><td>10.1016/j.schres.2020.08.022</td><td>0</td><td>List(List(1, 57195407378, auth, false, null, null, Andjela, Andjela, Markovic A., Markovic A., A., A., null, null, null, Markovic, Markovic), List(2, 36622109100, auth, false, null, null, Ashura, Ashura, Buckley A., Buckley A., A., A., null, null, null, Buckley, Buckley), List(3, 55762447900, auth, false, null, null, David I., David I., Driver D.I., Driver D.I., D.I., D.I., null, null, null, Driver, Driver), List(4, 57021920400, auth, false, null, null, Diane, Diane, Dillard-Broadnax D., Dillard-Broadnax D., D., D., null, null, null, Dillard-Broadnax, Dillard-Broadnax), List(5, 6603437619, auth, false, null, null, Peter A., Peter A., Gochman P.A., Gochman P.A., P.A., P.A., null, null, null, Gochman, Gochman), List(6, 23097583900, auth, false, null, null, Kerstin, Kerstin, Hoedlmoser K., Hoedlmoser K., K., K., null, null, null, Hoedlmoser, Hoedlmoser), List(7, 7102502816, auth, false, null, null, Judith L., Judith L., Rapoport J.L., Rapoport J.L., J.L., J.L., null, null, null, Rapoport, Rapoport), List(8, 6503925786, auth, false, null, 69cf20a5c210b939f0e1f815f12d3a59c936828f, Leila, Leila, Tarokh L., Tarokh L., L., L., null, null, null, Tarokh, Tarokh))</td><td>2020</td><td>ar</td><td>Repository</td><td>09209964</td><td>8</td><td>57195407378</td><td>6503925786</td><td>List(6503925786)</td><td>19355</td><td>neurology & neurosurgery</td><td>psychiatry</td><td>psychiatry</td><td>female</td><td>female</td><td>6503925786</td><td>List(List(che, null))</td><td>Leila</td><td>4836</td></tr><tr><td>85107658149</td><td>male</td><td>10.1016/j.mineng.2021.107007</td><td>0</td><td>List(List(1, 57210171348, auth, false, null, null, Michel Pedro, Michel Pedro, Filippo M.P., Filippo M.P., M.P., M.P., null, null, null, Filippo, Filippo), List(2, 6503979405, auth, false, null, d38dc32e9bf968820ed168999ea945873d6dedb2, Otávio, Otávio, da Fonseca Martins Gomes O., da Fonseca Martins Gomes O., O., O., null, null, null, da Fonseca Martins Gomes, da Fonseca Martins Gomes), List(3, 25642386000, auth, false, null, null, Gilson Alexandre Ostwald Pedro, Gilson Alexandre Ostwald Pedro, da Costa G.A.O.P., da Costa G.A.O.P., G.A.O.P., G.A.O.P., null, null, null, da Costa, da Costa), List(4, 16836919300, auth, false, null, null, Guilherme Lucio Abelha, Guilherme Lucio Abelha, Mota G.L.A., Mota G.L.A., G.L.A., G.L.A., null, null, null, Mota, Mota))</td><td>2021</td><td>ar</td><td>None</td><td>08926875</td><td>4</td><td>57210171348</td><td>16836919300</td><td>List(6503979405)</td><td>16936</td><td>artificial intelligence & image processing</td><td>mining & metallurgy</td><td>mining & metallurgy</td><td>male</td><td>unknown</td><td>6503979405</td><td>List(List(bra, null))</td><td>Otávio</td><td>4338</td></tr><tr><td>85119626589</td><td>unknown</td><td>10.1021/acs.jctc.1c00938</td><td>0</td><td>List(List(1, 57221344568, auth, false, null, null, Betül, Betül, Ermis B., Ermiş B., B., B., null, null, null, Ermiş, Ermiş), List(2, 57349840700, auth, false, null, null, Emel, Emel, Ekinci E., Ekinci E., E., E., null, null, null, Ekinci, Ekinci), List(3, 6504000075, auth, false, null, 26c3c86323250a834b5165ad50b8c55edbb1282a, Uǧur, Uǧur, Bozkaya U., Bozkaya U., U., U., null, 0000-0002-5203-2210, null, Bozkaya, Bozkaya))</td><td>2021</td><td>ar</td><td>None</td><td>15499618</td><td>3</td><td>57221344568</td><td>6504000075</td><td>List(6504000075)</td><td>5100155074</td><td>chemical physics</td><td>chemical physics</td><td>chemical physics</td><td>female</td><td>unknown</td><td>6504000075</td><td>List(List(tur, null))</td><td>Uǧur</td><td>1880</td></tr></tbody></table></div>"
      ]
     },
     "metadata": {
      "application/vnd.databricks.v1+output": {
       "addedWidgets": {},
       "aggData": [],
       "aggError": "",
       "aggOverflow": false,
       "aggSchema": [],
       "aggSeriesLimitReached": false,
       "aggType": "",
       "arguments": {},
       "columnCustomDisplayInfos": {},
       "data": [
        [
         85120608377,
         "unknown",
         "10.3390/s21238155",
         0,
         [
          [
           1,
           57363708500,
           "auth",
           "false",
           null,
           "7f79731916c869a85075bf299ee349e01fc32ea4",
           "Nivesh",
           "Nivesh",
           "Gadipudi N.",
           "Gadipudi N.",
           "N.",
           "N.",
           null,
           null,
           null,
           "Gadipudi",
           "Gadipudi"
          ],
          [
           2,
           6503849022,
           "auth",
           "false",
           null,
           "f2add25904ec270a5fae5aafe45473844853da6b",
           "Irraivan",
           "Irraivan",
           "Elamvazuthi I.",
           "Elamvazuthi I.",
           "I.",
           "I.",
           null,
           null,
           null,
           "Elamvazuthi",
           "Elamvazuthi"
          ],
          [
           3,
           55699384800,
           "auth",
           "false",
           null,
           "985445ea16167ad84665b03d8963e8508c6eaa80",
           "Cheng-Kai",
           "Cheng Kai",
           "Lu C.-K.",
           "Lu C.K.",
           "C.-K.",
           "C.K.",
           null,
           null,
           null,
           "Lu",
           "Lu"
          ],
          [
           4,
           55662378400,
           "auth",
           "false",
           null,
           "dfecc2c32280d8a973d52396e251d3c63658330e",
           "Sivajothi",
           "Sivajothi",
           "Paramasivam S.",
           "Paramasivam S.",
           "S.",
           "S.",
           null,
           null,
           null,
           "Paramasivam",
           "Paramasivam"
          ],
          [
           5,
           57216312578,
           "auth",
           "false",
           null,
           "32aa708b7b25e0593e6b162d05d9ea597c54f3c3",
           "Steven",
           "Steven",
           "Su S.",
           "Su S.",
           "S.",
           "S.",
           null,
           null,
           null,
           "Su",
           "Su"
          ]
         ],
         2021,
         "ar",
         "Full",
         "14248220",
         5,
         57363708500,
         57216312578,
         [
          6503849022
         ],
         130124,
         "artificial intelligence & image processing",
         "analytical chemistry",
         "analytical chemistry",
         "male",
         "male",
         6503849022,
         [
          [
           "mys",
           null
          ]
         ],
         "Irraivan",
         5576
        ],
        [
         85132752517,
         "unknown",
         "10.1007/s00521-022-07484-y",
         0,
         [
          [
           1,
           57363708500,
           "auth",
           "false",
           null,
           "7f79731916c869a85075bf299ee349e01fc32ea4",
           "Nivesh",
           "Nivesh",
           "Gadipudi N.",
           "Gadipudi N.",
           "N.",
           "N.",
           null,
           null,
           null,
           "Gadipudi",
           "Gadipudi"
          ],
          [
           2,
           6503849022,
           "auth",
           "false",
           null,
           "f2add25904ec270a5fae5aafe45473844853da6b",
           "Irraivan",
           "Irraivan",
           "Elamvazuthi I.",
           "Elamvazuthi I.",
           "I.",
           "I.",
           null,
           "0000-0002-4721-9400",
           null,
           "Elamvazuthi",
           "Elamvazuthi"
          ],
          [
           3,
           55699384800,
           "auth",
           "false",
           null,
           "985445ea16167ad84665b03d8963e8508c6eaa80",
           "Cheng-Kai",
           "Cheng Kai",
           "Lu C.-K.",
           "Lu C.K.",
           "C.-K.",
           "C.K.",
           null,
           null,
           null,
           "Lu",
           "Lu"
          ],
          [
           4,
           55662378400,
           "auth",
           "false",
           null,
           "dfecc2c32280d8a973d52396e251d3c63658330e",
           "Sivajothi",
           "Sivajothi",
           "Paramasivam S.",
           "Paramasivam S.",
           "S.",
           "S.",
           null,
           null,
           null,
           "Paramasivam",
           "Paramasivam"
          ],
          [
           5,
           7402029883,
           "auth",
           "false",
           null,
           "32aa708b7b25e0593e6b162d05d9ea597c54f3c3",
           "Steven",
           "Steven",
           "Su S.",
           "Su S.",
           "S.",
           "S.",
           null,
           null,
           null,
           "Su",
           "Su"
          ]
         ],
         2022,
         "ar",
         "None",
         "09410643",
         5,
         57363708500,
         7402029883,
         [
          6503849022
         ],
         24800,
         "artificial intelligence & image processing",
         "artificial intelligence & image processing",
         "artificial intelligence & image processing",
         "male",
         "unknown",
         6503849022,
         [
          [
           "mys",
           null
          ]
         ],
         "Irraivan",
         5576
        ],
        [
         85142297568,
         "unknown",
         "10.1007/s00371-022-02702-z",
         0,
         [
          [
           1,
           57363708500,
           "auth",
           "false",
           null,
           "7f79731916c869a85075bf299ee349e01fc32ea4",
           "Nivesh",
           "Nivesh",
           "Gadipudi N.",
           "Gadipudi N.",
           "N.",
           "N.",
           null,
           null,
           null,
           "Gadipudi",
           "Gadipudi"
          ],
          [
           2,
           6503849022,
           "auth",
           "false",
           null,
           "f2add25904ec270a5fae5aafe45473844853da6b",
           "Irraivan",
           "Irraivan",
           "Elamvazuthi I.",
           "Elamvazuthi I.",
           "I.",
           "I.",
           null,
           "0000-0002-4721-9400",
           null,
           "Elamvazuthi",
           "Elamvazuthi"
          ],
          [
           3,
           23005041200,
           "auth",
           "false",
           null,
           "e934c4a387844b3f8eb0297db007cf743cf7457c",
           "Lila Iznita",
           "Lila Iznita",
           "Izhar L.I.",
           "Izhar L.I.",
           "L.I.",
           "L.I.",
           null,
           null,
           null,
           "Izhar",
           "Izhar"
          ],
          [
           4,
           57191245197,
           "auth",
           "false",
           null,
           "36765f1a62383b6b89a1622b3147e3e8ad729162",
           "Lokender",
           "Lokender",
           "Tiwari L.",
           "Tiwari L.",
           "L.",
           "L.",
           null,
           null,
           null,
           "Tiwari",
           "Tiwari"
          ],
          [
           5,
           54383443000,
           "auth",
           "false",
           null,
           "63149efb383a65711b986c5da8f45532672f5b9a",
           "Ramya",
           "Ramya",
           "Hebbalaguppe R.",
           "Hebbalaguppe R.",
           "R.",
           "R.",
           null,
           null,
           null,
           "Hebbalaguppe",
           "Hebbalaguppe"
          ],
          [
           6,
           55699384800,
           "auth",
           "false",
           null,
           "0688e65dee545d4c0d59054e6db2100d85c073b4",
           "Cheng-Kai",
           "Cheng Kai",
           "Lu C.-K.",
           "Lu C.K.",
           "C.-K.",
           "C.K.",
           null,
           null,
           null,
           "Lu",
           "Lu"
          ],
          [
           7,
           57658030800,
           "auth",
           "false",
           null,
           "426134d346255137626b1dcd787898ffb34e6476",
           "Arockia Selvakumar Arockia",
           "Arockia Selvakumar Arockia",
           "Doss A.S.A.",
           "Doss A.S.A.",
           "A.S.A.",
           "A.S.A.",
           null,
           null,
           null,
           "Doss",
           "Doss"
          ]
         ],
         2022,
         "ar",
         "None",
         "01782789",
         7,
         57363708500,
         57658030800,
         [
          6503849022
         ],
         26146,
         "industrial engineering & automation",
         "software engineering",
         "software engineering",
         "male",
         "unknown",
         6503849022,
         [
          [
           "mys",
           null
          ]
         ],
         "Irraivan",
         5576
        ],
        [
         85117363920,
         "unknown",
         "10.1016/j.jpowsour.2021.230631",
         0,
         [
          [
           1,
           56606298700,
           "auth",
           "false",
           null,
           null,
           "Ricardo A.",
           "Ricardo A.",
           "Escalona-Villalpando R.A.",
           "Escalona-Villalpando R.A.",
           "R.A.",
           "R.A.",
           null,
           null,
           null,
           "Escalona-Villalpando",
           "Escalona-Villalpando"
          ],
          [
           2,
           57300578200,
           "auth",
           "false",
           null,
           null,
           null,
           "A.",
           "Sandoval-Garcia A.",
           "Sandoval-García A.",
           "A.",
           "A.",
           null,
           null,
           null,
           "Sandoval-García",
           "Sandoval-García"
          ],
          [
           3,
           57300578300,
           "auth",
           "false",
           null,
           null,
           "J. Roberto",
           "J. Roberto",
           "Espinosa L. J.R.",
           "Espinosa L. J.R.",
           "J.R.",
           "J.R.",
           null,
           null,
           null,
           "Espinosa L.",
           "Espinosa L."
          ],
          [
           4,
           57300580100,
           "auth",
           "false",
           null,
           null,
           null,
           "M. G.",
           "Miranda-Silva M.G.",
           "Miranda-Silva M.G.",
           "M.G.",
           "M.G.",
           null,
           null,
           null,
           "Miranda-Silva",
           "Miranda-Silva"
          ],
          [
           5,
           7003470361,
           "auth",
           "false",
           null,
           null,
           null,
           "L. G.",
           "Arriaga L.G.",
           "Arriaga L.G.",
           "L.G.",
           "L.G.",
           null,
           null,
           null,
           "Arriaga",
           "Arriaga"
          ],
          [
           6,
           57210201870,
           "auth",
           "false",
           null,
           null,
           "Shelley D.",
           "Shelley D.",
           "Minteer S.D.",
           "Minteer S.D.",
           "S.D.",
           "S.D.",
           null,
           null,
           null,
           "Minteer",
           "Minteer"
          ],
          [
           7,
           6503869487,
           "auth",
           "false",
           null,
           "5852017a9f5bdb46ef24a8255a89984b95155daf",
           null,
           "J.",
           "Ledesma-Garcia J.",
           "Ledesma-García J.",
           "J.",
           "J.",
           null,
           null,
           null,
           "Ledesma-García",
           "Ledesma-García"
          ]
         ],
         2021,
         "ar",
         "None",
         "03787753",
         7,
         56606298700,
         6503869487,
         [
          6503869487
         ],
         18063,
         "analytical chemistry",
         "energy",
         "energy",
         "male",
         "unknown",
         6503869487,
         [
          [
           "mex",
           null
          ]
         ],
         null,
         5908
        ],
        [
         85041503606,
         "female",
         "10.1016/j.nmd.2017.12.009",
         0,
         [
          [
           1,
           6503870781,
           "auth",
           "false",
           null,
           "f9ff3e3e69de7618061bd87d2653837ba44c38f8",
           "Vilma-Lotta",
           "Vilma Lotta",
           "Lehtokari V.-L.",
           "Lehtokari V.L.",
           "V.-L.",
           "V.L.",
           null,
           null,
           null,
           "Lehtokari",
           "Lehtokari"
          ],
          [
           2,
           55572641300,
           "auth",
           "false",
           null,
           null,
           "Maria",
           "Maria",
           "Gardberg M.",
           "Gardberg M.",
           "M.",
           "M.",
           null,
           null,
           null,
           "Gardberg",
           "Gardberg"
          ],
          [
           3,
           6603731522,
           "auth",
           "false",
           null,
           null,
           "Katarina",
           "Katarina",
           "Pelin K.",
           "Pelin K.",
           "K.",
           "K.",
           null,
           null,
           null,
           "Pelin",
           "Pelin"
          ],
          [
           4,
           7006537054,
           "auth",
           "false",
           null,
           null,
           "Carina",
           "Carina",
           "Wallgren-Pettersson C.",
           "Wallgren-Pettersson C.",
           "C.",
           "C.",
           null,
           null,
           null,
           "Wallgren-Pettersson",
           "Wallgren-Pettersson"
          ]
         ],
         2018,
         "ar",
         "Repository",
         "09608966",
         4,
         6503870781,
         7006537054,
         [
          6503870781
         ],
         17976,
         "neurology & neurosurgery",
         "neurology & neurosurgery",
         "neurology & neurosurgery",
         "female",
         "unknown",
         6503870781,
         [
          [
           "fin",
           null
          ]
         ],
         "Vilma-Lotta",
         9851
        ],
        [
         85088019708,
         "female",
         "10.1016/j.pharmthera.2020.107579",
         1,
         [
          [
           1,
           6503902603,
           "auth",
           "false",
           null,
           "87cb43da7fc5c6f7ea3704991481eeae1e72e35a",
           null,
           "G. R.",
           "Tundo G.R.",
           "Tundo G.R.",
           "G.R.",
           "G.R.",
           null,
           null,
           null,
           "Tundo",
           "Tundo"
          ],
          [
           2,
           15081061800,
           "auth",
           "false",
           null,
           null,
           null,
           "D.",
           "Sbardella D.",
           "Sbardella D.",
           "D.",
           "D.",
           null,
           null,
           null,
           "Sbardella",
           "Sbardella"
          ],
          [
           3,
           56976479300,
           "auth",
           "false",
           null,
           null,
           null,
           "A. M.",
           "Santoro A.M.",
           "Santoro A.M.",
           "A.M.",
           "A.M.",
           null,
           null,
           null,
           "Santoro",
           "Santoro"
          ],
          [
           4,
           24069697800,
           "auth",
           "false",
           null,
           null,
           null,
           "A.",
           "Coletta A.",
           "Coletta A.",
           "A.",
           "A.",
           null,
           null,
           null,
           "Coletta",
           "Coletta"
          ],
          [
           5,
           6507657212,
           "auth",
           "false",
           null,
           null,
           null,
           "F.",
           "Oddone F.",
           "Oddone F.",
           "F.",
           "F.",
           null,
           null,
           null,
           "Oddone",
           "Oddone"
          ],
          [
           6,
           35339190000,
           "auth",
           "false",
           null,
           null,
           null,
           "G.",
           "Grasso G.",
           "Grasso G.",
           "G.",
           "G.",
           null,
           null,
           null,
           "Grasso",
           "Grasso"
          ],
          [
           7,
           6603952176,
           "auth",
           "false",
           null,
           null,
           null,
           "D.",
           "Milardi D.",
           "Milardi D.",
           "D.",
           "D.",
           null,
           null,
           null,
           "Milardi",
           "Milardi"
          ],
          [
           8,
           6701894783,
           "auth",
           "false",
           null,
           null,
           null,
           "P. M.",
           "Lacal P.M.",
           "Lacal P.M.",
           "P.M.",
           "P.M.",
           null,
           null,
           null,
           "Lacal",
           "Lacal"
          ],
          [
           9,
           56795031000,
           "auth",
           "false",
           null,
           null,
           null,
           "S.",
           "Marini S.",
           "Marini S.",
           "S.",
           "S.",
           null,
           null,
           null,
           "Marini",
           "Marini"
          ],
          [
           10,
           56283466200,
           "auth",
           "false",
           null,
           null,
           null,
           "R.",
           "Purrello R.",
           "Purrello R.",
           "R.",
           "R.",
           null,
           null,
           null,
           "Purrello",
           "Purrello"
          ],
          [
           11,
           35268329000,
           "auth",
           "false",
           null,
           "99bb7e48b993971d0654589e1fb513277845364e",
           null,
           "G.",
           "Graziani G.",
           "Graziani G.",
           "G.",
           "G.",
           null,
           null,
           null,
           "Graziani",
           "Graziani"
          ],
          [
           12,
           57214765107,
           "auth",
           "false",
           null,
           "bd741a80360b98d277e9433a06dbbfed1f1f1bec",
           null,
           "M.",
           "Coletta M.",
           "Coletta M.",
           "M.",
           "M.",
           null,
           null,
           null,
           "Coletta",
           "Coletta"
          ]
         ],
         2020,
         "re",
         "Repository",
         "01637258",
         12,
         6503902603,
         57214765107,
         [
          6503902603,
          35268329000
         ],
         21195,
         "oncology & carcinogenesis",
         "pharmacology & pharmacy",
         "pharmacology & pharmacy",
         "female",
         "male",
         6503902603,
         [
          [
           "ita",
           null
          ],
          [
           "ita",
           null
          ]
         ],
         null,
         1631
        ],
        [
         85083968939,
         "female",
         "10.1111/jsr.13039",
         0,
         [
          [
           1,
           57195407378,
           "auth",
           "false",
           null,
           null,
           "Andjela",
           "Andjela",
           "Markovic A.",
           "Markovic A.",
           "A.",
           "A.",
           null,
           "0000-0003-2104-9543",
           null,
           "Markovic",
           "Markovic"
          ],
          [
           2,
           36622109100,
           "auth",
           "false",
           null,
           null,
           "Ashura",
           "Ashura",
           "Buckley A.",
           "Buckley A.",
           "A.",
           "A.",
           null,
           "0000-0002-0620-208X",
           null,
           "Buckley",
           "Buckley"
          ],
          [
           3,
           55762447900,
           "auth",
           "false",
           null,
           null,
           "David I.",
           "David I.",
           "Driver D.I.",
           "Driver D.I.",
           "D.I.",
           "D.I.",
           null,
           "0000-0002-4159-8120",
           null,
           "Driver",
           "Driver"
          ],
          [
           4,
           57021920400,
           "auth",
           "false",
           null,
           null,
           "Diane",
           "Diane",
           "Dillard-Broadnax D.",
           "Dillard-Broadnax D.",
           "D.",
           "D.",
           null,
           null,
           null,
           "Dillard-Broadnax",
           "Dillard-Broadnax"
          ],
          [
           5,
           6603437619,
           "auth",
           "false",
           null,
           null,
           "Peter A.",
           "Peter A.",
           "Gochman P.A.",
           "Gochman P.A.",
           "P.A.",
           "P.A.",
           null,
           null,
           null,
           "Gochman",
           "Gochman"
          ],
          [
           6,
           23097583900,
           "auth",
           "false",
           null,
           null,
           "Kerstin",
           "Kerstin",
           "Hoedlmoser K.",
           "Hoedlmoser K.",
           "K.",
           "K.",
           null,
           "0000-0001-5177-4389",
           null,
           "Hoedlmoser",
           "Hoedlmoser"
          ],
          [
           7,
           7102502816,
           "auth",
           "false",
           null,
           null,
           "Judith L.",
           "Judith L.",
           "Rapoport J.L.",
           "Rapoport J.L.",
           "J.L.",
           "J.L.",
           null,
           null,
           null,
           "Rapoport",
           "Rapoport"
          ],
          [
           8,
           6503925786,
           "auth",
           "false",
           null,
           "69cf20a5c210b939f0e1f815f12d3a59c936828f",
           "Leila",
           "Leila",
           "Tarokh L.",
           "Tarokh L.",
           "L.",
           "L.",
           null,
           "0000-0003-4014-428X",
           null,
           "Tarokh",
           "Tarokh"
          ]
         ],
         2021,
         "ar",
         "None",
         "09621105",
         8,
         57195407378,
         6503925786,
         [
          6503925786
         ],
         16005,
         "psychiatry",
         "neurology & neurosurgery",
         "neurology & neurosurgery",
         "female",
         "female",
         6503925786,
         [
          [
           "che",
           null
          ]
         ],
         "Leila",
         4836
        ],
        [
         85091610086,
         "female",
         "10.1016/j.schres.2020.08.022",
         0,
         [
          [
           1,
           57195407378,
           "auth",
           "false",
           null,
           null,
           "Andjela",
           "Andjela",
           "Markovic A.",
           "Markovic A.",
           "A.",
           "A.",
           null,
           null,
           null,
           "Markovic",
           "Markovic"
          ],
          [
           2,
           36622109100,
           "auth",
           "false",
           null,
           null,
           "Ashura",
           "Ashura",
           "Buckley A.",
           "Buckley A.",
           "A.",
           "A.",
           null,
           null,
           null,
           "Buckley",
           "Buckley"
          ],
          [
           3,
           55762447900,
           "auth",
           "false",
           null,
           null,
           "David I.",
           "David I.",
           "Driver D.I.",
           "Driver D.I.",
           "D.I.",
           "D.I.",
           null,
           null,
           null,
           "Driver",
           "Driver"
          ],
          [
           4,
           57021920400,
           "auth",
           "false",
           null,
           null,
           "Diane",
           "Diane",
           "Dillard-Broadnax D.",
           "Dillard-Broadnax D.",
           "D.",
           "D.",
           null,
           null,
           null,
           "Dillard-Broadnax",
           "Dillard-Broadnax"
          ],
          [
           5,
           6603437619,
           "auth",
           "false",
           null,
           null,
           "Peter A.",
           "Peter A.",
           "Gochman P.A.",
           "Gochman P.A.",
           "P.A.",
           "P.A.",
           null,
           null,
           null,
           "Gochman",
           "Gochman"
          ],
          [
           6,
           23097583900,
           "auth",
           "false",
           null,
           null,
           "Kerstin",
           "Kerstin",
           "Hoedlmoser K.",
           "Hoedlmoser K.",
           "K.",
           "K.",
           null,
           null,
           null,
           "Hoedlmoser",
           "Hoedlmoser"
          ],
          [
           7,
           7102502816,
           "auth",
           "false",
           null,
           null,
           "Judith L.",
           "Judith L.",
           "Rapoport J.L.",
           "Rapoport J.L.",
           "J.L.",
           "J.L.",
           null,
           null,
           null,
           "Rapoport",
           "Rapoport"
          ],
          [
           8,
           6503925786,
           "auth",
           "false",
           null,
           "69cf20a5c210b939f0e1f815f12d3a59c936828f",
           "Leila",
           "Leila",
           "Tarokh L.",
           "Tarokh L.",
           "L.",
           "L.",
           null,
           null,
           null,
           "Tarokh",
           "Tarokh"
          ]
         ],
         2020,
         "ar",
         "Repository",
         "09209964",
         8,
         57195407378,
         6503925786,
         [
          6503925786
         ],
         19355,
         "neurology & neurosurgery",
         "psychiatry",
         "psychiatry",
         "female",
         "female",
         6503925786,
         [
          [
           "che",
           null
          ]
         ],
         "Leila",
         4836
        ],
        [
         85107658149,
         "male",
         "10.1016/j.mineng.2021.107007",
         0,
         [
          [
           1,
           57210171348,
           "auth",
           "false",
           null,
           null,
           "Michel Pedro",
           "Michel Pedro",
           "Filippo M.P.",
           "Filippo M.P.",
           "M.P.",
           "M.P.",
           null,
           null,
           null,
           "Filippo",
           "Filippo"
          ],
          [
           2,
           6503979405,
           "auth",
           "false",
           null,
           "d38dc32e9bf968820ed168999ea945873d6dedb2",
           "Otávio",
           "Otávio",
           "da Fonseca Martins Gomes O.",
           "da Fonseca Martins Gomes O.",
           "O.",
           "O.",
           null,
           null,
           null,
           "da Fonseca Martins Gomes",
           "da Fonseca Martins Gomes"
          ],
          [
           3,
           25642386000,
           "auth",
           "false",
           null,
           null,
           "Gilson Alexandre Ostwald Pedro",
           "Gilson Alexandre Ostwald Pedro",
           "da Costa G.A.O.P.",
           "da Costa G.A.O.P.",
           "G.A.O.P.",
           "G.A.O.P.",
           null,
           null,
           null,
           "da Costa",
           "da Costa"
          ],
          [
           4,
           16836919300,
           "auth",
           "false",
           null,
           null,
           "Guilherme Lucio Abelha",
           "Guilherme Lucio Abelha",
           "Mota G.L.A.",
           "Mota G.L.A.",
           "G.L.A.",
           "G.L.A.",
           null,
           null,
           null,
           "Mota",
           "Mota"
          ]
         ],
         2021,
         "ar",
         "None",
         "08926875",
         4,
         57210171348,
         16836919300,
         [
          6503979405
         ],
         16936,
         "artificial intelligence & image processing",
         "mining & metallurgy",
         "mining & metallurgy",
         "male",
         "unknown",
         6503979405,
         [
          [
           "bra",
           null
          ]
         ],
         "Otávio",
         4338
        ],
        [
         85119626589,
         "unknown",
         "10.1021/acs.jctc.1c00938",
         0,
         [
          [
           1,
           57221344568,
           "auth",
           "false",
           null,
           null,
           "Betül",
           "Betül",
           "Ermis B.",
           "Ermiş B.",
           "B.",
           "B.",
           null,
           null,
           null,
           "Ermiş",
           "Ermiş"
          ],
          [
           2,
           57349840700,
           "auth",
           "false",
           null,
           null,
           "Emel",
           "Emel",
           "Ekinci E.",
           "Ekinci E.",
           "E.",
           "E.",
           null,
           null,
           null,
           "Ekinci",
           "Ekinci"
          ],
          [
           3,
           6504000075,
           "auth",
           "false",
           null,
           "26c3c86323250a834b5165ad50b8c55edbb1282a",
           "Uǧur",
           "Uǧur",
           "Bozkaya U.",
           "Bozkaya U.",
           "U.",
           "U.",
           null,
           "0000-0002-5203-2210",
           null,
           "Bozkaya",
           "Bozkaya"
          ]
         ],
         2021,
         "ar",
         "None",
         "15499618",
         3,
         57221344568,
         6504000075,
         [
          6504000075
         ],
         5100155074,
         "chemical physics",
         "chemical physics",
         "chemical physics",
         "female",
         "unknown",
         6504000075,
         [
          [
           "tur",
           null
          ]
         ],
         "Uǧur",
         1880
        ]
       ],
       "datasetInfos": [],
       "dbfsResultPath": null,
       "isJsonSchema": true,
       "metadata": {},
       "overflow": false,
       "plotOptions": {
        "customPlotOptions": {},
        "displayType": "table",
        "pivotAggregation": null,
        "pivotColumns": null,
        "xColumns": null,
        "yColumns": null
       },
       "removedWidgets": [],
       "schema": [
        {
         "metadata": "{}",
         "name": "Eid",
         "type": "\"long\""
        },
        {
         "metadata": "{}",
         "name": "cor_gender",
         "type": "\"string\""
        },
        {
         "metadata": "{}",
         "name": "doi",
         "type": "\"string\""
        },
        {
         "metadata": "{}",
         "name": "news_cnt",
         "type": "\"integer\""
        },
        {
         "metadata": "{}",
         "name": "Au",
         "type": "{\"type\":\"array\",\"elementType\":{\"type\":\"struct\",\"fields\":[{\"name\":\"Authorseq\",\"type\":\"integer\",\"nullable\":true,\"metadata\":{}},{\"name\":\"auid\",\"type\":\"long\",\"nullable\":true,\"metadata\":{}},{\"name\":\"author_type\",\"type\":\"string\",\"nullable\":true,\"metadata\":{}},{\"name\":\"collaboration\",\"type\":\"string\",\"nullable\":true,\"metadata\":{}},{\"name\":\"degrees\",\"type\":\"string\",\"nullable\":true,\"metadata\":{}},{\"name\":\"email_sha1\",\"type\":\"string\",\"nullable\":true,\"metadata\":{}},{\"name\":\"given_name\",\"type\":\"string\",\"nullable\":true,\"metadata\":{}},{\"name\":\"given_name_pn\",\"type\":\"string\",\"nullable\":true,\"metadata\":{}},{\"name\":\"indexed_name\",\"type\":\"string\",\"nullable\":true,\"metadata\":{}},{\"name\":\"indexed_name_pn\",\"type\":\"string\",\"nullable\":true,\"metadata\":{}},{\"name\":\"initials\",\"type\":\"string\",\"nullable\":true,\"metadata\":{}},{\"name\":\"initials_pn\",\"type\":\"string\",\"nullable\":true,\"metadata\":{}},{\"name\":\"nametext\",\"type\":\"string\",\"nullable\":true,\"metadata\":{}},{\"name\":\"orcid\",\"type\":\"string\",\"nullable\":true,\"metadata\":{}},{\"name\":\"suffix\",\"type\":\"string\",\"nullable\":true,\"metadata\":{}},{\"name\":\"surname\",\"type\":\"string\",\"nullable\":true,\"metadata\":{}},{\"name\":\"surname_pn\",\"type\":\"string\",\"nullable\":true,\"metadata\":{}}]},\"containsNull\":true}"
        },
        {
         "metadata": "{}",
         "name": "year",
         "type": "\"integer\""
        },
        {
         "metadata": "{}",
         "name": "publication_type",
         "type": "\"string\""
        },
        {
         "metadata": "{}",
         "name": "openaccess",
         "type": "\"string\""
        },
        {
         "metadata": "{}",
         "name": "issn",
         "type": "\"string\""
        },
        {
         "metadata": "{}",
         "name": "num_au",
         "type": "\"integer\""
        },
        {
         "metadata": "{}",
         "name": "Au1_id",
         "type": "\"long\""
        },
        {
         "metadata": "{}",
         "name": "Au2_id",
         "type": "\"long\""
        },
        {
         "metadata": "{}",
         "name": "Au_cor_id",
         "type": "{\"type\":\"array\",\"elementType\":\"long\",\"containsNull\":true}"
        },
        {
         "metadata": "{}",
         "name": "srcid",
         "type": "\"long\""
        },
        {
         "metadata": "{}",
         "name": "subfield_article",
         "type": "\"string\""
        },
        {
         "metadata": "{}",
         "name": "subfield_journal",
         "type": "\"string\""
        },
        {
         "metadata": "{}",
         "name": "subfield_hybrid",
         "type": "\"string\""
        },
        {
         "metadata": "{}",
         "name": "Au1_gender",
         "type": "\"string\""
        },
        {
         "metadata": "{}",
         "name": "Au2_gender",
         "type": "\"string\""
        },
        {
         "metadata": "{}",
         "name": "cor_au1",
         "type": "\"long\""
        },
        {
         "metadata": "{}",
         "name": "correspondence",
         "type": "{\"type\":\"array\",\"elementType\":{\"type\":\"struct\",\"fields\":[{\"name\":\"country\",\"type\":\"string\",\"nullable\":true,\"metadata\":{}},{\"name\":\"txt\",\"type\":\"string\",\"nullable\":true,\"metadata\":{}}]},\"containsNull\":true}"
        },
        {
         "metadata": "{}",
         "name": "cor1_given_name",
         "type": "\"string\""
        },
        {
         "metadata": "{}",
         "name": "TopicId",
         "type": "\"long\""
        }
       ],
       "type": "table"
      }
     },
     "output_type": "display_data"
    }
   ],
   "source": [
    "import pandas as pd\n",
    "import pyspark.sql.functions as F\n",
    "def first(lst):\n",
    "  return lst[0]\n",
    "def extract_publication_info(newdf):\n",
    "  #newdf = df_ani.limit(50)\n",
    "  newdf = newdf.select('doi','Eid','year','Au','Au_cors','publication_type','openaccess','issn','source','news_cnt','correspondence')\n",
    "\n",
    "\n",
    "  newdf = newdf.withColumn('Au1', first(newdf['Au']))\n",
    "\n",
    "\n",
    "\n",
    "  newdf = newdf.withColumn('Au2', F.element_at(newdf['Au'], -1))\n",
    "\n",
    "  newdf = newdf.withColumn('num_au', F.size(newdf['Au']))\n",
    "\n",
    "  newdf = newdf.withColumn('Au1_id', F.col('Au1').getItem('auid'))\n",
    "\n",
    "  newdf = newdf.withColumn('Au2_id', F.col('Au2').getItem('auid'))\n",
    "\n",
    "  newdf = newdf.withColumn('Au_cor_id', F.col('Au_cors').getItem('auid'))\n",
    "  newdf = newdf.withColumn('Au_cor_name', F.col('Au_cors').getItem('given_name'))\n",
    "  newdf = newdf.withColumn('cor1_given_name', first(newdf['Au_cor_name']))\n",
    "  return newdf\n",
    "def get_smc_classification(newdf):\n",
    "  df_smc_ani = spark.read.format(\"parquet\").load(basePath+tablename_smc_complete)\n",
    "  newdf2 = newdf.join(df_smc_ani,'Eid', 'inner')\n",
    "  return newdf2\n",
    "\n",
    "def get_gender(newdf):\n",
    "  df_gender = spark.read.format(\"parquet\").load(basePath+tablename_gender_inference)\n",
    "  #non_null_count = newdf.where(F.col('Au1_id').isNotNull()).count()\n",
    "  mergedf = df_gender.join(newdf, newdf.Au1_id == df_gender.auid, 'inner').select(\n",
    "      df_gender.Inferred_Probable_Gender,newdf.doi,newdf.news_cnt,newdf.Au,newdf.Eid, newdf.year, newdf.publication_type,newdf.openaccess, newdf.issn, \n",
    "      newdf.num_au, newdf.Au1_id,newdf.Au2_id,newdf.Au_cor_id, newdf.srcid, newdf.subfield_article, newdf.subfield_journal, newdf.subfield_hybrid,newdf.correspondence,\n",
    "      newdf.cor1_given_name)\n",
    "  mergedf = mergedf.withColumnRenamed('Inferred_Probable_Gender', 'Au1_gender')\n",
    "\n",
    "  mergedf2 = df_gender.join(mergedf, mergedf.Au2_id == df_gender.auid, 'inner').select(\n",
    "      df_gender.Inferred_Probable_Gender, mergedf.doi,mergedf.news_cnt,mergedf.Au,mergedf.Eid, mergedf.year, mergedf.publication_type,mergedf.openaccess, mergedf.issn, \n",
    "      mergedf.num_au, mergedf.Au1_id,mergedf.Au2_id,mergedf.Au_cor_id, mergedf.srcid, mergedf.subfield_article, mergedf.subfield_journal, mergedf.subfield_hybrid, mergedf.Au1_gender,mergedf.correspondence,mergedf.cor1_given_name)\n",
    "  mergedf2 = mergedf2.withColumnRenamed('Inferred_Probable_Gender', 'Au2_gender')\n",
    "\n",
    "  #mergedf2 = mergedf2.withColumn('no_cor', F.size(mergedf2['Au_cor_id']))\n",
    "  #display(\"len os final4 \", mergedf2.count(),\"\\n\")\n",
    "\n",
    "  mergedf2 = mergedf2.withColumn('cor_au1', first(mergedf2['Au_cor_id']))\n",
    "\n",
    "  #display(final_data4.limit(20))\n",
    "\n",
    "  mergedf3 = mergedf2.filter(F.col('cor_au1').isNotNull())\n",
    "  display(\"no of not null cor au\",mergedf3.count(),\"\\n\")\n",
    "\n",
    "  mergedf4 = df_gender.join(mergedf3, mergedf3.cor_au1 == df_gender.auid, 'inner').select(\n",
    "      df_gender.Inferred_Probable_Gender, mergedf3.doi,mergedf3.news_cnt,mergedf3.Au,mergedf3.Eid, mergedf3.year, mergedf3.publication_type,mergedf3.openaccess, mergedf3.issn, \n",
    "      mergedf3.num_au, mergedf3.Au1_id,mergedf3.Au2_id,mergedf3.Au_cor_id, mergedf3.srcid, mergedf3.subfield_article, mergedf3.subfield_journal, mergedf3.subfield_hybrid, mergedf3.Au1_gender,mergedf3.Au2_gender,mergedf3.cor_au1,mergedf3.correspondence,mergedf3.cor1_given_name)\n",
    "  mergedf4 = mergedf4.withColumnRenamed('Inferred_Probable_Gender', 'cor_gender')\n",
    "\n",
    "  return mergedf4\n",
    "\n",
    "def merge_news_cnt(scop):\n",
    "  scop = scop.filter(func.col('year') >= 2018)\n",
    "  scop = scop.filter(func.col('year') <= 2022)\n",
    "  df1 = spark.read.format(\"csv\").option(\"header\", \"true\").load(\"dbfs:/FileStore/shared_uploads/arabi2@wisc.edu/doi_news_final.csv\")\n",
    "  display(\"# doi data from crossref and altmetric \",df1.count(),\"\\n\")\n",
    "  df = scop.join(df1, 'doi','inner')\n",
    "  df = df.withColumn(\"news_cnt\", df[\"news_cnt\"].cast(IntegerType()))\n",
    "  return df\n",
    "\n",
    "from pyspark.sql.functions import lower\n",
    "\n",
    "df_ani = spark.read.format(\"parquet\").load(basePath+tablename_ani)\n",
    "\n",
    "display(\"len of df_ani \",df_ani.count(),\"\\n\")\n",
    "dd = df_ani.withColumn('language', first(df_ani['meta_language']))\n",
    "d1 = dd.withColumn('language_s', lower(dd['language']))\n",
    "\n",
    "d2 = d1.filter(func.col('language_s') == 'english')\n",
    "display(\"len of df_ani in english \",d2.count(),\"\\n\")\n",
    "\n",
    "with_news = merge_news_cnt(d2)\n",
    "display(\"merged data len between crossref and scopus \",with_news.count(),\"\\n\")\n",
    "\n",
    "newdf = extract_publication_info(with_news)\n",
    "\n",
    "df_class = get_smc_classification(newdf)\n",
    "final_data = get_gender(df_class)\n",
    "display(final_data.count(),\"\\n\")\n",
    "final_data2 = final_data.dropna(subset=[\"doi\"])\n",
    "display(final_data2.count(),\"\\n\")\n",
    "\n",
    "##extracting sci_val topic for each publication\n",
    "df_top_eids = spark.read.format(\"parquet\").load(basePath+tablename_top_topic_eid)\n",
    "\n",
    "final_data3 = final_data2.join(df_top_eids,'Eid','inner')\n",
    "#display(final_data3.count())\n",
    "display(final_data3.limit(10))"
   ]
  },
  {
   "cell_type": "code",
   "execution_count": 0,
   "metadata": {
    "application/vnd.databricks.v1+cell": {
     "cellMetadata": {
      "byteLimit": 2048000,
      "rowLimit": 10000
     },
     "inputWidgets": {},
     "nuid": "32f62eef-042f-4464-9253-05232756e1c6",
     "showTitle": false,
     "title": ""
    }
   },
   "outputs": [
    {
     "output_type": "stream",
     "name": "stdout",
     "output_type": "stream",
     "text": [
      "'len of merged data between src '106414'\\n''len of data whose cor_gender is not unknown '63943'\\n'"
     ]
    },
    {
     "output_type": "display_data",
     "data": {
      "text/html": [
       "<style scoped>\n",
       "  .table-result-container {\n",
       "    max-height: 300px;\n",
       "    overflow: auto;\n",
       "  }\n",
       "  table, th, td {\n",
       "    border: 1px solid black;\n",
       "    border-collapse: collapse;\n",
       "  }\n",
       "  th, td {\n",
       "    padding: 5px;\n",
       "  }\n",
       "  th {\n",
       "    text-align: left;\n",
       "  }\n",
       "</style><div class='table-result-container'><table class='table-result'><thead style='background-color: white'><tr><th>metrics_calculations</th><th>sourcetitle</th><th>openaccess_status</th><th>srcid</th><th>doi</th><th>news_cnt</th><th>year</th><th>publication_type</th><th>issn</th><th>num_au</th><th>Au1_id</th><th>subfield_journal</th><th>Au1_gender</th><th>TopicId</th><th>cor_gender</th><th>cor_au1</th><th>correspondence</th><th>cor1_given_name</th><th>SJR_lst</th><th>year_SJR</th><th>pos</th><th>SJR</th><th>cor_af</th><th>cor_coun</th><th>country_name</th></tr></thead><tbody><tr><td>List(List(null, null, 0.0, 0.0, null, 0, 0.0, Complete, 1996, 0, 0), List(null, null, 0.0, 0.0, null, 0, 0.0, Complete, 1997, 0, 0), List(null, null, 0.0, 0.0, null, 0, 0.0, Complete, 1998, 0, 0), List(null, null, 0.0, 0.0, null, 0, 0.0, Complete, 1999, 0, 0), List(null, null, 0.0, 0.0, null, 0, 0.0, Complete, 2000, 0, 0), List(null, null, 0.0, 0.0, null, 0, 0.0, Complete, 2001, 0, 0), List(null, null, 0.0, 0.0, null, 0, 0.0, Complete, 2002, 0, 0), List(null, null, 0.0, 0.0, null, 0, 0.0, Complete, 2003, 0, 0), List(null, null, 0.0, 0.0, null, 0, 0.0, Complete, 2004, 0, 0), List(null, null, 0.0, 0.0, null, 0, 0.0, Complete, 2005, 0, 0), List(null, null, 0.0, 0.0, null, 0, 0.0, Complete, 2006, 0, 0), List(null, null, 7.0, 7.0, null, 1, 0.0, Complete, 2007, 0, 0), List(null, null, 5.0, 5.0, null, 0, 0.0, Complete, 2008, 0, 0), List(null, null, 10.0, 6.0, null, 74, 5.41, Complete, 2009, 2, 2), List(0.333, 0.718, 158.0, 117.0, null, 144, 5.56, Complete, 2010, 1, 1), List(0.533, 1.351, 416.0, 359.0, List(List(334, 1.1, 46, 295, List(List(1900, List(154, 62), 60)))), 140, 4.29, Complete, 2011, 2, 2), List(0.99, 1.759, 1192.0, 840.0, List(List(1426, 2.7, 74, 522, List(List(1900, List(162, 22), 86)))), 186, 1.08, Complete, 2012, 0, 2), List(1.127, 1.96, 2376.0, 1635.0, List(List(2872, 3.7, 70, 781, List(List(1900, List(167, 14), 91)))), 362, 1.66, Complete, 2013, 2, 4), List(1.275, 1.856, 3852.0, 2957.0, List(List(4417, 3.9, 67, 1128, List(List(1900, List(170, 17), 90)))), 541, 2.4, Complete, 2014, 3, 6), List(1.349, 1.691, 6816.0, 5235.0, List(List(7153, 4.3, 68, 1671, List(List(1900, List(171, 17), 90)))), 778, 1.29, Complete, 2015, 11, 17), List(1.309, 1.737, 10734.0, 8565.0, List(List(12359, 5.2, 78, 2389, List(List(1900, List(174, 17), 90)))), 1032, 1.26, Complete, 2016, 7, 10), List(1.386, 1.642, 16744.0, 13315.0, List(List(18595, 5.3, 74, 3529, List(List(1900, List(183, 15), 92)))), 1322, 0.98, Complete, 2017, 13, 20), List(1.43, 1.93, 27112.0, 21110.0, List(List(28083, 5.6, 74, 4977, List(List(1900, List(184, 16), 91)))), 2072, 1.74, Complete, 2018, 30, 43), List(1.422, 1.813, 43460.0, 32478.0, List(List(43255, 6.1, 75, 7040, List(List(1900, List(187, 15), 92)))), 3051, 1.54, Complete, 2019, 30, 61), List(1.285, 1.705, 64197.0, 47199.0, List(List(65645, 6.6, 76, 9965, List(List(1900, List(186, 18), 90)))), 4193, 2.1, Complete, 2020, 94, 173), List(1.283, 1.546, 91210.0, 69962.0, List(List(102139, 7.4, 77, 13890, List(List(1900, List(191, 17), 91)))), 5146, 1.87, Complete, 2021, 341, 657), List(null, null, 125221.0, 98706.0, List(List(143194, 7.9, 79, 18092, List(List(1900, List(196, 18), 91)))), 6346, 1.89, In-Progress, 2022, 2299, 3207), List(null, null, 34205.0, 27897.0, null, 1459, 2.19, In-Progress, 2023, 1356, 1412))</td><td>Remote Sensing</td><td>YES</td><td>86430</td><td>10.3390/rs11202418</td><td>0</td><td>2019</td><td>ar</td><td>20724292</td><td>7</td><td>57210823248</td><td>geological & geomatics engineering</td><td>male</td><td>395</td><td>male</td><td>57210823248</td><td>List(List(esp, null))</td><td>Pablo</td><td>List(null, null, null, null, null, null, null, null, null, null, null, null, null, null, 0.333, 0.533, 0.99, 1.127, 1.275, 1.349, 1.309, 1.386, 1.43, 1.422, 1.285, 1.283, null, null)</td><td>List(1996, 1997, 1998, 1999, 2000, 2001, 2002, 2003, 2004, 2005, 2006, 2007, 2008, 2009, 2010, 2011, 2012, 2013, 2014, 2015, 2016, 2017, 2018, 2019, 2020, 2021, 2022, 2023)</td><td>24</td><td>1.422</td><td>List(esp, null)</td><td>esp</td><td>Spain</td></tr><tr><td>List(List(null, null, 1475.0, 1472.0, null, 44, 68.18, Complete, 1996, 2, 2), List(null, null, 1545.0, 1544.0, null, 24, 0.0, Complete, 1997, 0, 0), List(null, null, 1521.0, 1519.0, null, 25, 0.0, Complete, 1998, 1, 1), List(3.871, 1.32, 1708.0, 1696.0, null, 48, 0.0, Complete, 1999, 2, 2), List(5.09, 1.386, 2030.0, 2023.0, null, 47, 0.0, Complete, 2000, 1, 1), List(2.998, 1.352, 2138.0, 2113.0, null, 52, 0.0, Complete, 2001, 0, 0), List(3.693, 1.374, 2429.0, 2403.0, null, 57, 0.0, Complete, 2002, 0, 0), List(2.968, 1.165, 2495.0, 2466.0, null, 57, 31.58, Complete, 2003, 3, 3), List(4.936, 1.591, 2964.0, 2940.0, null, 56, 17.86, Complete, 2004, 1, 1), List(4.44, 1.445, 3283.0, 3263.0, null, 56, 89.29, Complete, 2005, 2, 2), List(4.192, 1.686, 3589.0, 3575.0, null, 52, 88.46, Complete, 2006, 0, 1), List(4.987, 1.843, 3869.0, 3829.0, null, 55, 89.09, Complete, 2007, 1, 1), List(5.172, 1.848, 4143.0, 4095.0, null, 55, 89.09, Complete, 2008, 0, 0), List(5.193, 1.937, 4331.0, 4261.0, null, 56, 89.29, Complete, 2009, 2, 2), List(3.842, 1.591, 4503.0, 4447.0, null, 55, 89.09, Complete, 2010, 0, 0), List(4.342, 1.53, 4603.0, 4581.0, List(List(2658, 13.8, 85, 193, List(List(1306, List(173, 12), 93)))), 51, 88.24, Complete, 2011, 2, 2), List(4.243, 1.948, 5489.0, 5423.0, List(List(2604, 13.2, 92, 198, List(List(1306, List(178, 12), 93)))), 59, 91.53, Complete, 2012, 1, 1), List(5.11, 2.116, 5798.0, 5722.0, List(List(2830, 13.6, 95, 208, List(List(1306, List(185, 13), 93)))), 66, 89.39, Complete, 2013, 0, 0), List(4.937, 2.328, 6192.0, 6144.0, List(List(3333, 15.9, 95, 210, List(List(1306, List(192, 8), 96)))), 57, 89.47, Complete, 2014, 1, 1), List(6.164, 2.539, 6782.0, 6636.0, List(List(4430, 18.3, 98, 242, List(List(1306, List(199, 5), 97)))), 84, 91.67, Complete, 2015, 1, 1), List(4.615, 2.021, 6740.0, 6690.0, List(List(4106, 18.2, 99, 226, List(List(1306, List(196, 5), 97)))), 43, 90.7, Complete, 2016, 2, 2), List(4.175, 2.287, 6927.0, 6821.0, List(List(4294, 17.5, 96, 245, List(List(1306, List(195, 6), 97)))), 87, 88.51, Complete, 2017, 3, 3), List(3.259, 2.038, 7510.0, 7346.0, List(List(4743, 15.6, 95, 304, List(List(1306, List(194, 8), 96)))), 118, 93.22, Complete, 2018, 3, 3), List(3.476, 1.943, 8774.0, 8649.0, List(List(4606, 14.8, 98, 311, List(List(1306, List(198, 11), 94)))), 104, 91.35, Complete, 2019, 4, 4), List(3.908, 2.445, 10883.0, 10707.0, List(List(7686, 18.1, 97, 424, List(List(1306, List(207, 10), 95)))), 160, 90.0, Complete, 2020, 5, 5), List(2.91, 2.535, 14530.0, 14282.0, List(List(11369, 21.1, 99, 538, List(List(1306, List(210, 8), 96)))), 203, 38.42, Complete, 2021, 6, 6), List(null, null, 17293.0, 16678.0, List(List(16086, 19.9, 95, 810, List(List(2700, List(5370, 226), 95), List(1306, List(216, 15), 93)))), 386, 95.6, In-Progress, 2022, 22, 25), List(null, null, 4777.0, 4703.0, null, 39, 94.87, In-Progress, 2023, 31, 32))</td><td>Seminars in Cancer Biology</td><td>NO</td><td>24046</td><td>10.1016/j.semcancer.2022.03.008</td><td>0</td><td>2022</td><td>re</td><td>1044579X</td><td>10</td><td>57212036947</td><td>oncology & carcinogenesis</td><td>male</td><td>8485</td><td>male</td><td>36869148200</td><td>List(List(ind, null))</td><td>Nissar Ahmad</td><td>List(null, null, null, 3.871, 5.09, 2.998, 3.693, 2.968, 4.936, 4.44, 4.192, 4.987, 5.172, 5.193, 3.842, 4.342, 4.243, 5.11, 4.937, 6.164, 4.615, 4.175, 3.259, 3.476, 3.908, 2.91, null, null)</td><td>List(1996, 1997, 1998, 1999, 2000, 2001, 2002, 2003, 2004, 2005, 2006, 2007, 2008, 2009, 2010, 2011, 2012, 2013, 2014, 2015, 2016, 2017, 2018, 2019, 2020, 2021, 2022, 2023)</td><td>27</td><td>null</td><td>List(ind, null)</td><td>ind</td><td>India</td></tr><tr><td>List(List(null, null, 3863.0, 3328.0, null, 259, 0.77, Complete, 1996, 10, 12), List(null, null, 4012.0, 3392.0, null, 332, 0.6, Complete, 1997, 10, 11), List(null, null, 5090.0, 4364.0, null, 345, 0.29, Complete, 1998, 8, 11), List(1.0, 1.249, 6965.0, 5703.0, null, 599, 0.67, Complete, 1999, 36, 40), List(1.045, 0.995, 7572.0, 6288.0, null, 530, 0.38, Complete, 2000, 25, 25), List(1.012, 1.054, 9542.0, 7740.0, null, 619, 2.42, Complete, 2001, 18, 19), List(1.132, 1.006, 10380.0, 9093.0, null, 466, 1.29, Complete, 2002, 10, 11), List(1.153, 1.121, 12288.0, 10447.0, null, 658, 5.47, Complete, 2003, 16, 17), List(1.17, 1.147, 13671.0, 11748.0, null, 646, 0.46, Complete, 2004, 7, 7), List(1.219, 1.067, 16492.0, 14489.0, null, 652, 1.38, Complete, 2005, 12, 15), List(1.328, 1.176, 19340.0, 16222.0, null, 985, 2.13, Complete, 2006, 18, 22), List(1.299, 1.14, 21498.0, 17567.0, null, 1118, 3.85, Complete, 2007, 23, 26), List(1.355, 1.069, 24898.0, 21120.0, null, 993, 4.63, Complete, 2008, 23, 27), List(1.453, 1.24, 29322.0, 24486.0, null, 1242, 4.11, Complete, 2009, 48, 51), List(1.663, 1.22, 31662.0, 27301.0, null, 1195, 3.93, Complete, 2010, 31, 36), List(1.744, 1.272, 37652.0, 32199.0, List(List(27313, 6.1, 77, 4487, List(List(3400, List(135, 1), 99), List(2739, List(415, 12), 97), List(2725, List(220, 29), 87), List(2700, List(3161, 513), 83), List(2400, List(36, 10), 73), List(1313, List(145, 41), 72)))), 1381, 3.84, Complete, 2011, 42, 45), List(1.656, 1.157, 42337.0, 37040.0, List(List(30527, 6.5, 81, 4686, List(List(3400, List(142, 1), 99), List(2739, List(428, 13), 97), List(2725, List(230, 31), 86), List(2700, List(3199, 492), 84), List(2400, List(39, 10), 75), List(1313, List(147, 42), 71)))), 1198, 10.27, Complete, 2012, 35, 39), List(1.752, 1.113, 41986.0, 37623.0, List(List(30220, 6.7, 82, 4497, List(List(3400, List(144, 1), 99), List(2739, List(438, 18), 96), List(2725, List(237, 29), 87), List(2700, List(3233, 500), 84), List(2400, List(41, 10), 76), List(1313, List(149, 44), 70)))), 1037, 16.01, Complete, 2013, 21, 28), List(2.105, 1.218, 45457.0, 40852.0, List(List(30374, 7.0, 82, 4368, List(List(3400, List(146, 1), 99), List(2739, List(441, 15), 96), List(2725, List(245, 26), 89), List(2700, List(3264, 462), 85), List(2400, List(42, 10), 77), List(1313, List(153, 38), 75)))), 1054, 6.64, Complete, 2014, 16, 22), List(2.073, 1.245, 43292.0, 38170.0, List(List(27647, 6.6, 79, 4166, List(List(3400, List(148, 1), 99), List(2739, List(446, 23), 94), List(2725, List(249, 32), 87), List(2700, List(3276, 524), 84), List(1313, List(154, 39), 75), List(2400, List(42, 11), 75)))), 1167, 8.91, Complete, 2015, 37, 44), List(1.985, 1.153, 43281.0, 39347.0, List(List(24846, 6.3, 80, 3948, List(List(3400, List(150, 2), 99), List(2739, List(469, 26), 94), List(2725, List(257, 40), 84), List(2400, List(40, 9), 78), List(1313, List(157, 50), 68)))), 975, 5.85, Complete, 2016, 21, 24), List(1.863, 1.141, 45927.0, 41430.0, List(List(23747, 6.0, 80, 3929, List(List(3400, List(165, 2), 99), List(2739, List(492, 33), 93), List(2725, List(274, 45), 83), List(2400, List(40, 8), 81), List(1313, List(166, 57), 65)))), 1054, 7.12, Complete, 2017, 37, 41), List(1.759, 1.199, 44661.0, 39965.0, List(List(22806, 5.7, 78, 3976, List(List(3400, List(171, 2), 99), List(2739, List(500, 43), 91), List(2725, List(275, 46), 83), List(2400, List(40, 10), 76), List(1313, List(167, 56), 66)))), 1119, 5.18, Complete, 2018, 26, 30), List(1.683, 1.186, 46412.0, 41807.0, List(List(21069, 5.5, 80, 3855, List(List(3400, List(178, 3), 98), List(2739, List(516, 51), 90), List(2725, List(283, 54), 81), List(2400, List(45, 11), 76), List(1313, List(165, 64), 61)))), 1036, 7.05, Complete, 2019, 51, 62), List(1.585, 1.265, 50054.0, 45167.0, List(List(22509, 5.6, 79, 3999, List(List(3400, List(183, 5), 97), List(2739, List(526, 66), 87), List(2400, List(45, 12), 74), List(2725, List(288, 79), 72), List(1313, List(167, 72), 57)))), 1139, 7.46, Complete, 2020, 92, 107), List(1.392, 1.395, 60314.0, 56219.0, List(List(26565, 6.7, 81, 3947, List(List(3400, List(183, 5), 97), List(2739, List(562, 59), 89), List(2400, List(56, 10), 83), List(2725, List(295, 67), 77), List(1313, List(167, 62), 63)))), 1024, 7.91, Complete, 2021, 148, 164), List(null, null, 58546.0, 55311.0, List(List(29008, 7.6, 81, 3801, List(List(3400, List(190, 4), 98), List(2739, List(593, 60), 89), List(2400, List(58, 10), 83), List(2725, List(317, 65), 79), List(2700, List(5370, 1230), 77), List(1313, List(173, 55), 68)))), 1010, 4.65, In-Progress, 2022, 403, 445), List(null, null, 13409.0, 12368.0, null, 321, 4.67, In-Progress, 2023, 301, 302))</td><td>Vaccine</td><td>NO</td><td>21376</td><td>10.1016/j.vaccine.2020.02.015</td><td>0</td><td>2020</td><td>ar</td><td>0264410X</td><td>13</td><td>6507407738</td><td>virology</td><td>female</td><td>2071</td><td>female</td><td>6507407738</td><td>List(List(gbr, null))</td><td>Margo</td><td>List(null, null, null, 1.0, 1.045, 1.012, 1.132, 1.153, 1.17, 1.219, 1.328, 1.299, 1.355, 1.453, 1.663, 1.744, 1.656, 1.752, 2.105, 2.073, 1.985, 1.863, 1.759, 1.683, 1.585, 1.392, null, null)</td><td>List(1996, 1997, 1998, 1999, 2000, 2001, 2002, 2003, 2004, 2005, 2006, 2007, 2008, 2009, 2010, 2011, 2012, 2013, 2014, 2015, 2016, 2017, 2018, 2019, 2020, 2021, 2022, 2023)</td><td>25</td><td>1.585</td><td>List(gbr, null)</td><td>gbr</td><td>United Kingdom</td></tr><tr><td>List(List(null, null, 0.0, 0.0, null, 0, 0.0, Complete, 1996, 0, 0), List(null, null, 0.0, 0.0, null, 0, 0.0, Complete, 1997, 0, 0), List(null, null, 0.0, 0.0, null, 0, 0.0, Complete, 1998, 0, 0), List(null, null, 0.0, 0.0, null, 0, 0.0, Complete, 1999, 0, 0), List(null, null, 2.0, 2.0, null, 0, 0.0, Complete, 2000, 0, 0), List(null, null, 43.0, 35.0, null, 71, 2.82, Complete, 2001, 1, 1), List(0.559, 0.84, 196.0, 164.0, null, 104, 3.85, Complete, 2002, 0, 0), List(0.776, 1.079, 540.0, 444.0, null, 144, 3.47, Complete, 2003, 3, 3), List(1.05, 1.111, 1007.0, 832.0, null, 206, 2.91, Complete, 2004, 3, 3), List(1.218, 1.486, 2038.0, 1680.0, null, 330, 1.52, Complete, 2005, 3, 3), List(1.433, 1.553, 3689.0, 2901.0, null, 465, 1.08, Complete, 2006, 1, 1), List(1.476, 1.603, 5297.0, 4493.0, null, 466, 2.15, Complete, 2007, 4, 4), List(1.557, 1.6, 7931.0, 6611.0, null, 752, 0.27, Complete, 2008, 6, 6), List(1.532, 1.534, 12023.0, 10002.0, null, 793, 0.63, Complete, 2009, 3, 4), List(1.567, 1.401, 15692.0, 13296.0, null, 748, 0.13, Complete, 2010, 3, 4), List(1.472, 1.556, 20007.0, 17403.0, List(List(22524, 7.5, 81, 2997, List(List(2500, List(393, 18), 95), List(3104, List(383, 18), 95), List(1600, List(351, 20), 94)))), 741, 0.81, Complete, 2011, 4, 5), List(1.573, 1.564, 23774.0, 20624.0, List(List(23832, 7.9, 81, 3032, List(List(3104, List(387, 18), 95), List(2500, List(408, 21), 94), List(1600, List(359, 23), 93)))), 783, 0.77, Complete, 2012, 7, 7), List(1.333, 1.441, 26425.0, 23795.0, List(List(23129, 8.0, 83, 2906, List(List(3104, List(388, 20), 94), List(2500, List(420, 26), 93), List(1600, List(366, 24), 93)))), 670, 0.3, Complete, 2013, 7, 8), List(1.361, 1.468, 28917.0, 25844.0, List(List(23083, 7.9, 81, 2935, List(List(3104, List(395, 18), 95), List(1600, List(373, 24), 93), List(2500, List(430, 28), 93)))), 776, 0.13, Complete, 2014, 6, 10), List(1.261, 1.308, 29251.0, 26555.0, List(List(23145, 7.9, 83, 2915, List(List(3104, List(401, 20), 95), List(2500, List(437, 32), 92), List(1600, List(376, 29), 92)))), 718, 0.42, Complete, 2015, 7, 7), List(1.177, 1.22, 28699.0, 25538.0, List(List(21074, 7.0, 80, 2995, List(List(3104, List(402, 29), 92), List(1600, List(370, 38), 89), List(2500, List(435, 45), 89)))), 856, 1.05, Complete, 2016, 8, 11), List(1.154, 1.102, 29855.0, 26966.0, List(List(21519, 7.1, 83, 3052, List(List(3104, List(395, 26), 93), List(1600, List(369, 41), 89), List(2500, List(444, 53), 88)))), 778, 1.16, Complete, 2017, 8, 9), List(1.046, 1.112, 31280.0, 27870.0, List(List(21377, 6.7, 81, 3206, List(List(3104, List(398, 37), 90), List(2500, List(440, 63), 85), List(1600, List(375, 55), 85)))), 879, 1.25, Complete, 2018, 9, 12), List(1.004, 1.127, 32157.0, 29012.0, List(List(23058, 7.0, 82, 3306, List(List(3104, List(403, 37), 90), List(1600, List(398, 54), 86), List(2500, List(460, 67), 85)))), 837, 1.55, Complete, 2019, 27, 31), List(0.966, 1.097, 33800.0, 30523.0, List(List(22752, 6.9, 82, 3303, List(List(3104, List(411, 49), 88), List(1600, List(398, 63), 84), List(2500, List(455, 77), 83)))), 858, 1.4, Complete, 2020, 30, 38), List(0.745, 0.988, 35421.0, 32377.0, List(List(22864, 7.0, 83, 3258, List(List(3104, List(415, 58), 86), List(1600, List(409, 79), 80), List(2500, List(455, 94), 79)))), 731, 2.6, Complete, 2021, 51, 69), List(null, null, 35815.0, 32448.0, List(List(20839, 6.6, 83, 3134, List(List(3104, List(422, 82), 80), List(1600, List(407, 99), 75), List(2500, List(454, 118), 74)))), 833, 3.48, In-Progress, 2022, 368, 394), List(null, null, 9377.0, 8585.0, null, 231, 1.3, In-Progress, 2023, 204, 210))</td><td>Crystal Growth and Design</td><td>NO</td><td>24672</td><td>10.1021/acs.cgd.9b01448</td><td>0</td><td>2020</td><td>ar</td><td>15287483</td><td>6</td><td>7103373993</td><td>inorganic & nuclear chemistry</td><td>unknown</td><td>9888</td><td>female</td><td>55622689000</td><td>List(List(chn, null))</td><td>Zhen-Zhen</td><td>List(null, null, null, null, null, null, 0.559, 0.776, 1.05, 1.218, 1.433, 1.476, 1.557, 1.532, 1.567, 1.472, 1.573, 1.333, 1.361, 1.261, 1.177, 1.154, 1.046, 1.004, 0.966, 0.745, null, null)</td><td>List(1996, 1997, 1998, 1999, 2000, 2001, 2002, 2003, 2004, 2005, 2006, 2007, 2008, 2009, 2010, 2011, 2012, 2013, 2014, 2015, 2016, 2017, 2018, 2019, 2020, 2021, 2022, 2023)</td><td>25</td><td>0.966</td><td>List(chn, null)</td><td>chn</td><td>China</td></tr><tr><td>List(List(null, null, 0.0, 0.0, null, 0, 0.0, Complete, 1996, 0, 0), List(null, null, 2.0, 2.0, null, 0, 0.0, Complete, 1997, 0, 0), List(null, null, 0.0, 0.0, null, 0, 0.0, Complete, 1998, 0, 0), List(null, null, 0.0, 0.0, null, 0, 0.0, Complete, 1999, 0, 0), List(null, null, 0.0, 0.0, null, 0, 0.0, Complete, 2000, 0, 0), List(null, null, 5.0, 5.0, null, 20, 5.0, Complete, 2001, 0, 0), List(0.522, 0.612, 36.0, 34.0, null, 37, 0.0, Complete, 2002, 0, 0), List(0.664, 0.569, 132.0, 128.0, null, 33, 12.12, Complete, 2003, 0, 0), List(0.975, 0.827, 295.0, 287.0, null, 98, 5.1, Complete, 2004, 0, 0), List(1.082, 0.696, 599.0, 583.0, null, 165, 1.82, Complete, 2005, 0, 0), List(1.06, 0.742, 1239.0, 1201.0, null, 298, 1.68, Complete, 2006, 0, 0), List(1.274, 0.883, 2346.0, 2303.0, null, 238, 0.42, Complete, 2007, 2, 2), List(1.531, 0.959, 3417.0, 3332.0, null, 396, 1.01, Complete, 2008, 1, 1), List(1.437, 1.077, 4838.0, 4717.0, null, 466, 0.86, Complete, 2009, 0, 0), List(1.508, 1.117, 7031.0, 6805.0, null, 697, 0.0, Complete, 2010, 0, 0), List(1.541, 1.081, 9660.0, 9458.0, List(List(10452, 5.0, 74, 2080, List(List(2730, List(273, 58), 78), List(1311, List(283, 81), 71), List(1306, List(173, 61), 65)))), 530, 1.13, Complete, 2011, 1, 2), List(1.654, 1.222, 12757.0, 12548.0, List(List(12889, 5.6, 73, 2307, List(List(2730, List(288, 64), 77), List(1311, List(287, 76), 73), List(1306, List(178, 63), 64)))), 627, 0.8, Complete, 2012, 1, 1), List(1.694, 1.297, 15304.0, 15108.0, List(List(15043, 6.1, 76, 2458, List(List(2730, List(296, 57), 80), List(1311, List(291, 75), 74), List(1306, List(185, 58), 68)))), 618, 0.32, Complete, 2013, 3, 3), List(1.719, 1.263, 18211.0, 17797.0, List(List(13976, 5.3, 71, 2660, List(List(2730, List(310, 83), 73), List(1311, List(296, 102), 65), List(1306, List(192, 77), 60)))), 996, 0.2, Complete, 2014, 7, 7), List(1.652, 1.156, 21231.0, 20779.0, List(List(16291, 5.1, 71, 3169, List(List(2730, List(319, 93), 71), List(1311, List(299, 105), 65), List(1306, List(199, 84), 58)))), 1031, 0.19, Complete, 2015, 5, 5), List(1.488, 1.102, 24131.0, 23705.0, List(List(19106, 5.4, 75, 3516, List(List(2730, List(325, 94), 71), List(1311, List(306, 95), 69), List(1306, List(196, 83), 57)))), 949, 0.63, Complete, 2016, 15, 16), List(1.464, 1.112, 26644.0, 26253.0, List(List(22535, 5.9, 78, 3842, List(List(2730, List(334, 90), 73), List(1311, List(319, 93), 71), List(1306, List(195, 79), 59)))), 906, 0.44, Complete, 2017, 10, 10), List(1.336, 1.072, 28634.0, 28093.0, List(List(20598, 5.0, 72, 4137, List(List(2730, List(323, 108), 66), List(1311, List(321, 116), 64), List(1306, List(194, 92), 52)))), 1300, 1.46, Complete, 2018, 22, 22), List(1.186, 1.015, 32399.0, 31838.0, List(List(20334, 4.7, 72, 4346, List(List(2730, List(331, 119), 64), List(1311, List(324, 139), 57), List(1306, List(198, 102), 48)))), 1273, 4.63, Complete, 2019, 28, 28), List(1.358, 1.178, 39361.0, 38836.0, List(List(25070, 5.4, 76, 4614, List(List(2730, List(340, 107), 68), List(1311, List(325, 112), 65), List(1306, List(207, 96), 53)))), 1220, 3.28, Complete, 2020, 41, 43), List(1.134, 1.308, 47363.0, 46710.0, List(List(34007, 6.7, 78, 5045, List(List(2730, List(360, 87), 75), List(1311, List(335, 97), 71), List(1306, List(210, 82), 61)))), 1356, 0.37, Complete, 2021, 136, 150), List(null, null, 48863.0, 48153.0, List(List(34454, 6.8, 78, 5102, List(List(2700, List(5370, 1537), 71), List(2730, List(371, 109), 70), List(1311, List(343, 108), 68), List(1306, List(216, 95), 56)))), 1372, 0.0, In-Progress, 2022, 692, 706), List(null, null, 12377.0, 12261.0, null, 284, 0.0, In-Progress, 2023, 276, 278))</td><td>BMC Cancer</td><td>YES</td><td>28747</td><td>10.1186/s12885-022-09198-9</td><td>0</td><td>2022</td><td>ar</td><td>14712407</td><td>5</td><td>54401285700</td><td>oncology & carcinogenesis</td><td>female</td><td>16933</td><td>female</td><td>54401285700</td><td>List(List(chn, null))</td><td>Xiaoya</td><td>List(null, null, null, null, null, null, 0.522, 0.664, 0.975, 1.082, 1.06, 1.274, 1.531, 1.437, 1.508, 1.541, 1.654, 1.694, 1.719, 1.652, 1.488, 1.464, 1.336, 1.186, 1.358, 1.134, null, null)</td><td>List(1996, 1997, 1998, 1999, 2000, 2001, 2002, 2003, 2004, 2005, 2006, 2007, 2008, 2009, 2010, 2011, 2012, 2013, 2014, 2015, 2016, 2017, 2018, 2019, 2020, 2021, 2022, 2023)</td><td>27</td><td>null</td><td>List(chn, null)</td><td>chn</td><td>China</td></tr></tbody></table></div>"
      ]
     },
     "metadata": {
      "application/vnd.databricks.v1+output": {
       "addedWidgets": {},
       "aggData": [],
       "aggError": "",
       "aggOverflow": false,
       "aggSchema": [],
       "aggSeriesLimitReached": false,
       "aggType": "",
       "arguments": {},
       "columnCustomDisplayInfos": {},
       "data": [
        [
         [
          [
           null,
           null,
           0.0,
           0.0,
           null,
           0,
           0.0,
           "Complete",
           1996,
           0,
           0
          ],
          [
           null,
           null,
           0.0,
           0.0,
           null,
           0,
           0.0,
           "Complete",
           1997,
           0,
           0
          ],
          [
           null,
           null,
           0.0,
           0.0,
           null,
           0,
           0.0,
           "Complete",
           1998,
           0,
           0
          ],
          [
           null,
           null,
           0.0,
           0.0,
           null,
           0,
           0.0,
           "Complete",
           1999,
           0,
           0
          ],
          [
           null,
           null,
           0.0,
           0.0,
           null,
           0,
           0.0,
           "Complete",
           2000,
           0,
           0
          ],
          [
           null,
           null,
           0.0,
           0.0,
           null,
           0,
           0.0,
           "Complete",
           2001,
           0,
           0
          ],
          [
           null,
           null,
           0.0,
           0.0,
           null,
           0,
           0.0,
           "Complete",
           2002,
           0,
           0
          ],
          [
           null,
           null,
           0.0,
           0.0,
           null,
           0,
           0.0,
           "Complete",
           2003,
           0,
           0
          ],
          [
           null,
           null,
           0.0,
           0.0,
           null,
           0,
           0.0,
           "Complete",
           2004,
           0,
           0
          ],
          [
           null,
           null,
           0.0,
           0.0,
           null,
           0,
           0.0,
           "Complete",
           2005,
           0,
           0
          ],
          [
           null,
           null,
           0.0,
           0.0,
           null,
           0,
           0.0,
           "Complete",
           2006,
           0,
           0
          ],
          [
           null,
           null,
           7.0,
           7.0,
           null,
           1,
           0.0,
           "Complete",
           2007,
           0,
           0
          ],
          [
           null,
           null,
           5.0,
           5.0,
           null,
           0,
           0.0,
           "Complete",
           2008,
           0,
           0
          ],
          [
           null,
           null,
           10.0,
           6.0,
           null,
           74,
           5.41,
           "Complete",
           2009,
           2,
           2
          ],
          [
           0.333,
           0.718,
           158.0,
           117.0,
           null,
           144,
           5.56,
           "Complete",
           2010,
           1,
           1
          ],
          [
           0.533,
           1.351,
           416.0,
           359.0,
           [
            [
             334,
             1.1,
             46,
             295,
             [
              [
               1900,
               [
                154,
                62
               ],
               60
              ]
             ]
            ]
           ],
           140,
           4.29,
           "Complete",
           2011,
           2,
           2
          ],
          [
           0.99,
           1.759,
           1192.0,
           840.0,
           [
            [
             1426,
             2.7,
             74,
             522,
             [
              [
               1900,
               [
                162,
                22
               ],
               86
              ]
             ]
            ]
           ],
           186,
           1.08,
           "Complete",
           2012,
           0,
           2
          ],
          [
           1.127,
           1.96,
           2376.0,
           1635.0,
           [
            [
             2872,
             3.7,
             70,
             781,
             [
              [
               1900,
               [
                167,
                14
               ],
               91
              ]
             ]
            ]
           ],
           362,
           1.66,
           "Complete",
           2013,
           2,
           4
          ],
          [
           1.275,
           1.856,
           3852.0,
           2957.0,
           [
            [
             4417,
             3.9,
             67,
             1128,
             [
              [
               1900,
               [
                170,
                17
               ],
               90
              ]
             ]
            ]
           ],
           541,
           2.4,
           "Complete",
           2014,
           3,
           6
          ],
          [
           1.349,
           1.691,
           6816.0,
           5235.0,
           [
            [
             7153,
             4.3,
             68,
             1671,
             [
              [
               1900,
               [
                171,
                17
               ],
               90
              ]
             ]
            ]
           ],
           778,
           1.29,
           "Complete",
           2015,
           11,
           17
          ],
          [
           1.309,
           1.737,
           10734.0,
           8565.0,
           [
            [
             12359,
             5.2,
             78,
             2389,
             [
              [
               1900,
               [
                174,
                17
               ],
               90
              ]
             ]
            ]
           ],
           1032,
           1.26,
           "Complete",
           2016,
           7,
           10
          ],
          [
           1.386,
           1.642,
           16744.0,
           13315.0,
           [
            [
             18595,
             5.3,
             74,
             3529,
             [
              [
               1900,
               [
                183,
                15
               ],
               92
              ]
             ]
            ]
           ],
           1322,
           0.98,
           "Complete",
           2017,
           13,
           20
          ],
          [
           1.43,
           1.93,
           27112.0,
           21110.0,
           [
            [
             28083,
             5.6,
             74,
             4977,
             [
              [
               1900,
               [
                184,
                16
               ],
               91
              ]
             ]
            ]
           ],
           2072,
           1.74,
           "Complete",
           2018,
           30,
           43
          ],
          [
           1.422,
           1.813,
           43460.0,
           32478.0,
           [
            [
             43255,
             6.1,
             75,
             7040,
             [
              [
               1900,
               [
                187,
                15
               ],
               92
              ]
             ]
            ]
           ],
           3051,
           1.54,
           "Complete",
           2019,
           30,
           61
          ],
          [
           1.285,
           1.705,
           64197.0,
           47199.0,
           [
            [
             65645,
             6.6,
             76,
             9965,
             [
              [
               1900,
               [
                186,
                18
               ],
               90
              ]
             ]
            ]
           ],
           4193,
           2.1,
           "Complete",
           2020,
           94,
           173
          ],
          [
           1.283,
           1.546,
           91210.0,
           69962.0,
           [
            [
             102139,
             7.4,
             77,
             13890,
             [
              [
               1900,
               [
                191,
                17
               ],
               91
              ]
             ]
            ]
           ],
           5146,
           1.87,
           "Complete",
           2021,
           341,
           657
          ],
          [
           null,
           null,
           125221.0,
           98706.0,
           [
            [
             143194,
             7.9,
             79,
             18092,
             [
              [
               1900,
               [
                196,
                18
               ],
               91
              ]
             ]
            ]
           ],
           6346,
           1.89,
           "In-Progress",
           2022,
           2299,
           3207
          ],
          [
           null,
           null,
           34205.0,
           27897.0,
           null,
           1459,
           2.19,
           "In-Progress",
           2023,
           1356,
           1412
          ]
         ],
         "Remote Sensing",
         "YES",
         86430,
         "10.3390/rs11202418",
         0,
         2019,
         "ar",
         "20724292",
         7,
         57210823248,
         "geological & geomatics engineering",
         "male",
         395,
         "male",
         57210823248,
         [
          [
           "esp",
           null
          ]
         ],
         "Pablo",
         [
          null,
          null,
          null,
          null,
          null,
          null,
          null,
          null,
          null,
          null,
          null,
          null,
          null,
          null,
          0.333,
          0.533,
          0.99,
          1.127,
          1.275,
          1.349,
          1.309,
          1.386,
          1.43,
          1.422,
          1.285,
          1.283,
          null,
          null
         ],
         [
          1996,
          1997,
          1998,
          1999,
          2000,
          2001,
          2002,
          2003,
          2004,
          2005,
          2006,
          2007,
          2008,
          2009,
          2010,
          2011,
          2012,
          2013,
          2014,
          2015,
          2016,
          2017,
          2018,
          2019,
          2020,
          2021,
          2022,
          2023
         ],
         24,
         1.422,
         [
          "esp",
          null
         ],
         "esp",
         "Spain"
        ],
        [
         [
          [
           null,
           null,
           1475.0,
           1472.0,
           null,
           44,
           68.18,
           "Complete",
           1996,
           2,
           2
          ],
          [
           null,
           null,
           1545.0,
           1544.0,
           null,
           24,
           0.0,
           "Complete",
           1997,
           0,
           0
          ],
          [
           null,
           null,
           1521.0,
           1519.0,
           null,
           25,
           0.0,
           "Complete",
           1998,
           1,
           1
          ],
          [
           3.871,
           1.32,
           1708.0,
           1696.0,
           null,
           48,
           0.0,
           "Complete",
           1999,
           2,
           2
          ],
          [
           5.09,
           1.386,
           2030.0,
           2023.0,
           null,
           47,
           0.0,
           "Complete",
           2000,
           1,
           1
          ],
          [
           2.998,
           1.352,
           2138.0,
           2113.0,
           null,
           52,
           0.0,
           "Complete",
           2001,
           0,
           0
          ],
          [
           3.693,
           1.374,
           2429.0,
           2403.0,
           null,
           57,
           0.0,
           "Complete",
           2002,
           0,
           0
          ],
          [
           2.968,
           1.165,
           2495.0,
           2466.0,
           null,
           57,
           31.58,
           "Complete",
           2003,
           3,
           3
          ],
          [
           4.936,
           1.591,
           2964.0,
           2940.0,
           null,
           56,
           17.86,
           "Complete",
           2004,
           1,
           1
          ],
          [
           4.44,
           1.445,
           3283.0,
           3263.0,
           null,
           56,
           89.29,
           "Complete",
           2005,
           2,
           2
          ],
          [
           4.192,
           1.686,
           3589.0,
           3575.0,
           null,
           52,
           88.46,
           "Complete",
           2006,
           0,
           1
          ],
          [
           4.987,
           1.843,
           3869.0,
           3829.0,
           null,
           55,
           89.09,
           "Complete",
           2007,
           1,
           1
          ],
          [
           5.172,
           1.848,
           4143.0,
           4095.0,
           null,
           55,
           89.09,
           "Complete",
           2008,
           0,
           0
          ],
          [
           5.193,
           1.937,
           4331.0,
           4261.0,
           null,
           56,
           89.29,
           "Complete",
           2009,
           2,
           2
          ],
          [
           3.842,
           1.591,
           4503.0,
           4447.0,
           null,
           55,
           89.09,
           "Complete",
           2010,
           0,
           0
          ],
          [
           4.342,
           1.53,
           4603.0,
           4581.0,
           [
            [
             2658,
             13.8,
             85,
             193,
             [
              [
               1306,
               [
                173,
                12
               ],
               93
              ]
             ]
            ]
           ],
           51,
           88.24,
           "Complete",
           2011,
           2,
           2
          ],
          [
           4.243,
           1.948,
           5489.0,
           5423.0,
           [
            [
             2604,
             13.2,
             92,
             198,
             [
              [
               1306,
               [
                178,
                12
               ],
               93
              ]
             ]
            ]
           ],
           59,
           91.53,
           "Complete",
           2012,
           1,
           1
          ],
          [
           5.11,
           2.116,
           5798.0,
           5722.0,
           [
            [
             2830,
             13.6,
             95,
             208,
             [
              [
               1306,
               [
                185,
                13
               ],
               93
              ]
             ]
            ]
           ],
           66,
           89.39,
           "Complete",
           2013,
           0,
           0
          ],
          [
           4.937,
           2.328,
           6192.0,
           6144.0,
           [
            [
             3333,
             15.9,
             95,
             210,
             [
              [
               1306,
               [
                192,
                8
               ],
               96
              ]
             ]
            ]
           ],
           57,
           89.47,
           "Complete",
           2014,
           1,
           1
          ],
          [
           6.164,
           2.539,
           6782.0,
           6636.0,
           [
            [
             4430,
             18.3,
             98,
             242,
             [
              [
               1306,
               [
                199,
                5
               ],
               97
              ]
             ]
            ]
           ],
           84,
           91.67,
           "Complete",
           2015,
           1,
           1
          ],
          [
           4.615,
           2.021,
           6740.0,
           6690.0,
           [
            [
             4106,
             18.2,
             99,
             226,
             [
              [
               1306,
               [
                196,
                5
               ],
               97
              ]
             ]
            ]
           ],
           43,
           90.7,
           "Complete",
           2016,
           2,
           2
          ],
          [
           4.175,
           2.287,
           6927.0,
           6821.0,
           [
            [
             4294,
             17.5,
             96,
             245,
             [
              [
               1306,
               [
                195,
                6
               ],
               97
              ]
             ]
            ]
           ],
           87,
           88.51,
           "Complete",
           2017,
           3,
           3
          ],
          [
           3.259,
           2.038,
           7510.0,
           7346.0,
           [
            [
             4743,
             15.6,
             95,
             304,
             [
              [
               1306,
               [
                194,
                8
               ],
               96
              ]
             ]
            ]
           ],
           118,
           93.22,
           "Complete",
           2018,
           3,
           3
          ],
          [
           3.476,
           1.943,
           8774.0,
           8649.0,
           [
            [
             4606,
             14.8,
             98,
             311,
             [
              [
               1306,
               [
                198,
                11
               ],
               94
              ]
             ]
            ]
           ],
           104,
           91.35,
           "Complete",
           2019,
           4,
           4
          ],
          [
           3.908,
           2.445,
           10883.0,
           10707.0,
           [
            [
             7686,
             18.1,
             97,
             424,
             [
              [
               1306,
               [
                207,
                10
               ],
               95
              ]
             ]
            ]
           ],
           160,
           90.0,
           "Complete",
           2020,
           5,
           5
          ],
          [
           2.91,
           2.535,
           14530.0,
           14282.0,
           [
            [
             11369,
             21.1,
             99,
             538,
             [
              [
               1306,
               [
                210,
                8
               ],
               96
              ]
             ]
            ]
           ],
           203,
           38.42,
           "Complete",
           2021,
           6,
           6
          ],
          [
           null,
           null,
           17293.0,
           16678.0,
           [
            [
             16086,
             19.9,
             95,
             810,
             [
              [
               2700,
               [
                5370,
                226
               ],
               95
              ],
              [
               1306,
               [
                216,
                15
               ],
               93
              ]
             ]
            ]
           ],
           386,
           95.6,
           "In-Progress",
           2022,
           22,
           25
          ],
          [
           null,
           null,
           4777.0,
           4703.0,
           null,
           39,
           94.87,
           "In-Progress",
           2023,
           31,
           32
          ]
         ],
         "Seminars in Cancer Biology",
         "NO",
         24046,
         "10.1016/j.semcancer.2022.03.008",
         0,
         2022,
         "re",
         "1044579X",
         10,
         57212036947,
         "oncology & carcinogenesis",
         "male",
         8485,
         "male",
         36869148200,
         [
          [
           "ind",
           null
          ]
         ],
         "Nissar Ahmad",
         [
          null,
          null,
          null,
          3.871,
          5.09,
          2.998,
          3.693,
          2.968,
          4.936,
          4.44,
          4.192,
          4.987,
          5.172,
          5.193,
          3.842,
          4.342,
          4.243,
          5.11,
          4.937,
          6.164,
          4.615,
          4.175,
          3.259,
          3.476,
          3.908,
          2.91,
          null,
          null
         ],
         [
          1996,
          1997,
          1998,
          1999,
          2000,
          2001,
          2002,
          2003,
          2004,
          2005,
          2006,
          2007,
          2008,
          2009,
          2010,
          2011,
          2012,
          2013,
          2014,
          2015,
          2016,
          2017,
          2018,
          2019,
          2020,
          2021,
          2022,
          2023
         ],
         27,
         null,
         [
          "ind",
          null
         ],
         "ind",
         "India"
        ],
        [
         [
          [
           null,
           null,
           3863.0,
           3328.0,
           null,
           259,
           0.77,
           "Complete",
           1996,
           10,
           12
          ],
          [
           null,
           null,
           4012.0,
           3392.0,
           null,
           332,
           0.6,
           "Complete",
           1997,
           10,
           11
          ],
          [
           null,
           null,
           5090.0,
           4364.0,
           null,
           345,
           0.29,
           "Complete",
           1998,
           8,
           11
          ],
          [
           1.0,
           1.249,
           6965.0,
           5703.0,
           null,
           599,
           0.67,
           "Complete",
           1999,
           36,
           40
          ],
          [
           1.045,
           0.995,
           7572.0,
           6288.0,
           null,
           530,
           0.38,
           "Complete",
           2000,
           25,
           25
          ],
          [
           1.012,
           1.054,
           9542.0,
           7740.0,
           null,
           619,
           2.42,
           "Complete",
           2001,
           18,
           19
          ],
          [
           1.132,
           1.006,
           10380.0,
           9093.0,
           null,
           466,
           1.29,
           "Complete",
           2002,
           10,
           11
          ],
          [
           1.153,
           1.121,
           12288.0,
           10447.0,
           null,
           658,
           5.47,
           "Complete",
           2003,
           16,
           17
          ],
          [
           1.17,
           1.147,
           13671.0,
           11748.0,
           null,
           646,
           0.46,
           "Complete",
           2004,
           7,
           7
          ],
          [
           1.219,
           1.067,
           16492.0,
           14489.0,
           null,
           652,
           1.38,
           "Complete",
           2005,
           12,
           15
          ],
          [
           1.328,
           1.176,
           19340.0,
           16222.0,
           null,
           985,
           2.13,
           "Complete",
           2006,
           18,
           22
          ],
          [
           1.299,
           1.14,
           21498.0,
           17567.0,
           null,
           1118,
           3.85,
           "Complete",
           2007,
           23,
           26
          ],
          [
           1.355,
           1.069,
           24898.0,
           21120.0,
           null,
           993,
           4.63,
           "Complete",
           2008,
           23,
           27
          ],
          [
           1.453,
           1.24,
           29322.0,
           24486.0,
           null,
           1242,
           4.11,
           "Complete",
           2009,
           48,
           51
          ],
          [
           1.663,
           1.22,
           31662.0,
           27301.0,
           null,
           1195,
           3.93,
           "Complete",
           2010,
           31,
           36
          ],
          [
           1.744,
           1.272,
           37652.0,
           32199.0,
           [
            [
             27313,
             6.1,
             77,
             4487,
             [
              [
               3400,
               [
                135,
                1
               ],
               99
              ],
              [
               2739,
               [
                415,
                12
               ],
               97
              ],
              [
               2725,
               [
                220,
                29
               ],
               87
              ],
              [
               2700,
               [
                3161,
                513
               ],
               83
              ],
              [
               2400,
               [
                36,
                10
               ],
               73
              ],
              [
               1313,
               [
                145,
                41
               ],
               72
              ]
             ]
            ]
           ],
           1381,
           3.84,
           "Complete",
           2011,
           42,
           45
          ],
          [
           1.656,
           1.157,
           42337.0,
           37040.0,
           [
            [
             30527,
             6.5,
             81,
             4686,
             [
              [
               3400,
               [
                142,
                1
               ],
               99
              ],
              [
               2739,
               [
                428,
                13
               ],
               97
              ],
              [
               2725,
               [
                230,
                31
               ],
               86
              ],
              [
               2700,
               [
                3199,
                492
               ],
               84
              ],
              [
               2400,
               [
                39,
                10
               ],
               75
              ],
              [
               1313,
               [
                147,
                42
               ],
               71
              ]
             ]
            ]
           ],
           1198,
           10.27,
           "Complete",
           2012,
           35,
           39
          ],
          [
           1.752,
           1.113,
           41986.0,
           37623.0,
           [
            [
             30220,
             6.7,
             82,
             4497,
             [
              [
               3400,
               [
                144,
                1
               ],
               99
              ],
              [
               2739,
               [
                438,
                18
               ],
               96
              ],
              [
               2725,
               [
                237,
                29
               ],
               87
              ],
              [
               2700,
               [
                3233,
                500
               ],
               84
              ],
              [
               2400,
               [
                41,
                10
               ],
               76
              ],
              [
               1313,
               [
                149,
                44
               ],
               70
              ]
             ]
            ]
           ],
           1037,
           16.01,
           "Complete",
           2013,
           21,
           28
          ],
          [
           2.105,
           1.218,
           45457.0,
           40852.0,
           [
            [
             30374,
             7.0,
             82,
             4368,
             [
              [
               3400,
               [
                146,
                1
               ],
               99
              ],
              [
               2739,
               [
                441,
                15
               ],
               96
              ],
              [
               2725,
               [
                245,
                26
               ],
               89
              ],
              [
               2700,
               [
                3264,
                462
               ],
               85
              ],
              [
               2400,
               [
                42,
                10
               ],
               77
              ],
              [
               1313,
               [
                153,
                38
               ],
               75
              ]
             ]
            ]
           ],
           1054,
           6.64,
           "Complete",
           2014,
           16,
           22
          ],
          [
           2.073,
           1.245,
           43292.0,
           38170.0,
           [
            [
             27647,
             6.6,
             79,
             4166,
             [
              [
               3400,
               [
                148,
                1
               ],
               99
              ],
              [
               2739,
               [
                446,
                23
               ],
               94
              ],
              [
               2725,
               [
                249,
                32
               ],
               87
              ],
              [
               2700,
               [
                3276,
                524
               ],
               84
              ],
              [
               1313,
               [
                154,
                39
               ],
               75
              ],
              [
               2400,
               [
                42,
                11
               ],
               75
              ]
             ]
            ]
           ],
           1167,
           8.91,
           "Complete",
           2015,
           37,
           44
          ],
          [
           1.985,
           1.153,
           43281.0,
           39347.0,
           [
            [
             24846,
             6.3,
             80,
             3948,
             [
              [
               3400,
               [
                150,
                2
               ],
               99
              ],
              [
               2739,
               [
                469,
                26
               ],
               94
              ],
              [
               2725,
               [
                257,
                40
               ],
               84
              ],
              [
               2400,
               [
                40,
                9
               ],
               78
              ],
              [
               1313,
               [
                157,
                50
               ],
               68
              ]
             ]
            ]
           ],
           975,
           5.85,
           "Complete",
           2016,
           21,
           24
          ],
          [
           1.863,
           1.141,
           45927.0,
           41430.0,
           [
            [
             23747,
             6.0,
             80,
             3929,
             [
              [
               3400,
               [
                165,
                2
               ],
               99
              ],
              [
               2739,
               [
                492,
                33
               ],
               93
              ],
              [
               2725,
               [
                274,
                45
               ],
               83
              ],
              [
               2400,
               [
                40,
                8
               ],
               81
              ],
              [
               1313,
               [
                166,
                57
               ],
               65
              ]
             ]
            ]
           ],
           1054,
           7.12,
           "Complete",
           2017,
           37,
           41
          ],
          [
           1.759,
           1.199,
           44661.0,
           39965.0,
           [
            [
             22806,
             5.7,
             78,
             3976,
             [
              [
               3400,
               [
                171,
                2
               ],
               99
              ],
              [
               2739,
               [
                500,
                43
               ],
               91
              ],
              [
               2725,
               [
                275,
                46
               ],
               83
              ],
              [
               2400,
               [
                40,
                10
               ],
               76
              ],
              [
               1313,
               [
                167,
                56
               ],
               66
              ]
             ]
            ]
           ],
           1119,
           5.18,
           "Complete",
           2018,
           26,
           30
          ],
          [
           1.683,
           1.186,
           46412.0,
           41807.0,
           [
            [
             21069,
             5.5,
             80,
             3855,
             [
              [
               3400,
               [
                178,
                3
               ],
               98
              ],
              [
               2739,
               [
                516,
                51
               ],
               90
              ],
              [
               2725,
               [
                283,
                54
               ],
               81
              ],
              [
               2400,
               [
                45,
                11
               ],
               76
              ],
              [
               1313,
               [
                165,
                64
               ],
               61
              ]
             ]
            ]
           ],
           1036,
           7.05,
           "Complete",
           2019,
           51,
           62
          ],
          [
           1.585,
           1.265,
           50054.0,
           45167.0,
           [
            [
             22509,
             5.6,
             79,
             3999,
             [
              [
               3400,
               [
                183,
                5
               ],
               97
              ],
              [
               2739,
               [
                526,
                66
               ],
               87
              ],
              [
               2400,
               [
                45,
                12
               ],
               74
              ],
              [
               2725,
               [
                288,
                79
               ],
               72
              ],
              [
               1313,
               [
                167,
                72
               ],
               57
              ]
             ]
            ]
           ],
           1139,
           7.46,
           "Complete",
           2020,
           92,
           107
          ],
          [
           1.392,
           1.395,
           60314.0,
           56219.0,
           [
            [
             26565,
             6.7,
             81,
             3947,
             [
              [
               3400,
               [
                183,
                5
               ],
               97
              ],
              [
               2739,
               [
                562,
                59
               ],
               89
              ],
              [
               2400,
               [
                56,
                10
               ],
               83
              ],
              [
               2725,
               [
                295,
                67
               ],
               77
              ],
              [
               1313,
               [
                167,
                62
               ],
               63
              ]
             ]
            ]
           ],
           1024,
           7.91,
           "Complete",
           2021,
           148,
           164
          ],
          [
           null,
           null,
           58546.0,
           55311.0,
           [
            [
             29008,
             7.6,
             81,
             3801,
             [
              [
               3400,
               [
                190,
                4
               ],
               98
              ],
              [
               2739,
               [
                593,
                60
               ],
               89
              ],
              [
               2400,
               [
                58,
                10
               ],
               83
              ],
              [
               2725,
               [
                317,
                65
               ],
               79
              ],
              [
               2700,
               [
                5370,
                1230
               ],
               77
              ],
              [
               1313,
               [
                173,
                55
               ],
               68
              ]
             ]
            ]
           ],
           1010,
           4.65,
           "In-Progress",
           2022,
           403,
           445
          ],
          [
           null,
           null,
           13409.0,
           12368.0,
           null,
           321,
           4.67,
           "In-Progress",
           2023,
           301,
           302
          ]
         ],
         "Vaccine",
         "NO",
         21376,
         "10.1016/j.vaccine.2020.02.015",
         0,
         2020,
         "ar",
         "0264410X",
         13,
         6507407738,
         "virology",
         "female",
         2071,
         "female",
         6507407738,
         [
          [
           "gbr",
           null
          ]
         ],
         "Margo",
         [
          null,
          null,
          null,
          1.0,
          1.045,
          1.012,
          1.132,
          1.153,
          1.17,
          1.219,
          1.328,
          1.299,
          1.355,
          1.453,
          1.663,
          1.744,
          1.656,
          1.752,
          2.105,
          2.073,
          1.985,
          1.863,
          1.759,
          1.683,
          1.585,
          1.392,
          null,
          null
         ],
         [
          1996,
          1997,
          1998,
          1999,
          2000,
          2001,
          2002,
          2003,
          2004,
          2005,
          2006,
          2007,
          2008,
          2009,
          2010,
          2011,
          2012,
          2013,
          2014,
          2015,
          2016,
          2017,
          2018,
          2019,
          2020,
          2021,
          2022,
          2023
         ],
         25,
         1.585,
         [
          "gbr",
          null
         ],
         "gbr",
         "United Kingdom"
        ],
        [
         [
          [
           null,
           null,
           0.0,
           0.0,
           null,
           0,
           0.0,
           "Complete",
           1996,
           0,
           0
          ],
          [
           null,
           null,
           0.0,
           0.0,
           null,
           0,
           0.0,
           "Complete",
           1997,
           0,
           0
          ],
          [
           null,
           null,
           0.0,
           0.0,
           null,
           0,
           0.0,
           "Complete",
           1998,
           0,
           0
          ],
          [
           null,
           null,
           0.0,
           0.0,
           null,
           0,
           0.0,
           "Complete",
           1999,
           0,
           0
          ],
          [
           null,
           null,
           2.0,
           2.0,
           null,
           0,
           0.0,
           "Complete",
           2000,
           0,
           0
          ],
          [
           null,
           null,
           43.0,
           35.0,
           null,
           71,
           2.82,
           "Complete",
           2001,
           1,
           1
          ],
          [
           0.559,
           0.84,
           196.0,
           164.0,
           null,
           104,
           3.85,
           "Complete",
           2002,
           0,
           0
          ],
          [
           0.776,
           1.079,
           540.0,
           444.0,
           null,
           144,
           3.47,
           "Complete",
           2003,
           3,
           3
          ],
          [
           1.05,
           1.111,
           1007.0,
           832.0,
           null,
           206,
           2.91,
           "Complete",
           2004,
           3,
           3
          ],
          [
           1.218,
           1.486,
           2038.0,
           1680.0,
           null,
           330,
           1.52,
           "Complete",
           2005,
           3,
           3
          ],
          [
           1.433,
           1.553,
           3689.0,
           2901.0,
           null,
           465,
           1.08,
           "Complete",
           2006,
           1,
           1
          ],
          [
           1.476,
           1.603,
           5297.0,
           4493.0,
           null,
           466,
           2.15,
           "Complete",
           2007,
           4,
           4
          ],
          [
           1.557,
           1.6,
           7931.0,
           6611.0,
           null,
           752,
           0.27,
           "Complete",
           2008,
           6,
           6
          ],
          [
           1.532,
           1.534,
           12023.0,
           10002.0,
           null,
           793,
           0.63,
           "Complete",
           2009,
           3,
           4
          ],
          [
           1.567,
           1.401,
           15692.0,
           13296.0,
           null,
           748,
           0.13,
           "Complete",
           2010,
           3,
           4
          ],
          [
           1.472,
           1.556,
           20007.0,
           17403.0,
           [
            [
             22524,
             7.5,
             81,
             2997,
             [
              [
               2500,
               [
                393,
                18
               ],
               95
              ],
              [
               3104,
               [
                383,
                18
               ],
               95
              ],
              [
               1600,
               [
                351,
                20
               ],
               94
              ]
             ]
            ]
           ],
           741,
           0.81,
           "Complete",
           2011,
           4,
           5
          ],
          [
           1.573,
           1.564,
           23774.0,
           20624.0,
           [
            [
             23832,
             7.9,
             81,
             3032,
             [
              [
               3104,
               [
                387,
                18
               ],
               95
              ],
              [
               2500,
               [
                408,
                21
               ],
               94
              ],
              [
               1600,
               [
                359,
                23
               ],
               93
              ]
             ]
            ]
           ],
           783,
           0.77,
           "Complete",
           2012,
           7,
           7
          ],
          [
           1.333,
           1.441,
           26425.0,
           23795.0,
           [
            [
             23129,
             8.0,
             83,
             2906,
             [
              [
               3104,
               [
                388,
                20
               ],
               94
              ],
              [
               2500,
               [
                420,
                26
               ],
               93
              ],
              [
               1600,
               [
                366,
                24
               ],
               93
              ]
             ]
            ]
           ],
           670,
           0.3,
           "Complete",
           2013,
           7,
           8
          ],
          [
           1.361,
           1.468,
           28917.0,
           25844.0,
           [
            [
             23083,
             7.9,
             81,
             2935,
             [
              [
               3104,
               [
                395,
                18
               ],
               95
              ],
              [
               1600,
               [
                373,
                24
               ],
               93
              ],
              [
               2500,
               [
                430,
                28
               ],
               93
              ]
             ]
            ]
           ],
           776,
           0.13,
           "Complete",
           2014,
           6,
           10
          ],
          [
           1.261,
           1.308,
           29251.0,
           26555.0,
           [
            [
             23145,
             7.9,
             83,
             2915,
             [
              [
               3104,
               [
                401,
                20
               ],
               95
              ],
              [
               2500,
               [
                437,
                32
               ],
               92
              ],
              [
               1600,
               [
                376,
                29
               ],
               92
              ]
             ]
            ]
           ],
           718,
           0.42,
           "Complete",
           2015,
           7,
           7
          ],
          [
           1.177,
           1.22,
           28699.0,
           25538.0,
           [
            [
             21074,
             7.0,
             80,
             2995,
             [
              [
               3104,
               [
                402,
                29
               ],
               92
              ],
              [
               1600,
               [
                370,
                38
               ],
               89
              ],
              [
               2500,
               [
                435,
                45
               ],
               89
              ]
             ]
            ]
           ],
           856,
           1.05,
           "Complete",
           2016,
           8,
           11
          ],
          [
           1.154,
           1.102,
           29855.0,
           26966.0,
           [
            [
             21519,
             7.1,
             83,
             3052,
             [
              [
               3104,
               [
                395,
                26
               ],
               93
              ],
              [
               1600,
               [
                369,
                41
               ],
               89
              ],
              [
               2500,
               [
                444,
                53
               ],
               88
              ]
             ]
            ]
           ],
           778,
           1.16,
           "Complete",
           2017,
           8,
           9
          ],
          [
           1.046,
           1.112,
           31280.0,
           27870.0,
           [
            [
             21377,
             6.7,
             81,
             3206,
             [
              [
               3104,
               [
                398,
                37
               ],
               90
              ],
              [
               2500,
               [
                440,
                63
               ],
               85
              ],
              [
               1600,
               [
                375,
                55
               ],
               85
              ]
             ]
            ]
           ],
           879,
           1.25,
           "Complete",
           2018,
           9,
           12
          ],
          [
           1.004,
           1.127,
           32157.0,
           29012.0,
           [
            [
             23058,
             7.0,
             82,
             3306,
             [
              [
               3104,
               [
                403,
                37
               ],
               90
              ],
              [
               1600,
               [
                398,
                54
               ],
               86
              ],
              [
               2500,
               [
                460,
                67
               ],
               85
              ]
             ]
            ]
           ],
           837,
           1.55,
           "Complete",
           2019,
           27,
           31
          ],
          [
           0.966,
           1.097,
           33800.0,
           30523.0,
           [
            [
             22752,
             6.9,
             82,
             3303,
             [
              [
               3104,
               [
                411,
                49
               ],
               88
              ],
              [
               1600,
               [
                398,
                63
               ],
               84
              ],
              [
               2500,
               [
                455,
                77
               ],
               83
              ]
             ]
            ]
           ],
           858,
           1.4,
           "Complete",
           2020,
           30,
           38
          ],
          [
           0.745,
           0.988,
           35421.0,
           32377.0,
           [
            [
             22864,
             7.0,
             83,
             3258,
             [
              [
               3104,
               [
                415,
                58
               ],
               86
              ],
              [
               1600,
               [
                409,
                79
               ],
               80
              ],
              [
               2500,
               [
                455,
                94
               ],
               79
              ]
             ]
            ]
           ],
           731,
           2.6,
           "Complete",
           2021,
           51,
           69
          ],
          [
           null,
           null,
           35815.0,
           32448.0,
           [
            [
             20839,
             6.6,
             83,
             3134,
             [
              [
               3104,
               [
                422,
                82
               ],
               80
              ],
              [
               1600,
               [
                407,
                99
               ],
               75
              ],
              [
               2500,
               [
                454,
                118
               ],
               74
              ]
             ]
            ]
           ],
           833,
           3.48,
           "In-Progress",
           2022,
           368,
           394
          ],
          [
           null,
           null,
           9377.0,
           8585.0,
           null,
           231,
           1.3,
           "In-Progress",
           2023,
           204,
           210
          ]
         ],
         "Crystal Growth and Design",
         "NO",
         24672,
         "10.1021/acs.cgd.9b01448",
         0,
         2020,
         "ar",
         "15287483",
         6,
         7103373993,
         "inorganic & nuclear chemistry",
         "unknown",
         9888,
         "female",
         55622689000,
         [
          [
           "chn",
           null
          ]
         ],
         "Zhen-Zhen",
         [
          null,
          null,
          null,
          null,
          null,
          null,
          0.559,
          0.776,
          1.05,
          1.218,
          1.433,
          1.476,
          1.557,
          1.532,
          1.567,
          1.472,
          1.573,
          1.333,
          1.361,
          1.261,
          1.177,
          1.154,
          1.046,
          1.004,
          0.966,
          0.745,
          null,
          null
         ],
         [
          1996,
          1997,
          1998,
          1999,
          2000,
          2001,
          2002,
          2003,
          2004,
          2005,
          2006,
          2007,
          2008,
          2009,
          2010,
          2011,
          2012,
          2013,
          2014,
          2015,
          2016,
          2017,
          2018,
          2019,
          2020,
          2021,
          2022,
          2023
         ],
         25,
         0.966,
         [
          "chn",
          null
         ],
         "chn",
         "China"
        ],
        [
         [
          [
           null,
           null,
           0.0,
           0.0,
           null,
           0,
           0.0,
           "Complete",
           1996,
           0,
           0
          ],
          [
           null,
           null,
           2.0,
           2.0,
           null,
           0,
           0.0,
           "Complete",
           1997,
           0,
           0
          ],
          [
           null,
           null,
           0.0,
           0.0,
           null,
           0,
           0.0,
           "Complete",
           1998,
           0,
           0
          ],
          [
           null,
           null,
           0.0,
           0.0,
           null,
           0,
           0.0,
           "Complete",
           1999,
           0,
           0
          ],
          [
           null,
           null,
           0.0,
           0.0,
           null,
           0,
           0.0,
           "Complete",
           2000,
           0,
           0
          ],
          [
           null,
           null,
           5.0,
           5.0,
           null,
           20,
           5.0,
           "Complete",
           2001,
           0,
           0
          ],
          [
           0.522,
           0.612,
           36.0,
           34.0,
           null,
           37,
           0.0,
           "Complete",
           2002,
           0,
           0
          ],
          [
           0.664,
           0.569,
           132.0,
           128.0,
           null,
           33,
           12.12,
           "Complete",
           2003,
           0,
           0
          ],
          [
           0.975,
           0.827,
           295.0,
           287.0,
           null,
           98,
           5.1,
           "Complete",
           2004,
           0,
           0
          ],
          [
           1.082,
           0.696,
           599.0,
           583.0,
           null,
           165,
           1.82,
           "Complete",
           2005,
           0,
           0
          ],
          [
           1.06,
           0.742,
           1239.0,
           1201.0,
           null,
           298,
           1.68,
           "Complete",
           2006,
           0,
           0
          ],
          [
           1.274,
           0.883,
           2346.0,
           2303.0,
           null,
           238,
           0.42,
           "Complete",
           2007,
           2,
           2
          ],
          [
           1.531,
           0.959,
           3417.0,
           3332.0,
           null,
           396,
           1.01,
           "Complete",
           2008,
           1,
           1
          ],
          [
           1.437,
           1.077,
           4838.0,
           4717.0,
           null,
           466,
           0.86,
           "Complete",
           2009,
           0,
           0
          ],
          [
           1.508,
           1.117,
           7031.0,
           6805.0,
           null,
           697,
           0.0,
           "Complete",
           2010,
           0,
           0
          ],
          [
           1.541,
           1.081,
           9660.0,
           9458.0,
           [
            [
             10452,
             5.0,
             74,
             2080,
             [
              [
               2730,
               [
                273,
                58
               ],
               78
              ],
              [
               1311,
               [
                283,
                81
               ],
               71
              ],
              [
               1306,
               [
                173,
                61
               ],
               65
              ]
             ]
            ]
           ],
           530,
           1.13,
           "Complete",
           2011,
           1,
           2
          ],
          [
           1.654,
           1.222,
           12757.0,
           12548.0,
           [
            [
             12889,
             5.6,
             73,
             2307,
             [
              [
               2730,
               [
                288,
                64
               ],
               77
              ],
              [
               1311,
               [
                287,
                76
               ],
               73
              ],
              [
               1306,
               [
                178,
                63
               ],
               64
              ]
             ]
            ]
           ],
           627,
           0.8,
           "Complete",
           2012,
           1,
           1
          ],
          [
           1.694,
           1.297,
           15304.0,
           15108.0,
           [
            [
             15043,
             6.1,
             76,
             2458,
             [
              [
               2730,
               [
                296,
                57
               ],
               80
              ],
              [
               1311,
               [
                291,
                75
               ],
               74
              ],
              [
               1306,
               [
                185,
                58
               ],
               68
              ]
             ]
            ]
           ],
           618,
           0.32,
           "Complete",
           2013,
           3,
           3
          ],
          [
           1.719,
           1.263,
           18211.0,
           17797.0,
           [
            [
             13976,
             5.3,
             71,
             2660,
             [
              [
               2730,
               [
                310,
                83
               ],
               73
              ],
              [
               1311,
               [
                296,
                102
               ],
               65
              ],
              [
               1306,
               [
                192,
                77
               ],
               60
              ]
             ]
            ]
           ],
           996,
           0.2,
           "Complete",
           2014,
           7,
           7
          ],
          [
           1.652,
           1.156,
           21231.0,
           20779.0,
           [
            [
             16291,
             5.1,
             71,
             3169,
             [
              [
               2730,
               [
                319,
                93
               ],
               71
              ],
              [
               1311,
               [
                299,
                105
               ],
               65
              ],
              [
               1306,
               [
                199,
                84
               ],
               58
              ]
             ]
            ]
           ],
           1031,
           0.19,
           "Complete",
           2015,
           5,
           5
          ],
          [
           1.488,
           1.102,
           24131.0,
           23705.0,
           [
            [
             19106,
             5.4,
             75,
             3516,
             [
              [
               2730,
               [
                325,
                94
               ],
               71
              ],
              [
               1311,
               [
                306,
                95
               ],
               69
              ],
              [
               1306,
               [
                196,
                83
               ],
               57
              ]
             ]
            ]
           ],
           949,
           0.63,
           "Complete",
           2016,
           15,
           16
          ],
          [
           1.464,
           1.112,
           26644.0,
           26253.0,
           [
            [
             22535,
             5.9,
             78,
             3842,
             [
              [
               2730,
               [
                334,
                90
               ],
               73
              ],
              [
               1311,
               [
                319,
                93
               ],
               71
              ],
              [
               1306,
               [
                195,
                79
               ],
               59
              ]
             ]
            ]
           ],
           906,
           0.44,
           "Complete",
           2017,
           10,
           10
          ],
          [
           1.336,
           1.072,
           28634.0,
           28093.0,
           [
            [
             20598,
             5.0,
             72,
             4137,
             [
              [
               2730,
               [
                323,
                108
               ],
               66
              ],
              [
               1311,
               [
                321,
                116
               ],
               64
              ],
              [
               1306,
               [
                194,
                92
               ],
               52
              ]
             ]
            ]
           ],
           1300,
           1.46,
           "Complete",
           2018,
           22,
           22
          ],
          [
           1.186,
           1.015,
           32399.0,
           31838.0,
           [
            [
             20334,
             4.7,
             72,
             4346,
             [
              [
               2730,
               [
                331,
                119
               ],
               64
              ],
              [
               1311,
               [
                324,
                139
               ],
               57
              ],
              [
               1306,
               [
                198,
                102
               ],
               48
              ]
             ]
            ]
           ],
           1273,
           4.63,
           "Complete",
           2019,
           28,
           28
          ],
          [
           1.358,
           1.178,
           39361.0,
           38836.0,
           [
            [
             25070,
             5.4,
             76,
             4614,
             [
              [
               2730,
               [
                340,
                107
               ],
               68
              ],
              [
               1311,
               [
                325,
                112
               ],
               65
              ],
              [
               1306,
               [
                207,
                96
               ],
               53
              ]
             ]
            ]
           ],
           1220,
           3.28,
           "Complete",
           2020,
           41,
           43
          ],
          [
           1.134,
           1.308,
           47363.0,
           46710.0,
           [
            [
             34007,
             6.7,
             78,
             5045,
             [
              [
               2730,
               [
                360,
                87
               ],
               75
              ],
              [
               1311,
               [
                335,
                97
               ],
               71
              ],
              [
               1306,
               [
                210,
                82
               ],
               61
              ]
             ]
            ]
           ],
           1356,
           0.37,
           "Complete",
           2021,
           136,
           150
          ],
          [
           null,
           null,
           48863.0,
           48153.0,
           [
            [
             34454,
             6.8,
             78,
             5102,
             [
              [
               2700,
               [
                5370,
                1537
               ],
               71
              ],
              [
               2730,
               [
                371,
                109
               ],
               70
              ],
              [
               1311,
               [
                343,
                108
               ],
               68
              ],
              [
               1306,
               [
                216,
                95
               ],
               56
              ]
             ]
            ]
           ],
           1372,
           0.0,
           "In-Progress",
           2022,
           692,
           706
          ],
          [
           null,
           null,
           12377.0,
           12261.0,
           null,
           284,
           0.0,
           "In-Progress",
           2023,
           276,
           278
          ]
         ],
         "BMC Cancer",
         "YES",
         28747,
         "10.1186/s12885-022-09198-9",
         0,
         2022,
         "ar",
         "14712407",
         5,
         54401285700,
         "oncology & carcinogenesis",
         "female",
         16933,
         "female",
         54401285700,
         [
          [
           "chn",
           null
          ]
         ],
         "Xiaoya",
         [
          null,
          null,
          null,
          null,
          null,
          null,
          0.522,
          0.664,
          0.975,
          1.082,
          1.06,
          1.274,
          1.531,
          1.437,
          1.508,
          1.541,
          1.654,
          1.694,
          1.719,
          1.652,
          1.488,
          1.464,
          1.336,
          1.186,
          1.358,
          1.134,
          null,
          null
         ],
         [
          1996,
          1997,
          1998,
          1999,
          2000,
          2001,
          2002,
          2003,
          2004,
          2005,
          2006,
          2007,
          2008,
          2009,
          2010,
          2011,
          2012,
          2013,
          2014,
          2015,
          2016,
          2017,
          2018,
          2019,
          2020,
          2021,
          2022,
          2023
         ],
         27,
         null,
         [
          "chn",
          null
         ],
         "chn",
         "China"
        ]
       ],
       "datasetInfos": [],
       "dbfsResultPath": null,
       "isJsonSchema": true,
       "metadata": {},
       "overflow": false,
       "plotOptions": {
        "customPlotOptions": {},
        "displayType": "table",
        "pivotAggregation": null,
        "pivotColumns": null,
        "xColumns": null,
        "yColumns": null
       },
       "removedWidgets": [],
       "schema": [
        {
         "metadata": "{}",
         "name": "metrics_calculations",
         "type": "{\"type\":\"array\",\"elementType\":{\"type\":\"struct\",\"fields\":[{\"name\":\"SJR\",\"type\":\"double\",\"nullable\":true,\"metadata\":{}},{\"name\":\"SNIP\",\"type\":\"double\",\"nullable\":true,\"metadata\":{}},{\"name\":\"citations\",\"type\":\"double\",\"nullable\":true,\"metadata\":{}},{\"name\":\"citations-sce\",\"type\":\"double\",\"nullable\":true,\"metadata\":{}},{\"name\":\"cite-score-metrics\",\"type\":{\"type\":\"struct\",\"fields\":[{\"name\":\"all\",\"type\":{\"type\":\"struct\",\"fields\":[{\"name\":\"cs-citation-count\",\"type\":\"long\",\"nullable\":true,\"metadata\":{}},{\"name\":\"cs-citescore\",\"type\":\"double\",\"nullable\":true,\"metadata\":{}},{\"name\":\"cs-percent-cited\",\"type\":\"long\",\"nullable\":true,\"metadata\":{}},{\"name\":\"cs-scholarly-output\",\"type\":\"long\",\"nullable\":true,\"metadata\":{}},{\"name\":\"cs-subject-category\",\"type\":{\"type\":\"array\",\"elementType\":{\"type\":\"struct\",\"fields\":[{\"name\":\"asjc\",\"type\":\"long\",\"nullable\":true,\"metadata\":{}},{\"name\":\"cs-rank\",\"type\":{\"type\":\"struct\",\"fields\":[{\"name\":\"out-of\",\"type\":\"long\",\"nullable\":true,\"metadata\":{}},{\"name\":\"value\",\"type\":\"long\",\"nullable\":true,\"metadata\":{}}]},\"nullable\":true,\"metadata\":{}},{\"name\":\"percentile\",\"type\":\"long\",\"nullable\":true,\"metadata\":{}}]},\"containsNull\":true},\"nullable\":true,\"metadata\":{}}]},\"nullable\":true,\"metadata\":{}}]},\"nullable\":true,\"metadata\":{}},{\"name\":\"publications\",\"type\":\"long\",\"nullable\":true,\"metadata\":{}},{\"name\":\"revpercent\",\"type\":\"double\",\"nullable\":true,\"metadata\":{}},{\"name\":\"status\",\"type\":\"string\",\"nullable\":true,\"metadata\":{}},{\"name\":\"year\",\"type\":\"long\",\"nullable\":true,\"metadata\":{}},{\"name\":\"zero-cites\",\"type\":\"long\",\"nullable\":true,\"metadata\":{}},{\"name\":\"zero-cites-sce\",\"type\":\"long\",\"nullable\":true,\"metadata\":{}}]},\"containsNull\":true}"
        },
        {
         "metadata": "{}",
         "name": "sourcetitle",
         "type": "\"string\""
        },
        {
         "metadata": "{}",
         "name": "openaccess_status",
         "type": "\"string\""
        },
        {
         "metadata": "{}",
         "name": "srcid",
         "type": "\"long\""
        },
        {
         "metadata": "{}",
         "name": "doi",
         "type": "\"string\""
        },
        {
         "metadata": "{}",
         "name": "news_cnt",
         "type": "\"integer\""
        },
        {
         "metadata": "{}",
         "name": "year",
         "type": "\"integer\""
        },
        {
         "metadata": "{}",
         "name": "publication_type",
         "type": "\"string\""
        },
        {
         "metadata": "{}",
         "name": "issn",
         "type": "\"string\""
        },
        {
         "metadata": "{}",
         "name": "num_au",
         "type": "\"integer\""
        },
        {
         "metadata": "{}",
         "name": "Au1_id",
         "type": "\"long\""
        },
        {
         "metadata": "{}",
         "name": "subfield_journal",
         "type": "\"string\""
        },
        {
         "metadata": "{}",
         "name": "Au1_gender",
         "type": "\"string\""
        },
        {
         "metadata": "{}",
         "name": "TopicId",
         "type": "\"long\""
        },
        {
         "metadata": "{}",
         "name": "cor_gender",
         "type": "\"string\""
        },
        {
         "metadata": "{}",
         "name": "cor_au1",
         "type": "\"long\""
        },
        {
         "metadata": "{}",
         "name": "correspondence",
         "type": "{\"type\":\"array\",\"elementType\":{\"type\":\"struct\",\"fields\":[{\"name\":\"country\",\"type\":\"string\",\"nullable\":true,\"metadata\":{}},{\"name\":\"txt\",\"type\":\"string\",\"nullable\":true,\"metadata\":{}}]},\"containsNull\":true}"
        },
        {
         "metadata": "{}",
         "name": "cor1_given_name",
         "type": "\"string\""
        },
        {
         "metadata": "{}",
         "name": "SJR_lst",
         "type": "{\"type\":\"array\",\"elementType\":\"double\",\"containsNull\":true}"
        },
        {
         "metadata": "{}",
         "name": "year_SJR",
         "type": "{\"type\":\"array\",\"elementType\":\"long\",\"containsNull\":true}"
        },
        {
         "metadata": "{}",
         "name": "pos",
         "type": "\"integer\""
        },
        {
         "metadata": "{}",
         "name": "SJR",
         "type": "\"double\""
        },
        {
         "metadata": "{}",
         "name": "cor_af",
         "type": "{\"type\":\"struct\",\"fields\":[{\"name\":\"country\",\"type\":\"string\",\"nullable\":true,\"metadata\":{}},{\"name\":\"txt\",\"type\":\"string\",\"nullable\":true,\"metadata\":{}}]}"
        },
        {
         "metadata": "{}",
         "name": "cor_coun",
         "type": "\"string\""
        },
        {
         "metadata": "{}",
         "name": "country_name",
         "type": "\"string\""
        }
       ],
       "type": "table"
      }
     },
     "output_type": "display_data"
    }
   ],
   "source": [
    "import pyspark.sql.functions as F\n",
    "import pyspark.sql.column as C\n",
    "\n",
    "\n",
    "def find_sjr(met,yy,yr):\n",
    "\n",
    "  ylst = F.tolist(yy)\n",
    "\n",
    "  #index = ylst.index(yr)\n",
    "  #sjr = m[index]\n",
    "  return m\n",
    "\n",
    "\n",
    "df_sources = spark.read.format(\"parquet\").load(basePath+tablename_sources)\n",
    "\n",
    "data = final_data3.join(df_sources,'srcid','inner').select(df_sources.metrics_calculations,df_sources.sourcetitle,df_sources.openaccess_status,final_data3.srcid,final_data3.doi,final_data3.news_cnt,final_data3.year,\n",
    "final_data3.publication_type, final_data3.issn, final_data3.num_au,final_data3.Au1_id, final_data3.subfield_journal, final_data3.Au1_gender,final_data3.TopicId, \n",
    "final_data3.cor_gender,final_data3.cor_au1,final_data3.correspondence, final_data3.cor1_given_name)\n",
    "\n",
    "display(\"len of merged data between src \", data.count(),\"\\n\")\n",
    "\n",
    "data = data.withColumn('SJR_lst', F.col('metrics_calculations').getItem('SJR'))\n",
    "data = data.withColumn('year_SJR', F.col('metrics_calculations').getItem('year'))\n",
    "\n",
    "#data = data.withColumn('SJR', find_sjr(data['SJR_lst'],data['year_SJR'], data['year']))\n",
    "data = data.withColumn(\"pos\", F.expr(\"array_position(year_SJR, year)\"))\n",
    "\n",
    "\n",
    "data = data.withColumn(\"pos\", data[\"pos\"].cast(IntegerType()))  \n",
    "data = data.withColumn(\"SJR\", F.element_at(data['SJR_lst'], data['pos']))\n",
    "\n",
    "data = data.withColumn('cor_af', first(data['correspondence']))\n",
    "data = data.withColumn('cor_coun', F.col('cor_af').getItem('country'))\n",
    "\n",
    "\n",
    "\n",
    "import pycountry\n",
    "import pyspark.sql.functions as F\n",
    "\n",
    "def convert_country_short_name(country_short_name):\n",
    "  #country = pycountry.countries.get(alpha_2=country_short_name)\n",
    "  if len(country_short_name) == 3:\n",
    "    country = pycountry.countries.get(alpha_3=country_short_name)\n",
    "  else:\n",
    "    country = pycountry.countries.get(alpha_2=country_short_name)\n",
    "\n",
    "  return country.name if country else None\n",
    "\n",
    "@F.udf(returnType=F.StringType())\n",
    "def my_udf(country_short_name):\n",
    "  return convert_country_short_name(country_short_name)\n",
    "\n",
    "data = data.filter(F.col('cor_coun').isNotNull())\n",
    "data = data.withColumn(\"country_name\", my_udf(data[\"cor_coun\"]))\n",
    "#un_full_coun = un_name.withColumn(\"country_name\", my_udf(un_name[\"cor_coun\"]))\n",
    "\n",
    "\n",
    "\n",
    "val_data = data.filter(func.col('cor_gender') != 'unknown')\n",
    "\n",
    "#val_un = data.filter(func.col('cor_gender') == 'unknown')\n",
    "\n",
    "\n",
    "\n",
    "display(\"len of data whose cor_gender is not unknown \",val_data.count(),\"\\n\")\n",
    "\n",
    "display(val_data.limit(5),\"\\n\")"
   ]
  },
  {
   "cell_type": "code",
   "execution_count": 0,
   "metadata": {
    "application/vnd.databricks.v1+cell": {
     "cellMetadata": {
      "byteLimit": 2048000,
      "rowLimit": 10000
     },
     "inputWidgets": {},
     "nuid": "4aa275d4-8396-480e-aabd-05b7e1ae951c",
     "showTitle": false,
     "title": ""
    }
   },
   "outputs": [
    {
     "output_type": "stream",
     "name": "stdout",
     "output_type": "stream",
     "text": [
      "'len of unknown name '42136'\\n''len or merged gender with wos '27647'\\n'"
     ]
    }
   ],
   "source": [
    "#val_un = data.filter(func.col('cor_gender') == 'unknown')\n",
    "df_apr = spark.read.format(\"parquet\").load(basePath+tablename_apr)\n",
    "#un_full_coun = val_un.join(df_apr,val_un.cor_au1 == df_apr.auid,'inner')\n",
    "un_full_coun = data.filter(func.col('cor_gender') == 'unknown')\n",
    "\n",
    "display(\"len of unknown name \", un_full_coun.count(),\"\\n\")\n",
    "df_wos = spark.read.format(\"csv\").option(\"header\", \"true\").load(\"dbfs:/FileStore/shared_uploads/arabi2@wisc.edu/wos_gender_firstname.csv\")\n",
    "#df_wos.printSchema()\n",
    "#df_wos = df_wos.filter(func.col('country') == 'China')\n",
    "newfile = un_full_coun.join(df_wos,[un_full_coun.cor1_given_name == df_wos.givenname,un_full_coun.country_name == df_wos.country],'inner')\n",
    "display(\"len or merged gender with wos \", newfile.count(),\"\\n\")"
   ]
  },
  {
   "cell_type": "code",
   "execution_count": 0,
   "metadata": {
    "application/vnd.databricks.v1+cell": {
     "cellMetadata": {
      "byteLimit": 2048000,
      "rowLimit": 10000
     },
     "inputWidgets": {},
     "nuid": "6998e37e-4f7b-4355-84b0-f50f099ded18",
     "showTitle": false,
     "title": ""
    }
   },
   "outputs": [
    {
     "output_type": "stream",
     "name": "stdout",
     "output_type": "stream",
     "text": [
      "        srcid openaccess_status                              doi  news_cnt  \\\n0       23918                NO        10.1007/s11356-018-3496-7         0   \n1  4000148205                NO        10.1038/s41589-018-0133-1         0   \n2       14305                NO           10.1093/sysbio/syab077         1   \n3       27049                NO  10.1016/j.gloplacha.2020.103407         0   \n4       23350                NO               10.1039/c8cs00201k         0   \n\n   year      issn  num_au cor_gender  TopicId Au1_gender country_name     SJR  \\\n0  2019  09441344       4          M    17716    unknown      Algeria   0.788   \n1  2018  15524450       1          F    12864    unknown    Australia   7.485   \n2  2022  10635157       7          F     8566    unknown      Belgium     NaN   \n3  2021  09218181       4          M    31888    unknown      Belgium   1.371   \n4  2018  03060012      12          M      319       male      Austria  16.116   \n\n       cor_au1  \n0  55246627600  \n1  23392797600  \n2  57193557008  \n3   7004199709  \n4   6508309301  \n"
     ]
    }
   ],
   "source": [
    "ddf2 = newfile.drop(\"cor_gender\")\n",
    "ddf3 = ddf2.withColumnRenamed(\"gender\", \"cor_gender\")\n",
    "#ddf3.printSchema()\n",
    "#display(ddf3.select('cor_gender').distinct())\n",
    "ddf4 = ddf3.select('srcid','openaccess_status','doi','news_cnt','year','issn','num_au','cor_gender','TopicId','Au1_gender','country_name','SJR','cor_au1').toPandas()\n",
    "print(ddf4.head(5))"
   ]
  },
  {
   "cell_type": "code",
   "execution_count": 0,
   "metadata": {
    "application/vnd.databricks.v1+cell": {
     "cellMetadata": {
      "byteLimit": 2048000,
      "rowLimit": 10000
     },
     "inputWidgets": {},
     "nuid": "2b894451-b594-4671-81e6-eee298e23458",
     "showTitle": false,
     "title": ""
    }
   },
   "outputs": [
    {
     "output_type": "stream",
     "name": "stdout",
     "output_type": "stream",
     "text": [
      "63943'\\n'27647'\\n'91590'\\n'"
     ]
    }
   ],
   "source": [
    "ddfx = val_data.select('srcid','openaccess_status','doi','news_cnt','year','issn','num_au','cor_gender','TopicId','Au1_gender','country_name','SJR','cor_au1').toPandas()\n",
    "display(len(ddfx),\"\\n\")\n",
    "display(len(ddf4),\"\\n\")\n",
    "ddf = ddfx.append(ddf4, ignore_index = True)\n",
    "display(len(ddf),\"\\n\")"
   ]
  },
  {
   "cell_type": "code",
   "execution_count": 0,
   "metadata": {
    "application/vnd.databricks.v1+cell": {
     "cellMetadata": {
      "byteLimit": 2048000,
      "rowLimit": 10000
     },
     "inputWidgets": {},
     "nuid": "a9cb3215-b4fd-468b-b2de-2d6deabade38",
     "showTitle": false,
     "title": ""
    }
   },
   "outputs": [
    {
     "output_type": "stream",
     "name": "stdout",
     "output_type": "stream",
     "text": [
      "91588\n"
     ]
    }
   ],
   "source": [
    "smc = spark.read.format(\"csv\").option(\"header\", \"true\").load(\"dbfs:/FileStore/shared_uploads/arabi2@wisc.edu/sm_journal_classification.csv\")\n",
    "smc = smc.select('srcid','Field_English').toPandas()\n",
    "smc = smc.dropna()\n",
    "smc['srcid'] = smc['srcid'].astype(int)\n",
    "\n",
    "#print(smc.dtypes)\n",
    "total = smc.merge(ddf,on=['srcid'],how = 'inner')\n",
    "print(len(total))"
   ]
  },
  {
   "cell_type": "code",
   "execution_count": 0,
   "metadata": {
    "application/vnd.databricks.v1+cell": {
     "cellMetadata": {
      "byteLimit": 2048000,
      "rowLimit": 10000
     },
     "inputWidgets": {},
     "nuid": "72fad7c0-057b-460e-9215-8263d69c435d",
     "showTitle": false,
     "title": ""
    }
   },
   "outputs": [
    {
     "output_type": "stream",
     "name": "stdout",
     "output_type": "stream",
     "text": [
      "lenght of total  91588\nlenght of total after dropping null cor_au1  91588\n"
     ]
    },
    {
     "output_type": "display_data",
     "data": {
      "text/html": [
       "<style scoped>\n",
       "  .ansiout {\n",
       "    display: block;\n",
       "    unicode-bidi: embed;\n",
       "    white-space: pre-wrap;\n",
       "    word-wrap: break-word;\n",
       "    word-break: break-all;\n",
       "    font-family: \"Menlo\", \"Monaco\", \"Consolas\", \"Ubuntu Mono\", \"Source Code Pro\", monospace;\n",
       "    font-size: 13px;\n",
       "    color: #555;\n",
       "    margin-left: 4px;\n",
       "    line-height: 19px;\n",
       "  }\n",
       "</style>"
      ]
     },
     "metadata": {
      "application/vnd.databricks.v1+output": {
       "arguments": {},
       "data": "",
       "errorSummary": "Cancelled",
       "errorTraceType": "html",
       "metadata": {},
       "type": "ipynbError"
      }
     },
     "output_type": "display_data"
    }
   ],
   "source": [
    "df_ani = spark.read.format(\"parquet\").load(basePath+tablename_ani)\n",
    "a = df_ani.select('doi','Eid','year','Au','Au_cors')\n",
    "a = a.withColumn('Au_id', F.col('Au').getItem('auid'))\n",
    "a = a.select('year','Au_id').toPandas()\n",
    "a = a.dropna()\n",
    "\n",
    "def find(target_value):\n",
    "  new = a[a['Au_id'].apply(lambda lst: target_value in lst)]\n",
    "  #print(\"printing \")\n",
    "  #print(new)\n",
    "  return new['year'].min()\n",
    "\n",
    "print(\"lenght of total \",len(total))\n",
    "total = total.dropna(subset=['cor_au1'])\n",
    "print(\"lenght of total after dropping null cor_au1 \",len(total))\n",
    "\n",
    "total['min_yr'] = total['cor_au1'].apply(find)\n",
    "total['career_length'] = total['year'] - total['min_yr']"
   ]
  },
  {
   "cell_type": "markdown",
   "metadata": {
    "application/vnd.databricks.v1+cell": {
     "cellMetadata": {},
     "inputWidgets": {},
     "nuid": "93daaecb-dcdd-406a-8ca7-f9dd1560da41",
     "showTitle": false,
     "title": ""
    }
   },
   "source": [
    "# test only"
   ]
  },
  {
   "cell_type": "code",
   "execution_count": 0,
   "metadata": {
    "application/vnd.databricks.v1+cell": {
     "cellMetadata": {
      "byteLimit": 2048000,
      "rowLimit": 10000
     },
     "inputWidgets": {},
     "nuid": "b8b377c1-1709-4dd3-bbb4-d1afc490f2ff",
     "showTitle": false,
     "title": ""
    }
   },
   "outputs": [
    {
     "output_type": "stream",
     "name": "stdout",
     "output_type": "stream",
     "text": [
      "printing \n        year                                              Au_id  \\\n139071  2018  [35106076300.0, 56333567900.0, 7801445497.0, 1...   \n591371  2015  [35106076300.0, 36634914000.0, 56333567900.0, ...   \n786862  2020  [35106076300.0, 57204466811.0, 55768108105.0, ...   \n\n                              doi  \n139071    10.1001/jama.2018.18020  \n591371  10.1186/s12883-015-0294-4  \n786862          10.1002/mus.26887  \nprinting \n        year                                              Au_id  \\\n248694  2018  [6701842148.0, 7404040049.0, 57196845704.0, 74...   \n360573  2021  [56043547900.0, 7403882361.0, 36612565300.0, 5...   \n409266  2018         [7402540730.0, 7004341520.0, 7404040049.0]   \n553747  2018         [7402540730.0, 7004341520.0, 7404040049.0]   \n599528  2017  [36612565300.0, 55295450300.0, 57194068726.0, ...   \n\n                                      doi  \n248694               10.1017/ice.2017.309  \n360573  10.1001/jamanetworkopen.2021.0971  \n409266             10.1001/jama.2018.6986  \n553747            10.1001/jama.2017.21122  \n599528    10.1001/jamainternmed.2016.9045  \n"
     ]
    }
   ],
   "source": [
    "df_ani = spark.read.format(\"parquet\").load(basePath+tablename_ani)\n",
    "newdf = df_ani.select('doi','Eid','year','Au','Au_cors')\n",
    "newdf = newdf.withColumn('Au_id', F.col('Au').getItem('auid'))\n",
    "a = newdf.select('year','Au_id','doi').toPandas()\n",
    "a = a.dropna()\n",
    "\n",
    "def find(target_value):\n",
    "  new = a[a['Au_id'].apply(lambda lst: target_value in lst)]\n",
    "  print(\"printing \")\n",
    "  print(new)\n",
    "  return new['year'].min()\n",
    "\n",
    "datat = data.select('doi','year','cor_au1').toPandas()\n",
    "datat = datat.dropna(subset=['cor_au1'])\n",
    "datat = datat.head(2)\n",
    "datat['min_yr'] = datat['cor_au1'].apply(find)\n",
    "datat['career_length'] = datat['year'] - datat['min_yr']"
   ]
  },
  {
   "cell_type": "code",
   "execution_count": 0,
   "metadata": {
    "application/vnd.databricks.v1+cell": {
     "cellMetadata": {
      "byteLimit": 2048000,
      "rowLimit": 10000
     },
     "inputWidgets": {},
     "nuid": "0a1dab59-4fb6-4fe1-9e0b-ef07032b6f12",
     "showTitle": false,
     "title": ""
    }
   },
   "outputs": [
    {
     "output_type": "stream",
     "name": "stdout",
     "output_type": "stream",
     "text": [
      "                       doi  year      cor_au1  min_yr  career_length\n0  10.1001/jama.2018.18020  2018  35106076300    2015              3\n1   10.1001/jama.2018.6986  2018   7402540730    2017              1\n"
     ]
    }
   ],
   "source": [
    "print(datat)"
   ]
  },
  {
   "cell_type": "code",
   "execution_count": 0,
   "metadata": {
    "application/vnd.databricks.v1+cell": {
     "cellMetadata": {
      "byteLimit": 2048000,
      "rowLimit": 10000
     },
     "inputWidgets": {},
     "nuid": "bdbee3cf-9f14-488b-8bec-0710b63075a2",
     "showTitle": false,
     "title": ""
    }
   },
   "outputs": [
    {
     "output_type": "stream",
     "name": "stdout",
     "output_type": "stream",
     "text": [
      "Traceback (most recent call last):\n  File \"/databricks/spark/python/pyspark/serializers.py\", line 527, in dumps\n    return cloudpickle.dumps(obj, pickle_protocol)\n  File \"/databricks/spark/python/pyspark/cloudpickle/cloudpickle_fast.py\", line 73, in dumps\n    cp.dump(obj)\n  File \"/databricks/spark/python/pyspark/cloudpickle/cloudpickle_fast.py\", line 602, in dump\n    return Pickler.dump(self, obj)\n  File \"/databricks/spark/python/pyspark/context.py\", line 495, in __getnewargs__\n    raise RuntimeError(\nRuntimeError: It appears that you are attempting to reference SparkContext from a broadcast variable, action, or transformation. SparkContext can only be used on the driver, not in code that it run on workers. For more information, see SPARK-5063.\n"
     ]
    },
    {
     "output_type": "display_data",
     "data": {
      "text/plain": [
       "\u001B[0;31m---------------------------------------------------------------------------\u001B[0m\n",
       "\u001B[0;31mRuntimeError\u001B[0m                              Traceback (most recent call last)\n",
       "\u001B[0;32m/databricks/spark/python/pyspark/serializers.py\u001B[0m in \u001B[0;36mdumps\u001B[0;34m(self, obj)\u001B[0m\n",
       "\u001B[1;32m    526\u001B[0m         \u001B[0;32mtry\u001B[0m\u001B[0;34m:\u001B[0m\u001B[0;34m\u001B[0m\u001B[0;34m\u001B[0m\u001B[0m\n",
       "\u001B[0;32m--> 527\u001B[0;31m             \u001B[0;32mreturn\u001B[0m \u001B[0mcloudpickle\u001B[0m\u001B[0;34m.\u001B[0m\u001B[0mdumps\u001B[0m\u001B[0;34m(\u001B[0m\u001B[0mobj\u001B[0m\u001B[0;34m,\u001B[0m \u001B[0mpickle_protocol\u001B[0m\u001B[0;34m)\u001B[0m\u001B[0;34m\u001B[0m\u001B[0;34m\u001B[0m\u001B[0m\n",
       "\u001B[0m\u001B[1;32m    528\u001B[0m         \u001B[0;32mexcept\u001B[0m \u001B[0mpickle\u001B[0m\u001B[0;34m.\u001B[0m\u001B[0mPickleError\u001B[0m\u001B[0;34m:\u001B[0m\u001B[0;34m\u001B[0m\u001B[0;34m\u001B[0m\u001B[0m\n",
       "\n",
       "\u001B[0;32m/databricks/spark/python/pyspark/cloudpickle/cloudpickle_fast.py\u001B[0m in \u001B[0;36mdumps\u001B[0;34m(obj, protocol, buffer_callback)\u001B[0m\n",
       "\u001B[1;32m     72\u001B[0m             )\n",
       "\u001B[0;32m---> 73\u001B[0;31m             \u001B[0mcp\u001B[0m\u001B[0;34m.\u001B[0m\u001B[0mdump\u001B[0m\u001B[0;34m(\u001B[0m\u001B[0mobj\u001B[0m\u001B[0;34m)\u001B[0m\u001B[0;34m\u001B[0m\u001B[0;34m\u001B[0m\u001B[0m\n",
       "\u001B[0m\u001B[1;32m     74\u001B[0m             \u001B[0;32mreturn\u001B[0m \u001B[0mfile\u001B[0m\u001B[0;34m.\u001B[0m\u001B[0mgetvalue\u001B[0m\u001B[0;34m(\u001B[0m\u001B[0;34m)\u001B[0m\u001B[0;34m\u001B[0m\u001B[0;34m\u001B[0m\u001B[0m\n",
       "\n",
       "\u001B[0;32m/databricks/spark/python/pyspark/cloudpickle/cloudpickle_fast.py\u001B[0m in \u001B[0;36mdump\u001B[0;34m(self, obj)\u001B[0m\n",
       "\u001B[1;32m    601\u001B[0m         \u001B[0;32mtry\u001B[0m\u001B[0;34m:\u001B[0m\u001B[0;34m\u001B[0m\u001B[0;34m\u001B[0m\u001B[0m\n",
       "\u001B[0;32m--> 602\u001B[0;31m             \u001B[0;32mreturn\u001B[0m \u001B[0mPickler\u001B[0m\u001B[0;34m.\u001B[0m\u001B[0mdump\u001B[0m\u001B[0;34m(\u001B[0m\u001B[0mself\u001B[0m\u001B[0;34m,\u001B[0m \u001B[0mobj\u001B[0m\u001B[0;34m)\u001B[0m\u001B[0;34m\u001B[0m\u001B[0;34m\u001B[0m\u001B[0m\n",
       "\u001B[0m\u001B[1;32m    603\u001B[0m         \u001B[0;32mexcept\u001B[0m \u001B[0mRuntimeError\u001B[0m \u001B[0;32mas\u001B[0m \u001B[0me\u001B[0m\u001B[0;34m:\u001B[0m\u001B[0;34m\u001B[0m\u001B[0;34m\u001B[0m\u001B[0m\n",
       "\n",
       "\u001B[0;32m/databricks/spark/python/pyspark/context.py\u001B[0m in \u001B[0;36m__getnewargs__\u001B[0;34m(self)\u001B[0m\n",
       "\u001B[1;32m    494\u001B[0m         \u001B[0;31m# This method is called when attempting to pickle SparkContext, which is always an error:\u001B[0m\u001B[0;34m\u001B[0m\u001B[0;34m\u001B[0m\u001B[0;34m\u001B[0m\u001B[0m\n",
       "\u001B[0;32m--> 495\u001B[0;31m         raise RuntimeError(\n",
       "\u001B[0m\u001B[1;32m    496\u001B[0m             \u001B[0;34m\"It appears that you are attempting to reference SparkContext from a broadcast \"\u001B[0m\u001B[0;34m\u001B[0m\u001B[0;34m\u001B[0m\u001B[0m\n",
       "\n",
       "\u001B[0;31mRuntimeError\u001B[0m: It appears that you are attempting to reference SparkContext from a broadcast variable, action, or transformation. SparkContext can only be used on the driver, not in code that it run on workers. For more information, see SPARK-5063.\n",
       "\n",
       "During handling of the above exception, another exception occurred:\n",
       "\n",
       "\u001B[0;31mPicklingError\u001B[0m                             Traceback (most recent call last)\n",
       "\u001B[0;32m<command-1168306>\u001B[0m in \u001B[0;36m<cell line: 34>\u001B[0;34m()\u001B[0m\n",
       "\u001B[1;32m     32\u001B[0m \u001B[0;34m\u001B[0m\u001B[0m\n",
       "\u001B[1;32m     33\u001B[0m \u001B[0mda\u001B[0m \u001B[0;34m=\u001B[0m \u001B[0mdata\u001B[0m\u001B[0;34m.\u001B[0m\u001B[0mlimit\u001B[0m\u001B[0;34m(\u001B[0m\u001B[0;36m10\u001B[0m\u001B[0;34m)\u001B[0m\u001B[0;34m\u001B[0m\u001B[0;34m\u001B[0m\u001B[0m\n",
       "\u001B[0;32m---> 34\u001B[0;31m \u001B[0mda\u001B[0m \u001B[0;34m=\u001B[0m \u001B[0mda\u001B[0m\u001B[0;34m.\u001B[0m\u001B[0mwithColumn\u001B[0m\u001B[0;34m(\u001B[0m\u001B[0;34m'career_length'\u001B[0m\u001B[0;34m,\u001B[0m \u001B[0mcombine_udf\u001B[0m\u001B[0;34m(\u001B[0m\u001B[0mcol\u001B[0m\u001B[0;34m(\u001B[0m\u001B[0;34m'cor_au1'\u001B[0m\u001B[0;34m)\u001B[0m\u001B[0;34m,\u001B[0m\u001B[0mnewdf\u001B[0m\u001B[0;34m)\u001B[0m\u001B[0;34m)\u001B[0m\u001B[0;34m\u001B[0m\u001B[0;34m\u001B[0m\u001B[0m\n",
       "\u001B[0m\u001B[1;32m     35\u001B[0m \u001B[0;31m#da = da.withColumn('career_length', da['cor_au1'].apply(career, args=[da['year']]))\u001B[0m\u001B[0;34m\u001B[0m\u001B[0;34m\u001B[0m\u001B[0;34m\u001B[0m\u001B[0m\n",
       "\u001B[1;32m     36\u001B[0m \u001B[0;34m\u001B[0m\u001B[0m\n",
       "\n",
       "\u001B[0;32m/databricks/spark/python/pyspark/sql/udf.py\u001B[0m in \u001B[0;36mwrapper\u001B[0;34m(*args)\u001B[0m\n",
       "\u001B[1;32m    277\u001B[0m         \u001B[0;34m@\u001B[0m\u001B[0mfunctools\u001B[0m\u001B[0;34m.\u001B[0m\u001B[0mwraps\u001B[0m\u001B[0;34m(\u001B[0m\u001B[0mself\u001B[0m\u001B[0;34m.\u001B[0m\u001B[0mfunc\u001B[0m\u001B[0;34m,\u001B[0m \u001B[0massigned\u001B[0m\u001B[0;34m=\u001B[0m\u001B[0massignments\u001B[0m\u001B[0;34m)\u001B[0m\u001B[0;34m\u001B[0m\u001B[0;34m\u001B[0m\u001B[0m\n",
       "\u001B[1;32m    278\u001B[0m         \u001B[0;32mdef\u001B[0m \u001B[0mwrapper\u001B[0m\u001B[0;34m(\u001B[0m\u001B[0;34m*\u001B[0m\u001B[0margs\u001B[0m\u001B[0;34m:\u001B[0m \u001B[0;34m\"ColumnOrName\"\u001B[0m\u001B[0;34m)\u001B[0m \u001B[0;34m->\u001B[0m \u001B[0mColumn\u001B[0m\u001B[0;34m:\u001B[0m\u001B[0;34m\u001B[0m\u001B[0;34m\u001B[0m\u001B[0m\n",
       "\u001B[0;32m--> 279\u001B[0;31m             \u001B[0;32mreturn\u001B[0m \u001B[0mself\u001B[0m\u001B[0;34m(\u001B[0m\u001B[0;34m*\u001B[0m\u001B[0margs\u001B[0m\u001B[0;34m)\u001B[0m\u001B[0;34m\u001B[0m\u001B[0;34m\u001B[0m\u001B[0m\n",
       "\u001B[0m\u001B[1;32m    280\u001B[0m \u001B[0;34m\u001B[0m\u001B[0m\n",
       "\u001B[1;32m    281\u001B[0m         \u001B[0mwrapper\u001B[0m\u001B[0;34m.\u001B[0m\u001B[0m__name__\u001B[0m \u001B[0;34m=\u001B[0m \u001B[0mself\u001B[0m\u001B[0;34m.\u001B[0m\u001B[0m_name\u001B[0m\u001B[0;34m\u001B[0m\u001B[0;34m\u001B[0m\u001B[0m\n",
       "\n",
       "\u001B[0;32m/databricks/spark/python/pyspark/sql/udf.py\u001B[0m in \u001B[0;36m__call__\u001B[0;34m(self, *cols)\u001B[0m\n",
       "\u001B[1;32m    250\u001B[0m             \u001B[0mjudf\u001B[0m \u001B[0;34m=\u001B[0m \u001B[0mself\u001B[0m\u001B[0;34m.\u001B[0m\u001B[0m_create_judf\u001B[0m\u001B[0;34m(\u001B[0m\u001B[0mfunc\u001B[0m\u001B[0;34m)\u001B[0m\u001B[0;34m\u001B[0m\u001B[0;34m\u001B[0m\u001B[0m\n",
       "\u001B[1;32m    251\u001B[0m         \u001B[0;32melse\u001B[0m\u001B[0;34m:\u001B[0m\u001B[0;34m\u001B[0m\u001B[0;34m\u001B[0m\u001B[0m\n",
       "\u001B[0;32m--> 252\u001B[0;31m             \u001B[0mjudf\u001B[0m \u001B[0;34m=\u001B[0m \u001B[0mself\u001B[0m\u001B[0;34m.\u001B[0m\u001B[0m_judf\u001B[0m\u001B[0;34m\u001B[0m\u001B[0;34m\u001B[0m\u001B[0m\n",
       "\u001B[0m\u001B[1;32m    253\u001B[0m \u001B[0;34m\u001B[0m\u001B[0m\n",
       "\u001B[1;32m    254\u001B[0m         \u001B[0mjPythonUDF\u001B[0m \u001B[0;34m=\u001B[0m \u001B[0mjudf\u001B[0m\u001B[0;34m.\u001B[0m\u001B[0mapply\u001B[0m\u001B[0;34m(\u001B[0m\u001B[0m_to_seq\u001B[0m\u001B[0;34m(\u001B[0m\u001B[0msc\u001B[0m\u001B[0;34m,\u001B[0m \u001B[0mcols\u001B[0m\u001B[0;34m,\u001B[0m \u001B[0m_to_java_column\u001B[0m\u001B[0;34m)\u001B[0m\u001B[0;34m)\u001B[0m\u001B[0;34m\u001B[0m\u001B[0;34m\u001B[0m\u001B[0m\n",
       "\n",
       "\u001B[0;32m/databricks/spark/python/pyspark/sql/udf.py\u001B[0m in \u001B[0;36m_judf\u001B[0;34m(self)\u001B[0m\n",
       "\u001B[1;32m    216\u001B[0m         \u001B[0;31m# and should have a minimal performance impact.\u001B[0m\u001B[0;34m\u001B[0m\u001B[0;34m\u001B[0m\u001B[0;34m\u001B[0m\u001B[0m\n",
       "\u001B[1;32m    217\u001B[0m         \u001B[0;32mif\u001B[0m \u001B[0mself\u001B[0m\u001B[0;34m.\u001B[0m\u001B[0m_judf_placeholder\u001B[0m \u001B[0;32mis\u001B[0m \u001B[0;32mNone\u001B[0m\u001B[0;34m:\u001B[0m\u001B[0;34m\u001B[0m\u001B[0;34m\u001B[0m\u001B[0m\n",
       "\u001B[0;32m--> 218\u001B[0;31m             \u001B[0mself\u001B[0m\u001B[0;34m.\u001B[0m\u001B[0m_judf_placeholder\u001B[0m \u001B[0;34m=\u001B[0m \u001B[0mself\u001B[0m\u001B[0;34m.\u001B[0m\u001B[0m_create_judf\u001B[0m\u001B[0;34m(\u001B[0m\u001B[0mself\u001B[0m\u001B[0;34m.\u001B[0m\u001B[0mfunc\u001B[0m\u001B[0;34m)\u001B[0m\u001B[0;34m\u001B[0m\u001B[0;34m\u001B[0m\u001B[0m\n",
       "\u001B[0m\u001B[1;32m    219\u001B[0m         \u001B[0;32mreturn\u001B[0m \u001B[0mself\u001B[0m\u001B[0;34m.\u001B[0m\u001B[0m_judf_placeholder\u001B[0m\u001B[0;34m\u001B[0m\u001B[0;34m\u001B[0m\u001B[0m\n",
       "\u001B[1;32m    220\u001B[0m \u001B[0;34m\u001B[0m\u001B[0m\n",
       "\n",
       "\u001B[0;32m/databricks/spark/python/pyspark/sql/udf.py\u001B[0m in \u001B[0;36m_create_judf\u001B[0;34m(self, func)\u001B[0m\n",
       "\u001B[1;32m    225\u001B[0m         \u001B[0msc\u001B[0m \u001B[0;34m=\u001B[0m \u001B[0mspark\u001B[0m\u001B[0;34m.\u001B[0m\u001B[0msparkContext\u001B[0m\u001B[0;34m\u001B[0m\u001B[0;34m\u001B[0m\u001B[0m\n",
       "\u001B[1;32m    226\u001B[0m \u001B[0;34m\u001B[0m\u001B[0m\n",
       "\u001B[0;32m--> 227\u001B[0;31m         \u001B[0mwrapped_func\u001B[0m \u001B[0;34m=\u001B[0m \u001B[0m_wrap_function\u001B[0m\u001B[0;34m(\u001B[0m\u001B[0msc\u001B[0m\u001B[0;34m,\u001B[0m \u001B[0mfunc\u001B[0m\u001B[0;34m,\u001B[0m \u001B[0mself\u001B[0m\u001B[0;34m.\u001B[0m\u001B[0mreturnType\u001B[0m\u001B[0;34m)\u001B[0m\u001B[0;34m\u001B[0m\u001B[0;34m\u001B[0m\u001B[0m\n",
       "\u001B[0m\u001B[1;32m    228\u001B[0m         \u001B[0mjdt\u001B[0m \u001B[0;34m=\u001B[0m \u001B[0mspark\u001B[0m\u001B[0;34m.\u001B[0m\u001B[0m_jsparkSession\u001B[0m\u001B[0;34m.\u001B[0m\u001B[0mparseDataType\u001B[0m\u001B[0;34m(\u001B[0m\u001B[0mself\u001B[0m\u001B[0;34m.\u001B[0m\u001B[0mreturnType\u001B[0m\u001B[0;34m.\u001B[0m\u001B[0mjson\u001B[0m\u001B[0;34m(\u001B[0m\u001B[0;34m)\u001B[0m\u001B[0;34m)\u001B[0m\u001B[0;34m\u001B[0m\u001B[0;34m\u001B[0m\u001B[0m\n",
       "\u001B[1;32m    229\u001B[0m         \u001B[0;32massert\u001B[0m \u001B[0msc\u001B[0m\u001B[0;34m.\u001B[0m\u001B[0m_jvm\u001B[0m \u001B[0;32mis\u001B[0m \u001B[0;32mnot\u001B[0m \u001B[0;32mNone\u001B[0m\u001B[0;34m\u001B[0m\u001B[0;34m\u001B[0m\u001B[0m\n",
       "\n",
       "\u001B[0;32m/databricks/spark/python/pyspark/sql/udf.py\u001B[0m in \u001B[0;36m_wrap_function\u001B[0;34m(sc, func, returnType)\u001B[0m\n",
       "\u001B[1;32m     48\u001B[0m ) -> JavaObject:\n",
       "\u001B[1;32m     49\u001B[0m     \u001B[0mcommand\u001B[0m \u001B[0;34m=\u001B[0m \u001B[0;34m(\u001B[0m\u001B[0mfunc\u001B[0m\u001B[0;34m,\u001B[0m \u001B[0mreturnType\u001B[0m\u001B[0;34m)\u001B[0m\u001B[0;34m\u001B[0m\u001B[0;34m\u001B[0m\u001B[0m\n",
       "\u001B[0;32m---> 50\u001B[0;31m     \u001B[0mpickled_command\u001B[0m\u001B[0;34m,\u001B[0m \u001B[0mbroadcast_vars\u001B[0m\u001B[0;34m,\u001B[0m \u001B[0menv\u001B[0m\u001B[0;34m,\u001B[0m \u001B[0mincludes\u001B[0m \u001B[0;34m=\u001B[0m \u001B[0m_prepare_for_python_RDD\u001B[0m\u001B[0;34m(\u001B[0m\u001B[0msc\u001B[0m\u001B[0;34m,\u001B[0m \u001B[0mcommand\u001B[0m\u001B[0;34m)\u001B[0m\u001B[0;34m\u001B[0m\u001B[0;34m\u001B[0m\u001B[0m\n",
       "\u001B[0m\u001B[1;32m     51\u001B[0m     \u001B[0;32massert\u001B[0m \u001B[0msc\u001B[0m\u001B[0;34m.\u001B[0m\u001B[0m_jvm\u001B[0m \u001B[0;32mis\u001B[0m \u001B[0;32mnot\u001B[0m \u001B[0;32mNone\u001B[0m\u001B[0;34m\u001B[0m\u001B[0;34m\u001B[0m\u001B[0m\n",
       "\u001B[1;32m     52\u001B[0m     return sc._jvm.SimplePythonFunction(\n",
       "\n",
       "\u001B[0;32m/databricks/spark/python/pyspark/rdd.py\u001B[0m in \u001B[0;36m_prepare_for_python_RDD\u001B[0;34m(sc, command)\u001B[0m\n",
       "\u001B[1;32m   3388\u001B[0m     \u001B[0;31m# the serialized command will be compressed by broadcast\u001B[0m\u001B[0;34m\u001B[0m\u001B[0;34m\u001B[0m\u001B[0;34m\u001B[0m\u001B[0m\n",
       "\u001B[1;32m   3389\u001B[0m     \u001B[0mser\u001B[0m \u001B[0;34m=\u001B[0m \u001B[0mCloudPickleSerializer\u001B[0m\u001B[0;34m(\u001B[0m\u001B[0;34m)\u001B[0m\u001B[0;34m\u001B[0m\u001B[0;34m\u001B[0m\u001B[0m\n",
       "\u001B[0;32m-> 3390\u001B[0;31m     \u001B[0mpickled_command\u001B[0m \u001B[0;34m=\u001B[0m \u001B[0mser\u001B[0m\u001B[0;34m.\u001B[0m\u001B[0mdumps\u001B[0m\u001B[0;34m(\u001B[0m\u001B[0mcommand\u001B[0m\u001B[0;34m)\u001B[0m\u001B[0;34m\u001B[0m\u001B[0;34m\u001B[0m\u001B[0m\n",
       "\u001B[0m\u001B[1;32m   3391\u001B[0m     \u001B[0;32massert\u001B[0m \u001B[0msc\u001B[0m\u001B[0;34m.\u001B[0m\u001B[0m_jvm\u001B[0m \u001B[0;32mis\u001B[0m \u001B[0;32mnot\u001B[0m \u001B[0;32mNone\u001B[0m\u001B[0;34m\u001B[0m\u001B[0;34m\u001B[0m\u001B[0m\n",
       "\u001B[1;32m   3392\u001B[0m     \u001B[0;32mif\u001B[0m \u001B[0mlen\u001B[0m\u001B[0;34m(\u001B[0m\u001B[0mpickled_command\u001B[0m\u001B[0;34m)\u001B[0m \u001B[0;34m>\u001B[0m \u001B[0msc\u001B[0m\u001B[0;34m.\u001B[0m\u001B[0m_jvm\u001B[0m\u001B[0;34m.\u001B[0m\u001B[0mPythonUtils\u001B[0m\u001B[0;34m.\u001B[0m\u001B[0mgetBroadcastThreshold\u001B[0m\u001B[0;34m(\u001B[0m\u001B[0msc\u001B[0m\u001B[0;34m.\u001B[0m\u001B[0m_jsc\u001B[0m\u001B[0;34m)\u001B[0m\u001B[0;34m:\u001B[0m  \u001B[0;31m# Default 1M\u001B[0m\u001B[0;34m\u001B[0m\u001B[0;34m\u001B[0m\u001B[0m\n",
       "\n",
       "\u001B[0;32m/databricks/spark/python/pyspark/serializers.py\u001B[0m in \u001B[0;36mdumps\u001B[0;34m(self, obj)\u001B[0m\n",
       "\u001B[1;32m    535\u001B[0m                 \u001B[0mmsg\u001B[0m \u001B[0;34m=\u001B[0m \u001B[0;34m\"Could not serialize object: %s: %s\"\u001B[0m \u001B[0;34m%\u001B[0m \u001B[0;34m(\u001B[0m\u001B[0me\u001B[0m\u001B[0;34m.\u001B[0m\u001B[0m__class__\u001B[0m\u001B[0;34m.\u001B[0m\u001B[0m__name__\u001B[0m\u001B[0;34m,\u001B[0m \u001B[0memsg\u001B[0m\u001B[0;34m)\u001B[0m\u001B[0;34m\u001B[0m\u001B[0;34m\u001B[0m\u001B[0m\n",
       "\u001B[1;32m    536\u001B[0m             \u001B[0mprint_exec\u001B[0m\u001B[0;34m(\u001B[0m\u001B[0msys\u001B[0m\u001B[0;34m.\u001B[0m\u001B[0mstderr\u001B[0m\u001B[0;34m)\u001B[0m\u001B[0;34m\u001B[0m\u001B[0;34m\u001B[0m\u001B[0m\n",
       "\u001B[0;32m--> 537\u001B[0;31m             \u001B[0;32mraise\u001B[0m \u001B[0mpickle\u001B[0m\u001B[0;34m.\u001B[0m\u001B[0mPicklingError\u001B[0m\u001B[0;34m(\u001B[0m\u001B[0mmsg\u001B[0m\u001B[0;34m)\u001B[0m\u001B[0;34m\u001B[0m\u001B[0;34m\u001B[0m\u001B[0m\n",
       "\u001B[0m\u001B[1;32m    538\u001B[0m \u001B[0;34m\u001B[0m\u001B[0m\n",
       "\u001B[1;32m    539\u001B[0m     \u001B[0;32mdef\u001B[0m \u001B[0mloads\u001B[0m\u001B[0;34m(\u001B[0m\u001B[0mself\u001B[0m\u001B[0;34m,\u001B[0m \u001B[0mobj\u001B[0m\u001B[0;34m,\u001B[0m \u001B[0mencoding\u001B[0m\u001B[0;34m=\u001B[0m\u001B[0;34m\"bytes\"\u001B[0m\u001B[0;34m)\u001B[0m\u001B[0;34m:\u001B[0m\u001B[0;34m\u001B[0m\u001B[0;34m\u001B[0m\u001B[0m\n",
       "\n",
       "\u001B[0;31mPicklingError\u001B[0m: Could not serialize object: RuntimeError: It appears that you are attempting to reference SparkContext from a broadcast variable, action, or transformation. SparkContext can only be used on the driver, not in code that it run on workers. For more information, see SPARK-5063."
      ]
     },
     "metadata": {
      "application/vnd.databricks.v1+output": {
       "arguments": {},
       "data": "\u001B[0;31m---------------------------------------------------------------------------\u001B[0m\n\u001B[0;31mRuntimeError\u001B[0m                              Traceback (most recent call last)\n\u001B[0;32m/databricks/spark/python/pyspark/serializers.py\u001B[0m in \u001B[0;36mdumps\u001B[0;34m(self, obj)\u001B[0m\n\u001B[1;32m    526\u001B[0m         \u001B[0;32mtry\u001B[0m\u001B[0;34m:\u001B[0m\u001B[0;34m\u001B[0m\u001B[0;34m\u001B[0m\u001B[0m\n\u001B[0;32m--> 527\u001B[0;31m             \u001B[0;32mreturn\u001B[0m \u001B[0mcloudpickle\u001B[0m\u001B[0;34m.\u001B[0m\u001B[0mdumps\u001B[0m\u001B[0;34m(\u001B[0m\u001B[0mobj\u001B[0m\u001B[0;34m,\u001B[0m \u001B[0mpickle_protocol\u001B[0m\u001B[0;34m)\u001B[0m\u001B[0;34m\u001B[0m\u001B[0;34m\u001B[0m\u001B[0m\n\u001B[0m\u001B[1;32m    528\u001B[0m         \u001B[0;32mexcept\u001B[0m \u001B[0mpickle\u001B[0m\u001B[0;34m.\u001B[0m\u001B[0mPickleError\u001B[0m\u001B[0;34m:\u001B[0m\u001B[0;34m\u001B[0m\u001B[0;34m\u001B[0m\u001B[0m\n\n\u001B[0;32m/databricks/spark/python/pyspark/cloudpickle/cloudpickle_fast.py\u001B[0m in \u001B[0;36mdumps\u001B[0;34m(obj, protocol, buffer_callback)\u001B[0m\n\u001B[1;32m     72\u001B[0m             )\n\u001B[0;32m---> 73\u001B[0;31m             \u001B[0mcp\u001B[0m\u001B[0;34m.\u001B[0m\u001B[0mdump\u001B[0m\u001B[0;34m(\u001B[0m\u001B[0mobj\u001B[0m\u001B[0;34m)\u001B[0m\u001B[0;34m\u001B[0m\u001B[0;34m\u001B[0m\u001B[0m\n\u001B[0m\u001B[1;32m     74\u001B[0m             \u001B[0;32mreturn\u001B[0m \u001B[0mfile\u001B[0m\u001B[0;34m.\u001B[0m\u001B[0mgetvalue\u001B[0m\u001B[0;34m(\u001B[0m\u001B[0;34m)\u001B[0m\u001B[0;34m\u001B[0m\u001B[0;34m\u001B[0m\u001B[0m\n\n\u001B[0;32m/databricks/spark/python/pyspark/cloudpickle/cloudpickle_fast.py\u001B[0m in \u001B[0;36mdump\u001B[0;34m(self, obj)\u001B[0m\n\u001B[1;32m    601\u001B[0m         \u001B[0;32mtry\u001B[0m\u001B[0;34m:\u001B[0m\u001B[0;34m\u001B[0m\u001B[0;34m\u001B[0m\u001B[0m\n\u001B[0;32m--> 602\u001B[0;31m             \u001B[0;32mreturn\u001B[0m \u001B[0mPickler\u001B[0m\u001B[0;34m.\u001B[0m\u001B[0mdump\u001B[0m\u001B[0;34m(\u001B[0m\u001B[0mself\u001B[0m\u001B[0;34m,\u001B[0m \u001B[0mobj\u001B[0m\u001B[0;34m)\u001B[0m\u001B[0;34m\u001B[0m\u001B[0;34m\u001B[0m\u001B[0m\n\u001B[0m\u001B[1;32m    603\u001B[0m         \u001B[0;32mexcept\u001B[0m \u001B[0mRuntimeError\u001B[0m \u001B[0;32mas\u001B[0m \u001B[0me\u001B[0m\u001B[0;34m:\u001B[0m\u001B[0;34m\u001B[0m\u001B[0;34m\u001B[0m\u001B[0m\n\n\u001B[0;32m/databricks/spark/python/pyspark/context.py\u001B[0m in \u001B[0;36m__getnewargs__\u001B[0;34m(self)\u001B[0m\n\u001B[1;32m    494\u001B[0m         \u001B[0;31m# This method is called when attempting to pickle SparkContext, which is always an error:\u001B[0m\u001B[0;34m\u001B[0m\u001B[0;34m\u001B[0m\u001B[0;34m\u001B[0m\u001B[0m\n\u001B[0;32m--> 495\u001B[0;31m         raise RuntimeError(\n\u001B[0m\u001B[1;32m    496\u001B[0m             \u001B[0;34m\"It appears that you are attempting to reference SparkContext from a broadcast \"\u001B[0m\u001B[0;34m\u001B[0m\u001B[0;34m\u001B[0m\u001B[0m\n\n\u001B[0;31mRuntimeError\u001B[0m: It appears that you are attempting to reference SparkContext from a broadcast variable, action, or transformation. SparkContext can only be used on the driver, not in code that it run on workers. For more information, see SPARK-5063.\n\nDuring handling of the above exception, another exception occurred:\n\n\u001B[0;31mPicklingError\u001B[0m                             Traceback (most recent call last)\n\u001B[0;32m<command-1168306>\u001B[0m in \u001B[0;36m<cell line: 34>\u001B[0;34m()\u001B[0m\n\u001B[1;32m     32\u001B[0m \u001B[0;34m\u001B[0m\u001B[0m\n\u001B[1;32m     33\u001B[0m \u001B[0mda\u001B[0m \u001B[0;34m=\u001B[0m \u001B[0mdata\u001B[0m\u001B[0;34m.\u001B[0m\u001B[0mlimit\u001B[0m\u001B[0;34m(\u001B[0m\u001B[0;36m10\u001B[0m\u001B[0;34m)\u001B[0m\u001B[0;34m\u001B[0m\u001B[0;34m\u001B[0m\u001B[0m\n\u001B[0;32m---> 34\u001B[0;31m \u001B[0mda\u001B[0m \u001B[0;34m=\u001B[0m \u001B[0mda\u001B[0m\u001B[0;34m.\u001B[0m\u001B[0mwithColumn\u001B[0m\u001B[0;34m(\u001B[0m\u001B[0;34m'career_length'\u001B[0m\u001B[0;34m,\u001B[0m \u001B[0mcombine_udf\u001B[0m\u001B[0;34m(\u001B[0m\u001B[0mcol\u001B[0m\u001B[0;34m(\u001B[0m\u001B[0;34m'cor_au1'\u001B[0m\u001B[0;34m)\u001B[0m\u001B[0;34m,\u001B[0m\u001B[0mnewdf\u001B[0m\u001B[0;34m)\u001B[0m\u001B[0;34m)\u001B[0m\u001B[0;34m\u001B[0m\u001B[0;34m\u001B[0m\u001B[0m\n\u001B[0m\u001B[1;32m     35\u001B[0m \u001B[0;31m#da = da.withColumn('career_length', da['cor_au1'].apply(career, args=[da['year']]))\u001B[0m\u001B[0;34m\u001B[0m\u001B[0;34m\u001B[0m\u001B[0;34m\u001B[0m\u001B[0m\n\u001B[1;32m     36\u001B[0m \u001B[0;34m\u001B[0m\u001B[0m\n\n\u001B[0;32m/databricks/spark/python/pyspark/sql/udf.py\u001B[0m in \u001B[0;36mwrapper\u001B[0;34m(*args)\u001B[0m\n\u001B[1;32m    277\u001B[0m         \u001B[0;34m@\u001B[0m\u001B[0mfunctools\u001B[0m\u001B[0;34m.\u001B[0m\u001B[0mwraps\u001B[0m\u001B[0;34m(\u001B[0m\u001B[0mself\u001B[0m\u001B[0;34m.\u001B[0m\u001B[0mfunc\u001B[0m\u001B[0;34m,\u001B[0m \u001B[0massigned\u001B[0m\u001B[0;34m=\u001B[0m\u001B[0massignments\u001B[0m\u001B[0;34m)\u001B[0m\u001B[0;34m\u001B[0m\u001B[0;34m\u001B[0m\u001B[0m\n\u001B[1;32m    278\u001B[0m         \u001B[0;32mdef\u001B[0m \u001B[0mwrapper\u001B[0m\u001B[0;34m(\u001B[0m\u001B[0;34m*\u001B[0m\u001B[0margs\u001B[0m\u001B[0;34m:\u001B[0m \u001B[0;34m\"ColumnOrName\"\u001B[0m\u001B[0;34m)\u001B[0m \u001B[0;34m->\u001B[0m \u001B[0mColumn\u001B[0m\u001B[0;34m:\u001B[0m\u001B[0;34m\u001B[0m\u001B[0;34m\u001B[0m\u001B[0m\n\u001B[0;32m--> 279\u001B[0;31m             \u001B[0;32mreturn\u001B[0m \u001B[0mself\u001B[0m\u001B[0;34m(\u001B[0m\u001B[0;34m*\u001B[0m\u001B[0margs\u001B[0m\u001B[0;34m)\u001B[0m\u001B[0;34m\u001B[0m\u001B[0;34m\u001B[0m\u001B[0m\n\u001B[0m\u001B[1;32m    280\u001B[0m \u001B[0;34m\u001B[0m\u001B[0m\n\u001B[1;32m    281\u001B[0m         \u001B[0mwrapper\u001B[0m\u001B[0;34m.\u001B[0m\u001B[0m__name__\u001B[0m \u001B[0;34m=\u001B[0m \u001B[0mself\u001B[0m\u001B[0;34m.\u001B[0m\u001B[0m_name\u001B[0m\u001B[0;34m\u001B[0m\u001B[0;34m\u001B[0m\u001B[0m\n\n\u001B[0;32m/databricks/spark/python/pyspark/sql/udf.py\u001B[0m in \u001B[0;36m__call__\u001B[0;34m(self, *cols)\u001B[0m\n\u001B[1;32m    250\u001B[0m             \u001B[0mjudf\u001B[0m \u001B[0;34m=\u001B[0m \u001B[0mself\u001B[0m\u001B[0;34m.\u001B[0m\u001B[0m_create_judf\u001B[0m\u001B[0;34m(\u001B[0m\u001B[0mfunc\u001B[0m\u001B[0;34m)\u001B[0m\u001B[0;34m\u001B[0m\u001B[0;34m\u001B[0m\u001B[0m\n\u001B[1;32m    251\u001B[0m         \u001B[0;32melse\u001B[0m\u001B[0;34m:\u001B[0m\u001B[0;34m\u001B[0m\u001B[0;34m\u001B[0m\u001B[0m\n\u001B[0;32m--> 252\u001B[0;31m             \u001B[0mjudf\u001B[0m \u001B[0;34m=\u001B[0m \u001B[0mself\u001B[0m\u001B[0;34m.\u001B[0m\u001B[0m_judf\u001B[0m\u001B[0;34m\u001B[0m\u001B[0;34m\u001B[0m\u001B[0m\n\u001B[0m\u001B[1;32m    253\u001B[0m \u001B[0;34m\u001B[0m\u001B[0m\n\u001B[1;32m    254\u001B[0m         \u001B[0mjPythonUDF\u001B[0m \u001B[0;34m=\u001B[0m \u001B[0mjudf\u001B[0m\u001B[0;34m.\u001B[0m\u001B[0mapply\u001B[0m\u001B[0;34m(\u001B[0m\u001B[0m_to_seq\u001B[0m\u001B[0;34m(\u001B[0m\u001B[0msc\u001B[0m\u001B[0;34m,\u001B[0m \u001B[0mcols\u001B[0m\u001B[0;34m,\u001B[0m \u001B[0m_to_java_column\u001B[0m\u001B[0;34m)\u001B[0m\u001B[0;34m)\u001B[0m\u001B[0;34m\u001B[0m\u001B[0;34m\u001B[0m\u001B[0m\n\n\u001B[0;32m/databricks/spark/python/pyspark/sql/udf.py\u001B[0m in \u001B[0;36m_judf\u001B[0;34m(self)\u001B[0m\n\u001B[1;32m    216\u001B[0m         \u001B[0;31m# and should have a minimal performance impact.\u001B[0m\u001B[0;34m\u001B[0m\u001B[0;34m\u001B[0m\u001B[0;34m\u001B[0m\u001B[0m\n\u001B[1;32m    217\u001B[0m         \u001B[0;32mif\u001B[0m \u001B[0mself\u001B[0m\u001B[0;34m.\u001B[0m\u001B[0m_judf_placeholder\u001B[0m \u001B[0;32mis\u001B[0m \u001B[0;32mNone\u001B[0m\u001B[0;34m:\u001B[0m\u001B[0;34m\u001B[0m\u001B[0;34m\u001B[0m\u001B[0m\n\u001B[0;32m--> 218\u001B[0;31m             \u001B[0mself\u001B[0m\u001B[0;34m.\u001B[0m\u001B[0m_judf_placeholder\u001B[0m \u001B[0;34m=\u001B[0m \u001B[0mself\u001B[0m\u001B[0;34m.\u001B[0m\u001B[0m_create_judf\u001B[0m\u001B[0;34m(\u001B[0m\u001B[0mself\u001B[0m\u001B[0;34m.\u001B[0m\u001B[0mfunc\u001B[0m\u001B[0;34m)\u001B[0m\u001B[0;34m\u001B[0m\u001B[0;34m\u001B[0m\u001B[0m\n\u001B[0m\u001B[1;32m    219\u001B[0m         \u001B[0;32mreturn\u001B[0m \u001B[0mself\u001B[0m\u001B[0;34m.\u001B[0m\u001B[0m_judf_placeholder\u001B[0m\u001B[0;34m\u001B[0m\u001B[0;34m\u001B[0m\u001B[0m\n\u001B[1;32m    220\u001B[0m \u001B[0;34m\u001B[0m\u001B[0m\n\n\u001B[0;32m/databricks/spark/python/pyspark/sql/udf.py\u001B[0m in \u001B[0;36m_create_judf\u001B[0;34m(self, func)\u001B[0m\n\u001B[1;32m    225\u001B[0m         \u001B[0msc\u001B[0m \u001B[0;34m=\u001B[0m \u001B[0mspark\u001B[0m\u001B[0;34m.\u001B[0m\u001B[0msparkContext\u001B[0m\u001B[0;34m\u001B[0m\u001B[0;34m\u001B[0m\u001B[0m\n\u001B[1;32m    226\u001B[0m \u001B[0;34m\u001B[0m\u001B[0m\n\u001B[0;32m--> 227\u001B[0;31m         \u001B[0mwrapped_func\u001B[0m \u001B[0;34m=\u001B[0m \u001B[0m_wrap_function\u001B[0m\u001B[0;34m(\u001B[0m\u001B[0msc\u001B[0m\u001B[0;34m,\u001B[0m \u001B[0mfunc\u001B[0m\u001B[0;34m,\u001B[0m \u001B[0mself\u001B[0m\u001B[0;34m.\u001B[0m\u001B[0mreturnType\u001B[0m\u001B[0;34m)\u001B[0m\u001B[0;34m\u001B[0m\u001B[0;34m\u001B[0m\u001B[0m\n\u001B[0m\u001B[1;32m    228\u001B[0m         \u001B[0mjdt\u001B[0m \u001B[0;34m=\u001B[0m \u001B[0mspark\u001B[0m\u001B[0;34m.\u001B[0m\u001B[0m_jsparkSession\u001B[0m\u001B[0;34m.\u001B[0m\u001B[0mparseDataType\u001B[0m\u001B[0;34m(\u001B[0m\u001B[0mself\u001B[0m\u001B[0;34m.\u001B[0m\u001B[0mreturnType\u001B[0m\u001B[0;34m.\u001B[0m\u001B[0mjson\u001B[0m\u001B[0;34m(\u001B[0m\u001B[0;34m)\u001B[0m\u001B[0;34m)\u001B[0m\u001B[0;34m\u001B[0m\u001B[0;34m\u001B[0m\u001B[0m\n\u001B[1;32m    229\u001B[0m         \u001B[0;32massert\u001B[0m \u001B[0msc\u001B[0m\u001B[0;34m.\u001B[0m\u001B[0m_jvm\u001B[0m \u001B[0;32mis\u001B[0m \u001B[0;32mnot\u001B[0m \u001B[0;32mNone\u001B[0m\u001B[0;34m\u001B[0m\u001B[0;34m\u001B[0m\u001B[0m\n\n\u001B[0;32m/databricks/spark/python/pyspark/sql/udf.py\u001B[0m in \u001B[0;36m_wrap_function\u001B[0;34m(sc, func, returnType)\u001B[0m\n\u001B[1;32m     48\u001B[0m ) -> JavaObject:\n\u001B[1;32m     49\u001B[0m     \u001B[0mcommand\u001B[0m \u001B[0;34m=\u001B[0m \u001B[0;34m(\u001B[0m\u001B[0mfunc\u001B[0m\u001B[0;34m,\u001B[0m \u001B[0mreturnType\u001B[0m\u001B[0;34m)\u001B[0m\u001B[0;34m\u001B[0m\u001B[0;34m\u001B[0m\u001B[0m\n\u001B[0;32m---> 50\u001B[0;31m     \u001B[0mpickled_command\u001B[0m\u001B[0;34m,\u001B[0m \u001B[0mbroadcast_vars\u001B[0m\u001B[0;34m,\u001B[0m \u001B[0menv\u001B[0m\u001B[0;34m,\u001B[0m \u001B[0mincludes\u001B[0m \u001B[0;34m=\u001B[0m \u001B[0m_prepare_for_python_RDD\u001B[0m\u001B[0;34m(\u001B[0m\u001B[0msc\u001B[0m\u001B[0;34m,\u001B[0m \u001B[0mcommand\u001B[0m\u001B[0;34m)\u001B[0m\u001B[0;34m\u001B[0m\u001B[0;34m\u001B[0m\u001B[0m\n\u001B[0m\u001B[1;32m     51\u001B[0m     \u001B[0;32massert\u001B[0m \u001B[0msc\u001B[0m\u001B[0;34m.\u001B[0m\u001B[0m_jvm\u001B[0m \u001B[0;32mis\u001B[0m \u001B[0;32mnot\u001B[0m \u001B[0;32mNone\u001B[0m\u001B[0;34m\u001B[0m\u001B[0;34m\u001B[0m\u001B[0m\n\u001B[1;32m     52\u001B[0m     return sc._jvm.SimplePythonFunction(\n\n\u001B[0;32m/databricks/spark/python/pyspark/rdd.py\u001B[0m in \u001B[0;36m_prepare_for_python_RDD\u001B[0;34m(sc, command)\u001B[0m\n\u001B[1;32m   3388\u001B[0m     \u001B[0;31m# the serialized command will be compressed by broadcast\u001B[0m\u001B[0;34m\u001B[0m\u001B[0;34m\u001B[0m\u001B[0;34m\u001B[0m\u001B[0m\n\u001B[1;32m   3389\u001B[0m     \u001B[0mser\u001B[0m \u001B[0;34m=\u001B[0m \u001B[0mCloudPickleSerializer\u001B[0m\u001B[0;34m(\u001B[0m\u001B[0;34m)\u001B[0m\u001B[0;34m\u001B[0m\u001B[0;34m\u001B[0m\u001B[0m\n\u001B[0;32m-> 3390\u001B[0;31m     \u001B[0mpickled_command\u001B[0m \u001B[0;34m=\u001B[0m \u001B[0mser\u001B[0m\u001B[0;34m.\u001B[0m\u001B[0mdumps\u001B[0m\u001B[0;34m(\u001B[0m\u001B[0mcommand\u001B[0m\u001B[0;34m)\u001B[0m\u001B[0;34m\u001B[0m\u001B[0;34m\u001B[0m\u001B[0m\n\u001B[0m\u001B[1;32m   3391\u001B[0m     \u001B[0;32massert\u001B[0m \u001B[0msc\u001B[0m\u001B[0;34m.\u001B[0m\u001B[0m_jvm\u001B[0m \u001B[0;32mis\u001B[0m \u001B[0;32mnot\u001B[0m \u001B[0;32mNone\u001B[0m\u001B[0;34m\u001B[0m\u001B[0;34m\u001B[0m\u001B[0m\n\u001B[1;32m   3392\u001B[0m     \u001B[0;32mif\u001B[0m \u001B[0mlen\u001B[0m\u001B[0;34m(\u001B[0m\u001B[0mpickled_command\u001B[0m\u001B[0;34m)\u001B[0m \u001B[0;34m>\u001B[0m \u001B[0msc\u001B[0m\u001B[0;34m.\u001B[0m\u001B[0m_jvm\u001B[0m\u001B[0;34m.\u001B[0m\u001B[0mPythonUtils\u001B[0m\u001B[0;34m.\u001B[0m\u001B[0mgetBroadcastThreshold\u001B[0m\u001B[0;34m(\u001B[0m\u001B[0msc\u001B[0m\u001B[0;34m.\u001B[0m\u001B[0m_jsc\u001B[0m\u001B[0;34m)\u001B[0m\u001B[0;34m:\u001B[0m  \u001B[0;31m# Default 1M\u001B[0m\u001B[0;34m\u001B[0m\u001B[0;34m\u001B[0m\u001B[0m\n\n\u001B[0;32m/databricks/spark/python/pyspark/serializers.py\u001B[0m in \u001B[0;36mdumps\u001B[0;34m(self, obj)\u001B[0m\n\u001B[1;32m    535\u001B[0m                 \u001B[0mmsg\u001B[0m \u001B[0;34m=\u001B[0m \u001B[0;34m\"Could not serialize object: %s: %s\"\u001B[0m \u001B[0;34m%\u001B[0m \u001B[0;34m(\u001B[0m\u001B[0me\u001B[0m\u001B[0;34m.\u001B[0m\u001B[0m__class__\u001B[0m\u001B[0;34m.\u001B[0m\u001B[0m__name__\u001B[0m\u001B[0;34m,\u001B[0m \u001B[0memsg\u001B[0m\u001B[0;34m)\u001B[0m\u001B[0;34m\u001B[0m\u001B[0;34m\u001B[0m\u001B[0m\n\u001B[1;32m    536\u001B[0m             \u001B[0mprint_exec\u001B[0m\u001B[0;34m(\u001B[0m\u001B[0msys\u001B[0m\u001B[0;34m.\u001B[0m\u001B[0mstderr\u001B[0m\u001B[0;34m)\u001B[0m\u001B[0;34m\u001B[0m\u001B[0;34m\u001B[0m\u001B[0m\n\u001B[0;32m--> 537\u001B[0;31m             \u001B[0;32mraise\u001B[0m \u001B[0mpickle\u001B[0m\u001B[0;34m.\u001B[0m\u001B[0mPicklingError\u001B[0m\u001B[0;34m(\u001B[0m\u001B[0mmsg\u001B[0m\u001B[0;34m)\u001B[0m\u001B[0;34m\u001B[0m\u001B[0;34m\u001B[0m\u001B[0m\n\u001B[0m\u001B[1;32m    538\u001B[0m \u001B[0;34m\u001B[0m\u001B[0m\n\u001B[1;32m    539\u001B[0m     \u001B[0;32mdef\u001B[0m \u001B[0mloads\u001B[0m\u001B[0;34m(\u001B[0m\u001B[0mself\u001B[0m\u001B[0;34m,\u001B[0m \u001B[0mobj\u001B[0m\u001B[0;34m,\u001B[0m \u001B[0mencoding\u001B[0m\u001B[0;34m=\u001B[0m\u001B[0;34m\"bytes\"\u001B[0m\u001B[0;34m)\u001B[0m\u001B[0;34m:\u001B[0m\u001B[0;34m\u001B[0m\u001B[0;34m\u001B[0m\u001B[0m\n\n\u001B[0;31mPicklingError\u001B[0m: Could not serialize object: RuntimeError: It appears that you are attempting to reference SparkContext from a broadcast variable, action, or transformation. SparkContext can only be used on the driver, not in code that it run on workers. For more information, see SPARK-5063.",
       "errorSummary": "<span class='ansi-red-fg'>PicklingError</span>: Could not serialize object: RuntimeError: It appears that you are attempting to reference SparkContext from a broadcast variable, action, or transformation. SparkContext can only be used on the driver, not in code that it run on workers. For more information, see SPARK-5063.",
       "errorTraceType": "ansi",
       "metadata": {},
       "type": "ipynbError"
      }
     },
     "output_type": "display_data"
    }
   ],
   "source": [
    "from pyspark.sql.functions import array_contains\n",
    "#from pyspark.sql.types import IntegerType\n",
    "import pandas as pd\n",
    "from pyspark.sql.functions import col, udf\n",
    "import pyspark.sql.functions as F\n",
    "from pyspark.sql import types as t\n",
    "from pyspark.sql import SparkSession \n",
    "from pyspark.sql.types import IntegerType\n",
    "\n",
    "\n",
    "def career(aa,newdf):\n",
    "  display(aa)\n",
    "  result_df = newdf.filter(array_contains(newdf.Au_id, aa))\n",
    "  \n",
    "  display(result_df.limit(10))\n",
    "  min_yr = result_df.agg({\"year\": \"min\"}).collect()[0][0]\n",
    "  return min_yr\n",
    "\n",
    "#combine_udf = udf(career, IntegerType())\n",
    "\n",
    "'''@F.udf(returnType=t.IntegerType())\n",
    "def combine_udf(aa,newdf):\n",
    "  return career(aa,newdf)'''\n",
    "\n",
    "combine_udf = udf(career, IntegerType())\n",
    "\n",
    "df_ani = spark.read.format(\"parquet\").load(basePath+tablename_ani)\n",
    "newdf = df_ani.select('doi','Eid','year','Au','Au_cors')\n",
    "  \n",
    "newdf = newdf.withColumn('Au_id', F.col('Au').getItem('auid'))\n",
    "\n",
    "\n",
    "da = data.limit(10)\n",
    "da = da.withColumn('career_length', combine_udf(col('cor_au1'),newdf))\n",
    "#da = da.withColumn('career_length', da['cor_au1'].apply(career, args=[da['year']]))\n",
    "\n",
    "display(da)\n",
    "#y = career(35378854900,2018)  "
   ]
  },
  {
   "cell_type": "code",
   "execution_count": 0,
   "metadata": {
    "application/vnd.databricks.v1+cell": {
     "cellMetadata": {
      "byteLimit": 2048000,
      "rowLimit": 10000
     },
     "inputWidgets": {},
     "nuid": "758a0163-abd4-45dd-a9e4-86a76c4ccbdf",
     "showTitle": false,
     "title": ""
    }
   },
   "outputs": [
    {
     "output_type": "stream",
     "name": "stdout",
     "output_type": "stream",
     "text": [
      "2024"
     ]
    },
    {
     "output_type": "display_data",
     "data": {
      "text/html": [
       "<style scoped>\n",
       "  .table-result-container {\n",
       "    max-height: 300px;\n",
       "    overflow: auto;\n",
       "  }\n",
       "  table, th, td {\n",
       "    border: 1px solid black;\n",
       "    border-collapse: collapse;\n",
       "  }\n",
       "  th, td {\n",
       "    padding: 5px;\n",
       "  }\n",
       "  th {\n",
       "    text-align: left;\n",
       "  }\n",
       "</style><div class='table-result-container'><table class='table-result'><thead style='background-color: white'><tr><th>doi</th><th>Eid</th><th>year</th><th>Au</th><th>Au_cors</th><th>issn</th><th>source</th><th>correspondence</th><th>Au_id</th></tr></thead><tbody><tr><td>10.1016/j.jes.2023.01.012</td><td>85150233802</td><td>2024</td><td>List(List(1, 57461353000, auth, false, null, null, Cong, Cong, Lin C., Lin C., C., C., null, null, null, Lin, Lin), List(2, 57461353100, auth, false, null, null, Yuxuan, Yuxuan, Feng Y., Feng Y., Y., Y., null, null, null, Feng, Feng), List(3, 57210989010, auth, false, null, null, Xianjun, Xianjun, Xie X., Xie X., X., X., null, null, null, Xie, Xie), List(4, 57217077888, auth, false, null, null, Haoyu, Haoyu, Zhang H., Zhang H., H., H., null, null, null, Zhang, Zhang), List(5, 58128599900, auth, false, null, null, Jie, Jie, Wu J., Wu J., J., J., null, null, null, Wu, Wu), List(6, 58128519000, auth, false, null, null, Yixiao, Yixiao, Zhu Y., Zhu Y., Y., Y., null, null, null, Zhu, Zhu), List(7, 58128519100, auth, false, null, null, Jing, Jing, Yu J., Yu J., J., J., null, null, null, Yu, Yu), List(8, 57461781200, auth, false, null, null, Jingyi, Jingyi, Feng J., Feng J., J., J., null, null, null, Feng, Feng), List(9, 57460929000, auth, false, null, null, Wen, Wen, Su W., Su W., W., W., null, null, null, Su, Su), List(10, 58128558900, auth, false, null, null, Shanming, Shanming, Lai S., Lai S., S., S., null, null, null, Lai, Lai), List(11, 36122204600, auth, false, null, ee51cd6ad89f9b64ebe69a39ea0615ce5922bf92, Anyun, Anyun, Zhang A., Zhang A., A., A., null, 0000-0002-8814-517X, null, Zhang, Zhang))</td><td>List(List(11, 36122204600, null, false, null, null, Anyun, null, Zhang A., null, A., null, null, null, null, Zhang, null))</td><td>10010742</td><td>List(null, null, chn, 01, 03, March 2024, 2024, null, null, null, null, null, List(18787320), null, List(10010742), Chinese Academy of Sciences, Journal of Environmental Sciences (China), J. Environ. Sci., 23393, j, http://www.journals.elsevier.com/journal-of-environmental-sciences/)</td><td>List(List(chn, null))</td><td>List(57461353000, 57461353100, 57210989010, 57217077888, 58128599900, 58128519000, 58128519100, 57461781200, 57460929000, 58128558900, 36122204600)</td></tr><tr><td>10.1016/j.jes.2022.12.022</td><td>85147549544</td><td>2024</td><td>List(List(1, 56681557400, auth, false, null, null, Yiruiwen, Yiruiwen, Xie Y., Xie Y., Y., Y., null, 0000-0002-5443-2699, null, Xie, Xie), List(2, 56291941000, auth, false, null, 98a0bb4ebde1484ab2bb69ae152d8dc414a97b47, Dao, Dao, Guan D., Guan D., D., D., null, 0000-0002-1479-9808, null, Guan, Guan), List(3, 57217448218, auth, false, null, null, Yangfan, Yangfan, Deng Y., Deng Y., Y., Y., null, null, null, Deng, Deng), List(4, 57221700172, auth, false, null, null, Yugo, Yugo, Sato Y., Sato Y., Y., Y., null, 0000-0002-3896-0176, null, Sato, Sato), List(5, 57218451051, auth, false, null, null, Yu, Yu, Luo Y., Luo Y., Y., Y., null, null, null, Luo, Luo), List(6, 8082389600, auth, false, null, a5eb42cec72c85c0d1f2c4f2dfed2f0c168d8fbf, Guanghao, Guanghao, Chen G., Chen G., G., G., null, null, null, Chen, Chen))</td><td>List(List(2, 56291941000, null, false, null, null, Dao, null, Guan D., null, D., null, null, null, null, Guan, null))</td><td>10010742</td><td>List(null, null, chn, 01, 01, January 2024, 2024, null, null, null, null, null, List(18787320), null, List(10010742), Chinese Academy of Sciences, Journal of Environmental Sciences (China), J. Environ. Sci., 23393, j, http://www.journals.elsevier.com/journal-of-environmental-sciences/)</td><td>List(List(chn, null))</td><td>List(56681557400, 56291941000, 57217448218, 57221700172, 57218451051, 8082389600)</td></tr><tr><td>10.1016/j.jes.2023.02.023</td><td>85150362874</td><td>2024</td><td>List(List(1, 56918861700, auth, false, null, null, Peng, Peng, Chen P., Chen P., P., P., null, null, null, Chen, Chen), List(2, 57206819946, auth, false, null, null, Yi, Yi, Liu Y., Liu Y., Y., Y., null, null, null, Liu, Liu), List(3, 55745721000, auth, false, null, 3191c5dd0b720b794cfb4ba6369add536ee1d33b, Guo-Xin, Guo Xin, Sun G.-X., Sun G.X., G.-X., G.X., null, null, null, Sun, Sun))</td><td>List(List(3, 55745721000, null, false, null, null, Guo-Xin, null, Sun G.-X., null, G.-X., null, null, null, null, Sun, null))</td><td>10010742</td><td>List(null, null, chn, 01, 03, March 2024, 2024, null, null, null, null, null, List(18787320), null, List(10010742), Chinese Academy of Sciences, Journal of Environmental Sciences (China), J. Environ. Sci., 23393, j, http://www.journals.elsevier.com/journal-of-environmental-sciences/)</td><td>List(List(chn, null))</td><td>List(56918861700, 57206819946, 55745721000)</td></tr><tr><td>10.1016/j.partic.2023.02.016</td><td>85151572368</td><td>2024</td><td>List(List(1, 57459265100, auth, false, null, null, Govind, Govind, Sharma G., Sharma G., G., G., null, 0000-0002-0827-1353, null, Sharma, Sharma), List(2, 42262520000, auth, false, null, 46a408f7d3c0c71d03d82d2a4f30d08dc435e5de, Bahni, Bahni, Ray B., Ray B., B., B., null, 0000-0003-0930-8004, null, Ray, Ray))</td><td>List(List(2, 42262520000, null, false, null, null, Bahni, null, Ray B., null, B., null, null, null, null, Ray, null))</td><td>16742001</td><td>List(null, null, nld, 01, 01, January 2024, 2024, null, null, null, null, null, List(22104291), null, List(16742001), Elsevier B.V., Particuology, Particuology, 10900153324, j, https://www.journals.elsevier.com/particuology)</td><td>List(List(ind, null))</td><td>List(57459265100, 42262520000)</td></tr><tr><td>10.1590/1519-6984.263534</td><td>85134726005</td><td>2024</td><td>List(List(1, 57197592826, auth, false, null, null, null, Z., Haider Z., Haider Z., Z., Z., null, null, null, Haider, Haider), List(2, 16307801400, auth, false, null, null, null, S., Qamer S., Qamer S., S., S., null, null, null, Qamer, Qamer), List(3, 57736719800, auth, false, null, null, null, S., Kanwal S., Kanwal S., S., S., null, null, null, Kanwal, Kanwal), List(4, 57433696800, auth, false, null, null, null, S., Manzoor S., Manzoor S., S., S., null, null, null, Manzoor, Manzoor), List(5, 57384870000, auth, false, null, null, null, M., Naeem M., Naeem M., M., M., null, null, null, Naeem, Naeem), List(6, 57218501921, auth, false, null, null, null, J., Uddin J., Uddin J., J., J., null, null, null, Uddin, Uddin), List(7, 57816466200, auth, false, null, null, null, T., Liaqat T., Liaqat T., T., T., null, null, null, Liaqat, Liaqat), List(8, 57221976223, auth, false, null, null, null, A., Parveen A., Parveen A., A., A., null, null, null, Parveen, Parveen), List(9, 35783172300, auth, false, null, a0d76ba3daa71d94ebb4ffc089364859e970f9e1, null, A., Khan A., Khan A., A., A., null, null, null, Khan, Khan), List(10, 6506093146, auth, false, null, b8a81ef6bd94775a1a19e096fc83211c9918d518, null, A., Al-Harrasi A., Al-Harrasi A., A., A., null, null, null, Al-Harrasi, Al-Harrasi))</td><td>List(List(9, 35783172300, null, false, null, null, null, null, Khan A., null, A., null, null, null, null, Khan, null), List(10, 6506093146, null, false, null, null, null, null, Al-Harrasi A., null, A., null, null, null, null, Al-Harrasi, null))</td><td>15196984</td><td>List(e263534, null, bra, null, null, 2024, 2024, null, null, null, null, null, List(16784375), null, List(15196984), Instituto Internacional de Ecologia, Brazilian Journal of Biology, Braz. J. Biol., 13841, j, https://www.scielo.br/j/bjb/a/XGHctzFZbzTPB9zgLZmNCVx/?format=pdf&lang=en)</td><td>List(List(omn, null), List(omn, null))</td><td>List(57197592826, 16307801400, 57736719800, 57433696800, 57384870000, 57218501921, 57816466200, 57221976223, 35783172300, 6506093146)</td></tr><tr><td>10.1590/1519-6984.248656</td><td>85121478517</td><td>2024</td><td>List(List(1, 57381499100, auth, false, null, null, null, S. C.S., Luz S.C.S., Luz S.C.S., S.C.S., S.C.S., null, null, null, Luz, Luz), List(2, 25422514400, auth, false, null, null, null, M. A., Montes M.A., Montes M.A., M.A., M.A., null, null, null, Montes, Montes), List(3, 57211627228, auth, false, null, null, null, R. S., Farias R.S., Farias R.S., R.S., R.S., null, null, null, Farias, Farias), List(4, 57214441167, auth, false, null, null, null, R. V., Lima R.V., Lima R.V., R.V., R.V., null, null, null, Lima, Lima), List(5, 55865568392, auth, false, null, null, null, R. A., Torres R.A., Torres R.A., R.A., R.A., null, null, null, Torres, Torres), List(6, 15520575000, auth, false, null, null, null, E. J.G., Ferreira E.J.G., Ferreira E.J.G., E.J.G., E.J.G., null, null, null, Ferreira, Ferreira), List(7, 6506501832, auth, false, null, null, null, W., Severi W., Severi W., W., W., null, null, null, Severi, Severi), List(8, 7005408295, auth, false, null, b1fa4471c51d5a6de10ab0e3e18b51c79ca605c9, null, M. R.M., Coimbra M.R.M., Coimbra M.R.M., M.R.M., M.R.M., null, null, null, Coimbra, Coimbra))</td><td>List(List(8, 7005408295, null, false, null, null, null, null, Coimbra M.R.M., null, M.R.M., null, null, null, null, Coimbra, null))</td><td>15196984</td><td>List(e248656, null, bra, null, null, 2024, 2024, null, null, null, null, null, List(16784375), null, List(15196984), Instituto Internacional de Ecologia, Brazilian Journal of Biology, Braz. J. Biol., 13841, j, https://www.scielo.br/j/bjb/a/WFBD8WGyfSXFpDFPfngGRYx/?format=pdf&lang=en)</td><td>List(List(bra, null))</td><td>List(57381499100, 25422514400, 57211627228, 57214441167, 55865568392, 15520575000, 6506501832, 7005408295)</td></tr></tbody></table></div>"
      ]
     },
     "metadata": {
      "application/vnd.databricks.v1+output": {
       "addedWidgets": {},
       "aggData": [],
       "aggError": "",
       "aggOverflow": false,
       "aggSchema": [],
       "aggSeriesLimitReached": false,
       "aggType": "",
       "arguments": {},
       "columnCustomDisplayInfos": {},
       "data": [
        [
         "10.1016/j.jes.2023.01.012",
         85150233802,
         2024,
         [
          [
           1,
           57461353000,
           "auth",
           "false",
           null,
           null,
           "Cong",
           "Cong",
           "Lin C.",
           "Lin C.",
           "C.",
           "C.",
           null,
           null,
           null,
           "Lin",
           "Lin"
          ],
          [
           2,
           57461353100,
           "auth",
           "false",
           null,
           null,
           "Yuxuan",
           "Yuxuan",
           "Feng Y.",
           "Feng Y.",
           "Y.",
           "Y.",
           null,
           null,
           null,
           "Feng",
           "Feng"
          ],
          [
           3,
           57210989010,
           "auth",
           "false",
           null,
           null,
           "Xianjun",
           "Xianjun",
           "Xie X.",
           "Xie X.",
           "X.",
           "X.",
           null,
           null,
           null,
           "Xie",
           "Xie"
          ],
          [
           4,
           57217077888,
           "auth",
           "false",
           null,
           null,
           "Haoyu",
           "Haoyu",
           "Zhang H.",
           "Zhang H.",
           "H.",
           "H.",
           null,
           null,
           null,
           "Zhang",
           "Zhang"
          ],
          [
           5,
           58128599900,
           "auth",
           "false",
           null,
           null,
           "Jie",
           "Jie",
           "Wu J.",
           "Wu J.",
           "J.",
           "J.",
           null,
           null,
           null,
           "Wu",
           "Wu"
          ],
          [
           6,
           58128519000,
           "auth",
           "false",
           null,
           null,
           "Yixiao",
           "Yixiao",
           "Zhu Y.",
           "Zhu Y.",
           "Y.",
           "Y.",
           null,
           null,
           null,
           "Zhu",
           "Zhu"
          ],
          [
           7,
           58128519100,
           "auth",
           "false",
           null,
           null,
           "Jing",
           "Jing",
           "Yu J.",
           "Yu J.",
           "J.",
           "J.",
           null,
           null,
           null,
           "Yu",
           "Yu"
          ],
          [
           8,
           57461781200,
           "auth",
           "false",
           null,
           null,
           "Jingyi",
           "Jingyi",
           "Feng J.",
           "Feng J.",
           "J.",
           "J.",
           null,
           null,
           null,
           "Feng",
           "Feng"
          ],
          [
           9,
           57460929000,
           "auth",
           "false",
           null,
           null,
           "Wen",
           "Wen",
           "Su W.",
           "Su W.",
           "W.",
           "W.",
           null,
           null,
           null,
           "Su",
           "Su"
          ],
          [
           10,
           58128558900,
           "auth",
           "false",
           null,
           null,
           "Shanming",
           "Shanming",
           "Lai S.",
           "Lai S.",
           "S.",
           "S.",
           null,
           null,
           null,
           "Lai",
           "Lai"
          ],
          [
           11,
           36122204600,
           "auth",
           "false",
           null,
           "ee51cd6ad89f9b64ebe69a39ea0615ce5922bf92",
           "Anyun",
           "Anyun",
           "Zhang A.",
           "Zhang A.",
           "A.",
           "A.",
           null,
           "0000-0002-8814-517X",
           null,
           "Zhang",
           "Zhang"
          ]
         ],
         [
          [
           11,
           36122204600,
           null,
           "false",
           null,
           null,
           "Anyun",
           null,
           "Zhang A.",
           null,
           "A.",
           null,
           null,
           null,
           null,
           "Zhang",
           null
          ]
         ],
         "10010742",
         [
          null,
          null,
          "chn",
          "01",
          "03",
          "March 2024",
          "2024",
          null,
          null,
          null,
          null,
          null,
          [
           "18787320"
          ],
          null,
          [
           "10010742"
          ],
          "Chinese Academy of Sciences",
          "Journal of Environmental Sciences (China)",
          "J. Environ. Sci.",
          23393,
          "j",
          "http://www.journals.elsevier.com/journal-of-environmental-sciences/"
         ],
         [
          [
           "chn",
           null
          ]
         ],
         [
          57461353000,
          57461353100,
          57210989010,
          57217077888,
          58128599900,
          58128519000,
          58128519100,
          57461781200,
          57460929000,
          58128558900,
          36122204600
         ]
        ],
        [
         "10.1016/j.jes.2022.12.022",
         85147549544,
         2024,
         [
          [
           1,
           56681557400,
           "auth",
           "false",
           null,
           null,
           "Yiruiwen",
           "Yiruiwen",
           "Xie Y.",
           "Xie Y.",
           "Y.",
           "Y.",
           null,
           "0000-0002-5443-2699",
           null,
           "Xie",
           "Xie"
          ],
          [
           2,
           56291941000,
           "auth",
           "false",
           null,
           "98a0bb4ebde1484ab2bb69ae152d8dc414a97b47",
           "Dao",
           "Dao",
           "Guan D.",
           "Guan D.",
           "D.",
           "D.",
           null,
           "0000-0002-1479-9808",
           null,
           "Guan",
           "Guan"
          ],
          [
           3,
           57217448218,
           "auth",
           "false",
           null,
           null,
           "Yangfan",
           "Yangfan",
           "Deng Y.",
           "Deng Y.",
           "Y.",
           "Y.",
           null,
           null,
           null,
           "Deng",
           "Deng"
          ],
          [
           4,
           57221700172,
           "auth",
           "false",
           null,
           null,
           "Yugo",
           "Yugo",
           "Sato Y.",
           "Sato Y.",
           "Y.",
           "Y.",
           null,
           "0000-0002-3896-0176",
           null,
           "Sato",
           "Sato"
          ],
          [
           5,
           57218451051,
           "auth",
           "false",
           null,
           null,
           "Yu",
           "Yu",
           "Luo Y.",
           "Luo Y.",
           "Y.",
           "Y.",
           null,
           null,
           null,
           "Luo",
           "Luo"
          ],
          [
           6,
           8082389600,
           "auth",
           "false",
           null,
           "a5eb42cec72c85c0d1f2c4f2dfed2f0c168d8fbf",
           "Guanghao",
           "Guanghao",
           "Chen G.",
           "Chen G.",
           "G.",
           "G.",
           null,
           null,
           null,
           "Chen",
           "Chen"
          ]
         ],
         [
          [
           2,
           56291941000,
           null,
           "false",
           null,
           null,
           "Dao",
           null,
           "Guan D.",
           null,
           "D.",
           null,
           null,
           null,
           null,
           "Guan",
           null
          ]
         ],
         "10010742",
         [
          null,
          null,
          "chn",
          "01",
          "01",
          "January 2024",
          "2024",
          null,
          null,
          null,
          null,
          null,
          [
           "18787320"
          ],
          null,
          [
           "10010742"
          ],
          "Chinese Academy of Sciences",
          "Journal of Environmental Sciences (China)",
          "J. Environ. Sci.",
          23393,
          "j",
          "http://www.journals.elsevier.com/journal-of-environmental-sciences/"
         ],
         [
          [
           "chn",
           null
          ]
         ],
         [
          56681557400,
          56291941000,
          57217448218,
          57221700172,
          57218451051,
          8082389600
         ]
        ],
        [
         "10.1016/j.jes.2023.02.023",
         85150362874,
         2024,
         [
          [
           1,
           56918861700,
           "auth",
           "false",
           null,
           null,
           "Peng",
           "Peng",
           "Chen P.",
           "Chen P.",
           "P.",
           "P.",
           null,
           null,
           null,
           "Chen",
           "Chen"
          ],
          [
           2,
           57206819946,
           "auth",
           "false",
           null,
           null,
           "Yi",
           "Yi",
           "Liu Y.",
           "Liu Y.",
           "Y.",
           "Y.",
           null,
           null,
           null,
           "Liu",
           "Liu"
          ],
          [
           3,
           55745721000,
           "auth",
           "false",
           null,
           "3191c5dd0b720b794cfb4ba6369add536ee1d33b",
           "Guo-Xin",
           "Guo Xin",
           "Sun G.-X.",
           "Sun G.X.",
           "G.-X.",
           "G.X.",
           null,
           null,
           null,
           "Sun",
           "Sun"
          ]
         ],
         [
          [
           3,
           55745721000,
           null,
           "false",
           null,
           null,
           "Guo-Xin",
           null,
           "Sun G.-X.",
           null,
           "G.-X.",
           null,
           null,
           null,
           null,
           "Sun",
           null
          ]
         ],
         "10010742",
         [
          null,
          null,
          "chn",
          "01",
          "03",
          "March 2024",
          "2024",
          null,
          null,
          null,
          null,
          null,
          [
           "18787320"
          ],
          null,
          [
           "10010742"
          ],
          "Chinese Academy of Sciences",
          "Journal of Environmental Sciences (China)",
          "J. Environ. Sci.",
          23393,
          "j",
          "http://www.journals.elsevier.com/journal-of-environmental-sciences/"
         ],
         [
          [
           "chn",
           null
          ]
         ],
         [
          56918861700,
          57206819946,
          55745721000
         ]
        ],
        [
         "10.1016/j.partic.2023.02.016",
         85151572368,
         2024,
         [
          [
           1,
           57459265100,
           "auth",
           "false",
           null,
           null,
           "Govind",
           "Govind",
           "Sharma G.",
           "Sharma G.",
           "G.",
           "G.",
           null,
           "0000-0002-0827-1353",
           null,
           "Sharma",
           "Sharma"
          ],
          [
           2,
           42262520000,
           "auth",
           "false",
           null,
           "46a408f7d3c0c71d03d82d2a4f30d08dc435e5de",
           "Bahni",
           "Bahni",
           "Ray B.",
           "Ray B.",
           "B.",
           "B.",
           null,
           "0000-0003-0930-8004",
           null,
           "Ray",
           "Ray"
          ]
         ],
         [
          [
           2,
           42262520000,
           null,
           "false",
           null,
           null,
           "Bahni",
           null,
           "Ray B.",
           null,
           "B.",
           null,
           null,
           null,
           null,
           "Ray",
           null
          ]
         ],
         "16742001",
         [
          null,
          null,
          "nld",
          "01",
          "01",
          "January 2024",
          "2024",
          null,
          null,
          null,
          null,
          null,
          [
           "22104291"
          ],
          null,
          [
           "16742001"
          ],
          "Elsevier B.V.",
          "Particuology",
          "Particuology",
          10900153324,
          "j",
          "https://www.journals.elsevier.com/particuology"
         ],
         [
          [
           "ind",
           null
          ]
         ],
         [
          57459265100,
          42262520000
         ]
        ],
        [
         "10.1590/1519-6984.263534",
         85134726005,
         2024,
         [
          [
           1,
           57197592826,
           "auth",
           "false",
           null,
           null,
           null,
           "Z.",
           "Haider Z.",
           "Haider Z.",
           "Z.",
           "Z.",
           null,
           null,
           null,
           "Haider",
           "Haider"
          ],
          [
           2,
           16307801400,
           "auth",
           "false",
           null,
           null,
           null,
           "S.",
           "Qamer S.",
           "Qamer S.",
           "S.",
           "S.",
           null,
           null,
           null,
           "Qamer",
           "Qamer"
          ],
          [
           3,
           57736719800,
           "auth",
           "false",
           null,
           null,
           null,
           "S.",
           "Kanwal S.",
           "Kanwal S.",
           "S.",
           "S.",
           null,
           null,
           null,
           "Kanwal",
           "Kanwal"
          ],
          [
           4,
           57433696800,
           "auth",
           "false",
           null,
           null,
           null,
           "S.",
           "Manzoor S.",
           "Manzoor S.",
           "S.",
           "S.",
           null,
           null,
           null,
           "Manzoor",
           "Manzoor"
          ],
          [
           5,
           57384870000,
           "auth",
           "false",
           null,
           null,
           null,
           "M.",
           "Naeem M.",
           "Naeem M.",
           "M.",
           "M.",
           null,
           null,
           null,
           "Naeem",
           "Naeem"
          ],
          [
           6,
           57218501921,
           "auth",
           "false",
           null,
           null,
           null,
           "J.",
           "Uddin J.",
           "Uddin J.",
           "J.",
           "J.",
           null,
           null,
           null,
           "Uddin",
           "Uddin"
          ],
          [
           7,
           57816466200,
           "auth",
           "false",
           null,
           null,
           null,
           "T.",
           "Liaqat T.",
           "Liaqat T.",
           "T.",
           "T.",
           null,
           null,
           null,
           "Liaqat",
           "Liaqat"
          ],
          [
           8,
           57221976223,
           "auth",
           "false",
           null,
           null,
           null,
           "A.",
           "Parveen A.",
           "Parveen A.",
           "A.",
           "A.",
           null,
           null,
           null,
           "Parveen",
           "Parveen"
          ],
          [
           9,
           35783172300,
           "auth",
           "false",
           null,
           "a0d76ba3daa71d94ebb4ffc089364859e970f9e1",
           null,
           "A.",
           "Khan A.",
           "Khan A.",
           "A.",
           "A.",
           null,
           null,
           null,
           "Khan",
           "Khan"
          ],
          [
           10,
           6506093146,
           "auth",
           "false",
           null,
           "b8a81ef6bd94775a1a19e096fc83211c9918d518",
           null,
           "A.",
           "Al-Harrasi A.",
           "Al-Harrasi A.",
           "A.",
           "A.",
           null,
           null,
           null,
           "Al-Harrasi",
           "Al-Harrasi"
          ]
         ],
         [
          [
           9,
           35783172300,
           null,
           "false",
           null,
           null,
           null,
           null,
           "Khan A.",
           null,
           "A.",
           null,
           null,
           null,
           null,
           "Khan",
           null
          ],
          [
           10,
           6506093146,
           null,
           "false",
           null,
           null,
           null,
           null,
           "Al-Harrasi A.",
           null,
           "A.",
           null,
           null,
           null,
           null,
           "Al-Harrasi",
           null
          ]
         ],
         "15196984",
         [
          "e263534",
          null,
          "bra",
          null,
          null,
          "2024",
          "2024",
          null,
          null,
          null,
          null,
          null,
          [
           "16784375"
          ],
          null,
          [
           "15196984"
          ],
          "Instituto Internacional de Ecologia",
          "Brazilian Journal of Biology",
          "Braz. J. Biol.",
          13841,
          "j",
          "https://www.scielo.br/j/bjb/a/XGHctzFZbzTPB9zgLZmNCVx/?format=pdf&lang=en"
         ],
         [
          [
           "omn",
           null
          ],
          [
           "omn",
           null
          ]
         ],
         [
          57197592826,
          16307801400,
          57736719800,
          57433696800,
          57384870000,
          57218501921,
          57816466200,
          57221976223,
          35783172300,
          6506093146
         ]
        ],
        [
         "10.1590/1519-6984.248656",
         85121478517,
         2024,
         [
          [
           1,
           57381499100,
           "auth",
           "false",
           null,
           null,
           null,
           "S. C.S.",
           "Luz S.C.S.",
           "Luz S.C.S.",
           "S.C.S.",
           "S.C.S.",
           null,
           null,
           null,
           "Luz",
           "Luz"
          ],
          [
           2,
           25422514400,
           "auth",
           "false",
           null,
           null,
           null,
           "M. A.",
           "Montes M.A.",
           "Montes M.A.",
           "M.A.",
           "M.A.",
           null,
           null,
           null,
           "Montes",
           "Montes"
          ],
          [
           3,
           57211627228,
           "auth",
           "false",
           null,
           null,
           null,
           "R. S.",
           "Farias R.S.",
           "Farias R.S.",
           "R.S.",
           "R.S.",
           null,
           null,
           null,
           "Farias",
           "Farias"
          ],
          [
           4,
           57214441167,
           "auth",
           "false",
           null,
           null,
           null,
           "R. V.",
           "Lima R.V.",
           "Lima R.V.",
           "R.V.",
           "R.V.",
           null,
           null,
           null,
           "Lima",
           "Lima"
          ],
          [
           5,
           55865568392,
           "auth",
           "false",
           null,
           null,
           null,
           "R. A.",
           "Torres R.A.",
           "Torres R.A.",
           "R.A.",
           "R.A.",
           null,
           null,
           null,
           "Torres",
           "Torres"
          ],
          [
           6,
           15520575000,
           "auth",
           "false",
           null,
           null,
           null,
           "E. J.G.",
           "Ferreira E.J.G.",
           "Ferreira E.J.G.",
           "E.J.G.",
           "E.J.G.",
           null,
           null,
           null,
           "Ferreira",
           "Ferreira"
          ],
          [
           7,
           6506501832,
           "auth",
           "false",
           null,
           null,
           null,
           "W.",
           "Severi W.",
           "Severi W.",
           "W.",
           "W.",
           null,
           null,
           null,
           "Severi",
           "Severi"
          ],
          [
           8,
           7005408295,
           "auth",
           "false",
           null,
           "b1fa4471c51d5a6de10ab0e3e18b51c79ca605c9",
           null,
           "M. R.M.",
           "Coimbra M.R.M.",
           "Coimbra M.R.M.",
           "M.R.M.",
           "M.R.M.",
           null,
           null,
           null,
           "Coimbra",
           "Coimbra"
          ]
         ],
         [
          [
           8,
           7005408295,
           null,
           "false",
           null,
           null,
           null,
           null,
           "Coimbra M.R.M.",
           null,
           "M.R.M.",
           null,
           null,
           null,
           null,
           "Coimbra",
           null
          ]
         ],
         "15196984",
         [
          "e248656",
          null,
          "bra",
          null,
          null,
          "2024",
          "2024",
          null,
          null,
          null,
          null,
          null,
          [
           "16784375"
          ],
          null,
          [
           "15196984"
          ],
          "Instituto Internacional de Ecologia",
          "Brazilian Journal of Biology",
          "Braz. J. Biol.",
          13841,
          "j",
          "https://www.scielo.br/j/bjb/a/WFBD8WGyfSXFpDFPfngGRYx/?format=pdf&lang=en"
         ],
         [
          [
           "bra",
           null
          ]
         ],
         [
          57381499100,
          25422514400,
          57211627228,
          57214441167,
          55865568392,
          15520575000,
          6506501832,
          7005408295
         ]
        ]
       ],
       "datasetInfos": [],
       "dbfsResultPath": null,
       "isJsonSchema": true,
       "metadata": {},
       "overflow": false,
       "plotOptions": {
        "customPlotOptions": {},
        "displayType": "table",
        "pivotAggregation": null,
        "pivotColumns": null,
        "xColumns": null,
        "yColumns": null
       },
       "removedWidgets": [],
       "schema": [
        {
         "metadata": "{}",
         "name": "doi",
         "type": "\"string\""
        },
        {
         "metadata": "{}",
         "name": "Eid",
         "type": "\"long\""
        },
        {
         "metadata": "{}",
         "name": "year",
         "type": "\"integer\""
        },
        {
         "metadata": "{}",
         "name": "Au",
         "type": "{\"type\":\"array\",\"elementType\":{\"type\":\"struct\",\"fields\":[{\"name\":\"Authorseq\",\"type\":\"integer\",\"nullable\":true,\"metadata\":{}},{\"name\":\"auid\",\"type\":\"long\",\"nullable\":true,\"metadata\":{}},{\"name\":\"author_type\",\"type\":\"string\",\"nullable\":true,\"metadata\":{}},{\"name\":\"collaboration\",\"type\":\"string\",\"nullable\":true,\"metadata\":{}},{\"name\":\"degrees\",\"type\":\"string\",\"nullable\":true,\"metadata\":{}},{\"name\":\"email_sha1\",\"type\":\"string\",\"nullable\":true,\"metadata\":{}},{\"name\":\"given_name\",\"type\":\"string\",\"nullable\":true,\"metadata\":{}},{\"name\":\"given_name_pn\",\"type\":\"string\",\"nullable\":true,\"metadata\":{}},{\"name\":\"indexed_name\",\"type\":\"string\",\"nullable\":true,\"metadata\":{}},{\"name\":\"indexed_name_pn\",\"type\":\"string\",\"nullable\":true,\"metadata\":{}},{\"name\":\"initials\",\"type\":\"string\",\"nullable\":true,\"metadata\":{}},{\"name\":\"initials_pn\",\"type\":\"string\",\"nullable\":true,\"metadata\":{}},{\"name\":\"nametext\",\"type\":\"string\",\"nullable\":true,\"metadata\":{}},{\"name\":\"orcid\",\"type\":\"string\",\"nullable\":true,\"metadata\":{}},{\"name\":\"suffix\",\"type\":\"string\",\"nullable\":true,\"metadata\":{}},{\"name\":\"surname\",\"type\":\"string\",\"nullable\":true,\"metadata\":{}},{\"name\":\"surname_pn\",\"type\":\"string\",\"nullable\":true,\"metadata\":{}}]},\"containsNull\":true}"
        },
        {
         "metadata": "{}",
         "name": "Au_cors",
         "type": "{\"type\":\"array\",\"elementType\":{\"type\":\"struct\",\"fields\":[{\"name\":\"Authorseq\",\"type\":\"integer\",\"nullable\":true,\"metadata\":{}},{\"name\":\"auid\",\"type\":\"long\",\"nullable\":true,\"metadata\":{}},{\"name\":\"author_type\",\"type\":\"string\",\"nullable\":true,\"metadata\":{}},{\"name\":\"collaboration\",\"type\":\"string\",\"nullable\":true,\"metadata\":{}},{\"name\":\"degrees\",\"type\":\"string\",\"nullable\":true,\"metadata\":{}},{\"name\":\"email_sha1\",\"type\":\"string\",\"nullable\":true,\"metadata\":{}},{\"name\":\"given_name\",\"type\":\"string\",\"nullable\":true,\"metadata\":{}},{\"name\":\"given_name_pn\",\"type\":\"string\",\"nullable\":true,\"metadata\":{}},{\"name\":\"indexed_name\",\"type\":\"string\",\"nullable\":true,\"metadata\":{}},{\"name\":\"indexed_name_pn\",\"type\":\"string\",\"nullable\":true,\"metadata\":{}},{\"name\":\"initials\",\"type\":\"string\",\"nullable\":true,\"metadata\":{}},{\"name\":\"initials_pn\",\"type\":\"string\",\"nullable\":true,\"metadata\":{}},{\"name\":\"nametext\",\"type\":\"string\",\"nullable\":true,\"metadata\":{}},{\"name\":\"orcid\",\"type\":\"string\",\"nullable\":true,\"metadata\":{}},{\"name\":\"suffix\",\"type\":\"string\",\"nullable\":true,\"metadata\":{}},{\"name\":\"surname\",\"type\":\"string\",\"nullable\":true,\"metadata\":{}},{\"name\":\"surname_pn\",\"type\":\"string\",\"nullable\":true,\"metadata\":{}}]},\"containsNull\":true}"
        },
        {
         "metadata": "{}",
         "name": "issn",
         "type": "\"string\""
        },
        {
         "metadata": "{}",
         "name": "source",
         "type": "{\"type\":\"struct\",\"fields\":[{\"name\":\"article_number\",\"type\":\"string\",\"nullable\":true,\"metadata\":{}},{\"name\":\"conferenceinfo\",\"type\":{\"type\":\"struct\",\"fields\":[{\"name\":\"enddate\",\"type\":\"string\",\"nullable\":true,\"metadata\":{}},{\"name\":\"location\",\"type\":\"string\",\"nullable\":true,\"metadata\":{}},{\"name\":\"name\",\"type\":\"string\",\"nullable\":true,\"metadata\":{}},{\"name\":\"startdate\",\"type\":\"string\",\"nullable\":true,\"metadata\":{}}]},\"nullable\":true,\"metadata\":{}},{\"name\":\"country\",\"type\":\"string\",\"nullable\":true,\"metadata\":{}},{\"name\":\"date_day\",\"type\":\"string\",\"nullable\":true,\"metadata\":{}},{\"name\":\"date_month\",\"type\":\"string\",\"nullable\":true,\"metadata\":{}},{\"name\":\"date_text\",\"type\":\"string\",\"nullable\":true,\"metadata\":{}},{\"name\":\"date_year\",\"type\":\"string\",\"nullable\":true,\"metadata\":{}},{\"name\":\"e_address\",\"type\":\"string\",\"nullable\":true,\"metadata\":{}},{\"name\":\"e_address_type\",\"type\":\"string\",\"nullable\":true,\"metadata\":{}},{\"name\":\"isbn_electronic\",\"type\":{\"type\":\"array\",\"elementType\":\"string\",\"containsNull\":true},\"nullable\":true,\"metadata\":{}},{\"name\":\"isbn_other\",\"type\":{\"type\":\"array\",\"elementType\":\"string\",\"containsNull\":true},\"nullable\":true,\"metadata\":{}},{\"name\":\"isbn_print\",\"type\":{\"type\":\"array\",\"elementType\":\"string\",\"containsNull\":true},\"nullable\":true,\"metadata\":{}},{\"name\":\"issn_electronic\",\"type\":{\"type\":\"array\",\"elementType\":\"string\",\"containsNull\":true},\"nullable\":true,\"metadata\":{}},{\"name\":\"issn_other\",\"type\":{\"type\":\"array\",\"elementType\":\"string\",\"containsNull\":true},\"nullable\":true,\"metadata\":{}},{\"name\":\"issn_print\",\"type\":{\"type\":\"array\",\"elementType\":\"string\",\"containsNull\":true},\"nullable\":true,\"metadata\":{}},{\"name\":\"publishername\",\"type\":\"string\",\"nullable\":true,\"metadata\":{}},{\"name\":\"sourcetitle\",\"type\":\"string\",\"nullable\":true,\"metadata\":{}},{\"name\":\"sourcetitle_abbrev\",\"type\":\"string\",\"nullable\":true,\"metadata\":{}},{\"name\":\"srcid\",\"type\":\"long\",\"nullable\":true,\"metadata\":{}},{\"name\":\"type\",\"type\":\"string\",\"nullable\":true,\"metadata\":{}},{\"name\":\"website\",\"type\":\"string\",\"nullable\":true,\"metadata\":{}}]}"
        },
        {
         "metadata": "{}",
         "name": "correspondence",
         "type": "{\"type\":\"array\",\"elementType\":{\"type\":\"struct\",\"fields\":[{\"name\":\"country\",\"type\":\"string\",\"nullable\":true,\"metadata\":{}},{\"name\":\"txt\",\"type\":\"string\",\"nullable\":true,\"metadata\":{}}]},\"containsNull\":true}"
        },
        {
         "metadata": "{}",
         "name": "Au_id",
         "type": "{\"type\":\"array\",\"elementType\":\"long\",\"containsNull\":true}"
        }
       ],
       "type": "table"
      }
     },
     "output_type": "display_data"
    }
   ],
   "source": [
    "df_ani = spark.read.format(\"parquet\").load(basePath+tablename_ani)\n",
    "newdf = df_ani.select('doi','Eid','year','Au','Au_cors','issn','source','correspondence')\n",
    "newdf = newdf.withColumn('Au_id', F.col('Au').getItem('auid'))\n",
    "#display(newdf)\n",
    "display(newdf.agg({\"year\": \"max\"}).collect()[0][0])\n",
    "display(newdf.filter(func.col(\"year\") == 2024))"
   ]
  },
  {
   "cell_type": "code",
   "execution_count": 0,
   "metadata": {
    "application/vnd.databricks.v1+cell": {
     "cellMetadata": {},
     "inputWidgets": {},
     "nuid": "c41fdb6f-06cf-460f-8b2f-05a67369e08f",
     "showTitle": false,
     "title": ""
    }
   },
   "outputs": [],
   "source": []
  },
  {
   "cell_type": "code",
   "execution_count": 0,
   "metadata": {
    "application/vnd.databricks.v1+cell": {
     "cellMetadata": {
      "byteLimit": 2048000,
      "rowLimit": 10000
     },
     "inputWidgets": {},
     "nuid": "5b77202d-1695-4a4b-bf9b-b543d6f7cde9",
     "showTitle": false,
     "title": ""
    }
   },
   "outputs": [
    {
     "output_type": "display_data",
     "data": {
      "text/html": [
       "<style scoped>\n",
       "  .table-result-container {\n",
       "    max-height: 300px;\n",
       "    overflow: auto;\n",
       "  }\n",
       "  table, th, td {\n",
       "    border: 1px solid black;\n",
       "    border-collapse: collapse;\n",
       "  }\n",
       "  th, td {\n",
       "    padding: 5px;\n",
       "  }\n",
       "  th {\n",
       "    text-align: left;\n",
       "  }\n",
       "</style><div class='table-result-container'><table class='table-result'><thead style='background-color: white'><tr><th>doi</th><th>Eid</th><th>year</th><th>Au</th><th>Au_cors</th><th>issn</th><th>source</th><th>correspondence</th><th>Au_id</th><th>Au1</th></tr></thead><tbody><tr><td>10.1097/00005650-200209000-00007</td><td>36717780</td><td>2002</td><td>List(List(1, 35378854900, null, false, null, a7d8fd447b21455456b14b85e3283d5a3140b2f0, Christopher M., Christopher M., Callahan C.M., Callahan C.M., C.M., C.M., null, null, null, Callahan, Callahan), List(2, 35481291100, null, false, null, null, Frederick W., Frederick W., Unverzagt F.W., Unverzagt F.W., F.W., F.W., null, null, null, Unverzagt, Unverzagt), List(3, 7202831850, null, false, null, null, Siu L., Siu L., Hui S.L., Hui S.L., S.L., S.L., null, null, null, Hui, Hui), List(4, 7102761843, null, false, null, null, Anthony J., Anthony J., Perkins A.J., Perkins A.J., A.J., A.J., null, null, null, Perkins, Perkins), List(5, 7004923246, null, false, null, null, Hugh C., Hugh C., Hendrie H.C., Hendrie H.C., H.C., H.C., null, null, null, Hendrie, Hendrie))</td><td>List(List(1, 35378854900, null, false, Dr., null, null, null, Callahan C.M., null, C.M., null, null, null, null, Callahan, null))</td><td>00257079</td><td>List(null, null, usa, null, 09, September 2002, 2002, null, null, null, null, null, null, null, List(00257079), null, Medical Care, Med. Care, 17785, j, null)</td><td>List(List(usa, null))</td><td>List(35378854900, 35481291100, 7202831850, 7102761843, 7004923246)</td><td>35378854900</td></tr><tr><td>10.1016/S0091-7435(02)00038-5</td><td>37325732</td><td>2003</td><td>List(List(1, 7102774879, auth, false, null, ca37e0c63d09e4c99a9dba701f972d44ad58b41f, Victoria, Victoria, Champion V., Champion V., V., V., null, null, null, Champion, Champion), List(2, 6505991289, auth, false, null, null, Maltie, Maltie, Maraj M., Maraj M., M., M., null, null, null, Maraj, Maraj), List(3, 7202831850, auth, false, null, null, Siu, Siu, Hui S., Hui S., S., S., null, null, null, Hui, Hui), List(4, 7102761843, auth, false, null, null, Anthony J., Anthony J., Perkins A.J., Perkins A.J., A.J., A.J., null, null, null, Perkins, Perkins), List(5, 7103277128, auth, false, null, null, William, William, Tierney W., Tierney W., W., W., null, null, null, Tierney, Tierney), List(6, 36087734300, auth, false, null, null, Usha, Usha, Menon U., Menon U., U., U., null, null, null, Menon, Menon), List(7, 7201765053, auth, false, null, null, Celette Sugg, Celette Sugg, Skinner C.S., Skinner C.S., C.S., C.S., null, null, null, Skinner, Skinner))</td><td>List(List(1, 7102774879, null, false, null, null, null, null, Champion V., null, V., null, null, null, null, Champion, null))</td><td>00917435</td><td>List(null, null, usa, 01, 02, 1 February 2003, 2003, null, null, null, null, null, null, null, List(00917435), Academic Press Inc., Preventive Medicine, Prev. Med., 17665, j, http://www.elsevier.com/inca/publications/store/6/2/2/9/3/4/index.htt)</td><td>List(List(usa, null))</td><td>List(7102774879, 6505991289, 7202831850, 7102761843, 7103277128, 36087734300, 7201765053)</td><td>7102774879</td></tr><tr><td>10.1172/JCI113523</td><td>23902418</td><td>1988</td><td>List(List(1, 7202831850, auth, false, null, null, null, S. L., Hui S.L., Hui S.L., S.L., S.L., null, null, null, Hui, Hui), List(2, 7005042897, auth, false, null, null, null, C. W., Slemenda C.W., Slemenda C.W., C.W., C.W., null, null, null, Slemenda, Slemenda), List(3, 57646572200, auth, false, null, null, null, C. C., Johnston Jr. C.C., Johnston C.C., C.C., C.C., null, null, null, Johnston Jr., Johnston))</td><td>List()</td><td>00219738</td><td>List(null, null, usa, null, null, 1988, 1988, null, null, null, null, null, null, null, List(00219738), null, Journal of Clinical Investigation, J. CLIN. INVEST., 15870, j, null)</td><td>List()</td><td>List(7202831850, 7005042897, 57646572200)</td><td>7202831850</td></tr></tbody></table></div>"
      ]
     },
     "metadata": {
      "application/vnd.databricks.v1+output": {
       "addedWidgets": {},
       "aggData": [],
       "aggError": "",
       "aggOverflow": false,
       "aggSchema": [],
       "aggSeriesLimitReached": false,
       "aggType": "",
       "arguments": {},
       "columnCustomDisplayInfos": {},
       "data": [
        [
         "10.1097/00005650-200209000-00007",
         36717780,
         2002,
         [
          [
           1,
           35378854900,
           null,
           "false",
           null,
           "a7d8fd447b21455456b14b85e3283d5a3140b2f0",
           "Christopher M.",
           "Christopher M.",
           "Callahan C.M.",
           "Callahan C.M.",
           "C.M.",
           "C.M.",
           null,
           null,
           null,
           "Callahan",
           "Callahan"
          ],
          [
           2,
           35481291100,
           null,
           "false",
           null,
           null,
           "Frederick W.",
           "Frederick W.",
           "Unverzagt F.W.",
           "Unverzagt F.W.",
           "F.W.",
           "F.W.",
           null,
           null,
           null,
           "Unverzagt",
           "Unverzagt"
          ],
          [
           3,
           7202831850,
           null,
           "false",
           null,
           null,
           "Siu L.",
           "Siu L.",
           "Hui S.L.",
           "Hui S.L.",
           "S.L.",
           "S.L.",
           null,
           null,
           null,
           "Hui",
           "Hui"
          ],
          [
           4,
           7102761843,
           null,
           "false",
           null,
           null,
           "Anthony J.",
           "Anthony J.",
           "Perkins A.J.",
           "Perkins A.J.",
           "A.J.",
           "A.J.",
           null,
           null,
           null,
           "Perkins",
           "Perkins"
          ],
          [
           5,
           7004923246,
           null,
           "false",
           null,
           null,
           "Hugh C.",
           "Hugh C.",
           "Hendrie H.C.",
           "Hendrie H.C.",
           "H.C.",
           "H.C.",
           null,
           null,
           null,
           "Hendrie",
           "Hendrie"
          ]
         ],
         [
          [
           1,
           35378854900,
           null,
           "false",
           "Dr.",
           null,
           null,
           null,
           "Callahan C.M.",
           null,
           "C.M.",
           null,
           null,
           null,
           null,
           "Callahan",
           null
          ]
         ],
         "00257079",
         [
          null,
          null,
          "usa",
          null,
          "09",
          "September 2002",
          "2002",
          null,
          null,
          null,
          null,
          null,
          null,
          null,
          [
           "00257079"
          ],
          null,
          "Medical Care",
          "Med. Care",
          17785,
          "j",
          null
         ],
         [
          [
           "usa",
           null
          ]
         ],
         [
          35378854900,
          35481291100,
          7202831850,
          7102761843,
          7004923246
         ],
         35378854900
        ],
        [
         "10.1016/S0091-7435(02)00038-5",
         37325732,
         2003,
         [
          [
           1,
           7102774879,
           "auth",
           "false",
           null,
           "ca37e0c63d09e4c99a9dba701f972d44ad58b41f",
           "Victoria",
           "Victoria",
           "Champion V.",
           "Champion V.",
           "V.",
           "V.",
           null,
           null,
           null,
           "Champion",
           "Champion"
          ],
          [
           2,
           6505991289,
           "auth",
           "false",
           null,
           null,
           "Maltie",
           "Maltie",
           "Maraj M.",
           "Maraj M.",
           "M.",
           "M.",
           null,
           null,
           null,
           "Maraj",
           "Maraj"
          ],
          [
           3,
           7202831850,
           "auth",
           "false",
           null,
           null,
           "Siu",
           "Siu",
           "Hui S.",
           "Hui S.",
           "S.",
           "S.",
           null,
           null,
           null,
           "Hui",
           "Hui"
          ],
          [
           4,
           7102761843,
           "auth",
           "false",
           null,
           null,
           "Anthony J.",
           "Anthony J.",
           "Perkins A.J.",
           "Perkins A.J.",
           "A.J.",
           "A.J.",
           null,
           null,
           null,
           "Perkins",
           "Perkins"
          ],
          [
           5,
           7103277128,
           "auth",
           "false",
           null,
           null,
           "William",
           "William",
           "Tierney W.",
           "Tierney W.",
           "W.",
           "W.",
           null,
           null,
           null,
           "Tierney",
           "Tierney"
          ],
          [
           6,
           36087734300,
           "auth",
           "false",
           null,
           null,
           "Usha",
           "Usha",
           "Menon U.",
           "Menon U.",
           "U.",
           "U.",
           null,
           null,
           null,
           "Menon",
           "Menon"
          ],
          [
           7,
           7201765053,
           "auth",
           "false",
           null,
           null,
           "Celette Sugg",
           "Celette Sugg",
           "Skinner C.S.",
           "Skinner C.S.",
           "C.S.",
           "C.S.",
           null,
           null,
           null,
           "Skinner",
           "Skinner"
          ]
         ],
         [
          [
           1,
           7102774879,
           null,
           "false",
           null,
           null,
           null,
           null,
           "Champion V.",
           null,
           "V.",
           null,
           null,
           null,
           null,
           "Champion",
           null
          ]
         ],
         "00917435",
         [
          null,
          null,
          "usa",
          "01",
          "02",
          "1 February 2003",
          "2003",
          null,
          null,
          null,
          null,
          null,
          null,
          null,
          [
           "00917435"
          ],
          "Academic Press Inc.",
          "Preventive Medicine",
          "Prev. Med.",
          17665,
          "j",
          "http://www.elsevier.com/inca/publications/store/6/2/2/9/3/4/index.htt"
         ],
         [
          [
           "usa",
           null
          ]
         ],
         [
          7102774879,
          6505991289,
          7202831850,
          7102761843,
          7103277128,
          36087734300,
          7201765053
         ],
         7102774879
        ],
        [
         "10.1172/JCI113523",
         23902418,
         1988,
         [
          [
           1,
           7202831850,
           "auth",
           "false",
           null,
           null,
           null,
           "S. L.",
           "Hui S.L.",
           "Hui S.L.",
           "S.L.",
           "S.L.",
           null,
           null,
           null,
           "Hui",
           "Hui"
          ],
          [
           2,
           7005042897,
           "auth",
           "false",
           null,
           null,
           null,
           "C. W.",
           "Slemenda C.W.",
           "Slemenda C.W.",
           "C.W.",
           "C.W.",
           null,
           null,
           null,
           "Slemenda",
           "Slemenda"
          ],
          [
           3,
           57646572200,
           "auth",
           "false",
           null,
           null,
           null,
           "C. C.",
           "Johnston Jr. C.C.",
           "Johnston C.C.",
           "C.C.",
           "C.C.",
           null,
           null,
           null,
           "Johnston Jr.",
           "Johnston"
          ]
         ],
         [],
         "00219738",
         [
          null,
          null,
          "usa",
          null,
          null,
          "1988",
          "1988",
          null,
          null,
          null,
          null,
          null,
          null,
          null,
          [
           "00219738"
          ],
          null,
          "Journal of Clinical Investigation",
          "J. CLIN. INVEST.",
          15870,
          "j",
          null
         ],
         [],
         [
          7202831850,
          7005042897,
          57646572200
         ],
         7202831850
        ]
       ],
       "datasetInfos": [],
       "dbfsResultPath": null,
       "isJsonSchema": true,
       "metadata": {},
       "overflow": false,
       "plotOptions": {
        "customPlotOptions": {},
        "displayType": "table",
        "pivotAggregation": null,
        "pivotColumns": null,
        "xColumns": null,
        "yColumns": null
       },
       "removedWidgets": [],
       "schema": [
        {
         "metadata": "{}",
         "name": "doi",
         "type": "\"string\""
        },
        {
         "metadata": "{}",
         "name": "Eid",
         "type": "\"long\""
        },
        {
         "metadata": "{}",
         "name": "year",
         "type": "\"integer\""
        },
        {
         "metadata": "{}",
         "name": "Au",
         "type": "{\"type\":\"array\",\"elementType\":{\"type\":\"struct\",\"fields\":[{\"name\":\"Authorseq\",\"type\":\"integer\",\"nullable\":true,\"metadata\":{}},{\"name\":\"auid\",\"type\":\"long\",\"nullable\":true,\"metadata\":{}},{\"name\":\"author_type\",\"type\":\"string\",\"nullable\":true,\"metadata\":{}},{\"name\":\"collaboration\",\"type\":\"string\",\"nullable\":true,\"metadata\":{}},{\"name\":\"degrees\",\"type\":\"string\",\"nullable\":true,\"metadata\":{}},{\"name\":\"email_sha1\",\"type\":\"string\",\"nullable\":true,\"metadata\":{}},{\"name\":\"given_name\",\"type\":\"string\",\"nullable\":true,\"metadata\":{}},{\"name\":\"given_name_pn\",\"type\":\"string\",\"nullable\":true,\"metadata\":{}},{\"name\":\"indexed_name\",\"type\":\"string\",\"nullable\":true,\"metadata\":{}},{\"name\":\"indexed_name_pn\",\"type\":\"string\",\"nullable\":true,\"metadata\":{}},{\"name\":\"initials\",\"type\":\"string\",\"nullable\":true,\"metadata\":{}},{\"name\":\"initials_pn\",\"type\":\"string\",\"nullable\":true,\"metadata\":{}},{\"name\":\"nametext\",\"type\":\"string\",\"nullable\":true,\"metadata\":{}},{\"name\":\"orcid\",\"type\":\"string\",\"nullable\":true,\"metadata\":{}},{\"name\":\"suffix\",\"type\":\"string\",\"nullable\":true,\"metadata\":{}},{\"name\":\"surname\",\"type\":\"string\",\"nullable\":true,\"metadata\":{}},{\"name\":\"surname_pn\",\"type\":\"string\",\"nullable\":true,\"metadata\":{}}]},\"containsNull\":true}"
        },
        {
         "metadata": "{}",
         "name": "Au_cors",
         "type": "{\"type\":\"array\",\"elementType\":{\"type\":\"struct\",\"fields\":[{\"name\":\"Authorseq\",\"type\":\"integer\",\"nullable\":true,\"metadata\":{}},{\"name\":\"auid\",\"type\":\"long\",\"nullable\":true,\"metadata\":{}},{\"name\":\"author_type\",\"type\":\"string\",\"nullable\":true,\"metadata\":{}},{\"name\":\"collaboration\",\"type\":\"string\",\"nullable\":true,\"metadata\":{}},{\"name\":\"degrees\",\"type\":\"string\",\"nullable\":true,\"metadata\":{}},{\"name\":\"email_sha1\",\"type\":\"string\",\"nullable\":true,\"metadata\":{}},{\"name\":\"given_name\",\"type\":\"string\",\"nullable\":true,\"metadata\":{}},{\"name\":\"given_name_pn\",\"type\":\"string\",\"nullable\":true,\"metadata\":{}},{\"name\":\"indexed_name\",\"type\":\"string\",\"nullable\":true,\"metadata\":{}},{\"name\":\"indexed_name_pn\",\"type\":\"string\",\"nullable\":true,\"metadata\":{}},{\"name\":\"initials\",\"type\":\"string\",\"nullable\":true,\"metadata\":{}},{\"name\":\"initials_pn\",\"type\":\"string\",\"nullable\":true,\"metadata\":{}},{\"name\":\"nametext\",\"type\":\"string\",\"nullable\":true,\"metadata\":{}},{\"name\":\"orcid\",\"type\":\"string\",\"nullable\":true,\"metadata\":{}},{\"name\":\"suffix\",\"type\":\"string\",\"nullable\":true,\"metadata\":{}},{\"name\":\"surname\",\"type\":\"string\",\"nullable\":true,\"metadata\":{}},{\"name\":\"surname_pn\",\"type\":\"string\",\"nullable\":true,\"metadata\":{}}]},\"containsNull\":true}"
        },
        {
         "metadata": "{}",
         "name": "issn",
         "type": "\"string\""
        },
        {
         "metadata": "{}",
         "name": "source",
         "type": "{\"type\":\"struct\",\"fields\":[{\"name\":\"article_number\",\"type\":\"string\",\"nullable\":true,\"metadata\":{}},{\"name\":\"conferenceinfo\",\"type\":{\"type\":\"struct\",\"fields\":[{\"name\":\"enddate\",\"type\":\"string\",\"nullable\":true,\"metadata\":{}},{\"name\":\"location\",\"type\":\"string\",\"nullable\":true,\"metadata\":{}},{\"name\":\"name\",\"type\":\"string\",\"nullable\":true,\"metadata\":{}},{\"name\":\"startdate\",\"type\":\"string\",\"nullable\":true,\"metadata\":{}}]},\"nullable\":true,\"metadata\":{}},{\"name\":\"country\",\"type\":\"string\",\"nullable\":true,\"metadata\":{}},{\"name\":\"date_day\",\"type\":\"string\",\"nullable\":true,\"metadata\":{}},{\"name\":\"date_month\",\"type\":\"string\",\"nullable\":true,\"metadata\":{}},{\"name\":\"date_text\",\"type\":\"string\",\"nullable\":true,\"metadata\":{}},{\"name\":\"date_year\",\"type\":\"string\",\"nullable\":true,\"metadata\":{}},{\"name\":\"e_address\",\"type\":\"string\",\"nullable\":true,\"metadata\":{}},{\"name\":\"e_address_type\",\"type\":\"string\",\"nullable\":true,\"metadata\":{}},{\"name\":\"isbn_electronic\",\"type\":{\"type\":\"array\",\"elementType\":\"string\",\"containsNull\":true},\"nullable\":true,\"metadata\":{}},{\"name\":\"isbn_other\",\"type\":{\"type\":\"array\",\"elementType\":\"string\",\"containsNull\":true},\"nullable\":true,\"metadata\":{}},{\"name\":\"isbn_print\",\"type\":{\"type\":\"array\",\"elementType\":\"string\",\"containsNull\":true},\"nullable\":true,\"metadata\":{}},{\"name\":\"issn_electronic\",\"type\":{\"type\":\"array\",\"elementType\":\"string\",\"containsNull\":true},\"nullable\":true,\"metadata\":{}},{\"name\":\"issn_other\",\"type\":{\"type\":\"array\",\"elementType\":\"string\",\"containsNull\":true},\"nullable\":true,\"metadata\":{}},{\"name\":\"issn_print\",\"type\":{\"type\":\"array\",\"elementType\":\"string\",\"containsNull\":true},\"nullable\":true,\"metadata\":{}},{\"name\":\"publishername\",\"type\":\"string\",\"nullable\":true,\"metadata\":{}},{\"name\":\"sourcetitle\",\"type\":\"string\",\"nullable\":true,\"metadata\":{}},{\"name\":\"sourcetitle_abbrev\",\"type\":\"string\",\"nullable\":true,\"metadata\":{}},{\"name\":\"srcid\",\"type\":\"long\",\"nullable\":true,\"metadata\":{}},{\"name\":\"type\",\"type\":\"string\",\"nullable\":true,\"metadata\":{}},{\"name\":\"website\",\"type\":\"string\",\"nullable\":true,\"metadata\":{}}]}"
        },
        {
         "metadata": "{}",
         "name": "correspondence",
         "type": "{\"type\":\"array\",\"elementType\":{\"type\":\"struct\",\"fields\":[{\"name\":\"country\",\"type\":\"string\",\"nullable\":true,\"metadata\":{}},{\"name\":\"txt\",\"type\":\"string\",\"nullable\":true,\"metadata\":{}}]},\"containsNull\":true}"
        },
        {
         "metadata": "{}",
         "name": "Au_id",
         "type": "{\"type\":\"array\",\"elementType\":\"long\",\"containsNull\":true}"
        },
        {
         "metadata": "{}",
         "name": "Au1",
         "type": "\"long\""
        }
       ],
       "type": "table"
      }
     },
     "output_type": "display_data"
    }
   ],
   "source": [
    "\n",
    "from pyspark.sql.functions import array_contains\n",
    "import pandas as pd\n",
    "import pyspark.sql.functions as F\n",
    "def first(lst):\n",
    "  return lst[0]\n",
    "\n",
    "newdf = newdf.withColumn('Au1', first(newdf['Au_id']))\n",
    "result_df = newdf.filter(array_contains(newdf.Au_id, 7202831850))\n",
    "display(result_df)"
   ]
  },
  {
   "cell_type": "code",
   "execution_count": 0,
   "metadata": {
    "application/vnd.databricks.v1+cell": {
     "cellMetadata": {
      "byteLimit": 2048000,
      "rowLimit": 10000
     },
     "inputWidgets": {},
     "nuid": "cf822cfc-f92d-4020-9856-c89ffcccaa61",
     "showTitle": false,
     "title": ""
    }
   },
   "outputs": [],
   "source": [
    "df = newdf.select('doi','Eid','year','issn','Au_id').toPandas()\n"
   ]
  },
  {
   "cell_type": "code",
   "execution_count": 0,
   "metadata": {
    "application/vnd.databricks.v1+cell": {
     "cellMetadata": {
      "byteLimit": 2048000,
      "rowLimit": 10000
     },
     "inputWidgets": {},
     "nuid": "6fa1f6b5-0e6e-45a0-b8c9-20533b7ed5bd",
     "showTitle": false,
     "title": ""
    }
   },
   "outputs": [
    {
     "output_type": "stream",
     "name": "stdout",
     "output_type": "stream",
     "text": [
      "   name  new\n0     1    3\n1     2    1\n2     3    2\n"
     ]
    }
   ],
   "source": [
    "def find(target_value):\n",
    "\n",
    "  a = pd.DataFrame()\n",
    "  a['id'] = [1,2,3,4]\n",
    "  a['lst'] = [[1,3,4],[1,3,5],[5,6,2],[5,6,1]]\n",
    "\n",
    "  new = a[a['lst'].apply(lambda lst: target_value in lst)]\n",
    "  return len(new)\n",
    "\n",
    "b = pd.DataFrame()\n",
    "b['name'] = [1,2,3]\n",
    "\n",
    "b['new'] = b['name'].apply(find)\n",
    "\n",
    "\n",
    "\n",
    "#target_value = 1\n",
    "#result_df = b[b['lst'].apply(lambda lst: target_value in lst)]\n",
    "\n",
    "\n",
    "print(b)"
   ]
  },
  {
   "cell_type": "markdown",
   "metadata": {
    "application/vnd.databricks.v1+cell": {
     "cellMetadata": {},
     "inputWidgets": {},
     "nuid": "4d6f737b-2c8d-42eb-9246-3ec627584c1b",
     "showTitle": false,
     "title": ""
    }
   },
   "source": [
    "# affiliation find testing"
   ]
  },
  {
   "cell_type": "code",
   "execution_count": 0,
   "metadata": {
    "application/vnd.databricks.v1+cell": {
     "cellMetadata": {
      "byteLimit": 2048000,
      "rowLimit": 10000
     },
     "inputWidgets": {},
     "nuid": "bb80d2ee-1990-4669-9b64-7e704d715268",
     "showTitle": false,
     "title": ""
    }
   },
   "outputs": [
    {
     "output_type": "stream",
     "name": "stdout",
     "output_type": "stream",
     "text": [
      "'len of df_ani '864655'\\n''len of df_ani in english '844293'\\n''# doi data from crossref and altmetric '9061001'\\n''merged data len between crossref and scopus '113617'\\n'"
     ]
    },
    {
     "output_type": "display_data",
     "data": {
      "text/html": [
       "<style scoped>\n",
       "  .table-result-container {\n",
       "    max-height: 300px;\n",
       "    overflow: auto;\n",
       "  }\n",
       "  table, th, td {\n",
       "    border: 1px solid black;\n",
       "    border-collapse: collapse;\n",
       "  }\n",
       "  th, td {\n",
       "    padding: 5px;\n",
       "  }\n",
       "  th {\n",
       "    text-align: left;\n",
       "  }\n",
       "</style><div class='table-result-container'><table class='table-result'><thead style='background-color: white'><tr><th>doi</th><th>Eid</th><th>year</th><th>Au</th><th>Au_Af</th><th>Au_cors</th><th>publication_type</th><th>openaccess</th><th>issn</th><th>source</th><th>news_cnt</th><th>correspondence</th><th>Af</th><th>Au1</th><th>Au2</th><th>num_au</th><th>Au1_id</th><th>Au2_id</th><th>Au_cor_id</th><th>Au_cor_name</th><th>cor1_given_name</th><th>cor_seq</th><th>cor_seq_first</th><th>auth_seq</th><th>aff_seq</th><th>auth_pos</th><th>aff</th><th>aff_val</th><th>cor_afid</th></tr></thead><tbody><tr><td>10.1001/jama.2019.8859</td><td>85069306734</td><td>2019</td><td>List(List(1, 55759215500, auth, false, MD, null, Fraukje A., Fraukje A., Ponds F.A., Ponds F.A., F.A., F.A., null, null, null, Ponds, Ponds), List(2, 55066502300, auth, false, MD,PhD, null, Paul, Paul, Fockens P., Fockens P., P., P., null, null, null, Fockens, Fockens), List(3, 12786657800, auth, false, BSc, null, Aaltje, Aaltje, Lei A., Lei A., A., A., null, null, null, Lei, Lei), List(4, 7101811971, auth, false, MD,PhD, null, Horst, Horst, Neuhaus H., Neuhaus H., H., H., null, null, null, Neuhaus, Neuhaus), List(5, 24175533300, auth, false, MD, null, Torsten, Torsten, Beyna T., Beyna T., T., T., null, null, null, Beyna, Beyna), List(6, 56568042800, auth, false, MD, null, Jennis, Jennis, Kandler J., Kandler J., J., J., null, null, null, Kandler, Kandler), List(7, 56253543400, auth, false, MD,PhD, null, Thomas, Thomas, Frieling T., Frieling T., T., T., null, null, null, Frieling, Frieling), List(8, 7103182534, auth, false, MD,PhD, null, Philip W. Y., Philip W.Y., Chiu P.W.Y., Chiu P.W.Y., P.W.Y., P.W.Y., null, null, null, Chiu, Chiu), List(9, 7409253910, auth, false, MD,PhD, null, Justin C. Y., Justin C.Y., Wu J.C.Y., Wu J.C.Y., J.C.Y., J.C.Y., null, null, null, Wu, Wu), List(10, 26632569200, auth, false, BSc, null, Vivien W. Y., Vivien W.Y., Wong V.W.Y., Wong V.W.Y., V.W.Y., V.W.Y., null, null, null, Wong, Wong), List(11, 7005323747, auth, false, MD,PhD, null, Guido, Guido, Costamagna G., Costamagna G., G., G., null, null, null, Costamagna, Costamagna), List(12, 6506652660, auth, false, MD, null, Pietro, Pietro, Familiari P., Familiari P., P., P., null, null, null, Familiari, Familiari), List(13, 7102556261, auth, false, MD,PhD, null, Peter J., Peter J., Kahrilas P.J., Kahrilas P.J., P.J., P.J., null, null, null, Kahrilas, Kahrilas), List(14, 6603899097, auth, false, MD,PhD, null, John E., John E., Pandolfino J.E., Pandolfino J.E., J.E., J.E., null, null, null, Pandolfino, Pandolfino), List(15, 7101876282, auth, false, MD,PhD, null, André J. P. M., André J.P.M., Smout A.J.P.M., Smout A.J.P.M., A.J.P.M., A.J.P.M., null, null, null, Smout, Smout), List(16, 6602466064, auth, false, MD,PhD, 3ab21a990ba4c39c61be7abae6c46c4120d77103, Albert J., Albert J., Bredenoord A.J., Bredenoord A.J., A.J., A.J., null, null, null, Bredenoord, Bredenoord))</td><td>List(List(1, 1, true), List(2, 1, true), List(3, 1, true), List(15, 1, true), List(16, 1, true), List(4, 2, true), List(5, 2, true), List(6, 2, true), List(7, 3, true), List(8, 4, true), List(10, 4, true), List(9, 5, true), List(11, 6, true), List(12, 6, true), List(11, 7, true), List(13, 8, true), List(14, 8, true))</td><td>List(List(16, 6602466064, null, false, MD,PhD, null, Albert J., null, Bredenoord A.J., null, A.J., null, null, null, null, Bredenoord, null))</td><td>ar</td><td>Full</td><td>00987484</td><td>List(null, null, usa, 09, 07, 9 July 2019, 2019, smcleod@itsa.ucsf.edu, email, null, null, null, List(15383598), null, List(00987484), American Medical Association, JAMA - Journal of the American Medical Association, JAMA, 85291, j, http://jama.jamanetwork.com/journal.aspx)</td><td>7</td><td>List(List(nld, null))</td><td>List(List(null, Amsterdam, null, Netherlands, List(60002483, 60001157), List(Department of Gastroenterology and Hepatology, Amsterdam UMC, University of Amsterdam), 3, null, null, nld, null, 60002483, 110835913), List(null, Düsseldorf, null, Germany, List(60015895), List(Department of Gastroenterology, Evangelisches Krankenhaus Düsseldorf), 2, null, null, deu, null, 60015895, 103823363), List(null, Düsseldorf, null, Germany, List(60016143), List(Department of Gastroenterology, Helios Klinikum Krefeld), 2, null, null, deu, null, 60016143, 118951395), List(null, Hong Kong, null, Hong Kong, List(60002798), List(Institute of Digestive Disease, Department of Surgery, Chinese University of Hong Kong), 3, null, null, hkg, null, 60002798, 103192684), List(null, Hong Kong, null, Hong Kong, List(60002798), List(Institute of Digestive Disease, Department of Medicine and Therapeutics, Chinese University of Hong Kong), 3, null, null, hkg, null, 60002798, 113324909), List(null, Rome, null, Italy, List(60031984, 60073799), List(Digestive Endoscopy Unit, Agostino Gemelli University Hospital, Universita Cattolica Del Sacro Cuore), 3, null, null, ita, null, 60073799, null), List(null, Strasbourg, null, France, List(60103368), List(IHU IAS Strasbourg University), 1, null, null, fra, null, 60103368, null), List(null, Chicago, null, United States, List(60013227, 60007363), List(Feinberg School of Medicine, Northwestern University), 2, null, IL, usa, null, 60013227, null))</td><td>List(1, 55759215500, auth, false, MD, null, Fraukje A., Fraukje A., Ponds F.A., Ponds F.A., F.A., F.A., null, null, null, Ponds, Ponds)</td><td>List(16, 6602466064, auth, false, MD,PhD, 3ab21a990ba4c39c61be7abae6c46c4120d77103, Albert J., Albert J., Bredenoord A.J., Bredenoord A.J., A.J., A.J., null, null, null, Bredenoord, Bredenoord)</td><td>16</td><td>55759215500</td><td>6602466064</td><td>List(6602466064)</td><td>List(Albert J.)</td><td>Albert J.</td><td>List(16)</td><td>16</td><td>List(1, 2, 3, 15, 16, 4, 5, 6, 7, 8, 10, 9, 11, 12, 11, 13, 14)</td><td>List(1, 1, 1, 1, 1, 2, 2, 2, 3, 4, 4, 5, 6, 6, 7, 8, 8)</td><td>5</td><td>1</td><td>List(null, Amsterdam, null, Netherlands, List(60002483, 60001157), List(Department of Gastroenterology and Hepatology, Amsterdam UMC, University of Amsterdam), 3, null, null, nld, null, 60002483, 110835913)</td><td>60002483</td></tr><tr><td>10.1001/jama.2019.9021</td><td>85069747779</td><td>2019</td><td>List(List(1, 22937577300, auth, false, MD,MS, 8d263ad76e0970216cfecedc06107ac120cd1906, Jeremy M., Jeremy M., Kahn J.M., Kahn J.M., J.M., J.M., null, null, null, Kahn, Kahn), List(2, 57201461734, auth, false, PhD, null, Billie S., Billie S., Davis B.S., Davis B.S., B.S., B.S., null, null, null, Davis, Davis), List(3, 55382971300, auth, false, PhD, null, Jonathan G., Jonathan G., Yabes J.G., Yabes J.G., J.G., J.G., null, null, null, Yabes, Yabes), List(4, 8653901800, auth, false, PhD, null, Chung-Chou H., Chung Chou H., Chang C.-C.H., Chang C.C.H., C.-C.H., C.C.H., null, null, null, Chang, Chang), List(5, 15041659400, auth, false, MD, null, David H., David H., Chong D.H., Chong D.H., D.H., D.H., null, null, null, Chong, Chong), List(6, 55466666100, auth, false, JD,MPH, null, Tina Batra, Tina Batra, Hershey T.B., Hershey T.B., T.B., T.B., null, null, null, Hershey, Hershey), List(7, 26026354100, auth, false, PhD,MPH,RN, null, Grant R., Grant R., Martsolf G.R., Martsolf G.R., G.R., G.R., null, null, null, Martsolf, Martsolf), List(8, 7102124583, auth, false, MD,MPH, null, Derek C., Derek C., Angus D.C., Angus D.C., D.C., D.C., null, null, null, Angus, Angus))</td><td>List(List(1, 1, true), List(2, 1, true), List(8, 1, true), List(1, 2, true), List(6, 2, true), List(8, 2, true), List(3, 3, true), List(4, 3, true), List(3, 4, true), List(4, 4, true), List(5, 5, true), List(7, 6, true), List(7, 7, true))</td><td>List(List(1, 22937577300, null, false, MD,MS, null, Jeremy M., null, Kahn J.M., null, J.M., null, null, null, null, Kahn, null))</td><td>ar</td><td>Full</td><td>00987484</td><td>List(null, null, usa, 16, 07, 16 July 2019, 2019, smcleod@itsa.ucsf.edu, email, null, null, null, List(15383598), null, List(00987484), American Medical Association, JAMA - Journal of the American Medical Association, JAMA, 85291, j, http://jama.jamanetwork.com/journal.aspx)</td><td>75</td><td>List(List(usa, null))</td><td>List(List(null, Pittsburgh, null, United States, List(60015543), List(CRISMA Center, Department of Critical Care Medicine, School of Medicine, University of Pittsburgh), 4, null, PA, usa, null, 60015543, 113098439), List(null, Pittsburgh, null, United States, List(60015543), List(Department of Health Policy and Management, Graduate School of Public Health, University of Pittsburgh), 3, null, PA, usa, null, 60015543, 113917035), List(null, Pittsburgh, null, United States, List(60015543), List(Division of General Internal Medicine, Department of Medicine, University of Pittsburgh), 3, null, PA, usa, null, 60015543, 112594990), List(null, Pittsburgh, null, United States, List(60015543), List(Department of Biostatistics, Graduate School of Public Health, University of Pittsburgh), 3, null, PA, usa, null, 60015543, 109600879), List(null, New York, null, United States, List(60027565), List(Division of Pulmonary, Allergy and Critical Care Medicine, Columbia University Medical Center), 3, null, NY, usa, null, 60027565, 104400483), List(null, Pittsburgh, null, United States, List(60015543), List(Department of Acute and Tertiary Care, School of Nursing, University of Pittsburgh), 3, null, PA, usa, null, 60015543, 103801681), List(null, Pittsburgh, null, United States, List(60003873), List(RAND Corporation), 1, null, PA, usa, null, 60003873, null))</td><td>List(1, 22937577300, auth, false, MD,MS, 8d263ad76e0970216cfecedc06107ac120cd1906, Jeremy M., Jeremy M., Kahn J.M., Kahn J.M., J.M., J.M., null, null, null, Kahn, Kahn)</td><td>List(8, 7102124583, auth, false, MD,MPH, null, Derek C., Derek C., Angus D.C., Angus D.C., D.C., D.C., null, null, null, Angus, Angus)</td><td>8</td><td>22937577300</td><td>7102124583</td><td>List(22937577300)</td><td>List(Jeremy M.)</td><td>Jeremy M.</td><td>List(1)</td><td>1</td><td>List(1, 2, 8, 1, 6, 8, 3, 4, 3, 4, 5, 7, 7)</td><td>List(1, 1, 1, 2, 2, 2, 3, 3, 4, 4, 5, 6, 7)</td><td>1</td><td>1</td><td>List(null, Pittsburgh, null, United States, List(60015543), List(CRISMA Center, Department of Critical Care Medicine, School of Medicine, University of Pittsburgh), 4, null, PA, usa, null, 60015543, 113098439)</td><td>60015543</td></tr><tr><td>10.1001/jama.2021.1527</td><td>85105322152</td><td>2021</td><td>List(List(1, 35795684700, auth, false, MD,MHS, null, Parag H., Parag H., Joshi P.H., Joshi P.H., P.H., P.H., null, null, null, Joshi, Joshi), List(2, 7005314320, auth, false, MD, dc52a427dc44683808b6e3c33ad51385f8f236a1, James A., James A., De Lemos J.A., De Lemos J.A., J.A., J.A., null, null, null, De Lemos, De Lemos))</td><td>List(List(1, 1, true), List(2, 1, true))</td><td>List(List(2, 7005314320, null, false, MD, null, James A., null, De Lemos J.A., null, J.A., null, null, null, null, De Lemos, null))</td><td>ar</td><td>None</td><td>00987484</td><td>List(null, null, usa, 04, 05, 4 May 2021, 2021, null, null, null, null, null, List(15383598), null, List(00987484), American Medical Association, JAMA - Journal of the American Medical Association, JAMA, 85291, j, http://jama.jamanetwork.com/journal.aspx)</td><td>0</td><td>List(List(usa, null))</td><td>List(List(5909 Harry Hines Blvd, Dallas, null, United States, List(60009415, 60014739, 60026695), List(Division of Cardiology, Department of Internal Medicine, University of Texas, Southwestern Medical Center), 4, 76390, TX, usa, null, 60014739, 103762082))</td><td>List(1, 35795684700, auth, false, MD,MHS, null, Parag H., Parag H., Joshi P.H., Joshi P.H., P.H., P.H., null, null, null, Joshi, Joshi)</td><td>List(2, 7005314320, auth, false, MD, dc52a427dc44683808b6e3c33ad51385f8f236a1, James A., James A., De Lemos J.A., De Lemos J.A., J.A., J.A., null, null, null, De Lemos, De Lemos)</td><td>2</td><td>35795684700</td><td>7005314320</td><td>List(7005314320)</td><td>List(James A.)</td><td>James A.</td><td>List(2)</td><td>2</td><td>List(1, 2)</td><td>List(1, 1)</td><td>2</td><td>1</td><td>List(5909 Harry Hines Blvd, Dallas, null, United States, List(60009415, 60014739, 60026695), List(Division of Cardiology, Department of Internal Medicine, University of Texas, Southwestern Medical Center), 4, 76390, TX, usa, null, 60014739, 103762082)</td><td>60014739</td></tr><tr><td>10.1001/jamainternmed.2020.0104</td><td>85081653793</td><td>2020</td><td>List(List(1, 55875257300, auth, false, MBBS,PhD, null, Pallavi P., Pallavi P., Balte P.P., Balte P.P., P.P., P.P., null, null, null, Balte, Balte), List(2, 57217740015, auth, false, MD,PhD, null, Paulo H.M., Paulo H.M., Chaves P.H.M., Chaves P.H.M., P.H.M., P.H.M., null, null, null, Chaves, Chaves), List(3, 7004067300, auth, false, PhD, null, David J., David J., Couper D.J., Couper D.J., D.J., D.J., null, null, null, Couper, Couper), List(4, 7006387010, auth, false, MD, null, Paul, Paul, Enright P., Enright P., P., P., null, null, null, Enright, Enright), List(5, 57200715827, auth, false, PhD, null, David R., David R., Jacobs D.R., Jacobs D.R., D.R., D.R., null, null, Jr., Jacobs, Jacobs), List(6, 15922992700, auth, false, MD,MS, null, Ravi, Ravi, Kalhan R., Kalhan R., R., R., null, null, null, Kalhan, Kalhan), List(7, 57204344879, auth, false, PhD, null, Richard A., Richard A., Kronmal R.A., Kronmal R.A., R.A., R.A., null, null, null, Kronmal, Kronmal), List(8, 16177848600, auth, false, MD,PhD, null, Laura R., Laura R., Loehr L.R., Loehr L.R., L.R., L.R., null, null, null, Loehr, Loehr), List(9, 57202568801, auth, false, MD,DrPH, null, Stephanie J., Stephanie J., London S.J., London S.J., S.J., S.J., null, null, null, London, London), List(10, 56962723400, auth, false, MD,MPH, null, Anne B., Anne B., Newman A.B., Newman A.B., A.B., A.B., null, null, null, Newman, Newman), List(11, 7201936463, auth, false, MD, null, George T., George T., O'Connor G.T., O'Connor G.T., G.T., G.T., null, null, null, O'Connor, O'Connor), List(12, 35431669200, auth, false, PhD, null, Joseph E., Joseph E., Schwartz J.E., Schwartz J.E., J.E., J.E., null, null, null, Schwartz, Schwartz), List(13, 55476100800, auth, false, MD,MSc, null, Benjamin M., Benjamin M., Smith B.M., Smith B.M., B.M., B.M., null, null, null, Smith, Smith), List(14, 7410390824, auth, false, MD, null, Lewis J., Lewis J., Smith L.J., Smith L.J., L.J., L.J., null, null, null, Smith, Smith), List(15, 53265525000, auth, false, PhD, null, Wendy B., Wendy B., White W.B., White W.B., W.B., W.B., null, null, null, White, White), List(16, 6602903408, auth, false, MD,MS, null, Sachin, Sachin, Yende S., Yende S., S., S., null, null, null, Yende, Yende), List(17, 6507490337, auth, false, MD,MPH, 5392618cd9a49df9df7a055bd98208c61ec7fe12, Elizabeth C., Elizabeth C., Oelsner E.C., Oelsner E.C., E.C., E.C., null, null, null, Oelsner, Oelsner))</td><td>List(List(1, 1, true), List(12, 1, true), List(17, 1, true), List(2, 2, true), List(3, 3, true), List(4, 4, true), List(5, 5, true), List(6, 6, true), List(14, 6, true), List(7, 7, true), List(8, 8, true), List(9, 9, true), List(10, 10, true), List(16, 10, true), List(11, 11, true), List(13, 12, true), List(15, 13, true))</td><td>List(List(17, 6507490337, null, false, MD,MPH, null, Elizabeth C., null, Oelsner E.C., null, E.C., null, null, null, null, Oelsner, null))</td><td>ar</td><td>Full</td><td>21686106</td><td>List(null, null, usa, 01, 05, May 2020, 2020, smcleod@itsa.ucsf.edu, email, null, null, null, List(21686114), null, List(21686106), American Medical Association, JAMA Internal Medicine, JAMA Intern. Med., 21100228546, j, http://archinte.jamanetwork.com/issues.aspx)</td><td>1</td><td>List(List(usa, null))</td><td>List(List(630 W 168th St, New York, null, United States, List(60018043, 60027565), List(Department of Medicine, Columbia University Medical Center, Presbyterian Hospital), 3, 10032, NY, usa, null, 60027565, 112929798), List(null, Miami, null, United States, List(60015206), List(Benjamin Leon Jr Family Center for Geriatric Research and Education, Florida International University), 2, null, FL, usa, null, 60015206, 114809973), List(null, Chapel Hill, null, United States, List(60025111), List(Department of Biostatistics, Gillings School of Global Public Health, University of North Carolina at Chapel Hill), 3, null, null, usa, null, 60025111, null), List(null, Tucson, null, United States, List(60010065), List(Department of Medicine, University of Arizona), 2, null, AZ, usa, null, 60010065, 112674061), List(null, Minneapolis, null, United States, List(60029445, 60013223), List(Division of Epidemiology and Community Health, School of Public Health, University of Minnesota), 3, null, null, usa, null, 60013223, 103692581), List(null, Chicago, null, United States, List(60007363), List(Division of Pulmonary and Critical Care Medicine, Northwestern University), 2, null, IL, usa, null, 60007363, 112861734), List(null, Seattle, null, United States, List(60015481), List(Department of Biostatistics, School of Public Health, University of Washington), 3, null, null, usa, null, 60015481, null), List(null, Chapel Hill, null, United States, List(60025111), List(Division of General Medicine and Clinical Epidemiology, University of North Carolina at Chapel Hill), 2, null, null, usa, null, 60025111, 104269643), List(null, Research Triangle Park, null, United States, List(60006577, 60028652), List(Epidemiology Branch, Genetics, Environment, and Respiratory Disease Group, National Institute of Environmental Health Sciences, National Institutes of Health), 6, null, NC, usa, null, 60028652, 104449655), List(null, Pittsburgh, null, United States, List(60015543), List(Department of Epidemiology, Graduate School of Public Health, University of Pittsburgh), 3, null, PA, usa, null, 60015543, 112793733), List(null, Boston, null, United States, List(60019674), List(Department of Medicine, Boston University), 2, null, MA, usa, null, 60019674, 112950617), List(null, Montreal, null, Canada, List(60111763), List(Department of Medicine, McGill University Health Centre Research Institute), 2, null, QC, can, null, 60111763, 121026790), List(null, Tougaloo, null, United States, List(60023804, 60029734), List(Jackson Heart Study Undergraduate Training and Education Center, Tougaloo College), 2, null, MS, usa, null, 60029734, null))</td><td>List(1, 55875257300, auth, false, MBBS,PhD, null, Pallavi P., Pallavi P., Balte P.P., Balte P.P., P.P., P.P., null, null, null, Balte, Balte)</td><td>List(17, 6507490337, auth, false, MD,MPH, 5392618cd9a49df9df7a055bd98208c61ec7fe12, Elizabeth C., Elizabeth C., Oelsner E.C., Oelsner E.C., E.C., E.C., null, null, null, Oelsner, Oelsner)</td><td>17</td><td>55875257300</td><td>6507490337</td><td>List(6507490337)</td><td>List(Elizabeth C.)</td><td>Elizabeth C.</td><td>List(17)</td><td>17</td><td>List(1, 12, 17, 2, 3, 4, 5, 6, 14, 7, 8, 9, 10, 16, 11, 13, 15)</td><td>List(1, 1, 1, 2, 3, 4, 5, 6, 6, 7, 8, 9, 10, 10, 11, 12, 13)</td><td>3</td><td>1</td><td>List(630 W 168th St, New York, null, United States, List(60018043, 60027565), List(Department of Medicine, Columbia University Medical Center, Presbyterian Hospital), 3, 10032, NY, usa, null, 60027565, 112929798)</td><td>60027565</td></tr><tr><td>10.1001/jamanetworkopen.2018.1662</td><td>85057480390</td><td>2018</td><td>List(List(1, 36884023400, auth, false, PhD,MHS, 02440ad02041955e6fdda64b38c97a73e858bb91, Sachiko, Sachiko, Ozawa S., Ozawa S., S., S., null, null, null, Ozawa, Ozawa), List(2, 57204864566, auth, false, MSc, null, Daniel R., Daniel R., Evans D.R., Evans D.R., D.R., D.R., null, null, null, Evans, Evans), List(3, 57188986716, auth, false, MPH, null, Sophia, Sophia, Bessias S., Bessias S., S., S., null, null, null, Bessias, Bessias), List(4, 57208683665, auth, false, MHS, null, Deson G., Deson G., Haynie D.G., Haynie D.G., D.G., D.G., null, null, null, Haynie, Haynie), List(5, 57200798027, auth, false, MSc, null, Tatenda T., Tatenda T., Yemeke T.T., Yemeke T.T., T.T., T.T., null, null, null, Yemeke, Yemeke), List(6, 57205368817, auth, false, MPH, null, Sarah K., Sarah K., Laing S.K., Laing S.K., S.K., S.K., null, null, null, Laing, Laing), List(7, 57196588408, auth, false, PhD, null, James E., James E., Herrington J.E., Herrington J.E., J.E., J.E., null, null, null, Herrington, Herrington))</td><td>List(List(1, 1, true), List(1, 2, true), List(2, 2, true), List(5, 2, true), List(6, 2, true), List(3, 3, true), List(4, 4, true), List(7, 5, true))</td><td>List(List(1, 36884023400, null, false, PhD,MHS, null, Sachiko, null, Ozawa S., null, S., null, null, null, null, Ozawa, null))</td><td>re</td><td>Full</td><td>25743805</td><td>List(e181662, null, usa, 01, 08, August 2018, 2018, null, null, null, null, null, List(25743805), null, null, American Medical Association, JAMA Network Open, JAMA Netw. Open, 21100900345, j, https://jamanetwork.com/journals/jamanetworkopen)</td><td>23</td><td>List(List(usa, null))</td><td>List(List(null, Chapel Hill, null, United States, List(60025111), List(Department of Maternal and Child Health, Gillings School of Global Public Health, University of North Carolina), 3, null, null, usa, null, 60025111, 113887386), List(CB# 7574, Chapel Hill, null, United States, List(60030945, 60025111), List(Division of Practice Advancement and Clinical Education, Eshelman School of Pharmacy, University of North Carolina, Beard Hall 115H), 4, 27599, NC, usa, null, 60030945, 128959648), List(null, Chapel Hill, null, United States, List(60025111), List(Enterprise Analytics and Data Sciences, University of North Carolina Health Care), 2, null, null, usa, null, 60025111, null), List(null, Charlottesville, null, United States, List(60030846), List(University of Virginia School of Medicine), 1, null, null, usa, null, 60030846, null), List(null, Chapel Hill, null, United States, List(60025111), List(Department of Health Behavior, Gillings School of Global Public Health, University of North Carolina), 3, null, null, usa, null, 60025111, 104269751))</td><td>List(1, 36884023400, auth, false, PhD,MHS, 02440ad02041955e6fdda64b38c97a73e858bb91, Sachiko, Sachiko, Ozawa S., Ozawa S., S., S., null, null, null, Ozawa, Ozawa)</td><td>List(7, 57196588408, auth, false, PhD, null, James E., James E., Herrington J.E., Herrington J.E., J.E., J.E., null, null, null, Herrington, Herrington)</td><td>7</td><td>36884023400</td><td>57196588408</td><td>List(36884023400)</td><td>List(Sachiko)</td><td>Sachiko</td><td>List(1)</td><td>1</td><td>List(1, 1, 2, 5, 6, 3, 4, 7)</td><td>List(1, 2, 2, 2, 2, 3, 4, 5)</td><td>1</td><td>1</td><td>List(null, Chapel Hill, null, United States, List(60025111), List(Department of Maternal and Child Health, Gillings School of Global Public Health, University of North Carolina), 3, null, null, usa, null, 60025111, 113887386)</td><td>60025111</td></tr><tr><td>10.1001/jamanetworkopen.2021.1574</td><td>85102913971</td><td>2021</td><td>List(List(1, 57211943962, auth, false, null, 79aa9f6381014ef95bb89f88263050e188967092, Michihiko, Michihiko, Goto M., Goto M., M., M., null, null, null, Goto, Goto), List(2, 7404040049, auth, false, MD,MSPH, null, Anthony D., Anthony D., Harris A.D., Harris A.D., A.D., A.D., null, null, null, Harris, Harris), List(3, 6701842148, auth, false, MD,MS, null, Eli N., Eli N., Perencevich E.N., Perencevich E.N., E.N., E.N., null, null, null, Perencevich, Perencevich))</td><td>List(List(1, 1, true), List(2, 2, true), List(3, 3, true))</td><td>List(List(1, 57211943962, null, false, null, null, Michihiko, null, Goto M., null, M., null, null, null, null, Goto, null))</td><td>re</td><td>Full</td><td>25743805</td><td>List(1574, null, usa, 15, 03, 15 March 2021, 2021, null, null, null, null, null, List(25743805), null, null, American Medical Association, JAMA Network Open, JAMA Netw. Open, 21100900345, j, https://jamanetwork.com/journals/jamanetworkopen)</td><td>0</td><td>List(List(usa, null))</td><td>List(List(200 Hawkins Dr, SW34-GH, Iowa City, null, United States, List(60009788, 60024324), List(Division of Infectious Diseases, Department of Internal Medicine, University of Iowa Carver, College of Medicine), 4, 52242, IA, usa, null, 60009788, 113853498), List(null, Baltimore, null, United States, List(60014653, 60012957), List(Division of Genomic Epidemiology and Clinical Outcomes, Department of Epidemiology and Public Health, University of Maryland, School of Medicine), 4, null, MD, usa, null, 60012957, 113470037), List(null, Iowa City, null, United States, List(60009788, 60024324), List(Division of General Internal Medicine, Department of Internal Medicine, University of Iowa Carver, College of Medicine), 4, null, IA, usa, null, 60009788, 113853498))</td><td>List(1, 57211943962, auth, false, null, 79aa9f6381014ef95bb89f88263050e188967092, Michihiko, Michihiko, Goto M., Goto M., M., M., null, null, null, Goto, Goto)</td><td>List(3, 6701842148, auth, false, MD,MS, null, Eli N., Eli N., Perencevich E.N., Perencevich E.N., E.N., E.N., null, null, null, Perencevich, Perencevich)</td><td>3</td><td>57211943962</td><td>6701842148</td><td>List(57211943962)</td><td>List(Michihiko)</td><td>Michihiko</td><td>List(1)</td><td>1</td><td>List(1, 2, 3)</td><td>List(1, 2, 3)</td><td>1</td><td>1</td><td>List(200 Hawkins Dr, SW34-GH, Iowa City, null, United States, List(60009788, 60024324), List(Division of Infectious Diseases, Department of Internal Medicine, University of Iowa Carver, College of Medicine), 4, 52242, IA, usa, null, 60009788, 113853498)</td><td>60009788</td></tr><tr><td>10.1001/jamanetworkopen.2021.26612</td><td>85115927272</td><td>2021</td><td>List(List(1, 57212900875, auth, false, MD,MSc, 5c7889719b2cfca2bc9576533b0c670f783b440b, Kori S., Kori S., Zachrison K.S., Zachrison K.S., K.S., K.S., null, null, null, Zachrison, Zachrison), List(2, 57216920690, auth, false, BS, null, Jessica V., Jessica V., Richard J.V., Richard J.V., J.V., J.V., null, null, null, Richard, Richard), List(3, 56726804100, auth, false, PhD, null, Andrew, Andrew, Wilcock A., Wilcock A., A., A., null, null, null, Wilcock, Wilcock), List(4, 57277861800, auth, false, PhD, null, Jose R., Jose R., Zubizaretta J.R., Zubizaretta J.R., J.R., J.R., null, null, null, Zubizaretta, Zubizaretta), List(5, 7004541381, auth, false, MD, null, Lee H., Lee H., Schwamm L.H., Schwamm L.H., L.H., L.H., null, null, null, Schwamm, Schwamm), List(6, 15059657600, auth, false, PhD, null, Lori, Lori, Uscher-Pines L., Uscher-Pines L., L., L., null, null, null, Uscher-Pines, Uscher-Pines), List(7, 23498035400, auth, false, MD,MPH, null, Ateev, Ateev, Mehrotra A., Mehrotra A., A., A., null, null, null, Mehrotra, Mehrotra))</td><td>List(List(1, 1, true), List(2, 2, true), List(4, 2, true), List(7, 2, true), List(3, 3, true), List(5, 4, true), List(6, 5, true), List(7, 6, true))</td><td>List(List(1, 57212900875, null, false, MD,PhD, null, Kori S., null, Zachrison K.S., null, K.S., null, null, null, null, Zachrison, null))</td><td>ar</td><td>Full</td><td>25743805</td><td>List(26612, null, usa, 23, 09, 23 September 2021, 2021, null, null, null, null, null, List(25743805), null, null, American Medical Association, JAMA Network Open, JAMA Netw. Open, 21100900345, j, https://jamanetwork.com/journals/jamanetworkopen)</td><td>2</td><td>List(List(usa, null))</td><td>List(List(55 Fruit St, Boston, null, United States, List(60029929), List(Department of Emergency Medicine, Massachusetts General Hospital), 2, 02114, MA, usa, null, 60029929, 113005763), List(null, Boston, null, United States, List(60002746), List(Department of Health Care Policy, Harvard Medical School), 2, null, MA, usa, null, 60002746, 113087373), List(null, Burlington, null, United States, List(60031576, 60009500), List(Department of Family Medicine, University of Vermont, College of Medicine), 3, null, null, usa, null, 60031576, 113555700), List(null, Boston, null, United States, List(60029929), List(Department of Neurology, Massachusetts General Hospital), 2, null, null, usa, null, 60029929, null), List(null, Arlington, null, United States, List(60003873), List(RAND Corporation), 1, null, VA, usa, null, 60003873, null), List(null, Boston, null, United States, List(60030058), List(Division of General Medicine, Beth Israel Deaconess Medical Center), 2, null, MA, usa, null, 60030058, 113983174))</td><td>List(1, 57212900875, auth, false, MD,MSc, 5c7889719b2cfca2bc9576533b0c670f783b440b, Kori S., Kori S., Zachrison K.S., Zachrison K.S., K.S., K.S., null, null, null, Zachrison, Zachrison)</td><td>List(7, 23498035400, auth, false, MD,MPH, null, Ateev, Ateev, Mehrotra A., Mehrotra A., A., A., null, null, null, Mehrotra, Mehrotra)</td><td>7</td><td>57212900875</td><td>23498035400</td><td>List(57212900875)</td><td>List(Kori S.)</td><td>Kori S.</td><td>List(1)</td><td>1</td><td>List(1, 2, 4, 7, 3, 5, 6, 7)</td><td>List(1, 2, 2, 2, 3, 4, 5, 6)</td><td>1</td><td>1</td><td>List(55 Fruit St, Boston, null, United States, List(60029929), List(Department of Emergency Medicine, Massachusetts General Hospital), 2, 02114, MA, usa, null, 60029929, 113005763)</td><td>60029929</td></tr><tr><td>10.1001/jamanetworkopen.2021.29228</td><td>85118441385</td><td>2021</td><td>List(List(1, 56798340200, auth, false, MD, bf9f327575e152486b5cec23979934bed2f04ef5, Michael A., Michael A., Mederos M.A., Mederos M.A., M.A., M.A., null, null, null, Mederos, Mederos), List(2, 55885381800, auth, false, BS, null, Michael J., Michael J., De Virgilio M.J., De Virgilio M.J., M.J., M.J., null, null, null, De Virgilio, De Virgilio), List(3, 56783818400, auth, false, MD,MS, null, Rivfka, Rivfka, Shenoy R., Shenoy R., R., R., null, null, null, Shenoy, Shenoy), List(4, 57215865797, auth, false, MD, null, Linda, Linda, Ye L., Ye L., L., L., null, null, null, Ye, Ye), List(5, 55832389000, auth, false, MD, null, Paul A., Paul A., Toste P.A., Toste P.A., P.A., P.A., null, null, null, Toste, Toste), List(6, 57192870960, auth, false, PhD, null, Selene S., Selene S., Mak S.S., Mak S.S., S.S., S.S., null, null, null, Mak, Mak), List(7, 56363903500, auth, false, MS, null, Marika S., Marika S., Booth M.S., Booth M.S., M.S., M.S., null, null, null, Booth, Booth), List(8, 57214792434, auth, false, MPH, null, Meron M., Meron M., Begashaw M.M., Begashaw M.M., M.M., M.M., null, null, null, Begashaw, Begashaw), List(9, 55574209765, auth, false, MD,PhD, null, Mark, Mark, Wilson M., Wilson M., M., M., null, null, null, Wilson, Wilson), List(10, 6602654360, auth, false, MD, null, William, William, Gunnar W., Gunnar W., W., W., null, null, null, Gunnar, Gunnar), List(11, 57208872571, auth, false, MD,PhD, null, Paul G., Paul G., Shekelle P.G., Shekelle P.G., P.G., P.G., null, null, null, Shekelle, Shekelle), List(12, 35976423100, auth, false, MD, null, Melinda, Melinda, Maggard-Gibbons M., Maggard-Gibbons M., M., M., null, null, null, Maggard-Gibbons, Maggard-Gibbons), List(13, 37561248400, auth, false, MD, null, Mark D., Mark D., Girgis M.D., Girgis M.D., M.D., M.D., null, null, null, Girgis, Girgis))</td><td>List(List(1, 1, true), List(2, 1, true), List(3, 1, true), List(4, 1, true), List(5, 1, true), List(12, 1, true), List(13, 1, true), List(3, 2, true), List(5, 2, true), List(6, 2, true), List(8, 2, true), List(11, 2, true), List(12, 2, true), List(13, 2, true), List(3, 3, true), List(5, 4, true), List(12, 4, true), List(7, 5, true), List(9, 6, true), List(9, 7, true), List(10, 8, true), List(10, 9, true))</td><td>List(List(1, 56798340200, null, false, MD, null, Michael A., null, Mederos M.A., null, M.A., null, null, null, null, Mederos, null))</td><td>ar</td><td>Full</td><td>25743805</td><td>List(29228, null, usa, null, null, 2021, 2021, null, null, null, null, null, List(25743805), null, null, American Medical Association, JAMA Network Open, JAMA Netw. Open, 21100900345, j, https://jamanetwork.com/journals/jamanetworkopen)</td><td>0</td><td>List(List(usa, null))</td><td>List(List(10833 Le Conte Ave, 72-225 CHS, Los Angeles, null, United States, List(60005247), List(Department of Surgery, David Geffen School of Medicine at UCLA), 2, 90095-1749, CA, usa, null, 60005247, 113379660), List(null, Los Angeles, null, United States, List(60105856), List(Veterans Health Administration, Greater Los Angeles Healthcare System), 2, null, CA, usa, null, 60105856, null), List(null, Los Angeles, null, United States, List(60027550), List(National Clinician Scholars Program, University of California), 2, null, null, usa, null, 60027550, null), List(null, Sylmar, null, United States, List(60014575), List(Olive View-UCLA Medical Center), 1, null, CA, usa, null, 60014575, null), List(null, Santa Monica, null, United States, List(60003873), List(RAND Corporation), 1, null, CA, usa, null, 60003873, null), List(null, Washington, null, United States, List(60023695), List(US Department of Veterans Affairs), 1, null, DC, usa, null, 60023695, null), List(null, Pittsburgh, null, United States, List(60014232), List(Department of Surgery, VA Pittsburgh Healthcare System), 2, null, PA, usa, null, 60014232, 110069498), List(null, Ann Arbor, null, United States, List(114524827), List(VHA National Center for Patient Safety), 1, null, MI, usa, null, 114524827, null), List(null, Ann Arbor, null, United States, List(60025778), List(University of Michigan), 1, null, null, usa, null, 60025778, null))</td><td>List(1, 56798340200, auth, false, MD, bf9f327575e152486b5cec23979934bed2f04ef5, Michael A., Michael A., Mederos M.A., Mederos M.A., M.A., M.A., null, null, null, Mederos, Mederos)</td><td>List(13, 37561248400, auth, false, MD, null, Mark D., Mark D., Girgis M.D., Girgis M.D., M.D., M.D., null, null, null, Girgis, Girgis)</td><td>13</td><td>56798340200</td><td>37561248400</td><td>List(56798340200)</td><td>List(Michael A.)</td><td>Michael A.</td><td>List(1)</td><td>1</td><td>List(1, 2, 3, 4, 5, 12, 13, 3, 5, 6, 8, 11, 12, 13, 3, 5, 12, 7, 9, 9, 10, 10)</td><td>List(1, 1, 1, 1, 1, 1, 1, 2, 2, 2, 2, 2, 2, 2, 3, 4, 4, 5, 6, 7, 8, 9)</td><td>1</td><td>1</td><td>List(10833 Le Conte Ave, 72-225 CHS, Los Angeles, null, United States, List(60005247), List(Department of Surgery, David Geffen School of Medicine at UCLA), 2, 90095-1749, CA, usa, null, 60005247, 113379660)</td><td>60005247</td></tr><tr><td>10.1001/jamanetworkopen.2021.46519</td><td>85124175241</td><td>2022</td><td>List(List(1, 55419309200, auth, false, PhD,MPH, 0ab97920196e062be90100ebbef64cc1ac855974, Rachel, Rachel, Gold R., Gold R., R., R., null, null, null, Gold, Gold), List(2, 57220713364, auth, false, PhD, null, Annie E., Annie E., Larson A.E., Larson A.E., A.E., A.E., null, null, null, Larson, Larson), List(3, 6603157852, auth, false, MD, null, Joann M., Joann M., Sperl-Hillen J.M., Sperl-Hillen J.M., J.M., J.M., null, null, null, Sperl-Hillen, Sperl-Hillen), List(4, 57442904700, auth, false, MD, null, David, David, Boston D., Boston D., D., D., null, null, null, Boston, Boston), List(5, 55821024800, auth, false, PhD, null, Christina R., Christina R., Sheppler C.R., Sheppler C.R., C.R., C.R., null, null, null, Sheppler, Sheppler), List(6, 15922637500, auth, false, MD, null, John, John, Heintzman J., Heintzman J., J., J., null, null, null, Heintzman, Heintzman), List(7, 7004315541, auth, false, PhD, null, Carmit, Carmit, McMullen C., McMullen C., C., C., null, null, null, McMullen, McMullen), List(8, 57195072395, auth, false, BS, null, Mary, Mary, Middendorf M., Middendorf M., M., M., null, null, null, Middendorf, Middendorf), List(9, 56160508100, auth, false, BS, null, Deepika, Deepika, Appana D., Appana D., D., D., null, null, null, Appana, Appana), List(10, 57496150300, auth, false, BTech, null, Vijayakumar, Vijayakumar, Thirumalai V., Thirumalai V., V., V., null, null, null, Thirumalai, Thirumalai), List(11, 57442773900, auth, false, MS, null, Ann, Ann, Romer A., Romer A., A., A., null, null, null, Romer, Romer), List(12, 57442880800, auth, false, MSN, null, Julianne, Julianne, Bava J., Bava J., J., J., null, null, null, Bava, Bava), List(13, 57199369995, auth, false, BA, null, James V., James V., Davis J.V., Davis J.V., J.V., J.V., null, null, null, Davis, Davis), List(14, 57205581616, auth, false, MPH, null, Nadia, Nadia, Yosuf N., Yosuf N., N., N., null, null, null, Yosuf, Yosuf), List(15, 57218404351, auth, false, MPH, null, Jenny, Jenny, Hauschildt J., Hauschildt J., J., J., null, null, null, Hauschildt, Hauschildt), List(16, 57442815800, auth, false, MPH, null, Kristin, Kristin, Scott K., Scott K., K., K., null, null, null, Scott, Scott), List(17, 57213755451, auth, false, BS, null, Susan, Susan, Moore S., Moore S., S., S., null, null, null, Moore, Moore), List(18, 7402622938, auth, false, MD,MA,MPH, null, Patrick J., Patrick J., O'Connor P.J., O'Connor P.J., P.J., P.J., null, null, null, O'Connor, O'Connor))</td><td>List(List(1, 1, true), List(5, 1, true), List(7, 1, true), List(13, 1, true), List(14, 1, true), List(1, 2, true), List(2, 2, true), List(4, 2, true), List(6, 2, true), List(8, 2, true), List(11, 2, true), List(12, 2, true), List(15, 2, true), List(16, 2, true), List(17, 2, true), List(3, 3, true), List(9, 3, true), List(10, 3, true), List(18, 3, true))</td><td>List(List(1, 55419309200, null, false, PhD,MPH, null, Rachel, null, Gold R., null, R., null, null, null, null, Gold, null))</td><td>ar</td><td>Full</td><td>25743805</td><td>List(e2146519, null, usa, 04, 02, 4 February 2022, 2022, null, null, null, null, null, List(25743805), null, null, American Medical Association, JAMA Network Open, JAMA Netw. Open, 21100900345, j, https://jamanetwork.com/journals/jamanetworkopen)</td><td>32</td><td>List(List(null, null))</td><td>List(List(3800 N Interstate Ave, Portland, null, United States, List(60015521, 60017457), List(Center for Health Research, Kaiser Permanente Northwest), 2, 97227, OR, usa, null, 60015521, null), List(null, Portland, null, United States, List(111155429), List(OCHIN Inc), 1, null, OR, usa, null, 111155429, null), List(null, Minneapolis, null, United States, List(60013660), List(HealthPartners Institute), 1, null, MN, usa, null, 60013660, null))</td><td>List(1, 55419309200, auth, false, PhD,MPH, 0ab97920196e062be90100ebbef64cc1ac855974, Rachel, Rachel, Gold R., Gold R., R., R., null, null, null, Gold, Gold)</td><td>List(18, 7402622938, auth, false, MD,MA,MPH, null, Patrick J., Patrick J., O'Connor P.J., O'Connor P.J., P.J., P.J., null, null, null, O'Connor, O'Connor)</td><td>18</td><td>55419309200</td><td>7402622938</td><td>List(55419309200)</td><td>List(Rachel)</td><td>Rachel</td><td>List(1)</td><td>1</td><td>List(1, 5, 7, 13, 14, 1, 2, 4, 6, 8, 11, 12, 15, 16, 17, 3, 9, 10, 18)</td><td>List(1, 1, 1, 1, 1, 2, 2, 2, 2, 2, 2, 2, 2, 2, 2, 3, 3, 3, 3)</td><td>1</td><td>1</td><td>List(3800 N Interstate Ave, Portland, null, United States, List(60015521, 60017457), List(Center for Health Research, Kaiser Permanente Northwest), 2, 97227, OR, usa, null, 60015521, null)</td><td>60015521</td></tr><tr><td>10.1001/jamanetworkopen.2021.48139</td><td>85124499502</td><td>2022</td><td>List(List(1, 54916758400, auth, false, MD,PhD, 2b46ffec72adaa4d568d133ea68ffc513448693b, Martin Bødtker, Martin Bødtker, Mortensen M.Bo., Mortensen M.B., M.Bø., M.B., null, null, null, Mortensen, Mortensen), List(2, 55549963700, auth, false, MD,MPH,PhD, null, Miguel, Miguel, Cainzos-Achirica M., Caínzos-Achirica M., M., M., null, null, null, Caínzos-Achirica, Caínzos-Achirica), List(3, 57191431506, auth, false, MD,PhD, null, Flemming Hald, Flemming Hald, Steffensen F.H., Steffensen F.H., F.H., F.H., null, null, null, Steffensen, Steffensen), List(4, 56962746200, auth, false, MD,DMSc, null, Hans Erik, Hans Erik, Botker H.E., Bøtker H.E., H.E., H.E., null, null, null, Bøtker, Bøtker), List(5, 37022247900, auth, false, MD,PhD, null, Jesper Møller, Jesper Møller, Jensen J.Mo., Jensen J.M., J.Mø., J.M., null, null, null, Jensen, Jensen), List(6, 6603539112, auth, false, MD,PhD, null, Niels Peter Rønnow, Niels Peter Rønnow, Sand N.P.Ro., Sand N.P.R., N.P.Rø., N.P.R., null, null, null, Sand, Sand), List(7, 20034699800, auth, false, MD,PhD, null, Michael, Michael, Maeng M., Maeng M., M., M., null, null, null, Maeng, Maeng), List(8, 36874392000, auth, false, MD,PhD, null, Jens Meldgaard, Jens Meldgaard, Bruun J.M., Bruun J.M., J.M., J.M., null, null, null, Bruun, Bruun), List(9, 14012509900, auth, false, MD,MPH, null, Michael J., Michael J., Blaha M.J., Blaha M.J., M.J., M.J., null, null, null, Blaha, Blaha), List(10, 57213362295, auth, false, MD,DMSc, null, Henrik Toft, Henrik Toft, Sorensen H.T., Sørensen H.T., H.T., H.T., null, null, null, Sørensen, Sørensen), List(11, 54907239600, auth, false, MD,PhD, null, Manan, Manan, Pareek M., Pareek M., M., M., null, null, null, Pareek, Pareek), List(12, 6701774452, auth, false, MD,MPH,MSc, null, Khurram, Khurram, Nasir K., Nasir K., K., K., null, null, null, Nasir, Nasir), List(13, 6701719620, auth, false, MD,PhD, null, Bjarne L., Bjarne L., Norgaard B.L., Nørgaard B.L., B.L., B.L., null, null, null, Nørgaard, Nørgaard))</td><td>List(List(1, 1, true), List(4, 1, true), List(5, 1, true), List(7, 1, true), List(13, 1, true), List(1, 2, true), List(2, 2, true), List(9, 2, true), List(12, 2, true), List(2, 3, true), List(12, 3, true), List(2, 4, true), List(12, 4, true), List(2, 5, true), List(9, 5, true), List(3, 6, true), List(6, 7, true), List(8, 8, true), List(10, 9, true), List(11, 10, true))</td><td>List(List(1, 54916758400, null, false, MD,PhD, null, Martin Bødtker, null, Mortensen M.Bo., null, M.Bø., null, null, null, null, Mortensen, null))</td><td>ar</td><td>Full</td><td>25743805</td><td>List(e2148139, null, usa, 11, 02, 11 February 2022, 2022, null, null, null, null, null, List(25743805), null, null, American Medical Association, JAMA Network Open, JAMA Netw. Open, 21100900345, j, https://jamanetwork.com/journals/jamanetworkopen)</td><td>1</td><td>List(List(dnk, null))</td><td>List(List(Palle Juul-Jensens Boulevard, Aarhus N, null, Denmark, List(60023882), List(Department of Cardiology, Aarhus University Hospital), 2, 8200, null, dnk, null, 60023882, 113145318), List(null, Baltimore, null, United States, List(60005248, 60001117), List(Johns Hopkins Ciccarone Center for the Prevention of Cardiovascular Disease, Johns Hopkins University, School of Medicine), 3, null, MD, usa, null, 60001117, null), List(null, Houston, null, United States, List(60008981), List(Division of Cardiovascular Prevention and Wellness, Department of Cardiology, Houston Methodist DeBakey Heart and Vascular Center), 3, null, TX, usa, null, 60008981, 125749052), List(null, Houston, null, United States, List(60008981), List(Center for Outcomes Research, Houston Methodist), 2, null, TX, usa, null, 60008981, null), List(null, Baltimore, null, United States, List(60005248, 60024002), List(Welch Center for Prevention Epidemiology and Clinical Research, The Johns Hopkins University), 2, null, MD, usa, null, 60024002, null), List(null, Vejle, null, Denmark, List(60157965), List(Department of Cardiology, Lillebaelt Hospital-Vejle), 2, null, null, dnk, null, 60157965, 124295849), List(null, Esbjerg, null, Denmark, List(60008480, 60018417), List(Department of Cardiology, University Hospital of Southwest Jutland, Institute of Regional Health Research, University of Southern Denmark), 4, null, null, dnk, null, 60018417, 103945410), List(null, Aarhus, null, Denmark, List(60023882, 60016428), List(Steno Diabetes Center Aarhus, Aarhus University Hospital), 2, null, null, dnk, null, 60023882, null), List(null, Aarhus, null, Denmark, List(60023882), List(Department of Clinical Epidemiology, Aarhus University Hospital), 2, null, null, dnk, null, 60023882, 112440041), List(null, New Haven, null, United States, List(60015232, 60017994, 60005455), List(Department of Internal Medicine, Yale New Haven Hospital, Yale University, School of Medicine), 4, null, CT, usa, null, 60017994, 113824620))</td><td>List(1, 54916758400, auth, false, MD,PhD, 2b46ffec72adaa4d568d133ea68ffc513448693b, Martin Bødtker, Martin Bødtker, Mortensen M.Bo., Mortensen M.B., M.Bø., M.B., null, null, null, Mortensen, Mortensen)</td><td>List(13, 6701719620, auth, false, MD,PhD, null, Bjarne L., Bjarne L., Norgaard B.L., Nørgaard B.L., B.L., B.L., null, null, null, Nørgaard, Nørgaard)</td><td>13</td><td>54916758400</td><td>6701719620</td><td>List(54916758400)</td><td>List(Martin Bødtker)</td><td>Martin Bødtker</td><td>List(1)</td><td>1</td><td>List(1, 4, 5, 7, 13, 1, 2, 9, 12, 2, 12, 2, 12, 2, 9, 3, 6, 8, 10, 11)</td><td>List(1, 1, 1, 1, 1, 2, 2, 2, 2, 3, 3, 4, 4, 5, 5, 6, 7, 8, 9, 10)</td><td>1</td><td>1</td><td>List(Palle Juul-Jensens Boulevard, Aarhus N, null, Denmark, List(60023882), List(Department of Cardiology, Aarhus University Hospital), 2, 8200, null, dnk, null, 60023882, 113145318)</td><td>60023882</td></tr><tr><td>10.1001/jamanetworkopen.2022.16720</td><td>85132589529</td><td>2022</td><td>List(List(1, 17346549700, auth, false, PhD, e98518d5daf7eb7bc072127e35f3aa6782ff5e4f, Richard R., Richard R., Rosenkranz R.R., Rosenkranz R.R., R.R., R.R., null, null, null, Rosenkranz, Rosenkranz), List(2, 56645018100, auth, false, PhD, null, Brooke J., Brooke J., Cull B.J., Cull B.J., B.J., B.J., null, null, null, Cull, Cull), List(3, 23980827500, auth, false, PhD, null, Sara K., Sara K., Rosenkranz S.K., Rosenkranz S.K., S.K., S.K., null, null, null, Rosenkranz, Rosenkranz), List(4, 34771046500, auth, false, PhD, null, David A., David A., Dzewaltowski D.A., Dzewaltowski D.A., D.A., D.A., null, null, null, Dzewaltowski, Dzewaltowski))</td><td>List(List(1, 1, true), List(2, 1, true), List(3, 1, true), List(4, 2, true))</td><td>List(List(1, 17346549700, null, false, PhD, null, Richard R., null, Rosenkranz R.R., null, R.R., null, null, null, null, Rosenkranz, null))</td><td>ar</td><td>Full</td><td>25743805</td><td>List(null, null, usa, null, null, 2022, 2022, null, null, null, null, null, List(25743805), null, null, American Medical Association, JAMA Network Open, JAMA Netw. Open, 21100900345, j, https://jamanetwork.com/journals/jamanetworkopen)</td><td>0</td><td>List(List(usa, null))</td><td>List(List(null, Manhattan, null, United States, List(60000689), List(Department of Food, Nutrition, Dietetics and Health, Kansas State University), 4, null, null, usa, null, 60000689, 108008123), List(null, Omaha, null, United States, List(60016261), List(Department of Health Promotion, University of Nebraska Medical Center), 2, null, null, usa, null, 60016261, 105209423))</td><td>List(1, 17346549700, auth, false, PhD, e98518d5daf7eb7bc072127e35f3aa6782ff5e4f, Richard R., Richard R., Rosenkranz R.R., Rosenkranz R.R., R.R., R.R., null, null, null, Rosenkranz, Rosenkranz)</td><td>List(4, 34771046500, auth, false, PhD, null, David A., David A., Dzewaltowski D.A., Dzewaltowski D.A., D.A., D.A., null, null, null, Dzewaltowski, Dzewaltowski)</td><td>4</td><td>17346549700</td><td>34771046500</td><td>List(17346549700)</td><td>List(Richard R.)</td><td>Richard R.</td><td>List(1)</td><td>1</td><td>List(1, 2, 3, 4)</td><td>List(1, 1, 1, 2)</td><td>1</td><td>1</td><td>List(null, Manhattan, null, United States, List(60000689), List(Department of Food, Nutrition, Dietetics and Health, Kansas State University), 4, null, null, usa, null, 60000689, 108008123)</td><td>60000689</td></tr><tr><td>10.1001/jamanetworkopen.2022.40290</td><td>85141890608</td><td>2022</td><td>List(List(1, 57209100190, auth, false, MD,MS, d7b5d245159d924011e8febafc37b3bb2058ae6c, Arianne K., Arianne K., Baldomero A.K., Baldomero A.K., A.K., A.K., null, null, null, Baldomero, Baldomero), List(2, 16233346800, auth, false, MD,MS, null, Ken M., Ken M., Kunisaki K.M., Kunisaki K.M., K.M., K.M., null, null, null, Kunisaki, Kunisaki), List(3, 35353492200, auth, false, MD, null, Chris H., Chris H., Wendt C.H., Wendt C.H., C.H., C.H., null, null, null, Wendt, Wendt), List(4, 16202016000, auth, false, BS, null, Ann, Ann, Bangerter A., Bangerter A., A., A., null, null, null, Bangerter, Bangerter), List(5, 6701822636, auth, false, MD,MPH, null, Susan J., Susan J., Diem S.J., Diem S.J., S.J., S.J., null, null, null, Diem, Diem), List(6, 7005965705, auth, false, MD,MPH, null, Kristine E., Kristine E., Ensrud K.E., Ensrud K.E., K.E., K.E., null, null, null, Ensrud, Ensrud), List(7, 35355829700, auth, false, PhD, null, David B., David B., Nelson D.B., Nelson D.B., D.B., D.B., null, null, null, Nelson, Nelson), List(8, 55336332500, auth, false, PhD,MPH,MSW, null, Carrie, Carrie, Henning-Smith C., Henning-Smith C., C., C., null, null, null, Henning-Smith, Henning-Smith), List(9, 7006472198, auth, false, MD, null, Bradley A., Bradley A., Bart B.A., Bart B.A., B.A., B.A., null, null, null, Bart, Bart), List(10, 56901190300, auth, false, PhD, null, Patrick, Patrick, Hammett P., Hammett P., P., P., null, null, null, Hammett, Hammett), List(11, 7101707586, auth, false, PhD, null, Hildi J., Hildi J., Hagedorn H.J., Hagedorn H.J., H.J., H.J., null, null, null, Hagedorn, Hagedorn), List(12, 7102777421, auth, false, MD,MBA, null, R. Adams, R. Adams, Dudley R.A., Dudley R.A., R.A., R.A., null, null, null, Dudley, Dudley))</td><td>List(List(1, 1, true), List(2, 1, true), List(3, 1, true), List(12, 1, true), List(1, 2, true), List(2, 2, true), List(3, 2, true), List(12, 2, true), List(1, 3, true), List(4, 3, true), List(5, 3, true), List(6, 3, true), List(7, 3, true), List(9, 3, true), List(10, 3, true), List(11, 3, true), List(12, 3, true), List(5, 4, true), List(6, 4, true), List(7, 5, true), List(10, 5, true), List(8, 6, true), List(9, 7, true))</td><td>List(List(1, 57209100190, null, false, MD,MS, null, Arianne K., null, Baldomero A.K., null, A.K., null, null, null, null, Baldomero, null))</td><td>ar</td><td>Full</td><td>25743805</td><td>List(null, null, usa, 04, 11, 4 November 2022, 2022, null, null, null, null, null, List(25743805), null, null, American Medical Association, JAMA Network Open, JAMA Netw. Open, 21100900345, j, https://jamanetwork.com/journals/jamanetworkopen)</td><td>0</td><td>List(List(usa, null))</td><td>List(List(null, Minneapolis, null, United States, List(60023621), List(Pulmonary Allergy, Critical Care, and Sleep Medicine, Minneapolis VA Health Care System), 4, null, MN, usa, null, 60023621, 123882226), List(null, Minneapolis, null, United States, List(60029445), List(Pulmonary Allergy, Critical Care, and Sleep Medicine, University of Minnesota), 4, null, null, usa, null, 60029445, 123928217), List(null, Minneapolis, null, United States, List(60023621), List(Center for Care Delivery and Outcomes Research, Minneapolis VA Health Care System), 2, null, MN, usa, null, 60023621, 121997507), List(null, Minneapolis, null, United States, List(60023621), List(General Internal Medicine, Minneapolis VA Health Care System), 2, null, MN, usa, null, 60023621, 108021698), List(null, Minneapolis, null, United States, List(60029445), List(Division of Biostatistics, University of Minnesota), 2, null, null, usa, null, 60029445, 113645465), List(null, Minneapolis, null, United States, List(60029445), List(Division of Health Policy and Management, University of Minnesota), 2, null, null, usa, null, 60029445, 106743337), List(null, Minneapolis, null, United States, List(60023621), List(Cardiology, Minneapolis VA Health Care System), 2, null, MN, usa, null, 60023621, 108392754))</td><td>List(1, 57209100190, auth, false, MD,MS, d7b5d245159d924011e8febafc37b3bb2058ae6c, Arianne K., Arianne K., Baldomero A.K., Baldomero A.K., A.K., A.K., null, null, null, Baldomero, Baldomero)</td><td>List(12, 7102777421, auth, false, MD,MBA, null, R. Adams, R. Adams, Dudley R.A., Dudley R.A., R.A., R.A., null, null, null, Dudley, Dudley)</td><td>12</td><td>57209100190</td><td>7102777421</td><td>List(57209100190)</td><td>List(Arianne K.)</td><td>Arianne K.</td><td>List(1)</td><td>1</td><td>List(1, 2, 3, 12, 1, 2, 3, 12, 1, 4, 5, 6, 7, 9, 10, 11, 12, 5, 6, 7, 10, 8, 9)</td><td>List(1, 1, 1, 1, 2, 2, 2, 2, 3, 3, 3, 3, 3, 3, 3, 3, 3, 4, 4, 5, 5, 6, 7)</td><td>1</td><td>1</td><td>List(null, Minneapolis, null, United States, List(60023621), List(Pulmonary Allergy, Critical Care, and Sleep Medicine, Minneapolis VA Health Care System), 4, null, MN, usa, null, 60023621, 123882226)</td><td>60023621</td></tr><tr><td>10.1001/jamaoncol.2021.1160</td><td>85113141445</td><td>2021</td><td>List(List(1, 57218184061, auth, false, MD,MPH, 3682ea0879d8c853502a3dfff95d35899b22e866, Jeanne S., Jeanne S., Mandelblatt J.S., Mandelblatt J.S., J.S., J.S., null, null, null, Mandelblatt, Mandelblatt), List(2, 7004412680, auth, false, PhD, null, Tim A., Tim A., Ahles T.A., Ahles T.A., T.A., T.A., null, null, null, Ahles, Ahles), List(3, 35429349500, auth, false, MD, null, Marc E., Marc E., Lippman M.E., Lippman M.E., M.E., M.E., null, null, null, Lippman, Lippman), List(4, 57216997157, auth, false, MD, null, Claudine, Claudine, Isaacs C., Isaacs C., C., C., null, null, null, Isaacs, Isaacs), List(5, 7004961369, auth, false, PhD, null, Lucile, Lucile, Adams-Campbell L., Adams-Campbell L., L., L., null, null, null, Adams-Campbell, Adams-Campbell), List(6, 57218790347, auth, false, PsyD, null, Andrew J., Andrew J., Saykin A.J., Saykin A.J., A.J., A.J., null, null, null, Saykin, Saykin), List(7, 57202975091, auth, false, MD, null, Harvey J., Harvey J., Cohen H.J., Cohen H.J., H.J., H.J., null, null, null, Cohen, Cohen), List(8, 24439367100, auth, false, PhD, null, Judith, Judith, Carroll J., Carroll J., J., J., null, null, null, Carroll, Carroll))</td><td>List(List(1, 1, true), List(5, 1, true), List(1, 2, true), List(3, 2, true), List(4, 2, true), List(2, 3, true), List(3, 4, true), List(4, 4, true), List(6, 5, true), List(7, 6, true), List(8, 7, true))</td><td>List(List(1, 57218184061, null, false, MD,MPH, null, Jeanne S., null, Mandelblatt J.S., null, J.S., null, null, null, null, Mandelblatt, null))</td><td>re</td><td>Repository</td><td>23742437</td><td>List(null, null, usa, 01, 11, November 2021, 2021, null, null, null, null, null, List(23742445), null, List(23742437), American Medical Association, JAMA Oncology, JAMA Oncol., 21100420583, j, http://oncology.jamanetwork.com/journal.aspx)</td><td>0</td><td>List(List(usa, null))</td><td>List(List(null, Washington, null, United States, List(60020908, 60023927), List(Department of Oncology, Cancer Prevention and Control Program, Georgetown-Lombardi Comprehensive Cancer Center, Georgetown University), 4, null, DC, usa, null, 60020908, 110317373), List(null, Washington, null, United States, List(60021191), List(Department of Medicine, Georgetown University Medical Center), 2, null, DC, usa, null, 60021191, 113848059), List(null, New York, null, United States, List(60009343), List(Department of Psychiatry and Behavioral Sciences, Memorial Sloan-Kettering Cancer Center), 2, null, NY, usa, null, 60009343, 112980841), List(null, Washington, null, United States, List(60020908, 60021191), List(Department of Oncology, Breast Cancer Program, Georgetown-Lombardi Comprehensive Cancer Center, Georgetown University Medical Center), 4, null, DC, usa, null, 60020908, 110317373), List(null, Indianapolis, null, United States, List(60024609, 60021947, 60018927), List(Radiology and Imaging Sciences, Center for Neuroimaging, Department of Radiology and Imaging Sciences, Indiana Alzheimer's Disease Research Center, Melvin and Bren Simon Cancer Center, Indiana University, School of Medicine), 7, null, null, usa, null, 60024609, 115543962), List(null, Durham, null, United States, List(60005200, 60008724), List(Center for the Study of Aging and Human Development, Duke University, School of Medicine), 3, null, NC, usa, null, 60005200, null), List(null, Los Angeles, null, United States, List(60005247, 60027550, 60006511), List(UCLA, Department of Psychiatry and Biobehavioral Sciences, David Geffen School of Medicine, Jane and Terry Semel Institute for Neuroscience and Human Behavior, Jonsson Comprehensive Cancer Center, Cousins Center for Psychoneuroimmunology), 6, null, CA, usa, null, 60006511, null))</td><td>List(1, 57218184061, auth, false, MD,MPH, 3682ea0879d8c853502a3dfff95d35899b22e866, Jeanne S., Jeanne S., Mandelblatt J.S., Mandelblatt J.S., J.S., J.S., null, null, null, Mandelblatt, Mandelblatt)</td><td>List(8, 24439367100, auth, false, PhD, null, Judith, Judith, Carroll J., Carroll J., J., J., null, null, null, Carroll, Carroll)</td><td>8</td><td>57218184061</td><td>24439367100</td><td>List(57218184061)</td><td>List(Jeanne S.)</td><td>Jeanne S.</td><td>List(1)</td><td>1</td><td>List(1, 5, 1, 3, 4, 2, 3, 4, 6, 7, 8)</td><td>List(1, 1, 2, 2, 2, 3, 4, 4, 5, 6, 7)</td><td>1</td><td>1</td><td>List(null, Washington, null, United States, List(60020908, 60023927), List(Department of Oncology, Cancer Prevention and Control Program, Georgetown-Lombardi Comprehensive Cancer Center, Georgetown University), 4, null, DC, usa, null, 60020908, 110317373)</td><td>60020908</td></tr><tr><td>10.1002/1348-9585.12200</td><td>85101450842</td><td>2021</td><td>List(List(1, 7402725145, auth, false, null, f43d4270648fa30212cc9b8d7e90d3eb2a45af1e, SukhDev, Sukh Dev, Mishra S., Mishra S.D., S., S.D., null, 0000-0002-0842-1657, null, Mishra, Mishra), List(2, 8352051300, auth, false, null, null, Kamalesh, Kamalesh, Sarkar K., Sarkar K., K., K., null, null, null, Sarkar, Sarkar))</td><td>List(List(1, 1, true), List(2, 1, true))</td><td>List(List(1, 7402725145, null, false, null, null, SukhDev, null, Mishra S., null, S., null, null, null, null, Mishra, null))</td><td>ar</td><td>Full</td><td>13419145</td><td>List(e12200, null, jpn, 01, 01, January/December 2021, 2021, null, null, null, null, null, List(13489585), null, List(13419145), John Wiley and Sons Inc, Journal of Occupational Health, J. Occup. Health, 29280, j, https://onlinelibrary.wiley.com/loi/13489585)</td><td>0</td><td>List(List(ind, null))</td><td>List(List(null, Ahmedabad, null, India, List(60025666, 60028151), List(ICMR-National Institute of Occupational Health), 1, null, null, ind, null, 60028151, null))</td><td>List(1, 7402725145, auth, false, null, f43d4270648fa30212cc9b8d7e90d3eb2a45af1e, SukhDev, Sukh Dev, Mishra S., Mishra S.D., S., S.D., null, 0000-0002-0842-1657, null, Mishra, Mishra)</td><td>List(2, 8352051300, auth, false, null, null, Kamalesh, Kamalesh, Sarkar K., Sarkar K., K., K., null, null, null, Sarkar, Sarkar)</td><td>2</td><td>7402725145</td><td>8352051300</td><td>List(7402725145)</td><td>List(SukhDev)</td><td>SukhDev</td><td>List(1)</td><td>1</td><td>List(1, 2)</td><td>List(1, 1)</td><td>1</td><td>1</td><td>List(null, Ahmedabad, null, India, List(60025666, 60028151), List(ICMR-National Institute of Occupational Health), 1, null, null, ind, null, 60028151, null)</td><td>60028151</td></tr><tr><td>10.1002/1873-3468.13037</td><td>85044855783</td><td>2018</td><td>List(List(1, 56602836900, auth, false, null, null, Julia-Beate, Julia Beate, Tastensen J.-B., Tästensen J.B., J.-B., J.B., null, null, null, Tästensen, Tästensen), List(2, 7005362939, auth, false, null, ef0ce0a810af770869d41e705531ba18eb332c0a, Peter, Peter, Schonheit P., Schönheit P., P., P., null, null, null, Schönheit, Schönheit))</td><td>List(List(1, 1, true), List(2, 1, true))</td><td>List(List(2, 7005362939, null, false, null, null, Peter, null, Schonheit P., null, P., null, null, null, null, Schönheit, null))</td><td>ar</td><td>Full</td><td>00145793</td><td>List(null, null, nld, 01, 05, May 2018, 2018, null, null, null, null, null, List(18733468), null, List(00145793), Wiley Blackwell, FEBS Letters, FEBS Lett., 17481, j, http://onlinelibrary.wiley.com/journal/10.1002/(ISSN)1873-3468)</td><td>0</td><td>List(List(deu, null))</td><td>List(List(null, null, null, Germany, List(60012345), List(Institut für Allgemeine Mikrobiologie, Christian-Albrechts-Universität Kiel), 2, null, null, deu, null, 60012345, 103652026))</td><td>List(1, 56602836900, auth, false, null, null, Julia-Beate, Julia Beate, Tastensen J.-B., Tästensen J.B., J.-B., J.B., null, null, null, Tästensen, Tästensen)</td><td>List(2, 7005362939, auth, false, null, ef0ce0a810af770869d41e705531ba18eb332c0a, Peter, Peter, Schonheit P., Schönheit P., P., P., null, null, null, Schönheit, Schönheit)</td><td>2</td><td>56602836900</td><td>7005362939</td><td>List(7005362939)</td><td>List(Peter)</td><td>Peter</td><td>List(2)</td><td>2</td><td>List(1, 2)</td><td>List(1, 1)</td><td>2</td><td>1</td><td>List(null, null, null, Germany, List(60012345), List(Institut für Allgemeine Mikrobiologie, Christian-Albrechts-Universität Kiel), 2, null, null, deu, null, 60012345, 103652026)</td><td>60012345</td></tr><tr><td>10.1002/1873-3468.13352</td><td>85062960041</td><td>2019</td><td>List(List(1, 57131760300, auth, false, null, null, Robert H., Robert H., Wilson R.H., Wilson R.H., R.H., R.H., null, null, null, Wilson, Wilson), List(2, 55927865900, auth, false, null, null, Gabriel, Gabriel, Thieulin-Pardo G., Thieulin-Pardo G., G., G., null, null, null, Thieulin-Pardo, Thieulin-Pardo), List(3, 7102931078, auth, false, null, null, Franz-Ulrich, Franz Ulrich, Hartl F.-U., Hartl F.U., F.-U., F.U., null, null, null, Hartl, Hartl), List(4, 6603873430, auth, false, null, 9699612b2e3e30519b12ec0343a6d53bf1ddb2e6, Manajit, Manajit, Hayer-Hartl M., Hayer-Hartl M., M., M., null, null, null, Hayer-Hartl, Hayer-Hartl))</td><td>List(List(1, 1, true), List(2, 1, true), List(4, 1, true), List(3, 2, true))</td><td>List(List(4, 6603873430, null, false, null, null, Manajit, null, Hayer-Hartl M., null, M., null, null, null, null, Hayer-Hartl, null))</td><td>ar</td><td>Full</td><td>00145793</td><td>List(null, null, nld, 01, 03, March 2019, 2019, info@wiley.com, email, null, null, null, List(18733468), null, List(00145793), Wiley Blackwell, FEBS Letters, FEBS Lett., 17481, j, http://onlinelibrary.wiley.com/journal/10.1002/(ISSN)1873-3468)</td><td>0</td><td>List(List(deu, null))</td><td>List(List(null, Martinsried, null, Germany, List(60006070), List(Chaperonin-assisted Protein Folding Group, Max Planck Institute of Biochemistry), 2, null, null, deu, null, 60006070, 122266842), List(null, Martinsried, null, Germany, List(60006070), List(Cellular Biochemistry Group, Max Planck Institute of Biochemistry), 2, null, null, deu, null, 60006070, 103346457))</td><td>List(1, 57131760300, auth, false, null, null, Robert H., Robert H., Wilson R.H., Wilson R.H., R.H., R.H., null, null, null, Wilson, Wilson)</td><td>List(4, 6603873430, auth, false, null, 9699612b2e3e30519b12ec0343a6d53bf1ddb2e6, Manajit, Manajit, Hayer-Hartl M., Hayer-Hartl M., M., M., null, null, null, Hayer-Hartl, Hayer-Hartl)</td><td>4</td><td>57131760300</td><td>6603873430</td><td>List(6603873430)</td><td>List(Manajit)</td><td>Manajit</td><td>List(4)</td><td>4</td><td>List(1, 2, 4, 3)</td><td>List(1, 1, 1, 2)</td><td>3</td><td>1</td><td>List(null, Martinsried, null, Germany, List(60006070), List(Chaperonin-assisted Protein Folding Group, Max Planck Institute of Biochemistry), 2, null, null, deu, null, 60006070, 122266842)</td><td>60006070</td></tr><tr><td>10.1002/1878-0261.12504</td><td>85067662949</td><td>2019</td><td>List(List(1, 55290632900, auth, false, null, null, Yuichi, Yuichi, Akatsu Y., Akatsu Y., Y., Y., null, null, null, Akatsu, Akatsu), List(2, 57209412277, auth, false, null, null, Naoya, Naoya, Takahashi N., Takahashi N., N., N., null, null, null, Takahashi, Takahashi), List(3, 6603036281, auth, false, null, null, Yasuhiro, Yasuhiro, Yoshimatsu Y., Yoshimatsu Y., Y., Y., null, null, null, Yoshimatsu, Yoshimatsu), List(4, 57209419746, auth, false, null, null, Shiori, Shiori, Kimuro S., Kimuro S., S., S., null, null, null, Kimuro, Kimuro), List(5, 36889615500, auth, false, null, null, Tomoki, Tomoki, Muramatsu T., Muramatsu T., T., T., null, null, null, Muramatsu, Muramatsu), List(6, 56530562700, auth, false, null, null, Akihiro, Akihiro, Katsura A., Katsura A., A., A., null, null, null, Katsura, Katsura), List(7, 37117464700, auth, false, null, null, Nako, Nako, Maishi N., Maishi N., N., N., null, null, null, Maishi, Maishi), List(8, 57039371500, auth, false, null, null, Hiroshi I., Hiroshi I., Suzuki H.I., Suzuki H.I., H.I., H.I., null, null, null, Suzuki, Suzuki), List(9, 7101613954, auth, false, null, null, Johji, Johji, Inazawa J., Inazawa J., J., J., null, null, null, Inazawa, Inazawa), List(10, 7103235315, auth, false, null, null, Kyoko, Kyoko, Hida K., Hida K., K., K., null, null, null, Hida, Hida), List(11, 7102097939, auth, false, null, null, Kohei, Kohei, Miyazono K., Miyazono K., K., K., null, null, null, Miyazono, Miyazono), List(12, 7102172647, auth, false, null, 6aae5ab4a0da0ceefb0f9e23cee6e683975d40eb, Tetsuro, Tetsuro, Watabe T., Watabe T., T., T., null, null, null, Watabe, Watabe))</td><td>List(List(1, 1, true), List(6, 1, true), List(8, 1, true), List(11, 1, true), List(1, 2, true), List(2, 3, true), List(3, 3, true), List(4, 3, true), List(12, 3, true), List(5, 4, true), List(9, 4, true), List(7, 5, true), List(10, 5, true), List(8, 6, true))</td><td>List(List(12, 7102172647, null, false, null, null, Tetsuro, null, Watabe T., null, T., null, null, null, null, Watabe, null))</td><td>ar</td><td>Full</td><td>15747891</td><td>List(null, null, nld, 01, 08, August 2019, 2019, null, null, null, null, null, List(18780261), null, List(15747891), John Wiley and Sons Ltd, Molecular Oncology, Mol. Oncol., 5800207508, j, http://onlinelibrary.wiley.com/journal/10.1002/(ISSN)1878-0261)</td><td>0</td><td>List(List(jpn, null))</td><td>List(List(null, null, null, Japan, List(60178602), List(Department of Molecular Pathology, Graduate School of Medicine, The University of Tokyo), 3, null, null, jpn, null, 60178602, 125013467), List(null, Tokyo, null, Japan, List(60017015), List(Biomedicine Group, Pharmaceutical Research Laboratories, Pharmaceutical Group, Nippon Kayaku Co., Ltd.), 5, null, null, jpn, null, 60017015, 124437933), List(null, null, null, Japan, List(60003303), List(Department of Biochemistry, Graduate School of Medical and Dental Sciences, Tokyo Medical and Dental University (TMDU)), 3, null, null, jpn, null, 60003303, 103218195), List(null, null, null, Japan, List(60003303), List(Department of Molecular Cytogenetics, Medical Research Institute, Tokyo Medical and Dental University (TMDU)), 3, null, null, jpn, null, 60003303, 103218315), List(null, Sapporo, null, Japan, List(60014652), List(Department of Vascular Biology and Molecular Pathology, Graduate School of Dental Medicine, Hokkaido University), 3, null, null, jpn, null, 60014652, 109932748), List(null, Cambridge, null, United States, List(60022195), List(David H. Koch Institute for Integrative Cancer Research, Massachusetts Institute of Technology), 2, null, MA, usa, null, 60022195, 105748493))</td><td>List(1, 55290632900, auth, false, null, null, Yuichi, Yuichi, Akatsu Y., Akatsu Y., Y., Y., null, null, null, Akatsu, Akatsu)</td><td>List(12, 7102172647, auth, false, null, 6aae5ab4a0da0ceefb0f9e23cee6e683975d40eb, Tetsuro, Tetsuro, Watabe T., Watabe T., T., T., null, null, null, Watabe, Watabe)</td><td>12</td><td>55290632900</td><td>7102172647</td><td>List(7102172647)</td><td>List(Tetsuro)</td><td>Tetsuro</td><td>List(12)</td><td>12</td><td>List(1, 6, 8, 11, 1, 2, 3, 4, 12, 5, 9, 7, 10, 8)</td><td>List(1, 1, 1, 1, 2, 3, 3, 3, 3, 4, 4, 5, 5, 6)</td><td>9</td><td>3</td><td>List(null, null, null, Japan, List(60003303), List(Department of Biochemistry, Graduate School of Medical and Dental Sciences, Tokyo Medical and Dental University (TMDU)), 3, null, null, jpn, null, 60003303, 103218195)</td><td>60003303</td></tr><tr><td>10.1002/1878-0261.12537</td><td>85070850771</td><td>2019</td><td>List(List(1, 57070283600, auth, false, null, null, Jee-Soo, Jee Soo, Lee J.-S., Lee J.S., J.-S., J.S., null, null, null, Lee, Lee), List(2, 8766621100, auth, false, null, null, Sung Sup, Sung Sup, Park S.S., Park S.S., S.S., S.S., null, null, null, Park, Park), List(3, 36982766200, auth, false, null, null, Young Kyung, Young Kyung, Lee Y.K., Lee Y.K., Y.K., Y.K., null, null, null, Lee, Lee), List(4, 36064372000, auth, false, null, null, Jeffrey A., Jeffrey A., Norton J.A., Norton J.A., J.A., J.A., null, null, null, Norton, Norton), List(5, 23569502400, auth, false, null, 28d64c214650d44069ad9309208f547a2e392280, Stefanie S., Stefanie S., Jeffrey S.S., Jeffrey S.S., S.S., S.S., null, 0000-0003-4478-2764, null, Jeffrey, Jeffrey))</td><td>List(List(1, 1, true), List(3, 1, true), List(1, 2, true), List(2, 2, true), List(3, 3, true), List(4, 4, true), List(5, 4, true))</td><td>List(List(5, 23569502400, null, false, null, null, Stefanie S., null, Jeffrey S.S., null, S.S., null, null, null, null, Jeffrey, null))</td><td>re</td><td>Full</td><td>15747891</td><td>List(null, null, nld, 01, 08, August 2019, 2019, null, null, null, null, null, List(18780261), null, List(15747891), John Wiley and Sons Ltd, Molecular Oncology, Mol. Oncol., 5800207508, j, http://onlinelibrary.wiley.com/journal/10.1002/(ISSN)1878-0261)</td><td>0</td><td>List(List(usa, null))</td><td>List(List(null, Anyang, null, South Korea, List(60018986), List(Department of Laboratory Medicine, Hallym University Sacred Heart Hospital), 2, null, null, kor, null, 60018986, 109916296), List(null, Seoul, null, South Korea, List(60000656), List(Department of Laboratory Medicine, Seoul National University College of Medicine), 2, null, null, kor, null, 60000656, 113887129), List(null, Anyang, null, South Korea, List(60006034), List(Department of Laboratory Medicine, Hallym University College of Medicine), 2, null, null, kor, null, 60006034, 108313527), List(null, Stanford, null, United States, List(60032838), List(Department of Surgery, Stanford University School of Medicine), 2, null, CA, usa, null, 60032838, 113464499))</td><td>List(1, 57070283600, auth, false, null, null, Jee-Soo, Jee Soo, Lee J.-S., Lee J.S., J.-S., J.S., null, null, null, Lee, Lee)</td><td>List(5, 23569502400, auth, false, null, 28d64c214650d44069ad9309208f547a2e392280, Stefanie S., Stefanie S., Jeffrey S.S., Jeffrey S.S., S.S., S.S., null, 0000-0003-4478-2764, null, Jeffrey, Jeffrey)</td><td>5</td><td>57070283600</td><td>23569502400</td><td>List(23569502400)</td><td>List(Stefanie S.)</td><td>Stefanie S.</td><td>List(5)</td><td>5</td><td>List(1, 3, 1, 2, 3, 4, 5)</td><td>List(1, 1, 2, 2, 3, 4, 4)</td><td>7</td><td>4</td><td>List(null, Stanford, null, United States, List(60032838), List(Department of Surgery, Stanford University School of Medicine), 2, null, CA, usa, null, 60032838, 113464499)</td><td>60032838</td></tr><tr><td>10.1002/1878-0261.12602</td><td>85078039658</td><td>2020</td><td>List(List(1, 57195692740, auth, false, null, null, Hiroko, Hiroko, Toda H., Toda H., H., H., null, null, null, Toda, Toda), List(2, 7102041200, auth, false, null, 7768fb966dc80313c2fcaf420a1c5ca49424c715, Naohiko, Naohiko, Seki N., Seki N., N., N., null, 0000-0003-4731-7956, null, Seki, Seki), List(3, 56818785200, auth, false, null, null, Sasagu, Sasagu, Kurozumi S., Kurozumi S., S., S., null, null, null, Kurozumi, Kurozumi), List(4, 55917767700, auth, false, null, null, Yoshiaki, Yoshiaki, Shinden Y., Shinden Y., Y., Y., null, null, null, Shinden, Shinden), List(5, 57193908119, auth, false, null, null, Yasutaka, Yasutaka, Yamada Y., Yamada Y., Y., Y., null, 0000-0002-0070-1590, null, Yamada, Yamada), List(6, 36560047200, auth, false, null, null, Nijiro, Nijiro, Nohata N., Nohata N., N., N., null, 0000-0002-6816-2984, null, Nohata, Nohata), List(7, 56572270700, auth, false, null, null, Shogo, Shogo, Moriya S., Moriya S., S., S., null, null, null, Moriya, Moriya), List(8, 57193111682, auth, false, null, null, Tetsuya, Tetsuya, Idichi T., Idichi T., T., T., null, null, null, Idichi, Idichi), List(9, 35458543400, auth, false, null, null, Kosei, Kosei, Maemura K., Maemura K., K., K., null, null, null, Maemura, Maemura), List(10, 35473252300, auth, false, null, null, Takaaki, Takaaki, Fujii T., Fujii T., T., T., null, null, null, Fujii, Fujii), List(11, 20834511500, auth, false, null, null, Jun, Jun, Horiguchi J., Horiguchi J., J., J., null, null, null, Horiguchi, Horiguchi), List(12, 7006142960, auth, false, null, null, Yuko, Yuko, Kijima Y., Kijima Y., Y., Y., null, null, null, Kijima, Kijima), List(13, 35417844500, auth, false, null, null, Shoji, Shoji, Natsugoe S., Natsugoe S., S., S., null, null, null, Natsugoe, Natsugoe))</td><td>List(List(1, 1, true), List(4, 1, true), List(8, 1, true), List(9, 1, true), List(12, 1, true), List(13, 1, true), List(2, 2, true), List(5, 2, true), List(3, 3, true), List(10, 3, true), List(6, 4, true), List(7, 5, true), List(11, 6, true), List(12, 7, true))</td><td>List(List(2, 7102041200, null, false, null, null, Naohiko, null, Seki N., null, N., null, null, null, null, Seki, null))</td><td>ar</td><td>Full</td><td>15747891</td><td>List(null, null, nld, 01, 02, 1 February 2020, 2020, contentdelivery@wiley.com, email, null, null, null, List(18780261), null, List(15747891), John Wiley and Sons Ltd., Molecular Oncology, Mol. Oncol., 5800207508, j, http://onlinelibrary.wiley.com/journal/10.1002/(ISSN)1878-0261)</td><td>0</td><td>List(List(jpn, null))</td><td>List(List(null, null, null, Japan, List(60028088, 60162058), List(Department of Digestive Surgery, Breast and Thyroid Surgery, Graduate School of Medical and Dental Sciences, Kagoshima University), 4, null, null, jpn, null, 60162058, 124525678), List(null, null, null, Japan, List(60172703), List(Department of Functional Genomics, Chiba University Graduate School of Medicine), 2, null, null, jpn, null, 60172703, 124939768), List(null, null, null, Japan, List(60162044), List(Department of General Surgical Science, Gunma University Graduate School of Medicine), 2, null, null, jpn, null, 60162044, 124525211), List(null, Tokyo, null, Japan, List(60105665), List(MSD K.K.), 1, null, null, jpn, null, 60105665, null), List(null, null, null, Japan, List(60172703), List(Department of Biochemistry and Genetics, Chiba University Graduate School of Medicine), 2, null, null, jpn, null, 60172703, 124939718), List(null, Chiba, null, Japan, List(60024740), List(Department of Breast Surgery, International University of Health and Welfare), 2, null, null, jpn, null, 60024740, 120260410), List(null, Aichi, null, Japan, List(60026940), List(Department of Breast Surgery, Fujita Health University), 2, null, null, jpn, null, 60026940, 113466651))</td><td>List(1, 57195692740, auth, false, null, null, Hiroko, Hiroko, Toda H., Toda H., H., H., null, null, null, Toda, Toda)</td><td>List(13, 35417844500, auth, false, null, null, Shoji, Shoji, Natsugoe S., Natsugoe S., S., S., null, null, null, Natsugoe, Natsugoe)</td><td>13</td><td>57195692740</td><td>35417844500</td><td>List(7102041200)</td><td>List(Naohiko)</td><td>Naohiko</td><td>List(2)</td><td>2</td><td>List(1, 4, 8, 9, 12, 13, 2, 5, 3, 10, 6, 7, 11, 12)</td><td>List(1, 1, 1, 1, 1, 1, 2, 2, 3, 3, 4, 5, 6, 7)</td><td>7</td><td>2</td><td>List(null, null, null, Japan, List(60172703), List(Department of Functional Genomics, Chiba University Graduate School of Medicine), 2, null, null, jpn, null, 60172703, 124939768)</td><td>60172703</td></tr><tr><td>10.1002/1878-0261.12930</td><td>85103162503</td><td>2021</td><td>List(List(1, 57202915381, auth, false, null, null, Chenying, Chenying, Fu C., Fu C., C., C., null, 0000-0002-4416-7633, null, Fu, Fu), List(2, 57203160286, auth, false, null, null, Qing, Qing, Zhang Q., Zhang Q., Q., Q., null, null, null, Zhang, Zhang), List(3, 57213623205, auth, false, null, null, Ani, Ani, Wang A., Wang A., A., A., null, null, null, Wang, Wang), List(4, 57208279819, auth, false, null, null, Songpeng, Songpeng, Yang S., Yang S., S., S., null, null, null, Yang, Yang), List(5, 24341526700, auth, false, null, null, Yangfu, Yangfu, Jiang Y., Jiang Y., Y., Y., null, null, null, Jiang, Jiang), List(6, 57192415362, auth, false, null, null, Lin, Lin, Bai L., Bai L., L., L., null, null, null, Bai, Bai), List(7, 57194026796, auth, false, null, ad6fb5898ceb1cc371fd738fa036c543c14887ba, Quan, Quan, Wei Q., Wei Q., Q., Q., null, null, null, Wei, Wei))</td><td>List(List(1, 1, true), List(4, 1, true), List(5, 1, true), List(7, 1, true), List(2, 2, true), List(7, 2, true), List(3, 3, true), List(6, 4, true))</td><td>List(List(7, 57194026796, null, false, null, null, Quan, null, Wei Q., null, Q., null, null, null, null, Wei, null))</td><td>re</td><td>Full</td><td>15747891</td><td>List(null, null, nld, 01, 05, May 2021, 2021, null, null, null, null, null, List(18780261), null, List(15747891), John Wiley and Sons Ltd, Molecular Oncology, Mol. Oncol., 5800207508, j, http://onlinelibrary.wiley.com/journal/10.1002/(ISSN)1878-0261)</td><td>0</td><td>List(List(chn, null))</td><td>List(List(null, Chengdu, Sichuan, null, China, List(60016521, 60073509), List(State Key Laboratory of Biotherapy and National Clinical Research Center for Geriatrics, West China Hospital, Sichuan University), 3, null, null, chn, null, 60073509, null), List(null, Chengdu, null, China, List(60016521, 60073509), List(Department of Rehabilitation Medicine Center, Key Laboratory of Rehabilitation Medicine in Sichuan Province, West China Hospital, Sichuan University), 4, null, null, chn, null, 60073509, 104826062), List(null, Zhuhai, null, China, List(60122355, 60021182), List(Cadiovascular Center, The Fifth Affiliated Hospital, Sun Yat-sen University), 3, null, null, chn, null, 60021182, 125943703), List(null, Chengdu, null, China, List(60016521, 60073509), List(Research Core Facility, West China Hospital, Sichuan University), 3, null, null, chn, null, 60073509, 119844065))</td><td>List(1, 57202915381, auth, false, null, null, Chenying, Chenying, Fu C., Fu C., C., C., null, 0000-0002-4416-7633, null, Fu, Fu)</td><td>List(7, 57194026796, auth, false, null, ad6fb5898ceb1cc371fd738fa036c543c14887ba, Quan, Quan, Wei Q., Wei Q., Q., Q., null, null, null, Wei, Wei)</td><td>7</td><td>57202915381</td><td>57194026796</td><td>List(57194026796)</td><td>List(Quan)</td><td>Quan</td><td>List(7)</td><td>7</td><td>List(1, 4, 5, 7, 2, 7, 3, 6)</td><td>List(1, 1, 1, 1, 2, 2, 3, 4)</td><td>4</td><td>1</td><td>List(null, Chengdu, Sichuan, null, China, List(60016521, 60073509), List(State Key Laboratory of Biotherapy and National Clinical Research Center for Geriatrics, West China Hospital, Sichuan University), 3, null, null, chn, null, 60073509, null)</td><td>60073509</td></tr></tbody></table></div>"
      ]
     },
     "metadata": {
      "application/vnd.databricks.v1+output": {
       "addedWidgets": {},
       "aggData": [],
       "aggError": "",
       "aggOverflow": false,
       "aggSchema": [],
       "aggSeriesLimitReached": false,
       "aggType": "",
       "arguments": {},
       "columnCustomDisplayInfos": {},
       "data": [
        [
         "10.1001/jama.2019.8859",
         85069306734,
         2019,
         [
          [
           1,
           55759215500,
           "auth",
           "false",
           "MD",
           null,
           "Fraukje A.",
           "Fraukje A.",
           "Ponds F.A.",
           "Ponds F.A.",
           "F.A.",
           "F.A.",
           null,
           null,
           null,
           "Ponds",
           "Ponds"
          ],
          [
           2,
           55066502300,
           "auth",
           "false",
           "MD,PhD",
           null,
           "Paul",
           "Paul",
           "Fockens P.",
           "Fockens P.",
           "P.",
           "P.",
           null,
           null,
           null,
           "Fockens",
           "Fockens"
          ],
          [
           3,
           12786657800,
           "auth",
           "false",
           "BSc",
           null,
           "Aaltje",
           "Aaltje",
           "Lei A.",
           "Lei A.",
           "A.",
           "A.",
           null,
           null,
           null,
           "Lei",
           "Lei"
          ],
          [
           4,
           7101811971,
           "auth",
           "false",
           "MD,PhD",
           null,
           "Horst",
           "Horst",
           "Neuhaus H.",
           "Neuhaus H.",
           "H.",
           "H.",
           null,
           null,
           null,
           "Neuhaus",
           "Neuhaus"
          ],
          [
           5,
           24175533300,
           "auth",
           "false",
           "MD",
           null,
           "Torsten",
           "Torsten",
           "Beyna T.",
           "Beyna T.",
           "T.",
           "T.",
           null,
           null,
           null,
           "Beyna",
           "Beyna"
          ],
          [
           6,
           56568042800,
           "auth",
           "false",
           "MD",
           null,
           "Jennis",
           "Jennis",
           "Kandler J.",
           "Kandler J.",
           "J.",
           "J.",
           null,
           null,
           null,
           "Kandler",
           "Kandler"
          ],
          [
           7,
           56253543400,
           "auth",
           "false",
           "MD,PhD",
           null,
           "Thomas",
           "Thomas",
           "Frieling T.",
           "Frieling T.",
           "T.",
           "T.",
           null,
           null,
           null,
           "Frieling",
           "Frieling"
          ],
          [
           8,
           7103182534,
           "auth",
           "false",
           "MD,PhD",
           null,
           "Philip W. Y.",
           "Philip W.Y.",
           "Chiu P.W.Y.",
           "Chiu P.W.Y.",
           "P.W.Y.",
           "P.W.Y.",
           null,
           null,
           null,
           "Chiu",
           "Chiu"
          ],
          [
           9,
           7409253910,
           "auth",
           "false",
           "MD,PhD",
           null,
           "Justin C. Y.",
           "Justin C.Y.",
           "Wu J.C.Y.",
           "Wu J.C.Y.",
           "J.C.Y.",
           "J.C.Y.",
           null,
           null,
           null,
           "Wu",
           "Wu"
          ],
          [
           10,
           26632569200,
           "auth",
           "false",
           "BSc",
           null,
           "Vivien W. Y.",
           "Vivien W.Y.",
           "Wong V.W.Y.",
           "Wong V.W.Y.",
           "V.W.Y.",
           "V.W.Y.",
           null,
           null,
           null,
           "Wong",
           "Wong"
          ],
          [
           11,
           7005323747,
           "auth",
           "false",
           "MD,PhD",
           null,
           "Guido",
           "Guido",
           "Costamagna G.",
           "Costamagna G.",
           "G.",
           "G.",
           null,
           null,
           null,
           "Costamagna",
           "Costamagna"
          ],
          [
           12,
           6506652660,
           "auth",
           "false",
           "MD",
           null,
           "Pietro",
           "Pietro",
           "Familiari P.",
           "Familiari P.",
           "P.",
           "P.",
           null,
           null,
           null,
           "Familiari",
           "Familiari"
          ],
          [
           13,
           7102556261,
           "auth",
           "false",
           "MD,PhD",
           null,
           "Peter J.",
           "Peter J.",
           "Kahrilas P.J.",
           "Kahrilas P.J.",
           "P.J.",
           "P.J.",
           null,
           null,
           null,
           "Kahrilas",
           "Kahrilas"
          ],
          [
           14,
           6603899097,
           "auth",
           "false",
           "MD,PhD",
           null,
           "John E.",
           "John E.",
           "Pandolfino J.E.",
           "Pandolfino J.E.",
           "J.E.",
           "J.E.",
           null,
           null,
           null,
           "Pandolfino",
           "Pandolfino"
          ],
          [
           15,
           7101876282,
           "auth",
           "false",
           "MD,PhD",
           null,
           "André J. P. M.",
           "André J.P.M.",
           "Smout A.J.P.M.",
           "Smout A.J.P.M.",
           "A.J.P.M.",
           "A.J.P.M.",
           null,
           null,
           null,
           "Smout",
           "Smout"
          ],
          [
           16,
           6602466064,
           "auth",
           "false",
           "MD,PhD",
           "3ab21a990ba4c39c61be7abae6c46c4120d77103",
           "Albert J.",
           "Albert J.",
           "Bredenoord A.J.",
           "Bredenoord A.J.",
           "A.J.",
           "A.J.",
           null,
           null,
           null,
           "Bredenoord",
           "Bredenoord"
          ]
         ],
         [
          [
           1,
           1,
           true
          ],
          [
           2,
           1,
           true
          ],
          [
           3,
           1,
           true
          ],
          [
           15,
           1,
           true
          ],
          [
           16,
           1,
           true
          ],
          [
           4,
           2,
           true
          ],
          [
           5,
           2,
           true
          ],
          [
           6,
           2,
           true
          ],
          [
           7,
           3,
           true
          ],
          [
           8,
           4,
           true
          ],
          [
           10,
           4,
           true
          ],
          [
           9,
           5,
           true
          ],
          [
           11,
           6,
           true
          ],
          [
           12,
           6,
           true
          ],
          [
           11,
           7,
           true
          ],
          [
           13,
           8,
           true
          ],
          [
           14,
           8,
           true
          ]
         ],
         [
          [
           16,
           6602466064,
           null,
           "false",
           "MD,PhD",
           null,
           "Albert J.",
           null,
           "Bredenoord A.J.",
           null,
           "A.J.",
           null,
           null,
           null,
           null,
           "Bredenoord",
           null
          ]
         ],
         "ar",
         "Full",
         "00987484",
         [
          null,
          null,
          "usa",
          "09",
          "07",
          "9 July 2019",
          "2019",
          "smcleod@itsa.ucsf.edu",
          "email",
          null,
          null,
          null,
          [
           "15383598"
          ],
          null,
          [
           "00987484"
          ],
          "American Medical Association",
          "JAMA - Journal of the American Medical Association",
          "JAMA",
          85291,
          "j",
          "http://jama.jamanetwork.com/journal.aspx"
         ],
         7,
         [
          [
           "nld",
           null
          ]
         ],
         [
          [
           null,
           "Amsterdam",
           null,
           "Netherlands",
           [
            60002483,
            60001157
           ],
           [
            "Department of Gastroenterology and Hepatology",
            "Amsterdam UMC",
            "University of Amsterdam"
           ],
           3,
           null,
           null,
           "nld",
           null,
           60002483,
           110835913
          ],
          [
           null,
           "Düsseldorf",
           null,
           "Germany",
           [
            60015895
           ],
           [
            "Department of Gastroenterology",
            "Evangelisches Krankenhaus Düsseldorf"
           ],
           2,
           null,
           null,
           "deu",
           null,
           60015895,
           103823363
          ],
          [
           null,
           "Düsseldorf",
           null,
           "Germany",
           [
            60016143
           ],
           [
            "Department of Gastroenterology",
            "Helios Klinikum Krefeld"
           ],
           2,
           null,
           null,
           "deu",
           null,
           60016143,
           118951395
          ],
          [
           null,
           "Hong Kong",
           null,
           "Hong Kong",
           [
            60002798
           ],
           [
            "Institute of Digestive Disease",
            "Department of Surgery",
            "Chinese University of Hong Kong"
           ],
           3,
           null,
           null,
           "hkg",
           null,
           60002798,
           103192684
          ],
          [
           null,
           "Hong Kong",
           null,
           "Hong Kong",
           [
            60002798
           ],
           [
            "Institute of Digestive Disease",
            "Department of Medicine and Therapeutics",
            "Chinese University of Hong Kong"
           ],
           3,
           null,
           null,
           "hkg",
           null,
           60002798,
           113324909
          ],
          [
           null,
           "Rome",
           null,
           "Italy",
           [
            60031984,
            60073799
           ],
           [
            "Digestive Endoscopy Unit",
            "Agostino Gemelli University Hospital",
            "Universita Cattolica Del Sacro Cuore"
           ],
           3,
           null,
           null,
           "ita",
           null,
           60073799,
           null
          ],
          [
           null,
           "Strasbourg",
           null,
           "France",
           [
            60103368
           ],
           [
            "IHU IAS Strasbourg University"
           ],
           1,
           null,
           null,
           "fra",
           null,
           60103368,
           null
          ],
          [
           null,
           "Chicago",
           null,
           "United States",
           [
            60013227,
            60007363
           ],
           [
            "Feinberg School of Medicine",
            "Northwestern University"
           ],
           2,
           null,
           "IL",
           "usa",
           null,
           60013227,
           null
          ]
         ],
         [
          1,
          55759215500,
          "auth",
          "false",
          "MD",
          null,
          "Fraukje A.",
          "Fraukje A.",
          "Ponds F.A.",
          "Ponds F.A.",
          "F.A.",
          "F.A.",
          null,
          null,
          null,
          "Ponds",
          "Ponds"
         ],
         [
          16,
          6602466064,
          "auth",
          "false",
          "MD,PhD",
          "3ab21a990ba4c39c61be7abae6c46c4120d77103",
          "Albert J.",
          "Albert J.",
          "Bredenoord A.J.",
          "Bredenoord A.J.",
          "A.J.",
          "A.J.",
          null,
          null,
          null,
          "Bredenoord",
          "Bredenoord"
         ],
         16,
         55759215500,
         6602466064,
         [
          6602466064
         ],
         [
          "Albert J."
         ],
         "Albert J.",
         [
          16
         ],
         16,
         [
          1,
          2,
          3,
          15,
          16,
          4,
          5,
          6,
          7,
          8,
          10,
          9,
          11,
          12,
          11,
          13,
          14
         ],
         [
          1,
          1,
          1,
          1,
          1,
          2,
          2,
          2,
          3,
          4,
          4,
          5,
          6,
          6,
          7,
          8,
          8
         ],
         5,
         1,
         [
          null,
          "Amsterdam",
          null,
          "Netherlands",
          [
           60002483,
           60001157
          ],
          [
           "Department of Gastroenterology and Hepatology",
           "Amsterdam UMC",
           "University of Amsterdam"
          ],
          3,
          null,
          null,
          "nld",
          null,
          60002483,
          110835913
         ],
         60002483
        ],
        [
         "10.1001/jama.2019.9021",
         85069747779,
         2019,
         [
          [
           1,
           22937577300,
           "auth",
           "false",
           "MD,MS",
           "8d263ad76e0970216cfecedc06107ac120cd1906",
           "Jeremy M.",
           "Jeremy M.",
           "Kahn J.M.",
           "Kahn J.M.",
           "J.M.",
           "J.M.",
           null,
           null,
           null,
           "Kahn",
           "Kahn"
          ],
          [
           2,
           57201461734,
           "auth",
           "false",
           "PhD",
           null,
           "Billie S.",
           "Billie S.",
           "Davis B.S.",
           "Davis B.S.",
           "B.S.",
           "B.S.",
           null,
           null,
           null,
           "Davis",
           "Davis"
          ],
          [
           3,
           55382971300,
           "auth",
           "false",
           "PhD",
           null,
           "Jonathan G.",
           "Jonathan G.",
           "Yabes J.G.",
           "Yabes J.G.",
           "J.G.",
           "J.G.",
           null,
           null,
           null,
           "Yabes",
           "Yabes"
          ],
          [
           4,
           8653901800,
           "auth",
           "false",
           "PhD",
           null,
           "Chung-Chou H.",
           "Chung Chou H.",
           "Chang C.-C.H.",
           "Chang C.C.H.",
           "C.-C.H.",
           "C.C.H.",
           null,
           null,
           null,
           "Chang",
           "Chang"
          ],
          [
           5,
           15041659400,
           "auth",
           "false",
           "MD",
           null,
           "David H.",
           "David H.",
           "Chong D.H.",
           "Chong D.H.",
           "D.H.",
           "D.H.",
           null,
           null,
           null,
           "Chong",
           "Chong"
          ],
          [
           6,
           55466666100,
           "auth",
           "false",
           "JD,MPH",
           null,
           "Tina Batra",
           "Tina Batra",
           "Hershey T.B.",
           "Hershey T.B.",
           "T.B.",
           "T.B.",
           null,
           null,
           null,
           "Hershey",
           "Hershey"
          ],
          [
           7,
           26026354100,
           "auth",
           "false",
           "PhD,MPH,RN",
           null,
           "Grant R.",
           "Grant R.",
           "Martsolf G.R.",
           "Martsolf G.R.",
           "G.R.",
           "G.R.",
           null,
           null,
           null,
           "Martsolf",
           "Martsolf"
          ],
          [
           8,
           7102124583,
           "auth",
           "false",
           "MD,MPH",
           null,
           "Derek C.",
           "Derek C.",
           "Angus D.C.",
           "Angus D.C.",
           "D.C.",
           "D.C.",
           null,
           null,
           null,
           "Angus",
           "Angus"
          ]
         ],
         [
          [
           1,
           1,
           true
          ],
          [
           2,
           1,
           true
          ],
          [
           8,
           1,
           true
          ],
          [
           1,
           2,
           true
          ],
          [
           6,
           2,
           true
          ],
          [
           8,
           2,
           true
          ],
          [
           3,
           3,
           true
          ],
          [
           4,
           3,
           true
          ],
          [
           3,
           4,
           true
          ],
          [
           4,
           4,
           true
          ],
          [
           5,
           5,
           true
          ],
          [
           7,
           6,
           true
          ],
          [
           7,
           7,
           true
          ]
         ],
         [
          [
           1,
           22937577300,
           null,
           "false",
           "MD,MS",
           null,
           "Jeremy M.",
           null,
           "Kahn J.M.",
           null,
           "J.M.",
           null,
           null,
           null,
           null,
           "Kahn",
           null
          ]
         ],
         "ar",
         "Full",
         "00987484",
         [
          null,
          null,
          "usa",
          "16",
          "07",
          "16 July 2019",
          "2019",
          "smcleod@itsa.ucsf.edu",
          "email",
          null,
          null,
          null,
          [
           "15383598"
          ],
          null,
          [
           "00987484"
          ],
          "American Medical Association",
          "JAMA - Journal of the American Medical Association",
          "JAMA",
          85291,
          "j",
          "http://jama.jamanetwork.com/journal.aspx"
         ],
         75,
         [
          [
           "usa",
           null
          ]
         ],
         [
          [
           null,
           "Pittsburgh",
           null,
           "United States",
           [
            60015543
           ],
           [
            "CRISMA Center",
            "Department of Critical Care Medicine",
            "School of Medicine",
            "University of Pittsburgh"
           ],
           4,
           null,
           "PA",
           "usa",
           null,
           60015543,
           113098439
          ],
          [
           null,
           "Pittsburgh",
           null,
           "United States",
           [
            60015543
           ],
           [
            "Department of Health Policy and Management",
            "Graduate School of Public Health",
            "University of Pittsburgh"
           ],
           3,
           null,
           "PA",
           "usa",
           null,
           60015543,
           113917035
          ],
          [
           null,
           "Pittsburgh",
           null,
           "United States",
           [
            60015543
           ],
           [
            "Division of General Internal Medicine",
            "Department of Medicine",
            "University of Pittsburgh"
           ],
           3,
           null,
           "PA",
           "usa",
           null,
           60015543,
           112594990
          ],
          [
           null,
           "Pittsburgh",
           null,
           "United States",
           [
            60015543
           ],
           [
            "Department of Biostatistics",
            "Graduate School of Public Health",
            "University of Pittsburgh"
           ],
           3,
           null,
           "PA",
           "usa",
           null,
           60015543,
           109600879
          ],
          [
           null,
           "New York",
           null,
           "United States",
           [
            60027565
           ],
           [
            "Division of Pulmonary",
            "Allergy and Critical Care Medicine",
            "Columbia University Medical Center"
           ],
           3,
           null,
           "NY",
           "usa",
           null,
           60027565,
           104400483
          ],
          [
           null,
           "Pittsburgh",
           null,
           "United States",
           [
            60015543
           ],
           [
            "Department of Acute and Tertiary Care",
            "School of Nursing",
            "University of Pittsburgh"
           ],
           3,
           null,
           "PA",
           "usa",
           null,
           60015543,
           103801681
          ],
          [
           null,
           "Pittsburgh",
           null,
           "United States",
           [
            60003873
           ],
           [
            "RAND Corporation"
           ],
           1,
           null,
           "PA",
           "usa",
           null,
           60003873,
           null
          ]
         ],
         [
          1,
          22937577300,
          "auth",
          "false",
          "MD,MS",
          "8d263ad76e0970216cfecedc06107ac120cd1906",
          "Jeremy M.",
          "Jeremy M.",
          "Kahn J.M.",
          "Kahn J.M.",
          "J.M.",
          "J.M.",
          null,
          null,
          null,
          "Kahn",
          "Kahn"
         ],
         [
          8,
          7102124583,
          "auth",
          "false",
          "MD,MPH",
          null,
          "Derek C.",
          "Derek C.",
          "Angus D.C.",
          "Angus D.C.",
          "D.C.",
          "D.C.",
          null,
          null,
          null,
          "Angus",
          "Angus"
         ],
         8,
         22937577300,
         7102124583,
         [
          22937577300
         ],
         [
          "Jeremy M."
         ],
         "Jeremy M.",
         [
          1
         ],
         1,
         [
          1,
          2,
          8,
          1,
          6,
          8,
          3,
          4,
          3,
          4,
          5,
          7,
          7
         ],
         [
          1,
          1,
          1,
          2,
          2,
          2,
          3,
          3,
          4,
          4,
          5,
          6,
          7
         ],
         1,
         1,
         [
          null,
          "Pittsburgh",
          null,
          "United States",
          [
           60015543
          ],
          [
           "CRISMA Center",
           "Department of Critical Care Medicine",
           "School of Medicine",
           "University of Pittsburgh"
          ],
          4,
          null,
          "PA",
          "usa",
          null,
          60015543,
          113098439
         ],
         60015543
        ],
        [
         "10.1001/jama.2021.1527",
         85105322152,
         2021,
         [
          [
           1,
           35795684700,
           "auth",
           "false",
           "MD,MHS",
           null,
           "Parag H.",
           "Parag H.",
           "Joshi P.H.",
           "Joshi P.H.",
           "P.H.",
           "P.H.",
           null,
           null,
           null,
           "Joshi",
           "Joshi"
          ],
          [
           2,
           7005314320,
           "auth",
           "false",
           "MD",
           "dc52a427dc44683808b6e3c33ad51385f8f236a1",
           "James A.",
           "James A.",
           "De Lemos J.A.",
           "De Lemos J.A.",
           "J.A.",
           "J.A.",
           null,
           null,
           null,
           "De Lemos",
           "De Lemos"
          ]
         ],
         [
          [
           1,
           1,
           true
          ],
          [
           2,
           1,
           true
          ]
         ],
         [
          [
           2,
           7005314320,
           null,
           "false",
           "MD",
           null,
           "James A.",
           null,
           "De Lemos J.A.",
           null,
           "J.A.",
           null,
           null,
           null,
           null,
           "De Lemos",
           null
          ]
         ],
         "ar",
         "None",
         "00987484",
         [
          null,
          null,
          "usa",
          "04",
          "05",
          "4 May 2021",
          "2021",
          null,
          null,
          null,
          null,
          null,
          [
           "15383598"
          ],
          null,
          [
           "00987484"
          ],
          "American Medical Association",
          "JAMA - Journal of the American Medical Association",
          "JAMA",
          85291,
          "j",
          "http://jama.jamanetwork.com/journal.aspx"
         ],
         0,
         [
          [
           "usa",
           null
          ]
         ],
         [
          [
           "5909 Harry Hines Blvd",
           "Dallas",
           null,
           "United States",
           [
            60009415,
            60014739,
            60026695
           ],
           [
            "Division of Cardiology",
            "Department of Internal Medicine",
            "University of Texas",
            "Southwestern Medical Center"
           ],
           4,
           "76390",
           "TX",
           "usa",
           null,
           60014739,
           103762082
          ]
         ],
         [
          1,
          35795684700,
          "auth",
          "false",
          "MD,MHS",
          null,
          "Parag H.",
          "Parag H.",
          "Joshi P.H.",
          "Joshi P.H.",
          "P.H.",
          "P.H.",
          null,
          null,
          null,
          "Joshi",
          "Joshi"
         ],
         [
          2,
          7005314320,
          "auth",
          "false",
          "MD",
          "dc52a427dc44683808b6e3c33ad51385f8f236a1",
          "James A.",
          "James A.",
          "De Lemos J.A.",
          "De Lemos J.A.",
          "J.A.",
          "J.A.",
          null,
          null,
          null,
          "De Lemos",
          "De Lemos"
         ],
         2,
         35795684700,
         7005314320,
         [
          7005314320
         ],
         [
          "James A."
         ],
         "James A.",
         [
          2
         ],
         2,
         [
          1,
          2
         ],
         [
          1,
          1
         ],
         2,
         1,
         [
          "5909 Harry Hines Blvd",
          "Dallas",
          null,
          "United States",
          [
           60009415,
           60014739,
           60026695
          ],
          [
           "Division of Cardiology",
           "Department of Internal Medicine",
           "University of Texas",
           "Southwestern Medical Center"
          ],
          4,
          "76390",
          "TX",
          "usa",
          null,
          60014739,
          103762082
         ],
         60014739
        ],
        [
         "10.1001/jamainternmed.2020.0104",
         85081653793,
         2020,
         [
          [
           1,
           55875257300,
           "auth",
           "false",
           "MBBS,PhD",
           null,
           "Pallavi P.",
           "Pallavi P.",
           "Balte P.P.",
           "Balte P.P.",
           "P.P.",
           "P.P.",
           null,
           null,
           null,
           "Balte",
           "Balte"
          ],
          [
           2,
           57217740015,
           "auth",
           "false",
           "MD,PhD",
           null,
           "Paulo H.M.",
           "Paulo H.M.",
           "Chaves P.H.M.",
           "Chaves P.H.M.",
           "P.H.M.",
           "P.H.M.",
           null,
           null,
           null,
           "Chaves",
           "Chaves"
          ],
          [
           3,
           7004067300,
           "auth",
           "false",
           "PhD",
           null,
           "David J.",
           "David J.",
           "Couper D.J.",
           "Couper D.J.",
           "D.J.",
           "D.J.",
           null,
           null,
           null,
           "Couper",
           "Couper"
          ],
          [
           4,
           7006387010,
           "auth",
           "false",
           "MD",
           null,
           "Paul",
           "Paul",
           "Enright P.",
           "Enright P.",
           "P.",
           "P.",
           null,
           null,
           null,
           "Enright",
           "Enright"
          ],
          [
           5,
           57200715827,
           "auth",
           "false",
           "PhD",
           null,
           "David R.",
           "David R.",
           "Jacobs D.R.",
           "Jacobs D.R.",
           "D.R.",
           "D.R.",
           null,
           null,
           "Jr.",
           "Jacobs",
           "Jacobs"
          ],
          [
           6,
           15922992700,
           "auth",
           "false",
           "MD,MS",
           null,
           "Ravi",
           "Ravi",
           "Kalhan R.",
           "Kalhan R.",
           "R.",
           "R.",
           null,
           null,
           null,
           "Kalhan",
           "Kalhan"
          ],
          [
           7,
           57204344879,
           "auth",
           "false",
           "PhD",
           null,
           "Richard A.",
           "Richard A.",
           "Kronmal R.A.",
           "Kronmal R.A.",
           "R.A.",
           "R.A.",
           null,
           null,
           null,
           "Kronmal",
           "Kronmal"
          ],
          [
           8,
           16177848600,
           "auth",
           "false",
           "MD,PhD",
           null,
           "Laura R.",
           "Laura R.",
           "Loehr L.R.",
           "Loehr L.R.",
           "L.R.",
           "L.R.",
           null,
           null,
           null,
           "Loehr",
           "Loehr"
          ],
          [
           9,
           57202568801,
           "auth",
           "false",
           "MD,DrPH",
           null,
           "Stephanie J.",
           "Stephanie J.",
           "London S.J.",
           "London S.J.",
           "S.J.",
           "S.J.",
           null,
           null,
           null,
           "London",
           "London"
          ],
          [
           10,
           56962723400,
           "auth",
           "false",
           "MD,MPH",
           null,
           "Anne B.",
           "Anne B.",
           "Newman A.B.",
           "Newman A.B.",
           "A.B.",
           "A.B.",
           null,
           null,
           null,
           "Newman",
           "Newman"
          ],
          [
           11,
           7201936463,
           "auth",
           "false",
           "MD",
           null,
           "George T.",
           "George T.",
           "O'Connor G.T.",
           "O'Connor G.T.",
           "G.T.",
           "G.T.",
           null,
           null,
           null,
           "O'Connor",
           "O'Connor"
          ],
          [
           12,
           35431669200,
           "auth",
           "false",
           "PhD",
           null,
           "Joseph E.",
           "Joseph E.",
           "Schwartz J.E.",
           "Schwartz J.E.",
           "J.E.",
           "J.E.",
           null,
           null,
           null,
           "Schwartz",
           "Schwartz"
          ],
          [
           13,
           55476100800,
           "auth",
           "false",
           "MD,MSc",
           null,
           "Benjamin M.",
           "Benjamin M.",
           "Smith B.M.",
           "Smith B.M.",
           "B.M.",
           "B.M.",
           null,
           null,
           null,
           "Smith",
           "Smith"
          ],
          [
           14,
           7410390824,
           "auth",
           "false",
           "MD",
           null,
           "Lewis J.",
           "Lewis J.",
           "Smith L.J.",
           "Smith L.J.",
           "L.J.",
           "L.J.",
           null,
           null,
           null,
           "Smith",
           "Smith"
          ],
          [
           15,
           53265525000,
           "auth",
           "false",
           "PhD",
           null,
           "Wendy B.",
           "Wendy B.",
           "White W.B.",
           "White W.B.",
           "W.B.",
           "W.B.",
           null,
           null,
           null,
           "White",
           "White"
          ],
          [
           16,
           6602903408,
           "auth",
           "false",
           "MD,MS",
           null,
           "Sachin",
           "Sachin",
           "Yende S.",
           "Yende S.",
           "S.",
           "S.",
           null,
           null,
           null,
           "Yende",
           "Yende"
          ],
          [
           17,
           6507490337,
           "auth",
           "false",
           "MD,MPH",
           "5392618cd9a49df9df7a055bd98208c61ec7fe12",
           "Elizabeth C.",
           "Elizabeth C.",
           "Oelsner E.C.",
           "Oelsner E.C.",
           "E.C.",
           "E.C.",
           null,
           null,
           null,
           "Oelsner",
           "Oelsner"
          ]
         ],
         [
          [
           1,
           1,
           true
          ],
          [
           12,
           1,
           true
          ],
          [
           17,
           1,
           true
          ],
          [
           2,
           2,
           true
          ],
          [
           3,
           3,
           true
          ],
          [
           4,
           4,
           true
          ],
          [
           5,
           5,
           true
          ],
          [
           6,
           6,
           true
          ],
          [
           14,
           6,
           true
          ],
          [
           7,
           7,
           true
          ],
          [
           8,
           8,
           true
          ],
          [
           9,
           9,
           true
          ],
          [
           10,
           10,
           true
          ],
          [
           16,
           10,
           true
          ],
          [
           11,
           11,
           true
          ],
          [
           13,
           12,
           true
          ],
          [
           15,
           13,
           true
          ]
         ],
         [
          [
           17,
           6507490337,
           null,
           "false",
           "MD,MPH",
           null,
           "Elizabeth C.",
           null,
           "Oelsner E.C.",
           null,
           "E.C.",
           null,
           null,
           null,
           null,
           "Oelsner",
           null
          ]
         ],
         "ar",
         "Full",
         "21686106",
         [
          null,
          null,
          "usa",
          "01",
          "05",
          "May 2020",
          "2020",
          "smcleod@itsa.ucsf.edu",
          "email",
          null,
          null,
          null,
          [
           "21686114"
          ],
          null,
          [
           "21686106"
          ],
          "American Medical Association",
          "JAMA Internal Medicine",
          "JAMA Intern. Med.",
          21100228546,
          "j",
          "http://archinte.jamanetwork.com/issues.aspx"
         ],
         1,
         [
          [
           "usa",
           null
          ]
         ],
         [
          [
           "630 W 168th St",
           "New York",
           null,
           "United States",
           [
            60018043,
            60027565
           ],
           [
            "Department of Medicine",
            "Columbia University Medical Center",
            "Presbyterian Hospital"
           ],
           3,
           "10032",
           "NY",
           "usa",
           null,
           60027565,
           112929798
          ],
          [
           null,
           "Miami",
           null,
           "United States",
           [
            60015206
           ],
           [
            "Benjamin Leon Jr Family Center for Geriatric Research and Education",
            "Florida International University"
           ],
           2,
           null,
           "FL",
           "usa",
           null,
           60015206,
           114809973
          ],
          [
           null,
           "Chapel Hill",
           null,
           "United States",
           [
            60025111
           ],
           [
            "Department of Biostatistics",
            "Gillings School of Global Public Health",
            "University of North Carolina at Chapel Hill"
           ],
           3,
           null,
           null,
           "usa",
           null,
           60025111,
           null
          ],
          [
           null,
           "Tucson",
           null,
           "United States",
           [
            60010065
           ],
           [
            "Department of Medicine",
            "University of Arizona"
           ],
           2,
           null,
           "AZ",
           "usa",
           null,
           60010065,
           112674061
          ],
          [
           null,
           "Minneapolis",
           null,
           "United States",
           [
            60029445,
            60013223
           ],
           [
            "Division of Epidemiology and Community Health",
            "School of Public Health",
            "University of Minnesota"
           ],
           3,
           null,
           null,
           "usa",
           null,
           60013223,
           103692581
          ],
          [
           null,
           "Chicago",
           null,
           "United States",
           [
            60007363
           ],
           [
            "Division of Pulmonary and Critical Care Medicine",
            "Northwestern University"
           ],
           2,
           null,
           "IL",
           "usa",
           null,
           60007363,
           112861734
          ],
          [
           null,
           "Seattle",
           null,
           "United States",
           [
            60015481
           ],
           [
            "Department of Biostatistics",
            "School of Public Health",
            "University of Washington"
           ],
           3,
           null,
           null,
           "usa",
           null,
           60015481,
           null
          ],
          [
           null,
           "Chapel Hill",
           null,
           "United States",
           [
            60025111
           ],
           [
            "Division of General Medicine and Clinical Epidemiology",
            "University of North Carolina at Chapel Hill"
           ],
           2,
           null,
           null,
           "usa",
           null,
           60025111,
           104269643
          ],
          [
           null,
           "Research Triangle Park",
           null,
           "United States",
           [
            60006577,
            60028652
           ],
           [
            "Epidemiology Branch",
            "Genetics",
            "Environment",
            "and Respiratory Disease Group",
            "National Institute of Environmental Health Sciences",
            "National Institutes of Health"
           ],
           6,
           null,
           "NC",
           "usa",
           null,
           60028652,
           104449655
          ],
          [
           null,
           "Pittsburgh",
           null,
           "United States",
           [
            60015543
           ],
           [
            "Department of Epidemiology",
            "Graduate School of Public Health",
            "University of Pittsburgh"
           ],
           3,
           null,
           "PA",
           "usa",
           null,
           60015543,
           112793733
          ],
          [
           null,
           "Boston",
           null,
           "United States",
           [
            60019674
           ],
           [
            "Department of Medicine",
            "Boston University"
           ],
           2,
           null,
           "MA",
           "usa",
           null,
           60019674,
           112950617
          ],
          [
           null,
           "Montreal",
           null,
           "Canada",
           [
            60111763
           ],
           [
            "Department of Medicine",
            "McGill University Health Centre Research Institute"
           ],
           2,
           null,
           "QC",
           "can",
           null,
           60111763,
           121026790
          ],
          [
           null,
           "Tougaloo",
           null,
           "United States",
           [
            60023804,
            60029734
           ],
           [
            "Jackson Heart Study Undergraduate Training and Education Center",
            "Tougaloo College"
           ],
           2,
           null,
           "MS",
           "usa",
           null,
           60029734,
           null
          ]
         ],
         [
          1,
          55875257300,
          "auth",
          "false",
          "MBBS,PhD",
          null,
          "Pallavi P.",
          "Pallavi P.",
          "Balte P.P.",
          "Balte P.P.",
          "P.P.",
          "P.P.",
          null,
          null,
          null,
          "Balte",
          "Balte"
         ],
         [
          17,
          6507490337,
          "auth",
          "false",
          "MD,MPH",
          "5392618cd9a49df9df7a055bd98208c61ec7fe12",
          "Elizabeth C.",
          "Elizabeth C.",
          "Oelsner E.C.",
          "Oelsner E.C.",
          "E.C.",
          "E.C.",
          null,
          null,
          null,
          "Oelsner",
          "Oelsner"
         ],
         17,
         55875257300,
         6507490337,
         [
          6507490337
         ],
         [
          "Elizabeth C."
         ],
         "Elizabeth C.",
         [
          17
         ],
         17,
         [
          1,
          12,
          17,
          2,
          3,
          4,
          5,
          6,
          14,
          7,
          8,
          9,
          10,
          16,
          11,
          13,
          15
         ],
         [
          1,
          1,
          1,
          2,
          3,
          4,
          5,
          6,
          6,
          7,
          8,
          9,
          10,
          10,
          11,
          12,
          13
         ],
         3,
         1,
         [
          "630 W 168th St",
          "New York",
          null,
          "United States",
          [
           60018043,
           60027565
          ],
          [
           "Department of Medicine",
           "Columbia University Medical Center",
           "Presbyterian Hospital"
          ],
          3,
          "10032",
          "NY",
          "usa",
          null,
          60027565,
          112929798
         ],
         60027565
        ],
        [
         "10.1001/jamanetworkopen.2018.1662",
         85057480390,
         2018,
         [
          [
           1,
           36884023400,
           "auth",
           "false",
           "PhD,MHS",
           "02440ad02041955e6fdda64b38c97a73e858bb91",
           "Sachiko",
           "Sachiko",
           "Ozawa S.",
           "Ozawa S.",
           "S.",
           "S.",
           null,
           null,
           null,
           "Ozawa",
           "Ozawa"
          ],
          [
           2,
           57204864566,
           "auth",
           "false",
           "MSc",
           null,
           "Daniel R.",
           "Daniel R.",
           "Evans D.R.",
           "Evans D.R.",
           "D.R.",
           "D.R.",
           null,
           null,
           null,
           "Evans",
           "Evans"
          ],
          [
           3,
           57188986716,
           "auth",
           "false",
           "MPH",
           null,
           "Sophia",
           "Sophia",
           "Bessias S.",
           "Bessias S.",
           "S.",
           "S.",
           null,
           null,
           null,
           "Bessias",
           "Bessias"
          ],
          [
           4,
           57208683665,
           "auth",
           "false",
           "MHS",
           null,
           "Deson G.",
           "Deson G.",
           "Haynie D.G.",
           "Haynie D.G.",
           "D.G.",
           "D.G.",
           null,
           null,
           null,
           "Haynie",
           "Haynie"
          ],
          [
           5,
           57200798027,
           "auth",
           "false",
           "MSc",
           null,
           "Tatenda T.",
           "Tatenda T.",
           "Yemeke T.T.",
           "Yemeke T.T.",
           "T.T.",
           "T.T.",
           null,
           null,
           null,
           "Yemeke",
           "Yemeke"
          ],
          [
           6,
           57205368817,
           "auth",
           "false",
           "MPH",
           null,
           "Sarah K.",
           "Sarah K.",
           "Laing S.K.",
           "Laing S.K.",
           "S.K.",
           "S.K.",
           null,
           null,
           null,
           "Laing",
           "Laing"
          ],
          [
           7,
           57196588408,
           "auth",
           "false",
           "PhD",
           null,
           "James E.",
           "James E.",
           "Herrington J.E.",
           "Herrington J.E.",
           "J.E.",
           "J.E.",
           null,
           null,
           null,
           "Herrington",
           "Herrington"
          ]
         ],
         [
          [
           1,
           1,
           true
          ],
          [
           1,
           2,
           true
          ],
          [
           2,
           2,
           true
          ],
          [
           5,
           2,
           true
          ],
          [
           6,
           2,
           true
          ],
          [
           3,
           3,
           true
          ],
          [
           4,
           4,
           true
          ],
          [
           7,
           5,
           true
          ]
         ],
         [
          [
           1,
           36884023400,
           null,
           "false",
           "PhD,MHS",
           null,
           "Sachiko",
           null,
           "Ozawa S.",
           null,
           "S.",
           null,
           null,
           null,
           null,
           "Ozawa",
           null
          ]
         ],
         "re",
         "Full",
         "25743805",
         [
          "e181662",
          null,
          "usa",
          "01",
          "08",
          "August 2018",
          "2018",
          null,
          null,
          null,
          null,
          null,
          [
           "25743805"
          ],
          null,
          null,
          "American Medical Association",
          "JAMA Network Open",
          "JAMA Netw. Open",
          21100900345,
          "j",
          "https://jamanetwork.com/journals/jamanetworkopen"
         ],
         23,
         [
          [
           "usa",
           null
          ]
         ],
         [
          [
           null,
           "Chapel Hill",
           null,
           "United States",
           [
            60025111
           ],
           [
            "Department of Maternal and Child Health",
            "Gillings School of Global Public Health",
            "University of North Carolina"
           ],
           3,
           null,
           null,
           "usa",
           null,
           60025111,
           113887386
          ],
          [
           "CB# 7574",
           "Chapel Hill",
           null,
           "United States",
           [
            60030945,
            60025111
           ],
           [
            "Division of Practice Advancement and Clinical Education",
            "Eshelman School of Pharmacy",
            "University of North Carolina",
            "Beard Hall 115H"
           ],
           4,
           "27599",
           "NC",
           "usa",
           null,
           60030945,
           128959648
          ],
          [
           null,
           "Chapel Hill",
           null,
           "United States",
           [
            60025111
           ],
           [
            "Enterprise Analytics and Data Sciences",
            "University of North Carolina Health Care"
           ],
           2,
           null,
           null,
           "usa",
           null,
           60025111,
           null
          ],
          [
           null,
           "Charlottesville",
           null,
           "United States",
           [
            60030846
           ],
           [
            "University of Virginia School of Medicine"
           ],
           1,
           null,
           null,
           "usa",
           null,
           60030846,
           null
          ],
          [
           null,
           "Chapel Hill",
           null,
           "United States",
           [
            60025111
           ],
           [
            "Department of Health Behavior",
            "Gillings School of Global Public Health",
            "University of North Carolina"
           ],
           3,
           null,
           null,
           "usa",
           null,
           60025111,
           104269751
          ]
         ],
         [
          1,
          36884023400,
          "auth",
          "false",
          "PhD,MHS",
          "02440ad02041955e6fdda64b38c97a73e858bb91",
          "Sachiko",
          "Sachiko",
          "Ozawa S.",
          "Ozawa S.",
          "S.",
          "S.",
          null,
          null,
          null,
          "Ozawa",
          "Ozawa"
         ],
         [
          7,
          57196588408,
          "auth",
          "false",
          "PhD",
          null,
          "James E.",
          "James E.",
          "Herrington J.E.",
          "Herrington J.E.",
          "J.E.",
          "J.E.",
          null,
          null,
          null,
          "Herrington",
          "Herrington"
         ],
         7,
         36884023400,
         57196588408,
         [
          36884023400
         ],
         [
          "Sachiko"
         ],
         "Sachiko",
         [
          1
         ],
         1,
         [
          1,
          1,
          2,
          5,
          6,
          3,
          4,
          7
         ],
         [
          1,
          2,
          2,
          2,
          2,
          3,
          4,
          5
         ],
         1,
         1,
         [
          null,
          "Chapel Hill",
          null,
          "United States",
          [
           60025111
          ],
          [
           "Department of Maternal and Child Health",
           "Gillings School of Global Public Health",
           "University of North Carolina"
          ],
          3,
          null,
          null,
          "usa",
          null,
          60025111,
          113887386
         ],
         60025111
        ],
        [
         "10.1001/jamanetworkopen.2021.1574",
         85102913971,
         2021,
         [
          [
           1,
           57211943962,
           "auth",
           "false",
           null,
           "79aa9f6381014ef95bb89f88263050e188967092",
           "Michihiko",
           "Michihiko",
           "Goto M.",
           "Goto M.",
           "M.",
           "M.",
           null,
           null,
           null,
           "Goto",
           "Goto"
          ],
          [
           2,
           7404040049,
           "auth",
           "false",
           "MD,MSPH",
           null,
           "Anthony D.",
           "Anthony D.",
           "Harris A.D.",
           "Harris A.D.",
           "A.D.",
           "A.D.",
           null,
           null,
           null,
           "Harris",
           "Harris"
          ],
          [
           3,
           6701842148,
           "auth",
           "false",
           "MD,MS",
           null,
           "Eli N.",
           "Eli N.",
           "Perencevich E.N.",
           "Perencevich E.N.",
           "E.N.",
           "E.N.",
           null,
           null,
           null,
           "Perencevich",
           "Perencevich"
          ]
         ],
         [
          [
           1,
           1,
           true
          ],
          [
           2,
           2,
           true
          ],
          [
           3,
           3,
           true
          ]
         ],
         [
          [
           1,
           57211943962,
           null,
           "false",
           null,
           null,
           "Michihiko",
           null,
           "Goto M.",
           null,
           "M.",
           null,
           null,
           null,
           null,
           "Goto",
           null
          ]
         ],
         "re",
         "Full",
         "25743805",
         [
          "1574",
          null,
          "usa",
          "15",
          "03",
          "15 March 2021",
          "2021",
          null,
          null,
          null,
          null,
          null,
          [
           "25743805"
          ],
          null,
          null,
          "American Medical Association",
          "JAMA Network Open",
          "JAMA Netw. Open",
          21100900345,
          "j",
          "https://jamanetwork.com/journals/jamanetworkopen"
         ],
         0,
         [
          [
           "usa",
           null
          ]
         ],
         [
          [
           "200 Hawkins Dr, SW34-GH",
           "Iowa City",
           null,
           "United States",
           [
            60009788,
            60024324
           ],
           [
            "Division of Infectious Diseases",
            "Department of Internal Medicine",
            "University of Iowa Carver",
            "College of Medicine"
           ],
           4,
           "52242",
           "IA",
           "usa",
           null,
           60009788,
           113853498
          ],
          [
           null,
           "Baltimore",
           null,
           "United States",
           [
            60014653,
            60012957
           ],
           [
            "Division of Genomic Epidemiology and Clinical Outcomes",
            "Department of Epidemiology and Public Health",
            "University of Maryland",
            "School of Medicine"
           ],
           4,
           null,
           "MD",
           "usa",
           null,
           60012957,
           113470037
          ],
          [
           null,
           "Iowa City",
           null,
           "United States",
           [
            60009788,
            60024324
           ],
           [
            "Division of General Internal Medicine",
            "Department of Internal Medicine",
            "University of Iowa Carver",
            "College of Medicine"
           ],
           4,
           null,
           "IA",
           "usa",
           null,
           60009788,
           113853498
          ]
         ],
         [
          1,
          57211943962,
          "auth",
          "false",
          null,
          "79aa9f6381014ef95bb89f88263050e188967092",
          "Michihiko",
          "Michihiko",
          "Goto M.",
          "Goto M.",
          "M.",
          "M.",
          null,
          null,
          null,
          "Goto",
          "Goto"
         ],
         [
          3,
          6701842148,
          "auth",
          "false",
          "MD,MS",
          null,
          "Eli N.",
          "Eli N.",
          "Perencevich E.N.",
          "Perencevich E.N.",
          "E.N.",
          "E.N.",
          null,
          null,
          null,
          "Perencevich",
          "Perencevich"
         ],
         3,
         57211943962,
         6701842148,
         [
          57211943962
         ],
         [
          "Michihiko"
         ],
         "Michihiko",
         [
          1
         ],
         1,
         [
          1,
          2,
          3
         ],
         [
          1,
          2,
          3
         ],
         1,
         1,
         [
          "200 Hawkins Dr, SW34-GH",
          "Iowa City",
          null,
          "United States",
          [
           60009788,
           60024324
          ],
          [
           "Division of Infectious Diseases",
           "Department of Internal Medicine",
           "University of Iowa Carver",
           "College of Medicine"
          ],
          4,
          "52242",
          "IA",
          "usa",
          null,
          60009788,
          113853498
         ],
         60009788
        ],
        [
         "10.1001/jamanetworkopen.2021.26612",
         85115927272,
         2021,
         [
          [
           1,
           57212900875,
           "auth",
           "false",
           "MD,MSc",
           "5c7889719b2cfca2bc9576533b0c670f783b440b",
           "Kori S.",
           "Kori S.",
           "Zachrison K.S.",
           "Zachrison K.S.",
           "K.S.",
           "K.S.",
           null,
           null,
           null,
           "Zachrison",
           "Zachrison"
          ],
          [
           2,
           57216920690,
           "auth",
           "false",
           "BS",
           null,
           "Jessica V.",
           "Jessica V.",
           "Richard J.V.",
           "Richard J.V.",
           "J.V.",
           "J.V.",
           null,
           null,
           null,
           "Richard",
           "Richard"
          ],
          [
           3,
           56726804100,
           "auth",
           "false",
           "PhD",
           null,
           "Andrew",
           "Andrew",
           "Wilcock A.",
           "Wilcock A.",
           "A.",
           "A.",
           null,
           null,
           null,
           "Wilcock",
           "Wilcock"
          ],
          [
           4,
           57277861800,
           "auth",
           "false",
           "PhD",
           null,
           "Jose R.",
           "Jose R.",
           "Zubizaretta J.R.",
           "Zubizaretta J.R.",
           "J.R.",
           "J.R.",
           null,
           null,
           null,
           "Zubizaretta",
           "Zubizaretta"
          ],
          [
           5,
           7004541381,
           "auth",
           "false",
           "MD",
           null,
           "Lee H.",
           "Lee H.",
           "Schwamm L.H.",
           "Schwamm L.H.",
           "L.H.",
           "L.H.",
           null,
           null,
           null,
           "Schwamm",
           "Schwamm"
          ],
          [
           6,
           15059657600,
           "auth",
           "false",
           "PhD",
           null,
           "Lori",
           "Lori",
           "Uscher-Pines L.",
           "Uscher-Pines L.",
           "L.",
           "L.",
           null,
           null,
           null,
           "Uscher-Pines",
           "Uscher-Pines"
          ],
          [
           7,
           23498035400,
           "auth",
           "false",
           "MD,MPH",
           null,
           "Ateev",
           "Ateev",
           "Mehrotra A.",
           "Mehrotra A.",
           "A.",
           "A.",
           null,
           null,
           null,
           "Mehrotra",
           "Mehrotra"
          ]
         ],
         [
          [
           1,
           1,
           true
          ],
          [
           2,
           2,
           true
          ],
          [
           4,
           2,
           true
          ],
          [
           7,
           2,
           true
          ],
          [
           3,
           3,
           true
          ],
          [
           5,
           4,
           true
          ],
          [
           6,
           5,
           true
          ],
          [
           7,
           6,
           true
          ]
         ],
         [
          [
           1,
           57212900875,
           null,
           "false",
           "MD,PhD",
           null,
           "Kori S.",
           null,
           "Zachrison K.S.",
           null,
           "K.S.",
           null,
           null,
           null,
           null,
           "Zachrison",
           null
          ]
         ],
         "ar",
         "Full",
         "25743805",
         [
          "26612",
          null,
          "usa",
          "23",
          "09",
          "23 September 2021",
          "2021",
          null,
          null,
          null,
          null,
          null,
          [
           "25743805"
          ],
          null,
          null,
          "American Medical Association",
          "JAMA Network Open",
          "JAMA Netw. Open",
          21100900345,
          "j",
          "https://jamanetwork.com/journals/jamanetworkopen"
         ],
         2,
         [
          [
           "usa",
           null
          ]
         ],
         [
          [
           "55 Fruit St",
           "Boston",
           null,
           "United States",
           [
            60029929
           ],
           [
            "Department of Emergency Medicine",
            "Massachusetts General Hospital"
           ],
           2,
           "02114",
           "MA",
           "usa",
           null,
           60029929,
           113005763
          ],
          [
           null,
           "Boston",
           null,
           "United States",
           [
            60002746
           ],
           [
            "Department of Health Care Policy",
            "Harvard Medical School"
           ],
           2,
           null,
           "MA",
           "usa",
           null,
           60002746,
           113087373
          ],
          [
           null,
           "Burlington",
           null,
           "United States",
           [
            60031576,
            60009500
           ],
           [
            "Department of Family Medicine",
            "University of Vermont",
            "College of Medicine"
           ],
           3,
           null,
           null,
           "usa",
           null,
           60031576,
           113555700
          ],
          [
           null,
           "Boston",
           null,
           "United States",
           [
            60029929
           ],
           [
            "Department of Neurology",
            "Massachusetts General Hospital"
           ],
           2,
           null,
           null,
           "usa",
           null,
           60029929,
           null
          ],
          [
           null,
           "Arlington",
           null,
           "United States",
           [
            60003873
           ],
           [
            "RAND Corporation"
           ],
           1,
           null,
           "VA",
           "usa",
           null,
           60003873,
           null
          ],
          [
           null,
           "Boston",
           null,
           "United States",
           [
            60030058
           ],
           [
            "Division of General Medicine",
            "Beth Israel Deaconess Medical Center"
           ],
           2,
           null,
           "MA",
           "usa",
           null,
           60030058,
           113983174
          ]
         ],
         [
          1,
          57212900875,
          "auth",
          "false",
          "MD,MSc",
          "5c7889719b2cfca2bc9576533b0c670f783b440b",
          "Kori S.",
          "Kori S.",
          "Zachrison K.S.",
          "Zachrison K.S.",
          "K.S.",
          "K.S.",
          null,
          null,
          null,
          "Zachrison",
          "Zachrison"
         ],
         [
          7,
          23498035400,
          "auth",
          "false",
          "MD,MPH",
          null,
          "Ateev",
          "Ateev",
          "Mehrotra A.",
          "Mehrotra A.",
          "A.",
          "A.",
          null,
          null,
          null,
          "Mehrotra",
          "Mehrotra"
         ],
         7,
         57212900875,
         23498035400,
         [
          57212900875
         ],
         [
          "Kori S."
         ],
         "Kori S.",
         [
          1
         ],
         1,
         [
          1,
          2,
          4,
          7,
          3,
          5,
          6,
          7
         ],
         [
          1,
          2,
          2,
          2,
          3,
          4,
          5,
          6
         ],
         1,
         1,
         [
          "55 Fruit St",
          "Boston",
          null,
          "United States",
          [
           60029929
          ],
          [
           "Department of Emergency Medicine",
           "Massachusetts General Hospital"
          ],
          2,
          "02114",
          "MA",
          "usa",
          null,
          60029929,
          113005763
         ],
         60029929
        ],
        [
         "10.1001/jamanetworkopen.2021.29228",
         85118441385,
         2021,
         [
          [
           1,
           56798340200,
           "auth",
           "false",
           "MD",
           "bf9f327575e152486b5cec23979934bed2f04ef5",
           "Michael A.",
           "Michael A.",
           "Mederos M.A.",
           "Mederos M.A.",
           "M.A.",
           "M.A.",
           null,
           null,
           null,
           "Mederos",
           "Mederos"
          ],
          [
           2,
           55885381800,
           "auth",
           "false",
           "BS",
           null,
           "Michael J.",
           "Michael J.",
           "De Virgilio M.J.",
           "De Virgilio M.J.",
           "M.J.",
           "M.J.",
           null,
           null,
           null,
           "De Virgilio",
           "De Virgilio"
          ],
          [
           3,
           56783818400,
           "auth",
           "false",
           "MD,MS",
           null,
           "Rivfka",
           "Rivfka",
           "Shenoy R.",
           "Shenoy R.",
           "R.",
           "R.",
           null,
           null,
           null,
           "Shenoy",
           "Shenoy"
          ],
          [
           4,
           57215865797,
           "auth",
           "false",
           "MD",
           null,
           "Linda",
           "Linda",
           "Ye L.",
           "Ye L.",
           "L.",
           "L.",
           null,
           null,
           null,
           "Ye",
           "Ye"
          ],
          [
           5,
           55832389000,
           "auth",
           "false",
           "MD",
           null,
           "Paul A.",
           "Paul A.",
           "Toste P.A.",
           "Toste P.A.",
           "P.A.",
           "P.A.",
           null,
           null,
           null,
           "Toste",
           "Toste"
          ],
          [
           6,
           57192870960,
           "auth",
           "false",
           "PhD",
           null,
           "Selene S.",
           "Selene S.",
           "Mak S.S.",
           "Mak S.S.",
           "S.S.",
           "S.S.",
           null,
           null,
           null,
           "Mak",
           "Mak"
          ],
          [
           7,
           56363903500,
           "auth",
           "false",
           "MS",
           null,
           "Marika S.",
           "Marika S.",
           "Booth M.S.",
           "Booth M.S.",
           "M.S.",
           "M.S.",
           null,
           null,
           null,
           "Booth",
           "Booth"
          ],
          [
           8,
           57214792434,
           "auth",
           "false",
           "MPH",
           null,
           "Meron M.",
           "Meron M.",
           "Begashaw M.M.",
           "Begashaw M.M.",
           "M.M.",
           "M.M.",
           null,
           null,
           null,
           "Begashaw",
           "Begashaw"
          ],
          [
           9,
           55574209765,
           "auth",
           "false",
           "MD,PhD",
           null,
           "Mark",
           "Mark",
           "Wilson M.",
           "Wilson M.",
           "M.",
           "M.",
           null,
           null,
           null,
           "Wilson",
           "Wilson"
          ],
          [
           10,
           6602654360,
           "auth",
           "false",
           "MD",
           null,
           "William",
           "William",
           "Gunnar W.",
           "Gunnar W.",
           "W.",
           "W.",
           null,
           null,
           null,
           "Gunnar",
           "Gunnar"
          ],
          [
           11,
           57208872571,
           "auth",
           "false",
           "MD,PhD",
           null,
           "Paul G.",
           "Paul G.",
           "Shekelle P.G.",
           "Shekelle P.G.",
           "P.G.",
           "P.G.",
           null,
           null,
           null,
           "Shekelle",
           "Shekelle"
          ],
          [
           12,
           35976423100,
           "auth",
           "false",
           "MD",
           null,
           "Melinda",
           "Melinda",
           "Maggard-Gibbons M.",
           "Maggard-Gibbons M.",
           "M.",
           "M.",
           null,
           null,
           null,
           "Maggard-Gibbons",
           "Maggard-Gibbons"
          ],
          [
           13,
           37561248400,
           "auth",
           "false",
           "MD",
           null,
           "Mark D.",
           "Mark D.",
           "Girgis M.D.",
           "Girgis M.D.",
           "M.D.",
           "M.D.",
           null,
           null,
           null,
           "Girgis",
           "Girgis"
          ]
         ],
         [
          [
           1,
           1,
           true
          ],
          [
           2,
           1,
           true
          ],
          [
           3,
           1,
           true
          ],
          [
           4,
           1,
           true
          ],
          [
           5,
           1,
           true
          ],
          [
           12,
           1,
           true
          ],
          [
           13,
           1,
           true
          ],
          [
           3,
           2,
           true
          ],
          [
           5,
           2,
           true
          ],
          [
           6,
           2,
           true
          ],
          [
           8,
           2,
           true
          ],
          [
           11,
           2,
           true
          ],
          [
           12,
           2,
           true
          ],
          [
           13,
           2,
           true
          ],
          [
           3,
           3,
           true
          ],
          [
           5,
           4,
           true
          ],
          [
           12,
           4,
           true
          ],
          [
           7,
           5,
           true
          ],
          [
           9,
           6,
           true
          ],
          [
           9,
           7,
           true
          ],
          [
           10,
           8,
           true
          ],
          [
           10,
           9,
           true
          ]
         ],
         [
          [
           1,
           56798340200,
           null,
           "false",
           "MD",
           null,
           "Michael A.",
           null,
           "Mederos M.A.",
           null,
           "M.A.",
           null,
           null,
           null,
           null,
           "Mederos",
           null
          ]
         ],
         "ar",
         "Full",
         "25743805",
         [
          "29228",
          null,
          "usa",
          null,
          null,
          "2021",
          "2021",
          null,
          null,
          null,
          null,
          null,
          [
           "25743805"
          ],
          null,
          null,
          "American Medical Association",
          "JAMA Network Open",
          "JAMA Netw. Open",
          21100900345,
          "j",
          "https://jamanetwork.com/journals/jamanetworkopen"
         ],
         0,
         [
          [
           "usa",
           null
          ]
         ],
         [
          [
           "10833 Le Conte Ave, 72-225 CHS",
           "Los Angeles",
           null,
           "United States",
           [
            60005247
           ],
           [
            "Department of Surgery",
            "David Geffen School of Medicine at UCLA"
           ],
           2,
           "90095-1749",
           "CA",
           "usa",
           null,
           60005247,
           113379660
          ],
          [
           null,
           "Los Angeles",
           null,
           "United States",
           [
            60105856
           ],
           [
            "Veterans Health Administration",
            "Greater Los Angeles Healthcare System"
           ],
           2,
           null,
           "CA",
           "usa",
           null,
           60105856,
           null
          ],
          [
           null,
           "Los Angeles",
           null,
           "United States",
           [
            60027550
           ],
           [
            "National Clinician Scholars Program",
            "University of California"
           ],
           2,
           null,
           null,
           "usa",
           null,
           60027550,
           null
          ],
          [
           null,
           "Sylmar",
           null,
           "United States",
           [
            60014575
           ],
           [
            "Olive View-UCLA Medical Center"
           ],
           1,
           null,
           "CA",
           "usa",
           null,
           60014575,
           null
          ],
          [
           null,
           "Santa Monica",
           null,
           "United States",
           [
            60003873
           ],
           [
            "RAND Corporation"
           ],
           1,
           null,
           "CA",
           "usa",
           null,
           60003873,
           null
          ],
          [
           null,
           "Washington",
           null,
           "United States",
           [
            60023695
           ],
           [
            "US Department of Veterans Affairs"
           ],
           1,
           null,
           "DC",
           "usa",
           null,
           60023695,
           null
          ],
          [
           null,
           "Pittsburgh",
           null,
           "United States",
           [
            60014232
           ],
           [
            "Department of Surgery",
            "VA Pittsburgh Healthcare System"
           ],
           2,
           null,
           "PA",
           "usa",
           null,
           60014232,
           110069498
          ],
          [
           null,
           "Ann Arbor",
           null,
           "United States",
           [
            114524827
           ],
           [
            "VHA National Center for Patient Safety"
           ],
           1,
           null,
           "MI",
           "usa",
           null,
           114524827,
           null
          ],
          [
           null,
           "Ann Arbor",
           null,
           "United States",
           [
            60025778
           ],
           [
            "University of Michigan"
           ],
           1,
           null,
           null,
           "usa",
           null,
           60025778,
           null
          ]
         ],
         [
          1,
          56798340200,
          "auth",
          "false",
          "MD",
          "bf9f327575e152486b5cec23979934bed2f04ef5",
          "Michael A.",
          "Michael A.",
          "Mederos M.A.",
          "Mederos M.A.",
          "M.A.",
          "M.A.",
          null,
          null,
          null,
          "Mederos",
          "Mederos"
         ],
         [
          13,
          37561248400,
          "auth",
          "false",
          "MD",
          null,
          "Mark D.",
          "Mark D.",
          "Girgis M.D.",
          "Girgis M.D.",
          "M.D.",
          "M.D.",
          null,
          null,
          null,
          "Girgis",
          "Girgis"
         ],
         13,
         56798340200,
         37561248400,
         [
          56798340200
         ],
         [
          "Michael A."
         ],
         "Michael A.",
         [
          1
         ],
         1,
         [
          1,
          2,
          3,
          4,
          5,
          12,
          13,
          3,
          5,
          6,
          8,
          11,
          12,
          13,
          3,
          5,
          12,
          7,
          9,
          9,
          10,
          10
         ],
         [
          1,
          1,
          1,
          1,
          1,
          1,
          1,
          2,
          2,
          2,
          2,
          2,
          2,
          2,
          3,
          4,
          4,
          5,
          6,
          7,
          8,
          9
         ],
         1,
         1,
         [
          "10833 Le Conte Ave, 72-225 CHS",
          "Los Angeles",
          null,
          "United States",
          [
           60005247
          ],
          [
           "Department of Surgery",
           "David Geffen School of Medicine at UCLA"
          ],
          2,
          "90095-1749",
          "CA",
          "usa",
          null,
          60005247,
          113379660
         ],
         60005247
        ],
        [
         "10.1001/jamanetworkopen.2021.46519",
         85124175241,
         2022,
         [
          [
           1,
           55419309200,
           "auth",
           "false",
           "PhD,MPH",
           "0ab97920196e062be90100ebbef64cc1ac855974",
           "Rachel",
           "Rachel",
           "Gold R.",
           "Gold R.",
           "R.",
           "R.",
           null,
           null,
           null,
           "Gold",
           "Gold"
          ],
          [
           2,
           57220713364,
           "auth",
           "false",
           "PhD",
           null,
           "Annie E.",
           "Annie E.",
           "Larson A.E.",
           "Larson A.E.",
           "A.E.",
           "A.E.",
           null,
           null,
           null,
           "Larson",
           "Larson"
          ],
          [
           3,
           6603157852,
           "auth",
           "false",
           "MD",
           null,
           "Joann M.",
           "Joann M.",
           "Sperl-Hillen J.M.",
           "Sperl-Hillen J.M.",
           "J.M.",
           "J.M.",
           null,
           null,
           null,
           "Sperl-Hillen",
           "Sperl-Hillen"
          ],
          [
           4,
           57442904700,
           "auth",
           "false",
           "MD",
           null,
           "David",
           "David",
           "Boston D.",
           "Boston D.",
           "D.",
           "D.",
           null,
           null,
           null,
           "Boston",
           "Boston"
          ],
          [
           5,
           55821024800,
           "auth",
           "false",
           "PhD",
           null,
           "Christina R.",
           "Christina R.",
           "Sheppler C.R.",
           "Sheppler C.R.",
           "C.R.",
           "C.R.",
           null,
           null,
           null,
           "Sheppler",
           "Sheppler"
          ],
          [
           6,
           15922637500,
           "auth",
           "false",
           "MD",
           null,
           "John",
           "John",
           "Heintzman J.",
           "Heintzman J.",
           "J.",
           "J.",
           null,
           null,
           null,
           "Heintzman",
           "Heintzman"
          ],
          [
           7,
           7004315541,
           "auth",
           "false",
           "PhD",
           null,
           "Carmit",
           "Carmit",
           "McMullen C.",
           "McMullen C.",
           "C.",
           "C.",
           null,
           null,
           null,
           "McMullen",
           "McMullen"
          ],
          [
           8,
           57195072395,
           "auth",
           "false",
           "BS",
           null,
           "Mary",
           "Mary",
           "Middendorf M.",
           "Middendorf M.",
           "M.",
           "M.",
           null,
           null,
           null,
           "Middendorf",
           "Middendorf"
          ],
          [
           9,
           56160508100,
           "auth",
           "false",
           "BS",
           null,
           "Deepika",
           "Deepika",
           "Appana D.",
           "Appana D.",
           "D.",
           "D.",
           null,
           null,
           null,
           "Appana",
           "Appana"
          ],
          [
           10,
           57496150300,
           "auth",
           "false",
           "BTech",
           null,
           "Vijayakumar",
           "Vijayakumar",
           "Thirumalai V.",
           "Thirumalai V.",
           "V.",
           "V.",
           null,
           null,
           null,
           "Thirumalai",
           "Thirumalai"
          ],
          [
           11,
           57442773900,
           "auth",
           "false",
           "MS",
           null,
           "Ann",
           "Ann",
           "Romer A.",
           "Romer A.",
           "A.",
           "A.",
           null,
           null,
           null,
           "Romer",
           "Romer"
          ],
          [
           12,
           57442880800,
           "auth",
           "false",
           "MSN",
           null,
           "Julianne",
           "Julianne",
           "Bava J.",
           "Bava J.",
           "J.",
           "J.",
           null,
           null,
           null,
           "Bava",
           "Bava"
          ],
          [
           13,
           57199369995,
           "auth",
           "false",
           "BA",
           null,
           "James V.",
           "James V.",
           "Davis J.V.",
           "Davis J.V.",
           "J.V.",
           "J.V.",
           null,
           null,
           null,
           "Davis",
           "Davis"
          ],
          [
           14,
           57205581616,
           "auth",
           "false",
           "MPH",
           null,
           "Nadia",
           "Nadia",
           "Yosuf N.",
           "Yosuf N.",
           "N.",
           "N.",
           null,
           null,
           null,
           "Yosuf",
           "Yosuf"
          ],
          [
           15,
           57218404351,
           "auth",
           "false",
           "MPH",
           null,
           "Jenny",
           "Jenny",
           "Hauschildt J.",
           "Hauschildt J.",
           "J.",
           "J.",
           null,
           null,
           null,
           "Hauschildt",
           "Hauschildt"
          ],
          [
           16,
           57442815800,
           "auth",
           "false",
           "MPH",
           null,
           "Kristin",
           "Kristin",
           "Scott K.",
           "Scott K.",
           "K.",
           "K.",
           null,
           null,
           null,
           "Scott",
           "Scott"
          ],
          [
           17,
           57213755451,
           "auth",
           "false",
           "BS",
           null,
           "Susan",
           "Susan",
           "Moore S.",
           "Moore S.",
           "S.",
           "S.",
           null,
           null,
           null,
           "Moore",
           "Moore"
          ],
          [
           18,
           7402622938,
           "auth",
           "false",
           "MD,MA,MPH",
           null,
           "Patrick J.",
           "Patrick J.",
           "O'Connor P.J.",
           "O'Connor P.J.",
           "P.J.",
           "P.J.",
           null,
           null,
           null,
           "O'Connor",
           "O'Connor"
          ]
         ],
         [
          [
           1,
           1,
           true
          ],
          [
           5,
           1,
           true
          ],
          [
           7,
           1,
           true
          ],
          [
           13,
           1,
           true
          ],
          [
           14,
           1,
           true
          ],
          [
           1,
           2,
           true
          ],
          [
           2,
           2,
           true
          ],
          [
           4,
           2,
           true
          ],
          [
           6,
           2,
           true
          ],
          [
           8,
           2,
           true
          ],
          [
           11,
           2,
           true
          ],
          [
           12,
           2,
           true
          ],
          [
           15,
           2,
           true
          ],
          [
           16,
           2,
           true
          ],
          [
           17,
           2,
           true
          ],
          [
           3,
           3,
           true
          ],
          [
           9,
           3,
           true
          ],
          [
           10,
           3,
           true
          ],
          [
           18,
           3,
           true
          ]
         ],
         [
          [
           1,
           55419309200,
           null,
           "false",
           "PhD,MPH",
           null,
           "Rachel",
           null,
           "Gold R.",
           null,
           "R.",
           null,
           null,
           null,
           null,
           "Gold",
           null
          ]
         ],
         "ar",
         "Full",
         "25743805",
         [
          "e2146519",
          null,
          "usa",
          "04",
          "02",
          "4 February 2022",
          "2022",
          null,
          null,
          null,
          null,
          null,
          [
           "25743805"
          ],
          null,
          null,
          "American Medical Association",
          "JAMA Network Open",
          "JAMA Netw. Open",
          21100900345,
          "j",
          "https://jamanetwork.com/journals/jamanetworkopen"
         ],
         32,
         [
          [
           null,
           null
          ]
         ],
         [
          [
           "3800 N Interstate Ave",
           "Portland",
           null,
           "United States",
           [
            60015521,
            60017457
           ],
           [
            "Center for Health Research",
            "Kaiser Permanente Northwest"
           ],
           2,
           "97227",
           "OR",
           "usa",
           null,
           60015521,
           null
          ],
          [
           null,
           "Portland",
           null,
           "United States",
           [
            111155429
           ],
           [
            "OCHIN Inc"
           ],
           1,
           null,
           "OR",
           "usa",
           null,
           111155429,
           null
          ],
          [
           null,
           "Minneapolis",
           null,
           "United States",
           [
            60013660
           ],
           [
            "HealthPartners Institute"
           ],
           1,
           null,
           "MN",
           "usa",
           null,
           60013660,
           null
          ]
         ],
         [
          1,
          55419309200,
          "auth",
          "false",
          "PhD,MPH",
          "0ab97920196e062be90100ebbef64cc1ac855974",
          "Rachel",
          "Rachel",
          "Gold R.",
          "Gold R.",
          "R.",
          "R.",
          null,
          null,
          null,
          "Gold",
          "Gold"
         ],
         [
          18,
          7402622938,
          "auth",
          "false",
          "MD,MA,MPH",
          null,
          "Patrick J.",
          "Patrick J.",
          "O'Connor P.J.",
          "O'Connor P.J.",
          "P.J.",
          "P.J.",
          null,
          null,
          null,
          "O'Connor",
          "O'Connor"
         ],
         18,
         55419309200,
         7402622938,
         [
          55419309200
         ],
         [
          "Rachel"
         ],
         "Rachel",
         [
          1
         ],
         1,
         [
          1,
          5,
          7,
          13,
          14,
          1,
          2,
          4,
          6,
          8,
          11,
          12,
          15,
          16,
          17,
          3,
          9,
          10,
          18
         ],
         [
          1,
          1,
          1,
          1,
          1,
          2,
          2,
          2,
          2,
          2,
          2,
          2,
          2,
          2,
          2,
          3,
          3,
          3,
          3
         ],
         1,
         1,
         [
          "3800 N Interstate Ave",
          "Portland",
          null,
          "United States",
          [
           60015521,
           60017457
          ],
          [
           "Center for Health Research",
           "Kaiser Permanente Northwest"
          ],
          2,
          "97227",
          "OR",
          "usa",
          null,
          60015521,
          null
         ],
         60015521
        ],
        [
         "10.1001/jamanetworkopen.2021.48139",
         85124499502,
         2022,
         [
          [
           1,
           54916758400,
           "auth",
           "false",
           "MD,PhD",
           "2b46ffec72adaa4d568d133ea68ffc513448693b",
           "Martin Bødtker",
           "Martin Bødtker",
           "Mortensen M.Bo.",
           "Mortensen M.B.",
           "M.Bø.",
           "M.B.",
           null,
           null,
           null,
           "Mortensen",
           "Mortensen"
          ],
          [
           2,
           55549963700,
           "auth",
           "false",
           "MD,MPH,PhD",
           null,
           "Miguel",
           "Miguel",
           "Cainzos-Achirica M.",
           "Caínzos-Achirica M.",
           "M.",
           "M.",
           null,
           null,
           null,
           "Caínzos-Achirica",
           "Caínzos-Achirica"
          ],
          [
           3,
           57191431506,
           "auth",
           "false",
           "MD,PhD",
           null,
           "Flemming Hald",
           "Flemming Hald",
           "Steffensen F.H.",
           "Steffensen F.H.",
           "F.H.",
           "F.H.",
           null,
           null,
           null,
           "Steffensen",
           "Steffensen"
          ],
          [
           4,
           56962746200,
           "auth",
           "false",
           "MD,DMSc",
           null,
           "Hans Erik",
           "Hans Erik",
           "Botker H.E.",
           "Bøtker H.E.",
           "H.E.",
           "H.E.",
           null,
           null,
           null,
           "Bøtker",
           "Bøtker"
          ],
          [
           5,
           37022247900,
           "auth",
           "false",
           "MD,PhD",
           null,
           "Jesper Møller",
           "Jesper Møller",
           "Jensen J.Mo.",
           "Jensen J.M.",
           "J.Mø.",
           "J.M.",
           null,
           null,
           null,
           "Jensen",
           "Jensen"
          ],
          [
           6,
           6603539112,
           "auth",
           "false",
           "MD,PhD",
           null,
           "Niels Peter Rønnow",
           "Niels Peter Rønnow",
           "Sand N.P.Ro.",
           "Sand N.P.R.",
           "N.P.Rø.",
           "N.P.R.",
           null,
           null,
           null,
           "Sand",
           "Sand"
          ],
          [
           7,
           20034699800,
           "auth",
           "false",
           "MD,PhD",
           null,
           "Michael",
           "Michael",
           "Maeng M.",
           "Maeng M.",
           "M.",
           "M.",
           null,
           null,
           null,
           "Maeng",
           "Maeng"
          ],
          [
           8,
           36874392000,
           "auth",
           "false",
           "MD,PhD",
           null,
           "Jens Meldgaard",
           "Jens Meldgaard",
           "Bruun J.M.",
           "Bruun J.M.",
           "J.M.",
           "J.M.",
           null,
           null,
           null,
           "Bruun",
           "Bruun"
          ],
          [
           9,
           14012509900,
           "auth",
           "false",
           "MD,MPH",
           null,
           "Michael J.",
           "Michael J.",
           "Blaha M.J.",
           "Blaha M.J.",
           "M.J.",
           "M.J.",
           null,
           null,
           null,
           "Blaha",
           "Blaha"
          ],
          [
           10,
           57213362295,
           "auth",
           "false",
           "MD,DMSc",
           null,
           "Henrik Toft",
           "Henrik Toft",
           "Sorensen H.T.",
           "Sørensen H.T.",
           "H.T.",
           "H.T.",
           null,
           null,
           null,
           "Sørensen",
           "Sørensen"
          ],
          [
           11,
           54907239600,
           "auth",
           "false",
           "MD,PhD",
           null,
           "Manan",
           "Manan",
           "Pareek M.",
           "Pareek M.",
           "M.",
           "M.",
           null,
           null,
           null,
           "Pareek",
           "Pareek"
          ],
          [
           12,
           6701774452,
           "auth",
           "false",
           "MD,MPH,MSc",
           null,
           "Khurram",
           "Khurram",
           "Nasir K.",
           "Nasir K.",
           "K.",
           "K.",
           null,
           null,
           null,
           "Nasir",
           "Nasir"
          ],
          [
           13,
           6701719620,
           "auth",
           "false",
           "MD,PhD",
           null,
           "Bjarne L.",
           "Bjarne L.",
           "Norgaard B.L.",
           "Nørgaard B.L.",
           "B.L.",
           "B.L.",
           null,
           null,
           null,
           "Nørgaard",
           "Nørgaard"
          ]
         ],
         [
          [
           1,
           1,
           true
          ],
          [
           4,
           1,
           true
          ],
          [
           5,
           1,
           true
          ],
          [
           7,
           1,
           true
          ],
          [
           13,
           1,
           true
          ],
          [
           1,
           2,
           true
          ],
          [
           2,
           2,
           true
          ],
          [
           9,
           2,
           true
          ],
          [
           12,
           2,
           true
          ],
          [
           2,
           3,
           true
          ],
          [
           12,
           3,
           true
          ],
          [
           2,
           4,
           true
          ],
          [
           12,
           4,
           true
          ],
          [
           2,
           5,
           true
          ],
          [
           9,
           5,
           true
          ],
          [
           3,
           6,
           true
          ],
          [
           6,
           7,
           true
          ],
          [
           8,
           8,
           true
          ],
          [
           10,
           9,
           true
          ],
          [
           11,
           10,
           true
          ]
         ],
         [
          [
           1,
           54916758400,
           null,
           "false",
           "MD,PhD",
           null,
           "Martin Bødtker",
           null,
           "Mortensen M.Bo.",
           null,
           "M.Bø.",
           null,
           null,
           null,
           null,
           "Mortensen",
           null
          ]
         ],
         "ar",
         "Full",
         "25743805",
         [
          "e2148139",
          null,
          "usa",
          "11",
          "02",
          "11 February 2022",
          "2022",
          null,
          null,
          null,
          null,
          null,
          [
           "25743805"
          ],
          null,
          null,
          "American Medical Association",
          "JAMA Network Open",
          "JAMA Netw. Open",
          21100900345,
          "j",
          "https://jamanetwork.com/journals/jamanetworkopen"
         ],
         1,
         [
          [
           "dnk",
           null
          ]
         ],
         [
          [
           "Palle Juul-Jensens Boulevard",
           "Aarhus N",
           null,
           "Denmark",
           [
            60023882
           ],
           [
            "Department of Cardiology",
            "Aarhus University Hospital"
           ],
           2,
           "8200",
           null,
           "dnk",
           null,
           60023882,
           113145318
          ],
          [
           null,
           "Baltimore",
           null,
           "United States",
           [
            60005248,
            60001117
           ],
           [
            "Johns Hopkins Ciccarone Center for the Prevention of Cardiovascular Disease",
            "Johns Hopkins University",
            "School of Medicine"
           ],
           3,
           null,
           "MD",
           "usa",
           null,
           60001117,
           null
          ],
          [
           null,
           "Houston",
           null,
           "United States",
           [
            60008981
           ],
           [
            "Division of Cardiovascular Prevention and Wellness",
            "Department of Cardiology",
            "Houston Methodist DeBakey Heart and Vascular Center"
           ],
           3,
           null,
           "TX",
           "usa",
           null,
           60008981,
           125749052
          ],
          [
           null,
           "Houston",
           null,
           "United States",
           [
            60008981
           ],
           [
            "Center for Outcomes Research",
            "Houston Methodist"
           ],
           2,
           null,
           "TX",
           "usa",
           null,
           60008981,
           null
          ],
          [
           null,
           "Baltimore",
           null,
           "United States",
           [
            60005248,
            60024002
           ],
           [
            "Welch Center for Prevention Epidemiology and Clinical Research",
            "The Johns Hopkins University"
           ],
           2,
           null,
           "MD",
           "usa",
           null,
           60024002,
           null
          ],
          [
           null,
           "Vejle",
           null,
           "Denmark",
           [
            60157965
           ],
           [
            "Department of Cardiology",
            "Lillebaelt Hospital-Vejle"
           ],
           2,
           null,
           null,
           "dnk",
           null,
           60157965,
           124295849
          ],
          [
           null,
           "Esbjerg",
           null,
           "Denmark",
           [
            60008480,
            60018417
           ],
           [
            "Department of Cardiology",
            "University Hospital of Southwest Jutland",
            "Institute of Regional Health Research",
            "University of Southern Denmark"
           ],
           4,
           null,
           null,
           "dnk",
           null,
           60018417,
           103945410
          ],
          [
           null,
           "Aarhus",
           null,
           "Denmark",
           [
            60023882,
            60016428
           ],
           [
            "Steno Diabetes Center Aarhus",
            "Aarhus University Hospital"
           ],
           2,
           null,
           null,
           "dnk",
           null,
           60023882,
           null
          ],
          [
           null,
           "Aarhus",
           null,
           "Denmark",
           [
            60023882
           ],
           [
            "Department of Clinical Epidemiology",
            "Aarhus University Hospital"
           ],
           2,
           null,
           null,
           "dnk",
           null,
           60023882,
           112440041
          ],
          [
           null,
           "New Haven",
           null,
           "United States",
           [
            60015232,
            60017994,
            60005455
           ],
           [
            "Department of Internal Medicine",
            "Yale New Haven Hospital",
            "Yale University",
            "School of Medicine"
           ],
           4,
           null,
           "CT",
           "usa",
           null,
           60017994,
           113824620
          ]
         ],
         [
          1,
          54916758400,
          "auth",
          "false",
          "MD,PhD",
          "2b46ffec72adaa4d568d133ea68ffc513448693b",
          "Martin Bødtker",
          "Martin Bødtker",
          "Mortensen M.Bo.",
          "Mortensen M.B.",
          "M.Bø.",
          "M.B.",
          null,
          null,
          null,
          "Mortensen",
          "Mortensen"
         ],
         [
          13,
          6701719620,
          "auth",
          "false",
          "MD,PhD",
          null,
          "Bjarne L.",
          "Bjarne L.",
          "Norgaard B.L.",
          "Nørgaard B.L.",
          "B.L.",
          "B.L.",
          null,
          null,
          null,
          "Nørgaard",
          "Nørgaard"
         ],
         13,
         54916758400,
         6701719620,
         [
          54916758400
         ],
         [
          "Martin Bødtker"
         ],
         "Martin Bødtker",
         [
          1
         ],
         1,
         [
          1,
          4,
          5,
          7,
          13,
          1,
          2,
          9,
          12,
          2,
          12,
          2,
          12,
          2,
          9,
          3,
          6,
          8,
          10,
          11
         ],
         [
          1,
          1,
          1,
          1,
          1,
          2,
          2,
          2,
          2,
          3,
          3,
          4,
          4,
          5,
          5,
          6,
          7,
          8,
          9,
          10
         ],
         1,
         1,
         [
          "Palle Juul-Jensens Boulevard",
          "Aarhus N",
          null,
          "Denmark",
          [
           60023882
          ],
          [
           "Department of Cardiology",
           "Aarhus University Hospital"
          ],
          2,
          "8200",
          null,
          "dnk",
          null,
          60023882,
          113145318
         ],
         60023882
        ],
        [
         "10.1001/jamanetworkopen.2022.16720",
         85132589529,
         2022,
         [
          [
           1,
           17346549700,
           "auth",
           "false",
           "PhD",
           "e98518d5daf7eb7bc072127e35f3aa6782ff5e4f",
           "Richard R.",
           "Richard R.",
           "Rosenkranz R.R.",
           "Rosenkranz R.R.",
           "R.R.",
           "R.R.",
           null,
           null,
           null,
           "Rosenkranz",
           "Rosenkranz"
          ],
          [
           2,
           56645018100,
           "auth",
           "false",
           "PhD",
           null,
           "Brooke J.",
           "Brooke J.",
           "Cull B.J.",
           "Cull B.J.",
           "B.J.",
           "B.J.",
           null,
           null,
           null,
           "Cull",
           "Cull"
          ],
          [
           3,
           23980827500,
           "auth",
           "false",
           "PhD",
           null,
           "Sara K.",
           "Sara K.",
           "Rosenkranz S.K.",
           "Rosenkranz S.K.",
           "S.K.",
           "S.K.",
           null,
           null,
           null,
           "Rosenkranz",
           "Rosenkranz"
          ],
          [
           4,
           34771046500,
           "auth",
           "false",
           "PhD",
           null,
           "David A.",
           "David A.",
           "Dzewaltowski D.A.",
           "Dzewaltowski D.A.",
           "D.A.",
           "D.A.",
           null,
           null,
           null,
           "Dzewaltowski",
           "Dzewaltowski"
          ]
         ],
         [
          [
           1,
           1,
           true
          ],
          [
           2,
           1,
           true
          ],
          [
           3,
           1,
           true
          ],
          [
           4,
           2,
           true
          ]
         ],
         [
          [
           1,
           17346549700,
           null,
           "false",
           "PhD",
           null,
           "Richard R.",
           null,
           "Rosenkranz R.R.",
           null,
           "R.R.",
           null,
           null,
           null,
           null,
           "Rosenkranz",
           null
          ]
         ],
         "ar",
         "Full",
         "25743805",
         [
          null,
          null,
          "usa",
          null,
          null,
          "2022",
          "2022",
          null,
          null,
          null,
          null,
          null,
          [
           "25743805"
          ],
          null,
          null,
          "American Medical Association",
          "JAMA Network Open",
          "JAMA Netw. Open",
          21100900345,
          "j",
          "https://jamanetwork.com/journals/jamanetworkopen"
         ],
         0,
         [
          [
           "usa",
           null
          ]
         ],
         [
          [
           null,
           "Manhattan",
           null,
           "United States",
           [
            60000689
           ],
           [
            "Department of Food",
            "Nutrition",
            "Dietetics and Health",
            "Kansas State University"
           ],
           4,
           null,
           null,
           "usa",
           null,
           60000689,
           108008123
          ],
          [
           null,
           "Omaha",
           null,
           "United States",
           [
            60016261
           ],
           [
            "Department of Health Promotion",
            "University of Nebraska Medical Center"
           ],
           2,
           null,
           null,
           "usa",
           null,
           60016261,
           105209423
          ]
         ],
         [
          1,
          17346549700,
          "auth",
          "false",
          "PhD",
          "e98518d5daf7eb7bc072127e35f3aa6782ff5e4f",
          "Richard R.",
          "Richard R.",
          "Rosenkranz R.R.",
          "Rosenkranz R.R.",
          "R.R.",
          "R.R.",
          null,
          null,
          null,
          "Rosenkranz",
          "Rosenkranz"
         ],
         [
          4,
          34771046500,
          "auth",
          "false",
          "PhD",
          null,
          "David A.",
          "David A.",
          "Dzewaltowski D.A.",
          "Dzewaltowski D.A.",
          "D.A.",
          "D.A.",
          null,
          null,
          null,
          "Dzewaltowski",
          "Dzewaltowski"
         ],
         4,
         17346549700,
         34771046500,
         [
          17346549700
         ],
         [
          "Richard R."
         ],
         "Richard R.",
         [
          1
         ],
         1,
         [
          1,
          2,
          3,
          4
         ],
         [
          1,
          1,
          1,
          2
         ],
         1,
         1,
         [
          null,
          "Manhattan",
          null,
          "United States",
          [
           60000689
          ],
          [
           "Department of Food",
           "Nutrition",
           "Dietetics and Health",
           "Kansas State University"
          ],
          4,
          null,
          null,
          "usa",
          null,
          60000689,
          108008123
         ],
         60000689
        ],
        [
         "10.1001/jamanetworkopen.2022.40290",
         85141890608,
         2022,
         [
          [
           1,
           57209100190,
           "auth",
           "false",
           "MD,MS",
           "d7b5d245159d924011e8febafc37b3bb2058ae6c",
           "Arianne K.",
           "Arianne K.",
           "Baldomero A.K.",
           "Baldomero A.K.",
           "A.K.",
           "A.K.",
           null,
           null,
           null,
           "Baldomero",
           "Baldomero"
          ],
          [
           2,
           16233346800,
           "auth",
           "false",
           "MD,MS",
           null,
           "Ken M.",
           "Ken M.",
           "Kunisaki K.M.",
           "Kunisaki K.M.",
           "K.M.",
           "K.M.",
           null,
           null,
           null,
           "Kunisaki",
           "Kunisaki"
          ],
          [
           3,
           35353492200,
           "auth",
           "false",
           "MD",
           null,
           "Chris H.",
           "Chris H.",
           "Wendt C.H.",
           "Wendt C.H.",
           "C.H.",
           "C.H.",
           null,
           null,
           null,
           "Wendt",
           "Wendt"
          ],
          [
           4,
           16202016000,
           "auth",
           "false",
           "BS",
           null,
           "Ann",
           "Ann",
           "Bangerter A.",
           "Bangerter A.",
           "A.",
           "A.",
           null,
           null,
           null,
           "Bangerter",
           "Bangerter"
          ],
          [
           5,
           6701822636,
           "auth",
           "false",
           "MD,MPH",
           null,
           "Susan J.",
           "Susan J.",
           "Diem S.J.",
           "Diem S.J.",
           "S.J.",
           "S.J.",
           null,
           null,
           null,
           "Diem",
           "Diem"
          ],
          [
           6,
           7005965705,
           "auth",
           "false",
           "MD,MPH",
           null,
           "Kristine E.",
           "Kristine E.",
           "Ensrud K.E.",
           "Ensrud K.E.",
           "K.E.",
           "K.E.",
           null,
           null,
           null,
           "Ensrud",
           "Ensrud"
          ],
          [
           7,
           35355829700,
           "auth",
           "false",
           "PhD",
           null,
           "David B.",
           "David B.",
           "Nelson D.B.",
           "Nelson D.B.",
           "D.B.",
           "D.B.",
           null,
           null,
           null,
           "Nelson",
           "Nelson"
          ],
          [
           8,
           55336332500,
           "auth",
           "false",
           "PhD,MPH,MSW",
           null,
           "Carrie",
           "Carrie",
           "Henning-Smith C.",
           "Henning-Smith C.",
           "C.",
           "C.",
           null,
           null,
           null,
           "Henning-Smith",
           "Henning-Smith"
          ],
          [
           9,
           7006472198,
           "auth",
           "false",
           "MD",
           null,
           "Bradley A.",
           "Bradley A.",
           "Bart B.A.",
           "Bart B.A.",
           "B.A.",
           "B.A.",
           null,
           null,
           null,
           "Bart",
           "Bart"
          ],
          [
           10,
           56901190300,
           "auth",
           "false",
           "PhD",
           null,
           "Patrick",
           "Patrick",
           "Hammett P.",
           "Hammett P.",
           "P.",
           "P.",
           null,
           null,
           null,
           "Hammett",
           "Hammett"
          ],
          [
           11,
           7101707586,
           "auth",
           "false",
           "PhD",
           null,
           "Hildi J.",
           "Hildi J.",
           "Hagedorn H.J.",
           "Hagedorn H.J.",
           "H.J.",
           "H.J.",
           null,
           null,
           null,
           "Hagedorn",
           "Hagedorn"
          ],
          [
           12,
           7102777421,
           "auth",
           "false",
           "MD,MBA",
           null,
           "R. Adams",
           "R. Adams",
           "Dudley R.A.",
           "Dudley R.A.",
           "R.A.",
           "R.A.",
           null,
           null,
           null,
           "Dudley",
           "Dudley"
          ]
         ],
         [
          [
           1,
           1,
           true
          ],
          [
           2,
           1,
           true
          ],
          [
           3,
           1,
           true
          ],
          [
           12,
           1,
           true
          ],
          [
           1,
           2,
           true
          ],
          [
           2,
           2,
           true
          ],
          [
           3,
           2,
           true
          ],
          [
           12,
           2,
           true
          ],
          [
           1,
           3,
           true
          ],
          [
           4,
           3,
           true
          ],
          [
           5,
           3,
           true
          ],
          [
           6,
           3,
           true
          ],
          [
           7,
           3,
           true
          ],
          [
           9,
           3,
           true
          ],
          [
           10,
           3,
           true
          ],
          [
           11,
           3,
           true
          ],
          [
           12,
           3,
           true
          ],
          [
           5,
           4,
           true
          ],
          [
           6,
           4,
           true
          ],
          [
           7,
           5,
           true
          ],
          [
           10,
           5,
           true
          ],
          [
           8,
           6,
           true
          ],
          [
           9,
           7,
           true
          ]
         ],
         [
          [
           1,
           57209100190,
           null,
           "false",
           "MD,MS",
           null,
           "Arianne K.",
           null,
           "Baldomero A.K.",
           null,
           "A.K.",
           null,
           null,
           null,
           null,
           "Baldomero",
           null
          ]
         ],
         "ar",
         "Full",
         "25743805",
         [
          null,
          null,
          "usa",
          "04",
          "11",
          "4 November 2022",
          "2022",
          null,
          null,
          null,
          null,
          null,
          [
           "25743805"
          ],
          null,
          null,
          "American Medical Association",
          "JAMA Network Open",
          "JAMA Netw. Open",
          21100900345,
          "j",
          "https://jamanetwork.com/journals/jamanetworkopen"
         ],
         0,
         [
          [
           "usa",
           null
          ]
         ],
         [
          [
           null,
           "Minneapolis",
           null,
           "United States",
           [
            60023621
           ],
           [
            "Pulmonary Allergy",
            "Critical Care",
            "and Sleep Medicine",
            "Minneapolis VA Health Care System"
           ],
           4,
           null,
           "MN",
           "usa",
           null,
           60023621,
           123882226
          ],
          [
           null,
           "Minneapolis",
           null,
           "United States",
           [
            60029445
           ],
           [
            "Pulmonary Allergy",
            "Critical Care",
            "and Sleep Medicine",
            "University of Minnesota"
           ],
           4,
           null,
           null,
           "usa",
           null,
           60029445,
           123928217
          ],
          [
           null,
           "Minneapolis",
           null,
           "United States",
           [
            60023621
           ],
           [
            "Center for Care Delivery and Outcomes Research",
            "Minneapolis VA Health Care System"
           ],
           2,
           null,
           "MN",
           "usa",
           null,
           60023621,
           121997507
          ],
          [
           null,
           "Minneapolis",
           null,
           "United States",
           [
            60023621
           ],
           [
            "General Internal Medicine",
            "Minneapolis VA Health Care System"
           ],
           2,
           null,
           "MN",
           "usa",
           null,
           60023621,
           108021698
          ],
          [
           null,
           "Minneapolis",
           null,
           "United States",
           [
            60029445
           ],
           [
            "Division of Biostatistics",
            "University of Minnesota"
           ],
           2,
           null,
           null,
           "usa",
           null,
           60029445,
           113645465
          ],
          [
           null,
           "Minneapolis",
           null,
           "United States",
           [
            60029445
           ],
           [
            "Division of Health Policy and Management",
            "University of Minnesota"
           ],
           2,
           null,
           null,
           "usa",
           null,
           60029445,
           106743337
          ],
          [
           null,
           "Minneapolis",
           null,
           "United States",
           [
            60023621
           ],
           [
            "Cardiology",
            "Minneapolis VA Health Care System"
           ],
           2,
           null,
           "MN",
           "usa",
           null,
           60023621,
           108392754
          ]
         ],
         [
          1,
          57209100190,
          "auth",
          "false",
          "MD,MS",
          "d7b5d245159d924011e8febafc37b3bb2058ae6c",
          "Arianne K.",
          "Arianne K.",
          "Baldomero A.K.",
          "Baldomero A.K.",
          "A.K.",
          "A.K.",
          null,
          null,
          null,
          "Baldomero",
          "Baldomero"
         ],
         [
          12,
          7102777421,
          "auth",
          "false",
          "MD,MBA",
          null,
          "R. Adams",
          "R. Adams",
          "Dudley R.A.",
          "Dudley R.A.",
          "R.A.",
          "R.A.",
          null,
          null,
          null,
          "Dudley",
          "Dudley"
         ],
         12,
         57209100190,
         7102777421,
         [
          57209100190
         ],
         [
          "Arianne K."
         ],
         "Arianne K.",
         [
          1
         ],
         1,
         [
          1,
          2,
          3,
          12,
          1,
          2,
          3,
          12,
          1,
          4,
          5,
          6,
          7,
          9,
          10,
          11,
          12,
          5,
          6,
          7,
          10,
          8,
          9
         ],
         [
          1,
          1,
          1,
          1,
          2,
          2,
          2,
          2,
          3,
          3,
          3,
          3,
          3,
          3,
          3,
          3,
          3,
          4,
          4,
          5,
          5,
          6,
          7
         ],
         1,
         1,
         [
          null,
          "Minneapolis",
          null,
          "United States",
          [
           60023621
          ],
          [
           "Pulmonary Allergy",
           "Critical Care",
           "and Sleep Medicine",
           "Minneapolis VA Health Care System"
          ],
          4,
          null,
          "MN",
          "usa",
          null,
          60023621,
          123882226
         ],
         60023621
        ],
        [
         "10.1001/jamaoncol.2021.1160",
         85113141445,
         2021,
         [
          [
           1,
           57218184061,
           "auth",
           "false",
           "MD,MPH",
           "3682ea0879d8c853502a3dfff95d35899b22e866",
           "Jeanne S.",
           "Jeanne S.",
           "Mandelblatt J.S.",
           "Mandelblatt J.S.",
           "J.S.",
           "J.S.",
           null,
           null,
           null,
           "Mandelblatt",
           "Mandelblatt"
          ],
          [
           2,
           7004412680,
           "auth",
           "false",
           "PhD",
           null,
           "Tim A.",
           "Tim A.",
           "Ahles T.A.",
           "Ahles T.A.",
           "T.A.",
           "T.A.",
           null,
           null,
           null,
           "Ahles",
           "Ahles"
          ],
          [
           3,
           35429349500,
           "auth",
           "false",
           "MD",
           null,
           "Marc E.",
           "Marc E.",
           "Lippman M.E.",
           "Lippman M.E.",
           "M.E.",
           "M.E.",
           null,
           null,
           null,
           "Lippman",
           "Lippman"
          ],
          [
           4,
           57216997157,
           "auth",
           "false",
           "MD",
           null,
           "Claudine",
           "Claudine",
           "Isaacs C.",
           "Isaacs C.",
           "C.",
           "C.",
           null,
           null,
           null,
           "Isaacs",
           "Isaacs"
          ],
          [
           5,
           7004961369,
           "auth",
           "false",
           "PhD",
           null,
           "Lucile",
           "Lucile",
           "Adams-Campbell L.",
           "Adams-Campbell L.",
           "L.",
           "L.",
           null,
           null,
           null,
           "Adams-Campbell",
           "Adams-Campbell"
          ],
          [
           6,
           57218790347,
           "auth",
           "false",
           "PsyD",
           null,
           "Andrew J.",
           "Andrew J.",
           "Saykin A.J.",
           "Saykin A.J.",
           "A.J.",
           "A.J.",
           null,
           null,
           null,
           "Saykin",
           "Saykin"
          ],
          [
           7,
           57202975091,
           "auth",
           "false",
           "MD",
           null,
           "Harvey J.",
           "Harvey J.",
           "Cohen H.J.",
           "Cohen H.J.",
           "H.J.",
           "H.J.",
           null,
           null,
           null,
           "Cohen",
           "Cohen"
          ],
          [
           8,
           24439367100,
           "auth",
           "false",
           "PhD",
           null,
           "Judith",
           "Judith",
           "Carroll J.",
           "Carroll J.",
           "J.",
           "J.",
           null,
           null,
           null,
           "Carroll",
           "Carroll"
          ]
         ],
         [
          [
           1,
           1,
           true
          ],
          [
           5,
           1,
           true
          ],
          [
           1,
           2,
           true
          ],
          [
           3,
           2,
           true
          ],
          [
           4,
           2,
           true
          ],
          [
           2,
           3,
           true
          ],
          [
           3,
           4,
           true
          ],
          [
           4,
           4,
           true
          ],
          [
           6,
           5,
           true
          ],
          [
           7,
           6,
           true
          ],
          [
           8,
           7,
           true
          ]
         ],
         [
          [
           1,
           57218184061,
           null,
           "false",
           "MD,MPH",
           null,
           "Jeanne S.",
           null,
           "Mandelblatt J.S.",
           null,
           "J.S.",
           null,
           null,
           null,
           null,
           "Mandelblatt",
           null
          ]
         ],
         "re",
         "Repository",
         "23742437",
         [
          null,
          null,
          "usa",
          "01",
          "11",
          "November 2021",
          "2021",
          null,
          null,
          null,
          null,
          null,
          [
           "23742445"
          ],
          null,
          [
           "23742437"
          ],
          "American Medical Association",
          "JAMA Oncology",
          "JAMA Oncol.",
          21100420583,
          "j",
          "http://oncology.jamanetwork.com/journal.aspx"
         ],
         0,
         [
          [
           "usa",
           null
          ]
         ],
         [
          [
           null,
           "Washington",
           null,
           "United States",
           [
            60020908,
            60023927
           ],
           [
            "Department of Oncology",
            "Cancer Prevention and Control Program",
            "Georgetown-Lombardi Comprehensive Cancer Center",
            "Georgetown University"
           ],
           4,
           null,
           "DC",
           "usa",
           null,
           60020908,
           110317373
          ],
          [
           null,
           "Washington",
           null,
           "United States",
           [
            60021191
           ],
           [
            "Department of Medicine",
            "Georgetown University Medical Center"
           ],
           2,
           null,
           "DC",
           "usa",
           null,
           60021191,
           113848059
          ],
          [
           null,
           "New York",
           null,
           "United States",
           [
            60009343
           ],
           [
            "Department of Psychiatry and Behavioral Sciences",
            "Memorial Sloan-Kettering Cancer Center"
           ],
           2,
           null,
           "NY",
           "usa",
           null,
           60009343,
           112980841
          ],
          [
           null,
           "Washington",
           null,
           "United States",
           [
            60020908,
            60021191
           ],
           [
            "Department of Oncology",
            "Breast Cancer Program",
            "Georgetown-Lombardi Comprehensive Cancer Center",
            "Georgetown University Medical Center"
           ],
           4,
           null,
           "DC",
           "usa",
           null,
           60020908,
           110317373
          ],
          [
           null,
           "Indianapolis",
           null,
           "United States",
           [
            60024609,
            60021947,
            60018927
           ],
           [
            "Radiology and Imaging Sciences",
            "Center for Neuroimaging",
            "Department of Radiology and Imaging Sciences",
            "Indiana Alzheimer's Disease Research Center",
            "Melvin and Bren Simon Cancer Center",
            "Indiana University",
            "School of Medicine"
           ],
           7,
           null,
           null,
           "usa",
           null,
           60024609,
           115543962
          ],
          [
           null,
           "Durham",
           null,
           "United States",
           [
            60005200,
            60008724
           ],
           [
            "Center for the Study of Aging and Human Development",
            "Duke University",
            "School of Medicine"
           ],
           3,
           null,
           "NC",
           "usa",
           null,
           60005200,
           null
          ],
          [
           null,
           "Los Angeles",
           null,
           "United States",
           [
            60005247,
            60027550,
            60006511
           ],
           [
            "UCLA",
            "Department of Psychiatry and Biobehavioral Sciences",
            "David Geffen School of Medicine",
            "Jane and Terry Semel Institute for Neuroscience and Human Behavior",
            "Jonsson Comprehensive Cancer Center",
            "Cousins Center for Psychoneuroimmunology"
           ],
           6,
           null,
           "CA",
           "usa",
           null,
           60006511,
           null
          ]
         ],
         [
          1,
          57218184061,
          "auth",
          "false",
          "MD,MPH",
          "3682ea0879d8c853502a3dfff95d35899b22e866",
          "Jeanne S.",
          "Jeanne S.",
          "Mandelblatt J.S.",
          "Mandelblatt J.S.",
          "J.S.",
          "J.S.",
          null,
          null,
          null,
          "Mandelblatt",
          "Mandelblatt"
         ],
         [
          8,
          24439367100,
          "auth",
          "false",
          "PhD",
          null,
          "Judith",
          "Judith",
          "Carroll J.",
          "Carroll J.",
          "J.",
          "J.",
          null,
          null,
          null,
          "Carroll",
          "Carroll"
         ],
         8,
         57218184061,
         24439367100,
         [
          57218184061
         ],
         [
          "Jeanne S."
         ],
         "Jeanne S.",
         [
          1
         ],
         1,
         [
          1,
          5,
          1,
          3,
          4,
          2,
          3,
          4,
          6,
          7,
          8
         ],
         [
          1,
          1,
          2,
          2,
          2,
          3,
          4,
          4,
          5,
          6,
          7
         ],
         1,
         1,
         [
          null,
          "Washington",
          null,
          "United States",
          [
           60020908,
           60023927
          ],
          [
           "Department of Oncology",
           "Cancer Prevention and Control Program",
           "Georgetown-Lombardi Comprehensive Cancer Center",
           "Georgetown University"
          ],
          4,
          null,
          "DC",
          "usa",
          null,
          60020908,
          110317373
         ],
         60020908
        ],
        [
         "10.1002/1348-9585.12200",
         85101450842,
         2021,
         [
          [
           1,
           7402725145,
           "auth",
           "false",
           null,
           "f43d4270648fa30212cc9b8d7e90d3eb2a45af1e",
           "SukhDev",
           "Sukh Dev",
           "Mishra S.",
           "Mishra S.D.",
           "S.",
           "S.D.",
           null,
           "0000-0002-0842-1657",
           null,
           "Mishra",
           "Mishra"
          ],
          [
           2,
           8352051300,
           "auth",
           "false",
           null,
           null,
           "Kamalesh",
           "Kamalesh",
           "Sarkar K.",
           "Sarkar K.",
           "K.",
           "K.",
           null,
           null,
           null,
           "Sarkar",
           "Sarkar"
          ]
         ],
         [
          [
           1,
           1,
           true
          ],
          [
           2,
           1,
           true
          ]
         ],
         [
          [
           1,
           7402725145,
           null,
           "false",
           null,
           null,
           "SukhDev",
           null,
           "Mishra S.",
           null,
           "S.",
           null,
           null,
           null,
           null,
           "Mishra",
           null
          ]
         ],
         "ar",
         "Full",
         "13419145",
         [
          "e12200",
          null,
          "jpn",
          "01",
          "01",
          "January/December 2021",
          "2021",
          null,
          null,
          null,
          null,
          null,
          [
           "13489585"
          ],
          null,
          [
           "13419145"
          ],
          "John Wiley and Sons Inc",
          "Journal of Occupational Health",
          "J. Occup. Health",
          29280,
          "j",
          "https://onlinelibrary.wiley.com/loi/13489585"
         ],
         0,
         [
          [
           "ind",
           null
          ]
         ],
         [
          [
           null,
           "Ahmedabad",
           null,
           "India",
           [
            60025666,
            60028151
           ],
           [
            "ICMR-National Institute of Occupational Health"
           ],
           1,
           null,
           null,
           "ind",
           null,
           60028151,
           null
          ]
         ],
         [
          1,
          7402725145,
          "auth",
          "false",
          null,
          "f43d4270648fa30212cc9b8d7e90d3eb2a45af1e",
          "SukhDev",
          "Sukh Dev",
          "Mishra S.",
          "Mishra S.D.",
          "S.",
          "S.D.",
          null,
          "0000-0002-0842-1657",
          null,
          "Mishra",
          "Mishra"
         ],
         [
          2,
          8352051300,
          "auth",
          "false",
          null,
          null,
          "Kamalesh",
          "Kamalesh",
          "Sarkar K.",
          "Sarkar K.",
          "K.",
          "K.",
          null,
          null,
          null,
          "Sarkar",
          "Sarkar"
         ],
         2,
         7402725145,
         8352051300,
         [
          7402725145
         ],
         [
          "SukhDev"
         ],
         "SukhDev",
         [
          1
         ],
         1,
         [
          1,
          2
         ],
         [
          1,
          1
         ],
         1,
         1,
         [
          null,
          "Ahmedabad",
          null,
          "India",
          [
           60025666,
           60028151
          ],
          [
           "ICMR-National Institute of Occupational Health"
          ],
          1,
          null,
          null,
          "ind",
          null,
          60028151,
          null
         ],
         60028151
        ],
        [
         "10.1002/1873-3468.13037",
         85044855783,
         2018,
         [
          [
           1,
           56602836900,
           "auth",
           "false",
           null,
           null,
           "Julia-Beate",
           "Julia Beate",
           "Tastensen J.-B.",
           "Tästensen J.B.",
           "J.-B.",
           "J.B.",
           null,
           null,
           null,
           "Tästensen",
           "Tästensen"
          ],
          [
           2,
           7005362939,
           "auth",
           "false",
           null,
           "ef0ce0a810af770869d41e705531ba18eb332c0a",
           "Peter",
           "Peter",
           "Schonheit P.",
           "Schönheit P.",
           "P.",
           "P.",
           null,
           null,
           null,
           "Schönheit",
           "Schönheit"
          ]
         ],
         [
          [
           1,
           1,
           true
          ],
          [
           2,
           1,
           true
          ]
         ],
         [
          [
           2,
           7005362939,
           null,
           "false",
           null,
           null,
           "Peter",
           null,
           "Schonheit P.",
           null,
           "P.",
           null,
           null,
           null,
           null,
           "Schönheit",
           null
          ]
         ],
         "ar",
         "Full",
         "00145793",
         [
          null,
          null,
          "nld",
          "01",
          "05",
          "May 2018",
          "2018",
          null,
          null,
          null,
          null,
          null,
          [
           "18733468"
          ],
          null,
          [
           "00145793"
          ],
          "Wiley Blackwell",
          "FEBS Letters",
          "FEBS Lett.",
          17481,
          "j",
          "http://onlinelibrary.wiley.com/journal/10.1002/(ISSN)1873-3468"
         ],
         0,
         [
          [
           "deu",
           null
          ]
         ],
         [
          [
           null,
           null,
           null,
           "Germany",
           [
            60012345
           ],
           [
            "Institut für Allgemeine Mikrobiologie",
            "Christian-Albrechts-Universität Kiel"
           ],
           2,
           null,
           null,
           "deu",
           null,
           60012345,
           103652026
          ]
         ],
         [
          1,
          56602836900,
          "auth",
          "false",
          null,
          null,
          "Julia-Beate",
          "Julia Beate",
          "Tastensen J.-B.",
          "Tästensen J.B.",
          "J.-B.",
          "J.B.",
          null,
          null,
          null,
          "Tästensen",
          "Tästensen"
         ],
         [
          2,
          7005362939,
          "auth",
          "false",
          null,
          "ef0ce0a810af770869d41e705531ba18eb332c0a",
          "Peter",
          "Peter",
          "Schonheit P.",
          "Schönheit P.",
          "P.",
          "P.",
          null,
          null,
          null,
          "Schönheit",
          "Schönheit"
         ],
         2,
         56602836900,
         7005362939,
         [
          7005362939
         ],
         [
          "Peter"
         ],
         "Peter",
         [
          2
         ],
         2,
         [
          1,
          2
         ],
         [
          1,
          1
         ],
         2,
         1,
         [
          null,
          null,
          null,
          "Germany",
          [
           60012345
          ],
          [
           "Institut für Allgemeine Mikrobiologie",
           "Christian-Albrechts-Universität Kiel"
          ],
          2,
          null,
          null,
          "deu",
          null,
          60012345,
          103652026
         ],
         60012345
        ],
        [
         "10.1002/1873-3468.13352",
         85062960041,
         2019,
         [
          [
           1,
           57131760300,
           "auth",
           "false",
           null,
           null,
           "Robert H.",
           "Robert H.",
           "Wilson R.H.",
           "Wilson R.H.",
           "R.H.",
           "R.H.",
           null,
           null,
           null,
           "Wilson",
           "Wilson"
          ],
          [
           2,
           55927865900,
           "auth",
           "false",
           null,
           null,
           "Gabriel",
           "Gabriel",
           "Thieulin-Pardo G.",
           "Thieulin-Pardo G.",
           "G.",
           "G.",
           null,
           null,
           null,
           "Thieulin-Pardo",
           "Thieulin-Pardo"
          ],
          [
           3,
           7102931078,
           "auth",
           "false",
           null,
           null,
           "Franz-Ulrich",
           "Franz Ulrich",
           "Hartl F.-U.",
           "Hartl F.U.",
           "F.-U.",
           "F.U.",
           null,
           null,
           null,
           "Hartl",
           "Hartl"
          ],
          [
           4,
           6603873430,
           "auth",
           "false",
           null,
           "9699612b2e3e30519b12ec0343a6d53bf1ddb2e6",
           "Manajit",
           "Manajit",
           "Hayer-Hartl M.",
           "Hayer-Hartl M.",
           "M.",
           "M.",
           null,
           null,
           null,
           "Hayer-Hartl",
           "Hayer-Hartl"
          ]
         ],
         [
          [
           1,
           1,
           true
          ],
          [
           2,
           1,
           true
          ],
          [
           4,
           1,
           true
          ],
          [
           3,
           2,
           true
          ]
         ],
         [
          [
           4,
           6603873430,
           null,
           "false",
           null,
           null,
           "Manajit",
           null,
           "Hayer-Hartl M.",
           null,
           "M.",
           null,
           null,
           null,
           null,
           "Hayer-Hartl",
           null
          ]
         ],
         "ar",
         "Full",
         "00145793",
         [
          null,
          null,
          "nld",
          "01",
          "03",
          "March 2019",
          "2019",
          "info@wiley.com",
          "email",
          null,
          null,
          null,
          [
           "18733468"
          ],
          null,
          [
           "00145793"
          ],
          "Wiley Blackwell",
          "FEBS Letters",
          "FEBS Lett.",
          17481,
          "j",
          "http://onlinelibrary.wiley.com/journal/10.1002/(ISSN)1873-3468"
         ],
         0,
         [
          [
           "deu",
           null
          ]
         ],
         [
          [
           null,
           "Martinsried",
           null,
           "Germany",
           [
            60006070
           ],
           [
            "Chaperonin-assisted Protein Folding Group",
            "Max Planck Institute of Biochemistry"
           ],
           2,
           null,
           null,
           "deu",
           null,
           60006070,
           122266842
          ],
          [
           null,
           "Martinsried",
           null,
           "Germany",
           [
            60006070
           ],
           [
            "Cellular Biochemistry Group",
            "Max Planck Institute of Biochemistry"
           ],
           2,
           null,
           null,
           "deu",
           null,
           60006070,
           103346457
          ]
         ],
         [
          1,
          57131760300,
          "auth",
          "false",
          null,
          null,
          "Robert H.",
          "Robert H.",
          "Wilson R.H.",
          "Wilson R.H.",
          "R.H.",
          "R.H.",
          null,
          null,
          null,
          "Wilson",
          "Wilson"
         ],
         [
          4,
          6603873430,
          "auth",
          "false",
          null,
          "9699612b2e3e30519b12ec0343a6d53bf1ddb2e6",
          "Manajit",
          "Manajit",
          "Hayer-Hartl M.",
          "Hayer-Hartl M.",
          "M.",
          "M.",
          null,
          null,
          null,
          "Hayer-Hartl",
          "Hayer-Hartl"
         ],
         4,
         57131760300,
         6603873430,
         [
          6603873430
         ],
         [
          "Manajit"
         ],
         "Manajit",
         [
          4
         ],
         4,
         [
          1,
          2,
          4,
          3
         ],
         [
          1,
          1,
          1,
          2
         ],
         3,
         1,
         [
          null,
          "Martinsried",
          null,
          "Germany",
          [
           60006070
          ],
          [
           "Chaperonin-assisted Protein Folding Group",
           "Max Planck Institute of Biochemistry"
          ],
          2,
          null,
          null,
          "deu",
          null,
          60006070,
          122266842
         ],
         60006070
        ],
        [
         "10.1002/1878-0261.12504",
         85067662949,
         2019,
         [
          [
           1,
           55290632900,
           "auth",
           "false",
           null,
           null,
           "Yuichi",
           "Yuichi",
           "Akatsu Y.",
           "Akatsu Y.",
           "Y.",
           "Y.",
           null,
           null,
           null,
           "Akatsu",
           "Akatsu"
          ],
          [
           2,
           57209412277,
           "auth",
           "false",
           null,
           null,
           "Naoya",
           "Naoya",
           "Takahashi N.",
           "Takahashi N.",
           "N.",
           "N.",
           null,
           null,
           null,
           "Takahashi",
           "Takahashi"
          ],
          [
           3,
           6603036281,
           "auth",
           "false",
           null,
           null,
           "Yasuhiro",
           "Yasuhiro",
           "Yoshimatsu Y.",
           "Yoshimatsu Y.",
           "Y.",
           "Y.",
           null,
           null,
           null,
           "Yoshimatsu",
           "Yoshimatsu"
          ],
          [
           4,
           57209419746,
           "auth",
           "false",
           null,
           null,
           "Shiori",
           "Shiori",
           "Kimuro S.",
           "Kimuro S.",
           "S.",
           "S.",
           null,
           null,
           null,
           "Kimuro",
           "Kimuro"
          ],
          [
           5,
           36889615500,
           "auth",
           "false",
           null,
           null,
           "Tomoki",
           "Tomoki",
           "Muramatsu T.",
           "Muramatsu T.",
           "T.",
           "T.",
           null,
           null,
           null,
           "Muramatsu",
           "Muramatsu"
          ],
          [
           6,
           56530562700,
           "auth",
           "false",
           null,
           null,
           "Akihiro",
           "Akihiro",
           "Katsura A.",
           "Katsura A.",
           "A.",
           "A.",
           null,
           null,
           null,
           "Katsura",
           "Katsura"
          ],
          [
           7,
           37117464700,
           "auth",
           "false",
           null,
           null,
           "Nako",
           "Nako",
           "Maishi N.",
           "Maishi N.",
           "N.",
           "N.",
           null,
           null,
           null,
           "Maishi",
           "Maishi"
          ],
          [
           8,
           57039371500,
           "auth",
           "false",
           null,
           null,
           "Hiroshi I.",
           "Hiroshi I.",
           "Suzuki H.I.",
           "Suzuki H.I.",
           "H.I.",
           "H.I.",
           null,
           null,
           null,
           "Suzuki",
           "Suzuki"
          ],
          [
           9,
           7101613954,
           "auth",
           "false",
           null,
           null,
           "Johji",
           "Johji",
           "Inazawa J.",
           "Inazawa J.",
           "J.",
           "J.",
           null,
           null,
           null,
           "Inazawa",
           "Inazawa"
          ],
          [
           10,
           7103235315,
           "auth",
           "false",
           null,
           null,
           "Kyoko",
           "Kyoko",
           "Hida K.",
           "Hida K.",
           "K.",
           "K.",
           null,
           null,
           null,
           "Hida",
           "Hida"
          ],
          [
           11,
           7102097939,
           "auth",
           "false",
           null,
           null,
           "Kohei",
           "Kohei",
           "Miyazono K.",
           "Miyazono K.",
           "K.",
           "K.",
           null,
           null,
           null,
           "Miyazono",
           "Miyazono"
          ],
          [
           12,
           7102172647,
           "auth",
           "false",
           null,
           "6aae5ab4a0da0ceefb0f9e23cee6e683975d40eb",
           "Tetsuro",
           "Tetsuro",
           "Watabe T.",
           "Watabe T.",
           "T.",
           "T.",
           null,
           null,
           null,
           "Watabe",
           "Watabe"
          ]
         ],
         [
          [
           1,
           1,
           true
          ],
          [
           6,
           1,
           true
          ],
          [
           8,
           1,
           true
          ],
          [
           11,
           1,
           true
          ],
          [
           1,
           2,
           true
          ],
          [
           2,
           3,
           true
          ],
          [
           3,
           3,
           true
          ],
          [
           4,
           3,
           true
          ],
          [
           12,
           3,
           true
          ],
          [
           5,
           4,
           true
          ],
          [
           9,
           4,
           true
          ],
          [
           7,
           5,
           true
          ],
          [
           10,
           5,
           true
          ],
          [
           8,
           6,
           true
          ]
         ],
         [
          [
           12,
           7102172647,
           null,
           "false",
           null,
           null,
           "Tetsuro",
           null,
           "Watabe T.",
           null,
           "T.",
           null,
           null,
           null,
           null,
           "Watabe",
           null
          ]
         ],
         "ar",
         "Full",
         "15747891",
         [
          null,
          null,
          "nld",
          "01",
          "08",
          "August 2019",
          "2019",
          null,
          null,
          null,
          null,
          null,
          [
           "18780261"
          ],
          null,
          [
           "15747891"
          ],
          "John Wiley and Sons Ltd",
          "Molecular Oncology",
          "Mol. Oncol.",
          5800207508,
          "j",
          "http://onlinelibrary.wiley.com/journal/10.1002/(ISSN)1878-0261"
         ],
         0,
         [
          [
           "jpn",
           null
          ]
         ],
         [
          [
           null,
           null,
           null,
           "Japan",
           [
            60178602
           ],
           [
            "Department of Molecular Pathology",
            "Graduate School of Medicine",
            "The University of Tokyo"
           ],
           3,
           null,
           null,
           "jpn",
           null,
           60178602,
           125013467
          ],
          [
           null,
           "Tokyo",
           null,
           "Japan",
           [
            60017015
           ],
           [
            "Biomedicine Group",
            "Pharmaceutical Research Laboratories",
            "Pharmaceutical Group",
            "Nippon Kayaku Co.",
            "Ltd."
           ],
           5,
           null,
           null,
           "jpn",
           null,
           60017015,
           124437933
          ],
          [
           null,
           null,
           null,
           "Japan",
           [
            60003303
           ],
           [
            "Department of Biochemistry",
            "Graduate School of Medical and Dental Sciences",
            "Tokyo Medical and Dental University (TMDU)"
           ],
           3,
           null,
           null,
           "jpn",
           null,
           60003303,
           103218195
          ],
          [
           null,
           null,
           null,
           "Japan",
           [
            60003303
           ],
           [
            "Department of Molecular Cytogenetics",
            "Medical Research Institute",
            "Tokyo Medical and Dental University (TMDU)"
           ],
           3,
           null,
           null,
           "jpn",
           null,
           60003303,
           103218315
          ],
          [
           null,
           "Sapporo",
           null,
           "Japan",
           [
            60014652
           ],
           [
            "Department of Vascular Biology and Molecular Pathology",
            "Graduate School of Dental Medicine",
            "Hokkaido University"
           ],
           3,
           null,
           null,
           "jpn",
           null,
           60014652,
           109932748
          ],
          [
           null,
           "Cambridge",
           null,
           "United States",
           [
            60022195
           ],
           [
            "David H. Koch Institute for Integrative Cancer Research",
            "Massachusetts Institute of Technology"
           ],
           2,
           null,
           "MA",
           "usa",
           null,
           60022195,
           105748493
          ]
         ],
         [
          1,
          55290632900,
          "auth",
          "false",
          null,
          null,
          "Yuichi",
          "Yuichi",
          "Akatsu Y.",
          "Akatsu Y.",
          "Y.",
          "Y.",
          null,
          null,
          null,
          "Akatsu",
          "Akatsu"
         ],
         [
          12,
          7102172647,
          "auth",
          "false",
          null,
          "6aae5ab4a0da0ceefb0f9e23cee6e683975d40eb",
          "Tetsuro",
          "Tetsuro",
          "Watabe T.",
          "Watabe T.",
          "T.",
          "T.",
          null,
          null,
          null,
          "Watabe",
          "Watabe"
         ],
         12,
         55290632900,
         7102172647,
         [
          7102172647
         ],
         [
          "Tetsuro"
         ],
         "Tetsuro",
         [
          12
         ],
         12,
         [
          1,
          6,
          8,
          11,
          1,
          2,
          3,
          4,
          12,
          5,
          9,
          7,
          10,
          8
         ],
         [
          1,
          1,
          1,
          1,
          2,
          3,
          3,
          3,
          3,
          4,
          4,
          5,
          5,
          6
         ],
         9,
         3,
         [
          null,
          null,
          null,
          "Japan",
          [
           60003303
          ],
          [
           "Department of Biochemistry",
           "Graduate School of Medical and Dental Sciences",
           "Tokyo Medical and Dental University (TMDU)"
          ],
          3,
          null,
          null,
          "jpn",
          null,
          60003303,
          103218195
         ],
         60003303
        ],
        [
         "10.1002/1878-0261.12537",
         85070850771,
         2019,
         [
          [
           1,
           57070283600,
           "auth",
           "false",
           null,
           null,
           "Jee-Soo",
           "Jee Soo",
           "Lee J.-S.",
           "Lee J.S.",
           "J.-S.",
           "J.S.",
           null,
           null,
           null,
           "Lee",
           "Lee"
          ],
          [
           2,
           8766621100,
           "auth",
           "false",
           null,
           null,
           "Sung Sup",
           "Sung Sup",
           "Park S.S.",
           "Park S.S.",
           "S.S.",
           "S.S.",
           null,
           null,
           null,
           "Park",
           "Park"
          ],
          [
           3,
           36982766200,
           "auth",
           "false",
           null,
           null,
           "Young Kyung",
           "Young Kyung",
           "Lee Y.K.",
           "Lee Y.K.",
           "Y.K.",
           "Y.K.",
           null,
           null,
           null,
           "Lee",
           "Lee"
          ],
          [
           4,
           36064372000,
           "auth",
           "false",
           null,
           null,
           "Jeffrey A.",
           "Jeffrey A.",
           "Norton J.A.",
           "Norton J.A.",
           "J.A.",
           "J.A.",
           null,
           null,
           null,
           "Norton",
           "Norton"
          ],
          [
           5,
           23569502400,
           "auth",
           "false",
           null,
           "28d64c214650d44069ad9309208f547a2e392280",
           "Stefanie S.",
           "Stefanie S.",
           "Jeffrey S.S.",
           "Jeffrey S.S.",
           "S.S.",
           "S.S.",
           null,
           "0000-0003-4478-2764",
           null,
           "Jeffrey",
           "Jeffrey"
          ]
         ],
         [
          [
           1,
           1,
           true
          ],
          [
           3,
           1,
           true
          ],
          [
           1,
           2,
           true
          ],
          [
           2,
           2,
           true
          ],
          [
           3,
           3,
           true
          ],
          [
           4,
           4,
           true
          ],
          [
           5,
           4,
           true
          ]
         ],
         [
          [
           5,
           23569502400,
           null,
           "false",
           null,
           null,
           "Stefanie S.",
           null,
           "Jeffrey S.S.",
           null,
           "S.S.",
           null,
           null,
           null,
           null,
           "Jeffrey",
           null
          ]
         ],
         "re",
         "Full",
         "15747891",
         [
          null,
          null,
          "nld",
          "01",
          "08",
          "August 2019",
          "2019",
          null,
          null,
          null,
          null,
          null,
          [
           "18780261"
          ],
          null,
          [
           "15747891"
          ],
          "John Wiley and Sons Ltd",
          "Molecular Oncology",
          "Mol. Oncol.",
          5800207508,
          "j",
          "http://onlinelibrary.wiley.com/journal/10.1002/(ISSN)1878-0261"
         ],
         0,
         [
          [
           "usa",
           null
          ]
         ],
         [
          [
           null,
           "Anyang",
           null,
           "South Korea",
           [
            60018986
           ],
           [
            "Department of Laboratory Medicine",
            "Hallym University Sacred Heart Hospital"
           ],
           2,
           null,
           null,
           "kor",
           null,
           60018986,
           109916296
          ],
          [
           null,
           "Seoul",
           null,
           "South Korea",
           [
            60000656
           ],
           [
            "Department of Laboratory Medicine",
            "Seoul National University College of Medicine"
           ],
           2,
           null,
           null,
           "kor",
           null,
           60000656,
           113887129
          ],
          [
           null,
           "Anyang",
           null,
           "South Korea",
           [
            60006034
           ],
           [
            "Department of Laboratory Medicine",
            "Hallym University College of Medicine"
           ],
           2,
           null,
           null,
           "kor",
           null,
           60006034,
           108313527
          ],
          [
           null,
           "Stanford",
           null,
           "United States",
           [
            60032838
           ],
           [
            "Department of Surgery",
            "Stanford University School of Medicine"
           ],
           2,
           null,
           "CA",
           "usa",
           null,
           60032838,
           113464499
          ]
         ],
         [
          1,
          57070283600,
          "auth",
          "false",
          null,
          null,
          "Jee-Soo",
          "Jee Soo",
          "Lee J.-S.",
          "Lee J.S.",
          "J.-S.",
          "J.S.",
          null,
          null,
          null,
          "Lee",
          "Lee"
         ],
         [
          5,
          23569502400,
          "auth",
          "false",
          null,
          "28d64c214650d44069ad9309208f547a2e392280",
          "Stefanie S.",
          "Stefanie S.",
          "Jeffrey S.S.",
          "Jeffrey S.S.",
          "S.S.",
          "S.S.",
          null,
          "0000-0003-4478-2764",
          null,
          "Jeffrey",
          "Jeffrey"
         ],
         5,
         57070283600,
         23569502400,
         [
          23569502400
         ],
         [
          "Stefanie S."
         ],
         "Stefanie S.",
         [
          5
         ],
         5,
         [
          1,
          3,
          1,
          2,
          3,
          4,
          5
         ],
         [
          1,
          1,
          2,
          2,
          3,
          4,
          4
         ],
         7,
         4,
         [
          null,
          "Stanford",
          null,
          "United States",
          [
           60032838
          ],
          [
           "Department of Surgery",
           "Stanford University School of Medicine"
          ],
          2,
          null,
          "CA",
          "usa",
          null,
          60032838,
          113464499
         ],
         60032838
        ],
        [
         "10.1002/1878-0261.12602",
         85078039658,
         2020,
         [
          [
           1,
           57195692740,
           "auth",
           "false",
           null,
           null,
           "Hiroko",
           "Hiroko",
           "Toda H.",
           "Toda H.",
           "H.",
           "H.",
           null,
           null,
           null,
           "Toda",
           "Toda"
          ],
          [
           2,
           7102041200,
           "auth",
           "false",
           null,
           "7768fb966dc80313c2fcaf420a1c5ca49424c715",
           "Naohiko",
           "Naohiko",
           "Seki N.",
           "Seki N.",
           "N.",
           "N.",
           null,
           "0000-0003-4731-7956",
           null,
           "Seki",
           "Seki"
          ],
          [
           3,
           56818785200,
           "auth",
           "false",
           null,
           null,
           "Sasagu",
           "Sasagu",
           "Kurozumi S.",
           "Kurozumi S.",
           "S.",
           "S.",
           null,
           null,
           null,
           "Kurozumi",
           "Kurozumi"
          ],
          [
           4,
           55917767700,
           "auth",
           "false",
           null,
           null,
           "Yoshiaki",
           "Yoshiaki",
           "Shinden Y.",
           "Shinden Y.",
           "Y.",
           "Y.",
           null,
           null,
           null,
           "Shinden",
           "Shinden"
          ],
          [
           5,
           57193908119,
           "auth",
           "false",
           null,
           null,
           "Yasutaka",
           "Yasutaka",
           "Yamada Y.",
           "Yamada Y.",
           "Y.",
           "Y.",
           null,
           "0000-0002-0070-1590",
           null,
           "Yamada",
           "Yamada"
          ],
          [
           6,
           36560047200,
           "auth",
           "false",
           null,
           null,
           "Nijiro",
           "Nijiro",
           "Nohata N.",
           "Nohata N.",
           "N.",
           "N.",
           null,
           "0000-0002-6816-2984",
           null,
           "Nohata",
           "Nohata"
          ],
          [
           7,
           56572270700,
           "auth",
           "false",
           null,
           null,
           "Shogo",
           "Shogo",
           "Moriya S.",
           "Moriya S.",
           "S.",
           "S.",
           null,
           null,
           null,
           "Moriya",
           "Moriya"
          ],
          [
           8,
           57193111682,
           "auth",
           "false",
           null,
           null,
           "Tetsuya",
           "Tetsuya",
           "Idichi T.",
           "Idichi T.",
           "T.",
           "T.",
           null,
           null,
           null,
           "Idichi",
           "Idichi"
          ],
          [
           9,
           35458543400,
           "auth",
           "false",
           null,
           null,
           "Kosei",
           "Kosei",
           "Maemura K.",
           "Maemura K.",
           "K.",
           "K.",
           null,
           null,
           null,
           "Maemura",
           "Maemura"
          ],
          [
           10,
           35473252300,
           "auth",
           "false",
           null,
           null,
           "Takaaki",
           "Takaaki",
           "Fujii T.",
           "Fujii T.",
           "T.",
           "T.",
           null,
           null,
           null,
           "Fujii",
           "Fujii"
          ],
          [
           11,
           20834511500,
           "auth",
           "false",
           null,
           null,
           "Jun",
           "Jun",
           "Horiguchi J.",
           "Horiguchi J.",
           "J.",
           "J.",
           null,
           null,
           null,
           "Horiguchi",
           "Horiguchi"
          ],
          [
           12,
           7006142960,
           "auth",
           "false",
           null,
           null,
           "Yuko",
           "Yuko",
           "Kijima Y.",
           "Kijima Y.",
           "Y.",
           "Y.",
           null,
           null,
           null,
           "Kijima",
           "Kijima"
          ],
          [
           13,
           35417844500,
           "auth",
           "false",
           null,
           null,
           "Shoji",
           "Shoji",
           "Natsugoe S.",
           "Natsugoe S.",
           "S.",
           "S.",
           null,
           null,
           null,
           "Natsugoe",
           "Natsugoe"
          ]
         ],
         [
          [
           1,
           1,
           true
          ],
          [
           4,
           1,
           true
          ],
          [
           8,
           1,
           true
          ],
          [
           9,
           1,
           true
          ],
          [
           12,
           1,
           true
          ],
          [
           13,
           1,
           true
          ],
          [
           2,
           2,
           true
          ],
          [
           5,
           2,
           true
          ],
          [
           3,
           3,
           true
          ],
          [
           10,
           3,
           true
          ],
          [
           6,
           4,
           true
          ],
          [
           7,
           5,
           true
          ],
          [
           11,
           6,
           true
          ],
          [
           12,
           7,
           true
          ]
         ],
         [
          [
           2,
           7102041200,
           null,
           "false",
           null,
           null,
           "Naohiko",
           null,
           "Seki N.",
           null,
           "N.",
           null,
           null,
           null,
           null,
           "Seki",
           null
          ]
         ],
         "ar",
         "Full",
         "15747891",
         [
          null,
          null,
          "nld",
          "01",
          "02",
          "1 February 2020",
          "2020",
          "contentdelivery@wiley.com",
          "email",
          null,
          null,
          null,
          [
           "18780261"
          ],
          null,
          [
           "15747891"
          ],
          "John Wiley and Sons Ltd.",
          "Molecular Oncology",
          "Mol. Oncol.",
          5800207508,
          "j",
          "http://onlinelibrary.wiley.com/journal/10.1002/(ISSN)1878-0261"
         ],
         0,
         [
          [
           "jpn",
           null
          ]
         ],
         [
          [
           null,
           null,
           null,
           "Japan",
           [
            60028088,
            60162058
           ],
           [
            "Department of Digestive Surgery",
            "Breast and Thyroid Surgery",
            "Graduate School of Medical and Dental Sciences",
            "Kagoshima University"
           ],
           4,
           null,
           null,
           "jpn",
           null,
           60162058,
           124525678
          ],
          [
           null,
           null,
           null,
           "Japan",
           [
            60172703
           ],
           [
            "Department of Functional Genomics",
            "Chiba University Graduate School of Medicine"
           ],
           2,
           null,
           null,
           "jpn",
           null,
           60172703,
           124939768
          ],
          [
           null,
           null,
           null,
           "Japan",
           [
            60162044
           ],
           [
            "Department of General Surgical Science",
            "Gunma University Graduate School of Medicine"
           ],
           2,
           null,
           null,
           "jpn",
           null,
           60162044,
           124525211
          ],
          [
           null,
           "Tokyo",
           null,
           "Japan",
           [
            60105665
           ],
           [
            "MSD K.K."
           ],
           1,
           null,
           null,
           "jpn",
           null,
           60105665,
           null
          ],
          [
           null,
           null,
           null,
           "Japan",
           [
            60172703
           ],
           [
            "Department of Biochemistry and Genetics",
            "Chiba University Graduate School of Medicine"
           ],
           2,
           null,
           null,
           "jpn",
           null,
           60172703,
           124939718
          ],
          [
           null,
           "Chiba",
           null,
           "Japan",
           [
            60024740
           ],
           [
            "Department of Breast Surgery",
            "International University of Health and Welfare"
           ],
           2,
           null,
           null,
           "jpn",
           null,
           60024740,
           120260410
          ],
          [
           null,
           "Aichi",
           null,
           "Japan",
           [
            60026940
           ],
           [
            "Department of Breast Surgery",
            "Fujita Health University"
           ],
           2,
           null,
           null,
           "jpn",
           null,
           60026940,
           113466651
          ]
         ],
         [
          1,
          57195692740,
          "auth",
          "false",
          null,
          null,
          "Hiroko",
          "Hiroko",
          "Toda H.",
          "Toda H.",
          "H.",
          "H.",
          null,
          null,
          null,
          "Toda",
          "Toda"
         ],
         [
          13,
          35417844500,
          "auth",
          "false",
          null,
          null,
          "Shoji",
          "Shoji",
          "Natsugoe S.",
          "Natsugoe S.",
          "S.",
          "S.",
          null,
          null,
          null,
          "Natsugoe",
          "Natsugoe"
         ],
         13,
         57195692740,
         35417844500,
         [
          7102041200
         ],
         [
          "Naohiko"
         ],
         "Naohiko",
         [
          2
         ],
         2,
         [
          1,
          4,
          8,
          9,
          12,
          13,
          2,
          5,
          3,
          10,
          6,
          7,
          11,
          12
         ],
         [
          1,
          1,
          1,
          1,
          1,
          1,
          2,
          2,
          3,
          3,
          4,
          5,
          6,
          7
         ],
         7,
         2,
         [
          null,
          null,
          null,
          "Japan",
          [
           60172703
          ],
          [
           "Department of Functional Genomics",
           "Chiba University Graduate School of Medicine"
          ],
          2,
          null,
          null,
          "jpn",
          null,
          60172703,
          124939768
         ],
         60172703
        ],
        [
         "10.1002/1878-0261.12930",
         85103162503,
         2021,
         [
          [
           1,
           57202915381,
           "auth",
           "false",
           null,
           null,
           "Chenying",
           "Chenying",
           "Fu C.",
           "Fu C.",
           "C.",
           "C.",
           null,
           "0000-0002-4416-7633",
           null,
           "Fu",
           "Fu"
          ],
          [
           2,
           57203160286,
           "auth",
           "false",
           null,
           null,
           "Qing",
           "Qing",
           "Zhang Q.",
           "Zhang Q.",
           "Q.",
           "Q.",
           null,
           null,
           null,
           "Zhang",
           "Zhang"
          ],
          [
           3,
           57213623205,
           "auth",
           "false",
           null,
           null,
           "Ani",
           "Ani",
           "Wang A.",
           "Wang A.",
           "A.",
           "A.",
           null,
           null,
           null,
           "Wang",
           "Wang"
          ],
          [
           4,
           57208279819,
           "auth",
           "false",
           null,
           null,
           "Songpeng",
           "Songpeng",
           "Yang S.",
           "Yang S.",
           "S.",
           "S.",
           null,
           null,
           null,
           "Yang",
           "Yang"
          ],
          [
           5,
           24341526700,
           "auth",
           "false",
           null,
           null,
           "Yangfu",
           "Yangfu",
           "Jiang Y.",
           "Jiang Y.",
           "Y.",
           "Y.",
           null,
           null,
           null,
           "Jiang",
           "Jiang"
          ],
          [
           6,
           57192415362,
           "auth",
           "false",
           null,
           null,
           "Lin",
           "Lin",
           "Bai L.",
           "Bai L.",
           "L.",
           "L.",
           null,
           null,
           null,
           "Bai",
           "Bai"
          ],
          [
           7,
           57194026796,
           "auth",
           "false",
           null,
           "ad6fb5898ceb1cc371fd738fa036c543c14887ba",
           "Quan",
           "Quan",
           "Wei Q.",
           "Wei Q.",
           "Q.",
           "Q.",
           null,
           null,
           null,
           "Wei",
           "Wei"
          ]
         ],
         [
          [
           1,
           1,
           true
          ],
          [
           4,
           1,
           true
          ],
          [
           5,
           1,
           true
          ],
          [
           7,
           1,
           true
          ],
          [
           2,
           2,
           true
          ],
          [
           7,
           2,
           true
          ],
          [
           3,
           3,
           true
          ],
          [
           6,
           4,
           true
          ]
         ],
         [
          [
           7,
           57194026796,
           null,
           "false",
           null,
           null,
           "Quan",
           null,
           "Wei Q.",
           null,
           "Q.",
           null,
           null,
           null,
           null,
           "Wei",
           null
          ]
         ],
         "re",
         "Full",
         "15747891",
         [
          null,
          null,
          "nld",
          "01",
          "05",
          "May 2021",
          "2021",
          null,
          null,
          null,
          null,
          null,
          [
           "18780261"
          ],
          null,
          [
           "15747891"
          ],
          "John Wiley and Sons Ltd",
          "Molecular Oncology",
          "Mol. Oncol.",
          5800207508,
          "j",
          "http://onlinelibrary.wiley.com/journal/10.1002/(ISSN)1878-0261"
         ],
         0,
         [
          [
           "chn",
           null
          ]
         ],
         [
          [
           null,
           "Chengdu, Sichuan",
           null,
           "China",
           [
            60016521,
            60073509
           ],
           [
            "State Key Laboratory of Biotherapy and National Clinical Research Center for Geriatrics",
            "West China Hospital",
            "Sichuan University"
           ],
           3,
           null,
           null,
           "chn",
           null,
           60073509,
           null
          ],
          [
           null,
           "Chengdu",
           null,
           "China",
           [
            60016521,
            60073509
           ],
           [
            "Department of Rehabilitation Medicine Center",
            "Key Laboratory of Rehabilitation Medicine in Sichuan Province",
            "West China Hospital",
            "Sichuan University"
           ],
           4,
           null,
           null,
           "chn",
           null,
           60073509,
           104826062
          ],
          [
           null,
           "Zhuhai",
           null,
           "China",
           [
            60122355,
            60021182
           ],
           [
            "Cadiovascular Center",
            "The Fifth Affiliated Hospital",
            "Sun Yat-sen University"
           ],
           3,
           null,
           null,
           "chn",
           null,
           60021182,
           125943703
          ],
          [
           null,
           "Chengdu",
           null,
           "China",
           [
            60016521,
            60073509
           ],
           [
            "Research Core Facility",
            "West China Hospital",
            "Sichuan University"
           ],
           3,
           null,
           null,
           "chn",
           null,
           60073509,
           119844065
          ]
         ],
         [
          1,
          57202915381,
          "auth",
          "false",
          null,
          null,
          "Chenying",
          "Chenying",
          "Fu C.",
          "Fu C.",
          "C.",
          "C.",
          null,
          "0000-0002-4416-7633",
          null,
          "Fu",
          "Fu"
         ],
         [
          7,
          57194026796,
          "auth",
          "false",
          null,
          "ad6fb5898ceb1cc371fd738fa036c543c14887ba",
          "Quan",
          "Quan",
          "Wei Q.",
          "Wei Q.",
          "Q.",
          "Q.",
          null,
          null,
          null,
          "Wei",
          "Wei"
         ],
         7,
         57202915381,
         57194026796,
         [
          57194026796
         ],
         [
          "Quan"
         ],
         "Quan",
         [
          7
         ],
         7,
         [
          1,
          4,
          5,
          7,
          2,
          7,
          3,
          6
         ],
         [
          1,
          1,
          1,
          1,
          2,
          2,
          3,
          4
         ],
         4,
         1,
         [
          null,
          "Chengdu, Sichuan",
          null,
          "China",
          [
           60016521,
           60073509
          ],
          [
           "State Key Laboratory of Biotherapy and National Clinical Research Center for Geriatrics",
           "West China Hospital",
           "Sichuan University"
          ],
          3,
          null,
          null,
          "chn",
          null,
          60073509,
          null
         ],
         60073509
        ]
       ],
       "datasetInfos": [],
       "dbfsResultPath": null,
       "isJsonSchema": true,
       "metadata": {},
       "overflow": false,
       "plotOptions": {
        "customPlotOptions": {},
        "displayType": "table",
        "pivotAggregation": null,
        "pivotColumns": null,
        "xColumns": null,
        "yColumns": null
       },
       "removedWidgets": [],
       "schema": [
        {
         "metadata": "{}",
         "name": "doi",
         "type": "\"string\""
        },
        {
         "metadata": "{}",
         "name": "Eid",
         "type": "\"long\""
        },
        {
         "metadata": "{}",
         "name": "year",
         "type": "\"integer\""
        },
        {
         "metadata": "{}",
         "name": "Au",
         "type": "{\"type\":\"array\",\"elementType\":{\"type\":\"struct\",\"fields\":[{\"name\":\"Authorseq\",\"type\":\"integer\",\"nullable\":true,\"metadata\":{}},{\"name\":\"auid\",\"type\":\"long\",\"nullable\":true,\"metadata\":{}},{\"name\":\"author_type\",\"type\":\"string\",\"nullable\":true,\"metadata\":{}},{\"name\":\"collaboration\",\"type\":\"string\",\"nullable\":true,\"metadata\":{}},{\"name\":\"degrees\",\"type\":\"string\",\"nullable\":true,\"metadata\":{}},{\"name\":\"email_sha1\",\"type\":\"string\",\"nullable\":true,\"metadata\":{}},{\"name\":\"given_name\",\"type\":\"string\",\"nullable\":true,\"metadata\":{}},{\"name\":\"given_name_pn\",\"type\":\"string\",\"nullable\":true,\"metadata\":{}},{\"name\":\"indexed_name\",\"type\":\"string\",\"nullable\":true,\"metadata\":{}},{\"name\":\"indexed_name_pn\",\"type\":\"string\",\"nullable\":true,\"metadata\":{}},{\"name\":\"initials\",\"type\":\"string\",\"nullable\":true,\"metadata\":{}},{\"name\":\"initials_pn\",\"type\":\"string\",\"nullable\":true,\"metadata\":{}},{\"name\":\"nametext\",\"type\":\"string\",\"nullable\":true,\"metadata\":{}},{\"name\":\"orcid\",\"type\":\"string\",\"nullable\":true,\"metadata\":{}},{\"name\":\"suffix\",\"type\":\"string\",\"nullable\":true,\"metadata\":{}},{\"name\":\"surname\",\"type\":\"string\",\"nullable\":true,\"metadata\":{}},{\"name\":\"surname_pn\",\"type\":\"string\",\"nullable\":true,\"metadata\":{}}]},\"containsNull\":true}"
        },
        {
         "metadata": "{}",
         "name": "Au_Af",
         "type": "{\"type\":\"array\",\"elementType\":{\"type\":\"struct\",\"fields\":[{\"name\":\"Authorseq\",\"type\":\"short\",\"nullable\":true,\"metadata\":{}},{\"name\":\"affiliation_seq\",\"type\":\"short\",\"nullable\":true,\"metadata\":{}},{\"name\":\"validity_B\",\"type\":\"boolean\",\"nullable\":true,\"metadata\":{}}]},\"containsNull\":true}"
        },
        {
         "metadata": "{}",
         "name": "Au_cors",
         "type": "{\"type\":\"array\",\"elementType\":{\"type\":\"struct\",\"fields\":[{\"name\":\"Authorseq\",\"type\":\"integer\",\"nullable\":true,\"metadata\":{}},{\"name\":\"auid\",\"type\":\"long\",\"nullable\":true,\"metadata\":{}},{\"name\":\"author_type\",\"type\":\"string\",\"nullable\":true,\"metadata\":{}},{\"name\":\"collaboration\",\"type\":\"string\",\"nullable\":true,\"metadata\":{}},{\"name\":\"degrees\",\"type\":\"string\",\"nullable\":true,\"metadata\":{}},{\"name\":\"email_sha1\",\"type\":\"string\",\"nullable\":true,\"metadata\":{}},{\"name\":\"given_name\",\"type\":\"string\",\"nullable\":true,\"metadata\":{}},{\"name\":\"given_name_pn\",\"type\":\"string\",\"nullable\":true,\"metadata\":{}},{\"name\":\"indexed_name\",\"type\":\"string\",\"nullable\":true,\"metadata\":{}},{\"name\":\"indexed_name_pn\",\"type\":\"string\",\"nullable\":true,\"metadata\":{}},{\"name\":\"initials\",\"type\":\"string\",\"nullable\":true,\"metadata\":{}},{\"name\":\"initials_pn\",\"type\":\"string\",\"nullable\":true,\"metadata\":{}},{\"name\":\"nametext\",\"type\":\"string\",\"nullable\":true,\"metadata\":{}},{\"name\":\"orcid\",\"type\":\"string\",\"nullable\":true,\"metadata\":{}},{\"name\":\"suffix\",\"type\":\"string\",\"nullable\":true,\"metadata\":{}},{\"name\":\"surname\",\"type\":\"string\",\"nullable\":true,\"metadata\":{}},{\"name\":\"surname_pn\",\"type\":\"string\",\"nullable\":true,\"metadata\":{}}]},\"containsNull\":true}"
        },
        {
         "metadata": "{}",
         "name": "publication_type",
         "type": "\"string\""
        },
        {
         "metadata": "{}",
         "name": "openaccess",
         "type": "\"string\""
        },
        {
         "metadata": "{}",
         "name": "issn",
         "type": "\"string\""
        },
        {
         "metadata": "{}",
         "name": "source",
         "type": "{\"type\":\"struct\",\"fields\":[{\"name\":\"article_number\",\"type\":\"string\",\"nullable\":true,\"metadata\":{}},{\"name\":\"conferenceinfo\",\"type\":{\"type\":\"struct\",\"fields\":[{\"name\":\"enddate\",\"type\":\"string\",\"nullable\":true,\"metadata\":{}},{\"name\":\"location\",\"type\":\"string\",\"nullable\":true,\"metadata\":{}},{\"name\":\"name\",\"type\":\"string\",\"nullable\":true,\"metadata\":{}},{\"name\":\"startdate\",\"type\":\"string\",\"nullable\":true,\"metadata\":{}}]},\"nullable\":true,\"metadata\":{}},{\"name\":\"country\",\"type\":\"string\",\"nullable\":true,\"metadata\":{}},{\"name\":\"date_day\",\"type\":\"string\",\"nullable\":true,\"metadata\":{}},{\"name\":\"date_month\",\"type\":\"string\",\"nullable\":true,\"metadata\":{}},{\"name\":\"date_text\",\"type\":\"string\",\"nullable\":true,\"metadata\":{}},{\"name\":\"date_year\",\"type\":\"string\",\"nullable\":true,\"metadata\":{}},{\"name\":\"e_address\",\"type\":\"string\",\"nullable\":true,\"metadata\":{}},{\"name\":\"e_address_type\",\"type\":\"string\",\"nullable\":true,\"metadata\":{}},{\"name\":\"isbn_electronic\",\"type\":{\"type\":\"array\",\"elementType\":\"string\",\"containsNull\":true},\"nullable\":true,\"metadata\":{}},{\"name\":\"isbn_other\",\"type\":{\"type\":\"array\",\"elementType\":\"string\",\"containsNull\":true},\"nullable\":true,\"metadata\":{}},{\"name\":\"isbn_print\",\"type\":{\"type\":\"array\",\"elementType\":\"string\",\"containsNull\":true},\"nullable\":true,\"metadata\":{}},{\"name\":\"issn_electronic\",\"type\":{\"type\":\"array\",\"elementType\":\"string\",\"containsNull\":true},\"nullable\":true,\"metadata\":{}},{\"name\":\"issn_other\",\"type\":{\"type\":\"array\",\"elementType\":\"string\",\"containsNull\":true},\"nullable\":true,\"metadata\":{}},{\"name\":\"issn_print\",\"type\":{\"type\":\"array\",\"elementType\":\"string\",\"containsNull\":true},\"nullable\":true,\"metadata\":{}},{\"name\":\"publishername\",\"type\":\"string\",\"nullable\":true,\"metadata\":{}},{\"name\":\"sourcetitle\",\"type\":\"string\",\"nullable\":true,\"metadata\":{}},{\"name\":\"sourcetitle_abbrev\",\"type\":\"string\",\"nullable\":true,\"metadata\":{}},{\"name\":\"srcid\",\"type\":\"long\",\"nullable\":true,\"metadata\":{}},{\"name\":\"type\",\"type\":\"string\",\"nullable\":true,\"metadata\":{}},{\"name\":\"website\",\"type\":\"string\",\"nullable\":true,\"metadata\":{}}]}"
        },
        {
         "metadata": "{}",
         "name": "news_cnt",
         "type": "\"integer\""
        },
        {
         "metadata": "{}",
         "name": "correspondence",
         "type": "{\"type\":\"array\",\"elementType\":{\"type\":\"struct\",\"fields\":[{\"name\":\"country\",\"type\":\"string\",\"nullable\":true,\"metadata\":{}},{\"name\":\"txt\",\"type\":\"string\",\"nullable\":true,\"metadata\":{}}]},\"containsNull\":true}"
        },
        {
         "metadata": "{}",
         "name": "Af",
         "type": "{\"type\":\"array\",\"elementType\":{\"type\":\"struct\",\"fields\":[{\"name\":\"affiliation_address_part\",\"type\":\"string\",\"nullable\":true,\"metadata\":{}},{\"name\":\"affiliation_city\",\"type\":\"string\",\"nullable\":true,\"metadata\":{}},{\"name\":\"affiliation_city_group\",\"type\":\"string\",\"nullable\":true,\"metadata\":{}},{\"name\":\"affiliation_country\",\"type\":\"string\",\"nullable\":true,\"metadata\":{}},{\"name\":\"affiliation_ids\",\"type\":{\"type\":\"array\",\"elementType\":\"long\",\"containsNull\":true},\"nullable\":true,\"metadata\":{}},{\"name\":\"affiliation_organization\",\"type\":{\"type\":\"array\",\"elementType\":\"string\",\"containsNull\":true},\"nullable\":true,\"metadata\":{}},{\"name\":\"affiliation_organization_count\",\"type\":\"short\",\"nullable\":true,\"metadata\":{}},{\"name\":\"affiliation_postal_code\",\"type\":\"string\",\"nullable\":true,\"metadata\":{}},{\"name\":\"affiliation_state\",\"type\":\"string\",\"nullable\":true,\"metadata\":{}},{\"name\":\"affiliation_tag_country\",\"type\":\"string\",\"nullable\":true,\"metadata\":{}},{\"name\":\"affiliation_text\",\"type\":\"string\",\"nullable\":true,\"metadata\":{}},{\"name\":\"afid\",\"type\":\"long\",\"nullable\":true,\"metadata\":{}},{\"name\":\"dptid\",\"type\":\"long\",\"nullable\":true,\"metadata\":{}}]},\"containsNull\":true}"
        },
        {
         "metadata": "{}",
         "name": "Au1",
         "type": "{\"type\":\"struct\",\"fields\":[{\"name\":\"Authorseq\",\"type\":\"integer\",\"nullable\":true,\"metadata\":{}},{\"name\":\"auid\",\"type\":\"long\",\"nullable\":true,\"metadata\":{}},{\"name\":\"author_type\",\"type\":\"string\",\"nullable\":true,\"metadata\":{}},{\"name\":\"collaboration\",\"type\":\"string\",\"nullable\":true,\"metadata\":{}},{\"name\":\"degrees\",\"type\":\"string\",\"nullable\":true,\"metadata\":{}},{\"name\":\"email_sha1\",\"type\":\"string\",\"nullable\":true,\"metadata\":{}},{\"name\":\"given_name\",\"type\":\"string\",\"nullable\":true,\"metadata\":{}},{\"name\":\"given_name_pn\",\"type\":\"string\",\"nullable\":true,\"metadata\":{}},{\"name\":\"indexed_name\",\"type\":\"string\",\"nullable\":true,\"metadata\":{}},{\"name\":\"indexed_name_pn\",\"type\":\"string\",\"nullable\":true,\"metadata\":{}},{\"name\":\"initials\",\"type\":\"string\",\"nullable\":true,\"metadata\":{}},{\"name\":\"initials_pn\",\"type\":\"string\",\"nullable\":true,\"metadata\":{}},{\"name\":\"nametext\",\"type\":\"string\",\"nullable\":true,\"metadata\":{}},{\"name\":\"orcid\",\"type\":\"string\",\"nullable\":true,\"metadata\":{}},{\"name\":\"suffix\",\"type\":\"string\",\"nullable\":true,\"metadata\":{}},{\"name\":\"surname\",\"type\":\"string\",\"nullable\":true,\"metadata\":{}},{\"name\":\"surname_pn\",\"type\":\"string\",\"nullable\":true,\"metadata\":{}}]}"
        },
        {
         "metadata": "{}",
         "name": "Au2",
         "type": "{\"type\":\"struct\",\"fields\":[{\"name\":\"Authorseq\",\"type\":\"integer\",\"nullable\":true,\"metadata\":{}},{\"name\":\"auid\",\"type\":\"long\",\"nullable\":true,\"metadata\":{}},{\"name\":\"author_type\",\"type\":\"string\",\"nullable\":true,\"metadata\":{}},{\"name\":\"collaboration\",\"type\":\"string\",\"nullable\":true,\"metadata\":{}},{\"name\":\"degrees\",\"type\":\"string\",\"nullable\":true,\"metadata\":{}},{\"name\":\"email_sha1\",\"type\":\"string\",\"nullable\":true,\"metadata\":{}},{\"name\":\"given_name\",\"type\":\"string\",\"nullable\":true,\"metadata\":{}},{\"name\":\"given_name_pn\",\"type\":\"string\",\"nullable\":true,\"metadata\":{}},{\"name\":\"indexed_name\",\"type\":\"string\",\"nullable\":true,\"metadata\":{}},{\"name\":\"indexed_name_pn\",\"type\":\"string\",\"nullable\":true,\"metadata\":{}},{\"name\":\"initials\",\"type\":\"string\",\"nullable\":true,\"metadata\":{}},{\"name\":\"initials_pn\",\"type\":\"string\",\"nullable\":true,\"metadata\":{}},{\"name\":\"nametext\",\"type\":\"string\",\"nullable\":true,\"metadata\":{}},{\"name\":\"orcid\",\"type\":\"string\",\"nullable\":true,\"metadata\":{}},{\"name\":\"suffix\",\"type\":\"string\",\"nullable\":true,\"metadata\":{}},{\"name\":\"surname\",\"type\":\"string\",\"nullable\":true,\"metadata\":{}},{\"name\":\"surname_pn\",\"type\":\"string\",\"nullable\":true,\"metadata\":{}}]}"
        },
        {
         "metadata": "{}",
         "name": "num_au",
         "type": "\"integer\""
        },
        {
         "metadata": "{}",
         "name": "Au1_id",
         "type": "\"long\""
        },
        {
         "metadata": "{}",
         "name": "Au2_id",
         "type": "\"long\""
        },
        {
         "metadata": "{}",
         "name": "Au_cor_id",
         "type": "{\"type\":\"array\",\"elementType\":\"long\",\"containsNull\":true}"
        },
        {
         "metadata": "{}",
         "name": "Au_cor_name",
         "type": "{\"type\":\"array\",\"elementType\":\"string\",\"containsNull\":true}"
        },
        {
         "metadata": "{}",
         "name": "cor1_given_name",
         "type": "\"string\""
        },
        {
         "metadata": "{}",
         "name": "cor_seq",
         "type": "{\"type\":\"array\",\"elementType\":\"integer\",\"containsNull\":true}"
        },
        {
         "metadata": "{}",
         "name": "cor_seq_first",
         "type": "\"integer\""
        },
        {
         "metadata": "{}",
         "name": "auth_seq",
         "type": "{\"type\":\"array\",\"elementType\":\"short\",\"containsNull\":true}"
        },
        {
         "metadata": "{}",
         "name": "aff_seq",
         "type": "{\"type\":\"array\",\"elementType\":\"short\",\"containsNull\":true}"
        },
        {
         "metadata": "{}",
         "name": "auth_pos",
         "type": "\"integer\""
        },
        {
         "metadata": "{}",
         "name": "aff",
         "type": "\"short\""
        },
        {
         "metadata": "{}",
         "name": "aff_val",
         "type": "{\"type\":\"struct\",\"fields\":[{\"name\":\"affiliation_address_part\",\"type\":\"string\",\"nullable\":true,\"metadata\":{}},{\"name\":\"affiliation_city\",\"type\":\"string\",\"nullable\":true,\"metadata\":{}},{\"name\":\"affiliation_city_group\",\"type\":\"string\",\"nullable\":true,\"metadata\":{}},{\"name\":\"affiliation_country\",\"type\":\"string\",\"nullable\":true,\"metadata\":{}},{\"name\":\"affiliation_ids\",\"type\":{\"type\":\"array\",\"elementType\":\"long\",\"containsNull\":true},\"nullable\":true,\"metadata\":{}},{\"name\":\"affiliation_organization\",\"type\":{\"type\":\"array\",\"elementType\":\"string\",\"containsNull\":true},\"nullable\":true,\"metadata\":{}},{\"name\":\"affiliation_organization_count\",\"type\":\"short\",\"nullable\":true,\"metadata\":{}},{\"name\":\"affiliation_postal_code\",\"type\":\"string\",\"nullable\":true,\"metadata\":{}},{\"name\":\"affiliation_state\",\"type\":\"string\",\"nullable\":true,\"metadata\":{}},{\"name\":\"affiliation_tag_country\",\"type\":\"string\",\"nullable\":true,\"metadata\":{}},{\"name\":\"affiliation_text\",\"type\":\"string\",\"nullable\":true,\"metadata\":{}},{\"name\":\"afid\",\"type\":\"long\",\"nullable\":true,\"metadata\":{}},{\"name\":\"dptid\",\"type\":\"long\",\"nullable\":true,\"metadata\":{}}]}"
        },
        {
         "metadata": "{}",
         "name": "cor_afid",
         "type": "\"long\""
        }
       ],
       "type": "table"
      }
     },
     "output_type": "display_data"
    },
    {
     "output_type": "stream",
     "name": "stdout",
     "output_type": "stream",
     "text": [
      "Out[20]: 'df_class = get_smc_classification(newdf)\\nfinal_data = get_gender(df_class)\\ndisplay(final_data.count(),\"\\n\")\\nfinal_data2 = final_data.dropna(subset=[\"doi\"])\\ndisplay(final_data2.count(),\"\\n\")\\n\\n##extracting sci_val topic for each publication\\ndf_top_eids = spark.read.format(\"parquet\").load(basePath+tablename_top_topic_eid)\\n\\nfinal_data3 = final_data2.join(df_top_eids,\\'Eid\\',\\'inner\\')\\n#display(final_data3.count())\\ndisplay(final_data3.limit(10))'"
     ]
    }
   ],
   "source": [
    "import pandas as pd\n",
    "import pyspark.sql.functions as F\n",
    "def first(lst):\n",
    "  return lst[0]\n",
    "def extract_publication_info(newdf):\n",
    "  #newdf = df_ani.limit(50)\n",
    "  newdf = newdf.select('doi','Eid','year','Au','Au_Af','Au_cors','publication_type','openaccess','issn','source','news_cnt','correspondence', 'Af')\n",
    "\n",
    "\n",
    "  newdf = newdf.withColumn('Au1', first(newdf['Au']))\n",
    "\n",
    "\n",
    "\n",
    "  newdf = newdf.withColumn('Au2', F.element_at(newdf['Au'], -1))\n",
    "\n",
    "  newdf = newdf.withColumn('num_au', F.size(newdf['Au']))\n",
    "\n",
    "  newdf = newdf.withColumn('Au1_id', F.col('Au1').getItem('auid'))\n",
    "\n",
    "  newdf = newdf.withColumn('Au2_id', F.col('Au2').getItem('auid'))\n",
    "\n",
    "  newdf = newdf.withColumn('Au_cor_id', F.col('Au_cors').getItem('auid'))\n",
    "  newdf = newdf.withColumn('Au_cor_name', F.col('Au_cors').getItem('given_name'))\n",
    "  newdf = newdf.withColumn('cor1_given_name', first(newdf['Au_cor_name']))\n",
    "\n",
    "  newdf = newdf.withColumn('cor_seq', F.col('Au_cors').getItem('Authorseq'))\n",
    "  newdf = newdf.withColumn('cor_seq_first', first(newdf['cor_seq']))\n",
    "\n",
    "  newdf = newdf.withColumn('auth_seq', F.col('Au_Af').getItem('Authorseq'))\n",
    "  newdf = newdf.withColumn('aff_seq', F.col('Au_Af').getItem('affiliation_seq'))\n",
    "  newdf = newdf.withColumn(\"auth_pos\", F.expr(\"array_position(auth_seq, cor_seq_first)\"))\n",
    "\n",
    "  newdf = newdf.withColumn(\"auth_pos\", newdf[\"auth_pos\"].cast(IntegerType()))  \n",
    "  #newdf = newdf.filter(F.col('aff_seq').isNotNull())\n",
    "  newdf = newdf.filter(F.col('auth_pos') != 0)\n",
    "  newdf = newdf.withColumn(\"aff\", F.element_at(newdf['aff_seq'], newdf['auth_pos']))\n",
    "  newdf = newdf.withColumn(\"aff_val\", F.element_at(newdf['Af'], newdf['aff']))\n",
    "  newdf = newdf.withColumn(\"cor_afid\", F.col('aff_val').getItem('afid'))\n",
    "\n",
    "\n",
    "\n",
    "  return newdf\n",
    "def get_smc_classification(newdf):\n",
    "  df_smc_ani = spark.read.format(\"parquet\").load(basePath+tablename_smc_complete)\n",
    "  newdf2 = newdf.join(df_smc_ani,'Eid', 'inner')\n",
    "  return newdf2\n",
    "\n",
    "def get_gender(newdf):\n",
    "  df_gender = spark.read.format(\"parquet\").load(basePath+tablename_gender_inference)\n",
    "  #non_null_count = newdf.where(F.col('Au1_id').isNotNull()).count()\n",
    "  mergedf = df_gender.join(newdf, newdf.Au1_id == df_gender.auid, 'inner').select(\n",
    "      df_gender.Inferred_Probable_Gender,newdf.doi,newdf.news_cnt,newdf.Au,newdf.Eid, newdf.year, newdf.publication_type,newdf.openaccess, newdf.issn, \n",
    "      newdf.num_au, newdf.Au1_id,newdf.Au2_id,newdf.Au_cor_id, newdf.srcid, newdf.subfield_article, newdf.subfield_journal, newdf.subfield_hybrid,newdf.correspondence,\n",
    "      newdf.cor1_given_name)\n",
    "  mergedf = mergedf.withColumnRenamed('Inferred_Probable_Gender', 'Au1_gender')\n",
    "\n",
    "  mergedf2 = df_gender.join(mergedf, mergedf.Au2_id == df_gender.auid, 'inner').select(\n",
    "      df_gender.Inferred_Probable_Gender, mergedf.doi,mergedf.news_cnt,mergedf.Au,mergedf.Eid, mergedf.year, mergedf.publication_type,mergedf.openaccess, mergedf.issn, \n",
    "      mergedf.num_au, mergedf.Au1_id,mergedf.Au2_id,mergedf.Au_cor_id, mergedf.srcid, mergedf.subfield_article, mergedf.subfield_journal, mergedf.subfield_hybrid, mergedf.Au1_gender,mergedf.correspondence,mergedf.cor1_given_name)\n",
    "  mergedf2 = mergedf2.withColumnRenamed('Inferred_Probable_Gender', 'Au2_gender')\n",
    "\n",
    "  #mergedf2 = mergedf2.withColumn('no_cor', F.size(mergedf2['Au_cor_id']))\n",
    "  #display(\"len os final4 \", mergedf2.count(),\"\\n\")\n",
    "\n",
    "  mergedf2 = mergedf2.withColumn('cor_au1', first(mergedf2['Au_cor_id']))\n",
    "\n",
    "  #display(final_data4.limit(20))\n",
    "\n",
    "  mergedf3 = mergedf2.filter(F.col('cor_au1').isNotNull())\n",
    "  display(\"no of not null cor au\",mergedf3.count(),\"\\n\")\n",
    "\n",
    "  mergedf4 = df_gender.join(mergedf3, mergedf3.cor_au1 == df_gender.auid, 'inner').select(\n",
    "      df_gender.Inferred_Probable_Gender, mergedf3.doi,mergedf3.news_cnt,mergedf3.Au,mergedf3.Eid, mergedf3.year, mergedf3.publication_type,mergedf3.openaccess, mergedf3.issn, \n",
    "      mergedf3.num_au, mergedf3.Au1_id,mergedf3.Au2_id,mergedf3.Au_cor_id, mergedf3.srcid, mergedf3.subfield_article, mergedf3.subfield_journal, mergedf3.subfield_hybrid, mergedf3.Au1_gender,mergedf3.Au2_gender,mergedf3.cor_au1,mergedf3.correspondence,mergedf3.cor1_given_name)\n",
    "  mergedf4 = mergedf4.withColumnRenamed('Inferred_Probable_Gender', 'cor_gender')\n",
    "\n",
    "  return mergedf4\n",
    "\n",
    "def merge_news_cnt(scop):\n",
    "  scop = scop.filter(func.col('year') >= 2018)\n",
    "  scop = scop.filter(func.col('year') <= 2022)\n",
    "  df1 = spark.read.format(\"csv\").option(\"header\", \"true\").load(\"dbfs:/FileStore/shared_uploads/arabi2@wisc.edu/doi_news_final.csv\")\n",
    "  display(\"# doi data from crossref and altmetric \",df1.count(),\"\\n\")\n",
    "  df = scop.join(df1, 'doi','inner')\n",
    "  df = df.withColumn(\"news_cnt\", df[\"news_cnt\"].cast(IntegerType()))\n",
    "  return df\n",
    "\n",
    "from pyspark.sql.functions import lower\n",
    "\n",
    "df_ani = spark.read.format(\"parquet\").load(basePath+tablename_ani)\n",
    "\n",
    "display(\"len of df_ani \",df_ani.count(),\"\\n\")\n",
    "dd = df_ani.withColumn('language', first(df_ani['meta_language']))\n",
    "d1 = dd.withColumn('language_s', lower(dd['language']))\n",
    "\n",
    "d2 = d1.filter(func.col('language_s') == 'english')\n",
    "display(\"len of df_ani in english \",d2.count(),\"\\n\")\n",
    "\n",
    "with_news = merge_news_cnt(d2)\n",
    "display(\"merged data len between crossref and scopus \",with_news.count(),\"\\n\")\n",
    "\n",
    "newdf = extract_publication_info(with_news)\n",
    "display(newdf.limit(20))\n",
    "\n",
    "'''df_class = get_smc_classification(newdf)\n",
    "final_data = get_gender(df_class)\n",
    "display(final_data.count(),\"\\n\")\n",
    "final_data2 = final_data.dropna(subset=[\"doi\"])\n",
    "display(final_data2.count(),\"\\n\")\n",
    "\n",
    "##extracting sci_val topic for each publication\n",
    "df_top_eids = spark.read.format(\"parquet\").load(basePath+tablename_top_topic_eid)\n",
    "\n",
    "final_data3 = final_data2.join(df_top_eids,'Eid','inner')\n",
    "#display(final_data3.count())\n",
    "display(final_data3.limit(10))'''"
   ]
  },
  {
   "cell_type": "code",
   "execution_count": 0,
   "metadata": {
    "application/vnd.databricks.v1+cell": {
     "cellMetadata": {
      "byteLimit": 2048000,
      "rowLimit": 10000
     },
     "inputWidgets": {},
     "nuid": "2d6cbca8-5928-4a75-a448-6128d2a402f0",
     "showTitle": false,
     "title": ""
    }
   },
   "outputs": [
    {
     "output_type": "display_data",
     "data": {
      "text/html": [
       "<style scoped>\n",
       "  .table-result-container {\n",
       "    max-height: 300px;\n",
       "    overflow: auto;\n",
       "  }\n",
       "  table, th, td {\n",
       "    border: 1px solid black;\n",
       "    border-collapse: collapse;\n",
       "  }\n",
       "  th, td {\n",
       "    padding: 5px;\n",
       "  }\n",
       "  th {\n",
       "    text-align: left;\n",
       "  }\n",
       "</style><div class='table-result-container'><table class='table-result'><thead style='background-color: white'><tr><th>afid</th><th>preferred_name</th><th>sort_name</th><th>address_part</th><th>postal_code</th><th>city</th><th>state</th><th>country</th><th>country_tag</th><th>name_variant</th><th>org_domain</th><th>org_type</th><th>parent</th><th>parent_preferred_name</th></tr></thead><tbody><tr><td>60009343</td><td>Memorial Sloan-Kettering Cancer Center</td><td>Memorial Sloan-Kettering Cancer Center</td><td>1275 York Avenue</td><td>10021</td><td>New York</td><td>NY</td><td>United States</td><td>usa</td><td>List(List(Memorial Sloan-kettering Cancer Center, 50961), List(Memorial Sloan Kettering Cancer Center, 42573), List(Mem. Sloan-kettering Cancer Center, 9608), List(Memorial Sloan-kettering Cancer Ctr., 1858), List(Sloan Kettering Institute, 1246), List(Memorial Sloan-kettering Can. Center, 1009), List(Mem. Sloan-kettering Cancer Cent., 996), List(Mem. Sloan Kettering Cancer Cent., 917), List(Mem. Sloan Kettering Cancer Center, 872), List(Sloan-kettering Institute, 659))</td><td>mskcc.org</td><td>hosp</td><td>null</td><td>null</td></tr></tbody></table></div>"
      ]
     },
     "metadata": {
      "application/vnd.databricks.v1+output": {
       "addedWidgets": {},
       "aggData": [],
       "aggError": "",
       "aggOverflow": false,
       "aggSchema": [],
       "aggSeriesLimitReached": false,
       "aggType": "",
       "arguments": {},
       "columnCustomDisplayInfos": {},
       "data": [
        [
         60009343,
         "Memorial Sloan-Kettering Cancer Center",
         "Memorial Sloan-Kettering Cancer Center",
         "1275 York Avenue",
         "10021",
         "New York",
         "NY",
         "United States",
         "usa",
         [
          [
           "Memorial Sloan-kettering Cancer Center",
           50961
          ],
          [
           "Memorial Sloan Kettering Cancer Center",
           42573
          ],
          [
           "Mem. Sloan-kettering Cancer Center",
           9608
          ],
          [
           "Memorial Sloan-kettering Cancer Ctr.",
           1858
          ],
          [
           "Sloan Kettering Institute",
           1246
          ],
          [
           "Memorial Sloan-kettering Can. Center",
           1009
          ],
          [
           "Mem. Sloan-kettering Cancer Cent.",
           996
          ],
          [
           "Mem. Sloan Kettering Cancer Cent.",
           917
          ],
          [
           "Mem. Sloan Kettering Cancer Center",
           872
          ],
          [
           "Sloan-kettering Institute",
           659
          ]
         ],
         "mskcc.org",
         "hosp",
         null,
         null
        ]
       ],
       "datasetInfos": [],
       "dbfsResultPath": null,
       "isJsonSchema": true,
       "metadata": {},
       "overflow": false,
       "plotOptions": {
        "customPlotOptions": {},
        "displayType": "table",
        "pivotAggregation": null,
        "pivotColumns": null,
        "xColumns": null,
        "yColumns": null
       },
       "removedWidgets": [],
       "schema": [
        {
         "metadata": "{}",
         "name": "afid",
         "type": "\"long\""
        },
        {
         "metadata": "{}",
         "name": "preferred_name",
         "type": "\"string\""
        },
        {
         "metadata": "{}",
         "name": "sort_name",
         "type": "\"string\""
        },
        {
         "metadata": "{}",
         "name": "address_part",
         "type": "\"string\""
        },
        {
         "metadata": "{}",
         "name": "postal_code",
         "type": "\"string\""
        },
        {
         "metadata": "{}",
         "name": "city",
         "type": "\"string\""
        },
        {
         "metadata": "{}",
         "name": "state",
         "type": "\"string\""
        },
        {
         "metadata": "{}",
         "name": "country",
         "type": "\"string\""
        },
        {
         "metadata": "{}",
         "name": "country_tag",
         "type": "\"string\""
        },
        {
         "metadata": "{}",
         "name": "name_variant",
         "type": "{\"type\":\"array\",\"elementType\":{\"type\":\"struct\",\"fields\":[{\"name\":\"name\",\"type\":\"string\",\"nullable\":true,\"metadata\":{}},{\"name\":\"numdocs\",\"type\":\"integer\",\"nullable\":true,\"metadata\":{}}]},\"containsNull\":true}"
        },
        {
         "metadata": "{}",
         "name": "org_domain",
         "type": "\"string\""
        },
        {
         "metadata": "{}",
         "name": "org_type",
         "type": "\"string\""
        },
        {
         "metadata": "{}",
         "name": "parent",
         "type": "\"string\""
        },
        {
         "metadata": "{}",
         "name": "parent_preferred_name",
         "type": "\"string\""
        }
       ],
       "type": "table"
      }
     },
     "output_type": "display_data"
    }
   ],
   "source": [
    "import pandas as pd\n",
    "import pyspark.sql.functions as F\n",
    "import pyspark.sql.column as C\n",
    "df_ipr = spark.read.format(\"parquet\").load(basePath+tablename_ipr)\n",
    "a = df_ipr.filter(F.col(\"afid\") == 60009343)\n",
    "display(a)"
   ]
  }
 ],
 "metadata": {
  "application/vnd.databricks.v1+notebook": {
   "dashboards": [],
   "environmentMetadata": null,
   "language": "python",
   "notebookMetadata": {
    "pythonIndentUnit": 2
   },
   "notebookName": "author_seniority",
   "widgets": {}
  }
 },
 "nbformat": 4,
 "nbformat_minor": 0
}
