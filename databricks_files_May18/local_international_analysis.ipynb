{
 "cells": [
  {
   "cell_type": "code",
   "execution_count": 0,
   "metadata": {
    "application/vnd.databricks.v1+cell": {
     "cellMetadata": {
      "byteLimit": 2048000,
      "rowLimit": 10000
     },
     "inputWidgets": {},
     "nuid": "208155c8-38b1-4c48-8d3f-e6935bf0d90a",
     "showTitle": false,
     "title": ""
    }
   },
   "outputs": [],
   "source": [
    "project_name = 'test_project_1'\n",
    "#permissions='default'\n",
    "permissions='fulldata'"
   ]
  },
  {
   "cell_type": "code",
   "execution_count": 0,
   "metadata": {
    "application/vnd.databricks.v1+cell": {
     "cellMetadata": {
      "byteLimit": 2048000,
      "rowLimit": 10000
     },
     "inputWidgets": {},
     "nuid": "fe7c2550-852f-43cf-b734-80e480a26cbb",
     "showTitle": false,
     "title": ""
    }
   },
   "outputs": [
    {
     "output_type": "stream",
     "name": "stdout",
     "output_type": "stream",
     "text": [
      "PROJECT DETAILS:\nProject identifier: test_project_1\nCluster data access level: fulldata\n"
     ]
    },
    {
     "output_type": "stream",
     "name": "stdout",
     "output_type": "stream",
     "text": [
      "EXECUTION DETAILS:\nSpark version: 11.3.x-scala2.12, \nCluster Node Type: i3.xlarge, \nDriver Node Type: c4.2xlarge, \nWorker Node Type: i3.xlarge\n"
     ]
    },
    {
     "output_type": "stream",
     "name": "stdout",
     "output_type": "stream",
     "text": [
      "DATA SNAPSHOT DETAILS:\nThis notebook uses the latest snapshot date for this version: \"v008.20231003094404/\", (03 October 2023)\n\n The following are the Scopus snapshot dates available for datasets at v008:\n['v008.20220314092239/', 'v008.20220906063204/', 'v008.20221021151538/', 'v008.20230509104116/', 'v008.20230821105000/', 'v008.20231003094404/']\n(If you want to use a different snapshot, in the first cell of your notebook, set the variable `custom_snapshot_date` to one of the options listed above (string data type))\n\n"
     ]
    },
    {
     "output_type": "stream",
     "name": "stdout",
     "output_type": "stream",
     "text": [
      "DATA SAMPLE DETAILS:\nSetting paths to run on full datasets (100% Scopus publication volume)\n"
     ]
    }
   ],
   "source": [
    "%run /Snippets/header_008"
   ]
  },
  {
   "cell_type": "code",
   "execution_count": 0,
   "metadata": {
    "application/vnd.databricks.v1+cell": {
     "cellMetadata": {
      "byteLimit": 2048000,
      "rowLimit": 10000
     },
     "inputWidgets": {},
     "nuid": "7e69d612-fcb0-4e55-a3b7-42ed87cf38e3",
     "showTitle": false,
     "title": ""
    }
   },
   "outputs": [
    {
     "output_type": "stream",
     "name": "stdout",
     "output_type": "stream",
     "text": [
      "Python interpreter will be restarted.\nRequirement already satisfied: markupsafe==2.0.1 in /databricks/python3/lib/python3.9/site-packages (2.0.1)\nPython interpreter will be restarted.\nPython interpreter will be restarted.\nCollecting rpy2\n  Downloading rpy2-3.5.15.tar.gz (219 kB)\n  Installing build dependencies: started\n  Installing build dependencies: finished with status 'done'\n  Getting requirements to build wheel: started\n  Getting requirements to build wheel: finished with status 'error'\n  ERROR: Command errored out with exit status 1:\n   command: /local_disk0/.ephemeral_nfs/envs/pythonEnv-56054b8c-ce8a-4704-b313-1d7f8c93fee4/bin/python /local_disk0/.ephemeral_nfs/envs/pythonEnv-56054b8c-ce8a-4704-b313-1d7f8c93fee4/lib/python3.9/site-packages/pip/_vendor/pep517/in_process/_in_process.py get_requires_for_build_wheel /tmp/tmpwfzi7b4n\n       cwd: /tmp/pip-install-o1m2mmxa/rpy2_b52ec08cec6547d0ba74e0ca4b9bba09\n  Complete output (16 lines):\n  Traceback (most recent call last):\n    File \"/local_disk0/.ephemeral_nfs/envs/pythonEnv-56054b8c-ce8a-4704-b313-1d7f8c93fee4/lib/python3.9/site-packages/pip/_vendor/pep517/in_process/_in_process.py\", line 349, in <module>\n      main()\n    File \"/local_disk0/.ephemeral_nfs/envs/pythonEnv-56054b8c-ce8a-4704-b313-1d7f8c93fee4/lib/python3.9/site-packages/pip/_vendor/pep517/in_process/_in_process.py\", line 331, in main\n      json_out['return_val'] = hook(**hook_input['kwargs'])\n    File \"/local_disk0/.ephemeral_nfs/envs/pythonEnv-56054b8c-ce8a-4704-b313-1d7f8c93fee4/lib/python3.9/site-packages/pip/_vendor/pep517/in_process/_in_process.py\", line 117, in get_requires_for_build_wheel\n      return hook(config_settings)\n    File \"/usr/local/lib/python3.9/dist-packages/setuptools/build_meta.py\", line 154, in get_requires_for_build_wheel\n      return self._get_build_requires(\n    File \"/usr/local/lib/python3.9/dist-packages/setuptools/build_meta.py\", line 135, in _get_build_requires\n      self.run_setup()\n    File \"/usr/local/lib/python3.9/dist-packages/setuptools/build_meta.py\", line 150, in run_setup\n      exec(compile(code, __file__, 'exec'), locals())\n    File \"setup.py\", line 23, in <module>\n      import setuptools.command.build\n  ModuleNotFoundError: No module named 'setuptools.command.build'\n  ----------------------------------------\nWARNING: Discarding https://files.pythonhosted.org/packages/2e/28/8d26eee985eabc9e14ab549f97da7dae99c48e46bf274a39696a867f2e34/rpy2-3.5.15.tar.gz#sha256=444fae4a84dc7f233b70eaab0aa81398ee0147c4e1ae38dd4524d779d6f25b2b (from https://pypi.org/simple/rpy2/) (requires-python:>=3.7). Command errored out with exit status 1: /local_disk0/.ephemeral_nfs/envs/pythonEnv-56054b8c-ce8a-4704-b313-1d7f8c93fee4/bin/python /local_disk0/.ephemeral_nfs/envs/pythonEnv-56054b8c-ce8a-4704-b313-1d7f8c93fee4/lib/python3.9/site-packages/pip/_vendor/pep517/in_process/_in_process.py get_requires_for_build_wheel /tmp/tmpwfzi7b4n Check the logs for full command output.\n  Downloading rpy2-3.5.14.tar.gz (219 kB)\n  Installing build dependencies: started\n  Installing build dependencies: finished with status 'done'\n  Getting requirements to build wheel: started\n  Getting requirements to build wheel: finished with status 'error'\n  ERROR: Command errored out with exit status 1:\n   command: /local_disk0/.ephemeral_nfs/envs/pythonEnv-56054b8c-ce8a-4704-b313-1d7f8c93fee4/bin/python /local_disk0/.ephemeral_nfs/envs/pythonEnv-56054b8c-ce8a-4704-b313-1d7f8c93fee4/lib/python3.9/site-packages/pip/_vendor/pep517/in_process/_in_process.py get_requires_for_build_wheel /tmp/tmpzcxhkary\n       cwd: /tmp/pip-install-o1m2mmxa/rpy2_508f2b56e9944693bb9aa3f2311e93ac\n  Complete output (16 lines):\n  Traceback (most recent call last):\n    File \"/local_disk0/.ephemeral_nfs/envs/pythonEnv-56054b8c-ce8a-4704-b313-1d7f8c93fee4/lib/python3.9/site-packages/pip/_vendor/pep517/in_process/_in_process.py\", line 349, in <module>\n      main()\n    File \"/local_disk0/.ephemeral_nfs/envs/pythonEnv-56054b8c-ce8a-4704-b313-1d7f8c93fee4/lib/python3.9/site-packages/pip/_vendor/pep517/in_process/_in_process.py\", line 331, in main\n      json_out['return_val'] = hook(**hook_input['kwargs'])\n    File \"/local_disk0/.ephemeral_nfs/envs/pythonEnv-56054b8c-ce8a-4704-b313-1d7f8c93fee4/lib/python3.9/site-packages/pip/_vendor/pep517/in_process/_in_process.py\", line 117, in get_requires_for_build_wheel\n      return hook(config_settings)\n    File \"/usr/local/lib/python3.9/dist-packages/setuptools/build_meta.py\", line 154, in get_requires_for_build_wheel\n      return self._get_build_requires(\n    File \"/usr/local/lib/python3.9/dist-packages/setuptools/build_meta.py\", line 135, in _get_build_requires\n      self.run_setup()\n    File \"/usr/local/lib/python3.9/dist-packages/setuptools/build_meta.py\", line 150, in run_setup\n      exec(compile(code, __file__, 'exec'), locals())\n    File \"setup.py\", line 23, in <module>\n      import setuptools.command.build\n  ModuleNotFoundError: No module named 'setuptools.command.build'\n  ----------------------------------------\nWARNING: Discarding https://files.pythonhosted.org/packages/30/dc/d9748ec2b61b6a1fcbaff3891961297c83cfa34c9f9984761fb6f6ae65d0/rpy2-3.5.14.tar.gz#sha256=5f46ae31d36e117be366ad4ae02493c015ac6ba59ebe3b4cd7200075332fc481 (from https://pypi.org/simple/rpy2/) (requires-python:>=3.7). Command errored out with exit status 1: /local_disk0/.ephemeral_nfs/envs/pythonEnv-56054b8c-ce8a-4704-b313-1d7f8c93fee4/bin/python /local_disk0/.ephemeral_nfs/envs/pythonEnv-56054b8c-ce8a-4704-b313-1d7f8c93fee4/lib/python3.9/site-packages/pip/_vendor/pep517/in_process/_in_process.py get_requires_for_build_wheel /tmp/tmpzcxhkary Check the logs for full command output.\n  Downloading rpy2-3.5.13.tar.gz (218 kB)\n  Installing build dependencies: started\n  Installing build dependencies: finished with status 'done'\n  Getting requirements to build wheel: started\n  Getting requirements to build wheel: finished with status 'done'\n    Preparing wheel metadata: started\n    Preparing wheel metadata: finished with status 'done'\n  WARNING: Generating metadata for package rpy2 produced metadata for project name unknown. Fix your #egg=rpy2 fragments.\nWARNING: Discarding https://files.pythonhosted.org/packages/55/43/d11bbc1e87383e8a01d74022182bc292011760a2f23c449d2c04dc1b794e/rpy2-3.5.13.tar.gz#sha256=41d037599f54336f54e754d82853fae06be9438d9fb3b514d90da74eaf328ddd (from https://pypi.org/simple/rpy2/) (requires-python:>=3.7). Requested unknown from https://files.pythonhosted.org/packages/55/43/d11bbc1e87383e8a01d74022182bc292011760a2f23c449d2c04dc1b794e/rpy2-3.5.13.tar.gz#sha256=41d037599f54336f54e754d82853fae06be9438d9fb3b514d90da74eaf328ddd has inconsistent name: filename has 'rpy2', but metadata has 'UNKNOWN'\n  Downloading rpy2-3.5.12.tar.gz (217 kB)\n  Installing build dependencies: started\n  Installing build dependencies: finished with status 'done'\n  Getting requirements to build wheel: started\n  Getting requirements to build wheel: finished with status 'done'\n    Preparing wheel metadata: started\n    Preparing wheel metadata: finished with status 'done'\n  WARNING: Generating metadata for package rpy2 produced metadata for project name unknown. Fix your #egg=rpy2 fragments.\nWARNING: Discarding https://files.pythonhosted.org/packages/5c/f2/ebeb1679b93badaffdd709b0ed4ea9a0335974fb6a2b950875ec2bf1b6bb/rpy2-3.5.12.tar.gz#sha256=eeadf794fd2aa548f88568c6a1d26e7c3810cd4a764a87b2c3b31d31942d6d45 (from https://pypi.org/simple/rpy2/) (requires-python:>=3.7). Requested unknown from https://files.pythonhosted.org/packages/5c/f2/ebeb1679b93badaffdd709b0ed4ea9a0335974fb6a2b950875ec2bf1b6bb/rpy2-3.5.12.tar.gz#sha256=eeadf794fd2aa548f88568c6a1d26e7c3810cd4a764a87b2c3b31d31942d6d45 has inconsistent name: filename has 'rpy2', but metadata has 'UNKNOWN'\n  Downloading rpy2-3.5.11.tar.gz (216 kB)\n  Installing build dependencies: started\n  Installing build dependencies: finished with status 'done'\n  Getting requirements to build wheel: started\n  Getting requirements to build wheel: finished with status 'done'\n    Preparing wheel metadata: started\n    Preparing wheel metadata: finished with status 'done'\n  WARNING: Generating metadata for package rpy2 produced metadata for project name unknown. Fix your #egg=rpy2 fragments.\nWARNING: Discarding https://files.pythonhosted.org/packages/21/83/58efe42e96397d441609e411d37392dc68198f1a2ff7663c21a1cb07e6a8/rpy2-3.5.11.tar.gz#sha256=0d3e554dac8f4e55a28932f2946341aae3e02894304e1198547222aa86b89e21 (from https://pypi.org/simple/rpy2/) (requires-python:>=3.7). Requested unknown from https://files.pythonhosted.org/packages/21/83/58efe42e96397d441609e411d37392dc68198f1a2ff7663c21a1cb07e6a8/rpy2-3.5.11.tar.gz#sha256=0d3e554dac8f4e55a28932f2946341aae3e02894304e1198547222aa86b89e21 has inconsistent name: filename has 'rpy2', but metadata has 'UNKNOWN'\n  Downloading rpy2-3.5.10.tar.gz (215 kB)\n  Installing build dependencies: started\n  Installing build dependencies: finished with status 'done'\n  Getting requirements to build wheel: started\n  Getting requirements to build wheel: finished with status 'done'\n    Preparing wheel metadata: started\n    Preparing wheel metadata: finished with status 'done'\n  WARNING: Generating metadata for package rpy2 produced metadata for project name unknown. Fix your #egg=rpy2 fragments.\nWARNING: Discarding https://files.pythonhosted.org/packages/fe/1c/18c718a1365bedc10438810637b5d735737c697998d5c163cc58edb6f1ee/rpy2-3.5.10.tar.gz#sha256=f81f0afb01e3c6f515c09573bc585c0e1c7e385ec81415ce0a62268c605ec7fc (from https://pypi.org/simple/rpy2/) (requires-python:>=3.7). Requested unknown from https://files.pythonhosted.org/packages/fe/1c/18c718a1365bedc10438810637b5d735737c697998d5c163cc58edb6f1ee/rpy2-3.5.10.tar.gz#sha256=f81f0afb01e3c6f515c09573bc585c0e1c7e385ec81415ce0a62268c605ec7fc has inconsistent name: filename has 'rpy2', but metadata has 'UNKNOWN'\n  Downloading rpy2-3.5.9.tar.gz (215 kB)\n  Installing build dependencies: started\n  Installing build dependencies: finished with status 'done'\n  Getting requirements to build wheel: started\n  Getting requirements to build wheel: finished with status 'done'\n    Preparing wheel metadata: started\n    Preparing wheel metadata: finished with status 'done'\n  WARNING: Generating metadata for package rpy2 produced metadata for project name unknown. Fix your #egg=rpy2 fragments.\nWARNING: Discarding https://files.pythonhosted.org/packages/f9/d4/f817a523c4168c826a816f89a5a080fa2fd7ad939dbfece5eb5d01235070/rpy2-3.5.9.tar.gz#sha256=89a0d7e340657795558e0db6bf9d8f1395428ba118af9023515dda928e6944f0 (from https://pypi.org/simple/rpy2/) (requires-python:>=3.7). Requested unknown from https://files.pythonhosted.org/packages/f9/d4/f817a523c4168c826a816f89a5a080fa2fd7ad939dbfece5eb5d01235070/rpy2-3.5.9.tar.gz#sha256=89a0d7e340657795558e0db6bf9d8f1395428ba118af9023515dda928e6944f0 has inconsistent name: filename has 'rpy2', but metadata has 'UNKNOWN'\n  Downloading rpy2-3.5.8.tar.gz (214 kB)\n  Installing build dependencies: started\n  Installing build dependencies: finished with status 'done'\n  Getting requirements to build wheel: started\n  Getting requirements to build wheel: finished with status 'done'\n    Preparing wheel metadata: started\n    Preparing wheel metadata: finished with status 'done'\n  WARNING: Generating metadata for package rpy2 produced metadata for project name unknown. Fix your #egg=rpy2 fragments.\nWARNING: Discarding https://files.pythonhosted.org/packages/a2/63/442160f69e1f163c24a73a3796b9ebd63c217b73941e4888734687e225d4/rpy2-3.5.8.tar.gz#sha256=22611f21bc52798087fb98309705f1a25cfbe8bfd27fbfeeea01f3d352fddb29 (from https://pypi.org/simple/rpy2/) (requires-python:>=3.7). Requested unknown from https://files.pythonhosted.org/packages/a2/63/442160f69e1f163c24a73a3796b9ebd63c217b73941e4888734687e225d4/rpy2-3.5.8.tar.gz#sha256=22611f21bc52798087fb98309705f1a25cfbe8bfd27fbfeeea01f3d352fddb29 has inconsistent name: filename has 'rpy2', but metadata has 'UNKNOWN'\n  Downloading rpy2-3.5.7.tar.gz (213 kB)\n  Installing build dependencies: started\n  Installing build dependencies: finished with status 'done'\n  Getting requirements to build wheel: started\n  Getting requirements to build wheel: finished with status 'done'\n    Preparing wheel metadata: started\n    Preparing wheel metadata: finished with status 'done'\n  WARNING: Generating metadata for package rpy2 produced metadata for project name unknown. Fix your #egg=rpy2 fragments.\nWARNING: Discarding https://files.pythonhosted.org/packages/8b/39/4a9d9e59ba062f156a642af7271bed418584406a6e65c3a23d1ded8c4a77/rpy2-3.5.7.tar.gz#sha256=87a4090379b4fc34e7f3a43471730906776c37398887086a80357d64fdd0654b (from https://pypi.org/simple/rpy2/) (requires-python:>=3.7). Requested unknown from https://files.pythonhosted.org/packages/8b/39/4a9d9e59ba062f156a642af7271bed418584406a6e65c3a23d1ded8c4a77/rpy2-3.5.7.tar.gz#sha256=87a4090379b4fc34e7f3a43471730906776c37398887086a80357d64fdd0654b has inconsistent name: filename has 'rpy2', but metadata has 'UNKNOWN'\n  Downloading rpy2-3.5.6.tar.gz (211 kB)\n  Installing build dependencies: started\n  Installing build dependencies: finished with status 'done'\n  Getting requirements to build wheel: started\n  Getting requirements to build wheel: finished with status 'done'\n    Preparing wheel metadata: started\n    Preparing wheel metadata: finished with status 'done'\n  WARNING: Generating metadata for package rpy2 produced metadata for project name unknown. Fix your #egg=rpy2 fragments.\nWARNING: Discarding https://files.pythonhosted.org/packages/ae/bd/2606e674ef0760fbe832e32274d23a9e2ca5192ab1d43a04ee5e24cf7045/rpy2-3.5.6.tar.gz#sha256=3404f1031d2d8ff8a1002656ab8e394b8ac16dd34ca43af68deed102f396e771 (from https://pypi.org/simple/rpy2/) (requires-python:>=3.7). Requested unknown from https://files.pythonhosted.org/packages/ae/bd/2606e674ef0760fbe832e32274d23a9e2ca5192ab1d43a04ee5e24cf7045/rpy2-3.5.6.tar.gz#sha256=3404f1031d2d8ff8a1002656ab8e394b8ac16dd34ca43af68deed102f396e771 has inconsistent name: filename has 'rpy2', but metadata has 'UNKNOWN'\n  Downloading rpy2-3.5.5.tar.gz (210 kB)\nRequirement already satisfied: cffi>=1.10.0 in /databricks/python3/lib/python3.9/site-packages (from rpy2) (1.14.6)\nRequirement already satisfied: jinja2 in /databricks/python3/lib/python3.9/site-packages (from rpy2) (2.11.3)\nRequirement already satisfied: pytz in /databricks/python3/lib/python3.9/site-packages (from rpy2) (2021.3)\nCollecting tzlocal\n  Downloading tzlocal-5.2-py3-none-any.whl (17 kB)\nRequirement already satisfied: pycparser in /databricks/python3/lib/python3.9/site-packages (from cffi>=1.10.0->rpy2) (2.20)\nRequirement already satisfied: MarkupSafe>=0.23 in /databricks/python3/lib/python3.9/site-packages (from jinja2->rpy2) (2.0.1)\nBuilding wheels for collected packages: rpy2\n  Building wheel for rpy2 (setup.py): started\n  Building wheel for rpy2 (setup.py): finished with status 'done'\n  Created wheel for rpy2: filename=rpy2-3.5.5-cp39-cp39-linux_x86_64.whl size=325440 sha256=44c402d020521b12cb7970bd6219ed3d47fbd6585861c52d741028aef7804d99\n  Stored in directory: /root/.cache/pip/wheels/e5/de/90/d93fad7c2f1d7164674056eae9334213cf23e02d48b14fa0f1\nSuccessfully built rpy2\nInstalling collected packages: tzlocal, rpy2\nSuccessfully installed rpy2-3.5.5 tzlocal-5.2\nPython interpreter will be restarted.\n"
     ]
    }
   ],
   "source": [
    "%pip install markupsafe==2.0.1\n",
    "%pip install rpy2"
   ]
  },
  {
   "cell_type": "code",
   "execution_count": 0,
   "metadata": {
    "application/vnd.databricks.v1+cell": {
     "cellMetadata": {},
     "inputWidgets": {},
     "nuid": "455a8522-6ea7-40f4-b912-d487bf5b21d3",
     "showTitle": false,
     "title": ""
    }
   },
   "outputs": [],
   "source": [
    "import pandas as pd\n",
    "import pyspark.sql.functions as F\n",
    "def first(lst):\n",
    "  return lst[0]\n",
    "def extract_publication_info(newdf):\n",
    "  #newdf = df_ani.limit(50)\n",
    "  newdf = newdf.select('doi','Eid','year','Au','Au_Af','Au_cors','publication_type','openaccess','issn','source','news_cnt','correspondence','Af')\n",
    "\n",
    "\n",
    "  newdf = newdf.withColumn('Au1', first(newdf['Au']))\n",
    "\n",
    "\n",
    "\n",
    "  newdf = newdf.withColumn('Au2', F.element_at(newdf['Au'], -1))\n",
    "\n",
    "  newdf = newdf.withColumn('num_au', F.size(newdf['Au']))\n",
    "\n",
    "  newdf = newdf.withColumn('Au1_id', F.col('Au1').getItem('auid'))\n",
    "\n",
    "  newdf = newdf.withColumn('Au2_id', F.col('Au2').getItem('auid'))\n",
    "\n",
    "  newdf = newdf.withColumn('Au_cor_id', F.col('Au_cors').getItem('auid'))\n",
    "  #newdf = newdf.withColumn('Au_cor_name', F.col('Au_cors').getItem('given_name'))\n",
    "  #newdf = newdf.withColumn('cor1_given_name', first(newdf['Au_cor_name']))\n",
    "\n",
    "  newdf = newdf.withColumn('cor_seq', F.col('Au_cors').getItem('Authorseq'))\n",
    "  newdf = newdf.withColumn('cor_seq_first', first(newdf['cor_seq']))\n",
    "\n",
    "  newdf = newdf.withColumn('auth_seq', F.col('Au_Af').getItem('Authorseq'))\n",
    "  newdf = newdf.withColumn('aff_seq', F.col('Au_Af').getItem('affiliation_seq'))\n",
    "  newdf = newdf.withColumn(\"auth_pos\", F.expr(\"array_position(auth_seq, cor_seq_first)\"))\n",
    "\n",
    "  newdf = newdf.withColumn(\"auth_pos\", newdf[\"auth_pos\"].cast(IntegerType()))  \n",
    "  #newdf = newdf.filter(F.col('aff_seq').isNotNull())\n",
    "  newdf = newdf.filter(F.col('auth_pos') != 0)\n",
    "  newdf = newdf.withColumn(\"aff\", F.element_at(newdf['aff_seq'], newdf['auth_pos']))\n",
    "  newdf = newdf.withColumn(\"aff_val\", F.element_at(newdf['Af'], newdf['aff']))\n",
    "  newdf = newdf.withColumn(\"cor_afid\", F.col('aff_val').getItem('afid'))\n",
    "\n",
    "  newdf = newdf.withColumn('given_seq', F.col('Au').getItem('given_name'))\n",
    "  newdf = newdf.withColumn(\"cor1_given_name\", F.element_at(newdf['given_seq'], newdf['cor_seq_first']))\n",
    "  display(newdf.limit(10))\n",
    "\n",
    "  return newdf\n",
    "def get_smc_classification(newdf):\n",
    "  df_smc_ani = spark.read.format(\"parquet\").load(basePath+tablename_smc_complete)\n",
    "  newdf2 = newdf.join(df_smc_ani,'Eid', 'inner')\n",
    "  return newdf2\n",
    "\n",
    "def get_gender(newdf):\n",
    "  df_gender = spark.read.format(\"parquet\").load(basePath+tablename_gender_inference)\n",
    "  #non_null_count = newdf.where(F.col('Au1_id').isNotNull()).count()\n",
    "  mergedf = df_gender.join(newdf, newdf.Au1_id == df_gender.auid, 'inner').select(\n",
    "      df_gender.Inferred_Probable_Gender,newdf.doi,newdf.news_cnt,newdf.Au,newdf.Eid, newdf.year, newdf.publication_type,newdf.openaccess, newdf.issn, \n",
    "      newdf.num_au, newdf.Au1_id,newdf.Au2_id,newdf.Au_cor_id, newdf.srcid, newdf.subfield_article, newdf.subfield_journal, newdf.subfield_hybrid,newdf.correspondence,\n",
    "      newdf.cor1_given_name, newdf.cor_afid)\n",
    "  mergedf = mergedf.withColumnRenamed('Inferred_Probable_Gender', 'Au1_gender')\n",
    "\n",
    "  mergedf2 = df_gender.join(mergedf, mergedf.Au2_id == df_gender.auid, 'inner').select(\n",
    "      df_gender.Inferred_Probable_Gender, mergedf.doi,mergedf.news_cnt,mergedf.Au,mergedf.Eid, mergedf.year, mergedf.publication_type,mergedf.openaccess, mergedf.issn, \n",
    "      mergedf.num_au, mergedf.Au1_id,mergedf.Au2_id,mergedf.Au_cor_id, mergedf.srcid, mergedf.subfield_article, mergedf.subfield_journal, mergedf.subfield_hybrid, mergedf.Au1_gender,mergedf.correspondence,mergedf.cor1_given_name,mergedf.cor_afid)\n",
    "  mergedf2 = mergedf2.withColumnRenamed('Inferred_Probable_Gender', 'Au2_gender')\n",
    "\n",
    "  #mergedf2 = mergedf2.withColumn('no_cor', F.size(mergedf2['Au_cor_id']))\n",
    "  #display(\"len os final4 \", mergedf2.count(),\"\\n\")\n",
    "\n",
    "  mergedf2 = mergedf2.withColumn('cor_au1', first(mergedf2['Au_cor_id']))\n",
    "\n",
    "  #display(final_data4.limit(20))\n",
    "\n",
    "  mergedf3 = mergedf2.filter(F.col('cor_au1').isNotNull())\n",
    "  display(\"no of not null cor au\",mergedf3.count(),\"\\n\")\n",
    "\n",
    "  mergedf4 = df_gender.join(mergedf3, mergedf3.cor_au1 == df_gender.auid, 'inner').select(\n",
    "      df_gender.Inferred_Probable_Gender, mergedf3.doi,mergedf3.news_cnt,mergedf3.Au,mergedf3.Eid, mergedf3.year, mergedf3.publication_type,mergedf3.openaccess, mergedf3.issn, \n",
    "      mergedf3.num_au, mergedf3.Au1_id,mergedf3.Au2_id,mergedf3.Au_cor_id, mergedf3.srcid, mergedf3.subfield_article, mergedf3.subfield_journal, mergedf3.subfield_hybrid, mergedf3.Au1_gender,mergedf3.Au2_gender,mergedf3.cor_au1,mergedf3.correspondence,mergedf3.cor1_given_name, mergedf3.cor_afid)\n",
    "  mergedf4 = mergedf4.withColumnRenamed('Inferred_Probable_Gender', 'cor_gender')\n",
    "\n",
    "  return mergedf4\n",
    "\n",
    "def merge_news_cnt(scop):\n",
    "  scop = scop.filter(func.col('year') >= 2018)\n",
    "  scop = scop.filter(func.col('year') <= 2022)\n",
    "  df1 = spark.read.format(\"csv\").option(\"header\", \"true\").load(\"dbfs:/FileStore/shared_uploads/arabi2@wisc.edu/doi_news_final.csv\")\n",
    "  display(\"# doi data from crossref and altmetric \",df1.count(),\"\\n\")\n",
    "  df = scop.join(df1, 'doi','inner')\n",
    "  df = df.withColumn(\"news_cnt\", df[\"news_cnt\"].cast(IntegerType()))\n",
    "  return df\n",
    "\n",
    "from pyspark.sql.functions import lower\n",
    "\n",
    "df_ani = spark.read.format(\"parquet\").load(basePath+tablename_ani)\n",
    "\n",
    "display(\"len of df_ani \",df_ani.count(),\"\\n\")\n",
    "dd = df_ani.withColumn('language', first(df_ani['meta_language']))\n",
    "d1 = dd.withColumn('language_s', lower(dd['language']))\n",
    "\n",
    "d2 = d1.filter(func.col('language_s') == 'english')\n",
    "display(\"len of df_ani in english \",d2.count(),\"\\n\")\n",
    "\n",
    "with_news = merge_news_cnt(d2)\n",
    "display(\"merged data len between crossref and scopus \",with_news.count(),\"\\n\")\n",
    "\n",
    "newdf = extract_publication_info(with_news)\n",
    "\n",
    "df_class = get_smc_classification(newdf)\n",
    "final_data = get_gender(df_class)\n",
    "display(final_data.count(),\"\\n\")\n",
    "final_data2 = final_data.dropna(subset=[\"doi\"])\n",
    "display(final_data2.count(),\"\\n\")\n",
    "\n",
    "##extracting sci_val topic for each publication\n",
    "df_top_eids = spark.read.format(\"parquet\").load(basePath+tablename_top_topic_eid)\n",
    "\n",
    "final_data3 = final_data2.join(df_top_eids,'Eid','inner')\n",
    "#display(final_data3.count())\n",
    "display(final_data3.limit(10))\n",
    "\n",
    "\n",
    "import pyspark.sql.functions as F\n",
    "import pyspark.sql.column as C\n",
    "\n",
    "def find_sjr(met,yy,yr):\n",
    "\n",
    "  ylst = F.tolist(yy)\n",
    "\n",
    "  #index = ylst.index(yr)\n",
    "  #sjr = m[index]\n",
    "  return m\n",
    "\n",
    "\n",
    "df_sources = spark.read.format(\"parquet\").load(basePath+tablename_sources)\n",
    "\n",
    "data = final_data3.join(df_sources,'srcid','inner').select(df_sources.metrics_calculations,df_sources.sourcetitle,df_sources.openaccess_status,final_data3.srcid,final_data3.doi,final_data3.news_cnt,final_data3.year,\n",
    "final_data3.publication_type, final_data3.issn, final_data3.num_au,final_data3.Au1_id, final_data3.subfield_article,final_data3.subfield_journal, final_data3.Au1_gender,final_data3.TopicId, \n",
    "final_data3.cor_gender,final_data3.cor_au1,final_data3.correspondence, final_data3.cor1_given_name, final_data3.cor_afid)\n",
    "\n",
    "display(\"len of merged data between src \", data.count(),\"\\n\")\n",
    "\n",
    "data = data.withColumn('SJR_lst', F.col('metrics_calculations').getItem('SJR'))\n",
    "data = data.withColumn('year_SJR', F.col('metrics_calculations').getItem('year'))\n",
    "\n",
    "#data = data.withColumn('SJR', find_sjr(data['SJR_lst'],data['year_SJR'], data['year']))\n",
    "data = data.withColumn(\"pos\", F.expr(\"array_position(year_SJR, year)\"))\n",
    "\n",
    "\n",
    "data = data.withColumn(\"pos\", data[\"pos\"].cast(IntegerType()))  \n",
    "data = data.withColumn(\"SJR\", F.element_at(data['SJR_lst'], data['pos']))\n",
    "\n",
    "data = data.withColumn('cor_af', first(data['correspondence']))\n",
    "data = data.withColumn('cor_coun', F.col('cor_af').getItem('country'))\n",
    "\n",
    "\n",
    "\n",
    "import pycountry\n",
    "import pyspark.sql.functions as F\n",
    "\n",
    "def convert_country_short_name(country_short_name):\n",
    "  #country = pycountry.countries.get(alpha_2=country_short_name)\n",
    "  if len(country_short_name) == 3:\n",
    "    country = pycountry.countries.get(alpha_3=country_short_name)\n",
    "  else:\n",
    "    country = pycountry.countries.get(alpha_2=country_short_name)\n",
    "\n",
    "  return country.name if country else None\n",
    "\n",
    "@F.udf(returnType=F.StringType())\n",
    "def my_udf(country_short_name):\n",
    "  return convert_country_short_name(country_short_name)\n",
    "\n",
    "data = data.filter(F.col('cor_coun').isNotNull())\n",
    "data = data.withColumn(\"country_name\", my_udf(data[\"cor_coun\"]))\n",
    "#un_full_coun = un_name.withColumn(\"country_name\", my_udf(un_name[\"cor_coun\"]))\n",
    "\n",
    "df_ipr = spark.read.format(\"parquet\").load(basePath+tablename_ipr)\n",
    "data = data.join(df_ipr,[data.cor_afid == df_ipr.afid],'inner')\n",
    "display(data.limit(10))\n",
    "\n",
    "val_data = data.filter(func.col('cor_gender') != 'unknown')\n",
    "\n",
    "#val_un = data.filter(func.col('cor_gender') == 'unknown')\n",
    "\n",
    "\n",
    "\n",
    "display(\"len of data whose cor_gender is not unknown \",val_data.count(),\"\\n\")\n",
    "\n",
    "display(val_data.limit(5),\"\\n\")\n",
    "\n",
    "\n",
    "#val_un = data.filter(func.col('cor_gender') == 'unknown')\n",
    "df_apr = spark.read.format(\"parquet\").load(basePath+tablename_apr)\n",
    "#un_full_coun = val_un.join(df_apr,val_un.cor_au1 == df_apr.auid,'inner')\n",
    "un_full_coun = data.filter(func.col('cor_gender') == 'unknown')\n",
    "\n",
    "display(\"len of unknown name \", un_full_coun.count(),\"\\n\")\n",
    "un_full_coun = un_full_coun.filter(F.col('cor1_given_name').isNotNull())\n",
    "un_full_coun = un_full_coun.filter(F.col('country_name').isNotNull())\n",
    "display(\"len of unknown name after dropping null country and given name \", un_full_coun.count(),\"\\n\")\n",
    "df_wos = spark.read.format(\"csv\").option(\"header\", \"true\").load(\"dbfs:/FileStore/shared_uploads/arabi2@wisc.edu/wos_gender_firstname.csv\")\n",
    "#df_wos.printSchema()\n",
    "#df_wos = df_wos.filter(func.col('country') == 'China')\n",
    "newfile = un_full_coun.join(df_wos,[un_full_coun.cor1_given_name == df_wos.givenname,un_full_coun.country_name == df_wos.country],'inner')\n",
    "display(\"len or merged gender with wos \", newfile.count(),\"\\n\")"
   ]
  },
  {
   "cell_type": "code",
   "execution_count": 0,
   "metadata": {
    "application/vnd.databricks.v1+cell": {
     "cellMetadata": {},
     "inputWidgets": {},
     "nuid": "26416ced-d66e-4b90-b2c1-d19aa67d1efd",
     "showTitle": false,
     "title": ""
    }
   },
   "outputs": [],
   "source": [
    "ddf2 = newfile.drop(\"cor_gender\")\n",
    "ddf3 = ddf2.withColumnRenamed(\"gender\", \"cor_gender\")\n",
    "#ddf3.printSchema()\n",
    "#display(ddf3.select('cor_gender').distinct())\n",
    "ddf4 = ddf3.select('srcid','openaccess_status','doi','news_cnt','year','issn','num_au','cor_gender','TopicId','Au1_gender','country_name','SJR','subfield_article','preferred_name','org_type', 'cor_au1').toPandas()\n",
    "print(ddf4.head(5)) \n",
    "\n",
    "ddfx = val_data.select('srcid','openaccess_status','doi','news_cnt','year','issn','num_au','cor_gender','TopicId','Au1_gender','country_name','SJR','subfield_article','preferred_name','org_type','cor_au1').toPandas()\n",
    "display(len(ddfx),\"\\n\")\n",
    "display(len(ddf4),\"\\n\")\n",
    "ddf = ddfx.append(ddf4, ignore_index = True)\n",
    "display(len(ddf),\"\\n\")"
   ]
  },
  {
   "cell_type": "code",
   "execution_count": 0,
   "metadata": {
    "application/vnd.databricks.v1+cell": {
     "cellMetadata": {},
     "inputWidgets": {},
     "nuid": "8c5d363a-7bdd-43ad-b598-8c8194e4598f",
     "showTitle": false,
     "title": ""
    }
   },
   "outputs": [],
   "source": [
    "###new version\n",
    "smc = spark.read.format(\"csv\").option(\"header\", \"true\").load(\"dbfs:/FileStore/shared_uploads/arabi2@wisc.edu/sm_journal_classification.csv\")\n",
    "smc = smc.select('Domain_English','Field_English','SubField_English').toPandas()\n",
    "smc = smc.dropna()\n",
    "smc = smc.drop_duplicates()\n",
    "print(len(smc))\n",
    "smc['SubField_English'] = smc['SubField_English'].str.lower()\n",
    "ddf['subfield_article'] = ddf['subfield_article'].str.lower()\n",
    "\n",
    "#print(smc.dtypes)\n",
    "total = smc.merge(ddf,left_on='SubField_English',right_on = 'subfield_article',how = 'inner')\n",
    "print(len(total))"
   ]
  },
  {
   "cell_type": "code",
   "execution_count": 0,
   "metadata": {
    "application/vnd.databricks.v1+cell": {
     "cellMetadata": {},
     "inputWidgets": {},
     "nuid": "0f3f2e7d-869d-48ab-a8d8-a2a8f0348828",
     "showTitle": false,
     "title": ""
    }
   },
   "outputs": [],
   "source": [
    "us = total[total['country_name'] == 'United States']\n",
    "print(len(us))\n",
    "us.to_csv(\"/dbfs/FileStore/shared_uploads/arabi2@wisc.edu/us_media_analysis.csv\", index = False)"
   ]
  },
  {
   "cell_type": "markdown",
   "metadata": {
    "application/vnd.databricks.v1+cell": {
     "cellMetadata": {},
     "inputWidgets": {},
     "nuid": "82bb6b69-e408-4642-8260-6e4d616c44e3",
     "showTitle": false,
     "title": ""
    }
   },
   "source": [
    "## merge the github and media file with us data"
   ]
  },
  {
   "cell_type": "code",
   "execution_count": 0,
   "metadata": {
    "application/vnd.databricks.v1+cell": {
     "cellMetadata": {
      "byteLimit": 2048000,
      "rowLimit": 10000
     },
     "inputWidgets": {},
     "nuid": "25cf37c5-59c3-457e-bf17-945b402d11d3",
     "showTitle": false,
     "title": ""
    }
   },
   "outputs": [
    {
     "output_type": "stream",
     "name": "stdout",
     "output_type": "stream",
     "text": [
      "number of unique doi in cited us data  129439\nlength of total data  1014175\nlength of total cited data  129451\nlength of data after removing retracted ids  129440\ntotal mention  1405538\nlen of total after dropping duplicate doi  129428\n1405448\n129428\n5113\nDomain_English        object\nField_English         object\nSubField_English      object\nsrcid                  int64\nopenaccess_status     object\ndoi                   object\nnews_cnt               int64\nyear                   int64\nissn                  object\nnum_au                 int64\ncor_gender            object\nTopicId                int64\nAu1_gender            object\ncountry_name          object\nSJR                  float64\nsubfield_article      object\npreferred_name        object\norg_type              object\ncor_au1                int64\nmedia                 object\nis_top                object\ndtype: object\nnew_total after droppimg duplicate doi-media pair 1195149\nmedia github len  708\n708\n647\n366164\n674\n631\nxxx  61596\n361120\n361120\n662\n631\nxxx  61596\n"
     ]
    }
   ],
   "source": [
    "import pandas as pd\n",
    "\n",
    "#load the saved us data\n",
    "t = pd.read_csv(\"/dbfs/FileStore/shared_uploads/arabi2@wisc.edu/us_media_analysis.csv\")\n",
    "\n",
    "ff = t[t['news_cnt'] > 0]\n",
    "print(\"number of unique doi in cited us data \",ff['doi'].nunique())\n",
    "print(\"length of total data \",len(t))\n",
    "print(\"length of total cited data \",len(ff))\n",
    "\n",
    "#remove the retracted dois\n",
    "ret = spark.read.format(\"csv\").option(\"header\", \"true\").load(\"dbfs:/FileStore/shared_uploads/arabi2@wisc.edu/retrected_doi_wos.csv\")\n",
    "retracted = ret.select('doi').toPandas()\n",
    "ids_to_remove = retracted['doi']\n",
    "total = ff[~ff['doi'].isin(ids_to_remove)]\n",
    "print(\"length of data after removing retracted ids \",len(total))\n",
    "print(\"total mention \",total['news_cnt'].sum())\n",
    "total = total.drop_duplicates(subset = ['doi'])\n",
    "print(\"len of total after dropping duplicate doi \",len(total))\n",
    "\n",
    "#merge dois with the media outlet names\n",
    "m = spark.read.format(\"csv\").option(\"header\", \"true\").load(\"dbfs:/FileStore/shared_uploads/arabi2@wisc.edu/doi_media_for_databricks.csv\")\n",
    "media = m.toPandas()\n",
    "new_total =total.merge(media, on = ['doi'], how = 'inner') \n",
    "print(len(new_total))\n",
    "print(new_total['doi'].nunique())\n",
    "print(new_total['media'].nunique())\n",
    "print(new_total.dtypes)\n",
    "new_total = new_total.drop_duplicates(subset = ['doi','media'])\n",
    "print(\"new_total after droppimg duplicate doi-media pair\",len(new_total))\n",
    "\n",
    "\n",
    "media_github = spark.read.format(\"csv\").option(\"header\", \"true\").load(\"dbfs:/FileStore/shared_uploads/arabi2@wisc.edu/media_class_github3.csv\")\n",
    "media_github = media_github.toPandas()\n",
    "media_github['media'] = media_github['media'].str.strip()\n",
    "print(\"media github len \",len(media_github))\n",
    "print(media_github['media'].nunique())\n",
    "print(media_github['git'].nunique())\n",
    "\n",
    "\n",
    "new_total['media'] = new_total['media'].str.strip()\n",
    "\n",
    "merged = new_total.merge(media_github, on = ['media'], how = \"inner\")\n",
    "\n",
    "print(len(merged))\n",
    "print(merged['media'].nunique())\n",
    "print(merged['git'].nunique())\n",
    "print(\"xxx \", merged['doi'].nunique())\n",
    "\n",
    "###new\n",
    "merged = merged.drop_duplicates(subset = ['doi','git'])\n",
    "print(len(merged))\n",
    "merged = merged.drop_duplicates(subset = ['doi','media'])\n",
    "print(len(merged))\n",
    "print(merged['media'].nunique())\n",
    "print(merged['git'].nunique())\n",
    "print(\"xxx \", merged['doi'].nunique())\n"
   ]
  },
  {
   "cell_type": "markdown",
   "metadata": {
    "application/vnd.databricks.v1+cell": {
     "cellMetadata": {
      "byteLimit": 2048000,
      "rowLimit": 10000
     },
     "inputWidgets": {},
     "nuid": "18028655-6ad5-4026-9225-892d43006fab",
     "showTitle": false,
     "title": ""
    }
   },
   "source": [
    "#### create table of doi, local_count, national_count, international_count"
   ]
  },
  {
   "cell_type": "code",
   "execution_count": 0,
   "metadata": {
    "application/vnd.databricks.v1+cell": {
     "cellMetadata": {
      "byteLimit": 2048000,
      "rowLimit": 10000
     },
     "inputWidgets": {},
     "nuid": "68734f40-753e-4eae-9354-b97a2e7d1f9f",
     "showTitle": false,
     "title": ""
    }
   },
   "outputs": [
    {
     "output_type": "stream",
     "name": "stdout",
     "output_type": "stream",
     "text": [
      "media    object\ncount    object\ndtype: object\n              media count\n102     livescience   812\n103  chemistryviews   799\n104       canaltech   787\n"
     ]
    }
   ],
   "source": [
    "special = spark.read.format(\"csv\").option(\"header\", \"true\").load(\"dbfs:/FileStore/shared_uploads/arabi2@wisc.edu/specialty_picked.csv\")\n",
    "special = special.toPandas()\n",
    "print(special.dtypes)\n",
    "print(special.tail(3))\n",
    "\n",
    "##sanity check: special should have no intersection with merged\n",
    "a = set(special['media'])\n",
    "b = set(merged['media'])\n",
    "#print(a.intersection(b))\n",
    "for i in a:\n",
    "    if i in b:\n",
    "        print(\"ohh no\")"
   ]
  },
  {
   "cell_type": "code",
   "execution_count": 0,
   "metadata": {
    "application/vnd.databricks.v1+cell": {
     "cellMetadata": {
      "byteLimit": 2048000,
      "rowLimit": 10000
     },
     "inputWidgets": {},
     "nuid": "cd6d0551-a093-4ca9-adec-3438492d1840",
     "showTitle": false,
     "title": ""
    }
   },
   "outputs": [
    {
     "output_type": "stream",
     "name": "stdout",
     "output_type": "stream",
     "text": [
      "                media  cc\n0         eurekalert!   1\n1       medicalxpress   1\n2        sciencedaily   1\n3      themedicalnews   1\n4   medicalhealthnews   1\n5         docwirenews   1\n6            scienmag   1\n7            medscape   1\n8               drugs   1\n9  technologynetworks   1\n105\n105\n"
     ]
    }
   ],
   "source": [
    "\n",
    "special = special.drop(columns = ['count'], axis = 1)\n",
    "special['cc'] = 1\n",
    "print(special.head(10))\n",
    "print(len(special))\n",
    "print(special['media'].nunique())"
   ]
  },
  {
   "cell_type": "code",
   "execution_count": 0,
   "metadata": {
    "application/vnd.databricks.v1+cell": {
     "cellMetadata": {
      "byteLimit": 2048000,
      "rowLimit": 10000
     },
     "inputWidgets": {},
     "nuid": "b366223f-68b3-42ad-ada4-ada5d2cc2407",
     "showTitle": false,
     "title": ""
    }
   },
   "outputs": [
    {
     "output_type": "stream",
     "name": "stdout",
     "output_type": "stream",
     "text": [
      "323973   96724   105  ***** \n129428  special  96724\nlen of total table  129428\nlen of total doi count  129428\ndoi                    0\ntotal_count            0\nlocal_count            0\nnational_count         0\ninternational_count    0\nsp_count               0\ndtype: int64\n17412\n                            doi  total_count  local_count  national_count  \\\n0     10.1038/s41591-020-0820-9          755        101.0            67.0   \n1    10.1038/s42003-022-03334-8          710         87.0            31.0   \n2       10.1126/science.abj0016          640         93.0            64.0   \n3  10.1016/j.icarus.2021.114594          602         86.0            25.0   \n4       10.1126/science.abb5793          601        119.0            52.0   \n5    10.1038/s41558-022-01426-1          572         84.0            26.0   \n6       10.1126/science.aap9559          568         78.0            62.0   \n7        10.1126/sciadv.abd3083          552         64.0            45.0   \n8    10.1038/s41591-022-01689-3          550         54.0            29.0   \n9    10.1038/s41586-022-04788-w          549         92.0            28.0   \n\n   international_count  sp_count  \n0                 27.0      43.0  \n1                 17.0      27.0  \n2                 23.0      39.0  \n3                 14.0      15.0  \n4                 23.0      40.0  \n5                  9.0      35.0  \n6                 23.0      30.0  \n7                  9.0      38.0  \n8                 17.0      44.0  \n9                 15.0      35.0  \n"
     ]
    }
   ],
   "source": [
    "#create table od doi vs total_mention\n",
    "import numpy as np\n",
    "dummy = merged.copy()\n",
    "\n",
    "nt = new_total.drop_duplicates(subset = ['doi','media'])\n",
    "doi_total = nt['doi'].value_counts().reset_index()\n",
    "doi_total.columns = ['doi','total_count']\n",
    "\n",
    "#doi_total = dummy['doi'].value_counts().reset_index()\n",
    "#doi_total.columns = ['doi','total_count']\n",
    "\n",
    "#create table for special\n",
    "sp = special.merge(nt, on = ['media'],how = 'inner')\n",
    "print(len(sp),\" \",sp['doi'].nunique(),\" \",sp['media'].nunique(),\" ***** \")\n",
    "doi_sp = sp['doi'].value_counts().reset_index()\n",
    "doi_sp.columns = ['doi','sp_count']\n",
    "print(nt['doi'].nunique(),\" special \",sp['doi'].nunique())\n",
    "\n",
    "#create table for doi vs local_mention\n",
    "local = dummy[dummy['type'] == \"local\"]\n",
    "doi_local = local['doi'].value_counts().reset_index()\n",
    "doi_local.columns = ['doi','local_count']\n",
    "\n",
    "#create table for doi vs national_mention\n",
    "nat = dummy[dummy['type'] == \"national\"]\n",
    "doi_nat = nat['doi'].value_counts().reset_index()\n",
    "doi_nat.columns = ['doi','national_count']\n",
    "\n",
    "#create table for doi vs international_mention\n",
    "internat = dummy[dummy['type'] == \"international\"]\n",
    "doi_internat = internat['doi'].value_counts().reset_index()\n",
    "doi_internat.columns = ['doi','international_count']\n",
    "\n",
    "merge1 = doi_total.merge(doi_local, on = ['doi'], how  = \"left\")\n",
    "\n",
    "merge2 = merge1.merge(doi_nat, on = ['doi'], how  = \"left\")\n",
    "\n",
    "merge3 = merge2.merge(doi_internat, on = ['doi'], how  = \"left\")\n",
    "\n",
    "merge4 = merge3.merge(doi_sp, on = ['doi'], how  = \"left\")\n",
    "\n",
    "print(\"len of total table \",len(merge4))\n",
    "print(\"len of total doi count \",len(doi_total))\n",
    "\n",
    "merge4['local_count'] = merge4['local_count'].replace(np.nan, 0)\n",
    "merge4['national_count'] = merge4['national_count'].replace(np.nan, 0)\n",
    "merge4['international_count'] = merge4['international_count'].replace(np.nan, 0)\n",
    "merge4['sp_count'] = merge4['sp_count'].replace(np.nan, 0)\n",
    "\n",
    "print(merge4.isna().sum())\n",
    "\n",
    "xx = merge4[merge4['local_count'] == 0]\n",
    "xx = xx[xx['national_count'] == 0]\n",
    "xx = xx[xx['international_count'] == 0]\n",
    "xx = xx[xx['sp_count'] == 0]\n",
    "print(len(xx))\n",
    "\n",
    "print(merge4.head(10))"
   ]
  },
  {
   "cell_type": "code",
   "execution_count": 0,
   "metadata": {
    "application/vnd.databricks.v1+cell": {
     "cellMetadata": {
      "byteLimit": 2048000,
      "rowLimit": 10000
     },
     "inputWidgets": {},
     "nuid": "1e1fa704-c4d5-45c2-b511-2c915398d51a",
     "showTitle": false,
     "title": ""
    }
   },
   "outputs": [
    {
     "output_type": "stream",
     "name": "stdout",
     "output_type": "stream",
     "text": [
      "14\n14\n"
     ]
    }
   ],
   "source": [
    "x = merged[merged['doi'] == \"10.1016/j.icarus.2021.114594\"]\n",
    "x = x[x['type'] == \"international\"]\n",
    "print(len(x))\n",
    "print(x['media'].nunique())"
   ]
  },
  {
   "cell_type": "code",
   "execution_count": 0,
   "metadata": {
    "application/vnd.databricks.v1+cell": {
     "cellMetadata": {
      "byteLimit": 2048000,
      "rowLimit": 10000
     },
     "inputWidgets": {},
     "nuid": "ce1a9c68-0584-46c0-ad3a-29497e24650a",
     "showTitle": false,
     "title": ""
    }
   },
   "outputs": [
    {
     "output_type": "stream",
     "name": "stdout",
     "output_type": "stream",
     "text": [
      "43\n43\n"
     ]
    }
   ],
   "source": [
    "x = sp[sp['doi'] == \"10.1038/s41591-020-0820-9\"]\n",
    "print(len(x))\n",
    "print(x['media'].nunique())\n",
    "#print(x.head(10))"
   ]
  },
  {
   "cell_type": "code",
   "execution_count": 0,
   "metadata": {
    "application/vnd.databricks.v1+cell": {
     "cellMetadata": {
      "byteLimit": 2048000,
      "rowLimit": 10000
     },
     "inputWidgets": {},
     "nuid": "d7b56a6a-9de4-482a-b1e8-8c71d006c39e",
     "showTitle": false,
     "title": ""
    }
   },
   "outputs": [],
   "source": [
    "cat = []\n",
    "for ind in merge4.index:\n",
    "  if merge4['local_count'][ind] > 0 and merge4['national_count'][ind] > 0 and merge4['international_count'][ind] > 0:\n",
    "    cat.append(\"all\")\n",
    "  elif merge4['local_count'][ind] > 0 and merge4['national_count'][ind] > 0 and merge4['international_count'][ind] <= 0:\n",
    "    cat.append(\"local:nat\")\n",
    "\n",
    "  elif merge4['local_count'][ind] > 0 and merge4['national_count'][ind] <= 0 and merge4['international_count'][ind] > 0:\n",
    "    cat.append(\"local:inter\")\n",
    "\n",
    "  elif merge4['local_count'][ind] <= 0 and merge4['national_count'][ind] > 0 and merge4['international_count'][ind] > 0:\n",
    "    cat.append(\"nat:inter\")\n",
    "\n",
    "  elif merge4['local_count'][ind] > 0 and merge4['national_count'][ind] <= 0 and merge4['international_count'][ind] <= 0:\n",
    "    cat.append(\"local\")\n",
    "\n",
    "  elif merge4['local_count'][ind] <= 0 and merge4['national_count'][ind] > 0 and merge4['international_count'][ind] <= 0:\n",
    "    cat.append(\"national\")\n",
    "\n",
    "  elif merge4['local_count'][ind] <= 0 and merge4['national_count'][ind] <= 0 and merge4['international_count'][ind] > 0:\n",
    "    cat.append(\"inter\")\n",
    "\n",
    "  elif merge4['local_count'][ind] <= 0 and merge4['national_count'][ind] <= 0 and merge4['international_count'][ind] <= 0:\n",
    "    cat.append(\"0\")\n",
    "\n",
    "merge4['cat'] = cat"
   ]
  },
  {
   "cell_type": "code",
   "execution_count": 0,
   "metadata": {
    "application/vnd.databricks.v1+cell": {
     "cellMetadata": {
      "byteLimit": 2048000,
      "rowLimit": 10000
     },
     "inputWidgets": {},
     "nuid": "f448cc2e-829c-4edf-a911-e56ac9078065",
     "showTitle": false,
     "title": ""
    }
   },
   "outputs": [
    {
     "output_type": "stream",
     "name": "stdout",
     "output_type": "stream",
     "text": [
      "129428\n129428\nunique doi  129428\ndoi                     object\ntotal_count              int64\nlocal_count            float64\nnational_count         float64\ninternational_count    float64\nsp_count               float64\ncat                     object\nDomain_English          object\nField_English           object\nSubField_English        object\nsrcid                    int64\nopenaccess_status       object\nnews_cnt                 int64\nyear                     int64\nissn                    object\nnum_au                   int64\ncor_gender              object\nTopicId                  int64\nAu1_gender              object\ncountry_name            object\nSJR                    float64\nsubfield_article        object\npreferred_name          object\norg_type                object\ncor_au1                  int64\ndtype: object\n"
     ]
    }
   ],
   "source": [
    "print(len(merge4))\n",
    "tot = merge4.merge(total,on=['doi'],how = \"inner\")\n",
    "print(len(tot))\n",
    "print(\"unique doi \",tot['doi'].nunique())\n",
    "print(tot.dtypes)"
   ]
  },
  {
   "cell_type": "code",
   "execution_count": 0,
   "metadata": {
    "application/vnd.databricks.v1+cell": {
     "cellMetadata": {
      "byteLimit": 2048000,
      "rowLimit": 10000
     },
     "inputWidgets": {},
     "nuid": "4585048b-1e29-4662-95f3-1ce69bdd95cf",
     "showTitle": false,
     "title": ""
    }
   },
   "outputs": [],
   "source": [
    "sep = tot.copy(deep = True)\n",
    "bin_loc, bin_nat, bin_int, bin_sp = [],[],[],[]\n",
    "for ind in sep.index:\n",
    "  if sep['local_count'][ind] > 0:\n",
    "    bin_loc.append(1)\n",
    "  else:\n",
    "    bin_loc.append(0)\n",
    "  if sep['national_count'][ind] > 0:\n",
    "    bin_nat.append(1)\n",
    "  else:\n",
    "    bin_nat.append(0)\n",
    "  if sep['international_count'][ind] > 0:\n",
    "    bin_int.append(1)\n",
    "  else:\n",
    "    bin_int.append(0)\n",
    "  if sep['sp_count'][ind] > 0:\n",
    "    bin_sp.append(1)\n",
    "  else:\n",
    "    bin_sp.append(0)\n",
    "sep['bin_loc'] = bin_loc\n",
    "sep['bin_nat'] = bin_nat\n",
    "sep['bin_int'] = bin_int\n",
    "sep['bin_sp'] = bin_sp"
   ]
  },
  {
   "cell_type": "code",
   "execution_count": 0,
   "metadata": {
    "application/vnd.databricks.v1+cell": {
     "cellMetadata": {
      "byteLimit": 2048000,
      "rowLimit": 10000
     },
     "inputWidgets": {},
     "nuid": "3291d8dc-f030-4c09-9178-b49c45ba8bc2",
     "showTitle": false,
     "title": ""
    }
   },
   "outputs": [
    {
     "output_type": "stream",
     "name": "stdout",
     "output_type": "stream",
     "text": [
      "129428\n17412\n"
     ]
    }
   ],
   "source": [
    "xx = sep[sep['bin_loc'] == 0]\n",
    "xx = xx[xx['bin_int'] == 0]\n",
    "xx = xx[xx['bin_nat'] == 0]\n",
    "xx = xx[xx['bin_sp'] == 0]\n",
    "\n",
    "print(len(sep))\n",
    "print(len(xx))"
   ]
  },
  {
   "cell_type": "code",
   "execution_count": 0,
   "metadata": {
    "application/vnd.databricks.v1+cell": {
     "cellMetadata": {
      "byteLimit": 2048000,
      "rowLimit": 10000
     },
     "inputWidgets": {},
     "nuid": "d5cc582e-8be0-4e64-bc45-2b283b06a0d6",
     "showTitle": false,
     "title": ""
    }
   },
   "outputs": [
    {
     "output_type": "stream",
     "name": "stdout",
     "output_type": "stream",
     "text": [
      "129428\n1\nsum of sum  610044.0\n129428\n112016\n17412\n"
     ]
    }
   ],
   "source": [
    "'''col = 0\n",
    "for ind in merge4.index:\n",
    "    if merge4['bin_int'][ind] == 1 or sep['bin_nat'][ind]==1 or sep['bin_loc'][ind]==1:\n",
    "        col+=1\n",
    "print(col) '''\n",
    "\n",
    "print(len(merge4))\n",
    "print(merge4['total_count'].min())\n",
    "testing = merge4.copy()\n",
    "testing['sum'] = testing['local_count'] + testing['national_count'] + testing['international_count'] + testing['sp_count']\n",
    "print(\"sum of sum \",testing['sum'].sum())\n",
    "print(len(testing[testing['sum'] <= testing['total_count']]))\n",
    "print(len(testing[testing['sum'] > 0]))\n",
    "\n",
    "not_mat = testing[testing['sum'] <= 0]\n",
    "print(len(not_mat))\n",
    "#print(len(not_mat[not_mat['sp_count'] >0]))"
   ]
  },
  {
   "cell_type": "code",
   "execution_count": 0,
   "metadata": {
    "application/vnd.databricks.v1+cell": {
     "cellMetadata": {
      "byteLimit": 2048000,
      "rowLimit": 10000
     },
     "inputWidgets": {},
     "nuid": "6dbe1147-cc37-44bc-9ee2-7e8b9bb3aa1f",
     "showTitle": false,
     "title": ""
    }
   },
   "outputs": [
    {
     "output_type": "stream",
     "name": "stdout",
     "output_type": "stream",
     "text": [
      "59872\n"
     ]
    }
   ],
   "source": [
    "dd = merged.dropna(subset = [\"type\"])\n",
    "print(dd['doi'].nunique()) "
   ]
  },
  {
   "cell_type": "code",
   "execution_count": 0,
   "metadata": {
    "application/vnd.databricks.v1+cell": {
     "cellMetadata": {
      "byteLimit": 2048000,
      "rowLimit": 10000
     },
     "inputWidgets": {},
     "nuid": "4e09669f-901f-40fd-bc5e-a96caad902cf",
     "showTitle": false,
     "title": ""
    }
   },
   "outputs": [
    {
     "output_type": "stream",
     "name": "stdout",
     "output_type": "stream",
     "text": [
      "129428\n112016\n"
     ]
    }
   ],
   "source": [
    "keep = []\n",
    "for ind in sep.index:\n",
    "    if sep['bin_loc'][ind] == 0 and sep['bin_nat'][ind] == 0 and sep['bin_int'][ind] == 0 and sep['bin_sp'][ind] == 0: \n",
    "        keep.append(0)\n",
    "    else:\n",
    "        keep.append(1)\n",
    "sep['keep'] = keep\n",
    "print(len(sep))\n",
    "sep2 = sep[sep['keep'] == 1]\n",
    "print(len(sep2))"
   ]
  },
  {
   "cell_type": "markdown",
   "metadata": {
    "application/vnd.databricks.v1+cell": {
     "cellMetadata": {},
     "inputWidgets": {},
     "nuid": "0d3bb286-aad1-4c49-a11b-b7ed895e12db",
     "showTitle": false,
     "title": ""
    }
   },
   "source": [
    "### Statistics for Paper"
   ]
  },
  {
   "cell_type": "markdown",
   "metadata": {
    "application/vnd.databricks.v1+cell": {
     "cellMetadata": {},
     "inputWidgets": {},
     "nuid": "aedd592b-7a58-496b-9177-d8ef7def4ae7",
     "showTitle": false,
     "title": ""
    }
   },
   "source": [
    "#### total doi 129428, total citation after dropping duplicates 1195149\n",
    "#### matched general media 662, total doi 61596, citation 361120, but some citations (75049) have null type, after removing those, total citation - 286071\n",
    "#### matched specialtu 105, citation 323973 \n",
    "#### after merging general and specialty media, total unique doi 112016 (17412 dois didn't have any local, nat, int, special citation, so we can assume that didn't get match), total citation 361120 + 323973 = 685093, after removing the citations not not from categorized media, we get 286071 + 323973 = 610044 citations "
   ]
  },
  {
   "cell_type": "code",
   "execution_count": 0,
   "metadata": {
    "application/vnd.databricks.v1+cell": {
     "cellMetadata": {
      "byteLimit": 2048000,
      "rowLimit": 10000
     },
     "inputWidgets": {},
     "nuid": "91530f84-06d0-4b84-9b6c-250bae2de01c",
     "showTitle": false,
     "title": ""
    }
   },
   "outputs": [
    {
     "output_type": "stream",
     "name": "stdout",
     "output_type": "stream",
     "text": [
      "112016\n112016\n361120\n75049\n286071\n486   662\n"
     ]
    }
   ],
   "source": [
    "#print(sep2.dtypes)\n",
    "print(len(sep2))\n",
    "print(sep2['doi'].nunique())\n",
    "print(len(merged))\n",
    "print(merged['type'].isna().sum())\n",
    "\n",
    "gg = merged.dropna(subset = ['type'])\n",
    "print(len(gg))\n",
    "print(gg['media'].nunique(),\" \",merged['media'].nunique())\n",
    "\n"
   ]
  },
  {
   "cell_type": "code",
   "execution_count": 0,
   "metadata": {
    "application/vnd.databricks.v1+cell": {
     "cellMetadata": {
      "byteLimit": 2048000,
      "rowLimit": 10000
     },
     "inputWidgets": {},
     "nuid": "397f7261-b1fe-4ed9-af1a-5544a918cc36",
     "showTitle": false,
     "title": ""
    }
   },
   "outputs": [
    {
     "output_type": "stream",
     "name": "stdout",
     "output_type": "stream",
     "text": [
      "112016   112016  female  0.3821239822882445  male  0.6178760177117555\nHealth Sciences   79793   79793  female  0.4040078703645683  male  0.5959921296354317\n len of local  10400  female  0.4263461538461538\n len of local uncited  69393  female  0.4006600089346188\n len of nat  32034  female  0.402384965973653\n len of nat uncited  47759  female  0.40509642161686804\n len of international  7345  female  0.4136147038801906\n len of international uncited  72448  female  0.40303390017667845\n len of sp  72534  female  0.39939890258361593\n len of sp uncited  7259  female  0.4500619920099187\nNatural Sciences   15264   15264  female  0.2969077568134172  male  0.7030922431865828\n len of local  2493  female  0.3353389490573606\n len of local uncited  12771  female  0.28940568475452194\n len of nat  12130  female  0.3017312448474856\n len of nat uncited  3134  female  0.2782386726228462\n len of international  2474  female  0.2987065481002425\n len of international uncited  12790  female  0.2965598123534011\n len of sp  12370  female  0.2883589329021827\n len of sp uncited  2894  female  0.3334485141672426\nApplied Sciences   9430   9430  female  0.2822905620360551  male  0.7177094379639448\n len of local  1196  female  0.3210702341137124\n len of local uncited  8234  female  0.2766577605052222\n len of nat  6342  female  0.2775149795017345\n len of nat uncited  3088  female  0.2920984455958549\n len of international  1060  female  0.280188679245283\n len of international uncited  8370  female  0.28255675029868577\n len of sp  7792  female  0.27810574948665295\n len of sp uncited  1638  female  0.3021978021978022\nEconomic & Social Sciences   6179   6179  female  0.4471597345848843  male  0.5528402654151157\n len of local  1596  female  0.43546365914786966\n len of local uncited  4583  female  0.4512328169321405\n len of nat  4780  female  0.4372384937238494\n len of nat uncited  1399  female  0.4810578984989278\n len of international  889  female  0.43194600674915634\n len of international uncited  5290  female  0.4497164461247637\n len of sp  3225  female  0.44589147286821706\n len of sp uncited  2954  female  0.44854434664861204\nArts & Humanities   1350   1350  female  0.45185185185185184  male  0.5481481481481482\n len of local  314  female  0.4394904458598726\n len of local uncited  1036  female  0.4555984555984556\n len of nat  1062  female  0.4425612052730697\n len of nat uncited  288  female  0.4861111111111111\n len of international  289  female  0.3944636678200692\n len of international uncited  1061  female  0.46748350612629597\n len of sp  803  female  0.44209215442092153\n len of sp uncited  547  female  0.46617915904936014\n"
     ]
    }
   ],
   "source": [
    "a = sep2.copy(deep = True)\n",
    "gender = []\n",
    "  \n",
    "for ind in a.index:\n",
    "    if a['cor_gender'][ind] == 'female' or a['cor_gender'][ind] == 'f' or a['cor_gender'][ind] == 'F':\n",
    "        gender.append(\"female\")\n",
    "    elif a['cor_gender'][ind] == 'male' or a['cor_gender'][ind] == 'm' or a['cor_gender'][ind] == 'M':\n",
    "        gender.append(\"male\") \n",
    "a['gender'] = gender\n",
    "\n",
    "\n",
    "print(len(a),\" \",a['doi'].nunique(),\" female \",len(a[a['gender'] == \"female\"])/len(a), \" male \", len(a[a['gender'] == \"male\"])/len(a))\n",
    "\n",
    "for i in a['Domain_English'].unique():\n",
    "    b = a[a['Domain_English'] == i]\n",
    "    print(i,\" \",len(b),\" \",b['doi'].nunique(),\" female \",len(b[b['gender'] == \"female\"])/len(b), \" male \", len(b[b['gender'] == \"male\"])/len(b))\n",
    "\n",
    "    l = b[b['bin_loc'] == 1]\n",
    "    print(\" len of local \",len(l), \" female \",len(l[l['gender'] == \"female\"])/len(l))\n",
    "    l = b[b['bin_loc'] == 0]\n",
    "    print(\" len of local uncited \",len(l), \" female \",len(l[l['gender'] == \"female\"])/len(l))\n",
    "\n",
    "    l = b[b['bin_nat'] == 1]\n",
    "    print(\" len of nat \",len(l), \" female \",len(l[l['gender'] == \"female\"])/len(l))\n",
    "    l = b[b['bin_nat'] == 0]\n",
    "    print(\" len of nat uncited \",len(l), \" female \",len(l[l['gender'] == \"female\"])/len(l))\n",
    "\n",
    "    l = b[b['bin_int'] == 1]\n",
    "    print(\" len of international \",len(l), \" female \",len(l[l['gender'] == \"female\"])/len(l))\n",
    "    l = b[b['bin_int'] == 0]\n",
    "    print(\" len of international uncited \",len(l), \" female \",len(l[l['gender'] == \"female\"])/len(l))\n",
    "\n",
    "    l = b[b['bin_sp'] == 1]\n",
    "    print(\" len of sp \",len(l), \" female \",len(l[l['gender'] == \"female\"])/len(l))\n",
    "    l = b[b['bin_sp'] == 0]\n",
    "    print(\" len of sp uncited \",len(l), \" female \",len(l[l['gender'] == \"female\"])/len(l))\n",
    "\n"
   ]
  },
  {
   "cell_type": "code",
   "execution_count": 0,
   "metadata": {
    "application/vnd.databricks.v1+cell": {
     "cellMetadata": {
      "byteLimit": 2048000,
      "rowLimit": 10000
     },
     "inputWidgets": {},
     "nuid": "3d05d340-418f-47b7-b190-9dd94d4b78f6",
     "showTitle": false,
     "title": ""
    }
   },
   "outputs": [
    {
     "output_type": "stream",
     "name": "stdout",
     "output_type": "stream",
     "text": [
      "                                doi  total_count  local_count  national_count  \\\n925   10.1080/00228958.2021.1935177          116          0.0             0.0   \n1374     10.1038/s41598-020-70264-y           94          0.0             0.0   \n3375  10.1016/j.physbeh.2017.12.028           56          0.0             0.0   \n4872     10.1016/j.cell.2018.06.016           46          0.0             0.0   \n5648     10.1016/j.jaip.2019.04.007           42          0.0             0.0   \n5691     10.1016/j.jaci.2017.05.049           42          0.0             0.0   \n6829              10.1111/ajt.14693           37          0.0             0.0   \n6847              10.1111/ajt.15007           37          0.0             0.0   \n7200     10.1186/s40478-022-01318-7           35          0.0             0.0   \n7855    10.1016/j.burns.2018.01.016           33          0.0             0.0   \n\n      international_count  sp_count cat              Domain_English  \\\n925                   0.0       0.0   0  Economic & Social Sciences   \n1374                  0.0       0.0   0           Arts & Humanities   \n3375                  0.0       0.0   0             Health Sciences   \n4872                  0.0       0.0   0             Health Sciences   \n5648                  0.0       0.0   0             Health Sciences   \n5691                  0.0       0.0   0             Health Sciences   \n6829                  0.0       0.0   0             Health Sciences   \n6847                  0.0       0.0   0             Health Sciences   \n7200                  0.0       0.0   0             Health Sciences   \n7855                  0.0       0.0   0             Health Sciences   \n\n            Field_English           SubField_English  ...   country_name  \\\n925       Social Sciences                  education  ...  United States   \n1374   Historical Studies                archaeology  ...  United States   \n3375  Biomedical Research      nutrition & dietetics  ...  United States   \n4872  Biomedical Research      developmental biology  ...  United States   \n5648    Clinical Medicine                    allergy  ...  United States   \n5691    Clinical Medicine                    allergy  ...  United States   \n6829    Clinical Medicine       urology & nephrology  ...  United States   \n6847    Clinical Medicine                 immunology  ...  United States   \n7200    Clinical Medicine   neurology & neurosurgery  ...  United States   \n7855    Clinical Medicine  ophthalmology & optometry  ...  United States   \n\n         SJR           subfield_article  \\\n925    0.213                  education   \n1374   1.240                archaeology   \n3375   1.013      nutrition & dietetics   \n4872  25.976      developmental biology   \n5648   1.852                    allergy   \n5691   3.702                    allergy   \n6829   3.200       urology & nephrology   \n6847   2.988                 immunology   \n7200   2.395   neurology & neurosurgery   \n7855   0.987  ophthalmology & optometry   \n\n                                         preferred_name org_type      cor_au1  \\\n925                            Robert Morris University     univ  57225836932   \n1374                              Kent State University     univ  23975681200   \n3375               John B. Pierce Foundation Laboratory     resi   7003553011   \n4872            University of California, San Francisco     univ  57216597171   \n5648                    Allergy Partners of North Texas      NaN   8157634800   \n5691                             INDOOR Biotechnologies     comp   7401435875   \n6829                Emory University School of Medicine     meds  26650180500   \n6847  Northwestern University Feinberg School of Med...     meds  55434078700   \n7200            Icahn School of Medicine at Mount Sinai     meds   6602078974   \n7855           U.S. Army Institute of Surgical Research     resi  55884884000   \n\n     bin_loc  bin_nat bin_int bin_sp  \n925        0        0       0      0  \n1374       0        0       0      0  \n3375       0        0       0      0  \n4872       0        0       0      0  \n5648       0        0       0      0  \n5691       0        0       0      0  \n6829       0        0       0      0  \n6847       0        0       0      0  \n7200       0        0       0      0  \n7855       0        0       0      0  \n\n[10 rows x 29 columns]\n"
     ]
    }
   ],
   "source": [
    "print(xx.head(10))"
   ]
  },
  {
   "cell_type": "code",
   "execution_count": 0,
   "metadata": {
    "application/vnd.databricks.v1+cell": {
     "cellMetadata": {
      "byteLimit": 2048000,
      "rowLimit": 10000
     },
     "inputWidgets": {},
     "nuid": "7321633f-a3ca-4d6c-b691-b2f63d3543cb",
     "showTitle": false,
     "title": ""
    }
   },
   "outputs": [],
   "source": [
    "import rpy2.robjects.packages as rpackages\n",
    "import rpy2.robjects.vectors as robjects_vectors\n",
    "\n",
    "\n",
    "from rpy2.robjects import r, pandas2ri\n",
    "import rpy2.robjects as ro\n",
    "from rpy2.robjects.packages import importr\n",
    "\n",
    "# import R's utility package\n",
    "#utils = rpackages.importr('utils')\n",
    "#utils.chooseCRANmirror(ind=1)\n",
    "from rpy2.robjects.conversion import localconverter\n",
    "base = importr('base')\n",
    "from rpy2.robjects import Formula\n",
    "stats = importr('stats')\n",
    "stats = importr('MASS')"
   ]
  },
  {
   "cell_type": "code",
   "execution_count": 0,
   "metadata": {
    "application/vnd.databricks.v1+cell": {
     "cellMetadata": {
      "byteLimit": 2048000,
      "rowLimit": 10000
     },
     "inputWidgets": {},
     "nuid": "40fc8a9e-ba83-4e90-8208-671bf548cd35",
     "showTitle": false,
     "title": ""
    }
   },
   "outputs": [
    {
     "output_type": "stream",
     "name": "stdout",
     "output_type": "stream",
     "text": [
      "\nCall:\n(function (formula, family = gaussian, data, weights, subset, \n    na.action, start = NULL, etastart, mustart, offset, control = list(...), \n    model = TRUE, method = \"glm.fit\", x = FALSE, y = TRUE, singular.ok = TRUE, \n    contrasts = NULL, ...) \n{\n    cal <- match.call()\n    if (is.character(family)) \n        family <- get(family, mode = \"function\", envir = parent.frame())\n    if (is.function(family)) \n        family <- family()\n    if (is.null(family$family)) {\n        print(family)\n        stop(\"'family' not recognized\")\n    }\n    if (missing(data)) \n        data <- environment(formula)\n    mf <- match.call(expand.dots = FALSE)\n    m <- match(c(\"formula\", \"data\", \"subset\", \"weights\", \"na.action\", \n        \"etastart\", \"mustart\", \"offset\"), names(mf), 0L)\n    mf <- mf[c(1L, m)]\n    mf$drop.unused.levels <- TRUE\n    mf[[1L]] <- quote(stats::model.frame)\n    mf <- eval(mf, parent.frame())\n    if (identical(method, \"model.frame\")) \n        return(mf)\n    if (!is.character(method) && !is.function(method)) \n        stop(\"invalid 'method' argument\")\n    if (identical(method, \"glm.fit\")) \n        control <- do.call(\"glm.control\", control)\n    mt <- attr(mf, \"terms\")\n    Y <- model.response(mf, \"any\")\n    if (length(dim(Y)) == 1L) {\n        nm <- rownames(Y)\n        dim(Y) <- NULL\n        if (!is.null(nm)) \n            names(Y) <- nm\n    }\n    X <- if (!is.empty.model(mt)) \n        model.matrix(mt, mf, contrasts)\n    else matrix(, NROW(Y), 0L)\n    weights <- as.vector(model.weights(mf))\n    if (!is.null(weights) && !is.numeric(weights)) \n        stop(\"'weights' must be a numeric vector\")\n    if (!is.null(weights) && any(weights < 0)) \n        stop(\"negative weights not allowed\")\n    offset <- as.vector(model.offset(mf))\n    if (!is.null(offset)) {\n        if (length(offset) != NROW(Y)) \n            stop(gettextf(\"number of offsets is %d should equal %d (number of observations)\", \n                length(offset), NROW(Y)), domain = NA)\n    }\n    mustart <- model.extract(mf, \"mustart\")\n    etastart <- model.extract(mf, \"etastart\")\n    fit <- eval(call(if (is.function(method)) \"method\" else method, \n        x = X, y = Y, weights = weights, start = start, etastart = etastart, \n        mustart = mustart, offset = offset, family = family, \n        control = control, intercept = attr(mt, \"intercept\") > \n            0L, singular.ok = singular.ok))\n    if (length(offset) && attr(mt, \"intercept\") > 0L) {\n        fit2 <- eval(call(if (is.function(method)) \"method\" else method, \n            x = X[, \"(Intercept)\", drop = FALSE], y = Y, mustart = fit$fitted.values, \n            weights = weights, offset = offset, family = family, \n            control = control, intercept = TRUE))\n        if (!fit2$converged) \n            warning(\"fitting to calculate the null deviance did not converge -- increase 'maxit'?\")\n        fit$null.deviance <- fit2$deviance\n    }\n    if (model) \n        fit$model <- mf\n    fit$na.action <- attr(mf, \"na.action\")\n    if (x) \n        fit$x <- X\n    if (!y) \n        fit$y <- NULL\n    structure(c(fit, list(call = cal, formula = formula, terms = mt, \n        data = data, offset = offset, control = control, method = method, \n        contrasts = attr(X, \"contrasts\"), xlevels = .getXlevels(mt, \n            mf))), class = c(fit$class, c(\"glm\", \"lm\")))\n})(formula = \"bin_int ~ gender+year+openaccess_status+bin_sp+bin_loc+bin_nat\", \n    family = structure(list(family = \"binomial\", link = \"logit\", \n        linkfun = function (mu) \n        .Call(C_logit_link, mu), linkinv = function (eta) \n        .Call(C_logit_linkinv, eta), variance = function (mu) \n        mu * (1 - mu), dev.resids = function (y, mu, wt) \n        .Call(C_binomial_dev_resids, y, mu, wt), aic = function (y, \n            n, mu, wt, dev) \n        {\n            m <- if (any(n > 1)) \n                n\n            else wt\n            -2 * sum(ifelse(m > 0, (wt/m), 0) * dbinom(round(m * \n                y), round(m), mu, log = TRUE))\n        }, mu.eta = function (eta) \n        .Call(C_logit_mu_eta, eta), initialize = {\n            if (NCOL(y) == 1) {\n                if (is.factor(y)) \n                  y <- y != levels(y)[1L]\n                n <- rep.int(1, nobs)\n                y[weights == 0] <- 0\n                if (any(y < 0 | y > 1)) \n                  stop(\"y values must be 0 <= y <= 1\")\n                mustart <- (weights * y + 0.5)/(weights + 1)\n                m <- weights * y\n                if (\"binomial\" == \"binomial\" && any(abs(m - round(m)) > \n                  0.001)) \n                  warning(gettextf(\"non-integer #successes in a %s glm!\", \n                    \"binomial\"), domain = NA)\n            }\n            else if (NCOL(y) == 2) {\n                if (\"binomial\" == \"binomial\" && any(abs(y - round(y)) > \n                  0.001)) \n                  warning(gettextf(\"non-integer counts in a %s glm!\", \n                    \"binomial\"), domain = NA)\n                n <- (y1 <- y[, 1L]) + y[, 2L]\n                y <- y1/n\n                if (any(n0 <- n == 0)) \n                  y[n0] <- 0\n                weights <- weights * n\n                mustart <- (n * y + 0.5)/(n + 1)\n            }\n            else stop(gettextf(\"for the '%s' family, y must be a vector of 0 and 1's\\nor a 2 column matrix where col 1 is no. successes and col 2 is no. failures\", \n                \"binomial\"), domain = NA)\n        }, validmu = function (mu) \n        all(is.finite(mu)) && all(mu > 0 & mu < 1), valideta = function (eta) \n        TRUE, simulate = function (object, nsim) \n        {\n            ftd <- fitted(object)\n            n <- length(ftd)\n            ntot <- n * nsim\n            wts <- object$prior.weights\n            if (any(wts%%1 != 0)) \n                stop(\"cannot simulate from non-integer prior.weights\")\n            if (!is.null(m <- object$model)) {\n                y <- model.response(m)\n                if (is.factor(y)) {\n                  yy <- factor(1 + rbinom(ntot, size = 1, prob = ftd), \n                    labels = levels(y))\n                  split(yy, rep(seq_len(nsim), each = n))\n                }\n                else if (is.matrix(y) && ncol(y) == 2) {\n                  yy <- vector(\"list\", nsim)\n                  for (i in seq_len(nsim)) {\n                    Y <- rbinom(n, size = wts, prob = ftd)\n                    YY <- cbind(Y, wts - Y)\n                    colnames(YY) <- colnames(y)\n                    yy[[i]] <- YY\n                  }\n                  yy\n                }\n                else rbinom(ntot, size = wts, prob = ftd)/wts\n            }\n            else rbinom(ntot, size = wts, prob = ftd)/wts\n        }), class = \"family\"), data = structure(list(doi = c(\"10.1038/s41591-020-0820-9\", \n    \"10.1038/s42003-022-03334-8\", \"10.1126/science.abj0016\", \n    \"10.1016/j.icarus.2021.114594\", \"10.1126/science.abb5793\", \n    \"10.1038/s41558-022-01426-1\", \"10.1126/science.aap9559\", \n    \"10.1126/sciadv.abd3083\", \"10.1038/s41591-022-01689-3\", \"10.1038/s41586-022-04788-w\", \n    \"10.15585/mmwr.mm7013e3\", \"10.1001/jama.2020.4756\", \"10.1126/science.abf4063\", \n    \"10.1126/science.aaw1313\", \"10.1001/jama.2022.0470\", \"10.1073/pnas.2006874117\", \n    \"10.1073/pnas.1920849117\", \"10.1126/science.abp8715\", \"10.1126/science.abk0639\", \n    \"10.1038/s41558-022-01290-z\", \"10.15585/mmwr.mm7107e2\", \"10.1016/j.cub.2021.03.103\", \n    \"10.1126/science.abb3634\", \"10.1111/ajt.16930\", \"10.1126/science.abb3221\", \n    \"10.1377/hlthaff.2020.00818\", \"10.1016/j.ajog.2021.03.023\", \n    \"10.1021/acs.jnatprod.1c00946\", \"10.1038/s41591-022-01840-0\", \n    \"10.1073/pnas.2009637117\", \"10.1126/science.abp8337\", \"10.1038/s41586-019-1099-1\", \n    \"10.1001/jamanetworkopen.2021.0830\", \"10.1126/science.abe6522\", \n    \"10.1038/s41586-020-2923-3\", \"10.1038/s41467-022-28764-0\", \n    \"10.1038/s41586-021-03596-y\", \"10.1038/s41586-022-04664-7\", \n    \"10.1038/s41550-020-1198-9\", \"10.15585/mmwr.mm6818e1\", \"10.1093/cid/ciab111\", \n    \"10.1093/cid/ciaa1785\", \"10.1073/pnas.1821204116\", \"10.1038/s41586-021-03647-4\", \n    \"10.1073/pnas.2118631119\", \"10.1001/jama.2021.2294\", \"10.1126/science.aaz9600\", \n    \"10.1001/jama.2020.12603\", \"10.1021/acs.estlett.1c00240\", \n    \"10.1038/s41586-021-03738-2\", \"10.1016/j.cmet.2019.05.008\", \n    \"10.1093/infdis/jiaa742\", \"10.1038/s41586-021-03506-2\", \"10.1038/s41559-019-1027-7\", \n    \"10.1001/jama.2021.0374\", \"10.1038/s41467-022-28246-3\", \"10.1038/s41467-019-12808-z\", \n    \"10.1016/j.cell.2020.05.015\", \"10.1001/jamanetworkopen.2020.35057\", \n    \"10.1126/science.abn1234\", \"10.1038/s41467-021-21849-2\", \n    \"10.1001/jamanetworkopen.2020.19686\", \"10.1038/s41467-022-28333-5\", \n    \"10.1016/j.cels.2020.06.006\", \"10.1073/pnas.2013284118\", \n    \"10.1126/sciadv.abp8636\", \"10.1073/pnas.1916631117\", \"10.1001/jama.2020.6775\", \n    \"10.1136/bjsports-2021-104080\", \"10.1126/sciadv.abd0288\", \n    \"10.1038/s41586-021-03553-9\", \"10.1126/sciadv.abg3080\", \"10.1001/jama.2019.16932\", \n    \"10.1126/sciadv.aav1784\", \"10.1021/acsnano.0c03252\", \"10.1038/s41564-020-0771-4\", \n    \"10.5664/jcsm.8780\", \"10.1126/science.abk2793\", \"10.1038/s41562-021-01267-6\", \n    \"10.1016/j.ebiom.2020.102743\", \"10.1038/s41598-021-82320-2\", \n    \"10.1038/s41467-022-29379-1\", \"10.1073/pnas.1914273116\", \n    \"10.15585/mmwr.mm6736a2\", \"10.1001/jama.2021.5469\", \"10.1521/jscp.2018.37.10.751\", \n    \"10.1126/science.aar3247\", \"10.1001/jama.2022.3785\", \"10.15585/mmwr.mm6935a2\", \n    \"10.3390/cli8010012\", \"10.1001/jamainternmed.2021.8098\", \n    \"10.1001/jama.2019.1572\", \"10.1038/s41586-020-2813-8\", \"10.1001/jama.2020.24865\", \n    \"10.15585/mmwr.mm6918e3\", \"10.1002/ijc.32738\", \"10.1038/s41467-019-08471-z\", \n    \"10.1001/jamainternmed.2019.0462\", \"10.1001/jama.2018.1742\", \n    \"10.1073/pnas.2006753117\", \"10.1002/jwmg.22177\", \"10.1126/science.abj3068\", \n    \"10.1001/jamainternmed.2018.2425\", \"10.1126/science.abe7389\", \n    \"10.1038/s41598-018-23062-6\", \"10.1038/s41561-022-01019-9\", \n    \"10.15585/mmwr.mm6936a4\", \"10.1126/science.aau8712\", \"10.1126/science.abf1396\", \n    \"10.1038/s41558-019-0632-4\", \"10.15585/mmwr.mm7039e1\", \"10.1001/jama.2020.13107\", \n    \"10.1016/j.cub.2021.04.067\", \"10.1038/s41586-022-04643-y\", \n    \"10.1126/science.abj6987\", \"10.1093/cid/ciab456\", \"10.15585/mmwr.mm7104e4\", \n    \"10.1126/sciadv.abf4491\", \"10.15585/mmwr.mm7106e1\", \"10.1038/s41586-022-04449-y\", \n    \"10.1001/jama.2019.5586\", \"10.1001/jama.2018.0245\", \"10.1038/s41586-020-1935-3\", \n    \"10.1038/s41591-021-01270-4\", \"10.1007/s10552-022-01588-5\", \n    \"10.1001/jama.2020.3151\", \"10.1038/s41586-021-04390-6\", \"10.1073/pnas.2101084119\", \n    \"10.1038/s41586-021-03356-y\", \"10.1073/pnas.2113290119\", \n    \"10.1177/2047487320936787\", \"10.1093/cid/ciab321\", \"10.1016/j.jadohealth.2020.07.002\", \n    \"10.1126/sciadv.aat0131\", \"10.1038/s41591-019-0611-3\", \"10.1038/nrd.2017.243\", \n    \"10.1126/sciadv.aau4586\", \"10.1126/science.abj8222\", \"10.1038/s41467-022-29458-3\", \n    \"10.1073/pnas.1812883116\", \"10.1111/obr.13128\", \"10.15585/mmwr.mm6939e2\", \n    \"10.1126/science.abc6197\", \"10.1001/jamainternmed.2019.0899\", \n    \"10.1073/pnas.2115329119\", \"10.1038/s41558-021-01077-8\", \n    \"10.1126/science.aar7204\", \"10.1001/jamacardio.2021.0565\", \n    \"10.1073/pnas.1900712116\", \"10.1080/07420528.2018.1454458\", \n    \"10.1126/sciadv.abq0995\", \"10.1038/s41591-021-01480-w\", \"10.1016/j.cell.2020.10.049\", \n    \"10.1126/science.abk1781\", \"10.1038/s41467-021-22838-1\", \n    \"10.1038/s41467-021-22799-5\", \"10.1126/science.abi9167\", \n    \"10.15585/mmwr.mm7017e2\", \"10.1001/jama.2021.9976\", \"10.1016/j.jpeds.2020.08.037\", \n    \"10.1021/acs.est.1c06458\", \"10.1002/da.22967\", \"10.15585/mmwr.mm7107e3\", \n    \"10.1073/pnas.1817407116\", \"10.1073/pnas.2008373117\", \"10.1001/jamainternmed.2018.5008\", \n    \"10.3389/fpsyg.2020.566108\", \"10.1073/pnas.2007476117\", \"10.1001/jama.2019.13978\", \n    \"10.1001/jamacardio.2020.5890\", \"10.1001/jamainternmed.2020.4130\", \n    \"10.1016/j.cub.2019.08.036\", \"10.1001/jama.2020.22760\", \"10.1037/emo0000403\", \n    \"10.1016/j.smrv.2019.04.008\", \"10.1001/jama.2018.8931\", \"10.1001/jamainternmed.2019.0584\", \n    \"10.1038/nature25767\", \"10.15585/mmwr.mm7104e1\", \"10.1542/peds.2018-2058\", \n    \"10.1126/science.abm4454\", \"10.1038/s41586-020-2404-8\", \"10.1038/s41558-018-0222-x\", \n    \"10.1038/s41467-022-28735-5\", \"10.1007/s11606-020-06067-8\", \n    \"10.1126/science.abd3871\", \"10.1021/acs.est.1c04707\", \"10.1038/s41598-020-67211-2\", \n    \"10.1073/pnas.1718804115\", \"10.1215/00703370-9585908\", \"10.1126/science.abf0521\", \n    \"10.1038/s41550-021-01495-w\", \"10.1016/j.cell.2020.05.042\", \n    \"10.15585/mmwr.mm7017e1\", \"10.1001/jama.2021.22898\", \"10.1038/s43016-021-00343-4\", \n    \"10.1007/s40615-020-00941-1\", \"10.1038/s41586-019-1720-3\", \n    \"10.1126/science.abn3100\", \"10.1126/science.abd7672\", \"10.1126/science.abe9039\", \n    \"10.1111/faf.12525\", \"10.1088/1748-9326/abfba1\", \"10.1038/s41586-021-04281-w\", \n    \"10.1126/science.abd8694\", \"10.1001/jama.2018.6741\", \"10.1101/gr.223693.117\", \n    \"10.1038/s41467-021-22079-2\", \"10.15585/mmwr.mm7008e4\", \"10.1148/radiol.2018180217\", \n    \"10.1001/jama.2021.1117\", \"10.1126/sciadv.abe0166\", \"10.1126/science.aba9757\", \n    \"10.1038/s43016-021-00358-x\", \"10.1002/acn3.51210\", \"10.1002/ese3.956\", \n    \"10.1093/infdis/jiab114\", \"10.1038/s41591-021-01283-z\", \"10.1038/s41586-022-05016-1\", \n    \"10.1098/rspb.2019.2736\", \"10.1001/jamanetworkopen.2021.2536\", \n    \"10.1001/jama.2019.18387\", \"10.1073/pnas.1913405117\", \"10.1126/science.abb2507\", \n    \"10.1038/s41586-021-03550-y\", \"10.1126/sciadv.aaw1838\", \"10.1126/science.aay6485\", \n    \"10.1126/science.aaq0524\", \"10.1038/s41591-021-01336-3\", \n    \"10.1111/gcb.15806\", \"10.4269/ajtmh.17-0870\", \"10.1016/j.neuron.2018.05.023\", \n    \"10.1073/pnas.1718850115\", \"10.1001/jamainternmed.2019.0571\", \n    \"10.1126/science.aax2342\", \"10.1126/science.abd7728\", \"10.1126/science.abc5810\", \n    \"10.1016/j.amjmed.2019.02.015\", \"10.1002/jmv.26514\", \"10.1038/s41591-019-0459-6\", \n    \"10.1001/jama.2020.19545\", \"10.1016/j.cub.2020.01.071\", \"10.1038/s41598-021-02447-0\", \n    \"10.1038/s41550-018-0450-z\", \"10.1016/j.ebiom.2019.08.069\", \n    \"10.1038/s41586-022-04770-6\", \"10.1038/s41586-018-0158-3\", \n    \"10.1016/j.cub.2019.01.069\", \"10.1098/rsbl.2019.0666\", \"10.1093/cid/ciab230\", \n    \"10.1001/jama.2021.23580\", \"10.1016/j.cub.2021.01.026\", \"10.1073/pnas.2010146117\", \n    \"10.1186/s40168-021-01106-w\", \"10.1001/jama.2018.0899\", \"10.1126/sciadv.aax6250\", \n    \"10.1038/s41586-021-03207-w\", \"10.1038/s41467-022-28195-x\", \n    \"10.1001/jama.2019.10255\", \"10.1093/infdis/jiaa274\", \"10.1111/acer.14239\", \n    \"10.1001/jamainternmed.2018.0266\", \"10.1183/13993003.01948-2020\", \n    \"10.1038/s41586-018-0106-2\", \"10.2138/am-2022-8099\", \"10.1016/j.amepre.2019.07.028\", \n    \"10.1001/jamacardio.2021.2065\", \"10.1001/jama.2021.4133\", \n    \"10.1073/pnas.1818859116\", \"10.1016/j.jaac.2019.04.020\", \n    \"10.1088/1748-9326/ab83a7\", \"10.1016/j.cub.2017.11.057\", \n    \"10.1001/jamanetworkopen.2021.24516\", \"10.1176/appi.ps.201700250\", \n    \"10.1016/j.jamcollsurg.2018.08.694\", \"10.1002/alz.12213\", \n    \"10.1001/jamainternmed.2021.7755\", \"10.1038/s41550-019-0917-6\", \n    \"10.1001/jamainternmed.2019.0198\", \"10.1126/sciadv.abn9493\", \n    \"10.1038/s41598-020-68882-7\", \"10.1007/s10584-022-03387-y\", \n    \"10.1126/science.abj2258\", \"10.1038/s41598-019-38808-z\", \n    \"10.1038/s43017-021-00219-y\", \"10.1126/sciadv.aau6200\", \"10.1126/sciadv.abc0776\", \n    \"10.15585/mmwr.mm7013e2\", \"10.1001/jamafacial.2018.0486\", \n    \"10.1126/science.aau8650\", \"10.1126/sciadv.abc5801\", \"10.1073/pnas.1910837117\", \n    \"10.1093/ajcp/aqaa089\", \"10.1038/s41467-021-23377-5\", \"10.1038/s41550-018-0430-3\", \n    \"10.15585/mmwr.mm7039a4\", \"10.1001/jama.2020.19759\", \"10.1038/s41586-019-1119-1\", \n    \"10.1126/sciadv.abm7201\", \"10.15585/mmwr.mm6939e1\", \"10.1001/jamaoncol.2020.7600\", \n    \"10.1037/pspa0000281\", \"10.1001/jamanetworkopen.2021.28568\", \n    \"10.1038/s41586-020-2377-7\", \"10.1016/j.cub.2019.11.067\", \n    \"10.1073/pnas.2025919118\", \"10.1126/science.abn4887\", \"10.1111/acel.13415\", \n    \"10.3847/2041-8213/ac1f95\", \"10.1037/ppm0000371\", \"10.1016/j.cub.2021.04.055\", \n    \"10.1001/jama.2018.14854\", \"10.1542/peds.2021-052478\", \"10.1001/jamanetworkopen.2020.19722\", \n    \"10.1093/mnrasl/slac035\", \"10.15585/mmwr.mm6717e1\", \"10.1001/jamanetworkopen.2021.30645\", \n    \"10.1001/jama.2020.24096\", \"10.1038/s41467-020-18531-4\", \n    \"10.15585/mmwr.mm6722a1\", \"10.1001/jamanetworkopen.2018.1471\", \n    \"10.1038/s41586-019-1799-6\", \"10.1177/2047487317752186\", \n    \"10.1038/s41467-019-11297-4\", \"10.1073/pnas.2112672118\", \n    \"10.1038/s41561-019-0458-8\", \"10.1073/pnas.1802345115\", \"10.1126/sciadv.abm0320\", \n    \"10.1001/jamainternmed.2020.3391\", \"10.1016/j.jamcollsurg.2020.12.002\", \n    \"10.1126/science.aaz9353\", \"10.1001/jamacardio.2020.4916\", \n    \"10.1126/sciadv.aba1940\", \"10.1038/s43016-022-00573-0\", \"10.1093/infdis/jiab337\", \n    \"10.1073/pnas.1800097115\", \"10.1038/s41586-020-2286-9\", \"10.1038/s41366-021-00860-z\", \n    \"10.1126/sciadv.abj2164\", \"10.1126/sciadv.aax8995\", \"10.1038/s41467-019-10366-y\", \n    \"10.1073/pnas.2020778118\", \"10.1016/j.ymthe.2021.11.008\", \n    \"10.1001/jama.2018.2055\", \"10.1126/scitranslmed.aay2602\", \n    \"10.1038/s41586-020-2281-1\", \"10.1126/science.aax5440\", \"10.1126/scitranslmed.abd5487\", \n    \"10.1021/acs.est.1c06531\", \"10.1186/s12940-018-0396-8\", \"10.1001/jamaoncol.2022.1472\", \n    \"10.1001/jama.2021.12531\", \"10.1038/s41467-022-29056-3\", \n    \"10.1073/pnas.1717312115\", \"10.1001/jama.2020.8630\", \"10.1016/j.cell.2020.08.026\", \n    \"10.1037/abn0000410\", \"10.1073/pnas.2018995118\", \"10.1542/peds.2020-004879\", \n    \"10.1038/s41586-020-2639-4\", \"10.1080/14772019.2021.1924301\", \n    \"10.1073/pnas.2121723119\", \"10.1001/jama.2022.2847\", \"10.1073/pnas.2202780119\", \n    \"10.1001/jama.2019.3307\", \"10.1016/j.stem.2018.03.015\", \"10.1002/alr.22579\", \n    \"10.1016/j.envint.2018.02.029\", \"10.1111/jgs.17897\", \"10.1038/s41561-019-0362-2\", \n    \"10.1111/1475-6773.13203\", \"10.1126/science.aaw7912\", \"10.1126/science.abm0829\", \n    \"10.1001/jamanetworkopen.2021.5262\", \"10.15585/mmwr.mm6937e1\", \n    \"10.1377/hlthaff.2020.00608\", \"10.1111/jgs.17951\", \"10.15585/mmwr.mm7011e2\", \n    \"10.1126/science.abc5312\", \"10.1001/jamanetworkopen.2020.7551\", \n    \"10.1038/s41550-022-01634-x\", \"10.1038/s41559-020-1122-9\", \n    \"10.1371/journal.pone.0272947\", \"10.1073/pnas.1803880115\", \n    \"10.1126/science.aan8677\", \"10.1001/jama.2022.4308\", \"10.1038/s41586-018-0752-4\", \n    \"10.1038/s41550-021-01384-2\", \"10.1038/s41559-019-0888-0\", \n    \"10.1001/jamaoncol.2017.5618\", \"10.1126/science.aaz5819\", \n    \"10.1111/gcb.14864\", \"10.1016/j.jshs.2018.09.009\", \"10.1038/s41586-021-03371-z\", \n    \"10.1038/s41591-019-0437-z\", \"10.1126/science.aaw8737\", \"10.1126/science.aay2400\", \n    \"10.1371/journal.pone.0195405\", \"10.1038/s41550-019-0977-7\", \n    \"10.1126/science.abm0151\", \"10.1073/pnas.1904573117\", \"10.1016/j.trd.2021.102908\", \n    \"10.1073/pnas.1906556116\", \"10.15585/mmwr.mm7029a2\", \"10.1126/science.aar5629\", \n    \"10.1038/s41550-019-0813-0\", \"10.1186/s40537-019-0174-7\", \n    \"10.1038/s41586-022-05224-9\", \"10.3389/fpsyg.2019.00722\", \n    \"10.1073/pnas.1913007117\", \"10.1001/jamainternmed.2020.5313\", \n    \"10.1016/j.gecco.2020.e01371\", \"10.1111/ajt.16532\", \"10.1016/j.cell.2022.07.024\", \n    \"10.1038/s41598-021-95565-8\", \"10.1371/journal.pone.0242668\", \n    \"10.1111/jems.12400\", \"10.1038/s41586-019-1711-4\", \"10.1136/tobaccocontrol-2021-056901\", \n    \"10.1111/aje.12586\", \"10.1542/peds.2018-3112\", \"10.3897/zookeys.1096.73485\", \n    \"10.1126/science.aaz9129\", \"10.1038/s41586-020-2607-z\", \"10.1080/00036846.2019.1631443\", \n    \"10.1001/jama.2021.15494\", \"10.1001/jama.2021.8694\", \"10.1001/jamanetworkopen.2019.3886\", \n    \"10.15585/mmwr.mm6920e1\", \"10.1126/science.aar7121\", \"10.1093/brain/awx350\", \n    \"10.1073/pnas.1917204117\", \"10.1080/13696998.2021.2002063\", \n    \"10.1002/eap.2433\", \"10.1001/jama.2020.6266\", \"10.1038/s41562-020-0884-z\", \n    \"10.15585/mmwr.mm7129e2\", \"10.1038/s41586-018-0053-y\", \"10.1038/s41593-022-01132-3\", \n    \"10.1377/hlthaff.2019.01484\", \"10.1001/jamanetworkopen.2022.28510\", \n    \"10.1001/jamanetworkopen.2021.0369\", \"10.1001/jama.2020.12897\", \n    \"10.1093/jme/tjy062\", \"10.15585/mmwr.mm7039e3\", \"10.1126/science.aao1619\", \n    \"10.1038/s41550-018-0529-6\", \"10.1007/s10096-021-04260-z\", \n    \"10.1001/jama.2021.24282\", \"10.1021/acs.est.2c01583\", \"10.1038/s41586-018-0646-5\", \n    \"10.1111/jan.13818\", \"10.1002/acn3.51350\", \"10.1038/s41593-019-0371-x\", \n    \"10.1126/sciadv.aay6036\", \"10.1093/eurheartj/ehac208\", \"10.1001/jamanetworkopen.2021.43955\", \n    \"10.1016/j.cell.2018.03.054\", \"10.1038/s41598-018-22313-w\", \n    \"10.1038/s41467-021-22446-z\", \"10.1038/s41586-022-05053-w\", \n    \"10.1038/s41550-021-01539-1\", \"10.1038/nature25975\", \"10.1001/jamainternmed.2018.1007\", \n    \"10.1038/s41598-020-61839-w\", \"10.1542/peds.2021-053616\", \n    \"10.1001/jama.2019.21463\", \"10.1186/s12967-018-1507-6\", \"10.1073/pnas.2107402118\", \n    \"10.1126/sciadv.aax5097\", \"10.1038/s41598-020-61480-7\", \"10.1007/s11524-021-00515-4\", \n    \"10.1038/s41586-021-03667-0\", \"10.1038/s41591-019-0485-4\", \n    \"10.1016/j.cell.2020.06.040\", \"10.1126/sciadv.aau3669\", \"10.1073/pnas.1804840115\", \n    \"10.1016/j.envint.2020.105668\", \"10.1126/science.abm0620\", \n    \"10.1001/jama.2019.20747\", \"10.3897/zookeys.928.47517\", \"10.1016/j.jacc.2020.07.069\", \n    \"10.1007/s00227-022-04090-3\", \"10.15585/mmwr.mm7109e3\", \"10.1126/science.aav2914\", \n    \"10.1126/sciadv.aaq1012\", \"10.1038/s41550-018-0405-4\", \"10.1371/journal.pone.0226087\", \n    \"10.1001/jamanetworkopen.2020.17267\", \"10.1126/sciadv.abi8789\", \n    \"10.1016/j.cub.2019.05.035\", \"10.1016/j.jacc.2022.01.038\", \n    \"10.1001/jama.2021.11048\", \"10.1001/jama.2020.20717\", \"10.1038/s41586-019-1513-8\", \n    \"10.1001/jamainternmed.2021.4686\", \"10.1001/jamainternmed.2022.2587\", \n    \"10.1038/s41567-020-0935-4\", \"10.1073/pnas.2010115117\", \"10.1111/1745-9125.12175\", \n    \"10.1073/pnas.1717295115\", \"10.1111/ele.13434\", \"10.3389/fpubh.2020.00473\", \n    \"10.1038/s41586-021-03696-9\", \"10.3847/1538-4357/ac723a\", \n    \"10.1016/j.stem.2018.01.016\", \"10.15585/mmwr.mm6940e3\", \"10.1210/clinem/dgac040\", \n    \"10.1038/s41586-021-03860-1\", \"10.1002/advs.202201174\", \"10.1038/s41586-022-04675-4\", \n    \"10.1001/jamainternmed.2022.1906\", \"10.1111/maps.13653\", \n    \"10.1126/science.abg9175\", \"10.1038/s41559-017-0431-0\", \"10.1126/science.aau2277\", \n    \"10.1016/j.joule.2019.09.021\", \"10.15585/mmwr.mm7111e2\", \n    \"10.1001/jama.2020.0757\", \"10.1001/jamanetworkopen.2020.28786\", \n    \"10.1001/jama.2020.8707\", \"10.1001/jama.2020.15725\", \"10.1001/jamainternmed.2018.4886\", \n    \"10.1542/peds.2019-1725\", \"10.1016/j.cub.2021.03.051\", \"10.1038/s41571-022-00672-8\", \n    \"10.1001/jama.2022.1206\", \"10.1093/jnci/djz226\", \"10.1001/jama.2020.21946\", \n    \"10.15585/mmwr.mm7039e4\", \"10.1073/pnas.2123516119\", \"10.1093/humrep/dey337\", \n    \"10.1021/acsnano.0c05025\", \"10.1542/peds.2018-1235\", \"10.1038/s41561-022-00971-w\", \n    \"10.1038/s41598-020-59528-9\", \"10.1038/s41586-021-03693-y\", \n    \"10.1038/s41586-021-03991-5\", \"10.15585/mmwr.mm7108e2\", \"10.1001/jama.2021.10238\", \n    \"10.1016/j.biocon.2018.08.012\", \"10.1038/s41591-020-0971-8\", \n    \"10.1093/ntr/ntaa082\", \"10.1001/jamanetworkopen.2022.19133\", \n    \"10.1111/brv.12816\", \"10.1016/j.cmet.2020.06.013\", \"10.1001/jamainternmed.2019.3500\", \n    \"10.1093/cid/ciab519\", \"10.1001/jamainternmed.2020.1764\", \n    \"10.1016/j.stem.2019.08.002\", \"10.1371/journal.pone.0247820\", \n    \"10.1038/s41591-018-0040-8\", \"10.1073/pnas.1722477115\", \"10.1038/s41390-021-01902-y\", \n    \"10.1098/rsbl.2018.0056\", \"10.1242/jeb.243119\", \"10.1038/s41467-021-21708-0\", \n    \"10.1038/s41586-018-0637-6\", \"10.1038/s41560-020-00763-9\", \n    \"10.1001/jamanetworkopen.2021.5298\", \"10.15585/mmwr.mm6817e1\", \n    \"10.15585/mmwr.mm7109a2\", \"10.1126/sciadv.aau3333\", \"10.1016/j.idm.2020.04.001\", \n    \"10.1136/ijgc-2022-003728\", \"10.1038/s41467-022-29818-z\", \n    \"10.1080/02724634.2020.1767638\", \"10.1016/j.sleh.2019.02.002\", \n    \"10.1126/sciadv.aat3272\", \"10.1126/science.aar3320\", \"10.1073/pnas.1718185115\", \n    \"10.1126/science.aau2706\", \"10.1038/s41587-021-00950-3\", \n    \"10.1126/science.aao5646\", \"10.1126/sciadv.abd5393\", \"10.15585/mmwr.mm7019e3\", \n    \"10.1126/science.aat3466\", \"10.1001/jama.2020.17022\", \"10.1073/pnas.1922205117\", \n    \"10.15585/mmwr.mm6745a1\", \"10.1371/journal.pone.0259478\", \n    \"10.1111/risa.13500\", \"10.1038/s41598-019-49660-6\", \"10.1016/j.immuni.2020.10.004\", \n    \"10.1111/1475-6773.13551\", \"10.1001/jamaoncol.2018.2487\", \n    \"10.1016/j.icarus.2021.114872\", \"10.1001/jamainternmed.2022.2476\", \n    \"10.1038/s41586-021-03427-0\", \"10.1038/s41562-017-0277-0\", \n    \"10.1080/10410236.2022.2106086\", \"10.1016/j.ijid.2018.09.013\", \n    \"10.15585/mmwr.mm6918e1\", \"10.1021/acs.est.1c08298\", \"10.1038/nature25792\", \n    \"10.1016/j.resuscitation.2020.04.023\", \"10.1038/s41551-020-0534-9\", \n    \"10.1126/sciadv.abe2101\", \"10.1038/s41893-019-0220-7\", \"10.1001/jamanetworkopen.2020.14780\", \n    \"10.1126/science.aax9044\", \"10.1126/science.abf4058\", \"10.1126/science.abe3261\", \n    \"10.1073/pnas.1816541116\", \"10.1001/jamainternmed.2021.2033\", \n    \"10\n\n*** WARNING: max output size exceeded, skipping output. ***\n\n317\", \"126318\", \"126319\", \n    \"126320\", \"126321\", \"126322\", \"126323\", \"126324\", \"126327\", \n    \"126328\", \"126331\", \"126334\", \"126335\", \"126336\", \"126337\", \n    \"126338\", \"126340\", \"126341\", \"126342\", \"126343\", \"126344\", \n    \"126345\", \"126347\", \"126348\", \"126349\", \"126350\", \"126351\", \n    \"126354\", \"126355\", \"126356\", \"126357\", \"126359\", \"126360\", \n    \"126361\", \"126363\", \"126364\", \"126365\", \"126367\", \"126368\", \n    \"126369\", \"126370\", \"126371\", \"126372\", \"126373\", \"126374\", \n    \"126375\", \"126376\", \"126377\", \"126378\", \"126379\", \"126380\", \n    \"126381\", \"126382\", \"126384\", \"126385\", \"126386\", \"126387\", \n    \"126388\", \"126389\", \"126390\", \"126391\", \"126393\", \"126394\", \n    \"126395\", \"126397\", \"126398\", \"126400\", \"126402\", \"126403\", \n    \"126404\", \"126405\", \"126406\", \"126409\", \"126410\", \"126412\", \n    \"126413\", \"126419\", \"126420\", \"126421\", \"126422\", \"126423\", \n    \"126424\", \"126428\", \"126429\", \"126430\", \"126433\", \"126436\", \n    \"126437\", \"126439\", \"126442\", \"126444\", \"126445\", \"126446\", \n    \"126449\", \"126450\", \"126451\", \"126454\", \"126456\", \"126460\", \n    \"126461\", \"126462\", \"126464\", \"126465\", \"126467\", \"126468\", \n    \"126472\", \"126473\", \"126474\", \"126476\", \"126477\", \"126479\", \n    \"126482\", \"126484\", \"126485\", \"126486\", \"126487\", \"126488\", \n    \"126490\", \"126491\", \"126492\", \"126493\", \"126494\", \"126496\", \n    \"126497\", \"126498\", \"126499\", \"126500\", \"126501\", \"126502\", \n    \"126503\", \"126504\", \"126505\", \"126508\", \"126509\", \"126511\", \n    \"126512\", \"126513\", \"126514\", \"126517\", \"126519\", \"126520\", \n    \"126521\", \"126522\", \"126523\", \"126524\", \"126525\", \"126526\", \n    \"126527\", \"126529\", \"126531\", \"126532\", \"126536\", \"126538\", \n    \"126539\", \"126540\", \"126543\", \"126544\", \"126546\", \"126547\", \n    \"126549\", \"126550\", \"126551\", \"126553\", \"126554\", \"126558\", \n    \"126559\", \"126560\", \"126561\", \"126562\", \"126565\", \"126568\", \n    \"126569\", \"126570\", \"126571\", \"126574\", \"126575\", \"126576\", \n    \"126577\", \"126578\", \"126579\", \"126580\", \"126581\", \"126582\", \n    \"126583\", \"126587\", \"126588\", \"126590\", \"126591\", \"126592\", \n    \"126594\", \"126596\", \"126597\", \"126598\", \"126599\", \"126600\", \n    \"126602\", \"126603\", \"126604\", \"126605\", \"126606\", \"126607\", \n    \"126608\", \"126609\", \"126610\", \"126611\", \"126612\", \"126613\", \n    \"126614\", \"126615\", \"126616\", \"126617\", \"126618\", \"126619\", \n    \"126620\", \"126621\", \"126622\", \"126624\", \"126625\", \"126626\", \n    \"126627\", \"126628\", \"126629\", \"126630\", \"126631\", \"126632\", \n    \"126634\", \"126636\", \"126637\", \"126638\", \"126643\", \"126644\", \n    \"126645\", \"126648\", \"126650\", \"126651\", \"126652\", \"126654\", \n    \"126655\", \"126656\", \"126657\", \"126659\", \"126661\", \"126662\", \n    \"126663\", \"126667\", \"126670\", \"126671\", \"126672\", \"126674\", \n    \"126675\", \"126676\", \"126677\", \"126679\", \"126680\", \"126683\", \n    \"126684\", \"126685\", \"126688\", \"126689\", \"126691\", \"126692\", \n    \"126693\", \"126694\", \"126695\", \"126696\", \"126697\", \"126698\", \n    \"126699\", \"126700\", \"126701\", \"126703\", \"126706\", \"126707\", \n    \"126708\", \"126709\", \"126710\", \"126711\", \"126712\", \"126713\", \n    \"126714\", \"126715\", \"126716\", \"126717\", \"126719\", \"126720\", \n    \"126721\", \"126724\", \"126726\", \"126728\", \"126730\", \"126731\", \n    \"126732\", \"126733\", \"126734\", \"126735\", \"126736\", \"126738\", \n    \"126740\", \"126741\", \"126743\", \"126744\", \"126746\", \"126747\", \n    \"126749\", \"126750\", \"126751\", \"126752\", \"126753\", \"126754\", \n    \"126755\", \"126757\", \"126758\", \"126759\", \"126760\", \"126762\", \n    \"126763\", \"126764\", \"126765\", \"126766\", \"126767\", \"126768\", \n    \"126769\", \"126771\", \"126772\", \"126773\", \"126774\", \"126775\", \n    \"126776\", \"126777\", \"126778\", \"126780\", \"126781\", \"126782\", \n    \"126783\", \"126784\", \"126785\", \"126786\", \"126789\", \"126790\", \n    \"126792\", \"126793\", \"126794\", \"126795\", \"126796\", \"126797\", \n    \"126798\", \"126799\", \"126801\", \"126802\", \"126803\", \"126804\", \n    \"126806\", \"126809\", \"126810\", \"126812\", \"126813\", \"126814\", \n    \"126817\", \"126818\", \"126819\", \"126820\", \"126821\", \"126822\", \n    \"126823\", \"126824\", \"126825\", \"126829\", \"126831\", \"126832\", \n    \"126833\", \"126834\", \"126835\", \"126836\", \"126837\", \"126839\", \n    \"126840\", \"126842\", \"126843\", \"126844\", \"126845\", \"126846\", \n    \"126847\", \"126848\", \"126851\", \"126852\", \"126853\", \"126854\", \n    \"126855\", \"126856\", \"126858\", \"126859\", \"126862\", \"126863\", \n    \"126864\", \"126865\", \"126866\", \"126867\", \"126868\", \"126869\", \n    \"126870\", \"126871\", \"126873\", \"126874\", \"126875\", \"126876\", \n    \"126878\", \"126880\", \"126881\", \"126882\", \"126883\", \"126888\", \n    \"126889\", \"126891\", \"126892\", \"126894\", \"126895\", \"126896\", \n    \"126898\", \"126899\", \"126901\", \"126902\", \"126903\", \"126904\", \n    \"126906\", \"126907\", \"126908\", \"126909\", \"126910\", \"126914\", \n    \"126915\", \"126916\", \"126917\", \"126918\", \"126920\", \"126921\", \n    \"126923\", \"126924\", \"126925\", \"126926\", \"126927\", \"126929\", \n    \"126934\", \"126936\", \"126937\", \"126938\", \"126939\", \"126941\", \n    \"126942\", \"126943\", \"126946\", \"126948\", \"126949\", \"126950\", \n    \"126952\", \"126953\", \"126954\", \"126955\", \"126956\", \"126958\", \n    \"126962\", \"126965\", \"126966\", \"126967\", \"126969\", \"126970\", \n    \"126971\", \"126972\", \"126973\", \"126974\", \"126975\", \"126976\", \n    \"126977\", \"126978\", \"126979\", \"126980\", \"126981\", \"126982\", \n    \"126986\", \"126987\", \"126988\", \"126990\", \"126992\", \"126993\", \n    \"126994\", \"126995\", \"126996\", \"126997\", \"126998\", \"126999\", \n    \"127001\", \"127002\", \"127004\", \"127005\", \"127007\", \"127008\", \n    \"127009\", \"127010\", \"127012\", \"127013\", \"127014\", \"127015\", \n    \"127017\", \"127018\", \"127019\", \"127020\", \"127021\", \"127022\", \n    \"127023\", \"127025\", \"127029\", \"127030\", \"127033\", \"127034\", \n    \"127035\", \"127037\", \"127038\", \"127039\", \"127040\", \"127041\", \n    \"127042\", \"127043\", \"127044\", \"127045\", \"127046\", \"127047\", \n    \"127048\", \"127049\", \"127050\", \"127054\", \"127055\", \"127056\", \n    \"127057\", \"127058\", \"127059\", \"127060\", \"127062\", \"127063\", \n    \"127066\", \"127067\", \"127068\", \"127069\", \"127071\", \"127072\", \n    \"127073\", \"127077\", \"127078\", \"127079\", \"127081\", \"127082\", \n    \"127083\", \"127084\", \"127085\", \"127086\", \"127087\", \"127088\", \n    \"127090\", \"127091\", \"127092\", \"127093\", \"127096\", \"127097\", \n    \"127099\", \"127100\", \"127102\", \"127103\", \"127105\", \"127106\", \n    \"127107\", \"127108\", \"127109\", \"127111\", \"127112\", \"127115\", \n    \"127116\", \"127118\", \"127119\", \"127120\", \"127121\", \"127122\", \n    \"127123\", \"127125\", \"127126\", \"127127\", \"127128\", \"127130\", \n    \"127131\", \"127132\", \"127133\", \"127134\", \"127136\", \"127137\", \n    \"127139\", \"127140\", \"127143\", \"127144\", \"127145\", \"127146\", \n    \"127147\", \"127148\", \"127149\", \"127154\", \"127157\", \"127158\", \n    \"127160\", \"127161\", \"127162\", \"127163\", \"127165\", \"127166\", \n    \"127167\", \"127169\", \"127170\", \"127171\", \"127173\", \"127174\", \n    \"127175\", \"127176\", \"127180\", \"127182\", \"127184\", \"127185\", \n    \"127186\", \"127191\", \"127192\", \"127194\", \"127196\", \"127197\", \n    \"127198\", \"127199\", \"127200\", \"127204\", \"127209\", \"127210\", \n    \"127211\", \"127212\", \"127213\", \"127214\", \"127215\", \"127216\", \n    \"127217\", \"127219\", \"127220\", \"127221\", \"127222\", \"127223\", \n    \"127224\", \"127225\", \"127226\", \"127228\", \"127229\", \"127230\", \n    \"127231\", \"127232\", \"127233\", \"127235\", \"127237\", \"127238\", \n    \"127239\", \"127241\", \"127242\", \"127244\", \"127245\", \"127246\", \n    \"127247\", \"127248\", \"127250\", \"127251\", \"127252\", \"127253\", \n    \"127254\", \"127255\", \"127256\", \"127257\", \"127258\", \"127259\", \n    \"127260\", \"127261\", \"127265\", \"127267\", \"127268\", \"127270\", \n    \"127271\", \"127272\", \"127273\", \"127274\", \"127275\", \"127278\", \n    \"127281\", \"127282\", \"127284\", \"127286\", \"127287\", \"127289\", \n    \"127292\", \"127293\", \"127294\", \"127295\", \"127296\", \"127297\", \n    \"127298\", \"127300\", \"127301\", \"127302\", \"127305\", \"127306\", \n    \"127307\", \"127308\", \"127310\", \"127312\", \"127313\", \"127314\", \n    \"127315\", \"127317\", \"127319\", \"127322\", \"127324\", \"127326\", \n    \"127328\", \"127329\", \"127330\", \"127331\", \"127332\", \"127333\", \n    \"127334\", \"127335\", \"127337\", \"127339\", \"127340\", \"127341\", \n    \"127343\", \"127344\", \"127346\", \"127347\", \"127348\", \"127349\", \n    \"127350\", \"127351\", \"127353\", \"127355\", \"127356\", \"127357\", \n    \"127358\", \"127360\", \"127361\", \"127363\", \"127365\", \"127366\", \n    \"127367\", \"127368\", \"127369\", \"127370\", \"127371\", \"127372\", \n    \"127373\", \"127374\", \"127375\", \"127376\", \"127378\", \"127379\", \n    \"127381\", \"127382\", \"127383\", \"127384\", \"127385\", \"127389\", \n    \"127390\", \"127391\", \"127392\", \"127394\", \"127395\", \"127397\", \n    \"127399\", \"127400\", \"127402\", \"127403\", \"127404\", \"127405\", \n    \"127406\", \"127407\", \"127408\", \"127409\", \"127410\", \"127413\", \n    \"127414\", \"127415\", \"127416\", \"127417\", \"127418\", \"127419\", \n    \"127420\", \"127421\", \"127422\", \"127423\", \"127424\", \"127425\", \n    \"127427\", \"127428\", \"127429\", \"127430\", \"127431\", \"127432\", \n    \"127433\", \"127434\", \"127436\", \"127437\", \"127438\", \"127441\", \n    \"127442\", \"127446\", \"127448\", \"127450\", \"127453\", \"127454\", \n    \"127455\", \"127456\", \"127458\", \"127459\", \"127461\", \"127463\", \n    \"127465\", \"127466\", \"127467\", \"127468\", \"127471\", \"127472\", \n    \"127473\", \"127474\", \"127476\", \"127477\", \"127478\", \"127479\", \n    \"127481\", \"127483\", \"127484\", \"127485\", \"127486\", \"127487\", \n    \"127488\", \"127489\", \"127490\", \"127492\", \"127493\", \"127495\", \n    \"127496\", \"127497\", \"127498\", \"127501\", \"127502\", \"127504\", \n    \"127507\", \"127508\", \"127509\", \"127510\", \"127511\", \"127512\", \n    \"127513\", \"127514\", \"127515\", \"127516\", \"127517\", \"127518\", \n    \"127519\", \"127520\", \"127521\", \"127522\", \"127523\", \"127525\", \n    \"127526\", \"127527\", \"127528\", \"127529\", \"127531\", \"127533\", \n    \"127534\", \"127535\", \"127537\", \"127538\", \"127540\", \"127541\", \n    \"127542\", \"127544\", \"127546\", \"127547\", \"127548\", \"127549\", \n    \"127550\", \"127551\", \"127553\", \"127554\", \"127556\", \"127558\", \n    \"127559\", \"127560\", \"127562\", \"127564\", \"127567\", \"127569\", \n    \"127571\", \"127572\", \"127573\", \"127574\", \"127575\", \"127577\", \n    \"127578\", \"127579\", \"127580\", \"127581\", \"127582\", \"127583\", \n    \"127584\", \"127585\", \"127587\", \"127588\", \"127589\", \"127590\", \n    \"127591\", \"127593\", \"127594\", \"127595\", \"127596\", \"127597\", \n    \"127598\", \"127599\", \"127600\", \"127601\", \"127603\", \"127605\", \n    \"127607\", \"127610\", \"127612\", \"127613\", \"127614\", \"127616\", \n    \"127617\", \"127618\", \"127619\", \"127620\", \"127621\", \"127622\", \n    \"127624\", \"127625\", \"127627\", \"127628\", \"127630\", \"127633\", \n    \"127635\", \"127636\", \"127637\", \"127639\", \"127640\", \"127641\", \n    \"127642\", \"127643\", \"127645\", \"127648\", \"127649\", \"127651\", \n    \"127653\", \"127654\", \"127656\", \"127657\", \"127658\", \"127659\", \n    \"127662\", \"127663\", \"127665\", \"127666\", \"127668\", \"127669\", \n    \"127671\", \"127672\", \"127673\", \"127674\", \"127675\", \"127681\", \n    \"127682\", \"127683\", \"127684\", \"127685\", \"127686\", \"127687\", \n    \"127688\", \"127689\", \"127692\", \"127693\", \"127694\", \"127695\", \n    \"127696\", \"127698\", \"127700\", \"127702\", \"127703\", \"127705\", \n    \"127706\", \"127707\", \"127708\", \"127710\", \"127711\", \"127713\", \n    \"127715\", \"127716\", \"127717\", \"127718\", \"127719\", \"127720\", \n    \"127722\", \"127723\", \"127724\", \"127725\", \"127726\", \"127727\", \n    \"127729\", \"127730\", \"127731\", \"127732\", \"127734\", \"127735\", \n    \"127736\", \"127737\", \"127739\", \"127741\", \"127742\", \"127744\", \n    \"127745\", \"127746\", \"127748\", \"127749\", \"127750\", \"127751\", \n    \"127752\", \"127753\", \"127754\", \"127755\", \"127757\", \"127758\", \n    \"127759\", \"127760\", \"127761\", \"127762\", \"127763\", \"127765\", \n    \"127767\", \"127768\", \"127769\", \"127770\", \"127773\", \"127775\", \n    \"127776\", \"127777\", \"127778\", \"127779\", \"127780\", \"127782\", \n    \"127783\", \"127786\", \"127787\", \"127788\", \"127789\", \"127790\", \n    \"127792\", \"127796\", \"127797\", \"127799\", \"127800\", \"127801\", \n    \"127802\", \"127803\", \"127804\", \"127807\", \"127809\", \"127811\", \n    \"127812\", \"127814\", \"127815\", \"127816\", \"127818\", \"127819\", \n    \"127821\", \"127824\", \"127825\", \"127827\", \"127828\", \"127829\", \n    \"127830\", \"127832\", \"127833\", \"127834\", \"127837\", \"127839\", \n    \"127840\", \"127843\", \"127844\", \"127845\", \"127846\", \"127847\", \n    \"127848\", \"127849\", \"127850\", \"127851\", \"127853\", \"127854\", \n    \"127855\", \"127856\", \"127857\", \"127860\", \"127861\", \"127862\", \n    \"127863\", \"127864\", \"127865\", \"127866\", \"127867\", \"127868\", \n    \"127869\", \"127870\", \"127871\", \"127872\", \"127873\", \"127874\", \n    \"127875\", \"127878\", \"127879\", \"127880\", \"127881\", \"127883\", \n    \"127885\", \"127886\", \"127887\", \"127888\", \"127889\", \"127890\", \n    \"127891\", \"127892\", \"127894\", \"127895\", \"127897\", \"127900\", \n    \"127901\", \"127903\", \"127904\", \"127905\", \"127906\", \"127908\", \n    \"127909\", \"127911\", \"127912\", \"127913\", \"127915\", \"127917\", \n    \"127918\", \"127919\", \"127920\", \"127922\", \"127923\", \"127926\", \n    \"127927\", \"127928\", \"127929\", \"127930\", \"127931\", \"127932\", \n    \"127933\", \"127934\", \"127935\", \"127937\", \"127938\", \"127939\", \n    \"127940\", \"127941\", \"127942\", \"127943\", \"127944\", \"127946\", \n    \"127947\", \"127948\", \"127949\", \"127950\", \"127952\", \"127953\", \n    \"127954\", \"127956\", \"127958\", \"127960\", \"127961\", \"127962\", \n    \"127963\", \"127964\", \"127965\", \"127966\", \"127967\", \"127968\", \n    \"127969\", \"127971\", \"127972\", \"127973\", \"127974\", \"127975\", \n    \"127976\", \"127977\", \"127978\", \"127979\", \"127980\", \"127982\", \n    \"127985\", \"127989\", \"127990\", \"127991\", \"127992\", \"127994\", \n    \"127996\", \"127998\", \"127999\", \"128001\", \"128005\", \"128006\", \n    \"128013\", \"128014\", \"128015\", \"128016\", \"128018\", \"128019\", \n    \"128020\", \"128023\", \"128025\", \"128026\", \"128027\", \"128028\", \n    \"128030\", \"128031\", \"128032\", \"128033\", \"128035\", \"128036\", \n    \"128037\", \"128038\", \"128039\", \"128040\", \"128045\", \"128048\", \n    \"128050\", \"128053\", \"128054\", \"128055\", \"128056\", \"128058\", \n    \"128059\", \"128060\", \"128061\", \"128062\", \"128065\", \"128066\", \n    \"128067\", \"128069\", \"128070\", \"128071\", \"128074\", \"128076\", \n    \"128077\", \"128078\", \"128079\", \"128081\", \"128083\", \"128084\", \n    \"128085\", \"128086\", \"128089\", \"128091\", \"128092\", \"128097\", \n    \"128098\", \"128100\", \"128101\", \"128102\", \"128103\", \"128105\", \n    \"128107\", \"128108\", \"128109\", \"128111\", \"128112\", \"128113\", \n    \"128114\", \"128116\", \"128117\", \"128118\", \"128119\", \"128120\", \n    \"128121\", \"128122\", \"128123\", \"128124\", \"128126\", \"128127\", \n    \"128128\", \"128129\", \"128132\", \"128133\", \"128135\", \"128136\", \n    \"128137\", \"128138\", \"128139\", \"128141\", \"128142\", \"128144\", \n    \"128147\", \"128148\", \"128150\", \"128151\", \"128152\", \"128153\", \n    \"128156\", \"128157\", \"128159\", \"128160\", \"128161\", \"128162\", \n    \"128165\", \"128166\", \"128167\", \"128168\", \"128169\", \"128175\", \n    \"128176\", \"128177\", \"128179\", \"128180\", \"128181\", \"128182\", \n    \"128183\", \"128185\", \"128187\", \"128188\", \"128189\", \"128190\", \n    \"128191\", \"128192\", \"128194\", \"128195\", \"128196\", \"128197\", \n    \"128199\", \"128200\", \"128202\", \"128203\", \"128205\", \"128207\", \n    \"128208\", \"128211\", \"128213\", \"128214\", \"128217\", \"128218\", \n    \"128219\", \"128220\", \"128221\", \"128222\", \"128223\", \"128225\", \n    \"128227\", \"128228\", \"128229\", \"128231\", \"128232\", \"128233\", \n    \"128234\", \"128235\", \"128236\", \"128237\", \"128238\", \"128239\", \n    \"128242\", \"128244\", \"128245\", \"128246\", \"128247\", \"128250\", \n    \"128252\", \"128253\", \"128254\", \"128255\", \"128256\", \"128258\", \n    \"128259\", \"128260\", \"128261\", \"128265\", \"128266\", \"128268\", \n    \"128269\", \"128271\", \"128272\", \"128273\", \"128274\", \"128275\", \n    \"128277\", \"128278\", \"128279\", \"128280\", \"128282\", \"128283\", \n    \"128284\", \"128285\", \"128286\", \"128287\", \"128289\", \"128291\", \n    \"128293\", \"128295\", \"128297\", \"128299\", \"128300\", \"128301\", \n    \"128303\", \"128305\", \"128306\", \"128308\", \"128309\", \"128310\", \n    \"128311\", \"128312\", \"128313\", \"128314\", \"128315\", \"128316\", \n    \"128317\", \"128318\", \"128319\", \"128320\", \"128321\", \"128322\", \n    \"128323\", \"128324\", \"128325\", \"128327\", \"128329\", \"128330\", \n    \"128332\", \"128333\", \"128334\", \"128335\", \"128336\", \"128337\", \n    \"128338\", \"128339\", \"128340\", \"128343\", \"128344\", \"128345\", \n    \"128346\", \"128348\", \"128349\", \"128350\", \"128352\", \"128355\", \n    \"128358\", \"128359\", \"128360\", \"128361\", \"128363\", \"128366\", \n    \"128368\", \"128369\", \"128371\", \"128372\", \"128373\", \"128375\", \n    \"128376\", \"128377\", \"128378\", \"128379\", \"128380\", \"128381\", \n    \"128382\", \"128383\", \"128384\", \"128385\", \"128387\", \"128389\", \n    \"128390\", \"128391\", \"128392\", \"128393\", \"128396\", \"128397\", \n    \"128398\", \"128400\", \"128402\", \"128403\", \"128404\", \"128405\", \n    \"128407\", \"128408\", \"128411\", \"128414\", \"128415\", \"128416\", \n    \"128418\", \"128420\", \"128423\", \"128424\", \"128425\", \"128427\", \n    \"128428\", \"128431\", \"128432\", \"128433\", \"128434\", \"128435\", \n    \"128436\", \"128437\", \"128438\", \"128439\", \"128440\", \"128441\", \n    \"128442\", \"128443\", \"128444\", \"128445\", \"128447\", \"128448\", \n    \"128455\", \"128456\", \"128457\", \"128458\", \"128460\", \"128461\", \n    \"128462\", \"128465\", \"128466\", \"128467\", \"128468\", \"128469\", \n    \"128471\", \"128473\", \"128474\", \"128475\", \"128476\", \"128477\", \n    \"128478\", \"128480\", \"128481\", \"128482\", \"128484\", \"128486\", \n    \"128487\", \"128488\", \"128491\", \"128493\", \"128494\", \"128495\", \n    \"128497\", \"128501\", \"128503\", \"128504\", \"128505\", \"128506\", \n    \"128508\", \"128509\", \"128511\", \"128513\", \"128515\", \"128519\", \n    \"128520\", \"128523\", \"128525\", \"128526\", \"128527\", \"128528\", \n    \"128531\", \"128532\", \"128537\", \"128541\", \"128542\", \"128544\", \n    \"128547\", \"128548\", \"128549\", \"128550\", \"128551\", \"128553\", \n    \"128554\", \"128555\", \"128556\", \"128557\", \"128558\", \"128559\", \n    \"128560\", \"128561\", \"128562\", \"128563\", \"128564\", \"128565\", \n    \"128566\", \"128568\", \"128570\", \"128571\", \"128573\", \"128575\", \n    \"128576\", \"128577\", \"128580\", \"128581\", \"128582\", \"128583\", \n    \"128584\", \"128585\", \"128588\", \"128591\", \"128594\", \"128596\", \n    \"128597\", \"128598\", \"128600\", \"128601\", \"128602\", \"128603\", \n    \"128606\", \"128608\", \"128609\", \"128610\", \"128612\", \"128615\", \n    \"128616\", \"128617\", \"128618\", \"128619\", \"128620\", \"128621\", \n    \"128622\", \"128623\", \"128624\", \"128625\", \"128627\", \"128628\", \n    \"128629\", \"128630\", \"128631\", \"128633\", \"128635\", \"128637\", \n    \"128638\", \"128639\", \"128641\", \"128643\", \"128645\", \"128646\", \n    \"128647\", \"128648\", \"128649\", \"128650\", \"128651\", \"128652\", \n    \"128653\", \"128655\", \"128656\", \"128657\", \"128659\", \"128660\", \n    \"128661\", \"128662\", \"128663\", \"128664\", \"128665\", \"128666\", \n    \"128667\", \"128668\", \"128669\", \"128670\", \"128671\", \"128672\", \n    \"128673\", \"128674\", \"128675\", \"128676\", \"128677\", \"128678\", \n    \"128679\", \"128680\", \"128682\", \"128683\", \"128684\", \"128685\", \n    \"128686\", \"128687\", \"128689\", \"128690\", \"128692\", \"128693\", \n    \"128694\", \"128696\", \"128697\", \"128698\", \"128700\", \"128701\", \n    \"128703\", \"128704\", \"128707\", \"128708\", \"128709\", \"128710\", \n    \"128711\", \"128715\", \"128716\", \"128719\", \"128720\", \"128721\", \n    \"128722\", \"128723\", \"128724\", \"128729\", \"128730\", \"128731\", \n    \"128733\", \"128734\", \"128737\", \"128738\", \"128739\", \"128740\", \n    \"128742\", \"128743\", \"128744\", \"128747\", \"128749\", \"128750\", \n    \"128751\", \"128752\", \"128753\", \"128754\", \"128755\", \"128756\", \n    \"128757\", \"128758\", \"128759\", \"128760\", \"128761\", \"128762\", \n    \"128763\", \"128765\", \"128766\", \"128769\", \"128770\", \"128771\", \n    \"128773\", \"128774\", \"128775\", \"128776\", \"128777\", \"128778\", \n    \"128779\", \"128780\", \"128782\", \"128784\", \"128786\", \"128787\", \n    \"128789\", \"128790\", \"128791\", \"128794\", \"128795\", \"128798\", \n    \"128799\", \"128800\", \"128801\", \"128802\", \"128803\", \"128804\", \n    \"128806\", \"128809\", \"128810\", \"128811\", \"128812\", \"128814\", \n    \"128816\", \"128817\", \"128818\", \"128819\", \"128820\", \"128821\", \n    \"128822\", \"128824\", \"128825\", \"128826\", \"128827\", \"128828\", \n    \"128830\", \"128831\", \"128832\", \"128833\", \"128834\", \"128836\", \n    \"128838\", \"128839\", \"128840\", \"128841\", \"128842\", \"128844\", \n    \"128845\", \"128847\", \"128848\", \"128850\", \"128852\", \"128853\", \n    \"128855\", \"128856\", \"128860\", \"128861\", \"128862\", \"128863\", \n    \"128864\", \"128865\", \"128867\", \"128869\", \"128870\", \"128871\", \n    \"128872\", \"128875\", \"128877\", \"128878\", \"128879\", \"128880\", \n    \"128882\", \"128883\", \"128884\", \"128887\", \"128888\", \"128889\", \n    \"128890\", \"128891\", \"128892\", \"128893\", \"128894\", \"128895\", \n    \"128896\", \"128897\", \"128899\", \"128901\", \"128903\", \"128904\", \n    \"128905\", \"128906\", \"128907\", \"128908\", \"128909\", \"128911\", \n    \"128912\", \"128914\", \"128915\", \"128916\", \"128917\", \"128919\", \n    \"128920\", \"128921\", \"128922\", \"128923\", \"128924\", \"128925\", \n    \"128926\", \"128927\", \"128928\", \"128930\", \"128931\", \"128933\", \n    \"128934\", \"128935\", \"128936\", \"128937\", \"128938\", \"128939\", \n    \"128940\", \"128941\", \"128944\", \"128945\", \"128946\", \"128948\", \n    \"128949\", \"128951\", \"128952\", \"128954\", \"128955\", \"128956\", \n    \"128957\", \"128958\", \"128959\", \"128960\", \"128963\", \"128964\", \n    \"128965\", \"128966\", \"128967\", \"128968\", \"128969\", \"128970\", \n    \"128971\", \"128974\", \"128976\", \"128977\", \"128978\", \"128979\", \n    \"128982\", \"128983\", \"128984\", \"128985\", \"128986\", \"128987\", \n    \"128989\", \"128990\", \"128991\", \"128993\", \"128995\", \"128997\", \n    \"128999\", \"129000\", \"129001\", \"129002\", \"129003\", \"129004\", \n    \"129006\", \"129007\", \"129008\", \"129010\", \"129011\", \"129012\", \n    \"129013\", \"129014\", \"129015\", \"129016\", \"129018\", \"129020\", \n    \"129021\", \"129022\", \"129023\", \"129024\", \"129025\", \"129026\", \n    \"129027\", \"129028\", \"129029\", \"129030\", \"129032\", \"129033\", \n    \"129034\", \"129035\", \"129037\", \"129038\", \"129041\", \"129042\", \n    \"129043\", \"129045\", \"129046\", \"129047\", \"129048\", \"129051\", \n    \"129053\", \"129054\", \"129055\", \"129059\", \"129061\", \"129063\", \n    \"129064\", \"129065\", \"129066\", \"129068\", \"129070\", \"129071\", \n    \"129073\", \"129076\", \"129077\", \"129080\", \"129082\", \"129083\", \n    \"129084\", \"129085\", \"129086\", \"129087\", \"129092\", \"129093\", \n    \"129094\", \"129095\", \"129096\", \"129098\", \"129099\", \"129100\", \n    \"129101\", \"129102\", \"129104\", \"129105\", \"129106\", \"129107\", \n    \"129109\", \"129112\", \"129113\", \"129114\", \"129115\", \"129116\", \n    \"129117\", \"129120\", \"129121\", \"129122\", \"129123\", \"129124\", \n    \"129127\", \"129128\", \"129129\", \"129130\", \"129131\", \"129132\", \n    \"129133\", \"129134\", \"129137\", \"129139\", \"129140\", \"129141\", \n    \"129143\", \"129144\", \"129145\", \"129146\", \"129148\", \"129149\", \n    \"129150\", \"129151\", \"129154\", \"129158\", \"129159\", \"129160\", \n    \"129163\", \"129164\", \"129165\", \"129166\", \"129168\", \"129169\", \n    \"129170\", \"129171\", \"129172\", \"129173\", \"129176\", \"129177\", \n    \"129178\", \"129180\", \"129181\", \"129182\", \"129183\", \"129184\", \n    \"129187\", \"129189\", \"129190\", \"129192\", \"129193\", \"129194\", \n    \"129195\", \"129196\", \"129197\", \"129198\", \"129199\", \"129200\", \n    \"129201\", \"129203\", \"129204\", \"129209\", \"129210\", \"129211\", \n    \"129212\", \"129213\", \"129215\", \"129217\", \"129220\", \"129221\", \n    \"129222\", \"129228\", \"129229\", \"129231\", \"129234\", \"129235\", \n    \"129236\", \"129239\", \"129240\", \"129241\", \"129242\", \"129243\", \n    \"129244\", \"129245\", \"129246\", \"129247\", \"129249\", \"129250\", \n    \"129251\", \"129253\", \"129254\", \"129256\", \"129257\", \"129259\", \n    \"129260\", \"129266\", \"129267\", \"129268\", \"129269\", \"129271\", \n    \"129272\", \"129274\", \"129275\", \"129276\", \"129277\", \"129278\", \n    \"129279\", \"129280\", \"129284\", \"129286\", \"129287\", \"129288\", \n    \"129290\", \"129291\", \"129292\", \"129293\", \"129294\", \"129295\", \n    \"129296\", \"129297\", \"129298\", \"129299\", \"129300\", \"129301\", \n    \"129302\", \"129304\", \"129305\", \"129306\", \"129307\", \"129309\", \n    \"129310\", \"129312\", \"129314\", \"129315\", \"129316\", \"129317\", \n    \"129323\", \"129324\", \"129325\", \"129326\", \"129329\", \"129330\", \n    \"129332\", \"129333\", \"129335\", \"129336\", \"129337\", \"129339\", \n    \"129343\", \"129344\", \"129345\", \"129347\", \"129349\", \"129350\", \n    \"129354\", \"129355\", \"129358\", \"129359\", \"129360\", \"129361\", \n    \"129362\", \"129363\", \"129365\", \"129366\", \"129367\", \"129368\", \n    \"129369\", \"129372\", \"129374\", \"129375\", \"129377\", \"129378\", \n    \"129379\", \"129380\", \"129381\", \"129382\", \"129383\", \"129384\", \n    \"129385\", \"129386\", \"129388\", \"129390\", \"129391\", \"129392\", \n    \"129393\", \"129395\", \"129396\", \"129399\", \"129400\", \"129401\", \n    \"129402\", \"129405\", \"129407\", \"129408\", \"129410\", \"129411\", \n    \"129412\", \"129413\", \"129414\", \"129415\", \"129417\", \"129418\", \n    \"129419\", \"129421\", \"129422\", \"129423\", \"129425\", \"129426\", \n    \"129427\")))\n\nDeviance Residuals: \n    Min       1Q   Median       3Q      Max  \n-1.1366  -0.4955  -0.2371  -0.2222   2.9458  \n\nCoefficients:\n                     Estimate Std. Error z value Pr(>|z|)    \n(Intercept)          -4.08369    0.04533 -90.078  < 2e-16 ***\ngendermale            0.02524    0.02185   1.156   0.2479    \nyear2019              0.01545    0.03299   0.468   0.6395    \nyear2020              0.07056    0.03253   2.169   0.0301 *  \nyear2021              0.13585    0.03204   4.240 2.23e-05 ***\nyear2022             -0.24205    0.03830  -6.319 2.63e-10 ***\nopenaccess_statusYES  0.02120    0.02402   0.882   0.3775    \nbin_sp1               0.36933    0.02844  12.988  < 2e-16 ***\nbin_loc1              1.78171    0.02229  79.923  < 2e-16 ***\nbin_nat1              1.65363    0.02943  56.193  < 2e-16 ***\n---\nSignif. codes:  0 ‘***’ 0.001 ‘**’ 0.01 ‘*’ 0.05 ‘.’ 0.1 ‘ ’ 1\n\n(Dispersion parameter for binomial family taken to be 1)\n\n    Null deviance: 76517  on 112015  degrees of freedom\nResidual deviance: 61714  on 112006  degrees of freedom\nAIC: 61734\n\nNumber of Fisher Scoring iterations: 6\n\n\n"
     ]
    }
   ],
   "source": [
    "##testing\n",
    "def domaind(a):\n",
    "\n",
    "  gender = []\n",
    "\n",
    "  yr = []\n",
    "  \n",
    "  for ind in a.index:\n",
    "    if a['cor_gender'][ind] == 'female' or a['cor_gender'][ind] == 'f' or a['cor_gender'][ind] == 'F':\n",
    "      gender.append(\"female\")\n",
    "      #gender.append(0)\n",
    "    else:\n",
    "      gender.append(\"male\") \n",
    "      #gender.append(1)\n",
    "\n",
    "    '''if a['year'][ind] == 2018:\n",
    "      yr.append('0')\n",
    "    elif a['year'][ind] == 2019:\n",
    "      yr.append('1')\n",
    "    elif a['year'][ind] == 2020:\n",
    "      yr.append('2')\n",
    "    elif a['year'][ind] == 2021:\n",
    "      yr.append('3')\n",
    "    elif a['year'][ind] == 2022:\n",
    "      yr.append('4')\n",
    "\n",
    "  a['yr'] = yr'''\n",
    "  a['gender'] = gender\n",
    "  a['srcid'] = a['srcid'].astype(str)\n",
    "  return a\n",
    "\n",
    "new = sep2.copy()\n",
    "new = new.drop(columns=['cor_au1'], axis = 1)\n",
    "q1, q2, q3 = 0.124, 0.25, 0.597\n",
    "\n",
    "q = []\n",
    "for ind in new.index:\n",
    "  if new['SJR'][ind] <= q1:\n",
    "    q.append(0)\n",
    "  elif new['SJR'][ind] > q1 and new['SJR'][ind] <= q2:\n",
    "    q.append(1)\n",
    "  elif new['SJR'][ind] > q2 and new['SJR'][ind] <= q3:\n",
    "    q.append(2)\n",
    "  else:\n",
    "    q.append(3)\n",
    "new['q'] = q\n",
    "\n",
    "\n",
    "\n",
    "a = domaind(new.copy(deep = True)) #sig - loc (men less likely, est = -0.171878, p val = < 2e-16 ***), nat (men more likely, est = 0.16516, p val = < 2e-16 ***), sp (men more likely, est = 0.21216, p val = < 2e-16 ***) ##int - insig\n",
    "\n",
    "\n",
    "\n",
    "with localconverter(ro.default_converter + pandas2ri.converter):\n",
    "  tst_df = ro.conversion.py2rpy(a)\n",
    "\n",
    "col_2_index = list(tst_df.colnames).index('gender')\n",
    "col_2 = ro.vectors.FactorVector(tst_df.rx2('gender'))\n",
    "tst_df[col_2_index] = col_2\n",
    "\n",
    "col_2_index = list(tst_df.colnames).index('q')\n",
    "col_2 = ro.vectors.FactorVector(tst_df.rx2('q'))\n",
    "tst_df[col_2_index] = col_2\n",
    "\n",
    "col_2_index = list(tst_df.colnames).index('Field_English')\n",
    "col_2 = ro.vectors.FactorVector(tst_df.rx2('Field_English'))\n",
    "tst_df[col_2_index] = col_2\n",
    "\n",
    "col_2_index = list(tst_df.colnames).index('SubField_English')\n",
    "col_2 = ro.vectors.FactorVector(tst_df.rx2('SubField_English'))\n",
    "tst_df[col_2_index] = col_2\n",
    "\n",
    "col_2_index = list(tst_df.colnames).index('Domain_English')\n",
    "col_2 = ro.vectors.FactorVector(tst_df.rx2('Domain_English'))\n",
    "tst_df[col_2_index] = col_2\n",
    "\n",
    "col_2_index = list(tst_df.colnames).index('year')\n",
    "col_2 = ro.vectors.FactorVector(tst_df.rx2('year'))\n",
    "tst_df[col_2_index] = col_2\n",
    "\n",
    "col_2_index = list(tst_df.colnames).index('openaccess_status')\n",
    "col_2 = ro.vectors.FactorVector(tst_df.rx2('openaccess_status'))\n",
    "tst_df[col_2_index] = col_2\n",
    "\n",
    "col_2_index = list(tst_df.colnames).index('bin_loc')\n",
    "col_2 = ro.vectors.FactorVector(tst_df.rx2('bin_loc'))\n",
    "tst_df[col_2_index] = col_2\n",
    "\n",
    "col_2_index = list(tst_df.colnames).index('bin_nat')\n",
    "col_2 = ro.vectors.FactorVector(tst_df.rx2('bin_nat'))\n",
    "tst_df[col_2_index] = col_2\n",
    "\n",
    "'''col_2_index = list(tst_df.colnames).index('bin_int')\n",
    "col_2 = ro.vectors.FactorVector(tst_df.rx2('bin_int'))\n",
    "tst_df[col_2_index] = col_2'''\n",
    "\n",
    "col_2_index = list(tst_df.colnames).index('bin_sp')\n",
    "col_2 = ro.vectors.FactorVector(tst_df.rx2('bin_sp'))\n",
    "tst_df[col_2_index] = col_2\n",
    "\n",
    "\n",
    "\n",
    "#print(tst_df)\n",
    "\n",
    "model = stats.glm(\"bin_int ~ gender+year+openaccess_status+bin_sp+bin_loc+bin_nat\",data=tst_df,family=ro.r('binomial(link=\"logit\")'))  #,family=ro('binomial(link=\"logit\")') #family=ro.r('binomial')\n",
    "print(base.summary(model))"
   ]
  },
  {
   "cell_type": "markdown",
   "metadata": {
    "application/vnd.databricks.v1+cell": {
     "cellMetadata": {},
     "inputWidgets": {},
     "nuid": "e340cdb6-6379-4dee-ab65-66f992c7cc09",
     "showTitle": false,
     "title": ""
    }
   },
   "source": [
    "### Regression for paper"
   ]
  },
  {
   "cell_type": "code",
   "execution_count": 0,
   "metadata": {
    "application/vnd.databricks.v1+cell": {
     "cellMetadata": {
      "byteLimit": 2048000,
      "rowLimit": 10000
     },
     "inputWidgets": {},
     "nuid": "f2489e1d-07d3-492e-9148-c3d0ec5db72d",
     "showTitle": false,
     "title": ""
    }
   },
   "outputs": [
    {
     "output_type": "stream",
     "name": "stdout",
     "output_type": "stream",
     "text": [
      "<command-4418385108812320>:12: SettingWithCopyWarning: \nA value is trying to be set on a copy of a slice from a DataFrame.\nTry using .loc[row_indexer,col_indexer] = value instead\n\nSee the caveats in the documentation: https://pandas.pydata.org/pandas-docs/stable/user_guide/indexing.html#returning-a-view-versus-a-copy\n  a['gender'] = gender\n<command-4418385108812320>:13: SettingWithCopyWarning: \nA value is trying to be set on a copy of a slice from a DataFrame.\nTry using .loc[row_indexer,col_indexer] = value instead\n\nSee the caveats in the documentation: https://pandas.pydata.org/pandas-docs/stable/user_guide/indexing.html#returning-a-view-versus-a-copy\n  a['srcid'] = a['srcid'].astype(str)\n\nCall:\n(function (formula, family = gaussian, data, weights, subset, \n    na.action, start = NULL, etastart, mustart, offset, control = list(...), \n    model = TRUE, method = \"glm.fit\", x = FALSE, y = TRUE, singular.ok = TRUE, \n    contrasts = NULL, ...) \n{\n    cal <- match.call()\n    if (is.character(family)) \n        family <- get(family, mode = \"function\", envir = parent.frame())\n    if (is.function(family)) \n        family <- family()\n    if (is.null(family$family)) {\n        print(family)\n        stop(\"'family' not recognized\")\n    }\n    if (missing(data)) \n        data <- environment(formula)\n    mf <- match.call(expand.dots = FALSE)\n    m <- match(c(\"formula\", \"data\", \"subset\", \"weights\", \"na.action\", \n        \"etastart\", \"mustart\", \"offset\"), names(mf), 0L)\n    mf <- mf[c(1L, m)]\n    mf$drop.unused.levels <- TRUE\n    mf[[1L]] <- quote(stats::model.frame)\n    mf <- eval(mf, parent.frame())\n    if (identical(method, \"model.frame\")) \n        return(mf)\n    if (!is.character(method) && !is.function(method)) \n        stop(\"invalid 'method' argument\")\n    if (identical(method, \"glm.fit\")) \n        control <- do.call(\"glm.control\", control)\n    mt <- attr(mf, \"terms\")\n    Y <- model.response(mf, \"any\")\n    if (length(dim(Y)) == 1L) {\n        nm <- rownames(Y)\n        dim(Y) <- NULL\n        if (!is.null(nm)) \n            names(Y) <- nm\n    }\n    X <- if (!is.empty.model(mt)) \n        model.matrix(mt, mf, contrasts)\n    else matrix(, NROW(Y), 0L)\n    weights <- as.vector(model.weights(mf))\n    if (!is.null(weights) && !is.numeric(weights)) \n        stop(\"'weights' must be a numeric vector\")\n    if (!is.null(weights) && any(weights < 0)) \n        stop(\"negative weights not allowed\")\n    offset <- as.vector(model.offset(mf))\n    if (!is.null(offset)) {\n        if (length(offset) != NROW(Y)) \n            stop(gettextf(\"number of offsets is %d should equal %d (number of observations)\", \n                length(offset), NROW(Y)), domain = NA)\n    }\n    mustart <- model.extract(mf, \"mustart\")\n    etastart <- model.extract(mf, \"etastart\")\n    fit <- eval(call(if (is.function(method)) \"method\" else method, \n        x = X, y = Y, weights = weights, start = start, etastart = etastart, \n        mustart = mustart, offset = offset, family = family, \n        control = control, intercept = attr(mt, \"intercept\") > \n            0L, singular.ok = singular.ok))\n    if (length(offset) && attr(mt, \"intercept\") > 0L) {\n        fit2 <- eval(call(if (is.function(method)) \"method\" else method, \n            x = X[, \"(Intercept)\", drop = FALSE], y = Y, mustart = fit$fitted.values, \n            weights = weights, offset = offset, family = family, \n            control = control, intercept = TRUE))\n        if (!fit2$converged) \n            warning(\"fitting to calculate the null deviance did not converge -- increase 'maxit'?\")\n        fit$null.deviance <- fit2$deviance\n    }\n    if (model) \n        fit$model <- mf\n    fit$na.action <- attr(mf, \"na.action\")\n    if (x) \n        fit$x <- X\n    if (!y) \n        fit$y <- NULL\n    structure(c(fit, list(call = cal, formula = formula, terms = mt, \n        data = data, offset = offset, control = control, method = method, \n        contrasts = attr(X, \"contrasts\"), xlevels = .getXlevels(mt, \n            mf))), class = c(fit$class, c(\"glm\", \"lm\")))\n})(formula = \"bin_int ~ gender+Field_English+year+bin_nat+bin_sp+bin_loc+openaccess_status\", \n    family = structure(list(family = \"binomial\", link = \"logit\", \n        linkfun = function (mu) \n        .Call(C_logit_link, mu), linkinv = function (eta) \n        .Call(C_logit_linkinv, eta), variance = function (mu) \n        mu * (1 - mu), dev.resids = function (y, mu, wt) \n        .Call(C_binomial_dev_resids, y, mu, wt), aic = function (y, \n            n, mu, wt, dev) \n        {\n            m <- if (any(n > 1)) \n                n\n            else wt\n            -2 * sum(ifelse(m > 0, (wt/m), 0) * dbinom(round(m * \n                y), round(m), mu, log = TRUE))\n        }, mu.eta = function (eta) \n        .Call(C_logit_mu_eta, eta), initialize = {\n            if (NCOL(y) == 1) {\n                if (is.factor(y)) \n                  y <- y != levels(y)[1L]\n                n <- rep.int(1, nobs)\n                y[weights == 0] <- 0\n                if (any(y < 0 | y > 1)) \n                  stop(\"y values must be 0 <= y <= 1\")\n                mustart <- (weights * y + 0.5)/(weights + 1)\n                m <- weights * y\n                if (\"binomial\" == \"binomial\" && any(abs(m - round(m)) > \n                  0.001)) \n                  warning(gettextf(\"non-integer #successes in a %s glm!\", \n                    \"binomial\"), domain = NA)\n            }\n            else if (NCOL(y) == 2) {\n                if (\"binomial\" == \"binomial\" && any(abs(y - round(y)) > \n                  0.001)) \n                  warning(gettextf(\"non-integer counts in a %s glm!\", \n                    \"binomial\"), domain = NA)\n                n <- (y1 <- y[, 1L]) + y[, 2L]\n                y <- y1/n\n                if (any(n0 <- n == 0)) \n                  y[n0] <- 0\n                weights <- weights * n\n                mustart <- (n * y + 0.5)/(n + 1)\n            }\n            else stop(gettextf(\"for the '%s' family, y must be a vector of 0 and 1's\\nor a 2 column matrix where col 1 is no. successes and col 2 is no. failures\", \n                \"binomial\"), domain = NA)\n        }, validmu = function (mu) \n        all(is.finite(mu)) && all(mu > 0 & mu < 1), valideta = function (eta) \n        TRUE, simulate = function (object, nsim) \n        {\n            ftd <- fitted(object)\n            n <- length(ftd)\n            ntot <- n * nsim\n            wts <- object$prior.weights\n            if (any(wts%%1 != 0)) \n                stop(\"cannot simulate from non-integer prior.weights\")\n            if (!is.null(m <- object$model)) {\n                y <- model.response(m)\n                if (is.factor(y)) {\n                  yy <- factor(1 + rbinom(ntot, size = 1, prob = ftd), \n                    labels = levels(y))\n                  split(yy, rep(seq_len(nsim), each = n))\n                }\n                else if (is.matrix(y) && ncol(y) == 2) {\n                  yy <- vector(\"list\", nsim)\n                  for (i in seq_len(nsim)) {\n                    Y <- rbinom(n, size = wts, prob = ftd)\n                    YY <- cbind(Y, wts - Y)\n                    colnames(YY) <- colnames(y)\n                    yy[[i]] <- YY\n                  }\n                  yy\n                }\n                else rbinom(ntot, size = wts, prob = ftd)/wts\n            }\n            else rbinom(ntot, size = wts, prob = ftd)/wts\n        }), class = \"family\"), data = structure(list(doi = c(\"10.1038/s42003-022-03334-8\", \n    \"10.1016/j.icarus.2021.114594\", \"10.1038/s41558-022-01426-1\", \n    \"10.1038/s41586-022-04788-w\", \"10.1126/science.aaw1313\", \n    \"10.1073/pnas.1920849117\", \"10.1038/s41558-022-01290-z\", \n    \"10.1016/j.cub.2021.03.103\", \"10.1021/acs.jnatprod.1c00946\", \n    \"10.1038/s41467-022-28764-0\", \"10.1038/s41586-021-03596-y\", \n    \"10.1038/s41586-022-04664-7\", \"10.1038/s41550-020-1198-9\", \n    \"10.1126/science.aaz9600\", \"10.1021/acs.estlett.1c00240\", \n    \"10.1038/s41559-019-1027-7\", \"10.1038/s41467-021-21849-2\", \n    \"10.1038/s41467-022-28333-5\", \"10.1073/pnas.2013284118\", \n    \"10.1073/pnas.1916631117\", \"10.1126/sciadv.abd0288\", \"10.1126/sciadv.abg3080\", \n    \"10.1126/sciadv.aav1784\", \"10.1126/science.abk2793\", \"10.1038/s41562-021-01267-6\", \n    \"10.1038/s41598-021-82320-2\", \"10.1038/s41467-022-29379-1\", \n    \"10.1001/jama.2021.5469\", \"10.1038/s41467-019-08471-z\", \"10.1002/jwmg.22177\", \n    \"10.1126/science.abe7389\", \"10.1038/s41561-022-01019-9\", \n    \"10.1126/science.abf1396\", \"10.1038/s41558-019-0632-4\", \"10.1016/j.cub.2021.04.067\", \n    \"10.1126/sciadv.abf4491\", \"10.1038/s41586-022-04449-y\", \"10.1073/pnas.2101084119\", \n    \"10.1126/sciadv.aat0131\", \"10.1038/s41467-022-29458-3\", \"10.1073/pnas.1812883116\", \n    \"10.1073/pnas.2115329119\", \"10.1038/s41558-021-01077-8\", \n    \"10.1126/science.aar7204\", \"10.1126/sciadv.abq0995\", \"10.1126/science.abk1781\", \n    \"10.1038/s41467-021-22838-1\", \"10.1038/s41467-021-22799-5\", \n    \"10.1126/science.abi9167\", \"10.1073/pnas.1817407116\", \"10.1038/nature25767\", \n    \"10.1038/s41558-018-0222-x\", \"10.1021/acs.est.1c04707\", \"10.1073/pnas.1718804115\", \n    \"10.1038/s41550-021-01495-w\", \"10.1038/s43016-021-00343-4\", \n    \"10.1038/s41586-019-1720-3\", \"10.1126/science.abe9039\", \"10.1111/faf.12525\", \n    \"10.1088/1748-9326/abfba1\", \"10.1038/s41586-021-04281-w\", \n    \"10.1038/s41467-021-22079-2\", \"10.1126/sciadv.abe0166\", \"10.1038/s43016-021-00358-x\", \n    \"10.1098/rspb.2019.2736\", \"10.1038/s41586-021-03550-y\", \"10.1126/sciadv.aaw1838\", \n    \"10.1126/science.aaq0524\", \"10.1111/gcb.15806\", \"10.1073/pnas.1718850115\", \n    \"10.1126/science.abc5810\", \"10.1016/j.cub.2020.01.071\", \"10.1038/s41598-021-02447-0\", \n    \"10.1038/s41550-018-0450-z\", \"10.1038/s41586-022-04770-6\", \n    \"10.1038/s41586-018-0158-3\", \"10.1126/sciadv.aax6250\", \"10.1038/s41586-018-0106-2\", \n    \"10.2138/am-2022-8099\", \"10.1073/pnas.1818859116\", \"10.1088/1748-9326/ab83a7\", \n    \"10.1016/j.cub.2017.11.057\", \"10.1038/s41550-019-0917-6\", \n    \"10.1126/sciadv.abn9493\", \"10.1007/s10584-022-03387-y\", \"10.1038/s43017-021-00219-y\", \n    \"10.1038/s41467-021-23377-5\", \"10.1038/s41550-018-0430-3\", \n    \"10.1038/s41586-020-2377-7\", \"10.1016/j.cub.2019.11.067\", \n    \"10.1073/pnas.2025919118\", \"10.3847/2041-8213/ac1f95\", \"10.1093/mnrasl/slac035\", \n    \"10.1038/s41467-019-11297-4\", \"10.1038/s41561-019-0458-8\", \n    \"10.1073/pnas.1802345115\", \"10.1126/sciadv.abm0320\", \"10.1126/sciadv.aba1940\", \n    \"10.1038/s43016-022-00573-0\", \"10.1073/pnas.2020778118\", \n    \"10.1038/s41467-022-29056-3\", \"10.1073/pnas.1717312115\", \n    \"10.1080/14772019.2021.1924301\", \"10.1038/s41561-019-0362-2\", \n    \"10.1126/science.aaw7912\", \"10.1001/jamanetworkopen.2020.7551\", \n    \"10.1038/s41550-022-01634-x\", \"10.1038/s41559-020-1122-9\", \n    \"10.1126/science.aan8677\", \"10.1038/s41586-018-0752-4\", \"10.1038/s41550-021-01384-2\", \n    \"10.1038/s41559-019-0888-0\", \"10.1126/science.aaz5819\", \"10.1111/gcb.14864\", \n    \"10.1038/s41586-021-03371-z\", \"10.1038/s41550-019-0977-7\", \n    \"10.1126/science.abm0151\", \"10.1073/pnas.1904573117\", \"10.1073/pnas.1906556116\", \n    \"10.1126/science.aar5629\", \"10.1038/s41550-019-0813-0\", \"10.1038/s41586-022-05224-9\", \n    \"10.1073/pnas.1913007117\", \"10.1016/j.gecco.2020.e01371\", \n    \"10.1371/journal.pone.0242668\", \"10.1111/aje.12586\", \"10.3897/zookeys.1096.73485\", \n    \"10.1126/science.aar7121\", \"10.1073/pnas.1917204117\", \"10.1038/s41586-018-0053-y\", \n    \"10.1126/science.aao1619\", \"10.1038/s41550-018-0529-6\", \"10.1021/acs.est.2c01583\", \n    \"10.1038/s41586-018-0646-5\", \"10.1038/s41598-018-22313-w\", \n    \"10.1038/s41550-021-01539-1\", \"10.1073/pnas.2107402118\", \n    \"10.1038/s41598-020-61480-7\", \"10.1038/s41586-021-03667-0\", \n    \"10.1126/sciadv.aau3669\", \"10.1016/j.envint.2020.105668\", \n    \"10.3897/zookeys.928.47517\", \"10.1007/s00227-022-04090-3\", \n    \"10.1126/sciadv.aaq1012\", \"10.1038/s41550-018-0405-4\", \"10.1371/journal.pone.0226087\", \n    \"10.1038/s41586-019-1513-8\", \"10.1111/ele.13434\", \"10.3847/1538-4357/ac723a\", \n    \"10.1038/s41586-021-03860-1\", \"10.1111/maps.13653\", \"10.1038/s41559-017-0431-0\", \n    \"10.1073/pnas.2123516119\", \"10.1038/s41561-022-00971-w\", \n    \"10.1038/s41598-020-59528-9\", \"10.1038/s41586-021-03991-5\", \n    \"10.1016/j.biocon.2018.08.012\", \"10.1111/brv.12816\", \"10.1073/pnas.1722477115\", \n    \"10.1098/rsbl.2018.0056\", \"10.1038/s41467-022-29818-z\", \"10.1080/02724634.2020.1767638\", \n    \"10.1126/sciadv.aat3272\", \"10.1126/science.aar3320\", \"10.1126/science.aao5646\", \n    \"10.1126/science.aat3466\", \"10.1016/j.icarus.2021.114872\", \n    \"10.1038/s41586-021-03427-0\", \"10.1021/acs.est.1c08298\", \n    \"10.1038/nature25792\", \"10.1126/sciadv.abe2101\", \"10.1038/s41893-019-0220-7\", \n    \"10.1126/science.aax9044\", \"10.1073/pnas.1816541116\", \"10.1038/s41586-020-2234-8\", \n    \"10.1073/pnas.1908253116\", \"10.1038/nature25029\", \"10.1038/s41586-020-2713-y\", \n    \"10.1038/s41467-019-11690-z\", \"10.1038/s41370-021-00366-w\", \n    \"10.1111/phen.12385\", \"10.1038/s41598-021-97778-3\", \"10.1126/science.abc7717\", \n    \"10.1038/s41586-018-0673-2\", \"10.1098/rstb.2019.0296\", \"10.1126/science.abk3510\", \n    \"10.1038/s41598-022-13402-y\", \"10.1126/science.aax3528\", \n    \"10.1038/s41612-022-00230-0\", \"10.1073/pnas.2119194119\", \n    \"10.1007/s00126-020-00956-y\", \"10.1038/s41467-018-02992-9\", \n    \"10.1080/02724634.2019.1570222\", \"10.1126/science.abb9772\", \n    \"10.1126/science.abm1742\", \"10.1016/j.exis.2020.04.011\", \n    \"10.1016/j.cub.2021.01.048\", \"10.1073/pnas.1904242116\", \"10.1038/s41586-020-1991-8\", \n    \"10.1038/s41586-020-2487-2\", \"10.3897/zookeys.1036.62034\", \n    \"10.1038/s41586-022-04737-7\", \"10.1038/s41467-019-08457-x\", \n    \"10.1126/science.aam7240\", \"10.1038/s41586-021-03805-8\", \n    \"10.1111/1752-1688.12937\", \"10.1038/s41586-020-2412-8\", \"10.1038/s41550-021-01363-7\", \n    \"10.1073/pnas.2023251118\", \"10.1016/j.icarus.2018.08.026\", \n    \"10.1038/s41586-021-03695-w\", \"10.1126/science.aat9077\", \n    \"10.1088/1748-9326/ac2966\", \"10.1038/s41598-019-44296-y\", \n    \"10.1126/science.aaz9463\", \"10.1073/pnas.2101155118\", \"10.1038/s41893-021-00691-w\", \n    \"10.1371/journal.pone.0210831\", \"10.1126/sciadv.abf0068\", \n    \"10.1038/s41467-020-19183-0\", \"10.1126/sciadv.abk1743\", \"10.1038/s41586-018-0334-5\", \n    \"10.1126/sciadv.aao5747\", \"10.1038/s41612-018-0012-1\", \"10.1038/s41561-019-0510-8\", \n    \"10.3847/1538-3881/abc418\", \"10.1126/sciadv.abc5439\", \"10.1038/s41558-018-0315-6\", \n    \"10.3390/fire3030050\", \"10.1038/s41586-020-2780-0\", \"10.1126/science.abg1134\", \n    \"10.1038/s41612-018-0048-2\", \"10.1038/s41561-020-0544-y\", \n    \"10.1073/pnas.2117832119\", \"10.1126/science.abf1772\", \"10.1038/s41586-018-0651-8\", \n    \"10.1126/science.aao2216\", \"10.1126/science.aaq0131\", \"10.1073/pnas.1912506117\", \n    \"10.1126/sciadv.aau7042\", \"10.1038/s41586-020-2190-3\", \"10.1073/pnas.2006323117\", \n    \"10.1126/science.abg7905\", \"10.1002/lol2.10181\", \"10.3389/fevo.2021.758374\", \n    \"10.1016/j.cub.2020.06.044\", \"10.1126/science.aaz3549\", \"10.1111/mms.12776\", \n    \"10.1126/science.abq2299\", \"10.1038/s41561-020-0538-9\", \"10.1098/rsos.171332\", \n    \"10.1038/s41561-019-0310-1\", \"10.1038/s41586-020-2617-x\", \n    \"10.1126/science.aav8137\", \"10.1126/science.abe8116\", \"10.1038/s41598-022-10485-5\", \n    \"10.1038/s41467-019-08540-3\", \"10.1038/s41586-022-04599-z\", \n    \"10.7717/peerj.9652\", \"10.1785/0220170154\", \"10.1016/j.cub.2018.06.010\", \n    \"10.1016/j.cub.2020.11.011\", \"10.1038/s41559-021-01401-7\", \n    \"10.1126/sciadv.aao5017\", \"10.1016/j.agsy.2018.02.003\", \"10.1038/s41598-019-39356-2\", \n    \"10.1126/science.abg3651\", \"10.1016/j.cub.2021.05.041\", \"10.1073/pnas.2115651119\", \n    \"10.1016/j.cub.2020.09.048\", \"10.1038/s43016-021-00400-y\", \n    \"10.1038/s41467-020-18398-5\", \"10.1016/j.envres.2021.111872\", \n    \"10.1126/science.aas9185\", \"10.1126/science.aat1327\", \"10.1126/science.abm3301\", \n    \"10.1093/biosci/biy063\", \"10.1088/1748-9326/ab2da8\", \"10.1021/acs.estlett.1c00877\", \n    \"10.1038/s41586-018-0123-1\", \"10.1126/science.abo2196\", \"10.1038/s41550-017-0374-z\", \n    \"10.1038/s41586-019-1364-3\", \"10.1086/703418\", \"10.1371/journal.pone.0200574\", \n    \"10.1038/s41586-022-05133-x\", \"10.3389/fevo.2019.00480\", \n    \"10.1126/sciadv.aay5478\", \"10.1089/ast.2017.1783\", \"10.1038/s41598-020-75248-6\", \n    \"10.1016/j.icarus.2018.10.027\", \"10.1126/sciadv.abo6342\", \n    \"10.1088/1748-9326/ac1bd8\", \"10.1073/pnas.2002722117\", \"10.1021/acs.estlett.1c00559\", \n    \"10.1002/eap.2339\", \"10.1126/sciadv.aaw2869\", \"10.1088/1748-9326/aabb32\", \n    \"10.1021/acs.est.2c02111\", \"10.1126/science.abo7063\", \"10.1126/science.aat0738\", \n    \"10.3847/1538-4357/abde3d\", \"10.1016/j.gsf.2021.101245\", \n    \"10.1073/pnas.1913093116\", \"10.1038/s41586-020-2742-6\", \"10.1002/adma.201703257\", \n    \"10.1016/j.cub.2021.07.043\", \"10.1126/science.abl4784\", \"10.1126/sciadv.aau3433\", \n    \"10.1073/pnas.1909479116\", \"10.1111/gbi.12369\", \"10.1126/science.aan5360\", \n    \"10.1126/sciadv.aap9741\", \"10.1073/pnas.1901084116\", \"10.1007/s42991-021-00177-4\", \n    \"10.1126/sciadv.aap8368\", \"10.1098/rsos.211729\", \"10.3389/fevo.2019.00258\", \n    \"10.1021/acs.est.1c05175\", \"10.1126/science.aao5987\", \"10.1038/s41559-019-0951-x\", \n    \"10.11646/zootaxa.4619.1.4\", \"10.1126/science.abn2600\", \"10.1016/j.cub.2021.01.034\", \n    \"10.1038/s41586-021-04286-5\", \"10.1007/s40572-018-0206-z\", \n    \"10.1126/science.aas9315\", \"10.1016/j.cub.2019.05.076\", \"10.3847/2041-8213/ac8007\", \n    \"10.1038/s41558-020-00976-6\", \"10.1038/s41612-019-0074-8\", \n    \"10.1038/s41586-020-2801-z\", \"10.1126/sciadv.abm8475\", \"10.1038/s41586-021-03804-9\", \n    \"10.1073/pnas.1806562116\", \"10.1073/pnas.2013637118\", \"10.1126/science.aaw6888\", \n    \"10.1073/pnas.2001045117\", \"10.1126/sciadv.aat1613\", \"10.1089/ast.2021.0044\", \n    \"10.1371/journal.pone.0223471\", \"10.1038/s41586-020-2172-5\", \n    \"10.1371/journal.pone.0194970\", \"10.1021/acs.nanolett.1c04722\", \n    \"10.1016/j.envint.2021.106402\", \"10.7717/peerj.13032\", \"10.1038/nature25968\", \n    \"10.1126/sciadv.abm9916\", \"10.1126/science.aap8525\", \"10.1016/j.resconrec.2022.106363\", \n    \"10.1038/s41586-018-0610-4\", \"10.1038/s41467-022-31522-x\", \n    \"10.1371/journal.pone.0220029\", \"10.1126/science.abd6951\", \n    \"10.1126/science.abl8568\", \"10.1038/s41550-019-0928-3\", \"10.1126/sciadv.aaq0030\", \n    \"10.1098/rspb.2018.1292\", \"10.1038/s41598-020-66008-7\", \"10.1038/s41467-021-27188-6\", \n    \"10.1038/s41557-021-00820-0\", \"10.1073/pnas.1712629115\", \n    \"10.1126/sciadv.aax7445\", \"10.1126/science.abg6037\", \"10.1038/s41586-021-03615-y\", \n    \"10.1073/pnas.2020719118\", \"10.1126/sciadv.aav9396\", \"10.1038/s41558-019-0637-z\", \n    \"10.3847/1538-4357/ac224f\", \"10.1038/s41586-019-0909-9\", \n    \"10.1371/journal.pone.0196127\", \"10.3847/2041-8213/ac7235\", \n    \"10.1038/s41558-018-0149-2\", \"10.1038/s41550-021-01448-3\", \n    \"10.1086/696124\", \"10.1038/s41586-021-04349-7\", \"10.1126/sciadv.abl8731\", \n    \"10.1016/j.jhevol.2019.05.011\", \"10.1038/s41561-018-0243-0\", \n    \"10.1073/pnas.2118329119\", \"10.1016/j.icarus.2021.114768\", \n    \"10.1038/s41586-021-04325-1\", \"10.3847/1538-3881/ac415b\", \n    \"10.1016/j.resconrec.2019.04.008\", \"10.1038/s41586-020-1983-8\", \n    \"10.1021/acs.est.1c06768\", \"10.1038/s41550-019-0933-6\", \"10.1073/pnas.2200539119\", \n    \"10.1038/s41561-021-00859-1\", \"10.1088/1748-9326/aaf303\", \n    \"10.1093/mnrasl/slaa161\", \"10.3847/1538-3881/ac87fd\", \"10.1038/s41467-018-04962-7\", \n    \"10.1073/pnas.2207612119\", \"10.1088/1361-6382/abdf6e\", \"10.1038/s41561-019-0329-3\", \n    \"10.1073/pnas.2021442118\", \"10.1073/pnas.2014166117\", \"10.1126/science.aay5055\", \n    \"10.7717/peerj.4565\", \"10.1038/s41598-020-78858-2\", \"10.1038/s41550-020-01248-1\", \n    \"10.1073/pnas.1809600115\", \"10.1371/journal.pone.0227699\", \n    \"10.3389/fevo.2021.742639\", \"10.1016/j.cub.2020.06.106\", \n    \"10.1038/s41586-019-1497-4\", \"10.1007/s11692-022-09573-1\", \n    \"10.1038/s41561-021-00761-w\", \"10.1515/mammalia-2020-0027\", \n    \"10.1126/science.aat0985\", \"10.1038/s41586-020-2346-1\", \"10.1038/s41467-020-20871-0\", \n    \"10.1038/s41586-022-04990-w\", \"10.1073/pnas.1717689115\", \n    \"10.1126/science.abc1338\", \"10.1093/beheco/araa111\", \"10.1371/journal.pone.0239531\", \n    \"10.1021/acs.estlett.1c01012\", \"10.1371/journal.pone.0216532\", \n    \"10.1073/pnas.1920012117\", \"10.1016/j.icarus.2019.113526\", \n    \"10.1007/s10329-021-00890-1\", \"10.1038/s41586-020-2872-x\", \n    \"10.1016/j.cub.2020.11.050\", \"10.1089/ast.2017.1727\", \"10.1073/pnas.2123536119\", \n    \"10.1038/s42003-019-0308-7\", \"10.1073/pnas.1905989116\", \"10.1038/s41370-022-00442-9\", \n    \"10.1016/j.matt.2019.05.010\", \"10.1126/science.aav1446\", \n    \"10.1038/s41598-020-64854-z\", \"10.1016/j.cub.2022.04.033\", \n    \"10.1073/pnas.2110889118\", \"10.1073/pnas.1904822116\", \"10.1126/sciadv.aax4631\", \n    \"10.1038/s41598-019-51699-4\", \"10.1073/pnas.2121084119\", \n    \"10.1016/j.icarus.2021.114499\", \"10.1089/ast.2017.1729\", \n    \"10.1007/s10980-020-00995-w\", \"10.1126/sciadv.abq1898\", \"10.1242/jeb.243121\", \n    \"10.3847/2041-8213/ac504b\", \"10.1038/s41467-018-05252-y\", \n    \"10.1038/s41558-020-00958-8\", \"10.1098/rspb.2021.1760\", \"10.1073/pnas.2009717118\", \n    \"10.7717/peerj.6088\", \"10.1073/pnas.2023483118\", \"10.1038/s41558-021-01026-5\", \n    \"10.1126/sciadv.aaz9588\", \"10.1038/s41586-018-0757-z\", \"10.1038/s41586-022-04853-4\", \n    \"10.1126/sciadv.aau2736\", \"10.1126/sciadv.aaw9906\", \"10.1038/s41467-019-08307-w\", \n    \"10.1038/s41558-022-01285-w\", \"10.3390/agronomy8030025\", \n    \"10.1038/s41550-021-01339-7\", \"10.1126/sciadv.abb9785\", \"10.1038/s41586-021-04257-w\", \n    \"10.1126/sciadv.abm4346\", \"10.1016/j.biocon.2020.108596\", \n    \"10.1038/s41567-021-01351-8\", \"10.3389/fpls.2020.601316\", \n    \"10.1126/sciadv.aay4109\", \"10.1038/s41559-022-01723-0\", \"10.1038/s42003-020-01207-6\", \n    \"10.1016/j.biocon.2018.01.025\", \"10.1038/s41558-019-0398-8\", \n    \"10.1073/pnas.1713139115\", \"10.1038/s41586-019-1813-z\", \"10.1038/s41586-020-2534-z\", \n    \"10.1038/s41550-020-1087-2\", \"10.1038/s41598-021-94872-4\", \n    \"10.1038/s41561-021-00753-w\", \"10.1126/sciadv.aaw7123\", \"10.1038/s41598-020-75665-7\", \n    \"10.1002/fee.2149\", \"10.1126/sciadv.aao2994\", \"10.1038/s41586-022-04528-0\", \n    \"10.1038/s41557-019-0249-2\", \"10.1016/j.tplants.2020.07.013\", \n    \"10.1073/pnas.1711234115\", \"10.1086/695703\", \"10.1016/j.envint.2018.03.008\", \n    \"10.1038/s41598-018-22258-0\", \"10.1016/j.scitotenv.2020.136610\", \n    \"10.1038/s41598-019-40765-6\", \"10.1038/s41467-021-23853-y\", \n    \"10.1126/science.abb0943\", \"10.1016/j.biocon.2019.108259\", \n    \"10.1126/science.aay2268\", \"10.1098/rsos.190368\", \"10.1088/1748-9326/abb266\", \n    \"10.1126/science.aau4005\", \"10.1038/s41586-020-2120-4\", \"10.1038/s41550-020-1069-4\", \n    \"10.1126/sciadv.abi7647\", \"10.1038/s41586-018-0738-2\", \"10.1038/s41586-018-0352-3\", \n    \"10.1038/s41561-022-00961-y\", \"10.1038/s41598-020-60867-w\", \n    \"10.1111/conl.12595\", \"10.1073/pnas.1818371116\", \"10.1016/j.marpolbul.2019.01.013\", \n    \"10.1038/s41467-018-05501-0\", \"10.1021/acsphotonics.9b00679\", \n    \"10.1073/pnas.1920875117\", \"10.1126/science.aat1598\", \"10.1089/ast.2018.1902\", \n    \"10.1175/jamc-d-18-0341.1\", \"10.1073/pnas.2105804118\", \"10.1051/0004-6361/201937201\", \n    \"10.3847/1538-4357/ac5e9d\", \"10.1007/s00300-020-02675-6\", \n    \"10.1038/s41586-019-1514-7\", \"10.1038/s41598-019-56010-z\", \n    \"10.1038/s41467-017-02699-3\", \"10.1007/s12526-018-0849-x\", \n    \"10.1038/nature26160\", \"10.1038/s41561-019-0345-3\", \"10.1007/s00227-019-3538-9\", \n    \"10.1121/1.5111338\", \"10.3897/phytokeys.194.79638\", \"10.1038/s41550-020-1095-2\", \n    \"10.1073/pnas.2103400119\", \"10.1016/j.matlet.2018.02.080\", \n    \"10.3389/fspas.2022.868519\", \"10.1126/science.aao2200\", \"10.1016/j.joule.2022.05.011\", \n    \"10.1073/pnas.1900325116\", \"10.1073/pnas.2114558119\", \"10.1021/acs.est.9b02527\", \n    \"10.1038/s41586-018-0676-z\", \"10.1016/j.scs.2021.103376\", \n    \"10.1093/mnrasl/slab084\", \"10.1038/s41586-019-1818-7\", \"10.1038/s41467-021-26443-0\", \n    \"10.1038/s41586-021-04215-6\", \"10.1088/2515-7620/ac8cd3\", \n    \"10.1038/s41370-018-0109-y\", \"10.1086/695704\", \"10.1038/s41586-018-0044-z\", \n    \"10.1038/s41586-019-1349-2\", \"10.1016/j.actaastro.2021.07.034\", \n    \"10.1038/nature25967\", \"10.1016/j.scitotenv.2022.155316\", \n    \"10.1371/journal.pone.0226690\", \"10.1038/s41560-021-00970-y\", \n    \"10.1038/s41477-018-0259-x\", \"10.1126/sciadv.abl6529\", \"10.1371/journal.pone.0265382\", \n    \"10.1089/ast.2017.1737\", \"10.1002/eap.2225\", \"10.1016/j.cub.2021.05.040\", \n    \"10.1038/s41550-019-0845-5\", \"10.1088/1748-9326/ac2e6b\", \n    \"10.1038/s41467-021-24262-x\", \"10.1038/s41467-022-31677-7\", \n    \"10.1038/s41586-022-04453-2\", \"10.1098/rsbl.2020.0625\", \"10.1073/pnas.1903421116\", \n    \"10.1126/science.aaz0109\", \"10.1001/jamanetworkopen.2021.45669\", \n    \"10.1073/pnas.1720554115\", \"10.1038/s41893-021-00708-4\", \n    \"10.1016/j.joule.2021.06.004\", \"10.1073/pnas.2021689118\", \n    \"10.1016/j.icarus.2017.11.023\", \"10.1038/s41550-018-0533-x\", \n    \"10.3847/1538-3881/abb316\", \"10.1038/s41598-021-94823-z\", \n    \"10.1038/s41586-019-1149-8\", \"10.1016/j.epsl.2020.116274\", \n    \"10.1038/s41586-019-1648-7\", \"10.1038/s41561-020-0550-0\", \n    \"10.1073/pnas.1721818115\", \"10.1016/j.joule.2018.09.009\", \n    \"10.1126/sciadv.aao3354\", \"10.1126/science.abo4627\", \"10.1038/s41893-020-\n\n*** WARNING: max output size exceeded, skipping output. ***\n\n \"81065\", \n    \"81067\", \"81068\", \"81074\", \"81081\", \"81086\", \"81088\", \"81091\", \n    \"81096\", \"81101\", \"81103\", \"81104\", \"81111\", \"81113\", \"81116\", \n    \"81117\", \"81121\", \"81122\", \"81127\", \"81130\", \"81131\", \"81132\", \n    \"81134\", \"81135\", \"81146\", \"81151\", \"81152\", \"81154\", \"81156\", \n    \"81157\", \"81166\", \"81167\", \"81169\", \"81173\", \"81177\", \"81178\", \n    \"81185\", \"81193\", \"81207\", \"81214\", \"81215\", \"81219\", \"81224\", \n    \"81227\", \"81228\", \"81238\", \"81240\", \"81241\", \"81246\", \"81254\", \n    \"81258\", \"81267\", \"81270\", \"81271\", \"81272\", \"81273\", \"81282\", \n    \"81284\", \"81288\", \"81291\", \"81294\", \"81302\", \"81308\", \"81313\", \n    \"81315\", \"81318\", \"81319\", \"81322\", \"81324\", \"81327\", \"81338\", \n    \"81343\", \"81347\", \"81352\", \"81360\", \"81362\", \"81363\", \"81383\", \n    \"81388\", \"81390\", \"81394\", \"81396\", \"81398\", \"81403\", \"81404\", \n    \"81406\", \"81407\", \"81411\", \"81417\", \"81418\", \"81419\", \"81422\", \n    \"81423\", \"81435\", \"81436\", \"81437\", \"81439\", \"81441\", \"81442\", \n    \"81443\", \"81446\", \"81448\", \"81449\", \"81452\", \"81454\", \"81458\", \n    \"81464\", \"81465\", \"81468\", \"81471\", \"81480\", \"81489\", \"81491\", \n    \"81499\", \"81504\", \"81505\", \"81506\", \"81507\", \"81509\", \"81515\", \n    \"81521\", \"81525\", \"81533\", \"81534\", \"81539\", \"81540\", \"81548\", \n    \"81554\", \"81555\", \"81558\", \"81569\", \"81580\", \"81587\", \"81589\", \n    \"81595\", \"81596\", \"81598\", \"81600\", \"81601\", \"81602\", \"81603\", \n    \"81607\", \"81610\", \"81620\", \"81626\", \"81627\", \"81634\", \"81639\", \n    \"81641\", \"81643\", \"81651\", \"81657\", \"81659\", \"81660\", \"81663\", \n    \"81665\", \"81668\", \"81692\", \"81705\", \"81706\", \"81710\", \"81722\", \n    \"81723\", \"81724\", \"81731\", \"81735\", \"81740\", \"81743\", \"81744\", \n    \"81745\", \"81769\", \"81770\", \"81773\", \"81777\", \"81778\", \"81785\", \n    \"81789\", \"81799\", \"81800\", \"81801\", \"81804\", \"81810\", \"81813\", \n    \"81826\", \"81832\", \"81839\", \"81841\", \"81842\", \"81849\", \"81851\", \n    \"81852\", \"81861\", \"81863\", \"81865\", \"81868\", \"81877\", \"81882\", \n    \"81886\", \"81887\", \"81890\", \"81891\", \"81898\", \"81904\", \"81910\", \n    \"81912\", \"81919\", \"81921\", \"81939\", \"81941\", \"81946\", \"81948\", \n    \"81967\", \"81969\", \"81974\", \"81978\", \"81981\", \"81982\", \"81985\", \n    \"81987\", \"81988\", \"81991\", \"81993\", \"82007\", \"82008\", \"82013\", \n    \"82014\", \"82015\", \"82016\", \"82021\", \"82022\", \"82028\", \"82034\", \n    \"82035\", \"82044\", \"82045\", \"82047\", \"82049\", \"82052\", \"82054\", \n    \"82056\", \"82059\", \"82074\", \"82080\", \"82083\", \"82102\", \"82103\", \n    \"82108\", \"82115\", \"82117\", \"82119\", \"82121\", \"82123\", \"82124\", \n    \"82132\", \"82138\", \"82151\", \"82156\", \"82157\", \"82162\", \"82173\", \n    \"82174\", \"82176\", \"82182\", \"82183\", \"82185\", \"82190\", \"82191\", \n    \"82194\", \"82203\", \"82205\", \"82208\", \"82209\", \"82214\", \"82216\", \n    \"82220\", \"82223\", \"82228\", \"82229\", \"82232\", \"82236\", \"82237\", \n    \"82239\", \"82240\", \"82242\", \"82256\", \"82261\", \"82276\", \"82280\", \n    \"82286\", \"82294\", \"82300\", \"82324\", \"82331\", \"82341\", \"82353\", \n    \"82360\", \"82373\", \"82384\", \"82386\", \"82411\", \"82420\", \"82422\", \n    \"82426\", \"82438\", \"82448\", \"82472\", \"82474\", \"82476\", \"82477\", \n    \"82480\", \"82486\", \"82488\", \"82492\", \"82506\", \"82507\", \"82514\", \n    \"82518\", \"82544\", \"82561\", \"82570\", \"82573\", \"82579\", \"82584\", \n    \"82594\", \"82599\", \"82602\", \"82605\", \"82615\", \"82629\", \"82631\", \n    \"82632\", \"82637\", \"82643\", \"82648\", \"82654\", \"82665\", \"82675\", \n    \"82682\", \"82683\", \"82691\", \"82693\", \"82708\", \"82709\", \"82712\", \n    \"82731\", \"82734\", \"82742\", \"82755\", \"82759\", \"82765\", \"82771\", \n    \"82773\", \"82780\", \"82782\", \"82786\", \"82788\", \"82801\", \"82807\", \n    \"82808\", \"82813\", \"82818\", \"82825\", \"82829\", \"82830\", \"82831\", \n    \"82837\", \"82839\", \"82840\", \"82845\", \"82849\", \"82860\", \"82865\", \n    \"82869\", \"82870\", \"82873\", \"82883\", \"82894\", \"82901\", \"82910\", \n    \"82916\", \"82918\", \"82934\", \"82936\", \"82937\", \"82941\", \"82950\", \n    \"82963\", \"82964\", \"82970\", \"82972\", \"82979\", \"82985\", \"82991\", \n    \"82995\", \"83001\", \"83012\", \"83033\", \"83044\", \"83050\", \"83053\", \n    \"83057\", \"83064\", \"83071\", \"83072\", \"83085\", \"83109\", \"83115\", \n    \"83121\", \"83122\", \"83126\", \"83129\", \"83137\", \"83139\", \"83141\", \n    \"83157\", \"83169\", \"83170\", \"83172\", \"83178\", \"83180\", \"83194\", \n    \"83217\", \"83218\", \"83250\", \"83253\", \"83256\", \"83258\", \"83262\", \n    \"83270\", \"83277\", \"83291\", \"83293\", \"83298\", \"83303\", \"83306\", \n    \"83307\", \"83308\", \"83310\", \"83312\", \"83329\", \"83333\", \"83336\", \n    \"83339\", \"83346\", \"83352\", \"83355\", \"83358\", \"83363\", \"83365\", \n    \"83377\", \"83380\", \"83383\", \"83390\", \"83391\", \"83393\", \"83396\", \n    \"83403\", \"83404\", \"83405\", \"83409\", \"83418\", \"83427\", \"83453\", \n    \"83474\", \"83475\", \"83480\", \"83482\", \"83501\", \"83513\", \"83515\", \n    \"83529\", \"83530\", \"83558\", \"83570\", \"83576\", \"83594\", \"83595\", \n    \"83603\", \"83608\", \"83613\", \"83614\", \"83619\", \"83621\", \"83631\", \n    \"83632\", \"83645\", \"83647\", \"83649\", \"83650\", \"83653\", \"83662\", \n    \"83669\", \"83679\", \"83682\", \"83700\", \"83703\", \"83730\", \"83736\", \n    \"83741\", \"83748\", \"83755\", \"83757\", \"83758\", \"83761\", \"83763\", \n    \"83769\", \"83770\", \"83786\", \"83798\", \"83813\", \"83814\", \"83832\", \n    \"83833\", \"83837\", \"83841\", \"83843\", \"83865\", \"83867\", \"83869\", \n    \"83878\", \"83883\", \"83884\", \"83886\", \"83891\", \"83901\", \"83908\", \n    \"83917\", \"83923\", \"83936\", \"83940\", \"83941\", \"83960\", \"83964\", \n    \"83969\", \"83971\", \"83976\", \"83982\", \"83989\", \"83991\", \"83992\", \n    \"83995\", \"83996\", \"83997\", \"84002\", \"84004\", \"84006\", \"84010\", \n    \"84012\", \"84014\", \"84021\", \"84022\", \"84029\", \"84038\", \"84039\", \n    \"84049\", \"84052\", \"84057\", \"84061\", \"84063\", \"84064\", \"84068\", \n    \"84078\", \"84084\", \"84089\", \"84101\", \"84105\", \"84110\", \"84119\", \n    \"84124\", \"84127\", \"84130\", \"84134\", \"84139\", \"84140\", \"84141\", \n    \"84145\", \"84148\", \"84158\", \"84159\", \"84161\", \"84165\", \"84169\", \n    \"84173\", \"84182\", \"84187\", \"84198\", \"84213\", \"84218\", \"84219\", \n    \"84224\", \"84229\", \"84230\", \"84231\", \"84233\", \"84240\", \"84246\", \n    \"84249\", \"84250\", \"84265\", \"84273\", \"84281\", \"84291\", \"84304\", \n    \"84312\", \"84315\", \"84320\", \"84326\", \"84327\", \"84329\", \"84336\", \n    \"84346\", \"84353\", \"84366\", \"84371\", \"84388\", \"84414\", \"84419\", \n    \"84426\", \"84436\", \"84437\", \"84442\", \"84447\", \"84448\", \"84449\", \n    \"84450\", \"84453\", \"84462\", \"84471\", \"84475\", \"84483\", \"84497\", \n    \"84502\", \"84518\", \"84525\", \"84528\", \"84529\", \"84530\", \"84533\", \n    \"84534\", \"84545\", \"84548\", \"84555\", \"84558\", \"84560\", \"84567\", \n    \"84569\", \"84577\", \"84578\", \"84582\", \"84587\", \"84589\", \"84592\", \n    \"84593\", \"84595\", \"84608\", \"84612\", \"84615\", \"84621\", \"84622\", \n    \"84629\", \"84631\", \"84635\", \"84645\", \"84647\", \"84649\", \"84650\", \n    \"84651\", \"84657\", \"84658\", \"84661\", \"84664\", \"84667\", \"84670\", \n    \"84672\", \"84679\", \"84690\", \"84695\", \"84707\", \"84709\", \"84712\", \n    \"84718\", \"84723\", \"84734\", \"84735\", \"84736\", \"84737\", \"84744\", \n    \"84748\", \"84753\", \"84755\", \"84757\", \"84765\", \"84772\", \"84774\", \n    \"84777\", \"84778\", \"84782\", \"84784\", \"84786\", \"84788\", \"84789\", \n    \"84799\", \"84809\", \"84817\", \"84820\", \"84824\", \"84825\", \"84827\", \n    \"84830\", \"84840\", \"84841\", \"84848\", \"84859\", \"84861\", \"84881\", \n    \"84883\", \"84886\", \"84890\", \"84899\", \"84902\", \"84906\", \"84910\", \n    \"84912\", \"84916\", \"84924\", \"84941\", \"84944\", \"84945\", \"84955\", \n    \"84956\", \"84957\", \"84959\", \"84961\", \"84963\", \"84965\", \"84973\", \n    \"84974\", \"84978\", \"84987\", \"84989\", \"84995\", \"84998\", \"85002\", \n    \"85016\", \"85020\", \"85023\", \"85028\", \"85029\", \"85039\", \"85041\", \n    \"85044\", \"85047\", \"85048\", \"85053\", \"85055\", \"85058\", \"85061\", \n    \"85062\", \"85065\", \"85066\", \"85068\", \"85069\", \"85073\", \"85074\", \n    \"85078\", \"85080\", \"85081\", \"85083\", \"85087\", \"85088\", \"85090\", \n    \"85100\", \"85108\", \"85114\", \"85115\", \"85119\", \"85120\", \"85122\", \n    \"85128\", \"85130\", \"85134\", \"85140\", \"85141\", \"85142\", \"85151\", \n    \"85159\", \"85162\", \"85164\", \"85168\", \"85172\", \"85173\", \"85179\", \n    \"85180\", \"85181\", \"85183\", \"85185\", \"85189\", \"85209\", \"85212\", \n    \"85215\", \"85216\", \"85218\", \"85223\", \"85228\", \"85230\", \"85244\", \n    \"85245\", \"85252\", \"85253\", \"85257\", \"85260\", \"85262\", \"85265\", \n    \"85267\", \"85273\", \"85274\", \"85275\", \"85286\", \"85288\", \"85293\", \n    \"85295\", \"85296\", \"85297\", \"85301\", \"85321\", \"85327\", \"85328\", \n    \"85329\", \"85332\", \"85337\", \"85344\", \"85345\", \"85348\", \"85350\", \n    \"85352\", \"85354\", \"85356\", \"85358\", \"85364\", \"85383\", \"85386\", \n    \"85397\", \"85401\", \"85402\", \"85403\", \"85404\", \"85405\", \"85416\", \n    \"85422\", \"85432\", \"85433\", \"85434\", \"85438\", \"85439\", \"85442\", \n    \"85444\", \"85454\", \"85468\", \"85473\", \"85476\", \"85478\", \"85480\", \n    \"85486\", \"85487\", \"85494\", \"85505\", \"85509\", \"85515\", \"85521\", \n    \"85526\", \"85527\", \"85536\", \"85544\", \"85550\", \"85553\", \"85556\", \n    \"85560\", \"85562\", \"85566\", \"85568\", \"85572\", \"85574\", \"85575\", \n    \"85576\", \"85578\", \"85579\", \"85584\", \"85585\", \"85586\", \"85587\", \n    \"85594\", \"85602\", \"85604\", \"85605\", \"85608\", \"85613\", \"85624\", \n    \"85627\", \"85633\", \"85634\", \"85644\", \"85647\", \"85649\", \"85652\", \n    \"85655\", \"85662\", \"85674\", \"85676\", \"85678\", \"85684\", \"85686\", \n    \"85690\", \"85695\", \"85697\", \"85706\", \"85707\", \"85711\", \"85721\", \n    \"85725\", \"85727\", \"85730\", \"85744\", \"85747\", \"85750\", \"85759\", \n    \"85764\", \"85770\", \"85771\", \"85782\", \"85789\", \"85790\", \"85793\", \n    \"85794\", \"85808\", \"85809\", \"85813\", \"85814\", \"85818\", \"85824\", \n    \"85826\", \"85834\", \"85835\", \"85843\", \"85846\", \"85847\", \"85852\", \n    \"85855\", \"85857\", \"85863\", \"85865\", \"85870\", \"85872\", \"85873\", \n    \"85878\", \"85880\", \"85881\", \"85890\", \"85895\", \"85897\", \"85898\", \n    \"85903\", \"85924\", \"85926\", \"85929\", \"85931\", \"85936\", \"85938\", \n    \"85945\", \"85948\", \"85949\", \"85957\", \"85959\", \"85961\", \"85964\", \n    \"85969\", \"85971\", \"85974\", \"85976\", \"85984\", \"85994\", \"85998\", \n    \"86010\", \"86019\", \"86033\", \"86035\", \"86036\", \"86040\", \"86042\", \n    \"86046\", \"86057\", \"86069\", \"86078\", \"86081\", \"86088\", \"86092\", \n    \"86095\", \"86101\", \"86122\", \"86131\", \"86134\", \"86139\", \"86143\", \n    \"86145\", \"86147\", \"86153\", \"86157\", \"86164\", \"86172\", \"86176\", \n    \"86182\", \"86185\", \"86187\", \"86190\", \"86203\", \"86205\", \"86210\", \n    \"86214\", \"86215\", \"86216\", \"86227\", \"86230\", \"86238\", \"86243\", \n    \"86247\", \"86255\", \"86258\", \"86262\", \"86263\", \"86269\", \"86275\", \n    \"86278\", \"86282\", \"86288\", \"86290\", \"86298\", \"86303\", \"86304\", \n    \"86308\", \"86316\", \"86317\", \"86329\", \"86331\", \"86334\", \"86336\", \n    \"86342\", \"86345\", \"86350\", \"86353\", \"86356\", \"86362\", \"86369\", \n    \"86374\", \"86384\", \"86386\", \"86389\", \"86407\", \"86409\", \"86415\", \n    \"86419\", \"86422\", \"86423\", \"86437\", \"86440\", \"86451\", \"86460\", \n    \"86461\", \"86466\", \"86467\", \"86468\", \"86471\", \"86478\", \"86479\", \n    \"86486\", \"86492\", \"86493\", \"86494\", \"86499\", \"86506\", \"86512\", \n    \"86515\", \"86522\", \"86527\", \"86529\", \"86538\", \"86563\", \"86566\", \n    \"86585\", \"86589\", \"86593\", \"86595\", \"86602\", \"86616\", \"86617\", \n    \"86620\", \"86621\", \"86624\", \"86625\", \"86628\", \"86638\", \"86640\", \n    \"86647\", \"86654\", \"86655\", \"86659\", \"86661\", \"86663\", \"86669\", \n    \"86671\", \"86682\", \"86683\", \"86703\", \"86704\", \"86706\", \"86711\", \n    \"86715\", \"86717\", \"86723\", \"86739\", \"86743\", \"86744\", \"86775\", \n    \"86782\", \"86783\", \"86797\", \"86803\", \"86809\", \"86824\", \"86830\", \n    \"86837\", \"86844\", \"86852\", \"86855\", \"86901\", \"86920\", \"86938\", \n    \"86943\", \"86951\", \"86956\", \"86965\", \"86971\", \"86975\", \"86981\", \n    \"86993\", \"87012\", \"87025\", \"87034\", \"87035\", \"87046\", \"87052\", \n    \"87054\", \"87069\", \"87071\", \"87094\", \"87095\", \"87106\", \"87108\", \n    \"87110\", \"87121\", \"87123\", \"87126\", \"87127\", \"87132\", \"87140\", \n    \"87147\", \"87162\", \"87166\", \"87176\", \"87179\", \"87198\", \"87206\", \n    \"87216\", \"87226\", \"87233\", \"87235\", \"87239\", \"87261\", \"87280\", \n    \"87321\", \"87330\", \"87341\", \"87349\", \"87353\", \"87355\", \"87361\", \n    \"87363\", \"87373\", \"87381\", \"87386\", \"87405\", \"87408\", \"87412\", \n    \"87442\", \"87495\", \"87518\", \"87547\", \"87548\", \"87556\", \"87565\", \n    \"87584\", \"87590\", \"87599\", \"87601\", \"87610\", \"87617\", \"87619\", \n    \"87625\", \"87637\", \"87666\", \"87674\", \"87676\", \"87688\", \"87711\", \n    \"87724\", \"87737\", \"87753\", \"87766\", \"87767\", \"87790\", \"87801\", \n    \"87814\", \"87823\", \"87824\", \"87840\", \"87846\", \"87851\", \"87852\", \n    \"87881\", \"87883\", \"87888\", \"87906\", \"87910\", \"87934\", \"87939\", \n    \"87943\", \"87947\", \"87956\", \"87963\", \"87969\", \"87981\", \"87999\", \n    \"88003\", \"88005\", \"88013\", \"88033\", \"88042\", \"88051\", \"88052\", \n    \"88056\", \"88070\", \"88084\", \"88085\", \"88090\", \"88098\", \"88099\", \n    \"88122\", \"88129\", \"88133\", \"88157\", \"88160\", \"88161\", \"88187\", \n    \"88195\", \"88198\", \"88201\", \"88219\", \"88220\", \"88223\", \"88231\", \n    \"88235\", \"88255\", \"88256\", \"88265\", \"88269\", \"88271\", \"88272\", \n    \"88274\", \"88285\", \"88305\", \"88309\", \"88311\", \"88321\", \"88332\", \n    \"88333\", \"88343\", \"88344\", \"88349\", \"88361\", \"88367\", \"88374\", \n    \"88393\", \"88410\", \"88414\", \"88425\", \"88426\", \"88432\", \"88457\", \n    \"88480\", \"88483\", \"88490\", \"88494\", \"88499\", \"88525\", \"88530\", \n    \"88537\", \"88541\", \"88542\", \"88543\", \"88556\", \"88558\", \"88567\", \n    \"88580\", \"88613\", \"88622\", \"88627\", \"88641\", \"88653\", \"88660\", \n    \"88670\", \"88671\", \"88686\", \"88690\", \"88693\", \"88699\", \"88702\", \n    \"88703\", \"88705\", \"88721\", \"88727\", \"88731\", \"88740\", \"88741\", \n    \"88753\", \"88756\", \"88795\", \"88806\", \"88837\", \"88853\", \"88862\", \n    \"88884\", \"88885\", \"88886\", \"88890\", \"88900\", \"88902\", \"88962\", \n    \"88971\", \"88980\", \"88986\", \"88994\", \"89031\", \"89042\", \"89043\", \n    \"89059\", \"89095\", \"89128\", \"89135\", \"89143\", \"89144\", \"89149\", \n    \"89154\", \"89170\", \"89196\", \"89216\", \"89226\", \"89246\", \"89252\", \n    \"89256\", \"89277\", \"89314\", \"89349\", \"89356\", \"89358\", \"89372\", \n    \"89381\", \"89398\", \"89407\", \"89409\", \"89421\", \"89445\", \"89456\", \n    \"89519\", \"89525\", \"89527\", \"89533\", \"89552\", \"89553\", \"89556\", \n    \"89562\", \"89563\", \"89573\", \"89588\", \"89630\", \"89706\", \"89717\", \n    \"89718\", \"89740\", \"89768\", \"89775\", \"89782\", \"89796\", \"89802\", \n    \"89812\", \"89816\", \"89817\", \"89897\", \"89898\", \"89911\", \"89920\", \n    \"89932\", \"89938\", \"89953\", \"89968\", \"89973\", \"90008\", \"90010\", \n    \"90011\", \"90015\", \"90022\", \"90025\", \"90033\", \"90039\", \"90044\", \n    \"90046\", \"90051\", \"90073\", \"90077\", \"90095\", \"90096\", \"90101\", \n    \"90122\", \"90125\", \"90152\", \"90168\", \"90171\", \"90179\", \"90193\", \n    \"90197\", \"90203\", \"90208\", \"90237\", \"90248\", \"90267\", \"90294\", \n    \"90309\", \"90336\", \"90377\", \"90385\", \"90395\", \"90397\", \"90412\", \n    \"90431\", \"90432\", \"90437\", \"90443\", \"90459\", \"90496\", \"90499\", \n    \"90500\", \"90508\", \"90516\", \"90521\", \"90581\", \"90594\", \"90596\", \n    \"90597\", \"90612\", \"90627\", \"90636\", \"90664\", \"90681\", \"90684\", \n    \"90687\", \"90698\", \"90702\", \"90716\", \"90731\", \"90749\", \"90756\", \n    \"90781\", \"90807\", \"90816\", \"90852\", \"90854\", \"90857\", \"90885\", \n    \"90891\", \"90897\", \"90927\", \"90974\", \"90980\", \"90985\", \"91004\", \n    \"91019\", \"91042\", \"91055\", \"91063\", \"91070\", \"91077\", \"91078\", \n    \"91081\", \"91101\", \"91111\", \"91122\", \"91124\", \"91125\", \"91126\", \n    \"91136\", \"91137\", \"91139\", \"91146\", \"91150\", \"91154\", \"91159\", \n    \"91162\", \"91164\", \"91165\", \"91166\", \"91169\", \"91172\", \"91174\", \n    \"91181\", \"91187\", \"91194\", \"91195\", \"91196\", \"91198\", \"91201\", \n    \"91208\", \"91212\", \"91214\", \"91217\", \"91218\", \"91228\", \"91233\", \n    \"91235\", \"91237\", \"91243\", \"91250\", \"91252\", \"91254\", \"91262\", \n    \"91264\", \"91265\", \"91267\", \"91272\", \"91274\", \"91275\", \"91291\", \n    \"91297\", \"91301\", \"91305\", \"91308\", \"91310\", \"91314\", \"91317\", \n    \"91318\", \"91320\", \"91322\", \"91326\", \"91337\", \"91340\", \"91343\", \n    \"91344\", \"91347\", \"91348\", \"91351\", \"91357\", \"91361\", \"91362\", \n    \"91363\", \"91366\", \"91373\", \"91374\", \"91377\", \"91385\", \"91388\", \n    \"91391\", \"91397\", \"91411\", \"91416\", \"91421\", \"91422\", \"91432\", \n    \"91434\", \"91437\", \"91440\", \"91441\", \"91442\", \"91443\", \"91446\", \n    \"91447\", \"91471\", \"91477\", \"91478\", \"91480\", \"91481\", \"91486\", \n    \"91491\", \"91493\", \"91494\", \"91497\", \"91503\", \"91504\", \"91508\", \n    \"91522\", \"91528\", \"91539\", \"91541\", \"91546\", \"91550\", \"91551\", \n    \"91552\", \"91557\", \"91558\", \"91560\", \"91565\", \"91574\", \"91578\", \n    \"91603\", \"91604\", \"91609\", \"91618\", \"91619\", \"91626\", \"91627\", \n    \"91630\", \"91633\", \"91634\", \"91639\", \"91642\", \"91651\", \"91652\", \n    \"91658\", \"91660\", \"91663\", \"91665\", \"91670\", \"91684\", \"91685\", \n    \"91701\", \"91702\", \"91705\", \"91706\", \"91710\", \"91720\", \"91725\", \n    \"91727\", \"91735\", \"91740\", \"91754\", \"91760\", \"91770\", \"91780\", \n    \"91788\", \"91792\", \"91793\", \"91797\", \"91799\", \"91800\", \"91815\", \n    \"91819\", \"91823\", \"91828\", \"91829\", \"91830\", \"91834\", \"91847\", \n    \"91849\", \"91853\", \"91858\", \"91864\", \"91868\", \"91873\", \"91874\", \n    \"91882\", \"91883\", \"91898\", \"91899\", \"91900\", \"91903\", \"91909\", \n    \"91910\", \"91913\", \"91922\", \"91928\", \"91929\", \"91931\", \"91935\", \n    \"91941\", \"91942\", \"91945\", \"91948\", \"91949\", \"91950\", \"91952\", \n    \"91978\", \"91981\", \"91984\", \"91988\", \"91996\", \"91999\", \"92002\", \n    \"92005\", \"92006\", \"92009\", \"92011\", \"92013\", \"92014\", \"92015\", \n    \"92016\", \"92024\", \"92025\", \"92046\", \"92051\", \"92053\", \"92054\", \n    \"92061\", \"92062\", \"92064\", \"92070\", \"92071\", \"92073\", \"92074\", \n    \"92075\", \"92081\", \"92092\", \"92094\", \"92095\", \"92099\", \"92104\", \n    \"92110\", \"92111\", \"92125\", \"92127\", \"92129\", \"92132\", \"92137\", \n    \"92143\", \"92154\", \"92164\", \"92167\", \"92173\", \"92174\", \"92177\", \n    \"92188\", \"92191\", \"92197\", \"92214\", \"92222\", \"92224\", \"92226\", \n    \"92227\", \"92233\", \"92235\", \"92258\", \"92259\", \"92260\", \"92263\", \n    \"92264\", \"92268\", \"92269\", \"92270\", \"92277\", \"92282\", \"92286\", \n    \"92288\", \"92291\", \"92292\", \"92297\", \"92299\", \"92303\", \"92307\", \n    \"92309\", \"92312\", \"92313\", \"92319\", \"92327\", \"92330\", \"92331\", \n    \"92335\", \"92345\", \"92346\", \"92351\", \"92352\", \"92354\", \"92360\", \n    \"92364\", \"92377\", \"92385\", \"92397\", \"92413\", \"92416\", \"92421\", \n    \"92447\", \"92460\", \"92461\", \"92470\", \"92474\", \"92475\", \"92476\", \n    \"92477\", \"92485\", \"92489\", \"92490\", \"92492\", \"92494\", \"92495\", \n    \"92498\", \"92501\", \"92504\", \"92505\", \"92511\", \"92512\", \"92515\", \n    \"92520\", \"92523\", \"92529\", \"92530\", \"92532\", \"92536\", \"92539\", \n    \"92546\", \"92553\", \"92560\", \"92564\", \"92565\", \"92575\", \"92586\", \n    \"92587\", \"92589\", \"92599\", \"92604\", \"92605\", \"92612\", \"92614\", \n    \"92615\", \"92617\", \"92621\", \"92625\", \"92627\", \"92636\", \"92641\", \n    \"92646\", \"92657\", \"92658\", \"92660\", \"92663\", \"92664\", \"92666\", \n    \"92670\", \"92676\", \"92683\", \"92692\", \"92694\", \"92697\", \"92700\", \n    \"92703\", \"92705\", \"92721\", \"92733\", \"92734\", \"92737\", \"92743\", \n    \"92753\", \"92760\", \"92762\", \"92764\", \"92765\", \"92766\", \"92777\", \n    \"92780\", \"92786\", \"92798\", \"92799\", \"92800\", \"92810\", \"92813\", \n    \"92814\", \"92818\", \"92820\", \"92834\", \"92838\", \"92840\", \"92847\", \n    \"92850\", \"92852\", \"92861\", \"92863\", \"92868\", \"92878\", \"92881\", \n    \"92882\", \"92884\", \"92896\", \"92899\", \"92903\", \"92906\", \"92919\", \n    \"92922\", \"92923\", \"92930\", \"92937\", \"92942\", \"92951\", \"92956\", \n    \"92964\", \"92977\", \"92980\", \"92989\", \"93002\", \"93003\", \"93005\", \n    \"93008\", \"93041\", \"93045\", \"93051\", \"93052\", \"93053\", \"93055\", \n    \"93056\", \"93059\", \"93069\", \"93071\", \"93082\", \"93086\", \"93089\", \n    \"93103\", \"93114\", \"93117\", \"93126\", \"93136\", \"93147\", \"93168\", \n    \"93170\", \"93177\", \"93185\", \"93194\", \"93199\", \"93203\", \"93204\", \n    \"93211\", \"93221\", \"93226\", \"93228\", \"93240\", \"93241\", \"93243\", \n    \"93254\", \"93258\", \"93260\", \"93268\", \"93286\", \"93287\", \"93301\", \n    \"93306\", \"93310\", \"93317\", \"93327\", \"93334\", \"93339\", \"93347\", \n    \"93349\", \"93350\", \"93352\", \"93357\", \"93358\", \"93362\", \"93369\", \n    \"93370\", \"93380\", \"93383\", \"93400\", \"93404\", \"93410\", \"93417\", \n    \"93422\", \"93429\", \"93432\", \"93435\", \"93437\", \"93446\", \"93449\", \n    \"93455\", \"93456\", \"93461\", \"93464\", \"93472\", \"93484\", \"93485\", \n    \"93487\", \"93491\", \"93493\", \"93504\", \"93509\", \"93517\", \"93519\", \n    \"93531\", \"93533\", \"93544\", \"93554\", \"93563\", \"93565\", \"93571\", \n    \"93574\", \"93576\", \"93577\", \"93579\", \"93583\", \"93588\", \"93590\", \n    \"93598\", \"93619\", \"93629\", \"93631\", \"93632\", \"93649\", \"93652\", \n    \"93654\", \"93657\", \"93663\", \"93674\", \"93675\", \"93682\", \"93686\", \n    \"93687\", \"93689\", \"93691\", \"93692\", \"93693\", \"93695\", \"93723\", \n    \"93729\", \"93737\", \"93740\", \"93742\", \"93750\", \"93764\", \"93778\", \n    \"93788\", \"93794\", \"93800\", \"93805\", \"93808\", \"93810\", \"93817\", \n    \"93830\", \"93846\", \"93849\", \"93857\", \"93861\", \"93870\", \"93876\", \n    \"93885\", \"93894\", \"93904\", \"93916\", \"93931\", \"93940\", \"93943\", \n    \"93952\", \"93958\", \"93959\", \"93960\", \"93964\", \"93971\", \"93991\", \n    \"94009\", \"94011\", \"94016\", \"94036\", \"94043\", \"94050\", \"94064\", \n    \"94079\", \"94085\", \"94091\", \"94093\", \"94105\", \"94112\", \"94113\", \n    \"94119\", \"94123\", \"94127\", \"94132\", \"94170\", \"94181\", \"94183\", \n    \"94191\", \"94194\", \"94201\", \"94208\", \"94213\", \"94218\", \"94220\", \n    \"94223\", \"94233\", \"94235\", \"94236\", \"94238\", \"94240\", \"94246\", \n    \"94252\", \"94253\", \"94254\", \"94255\", \"94257\", \"94258\", \"94261\", \n    \"94266\", \"94267\", \"94276\", \"94277\", \"94278\", \"94279\", \"94280\", \n    \"94281\", \"94282\", \"94290\", \"94292\", \"94302\", \"94307\", \"94309\", \n    \"94323\", \"94333\", \"94357\", \"94358\", \"94360\", \"94361\", \"94368\", \n    \"94370\", \"94376\", \"94386\", \"94387\", \"94391\", \"94402\", \"94410\", \n    \"94412\", \"94428\", \"94432\", \"94433\", \"94445\", \"94470\", \"94495\", \n    \"94500\", \"94501\", \"94516\", \"94519\", \"94529\", \"94532\", \"94538\", \n    \"94539\", \"94540\", \"94547\", \"94553\", \"94558\", \"94562\", \"94571\", \n    \"94572\", \"94573\", \"94585\", \"94586\", \"94588\", \"94602\", \"94603\", \n    \"94606\", \"94619\", \"94623\", \"94631\", \"94636\", \"94639\", \"94642\", \n    \"94654\", \"94669\", \"94682\", \"94685\", \"94707\", \"94724\", \"94729\", \n    \"94730\", \"94733\", \"94736\", \"94739\", \"94742\", \"94743\", \"94746\", \n    \"94748\", \"94752\", \"94758\", \"94761\", \"94762\", \"94767\", \"94773\", \n    \"94776\", \"94779\", \"94790\", \"94798\", \"94800\", \"94801\", \"94803\", \n    \"94804\", \"94806\", \"94807\", \"94808\", \"94813\", \"94816\", \"94817\", \n    \"94819\", \"94820\", \"94824\", \"94825\", \"94832\", \"94834\", \"94837\", \n    \"94838\", \"94843\", \"94850\", \"94851\", \"94856\", \"94866\", \"94868\", \n    \"94871\", \"94873\", \"94876\", \"94877\", \"94878\", \"94883\", \"94897\", \n    \"94906\", \"94910\", \"94912\", \"94916\", \"94922\", \"94923\", \"94925\", \n    \"94926\", \"94929\", \"94935\", \"94936\", \"94938\", \"94941\", \"94944\", \n    \"94951\", \"94954\", \"94955\", \"94961\", \"94962\", \"94966\", \"94969\", \n    \"94970\", \"94975\", \"94976\", \"94978\", \"94981\", \"94993\", \"94998\", \n    \"95000\", \"95011\", \"95019\", \"95023\", \"95035\", \"95043\", \"95046\", \n    \"95048\", \"95050\", \"95071\", \"95072\", \"95086\", \"95090\", \"95093\", \n    \"95097\", \"95101\", \"95105\", \"95119\", \"95121\", \"95131\", \"95132\", \n    \"95139\", \"95153\", \"95165\", \"95187\", \"95195\", \"95198\", \"95201\", \n    \"95202\", \"95217\", \"95225\", \"95232\", \"95236\", \"95237\", \"95238\", \n    \"95269\", \"95271\", \"95281\", \"95287\", \"95288\", \"95296\", \"95300\", \n    \"95306\", \"95308\", \"95315\", \"95326\", \"95331\", \"95334\", \"95337\", \n    \"95349\", \"95355\", \"95361\", \"95369\", \"95371\", \"95374\", \"95376\", \n    \"95389\", \"95393\", \"95414\", \"95420\", \"95422\", \"95425\", \"95432\", \n    \"95450\", \"95453\", \"95454\", \"95461\", \"95471\", \"95492\", \"95501\", \n    \"95516\", \"95520\", \"95523\", \"95524\", \"95530\", \"95550\")))\n\nDeviance Residuals: \n    Min       1Q   Median       3Q      Max  \n-1.4589  -0.5319  -0.4295  -0.2748   2.9375  \n\nCoefficients:\n                                            Estimate Std. Error z value\n(Intercept)                                 -3.57820    0.11695 -30.595\ngender1                                     -0.11023    0.05361  -2.056\nField_EnglishChemistry                      -0.70511    0.10539  -6.690\nField_EnglishEarth & Environmental Sciences  0.56007    0.05736   9.764\nField_EnglishMathematics & Statistics       -0.61318    0.47018  -1.304\nField_EnglishPhysics & Astronomy             0.05983    0.06784   0.882\nyear2019                                    -0.01768    0.07567  -0.234\nyear2020                                     0.11293    0.07435   1.519\nyear2021                                     0.13571    0.07354   1.845\nyear2022                                    -0.23180    0.08603  -2.694\nbin_nat1                                     0.91295    0.08447  10.808\nbin_sp1                                      0.69555    0.06800  10.229\nbin_loc1                                     1.91510    0.05290  36.200\nopenaccess_statusYES                        -0.06264    0.05214  -1.201\n                                            Pr(>|z|)    \n(Intercept)                                  < 2e-16 ***\ngender1                                      0.03977 *  \nField_EnglishChemistry                      2.22e-11 ***\nField_EnglishEarth & Environmental Sciences  < 2e-16 ***\nField_EnglishMathematics & Statistics        0.19219    \nField_EnglishPhysics & Astronomy             0.37779    \nyear2019                                     0.81531    \nyear2020                                     0.12877    \nyear2021                                     0.06500 .  \nyear2022                                     0.00705 ** \nbin_nat1                                     < 2e-16 ***\nbin_sp1                                      < 2e-16 ***\nbin_loc1                                     < 2e-16 ***\nopenaccess_statusYES                         0.22967    \n---\nSignif. codes:  0 ‘***’ 0.001 ‘**’ 0.01 ‘*’ 0.05 ‘.’ 0.1 ‘ ’ 1\n\n(Dispersion parameter for binomial family taken to be 1)\n\n    Null deviance: 13527  on 15263  degrees of freedom\nResidual deviance: 11263  on 15250  degrees of freedom\nAIC: 11291\n\nNumber of Fisher Scoring iterations: 5\n\n\n"
     ]
    }
   ],
   "source": [
    "##testing2\n",
    "def domaindd(a):\n",
    "\n",
    "  gender = []\n",
    "  \n",
    "  for ind in a.index:\n",
    "    if a['cor_gender'][ind] == 'female' or a['cor_gender'][ind] == 'f' or a['cor_gender'][ind] == 'F':\n",
    "      gender.append(1)\n",
    "    elif a['cor_gender'][ind] == 'male' or a['cor_gender'][ind] == 'm' or a['cor_gender'][ind] == 'M':\n",
    "      gender.append(0) \n",
    "\n",
    "  a['gender'] = gender\n",
    "  a['srcid'] = a['srcid'].astype(str)\n",
    "  return a\n",
    "\n",
    "new = sep2.copy()\n",
    "new = new.drop(columns=['cor_au1'], axis = 1)\n",
    "\n",
    "\n",
    "q1, q2, q3 = 0.124, 0.25, 0.597\n",
    "\n",
    "q = []\n",
    "for ind in new.index:\n",
    "  if new['SJR'][ind] <= q1:\n",
    "    q.append(0)\n",
    "  elif new['SJR'][ind] > q1 and new['SJR'][ind] <= q2:\n",
    "    q.append(1)\n",
    "  elif new['SJR'][ind] > q2 and new['SJR'][ind] <= q3:\n",
    "    q.append(2)\n",
    "  else:\n",
    "    q.append(3)\n",
    "new['q'] = q\n",
    "\n",
    "\n",
    "#a = domaindd(new[new['Domain_English'] == \"Applied Sciences\"]) \n",
    "#loc - est =  0.12856, err = 0.07397, p val = 0.0822 .\n",
    "#nat - est = -0.10469, err = 0.05279, p val = 0.04736 *\n",
    "#int - est = -0.088019, err = 0.079290, p val = 0.266958\n",
    "#sp - est = -0.01567 , err = 0.06333, p val = 0.80463\n",
    "\n",
    "#a = domaindd(new[new['Domain_English'] == \"Arts & Humanities\"]) \n",
    "#loc - est = 0.05048, err = 0.13922, p val = 0.7169 \n",
    "# nat - est = -0.1793, err = 0.1451, p val = 0.2168 \n",
    "# int - est = -0.24377, err = 0.14478, p val = 0.09222 . \n",
    "#sp - est = -0.05144, err= 0.12052, p val = 0.669523\n",
    "\n",
    "#a = domaindd(new[new['Domain_English'] == \"Economic & Social Sciences\"]) \n",
    "#loc - est = -0.08641, err =  0.06409, p val = 0.17754 \n",
    "#nat est = -0.13982, err = 0.06590, p val = 0.033860 * \n",
    "# int - est = -0.02909, err = 0.07916, p val = 0.713252 \n",
    "#sp - est = -0.05924 , err = 0.05491, pval = 0.280683\n",
    "\n",
    "#a = domaindd(new[new['Domain_English'] == \"Health Sciences\"]) \n",
    "#(loc - est = 0.07681, err = 0.02447, p val = 0.0017 **\n",
    "#nat - est = -0.08546, err = 0.01749, p val = 1.03e-06 ***\n",
    "#int - est = 0.01756, err = 0.02797 , p val = 0.530245\n",
    "#sp - est = -0.14447, err = 0.02682, p val = 7.18e-08 *** \n",
    "\n",
    "a = domaindd(new[new['Domain_English'] == \"Natural Sciences\"]) \n",
    "#loc - est = 0.05331, err = 0.05204, p val = 0.305638\n",
    "#nat - est = -0.05783, err = 0.04799, p val = 0.22\n",
    "#int - est = -0.11023, err = 0.05361, p val = 0.03977 *\n",
    "#sp - est = -0.07315    , err = 0.04578, p val = 0.110061\n",
    "\n",
    "\n",
    "\n",
    "\n",
    "\n",
    "with localconverter(ro.default_converter + pandas2ri.converter):\n",
    "  tst_df = ro.conversion.py2rpy(a)\n",
    "\n",
    "col_2_index = list(tst_df.colnames).index('gender')\n",
    "col_2 = ro.vectors.FactorVector(tst_df.rx2('gender'))\n",
    "tst_df[col_2_index] = col_2\n",
    "\n",
    "col_2_index = list(tst_df.colnames).index('q')\n",
    "col_2 = ro.vectors.FactorVector(tst_df.rx2('q'))\n",
    "tst_df[col_2_index] = col_2\n",
    "\n",
    "col_2_index = list(tst_df.colnames).index('Field_English')\n",
    "col_2 = ro.vectors.FactorVector(tst_df.rx2('Field_English'))\n",
    "tst_df[col_2_index] = col_2\n",
    "\n",
    "col_2_index = list(tst_df.colnames).index('SubField_English')\n",
    "col_2 = ro.vectors.FactorVector(tst_df.rx2('SubField_English'))\n",
    "tst_df[col_2_index] = col_2\n",
    "\n",
    "col_2_index = list(tst_df.colnames).index('Domain_English')\n",
    "col_2 = ro.vectors.FactorVector(tst_df.rx2('Domain_English'))\n",
    "tst_df[col_2_index] = col_2\n",
    "\n",
    "col_2_index = list(tst_df.colnames).index('year')\n",
    "col_2 = ro.vectors.FactorVector(tst_df.rx2('year'))\n",
    "tst_df[col_2_index] = col_2\n",
    "\n",
    "col_2_index = list(tst_df.colnames).index('openaccess_status')\n",
    "col_2 = ro.vectors.FactorVector(tst_df.rx2('openaccess_status'))\n",
    "tst_df[col_2_index] = col_2\n",
    "\n",
    "col_2_index = list(tst_df.colnames).index('bin_nat')\n",
    "col_2 = ro.vectors.FactorVector(tst_df.rx2('bin_nat'))\n",
    "tst_df[col_2_index] = col_2\n",
    "\n",
    "'''col_2_index = list(tst_df.colnames).index('bin_int')\n",
    "col_2 = ro.vectors.FactorVector(tst_df.rx2('bin_int'))\n",
    "tst_df[col_2_index] = col_2'''\n",
    "\n",
    "col_2_index = list(tst_df.colnames).index('bin_loc')\n",
    "col_2 = ro.vectors.FactorVector(tst_df.rx2('bin_loc'))\n",
    "tst_df[col_2_index] = col_2\n",
    "\n",
    "col_2_index = list(tst_df.colnames).index('bin_sp')\n",
    "col_2 = ro.vectors.FactorVector(tst_df.rx2('bin_sp'))\n",
    "tst_df[col_2_index] = col_2\n",
    "\n",
    "\n",
    "\n",
    "#print(tst_df)\n",
    "\n",
    "model = stats.glm(\"bin_int ~ gender+Field_English+year+bin_nat+bin_sp+bin_loc+openaccess_status\",data=tst_df,family=ro.r('binomial(link=\"logit\")'))  #,family=ro('binomial(link=\"logit\")') #family=ro.r('binomial')\n",
    "print(base.summary(model))"
   ]
  },
  {
   "cell_type": "markdown",
   "metadata": {
    "application/vnd.databricks.v1+cell": {
     "cellMetadata": {},
     "inputWidgets": {},
     "nuid": "e90ff8f5-a197-4582-bacf-873d42fc16cf",
     "showTitle": false,
     "title": ""
    }
   },
   "source": [
    "#### multinomial"
   ]
  },
  {
   "cell_type": "code",
   "execution_count": 0,
   "metadata": {
    "application/vnd.databricks.v1+cell": {
     "cellMetadata": {
      "byteLimit": 2048000,
      "rowLimit": 10000
     },
     "inputWidgets": {},
     "nuid": "3d691767-4358-465c-84c7-8747d375adba",
     "showTitle": false,
     "title": ""
    }
   },
   "outputs": [],
   "source": [
    "import numpy as np\n",
    "import rpy2.robjects.packages as rpackages\n",
    "import rpy2.robjects.vectors as robjects_vectors\n",
    "\n",
    "\n",
    "from rpy2.robjects import r, pandas2ri\n",
    "import rpy2.robjects as ro\n",
    "from rpy2.robjects.packages import importr\n",
    "\n",
    "# import R's utility package\n",
    "#utils = rpackages.importr('utils')\n",
    "#utils.chooseCRANmirror(ind=1)\n",
    "from rpy2.robjects.conversion import localconverter\n",
    "base = importr('base')\n",
    "from rpy2.robjects import Formula\n",
    "stats = importr('stats')\n",
    "nnet = importr('nnet')"
   ]
  },
  {
   "cell_type": "code",
   "execution_count": 0,
   "metadata": {
    "application/vnd.databricks.v1+cell": {
     "cellMetadata": {
      "byteLimit": 2048000,
      "rowLimit": 10000
     },
     "inputWidgets": {},
     "nuid": "95bcf2bf-4fb0-49bc-a800-8608f73d241f",
     "showTitle": false,
     "title": ""
    }
   },
   "outputs": [
    {
     "output_type": "display_data",
     "data": {
      "text/plain": [
       "\u001B[0;31m---------------------------------------------------------------------------\u001B[0m\n",
       "\u001B[0;31mKeyError\u001B[0m                                  Traceback (most recent call last)\n",
       "\u001B[0;32m/databricks/python/lib/python3.9/site-packages/pandas/core/indexes/base.py\u001B[0m in \u001B[0;36mget_loc\u001B[0;34m(self, key, method, tolerance)\u001B[0m\n",
       "\u001B[1;32m   3360\u001B[0m             \u001B[0;32mtry\u001B[0m\u001B[0;34m:\u001B[0m\u001B[0;34m\u001B[0m\u001B[0;34m\u001B[0m\u001B[0m\n",
       "\u001B[0;32m-> 3361\u001B[0;31m                 \u001B[0;32mreturn\u001B[0m \u001B[0mself\u001B[0m\u001B[0;34m.\u001B[0m\u001B[0m_engine\u001B[0m\u001B[0;34m.\u001B[0m\u001B[0mget_loc\u001B[0m\u001B[0;34m(\u001B[0m\u001B[0mcasted_key\u001B[0m\u001B[0;34m)\u001B[0m\u001B[0;34m\u001B[0m\u001B[0;34m\u001B[0m\u001B[0m\n",
       "\u001B[0m\u001B[1;32m   3362\u001B[0m             \u001B[0;32mexcept\u001B[0m \u001B[0mKeyError\u001B[0m \u001B[0;32mas\u001B[0m \u001B[0merr\u001B[0m\u001B[0;34m:\u001B[0m\u001B[0;34m\u001B[0m\u001B[0;34m\u001B[0m\u001B[0m\n",
       "\n",
       "\u001B[0;32m/databricks/python/lib/python3.9/site-packages/pandas/_libs/index.pyx\u001B[0m in \u001B[0;36mpandas._libs.index.IndexEngine.get_loc\u001B[0;34m()\u001B[0m\n",
       "\n",
       "\u001B[0;32m/databricks/python/lib/python3.9/site-packages/pandas/_libs/index.pyx\u001B[0m in \u001B[0;36mpandas._libs.index.IndexEngine.get_loc\u001B[0;34m()\u001B[0m\n",
       "\n",
       "\u001B[0;32mpandas/_libs/hashtable_class_helper.pxi\u001B[0m in \u001B[0;36mpandas._libs.hashtable.PyObjectHashTable.get_item\u001B[0;34m()\u001B[0m\n",
       "\n",
       "\u001B[0;32mpandas/_libs/hashtable_class_helper.pxi\u001B[0m in \u001B[0;36mpandas._libs.hashtable.PyObjectHashTable.get_item\u001B[0;34m()\u001B[0m\n",
       "\n",
       "\u001B[0;31mKeyError\u001B[0m: 'gender'\n",
       "\n",
       "The above exception was the direct cause of the following exception:\n",
       "\n",
       "\u001B[0;31mKeyError\u001B[0m                                  Traceback (most recent call last)\n",
       "\u001B[0;32m<command-1368026836896401>\u001B[0m in \u001B[0;36m<cell line: 1>\u001B[0;34m()\u001B[0m\n",
       "\u001B[0;32m----> 1\u001B[0;31m \u001B[0msep2\u001B[0m\u001B[0;34m[\u001B[0m\u001B[0;34m'gender'\u001B[0m\u001B[0;34m]\u001B[0m\u001B[0;34m\u001B[0m\u001B[0;34m\u001B[0m\u001B[0m\n",
       "\u001B[0m\n",
       "\u001B[0;32m/databricks/python/lib/python3.9/site-packages/pandas/core/frame.py\u001B[0m in \u001B[0;36m__getitem__\u001B[0;34m(self, key)\u001B[0m\n",
       "\u001B[1;32m   3456\u001B[0m             \u001B[0;32mif\u001B[0m \u001B[0mself\u001B[0m\u001B[0;34m.\u001B[0m\u001B[0mcolumns\u001B[0m\u001B[0;34m.\u001B[0m\u001B[0mnlevels\u001B[0m \u001B[0;34m>\u001B[0m \u001B[0;36m1\u001B[0m\u001B[0;34m:\u001B[0m\u001B[0;34m\u001B[0m\u001B[0;34m\u001B[0m\u001B[0m\n",
       "\u001B[1;32m   3457\u001B[0m                 \u001B[0;32mreturn\u001B[0m \u001B[0mself\u001B[0m\u001B[0;34m.\u001B[0m\u001B[0m_getitem_multilevel\u001B[0m\u001B[0;34m(\u001B[0m\u001B[0mkey\u001B[0m\u001B[0;34m)\u001B[0m\u001B[0;34m\u001B[0m\u001B[0;34m\u001B[0m\u001B[0m\n",
       "\u001B[0;32m-> 3458\u001B[0;31m             \u001B[0mindexer\u001B[0m \u001B[0;34m=\u001B[0m \u001B[0mself\u001B[0m\u001B[0;34m.\u001B[0m\u001B[0mcolumns\u001B[0m\u001B[0;34m.\u001B[0m\u001B[0mget_loc\u001B[0m\u001B[0;34m(\u001B[0m\u001B[0mkey\u001B[0m\u001B[0;34m)\u001B[0m\u001B[0;34m\u001B[0m\u001B[0;34m\u001B[0m\u001B[0m\n",
       "\u001B[0m\u001B[1;32m   3459\u001B[0m             \u001B[0;32mif\u001B[0m \u001B[0mis_integer\u001B[0m\u001B[0;34m(\u001B[0m\u001B[0mindexer\u001B[0m\u001B[0;34m)\u001B[0m\u001B[0;34m:\u001B[0m\u001B[0;34m\u001B[0m\u001B[0;34m\u001B[0m\u001B[0m\n",
       "\u001B[1;32m   3460\u001B[0m                 \u001B[0mindexer\u001B[0m \u001B[0;34m=\u001B[0m \u001B[0;34m[\u001B[0m\u001B[0mindexer\u001B[0m\u001B[0;34m]\u001B[0m\u001B[0;34m\u001B[0m\u001B[0;34m\u001B[0m\u001B[0m\n",
       "\n",
       "\u001B[0;32m/databricks/python/lib/python3.9/site-packages/pandas/core/indexes/base.py\u001B[0m in \u001B[0;36mget_loc\u001B[0;34m(self, key, method, tolerance)\u001B[0m\n",
       "\u001B[1;32m   3361\u001B[0m                 \u001B[0;32mreturn\u001B[0m \u001B[0mself\u001B[0m\u001B[0;34m.\u001B[0m\u001B[0m_engine\u001B[0m\u001B[0;34m.\u001B[0m\u001B[0mget_loc\u001B[0m\u001B[0;34m(\u001B[0m\u001B[0mcasted_key\u001B[0m\u001B[0;34m)\u001B[0m\u001B[0;34m\u001B[0m\u001B[0;34m\u001B[0m\u001B[0m\n",
       "\u001B[1;32m   3362\u001B[0m             \u001B[0;32mexcept\u001B[0m \u001B[0mKeyError\u001B[0m \u001B[0;32mas\u001B[0m \u001B[0merr\u001B[0m\u001B[0;34m:\u001B[0m\u001B[0;34m\u001B[0m\u001B[0;34m\u001B[0m\u001B[0m\n",
       "\u001B[0;32m-> 3363\u001B[0;31m                 \u001B[0;32mraise\u001B[0m \u001B[0mKeyError\u001B[0m\u001B[0;34m(\u001B[0m\u001B[0mkey\u001B[0m\u001B[0;34m)\u001B[0m \u001B[0;32mfrom\u001B[0m \u001B[0merr\u001B[0m\u001B[0;34m\u001B[0m\u001B[0;34m\u001B[0m\u001B[0m\n",
       "\u001B[0m\u001B[1;32m   3364\u001B[0m \u001B[0;34m\u001B[0m\u001B[0m\n",
       "\u001B[1;32m   3365\u001B[0m         \u001B[0;32mif\u001B[0m \u001B[0mis_scalar\u001B[0m\u001B[0;34m(\u001B[0m\u001B[0mkey\u001B[0m\u001B[0;34m)\u001B[0m \u001B[0;32mand\u001B[0m \u001B[0misna\u001B[0m\u001B[0;34m(\u001B[0m\u001B[0mkey\u001B[0m\u001B[0;34m)\u001B[0m \u001B[0;32mand\u001B[0m \u001B[0;32mnot\u001B[0m \u001B[0mself\u001B[0m\u001B[0;34m.\u001B[0m\u001B[0mhasnans\u001B[0m\u001B[0;34m:\u001B[0m\u001B[0;34m\u001B[0m\u001B[0;34m\u001B[0m\u001B[0m\n",
       "\n",
       "\u001B[0;31mKeyError\u001B[0m: 'gender'"
      ]
     },
     "metadata": {
      "application/vnd.databricks.v1+output": {
       "arguments": {},
       "data": "\u001B[0;31m---------------------------------------------------------------------------\u001B[0m\n\u001B[0;31mKeyError\u001B[0m                                  Traceback (most recent call last)\n\u001B[0;32m/databricks/python/lib/python3.9/site-packages/pandas/core/indexes/base.py\u001B[0m in \u001B[0;36mget_loc\u001B[0;34m(self, key, method, tolerance)\u001B[0m\n\u001B[1;32m   3360\u001B[0m             \u001B[0;32mtry\u001B[0m\u001B[0;34m:\u001B[0m\u001B[0;34m\u001B[0m\u001B[0;34m\u001B[0m\u001B[0m\n\u001B[0;32m-> 3361\u001B[0;31m                 \u001B[0;32mreturn\u001B[0m \u001B[0mself\u001B[0m\u001B[0;34m.\u001B[0m\u001B[0m_engine\u001B[0m\u001B[0;34m.\u001B[0m\u001B[0mget_loc\u001B[0m\u001B[0;34m(\u001B[0m\u001B[0mcasted_key\u001B[0m\u001B[0;34m)\u001B[0m\u001B[0;34m\u001B[0m\u001B[0;34m\u001B[0m\u001B[0m\n\u001B[0m\u001B[1;32m   3362\u001B[0m             \u001B[0;32mexcept\u001B[0m \u001B[0mKeyError\u001B[0m \u001B[0;32mas\u001B[0m \u001B[0merr\u001B[0m\u001B[0;34m:\u001B[0m\u001B[0;34m\u001B[0m\u001B[0;34m\u001B[0m\u001B[0m\n\n\u001B[0;32m/databricks/python/lib/python3.9/site-packages/pandas/_libs/index.pyx\u001B[0m in \u001B[0;36mpandas._libs.index.IndexEngine.get_loc\u001B[0;34m()\u001B[0m\n\n\u001B[0;32m/databricks/python/lib/python3.9/site-packages/pandas/_libs/index.pyx\u001B[0m in \u001B[0;36mpandas._libs.index.IndexEngine.get_loc\u001B[0;34m()\u001B[0m\n\n\u001B[0;32mpandas/_libs/hashtable_class_helper.pxi\u001B[0m in \u001B[0;36mpandas._libs.hashtable.PyObjectHashTable.get_item\u001B[0;34m()\u001B[0m\n\n\u001B[0;32mpandas/_libs/hashtable_class_helper.pxi\u001B[0m in \u001B[0;36mpandas._libs.hashtable.PyObjectHashTable.get_item\u001B[0;34m()\u001B[0m\n\n\u001B[0;31mKeyError\u001B[0m: 'gender'\n\nThe above exception was the direct cause of the following exception:\n\n\u001B[0;31mKeyError\u001B[0m                                  Traceback (most recent call last)\n\u001B[0;32m<command-1368026836896401>\u001B[0m in \u001B[0;36m<cell line: 1>\u001B[0;34m()\u001B[0m\n\u001B[0;32m----> 1\u001B[0;31m \u001B[0msep2\u001B[0m\u001B[0;34m[\u001B[0m\u001B[0;34m'gender'\u001B[0m\u001B[0;34m]\u001B[0m\u001B[0;34m\u001B[0m\u001B[0;34m\u001B[0m\u001B[0m\n\u001B[0m\n\u001B[0;32m/databricks/python/lib/python3.9/site-packages/pandas/core/frame.py\u001B[0m in \u001B[0;36m__getitem__\u001B[0;34m(self, key)\u001B[0m\n\u001B[1;32m   3456\u001B[0m             \u001B[0;32mif\u001B[0m \u001B[0mself\u001B[0m\u001B[0;34m.\u001B[0m\u001B[0mcolumns\u001B[0m\u001B[0;34m.\u001B[0m\u001B[0mnlevels\u001B[0m \u001B[0;34m>\u001B[0m \u001B[0;36m1\u001B[0m\u001B[0;34m:\u001B[0m\u001B[0;34m\u001B[0m\u001B[0;34m\u001B[0m\u001B[0m\n\u001B[1;32m   3457\u001B[0m                 \u001B[0;32mreturn\u001B[0m \u001B[0mself\u001B[0m\u001B[0;34m.\u001B[0m\u001B[0m_getitem_multilevel\u001B[0m\u001B[0;34m(\u001B[0m\u001B[0mkey\u001B[0m\u001B[0;34m)\u001B[0m\u001B[0;34m\u001B[0m\u001B[0;34m\u001B[0m\u001B[0m\n\u001B[0;32m-> 3458\u001B[0;31m             \u001B[0mindexer\u001B[0m \u001B[0;34m=\u001B[0m \u001B[0mself\u001B[0m\u001B[0;34m.\u001B[0m\u001B[0mcolumns\u001B[0m\u001B[0;34m.\u001B[0m\u001B[0mget_loc\u001B[0m\u001B[0;34m(\u001B[0m\u001B[0mkey\u001B[0m\u001B[0;34m)\u001B[0m\u001B[0;34m\u001B[0m\u001B[0;34m\u001B[0m\u001B[0m\n\u001B[0m\u001B[1;32m   3459\u001B[0m             \u001B[0;32mif\u001B[0m \u001B[0mis_integer\u001B[0m\u001B[0;34m(\u001B[0m\u001B[0mindexer\u001B[0m\u001B[0;34m)\u001B[0m\u001B[0;34m:\u001B[0m\u001B[0;34m\u001B[0m\u001B[0;34m\u001B[0m\u001B[0m\n\u001B[1;32m   3460\u001B[0m                 \u001B[0mindexer\u001B[0m \u001B[0;34m=\u001B[0m \u001B[0;34m[\u001B[0m\u001B[0mindexer\u001B[0m\u001B[0;34m]\u001B[0m\u001B[0;34m\u001B[0m\u001B[0;34m\u001B[0m\u001B[0m\n\n\u001B[0;32m/databricks/python/lib/python3.9/site-packages/pandas/core/indexes/base.py\u001B[0m in \u001B[0;36mget_loc\u001B[0;34m(self, key, method, tolerance)\u001B[0m\n\u001B[1;32m   3361\u001B[0m                 \u001B[0;32mreturn\u001B[0m \u001B[0mself\u001B[0m\u001B[0;34m.\u001B[0m\u001B[0m_engine\u001B[0m\u001B[0;34m.\u001B[0m\u001B[0mget_loc\u001B[0m\u001B[0;34m(\u001B[0m\u001B[0mcasted_key\u001B[0m\u001B[0;34m)\u001B[0m\u001B[0;34m\u001B[0m\u001B[0;34m\u001B[0m\u001B[0m\n\u001B[1;32m   3362\u001B[0m             \u001B[0;32mexcept\u001B[0m \u001B[0mKeyError\u001B[0m \u001B[0;32mas\u001B[0m \u001B[0merr\u001B[0m\u001B[0;34m:\u001B[0m\u001B[0;34m\u001B[0m\u001B[0;34m\u001B[0m\u001B[0m\n\u001B[0;32m-> 3363\u001B[0;31m                 \u001B[0;32mraise\u001B[0m \u001B[0mKeyError\u001B[0m\u001B[0;34m(\u001B[0m\u001B[0mkey\u001B[0m\u001B[0;34m)\u001B[0m \u001B[0;32mfrom\u001B[0m \u001B[0merr\u001B[0m\u001B[0;34m\u001B[0m\u001B[0;34m\u001B[0m\u001B[0m\n\u001B[0m\u001B[1;32m   3364\u001B[0m \u001B[0;34m\u001B[0m\u001B[0m\n\u001B[1;32m   3365\u001B[0m         \u001B[0;32mif\u001B[0m \u001B[0mis_scalar\u001B[0m\u001B[0;34m(\u001B[0m\u001B[0mkey\u001B[0m\u001B[0;34m)\u001B[0m \u001B[0;32mand\u001B[0m \u001B[0misna\u001B[0m\u001B[0;34m(\u001B[0m\u001B[0mkey\u001B[0m\u001B[0;34m)\u001B[0m \u001B[0;32mand\u001B[0m \u001B[0;32mnot\u001B[0m \u001B[0mself\u001B[0m\u001B[0;34m.\u001B[0m\u001B[0mhasnans\u001B[0m\u001B[0;34m:\u001B[0m\u001B[0;34m\u001B[0m\u001B[0;34m\u001B[0m\u001B[0m\n\n\u001B[0;31mKeyError\u001B[0m: 'gender'",
       "errorSummary": "<span class='ansi-red-fg'>KeyError</span>: 'gender'",
       "errorTraceType": "ansi",
       "metadata": {},
       "type": "ipynbError"
      }
     },
     "output_type": "display_data"
    }
   ],
   "source": []
  },
  {
   "cell_type": "code",
   "execution_count": 0,
   "metadata": {
    "application/vnd.databricks.v1+cell": {
     "cellMetadata": {
      "byteLimit": 2048000,
      "rowLimit": 10000
     },
     "inputWidgets": {},
     "nuid": "6294caf6-bc23-467f-a899-c10b7e84349e",
     "showTitle": false,
     "title": ""
    }
   },
   "outputs": [
    {
     "output_type": "stream",
     "name": "stdout",
     "output_type": "stream",
     "text": [
      "total field  165\nlen  129428\n# weights:  240 (203 variable)\ninitial  value 269137.959857 \niter  10 value 169251.789513\niter  20 value 168351.776526\niter  30 value 164281.113254\niter  40 value 157487.940854\niter  50 value 155866.010587\niter  60 value 154816.161528\niter  70 value 154050.104228\niter  80 value 153395.266358\niter  90 value 152890.704403\niter 100 value 152604.709864\nfinal  value 152604.709864 \nstopped after 100 iterations\nCall:\n(function (formula, data, weights, subset, na.action, contrasts = NULL, \n    Hess = FALSE, summ = 0, censored = FALSE, model = FALSE, \n    ...) \n{\n    class.ind <- function(cl) {\n        n <- length(cl)\n        x <- matrix(0, n, length(levels(cl)))\n        x[(1:n) + n * (as.integer(cl) - 1)] <- 1\n        dimnames(x) <- list(names(cl), levels(cl))\n        x\n    }\n    summ2 <- function(X, Y) {\n        X <- as.matrix(X)\n        Y <- as.matrix(Y)\n        n <- nrow(X)\n        p <- ncol(X)\n        q <- ncol(Y)\n        Z <- t(cbind(X, Y))\n        storage.mode(Z) <- \"double\"\n        z <- .C(VR_summ2, as.integer(n), as.integer(p), as.integer(q), \n            Z = Z, na = integer(1))\n        Za <- t(z$Z[, 1:z$na, drop = FALSE])\n        list(X = Za[, 1:p, drop = FALSE], Y = Za[, p + 1:q])\n    }\n    call <- match.call()\n    m <- match.call(expand.dots = FALSE)\n    m$summ <- m$Hess <- m$contrasts <- m$censored <- m$model <- m$... <- NULL\n    m[[1]] <- quote(stats::model.frame)\n    m <- eval.parent(m)\n    Terms <- attr(m, \"terms\")\n    X <- model.matrix(Terms, m, contrasts)\n    cons <- attr(X, \"contrasts\")\n    Xr <- qr(X)$rank\n    Y <- model.response(m)\n    if (!is.matrix(Y)) \n        Y <- as.factor(Y)\n    w <- model.weights(m)\n    if (length(w) == 0) \n        if (is.matrix(Y)) \n            w <- rep(1, dim(Y)[1])\n        else w <- rep(1, length(Y))\n    lev <- levels(Y)\n    if (is.factor(Y)) {\n        counts <- table(Y)\n        if (any(counts == 0)) {\n            empty <- lev[counts == 0]\n            warning(sprintf(ngettext(length(empty), \"group %s is empty\", \n                \"groups %s are empty\"), paste(sQuote(empty), \n                collapse = \" \")), domain = NA)\n            Y <- factor(Y, levels = lev[counts > 0])\n            lev <- lev[counts > 0]\n        }\n        if (length(lev) < 2) \n            stop(\"need two or more classes to fit a multinom model\")\n        if (length(lev) == 2) \n            Y <- as.integer(Y) - 1\n        else Y <- class.ind(Y)\n    }\n    if (summ == 1) {\n        Z <- cbind(X, Y)\n        z1 <- cumprod(apply(Z, 2, max) + 1)\n        Z1 <- apply(Z, 1, function(x) sum(z1 * x))\n        oZ <- order(Z1)\n        Z2 <- !duplicated(Z1[oZ])\n        oX <- (seq_along(Z1)[oZ])[Z2]\n        X <- X[oX, , drop = FALSE]\n        Y <- if (is.matrix(Y)) \n            Y[oX, , drop = FALSE]\n        else Y[oX]\n        w <- diff(c(0, cumsum(w))[c(Z2, TRUE)])\n        print(dim(X))\n    }\n    if (summ == 2) {\n        Z <- summ2(cbind(X, Y), w)\n        X <- Z$X[, 1:ncol(X)]\n        Y <- Z$X[, ncol(X) + 1:ncol(Y), drop = FALSE]\n        w <- Z$Y\n        print(dim(X))\n    }\n    if (summ == 3) {\n        Z <- summ2(X, Y * w)\n        X <- Z$X\n        Y <- Z$Y[, 1:ncol(Y), drop = FALSE]\n        w <- rep(1, nrow(X))\n        print(dim(X))\n    }\n    offset <- model.offset(m)\n    r <- ncol(X)\n    if (is.matrix(Y)) {\n        p <- ncol(Y)\n        sY <- Y %*% rep(1, p)\n        if (any(sY == 0)) \n            stop(\"some case has no observations\")\n        if (!censored) {\n            Y <- Y/matrix(sY, nrow(Y), p)\n            w <- w * sY\n        }\n        if (length(offset) > 1) {\n            if (ncol(offset) != p) \n                stop(\"ncol(offset) is wrong\")\n            mask <- c(rep(FALSE, r + 1 + p), rep(c(FALSE, rep(TRUE, \n                r), rep(FALSE, p)), p - 1))\n            X <- cbind(X, offset)\n            Wts <- as.vector(rbind(matrix(0, r + 1, p), diag(p)))\n            fit <- nnet.default(X, Y, w, Wts = Wts, mask = mask, \n                size = 0, skip = TRUE, softmax = TRUE, censored = censored, \n                rang = 0, ...)\n        }\n        else {\n            mask <- c(rep(FALSE, r + 1), rep(c(FALSE, rep(TRUE, \n                r)), p - 1))\n            fit <- nnet.default(X, Y, w, mask = mask, size = 0, \n                skip = TRUE, softmax = TRUE, censored = censored, \n                rang = 0, ...)\n        }\n    }\n    else {\n        if (length(offset) <= 1) {\n            mask <- c(FALSE, rep(TRUE, r))\n            fit <- nnet.default(X, Y, w, mask = mask, size = 0, \n                skip = TRUE, entropy = TRUE, rang = 0, ...)\n        }\n        else {\n            mask <- c(FALSE, rep(TRUE, r), FALSE)\n            Wts <- c(rep(0, r + 1), 1)\n            X <- cbind(X, offset)\n            fit <- nnet.default(X, Y, w, Wts = Wts, mask = mask, \n                size = 0, skip = TRUE, entropy = TRUE, rang = 0, \n                ...)\n        }\n    }\n    fit$formula <- attr(Terms, \"formula\")\n    fit$terms <- Terms\n    fit$call <- call\n    fit$weights <- w\n    fit$lev <- lev\n    fit$deviance <- 2 * fit$value\n    fit$rank <- Xr\n    edf <- ifelse(length(lev) == 2, 1, length(lev) - 1) * Xr\n    if (is.matrix(Y)) {\n        edf <- (ncol(Y) - 1) * Xr\n        if (length(dn <- colnames(Y)) > 0) \n            fit$lab <- dn\n        else fit$lab <- 1:ncol(Y)\n    }\n    fit$coefnames <- colnames(X)\n    fit$vcoefnames <- fit$coefnames[1:r]\n    fit$na.action <- attr(m, \"na.action\")\n    fit$contrasts <- cons\n    fit$xlevels <- .getXlevels(Terms, m)\n    fit$edf <- edf\n    fit$AIC <- fit$deviance + 2 * edf\n    if (model) \n        fit$model <- m\n    class(fit) <- c(\"multinom\", \"nnet\")\n    if (Hess) \n        fit$Hessian <- multinomHess(fit, X)\n    fit\n})(formula = \"cat ~ G+year+Field_English+q+openaccess_status\", \n    data = list(c(2, 2, 2, 2, 2, 2, 2, 2, 2, 2, 2, 2, 2, 2, 2, \n    2, 2, 2, 2, 2, 2, 2, 2, 2, 2, 2, 2, 2, 2, 2, 2, 2, 2, 2, \n    2, 2, 2, 2, 2, 2, 2, 2, 2, 2, 2, 2, 2, 2, 2, 2, 2, 2, 2, \n    2, 2, 2, 2, 2, 2, 2, 2, 2, 2, 2, 2, 2, 2, 2, 2, 2, 2, 2, \n    2, 2, 2, 2, 2, 2, 2, 2, 2, 2, 2, 2, 2, 2, 2, 2, 2, 2, 2, \n    2, 2, 2, 2, 2, 2, 2, 2, 2, 2, 2, 2, 2, 2, 2, 2, 2, 2, 2, \n    2, 2, 2, 2, 2, 2, 2, 2, 2, 2, 2, 2, 2, 2, 2, 2, 2, 2, 2, \n    2, 2, 2, 2, 2, 2, 2, 2, 2, 2, 2, 2, 2, 2, 2, 2, 2, 2, 6, \n    2, 2, 2, 2, 2, 2, 2, 2, 2, 2, 2, 2, 2, 2, 2, 2, 2, 2, 2, \n    2, 2, 6, 2, 2, 2, 2, 2, 2, 2, 2, 2, 2, 2, 2, 2, 2, 2, 2, \n    2, 2, 2, 2, 2, 2, 2, 2, 2, 2, 2, 2, 2, 2, 2, 2, 2, 2, 2, \n    2, 2, 2, 2, 2, 2, 2, 2, 2, 2, 2, 2, 2, 2, 2, 2, 2, 2, 2, \n    2, 2, 2, 2, 2, 2, 2, 2, 2, 2, 2, 2, 2, 2, 2, 2, 2, 2, 2, \n    2, 2, 2, 2, 2, 2, 2, 2, 2, 2, 2, 2, 2, 2, 2, 2, 2, 2, 2, \n    2, 2, 2, 2, 2, 2, 2, 2, 2, 2, 2, 6, 6, 2, 6, 2, 2, 2, 2, \n    2, 2, 2, 2, 2, 2, 2, 2, 2, 2, 2, 2, 2, 2, 2, 2, 2, 2, 2, \n    2, 2, 2, 2, 2, 2, 2, 2, 2, 2, 2, 2, 2, 2, 2, 2, 2, 2, 2, \n    2, 6, 2, 2, 2, 2, 2, 2, 2, 2, 2, 2, 2, 2, 2, 2, 2, 2, 2, \n    2, 2, 2, 2, 2, 2, 2, 2, 2, 2, 2, 2, 2, 2, 2, 2, 2, 2, 2, \n    2, 2, 2, 2, 2, 2, 2, 2, 2, 2, 2, 2, 2, 2, 2, 2, 2, 6, 2, \n    2, 2, 2, 2, 2, 2, 6, 2, 2, 2, 2, 7, 2, 2, 2, 2, 2, 2, 2, \n    2, 2, 2, 2, 2, 2, 2, 2, 2, 2, 2, 6, 2, 2, 2, 2, 2, 2, 2, \n    2, 2, 2, 2, 2, 2, 2, 2, 2, 2, 6, 2, 2, 2, 2, 2, 2, 2, 2, \n    2, 6, 2, 6, 2, 2, 6, 6, 2, 2, 6, 2, 2, 2, 2, 2, 2, 2, 2, \n    2, 2, 2, 2, 2, 2, 2, 2, 2, 2, 2, 2, 2, 2, 2, 2, 2, 2, 2, \n    2, 2, 2, 2, 2, 2, 2, 2, 2, 7, 2, 6, 2, 2, 2, 2, 2, 2, 2, \n    2, 6, 2, 2, 2, 2, 2, 2, 2, 2, 2, 2, 2, 2, 2, 2, 2, 2, 2, \n    2, 6, 2, 2, 2, 2, 2, 7, 2, 2, 2, 2, 2, 2, 2, 2, 2, 2, 2, \n    6, 6, 2, 2, 2, 6, 7, 2, 2, 2, 2, 2, 2, 2, 2, 2, 2, 2, 2, \n    2, 2, 2, 2, 2, 2, 2, 2, 2, 2, 2, 2, 2, 2, 2, 2, 2, 6, 2, \n    2, 2, 2, 2, 2, 2, 2, 2, 2, 2, 2, 2, 2, 2, 6, 2, 2, 2, 2, \n    2, 2, 6, 2, 2, 2, 2, 2, 6, 2, 2, 2, 2, 2, 2, 6, 2, 2, 2, \n    2, 2, 7, 2, 2, 2, 2, 2, 2, 2, 2, 2, 2, 2, 2, 2, 2, 2, 2, \n    2, 2, 2, 2, 2, 2, 2, 2, 2, 2, 2, 2, 2, 2, 2, 2, 2, 2, 2, \n    2, 2, 2, 2, 2, 2, 2, 2, 2, 2, 2, 2, 2, 6, 2, 2, 2, 2, 2, \n    2, 2, 2, 2, 2, 2, 6, 2, 2, 2, 2, 2, 7, 2, 2, 2, 2, 2, 2, \n    2, 6, 2, 2, 7, 2, 2, 6, 2, 2, 6, 2, 2, 7, 2, 6, 2, 2, 7, \n    8, 2, 2, 2, 2, 2, 2, 2, 2, 2, 2, 2, 8, 2, 2, 2, 6, 2, 2, \n    2, 2, 2, 2, 2, 2, 2, 2, 2, 2, 2, 2, 2, 2, 2, 2, 2, 2, 2, \n    2, 2, 2, 2, 2, 2, 2, 6, 2, 2, 2, 2, 2, 2, 7, 2, 2, 1, 2, \n    2, 7, 6, 2, 6, 2, 6, 2, 2, 2, 2, 2, 2, 2, 2, 2, 2, 2, 2, \n    2, 2, 2, 2, 2, 2, 2, 6, 2, 2, 2, 2, 2, 2, 2, 2, 2, 2, 2, \n    2, 2, 2, 2, 2, 2, 2, 2, 2, 2, 6, 2, 2, 2, 2, 2, 2, 2, 7, \n    2, 2, 2, 2, 2, 2, 2, 2, 2, 2, 2, 2, 6, 2, 2, 2, 2, 7, 2, \n    2, 2, 2, 2, 2, 2, 2, 2, 2, 2, 2, 2, 2, 2, 2, 2, 8, 2, 2, \n    2, 6, 2, 2, 2, 2, 2, 2, 2, 2, 2, 2, 2, 2, 2, 2, 2, 8, 2, \n    2, 2, 2, 2, 6, 2, 2, 2, 2, 6, 2, 2, 6, 2, 2, 2, 2, 2, 2, \n    2, 2, 6, 2, 2, 2, 2, 2, 2, 2, 2, 2, 2, 2, 2, 2, 6, 2, 6, \n    2, 2, 2, 7, 2, 2, 2, 2, 2, 2, 2, 2, 2, 2, 7, 6, 2, 1, 2, \n    2, 2, 2, 2, 2, 2, 2, 2, 2, 6, 2, 2, 2, 2, 2, 2, 2, 6, 2, \n    7, 6, 2, 2, 2, 2, 2, 2, 6, 2, 2, 2, 2, 2, 2, 7, 2, 2, 6, \n    2, 7, 2, 2, 6, 6, 2, 2, 2, 2, 2, 2, 2, 2, 6, 2, 2, 2, 2, \n    2, 2, 2, 2, 2, 2, 2, 6, 6, 2, 6, 6, 2, 2, 2, 2, 2, 2, 6, \n    2, 2, 2, 2, 2, 2, 2, 6, 2, 2, 2, 2, 2, 2, 2, 2, 2, 2, 2, \n    2, 2, 2, 2, 2, 7, 6, 2, 2, 2, 2, 2, 6, 2, 2, 2, 2, 6, 2, \n    2, 2, 2, 2, 2, 7, 6, 2, 2, 7, 2, 2, 2, 2, 2, 2, 2, 2, 6, \n    2, 2, 2, 2, 2, 2, 6, 2, 2, 2, 2, 2, 2, 2, 2, 2, 2, 8, 2, \n    2, 6, 2, 2, 2, 2, 2, 2, 2, 2, 2, 2, 2, 2, 2, 2, 2, 2, 7, \n    2, 2, 7, 2, 7, 2, 2, 6, 2, 6, 2, 2, 2, 2, 2, 2, 2, 2, 2, \n    2, 6, 2, 2, 2, 2, 2, 2, 2, 2, 2, 6, 7, 2, 2, 2, 2, 6, 6, \n    2, 8, 2, 2, 2, 2, 2, 2, 2, 2, 2, 2, 2, 8, 2, 2, 2, 2, 2, \n    7, 2, 2, 8, 2, 2, 2, 2, 6, 2, 2, 2, 2, 2, 6, 2, 2, 2, 7, \n    2, 2, 2, 2, 2, 2, 6, 2, 2, 6, 2, 2, 2, 2, 2, 2, 2, 6, 2, \n    2, 2, 2, 6, 2, 2, 2, 6, 7, 2, 2, 2, 2, 6, 2, 2, 2, 6, 2, \n    6, 2, 2, 6, 2, 2, 2, 2, 2, 2, 2, 2, 2, 8, 7, 2, 6, 2, 2, \n    2, 2, 2, 2, 2, 2, 2, 8, 7, 6, 2, 7, 2, 2, 2, 2, 2, 2, 2, \n    2, 6, 6, 2, 2, 2, 6, 2, 2, 6, 6, 6, 2, 2, 6, 2, 2, 2, 2, \n    6, 2, 2, 2, 2, 2, 7, 6, 2, 6, 7, 2, 2, 2, 2, 2, 2, 2, 2, \n    7, 2, 6, 2, 2, 6, 2, 2, 2, 2, 2, 6, 2, 2, 2, 6, 6, 2, 2, \n    6, 2, 2, 2, 2, 2, 2, 2, 2, 2, 2, 2, 2, 2, 2, 6, 2, 2, 6, \n    2, 2, 2, 2, 2, 2, 2, 2, 2, 2, 6, 8, 6, 7, 2, 2, 6, 2, 2, \n    7, 6, 2, 2, 6, 6, 2, 7, 2, 6, 6, 6, 6, 2, 2, 2, 2, 2, 2, \n    7, 2, 2, 2, 6, 6, 2, 2, 7, 2, 1, 7, 7, 7, 2, 2, 6, 2, 6, \n    2, 2, 2, 8, 6, 2, 2, 2, 7, 6, 2, 7, 2, 6, 2, 6, 2, 2, 2, \n    2, 6, 2, 2, 2, 2, 6, 2, 2, 2, 2, 2, 6, 2, 2, 7, 2, 2, 2, \n    2, 2, 2, 2, 8, 6, 6, 2, 2, 2, 2, 2, 2, 2, 6, 2, 2, 6, 2, \n    2, 7, 2, 2, 6, 2, 2, 5, 2, 6, 8, 7, 2, 6, 2, 7, 2, 2, 2, \n    2, 2, 2, 2, 2, 2, 2, 2, 2, 6, 2, 6, 2, 2, 2, 7, 2, 2, 2, \n    2, 6, 7, 7, 6, 2, 6, 2, 2, 2, 6, 2, 6, 2, 7, 2, 2, 2, 2, \n    2, 2, 2, 6, 2, 2, 2, 2, 2, 6, 2, 6, 7, 2, 2, 2, 2, 6, 6, \n    2, 2, 2, 2, 6, 2, 2, 2, 2, 2, 2, 2, 6, 2, 2, 6, 2, 7, 6, \n    7, 2, 2, 6, 2, 2, 2, 2, 2, 7, 2, 2, 2, 2, 2, 2, 2, 6, 2, \n    2, 7, 7, 2, 2, 6, 2, 2, 2, 2, 8, 7, 2, 2, 2, 6, 2, 2, 2, \n    2, 2, 2, 2, 2, 2, 8, 6, 6, 6, 2, 2, 6, 2, 2, 7, 2, 2, 2, \n    2, 2, 2, 2, 2, 2, 2, 2, 2, 6, 2, 2, 6, 2, 2, 2, 2, 6, 5, \n    7, 8, 2, 2, 2, 2, 2, 2, 7, 6, 2, 6, 2, 2, 7, 6, 2, 2, 2, \n    2, 2, 7, 7, 2, 6, 7, 2, 2, 2, 6, 6, 2, 7, 2, 2, 6, 7, 2, \n    2, 2, 6, 2, 6, 6, 2, 2, 2, 2, 2, 2, 2, 2, 2, 2, 6, 6, 8, \n    6, 7, 7, 2, 6, 2, 6, 2, 2, 2, 2, 8, 6, 6, 2, 2, 8, 2, 2, \n    2, 2, 2, 2, 2, 2, 6, 7, 2, 2, 2, 6, 2, 2, 6, 7, 2, 2, 2, \n    7, 2, 2, 2, 2, 2, 2, 2, 6, 2, 6, 2, 2, 2, 2, 7, 2, 2, 8, \n    2, 2, 8, 2, 2, 2, 2, 7, 6, 6, 2, 2, 2, 2, 2, 2, 2, 2, 3, \n    7, 6, 2, 2, 6, 2, 2, 2, 2, 8, 6, 6, 6, 7, 2, 6, 2, 6, 2, \n    6, 2, 2, 2, 2, 8, 2, 2, 7, 2, 2, 2, 2, 2, 6, 2, 7, 6, 2, \n    2, 2, 2, 2, 2, 2, 6, 6, 2, 8, 2, 8, 2, 2, 2, 2, 2, 7, 2, \n    2, 2, 2, 7, 2, 2, 6, 6, 7, 6, 2, 2, 2, 2, 2, 2, 2, 2, 6, \n    6, 7, 2, 2, 2, 2, 2, 2, 6, 2, 2, 7, 2, 7, 2, 6, 2, 2, 2, \n    2, 6, 2, 2, 2, 2, 2, 2, 2, 7, 7, 7, 2, 7, 2, 6, 2, 2, 2, \n    2, 2, 6, 2, 7, 2, 2, 2, 6, 2, 6, 6, 6, 7, 6, 8, 2, 8, 2, \n    2, 2, 2, 6, 6, 2, 2, 6, 6, 6, 2, 2, 2, 2, 2, 2, 2, 7, 2, \n    2, 2, 2, 6, 2, 2, 2, 6, 2, 7, 6, 2, 7, 6, 6, 2, 2, 2, 8, \n    2, 2, 2, 2, 2, 2, 7, 2, 2, 2, 2, 6, 2, 2, 2, 6, 2, 7, 2, \n    2, 6, 2, 2, 2, 6, 6, 6, 2, 6, 2, 2, 2, 7, 2, 2, 6, 2, 2, \n    2, 2, 2, 2, 2, 7, 6, 2, 2, 6, 2, 6, 6, 2, 7, 2, 2, 2, 2, \n    2, 6, 8, 6, 2, 2, 2, 7, 2, 2, 8, 2, 7, 2, 8, 6, 2, 2, 2, \n    8, 2, 2, 2, 2, 2, 6, 6, 2, 6, 6, 8, 2, 6, 8, 6, 7, 7, 2, \n    2, 2, 2, 6, 6, 8, 2, 8, 7, 7, 7, 2, 2, 2, 6, 2, 2, 2, 2, \n    2, 2, 2, 2, 2, 8, 6, 2, 2, 8, 7, 6, 2, 7, 2, 6, 7, 8, 7, \n    2, 2, 2, 2, 2, 2, 6, 2, 2, 2, 2, 6, 7, 2, 6, 8, 2, 2, 6, \n    2, 2, 2, 2, 2, 6, 2, 6, 2, 8, 6, 6, 6, 8, 7, 2, 6, 2, 2, \n    7, 2, 2, 6, 6, 2, 2, 7, 2, 2, 6, 2, 2, 2, 7, 2, 7, 2, 7, \n    6, 2, 2, 7, 6, 7, 6, 8, 2, 7, 2, 6, 2, 2, 2, 2, 2, 2, 8, \n    2, 6, 2, 6, 2, 2, 2, 2, 6, 2, 2, 2, 2, 2, 6, 7, 2, 2, 6, \n    2, 2, 6, 6, 2, 2, 6, 2, 2, 6, 2, 2, 6, 6, 6, 6, 2, 7, 6, \n    7, 8, 2, 2, 6, 8, 2, 7, 7, 2, 2, 2, 6, 8, 6, 7, 2, 6, 2, \n    2, 7, 2, 8, 2, 8, 2, 2, 2, 7, 2, 2, 2, 7, 2, 6, 2, 6, 2, \n    8, 2, 7, 2, 2, 6, 2, 8, 2, 6, 2, 2, 6, 2, 2, 6, 8, 2, 8, \n    2, 6, 6, 2, 2, 6, 7, 6, 2, 2, 2, 2, 7, 7, 7, 2, 2, 6, 2, \n    2, 6, 2, 8, 8, 6, 2, 7, 7, 6, 2, 6, 6, 2, 2, 2, 2, 2, 2, \n    2, 2, 2, 8, 6, 2, 2, 8, 2, 6, 2, 2, 6, 2, 6, 2, 8, 2, 8, \n    2, 2, 8, 2, 6, 6, 6, 2, 7, 6, 6, 8, 6, 2, 2, 6, 8, 6, 7, \n    2, 2, 2, 2, 2, 2, 6, 7, 8, 6, 2, 2, 7, 2, 2, 8, 6, 2, 2, \n    2, 6, 7, 2, 2, 6, 2, 8, 2, 2, 6, 6, 2, 2, 2, 6, 2, 2, 2, \n    6, 6, 7, 2, 6, 2, 2, 6, 2, 7, 6, 2, 2, 6, 2, 2, 8, 6, 6, \n    2, 2, 2, 7, 2, 2, 2, 7, 6, 2, 6, 2, 2, 6, 2, 8, 2, 2, 8, \n    2, 6, 6, 2, 8, 6, 2, 2, 6, 2, 8, 2, 2, 2, 2, 6, 2, 6, 7, \n    6, 2, 6, 8, 2, 2, 2, 2, 2, 2, 6, 2, 2, 8, 6, 7, 6, 7, 6, \n    2, 6, 2, 7, 6, 7, 8, 7, 2, 2, 6, 6, 2, 6, 6, 2, 2, 2, 2, \n    2, 6, 2, 8, 6, 8, 6, 6, 2, 2, 6, 2, 2, 2, 8, 2, 8, 8, 6, \n    8, 2, 7, 6, 6, 2, 2, 2, 7, 8, 2, 2, 2, 7, 2, 2, 6, 2, 2, \n    2, 2, 2, 2, 2, 2, 2, 2, 2, 2, 6, 8, 8, 2, 6, 8, 6, 2, 2, \n    6, 2, 6, 2, 6, 7, 8, 8, 2, 6, 6, 1, 6, 8, 2, 6, 6, 8, 2, \n    7, 7, 6, 2, 2, 6, 6, 6, 8, 2, 8, 7, 2, 2, 2, 6, 2, 2, 7, \n    2, 2, 6, 8, 2, 8, 6, 7, 6, 2, 6, 6, 7, 2, 2, 8, 2, 2, 7, \n    7, 7, 2, 6, 2, 7, 6, 6, 2, 2, 2, 2, 6, 7, 2, 2, 2, 8, 6, \n    6, 2, 2, 2, 2, 7, 8, 8, 2, 6, 8, 7, 8, 2, 2, 2, 6, 6, 8, \n    2, 2, 6, 2, 6, 8, 2, 2, 2, 8, 2, 2, 6, 7, 2, 6, 2, 6, 2, \n    6, 6, 2, 2, 2, 2, 2, 6, 6, 7, 2, 7, 2, 2, 2, 2, 6, 6, 2, \n    2, 2, 2, 2, 6, 7, 6, 6, 8, 2, 6, 2, 8, 7, 2, 2, 6, 2, 7, \n    8, 7, 6, 2, 8, 6, 6, 2, 7, 2, 2, 6, 8, 2, 8, 2, 2, 6, 2, \n    2, 6, 2, 6, 2, 6, 2, 2, 2, 2, 6, 2, 6, 8, 2, 2, 2, 8, 2, \n    6, 2, 7, 6, 7, 2, 2, 2, 2, 2, 7, 6, 6, 2, 6, 6, 6, 8, 6, \n    2, 7, 6, 8, 7, 8, 2, 2, 6, 2, 6, 2, 2, 6, 2, 6, 6, 2, 2, \n    6, 6, 2, 2, 2, 2, 6, 2, 2, 2, 2, 6, 8, 2, 6, 2, 7, 2, 6, \n    2, 2, 2, 7, 6, 6, 6, 6, 6, 7, 2, 6, 2, 2, 4, 6, 6, 2, 2, \n    2, 6, 7, 2, 2, 6, 2, 6, 6, 6, 2, 2, 7, 2, 2, 7, 8, 2, 2, \n    7, 6, 6, 6, 2, 2, 2, 2, 2, 7, 6, 7, 2, 2, 2, 2, 6, 2, 6, \n    6, 2, 6, 2, 2, 6, 1, 7, 6, 6, 8, 8, 2, 2, 7, 2, 6, 6, 6, \n    6, 2, 2, 8, 7, 6, 6, 6, 6, 2, 6, 2, 6, 2, 2, 2, 7, 8, 6, \n    2, 8, 2, 8, 2, 7, 8, 8, 2, 7, 6, 2, 2, 2, 2, 2, 2, 6, 2, \n    2, 6, 6, 6, 8, 2, 6, 8, 8, 2, 7, 6, 7, 2, 2, 2, 2, 7, 8, \n    8, 2, 2, 2, 2, 6, 8, 8, 2, 2, 2, 7, 6, 2, 2, 2, 8, 6, 8, \n    2, 2, 2, 6, 8, 6, 2, 2, 6, 8, 6, 2, 2, 8, 2, 6, 2, 2, 8, \n    8, 6, 6, 8, 2, 8, 8, 6, 6, 6, 2, 8, 8, 2, 2, 6, 6, 7, 6, \n    8, 8, 2, 2, 8, 8, 2, 2, 2, 6, 2, 2, 6, 2, 2, 8, 2, 6, 2, \n    6, 8, 6, 2, 7, 2, 7, 6, 8, 6, 6, 2, 6, 4, 6, 2, 6, 8, 2, \n    6, 7, 2, 2, 6, 7, 2, 2, 2, 8, 8, 6, 6, 2, 2, 2, 4, 6, 6, \n    8, 2, 7, 8, 8, 6, 8, 2, 2, 7, 6, 6, 6, 6, 6, 2, 8, 2, 2, \n    6, 2, 6, 6, 6, 6, 6, 2, 2, 2, 2, 2, 2, 6, 2, 6, 6, 2, 7, \n    6, 2, 6, 8, 7, 2, 6, 2, 6, 8, 8, 6, 2, 6, 6, 7, 7, 6, 8, \n    6, 6, 6, 6, 2, 8, 7, 6, 2, 6, 6, 6, 6, 2, 2, 2, 8, 2, 6, \n    7, 6, 6, 2, 6, 2, 2, 6, 2, 7, 8, 2, 2, 6, 7, 2, 2, 7, 7, \n    8, 7, 8, 2, 2, 7, 6, 2, 2, 8, 2, 6, 8, 2, 2, 8, 6, 8, 6, \n    2, 7, 6, 2, 7, 7, 7, 2, 7, 2, 2, 2, 2, 2, 2, 8, 6, 2, 6, \n    6, 8, 7, 2, 6, 6, 2, 6, 6, 6, 7, 2, 2, 2, 8, 6, 6, 2, 7, \n    8, 6, 2, 2, 6, 2, 2, 2, 8, 6, 8, 8, 2, 6, 6, 8, 1, 7, 6, \n    8, 2, 6, 6, 6, 2, 8, 8, 6, 8, 2, 7, 6, 2, 7, 2, 2, 7, 8, \n    6, 7, 6, 6, 7, 2, 2, 8, 5, 6, 2, 2, 6, 6, 2, 8, 2, 6, 2, \n    2, 3, 2, 6, 6, 2, 7, 6, 2, 8, 8, 6, 6, 6, 8, 6, 6, 2, 2, \n    6, 8, 2, 6, 6, 2, 2, 6, 8, 7, 2, 6, 5, 2, 8, 6, 2, 2, 8, \n    2, 7, 8, 7, 2, 7, 2, 6, 2, 2, 8, 2, 2, 7, 7, 8, 7, 6, 6, \n    6, 6, 8, 7, 2, 5, 2, 8, 6, 4, 7, 8, 2, 6, 6, 7, 7, 2, 2, \n    7, 2, 7, 2, 6, 6, 8, 6, 6, 8, 2, 2, 2, 6, 8, 2, 2, 6, 8, \n    2, 6, 8, 6, 6, 8, 2, 2, 6, 2, 2, 8, 2, 8, 7, 2, 6, 2, 2, \n    8, 2, 6, 7, 8, 6, 2, 7, 2, 6, 6, 8, 8, 2, 2, 2, 2, 2, 7, \n    6, 6, 2, 6, 7, 2, 2, 8, 2, 6, 8, 6, 7, 2, 8, 8, 8, 2, 6, \n    2, 6, 2, 2, 6, 2, 2, 7, 2, 2, 2, 2, 6, 6, 6, 2, 6, 2, 7, \n    7, 6, 7, 6, 6, 8, 7, 2, 8, 6, 8, 2, 8, 8, 2, 2, 1, 6, 2, \n    8, 2, 2, 7, 8, 6, 2, 8, 8, 2, 2, 8, 2, 8, 6, 2, 7, 2, 2, \n    2, 2, 2, 6, 2, 8, 6, 6, 2, 6, 7, 2, 6, 8, 6, 6, 6, 6, 8, \n    2, 2, 8, 7, 2, 2, 6, 2, 6, 2, 2, 2, 2, 7, 6, 6, 6, 6, 6, \n    2, 6, 2, 2, 2, 2, 6, 8, 8, 2, 7, 4, 2, 2, 1, 8, 8, 6, 7, \n    6, 6, 2, 8, 6, 2, 6, 7, 6, 2, 6, 6, 8, 2, 2, 8, 2, 2, 2, \n    2, 2, 2, 6, 7, 7, 7, 2, 8, 8, 2, 6, 6, 6, 6, 2, 6, 7, 6, \n    2, 8, 7, 2, 6, 8, 8, 2, 8, 7, 8, 8, 6, 6, 7, 2, 8, 2, 8, \n    6, 8, 2, 6, 7, 2, 7, 7, 6, 2, 6, 6, 8, 7, 6, 6, 8, 8, 2, \n    7, 7, 7, 6, 2, 2, 8, 7, 8, 6, 6, 7, 2, 8, 6, 6, 8, 8, 8, \n    8, 6, 2, 6, 6, 6, 8, 7, 2, 2, 2, 2, 6, 2, 2, 1, 7, 6, 6, \n    6, 6, 6, 6, 8, 6, 2, 2, 6, 2, 6, 2, 6, 6, 2, 8, 8, 6, 2, \n    2, 8, 6, 2, 6, 2, 7, 2, 7, 2, 2, 8, 6, 6, 2, 8, 2, 8, 8, \n    8, 6, 8, 6, 2, 8, 8, 7, 6, 6, 2, 8, 8, 2, 7, 6, 2, 6, 1, \n    8, 6, 6, 7, 2, 2, 7, 2, 7, 8, 8, 2, 7, 8, 2, 2, 8, 2, 2, \n    6, 2, 2, 2, 6, 8, 2, 2, 6, 2, 2, 6, 2, 6, 7, 2, 6, 6, 2, \n    6, 7, 2, 2, 8, 8, 2, 6, 8, 6, 7, 8, 2, 2, 2, 8, 8, 7, 8, \n    8, 2, 6, 2, 2, 7, 2, 6, 2, 7, 2, 6, 7, 8, 6, 6, 6, 2, 6, \n    2, 2, 2, 2, 7, 2, 8, 6, 2, 6, 6, 8, 4, 2, 6, 6, 6, 2, 6, \n    2, 6, 2, 7, 6, 6, 7, 6, 7, 6, 7, 7, 2, 6, 2, 7, 8, 2, 7, \n    2, 8, 8, 6, 6, 2, 8, 8, 6, 6, 7, 7, 2, 6, 6, 6, 2, 6, 2, \n    2, 7, 8, 8, 6, 6, 2, 6, 2, 8, 6, 6, 6, 8, 2, 2, 2, 2, 6, \n    8, 8, 2, 2, 7, 8, 2, 2, 2, 2, 2, 6, 2, 7, 2, 2, 8, 2, 8, \n    6, 7, 8, 2, 2, 2, 6, 7, 8, 6, 2, 7, 8, 6, 6, 6, 6, 6, 6, \n    4, 2, 2, 2, 6, 2, 7, 8, 2, 8, 7, 7, 8, 6, 8, 8, 8, 8, 6, \n    6, 2, 2, 6, 6, 8, 8, 6, 8, 2, 6, 2, 2, 2, 2, 6, 2, 2, 6, \n    2, 2, 6, 2, 2, 8, 6, 6, 6, 8, 6, 2, 2, 8, 6, 2, 2, 2, 8, \n    2, 8, 2, 7, 6, 2, 2, 7, 2, 6, 2, 8, 8, 8, 7, 6, 8, 6, 2, \n    6, 8, 2, 8, 8, 1, 2, 7, 2, 6, 2, 6, 2, 7, 2, 2, 2, 6, 7, \n    7, 8, 7, 5, 7, 2, 7, 7, 7, 6, 2, 2, 6, 2, 2, 2, 2, 2, 6, \n    8, 2, 2, 2, 8, 2, 6, 6, 2, 7, 8, 8, 2, 2, 7, 6, 2, 6, 6, \n    8, 6, 6, 2, 6, 2, 6, 2, 6, 2, 2, 2, 2, 6, 7, 2, 2, 2, 2, \n    7, 6, 6, 2, 2, 6, 6, 6, 2, 6, 6, 7, 2, 2, 2, 6, 1, 2, 6, \n    6, 2, 7, 8, 7, 2, 2, 2, 2, 7, 8, 6, 6, 2, 8, 8, 8, 8, 6, \n    6, 7, 8, 6, 8, 2, 8, 2, 8, 2, 8, 8, 6, 6, 2, 2, 2, 7, 6, \n    2, 6, 2, 2, 2, 2, 8, 6, 2, 1, 2, 6, 2, 6, 6, 2, 6, 2, 2, \n    2, 7, 8, 6, 8, 2, 7, 6, 6, 8, 6, 2, 6, 7, 1, 8, 2, 2, 2, \n    2, 6, 2, 2, 8, 6, 8, 6, 2, 8, 7, 8, 6, 6, 2, 6, 1, 7, 8, \n    8, 8, 6, 6, 7, 8, 2, 6, 2, 6, 8, 6, 2, 1, 8, 8, 6, 8, 2, \n    1, 8, 2, 8, 8, 2, 4, 6, 6, 8, 8, 2, 8, 2, 8, 6, 6, 2, 8, \n    2, 7, 6, 2, 8, 2, 8, 7, 8, 8, 2, 1, 7, 6, 6, 8, 7, 6, 6, \n    8, 2, 6, 7, 6, 6, 7, 6, 6, 6, 7, 2, 6, 2, 2, 6, 2, 6, 2, \n    6, 2, 6, 6, 6, 2, 7, 2, 7, 2, 8, 6, 2, 8, 8, 8, 8, 6, 2, \n    8, 2, 6, 7, 1, 6, 6, 6, 2, 2, 2, 8, 7, 6, 8, 2, 6, 8, 2, \n    1, 8, 7, 6, 7, 6, 2, 2, 8, 2, 2, 6, 2, 6, 8, 8, 2, 2, 2, \n    6, 6, 2, 8, 8, 2, 6, 2, 2, 7, 2, 8, 6, 8, 6, 6, 8, 6, 7, \n    8, 2, 2, 6, 1, 7, 6, 6, 2, 2, 6, 6, 8, 7, 2, 2, 6, 8, 6, \n    2, 8, 2, 2, 8, 8, 2, 2, 6, 6, 6, 8, 8, 4, 7, 2, 6, 2, 8, \n    6, 8, 8, 6, 8, 6, 6, 8, 6, 8, 2, 7, 6, 6, 8, 6, 6, 8, 8, \n    6, 2, 8, 6, 2, 2, 6, 2, 2, 6, 6, 7, 2, 7, 7, 8, 8, 8, 2, \n    2, 6, 2, 2, 8, 6, 6, 6, 2, 2, 6, 8, 2, 8, 2, 1, 6, 8, 7, \n    6, 2, 6, 2, 8, 8, 2, 6, 2, 6, 6, 7, 2, 2, 6, 6, 2, 2, 8, \n    2, 6, 7, 2, 2, 8, 8, 6, 2, 8, 8, 2, 2, 2, 4, 2, 6, 6, 6, \n    6, 2, 2, 8, 8, 1, 8, 6, 6, 2, 2, 2, 2, 2, 7, 2, 2, 2, 6, \n    6, 6, 8, 2, 2, 2, 2, 7, 8, 8, 6, 6, 2, 6, 8, 2, 8, 6, 8, \n    6, 8, 6, 2, 6, 7, 2, 7, 6, 2, 8, 2, 6, 2, 2, 7, 8, 8, 6, \n    2, 7, 8, 7, 8, 5, 8, 6, 8, 2, 2, 2, 7, 7, 8, 6, 1, 2, 8, \n    6, 6, 2, 6, 6, 8, 8, 2, 2, 8, 7, 8, 6, 6, 2, 8, 2, 6, 8, \n    1, 2, 6, 2, 2, 2, 8, 2, 2, 6, 2, 1, 7, 8, 6, 6, 6, 6, 6, \n    2, 8, 8, 8, 2, 7, 7, 2, 7, 3, 6, 8, 8, 2, 8, 2, 2, 6, 2, \n    2, 6, 8, 6, 1, 6, 2, 7, 5, 2, 6, 2, 6, 2, 2, 6, 2, 6, 1, \n    6, 2, 8, 2, 8, 6, 8, 2, 6, 8, 2, 6, 1, 6, 2, 2, 2, 2, 2, \n    2, 2, 2, 2, 7, 6, 6, 8, 8, 8, 8, 7, 2, 6, 8, 6, 2, 6, 2, \n    7, 2, 6, 1, 2, 2, 2, 1, 2, 8, 8, 6, 6, 2, 8, 6, 8, 6, 6, \n    6, 7, 2, 2, 8, 8, 8, 6, 6, 6, 2, 2, 6, 8, 2, 7, 8, 2, 7, \n    2, 6, 8, 2, 6, 2, 6, 2, 8, 2, 2, 6, 1, 2, 6, 7, 6, 6, 6, \n    7, 6, 7, 6, 2, 6, 8, 2, 8, 6, 6, 2, 2, 6, 2, 7, 7, 7, 6, \n    6, 7, 6, 2, 4, 2, 2, 6, 2, 6, 6, 7, 2, 2, 8, 8, 7, 2, 8, \n    6, 7, 6, 2, 6, 6, 2, 2, 6, 6, 2, 6, 2, 2, 6, 7, 2, 2, 6, \n    2, 8, 6, 1, 6, 7, 6, 7, 2, 2, 2, 8, 7, 8, 6, 7, 8, 2, 6, \n    8, 6, 6, 2, 8, 6, 8, 7, 8, 2, 2, 7, 4, 7, 6, 6, 8, 6, 2, \n    8, 8, 2, 2, 8, 1, 8, 2, 1, 2, 2, 2, 8, 2, 2, 7, 2, 8, 7, \n    2, 8, 2, 7, 2, 6, 2, 6, 8, 8, 6, 6, 2, 6, 8, 6, 1, 1, 6, \n    2, 2, 6, 7, 7, 7, 2, 6, 8, 2, 2, 2, 8, 2, 7, 6, 6, 6, 6, \n    8, 2, 2, 8, 2, 6, 1, 7, 6, 6, 7, 2, 6, 6, 8, 6, 8, 8, 2, \n    8, 2, 8, 2, 6, 2, 2, 6, 2, 6, 6, 8, 2, 7, 6, 7, 2, 8, 1, \n    6, 8, 2, 6, 7, 6, 2, 2, 7, 2, 7, 6, 7, 2, 6, 6, 1, 2, 6, \n    7, 6, 2, 2, 2, 2, 2, 7, 2, 6, 1, 8, 7, 7, 8, 8, 6, 8, 2, \n    2, 7, 2, 6, 7, 6, 7, 2, 2, 8, 1, 8, 2, 6, 2, 2, 2, 2, 2, \n    8, 7, 6, 7, 2, 2, 7, 7, 8, 6, 2, 2, 1, 2, 6, 6, 2, 1, 2, \n    8, 4, 6, 6, 2, 6, 6, 2, 2, 6, 2, 8, 8, 6, 2, 1, 6, 2, 2, \n    2, 6, 2, 7, 2, 1, 2, 2, 8, 8, 2, 6, 2, 6, 6, 1, 8, 2, 7, \n    6, 7, 8, 2, 8, 8, 8, 8, 2, 6, 8, 2, 2, 8, 2, 8, 1, 8, 8, \n    7, 6, 7, 7, 7, 8, 6, 6, 6, 6, 1, 8, 6, 2, 6, 2, 8, 6, 1, \n    8, 6, 6, 6, 6, 8, 8, 2, 6, 2, 2, 2, 6, 6, 8, 8, 2, 6, 6, \n    6, 2, 8, 6, 2, 8, 6, 6, 1, 8, 6, 2, 2, 8, 8, 1, 6, 1, 1, \n    8, 1, 2, 2, 1, 8, 1, 6, 8, 7, 6, 6, 7, 6, 2, 8, 8, 6, 8, \n    2, 6, 8, 8, 6, 2, 7, 6, 6, 2, 8, 2, 2, 7, 6, 6, 8, 8, 2, \n    2, 6, 2, 7, 8, 2, 7, 2, 2, 1, 2, 8, 6, 6, 6, 2, 8, 1, 8, \n    7, 7, 8, 2, 6, 8, 2, 6, 6, 7, 6, 6, 8, 6, 6, 6, 7, 8, 6, \n    6, 8, 2, 2, 6, 7, 6, 6, 2, 7, 1, 2, 6, 1, 6, 6, 2, 4, 2, \n    2, 8, 2, 7, 7, 2, 2, 2, 8, 7, 8, 2, 7, 6, 8, 6, 6, 2, 8, \n    2, 4, 8, 6, 2, 7, 7, 4, 6, 8, 8, 7, 8, 8, 6, 8, 8, 2, 7, \n    8, 6, 7, 6, 2, 2, 2, 8, 6, 6, 2, 2, 6, 6, 6, 8, 8, 6, 2, \n    2, 2, 2, 7, 2, 2, 7, 6, 1, 7, 8, 8, 1, 8, 6, 2, 7, 2, 2, \n    8, 6, 8, 2, 6, 2, 8, 7, 2, 1, 2, 6, 2, 7, 2, 8, 7, 8, 7, \n    8, 8, 6, 8, 7, 2, 2, 7, 2, 2, 6, 6, 7, 7, 2, 8, 1, 2, 6, \n    7, 7, 6, 6, 8, 6, 6, 6, 4, 6, 8, 7, 6, 8, 6, 2, 2, 6, 6, \n    2, 8, 7, 6, 2, 8, 2, 6, 6, 2, 2, 8, 7, 2, 8, 6, 8, 6, 6, \n    7, 6, 2, 8, 8, 8, 6, 2, 2, 6, 2, 7, 7, 2, 2, 6, 7, 6, 8, \n    2, 4, 6, 2, 7, 2, 6, 2, 6, 2, 2, 6, 2, 6, 6, 2, 2, 6, 6, \n    8, 7, 8, 7, 6, 6, 6, 6, 6, 2, 6, 6, 8, 2, 6, 8, 2, 1, 8, \n    6, 2, 2, 2, 7, 4, 8, 2, 8, 7, 6, 6, 8, 6, 6, 7, 7, 8, 8, \n    2, 6, 2, 2, 7, 2, 6, 6, 8, 2, 6, 2, 2, 7, 2, 2, 8, 4, 2, \n    2, 6, 6, 8, 7, 2, 7, 6, 7, 7, 2, 2, 6, 2, 2, 8, 2, 6, 2, \n    2, 2, 2, 7, 8, 8, 8, 2, 2, 6, 7, 2, 6, 8, 1, 6, 8, 6, 7, \n    1, 7, 2, 8, 2, 6, 8, 6, 7, 7, 6, 2, 2, 8, 8, 7, 7, 2, 4, \n    2, 2, 7, 7, 2, 2, 6, 7, 2, 2, 8, 7, 2, 7, 8, 2, 2, 7, 8, \n    6, 6, 6, 6, 6, 8, 6, 6, 7, 8, 6, 2, 2, 7, 6, 6, 7, 7, 2, \n    6, 7, 2, 6, 2, 6, 6, 6, 2, 6, 6, 2, 2, 2, 4, 4, 7, 2, 6, \n    6, 2, 6, 7, 1, 2, 6, 6, 6, 8, 6, 2, 2, 6, 2, 6, 8, 6, 2, \n    8, 8, 2, 6, 6, 2, 4, 6, 8, 6, 6, 2, 8, 7, 8, 8, 6, 4, 2, \n    2, 6, 8, 6, 2, 6, 6, 7, 2, 6, 8, 6, 2, 8, 7, 2, 6, 2, 6, \n    2, 2, 2, 4, 8, 6, 6, 6, 8, 7, 7, 2, 8, 6, 8, 6, 8, 6, 6, \n    6, 6, 8, 2, 6, 2, 7, 2, 2, 2, 6, 6, 6, 2, 2, 2, 7, 2, 2, \n    6, 2, 8, 8, 6, 8, 2, 8, 2, 6, 6, 6, 2, 6, 6, 2, 7, 2, 6, \n    6, 2, 6, 2, 8, 6, 2, 2, 6, 2, 2, 2, 2, 2, 7, 6, 8, 7, 2, \n    2, 7, 8, 6, 2, 8, 6, 6, 1, 7, 8, 8, 2, 6, 6, 2, 2, 2, 2, \n    6, 6, 1, 2, 2, 8, 8, 6, 1, 2, 4, 2, 6, 6, 8, 4, 7, 7, 2, \n    4, 1, 7, 6, 6, 2, 6, 6, 2, 2, 8, 6, 4, 6, 7, 2, 2, 6, 4, \n    6, 8, 8, 6, 6, 6, 6, 2, 6, 1, 8, 8, 2, 2, 2, 2, 6, 6, 1, \n    2, 2, 2, 8, 8, 6, 8, 7, 7, 6, 7, 2, 6, 8, 2, 2, 7, 6, 2, \n    7, 6, 8, 6, 7, 6, 2, 6, 6, 6, 2, 6, 8, 2, 1, 7, 8, 6, 8, \n    8, 2, 4, 8, 2, 2, 6, 2, 6, 2, 6, 8, 8, 7, 6, 2, 2, 8, 6, \n    7, 2, 8, 6, 2, 8, 6, 2, 6, 6, 2, 7, 2, 2, 4, 2, 6, 8, 6, \n    8, 2, 2, 2, 2, 6, 2, 8, 6, 2, 8, 2, 2, 2, 8, 8, 6, 8, 2, \n    6, 6, 1, 6, 2, 2, 6, 7, 2, 8, 6, 2, 7, 2, 7, 6, 6, 6, 7, \n    2, 6, 8, 7, 4, 8, 7, 6, 6, 6, 8, 7, 2, 2, 6, 2, 6, 6, 6, \n    2, 2, 2, 7, 6, 8, 2, 8, 6, 8, 6, 6, 2, 7, 7, 7, 2, 2, 6, \n    6, 8, 6, 6, 7, 6, 7, 2, 2, 7, 6, 6, 2, 8, 4, 2, 2, 6, 7, \n    7, 7, 7, 2, 2, 8, 2, 2, 2, 6, 2, 8, 2, 7, 2, 2, 6, 6, 6, \n    6, 2, 7, 2, 2, 2, 6, 8, 8, 8, 6, 2, 8, 8, 8, 8, 6, 8, 2, \n    2, 7, 8, 6, 7, 2, 2, 6, 4, 2, 6, 6, 8, 2, 2, 2, 6, 8, 6, \n    8, 6, 2, 7, 4, 8, 6, 8, 1, 8, 2, 2, 2, 6, 7, 6, 2, 2, 6, \n    4, 2, 2, 8, 2\n\n*** WARNING: max output size exceeded, skipping output. ***\n\n, 4, 4, 4, 4, 4, 4, 4, 4, 4, \n    4, 4, 4, 4, 4, 4, 4, 4, 4, 4, 4, 4, 4, 4, 4, 4, 4, 4, 4, \n    4, 4, 4, 4, 4, 4, 4, 4, 4, 3, 4, 4, 4, 4, 4, 4, 4, 4, 4, \n    4, 4, 4, 4, 4, 4, 4, 4, 4, 4, 4, 4, 4, 4, 4, 4, 4, 4, 4, \n    4, 4, 4, 4, 4, 4, 4, 3, 4, 4, 4, 4, 4, 4, 4, 4, 4, 4, 4, \n    4, 4, 4, 4, 4, 4, 4, 4, 4, 4, 4, 4, 4, 4, 4, 4, 4, 4, 3, \n    4, 4, 4, 4, 4, 4, 4, 4, 4, 4, 4, 4, 4, 4, 4, 4, 4, 4, 4, \n    4, 4, 4, 4, 4, 4, 4, 4, 4, 4, 4, 4, 4, 4, 4, 4, 4, 4, 4, \n    4, 4, 4, 4, 4, 4, 4, 4, 4, 4, 4, 4, 4, 4, 4, 4, 4, 4, 4, \n    4, 4, 4, 4, 4, 4, 4, 4, 4, 4, 4, 4, 4, 4, 4, 4, 4, 4, 4, \n    4, 4, 4, 4, 4, 4, 4, 4, 4, 4, 4, 4, 4, 4, 4, 4, 4, 4, 4, \n    4, 4, 4, 4, 4, 3, 4, 4, 4, 4, 4, 4, 4, 4, 4, 4, 4, 4, 4, \n    4, 4, 4, 4, 4, 4, 4, 4, 4, 4, 4, 4, 4, 4, 4, 4, 4, 4, 4, \n    4, 4, 4, 4, 4, 4, 4, 4, 4, 4, 4, 4, 4, 4, 4, 4, 4, 4, 4, \n    4, 4, 4, 4, 4, 4, 4, 4, 4, 4, 4, 4, 4, 4, 4, 4, 4, 4, 4, \n    4, 4, 4, 4, 4, 4, 4, 4, 4, 4, 4, 4, 4, 4, 4, 4, 4, 4, 4, \n    4, 4, 4, 4, 4, 4, 4, 4, 4, 4, 4, 4, 4, 4, 4, 4, 4, 4, 4, \n    4, 4, 4, 4, 4, 4, 4, 4, 4, 4, 4, 4, 4, 4, 4, 4, 4, 4, 4, \n    4, 4, 4, 4, 4, 4, 4, 4, 4, 4, 4, 4, 4, 4, 4, 4, 4, 4, 4, \n    4, 4, 4, 4, 4, 4, 4, 4, 4, 4, 4, 4, 4, 4, 4, 4, 4, 4, 4, \n    4, 4, 4, 4, 4, 4, 4, 4, 4, 4, 4, 4, 4, 4, 4, 4, 4, 4, 4, \n    4, 4, 4, 4, 4, 4, 4, 4, 4, 4, 4, 4, 4, 4, 4, 4, 4, 4, 4, \n    4, 3, 4, 4, 4, 4, 4, 4, 4, 4, 4, 4, 4, 4, 4, 4, 4, 4, 4, \n    4, 4, 4, 4, 4, 4, 4, 4, 4, 4, 4, 4, 4, 4, 4, 4, 4, 4, 4, \n    4, 4, 4, 4, 4, 4, 4, 4, 4, 4, 4, 4, 4, 4, 4, 4, 4, 4, 4, \n    4, 4, 4, 4, 4, 4, 4, 4, 4, 4, 4, 4, 4, 4, 4, 4, 4, 4, 4, \n    4, 4, 4, 4, 4, 4, 4, 4, 4, 4, 4, 4, 3, 4, 4, 4, 4, 4, 4, \n    4, 4, 4, 4, 4, 4, 4, 4, 4, 4, 3, 4, 4, 4, 4, 4, 4, 4, 4, \n    4, 4, 4, 4, 4, 4, 4, 4, 4, 4, 4, 4, 4, 4, 4, 4, 4, 4, 4, \n    4, 4, 4, 4, 4, 4, 4, 4, 4, 4, 4, 4, 4, 4, 4, 4, 4, 4, 4, \n    4, 4, 4, 4, 4, 4, 4, 4, 4, 4, 4, 4, 4, 4, 4, 4, 4, 4, 4, \n    4, 4, 4, 4, 4, 4, 4, 4, 4, 4, 4, 4, 4, 2, 4, 4, 4, 4, 4, \n    4, 4, 4, 4, 3, 4, 4, 4, 4, 4, 4, 4, 4, 4, 4, 4, 4, 4, 4, \n    4, 4, 4, 4, 4, 4, 4, 4, 4, 4, 4, 4, 4, 4, 4, 4, 4, 4, 4, \n    4, 4, 4, 4, 4, 4, 4, 4, 4, 4, 4, 4, 4, 4, 4, 4, 4, 4, 4, \n    4, 4, 4, 4, 4, 4, 4, 4, 4, 4, 4, 4, 4, 4, 4, 4, 4, 4, 4, \n    4, 4, 4, 4, 4, 3, 4, 4, 4, 4, 4, 4, 4, 4, 4, 4, 4, 4, 4, \n    4, 4, 4, 4, 4, 4, 4, 4, 4, 4, 4, 4, 4, 4, 4, 4, 4, 4, 4, \n    4, 4, 4, 2, 4, 4, 4, 4, 4, 4, 3, 4, 4, 4, 4, 4, 4, 4, 4, \n    4, 4, 4, 4, 4, 4, 4, 4, 4, 4, 4, 4, 4, 4, 4, 4, 4, 4, 4, \n    4, 4, 4, 4, 4, 4, 4, 4, 4, 3, 4, 4, 4, 4, 4, 4, 4, 4, 4, \n    4, 4, 4, 4, 4, 4, 4, 4, 4, 4, 4, 4, 4, 4, 4, 4, 4, 4, 4, \n    4, 4, 4, 4, 4, 4, 4, 4, 4, 4, 4, 4, 4, 4, 1, 4, 4, 4, 4, \n    4, 4, 4, 4, 4, 4, 4, 4, 4, 4, 4, 4, 3, 4, 4, 4, 4, 4, 4, \n    3, 4, 4, 4, 4, 4, 4, 4, 4, 3, 4, 4, 4, 4, 4, 4, 4, 4, 3, \n    4, 4, 4, 4, 4, 4, 4, 4, 4, 4, 4, 4, 4, 4, 4, 4, 4, 4, 4, \n    4, 4, 4, 4, 4, 4, 4, 4, 4, 4, 4, 4, 4, 4, 4, 4, 4, 4, 4, \n    4, 4, 4, 4, 4, 4, 4, 4, 4, 4, 4, 4, 4, 4, 4, 4, 4, 4, 4, \n    4, 4, 4, 4, 4, 4, 4, 4, 4, 4, 4, 4, 4, 4, 4, 4, 4, 4, 4, \n    4, 4, 4, 4, 4, 4, 4, 4, 4, 4, 4, 4, 4, 4, 4, 4, 4, 4, 4, \n    4, 4, 4, 4, 4, 4, 4, 4, 4, 4, 4, 4, 4, 4, 4, 4, 2, 3, 4, \n    4, 4, 4, 4, 4, 4, 4, 4, 4, 4, 4, 4, 4, 4, 4, 4, 4, 4, 4, \n    4, 4, 4, 4, 4, 4, 4, 4, 4, 4, 4, 4, 4, 4, 4, 4, 4, 4, 4, \n    4, 4, 4, 4, 4, 3, 4, 4, 4, 4, 3, 4, 4, 3, 4, 4, 4, 4, 4, \n    4, 4, 4, 4, 4, 4, 4, 4, 4, 4, 4, 4, 4, 4, 4, 4, 4, 4, 4, \n    4, 3, 4, 4, 4, 4, 4, 4, 4, 4, 4, 4, 4, 4, 4, 4, 3, 4, 4, \n    4, 4, 4, 4, 4, 4, 4, 4, 4, 4, 4, 4, 4, 4, 4, 4, 4, 4, 4, \n    4, 4, 4, 4, 4, 4, 4, 4, 4, 2, 4, 4, 4, 4, 4, 4, 4, 4, 4, \n    4, 4, 4, 4, 4, 4, 4, 4, 4, 4, 4, 4, 4, 4, 4, 4, 4, 4, 4, \n    4, 4, 3, 4, 4, 4, 4, 4, 4, 4, 4, 4, 4, 4, 4, 4, 4, 4, 4, \n    4, 4, 4, 4, 4, 4, 4, 4, 4, 4, 4, 4, 4, 4, 4, 4, 4, 4, 4, \n    4, 4, 4, 4, 4, 4, 4, 4, 4, 4, 4, 4, 4, 4, 4, 4, 4, 4, 4, \n    4, 4, 4, 4, 4, 4, 4, 3, 4, 4, 4, 4, 4, 4, 4, 3, 4, 4, 4, \n    4, 4, 4, 4, 4, 4, 3, 4, 4, 4, 4, 4, 4, 4, 4, 4, 4, 4, 3, \n    4, 4, 4, 4, 4, 4, 4, 4, 4, 4, 4, 4, 4, 3, 4, 4, 4, 4, 4, \n    4, 4, 4, 4, 4, 4, 4, 4, 4, 4, 4, 4, 4, 4, 4, 4, 4, 4, 4, \n    4, 4, 4, 4, 4, 2, 4, 4, 4, 4, 4, 4, 4, 4, 4, 4, 4, 4, 4, \n    4, 4, 4, 4, 4, 4, 4, 4, 4, 4, 4, 4, 4, 4, 4, 4, 4, 4, 4, \n    4, 4, 4, 4, 4, 4, 4, 4, 4, 3, 4, 4, 4, 4, 4, 4, 4, 4, 4, \n    4, 4, 4, 4, 4, 4, 4, 4, 4, 4, 4, 4, 4, 3, 4, 4, 4, 4, 4, \n    4, 4, 4, 4, 4, 4, 4, 4, 4, 4, 4, 4, 4, 3, 4, 4, 4, 4, 4, \n    4, 3, 4, 4, 3, 4, 4, 4, 4, 4, 4, 4, 4, 4, 4, 4, 4, 4, 4, \n    4, 4, 4, 4, 4, 4, 4, 4, 4, 4, 4, 4, 4, 4, 4, 4, 4, 4, 4, \n    4, 4, 4, 4, 4, 4, 4, 3, 4, 4, 4, 4, 3, 4, 4, 4, 4, 4, 4, \n    4, 4, 4, 4, 4, 4, 4, 4, 4, 4, 4, 4, 4, 4, 4, 4, 4, 4, 4, \n    4, 4, 4, 3, 4, 4, 4, 4, 4, 4, 4, 4, 4, 4, 4, 4, 4, 4, 4, \n    4, 4, 4, 4, 4, 4, 4, 4, 4, 4, 4, 4, 4, 4, 4, 4, 4, 4, 3, \n    4, 4, 4, 4, 4, 4, 4, 4, 4, 4, 4, 3, 4, 4, 4, 4, 4, 3, 4, \n    4, 4, 4, 4, 4, 4, 4, 4, 4, 4, 4, 4, 4, 4, 4, 3, 4, 4, 4, \n    4, 4, 4, 4, 4, 4, 4, 4, 4, 3, 4, 4, 4, 4, 4, 4, 4, 4, 4, \n    4, 4, 4, 3, 4, 4, 3, 4, 4, 4, 4, 4, 4, 4, 4, 4, 4, 4, 4, \n    4, 4, 4, 4, 4, 4, 4, 4, 4, 4, 4, 4, 4, 4, 4, 4, 4, 4, 4, \n    4, 4, 4, 4, 4, 4, 4, 4, 4, 4, 4, 4, 3, 4, 4, 4, 4, 3, 4, \n    4, 4, 4, 4, 4, 4, 4, 4, 4, 4, 4, 4, 4, 4, 4, 4, 4, 4, 4, \n    4, 4, 4, 4, 4, 4, 4, 4, 4, 4, 4, 4, 4, 4, 3, 4, 4, 4, 4, \n    4, 4, 4, 4, 4, 4, 4, 4, 4, 4, 4, 4, 4, 4, 4, 4, 4, 4, 4, \n    4, 4, 3, 2, 4, 4, 4, 4, 4, 4, 4, 4, 4, 4, 4, 4, 4, 4, 4, \n    4, 4, 4, 4, 4, 4, 4, 4, 4, 3, 4, 4, 4, 4, 4, 4, 4, 4, 4, \n    4, 4, 4, 4, 4, 4, 4, 4, 4, 4, 4, 4, 4, 4, 4, 4, 4, 4, 4, \n    4, 4, 3, 4, 4, 4, 4, 4, 4, 4, 4, 4, 4, 4, 4, 4, 4, 4, 4, \n    4, 4, 4, 4, 4, 4, 4, 4, 4, 4, 4, 4, 4, 4, 4, 4, 4, 4, 4, \n    4, 4, 4, 4, 4, 4, 4, 4, 4, 4, 3, 4, 4, 4, 4, 4, 4, 4, 4, \n    4, 4, 4, 4, 4, 4, 4, 4, 4, 4, 4, 4, 4, 4, 4, 4, 4, 4, 4, \n    4, 4, 4, 4, 4, 4, 4, 4, 4, 4, 4, 4, 4, 4, 4, 4, 4, 4, 4, \n    4, 4, 4, 4, 4, 4, 4, 4, 4, 4, 4, 4, 4, 4, 4, 4, 4, 4, 4, \n    4, 4, 3, 4, 4, 4, 4, 4, 4, 4, 4, 4, 4, 4, 4, 4, 4, 4, 4, \n    4, 4, 4, 4, 4, 4, 4, 4, 4, 4, 4, 4, 4, 4, 4, 4, 4, 4, 4, \n    4, 4, 4, 4, 4, 4, 4, 4, 4, 4, 4, 4, 4, 4, 4, 4, 4, 4, 4, \n    4, 4, 4, 4, 4, 4, 4, 4, 4, 4, 4, 4, 4, 4, 4, 4, 4, 4, 4, \n    3, 4, 4, 4, 4, 4, 4, 4, 4, 4, 4, 4, 4, 4, 4, 4, 4, 4, 4, \n    4, 4, 4, 4, 4, 4, 4, 4, 4, 4, 4, 4, 4, 4, 4, 4, 4, 4, 4, \n    4, 4, 4, 4, 4, 4, 4, 4, 4, 4, 4, 4, 4, 4, 4, 4, 4, 4, 4, \n    4, 4, 4, 4, 4, 4, 4, 3, 4, 4, 4, 4, 4, 4, 4, 4, 4, 3, 4, \n    4, 4, 4, 4, 4, 4, 4, 4, 4, 4, 4, 4, 4, 4, 4, 4, 4, 4, 4, \n    4, 4, 4, 4, 4, 4, 4, 4, 4, 4, 4, 4, 4, 4, 4, 4, 4, 4, 4, \n    4, 4, 4, 4, 4, 4, 4, 4, 4, 4, 4, 4, 4, 4, 4, 4, 4, 4, 4, \n    4, 4, 4, 4, 4, 4, 4, 4, 4, 4, 4, 4, 4, 4, 4, 4, 4, 4, 4, \n    4, 4, 4, 4, 4, 4, 4, 4, 4, 4, 4, 4, 4, 4, 4, 4, 4, 4, 4, \n    4, 4, 4, 4, 4, 4, 4, 4, 4, 4, 4, 4, 4, 4, 4, 4, 4, 4, 4, \n    4, 4, 4, 4, 4, 4, 4, 4, 4, 4, 4, 4, 4, 4, 4, 4, 4, 4, 4, \n    4, 4, 4, 4, 4, 4, 4, 4, 4, 4, 4, 4, 4, 4, 4, 4, 4, 4, 4, \n    4, 4, 4, 4, 4, 4, 4, 4, 4, 4, 4, 4, 4, 4, 4, 4, 4, 4, 4, \n    4, 3, 4, 4, 4, 4, 4, 4, 4, 4, 4, 4, 4, 4, 4, 4, 4, 4, 4, \n    4, 4, 4, 4, 4, 4, 4, 4, 4, 4, 4, 4, 4, 4, 4, 4, 4, 4, 4, \n    4, 4, 4, 4, 4, 4, 4, 4, 4, 4, 4, 4, 4, 4, 4, 4, 4, 4, 4, \n    4, 4, 4, 4, 4, 4, 4, 4, 4, 4, 4, 4, 4, 4, 4, 4, 4, 4, 4, \n    4, 4, 4, 4, 4, 4, 4, 4, 4, 4, 4, 4, 4, 4, 4, 4, 4, 4, 4, \n    4, 4, 4, 4, 4, 4, 4, 4, 4, 4, 4, 4, 4, 4, 4, 4, 4, 4, 4, \n    4, 4, 4, 4, 4, 4, 4, 4, 4, 4, 4, 3, 4, 4, 4, 4, 4, 4, 4, \n    4, 4, 4, 4, 4, 4, 4, 4, 4, 4, 4, 4, 4, 4, 4, 4, 4, 4, 4, \n    4, 4, 4, 4, 4, 4, 4, 4, 4, 4, 4, 4, 4, 4, 4, 4, 4, 4, 4, \n    4, 4, 4, 4, 4, 4, 4, 4, 4, 4, 4, 4, 4, 4, 4, 4, 4, 4, 4, \n    4, 4, 4, 4, 4, 4, 4, 4, 4, 4, 4, 4, 4, 4, 4, 4, 4, 4, 4, \n    4, 4, 4, 3, 4, 4, 4, 4, 4, 4, 4, 4, 4, 4, 4, 4, 4, 4, 4, \n    4, 4, 4, 4, 4, 4, 4, 4, 4, 4, 4, 4, 4, 4, 4, 4, 4, 4, 4, \n    4, 4, 4, 4, 4, 4, 4, 4, 4, 4, 4, 4, 4, 4, 4, 4, 4, 4, 4, \n    4, 4, 4, 4, 4, 4, 4, 4, 4, 4, 4, 4, 4, 4, 4, 4, 4, 4, 4, \n    4, 4, 4, 4, 4, 4, 4, 4, 4, 4, 4, 4, 4, 4, 4, 4, 4, 4, 4, \n    4, 4, 4, 4, 4, 4, 4, 4, 4, 4, 4, 4, 4, 4, 4, 4, 4, 4, 4, \n    4, 4, 4, 4, 4, 4, 4, 4, 4, 4, 4, 4, 4, 4, 4, 4, 4, 4, 4, \n    3, 4, 4, 4, 3, 4, 4, 4, 4, 4, 4, 4, 4, 4, 4, 4, 4, 4, 4, \n    4, 4, 4, 4, 4, 4, 4, 4, 4, 4, 4, 4, 3, 4, 4, 4, 4, 4, 4, \n    4, 4, 4, 4, 4, 4, 4, 4, 4, 4, 4, 4, 4, 4, 4, 4, 4, 4, 4, \n    4, 4, 3, 4, 4, 4, 4, 4, 4, 4, 4, 4, 4, 4, 4, 4, 4, 4, 4, \n    4, 4, 4, 4, 4, 4, 4, 4, 4, 4, 4, 4, 4, 4, 4, 4, 4, 4, 4, \n    4, 4, 3, 4, 4, 3, 4, 4, 4, 4, 4, 4, 4, 4, 4, 4, 4, 4, 4, \n    4, 4, 4, 4, 4, 4, 4, 4, 4, 4, 4, 4, 4, 4, 4, 4, 4, 4, 4, \n    4, 3, 4, 4, 4, 4, 4, 4, 4, 4, 4, 4, 4, 4, 4, 4, 4, 4, 4, \n    4, 4, 4, 4, 4, 4, 4, 4, 4, 4, 4, 4, 4, 4, 4, 4, 4, 4, 4, \n    4, 4, 4, 4, 4, 4, 4, 4, 4, 4, 4, 4, 4, 4, 4, 4, 3, 4, 4, \n    4, 4, 4, 4, 4, 4, 4, 4, 4, 4, 4, 4, 4, 4, 4, 4, 4, 4, 4, \n    4, 4, 3, 4, 4, 4, 4, 4, 4, 4, 3, 4, 4, 4, 4, 4, 4, 4, 4, \n    4, 4, 4, 4, 4, 4, 4, 4, 4)))\n\nCoefficients:\n            (Intercept)        Gmale    year2019    year2020   year2021\nall          -0.6174714 -0.012565992 -0.30227120 -0.33863377 -0.4263799\ninter        -3.1997834  0.007792809 -0.15140034 -0.01406309 -0.1246104\nlocal        -2.7355262  0.015077836 -0.18231919 -0.36895197 -0.6954150\nlocal:inter  -3.8828340  0.166456045 -0.37820559 -0.29123748 -0.3794608\nlocal:nat    -0.3137081 -0.040751080 -0.22944683 -0.27675578 -0.6417500\nnat:inter    -3.3850929  0.105441048 -0.04935817  0.02297411 -0.1135141\nnational      1.6454650  0.063576774 -0.12042007 -0.16415580 -0.3270263\n              year2022 Field_EnglishBiology Field_EnglishBiomedical Research\nall         -0.6296793            0.9882751                      -0.07005091\ninter       -0.4296298            0.3574316                      -0.19578109\nlocal        0.1739612            0.2986518                      -0.78895691\nlocal:inter -0.5032017            0.3494055                      -0.36783841\nlocal:nat   -0.4437404            0.5714603                      -0.88338754\nnat:inter   -0.5415427            1.0755495                      -0.01544454\nnational    -0.4046350            0.7199233                      -0.50684522\n            Field_EnglishBuilt Environment & Design Field_EnglishChemistry\nall                                       0.6437421             -1.5672897\ninter                                     0.9035169             -1.8878451\nlocal                                     0.5348477             -2.0305551\nlocal:inter                              -0.4481272             -0.4714619\nlocal:nat                                 0.3086572             -2.0999837\nnat:inter                                 0.6119290             -0.5474496\nnational                                  0.1677706             -0.3778816\n            Field_EnglishClinical Medicine\nall                             -0.7708659\ninter                           -0.9158251\nlocal                           -1.0069718\nlocal:inter                     -0.5091354\nlocal:nat                       -1.1230813\nnat:inter                       -0.8915374\nnational                        -1.3913180\n            Field_EnglishCommunication & Textual Studies\nall                                            1.1492341\ninter                                          0.5467678\nlocal                                          0.5397885\nlocal:inter                                   -2.2941831\nlocal:nat                                      0.6288922\nnat:inter                                      0.9464531\nnational                                       0.5894423\n            Field_EnglishEarth & Environmental Sciences\nall                                          1.53414437\ninter                                        0.25654288\nlocal                                        0.05579080\nlocal:inter                                 -0.07928149\nlocal:nat                                    0.38161917\nnat:inter                                    1.51005162\nnational                                     0.51266641\n            Field_EnglishEconomics & Business \nall                                 0.27052572\ninter                               0.09126144\nlocal                              -0.19674793\nlocal:inter                        -1.33570044\nlocal:nat                          -0.07852975\nnat:inter                           0.21883712\nnational                            0.07901379\n            Field_EnglishEnabling & Strategic Technologies\nall                                            -0.35200503\ninter                                          -0.34558211\nlocal                                          -1.41269081\nlocal:inter                                    -0.26396189\nlocal:nat                                      -0.84764660\nnat:inter                                       0.24941194\nnational                                        0.09904526\n            Field_EnglishEngineering Field_EnglishHistorical Studies\nall                        0.1190941                       1.1116994\ninter                     -0.2734744                       0.8273798\nlocal                     -0.8661468                      -0.1901133\nlocal:inter               -0.2161305                       0.7534263\nlocal:nat                 -0.7376507                       0.2759261\nnat:inter                  0.4381049                       1.8387917\nnational                  -0.1770492                       0.1807121\n            Field_EnglishInformation & Communication Technologies\nall                                                    -0.3053311\ninter                                                  -0.3860696\nlocal                                                  -1.7307203\nlocal:inter                                             0.1051182\nlocal:nat                                              -1.0466556\nnat:inter                                              -0.1108072\nnational                                               -0.8207567\n            Field_EnglishMathematics & Statistics\nall                                     -6.767823\ninter                                   -3.021280\nlocal                                   -3.533614\nlocal:inter                             -1.098777\nlocal:nat                               -6.209888\nnat:inter                               -1.065261\nnational                                -1.623445\n            Field_EnglishPhilosophy & Theology Field_EnglishPhysics & Astronomy\nall                                 0.09374463                       0.29666881\ninter                              -1.28314443                      -0.20440678\nlocal                              -2.19293673                      -3.00722108\nlocal:inter                        -1.03064641                       0.08099155\nlocal:nat                          -0.47553519                      -1.15232764\nnat:inter                          -1.92474171                       1.22721770\nnational                           -0.59484545                       0.74660463\n            Field_EnglishPsychology & Cognitive Sciences\nall                                            0.4131857\ninter                                          0.4815561\nlocal                                         -0.5750938\nlocal:inter                                    0.2129175\nlocal:nat                                     -0.4772257\nnat:inter                                      0.6802344\nnational                                      -0.3597532\n            Field_EnglishPublic Health & Health Services\nall                                           -0.3540694\ninter                                         -0.6518669\nlocal                                         -0.3025836\nlocal:inter                                   -0.4771988\nlocal:nat                                     -0.3771114\nnat:inter                                     -0.7019853\nnational                                      -0.9062082\n            Field_EnglishSocial Sciences Field_EnglishVisual & Performing Arts\nall                           0.94005971                             0.9606802\ninter                         0.27876143                            -1.4615877\nlocal                         0.40362273                            -1.7779584\nlocal:inter                  -0.06484989                            -0.2567546\nlocal:nat                     0.46884253                            -0.9259846\nnat:inter                    -0.22262856                            -0.3314889\nnational                      0.12059873                            -2.5957011\n                    q1          q2          q3 openaccess_statusYES\nall         -1.4752341 -1.67040535 -1.21846566          -0.20975246\ninter        1.1756295 -0.06401778 -0.11850302           0.11350923\nlocal        0.7290425 -0.08526901  0.07144267           0.04949023\nlocal:inter -1.7807945 -0.32749430 -0.25648838          -0.12055129\nlocal:nat   -0.3593905 -0.97623643 -0.75228732          -0.18092699\nnat:inter    0.5369325  0.55342318  0.88401476          -0.02677696\nnational    -1.3830412 -1.50480081 -1.35842714          -0.05724416\n\nStd. Errors:\n            (Intercept)      Gmale   year2019   year2020   year2021   year2022\nall           0.6544683 0.02866731 0.04231433 0.04205579 0.04094578 0.04857756\ninter         2.1097853 0.05625609 0.08786243 0.08409127 0.08253320 0.09933328\nlocal         2.2023525 0.04830819 0.07370953 0.07583898 0.07792546 0.07056957\nlocal:inter   3.0186439 0.08766417 0.12942017 0.12448885 0.12137708 0.14129614\nlocal:nat     0.7286594 0.02508365 0.03702395 0.03684475 0.03799702 0.04075192\nnat:inter     1.7315070 0.03400745 0.05090650 0.04956853 0.04897467 0.06058817\nnational      0.4380147 0.01413344 0.02136065 0.02119184 0.02077080 0.02336752\n            Field_EnglishBiology Field_EnglishBiomedical Research\nall                   0.12582080                       0.11885273\ninter                 0.22676394                       0.20283222\nlocal                 0.17700753                       0.16371879\nlocal:inter           0.36964859                       0.33456137\nlocal:nat             0.09393703                       0.08893270\nnat:inter             0.14335789                       0.13643170\nnational              0.05714932                       0.05090721\n            Field_EnglishBuilt Environment & Design Field_EnglishChemistry\nall                                       0.2518215             0.20957582\ninter                                     0.3837389             0.42060498\nlocal                                     0.3435545             0.33861984\nlocal:inter                               1.0758692             0.42752793\nlocal:nat                                 0.2045362             0.17671216\nnat:inter                                 0.2917195             0.18106645\nnational                                  0.1310406             0.06233659\n            Field_EnglishClinical Medicine\nall                             0.11510360\ninter                           0.19574719\nlocal                           0.15186401\nlocal:inter                     0.31711481\nlocal:nat                       0.08246272\nnat:inter                       0.13285464\nnational                        0.04889044\n            Field_EnglishCommunication & Textual Studies\nall                                            0.1841973\ninter                                          0.3568780\nlocal                                          0.2845554\nlocal:inter                                    2.0910877\nlocal:nat                                      0.1536384\nnat:inter                                      0.2222202\nnational                                       0.1004681\n            Field_EnglishEarth & Environmental Sciences\nall                                          0.12467232\ninter                                        0.24271045\nlocal                                        0.19532968\nlocal:inter                                  0.42220493\nlocal:nat                                    0.10073752\nnat:inter                                    0.14283732\nnational                                     0.06092526\n            Field_EnglishEconomics & Business \nall                                  0.1438649\ninter                                0.2555393\nlocal                                0.2107693\nlocal:inter                          0.6260957\nlocal:nat                            0.1095259\nnat:inter                            0.1680567\nnational                             0.0640782\n            Field_EnglishEnabling & Strategic Technologies\nall                                             0.13973179\ninter                                           0.23862846\nlocal                                           0.23671951\nlocal:inter                                     0.38174720\nlocal:nat                                       0.10824453\nnat:inter                                       0.14845631\nnational                                        0.05602923\n            Field_EnglishEngineering Field_EnglishHistorical Studies\nall                       0.15745133                       0.1991052\ninter                     0.29603104                       0.3439444\nlocal                     0.27529521                       0.4011867\nlocal:inter               0.47206798                       0.5942281\nlocal:nat                 0.13935334                       0.1825470\nnat:inter                 0.16937768                       0.1934057\nnational                  0.07019768                       0.1166383\n            Field_EnglishInformation & Communication Technologies\nall                                                    0.16960059\ninter                                                  0.28970142\nlocal                                                  0.36253784\nlocal:inter                                            0.42267647\nlocal:nat                                              0.14741799\nnat:inter                                              0.18485281\nnational                                               0.07525425\n            Field_EnglishMathematics & Statistics\nall                                     8.3781711\ninter                                   2.3247297\nlocal                                   2.2328140\nlocal:inter                             1.4634133\nlocal:nat                               4.2357104\nnat:inter                               0.5958420\nnational                                0.2238073\n            Field_EnglishPhilosophy & Theology Field_EnglishPhysics & Astronomy\nall                                  0.3155715                       0.14300958\ninter                                0.9572393                       0.26906586\nlocal                                1.1909838                       0.59368151\nlocal:inter                          1.4400211                       0.40843302\nlocal:nat                            0.2751604                       0.14401358\nnat:inter                            0.9212831                       0.14624648\nnational                             0.1599923                       0.06030751\n            Field_EnglishPsychology & Cognitive Sciences\nall                                           0.12463226\ninter                                         0.21055899\nlocal                                         0.18625589\nlocal:inter                                   0.35156507\nlocal:nat                                     0.09763220\nnat:inter                                     0.14103588\nnational                                      0.05646746\n            Field_EnglishPublic Health & Health Services\nall                                           0.12235096\ninter                                         0.21319470\nlocal                                         0.16018672\nlocal:inter                                   0.34334873\nlocal:nat                                     0.08709539\nnat:inter                                     0.14544442\nnational                                      0.05271895\n            Field_EnglishSocial Sciences Field_EnglishVisual & Performing Arts\nall                           0.12540430                             0.5695720\ninter                         0.22631359                             2.7433368\nlocal                         0.17331919                             2.5885663\nlocal:inter                   0.38998622                             2.6865838\nlocal:nat                     0.09374726                             0.8993434\nnat:inter                     0.16739442                             1.1569393\nnational                      0.05843493                             0.9088568\n                   q1        q2        q3 openaccess_statusYES\nall         0.6904027 0.6481421 0.6439593           0.03271285\ninter       2.1131387 2.1033593 2.1001201           0.06010960\nlocal       2.2161962 2.1994072 2.1966033           0.05276620\nlocal:inter 3.3645502 3.0075107 3.0010613           0.09525466\nlocal:nat   0.7429243 0.7259412 0.7237018           0.02879096\nnat:inter   1.7529177 1.7283598 1.7262043           0.03597638\nnational    0.4508262 0.4362941 0.4350992           0.01527016\n\nResidual Deviance: 305209.4 \nAIC: 305615.4 \n\n"
     ]
    }
   ],
   "source": [
    "\n",
    "def reg2(dom,merged):\n",
    "  dummy = merged.copy()\n",
    "  #dummy = dummy[dummy['Domain_English'] == dom]\n",
    "  #print(\"no of subfield \",dummy['SubField_English'].nunique())\n",
    "  G = []\n",
    "  for ind in dummy.index:\n",
    "    if dummy['cor_gender'][ind] == 'female' or dummy['cor_gender'][ind] == 'f' or dummy['cor_gender'][ind] == 'F':\n",
    "      G.append(\"female\")\n",
    "    else:\n",
    "      G.append(\"male\")\n",
    "  dummy['G'] = G\n",
    "\n",
    "  tmp = pd.DataFrame()\n",
    "\n",
    "  tmp['cat'] = dummy['cat']\n",
    "  tmp['year'] = dummy['year']\n",
    "  tmp['Domain_English'] = dummy['Domain_English']\n",
    "  tmp['Field_English'] = dummy['Field_English']\n",
    "  tmp['Subfield_English'] = dummy['SubField_English']\n",
    "  tmp['G'] = dummy['G']\n",
    "  tmp['SJR'] = dummy['SJR']\n",
    "  tmp['openaccess_status'] = dummy['openaccess_status']\n",
    "\n",
    "  #tmp['srcid'] = dummy['srcid']\n",
    "  #tmp['srcid'] = tmp['srcid'].astype(str)\n",
    "\n",
    "  #tmp = tmp.dropna(subset = ['type'])\n",
    "\n",
    "  '''q1 = t['SJR'].quantile(0.25)\n",
    "  q2 = t['SJR'].quantile(0.50)\n",
    "  q3 = t['SJR'].quantile(0.75)'''\n",
    "\n",
    "  q1, q2, q3 = 0.123, 0.25, 0.593\n",
    "\n",
    "  q = []\n",
    "  for ind in tmp.index:\n",
    "    if tmp['SJR'][ind] <= q1:\n",
    "      q.append(0)\n",
    "    elif tmp['SJR'][ind] > q1 and tmp['SJR'][ind] <= q2:\n",
    "      q.append(1)\n",
    "    elif tmp['SJR'][ind] > q2 and tmp['SJR'][ind] <= q3:\n",
    "      q.append(2)\n",
    "    else:\n",
    "      q.append(3)\n",
    "  tmp['q'] = q\n",
    "\n",
    "  print(\"total field \", tmp['Subfield_English'].nunique())\n",
    "  print(\"len \",len(tmp))\n",
    "  return tmp\n",
    "\n",
    "\n",
    "#tmp = reg2(\"Applied Sciences\", sep.copy(deep = True)) #national coeff = 0.15389164, p val = 0.0049\n",
    "#tmp = reg2(\"Arts & Humanities\", sep.copy(deep = True)) #nat:inter   coeff = 0.2421876 p val = 1.63601340e-002\n",
    "#tmp = reg2(\"Economic & Social Sciences\", sep.copy(deep = True)) #all, inter, loc:nat, national = all est +ve,p val *\n",
    "#tmp = reg2(\"Health Sciences\", sep.copy(deep = True)) #national gmale coeff =0.068815948, p val = **\n",
    "#tmp = reg2(\"Natural Sciences\", sep.copy(deep = True)) #nat:inter = 0.16437549, p val = *\n",
    "\n",
    "\n",
    "\n",
    "tmp = reg2(\" \",sep.copy(deep = True)) #loc:inter(+ve), loc:nat (-ve), nat:inter(+ve), nattional(+ve)\n",
    "\n",
    "with localconverter(ro.default_converter + pandas2ri.converter):\n",
    "  tst_df = ro.conversion.py2rpy(tmp)\n",
    "\n",
    "col_2_index = list(tst_df.colnames).index('year')\n",
    "col_2 = ro.vectors.FactorVector(tst_df.rx2('year'))\n",
    "tst_df[col_2_index] = col_2\n",
    "\n",
    "col_2_index = list(tst_df.colnames).index('cat')\n",
    "col_2 = ro.vectors.FactorVector(tst_df.rx2('cat'))\n",
    "tst_df[col_2_index] = col_2\n",
    "\n",
    "\n",
    "col_2_index = list(tst_df.colnames).index('Subfield_English')\n",
    "col_2 = ro.vectors.FactorVector(tst_df.rx2('Subfield_English'))\n",
    "tst_df[col_2_index] = col_2\n",
    "\n",
    "col_2_index = list(tst_df.colnames).index('Field_English')\n",
    "col_2 = ro.vectors.FactorVector(tst_df.rx2('Field_English'))\n",
    "tst_df[col_2_index] = col_2\n",
    "\n",
    "col_2_index = list(tst_df.colnames).index('openaccess_status')\n",
    "col_2 = ro.vectors.FactorVector(tst_df.rx2('openaccess_status'))\n",
    "tst_df[col_2_index] = col_2\n",
    "\n",
    "\n",
    "col_2_index = list(tst_df.colnames).index('q')\n",
    "col_2 = ro.vectors.FactorVector(tst_df.rx2('q'))\n",
    "tst_df[col_2_index] = col_2\n",
    "\n",
    "model = nnet.multinom(\"cat ~ G+year+Field_English+q+openaccess_status\",\n",
    "                  data=tst_df) \n",
    "\n",
    "\n",
    "print(base.summary(model))"
   ]
  },
  {
   "cell_type": "code",
   "execution_count": 0,
   "metadata": {
    "application/vnd.databricks.v1+cell": {
     "cellMetadata": {
      "byteLimit": 2048000,
      "rowLimit": 10000
     },
     "inputWidgets": {},
     "nuid": "cae8474d-412f-4605-8b67-fd6ab02cf55d",
     "showTitle": false,
     "title": ""
    }
   },
   "outputs": [
    {
     "output_type": "stream",
     "name": "stdout",
     "output_type": "stream",
     "text": [
      "Out[96]: 0.1633158387134961"
     ]
    }
   ],
   "source": [
    "scipy.stats.norm.sf(abs(-0.01907/0.01368))*2"
   ]
  },
  {
   "cell_type": "code",
   "execution_count": 0,
   "metadata": {
    "application/vnd.databricks.v1+cell": {
     "cellMetadata": {
      "byteLimit": 2048000,
      "rowLimit": 10000
     },
     "inputWidgets": {},
     "nuid": "6191a1bf-19e7-4e8f-8363-b6ec285ec2e3",
     "showTitle": false,
     "title": ""
    }
   },
   "outputs": [
    {
     "output_type": "stream",
     "name": "stdout",
     "output_type": "stream",
     "text": [
      "printing p value\n[[3.45440422e-001 6.61140795e-001 9.10034551e-013 8.14431114e-016\n  2.15659099e-025 2.00023811e-038 4.00971559e-015 5.55597961e-001\n  1.05779011e-002 7.52387024e-014 2.12525829e-011 4.39961285e-010\n  8.47019210e-035 6.00514617e-002 1.17639284e-002 4.49417224e-001\n  2.35756363e-008 7.18141013e-002 4.19210097e-001 7.66418354e-001\n  3.80358633e-002 9.15648354e-004 3.80509839e-003 6.56786036e-014\n  9.16667179e-002 3.26164218e-002 9.95983105e-003 5.84713923e-002\n  1.43691095e-010]\n [1.29357769e-001 8.89826430e-001 8.48610088e-002 8.67184326e-001\n  1.31088859e-001 1.52438732e-005 1.14973320e-001 3.34426306e-001\n  1.85471594e-002 7.17587470e-006 2.88823733e-006 1.25501228e-001\n  2.90515459e-001 7.20992491e-001 1.47560688e-001 3.55588804e-001\n  1.61475934e-002 1.82647815e-001 1.93729062e-001 1.80094666e-001\n  4.47439599e-001 2.21936804e-002 2.23107351e-003 2.18043031e-001\n  5.94187722e-001 5.77976533e-001 9.75719361e-001 9.55001822e-001\n  5.89761350e-002]\n [2.14202322e-001 7.54951168e-001 1.33803509e-002 1.14492639e-006\n  4.49314884e-019 1.36973937e-002 9.15598323e-002 1.44296980e-006\n  1.19516553e-001 2.01537809e-009 3.33991639e-011 5.78340385e-002\n  7.75166289e-001 3.50574563e-001 2.40498053e-009 1.65380015e-003\n  6.35587375e-001 1.80689992e-006 1.13516535e-001 6.55802876e-002\n  4.07591385e-007 2.01743179e-003 5.88994285e-002 1.98705808e-002\n  4.92176852e-001 7.42185053e-001 9.69074492e-001 9.74054052e-001\n  3.48287923e-001]\n [1.98343888e-001 5.75918011e-002 3.47447916e-003 1.93113062e-002\n  1.77022925e-003 3.68985351e-004 3.44537982e-001 2.71565432e-001\n  6.77025344e-001 2.70130176e-001 1.08378577e-001 2.72587048e-001\n  8.51049389e-001 3.28935249e-002 4.89278198e-001 6.47069149e-001\n  2.04830932e-001 8.03595560e-001 4.52754048e-001 4.74166597e-001\n  8.42811718e-001 5.44762011e-001 1.64578306e-001 8.67930599e-001\n  9.23862733e-001 5.96610129e-001 9.13288035e-001 9.31891010e-001\n  2.05667653e-001]\n [6.66811795e-001 1.04246280e-001 5.74563598e-010 5.84967604e-014\n  5.37704213e-064 1.30315246e-027 1.17630758e-009 2.98477392e-023\n  1.31283788e-001 1.43959013e-032 3.07663596e-042 4.25227694e-005\n  1.51710653e-004 4.73375810e-001 4.84585758e-015 1.20073568e-007\n  1.30652314e-001 1.24831254e-012 1.42626658e-001 8.39503823e-002\n  1.22891764e-015 1.01868304e-006 1.49199589e-005 5.69942479e-007\n  3.03187071e-001 6.28562449e-001 1.78693970e-001 2.98572741e-001\n  3.29632623e-010]\n [5.05832887e-002 1.93175714e-003 3.32253431e-001 6.43019069e-001\n  2.04595399e-002 3.95942296e-019 6.25891498e-014 9.09869282e-001\n  3.59349810e-002 2.49890979e-003 1.93795631e-011 2.05272920e-005\n  4.02570291e-026 1.92860776e-001 9.29503065e-002 9.69403530e-003\n  1.95428917e-021 5.48883141e-001 7.38043028e-002 3.66900074e-002\n  4.80247001e-017 1.41322552e-006 1.38964190e-006 1.83530113e-001\n  7.74478104e-001 7.59370254e-001 7.48815680e-001 6.08570675e-001\n  4.56699336e-001]\n [1.72207498e-004 6.84916352e-006 1.72565563e-008 9.46982625e-015\n  7.48985374e-056 3.55481773e-067 2.18681703e-036 2.36815478e-023\n  2.00441411e-001 1.34477283e-009 3.89404427e-178 4.43855733e-009\n  3.93977519e-017 2.17544529e-001 7.71039541e-002 1.16639377e-002\n  1.21300536e-001 1.07368647e-027 4.05352626e-013 2.00834990e-004\n  3.35501337e-035 1.87821175e-010 3.18703014e-066 3.90355161e-002\n  4.29006124e-003 2.15646298e-003 5.62558830e-004 1.79560524e-003\n  1.77711762e-004]]\n"
     ]
    }
   ],
   "source": [
    "coeffs = base.summary(model).rx2('coefficients')\n",
    "std = base.summary(model).rx2('standard.errors')\n",
    "import scipy.stats \n",
    "\n",
    "z = np.array(coeffs) / np.array(std)\n",
    "#print(z)\n",
    "\n",
    "def my_vectorized_func(m):\n",
    "    return scipy.stats.norm.sf(abs(m))*2\n",
    "\n",
    "val = my_vectorized_func(z)\n",
    "print(\"printing p value\")\n",
    "print(val)"
   ]
  },
  {
   "cell_type": "markdown",
   "metadata": {
    "application/vnd.databricks.v1+cell": {
     "cellMetadata": {},
     "inputWidgets": {},
     "nuid": "9b2821b7-18af-42ec-a128-0608657f6cf0",
     "showTitle": false,
     "title": ""
    }
   },
   "source": [
    "#### proportion of female in cited and uncited categories of media across disciplines"
   ]
  },
  {
   "cell_type": "code",
   "execution_count": 0,
   "metadata": {
    "application/vnd.databricks.v1+cell": {
     "cellMetadata": {
      "byteLimit": 2048000,
      "rowLimit": 10000
     },
     "inputWidgets": {},
     "nuid": "5a969aaf-463d-4a2d-8218-18a2c36474a5",
     "showTitle": false,
     "title": ""
    }
   },
   "outputs": [
    {
     "output_type": "stream",
     "name": "stdout",
     "output_type": "stream",
     "text": [
      "Health Sciences  percent of female in locally cited group  0.4263461538461538  and uncited group  0.4006600089346188\nHealth Sciences  percent of female in nationally cited group  0.402384965973653  and uncited group  0.40509642161686804\nHealth Sciences  percent of female in internationally cited group  0.4136147038801906  and uncited group  0.40303390017667845\nHealth Sciences  percent of female in specialty cited group  0.39939890258361593  and uncited group  0.4500619920099187\nNatural Sciences  percent of female in locally cited group  0.3353389490573606  and uncited group  0.28940568475452194\nNatural Sciences  percent of female in nationally cited group  0.3017312448474856  and uncited group  0.2782386726228462\nNatural Sciences  percent of female in internationally cited group  0.2987065481002425  and uncited group  0.2965598123534011\nNatural Sciences  percent of female in specialty cited group  0.2883589329021827  and uncited group  0.3334485141672426\nApplied Sciences  percent of female in locally cited group  0.3210702341137124  and uncited group  0.2766577605052222\nApplied Sciences  percent of female in nationally cited group  0.2775149795017345  and uncited group  0.2920984455958549\nApplied Sciences  percent of female in internationally cited group  0.280188679245283  and uncited group  0.28255675029868577\nApplied Sciences  percent of female in specialty cited group  0.27810574948665295  and uncited group  0.3021978021978022\nEconomic & Social Sciences  percent of female in locally cited group  0.43546365914786966  and uncited group  0.4512328169321405\nEconomic & Social Sciences  percent of female in nationally cited group  0.4372384937238494  and uncited group  0.4810578984989278\nEconomic & Social Sciences  percent of female in internationally cited group  0.43194600674915634  and uncited group  0.4497164461247637\nEconomic & Social Sciences  percent of female in specialty cited group  0.44589147286821706  and uncited group  0.44854434664861204\nArts & Humanities  percent of female in locally cited group  0.4394904458598726  and uncited group  0.4555984555984556\nArts & Humanities  percent of female in nationally cited group  0.4425612052730697  and uncited group  0.4861111111111111\nArts & Humanities  percent of female in internationally cited group  0.3944636678200692  and uncited group  0.46748350612629597\nArts & Humanities  percent of female in specialty cited group  0.44209215442092153  and uncited group  0.46617915904936014\n"
     ]
    }
   ],
   "source": [
    "dummy = sep2.copy()\n",
    "gender = []\n",
    "  \n",
    "for ind in dummy.index:\n",
    "  if dummy['cor_gender'][ind] == 'female' or dummy['cor_gender'][ind] == 'f' or dummy['cor_gender'][ind] == 'F':\n",
    "    gender.append(\"female\")\n",
    "  else:\n",
    "    gender.append(\"male\") \n",
    "\n",
    "dummy['gender'] = gender\n",
    "\n",
    "for i in dummy['Domain_English'].unique():\n",
    "    dd = dummy[dummy['Domain_English'] == i]\n",
    "\n",
    "    a1 = dd[dd['bin_loc'] == 1]\n",
    "    if len(a1) == 0:\n",
    "        print(i)\n",
    "        continue\n",
    "    x1 = len(a1[a1['gender'] == \"female\"])/len(a1)\n",
    "\n",
    "    a1 = dd[dd['bin_loc'] == 0]\n",
    "    if len(a1) == 0:\n",
    "        print(i)\n",
    "        continue\n",
    "    x2 = len(a1[a1['gender'] == \"female\"])/len(a1)\n",
    "    print(i, \" percent of female in locally cited group \",x1,\" and uncited group \",x2)\n",
    "\n",
    "    a1 = dd[dd['bin_nat'] == 1]\n",
    "    if len(a1) == 0:\n",
    "        print(i)\n",
    "        continue\n",
    "    x1=len(a1[a1['gender'] == \"female\"])/len(a1)\n",
    "\n",
    "    a1 = dd[dd['bin_nat'] == 0]\n",
    "    if len(a1) == 0:\n",
    "        print(i)\n",
    "        continue\n",
    "    x2 = len(a1[a1['gender'] == \"female\"])/len(a1)\n",
    "    print(i, \" percent of female in nationally cited group \",x1,\" and uncited group \",x2)\n",
    "\n",
    "    a1 = dd[dd['bin_int'] == 1]\n",
    "    if len(a1) == 0:\n",
    "        print(i)\n",
    "        continue\n",
    "    x1 = len(a1[a1['gender'] == \"female\"])/len(a1)\n",
    "\n",
    "    a1 = dd[dd['bin_int'] == 0]\n",
    "    if len(a1) == 0:\n",
    "        print(i)\n",
    "        continue\n",
    "    x2 = len(a1[a1['gender'] == \"female\"])/len(a1)\n",
    "    print(i, \" percent of female in internationally cited group \",x1,\" and uncited group \",x2)\n",
    "\n",
    "    a1 = dd[dd['bin_sp'] == 1]\n",
    "    if len(a1) == 0:\n",
    "        print(i)\n",
    "        continue\n",
    "    x1 = len(a1[a1['gender'] == \"female\"])/len(a1)\n",
    "\n",
    "    a1 = dd[dd['bin_sp'] == 0]\n",
    "    if len(a1) == 0:\n",
    "        print(i)\n",
    "        continue\n",
    "    x2 = len(a1[a1['gender'] == \"female\"])/len(a1)\n",
    "    print(i, \" percent of female in specialty cited group \",x1,\" and uncited group \",x2)"
   ]
  },
  {
   "cell_type": "markdown",
   "metadata": {
    "application/vnd.databricks.v1+cell": {
     "cellMetadata": {},
     "inputWidgets": {},
     "nuid": "3f0ee928-28d4-4a0c-80d0-f38edb653e9d",
     "showTitle": false,
     "title": ""
    }
   },
   "source": [
    "#### proportion of female in cited and uncited categories of media entire"
   ]
  },
  {
   "cell_type": "code",
   "execution_count": 0,
   "metadata": {
    "application/vnd.databricks.v1+cell": {
     "cellMetadata": {
      "byteLimit": 2048000,
      "rowLimit": 10000
     },
     "inputWidgets": {},
     "nuid": "5b77852f-65e1-453b-b700-85b8232eb2dc",
     "showTitle": false,
     "title": ""
    }
   },
   "outputs": [
    {
     "output_type": "stream",
     "name": "stdout",
     "output_type": "stream",
     "text": [
      " percent of female in locally cited group  0.4054628414275892  and uncited group  0.3782351042002979\n percent of female in nationally cited group  0.37037694328103926  and uncited group  0.3940145146224043\n percent of female in internationally cited group  0.379198805673053  and uncited group  0.3824768154943527\n percent of female in sp cited group  0.37733137587361976  and uncited group  0.4124378760136019\n"
     ]
    }
   ],
   "source": [
    "dummy = sep2.copy()\n",
    "gender = []\n",
    "  \n",
    "for ind in dummy.index:\n",
    "  if dummy['cor_gender'][ind] == 'female' or dummy['cor_gender'][ind] == 'f' or dummy['cor_gender'][ind] == 'F':\n",
    "    gender.append(\"female\")\n",
    "  else:\n",
    "    gender.append(\"male\") \n",
    "\n",
    "dummy['gender'] = gender\n",
    "\n",
    "a1 = dummy[dummy['bin_loc'] == 1]\n",
    "x1 = len(a1[a1['gender'] == \"female\"])/len(a1)\n",
    "\n",
    "a1 = dummy[dummy['bin_loc'] == 0]\n",
    "x2 = len(a1[a1['gender'] == \"female\"])/len(a1)\n",
    "print(\" percent of female in locally cited group \",x1,\" and uncited group \",x2)\n",
    "\n",
    "a1 = dummy[dummy['bin_nat'] == 1]\n",
    "x1=len(a1[a1['gender'] == \"female\"])/len(a1)\n",
    "\n",
    "a1 = dummy[dummy['bin_nat'] == 0]\n",
    "x2=len(a1[a1['gender'] == \"female\"])/len(a1)\n",
    "print(\" percent of female in nationally cited group \",x1,\" and uncited group \",x2)\n",
    "\n",
    "a1 = dummy[dummy['bin_int'] == 1]\n",
    "x1=len(a1[a1['gender'] == \"female\"])/len(a1)\n",
    "\n",
    "a1 = dummy[dummy['bin_int'] == 0]\n",
    "x2=len(a1[a1['gender'] == \"female\"])/len(a1)\n",
    "print(\" percent of female in internationally cited group \",x1,\" and uncited group \",x2)\n",
    "\n",
    "a1 = dummy[dummy['bin_sp'] == 1]\n",
    "x1=len(a1[a1['gender'] == \"female\"])/len(a1)\n",
    "\n",
    "a1 = dummy[dummy['bin_sp'] == 0]\n",
    "x2= len(a1[a1['gender'] == \"female\"])/len(a1)\n",
    "print(\" percent of female in sp cited group \",x1,\" and uncited group \",x2)"
   ]
  },
  {
   "cell_type": "code",
   "execution_count": 0,
   "metadata": {
    "application/vnd.databricks.v1+cell": {
     "cellMetadata": {
      "byteLimit": 2048000,
      "rowLimit": 10000
     },
     "inputWidgets": {},
     "nuid": "9b40467d-d72f-48e5-9411-354abb3bfbba",
     "showTitle": false,
     "title": ""
    }
   },
   "outputs": [
    {
     "output_type": "stream",
     "name": "stdout",
     "output_type": "stream",
     "text": [
      "1  hhh  112016\nproportion of female in the entire cited set  0.3821239822882445\n percent of female in locally cited group  0.4054628414275892  and uncited group  0.3782351042002979\n percent of female in nationally cited group  0.37037694328103926  and uncited group  0.3940145146224043\n percent of female in internationally cited group  0.379198805673053  and uncited group  0.3824768154943527\n percent of female in sp cited group  0.37733137587361976  and uncited group  0.4124378760136019\n['Local', 'Local', 'National', 'National', 'International', 'International', 'Specialty', 'Specialty']\n['Cited', 'Uncited', 'Cited', 'Uncited', 'Cited', 'Uncited', 'Cited', 'Uncited']\n[0.4054628414275892, 0.3782351042002979, 0.37037694328103926, 0.3940145146224043, 0.379198805673053, 0.3824768154943527, 0.37733137587361976, 0.4124378760136019]\nOut[33]: Text(0, 0.5, 'Proportion of female corresponding author')"
     ]
    },
    {
     "output_type": "display_data",
     "data": {
      "image/png": "[encoded data removed]"
     },
     "metadata": {
      "application/vnd.databricks.v1+output": {
       "addedWidgets": {},
       "arguments": {},
       "data": "data:image/png;base64,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\n",
       "datasetInfos": [],
       "metadata": {},
       "removedWidgets": [],
       "type": "image"
      }
     },
     "output_type": "display_data"
    }
   ],
   "source": [
    "####plotting\n",
    "import seaborn as sns\n",
    "import matplotlib.pyplot as plt \n",
    "\n",
    "dummy = sep2.copy()\n",
    "gender = []\n",
    "  \n",
    "for ind in dummy.index:\n",
    "  if dummy['cor_gender'][ind] == 'female' or dummy['cor_gender'][ind] == 'f' or dummy['cor_gender'][ind] == 'F':\n",
    "    gender.append(\"female\")\n",
    "  elif dummy['cor_gender'][ind] == 'male' or dummy['cor_gender'][ind] == 'm' or dummy['cor_gender'][ind] == 'M':\n",
    "    gender.append(\"male\") \n",
    "\n",
    "dummy['gender'] = gender\n",
    "\n",
    "print(dummy['total_count'].min(),\" hhh \", len(dummy))\n",
    "print(\"proportion of female in the entire cited set \",len(dummy[dummy['gender'] == \"female\"])/len(dummy))\n",
    "\n",
    "Category = [\"Local\",\"Local\",\"National\",\"National\",\"International\",\"International\",\"Specialty\", \"Specialty\"]\n",
    "Group = [\"Cited\",\"Uncited\",\"Cited\",\"Uncited\",\"Cited\",\"Uncited\",\"Cited\",\"Uncited\"]\n",
    "Percent = []\n",
    "\n",
    "a1 = dummy[dummy['bin_loc'] == 1]\n",
    "x1 = len(a1[a1['gender'] == \"female\"])/len(a1)\n",
    "\n",
    "a1 = dummy[dummy['bin_loc'] == 0]\n",
    "x2 = len(a1[a1['gender'] == \"female\"])/len(a1)\n",
    "print(\" percent of female in locally cited group \",x1,\" and uncited group \",x2)\n",
    "Percent.append(x1)\n",
    "Percent.append(x2)\n",
    "\n",
    "\n",
    "\n",
    "a1 = dummy[dummy['bin_nat'] == 1]\n",
    "x1=len(a1[a1['gender'] == \"female\"])/len(a1)\n",
    "\n",
    "a1 = dummy[dummy['bin_nat'] == 0]\n",
    "x2=len(a1[a1['gender'] == \"female\"])/len(a1)\n",
    "print(\" percent of female in nationally cited group \",x1,\" and uncited group \",x2)\n",
    "Percent.append(x1)\n",
    "Percent.append(x2)\n",
    "\n",
    "a1 = dummy[dummy['bin_int'] == 1]\n",
    "x1=len(a1[a1['gender'] == \"female\"])/len(a1)\n",
    "\n",
    "a1 = dummy[dummy['bin_int'] == 0]\n",
    "x2=len(a1[a1['gender'] == \"female\"])/len(a1)\n",
    "print(\" percent of female in internationally cited group \",x1,\" and uncited group \",x2)\n",
    "Percent.append(x1)\n",
    "Percent.append(x2)\n",
    "\n",
    "a1 = dummy[dummy['bin_sp'] == 1]\n",
    "x1=len(a1[a1['gender'] == \"female\"])/len(a1)\n",
    "\n",
    "a1 = dummy[dummy['bin_sp'] == 0]\n",
    "x2= len(a1[a1['gender'] == \"female\"])/len(a1)\n",
    "print(\" percent of female in sp cited group \",x1,\" and uncited group \",x2)\n",
    "Percent.append(x1)\n",
    "Percent.append(x2)\n",
    "\n",
    "pltdata = pd.DataFrame()\n",
    "pltdata['Category'] = Category\n",
    "pltdata['Group'] = Group\n",
    "pltdata['Percent'] = Percent\n",
    "\n",
    "print(list(pltdata['Category']))\n",
    "print(list(pltdata['Group']))\n",
    "print(list(pltdata['Percent']))\n",
    "\n",
    "#sns.set_theme(style=\"ticks\", palette=\"tab10\")\n",
    "fig = plt.figure(figsize =(5, 4))\n",
    "\n",
    "# Load the example tips dataset\n",
    "\n",
    "color = ['#56b4e9','#fa60fa','#8de5a1','#ff9f9b']\n",
    "\n",
    "\n",
    "# Draw a nested boxplot to show bills by day and time\n",
    "ax = sns.barplot(y=\"Percent\", x=\"Category\",\n",
    "            hue=\"Group\", palette=color,\n",
    "            data=pltdata)\n",
    "\n",
    "\n",
    "\n",
    "'''bars_to_color = [1,2,3,4,5,6,7,8]  # Example: Bars at positions 2, 7, and 11\n",
    "col = ['#56b4e9','#56b4e9','#fa60fa','#fa60fa','#8de5a1','#8de5a1','#ff9f9b','#ff9f9b']\n",
    "for i in bars_to_color:\n",
    "    bars1[i].set_color(col[i-1])'''\n",
    "\n",
    "\n",
    "'''for bars in ax.containers:\n",
    "  i = 0\n",
    "  for bar in bars:\n",
    "    bar.set_color(color[i])\n",
    "    i+=1'''\n",
    "\n",
    "'''hatches = [\"\", \"--- |||\",\"\", \"--- |||\",\"\", \"--- |||\",\"\", \"--- |||\"]\n",
    "# Loop over the bars\n",
    "i = 0\n",
    "for bars, hatch in zip(ax.containers, hatches):\n",
    "    # Set a different hatch for each group of bars\n",
    "    #i = 0\n",
    "    for bar in bars:\n",
    "        bar.set_color(color[i])\n",
    "        bar.set_hatch(hatch)\n",
    "        i+=1'''\n",
    "\n",
    "\n",
    "'''i = 0\n",
    "for bar in ax.patches:\n",
    "    # Check if the bar is part of the primary data (not the hue)\n",
    "    if i < len(custom_colors):\n",
    "        bar.set_color(color[i])\n",
    "        bar.set_hatch(hatches[i])\n",
    "        i += 1'''\n",
    "      \n",
    "\n",
    "\n",
    "plt.axhline(y = 0.3705, linewidth = 2, linestyle = \"--\") #proportion of female corresponding author across the dataset\n",
    "plt.legend(loc = \"lower right\")\n",
    "plt.xticks(fontsize = 10)\n",
    "plt.ylabel(\"Proportion of female corresponding author\")\n"
   ]
  },
  {
   "cell_type": "code",
   "execution_count": 0,
   "metadata": {
    "application/vnd.databricks.v1+cell": {
     "cellMetadata": {
      "byteLimit": 2048000,
      "rowLimit": 10000
     },
     "inputWidgets": {},
     "nuid": "edcf4f76-ebe2-4e24-b1f3-e4f015729cf0",
     "showTitle": false,
     "title": ""
    }
   },
   "outputs": [
    {
     "output_type": "stream",
     "name": "stdout",
     "output_type": "stream",
     "text": [
      "<command-621931576738570>:16: MatplotlibDeprecationWarning: hatch must consist of a string of \"*+-./OX\\ox|\" or None, but found the following invalid values \" \". Passing invalid values is deprecated since 3.4 and will become an error two minor releases later.\n  cited_bars = plt.bar(X_axis + 0.2, cited, 0.4, label='cited', color=['#56b4e9','#fa60fa','#8de5a1','#ff9f9b'], edgecolor='white', hatch='--- |||')\n<command-621931576738570>:19: MatplotlibDeprecationWarning: hatch must consist of a string of \"*+-./OX\\ox|\" or None, but found the following invalid values \" \". Passing invalid values is deprecated since 3.4 and will become an error two minor releases later.\n  legend_patches = [mpatches.Patch(facecolor='grey', edgecolor='white', hatch='--- |||', label='cited'),\n"
     ]
    },
    {
     "output_type": "display_data",
     "data": {
      "image/png": "[encoded data removed]"
     },
     "metadata": {
      "application/vnd.databricks.v1+output": {
       "addedWidgets": {},
       "arguments": {},
       "data": "data:image/png;base64,iVBORw0KGgoAAAANSUhEUgAAAVgAAAD3CAYAAABYUUzPAAAAOXRFWHRTb2Z0d2FyZQBNYXRwbG90bGliIHZlcnNpb24zLjQuMywgaHR0cHM6Ly9tYXRwbG90bGliLm9yZy/MnkTPAAAACXBIWXMAAAsTAAALEwEAmpwYAAAyzUlEQVR4nO3deXhU1f3H8fdHEheUuhBELLKoda0UNIq2lcW9dbcuFasgVVxqW4sLbnVpreICau2iaAWtde3PWrfWpRWrlYKguFJXwEJFBZSyiJDw/f1xzuROYmZyITNJZvJ9PU+ezD1z7r1nJnBy85lzz5GZ4ZxzrvDWau0GOOdcufIO1jnnisQ7WOecKxLvYJ1zrki8g3XOuSKpaO0GtJSqqirr1atXazfDOVdmpk2bNt/MujT2XLvpYHv16sXUqVNbuxnOuTIjaXau5zwicM65Isl5BSupR46nhpnZz4rUHuecKxv5IoI/AS8DWwCVwGygZ3zsHaxz7V1NDVS0QMrYUucpgnytPsnMXpJ0vpldmSmUdHELtMs519ZVVMCEW4t/nmEnFf8cRZIzgzWzl+LDfpIqACRVAl9tiYY551ypS3PdfT/wjqTlwDrAucVtknPOlYcmO1gzu1/S/wFVwHwzW1XIBkgaAvQFOgHjzWxKI3V+CWxpZgfF7e7AJYRcWGb280K2qaWtXGVUrqWWOVetUdmhZc7lXHvXZAcrqQ8wFpgP3CdpiZk9UYiTS9oQGGlm1ZI6AROBXRrU2RtYt8Guo4EbzWyypLsl7WpmLxSiTa2hci1x/1tL+ePbSwE48ivrAxRl+94DNy3ui3HO1UkzDvYU4ERgupk9AAwq4Pn7AzMAzGwxUCGpW+ZJSV8CDgHuarDfYGBafDwF2KeAbXLOuYJIk8HOMbP/SMpEA8sLeP4qYEnW9uJY9kHcvgi4Ati+wX4bmFlN1j7dGzu4pBHACIAePXIN620bjtpm/UYfF2PbOdcy0lzBdpZ0CzBQ0g3AegU8/3xgg6ztTrEMSZsAXQhXz0OArSSNjPWWZEY2ZO/TkJmNM7NqM6vu0qXRW4Wdc65o0nzIdbakA4EdgNfN7LECnn8y4QqVmMHWAvMldTWzDwmdK5IGAZub2di439OErHYysBshIy5p2RlsRjG2/WrWuZbT5BWspMPM7FEzuwaYJemSQp3czBYBYyWNAa4FTgP2Aq7KOv82wPHA1pKOj8XnASdLuhSYUcofcJUCW9ly67a15LmcK7Z8cxF8CdgIGCDpxVi8FNiskA0ws7v44odYj2c9/xbw/Qb7zAFK9/aORrTlDFaVYuWJK5t1jLQqx1e2yHmcawn5IoLDgWFAL6BfLKsBnixuk5xzrjzk7GDN7Hbgdkl7mNmkFmxTu+QZrHPlJ19E0NPMZgOVkgZkPXW8mZ1c/KY551xpyxcRnEf40Okywh1WGVsWs0HtVVvOYJ1zayZfRHBafDjczGZmyiX1LHqrnGujaqyWCnUou3O54khzJ9epkl40s3slnQD8jzDJiisgz2BLQ4U6MPa/d7TIuUZufkKLnMcVT5o7uZab2b0AZnYHYeardmFFrY/JdK2nxmrL6jxrrLYF21dT03Sd1ZDmCrbhTFadCtqCNmztDuKYRz8q+nnuPXBTz2DdF1SoA5MWv8wenb4GwKTFLwMUbbvN6hBjkulxOH7fnYu3nXlcIGk62NclvQz8F+gGjCloC5xzrkylmYvgDkmPEkYPvGtmC4vfrPbHM1jXmMxVZsPHhdxu81ewEK4uM1ec2WWF3i7wFSxmlveLkNPuDAyIX79tap+2+LVLt25mkHxNnRq+sssuucTMzCyr7rtb9bGjH/nQntz/e/XqnnL7yzb6p3fUK7v5jGvs6Ec+rFc2ddd97ehHPrSpu+5br/zoRz60m8+4pl7Z6J/eYafc/nK9sif3/57d9+YSW7hj37qyZV02s/veXGL3HXt2vbqjrn/CRl3/RL2y+4492+57c4kt67JZUr7zzuF1nnxy/dc/d67ZQw/VL7v55lA3q6y2+7dtxbAVVtv92/XKVwxbYSv3+E29spV7P2Arjp5Vf/9tvm8rhq2wVZ371ZWtWq9bKLvo4jX6OTX3NdlBB4Wygw6qX24W6meV/Wn8mXbTtOvrlb183EAbM/d2m7dTz7qyxV03sjFzb7fnRx5Wr+7v/3Kp/f4vl9Yre37kYTZm7u22uOtG9V7TmLm327xhR9Sr+8KbT9iMe2+oV/bODRfZmLm31y/bp6+NmXu7LThgQP1z/W+6vXPDRfVf50MPhfcqu+zkk8Pr33nnpKxbt1B2ySUNfiYXha/sskMPNht/i9lGGyZlPXuEsoF71q879hqzH59Rv2zo8aFudtnX+pi9NM1sQIP9X5oW6meX/fiMcNzssoF7hrrbb5eUVVWFskMPXqN/e8DUXP2OYieak6Qngc+ABbGoj5ntkmeXNqm6utqmTp262vu1VAYL4SoWksy0GNtregXbGnMR1D4YPtzocFiHomyvqZYcRdDmM9iWXFW2jWawkqaZWXVjz6XJYOea2bCsg2272i1wzrl2KE0Hu1DSicB7hMvhY4AfFLVV7ZBnsInMleaqP9dfX7PQ2829km0JnsFGJZrBpulgBwOLgMyaK9sVtAXOOVem0nSwQ8xsRmYjLpntCszHwSYaXlkWe7st26PT175whVno7ZKQfWXZ8Cqz0NsFlKaD7SIpe0Gr4wGfTcs555qQpoO9jLAGloAv047u5GpJnsEmPINNeAYblXEGO8TMMstoI+mMQjZA0hDC/AadgPFmNiXruROBamAeYdHFE81suaSbSLLguWZ2XCHb5JxzhZCmg91XUubxBsCBwK8KcXJJGwIjzaw6rio7kbBabEYlcKaZrZQ0HjgAeBCYZ2anFqINbYVnsAnPYBOewUZlnMGeSDLh9hKgkFew/YEZAGa2WFKFpG6ZK2YzGweg0MN3JwwVA+gk6XxgbeA5M/tbAdvknHMFkaaDPcHM/lOk81cROu2MxbEsO5L4CnAp8DLwaiy+E3glPn5O0rtmNqvhwSWNAEYA9OjRo+HTbYpnsAnPYBOewUYlmsE2OR9sETtXgPmE2CGjUyzLPv/bMWNdBvwwlr1kZrVmVgtMB3Zt7OBmNs7Mqs2sukuXLo1Vcc65oklzBVtMk4ErAGIGWwvMl9TVzD6UNNTC6rYQVlHYIdYdbWbnxfLewMwWbnfBeQab8Aw24RlsVMYZbD2S+prZ9BT1NjazT/LVMbNFksZKGkO4kj0N2As4FhgG9JB0BeHqtQ9wVty1m6TLCR+CPW9mqz+Li3POFVm+Zbtva6wY2IkwdKqxfW4CJgB7AD+Q9ISZnZ6vAWZ2F3BXg+LH43M/z7HP0HzHLEWewSY8g014BhuVaAab7wp2NqGzPA6YBMwCegL759lnppn9S9KNwI7AuYVppnPOlZ58y3ZfBiCpo5k9HYtnStovz/F6SjqHMHTq8zjO1aXgGWzCM9iEZ7BRGWew20g6j/BBUm9g6zx1byRc4f5U0kDCh1jOOdcupb3R4GRgIPAWMDxP3bcId2IdBbxIGELlUvAMNuEZbMIz2KgMM1gAzGwpcH1mW9L+xA+hGnEd8DHQGfgHYaKYM5vbSOecK0VNdrCSfgCcCqxPGEXwJUIH2pj3zexaSaPM7F1JH+So5xrwDDbhGWzCM9iojDPYw4GBFpfrlnR0nrrbS/oGsL6kfsBWBWijc86VpDQd7D8Jq8pm5Lt54HLgasIdV9viw7RS8ww24RlswjPYqFwzWMIHVkdKyqxf3YMcV6ZmNjPWB0BSn2a30DnnSlSaDvY6M7slsyHp2w0rSDrfzK6Mc7Zappg8d325+jyDTXgGm/AMNirXDDa7c40aWzLmn/H7+0D2LbYnrGG7nHOu5KUZRTACOBroRVi65cvAvdl1zOwf8eEOwJfMLDNva6NzCbgv8gw24RlswjPYqEQz2CbngwV6mNk+wC1m9k3C3Vq5LM/qXJHUtbkNdM65UpUmg+0Ul2zpLGlLYE9gbI66CyWdTLijy/AlvlPzDDbhGWzCM9ioXDNYwnwCg4EH4tfteeoOABYCm8ftLZvVOuecK2FpPuTKnqu1bxPVh5jZjMyGpO5r2K52xzPYhGewCc9gozLOYFfHMkn3SXpN0j1A2/8X7JxzRVLoNbnOB64lTG24FXARnsGm4hlswjPYhGewURlnsPVIGmhmz+R4+j0zmxIffyxprxTHG0KIHjoB47P2R9KJhBsV5hGGgJ1oZssl7QScQViBdraZjVvd1+Gcc8WWb02up0nuyqorJs+tskAvSaMIy8v0BvJmsHHFg5FmVh1XlZ1ImE82oxI408xWxrvEDgAeBH4DHGVm8yT9Q9LDZlbSM3d5BpvwDDbhGWxUhhnsBDPbC7gf+D6wN2Gy7XxXiz8BlhBGEyyO2/n0B2YAmNlioEJSt8yTZjYudq4idNbvSVoH6GVm82K1l4BBjR1c0ghJUyVN/fjjj5toinPOFVa+Nbkyw7F6x0lcIKzJ1SXP8Q40s1+vxvmrCB1yxuJYVnc1KukrwKXAy8CrQLcc+zT2GsYRfyFUV1c3vBpvUzyDTXgGm/AMNirRDDbNKIIqSTdJGhWX5c412TbAFZJelzQxfn9W0iOS+ueoPx/YIGu7UyyrY2Zvm9lxwDLgh8CCpvZxzrm2IM2HXN8HDgW2Af4KPJSn7l3AtWa2TFJH4BTgV8BVNL4A4mTgCoCYwdYC8yV1NbMPJQ3NupKeDewQV6udJWmzGBP0A0aneB1tmmewCc9gE57BRiWawabpYNciXDF+TBh+1QlYlKPupma2DCB2slvFDLXRD6DMbJGksZLGxHOcBuwFHAsMA3pIuoJw9doHOCvuejrwc0kLgDtL/QMu51x5StPBXg98RLqFDJdK+ivJEt+vSPoakPPXQrxT7K4GxY/H5xqdjStOKFNW42s9g014BpvwDDYq0Qw2TQc7O+1ChmY2SlJfQpxws5lNj08d2/ymOudcaUnTwaZeyFDSl4CDCFnqPEk9zOz9wjS1vHkGm/AMNuEZbFSiGWyaUQSXEyKB7wDnAb/IU3c04cOoDYE3gJHNbJ9zzpWsNFewZmZHAcT5YLcgdKKNec/Mfi/pXDObL2lejnquAc9gE57BJjyDjUo0g01zBZu9rtYcslaNbcR2ko4DtpB0OGGZGeeca5fyzUUwlDBUqqekQbF4LWBFnuONIsQIWxKGVp1XiEa2B57BJjyDTXgGG5VoBpsvIniQMPnKEJJhVLVk3cbaiC3M7BwASTsA+9NggUTnnGsv8s1FsIhwQ8GV2eWSDgYezrHbIcD0uP8b8SrYO9gUPINNeAab8Aw2KtEMNl9E8ICZHSHpJeCTTDFhusKHG9T9MWGkwUaShsV6tcTO1jnn2qN8EcFx8fvPzOxPmUJJhzSsaGY3ADdIOtbM7i5wG9sFz2ATnsEmPIONSjSDzTmKwMw+iw8/kTQQQNJg4Pk8+9TrXCUdU4hGOudcKUozDvZ4wlpbAG8BF5JjIm1JI4CjCcOz5gFfxjPYVDyDTXgGm/AMNirRDDbNONh/m9lHAGY2F/gwT90eZrYPcIuZfRO4sQBtdM65kpTmCrbhOls98tTtFJd36Rzv+toTGNvsVrYDnsEmPINNeAYblVsGm2UksJR062xNBgYDD8SvfzS3gc45V6qavII1s88JqxKkcQ8gM6uV9PXM5NuuaZ7BJjyDTXgGG5VxBrs67iMsLwNwgKRzCnx855wrGWky2NUxxcweADCzBySd39QOLvAMNuEZbMIz2KhEM9jV7mAlHWNmuYZe9Za0qZl9JGkzwodiTR1vCNCXsNbXeDObkvXcBcD6hLvCOpnZT2L5TcB2sdrcuOqsc861KU12sJJGA98jzKIl4EvkHtt6K/BYHEHwDnBqE8feEBhpZtVxVdmJwC5ZVVaa2YWx7iOS9jSzZ4F5Zpb32KXGM9iEZ7AJz2CjEs1g01zB7kiYJcsAJO2Xq6KZTQOqV+P8/YEZcd/FkiokdcusEmtm12TVXYswBSKE4WDnA2sDz5nZ3xo7eLzxYQRAjx75Rpc551zhpelgnwZ6EsbBQlgOplCqgCVZ24tjWb0pESVtC3waO3CAO4FX4uPnJL1rZrNowMzGAeMAqqurrYDtLjjPYBOewSY8g43KOIM9Bzgo3D9QN5vW/QU6/3xgg6ztTrGsjqQq4Fyyluk2s5eynp8O7EryC8A559qENB3s6Q1m0/pG2oNL2s7M/p2nymTgili3E+HDrPmSuprZhzGjHU242aFS0h5mNknSaDPLrJbQG5iZtk1tlWewCc9gE57BRuWWwUpaJ95kME1SdoA5GPhnjn22BE4HNiFc7e5EnkzWzBZJGitpDOFK9jRgL+BYwnI1dxAmjvkzsA5wMzAJ6CbpcqASeN7MpqZ5sc4515LyXcHeAxxO6NxeInSYEDrNy3Pscx7hrq8hhBEF32+qAWZ2F8mSNBmPx+cO/eIeYGZDmzpuqfEMNuEZbMIz2KjcMlgzOzw+HN4g88z303jPzF6RdKiZvSOpslANdc65UpNmLoKXGmy/nKsuYdnufYElkp4ljApwKXgGm/AMNuEZbFRuGeyaMLNh8eGTkp4G3izk8Z1zrpSkuZPrEOCFzOD/HHV6mtlsSQMaPPVLsoZXudw8g014BpvwDDYq0Qw2zWxaFwDLm6iTGTJ1GWGUQeZryzVvmnPOlbY0EcHfgZWZDUknmdmt2RXM7LT4cLiZzcyqW7xwo8x4BpvwDDbhGWxUxhnsYcBhkjJrcfUgDMGqI+mErMd7Zj11MHBUM9vonHMlKU0He52Z3ZLZkPTtRuocAjxMWINrLuG21Z5ATQHa2C54BpvwDDbhGWxUohlsmmFat0j6FmFWrdfM7LFGqo0ws4WStjCzupsQJF1SwLY651xJSTOK4CrCJCwzgUMlDTazUdl1zGxhfLibpP4kK9B6BpuSZ7AJz2ATnsFGZZzBfprdoUq6KE/dUcCVwDaEMbC+ZIxzrt1K08H2aLAMTM9cFc1shqRjgc7AB2ZWW6iGljvPYBOewSY8g41KNINNMw72VuBRSZ8ADwG/zVUxdq7PA2MJc8ieWYhGOudcKUrzIdc0woTWAEjqlqd6HzPrJ2mUmf05LlroUvAMNuEZbMIz2KhcM1hJvQnTFmZWHhgA7NPE8TLLs2zSrNY551wJS5PB3g3cB8yO25/mqfuqpNeACknfAW5oXvPaD89gE57BJjyDjUo0g03TwU41s7GZDUnP5KpoZndIepQwB8G7WcO3nHOu3cm3ZMzF8eFmkiYA7xFWNdiTHBGBwsqIPYD1gK9KOs7MTiloi8uUZ7AJz2ATnsFGZZjB9gB+DzS8Yv1ynn0eBN4FFsXtrZtqgKQhQF/CzQzjzWxK1nMXAOsTFkPsZGY/ieU7AWcQVqCdHZfnds65NiXfkjEnAUjqZWaz4uMtCQsR5vKhmY3MbEjaPt/J46qxI82sOq4qOxHYJavKSjO7MNZ9RNKeZvYs8BvgKDObJ+kfkh7ON19tKfAMNuEZbMIz2KhEM9g042BPyHo8l/yzYz0l6RJJJ8QZtn7WxLH7AzMAzGwx4cOxumFgZnZNg7Yuk7QO0MvM5sXyl4BBjR1c0ghJUyVN/fjjj5toinPOFVa+DHYoYensnpIGxeK1gBV5jncKYRXazAq0ylMXoApYkrW9OJbVuxqVtC3hlt1pkjbPsc8XxOhgHEB1dbU1Vqet8Aw24RlswjPYqAwz2AcJf7IPIVlWu5YGnV8D/zazX2Y2JE1u4vzzScbXQshh52dXkFQFnEuy9MyCRvZ5vYnzOOdci8uXwS4ifFh1ZXZ5nFD72Ry7bZh2xEE0GbgiHrcToQOfL6mrmX0YM9rRwEigUtIeZjZJ0ixJm8WYoF+sU9I8g014BpvwDDYq0Qw2zZ1cT5PcmZUZhrVVjuqdqd/Z5RtxgJktkjRW0hjCVelpwF7AsYR44g6gFyF2WAe4GZgEnA78XNIC4M5S/4DLOVee0txoMM7M7gaQ9GVCB5jLt80sO+vMeVNChpndRRJBZDwenzs0xz6vUmar1XoGm/AMNuEZbFSiGWyTowgynWt8PBfok6dum/4gyTnnWlKaiGAmISJQ/H5/sRvVHnkGm/AMNuEZbFSuGSxwsZn9fnUPLKkf8LqZ5RvW5ZxzZSvNfLD1OldJx5jZvY3VlXQfYbLtQ4GvE9bmGtr8ZpY/z2ATnsEmPIONyjWDjXdDPSXpHUnPkX9I1AvAFGBvYDDw78I00znnSk+qNbnMbJ+4SsFVkkbmqbs1cD3wGGHYVfcCtLFd8Aw24RlswjPYqEQz2DRzEXSK0xB2jpO97Jmn7k+BvwOXE5btvqf5TXTOudKU5gp2MuHP/Qfi1+156n4FeI1wM8JwvINNzTPYhGewCc9goxLNYNN8yJV9E0DfJqqfAFxA6IQfJNwMMGkN2+accyUtzRXs6phNGC+7jpndKskXPUzJM9iEZ7AJz2CjMs5gV0cl8DdgjKTBNH3F65xzZaugV7BmdhlwWVbR04U8fjnzDDbhGWzCM9ioRDPY1bqClbS5pCfzPN9P0hRJH0n6l6S+zW6hc86VqDRzETwHnBZnsPoA+HGe6icDB5nZR5I2I1zN+qqyKXgGm/AMNuEZbFTGGey/Y+eamS2rJk/d/5jZR7HuPGBO85vonHOlKU0GWyHpF8Bbcfsgci98uImk3xLmIOhNWC/LpeAZbMIz2IRnsFEZZ7BbkXSukGchQzM7B3gEWAU8HLedc65dSnMFe4SZ1a15Len/clWU9A5wuJk9mrYBkoYQhnN1Asab2ZSs5zoAPyBMmViVVX4pyVLdtWa2d9rztVWewSY8g014BhuVaAabpoPtLulRwtpY7wGnAtNz1H0yk9cCSNotu8NsKC5qONLMquOihxOBXbKq7Ag8SVwYMZuZDUrRduecazVpOtjVGRmwqaQ/kEQKTa0q2x+YAWBmiyVVSOqWWcTQzF4BCHPN1CfpfELE8baZ3ZfidbRpnsEmPINNeAYblWgGm6aDrTcyQFK+kQEdgV9mbeddVRaoApZkbS+OZU2tEns/8J6ZfSbpQUlzzOz5hpUkjQBGAPTo0aOJQzrnXGGl6WBXZ2TAIcAqM6uVtJ6ZNbWq7HzCvLEZnWJZXmb2etbmJOAbwBc6WDMbB4wDqK6ubtMLMnoGm/AMNuEZbFSiGWyaVWWzRwY81MTIgLsJy8UAfEtSU6MIJgPbA8QMthaYL6lrvp0kZa+q0BuY2cR5nHOuxaW5k2sQsMTMrpG0l6QqM8t1lTnFzB4AMLMHYk6ak5ktkjRW0hjClexpwF7AscAwSRsTRhFUSroIuM7MlgJrSboWWAqsIMxTW9I8g014BpvwDDYq4wz2BOC8+PhN4ELgJznq9pa0adYHYr2bOnicb/auBsWPx+c+IayOcHmDfc5N0W7nnGtVaTrYN7I+5Jor6cM8dW8FHpO0FfA2YUiXS8Ez2IRnsAnPYKMSzWDTdLC9JY0i+ZAr58fxZjYNqM5sS+rW3AY651ypStPBjiSMhR0AvEHueICYmQ4BOseiAeQfB+siz2ATnsEmPIONyjWDNbPPgV+lPN41wENAH8JY1abGwTrnXNkq9Jpcb5rZQ5K+amZPxWVjXAqewSY8g014BhuVcQa7OvaUNJ0wrOoO/ArWOdeOpRkH2wH4LrA28CIwy8wWNVbXzA6J+zxNmDfWl+xOyTPYhGewCc9goxLNYNPMB3s9sCXwNcK8AZflrQ2YWY2ZPWhm+YZ0OedcWUsTEcw2s2sljTKzdyU1NRGLWwOewSY8g014BhuVaAab5gp2e0nfANaX1I+wwoFzzrkmpLmCvRy4GtgB2BbIeZtqnKTlPGAbwpywV8XFD10TPINNeAab8Aw2KtEMNs042JlkLXIoqU+e6jcB9xDmFtgqbh/WvCY651xpytnBSrqtsWJgJ7Juh23gNTO7Nz5+QdJ28ViKS367HDyDTXgGm/AMNirRDDbfFexsYEIj5cPy7NNF0lDCvAU9gY6SBgDHE263dc65diNnB2tmjQ7HkvSvPMfblrDcS6+4vRQYTBjm5fLwDDbhGWzCM9ioXDNYSQcDPyRM4PIZsDm5O8yTzOzdrH03jJNqNzkvrHPOlZs0owgGA/sD55rZVZLOylP3G3FIV8bBwFHxgzKXh2ewCc9gE57BRiWawaYZB7s8fkC1kaRKoG+euocTPggT0B34qNktdM65EpXmCnahpH2BZ4F5NP7BV8YQM/sssyHpzKYOLmkIodPuBIw3sylZz3UgrMl1sZlVZZV3By4hfBAnM/t5itfRpnkGm/AMNuEZbFSuGayZXZu12VlSvhmyzpGUebwBYV7Y63NVlrQhMNLMquOqshOBXbKq7Ag8CVzRYNfRwI1mNlnS3ZJ2NbMXmnotzjnXktJ8yNWL8Kd/p1iUb5WCfsCD8fES4MomDt8fmAFgZoslVUjqZmYfxLJXYhsa7jeYZLjYlNieku5gPYNNeAab8Aw2KtEMNk1E8DvgBiAzRWH3PHVPiB1lvqW9s1UROuKMxbGsqQllNjCzmqx9Gm2TpBHACIAePXIuJeacc0WRdlXZhzIbkj7OU3d3Sb8CamJ+eoaZPZWn/nxClJDRKZY1ZYmkitjJ5tzHzMYB4wCqq6vb9J1knsEmPINNeAYblWgGm2YUwb8kPS3pNknjgTvy1D0Q+KqZ7UiYP/awJo49GdgeIGawtcD8OGlMPk+TZLW7Afk6ceecaxVprmCHAz8miQiOy1P3UzNbCWGxREmf5jtwvAlhrKQxhCvZ04C9gGOBYXGV2h8QlqC5CLjOzJYSZuy6VNK3gBnl8AGXZ7AJz2ATnsFGZZzBTsl82AQgaWKeup9JeowwfKoX4UozLzO7izD7VrbH43OfEKZLvLzBPnOAk1K03TnnWk2aDnYvSe8RJnAR0IPck27/FniU8Gf/DDN7rRCNbA88g014BpvwDDYq0Qw2TQf7oJnVDbeKNwbk8iqwn5nd3+yWOedciUtzo8GVcX6BDYHXgfvyVH/IzN7MbEja18yebH4zy59nsAnPYBOewUblmsFKugLoCtQAHwJnAOfkqL6dpOeAt+P2ToQ7sZxzrt1JExEsMrML4qqy0yTluosL4D3q39aab8SBy+IZbMIz2IRnsFEZZ7BbxfkHTNImQL65Xe81s9lZ2w3nEHDOuXYj35pcG5nZp8DNhPkFtgGOAE7Nc7zfScqe+9WA94FfmNk7zW5tGfMMNuEZbMIz2KgMM9ibJR0LdDCzXTOFcfB/zn2AewlDunoBBwAPAaOAHzW3sc45V0rydbAfEMa8flfSvKzyM4Bzc+zTOWv1gpmSepvZXEmzc9R3kWewCc9gE57BRmWYwf4FuADYFdiIcJMBhJEBuXSWdBMwk5DVriNpB+CbwJhmt9Y5VxQrV65kzpw5LF++fPV23LFPcRqUbcaM8F0dir+dedyIddddl+7du1NZWZm66flWlX0ceFxSPzN7KVMuKd+vv+8DhxLy2r8S4gEBx6RuUTvlGWzCM9hES2Wwc+bMoVOnTvTq1aux+Zdzm59vcr0CqeoCy5bCsmVhu2PH8L0Y21VdGm2CmbFgwQLmzJlD797p13BNc6PBSw22X85T10gm3M5Wm7pFzrkWt3z58tXvXNsRSXTu3JmPP169Xyhphmm5FuAZbMIz2ERLZrBtunPtuH7jj4uxncOavD8554OV9EdJHSRt06C8Df8UnHOu7ch3BfuWmdVK+i7ws6zy8/EbCArOM9iEZ7CJ1hoHW1NTQ0VFij9wc2SWXzjeihVU/G9R0xUbuGnCBDpu2pUTjvwOE353G/sNHsTmW24ZnsxkqBmNbM96/30O+t7xvDb1hVT1017NppW3g5X0BPAVSYNIRhH0wDtY58paRUUFl112GQADBw4E4Jlnnlnj7UGDBq1RO04dNqzuQ64J99zDV7ffLulgS0C+UQQTgAmSBptZ3cTZkga0RMPaG89gE57BJlpzHGymo2zYOTZ3O5877r2Xa3/zGyTRZ4cd2KpXLzbYtCu9evVi6ssvc9zpP2C9jh2ZNGkSb7z5JiPPO48lyz6jqqqKCb/5Dd26bca0Gf9m+PDhsGoV++29N6y11upluAWUZk2u5ySdJulXkk4FJhWtNc65duv1f/+by8dex98feICXJ07khl/8ou65I488kuqd+/GH237H9OnTqaio4Idnnc0f77yTadOmMXz4cC6MV9wnnngiN954Iy9P/ldrvZQ6aUYRXEeYT+AZYEvgesI6WQURJ/DuS1gddryZTcl6bm3gWsJdZVsAZ5vZMkmXAoNitVoz27tQ7WktnsEmPINNtOZcBJk/8QuxneYq9u/PPsdRhxxCVefOAGyycdZd+cuWQu0qWL4cli3lzddf57XXX2ffAw+CtdaitraWbpt24dMPPuDTTz5hQPUusGwZxx9+GH954on642jrjtm6GWzGbDO7JrMh6YJCnVzShsBIM6uOq8pOJFktFuAEYK6ZXSXpFELHfg2AmQ0qVDucc6XFzNhxu22Z9Je/1LtR4NNFq/9BWjGl6WC/Iqk/YQKX3oSr2ELpD8wAMLPFkiokdTOzD+LzewG/i4+nAKOJHayk8wkRx9tmlm+VhZLgGWzCM9hEe8pg99rzmxw+dBgjTzuVzptswsJPPkme7Lg+nTbckMUrV0LH9dm2bz8+XvgJk159lT0G78XKlSt5a9Yb7LjDDmy08cY89+JLfHPnfvzhzw+1agabpoO9Erga2IGwZMyoAp6/CliStb04ln3QyPOZ5wDuB94zs88kPShpjpk93/DgkkYAIwB69OhRwGY7V95qa2sL2rHWrlxJU7/WdtxuOy78yZkMPPQwOnRYi35f3YlePbaoe37Y947j1B+fyXrnX8CkSZP445138qNzzmbR4p9QU1PDmaefxo477MD48eMZPnw4MgsfcrWiNLfKzgSOKtL55wMbZG13imWNPV/3nJm9nlVnEvAN4AsdrJmNA8YBVFdXW8FaXQSewSY8g020VgbboUPK9yblXARp3+mh3/0uQ7/73fqFcZjWd/bbj+/st1+IBGwVfb+yNf948MH6cwksW8Yu22/Hy5Oer8tYr/7F5a2WwaYZRVBMkwlLfBMz2FpgvqSu8fm/A9Xx8W7AU7Hu6Kxj9CbM3uWcc21Kq85FYGaLJI2VNIZwpXoaIXc9FhgG3AGMkfRTYHPgrLjrWpKuBZYCK4AHWrrtheYZbMIz2ITPBxu1gbkI1kSqDlZSFfFK0czmN1V/dZjZXcBdDYofj8+tAH7YyD65Jvx2zrk2I82y3T8CTgL+A3SXdJuZ3VD0lrUznsEmPINN+JpcUdoMtbnbrTAOdhczq5u2XNLtBW2Bc86VqTQd7HsNtl8DkDTQzJ5ppL5bA57BJjyDTXgGG5VoBptmFMHRkt6TNFHSe8Cxkp4Gbitaq5xzraqmpiZdxaouqb5qvrRhcRuc5aSTTuKNN94A4Iprrmmi9hdNmDCBM844oyBtSXMFO9bMftewUNLQgrTAAZ7BZvMMNtFaGWz2dIWFcMkllzTvAKuRwd76yxvqtq+4+houOOecvPXrbbf0OFgz+52kb0k6W9IBWeWexTrnCmbW++/z1T2T2VCv/fWvufTqqxk0aBCjLvopu+23P9v0351n//lPINxtdvYll/DV6l3ps1t/brzlVgAGHXAAU198kfN+9nM+W76cvrvvwXEnDgfgzvvvZ7cBA+m7+x6cctZZ1NaGX+bj7/g92/Tfnd12241/xuMXQppRBFcR7qKaCRwa54ct5O2yDs9gs3kGm/AMNqiRmPLcszz218e57Kqreeqppxh3yy3M+u9/mf7KK1RUVLBwzn/CXV1rdYB112P06Cv51W23Mf2VVwCY8eI07n34Ef45aRKVlZWcPuJk/vDQw+x70EFccsUVTHv2H2zYbXMGDx5Mv379CtLuNBHBp9kdqqSLCnJm55xL6YgjjgBgl359mTVrFgBPPf00p37/pLqlbTbZZJO8x/jbxIlMe+kldt11VwA+W7aMTbt0YfLkyQwaNIguXbrA2mtzzDHH8NZbbxWk3Wk62B6SNjWzjyRtBvQsyJldPZ7BJjyDTbSncbAVFRWsWpX8jJYv/7zu8Tq2CpYto8OKFdSsXBky2Zpa+DzMDwskmeqqWlj+Wdg2q3vePl/B0KOP5sorr6hX/8G//Q1qalptLoJbgUclfQI8BPy2oC1wzjmga5cufDR/PgsWLuTzzz/nkSefzFt/30EDufn2O+pGPNSb3jCqrKxk5cqVAOw9YE/++PDDfPTRR3X1Z//nP/Sv3pVnnnuOBQsXsnLlSu6///6CvaY0V7DfAIaY2dsFO6v7As9gE57BJlorg62pqWn+J//Zx1uxosnOprKykovPOovd9t+fL2/Wje223jp5ct31Qr66bBlI0HF9Thoxgrdmv0+f3fegsrKSk4eewBmnnlqXwdKxIyOGD6fP7nuw884784dbxnH5pZew32GHs2rVKio7dODX141l9347c+lll7HHgQex0cYb07dv34K97jQd7CHATQU7o3OuzUu1ZDeknq4w7axSPxpxMj8acXL9wszS4MuWUlVVVZfBVlRUMPaq0YzN/Fkfo4CJEyfWbV91+c+5auzYuu1jjjySY04YWq8+hHW8Tjzm6Fa5VfZxQu76NoCks83s2oK2wnkGm8Uz2ER7ymDzKuO5CEYC35IEIKAHYSFC55xzeaTpYE83sz9lNiR9o4jtabc8g014BptoyQzWzIgXUm1PG5iLwGz1F0XJOYpA0o6S7gf2l1Q3wMzMCnebg3OuTVh33XVZsGDBGnUi7YGZsWDBAtZdd93V2i/fFeylhCFZXYDzgXPWuHWuSZ7BJjyDTbRUBtu9e3fmzJnDxx+n+9CqzpLFq1d/TXw8H1asgBVxXOza64TvxdjeoFPOZqy77rp07959tZqer4OdYWZ/B5C0Q6ZQ0jZmVpjbHJxzbUJlZSW9e/de/R0n3Fr4xjQ07CSY/iK8Hm55pe/O4XsxtoedVNCm5+tgt5F0RHy8bdbj7wDHFaoBkoYAfQnzHYw3sylZz61N+EDtA2AL4GwzWyapO3AJMBuQmf28UO1pLZ7BJjyDTfhcBFGmE2z4uBjbBZSvg90WODg+/izr8baFOrmkDYGRZlYdV5WdCOySVeUEYK6ZXSXpFOAHwDXAaOBGM5ss6W5Ju5rZC4Vql3POFUK+DvZ0M5vUsFBS/wKevz8wA8DMFkuqkNTNzD6Iz+8FZOainULoWK8BBhNWnc2U7wOUdAfrGWzCM9iEj4ONpr8YvhqWFXq7wFezas1PDWM8sKeZnRa3nwNOM7NX4/YTwE/jlerWwL1mtoukRWa2YaxzErC9mZ3VyPFHACPi5rbAm8V/VWukCijoar0lzN+LhL8XQVt/H3qaWZfGnkh7B1uxzAc2yNruRP03Mvv57OeWSKows5pG9qljZuOAcQVtcRFImmpm1a3djrbA34uEvxdBKb8PaWbTKqbJwPYAMYOtBeZL6hqf/zuQeWN3A56Kj58myWqzy51zrs1o1Q7WzBYBYyWNIYwWOI2Qu14Vq9wBdJf0U8JIg1/H8vOAkyVdShhOVtL5q3OuPLVqBusCSSNinNHu+XuR8PciKOX3wTtY55wrktbOYJ1zrmx5B+ucc0XiHWwRSPq6pOmS7sueiayZxxwmaWIhjlVokgbF13tpVtlwSRMl7ZVjn2GSNoqPO0p6sEBt6Szp/yQNK8Tx4jGzf55VOeoMktS3UOfMcY5Ses+ukHRl/P6YpE0LcMybJTU6YULD1yDpMEm9mnvO5vIOtgjM7HlgOnCfmS0s0DEnFOI4xWBmE4EngCGZ+YLN7DZgYmbCoEYMAzaKdZcBhxeoLQuAhwtxrKxjZv88cw14H0QY6VJMwyiB90xSH2BbMzvfzC4A/gKs3jx/jTvVzGY29kQjr+EwoFcBztksrX2jQbuhMJPxNcBCwqoQ48zsRUnVwEnATMKtw0cDxwC7A4uB2WZ2c+u0erUsA74H3BnnhlgEdTOxXQS8CnQ1szMlfZ3wj/9MSf+I+18M9JW0LnAdMAvYCrgSWA+4izD+eRPgy8ABZlYj6XbCHXpbAqPN7J0ivsa1JP0VWAp8SBiLPYQwV8cg4FNJm5jZWElDgT5ADfAycA/wGOF9+gjYj3Dr90+APwJfB/5kZr8qg/fsE6C/pG8BT5jZjZKOlPRkbFNXYImZnRvbfgPwXmzPL8zs/fj+7Qgsj6/lt8Btki41s4n5XkN8//oCwyRtCewav44kjLs/HzjazOYV+HV/kZn5VxG+gAnAkVnbBwE3x8ddgRfi42lAt/j4SKCSMLdCh1j2t6xjTGzt15Xn9V4av58F3JMpI/yH3zpuXwfslHktQK+Grw04Azg/Pu4P3J91rO/Hxw8D1fHx/vH714Ax8fEwYFgxfp6EjvT3Wa/17Kz2DYuPq4DXs/adDnSM+96daW/8PoNwt2Jn4LVYVvLvGeEXyN8Jv4iujP+u3wA6xuf/SugEzyDcDg8wgDD3SBXwStaxjs16PYPSvIb488rUXR94hfAX+z7APi31/8KvYFvODoQrDMzsw6wsaSuLk9uY2R8BJC0FRktaAKzBJJ2taizwiKQT4/Zy4MeSPgF2InQk+ewAPBsfzyRcxWS8F78vILmFekdJuxM6sKaOXSjZ7ejVyPNbAhWSzovb75C07S0AM8vMvPKRmS0h3P6deU0l/56Z2RPAE5I2J1y1DgU+thBtZNq1bWz7RvG9Wo/w18GWhClKM8e6u5FTpH4NZrZU0iRC5zoIuLAZL221eAbbcuYRO0tJm5H8w38n/iNE0nckrU9YJv1mMxtN1j+0UmDhkmEoMArYGDgXeMvMriTcGp1RS0hOdmxwiDdIfqlsCbyWffjsipL6AUeY2WVAC8z83Hg7oszr2QqYC/zPzEbHn+EfSH6ODfdt7Fgl/Z5J6ilpFICZ/Rd4hnAF20VSx1htK8Ivm9eBafF9ugJ4EngX6JZ1vKFr8Boavle3ElZl+ST+G20RfgVbBPE3ax9gHUnbxeKtgIWSLiZMHn5qLD8VuEzSLKAm/ra9AxgTs7buko4F1gF6ShpoZs+05OtpiqQBwABJJ5jZHWY2X2EmsxMIncvFcX6J3Ql//k0k/Ec6D5gn6UXCazuU8B/hekkXEjqLUZK2IPz52FXSPMJ7eywhv1wiaSywAugTP2Q7OLbrz2b2SQFeX93PE1gCbBWzvYOBjSV9mXAFeSbwTeAU4AaFW8AXAp9ZyD6Pi/vubmb/knRgfN37Ez682jDmlg+W+Hv2P2A3SZcDHYDuwNWEjP5UhZnxXjWzlyS9Qfi3fiHhSvQPZrZA0pjYxiXA9DgiYADh/86PmnoNhHjiJMKV+4/M7AWFET2NXQ0Xjd/J5ZxrEZImmtmgVjjv2ma2QtJoMzuv6T0Kx69gnXNFJ+lwwhX34Wb2pxY+/YWS1gMebeHz+hWsc84Vi3/I5ZxzReIdrHPOFYl3sM45VyTewTrnXJF4B+ucc0Xy/939jHMf7yIaAAAAAElFTkSuQmCC\n",
       "datasetInfos": [],
       "metadata": {},
       "removedWidgets": [],
       "type": "image"
      }
     },
     "output_type": "display_data"
    }
   ],
   "source": [
    "import pandas as pd\n",
    "import matplotlib.pyplot as plt\n",
    "import seaborn as sns\n",
    "import numpy as np\n",
    "import matplotlib.patches as mpatches\n",
    "\n",
    "fig = plt.figure(figsize=(5, 4))\n",
    "cat = ['Local', 'National', 'International', 'Specialty']\n",
    "\n",
    "uncited = [0.3782, 0.3940, 0.38247, 0.4124]\n",
    "cited = [0.4054, 0.3703, 0.3791, 0.37733]\n",
    "\n",
    "X_axis = np.arange(len(cat))\n",
    "\n",
    "uncited_bars = plt.bar(X_axis - 0.2, uncited, 0.4, label='uncited', color=['#56b4e9','#fa60fa','#8de5a1','#ff9f9b'], edgecolor='white')\n",
    "cited_bars = plt.bar(X_axis + 0.2, cited, 0.4, label='cited', color=['#56b4e9','#fa60fa','#8de5a1','#ff9f9b'], edgecolor='white', hatch='--- |||')\n",
    "\n",
    "# Create custom legend patches\n",
    "legend_patches = [mpatches.Patch(facecolor='grey', edgecolor='white', hatch='--- |||', label='cited'),\n",
    "                  mpatches.Patch(facecolor='grey', edgecolor='white', label='uncited')]\n",
    "\n",
    "# Add the legend to the plot\n",
    "plt.legend(handles=legend_patches, loc='lower right', fontsize = 10)\n",
    "plt.axhline(y = 0.3705, linewidth = 1, linestyle = \"--\", color = 'red')\n",
    "\n",
    "plt.xticks(X_axis, cat, fontsize = 9, fontweight = \"normal\", fontfamily = \"serif\")\n",
    "plt.yticks( fontsize = 9, fontweight = \"normal\", fontfamily = \"serif\")\n",
    "plt.ylabel(\"Prop of female cor. author in cited and uncited\\ngroup across media categories\", fontsize = 9, fontweight = \"normal\", fontfamily = \"serif\")\n",
    "\n",
    "plt.ylim(0,0.42)\n",
    "plt.show()\n",
    "\n"
   ]
  },
  {
   "cell_type": "markdown",
   "metadata": {
    "application/vnd.databricks.v1+cell": {
     "cellMetadata": {},
     "inputWidgets": {},
     "nuid": "b2bc6412-6c93-4fc9-ad99-302039f5eda3",
     "showTitle": false,
     "title": ""
    }
   },
   "source": [
    "#### proportion of female cor author papers cited by different types of media"
   ]
  },
  {
   "cell_type": "code",
   "execution_count": 0,
   "metadata": {
    "application/vnd.databricks.v1+cell": {
     "cellMetadata": {
      "byteLimit": 2048000,
      "rowLimit": 10000
     },
     "inputWidgets": {},
     "nuid": "4fc249a2-8691-43b5-aab0-b5149a5d9270",
     "showTitle": false,
     "title": ""
    }
   },
   "outputs": [
    {
     "output_type": "stream",
     "name": "stdout",
     "output_type": "stream",
     "text": [
      "percent of female im local  0.4047798546613298\npercent of female im national  0.36557658952007327\npercent of female im international  0.3562172235946778\n"
     ]
    }
   ],
   "source": [
    "dummy = merged.copy()\n",
    "G = []\n",
    "for ind in dummy.index:\n",
    "  if dummy['cor_gender'][ind] == 'female' or dummy['cor_gender'][ind] == 'f' or dummy['cor_gender'][ind] == 'F':\n",
    "    G.append(\"female\")\n",
    "  else:\n",
    "    G.append(\"male\")\n",
    "dummy['G'] = G\n",
    "\n",
    "local = dummy[dummy['type'] == 'local']\n",
    "national = dummy[dummy['type'] == 'national']\n",
    "international = dummy[dummy['type'] == 'international']\n",
    "\n",
    "\n",
    "\n",
    "print(\"percent of female im local \", len(local[local['G'] == \"female\"])/len(local))\n",
    "\n",
    "\n",
    "\n",
    "print(\"percent of female im national \", len(national[national['G'] == \"female\"])/len(national))\n",
    "\n",
    "\n",
    "print(\"percent of female im international \", len(international[international['G'] == \"female\"])/len(international))"
   ]
  },
  {
   "cell_type": "code",
   "execution_count": 0,
   "metadata": {
    "application/vnd.databricks.v1+cell": {
     "cellMetadata": {
      "byteLimit": 2048000,
      "rowLimit": 10000
     },
     "inputWidgets": {},
     "nuid": "78263929-d2ac-4b41-8fe5-5f68fb9cdc9f",
     "showTitle": false,
     "title": ""
    }
   },
   "outputs": [
    {
     "output_type": "stream",
     "name": "stdout",
     "output_type": "stream",
     "text": [
      "percent of female in special  0.3569062854003266\n"
     ]
    }
   ],
   "source": [
    "\n",
    "dummy = sp.copy()\n",
    "dummy = dummy.drop_duplicates(subset=['media','doi'])\n",
    "G = []\n",
    "for ind in dummy.index:\n",
    "  if dummy['cor_gender'][ind] == 'female' or dummy['cor_gender'][ind] == 'f' or dummy['cor_gender'][ind] == 'F':\n",
    "    G.append(\"female\")\n",
    "  else:\n",
    "    G.append(\"male\")\n",
    "dummy['G'] = G\n",
    "\n",
    "print(\"percent of female in special \",len(dummy[dummy['G'] == \"female\"])/len(dummy))"
   ]
  },
  {
   "cell_type": "markdown",
   "metadata": {
    "application/vnd.databricks.v1+cell": {
     "cellMetadata": {},
     "inputWidgets": {},
     "nuid": "9ffab998-ff1d-4708-838d-b0a3d7c892af",
     "showTitle": false,
     "title": ""
    }
   },
   "source": [
    "#### proportion of female in top 5% local"
   ]
  },
  {
   "cell_type": "code",
   "execution_count": 0,
   "metadata": {
    "application/vnd.databricks.v1+cell": {
     "cellMetadata": {
      "byteLimit": 2048000,
      "rowLimit": 10000
     },
     "inputWidgets": {},
     "nuid": "1070c101-6e24-4466-b9fc-d27fa10544da",
     "showTitle": false,
     "title": ""
    }
   },
   "outputs": [
    {
     "output_type": "stream",
     "name": "stdout",
     "output_type": "stream",
     "text": [
      "0.3608847497089639\n"
     ]
    }
   ],
   "source": [
    "dummy = sep2.copy()\n",
    "#print(dummy.head(5))\n",
    "#print(len(dummy))\n",
    "#print(dummy['doi'].nunique())\n",
    "gender = []\n",
    "  \n",
    "for ind in dummy.index:\n",
    "  if dummy['cor_gender'][ind] == 'female' or dummy['cor_gender'][ind] == 'f' or dummy['cor_gender'][ind] == 'F':\n",
    "    gender.append(\"female\")\n",
    "  elif dummy['cor_gender'][ind] == 'male' or dummy['cor_gender'][ind] == 'm' or dummy['cor_gender'][ind] == 'M':\n",
    "    gender.append(\"male\") \n",
    "\n",
    "dummy['gender'] = gender\n",
    "\n",
    "local = dummy[dummy['local_count'] > 0]\n",
    "threshold = local['local_count'].quantile(0.95)\n",
    "top = local[local['local_count'] >= threshold]\n",
    "\n",
    "print(len(top[top['gender'] == \"female\"])/len(top))"
   ]
  },
  {
   "cell_type": "markdown",
   "metadata": {
    "application/vnd.databricks.v1+cell": {
     "cellMetadata": {},
     "inputWidgets": {},
     "nuid": "d9e9fb15-345a-435b-bdb1-394202544eb8",
     "showTitle": false,
     "title": ""
    }
   },
   "source": [
    "#### proportion of female in top 5% national"
   ]
  },
  {
   "cell_type": "code",
   "execution_count": 0,
   "metadata": {
    "application/vnd.databricks.v1+cell": {
     "cellMetadata": {
      "byteLimit": 2048000,
      "rowLimit": 10000
     },
     "inputWidgets": {},
     "nuid": "066b701f-adfd-4636-9f11-ec131ed5cda6",
     "showTitle": false,
     "title": ""
    }
   },
   "outputs": [
    {
     "output_type": "stream",
     "name": "stdout",
     "output_type": "stream",
     "text": [
      "0.3534839325485205\n"
     ]
    }
   ],
   "source": [
    "dummy = sep2.copy()\n",
    "gender = []\n",
    "  \n",
    "for ind in dummy.index:\n",
    "  if dummy['cor_gender'][ind] == 'female' or dummy['cor_gender'][ind] == 'f' or dummy['cor_gender'][ind] == 'F':\n",
    "    gender.append(\"female\")\n",
    "  elif dummy['cor_gender'][ind] == 'male' or dummy['cor_gender'][ind] == 'm' or dummy['cor_gender'][ind] == 'M':\n",
    "    gender.append(\"male\") \n",
    "\n",
    "dummy['gender'] = gender\n",
    "\n",
    "national = dummy[dummy['national_count'] > 0]\n",
    "threshold = national['national_count'].quantile(0.95)\n",
    "top = national[national['national_count'] >= threshold]\n",
    "\n",
    "print(len(top[top['gender'] == \"female\"])/len(top))"
   ]
  },
  {
   "cell_type": "markdown",
   "metadata": {
    "application/vnd.databricks.v1+cell": {
     "cellMetadata": {},
     "inputWidgets": {},
     "nuid": "2e0f40f7-3a6a-47e5-9009-3163322f1e9d",
     "showTitle": false,
     "title": ""
    }
   },
   "source": [
    "#### proportion of female in top 5% international"
   ]
  },
  {
   "cell_type": "code",
   "execution_count": 0,
   "metadata": {
    "application/vnd.databricks.v1+cell": {
     "cellMetadata": {
      "byteLimit": 2048000,
      "rowLimit": 10000
     },
     "inputWidgets": {},
     "nuid": "2b299675-fce8-444b-97f0-60faf60f989c",
     "showTitle": false,
     "title": ""
    }
   },
   "outputs": [
    {
     "output_type": "stream",
     "name": "stdout",
     "output_type": "stream",
     "text": [
      "0.30759951749095293\n"
     ]
    }
   ],
   "source": [
    "dummy = sep2.copy()\n",
    "gender = []\n",
    "  \n",
    "for ind in dummy.index:\n",
    "  if dummy['cor_gender'][ind] == 'female' or dummy['cor_gender'][ind] == 'f' or dummy['cor_gender'][ind] == 'F':\n",
    "    gender.append(\"female\")\n",
    "  elif dummy['cor_gender'][ind] == 'male' or dummy['cor_gender'][ind] == 'm' or dummy['cor_gender'][ind] == 'M':\n",
    "    gender.append(\"male\") \n",
    "\n",
    "dummy['gender'] = gender\n",
    "\n",
    "inter = dummy[dummy['international_count'] > 0]\n",
    "threshold = inter['international_count'].quantile(0.95)\n",
    "top = inter[inter['international_count'] >= threshold]\n",
    "\n",
    "print(len(top[top['gender'] == \"female\"])/len(top))"
   ]
  },
  {
   "cell_type": "markdown",
   "metadata": {
    "application/vnd.databricks.v1+cell": {
     "cellMetadata": {},
     "inputWidgets": {},
     "nuid": "2a662ab6-c2ed-413e-879f-59e922ba0eb9",
     "showTitle": false,
     "title": ""
    }
   },
   "source": [
    "#### proportion of female in top 5% sp"
   ]
  },
  {
   "cell_type": "code",
   "execution_count": 0,
   "metadata": {
    "application/vnd.databricks.v1+cell": {
     "cellMetadata": {
      "byteLimit": 2048000,
      "rowLimit": 10000
     },
     "inputWidgets": {},
     "nuid": "590de710-8970-457a-85fb-00c43f99786d",
     "showTitle": false,
     "title": ""
    }
   },
   "outputs": [
    {
     "output_type": "stream",
     "name": "stdout",
     "output_type": "stream",
     "text": [
      "0.34947688153898077\n"
     ]
    }
   ],
   "source": [
    "dummy = sep2.copy()\n",
    "gender = []\n",
    "  \n",
    "for ind in dummy.index:\n",
    "  if dummy['cor_gender'][ind] == 'female' or dummy['cor_gender'][ind] == 'f' or dummy['cor_gender'][ind] == 'F':\n",
    "    gender.append(\"female\")\n",
    "  else:\n",
    "    gender.append(\"male\") \n",
    "\n",
    "dummy['gender'] = gender\n",
    "\n",
    "sp = dummy[dummy['sp_count'] > 0]\n",
    "threshold = sp['sp_count'].quantile(0.95)\n",
    "top = sp[sp['sp_count'] >= threshold]\n",
    "\n",
    "print(len(top[top['gender'] == \"female\"])/len(top))"
   ]
  },
  {
   "cell_type": "markdown",
   "metadata": {
    "application/vnd.databricks.v1+cell": {
     "cellMetadata": {},
     "inputWidgets": {},
     "nuid": "d1f537f1-1c5d-4687-bb9b-0aadd039e050",
     "showTitle": false,
     "title": ""
    }
   },
   "source": [
    "#### proportion of female in top 5% overall citation"
   ]
  },
  {
   "cell_type": "code",
   "execution_count": 0,
   "metadata": {
    "application/vnd.databricks.v1+cell": {
     "cellMetadata": {
      "byteLimit": 2048000,
      "rowLimit": 10000
     },
     "inputWidgets": {},
     "nuid": "2e521bdc-b7af-45c9-a325-3a1b4f10477a",
     "showTitle": false,
     "title": ""
    }
   },
   "outputs": [
    {
     "output_type": "stream",
     "name": "stdout",
     "output_type": "stream",
     "text": [
      "0.359825327510917\n"
     ]
    }
   ],
   "source": [
    "dummy = sep2.copy()\n",
    "gender = []\n",
    "  \n",
    "for ind in dummy.index:\n",
    "  if dummy['cor_gender'][ind] == 'female' or dummy['cor_gender'][ind] == 'f' or dummy['cor_gender'][ind] == 'F':\n",
    "    gender.append(\"female\")\n",
    "  else:\n",
    "    gender.append(\"male\") \n",
    "\n",
    "dummy['gender'] = gender\n",
    "\n",
    "\n",
    "threshold = dummy['total_count'].quantile(0.95)\n",
    "top = dummy[dummy['total_count'] >= threshold]\n",
    "\n",
    "print(len(top[top['gender'] == \"female\"])/len(top))"
   ]
  },
  {
   "cell_type": "code",
   "execution_count": 0,
   "metadata": {
    "application/vnd.databricks.v1+cell": {
     "cellMetadata": {
      "byteLimit": 2048000,
      "rowLimit": 10000
     },
     "inputWidgets": {},
     "nuid": "d539e1f0-f92c-4c89-b6fe-9bd484f278fe",
     "showTitle": false,
     "title": ""
    }
   },
   "outputs": [
    {
     "output_type": "stream",
     "name": "stdout",
     "output_type": "stream",
     "text": [
      "Out[27]: (0.0, 0.4)"
     ]
    },
    {
     "output_type": "display_data",
     "data": {
      "image/png": "[encoded data removed]"
     },
     "metadata": {
      "application/vnd.databricks.v1+output": {
       "addedWidgets": {},
       "arguments": {},
       "data": "data:image/png;base64,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\n",
       "datasetInfos": [],
       "metadata": {},
       "removedWidgets": [],
       "type": "image"
      }
     },
     "output_type": "display_data"
    }
   ],
   "source": [
    "import matplotlib.pyplot as plt \n",
    "import seaborn as sns\n",
    "\n",
    "##plotting\n",
    "Category = [\"Local\",\"National\",\"International\",\"Specialty\", \"Overall\"]\n",
    "Percent = [0.3608,0.3534,0.3075,0.3494,0.3598]\n",
    "\n",
    "pltdata = pd.DataFrame()\n",
    "pltdata['Category'] = Category\n",
    "pltdata['Percent'] = Percent\n",
    "\n",
    "#sns.set_theme(style=\"ticks\", palette=\"tab10\")\n",
    "fig = plt.figure(figsize =(5, 4))\n",
    "\n",
    "# Load the example tips dataset\n",
    "\n",
    "color = ['#56b4e9','#fa60fa','#8de5a1','#ff9f9b','#ffd92f']\n",
    "# Draw a nested boxplot to show bills by day and time\n",
    "sns.barplot(y=\"Percent\", x=\"Category\",\n",
    "            palette=color,\n",
    "            data=pltdata)\n",
    "\n",
    "plt.axhline(y = 0.3705, linewidth = 2, linestyle = \"--\", color = \"red\") #proportion of female corresponding author across the dataset\n",
    "#plt.legend(loc = \"lower right\")\n",
    "plt.xticks(fontsize = 10)\n",
    "plt.ylim([0,0.40])\n",
    "#plt.ylabel(\"Proportion of female corresponding author in top 5% highly cited DOIs across media categories\")\n"
   ]
  },
  {
   "cell_type": "code",
   "execution_count": 0,
   "metadata": {
    "application/vnd.databricks.v1+cell": {
     "cellMetadata": {
      "byteLimit": 2048000,
      "rowLimit": 10000
     },
     "inputWidgets": {},
     "nuid": "fe881dfb-49c8-4fc5-b08e-c826185f4b0b",
     "showTitle": false,
     "title": ""
    }
   },
   "outputs": [
    {
     "output_type": "display_data",
     "data": {
      "image/png": "[encoded data removed]"
     },
     "metadata": {
      "application/vnd.databricks.v1+output": {
       "addedWidgets": {},
       "arguments": {},
       "data": "data:image/png;base64,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\n",
       "datasetInfos": [],
       "metadata": {},
       "removedWidgets": [],
       "type": "image"
      }
     },
     "output_type": "display_data"
    }
   ],
   "source": [
    "import matplotlib.patches as mpatches\n",
    "\n",
    "cat = [\"Local\",\"National\",\"International\",\"Specialty\", \"Overall\"]\n",
    "Percent_top = [0.3608,0.3534,0.3075,0.3494,0.3598]\n",
    "Percent_bot = [0.3944,0.365,0.39,0.40,0.41]\n",
    "\n",
    "fig = plt.figure(figsize=(5, 4))\n",
    "\n",
    "X_axis = np.arange(len(cat))\n",
    "\n",
    "uncited_bars = plt.bar(X_axis - 0.2, Percent_bot, 0.4, label='uncited', color=['#56b4e9','#fa60fa','#8de5a1','#ff9f9b','#ffd92f'], edgecolor='white')\n",
    "cited_bars = plt.bar(X_axis + 0.2, Percent_top, 0.4, label='cited', color=['#56b4e9','#fa60fa','#8de5a1','#ff9f9b','#ffd92f'], edgecolor='white', hatch='----ooo')\n",
    "\n",
    "# Create custom legend patches\n",
    "legend_patches = [mpatches.Patch(facecolor='grey', edgecolor='white', hatch='----ooo', label='Top 5%'),\n",
    "                  mpatches.Patch(facecolor='grey', edgecolor='white', label='Bottom 5%')]\n",
    "\n",
    "# Add the legend to the plot\n",
    "plt.legend(handles=legend_patches, loc='lower right',fontsize = 10)\n",
    "\n",
    "plt.axhline(y = 0.3705, linewidth = 1, linestyle = \"--\", color = \"red\")\n",
    "plt.xticks(X_axis, cat, fontsize = 9, fontweight = \"normal\", fontfamily = \"serif\")\n",
    "plt.yticks(fontsize = 9, fontweight = \"normal\", fontfamily = \"serif\")\n",
    "#plt.ylabel(\"Prop of female corresponding author\")\n",
    "plt.ylabel(\"Prop of female cor. author in top and bottom 5%\\n cited papers in different media category\", fontsize = 9, fontweight = \"normal\", fontfamily = \"serif\")\n",
    "#plt.xlabel(\"Prop\")\n",
    "plt.ylim(0,0.42)\n",
    "\n",
    "\n",
    "plt.show()"
   ]
  },
  {
   "cell_type": "markdown",
   "metadata": {
    "application/vnd.databricks.v1+cell": {
     "cellMetadata": {},
     "inputWidgets": {},
     "nuid": "965fb203-95a9-4e77-9a03-61bc2e81c943",
     "showTitle": false,
     "title": ""
    }
   },
   "source": [
    "#### proportion of female in bottom 5% local, nat,international, sp\n"
   ]
  },
  {
   "cell_type": "code",
   "execution_count": 0,
   "metadata": {
    "application/vnd.databricks.v1+cell": {
     "cellMetadata": {
      "byteLimit": 2048000,
      "rowLimit": 10000
     },
     "inputWidgets": {},
     "nuid": "32a443ea-e9e4-4ab3-9e73-a31c28ebae09",
     "showTitle": false,
     "title": ""
    }
   },
   "outputs": [
    {
     "output_type": "stream",
     "name": "stdout",
     "output_type": "stream",
     "text": [
      "local  0.3944417357386641\nnational  0.3652737263414965\ninternational  0.3913624816151892\nsp  0.4002261289821979\noverall  0.4069266430324516\n"
     ]
    }
   ],
   "source": [
    "dummy = sep2.copy()\n",
    "gender = []\n",
    "  \n",
    "for ind in dummy.index:\n",
    "  if dummy['cor_gender'][ind] == 'female' or dummy['cor_gender'][ind] == 'f' or dummy['cor_gender'][ind] == 'F':\n",
    "    gender.append(\"female\")\n",
    "  else:\n",
    "    gender.append(\"male\") \n",
    "\n",
    "dummy['gender'] = gender\n",
    "\n",
    "local = dummy[dummy['local_count'] > 0]\n",
    "threshold = local['local_count'].quantile(0.05)\n",
    "top = local[local['local_count'] <= threshold]\n",
    "\n",
    "print(\"local \",len(top[top['gender'] == \"female\"])/len(top))\n",
    "\n",
    "\n",
    "dummy = sep2.copy()\n",
    "gender = []\n",
    "  \n",
    "for ind in dummy.index:\n",
    "  if dummy['cor_gender'][ind] == 'female' or dummy['cor_gender'][ind] == 'f' or dummy['cor_gender'][ind] == 'F':\n",
    "    gender.append(\"female\")\n",
    "  else:\n",
    "    gender.append(\"male\") \n",
    "\n",
    "dummy['gender'] = gender\n",
    "\n",
    "local = dummy[dummy['national_count'] > 0]\n",
    "threshold = local['national_count'].quantile(0.05)\n",
    "top = local[local['national_count'] <= threshold]\n",
    "\n",
    "print(\"national \",len(top[top['gender'] == \"female\"])/len(top))\n",
    "\n",
    "dummy = sep2.copy()\n",
    "gender = []\n",
    "  \n",
    "for ind in dummy.index:\n",
    "  if dummy['cor_gender'][ind] == 'female' or dummy['cor_gender'][ind] == 'f' or dummy['cor_gender'][ind] == 'F':\n",
    "    gender.append(\"female\")\n",
    "  else:\n",
    "    gender.append(\"male\") \n",
    "\n",
    "dummy['gender'] = gender\n",
    "\n",
    "local = dummy[dummy['international_count'] > 0]\n",
    "threshold = local['international_count'].quantile(0.05)\n",
    "top = local[local['international_count'] <= threshold]\n",
    "\n",
    "print(\"international \",len(top[top['gender'] == \"female\"])/len(top))\n",
    "\n",
    "dummy = sep2.copy()\n",
    "gender = []\n",
    "  \n",
    "for ind in dummy.index:\n",
    "  if dummy['cor_gender'][ind] == 'female' or dummy['cor_gender'][ind] == 'f' or dummy['cor_gender'][ind] == 'F':\n",
    "    gender.append(\"female\")\n",
    "  else:\n",
    "    gender.append(\"male\") \n",
    "\n",
    "dummy['gender'] = gender\n",
    "\n",
    "local = dummy[dummy['sp_count'] > 0]\n",
    "threshold = local['sp_count'].quantile(0.05)\n",
    "top = local[local['sp_count'] <= threshold]\n",
    "\n",
    "print(\"sp \",len(top[top['gender'] == \"female\"])/len(top))\n",
    "\n",
    "dummy = sep2.copy()\n",
    "gender = []\n",
    "  \n",
    "for ind in dummy.index:\n",
    "  if dummy['cor_gender'][ind] == 'female' or dummy['cor_gender'][ind] == 'f' or dummy['cor_gender'][ind] == 'F':\n",
    "    gender.append(\"female\")\n",
    "  else:\n",
    "    gender.append(\"male\") \n",
    "\n",
    "dummy['gender'] = gender\n",
    "\n",
    "\n",
    "threshold = dummy['total_count'].quantile(0.05)\n",
    "top = dummy[dummy['total_count'] <= threshold]\n",
    "\n",
    "print(\"overall \",len(top[top['gender'] == \"female\"])/len(top))"
   ]
  },
  {
   "cell_type": "code",
   "execution_count": 0,
   "metadata": {
    "application/vnd.databricks.v1+cell": {
     "cellMetadata": {
      "byteLimit": 2048000,
      "rowLimit": 10000
     },
     "inputWidgets": {},
     "nuid": "d9f9de76-1bce-48d5-b511-2189e85b0444",
     "showTitle": false,
     "title": ""
    }
   },
   "outputs": [
    {
     "output_type": "stream",
     "name": "stdout",
     "output_type": "stream",
     "text": [
      "Out[31]: (0.0, 0.42)"
     ]
    },
    {
     "output_type": "display_data",
     "data": {
      "image/png": "[encoded data removed]"
     },
     "metadata": {
      "application/vnd.databricks.v1+output": {
       "addedWidgets": {},
       "arguments": {},
       "data": "data:image/png;base64,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\n",
       "datasetInfos": [],
       "metadata": {},
       "removedWidgets": [],
       "type": "image"
      }
     },
     "output_type": "display_data"
    }
   ],
   "source": [
    "##plotting\n",
    "import matplotlib.pyplot as plt \n",
    "import seaborn as sns\n",
    "\n",
    "##plotting\n",
    "Category = [\"Local\",\"National\",\"International\",\"Specialty\", \"Overall\"]\n",
    "Percent = [0.3944,0.365,0.39,0.40,0.41]\n",
    "\n",
    "pltdata = pd.DataFrame()\n",
    "pltdata['Category'] = Category\n",
    "pltdata['Percent'] = Percent\n",
    "\n",
    "#sns.set_theme(style=\"ticks\", palette=\"tab10\")\n",
    "fig = plt.figure(figsize =(5, 4))\n",
    "\n",
    "# Load the example tips dataset\n",
    "color = ['#56b4e9','#fa60fa','#8de5a1','#ff9f9b','#ffd92f']\n",
    "\n",
    "# Draw a nested boxplot to show bills by day and time\n",
    "sns.barplot(y=\"Percent\", x=\"Category\",\n",
    "            palette=color,\n",
    "            data=pltdata)\n",
    "\n",
    "plt.axhline(y = 0.3705, linewidth = 2, linestyle = \"--\", color = \"red\") #proportion of female corresponding author across the dataset\n",
    "#plt.legend(loc = \"lower right\")\n",
    "plt.xticks(fontsize = 10)\n",
    "plt.ylim([0,0.42])\n",
    "#plt.ylabel(\"Proportion of female corresponding author in top 5% highly cited DOIs across media categories\")"
   ]
  },
  {
   "cell_type": "markdown",
   "metadata": {
    "application/vnd.databricks.v1+cell": {
     "cellMetadata": {},
     "inputWidgets": {},
     "nuid": "50c0547e-7464-492b-b6aa-a40d217c0184",
     "showTitle": false,
     "title": ""
    }
   },
   "source": [
    "#### gender and ideology"
   ]
  },
  {
   "cell_type": "code",
   "execution_count": 0,
   "metadata": {
    "application/vnd.databricks.v1+cell": {
     "cellMetadata": {
      "byteLimit": 2048000,
      "rowLimit": 10000
     },
     "inputWidgets": {},
     "nuid": "4c5382d9-6b4a-4fca-ac62-72a029d9a6b7",
     "showTitle": false,
     "title": ""
    }
   },
   "outputs": [],
   "source": [
    "dummy = merged.copy()\n",
    "G = []\n",
    "for ind in dummy.index:\n",
    "  if dummy['cor_gender'][ind] == 'female' or dummy['cor_gender'][ind] == 'f' or dummy['cor_gender'][ind] == 'F':\n",
    "    #G.append(\"female\")\n",
    "    G.append(\"1\")\n",
    "  else:\n",
    "    #G.append(\"male\")\n",
    "    G.append(\"0\")\n",
    "dummy['G'] = G\n",
    "\n",
    "#print(dummy.dtypes)\n",
    "dummy['ideology'] = dummy['ideology'].astype(float)\n",
    "dummy = dummy.dropna(subset = ['ideology'])"
   ]
  },
  {
   "cell_type": "code",
   "execution_count": 0,
   "metadata": {
    "application/vnd.databricks.v1+cell": {
     "cellMetadata": {
      "byteLimit": 2048000,
      "rowLimit": 10000
     },
     "inputWidgets": {},
     "nuid": "09e1bdd3-b7a1-45c5-b335-04c0ce8b36e5",
     "showTitle": false,
     "title": ""
    }
   },
   "outputs": [],
   "source": [
    "q = []\n",
    "q1,q2,q3 = 0.124,0.25,0.597\n",
    "for ind in dummy.index:\n",
    "  if dummy['SJR'][ind] <= q1:\n",
    "    q.append(0)\n",
    "  elif dummy['SJR'][ind] > q1 and dummy['SJR'][ind] <= q2:\n",
    "    q.append(1)\n",
    "  elif dummy['SJR'][ind] > q2 and dummy['SJR'][ind] <= q3:\n",
    "    q.append(2)\n",
    "  else:\n",
    "    q.append(3)\n",
    "dummy['q'] = q"
   ]
  },
  {
   "cell_type": "code",
   "execution_count": 0,
   "metadata": {
    "application/vnd.databricks.v1+cell": {
     "cellMetadata": {
      "byteLimit": 2048000,
      "rowLimit": 10000
     },
     "inputWidgets": {},
     "nuid": "00ce916d-d56f-481c-8527-13fe5f2e94c0",
     "showTitle": false,
     "title": ""
    }
   },
   "outputs": [
    {
     "output_type": "stream",
     "name": "stdout",
     "output_type": "stream",
     "text": [
      "Out[10]: <AxesSubplot:>"
     ]
    },
    {
     "output_type": "display_data",
     "data": {
      "image/png": "[encoded data removed]"
     },
     "metadata": {
      "application/vnd.databricks.v1+output": {
       "addedWidgets": {},
       "arguments": {},
       "data": "data:image/png;base64,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\n",
       "datasetInfos": [],
       "metadata": {},
       "removedWidgets": [],
       "type": "image"
      }
     },
     "output_type": "display_data"
    }
   ],
   "source": [
    "dummy['ideology'].hist()"
   ]
  },
  {
   "cell_type": "code",
   "execution_count": 0,
   "metadata": {
    "application/vnd.databricks.v1+cell": {
     "cellMetadata": {
      "byteLimit": 2048000,
      "rowLimit": 10000
     },
     "inputWidgets": {},
     "nuid": "9e8ccdf6-2fc3-4c4a-8257-a2ec1efb26cf",
     "showTitle": false,
     "title": ""
    }
   },
   "outputs": [
    {
     "output_type": "stream",
     "name": "stdout",
     "output_type": "stream",
     "text": [
      "\nCall:\n(function (formula, family = gaussian, data, weights, subset, \n    na.action, start = NULL, etastart, mustart, offset, control = list(...), \n    model = TRUE, method = \"glm.fit\", x = FALSE, y = TRUE, singular.ok = TRUE, \n    contrasts = NULL, ...) \n{\n    cal <- match.call()\n    if (is.character(family)) \n        family <- get(family, mode = \"function\", envir = parent.frame())\n    if (is.function(family)) \n        family <- family()\n    if (is.null(family$family)) {\n        print(family)\n        stop(\"'family' not recognized\")\n    }\n    if (missing(data)) \n        data <- environment(formula)\n    mf <- match.call(expand.dots = FALSE)\n    m <- match(c(\"formula\", \"data\", \"subset\", \"weights\", \"na.action\", \n        \"etastart\", \"mustart\", \"offset\"), names(mf), 0L)\n    mf <- mf[c(1L, m)]\n    mf$drop.unused.levels <- TRUE\n    mf[[1L]] <- quote(stats::model.frame)\n    mf <- eval(mf, parent.frame())\n    if (identical(method, \"model.frame\")) \n        return(mf)\n    if (!is.character(method) && !is.function(method)) \n        stop(\"invalid 'method' argument\")\n    if (identical(method, \"glm.fit\")) \n        control <- do.call(\"glm.control\", control)\n    mt <- attr(mf, \"terms\")\n    Y <- model.response(mf, \"any\")\n    if (length(dim(Y)) == 1L) {\n        nm <- rownames(Y)\n        dim(Y) <- NULL\n        if (!is.null(nm)) \n            names(Y) <- nm\n    }\n    X <- if (!is.empty.model(mt)) \n        model.matrix(mt, mf, contrasts)\n    else matrix(, NROW(Y), 0L)\n    weights <- as.vector(model.weights(mf))\n    if (!is.null(weights) && !is.numeric(weights)) \n        stop(\"'weights' must be a numeric vector\")\n    if (!is.null(weights) && any(weights < 0)) \n        stop(\"negative weights not allowed\")\n    offset <- as.vector(model.offset(mf))\n    if (!is.null(offset)) {\n        if (length(offset) != NROW(Y)) \n            stop(gettextf(\"number of offsets is %d should equal %d (number of observations)\", \n                length(offset), NROW(Y)), domain = NA)\n    }\n    mustart <- model.extract(mf, \"mustart\")\n    etastart <- model.extract(mf, \"etastart\")\n    fit <- eval(call(if (is.function(method)) \"method\" else method, \n        x = X, y = Y, weights = weights, start = start, etastart = etastart, \n        mustart = mustart, offset = offset, family = family, \n        control = control, intercept = attr(mt, \"intercept\") > \n            0L, singular.ok = singular.ok))\n    if (length(offset) && attr(mt, \"intercept\") > 0L) {\n        fit2 <- eval(call(if (is.function(method)) \"method\" else method, \n            x = X[, \"(Intercept)\", drop = FALSE], y = Y, mustart = fit$fitted.values, \n            weights = weights, offset = offset, family = family, \n            control = control, intercept = TRUE))\n        if (!fit2$converged) \n            warning(\"fitting to calculate the null deviance did not converge -- increase 'maxit'?\")\n        fit$null.deviance <- fit2$deviance\n    }\n    if (model) \n        fit$model <- mf\n    fit$na.action <- attr(mf, \"na.action\")\n    if (x) \n        fit$x <- X\n    if (!y) \n        fit$y <- NULL\n    structure(c(fit, list(call = cal, formula = formula, terms = mt, \n        data = data, offset = offset, control = control, method = method, \n        contrasts = attr(X, \"contrasts\"), xlevels = .getXlevels(mt, \n            mf))), class = c(fit$class, c(\"glm\", \"lm\")))\n})(formula = \"ideology ~ G+year+SubField_English+q+openaccess_status\", \n    family = function (link = \"identity\") \n    {\n        linktemp <- substitute(link)\n        if (!is.character(linktemp)) \n            linktemp <- deparse(linktemp)\n        okLinks <- c(\"inverse\", \"log\", \"identity\")\n        family <- \"gaussian\"\n        if (linktemp %in% okLinks) \n            stats <- make.link(linktemp)\n        else if (is.character(link)) {\n            stats <- make.link(link)\n            linktemp <- link\n        }\n        else {\n            if (inherits(link, \"link-glm\")) {\n                stats <- link\n                if (!is.null(stats$name)) \n                  linktemp <- stats$name\n            }\n            else {\n                stop(gettextf(\"link \\\"%s\\\" not available for %s family; available links are %s\", \n                  linktemp, family, paste(sQuote(okLinks), collapse = \", \")), \n                  domain = NA)\n            }\n        }\n        structure(list(family = family, link = linktemp, linkfun = stats$linkfun, \n            linkinv = stats$linkinv, variance = function(mu) rep.int(1, \n                length(mu)), dev.resids = function(y, mu, wt) wt * \n                ((y - mu)^2), aic = function(y, n, mu, wt, dev) {\n                nobs <- length(y)\n                nobs * (log(dev/nobs * 2 * pi) + 1) + 2 - sum(log(wt))\n            }, mu.eta = stats$mu.eta, initialize = expression({\n                n <- rep.int(1, nobs)\n                if (is.null(etastart) && is.null(start) && is.null(mustart) && \n                  ((family$link == \"inverse\" && any(y == 0)) || \n                    (family$link == \"log\" && any(y <= 0)))) stop(\"cannot find valid starting values: please specify some\")\n                mustart <- y\n            }), validmu = function(mu) TRUE, valideta = stats$valideta), \n            class = \"family\")\n    }, data = structure(list(ideology = c(0.0848, 0.0848, 0.0848, \n    0.0848, 0.0848, 0.0848, 0.0848, 0.0848, 0.0848, 0.0848, 0.0848, \n    0.0848, 0.0848, 0.0848, 0.0848, 0.0848, 0.0848, 0.0848, 0.0848, \n    0.0848, 0.0848, 0.0848, 0.0848, 0.0848, 0.0848, 0.0848, 0.0848, \n    0.0848, 0.0848, 0.0848, 0.0848, 0.0848, 0.0848, 0.0848, 0.0848, \n    0.0848, 0.0848, 0.0848, 0.0848, 0.0848, 0.0848, 0.0848, 0.0848, \n    0.0848, 0.0848, 0.0848, 0.0848, 0.0848, 0.0848, 0.0848, 0.0848, \n    0.0848, 0.0848, 0.0848, 0.0848, 0.0848, 0.0848, 0.0848, 0.0848, \n    0.0848, 0.0848, 0.0848, 0.0848, 0.0848, 0.0848, 0.0848, 0.0848, \n    0.0848, 0.0848, 0.0848, 0.0848, 0.0848, 0.0848, 0.0848, 0.0848, \n    0.0848, 0.0848, 0.0848, 0.0848, 0.0848, 0.0848, 0.0848, 0.0848, \n    0.0848, 0.0848, 0.0848, 0.0848, 0.0848, 0.0848, 0.0848, 0.0848, \n    0.0848, 0.0848, 0.0848, 0.0848, 0.0848, 0.0848, 0.0848, 0.0848, \n    0.0848, 0.0848, 0.0848, 0.0848, 0.0848, 0.0848, 0.0848, 0.0848, \n    0.0848, 0.0848, 0.0848, 0.0848, 0.0848, 0.0848, 0.0848, 0.0848, \n    0.0848, 0.0848, 0.0848, 0.0848, 0.0848, 0.0848, 0.0848, 0.0848, \n    0.0848, 0.0848, 0.0848, 0.0848, 0.0848, 0.0848, 0.0848, 0.0848, \n    0.0848, 0.0848, 0.0848, 0.0848, 0.0848, 0.0848, 0.0848, 0.0848, \n    0.0848, 0.0848, 0.0848, 0.0848, 0.0848, 0.0848, 0.0848, 0.0848, \n    0.0848, 0.0848, 0.0848, 0.0848, 0.0848, 0.0848, 0.0848, 0.0848, \n    0.0848, 0.0848, 0.0848, 0.0848, 0.0848, 0.0848, 0.0848, 0.0848, \n    0.0848, 0.0848, 0.0848, 0.0848, 0.0848, 0.0848, 0.0848, 0.0848, \n    0.0848, 0.0848, 0.0848, 0.0848, 0.0848, 0.0848, 0.0848, 0.0848, \n    0.0848, 0.0848, 0.0848, 0.0848, 0.0848, 0.0848, 0.0848, 0.0848, \n    0.0848, 0.0848, 0.0848, 0.0848, 0.0848, 0.0848, 0.0848, 0.0848, \n    0.0848, 0.0848, 0.0848, 0.0848, 0.0848, 0.0848, 0.0848, 0.0848, \n    0.0848, 0.0848, 0.0848, 0.0848, 0.0848, 0.0848, 0.0848, 0.0848, \n    0.0848, 0.0848, 0.0848, 0.0848, 0.0848, 0.0848, 0.0848, 0.0848, \n    0.0848, 0.0848, 0.0848, 0.0848, 0.0848, 0.0848, 0.0848, 0.0848, \n    0.0848, 0.0848, 0.0848, 0.0848, 0.0848, 0.0848, 0.0848, 0.0848, \n    0.0848, 0.0848, 0.0848, 0.0848, 0.0848, 0.0848, 0.0848, 0.0848, \n    0.0848, 0.0848, 0.0848, 0.0848, 0.0848, 0.0848, 0.0848, 0.0848, \n    0.0848, 0.0848, 0.0848, 0.0848, 0.0848, 0.0848, 0.0848, 0.0848, \n    0.0848, 0.0848, 0.0848, 0.0848, 0.0848, 0.0848, 0.0848, 0.0848, \n    0.0848, 0.0848, 0.0848, 0.0848, 0.0848, 0.0848, 0.0848, 0.0848, \n    0.0848, 0.0848, 0.0848, 0.0848, 0.0848, 0.0848, 0.0848, 0.0848, \n    0.0848, 0.0848, 0.0848, 0.0848, 0.0848, 0.0848, 0.0848, 0.0848, \n    0.0848, 0.0848, 0.0848, 0.0848, 0.0848, 0.0848, 0.0848, 0.0848, \n    0.0848, 0.0848, 0.0848, 0.0848, 0.0848, 0.0848, 0.0848, 0.0848, \n    0.0848, 0.0848, 0.0848, 0.0848, 0.0848, 0.0848, 0.0848, 0.0848, \n    0.0848, 0.0848, 0.0848, 0.0848, 0.0848, 0.0848, 0.0848, 0.0848, \n    0.0848, 0.0848, 0.0848, 0.0848, 0.0848, 0.0848, 0.0848, 0.0848, \n    0.0848, 0.0848, 0.0848, 0.0848, 0.0848, 0.0848, 0.0848, 0.0848, \n    0.0848, 0.0848, 0.0848, 0.0848, 0.0848, 0.0848, 0.0848, 0.0848, \n    0.0848, 0.0848, 0.0848, 0.0848, 0.0848, 0.0848, 0.0848, 0.0848, \n    0.0848, 0.0848, 0.0848, 0.0848, 0.0848, 0.0848, 0.0848, 0.0848, \n    0.0848, 0.0848, 0.0848, 0.0848, 0.0848, 0.0848, 0.0848, 0.0848, \n    0.0848, 0.0848, 0.0848, 0.0848, 0.0848, 0.0848, 0.0848, 0.0848, \n    0.0848, 0.0848, 0.0848, 0.0848, 0.0848, 0.0848, 0.0848, 0.0848, \n    0.0848, 0.0848, 0.0848, 0.0848, 0.0848, 0.0848, 0.0848, 0.0848, \n    0.0848, 0.0848, 0.0848, 0.0848, 0.0848, 0.0848, 0.0848, 0.0848, \n    0.0848, 0.0848, 0.0848, 0.0848, 0.0848, 0.0848, 0.0848, 0.0848, \n    0.0848, 0.0848, 0.0848, 0.0848, 0.0848, 0.0848, 0.0848, 0.0848, \n    0.0848, 0.0848, 0.0848, 0.0848, 0.0848, 0.0848, 0.0848, 0.0848, \n    0.0848, 0.0848, 0.0848, 0.0848, 0.0848, 0.0848, 0.0848, 0.0848, \n    0.0848, 0.0848, 0.0848, 0.0848, 0.0848, 0.0848, 0.0848, 0.0848, \n    0.0848, 0.0848, 0.0848, 0.0848, 0.0848, 0.0848, 0.0848, 0.0848, \n    0.0848, 0.0848, 0.0848, 0.0848, 0.0848, 0.0848, 0.0848, 0.0848, \n    0.0848, 0.0848, 0.0848, 0.0848, 0.0848, 0.0848, 0.0848, 0.0848, \n    0.0848, 0.0848, 0.0848, 0.0848, 0.0848, 0.0848, 0.0848, 0.0848, \n    0.0848, 0.0848, 0.0848, 0.0848, 0.0848, 0.0848, 0.0848, 0.0848, \n    0.0848, 0.0848, 0.0848, 0.0848, 0.0848, 0.0848, 0.0848, 0.0848, \n    0.0848, 0.0848, 0.0848, 0.0848, 0.0848, 0.0848, 0.0848, 0.0848, \n    0.0848, 0.0848, 0.0848, 0.0848, 0.0848, 0.0848, 0.0848, 0.0848, \n    0.0848, 0.0848, 0.0848, 0.0848, 0.0848, 0.0848, 0.0848, 0.0848, \n    0.0848, 0.0848, 0.0848, 0.0848, 0.0848, 0.0848, 0.0848, 0.0848, \n    0.0848, 0.0848, 0.0848, 0.0848, 0.0848, 0.0848, 0.0848, 0.0848, \n    0.0848, 0.0848, 0.0848, 0.0848, 0.0848, 0.0848, 0.0848, 0.0848, \n    0.0848, 0.0848, 0.0848, 0.0848, 0.0848, 0.0848, 0.0848, 0.0848, \n    0.0848, 0.0848, 0.0848, 0.0848, 0.0848, 0.0848, 0.0848, 0.0848, \n    0.0848, 0.0848, 0.0848, 0.0848, 0.0848, 0.0848, 0.0848, 0.0848, \n    0.0848, 0.0848, 0.0848, 0.0848, 0.0848, 0.0848, 0.0848, 0.0848, \n    0.0848, 0.0848, 0.0848, 0.0848, 0.0848, 0.0848, 0.0848, 0.0848, \n    0.0848, 0.0848, 0.0848, 0.0848, 0.0848, 0.0848, 0.0848, 0.0848, \n    0.0848, 0.0848, 0.0848, 0.0848, 0.0848, 0.0848, 0.0848, 0.0848, \n    0.0848, 0.0848, 0.0848, 0.0848, 0.0848, 0.0848, 0.0848, 0.0848, \n    0.0848, 0.0848, 0.0848, 0.0848, 0.0848, 0.0848, 0.0848, 0.0848, \n    0.0848, 0.0848, 0.0848, 0.0848, 0.0848, 0.0848, 0.0848, 0.0848, \n    0.0848, 0.0848, 0.0848, 0.0848, 0.0848, 0.0848, 0.0848, 0.0848, \n    0.0848, 0.0848, 0.0848, 0.0848, 0.0848, 0.0848, 0.0848, 0.0848, \n    0.0848, 0.0848, 0.0848, 0.0848, 0.0848, 0.0848, 0.0848, 0.0848, \n    0.0848, 0.0848, 0.0848, 0.0848, 0.0848, 0.0848, 0.0848, 0.0848, \n    0.0848, 0.0848, 0.0848, 0.0848, 0.0848, 0.0848, 0.0848, 0.0848, \n    0.0848, 0.0848, 0.0848, 0.0848, 0.0848, 0.0848, 0.0848, 0.0848, \n    0.0848, 0.0848, 0.0848, 0.0848, 0.0848, 0.0848, 0.0848, 0.0848, \n    0.0848, 0.0848, 0.0848, 0.0848, 0.0848, 0.0848, 0.0848, 0.0848, \n    0.0848, 0.0848, 0.0848, 0.0848, 0.0848, 0.0848, 0.0848, 0.0848, \n    0.0848, 0.0848, 0.0848, 0.0848, 0.0848, 0.0848, 0.0848, 0.0848, \n    0.0848, 0.0848, 0.0848, 0.0848, 0.0848, 0.0848, 0.0848, 0.0848, \n    0.0848, 0.0848, 0.0848, 0.0848, 0.0848, 0.0848, 0.0848, 0.0848, \n    0.0848, 0.0848, 0.0848, 0.0848, 0.0848, 0.0848, 0.0848, 0.0848, \n    0.0848, 0.0848, 0.0848, 0.0848, 0.0848, 0.0848, 0.0848, 0.0848, \n    0.0848, 0.0848, 0.0848, 0.0848, 0.0848, 0.0848, 0.0848, 0.0848, \n    0.0848, 0.0848, 0.0848, 0.0848, 0.0848, 0.0848, 0.0848, 0.0848, \n    0.0848, 0.0848, 0.0848, 0.0848, 0.0848, 0.0848, 0.0848, 0.0848, \n    0.0848, 0.0848, 0.0848, 0.0848, 0.0848, 0.0848, 0.0848, 0.0848, \n    0.0848, 0.0848, 0.0848, 0.0848, 0.0848, 0.0848, 0.0848, 0.0848, \n    0.0848, 0.0848, 0.0848, 0.0848, 0.0848, 0.0848, 0.0848, 0.0848, \n    0.0848, 0.0848, 0.0848, 0.0848, 0.0848, 0.0848, 0.0848, 0.0848, \n    0.0848, 0.0848, 0.0848, 0.0848, 0.0848, 0.0848, 0.0848, 0.0848, \n    0.0848, 0.0848, 0.0848, 0.0848, 0.0848, 0.0848, 0.0848, 0.0848, \n    0.0848, 0.0848, 0.0848, 0.0848, 0.0848, 0.0848, 0.0848, 0.0848, \n    0.0848, 0.0848, 0.0848, 0.0848, 0.0848, 0.0848, 0.0848, 0.0848, \n    0.0848, 0.0848, 0.0848, 0.0848, 0.0848, 0.0848, 0.0848, 0.0848, \n    0.0848, 0.0848, 0.0848, 0.0848, 0.0848, 0.0848, 0.0848, 0.0848, \n    0.0848, 0.0848, 0.0848, 0.0848, 0.0848, 0.0848, 0.0848, 0.0848, \n    0.0848, 0.0848, 0.0848, 0.0848, 0.0848, 0.0848, 0.0848, 0.0848, \n    0.0848, 0.0848, 0.0848, 0.0848, 0.0848, 0.0848, 0.0848, 0.0848, \n    0.0848, 0.0848, 0.0848, 0.0848, 0.0848, 0.0848, 0.0848, 0.0848, \n    0.0848, 0.0848, 0.0848, 0.0848, 0.0848, 0.0848, 0.0848, 0.0848, \n    0.0848, 0.0848, 0.0848, 0.0848, 0.0848, 0.0848, 0.0848, 0.0848, \n    0.0848, 0.0848, 0.0848, 0.0848, 0.0848, 0.0848, 0.0848, 0.0848, \n    0.0848, 0.0848, 0.0848, 0.0848, 0.0848, 0.0848, 0.0848, 0.0848, \n    0.0848, 0.0848, 0.0848, 0.0848, 0.0848, 0.0848, 0.0848, 0.0848, \n    0.0848, 0.0848, 0.0848, 0.0848, 0.0848, 0.0848, 0.0848, 0.0848, \n    0.0848, 0.0848, 0.0848, 0.0848, 0.0848, 0.0848, 0.0848, 0.0848, \n    0.0848, 0.0848, 0.0848, 0.0848, 0.0848, 0.0848, 0.0848, 0.0848, \n    0.0848, 0.0848, 0.0848, 0.0848, 0.0848, 0.0848, 0.0848, 0.0848, \n    0.0848, 0.0848, 0.0848, 0.0848, 0.0848, 0.0848, 0.0848, 0.0848, \n    0.0848, 0.0848, 0.0848, 0.0848, 0.0848, 0.0848, 0.0848, 0.0848, \n    0.0848, 0.0848, 0.0848, 0.0848, 0.0848, 0.0848, 0.0848, 0.0848, \n    0.0848, 0.0848, 0.0848, 0.0848, 0.0848, 0.0848, 0.0848, 0.0848, \n    0.0848, 0.0848, 0.0848, 0.0848, 0.0848, 0.0848, 0.0848, 0.0848, \n    0.0848, 0.0848, 0.0848, 0.0848, 0.0848, 0.0848, 0.0848, 0.0848, \n    0.0848, 0.0848, 0.0848, 0.0848, 0.0848, 0.0848, 0.0848, 0.0848, \n    0.0848, 0.0848, 0.0848, 0.0848, 0.0848, 0.0848, 0.0848, 0.0848, \n    0.0848, 0.0848, 0.0848, 0.0848, 0.0848, 0.0848, 0.0848, 0.0848, \n    0.0848, 0.0848, 0.0848, 0.0848, 0.0848, 0.0848, 0.0848, 0.0848, \n    0.0848, 0.0848, 0.0848, 0.0848, 0.0848, 0.0848, 0.0848, 0.0848, \n    0.0848, 0.0848, 0.0848, 0.0848, 0.0848, 0.0848, 0.0848, 0.0848, \n    0.0848, 0.0848, 0.0848, 0.0848, 0.0848, 0.0848, 0.0848, 0.0848, \n    0.0848, 0.0848, 0.0848, 0.0848, 0.0848, 0.0848, 0.0848, 0.0848, \n    0.0848, 0.0848, 0.0848, 0.0848, 0.0848, 0.0848, 0.0848, 0.0848, \n    0.0848, 0.0848, 0.0848, 0.0848, 0.0848, 0.0848, 0.0848, 0.0848, \n    0.0848, 0.0848, 0.0848, 0.0848, 0.0848, 0.0848, 0.0848, 0.0848, \n    0.0848, 0.0848, 0.0848, 0.0848, 0.0848, 0.0848, 0.0848, 0.0848, \n    0.0848, 0.0848, 0.0848, 0.0848, 0.0848, 0.0848, 0.0848, 0.0848, \n    0.0848, 0.0848, 0.0848, 0.0848, 0.0848, 0.0848, 0.0848, 0.0848, \n    0.0848, 0.0848, 0.0848, 0.0848, 0.0848, 0.0848, 0.0848, 0.0848, \n    0.0848, 0.0848, 0.0848, 0.0848, 0.0848, 0.0848, 0.0848, 0.0848, \n    0.0848, 0.0848, 0.0848, 0.0848, 0.0848, 0.0848, 0.0848, 0.0848, \n    0.0848, 0.0848, 0.0848, 0.0848, 0.0848, 0.0848, 0.0848, 0.0848, \n    0.0848, 0.0848, 0.0848, 0.0848, 0.0848, 0.0848, 0.0848, 0.0848, \n    0.0848, 0.0848, 0.0848, 0.0848, 0.0848, 0.0848, 0.0848, 0.0848, \n    0.0848, 0.0848, 0.0848, 0.0848, 0.0848, 0.0848, 0.0848, 0.0848, \n    0.0848, 0.0848, 0.0848, 0.0848, 0.0848, 0.0848, 0.0848, 0.0848, \n    0.0848, 0.0848, 0.0848, 0.0848, 0.0848, 0.0848, 0.0848, 0.0848, \n    0.0848, 0.0848, 0.0848, 0.0848, 0.0848, 0.0848, 0.0848, 0.0848, \n    0.0848, 0.0848, 0.0848, 0.0848, 0.0848, 0.0848, 0.0848, 0.0848, \n    0.0848, 0.0848, 0.0848, 0.0848, 0.0848, 0.0848, 0.0848, 0.0848, \n    0.0848, 0.0848, 0.0848, 0.0848, 0.0848, 0.0848, 0.0848, 0.0848, \n    0.0848, 0.0848, 0.0848, 0.0848, 0.0848, 0.0848, 0.0848, 0.0848, \n    0.0848, 0.0848, 0.0848, 0.0848, 0.0848, 0.0848, 0.0848, 0.0848, \n    0.0848, 0.0848, 0.0848, 0.0848, 0.0848, 0.0848, 0.0848, 0.0848, \n    0.0848, 0.0848, 0.0848, 0.0848, 0.0848, 0.0848, 0.0848, 0.0848, \n    0.0848, 0.0848, 0.0848, 0.0848, 0.0848, 0.0848, 0.0848, 0.0848, \n    0.0848, 0.0848, 0.0848, 0.0848, 0.0848, 0.0848, 0.0848, 0.0848, \n    0.0848, 0.0848, 0.0848, 0.0848, 0.0848, 0.0848, 0.0848, 0.0848, \n    0.0848, 0.0848, 0.0848, 0.0848, 0.0848, 0.0848, 0.0848, 0.0848, \n    0.0848, 0.0848, 0.0848, 0.0848, 0.0848, 0.0848, 0.0848, 0.0848, \n    0.0848, 0.0848, 0.0848, 0.0848, 0.0848, 0.0848, 0.0848, 0.0848, \n    0.0848, 0.0848, 0.0848, 0.0848, 0.0848, 0.0848, 0.0848, 0.0848, \n    0.0848, 0.0848, 0.0848, 0.0848, 0.0848, 0.0848, 0.0848, 0.0848, \n    0.0848, 0.0848, 0.0848, 0.0848, 0.0848, 0.0848, 0.0848, 0.0848, \n    0.0848, 0.0848, 0.0848, 0.0848, 0.0848, 0.0848, 0.0848, 0.0848, \n    0.0848, 0.0848, 0.0848, 0.0848, 0.0848, 0.0848, 0.0848, 0.0848, \n    0.0848, 0.0848, 0.0848, 0.0848, 0.0848, 0.0848, 0.0848, 0.0848, \n    0.0848, 0.0848, 0.0848, 0.0848, 0.0848, 0.0848, 0.0848, 0.0848, \n    0.0848, 0.0848, 0.0848, 0.0848, 0.0848, 0.0848, 0.0848, 0.0848, \n    0.0848, 0.0848, 0.0848, 0.0848, 0.0848, 0.0848, 0.0848, 0.0848, \n    0.0848, 0.0848, 0.0848, 0.0848, 0.0848, 0.0848, 0.0848, 0.0848, \n    0.0848, 0.0848, 0.0848, 0.0848, 0.0848, 0.0848, 0.0848, 0.0848, \n    0.0848, 0.0848, 0.0848, 0.0848, 0.0848, 0.0848, 0.0848, 0.0848, \n    0.0848, 0.0848, 0.0848, 0.0848, 0.0848, 0.0848, 0.0848, 0.0848, \n    0.0848, 0.0848, 0.0848, 0.0848, 0.0848, 0.0848, 0.0848, 0.0848, \n    0.0848, 0.0848, 0.0848, 0.0848, 0.0848, 0.0848, 0.0848, 0.0848, \n    0.0848, 0.0848, 0.0848, 0.0848, 0.0848, 0.0848, 0.0848, 0.0848, \n    0.0848, 0.0848, 0.0848, 0.0848, 0.0848, 0.0848, 0.0848, 0.0848, \n    0.0848, 0.0848, 0.0848, 0.0848, 0.0848, 0.0848, 0.0848, 0.0848, \n    0.0848, 0.0848, 0.0848, 0.0848, 0.0848, 0.0848, 0.0848, 0.0848, \n    0.0848, 0.0848, 0.0848, 0.0848, 0.0848, 0.0848, 0.0848, 0.0848, \n    0.0848, 0.0848, 0.0848, 0.0848, 0.0848, 0.0848, 0.0848, 0.0848, \n    0.0848, 0.0848, 0.0848, 0.0848, 0.0848, 0.0848, 0.0848, 0.0848, \n    0.0848, 0.0848, 0.0848, 0.0848, 0.0848, 0.0848, 0.0848, 0.0848, \n    0.0848, 0.0848, 0.0848, 0.0848, 0.0848, 0.0848, 0.0848, 0.0848, \n    0.0848, 0.0848, 0.0848, 0.0848, 0.0848, 0.0848, 0.0848, 0.0848, \n    0.0848, 0.0848, 0.0848, 0.0848, 0.0848, 0.0848, 0.0848, 0.0848, \n    0.0848, 0.0848, 0.0848, 0.0848, 0.0848, 0.0848, 0.0848, 0.0848, \n    0.0848, 0.0848, 0.0848, 0.0848, 0.0848, 0.0848, 0.0848, 0.0848, \n    0.0848, 0.0848, 0.0848, 0.0848, 0.0848, 0.0848, 0.0848, 0.0848, \n    0.0848, 0.0848, 0.0848, 0.0848, 0.0848, 0.0848, 0.0848, 0.0848, \n    0.0848, 0.0848, 0.0848, 0.0848, 0.0848, 0.0848, 0.0848, 0.0848, \n    0.0848, 0.0848, 0.0848, 0.0848, 0.0848, 0.0848, 0.0848, 0.0848, \n    0.0848, 0.0848, 0.0848, 0.0848, 0.0848, 0.0848, 0.0848, 0.0848, \n    0.0848, 0.0848, 0.0848, 0.0848, 0.0848, 0.0848, 0.0848, 0.0848, \n    0.0848, 0.0848, 0.0848, 0.0848, 0.0848, 0.0848, 0.0848, 0.0848, \n    0.0848, 0.0848, 0.0848, 0.0848, 0.0848, 0.0848, 0.0848, 0.0848, \n    0.0848, 0.0848, 0.0848, 0.0848, 0.0848, 0.0848, 0.0848, 0.0848, \n    0.0848, 0.0848, 0.0848, 0.0848, 0.0848, 0.0848, 0.0848, 0.0848, \n    0.0848, 0.0848, 0.0848, 0.0848, 0.0848, 0.0848, 0.0848, 0.0848, \n    0.0848, 0.0848, 0.0848, 0.0848, 0.0848, 0.0848, 0.0848, 0.0848, \n    0.0848, 0.0848, 0.0848, 0.0848, 0.0848, 0.0848, 0.0848, 0.0848, \n    0.0848, 0.0848, 0.0848, 0.0848, 0.0848, 0.0848, 0.0848, 0.0848, \n    0.0848, 0.0848, 0.0848, 0.0848, 0.0848, 0.0848, 0.0848, 0.0848, \n    0.0848, 0.0848, 0.0848, 0.0848, 0.0848, 0.0848, 0.0848, 0.0848, \n    0.0848, 0.0848, 0.0848, 0.0848, 0.0848, 0.0848, 0.0848, 0.0848, \n    0.0848, 0.0848, 0.0848, 0.0848, 0.0848, 0.0848, 0.0848, 0.0848, \n    0.0848, 0.0848, 0.0848, 0.0848, 0.0848, 0.0848, 0.0848, 0.0848, \n    0.0848, 0.0848, 0.0848, 0.0848, 0.0848, 0.0848, 0.0848, 0.0848, \n    0.0848, 0.0848, 0.0848, 0.0848, 0.0848, 0.0848, 0.0848, 0.0848, \n    0.0848, 0.0848, 0.0848, 0.0848, 0.0848, 0.0848, 0.0848, 0.0848, \n    0.0848, 0.0848, 0.0848, 0.0848, 0.0848, 0.0848, 0.0848, 0.0848, \n    0.0848, 0.0848, 0.0848, 0.0848, 0.0848, 0.0848, 0.0848, 0.0848, \n    0.0848, 0.0848, 0.0848, 0.0848, 0.0848, 0.0848, 0.0848, 0.0848, \n    0.0848, 0.0848, 0.0848, 0.0848, 0.0848, 0.0848, 0.0848, 0.0848, \n    0.0848, 0.0848, 0.0848, 0.0848, 0.0848, 0.0848, 0.0848, 0.0848, \n    0.0848, 0.0848, 0.0848, 0.0848, 0.0848, 0.0848, 0.0848, 0.0848, \n    0.0848, 0.0848, 0.0848, 0.0848, 0.0848, 0.0848, 0.0848, 0.0848, \n    0.0848, 0.0848, 0.0848, 0.0848, 0.0848, 0.0848, 0.0848, 0.0848, \n    0.0848, 0.0848, 0.0848, 0.0848, 0.0848, 0.0848, 0.0848, 0.0848, \n    0.0848, 0.0848, 0.0848, 0.0848, 0.0848, 0.0848, 0.0848, 0.0848, \n    0.0848, 0.0848, 0.0848, 0.0848, 0.0848, 0.0848, 0.0848, 0.0848, \n    0.0848, 0.0848, 0.0848, 0.0848, 0.0848, 0.0848, 0.0848, 0.0848, \n    0.0848, 0.0848, 0.0848, 0.0848, 0.0848, 0.0848, 0.0848, 0.0848, \n    0.0848, 0.0848, 0.0848, 0.0848, 0.0848, 0.0848, 0.0848, 0.0848, \n    0.0848, 0.0848, 0.0848, 0.0848, 0.0848, 0.0848, 0.0848, 0.0848, \n    0.0848, 0.0848, 0.0848, 0.0848, 0.0848, 0.0848, 0.0848, 0.0848, \n    0.0848, 0.0848, 0.0848, 0.0848, 0.0848, 0.0848, 0.0848, 0.0848, \n    0.0848, 0.0848, 0.0848, 0.0848, 0.0848, 0.0848, 0.0848, 0.0848, \n    0.0848, 0.0848, 0.0848, 0.0848, 0.0848, 0.0848, 0.0848, 0.0848, \n    0.0848, 0.0848, 0.0848, 0.0848, 0.0848, 0.0848, 0.0848, 0.0848, \n    0.0848, 0.0848, 0.0848, 0.0848, 0.0848, 0.0848, 0.0848, 0.0848, \n    0.0848, 0.0848, 0.0848, 0.0848, 0.0848, 0.0848, 0.0848, 0.0848, \n    0.0848, 0.0848, 0.0848, 0.0848, 0.0848, 0.0848, 0.0848, 0.0848, \n    0.0848, 0.0848, 0.0848, 0.0848, 0.0848, 0.0848, 0.0848, 0.0848, \n    0.0848, 0.0848, 0.0848, 0.0848, 0.0848, 0.0848, 0.0848, 0.0848, \n    0.0848, 0.0848, 0.0848, 0.0848, 0.0848, 0.0848, 0.0848, 0.0848, \n    0.0848, 0.0848, 0.0848, 0.0848, 0.0848, 0.0848, 0.0848, 0.0848, \n    0.0848, 0.0848, 0.0848, 0.0848, 0.0848, 0.0848, 0.0848, 0.0848, \n    0.0848, 0.0848, 0.0848, 0.0848, 0.0848, 0.0848, 0.0848, 0.0848, \n    0.0848, 0.0848, 0.0848, 0.0848, 0.0848, 0.0848, 0.0848, 0.0848, \n    0.0848, 0.0848, 0.0848, 0.0848, 0.0848, 0.0848, 0.0848, 0.0848, \n    0.0848, 0.0848, 0.0848, 0.0848, 0.0848, 0.0848, 0.0848, 0.0848, \n    0.0848, 0.0848, 0.0848, 0.0848, 0.0848, 0.0848, 0.0848, 0.0848, \n    0.0848, 0.0848, 0.0848, 0.0848, 0.0848, 0.0848, 0.0848, 0.0848, \n    0.0848, 0.0848, 0.0848, 0.0848, 0.0848, 0.0848, 0.0848, 0.0848, \n    0.0848, 0.0848, 0.0848, 0.0848, 0.0848, 0.0848, 0.0848, 0.0848, \n    0.0848, 0.0848, 0.0848, 0.0848, 0.0848, 0.0848, 0.0848, 0.0848, \n    0.0848, 0.0848, 0.0848, 0.0848, 0.0848, 0.0848, 0.0848, 0.0848, \n    0.0848, 0.0848, 0.0848, 0.0848, 0.0848, 0.0848, 0.0848, 0.0848, \n    0.0848, 0.0848, 0.0848, 0.0848, 0.0848, 0.0848, 0.0848, 0.0848, \n    0.0848, 0.0848, 0.0848, 0.0848, 0.0848, 0.0848, 0.0848, 0.0848, \n    0.0848, 0.0848, 0.0848, 0.0848, 0.0848, 0.0848, 0.0848, 0.0848, \n    0.0848, 0.0848, 0.0848, 0.0848, 0.0848, 0.0848, 0.0848, 0.0848, \n    0.0848, 0.0848, 0.0848, 0.0848, 0.0848, 0.0848, 0.0848, 0.0848, \n    0.0848, 0.0848, 0.0848, 0.0848, 0.0848, 0.0848, 0.0848, 0.0848, \n    0.0848, 0.0848, 0.0848, 0.0848, 0.0848, 0.0848, 0.0848, 0.0848, \n    0.0848, 0.0848, 0.0848, 0.0848, 0.0848, 0.0848, 0.0848, 0.0848, \n    0.0848, 0.0848, 0.0848, 0.0848, 0.0848, 0.0848, 0.0848, 0.0848, \n    0.0848, 0.0848, 0.0848, 0.0848, 0.0848, 0.0848, 0.0848, 0.0848, \n    0.0848, 0.0848, 0.0848, 0.0848, 0.0848, 0.0848, 0.0848, 0.0848, \n    0.0848, 0.0848, 0.0848, 0.0848, 0.0848, 0.0848, 0.0848, 0.0848, \n    0.0848, 0.0848, 0.0848, 0.0848, 0.0848, 0.0848, 0.0848, 0.0848, \n    0.0848, 0.0848, 0.0848, 0.0848, 0.0848, 0.0848, 0.0848, 0.0848, \n    0.0848, 0.0848, 0.0848, 0.0848, 0.0848, 0.0848, 0.0848, 0.0848, \n    0.0848, 0.0848, 0.0848, 0.0848, 0.0848, 0.0848, 0.0848, 0.0848, \n    0.0848, 0.0848, 0.0848, 0.0848, 0.0848, 0.0848, 0.0848, 0.0848, \n    0.0848, 0.0848, 0.0848, 0.0848, 0.0848, 0.0848, 0.0848, 0.0848, \n    0.0848, 0.0848, 0.0848, 0.0848, 0.0848, 0.0848, 0.0848, 0.0848, \n    0.0848, 0.0848, 0.0848, 0.0848, 0.0848, 0.0848, 0.0848, 0.0848, \n    0.0848, 0.0848, 0.0848, 0.0848, 0.0848, 0.0848, 0.0848, 0.0848, \n    0.0848, 0.0848, 0.0848, 0.0848, 0.0848, 0.0848, 0.0848, 0.0848, \n    0.0848, 0.0848, 0.0848, 0.0848, 0.0848, 0.0848, 0.0848, 0.0848, \n    0.0848, 0.0848, 0.0848, 0.0848, 0.0848, 0.0848, 0.0848, 0.0848, \n    0.0848, 0.0848, 0.0848, 0.0848, 0.0848, 0.0848, 0.0848, 0.0848, \n    0.0848, 0.0848, 0.0848, 0.0848, 0.0848, 0.0848, 0.0848, 0.1119, \n    0.1119, 0.1119, 0.1119, 0.1119, 0.1119, 0.1119, 0.1119, 0.1119, \n    0.1119, 0.1119, 0.1119, 0.1119, 0.1119, 0.1119, 0.1119, 0.1119, \n    0.1119, 0.1119, 0.1119, 0.1119, 0.1119, 0.1119, 0.1119, 0.1119, \n    0.1119, 0.1119, 0.1119, 0.1119, 0.1119, 0.1119, 0.1119, 0.1119, \n    0.1119, 0.1119, 0.1119, 0.1119, 0.1119, 0.1119, 0.1119, 0.1119, \n    0.1119, 0.1119, 0.1119, 0.1119, 0.1119, 0.1119, 0.1119, 0.1119, \n    0.1119, 0.1119, 0.1119, 0.1119, 0.1119, 0.1119, 0.1119, 0.1119, \n    0.1119, 0.1119, 0.1119, 0.1119, 0.1119, 0.1119, 0.1119, 0.1119, \n    0.1119, 0.1119, 0.1119, 0.1119, 0.1119, 0.1119, 0.1119, 0.1119, \n    0.1119, 0.1119, 0.1119, 0.1119, 0.1119, 0.1119, 0.1119, 0.1119, \n    0.1119, 0.1119, 0.1119, 0.1119, 0.1119, 0.1119, 0.1119, 0.1119, \n    0.1119, 0.1119, 0.1119, 0.1119, \n\n*** WARNING: max output size exceeded, skipping output. ***\n\n \n    \"355255\", \"355256\", \"355257\", \"355258\", \"355259\", \"355260\", \n    \"355261\", \"355262\", \"355263\", \"355264\", \"355265\", \"355266\", \n    \"355267\", \"355268\", \"355269\", \"355270\", \"355271\", \"355272\", \n    \"355273\", \"355274\", \"355275\", \"355276\", \"355277\", \"355278\", \n    \"355279\", \"355280\", \"355281\", \"355282\", \"355283\", \"355284\", \n    \"355285\", \"355286\", \"355287\", \"355288\", \"355289\", \"355290\", \n    \"355291\", \"355292\", \"355293\", \"355294\", \"355295\", \"355296\", \n    \"355297\", \"355298\", \"355299\", \"355300\", \"355301\", \"355302\", \n    \"355303\", \"355304\", \"355305\", \"355306\", \"355307\", \"355308\", \n    \"355309\", \"355310\", \"355311\", \"355312\", \"355313\", \"355314\", \n    \"355315\", \"355316\", \"355317\", \"355318\", \"355319\", \"355320\", \n    \"355321\", \"355322\", \"355323\", \"355324\", \"355325\", \"355326\", \n    \"355327\", \"355328\", \"355329\", \"355330\", \"355331\", \"355332\", \n    \"355333\", \"355334\", \"355335\", \"355336\", \"355337\", \"355338\", \n    \"355339\", \"355340\", \"355341\", \"355342\", \"355343\", \"355344\", \n    \"355345\", \"355346\", \"355347\", \"355348\", \"355349\", \"355350\", \n    \"355351\", \"355352\", \"355353\", \"355354\", \"355355\", \"355356\", \n    \"355357\", \"355358\", \"355359\", \"355360\", \"355361\", \"355362\", \n    \"355363\", \"355364\", \"355365\", \"355366\", \"355367\", \"355368\", \n    \"355369\", \"355370\", \"355371\", \"355372\", \"355373\", \"355374\", \n    \"355375\", \"355376\", \"355377\", \"355417\", \"355418\", \"355419\", \n    \"355420\", \"355421\", \"355422\", \"355423\", \"355424\", \"355644\", \n    \"355645\", \"355646\", \"355647\", \"355648\", \"355649\", \"355650\", \n    \"355651\", \"355652\", \"355653\", \"355654\", \"355655\", \"355656\", \n    \"355657\", \"355658\", \"355659\", \"355660\", \"355661\", \"355662\", \n    \"355663\", \"355664\", \"355665\", \"355666\", \"355667\", \"355668\", \n    \"355669\", \"355670\", \"355671\", \"355672\", \"355673\", \"355674\", \n    \"355675\", \"355676\", \"355677\", \"355678\", \"355679\", \"355680\", \n    \"355681\", \"355682\", \"355683\", \"355684\", \"355685\", \"355686\", \n    \"355687\", \"355688\", \"355689\", \"355690\", \"355691\", \"355692\", \n    \"355693\", \"355906\", \"355907\", \"355908\", \"355909\", \"355910\", \n    \"355911\", \"355912\", \"355913\", \"355914\", \"355915\", \"355916\", \n    \"355917\", \"355918\", \"355919\", \"355920\", \"355921\", \"355922\", \n    \"355923\", \"355924\", \"355925\", \"355926\", \"355927\", \"355928\", \n    \"355929\", \"355930\", \"355931\", \"355932\", \"355933\", \"355934\", \n    \"355935\", \"355936\", \"355937\", \"355938\", \"355939\", \"355940\", \n    \"355941\", \"355942\", \"355943\", \"355944\", \"355945\", \"355946\", \n    \"355947\", \"355948\", \"355949\", \"355950\", \"355951\", \"355952\", \n    \"355953\", \"355954\", \"355955\", \"355956\", \"355957\", \"355958\", \n    \"355959\", \"355960\", \"355961\", \"355962\", \"355963\", \"355964\", \n    \"355965\", \"355966\", \"355967\", \"355968\", \"355969\", \"355970\", \n    \"355971\", \"355972\", \"355973\", \"355974\", \"355975\", \"355976\", \n    \"355977\", \"355978\", \"355979\", \"355980\", \"355981\", \"355982\", \n    \"355983\", \"355984\", \"355985\", \"355986\", \"355987\", \"355988\", \n    \"355989\", \"355990\", \"355991\", \"355992\", \"355993\", \"355994\", \n    \"355995\", \"355996\", \"355997\", \"355998\", \"355999\", \"356000\", \n    \"356001\", \"356002\", \"356003\", \"356004\", \"356005\", \"356036\", \n    \"356037\", \"356038\", \"356039\", \"356040\", \"356041\", \"356042\", \n    \"356043\", \"356044\", \"356045\", \"356046\", \"356047\", \"356048\", \n    \"356049\", \"356050\", \"356051\", \"356052\", \"356053\", \"356054\", \n    \"356055\", \"356056\", \"356057\", \"356058\", \"356059\", \"356060\", \n    \"356061\", \"356062\", \"356063\", \"356064\", \"356065\", \"356066\", \n    \"356067\", \"356068\", \"356069\", \"356070\", \"356071\", \"356289\", \n    \"356290\", \"356291\", \"356292\", \"356293\", \"356294\", \"356295\", \n    \"356296\", \"356297\", \"356298\", \"356299\", \"356300\", \"356301\", \n    \"356302\", \"356336\", \"356337\", \"356338\", \"356339\", \"356340\", \n    \"356341\", \"356342\", \"356343\", \"356344\", \"356345\", \"356346\", \n    \"356347\", \"356379\", \"356380\", \"356381\", \"356382\", \"356383\", \n    \"356384\", \"356555\", \"356556\", \"356557\", \"356558\", \"356559\", \n    \"356560\", \"356561\", \"356562\", \"356563\", \"356564\", \"356565\", \n    \"356566\", \"356567\", \"356568\", \"356569\", \"356570\", \"356571\", \n    \"356572\", \"356573\", \"356574\", \"356575\", \"356576\", \"356577\", \n    \"356578\", \"356579\", \"356580\", \"356581\", \"356582\", \"356583\", \n    \"356584\", \"356585\", \"356586\", \"356587\", \"356588\", \"356589\", \n    \"356590\", \"356591\", \"356592\", \"356593\", \"356594\", \"356595\", \n    \"356596\", \"356597\", \"356598\", \"356599\", \"356600\", \"356601\", \n    \"356602\", \"356603\", \"356604\", \"356605\", \"356606\", \"356607\", \n    \"356626\", \"356755\", \"356756\", \"356757\", \"356758\", \"356759\", \n    \"356760\", \"356761\", \"356762\", \"356763\", \"356764\", \"356765\", \n    \"356766\", \"356767\", \"356768\", \"356769\", \"356770\", \"356771\", \n    \"356814\", \"356815\", \"356816\", \"356817\", \"356818\", \"356819\", \n    \"356820\", \"356821\", \"356822\", \"356823\", \"356824\", \"356825\", \n    \"356826\", \"356827\", \"356828\", \"356829\", \"356830\", \"356831\", \n    \"356832\", \"356833\", \"356879\", \"356880\", \"356881\", \"356882\", \n    \"356883\", \"356884\", \"356885\", \"356886\", \"356887\", \"356888\", \n    \"356889\", \"356890\", \"356891\", \"356892\", \"356893\", \"356894\", \n    \"356895\", \"356896\", \"356897\", \"356898\", \"356899\", \"356900\", \n    \"356901\", \"356902\", \"356903\", \"356904\", \"356905\", \"356906\", \n    \"356907\", \"356908\", \"356909\", \"356910\", \"356955\", \"356956\", \n    \"356957\", \"356958\", \"356959\", \"356960\", \"356961\", \"357026\", \n    \"357027\", \"357028\", \"357029\", \"357030\", \"357031\", \"357032\", \n    \"357033\", \"357034\", \"357035\", \"357036\", \"357037\", \"357038\", \n    \"357039\", \"357040\", \"357041\", \"357042\", \"357043\", \"357044\", \n    \"357045\", \"357162\", \"357163\", \"357164\", \"357165\", \"357166\", \n    \"357167\", \"357168\", \"357169\", \"357170\", \"357171\", \"357172\", \n    \"357173\", \"357174\", \"357175\", \"357176\", \"357177\", \"357178\", \n    \"357179\", \"357180\", \"357181\", \"357182\", \"357183\", \"357184\", \n    \"357185\", \"357186\", \"357187\", \"357188\", \"357189\", \"357227\", \n    \"357228\", \"357229\", \"357230\", \"357231\", \"357232\", \"357233\", \n    \"357234\", \"357235\", \"357236\", \"357337\", \"357338\", \"357339\", \n    \"357340\", \"357341\", \"357342\", \"357343\", \"357344\", \"357345\", \n    \"357346\", \"357347\", \"357348\", \"357349\", \"357350\", \"357351\", \n    \"357352\", \"357353\", \"357354\", \"357355\", \"357356\", \"357357\", \n    \"357358\", \"357359\", \"357360\", \"357361\", \"357362\", \"357363\", \n    \"358055\", \"358056\", \"358062\", \"358063\", \"358064\", \"358066\", \n    \"358068\", \"358069\", \"358070\", \"358071\", \"358073\", \"358078\", \n    \"358084\", \"358092\", \"358096\", \"358097\", \"358099\", \"358102\", \n    \"358103\", \"358104\", \"358106\", \"358107\", \"358108\", \"358109\", \n    \"358111\", \"358113\", \"358179\", \"358180\", \"358181\", \"358182\", \n    \"358183\", \"358184\", \"358185\", \"358186\", \"358187\", \"358188\", \n    \"358189\", \"358190\", \"358191\", \"358192\", \"358193\", \"358194\", \n    \"358195\", \"358196\", \"358197\", \"358198\", \"358199\", \"358200\", \n    \"358201\", \"358202\", \"358203\", \"358204\", \"358205\", \"358206\", \n    \"358207\", \"358208\", \"358209\", \"358210\", \"358425\", \"358426\", \n    \"358427\", \"358428\", \"358429\", \"358430\", \"358431\", \"358432\", \n    \"358433\", \"358434\", \"358435\", \"358436\", \"358437\", \"358438\", \n    \"358439\", \"358440\", \"358441\", \"358442\", \"358443\", \"358444\", \n    \"358445\", \"358446\", \"358447\", \"358448\", \"358449\", \"358450\", \n    \"358451\", \"358452\", \"358453\", \"358454\", \"358455\", \"358456\", \n    \"358457\", \"358458\", \"358459\", \"358550\", \"358551\", \"358552\", \n    \"358553\", \"358554\", \"358555\", \"358556\", \"358557\", \"358558\", \n    \"358559\", \"358560\", \"358561\", \"358562\", \"358563\", \"358564\", \n    \"358565\", \"358566\", \"358718\", \"358719\", \"358720\", \"358721\", \n    \"358722\", \"358723\", \"358724\", \"358725\", \"358726\", \"358727\", \n    \"358728\", \"358729\", \"358730\", \"358731\", \"358732\", \"358733\", \n    \"358734\", \"358735\", \"358736\", \"358737\", \"358738\", \"358739\", \n    \"358740\", \"358741\", \"358742\", \"358743\", \"358744\", \"358822\", \n    \"358823\", \"358824\", \"358825\", \"358826\", \"358827\", \"358828\", \n    \"358829\", \"358855\", \"358856\", \"358857\", \"358858\", \"358859\", \n    \"358975\", \"358976\", \"358977\", \"358978\", \"358979\", \"358980\", \n    \"358981\", \"358982\", \"358983\", \"358984\", \"358985\", \"358986\", \n    \"358987\", \"358988\", \"358989\", \"359099\", \"359100\", \"359101\", \n    \"359102\", \"359103\", \"359104\", \"359105\", \"359106\", \"359107\", \n    \"359108\", \"359268\", \"359269\", \"359270\", \"359271\", \"359272\", \n    \"359273\", \"359274\", \"359275\", \"359276\", \"359277\", \"359278\", \n    \"359279\", \"359280\", \"359281\", \"359282\", \"359283\", \"359284\", \n    \"359285\", \"359286\", \"359287\", \"359288\", \"359289\", \"359290\", \n    \"359291\", \"359292\", \"359293\", \"359294\", \"359295\", \"359296\", \n    \"359297\", \"359298\", \"359299\", \"359300\", \"359301\", \"359302\", \n    \"359303\", \"359304\", \"359305\", \"359306\", \"359307\", \"359308\", \n    \"359309\", \"359450\", \"359451\", \"359452\", \"359453\", \"359454\", \n    \"359455\", \"359456\", \"359593\", \"359594\", \"359595\", \"359596\", \n    \"359597\", \"359598\", \"359599\", \"359600\", \"359601\", \"359602\", \n    \"359603\", \"359604\", \"359605\", \"359606\", \"359607\", \"359608\", \n    \"359609\", \"359610\", \"359611\", \"359612\", \"359613\", \"359614\", \n    \"359615\", \"359616\", \"359617\", \"359618\", \"359619\", \"359620\", \n    \"359621\", \"359622\", \"359623\", \"359624\", \"359814\", \"359815\", \n    \"359816\", \"359819\", \"359821\", \"359822\", \"359823\", \"359824\", \n    \"359825\", \"359826\", \"359827\", \"359828\", \"359829\", \"359831\", \n    \"359833\", \"359931\", \"359932\", \"359933\", \"359934\", \"359935\", \n    \"359936\", \"359937\", \"359938\", \"359939\", \"359940\", \"359941\", \n    \"359942\", \"359943\", \"359944\", \"359945\", \"359946\", \"359947\", \n    \"359948\", \"359949\", \"359950\", \"359951\", \"359952\", \"359953\", \n    \"359954\", \"359955\", \"359956\", \"359957\", \"359958\", \"359959\", \n    \"359960\", \"359961\", \"360081\", \"360082\", \"360083\", \"360084\", \n    \"360085\", \"360086\", \"360087\", \"360088\", \"360089\", \"360090\", \n    \"360091\", \"360092\", \"360093\", \"360094\", \"360095\", \"360096\", \n    \"360097\", \"360098\", \"360099\", \"360100\", \"360101\", \"360102\", \n    \"360103\", \"360104\", \"360105\", \"360106\", \"360107\", \"360152\", \n    \"360153\", \"360154\", \"360155\", \"360156\", \"360157\", \"360158\", \n    \"360159\", \"360215\", \"360216\", \"360217\", \"360218\", \"360219\", \n    \"360220\", \"360221\", \"360222\", \"360223\", \"360224\", \"360225\", \n    \"360226\", \"360227\", \"360246\", \"360479\", \"360480\", \"360481\", \n    \"360482\", \"360483\", \"360484\", \"360485\", \"360486\", \"360487\", \n    \"360488\", \"360489\", \"360490\", \"360491\", \"360492\", \"360493\", \n    \"360494\", \"360495\", \"360496\", \"360497\", \"360498\", \"360499\", \n    \"360500\", \"360501\", \"360502\", \"360503\", \"360504\", \"360505\", \n    \"360506\", \"360507\", \"360508\", \"360509\", \"360510\", \"360511\", \n    \"360512\", \"360513\", \"360585\", \"360586\", \"360587\", \"360588\", \n    \"360589\", \"360590\", \"360591\", \"360592\", \"360593\", \"360594\", \n    \"360595\", \"360596\", \"360597\", \"360598\", \"360599\", \"361156\", \n    \"361157\", \"361158\", \"361159\", \"361292\", \"361293\", \"361294\", \n    \"361295\", \"361296\", \"361297\", \"361298\", \"361299\", \"361300\", \n    \"361301\", \"361302\", \"361303\", \"361304\", \"361305\", \"361306\", \n    \"361307\", \"361308\", \"361309\", \"361310\", \"361311\", \"361312\", \n    \"361313\", \"361314\", \"361315\", \"361316\", \"361317\", \"361318\", \n    \"361319\", \"361320\", \"361321\", \"361322\", \"361323\", \"361324\", \n    \"361325\", \"361482\", \"361483\", \"361484\", \"361485\", \"361486\", \n    \"361487\", \"361488\", \"361489\", \"361490\", \"361491\", \"361492\", \n    \"361493\", \"361494\", \"361495\", \"361496\", \"361497\", \"361498\", \n    \"361499\", \"361500\", \"361501\", \"361502\", \"361503\", \"361504\", \n    \"361505\", \"361506\", \"361507\", \"361508\", \"361509\", \"361510\", \n    \"361511\", \"361512\", \"361513\", \"361514\", \"361515\", \"361516\", \n    \"361517\", \"361518\", \"361519\", \"361520\", \"361521\", \"361522\", \n    \"361523\", \"361524\", \"361525\", \"361526\", \"361527\", \"361559\", \n    \"361560\", \"361561\", \"361562\", \"361563\", \"361564\", \"361613\", \n    \"361614\", \"361615\", \"361689\", \"361690\", \"361691\", \"361692\", \n    \"361693\", \"361694\", \"361695\", \"361696\", \"361697\", \"361698\", \n    \"361699\", \"361700\", \"361701\", \"361702\", \"361703\", \"361704\", \n    \"361705\", \"361706\", \"361707\", \"361708\", \"361709\", \"361710\", \n    \"361711\", \"361712\", \"361713\", \"361714\", \"361715\", \"361716\", \n    \"361717\", \"361814\", \"361815\", \"361816\", \"361817\", \"361833\", \n    \"361834\", \"361835\", \"361836\", \"361837\", \"361838\", \"361848\", \n    \"361849\", \"361850\", \"361851\", \"361905\", \"361906\", \"361907\", \n    \"361908\", \"361909\", \"361910\", \"361911\", \"361912\", \"361913\", \n    \"361914\", \"361915\", \"361916\", \"361917\", \"361918\", \"361919\", \n    \"361920\", \"362019\", \"362020\", \"362021\", \"362022\", \"362023\", \n    \"362024\", \"362025\", \"362026\", \"362027\", \"362028\", \"362029\", \n    \"362096\", \"362097\", \"362098\", \"362099\", \"362100\", \"362101\", \n    \"362102\", \"362214\", \"362215\", \"362216\", \"362217\", \"362218\", \n    \"362219\", \"362220\", \"362221\", \"362222\", \"362223\", \"362224\", \n    \"362225\", \"362226\", \"362227\", \"362228\", \"362229\", \"362230\", \n    \"362231\", \"362232\", \"362233\", \"362234\", \"362235\", \"362236\", \n    \"362237\", \"362238\", \"362239\", \"362240\", \"362241\", \"362242\", \n    \"362243\", \"362244\", \"362245\", \"362246\", \"362247\", \"362248\", \n    \"362249\", \"362250\", \"362251\", \"362252\", \"362253\", \"362254\", \n    \"362255\", \"362256\", \"362257\", \"362258\", \"362259\", \"362260\", \n    \"362261\", \"362262\", \"362263\", \"362264\", \"362307\", \"362308\", \n    \"362309\", \"362310\", \"362311\", \"362312\", \"362313\", \"362314\", \n    \"362315\", \"362316\", \"362317\", \"362318\", \"362356\", \"362357\", \n    \"362358\", \"362359\", \"362360\", \"362442\", \"362443\", \"362444\", \n    \"362445\", \"362446\", \"362447\", \"362448\", \"362449\", \"362450\", \n    \"362451\", \"362452\", \"362453\", \"362454\", \"362455\", \"362456\", \n    \"362457\", \"362458\", \"362459\", \"362564\", \"362565\", \"362566\", \n    \"362567\", \"362568\", \"362569\", \"362570\", \"362571\", \"362572\", \n    \"362573\", \"362574\", \"362575\", \"362576\", \"362577\", \"362578\", \n    \"362579\", \"362635\", \"362636\", \"362637\", \"362638\", \"362639\", \n    \"362640\", \"362641\", \"362642\", \"362643\", \"362718\", \"362719\", \n    \"362720\", \"362842\", \"362843\", \"362844\", \"362845\", \"362846\", \n    \"362847\", \"362848\", \"362849\", \"362850\", \"362851\", \"362852\", \n    \"362853\", \"362854\", \"362855\", \"362856\", \"362857\", \"362858\", \n    \"362859\", \"362860\", \"362861\", \"362862\", \"362863\", \"362864\", \n    \"362865\", \"362866\", \"362867\", \"362868\", \"362869\", \"362870\", \n    \"362871\", \"362872\", \"362873\", \"362874\", \"362926\", \"362950\", \n    \"362951\", \"362952\", \"362980\", \"362981\", \"362982\", \"362983\", \n    \"362984\", \"362985\", \"362986\", \"362987\", \"363105\", \"363106\", \n    \"363107\", \"363108\", \"363109\", \"363110\", \"363111\", \"363112\", \n    \"363113\", \"363198\", \"363199\", \"363200\", \"363201\", \"363202\", \n    \"363203\", \"363204\", \"363205\", \"363206\", \"363207\", \"363208\", \n    \"363209\", \"363210\", \"363211\", \"363212\", \"363213\", \"363214\", \n    \"363215\", \"363263\", \"363264\", \"363265\", \"363266\", \"363267\", \n    \"363317\", \"363318\", \"363319\", \"363320\", \"363321\", \"363322\", \n    \"363323\", \"363324\", \"363325\", \"363326\", \"363327\", \"363328\", \n    \"363329\", \"363330\", \"363331\", \"363353\", \"363470\", \"363471\", \n    \"363472\", \"363547\", \"363548\", \"363549\", \"363550\", \"363551\", \n    \"363552\", \"363553\", \"363554\", \"363555\", \"363556\", \"363557\", \n    \"363558\", \"363559\", \"363560\", \"363561\", \"363562\", \"363563\", \n    \"363564\", \"363565\", \"363566\", \"363567\", \"363568\", \"363569\", \n    \"363570\", \"363571\", \"363572\", \"363573\", \"363633\", \"363634\", \n    \"363635\", \"363636\", \"363637\", \"363638\", \"363639\", \"363640\", \n    \"363641\", \"363642\", \"363643\", \"363644\", \"363645\", \"363646\", \n    \"363647\", \"363648\", \"363649\", \"363650\", \"363651\", \"363652\", \n    \"363653\", \"363654\", \"363655\", \"363656\", \"363657\", \"363658\", \n    \"363681\", \"363682\", \"363909\", \"363910\", \"363911\", \"363912\", \n    \"363913\", \"363914\", \"363915\", \"363916\", \"363917\", \"363918\", \n    \"363919\", \"363920\", \"363921\", \"363958\", \"363959\", \"363960\", \n    \"363961\", \"363962\", \"363963\", \"363964\", \"363965\", \"363966\", \n    \"363967\", \"363968\", \"363969\", \"363970\", \"363971\", \"363972\", \n    \"363973\", \"363974\", \"363975\", \"363976\", \"363977\", \"363978\", \n    \"363979\", \"363980\", \"363981\", \"363982\", \"363983\", \"364001\", \n    \"364002\", \"364003\", \"364004\", \"364005\", \"364006\", \"364007\", \n    \"364008\", \"364009\", \"364010\", \"364011\", \"364012\", \"364013\", \n    \"364074\", \"364075\", \"364076\", \"364077\", \"364078\", \"364079\", \n    \"364259\", \"364360\", \"364361\", \"364362\", \"364363\", \"364364\", \n    \"364365\", \"364366\", \"364367\", \"364368\", \"364369\", \"364370\", \n    \"364371\", \"364372\", \"364373\", \"364419\", \"364420\", \"364421\", \n    \"364422\", \"364423\", \"364424\", \"364425\", \"364426\", \"364427\", \n    \"364428\", \"364429\", \"364430\", \"364431\", \"364432\", \"364433\", \n    \"364434\", \"364435\", \"364436\", \"364437\", \"364438\", \"364487\", \n    \"364492\", \"364493\", \"364494\", \"364573\", \"364574\", \"364575\", \n    \"364671\", \"364672\", \"364673\", \"364674\", \"364675\", \"364676\", \n    \"364677\", \"364678\", \"364679\", \"364680\", \"364681\", \"364682\", \n    \"364683\", \"364684\", \"364685\", \"364686\", \"364687\", \"364688\", \n    \"364689\", \"364690\", \"364740\", \"364892\", \"364893\", \"364894\", \n    \"364895\", \"364896\", \"364897\", \"364898\", \"364899\", \"364900\", \n    \"364901\", \"364968\", \"364969\", \"364970\", \"364971\", \"364972\", \n    \"364973\", \"364974\", \"364975\", \"364976\", \"364977\", \"364978\", \n    \"364979\", \"364980\", \"364981\", \"364982\", \"364983\", \"364984\", \n    \"364985\", \"364986\", \"364987\", \"364988\", \"364989\", \"364990\", \n    \"364991\", \"364992\", \"364993\", \"364994\", \"364995\", \"364996\", \n    \"364997\", \"365029\", \"365108\", \"365109\", \"365110\", \"365111\", \n    \"365112\", \"365113\", \"365114\", \"365115\", \"365116\", \"365117\", \n    \"365118\", \"365119\", \"365120\", \"365121\", \"365122\", \"365123\", \n    \"365124\", \"365161\", \"365162\", \"365163\", \"365164\", \"365165\", \n    \"365166\", \"365167\", \"365168\", \"365196\", \"365197\", \"365232\", \n    \"365233\", \"365234\", \"365235\", \"365236\", \"365237\", \"365238\", \n    \"365239\", \"365240\", \"365241\", \"365242\", \"365266\", \"365273\", \n    \"365274\", \"365275\", \"365276\", \"365289\", \"365306\", \"365307\", \n    \"365308\", \"365309\", \"365310\", \"365398\", \"365399\", \"365400\", \n    \"365457\", \"365458\", \"365478\", \"365479\", \"365484\", \"365485\", \n    \"365486\", \"365584\", \"365585\", \"365618\", \"365635\", \"365636\", \n    \"365637\", \"365704\", \"365705\", \"365706\", \"365707\", \"365708\", \n    \"365709\", \"365710\", \"365711\", \"365712\", \"365720\", \"365744\", \n    \"365788\", \"365789\", \"365831\", \"365832\", \"365833\", \"365885\", \n    \"365922\", \"365987\", \"365998\", \"366034\", \"366035\", \"366043\", \n    \"366065\", \"366066\", \"366067\", \"366069\", \"366084\", \"366085\", \n    \"366094\", \"366107\", \"366126\", \"366147\", \"366148\", \"366154\", \n    \"366157\", \"366158\", \"366159\", \"366160\", \"366161\", \"366163\"\n    )))\n\nDeviance Residuals: \n    Min       1Q   Median       3Q      Max  \n-0.7548  -0.1615  -0.0368   0.1624   0.9529  \n\nCoefficients:\n                                                        Estimate Std. Error\n(Intercept)                                           -0.0355211  0.1197987\nG1                                                    -0.0059789  0.0023828\nyear2019                                               0.0016359  0.0033505\nyear2020                                               0.0094848  0.0033204\nyear2021                                               0.0152144  0.0032640\nyear2022                                               0.0331587  0.0035690\nSubField_Englishanalytical chemistry                  -0.0238431  0.0222383\nSubField_Englishapplied mathematics                   -0.2080134  0.1196888\nSubField_Englishapplied physics                       -0.1304686  0.0217668\nSubField_Englishastronomy & astrophysics              -0.0104430  0.0206060\nSubField_Englishchemical physics                      -0.1448178  0.0223762\nSubField_Englishecology                               -0.0332272  0.0204542\nSubField_Englishentomology                            -0.0347581  0.0217580\nSubField_Englishenvironmental sciences                -0.0184441  0.0205563\nSubField_Englishevolutionary biology                  -0.0531218  0.0209072\nSubField_Englishfluids & plasmas                      -0.0828947  0.0227105\nSubField_Englishgeneral chemistry                     -0.1705631  0.0508550\nSubField_Englishgeneral mathematics                   -0.0320167  0.0734564\nSubField_Englishgeneral physics                       -0.1236649  0.0225005\nSubField_Englishgeochemistry & geophysics             -0.0334878  0.0208885\nSubField_Englishgeology                                0.0201441  0.0396522\nSubField_Englishinorganic & nuclear chemistry         -0.1598792  0.0309218\nSubField_Englishmarine biology & hydrobiology         -0.0236291  0.0206961\nSubField_Englishmathematical physics                  -0.1917128  0.2646559\nSubField_Englishmedicinal & biomolecular chemistry     0.0306688  0.0231591\nSubField_Englishmeteorology & atmospheric sciences    -0.0231877  0.0204574\nSubField_Englishnuclear & particle physics            -0.0841380  0.0254624\nSubField_Englishnumerical & computational mathematics -0.2722238  0.1334292\nSubField_Englishoceanography                          -0.0723083  0.0242039\nSubField_Englishoptics                                -0.0829192  0.0233528\nSubField_Englishorganic chemistry                     -0.1285589  0.0224728\nSubField_Englishornithology                           -0.0492698  0.0278582\nSubField_Englishpaleontology                          -0.0005467  0.0209424\nSubField_Englishphysical chemistry                    -0.1630158  0.0287514\nSubField_Englishplant biology & botany                -0.0523820  0.0212661\nSubField_Englishpolymers                              -0.0574890  0.0230085\nSubField_Englishstatistics & probability               0.0423570  0.0279925\nSubField_Englishzoology                               -0.0029148  0.0258056\nq1                                                    -0.0663590  0.1289558\nq2                                                     0.0160540  0.1183371\nq3                                                    -0.0080410  0.1180343\nopenaccess_statusYES                                   0.0031440  0.0023096\n                                                      t value Pr(>|t|)    \n(Intercept)                                            -0.297 0.766844    \nG1                                                     -2.509 0.012104 *  \nyear2019                                                0.488 0.625362    \nyear2020                                                2.857 0.004284 ** \nyear2021                                                4.661 3.15e-06 ***\nyear2022                                                9.291  < 2e-16 ***\nSubField_Englishanalytical chemistry                   -1.072 0.283651    \nSubField_Englishapplied mathematics                    -1.738 0.082224 .  \nSubField_Englishapplied physics                        -5.994 2.06e-09 ***\nSubField_Englishastronomy & astrophysics               -0.507 0.612302    \nSubField_Englishchemical physics                       -6.472 9.75e-11 ***\nSubField_Englishecology                                -1.624 0.104282    \nSubField_Englishentomology                             -1.597 0.110162    \nSubField_Englishenvironmental sciences                 -0.897 0.369592    \nSubField_Englishevolutionary biology                   -2.541 0.011061 *  \nSubField_Englishfluids & plasmas                       -3.650 0.000262 ***\nSubField_Englishgeneral chemistry                      -3.354 0.000797 ***\nSubField_Englishgeneral mathematics                    -0.436 0.662940    \nSubField_Englishgeneral physics                        -5.496 3.90e-08 ***\nSubField_Englishgeochemistry & geophysics              -1.603 0.108903    \nSubField_Englishgeology                                 0.508 0.611442    \nSubField_Englishinorganic & nuclear chemistry          -5.170 2.34e-07 ***\nSubField_Englishmarine biology & hydrobiology          -1.142 0.253576    \nSubField_Englishmathematical physics                   -0.724 0.468832    \nSubField_Englishmedicinal & biomolecular chemistry      1.324 0.185420    \nSubField_Englishmeteorology & atmospheric sciences     -1.133 0.257026    \nSubField_Englishnuclear & particle physics             -3.304 0.000952 ***\nSubField_Englishnumerical & computational mathematics  -2.040 0.041333 *  \nSubField_Englishoceanography                           -2.987 0.002814 ** \nSubField_Englishoptics                                 -3.551 0.000384 ***\nSubField_Englishorganic chemistry                      -5.721 1.07e-08 ***\nSubField_Englishornithology                            -1.769 0.076967 .  \nSubField_Englishpaleontology                           -0.026 0.979173    \nSubField_Englishphysical chemistry                     -5.670 1.44e-08 ***\nSubField_Englishplant biology & botany                 -2.463 0.013774 *  \nSubField_Englishpolymers                               -2.499 0.012471 *  \nSubField_Englishstatistics & probability                1.513 0.130244    \nSubField_Englishzoology                                -0.113 0.910069    \nq1                                                     -0.515 0.606843    \nq2                                                      0.136 0.892088    \nq3                                                     -0.068 0.945687    \nopenaccess_statusYES                                    1.361 0.173435    \n---\nSignif. codes:  0 ‘***’ 0.001 ‘**’ 0.01 ‘*’ 0.05 ‘.’ 0.1 ‘ ’ 1\n\n(Dispersion parameter for gaussian family taken to be 0.06955676)\n\n    Null deviance: 4353.4  on 61637  degrees of freedom\nResidual deviance: 4284.4  on 61596  degrees of freedom\nAIC: 10662\n\nNumber of Fisher Scoring iterations: 2\n\n\n"
     ]
    }
   ],
   "source": [
    "tmp = pd.DataFrame()\n",
    "tmp['ideology'] = dummy['ideology']\n",
    "tmp['G'] = dummy['G']\n",
    "tmp['year'] = dummy['year']\n",
    "tmp['Domain_English'] = dummy['Domain_English']\n",
    "tmp['Field_English'] = dummy['Field_English']\n",
    "tmp['SubField_English'] = dummy['SubField_English']\n",
    "tmp['q'] = dummy['q']\n",
    "tmp['openaccess_status'] = dummy['openaccess_status']\n",
    "\n",
    "tmp = tmp.dropna(subset = ['ideology'])\n",
    "\n",
    "#overall: est = -0.0021651, error = 0.0009768, p val = 0.026665 *\n",
    "#tmp = tmp[tmp['Domain_English'] == 'Applied Sciences'] #est 0.0109223, err = 0.0036194, p val = 0.002550 **\n",
    "#tmp = tmp[tmp['Domain_English'] == 'Arts & Humanities'] #est =  0.004165, err = 0.007910 , p avl = 0.59851  \n",
    "#tmp = tmp[tmp['Domain_English'] == 'Economic & Social Sciences'] #est -0.009843, err = 0.003517, p val = 0.005138 **\n",
    "#tmp = tmp[tmp['Domain_English'] == 'Health Sciences'] #est = -0.002398, err = 0.001197, p val = 0.0452 *\n",
    "tmp = tmp[tmp['Domain_English'] == 'Natural Sciences'] #est = -0.003674, err = 0.002380, p val = 0.12266\n",
    "\n",
    "#with sunfield_english as control\n",
    "#overall: est = -3.68211147e-03, err = 9.91918447e-04, p val =  0.000206 ***\n",
    "#applied s: est = 6.413e-03, err = 3.695e-03, p val = 0.0826 .\n",
    "#arts&hum: est = 0.006185, err = 0.008018, p val = 0.44\n",
    "#econ & social: est = -0.016016, err = 0.003655, p val = 1.18e-05 ***\n",
    "#health sci: est = -0.0029571, err = 0.0012168, p val = 0.015090 *\n",
    "#natural sci: est = -0.0059789 , err = 0.002382, p val = 0.012104 *\n",
    "\n",
    "##overall regression: male gets hitgher value: more positive means more conservative\n",
    "\n",
    "with localconverter(ro.default_converter + pandas2ri.converter):\n",
    "  tst_df = ro.conversion.py2rpy(tmp)\n",
    "\n",
    "col_2_index = list(tst_df.colnames).index('year')\n",
    "col_2 = ro.vectors.FactorVector(tst_df.rx2('year'))\n",
    "tst_df[col_2_index] = col_2\n",
    "\n",
    "col_2_index = list(tst_df.colnames).index('q')\n",
    "col_2 = ro.vectors.FactorVector(tst_df.rx2('q'))\n",
    "tst_df[col_2_index] = col_2\n",
    "\n",
    "\n",
    "col_2_index = list(tst_df.colnames).index('SubField_English')\n",
    "col_2 = ro.vectors.FactorVector(tst_df.rx2('SubField_English'))\n",
    "tst_df[col_2_index] = col_2\n",
    "\n",
    "col_2_index = list(tst_df.colnames).index('Field_English')\n",
    "col_2 = ro.vectors.FactorVector(tst_df.rx2('Field_English'))\n",
    "tst_df[col_2_index] = col_2\n",
    "\n",
    "col_2_index = list(tst_df.colnames).index('G')\n",
    "col_2 = ro.vectors.FactorVector(tst_df.rx2('G'))\n",
    "tst_df[col_2_index] = col_2\n",
    "\n",
    "col_2_index = list(tst_df.colnames).index('openaccess_status')\n",
    "col_2 = ro.vectors.FactorVector(tst_df.rx2('openaccess_status'))\n",
    "tst_df[col_2_index] = col_2\n",
    "\n",
    "\n",
    "#print(tst_df)\n",
    "#pandas2ri.activate()\n",
    "model = stats.glm(\"ideology ~ G+year+SubField_English+q+openaccess_status\",\n",
    "                  data=tst_df,family=ro.r('gaussian')) #family=ro.r('gaussian(link=\"identity\")') #family=ro.r('poisson(link=\"log\")')\n",
    "print(base.summary(model))"
   ]
  },
  {
   "cell_type": "code",
   "execution_count": 0,
   "metadata": {
    "application/vnd.databricks.v1+cell": {
     "cellMetadata": {
      "byteLimit": 2048000,
      "rowLimit": 10000
     },
     "inputWidgets": {},
     "nuid": "2a397191-b90f-498c-a3db-fb06f44904bf",
     "showTitle": false,
     "title": ""
    }
   },
   "outputs": [
    {
     "output_type": "stream",
     "name": "stdout",
     "output_type": "stream",
     "text": [
      "[[-7.79809274e-02  4.73107958e-02 -1.64826920e+00  9.92984094e-02]\n [-3.68211147e-03  9.91918447e-04 -3.71211109e+00  2.05572022e-04]\n [-1.87453414e-02  1.49144993e-03 -1.25685355e+01  3.20667337e-36]\n [-1.39307288e-02  1.43662350e-03 -9.69685430e+00  3.13104242e-22]\n [-8.17314509e-03  1.44374219e-03 -5.66108351e+00  1.50546419e-08]\n [ 1.94531693e-02  1.55222581e-03  1.25324352e+01  5.05779314e-36]\n [ 7.56546422e-02  4.56063955e-02  1.65886037e+00  9.71448967e-02]\n [ 2.98965824e-02  4.34615294e-02  6.87886111e-01  4.91524995e-01]\n [ 7.86891668e-02  4.71761572e-02  1.66798594e+00  9.53194820e-02]\n [ 1.39733093e-02  4.17648104e-02  3.34571356e-01  7.37948671e-01]\n [ 1.45992224e-01  4.16807137e-02  3.50263254e+00  4.60746363e-04]\n [ 4.73375988e-02  4.18130914e-02  1.13212387e+00  2.57583196e-01]\n [-4.47627556e-03  1.58098657e-01 -2.83131789e-02  9.77412387e-01]\n [ 1.53290790e-01  4.17279820e-02  3.67357304e+00  2.39220633e-04]\n [ 3.85406401e-02  4.33518136e-02  8.89020249e-01  3.73992855e-01]\n [ 1.67223613e-02  4.49782256e-02  3.71787928e-01  7.10050995e-01]\n [-1.30508266e-01  1.25136505e-01 -1.04292721e+00  2.96982783e-01]\n [-5.94271461e-02  4.15618763e-02 -1.42984753e+00  1.52761746e-01]\n [ 2.84344440e-02  4.13408284e-02  6.87805374e-01  4.91575843e-01]\n [ 1.73977454e-01  4.19832942e-02  4.14396862e+00  3.41432759e-05]\n [ 3.94403728e-02  4.11445165e-02  9.58581511e-01  3.37770324e-01]\n [ 6.13496227e-02  4.09594864e-02  1.49781230e+00  1.34182995e-01]\n [ 3.10931211e-02  4.13867860e-02  7.51281365e-01  4.52483886e-01]\n [ 3.21516932e-02  4.10664673e-02  7.82918408e-01  4.33675598e-01]\n [ 7.43449549e-02  4.13548209e-02  1.79773369e+00  7.22201472e-02]\n [ 7.96990559e-02  4.15683911e-02  1.91729951e+00  5.52007679e-02]\n [-5.17915147e-02  4.92583895e-02 -1.05142525e+00  2.93064104e-01]\n [ 3.40369767e-02  4.24023225e-02  8.02714915e-01  4.22140117e-01]\n [ 4.32895983e-02  4.30695136e-02  1.00510999e+00  3.14844639e-01]\n [ 5.13035390e-02  4.12735376e-02  1.24301289e+00  2.13863982e-01]\n [ 1.39908985e-01  4.09471543e-02  3.41681827e+00  6.33653110e-04]\n [-2.02910893e-02  4.63872925e-02 -4.37427756e-01  6.61801449e-01]\n [-7.31526355e-02  4.18892838e-02 -1.74633293e+00  8.07540623e-02]\n [ 7.75713082e-02  4.94359896e-02  1.56912623e+00  1.16619502e-01]\n [ 9.76440252e-02  4.17047872e-02  2.34131456e+00  1.92165705e-02]\n [-1.13634220e-04  4.11357506e-02 -2.76241999e-03  9.97795912e-01]\n [ 1.12365586e-01  5.67629044e-02  1.97956019e+00  4.77538127e-02]\n [ 7.36994997e-03  7.06982193e-02  1.04245199e-01  9.16974830e-01]\n [ 4.51845935e-02  4.10538792e-02  1.10061691e+00  2.71064240e-01]\n [-2.43876403e-02  5.05277746e-02 -4.82658112e-01  6.29338835e-01]\n [ 4.15320161e-02  4.30601808e-02  9.64510955e-01  3.34790537e-01]\n [-1.11976451e-02  5.65063666e-02 -1.98166079e-01  8.42915251e-01]\n [ 1.74740569e-01  4.23625304e-02  4.12488507e+00  3.71012070e-05]\n [ 1.38930583e-01  4.12120889e-02  3.37111238e+00  7.48740262e-04]\n [ 1.32474504e-01  1.58074219e-01  8.38052559e-01  4.02001802e-01]\n [ 2.44556005e-02  5.02962272e-02  4.86231312e-01  6.26803501e-01]\n [ 7.20209158e-02  4.10587041e-02  1.75409617e+00  7.94149716e-02]\n [ 4.53439663e-02  4.09355367e-02  1.10769199e+00  2.67995678e-01]\n [ 3.81821664e-02  4.08879599e-02  9.33824199e-01  3.50395278e-01]\n [-9.69884745e-02  1.91444303e-01 -5.06614576e-01  6.12425623e-01]\n [ 6.41332941e-02  4.10276183e-02  1.56317371e+00  1.18012717e-01]\n [ 7.20344658e-02  4.09614547e-02  1.75859149e+00  7.86478604e-02]\n [-1.07588944e-01  1.07986544e-01 -9.96318054e-01  3.19096376e-01]\n [ 1.25686227e-01  4.15128888e-02  3.02764347e+00  2.46487998e-03]\n [ 1.24200010e-01  4.10531534e-02  3.02534641e+00  2.48367913e-03]\n [ 3.90512145e-02  4.10587013e-02  9.51106908e-01  3.41550816e-01]\n [ 3.69353873e-02  4.15586480e-02  8.88753344e-01  3.74136313e-01]\n [ 1.07336803e-01  4.24204894e-02  2.53030562e+00  1.13967892e-02]\n [ 2.32830626e-02  4.15028462e-02  5.60999177e-01  5.74798485e-01]\n [ 5.34768471e-02  4.09370616e-02  1.30631865e+00  1.91445141e-01]\n [ 1.26152180e-01  4.37705331e-02  2.88212573e+00  3.95027955e-03]\n [ 1.81137729e-02  4.11182491e-02  4.40528800e-01  6.59554451e-01]\n [ 4.29978289e-02  4.11276274e-02  1.04547312e+00  2.95805136e-01]\n [ 7.51909429e-02  4.19621641e-02  1.79187476e+00  7.31539595e-02]\n [-8.58897238e-03  4.81054097e-02 -1.78544834e-01  8.58295226e-01]\n [ 4.53683414e-02  4.14146406e-02  1.09546626e+00  2.73313232e-01]\n [-1.03026411e-02  4.20645078e-02 -2.44924799e-01  8.06514814e-01]\n [ 6.27728921e-02  4.15177608e-02  1.51195274e+00  1.30546859e-01]\n [ 3.46904777e-02  4.17286704e-02  8.31334364e-01  4.05785377e-01]\n [ 1.40169567e-01  4.12500776e-02  3.39804371e+00  6.78777120e-04]\n [-5.42178383e-03  4.63545606e-02 -1.16963331e-01  9.06889184e-01]\n [ 1.11588362e-01  4.08425551e-02  2.73215918e+00  6.29241316e-03]\n [-1.00316965e-01  6.20676957e-02 -1.61625084e+00  1.06041061e-01]\n [ 1.98402569e-01  8.39511248e-02  2.36331043e+00  1.81130757e-02]\n [ 3.26721939e-02  8.16333821e-02  4.00230801e-01  6.88986794e-01]\n [-5.13019951e-02  4.19518196e-02 -1.22287890e+00  2.21376325e-01]\n [ 1.02115716e-01  7.06958868e-02  1.44443645e+00  1.48617207e-01]\n [ 8.07452129e-02  4.20828082e-02  1.91872207e+00  5.50203917e-02]\n [ 3.81183866e-02  4.11060547e-02  9.27318052e-01  3.53762113e-01]\n [ 7.17476088e-02  4.20756795e-02  1.70520381e+00  8.81573763e-02]\n [ 1.26738533e-02  4.31266365e-02  2.93875302e-01  7.68853379e-01]\n [ 9.46504141e-02  5.32191847e-02  1.77850177e+00  7.53224165e-02]\n [ 1.62601022e-01  4.16913039e-02  3.90011842e+00  9.61649677e-05]\n [ 1.08490001e-01  4.13400050e-02  2.62433450e+00  8.68225330e-03]\n [ 1.19456525e-01  4.10332506e-02  2.91121282e+00  3.60053157e-03]\n [ 5.71269946e-02  4.37971147e-02  1.30435521e+00  1.92113424e-01]\n [ 2.08253885e-02  1.38413752e-01  1.50457510e-01  8.80403764e-01]\n [ 3.03627396e-02  4.79236909e-02  6.33564298e-01  5.26365652e-01]\n [ 1.01454766e-01  4.09340287e-02  2.47849451e+00  1.31943178e-02]\n [ 8.86776799e-02  4.23431674e-02  2.09426185e+00  3.62374336e-02]\n [ 8.28667815e-02  4.91056781e-02  1.68751934e+00  9.15044939e-02]\n [-4.16209158e-02  5.37915871e-02 -7.73743964e-01  4.39082779e-01]\n [ 3.68394245e-02  4.44191484e-02  8.29359091e-01  4.06901852e-01]\n [-8.84729292e-02  4.70368124e-02 -1.88092952e+00  5.99823996e-02]\n [-6.08783306e-03  4.53097997e-02 -1.34360185e-01  8.93117847e-01]\n [-3.48838063e-02  4.55305188e-02 -7.66163164e-01  4.43579780e-01]\n [ 3.25689876e-02  4.68302591e-02  6.95468875e-01  4.86762008e-01]\n [ 3.34222593e-02  4.48236996e-02  7.45638126e-01  4.55886585e-01]\n [ 3.81529948e-03  5.21475358e-02  7.31635623e-02  9.41676007e-01]\n [ 9.20063272e-02  4.16164907e-02  2.21081416e+00  2.70494023e-02]\n [ 4.87980489e-02  4.10067641e-02  1.18999999e+00  2.34047265e-01]\n [ 4.25593747e-02  4.20743908e-02  1.01152682e+00  3.11765105e-01]\n [-5.30997458e-04  4.20789817e-02 -1.26190662e-02  9.89931717e-01]\n [-1.05794528e-01  2.67654499e-01 -3.95265270e-01  6.92647387e-01]\n [ 7.05954793e-02  4.23351515e-02  1.66753813e+00  9.54084125e-02]\n [ 9.67149337e-02  4.26547018e-02  2.26739209e+00  2.33669379e-02]\n [ 1.02946846e-01  4.23102609e-02  2.43314137e+00  1.49689908e-02]\n [ 4.87357342e-02  4.08847792e-02  1.19202635e+00  2.33251783e-01]\n [ 8.65758234e-02  4.08917227e-02  2.11719678e+00  3.42439086e-02]\n [-1.20335936e-01  1.25134515e-01 -9.61652639e-01  3.36224836e-01]\n [-9.20764237e-02  1.07986403e-01 -8.52666828e-01  3.93844720e-01]\n [ 2.41267421e-03  4.84305969e-02  4.98171480e-02  9.60268132e-01]\n [ 6.27439907e-02  4.39120337e-02  1.42885641e+00  1.53046470e-01]\n [-1.95501917e-02  4.11161934e-02 -4.75486422e-01  6.34440628e-01]\n [ 3.03215789e-02  4.56339479e-02  6.64452240e-01  5.06401378e-01]\n [ 1.00200786e-01  4.08675460e-02  2.45184250e+00  1.42132081e-02]\n [-1.41124242e-02  4.36078480e-02 -3.23621202e-01  7.46225042e-01]\n [ 1.35128756e-01  4.17810224e-02  3.23421373e+00  1.21990314e-03]\n [-1.94404105e-01  1.38410981e-01 -1.40454250e+00  1.60158322e-01]\n [ 1.08234271e-01  4.12871883e-02  2.62149774e+00  8.75484208e-03]\n [ 1.23694512e-01  4.09691033e-02  3.01921454e+00  2.53450653e-03]\n [ 1.10353073e-01  4.10022453e-02  2.69139098e+00  7.11583916e-03]\n [-1.51414801e-03  4.28965930e-02 -3.52976286e-02  9.71842436e-01]\n [ 1.44646222e-01  4.09018215e-02  3.53642496e+00  4.05638136e-04]\n [ 5.16386268e-02  6.05374557e-02  8.53002926e-01  3.93658310e-01]\n [ 1.34959055e-01  4.20501617e-02  3.20947767e+00  1.32989281e-03]\n [-1.15211219e-02  4.24177267e-02 -2.71611017e-01  7.85921300e-01]\n [ 4.21128164e-02  4.26610112e-02  9.87149980e-01  3.23569854e-01]\n [-5.78541403e-02  4.19389461e-02 -1.37948484e+00  1.67746267e-01]\n [ 1.83558679e-02  4.50598758e-02  4.07366145e-01  6.83739356e-01]\n [ 1.85314484e-01  4.15198486e-02  4.46327456e+00  8.07435911e-06]\n [ 1.23658618e-01  4.25965778e-02  2.90301767e+00  3.69610628e-03]\n [ 7.29667201e-02  4.11380574e-02  1.77370359e+00  7.61131290e-02]\n [ 2.02981317e-01  5.37922498e-02  3.77343052e+00  1.61046645e-04]\n [ 1.27170817e-01  4.09597973e-02  3.10477163e+00  1.90442347e-03]\n [ 1.28552741e-01  4.10722098e-02  3.12992026e+00  1.74869237e-03]\n [ 1.85985688e-02  4.75895863e-02  3.90811735e-01  6.95936657e-01]\n [-8.94341814e-02  4.56324230e-02 -1.95988237e+00  5.00103939e-02]\n [ 3.77250517e-02  4.25349778e-02  8.86918334e-01  3.75123526e-01]\n [ 1.85238968e-02  4.12976505e-02  4.48546020e-01  6.53759480e-01]\n [ 7.51774878e-03  4.10357657e-02  1.83199915e-01  8.54641276e-01]\n [ 1.14694913e-02  4.22276246e-02  2.71611093e-01  7.85921242e-01]\n [ 9.68266899e-02  4.09434719e-02  2.36488713e+00  1.80361507e-02]\n [ 9.26696236e-02  4.08573385e-02  2.26812678e+00  2.33221338e-02]\n [ 9.66969869e-02  4.22301386e-02  2.28976248e+00  2.20357272e-02]\n [ 1.03522460e-02  4.41180042e-02  2.34649010e-01  8.14481314e-01]\n [ 1.29582180e-01  4.13901130e-02  3.13075204e+00  1.74374758e-03]\n [-9.77741264e-03  4.39443598e-02 -2.22495280e-01  8.23928487e-01]\n [ 4.57819557e-02  4.09156399e-02  1.11893535e+00  2.63168549e-01]\n [ 6.42266594e-02  4.35611601e-02  1.47440195e+00  1.40374369e-01]\n [ 2.69204582e-02  4.13185020e-02  6.51535194e-01  5.14701527e-01]\n [ 8.13982518e-02  1.15442912e-01  7.05095272e-01  4.80751454e-01]\n [ 4.77795822e-02  4.33666206e-02  1.10175941e+00  2.70567098e-01]\n [ 1.03861010e-01  4.13385103e-02  2.51245168e+00  1.19900325e-02]\n [ 3.44521189e-02  4.51888380e-02  7.62403293e-01  4.45819895e-01]\n [ 1.18760286e-01  4.51066867e-02  2.63287540e+00  8.46694066e-03]\n [ 3.91906055e-02  4.16318073e-02  9.41362099e-01  3.46520029e-01]\n [ 9.22948111e-02  4.10781663e-02  2.24680942e+00  2.46528777e-02]\n [ 1.44257152e-01  4.12973572e-02  3.49313278e+00  4.77452507e-04]\n [ 8.32593388e-02  4.10775069e-02  2.02688393e+00  4.26750990e-02]\n [ 6.60272170e-02  4.17749762e-02  1.58054469e+00  1.13983153e-01]\n [ 9.10701908e-03  4.18779852e-02  2.17465550e-01  8.27845688e-01]\n [ 1.42392850e-01  4.15433696e-02  3.42757103e+00  6.09082358e-04]\n [ 8.52438068e-02  4.14361531e-02  2.05723264e+00  3.96646490e-02]\n [ 8.20500923e-02  4.09260303e-02  2.00483877e+00  4.49811141e-02]\n [ 6.58519409e-02  4.38063413e-02  1.50325133e+00  1.32775217e-01]\n [ 5.35051197e-03  2.50550536e-02  2.13550211e-01  8.30897964e-01]\n [-7.25420713e-03  2.40137735e-02 -3.02085264e-01  7.62587259e-01]\n [-2.14913101e-02  2.39053905e-02 -8.99015227e-01  3.68645216e-01]\n [ 3.37500373e-03  1.10533574e-03  3.05337429e+00  2.26301796e-03]]\n"
     ]
    }
   ],
   "source": [
    "import numpy as np\n",
    "coeffs = base.summary(model).rx2('coefficients')\n",
    "print(np.array(coeffs))"
   ]
  },
  {
   "cell_type": "code",
   "execution_count": 0,
   "metadata": {
    "application/vnd.databricks.v1+cell": {
     "cellMetadata": {
      "byteLimit": 2048000,
      "rowLimit": 10000
     },
     "inputWidgets": {},
     "nuid": "7f873086-ad06-4a26-809a-9d7a45acc3a4",
     "showTitle": false,
     "title": ""
    }
   },
   "outputs": [
    {
     "output_type": "stream",
     "name": "stdout",
     "output_type": "stream",
     "text": [
      "R[write to console]: Waiting for profiling to be done...\n\n"
     ]
    }
   ],
   "source": [
    "a = stats.confint_glm(model)\n",
    "#confint(model)"
   ]
  },
  {
   "cell_type": "code",
   "execution_count": 0,
   "metadata": {
    "application/vnd.databricks.v1+cell": {
     "cellMetadata": {
      "byteLimit": 2048000,
      "rowLimit": 10000
     },
     "inputWidgets": {},
     "nuid": "12ab436b-30b0-42b2-a28b-aa3bb52be5d8",
     "showTitle": false,
     "title": ""
    }
   },
   "outputs": [
    {
     "output_type": "stream",
     "name": "stdout",
     "output_type": "stream",
     "text": [
      "                                                             2.5 %       97.5 %\n(Intercept)                                           -0.270322363  0.199280070\nG1                                                    -0.010649135 -0.001308638\nyear2019                                              -0.004930915  0.008202793\nyear2020                                               0.002977001  0.015992692\nyear2021                                               0.008817089  0.021611811\nyear2022                                               0.026163530  0.040153940\nSubField_Englishanalytical chemistry                  -0.067429467  0.019743199\nSubField_Englishapplied mathematics                   -0.442599080  0.026572358\nSubField_Englishapplied physics                       -0.173130718 -0.087806568\nSubField_Englishastronomy & astrophysics              -0.050829960  0.029944011\nSubField_Englishchemical physics                      -0.188674460 -0.100961229\nSubField_Englishecology                               -0.073316707  0.006862386\nSubField_Englishentomology                            -0.077403003  0.007886787\nSubField_Englishenvironmental sciences                -0.058733707  0.021845600\nSubField_Englishevolutionary biology                  -0.094099212 -0.012144404\nSubField_Englishfluids & plasmas                      -0.127406600 -0.038382890\nSubField_Englishgeneral chemistry                     -0.270237050 -0.070889164\nSubField_Englishgeneral mathematics                   -0.175988530  0.111955104\nSubField_Englishgeneral physics                       -0.167765079 -0.079564680\nSubField_Englishgeochemistry & geophysics             -0.074428425  0.007452919\nSubField_Englishgeology                               -0.057572850  0.097861066\nSubField_Englishinorganic & nuclear chemistry         -0.220484803 -0.099273570\nSubField_Englishmarine biology & hydrobiology         -0.064192743  0.016934506\nSubField_Englishmathematical physics                  -0.710428803  0.327003170\nSubField_Englishmedicinal & biomolecular chemistry    -0.014722197  0.076059742\nSubField_Englishmeteorology & atmospheric sciences    -0.063283528  0.016908172\nSubField_Englishnuclear & particle physics            -0.134043434 -0.034232556\nSubField_Englishnumerical & computational mathematics -0.533740110 -0.010707405\nSubField_Englishoceanography                          -0.119746973 -0.024869535\nSubField_Englishoptics                                -0.128689833 -0.037148628\nSubField_Englishorganic chemistry                     -0.172604797 -0.084512999\nSubField_Englishornithology                           -0.103870869  0.005331334\nSubField_Englishpaleontology                          -0.041593004  0.040499545\nSubField_Englishphysical chemistry                    -0.219367456 -0.106664172\nSubField_Englishplant biology & botany                -0.094062699 -0.010701236\nSubField_Englishpolymers                              -0.102584809 -0.012393182\nSubField_Englishstatistics & probability              -0.012507161  0.097221243\nSubField_Englishzoology                               -0.053492823  0.047663210\nq1                                                    -0.319107632  0.186389659\nq2                                                    -0.215882416  0.247990462\nq3                                                    -0.239383961  0.223301973\nopenaccess_statusYES                                  -0.001382763  0.007670764\n\n"
     ]
    }
   ],
   "source": [
    "print(a)"
   ]
  },
  {
   "cell_type": "code",
   "execution_count": 0,
   "metadata": {
    "application/vnd.databricks.v1+cell": {
     "cellMetadata": {
      "byteLimit": 2048000,
      "rowLimit": 10000
     },
     "inputWidgets": {},
     "nuid": "8ef6bd9f-33da-4586-88e6-510efb1ec195",
     "showTitle": false,
     "title": ""
    }
   },
   "outputs": [
    {
     "output_type": "display_data",
     "data": {
      "text/plain": [
       "\u001B[0;31m---------------------------------------------------------------------------\u001B[0m\n",
       "\u001B[0;31mAttributeError\u001B[0m                            Traceback (most recent call last)\n",
       "\u001B[0;32m<command-1342674571194513>\u001B[0m in \u001B[0;36m<cell line: 1>\u001B[0;34m()\u001B[0m\n",
       "\u001B[0;32m----> 1\u001B[0;31m \u001B[0mprint\u001B[0m\u001B[0;34m(\u001B[0m\u001B[0mstats\u001B[0m\u001B[0;34m.\u001B[0m\u001B[0mconfint\u001B[0m\u001B[0;34m(\u001B[0m\u001B[0mmodel\u001B[0m\u001B[0;34m)\u001B[0m\u001B[0;34m)\u001B[0m\u001B[0;34m\u001B[0m\u001B[0;34m\u001B[0m\u001B[0m\n",
       "\u001B[0m\n",
       "\u001B[0;31mAttributeError\u001B[0m: module 'MASS' has no attribute 'confint'"
      ]
     },
     "metadata": {
      "application/vnd.databricks.v1+output": {
       "arguments": {},
       "data": "\u001B[0;31m---------------------------------------------------------------------------\u001B[0m\n\u001B[0;31mAttributeError\u001B[0m                            Traceback (most recent call last)\n\u001B[0;32m<command-1342674571194513>\u001B[0m in \u001B[0;36m<cell line: 1>\u001B[0;34m()\u001B[0m\n\u001B[0;32m----> 1\u001B[0;31m \u001B[0mprint\u001B[0m\u001B[0;34m(\u001B[0m\u001B[0mstats\u001B[0m\u001B[0;34m.\u001B[0m\u001B[0mconfint\u001B[0m\u001B[0;34m(\u001B[0m\u001B[0mmodel\u001B[0m\u001B[0;34m)\u001B[0m\u001B[0;34m)\u001B[0m\u001B[0;34m\u001B[0m\u001B[0;34m\u001B[0m\u001B[0m\n\u001B[0m\n\u001B[0;31mAttributeError\u001B[0m: module 'MASS' has no attribute 'confint'",
       "errorSummary": "<span class='ansi-red-fg'>AttributeError</span>: module 'MASS' has no attribute 'confint'",
       "errorTraceType": "ansi",
       "metadata": {},
       "type": "ipynbError"
      }
     },
     "output_type": "display_data"
    }
   ],
   "source": [
    "print(stats.confint(model))"
   ]
  },
  {
   "cell_type": "markdown",
   "metadata": {
    "application/vnd.databricks.v1+cell": {
     "cellMetadata": {},
     "inputWidgets": {},
     "nuid": "67fdef25-193d-4fe6-ac0c-798343f9fe30",
     "showTitle": false,
     "title": ""
    }
   },
   "source": [
    "### Weighted Regression"
   ]
  },
  {
   "cell_type": "code",
   "execution_count": 0,
   "metadata": {
    "application/vnd.databricks.v1+cell": {
     "cellMetadata": {
      "byteLimit": 2048000,
      "rowLimit": 10000
     },
     "inputWidgets": {},
     "nuid": "422bbed5-f9db-42d4-8533-a782a49c1093",
     "showTitle": false,
     "title": ""
    }
   },
   "outputs": [
    {
     "output_type": "stream",
     "name": "stdout",
     "output_type": "stream",
     "text": [
      "61269\n61269\n"
     ]
    }
   ],
   "source": [
    "a = pd.DataFrame()\n",
    "a['doi'] = dummy['doi']\n",
    "a['ideology'] = dummy['ideology']\n",
    "new_df = a.groupby('doi')['ideology'].mean().reset_index()\n",
    "'''print(len(dummy))\n",
    "print(dummy['doi'].nunique())\n",
    "print(len(new_df))'''\n",
    "x = dummy.copy(deep = True)\n",
    "x = x.drop(columns = ['ideology'])\n",
    "x = x.drop_duplicates(subset = ['doi'])\n",
    "print(len(x))\n",
    "\n",
    "ideo = x.merge(new_df, on = 'doi', how = \"inner\")\n",
    "print(len(ideo))\n",
    "#print(ideo.head(5))"
   ]
  },
  {
   "cell_type": "code",
   "execution_count": 0,
   "metadata": {
    "application/vnd.databricks.v1+cell": {
     "cellMetadata": {
      "byteLimit": 2048000,
      "rowLimit": 10000
     },
     "inputWidgets": {},
     "nuid": "b8cbfd6c-fda3-46e5-8355-1f1b83ea0fdc",
     "showTitle": false,
     "title": ""
    }
   },
   "outputs": [
    {
     "output_type": "stream",
     "name": "stdout",
     "output_type": "stream",
     "text": [
      "325133\n\nCall:\n(function (formula, family = gaussian, data, weights, subset, \n    na.action, start = NULL, etastart, mustart, offset, control = list(...), \n    model = TRUE, method = \"glm.fit\", x = FALSE, y = TRUE, singular.ok = TRUE, \n    contrasts = NULL, ...) \n{\n    cal <- match.call()\n    if (is.character(family)) \n        family <- get(family, mode = \"function\", envir = parent.frame())\n    if (is.function(family)) \n        family <- family()\n    if (is.null(family$family)) {\n        print(family)\n        stop(\"'family' not recognized\")\n    }\n    if (missing(data)) \n        data <- environment(formula)\n    mf <- match.call(expand.dots = FALSE)\n    m <- match(c(\"formula\", \"data\", \"subset\", \"weights\", \"na.action\", \n        \"etastart\", \"mustart\", \"offset\"), names(mf), 0L)\n    mf <- mf[c(1L, m)]\n    mf$drop.unused.levels <- TRUE\n    mf[[1L]] <- quote(stats::model.frame)\n    mf <- eval(mf, parent.frame())\n    if (identical(method, \"model.frame\")) \n        return(mf)\n    if (!is.character(method) && !is.function(method)) \n        stop(\"invalid 'method' argument\")\n    if (identical(method, \"glm.fit\")) \n        control <- do.call(\"glm.control\", control)\n    mt <- attr(mf, \"terms\")\n    Y <- model.response(mf, \"any\")\n    if (length(dim(Y)) == 1L) {\n        nm <- rownames(Y)\n        dim(Y) <- NULL\n        if (!is.null(nm)) \n            names(Y) <- nm\n    }\n    X <- if (!is.empty.model(mt)) \n        model.matrix(mt, mf, contrasts)\n    else matrix(, NROW(Y), 0L)\n    weights <- as.vector(model.weights(mf))\n    if (!is.null(weights) && !is.numeric(weights)) \n        stop(\"'weights' must be a numeric vector\")\n    if (!is.null(weights) && any(weights < 0)) \n        stop(\"negative weights not allowed\")\n    offset <- as.vector(model.offset(mf))\n    if (!is.null(offset)) {\n        if (length(offset) != NROW(Y)) \n            stop(gettextf(\"number of offsets is %d should equal %d (number of observations)\", \n                length(offset), NROW(Y)), domain = NA)\n    }\n    mustart <- model.extract(mf, \"mustart\")\n    etastart <- model.extract(mf, \"etastart\")\n    fit <- eval(call(if (is.function(method)) \"method\" else method, \n        x = X, y = Y, weights = weights, start = start, etastart = etastart, \n        mustart = mustart, offset = offset, family = family, \n        control = control, intercept = attr(mt, \"intercept\") > \n            0L, singular.ok = singular.ok))\n    if (length(offset) && attr(mt, \"intercept\") > 0L) {\n        fit2 <- eval(call(if (is.function(method)) \"method\" else method, \n            x = X[, \"(Intercept)\", drop = FALSE], y = Y, mustart = fit$fitted.values, \n            weights = weights, offset = offset, family = family, \n            control = control, intercept = TRUE))\n        if (!fit2$converged) \n            warning(\"fitting to calculate the null deviance did not converge -- increase 'maxit'?\")\n        fit$null.deviance <- fit2$deviance\n    }\n    if (model) \n        fit$model <- mf\n    fit$na.action <- attr(mf, \"na.action\")\n    if (x) \n        fit$x <- X\n    if (!y) \n        fit$y <- NULL\n    structure(c(fit, list(call = cal, formula = formula, terms = mt, \n        data = data, offset = offset, control = control, method = method, \n        contrasts = attr(X, \"contrasts\"), xlevels = .getXlevels(mt, \n            mf))), class = c(fit$class, c(\"glm\", \"lm\")))\n})(formula = \"ideology ~ G+year+SubField_English+q\", family = function (link = \"identity\") \n{\n    linktemp <- substitute(link)\n    if (!is.character(linktemp)) \n        linktemp <- deparse(linktemp)\n    okLinks <- c(\"inverse\", \"log\", \"identity\")\n    family <- \"gaussian\"\n    if (linktemp %in% okLinks) \n        stats <- make.link(linktemp)\n    else if (is.character(link)) {\n        stats <- make.link(link)\n        linktemp <- link\n    }\n    else {\n        if (inherits(link, \"link-glm\")) {\n            stats <- link\n            if (!is.null(stats$name)) \n                linktemp <- stats$name\n        }\n        else {\n            stop(gettextf(\"link \\\"%s\\\" not available for %s family; available links are %s\", \n                linktemp, family, paste(sQuote(okLinks), collapse = \", \")), \n                domain = NA)\n        }\n    }\n    structure(list(family = family, link = linktemp, linkfun = stats$linkfun, \n        linkinv = stats$linkinv, variance = function(mu) rep.int(1, \n            length(mu)), dev.resids = function(y, mu, wt) wt * \n            ((y - mu)^2), aic = function(y, n, mu, wt, dev) {\n            nobs <- length(y)\n            nobs * (log(dev/nobs * 2 * pi) + 1) + 2 - sum(log(wt))\n        }, mu.eta = stats$mu.eta, initialize = expression({\n            n <- rep.int(1, nobs)\n            if (is.null(etastart) && is.null(start) && is.null(mustart) && \n                ((family$link == \"inverse\" && any(y == 0)) || \n                  (family$link == \"log\" && any(y <= 0)))) stop(\"cannot find valid starting values: please specify some\")\n            mustart <- y\n        }), validmu = function(mu) TRUE, valideta = stats$valideta), \n        class = \"family\")\n}, data = structure(list(ideology = c(0.0848, 0.0848, 0.0848, \n0.0848, 0.0848, 0.0848, 0.0848, 0.0848, 0.0848, 0.0848, 0.0848, \n0.0848, 0.0848, 0.0848, 0.0848, 0.0848, 0.0848, 0.0848, 0.0848, \n0.0848, 0.0848, 0.0848, 0.0848, 0.0848, 0.0848, 0.0848, 0.0848, \n0.0848, 0.0848, 0.0848, 0.0848, 0.0848, 0.0848, 0.0848, 0.0848, \n0.0848, 0.0848, 0.0848, 0.0848, 0.0848, 0.0848, 0.0848, 0.0848, \n0.0848, 0.0848, 0.0848, 0.0848, 0.0848, 0.0848, 0.0848, 0.0848, \n0.0848, 0.0848, 0.0848, 0.0848, 0.0848, 0.0848, 0.0848, 0.0848, \n0.0848, 0.0848, 0.0848, 0.0848, 0.0848, 0.0848, 0.0848, 0.0848, \n0.0848, 0.0848, 0.0848, 0.0848, 0.0848, 0.0848, 0.0848, 0.0848, \n0.0848, 0.0848, 0.0848, 0.0848, 0.0848, 0.0848, 0.0848, 0.0848, \n0.0848, 0.0848, 0.0848, 0.0848, 0.0848, 0.0848, 0.0848, 0.0848, \n0.0848, 0.0848, 0.0848, 0.0848, 0.0848, 0.0848, 0.0848, 0.0848, \n0.0848, 0.0848, 0.0848, 0.0848, 0.0848, 0.0848, 0.0848, 0.0848, \n0.0848, 0.0848, 0.0848, 0.0848, 0.0848, 0.0848, 0.0848, 0.0848, \n0.0848, 0.0848, 0.0848, 0.0848, 0.0848, 0.0848, 0.0848, 0.0848, \n0.0848, 0.0848, 0.0848, 0.0848, 0.0848, 0.0848, 0.0848, 0.0848, \n0.0848, 0.0848, 0.0848, 0.0848, 0.0848, 0.0848, 0.0848, 0.0848, \n0.0848, 0.0848, 0.0848, 0.0848, 0.0848, 0.0848, 0.0848, 0.0848, \n0.0848, 0.0848, 0.0848, 0.0848, 0.0848, 0.0848, 0.0848, 0.0848, \n0.0848, 0.0848, 0.0848, 0.0848, 0.0848, 0.0848, 0.0848, 0.0848, \n0.0848, 0.0848, 0.0848, 0.0848, 0.0848, 0.0848, 0.0848, 0.0848, \n0.0848, 0.0848, 0.0848, 0.0848, 0.0848, 0.0848, 0.0848, 0.0848, \n0.0848, 0.0848, 0.0848, 0.0848, 0.0848, 0.0848, 0.0848, 0.0848, \n0.0848, 0.0848, 0.0848, 0.0848, 0.0848, 0.0848, 0.0848, 0.0848, \n0.0848, 0.0848, 0.0848, 0.0848, 0.0848, 0.0848, 0.0848, 0.0848, \n0.0848, 0.0848, 0.0848, 0.0848, 0.0848, 0.0848, 0.0848, 0.0848, \n0.0848, 0.0848, 0.0848, 0.0848, 0.0848, 0.0848, 0.0848, 0.0848, \n0.0848, 0.0848, 0.0848, 0.0848, 0.0848, 0.0848, 0.0848, 0.0848, \n0.0848, 0.0848, 0.0848, 0.0848, 0.0848, 0.0848, 0.0848, 0.0848, \n0.0848, 0.0848, 0.0848, 0.0848, 0.0848, 0.0848, 0.0848, 0.0848, \n0.0848, 0.0848, 0.0848, 0.0848, 0.0848, 0.0848, 0.0848, 0.0848, \n0.0848, 0.0848, 0.0848, 0.0848, 0.0848, 0.0848, 0.0848, 0.0848, \n0.0848, 0.0848, 0.0848, 0.0848, 0.0848, 0.0848, 0.0848, 0.0848, \n0.0848, 0.0848, 0.0848, 0.0848, 0.0848, 0.0848, 0.0848, 0.0848, \n0.0848, 0.0848, 0.0848, 0.0848, 0.0848, 0.0848, 0.0848, 0.0848, \n0.0848, 0.0848, 0.0848, 0.0848, 0.0848, 0.0848, 0.0848, 0.0848, \n0.0848, 0.0848, 0.0848, 0.0848, 0.0848, 0.0848, 0.0848, 0.0848, \n0.0848, 0.0848, 0.0848, 0.0848, 0.0848, 0.0848, 0.0848, 0.0848, \n0.0848, 0.0848, 0.0848, 0.0848, 0.0848, 0.0848, 0.0848, 0.0848, \n0.0848, 0.0848, 0.0848, 0.0848, 0.0848, 0.0848, 0.0848, 0.0848, \n0.0848, 0.0848, 0.0848, 0.0848, 0.0848, 0.0848, 0.0848, 0.0848, \n0.0848, 0.0848, 0.0848, 0.0848, 0.0848, 0.0848, 0.0848, 0.0848, \n0.0848, 0.0848, 0.0848, 0.0848, 0.0848, 0.0848, 0.0848, 0.0848, \n0.0848, 0.0848, 0.0848, 0.0848, 0.0848, 0.0848, 0.0848, 0.0848, \n0.0848, 0.0848, 0.0848, 0.0848, 0.0848, 0.0848, 0.0848, 0.0848, \n0.0848, 0.0848, 0.0848, 0.0848, 0.0848, 0.0848, 0.0848, 0.0848, \n0.0848, 0.0848, 0.0848, 0.0848, 0.0848, 0.0848, 0.0848, 0.0848, \n0.0848, 0.0848, 0.0848, 0.0848, 0.0848, 0.0848, 0.0848, 0.0848, \n0.0848, 0.0848, 0.0848, 0.0848, 0.0848, 0.0848, 0.0848, 0.0848, \n0.0848, 0.0848, 0.0848, 0.0848, 0.0848, 0.0848, 0.0848, 0.0848, \n0.0848, 0.0848, 0.0848, 0.0848, 0.0848, 0.0848, 0.0848, 0.0848, \n0.0848, 0.0848, 0.0848, 0.0848, 0.0848, 0.0848, 0.0848, 0.0848, \n0.0848, 0.0848, 0.0848, 0.0848, 0.0848, 0.0848, 0.0848, 0.0848, \n0.0848, 0.0848, 0.0848, 0.0848, 0.0848, 0.0848, 0.0848, 0.0848, \n0.0848, 0.0848, 0.0848, 0.0848, 0.0848, 0.0848, 0.0848, 0.0848, \n0.0848, 0.0848, 0.0848, 0.0848, 0.0848, 0.0848, 0.0848, 0.0848, \n0.0848, 0.0848, 0.0848, 0.0848, 0.0848, 0.0848, 0.0848, 0.0848, \n0.0848, 0.0848, 0.0848, 0.0848, 0.0848, 0.0848, 0.0848, 0.0848, \n0.0848, 0.0848, 0.0848, 0.0848, 0.0848, 0.0848, 0.0848, 0.0848, \n0.0848, 0.0848, 0.0848, 0.0848, 0.0848, 0.0848, 0.0848, 0.0848, \n0.0848, 0.0848, 0.0848, 0.0848, 0.0848, 0.0848, 0.0848, 0.0848, \n0.0848, 0.0848, 0.0848, 0.0848, 0.0848, 0.0848, 0.0848, 0.0848, \n0.0848, 0.0848, 0.0848, 0.0848, 0.0848, 0.0848, 0.0848, 0.0848, \n0.0848, 0.0848, 0.0848, 0.0848, 0.0848, 0.0848, 0.0848, 0.0848, \n0.0848, 0.0848, 0.0848, 0.0848, 0.0848, 0.0848, 0.0848, 0.0848, \n0.0848, 0.0848, 0.0848, 0.0848, 0.0848, 0.0848, 0.0848, 0.0848, \n0.0848, 0.0848, 0.0848, 0.0848, 0.0848, 0.0848, 0.0848, 0.0848, \n0.0848, 0.0848, 0.0848, 0.0848, 0.0848, 0.0848, 0.0848, 0.0848, \n0.0848, 0.0848, 0.0848, 0.0848, 0.0848, 0.0848, 0.0848, 0.0848, \n0.0848, 0.0848, 0.0848, 0.0848, 0.0848, 0.0848, 0.0848, 0.0848, \n0.0848, 0.0848, 0.0848, 0.0848, 0.0848, 0.0848, 0.0848, 0.0848, \n0.0848, 0.0848, 0.0848, 0.0848, 0.0848, 0.0848, 0.0848, 0.0848, \n0.0848, 0.0848, 0.0848, 0.0848, 0.0848, 0.0848, 0.0848, 0.0848, \n0.0848, 0.0848, 0.0848, 0.0848, 0.0848, 0.0848, 0.0848, 0.0848, \n0.0848, 0.0848, 0.0848, 0.0848, 0.0848, 0.0848, 0.0848, 0.0848, \n0.0848, 0.0848, 0.0848, 0.0848, 0.0848, 0.0848, 0.0848, 0.0848, \n0.0848, 0.0848, 0.0848, 0.0848, 0.0848, 0.0848, 0.0848, 0.0848, \n0.0848, 0.0848, 0.0848, 0.0848, 0.0848, 0.0848, 0.0848, 0.0848, \n0.0848, 0.0848, 0.0848, 0.0848, 0.0848, 0.0848, 0.0848, 0.0848, \n0.0848, 0.0848, 0.0848, 0.0848, 0.0848, 0.0848, 0.0848, 0.0848, \n0.0848, 0.0848, 0.0848, 0.0848, 0.0848, 0.0848, 0.0848, 0.0848, \n0.0848, 0.0848, 0.0848, 0.0848, 0.0848, 0.0848, 0.0848, 0.0848, \n0.0848, 0.0848, 0.0848, 0.0848, 0.0848, 0.0848, 0.0848, 0.0848, \n0.0848, 0.0848, 0.0848, 0.0848, 0.0848, 0.0848, 0.0848, 0.0848, \n0.0848, 0.0848, 0.0848, 0.0848, 0.0848, 0.0848, 0.0848, 0.0848, \n0.0848, 0.0848, 0.0848, 0.0848, 0.0848, 0.0848, 0.0848, 0.0848, \n0.0848, 0.0848, 0.0848, 0.0848, 0.0848, 0.0848, 0.0848, 0.0848, \n0.0848, 0.0848, 0.0848, 0.0848, 0.0848, 0.0848, 0.0848, 0.0848, \n0.0848, 0.0848, 0.0848, 0.0848, 0.0848, 0.0848, 0.0848, 0.0848, \n0.0848, 0.0848, 0.0848, 0.0848, 0.0848, 0.0848, 0.0848, 0.0848, \n0.0848, 0.0848, 0.0848, 0.0848, 0.0848, 0.0848, 0.0848, 0.0848, \n0.0848, 0.0848, 0.0848, 0.0848, 0.0848, 0.0848, 0.0848, 0.0848, \n0.0848, 0.0848, 0.0848, 0.0848, 0.0848, 0.0848, 0.0848, 0.0848, \n0.0848, 0.0848, 0.0848, 0.0848, 0.0848, 0.0848, 0.0848, 0.0848, \n0.0848, 0.0848, 0.0848, 0.0848, 0.0848, 0.0848, 0.0848, 0.0848, \n0.0848, 0.0848, 0.0848, 0.0848, 0.0848, 0.0848, 0.0848, 0.0848, \n0.0848, 0.0848, 0.0848, 0.0848, 0.0848, 0.0848, 0.0848, 0.0848, \n0.0848, 0.0848, 0.0848, 0.0848, 0.0848, 0.0848, 0.0848, 0.0848, \n0.0848, 0.0848, 0.0848, 0.0848, 0.0848, 0.0848, 0.0848, 0.0848, \n0.0848, 0.0848, 0.0848, 0.0848, 0.0848, 0.0848, 0.0848, 0.0848, \n0.0848, 0.0848, 0.0848, 0.0848, 0.0848, 0.0848, 0.0848, 0.0848, \n0.0848, 0.0848, 0.0848, 0.0848, 0.0848, 0.0848, 0.0848, 0.0848, \n0.0848, 0.0848, 0.0848, 0.0848, 0.0848, 0.0848, 0.0848, 0.0848, \n0.0848, 0.0848, 0.0848, 0.0848, 0.0848, 0.0848, 0.0848, 0.0848, \n0.0848, 0.0848, 0.0848, 0.0848, 0.0848, 0.0848, 0.0848, 0.0848, \n0.0848, 0.0848, 0.0848, 0.0848, 0.0848, 0.0848, 0.0848, 0.0848, \n0.0848, 0.0848, 0.0848, 0.0848, 0.0848, 0.0848, 0.0848, 0.0848, \n0.0848, 0.0848, 0.0848, 0.0848, 0.0848, 0.0848, 0.0848, 0.0848, \n0.0848, 0.0848, 0.0848, 0.0848, 0.0848, 0.0848, 0.0848, 0.0848, \n0.0848, 0.0848, 0.0848, 0.0848, 0.0848, 0.0848, 0.0848, 0.0848, \n0.0848, 0.0848, 0.0848, 0.0848, 0.0848, 0.0848, 0.0848, 0.0848, \n0.0848, 0.0848, 0.0848, 0.0848, 0.0848, 0.0848, 0.0848, 0.0848, \n0.0848, 0.0848, 0.0848, 0.0848, 0.0848, 0.0848, 0.0848, 0.0848, \n0.0848, 0.0848, 0.0848, 0.0848, 0.0848, 0.0848, 0.0848, 0.0848, \n0.0848, 0.0848, 0.0848, 0.0848, 0.0848, 0.0848, 0.0848, 0.0848, \n0.0848, 0.0848, 0.0848, 0.0848, 0.0848, 0.0848, 0.0848, 0.0848, \n0.0848, 0.0848, 0.0848, 0.0848, 0.0848, 0.0848, 0.0848, 0.0848, \n0.0848, 0.0848, 0.0848, 0.0848, 0.0848, 0.0848, 0.0848, 0.0848, \n0.0848, 0.0848, 0.0848, 0.0848, 0.0848, 0.0848, 0.0848, 0.0848, \n0.0848, 0.0848, 0.0848, 0.0848, 0.0848, 0.0848, 0.0848, 0.0848, \n0.0848, 0.0848, 0.0848, 0.0848, 0.0848, 0.0848, 0.0848, 0.0848, \n0.0848, 0.0848, 0.0848, 0.0848, 0.0848, 0.0848, 0.0848, 0.0848, \n0.0848, 0.0848, 0.0848, 0.0848, 0.0848, 0.0848, 0.0848, 0.0848, \n0.0848, 0.0848, 0.0848, 0.0848, 0.0848, 0.0848, 0.0848, 0.0848, \n0.0848, 0.0848, 0.0848, 0.0848, 0.0848, 0.0848, 0.0848, 0.0848, \n0.0848, 0.0848, 0.0848, 0.0848, 0.0848, 0.0848, 0.0848, 0.0848, \n0.0848, 0.0848, 0.0848, 0.0848, 0.0848, 0.0848, 0.0848, 0.0848, \n0.0848, 0.0848, 0.0848, 0.0848, 0.0848, 0.0848, 0.0848, 0.0848, \n0.0848, 0.0848, 0.0848, 0.0848, 0.0848, 0.0848, 0.0848, 0.0848, \n0.0848, 0.0848, 0.0848, 0.0848, 0.0848, 0.0848, 0.0848, 0.0848, \n0.0848, 0.0848, 0.0848, 0.0848, 0.0848, 0.0848, 0.0848, 0.0848, \n0.0848, 0.0848, 0.0848, 0.0848, 0.0848, 0.0848, 0.0848, 0.0848, \n0.0848, 0.0848, 0.0848, 0.0848, 0.0848, 0.0848, 0.0848, 0.0848, \n0.0848, 0.0848, 0.0848, 0.0848, 0.0848, 0.0848, 0.0848, 0.0848, \n0.0848, 0.0848, 0.0848, 0.0848, 0.0848, 0.0848, 0.0848, 0.0848, \n0.0848, 0.0848, 0.0848, 0.0848, 0.0848, 0.0848, 0.0848, 0.0848, \n0.0848, 0.0848, 0.0848, 0.0848, 0.0848, 0.0848, 0.0848, 0.0848, \n0.0848, 0.0848, 0.0848, 0.0848, 0.0848, 0.0848, 0.0848, 0.0848, \n0.0848, 0.0848, 0.0848, 0.0848, 0.0848, 0.0848, 0.0848, 0.0848, \n0.0848, 0.0848, 0.0848, 0.0848, 0.0848, 0.0848, 0.0848, 0.0848, \n0.0848, 0.0848, 0.0848, 0.0848, 0.0848, 0.0848, 0.0848, 0.0848, \n0.0848, 0.0848, 0.0848, 0.0848, 0.0848, 0.0848, 0.0848, 0.0848, \n0.0848, 0.0848, 0.0848, 0.0848, 0.0848, 0.0848, 0.0848, 0.0848, \n0.0848, 0.0848, 0.0848, 0.0848, 0.0848, 0.0848, 0.0848, 0.0848, \n0.0848, 0.0848, 0.0848, 0.0848, 0.0848, 0.0848, 0.0848, 0.0848, \n0.0848, 0.0848, 0.0848, 0.0848, 0.0848, 0.0848, 0.0848, 0.0848, \n0.0848, 0.0848, 0.0848, 0.0848, 0.0848, 0.0848, 0.0848, 0.0848, \n0.0848, 0.0848, 0.0848, 0.0848, 0.0848, 0.0848, 0.0848, 0.0848, \n0.0848, 0.0848, 0.0848, 0.0848, 0.0848, 0.0848, 0.0848, 0.0848, \n0.0848, 0.0848, 0.0848, 0.0848, 0.0848, 0.0848, 0.0848, 0.0848, \n0.0848, 0.0848, 0.0848, 0.0848, 0.0848, 0.0848, 0.0848, 0.0848, \n0.0848, 0.0848, 0.0848, 0.0848, 0.0848, 0.0848, 0.0848, 0.0848, \n0.0848, 0.0848, 0.0848, 0.0848, 0.0848, 0.0848, 0.0848, 0.0848, \n0.0848, 0.0848, 0.0848, 0.0848, 0.0848, 0.0848, 0.0848, 0.0848, \n0.0848, 0.0848, 0.0848, 0.0848, 0.0848, 0.0848, 0.0848, 0.0848, \n0.0848, 0.0848, 0.0848, 0.0848, 0.0848, 0.0848, 0.0848, 0.0848, \n0.0848, 0.0848, 0.0848, 0.0848, 0.0848, 0.0848, 0.0848, 0.0848, \n0.0848, 0.0848, 0.0848, 0.0848, 0.0848, 0.0848, 0.0848, 0.0848, \n0.0848, 0.0848, 0.0848, 0.0848, 0.0848, 0.0848, 0.0848, 0.0848, \n0.0848, 0.0848, 0.0848, 0.0848, 0.0848, 0.0848, 0.0848, 0.0848, \n0.0848, 0.0848, 0.0848, 0.0848, 0.0848, 0.0848, 0.0848, 0.0848, \n0.0848, 0.0848, 0.0848, 0.0848, 0.0848, 0.0848, 0.0848, 0.0848, \n0.0848, 0.0848, 0.0848, 0.0848, 0.0848, 0.0848, 0.0848, 0.0848, \n0.0848, 0.0848, 0.0848, 0.0848, 0.0848, 0.0848, 0.0848, 0.0848, \n0.0848, 0.0848, 0.0848, 0.0848, 0.0848, 0.0848, 0.0848, 0.0848, \n0.0848, 0.0848, 0.0848, 0.0848, 0.0848, 0.0848, 0.0848, 0.0848, \n0.0848, 0.0848, 0.0848, 0.0848, 0.0848, 0.0848, 0.0848, 0.0848, \n0.0848, 0.0848, 0.0848, 0.0848, 0.0848, 0.0848, 0.0848, 0.0848, \n0.0848, 0.0848, 0.0848, 0.0848, 0.0848, 0.0848, 0.0848, 0.0848, \n0.0848, 0.0848, 0.0848, 0.0848, 0.0848, 0.0848, 0.0848, 0.0848, \n0.0848, 0.0848, 0.0848, 0.0848, 0.0848, 0.0848, 0.0848, 0.0848, \n0.0848, 0.0848, 0.0848, 0.0848, 0.0848, 0.0848, 0.0848, 0.0848, \n0.0848, 0.0848, 0.0848, 0.0848, 0.0848, 0.0848, 0.0848, 0.0848, \n0.0848, 0.0848, 0.0848, 0.0848, 0.0848, 0.0848, 0.0848, 0.0848, \n0.0848, 0.0848, 0.0848, 0.0848, 0.0848, 0.0848, 0.0848, 0.0848, \n0.0848, 0.0848, 0.0848, 0.0848, 0.0848, 0.0848, 0.0848, 0.0848, \n0.0848, 0.0848, 0.0848, 0.0848, 0.0848, 0.0848, 0.0848, 0.0848, \n0.0848, 0.0848, 0.0848, 0.0848, 0.0848, 0.0848, 0.0848, 0.0848, \n0.0848, 0.0848, 0.0848, 0.0848, 0.0848, 0.0848, 0.0848, 0.0848, \n0.0848, 0.0848, 0.0848, 0.0848, 0.0848, 0.0848, 0.0848, 0.0848, \n0.0848, 0.0848, 0.0848, 0.0848, 0.0848, 0.0848, 0.0848, 0.0848, \n0.0848, 0.0848, 0.0848, 0.0848, 0.0848, 0.0848, 0.0848, 0.0848, \n0.0848, 0.0848, 0.0848, 0.0848, 0.0848, 0.0848, 0.0848, 0.0848, \n0.0848, 0.0848, 0.0848, 0.0848, 0.0848, 0.0848, 0.0848, 0.0848, \n0.0848, 0.0848, 0.0848, 0.0848, 0.0848, 0.0848, 0.0848, 0.0848, \n0.0848, 0.0848, 0.0848, 0.0848, 0.0848, 0.0848, 0.0848, 0.0848, \n0.0848, 0.0848, 0.0848, 0.0848, 0.0848, 0.0848, 0.0848, 0.0848, \n0.0848, 0.0848, 0.0848, 0.0848, 0.0848, 0.0848, 0.0848, 0.0848, \n0.0848, 0.0848, 0.0848, 0.0848, 0.0848, 0.0848, 0.0848, 0.0848, \n0.0848, 0.0848, 0.0848, 0.0848, 0.0848, 0.0848, 0.0848, 0.0848, \n0.0848, 0.0848, 0.0848, 0.0848, 0.0848, 0.0848, 0.0848, 0.0848, \n0.0848, 0.0848, 0.0848, 0.0848, 0.0848, 0.0848, 0.0848, 0.0848, \n0.0848, 0.0848, 0.0848, 0.0848, 0.0848, 0.0848, 0.0848, 0.0848, \n0.0848, 0.0848, 0.0848, 0.0848, 0.0848, 0.0848, 0.0848, 0.0848, \n0.0848, 0.0848, 0.0848, 0.0848, 0.0848, 0.0848, 0.0848, 0.0848, \n0.0848, 0.0848, 0.0848, 0.0848, 0.0848, 0.0848, 0.0848, 0.0848, \n0.0848, 0.0848, 0.0848, 0.0848, 0.0848, 0.0848, 0.0848, 0.0848, \n0.0848, 0.0848, 0.0848, 0.0848, 0.0848, 0.0848, 0.0848, 0.0848, \n0.0848, 0.0848, 0.0848, 0.0848, 0.0848, 0.0848, 0.0848, 0.0848, \n0.0848, 0.0848, 0.0848, 0.0848, 0.0848, 0.0848, 0.0848, 0.0848, \n0.0848, 0.0848, 0.0848, 0.0848, 0.0848, 0.0848, 0.0848, 0.0848, \n0.0848, 0.0848, 0.0848, 0.0848, 0.0848, 0.0848, 0.0848, 0.0848, \n0.0848, 0.0848, 0.0848, 0.0848, 0.0848, 0.0848, 0.0848, 0.0848, \n0.0848, 0.0848, 0.0848, 0.0848, 0.0848, 0.0848, 0.0848, 0.0848, \n0.0848, 0.0848, 0.0848, 0.0848, 0.0848, 0.0848, 0.0848, 0.0848, \n0.0848, 0.0848, 0.0848, 0.0848, 0.0848, 0.0848, 0.0848, 0.0848, \n0.0848, 0.0848, 0.0848, 0.0848, 0.0848, 0.0848, 0.0848, 0.0848, \n0.0848, 0.0848, 0.0848, 0.0848, 0.0848, 0.0848, 0.0848, 0.0848, \n0.0848, 0.0848, 0.0848, 0.0848, 0.0848, 0.0848, 0.0848, 0.0848, \n0.0848, 0.0848, 0.0848, 0.0848, 0.0848, 0.0848, 0.0848, 0.0848, \n0.0848, 0.0848, 0.0848, 0.0848, 0.0848, 0.0848, 0.0848, 0.0848, \n0.0848, 0.0848, 0.0848, 0.0848, 0.0848, 0.0848, 0.0848, 0.0848, \n0.0848, 0.0848, 0.0848, 0.0848, 0.0848, 0.0848, 0.0848, 0.0848, \n0.0848, 0.0848, 0.0848, 0.0848, 0.0848, 0.0848, 0.0848, 0.0848, \n0.0848, 0.0848, 0.0848, 0.0848, 0.0848, 0.0848, 0.0848, 0.0848, \n0.0848, 0.0848, 0.0848, 0.0848, 0.0848, 0.0848, 0.0848, 0.0848, \n0.0848, 0.0848, 0.0848, 0.0848, 0.0848, 0.0848, 0.0848, 0.0848, \n0.0848, 0.0848, 0.0848, 0.0848, 0.0848, 0.0848, 0.0848, 0.0848, \n0.0848, 0.0848, 0.0848, 0.0848, 0.0848, 0.0848, 0.0848, 0.0848, \n0.0848, 0.0848, 0.0848, 0.0848, 0.0848, 0.0848, 0.0848, 0.0848, \n0.0848, 0.0848, 0.0848, 0.0848, 0.0848, 0.0848, 0.0848, 0.0848, \n0.0848, 0.0848, 0.0848, 0.0848, 0.0848, 0.0848, 0.0848, 0.0848, \n0.0848, 0.0848, 0.0848, 0.0848, 0.0848, 0.0848, 0.0848, 0.0848, \n0.0848, 0.0848, 0.0848, 0.0848, 0.0848, 0.0848, 0.0848, 0.0848, \n0.0848, 0.0848, 0.0848, 0.0848, 0.0848, 0.0848, 0.0848, 0.0848, \n0.0848, 0.0848, 0.0848, 0.0848, 0.0848, 0.0848, 0.0848, 0.0848, \n0.0848, 0.0848, 0.0848, 0.0848, 0.0848, 0.0848, 0.0848, 0.0848, \n0.0848, 0.0848, 0.0848, 0.0848, 0.0848, 0.0848, 0.0848, 0.0848, \n0.0848, 0.0848, 0.0848, 0.0848, 0.0848, 0.0848, 0.0848, 0.0848, \n0.0848, 0.0848, 0.0848, 0.0848, 0.0848, 0.0848, 0.0848, 0.0848, \n0.0848, 0.0848, 0.0848, 0.0848, 0.0848, 0.0848, 0.0848, 0.0848, \n0.0848, 0.0848, 0.0848, 0.0848, 0.0848, 0.0848, 0.0848, 0.0848, \n0.0848, 0.0848, 0.0848, 0.0848, 0.0848, 0.0848, 0.0848, 0.0848, \n0.0848, 0.0848, 0.0848, 0.0848, 0.0848, 0.0848, 0.0848, 0.0848, \n0.0848, 0.0848, 0.0848, 0.0848, 0.0848, 0.0848, 0.0848, 0.0848, \n0.0848, 0.0848, 0.0848, 0.0848, 0.0848, 0.0848, 0.0848, 0.0848, \n0.0848, 0.0848, 0.0848, 0.0848, 0.0848, 0.0848, 0.0848, 0.0848, \n0.0848, 0.0848, 0.0848, 0.0848, 0.0848, 0.0848, 0.0848, 0.0848, \n0.0848, 0.0848, 0.0848, 0.0848, 0.0848, 0.0848, 0.0848, 0.0848, \n0.0848, 0.0848, 0.0848, 0.0848, 0.0848, 0.0848, 0.0848, 0.0848, \n0.0848, 0.0848, 0.0848, 0.0848, 0.0848, 0.0848, 0.0848, 0.0848, \n0.0848, 0.0848, 0.0848, 0.0848, 0.0848, 0.0848, 0.0848, 0.0848, \n0.0848, 0.0848, 0.0848, 0.0848, 0.0848, 0.0848, 0.0848, 0.0848, \n0.0848, 0.0848, 0.0848, 0.0848, 0.0848, 0.0848, 0.0848, 0.0848, \n0.0848, 0.0848, 0.0848, 0.0848, 0.0848, 0.0848, 0.0848, 0.0848, \n0.0848, 0.0848, 0.0848, 0.0848, 0.0848, 0.0848, 0.0848, 0.0848, \n0.0848, 0.0848, 0.0848, 0.0848, 0.0848, 0.0848, 0.0848, 0.0848, \n0.0848, 0.0848, 0.0848, 0.0848, 0.0848, 0.0848, 0.0848, 0.0848, \n0.0848, 0.0848, 0.0848, 0.0848, 0.0848, 0.0848, 0.0848, 0.0848, \n0.0848, 0.0848, 0.0848, 0.0848, 0.0848, 0.0848, 0.0848, 0.0848, \n0.0848, 0.0848, 0.0848, 0.0848, 0.0848, 0.0848, 0.0848, 0.0848, \n0.0848, 0.0848, 0.0848, 0.0848, 0.0848, 0.0848, 0.0848, 0.0848, \n0.0848, 0.0848, 0.0848, 0.0848, 0.0848, 0.0848, 0.0848, 0.0848, \n0.0848, 0.0848, 0.0848, 0.0848, 0.0848, 0.0848, 0.0848, 0.0848, \n0.0848, 0.0848, 0.0848, 0.0848, 0.0848, 0.0848, 0.0848, 0.0848, \n0.0848, 0.0848, 0.0848, 0.0848, 0.0848, 0.0848, 0.0848, 0.0848, \n0.0848, 0.0848, 0.0848, 0.0848, 0.0848, 0.0848, 0.0848, 0.0848, \n0.0848, 0.0848, 0.0848, 0.0848, 0.0848, 0.0848, 0.0848, 0.0848, \n0.0848, 0.0848, 0.0848, 0.0848, 0.0848, 0.0848, 0.0848, 0.0848, \n0.0848, 0.0848, 0.0848, 0.0848, 0.0848, 0.0848, 0.0848, 0.0848, \n0.0848, 0.0848, 0.0848, 0.0848, 0.0848, 0.0848, 0.0848, 0.0848, \n0.0848, 0.0848, 0.0848, 0.0848, 0.0848, 0.0848, 0.0848, 0.0848, \n0.0848, 0.0848, 0.0848, 0.0848, 0.0848, 0.0848, 0.0848, 0.0848, \n0.0848, 0.0848, 0.0848, 0.0848, 0.0848, 0.0848, 0.0848, 0.0848, \n0.0848, 0.0848, 0.0848, 0.0848, 0.0848, 0.0848, 0.0848, 0.0848, \n0.0848, 0.0848, 0.0848, 0.0848, 0.0848, 0.0848, 0.0848, 0.0848, \n0.0848, 0.0848, 0.0848, 0.0848, 0.0848, 0.0848, 0.0848, 0.0848, \n0.0848, 0.0848, 0.0848, 0.0848, 0.0848, 0.0848, 0.0848, 0.0848, \n0.0848, 0.0848, 0.0848, 0.0848, 0.0848, 0.0848, 0.0848, 0.0848, \n0.0848, 0.0848, 0.0848, 0.0848, 0.0848, 0.0848, 0.0848, 0.0848, \n0.0848, 0.0848, 0.0848, 0.0848, 0.0848, 0.0848, 0.0848, 0.0848, \n0.0848, 0.0848, 0.0848, 0.0848, 0.0848, 0.0848, 0.0848, 0.0848, \n0.0848, 0.0848, 0.0848, 0.0848, 0.0848, 0.0848, 0.0848, 0.0848, \n0.0848, 0.0848, 0.0848, 0.0848, 0.0848, 0.0848, 0.0848, 0.0848, \n0.0848, 0.0848, 0.0848, 0.0848, 0.0848, 0.0848, 0.0848, 0.1119, \n0.1119, 0.1119, 0.1119, 0.1119, 0.1119, 0.1119, 0.1119, 0.1119, \n0.1119, 0.1119, 0.1119, 0.1119, 0.1119, 0.1119, 0.1119, 0.1119, \n0.1119, 0.1119, 0.1119, 0.1119, 0.1119, 0.1119, 0.1119, 0.1119, \n0.1119, 0.1119, 0.1119, 0.1119, 0.1119, 0.1119, 0.1119, 0.1119, \n0.1119, 0.1119, 0.1119, 0.1119, 0.1119, 0.1119, 0.1119, 0.1119, \n0.1119, 0.1119, 0.1119, 0.1119, 0.1119, 0.1119, 0.1119, 0.1119, \n0.1119, 0.1119, 0.1119, 0.1119, 0.1119, 0.1119, 0.1119, 0.1119, \n0.1119, 0.1119, 0.1119, 0.1119, 0.1119, 0.1119, 0.1119, 0.1119, \n0.1119, 0.1119, 0.1119, 0.1119, 0.1119, 0.1119, 0.1119, 0.1119, \n0.1119, 0.1119, 0.1119, 0.1119, 0.1119, 0.1119, 0.1119, 0.1119, \n0.1119, 0.1119, 0.1119, 0.1119, 0.1119, 0.1119, 0.1119, 0.1119, \n0.1119, 0.1119, 0.1119, 0.1119, 0.1119, 0.1119, 0.1119, 0.1119, \n0.1119, 0.1119, 0.1119, 0.1119, 0.1119, 0.1119, 0.1119, 0.1119, \n0.1119, 0.1119, 0.1119, 0.1119, 0.1119, 0.1119, 0.1119, 0.1119, \n0.1119, 0.1119, 0.1119, 0.1119, 0.1119, 0.1119, 0.1119, 0.1119, \n0.1119, 0.1119, 0.1119, 0.1119, 0.1119, 0.1119, 0.1119, 0.1119, \n0.1119, 0.1119, 0.1119, 0.1119, 0.1119, 0.1119, 0.1119, 0.1119, \n0.1119, 0.1119, 0.1119, 0.1119, 0.1119, 0.1119, 0.1119, 0.1119, \n0.1119, 0.1119, 0.1119, 0.1119, 0.1119, 0.1119, 0.1119, 0.1119, \n0.1119, 0.1119, 0.1119, 0.1119, 0.1119, 0.1119, 0.1119, 0.1119, \n0.1119, 0.1119, 0.1119, 0.1119, 0.1119, 0.1119, 0.1119, 0.1119, \n0.1119, 0.1119, 0.1119, 0.1119, 0.1119, 0.1119, 0.1119, 0.1119, \n0.1119, 0.1119, 0.1119, 0.1119, 0.1119, 0.1119, 0.1119, 0.1119, \n0.1119, 0.1119, 0.1119, 0.1119, 0.1119, 0.1119, 0.1119, 0.1119, \n0.1119, 0.1119, 0.1119, 0.1119, 0.1119, 0.1119, 0.1119, 0.1119, \n0.1119, 0.1119, 0.1119, 0.1119, 0.1119, 0.1119, 0.1119, 0.1119, \n0.1119, 0.1119, 0.1119, 0.1119, 0.1119, 0.1119, 0.1119, 0.1119, \n0.1119, 0.1119, 0.1119, 0.1119, 0.1119, 0.1119, 0.1119, 0.1119, \n0.1119, 0.1119, 0.1119, 0.1119, 0.1119, 0.1119, 0.1119, 0.1119, \n0.1119, 0.1119, 0.1119, 0.1119, 0.1119, 0.1119, 0.1119, 0.1119, \n0.1119, 0.1119, 0.1119, 0.1119, 0.1119, 0.1119, 0.1119, 0.1119, \n0.1119, 0.1119, 0.1119, 0.1119, 0.1119, 0.\n\n*** WARNING: max output size exceeded, skipping output. ***\n\n0515463917525773, \n    0.032258064516129, 0.333333333333333, 0.5, 0.0208333333333333, \n    0.0208333333333333, 0.0144927536231884, 0.05, 0.0099009900990099, \n    0.0303030303030303, 0.0172413793103448, 0.0144927536231884, \n    0.012987012987013, 0.0263157894736842, 0.2, 0.0117647058823529, \n    0.166666666666667, 0.0140845070422535, 0.0238095238095238, \n    0.04, 0.032258064516129, 0.0133333333333333, 0.00840336134453781, \n    0.0196078431372549, 0.0138888888888889, 0.0476190476190476, \n    1, 0.0105263157894737, 0.0163934426229508, 1, 0.0105263157894737, \n    0.25, 0.142857142857143, 0.166666666666667, 0.0138888888888889, \n    0.25, 0.0172413793103448, 0.00636942675159236, 0.00581395348837209, \n    0.00746268656716418, 0.0555555555555556, 0.0384615384615385, \n    0.166666666666667, 1, 0.25, 0.00847457627118644, 0.0909090909090909, \n    0.00806451612903226, 0.0833333333333333, 0.0140845070422535, \n    1, 0.00775193798449612, 0.333333333333333, 1, 0.02, 1, 0.2, \n    0.0227272727272727, 0.0833333333333333, 0.0101010101010101, \n    0.0454545454545455, 0.0125, 0.00526315789473684, 0.00980392156862745, \n    0.0087719298245614, 0.1, 0.0114942528735632, 0.00925925925925926, \n    0.00617283950617284, 0.00892857142857143, 0.00840336134453781, \n    0.0065359477124183, 0.00763358778625954, 0.037037037037037, \n    0.1, 0.0526315789473684, 0.0114942528735632, 0.0357142857142857, \n    0.00684931506849315, 0.0126582278481013, 0.0181818181818182, \n    0.0303030303030303, 0.0072463768115942, 0.0142857142857143, \n    0.111111111111111, 0.0196078431372549, 0.0212765957446809, \n    0.00636942675159236, 0.00581395348837209, 0.0204081632653061, \n    0.0333333333333333, 0.0135135135135135, 0.0666666666666667, \n    0.111111111111111, 0.0285714285714286, 0.0117647058823529, \n    0.032258064516129, 0.25, 0.0144927536231884, 0.0285714285714286, \n    0.0416666666666667, 0.0769230769230769, 0.0105263157894737, \n    0.027027027027027, 0.0151515151515152, 0.0120481927710843, \n    0.0476190476190476, 0.0172413793103448, 0.0125, 0.0172413793103448, \n    0.0087719298245614, 0.00757575757575758, 0.0263157894736842, \n    0.0434782608695652, 0.0136986301369863, 0.0666666666666667, \n    0.00636942675159236, 0.0188679245283019, 0.25, 0.0196078431372549, \n    0.0188679245283019, 0.0227272727272727, 0.02, 0.1, 0.1, 0.0131578947368421, \n    0.010752688172043, 0.0140845070422535, 0.0588235294117647, \n    0.037037037037037, 0.0454545454545455, 0.00636942675159236, \n    0.00581395348837209, 0.333333333333333, 0.00806451612903226, \n    0.0833333333333333, 0.0909090909090909, 0.0555555555555556, \n    0.0144927536231884, 0.0142857142857143, 0.00684931506849315, \n    0.00671140939597315, 0.00847457627118644, 0.0099009900990099, \n    0.0101010101010101, 0.0123456790123457, 0.025, 0.00526315789473684, \n    0.125, 0.0053475935828877, 0.0065359477124183, 0.0105263157894737, \n    0.0769230769230769, 0.0158730158730159, 0.01, 0.010752688172043, \n    0.0065359477124183, 0.1, 0.0263157894736842, 0.00625, 0.0384615384615385, \n    0.00694444444444444, 0.0416666666666667, 0.00746268656716418, \n    0.027027027027027, 0.012987012987013, 0.0144927536231884, \n    0.5, 0.5, 0.2, 0.142857142857143, 0.015625, 0.0105263157894737, \n    0.1, 0.0588235294117647, 0.0147058823529412, 0.0277777777777778, \n    0.0099009900990099, 0.0357142857142857, 0.0151515151515152, \n    0.024390243902439, 0.0212765957446809, 0.0416666666666667, \n    0.142857142857143, 0.0454545454545455, 0.00840336134453781, \n    0.2, 0.0416666666666667, 0.333333333333333, 0.00515463917525773, \n    0.333333333333333, 0.125, 0.0208333333333333, 0.2, 0.0131578947368421, \n    0.111111111111111, 0.0142857142857143, 0.0212765957446809, \n    0.00581395348837209, 0.00806451612903226, 0.0625, 0.05, 0.00684931506849315, \n    0.00671140939597315, 0.0476190476190476, 0.0256410256410256, \n    0.0065359477124183, 0.00763358778625954, 0.0102040816326531, \n    0.0158730158730159, 0.5, 0.0140845070422535, 0.25, 0.0416666666666667, \n    0.0185185185185185, 0.027027027027027, 0.0135135135135135, \n    0.015625, 0.027027027027027, 0.0625, 0.0588235294117647, \n    1, 0.2, 0.0181818181818182, 0.0277777777777778, 0.00666666666666667, \n    0.0357142857142857, 0.024390243902439, 0.0344827586206897, \n    0.0140845070422535, 0.0175438596491228, 0.0416666666666667, \n    0.00526315789473684, 0.0294117647058824, 0.0102040816326531, \n    0.0454545454545455, 0.1, 0.0053475935828877, 0.00840336134453781, \n    0.1, 0.0151515151515152, 0.0416666666666667, 0.0185185185185185, \n    0.0208333333333333, 0.0163934426229508, 0.0232558139534884, \n    1, 0.0208333333333333, 0.0303030303030303, 0.0126582278481013, \n    0.0172413793103448, 0.0588235294117647, 0.333333333333333, \n    0.037037037037037, 0.0714285714285714, 0.0434782608695652, \n    0.0555555555555556, 0.333333333333333, 0.1, 0.0163934426229508, \n    0.142857142857143, 0.166666666666667, 0.0217391304347826, \n    1, 0.5, 0.00636942675159236, 0.00581395348837209, 0.0555555555555556, \n    0.0188679245283019, 0.00934579439252336, 0.0303030303030303, \n    0.0909090909090909, 0.0144927536231884, 0.00735294117647059, \n    0.0142857142857143, 0.00684931506849315, 0.00671140939597315, \n    0.00847457627118644, 0.0833333333333333, 0.010752688172043, \n    0.0123456790123457, 0.025, 0.00526315789473684, 0.125, 0.1, \n    0.0087719298245614, 0.0053475935828877, 0.0072463768115942, \n    0.0454545454545455, 0.0105263157894737, 0.0769230769230769, \n    0.008, 0.0158730158730159, 0.01, 0.010752688172043, 0.0065359477124183, \n    0.1, 0.00625, 0.00694444444444444, 0.00636942675159236, 0.00581395348837209, \n    0.00746268656716418, 0.0555555555555556, 0.00806451612903226, \n    0.333333333333333, 0.00934579439252336, 0.0303030303030303, \n    0.0144927536231884, 0.0909090909090909, 0.00775193798449612, \n    0.0555555555555556, 0.0144927536231884, 0.00735294117647059, \n    0.0142857142857143, 0.125, 0.00684931506849315, 0.00671140939597315, \n    0.00847457627118644, 0.025, 0.0153846153846154, 0.012987012987013, \n    1, 0.0123456790123457, 0.025, 0.0232558139534884, 0.0303030303030303, \n    0.125, 0.00806451612903226, 0.1, 0.0087719298245614, 0.00757575757575758, \n    0.0053475935828877, 0.0104166666666667, 0.0065359477124183, \n    0.0105263157894737, 0.00763358778625954, 0.0769230769230769, \n    0.008, 0.0158730158730159, 0.01, 0.010752688172043, 0.0065359477124183, \n    0.1, 0.00625, 0.00694444444444444, 0.5, 0.0909090909090909, \n    0.1, 0.5, 0.125, 0.333333333333333, 0.00666666666666667, \n    0.0102040816326531, 0.0833333333333333, 0.00636942675159236, \n    0.125, 1, 0.01, 0.027027027027027, 0.0588235294117647, 0.00775193798449612, \n    1, 0.0833333333333333, 0.0303030303030303, 0.0769230769230769, \n    0.032258064516129, 0.0087719298245614, 0.00757575757575758, \n    0.0053475935828877, 0.0104166666666667, 0.0136986301369863, \n    0.0072463768115942, 0.00934579439252336, 0.00892857142857143, \n    0.0133333333333333, 0.0065359477124183, 0.0105263157894737, \n    0.0526315789473684, 0.0138888888888889, 1, 0.0588235294117647, \n    0.01, 0.0333333333333333, 0.333333333333333, 0.0212765957446809, \n    0.00934579439252336, 0.0065359477124183, 0.0666666666666667, \n    0.0333333333333333, 0.142857142857143, 0.0333333333333333, \n    0.2, 0.0114942528735632, 0.0208333333333333, 0.024390243902439, \n    0.0181818181818182, 0.0099009900990099, 0.0714285714285714, \n    0.05, 0.0526315789473684, 0.0163934426229508, 0.1, 0.037037037037037, \n    0.0212765957446809, 0.5, 0.00840336134453781, 0.037037037037037, \n    0.01, 1, 0.037037037037037, 0.0163934426229508, 0.0238095238095238, \n    0.25, 0.0256410256410256, 0.00581395348837209, 0.125, 0.0196078431372549, \n    0.0099009900990099, 0.0476190476190476, 0.0476190476190476, \n    0.0263157894736842, 0.00840336134453781, 0.04, 0.0169491525423729, \n    0.111111111111111, 0.5, 0.0204081632653061, 1, 0.0416666666666667, \n    0.0102040816326531, 0.0163934426229508, 0.333333333333333, \n    0.00970873786407767, 0.00746268656716418, 0.0163934426229508, \n    0.00636942675159236, 0.00581395348837209, 0.00746268656716418, \n    0.0108695652173913, 0.0158730158730159, 0.01, 0.0344827586206897, \n    0.024390243902439, 0.0909090909090909, 0.00806451612903226, \n    0.00934579439252336, 0.0144927536231884, 0.0188679245283019, \n    0.00735294117647059, 0.0142857142857143, 0.00671140939597315, \n    0.333333333333333, 1, 0.00671140939597315, 0.00847457627118644, \n    1, 0.0208333333333333, 0.0119047619047619, 0.010752688172043, \n    0.00793650793650794, 0.0125, 0.0285714285714286, 0.0125, \n    0.00526315789473684, 0.00980392156862745, 0.0106382978723404, \n    0.0227272727272727, 0.00925925925925926, 0.0072463768115942, \n    0.0114942528735632, 0.00892857142857143, 0.0065359477124183, \n    0.00763358778625954, 0.00900900900900901, 0.012987012987013, \n    0.00943396226415094, 0.0065359477124183, 0.00625, 0.0357142857142857, \n    0.00694444444444444, 0.00970873786407767, 0.0114942528735632, \n    0.0909090909090909, 0.00847457627118644, 0.00735294117647059, \n    0.0105263157894737, 0.00666666666666667, 0.0131578947368421, \n    0.0142857142857143, 0.0434782608695652, 0.0101010101010101, \n    0.0714285714285714, 0.00617283950617284, 0.00625, 0.0285714285714286, \n    0.0285714285714286, 0.0333333333333333, 0.0454545454545455, \n    0.0158730158730159, 1, 0.142857142857143, 0.25, 0.0196078431372549, \n    0.025, 0.166666666666667, 0.142857142857143, 0.0217391304347826, \n    0.0285714285714286, 0.125, 0.2, 0.0666666666666667, 0.0434782608695652, \n    0.0294117647058824, 0.0833333333333333, 0.0238095238095238, \n    0.142857142857143, 0.0625, 0.012987012987013, 0.0144927536231884, \n    0.00515463917525773, 0.015625, 0.0434782608695652, 0.1, 0.0147058823529412, \n    0.0357142857142857, 0.0151515151515152, 0.024390243902439, \n    0.0140845070422535, 0.0212765957446809, 0.0416666666666667, \n    0.00840336134453781, 0.0105263157894737, 0.0416666666666667, \n    0.00581395348837209, 0.00806451612903226, 0.00671140939597315, \n    0.0181818181818182, 0.00763358778625954, 0.0222222222222222, \n    0.0138888888888889, 0.0476190476190476, 0.0158730158730159, \n    0.5, 0.010989010989011, 0.0212765957446809, 0.00746268656716418, \n    0.0212765957446809, 0.00581395348837209, 0.0333333333333333, \n    0.01, 0.0188679245283019, 0.00847457627118644, 0.00515463917525773, \n    0.00806451612903226, 0.00934579439252336, 0.00775193798449612, \n    0.00735294117647059, 0.00671140939597315, 0.012987012987013, \n    0.0769230769230769, 0.00666666666666667, 0.0131578947368421, \n    0.0101010101010101, 0.00793650793650794, 0.0125, 0.025, 0.0120481927710843, \n    0.0125, 0.00980392156862745, 0.00806451612903226, 0.0227272727272727, \n    0.00757575757575758, 0.0625, 0.0072463768115942, 0.00892857142857143, \n    0.0065359477124183, 0.0142857142857143, 0.012987012987013, \n    0.0416666666666667, 0.0769230769230769, 0.0434782608695652, \n    0.0204081632653061, 0.0196078431372549, 0.111111111111111, \n    0.025, 0.0909090909090909, 0.037037037037037, 0.142857142857143, \n    0.032258064516129, 0.0238095238095238, 0.333333333333333, \n    0.0476190476190476, 0.2, 0.142857142857143, 0.0212765957446809, \n    0.0909090909090909, 0.2, 0.0588235294117647, 0.0769230769230769, \n    0.0140845070422535, 0.04, 0.012987012987013, 0.0117647058823529, \n    0.05, 0.025, 0.0227272727272727, 0.0333333333333333, 0.142857142857143, \n    0.0151515151515152, 0.0303030303030303, 0.5, 0.0138888888888889, \n    0.0588235294117647, 0.0227272727272727, 0.0263157894736842, \n    0.0123456790123457, 0.024390243902439, 0.0454545454545455, \n    0.00515463917525773, 0.00684931506849315, 0.0099009900990099, \n    0.0125, 0.0769230769230769, 0.0153846153846154, 0.0526315789473684, \n    0.0909090909090909, 0.1, 0.0666666666666667, 0.2, 0.0126582278481013, \n    0.25, 0.037037037037037, 0.2, 0.0416666666666667, 0.0666666666666667, \n    0.0294117647058824, 0.25, 0.0294117647058824, 0.0256410256410256, \n    0.142857142857143, 0.142857142857143, 0.00970873786407767, \n    0.00636942675159236, 0.00581395348837209, 0.00746268656716418, \n    0.0555555555555556, 0.00847457627118644, 0.00806451612903226, \n    0.00934579439252336, 0.00735294117647059, 0.00671140939597315, \n    0.00847457627118644, 0.010752688172043, 0.0125, 0.0120481927710843, \n    0.0188679245283019, 0.00980392156862745, 0.00806451612903226, \n    0.0106382978723404, 0.0181818181818182, 0.00943396226415094, \n    0.0087719298245614, 0.00943396226415094, 0.0114942528735632, \n    0.0065359477124183, 0.00763358778625954, 0.008, 0.02, 0.00970873786407767, \n    0.00636942675159236, 0.00581395348837209, 0.00746268656716418, \n    0.0344827586206897, 0.00806451612903226, 0.00934579439252336, \n    0.0144927536231884, 0.00671140939597315, 0.00847457627118644, \n    0.010752688172043, 0.0294117647058824, 0.0188679245283019, \n    0.00526315789473684, 0.00980392156862745, 0.0106382978723404, \n    0.00943396226415094, 0.0087719298245614, 0.0114942528735632, \n    0.0104166666666667, 0.0769230769230769, 0.0065359477124183, \n    0.00763358778625954, 0.008, 0.0384615384615385, 0.0416666666666667, \n    0.0140845070422535, 0.2, 0.0105263157894737, 0.0588235294117647, \n    0.2, 1, 0.010989010989011, 0.333333333333333, 0.333333333333333, \n    0.0172413793103448, 0.0102040816326531, 0.0333333333333333, \n    0.0769230769230769, 0.1, 0.0434782608695652, 0.0144927536231884, \n    0.0204081632653061, 0.027027027027027, 0.0105263157894737, \n    0.166666666666667, 0.0833333333333333, 0.0526315789473684, \n    0.0555555555555556, 0.010989010989011, 0.027027027027027, \n    0.111111111111111, 0.0714285714285714, 0.0769230769230769, \n    0.0769230769230769, 0.0909090909090909, 0.0238095238095238, \n    0.0181818181818182, 0.0256410256410256, 0.0434782608695652, \n    0.142857142857143, 0.0114942528735632, 0.00840336134453781, \n    0.0196078431372549, 0.0161290322580645, 0.0277777777777778, \n    0.142857142857143, 0.0625, 0.0212765957446809, 0.0140845070422535, \n    0.0454545454545455, 0.0454545454545455, 0.0434782608695652, \n    0.0227272727272727, 0.0208333333333333, 0.0588235294117647, \n    0.0333333333333333, 0.0227272727272727, 0.0136986301369863, \n    0.03125, 0.333333333333333, 0.0163934426229508, 0.333333333333333, \n    0.032258064516129, 0.00763358778625954, 0.0434782608695652, \n    0.0769230769230769, 0.0158730158730159, 0.125, 0.02, 0.0333333333333333, \n    0.0232558139534884, 0.1, 1, 0.0175438596491228, 0.125, 0.00840336134453781, \n    0.0222222222222222, 0.0161290322580645, 0.0833333333333333, \n    0.0344827586206897, 0.0769230769230769, 0.125, 0.0666666666666667, \n    0.2, 0.125, 0.012987012987013, 0.0909090909090909, 0.0105263157894737, \n    0.142857142857143, 1, 0.05, 0.0105263157894737, 0.0357142857142857, \n    0.0151515151515152, 0.0256410256410256, 0.0175438596491228, \n    0.5, 0.0102040816326531, 0.0344827586206897, 0.0833333333333333, \n    0.0140845070422535, 0.2, 0.142857142857143, 0.333333333333333, \n    0.0208333333333333, 0.0434782608695652, 0.0105263157894737, \n    0.0416666666666667, 0.027027027027027, 0.0909090909090909, \n    0.015625, 0.5, 0.25, 0.0294117647058824, 0.0555555555555556, \n    0.0588235294117647, 0.0714285714285714, 0.0277777777777778, \n    0.0357142857142857, 0.333333333333333, 0.024390243902439, \n    0.0666666666666667, 0.0416666666666667, 0.0454545454545455, \n    0.0087719298245614, 0.00840336134453781, 0.0105263157894737, \n    0.333333333333333, 0.0344827586206897, 0.027027027027027, \n    0.010752688172043, 0.0227272727272727, 0.0555555555555556, \n    0.0333333333333333, 0.03125, 0.00943396226415094, 0.0065359477124183, \n    0.0103092783505155, 0.0666666666666667, 0.0172413793103448, \n    0.012987012987013, 0.0144927536231884, 0.0357142857142857, \n    0.0384615384615385, 0.0333333333333333, 0.0140845070422535, \n    0.0238095238095238, 0.027027027027027, 0.0142857142857143, \n    0.0357142857142857, 0.0147058823529412, 0.0333333333333333, \n    0.0126582278481013, 0.04, 0.0212765957446809, 0.0454545454545455, \n    0.032258064516129, 0.0114942528735632, 0.0133333333333333, \n    0.0769230769230769, 0.0138888888888889, 0.03125, 0.0158730158730159, \n    0.0666666666666667, 0.032258064516129, 0.0238095238095238, \n    0.027027027027027, 0.0625, 0.037037037037037, 0.0416666666666667, \n    0.027027027027027, 0.0555555555555556, 0.00515463917525773, \n    0.25, 0.5, 0.333333333333333, 0.015625, 0.0588235294117647, \n    0.0277777777777778, 0.125, 0.0357142857142857, 0.024390243902439, \n    0.0416666666666667, 0.0434782608695652, 0.0454545454545455, \n    0.00840336134453781, 0.5, 0.015625, 0.0277777777777778, 0.0357142857142857, \n    0.024390243902439, 0.0416666666666667, 0.00526315789473684, \n    0.00840336134453781, 0.25, 0.0384615384615385, 0.2, 0.032258064516129, \n    0.0208333333333333, 0.0099009900990099, 1, 0.037037037037037, \n    0.5, 0.0344827586206897, 0.0238095238095238, 0.027027027027027, \n    0.0526315789473684, 0.25, 0.0208333333333333, 0.0172413793103448, \n    0.00840336134453781, 0.0151515151515152, 0.5, 0.0285714285714286, \n    0.0333333333333333, 0.0114942528735632, 0.03125, 0.0158730158730159, \n    0.0140845070422535, 0.0117647058823529, 0.0208333333333333, \n    0.0588235294117647, 0.0166666666666667, 1, 1, 0.00934579439252336, \n    0.00943396226415094, 0.00970873786407767, 0.0188679245283019, \n    0.010989010989011, 0.0588235294117647, 0.0909090909090909, \n    0.0714285714285714, 0.00900900900900901, 0.0169491525423729, \n    0.0142857142857143, 0.1, 0.0434782608695652, 0.00526315789473684, \n    0.0909090909090909, 0.0106382978723404, 0.00617283950617284, \n    0.0714285714285714, 0.0256410256410256, 0.0344827586206897, \n    0.0384615384615385, 0.0769230769230769, 0.0526315789473684, \n    0.0188679245283019, 0.037037037037037, 0.00684931506849315, \n    0.2, 0.0153846153846154, 0.00934579439252336, 0.333333333333333, \n    0.0476190476190476, 0.0204081632653061, 0.00746268656716418, \n    0.0434782608695652, 0.0238095238095238, 0.0333333333333333, \n    0.0114942528735632, 0.0065359477124183, 0.0212765957446809, \n    0.0142857142857143, 0.0158730158730159, 0.125, 0.0769230769230769, \n    0.0161290322580645, 0.333333333333333, 0.333333333333333, \n    0.25, 0.25, 0.0196078431372549, 0.05))\n\nDeviance Residuals: \n     Min        1Q    Median        3Q       Max  \n-0.60055  -0.03308   0.00601   0.05110   1.03934  \n\nCoefficients:\n                                                        Estimate Std. Error\n(Intercept)                                           -0.1386908  0.0681148\nG1                                                    -0.0043780  0.0018455\nyear2019                                               0.0004710  0.0025656\nyear2020                                               0.0012361  0.0025439\nyear2021                                              -0.0035933  0.0025490\nyear2022                                               0.0033445  0.0028582\nSubField_Englishanalytical chemistry                  -0.0234256  0.0183837\nSubField_Englishapplied mathematics                   -0.1098835  0.0496596\nSubField_Englishapplied physics                       -0.0716766  0.0179169\nSubField_Englishastronomy & astrophysics               0.0370596  0.0178731\nSubField_Englishchemical physics                      -0.0742177  0.0180419\nSubField_Englishecology                               -0.0264133  0.0176649\nSubField_Englishentomology                            -0.0158012  0.0184220\nSubField_Englishenvironmental sciences                -0.0198207  0.0177818\nSubField_Englishevolutionary biology                  -0.0342423  0.0179254\nSubField_Englishfluids & plasmas                      -0.0547325  0.0185238\nSubField_Englishgeneral chemistry                     -0.0948028  0.0261454\nSubField_Englishgeneral mathematics                    0.0248527  0.0374739\nSubField_Englishgeneral physics                       -0.0586811  0.0181440\nSubField_Englishgeochemistry & geophysics             -0.0023169  0.0179859\nSubField_Englishgeology                                0.0012710  0.0320540\nSubField_Englishinorganic & nuclear chemistry         -0.0804855  0.0207322\nSubField_Englishmarine biology & hydrobiology         -0.0120227  0.0178497\nSubField_Englishmathematical physics                  -0.0909443  0.0947115\nSubField_Englishmedicinal & biomolecular chemistry     0.0477333  0.0197575\nSubField_Englishmeteorology & atmospheric sciences    -0.0069654  0.0177337\nSubField_Englishnuclear & particle physics            -0.0808533  0.0199891\nSubField_Englishnumerical & computational mathematics -0.1722966  0.0496573\nSubField_Englishoceanography                          -0.0521070  0.0201845\nSubField_Englishoptics                                -0.0500873  0.0184572\nSubField_Englishorganic chemistry                     -0.0600108  0.0180797\nSubField_Englishornithology                           -0.0186442  0.0235569\nSubField_Englishpaleontology                           0.0304053  0.0183639\nSubField_Englishphysical chemistry                    -0.0734873  0.0197361\nSubField_Englishplant biology & botany                -0.0253906  0.0179353\nSubField_Englishpolymers                              -0.0462134  0.0185641\nSubField_Englishstatistics & probability              -0.0172857  0.0271925\nSubField_Englishzoology                                0.0001616  0.0216502\nq1                                                    -0.0555318  0.0737047\nq2                                                     0.0227641  0.0660380\nq3                                                     0.0036370  0.0657695\n                                                      t value Pr(>|t|)    \n(Intercept)                                            -2.036 0.041741 *  \nG1                                                     -2.372 0.017680 *  \nyear2019                                                0.184 0.854336    \nyear2020                                                0.486 0.627027    \nyear2021                                               -1.410 0.158630    \nyear2022                                                1.170 0.241947    \nSubField_Englishanalytical chemistry                   -1.274 0.202575    \nSubField_Englishapplied mathematics                    -2.213 0.026920 *  \nSubField_Englishapplied physics                        -4.001 6.33e-05 ***\nSubField_Englishastronomy & astrophysics                2.073 0.038131 *  \nSubField_Englishchemical physics                       -4.114 3.90e-05 ***\nSubField_Englishecology                                -1.495 0.134857    \nSubField_Englishentomology                             -0.858 0.391041    \nSubField_Englishenvironmental sciences                 -1.115 0.264999    \nSubField_Englishevolutionary biology                   -1.910 0.056104 .  \nSubField_Englishfluids & plasmas                       -2.955 0.003131 ** \nSubField_Englishgeneral chemistry                      -3.626 0.000288 ***\nSubField_Englishgeneral mathematics                     0.663 0.507206    \nSubField_Englishgeneral physics                        -3.234 0.001221 ** \nSubField_Englishgeochemistry & geophysics              -0.129 0.897504    \nSubField_Englishgeology                                 0.040 0.968370    \nSubField_Englishinorganic & nuclear chemistry          -3.882 0.000104 ***\nSubField_Englishmarine biology & hydrobiology          -0.674 0.500598    \nSubField_Englishmathematical physics                   -0.960 0.336946    \nSubField_Englishmedicinal & biomolecular chemistry      2.416 0.015697 *  \nSubField_Englishmeteorology & atmospheric sciences     -0.393 0.694484    \nSubField_Englishnuclear & particle physics             -4.045 5.24e-05 ***\nSubField_Englishnumerical & computational mathematics  -3.470 0.000521 ***\nSubField_Englishoceanography                           -2.582 0.009838 ** \nSubField_Englishoptics                                 -2.714 0.006656 ** \nSubField_Englishorganic chemistry                      -3.319 0.000903 ***\nSubField_Englishornithology                            -0.791 0.428681    \nSubField_Englishpaleontology                            1.656 0.097787 .  \nSubField_Englishphysical chemistry                     -3.723 0.000197 ***\nSubField_Englishplant biology & botany                 -1.416 0.156875    \nSubField_Englishpolymers                               -2.489 0.012798 *  \nSubField_Englishstatistics & probability               -0.636 0.524987    \nSubField_Englishzoology                                 0.007 0.994045    \nq1                                                     -0.753 0.451191    \nq2                                                      0.345 0.730312    \nq3                                                      0.055 0.955900    \n---\nSignif. codes:  0 ‘***’ 0.001 ‘**’ 0.01 ‘*’ 0.05 ‘.’ 0.1 ‘ ’ 1\n\n(Dispersion parameter for gaussian family taken to be 0.008625977)\n\n    Null deviance: 542.20  on 61637  degrees of freedom\nResidual deviance: 531.33  on 61597  degrees of freedom\nAIC: 40947\n\nNumber of Fisher Scoring iterations: 2\n\n\n"
     ]
    }
   ],
   "source": [
    "ideo = dummy.copy(deep = True)\n",
    "print(len(ideo))\n",
    "tmp = pd.DataFrame()\n",
    "tmp['ideology'] = ideo['ideology']\n",
    "tmp['G'] = ideo['G']\n",
    "tmp['year'] = ideo['year']\n",
    "tmp['Domain_English'] = ideo['Domain_English']\n",
    "tmp['Field_English'] = ideo['Field_English']\n",
    "tmp['SubField_English'] = ideo['SubField_English']\n",
    "tmp['q'] = ideo['q']\n",
    "tmp['doi'] = ideo['doi']\n",
    "\n",
    "tmp = tmp.dropna(subset = ['ideology'])\n",
    "\n",
    "tmp['row_count'] = tmp.groupby('doi')['doi'].transform('count')\n",
    "tmp['row_count'] = 1/tmp['row_count']\n",
    "\n",
    "#overall: est = -2.62089085e-03, err = 9.00419048e-04, p val = 0.003606 ** \n",
    "#tmp = tmp[tmp['Domain_English'] == 'Applied Sciences'] #est -0.0044740, err = 0.0030171 , p val = 0.138123\n",
    "#tmp = tmp[tmp['Domain_English'] == 'Arts & Humanities'] #est =  0.015968, err = 0.007189 , p avl =  0.026375 *  \n",
    "#tmp = tmp[tmp['Domain_English'] == 'Economic & Social Sciences'] #est -0.014963, err = 0.003239, p val = 3.85e-06 ***\n",
    "#tmp = tmp[tmp['Domain_English'] == 'Health Sciences'] #est = -0.0005960, err = 0.0011718, p val = 0.611018\n",
    "tmp = tmp[tmp['Domain_English'] == 'Natural Sciences'] #est = -0.0043780, err = 0.0018455, p val = 0.017680 * \n",
    "\n",
    "\n",
    "##overall regression: male gets hitgher value: more positive means more conservative\n",
    "\n",
    "with localconverter(ro.default_converter + pandas2ri.converter):\n",
    "  tst_df = ro.conversion.py2rpy(tmp)\n",
    "\n",
    "col_2_index = list(tst_df.colnames).index('year')\n",
    "col_2 = ro.vectors.FactorVector(tst_df.rx2('year'))\n",
    "tst_df[col_2_index] = col_2\n",
    "\n",
    "col_2_index = list(tst_df.colnames).index('q')\n",
    "col_2 = ro.vectors.FactorVector(tst_df.rx2('q'))\n",
    "tst_df[col_2_index] = col_2\n",
    "\n",
    "\n",
    "col_2_index = list(tst_df.colnames).index('SubField_English')\n",
    "col_2 = ro.vectors.FactorVector(tst_df.rx2('SubField_English'))\n",
    "tst_df[col_2_index] = col_2\n",
    "\n",
    "col_2_index = list(tst_df.colnames).index('Field_English')\n",
    "col_2 = ro.vectors.FactorVector(tst_df.rx2('Field_English'))\n",
    "tst_df[col_2_index] = col_2\n",
    "\n",
    "col_2_index = list(tst_df.colnames).index('G')\n",
    "col_2 = ro.vectors.FactorVector(tst_df.rx2('G'))\n",
    "tst_df[col_2_index] = col_2\n",
    "\n",
    "\n",
    "#print(tst_df)\n",
    "#pandas2ri.activate()\n",
    "model = stats.glm(\"ideology ~ G+year+SubField_English+q\",\n",
    "                  data=tst_df,weights = tst_df.rx2('row_count'),family=ro.r('gaussian')) #family=ro.r('gaussian(link=\"identity\")') #family=ro.r('poisson(link=\"log\")')\n",
    "print(base.summary(model))"
   ]
  },
  {
   "cell_type": "code",
   "execution_count": 0,
   "metadata": {
    "application/vnd.databricks.v1+cell": {
     "cellMetadata": {
      "byteLimit": 2048000,
      "rowLimit": 10000
     },
     "inputWidgets": {},
     "nuid": "3e42b645-0f84-4b3e-b9fb-3552b24974e0",
     "showTitle": false,
     "title": ""
    }
   },
   "outputs": [
    {
     "output_type": "stream",
     "name": "stdout",
     "output_type": "stream",
     "text": [
      "[[-9.93014413e-02  2.99640978e-02 -3.31401406e+00  9.19769321e-04]\n [-2.62089085e-03  9.00419048e-04 -2.91074568e+00  3.60591850e-03]\n [-1.97011770e-03  1.29793315e-03 -1.51788841e+00  1.29043504e-01]\n [-2.51068431e-03  1.29117887e-03 -1.94448993e+00  5.18372605e-02]\n [-9.15292693e-04  1.28623985e-03 -7.11603434e-01  4.76710891e-01]\n [ 8.74766371e-03  1.46605407e-03  5.96680838e+00  2.42188391e-09]\n [-2.14344441e-02  2.88799879e-02 -7.42190204e-01  4.57972639e-01]\n [-2.44327291e-02  2.50184247e-02 -9.76589429e-01  3.28773182e-01]\n [ 3.75233455e-02  2.82295102e-02  1.32922410e+00  1.83774978e-01]\n [-1.80150951e-02  2.18723537e-02 -8.23646841e-01  4.10140857e-01]\n [ 7.25635766e-02  2.26428306e-02  3.20470430e+00  1.35214355e-03]\n [-4.44746786e-02  2.20537758e-02 -2.01664690e+00  4.37331959e-02]\n [ 1.12351813e-02  1.05985377e-01  1.06006900e-01  9.15576943e-01]\n [ 8.22896988e-02  2.26839448e-02  3.62766263e+00  2.86042391e-04]\n [-6.48724093e-02  2.43928822e-02 -2.65948110e+00  7.82649573e-03]\n [-1.70833346e-02  2.57052873e-02 -6.64584464e-01  5.06316780e-01]\n [-1.28592878e-01  5.60730500e-02 -2.29330985e+00  2.18308077e-02]\n [-9.31928070e-02  2.15669575e-02 -4.32109197e+00  1.55304968e-05]\n [-1.52484977e-02  2.20637081e-02 -6.91112197e-01  4.89495530e-01]\n [ 1.04559404e-01  2.27866842e-02  4.58861865e+00  4.46355095e-06]\n [-3.83984265e-02  2.17149809e-02 -1.76829198e+00  7.70130423e-02]\n [ 1.42067275e-02  2.15217262e-02  6.60110968e-01  5.09183089e-01]\n [-4.29711251e-02  2.19648758e-02 -1.95635639e+00  5.04240412e-02]\n [-4.99791334e-02  2.14083083e-02 -2.33456716e+00  1.95666496e-02]\n [-2.45804769e-02  2.20116259e-02 -1.11670428e+00  2.64121611e-01]\n [-2.11610745e-02  2.20962705e-02 -9.57676294e-01  3.38226727e-01]\n [-7.70463582e-02  2.58680152e-02 -2.97844104e+00  2.89740144e-03]\n [-4.51850057e-02  2.26565479e-02 -1.99434645e+00  4.61150406e-02]\n [-1.36946603e-02  2.43483035e-02 -5.62448235e-01  5.73811051e-01]\n [-1.00347468e-02  2.16784232e-02 -4.62890991e-01  6.43442815e-01]\n [ 8.40581872e-02  2.14234792e-02  3.92364780e+00  8.72361407e-05]\n [-8.67136784e-02  2.47497650e-02 -3.50361623e+00  4.59047971e-04]\n [-9.57414421e-02  2.16973412e-02 -4.41258867e+00  1.02174740e-05]\n [ 1.43004703e-03  3.35092862e-02  4.26761413e-02  9.65959725e-01]\n [ 4.78188468e-02  2.24627609e-02  2.12880540e+00  3.32711140e-02]\n [-1.25662091e-01  2.16792404e-02 -5.79642503e+00  6.78057644e-09]\n [ 1.24486238e-01  3.78141999e-02  3.29205004e+00  9.94705178e-04]\n [-8.88388775e-02  7.64089663e-02 -1.16267608e+00  2.44961803e-01]\n [-3.65322338e-02  2.15946803e-02 -1.69172376e+00  9.06996143e-02]\n [-1.03750932e-01  2.86692847e-02 -3.61888806e+00  2.95916448e-04]\n [-2.10148833e-02  2.34710974e-02 -8.95351547e-01  3.70599856e-01]\n [-1.01220666e-01  3.78086020e-02 -2.67718616e+00  7.42470977e-03]\n [ 1.22244108e-01  2.38839209e-02  5.11825961e+00  3.08543035e-07]\n [ 8.11212268e-02  2.17249862e-02  3.73400590e+00  1.88490215e-04]\n [ 2.70467264e-01  7.64101236e-02  3.53967839e+00  4.00670831e-04]\n [-8.84310813e-02  2.99723228e-02 -2.95042469e+00  3.17360026e-03]\n [-1.92626100e-02  2.15649668e-02 -8.93236246e-01  3.71731333e-01]\n [-4.44425035e-02  2.12967536e-02 -2.08682057e+00  3.69051340e-02]\n [-4.81990784e-02  2.13033499e-02 -2.26251170e+00  2.36664641e-02]\n [-9.30086188e-02  7.64218761e-02 -1.21704181e+00  2.23589191e-01]\n [ 7.41054756e-03  2.15298597e-02  3.44198600e-01  7.30697158e-01]\n [-6.09171150e-03  2.14463479e-02 -2.84044236e-01  7.76376661e-01]\n [-9.51360297e-02  5.60686481e-02 -1.69677766e+00  8.97396606e-02]\n [ 7.14655678e-02  2.22693919e-02  3.20913872e+00  1.33146158e-03]\n [ 5.67105269e-02  2.15581528e-02  2.63058377e+00  8.52423783e-03]\n [-3.59356634e-02  2.14888054e-02 -1.67229694e+00  9.44667464e-02]\n [-3.75223005e-02  2.20900878e-02 -1.69860350e+00  8.93948734e-02]\n [ 3.20324242e-02  2.45177462e-02  1.30649954e+00  1.91383659e-01]\n [-5.64120018e-02  2.20119645e-02 -2.56278815e+00  1.03839848e-02]\n [-4.18255733e-02  2.14243105e-02 -1.95224828e+00  5.09095925e-02]\n [ 4.89250761e-02  2.46529106e-02  1.98455578e+00  4.71947559e-02]\n [-5.60364506e-02  2.15754446e-02 -2.59723272e+00  9.39824632e-03]\n [-3.01974780e-02  2.16190546e-02 -1.39679919e+00  1.62474920e-01]\n [ 1.45097211e-02  2.30993034e-02  6.28145395e-01  5.29909139e-01]\n [ 1.52726628e-02  2.66875956e-02  5.72275712e-01  5.67135597e-01]\n [-3.85214171e-02  2.21230539e-02 -1.74123415e+00  8.16434890e-02]\n [-7.62010724e-02  2.21997369e-02 -3.43252142e+00  5.98071074e-04]\n [ 1.84866815e-02  2.21207967e-02  8.35714993e-01  4.03315873e-01]\n [-5.20531368e-02  2.25548437e-02 -2.30784738e+00  2.10082518e-02]\n [ 6.82982375e-02  2.18024397e-02  3.13259610e+00  1.73283077e-03]\n [-4.62474411e-02  2.70819113e-02 -1.70768749e+00  8.76952995e-02]\n [ 5.79316711e-02  2.12705632e-02  2.72356075e+00  6.45857861e-03]\n [-1.15199612e-01  3.02970123e-02 -3.80234231e+00  1.43360668e-04]\n [ 1.42443712e-01  5.10384677e-02  2.79090886e+00  5.25633350e-03]\n [-5.54590796e-03  4.23958657e-02 -1.30812471e-01  8.95923738e-01]\n [-8.05845690e-02  2.18050444e-02 -3.69568469e+00  2.19330972e-04]\n [ 5.46716661e-02  6.35771927e-02  8.59925765e-01  3.89830599e-01]\n [ 1.81831694e-03  2.32014690e-02  7.83707679e-02  9.37533174e-01]\n [-2.41632778e-02  2.16376503e-02 -1.11672374e+00  2.64113290e-01]\n [-5.62214529e-02  2.36019427e-02 -2.38206886e+00  1.72162496e-02]\n [-8.24936343e-02  2.37719256e-02 -3.47021254e+00  5.20114089e-04]\n [-1.91811652e-02  3.67081148e-02 -5.22532014e-01  6.01300318e-01]\n [ 1.04935543e-01  2.33389479e-02  4.49615566e+00  6.92169594e-06]\n [ 5.70916093e-02  2.22136905e-02  2.57010915e+00  1.01670889e-02]\n [ 4.37162459e-02  2.15613512e-02  2.02752812e+00  4.26092457e-02]\n [-4.91512591e-02  2.46914403e-02 -1.99061936e+00  4.65235867e-02]\n [-1.50928747e-02  7.64117254e-02 -1.97520402e-01  8.43420441e-01]\n [-5.72145098e-02  2.84370351e-02 -2.01197169e+00  4.42237446e-02]\n [ 2.43918385e-02  2.13841990e-02  1.14064775e+00  2.54017378e-01]\n [ 2.39807937e-03  2.35558914e-02  1.01803805e-01  9.18912468e-01]\n [-7.59116186e-02  5.10373407e-02 -1.48737410e+00  1.36917004e-01]\n [-1.02227716e-01  3.29264356e-02 -3.10473071e+00  1.90468695e-03]\n [-2.61497426e-03  3.02972731e-02 -8.63105485e-02  9.31219606e-01]\n [-1.02443384e-01  2.45148327e-02 -4.17883268e+00  2.93085613e-05]\n [-4.99031282e-02  2.41367432e-02 -2.06751705e+00  3.86862487e-02]\n [-6.69015047e-02  2.61495100e-02 -2.55842288e+00  1.05152630e-02]\n [-4.88611444e-02  2.73678329e-02 -1.78534941e+00  7.42055912e-02]\n [-4.86952858e-02  2.58704178e-02 -1.88227675e+00  5.97993427e-02]\n [-7.40460901e-02  3.30521903e-02 -2.24027786e+00  2.50735627e-02]\n [ 7.74842171e-03  2.24134320e-02  3.45704385e-01  7.29565112e-01]\n [-3.39799909e-02  2.14917775e-02 -1.58106936e+00  1.13863152e-01]\n [-3.62652114e-02  2.25357544e-02 -1.60922997e+00  1.07567037e-01]\n [-7.26818309e-02  2.21091325e-02 -3.28741216e+00  1.01123451e-03]\n [-9.51642179e-02  1.05986443e-01 -8.97890475e-01  3.69244609e-01]\n [-4.08723341e-02  2.32342050e-02 -1.75914494e+00  7.85538346e-02]\n [-5.31822776e-03  2.33014271e-02 -2.28236139e-01  8.19462811e-01]\n [ 2.60302002e-02  2.34901242e-02  1.10813379e+00  2.67804862e-01]\n [-2.88102955e-02  2.13771004e-02 -1.34771765e+00  1.77750152e-01]\n [ 4.83013804e-04  2.13451197e-02  2.26287699e-02  9.81946408e-01]\n [-1.03936420e-01  5.60694775e-02 -1.85370767e+00  6.37818995e-02]\n [-1.47395497e-01  6.35757742e-02 -2.31842237e+00  2.04269950e-02]\n [-1.03718946e-01  3.78026674e-02 -2.74369384e+00  6.07554989e-03]\n [-4.24281026e-02  2.63470382e-02 -1.61035568e+00  1.07321201e-01]\n [-7.33175886e-02  2.13788674e-02 -3.42944213e+00  6.04898432e-04]\n [-3.79357595e-02  2.62426629e-02 -1.44557584e+00  1.48297171e-01]\n [ 2.08672487e-02  2.12712066e-02  9.81009165e-01  3.26588952e-01]\n [-1.03260670e-01  2.36985604e-02 -4.35725499e+00  1.31744104e-05]\n [ 3.47773999e-02  2.24234433e-02  1.55093932e+00  1.20917200e-01]\n [-1.90792372e-01  5.60717655e-02 -3.40264606e+00  6.67447142e-04]\n [ 9.06131961e-03  2.19581673e-02  4.12662837e-01  6.79853928e-01]\n [ 9.87064113e-02  2.14601129e-02  4.59952898e+00  4.23606658e-06]\n [ 4.91088666e-02  2.15313474e-02  2.28080787e+00  2.25604627e-02]\n [-7.34504784e-02  2.39390022e-02 -3.06823474e+00  2.15345112e-03]\n [ 4.81811635e-02  2.13106288e-02  2.26089825e+00  2.37662168e-02]\n [-2.64703585e-02  3.23726311e-02 -8.17677079e-01  4.13542202e-01]\n [ 4.16830210e-02  2.27086745e-02  1.83555500e+00  6.64244114e-02]\n [-7.16807504e-02  2.21289246e-02 -3.23923335e+00  1.19863510e-03]\n [-7.73118507e-02  2.31092527e-02 -3.34549333e+00  8.21456289e-04]\n [-8.15122646e-02  2.17358677e-02 -3.75012701e+00  1.76775659e-04]\n [-4.08519034e-02  2.75162753e-02 -1.48464510e+00  1.37638831e-01]\n [ 1.03394756e-01  2.22729380e-02  4.64216963e+00  3.44904053e-06]\n [ 4.74448416e-02  2.33914512e-02  2.02829834e+00  4.25306225e-02]\n [ 9.21496552e-03  2.20334303e-02  4.18226550e-01  6.75781762e-01]\n [ 1.31845829e-01  3.49153063e-02  3.77616130e+00  1.59292207e-04]\n [ 6.52327810e-02  2.15197272e-02  3.03130148e+00  2.43521152e-03]\n [ 6.74978213e-02  2.16327374e-02  3.12017015e+00  1.80762418e-03]\n [-1.10270380e-01  3.29158849e-02 -3.35006580e+00  8.08015544e-04]\n [-9.52960797e-02  2.34692882e-02 -4.06045888e+00  4.89878230e-05]\n [-3.82621411e-02  2.36238992e-02 -1.61963699e+00  1.05311248e-01]\n [-4.69849551e-02  2.15876316e-02 -2.17647567e+00  2.95204283e-02]\n [-6.64223441e-02  2.15093292e-02 -3.08807138e+00  2.01477042e-03]\n [-6.78961028e-02  2.22410097e-02 -3.05274372e+00  2.26777818e-03]\n [ 2.88064972e-02  2.14250916e-02  1.34452154e+00  1.78780735e-01]\n [ 1.96632861e-02  2.12835714e-02  9.23871552e-01  3.55553882e-01]\n [ 1.49235705e-03  2.31569939e-02  6.44451978e-02  9.48615782e-01]\n [-9.44747407e-02  2.63838227e-02 -3.58078288e+00  3.42616165e-04]\n [ 7.43083232e-02  2.23046238e-02  3.33152102e+00  8.63824002e-04]\n [-6.47998144e-02  2.57838949e-02 -2.51318952e+00  1.19649840e-02]\n [-1.20903593e-02  2.13520787e-02 -5.66238045e-01  5.71232361e-01]\n [ 1.40129359e-02  2.52078291e-02  5.55896181e-01  5.78282212e-01]\n [-4.25902362e-02  2.19864004e-02 -1.93711728e+00  5.27318742e-02]\n [-1.04363883e-02  5.10409579e-02 -2.04470855e-01  8.37985693e-01]\n [-1.66620055e-02  2.65674208e-02 -6.27159319e-01  5.30555247e-01]\n [ 4.06497960e-02  2.19858937e-02  1.84890351e+00  6.44726539e-02]\n [-2.63437061e-02  2.57831986e-02 -1.02173925e+00  3.06905088e-01]\n [-3.90850461e-02  3.14333098e-02 -1.24342764e+00  2.13711188e-01]\n [-3.49138469e-02  2.25637881e-02 -1.54733978e+00  1.21782308e-01]\n [ 1.96203207e-02  2.15981793e-02  9.08424753e-01  3.63654526e-01]\n [ 8.79227930e-02  2.19400523e-02  4.00741037e+00  6.14018130e-05]\n [-3.31787165e-03  2.17323473e-02 -1.52669733e-01  8.78658826e-01]\n [-3.19028980e-02  2.27978188e-02 -1.39938378e+00  1.61698881e-01]\n [-5.68783784e-02  2.25862816e-02 -2.51827102e+00  1.17937299e-02]\n [ 6.60627406e-02  2.21844027e-02  2.97789134e+00  2.90260271e-03]\n [ 1.23507386e-02  2.21972625e-02  5.56408188e-01  5.77932226e-01]\n [ 1.93322815e-02  2.14334191e-02  9.01969091e-01  3.67073956e-01]\n [-1.92505355e-02  2.54752635e-02 -7.55655993e-01  4.49856023e-01]\n [ 4.56396375e-03  2.21090974e-02  2.06429221e-01  8.36455776e-01]\n [-9.96422313e-03  2.12322029e-02 -4.69297661e-01  6.38857202e-01]\n [-1.42754212e-02  2.11574411e-02 -6.74723431e-01  4.99851975e-01]]\n"
     ]
    }
   ],
   "source": [
    "import numpy as np\n",
    "coeffs = base.summary(model).rx2('coefficients')\n",
    "print(np.array(coeffs))"
   ]
  },
  {
   "cell_type": "code",
   "execution_count": 0,
   "metadata": {
    "application/vnd.databricks.v1+cell": {
     "cellMetadata": {
      "byteLimit": 2048000,
      "rowLimit": 10000
     },
     "inputWidgets": {},
     "nuid": "672b871d-80ea-4562-8432-e0b1a53b5d5a",
     "showTitle": false,
     "title": ""
    }
   },
   "outputs": [
    {
     "output_type": "stream",
     "name": "stdout",
     "output_type": "stream",
     "text": [
      "  doi  value  year  row_count\n0   a      1    21   0.333333\n1   a      2    22   0.333333\n2   a      3    23   0.333333\n3   b      4    24   1.000000\n4   c      5    25   1.000000\n5   d      6    26   1.000000\n"
     ]
    }
   ],
   "source": [
    "a = pd.DataFrame()\n",
    "a['doi'] = ['a','a','a','b','c','d']\n",
    "a['value'] = [1,2,3,4,5,6]\n",
    "a['year'] = [21,22,23,24,25,26]\n",
    "new_df = a.groupby('doi')['value'].mean().reset_index()\n",
    "#print(new_df)\n",
    "\n",
    "a['row_count'] = a.groupby('doi')['doi'].transform('count')\n",
    "a['row_count'] = 1/a['row_count']\n",
    "print(a)"
   ]
  },
  {
   "cell_type": "code",
   "execution_count": 0,
   "metadata": {
    "application/vnd.databricks.v1+cell": {
     "cellMetadata": {},
     "inputWidgets": {},
     "nuid": "65a6b837-1fac-4ec8-ae59-e3b5b3c2e6ce",
     "showTitle": false,
     "title": ""
    }
   },
   "outputs": [],
   "source": [
    "##https://www.tutorialspoint.com/how-to-find-the-95-confidence-interval-for-the-glm-model-in-r - the glm CI matches \n",
    "##https://rviews.rstudio.com/2022/05/25/calling-r-from-python-with-rpy2/ \n",
    "#https://www.reddit.com/r/Rlanguage/comments/9tfueq/is_there_a_way_to_easily_generate_odds_ratios_and/ "
   ]
  }
 ],
 "metadata": {
  "application/vnd.databricks.v1+notebook": {
   "dashboards": [],
   "environmentMetadata": null,
   "language": "python",
   "notebookMetadata": {
    "pythonIndentUnit": 4
   },
   "notebookName": "local_international_analysis",
   "widgets": {}
  }
 },
 "nbformat": 4,
 "nbformat_minor": 0
}
