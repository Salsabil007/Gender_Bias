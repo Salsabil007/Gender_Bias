{
 "cells": [
  {
   "cell_type": "code",
   "execution_count": 2,
   "id": "53ef1f9a",
   "metadata": {},
   "outputs": [],
   "source": [
    "import math\n",
    "import pandas as pd\n",
    "import numpy as np"
   ]
  },
  {
   "cell_type": "code",
   "execution_count": 8,
   "id": "dca4e221",
   "metadata": {},
   "outputs": [
    {
     "name": "stdout",
     "output_type": "stream",
     "text": [
      "4438148\n",
      "521863\n",
      "doi         object\n",
      "news_cnt     int64\n",
      "author      object\n",
      "dtype: object\n",
      "6466\n"
     ]
    }
   ],
   "source": [
    "dd = pd.read_csv(\"doi_news_name.csv\")\n",
    "print(len(dd))\n",
    "print(dd['doi'].nunique())\n",
    "print(dd.dtypes)\n",
    "print(dd['author'].nunique())"
   ]
  },
  {
   "cell_type": "code",
   "execution_count": 66,
   "id": "ed9356b7",
   "metadata": {},
   "outputs": [
    {
     "name": "stdout",
     "output_type": "stream",
     "text": [
      "4438148\n",
      "521863\n"
     ]
    }
   ],
   "source": [
    "dd = pd.read_csv(\"doi_news_name.csv\")\n",
    "print(len(dd))\n",
    "print(dd['doi'].nunique())\n",
    "dd = dd.drop(['news_cnt'], axis = 1)\n",
    "#print(dd.dtypes)\n",
    "#print(dd.head(5))\n",
    "dd = dd.rename(columns = {'author':'media'})\n",
    "dd['media'] = dd['media'].str.lower()"
   ]
  },
  {
   "cell_type": "code",
   "execution_count": 69,
   "id": "edfad67d",
   "metadata": {},
   "outputs": [
    {
     "data": {
      "text/html": [
       "<div>\n",
       "<style scoped>\n",
       "    .dataframe tbody tr th:only-of-type {\n",
       "        vertical-align: middle;\n",
       "    }\n",
       "\n",
       "    .dataframe tbody tr th {\n",
       "        vertical-align: top;\n",
       "    }\n",
       "\n",
       "    .dataframe thead th {\n",
       "        text-align: right;\n",
       "    }\n",
       "</style>\n",
       "<table border=\"1\" class=\"dataframe\">\n",
       "  <thead>\n",
       "    <tr style=\"text-align: right;\">\n",
       "      <th></th>\n",
       "      <th>doi</th>\n",
       "      <th>media</th>\n",
       "    </tr>\n",
       "  </thead>\n",
       "  <tbody>\n",
       "    <tr>\n",
       "      <th>19786</th>\n",
       "      <td>10.1038/d41586-020-01741-7</td>\n",
       "      <td>thenewyorker</td>\n",
       "    </tr>\n",
       "    <tr>\n",
       "      <th>41176</th>\n",
       "      <td>10.1038/d41586-020-02801-8</td>\n",
       "      <td>thenewyorker</td>\n",
       "    </tr>\n",
       "    <tr>\n",
       "      <th>42293</th>\n",
       "      <td>10.1038/d41586-020-00387-9</td>\n",
       "      <td>thenewyorker</td>\n",
       "    </tr>\n",
       "    <tr>\n",
       "      <th>44455</th>\n",
       "      <td>10.1038/d41586-020-00927-3</td>\n",
       "      <td>thenewyorker</td>\n",
       "    </tr>\n",
       "    <tr>\n",
       "      <th>52173</th>\n",
       "      <td>10.1038/d41586-019-03595-0</td>\n",
       "      <td>thenewyorker</td>\n",
       "    </tr>\n",
       "    <tr>\n",
       "      <th>...</th>\n",
       "      <td>...</td>\n",
       "      <td>...</td>\n",
       "    </tr>\n",
       "    <tr>\n",
       "      <th>4390118</th>\n",
       "      <td>10.1016/j.rse.2018.03.020</td>\n",
       "      <td>thenewyorker</td>\n",
       "    </tr>\n",
       "    <tr>\n",
       "      <th>4412342</th>\n",
       "      <td>10.1093/joc/jqy051</td>\n",
       "      <td>thenewyorker</td>\n",
       "    </tr>\n",
       "    <tr>\n",
       "      <th>4414098</th>\n",
       "      <td>10.1177/2056305118763366</td>\n",
       "      <td>thenewyorker</td>\n",
       "    </tr>\n",
       "    <tr>\n",
       "      <th>4421904</th>\n",
       "      <td>10.1177/15554120211014151</td>\n",
       "      <td>thenewyorker</td>\n",
       "    </tr>\n",
       "    <tr>\n",
       "      <th>4430387</th>\n",
       "      <td>10.1177/1078087419838058</td>\n",
       "      <td>thenewyorker</td>\n",
       "    </tr>\n",
       "  </tbody>\n",
       "</table>\n",
       "<p>245 rows × 2 columns</p>\n",
       "</div>"
      ],
      "text/plain": [
       "                                doi         media\n",
       "19786    10.1038/d41586-020-01741-7  thenewyorker\n",
       "41176    10.1038/d41586-020-02801-8  thenewyorker\n",
       "42293    10.1038/d41586-020-00387-9  thenewyorker\n",
       "44455    10.1038/d41586-020-00927-3  thenewyorker\n",
       "52173    10.1038/d41586-019-03595-0  thenewyorker\n",
       "...                             ...           ...\n",
       "4390118   10.1016/j.rse.2018.03.020  thenewyorker\n",
       "4412342          10.1093/joc/jqy051  thenewyorker\n",
       "4414098    10.1177/2056305118763366  thenewyorker\n",
       "4421904   10.1177/15554120211014151  thenewyorker\n",
       "4430387    10.1177/1078087419838058  thenewyorker\n",
       "\n",
       "[245 rows x 2 columns]"
      ]
     },
     "execution_count": 69,
     "metadata": {},
     "output_type": "execute_result"
    }
   ],
   "source": [
    "\n",
    "dd[dd['media'] == 'thenewyorker']\n",
    "#a = [string for string in dd['media'].unique() if string.endswith(\".com\")]\n"
   ]
  },
  {
   "cell_type": "code",
   "execution_count": 22,
   "id": "902aefbc",
   "metadata": {},
   "outputs": [
    {
     "name": "stdout",
     "output_type": "stream",
     "text": [
      "4438148\n",
      "521863\n",
      "                          doi            media\n",
      "0  10.1038/d41586-021-03543-x  technologytimes\n",
      "1  10.1038/d41586-022-02801-w       headtopics\n",
      "2  10.1038/d41586-022-02801-w     spectrumnews\n",
      "3  10.1038/d41586-022-00403-0     timesofindia\n",
      "4  10.1038/d41586-022-00403-0       mtvuutiset\n",
      "length of doi  4438148\n",
      "272\n",
      "272\n",
      "4438148\n",
      "                           doi            media  is_top\n",
      "0   10.1038/d41586-021-03543-x  technologytimes     0.0\n",
      "1   10.1038/d41586-022-02801-w       headtopics     0.0\n",
      "2   10.1038/d41586-022-02801-w     spectrumnews     0.0\n",
      "3   10.1038/d41586-022-00403-0     timesofindia     1.0\n",
      "4   10.1038/d41586-022-00403-0       mtvuutiset     0.0\n",
      "5   10.1038/d41586-022-00403-0              msn     1.0\n",
      "6   10.1038/d41586-022-00403-0              msn     1.0\n",
      "7   10.1038/d41586-022-00403-0     indexhungary     0.0\n",
      "8   10.1038/d41586-022-00403-0         mediumus     0.0\n",
      "9   10.1038/d41586-022-00403-0      theguardian     1.0\n",
      "10  10.1038/d41586-022-00403-0       yahoo!news     0.0\n",
      "11  10.1038/d41586-022-00403-0     businessfast     0.0\n",
      "12  10.1038/d41586-022-00403-0              msn     1.0\n",
      "13  10.1038/d41586-022-00403-0     newsgrooveuk     0.0\n",
      "14  10.1038/d41586-022-00403-0        medportal     0.0\n",
      "15  10.1038/d41586-022-00403-0        aufeminin     0.0\n",
      "16  10.1038/d41586-022-00403-0        elespañol     0.0\n",
      "17  10.1038/d41586-022-00403-0     theaseanpost     0.0\n",
      "18  10.1038/d41586-022-00403-0     ilmessaggero     0.0\n",
      "19  10.1038/d41586-022-00403-0       abcnyheter     0.0\n",
      "566000\n"
     ]
    }
   ],
   "source": [
    "dd = pd.read_csv(\"doi_news_name.csv\")\n",
    "print(len(dd))\n",
    "print(dd['doi'].nunique())\n",
    "dd = dd.drop(['news_cnt'], axis = 1)\n",
    "#print(dd.dtypes)\n",
    "#print(dd.head(5))\n",
    "dd = dd.rename(columns = {'author':'media'})\n",
    "\n",
    "dd['media'] = dd['media'].str.strip()\n",
    "dd['media'] = dd['media'].str.replace(r'\\s+', '', regex=True)\n",
    "dd['media'] = dd['media'].str.lower()\n",
    "dd['media'] = dd['media'].str.replace(r'\\.com$', '', regex=True)\n",
    "print(dd.head(5))\n",
    "print(\"length of doi \",len(dd))\n",
    "\n",
    "df = pd.read_excel(\"media_by_me.xlsx\", 'combined')\n",
    "print(len(df))\n",
    "#print(df.head(10))\n",
    "df['media'] = df['media'].str.strip()\n",
    "df['media'] = df['media'].str.replace(r'\\s+', '', regex=True)\n",
    "df['media'] = df['media'].str.lower()\n",
    "df['media'] = df['media'].str.replace(r'\\.com$', '', regex=True)\n",
    "print(len(df))\n",
    "df = df.drop_duplicates()\n",
    "df['is_top'] = 1\n",
    "\n",
    "res = dd.merge(df, on = 'media', how = 'left')\n",
    "\n",
    "res.fillna({'is_top':0}, inplace=True)\n",
    "print(len(res))\n",
    "print(res.head(20))\n",
    "print(len(res[res['is_top'] > 0]))\n",
    "\n",
    "#dd.to_csv(\"doi_media_for_databricks.csv\", index = False)"
   ]
  },
  {
   "cell_type": "code",
   "execution_count": 6,
   "id": "c0f1f79b",
   "metadata": {},
   "outputs": [
    {
     "name": "stdout",
     "output_type": "stream",
     "text": [
      "4438148\n",
      "521863\n",
      "doi         object\n",
      "news_cnt     int64\n",
      "author      object\n",
      "dtype: object\n",
      "unique news media  6451\n"
     ]
    }
   ],
   "source": [
    "dd = pd.read_csv(\"doi_news_name.csv\")\n",
    "print(len(dd))\n",
    "print(dd['doi'].nunique())\n",
    "print(dd.dtypes)\n",
    "author_cnt = dd.groupby('author')['doi'].count().reset_index()\n",
    "author_cnt.columns = ['media', 'no_of_doi']\n",
    "author_cnt = author_cnt.sort_values(by=['no_of_doi'], ascending = False)\n",
    "author_cnt['media'] = author_cnt['media'].str.strip()\n",
    "author_cnt['media'] = author_cnt['media'].str.replace(r'\\s+', '', regex=True)\n",
    "author_cnt['media'] = author_cnt['media'].str.lower()\n",
    "author_cnt['media'] = author_cnt['media'].str.replace(r'\\.com$', '', regex=True)\n",
    "#print(author_cnt.tail(30))\n",
    "print(\"unique news media \",author_cnt['media'].nunique())\n",
    "author_cnt.to_csv(\"unique_media_names.csv\", index = False)"
   ]
  },
  {
   "cell_type": "code",
   "execution_count": 61,
   "id": "b8875a54",
   "metadata": {},
   "outputs": [
    {
     "name": "stdout",
     "output_type": "stream",
     "text": [
      "[]\n"
     ]
    }
   ],
   "source": [
    "strings_with_com = [string for string in author_cnt['media'] if string.endswith(\".com\")]\n",
    "\n",
    "print(strings_with_com)"
   ]
  },
  {
   "cell_type": "code",
   "execution_count": 10,
   "id": "d45f43f9",
   "metadata": {},
   "outputs": [
    {
     "name": "stdout",
     "output_type": "stream",
     "text": [
      "     media  no_of_doi\n",
      "5872  vice       6709\n"
     ]
    }
   ],
   "source": [
    "print(author_cnt[author_cnt['media'] == 'vice'])"
   ]
  },
  {
   "cell_type": "code",
   "execution_count": 4,
   "id": "9f3b41bc",
   "metadata": {},
   "outputs": [
    {
     "name": "stdout",
     "output_type": "stream",
     "text": [
      "273\n",
      "273\n",
      "269\n"
     ]
    }
   ],
   "source": [
    "df = pd.read_excel(\"media_by_me_2.xlsx\", 'combined')\n",
    "print(len(df))\n",
    "#print(df.head(10))\n",
    "df['media'] = df['media'].str.strip()\n",
    "df['media'] = df['media'].str.replace(r'\\s+', '', regex=True)\n",
    "df['media'] = df['media'].str.lower()\n",
    "df['media'] = df['media'].str.replace(r'\\.com$', '', regex=True)\n",
    "print(len(df))\n",
    "df = df.drop_duplicates()\n",
    "print(len(df))\n",
    "#print(df.head(10))"
   ]
  },
  {
   "cell_type": "code",
   "execution_count": 5,
   "id": "4cc1c003",
   "metadata": {},
   "outputs": [
    {
     "name": "stdout",
     "output_type": "stream",
     "text": [
      "115\n",
      "115\n",
      "115\n",
      "{'thesandiegounion-tribune', 'livescience', 'scitechdaily', 'washingtonpost', 'losangelestimes', 'thesacramentobee', 'southfloridasun-sentinel', 'wired', 'tampabaytimes', 'nbcnews', 'thearizonarepublic', 'space', 'sfgate', 'abcnews', 'complex', 'thehill', 'thedailybeast', 'theconversation', 'morningnews', 'cnbc', 'sciencex', 'forbes', 'chemistryworld', 'theindianapolisstar', 'sciencedaily', 'cosmopolitan', 'thenewyorker', 'thedenverpost', 'dailyherald', 'startribune', 'newscientist', 'nationalgeographic', 'india', 'glamour', 'newyorktimes', 'eurekalert!', 'futurism', 'detroitfreepress', 'dailynews', 'refinery29', 'advancedsciencenews', 'buzzfeed', 'medium', 'newyorkpost', 'hindustantimes', 'theguardian', 'popularscience', 'msn', 'sciencenews', 'businessinsider', 'chicagosun-times', 'newyorkdailynews', 'foxnews', 'usatoday', 'futurity', 'scientificamerican', 'thesaltlaketribune', 'people', 'huffpost', 'marketwatch', 'arstechnica', 'nature', 'st.louispost-dispatch', 'bloomberg', 'theepochtimes', 'dailystar', 'scimex', 'thedallasmorningnews', 'timesofindia', 'newstribune', 'health', 'miamiherald', 'sci-news', 'thebostonglobe', 'star-telegram', 'phys.org', 'chicagotribune', 'gizmodo', 'vice', 'courier-journal', 'lifehacker', 'news18', \"investor'sbusinessdaily\", 'democratandchronicle'}\n",
      "84\n"
     ]
    }
   ],
   "source": [
    "d = pd.read_excel(\"media_by_me_classification.xlsx\", 'Sheet10')\n",
    "print(len(d))\n",
    "#print(df.head(10))\n",
    "d['media'] = d['media'].str.strip()\n",
    "d['media'] = d['media'].str.replace(r'\\s+', '', regex=True)\n",
    "d['media'] = d['media'].str.lower()\n",
    "d['media'] = d['media'].str.replace(r'\\.com$', '', regex=True)\n",
    "print(len(d))\n",
    "d = d.drop_duplicates()\n",
    "print(len(d))\n",
    "\n",
    "\n",
    "intersection = set(df['media']) & set(d['media'])\n",
    "# Print the intersection\n",
    "print(intersection)\n",
    "print(len(intersection))"
   ]
  },
  {
   "cell_type": "code",
   "execution_count": 12,
   "id": "fc08a1c4",
   "metadata": {},
   "outputs": [
    {
     "data": {
      "text/html": [
       "<div>\n",
       "<style scoped>\n",
       "    .dataframe tbody tr th:only-of-type {\n",
       "        vertical-align: middle;\n",
       "    }\n",
       "\n",
       "    .dataframe tbody tr th {\n",
       "        vertical-align: top;\n",
       "    }\n",
       "\n",
       "    .dataframe thead th {\n",
       "        text-align: right;\n",
       "    }\n",
       "</style>\n",
       "<table border=\"1\" class=\"dataframe\">\n",
       "  <thead>\n",
       "    <tr style=\"text-align: right;\">\n",
       "      <th></th>\n",
       "      <th>media</th>\n",
       "      <th>no_of_doi</th>\n",
       "    </tr>\n",
       "  </thead>\n",
       "  <tbody>\n",
       "    <tr>\n",
       "      <th>1866</th>\n",
       "      <td>eurekalert!</td>\n",
       "      <td>94849</td>\n",
       "    </tr>\n",
       "  </tbody>\n",
       "</table>\n",
       "</div>"
      ],
      "text/plain": [
       "            media  no_of_doi\n",
       "1866  eurekalert!      94849"
      ]
     },
     "execution_count": 12,
     "metadata": {},
     "output_type": "execute_result"
    }
   ],
   "source": [
    "author_cnt[author_cnt['media'] == \"eurekalert!\"]"
   ]
  },
  {
   "cell_type": "code",
   "execution_count": 65,
   "id": "c66226cc",
   "metadata": {
    "scrolled": true
   },
   "outputs": [
    {
     "name": "stdout",
     "output_type": "stream",
     "text": [
      "{'newyorkpost', 'newyorkdailynews', \"investor'sbusinessdaily\", 'people', 'futurism', 'startribune', 'foxnews', 'indiatimes', 'news18', 'thehill', 'southfloridasun-sentinel', 'scimex', 'chicagotribune', 'losangelestimes', 'buzzfeed', 'chicagosun-times', 'nationalgeographic', 'dailyherald', 'hindustantimes', 'marketwatch', 'detroitfreepress', 'popularscience', 'thearizonarepublic', 'washingtonpost', 'deadline', 'gizmodo', 'huffpost', 'vice', 'dailynews', 'cnbc', 'complex', 'democratandchronicle', 'nbcnews', 'theguardian', 'glamour', 'thesaltlaketribune', 'sfgate', 'health', 'newyorktimes', 'courier-journal', 'medium', 'futurity', 'phys.org', 'dailystar', 'india', 'theepochtimes', 'cosmopolitan', 'thesacramentobee', 'thebostonglobe', 'timesofindia', 'usatoday', 'tampabaytimes', 'newscientist', 'miamiherald', 'nature', 'thedailybeast', 'thenewyorker', 'businessinsider', 'thedallasmorningnews', 'thedenverpost', 'scientificamerican', 'eurekalert!', 'lifehacker', 'morningnews', 'chemistryworld', 'wired', 'advancedsciencenews', 'laopinión', 'star-telegram', 'livescience', 'theindianapolisstar', 'sciencenews', 'abcnews', 'sci-news', 'space', 'msn', 'sciencedaily', 'scitechdaily', 'forbes', 'sciencex', 'theconversation', 'newstribune', 'arstechnica', 'bloomberg', 'refinery29', 'st.louispost-dispatch', 'wallstreetjournal', 'thesandiegounion-tribune'}\n",
      "88\n",
      "True\n"
     ]
    }
   ],
   "source": [
    "#intersection = df['media'][df['media'].isin(author_cnt['media'])]\n",
    "\n",
    "intersection = set(df['media']) & set(author_cnt['media'])\n",
    "# Print the intersection\n",
    "print(intersection)\n",
    "print(len(intersection))\n",
    "\n",
    "\n",
    "\n",
    "# Print the Boolean Series\n",
    "s = \"eurekalert!\"\n",
    "print(s in intersection)"
   ]
  },
  {
   "cell_type": "markdown",
   "id": "e40a0482",
   "metadata": {},
   "source": [
    "# drafts and tests"
   ]
  },
  {
   "cell_type": "code",
   "execution_count": 6,
   "id": "b50fc0bc",
   "metadata": {},
   "outputs": [
    {
     "name": "stdout",
     "output_type": "stream",
     "text": [
      "    doi    author  name\n",
      "0  doi1  Author A     1\n",
      "1  doi2  Author A     1\n",
      "2  doi3  Author B     2\n",
      "3  doi4  Author C     2\n",
      "4  doi5  Author B     3\n",
      "     Author  Number of DOIs\n",
      "0  Author A               2\n",
      "1  Author B               2\n",
      "2  Author C               1\n"
     ]
    }
   ],
   "source": [
    "import pandas as pd\n",
    "\n",
    "# Assuming dataset is your dataset DataFrame\n",
    "data = {\n",
    "    'doi': ['doi1', 'doi2', 'doi3', 'doi4', 'doi5'],\n",
    "    'author': ['Author A', 'Author A', 'Author B', 'Author C', 'Author B'],\n",
    "    'name': [1,1,2,2,3]\n",
    "}\n",
    "\n",
    "dataset = pd.DataFrame(data)\n",
    "print(dataset)\n",
    "\n",
    "# Group the dataset by 'author' and count the number of DOIs for each author\n",
    "author_counts = dataset.groupby('author')['doi'].count().reset_index()\n",
    "\n",
    "# Rename the columns for clarity\n",
    "author_counts.columns = ['Author', 'Number of DOIs']\n",
    "\n",
    "print(author_counts)\n"
   ]
  },
  {
   "cell_type": "code",
   "execution_count": 31,
   "id": "8656e57e",
   "metadata": {},
   "outputs": [
    {
     "name": "stdout",
     "output_type": "stream",
     "text": [
      "  column_name\n",
      "2      value3\n"
     ]
    }
   ],
   "source": [
    "import pandas as pd\n",
    "\n",
    "# Create a sample DataFrame\n",
    "data = {'column_name': ['  value1', 'value2  ', '  value3  ']}\n",
    "df = pd.DataFrame(data)\n",
    "#print(df)\n",
    "\n",
    "# Remove leading and trailing whitespace from a specific column\n",
    "df['column_name'] = df['column_name'].str.strip()\n",
    "\n",
    "# Print the modified DataFrame\n",
    "print(df[df['column_name'] == 'value3'])\n"
   ]
  },
  {
   "cell_type": "code",
   "execution_count": 34,
   "id": "506b30d5",
   "metadata": {},
   "outputs": [
    {
     "name": "stdout",
     "output_type": "stream",
     "text": [
      "  column_name\n",
      "0      value1\n",
      "1      value2\n",
      "2      value3\n"
     ]
    }
   ],
   "source": [
    "import pandas as pd\n",
    "\n",
    "# Create a sample DataFrame\n",
    "data = {'column_name': ['  value 1 ', 'value 2  ', '  value 3  ']}\n",
    "df = pd.DataFrame(data)\n",
    "\n",
    "# Remove all white spaces from a specific column\n",
    "df['column_name'] = df['column_name'].str.replace(r'\\s+', '', regex=True)\n",
    "\n",
    "# Print the modified DataFrame\n",
    "print(df)"
   ]
  },
  {
   "cell_type": "code",
   "execution_count": 43,
   "id": "fe45f6ac",
   "metadata": {},
   "outputs": [
    {
     "name": "stdout",
     "output_type": "stream",
     "text": [
      "  column_name\n",
      "0     example\n",
      "1     website\n",
      "2      domain\n"
     ]
    }
   ],
   "source": [
    "import pandas as pd\n",
    "\n",
    "# Create a sample DataFrame\n",
    "data = {'column_name': ['example.com', 'website.com', 'domain.com']}\n",
    "df = pd.DataFrame(data)\n",
    "\n",
    "# Remove \".com\" at the end of each string in a specific column\n",
    "df['column_name'] = df['column_name'].str.replace(r'\\.com$', '', regex=True)\n",
    "\n",
    "# Print the modified DataFrame\n",
    "print(df)\n"
   ]
  },
  {
   "cell_type": "code",
   "execution_count": null,
   "id": "ec031ac8",
   "metadata": {},
   "outputs": [],
   "source": [
    "#remove .com at the end, make everything small letter, remove any space (leading, tailing, or middle)"
   ]
  },
  {
   "cell_type": "code",
   "execution_count": 19,
   "id": "01f78f7c",
   "metadata": {},
   "outputs": [
    {
     "name": "stdout",
     "output_type": "stream",
     "text": [
      "Empty DataFrame\n",
      "Columns: [media, no_of_doi]\n",
      "Index: []\n"
     ]
    }
   ],
   "source": [
    "print(author_cnt[author_cnt['media'] == 'Cnn.com'])"
   ]
  },
  {
   "cell_type": "code",
   "execution_count": 24,
   "id": "209e372e",
   "metadata": {},
   "outputs": [
    {
     "name": "stdout",
     "output_type": "stream",
     "text": [
      "   id name\n",
      "0   1    a\n",
      "2   3    c\n",
      "4   5    c\n"
     ]
    }
   ],
   "source": [
    "import pandas as pd\n",
    "\n",
    "# Sample DataFrame\n",
    "data = {'id': [1, 2, 3, 4, 5], \"name\":['a','b','c','a','c']}\n",
    "df = pd.DataFrame(data)\n",
    "\n",
    "# List of IDs to remove\n",
    "ids_to_remove = [2, 4]\n",
    "\n",
    "# Filtering rows\n",
    "filtered_df = df[~df['id'].isin(ids_to_remove)]\n",
    "\n",
    "print(filtered_df)\n"
   ]
  },
  {
   "cell_type": "code",
   "execution_count": 9,
   "id": "3b49dfa9",
   "metadata": {},
   "outputs": [
    {
     "name": "stdout",
     "output_type": "stream",
     "text": [
      "   id     name other_name\n",
      "0   1    Alice      Name1\n",
      "1   1      Bob      Name1\n",
      "2   3  Charlie      Name1\n",
      "3   4    David      Name2\n",
      "4   5      Eva      Name2\n",
      "5   6    Frank      Name3\n"
     ]
    }
   ],
   "source": [
    "import pandas as pd\n",
    "\n",
    "# Create a sample DataFrame\n",
    "data = {'id': [[1, 1, 3], [4, 5], [6]],\n",
    "        'name': [['Alice', 'Bob', 'Charlie'], ['David', 'Eva'], ['Frank']],\n",
    "        'other_name': ['Name1', 'Name2', 'Name3']}\n",
    "\n",
    "df = pd.DataFrame(data)\n",
    "\n",
    "# Create empty lists to store the exploded data\n",
    "exploded_data = []\n",
    "\n",
    "# Iterate over rows\n",
    "for index, row in df.iterrows():\n",
    "    ids = row['id']\n",
    "    names = row['name']\n",
    "    other_name = row['other_name']\n",
    "    \n",
    "    # Pair each ID with its corresponding name and other_name\n",
    "    for i in range(len(ids)):\n",
    "        exploded_data.append({'id': ids[i], 'name': names[i], 'other_name': other_name})\n",
    "\n",
    "# Create a new DataFrame from the exploded data\n",
    "df_expanded = pd.DataFrame(exploded_data)\n",
    "\n",
    "print(df_expanded)\n"
   ]
  },
  {
   "cell_type": "code",
   "execution_count": 6,
   "id": "6e6a1aca",
   "metadata": {},
   "outputs": [
    {
     "name": "stdout",
     "output_type": "stream",
     "text": [
      "          id                   name class\n",
      "0  [1, 2, 3]  [Alice, Bob, Charlie]     a\n",
      "1     [4, 5]           [David, Eva]     b\n",
      "2        [6]                [Frank]     b\n",
      "   id     name\n",
      "0   1    Alice\n",
      "1   2      Bob\n",
      "2   3  Charlie\n",
      "3   4    David\n",
      "4   5      Eva\n",
      "5   6    Frank\n"
     ]
    }
   ],
   "source": [
    "import pandas as pd\n",
    "\n",
    "# Create a sample DataFrame\n",
    "data = {'id': [[1, 2, 3], [4, 5], [6]],\n",
    "        'name': [['Alice', 'Bob', 'Charlie'], ['David', 'Eva'], ['Frank']],\n",
    "         'class': ['a','b','b']}\n",
    "\n",
    "df = pd.DataFrame(data)\n",
    "print(df)\n",
    "\n",
    "# Create empty lists to store the exploded data\n",
    "exploded_data = []\n",
    "\n",
    "# Iterate over rows\n",
    "for index, row in df.iterrows():\n",
    "    ids = row['id']\n",
    "    names = row['name']\n",
    "    \n",
    "    # Pair each ID with its corresponding name\n",
    "    for i in range(len(ids)):\n",
    "        exploded_data.append({'id': ids[i], 'name': names[i]})\n",
    "\n",
    "# Create a new DataFrame from the exploded data\n",
    "df_expanded = pd.DataFrame(exploded_data)\n",
    "\n",
    "print(df_expanded)\n"
   ]
  },
  {
   "cell_type": "code",
   "execution_count": 3,
   "id": "50f91b38",
   "metadata": {},
   "outputs": [
    {
     "name": "stdout",
     "output_type": "stream",
     "text": [
      "  id     name other_name1 other_name2\n",
      "0  1    Alice       Name1      Value1\n",
      "1  1      Bob       Name1      Value1\n",
      "2  3  Charlie       Name1      Value1\n",
      "3  4    David       Name2      Value2\n",
      "4  5      Eva       Name2      Value2\n",
      "5  6    Frank       Name3      Value3\n",
      "6  7    Trudy       Name3      Value3\n"
     ]
    }
   ],
   "source": [
    "import pandas as pd\n",
    "\n",
    "# Create a sample DataFrame\n",
    "data = {'id': [[1, 1, 3], [4, 5], [6,7]],\n",
    "        'name': [['Alice', 'Bob', 'Charlie'], ['David', 'Eva'], ['Frank','Trudy']],\n",
    "        'other_name1': ['Name1', 'Name2', 'Name3'],\n",
    "        'other_name2': ['Value1', 'Value2', 'Value3']}\n",
    "\n",
    "df = pd.DataFrame(data)\n",
    "\n",
    "# Explode the 'id' and 'name' columns\n",
    "df_expanded = df.explode(['id', 'name'])\n",
    "\n",
    "# Repeat the other_name columns to match the length after exploding\n",
    "num_other_name_columns = df.filter(like='other_name').shape[1]  # Count other_name columns\n",
    "\n",
    "for i in range(1, num_other_name_columns + 1):\n",
    "    column_name = f'other_name{i}'\n",
    "    df_expanded[column_name] = df[column_name].repeat(df['id'].str.len())\n",
    "\n",
    "# Reset the index\n",
    "df_expanded.reset_index(drop=True, inplace=True)\n",
    "\n",
    "print(df_expanded)\n",
    "\n"
   ]
  },
  {
   "cell_type": "code",
   "execution_count": 3,
   "id": "17c8a7f2",
   "metadata": {},
   "outputs": [
    {
     "name": "stdout",
     "output_type": "stream",
     "text": [
      "  id     name class other_name1 other_name2\n",
      "0  1    Alice    10       Name1      Value1\n",
      "1  1      Bob    11       Name1      Value1\n",
      "2  3  Charlie    12       Name1      Value1\n",
      "3  4    David    13       Name2      Value2\n",
      "4  5    Frank    14       Name2      Value2\n",
      "5  6    Frank    15       Name3      Value3\n",
      "6  7    Trudy    16       Name3      Value3\n"
     ]
    }
   ],
   "source": [
    "import pandas as pd\n",
    "\n",
    "# Create a sample DataFrame\n",
    "data = {'id': [[1, 1, 3], [4, 5], [6,7]],\n",
    "        'name': [['Alice', 'Bob', 'Charlie'], ['David', 'Frank'], ['Frank','Trudy']],\n",
    "        'class': [[10,11,12],[13,14],[15,16]],\n",
    "        'other_name1': ['Name1', 'Name2', 'Name3'],\n",
    "        'other_name2': ['Value1', 'Value2', 'Value3']}\n",
    "\n",
    "df = pd.DataFrame(data)\n",
    "\n",
    "# Explode the 'id' and 'name' columns\n",
    "df_expanded = df.explode(['id', 'name','class'])\n",
    "\n",
    "# Repeat the other_name columns to match the length after exploding\n",
    "num_other_name_columns = df.filter(like='other_name').shape[1]  # Count other_name columns\n",
    "\n",
    "for i in range(1, num_other_name_columns + 1):\n",
    "    column_name = f'other_name{i}'\n",
    "    df_expanded[column_name] = df[column_name].repeat(df['id'].str.len())\n",
    "\n",
    "# Reset the index\n",
    "df_expanded.reset_index(drop=True, inplace=True)\n",
    "\n",
    "print(df_expanded)"
   ]
  },
  {
   "cell_type": "code",
   "execution_count": 5,
   "id": "23afd6ec",
   "metadata": {},
   "outputs": [
    {
     "name": "stdout",
     "output_type": "stream",
     "text": [
      "   id name\n",
      "0   1    a\n",
      "1   1    b\n",
      "2   2    b\n",
      "3   3    c\n",
      "4   4    a\n",
      "5   4    b\n",
      "6   4    c\n",
      "7   5    e\n",
      "   id name\n",
      "0   1    a\n",
      "1   2    b\n",
      "2   3    c\n",
      "3   4    a\n",
      "4   5    e\n"
     ]
    }
   ],
   "source": [
    "data = {'id': [1,1,2,3,4,4,4,5],\n",
    "       'name':['a','b','b','c','a','b','c','e']}\n",
    "df = pd.DataFrame(data)\n",
    "print(df)\n",
    "\n",
    "df = df.drop_duplicates(subset=['id'],keep = 'first', ignore_index = True)\n",
    "print(df)"
   ]
  },
  {
   "cell_type": "code",
   "execution_count": null,
   "id": "f47eaa17",
   "metadata": {},
   "outputs": [],
   "source": []
  }
 ],
 "metadata": {
  "kernelspec": {
   "display_name": "Python 3 (ipykernel)",
   "language": "python",
   "name": "python3"
  },
  "language_info": {
   "codemirror_mode": {
    "name": "ipython",
    "version": 3
   },
   "file_extension": ".py",
   "mimetype": "text/x-python",
   "name": "python",
   "nbconvert_exporter": "python",
   "pygments_lexer": "ipython3",
   "version": "3.9.6"
  }
 },
 "nbformat": 4,
 "nbformat_minor": 5
}
